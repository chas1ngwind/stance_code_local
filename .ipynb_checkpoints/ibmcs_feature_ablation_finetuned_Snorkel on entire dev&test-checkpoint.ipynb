{
 "cells": [
  {
   "cell_type": "code",
   "execution_count": 2872,
   "metadata": {},
   "outputs": [],
   "source": [
    "import pandas as pd"
   ]
  },
  {
   "cell_type": "markdown",
   "metadata": {},
   "source": [
    "## Triplet Bert Related Eval Results"
   ]
  },
  {
   "cell_type": "code",
   "execution_count": 2873,
   "metadata": {},
   "outputs": [],
   "source": [
    "from sklearn.metrics import accuracy_score,f1_score,recall_score,precision_score"
   ]
  },
  {
   "cell_type": "markdown",
   "metadata": {},
   "source": [
    "# SCAR"
   ]
  },
  {
   "cell_type": "code",
   "execution_count": 2874,
   "metadata": {},
   "outputs": [],
   "source": [
    "df = pd.read_csv(\"../stance_code/Evaluation/paper_output/ori_model_with_naive_concat_margin1_costriplet_cos_siamese_bs24_lr2e_5_epoch15_raw_score.csv\")"
   ]
  },
  {
   "cell_type": "code",
   "execution_count": 2875,
   "metadata": {},
   "outputs": [
    {
     "data": {
      "text/html": [
       "<div>\n",
       "<style scoped>\n",
       "    .dataframe tbody tr th:only-of-type {\n",
       "        vertical-align: middle;\n",
       "    }\n",
       "\n",
       "    .dataframe tbody tr th {\n",
       "        vertical-align: top;\n",
       "    }\n",
       "\n",
       "    .dataframe thead th {\n",
       "        text-align: right;\n",
       "    }\n",
       "</style>\n",
       "<table border=\"1\" class=\"dataframe\">\n",
       "  <thead>\n",
       "    <tr style=\"text-align: right;\">\n",
       "      <th></th>\n",
       "      <th>undermine_score</th>\n",
       "      <th>support_score</th>\n",
       "      <th>cp_distance</th>\n",
       "      <th>cop_distance</th>\n",
       "      <th>predict_label</th>\n",
       "      <th>distance_label</th>\n",
       "      <th>gold</th>\n",
       "    </tr>\n",
       "  </thead>\n",
       "  <tbody>\n",
       "    <tr>\n",
       "      <th>0</th>\n",
       "      <td>-4.223587</td>\n",
       "      <td>3.430138</td>\n",
       "      <td>0.020014</td>\n",
       "      <td>0.012879</td>\n",
       "      <td>1</td>\n",
       "      <td>0</td>\n",
       "      <td>1</td>\n",
       "    </tr>\n",
       "    <tr>\n",
       "      <th>1</th>\n",
       "      <td>4.980137</td>\n",
       "      <td>-5.918371</td>\n",
       "      <td>1.923178</td>\n",
       "      <td>0.001339</td>\n",
       "      <td>0</td>\n",
       "      <td>0</td>\n",
       "      <td>0</td>\n",
       "    </tr>\n",
       "    <tr>\n",
       "      <th>2</th>\n",
       "      <td>-4.051531</td>\n",
       "      <td>3.098645</td>\n",
       "      <td>0.004558</td>\n",
       "      <td>0.010478</td>\n",
       "      <td>1</td>\n",
       "      <td>1</td>\n",
       "      <td>1</td>\n",
       "    </tr>\n",
       "    <tr>\n",
       "      <th>3</th>\n",
       "      <td>-1.659985</td>\n",
       "      <td>2.563246</td>\n",
       "      <td>0.277413</td>\n",
       "      <td>0.157976</td>\n",
       "      <td>1</td>\n",
       "      <td>0</td>\n",
       "      <td>1</td>\n",
       "    </tr>\n",
       "    <tr>\n",
       "      <th>4</th>\n",
       "      <td>-1.103358</td>\n",
       "      <td>5.317815</td>\n",
       "      <td>0.293655</td>\n",
       "      <td>1.842567</td>\n",
       "      <td>1</td>\n",
       "      <td>1</td>\n",
       "      <td>1</td>\n",
       "    </tr>\n",
       "    <tr>\n",
       "      <th>...</th>\n",
       "      <td>...</td>\n",
       "      <td>...</td>\n",
       "      <td>...</td>\n",
       "      <td>...</td>\n",
       "      <td>...</td>\n",
       "      <td>...</td>\n",
       "      <td>...</td>\n",
       "    </tr>\n",
       "    <tr>\n",
       "      <th>2768</th>\n",
       "      <td>2.155837</td>\n",
       "      <td>-1.537567</td>\n",
       "      <td>1.053408</td>\n",
       "      <td>0.922337</td>\n",
       "      <td>0</td>\n",
       "      <td>0</td>\n",
       "      <td>0</td>\n",
       "    </tr>\n",
       "    <tr>\n",
       "      <th>2769</th>\n",
       "      <td>6.712749</td>\n",
       "      <td>-5.522651</td>\n",
       "      <td>1.332932</td>\n",
       "      <td>0.112898</td>\n",
       "      <td>0</td>\n",
       "      <td>0</td>\n",
       "      <td>0</td>\n",
       "    </tr>\n",
       "    <tr>\n",
       "      <th>2770</th>\n",
       "      <td>-2.778294</td>\n",
       "      <td>2.587539</td>\n",
       "      <td>0.518143</td>\n",
       "      <td>1.368011</td>\n",
       "      <td>1</td>\n",
       "      <td>1</td>\n",
       "      <td>1</td>\n",
       "    </tr>\n",
       "    <tr>\n",
       "      <th>2771</th>\n",
       "      <td>-3.157147</td>\n",
       "      <td>3.050995</td>\n",
       "      <td>0.483791</td>\n",
       "      <td>1.372143</td>\n",
       "      <td>1</td>\n",
       "      <td>1</td>\n",
       "      <td>1</td>\n",
       "    </tr>\n",
       "    <tr>\n",
       "      <th>2772</th>\n",
       "      <td>0.692743</td>\n",
       "      <td>0.942525</td>\n",
       "      <td>0.609729</td>\n",
       "      <td>0.659963</td>\n",
       "      <td>1</td>\n",
       "      <td>1</td>\n",
       "      <td>1</td>\n",
       "    </tr>\n",
       "  </tbody>\n",
       "</table>\n",
       "<p>2773 rows × 7 columns</p>\n",
       "</div>"
      ],
      "text/plain": [
       "      undermine_score  support_score  cp_distance  cop_distance  \\\n",
       "0           -4.223587       3.430138     0.020014      0.012879   \n",
       "1            4.980137      -5.918371     1.923178      0.001339   \n",
       "2           -4.051531       3.098645     0.004558      0.010478   \n",
       "3           -1.659985       2.563246     0.277413      0.157976   \n",
       "4           -1.103358       5.317815     0.293655      1.842567   \n",
       "...               ...            ...          ...           ...   \n",
       "2768         2.155837      -1.537567     1.053408      0.922337   \n",
       "2769         6.712749      -5.522651     1.332932      0.112898   \n",
       "2770        -2.778294       2.587539     0.518143      1.368011   \n",
       "2771        -3.157147       3.050995     0.483791      1.372143   \n",
       "2772         0.692743       0.942525     0.609729      0.659963   \n",
       "\n",
       "      predict_label  distance_label  gold  \n",
       "0                 1               0     1  \n",
       "1                 0               0     0  \n",
       "2                 1               1     1  \n",
       "3                 1               0     1  \n",
       "4                 1               1     1  \n",
       "...             ...             ...   ...  \n",
       "2768              0               0     0  \n",
       "2769              0               0     0  \n",
       "2770              1               1     1  \n",
       "2771              1               1     1  \n",
       "2772              1               1     1  \n",
       "\n",
       "[2773 rows x 7 columns]"
      ]
     },
     "execution_count": 2875,
     "metadata": {},
     "output_type": "execute_result"
    }
   ],
   "source": [
    "df"
   ]
  },
  {
   "cell_type": "markdown",
   "metadata": {},
   "source": [
    "# logits evaluation results"
   ]
  },
  {
   "cell_type": "code",
   "execution_count": 2876,
   "metadata": {},
   "outputs": [
    {
     "data": {
      "text/plain": [
       "0.8045267489711935"
      ]
     },
     "execution_count": 2876,
     "metadata": {},
     "output_type": "execute_result"
    }
   ],
   "source": [
    "f1_score(df.gold,df.predict_label)"
   ]
  },
  {
   "cell_type": "code",
   "execution_count": 2877,
   "metadata": {},
   "outputs": [
    {
     "data": {
      "text/plain": [
       "0.8117647058823529"
      ]
     },
     "execution_count": 2877,
     "metadata": {},
     "output_type": "execute_result"
    }
   ],
   "source": [
    "precision_score(df.gold,df.predict_label)"
   ]
  },
  {
   "cell_type": "code",
   "execution_count": 2878,
   "metadata": {},
   "outputs": [
    {
     "data": {
      "text/plain": [
       "0.7974167233174712"
      ]
     },
     "execution_count": 2878,
     "metadata": {},
     "output_type": "execute_result"
    }
   ],
   "source": [
    "recall_score(df.gold,df.predict_label)"
   ]
  },
  {
   "cell_type": "code",
   "execution_count": null,
   "metadata": {},
   "outputs": [],
   "source": []
  },
  {
   "cell_type": "markdown",
   "metadata": {},
   "source": [
    "# distance evaluation results"
   ]
  },
  {
   "cell_type": "code",
   "execution_count": 2879,
   "metadata": {},
   "outputs": [
    {
     "data": {
      "text/plain": [
       "0.7819796119697469"
      ]
     },
     "execution_count": 2879,
     "metadata": {},
     "output_type": "execute_result"
    }
   ],
   "source": [
    "f1_score(df.gold,df.distance_label)"
   ]
  },
  {
   "cell_type": "code",
   "execution_count": 2880,
   "metadata": {},
   "outputs": [
    {
     "data": {
      "text/plain": [
       "0.7573248407643313"
      ]
     },
     "execution_count": 2880,
     "metadata": {},
     "output_type": "execute_result"
    }
   ],
   "source": [
    "precision_score(df.gold,df.distance_label)"
   ]
  },
  {
   "cell_type": "code",
   "execution_count": 2881,
   "metadata": {},
   "outputs": [
    {
     "data": {
      "text/plain": [
       "0.8082936777702243"
      ]
     },
     "execution_count": 2881,
     "metadata": {},
     "output_type": "execute_result"
    }
   ],
   "source": [
    "recall_score(df.gold,df.distance_label)"
   ]
  },
  {
   "cell_type": "code",
   "execution_count": null,
   "metadata": {},
   "outputs": [],
   "source": []
  },
  {
   "cell_type": "markdown",
   "metadata": {},
   "source": [
    "# consistent cases (logtis prediction == distance prediction)"
   ]
  },
  {
   "cell_type": "code",
   "execution_count": 2882,
   "metadata": {},
   "outputs": [],
   "source": [
    "df_consistency = df[df.predict_label==df.distance_label]"
   ]
  },
  {
   "cell_type": "code",
   "execution_count": 2883,
   "metadata": {},
   "outputs": [
    {
     "data": {
      "text/html": [
       "<div>\n",
       "<style scoped>\n",
       "    .dataframe tbody tr th:only-of-type {\n",
       "        vertical-align: middle;\n",
       "    }\n",
       "\n",
       "    .dataframe tbody tr th {\n",
       "        vertical-align: top;\n",
       "    }\n",
       "\n",
       "    .dataframe thead th {\n",
       "        text-align: right;\n",
       "    }\n",
       "</style>\n",
       "<table border=\"1\" class=\"dataframe\">\n",
       "  <thead>\n",
       "    <tr style=\"text-align: right;\">\n",
       "      <th></th>\n",
       "      <th>undermine_score</th>\n",
       "      <th>support_score</th>\n",
       "      <th>cp_distance</th>\n",
       "      <th>cop_distance</th>\n",
       "      <th>predict_label</th>\n",
       "      <th>distance_label</th>\n",
       "      <th>gold</th>\n",
       "    </tr>\n",
       "  </thead>\n",
       "  <tbody>\n",
       "    <tr>\n",
       "      <th>1</th>\n",
       "      <td>4.980137</td>\n",
       "      <td>-5.918371</td>\n",
       "      <td>1.923178</td>\n",
       "      <td>0.001339</td>\n",
       "      <td>0</td>\n",
       "      <td>0</td>\n",
       "      <td>0</td>\n",
       "    </tr>\n",
       "    <tr>\n",
       "      <th>2</th>\n",
       "      <td>-4.051531</td>\n",
       "      <td>3.098645</td>\n",
       "      <td>0.004558</td>\n",
       "      <td>0.010478</td>\n",
       "      <td>1</td>\n",
       "      <td>1</td>\n",
       "      <td>1</td>\n",
       "    </tr>\n",
       "    <tr>\n",
       "      <th>4</th>\n",
       "      <td>-1.103358</td>\n",
       "      <td>5.317815</td>\n",
       "      <td>0.293655</td>\n",
       "      <td>1.842567</td>\n",
       "      <td>1</td>\n",
       "      <td>1</td>\n",
       "      <td>1</td>\n",
       "    </tr>\n",
       "    <tr>\n",
       "      <th>5</th>\n",
       "      <td>-2.957279</td>\n",
       "      <td>5.612340</td>\n",
       "      <td>0.010343</td>\n",
       "      <td>1.754936</td>\n",
       "      <td>1</td>\n",
       "      <td>1</td>\n",
       "      <td>1</td>\n",
       "    </tr>\n",
       "    <tr>\n",
       "      <th>6</th>\n",
       "      <td>-2.915035</td>\n",
       "      <td>5.855358</td>\n",
       "      <td>0.004241</td>\n",
       "      <td>1.868177</td>\n",
       "      <td>1</td>\n",
       "      <td>1</td>\n",
       "      <td>1</td>\n",
       "    </tr>\n",
       "    <tr>\n",
       "      <th>...</th>\n",
       "      <td>...</td>\n",
       "      <td>...</td>\n",
       "      <td>...</td>\n",
       "      <td>...</td>\n",
       "      <td>...</td>\n",
       "      <td>...</td>\n",
       "      <td>...</td>\n",
       "    </tr>\n",
       "    <tr>\n",
       "      <th>2768</th>\n",
       "      <td>2.155837</td>\n",
       "      <td>-1.537567</td>\n",
       "      <td>1.053408</td>\n",
       "      <td>0.922337</td>\n",
       "      <td>0</td>\n",
       "      <td>0</td>\n",
       "      <td>0</td>\n",
       "    </tr>\n",
       "    <tr>\n",
       "      <th>2769</th>\n",
       "      <td>6.712749</td>\n",
       "      <td>-5.522651</td>\n",
       "      <td>1.332932</td>\n",
       "      <td>0.112898</td>\n",
       "      <td>0</td>\n",
       "      <td>0</td>\n",
       "      <td>0</td>\n",
       "    </tr>\n",
       "    <tr>\n",
       "      <th>2770</th>\n",
       "      <td>-2.778294</td>\n",
       "      <td>2.587539</td>\n",
       "      <td>0.518143</td>\n",
       "      <td>1.368011</td>\n",
       "      <td>1</td>\n",
       "      <td>1</td>\n",
       "      <td>1</td>\n",
       "    </tr>\n",
       "    <tr>\n",
       "      <th>2771</th>\n",
       "      <td>-3.157147</td>\n",
       "      <td>3.050995</td>\n",
       "      <td>0.483791</td>\n",
       "      <td>1.372143</td>\n",
       "      <td>1</td>\n",
       "      <td>1</td>\n",
       "      <td>1</td>\n",
       "    </tr>\n",
       "    <tr>\n",
       "      <th>2772</th>\n",
       "      <td>0.692743</td>\n",
       "      <td>0.942525</td>\n",
       "      <td>0.609729</td>\n",
       "      <td>0.659963</td>\n",
       "      <td>1</td>\n",
       "      <td>1</td>\n",
       "      <td>1</td>\n",
       "    </tr>\n",
       "  </tbody>\n",
       "</table>\n",
       "<p>2388 rows × 7 columns</p>\n",
       "</div>"
      ],
      "text/plain": [
       "      undermine_score  support_score  cp_distance  cop_distance  \\\n",
       "1            4.980137      -5.918371     1.923178      0.001339   \n",
       "2           -4.051531       3.098645     0.004558      0.010478   \n",
       "4           -1.103358       5.317815     0.293655      1.842567   \n",
       "5           -2.957279       5.612340     0.010343      1.754936   \n",
       "6           -2.915035       5.855358     0.004241      1.868177   \n",
       "...               ...            ...          ...           ...   \n",
       "2768         2.155837      -1.537567     1.053408      0.922337   \n",
       "2769         6.712749      -5.522651     1.332932      0.112898   \n",
       "2770        -2.778294       2.587539     0.518143      1.368011   \n",
       "2771        -3.157147       3.050995     0.483791      1.372143   \n",
       "2772         0.692743       0.942525     0.609729      0.659963   \n",
       "\n",
       "      predict_label  distance_label  gold  \n",
       "1                 0               0     0  \n",
       "2                 1               1     1  \n",
       "4                 1               1     1  \n",
       "5                 1               1     1  \n",
       "6                 1               1     1  \n",
       "...             ...             ...   ...  \n",
       "2768              0               0     0  \n",
       "2769              0               0     0  \n",
       "2770              1               1     1  \n",
       "2771              1               1     1  \n",
       "2772              1               1     1  \n",
       "\n",
       "[2388 rows x 7 columns]"
      ]
     },
     "execution_count": 2883,
     "metadata": {},
     "output_type": "execute_result"
    }
   ],
   "source": [
    "df_consistency"
   ]
  },
  {
   "cell_type": "code",
   "execution_count": 2884,
   "metadata": {},
   "outputs": [
    {
     "data": {
      "text/plain": [
       "0.8361669242658424"
      ]
     },
     "execution_count": 2884,
     "metadata": {},
     "output_type": "execute_result"
    }
   ],
   "source": [
    "f1_score(df_consistency.gold,df_consistency.distance_label)"
   ]
  },
  {
   "cell_type": "code",
   "execution_count": 2885,
   "metadata": {},
   "outputs": [
    {
     "data": {
      "text/plain": [
       "0.8228136882129278"
      ]
     },
     "execution_count": 2885,
     "metadata": {},
     "output_type": "execute_result"
    }
   ],
   "source": [
    "precision_score(df_consistency.gold,df_consistency.distance_label)"
   ]
  },
  {
   "cell_type": "code",
   "execution_count": 2886,
   "metadata": {},
   "outputs": [
    {
     "data": {
      "text/plain": [
       "0.8499607227022781"
      ]
     },
     "execution_count": 2886,
     "metadata": {},
     "output_type": "execute_result"
    }
   ],
   "source": [
    "recall_score(df_consistency.gold,df_consistency.distance_label)"
   ]
  },
  {
   "cell_type": "markdown",
   "metadata": {},
   "source": [
    "# Logits experiments of consistent cases"
   ]
  },
  {
   "cell_type": "code",
   "execution_count": 2887,
   "metadata": {},
   "outputs": [
    {
     "data": {
      "text/html": [
       "<div>\n",
       "<style scoped>\n",
       "    .dataframe tbody tr th:only-of-type {\n",
       "        vertical-align: middle;\n",
       "    }\n",
       "\n",
       "    .dataframe tbody tr th {\n",
       "        vertical-align: top;\n",
       "    }\n",
       "\n",
       "    .dataframe thead th {\n",
       "        text-align: right;\n",
       "    }\n",
       "</style>\n",
       "<table border=\"1\" class=\"dataframe\">\n",
       "  <thead>\n",
       "    <tr style=\"text-align: right;\">\n",
       "      <th></th>\n",
       "      <th>undermine_score</th>\n",
       "      <th>support_score</th>\n",
       "      <th>cp_distance</th>\n",
       "      <th>cop_distance</th>\n",
       "      <th>predict_label</th>\n",
       "      <th>distance_label</th>\n",
       "      <th>gold</th>\n",
       "    </tr>\n",
       "  </thead>\n",
       "  <tbody>\n",
       "    <tr>\n",
       "      <th>58</th>\n",
       "      <td>-6.740227</td>\n",
       "      <td>6.935597</td>\n",
       "      <td>0.017248</td>\n",
       "      <td>1.656932</td>\n",
       "      <td>1</td>\n",
       "      <td>1</td>\n",
       "      <td>1</td>\n",
       "    </tr>\n",
       "    <tr>\n",
       "      <th>87</th>\n",
       "      <td>-6.699821</td>\n",
       "      <td>6.198657</td>\n",
       "      <td>0.017356</td>\n",
       "      <td>1.790910</td>\n",
       "      <td>1</td>\n",
       "      <td>1</td>\n",
       "      <td>1</td>\n",
       "    </tr>\n",
       "    <tr>\n",
       "      <th>185</th>\n",
       "      <td>7.776163</td>\n",
       "      <td>-5.735231</td>\n",
       "      <td>1.865803</td>\n",
       "      <td>0.175052</td>\n",
       "      <td>0</td>\n",
       "      <td>0</td>\n",
       "      <td>0</td>\n",
       "    </tr>\n",
       "    <tr>\n",
       "      <th>187</th>\n",
       "      <td>8.175444</td>\n",
       "      <td>-6.853647</td>\n",
       "      <td>1.905149</td>\n",
       "      <td>0.082175</td>\n",
       "      <td>0</td>\n",
       "      <td>0</td>\n",
       "      <td>0</td>\n",
       "    </tr>\n",
       "    <tr>\n",
       "      <th>188</th>\n",
       "      <td>7.822188</td>\n",
       "      <td>-5.983000</td>\n",
       "      <td>1.871615</td>\n",
       "      <td>0.071257</td>\n",
       "      <td>0</td>\n",
       "      <td>0</td>\n",
       "      <td>0</td>\n",
       "    </tr>\n",
       "    <tr>\n",
       "      <th>...</th>\n",
       "      <td>...</td>\n",
       "      <td>...</td>\n",
       "      <td>...</td>\n",
       "      <td>...</td>\n",
       "      <td>...</td>\n",
       "      <td>...</td>\n",
       "      <td>...</td>\n",
       "    </tr>\n",
       "    <tr>\n",
       "      <th>2761</th>\n",
       "      <td>7.405044</td>\n",
       "      <td>-6.452584</td>\n",
       "      <td>1.447262</td>\n",
       "      <td>0.201506</td>\n",
       "      <td>0</td>\n",
       "      <td>0</td>\n",
       "      <td>0</td>\n",
       "    </tr>\n",
       "    <tr>\n",
       "      <th>2762</th>\n",
       "      <td>6.648351</td>\n",
       "      <td>-6.019004</td>\n",
       "      <td>1.416802</td>\n",
       "      <td>0.236846</td>\n",
       "      <td>0</td>\n",
       "      <td>0</td>\n",
       "      <td>0</td>\n",
       "    </tr>\n",
       "    <tr>\n",
       "      <th>2763</th>\n",
       "      <td>6.778597</td>\n",
       "      <td>-5.306126</td>\n",
       "      <td>1.339745</td>\n",
       "      <td>0.412176</td>\n",
       "      <td>0</td>\n",
       "      <td>0</td>\n",
       "      <td>0</td>\n",
       "    </tr>\n",
       "    <tr>\n",
       "      <th>2766</th>\n",
       "      <td>7.552144</td>\n",
       "      <td>-6.467586</td>\n",
       "      <td>1.450673</td>\n",
       "      <td>0.491035</td>\n",
       "      <td>0</td>\n",
       "      <td>0</td>\n",
       "      <td>0</td>\n",
       "    </tr>\n",
       "    <tr>\n",
       "      <th>2769</th>\n",
       "      <td>6.712749</td>\n",
       "      <td>-5.522651</td>\n",
       "      <td>1.332932</td>\n",
       "      <td>0.112898</td>\n",
       "      <td>0</td>\n",
       "      <td>0</td>\n",
       "      <td>0</td>\n",
       "    </tr>\n",
       "  </tbody>\n",
       "</table>\n",
       "<p>457 rows × 7 columns</p>\n",
       "</div>"
      ],
      "text/plain": [
       "      undermine_score  support_score  cp_distance  cop_distance  \\\n",
       "58          -6.740227       6.935597     0.017248      1.656932   \n",
       "87          -6.699821       6.198657     0.017356      1.790910   \n",
       "185          7.776163      -5.735231     1.865803      0.175052   \n",
       "187          8.175444      -6.853647     1.905149      0.082175   \n",
       "188          7.822188      -5.983000     1.871615      0.071257   \n",
       "...               ...            ...          ...           ...   \n",
       "2761         7.405044      -6.452584     1.447262      0.201506   \n",
       "2762         6.648351      -6.019004     1.416802      0.236846   \n",
       "2763         6.778597      -5.306126     1.339745      0.412176   \n",
       "2766         7.552144      -6.467586     1.450673      0.491035   \n",
       "2769         6.712749      -5.522651     1.332932      0.112898   \n",
       "\n",
       "      predict_label  distance_label  gold  \n",
       "58                1               1     1  \n",
       "87                1               1     1  \n",
       "185               0               0     0  \n",
       "187               0               0     0  \n",
       "188               0               0     0  \n",
       "...             ...             ...   ...  \n",
       "2761              0               0     0  \n",
       "2762              0               0     0  \n",
       "2763              0               0     0  \n",
       "2766              0               0     0  \n",
       "2769              0               0     0  \n",
       "\n",
       "[457 rows x 7 columns]"
      ]
     },
     "execution_count": 2887,
     "metadata": {},
     "output_type": "execute_result"
    }
   ],
   "source": [
    "df_logits_diff = df_consistency[abs(df_consistency.undermine_score-df_consistency.support_score)>11.7]\n",
    "df_logits_diff"
   ]
  },
  {
   "cell_type": "code",
   "execution_count": 2888,
   "metadata": {},
   "outputs": [
    {
     "data": {
      "text/plain": [
       "0.8530465949820788"
      ]
     },
     "execution_count": 2888,
     "metadata": {},
     "output_type": "execute_result"
    }
   ],
   "source": [
    "f1_score(df_logits_diff.gold,df_logits_diff.distance_label)"
   ]
  },
  {
   "cell_type": "code",
   "execution_count": 2889,
   "metadata": {},
   "outputs": [
    {
     "data": {
      "text/plain": [
       "0.937007874015748"
      ]
     },
     "execution_count": 2889,
     "metadata": {},
     "output_type": "execute_result"
    }
   ],
   "source": [
    "precision_score(df_logits_diff.gold,df_logits_diff.distance_label)"
   ]
  },
  {
   "cell_type": "code",
   "execution_count": 2890,
   "metadata": {},
   "outputs": [
    {
     "data": {
      "text/plain": [
       "0.7828947368421053"
      ]
     },
     "execution_count": 2890,
     "metadata": {},
     "output_type": "execute_result"
    }
   ],
   "source": [
    "recall_score(df_logits_diff.gold,df_logits_diff.distance_label)"
   ]
  },
  {
   "cell_type": "markdown",
   "metadata": {},
   "source": [
    "# Distance experiments of consistent cases"
   ]
  },
  {
   "cell_type": "code",
   "execution_count": 2891,
   "metadata": {},
   "outputs": [
    {
     "data": {
      "text/html": [
       "<div>\n",
       "<style scoped>\n",
       "    .dataframe tbody tr th:only-of-type {\n",
       "        vertical-align: middle;\n",
       "    }\n",
       "\n",
       "    .dataframe tbody tr th {\n",
       "        vertical-align: top;\n",
       "    }\n",
       "\n",
       "    .dataframe thead th {\n",
       "        text-align: right;\n",
       "    }\n",
       "</style>\n",
       "<table border=\"1\" class=\"dataframe\">\n",
       "  <thead>\n",
       "    <tr style=\"text-align: right;\">\n",
       "      <th></th>\n",
       "      <th>undermine_score</th>\n",
       "      <th>support_score</th>\n",
       "      <th>cp_distance</th>\n",
       "      <th>cop_distance</th>\n",
       "      <th>predict_label</th>\n",
       "      <th>distance_label</th>\n",
       "      <th>gold</th>\n",
       "    </tr>\n",
       "  </thead>\n",
       "  <tbody>\n",
       "    <tr>\n",
       "      <th>1</th>\n",
       "      <td>4.980137</td>\n",
       "      <td>-5.918371</td>\n",
       "      <td>1.923178</td>\n",
       "      <td>0.001339</td>\n",
       "      <td>0</td>\n",
       "      <td>0</td>\n",
       "      <td>0</td>\n",
       "    </tr>\n",
       "    <tr>\n",
       "      <th>14</th>\n",
       "      <td>4.973082</td>\n",
       "      <td>-5.446892</td>\n",
       "      <td>1.975014</td>\n",
       "      <td>0.038279</td>\n",
       "      <td>0</td>\n",
       "      <td>0</td>\n",
       "      <td>0</td>\n",
       "    </tr>\n",
       "    <tr>\n",
       "      <th>22</th>\n",
       "      <td>-2.595918</td>\n",
       "      <td>5.513531</td>\n",
       "      <td>0.011529</td>\n",
       "      <td>1.970146</td>\n",
       "      <td>1</td>\n",
       "      <td>1</td>\n",
       "      <td>1</td>\n",
       "    </tr>\n",
       "    <tr>\n",
       "      <th>27</th>\n",
       "      <td>-2.784658</td>\n",
       "      <td>5.825409</td>\n",
       "      <td>0.007447</td>\n",
       "      <td>1.957864</td>\n",
       "      <td>1</td>\n",
       "      <td>1</td>\n",
       "      <td>1</td>\n",
       "    </tr>\n",
       "    <tr>\n",
       "      <th>28</th>\n",
       "      <td>-2.574459</td>\n",
       "      <td>5.599093</td>\n",
       "      <td>0.028452</td>\n",
       "      <td>1.954338</td>\n",
       "      <td>1</td>\n",
       "      <td>1</td>\n",
       "      <td>1</td>\n",
       "    </tr>\n",
       "    <tr>\n",
       "      <th>...</th>\n",
       "      <td>...</td>\n",
       "      <td>...</td>\n",
       "      <td>...</td>\n",
       "      <td>...</td>\n",
       "      <td>...</td>\n",
       "      <td>...</td>\n",
       "      <td>...</td>\n",
       "    </tr>\n",
       "    <tr>\n",
       "      <th>2729</th>\n",
       "      <td>5.284534</td>\n",
       "      <td>-5.954888</td>\n",
       "      <td>1.962560</td>\n",
       "      <td>0.002266</td>\n",
       "      <td>0</td>\n",
       "      <td>0</td>\n",
       "      <td>0</td>\n",
       "    </tr>\n",
       "    <tr>\n",
       "      <th>2730</th>\n",
       "      <td>4.911831</td>\n",
       "      <td>-5.589746</td>\n",
       "      <td>1.951874</td>\n",
       "      <td>0.001502</td>\n",
       "      <td>0</td>\n",
       "      <td>0</td>\n",
       "      <td>0</td>\n",
       "    </tr>\n",
       "    <tr>\n",
       "      <th>2734</th>\n",
       "      <td>-2.891952</td>\n",
       "      <td>5.763986</td>\n",
       "      <td>0.001604</td>\n",
       "      <td>1.929383</td>\n",
       "      <td>1</td>\n",
       "      <td>1</td>\n",
       "      <td>1</td>\n",
       "    </tr>\n",
       "    <tr>\n",
       "      <th>2735</th>\n",
       "      <td>-2.285798</td>\n",
       "      <td>5.668227</td>\n",
       "      <td>0.008553</td>\n",
       "      <td>1.960932</td>\n",
       "      <td>1</td>\n",
       "      <td>1</td>\n",
       "      <td>1</td>\n",
       "    </tr>\n",
       "    <tr>\n",
       "      <th>2737</th>\n",
       "      <td>-2.277760</td>\n",
       "      <td>5.606550</td>\n",
       "      <td>0.010047</td>\n",
       "      <td>1.973817</td>\n",
       "      <td>1</td>\n",
       "      <td>1</td>\n",
       "      <td>1</td>\n",
       "    </tr>\n",
       "  </tbody>\n",
       "</table>\n",
       "<p>377 rows × 7 columns</p>\n",
       "</div>"
      ],
      "text/plain": [
       "      undermine_score  support_score  cp_distance  cop_distance  \\\n",
       "1            4.980137      -5.918371     1.923178      0.001339   \n",
       "14           4.973082      -5.446892     1.975014      0.038279   \n",
       "22          -2.595918       5.513531     0.011529      1.970146   \n",
       "27          -2.784658       5.825409     0.007447      1.957864   \n",
       "28          -2.574459       5.599093     0.028452      1.954338   \n",
       "...               ...            ...          ...           ...   \n",
       "2729         5.284534      -5.954888     1.962560      0.002266   \n",
       "2730         4.911831      -5.589746     1.951874      0.001502   \n",
       "2734        -2.891952       5.763986     0.001604      1.929383   \n",
       "2735        -2.285798       5.668227     0.008553      1.960932   \n",
       "2737        -2.277760       5.606550     0.010047      1.973817   \n",
       "\n",
       "      predict_label  distance_label  gold  \n",
       "1                 0               0     0  \n",
       "14                0               0     0  \n",
       "22                1               1     1  \n",
       "27                1               1     1  \n",
       "28                1               1     1  \n",
       "...             ...             ...   ...  \n",
       "2729              0               0     0  \n",
       "2730              0               0     0  \n",
       "2734              1               1     1  \n",
       "2735              1               1     1  \n",
       "2737              1               1     1  \n",
       "\n",
       "[377 rows x 7 columns]"
      ]
     },
     "execution_count": 2891,
     "metadata": {},
     "output_type": "execute_result"
    }
   ],
   "source": [
    "df_distance_diff = df_consistency[abs(df_consistency.cp_distance-df_consistency.cop_distance)>1.9]\n",
    "df_distance_diff"
   ]
  },
  {
   "cell_type": "code",
   "execution_count": 2892,
   "metadata": {},
   "outputs": [
    {
     "data": {
      "text/plain": [
       "0.9505376344086022"
      ]
     },
     "execution_count": 2892,
     "metadata": {},
     "output_type": "execute_result"
    }
   ],
   "source": [
    "f1_score(df_distance_diff.gold,df_distance_diff.distance_label)"
   ]
  },
  {
   "cell_type": "code",
   "execution_count": 2893,
   "metadata": {},
   "outputs": [
    {
     "data": {
      "text/plain": [
       "0.9208333333333333"
      ]
     },
     "execution_count": 2893,
     "metadata": {},
     "output_type": "execute_result"
    }
   ],
   "source": [
    "precision_score(df_distance_diff.gold,df_distance_diff.distance_label)"
   ]
  },
  {
   "cell_type": "code",
   "execution_count": 2894,
   "metadata": {},
   "outputs": [
    {
     "data": {
      "text/plain": [
       "0.9822222222222222"
      ]
     },
     "execution_count": 2894,
     "metadata": {},
     "output_type": "execute_result"
    }
   ],
   "source": [
    "recall_score(df_distance_diff.gold,df_distance_diff.distance_label)"
   ]
  },
  {
   "cell_type": "code",
   "execution_count": null,
   "metadata": {},
   "outputs": [],
   "source": []
  },
  {
   "cell_type": "markdown",
   "metadata": {},
   "source": [
    "# the whole cases"
   ]
  },
  {
   "cell_type": "code",
   "execution_count": 2895,
   "metadata": {},
   "outputs": [],
   "source": [
    "df_inconsistency = df"
   ]
  },
  {
   "cell_type": "code",
   "execution_count": 2896,
   "metadata": {},
   "outputs": [],
   "source": [
    "df_consistency = df[df.predict_label==df.distance_label]"
   ]
  },
  {
   "cell_type": "code",
   "execution_count": 2897,
   "metadata": {},
   "outputs": [
    {
     "data": {
      "text/html": [
       "<div>\n",
       "<style scoped>\n",
       "    .dataframe tbody tr th:only-of-type {\n",
       "        vertical-align: middle;\n",
       "    }\n",
       "\n",
       "    .dataframe tbody tr th {\n",
       "        vertical-align: top;\n",
       "    }\n",
       "\n",
       "    .dataframe thead th {\n",
       "        text-align: right;\n",
       "    }\n",
       "</style>\n",
       "<table border=\"1\" class=\"dataframe\">\n",
       "  <thead>\n",
       "    <tr style=\"text-align: right;\">\n",
       "      <th></th>\n",
       "      <th>undermine_score</th>\n",
       "      <th>support_score</th>\n",
       "      <th>cp_distance</th>\n",
       "      <th>cop_distance</th>\n",
       "      <th>predict_label</th>\n",
       "      <th>distance_label</th>\n",
       "      <th>gold</th>\n",
       "    </tr>\n",
       "  </thead>\n",
       "  <tbody>\n",
       "    <tr>\n",
       "      <th>0</th>\n",
       "      <td>-4.223587</td>\n",
       "      <td>3.430138</td>\n",
       "      <td>0.020014</td>\n",
       "      <td>0.012879</td>\n",
       "      <td>1</td>\n",
       "      <td>0</td>\n",
       "      <td>1</td>\n",
       "    </tr>\n",
       "    <tr>\n",
       "      <th>1</th>\n",
       "      <td>4.980137</td>\n",
       "      <td>-5.918371</td>\n",
       "      <td>1.923178</td>\n",
       "      <td>0.001339</td>\n",
       "      <td>0</td>\n",
       "      <td>0</td>\n",
       "      <td>0</td>\n",
       "    </tr>\n",
       "    <tr>\n",
       "      <th>2</th>\n",
       "      <td>-4.051531</td>\n",
       "      <td>3.098645</td>\n",
       "      <td>0.004558</td>\n",
       "      <td>0.010478</td>\n",
       "      <td>1</td>\n",
       "      <td>1</td>\n",
       "      <td>1</td>\n",
       "    </tr>\n",
       "    <tr>\n",
       "      <th>3</th>\n",
       "      <td>-1.659985</td>\n",
       "      <td>2.563246</td>\n",
       "      <td>0.277413</td>\n",
       "      <td>0.157976</td>\n",
       "      <td>1</td>\n",
       "      <td>0</td>\n",
       "      <td>1</td>\n",
       "    </tr>\n",
       "    <tr>\n",
       "      <th>4</th>\n",
       "      <td>-1.103358</td>\n",
       "      <td>5.317815</td>\n",
       "      <td>0.293655</td>\n",
       "      <td>1.842567</td>\n",
       "      <td>1</td>\n",
       "      <td>1</td>\n",
       "      <td>1</td>\n",
       "    </tr>\n",
       "    <tr>\n",
       "      <th>...</th>\n",
       "      <td>...</td>\n",
       "      <td>...</td>\n",
       "      <td>...</td>\n",
       "      <td>...</td>\n",
       "      <td>...</td>\n",
       "      <td>...</td>\n",
       "      <td>...</td>\n",
       "    </tr>\n",
       "    <tr>\n",
       "      <th>2768</th>\n",
       "      <td>2.155837</td>\n",
       "      <td>-1.537567</td>\n",
       "      <td>1.053408</td>\n",
       "      <td>0.922337</td>\n",
       "      <td>0</td>\n",
       "      <td>0</td>\n",
       "      <td>0</td>\n",
       "    </tr>\n",
       "    <tr>\n",
       "      <th>2769</th>\n",
       "      <td>6.712749</td>\n",
       "      <td>-5.522651</td>\n",
       "      <td>1.332932</td>\n",
       "      <td>0.112898</td>\n",
       "      <td>0</td>\n",
       "      <td>0</td>\n",
       "      <td>0</td>\n",
       "    </tr>\n",
       "    <tr>\n",
       "      <th>2770</th>\n",
       "      <td>-2.778294</td>\n",
       "      <td>2.587539</td>\n",
       "      <td>0.518143</td>\n",
       "      <td>1.368011</td>\n",
       "      <td>1</td>\n",
       "      <td>1</td>\n",
       "      <td>1</td>\n",
       "    </tr>\n",
       "    <tr>\n",
       "      <th>2771</th>\n",
       "      <td>-3.157147</td>\n",
       "      <td>3.050995</td>\n",
       "      <td>0.483791</td>\n",
       "      <td>1.372143</td>\n",
       "      <td>1</td>\n",
       "      <td>1</td>\n",
       "      <td>1</td>\n",
       "    </tr>\n",
       "    <tr>\n",
       "      <th>2772</th>\n",
       "      <td>0.692743</td>\n",
       "      <td>0.942525</td>\n",
       "      <td>0.609729</td>\n",
       "      <td>0.659963</td>\n",
       "      <td>1</td>\n",
       "      <td>1</td>\n",
       "      <td>1</td>\n",
       "    </tr>\n",
       "  </tbody>\n",
       "</table>\n",
       "<p>2773 rows × 7 columns</p>\n",
       "</div>"
      ],
      "text/plain": [
       "      undermine_score  support_score  cp_distance  cop_distance  \\\n",
       "0           -4.223587       3.430138     0.020014      0.012879   \n",
       "1            4.980137      -5.918371     1.923178      0.001339   \n",
       "2           -4.051531       3.098645     0.004558      0.010478   \n",
       "3           -1.659985       2.563246     0.277413      0.157976   \n",
       "4           -1.103358       5.317815     0.293655      1.842567   \n",
       "...               ...            ...          ...           ...   \n",
       "2768         2.155837      -1.537567     1.053408      0.922337   \n",
       "2769         6.712749      -5.522651     1.332932      0.112898   \n",
       "2770        -2.778294       2.587539     0.518143      1.368011   \n",
       "2771        -3.157147       3.050995     0.483791      1.372143   \n",
       "2772         0.692743       0.942525     0.609729      0.659963   \n",
       "\n",
       "      predict_label  distance_label  gold  \n",
       "0                 1               0     1  \n",
       "1                 0               0     0  \n",
       "2                 1               1     1  \n",
       "3                 1               0     1  \n",
       "4                 1               1     1  \n",
       "...             ...             ...   ...  \n",
       "2768              0               0     0  \n",
       "2769              0               0     0  \n",
       "2770              1               1     1  \n",
       "2771              1               1     1  \n",
       "2772              1               1     1  \n",
       "\n",
       "[2773 rows x 7 columns]"
      ]
     },
     "execution_count": 2897,
     "metadata": {},
     "output_type": "execute_result"
    }
   ],
   "source": [
    "df_inconsistency"
   ]
  },
  {
   "cell_type": "code",
   "execution_count": null,
   "metadata": {},
   "outputs": [],
   "source": []
  },
  {
   "cell_type": "markdown",
   "metadata": {},
   "source": [
    "# Consistent cases"
   ]
  },
  {
   "cell_type": "code",
   "execution_count": 2898,
   "metadata": {},
   "outputs": [],
   "source": [
    "#consistent cases analysis"
   ]
  },
  {
   "cell_type": "code",
   "execution_count": 2899,
   "metadata": {},
   "outputs": [
    {
     "data": {
      "text/plain": [
       "8.793939600000002"
      ]
     },
     "execution_count": 2899,
     "metadata": {},
     "output_type": "execute_result"
    }
   ],
   "source": [
    "consistent_logits_median = abs(df_consistency.undermine_score-df_consistency.support_score).median()\n",
    "consistent_logits_median"
   ]
  },
  {
   "cell_type": "code",
   "execution_count": 2900,
   "metadata": {},
   "outputs": [
    {
     "data": {
      "text/plain": [
       "9.215984594188107"
      ]
     },
     "execution_count": 2900,
     "metadata": {},
     "output_type": "execute_result"
    }
   ],
   "source": [
    "consistent_logits_mean = abs(df_consistency.undermine_score-df_consistency.support_score).mean()\n",
    "consistent_logits_mean"
   ]
  },
  {
   "cell_type": "code",
   "execution_count": 2901,
   "metadata": {},
   "outputs": [
    {
     "data": {
      "text/plain": [
       "23.471"
      ]
     },
     "execution_count": 2901,
     "metadata": {},
     "output_type": "execute_result"
    }
   ],
   "source": [
    "consistent_logits_max =abs(df_consistency.undermine_score-df_consistency.support_score).max()\n",
    "consistent_logits_max"
   ]
  },
  {
   "cell_type": "code",
   "execution_count": 2902,
   "metadata": {},
   "outputs": [
    {
     "data": {
      "text/plain": [
       "0.018043279999999995"
      ]
     },
     "execution_count": 2902,
     "metadata": {},
     "output_type": "execute_result"
    }
   ],
   "source": [
    "consistent_logits_min = abs(df_consistency.undermine_score-df_consistency.support_score).min()\n",
    "consistent_logits_min"
   ]
  },
  {
   "cell_type": "code",
   "execution_count": null,
   "metadata": {},
   "outputs": [],
   "source": []
  },
  {
   "cell_type": "code",
   "execution_count": 2903,
   "metadata": {},
   "outputs": [
    {
     "data": {
      "text/plain": [
       "1.5378068550000001"
      ]
     },
     "execution_count": 2903,
     "metadata": {},
     "output_type": "execute_result"
    }
   ],
   "source": [
    "consistent_distance_median = abs(df_consistency.cp_distance-df_consistency.cop_distance).median()\n",
    "consistent_distance_median"
   ]
  },
  {
   "cell_type": "code",
   "execution_count": 2904,
   "metadata": {},
   "outputs": [
    {
     "data": {
      "text/plain": [
       "1.2786064733573577"
      ]
     },
     "execution_count": 2904,
     "metadata": {},
     "output_type": "execute_result"
    }
   ],
   "source": [
    "consistent_distance_mean = abs(df_consistency.cp_distance-df_consistency.cop_distance).mean()\n",
    "consistent_distance_mean "
   ]
  },
  {
   "cell_type": "code",
   "execution_count": 2905,
   "metadata": {},
   "outputs": [
    {
     "data": {
      "text/plain": [
       "1.9834033666000002"
      ]
     },
     "execution_count": 2905,
     "metadata": {},
     "output_type": "execute_result"
    }
   ],
   "source": [
    "consistent_distance_max = abs(df_consistency.cp_distance-df_consistency.cop_distance).max()\n",
    "consistent_distance_max"
   ]
  },
  {
   "cell_type": "code",
   "execution_count": 2906,
   "metadata": {},
   "outputs": [
    {
     "data": {
      "text/plain": [
       "0.00021850000000001035"
      ]
     },
     "execution_count": 2906,
     "metadata": {},
     "output_type": "execute_result"
    }
   ],
   "source": [
    "consistent_distance_min = abs(df_consistency.cp_distance-df_consistency.cop_distance).min()\n",
    "consistent_distance_min"
   ]
  },
  {
   "cell_type": "code",
   "execution_count": null,
   "metadata": {},
   "outputs": [],
   "source": []
  },
  {
   "cell_type": "markdown",
   "metadata": {},
   "source": [
    "# all cases analysis"
   ]
  },
  {
   "cell_type": "code",
   "execution_count": 2907,
   "metadata": {},
   "outputs": [
    {
     "data": {
      "text/plain": [
       "8.5231578"
      ]
     },
     "execution_count": 2907,
     "metadata": {},
     "output_type": "execute_result"
    }
   ],
   "source": [
    "inconsistent_logits_median = abs(df_inconsistency.undermine_score-df_inconsistency.support_score).median()\n",
    "inconsistent_logits_median"
   ]
  },
  {
   "cell_type": "code",
   "execution_count": 2908,
   "metadata": {},
   "outputs": [
    {
     "data": {
      "text/plain": [
       "8.734360400601442"
      ]
     },
     "execution_count": 2908,
     "metadata": {},
     "output_type": "execute_result"
    }
   ],
   "source": [
    "inconsistent_logits_mean = abs(df_inconsistency.undermine_score-df_inconsistency.support_score).mean()\n",
    "inconsistent_logits_mean"
   ]
  },
  {
   "cell_type": "code",
   "execution_count": 2909,
   "metadata": {},
   "outputs": [
    {
     "data": {
      "text/plain": [
       "23.471"
      ]
     },
     "execution_count": 2909,
     "metadata": {},
     "output_type": "execute_result"
    }
   ],
   "source": [
    "inconsistent_logits_max = abs(df_inconsistency.undermine_score-df_inconsistency.support_score).max()\n",
    "inconsistent_logits_max"
   ]
  },
  {
   "cell_type": "code",
   "execution_count": 2910,
   "metadata": {},
   "outputs": [
    {
     "data": {
      "text/plain": [
       "0.009783112999999996"
      ]
     },
     "execution_count": 2910,
     "metadata": {},
     "output_type": "execute_result"
    }
   ],
   "source": [
    "inconsistent_logits_min = abs(df_inconsistency.undermine_score-df_inconsistency.support_score).min()\n",
    "inconsistent_logits_min"
   ]
  },
  {
   "cell_type": "code",
   "execution_count": null,
   "metadata": {},
   "outputs": [],
   "source": []
  },
  {
   "cell_type": "code",
   "execution_count": 2911,
   "metadata": {},
   "outputs": [
    {
     "data": {
      "text/plain": [
       "1.32378891"
      ]
     },
     "execution_count": 2911,
     "metadata": {},
     "output_type": "execute_result"
    }
   ],
   "source": [
    "inconsistent_distance_median = abs(df_inconsistency.cp_distance-df_inconsistency.cop_distance).median()\n",
    "inconsistent_distance_median"
   ]
  },
  {
   "cell_type": "code",
   "execution_count": 2912,
   "metadata": {},
   "outputs": [
    {
     "data": {
      "text/plain": [
       "1.1291641918884745"
      ]
     },
     "execution_count": 2912,
     "metadata": {},
     "output_type": "execute_result"
    }
   ],
   "source": [
    "inconsistent_distance_mean = abs(df_inconsistency.cp_distance-df_inconsistency.cop_distance).mean()\n",
    "inconsistent_distance_mean"
   ]
  },
  {
   "cell_type": "code",
   "execution_count": 2913,
   "metadata": {},
   "outputs": [
    {
     "data": {
      "text/plain": [
       "1.9834033666000002"
      ]
     },
     "execution_count": 2913,
     "metadata": {},
     "output_type": "execute_result"
    }
   ],
   "source": [
    "inconsistent_distance_max = abs(df_inconsistency.cp_distance-df_inconsistency.cop_distance).max()\n",
    "inconsistent_distance_max"
   ]
  },
  {
   "cell_type": "code",
   "execution_count": 2914,
   "metadata": {},
   "outputs": [
    {
     "data": {
      "text/plain": [
       "8.82149999999974e-06"
      ]
     },
     "execution_count": 2914,
     "metadata": {},
     "output_type": "execute_result"
    }
   ],
   "source": [
    "inconsistent_distance_min = abs(df_inconsistency.cp_distance-df_inconsistency.cop_distance).min()\n",
    "inconsistent_distance_min"
   ]
  },
  {
   "cell_type": "code",
   "execution_count": null,
   "metadata": {},
   "outputs": [],
   "source": []
  },
  {
   "cell_type": "code",
   "execution_count": 2915,
   "metadata": {},
   "outputs": [],
   "source": [
    "import flyingsquid\n",
    "from numpy.random import seed, rand\n",
    "import itertools\n",
    "import numpy as np"
   ]
  },
  {
   "cell_type": "code",
   "execution_count": 2916,
   "metadata": {},
   "outputs": [
    {
     "data": {
      "text/html": [
       "<div>\n",
       "<style scoped>\n",
       "    .dataframe tbody tr th:only-of-type {\n",
       "        vertical-align: middle;\n",
       "    }\n",
       "\n",
       "    .dataframe tbody tr th {\n",
       "        vertical-align: top;\n",
       "    }\n",
       "\n",
       "    .dataframe thead th {\n",
       "        text-align: right;\n",
       "    }\n",
       "</style>\n",
       "<table border=\"1\" class=\"dataframe\">\n",
       "  <thead>\n",
       "    <tr style=\"text-align: right;\">\n",
       "      <th></th>\n",
       "      <th>undermine_score</th>\n",
       "      <th>support_score</th>\n",
       "      <th>cp_distance</th>\n",
       "      <th>cop_distance</th>\n",
       "      <th>predict_label</th>\n",
       "      <th>distance_label</th>\n",
       "      <th>gold</th>\n",
       "    </tr>\n",
       "  </thead>\n",
       "  <tbody>\n",
       "    <tr>\n",
       "      <th>0</th>\n",
       "      <td>-4.223587</td>\n",
       "      <td>3.430138</td>\n",
       "      <td>0.020014</td>\n",
       "      <td>0.012879</td>\n",
       "      <td>1</td>\n",
       "      <td>0</td>\n",
       "      <td>1</td>\n",
       "    </tr>\n",
       "    <tr>\n",
       "      <th>1</th>\n",
       "      <td>4.980137</td>\n",
       "      <td>-5.918371</td>\n",
       "      <td>1.923178</td>\n",
       "      <td>0.001339</td>\n",
       "      <td>0</td>\n",
       "      <td>0</td>\n",
       "      <td>0</td>\n",
       "    </tr>\n",
       "    <tr>\n",
       "      <th>2</th>\n",
       "      <td>-4.051531</td>\n",
       "      <td>3.098645</td>\n",
       "      <td>0.004558</td>\n",
       "      <td>0.010478</td>\n",
       "      <td>1</td>\n",
       "      <td>1</td>\n",
       "      <td>1</td>\n",
       "    </tr>\n",
       "    <tr>\n",
       "      <th>3</th>\n",
       "      <td>-1.659985</td>\n",
       "      <td>2.563246</td>\n",
       "      <td>0.277413</td>\n",
       "      <td>0.157976</td>\n",
       "      <td>1</td>\n",
       "      <td>0</td>\n",
       "      <td>1</td>\n",
       "    </tr>\n",
       "    <tr>\n",
       "      <th>4</th>\n",
       "      <td>-1.103358</td>\n",
       "      <td>5.317815</td>\n",
       "      <td>0.293655</td>\n",
       "      <td>1.842567</td>\n",
       "      <td>1</td>\n",
       "      <td>1</td>\n",
       "      <td>1</td>\n",
       "    </tr>\n",
       "    <tr>\n",
       "      <th>...</th>\n",
       "      <td>...</td>\n",
       "      <td>...</td>\n",
       "      <td>...</td>\n",
       "      <td>...</td>\n",
       "      <td>...</td>\n",
       "      <td>...</td>\n",
       "      <td>...</td>\n",
       "    </tr>\n",
       "    <tr>\n",
       "      <th>2768</th>\n",
       "      <td>2.155837</td>\n",
       "      <td>-1.537567</td>\n",
       "      <td>1.053408</td>\n",
       "      <td>0.922337</td>\n",
       "      <td>0</td>\n",
       "      <td>0</td>\n",
       "      <td>0</td>\n",
       "    </tr>\n",
       "    <tr>\n",
       "      <th>2769</th>\n",
       "      <td>6.712749</td>\n",
       "      <td>-5.522651</td>\n",
       "      <td>1.332932</td>\n",
       "      <td>0.112898</td>\n",
       "      <td>0</td>\n",
       "      <td>0</td>\n",
       "      <td>0</td>\n",
       "    </tr>\n",
       "    <tr>\n",
       "      <th>2770</th>\n",
       "      <td>-2.778294</td>\n",
       "      <td>2.587539</td>\n",
       "      <td>0.518143</td>\n",
       "      <td>1.368011</td>\n",
       "      <td>1</td>\n",
       "      <td>1</td>\n",
       "      <td>1</td>\n",
       "    </tr>\n",
       "    <tr>\n",
       "      <th>2771</th>\n",
       "      <td>-3.157147</td>\n",
       "      <td>3.050995</td>\n",
       "      <td>0.483791</td>\n",
       "      <td>1.372143</td>\n",
       "      <td>1</td>\n",
       "      <td>1</td>\n",
       "      <td>1</td>\n",
       "    </tr>\n",
       "    <tr>\n",
       "      <th>2772</th>\n",
       "      <td>0.692743</td>\n",
       "      <td>0.942525</td>\n",
       "      <td>0.609729</td>\n",
       "      <td>0.659963</td>\n",
       "      <td>1</td>\n",
       "      <td>1</td>\n",
       "      <td>1</td>\n",
       "    </tr>\n",
       "  </tbody>\n",
       "</table>\n",
       "<p>2773 rows × 7 columns</p>\n",
       "</div>"
      ],
      "text/plain": [
       "      undermine_score  support_score  cp_distance  cop_distance  \\\n",
       "0           -4.223587       3.430138     0.020014      0.012879   \n",
       "1            4.980137      -5.918371     1.923178      0.001339   \n",
       "2           -4.051531       3.098645     0.004558      0.010478   \n",
       "3           -1.659985       2.563246     0.277413      0.157976   \n",
       "4           -1.103358       5.317815     0.293655      1.842567   \n",
       "...               ...            ...          ...           ...   \n",
       "2768         2.155837      -1.537567     1.053408      0.922337   \n",
       "2769         6.712749      -5.522651     1.332932      0.112898   \n",
       "2770        -2.778294       2.587539     0.518143      1.368011   \n",
       "2771        -3.157147       3.050995     0.483791      1.372143   \n",
       "2772         0.692743       0.942525     0.609729      0.659963   \n",
       "\n",
       "      predict_label  distance_label  gold  \n",
       "0                 1               0     1  \n",
       "1                 0               0     0  \n",
       "2                 1               1     1  \n",
       "3                 1               0     1  \n",
       "4                 1               1     1  \n",
       "...             ...             ...   ...  \n",
       "2768              0               0     0  \n",
       "2769              0               0     0  \n",
       "2770              1               1     1  \n",
       "2771              1               1     1  \n",
       "2772              1               1     1  \n",
       "\n",
       "[2773 rows x 7 columns]"
      ]
     },
     "execution_count": 2916,
     "metadata": {},
     "output_type": "execute_result"
    }
   ],
   "source": [
    "df_inconsistency"
   ]
  },
  {
   "cell_type": "code",
   "execution_count": 2917,
   "metadata": {},
   "outputs": [
    {
     "data": {
      "text/html": [
       "<div>\n",
       "<style scoped>\n",
       "    .dataframe tbody tr th:only-of-type {\n",
       "        vertical-align: middle;\n",
       "    }\n",
       "\n",
       "    .dataframe tbody tr th {\n",
       "        vertical-align: top;\n",
       "    }\n",
       "\n",
       "    .dataframe thead th {\n",
       "        text-align: right;\n",
       "    }\n",
       "</style>\n",
       "<table border=\"1\" class=\"dataframe\">\n",
       "  <thead>\n",
       "    <tr style=\"text-align: right;\">\n",
       "      <th></th>\n",
       "      <th>undermine_score</th>\n",
       "      <th>support_score</th>\n",
       "      <th>cp_distance</th>\n",
       "      <th>cop_distance</th>\n",
       "      <th>predict_label</th>\n",
       "      <th>distance_label</th>\n",
       "      <th>gold</th>\n",
       "    </tr>\n",
       "  </thead>\n",
       "  <tbody>\n",
       "    <tr>\n",
       "      <th>0</th>\n",
       "      <td>-4.223587</td>\n",
       "      <td>3.430138</td>\n",
       "      <td>0.020014</td>\n",
       "      <td>0.012879</td>\n",
       "      <td>1</td>\n",
       "      <td>0</td>\n",
       "      <td>1</td>\n",
       "    </tr>\n",
       "    <tr>\n",
       "      <th>1</th>\n",
       "      <td>4.980137</td>\n",
       "      <td>-5.918371</td>\n",
       "      <td>1.923178</td>\n",
       "      <td>0.001339</td>\n",
       "      <td>0</td>\n",
       "      <td>0</td>\n",
       "      <td>0</td>\n",
       "    </tr>\n",
       "    <tr>\n",
       "      <th>2</th>\n",
       "      <td>-4.051531</td>\n",
       "      <td>3.098645</td>\n",
       "      <td>0.004558</td>\n",
       "      <td>0.010478</td>\n",
       "      <td>1</td>\n",
       "      <td>1</td>\n",
       "      <td>1</td>\n",
       "    </tr>\n",
       "    <tr>\n",
       "      <th>4</th>\n",
       "      <td>-1.103358</td>\n",
       "      <td>5.317815</td>\n",
       "      <td>0.293655</td>\n",
       "      <td>1.842567</td>\n",
       "      <td>1</td>\n",
       "      <td>1</td>\n",
       "      <td>1</td>\n",
       "    </tr>\n",
       "    <tr>\n",
       "      <th>5</th>\n",
       "      <td>-2.957279</td>\n",
       "      <td>5.612340</td>\n",
       "      <td>0.010343</td>\n",
       "      <td>1.754936</td>\n",
       "      <td>1</td>\n",
       "      <td>1</td>\n",
       "      <td>1</td>\n",
       "    </tr>\n",
       "    <tr>\n",
       "      <th>...</th>\n",
       "      <td>...</td>\n",
       "      <td>...</td>\n",
       "      <td>...</td>\n",
       "      <td>...</td>\n",
       "      <td>...</td>\n",
       "      <td>...</td>\n",
       "      <td>...</td>\n",
       "    </tr>\n",
       "    <tr>\n",
       "      <th>2765</th>\n",
       "      <td>6.098404</td>\n",
       "      <td>-4.817781</td>\n",
       "      <td>1.277633</td>\n",
       "      <td>0.138542</td>\n",
       "      <td>0</td>\n",
       "      <td>0</td>\n",
       "      <td>0</td>\n",
       "    </tr>\n",
       "    <tr>\n",
       "      <th>2766</th>\n",
       "      <td>7.552144</td>\n",
       "      <td>-6.467586</td>\n",
       "      <td>1.450673</td>\n",
       "      <td>0.491035</td>\n",
       "      <td>0</td>\n",
       "      <td>0</td>\n",
       "      <td>0</td>\n",
       "    </tr>\n",
       "    <tr>\n",
       "      <th>2767</th>\n",
       "      <td>3.317570</td>\n",
       "      <td>-3.755074</td>\n",
       "      <td>1.281456</td>\n",
       "      <td>1.372968</td>\n",
       "      <td>0</td>\n",
       "      <td>1</td>\n",
       "      <td>0</td>\n",
       "    </tr>\n",
       "    <tr>\n",
       "      <th>2769</th>\n",
       "      <td>6.712749</td>\n",
       "      <td>-5.522651</td>\n",
       "      <td>1.332932</td>\n",
       "      <td>0.112898</td>\n",
       "      <td>0</td>\n",
       "      <td>0</td>\n",
       "      <td>0</td>\n",
       "    </tr>\n",
       "    <tr>\n",
       "      <th>2771</th>\n",
       "      <td>-3.157147</td>\n",
       "      <td>3.050995</td>\n",
       "      <td>0.483791</td>\n",
       "      <td>1.372143</td>\n",
       "      <td>1</td>\n",
       "      <td>1</td>\n",
       "      <td>1</td>\n",
       "    </tr>\n",
       "  </tbody>\n",
       "</table>\n",
       "<p>2303 rows × 7 columns</p>\n",
       "</div>"
      ],
      "text/plain": [
       "      undermine_score  support_score  cp_distance  cop_distance  \\\n",
       "0           -4.223587       3.430138     0.020014      0.012879   \n",
       "1            4.980137      -5.918371     1.923178      0.001339   \n",
       "2           -4.051531       3.098645     0.004558      0.010478   \n",
       "4           -1.103358       5.317815     0.293655      1.842567   \n",
       "5           -2.957279       5.612340     0.010343      1.754936   \n",
       "...               ...            ...          ...           ...   \n",
       "2765         6.098404      -4.817781     1.277633      0.138542   \n",
       "2766         7.552144      -6.467586     1.450673      0.491035   \n",
       "2767         3.317570      -3.755074     1.281456      1.372968   \n",
       "2769         6.712749      -5.522651     1.332932      0.112898   \n",
       "2771        -3.157147       3.050995     0.483791      1.372143   \n",
       "\n",
       "      predict_label  distance_label  gold  \n",
       "0                 1               0     1  \n",
       "1                 0               0     0  \n",
       "2                 1               1     1  \n",
       "4                 1               1     1  \n",
       "5                 1               1     1  \n",
       "...             ...             ...   ...  \n",
       "2765              0               0     0  \n",
       "2766              0               0     0  \n",
       "2767              0               1     0  \n",
       "2769              0               0     0  \n",
       "2771              1               1     1  \n",
       "\n",
       "[2303 rows x 7 columns]"
      ]
     },
     "execution_count": 2917,
     "metadata": {},
     "output_type": "execute_result"
    }
   ],
   "source": [
    "df_inconsistency[abs(df_inconsistency.undermine_score-df_inconsistency.support_score)>5.5]"
   ]
  },
  {
   "cell_type": "code",
   "execution_count": 2918,
   "metadata": {},
   "outputs": [
    {
     "data": {
      "text/html": [
       "<div>\n",
       "<style scoped>\n",
       "    .dataframe tbody tr th:only-of-type {\n",
       "        vertical-align: middle;\n",
       "    }\n",
       "\n",
       "    .dataframe tbody tr th {\n",
       "        vertical-align: top;\n",
       "    }\n",
       "\n",
       "    .dataframe thead th {\n",
       "        text-align: right;\n",
       "    }\n",
       "</style>\n",
       "<table border=\"1\" class=\"dataframe\">\n",
       "  <thead>\n",
       "    <tr style=\"text-align: right;\">\n",
       "      <th></th>\n",
       "      <th>undermine_score</th>\n",
       "      <th>support_score</th>\n",
       "      <th>cp_distance</th>\n",
       "      <th>cop_distance</th>\n",
       "      <th>predict_label</th>\n",
       "      <th>distance_label</th>\n",
       "      <th>gold</th>\n",
       "    </tr>\n",
       "  </thead>\n",
       "  <tbody>\n",
       "    <tr>\n",
       "      <th>1</th>\n",
       "      <td>4.980137</td>\n",
       "      <td>-5.918371</td>\n",
       "      <td>1.923178</td>\n",
       "      <td>0.001339</td>\n",
       "      <td>0</td>\n",
       "      <td>0</td>\n",
       "      <td>0</td>\n",
       "    </tr>\n",
       "    <tr>\n",
       "      <th>5</th>\n",
       "      <td>-2.957279</td>\n",
       "      <td>5.612340</td>\n",
       "      <td>0.010343</td>\n",
       "      <td>1.754936</td>\n",
       "      <td>1</td>\n",
       "      <td>1</td>\n",
       "      <td>1</td>\n",
       "    </tr>\n",
       "    <tr>\n",
       "      <th>6</th>\n",
       "      <td>-2.915035</td>\n",
       "      <td>5.855358</td>\n",
       "      <td>0.004241</td>\n",
       "      <td>1.868177</td>\n",
       "      <td>1</td>\n",
       "      <td>1</td>\n",
       "      <td>1</td>\n",
       "    </tr>\n",
       "    <tr>\n",
       "      <th>8</th>\n",
       "      <td>-2.915035</td>\n",
       "      <td>5.855358</td>\n",
       "      <td>0.004241</td>\n",
       "      <td>1.868177</td>\n",
       "      <td>1</td>\n",
       "      <td>1</td>\n",
       "      <td>1</td>\n",
       "    </tr>\n",
       "    <tr>\n",
       "      <th>9</th>\n",
       "      <td>-3.204367</td>\n",
       "      <td>4.770818</td>\n",
       "      <td>0.006627</td>\n",
       "      <td>1.694313</td>\n",
       "      <td>1</td>\n",
       "      <td>1</td>\n",
       "      <td>1</td>\n",
       "    </tr>\n",
       "    <tr>\n",
       "      <th>...</th>\n",
       "      <td>...</td>\n",
       "      <td>...</td>\n",
       "      <td>...</td>\n",
       "      <td>...</td>\n",
       "      <td>...</td>\n",
       "      <td>...</td>\n",
       "      <td>...</td>\n",
       "    </tr>\n",
       "    <tr>\n",
       "      <th>2740</th>\n",
       "      <td>-2.799630</td>\n",
       "      <td>5.131019</td>\n",
       "      <td>0.060273</td>\n",
       "      <td>1.893408</td>\n",
       "      <td>1</td>\n",
       "      <td>1</td>\n",
       "      <td>0</td>\n",
       "    </tr>\n",
       "    <tr>\n",
       "      <th>2744</th>\n",
       "      <td>-3.813086</td>\n",
       "      <td>4.495462</td>\n",
       "      <td>0.271768</td>\n",
       "      <td>1.895788</td>\n",
       "      <td>1</td>\n",
       "      <td>1</td>\n",
       "      <td>1</td>\n",
       "    </tr>\n",
       "    <tr>\n",
       "      <th>2745</th>\n",
       "      <td>-4.395286</td>\n",
       "      <td>5.101991</td>\n",
       "      <td>0.220880</td>\n",
       "      <td>1.886694</td>\n",
       "      <td>1</td>\n",
       "      <td>1</td>\n",
       "      <td>1</td>\n",
       "    </tr>\n",
       "    <tr>\n",
       "      <th>2749</th>\n",
       "      <td>11.233323</td>\n",
       "      <td>-9.810861</td>\n",
       "      <td>1.917536</td>\n",
       "      <td>0.242908</td>\n",
       "      <td>0</td>\n",
       "      <td>0</td>\n",
       "      <td>0</td>\n",
       "    </tr>\n",
       "    <tr>\n",
       "      <th>2751</th>\n",
       "      <td>10.904087</td>\n",
       "      <td>-9.416132</td>\n",
       "      <td>1.907659</td>\n",
       "      <td>0.099717</td>\n",
       "      <td>0</td>\n",
       "      <td>0</td>\n",
       "      <td>0</td>\n",
       "    </tr>\n",
       "  </tbody>\n",
       "</table>\n",
       "<p>1123 rows × 7 columns</p>\n",
       "</div>"
      ],
      "text/plain": [
       "      undermine_score  support_score  cp_distance  cop_distance  \\\n",
       "1            4.980137      -5.918371     1.923178      0.001339   \n",
       "5           -2.957279       5.612340     0.010343      1.754936   \n",
       "6           -2.915035       5.855358     0.004241      1.868177   \n",
       "8           -2.915035       5.855358     0.004241      1.868177   \n",
       "9           -3.204367       4.770818     0.006627      1.694313   \n",
       "...               ...            ...          ...           ...   \n",
       "2740        -2.799630       5.131019     0.060273      1.893408   \n",
       "2744        -3.813086       4.495462     0.271768      1.895788   \n",
       "2745        -4.395286       5.101991     0.220880      1.886694   \n",
       "2749        11.233323      -9.810861     1.917536      0.242908   \n",
       "2751        10.904087      -9.416132     1.907659      0.099717   \n",
       "\n",
       "      predict_label  distance_label  gold  \n",
       "1                 0               0     0  \n",
       "5                 1               1     1  \n",
       "6                 1               1     1  \n",
       "8                 1               1     1  \n",
       "9                 1               1     1  \n",
       "...             ...             ...   ...  \n",
       "2740              1               1     0  \n",
       "2744              1               1     1  \n",
       "2745              1               1     1  \n",
       "2749              0               0     0  \n",
       "2751              0               0     0  \n",
       "\n",
       "[1123 rows x 7 columns]"
      ]
     },
     "execution_count": 2918,
     "metadata": {},
     "output_type": "execute_result"
    }
   ],
   "source": [
    "df_inconsistency[abs(df_inconsistency.cp_distance-df_inconsistency.cop_distance)>1.6]"
   ]
  },
  {
   "cell_type": "code",
   "execution_count": 2919,
   "metadata": {},
   "outputs": [],
   "source": [
    "df_inconsistency[\"snorkel_logits_17\"]=df_inconsistency.predict_label\n",
    "df_inconsistency.snorkel_logits_17=df_inconsistency.apply(lambda x: -1 if x.snorkel_logits_17==0 else 1, axis=1)\n",
    "df_inconsistency.snorkel_logits_17=df_inconsistency.apply(lambda x: 0 if abs(x.undermine_score-x.support_score)<5 else x.snorkel_logits_17, axis=1)"
   ]
  },
  {
   "cell_type": "code",
   "execution_count": 2920,
   "metadata": {},
   "outputs": [],
   "source": [
    "df_inconsistency[\"snorkel_logits_37\"]=df_inconsistency.predict_label\n",
    "df_inconsistency.snorkel_logits_37=df_inconsistency.apply(lambda x: -1 if x.snorkel_logits_37==0 else 1, axis=1)\n",
    "df_inconsistency.snorkel_logits_37=df_inconsistency.apply(lambda x: 0 if abs(x.undermine_score-x.support_score)<5.5  else x.snorkel_logits_37, axis=1)"
   ]
  },
  {
   "cell_type": "code",
   "execution_count": 2921,
   "metadata": {},
   "outputs": [],
   "source": [
    "df_inconsistency[\"snorkel_logits_57\"]=df_inconsistency.predict_label\n",
    "df_inconsistency.snorkel_logits_57=df_inconsistency.apply(lambda x: -1 if x.snorkel_logits_57==0 else 1, axis=1)\n",
    "df_inconsistency.snorkel_logits_57=df_inconsistency.apply(lambda x: 0 if abs(x.undermine_score-x.support_score)<8.5 else x.snorkel_logits_57, axis=1)"
   ]
  },
  {
   "cell_type": "code",
   "execution_count": 2922,
   "metadata": {},
   "outputs": [],
   "source": [
    "df_inconsistency[\"snorkel_logits_77\"]=df_inconsistency.predict_label\n",
    "df_inconsistency.snorkel_logits_77=df_inconsistency.apply(lambda x: -1 if x.snorkel_logits_77==0 else 1, axis=1)\n",
    "df_inconsistency.snorkel_logits_77=df_inconsistency.apply(lambda x: 0 if abs(x.undermine_score-x.support_score)<11  else x.snorkel_logits_77, axis=1)"
   ]
  },
  {
   "cell_type": "code",
   "execution_count": 2923,
   "metadata": {},
   "outputs": [],
   "source": [
    "df_inconsistency[\"snorkel_logits_97\"]=df_inconsistency.predict_label\n",
    "df_inconsistency.snorkel_logits_97=df_inconsistency.apply(lambda x: -1 if x.snorkel_logits_97==0 else 1, axis=1)\n",
    "df_inconsistency.snorkel_logits_97=df_inconsistency.apply(lambda x: 0 if abs(x.undermine_score-x.support_score)<13  else x.snorkel_logits_97, axis=1)"
   ]
  },
  {
   "cell_type": "code",
   "execution_count": 2924,
   "metadata": {},
   "outputs": [],
   "source": [
    "df_inconsistency[\"snorkel_distance_01\"]=df_inconsistency.distance_label\n",
    "df_inconsistency.snorkel_distance_01=df_inconsistency.apply(lambda x: -1 if x.snorkel_distance_01==0 else 1, axis=1)\n",
    "df_inconsistency.snorkel_distance_01=df_inconsistency.apply(lambda x: 0 if abs(x.cp_distance-x.cop_distance)<0.01  else x.snorkel_distance_01, axis=1)"
   ]
  },
  {
   "cell_type": "code",
   "execution_count": 2925,
   "metadata": {},
   "outputs": [],
   "source": [
    "df_inconsistency[\"snorkel_distance_03\"]=df_inconsistency.distance_label\n",
    "df_inconsistency.snorkel_distance_03=df_inconsistency.apply(lambda x: -1 if x.snorkel_distance_03==0 else 1, axis=1)\n",
    "df_inconsistency.snorkel_distance_03=df_inconsistency.apply(lambda x: 0 if abs(x.cp_distance-x.cop_distance)<0.2  else x.snorkel_distance_03, axis=1)"
   ]
  },
  {
   "cell_type": "code",
   "execution_count": 2926,
   "metadata": {},
   "outputs": [],
   "source": [
    "df_inconsistency[\"snorkel_distance_05\"]=df_inconsistency.distance_label\n",
    "df_inconsistency.snorkel_distance_05=df_inconsistency.apply(lambda x: -1 if x.snorkel_distance_05==0 else 1, axis=1)\n",
    "df_inconsistency.snorkel_distance_05=df_inconsistency.apply(lambda x: 0 if abs(x.cp_distance-x.cop_distance)<1.3 else x.snorkel_distance_05, axis=1)"
   ]
  },
  {
   "cell_type": "code",
   "execution_count": 2927,
   "metadata": {},
   "outputs": [],
   "source": [
    "df_inconsistency[\"snorkel_distance_07\"]=df_inconsistency.distance_label\n",
    "df_inconsistency.snorkel_distance_07=df_inconsistency.apply(lambda x: -1 if x.snorkel_distance_07==0 else 1, axis=1)\n",
    "df_inconsistency.snorkel_distance_07=df_inconsistency.apply(lambda x: 0 if abs(x.cp_distance-x.cop_distance)<1.5  else x.snorkel_distance_07, axis=1)"
   ]
  },
  {
   "cell_type": "code",
   "execution_count": 2928,
   "metadata": {},
   "outputs": [],
   "source": [
    "df_inconsistency[\"snorkel_distance_09\"]=df_inconsistency.distance_label\n",
    "df_inconsistency.snorkel_distance_09=df_inconsistency.apply(lambda x: -1 if x.snorkel_distance_09==0 else 1, axis=1)\n",
    "df_inconsistency.snorkel_distance_09=df_inconsistency.apply(lambda x: 0 if abs(x.cp_distance-x.cop_distance)<1.9  else x.snorkel_distance_09, axis=1)"
   ]
  },
  {
   "cell_type": "code",
   "execution_count": 2929,
   "metadata": {},
   "outputs": [],
   "source": [
    "df_inconsistency[\"snorkel_label\"]=df_inconsistency.gold\n",
    "df_inconsistency.snorkel_label = df_inconsistency.apply(lambda x: -1 if x.snorkel_label==0 else 1, axis=1)"
   ]
  },
  {
   "cell_type": "code",
   "execution_count": 2930,
   "metadata": {},
   "outputs": [
    {
     "data": {
      "text/html": [
       "<div>\n",
       "<style scoped>\n",
       "    .dataframe tbody tr th:only-of-type {\n",
       "        vertical-align: middle;\n",
       "    }\n",
       "\n",
       "    .dataframe tbody tr th {\n",
       "        vertical-align: top;\n",
       "    }\n",
       "\n",
       "    .dataframe thead th {\n",
       "        text-align: right;\n",
       "    }\n",
       "</style>\n",
       "<table border=\"1\" class=\"dataframe\">\n",
       "  <thead>\n",
       "    <tr style=\"text-align: right;\">\n",
       "      <th></th>\n",
       "      <th>undermine_score</th>\n",
       "      <th>support_score</th>\n",
       "      <th>cp_distance</th>\n",
       "      <th>cop_distance</th>\n",
       "      <th>predict_label</th>\n",
       "      <th>distance_label</th>\n",
       "      <th>gold</th>\n",
       "      <th>snorkel_logits_17</th>\n",
       "      <th>snorkel_logits_37</th>\n",
       "      <th>snorkel_logits_57</th>\n",
       "      <th>snorkel_logits_77</th>\n",
       "      <th>snorkel_logits_97</th>\n",
       "      <th>snorkel_distance_01</th>\n",
       "      <th>snorkel_distance_03</th>\n",
       "      <th>snorkel_distance_05</th>\n",
       "      <th>snorkel_distance_07</th>\n",
       "      <th>snorkel_distance_09</th>\n",
       "      <th>snorkel_label</th>\n",
       "    </tr>\n",
       "  </thead>\n",
       "  <tbody>\n",
       "    <tr>\n",
       "      <th>0</th>\n",
       "      <td>-4.223587</td>\n",
       "      <td>3.430138</td>\n",
       "      <td>0.020014</td>\n",
       "      <td>0.012879</td>\n",
       "      <td>1</td>\n",
       "      <td>0</td>\n",
       "      <td>1</td>\n",
       "      <td>1.0</td>\n",
       "      <td>1.0</td>\n",
       "      <td>0.0</td>\n",
       "      <td>0.0</td>\n",
       "      <td>0.0</td>\n",
       "      <td>0.0</td>\n",
       "      <td>0.0</td>\n",
       "      <td>0.0</td>\n",
       "      <td>0.0</td>\n",
       "      <td>0.0</td>\n",
       "      <td>1</td>\n",
       "    </tr>\n",
       "    <tr>\n",
       "      <th>1</th>\n",
       "      <td>4.980137</td>\n",
       "      <td>-5.918371</td>\n",
       "      <td>1.923178</td>\n",
       "      <td>0.001339</td>\n",
       "      <td>0</td>\n",
       "      <td>0</td>\n",
       "      <td>0</td>\n",
       "      <td>-1.0</td>\n",
       "      <td>-1.0</td>\n",
       "      <td>-1.0</td>\n",
       "      <td>0.0</td>\n",
       "      <td>0.0</td>\n",
       "      <td>-1.0</td>\n",
       "      <td>-1.0</td>\n",
       "      <td>-1.0</td>\n",
       "      <td>-1.0</td>\n",
       "      <td>-1.0</td>\n",
       "      <td>-1</td>\n",
       "    </tr>\n",
       "    <tr>\n",
       "      <th>2</th>\n",
       "      <td>-4.051531</td>\n",
       "      <td>3.098645</td>\n",
       "      <td>0.004558</td>\n",
       "      <td>0.010478</td>\n",
       "      <td>1</td>\n",
       "      <td>1</td>\n",
       "      <td>1</td>\n",
       "      <td>1.0</td>\n",
       "      <td>1.0</td>\n",
       "      <td>0.0</td>\n",
       "      <td>0.0</td>\n",
       "      <td>0.0</td>\n",
       "      <td>0.0</td>\n",
       "      <td>0.0</td>\n",
       "      <td>0.0</td>\n",
       "      <td>0.0</td>\n",
       "      <td>0.0</td>\n",
       "      <td>1</td>\n",
       "    </tr>\n",
       "    <tr>\n",
       "      <th>3</th>\n",
       "      <td>-1.659985</td>\n",
       "      <td>2.563246</td>\n",
       "      <td>0.277413</td>\n",
       "      <td>0.157976</td>\n",
       "      <td>1</td>\n",
       "      <td>0</td>\n",
       "      <td>1</td>\n",
       "      <td>0.0</td>\n",
       "      <td>0.0</td>\n",
       "      <td>0.0</td>\n",
       "      <td>0.0</td>\n",
       "      <td>0.0</td>\n",
       "      <td>-1.0</td>\n",
       "      <td>0.0</td>\n",
       "      <td>0.0</td>\n",
       "      <td>0.0</td>\n",
       "      <td>0.0</td>\n",
       "      <td>1</td>\n",
       "    </tr>\n",
       "    <tr>\n",
       "      <th>4</th>\n",
       "      <td>-1.103358</td>\n",
       "      <td>5.317815</td>\n",
       "      <td>0.293655</td>\n",
       "      <td>1.842567</td>\n",
       "      <td>1</td>\n",
       "      <td>1</td>\n",
       "      <td>1</td>\n",
       "      <td>1.0</td>\n",
       "      <td>1.0</td>\n",
       "      <td>0.0</td>\n",
       "      <td>0.0</td>\n",
       "      <td>0.0</td>\n",
       "      <td>1.0</td>\n",
       "      <td>1.0</td>\n",
       "      <td>1.0</td>\n",
       "      <td>1.0</td>\n",
       "      <td>0.0</td>\n",
       "      <td>1</td>\n",
       "    </tr>\n",
       "    <tr>\n",
       "      <th>...</th>\n",
       "      <td>...</td>\n",
       "      <td>...</td>\n",
       "      <td>...</td>\n",
       "      <td>...</td>\n",
       "      <td>...</td>\n",
       "      <td>...</td>\n",
       "      <td>...</td>\n",
       "      <td>...</td>\n",
       "      <td>...</td>\n",
       "      <td>...</td>\n",
       "      <td>...</td>\n",
       "      <td>...</td>\n",
       "      <td>...</td>\n",
       "      <td>...</td>\n",
       "      <td>...</td>\n",
       "      <td>...</td>\n",
       "      <td>...</td>\n",
       "      <td>...</td>\n",
       "    </tr>\n",
       "    <tr>\n",
       "      <th>2768</th>\n",
       "      <td>2.155837</td>\n",
       "      <td>-1.537567</td>\n",
       "      <td>1.053408</td>\n",
       "      <td>0.922337</td>\n",
       "      <td>0</td>\n",
       "      <td>0</td>\n",
       "      <td>0</td>\n",
       "      <td>0.0</td>\n",
       "      <td>0.0</td>\n",
       "      <td>0.0</td>\n",
       "      <td>0.0</td>\n",
       "      <td>0.0</td>\n",
       "      <td>-1.0</td>\n",
       "      <td>0.0</td>\n",
       "      <td>0.0</td>\n",
       "      <td>0.0</td>\n",
       "      <td>0.0</td>\n",
       "      <td>-1</td>\n",
       "    </tr>\n",
       "    <tr>\n",
       "      <th>2769</th>\n",
       "      <td>6.712749</td>\n",
       "      <td>-5.522651</td>\n",
       "      <td>1.332932</td>\n",
       "      <td>0.112898</td>\n",
       "      <td>0</td>\n",
       "      <td>0</td>\n",
       "      <td>0</td>\n",
       "      <td>-1.0</td>\n",
       "      <td>-1.0</td>\n",
       "      <td>-1.0</td>\n",
       "      <td>-1.0</td>\n",
       "      <td>0.0</td>\n",
       "      <td>-1.0</td>\n",
       "      <td>-1.0</td>\n",
       "      <td>0.0</td>\n",
       "      <td>0.0</td>\n",
       "      <td>0.0</td>\n",
       "      <td>-1</td>\n",
       "    </tr>\n",
       "    <tr>\n",
       "      <th>2770</th>\n",
       "      <td>-2.778294</td>\n",
       "      <td>2.587539</td>\n",
       "      <td>0.518143</td>\n",
       "      <td>1.368011</td>\n",
       "      <td>1</td>\n",
       "      <td>1</td>\n",
       "      <td>1</td>\n",
       "      <td>1.0</td>\n",
       "      <td>0.0</td>\n",
       "      <td>0.0</td>\n",
       "      <td>0.0</td>\n",
       "      <td>0.0</td>\n",
       "      <td>1.0</td>\n",
       "      <td>1.0</td>\n",
       "      <td>0.0</td>\n",
       "      <td>0.0</td>\n",
       "      <td>0.0</td>\n",
       "      <td>1</td>\n",
       "    </tr>\n",
       "    <tr>\n",
       "      <th>2771</th>\n",
       "      <td>-3.157147</td>\n",
       "      <td>3.050995</td>\n",
       "      <td>0.483791</td>\n",
       "      <td>1.372143</td>\n",
       "      <td>1</td>\n",
       "      <td>1</td>\n",
       "      <td>1</td>\n",
       "      <td>1.0</td>\n",
       "      <td>1.0</td>\n",
       "      <td>0.0</td>\n",
       "      <td>0.0</td>\n",
       "      <td>0.0</td>\n",
       "      <td>1.0</td>\n",
       "      <td>1.0</td>\n",
       "      <td>0.0</td>\n",
       "      <td>0.0</td>\n",
       "      <td>0.0</td>\n",
       "      <td>1</td>\n",
       "    </tr>\n",
       "    <tr>\n",
       "      <th>2772</th>\n",
       "      <td>0.692743</td>\n",
       "      <td>0.942525</td>\n",
       "      <td>0.609729</td>\n",
       "      <td>0.659963</td>\n",
       "      <td>1</td>\n",
       "      <td>1</td>\n",
       "      <td>1</td>\n",
       "      <td>0.0</td>\n",
       "      <td>0.0</td>\n",
       "      <td>0.0</td>\n",
       "      <td>0.0</td>\n",
       "      <td>0.0</td>\n",
       "      <td>1.0</td>\n",
       "      <td>0.0</td>\n",
       "      <td>0.0</td>\n",
       "      <td>0.0</td>\n",
       "      <td>0.0</td>\n",
       "      <td>1</td>\n",
       "    </tr>\n",
       "  </tbody>\n",
       "</table>\n",
       "<p>2773 rows × 18 columns</p>\n",
       "</div>"
      ],
      "text/plain": [
       "      undermine_score  support_score  cp_distance  cop_distance  \\\n",
       "0           -4.223587       3.430138     0.020014      0.012879   \n",
       "1            4.980137      -5.918371     1.923178      0.001339   \n",
       "2           -4.051531       3.098645     0.004558      0.010478   \n",
       "3           -1.659985       2.563246     0.277413      0.157976   \n",
       "4           -1.103358       5.317815     0.293655      1.842567   \n",
       "...               ...            ...          ...           ...   \n",
       "2768         2.155837      -1.537567     1.053408      0.922337   \n",
       "2769         6.712749      -5.522651     1.332932      0.112898   \n",
       "2770        -2.778294       2.587539     0.518143      1.368011   \n",
       "2771        -3.157147       3.050995     0.483791      1.372143   \n",
       "2772         0.692743       0.942525     0.609729      0.659963   \n",
       "\n",
       "      predict_label  distance_label  gold  snorkel_logits_17  \\\n",
       "0                 1               0     1                1.0   \n",
       "1                 0               0     0               -1.0   \n",
       "2                 1               1     1                1.0   \n",
       "3                 1               0     1                0.0   \n",
       "4                 1               1     1                1.0   \n",
       "...             ...             ...   ...                ...   \n",
       "2768              0               0     0                0.0   \n",
       "2769              0               0     0               -1.0   \n",
       "2770              1               1     1                1.0   \n",
       "2771              1               1     1                1.0   \n",
       "2772              1               1     1                0.0   \n",
       "\n",
       "      snorkel_logits_37  snorkel_logits_57  snorkel_logits_77  \\\n",
       "0                   1.0                0.0                0.0   \n",
       "1                  -1.0               -1.0                0.0   \n",
       "2                   1.0                0.0                0.0   \n",
       "3                   0.0                0.0                0.0   \n",
       "4                   1.0                0.0                0.0   \n",
       "...                 ...                ...                ...   \n",
       "2768                0.0                0.0                0.0   \n",
       "2769               -1.0               -1.0               -1.0   \n",
       "2770                0.0                0.0                0.0   \n",
       "2771                1.0                0.0                0.0   \n",
       "2772                0.0                0.0                0.0   \n",
       "\n",
       "      snorkel_logits_97  snorkel_distance_01  snorkel_distance_03  \\\n",
       "0                   0.0                  0.0                  0.0   \n",
       "1                   0.0                 -1.0                 -1.0   \n",
       "2                   0.0                  0.0                  0.0   \n",
       "3                   0.0                 -1.0                  0.0   \n",
       "4                   0.0                  1.0                  1.0   \n",
       "...                 ...                  ...                  ...   \n",
       "2768                0.0                 -1.0                  0.0   \n",
       "2769                0.0                 -1.0                 -1.0   \n",
       "2770                0.0                  1.0                  1.0   \n",
       "2771                0.0                  1.0                  1.0   \n",
       "2772                0.0                  1.0                  0.0   \n",
       "\n",
       "      snorkel_distance_05  snorkel_distance_07  snorkel_distance_09  \\\n",
       "0                     0.0                  0.0                  0.0   \n",
       "1                    -1.0                 -1.0                 -1.0   \n",
       "2                     0.0                  0.0                  0.0   \n",
       "3                     0.0                  0.0                  0.0   \n",
       "4                     1.0                  1.0                  0.0   \n",
       "...                   ...                  ...                  ...   \n",
       "2768                  0.0                  0.0                  0.0   \n",
       "2769                  0.0                  0.0                  0.0   \n",
       "2770                  0.0                  0.0                  0.0   \n",
       "2771                  0.0                  0.0                  0.0   \n",
       "2772                  0.0                  0.0                  0.0   \n",
       "\n",
       "      snorkel_label  \n",
       "0                 1  \n",
       "1                -1  \n",
       "2                 1  \n",
       "3                 1  \n",
       "4                 1  \n",
       "...             ...  \n",
       "2768             -1  \n",
       "2769             -1  \n",
       "2770              1  \n",
       "2771              1  \n",
       "2772              1  \n",
       "\n",
       "[2773 rows x 18 columns]"
      ]
     },
     "execution_count": 2930,
     "metadata": {},
     "output_type": "execute_result"
    }
   ],
   "source": [
    "df_inconsistency"
   ]
  },
  {
   "cell_type": "code",
   "execution_count": null,
   "metadata": {},
   "outputs": [],
   "source": []
  },
  {
   "cell_type": "code",
   "execution_count": 2931,
   "metadata": {},
   "outputs": [
    {
     "data": {
      "text/html": [
       "<div>\n",
       "<style scoped>\n",
       "    .dataframe tbody tr th:only-of-type {\n",
       "        vertical-align: middle;\n",
       "    }\n",
       "\n",
       "    .dataframe tbody tr th {\n",
       "        vertical-align: top;\n",
       "    }\n",
       "\n",
       "    .dataframe thead th {\n",
       "        text-align: right;\n",
       "    }\n",
       "</style>\n",
       "<table border=\"1\" class=\"dataframe\">\n",
       "  <thead>\n",
       "    <tr style=\"text-align: right;\">\n",
       "      <th></th>\n",
       "      <th>snorkel_logits_17</th>\n",
       "      <th>snorkel_logits_37</th>\n",
       "      <th>snorkel_logits_57</th>\n",
       "      <th>snorkel_logits_77</th>\n",
       "      <th>snorkel_logits_97</th>\n",
       "      <th>snorkel_distance_01</th>\n",
       "      <th>snorkel_distance_03</th>\n",
       "      <th>snorkel_distance_05</th>\n",
       "      <th>snorkel_distance_07</th>\n",
       "      <th>snorkel_distance_09</th>\n",
       "    </tr>\n",
       "  </thead>\n",
       "  <tbody>\n",
       "    <tr>\n",
       "      <th>0</th>\n",
       "      <td>1.0</td>\n",
       "      <td>1.0</td>\n",
       "      <td>0.0</td>\n",
       "      <td>0.0</td>\n",
       "      <td>0.0</td>\n",
       "      <td>0.0</td>\n",
       "      <td>0.0</td>\n",
       "      <td>0.0</td>\n",
       "      <td>0.0</td>\n",
       "      <td>0.0</td>\n",
       "    </tr>\n",
       "    <tr>\n",
       "      <th>1</th>\n",
       "      <td>-1.0</td>\n",
       "      <td>-1.0</td>\n",
       "      <td>-1.0</td>\n",
       "      <td>0.0</td>\n",
       "      <td>0.0</td>\n",
       "      <td>-1.0</td>\n",
       "      <td>-1.0</td>\n",
       "      <td>-1.0</td>\n",
       "      <td>-1.0</td>\n",
       "      <td>-1.0</td>\n",
       "    </tr>\n",
       "    <tr>\n",
       "      <th>2</th>\n",
       "      <td>1.0</td>\n",
       "      <td>1.0</td>\n",
       "      <td>0.0</td>\n",
       "      <td>0.0</td>\n",
       "      <td>0.0</td>\n",
       "      <td>0.0</td>\n",
       "      <td>0.0</td>\n",
       "      <td>0.0</td>\n",
       "      <td>0.0</td>\n",
       "      <td>0.0</td>\n",
       "    </tr>\n",
       "    <tr>\n",
       "      <th>3</th>\n",
       "      <td>0.0</td>\n",
       "      <td>0.0</td>\n",
       "      <td>0.0</td>\n",
       "      <td>0.0</td>\n",
       "      <td>0.0</td>\n",
       "      <td>-1.0</td>\n",
       "      <td>0.0</td>\n",
       "      <td>0.0</td>\n",
       "      <td>0.0</td>\n",
       "      <td>0.0</td>\n",
       "    </tr>\n",
       "    <tr>\n",
       "      <th>4</th>\n",
       "      <td>1.0</td>\n",
       "      <td>1.0</td>\n",
       "      <td>0.0</td>\n",
       "      <td>0.0</td>\n",
       "      <td>0.0</td>\n",
       "      <td>1.0</td>\n",
       "      <td>1.0</td>\n",
       "      <td>1.0</td>\n",
       "      <td>1.0</td>\n",
       "      <td>0.0</td>\n",
       "    </tr>\n",
       "    <tr>\n",
       "      <th>...</th>\n",
       "      <td>...</td>\n",
       "      <td>...</td>\n",
       "      <td>...</td>\n",
       "      <td>...</td>\n",
       "      <td>...</td>\n",
       "      <td>...</td>\n",
       "      <td>...</td>\n",
       "      <td>...</td>\n",
       "      <td>...</td>\n",
       "      <td>...</td>\n",
       "    </tr>\n",
       "    <tr>\n",
       "      <th>2768</th>\n",
       "      <td>0.0</td>\n",
       "      <td>0.0</td>\n",
       "      <td>0.0</td>\n",
       "      <td>0.0</td>\n",
       "      <td>0.0</td>\n",
       "      <td>-1.0</td>\n",
       "      <td>0.0</td>\n",
       "      <td>0.0</td>\n",
       "      <td>0.0</td>\n",
       "      <td>0.0</td>\n",
       "    </tr>\n",
       "    <tr>\n",
       "      <th>2769</th>\n",
       "      <td>-1.0</td>\n",
       "      <td>-1.0</td>\n",
       "      <td>-1.0</td>\n",
       "      <td>-1.0</td>\n",
       "      <td>0.0</td>\n",
       "      <td>-1.0</td>\n",
       "      <td>-1.0</td>\n",
       "      <td>0.0</td>\n",
       "      <td>0.0</td>\n",
       "      <td>0.0</td>\n",
       "    </tr>\n",
       "    <tr>\n",
       "      <th>2770</th>\n",
       "      <td>1.0</td>\n",
       "      <td>0.0</td>\n",
       "      <td>0.0</td>\n",
       "      <td>0.0</td>\n",
       "      <td>0.0</td>\n",
       "      <td>1.0</td>\n",
       "      <td>1.0</td>\n",
       "      <td>0.0</td>\n",
       "      <td>0.0</td>\n",
       "      <td>0.0</td>\n",
       "    </tr>\n",
       "    <tr>\n",
       "      <th>2771</th>\n",
       "      <td>1.0</td>\n",
       "      <td>1.0</td>\n",
       "      <td>0.0</td>\n",
       "      <td>0.0</td>\n",
       "      <td>0.0</td>\n",
       "      <td>1.0</td>\n",
       "      <td>1.0</td>\n",
       "      <td>0.0</td>\n",
       "      <td>0.0</td>\n",
       "      <td>0.0</td>\n",
       "    </tr>\n",
       "    <tr>\n",
       "      <th>2772</th>\n",
       "      <td>0.0</td>\n",
       "      <td>0.0</td>\n",
       "      <td>0.0</td>\n",
       "      <td>0.0</td>\n",
       "      <td>0.0</td>\n",
       "      <td>1.0</td>\n",
       "      <td>0.0</td>\n",
       "      <td>0.0</td>\n",
       "      <td>0.0</td>\n",
       "      <td>0.0</td>\n",
       "    </tr>\n",
       "  </tbody>\n",
       "</table>\n",
       "<p>2773 rows × 10 columns</p>\n",
       "</div>"
      ],
      "text/plain": [
       "      snorkel_logits_17  snorkel_logits_37  snorkel_logits_57  \\\n",
       "0                   1.0                1.0                0.0   \n",
       "1                  -1.0               -1.0               -1.0   \n",
       "2                   1.0                1.0                0.0   \n",
       "3                   0.0                0.0                0.0   \n",
       "4                   1.0                1.0                0.0   \n",
       "...                 ...                ...                ...   \n",
       "2768                0.0                0.0                0.0   \n",
       "2769               -1.0               -1.0               -1.0   \n",
       "2770                1.0                0.0                0.0   \n",
       "2771                1.0                1.0                0.0   \n",
       "2772                0.0                0.0                0.0   \n",
       "\n",
       "      snorkel_logits_77  snorkel_logits_97  snorkel_distance_01  \\\n",
       "0                   0.0                0.0                  0.0   \n",
       "1                   0.0                0.0                 -1.0   \n",
       "2                   0.0                0.0                  0.0   \n",
       "3                   0.0                0.0                 -1.0   \n",
       "4                   0.0                0.0                  1.0   \n",
       "...                 ...                ...                  ...   \n",
       "2768                0.0                0.0                 -1.0   \n",
       "2769               -1.0                0.0                 -1.0   \n",
       "2770                0.0                0.0                  1.0   \n",
       "2771                0.0                0.0                  1.0   \n",
       "2772                0.0                0.0                  1.0   \n",
       "\n",
       "      snorkel_distance_03  snorkel_distance_05  snorkel_distance_07  \\\n",
       "0                     0.0                  0.0                  0.0   \n",
       "1                    -1.0                 -1.0                 -1.0   \n",
       "2                     0.0                  0.0                  0.0   \n",
       "3                     0.0                  0.0                  0.0   \n",
       "4                     1.0                  1.0                  1.0   \n",
       "...                   ...                  ...                  ...   \n",
       "2768                  0.0                  0.0                  0.0   \n",
       "2769                 -1.0                  0.0                  0.0   \n",
       "2770                  1.0                  0.0                  0.0   \n",
       "2771                  1.0                  0.0                  0.0   \n",
       "2772                  0.0                  0.0                  0.0   \n",
       "\n",
       "      snorkel_distance_09  \n",
       "0                     0.0  \n",
       "1                    -1.0  \n",
       "2                     0.0  \n",
       "3                     0.0  \n",
       "4                     0.0  \n",
       "...                   ...  \n",
       "2768                  0.0  \n",
       "2769                  0.0  \n",
       "2770                  0.0  \n",
       "2771                  0.0  \n",
       "2772                  0.0  \n",
       "\n",
       "[2773 rows x 10 columns]"
      ]
     },
     "execution_count": 2931,
     "metadata": {},
     "output_type": "execute_result"
    }
   ],
   "source": [
    "df_inconsistency.iloc[:,-11:-1]"
   ]
  },
  {
   "cell_type": "code",
   "execution_count": 2932,
   "metadata": {},
   "outputs": [
    {
     "data": {
      "text/plain": [
       "array([[ 1.,  1.,  0., ...,  0.,  0.,  0.],\n",
       "       [-1., -1., -1., ..., -1., -1., -1.],\n",
       "       [ 1.,  1.,  0., ...,  0.,  0.,  0.],\n",
       "       ...,\n",
       "       [ 1.,  0.,  0., ...,  0.,  0.,  0.],\n",
       "       [ 1.,  1.,  0., ...,  0.,  0.,  0.],\n",
       "       [ 0.,  0.,  0., ...,  0.,  0.,  0.]])"
      ]
     },
     "execution_count": 2932,
     "metadata": {},
     "output_type": "execute_result"
    }
   ],
   "source": [
    "df_inconsistency.iloc[:,-11:-1].values"
   ]
  },
  {
   "cell_type": "code",
   "execution_count": 2933,
   "metadata": {},
   "outputs": [
    {
     "data": {
      "text/plain": [
       "array([ 1, -1,  1, ...,  1,  1,  1], dtype=int64)"
      ]
     },
     "execution_count": 2933,
     "metadata": {},
     "output_type": "execute_result"
    }
   ],
   "source": [
    "df_inconsistency.snorkel_label.values"
   ]
  },
  {
   "cell_type": "code",
   "execution_count": 2934,
   "metadata": {},
   "outputs": [],
   "source": [
    "L_dev = df_inconsistency.iloc[:,-11:-1].values"
   ]
  },
  {
   "cell_type": "code",
   "execution_count": 2935,
   "metadata": {},
   "outputs": [],
   "source": [
    "Y_dev = df_inconsistency.snorkel_label.values"
   ]
  },
  {
   "cell_type": "code",
   "execution_count": null,
   "metadata": {},
   "outputs": [],
   "source": []
  },
  {
   "cell_type": "code",
   "execution_count": 2936,
   "metadata": {},
   "outputs": [],
   "source": [
    "# df_L_train = pd.read_csv(\"../stance_code_local/finetuned_L_train_entiretest.csv\")\n",
    "df_L_train = df_inconsistency"
   ]
  },
  {
   "cell_type": "code",
   "execution_count": 2937,
   "metadata": {},
   "outputs": [
    {
     "data": {
      "text/html": [
       "<div>\n",
       "<style scoped>\n",
       "    .dataframe tbody tr th:only-of-type {\n",
       "        vertical-align: middle;\n",
       "    }\n",
       "\n",
       "    .dataframe tbody tr th {\n",
       "        vertical-align: top;\n",
       "    }\n",
       "\n",
       "    .dataframe thead th {\n",
       "        text-align: right;\n",
       "    }\n",
       "</style>\n",
       "<table border=\"1\" class=\"dataframe\">\n",
       "  <thead>\n",
       "    <tr style=\"text-align: right;\">\n",
       "      <th></th>\n",
       "      <th>snorkel_logits_17</th>\n",
       "      <th>snorkel_logits_37</th>\n",
       "      <th>snorkel_logits_57</th>\n",
       "      <th>snorkel_logits_77</th>\n",
       "      <th>snorkel_logits_97</th>\n",
       "      <th>snorkel_distance_01</th>\n",
       "      <th>snorkel_distance_03</th>\n",
       "      <th>snorkel_distance_05</th>\n",
       "      <th>snorkel_distance_07</th>\n",
       "      <th>snorkel_distance_09</th>\n",
       "    </tr>\n",
       "  </thead>\n",
       "  <tbody>\n",
       "    <tr>\n",
       "      <th>0</th>\n",
       "      <td>1.0</td>\n",
       "      <td>1.0</td>\n",
       "      <td>0.0</td>\n",
       "      <td>0.0</td>\n",
       "      <td>0.0</td>\n",
       "      <td>0.0</td>\n",
       "      <td>0.0</td>\n",
       "      <td>0.0</td>\n",
       "      <td>0.0</td>\n",
       "      <td>0.0</td>\n",
       "    </tr>\n",
       "    <tr>\n",
       "      <th>1</th>\n",
       "      <td>-1.0</td>\n",
       "      <td>-1.0</td>\n",
       "      <td>-1.0</td>\n",
       "      <td>0.0</td>\n",
       "      <td>0.0</td>\n",
       "      <td>-1.0</td>\n",
       "      <td>-1.0</td>\n",
       "      <td>-1.0</td>\n",
       "      <td>-1.0</td>\n",
       "      <td>-1.0</td>\n",
       "    </tr>\n",
       "    <tr>\n",
       "      <th>2</th>\n",
       "      <td>1.0</td>\n",
       "      <td>1.0</td>\n",
       "      <td>0.0</td>\n",
       "      <td>0.0</td>\n",
       "      <td>0.0</td>\n",
       "      <td>0.0</td>\n",
       "      <td>0.0</td>\n",
       "      <td>0.0</td>\n",
       "      <td>0.0</td>\n",
       "      <td>0.0</td>\n",
       "    </tr>\n",
       "    <tr>\n",
       "      <th>3</th>\n",
       "      <td>0.0</td>\n",
       "      <td>0.0</td>\n",
       "      <td>0.0</td>\n",
       "      <td>0.0</td>\n",
       "      <td>0.0</td>\n",
       "      <td>-1.0</td>\n",
       "      <td>0.0</td>\n",
       "      <td>0.0</td>\n",
       "      <td>0.0</td>\n",
       "      <td>0.0</td>\n",
       "    </tr>\n",
       "    <tr>\n",
       "      <th>4</th>\n",
       "      <td>1.0</td>\n",
       "      <td>1.0</td>\n",
       "      <td>0.0</td>\n",
       "      <td>0.0</td>\n",
       "      <td>0.0</td>\n",
       "      <td>1.0</td>\n",
       "      <td>1.0</td>\n",
       "      <td>1.0</td>\n",
       "      <td>1.0</td>\n",
       "      <td>0.0</td>\n",
       "    </tr>\n",
       "    <tr>\n",
       "      <th>...</th>\n",
       "      <td>...</td>\n",
       "      <td>...</td>\n",
       "      <td>...</td>\n",
       "      <td>...</td>\n",
       "      <td>...</td>\n",
       "      <td>...</td>\n",
       "      <td>...</td>\n",
       "      <td>...</td>\n",
       "      <td>...</td>\n",
       "      <td>...</td>\n",
       "    </tr>\n",
       "    <tr>\n",
       "      <th>2768</th>\n",
       "      <td>0.0</td>\n",
       "      <td>0.0</td>\n",
       "      <td>0.0</td>\n",
       "      <td>0.0</td>\n",
       "      <td>0.0</td>\n",
       "      <td>-1.0</td>\n",
       "      <td>0.0</td>\n",
       "      <td>0.0</td>\n",
       "      <td>0.0</td>\n",
       "      <td>0.0</td>\n",
       "    </tr>\n",
       "    <tr>\n",
       "      <th>2769</th>\n",
       "      <td>-1.0</td>\n",
       "      <td>-1.0</td>\n",
       "      <td>-1.0</td>\n",
       "      <td>-1.0</td>\n",
       "      <td>0.0</td>\n",
       "      <td>-1.0</td>\n",
       "      <td>-1.0</td>\n",
       "      <td>0.0</td>\n",
       "      <td>0.0</td>\n",
       "      <td>0.0</td>\n",
       "    </tr>\n",
       "    <tr>\n",
       "      <th>2770</th>\n",
       "      <td>1.0</td>\n",
       "      <td>0.0</td>\n",
       "      <td>0.0</td>\n",
       "      <td>0.0</td>\n",
       "      <td>0.0</td>\n",
       "      <td>1.0</td>\n",
       "      <td>1.0</td>\n",
       "      <td>0.0</td>\n",
       "      <td>0.0</td>\n",
       "      <td>0.0</td>\n",
       "    </tr>\n",
       "    <tr>\n",
       "      <th>2771</th>\n",
       "      <td>1.0</td>\n",
       "      <td>1.0</td>\n",
       "      <td>0.0</td>\n",
       "      <td>0.0</td>\n",
       "      <td>0.0</td>\n",
       "      <td>1.0</td>\n",
       "      <td>1.0</td>\n",
       "      <td>0.0</td>\n",
       "      <td>0.0</td>\n",
       "      <td>0.0</td>\n",
       "    </tr>\n",
       "    <tr>\n",
       "      <th>2772</th>\n",
       "      <td>0.0</td>\n",
       "      <td>0.0</td>\n",
       "      <td>0.0</td>\n",
       "      <td>0.0</td>\n",
       "      <td>0.0</td>\n",
       "      <td>1.0</td>\n",
       "      <td>0.0</td>\n",
       "      <td>0.0</td>\n",
       "      <td>0.0</td>\n",
       "      <td>0.0</td>\n",
       "    </tr>\n",
       "  </tbody>\n",
       "</table>\n",
       "<p>2773 rows × 10 columns</p>\n",
       "</div>"
      ],
      "text/plain": [
       "      snorkel_logits_17  snorkel_logits_37  snorkel_logits_57  \\\n",
       "0                   1.0                1.0                0.0   \n",
       "1                  -1.0               -1.0               -1.0   \n",
       "2                   1.0                1.0                0.0   \n",
       "3                   0.0                0.0                0.0   \n",
       "4                   1.0                1.0                0.0   \n",
       "...                 ...                ...                ...   \n",
       "2768                0.0                0.0                0.0   \n",
       "2769               -1.0               -1.0               -1.0   \n",
       "2770                1.0                0.0                0.0   \n",
       "2771                1.0                1.0                0.0   \n",
       "2772                0.0                0.0                0.0   \n",
       "\n",
       "      snorkel_logits_77  snorkel_logits_97  snorkel_distance_01  \\\n",
       "0                   0.0                0.0                  0.0   \n",
       "1                   0.0                0.0                 -1.0   \n",
       "2                   0.0                0.0                  0.0   \n",
       "3                   0.0                0.0                 -1.0   \n",
       "4                   0.0                0.0                  1.0   \n",
       "...                 ...                ...                  ...   \n",
       "2768                0.0                0.0                 -1.0   \n",
       "2769               -1.0                0.0                 -1.0   \n",
       "2770                0.0                0.0                  1.0   \n",
       "2771                0.0                0.0                  1.0   \n",
       "2772                0.0                0.0                  1.0   \n",
       "\n",
       "      snorkel_distance_03  snorkel_distance_05  snorkel_distance_07  \\\n",
       "0                     0.0                  0.0                  0.0   \n",
       "1                    -1.0                 -1.0                 -1.0   \n",
       "2                     0.0                  0.0                  0.0   \n",
       "3                     0.0                  0.0                  0.0   \n",
       "4                     1.0                  1.0                  1.0   \n",
       "...                   ...                  ...                  ...   \n",
       "2768                  0.0                  0.0                  0.0   \n",
       "2769                 -1.0                  0.0                  0.0   \n",
       "2770                  1.0                  0.0                  0.0   \n",
       "2771                  1.0                  0.0                  0.0   \n",
       "2772                  0.0                  0.0                  0.0   \n",
       "\n",
       "      snorkel_distance_09  \n",
       "0                     0.0  \n",
       "1                    -1.0  \n",
       "2                     0.0  \n",
       "3                     0.0  \n",
       "4                     0.0  \n",
       "...                   ...  \n",
       "2768                  0.0  \n",
       "2769                  0.0  \n",
       "2770                  0.0  \n",
       "2771                  0.0  \n",
       "2772                  0.0  \n",
       "\n",
       "[2773 rows x 10 columns]"
      ]
     },
     "execution_count": 2937,
     "metadata": {},
     "output_type": "execute_result"
    }
   ],
   "source": [
    "df_L_train.iloc[:,-11:-1]"
   ]
  },
  {
   "cell_type": "code",
   "execution_count": 2938,
   "metadata": {},
   "outputs": [
    {
     "data": {
      "text/plain": [
       "array([[ 1.,  1.,  0., ...,  0.,  0.,  0.],\n",
       "       [-1., -1., -1., ..., -1., -1., -1.],\n",
       "       [ 1.,  1.,  0., ...,  0.,  0.,  0.],\n",
       "       ...,\n",
       "       [ 1.,  0.,  0., ...,  0.,  0.,  0.],\n",
       "       [ 1.,  1.,  0., ...,  0.,  0.,  0.],\n",
       "       [ 0.,  0.,  0., ...,  0.,  0.,  0.]])"
      ]
     },
     "execution_count": 2938,
     "metadata": {},
     "output_type": "execute_result"
    }
   ],
   "source": [
    "df_L_train.iloc[:,-11:-1].values"
   ]
  },
  {
   "cell_type": "code",
   "execution_count": 2939,
   "metadata": {},
   "outputs": [],
   "source": [
    "L_train = df_L_train.iloc[:,-11:-1].values"
   ]
  },
  {
   "cell_type": "code",
   "execution_count": null,
   "metadata": {},
   "outputs": [],
   "source": []
  },
  {
   "cell_type": "code",
   "execution_count": 2940,
   "metadata": {},
   "outputs": [],
   "source": [
    "from flyingsquid.label_model import LabelModel"
   ]
  },
  {
   "cell_type": "code",
   "execution_count": 2941,
   "metadata": {},
   "outputs": [],
   "source": [
    "m = 10\n",
    "# m = 9\n",
    "\n",
    "label_model = LabelModel(m)"
   ]
  },
  {
   "cell_type": "code",
   "execution_count": 2942,
   "metadata": {},
   "outputs": [],
   "source": [
    "label_model.fit(L_train)"
   ]
  },
  {
   "cell_type": "code",
   "execution_count": 2943,
   "metadata": {},
   "outputs": [
    {
     "data": {
      "text/plain": [
       "0.8083670715249662"
      ]
     },
     "execution_count": 2943,
     "metadata": {},
     "output_type": "execute_result"
    }
   ],
   "source": [
    "preds = label_model.predict(L_dev).reshape(Y_dev.shape)\n",
    "accuracy = np.sum(preds == Y_dev) / Y_dev.shape[0]\n",
    "\n",
    "# print('Label model accuracy: {}%'.format(int(100 * accuracy)))\n",
    "f1_score(Y_dev,preds)"
   ]
  },
  {
   "cell_type": "code",
   "execution_count": null,
   "metadata": {},
   "outputs": [],
   "source": []
  },
  {
   "cell_type": "code",
   "execution_count": 2944,
   "metadata": {},
   "outputs": [
    {
     "data": {
      "text/plain": [
       "0.8083670715249662"
      ]
     },
     "execution_count": 2944,
     "metadata": {},
     "output_type": "execute_result"
    }
   ],
   "source": [
    "majority_vote_preds = np.array([1 if pred > 0 else -1 for pred in np.sum(L_dev, axis=1)])\n",
    "majority_vote_accuracy = np.sum(majority_vote_preds == Y_dev) / Y_dev.shape[0]\n",
    "\n",
    "# print('Majority vote accuracy: {}%'.format(int(100 * majority_vote_accuracy)))\n",
    "f1_score(Y_dev,majority_vote_preds)"
   ]
  },
  {
   "cell_type": "code",
   "execution_count": null,
   "metadata": {},
   "outputs": [],
   "source": []
  },
  {
   "cell_type": "code",
   "execution_count": 2945,
   "metadata": {},
   "outputs": [],
   "source": [
    "df_inconsistency[\"snorkel_predict\"] = preds\n",
    "df_inconsistency.snorkel_predict=df_inconsistency.apply(lambda x: 0 if x.snorkel_predict==-1 else 1, axis=1)"
   ]
  },
  {
   "cell_type": "code",
   "execution_count": 2946,
   "metadata": {},
   "outputs": [
    {
     "data": {
      "text/html": [
       "<div>\n",
       "<style scoped>\n",
       "    .dataframe tbody tr th:only-of-type {\n",
       "        vertical-align: middle;\n",
       "    }\n",
       "\n",
       "    .dataframe tbody tr th {\n",
       "        vertical-align: top;\n",
       "    }\n",
       "\n",
       "    .dataframe thead th {\n",
       "        text-align: right;\n",
       "    }\n",
       "</style>\n",
       "<table border=\"1\" class=\"dataframe\">\n",
       "  <thead>\n",
       "    <tr style=\"text-align: right;\">\n",
       "      <th></th>\n",
       "      <th>undermine_score</th>\n",
       "      <th>support_score</th>\n",
       "      <th>cp_distance</th>\n",
       "      <th>cop_distance</th>\n",
       "      <th>predict_label</th>\n",
       "      <th>distance_label</th>\n",
       "      <th>gold</th>\n",
       "      <th>snorkel_logits_17</th>\n",
       "      <th>snorkel_logits_37</th>\n",
       "      <th>snorkel_logits_57</th>\n",
       "      <th>snorkel_logits_77</th>\n",
       "      <th>snorkel_logits_97</th>\n",
       "      <th>snorkel_distance_01</th>\n",
       "      <th>snorkel_distance_03</th>\n",
       "      <th>snorkel_distance_05</th>\n",
       "      <th>snorkel_distance_07</th>\n",
       "      <th>snorkel_distance_09</th>\n",
       "      <th>snorkel_label</th>\n",
       "      <th>snorkel_predict</th>\n",
       "    </tr>\n",
       "  </thead>\n",
       "  <tbody>\n",
       "    <tr>\n",
       "      <th>0</th>\n",
       "      <td>-4.223587</td>\n",
       "      <td>3.430138</td>\n",
       "      <td>0.020014</td>\n",
       "      <td>0.012879</td>\n",
       "      <td>1</td>\n",
       "      <td>0</td>\n",
       "      <td>1</td>\n",
       "      <td>1.0</td>\n",
       "      <td>1.0</td>\n",
       "      <td>0.0</td>\n",
       "      <td>0.0</td>\n",
       "      <td>0.0</td>\n",
       "      <td>0.0</td>\n",
       "      <td>0.0</td>\n",
       "      <td>0.0</td>\n",
       "      <td>0.0</td>\n",
       "      <td>0.0</td>\n",
       "      <td>1</td>\n",
       "      <td>1</td>\n",
       "    </tr>\n",
       "    <tr>\n",
       "      <th>1</th>\n",
       "      <td>4.980137</td>\n",
       "      <td>-5.918371</td>\n",
       "      <td>1.923178</td>\n",
       "      <td>0.001339</td>\n",
       "      <td>0</td>\n",
       "      <td>0</td>\n",
       "      <td>0</td>\n",
       "      <td>-1.0</td>\n",
       "      <td>-1.0</td>\n",
       "      <td>-1.0</td>\n",
       "      <td>0.0</td>\n",
       "      <td>0.0</td>\n",
       "      <td>-1.0</td>\n",
       "      <td>-1.0</td>\n",
       "      <td>-1.0</td>\n",
       "      <td>-1.0</td>\n",
       "      <td>-1.0</td>\n",
       "      <td>-1</td>\n",
       "      <td>0</td>\n",
       "    </tr>\n",
       "    <tr>\n",
       "      <th>2</th>\n",
       "      <td>-4.051531</td>\n",
       "      <td>3.098645</td>\n",
       "      <td>0.004558</td>\n",
       "      <td>0.010478</td>\n",
       "      <td>1</td>\n",
       "      <td>1</td>\n",
       "      <td>1</td>\n",
       "      <td>1.0</td>\n",
       "      <td>1.0</td>\n",
       "      <td>0.0</td>\n",
       "      <td>0.0</td>\n",
       "      <td>0.0</td>\n",
       "      <td>0.0</td>\n",
       "      <td>0.0</td>\n",
       "      <td>0.0</td>\n",
       "      <td>0.0</td>\n",
       "      <td>0.0</td>\n",
       "      <td>1</td>\n",
       "      <td>1</td>\n",
       "    </tr>\n",
       "    <tr>\n",
       "      <th>3</th>\n",
       "      <td>-1.659985</td>\n",
       "      <td>2.563246</td>\n",
       "      <td>0.277413</td>\n",
       "      <td>0.157976</td>\n",
       "      <td>1</td>\n",
       "      <td>0</td>\n",
       "      <td>1</td>\n",
       "      <td>0.0</td>\n",
       "      <td>0.0</td>\n",
       "      <td>0.0</td>\n",
       "      <td>0.0</td>\n",
       "      <td>0.0</td>\n",
       "      <td>-1.0</td>\n",
       "      <td>0.0</td>\n",
       "      <td>0.0</td>\n",
       "      <td>0.0</td>\n",
       "      <td>0.0</td>\n",
       "      <td>1</td>\n",
       "      <td>0</td>\n",
       "    </tr>\n",
       "    <tr>\n",
       "      <th>4</th>\n",
       "      <td>-1.103358</td>\n",
       "      <td>5.317815</td>\n",
       "      <td>0.293655</td>\n",
       "      <td>1.842567</td>\n",
       "      <td>1</td>\n",
       "      <td>1</td>\n",
       "      <td>1</td>\n",
       "      <td>1.0</td>\n",
       "      <td>1.0</td>\n",
       "      <td>0.0</td>\n",
       "      <td>0.0</td>\n",
       "      <td>0.0</td>\n",
       "      <td>1.0</td>\n",
       "      <td>1.0</td>\n",
       "      <td>1.0</td>\n",
       "      <td>1.0</td>\n",
       "      <td>0.0</td>\n",
       "      <td>1</td>\n",
       "      <td>1</td>\n",
       "    </tr>\n",
       "    <tr>\n",
       "      <th>...</th>\n",
       "      <td>...</td>\n",
       "      <td>...</td>\n",
       "      <td>...</td>\n",
       "      <td>...</td>\n",
       "      <td>...</td>\n",
       "      <td>...</td>\n",
       "      <td>...</td>\n",
       "      <td>...</td>\n",
       "      <td>...</td>\n",
       "      <td>...</td>\n",
       "      <td>...</td>\n",
       "      <td>...</td>\n",
       "      <td>...</td>\n",
       "      <td>...</td>\n",
       "      <td>...</td>\n",
       "      <td>...</td>\n",
       "      <td>...</td>\n",
       "      <td>...</td>\n",
       "      <td>...</td>\n",
       "    </tr>\n",
       "    <tr>\n",
       "      <th>2768</th>\n",
       "      <td>2.155837</td>\n",
       "      <td>-1.537567</td>\n",
       "      <td>1.053408</td>\n",
       "      <td>0.922337</td>\n",
       "      <td>0</td>\n",
       "      <td>0</td>\n",
       "      <td>0</td>\n",
       "      <td>0.0</td>\n",
       "      <td>0.0</td>\n",
       "      <td>0.0</td>\n",
       "      <td>0.0</td>\n",
       "      <td>0.0</td>\n",
       "      <td>-1.0</td>\n",
       "      <td>0.0</td>\n",
       "      <td>0.0</td>\n",
       "      <td>0.0</td>\n",
       "      <td>0.0</td>\n",
       "      <td>-1</td>\n",
       "      <td>0</td>\n",
       "    </tr>\n",
       "    <tr>\n",
       "      <th>2769</th>\n",
       "      <td>6.712749</td>\n",
       "      <td>-5.522651</td>\n",
       "      <td>1.332932</td>\n",
       "      <td>0.112898</td>\n",
       "      <td>0</td>\n",
       "      <td>0</td>\n",
       "      <td>0</td>\n",
       "      <td>-1.0</td>\n",
       "      <td>-1.0</td>\n",
       "      <td>-1.0</td>\n",
       "      <td>-1.0</td>\n",
       "      <td>0.0</td>\n",
       "      <td>-1.0</td>\n",
       "      <td>-1.0</td>\n",
       "      <td>0.0</td>\n",
       "      <td>0.0</td>\n",
       "      <td>0.0</td>\n",
       "      <td>-1</td>\n",
       "      <td>0</td>\n",
       "    </tr>\n",
       "    <tr>\n",
       "      <th>2770</th>\n",
       "      <td>-2.778294</td>\n",
       "      <td>2.587539</td>\n",
       "      <td>0.518143</td>\n",
       "      <td>1.368011</td>\n",
       "      <td>1</td>\n",
       "      <td>1</td>\n",
       "      <td>1</td>\n",
       "      <td>1.0</td>\n",
       "      <td>0.0</td>\n",
       "      <td>0.0</td>\n",
       "      <td>0.0</td>\n",
       "      <td>0.0</td>\n",
       "      <td>1.0</td>\n",
       "      <td>1.0</td>\n",
       "      <td>0.0</td>\n",
       "      <td>0.0</td>\n",
       "      <td>0.0</td>\n",
       "      <td>1</td>\n",
       "      <td>1</td>\n",
       "    </tr>\n",
       "    <tr>\n",
       "      <th>2771</th>\n",
       "      <td>-3.157147</td>\n",
       "      <td>3.050995</td>\n",
       "      <td>0.483791</td>\n",
       "      <td>1.372143</td>\n",
       "      <td>1</td>\n",
       "      <td>1</td>\n",
       "      <td>1</td>\n",
       "      <td>1.0</td>\n",
       "      <td>1.0</td>\n",
       "      <td>0.0</td>\n",
       "      <td>0.0</td>\n",
       "      <td>0.0</td>\n",
       "      <td>1.0</td>\n",
       "      <td>1.0</td>\n",
       "      <td>0.0</td>\n",
       "      <td>0.0</td>\n",
       "      <td>0.0</td>\n",
       "      <td>1</td>\n",
       "      <td>1</td>\n",
       "    </tr>\n",
       "    <tr>\n",
       "      <th>2772</th>\n",
       "      <td>0.692743</td>\n",
       "      <td>0.942525</td>\n",
       "      <td>0.609729</td>\n",
       "      <td>0.659963</td>\n",
       "      <td>1</td>\n",
       "      <td>1</td>\n",
       "      <td>1</td>\n",
       "      <td>0.0</td>\n",
       "      <td>0.0</td>\n",
       "      <td>0.0</td>\n",
       "      <td>0.0</td>\n",
       "      <td>0.0</td>\n",
       "      <td>1.0</td>\n",
       "      <td>0.0</td>\n",
       "      <td>0.0</td>\n",
       "      <td>0.0</td>\n",
       "      <td>0.0</td>\n",
       "      <td>1</td>\n",
       "      <td>1</td>\n",
       "    </tr>\n",
       "  </tbody>\n",
       "</table>\n",
       "<p>2773 rows × 19 columns</p>\n",
       "</div>"
      ],
      "text/plain": [
       "      undermine_score  support_score  cp_distance  cop_distance  \\\n",
       "0           -4.223587       3.430138     0.020014      0.012879   \n",
       "1            4.980137      -5.918371     1.923178      0.001339   \n",
       "2           -4.051531       3.098645     0.004558      0.010478   \n",
       "3           -1.659985       2.563246     0.277413      0.157976   \n",
       "4           -1.103358       5.317815     0.293655      1.842567   \n",
       "...               ...            ...          ...           ...   \n",
       "2768         2.155837      -1.537567     1.053408      0.922337   \n",
       "2769         6.712749      -5.522651     1.332932      0.112898   \n",
       "2770        -2.778294       2.587539     0.518143      1.368011   \n",
       "2771        -3.157147       3.050995     0.483791      1.372143   \n",
       "2772         0.692743       0.942525     0.609729      0.659963   \n",
       "\n",
       "      predict_label  distance_label  gold  snorkel_logits_17  \\\n",
       "0                 1               0     1                1.0   \n",
       "1                 0               0     0               -1.0   \n",
       "2                 1               1     1                1.0   \n",
       "3                 1               0     1                0.0   \n",
       "4                 1               1     1                1.0   \n",
       "...             ...             ...   ...                ...   \n",
       "2768              0               0     0                0.0   \n",
       "2769              0               0     0               -1.0   \n",
       "2770              1               1     1                1.0   \n",
       "2771              1               1     1                1.0   \n",
       "2772              1               1     1                0.0   \n",
       "\n",
       "      snorkel_logits_37  snorkel_logits_57  snorkel_logits_77  \\\n",
       "0                   1.0                0.0                0.0   \n",
       "1                  -1.0               -1.0                0.0   \n",
       "2                   1.0                0.0                0.0   \n",
       "3                   0.0                0.0                0.0   \n",
       "4                   1.0                0.0                0.0   \n",
       "...                 ...                ...                ...   \n",
       "2768                0.0                0.0                0.0   \n",
       "2769               -1.0               -1.0               -1.0   \n",
       "2770                0.0                0.0                0.0   \n",
       "2771                1.0                0.0                0.0   \n",
       "2772                0.0                0.0                0.0   \n",
       "\n",
       "      snorkel_logits_97  snorkel_distance_01  snorkel_distance_03  \\\n",
       "0                   0.0                  0.0                  0.0   \n",
       "1                   0.0                 -1.0                 -1.0   \n",
       "2                   0.0                  0.0                  0.0   \n",
       "3                   0.0                 -1.0                  0.0   \n",
       "4                   0.0                  1.0                  1.0   \n",
       "...                 ...                  ...                  ...   \n",
       "2768                0.0                 -1.0                  0.0   \n",
       "2769                0.0                 -1.0                 -1.0   \n",
       "2770                0.0                  1.0                  1.0   \n",
       "2771                0.0                  1.0                  1.0   \n",
       "2772                0.0                  1.0                  0.0   \n",
       "\n",
       "      snorkel_distance_05  snorkel_distance_07  snorkel_distance_09  \\\n",
       "0                     0.0                  0.0                  0.0   \n",
       "1                    -1.0                 -1.0                 -1.0   \n",
       "2                     0.0                  0.0                  0.0   \n",
       "3                     0.0                  0.0                  0.0   \n",
       "4                     1.0                  1.0                  0.0   \n",
       "...                   ...                  ...                  ...   \n",
       "2768                  0.0                  0.0                  0.0   \n",
       "2769                  0.0                  0.0                  0.0   \n",
       "2770                  0.0                  0.0                  0.0   \n",
       "2771                  0.0                  0.0                  0.0   \n",
       "2772                  0.0                  0.0                  0.0   \n",
       "\n",
       "      snorkel_label  snorkel_predict  \n",
       "0                 1                1  \n",
       "1                -1                0  \n",
       "2                 1                1  \n",
       "3                 1                0  \n",
       "4                 1                1  \n",
       "...             ...              ...  \n",
       "2768             -1                0  \n",
       "2769             -1                0  \n",
       "2770              1                1  \n",
       "2771              1                1  \n",
       "2772              1                1  \n",
       "\n",
       "[2773 rows x 19 columns]"
      ]
     },
     "execution_count": 2946,
     "metadata": {},
     "output_type": "execute_result"
    }
   ],
   "source": [
    "df_inconsistency"
   ]
  },
  {
   "cell_type": "code",
   "execution_count": 2947,
   "metadata": {},
   "outputs": [
    {
     "data": {
      "text/plain": [
       "0.8083670715249662"
      ]
     },
     "execution_count": 2947,
     "metadata": {},
     "output_type": "execute_result"
    }
   ],
   "source": [
    "f1_score(df_inconsistency.gold,df_inconsistency.snorkel_predict)"
   ]
  },
  {
   "cell_type": "code",
   "execution_count": 2948,
   "metadata": {},
   "outputs": [
    {
     "data": {
      "text/plain": [
       "0.8024112525117214"
      ]
     },
     "execution_count": 2948,
     "metadata": {},
     "output_type": "execute_result"
    }
   ],
   "source": [
    "precision_score(df_inconsistency.gold,df_inconsistency.snorkel_predict)"
   ]
  },
  {
   "cell_type": "code",
   "execution_count": 2949,
   "metadata": {},
   "outputs": [
    {
     "data": {
      "text/plain": [
       "0.8144119646498981"
      ]
     },
     "execution_count": 2949,
     "metadata": {},
     "output_type": "execute_result"
    }
   ],
   "source": [
    "recall_score(df_inconsistency.gold,df_inconsistency.snorkel_predict)"
   ]
  },
  {
   "cell_type": "code",
   "execution_count": 2950,
   "metadata": {},
   "outputs": [],
   "source": [
    "# df_inconsistency.to_csv(\"./paper_out/SCAR505586111300102111519_eval_result.csv\",index=False)"
   ]
  },
  {
   "cell_type": "code",
   "execution_count": null,
   "metadata": {},
   "outputs": [],
   "source": []
  }
 ],
 "metadata": {
  "kernelspec": {
   "display_name": "TensorFlow-GPU",
   "language": "python",
   "name": "tf-gpu"
  },
  "language_info": {
   "codemirror_mode": {
    "name": "ipython",
    "version": 3
   },
   "file_extension": ".py",
   "mimetype": "text/x-python",
   "name": "python",
   "nbconvert_exporter": "python",
   "pygments_lexer": "ipython3",
   "version": "3.7.6"
  }
 },
 "nbformat": 4,
 "nbformat_minor": 2
}
