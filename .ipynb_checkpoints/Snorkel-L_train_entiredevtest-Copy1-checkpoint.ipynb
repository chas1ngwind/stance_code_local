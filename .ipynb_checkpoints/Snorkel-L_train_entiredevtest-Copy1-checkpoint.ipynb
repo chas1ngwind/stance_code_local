{
 "cells": [
  {
   "cell_type": "code",
   "execution_count": 7,
   "metadata": {},
   "outputs": [],
   "source": [
    "import pandas as pd"
   ]
  },
  {
   "cell_type": "markdown",
   "metadata": {},
   "source": [
    "## Triplet Bert Related Eval Results"
   ]
  },
  {
   "cell_type": "code",
   "execution_count": 8,
   "metadata": {},
   "outputs": [],
   "source": [
    "from sklearn.metrics import accuracy_score,f1_score,recall_score,precision_score"
   ]
  },
  {
   "cell_type": "code",
   "execution_count": 9,
   "metadata": {},
   "outputs": [],
   "source": [
    "# Triplet cos siamese bert"
   ]
  },
  {
   "cell_type": "code",
   "execution_count": 10,
   "metadata": {},
   "outputs": [],
   "source": [
    "df = pd.read_csv(\"../stance_code/Evaluation/bert_dummy_output/distance_concat_margin1_costriplet_cos_siamese_bs24_lr2e_5_epoch15_raw_score.csv\")\n",
    "df2 = pd.read_csv(\"../stance_code/Evaluation/bert_dummy_output/dev_distance_concat_margin1_costriplet_cos_siamese_bs24_lr2e_5_epoch15_raw_score.csv\")"
   ]
  },
  {
   "cell_type": "code",
   "execution_count": 11,
   "metadata": {},
   "outputs": [],
   "source": [
    "df = pd.concat([df,df2])"
   ]
  },
  {
   "cell_type": "code",
   "execution_count": 12,
   "metadata": {},
   "outputs": [
    {
     "data": {
      "text/html": [
       "<div>\n",
       "<style scoped>\n",
       "    .dataframe tbody tr th:only-of-type {\n",
       "        vertical-align: middle;\n",
       "    }\n",
       "\n",
       "    .dataframe tbody tr th {\n",
       "        vertical-align: top;\n",
       "    }\n",
       "\n",
       "    .dataframe thead th {\n",
       "        text-align: right;\n",
       "    }\n",
       "</style>\n",
       "<table border=\"1\" class=\"dataframe\">\n",
       "  <thead>\n",
       "    <tr style=\"text-align: right;\">\n",
       "      <th></th>\n",
       "      <th>undermine_score</th>\n",
       "      <th>support_score</th>\n",
       "      <th>cp_distance</th>\n",
       "      <th>cop_distance</th>\n",
       "      <th>predict_label</th>\n",
       "      <th>distance_label</th>\n",
       "      <th>gold</th>\n",
       "    </tr>\n",
       "  </thead>\n",
       "  <tbody>\n",
       "    <tr>\n",
       "      <th>0</th>\n",
       "      <td>-4.223587</td>\n",
       "      <td>3.430138</td>\n",
       "      <td>0.020014</td>\n",
       "      <td>0.012879</td>\n",
       "      <td>1</td>\n",
       "      <td>0</td>\n",
       "      <td>1</td>\n",
       "    </tr>\n",
       "    <tr>\n",
       "      <th>1</th>\n",
       "      <td>4.980137</td>\n",
       "      <td>-5.918371</td>\n",
       "      <td>1.923178</td>\n",
       "      <td>0.001339</td>\n",
       "      <td>0</td>\n",
       "      <td>0</td>\n",
       "      <td>0</td>\n",
       "    </tr>\n",
       "    <tr>\n",
       "      <th>2</th>\n",
       "      <td>-4.051531</td>\n",
       "      <td>3.098645</td>\n",
       "      <td>0.004558</td>\n",
       "      <td>0.010478</td>\n",
       "      <td>1</td>\n",
       "      <td>1</td>\n",
       "      <td>1</td>\n",
       "    </tr>\n",
       "    <tr>\n",
       "      <th>3</th>\n",
       "      <td>-1.659985</td>\n",
       "      <td>2.563246</td>\n",
       "      <td>0.277413</td>\n",
       "      <td>0.157976</td>\n",
       "      <td>1</td>\n",
       "      <td>0</td>\n",
       "      <td>1</td>\n",
       "    </tr>\n",
       "    <tr>\n",
       "      <th>4</th>\n",
       "      <td>-1.103358</td>\n",
       "      <td>5.317815</td>\n",
       "      <td>0.293655</td>\n",
       "      <td>1.842567</td>\n",
       "      <td>1</td>\n",
       "      <td>1</td>\n",
       "      <td>1</td>\n",
       "    </tr>\n",
       "    <tr>\n",
       "      <th>...</th>\n",
       "      <td>...</td>\n",
       "      <td>...</td>\n",
       "      <td>...</td>\n",
       "      <td>...</td>\n",
       "      <td>...</td>\n",
       "      <td>...</td>\n",
       "      <td>...</td>\n",
       "    </tr>\n",
       "    <tr>\n",
       "      <th>1876</th>\n",
       "      <td>-3.020821</td>\n",
       "      <td>5.834997</td>\n",
       "      <td>0.000552</td>\n",
       "      <td>1.943276</td>\n",
       "      <td>1</td>\n",
       "      <td>1</td>\n",
       "      <td>1</td>\n",
       "    </tr>\n",
       "    <tr>\n",
       "      <th>1877</th>\n",
       "      <td>-3.082693</td>\n",
       "      <td>5.802138</td>\n",
       "      <td>0.000832</td>\n",
       "      <td>1.913086</td>\n",
       "      <td>1</td>\n",
       "      <td>1</td>\n",
       "      <td>1</td>\n",
       "    </tr>\n",
       "    <tr>\n",
       "      <th>1878</th>\n",
       "      <td>-3.014879</td>\n",
       "      <td>6.071866</td>\n",
       "      <td>0.001957</td>\n",
       "      <td>1.981859</td>\n",
       "      <td>1</td>\n",
       "      <td>1</td>\n",
       "      <td>1</td>\n",
       "    </tr>\n",
       "    <tr>\n",
       "      <th>1879</th>\n",
       "      <td>-3.992391</td>\n",
       "      <td>2.597567</td>\n",
       "      <td>0.005293</td>\n",
       "      <td>0.004218</td>\n",
       "      <td>1</td>\n",
       "      <td>0</td>\n",
       "      <td>1</td>\n",
       "    </tr>\n",
       "    <tr>\n",
       "      <th>1880</th>\n",
       "      <td>-2.863911</td>\n",
       "      <td>5.885867</td>\n",
       "      <td>0.001213</td>\n",
       "      <td>1.977819</td>\n",
       "      <td>1</td>\n",
       "      <td>1</td>\n",
       "      <td>1</td>\n",
       "    </tr>\n",
       "  </tbody>\n",
       "</table>\n",
       "<p>4408 rows × 7 columns</p>\n",
       "</div>"
      ],
      "text/plain": [
       "      undermine_score  support_score  cp_distance  cop_distance  \\\n",
       "0           -4.223587       3.430138     0.020014      0.012879   \n",
       "1            4.980137      -5.918371     1.923178      0.001339   \n",
       "2           -4.051531       3.098645     0.004558      0.010478   \n",
       "3           -1.659985       2.563246     0.277413      0.157976   \n",
       "4           -1.103358       5.317815     0.293655      1.842567   \n",
       "...               ...            ...          ...           ...   \n",
       "1876        -3.020821       5.834997     0.000552      1.943276   \n",
       "1877        -3.082693       5.802138     0.000832      1.913086   \n",
       "1878        -3.014879       6.071866     0.001957      1.981859   \n",
       "1879        -3.992391       2.597567     0.005293      0.004218   \n",
       "1880        -2.863911       5.885867     0.001213      1.977819   \n",
       "\n",
       "      predict_label  distance_label  gold  \n",
       "0                 1               0     1  \n",
       "1                 0               0     0  \n",
       "2                 1               1     1  \n",
       "3                 1               0     1  \n",
       "4                 1               1     1  \n",
       "...             ...             ...   ...  \n",
       "1876              1               1     1  \n",
       "1877              1               1     1  \n",
       "1878              1               1     1  \n",
       "1879              1               0     1  \n",
       "1880              1               1     1  \n",
       "\n",
       "[4408 rows x 7 columns]"
      ]
     },
     "execution_count": 12,
     "metadata": {},
     "output_type": "execute_result"
    }
   ],
   "source": [
    "df"
   ]
  },
  {
   "cell_type": "code",
   "execution_count": 13,
   "metadata": {},
   "outputs": [],
   "source": [
    "#logits evaluation results"
   ]
  },
  {
   "cell_type": "code",
   "execution_count": 14,
   "metadata": {},
   "outputs": [
    {
     "data": {
      "text/plain": [
       "0.8258064516129033"
      ]
     },
     "execution_count": 14,
     "metadata": {},
     "output_type": "execute_result"
    }
   ],
   "source": [
    "f1_score(df.gold,df.predict_label)"
   ]
  },
  {
   "cell_type": "code",
   "execution_count": 15,
   "metadata": {},
   "outputs": [
    {
     "data": {
      "text/plain": [
       "0.8319139399372478"
      ]
     },
     "execution_count": 15,
     "metadata": {},
     "output_type": "execute_result"
    }
   ],
   "source": [
    "precision_score(df.gold,df.predict_label)"
   ]
  },
  {
   "cell_type": "code",
   "execution_count": 16,
   "metadata": {},
   "outputs": [
    {
     "data": {
      "text/plain": [
       "0.8197879858657244"
      ]
     },
     "execution_count": 16,
     "metadata": {},
     "output_type": "execute_result"
    }
   ],
   "source": [
    "recall_score(df.gold,df.predict_label)"
   ]
  },
  {
   "cell_type": "code",
   "execution_count": null,
   "metadata": {},
   "outputs": [],
   "source": []
  },
  {
   "cell_type": "code",
   "execution_count": 17,
   "metadata": {},
   "outputs": [],
   "source": [
    "#distance evaluation results"
   ]
  },
  {
   "cell_type": "code",
   "execution_count": 18,
   "metadata": {},
   "outputs": [
    {
     "data": {
      "text/plain": [
       "0.7923308918569582"
      ]
     },
     "execution_count": 18,
     "metadata": {},
     "output_type": "execute_result"
    }
   ],
   "source": [
    "f1_score(df.gold,df.distance_label)"
   ]
  },
  {
   "cell_type": "code",
   "execution_count": 19,
   "metadata": {},
   "outputs": [
    {
     "data": {
      "text/plain": [
       "0.7733389402859546"
      ]
     },
     "execution_count": 19,
     "metadata": {},
     "output_type": "execute_result"
    }
   ],
   "source": [
    "precision_score(df.gold,df.distance_label)"
   ]
  },
  {
   "cell_type": "code",
   "execution_count": 20,
   "metadata": {},
   "outputs": [
    {
     "data": {
      "text/plain": [
       "0.8122791519434629"
      ]
     },
     "execution_count": 20,
     "metadata": {},
     "output_type": "execute_result"
    }
   ],
   "source": [
    "recall_score(df.gold,df.distance_label)"
   ]
  },
  {
   "cell_type": "code",
   "execution_count": null,
   "metadata": {},
   "outputs": [],
   "source": []
  },
  {
   "cell_type": "code",
   "execution_count": 21,
   "metadata": {},
   "outputs": [],
   "source": [
    "#consistent cases (logtis prediction == distance prediction)"
   ]
  },
  {
   "cell_type": "code",
   "execution_count": 22,
   "metadata": {},
   "outputs": [],
   "source": [
    "df_consistency = df[df.predict_label==df.distance_label]"
   ]
  },
  {
   "cell_type": "code",
   "execution_count": 23,
   "metadata": {},
   "outputs": [
    {
     "data": {
      "text/html": [
       "<div>\n",
       "<style scoped>\n",
       "    .dataframe tbody tr th:only-of-type {\n",
       "        vertical-align: middle;\n",
       "    }\n",
       "\n",
       "    .dataframe tbody tr th {\n",
       "        vertical-align: top;\n",
       "    }\n",
       "\n",
       "    .dataframe thead th {\n",
       "        text-align: right;\n",
       "    }\n",
       "</style>\n",
       "<table border=\"1\" class=\"dataframe\">\n",
       "  <thead>\n",
       "    <tr style=\"text-align: right;\">\n",
       "      <th></th>\n",
       "      <th>undermine_score</th>\n",
       "      <th>support_score</th>\n",
       "      <th>cp_distance</th>\n",
       "      <th>cop_distance</th>\n",
       "      <th>predict_label</th>\n",
       "      <th>distance_label</th>\n",
       "      <th>gold</th>\n",
       "    </tr>\n",
       "  </thead>\n",
       "  <tbody>\n",
       "    <tr>\n",
       "      <th>1</th>\n",
       "      <td>4.980137</td>\n",
       "      <td>-5.918371</td>\n",
       "      <td>1.923178</td>\n",
       "      <td>0.001339</td>\n",
       "      <td>0</td>\n",
       "      <td>0</td>\n",
       "      <td>0</td>\n",
       "    </tr>\n",
       "    <tr>\n",
       "      <th>2</th>\n",
       "      <td>-4.051531</td>\n",
       "      <td>3.098645</td>\n",
       "      <td>0.004558</td>\n",
       "      <td>0.010478</td>\n",
       "      <td>1</td>\n",
       "      <td>1</td>\n",
       "      <td>1</td>\n",
       "    </tr>\n",
       "    <tr>\n",
       "      <th>4</th>\n",
       "      <td>-1.103358</td>\n",
       "      <td>5.317815</td>\n",
       "      <td>0.293655</td>\n",
       "      <td>1.842567</td>\n",
       "      <td>1</td>\n",
       "      <td>1</td>\n",
       "      <td>1</td>\n",
       "    </tr>\n",
       "    <tr>\n",
       "      <th>5</th>\n",
       "      <td>-2.957279</td>\n",
       "      <td>5.612340</td>\n",
       "      <td>0.010343</td>\n",
       "      <td>1.754936</td>\n",
       "      <td>1</td>\n",
       "      <td>1</td>\n",
       "      <td>1</td>\n",
       "    </tr>\n",
       "    <tr>\n",
       "      <th>6</th>\n",
       "      <td>-2.915035</td>\n",
       "      <td>5.855358</td>\n",
       "      <td>0.004241</td>\n",
       "      <td>1.868177</td>\n",
       "      <td>1</td>\n",
       "      <td>1</td>\n",
       "      <td>1</td>\n",
       "    </tr>\n",
       "    <tr>\n",
       "      <th>...</th>\n",
       "      <td>...</td>\n",
       "      <td>...</td>\n",
       "      <td>...</td>\n",
       "      <td>...</td>\n",
       "      <td>...</td>\n",
       "      <td>...</td>\n",
       "      <td>...</td>\n",
       "    </tr>\n",
       "    <tr>\n",
       "      <th>1875</th>\n",
       "      <td>-2.986062</td>\n",
       "      <td>6.168940</td>\n",
       "      <td>0.007146</td>\n",
       "      <td>1.979641</td>\n",
       "      <td>1</td>\n",
       "      <td>1</td>\n",
       "      <td>1</td>\n",
       "    </tr>\n",
       "    <tr>\n",
       "      <th>1876</th>\n",
       "      <td>-3.020821</td>\n",
       "      <td>5.834997</td>\n",
       "      <td>0.000552</td>\n",
       "      <td>1.943276</td>\n",
       "      <td>1</td>\n",
       "      <td>1</td>\n",
       "      <td>1</td>\n",
       "    </tr>\n",
       "    <tr>\n",
       "      <th>1877</th>\n",
       "      <td>-3.082693</td>\n",
       "      <td>5.802138</td>\n",
       "      <td>0.000832</td>\n",
       "      <td>1.913086</td>\n",
       "      <td>1</td>\n",
       "      <td>1</td>\n",
       "      <td>1</td>\n",
       "    </tr>\n",
       "    <tr>\n",
       "      <th>1878</th>\n",
       "      <td>-3.014879</td>\n",
       "      <td>6.071866</td>\n",
       "      <td>0.001957</td>\n",
       "      <td>1.981859</td>\n",
       "      <td>1</td>\n",
       "      <td>1</td>\n",
       "      <td>1</td>\n",
       "    </tr>\n",
       "    <tr>\n",
       "      <th>1880</th>\n",
       "      <td>-2.863911</td>\n",
       "      <td>5.885867</td>\n",
       "      <td>0.001213</td>\n",
       "      <td>1.977819</td>\n",
       "      <td>1</td>\n",
       "      <td>1</td>\n",
       "      <td>1</td>\n",
       "    </tr>\n",
       "  </tbody>\n",
       "</table>\n",
       "<p>3841 rows × 7 columns</p>\n",
       "</div>"
      ],
      "text/plain": [
       "      undermine_score  support_score  cp_distance  cop_distance  \\\n",
       "1            4.980137      -5.918371     1.923178      0.001339   \n",
       "2           -4.051531       3.098645     0.004558      0.010478   \n",
       "4           -1.103358       5.317815     0.293655      1.842567   \n",
       "5           -2.957279       5.612340     0.010343      1.754936   \n",
       "6           -2.915035       5.855358     0.004241      1.868177   \n",
       "...               ...            ...          ...           ...   \n",
       "1875        -2.986062       6.168940     0.007146      1.979641   \n",
       "1876        -3.020821       5.834997     0.000552      1.943276   \n",
       "1877        -3.082693       5.802138     0.000832      1.913086   \n",
       "1878        -3.014879       6.071866     0.001957      1.981859   \n",
       "1880        -2.863911       5.885867     0.001213      1.977819   \n",
       "\n",
       "      predict_label  distance_label  gold  \n",
       "1                 0               0     0  \n",
       "2                 1               1     1  \n",
       "4                 1               1     1  \n",
       "5                 1               1     1  \n",
       "6                 1               1     1  \n",
       "...             ...             ...   ...  \n",
       "1875              1               1     1  \n",
       "1876              1               1     1  \n",
       "1877              1               1     1  \n",
       "1878              1               1     1  \n",
       "1880              1               1     1  \n",
       "\n",
       "[3841 rows x 7 columns]"
      ]
     },
     "execution_count": 23,
     "metadata": {},
     "output_type": "execute_result"
    }
   ],
   "source": [
    "df_consistency"
   ]
  },
  {
   "cell_type": "code",
   "execution_count": 24,
   "metadata": {},
   "outputs": [
    {
     "data": {
      "text/plain": [
       "0.8522784176264397"
      ]
     },
     "execution_count": 24,
     "metadata": {},
     "output_type": "execute_result"
    }
   ],
   "source": [
    "f1_score(df_consistency.gold,df_consistency.distance_label)"
   ]
  },
  {
   "cell_type": "code",
   "execution_count": 25,
   "metadata": {},
   "outputs": [
    {
     "data": {
      "text/plain": [
       "0.8421573478476002"
      ]
     },
     "execution_count": 25,
     "metadata": {},
     "output_type": "execute_result"
    }
   ],
   "source": [
    "precision_score(df_consistency.gold,df_consistency.distance_label)"
   ]
  },
  {
   "cell_type": "code",
   "execution_count": 26,
   "metadata": {},
   "outputs": [
    {
     "data": {
      "text/plain": [
       "0.8626457171819564"
      ]
     },
     "execution_count": 26,
     "metadata": {},
     "output_type": "execute_result"
    }
   ],
   "source": [
    "recall_score(df_consistency.gold,df_consistency.distance_label)"
   ]
  },
  {
   "cell_type": "code",
   "execution_count": null,
   "metadata": {},
   "outputs": [],
   "source": []
  },
  {
   "cell_type": "code",
   "execution_count": 27,
   "metadata": {},
   "outputs": [
    {
     "data": {
      "text/html": [
       "<div>\n",
       "<style scoped>\n",
       "    .dataframe tbody tr th:only-of-type {\n",
       "        vertical-align: middle;\n",
       "    }\n",
       "\n",
       "    .dataframe tbody tr th {\n",
       "        vertical-align: top;\n",
       "    }\n",
       "\n",
       "    .dataframe thead th {\n",
       "        text-align: right;\n",
       "    }\n",
       "</style>\n",
       "<table border=\"1\" class=\"dataframe\">\n",
       "  <thead>\n",
       "    <tr style=\"text-align: right;\">\n",
       "      <th></th>\n",
       "      <th>undermine_score</th>\n",
       "      <th>support_score</th>\n",
       "      <th>cp_distance</th>\n",
       "      <th>cop_distance</th>\n",
       "      <th>predict_label</th>\n",
       "      <th>distance_label</th>\n",
       "      <th>gold</th>\n",
       "    </tr>\n",
       "  </thead>\n",
       "  <tbody>\n",
       "    <tr>\n",
       "      <th>56</th>\n",
       "      <td>-6.740227</td>\n",
       "      <td>6.935597</td>\n",
       "      <td>0.017248</td>\n",
       "      <td>1.656932</td>\n",
       "      <td>1</td>\n",
       "      <td>1</td>\n",
       "      <td>1</td>\n",
       "    </tr>\n",
       "    <tr>\n",
       "      <th>82</th>\n",
       "      <td>-6.699821</td>\n",
       "      <td>6.198657</td>\n",
       "      <td>0.017356</td>\n",
       "      <td>1.790910</td>\n",
       "      <td>1</td>\n",
       "      <td>1</td>\n",
       "      <td>1</td>\n",
       "    </tr>\n",
       "    <tr>\n",
       "      <th>176</th>\n",
       "      <td>7.776163</td>\n",
       "      <td>-5.735231</td>\n",
       "      <td>1.865803</td>\n",
       "      <td>0.175052</td>\n",
       "      <td>0</td>\n",
       "      <td>0</td>\n",
       "      <td>0</td>\n",
       "    </tr>\n",
       "    <tr>\n",
       "      <th>178</th>\n",
       "      <td>8.175444</td>\n",
       "      <td>-6.853647</td>\n",
       "      <td>1.905149</td>\n",
       "      <td>0.082175</td>\n",
       "      <td>0</td>\n",
       "      <td>0</td>\n",
       "      <td>0</td>\n",
       "    </tr>\n",
       "    <tr>\n",
       "      <th>179</th>\n",
       "      <td>7.822188</td>\n",
       "      <td>-5.983000</td>\n",
       "      <td>1.871615</td>\n",
       "      <td>0.071257</td>\n",
       "      <td>0</td>\n",
       "      <td>0</td>\n",
       "      <td>0</td>\n",
       "    </tr>\n",
       "    <tr>\n",
       "      <th>...</th>\n",
       "      <td>...</td>\n",
       "      <td>...</td>\n",
       "      <td>...</td>\n",
       "      <td>...</td>\n",
       "      <td>...</td>\n",
       "      <td>...</td>\n",
       "      <td>...</td>\n",
       "    </tr>\n",
       "    <tr>\n",
       "      <th>1803</th>\n",
       "      <td>8.259789</td>\n",
       "      <td>-6.152510</td>\n",
       "      <td>1.781657</td>\n",
       "      <td>0.272301</td>\n",
       "      <td>0</td>\n",
       "      <td>0</td>\n",
       "      <td>1</td>\n",
       "    </tr>\n",
       "    <tr>\n",
       "      <th>1804</th>\n",
       "      <td>6.963352</td>\n",
       "      <td>-4.964608</td>\n",
       "      <td>1.671127</td>\n",
       "      <td>0.347740</td>\n",
       "      <td>0</td>\n",
       "      <td>0</td>\n",
       "      <td>1</td>\n",
       "    </tr>\n",
       "    <tr>\n",
       "      <th>1805</th>\n",
       "      <td>9.007212</td>\n",
       "      <td>-6.763206</td>\n",
       "      <td>1.837904</td>\n",
       "      <td>0.168444</td>\n",
       "      <td>0</td>\n",
       "      <td>0</td>\n",
       "      <td>1</td>\n",
       "    </tr>\n",
       "    <tr>\n",
       "      <th>1806</th>\n",
       "      <td>8.831461</td>\n",
       "      <td>-6.858443</td>\n",
       "      <td>1.819252</td>\n",
       "      <td>0.263004</td>\n",
       "      <td>0</td>\n",
       "      <td>0</td>\n",
       "      <td>1</td>\n",
       "    </tr>\n",
       "    <tr>\n",
       "      <th>1816</th>\n",
       "      <td>6.255768</td>\n",
       "      <td>-7.860669</td>\n",
       "      <td>1.926226</td>\n",
       "      <td>0.116048</td>\n",
       "      <td>0</td>\n",
       "      <td>0</td>\n",
       "      <td>0</td>\n",
       "    </tr>\n",
       "  </tbody>\n",
       "</table>\n",
       "<p>866 rows × 7 columns</p>\n",
       "</div>"
      ],
      "text/plain": [
       "      undermine_score  support_score  cp_distance  cop_distance  \\\n",
       "56          -6.740227       6.935597     0.017248      1.656932   \n",
       "82          -6.699821       6.198657     0.017356      1.790910   \n",
       "176          7.776163      -5.735231     1.865803      0.175052   \n",
       "178          8.175444      -6.853647     1.905149      0.082175   \n",
       "179          7.822188      -5.983000     1.871615      0.071257   \n",
       "...               ...            ...          ...           ...   \n",
       "1803         8.259789      -6.152510     1.781657      0.272301   \n",
       "1804         6.963352      -4.964608     1.671127      0.347740   \n",
       "1805         9.007212      -6.763206     1.837904      0.168444   \n",
       "1806         8.831461      -6.858443     1.819252      0.263004   \n",
       "1816         6.255768      -7.860669     1.926226      0.116048   \n",
       "\n",
       "      predict_label  distance_label  gold  \n",
       "56                1               1     1  \n",
       "82                1               1     1  \n",
       "176               0               0     0  \n",
       "178               0               0     0  \n",
       "179               0               0     0  \n",
       "...             ...             ...   ...  \n",
       "1803              0               0     1  \n",
       "1804              0               0     1  \n",
       "1805              0               0     1  \n",
       "1806              0               0     1  \n",
       "1816              0               0     0  \n",
       "\n",
       "[866 rows x 7 columns]"
      ]
     },
     "execution_count": 27,
     "metadata": {},
     "output_type": "execute_result"
    }
   ],
   "source": [
    "df_logits_diff = df_consistency[abs(df_consistency.undermine_score-df_consistency.support_score)>11.7]\n",
    "df_logits_diff"
   ]
  },
  {
   "cell_type": "code",
   "execution_count": 28,
   "metadata": {},
   "outputs": [
    {
     "data": {
      "text/plain": [
       "0.8813559322033898"
      ]
     },
     "execution_count": 28,
     "metadata": {},
     "output_type": "execute_result"
    }
   ],
   "source": [
    "f1_score(df_logits_diff.gold,df_logits_diff.distance_label)"
   ]
  },
  {
   "cell_type": "code",
   "execution_count": 29,
   "metadata": {},
   "outputs": [
    {
     "data": {
      "text/plain": [
       "0.9473684210526315"
      ]
     },
     "execution_count": 29,
     "metadata": {},
     "output_type": "execute_result"
    }
   ],
   "source": [
    "precision_score(df_logits_diff.gold,df_logits_diff.distance_label)"
   ]
  },
  {
   "cell_type": "code",
   "execution_count": 30,
   "metadata": {},
   "outputs": [
    {
     "data": {
      "text/plain": [
       "0.823943661971831"
      ]
     },
     "execution_count": 30,
     "metadata": {},
     "output_type": "execute_result"
    }
   ],
   "source": [
    "recall_score(df_logits_diff.gold,df_logits_diff.distance_label)"
   ]
  },
  {
   "cell_type": "code",
   "execution_count": null,
   "metadata": {},
   "outputs": [],
   "source": []
  },
  {
   "cell_type": "code",
   "execution_count": 31,
   "metadata": {},
   "outputs": [
    {
     "data": {
      "text/html": [
       "<div>\n",
       "<style scoped>\n",
       "    .dataframe tbody tr th:only-of-type {\n",
       "        vertical-align: middle;\n",
       "    }\n",
       "\n",
       "    .dataframe tbody tr th {\n",
       "        vertical-align: top;\n",
       "    }\n",
       "\n",
       "    .dataframe thead th {\n",
       "        text-align: right;\n",
       "    }\n",
       "</style>\n",
       "<table border=\"1\" class=\"dataframe\">\n",
       "  <thead>\n",
       "    <tr style=\"text-align: right;\">\n",
       "      <th></th>\n",
       "      <th>undermine_score</th>\n",
       "      <th>support_score</th>\n",
       "      <th>cp_distance</th>\n",
       "      <th>cop_distance</th>\n",
       "      <th>predict_label</th>\n",
       "      <th>distance_label</th>\n",
       "      <th>gold</th>\n",
       "    </tr>\n",
       "  </thead>\n",
       "  <tbody>\n",
       "    <tr>\n",
       "      <th>1</th>\n",
       "      <td>4.980137</td>\n",
       "      <td>-5.918371</td>\n",
       "      <td>1.923178</td>\n",
       "      <td>0.001339</td>\n",
       "      <td>0</td>\n",
       "      <td>0</td>\n",
       "      <td>0</td>\n",
       "    </tr>\n",
       "    <tr>\n",
       "      <th>14</th>\n",
       "      <td>4.973082</td>\n",
       "      <td>-5.446892</td>\n",
       "      <td>1.975014</td>\n",
       "      <td>0.038279</td>\n",
       "      <td>0</td>\n",
       "      <td>0</td>\n",
       "      <td>0</td>\n",
       "    </tr>\n",
       "    <tr>\n",
       "      <th>22</th>\n",
       "      <td>-2.595918</td>\n",
       "      <td>5.513531</td>\n",
       "      <td>0.011529</td>\n",
       "      <td>1.970146</td>\n",
       "      <td>1</td>\n",
       "      <td>1</td>\n",
       "      <td>1</td>\n",
       "    </tr>\n",
       "    <tr>\n",
       "      <th>27</th>\n",
       "      <td>-2.784658</td>\n",
       "      <td>5.825409</td>\n",
       "      <td>0.007447</td>\n",
       "      <td>1.957864</td>\n",
       "      <td>1</td>\n",
       "      <td>1</td>\n",
       "      <td>1</td>\n",
       "    </tr>\n",
       "    <tr>\n",
       "      <th>28</th>\n",
       "      <td>-2.574459</td>\n",
       "      <td>5.599093</td>\n",
       "      <td>0.028452</td>\n",
       "      <td>1.954338</td>\n",
       "      <td>1</td>\n",
       "      <td>1</td>\n",
       "      <td>1</td>\n",
       "    </tr>\n",
       "    <tr>\n",
       "      <th>...</th>\n",
       "      <td>...</td>\n",
       "      <td>...</td>\n",
       "      <td>...</td>\n",
       "      <td>...</td>\n",
       "      <td>...</td>\n",
       "      <td>...</td>\n",
       "      <td>...</td>\n",
       "    </tr>\n",
       "    <tr>\n",
       "      <th>1875</th>\n",
       "      <td>-2.986062</td>\n",
       "      <td>6.168940</td>\n",
       "      <td>0.007146</td>\n",
       "      <td>1.979641</td>\n",
       "      <td>1</td>\n",
       "      <td>1</td>\n",
       "      <td>1</td>\n",
       "    </tr>\n",
       "    <tr>\n",
       "      <th>1876</th>\n",
       "      <td>-3.020821</td>\n",
       "      <td>5.834997</td>\n",
       "      <td>0.000552</td>\n",
       "      <td>1.943276</td>\n",
       "      <td>1</td>\n",
       "      <td>1</td>\n",
       "      <td>1</td>\n",
       "    </tr>\n",
       "    <tr>\n",
       "      <th>1877</th>\n",
       "      <td>-3.082693</td>\n",
       "      <td>5.802138</td>\n",
       "      <td>0.000832</td>\n",
       "      <td>1.913086</td>\n",
       "      <td>1</td>\n",
       "      <td>1</td>\n",
       "      <td>1</td>\n",
       "    </tr>\n",
       "    <tr>\n",
       "      <th>1878</th>\n",
       "      <td>-3.014879</td>\n",
       "      <td>6.071866</td>\n",
       "      <td>0.001957</td>\n",
       "      <td>1.981859</td>\n",
       "      <td>1</td>\n",
       "      <td>1</td>\n",
       "      <td>1</td>\n",
       "    </tr>\n",
       "    <tr>\n",
       "      <th>1880</th>\n",
       "      <td>-2.863911</td>\n",
       "      <td>5.885867</td>\n",
       "      <td>0.001213</td>\n",
       "      <td>1.977819</td>\n",
       "      <td>1</td>\n",
       "      <td>1</td>\n",
       "      <td>1</td>\n",
       "    </tr>\n",
       "  </tbody>\n",
       "</table>\n",
       "<p>649 rows × 7 columns</p>\n",
       "</div>"
      ],
      "text/plain": [
       "      undermine_score  support_score  cp_distance  cop_distance  \\\n",
       "1            4.980137      -5.918371     1.923178      0.001339   \n",
       "14           4.973082      -5.446892     1.975014      0.038279   \n",
       "22          -2.595918       5.513531     0.011529      1.970146   \n",
       "27          -2.784658       5.825409     0.007447      1.957864   \n",
       "28          -2.574459       5.599093     0.028452      1.954338   \n",
       "...               ...            ...          ...           ...   \n",
       "1875        -2.986062       6.168940     0.007146      1.979641   \n",
       "1876        -3.020821       5.834997     0.000552      1.943276   \n",
       "1877        -3.082693       5.802138     0.000832      1.913086   \n",
       "1878        -3.014879       6.071866     0.001957      1.981859   \n",
       "1880        -2.863911       5.885867     0.001213      1.977819   \n",
       "\n",
       "      predict_label  distance_label  gold  \n",
       "1                 0               0     0  \n",
       "14                0               0     0  \n",
       "22                1               1     1  \n",
       "27                1               1     1  \n",
       "28                1               1     1  \n",
       "...             ...             ...   ...  \n",
       "1875              1               1     1  \n",
       "1876              1               1     1  \n",
       "1877              1               1     1  \n",
       "1878              1               1     1  \n",
       "1880              1               1     1  \n",
       "\n",
       "[649 rows x 7 columns]"
      ]
     },
     "execution_count": 31,
     "metadata": {},
     "output_type": "execute_result"
    }
   ],
   "source": [
    "df_distance_diff = df_consistency[abs(df_consistency.cp_distance-df_consistency.cop_distance)>1.9]\n",
    "df_distance_diff"
   ]
  },
  {
   "cell_type": "code",
   "execution_count": 32,
   "metadata": {},
   "outputs": [
    {
     "data": {
      "text/plain": [
       "0.9462915601023019"
      ]
     },
     "execution_count": 32,
     "metadata": {},
     "output_type": "execute_result"
    }
   ],
   "source": [
    "f1_score(df_distance_diff.gold,df_distance_diff.distance_label)"
   ]
  },
  {
   "cell_type": "code",
   "execution_count": 33,
   "metadata": {},
   "outputs": [
    {
     "data": {
      "text/plain": [
       "0.9273182957393483"
      ]
     },
     "execution_count": 33,
     "metadata": {},
     "output_type": "execute_result"
    }
   ],
   "source": [
    "precision_score(df_distance_diff.gold,df_distance_diff.distance_label)"
   ]
  },
  {
   "cell_type": "code",
   "execution_count": 34,
   "metadata": {},
   "outputs": [
    {
     "data": {
      "text/plain": [
       "0.9660574412532638"
      ]
     },
     "execution_count": 34,
     "metadata": {},
     "output_type": "execute_result"
    }
   ],
   "source": [
    "recall_score(df_distance_diff.gold,df_distance_diff.distance_label)"
   ]
  },
  {
   "cell_type": "code",
   "execution_count": null,
   "metadata": {},
   "outputs": [],
   "source": []
  },
  {
   "cell_type": "code",
   "execution_count": null,
   "metadata": {},
   "outputs": [],
   "source": []
  },
  {
   "cell_type": "code",
   "execution_count": null,
   "metadata": {},
   "outputs": [],
   "source": []
  },
  {
   "cell_type": "code",
   "execution_count": 35,
   "metadata": {},
   "outputs": [],
   "source": [
    "#inconsistent cases (logtis prediction != distance prediction)"
   ]
  },
  {
   "cell_type": "code",
   "execution_count": 36,
   "metadata": {},
   "outputs": [],
   "source": [
    "df_inconsistency = df"
   ]
  },
  {
   "cell_type": "code",
   "execution_count": 37,
   "metadata": {},
   "outputs": [],
   "source": [
    "df_consistency = df[df.predict_label==df.distance_label]"
   ]
  },
  {
   "cell_type": "code",
   "execution_count": 38,
   "metadata": {},
   "outputs": [
    {
     "data": {
      "text/html": [
       "<div>\n",
       "<style scoped>\n",
       "    .dataframe tbody tr th:only-of-type {\n",
       "        vertical-align: middle;\n",
       "    }\n",
       "\n",
       "    .dataframe tbody tr th {\n",
       "        vertical-align: top;\n",
       "    }\n",
       "\n",
       "    .dataframe thead th {\n",
       "        text-align: right;\n",
       "    }\n",
       "</style>\n",
       "<table border=\"1\" class=\"dataframe\">\n",
       "  <thead>\n",
       "    <tr style=\"text-align: right;\">\n",
       "      <th></th>\n",
       "      <th>undermine_score</th>\n",
       "      <th>support_score</th>\n",
       "      <th>cp_distance</th>\n",
       "      <th>cop_distance</th>\n",
       "      <th>predict_label</th>\n",
       "      <th>distance_label</th>\n",
       "      <th>gold</th>\n",
       "    </tr>\n",
       "  </thead>\n",
       "  <tbody>\n",
       "    <tr>\n",
       "      <th>0</th>\n",
       "      <td>-4.223587</td>\n",
       "      <td>3.430138</td>\n",
       "      <td>0.020014</td>\n",
       "      <td>0.012879</td>\n",
       "      <td>1</td>\n",
       "      <td>0</td>\n",
       "      <td>1</td>\n",
       "    </tr>\n",
       "    <tr>\n",
       "      <th>1</th>\n",
       "      <td>4.980137</td>\n",
       "      <td>-5.918371</td>\n",
       "      <td>1.923178</td>\n",
       "      <td>0.001339</td>\n",
       "      <td>0</td>\n",
       "      <td>0</td>\n",
       "      <td>0</td>\n",
       "    </tr>\n",
       "    <tr>\n",
       "      <th>2</th>\n",
       "      <td>-4.051531</td>\n",
       "      <td>3.098645</td>\n",
       "      <td>0.004558</td>\n",
       "      <td>0.010478</td>\n",
       "      <td>1</td>\n",
       "      <td>1</td>\n",
       "      <td>1</td>\n",
       "    </tr>\n",
       "    <tr>\n",
       "      <th>3</th>\n",
       "      <td>-1.659985</td>\n",
       "      <td>2.563246</td>\n",
       "      <td>0.277413</td>\n",
       "      <td>0.157976</td>\n",
       "      <td>1</td>\n",
       "      <td>0</td>\n",
       "      <td>1</td>\n",
       "    </tr>\n",
       "    <tr>\n",
       "      <th>4</th>\n",
       "      <td>-1.103358</td>\n",
       "      <td>5.317815</td>\n",
       "      <td>0.293655</td>\n",
       "      <td>1.842567</td>\n",
       "      <td>1</td>\n",
       "      <td>1</td>\n",
       "      <td>1</td>\n",
       "    </tr>\n",
       "    <tr>\n",
       "      <th>...</th>\n",
       "      <td>...</td>\n",
       "      <td>...</td>\n",
       "      <td>...</td>\n",
       "      <td>...</td>\n",
       "      <td>...</td>\n",
       "      <td>...</td>\n",
       "      <td>...</td>\n",
       "    </tr>\n",
       "    <tr>\n",
       "      <th>1876</th>\n",
       "      <td>-3.020821</td>\n",
       "      <td>5.834997</td>\n",
       "      <td>0.000552</td>\n",
       "      <td>1.943276</td>\n",
       "      <td>1</td>\n",
       "      <td>1</td>\n",
       "      <td>1</td>\n",
       "    </tr>\n",
       "    <tr>\n",
       "      <th>1877</th>\n",
       "      <td>-3.082693</td>\n",
       "      <td>5.802138</td>\n",
       "      <td>0.000832</td>\n",
       "      <td>1.913086</td>\n",
       "      <td>1</td>\n",
       "      <td>1</td>\n",
       "      <td>1</td>\n",
       "    </tr>\n",
       "    <tr>\n",
       "      <th>1878</th>\n",
       "      <td>-3.014879</td>\n",
       "      <td>6.071866</td>\n",
       "      <td>0.001957</td>\n",
       "      <td>1.981859</td>\n",
       "      <td>1</td>\n",
       "      <td>1</td>\n",
       "      <td>1</td>\n",
       "    </tr>\n",
       "    <tr>\n",
       "      <th>1879</th>\n",
       "      <td>-3.992391</td>\n",
       "      <td>2.597567</td>\n",
       "      <td>0.005293</td>\n",
       "      <td>0.004218</td>\n",
       "      <td>1</td>\n",
       "      <td>0</td>\n",
       "      <td>1</td>\n",
       "    </tr>\n",
       "    <tr>\n",
       "      <th>1880</th>\n",
       "      <td>-2.863911</td>\n",
       "      <td>5.885867</td>\n",
       "      <td>0.001213</td>\n",
       "      <td>1.977819</td>\n",
       "      <td>1</td>\n",
       "      <td>1</td>\n",
       "      <td>1</td>\n",
       "    </tr>\n",
       "  </tbody>\n",
       "</table>\n",
       "<p>4408 rows × 7 columns</p>\n",
       "</div>"
      ],
      "text/plain": [
       "      undermine_score  support_score  cp_distance  cop_distance  \\\n",
       "0           -4.223587       3.430138     0.020014      0.012879   \n",
       "1            4.980137      -5.918371     1.923178      0.001339   \n",
       "2           -4.051531       3.098645     0.004558      0.010478   \n",
       "3           -1.659985       2.563246     0.277413      0.157976   \n",
       "4           -1.103358       5.317815     0.293655      1.842567   \n",
       "...               ...            ...          ...           ...   \n",
       "1876        -3.020821       5.834997     0.000552      1.943276   \n",
       "1877        -3.082693       5.802138     0.000832      1.913086   \n",
       "1878        -3.014879       6.071866     0.001957      1.981859   \n",
       "1879        -3.992391       2.597567     0.005293      0.004218   \n",
       "1880        -2.863911       5.885867     0.001213      1.977819   \n",
       "\n",
       "      predict_label  distance_label  gold  \n",
       "0                 1               0     1  \n",
       "1                 0               0     0  \n",
       "2                 1               1     1  \n",
       "3                 1               0     1  \n",
       "4                 1               1     1  \n",
       "...             ...             ...   ...  \n",
       "1876              1               1     1  \n",
       "1877              1               1     1  \n",
       "1878              1               1     1  \n",
       "1879              1               0     1  \n",
       "1880              1               1     1  \n",
       "\n",
       "[4408 rows x 7 columns]"
      ]
     },
     "execution_count": 38,
     "metadata": {},
     "output_type": "execute_result"
    }
   ],
   "source": [
    "df_inconsistency"
   ]
  },
  {
   "cell_type": "code",
   "execution_count": 39,
   "metadata": {},
   "outputs": [],
   "source": [
    "#triplet test set"
   ]
  },
  {
   "cell_type": "code",
   "execution_count": 40,
   "metadata": {},
   "outputs": [],
   "source": [
    "df_origin = pd.read_csv(\"../stance_code/Dataset/tri_test.tsv\", delimiter=\"\\t\")"
   ]
  },
  {
   "cell_type": "code",
   "execution_count": 41,
   "metadata": {},
   "outputs": [],
   "source": [
    "#combine triplet test set with eval results"
   ]
  },
  {
   "cell_type": "code",
   "execution_count": 42,
   "metadata": {},
   "outputs": [],
   "source": [
    "incons_out = df_inconsistency.join(df_origin).drop(\"x\",axis=1).drop(\"y\",axis=1)"
   ]
  },
  {
   "cell_type": "code",
   "execution_count": 43,
   "metadata": {},
   "outputs": [],
   "source": [
    "# incons_out.to_csv(\"inconsistency_data.csv\",index=False)"
   ]
  },
  {
   "cell_type": "code",
   "execution_count": 44,
   "metadata": {},
   "outputs": [],
   "source": [
    "# incons_out.to_excel(\"inconsistency_data.xlsx\")"
   ]
  },
  {
   "cell_type": "code",
   "execution_count": 45,
   "metadata": {},
   "outputs": [
    {
     "data": {
      "text/plain": [
       "0.8223684210526315"
      ]
     },
     "execution_count": 45,
     "metadata": {},
     "output_type": "execute_result"
    }
   ],
   "source": [
    "accuracy_score(df_inconsistency.gold,df_inconsistency.predict_label)"
   ]
  },
  {
   "cell_type": "code",
   "execution_count": null,
   "metadata": {},
   "outputs": [],
   "source": []
  },
  {
   "cell_type": "code",
   "execution_count": 46,
   "metadata": {},
   "outputs": [],
   "source": [
    "# distance_correct_logits_wrong"
   ]
  },
  {
   "cell_type": "code",
   "execution_count": 47,
   "metadata": {},
   "outputs": [],
   "source": [
    "df_distance_correct_logits_wrong = df[(df.distance_label==df.gold)&(df.predict_label!=df.gold)]"
   ]
  },
  {
   "cell_type": "code",
   "execution_count": 48,
   "metadata": {},
   "outputs": [
    {
     "data": {
      "text/html": [
       "<div>\n",
       "<style scoped>\n",
       "    .dataframe tbody tr th:only-of-type {\n",
       "        vertical-align: middle;\n",
       "    }\n",
       "\n",
       "    .dataframe tbody tr th {\n",
       "        vertical-align: top;\n",
       "    }\n",
       "\n",
       "    .dataframe thead th {\n",
       "        text-align: right;\n",
       "    }\n",
       "</style>\n",
       "<table border=\"1\" class=\"dataframe\">\n",
       "  <thead>\n",
       "    <tr style=\"text-align: right;\">\n",
       "      <th></th>\n",
       "      <th>undermine_score</th>\n",
       "      <th>support_score</th>\n",
       "      <th>cp_distance</th>\n",
       "      <th>cop_distance</th>\n",
       "      <th>predict_label</th>\n",
       "      <th>distance_label</th>\n",
       "      <th>gold</th>\n",
       "    </tr>\n",
       "  </thead>\n",
       "  <tbody>\n",
       "    <tr>\n",
       "      <th>59</th>\n",
       "      <td>6.975863</td>\n",
       "      <td>-2.372392</td>\n",
       "      <td>1.920776</td>\n",
       "      <td>1.928768</td>\n",
       "      <td>0</td>\n",
       "      <td>1</td>\n",
       "      <td>1</td>\n",
       "    </tr>\n",
       "    <tr>\n",
       "      <th>73</th>\n",
       "      <td>1.812300</td>\n",
       "      <td>-0.927047</td>\n",
       "      <td>1.096693</td>\n",
       "      <td>1.661179</td>\n",
       "      <td>0</td>\n",
       "      <td>1</td>\n",
       "      <td>1</td>\n",
       "    </tr>\n",
       "    <tr>\n",
       "      <th>78</th>\n",
       "      <td>2.363664</td>\n",
       "      <td>-1.478531</td>\n",
       "      <td>1.179334</td>\n",
       "      <td>1.422178</td>\n",
       "      <td>0</td>\n",
       "      <td>1</td>\n",
       "      <td>1</td>\n",
       "    </tr>\n",
       "    <tr>\n",
       "      <th>84</th>\n",
       "      <td>5.189340</td>\n",
       "      <td>-5.870834</td>\n",
       "      <td>1.708071</td>\n",
       "      <td>1.780854</td>\n",
       "      <td>0</td>\n",
       "      <td>1</td>\n",
       "      <td>1</td>\n",
       "    </tr>\n",
       "    <tr>\n",
       "      <th>110</th>\n",
       "      <td>-2.283030</td>\n",
       "      <td>2.307269</td>\n",
       "      <td>0.426038</td>\n",
       "      <td>0.200011</td>\n",
       "      <td>1</td>\n",
       "      <td>0</td>\n",
       "      <td>0</td>\n",
       "    </tr>\n",
       "    <tr>\n",
       "      <th>...</th>\n",
       "      <td>...</td>\n",
       "      <td>...</td>\n",
       "      <td>...</td>\n",
       "      <td>...</td>\n",
       "      <td>...</td>\n",
       "      <td>...</td>\n",
       "      <td>...</td>\n",
       "    </tr>\n",
       "    <tr>\n",
       "      <th>1700</th>\n",
       "      <td>4.233325</td>\n",
       "      <td>-0.826067</td>\n",
       "      <td>1.689186</td>\n",
       "      <td>1.910766</td>\n",
       "      <td>0</td>\n",
       "      <td>1</td>\n",
       "      <td>1</td>\n",
       "    </tr>\n",
       "    <tr>\n",
       "      <th>1745</th>\n",
       "      <td>-4.210659</td>\n",
       "      <td>3.200775</td>\n",
       "      <td>0.024819</td>\n",
       "      <td>0.002696</td>\n",
       "      <td>1</td>\n",
       "      <td>0</td>\n",
       "      <td>0</td>\n",
       "    </tr>\n",
       "    <tr>\n",
       "      <th>1749</th>\n",
       "      <td>-1.710640</td>\n",
       "      <td>1.631334</td>\n",
       "      <td>0.619466</td>\n",
       "      <td>0.052952</td>\n",
       "      <td>1</td>\n",
       "      <td>0</td>\n",
       "      <td>0</td>\n",
       "    </tr>\n",
       "    <tr>\n",
       "      <th>1771</th>\n",
       "      <td>3.422000</td>\n",
       "      <td>-2.228989</td>\n",
       "      <td>1.575843</td>\n",
       "      <td>1.648455</td>\n",
       "      <td>0</td>\n",
       "      <td>1</td>\n",
       "      <td>1</td>\n",
       "    </tr>\n",
       "    <tr>\n",
       "      <th>1790</th>\n",
       "      <td>0.792280</td>\n",
       "      <td>-0.925869</td>\n",
       "      <td>0.826461</td>\n",
       "      <td>1.562265</td>\n",
       "      <td>0</td>\n",
       "      <td>1</td>\n",
       "      <td>1</td>\n",
       "    </tr>\n",
       "  </tbody>\n",
       "</table>\n",
       "<p>193 rows × 7 columns</p>\n",
       "</div>"
      ],
      "text/plain": [
       "      undermine_score  support_score  cp_distance  cop_distance  \\\n",
       "59           6.975863      -2.372392     1.920776      1.928768   \n",
       "73           1.812300      -0.927047     1.096693      1.661179   \n",
       "78           2.363664      -1.478531     1.179334      1.422178   \n",
       "84           5.189340      -5.870834     1.708071      1.780854   \n",
       "110         -2.283030       2.307269     0.426038      0.200011   \n",
       "...               ...            ...          ...           ...   \n",
       "1700         4.233325      -0.826067     1.689186      1.910766   \n",
       "1745        -4.210659       3.200775     0.024819      0.002696   \n",
       "1749        -1.710640       1.631334     0.619466      0.052952   \n",
       "1771         3.422000      -2.228989     1.575843      1.648455   \n",
       "1790         0.792280      -0.925869     0.826461      1.562265   \n",
       "\n",
       "      predict_label  distance_label  gold  \n",
       "59                0               1     1  \n",
       "73                0               1     1  \n",
       "78                0               1     1  \n",
       "84                0               1     1  \n",
       "110               1               0     0  \n",
       "...             ...             ...   ...  \n",
       "1700              0               1     1  \n",
       "1745              1               0     0  \n",
       "1749              1               0     0  \n",
       "1771              0               1     1  \n",
       "1790              0               1     1  \n",
       "\n",
       "[193 rows x 7 columns]"
      ]
     },
     "execution_count": 48,
     "metadata": {},
     "output_type": "execute_result"
    }
   ],
   "source": [
    "df_distance_correct_logits_wrong"
   ]
  },
  {
   "cell_type": "code",
   "execution_count": 49,
   "metadata": {},
   "outputs": [],
   "source": [
    "# combine distance_correct_logits_wrong with test set"
   ]
  },
  {
   "cell_type": "code",
   "execution_count": 50,
   "metadata": {},
   "outputs": [],
   "source": [
    "dcorrect_lwrong_out = df_distance_correct_logits_wrong.join(df_origin).drop(\"x\",axis=1).drop(\"y\",axis=1)"
   ]
  },
  {
   "cell_type": "code",
   "execution_count": 51,
   "metadata": {},
   "outputs": [
    {
     "data": {
      "text/html": [
       "<div>\n",
       "<style scoped>\n",
       "    .dataframe tbody tr th:only-of-type {\n",
       "        vertical-align: middle;\n",
       "    }\n",
       "\n",
       "    .dataframe tbody tr th {\n",
       "        vertical-align: top;\n",
       "    }\n",
       "\n",
       "    .dataframe thead th {\n",
       "        text-align: right;\n",
       "    }\n",
       "</style>\n",
       "<table border=\"1\" class=\"dataframe\">\n",
       "  <thead>\n",
       "    <tr style=\"text-align: right;\">\n",
       "      <th></th>\n",
       "      <th>undermine_score</th>\n",
       "      <th>support_score</th>\n",
       "      <th>cp_distance</th>\n",
       "      <th>cop_distance</th>\n",
       "      <th>predict_label</th>\n",
       "      <th>distance_label</th>\n",
       "      <th>gold</th>\n",
       "      <th>Label</th>\n",
       "      <th>claim</th>\n",
       "      <th>perspective</th>\n",
       "      <th>opposite_perspective</th>\n",
       "    </tr>\n",
       "  </thead>\n",
       "  <tbody>\n",
       "    <tr>\n",
       "      <th>20</th>\n",
       "      <td>6.864208</td>\n",
       "      <td>-2.278313</td>\n",
       "      <td>1.910880</td>\n",
       "      <td>1.918588</td>\n",
       "      <td>0</td>\n",
       "      <td>1</td>\n",
       "      <td>1</td>\n",
       "      <td>0</td>\n",
       "      <td>Raise The School Leaving Age To 18</td>\n",
       "      <td>The classroom environment is not ideal for all...</td>\n",
       "      <td>The classroom environment is ideal for all les...</td>\n",
       "    </tr>\n",
       "    <tr>\n",
       "      <th>59</th>\n",
       "      <td>6.975863</td>\n",
       "      <td>-2.372392</td>\n",
       "      <td>1.920776</td>\n",
       "      <td>1.928768</td>\n",
       "      <td>0</td>\n",
       "      <td>1</td>\n",
       "      <td>1</td>\n",
       "      <td>1</td>\n",
       "      <td>Chess must be at the Olympics</td>\n",
       "      <td>Chess is currently not an Olympic sport, but i...</td>\n",
       "      <td>Chess is currently an Olympic sport, but it sh...</td>\n",
       "    </tr>\n",
       "    <tr>\n",
       "      <th>73</th>\n",
       "      <td>1.812300</td>\n",
       "      <td>-0.927047</td>\n",
       "      <td>1.096693</td>\n",
       "      <td>1.661179</td>\n",
       "      <td>0</td>\n",
       "      <td>1</td>\n",
       "      <td>1</td>\n",
       "      <td>1</td>\n",
       "      <td>Federal States are better than unitary nations</td>\n",
       "      <td>Citizens are better protected in federal states.</td>\n",
       "      <td>Citizens are not better protected in federal s...</td>\n",
       "    </tr>\n",
       "    <tr>\n",
       "      <th>78</th>\n",
       "      <td>2.363664</td>\n",
       "      <td>-1.478531</td>\n",
       "      <td>1.179334</td>\n",
       "      <td>1.422178</td>\n",
       "      <td>0</td>\n",
       "      <td>1</td>\n",
       "      <td>1</td>\n",
       "      <td>1</td>\n",
       "      <td>Federal States are better than unitary nations</td>\n",
       "      <td>Federal states are economically stronger</td>\n",
       "      <td>Federal states are not economically stronger</td>\n",
       "    </tr>\n",
       "    <tr>\n",
       "      <th>84</th>\n",
       "      <td>5.189340</td>\n",
       "      <td>-5.870834</td>\n",
       "      <td>1.708071</td>\n",
       "      <td>1.780854</td>\n",
       "      <td>0</td>\n",
       "      <td>1</td>\n",
       "      <td>1</td>\n",
       "      <td>1</td>\n",
       "      <td>The Catholic Church needs reform</td>\n",
       "      <td>If priests were not forced to be celibate, the...</td>\n",
       "      <td>If priests were forced to be celibate, the iss...</td>\n",
       "    </tr>\n",
       "    <tr>\n",
       "      <th>...</th>\n",
       "      <td>...</td>\n",
       "      <td>...</td>\n",
       "      <td>...</td>\n",
       "      <td>...</td>\n",
       "      <td>...</td>\n",
       "      <td>...</td>\n",
       "      <td>...</td>\n",
       "      <td>...</td>\n",
       "      <td>...</td>\n",
       "      <td>...</td>\n",
       "      <td>...</td>\n",
       "    </tr>\n",
       "    <tr>\n",
       "      <th>2434</th>\n",
       "      <td>-3.825589</td>\n",
       "      <td>5.084303</td>\n",
       "      <td>0.037229</td>\n",
       "      <td>0.004001</td>\n",
       "      <td>1</td>\n",
       "      <td>0</td>\n",
       "      <td>0</td>\n",
       "      <td>0</td>\n",
       "      <td>Democracies should ban the display of communis...</td>\n",
       "      <td>Extremist movements are harmful and should not...</td>\n",
       "      <td>Extremist movements are harmful and should be ...</td>\n",
       "    </tr>\n",
       "    <tr>\n",
       "      <th>2465</th>\n",
       "      <td>4.006112</td>\n",
       "      <td>-1.870267</td>\n",
       "      <td>1.650200</td>\n",
       "      <td>1.766552</td>\n",
       "      <td>0</td>\n",
       "      <td>1</td>\n",
       "      <td>1</td>\n",
       "      <td>1</td>\n",
       "      <td>The outcome of the Paris Climate Conference ne...</td>\n",
       "      <td>An international treaty will legalize non-comp...</td>\n",
       "      <td>An international treaty will not legalize non-...</td>\n",
       "    </tr>\n",
       "    <tr>\n",
       "      <th>2473</th>\n",
       "      <td>1.276656</td>\n",
       "      <td>-1.107606</td>\n",
       "      <td>1.218479</td>\n",
       "      <td>1.468761</td>\n",
       "      <td>0</td>\n",
       "      <td>1</td>\n",
       "      <td>1</td>\n",
       "      <td>1</td>\n",
       "      <td>The House of Lords should be reformed</td>\n",
       "      <td>The House of Lords is out of touch with the el...</td>\n",
       "      <td>The House of Lords is not out of touch with th...</td>\n",
       "    </tr>\n",
       "    <tr>\n",
       "      <th>2480</th>\n",
       "      <td>-3.776413</td>\n",
       "      <td>2.909049</td>\n",
       "      <td>0.075312</td>\n",
       "      <td>0.017392</td>\n",
       "      <td>1</td>\n",
       "      <td>0</td>\n",
       "      <td>0</td>\n",
       "      <td>0</td>\n",
       "      <td>NATO has succeeded in Afghanistan</td>\n",
       "      <td>the taliban is waiting and likley to regain co...</td>\n",
       "      <td>the taliban is not waiting and likley to regai...</td>\n",
       "    </tr>\n",
       "    <tr>\n",
       "      <th>2513</th>\n",
       "      <td>0.033896</td>\n",
       "      <td>-0.449516</td>\n",
       "      <td>0.755636</td>\n",
       "      <td>1.142089</td>\n",
       "      <td>0</td>\n",
       "      <td>1</td>\n",
       "      <td>1</td>\n",
       "      <td>1</td>\n",
       "      <td>Illegal downloaders should be cut off from the...</td>\n",
       "      <td>Internet access is an enabler of rights not a ...</td>\n",
       "      <td>Internet access is an enabler of rights a righ...</td>\n",
       "    </tr>\n",
       "  </tbody>\n",
       "</table>\n",
       "<p>193 rows × 11 columns</p>\n",
       "</div>"
      ],
      "text/plain": [
       "      undermine_score  support_score  cp_distance  cop_distance  \\\n",
       "20           6.864208      -2.278313     1.910880      1.918588   \n",
       "59           6.975863      -2.372392     1.920776      1.928768   \n",
       "73           1.812300      -0.927047     1.096693      1.661179   \n",
       "78           2.363664      -1.478531     1.179334      1.422178   \n",
       "84           5.189340      -5.870834     1.708071      1.780854   \n",
       "...               ...            ...          ...           ...   \n",
       "2434        -3.825589       5.084303     0.037229      0.004001   \n",
       "2465         4.006112      -1.870267     1.650200      1.766552   \n",
       "2473         1.276656      -1.107606     1.218479      1.468761   \n",
       "2480        -3.776413       2.909049     0.075312      0.017392   \n",
       "2513         0.033896      -0.449516     0.755636      1.142089   \n",
       "\n",
       "      predict_label  distance_label  gold  Label  \\\n",
       "20                0               1     1      0   \n",
       "59                0               1     1      1   \n",
       "73                0               1     1      1   \n",
       "78                0               1     1      1   \n",
       "84                0               1     1      1   \n",
       "...             ...             ...   ...    ...   \n",
       "2434              1               0     0      0   \n",
       "2465              0               1     1      1   \n",
       "2473              0               1     1      1   \n",
       "2480              1               0     0      0   \n",
       "2513              0               1     1      1   \n",
       "\n",
       "                                                  claim  \\\n",
       "20                   Raise The School Leaving Age To 18   \n",
       "59                        Chess must be at the Olympics   \n",
       "73       Federal States are better than unitary nations   \n",
       "78       Federal States are better than unitary nations   \n",
       "84                     The Catholic Church needs reform   \n",
       "...                                                 ...   \n",
       "2434  Democracies should ban the display of communis...   \n",
       "2465  The outcome of the Paris Climate Conference ne...   \n",
       "2473              The House of Lords should be reformed   \n",
       "2480                  NATO has succeeded in Afghanistan   \n",
       "2513  Illegal downloaders should be cut off from the...   \n",
       "\n",
       "                                            perspective  \\\n",
       "20    The classroom environment is not ideal for all...   \n",
       "59    Chess is currently not an Olympic sport, but i...   \n",
       "73     Citizens are better protected in federal states.   \n",
       "78             Federal states are economically stronger   \n",
       "84    If priests were not forced to be celibate, the...   \n",
       "...                                                 ...   \n",
       "2434  Extremist movements are harmful and should not...   \n",
       "2465  An international treaty will legalize non-comp...   \n",
       "2473  The House of Lords is out of touch with the el...   \n",
       "2480  the taliban is waiting and likley to regain co...   \n",
       "2513  Internet access is an enabler of rights not a ...   \n",
       "\n",
       "                                   opposite_perspective  \n",
       "20    The classroom environment is ideal for all les...  \n",
       "59    Chess is currently an Olympic sport, but it sh...  \n",
       "73    Citizens are not better protected in federal s...  \n",
       "78         Federal states are not economically stronger  \n",
       "84    If priests were forced to be celibate, the iss...  \n",
       "...                                                 ...  \n",
       "2434  Extremist movements are harmful and should be ...  \n",
       "2465  An international treaty will not legalize non-...  \n",
       "2473  The House of Lords is not out of touch with th...  \n",
       "2480  the taliban is not waiting and likley to regai...  \n",
       "2513  Internet access is an enabler of rights a righ...  \n",
       "\n",
       "[193 rows x 11 columns]"
      ]
     },
     "execution_count": 51,
     "metadata": {},
     "output_type": "execute_result"
    }
   ],
   "source": [
    "dcorrect_lwrong_out"
   ]
  },
  {
   "cell_type": "code",
   "execution_count": 52,
   "metadata": {},
   "outputs": [],
   "source": [
    "# dcorrect_lwrong_out.to_csv(\"dcorrect_lwrong_data.csv\")"
   ]
  },
  {
   "cell_type": "code",
   "execution_count": 53,
   "metadata": {},
   "outputs": [],
   "source": [
    "# dcorrect_lwrong_out.to_excel(\"dcorrect_lwrong_data.xlsx\")"
   ]
  },
  {
   "cell_type": "code",
   "execution_count": null,
   "metadata": {},
   "outputs": [],
   "source": []
  },
  {
   "cell_type": "code",
   "execution_count": 54,
   "metadata": {},
   "outputs": [],
   "source": [
    "#distance_wrong_logits_correct"
   ]
  },
  {
   "cell_type": "code",
   "execution_count": 55,
   "metadata": {},
   "outputs": [],
   "source": [
    "df_distance_wrong_logits_correct = df[(df.distance_label!=df.gold)&(df.predict_label==df.gold)]"
   ]
  },
  {
   "cell_type": "code",
   "execution_count": 56,
   "metadata": {},
   "outputs": [
    {
     "data": {
      "text/html": [
       "<div>\n",
       "<style scoped>\n",
       "    .dataframe tbody tr th:only-of-type {\n",
       "        vertical-align: middle;\n",
       "    }\n",
       "\n",
       "    .dataframe tbody tr th {\n",
       "        vertical-align: top;\n",
       "    }\n",
       "\n",
       "    .dataframe thead th {\n",
       "        text-align: right;\n",
       "    }\n",
       "</style>\n",
       "<table border=\"1\" class=\"dataframe\">\n",
       "  <thead>\n",
       "    <tr style=\"text-align: right;\">\n",
       "      <th></th>\n",
       "      <th>undermine_score</th>\n",
       "      <th>support_score</th>\n",
       "      <th>cp_distance</th>\n",
       "      <th>cop_distance</th>\n",
       "      <th>predict_label</th>\n",
       "      <th>distance_label</th>\n",
       "      <th>gold</th>\n",
       "    </tr>\n",
       "  </thead>\n",
       "  <tbody>\n",
       "    <tr>\n",
       "      <th>0</th>\n",
       "      <td>-4.223587</td>\n",
       "      <td>3.430138</td>\n",
       "      <td>0.020014</td>\n",
       "      <td>0.012879</td>\n",
       "      <td>1</td>\n",
       "      <td>0</td>\n",
       "      <td>1</td>\n",
       "    </tr>\n",
       "    <tr>\n",
       "      <th>3</th>\n",
       "      <td>-1.659985</td>\n",
       "      <td>2.563246</td>\n",
       "      <td>0.277413</td>\n",
       "      <td>0.157976</td>\n",
       "      <td>1</td>\n",
       "      <td>0</td>\n",
       "      <td>1</td>\n",
       "    </tr>\n",
       "    <tr>\n",
       "      <th>81</th>\n",
       "      <td>-0.142597</td>\n",
       "      <td>0.318115</td>\n",
       "      <td>0.313459</td>\n",
       "      <td>0.120503</td>\n",
       "      <td>1</td>\n",
       "      <td>0</td>\n",
       "      <td>1</td>\n",
       "    </tr>\n",
       "    <tr>\n",
       "      <th>88</th>\n",
       "      <td>4.976699</td>\n",
       "      <td>-0.766726</td>\n",
       "      <td>1.319132</td>\n",
       "      <td>1.789118</td>\n",
       "      <td>0</td>\n",
       "      <td>1</td>\n",
       "      <td>0</td>\n",
       "    </tr>\n",
       "    <tr>\n",
       "      <th>101</th>\n",
       "      <td>6.664764</td>\n",
       "      <td>-2.338005</td>\n",
       "      <td>1.957810</td>\n",
       "      <td>1.962720</td>\n",
       "      <td>0</td>\n",
       "      <td>1</td>\n",
       "      <td>0</td>\n",
       "    </tr>\n",
       "    <tr>\n",
       "      <th>...</th>\n",
       "      <td>...</td>\n",
       "      <td>...</td>\n",
       "      <td>...</td>\n",
       "      <td>...</td>\n",
       "      <td>...</td>\n",
       "      <td>...</td>\n",
       "      <td>...</td>\n",
       "    </tr>\n",
       "    <tr>\n",
       "      <th>1814</th>\n",
       "      <td>3.905345</td>\n",
       "      <td>-0.095968</td>\n",
       "      <td>1.457064</td>\n",
       "      <td>1.681851</td>\n",
       "      <td>0</td>\n",
       "      <td>1</td>\n",
       "      <td>0</td>\n",
       "    </tr>\n",
       "    <tr>\n",
       "      <th>1820</th>\n",
       "      <td>1.593746</td>\n",
       "      <td>1.562980</td>\n",
       "      <td>1.135675</td>\n",
       "      <td>1.713086</td>\n",
       "      <td>0</td>\n",
       "      <td>1</td>\n",
       "      <td>0</td>\n",
       "    </tr>\n",
       "    <tr>\n",
       "      <th>1841</th>\n",
       "      <td>4.879842</td>\n",
       "      <td>-0.891742</td>\n",
       "      <td>1.643439</td>\n",
       "      <td>1.880957</td>\n",
       "      <td>0</td>\n",
       "      <td>1</td>\n",
       "      <td>0</td>\n",
       "    </tr>\n",
       "    <tr>\n",
       "      <th>1842</th>\n",
       "      <td>4.840327</td>\n",
       "      <td>-0.986017</td>\n",
       "      <td>1.712768</td>\n",
       "      <td>1.825670</td>\n",
       "      <td>0</td>\n",
       "      <td>1</td>\n",
       "      <td>0</td>\n",
       "    </tr>\n",
       "    <tr>\n",
       "      <th>1879</th>\n",
       "      <td>-3.992391</td>\n",
       "      <td>2.597567</td>\n",
       "      <td>0.005293</td>\n",
       "      <td>0.004218</td>\n",
       "      <td>1</td>\n",
       "      <td>0</td>\n",
       "      <td>1</td>\n",
       "    </tr>\n",
       "  </tbody>\n",
       "</table>\n",
       "<p>374 rows × 7 columns</p>\n",
       "</div>"
      ],
      "text/plain": [
       "      undermine_score  support_score  cp_distance  cop_distance  \\\n",
       "0           -4.223587       3.430138     0.020014      0.012879   \n",
       "3           -1.659985       2.563246     0.277413      0.157976   \n",
       "81          -0.142597       0.318115     0.313459      0.120503   \n",
       "88           4.976699      -0.766726     1.319132      1.789118   \n",
       "101          6.664764      -2.338005     1.957810      1.962720   \n",
       "...               ...            ...          ...           ...   \n",
       "1814         3.905345      -0.095968     1.457064      1.681851   \n",
       "1820         1.593746       1.562980     1.135675      1.713086   \n",
       "1841         4.879842      -0.891742     1.643439      1.880957   \n",
       "1842         4.840327      -0.986017     1.712768      1.825670   \n",
       "1879        -3.992391       2.597567     0.005293      0.004218   \n",
       "\n",
       "      predict_label  distance_label  gold  \n",
       "0                 1               0     1  \n",
       "3                 1               0     1  \n",
       "81                1               0     1  \n",
       "88                0               1     0  \n",
       "101               0               1     0  \n",
       "...             ...             ...   ...  \n",
       "1814              0               1     0  \n",
       "1820              0               1     0  \n",
       "1841              0               1     0  \n",
       "1842              0               1     0  \n",
       "1879              1               0     1  \n",
       "\n",
       "[374 rows x 7 columns]"
      ]
     },
     "execution_count": 56,
     "metadata": {},
     "output_type": "execute_result"
    }
   ],
   "source": [
    "df_distance_wrong_logits_correct"
   ]
  },
  {
   "cell_type": "code",
   "execution_count": 57,
   "metadata": {},
   "outputs": [],
   "source": [
    "#combine distance_wrong_logits_correct with test set"
   ]
  },
  {
   "cell_type": "code",
   "execution_count": 58,
   "metadata": {},
   "outputs": [],
   "source": [
    "dwrong_lcorrect_out = df_distance_wrong_logits_correct.join(df_origin).drop(\"x\",axis=1).drop(\"y\",axis=1)"
   ]
  },
  {
   "cell_type": "code",
   "execution_count": 59,
   "metadata": {},
   "outputs": [
    {
     "data": {
      "text/html": [
       "<div>\n",
       "<style scoped>\n",
       "    .dataframe tbody tr th:only-of-type {\n",
       "        vertical-align: middle;\n",
       "    }\n",
       "\n",
       "    .dataframe tbody tr th {\n",
       "        vertical-align: top;\n",
       "    }\n",
       "\n",
       "    .dataframe thead th {\n",
       "        text-align: right;\n",
       "    }\n",
       "</style>\n",
       "<table border=\"1\" class=\"dataframe\">\n",
       "  <thead>\n",
       "    <tr style=\"text-align: right;\">\n",
       "      <th></th>\n",
       "      <th>undermine_score</th>\n",
       "      <th>support_score</th>\n",
       "      <th>cp_distance</th>\n",
       "      <th>cop_distance</th>\n",
       "      <th>predict_label</th>\n",
       "      <th>distance_label</th>\n",
       "      <th>gold</th>\n",
       "      <th>Label</th>\n",
       "      <th>claim</th>\n",
       "      <th>perspective</th>\n",
       "      <th>opposite_perspective</th>\n",
       "    </tr>\n",
       "  </thead>\n",
       "  <tbody>\n",
       "    <tr>\n",
       "      <th>0</th>\n",
       "      <td>-4.223587</td>\n",
       "      <td>3.430138</td>\n",
       "      <td>0.020014</td>\n",
       "      <td>0.012879</td>\n",
       "      <td>1</td>\n",
       "      <td>0</td>\n",
       "      <td>1</td>\n",
       "      <td>1</td>\n",
       "      <td>School Day Should Be Extended</td>\n",
       "      <td>Lessons would feel less broken.</td>\n",
       "      <td>Lessons would not feel less broken.</td>\n",
       "    </tr>\n",
       "    <tr>\n",
       "      <th>3</th>\n",
       "      <td>-1.659985</td>\n",
       "      <td>2.563246</td>\n",
       "      <td>0.277413</td>\n",
       "      <td>0.157976</td>\n",
       "      <td>1</td>\n",
       "      <td>0</td>\n",
       "      <td>1</td>\n",
       "      <td>1</td>\n",
       "      <td>School Day Should Be Extended</td>\n",
       "      <td>Less need for homework.</td>\n",
       "      <td>More need for homework.</td>\n",
       "    </tr>\n",
       "    <tr>\n",
       "      <th>3</th>\n",
       "      <td>6.877738</td>\n",
       "      <td>-2.613240</td>\n",
       "      <td>1.961827</td>\n",
       "      <td>1.976244</td>\n",
       "      <td>0</td>\n",
       "      <td>1</td>\n",
       "      <td>0</td>\n",
       "      <td>1</td>\n",
       "      <td>School Day Should Be Extended</td>\n",
       "      <td>Less need for homework.</td>\n",
       "      <td>More need for homework.</td>\n",
       "    </tr>\n",
       "    <tr>\n",
       "      <th>48</th>\n",
       "      <td>-4.295470</td>\n",
       "      <td>5.233423</td>\n",
       "      <td>0.008994</td>\n",
       "      <td>0.004334</td>\n",
       "      <td>1</td>\n",
       "      <td>0</td>\n",
       "      <td>1</td>\n",
       "      <td>0</td>\n",
       "      <td>Make all museums free of charge</td>\n",
       "      <td>We should not expect the state to fund museums</td>\n",
       "      <td>We should expect the state to fund museums</td>\n",
       "    </tr>\n",
       "    <tr>\n",
       "      <th>49</th>\n",
       "      <td>-4.151679</td>\n",
       "      <td>5.045624</td>\n",
       "      <td>0.017031</td>\n",
       "      <td>0.011044</td>\n",
       "      <td>1</td>\n",
       "      <td>0</td>\n",
       "      <td>1</td>\n",
       "      <td>1</td>\n",
       "      <td>Make all museums free of charge</td>\n",
       "      <td>Museums are a crucial source of inspiration an...</td>\n",
       "      <td>Museums are not a crucial source of inspiratio...</td>\n",
       "    </tr>\n",
       "    <tr>\n",
       "      <th>...</th>\n",
       "      <td>...</td>\n",
       "      <td>...</td>\n",
       "      <td>...</td>\n",
       "      <td>...</td>\n",
       "      <td>...</td>\n",
       "      <td>...</td>\n",
       "      <td>...</td>\n",
       "      <td>...</td>\n",
       "      <td>...</td>\n",
       "      <td>...</td>\n",
       "      <td>...</td>\n",
       "    </tr>\n",
       "    <tr>\n",
       "      <th>2428</th>\n",
       "      <td>1.780620</td>\n",
       "      <td>0.518181</td>\n",
       "      <td>0.962062</td>\n",
       "      <td>1.407790</td>\n",
       "      <td>0</td>\n",
       "      <td>1</td>\n",
       "      <td>0</td>\n",
       "      <td>0</td>\n",
       "      <td>Democracies should ban the display of communis...</td>\n",
       "      <td>Society is ready to live with Nazi and Soviet ...</td>\n",
       "      <td>Society is not ready to live with Nazi and Sov...</td>\n",
       "    </tr>\n",
       "    <tr>\n",
       "      <th>2479</th>\n",
       "      <td>1.438328</td>\n",
       "      <td>0.848351</td>\n",
       "      <td>1.115165</td>\n",
       "      <td>1.629890</td>\n",
       "      <td>0</td>\n",
       "      <td>1</td>\n",
       "      <td>0</td>\n",
       "      <td>0</td>\n",
       "      <td>NATO has succeeded in Afghanistan</td>\n",
       "      <td>the taliban will likely resume their control o...</td>\n",
       "      <td>the taliban will not likely resume their contr...</td>\n",
       "    </tr>\n",
       "    <tr>\n",
       "      <th>2503</th>\n",
       "      <td>0.627612</td>\n",
       "      <td>-0.557652</td>\n",
       "      <td>0.694943</td>\n",
       "      <td>1.455035</td>\n",
       "      <td>0</td>\n",
       "      <td>1</td>\n",
       "      <td>0</td>\n",
       "      <td>0</td>\n",
       "      <td>Illegal downloaders should be cut off from the...</td>\n",
       "      <td>File-sharing will still happen, despite these ...</td>\n",
       "      <td>File-sharing will not still happen, despite th...</td>\n",
       "    </tr>\n",
       "    <tr>\n",
       "      <th>2506</th>\n",
       "      <td>2.762536</td>\n",
       "      <td>-1.856774</td>\n",
       "      <td>0.735328</td>\n",
       "      <td>0.786035</td>\n",
       "      <td>0</td>\n",
       "      <td>1</td>\n",
       "      <td>0</td>\n",
       "      <td>0</td>\n",
       "      <td>Illegal downloaders should be cut off from the...</td>\n",
       "      <td>Will file-sharing stop if downloaders are bann...</td>\n",
       "      <td>will not file-sharing stop if downloaders are...</td>\n",
       "    </tr>\n",
       "    <tr>\n",
       "      <th>2521</th>\n",
       "      <td>3.317570</td>\n",
       "      <td>-3.755074</td>\n",
       "      <td>1.281456</td>\n",
       "      <td>1.372968</td>\n",
       "      <td>0</td>\n",
       "      <td>1</td>\n",
       "      <td>0</td>\n",
       "      <td>0</td>\n",
       "      <td>Illegal downloaders should be cut off from the...</td>\n",
       "      <td>Human rights are infringed if internet use is ...</td>\n",
       "      <td>Human rights are not infringed if internet use...</td>\n",
       "    </tr>\n",
       "  </tbody>\n",
       "</table>\n",
       "<p>374 rows × 11 columns</p>\n",
       "</div>"
      ],
      "text/plain": [
       "      undermine_score  support_score  cp_distance  cop_distance  \\\n",
       "0           -4.223587       3.430138     0.020014      0.012879   \n",
       "3           -1.659985       2.563246     0.277413      0.157976   \n",
       "3            6.877738      -2.613240     1.961827      1.976244   \n",
       "48          -4.295470       5.233423     0.008994      0.004334   \n",
       "49          -4.151679       5.045624     0.017031      0.011044   \n",
       "...               ...            ...          ...           ...   \n",
       "2428         1.780620       0.518181     0.962062      1.407790   \n",
       "2479         1.438328       0.848351     1.115165      1.629890   \n",
       "2503         0.627612      -0.557652     0.694943      1.455035   \n",
       "2506         2.762536      -1.856774     0.735328      0.786035   \n",
       "2521         3.317570      -3.755074     1.281456      1.372968   \n",
       "\n",
       "      predict_label  distance_label  gold  Label  \\\n",
       "0                 1               0     1      1   \n",
       "3                 1               0     1      1   \n",
       "3                 0               1     0      1   \n",
       "48                1               0     1      0   \n",
       "49                1               0     1      1   \n",
       "...             ...             ...   ...    ...   \n",
       "2428              0               1     0      0   \n",
       "2479              0               1     0      0   \n",
       "2503              0               1     0      0   \n",
       "2506              0               1     0      0   \n",
       "2521              0               1     0      0   \n",
       "\n",
       "                                                  claim  \\\n",
       "0                         School Day Should Be Extended   \n",
       "3                         School Day Should Be Extended   \n",
       "3                         School Day Should Be Extended   \n",
       "48                      Make all museums free of charge   \n",
       "49                      Make all museums free of charge   \n",
       "...                                                 ...   \n",
       "2428  Democracies should ban the display of communis...   \n",
       "2479                  NATO has succeeded in Afghanistan   \n",
       "2503  Illegal downloaders should be cut off from the...   \n",
       "2506  Illegal downloaders should be cut off from the...   \n",
       "2521  Illegal downloaders should be cut off from the...   \n",
       "\n",
       "                                            perspective  \\\n",
       "0                       Lessons would feel less broken.   \n",
       "3                               Less need for homework.   \n",
       "3                               Less need for homework.   \n",
       "48       We should not expect the state to fund museums   \n",
       "49    Museums are a crucial source of inspiration an...   \n",
       "...                                                 ...   \n",
       "2428  Society is ready to live with Nazi and Soviet ...   \n",
       "2479  the taliban will likely resume their control o...   \n",
       "2503  File-sharing will still happen, despite these ...   \n",
       "2506  Will file-sharing stop if downloaders are bann...   \n",
       "2521  Human rights are infringed if internet use is ...   \n",
       "\n",
       "                                   opposite_perspective  \n",
       "0                   Lessons would not feel less broken.  \n",
       "3                               More need for homework.  \n",
       "3                               More need for homework.  \n",
       "48           We should expect the state to fund museums  \n",
       "49    Museums are not a crucial source of inspiratio...  \n",
       "...                                                 ...  \n",
       "2428  Society is not ready to live with Nazi and Sov...  \n",
       "2479  the taliban will not likely resume their contr...  \n",
       "2503  File-sharing will not still happen, despite th...  \n",
       "2506   will not file-sharing stop if downloaders are...  \n",
       "2521  Human rights are not infringed if internet use...  \n",
       "\n",
       "[374 rows x 11 columns]"
      ]
     },
     "execution_count": 59,
     "metadata": {},
     "output_type": "execute_result"
    }
   ],
   "source": [
    "dwrong_lcorrect_out"
   ]
  },
  {
   "cell_type": "code",
   "execution_count": 60,
   "metadata": {},
   "outputs": [],
   "source": [
    "# dwrong_lcorrect_out.to_csv(\"dwrong_lcorrect_data.csv\")"
   ]
  },
  {
   "cell_type": "code",
   "execution_count": 61,
   "metadata": {},
   "outputs": [],
   "source": [
    "# dwrong_lcorrect_out.to_excel(\"dwrong_lcorrect_data.xlsx\")"
   ]
  },
  {
   "cell_type": "code",
   "execution_count": null,
   "metadata": {},
   "outputs": [],
   "source": []
  },
  {
   "cell_type": "code",
   "execution_count": 62,
   "metadata": {},
   "outputs": [],
   "source": [
    "#dcorrect_lwrong_out cases"
   ]
  },
  {
   "cell_type": "code",
   "execution_count": 63,
   "metadata": {},
   "outputs": [
    {
     "data": {
      "text/html": [
       "<div>\n",
       "<style scoped>\n",
       "    .dataframe tbody tr th:only-of-type {\n",
       "        vertical-align: middle;\n",
       "    }\n",
       "\n",
       "    .dataframe tbody tr th {\n",
       "        vertical-align: top;\n",
       "    }\n",
       "\n",
       "    .dataframe thead th {\n",
       "        text-align: right;\n",
       "    }\n",
       "</style>\n",
       "<table border=\"1\" class=\"dataframe\">\n",
       "  <thead>\n",
       "    <tr style=\"text-align: right;\">\n",
       "      <th></th>\n",
       "      <th>undermine_score</th>\n",
       "      <th>support_score</th>\n",
       "      <th>cp_distance</th>\n",
       "      <th>cop_distance</th>\n",
       "      <th>predict_label</th>\n",
       "      <th>distance_label</th>\n",
       "      <th>gold</th>\n",
       "      <th>Label</th>\n",
       "      <th>claim</th>\n",
       "      <th>perspective</th>\n",
       "      <th>opposite_perspective</th>\n",
       "    </tr>\n",
       "  </thead>\n",
       "  <tbody>\n",
       "    <tr>\n",
       "      <th>20</th>\n",
       "      <td>6.864208</td>\n",
       "      <td>-2.278313</td>\n",
       "      <td>1.910880</td>\n",
       "      <td>1.918588</td>\n",
       "      <td>0</td>\n",
       "      <td>1</td>\n",
       "      <td>1</td>\n",
       "      <td>0</td>\n",
       "      <td>Raise The School Leaving Age To 18</td>\n",
       "      <td>The classroom environment is not ideal for all...</td>\n",
       "      <td>The classroom environment is ideal for all les...</td>\n",
       "    </tr>\n",
       "    <tr>\n",
       "      <th>59</th>\n",
       "      <td>6.975863</td>\n",
       "      <td>-2.372392</td>\n",
       "      <td>1.920776</td>\n",
       "      <td>1.928768</td>\n",
       "      <td>0</td>\n",
       "      <td>1</td>\n",
       "      <td>1</td>\n",
       "      <td>1</td>\n",
       "      <td>Chess must be at the Olympics</td>\n",
       "      <td>Chess is currently not an Olympic sport, but i...</td>\n",
       "      <td>Chess is currently an Olympic sport, but it sh...</td>\n",
       "    </tr>\n",
       "    <tr>\n",
       "      <th>73</th>\n",
       "      <td>1.812300</td>\n",
       "      <td>-0.927047</td>\n",
       "      <td>1.096693</td>\n",
       "      <td>1.661179</td>\n",
       "      <td>0</td>\n",
       "      <td>1</td>\n",
       "      <td>1</td>\n",
       "      <td>1</td>\n",
       "      <td>Federal States are better than unitary nations</td>\n",
       "      <td>Citizens are better protected in federal states.</td>\n",
       "      <td>Citizens are not better protected in federal s...</td>\n",
       "    </tr>\n",
       "    <tr>\n",
       "      <th>78</th>\n",
       "      <td>2.363664</td>\n",
       "      <td>-1.478531</td>\n",
       "      <td>1.179334</td>\n",
       "      <td>1.422178</td>\n",
       "      <td>0</td>\n",
       "      <td>1</td>\n",
       "      <td>1</td>\n",
       "      <td>1</td>\n",
       "      <td>Federal States are better than unitary nations</td>\n",
       "      <td>Federal states are economically stronger</td>\n",
       "      <td>Federal states are not economically stronger</td>\n",
       "    </tr>\n",
       "    <tr>\n",
       "      <th>84</th>\n",
       "      <td>5.189340</td>\n",
       "      <td>-5.870834</td>\n",
       "      <td>1.708071</td>\n",
       "      <td>1.780854</td>\n",
       "      <td>0</td>\n",
       "      <td>1</td>\n",
       "      <td>1</td>\n",
       "      <td>1</td>\n",
       "      <td>The Catholic Church needs reform</td>\n",
       "      <td>If priests were not forced to be celibate, the...</td>\n",
       "      <td>If priests were forced to be celibate, the iss...</td>\n",
       "    </tr>\n",
       "    <tr>\n",
       "      <th>...</th>\n",
       "      <td>...</td>\n",
       "      <td>...</td>\n",
       "      <td>...</td>\n",
       "      <td>...</td>\n",
       "      <td>...</td>\n",
       "      <td>...</td>\n",
       "      <td>...</td>\n",
       "      <td>...</td>\n",
       "      <td>...</td>\n",
       "      <td>...</td>\n",
       "      <td>...</td>\n",
       "    </tr>\n",
       "    <tr>\n",
       "      <th>2434</th>\n",
       "      <td>-3.825589</td>\n",
       "      <td>5.084303</td>\n",
       "      <td>0.037229</td>\n",
       "      <td>0.004001</td>\n",
       "      <td>1</td>\n",
       "      <td>0</td>\n",
       "      <td>0</td>\n",
       "      <td>0</td>\n",
       "      <td>Democracies should ban the display of communis...</td>\n",
       "      <td>Extremist movements are harmful and should not...</td>\n",
       "      <td>Extremist movements are harmful and should be ...</td>\n",
       "    </tr>\n",
       "    <tr>\n",
       "      <th>2465</th>\n",
       "      <td>4.006112</td>\n",
       "      <td>-1.870267</td>\n",
       "      <td>1.650200</td>\n",
       "      <td>1.766552</td>\n",
       "      <td>0</td>\n",
       "      <td>1</td>\n",
       "      <td>1</td>\n",
       "      <td>1</td>\n",
       "      <td>The outcome of the Paris Climate Conference ne...</td>\n",
       "      <td>An international treaty will legalize non-comp...</td>\n",
       "      <td>An international treaty will not legalize non-...</td>\n",
       "    </tr>\n",
       "    <tr>\n",
       "      <th>2473</th>\n",
       "      <td>1.276656</td>\n",
       "      <td>-1.107606</td>\n",
       "      <td>1.218479</td>\n",
       "      <td>1.468761</td>\n",
       "      <td>0</td>\n",
       "      <td>1</td>\n",
       "      <td>1</td>\n",
       "      <td>1</td>\n",
       "      <td>The House of Lords should be reformed</td>\n",
       "      <td>The House of Lords is out of touch with the el...</td>\n",
       "      <td>The House of Lords is not out of touch with th...</td>\n",
       "    </tr>\n",
       "    <tr>\n",
       "      <th>2480</th>\n",
       "      <td>-3.776413</td>\n",
       "      <td>2.909049</td>\n",
       "      <td>0.075312</td>\n",
       "      <td>0.017392</td>\n",
       "      <td>1</td>\n",
       "      <td>0</td>\n",
       "      <td>0</td>\n",
       "      <td>0</td>\n",
       "      <td>NATO has succeeded in Afghanistan</td>\n",
       "      <td>the taliban is waiting and likley to regain co...</td>\n",
       "      <td>the taliban is not waiting and likley to regai...</td>\n",
       "    </tr>\n",
       "    <tr>\n",
       "      <th>2513</th>\n",
       "      <td>0.033896</td>\n",
       "      <td>-0.449516</td>\n",
       "      <td>0.755636</td>\n",
       "      <td>1.142089</td>\n",
       "      <td>0</td>\n",
       "      <td>1</td>\n",
       "      <td>1</td>\n",
       "      <td>1</td>\n",
       "      <td>Illegal downloaders should be cut off from the...</td>\n",
       "      <td>Internet access is an enabler of rights not a ...</td>\n",
       "      <td>Internet access is an enabler of rights a righ...</td>\n",
       "    </tr>\n",
       "  </tbody>\n",
       "</table>\n",
       "<p>193 rows × 11 columns</p>\n",
       "</div>"
      ],
      "text/plain": [
       "      undermine_score  support_score  cp_distance  cop_distance  \\\n",
       "20           6.864208      -2.278313     1.910880      1.918588   \n",
       "59           6.975863      -2.372392     1.920776      1.928768   \n",
       "73           1.812300      -0.927047     1.096693      1.661179   \n",
       "78           2.363664      -1.478531     1.179334      1.422178   \n",
       "84           5.189340      -5.870834     1.708071      1.780854   \n",
       "...               ...            ...          ...           ...   \n",
       "2434        -3.825589       5.084303     0.037229      0.004001   \n",
       "2465         4.006112      -1.870267     1.650200      1.766552   \n",
       "2473         1.276656      -1.107606     1.218479      1.468761   \n",
       "2480        -3.776413       2.909049     0.075312      0.017392   \n",
       "2513         0.033896      -0.449516     0.755636      1.142089   \n",
       "\n",
       "      predict_label  distance_label  gold  Label  \\\n",
       "20                0               1     1      0   \n",
       "59                0               1     1      1   \n",
       "73                0               1     1      1   \n",
       "78                0               1     1      1   \n",
       "84                0               1     1      1   \n",
       "...             ...             ...   ...    ...   \n",
       "2434              1               0     0      0   \n",
       "2465              0               1     1      1   \n",
       "2473              0               1     1      1   \n",
       "2480              1               0     0      0   \n",
       "2513              0               1     1      1   \n",
       "\n",
       "                                                  claim  \\\n",
       "20                   Raise The School Leaving Age To 18   \n",
       "59                        Chess must be at the Olympics   \n",
       "73       Federal States are better than unitary nations   \n",
       "78       Federal States are better than unitary nations   \n",
       "84                     The Catholic Church needs reform   \n",
       "...                                                 ...   \n",
       "2434  Democracies should ban the display of communis...   \n",
       "2465  The outcome of the Paris Climate Conference ne...   \n",
       "2473              The House of Lords should be reformed   \n",
       "2480                  NATO has succeeded in Afghanistan   \n",
       "2513  Illegal downloaders should be cut off from the...   \n",
       "\n",
       "                                            perspective  \\\n",
       "20    The classroom environment is not ideal for all...   \n",
       "59    Chess is currently not an Olympic sport, but i...   \n",
       "73     Citizens are better protected in federal states.   \n",
       "78             Federal states are economically stronger   \n",
       "84    If priests were not forced to be celibate, the...   \n",
       "...                                                 ...   \n",
       "2434  Extremist movements are harmful and should not...   \n",
       "2465  An international treaty will legalize non-comp...   \n",
       "2473  The House of Lords is out of touch with the el...   \n",
       "2480  the taliban is waiting and likley to regain co...   \n",
       "2513  Internet access is an enabler of rights not a ...   \n",
       "\n",
       "                                   opposite_perspective  \n",
       "20    The classroom environment is ideal for all les...  \n",
       "59    Chess is currently an Olympic sport, but it sh...  \n",
       "73    Citizens are not better protected in federal s...  \n",
       "78         Federal states are not economically stronger  \n",
       "84    If priests were forced to be celibate, the iss...  \n",
       "...                                                 ...  \n",
       "2434  Extremist movements are harmful and should be ...  \n",
       "2465  An international treaty will not legalize non-...  \n",
       "2473  The House of Lords is not out of touch with th...  \n",
       "2480  the taliban is not waiting and likley to regai...  \n",
       "2513  Internet access is an enabler of rights a righ...  \n",
       "\n",
       "[193 rows x 11 columns]"
      ]
     },
     "execution_count": 63,
     "metadata": {},
     "output_type": "execute_result"
    }
   ],
   "source": [
    "dcorrect_lwrong_out"
   ]
  },
  {
   "cell_type": "code",
   "execution_count": 64,
   "metadata": {},
   "outputs": [
    {
     "data": {
      "text/plain": [
       "0.19407839999999998"
      ]
     },
     "execution_count": 64,
     "metadata": {},
     "output_type": "execute_result"
    }
   ],
   "source": [
    "abs(dcorrect_lwrong_out.cp_distance-dcorrect_lwrong_out.cop_distance).median()"
   ]
  },
  {
   "cell_type": "code",
   "execution_count": 65,
   "metadata": {},
   "outputs": [
    {
     "data": {
      "text/plain": [
       "0.2681527522840933"
      ]
     },
     "execution_count": 65,
     "metadata": {},
     "output_type": "execute_result"
    }
   ],
   "source": [
    "abs(dcorrect_lwrong_out.cp_distance-dcorrect_lwrong_out.cop_distance).mean()"
   ]
  },
  {
   "cell_type": "code",
   "execution_count": 66,
   "metadata": {},
   "outputs": [
    {
     "data": {
      "text/plain": [
       "1.2839643"
      ]
     },
     "execution_count": 66,
     "metadata": {},
     "output_type": "execute_result"
    }
   ],
   "source": [
    "abs(dcorrect_lwrong_out.cp_distance-dcorrect_lwrong_out.cop_distance).max()"
   ]
  },
  {
   "cell_type": "code",
   "execution_count": 67,
   "metadata": {},
   "outputs": [
    {
     "data": {
      "text/plain": [
       "0.0007354019999999996"
      ]
     },
     "execution_count": 67,
     "metadata": {},
     "output_type": "execute_result"
    }
   ],
   "source": [
    "abs(dcorrect_lwrong_out.cp_distance-dcorrect_lwrong_out.cop_distance).min()"
   ]
  },
  {
   "cell_type": "code",
   "execution_count": null,
   "metadata": {},
   "outputs": [],
   "source": []
  },
  {
   "cell_type": "code",
   "execution_count": 68,
   "metadata": {},
   "outputs": [
    {
     "data": {
      "text/plain": [
       "4.806976799999999"
      ]
     },
     "execution_count": 68,
     "metadata": {},
     "output_type": "execute_result"
    }
   ],
   "source": [
    "abs(dcorrect_lwrong_out.undermine_score-dcorrect_lwrong_out.support_score).median()"
   ]
  },
  {
   "cell_type": "code",
   "execution_count": 69,
   "metadata": {},
   "outputs": [
    {
     "data": {
      "text/plain": [
       "4.818969778940933"
      ]
     },
     "execution_count": 69,
     "metadata": {},
     "output_type": "execute_result"
    }
   ],
   "source": [
    "abs(dcorrect_lwrong_out.undermine_score-dcorrect_lwrong_out.support_score).mean()"
   ]
  },
  {
   "cell_type": "code",
   "execution_count": 70,
   "metadata": {},
   "outputs": [
    {
     "data": {
      "text/plain": [
       "13.7038707"
      ]
     },
     "execution_count": 70,
     "metadata": {},
     "output_type": "execute_result"
    }
   ],
   "source": [
    "abs(dcorrect_lwrong_out.undermine_score-dcorrect_lwrong_out.support_score).max()"
   ]
  },
  {
   "cell_type": "code",
   "execution_count": 71,
   "metadata": {},
   "outputs": [
    {
     "data": {
      "text/plain": [
       "0.009783112999999996"
      ]
     },
     "execution_count": 71,
     "metadata": {},
     "output_type": "execute_result"
    }
   ],
   "source": [
    "abs(dcorrect_lwrong_out.undermine_score-dcorrect_lwrong_out.support_score).min()"
   ]
  },
  {
   "cell_type": "code",
   "execution_count": null,
   "metadata": {},
   "outputs": [],
   "source": []
  },
  {
   "cell_type": "code",
   "execution_count": 72,
   "metadata": {},
   "outputs": [],
   "source": [
    "#dwrong_lcorrect_out cases"
   ]
  },
  {
   "cell_type": "code",
   "execution_count": 73,
   "metadata": {},
   "outputs": [
    {
     "data": {
      "text/html": [
       "<div>\n",
       "<style scoped>\n",
       "    .dataframe tbody tr th:only-of-type {\n",
       "        vertical-align: middle;\n",
       "    }\n",
       "\n",
       "    .dataframe tbody tr th {\n",
       "        vertical-align: top;\n",
       "    }\n",
       "\n",
       "    .dataframe thead th {\n",
       "        text-align: right;\n",
       "    }\n",
       "</style>\n",
       "<table border=\"1\" class=\"dataframe\">\n",
       "  <thead>\n",
       "    <tr style=\"text-align: right;\">\n",
       "      <th></th>\n",
       "      <th>undermine_score</th>\n",
       "      <th>support_score</th>\n",
       "      <th>cp_distance</th>\n",
       "      <th>cop_distance</th>\n",
       "      <th>predict_label</th>\n",
       "      <th>distance_label</th>\n",
       "      <th>gold</th>\n",
       "      <th>Label</th>\n",
       "      <th>claim</th>\n",
       "      <th>perspective</th>\n",
       "      <th>opposite_perspective</th>\n",
       "    </tr>\n",
       "  </thead>\n",
       "  <tbody>\n",
       "    <tr>\n",
       "      <th>0</th>\n",
       "      <td>-4.223587</td>\n",
       "      <td>3.430138</td>\n",
       "      <td>0.020014</td>\n",
       "      <td>0.012879</td>\n",
       "      <td>1</td>\n",
       "      <td>0</td>\n",
       "      <td>1</td>\n",
       "      <td>1</td>\n",
       "      <td>School Day Should Be Extended</td>\n",
       "      <td>Lessons would feel less broken.</td>\n",
       "      <td>Lessons would not feel less broken.</td>\n",
       "    </tr>\n",
       "    <tr>\n",
       "      <th>3</th>\n",
       "      <td>-1.659985</td>\n",
       "      <td>2.563246</td>\n",
       "      <td>0.277413</td>\n",
       "      <td>0.157976</td>\n",
       "      <td>1</td>\n",
       "      <td>0</td>\n",
       "      <td>1</td>\n",
       "      <td>1</td>\n",
       "      <td>School Day Should Be Extended</td>\n",
       "      <td>Less need for homework.</td>\n",
       "      <td>More need for homework.</td>\n",
       "    </tr>\n",
       "    <tr>\n",
       "      <th>3</th>\n",
       "      <td>6.877738</td>\n",
       "      <td>-2.613240</td>\n",
       "      <td>1.961827</td>\n",
       "      <td>1.976244</td>\n",
       "      <td>0</td>\n",
       "      <td>1</td>\n",
       "      <td>0</td>\n",
       "      <td>1</td>\n",
       "      <td>School Day Should Be Extended</td>\n",
       "      <td>Less need for homework.</td>\n",
       "      <td>More need for homework.</td>\n",
       "    </tr>\n",
       "    <tr>\n",
       "      <th>48</th>\n",
       "      <td>-4.295470</td>\n",
       "      <td>5.233423</td>\n",
       "      <td>0.008994</td>\n",
       "      <td>0.004334</td>\n",
       "      <td>1</td>\n",
       "      <td>0</td>\n",
       "      <td>1</td>\n",
       "      <td>0</td>\n",
       "      <td>Make all museums free of charge</td>\n",
       "      <td>We should not expect the state to fund museums</td>\n",
       "      <td>We should expect the state to fund museums</td>\n",
       "    </tr>\n",
       "    <tr>\n",
       "      <th>49</th>\n",
       "      <td>-4.151679</td>\n",
       "      <td>5.045624</td>\n",
       "      <td>0.017031</td>\n",
       "      <td>0.011044</td>\n",
       "      <td>1</td>\n",
       "      <td>0</td>\n",
       "      <td>1</td>\n",
       "      <td>1</td>\n",
       "      <td>Make all museums free of charge</td>\n",
       "      <td>Museums are a crucial source of inspiration an...</td>\n",
       "      <td>Museums are not a crucial source of inspiratio...</td>\n",
       "    </tr>\n",
       "    <tr>\n",
       "      <th>...</th>\n",
       "      <td>...</td>\n",
       "      <td>...</td>\n",
       "      <td>...</td>\n",
       "      <td>...</td>\n",
       "      <td>...</td>\n",
       "      <td>...</td>\n",
       "      <td>...</td>\n",
       "      <td>...</td>\n",
       "      <td>...</td>\n",
       "      <td>...</td>\n",
       "      <td>...</td>\n",
       "    </tr>\n",
       "    <tr>\n",
       "      <th>2428</th>\n",
       "      <td>1.780620</td>\n",
       "      <td>0.518181</td>\n",
       "      <td>0.962062</td>\n",
       "      <td>1.407790</td>\n",
       "      <td>0</td>\n",
       "      <td>1</td>\n",
       "      <td>0</td>\n",
       "      <td>0</td>\n",
       "      <td>Democracies should ban the display of communis...</td>\n",
       "      <td>Society is ready to live with Nazi and Soviet ...</td>\n",
       "      <td>Society is not ready to live with Nazi and Sov...</td>\n",
       "    </tr>\n",
       "    <tr>\n",
       "      <th>2479</th>\n",
       "      <td>1.438328</td>\n",
       "      <td>0.848351</td>\n",
       "      <td>1.115165</td>\n",
       "      <td>1.629890</td>\n",
       "      <td>0</td>\n",
       "      <td>1</td>\n",
       "      <td>0</td>\n",
       "      <td>0</td>\n",
       "      <td>NATO has succeeded in Afghanistan</td>\n",
       "      <td>the taliban will likely resume their control o...</td>\n",
       "      <td>the taliban will not likely resume their contr...</td>\n",
       "    </tr>\n",
       "    <tr>\n",
       "      <th>2503</th>\n",
       "      <td>0.627612</td>\n",
       "      <td>-0.557652</td>\n",
       "      <td>0.694943</td>\n",
       "      <td>1.455035</td>\n",
       "      <td>0</td>\n",
       "      <td>1</td>\n",
       "      <td>0</td>\n",
       "      <td>0</td>\n",
       "      <td>Illegal downloaders should be cut off from the...</td>\n",
       "      <td>File-sharing will still happen, despite these ...</td>\n",
       "      <td>File-sharing will not still happen, despite th...</td>\n",
       "    </tr>\n",
       "    <tr>\n",
       "      <th>2506</th>\n",
       "      <td>2.762536</td>\n",
       "      <td>-1.856774</td>\n",
       "      <td>0.735328</td>\n",
       "      <td>0.786035</td>\n",
       "      <td>0</td>\n",
       "      <td>1</td>\n",
       "      <td>0</td>\n",
       "      <td>0</td>\n",
       "      <td>Illegal downloaders should be cut off from the...</td>\n",
       "      <td>Will file-sharing stop if downloaders are bann...</td>\n",
       "      <td>will not file-sharing stop if downloaders are...</td>\n",
       "    </tr>\n",
       "    <tr>\n",
       "      <th>2521</th>\n",
       "      <td>3.317570</td>\n",
       "      <td>-3.755074</td>\n",
       "      <td>1.281456</td>\n",
       "      <td>1.372968</td>\n",
       "      <td>0</td>\n",
       "      <td>1</td>\n",
       "      <td>0</td>\n",
       "      <td>0</td>\n",
       "      <td>Illegal downloaders should be cut off from the...</td>\n",
       "      <td>Human rights are infringed if internet use is ...</td>\n",
       "      <td>Human rights are not infringed if internet use...</td>\n",
       "    </tr>\n",
       "  </tbody>\n",
       "</table>\n",
       "<p>374 rows × 11 columns</p>\n",
       "</div>"
      ],
      "text/plain": [
       "      undermine_score  support_score  cp_distance  cop_distance  \\\n",
       "0           -4.223587       3.430138     0.020014      0.012879   \n",
       "3           -1.659985       2.563246     0.277413      0.157976   \n",
       "3            6.877738      -2.613240     1.961827      1.976244   \n",
       "48          -4.295470       5.233423     0.008994      0.004334   \n",
       "49          -4.151679       5.045624     0.017031      0.011044   \n",
       "...               ...            ...          ...           ...   \n",
       "2428         1.780620       0.518181     0.962062      1.407790   \n",
       "2479         1.438328       0.848351     1.115165      1.629890   \n",
       "2503         0.627612      -0.557652     0.694943      1.455035   \n",
       "2506         2.762536      -1.856774     0.735328      0.786035   \n",
       "2521         3.317570      -3.755074     1.281456      1.372968   \n",
       "\n",
       "      predict_label  distance_label  gold  Label  \\\n",
       "0                 1               0     1      1   \n",
       "3                 1               0     1      1   \n",
       "3                 0               1     0      1   \n",
       "48                1               0     1      0   \n",
       "49                1               0     1      1   \n",
       "...             ...             ...   ...    ...   \n",
       "2428              0               1     0      0   \n",
       "2479              0               1     0      0   \n",
       "2503              0               1     0      0   \n",
       "2506              0               1     0      0   \n",
       "2521              0               1     0      0   \n",
       "\n",
       "                                                  claim  \\\n",
       "0                         School Day Should Be Extended   \n",
       "3                         School Day Should Be Extended   \n",
       "3                         School Day Should Be Extended   \n",
       "48                      Make all museums free of charge   \n",
       "49                      Make all museums free of charge   \n",
       "...                                                 ...   \n",
       "2428  Democracies should ban the display of communis...   \n",
       "2479                  NATO has succeeded in Afghanistan   \n",
       "2503  Illegal downloaders should be cut off from the...   \n",
       "2506  Illegal downloaders should be cut off from the...   \n",
       "2521  Illegal downloaders should be cut off from the...   \n",
       "\n",
       "                                            perspective  \\\n",
       "0                       Lessons would feel less broken.   \n",
       "3                               Less need for homework.   \n",
       "3                               Less need for homework.   \n",
       "48       We should not expect the state to fund museums   \n",
       "49    Museums are a crucial source of inspiration an...   \n",
       "...                                                 ...   \n",
       "2428  Society is ready to live with Nazi and Soviet ...   \n",
       "2479  the taliban will likely resume their control o...   \n",
       "2503  File-sharing will still happen, despite these ...   \n",
       "2506  Will file-sharing stop if downloaders are bann...   \n",
       "2521  Human rights are infringed if internet use is ...   \n",
       "\n",
       "                                   opposite_perspective  \n",
       "0                   Lessons would not feel less broken.  \n",
       "3                               More need for homework.  \n",
       "3                               More need for homework.  \n",
       "48           We should expect the state to fund museums  \n",
       "49    Museums are not a crucial source of inspiratio...  \n",
       "...                                                 ...  \n",
       "2428  Society is not ready to live with Nazi and Sov...  \n",
       "2479  the taliban will not likely resume their contr...  \n",
       "2503  File-sharing will not still happen, despite th...  \n",
       "2506   will not file-sharing stop if downloaders are...  \n",
       "2521  Human rights are not infringed if internet use...  \n",
       "\n",
       "[374 rows x 11 columns]"
      ]
     },
     "execution_count": 73,
     "metadata": {},
     "output_type": "execute_result"
    }
   ],
   "source": [
    "dwrong_lcorrect_out"
   ]
  },
  {
   "cell_type": "code",
   "execution_count": 74,
   "metadata": {},
   "outputs": [
    {
     "data": {
      "text/plain": [
       "0.061195077199999996"
      ]
     },
     "execution_count": 74,
     "metadata": {},
     "output_type": "execute_result"
    }
   ],
   "source": [
    "abs(dwrong_lcorrect_out.cp_distance-dwrong_lcorrect_out.cop_distance).median()"
   ]
  },
  {
   "cell_type": "code",
   "execution_count": 75,
   "metadata": {},
   "outputs": [
    {
     "data": {
      "text/plain": [
       "0.16816338629165775"
      ]
     },
     "execution_count": 75,
     "metadata": {},
     "output_type": "execute_result"
    }
   ],
   "source": [
    "abs(dwrong_lcorrect_out.cp_distance-dwrong_lcorrect_out.cop_distance).mean()"
   ]
  },
  {
   "cell_type": "code",
   "execution_count": 76,
   "metadata": {},
   "outputs": [
    {
     "data": {
      "text/plain": [
       "1.1424108"
      ]
     },
     "execution_count": 76,
     "metadata": {},
     "output_type": "execute_result"
    }
   ],
   "source": [
    "abs(dwrong_lcorrect_out.cp_distance-dwrong_lcorrect_out.cop_distance).max()"
   ]
  },
  {
   "cell_type": "code",
   "execution_count": 77,
   "metadata": {},
   "outputs": [
    {
     "data": {
      "text/plain": [
       "8.82149999999974e-06"
      ]
     },
     "execution_count": 77,
     "metadata": {},
     "output_type": "execute_result"
    }
   ],
   "source": [
    "abs(dwrong_lcorrect_out.cp_distance-dwrong_lcorrect_out.cop_distance).min()"
   ]
  },
  {
   "cell_type": "code",
   "execution_count": null,
   "metadata": {},
   "outputs": [],
   "source": []
  },
  {
   "cell_type": "code",
   "execution_count": 78,
   "metadata": {},
   "outputs": [
    {
     "data": {
      "text/plain": [
       "6.8983743"
      ]
     },
     "execution_count": 78,
     "metadata": {},
     "output_type": "execute_result"
    }
   ],
   "source": [
    "abs(dwrong_lcorrect_out.undermine_score-dwrong_lcorrect_out.support_score).median()"
   ]
  },
  {
   "cell_type": "code",
   "execution_count": 79,
   "metadata": {},
   "outputs": [
    {
     "data": {
      "text/plain": [
       "6.415045629781283"
      ]
     },
     "execution_count": 79,
     "metadata": {},
     "output_type": "execute_result"
    }
   ],
   "source": [
    "abs(dwrong_lcorrect_out.undermine_score-dwrong_lcorrect_out.support_score).mean()"
   ]
  },
  {
   "cell_type": "code",
   "execution_count": 80,
   "metadata": {},
   "outputs": [
    {
     "data": {
      "text/plain": [
       "18.714413999999998"
      ]
     },
     "execution_count": 80,
     "metadata": {},
     "output_type": "execute_result"
    }
   ],
   "source": [
    "abs(dwrong_lcorrect_out.undermine_score-dwrong_lcorrect_out.support_score).max()"
   ]
  },
  {
   "cell_type": "code",
   "execution_count": 81,
   "metadata": {},
   "outputs": [
    {
     "data": {
      "text/plain": [
       "0.030765300000000106"
      ]
     },
     "execution_count": 81,
     "metadata": {},
     "output_type": "execute_result"
    }
   ],
   "source": [
    "abs(dwrong_lcorrect_out.undermine_score-dwrong_lcorrect_out.support_score).min()"
   ]
  },
  {
   "cell_type": "code",
   "execution_count": null,
   "metadata": {},
   "outputs": [],
   "source": []
  },
  {
   "cell_type": "code",
   "execution_count": null,
   "metadata": {},
   "outputs": [],
   "source": []
  },
  {
   "cell_type": "code",
   "execution_count": 82,
   "metadata": {},
   "outputs": [
    {
     "data": {
      "text/html": [
       "<div>\n",
       "<style scoped>\n",
       "    .dataframe tbody tr th:only-of-type {\n",
       "        vertical-align: middle;\n",
       "    }\n",
       "\n",
       "    .dataframe tbody tr th {\n",
       "        vertical-align: top;\n",
       "    }\n",
       "\n",
       "    .dataframe thead th {\n",
       "        text-align: right;\n",
       "    }\n",
       "</style>\n",
       "<table border=\"1\" class=\"dataframe\">\n",
       "  <thead>\n",
       "    <tr style=\"text-align: right;\">\n",
       "      <th></th>\n",
       "      <th>undermine_score</th>\n",
       "      <th>support_score</th>\n",
       "      <th>cp_distance</th>\n",
       "      <th>cop_distance</th>\n",
       "      <th>predict_label</th>\n",
       "      <th>distance_label</th>\n",
       "      <th>gold</th>\n",
       "    </tr>\n",
       "  </thead>\n",
       "  <tbody>\n",
       "    <tr>\n",
       "      <th>0</th>\n",
       "      <td>-4.223587</td>\n",
       "      <td>3.430138</td>\n",
       "      <td>0.020014</td>\n",
       "      <td>0.012879</td>\n",
       "      <td>1</td>\n",
       "      <td>0</td>\n",
       "      <td>1</td>\n",
       "    </tr>\n",
       "    <tr>\n",
       "      <th>2</th>\n",
       "      <td>-4.051531</td>\n",
       "      <td>3.098645</td>\n",
       "      <td>0.004558</td>\n",
       "      <td>0.010478</td>\n",
       "      <td>1</td>\n",
       "      <td>1</td>\n",
       "      <td>1</td>\n",
       "    </tr>\n",
       "    <tr>\n",
       "      <th>15</th>\n",
       "      <td>6.702568</td>\n",
       "      <td>-2.567696</td>\n",
       "      <td>1.940552</td>\n",
       "      <td>1.864902</td>\n",
       "      <td>0</td>\n",
       "      <td>0</td>\n",
       "      <td>0</td>\n",
       "    </tr>\n",
       "    <tr>\n",
       "      <th>16</th>\n",
       "      <td>6.727525</td>\n",
       "      <td>-2.691421</td>\n",
       "      <td>1.960978</td>\n",
       "      <td>1.921587</td>\n",
       "      <td>0</td>\n",
       "      <td>0</td>\n",
       "      <td>0</td>\n",
       "    </tr>\n",
       "    <tr>\n",
       "      <th>19</th>\n",
       "      <td>6.421700</td>\n",
       "      <td>-2.538338</td>\n",
       "      <td>1.935928</td>\n",
       "      <td>1.874516</td>\n",
       "      <td>0</td>\n",
       "      <td>0</td>\n",
       "      <td>0</td>\n",
       "    </tr>\n",
       "    <tr>\n",
       "      <th>...</th>\n",
       "      <td>...</td>\n",
       "      <td>...</td>\n",
       "      <td>...</td>\n",
       "      <td>...</td>\n",
       "      <td>...</td>\n",
       "      <td>...</td>\n",
       "      <td>...</td>\n",
       "    </tr>\n",
       "    <tr>\n",
       "      <th>1792</th>\n",
       "      <td>-4.231707</td>\n",
       "      <td>3.045445</td>\n",
       "      <td>0.004540</td>\n",
       "      <td>0.003267</td>\n",
       "      <td>1</td>\n",
       "      <td>0</td>\n",
       "      <td>1</td>\n",
       "    </tr>\n",
       "    <tr>\n",
       "      <th>1827</th>\n",
       "      <td>5.851793</td>\n",
       "      <td>-1.237778</td>\n",
       "      <td>1.756661</td>\n",
       "      <td>1.730959</td>\n",
       "      <td>0</td>\n",
       "      <td>0</td>\n",
       "      <td>0</td>\n",
       "    </tr>\n",
       "    <tr>\n",
       "      <th>1859</th>\n",
       "      <td>6.043321</td>\n",
       "      <td>-2.742341</td>\n",
       "      <td>1.957043</td>\n",
       "      <td>1.882545</td>\n",
       "      <td>0</td>\n",
       "      <td>0</td>\n",
       "      <td>0</td>\n",
       "    </tr>\n",
       "    <tr>\n",
       "      <th>1867</th>\n",
       "      <td>-4.329029</td>\n",
       "      <td>2.930595</td>\n",
       "      <td>0.020093</td>\n",
       "      <td>0.074588</td>\n",
       "      <td>1</td>\n",
       "      <td>1</td>\n",
       "      <td>1</td>\n",
       "    </tr>\n",
       "    <tr>\n",
       "      <th>1873</th>\n",
       "      <td>6.625595</td>\n",
       "      <td>-2.438474</td>\n",
       "      <td>1.979702</td>\n",
       "      <td>1.976665</td>\n",
       "      <td>0</td>\n",
       "      <td>0</td>\n",
       "      <td>0</td>\n",
       "    </tr>\n",
       "  </tbody>\n",
       "</table>\n",
       "<p>459 rows × 7 columns</p>\n",
       "</div>"
      ],
      "text/plain": [
       "      undermine_score  support_score  cp_distance  cop_distance  \\\n",
       "0           -4.223587       3.430138     0.020014      0.012879   \n",
       "2           -4.051531       3.098645     0.004558      0.010478   \n",
       "15           6.702568      -2.567696     1.940552      1.864902   \n",
       "16           6.727525      -2.691421     1.960978      1.921587   \n",
       "19           6.421700      -2.538338     1.935928      1.874516   \n",
       "...               ...            ...          ...           ...   \n",
       "1792        -4.231707       3.045445     0.004540      0.003267   \n",
       "1827         5.851793      -1.237778     1.756661      1.730959   \n",
       "1859         6.043321      -2.742341     1.957043      1.882545   \n",
       "1867        -4.329029       2.930595     0.020093      0.074588   \n",
       "1873         6.625595      -2.438474     1.979702      1.976665   \n",
       "\n",
       "      predict_label  distance_label  gold  \n",
       "0                 1               0     1  \n",
       "2                 1               1     1  \n",
       "15                0               0     0  \n",
       "16                0               0     0  \n",
       "19                0               0     0  \n",
       "...             ...             ...   ...  \n",
       "1792              1               0     1  \n",
       "1827              0               0     0  \n",
       "1859              0               0     0  \n",
       "1867              1               1     1  \n",
       "1873              0               0     0  \n",
       "\n",
       "[459 rows x 7 columns]"
      ]
     },
     "execution_count": 82,
     "metadata": {},
     "output_type": "execute_result"
    }
   ],
   "source": [
    "df_inconsistency[(abs(df_inconsistency.undermine_score-df_inconsistency.support_score)>7)&(abs(df_inconsistency.cp_distance-df_inconsistency.cop_distance)<0.1)]"
   ]
  },
  {
   "cell_type": "code",
   "execution_count": 83,
   "metadata": {},
   "outputs": [
    {
     "data": {
      "text/html": [
       "<div>\n",
       "<style scoped>\n",
       "    .dataframe tbody tr th:only-of-type {\n",
       "        vertical-align: middle;\n",
       "    }\n",
       "\n",
       "    .dataframe tbody tr th {\n",
       "        vertical-align: top;\n",
       "    }\n",
       "\n",
       "    .dataframe thead th {\n",
       "        text-align: right;\n",
       "    }\n",
       "</style>\n",
       "<table border=\"1\" class=\"dataframe\">\n",
       "  <thead>\n",
       "    <tr style=\"text-align: right;\">\n",
       "      <th></th>\n",
       "      <th>undermine_score</th>\n",
       "      <th>support_score</th>\n",
       "      <th>cp_distance</th>\n",
       "      <th>cop_distance</th>\n",
       "      <th>predict_label</th>\n",
       "      <th>distance_label</th>\n",
       "      <th>gold</th>\n",
       "    </tr>\n",
       "  </thead>\n",
       "  <tbody>\n",
       "    <tr>\n",
       "      <th>0</th>\n",
       "      <td>-4.223587</td>\n",
       "      <td>3.430138</td>\n",
       "      <td>0.020014</td>\n",
       "      <td>0.012879</td>\n",
       "      <td>1</td>\n",
       "      <td>0</td>\n",
       "      <td>1</td>\n",
       "    </tr>\n",
       "    <tr>\n",
       "      <th>2</th>\n",
       "      <td>-4.051531</td>\n",
       "      <td>3.098645</td>\n",
       "      <td>0.004558</td>\n",
       "      <td>0.010478</td>\n",
       "      <td>1</td>\n",
       "      <td>1</td>\n",
       "      <td>1</td>\n",
       "    </tr>\n",
       "    <tr>\n",
       "      <th>15</th>\n",
       "      <td>6.702568</td>\n",
       "      <td>-2.567696</td>\n",
       "      <td>1.940552</td>\n",
       "      <td>1.864902</td>\n",
       "      <td>0</td>\n",
       "      <td>0</td>\n",
       "      <td>0</td>\n",
       "    </tr>\n",
       "    <tr>\n",
       "      <th>16</th>\n",
       "      <td>6.727525</td>\n",
       "      <td>-2.691421</td>\n",
       "      <td>1.960978</td>\n",
       "      <td>1.921587</td>\n",
       "      <td>0</td>\n",
       "      <td>0</td>\n",
       "      <td>0</td>\n",
       "    </tr>\n",
       "    <tr>\n",
       "      <th>19</th>\n",
       "      <td>6.421700</td>\n",
       "      <td>-2.538338</td>\n",
       "      <td>1.935928</td>\n",
       "      <td>1.874516</td>\n",
       "      <td>0</td>\n",
       "      <td>0</td>\n",
       "      <td>0</td>\n",
       "    </tr>\n",
       "    <tr>\n",
       "      <th>...</th>\n",
       "      <td>...</td>\n",
       "      <td>...</td>\n",
       "      <td>...</td>\n",
       "      <td>...</td>\n",
       "      <td>...</td>\n",
       "      <td>...</td>\n",
       "      <td>...</td>\n",
       "    </tr>\n",
       "    <tr>\n",
       "      <th>1792</th>\n",
       "      <td>-4.231707</td>\n",
       "      <td>3.045445</td>\n",
       "      <td>0.004540</td>\n",
       "      <td>0.003267</td>\n",
       "      <td>1</td>\n",
       "      <td>0</td>\n",
       "      <td>1</td>\n",
       "    </tr>\n",
       "    <tr>\n",
       "      <th>1827</th>\n",
       "      <td>5.851793</td>\n",
       "      <td>-1.237778</td>\n",
       "      <td>1.756661</td>\n",
       "      <td>1.730959</td>\n",
       "      <td>0</td>\n",
       "      <td>0</td>\n",
       "      <td>0</td>\n",
       "    </tr>\n",
       "    <tr>\n",
       "      <th>1859</th>\n",
       "      <td>6.043321</td>\n",
       "      <td>-2.742341</td>\n",
       "      <td>1.957043</td>\n",
       "      <td>1.882545</td>\n",
       "      <td>0</td>\n",
       "      <td>0</td>\n",
       "      <td>0</td>\n",
       "    </tr>\n",
       "    <tr>\n",
       "      <th>1867</th>\n",
       "      <td>-4.329029</td>\n",
       "      <td>2.930595</td>\n",
       "      <td>0.020093</td>\n",
       "      <td>0.074588</td>\n",
       "      <td>1</td>\n",
       "      <td>1</td>\n",
       "      <td>1</td>\n",
       "    </tr>\n",
       "    <tr>\n",
       "      <th>1873</th>\n",
       "      <td>6.625595</td>\n",
       "      <td>-2.438474</td>\n",
       "      <td>1.979702</td>\n",
       "      <td>1.976665</td>\n",
       "      <td>0</td>\n",
       "      <td>0</td>\n",
       "      <td>0</td>\n",
       "    </tr>\n",
       "  </tbody>\n",
       "</table>\n",
       "<p>392 rows × 7 columns</p>\n",
       "</div>"
      ],
      "text/plain": [
       "      undermine_score  support_score  cp_distance  cop_distance  \\\n",
       "0           -4.223587       3.430138     0.020014      0.012879   \n",
       "2           -4.051531       3.098645     0.004558      0.010478   \n",
       "15           6.702568      -2.567696     1.940552      1.864902   \n",
       "16           6.727525      -2.691421     1.960978      1.921587   \n",
       "19           6.421700      -2.538338     1.935928      1.874516   \n",
       "...               ...            ...          ...           ...   \n",
       "1792        -4.231707       3.045445     0.004540      0.003267   \n",
       "1827         5.851793      -1.237778     1.756661      1.730959   \n",
       "1859         6.043321      -2.742341     1.957043      1.882545   \n",
       "1867        -4.329029       2.930595     0.020093      0.074588   \n",
       "1873         6.625595      -2.438474     1.979702      1.976665   \n",
       "\n",
       "      predict_label  distance_label  gold  \n",
       "0                 1               0     1  \n",
       "2                 1               1     1  \n",
       "15                0               0     0  \n",
       "16                0               0     0  \n",
       "19                0               0     0  \n",
       "...             ...             ...   ...  \n",
       "1792              1               0     1  \n",
       "1827              0               0     0  \n",
       "1859              0               0     0  \n",
       "1867              1               1     1  \n",
       "1873              0               0     0  \n",
       "\n",
       "[392 rows x 7 columns]"
      ]
     },
     "execution_count": 83,
     "metadata": {},
     "output_type": "execute_result"
    }
   ],
   "source": [
    "df_inconsistency[(abs(df_inconsistency.undermine_score-df_inconsistency.support_score)>7)&(abs(df_inconsistency.cp_distance-df_inconsistency.cop_distance)<0.1)&(df_inconsistency.predict_label==df_inconsistency.gold)]"
   ]
  },
  {
   "cell_type": "code",
   "execution_count": null,
   "metadata": {},
   "outputs": [],
   "source": []
  },
  {
   "cell_type": "code",
   "execution_count": 84,
   "metadata": {},
   "outputs": [
    {
     "data": {
      "text/plain": [
       "undermine_score    237\n",
       "support_score      237\n",
       "cp_distance        237\n",
       "cop_distance       237\n",
       "predict_label      237\n",
       "distance_label     237\n",
       "gold               237\n",
       "dtype: int64"
      ]
     },
     "execution_count": 84,
     "metadata": {},
     "output_type": "execute_result"
    }
   ],
   "source": [
    "df_inconsistency[(abs(df_inconsistency.undermine_score-df_inconsistency.support_score)<3)&(abs(df_inconsistency.cp_distance-df_inconsistency.cop_distance)>0.15)].count()"
   ]
  },
  {
   "cell_type": "code",
   "execution_count": 85,
   "metadata": {},
   "outputs": [
    {
     "data": {
      "text/plain": [
       "undermine_score    144\n",
       "support_score      144\n",
       "cp_distance        144\n",
       "cop_distance       144\n",
       "predict_label      144\n",
       "distance_label     144\n",
       "gold               144\n",
       "dtype: int64"
      ]
     },
     "execution_count": 85,
     "metadata": {},
     "output_type": "execute_result"
    }
   ],
   "source": [
    "df_inconsistency[(abs(df_inconsistency.undermine_score-df_inconsistency.support_score)<3)&(abs(df_inconsistency.cp_distance-df_inconsistency.cop_distance)>0.15)&(df_inconsistency.distance_label==df_inconsistency.gold)].count()"
   ]
  },
  {
   "cell_type": "code",
   "execution_count": null,
   "metadata": {},
   "outputs": [],
   "source": []
  },
  {
   "cell_type": "code",
   "execution_count": 86,
   "metadata": {},
   "outputs": [],
   "source": [
    "#consistent failed cases"
   ]
  },
  {
   "cell_type": "code",
   "execution_count": 87,
   "metadata": {},
   "outputs": [
    {
     "data": {
      "text/html": [
       "<div>\n",
       "<style scoped>\n",
       "    .dataframe tbody tr th:only-of-type {\n",
       "        vertical-align: middle;\n",
       "    }\n",
       "\n",
       "    .dataframe tbody tr th {\n",
       "        vertical-align: top;\n",
       "    }\n",
       "\n",
       "    .dataframe thead th {\n",
       "        text-align: right;\n",
       "    }\n",
       "</style>\n",
       "<table border=\"1\" class=\"dataframe\">\n",
       "  <thead>\n",
       "    <tr style=\"text-align: right;\">\n",
       "      <th></th>\n",
       "      <th>undermine_score</th>\n",
       "      <th>support_score</th>\n",
       "      <th>cp_distance</th>\n",
       "      <th>cop_distance</th>\n",
       "      <th>predict_label</th>\n",
       "      <th>distance_label</th>\n",
       "      <th>gold</th>\n",
       "    </tr>\n",
       "  </thead>\n",
       "  <tbody>\n",
       "    <tr>\n",
       "      <th>46</th>\n",
       "      <td>-2.267228</td>\n",
       "      <td>5.343608</td>\n",
       "      <td>0.012838</td>\n",
       "      <td>1.899688</td>\n",
       "      <td>1</td>\n",
       "      <td>1</td>\n",
       "      <td>0</td>\n",
       "    </tr>\n",
       "    <tr>\n",
       "      <th>51</th>\n",
       "      <td>5.155417</td>\n",
       "      <td>-4.237434</td>\n",
       "      <td>1.868408</td>\n",
       "      <td>0.744416</td>\n",
       "      <td>0</td>\n",
       "      <td>0</td>\n",
       "      <td>1</td>\n",
       "    </tr>\n",
       "    <tr>\n",
       "      <th>54</th>\n",
       "      <td>3.537244</td>\n",
       "      <td>-2.157459</td>\n",
       "      <td>1.688211</td>\n",
       "      <td>0.791399</td>\n",
       "      <td>0</td>\n",
       "      <td>0</td>\n",
       "      <td>1</td>\n",
       "    </tr>\n",
       "    <tr>\n",
       "      <th>63</th>\n",
       "      <td>-2.482541</td>\n",
       "      <td>5.729583</td>\n",
       "      <td>0.023178</td>\n",
       "      <td>1.951421</td>\n",
       "      <td>1</td>\n",
       "      <td>1</td>\n",
       "      <td>0</td>\n",
       "    </tr>\n",
       "    <tr>\n",
       "      <th>74</th>\n",
       "      <td>-3.022160</td>\n",
       "      <td>2.879174</td>\n",
       "      <td>0.396503</td>\n",
       "      <td>1.347344</td>\n",
       "      <td>1</td>\n",
       "      <td>1</td>\n",
       "      <td>0</td>\n",
       "    </tr>\n",
       "    <tr>\n",
       "      <th>...</th>\n",
       "      <td>...</td>\n",
       "      <td>...</td>\n",
       "      <td>...</td>\n",
       "      <td>...</td>\n",
       "      <td>...</td>\n",
       "      <td>...</td>\n",
       "      <td>...</td>\n",
       "    </tr>\n",
       "    <tr>\n",
       "      <th>1804</th>\n",
       "      <td>6.963352</td>\n",
       "      <td>-4.964608</td>\n",
       "      <td>1.671127</td>\n",
       "      <td>0.347740</td>\n",
       "      <td>0</td>\n",
       "      <td>0</td>\n",
       "      <td>1</td>\n",
       "    </tr>\n",
       "    <tr>\n",
       "      <th>1805</th>\n",
       "      <td>9.007212</td>\n",
       "      <td>-6.763206</td>\n",
       "      <td>1.837904</td>\n",
       "      <td>0.168444</td>\n",
       "      <td>0</td>\n",
       "      <td>0</td>\n",
       "      <td>1</td>\n",
       "    </tr>\n",
       "    <tr>\n",
       "      <th>1806</th>\n",
       "      <td>8.831461</td>\n",
       "      <td>-6.858443</td>\n",
       "      <td>1.819252</td>\n",
       "      <td>0.263004</td>\n",
       "      <td>0</td>\n",
       "      <td>0</td>\n",
       "      <td>1</td>\n",
       "    </tr>\n",
       "    <tr>\n",
       "      <th>1807</th>\n",
       "      <td>6.757890</td>\n",
       "      <td>-4.443211</td>\n",
       "      <td>1.619666</td>\n",
       "      <td>0.302776</td>\n",
       "      <td>0</td>\n",
       "      <td>0</td>\n",
       "      <td>1</td>\n",
       "    </tr>\n",
       "    <tr>\n",
       "      <th>1811</th>\n",
       "      <td>-1.889811</td>\n",
       "      <td>4.837952</td>\n",
       "      <td>0.073527</td>\n",
       "      <td>1.707905</td>\n",
       "      <td>1</td>\n",
       "      <td>1</td>\n",
       "      <td>0</td>\n",
       "    </tr>\n",
       "  </tbody>\n",
       "</table>\n",
       "<p>590 rows × 7 columns</p>\n",
       "</div>"
      ],
      "text/plain": [
       "      undermine_score  support_score  cp_distance  cop_distance  \\\n",
       "46          -2.267228       5.343608     0.012838      1.899688   \n",
       "51           5.155417      -4.237434     1.868408      0.744416   \n",
       "54           3.537244      -2.157459     1.688211      0.791399   \n",
       "63          -2.482541       5.729583     0.023178      1.951421   \n",
       "74          -3.022160       2.879174     0.396503      1.347344   \n",
       "...               ...            ...          ...           ...   \n",
       "1804         6.963352      -4.964608     1.671127      0.347740   \n",
       "1805         9.007212      -6.763206     1.837904      0.168444   \n",
       "1806         8.831461      -6.858443     1.819252      0.263004   \n",
       "1807         6.757890      -4.443211     1.619666      0.302776   \n",
       "1811        -1.889811       4.837952     0.073527      1.707905   \n",
       "\n",
       "      predict_label  distance_label  gold  \n",
       "46                1               1     0  \n",
       "51                0               0     1  \n",
       "54                0               0     1  \n",
       "63                1               1     0  \n",
       "74                1               1     0  \n",
       "...             ...             ...   ...  \n",
       "1804              0               0     1  \n",
       "1805              0               0     1  \n",
       "1806              0               0     1  \n",
       "1807              0               0     1  \n",
       "1811              1               1     0  \n",
       "\n",
       "[590 rows x 7 columns]"
      ]
     },
     "execution_count": 87,
     "metadata": {},
     "output_type": "execute_result"
    }
   ],
   "source": [
    "df_consistency[df_consistency.predict_label!=df_consistency.gold]"
   ]
  },
  {
   "cell_type": "code",
   "execution_count": 88,
   "metadata": {},
   "outputs": [],
   "source": [
    "df_consistency_failed = df_consistency[df_consistency.predict_label!=df_consistency.gold]"
   ]
  },
  {
   "cell_type": "code",
   "execution_count": 89,
   "metadata": {},
   "outputs": [],
   "source": [
    "cons_out_failed = df_consistency_failed.join(df_origin).drop(\"x\",axis=1).drop(\"y\",axis=1)"
   ]
  },
  {
   "cell_type": "code",
   "execution_count": 90,
   "metadata": {},
   "outputs": [
    {
     "data": {
      "text/html": [
       "<div>\n",
       "<style scoped>\n",
       "    .dataframe tbody tr th:only-of-type {\n",
       "        vertical-align: middle;\n",
       "    }\n",
       "\n",
       "    .dataframe tbody tr th {\n",
       "        vertical-align: top;\n",
       "    }\n",
       "\n",
       "    .dataframe thead th {\n",
       "        text-align: right;\n",
       "    }\n",
       "</style>\n",
       "<table border=\"1\" class=\"dataframe\">\n",
       "  <thead>\n",
       "    <tr style=\"text-align: right;\">\n",
       "      <th></th>\n",
       "      <th>undermine_score</th>\n",
       "      <th>support_score</th>\n",
       "      <th>cp_distance</th>\n",
       "      <th>cop_distance</th>\n",
       "      <th>predict_label</th>\n",
       "      <th>distance_label</th>\n",
       "      <th>gold</th>\n",
       "      <th>Label</th>\n",
       "      <th>claim</th>\n",
       "      <th>perspective</th>\n",
       "      <th>opposite_perspective</th>\n",
       "    </tr>\n",
       "  </thead>\n",
       "  <tbody>\n",
       "    <tr>\n",
       "      <th>4</th>\n",
       "      <td>-3.315168</td>\n",
       "      <td>3.270811</td>\n",
       "      <td>0.056645</td>\n",
       "      <td>0.729286</td>\n",
       "      <td>1</td>\n",
       "      <td>1</td>\n",
       "      <td>0</td>\n",
       "      <td>1</td>\n",
       "      <td>School Day Should Be Extended</td>\n",
       "      <td>Time to finish activities</td>\n",
       "      <td>Time not to finish activities</td>\n",
       "    </tr>\n",
       "    <tr>\n",
       "      <th>5</th>\n",
       "      <td>-2.965680</td>\n",
       "      <td>3.221141</td>\n",
       "      <td>0.046975</td>\n",
       "      <td>0.601694</td>\n",
       "      <td>1</td>\n",
       "      <td>1</td>\n",
       "      <td>0</td>\n",
       "      <td>1</td>\n",
       "      <td>Raise The School Leaving Age To 18</td>\n",
       "      <td>With more education comes more opportunities</td>\n",
       "      <td>With less education comes more opportunities</td>\n",
       "    </tr>\n",
       "    <tr>\n",
       "      <th>10</th>\n",
       "      <td>-2.832457</td>\n",
       "      <td>5.750215</td>\n",
       "      <td>0.001142</td>\n",
       "      <td>1.964023</td>\n",
       "      <td>1</td>\n",
       "      <td>1</td>\n",
       "      <td>0</td>\n",
       "      <td>1</td>\n",
       "      <td>Raise The School Leaving Age To 18</td>\n",
       "      <td>The longer they are educated, the more opportu...</td>\n",
       "      <td>The longer they are not educated, the more opp...</td>\n",
       "    </tr>\n",
       "    <tr>\n",
       "      <th>11</th>\n",
       "      <td>-3.614858</td>\n",
       "      <td>4.229075</td>\n",
       "      <td>0.007741</td>\n",
       "      <td>1.228680</td>\n",
       "      <td>1</td>\n",
       "      <td>1</td>\n",
       "      <td>0</td>\n",
       "      <td>1</td>\n",
       "      <td>Raise The School Leaving Age To 18</td>\n",
       "      <td>Raising the school learning age promotes equal...</td>\n",
       "      <td>lower the school learning age promotes equal ...</td>\n",
       "    </tr>\n",
       "    <tr>\n",
       "      <th>14</th>\n",
       "      <td>-2.453328</td>\n",
       "      <td>5.697545</td>\n",
       "      <td>0.017936</td>\n",
       "      <td>1.944030</td>\n",
       "      <td>1</td>\n",
       "      <td>1</td>\n",
       "      <td>0</td>\n",
       "      <td>0</td>\n",
       "      <td>Raise The School Leaving Age To 18</td>\n",
       "      <td>Forced education achieves little</td>\n",
       "      <td>Forced education achieves much</td>\n",
       "    </tr>\n",
       "    <tr>\n",
       "      <th>...</th>\n",
       "      <td>...</td>\n",
       "      <td>...</td>\n",
       "      <td>...</td>\n",
       "      <td>...</td>\n",
       "      <td>...</td>\n",
       "      <td>...</td>\n",
       "      <td>...</td>\n",
       "      <td>...</td>\n",
       "      <td>...</td>\n",
       "      <td>...</td>\n",
       "      <td>...</td>\n",
       "    </tr>\n",
       "    <tr>\n",
       "      <th>2469</th>\n",
       "      <td>-2.194105</td>\n",
       "      <td>5.495428</td>\n",
       "      <td>0.036756</td>\n",
       "      <td>1.755904</td>\n",
       "      <td>1</td>\n",
       "      <td>1</td>\n",
       "      <td>0</td>\n",
       "      <td>0</td>\n",
       "      <td>The outcome of the Paris Climate Conference ne...</td>\n",
       "      <td>Allowing sovereign states to set and meet thei...</td>\n",
       "      <td>Allowing sovereign states not to set and meet ...</td>\n",
       "    </tr>\n",
       "    <tr>\n",
       "      <th>2474</th>\n",
       "      <td>5.292336</td>\n",
       "      <td>-6.160551</td>\n",
       "      <td>1.813913</td>\n",
       "      <td>0.410568</td>\n",
       "      <td>0</td>\n",
       "      <td>0</td>\n",
       "      <td>1</td>\n",
       "      <td>1</td>\n",
       "      <td>The House of Lords should be reformed</td>\n",
       "      <td>The House of Lords does not understand the nee...</td>\n",
       "      <td>The House of Lords does understand the needs o...</td>\n",
       "    </tr>\n",
       "    <tr>\n",
       "      <th>2477</th>\n",
       "      <td>-0.591194</td>\n",
       "      <td>0.761670</td>\n",
       "      <td>0.984307</td>\n",
       "      <td>1.508494</td>\n",
       "      <td>1</td>\n",
       "      <td>1</td>\n",
       "      <td>0</td>\n",
       "      <td>0</td>\n",
       "      <td>The House of Lords should be reformed</td>\n",
       "      <td>an apathetic public can be the cause of reform</td>\n",
       "      <td>an apathetic public can not be the cause of re...</td>\n",
       "    </tr>\n",
       "    <tr>\n",
       "      <th>2496</th>\n",
       "      <td>-2.799630</td>\n",
       "      <td>5.131019</td>\n",
       "      <td>0.060273</td>\n",
       "      <td>1.893408</td>\n",
       "      <td>1</td>\n",
       "      <td>1</td>\n",
       "      <td>0</td>\n",
       "      <td>0</td>\n",
       "      <td>Winning the Champions League Is Better Than Wi...</td>\n",
       "      <td>The Premiership is the most popular and succes...</td>\n",
       "      <td>The Premiership is not the most popular and su...</td>\n",
       "    </tr>\n",
       "    <tr>\n",
       "      <th>2497</th>\n",
       "      <td>4.596515</td>\n",
       "      <td>-1.639086</td>\n",
       "      <td>1.612404</td>\n",
       "      <td>1.563472</td>\n",
       "      <td>0</td>\n",
       "      <td>0</td>\n",
       "      <td>1</td>\n",
       "      <td>1</td>\n",
       "      <td>Winning the Champions League Is Better Than Wi...</td>\n",
       "      <td>Winning the Champions League relies more on lu...</td>\n",
       "      <td>Winning the Champions League relies less on lu...</td>\n",
       "    </tr>\n",
       "  </tbody>\n",
       "</table>\n",
       "<p>590 rows × 11 columns</p>\n",
       "</div>"
      ],
      "text/plain": [
       "      undermine_score  support_score  cp_distance  cop_distance  \\\n",
       "4           -3.315168       3.270811     0.056645      0.729286   \n",
       "5           -2.965680       3.221141     0.046975      0.601694   \n",
       "10          -2.832457       5.750215     0.001142      1.964023   \n",
       "11          -3.614858       4.229075     0.007741      1.228680   \n",
       "14          -2.453328       5.697545     0.017936      1.944030   \n",
       "...               ...            ...          ...           ...   \n",
       "2469        -2.194105       5.495428     0.036756      1.755904   \n",
       "2474         5.292336      -6.160551     1.813913      0.410568   \n",
       "2477        -0.591194       0.761670     0.984307      1.508494   \n",
       "2496        -2.799630       5.131019     0.060273      1.893408   \n",
       "2497         4.596515      -1.639086     1.612404      1.563472   \n",
       "\n",
       "      predict_label  distance_label  gold  Label  \\\n",
       "4                 1               1     0      1   \n",
       "5                 1               1     0      1   \n",
       "10                1               1     0      1   \n",
       "11                1               1     0      1   \n",
       "14                1               1     0      0   \n",
       "...             ...             ...   ...    ...   \n",
       "2469              1               1     0      0   \n",
       "2474              0               0     1      1   \n",
       "2477              1               1     0      0   \n",
       "2496              1               1     0      0   \n",
       "2497              0               0     1      1   \n",
       "\n",
       "                                                  claim  \\\n",
       "4                         School Day Should Be Extended   \n",
       "5                    Raise The School Leaving Age To 18   \n",
       "10                   Raise The School Leaving Age To 18   \n",
       "11                   Raise The School Leaving Age To 18   \n",
       "14                   Raise The School Leaving Age To 18   \n",
       "...                                                 ...   \n",
       "2469  The outcome of the Paris Climate Conference ne...   \n",
       "2474              The House of Lords should be reformed   \n",
       "2477              The House of Lords should be reformed   \n",
       "2496  Winning the Champions League Is Better Than Wi...   \n",
       "2497  Winning the Champions League Is Better Than Wi...   \n",
       "\n",
       "                                            perspective  \\\n",
       "4                             Time to finish activities   \n",
       "5          With more education comes more opportunities   \n",
       "10    The longer they are educated, the more opportu...   \n",
       "11    Raising the school learning age promotes equal...   \n",
       "14                     Forced education achieves little   \n",
       "...                                                 ...   \n",
       "2469  Allowing sovereign states to set and meet thei...   \n",
       "2474  The House of Lords does not understand the nee...   \n",
       "2477     an apathetic public can be the cause of reform   \n",
       "2496  The Premiership is the most popular and succes...   \n",
       "2497  Winning the Champions League relies more on lu...   \n",
       "\n",
       "                                   opposite_perspective  \n",
       "4                         Time not to finish activities  \n",
       "5          With less education comes more opportunities  \n",
       "10    The longer they are not educated, the more opp...  \n",
       "11     lower the school learning age promotes equal ...  \n",
       "14                      Forced education achieves much   \n",
       "...                                                 ...  \n",
       "2469  Allowing sovereign states not to set and meet ...  \n",
       "2474  The House of Lords does understand the needs o...  \n",
       "2477  an apathetic public can not be the cause of re...  \n",
       "2496  The Premiership is not the most popular and su...  \n",
       "2497  Winning the Champions League relies less on lu...  \n",
       "\n",
       "[590 rows x 11 columns]"
      ]
     },
     "execution_count": 90,
     "metadata": {},
     "output_type": "execute_result"
    }
   ],
   "source": [
    "cons_out_failed"
   ]
  },
  {
   "cell_type": "code",
   "execution_count": 91,
   "metadata": {},
   "outputs": [],
   "source": [
    "# cons_out_failed.to_csv(\"consistency_failed_data.csv\")"
   ]
  },
  {
   "cell_type": "code",
   "execution_count": 92,
   "metadata": {},
   "outputs": [],
   "source": [
    "# cons_out_failed.to_excel(\"consistency_failed_data.xlsx\")"
   ]
  },
  {
   "cell_type": "code",
   "execution_count": 93,
   "metadata": {},
   "outputs": [
    {
     "data": {
      "text/plain": [
       "1.3391846065"
      ]
     },
     "execution_count": 93,
     "metadata": {},
     "output_type": "execute_result"
    }
   ],
   "source": [
    "abs(cons_out_failed.cp_distance-cons_out_failed.cop_distance).median()"
   ]
  },
  {
   "cell_type": "code",
   "execution_count": 94,
   "metadata": {},
   "outputs": [
    {
     "data": {
      "text/plain": [
       "1.1457815212635085"
      ]
     },
     "execution_count": 94,
     "metadata": {},
     "output_type": "execute_result"
    }
   ],
   "source": [
    "abs(cons_out_failed.cp_distance-cons_out_failed.cop_distance).mean()"
   ]
  },
  {
   "cell_type": "code",
   "execution_count": 95,
   "metadata": {},
   "outputs": [
    {
     "data": {
      "text/plain": [
       "1.9830446967"
      ]
     },
     "execution_count": 95,
     "metadata": {},
     "output_type": "execute_result"
    }
   ],
   "source": [
    "abs(cons_out_failed.cp_distance-cons_out_failed.cop_distance).max()"
   ]
  },
  {
   "cell_type": "code",
   "execution_count": 96,
   "metadata": {},
   "outputs": [
    {
     "data": {
      "text/plain": [
       "0.0013897000000000492"
      ]
     },
     "execution_count": 96,
     "metadata": {},
     "output_type": "execute_result"
    }
   ],
   "source": [
    "abs(cons_out_failed.cp_distance-cons_out_failed.cop_distance).min()"
   ]
  },
  {
   "cell_type": "code",
   "execution_count": null,
   "metadata": {},
   "outputs": [],
   "source": []
  },
  {
   "cell_type": "code",
   "execution_count": 97,
   "metadata": {},
   "outputs": [
    {
     "data": {
      "text/plain": [
       "7.900042899999999"
      ]
     },
     "execution_count": 97,
     "metadata": {},
     "output_type": "execute_result"
    }
   ],
   "source": [
    "abs(cons_out_failed.undermine_score-cons_out_failed.support_score).median()"
   ]
  },
  {
   "cell_type": "code",
   "execution_count": 98,
   "metadata": {},
   "outputs": [
    {
     "data": {
      "text/plain": [
       "7.705913194503135"
      ]
     },
     "execution_count": 98,
     "metadata": {},
     "output_type": "execute_result"
    }
   ],
   "source": [
    "abs(cons_out_failed.undermine_score-cons_out_failed.support_score).mean()"
   ]
  },
  {
   "cell_type": "code",
   "execution_count": 99,
   "metadata": {},
   "outputs": [
    {
     "data": {
      "text/plain": [
       "17.887935"
      ]
     },
     "execution_count": 99,
     "metadata": {},
     "output_type": "execute_result"
    }
   ],
   "source": [
    "abs(cons_out_failed.undermine_score-cons_out_failed.support_score).max()"
   ]
  },
  {
   "cell_type": "code",
   "execution_count": 100,
   "metadata": {},
   "outputs": [
    {
     "data": {
      "text/plain": [
       "0.08601858999999998"
      ]
     },
     "execution_count": 100,
     "metadata": {},
     "output_type": "execute_result"
    }
   ],
   "source": [
    "abs(cons_out_failed.undermine_score-cons_out_failed.support_score).min()"
   ]
  },
  {
   "cell_type": "code",
   "execution_count": null,
   "metadata": {},
   "outputs": [],
   "source": []
  },
  {
   "cell_type": "code",
   "execution_count": null,
   "metadata": {},
   "outputs": [],
   "source": []
  },
  {
   "cell_type": "code",
   "execution_count": 101,
   "metadata": {},
   "outputs": [],
   "source": [
    "df_consistency_correct = df_consistency[df_consistency.predict_label==df_consistency.gold]"
   ]
  },
  {
   "cell_type": "code",
   "execution_count": 102,
   "metadata": {},
   "outputs": [
    {
     "data": {
      "text/plain": [
       "9.1684488"
      ]
     },
     "execution_count": 102,
     "metadata": {},
     "output_type": "execute_result"
    }
   ],
   "source": [
    "abs(df_consistency_correct.undermine_score-df_consistency_correct.support_score).median()"
   ]
  },
  {
   "cell_type": "code",
   "execution_count": 103,
   "metadata": {},
   "outputs": [
    {
     "data": {
      "text/plain": [
       "9.99125484597853"
      ]
     },
     "execution_count": 103,
     "metadata": {},
     "output_type": "execute_result"
    }
   ],
   "source": [
    "abs(df_consistency_correct.undermine_score-df_consistency_correct.support_score).mean()"
   ]
  },
  {
   "cell_type": "code",
   "execution_count": 104,
   "metadata": {},
   "outputs": [
    {
     "data": {
      "text/plain": [
       "23.471"
      ]
     },
     "execution_count": 104,
     "metadata": {},
     "output_type": "execute_result"
    }
   ],
   "source": [
    "abs(df_consistency_correct.undermine_score-df_consistency_correct.support_score).max()"
   ]
  },
  {
   "cell_type": "code",
   "execution_count": 105,
   "metadata": {},
   "outputs": [
    {
     "data": {
      "text/plain": [
       "0.018043279999999995"
      ]
     },
     "execution_count": 105,
     "metadata": {},
     "output_type": "execute_result"
    }
   ],
   "source": [
    "abs(df_consistency_correct.undermine_score-df_consistency_correct.support_score).min()"
   ]
  },
  {
   "cell_type": "code",
   "execution_count": null,
   "metadata": {},
   "outputs": [],
   "source": []
  },
  {
   "cell_type": "code",
   "execution_count": 106,
   "metadata": {},
   "outputs": [
    {
     "data": {
      "text/plain": [
       "1.6575976200000002"
      ]
     },
     "execution_count": 106,
     "metadata": {},
     "output_type": "execute_result"
    }
   ],
   "source": [
    "abs(df_consistency_correct.cp_distance-df_consistency_correct.cop_distance).median()"
   ]
  },
  {
   "cell_type": "code",
   "execution_count": 107,
   "metadata": {},
   "outputs": [
    {
     "data": {
      "text/plain": [
       "1.3580910291245987"
      ]
     },
     "execution_count": 107,
     "metadata": {},
     "output_type": "execute_result"
    }
   ],
   "source": [
    "abs(df_consistency_correct.cp_distance-df_consistency_correct.cop_distance).mean()"
   ]
  },
  {
   "cell_type": "code",
   "execution_count": 108,
   "metadata": {},
   "outputs": [
    {
     "data": {
      "text/plain": [
       "1.98550799512"
      ]
     },
     "execution_count": 108,
     "metadata": {},
     "output_type": "execute_result"
    }
   ],
   "source": [
    "abs(df_consistency_correct.cp_distance-df_consistency_correct.cop_distance).max()"
   ]
  },
  {
   "cell_type": "code",
   "execution_count": 109,
   "metadata": {},
   "outputs": [
    {
     "data": {
      "text/plain": [
       "0.00021850000000001035"
      ]
     },
     "execution_count": 109,
     "metadata": {},
     "output_type": "execute_result"
    }
   ],
   "source": [
    "abs(df_consistency_correct.cp_distance-df_consistency_correct.cop_distance).min()"
   ]
  },
  {
   "cell_type": "code",
   "execution_count": null,
   "metadata": {},
   "outputs": [],
   "source": []
  },
  {
   "cell_type": "code",
   "execution_count": 110,
   "metadata": {},
   "outputs": [],
   "source": [
    "#consistent cases"
   ]
  },
  {
   "cell_type": "code",
   "execution_count": 111,
   "metadata": {},
   "outputs": [
    {
     "data": {
      "text/html": [
       "<div>\n",
       "<style scoped>\n",
       "    .dataframe tbody tr th:only-of-type {\n",
       "        vertical-align: middle;\n",
       "    }\n",
       "\n",
       "    .dataframe tbody tr th {\n",
       "        vertical-align: top;\n",
       "    }\n",
       "\n",
       "    .dataframe thead th {\n",
       "        text-align: right;\n",
       "    }\n",
       "</style>\n",
       "<table border=\"1\" class=\"dataframe\">\n",
       "  <thead>\n",
       "    <tr style=\"text-align: right;\">\n",
       "      <th></th>\n",
       "      <th>undermine_score</th>\n",
       "      <th>support_score</th>\n",
       "      <th>cp_distance</th>\n",
       "      <th>cop_distance</th>\n",
       "      <th>predict_label</th>\n",
       "      <th>distance_label</th>\n",
       "      <th>gold</th>\n",
       "    </tr>\n",
       "  </thead>\n",
       "  <tbody>\n",
       "    <tr>\n",
       "      <th>1</th>\n",
       "      <td>4.980137</td>\n",
       "      <td>-5.918371</td>\n",
       "      <td>1.923178</td>\n",
       "      <td>0.001339</td>\n",
       "      <td>0</td>\n",
       "      <td>0</td>\n",
       "      <td>0</td>\n",
       "    </tr>\n",
       "    <tr>\n",
       "      <th>2</th>\n",
       "      <td>-4.051531</td>\n",
       "      <td>3.098645</td>\n",
       "      <td>0.004558</td>\n",
       "      <td>0.010478</td>\n",
       "      <td>1</td>\n",
       "      <td>1</td>\n",
       "      <td>1</td>\n",
       "    </tr>\n",
       "    <tr>\n",
       "      <th>4</th>\n",
       "      <td>-1.103358</td>\n",
       "      <td>5.317815</td>\n",
       "      <td>0.293655</td>\n",
       "      <td>1.842567</td>\n",
       "      <td>1</td>\n",
       "      <td>1</td>\n",
       "      <td>1</td>\n",
       "    </tr>\n",
       "    <tr>\n",
       "      <th>5</th>\n",
       "      <td>-2.957279</td>\n",
       "      <td>5.612340</td>\n",
       "      <td>0.010343</td>\n",
       "      <td>1.754936</td>\n",
       "      <td>1</td>\n",
       "      <td>1</td>\n",
       "      <td>1</td>\n",
       "    </tr>\n",
       "    <tr>\n",
       "      <th>6</th>\n",
       "      <td>-2.915035</td>\n",
       "      <td>5.855358</td>\n",
       "      <td>0.004241</td>\n",
       "      <td>1.868177</td>\n",
       "      <td>1</td>\n",
       "      <td>1</td>\n",
       "      <td>1</td>\n",
       "    </tr>\n",
       "    <tr>\n",
       "      <th>...</th>\n",
       "      <td>...</td>\n",
       "      <td>...</td>\n",
       "      <td>...</td>\n",
       "      <td>...</td>\n",
       "      <td>...</td>\n",
       "      <td>...</td>\n",
       "      <td>...</td>\n",
       "    </tr>\n",
       "    <tr>\n",
       "      <th>1875</th>\n",
       "      <td>-2.986062</td>\n",
       "      <td>6.168940</td>\n",
       "      <td>0.007146</td>\n",
       "      <td>1.979641</td>\n",
       "      <td>1</td>\n",
       "      <td>1</td>\n",
       "      <td>1</td>\n",
       "    </tr>\n",
       "    <tr>\n",
       "      <th>1876</th>\n",
       "      <td>-3.020821</td>\n",
       "      <td>5.834997</td>\n",
       "      <td>0.000552</td>\n",
       "      <td>1.943276</td>\n",
       "      <td>1</td>\n",
       "      <td>1</td>\n",
       "      <td>1</td>\n",
       "    </tr>\n",
       "    <tr>\n",
       "      <th>1877</th>\n",
       "      <td>-3.082693</td>\n",
       "      <td>5.802138</td>\n",
       "      <td>0.000832</td>\n",
       "      <td>1.913086</td>\n",
       "      <td>1</td>\n",
       "      <td>1</td>\n",
       "      <td>1</td>\n",
       "    </tr>\n",
       "    <tr>\n",
       "      <th>1878</th>\n",
       "      <td>-3.014879</td>\n",
       "      <td>6.071866</td>\n",
       "      <td>0.001957</td>\n",
       "      <td>1.981859</td>\n",
       "      <td>1</td>\n",
       "      <td>1</td>\n",
       "      <td>1</td>\n",
       "    </tr>\n",
       "    <tr>\n",
       "      <th>1880</th>\n",
       "      <td>-2.863911</td>\n",
       "      <td>5.885867</td>\n",
       "      <td>0.001213</td>\n",
       "      <td>1.977819</td>\n",
       "      <td>1</td>\n",
       "      <td>1</td>\n",
       "      <td>1</td>\n",
       "    </tr>\n",
       "  </tbody>\n",
       "</table>\n",
       "<p>3841 rows × 7 columns</p>\n",
       "</div>"
      ],
      "text/plain": [
       "      undermine_score  support_score  cp_distance  cop_distance  \\\n",
       "1            4.980137      -5.918371     1.923178      0.001339   \n",
       "2           -4.051531       3.098645     0.004558      0.010478   \n",
       "4           -1.103358       5.317815     0.293655      1.842567   \n",
       "5           -2.957279       5.612340     0.010343      1.754936   \n",
       "6           -2.915035       5.855358     0.004241      1.868177   \n",
       "...               ...            ...          ...           ...   \n",
       "1875        -2.986062       6.168940     0.007146      1.979641   \n",
       "1876        -3.020821       5.834997     0.000552      1.943276   \n",
       "1877        -3.082693       5.802138     0.000832      1.913086   \n",
       "1878        -3.014879       6.071866     0.001957      1.981859   \n",
       "1880        -2.863911       5.885867     0.001213      1.977819   \n",
       "\n",
       "      predict_label  distance_label  gold  \n",
       "1                 0               0     0  \n",
       "2                 1               1     1  \n",
       "4                 1               1     1  \n",
       "5                 1               1     1  \n",
       "6                 1               1     1  \n",
       "...             ...             ...   ...  \n",
       "1875              1               1     1  \n",
       "1876              1               1     1  \n",
       "1877              1               1     1  \n",
       "1878              1               1     1  \n",
       "1880              1               1     1  \n",
       "\n",
       "[3841 rows x 7 columns]"
      ]
     },
     "execution_count": 111,
     "metadata": {},
     "output_type": "execute_result"
    }
   ],
   "source": [
    "df_consistency"
   ]
  },
  {
   "cell_type": "code",
   "execution_count": 112,
   "metadata": {},
   "outputs": [],
   "source": [
    "# df_consistency.to_csv(\"consistency_data.csv\",index=False)"
   ]
  },
  {
   "cell_type": "code",
   "execution_count": 113,
   "metadata": {},
   "outputs": [],
   "source": [
    "# df_consistency.to_excel(\"consistency_data.xlsx\",index=False)"
   ]
  },
  {
   "cell_type": "code",
   "execution_count": null,
   "metadata": {},
   "outputs": [],
   "source": []
  },
  {
   "cell_type": "code",
   "execution_count": 114,
   "metadata": {},
   "outputs": [],
   "source": [
    "#consistent cases analysis"
   ]
  },
  {
   "cell_type": "code",
   "execution_count": 115,
   "metadata": {},
   "outputs": [
    {
     "data": {
      "text/plain": [
       "9.0266147"
      ]
     },
     "execution_count": 115,
     "metadata": {},
     "output_type": "execute_result"
    }
   ],
   "source": [
    "consistent_logits_median = abs(df_consistency.undermine_score-df_consistency.support_score).median()\n",
    "consistent_logits_median"
   ]
  },
  {
   "cell_type": "code",
   "execution_count": 116,
   "metadata": {},
   "outputs": [
    {
     "data": {
      "text/plain": [
       "9.64021304062303"
      ]
     },
     "execution_count": 116,
     "metadata": {},
     "output_type": "execute_result"
    }
   ],
   "source": [
    "consistent_logits_mean = abs(df_consistency.undermine_score-df_consistency.support_score).mean()\n",
    "consistent_logits_mean"
   ]
  },
  {
   "cell_type": "code",
   "execution_count": 117,
   "metadata": {},
   "outputs": [
    {
     "data": {
      "text/plain": [
       "23.471"
      ]
     },
     "execution_count": 117,
     "metadata": {},
     "output_type": "execute_result"
    }
   ],
   "source": [
    "consistent_logits_max =abs(df_consistency.undermine_score-df_consistency.support_score).max()\n",
    "consistent_logits_max"
   ]
  },
  {
   "cell_type": "code",
   "execution_count": 118,
   "metadata": {},
   "outputs": [
    {
     "data": {
      "text/plain": [
       "0.018043279999999995"
      ]
     },
     "execution_count": 118,
     "metadata": {},
     "output_type": "execute_result"
    }
   ],
   "source": [
    "consistent_logits_min = abs(df_consistency.undermine_score-df_consistency.support_score).min()\n",
    "consistent_logits_min"
   ]
  },
  {
   "cell_type": "code",
   "execution_count": null,
   "metadata": {},
   "outputs": [],
   "source": []
  },
  {
   "cell_type": "code",
   "execution_count": 119,
   "metadata": {},
   "outputs": [
    {
     "data": {
      "text/plain": [
       "1.6220399737"
      ]
     },
     "execution_count": 119,
     "metadata": {},
     "output_type": "execute_result"
    }
   ],
   "source": [
    "consistent_distance_median = abs(df_consistency.cp_distance-df_consistency.cop_distance).median()\n",
    "consistent_distance_median"
   ]
  },
  {
   "cell_type": "code",
   "execution_count": 120,
   "metadata": {},
   "outputs": [
    {
     "data": {
      "text/plain": [
       "1.3254790505674408"
      ]
     },
     "execution_count": 120,
     "metadata": {},
     "output_type": "execute_result"
    }
   ],
   "source": [
    "consistent_distance_mean = abs(df_consistency.cp_distance-df_consistency.cop_distance).mean()\n",
    "consistent_distance_mean "
   ]
  },
  {
   "cell_type": "code",
   "execution_count": 121,
   "metadata": {},
   "outputs": [
    {
     "data": {
      "text/plain": [
       "1.98550799512"
      ]
     },
     "execution_count": 121,
     "metadata": {},
     "output_type": "execute_result"
    }
   ],
   "source": [
    "consistent_distance_max = abs(df_consistency.cp_distance-df_consistency.cop_distance).max()\n",
    "consistent_distance_max"
   ]
  },
  {
   "cell_type": "code",
   "execution_count": 122,
   "metadata": {},
   "outputs": [
    {
     "data": {
      "text/plain": [
       "0.00021850000000001035"
      ]
     },
     "execution_count": 122,
     "metadata": {},
     "output_type": "execute_result"
    }
   ],
   "source": [
    "consistent_distance_min = abs(df_consistency.cp_distance-df_consistency.cop_distance).min()\n",
    "consistent_distance_min"
   ]
  },
  {
   "cell_type": "code",
   "execution_count": null,
   "metadata": {},
   "outputs": [],
   "source": []
  },
  {
   "cell_type": "code",
   "execution_count": 123,
   "metadata": {},
   "outputs": [],
   "source": [
    "#inconsistent cases analysis"
   ]
  },
  {
   "cell_type": "code",
   "execution_count": 124,
   "metadata": {},
   "outputs": [
    {
     "data": {
      "text/plain": [
       "8.783737299999999"
      ]
     },
     "execution_count": 124,
     "metadata": {},
     "output_type": "execute_result"
    }
   ],
   "source": [
    "inconsistent_logits_median = abs(df_inconsistency.undermine_score-df_inconsistency.support_score).median()\n",
    "inconsistent_logits_median"
   ]
  },
  {
   "cell_type": "code",
   "execution_count": 125,
   "metadata": {},
   "outputs": [
    {
     "data": {
      "text/plain": [
       "9.15547788609502"
      ]
     },
     "execution_count": 125,
     "metadata": {},
     "output_type": "execute_result"
    }
   ],
   "source": [
    "inconsistent_logits_mean = abs(df_inconsistency.undermine_score-df_inconsistency.support_score).mean()\n",
    "inconsistent_logits_mean"
   ]
  },
  {
   "cell_type": "code",
   "execution_count": 126,
   "metadata": {},
   "outputs": [
    {
     "data": {
      "text/plain": [
       "23.471"
      ]
     },
     "execution_count": 126,
     "metadata": {},
     "output_type": "execute_result"
    }
   ],
   "source": [
    "inconsistent_logits_max = abs(df_inconsistency.undermine_score-df_inconsistency.support_score).max()\n",
    "inconsistent_logits_max"
   ]
  },
  {
   "cell_type": "code",
   "execution_count": 127,
   "metadata": {},
   "outputs": [
    {
     "data": {
      "text/plain": [
       "0.009783112999999996"
      ]
     },
     "execution_count": 127,
     "metadata": {},
     "output_type": "execute_result"
    }
   ],
   "source": [
    "inconsistent_logits_min = abs(df_inconsistency.undermine_score-df_inconsistency.support_score).min()\n",
    "inconsistent_logits_min"
   ]
  },
  {
   "cell_type": "code",
   "execution_count": null,
   "metadata": {},
   "outputs": [],
   "source": []
  },
  {
   "cell_type": "code",
   "execution_count": 128,
   "metadata": {},
   "outputs": [
    {
     "data": {
      "text/plain": [
       "1.5019473085"
      ]
     },
     "execution_count": 128,
     "metadata": {},
     "output_type": "execute_result"
    }
   ],
   "source": [
    "inconsistent_distance_median = abs(df_inconsistency.cp_distance-df_inconsistency.cop_distance).median()\n",
    "inconsistent_distance_median"
   ]
  },
  {
   "cell_type": "code",
   "execution_count": 129,
   "metadata": {},
   "outputs": [
    {
     "data": {
      "text/plain": [
       "1.1809917470266447"
      ]
     },
     "execution_count": 129,
     "metadata": {},
     "output_type": "execute_result"
    }
   ],
   "source": [
    "inconsistent_distance_mean = abs(df_inconsistency.cp_distance-df_inconsistency.cop_distance).mean()\n",
    "inconsistent_distance_mean"
   ]
  },
  {
   "cell_type": "code",
   "execution_count": 130,
   "metadata": {},
   "outputs": [
    {
     "data": {
      "text/plain": [
       "1.98550799512"
      ]
     },
     "execution_count": 130,
     "metadata": {},
     "output_type": "execute_result"
    }
   ],
   "source": [
    "inconsistent_distance_max = abs(df_inconsistency.cp_distance-df_inconsistency.cop_distance).max()\n",
    "inconsistent_distance_max"
   ]
  },
  {
   "cell_type": "code",
   "execution_count": 131,
   "metadata": {},
   "outputs": [
    {
     "data": {
      "text/plain": [
       "8.82149999999974e-06"
      ]
     },
     "execution_count": 131,
     "metadata": {},
     "output_type": "execute_result"
    }
   ],
   "source": [
    "inconsistent_distance_min = abs(df_inconsistency.cp_distance-df_inconsistency.cop_distance).min()\n",
    "inconsistent_distance_min"
   ]
  },
  {
   "cell_type": "code",
   "execution_count": null,
   "metadata": {},
   "outputs": [],
   "source": []
  },
  {
   "cell_type": "code",
   "execution_count": 132,
   "metadata": {},
   "outputs": [],
   "source": [
    "# Use the \"distance to median\" to decide final prediction"
   ]
  },
  {
   "cell_type": "code",
   "execution_count": 133,
   "metadata": {
    "scrolled": true
   },
   "outputs": [
    {
     "data": {
      "text/html": [
       "<div>\n",
       "<style scoped>\n",
       "    .dataframe tbody tr th:only-of-type {\n",
       "        vertical-align: middle;\n",
       "    }\n",
       "\n",
       "    .dataframe tbody tr th {\n",
       "        vertical-align: top;\n",
       "    }\n",
       "\n",
       "    .dataframe thead th {\n",
       "        text-align: right;\n",
       "    }\n",
       "</style>\n",
       "<table border=\"1\" class=\"dataframe\">\n",
       "  <thead>\n",
       "    <tr style=\"text-align: right;\">\n",
       "      <th></th>\n",
       "      <th>undermine_score</th>\n",
       "      <th>support_score</th>\n",
       "      <th>cp_distance</th>\n",
       "      <th>cop_distance</th>\n",
       "      <th>predict_label</th>\n",
       "      <th>distance_label</th>\n",
       "      <th>gold</th>\n",
       "    </tr>\n",
       "  </thead>\n",
       "  <tbody>\n",
       "    <tr>\n",
       "      <th>0</th>\n",
       "      <td>-4.223587</td>\n",
       "      <td>3.430138</td>\n",
       "      <td>0.020014</td>\n",
       "      <td>0.012879</td>\n",
       "      <td>1</td>\n",
       "      <td>0</td>\n",
       "      <td>1</td>\n",
       "    </tr>\n",
       "    <tr>\n",
       "      <th>1</th>\n",
       "      <td>4.980137</td>\n",
       "      <td>-5.918371</td>\n",
       "      <td>1.923178</td>\n",
       "      <td>0.001339</td>\n",
       "      <td>0</td>\n",
       "      <td>0</td>\n",
       "      <td>0</td>\n",
       "    </tr>\n",
       "    <tr>\n",
       "      <th>2</th>\n",
       "      <td>-4.051531</td>\n",
       "      <td>3.098645</td>\n",
       "      <td>0.004558</td>\n",
       "      <td>0.010478</td>\n",
       "      <td>1</td>\n",
       "      <td>1</td>\n",
       "      <td>1</td>\n",
       "    </tr>\n",
       "    <tr>\n",
       "      <th>3</th>\n",
       "      <td>-1.659985</td>\n",
       "      <td>2.563246</td>\n",
       "      <td>0.277413</td>\n",
       "      <td>0.157976</td>\n",
       "      <td>1</td>\n",
       "      <td>0</td>\n",
       "      <td>1</td>\n",
       "    </tr>\n",
       "    <tr>\n",
       "      <th>4</th>\n",
       "      <td>-1.103358</td>\n",
       "      <td>5.317815</td>\n",
       "      <td>0.293655</td>\n",
       "      <td>1.842567</td>\n",
       "      <td>1</td>\n",
       "      <td>1</td>\n",
       "      <td>1</td>\n",
       "    </tr>\n",
       "    <tr>\n",
       "      <th>...</th>\n",
       "      <td>...</td>\n",
       "      <td>...</td>\n",
       "      <td>...</td>\n",
       "      <td>...</td>\n",
       "      <td>...</td>\n",
       "      <td>...</td>\n",
       "      <td>...</td>\n",
       "    </tr>\n",
       "    <tr>\n",
       "      <th>1876</th>\n",
       "      <td>-3.020821</td>\n",
       "      <td>5.834997</td>\n",
       "      <td>0.000552</td>\n",
       "      <td>1.943276</td>\n",
       "      <td>1</td>\n",
       "      <td>1</td>\n",
       "      <td>1</td>\n",
       "    </tr>\n",
       "    <tr>\n",
       "      <th>1877</th>\n",
       "      <td>-3.082693</td>\n",
       "      <td>5.802138</td>\n",
       "      <td>0.000832</td>\n",
       "      <td>1.913086</td>\n",
       "      <td>1</td>\n",
       "      <td>1</td>\n",
       "      <td>1</td>\n",
       "    </tr>\n",
       "    <tr>\n",
       "      <th>1878</th>\n",
       "      <td>-3.014879</td>\n",
       "      <td>6.071866</td>\n",
       "      <td>0.001957</td>\n",
       "      <td>1.981859</td>\n",
       "      <td>1</td>\n",
       "      <td>1</td>\n",
       "      <td>1</td>\n",
       "    </tr>\n",
       "    <tr>\n",
       "      <th>1879</th>\n",
       "      <td>-3.992391</td>\n",
       "      <td>2.597567</td>\n",
       "      <td>0.005293</td>\n",
       "      <td>0.004218</td>\n",
       "      <td>1</td>\n",
       "      <td>0</td>\n",
       "      <td>1</td>\n",
       "    </tr>\n",
       "    <tr>\n",
       "      <th>1880</th>\n",
       "      <td>-2.863911</td>\n",
       "      <td>5.885867</td>\n",
       "      <td>0.001213</td>\n",
       "      <td>1.977819</td>\n",
       "      <td>1</td>\n",
       "      <td>1</td>\n",
       "      <td>1</td>\n",
       "    </tr>\n",
       "  </tbody>\n",
       "</table>\n",
       "<p>4408 rows × 7 columns</p>\n",
       "</div>"
      ],
      "text/plain": [
       "      undermine_score  support_score  cp_distance  cop_distance  \\\n",
       "0           -4.223587       3.430138     0.020014      0.012879   \n",
       "1            4.980137      -5.918371     1.923178      0.001339   \n",
       "2           -4.051531       3.098645     0.004558      0.010478   \n",
       "3           -1.659985       2.563246     0.277413      0.157976   \n",
       "4           -1.103358       5.317815     0.293655      1.842567   \n",
       "...               ...            ...          ...           ...   \n",
       "1876        -3.020821       5.834997     0.000552      1.943276   \n",
       "1877        -3.082693       5.802138     0.000832      1.913086   \n",
       "1878        -3.014879       6.071866     0.001957      1.981859   \n",
       "1879        -3.992391       2.597567     0.005293      0.004218   \n",
       "1880        -2.863911       5.885867     0.001213      1.977819   \n",
       "\n",
       "      predict_label  distance_label  gold  \n",
       "0                 1               0     1  \n",
       "1                 0               0     0  \n",
       "2                 1               1     1  \n",
       "3                 1               0     1  \n",
       "4                 1               1     1  \n",
       "...             ...             ...   ...  \n",
       "1876              1               1     1  \n",
       "1877              1               1     1  \n",
       "1878              1               1     1  \n",
       "1879              1               0     1  \n",
       "1880              1               1     1  \n",
       "\n",
       "[4408 rows x 7 columns]"
      ]
     },
     "execution_count": 133,
     "metadata": {},
     "output_type": "execute_result"
    }
   ],
   "source": [
    "df_inconsistency"
   ]
  },
  {
   "cell_type": "code",
   "execution_count": null,
   "metadata": {},
   "outputs": [],
   "source": []
  },
  {
   "cell_type": "code",
   "execution_count": 134,
   "metadata": {},
   "outputs": [],
   "source": [
    "dwrong_lcorrect_logits_median = abs(dwrong_lcorrect_out.undermine_score-dwrong_lcorrect_out.support_score).median()\n",
    "dwrong_lcorrect_logits_mean = abs(dwrong_lcorrect_out.undermine_score-dwrong_lcorrect_out.support_score).mean()"
   ]
  },
  {
   "cell_type": "code",
   "execution_count": 135,
   "metadata": {},
   "outputs": [],
   "source": [
    "# dcorrect_lwrong_logits_median = abs(dcorrect_lwrong_out.undermine_score-dcorrect_lwrong_out.support_score).median()"
   ]
  },
  {
   "cell_type": "code",
   "execution_count": null,
   "metadata": {},
   "outputs": [],
   "source": []
  },
  {
   "cell_type": "code",
   "execution_count": 136,
   "metadata": {},
   "outputs": [],
   "source": [
    "# dwrong_lcorrect_distance_median = abs(dwrong_lcorrect_out.cp_distance-dwrong_lcorrect_out.cop_distance).median()"
   ]
  },
  {
   "cell_type": "code",
   "execution_count": 137,
   "metadata": {},
   "outputs": [],
   "source": [
    "dcorrect_lwrong_distance_median = abs(dcorrect_lwrong_out.cp_distance-dcorrect_lwrong_out.cop_distance).median()\n",
    "dcorrect_lwrong_distance_mean = abs(dcorrect_lwrong_out.cp_distance-dcorrect_lwrong_out.cop_distance).mean()"
   ]
  },
  {
   "cell_type": "code",
   "execution_count": null,
   "metadata": {},
   "outputs": [],
   "source": []
  },
  {
   "cell_type": "code",
   "execution_count": 138,
   "metadata": {},
   "outputs": [],
   "source": [
    "distance_to_logits_median = abs(df_inconsistency.undermine_score-df_inconsistency.support_score)-inconsistent_logits_median\n",
    "distance_to_logits_mean = abs(df_inconsistency.undermine_score-df_inconsistency.support_score)-inconsistent_logits_mean"
   ]
  },
  {
   "cell_type": "code",
   "execution_count": 139,
   "metadata": {},
   "outputs": [],
   "source": [
    "df_inconsistency[\"distance_to_logtis\"] = (distance_to_logits_median-distance_to_logits_median.min())/(distance_to_logits_median.max()-distance_to_logits_median.min())"
   ]
  },
  {
   "cell_type": "code",
   "execution_count": 140,
   "metadata": {},
   "outputs": [],
   "source": [
    "# df_inconsistency[\"distance_to_logtis\"] = (distance_to_logits_mean-distance_to_logits_mean.min())/(distance_to_logits_mean.max()-distance_to_logits_mean.min())"
   ]
  },
  {
   "cell_type": "code",
   "execution_count": 141,
   "metadata": {},
   "outputs": [
    {
     "data": {
      "text/plain": [
       "14.687262700000002"
      ]
     },
     "execution_count": 141,
     "metadata": {},
     "output_type": "execute_result"
    }
   ],
   "source": [
    "distance_to_logits_median.max()"
   ]
  },
  {
   "cell_type": "code",
   "execution_count": 142,
   "metadata": {},
   "outputs": [
    {
     "data": {
      "text/plain": [
       "14.31552211390498"
      ]
     },
     "execution_count": 142,
     "metadata": {},
     "output_type": "execute_result"
    }
   ],
   "source": [
    "distance_to_logits_mean.max()"
   ]
  },
  {
   "cell_type": "code",
   "execution_count": 143,
   "metadata": {},
   "outputs": [],
   "source": [
    "distance_to_distance_median = abs(df_inconsistency.cp_distance-df_inconsistency.cop_distance)-inconsistent_distance_median\n",
    "distance_to_distance_mean = abs(df_inconsistency.cp_distance-df_inconsistency.cop_distance)-inconsistent_distance_mean"
   ]
  },
  {
   "cell_type": "code",
   "execution_count": 144,
   "metadata": {},
   "outputs": [
    {
     "data": {
      "text/plain": [
       "0       0.003590\n",
       "1       0.967933\n",
       "2       0.002977\n",
       "3       0.060150\n",
       "4       0.780107\n",
       "          ...   \n",
       "1876    0.978452\n",
       "1877    0.963105\n",
       "1878    0.997176\n",
       "1879    0.000537\n",
       "1880    0.995517\n",
       "Length: 4408, dtype: float64"
      ]
     },
     "execution_count": 144,
     "metadata": {},
     "output_type": "execute_result"
    }
   ],
   "source": [
    "(distance_to_distance_median-distance_to_distance_median.min())/(distance_to_distance_median.max()-distance_to_distance_median.min())"
   ]
  },
  {
   "cell_type": "code",
   "execution_count": 145,
   "metadata": {},
   "outputs": [
    {
     "data": {
      "text/plain": [
       "1.98549917362"
      ]
     },
     "execution_count": 145,
     "metadata": {},
     "output_type": "execute_result"
    }
   ],
   "source": [
    "(distance_to_distance_median.max()-distance_to_distance_median.min())"
   ]
  },
  {
   "cell_type": "code",
   "execution_count": 146,
   "metadata": {},
   "outputs": [
    {
     "data": {
      "text/plain": [
       "0       0.003590\n",
       "1       0.967933\n",
       "2       0.002977\n",
       "3       0.060150\n",
       "4       0.780107\n",
       "          ...   \n",
       "1876    0.978452\n",
       "1877    0.963105\n",
       "1878    0.997176\n",
       "1879    0.000537\n",
       "1880    0.995517\n",
       "Length: 4408, dtype: float64"
      ]
     },
     "execution_count": 146,
     "metadata": {},
     "output_type": "execute_result"
    }
   ],
   "source": [
    "(distance_to_distance_mean-distance_to_distance_mean.min())/(distance_to_distance_mean.max()-distance_to_distance_mean.min())"
   ]
  },
  {
   "cell_type": "code",
   "execution_count": 147,
   "metadata": {},
   "outputs": [],
   "source": [
    "df_inconsistency[\"distance_to_distance\"] = (distance_to_distance_median-distance_to_distance_median.min())/(distance_to_distance_median.max()-distance_to_distance_median.min())"
   ]
  },
  {
   "cell_type": "code",
   "execution_count": 148,
   "metadata": {},
   "outputs": [],
   "source": [
    "# df_inconsistency[\"distance_to_distance\"] = (distance_to_distance_mean-distance_to_distance_mean.min())/(distance_to_distance_mean.max()-distance_to_distance_mean.min())"
   ]
  },
  {
   "cell_type": "code",
   "execution_count": 149,
   "metadata": {},
   "outputs": [
    {
     "data": {
      "text/html": [
       "<div>\n",
       "<style scoped>\n",
       "    .dataframe tbody tr th:only-of-type {\n",
       "        vertical-align: middle;\n",
       "    }\n",
       "\n",
       "    .dataframe tbody tr th {\n",
       "        vertical-align: top;\n",
       "    }\n",
       "\n",
       "    .dataframe thead th {\n",
       "        text-align: right;\n",
       "    }\n",
       "</style>\n",
       "<table border=\"1\" class=\"dataframe\">\n",
       "  <thead>\n",
       "    <tr style=\"text-align: right;\">\n",
       "      <th></th>\n",
       "      <th>undermine_score</th>\n",
       "      <th>support_score</th>\n",
       "      <th>cp_distance</th>\n",
       "      <th>cop_distance</th>\n",
       "      <th>predict_label</th>\n",
       "      <th>distance_label</th>\n",
       "      <th>gold</th>\n",
       "      <th>distance_to_logtis</th>\n",
       "      <th>distance_to_distance</th>\n",
       "    </tr>\n",
       "  </thead>\n",
       "  <tbody>\n",
       "    <tr>\n",
       "      <th>0</th>\n",
       "      <td>-4.223587</td>\n",
       "      <td>3.430138</td>\n",
       "      <td>0.020014</td>\n",
       "      <td>0.012879</td>\n",
       "      <td>1</td>\n",
       "      <td>0</td>\n",
       "      <td>1</td>\n",
       "      <td>0.325812</td>\n",
       "      <td>0.003590</td>\n",
       "    </tr>\n",
       "    <tr>\n",
       "      <th>1</th>\n",
       "      <td>4.980137</td>\n",
       "      <td>-5.918371</td>\n",
       "      <td>1.923178</td>\n",
       "      <td>0.001339</td>\n",
       "      <td>0</td>\n",
       "      <td>0</td>\n",
       "      <td>0</td>\n",
       "      <td>0.464116</td>\n",
       "      <td>0.967933</td>\n",
       "    </tr>\n",
       "    <tr>\n",
       "      <th>2</th>\n",
       "      <td>-4.051531</td>\n",
       "      <td>3.098645</td>\n",
       "      <td>0.004558</td>\n",
       "      <td>0.010478</td>\n",
       "      <td>1</td>\n",
       "      <td>1</td>\n",
       "      <td>1</td>\n",
       "      <td>0.304349</td>\n",
       "      <td>0.002977</td>\n",
       "    </tr>\n",
       "    <tr>\n",
       "      <th>3</th>\n",
       "      <td>-1.659985</td>\n",
       "      <td>2.563246</td>\n",
       "      <td>0.277413</td>\n",
       "      <td>0.157976</td>\n",
       "      <td>1</td>\n",
       "      <td>0</td>\n",
       "      <td>1</td>\n",
       "      <td>0.179592</td>\n",
       "      <td>0.060150</td>\n",
       "    </tr>\n",
       "    <tr>\n",
       "      <th>4</th>\n",
       "      <td>-1.103358</td>\n",
       "      <td>5.317815</td>\n",
       "      <td>0.293655</td>\n",
       "      <td>1.842567</td>\n",
       "      <td>1</td>\n",
       "      <td>1</td>\n",
       "      <td>1</td>\n",
       "      <td>0.273276</td>\n",
       "      <td>0.780107</td>\n",
       "    </tr>\n",
       "    <tr>\n",
       "      <th>...</th>\n",
       "      <td>...</td>\n",
       "      <td>...</td>\n",
       "      <td>...</td>\n",
       "      <td>...</td>\n",
       "      <td>...</td>\n",
       "      <td>...</td>\n",
       "      <td>...</td>\n",
       "      <td>...</td>\n",
       "      <td>...</td>\n",
       "    </tr>\n",
       "    <tr>\n",
       "      <th>1876</th>\n",
       "      <td>-3.020821</td>\n",
       "      <td>5.834997</td>\n",
       "      <td>0.000552</td>\n",
       "      <td>1.943276</td>\n",
       "      <td>1</td>\n",
       "      <td>1</td>\n",
       "      <td>1</td>\n",
       "      <td>0.377049</td>\n",
       "      <td>0.978452</td>\n",
       "    </tr>\n",
       "    <tr>\n",
       "      <th>1877</th>\n",
       "      <td>-3.082693</td>\n",
       "      <td>5.802138</td>\n",
       "      <td>0.000832</td>\n",
       "      <td>1.913086</td>\n",
       "      <td>1</td>\n",
       "      <td>1</td>\n",
       "      <td>1</td>\n",
       "      <td>0.378286</td>\n",
       "      <td>0.963105</td>\n",
       "    </tr>\n",
       "    <tr>\n",
       "      <th>1878</th>\n",
       "      <td>-3.014879</td>\n",
       "      <td>6.071866</td>\n",
       "      <td>0.001957</td>\n",
       "      <td>1.981859</td>\n",
       "      <td>1</td>\n",
       "      <td>1</td>\n",
       "      <td>1</td>\n",
       "      <td>0.386892</td>\n",
       "      <td>0.997176</td>\n",
       "    </tr>\n",
       "    <tr>\n",
       "      <th>1879</th>\n",
       "      <td>-3.992391</td>\n",
       "      <td>2.597567</td>\n",
       "      <td>0.005293</td>\n",
       "      <td>0.004218</td>\n",
       "      <td>1</td>\n",
       "      <td>0</td>\n",
       "      <td>1</td>\n",
       "      <td>0.280470</td>\n",
       "      <td>0.000537</td>\n",
       "    </tr>\n",
       "    <tr>\n",
       "      <th>1880</th>\n",
       "      <td>-2.863911</td>\n",
       "      <td>5.885867</td>\n",
       "      <td>0.001213</td>\n",
       "      <td>1.977819</td>\n",
       "      <td>1</td>\n",
       "      <td>1</td>\n",
       "      <td>1</td>\n",
       "      <td>0.372529</td>\n",
       "      <td>0.995517</td>\n",
       "    </tr>\n",
       "  </tbody>\n",
       "</table>\n",
       "<p>4408 rows × 9 columns</p>\n",
       "</div>"
      ],
      "text/plain": [
       "      undermine_score  support_score  cp_distance  cop_distance  \\\n",
       "0           -4.223587       3.430138     0.020014      0.012879   \n",
       "1            4.980137      -5.918371     1.923178      0.001339   \n",
       "2           -4.051531       3.098645     0.004558      0.010478   \n",
       "3           -1.659985       2.563246     0.277413      0.157976   \n",
       "4           -1.103358       5.317815     0.293655      1.842567   \n",
       "...               ...            ...          ...           ...   \n",
       "1876        -3.020821       5.834997     0.000552      1.943276   \n",
       "1877        -3.082693       5.802138     0.000832      1.913086   \n",
       "1878        -3.014879       6.071866     0.001957      1.981859   \n",
       "1879        -3.992391       2.597567     0.005293      0.004218   \n",
       "1880        -2.863911       5.885867     0.001213      1.977819   \n",
       "\n",
       "      predict_label  distance_label  gold  distance_to_logtis  \\\n",
       "0                 1               0     1            0.325812   \n",
       "1                 0               0     0            0.464116   \n",
       "2                 1               1     1            0.304349   \n",
       "3                 1               0     1            0.179592   \n",
       "4                 1               1     1            0.273276   \n",
       "...             ...             ...   ...                 ...   \n",
       "1876              1               1     1            0.377049   \n",
       "1877              1               1     1            0.378286   \n",
       "1878              1               1     1            0.386892   \n",
       "1879              1               0     1            0.280470   \n",
       "1880              1               1     1            0.372529   \n",
       "\n",
       "      distance_to_distance  \n",
       "0                 0.003590  \n",
       "1                 0.967933  \n",
       "2                 0.002977  \n",
       "3                 0.060150  \n",
       "4                 0.780107  \n",
       "...                    ...  \n",
       "1876              0.978452  \n",
       "1877              0.963105  \n",
       "1878              0.997176  \n",
       "1879              0.000537  \n",
       "1880              0.995517  \n",
       "\n",
       "[4408 rows x 9 columns]"
      ]
     },
     "execution_count": 149,
     "metadata": {},
     "output_type": "execute_result"
    }
   ],
   "source": [
    "df_inconsistency"
   ]
  },
  {
   "cell_type": "code",
   "execution_count": 150,
   "metadata": {},
   "outputs": [
    {
     "data": {
      "text/html": [
       "<div>\n",
       "<style scoped>\n",
       "    .dataframe tbody tr th:only-of-type {\n",
       "        vertical-align: middle;\n",
       "    }\n",
       "\n",
       "    .dataframe tbody tr th {\n",
       "        vertical-align: top;\n",
       "    }\n",
       "\n",
       "    .dataframe thead th {\n",
       "        text-align: right;\n",
       "    }\n",
       "</style>\n",
       "<table border=\"1\" class=\"dataframe\">\n",
       "  <thead>\n",
       "    <tr style=\"text-align: right;\">\n",
       "      <th></th>\n",
       "      <th>undermine_score</th>\n",
       "      <th>support_score</th>\n",
       "      <th>cp_distance</th>\n",
       "      <th>cop_distance</th>\n",
       "      <th>predict_label</th>\n",
       "      <th>distance_label</th>\n",
       "      <th>gold</th>\n",
       "    </tr>\n",
       "  </thead>\n",
       "  <tbody>\n",
       "    <tr>\n",
       "      <th>1</th>\n",
       "      <td>4.980137</td>\n",
       "      <td>-5.918371</td>\n",
       "      <td>1.923178</td>\n",
       "      <td>0.001339</td>\n",
       "      <td>0</td>\n",
       "      <td>0</td>\n",
       "      <td>0</td>\n",
       "    </tr>\n",
       "    <tr>\n",
       "      <th>2</th>\n",
       "      <td>-4.051531</td>\n",
       "      <td>3.098645</td>\n",
       "      <td>0.004558</td>\n",
       "      <td>0.010478</td>\n",
       "      <td>1</td>\n",
       "      <td>1</td>\n",
       "      <td>1</td>\n",
       "    </tr>\n",
       "    <tr>\n",
       "      <th>4</th>\n",
       "      <td>-1.103358</td>\n",
       "      <td>5.317815</td>\n",
       "      <td>0.293655</td>\n",
       "      <td>1.842567</td>\n",
       "      <td>1</td>\n",
       "      <td>1</td>\n",
       "      <td>1</td>\n",
       "    </tr>\n",
       "    <tr>\n",
       "      <th>5</th>\n",
       "      <td>-2.957279</td>\n",
       "      <td>5.612340</td>\n",
       "      <td>0.010343</td>\n",
       "      <td>1.754936</td>\n",
       "      <td>1</td>\n",
       "      <td>1</td>\n",
       "      <td>1</td>\n",
       "    </tr>\n",
       "    <tr>\n",
       "      <th>6</th>\n",
       "      <td>-2.915035</td>\n",
       "      <td>5.855358</td>\n",
       "      <td>0.004241</td>\n",
       "      <td>1.868177</td>\n",
       "      <td>1</td>\n",
       "      <td>1</td>\n",
       "      <td>1</td>\n",
       "    </tr>\n",
       "    <tr>\n",
       "      <th>...</th>\n",
       "      <td>...</td>\n",
       "      <td>...</td>\n",
       "      <td>...</td>\n",
       "      <td>...</td>\n",
       "      <td>...</td>\n",
       "      <td>...</td>\n",
       "      <td>...</td>\n",
       "    </tr>\n",
       "    <tr>\n",
       "      <th>1875</th>\n",
       "      <td>-2.986062</td>\n",
       "      <td>6.168940</td>\n",
       "      <td>0.007146</td>\n",
       "      <td>1.979641</td>\n",
       "      <td>1</td>\n",
       "      <td>1</td>\n",
       "      <td>1</td>\n",
       "    </tr>\n",
       "    <tr>\n",
       "      <th>1876</th>\n",
       "      <td>-3.020821</td>\n",
       "      <td>5.834997</td>\n",
       "      <td>0.000552</td>\n",
       "      <td>1.943276</td>\n",
       "      <td>1</td>\n",
       "      <td>1</td>\n",
       "      <td>1</td>\n",
       "    </tr>\n",
       "    <tr>\n",
       "      <th>1877</th>\n",
       "      <td>-3.082693</td>\n",
       "      <td>5.802138</td>\n",
       "      <td>0.000832</td>\n",
       "      <td>1.913086</td>\n",
       "      <td>1</td>\n",
       "      <td>1</td>\n",
       "      <td>1</td>\n",
       "    </tr>\n",
       "    <tr>\n",
       "      <th>1878</th>\n",
       "      <td>-3.014879</td>\n",
       "      <td>6.071866</td>\n",
       "      <td>0.001957</td>\n",
       "      <td>1.981859</td>\n",
       "      <td>1</td>\n",
       "      <td>1</td>\n",
       "      <td>1</td>\n",
       "    </tr>\n",
       "    <tr>\n",
       "      <th>1880</th>\n",
       "      <td>-2.863911</td>\n",
       "      <td>5.885867</td>\n",
       "      <td>0.001213</td>\n",
       "      <td>1.977819</td>\n",
       "      <td>1</td>\n",
       "      <td>1</td>\n",
       "      <td>1</td>\n",
       "    </tr>\n",
       "  </tbody>\n",
       "</table>\n",
       "<p>3841 rows × 7 columns</p>\n",
       "</div>"
      ],
      "text/plain": [
       "      undermine_score  support_score  cp_distance  cop_distance  \\\n",
       "1            4.980137      -5.918371     1.923178      0.001339   \n",
       "2           -4.051531       3.098645     0.004558      0.010478   \n",
       "4           -1.103358       5.317815     0.293655      1.842567   \n",
       "5           -2.957279       5.612340     0.010343      1.754936   \n",
       "6           -2.915035       5.855358     0.004241      1.868177   \n",
       "...               ...            ...          ...           ...   \n",
       "1875        -2.986062       6.168940     0.007146      1.979641   \n",
       "1876        -3.020821       5.834997     0.000552      1.943276   \n",
       "1877        -3.082693       5.802138     0.000832      1.913086   \n",
       "1878        -3.014879       6.071866     0.001957      1.981859   \n",
       "1880        -2.863911       5.885867     0.001213      1.977819   \n",
       "\n",
       "      predict_label  distance_label  gold  \n",
       "1                 0               0     0  \n",
       "2                 1               1     1  \n",
       "4                 1               1     1  \n",
       "5                 1               1     1  \n",
       "6                 1               1     1  \n",
       "...             ...             ...   ...  \n",
       "1875              1               1     1  \n",
       "1876              1               1     1  \n",
       "1877              1               1     1  \n",
       "1878              1               1     1  \n",
       "1880              1               1     1  \n",
       "\n",
       "[3841 rows x 7 columns]"
      ]
     },
     "execution_count": 150,
     "metadata": {},
     "output_type": "execute_result"
    }
   ],
   "source": [
    "df_consistency"
   ]
  },
  {
   "cell_type": "code",
   "execution_count": null,
   "metadata": {},
   "outputs": [],
   "source": []
  },
  {
   "cell_type": "code",
   "execution_count": 151,
   "metadata": {},
   "outputs": [],
   "source": [
    "import flyingsquid\n",
    "from numpy.random import seed, rand\n",
    "import itertools\n",
    "import numpy as np"
   ]
  },
  {
   "cell_type": "code",
   "execution_count": 152,
   "metadata": {},
   "outputs": [
    {
     "data": {
      "text/html": [
       "<div>\n",
       "<style scoped>\n",
       "    .dataframe tbody tr th:only-of-type {\n",
       "        vertical-align: middle;\n",
       "    }\n",
       "\n",
       "    .dataframe tbody tr th {\n",
       "        vertical-align: top;\n",
       "    }\n",
       "\n",
       "    .dataframe thead th {\n",
       "        text-align: right;\n",
       "    }\n",
       "</style>\n",
       "<table border=\"1\" class=\"dataframe\">\n",
       "  <thead>\n",
       "    <tr style=\"text-align: right;\">\n",
       "      <th></th>\n",
       "      <th>undermine_score</th>\n",
       "      <th>support_score</th>\n",
       "      <th>cp_distance</th>\n",
       "      <th>cop_distance</th>\n",
       "      <th>predict_label</th>\n",
       "      <th>distance_label</th>\n",
       "      <th>gold</th>\n",
       "      <th>distance_to_logtis</th>\n",
       "      <th>distance_to_distance</th>\n",
       "    </tr>\n",
       "  </thead>\n",
       "  <tbody>\n",
       "    <tr>\n",
       "      <th>0</th>\n",
       "      <td>-4.223587</td>\n",
       "      <td>3.430138</td>\n",
       "      <td>0.020014</td>\n",
       "      <td>0.012879</td>\n",
       "      <td>1</td>\n",
       "      <td>0</td>\n",
       "      <td>1</td>\n",
       "      <td>0.325812</td>\n",
       "      <td>0.003590</td>\n",
       "    </tr>\n",
       "    <tr>\n",
       "      <th>1</th>\n",
       "      <td>4.980137</td>\n",
       "      <td>-5.918371</td>\n",
       "      <td>1.923178</td>\n",
       "      <td>0.001339</td>\n",
       "      <td>0</td>\n",
       "      <td>0</td>\n",
       "      <td>0</td>\n",
       "      <td>0.464116</td>\n",
       "      <td>0.967933</td>\n",
       "    </tr>\n",
       "    <tr>\n",
       "      <th>2</th>\n",
       "      <td>-4.051531</td>\n",
       "      <td>3.098645</td>\n",
       "      <td>0.004558</td>\n",
       "      <td>0.010478</td>\n",
       "      <td>1</td>\n",
       "      <td>1</td>\n",
       "      <td>1</td>\n",
       "      <td>0.304349</td>\n",
       "      <td>0.002977</td>\n",
       "    </tr>\n",
       "    <tr>\n",
       "      <th>3</th>\n",
       "      <td>-1.659985</td>\n",
       "      <td>2.563246</td>\n",
       "      <td>0.277413</td>\n",
       "      <td>0.157976</td>\n",
       "      <td>1</td>\n",
       "      <td>0</td>\n",
       "      <td>1</td>\n",
       "      <td>0.179592</td>\n",
       "      <td>0.060150</td>\n",
       "    </tr>\n",
       "    <tr>\n",
       "      <th>4</th>\n",
       "      <td>-1.103358</td>\n",
       "      <td>5.317815</td>\n",
       "      <td>0.293655</td>\n",
       "      <td>1.842567</td>\n",
       "      <td>1</td>\n",
       "      <td>1</td>\n",
       "      <td>1</td>\n",
       "      <td>0.273276</td>\n",
       "      <td>0.780107</td>\n",
       "    </tr>\n",
       "    <tr>\n",
       "      <th>...</th>\n",
       "      <td>...</td>\n",
       "      <td>...</td>\n",
       "      <td>...</td>\n",
       "      <td>...</td>\n",
       "      <td>...</td>\n",
       "      <td>...</td>\n",
       "      <td>...</td>\n",
       "      <td>...</td>\n",
       "      <td>...</td>\n",
       "    </tr>\n",
       "    <tr>\n",
       "      <th>1876</th>\n",
       "      <td>-3.020821</td>\n",
       "      <td>5.834997</td>\n",
       "      <td>0.000552</td>\n",
       "      <td>1.943276</td>\n",
       "      <td>1</td>\n",
       "      <td>1</td>\n",
       "      <td>1</td>\n",
       "      <td>0.377049</td>\n",
       "      <td>0.978452</td>\n",
       "    </tr>\n",
       "    <tr>\n",
       "      <th>1877</th>\n",
       "      <td>-3.082693</td>\n",
       "      <td>5.802138</td>\n",
       "      <td>0.000832</td>\n",
       "      <td>1.913086</td>\n",
       "      <td>1</td>\n",
       "      <td>1</td>\n",
       "      <td>1</td>\n",
       "      <td>0.378286</td>\n",
       "      <td>0.963105</td>\n",
       "    </tr>\n",
       "    <tr>\n",
       "      <th>1878</th>\n",
       "      <td>-3.014879</td>\n",
       "      <td>6.071866</td>\n",
       "      <td>0.001957</td>\n",
       "      <td>1.981859</td>\n",
       "      <td>1</td>\n",
       "      <td>1</td>\n",
       "      <td>1</td>\n",
       "      <td>0.386892</td>\n",
       "      <td>0.997176</td>\n",
       "    </tr>\n",
       "    <tr>\n",
       "      <th>1879</th>\n",
       "      <td>-3.992391</td>\n",
       "      <td>2.597567</td>\n",
       "      <td>0.005293</td>\n",
       "      <td>0.004218</td>\n",
       "      <td>1</td>\n",
       "      <td>0</td>\n",
       "      <td>1</td>\n",
       "      <td>0.280470</td>\n",
       "      <td>0.000537</td>\n",
       "    </tr>\n",
       "    <tr>\n",
       "      <th>1880</th>\n",
       "      <td>-2.863911</td>\n",
       "      <td>5.885867</td>\n",
       "      <td>0.001213</td>\n",
       "      <td>1.977819</td>\n",
       "      <td>1</td>\n",
       "      <td>1</td>\n",
       "      <td>1</td>\n",
       "      <td>0.372529</td>\n",
       "      <td>0.995517</td>\n",
       "    </tr>\n",
       "  </tbody>\n",
       "</table>\n",
       "<p>4408 rows × 9 columns</p>\n",
       "</div>"
      ],
      "text/plain": [
       "      undermine_score  support_score  cp_distance  cop_distance  \\\n",
       "0           -4.223587       3.430138     0.020014      0.012879   \n",
       "1            4.980137      -5.918371     1.923178      0.001339   \n",
       "2           -4.051531       3.098645     0.004558      0.010478   \n",
       "3           -1.659985       2.563246     0.277413      0.157976   \n",
       "4           -1.103358       5.317815     0.293655      1.842567   \n",
       "...               ...            ...          ...           ...   \n",
       "1876        -3.020821       5.834997     0.000552      1.943276   \n",
       "1877        -3.082693       5.802138     0.000832      1.913086   \n",
       "1878        -3.014879       6.071866     0.001957      1.981859   \n",
       "1879        -3.992391       2.597567     0.005293      0.004218   \n",
       "1880        -2.863911       5.885867     0.001213      1.977819   \n",
       "\n",
       "      predict_label  distance_label  gold  distance_to_logtis  \\\n",
       "0                 1               0     1            0.325812   \n",
       "1                 0               0     0            0.464116   \n",
       "2                 1               1     1            0.304349   \n",
       "3                 1               0     1            0.179592   \n",
       "4                 1               1     1            0.273276   \n",
       "...             ...             ...   ...                 ...   \n",
       "1876              1               1     1            0.377049   \n",
       "1877              1               1     1            0.378286   \n",
       "1878              1               1     1            0.386892   \n",
       "1879              1               0     1            0.280470   \n",
       "1880              1               1     1            0.372529   \n",
       "\n",
       "      distance_to_distance  \n",
       "0                 0.003590  \n",
       "1                 0.967933  \n",
       "2                 0.002977  \n",
       "3                 0.060150  \n",
       "4                 0.780107  \n",
       "...                    ...  \n",
       "1876              0.978452  \n",
       "1877              0.963105  \n",
       "1878              0.997176  \n",
       "1879              0.000537  \n",
       "1880              0.995517  \n",
       "\n",
       "[4408 rows x 9 columns]"
      ]
     },
     "execution_count": 152,
     "metadata": {},
     "output_type": "execute_result"
    }
   ],
   "source": [
    "df_inconsistency"
   ]
  },
  {
   "cell_type": "code",
   "execution_count": 153,
   "metadata": {},
   "outputs": [
    {
     "data": {
      "text/html": [
       "<div>\n",
       "<style scoped>\n",
       "    .dataframe tbody tr th:only-of-type {\n",
       "        vertical-align: middle;\n",
       "    }\n",
       "\n",
       "    .dataframe tbody tr th {\n",
       "        vertical-align: top;\n",
       "    }\n",
       "\n",
       "    .dataframe thead th {\n",
       "        text-align: right;\n",
       "    }\n",
       "</style>\n",
       "<table border=\"1\" class=\"dataframe\">\n",
       "  <thead>\n",
       "    <tr style=\"text-align: right;\">\n",
       "      <th></th>\n",
       "      <th>undermine_score</th>\n",
       "      <th>support_score</th>\n",
       "      <th>cp_distance</th>\n",
       "      <th>cop_distance</th>\n",
       "      <th>predict_label</th>\n",
       "      <th>distance_label</th>\n",
       "      <th>gold</th>\n",
       "      <th>distance_to_logtis</th>\n",
       "      <th>distance_to_distance</th>\n",
       "    </tr>\n",
       "  </thead>\n",
       "  <tbody>\n",
       "    <tr>\n",
       "      <th>0</th>\n",
       "      <td>-4.223587</td>\n",
       "      <td>3.430138</td>\n",
       "      <td>0.020014</td>\n",
       "      <td>0.012879</td>\n",
       "      <td>1</td>\n",
       "      <td>0</td>\n",
       "      <td>1</td>\n",
       "      <td>0.325812</td>\n",
       "      <td>0.003590</td>\n",
       "    </tr>\n",
       "    <tr>\n",
       "      <th>2</th>\n",
       "      <td>-4.051531</td>\n",
       "      <td>3.098645</td>\n",
       "      <td>0.004558</td>\n",
       "      <td>0.010478</td>\n",
       "      <td>1</td>\n",
       "      <td>1</td>\n",
       "      <td>1</td>\n",
       "      <td>0.304349</td>\n",
       "      <td>0.002977</td>\n",
       "    </tr>\n",
       "    <tr>\n",
       "      <th>3</th>\n",
       "      <td>-1.659985</td>\n",
       "      <td>2.563246</td>\n",
       "      <td>0.277413</td>\n",
       "      <td>0.157976</td>\n",
       "      <td>1</td>\n",
       "      <td>0</td>\n",
       "      <td>1</td>\n",
       "      <td>0.179592</td>\n",
       "      <td>0.060150</td>\n",
       "    </tr>\n",
       "    <tr>\n",
       "      <th>4</th>\n",
       "      <td>-1.103358</td>\n",
       "      <td>5.317815</td>\n",
       "      <td>0.293655</td>\n",
       "      <td>1.842567</td>\n",
       "      <td>1</td>\n",
       "      <td>1</td>\n",
       "      <td>1</td>\n",
       "      <td>0.273276</td>\n",
       "      <td>0.780107</td>\n",
       "    </tr>\n",
       "    <tr>\n",
       "      <th>5</th>\n",
       "      <td>-2.957279</td>\n",
       "      <td>5.612340</td>\n",
       "      <td>0.010343</td>\n",
       "      <td>1.754936</td>\n",
       "      <td>1</td>\n",
       "      <td>1</td>\n",
       "      <td>1</td>\n",
       "      <td>0.364850</td>\n",
       "      <td>0.878663</td>\n",
       "    </tr>\n",
       "    <tr>\n",
       "      <th>...</th>\n",
       "      <td>...</td>\n",
       "      <td>...</td>\n",
       "      <td>...</td>\n",
       "      <td>...</td>\n",
       "      <td>...</td>\n",
       "      <td>...</td>\n",
       "      <td>...</td>\n",
       "      <td>...</td>\n",
       "      <td>...</td>\n",
       "    </tr>\n",
       "    <tr>\n",
       "      <th>1876</th>\n",
       "      <td>-3.020821</td>\n",
       "      <td>5.834997</td>\n",
       "      <td>0.000552</td>\n",
       "      <td>1.943276</td>\n",
       "      <td>1</td>\n",
       "      <td>1</td>\n",
       "      <td>1</td>\n",
       "      <td>0.377049</td>\n",
       "      <td>0.978452</td>\n",
       "    </tr>\n",
       "    <tr>\n",
       "      <th>1877</th>\n",
       "      <td>-3.082693</td>\n",
       "      <td>5.802138</td>\n",
       "      <td>0.000832</td>\n",
       "      <td>1.913086</td>\n",
       "      <td>1</td>\n",
       "      <td>1</td>\n",
       "      <td>1</td>\n",
       "      <td>0.378286</td>\n",
       "      <td>0.963105</td>\n",
       "    </tr>\n",
       "    <tr>\n",
       "      <th>1878</th>\n",
       "      <td>-3.014879</td>\n",
       "      <td>6.071866</td>\n",
       "      <td>0.001957</td>\n",
       "      <td>1.981859</td>\n",
       "      <td>1</td>\n",
       "      <td>1</td>\n",
       "      <td>1</td>\n",
       "      <td>0.386892</td>\n",
       "      <td>0.997176</td>\n",
       "    </tr>\n",
       "    <tr>\n",
       "      <th>1879</th>\n",
       "      <td>-3.992391</td>\n",
       "      <td>2.597567</td>\n",
       "      <td>0.005293</td>\n",
       "      <td>0.004218</td>\n",
       "      <td>1</td>\n",
       "      <td>0</td>\n",
       "      <td>1</td>\n",
       "      <td>0.280470</td>\n",
       "      <td>0.000537</td>\n",
       "    </tr>\n",
       "    <tr>\n",
       "      <th>1880</th>\n",
       "      <td>-2.863911</td>\n",
       "      <td>5.885867</td>\n",
       "      <td>0.001213</td>\n",
       "      <td>1.977819</td>\n",
       "      <td>1</td>\n",
       "      <td>1</td>\n",
       "      <td>1</td>\n",
       "      <td>0.372529</td>\n",
       "      <td>0.995517</td>\n",
       "    </tr>\n",
       "  </tbody>\n",
       "</table>\n",
       "<p>2860 rows × 9 columns</p>\n",
       "</div>"
      ],
      "text/plain": [
       "      undermine_score  support_score  cp_distance  cop_distance  \\\n",
       "0           -4.223587       3.430138     0.020014      0.012879   \n",
       "2           -4.051531       3.098645     0.004558      0.010478   \n",
       "3           -1.659985       2.563246     0.277413      0.157976   \n",
       "4           -1.103358       5.317815     0.293655      1.842567   \n",
       "5           -2.957279       5.612340     0.010343      1.754936   \n",
       "...               ...            ...          ...           ...   \n",
       "1876        -3.020821       5.834997     0.000552      1.943276   \n",
       "1877        -3.082693       5.802138     0.000832      1.913086   \n",
       "1878        -3.014879       6.071866     0.001957      1.981859   \n",
       "1879        -3.992391       2.597567     0.005293      0.004218   \n",
       "1880        -2.863911       5.885867     0.001213      1.977819   \n",
       "\n",
       "      predict_label  distance_label  gold  distance_to_logtis  \\\n",
       "0                 1               0     1            0.325812   \n",
       "2                 1               1     1            0.304349   \n",
       "3                 1               0     1            0.179592   \n",
       "4                 1               1     1            0.273276   \n",
       "5                 1               1     1            0.364850   \n",
       "...             ...             ...   ...                 ...   \n",
       "1876              1               1     1            0.377049   \n",
       "1877              1               1     1            0.378286   \n",
       "1878              1               1     1            0.386892   \n",
       "1879              1               0     1            0.280470   \n",
       "1880              1               1     1            0.372529   \n",
       "\n",
       "      distance_to_distance  \n",
       "0                 0.003590  \n",
       "2                 0.002977  \n",
       "3                 0.060150  \n",
       "4                 0.780107  \n",
       "5                 0.878663  \n",
       "...                    ...  \n",
       "1876              0.978452  \n",
       "1877              0.963105  \n",
       "1878              0.997176  \n",
       "1879              0.000537  \n",
       "1880              0.995517  \n",
       "\n",
       "[2860 rows x 9 columns]"
      ]
     },
     "execution_count": 153,
     "metadata": {},
     "output_type": "execute_result"
    }
   ],
   "source": [
    "df_inconsistency[abs(df_inconsistency.undermine_score-df_inconsistency.support_score)<9.7]"
   ]
  },
  {
   "cell_type": "code",
   "execution_count": 154,
   "metadata": {},
   "outputs": [],
   "source": [
    "df_inconsistency[\"snorkel_logits_17\"]=df_inconsistency.predict_label\n",
    "df_inconsistency.snorkel_logits_17=df_inconsistency.apply(lambda x: -1 if x.snorkel_logits_17==0 else 1, axis=1)\n",
    "df_inconsistency.snorkel_logits_17=df_inconsistency.apply(lambda x: 0 if abs(x.undermine_score-x.support_score)<1.7  else x.snorkel_logits_17, axis=1)"
   ]
  },
  {
   "cell_type": "code",
   "execution_count": 155,
   "metadata": {},
   "outputs": [],
   "source": [
    "df_inconsistency[\"snorkel_logits_37\"]=df_inconsistency.predict_label\n",
    "df_inconsistency.snorkel_logits_37=df_inconsistency.apply(lambda x: -1 if x.snorkel_logits_37==0 else 1, axis=1)\n",
    "df_inconsistency.snorkel_logits_37=df_inconsistency.apply(lambda x: 0 if abs(x.undermine_score-x.support_score)<3.7  else x.snorkel_logits_37, axis=1)"
   ]
  },
  {
   "cell_type": "code",
   "execution_count": 156,
   "metadata": {},
   "outputs": [],
   "source": [
    "df_inconsistency[\"snorkel_logits_57\"]=df_inconsistency.predict_label\n",
    "df_inconsistency.snorkel_logits_57=df_inconsistency.apply(lambda x: -1 if x.snorkel_logits_57==0 else 1, axis=1)\n",
    "df_inconsistency.snorkel_logits_57=df_inconsistency.apply(lambda x: 0 if abs(x.undermine_score-x.support_score)<5.7  else x.snorkel_logits_57, axis=1)"
   ]
  },
  {
   "cell_type": "code",
   "execution_count": 157,
   "metadata": {},
   "outputs": [],
   "source": [
    "df_inconsistency[\"snorkel_logits_77\"]=df_inconsistency.predict_label\n",
    "df_inconsistency.snorkel_logits_77=df_inconsistency.apply(lambda x: -1 if x.snorkel_logits_77==0 else 1, axis=1)\n",
    "df_inconsistency.snorkel_logits_77=df_inconsistency.apply(lambda x: 0 if abs(x.undermine_score-x.support_score)<7.7  else x.snorkel_logits_77, axis=1)"
   ]
  },
  {
   "cell_type": "code",
   "execution_count": 158,
   "metadata": {},
   "outputs": [],
   "source": [
    "df_inconsistency[\"snorkel_logits_97\"]=df_inconsistency.predict_label\n",
    "df_inconsistency.snorkel_logits_97=df_inconsistency.apply(lambda x: -1 if x.snorkel_logits_97==0 else 1, axis=1)\n",
    "df_inconsistency.snorkel_logits_97=df_inconsistency.apply(lambda x: 0 if abs(x.undermine_score-x.support_score)<9.7  else x.snorkel_logits_97, axis=1)"
   ]
  },
  {
   "cell_type": "code",
   "execution_count": 159,
   "metadata": {},
   "outputs": [],
   "source": [
    "df_inconsistency[\"snorkel_distance_01\"]=df_inconsistency.distance_label\n",
    "df_inconsistency.snorkel_distance_01=df_inconsistency.apply(lambda x: -1 if x.snorkel_distance_01==0 else 1, axis=1)\n",
    "df_inconsistency.snorkel_distance_01=df_inconsistency.apply(lambda x: 0 if abs(x.cp_distance-x.cop_distance)<0.1  else x.snorkel_distance_01, axis=1)"
   ]
  },
  {
   "cell_type": "code",
   "execution_count": 160,
   "metadata": {},
   "outputs": [],
   "source": [
    "df_inconsistency[\"snorkel_distance_03\"]=df_inconsistency.distance_label\n",
    "df_inconsistency.snorkel_distance_03=df_inconsistency.apply(lambda x: -1 if x.snorkel_distance_03==0 else 1, axis=1)\n",
    "df_inconsistency.snorkel_distance_03=df_inconsistency.apply(lambda x: 0 if abs(x.cp_distance-x.cop_distance)<0.3  else x.snorkel_distance_03, axis=1)"
   ]
  },
  {
   "cell_type": "code",
   "execution_count": 161,
   "metadata": {},
   "outputs": [],
   "source": [
    "df_inconsistency[\"snorkel_distance_05\"]=df_inconsistency.distance_label\n",
    "df_inconsistency.snorkel_distance_05=df_inconsistency.apply(lambda x: -1 if x.snorkel_distance_05==0 else 1, axis=1)\n",
    "df_inconsistency.snorkel_distance_05=df_inconsistency.apply(lambda x: 0 if abs(x.cp_distance-x.cop_distance)<0.5  else x.snorkel_distance_05, axis=1)"
   ]
  },
  {
   "cell_type": "code",
   "execution_count": 162,
   "metadata": {},
   "outputs": [],
   "source": [
    "df_inconsistency[\"snorkel_distance_07\"]=df_inconsistency.distance_label\n",
    "df_inconsistency.snorkel_distance_07=df_inconsistency.apply(lambda x: -1 if x.snorkel_distance_07==0 else 1, axis=1)\n",
    "df_inconsistency.snorkel_distance_07=df_inconsistency.apply(lambda x: 0 if abs(x.cp_distance-x.cop_distance)<0.7  else x.snorkel_distance_07, axis=1)"
   ]
  },
  {
   "cell_type": "code",
   "execution_count": 163,
   "metadata": {},
   "outputs": [],
   "source": [
    "df_inconsistency[\"snorkel_distance_09\"]=df_inconsistency.distance_label\n",
    "df_inconsistency.snorkel_distance_09=df_inconsistency.apply(lambda x: -1 if x.snorkel_distance_09==0 else 1, axis=1)\n",
    "df_inconsistency.snorkel_distance_09=df_inconsistency.apply(lambda x: 0 if abs(x.cp_distance-x.cop_distance)<0.9  else x.snorkel_distance_09, axis=1)"
   ]
  },
  {
   "cell_type": "code",
   "execution_count": 164,
   "metadata": {},
   "outputs": [],
   "source": [
    "df_inconsistency[\"snorkel_label\"]=df_inconsistency.gold\n",
    "df_inconsistency.snorkel_label = df_inconsistency.apply(lambda x: -1 if x.snorkel_label==0 else 1, axis=1)"
   ]
  },
  {
   "cell_type": "code",
   "execution_count": 165,
   "metadata": {},
   "outputs": [
    {
     "data": {
      "text/html": [
       "<div>\n",
       "<style scoped>\n",
       "    .dataframe tbody tr th:only-of-type {\n",
       "        vertical-align: middle;\n",
       "    }\n",
       "\n",
       "    .dataframe tbody tr th {\n",
       "        vertical-align: top;\n",
       "    }\n",
       "\n",
       "    .dataframe thead th {\n",
       "        text-align: right;\n",
       "    }\n",
       "</style>\n",
       "<table border=\"1\" class=\"dataframe\">\n",
       "  <thead>\n",
       "    <tr style=\"text-align: right;\">\n",
       "      <th></th>\n",
       "      <th>undermine_score</th>\n",
       "      <th>support_score</th>\n",
       "      <th>cp_distance</th>\n",
       "      <th>cop_distance</th>\n",
       "      <th>predict_label</th>\n",
       "      <th>distance_label</th>\n",
       "      <th>gold</th>\n",
       "      <th>distance_to_logtis</th>\n",
       "      <th>distance_to_distance</th>\n",
       "      <th>snorkel_logits_17</th>\n",
       "      <th>snorkel_logits_37</th>\n",
       "      <th>snorkel_logits_57</th>\n",
       "      <th>snorkel_logits_77</th>\n",
       "      <th>snorkel_logits_97</th>\n",
       "      <th>snorkel_distance_01</th>\n",
       "      <th>snorkel_distance_03</th>\n",
       "      <th>snorkel_distance_05</th>\n",
       "      <th>snorkel_distance_07</th>\n",
       "      <th>snorkel_distance_09</th>\n",
       "      <th>snorkel_label</th>\n",
       "    </tr>\n",
       "  </thead>\n",
       "  <tbody>\n",
       "    <tr>\n",
       "      <th>0</th>\n",
       "      <td>-4.223587</td>\n",
       "      <td>3.430138</td>\n",
       "      <td>0.020014</td>\n",
       "      <td>0.012879</td>\n",
       "      <td>1</td>\n",
       "      <td>0</td>\n",
       "      <td>1</td>\n",
       "      <td>0.325812</td>\n",
       "      <td>0.003590</td>\n",
       "      <td>1.0</td>\n",
       "      <td>1.0</td>\n",
       "      <td>1.0</td>\n",
       "      <td>0.0</td>\n",
       "      <td>0.0</td>\n",
       "      <td>0.0</td>\n",
       "      <td>0.0</td>\n",
       "      <td>0.0</td>\n",
       "      <td>0.0</td>\n",
       "      <td>0.0</td>\n",
       "      <td>1</td>\n",
       "    </tr>\n",
       "    <tr>\n",
       "      <th>1</th>\n",
       "      <td>4.980137</td>\n",
       "      <td>-5.918371</td>\n",
       "      <td>1.923178</td>\n",
       "      <td>0.001339</td>\n",
       "      <td>0</td>\n",
       "      <td>0</td>\n",
       "      <td>0</td>\n",
       "      <td>0.464116</td>\n",
       "      <td>0.967933</td>\n",
       "      <td>-1.0</td>\n",
       "      <td>-1.0</td>\n",
       "      <td>-1.0</td>\n",
       "      <td>-1.0</td>\n",
       "      <td>-1.0</td>\n",
       "      <td>-1.0</td>\n",
       "      <td>-1.0</td>\n",
       "      <td>-1.0</td>\n",
       "      <td>-1.0</td>\n",
       "      <td>-1.0</td>\n",
       "      <td>-1</td>\n",
       "    </tr>\n",
       "    <tr>\n",
       "      <th>2</th>\n",
       "      <td>-4.051531</td>\n",
       "      <td>3.098645</td>\n",
       "      <td>0.004558</td>\n",
       "      <td>0.010478</td>\n",
       "      <td>1</td>\n",
       "      <td>1</td>\n",
       "      <td>1</td>\n",
       "      <td>0.304349</td>\n",
       "      <td>0.002977</td>\n",
       "      <td>1.0</td>\n",
       "      <td>1.0</td>\n",
       "      <td>1.0</td>\n",
       "      <td>0.0</td>\n",
       "      <td>0.0</td>\n",
       "      <td>0.0</td>\n",
       "      <td>0.0</td>\n",
       "      <td>0.0</td>\n",
       "      <td>0.0</td>\n",
       "      <td>0.0</td>\n",
       "      <td>1</td>\n",
       "    </tr>\n",
       "    <tr>\n",
       "      <th>3</th>\n",
       "      <td>-1.659985</td>\n",
       "      <td>2.563246</td>\n",
       "      <td>0.277413</td>\n",
       "      <td>0.157976</td>\n",
       "      <td>1</td>\n",
       "      <td>0</td>\n",
       "      <td>1</td>\n",
       "      <td>0.179592</td>\n",
       "      <td>0.060150</td>\n",
       "      <td>1.0</td>\n",
       "      <td>1.0</td>\n",
       "      <td>0.0</td>\n",
       "      <td>0.0</td>\n",
       "      <td>0.0</td>\n",
       "      <td>-1.0</td>\n",
       "      <td>0.0</td>\n",
       "      <td>0.0</td>\n",
       "      <td>0.0</td>\n",
       "      <td>0.0</td>\n",
       "      <td>1</td>\n",
       "    </tr>\n",
       "    <tr>\n",
       "      <th>4</th>\n",
       "      <td>-1.103358</td>\n",
       "      <td>5.317815</td>\n",
       "      <td>0.293655</td>\n",
       "      <td>1.842567</td>\n",
       "      <td>1</td>\n",
       "      <td>1</td>\n",
       "      <td>1</td>\n",
       "      <td>0.273276</td>\n",
       "      <td>0.780107</td>\n",
       "      <td>1.0</td>\n",
       "      <td>1.0</td>\n",
       "      <td>1.0</td>\n",
       "      <td>0.0</td>\n",
       "      <td>0.0</td>\n",
       "      <td>1.0</td>\n",
       "      <td>1.0</td>\n",
       "      <td>1.0</td>\n",
       "      <td>1.0</td>\n",
       "      <td>1.0</td>\n",
       "      <td>1</td>\n",
       "    </tr>\n",
       "    <tr>\n",
       "      <th>...</th>\n",
       "      <td>...</td>\n",
       "      <td>...</td>\n",
       "      <td>...</td>\n",
       "      <td>...</td>\n",
       "      <td>...</td>\n",
       "      <td>...</td>\n",
       "      <td>...</td>\n",
       "      <td>...</td>\n",
       "      <td>...</td>\n",
       "      <td>...</td>\n",
       "      <td>...</td>\n",
       "      <td>...</td>\n",
       "      <td>...</td>\n",
       "      <td>...</td>\n",
       "      <td>...</td>\n",
       "      <td>...</td>\n",
       "      <td>...</td>\n",
       "      <td>...</td>\n",
       "      <td>...</td>\n",
       "      <td>...</td>\n",
       "    </tr>\n",
       "    <tr>\n",
       "      <th>1876</th>\n",
       "      <td>-3.020821</td>\n",
       "      <td>5.834997</td>\n",
       "      <td>0.000552</td>\n",
       "      <td>1.943276</td>\n",
       "      <td>1</td>\n",
       "      <td>1</td>\n",
       "      <td>1</td>\n",
       "      <td>0.377049</td>\n",
       "      <td>0.978452</td>\n",
       "      <td>1.0</td>\n",
       "      <td>1.0</td>\n",
       "      <td>1.0</td>\n",
       "      <td>1.0</td>\n",
       "      <td>0.0</td>\n",
       "      <td>1.0</td>\n",
       "      <td>1.0</td>\n",
       "      <td>1.0</td>\n",
       "      <td>1.0</td>\n",
       "      <td>1.0</td>\n",
       "      <td>1</td>\n",
       "    </tr>\n",
       "    <tr>\n",
       "      <th>1877</th>\n",
       "      <td>-3.082693</td>\n",
       "      <td>5.802138</td>\n",
       "      <td>0.000832</td>\n",
       "      <td>1.913086</td>\n",
       "      <td>1</td>\n",
       "      <td>1</td>\n",
       "      <td>1</td>\n",
       "      <td>0.378286</td>\n",
       "      <td>0.963105</td>\n",
       "      <td>1.0</td>\n",
       "      <td>1.0</td>\n",
       "      <td>1.0</td>\n",
       "      <td>1.0</td>\n",
       "      <td>0.0</td>\n",
       "      <td>1.0</td>\n",
       "      <td>1.0</td>\n",
       "      <td>1.0</td>\n",
       "      <td>1.0</td>\n",
       "      <td>1.0</td>\n",
       "      <td>1</td>\n",
       "    </tr>\n",
       "    <tr>\n",
       "      <th>1878</th>\n",
       "      <td>-3.014879</td>\n",
       "      <td>6.071866</td>\n",
       "      <td>0.001957</td>\n",
       "      <td>1.981859</td>\n",
       "      <td>1</td>\n",
       "      <td>1</td>\n",
       "      <td>1</td>\n",
       "      <td>0.386892</td>\n",
       "      <td>0.997176</td>\n",
       "      <td>1.0</td>\n",
       "      <td>1.0</td>\n",
       "      <td>1.0</td>\n",
       "      <td>1.0</td>\n",
       "      <td>0.0</td>\n",
       "      <td>1.0</td>\n",
       "      <td>1.0</td>\n",
       "      <td>1.0</td>\n",
       "      <td>1.0</td>\n",
       "      <td>1.0</td>\n",
       "      <td>1</td>\n",
       "    </tr>\n",
       "    <tr>\n",
       "      <th>1879</th>\n",
       "      <td>-3.992391</td>\n",
       "      <td>2.597567</td>\n",
       "      <td>0.005293</td>\n",
       "      <td>0.004218</td>\n",
       "      <td>1</td>\n",
       "      <td>0</td>\n",
       "      <td>1</td>\n",
       "      <td>0.280470</td>\n",
       "      <td>0.000537</td>\n",
       "      <td>1.0</td>\n",
       "      <td>1.0</td>\n",
       "      <td>1.0</td>\n",
       "      <td>0.0</td>\n",
       "      <td>0.0</td>\n",
       "      <td>0.0</td>\n",
       "      <td>0.0</td>\n",
       "      <td>0.0</td>\n",
       "      <td>0.0</td>\n",
       "      <td>0.0</td>\n",
       "      <td>1</td>\n",
       "    </tr>\n",
       "    <tr>\n",
       "      <th>1880</th>\n",
       "      <td>-2.863911</td>\n",
       "      <td>5.885867</td>\n",
       "      <td>0.001213</td>\n",
       "      <td>1.977819</td>\n",
       "      <td>1</td>\n",
       "      <td>1</td>\n",
       "      <td>1</td>\n",
       "      <td>0.372529</td>\n",
       "      <td>0.995517</td>\n",
       "      <td>1.0</td>\n",
       "      <td>1.0</td>\n",
       "      <td>1.0</td>\n",
       "      <td>1.0</td>\n",
       "      <td>0.0</td>\n",
       "      <td>1.0</td>\n",
       "      <td>1.0</td>\n",
       "      <td>1.0</td>\n",
       "      <td>1.0</td>\n",
       "      <td>1.0</td>\n",
       "      <td>1</td>\n",
       "    </tr>\n",
       "  </tbody>\n",
       "</table>\n",
       "<p>4408 rows × 20 columns</p>\n",
       "</div>"
      ],
      "text/plain": [
       "      undermine_score  support_score  cp_distance  cop_distance  \\\n",
       "0           -4.223587       3.430138     0.020014      0.012879   \n",
       "1            4.980137      -5.918371     1.923178      0.001339   \n",
       "2           -4.051531       3.098645     0.004558      0.010478   \n",
       "3           -1.659985       2.563246     0.277413      0.157976   \n",
       "4           -1.103358       5.317815     0.293655      1.842567   \n",
       "...               ...            ...          ...           ...   \n",
       "1876        -3.020821       5.834997     0.000552      1.943276   \n",
       "1877        -3.082693       5.802138     0.000832      1.913086   \n",
       "1878        -3.014879       6.071866     0.001957      1.981859   \n",
       "1879        -3.992391       2.597567     0.005293      0.004218   \n",
       "1880        -2.863911       5.885867     0.001213      1.977819   \n",
       "\n",
       "      predict_label  distance_label  gold  distance_to_logtis  \\\n",
       "0                 1               0     1            0.325812   \n",
       "1                 0               0     0            0.464116   \n",
       "2                 1               1     1            0.304349   \n",
       "3                 1               0     1            0.179592   \n",
       "4                 1               1     1            0.273276   \n",
       "...             ...             ...   ...                 ...   \n",
       "1876              1               1     1            0.377049   \n",
       "1877              1               1     1            0.378286   \n",
       "1878              1               1     1            0.386892   \n",
       "1879              1               0     1            0.280470   \n",
       "1880              1               1     1            0.372529   \n",
       "\n",
       "      distance_to_distance  snorkel_logits_17  snorkel_logits_37  \\\n",
       "0                 0.003590                1.0                1.0   \n",
       "1                 0.967933               -1.0               -1.0   \n",
       "2                 0.002977                1.0                1.0   \n",
       "3                 0.060150                1.0                1.0   \n",
       "4                 0.780107                1.0                1.0   \n",
       "...                    ...                ...                ...   \n",
       "1876              0.978452                1.0                1.0   \n",
       "1877              0.963105                1.0                1.0   \n",
       "1878              0.997176                1.0                1.0   \n",
       "1879              0.000537                1.0                1.0   \n",
       "1880              0.995517                1.0                1.0   \n",
       "\n",
       "      snorkel_logits_57  snorkel_logits_77  snorkel_logits_97  \\\n",
       "0                   1.0                0.0                0.0   \n",
       "1                  -1.0               -1.0               -1.0   \n",
       "2                   1.0                0.0                0.0   \n",
       "3                   0.0                0.0                0.0   \n",
       "4                   1.0                0.0                0.0   \n",
       "...                 ...                ...                ...   \n",
       "1876                1.0                1.0                0.0   \n",
       "1877                1.0                1.0                0.0   \n",
       "1878                1.0                1.0                0.0   \n",
       "1879                1.0                0.0                0.0   \n",
       "1880                1.0                1.0                0.0   \n",
       "\n",
       "      snorkel_distance_01  snorkel_distance_03  snorkel_distance_05  \\\n",
       "0                     0.0                  0.0                  0.0   \n",
       "1                    -1.0                 -1.0                 -1.0   \n",
       "2                     0.0                  0.0                  0.0   \n",
       "3                    -1.0                  0.0                  0.0   \n",
       "4                     1.0                  1.0                  1.0   \n",
       "...                   ...                  ...                  ...   \n",
       "1876                  1.0                  1.0                  1.0   \n",
       "1877                  1.0                  1.0                  1.0   \n",
       "1878                  1.0                  1.0                  1.0   \n",
       "1879                  0.0                  0.0                  0.0   \n",
       "1880                  1.0                  1.0                  1.0   \n",
       "\n",
       "      snorkel_distance_07  snorkel_distance_09  snorkel_label  \n",
       "0                     0.0                  0.0              1  \n",
       "1                    -1.0                 -1.0             -1  \n",
       "2                     0.0                  0.0              1  \n",
       "3                     0.0                  0.0              1  \n",
       "4                     1.0                  1.0              1  \n",
       "...                   ...                  ...            ...  \n",
       "1876                  1.0                  1.0              1  \n",
       "1877                  1.0                  1.0              1  \n",
       "1878                  1.0                  1.0              1  \n",
       "1879                  0.0                  0.0              1  \n",
       "1880                  1.0                  1.0              1  \n",
       "\n",
       "[4408 rows x 20 columns]"
      ]
     },
     "execution_count": 165,
     "metadata": {},
     "output_type": "execute_result"
    }
   ],
   "source": [
    "df_inconsistency"
   ]
  },
  {
   "cell_type": "code",
   "execution_count": 166,
   "metadata": {},
   "outputs": [],
   "source": [
    "df_inconsistency.to_csv(\"L_train_entiredevtest.csv\", index=False)"
   ]
  },
  {
   "cell_type": "code",
   "execution_count": null,
   "metadata": {},
   "outputs": [],
   "source": []
  },
  {
   "cell_type": "code",
   "execution_count": null,
   "metadata": {},
   "outputs": [],
   "source": []
  },
  {
   "cell_type": "code",
   "execution_count": 32,
   "metadata": {},
   "outputs": [
    {
     "data": {
      "text/plain": [
       "array([[ 0.,  0., -1.,  1.,  1.],\n",
       "       [ 0.,  0., -1.,  1.,  1.],\n",
       "       [ 0.,  0., -1., -1.,  0.],\n",
       "       ...,\n",
       "       [ 0.,  0., -1.,  0., -1.],\n",
       "       [ 0.,  0.,  0., -1., -1.],\n",
       "       [ 0.,  0.,  1.,  0.,  0.]])"
      ]
     },
     "execution_count": 32,
     "metadata": {},
     "output_type": "execute_result"
    }
   ],
   "source": [
    "L_dev"
   ]
  },
  {
   "cell_type": "code",
   "execution_count": 33,
   "metadata": {},
   "outputs": [
    {
     "data": {
      "text/plain": [
       "array([ 1., -1., -1., -1., -1.,  1., -1., -1., -1.,  1.,  1., -1.,  1.,\n",
       "       -1.,  1., -1., -1., -1.,  1., -1.,  1.,  1., -1.,  1., -1.,  1.,\n",
       "        1., -1., -1., -1., -1., -1.,  1.,  1., -1.,  1., -1., -1.,  1.,\n",
       "        1.,  1., -1.,  1.,  1., -1., -1., -1.,  1., -1., -1., -1., -1.,\n",
       "        1., -1.,  1.,  1., -1., -1., -1.,  1., -1.,  1.,  1.,  1., -1.,\n",
       "       -1., -1., -1., -1.,  1., -1., -1., -1.,  1., -1., -1., -1.,  1.,\n",
       "       -1., -1.,  1., -1., -1., -1.,  1., -1.,  1., -1.,  1.,  1., -1.,\n",
       "        1., -1., -1.,  1., -1., -1., -1., -1.,  1.,  1., -1., -1., -1.,\n",
       "        1., -1.,  1., -1., -1., -1., -1.,  1., -1., -1., -1., -1., -1.,\n",
       "       -1., -1., -1., -1.,  1.,  1.,  1., -1.,  1.,  1.,  1., -1.,  1.,\n",
       "        1., -1., -1.,  1.,  1., -1.,  1.,  1.,  1., -1.,  1.,  1.,  1.,\n",
       "        1., -1.,  1., -1., -1., -1., -1.,  1., -1., -1.,  1.,  1., -1.,\n",
       "       -1., -1., -1.,  1.,  1.,  1.,  1., -1., -1., -1.,  1., -1., -1.,\n",
       "       -1.,  1., -1.,  1.,  1., -1., -1., -1.,  1., -1.,  1., -1., -1.,\n",
       "        1., -1.,  1., -1.,  1.,  1.,  1.,  1., -1., -1., -1., -1.,  1.,\n",
       "       -1.,  1.,  1., -1.,  1.,  1.,  1., -1., -1., -1., -1., -1.,  1.,\n",
       "        1., -1.,  1.,  1.,  1.,  1., -1.,  1., -1., -1., -1., -1., -1.,\n",
       "       -1., -1.,  1., -1., -1., -1.,  1.,  1., -1., -1.,  1.,  1.,  1.,\n",
       "        1.,  1., -1.,  1.,  1.,  1., -1., -1.,  1.,  1.,  1., -1., -1.,\n",
       "       -1.,  1., -1.,  1.,  1.,  1., -1., -1., -1., -1.,  1., -1.,  1.,\n",
       "        1., -1.,  1., -1.,  1., -1.,  1., -1.,  1., -1.,  1.,  1.,  1.,\n",
       "        1., -1., -1., -1.,  1., -1., -1.,  1.,  1., -1., -1., -1., -1.,\n",
       "        1., -1., -1., -1., -1., -1.,  1.,  1., -1.,  1., -1., -1., -1.,\n",
       "       -1.,  1., -1.,  1., -1.,  1., -1., -1., -1., -1.,  1.,  1.,  1.,\n",
       "        1., -1.,  1.,  1.,  1.,  1., -1., -1., -1., -1.,  1.,  1.,  1.,\n",
       "        1.,  1.,  1., -1.,  1., -1.,  1.,  1.,  1.,  1.,  1., -1., -1.,\n",
       "        1., -1., -1., -1.,  1., -1., -1., -1., -1., -1.,  1.,  1.,  1.,\n",
       "        1., -1., -1.,  1., -1.,  1., -1., -1., -1.,  1., -1.,  1.,  1.,\n",
       "        1., -1., -1.,  1., -1., -1.,  1.,  1., -1., -1., -1.,  1.,  1.,\n",
       "        1.,  1., -1., -1.,  1.,  1., -1., -1., -1., -1.,  1., -1.,  1.,\n",
       "       -1., -1., -1., -1., -1., -1., -1., -1., -1.,  1.,  1.,  1.,  1.,\n",
       "       -1.,  1.,  1., -1.,  1.,  1., -1., -1.,  1., -1.,  1., -1., -1.,\n",
       "        1.,  1.,  1.,  1.,  1.,  1., -1.,  1., -1., -1., -1., -1., -1.,\n",
       "        1.,  1.,  1., -1.,  1., -1.,  1.,  1., -1., -1., -1.,  1., -1.,\n",
       "       -1.,  1.,  1.,  1., -1.,  1.,  1., -1.,  1.,  1., -1., -1.,  1.,\n",
       "       -1., -1.,  1., -1., -1., -1.,  1.,  1., -1.,  1.,  1.,  1., -1.,\n",
       "       -1., -1.,  1., -1., -1.,  1.,  1., -1.,  1., -1., -1., -1., -1.,\n",
       "        1.,  1.,  1.,  1.,  1., -1., -1.,  1.,  1., -1.,  1.,  1.,  1.,\n",
       "        1., -1.,  1., -1.,  1.,  1.])"
      ]
     },
     "execution_count": 33,
     "metadata": {},
     "output_type": "execute_result"
    }
   ],
   "source": [
    "Y_dev"
   ]
  },
  {
   "cell_type": "code",
   "execution_count": null,
   "metadata": {},
   "outputs": [],
   "source": []
  }
 ],
 "metadata": {
  "kernelspec": {
   "display_name": "TensorFlow-GPU",
   "language": "python",
   "name": "tf-gpu"
  },
  "language_info": {
   "codemirror_mode": {
    "name": "ipython",
    "version": 3
   },
   "file_extension": ".py",
   "mimetype": "text/x-python",
   "name": "python",
   "nbconvert_exporter": "python",
   "pygments_lexer": "ipython3",
   "version": "3.7.6"
  }
 },
 "nbformat": 4,
 "nbformat_minor": 2
}
