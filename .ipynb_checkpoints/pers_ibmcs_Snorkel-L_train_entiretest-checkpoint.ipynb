{
 "cells": [
  {
   "cell_type": "code",
   "execution_count": 1604,
   "metadata": {},
   "outputs": [],
   "source": [
    "import pandas as pd"
   ]
  },
  {
   "cell_type": "markdown",
   "metadata": {},
   "source": [
    "## Triplet Bert Related Eval Results"
   ]
  },
  {
   "cell_type": "code",
   "execution_count": 1605,
   "metadata": {},
   "outputs": [],
   "source": [
    "from sklearn.metrics import accuracy_score,f1_score,recall_score,precision_score"
   ]
  },
  {
   "cell_type": "code",
   "execution_count": 1606,
   "metadata": {},
   "outputs": [],
   "source": [
    "# Triplet cos siamese bert"
   ]
  },
  {
   "cell_type": "code",
   "execution_count": 1607,
   "metadata": {},
   "outputs": [],
   "source": [
    "# df = pd.read_csv(\"../stance_code/Evaluation/paper_output/train_on_ibmcs_eval_on_ibmcs_distance_concat_margin1_costriplet_cos_siamese_bs24_lr2e_5_epoch15_raw_score.csv\")\n",
    "df = pd.read_csv(\"../stance_code/Evaluation/paper_output/train_on_per_eval_on_ibmcs_distance_concat_margin1_costriplet_cos_siamese_bs24_lr2e_5_epoch15_raw_score.csv\")\n",
    "# df = pd.read_csv(\"../stance_code/Evaluation/bert_dummy_output/dev_distance_concat_margin1_costriplet_cos_siamese_bs24_lr2e_5_epoch15_raw_score.csv\")"
   ]
  },
  {
   "cell_type": "code",
   "execution_count": 1608,
   "metadata": {},
   "outputs": [],
   "source": [
    "# df = pd.concat([df,df2])"
   ]
  },
  {
   "cell_type": "code",
   "execution_count": 1609,
   "metadata": {},
   "outputs": [
    {
     "data": {
      "text/html": [
       "<div>\n",
       "<style scoped>\n",
       "    .dataframe tbody tr th:only-of-type {\n",
       "        vertical-align: middle;\n",
       "    }\n",
       "\n",
       "    .dataframe tbody tr th {\n",
       "        vertical-align: top;\n",
       "    }\n",
       "\n",
       "    .dataframe thead th {\n",
       "        text-align: right;\n",
       "    }\n",
       "</style>\n",
       "<table border=\"1\" class=\"dataframe\">\n",
       "  <thead>\n",
       "    <tr style=\"text-align: right;\">\n",
       "      <th></th>\n",
       "      <th>undermine_score</th>\n",
       "      <th>support_score</th>\n",
       "      <th>cp_distance</th>\n",
       "      <th>cop_distance</th>\n",
       "      <th>predict_label</th>\n",
       "      <th>distance_label</th>\n",
       "      <th>gold</th>\n",
       "    </tr>\n",
       "  </thead>\n",
       "  <tbody>\n",
       "    <tr>\n",
       "      <th>0</th>\n",
       "      <td>-2.286710</td>\n",
       "      <td>4.179139</td>\n",
       "      <td>0.337187</td>\n",
       "      <td>0.012638</td>\n",
       "      <td>1</td>\n",
       "      <td>0</td>\n",
       "      <td>1</td>\n",
       "    </tr>\n",
       "    <tr>\n",
       "      <th>1</th>\n",
       "      <td>1.753973</td>\n",
       "      <td>-1.208653</td>\n",
       "      <td>0.316870</td>\n",
       "      <td>0.009572</td>\n",
       "      <td>0</td>\n",
       "      <td>0</td>\n",
       "      <td>0</td>\n",
       "    </tr>\n",
       "    <tr>\n",
       "      <th>2</th>\n",
       "      <td>-2.058090</td>\n",
       "      <td>3.866679</td>\n",
       "      <td>0.321512</td>\n",
       "      <td>0.009185</td>\n",
       "      <td>1</td>\n",
       "      <td>0</td>\n",
       "      <td>0</td>\n",
       "    </tr>\n",
       "    <tr>\n",
       "      <th>3</th>\n",
       "      <td>-4.448653</td>\n",
       "      <td>5.763899</td>\n",
       "      <td>0.011224</td>\n",
       "      <td>0.063257</td>\n",
       "      <td>1</td>\n",
       "      <td>1</td>\n",
       "      <td>1</td>\n",
       "    </tr>\n",
       "    <tr>\n",
       "      <th>4</th>\n",
       "      <td>-6.965822</td>\n",
       "      <td>7.407260</td>\n",
       "      <td>0.027215</td>\n",
       "      <td>1.449525</td>\n",
       "      <td>1</td>\n",
       "      <td>1</td>\n",
       "      <td>1</td>\n",
       "    </tr>\n",
       "    <tr>\n",
       "      <th>...</th>\n",
       "      <td>...</td>\n",
       "      <td>...</td>\n",
       "      <td>...</td>\n",
       "      <td>...</td>\n",
       "      <td>...</td>\n",
       "      <td>...</td>\n",
       "      <td>...</td>\n",
       "    </tr>\n",
       "    <tr>\n",
       "      <th>1187</th>\n",
       "      <td>1.370541</td>\n",
       "      <td>-0.049608</td>\n",
       "      <td>1.202502</td>\n",
       "      <td>1.270629</td>\n",
       "      <td>0</td>\n",
       "      <td>1</td>\n",
       "      <td>0</td>\n",
       "    </tr>\n",
       "    <tr>\n",
       "      <th>1188</th>\n",
       "      <td>3.730146</td>\n",
       "      <td>-3.667698</td>\n",
       "      <td>1.584377</td>\n",
       "      <td>1.510709</td>\n",
       "      <td>0</td>\n",
       "      <td>0</td>\n",
       "      <td>1</td>\n",
       "    </tr>\n",
       "    <tr>\n",
       "      <th>1189</th>\n",
       "      <td>-2.551159</td>\n",
       "      <td>2.597535</td>\n",
       "      <td>0.215551</td>\n",
       "      <td>0.353700</td>\n",
       "      <td>1</td>\n",
       "      <td>1</td>\n",
       "      <td>0</td>\n",
       "    </tr>\n",
       "    <tr>\n",
       "      <th>1190</th>\n",
       "      <td>2.449668</td>\n",
       "      <td>-1.096902</td>\n",
       "      <td>1.351404</td>\n",
       "      <td>1.474139</td>\n",
       "      <td>0</td>\n",
       "      <td>1</td>\n",
       "      <td>0</td>\n",
       "    </tr>\n",
       "    <tr>\n",
       "      <th>1191</th>\n",
       "      <td>-2.773020</td>\n",
       "      <td>2.397338</td>\n",
       "      <td>0.237195</td>\n",
       "      <td>1.429739</td>\n",
       "      <td>1</td>\n",
       "      <td>1</td>\n",
       "      <td>0</td>\n",
       "    </tr>\n",
       "  </tbody>\n",
       "</table>\n",
       "<p>1192 rows × 7 columns</p>\n",
       "</div>"
      ],
      "text/plain": [
       "      undermine_score  support_score  cp_distance  cop_distance  \\\n",
       "0           -2.286710       4.179139     0.337187      0.012638   \n",
       "1            1.753973      -1.208653     0.316870      0.009572   \n",
       "2           -2.058090       3.866679     0.321512      0.009185   \n",
       "3           -4.448653       5.763899     0.011224      0.063257   \n",
       "4           -6.965822       7.407260     0.027215      1.449525   \n",
       "...               ...            ...          ...           ...   \n",
       "1187         1.370541      -0.049608     1.202502      1.270629   \n",
       "1188         3.730146      -3.667698     1.584377      1.510709   \n",
       "1189        -2.551159       2.597535     0.215551      0.353700   \n",
       "1190         2.449668      -1.096902     1.351404      1.474139   \n",
       "1191        -2.773020       2.397338     0.237195      1.429739   \n",
       "\n",
       "      predict_label  distance_label  gold  \n",
       "0                 1               0     1  \n",
       "1                 0               0     0  \n",
       "2                 1               0     0  \n",
       "3                 1               1     1  \n",
       "4                 1               1     1  \n",
       "...             ...             ...   ...  \n",
       "1187              0               1     0  \n",
       "1188              0               0     1  \n",
       "1189              1               1     0  \n",
       "1190              0               1     0  \n",
       "1191              1               1     0  \n",
       "\n",
       "[1192 rows x 7 columns]"
      ]
     },
     "execution_count": 1609,
     "metadata": {},
     "output_type": "execute_result"
    }
   ],
   "source": [
    "df"
   ]
  },
  {
   "cell_type": "code",
   "execution_count": 1610,
   "metadata": {},
   "outputs": [],
   "source": [
    "#logits evaluation results"
   ]
  },
  {
   "cell_type": "code",
   "execution_count": 1611,
   "metadata": {},
   "outputs": [
    {
     "data": {
      "text/plain": [
       "0.678838174273859"
      ]
     },
     "execution_count": 1611,
     "metadata": {},
     "output_type": "execute_result"
    }
   ],
   "source": [
    "f1_score(df.gold,df.predict_label)"
   ]
  },
  {
   "cell_type": "code",
   "execution_count": 1612,
   "metadata": {},
   "outputs": [
    {
     "data": {
      "text/plain": [
       "0.7015437392795884"
      ]
     },
     "execution_count": 1612,
     "metadata": {},
     "output_type": "execute_result"
    }
   ],
   "source": [
    "precision_score(df.gold,df.predict_label)"
   ]
  },
  {
   "cell_type": "code",
   "execution_count": 1613,
   "metadata": {},
   "outputs": [
    {
     "data": {
      "text/plain": [
       "0.657556270096463"
      ]
     },
     "execution_count": 1613,
     "metadata": {},
     "output_type": "execute_result"
    }
   ],
   "source": [
    "recall_score(df.gold,df.predict_label)"
   ]
  },
  {
   "cell_type": "code",
   "execution_count": null,
   "metadata": {},
   "outputs": [],
   "source": []
  },
  {
   "cell_type": "code",
   "execution_count": 1614,
   "metadata": {},
   "outputs": [],
   "source": [
    "#distance evaluation results"
   ]
  },
  {
   "cell_type": "code",
   "execution_count": 1615,
   "metadata": {},
   "outputs": [
    {
     "data": {
      "text/plain": [
       "0.6436597110754414"
      ]
     },
     "execution_count": 1615,
     "metadata": {},
     "output_type": "execute_result"
    }
   ],
   "source": [
    "f1_score(df.gold,df.distance_label)"
   ]
  },
  {
   "cell_type": "code",
   "execution_count": 1616,
   "metadata": {},
   "outputs": [
    {
     "data": {
      "text/plain": [
       "0.6426282051282052"
      ]
     },
     "execution_count": 1616,
     "metadata": {},
     "output_type": "execute_result"
    }
   ],
   "source": [
    "precision_score(df.gold,df.distance_label)"
   ]
  },
  {
   "cell_type": "code",
   "execution_count": 1617,
   "metadata": {},
   "outputs": [
    {
     "data": {
      "text/plain": [
       "0.6446945337620579"
      ]
     },
     "execution_count": 1617,
     "metadata": {},
     "output_type": "execute_result"
    }
   ],
   "source": [
    "recall_score(df.gold,df.distance_label)"
   ]
  },
  {
   "cell_type": "code",
   "execution_count": null,
   "metadata": {},
   "outputs": [],
   "source": []
  },
  {
   "cell_type": "code",
   "execution_count": 1618,
   "metadata": {},
   "outputs": [],
   "source": [
    "#consistent cases (logtis prediction == distance prediction)"
   ]
  },
  {
   "cell_type": "code",
   "execution_count": 1619,
   "metadata": {},
   "outputs": [],
   "source": [
    "df_consistency = df[df.predict_label==df.distance_label]"
   ]
  },
  {
   "cell_type": "code",
   "execution_count": 1620,
   "metadata": {},
   "outputs": [
    {
     "data": {
      "text/html": [
       "<div>\n",
       "<style scoped>\n",
       "    .dataframe tbody tr th:only-of-type {\n",
       "        vertical-align: middle;\n",
       "    }\n",
       "\n",
       "    .dataframe tbody tr th {\n",
       "        vertical-align: top;\n",
       "    }\n",
       "\n",
       "    .dataframe thead th {\n",
       "        text-align: right;\n",
       "    }\n",
       "</style>\n",
       "<table border=\"1\" class=\"dataframe\">\n",
       "  <thead>\n",
       "    <tr style=\"text-align: right;\">\n",
       "      <th></th>\n",
       "      <th>undermine_score</th>\n",
       "      <th>support_score</th>\n",
       "      <th>cp_distance</th>\n",
       "      <th>cop_distance</th>\n",
       "      <th>predict_label</th>\n",
       "      <th>distance_label</th>\n",
       "      <th>gold</th>\n",
       "    </tr>\n",
       "  </thead>\n",
       "  <tbody>\n",
       "    <tr>\n",
       "      <th>1</th>\n",
       "      <td>1.753973</td>\n",
       "      <td>-1.208653</td>\n",
       "      <td>0.316870</td>\n",
       "      <td>0.009572</td>\n",
       "      <td>0</td>\n",
       "      <td>0</td>\n",
       "      <td>0</td>\n",
       "    </tr>\n",
       "    <tr>\n",
       "      <th>3</th>\n",
       "      <td>-4.448653</td>\n",
       "      <td>5.763899</td>\n",
       "      <td>0.011224</td>\n",
       "      <td>0.063257</td>\n",
       "      <td>1</td>\n",
       "      <td>1</td>\n",
       "      <td>1</td>\n",
       "    </tr>\n",
       "    <tr>\n",
       "      <th>4</th>\n",
       "      <td>-6.965822</td>\n",
       "      <td>7.407260</td>\n",
       "      <td>0.027215</td>\n",
       "      <td>1.449525</td>\n",
       "      <td>1</td>\n",
       "      <td>1</td>\n",
       "      <td>1</td>\n",
       "    </tr>\n",
       "    <tr>\n",
       "      <th>5</th>\n",
       "      <td>-4.014788</td>\n",
       "      <td>4.372499</td>\n",
       "      <td>0.065640</td>\n",
       "      <td>0.297210</td>\n",
       "      <td>1</td>\n",
       "      <td>1</td>\n",
       "      <td>0</td>\n",
       "    </tr>\n",
       "    <tr>\n",
       "      <th>6</th>\n",
       "      <td>-4.471383</td>\n",
       "      <td>5.813182</td>\n",
       "      <td>0.049034</td>\n",
       "      <td>0.128769</td>\n",
       "      <td>1</td>\n",
       "      <td>1</td>\n",
       "      <td>1</td>\n",
       "    </tr>\n",
       "    <tr>\n",
       "      <th>...</th>\n",
       "      <td>...</td>\n",
       "      <td>...</td>\n",
       "      <td>...</td>\n",
       "      <td>...</td>\n",
       "      <td>...</td>\n",
       "      <td>...</td>\n",
       "      <td>...</td>\n",
       "    </tr>\n",
       "    <tr>\n",
       "      <th>1183</th>\n",
       "      <td>5.780373</td>\n",
       "      <td>-5.520971</td>\n",
       "      <td>1.726345</td>\n",
       "      <td>0.840028</td>\n",
       "      <td>0</td>\n",
       "      <td>0</td>\n",
       "      <td>0</td>\n",
       "    </tr>\n",
       "    <tr>\n",
       "      <th>1184</th>\n",
       "      <td>-4.564680</td>\n",
       "      <td>4.019595</td>\n",
       "      <td>0.126133</td>\n",
       "      <td>1.572594</td>\n",
       "      <td>1</td>\n",
       "      <td>1</td>\n",
       "      <td>1</td>\n",
       "    </tr>\n",
       "    <tr>\n",
       "      <th>1188</th>\n",
       "      <td>3.730146</td>\n",
       "      <td>-3.667698</td>\n",
       "      <td>1.584377</td>\n",
       "      <td>1.510709</td>\n",
       "      <td>0</td>\n",
       "      <td>0</td>\n",
       "      <td>1</td>\n",
       "    </tr>\n",
       "    <tr>\n",
       "      <th>1189</th>\n",
       "      <td>-2.551159</td>\n",
       "      <td>2.597535</td>\n",
       "      <td>0.215551</td>\n",
       "      <td>0.353700</td>\n",
       "      <td>1</td>\n",
       "      <td>1</td>\n",
       "      <td>0</td>\n",
       "    </tr>\n",
       "    <tr>\n",
       "      <th>1191</th>\n",
       "      <td>-2.773020</td>\n",
       "      <td>2.397338</td>\n",
       "      <td>0.237195</td>\n",
       "      <td>1.429739</td>\n",
       "      <td>1</td>\n",
       "      <td>1</td>\n",
       "      <td>0</td>\n",
       "    </tr>\n",
       "  </tbody>\n",
       "</table>\n",
       "<p>1011 rows × 7 columns</p>\n",
       "</div>"
      ],
      "text/plain": [
       "      undermine_score  support_score  cp_distance  cop_distance  \\\n",
       "1            1.753973      -1.208653     0.316870      0.009572   \n",
       "3           -4.448653       5.763899     0.011224      0.063257   \n",
       "4           -6.965822       7.407260     0.027215      1.449525   \n",
       "5           -4.014788       4.372499     0.065640      0.297210   \n",
       "6           -4.471383       5.813182     0.049034      0.128769   \n",
       "...               ...            ...          ...           ...   \n",
       "1183         5.780373      -5.520971     1.726345      0.840028   \n",
       "1184        -4.564680       4.019595     0.126133      1.572594   \n",
       "1188         3.730146      -3.667698     1.584377      1.510709   \n",
       "1189        -2.551159       2.597535     0.215551      0.353700   \n",
       "1191        -2.773020       2.397338     0.237195      1.429739   \n",
       "\n",
       "      predict_label  distance_label  gold  \n",
       "1                 0               0     0  \n",
       "3                 1               1     1  \n",
       "4                 1               1     1  \n",
       "5                 1               1     0  \n",
       "6                 1               1     1  \n",
       "...             ...             ...   ...  \n",
       "1183              0               0     0  \n",
       "1184              1               1     1  \n",
       "1188              0               0     1  \n",
       "1189              1               1     0  \n",
       "1191              1               1     0  \n",
       "\n",
       "[1011 rows x 7 columns]"
      ]
     },
     "execution_count": 1620,
     "metadata": {},
     "output_type": "execute_result"
    }
   ],
   "source": [
    "df_consistency"
   ]
  },
  {
   "cell_type": "code",
   "execution_count": 1621,
   "metadata": {},
   "outputs": [
    {
     "data": {
      "text/plain": [
       "0.691358024691358"
      ]
     },
     "execution_count": 1621,
     "metadata": {},
     "output_type": "execute_result"
    }
   ],
   "source": [
    "f1_score(df_consistency.gold,df_consistency.distance_label)"
   ]
  },
  {
   "cell_type": "code",
   "execution_count": 1622,
   "metadata": {},
   "outputs": [
    {
     "data": {
      "text/plain": [
       "0.7095516569200779"
      ]
     },
     "execution_count": 1622,
     "metadata": {},
     "output_type": "execute_result"
    }
   ],
   "source": [
    "precision_score(df_consistency.gold,df_consistency.distance_label)"
   ]
  },
  {
   "cell_type": "code",
   "execution_count": 1623,
   "metadata": {},
   "outputs": [
    {
     "data": {
      "text/plain": [
       "0.674074074074074"
      ]
     },
     "execution_count": 1623,
     "metadata": {},
     "output_type": "execute_result"
    }
   ],
   "source": [
    "recall_score(df_consistency.gold,df_consistency.distance_label)"
   ]
  },
  {
   "cell_type": "code",
   "execution_count": null,
   "metadata": {},
   "outputs": [],
   "source": []
  },
  {
   "cell_type": "code",
   "execution_count": 1624,
   "metadata": {},
   "outputs": [
    {
     "data": {
      "text/html": [
       "<div>\n",
       "<style scoped>\n",
       "    .dataframe tbody tr th:only-of-type {\n",
       "        vertical-align: middle;\n",
       "    }\n",
       "\n",
       "    .dataframe tbody tr th {\n",
       "        vertical-align: top;\n",
       "    }\n",
       "\n",
       "    .dataframe thead th {\n",
       "        text-align: right;\n",
       "    }\n",
       "</style>\n",
       "<table border=\"1\" class=\"dataframe\">\n",
       "  <thead>\n",
       "    <tr style=\"text-align: right;\">\n",
       "      <th></th>\n",
       "      <th>undermine_score</th>\n",
       "      <th>support_score</th>\n",
       "      <th>cp_distance</th>\n",
       "      <th>cop_distance</th>\n",
       "      <th>predict_label</th>\n",
       "      <th>distance_label</th>\n",
       "      <th>gold</th>\n",
       "    </tr>\n",
       "  </thead>\n",
       "  <tbody>\n",
       "    <tr>\n",
       "      <th>1</th>\n",
       "      <td>1.753973</td>\n",
       "      <td>-1.208653</td>\n",
       "      <td>0.316870</td>\n",
       "      <td>0.009572</td>\n",
       "      <td>0</td>\n",
       "      <td>0</td>\n",
       "      <td>0</td>\n",
       "    </tr>\n",
       "    <tr>\n",
       "      <th>3</th>\n",
       "      <td>-4.448653</td>\n",
       "      <td>5.763899</td>\n",
       "      <td>0.011224</td>\n",
       "      <td>0.063257</td>\n",
       "      <td>1</td>\n",
       "      <td>1</td>\n",
       "      <td>1</td>\n",
       "    </tr>\n",
       "    <tr>\n",
       "      <th>4</th>\n",
       "      <td>-6.965822</td>\n",
       "      <td>7.407260</td>\n",
       "      <td>0.027215</td>\n",
       "      <td>1.449525</td>\n",
       "      <td>1</td>\n",
       "      <td>1</td>\n",
       "      <td>1</td>\n",
       "    </tr>\n",
       "    <tr>\n",
       "      <th>5</th>\n",
       "      <td>-4.014788</td>\n",
       "      <td>4.372499</td>\n",
       "      <td>0.065640</td>\n",
       "      <td>0.297210</td>\n",
       "      <td>1</td>\n",
       "      <td>1</td>\n",
       "      <td>0</td>\n",
       "    </tr>\n",
       "    <tr>\n",
       "      <th>6</th>\n",
       "      <td>-4.471383</td>\n",
       "      <td>5.813182</td>\n",
       "      <td>0.049034</td>\n",
       "      <td>0.128769</td>\n",
       "      <td>1</td>\n",
       "      <td>1</td>\n",
       "      <td>1</td>\n",
       "    </tr>\n",
       "    <tr>\n",
       "      <th>...</th>\n",
       "      <td>...</td>\n",
       "      <td>...</td>\n",
       "      <td>...</td>\n",
       "      <td>...</td>\n",
       "      <td>...</td>\n",
       "      <td>...</td>\n",
       "      <td>...</td>\n",
       "    </tr>\n",
       "    <tr>\n",
       "      <th>1183</th>\n",
       "      <td>5.780373</td>\n",
       "      <td>-5.520971</td>\n",
       "      <td>1.726345</td>\n",
       "      <td>0.840028</td>\n",
       "      <td>0</td>\n",
       "      <td>0</td>\n",
       "      <td>0</td>\n",
       "    </tr>\n",
       "    <tr>\n",
       "      <th>1184</th>\n",
       "      <td>-4.564680</td>\n",
       "      <td>4.019595</td>\n",
       "      <td>0.126133</td>\n",
       "      <td>1.572594</td>\n",
       "      <td>1</td>\n",
       "      <td>1</td>\n",
       "      <td>1</td>\n",
       "    </tr>\n",
       "    <tr>\n",
       "      <th>1188</th>\n",
       "      <td>3.730146</td>\n",
       "      <td>-3.667698</td>\n",
       "      <td>1.584377</td>\n",
       "      <td>1.510709</td>\n",
       "      <td>0</td>\n",
       "      <td>0</td>\n",
       "      <td>1</td>\n",
       "    </tr>\n",
       "    <tr>\n",
       "      <th>1189</th>\n",
       "      <td>-2.551159</td>\n",
       "      <td>2.597535</td>\n",
       "      <td>0.215551</td>\n",
       "      <td>0.353700</td>\n",
       "      <td>1</td>\n",
       "      <td>1</td>\n",
       "      <td>0</td>\n",
       "    </tr>\n",
       "    <tr>\n",
       "      <th>1191</th>\n",
       "      <td>-2.773020</td>\n",
       "      <td>2.397338</td>\n",
       "      <td>0.237195</td>\n",
       "      <td>1.429739</td>\n",
       "      <td>1</td>\n",
       "      <td>1</td>\n",
       "      <td>0</td>\n",
       "    </tr>\n",
       "  </tbody>\n",
       "</table>\n",
       "<p>1003 rows × 7 columns</p>\n",
       "</div>"
      ],
      "text/plain": [
       "      undermine_score  support_score  cp_distance  cop_distance  \\\n",
       "1            1.753973      -1.208653     0.316870      0.009572   \n",
       "3           -4.448653       5.763899     0.011224      0.063257   \n",
       "4           -6.965822       7.407260     0.027215      1.449525   \n",
       "5           -4.014788       4.372499     0.065640      0.297210   \n",
       "6           -4.471383       5.813182     0.049034      0.128769   \n",
       "...               ...            ...          ...           ...   \n",
       "1183         5.780373      -5.520971     1.726345      0.840028   \n",
       "1184        -4.564680       4.019595     0.126133      1.572594   \n",
       "1188         3.730146      -3.667698     1.584377      1.510709   \n",
       "1189        -2.551159       2.597535     0.215551      0.353700   \n",
       "1191        -2.773020       2.397338     0.237195      1.429739   \n",
       "\n",
       "      predict_label  distance_label  gold  \n",
       "1                 0               0     0  \n",
       "3                 1               1     1  \n",
       "4                 1               1     1  \n",
       "5                 1               1     0  \n",
       "6                 1               1     1  \n",
       "...             ...             ...   ...  \n",
       "1183              0               0     0  \n",
       "1184              1               1     1  \n",
       "1188              0               0     1  \n",
       "1189              1               1     0  \n",
       "1191              1               1     0  \n",
       "\n",
       "[1003 rows x 7 columns]"
      ]
     },
     "execution_count": 1624,
     "metadata": {},
     "output_type": "execute_result"
    }
   ],
   "source": [
    "df_logits_diff = df_consistency[abs(df_consistency.undermine_score-df_consistency.support_score)>0.7]\n",
    "df_logits_diff"
   ]
  },
  {
   "cell_type": "code",
   "execution_count": 1625,
   "metadata": {},
   "outputs": [
    {
     "data": {
      "text/plain": [
       "0.6940726577437858"
      ]
     },
     "execution_count": 1625,
     "metadata": {},
     "output_type": "execute_result"
    }
   ],
   "source": [
    "f1_score(df_logits_diff.gold,df_logits_diff.distance_label)"
   ]
  },
  {
   "cell_type": "code",
   "execution_count": 1626,
   "metadata": {},
   "outputs": [
    {
     "data": {
      "text/plain": [
       "0.7131630648330058"
      ]
     },
     "execution_count": 1626,
     "metadata": {},
     "output_type": "execute_result"
    }
   ],
   "source": [
    "precision_score(df_logits_diff.gold,df_logits_diff.distance_label)"
   ]
  },
  {
   "cell_type": "code",
   "execution_count": 1627,
   "metadata": {},
   "outputs": [
    {
     "data": {
      "text/plain": [
       "0.6759776536312849"
      ]
     },
     "execution_count": 1627,
     "metadata": {},
     "output_type": "execute_result"
    }
   ],
   "source": [
    "recall_score(df_logits_diff.gold,df_logits_diff.distance_label)"
   ]
  },
  {
   "cell_type": "code",
   "execution_count": null,
   "metadata": {},
   "outputs": [],
   "source": []
  },
  {
   "cell_type": "code",
   "execution_count": 1628,
   "metadata": {},
   "outputs": [
    {
     "data": {
      "text/html": [
       "<div>\n",
       "<style scoped>\n",
       "    .dataframe tbody tr th:only-of-type {\n",
       "        vertical-align: middle;\n",
       "    }\n",
       "\n",
       "    .dataframe tbody tr th {\n",
       "        vertical-align: top;\n",
       "    }\n",
       "\n",
       "    .dataframe thead th {\n",
       "        text-align: right;\n",
       "    }\n",
       "</style>\n",
       "<table border=\"1\" class=\"dataframe\">\n",
       "  <thead>\n",
       "    <tr style=\"text-align: right;\">\n",
       "      <th></th>\n",
       "      <th>undermine_score</th>\n",
       "      <th>support_score</th>\n",
       "      <th>cp_distance</th>\n",
       "      <th>cop_distance</th>\n",
       "      <th>predict_label</th>\n",
       "      <th>distance_label</th>\n",
       "      <th>gold</th>\n",
       "    </tr>\n",
       "  </thead>\n",
       "  <tbody>\n",
       "    <tr>\n",
       "      <th>71</th>\n",
       "      <td>5.747716</td>\n",
       "      <td>-5.172396</td>\n",
       "      <td>1.976747</td>\n",
       "      <td>0.039087</td>\n",
       "      <td>0</td>\n",
       "      <td>0</td>\n",
       "      <td>0</td>\n",
       "    </tr>\n",
       "    <tr>\n",
       "      <th>93</th>\n",
       "      <td>5.714855</td>\n",
       "      <td>-6.064403</td>\n",
       "      <td>1.926421</td>\n",
       "      <td>0.004834</td>\n",
       "      <td>0</td>\n",
       "      <td>0</td>\n",
       "      <td>0</td>\n",
       "    </tr>\n",
       "    <tr>\n",
       "      <th>95</th>\n",
       "      <td>5.333273</td>\n",
       "      <td>-5.505600</td>\n",
       "      <td>1.973596</td>\n",
       "      <td>0.008751</td>\n",
       "      <td>0</td>\n",
       "      <td>0</td>\n",
       "      <td>1</td>\n",
       "    </tr>\n",
       "    <tr>\n",
       "      <th>96</th>\n",
       "      <td>4.926824</td>\n",
       "      <td>-4.889778</td>\n",
       "      <td>1.923156</td>\n",
       "      <td>0.004763</td>\n",
       "      <td>0</td>\n",
       "      <td>0</td>\n",
       "      <td>0</td>\n",
       "    </tr>\n",
       "    <tr>\n",
       "      <th>101</th>\n",
       "      <td>5.847608</td>\n",
       "      <td>-6.139411</td>\n",
       "      <td>1.963092</td>\n",
       "      <td>0.007064</td>\n",
       "      <td>0</td>\n",
       "      <td>0</td>\n",
       "      <td>0</td>\n",
       "    </tr>\n",
       "    <tr>\n",
       "      <th>...</th>\n",
       "      <td>...</td>\n",
       "      <td>...</td>\n",
       "      <td>...</td>\n",
       "      <td>...</td>\n",
       "      <td>...</td>\n",
       "      <td>...</td>\n",
       "      <td>...</td>\n",
       "    </tr>\n",
       "    <tr>\n",
       "      <th>1068</th>\n",
       "      <td>-2.992208</td>\n",
       "      <td>6.386480</td>\n",
       "      <td>0.023330</td>\n",
       "      <td>1.961035</td>\n",
       "      <td>1</td>\n",
       "      <td>1</td>\n",
       "      <td>0</td>\n",
       "    </tr>\n",
       "    <tr>\n",
       "      <th>1071</th>\n",
       "      <td>-2.786325</td>\n",
       "      <td>6.186051</td>\n",
       "      <td>0.062802</td>\n",
       "      <td>1.973880</td>\n",
       "      <td>1</td>\n",
       "      <td>1</td>\n",
       "      <td>0</td>\n",
       "    </tr>\n",
       "    <tr>\n",
       "      <th>1077</th>\n",
       "      <td>5.091814</td>\n",
       "      <td>-5.159986</td>\n",
       "      <td>1.929322</td>\n",
       "      <td>0.001055</td>\n",
       "      <td>0</td>\n",
       "      <td>0</td>\n",
       "      <td>1</td>\n",
       "    </tr>\n",
       "    <tr>\n",
       "      <th>1097</th>\n",
       "      <td>5.017564</td>\n",
       "      <td>-5.161456</td>\n",
       "      <td>1.914528</td>\n",
       "      <td>0.001019</td>\n",
       "      <td>0</td>\n",
       "      <td>0</td>\n",
       "      <td>1</td>\n",
       "    </tr>\n",
       "    <tr>\n",
       "      <th>1106</th>\n",
       "      <td>5.339653</td>\n",
       "      <td>-5.465756</td>\n",
       "      <td>1.949706</td>\n",
       "      <td>0.004321</td>\n",
       "      <td>0</td>\n",
       "      <td>0</td>\n",
       "      <td>1</td>\n",
       "    </tr>\n",
       "  </tbody>\n",
       "</table>\n",
       "<p>160 rows × 7 columns</p>\n",
       "</div>"
      ],
      "text/plain": [
       "      undermine_score  support_score  cp_distance  cop_distance  \\\n",
       "71           5.747716      -5.172396     1.976747      0.039087   \n",
       "93           5.714855      -6.064403     1.926421      0.004834   \n",
       "95           5.333273      -5.505600     1.973596      0.008751   \n",
       "96           4.926824      -4.889778     1.923156      0.004763   \n",
       "101          5.847608      -6.139411     1.963092      0.007064   \n",
       "...               ...            ...          ...           ...   \n",
       "1068        -2.992208       6.386480     0.023330      1.961035   \n",
       "1071        -2.786325       6.186051     0.062802      1.973880   \n",
       "1077         5.091814      -5.159986     1.929322      0.001055   \n",
       "1097         5.017564      -5.161456     1.914528      0.001019   \n",
       "1106         5.339653      -5.465756     1.949706      0.004321   \n",
       "\n",
       "      predict_label  distance_label  gold  \n",
       "71                0               0     0  \n",
       "93                0               0     0  \n",
       "95                0               0     1  \n",
       "96                0               0     0  \n",
       "101               0               0     0  \n",
       "...             ...             ...   ...  \n",
       "1068              1               1     0  \n",
       "1071              1               1     0  \n",
       "1077              0               0     1  \n",
       "1097              0               0     1  \n",
       "1106              0               0     1  \n",
       "\n",
       "[160 rows x 7 columns]"
      ]
     },
     "execution_count": 1628,
     "metadata": {},
     "output_type": "execute_result"
    }
   ],
   "source": [
    "df_distance_diff = df_consistency[abs(df_consistency.cp_distance-df_consistency.cop_distance)>1.9]\n",
    "df_distance_diff"
   ]
  },
  {
   "cell_type": "code",
   "execution_count": 1629,
   "metadata": {},
   "outputs": [
    {
     "data": {
      "text/plain": [
       "0.8048780487804876"
      ]
     },
     "execution_count": 1629,
     "metadata": {},
     "output_type": "execute_result"
    }
   ],
   "source": [
    "f1_score(df_distance_diff.gold,df_distance_diff.distance_label)"
   ]
  },
  {
   "cell_type": "code",
   "execution_count": 1630,
   "metadata": {},
   "outputs": [
    {
     "data": {
      "text/plain": [
       "0.825"
      ]
     },
     "execution_count": 1630,
     "metadata": {},
     "output_type": "execute_result"
    }
   ],
   "source": [
    "precision_score(df_distance_diff.gold,df_distance_diff.distance_label)"
   ]
  },
  {
   "cell_type": "code",
   "execution_count": 1631,
   "metadata": {},
   "outputs": [
    {
     "data": {
      "text/plain": [
       "0.7857142857142857"
      ]
     },
     "execution_count": 1631,
     "metadata": {},
     "output_type": "execute_result"
    }
   ],
   "source": [
    "recall_score(df_distance_diff.gold,df_distance_diff.distance_label)"
   ]
  },
  {
   "cell_type": "code",
   "execution_count": null,
   "metadata": {},
   "outputs": [],
   "source": []
  },
  {
   "cell_type": "code",
   "execution_count": null,
   "metadata": {},
   "outputs": [],
   "source": []
  },
  {
   "cell_type": "code",
   "execution_count": null,
   "metadata": {},
   "outputs": [],
   "source": []
  },
  {
   "cell_type": "code",
   "execution_count": 1632,
   "metadata": {},
   "outputs": [],
   "source": [
    "#inconsistent cases (logtis prediction != distance prediction)"
   ]
  },
  {
   "cell_type": "code",
   "execution_count": 1633,
   "metadata": {},
   "outputs": [],
   "source": [
    "df_inconsistency = df"
   ]
  },
  {
   "cell_type": "code",
   "execution_count": 1634,
   "metadata": {},
   "outputs": [],
   "source": [
    "df_consistency = df[df.predict_label==df.distance_label]"
   ]
  },
  {
   "cell_type": "code",
   "execution_count": 1635,
   "metadata": {},
   "outputs": [
    {
     "data": {
      "text/html": [
       "<div>\n",
       "<style scoped>\n",
       "    .dataframe tbody tr th:only-of-type {\n",
       "        vertical-align: middle;\n",
       "    }\n",
       "\n",
       "    .dataframe tbody tr th {\n",
       "        vertical-align: top;\n",
       "    }\n",
       "\n",
       "    .dataframe thead th {\n",
       "        text-align: right;\n",
       "    }\n",
       "</style>\n",
       "<table border=\"1\" class=\"dataframe\">\n",
       "  <thead>\n",
       "    <tr style=\"text-align: right;\">\n",
       "      <th></th>\n",
       "      <th>undermine_score</th>\n",
       "      <th>support_score</th>\n",
       "      <th>cp_distance</th>\n",
       "      <th>cop_distance</th>\n",
       "      <th>predict_label</th>\n",
       "      <th>distance_label</th>\n",
       "      <th>gold</th>\n",
       "    </tr>\n",
       "  </thead>\n",
       "  <tbody>\n",
       "    <tr>\n",
       "      <th>0</th>\n",
       "      <td>-2.286710</td>\n",
       "      <td>4.179139</td>\n",
       "      <td>0.337187</td>\n",
       "      <td>0.012638</td>\n",
       "      <td>1</td>\n",
       "      <td>0</td>\n",
       "      <td>1</td>\n",
       "    </tr>\n",
       "    <tr>\n",
       "      <th>1</th>\n",
       "      <td>1.753973</td>\n",
       "      <td>-1.208653</td>\n",
       "      <td>0.316870</td>\n",
       "      <td>0.009572</td>\n",
       "      <td>0</td>\n",
       "      <td>0</td>\n",
       "      <td>0</td>\n",
       "    </tr>\n",
       "    <tr>\n",
       "      <th>2</th>\n",
       "      <td>-2.058090</td>\n",
       "      <td>3.866679</td>\n",
       "      <td>0.321512</td>\n",
       "      <td>0.009185</td>\n",
       "      <td>1</td>\n",
       "      <td>0</td>\n",
       "      <td>0</td>\n",
       "    </tr>\n",
       "    <tr>\n",
       "      <th>3</th>\n",
       "      <td>-4.448653</td>\n",
       "      <td>5.763899</td>\n",
       "      <td>0.011224</td>\n",
       "      <td>0.063257</td>\n",
       "      <td>1</td>\n",
       "      <td>1</td>\n",
       "      <td>1</td>\n",
       "    </tr>\n",
       "    <tr>\n",
       "      <th>4</th>\n",
       "      <td>-6.965822</td>\n",
       "      <td>7.407260</td>\n",
       "      <td>0.027215</td>\n",
       "      <td>1.449525</td>\n",
       "      <td>1</td>\n",
       "      <td>1</td>\n",
       "      <td>1</td>\n",
       "    </tr>\n",
       "    <tr>\n",
       "      <th>...</th>\n",
       "      <td>...</td>\n",
       "      <td>...</td>\n",
       "      <td>...</td>\n",
       "      <td>...</td>\n",
       "      <td>...</td>\n",
       "      <td>...</td>\n",
       "      <td>...</td>\n",
       "    </tr>\n",
       "    <tr>\n",
       "      <th>1187</th>\n",
       "      <td>1.370541</td>\n",
       "      <td>-0.049608</td>\n",
       "      <td>1.202502</td>\n",
       "      <td>1.270629</td>\n",
       "      <td>0</td>\n",
       "      <td>1</td>\n",
       "      <td>0</td>\n",
       "    </tr>\n",
       "    <tr>\n",
       "      <th>1188</th>\n",
       "      <td>3.730146</td>\n",
       "      <td>-3.667698</td>\n",
       "      <td>1.584377</td>\n",
       "      <td>1.510709</td>\n",
       "      <td>0</td>\n",
       "      <td>0</td>\n",
       "      <td>1</td>\n",
       "    </tr>\n",
       "    <tr>\n",
       "      <th>1189</th>\n",
       "      <td>-2.551159</td>\n",
       "      <td>2.597535</td>\n",
       "      <td>0.215551</td>\n",
       "      <td>0.353700</td>\n",
       "      <td>1</td>\n",
       "      <td>1</td>\n",
       "      <td>0</td>\n",
       "    </tr>\n",
       "    <tr>\n",
       "      <th>1190</th>\n",
       "      <td>2.449668</td>\n",
       "      <td>-1.096902</td>\n",
       "      <td>1.351404</td>\n",
       "      <td>1.474139</td>\n",
       "      <td>0</td>\n",
       "      <td>1</td>\n",
       "      <td>0</td>\n",
       "    </tr>\n",
       "    <tr>\n",
       "      <th>1191</th>\n",
       "      <td>-2.773020</td>\n",
       "      <td>2.397338</td>\n",
       "      <td>0.237195</td>\n",
       "      <td>1.429739</td>\n",
       "      <td>1</td>\n",
       "      <td>1</td>\n",
       "      <td>0</td>\n",
       "    </tr>\n",
       "  </tbody>\n",
       "</table>\n",
       "<p>1192 rows × 7 columns</p>\n",
       "</div>"
      ],
      "text/plain": [
       "      undermine_score  support_score  cp_distance  cop_distance  \\\n",
       "0           -2.286710       4.179139     0.337187      0.012638   \n",
       "1            1.753973      -1.208653     0.316870      0.009572   \n",
       "2           -2.058090       3.866679     0.321512      0.009185   \n",
       "3           -4.448653       5.763899     0.011224      0.063257   \n",
       "4           -6.965822       7.407260     0.027215      1.449525   \n",
       "...               ...            ...          ...           ...   \n",
       "1187         1.370541      -0.049608     1.202502      1.270629   \n",
       "1188         3.730146      -3.667698     1.584377      1.510709   \n",
       "1189        -2.551159       2.597535     0.215551      0.353700   \n",
       "1190         2.449668      -1.096902     1.351404      1.474139   \n",
       "1191        -2.773020       2.397338     0.237195      1.429739   \n",
       "\n",
       "      predict_label  distance_label  gold  \n",
       "0                 1               0     1  \n",
       "1                 0               0     0  \n",
       "2                 1               0     0  \n",
       "3                 1               1     1  \n",
       "4                 1               1     1  \n",
       "...             ...             ...   ...  \n",
       "1187              0               1     0  \n",
       "1188              0               0     1  \n",
       "1189              1               1     0  \n",
       "1190              0               1     0  \n",
       "1191              1               1     0  \n",
       "\n",
       "[1192 rows x 7 columns]"
      ]
     },
     "execution_count": 1635,
     "metadata": {},
     "output_type": "execute_result"
    }
   ],
   "source": [
    "df_inconsistency"
   ]
  },
  {
   "cell_type": "code",
   "execution_count": 1636,
   "metadata": {},
   "outputs": [
    {
     "data": {
      "text/html": [
       "<div>\n",
       "<style scoped>\n",
       "    .dataframe tbody tr th:only-of-type {\n",
       "        vertical-align: middle;\n",
       "    }\n",
       "\n",
       "    .dataframe tbody tr th {\n",
       "        vertical-align: top;\n",
       "    }\n",
       "\n",
       "    .dataframe thead th {\n",
       "        text-align: right;\n",
       "    }\n",
       "</style>\n",
       "<table border=\"1\" class=\"dataframe\">\n",
       "  <thead>\n",
       "    <tr style=\"text-align: right;\">\n",
       "      <th></th>\n",
       "      <th>undermine_score</th>\n",
       "      <th>support_score</th>\n",
       "      <th>cp_distance</th>\n",
       "      <th>cop_distance</th>\n",
       "      <th>predict_label</th>\n",
       "      <th>distance_label</th>\n",
       "      <th>gold</th>\n",
       "    </tr>\n",
       "  </thead>\n",
       "  <tbody>\n",
       "    <tr>\n",
       "      <th>0</th>\n",
       "      <td>-2.286710</td>\n",
       "      <td>4.179139</td>\n",
       "      <td>0.337187</td>\n",
       "      <td>0.012638</td>\n",
       "      <td>1</td>\n",
       "      <td>0</td>\n",
       "      <td>1</td>\n",
       "    </tr>\n",
       "    <tr>\n",
       "      <th>1</th>\n",
       "      <td>1.753973</td>\n",
       "      <td>-1.208653</td>\n",
       "      <td>0.316870</td>\n",
       "      <td>0.009572</td>\n",
       "      <td>0</td>\n",
       "      <td>0</td>\n",
       "      <td>0</td>\n",
       "    </tr>\n",
       "    <tr>\n",
       "      <th>2</th>\n",
       "      <td>-2.058090</td>\n",
       "      <td>3.866679</td>\n",
       "      <td>0.321512</td>\n",
       "      <td>0.009185</td>\n",
       "      <td>1</td>\n",
       "      <td>0</td>\n",
       "      <td>0</td>\n",
       "    </tr>\n",
       "    <tr>\n",
       "      <th>3</th>\n",
       "      <td>-4.448653</td>\n",
       "      <td>5.763899</td>\n",
       "      <td>0.011224</td>\n",
       "      <td>0.063257</td>\n",
       "      <td>1</td>\n",
       "      <td>1</td>\n",
       "      <td>1</td>\n",
       "    </tr>\n",
       "    <tr>\n",
       "      <th>4</th>\n",
       "      <td>-6.965822</td>\n",
       "      <td>7.407260</td>\n",
       "      <td>0.027215</td>\n",
       "      <td>1.449525</td>\n",
       "      <td>1</td>\n",
       "      <td>1</td>\n",
       "      <td>1</td>\n",
       "    </tr>\n",
       "    <tr>\n",
       "      <th>...</th>\n",
       "      <td>...</td>\n",
       "      <td>...</td>\n",
       "      <td>...</td>\n",
       "      <td>...</td>\n",
       "      <td>...</td>\n",
       "      <td>...</td>\n",
       "      <td>...</td>\n",
       "    </tr>\n",
       "    <tr>\n",
       "      <th>1185</th>\n",
       "      <td>2.214192</td>\n",
       "      <td>-1.876774</td>\n",
       "      <td>1.380415</td>\n",
       "      <td>1.516285</td>\n",
       "      <td>0</td>\n",
       "      <td>1</td>\n",
       "      <td>1</td>\n",
       "    </tr>\n",
       "    <tr>\n",
       "      <th>1188</th>\n",
       "      <td>3.730146</td>\n",
       "      <td>-3.667698</td>\n",
       "      <td>1.584377</td>\n",
       "      <td>1.510709</td>\n",
       "      <td>0</td>\n",
       "      <td>0</td>\n",
       "      <td>1</td>\n",
       "    </tr>\n",
       "    <tr>\n",
       "      <th>1189</th>\n",
       "      <td>-2.551159</td>\n",
       "      <td>2.597535</td>\n",
       "      <td>0.215551</td>\n",
       "      <td>0.353700</td>\n",
       "      <td>1</td>\n",
       "      <td>1</td>\n",
       "      <td>0</td>\n",
       "    </tr>\n",
       "    <tr>\n",
       "      <th>1190</th>\n",
       "      <td>2.449668</td>\n",
       "      <td>-1.096902</td>\n",
       "      <td>1.351404</td>\n",
       "      <td>1.474139</td>\n",
       "      <td>0</td>\n",
       "      <td>1</td>\n",
       "      <td>0</td>\n",
       "    </tr>\n",
       "    <tr>\n",
       "      <th>1191</th>\n",
       "      <td>-2.773020</td>\n",
       "      <td>2.397338</td>\n",
       "      <td>0.237195</td>\n",
       "      <td>1.429739</td>\n",
       "      <td>1</td>\n",
       "      <td>1</td>\n",
       "      <td>0</td>\n",
       "    </tr>\n",
       "  </tbody>\n",
       "</table>\n",
       "<p>1105 rows × 7 columns</p>\n",
       "</div>"
      ],
      "text/plain": [
       "      undermine_score  support_score  cp_distance  cop_distance  \\\n",
       "0           -2.286710       4.179139     0.337187      0.012638   \n",
       "1            1.753973      -1.208653     0.316870      0.009572   \n",
       "2           -2.058090       3.866679     0.321512      0.009185   \n",
       "3           -4.448653       5.763899     0.011224      0.063257   \n",
       "4           -6.965822       7.407260     0.027215      1.449525   \n",
       "...               ...            ...          ...           ...   \n",
       "1185         2.214192      -1.876774     1.380415      1.516285   \n",
       "1188         3.730146      -3.667698     1.584377      1.510709   \n",
       "1189        -2.551159       2.597535     0.215551      0.353700   \n",
       "1190         2.449668      -1.096902     1.351404      1.474139   \n",
       "1191        -2.773020       2.397338     0.237195      1.429739   \n",
       "\n",
       "      predict_label  distance_label  gold  \n",
       "0                 1               0     1  \n",
       "1                 0               0     0  \n",
       "2                 1               0     0  \n",
       "3                 1               1     1  \n",
       "4                 1               1     1  \n",
       "...             ...             ...   ...  \n",
       "1185              0               1     1  \n",
       "1188              0               0     1  \n",
       "1189              1               1     0  \n",
       "1190              0               1     0  \n",
       "1191              1               1     0  \n",
       "\n",
       "[1105 rows x 7 columns]"
      ]
     },
     "execution_count": 1636,
     "metadata": {},
     "output_type": "execute_result"
    }
   ],
   "source": [
    "df[abs(df.undermine_score-df.support_score)>2.9]"
   ]
  },
  {
   "cell_type": "code",
   "execution_count": 1637,
   "metadata": {},
   "outputs": [
    {
     "data": {
      "text/html": [
       "<div>\n",
       "<style scoped>\n",
       "    .dataframe tbody tr th:only-of-type {\n",
       "        vertical-align: middle;\n",
       "    }\n",
       "\n",
       "    .dataframe tbody tr th {\n",
       "        vertical-align: top;\n",
       "    }\n",
       "\n",
       "    .dataframe thead th {\n",
       "        text-align: right;\n",
       "    }\n",
       "</style>\n",
       "<table border=\"1\" class=\"dataframe\">\n",
       "  <thead>\n",
       "    <tr style=\"text-align: right;\">\n",
       "      <th></th>\n",
       "      <th>undermine_score</th>\n",
       "      <th>support_score</th>\n",
       "      <th>cp_distance</th>\n",
       "      <th>cop_distance</th>\n",
       "      <th>predict_label</th>\n",
       "      <th>distance_label</th>\n",
       "      <th>gold</th>\n",
       "    </tr>\n",
       "  </thead>\n",
       "  <tbody>\n",
       "    <tr>\n",
       "      <th>0</th>\n",
       "      <td>-2.286710</td>\n",
       "      <td>4.179139</td>\n",
       "      <td>0.337187</td>\n",
       "      <td>0.012638</td>\n",
       "      <td>1</td>\n",
       "      <td>0</td>\n",
       "      <td>1</td>\n",
       "    </tr>\n",
       "    <tr>\n",
       "      <th>1</th>\n",
       "      <td>1.753973</td>\n",
       "      <td>-1.208653</td>\n",
       "      <td>0.316870</td>\n",
       "      <td>0.009572</td>\n",
       "      <td>0</td>\n",
       "      <td>0</td>\n",
       "      <td>0</td>\n",
       "    </tr>\n",
       "    <tr>\n",
       "      <th>2</th>\n",
       "      <td>-2.058090</td>\n",
       "      <td>3.866679</td>\n",
       "      <td>0.321512</td>\n",
       "      <td>0.009185</td>\n",
       "      <td>1</td>\n",
       "      <td>0</td>\n",
       "      <td>0</td>\n",
       "    </tr>\n",
       "    <tr>\n",
       "      <th>3</th>\n",
       "      <td>-4.448653</td>\n",
       "      <td>5.763899</td>\n",
       "      <td>0.011224</td>\n",
       "      <td>0.063257</td>\n",
       "      <td>1</td>\n",
       "      <td>1</td>\n",
       "      <td>1</td>\n",
       "    </tr>\n",
       "    <tr>\n",
       "      <th>4</th>\n",
       "      <td>-6.965822</td>\n",
       "      <td>7.407260</td>\n",
       "      <td>0.027215</td>\n",
       "      <td>1.449525</td>\n",
       "      <td>1</td>\n",
       "      <td>1</td>\n",
       "      <td>1</td>\n",
       "    </tr>\n",
       "    <tr>\n",
       "      <th>...</th>\n",
       "      <td>...</td>\n",
       "      <td>...</td>\n",
       "      <td>...</td>\n",
       "      <td>...</td>\n",
       "      <td>...</td>\n",
       "      <td>...</td>\n",
       "      <td>...</td>\n",
       "    </tr>\n",
       "    <tr>\n",
       "      <th>1187</th>\n",
       "      <td>1.370541</td>\n",
       "      <td>-0.049608</td>\n",
       "      <td>1.202502</td>\n",
       "      <td>1.270629</td>\n",
       "      <td>0</td>\n",
       "      <td>1</td>\n",
       "      <td>0</td>\n",
       "    </tr>\n",
       "    <tr>\n",
       "      <th>1188</th>\n",
       "      <td>3.730146</td>\n",
       "      <td>-3.667698</td>\n",
       "      <td>1.584377</td>\n",
       "      <td>1.510709</td>\n",
       "      <td>0</td>\n",
       "      <td>0</td>\n",
       "      <td>1</td>\n",
       "    </tr>\n",
       "    <tr>\n",
       "      <th>1189</th>\n",
       "      <td>-2.551159</td>\n",
       "      <td>2.597535</td>\n",
       "      <td>0.215551</td>\n",
       "      <td>0.353700</td>\n",
       "      <td>1</td>\n",
       "      <td>1</td>\n",
       "      <td>0</td>\n",
       "    </tr>\n",
       "    <tr>\n",
       "      <th>1190</th>\n",
       "      <td>2.449668</td>\n",
       "      <td>-1.096902</td>\n",
       "      <td>1.351404</td>\n",
       "      <td>1.474139</td>\n",
       "      <td>0</td>\n",
       "      <td>1</td>\n",
       "      <td>0</td>\n",
       "    </tr>\n",
       "    <tr>\n",
       "      <th>1191</th>\n",
       "      <td>-2.773020</td>\n",
       "      <td>2.397338</td>\n",
       "      <td>0.237195</td>\n",
       "      <td>1.429739</td>\n",
       "      <td>1</td>\n",
       "      <td>1</td>\n",
       "      <td>0</td>\n",
       "    </tr>\n",
       "  </tbody>\n",
       "</table>\n",
       "<p>1103 rows × 7 columns</p>\n",
       "</div>"
      ],
      "text/plain": [
       "      undermine_score  support_score  cp_distance  cop_distance  \\\n",
       "0           -2.286710       4.179139     0.337187      0.012638   \n",
       "1            1.753973      -1.208653     0.316870      0.009572   \n",
       "2           -2.058090       3.866679     0.321512      0.009185   \n",
       "3           -4.448653       5.763899     0.011224      0.063257   \n",
       "4           -6.965822       7.407260     0.027215      1.449525   \n",
       "...               ...            ...          ...           ...   \n",
       "1187         1.370541      -0.049608     1.202502      1.270629   \n",
       "1188         3.730146      -3.667698     1.584377      1.510709   \n",
       "1189        -2.551159       2.597535     0.215551      0.353700   \n",
       "1190         2.449668      -1.096902     1.351404      1.474139   \n",
       "1191        -2.773020       2.397338     0.237195      1.429739   \n",
       "\n",
       "      predict_label  distance_label  gold  \n",
       "0                 1               0     1  \n",
       "1                 0               0     0  \n",
       "2                 1               0     0  \n",
       "3                 1               1     1  \n",
       "4                 1               1     1  \n",
       "...             ...             ...   ...  \n",
       "1187              0               1     0  \n",
       "1188              0               0     1  \n",
       "1189              1               1     0  \n",
       "1190              0               1     0  \n",
       "1191              1               1     0  \n",
       "\n",
       "[1103 rows x 7 columns]"
      ]
     },
     "execution_count": 1637,
     "metadata": {},
     "output_type": "execute_result"
    }
   ],
   "source": [
    "df[abs(df.cp_distance-df.cop_distance)>0.03]"
   ]
  },
  {
   "cell_type": "code",
   "execution_count": 1638,
   "metadata": {},
   "outputs": [],
   "source": [
    "#triplet test set"
   ]
  },
  {
   "cell_type": "code",
   "execution_count": 1639,
   "metadata": {},
   "outputs": [],
   "source": [
    "df_origin = pd.read_csv(\"../stance_code/Dataset/ibmcs/tri_test.tsv\", delimiter=\"\\t\")"
   ]
  },
  {
   "cell_type": "code",
   "execution_count": 1640,
   "metadata": {},
   "outputs": [],
   "source": [
    "#combine triplet test set with eval results"
   ]
  },
  {
   "cell_type": "code",
   "execution_count": 1641,
   "metadata": {},
   "outputs": [],
   "source": [
    "incons_out = df_inconsistency.join(df_origin).drop(\"x\",axis=1).drop(\"y\",axis=1)"
   ]
  },
  {
   "cell_type": "code",
   "execution_count": 1642,
   "metadata": {},
   "outputs": [],
   "source": [
    "# incons_out.to_csv(\"inconsistency_data.csv\",index=False)"
   ]
  },
  {
   "cell_type": "code",
   "execution_count": 1643,
   "metadata": {},
   "outputs": [],
   "source": [
    "# incons_out.to_excel(\"inconsistency_data.xlsx\")"
   ]
  },
  {
   "cell_type": "code",
   "execution_count": 1644,
   "metadata": {},
   "outputs": [
    {
     "data": {
      "text/plain": [
       "0.6753355704697986"
      ]
     },
     "execution_count": 1644,
     "metadata": {},
     "output_type": "execute_result"
    }
   ],
   "source": [
    "accuracy_score(df_inconsistency.gold,df_inconsistency.predict_label)"
   ]
  },
  {
   "cell_type": "code",
   "execution_count": null,
   "metadata": {},
   "outputs": [],
   "source": []
  },
  {
   "cell_type": "code",
   "execution_count": 1645,
   "metadata": {},
   "outputs": [],
   "source": [
    "# distance_correct_logits_wrong"
   ]
  },
  {
   "cell_type": "code",
   "execution_count": 1646,
   "metadata": {},
   "outputs": [],
   "source": [
    "df_distance_correct_logits_wrong = df[(df.distance_label==df.gold)&(df.predict_label!=df.gold)]"
   ]
  },
  {
   "cell_type": "code",
   "execution_count": 1647,
   "metadata": {},
   "outputs": [
    {
     "data": {
      "text/html": [
       "<div>\n",
       "<style scoped>\n",
       "    .dataframe tbody tr th:only-of-type {\n",
       "        vertical-align: middle;\n",
       "    }\n",
       "\n",
       "    .dataframe tbody tr th {\n",
       "        vertical-align: top;\n",
       "    }\n",
       "\n",
       "    .dataframe thead th {\n",
       "        text-align: right;\n",
       "    }\n",
       "</style>\n",
       "<table border=\"1\" class=\"dataframe\">\n",
       "  <thead>\n",
       "    <tr style=\"text-align: right;\">\n",
       "      <th></th>\n",
       "      <th>undermine_score</th>\n",
       "      <th>support_score</th>\n",
       "      <th>cp_distance</th>\n",
       "      <th>cop_distance</th>\n",
       "      <th>predict_label</th>\n",
       "      <th>distance_label</th>\n",
       "      <th>gold</th>\n",
       "    </tr>\n",
       "  </thead>\n",
       "  <tbody>\n",
       "    <tr>\n",
       "      <th>2</th>\n",
       "      <td>-2.058090</td>\n",
       "      <td>3.866679</td>\n",
       "      <td>0.321512</td>\n",
       "      <td>0.009185</td>\n",
       "      <td>1</td>\n",
       "      <td>0</td>\n",
       "      <td>0</td>\n",
       "    </tr>\n",
       "    <tr>\n",
       "      <th>35</th>\n",
       "      <td>-1.223651</td>\n",
       "      <td>2.600020</td>\n",
       "      <td>0.137498</td>\n",
       "      <td>0.058267</td>\n",
       "      <td>1</td>\n",
       "      <td>0</td>\n",
       "      <td>0</td>\n",
       "    </tr>\n",
       "    <tr>\n",
       "      <th>102</th>\n",
       "      <td>5.331548</td>\n",
       "      <td>-0.850902</td>\n",
       "      <td>1.719888</td>\n",
       "      <td>1.866947</td>\n",
       "      <td>0</td>\n",
       "      <td>1</td>\n",
       "      <td>1</td>\n",
       "    </tr>\n",
       "    <tr>\n",
       "      <th>103</th>\n",
       "      <td>3.740766</td>\n",
       "      <td>0.107283</td>\n",
       "      <td>1.475232</td>\n",
       "      <td>1.879727</td>\n",
       "      <td>0</td>\n",
       "      <td>1</td>\n",
       "      <td>1</td>\n",
       "    </tr>\n",
       "    <tr>\n",
       "      <th>130</th>\n",
       "      <td>5.400880</td>\n",
       "      <td>-0.915185</td>\n",
       "      <td>1.718892</td>\n",
       "      <td>1.795179</td>\n",
       "      <td>0</td>\n",
       "      <td>1</td>\n",
       "      <td>1</td>\n",
       "    </tr>\n",
       "    <tr>\n",
       "      <th>...</th>\n",
       "      <td>...</td>\n",
       "      <td>...</td>\n",
       "      <td>...</td>\n",
       "      <td>...</td>\n",
       "      <td>...</td>\n",
       "      <td>...</td>\n",
       "      <td>...</td>\n",
       "    </tr>\n",
       "    <tr>\n",
       "      <th>1124</th>\n",
       "      <td>4.002038</td>\n",
       "      <td>-1.153982</td>\n",
       "      <td>1.693689</td>\n",
       "      <td>1.807701</td>\n",
       "      <td>0</td>\n",
       "      <td>1</td>\n",
       "      <td>1</td>\n",
       "    </tr>\n",
       "    <tr>\n",
       "      <th>1138</th>\n",
       "      <td>0.586455</td>\n",
       "      <td>-1.387623</td>\n",
       "      <td>0.468076</td>\n",
       "      <td>0.588479</td>\n",
       "      <td>0</td>\n",
       "      <td>1</td>\n",
       "      <td>1</td>\n",
       "    </tr>\n",
       "    <tr>\n",
       "      <th>1172</th>\n",
       "      <td>-1.086858</td>\n",
       "      <td>1.712583</td>\n",
       "      <td>0.207286</td>\n",
       "      <td>0.173335</td>\n",
       "      <td>1</td>\n",
       "      <td>0</td>\n",
       "      <td>0</td>\n",
       "    </tr>\n",
       "    <tr>\n",
       "      <th>1185</th>\n",
       "      <td>2.214192</td>\n",
       "      <td>-1.876774</td>\n",
       "      <td>1.380415</td>\n",
       "      <td>1.516285</td>\n",
       "      <td>0</td>\n",
       "      <td>1</td>\n",
       "      <td>1</td>\n",
       "    </tr>\n",
       "    <tr>\n",
       "      <th>1186</th>\n",
       "      <td>1.068366</td>\n",
       "      <td>-0.944495</td>\n",
       "      <td>1.351513</td>\n",
       "      <td>1.725581</td>\n",
       "      <td>0</td>\n",
       "      <td>1</td>\n",
       "      <td>1</td>\n",
       "    </tr>\n",
       "  </tbody>\n",
       "</table>\n",
       "<p>62 rows × 7 columns</p>\n",
       "</div>"
      ],
      "text/plain": [
       "      undermine_score  support_score  cp_distance  cop_distance  \\\n",
       "2           -2.058090       3.866679     0.321512      0.009185   \n",
       "35          -1.223651       2.600020     0.137498      0.058267   \n",
       "102          5.331548      -0.850902     1.719888      1.866947   \n",
       "103          3.740766       0.107283     1.475232      1.879727   \n",
       "130          5.400880      -0.915185     1.718892      1.795179   \n",
       "...               ...            ...          ...           ...   \n",
       "1124         4.002038      -1.153982     1.693689      1.807701   \n",
       "1138         0.586455      -1.387623     0.468076      0.588479   \n",
       "1172        -1.086858       1.712583     0.207286      0.173335   \n",
       "1185         2.214192      -1.876774     1.380415      1.516285   \n",
       "1186         1.068366      -0.944495     1.351513      1.725581   \n",
       "\n",
       "      predict_label  distance_label  gold  \n",
       "2                 1               0     0  \n",
       "35                1               0     0  \n",
       "102               0               1     1  \n",
       "103               0               1     1  \n",
       "130               0               1     1  \n",
       "...             ...             ...   ...  \n",
       "1124              0               1     1  \n",
       "1138              0               1     1  \n",
       "1172              1               0     0  \n",
       "1185              0               1     1  \n",
       "1186              0               1     1  \n",
       "\n",
       "[62 rows x 7 columns]"
      ]
     },
     "execution_count": 1647,
     "metadata": {},
     "output_type": "execute_result"
    }
   ],
   "source": [
    "df_distance_correct_logits_wrong"
   ]
  },
  {
   "cell_type": "code",
   "execution_count": 1648,
   "metadata": {},
   "outputs": [],
   "source": [
    "# combine distance_correct_logits_wrong with test set"
   ]
  },
  {
   "cell_type": "code",
   "execution_count": 1649,
   "metadata": {},
   "outputs": [],
   "source": [
    "dcorrect_lwrong_out = df_distance_correct_logits_wrong.join(df_origin).drop(\"x\",axis=1).drop(\"y\",axis=1)"
   ]
  },
  {
   "cell_type": "code",
   "execution_count": 1650,
   "metadata": {},
   "outputs": [
    {
     "data": {
      "text/html": [
       "<div>\n",
       "<style scoped>\n",
       "    .dataframe tbody tr th:only-of-type {\n",
       "        vertical-align: middle;\n",
       "    }\n",
       "\n",
       "    .dataframe tbody tr th {\n",
       "        vertical-align: top;\n",
       "    }\n",
       "\n",
       "    .dataframe thead th {\n",
       "        text-align: right;\n",
       "    }\n",
       "</style>\n",
       "<table border=\"1\" class=\"dataframe\">\n",
       "  <thead>\n",
       "    <tr style=\"text-align: right;\">\n",
       "      <th></th>\n",
       "      <th>undermine_score</th>\n",
       "      <th>support_score</th>\n",
       "      <th>cp_distance</th>\n",
       "      <th>cop_distance</th>\n",
       "      <th>predict_label</th>\n",
       "      <th>distance_label</th>\n",
       "      <th>gold</th>\n",
       "      <th>Label</th>\n",
       "      <th>claim</th>\n",
       "      <th>perspective</th>\n",
       "      <th>opposite_perspective</th>\n",
       "    </tr>\n",
       "  </thead>\n",
       "  <tbody>\n",
       "    <tr>\n",
       "      <th>2</th>\n",
       "      <td>-2.058090</td>\n",
       "      <td>3.866679</td>\n",
       "      <td>0.321512</td>\n",
       "      <td>0.009185</td>\n",
       "      <td>1</td>\n",
       "      <td>0</td>\n",
       "      <td>0</td>\n",
       "      <td>0</td>\n",
       "      <td>This house believes that the sale of violent v...</td>\n",
       "      <td>some violent video games may actually have a p...</td>\n",
       "      <td>some violent video games may not actually have...</td>\n",
       "    </tr>\n",
       "    <tr>\n",
       "      <th>35</th>\n",
       "      <td>-1.223651</td>\n",
       "      <td>2.600020</td>\n",
       "      <td>0.137498</td>\n",
       "      <td>0.058267</td>\n",
       "      <td>1</td>\n",
       "      <td>0</td>\n",
       "      <td>0</td>\n",
       "      <td>0</td>\n",
       "      <td>This house believes that the sale of violent v...</td>\n",
       "      <td>children don't automatically imitate aggressio...</td>\n",
       "      <td>children do automatically imitate aggression, ...</td>\n",
       "    </tr>\n",
       "    <tr>\n",
       "      <th>102</th>\n",
       "      <td>5.331548</td>\n",
       "      <td>-0.850902</td>\n",
       "      <td>1.719888</td>\n",
       "      <td>1.866947</td>\n",
       "      <td>0</td>\n",
       "      <td>1</td>\n",
       "      <td>1</td>\n",
       "      <td>1</td>\n",
       "      <td>This house supports the one-child policy of th...</td>\n",
       "      <td>A large increase in population brings certain ...</td>\n",
       "      <td>A large decrease in population brings certain ...</td>\n",
       "    </tr>\n",
       "    <tr>\n",
       "      <th>103</th>\n",
       "      <td>3.740766</td>\n",
       "      <td>0.107283</td>\n",
       "      <td>1.475232</td>\n",
       "      <td>1.879727</td>\n",
       "      <td>0</td>\n",
       "      <td>1</td>\n",
       "      <td>1</td>\n",
       "      <td>1</td>\n",
       "      <td>This house supports the one-child policy of th...</td>\n",
       "      <td>Excessive population growth may reduce output ...</td>\n",
       "      <td>Excessive population growth may not reduce out...</td>\n",
       "    </tr>\n",
       "    <tr>\n",
       "      <th>130</th>\n",
       "      <td>5.400880</td>\n",
       "      <td>-0.915185</td>\n",
       "      <td>1.718892</td>\n",
       "      <td>1.795179</td>\n",
       "      <td>0</td>\n",
       "      <td>1</td>\n",
       "      <td>1</td>\n",
       "      <td>1</td>\n",
       "      <td>This house supports the one-child policy of th...</td>\n",
       "      <td>rapid population growth damages the Earth's re...</td>\n",
       "      <td>rapid population growth protect the Earth's re...</td>\n",
       "    </tr>\n",
       "    <tr>\n",
       "      <th>...</th>\n",
       "      <td>...</td>\n",
       "      <td>...</td>\n",
       "      <td>...</td>\n",
       "      <td>...</td>\n",
       "      <td>...</td>\n",
       "      <td>...</td>\n",
       "      <td>...</td>\n",
       "      <td>...</td>\n",
       "      <td>...</td>\n",
       "      <td>...</td>\n",
       "      <td>...</td>\n",
       "    </tr>\n",
       "    <tr>\n",
       "      <th>1124</th>\n",
       "      <td>4.002038</td>\n",
       "      <td>-1.153982</td>\n",
       "      <td>1.693689</td>\n",
       "      <td>1.807701</td>\n",
       "      <td>0</td>\n",
       "      <td>1</td>\n",
       "      <td>1</td>\n",
       "      <td>1</td>\n",
       "      <td>This house would encourage the creation of pri...</td>\n",
       "      <td>private entities are more efficiently run</td>\n",
       "      <td>private entities are not more efficiently run</td>\n",
       "    </tr>\n",
       "    <tr>\n",
       "      <th>1138</th>\n",
       "      <td>0.586455</td>\n",
       "      <td>-1.387623</td>\n",
       "      <td>0.468076</td>\n",
       "      <td>0.588479</td>\n",
       "      <td>0</td>\n",
       "      <td>1</td>\n",
       "      <td>1</td>\n",
       "      <td>1</td>\n",
       "      <td>This house would only teach abstinence for sex...</td>\n",
       "      <td>The majority of parents reject the so-called \"...</td>\n",
       "      <td>The majority of parents reject the does not me...</td>\n",
       "    </tr>\n",
       "    <tr>\n",
       "      <th>1172</th>\n",
       "      <td>-1.086858</td>\n",
       "      <td>1.712583</td>\n",
       "      <td>0.207286</td>\n",
       "      <td>0.173335</td>\n",
       "      <td>1</td>\n",
       "      <td>0</td>\n",
       "      <td>0</td>\n",
       "      <td>0</td>\n",
       "      <td>This house would only teach abstinence for sex...</td>\n",
       "      <td>The lack of education on safe sex, whether it’...</td>\n",
       "      <td>The glut of education on safe sex, whether it’...</td>\n",
       "    </tr>\n",
       "    <tr>\n",
       "      <th>1185</th>\n",
       "      <td>2.214192</td>\n",
       "      <td>-1.876774</td>\n",
       "      <td>1.380415</td>\n",
       "      <td>1.516285</td>\n",
       "      <td>0</td>\n",
       "      <td>1</td>\n",
       "      <td>1</td>\n",
       "      <td>1</td>\n",
       "      <td>This house would only teach abstinence for sex...</td>\n",
       "      <td>Abstinence is 100% effective in preventing pre...</td>\n",
       "      <td>Abstinence is not 100% effective in preventing...</td>\n",
       "    </tr>\n",
       "    <tr>\n",
       "      <th>1186</th>\n",
       "      <td>1.068366</td>\n",
       "      <td>-0.944495</td>\n",
       "      <td>1.351513</td>\n",
       "      <td>1.725581</td>\n",
       "      <td>0</td>\n",
       "      <td>1</td>\n",
       "      <td>1</td>\n",
       "      <td>1</td>\n",
       "      <td>This house would only teach abstinence for sex...</td>\n",
       "      <td>Abstinence-only education will result in decre...</td>\n",
       "      <td>Abstinence-only education will not result in d...</td>\n",
       "    </tr>\n",
       "  </tbody>\n",
       "</table>\n",
       "<p>62 rows × 11 columns</p>\n",
       "</div>"
      ],
      "text/plain": [
       "      undermine_score  support_score  cp_distance  cop_distance  \\\n",
       "2           -2.058090       3.866679     0.321512      0.009185   \n",
       "35          -1.223651       2.600020     0.137498      0.058267   \n",
       "102          5.331548      -0.850902     1.719888      1.866947   \n",
       "103          3.740766       0.107283     1.475232      1.879727   \n",
       "130          5.400880      -0.915185     1.718892      1.795179   \n",
       "...               ...            ...          ...           ...   \n",
       "1124         4.002038      -1.153982     1.693689      1.807701   \n",
       "1138         0.586455      -1.387623     0.468076      0.588479   \n",
       "1172        -1.086858       1.712583     0.207286      0.173335   \n",
       "1185         2.214192      -1.876774     1.380415      1.516285   \n",
       "1186         1.068366      -0.944495     1.351513      1.725581   \n",
       "\n",
       "      predict_label  distance_label  gold  Label  \\\n",
       "2                 1               0     0      0   \n",
       "35                1               0     0      0   \n",
       "102               0               1     1      1   \n",
       "103               0               1     1      1   \n",
       "130               0               1     1      1   \n",
       "...             ...             ...   ...    ...   \n",
       "1124              0               1     1      1   \n",
       "1138              0               1     1      1   \n",
       "1172              1               0     0      0   \n",
       "1185              0               1     1      1   \n",
       "1186              0               1     1      1   \n",
       "\n",
       "                                                  claim  \\\n",
       "2     This house believes that the sale of violent v...   \n",
       "35    This house believes that the sale of violent v...   \n",
       "102   This house supports the one-child policy of th...   \n",
       "103   This house supports the one-child policy of th...   \n",
       "130   This house supports the one-child policy of th...   \n",
       "...                                                 ...   \n",
       "1124  This house would encourage the creation of pri...   \n",
       "1138  This house would only teach abstinence for sex...   \n",
       "1172  This house would only teach abstinence for sex...   \n",
       "1185  This house would only teach abstinence for sex...   \n",
       "1186  This house would only teach abstinence for sex...   \n",
       "\n",
       "                                            perspective  \\\n",
       "2     some violent video games may actually have a p...   \n",
       "35    children don't automatically imitate aggressio...   \n",
       "102   A large increase in population brings certain ...   \n",
       "103   Excessive population growth may reduce output ...   \n",
       "130   rapid population growth damages the Earth's re...   \n",
       "...                                                 ...   \n",
       "1124          private entities are more efficiently run   \n",
       "1138  The majority of parents reject the so-called \"...   \n",
       "1172  The lack of education on safe sex, whether it’...   \n",
       "1185  Abstinence is 100% effective in preventing pre...   \n",
       "1186  Abstinence-only education will result in decre...   \n",
       "\n",
       "                                   opposite_perspective  \n",
       "2     some violent video games may not actually have...  \n",
       "35    children do automatically imitate aggression, ...  \n",
       "102   A large decrease in population brings certain ...  \n",
       "103   Excessive population growth may not reduce out...  \n",
       "130   rapid population growth protect the Earth's re...  \n",
       "...                                                 ...  \n",
       "1124      private entities are not more efficiently run  \n",
       "1138  The majority of parents reject the does not me...  \n",
       "1172  The glut of education on safe sex, whether it’...  \n",
       "1185  Abstinence is not 100% effective in preventing...  \n",
       "1186  Abstinence-only education will not result in d...  \n",
       "\n",
       "[62 rows x 11 columns]"
      ]
     },
     "execution_count": 1650,
     "metadata": {},
     "output_type": "execute_result"
    }
   ],
   "source": [
    "dcorrect_lwrong_out"
   ]
  },
  {
   "cell_type": "code",
   "execution_count": 1651,
   "metadata": {},
   "outputs": [],
   "source": [
    "# dcorrect_lwrong_out.to_csv(\"dcorrect_lwrong_data.csv\")"
   ]
  },
  {
   "cell_type": "code",
   "execution_count": 1652,
   "metadata": {},
   "outputs": [],
   "source": [
    "# dcorrect_lwrong_out.to_excel(\"dcorrect_lwrong_data.xlsx\")"
   ]
  },
  {
   "cell_type": "code",
   "execution_count": null,
   "metadata": {},
   "outputs": [],
   "source": []
  },
  {
   "cell_type": "code",
   "execution_count": 1653,
   "metadata": {},
   "outputs": [],
   "source": [
    "#distance_wrong_logits_correct"
   ]
  },
  {
   "cell_type": "code",
   "execution_count": 1654,
   "metadata": {},
   "outputs": [],
   "source": [
    "df_distance_wrong_logits_correct = df[(df.distance_label!=df.gold)&(df.predict_label==df.gold)]"
   ]
  },
  {
   "cell_type": "code",
   "execution_count": 1655,
   "metadata": {},
   "outputs": [
    {
     "data": {
      "text/html": [
       "<div>\n",
       "<style scoped>\n",
       "    .dataframe tbody tr th:only-of-type {\n",
       "        vertical-align: middle;\n",
       "    }\n",
       "\n",
       "    .dataframe tbody tr th {\n",
       "        vertical-align: top;\n",
       "    }\n",
       "\n",
       "    .dataframe thead th {\n",
       "        text-align: right;\n",
       "    }\n",
       "</style>\n",
       "<table border=\"1\" class=\"dataframe\">\n",
       "  <thead>\n",
       "    <tr style=\"text-align: right;\">\n",
       "      <th></th>\n",
       "      <th>undermine_score</th>\n",
       "      <th>support_score</th>\n",
       "      <th>cp_distance</th>\n",
       "      <th>cop_distance</th>\n",
       "      <th>predict_label</th>\n",
       "      <th>distance_label</th>\n",
       "      <th>gold</th>\n",
       "    </tr>\n",
       "  </thead>\n",
       "  <tbody>\n",
       "    <tr>\n",
       "      <th>0</th>\n",
       "      <td>-2.286710</td>\n",
       "      <td>4.179139</td>\n",
       "      <td>0.337187</td>\n",
       "      <td>0.012638</td>\n",
       "      <td>1</td>\n",
       "      <td>0</td>\n",
       "      <td>1</td>\n",
       "    </tr>\n",
       "    <tr>\n",
       "      <th>9</th>\n",
       "      <td>-4.241859</td>\n",
       "      <td>5.651101</td>\n",
       "      <td>0.057882</td>\n",
       "      <td>0.012257</td>\n",
       "      <td>1</td>\n",
       "      <td>0</td>\n",
       "      <td>1</td>\n",
       "    </tr>\n",
       "    <tr>\n",
       "      <th>10</th>\n",
       "      <td>3.206885</td>\n",
       "      <td>-1.408709</td>\n",
       "      <td>1.241633</td>\n",
       "      <td>1.407653</td>\n",
       "      <td>0</td>\n",
       "      <td>1</td>\n",
       "      <td>0</td>\n",
       "    </tr>\n",
       "    <tr>\n",
       "      <th>12</th>\n",
       "      <td>4.718122</td>\n",
       "      <td>-2.867034</td>\n",
       "      <td>1.427996</td>\n",
       "      <td>1.675262</td>\n",
       "      <td>0</td>\n",
       "      <td>1</td>\n",
       "      <td>0</td>\n",
       "    </tr>\n",
       "    <tr>\n",
       "      <th>46</th>\n",
       "      <td>4.170628</td>\n",
       "      <td>-2.154449</td>\n",
       "      <td>1.313084</td>\n",
       "      <td>1.509177</td>\n",
       "      <td>0</td>\n",
       "      <td>1</td>\n",
       "      <td>0</td>\n",
       "    </tr>\n",
       "    <tr>\n",
       "      <th>...</th>\n",
       "      <td>...</td>\n",
       "      <td>...</td>\n",
       "      <td>...</td>\n",
       "      <td>...</td>\n",
       "      <td>...</td>\n",
       "      <td>...</td>\n",
       "      <td>...</td>\n",
       "    </tr>\n",
       "    <tr>\n",
       "      <th>1173</th>\n",
       "      <td>2.213775</td>\n",
       "      <td>-2.186265</td>\n",
       "      <td>1.482455</td>\n",
       "      <td>1.656197</td>\n",
       "      <td>0</td>\n",
       "      <td>1</td>\n",
       "      <td>0</td>\n",
       "    </tr>\n",
       "    <tr>\n",
       "      <th>1175</th>\n",
       "      <td>3.671103</td>\n",
       "      <td>-3.371501</td>\n",
       "      <td>1.175059</td>\n",
       "      <td>1.326310</td>\n",
       "      <td>0</td>\n",
       "      <td>1</td>\n",
       "      <td>0</td>\n",
       "    </tr>\n",
       "    <tr>\n",
       "      <th>1176</th>\n",
       "      <td>-0.301426</td>\n",
       "      <td>-1.008912</td>\n",
       "      <td>0.625287</td>\n",
       "      <td>1.691114</td>\n",
       "      <td>0</td>\n",
       "      <td>1</td>\n",
       "      <td>0</td>\n",
       "    </tr>\n",
       "    <tr>\n",
       "      <th>1187</th>\n",
       "      <td>1.370541</td>\n",
       "      <td>-0.049608</td>\n",
       "      <td>1.202502</td>\n",
       "      <td>1.270629</td>\n",
       "      <td>0</td>\n",
       "      <td>1</td>\n",
       "      <td>0</td>\n",
       "    </tr>\n",
       "    <tr>\n",
       "      <th>1190</th>\n",
       "      <td>2.449668</td>\n",
       "      <td>-1.096902</td>\n",
       "      <td>1.351404</td>\n",
       "      <td>1.474139</td>\n",
       "      <td>0</td>\n",
       "      <td>1</td>\n",
       "      <td>0</td>\n",
       "    </tr>\n",
       "  </tbody>\n",
       "</table>\n",
       "<p>119 rows × 7 columns</p>\n",
       "</div>"
      ],
      "text/plain": [
       "      undermine_score  support_score  cp_distance  cop_distance  \\\n",
       "0           -2.286710       4.179139     0.337187      0.012638   \n",
       "9           -4.241859       5.651101     0.057882      0.012257   \n",
       "10           3.206885      -1.408709     1.241633      1.407653   \n",
       "12           4.718122      -2.867034     1.427996      1.675262   \n",
       "46           4.170628      -2.154449     1.313084      1.509177   \n",
       "...               ...            ...          ...           ...   \n",
       "1173         2.213775      -2.186265     1.482455      1.656197   \n",
       "1175         3.671103      -3.371501     1.175059      1.326310   \n",
       "1176        -0.301426      -1.008912     0.625287      1.691114   \n",
       "1187         1.370541      -0.049608     1.202502      1.270629   \n",
       "1190         2.449668      -1.096902     1.351404      1.474139   \n",
       "\n",
       "      predict_label  distance_label  gold  \n",
       "0                 1               0     1  \n",
       "9                 1               0     1  \n",
       "10                0               1     0  \n",
       "12                0               1     0  \n",
       "46                0               1     0  \n",
       "...             ...             ...   ...  \n",
       "1173              0               1     0  \n",
       "1175              0               1     0  \n",
       "1176              0               1     0  \n",
       "1187              0               1     0  \n",
       "1190              0               1     0  \n",
       "\n",
       "[119 rows x 7 columns]"
      ]
     },
     "execution_count": 1655,
     "metadata": {},
     "output_type": "execute_result"
    }
   ],
   "source": [
    "df_distance_wrong_logits_correct"
   ]
  },
  {
   "cell_type": "code",
   "execution_count": 1656,
   "metadata": {},
   "outputs": [],
   "source": [
    "#combine distance_wrong_logits_correct with test set"
   ]
  },
  {
   "cell_type": "code",
   "execution_count": 1657,
   "metadata": {},
   "outputs": [],
   "source": [
    "dwrong_lcorrect_out = df_distance_wrong_logits_correct.join(df_origin).drop(\"x\",axis=1).drop(\"y\",axis=1)"
   ]
  },
  {
   "cell_type": "code",
   "execution_count": 1658,
   "metadata": {},
   "outputs": [
    {
     "data": {
      "text/html": [
       "<div>\n",
       "<style scoped>\n",
       "    .dataframe tbody tr th:only-of-type {\n",
       "        vertical-align: middle;\n",
       "    }\n",
       "\n",
       "    .dataframe tbody tr th {\n",
       "        vertical-align: top;\n",
       "    }\n",
       "\n",
       "    .dataframe thead th {\n",
       "        text-align: right;\n",
       "    }\n",
       "</style>\n",
       "<table border=\"1\" class=\"dataframe\">\n",
       "  <thead>\n",
       "    <tr style=\"text-align: right;\">\n",
       "      <th></th>\n",
       "      <th>undermine_score</th>\n",
       "      <th>support_score</th>\n",
       "      <th>cp_distance</th>\n",
       "      <th>cop_distance</th>\n",
       "      <th>predict_label</th>\n",
       "      <th>distance_label</th>\n",
       "      <th>gold</th>\n",
       "      <th>Label</th>\n",
       "      <th>claim</th>\n",
       "      <th>perspective</th>\n",
       "      <th>opposite_perspective</th>\n",
       "    </tr>\n",
       "  </thead>\n",
       "  <tbody>\n",
       "    <tr>\n",
       "      <th>0</th>\n",
       "      <td>-2.286710</td>\n",
       "      <td>4.179139</td>\n",
       "      <td>0.337187</td>\n",
       "      <td>0.012638</td>\n",
       "      <td>1</td>\n",
       "      <td>0</td>\n",
       "      <td>1</td>\n",
       "      <td>1</td>\n",
       "      <td>This house believes that the sale of violent v...</td>\n",
       "      <td>Exposure to violent video games causes at leas...</td>\n",
       "      <td>Exposure not to violent video games causes at ...</td>\n",
       "    </tr>\n",
       "    <tr>\n",
       "      <th>9</th>\n",
       "      <td>-4.241859</td>\n",
       "      <td>5.651101</td>\n",
       "      <td>0.057882</td>\n",
       "      <td>0.012257</td>\n",
       "      <td>1</td>\n",
       "      <td>0</td>\n",
       "      <td>1</td>\n",
       "      <td>1</td>\n",
       "      <td>This house believes that the sale of violent v...</td>\n",
       "      <td>exposure to violent video games results in inc...</td>\n",
       "      <td>exposure not to violent video games results in...</td>\n",
       "    </tr>\n",
       "    <tr>\n",
       "      <th>10</th>\n",
       "      <td>3.206885</td>\n",
       "      <td>-1.408709</td>\n",
       "      <td>1.241633</td>\n",
       "      <td>1.407653</td>\n",
       "      <td>0</td>\n",
       "      <td>1</td>\n",
       "      <td>0</td>\n",
       "      <td>0</td>\n",
       "      <td>This house believes that the sale of violent v...</td>\n",
       "      <td>No long-term relationship was found between pl...</td>\n",
       "      <td>No long-term relationship was not found betwee...</td>\n",
       "    </tr>\n",
       "    <tr>\n",
       "      <th>12</th>\n",
       "      <td>4.718122</td>\n",
       "      <td>-2.867034</td>\n",
       "      <td>1.427996</td>\n",
       "      <td>1.675262</td>\n",
       "      <td>0</td>\n",
       "      <td>1</td>\n",
       "      <td>0</td>\n",
       "      <td>0</td>\n",
       "      <td>This house believes that the sale of violent v...</td>\n",
       "      <td>No evidence has found that violent games are p...</td>\n",
       "      <td>No evidence doesn't have found that violent ga...</td>\n",
       "    </tr>\n",
       "    <tr>\n",
       "      <th>46</th>\n",
       "      <td>4.170628</td>\n",
       "      <td>-2.154449</td>\n",
       "      <td>1.313084</td>\n",
       "      <td>1.509177</td>\n",
       "      <td>0</td>\n",
       "      <td>1</td>\n",
       "      <td>0</td>\n",
       "      <td>0</td>\n",
       "      <td>This house believes that the sale of violent v...</td>\n",
       "      <td>There is no connection between exposure to med...</td>\n",
       "      <td>There is not no connection between exposure to...</td>\n",
       "    </tr>\n",
       "    <tr>\n",
       "      <th>...</th>\n",
       "      <td>...</td>\n",
       "      <td>...</td>\n",
       "      <td>...</td>\n",
       "      <td>...</td>\n",
       "      <td>...</td>\n",
       "      <td>...</td>\n",
       "      <td>...</td>\n",
       "      <td>...</td>\n",
       "      <td>...</td>\n",
       "      <td>...</td>\n",
       "      <td>...</td>\n",
       "    </tr>\n",
       "    <tr>\n",
       "      <th>1173</th>\n",
       "      <td>2.213775</td>\n",
       "      <td>-2.186265</td>\n",
       "      <td>1.482455</td>\n",
       "      <td>1.656197</td>\n",
       "      <td>0</td>\n",
       "      <td>1</td>\n",
       "      <td>0</td>\n",
       "      <td>0</td>\n",
       "      <td>This house would only teach abstinence for sex...</td>\n",
       "      <td>comprehensive sex education would effectively ...</td>\n",
       "      <td>comprehensive sex education would not effectiv...</td>\n",
       "    </tr>\n",
       "    <tr>\n",
       "      <th>1175</th>\n",
       "      <td>3.671103</td>\n",
       "      <td>-3.371501</td>\n",
       "      <td>1.175059</td>\n",
       "      <td>1.326310</td>\n",
       "      <td>0</td>\n",
       "      <td>1</td>\n",
       "      <td>0</td>\n",
       "      <td>0</td>\n",
       "      <td>This house would only teach abstinence for sex...</td>\n",
       "      <td>Evidence does not support the use of abstinenc...</td>\n",
       "      <td>Evidence does support the use of abstinence on...</td>\n",
       "    </tr>\n",
       "    <tr>\n",
       "      <th>1176</th>\n",
       "      <td>-0.301426</td>\n",
       "      <td>-1.008912</td>\n",
       "      <td>0.625287</td>\n",
       "      <td>1.691114</td>\n",
       "      <td>0</td>\n",
       "      <td>1</td>\n",
       "      <td>0</td>\n",
       "      <td>0</td>\n",
       "      <td>This house would only teach abstinence for sex...</td>\n",
       "      <td>Abstinence-only programs have no positive effects</td>\n",
       "      <td>Abstinence-only programs don't have no positiv...</td>\n",
       "    </tr>\n",
       "    <tr>\n",
       "      <th>1187</th>\n",
       "      <td>1.370541</td>\n",
       "      <td>-0.049608</td>\n",
       "      <td>1.202502</td>\n",
       "      <td>1.270629</td>\n",
       "      <td>0</td>\n",
       "      <td>1</td>\n",
       "      <td>0</td>\n",
       "      <td>0</td>\n",
       "      <td>This house would only teach abstinence for sex...</td>\n",
       "      <td>Abstinence-only sex education programs show an...</td>\n",
       "      <td>Abstinence-only sex education programs show an...</td>\n",
       "    </tr>\n",
       "    <tr>\n",
       "      <th>1190</th>\n",
       "      <td>2.449668</td>\n",
       "      <td>-1.096902</td>\n",
       "      <td>1.351404</td>\n",
       "      <td>1.474139</td>\n",
       "      <td>0</td>\n",
       "      <td>1</td>\n",
       "      <td>0</td>\n",
       "      <td>0</td>\n",
       "      <td>This house would only teach abstinence for sex...</td>\n",
       "      <td>Education programs which focus exclusively on ...</td>\n",
       "      <td>Education programs which focus exclusively on ...</td>\n",
       "    </tr>\n",
       "  </tbody>\n",
       "</table>\n",
       "<p>119 rows × 11 columns</p>\n",
       "</div>"
      ],
      "text/plain": [
       "      undermine_score  support_score  cp_distance  cop_distance  \\\n",
       "0           -2.286710       4.179139     0.337187      0.012638   \n",
       "9           -4.241859       5.651101     0.057882      0.012257   \n",
       "10           3.206885      -1.408709     1.241633      1.407653   \n",
       "12           4.718122      -2.867034     1.427996      1.675262   \n",
       "46           4.170628      -2.154449     1.313084      1.509177   \n",
       "...               ...            ...          ...           ...   \n",
       "1173         2.213775      -2.186265     1.482455      1.656197   \n",
       "1175         3.671103      -3.371501     1.175059      1.326310   \n",
       "1176        -0.301426      -1.008912     0.625287      1.691114   \n",
       "1187         1.370541      -0.049608     1.202502      1.270629   \n",
       "1190         2.449668      -1.096902     1.351404      1.474139   \n",
       "\n",
       "      predict_label  distance_label  gold  Label  \\\n",
       "0                 1               0     1      1   \n",
       "9                 1               0     1      1   \n",
       "10                0               1     0      0   \n",
       "12                0               1     0      0   \n",
       "46                0               1     0      0   \n",
       "...             ...             ...   ...    ...   \n",
       "1173              0               1     0      0   \n",
       "1175              0               1     0      0   \n",
       "1176              0               1     0      0   \n",
       "1187              0               1     0      0   \n",
       "1190              0               1     0      0   \n",
       "\n",
       "                                                  claim  \\\n",
       "0     This house believes that the sale of violent v...   \n",
       "9     This house believes that the sale of violent v...   \n",
       "10    This house believes that the sale of violent v...   \n",
       "12    This house believes that the sale of violent v...   \n",
       "46    This house believes that the sale of violent v...   \n",
       "...                                                 ...   \n",
       "1173  This house would only teach abstinence for sex...   \n",
       "1175  This house would only teach abstinence for sex...   \n",
       "1176  This house would only teach abstinence for sex...   \n",
       "1187  This house would only teach abstinence for sex...   \n",
       "1190  This house would only teach abstinence for sex...   \n",
       "\n",
       "                                            perspective  \\\n",
       "0     Exposure to violent video games causes at leas...   \n",
       "9     exposure to violent video games results in inc...   \n",
       "10    No long-term relationship was found between pl...   \n",
       "12    No evidence has found that violent games are p...   \n",
       "46    There is no connection between exposure to med...   \n",
       "...                                                 ...   \n",
       "1173  comprehensive sex education would effectively ...   \n",
       "1175  Evidence does not support the use of abstinenc...   \n",
       "1176  Abstinence-only programs have no positive effects   \n",
       "1187  Abstinence-only sex education programs show an...   \n",
       "1190  Education programs which focus exclusively on ...   \n",
       "\n",
       "                                   opposite_perspective  \n",
       "0     Exposure not to violent video games causes at ...  \n",
       "9     exposure not to violent video games results in...  \n",
       "10    No long-term relationship was not found betwee...  \n",
       "12    No evidence doesn't have found that violent ga...  \n",
       "46    There is not no connection between exposure to...  \n",
       "...                                                 ...  \n",
       "1173  comprehensive sex education would not effectiv...  \n",
       "1175  Evidence does support the use of abstinence on...  \n",
       "1176  Abstinence-only programs don't have no positiv...  \n",
       "1187  Abstinence-only sex education programs show an...  \n",
       "1190  Education programs which focus exclusively on ...  \n",
       "\n",
       "[119 rows x 11 columns]"
      ]
     },
     "execution_count": 1658,
     "metadata": {},
     "output_type": "execute_result"
    }
   ],
   "source": [
    "dwrong_lcorrect_out"
   ]
  },
  {
   "cell_type": "code",
   "execution_count": 1659,
   "metadata": {},
   "outputs": [],
   "source": [
    "# dwrong_lcorrect_out.to_csv(\"dwrong_lcorrect_data.csv\")"
   ]
  },
  {
   "cell_type": "code",
   "execution_count": 1660,
   "metadata": {},
   "outputs": [],
   "source": [
    "# dwrong_lcorrect_out.to_excel(\"dwrong_lcorrect_data.xlsx\")"
   ]
  },
  {
   "cell_type": "code",
   "execution_count": null,
   "metadata": {},
   "outputs": [],
   "source": []
  },
  {
   "cell_type": "code",
   "execution_count": 1661,
   "metadata": {},
   "outputs": [],
   "source": [
    "#dcorrect_lwrong_out cases"
   ]
  },
  {
   "cell_type": "code",
   "execution_count": 1662,
   "metadata": {},
   "outputs": [
    {
     "data": {
      "text/html": [
       "<div>\n",
       "<style scoped>\n",
       "    .dataframe tbody tr th:only-of-type {\n",
       "        vertical-align: middle;\n",
       "    }\n",
       "\n",
       "    .dataframe tbody tr th {\n",
       "        vertical-align: top;\n",
       "    }\n",
       "\n",
       "    .dataframe thead th {\n",
       "        text-align: right;\n",
       "    }\n",
       "</style>\n",
       "<table border=\"1\" class=\"dataframe\">\n",
       "  <thead>\n",
       "    <tr style=\"text-align: right;\">\n",
       "      <th></th>\n",
       "      <th>undermine_score</th>\n",
       "      <th>support_score</th>\n",
       "      <th>cp_distance</th>\n",
       "      <th>cop_distance</th>\n",
       "      <th>predict_label</th>\n",
       "      <th>distance_label</th>\n",
       "      <th>gold</th>\n",
       "      <th>Label</th>\n",
       "      <th>claim</th>\n",
       "      <th>perspective</th>\n",
       "      <th>opposite_perspective</th>\n",
       "    </tr>\n",
       "  </thead>\n",
       "  <tbody>\n",
       "    <tr>\n",
       "      <th>2</th>\n",
       "      <td>-2.058090</td>\n",
       "      <td>3.866679</td>\n",
       "      <td>0.321512</td>\n",
       "      <td>0.009185</td>\n",
       "      <td>1</td>\n",
       "      <td>0</td>\n",
       "      <td>0</td>\n",
       "      <td>0</td>\n",
       "      <td>This house believes that the sale of violent v...</td>\n",
       "      <td>some violent video games may actually have a p...</td>\n",
       "      <td>some violent video games may not actually have...</td>\n",
       "    </tr>\n",
       "    <tr>\n",
       "      <th>35</th>\n",
       "      <td>-1.223651</td>\n",
       "      <td>2.600020</td>\n",
       "      <td>0.137498</td>\n",
       "      <td>0.058267</td>\n",
       "      <td>1</td>\n",
       "      <td>0</td>\n",
       "      <td>0</td>\n",
       "      <td>0</td>\n",
       "      <td>This house believes that the sale of violent v...</td>\n",
       "      <td>children don't automatically imitate aggressio...</td>\n",
       "      <td>children do automatically imitate aggression, ...</td>\n",
       "    </tr>\n",
       "    <tr>\n",
       "      <th>102</th>\n",
       "      <td>5.331548</td>\n",
       "      <td>-0.850902</td>\n",
       "      <td>1.719888</td>\n",
       "      <td>1.866947</td>\n",
       "      <td>0</td>\n",
       "      <td>1</td>\n",
       "      <td>1</td>\n",
       "      <td>1</td>\n",
       "      <td>This house supports the one-child policy of th...</td>\n",
       "      <td>A large increase in population brings certain ...</td>\n",
       "      <td>A large decrease in population brings certain ...</td>\n",
       "    </tr>\n",
       "    <tr>\n",
       "      <th>103</th>\n",
       "      <td>3.740766</td>\n",
       "      <td>0.107283</td>\n",
       "      <td>1.475232</td>\n",
       "      <td>1.879727</td>\n",
       "      <td>0</td>\n",
       "      <td>1</td>\n",
       "      <td>1</td>\n",
       "      <td>1</td>\n",
       "      <td>This house supports the one-child policy of th...</td>\n",
       "      <td>Excessive population growth may reduce output ...</td>\n",
       "      <td>Excessive population growth may not reduce out...</td>\n",
       "    </tr>\n",
       "    <tr>\n",
       "      <th>130</th>\n",
       "      <td>5.400880</td>\n",
       "      <td>-0.915185</td>\n",
       "      <td>1.718892</td>\n",
       "      <td>1.795179</td>\n",
       "      <td>0</td>\n",
       "      <td>1</td>\n",
       "      <td>1</td>\n",
       "      <td>1</td>\n",
       "      <td>This house supports the one-child policy of th...</td>\n",
       "      <td>rapid population growth damages the Earth's re...</td>\n",
       "      <td>rapid population growth protect the Earth's re...</td>\n",
       "    </tr>\n",
       "    <tr>\n",
       "      <th>...</th>\n",
       "      <td>...</td>\n",
       "      <td>...</td>\n",
       "      <td>...</td>\n",
       "      <td>...</td>\n",
       "      <td>...</td>\n",
       "      <td>...</td>\n",
       "      <td>...</td>\n",
       "      <td>...</td>\n",
       "      <td>...</td>\n",
       "      <td>...</td>\n",
       "      <td>...</td>\n",
       "    </tr>\n",
       "    <tr>\n",
       "      <th>1124</th>\n",
       "      <td>4.002038</td>\n",
       "      <td>-1.153982</td>\n",
       "      <td>1.693689</td>\n",
       "      <td>1.807701</td>\n",
       "      <td>0</td>\n",
       "      <td>1</td>\n",
       "      <td>1</td>\n",
       "      <td>1</td>\n",
       "      <td>This house would encourage the creation of pri...</td>\n",
       "      <td>private entities are more efficiently run</td>\n",
       "      <td>private entities are not more efficiently run</td>\n",
       "    </tr>\n",
       "    <tr>\n",
       "      <th>1138</th>\n",
       "      <td>0.586455</td>\n",
       "      <td>-1.387623</td>\n",
       "      <td>0.468076</td>\n",
       "      <td>0.588479</td>\n",
       "      <td>0</td>\n",
       "      <td>1</td>\n",
       "      <td>1</td>\n",
       "      <td>1</td>\n",
       "      <td>This house would only teach abstinence for sex...</td>\n",
       "      <td>The majority of parents reject the so-called \"...</td>\n",
       "      <td>The majority of parents reject the does not me...</td>\n",
       "    </tr>\n",
       "    <tr>\n",
       "      <th>1172</th>\n",
       "      <td>-1.086858</td>\n",
       "      <td>1.712583</td>\n",
       "      <td>0.207286</td>\n",
       "      <td>0.173335</td>\n",
       "      <td>1</td>\n",
       "      <td>0</td>\n",
       "      <td>0</td>\n",
       "      <td>0</td>\n",
       "      <td>This house would only teach abstinence for sex...</td>\n",
       "      <td>The lack of education on safe sex, whether it’...</td>\n",
       "      <td>The glut of education on safe sex, whether it’...</td>\n",
       "    </tr>\n",
       "    <tr>\n",
       "      <th>1185</th>\n",
       "      <td>2.214192</td>\n",
       "      <td>-1.876774</td>\n",
       "      <td>1.380415</td>\n",
       "      <td>1.516285</td>\n",
       "      <td>0</td>\n",
       "      <td>1</td>\n",
       "      <td>1</td>\n",
       "      <td>1</td>\n",
       "      <td>This house would only teach abstinence for sex...</td>\n",
       "      <td>Abstinence is 100% effective in preventing pre...</td>\n",
       "      <td>Abstinence is not 100% effective in preventing...</td>\n",
       "    </tr>\n",
       "    <tr>\n",
       "      <th>1186</th>\n",
       "      <td>1.068366</td>\n",
       "      <td>-0.944495</td>\n",
       "      <td>1.351513</td>\n",
       "      <td>1.725581</td>\n",
       "      <td>0</td>\n",
       "      <td>1</td>\n",
       "      <td>1</td>\n",
       "      <td>1</td>\n",
       "      <td>This house would only teach abstinence for sex...</td>\n",
       "      <td>Abstinence-only education will result in decre...</td>\n",
       "      <td>Abstinence-only education will not result in d...</td>\n",
       "    </tr>\n",
       "  </tbody>\n",
       "</table>\n",
       "<p>62 rows × 11 columns</p>\n",
       "</div>"
      ],
      "text/plain": [
       "      undermine_score  support_score  cp_distance  cop_distance  \\\n",
       "2           -2.058090       3.866679     0.321512      0.009185   \n",
       "35          -1.223651       2.600020     0.137498      0.058267   \n",
       "102          5.331548      -0.850902     1.719888      1.866947   \n",
       "103          3.740766       0.107283     1.475232      1.879727   \n",
       "130          5.400880      -0.915185     1.718892      1.795179   \n",
       "...               ...            ...          ...           ...   \n",
       "1124         4.002038      -1.153982     1.693689      1.807701   \n",
       "1138         0.586455      -1.387623     0.468076      0.588479   \n",
       "1172        -1.086858       1.712583     0.207286      0.173335   \n",
       "1185         2.214192      -1.876774     1.380415      1.516285   \n",
       "1186         1.068366      -0.944495     1.351513      1.725581   \n",
       "\n",
       "      predict_label  distance_label  gold  Label  \\\n",
       "2                 1               0     0      0   \n",
       "35                1               0     0      0   \n",
       "102               0               1     1      1   \n",
       "103               0               1     1      1   \n",
       "130               0               1     1      1   \n",
       "...             ...             ...   ...    ...   \n",
       "1124              0               1     1      1   \n",
       "1138              0               1     1      1   \n",
       "1172              1               0     0      0   \n",
       "1185              0               1     1      1   \n",
       "1186              0               1     1      1   \n",
       "\n",
       "                                                  claim  \\\n",
       "2     This house believes that the sale of violent v...   \n",
       "35    This house believes that the sale of violent v...   \n",
       "102   This house supports the one-child policy of th...   \n",
       "103   This house supports the one-child policy of th...   \n",
       "130   This house supports the one-child policy of th...   \n",
       "...                                                 ...   \n",
       "1124  This house would encourage the creation of pri...   \n",
       "1138  This house would only teach abstinence for sex...   \n",
       "1172  This house would only teach abstinence for sex...   \n",
       "1185  This house would only teach abstinence for sex...   \n",
       "1186  This house would only teach abstinence for sex...   \n",
       "\n",
       "                                            perspective  \\\n",
       "2     some violent video games may actually have a p...   \n",
       "35    children don't automatically imitate aggressio...   \n",
       "102   A large increase in population brings certain ...   \n",
       "103   Excessive population growth may reduce output ...   \n",
       "130   rapid population growth damages the Earth's re...   \n",
       "...                                                 ...   \n",
       "1124          private entities are more efficiently run   \n",
       "1138  The majority of parents reject the so-called \"...   \n",
       "1172  The lack of education on safe sex, whether it’...   \n",
       "1185  Abstinence is 100% effective in preventing pre...   \n",
       "1186  Abstinence-only education will result in decre...   \n",
       "\n",
       "                                   opposite_perspective  \n",
       "2     some violent video games may not actually have...  \n",
       "35    children do automatically imitate aggression, ...  \n",
       "102   A large decrease in population brings certain ...  \n",
       "103   Excessive population growth may not reduce out...  \n",
       "130   rapid population growth protect the Earth's re...  \n",
       "...                                                 ...  \n",
       "1124      private entities are not more efficiently run  \n",
       "1138  The majority of parents reject the does not me...  \n",
       "1172  The glut of education on safe sex, whether it’...  \n",
       "1185  Abstinence is not 100% effective in preventing...  \n",
       "1186  Abstinence-only education will not result in d...  \n",
       "\n",
       "[62 rows x 11 columns]"
      ]
     },
     "execution_count": 1662,
     "metadata": {},
     "output_type": "execute_result"
    }
   ],
   "source": [
    "dcorrect_lwrong_out"
   ]
  },
  {
   "cell_type": "code",
   "execution_count": 1663,
   "metadata": {},
   "outputs": [
    {
     "data": {
      "text/plain": [
       "0.15229514999999982"
      ]
     },
     "execution_count": 1663,
     "metadata": {},
     "output_type": "execute_result"
    }
   ],
   "source": [
    "abs(dcorrect_lwrong_out.cp_distance-dcorrect_lwrong_out.cop_distance).median()"
   ]
  },
  {
   "cell_type": "code",
   "execution_count": 1664,
   "metadata": {},
   "outputs": [
    {
     "data": {
      "text/plain": [
       "0.23004720534516127"
      ]
     },
     "execution_count": 1664,
     "metadata": {},
     "output_type": "execute_result"
    }
   ],
   "source": [
    "abs(dcorrect_lwrong_out.cp_distance-dcorrect_lwrong_out.cop_distance).mean()"
   ]
  },
  {
   "cell_type": "code",
   "execution_count": 1665,
   "metadata": {},
   "outputs": [
    {
     "data": {
      "text/plain": [
       "1.1006422999999996"
      ]
     },
     "execution_count": 1665,
     "metadata": {},
     "output_type": "execute_result"
    }
   ],
   "source": [
    "abs(dcorrect_lwrong_out.cp_distance-dcorrect_lwrong_out.cop_distance).max()"
   ]
  },
  {
   "cell_type": "code",
   "execution_count": 1666,
   "metadata": {},
   "outputs": [
    {
     "data": {
      "text/plain": [
       "0.00023657500000000276"
      ]
     },
     "execution_count": 1666,
     "metadata": {},
     "output_type": "execute_result"
    }
   ],
   "source": [
    "abs(dcorrect_lwrong_out.cp_distance-dcorrect_lwrong_out.cop_distance).min()"
   ]
  },
  {
   "cell_type": "code",
   "execution_count": null,
   "metadata": {},
   "outputs": [],
   "source": []
  },
  {
   "cell_type": "code",
   "execution_count": 1667,
   "metadata": {},
   "outputs": [
    {
     "data": {
      "text/plain": [
       "4.8096688"
      ]
     },
     "execution_count": 1667,
     "metadata": {},
     "output_type": "execute_result"
    }
   ],
   "source": [
    "abs(dcorrect_lwrong_out.undermine_score-dcorrect_lwrong_out.support_score).median()"
   ]
  },
  {
   "cell_type": "code",
   "execution_count": 1668,
   "metadata": {},
   "outputs": [
    {
     "data": {
      "text/plain": [
       "4.554451883983871"
      ]
     },
     "execution_count": 1668,
     "metadata": {},
     "output_type": "execute_result"
    }
   ],
   "source": [
    "abs(dcorrect_lwrong_out.undermine_score-dcorrect_lwrong_out.support_score).mean()"
   ]
  },
  {
   "cell_type": "code",
   "execution_count": 1669,
   "metadata": {},
   "outputs": [
    {
     "data": {
      "text/plain": [
       "9.578487599999999"
      ]
     },
     "execution_count": 1669,
     "metadata": {},
     "output_type": "execute_result"
    }
   ],
   "source": [
    "abs(dcorrect_lwrong_out.undermine_score-dcorrect_lwrong_out.support_score).max()"
   ]
  },
  {
   "cell_type": "code",
   "execution_count": 1670,
   "metadata": {},
   "outputs": [
    {
     "data": {
      "text/plain": [
       "0.03969419999999979"
      ]
     },
     "execution_count": 1670,
     "metadata": {},
     "output_type": "execute_result"
    }
   ],
   "source": [
    "abs(dcorrect_lwrong_out.undermine_score-dcorrect_lwrong_out.support_score).min()"
   ]
  },
  {
   "cell_type": "code",
   "execution_count": null,
   "metadata": {},
   "outputs": [],
   "source": []
  },
  {
   "cell_type": "code",
   "execution_count": 1671,
   "metadata": {},
   "outputs": [],
   "source": [
    "#dwrong_lcorrect_out cases"
   ]
  },
  {
   "cell_type": "code",
   "execution_count": 1672,
   "metadata": {},
   "outputs": [
    {
     "data": {
      "text/html": [
       "<div>\n",
       "<style scoped>\n",
       "    .dataframe tbody tr th:only-of-type {\n",
       "        vertical-align: middle;\n",
       "    }\n",
       "\n",
       "    .dataframe tbody tr th {\n",
       "        vertical-align: top;\n",
       "    }\n",
       "\n",
       "    .dataframe thead th {\n",
       "        text-align: right;\n",
       "    }\n",
       "</style>\n",
       "<table border=\"1\" class=\"dataframe\">\n",
       "  <thead>\n",
       "    <tr style=\"text-align: right;\">\n",
       "      <th></th>\n",
       "      <th>undermine_score</th>\n",
       "      <th>support_score</th>\n",
       "      <th>cp_distance</th>\n",
       "      <th>cop_distance</th>\n",
       "      <th>predict_label</th>\n",
       "      <th>distance_label</th>\n",
       "      <th>gold</th>\n",
       "      <th>Label</th>\n",
       "      <th>claim</th>\n",
       "      <th>perspective</th>\n",
       "      <th>opposite_perspective</th>\n",
       "    </tr>\n",
       "  </thead>\n",
       "  <tbody>\n",
       "    <tr>\n",
       "      <th>0</th>\n",
       "      <td>-2.286710</td>\n",
       "      <td>4.179139</td>\n",
       "      <td>0.337187</td>\n",
       "      <td>0.012638</td>\n",
       "      <td>1</td>\n",
       "      <td>0</td>\n",
       "      <td>1</td>\n",
       "      <td>1</td>\n",
       "      <td>This house believes that the sale of violent v...</td>\n",
       "      <td>Exposure to violent video games causes at leas...</td>\n",
       "      <td>Exposure not to violent video games causes at ...</td>\n",
       "    </tr>\n",
       "    <tr>\n",
       "      <th>9</th>\n",
       "      <td>-4.241859</td>\n",
       "      <td>5.651101</td>\n",
       "      <td>0.057882</td>\n",
       "      <td>0.012257</td>\n",
       "      <td>1</td>\n",
       "      <td>0</td>\n",
       "      <td>1</td>\n",
       "      <td>1</td>\n",
       "      <td>This house believes that the sale of violent v...</td>\n",
       "      <td>exposure to violent video games results in inc...</td>\n",
       "      <td>exposure not to violent video games results in...</td>\n",
       "    </tr>\n",
       "    <tr>\n",
       "      <th>10</th>\n",
       "      <td>3.206885</td>\n",
       "      <td>-1.408709</td>\n",
       "      <td>1.241633</td>\n",
       "      <td>1.407653</td>\n",
       "      <td>0</td>\n",
       "      <td>1</td>\n",
       "      <td>0</td>\n",
       "      <td>0</td>\n",
       "      <td>This house believes that the sale of violent v...</td>\n",
       "      <td>No long-term relationship was found between pl...</td>\n",
       "      <td>No long-term relationship was not found betwee...</td>\n",
       "    </tr>\n",
       "    <tr>\n",
       "      <th>12</th>\n",
       "      <td>4.718122</td>\n",
       "      <td>-2.867034</td>\n",
       "      <td>1.427996</td>\n",
       "      <td>1.675262</td>\n",
       "      <td>0</td>\n",
       "      <td>1</td>\n",
       "      <td>0</td>\n",
       "      <td>0</td>\n",
       "      <td>This house believes that the sale of violent v...</td>\n",
       "      <td>No evidence has found that violent games are p...</td>\n",
       "      <td>No evidence doesn't have found that violent ga...</td>\n",
       "    </tr>\n",
       "    <tr>\n",
       "      <th>46</th>\n",
       "      <td>4.170628</td>\n",
       "      <td>-2.154449</td>\n",
       "      <td>1.313084</td>\n",
       "      <td>1.509177</td>\n",
       "      <td>0</td>\n",
       "      <td>1</td>\n",
       "      <td>0</td>\n",
       "      <td>0</td>\n",
       "      <td>This house believes that the sale of violent v...</td>\n",
       "      <td>There is no connection between exposure to med...</td>\n",
       "      <td>There is not no connection between exposure to...</td>\n",
       "    </tr>\n",
       "    <tr>\n",
       "      <th>...</th>\n",
       "      <td>...</td>\n",
       "      <td>...</td>\n",
       "      <td>...</td>\n",
       "      <td>...</td>\n",
       "      <td>...</td>\n",
       "      <td>...</td>\n",
       "      <td>...</td>\n",
       "      <td>...</td>\n",
       "      <td>...</td>\n",
       "      <td>...</td>\n",
       "      <td>...</td>\n",
       "    </tr>\n",
       "    <tr>\n",
       "      <th>1173</th>\n",
       "      <td>2.213775</td>\n",
       "      <td>-2.186265</td>\n",
       "      <td>1.482455</td>\n",
       "      <td>1.656197</td>\n",
       "      <td>0</td>\n",
       "      <td>1</td>\n",
       "      <td>0</td>\n",
       "      <td>0</td>\n",
       "      <td>This house would only teach abstinence for sex...</td>\n",
       "      <td>comprehensive sex education would effectively ...</td>\n",
       "      <td>comprehensive sex education would not effectiv...</td>\n",
       "    </tr>\n",
       "    <tr>\n",
       "      <th>1175</th>\n",
       "      <td>3.671103</td>\n",
       "      <td>-3.371501</td>\n",
       "      <td>1.175059</td>\n",
       "      <td>1.326310</td>\n",
       "      <td>0</td>\n",
       "      <td>1</td>\n",
       "      <td>0</td>\n",
       "      <td>0</td>\n",
       "      <td>This house would only teach abstinence for sex...</td>\n",
       "      <td>Evidence does not support the use of abstinenc...</td>\n",
       "      <td>Evidence does support the use of abstinence on...</td>\n",
       "    </tr>\n",
       "    <tr>\n",
       "      <th>1176</th>\n",
       "      <td>-0.301426</td>\n",
       "      <td>-1.008912</td>\n",
       "      <td>0.625287</td>\n",
       "      <td>1.691114</td>\n",
       "      <td>0</td>\n",
       "      <td>1</td>\n",
       "      <td>0</td>\n",
       "      <td>0</td>\n",
       "      <td>This house would only teach abstinence for sex...</td>\n",
       "      <td>Abstinence-only programs have no positive effects</td>\n",
       "      <td>Abstinence-only programs don't have no positiv...</td>\n",
       "    </tr>\n",
       "    <tr>\n",
       "      <th>1187</th>\n",
       "      <td>1.370541</td>\n",
       "      <td>-0.049608</td>\n",
       "      <td>1.202502</td>\n",
       "      <td>1.270629</td>\n",
       "      <td>0</td>\n",
       "      <td>1</td>\n",
       "      <td>0</td>\n",
       "      <td>0</td>\n",
       "      <td>This house would only teach abstinence for sex...</td>\n",
       "      <td>Abstinence-only sex education programs show an...</td>\n",
       "      <td>Abstinence-only sex education programs show an...</td>\n",
       "    </tr>\n",
       "    <tr>\n",
       "      <th>1190</th>\n",
       "      <td>2.449668</td>\n",
       "      <td>-1.096902</td>\n",
       "      <td>1.351404</td>\n",
       "      <td>1.474139</td>\n",
       "      <td>0</td>\n",
       "      <td>1</td>\n",
       "      <td>0</td>\n",
       "      <td>0</td>\n",
       "      <td>This house would only teach abstinence for sex...</td>\n",
       "      <td>Education programs which focus exclusively on ...</td>\n",
       "      <td>Education programs which focus exclusively on ...</td>\n",
       "    </tr>\n",
       "  </tbody>\n",
       "</table>\n",
       "<p>119 rows × 11 columns</p>\n",
       "</div>"
      ],
      "text/plain": [
       "      undermine_score  support_score  cp_distance  cop_distance  \\\n",
       "0           -2.286710       4.179139     0.337187      0.012638   \n",
       "9           -4.241859       5.651101     0.057882      0.012257   \n",
       "10           3.206885      -1.408709     1.241633      1.407653   \n",
       "12           4.718122      -2.867034     1.427996      1.675262   \n",
       "46           4.170628      -2.154449     1.313084      1.509177   \n",
       "...               ...            ...          ...           ...   \n",
       "1173         2.213775      -2.186265     1.482455      1.656197   \n",
       "1175         3.671103      -3.371501     1.175059      1.326310   \n",
       "1176        -0.301426      -1.008912     0.625287      1.691114   \n",
       "1187         1.370541      -0.049608     1.202502      1.270629   \n",
       "1190         2.449668      -1.096902     1.351404      1.474139   \n",
       "\n",
       "      predict_label  distance_label  gold  Label  \\\n",
       "0                 1               0     1      1   \n",
       "9                 1               0     1      1   \n",
       "10                0               1     0      0   \n",
       "12                0               1     0      0   \n",
       "46                0               1     0      0   \n",
       "...             ...             ...   ...    ...   \n",
       "1173              0               1     0      0   \n",
       "1175              0               1     0      0   \n",
       "1176              0               1     0      0   \n",
       "1187              0               1     0      0   \n",
       "1190              0               1     0      0   \n",
       "\n",
       "                                                  claim  \\\n",
       "0     This house believes that the sale of violent v...   \n",
       "9     This house believes that the sale of violent v...   \n",
       "10    This house believes that the sale of violent v...   \n",
       "12    This house believes that the sale of violent v...   \n",
       "46    This house believes that the sale of violent v...   \n",
       "...                                                 ...   \n",
       "1173  This house would only teach abstinence for sex...   \n",
       "1175  This house would only teach abstinence for sex...   \n",
       "1176  This house would only teach abstinence for sex...   \n",
       "1187  This house would only teach abstinence for sex...   \n",
       "1190  This house would only teach abstinence for sex...   \n",
       "\n",
       "                                            perspective  \\\n",
       "0     Exposure to violent video games causes at leas...   \n",
       "9     exposure to violent video games results in inc...   \n",
       "10    No long-term relationship was found between pl...   \n",
       "12    No evidence has found that violent games are p...   \n",
       "46    There is no connection between exposure to med...   \n",
       "...                                                 ...   \n",
       "1173  comprehensive sex education would effectively ...   \n",
       "1175  Evidence does not support the use of abstinenc...   \n",
       "1176  Abstinence-only programs have no positive effects   \n",
       "1187  Abstinence-only sex education programs show an...   \n",
       "1190  Education programs which focus exclusively on ...   \n",
       "\n",
       "                                   opposite_perspective  \n",
       "0     Exposure not to violent video games causes at ...  \n",
       "9     exposure not to violent video games results in...  \n",
       "10    No long-term relationship was not found betwee...  \n",
       "12    No evidence doesn't have found that violent ga...  \n",
       "46    There is not no connection between exposure to...  \n",
       "...                                                 ...  \n",
       "1173  comprehensive sex education would not effectiv...  \n",
       "1175  Evidence does support the use of abstinence on...  \n",
       "1176  Abstinence-only programs don't have no positiv...  \n",
       "1187  Abstinence-only sex education programs show an...  \n",
       "1190  Education programs which focus exclusively on ...  \n",
       "\n",
       "[119 rows x 11 columns]"
      ]
     },
     "execution_count": 1672,
     "metadata": {},
     "output_type": "execute_result"
    }
   ],
   "source": [
    "dwrong_lcorrect_out"
   ]
  },
  {
   "cell_type": "code",
   "execution_count": 1673,
   "metadata": {},
   "outputs": [
    {
     "data": {
      "text/plain": [
       "0.0948667000000003"
      ]
     },
     "execution_count": 1673,
     "metadata": {},
     "output_type": "execute_result"
    }
   ],
   "source": [
    "abs(dwrong_lcorrect_out.cp_distance-dwrong_lcorrect_out.cop_distance).median()"
   ]
  },
  {
   "cell_type": "code",
   "execution_count": 1674,
   "metadata": {},
   "outputs": [
    {
     "data": {
      "text/plain": [
       "0.19924003364285717"
      ]
     },
     "execution_count": 1674,
     "metadata": {},
     "output_type": "execute_result"
    }
   ],
   "source": [
    "abs(dwrong_lcorrect_out.cp_distance-dwrong_lcorrect_out.cop_distance).mean()"
   ]
  },
  {
   "cell_type": "code",
   "execution_count": 1675,
   "metadata": {},
   "outputs": [
    {
     "data": {
      "text/plain": [
       "1.0658272"
      ]
     },
     "execution_count": 1675,
     "metadata": {},
     "output_type": "execute_result"
    }
   ],
   "source": [
    "abs(dwrong_lcorrect_out.cp_distance-dwrong_lcorrect_out.cop_distance).max()"
   ]
  },
  {
   "cell_type": "code",
   "execution_count": 1676,
   "metadata": {},
   "outputs": [
    {
     "data": {
      "text/plain": [
       "0.0006133999999999862"
      ]
     },
     "execution_count": 1676,
     "metadata": {},
     "output_type": "execute_result"
    }
   ],
   "source": [
    "abs(dwrong_lcorrect_out.cp_distance-dwrong_lcorrect_out.cop_distance).min()"
   ]
  },
  {
   "cell_type": "code",
   "execution_count": null,
   "metadata": {},
   "outputs": [],
   "source": []
  },
  {
   "cell_type": "code",
   "execution_count": 1677,
   "metadata": {},
   "outputs": [
    {
     "data": {
      "text/plain": [
       "6.44711304"
      ]
     },
     "execution_count": 1677,
     "metadata": {},
     "output_type": "execute_result"
    }
   ],
   "source": [
    "abs(dwrong_lcorrect_out.undermine_score-dwrong_lcorrect_out.support_score).median()"
   ]
  },
  {
   "cell_type": "code",
   "execution_count": 1678,
   "metadata": {},
   "outputs": [
    {
     "data": {
      "text/plain": [
       "6.003491740042016"
      ]
     },
     "execution_count": 1678,
     "metadata": {},
     "output_type": "execute_result"
    }
   ],
   "source": [
    "abs(dwrong_lcorrect_out.undermine_score-dwrong_lcorrect_out.support_score).mean()"
   ]
  },
  {
   "cell_type": "code",
   "execution_count": 1679,
   "metadata": {},
   "outputs": [
    {
     "data": {
      "text/plain": [
       "11.497466"
      ]
     },
     "execution_count": 1679,
     "metadata": {},
     "output_type": "execute_result"
    }
   ],
   "source": [
    "abs(dwrong_lcorrect_out.undermine_score-dwrong_lcorrect_out.support_score).max()"
   ]
  },
  {
   "cell_type": "code",
   "execution_count": 1680,
   "metadata": {},
   "outputs": [
    {
     "data": {
      "text/plain": [
       "0.09223916999999998"
      ]
     },
     "execution_count": 1680,
     "metadata": {},
     "output_type": "execute_result"
    }
   ],
   "source": [
    "abs(dwrong_lcorrect_out.undermine_score-dwrong_lcorrect_out.support_score).min()"
   ]
  },
  {
   "cell_type": "code",
   "execution_count": null,
   "metadata": {},
   "outputs": [],
   "source": []
  },
  {
   "cell_type": "code",
   "execution_count": null,
   "metadata": {},
   "outputs": [],
   "source": []
  },
  {
   "cell_type": "code",
   "execution_count": 1681,
   "metadata": {},
   "outputs": [
    {
     "data": {
      "text/html": [
       "<div>\n",
       "<style scoped>\n",
       "    .dataframe tbody tr th:only-of-type {\n",
       "        vertical-align: middle;\n",
       "    }\n",
       "\n",
       "    .dataframe tbody tr th {\n",
       "        vertical-align: top;\n",
       "    }\n",
       "\n",
       "    .dataframe thead th {\n",
       "        text-align: right;\n",
       "    }\n",
       "</style>\n",
       "<table border=\"1\" class=\"dataframe\">\n",
       "  <thead>\n",
       "    <tr style=\"text-align: right;\">\n",
       "      <th></th>\n",
       "      <th>undermine_score</th>\n",
       "      <th>support_score</th>\n",
       "      <th>cp_distance</th>\n",
       "      <th>cop_distance</th>\n",
       "      <th>predict_label</th>\n",
       "      <th>distance_label</th>\n",
       "      <th>gold</th>\n",
       "    </tr>\n",
       "  </thead>\n",
       "  <tbody>\n",
       "    <tr>\n",
       "      <th>3</th>\n",
       "      <td>-4.448653</td>\n",
       "      <td>5.763899</td>\n",
       "      <td>0.011224</td>\n",
       "      <td>0.063257</td>\n",
       "      <td>1</td>\n",
       "      <td>1</td>\n",
       "      <td>1</td>\n",
       "    </tr>\n",
       "    <tr>\n",
       "      <th>6</th>\n",
       "      <td>-4.471383</td>\n",
       "      <td>5.813182</td>\n",
       "      <td>0.049034</td>\n",
       "      <td>0.128769</td>\n",
       "      <td>1</td>\n",
       "      <td>1</td>\n",
       "      <td>1</td>\n",
       "    </tr>\n",
       "    <tr>\n",
       "      <th>7</th>\n",
       "      <td>-3.559464</td>\n",
       "      <td>4.967342</td>\n",
       "      <td>0.038006</td>\n",
       "      <td>0.057921</td>\n",
       "      <td>1</td>\n",
       "      <td>1</td>\n",
       "      <td>1</td>\n",
       "    </tr>\n",
       "    <tr>\n",
       "      <th>9</th>\n",
       "      <td>-4.241859</td>\n",
       "      <td>5.651101</td>\n",
       "      <td>0.057882</td>\n",
       "      <td>0.012257</td>\n",
       "      <td>1</td>\n",
       "      <td>0</td>\n",
       "      <td>1</td>\n",
       "    </tr>\n",
       "    <tr>\n",
       "      <th>13</th>\n",
       "      <td>-4.195812</td>\n",
       "      <td>5.596675</td>\n",
       "      <td>0.059591</td>\n",
       "      <td>0.101440</td>\n",
       "      <td>1</td>\n",
       "      <td>1</td>\n",
       "      <td>0</td>\n",
       "    </tr>\n",
       "    <tr>\n",
       "      <th>...</th>\n",
       "      <td>...</td>\n",
       "      <td>...</td>\n",
       "      <td>...</td>\n",
       "      <td>...</td>\n",
       "      <td>...</td>\n",
       "      <td>...</td>\n",
       "      <td>...</td>\n",
       "    </tr>\n",
       "    <tr>\n",
       "      <th>1089</th>\n",
       "      <td>-4.114629</td>\n",
       "      <td>3.142254</td>\n",
       "      <td>0.082238</td>\n",
       "      <td>0.007372</td>\n",
       "      <td>1</td>\n",
       "      <td>0</td>\n",
       "      <td>0</td>\n",
       "    </tr>\n",
       "    <tr>\n",
       "      <th>1102</th>\n",
       "      <td>5.164455</td>\n",
       "      <td>-1.934908</td>\n",
       "      <td>1.746038</td>\n",
       "      <td>1.791609</td>\n",
       "      <td>0</td>\n",
       "      <td>1</td>\n",
       "      <td>1</td>\n",
       "    </tr>\n",
       "    <tr>\n",
       "      <th>1105</th>\n",
       "      <td>5.919881</td>\n",
       "      <td>-2.100868</td>\n",
       "      <td>1.871337</td>\n",
       "      <td>1.963621</td>\n",
       "      <td>0</td>\n",
       "      <td>1</td>\n",
       "      <td>0</td>\n",
       "    </tr>\n",
       "    <tr>\n",
       "      <th>1109</th>\n",
       "      <td>-4.464577</td>\n",
       "      <td>3.455227</td>\n",
       "      <td>0.025071</td>\n",
       "      <td>0.001602</td>\n",
       "      <td>1</td>\n",
       "      <td>0</td>\n",
       "      <td>1</td>\n",
       "    </tr>\n",
       "    <tr>\n",
       "      <th>1188</th>\n",
       "      <td>3.730146</td>\n",
       "      <td>-3.667698</td>\n",
       "      <td>1.584377</td>\n",
       "      <td>1.510709</td>\n",
       "      <td>0</td>\n",
       "      <td>0</td>\n",
       "      <td>1</td>\n",
       "    </tr>\n",
       "  </tbody>\n",
       "</table>\n",
       "<p>100 rows × 7 columns</p>\n",
       "</div>"
      ],
      "text/plain": [
       "      undermine_score  support_score  cp_distance  cop_distance  \\\n",
       "3           -4.448653       5.763899     0.011224      0.063257   \n",
       "6           -4.471383       5.813182     0.049034      0.128769   \n",
       "7           -3.559464       4.967342     0.038006      0.057921   \n",
       "9           -4.241859       5.651101     0.057882      0.012257   \n",
       "13          -4.195812       5.596675     0.059591      0.101440   \n",
       "...               ...            ...          ...           ...   \n",
       "1089        -4.114629       3.142254     0.082238      0.007372   \n",
       "1102         5.164455      -1.934908     1.746038      1.791609   \n",
       "1105         5.919881      -2.100868     1.871337      1.963621   \n",
       "1109        -4.464577       3.455227     0.025071      0.001602   \n",
       "1188         3.730146      -3.667698     1.584377      1.510709   \n",
       "\n",
       "      predict_label  distance_label  gold  \n",
       "3                 1               1     1  \n",
       "6                 1               1     1  \n",
       "7                 1               1     1  \n",
       "9                 1               0     1  \n",
       "13                1               1     0  \n",
       "...             ...             ...   ...  \n",
       "1089              1               0     0  \n",
       "1102              0               1     1  \n",
       "1105              0               1     0  \n",
       "1109              1               0     1  \n",
       "1188              0               0     1  \n",
       "\n",
       "[100 rows x 7 columns]"
      ]
     },
     "execution_count": 1681,
     "metadata": {},
     "output_type": "execute_result"
    }
   ],
   "source": [
    "df_inconsistency[(abs(df_inconsistency.undermine_score-df_inconsistency.support_score)>7)&(abs(df_inconsistency.cp_distance-df_inconsistency.cop_distance)<0.1)]"
   ]
  },
  {
   "cell_type": "code",
   "execution_count": 1682,
   "metadata": {},
   "outputs": [
    {
     "data": {
      "text/html": [
       "<div>\n",
       "<style scoped>\n",
       "    .dataframe tbody tr th:only-of-type {\n",
       "        vertical-align: middle;\n",
       "    }\n",
       "\n",
       "    .dataframe tbody tr th {\n",
       "        vertical-align: top;\n",
       "    }\n",
       "\n",
       "    .dataframe thead th {\n",
       "        text-align: right;\n",
       "    }\n",
       "</style>\n",
       "<table border=\"1\" class=\"dataframe\">\n",
       "  <thead>\n",
       "    <tr style=\"text-align: right;\">\n",
       "      <th></th>\n",
       "      <th>undermine_score</th>\n",
       "      <th>support_score</th>\n",
       "      <th>cp_distance</th>\n",
       "      <th>cop_distance</th>\n",
       "      <th>predict_label</th>\n",
       "      <th>distance_label</th>\n",
       "      <th>gold</th>\n",
       "    </tr>\n",
       "  </thead>\n",
       "  <tbody>\n",
       "    <tr>\n",
       "      <th>3</th>\n",
       "      <td>-4.448653</td>\n",
       "      <td>5.763899</td>\n",
       "      <td>0.011224</td>\n",
       "      <td>0.063257</td>\n",
       "      <td>1</td>\n",
       "      <td>1</td>\n",
       "      <td>1</td>\n",
       "    </tr>\n",
       "    <tr>\n",
       "      <th>6</th>\n",
       "      <td>-4.471383</td>\n",
       "      <td>5.813182</td>\n",
       "      <td>0.049034</td>\n",
       "      <td>0.128769</td>\n",
       "      <td>1</td>\n",
       "      <td>1</td>\n",
       "      <td>1</td>\n",
       "    </tr>\n",
       "    <tr>\n",
       "      <th>7</th>\n",
       "      <td>-3.559464</td>\n",
       "      <td>4.967342</td>\n",
       "      <td>0.038006</td>\n",
       "      <td>0.057921</td>\n",
       "      <td>1</td>\n",
       "      <td>1</td>\n",
       "      <td>1</td>\n",
       "    </tr>\n",
       "    <tr>\n",
       "      <th>9</th>\n",
       "      <td>-4.241859</td>\n",
       "      <td>5.651101</td>\n",
       "      <td>0.057882</td>\n",
       "      <td>0.012257</td>\n",
       "      <td>1</td>\n",
       "      <td>0</td>\n",
       "      <td>1</td>\n",
       "    </tr>\n",
       "    <tr>\n",
       "      <th>20</th>\n",
       "      <td>-4.788981</td>\n",
       "      <td>6.051671</td>\n",
       "      <td>0.019188</td>\n",
       "      <td>0.032385</td>\n",
       "      <td>1</td>\n",
       "      <td>1</td>\n",
       "      <td>1</td>\n",
       "    </tr>\n",
       "    <tr>\n",
       "      <th>...</th>\n",
       "      <td>...</td>\n",
       "      <td>...</td>\n",
       "      <td>...</td>\n",
       "      <td>...</td>\n",
       "      <td>...</td>\n",
       "      <td>...</td>\n",
       "      <td>...</td>\n",
       "    </tr>\n",
       "    <tr>\n",
       "      <th>1016</th>\n",
       "      <td>-4.337313</td>\n",
       "      <td>3.179564</td>\n",
       "      <td>0.009121</td>\n",
       "      <td>0.004451</td>\n",
       "      <td>1</td>\n",
       "      <td>0</td>\n",
       "      <td>1</td>\n",
       "    </tr>\n",
       "    <tr>\n",
       "      <th>1036</th>\n",
       "      <td>6.526256</td>\n",
       "      <td>-2.210454</td>\n",
       "      <td>1.894165</td>\n",
       "      <td>1.886370</td>\n",
       "      <td>0</td>\n",
       "      <td>0</td>\n",
       "      <td>0</td>\n",
       "    </tr>\n",
       "    <tr>\n",
       "      <th>1087</th>\n",
       "      <td>6.113130</td>\n",
       "      <td>-2.484668</td>\n",
       "      <td>1.844994</td>\n",
       "      <td>1.861191</td>\n",
       "      <td>0</td>\n",
       "      <td>1</td>\n",
       "      <td>0</td>\n",
       "    </tr>\n",
       "    <tr>\n",
       "      <th>1105</th>\n",
       "      <td>5.919881</td>\n",
       "      <td>-2.100868</td>\n",
       "      <td>1.871337</td>\n",
       "      <td>1.963621</td>\n",
       "      <td>0</td>\n",
       "      <td>1</td>\n",
       "      <td>0</td>\n",
       "    </tr>\n",
       "    <tr>\n",
       "      <th>1109</th>\n",
       "      <td>-4.464577</td>\n",
       "      <td>3.455227</td>\n",
       "      <td>0.025071</td>\n",
       "      <td>0.001602</td>\n",
       "      <td>1</td>\n",
       "      <td>0</td>\n",
       "      <td>1</td>\n",
       "    </tr>\n",
       "  </tbody>\n",
       "</table>\n",
       "<p>76 rows × 7 columns</p>\n",
       "</div>"
      ],
      "text/plain": [
       "      undermine_score  support_score  cp_distance  cop_distance  \\\n",
       "3           -4.448653       5.763899     0.011224      0.063257   \n",
       "6           -4.471383       5.813182     0.049034      0.128769   \n",
       "7           -3.559464       4.967342     0.038006      0.057921   \n",
       "9           -4.241859       5.651101     0.057882      0.012257   \n",
       "20          -4.788981       6.051671     0.019188      0.032385   \n",
       "...               ...            ...          ...           ...   \n",
       "1016        -4.337313       3.179564     0.009121      0.004451   \n",
       "1036         6.526256      -2.210454     1.894165      1.886370   \n",
       "1087         6.113130      -2.484668     1.844994      1.861191   \n",
       "1105         5.919881      -2.100868     1.871337      1.963621   \n",
       "1109        -4.464577       3.455227     0.025071      0.001602   \n",
       "\n",
       "      predict_label  distance_label  gold  \n",
       "3                 1               1     1  \n",
       "6                 1               1     1  \n",
       "7                 1               1     1  \n",
       "9                 1               0     1  \n",
       "20                1               1     1  \n",
       "...             ...             ...   ...  \n",
       "1016              1               0     1  \n",
       "1036              0               0     0  \n",
       "1087              0               1     0  \n",
       "1105              0               1     0  \n",
       "1109              1               0     1  \n",
       "\n",
       "[76 rows x 7 columns]"
      ]
     },
     "execution_count": 1682,
     "metadata": {},
     "output_type": "execute_result"
    }
   ],
   "source": [
    "df_inconsistency[(abs(df_inconsistency.undermine_score-df_inconsistency.support_score)>7)&(abs(df_inconsistency.cp_distance-df_inconsistency.cop_distance)<0.1)&(df_inconsistency.predict_label==df_inconsistency.gold)]"
   ]
  },
  {
   "cell_type": "code",
   "execution_count": null,
   "metadata": {},
   "outputs": [],
   "source": []
  },
  {
   "cell_type": "code",
   "execution_count": 1683,
   "metadata": {},
   "outputs": [
    {
     "data": {
      "text/plain": [
       "undermine_score    75\n",
       "support_score      75\n",
       "cp_distance        75\n",
       "cop_distance       75\n",
       "predict_label      75\n",
       "distance_label     75\n",
       "gold               75\n",
       "dtype: int64"
      ]
     },
     "execution_count": 1683,
     "metadata": {},
     "output_type": "execute_result"
    }
   ],
   "source": [
    "df_inconsistency[(abs(df_inconsistency.undermine_score-df_inconsistency.support_score)<3)&(abs(df_inconsistency.cp_distance-df_inconsistency.cop_distance)>0.15)].count()"
   ]
  },
  {
   "cell_type": "code",
   "execution_count": 1684,
   "metadata": {},
   "outputs": [
    {
     "data": {
      "text/plain": [
       "undermine_score    32\n",
       "support_score      32\n",
       "cp_distance        32\n",
       "cop_distance       32\n",
       "predict_label      32\n",
       "distance_label     32\n",
       "gold               32\n",
       "dtype: int64"
      ]
     },
     "execution_count": 1684,
     "metadata": {},
     "output_type": "execute_result"
    }
   ],
   "source": [
    "df_inconsistency[(abs(df_inconsistency.undermine_score-df_inconsistency.support_score)<3)&(abs(df_inconsistency.cp_distance-df_inconsistency.cop_distance)>0.15)&(df_inconsistency.distance_label==df_inconsistency.gold)].count()"
   ]
  },
  {
   "cell_type": "code",
   "execution_count": null,
   "metadata": {},
   "outputs": [],
   "source": []
  },
  {
   "cell_type": "code",
   "execution_count": 1685,
   "metadata": {},
   "outputs": [],
   "source": [
    "#consistent failed cases"
   ]
  },
  {
   "cell_type": "code",
   "execution_count": 1686,
   "metadata": {},
   "outputs": [
    {
     "data": {
      "text/html": [
       "<div>\n",
       "<style scoped>\n",
       "    .dataframe tbody tr th:only-of-type {\n",
       "        vertical-align: middle;\n",
       "    }\n",
       "\n",
       "    .dataframe tbody tr th {\n",
       "        vertical-align: top;\n",
       "    }\n",
       "\n",
       "    .dataframe thead th {\n",
       "        text-align: right;\n",
       "    }\n",
       "</style>\n",
       "<table border=\"1\" class=\"dataframe\">\n",
       "  <thead>\n",
       "    <tr style=\"text-align: right;\">\n",
       "      <th></th>\n",
       "      <th>undermine_score</th>\n",
       "      <th>support_score</th>\n",
       "      <th>cp_distance</th>\n",
       "      <th>cop_distance</th>\n",
       "      <th>predict_label</th>\n",
       "      <th>distance_label</th>\n",
       "      <th>gold</th>\n",
       "    </tr>\n",
       "  </thead>\n",
       "  <tbody>\n",
       "    <tr>\n",
       "      <th>5</th>\n",
       "      <td>-4.014788</td>\n",
       "      <td>4.372499</td>\n",
       "      <td>0.065640</td>\n",
       "      <td>0.297210</td>\n",
       "      <td>1</td>\n",
       "      <td>1</td>\n",
       "      <td>0</td>\n",
       "    </tr>\n",
       "    <tr>\n",
       "      <th>13</th>\n",
       "      <td>-4.195812</td>\n",
       "      <td>5.596675</td>\n",
       "      <td>0.059591</td>\n",
       "      <td>0.101440</td>\n",
       "      <td>1</td>\n",
       "      <td>1</td>\n",
       "      <td>0</td>\n",
       "    </tr>\n",
       "    <tr>\n",
       "      <th>15</th>\n",
       "      <td>-5.241374</td>\n",
       "      <td>5.800400</td>\n",
       "      <td>0.034428</td>\n",
       "      <td>1.785060</td>\n",
       "      <td>1</td>\n",
       "      <td>1</td>\n",
       "      <td>0</td>\n",
       "    </tr>\n",
       "    <tr>\n",
       "      <th>19</th>\n",
       "      <td>-0.519076</td>\n",
       "      <td>0.345091</td>\n",
       "      <td>0.537838</td>\n",
       "      <td>1.562558</td>\n",
       "      <td>1</td>\n",
       "      <td>1</td>\n",
       "      <td>0</td>\n",
       "    </tr>\n",
       "    <tr>\n",
       "      <th>23</th>\n",
       "      <td>-1.602316</td>\n",
       "      <td>1.784800</td>\n",
       "      <td>0.255269</td>\n",
       "      <td>1.881752</td>\n",
       "      <td>1</td>\n",
       "      <td>1</td>\n",
       "      <td>0</td>\n",
       "    </tr>\n",
       "    <tr>\n",
       "      <th>...</th>\n",
       "      <td>...</td>\n",
       "      <td>...</td>\n",
       "      <td>...</td>\n",
       "      <td>...</td>\n",
       "      <td>...</td>\n",
       "      <td>...</td>\n",
       "      <td>...</td>\n",
       "    </tr>\n",
       "    <tr>\n",
       "      <th>1174</th>\n",
       "      <td>4.896610</td>\n",
       "      <td>-2.828678</td>\n",
       "      <td>1.505920</td>\n",
       "      <td>0.113019</td>\n",
       "      <td>0</td>\n",
       "      <td>0</td>\n",
       "      <td>1</td>\n",
       "    </tr>\n",
       "    <tr>\n",
       "      <th>1178</th>\n",
       "      <td>-2.708633</td>\n",
       "      <td>3.125814</td>\n",
       "      <td>0.099005</td>\n",
       "      <td>0.614933</td>\n",
       "      <td>1</td>\n",
       "      <td>1</td>\n",
       "      <td>0</td>\n",
       "    </tr>\n",
       "    <tr>\n",
       "      <th>1188</th>\n",
       "      <td>3.730146</td>\n",
       "      <td>-3.667698</td>\n",
       "      <td>1.584377</td>\n",
       "      <td>1.510709</td>\n",
       "      <td>0</td>\n",
       "      <td>0</td>\n",
       "      <td>1</td>\n",
       "    </tr>\n",
       "    <tr>\n",
       "      <th>1189</th>\n",
       "      <td>-2.551159</td>\n",
       "      <td>2.597535</td>\n",
       "      <td>0.215551</td>\n",
       "      <td>0.353700</td>\n",
       "      <td>1</td>\n",
       "      <td>1</td>\n",
       "      <td>0</td>\n",
       "    </tr>\n",
       "    <tr>\n",
       "      <th>1191</th>\n",
       "      <td>-2.773020</td>\n",
       "      <td>2.397338</td>\n",
       "      <td>0.237195</td>\n",
       "      <td>1.429739</td>\n",
       "      <td>1</td>\n",
       "      <td>1</td>\n",
       "      <td>0</td>\n",
       "    </tr>\n",
       "  </tbody>\n",
       "</table>\n",
       "<p>325 rows × 7 columns</p>\n",
       "</div>"
      ],
      "text/plain": [
       "      undermine_score  support_score  cp_distance  cop_distance  \\\n",
       "5           -4.014788       4.372499     0.065640      0.297210   \n",
       "13          -4.195812       5.596675     0.059591      0.101440   \n",
       "15          -5.241374       5.800400     0.034428      1.785060   \n",
       "19          -0.519076       0.345091     0.537838      1.562558   \n",
       "23          -1.602316       1.784800     0.255269      1.881752   \n",
       "...               ...            ...          ...           ...   \n",
       "1174         4.896610      -2.828678     1.505920      0.113019   \n",
       "1178        -2.708633       3.125814     0.099005      0.614933   \n",
       "1188         3.730146      -3.667698     1.584377      1.510709   \n",
       "1189        -2.551159       2.597535     0.215551      0.353700   \n",
       "1191        -2.773020       2.397338     0.237195      1.429739   \n",
       "\n",
       "      predict_label  distance_label  gold  \n",
       "5                 1               1     0  \n",
       "13                1               1     0  \n",
       "15                1               1     0  \n",
       "19                1               1     0  \n",
       "23                1               1     0  \n",
       "...             ...             ...   ...  \n",
       "1174              0               0     1  \n",
       "1178              1               1     0  \n",
       "1188              0               0     1  \n",
       "1189              1               1     0  \n",
       "1191              1               1     0  \n",
       "\n",
       "[325 rows x 7 columns]"
      ]
     },
     "execution_count": 1686,
     "metadata": {},
     "output_type": "execute_result"
    }
   ],
   "source": [
    "df_consistency[df_consistency.predict_label!=df_consistency.gold]"
   ]
  },
  {
   "cell_type": "code",
   "execution_count": 1687,
   "metadata": {},
   "outputs": [],
   "source": [
    "df_consistency_failed = df_consistency[df_consistency.predict_label!=df_consistency.gold]"
   ]
  },
  {
   "cell_type": "code",
   "execution_count": 1688,
   "metadata": {},
   "outputs": [],
   "source": [
    "cons_out_failed = df_consistency_failed.join(df_origin).drop(\"x\",axis=1).drop(\"y\",axis=1)"
   ]
  },
  {
   "cell_type": "code",
   "execution_count": 1689,
   "metadata": {},
   "outputs": [
    {
     "data": {
      "text/html": [
       "<div>\n",
       "<style scoped>\n",
       "    .dataframe tbody tr th:only-of-type {\n",
       "        vertical-align: middle;\n",
       "    }\n",
       "\n",
       "    .dataframe tbody tr th {\n",
       "        vertical-align: top;\n",
       "    }\n",
       "\n",
       "    .dataframe thead th {\n",
       "        text-align: right;\n",
       "    }\n",
       "</style>\n",
       "<table border=\"1\" class=\"dataframe\">\n",
       "  <thead>\n",
       "    <tr style=\"text-align: right;\">\n",
       "      <th></th>\n",
       "      <th>undermine_score</th>\n",
       "      <th>support_score</th>\n",
       "      <th>cp_distance</th>\n",
       "      <th>cop_distance</th>\n",
       "      <th>predict_label</th>\n",
       "      <th>distance_label</th>\n",
       "      <th>gold</th>\n",
       "      <th>Label</th>\n",
       "      <th>claim</th>\n",
       "      <th>perspective</th>\n",
       "      <th>opposite_perspective</th>\n",
       "    </tr>\n",
       "  </thead>\n",
       "  <tbody>\n",
       "    <tr>\n",
       "      <th>5</th>\n",
       "      <td>-4.014788</td>\n",
       "      <td>4.372499</td>\n",
       "      <td>0.065640</td>\n",
       "      <td>0.297210</td>\n",
       "      <td>1</td>\n",
       "      <td>1</td>\n",
       "      <td>0</td>\n",
       "      <td>0</td>\n",
       "      <td>This house believes that the sale of violent v...</td>\n",
       "      <td>No conclusive link was found between video gam...</td>\n",
       "      <td>No conclusive link was not found between video...</td>\n",
       "    </tr>\n",
       "    <tr>\n",
       "      <th>13</th>\n",
       "      <td>-4.195812</td>\n",
       "      <td>5.596675</td>\n",
       "      <td>0.059591</td>\n",
       "      <td>0.101440</td>\n",
       "      <td>1</td>\n",
       "      <td>1</td>\n",
       "      <td>0</td>\n",
       "      <td>0</td>\n",
       "      <td>This house believes that the sale of violent v...</td>\n",
       "      <td>adolescents that don't play video games at all...</td>\n",
       "      <td>adolescents that do play video games at all ar...</td>\n",
       "    </tr>\n",
       "    <tr>\n",
       "      <th>15</th>\n",
       "      <td>-5.241374</td>\n",
       "      <td>5.800400</td>\n",
       "      <td>0.034428</td>\n",
       "      <td>1.785060</td>\n",
       "      <td>1</td>\n",
       "      <td>1</td>\n",
       "      <td>0</td>\n",
       "      <td>0</td>\n",
       "      <td>This house believes that the sale of violent v...</td>\n",
       "      <td>Biological theories of aggression and violence...</td>\n",
       "      <td>Biological theories of aggression and violence...</td>\n",
       "    </tr>\n",
       "    <tr>\n",
       "      <th>19</th>\n",
       "      <td>-0.519076</td>\n",
       "      <td>0.345091</td>\n",
       "      <td>0.537838</td>\n",
       "      <td>1.562558</td>\n",
       "      <td>1</td>\n",
       "      <td>1</td>\n",
       "      <td>0</td>\n",
       "      <td>0</td>\n",
       "      <td>This house believes that the sale of violent v...</td>\n",
       "      <td>Media influences are too weak and distant to h...</td>\n",
       "      <td>Media influences are not too weak and distant ...</td>\n",
       "    </tr>\n",
       "    <tr>\n",
       "      <th>23</th>\n",
       "      <td>-1.602316</td>\n",
       "      <td>1.784800</td>\n",
       "      <td>0.255269</td>\n",
       "      <td>1.881752</td>\n",
       "      <td>1</td>\n",
       "      <td>1</td>\n",
       "      <td>0</td>\n",
       "      <td>0</td>\n",
       "      <td>This house believes that the sale of violent v...</td>\n",
       "      <td>There is no direct link between violent video ...</td>\n",
       "      <td>There is not no direct link between violent vi...</td>\n",
       "    </tr>\n",
       "    <tr>\n",
       "      <th>...</th>\n",
       "      <td>...</td>\n",
       "      <td>...</td>\n",
       "      <td>...</td>\n",
       "      <td>...</td>\n",
       "      <td>...</td>\n",
       "      <td>...</td>\n",
       "      <td>...</td>\n",
       "      <td>...</td>\n",
       "      <td>...</td>\n",
       "      <td>...</td>\n",
       "      <td>...</td>\n",
       "    </tr>\n",
       "    <tr>\n",
       "      <th>1174</th>\n",
       "      <td>4.896610</td>\n",
       "      <td>-2.828678</td>\n",
       "      <td>1.505920</td>\n",
       "      <td>0.113019</td>\n",
       "      <td>0</td>\n",
       "      <td>0</td>\n",
       "      <td>1</td>\n",
       "      <td>1</td>\n",
       "      <td>This house would only teach abstinence for sex...</td>\n",
       "      <td>Comprehensive sex education encourages more an...</td>\n",
       "      <td>Comprehensive sex education discourage more an...</td>\n",
       "    </tr>\n",
       "    <tr>\n",
       "      <th>1178</th>\n",
       "      <td>-2.708633</td>\n",
       "      <td>3.125814</td>\n",
       "      <td>0.099005</td>\n",
       "      <td>0.614933</td>\n",
       "      <td>1</td>\n",
       "      <td>1</td>\n",
       "      <td>0</td>\n",
       "      <td>0</td>\n",
       "      <td>This house would only teach abstinence for sex...</td>\n",
       "      <td>Countries with conservative attitudes towards ...</td>\n",
       "      <td>Countries with conservative attitudes towards ...</td>\n",
       "    </tr>\n",
       "    <tr>\n",
       "      <th>1188</th>\n",
       "      <td>3.730146</td>\n",
       "      <td>-3.667698</td>\n",
       "      <td>1.584377</td>\n",
       "      <td>1.510709</td>\n",
       "      <td>0</td>\n",
       "      <td>0</td>\n",
       "      <td>1</td>\n",
       "      <td>1</td>\n",
       "      <td>This house would only teach abstinence for sex...</td>\n",
       "      <td>sexual abstinence confers numerous health bene...</td>\n",
       "      <td>sexual abstinence confers numerous health harm</td>\n",
       "    </tr>\n",
       "    <tr>\n",
       "      <th>1189</th>\n",
       "      <td>-2.551159</td>\n",
       "      <td>2.597535</td>\n",
       "      <td>0.215551</td>\n",
       "      <td>0.353700</td>\n",
       "      <td>1</td>\n",
       "      <td>1</td>\n",
       "      <td>0</td>\n",
       "      <td>0</td>\n",
       "      <td>This house would only teach abstinence for sex...</td>\n",
       "      <td>excessive repression of the sexual instinct le...</td>\n",
       "      <td>excessive repression of the sexual instinct le...</td>\n",
       "    </tr>\n",
       "    <tr>\n",
       "      <th>1191</th>\n",
       "      <td>-2.773020</td>\n",
       "      <td>2.397338</td>\n",
       "      <td>0.237195</td>\n",
       "      <td>1.429739</td>\n",
       "      <td>1</td>\n",
       "      <td>1</td>\n",
       "      <td>0</td>\n",
       "      <td>0</td>\n",
       "      <td>This house would only teach abstinence for sex...</td>\n",
       "      <td>Sex-abstinence programs do not stop risky sexu...</td>\n",
       "      <td>Sex-abstinence programs do stop risky sexual b...</td>\n",
       "    </tr>\n",
       "  </tbody>\n",
       "</table>\n",
       "<p>325 rows × 11 columns</p>\n",
       "</div>"
      ],
      "text/plain": [
       "      undermine_score  support_score  cp_distance  cop_distance  \\\n",
       "5           -4.014788       4.372499     0.065640      0.297210   \n",
       "13          -4.195812       5.596675     0.059591      0.101440   \n",
       "15          -5.241374       5.800400     0.034428      1.785060   \n",
       "19          -0.519076       0.345091     0.537838      1.562558   \n",
       "23          -1.602316       1.784800     0.255269      1.881752   \n",
       "...               ...            ...          ...           ...   \n",
       "1174         4.896610      -2.828678     1.505920      0.113019   \n",
       "1178        -2.708633       3.125814     0.099005      0.614933   \n",
       "1188         3.730146      -3.667698     1.584377      1.510709   \n",
       "1189        -2.551159       2.597535     0.215551      0.353700   \n",
       "1191        -2.773020       2.397338     0.237195      1.429739   \n",
       "\n",
       "      predict_label  distance_label  gold  Label  \\\n",
       "5                 1               1     0      0   \n",
       "13                1               1     0      0   \n",
       "15                1               1     0      0   \n",
       "19                1               1     0      0   \n",
       "23                1               1     0      0   \n",
       "...             ...             ...   ...    ...   \n",
       "1174              0               0     1      1   \n",
       "1178              1               1     0      0   \n",
       "1188              0               0     1      1   \n",
       "1189              1               1     0      0   \n",
       "1191              1               1     0      0   \n",
       "\n",
       "                                                  claim  \\\n",
       "5     This house believes that the sale of violent v...   \n",
       "13    This house believes that the sale of violent v...   \n",
       "15    This house believes that the sale of violent v...   \n",
       "19    This house believes that the sale of violent v...   \n",
       "23    This house believes that the sale of violent v...   \n",
       "...                                                 ...   \n",
       "1174  This house would only teach abstinence for sex...   \n",
       "1178  This house would only teach abstinence for sex...   \n",
       "1188  This house would only teach abstinence for sex...   \n",
       "1189  This house would only teach abstinence for sex...   \n",
       "1191  This house would only teach abstinence for sex...   \n",
       "\n",
       "                                            perspective  \\\n",
       "5     No conclusive link was found between video gam...   \n",
       "13    adolescents that don't play video games at all...   \n",
       "15    Biological theories of aggression and violence...   \n",
       "19    Media influences are too weak and distant to h...   \n",
       "23    There is no direct link between violent video ...   \n",
       "...                                                 ...   \n",
       "1174  Comprehensive sex education encourages more an...   \n",
       "1178  Countries with conservative attitudes towards ...   \n",
       "1188  sexual abstinence confers numerous health bene...   \n",
       "1189  excessive repression of the sexual instinct le...   \n",
       "1191  Sex-abstinence programs do not stop risky sexu...   \n",
       "\n",
       "                                   opposite_perspective  \n",
       "5     No conclusive link was not found between video...  \n",
       "13    adolescents that do play video games at all ar...  \n",
       "15    Biological theories of aggression and violence...  \n",
       "19    Media influences are not too weak and distant ...  \n",
       "23    There is not no direct link between violent vi...  \n",
       "...                                                 ...  \n",
       "1174  Comprehensive sex education discourage more an...  \n",
       "1178  Countries with conservative attitudes towards ...  \n",
       "1188    sexual abstinence confers numerous health harm   \n",
       "1189  excessive repression of the sexual instinct le...  \n",
       "1191  Sex-abstinence programs do stop risky sexual b...  \n",
       "\n",
       "[325 rows x 11 columns]"
      ]
     },
     "execution_count": 1689,
     "metadata": {},
     "output_type": "execute_result"
    }
   ],
   "source": [
    "cons_out_failed"
   ]
  },
  {
   "cell_type": "code",
   "execution_count": 1690,
   "metadata": {},
   "outputs": [],
   "source": [
    "# cons_out_failed.to_csv(\"consistency_failed_data.csv\")"
   ]
  },
  {
   "cell_type": "code",
   "execution_count": 1691,
   "metadata": {},
   "outputs": [],
   "source": [
    "# cons_out_failed.to_excel(\"consistency_failed_data.xlsx\")"
   ]
  },
  {
   "cell_type": "code",
   "execution_count": 1692,
   "metadata": {},
   "outputs": [
    {
     "data": {
      "text/plain": [
       "1.4553957260000003"
      ]
     },
     "execution_count": 1692,
     "metadata": {},
     "output_type": "execute_result"
    }
   ],
   "source": [
    "abs(cons_out_failed.cp_distance-cons_out_failed.cop_distance).median()"
   ]
  },
  {
   "cell_type": "code",
   "execution_count": 1693,
   "metadata": {},
   "outputs": [
    {
     "data": {
      "text/plain": [
       "1.2292375847283077"
      ]
     },
     "execution_count": 1693,
     "metadata": {},
     "output_type": "execute_result"
    }
   ],
   "source": [
    "abs(cons_out_failed.cp_distance-cons_out_failed.cop_distance).mean()"
   ]
  },
  {
   "cell_type": "code",
   "execution_count": 1694,
   "metadata": {},
   "outputs": [
    {
     "data": {
      "text/plain": [
       "1.9712478843999999"
      ]
     },
     "execution_count": 1694,
     "metadata": {},
     "output_type": "execute_result"
    }
   ],
   "source": [
    "abs(cons_out_failed.cp_distance-cons_out_failed.cop_distance).max()"
   ]
  },
  {
   "cell_type": "code",
   "execution_count": 1695,
   "metadata": {},
   "outputs": [
    {
     "data": {
      "text/plain": [
       "0.0011283999999998073"
      ]
     },
     "execution_count": 1695,
     "metadata": {},
     "output_type": "execute_result"
    }
   ],
   "source": [
    "abs(cons_out_failed.cp_distance-cons_out_failed.cop_distance).min()"
   ]
  },
  {
   "cell_type": "code",
   "execution_count": null,
   "metadata": {},
   "outputs": [],
   "source": []
  },
  {
   "cell_type": "code",
   "execution_count": 1696,
   "metadata": {},
   "outputs": [
    {
     "data": {
      "text/plain": [
       "7.825102099999999"
      ]
     },
     "execution_count": 1696,
     "metadata": {},
     "output_type": "execute_result"
    }
   ],
   "source": [
    "abs(cons_out_failed.undermine_score-cons_out_failed.support_score).median()"
   ]
  },
  {
   "cell_type": "code",
   "execution_count": 1697,
   "metadata": {},
   "outputs": [
    {
     "data": {
      "text/plain": [
       "7.478647762381538"
      ]
     },
     "execution_count": 1697,
     "metadata": {},
     "output_type": "execute_result"
    }
   ],
   "source": [
    "abs(cons_out_failed.undermine_score-cons_out_failed.support_score).mean()"
   ]
  },
  {
   "cell_type": "code",
   "execution_count": 1698,
   "metadata": {},
   "outputs": [
    {
     "data": {
      "text/plain": [
       "17.22733"
      ]
     },
     "execution_count": 1698,
     "metadata": {},
     "output_type": "execute_result"
    }
   ],
   "source": [
    "abs(cons_out_failed.undermine_score-cons_out_failed.support_score).max()"
   ]
  },
  {
   "cell_type": "code",
   "execution_count": 1699,
   "metadata": {},
   "outputs": [
    {
     "data": {
      "text/plain": [
       "0.06473715000000002"
      ]
     },
     "execution_count": 1699,
     "metadata": {},
     "output_type": "execute_result"
    }
   ],
   "source": [
    "abs(cons_out_failed.undermine_score-cons_out_failed.support_score).min()"
   ]
  },
  {
   "cell_type": "code",
   "execution_count": null,
   "metadata": {},
   "outputs": [],
   "source": []
  },
  {
   "cell_type": "code",
   "execution_count": null,
   "metadata": {},
   "outputs": [],
   "source": []
  },
  {
   "cell_type": "code",
   "execution_count": 1700,
   "metadata": {},
   "outputs": [],
   "source": [
    "df_consistency_correct = df_consistency[df_consistency.predict_label==df_consistency.gold]"
   ]
  },
  {
   "cell_type": "code",
   "execution_count": 1701,
   "metadata": {},
   "outputs": [
    {
     "data": {
      "text/plain": [
       "8.938256"
      ]
     },
     "execution_count": 1701,
     "metadata": {},
     "output_type": "execute_result"
    }
   ],
   "source": [
    "abs(df_consistency_correct.undermine_score-df_consistency_correct.support_score).median()"
   ]
  },
  {
   "cell_type": "code",
   "execution_count": 1702,
   "metadata": {},
   "outputs": [
    {
     "data": {
      "text/plain": [
       "9.204997976104957"
      ]
     },
     "execution_count": 1702,
     "metadata": {},
     "output_type": "execute_result"
    }
   ],
   "source": [
    "abs(df_consistency_correct.undermine_score-df_consistency_correct.support_score).mean()"
   ]
  },
  {
   "cell_type": "code",
   "execution_count": 1703,
   "metadata": {},
   "outputs": [
    {
     "data": {
      "text/plain": [
       "19.207573"
      ]
     },
     "execution_count": 1703,
     "metadata": {},
     "output_type": "execute_result"
    }
   ],
   "source": [
    "abs(df_consistency_correct.undermine_score-df_consistency_correct.support_score).max()"
   ]
  },
  {
   "cell_type": "code",
   "execution_count": 1704,
   "metadata": {},
   "outputs": [
    {
     "data": {
      "text/plain": [
       "0.42499148"
      ]
     },
     "execution_count": 1704,
     "metadata": {},
     "output_type": "execute_result"
    }
   ],
   "source": [
    "abs(df_consistency_correct.undermine_score-df_consistency_correct.support_score).min()"
   ]
  },
  {
   "cell_type": "code",
   "execution_count": null,
   "metadata": {},
   "outputs": [],
   "source": []
  },
  {
   "cell_type": "code",
   "execution_count": 1705,
   "metadata": {},
   "outputs": [
    {
     "data": {
      "text/plain": [
       "1.673187295"
      ]
     },
     "execution_count": 1705,
     "metadata": {},
     "output_type": "execute_result"
    }
   ],
   "source": [
    "abs(df_consistency_correct.cp_distance-df_consistency_correct.cop_distance).median()"
   ]
  },
  {
   "cell_type": "code",
   "execution_count": 1706,
   "metadata": {},
   "outputs": [
    {
     "data": {
      "text/plain": [
       "1.3460315375148397"
      ]
     },
     "execution_count": 1706,
     "metadata": {},
     "output_type": "execute_result"
    }
   ],
   "source": [
    "abs(df_consistency_correct.cp_distance-df_consistency_correct.cop_distance).mean()"
   ]
  },
  {
   "cell_type": "code",
   "execution_count": 1707,
   "metadata": {},
   "outputs": [
    {
     "data": {
      "text/plain": [
       "1.9894551333000001"
      ]
     },
     "execution_count": 1707,
     "metadata": {},
     "output_type": "execute_result"
    }
   ],
   "source": [
    "abs(df_consistency_correct.cp_distance-df_consistency_correct.cop_distance).max()"
   ]
  },
  {
   "cell_type": "code",
   "execution_count": 1708,
   "metadata": {},
   "outputs": [
    {
     "data": {
      "text/plain": [
       "0.0022511999999998977"
      ]
     },
     "execution_count": 1708,
     "metadata": {},
     "output_type": "execute_result"
    }
   ],
   "source": [
    "abs(df_consistency_correct.cp_distance-df_consistency_correct.cop_distance).min()"
   ]
  },
  {
   "cell_type": "code",
   "execution_count": null,
   "metadata": {},
   "outputs": [],
   "source": []
  },
  {
   "cell_type": "code",
   "execution_count": 1709,
   "metadata": {},
   "outputs": [],
   "source": [
    "#consistent cases"
   ]
  },
  {
   "cell_type": "code",
   "execution_count": 1710,
   "metadata": {},
   "outputs": [
    {
     "data": {
      "text/html": [
       "<div>\n",
       "<style scoped>\n",
       "    .dataframe tbody tr th:only-of-type {\n",
       "        vertical-align: middle;\n",
       "    }\n",
       "\n",
       "    .dataframe tbody tr th {\n",
       "        vertical-align: top;\n",
       "    }\n",
       "\n",
       "    .dataframe thead th {\n",
       "        text-align: right;\n",
       "    }\n",
       "</style>\n",
       "<table border=\"1\" class=\"dataframe\">\n",
       "  <thead>\n",
       "    <tr style=\"text-align: right;\">\n",
       "      <th></th>\n",
       "      <th>undermine_score</th>\n",
       "      <th>support_score</th>\n",
       "      <th>cp_distance</th>\n",
       "      <th>cop_distance</th>\n",
       "      <th>predict_label</th>\n",
       "      <th>distance_label</th>\n",
       "      <th>gold</th>\n",
       "    </tr>\n",
       "  </thead>\n",
       "  <tbody>\n",
       "    <tr>\n",
       "      <th>1</th>\n",
       "      <td>1.753973</td>\n",
       "      <td>-1.208653</td>\n",
       "      <td>0.316870</td>\n",
       "      <td>0.009572</td>\n",
       "      <td>0</td>\n",
       "      <td>0</td>\n",
       "      <td>0</td>\n",
       "    </tr>\n",
       "    <tr>\n",
       "      <th>3</th>\n",
       "      <td>-4.448653</td>\n",
       "      <td>5.763899</td>\n",
       "      <td>0.011224</td>\n",
       "      <td>0.063257</td>\n",
       "      <td>1</td>\n",
       "      <td>1</td>\n",
       "      <td>1</td>\n",
       "    </tr>\n",
       "    <tr>\n",
       "      <th>4</th>\n",
       "      <td>-6.965822</td>\n",
       "      <td>7.407260</td>\n",
       "      <td>0.027215</td>\n",
       "      <td>1.449525</td>\n",
       "      <td>1</td>\n",
       "      <td>1</td>\n",
       "      <td>1</td>\n",
       "    </tr>\n",
       "    <tr>\n",
       "      <th>5</th>\n",
       "      <td>-4.014788</td>\n",
       "      <td>4.372499</td>\n",
       "      <td>0.065640</td>\n",
       "      <td>0.297210</td>\n",
       "      <td>1</td>\n",
       "      <td>1</td>\n",
       "      <td>0</td>\n",
       "    </tr>\n",
       "    <tr>\n",
       "      <th>6</th>\n",
       "      <td>-4.471383</td>\n",
       "      <td>5.813182</td>\n",
       "      <td>0.049034</td>\n",
       "      <td>0.128769</td>\n",
       "      <td>1</td>\n",
       "      <td>1</td>\n",
       "      <td>1</td>\n",
       "    </tr>\n",
       "    <tr>\n",
       "      <th>...</th>\n",
       "      <td>...</td>\n",
       "      <td>...</td>\n",
       "      <td>...</td>\n",
       "      <td>...</td>\n",
       "      <td>...</td>\n",
       "      <td>...</td>\n",
       "      <td>...</td>\n",
       "    </tr>\n",
       "    <tr>\n",
       "      <th>1183</th>\n",
       "      <td>5.780373</td>\n",
       "      <td>-5.520971</td>\n",
       "      <td>1.726345</td>\n",
       "      <td>0.840028</td>\n",
       "      <td>0</td>\n",
       "      <td>0</td>\n",
       "      <td>0</td>\n",
       "    </tr>\n",
       "    <tr>\n",
       "      <th>1184</th>\n",
       "      <td>-4.564680</td>\n",
       "      <td>4.019595</td>\n",
       "      <td>0.126133</td>\n",
       "      <td>1.572594</td>\n",
       "      <td>1</td>\n",
       "      <td>1</td>\n",
       "      <td>1</td>\n",
       "    </tr>\n",
       "    <tr>\n",
       "      <th>1188</th>\n",
       "      <td>3.730146</td>\n",
       "      <td>-3.667698</td>\n",
       "      <td>1.584377</td>\n",
       "      <td>1.510709</td>\n",
       "      <td>0</td>\n",
       "      <td>0</td>\n",
       "      <td>1</td>\n",
       "    </tr>\n",
       "    <tr>\n",
       "      <th>1189</th>\n",
       "      <td>-2.551159</td>\n",
       "      <td>2.597535</td>\n",
       "      <td>0.215551</td>\n",
       "      <td>0.353700</td>\n",
       "      <td>1</td>\n",
       "      <td>1</td>\n",
       "      <td>0</td>\n",
       "    </tr>\n",
       "    <tr>\n",
       "      <th>1191</th>\n",
       "      <td>-2.773020</td>\n",
       "      <td>2.397338</td>\n",
       "      <td>0.237195</td>\n",
       "      <td>1.429739</td>\n",
       "      <td>1</td>\n",
       "      <td>1</td>\n",
       "      <td>0</td>\n",
       "    </tr>\n",
       "  </tbody>\n",
       "</table>\n",
       "<p>1011 rows × 7 columns</p>\n",
       "</div>"
      ],
      "text/plain": [
       "      undermine_score  support_score  cp_distance  cop_distance  \\\n",
       "1            1.753973      -1.208653     0.316870      0.009572   \n",
       "3           -4.448653       5.763899     0.011224      0.063257   \n",
       "4           -6.965822       7.407260     0.027215      1.449525   \n",
       "5           -4.014788       4.372499     0.065640      0.297210   \n",
       "6           -4.471383       5.813182     0.049034      0.128769   \n",
       "...               ...            ...          ...           ...   \n",
       "1183         5.780373      -5.520971     1.726345      0.840028   \n",
       "1184        -4.564680       4.019595     0.126133      1.572594   \n",
       "1188         3.730146      -3.667698     1.584377      1.510709   \n",
       "1189        -2.551159       2.597535     0.215551      0.353700   \n",
       "1191        -2.773020       2.397338     0.237195      1.429739   \n",
       "\n",
       "      predict_label  distance_label  gold  \n",
       "1                 0               0     0  \n",
       "3                 1               1     1  \n",
       "4                 1               1     1  \n",
       "5                 1               1     0  \n",
       "6                 1               1     1  \n",
       "...             ...             ...   ...  \n",
       "1183              0               0     0  \n",
       "1184              1               1     1  \n",
       "1188              0               0     1  \n",
       "1189              1               1     0  \n",
       "1191              1               1     0  \n",
       "\n",
       "[1011 rows x 7 columns]"
      ]
     },
     "execution_count": 1710,
     "metadata": {},
     "output_type": "execute_result"
    }
   ],
   "source": [
    "df_consistency"
   ]
  },
  {
   "cell_type": "code",
   "execution_count": 1711,
   "metadata": {},
   "outputs": [],
   "source": [
    "# df_consistency.to_csv(\"consistency_data.csv\",index=False)"
   ]
  },
  {
   "cell_type": "code",
   "execution_count": 1712,
   "metadata": {},
   "outputs": [],
   "source": [
    "# df_consistency.to_excel(\"consistency_data.xlsx\",index=False)"
   ]
  },
  {
   "cell_type": "code",
   "execution_count": null,
   "metadata": {},
   "outputs": [],
   "source": []
  },
  {
   "cell_type": "code",
   "execution_count": 1713,
   "metadata": {},
   "outputs": [],
   "source": [
    "#consistent cases analysis"
   ]
  },
  {
   "cell_type": "code",
   "execution_count": 1714,
   "metadata": {},
   "outputs": [
    {
     "data": {
      "text/plain": [
       "8.6514525"
      ]
     },
     "execution_count": 1714,
     "metadata": {},
     "output_type": "execute_result"
    }
   ],
   "source": [
    "consistent_logits_median = abs(df_consistency.undermine_score-df_consistency.support_score).median()\n",
    "consistent_logits_median"
   ]
  },
  {
   "cell_type": "code",
   "execution_count": 1715,
   "metadata": {},
   "outputs": [
    {
     "data": {
      "text/plain": [
       "8.650038708587536"
      ]
     },
     "execution_count": 1715,
     "metadata": {},
     "output_type": "execute_result"
    }
   ],
   "source": [
    "consistent_logits_mean = abs(df_consistency.undermine_score-df_consistency.support_score).mean()\n",
    "consistent_logits_mean"
   ]
  },
  {
   "cell_type": "code",
   "execution_count": 1716,
   "metadata": {},
   "outputs": [
    {
     "data": {
      "text/plain": [
       "19.207573"
      ]
     },
     "execution_count": 1716,
     "metadata": {},
     "output_type": "execute_result"
    }
   ],
   "source": [
    "consistent_logits_max =abs(df_consistency.undermine_score-df_consistency.support_score).max()\n",
    "consistent_logits_max"
   ]
  },
  {
   "cell_type": "code",
   "execution_count": 1717,
   "metadata": {},
   "outputs": [
    {
     "data": {
      "text/plain": [
       "0.06473715000000002"
      ]
     },
     "execution_count": 1717,
     "metadata": {},
     "output_type": "execute_result"
    }
   ],
   "source": [
    "consistent_logits_min = abs(df_consistency.undermine_score-df_consistency.support_score).min()\n",
    "consistent_logits_min"
   ]
  },
  {
   "cell_type": "code",
   "execution_count": null,
   "metadata": {},
   "outputs": [],
   "source": []
  },
  {
   "cell_type": "code",
   "execution_count": 1718,
   "metadata": {},
   "outputs": [
    {
     "data": {
      "text/plain": [
       "1.6132816409999997"
      ]
     },
     "execution_count": 1718,
     "metadata": {},
     "output_type": "execute_result"
    }
   ],
   "source": [
    "consistent_distance_median = abs(df_consistency.cp_distance-df_consistency.cop_distance).median()\n",
    "consistent_distance_median"
   ]
  },
  {
   "cell_type": "code",
   "execution_count": 1719,
   "metadata": {},
   "outputs": [
    {
     "data": {
      "text/plain": [
       "1.3084864982906823"
      ]
     },
     "execution_count": 1719,
     "metadata": {},
     "output_type": "execute_result"
    }
   ],
   "source": [
    "consistent_distance_mean = abs(df_consistency.cp_distance-df_consistency.cop_distance).mean()\n",
    "consistent_distance_mean "
   ]
  },
  {
   "cell_type": "code",
   "execution_count": 1720,
   "metadata": {},
   "outputs": [
    {
     "data": {
      "text/plain": [
       "1.9894551333000001"
      ]
     },
     "execution_count": 1720,
     "metadata": {},
     "output_type": "execute_result"
    }
   ],
   "source": [
    "consistent_distance_max = abs(df_consistency.cp_distance-df_consistency.cop_distance).max()\n",
    "consistent_distance_max"
   ]
  },
  {
   "cell_type": "code",
   "execution_count": 1721,
   "metadata": {},
   "outputs": [
    {
     "data": {
      "text/plain": [
       "0.0011283999999998073"
      ]
     },
     "execution_count": 1721,
     "metadata": {},
     "output_type": "execute_result"
    }
   ],
   "source": [
    "consistent_distance_min = abs(df_consistency.cp_distance-df_consistency.cop_distance).min()\n",
    "consistent_distance_min"
   ]
  },
  {
   "cell_type": "code",
   "execution_count": null,
   "metadata": {},
   "outputs": [],
   "source": []
  },
  {
   "cell_type": "code",
   "execution_count": 1722,
   "metadata": {},
   "outputs": [],
   "source": [
    "#inconsistent cases analysis"
   ]
  },
  {
   "cell_type": "code",
   "execution_count": 1723,
   "metadata": {},
   "outputs": [
    {
     "data": {
      "text/plain": [
       "8.3182328"
      ]
     },
     "execution_count": 1723,
     "metadata": {},
     "output_type": "execute_result"
    }
   ],
   "source": [
    "inconsistent_logits_median = abs(df_inconsistency.undermine_score-df_inconsistency.support_score).median()\n",
    "inconsistent_logits_median"
   ]
  },
  {
   "cell_type": "code",
   "execution_count": 1724,
   "metadata": {},
   "outputs": [
    {
     "data": {
      "text/plain": [
       "8.17280257403859"
      ]
     },
     "execution_count": 1724,
     "metadata": {},
     "output_type": "execute_result"
    }
   ],
   "source": [
    "inconsistent_logits_mean = abs(df_inconsistency.undermine_score-df_inconsistency.support_score).mean()\n",
    "inconsistent_logits_mean"
   ]
  },
  {
   "cell_type": "code",
   "execution_count": 1725,
   "metadata": {},
   "outputs": [
    {
     "data": {
      "text/plain": [
       "19.207573"
      ]
     },
     "execution_count": 1725,
     "metadata": {},
     "output_type": "execute_result"
    }
   ],
   "source": [
    "inconsistent_logits_max = abs(df_inconsistency.undermine_score-df_inconsistency.support_score).max()\n",
    "inconsistent_logits_max"
   ]
  },
  {
   "cell_type": "code",
   "execution_count": 1726,
   "metadata": {},
   "outputs": [
    {
     "data": {
      "text/plain": [
       "0.03969419999999979"
      ]
     },
     "execution_count": 1726,
     "metadata": {},
     "output_type": "execute_result"
    }
   ],
   "source": [
    "inconsistent_logits_min = abs(df_inconsistency.undermine_score-df_inconsistency.support_score).min()\n",
    "inconsistent_logits_min"
   ]
  },
  {
   "cell_type": "code",
   "execution_count": null,
   "metadata": {},
   "outputs": [],
   "source": []
  },
  {
   "cell_type": "code",
   "execution_count": 1727,
   "metadata": {},
   "outputs": [
    {
     "data": {
      "text/plain": [
       "1.439801195"
      ]
     },
     "execution_count": 1727,
     "metadata": {},
     "output_type": "execute_result"
    }
   ],
   "source": [
    "inconsistent_distance_median = abs(df_inconsistency.cp_distance-df_inconsistency.cop_distance).median()\n",
    "inconsistent_distance_median"
   ]
  },
  {
   "cell_type": "code",
   "execution_count": 1728,
   "metadata": {},
   "outputs": [
    {
     "data": {
      "text/plain": [
       "1.1416546480761576"
      ]
     },
     "execution_count": 1728,
     "metadata": {},
     "output_type": "execute_result"
    }
   ],
   "source": [
    "inconsistent_distance_mean = abs(df_inconsistency.cp_distance-df_inconsistency.cop_distance).mean()\n",
    "inconsistent_distance_mean"
   ]
  },
  {
   "cell_type": "code",
   "execution_count": 1729,
   "metadata": {},
   "outputs": [
    {
     "data": {
      "text/plain": [
       "1.9894551333000001"
      ]
     },
     "execution_count": 1729,
     "metadata": {},
     "output_type": "execute_result"
    }
   ],
   "source": [
    "inconsistent_distance_max = abs(df_inconsistency.cp_distance-df_inconsistency.cop_distance).max()\n",
    "inconsistent_distance_max"
   ]
  },
  {
   "cell_type": "code",
   "execution_count": 1730,
   "metadata": {},
   "outputs": [
    {
     "data": {
      "text/plain": [
       "0.00023657500000000276"
      ]
     },
     "execution_count": 1730,
     "metadata": {},
     "output_type": "execute_result"
    }
   ],
   "source": [
    "inconsistent_distance_min = abs(df_inconsistency.cp_distance-df_inconsistency.cop_distance).min()\n",
    "inconsistent_distance_min"
   ]
  },
  {
   "cell_type": "code",
   "execution_count": null,
   "metadata": {},
   "outputs": [],
   "source": []
  },
  {
   "cell_type": "code",
   "execution_count": 1731,
   "metadata": {},
   "outputs": [],
   "source": [
    "# Use the \"distance to median\" to decide final prediction"
   ]
  },
  {
   "cell_type": "code",
   "execution_count": 1732,
   "metadata": {
    "scrolled": true
   },
   "outputs": [
    {
     "data": {
      "text/html": [
       "<div>\n",
       "<style scoped>\n",
       "    .dataframe tbody tr th:only-of-type {\n",
       "        vertical-align: middle;\n",
       "    }\n",
       "\n",
       "    .dataframe tbody tr th {\n",
       "        vertical-align: top;\n",
       "    }\n",
       "\n",
       "    .dataframe thead th {\n",
       "        text-align: right;\n",
       "    }\n",
       "</style>\n",
       "<table border=\"1\" class=\"dataframe\">\n",
       "  <thead>\n",
       "    <tr style=\"text-align: right;\">\n",
       "      <th></th>\n",
       "      <th>undermine_score</th>\n",
       "      <th>support_score</th>\n",
       "      <th>cp_distance</th>\n",
       "      <th>cop_distance</th>\n",
       "      <th>predict_label</th>\n",
       "      <th>distance_label</th>\n",
       "      <th>gold</th>\n",
       "    </tr>\n",
       "  </thead>\n",
       "  <tbody>\n",
       "    <tr>\n",
       "      <th>0</th>\n",
       "      <td>-2.286710</td>\n",
       "      <td>4.179139</td>\n",
       "      <td>0.337187</td>\n",
       "      <td>0.012638</td>\n",
       "      <td>1</td>\n",
       "      <td>0</td>\n",
       "      <td>1</td>\n",
       "    </tr>\n",
       "    <tr>\n",
       "      <th>1</th>\n",
       "      <td>1.753973</td>\n",
       "      <td>-1.208653</td>\n",
       "      <td>0.316870</td>\n",
       "      <td>0.009572</td>\n",
       "      <td>0</td>\n",
       "      <td>0</td>\n",
       "      <td>0</td>\n",
       "    </tr>\n",
       "    <tr>\n",
       "      <th>2</th>\n",
       "      <td>-2.058090</td>\n",
       "      <td>3.866679</td>\n",
       "      <td>0.321512</td>\n",
       "      <td>0.009185</td>\n",
       "      <td>1</td>\n",
       "      <td>0</td>\n",
       "      <td>0</td>\n",
       "    </tr>\n",
       "    <tr>\n",
       "      <th>3</th>\n",
       "      <td>-4.448653</td>\n",
       "      <td>5.763899</td>\n",
       "      <td>0.011224</td>\n",
       "      <td>0.063257</td>\n",
       "      <td>1</td>\n",
       "      <td>1</td>\n",
       "      <td>1</td>\n",
       "    </tr>\n",
       "    <tr>\n",
       "      <th>4</th>\n",
       "      <td>-6.965822</td>\n",
       "      <td>7.407260</td>\n",
       "      <td>0.027215</td>\n",
       "      <td>1.449525</td>\n",
       "      <td>1</td>\n",
       "      <td>1</td>\n",
       "      <td>1</td>\n",
       "    </tr>\n",
       "    <tr>\n",
       "      <th>...</th>\n",
       "      <td>...</td>\n",
       "      <td>...</td>\n",
       "      <td>...</td>\n",
       "      <td>...</td>\n",
       "      <td>...</td>\n",
       "      <td>...</td>\n",
       "      <td>...</td>\n",
       "    </tr>\n",
       "    <tr>\n",
       "      <th>1187</th>\n",
       "      <td>1.370541</td>\n",
       "      <td>-0.049608</td>\n",
       "      <td>1.202502</td>\n",
       "      <td>1.270629</td>\n",
       "      <td>0</td>\n",
       "      <td>1</td>\n",
       "      <td>0</td>\n",
       "    </tr>\n",
       "    <tr>\n",
       "      <th>1188</th>\n",
       "      <td>3.730146</td>\n",
       "      <td>-3.667698</td>\n",
       "      <td>1.584377</td>\n",
       "      <td>1.510709</td>\n",
       "      <td>0</td>\n",
       "      <td>0</td>\n",
       "      <td>1</td>\n",
       "    </tr>\n",
       "    <tr>\n",
       "      <th>1189</th>\n",
       "      <td>-2.551159</td>\n",
       "      <td>2.597535</td>\n",
       "      <td>0.215551</td>\n",
       "      <td>0.353700</td>\n",
       "      <td>1</td>\n",
       "      <td>1</td>\n",
       "      <td>0</td>\n",
       "    </tr>\n",
       "    <tr>\n",
       "      <th>1190</th>\n",
       "      <td>2.449668</td>\n",
       "      <td>-1.096902</td>\n",
       "      <td>1.351404</td>\n",
       "      <td>1.474139</td>\n",
       "      <td>0</td>\n",
       "      <td>1</td>\n",
       "      <td>0</td>\n",
       "    </tr>\n",
       "    <tr>\n",
       "      <th>1191</th>\n",
       "      <td>-2.773020</td>\n",
       "      <td>2.397338</td>\n",
       "      <td>0.237195</td>\n",
       "      <td>1.429739</td>\n",
       "      <td>1</td>\n",
       "      <td>1</td>\n",
       "      <td>0</td>\n",
       "    </tr>\n",
       "  </tbody>\n",
       "</table>\n",
       "<p>1192 rows × 7 columns</p>\n",
       "</div>"
      ],
      "text/plain": [
       "      undermine_score  support_score  cp_distance  cop_distance  \\\n",
       "0           -2.286710       4.179139     0.337187      0.012638   \n",
       "1            1.753973      -1.208653     0.316870      0.009572   \n",
       "2           -2.058090       3.866679     0.321512      0.009185   \n",
       "3           -4.448653       5.763899     0.011224      0.063257   \n",
       "4           -6.965822       7.407260     0.027215      1.449525   \n",
       "...               ...            ...          ...           ...   \n",
       "1187         1.370541      -0.049608     1.202502      1.270629   \n",
       "1188         3.730146      -3.667698     1.584377      1.510709   \n",
       "1189        -2.551159       2.597535     0.215551      0.353700   \n",
       "1190         2.449668      -1.096902     1.351404      1.474139   \n",
       "1191        -2.773020       2.397338     0.237195      1.429739   \n",
       "\n",
       "      predict_label  distance_label  gold  \n",
       "0                 1               0     1  \n",
       "1                 0               0     0  \n",
       "2                 1               0     0  \n",
       "3                 1               1     1  \n",
       "4                 1               1     1  \n",
       "...             ...             ...   ...  \n",
       "1187              0               1     0  \n",
       "1188              0               0     1  \n",
       "1189              1               1     0  \n",
       "1190              0               1     0  \n",
       "1191              1               1     0  \n",
       "\n",
       "[1192 rows x 7 columns]"
      ]
     },
     "execution_count": 1732,
     "metadata": {},
     "output_type": "execute_result"
    }
   ],
   "source": [
    "df_inconsistency"
   ]
  },
  {
   "cell_type": "code",
   "execution_count": null,
   "metadata": {},
   "outputs": [],
   "source": []
  },
  {
   "cell_type": "code",
   "execution_count": 1733,
   "metadata": {},
   "outputs": [],
   "source": [
    "dwrong_lcorrect_logits_median = abs(dwrong_lcorrect_out.undermine_score-dwrong_lcorrect_out.support_score).median()\n",
    "dwrong_lcorrect_logits_mean = abs(dwrong_lcorrect_out.undermine_score-dwrong_lcorrect_out.support_score).mean()"
   ]
  },
  {
   "cell_type": "code",
   "execution_count": 1734,
   "metadata": {},
   "outputs": [],
   "source": [
    "# dcorrect_lwrong_logits_median = abs(dcorrect_lwrong_out.undermine_score-dcorrect_lwrong_out.support_score).median()"
   ]
  },
  {
   "cell_type": "code",
   "execution_count": null,
   "metadata": {},
   "outputs": [],
   "source": []
  },
  {
   "cell_type": "code",
   "execution_count": 1735,
   "metadata": {},
   "outputs": [],
   "source": [
    "# dwrong_lcorrect_distance_median = abs(dwrong_lcorrect_out.cp_distance-dwrong_lcorrect_out.cop_distance).median()"
   ]
  },
  {
   "cell_type": "code",
   "execution_count": 1736,
   "metadata": {},
   "outputs": [],
   "source": [
    "dcorrect_lwrong_distance_median = abs(dcorrect_lwrong_out.cp_distance-dcorrect_lwrong_out.cop_distance).median()\n",
    "dcorrect_lwrong_distance_mean = abs(dcorrect_lwrong_out.cp_distance-dcorrect_lwrong_out.cop_distance).mean()"
   ]
  },
  {
   "cell_type": "code",
   "execution_count": null,
   "metadata": {},
   "outputs": [],
   "source": []
  },
  {
   "cell_type": "code",
   "execution_count": 1737,
   "metadata": {},
   "outputs": [],
   "source": [
    "distance_to_logits_median = abs(df_inconsistency.undermine_score-df_inconsistency.support_score)-inconsistent_logits_median\n",
    "distance_to_logits_mean = abs(df_inconsistency.undermine_score-df_inconsistency.support_score)-inconsistent_logits_mean"
   ]
  },
  {
   "cell_type": "code",
   "execution_count": 1738,
   "metadata": {},
   "outputs": [],
   "source": [
    "df_inconsistency[\"distance_to_logtis\"] = (distance_to_logits_median-distance_to_logits_median.min())/(distance_to_logits_median.max()-distance_to_logits_median.min())"
   ]
  },
  {
   "cell_type": "code",
   "execution_count": 1739,
   "metadata": {},
   "outputs": [],
   "source": [
    "# df_inconsistency[\"distance_to_logtis\"] = (distance_to_logits_mean-distance_to_logits_mean.min())/(distance_to_logits_mean.max()-distance_to_logits_mean.min())"
   ]
  },
  {
   "cell_type": "code",
   "execution_count": 1740,
   "metadata": {},
   "outputs": [
    {
     "data": {
      "text/plain": [
       "10.8893402"
      ]
     },
     "execution_count": 1740,
     "metadata": {},
     "output_type": "execute_result"
    }
   ],
   "source": [
    "distance_to_logits_median.max()"
   ]
  },
  {
   "cell_type": "code",
   "execution_count": 1741,
   "metadata": {},
   "outputs": [
    {
     "data": {
      "text/plain": [
       "11.03477042596141"
      ]
     },
     "execution_count": 1741,
     "metadata": {},
     "output_type": "execute_result"
    }
   ],
   "source": [
    "distance_to_logits_mean.max()"
   ]
  },
  {
   "cell_type": "code",
   "execution_count": 1742,
   "metadata": {},
   "outputs": [],
   "source": [
    "distance_to_distance_median = abs(df_inconsistency.cp_distance-df_inconsistency.cop_distance)-inconsistent_distance_median\n",
    "distance_to_distance_mean = abs(df_inconsistency.cp_distance-df_inconsistency.cop_distance)-inconsistent_distance_mean"
   ]
  },
  {
   "cell_type": "code",
   "execution_count": 1743,
   "metadata": {},
   "outputs": [
    {
     "data": {
      "text/plain": [
       "0       0.163035\n",
       "1       0.154363\n",
       "2       0.156891\n",
       "3       0.026039\n",
       "4       0.714890\n",
       "          ...   \n",
       "1187    0.034129\n",
       "1188    0.036915\n",
       "1189    0.069330\n",
       "1190    0.061581\n",
       "1191    0.599385\n",
       "Length: 1192, dtype: float64"
      ]
     },
     "execution_count": 1743,
     "metadata": {},
     "output_type": "execute_result"
    }
   ],
   "source": [
    "(distance_to_distance_median-distance_to_distance_median.min())/(distance_to_distance_median.max()-distance_to_distance_median.min())"
   ]
  },
  {
   "cell_type": "code",
   "execution_count": 1744,
   "metadata": {},
   "outputs": [
    {
     "data": {
      "text/plain": [
       "1.9892185583000002"
      ]
     },
     "execution_count": 1744,
     "metadata": {},
     "output_type": "execute_result"
    }
   ],
   "source": [
    "(distance_to_distance_median.max()-distance_to_distance_median.min())"
   ]
  },
  {
   "cell_type": "code",
   "execution_count": 1745,
   "metadata": {},
   "outputs": [
    {
     "data": {
      "text/plain": [
       "0       0.163035\n",
       "1       0.154363\n",
       "2       0.156891\n",
       "3       0.026039\n",
       "4       0.714890\n",
       "          ...   \n",
       "1187    0.034129\n",
       "1188    0.036915\n",
       "1189    0.069330\n",
       "1190    0.061581\n",
       "1191    0.599385\n",
       "Length: 1192, dtype: float64"
      ]
     },
     "execution_count": 1745,
     "metadata": {},
     "output_type": "execute_result"
    }
   ],
   "source": [
    "(distance_to_distance_mean-distance_to_distance_mean.min())/(distance_to_distance_mean.max()-distance_to_distance_mean.min())"
   ]
  },
  {
   "cell_type": "code",
   "execution_count": 1746,
   "metadata": {},
   "outputs": [],
   "source": [
    "df_inconsistency[\"distance_to_distance\"] = (distance_to_distance_median-distance_to_distance_median.min())/(distance_to_distance_median.max()-distance_to_distance_median.min())"
   ]
  },
  {
   "cell_type": "code",
   "execution_count": 1747,
   "metadata": {},
   "outputs": [],
   "source": [
    "# df_inconsistency[\"distance_to_distance\"] = (distance_to_distance_mean-distance_to_distance_mean.min())/(distance_to_distance_mean.max()-distance_to_distance_mean.min())"
   ]
  },
  {
   "cell_type": "code",
   "execution_count": 1748,
   "metadata": {},
   "outputs": [
    {
     "data": {
      "text/html": [
       "<div>\n",
       "<style scoped>\n",
       "    .dataframe tbody tr th:only-of-type {\n",
       "        vertical-align: middle;\n",
       "    }\n",
       "\n",
       "    .dataframe tbody tr th {\n",
       "        vertical-align: top;\n",
       "    }\n",
       "\n",
       "    .dataframe thead th {\n",
       "        text-align: right;\n",
       "    }\n",
       "</style>\n",
       "<table border=\"1\" class=\"dataframe\">\n",
       "  <thead>\n",
       "    <tr style=\"text-align: right;\">\n",
       "      <th></th>\n",
       "      <th>undermine_score</th>\n",
       "      <th>support_score</th>\n",
       "      <th>cp_distance</th>\n",
       "      <th>cop_distance</th>\n",
       "      <th>predict_label</th>\n",
       "      <th>distance_label</th>\n",
       "      <th>gold</th>\n",
       "      <th>distance_to_logtis</th>\n",
       "      <th>distance_to_distance</th>\n",
       "    </tr>\n",
       "  </thead>\n",
       "  <tbody>\n",
       "    <tr>\n",
       "      <th>0</th>\n",
       "      <td>-2.286710</td>\n",
       "      <td>4.179139</td>\n",
       "      <td>0.337187</td>\n",
       "      <td>0.012638</td>\n",
       "      <td>1</td>\n",
       "      <td>0</td>\n",
       "      <td>1</td>\n",
       "      <td>0.335256</td>\n",
       "      <td>0.163035</td>\n",
       "    </tr>\n",
       "    <tr>\n",
       "      <th>1</th>\n",
       "      <td>1.753973</td>\n",
       "      <td>-1.208653</td>\n",
       "      <td>0.316870</td>\n",
       "      <td>0.009572</td>\n",
       "      <td>0</td>\n",
       "      <td>0</td>\n",
       "      <td>0</td>\n",
       "      <td>0.152491</td>\n",
       "      <td>0.154363</td>\n",
       "    </tr>\n",
       "    <tr>\n",
       "      <th>2</th>\n",
       "      <td>-2.058090</td>\n",
       "      <td>3.866679</td>\n",
       "      <td>0.321512</td>\n",
       "      <td>0.009185</td>\n",
       "      <td>1</td>\n",
       "      <td>0</td>\n",
       "      <td>0</td>\n",
       "      <td>0.307028</td>\n",
       "      <td>0.156891</td>\n",
       "    </tr>\n",
       "    <tr>\n",
       "      <th>3</th>\n",
       "      <td>-4.448653</td>\n",
       "      <td>5.763899</td>\n",
       "      <td>0.011224</td>\n",
       "      <td>0.063257</td>\n",
       "      <td>1</td>\n",
       "      <td>1</td>\n",
       "      <td>1</td>\n",
       "      <td>0.530724</td>\n",
       "      <td>0.026039</td>\n",
       "    </tr>\n",
       "    <tr>\n",
       "      <th>4</th>\n",
       "      <td>-6.965822</td>\n",
       "      <td>7.407260</td>\n",
       "      <td>0.027215</td>\n",
       "      <td>1.449525</td>\n",
       "      <td>1</td>\n",
       "      <td>1</td>\n",
       "      <td>1</td>\n",
       "      <td>0.747782</td>\n",
       "      <td>0.714890</td>\n",
       "    </tr>\n",
       "    <tr>\n",
       "      <th>...</th>\n",
       "      <td>...</td>\n",
       "      <td>...</td>\n",
       "      <td>...</td>\n",
       "      <td>...</td>\n",
       "      <td>...</td>\n",
       "      <td>...</td>\n",
       "      <td>...</td>\n",
       "      <td>...</td>\n",
       "      <td>...</td>\n",
       "    </tr>\n",
       "    <tr>\n",
       "      <th>1187</th>\n",
       "      <td>1.370541</td>\n",
       "      <td>-0.049608</td>\n",
       "      <td>1.202502</td>\n",
       "      <td>1.270629</td>\n",
       "      <td>0</td>\n",
       "      <td>1</td>\n",
       "      <td>0</td>\n",
       "      <td>0.072019</td>\n",
       "      <td>0.034129</td>\n",
       "    </tr>\n",
       "    <tr>\n",
       "      <th>1188</th>\n",
       "      <td>3.730146</td>\n",
       "      <td>-3.667698</td>\n",
       "      <td>1.584377</td>\n",
       "      <td>1.510709</td>\n",
       "      <td>0</td>\n",
       "      <td>0</td>\n",
       "      <td>1</td>\n",
       "      <td>0.383879</td>\n",
       "      <td>0.036915</td>\n",
       "    </tr>\n",
       "    <tr>\n",
       "      <th>1189</th>\n",
       "      <td>-2.551159</td>\n",
       "      <td>2.597535</td>\n",
       "      <td>0.215551</td>\n",
       "      <td>0.353700</td>\n",
       "      <td>1</td>\n",
       "      <td>1</td>\n",
       "      <td>0</td>\n",
       "      <td>0.266540</td>\n",
       "      <td>0.069330</td>\n",
       "    </tr>\n",
       "    <tr>\n",
       "      <th>1190</th>\n",
       "      <td>2.449668</td>\n",
       "      <td>-1.096902</td>\n",
       "      <td>1.351404</td>\n",
       "      <td>1.474139</td>\n",
       "      <td>0</td>\n",
       "      <td>1</td>\n",
       "      <td>0</td>\n",
       "      <td>0.182956</td>\n",
       "      <td>0.061581</td>\n",
       "    </tr>\n",
       "    <tr>\n",
       "      <th>1191</th>\n",
       "      <td>-2.773020</td>\n",
       "      <td>2.397338</td>\n",
       "      <td>0.237195</td>\n",
       "      <td>1.429739</td>\n",
       "      <td>1</td>\n",
       "      <td>1</td>\n",
       "      <td>0</td>\n",
       "      <td>0.267670</td>\n",
       "      <td>0.599385</td>\n",
       "    </tr>\n",
       "  </tbody>\n",
       "</table>\n",
       "<p>1192 rows × 9 columns</p>\n",
       "</div>"
      ],
      "text/plain": [
       "      undermine_score  support_score  cp_distance  cop_distance  \\\n",
       "0           -2.286710       4.179139     0.337187      0.012638   \n",
       "1            1.753973      -1.208653     0.316870      0.009572   \n",
       "2           -2.058090       3.866679     0.321512      0.009185   \n",
       "3           -4.448653       5.763899     0.011224      0.063257   \n",
       "4           -6.965822       7.407260     0.027215      1.449525   \n",
       "...               ...            ...          ...           ...   \n",
       "1187         1.370541      -0.049608     1.202502      1.270629   \n",
       "1188         3.730146      -3.667698     1.584377      1.510709   \n",
       "1189        -2.551159       2.597535     0.215551      0.353700   \n",
       "1190         2.449668      -1.096902     1.351404      1.474139   \n",
       "1191        -2.773020       2.397338     0.237195      1.429739   \n",
       "\n",
       "      predict_label  distance_label  gold  distance_to_logtis  \\\n",
       "0                 1               0     1            0.335256   \n",
       "1                 0               0     0            0.152491   \n",
       "2                 1               0     0            0.307028   \n",
       "3                 1               1     1            0.530724   \n",
       "4                 1               1     1            0.747782   \n",
       "...             ...             ...   ...                 ...   \n",
       "1187              0               1     0            0.072019   \n",
       "1188              0               0     1            0.383879   \n",
       "1189              1               1     0            0.266540   \n",
       "1190              0               1     0            0.182956   \n",
       "1191              1               1     0            0.267670   \n",
       "\n",
       "      distance_to_distance  \n",
       "0                 0.163035  \n",
       "1                 0.154363  \n",
       "2                 0.156891  \n",
       "3                 0.026039  \n",
       "4                 0.714890  \n",
       "...                    ...  \n",
       "1187              0.034129  \n",
       "1188              0.036915  \n",
       "1189              0.069330  \n",
       "1190              0.061581  \n",
       "1191              0.599385  \n",
       "\n",
       "[1192 rows x 9 columns]"
      ]
     },
     "execution_count": 1748,
     "metadata": {},
     "output_type": "execute_result"
    }
   ],
   "source": [
    "df_inconsistency"
   ]
  },
  {
   "cell_type": "code",
   "execution_count": 1749,
   "metadata": {},
   "outputs": [
    {
     "data": {
      "text/html": [
       "<div>\n",
       "<style scoped>\n",
       "    .dataframe tbody tr th:only-of-type {\n",
       "        vertical-align: middle;\n",
       "    }\n",
       "\n",
       "    .dataframe tbody tr th {\n",
       "        vertical-align: top;\n",
       "    }\n",
       "\n",
       "    .dataframe thead th {\n",
       "        text-align: right;\n",
       "    }\n",
       "</style>\n",
       "<table border=\"1\" class=\"dataframe\">\n",
       "  <thead>\n",
       "    <tr style=\"text-align: right;\">\n",
       "      <th></th>\n",
       "      <th>undermine_score</th>\n",
       "      <th>support_score</th>\n",
       "      <th>cp_distance</th>\n",
       "      <th>cop_distance</th>\n",
       "      <th>predict_label</th>\n",
       "      <th>distance_label</th>\n",
       "      <th>gold</th>\n",
       "    </tr>\n",
       "  </thead>\n",
       "  <tbody>\n",
       "    <tr>\n",
       "      <th>1</th>\n",
       "      <td>1.753973</td>\n",
       "      <td>-1.208653</td>\n",
       "      <td>0.316870</td>\n",
       "      <td>0.009572</td>\n",
       "      <td>0</td>\n",
       "      <td>0</td>\n",
       "      <td>0</td>\n",
       "    </tr>\n",
       "    <tr>\n",
       "      <th>3</th>\n",
       "      <td>-4.448653</td>\n",
       "      <td>5.763899</td>\n",
       "      <td>0.011224</td>\n",
       "      <td>0.063257</td>\n",
       "      <td>1</td>\n",
       "      <td>1</td>\n",
       "      <td>1</td>\n",
       "    </tr>\n",
       "    <tr>\n",
       "      <th>4</th>\n",
       "      <td>-6.965822</td>\n",
       "      <td>7.407260</td>\n",
       "      <td>0.027215</td>\n",
       "      <td>1.449525</td>\n",
       "      <td>1</td>\n",
       "      <td>1</td>\n",
       "      <td>1</td>\n",
       "    </tr>\n",
       "    <tr>\n",
       "      <th>5</th>\n",
       "      <td>-4.014788</td>\n",
       "      <td>4.372499</td>\n",
       "      <td>0.065640</td>\n",
       "      <td>0.297210</td>\n",
       "      <td>1</td>\n",
       "      <td>1</td>\n",
       "      <td>0</td>\n",
       "    </tr>\n",
       "    <tr>\n",
       "      <th>6</th>\n",
       "      <td>-4.471383</td>\n",
       "      <td>5.813182</td>\n",
       "      <td>0.049034</td>\n",
       "      <td>0.128769</td>\n",
       "      <td>1</td>\n",
       "      <td>1</td>\n",
       "      <td>1</td>\n",
       "    </tr>\n",
       "    <tr>\n",
       "      <th>...</th>\n",
       "      <td>...</td>\n",
       "      <td>...</td>\n",
       "      <td>...</td>\n",
       "      <td>...</td>\n",
       "      <td>...</td>\n",
       "      <td>...</td>\n",
       "      <td>...</td>\n",
       "    </tr>\n",
       "    <tr>\n",
       "      <th>1183</th>\n",
       "      <td>5.780373</td>\n",
       "      <td>-5.520971</td>\n",
       "      <td>1.726345</td>\n",
       "      <td>0.840028</td>\n",
       "      <td>0</td>\n",
       "      <td>0</td>\n",
       "      <td>0</td>\n",
       "    </tr>\n",
       "    <tr>\n",
       "      <th>1184</th>\n",
       "      <td>-4.564680</td>\n",
       "      <td>4.019595</td>\n",
       "      <td>0.126133</td>\n",
       "      <td>1.572594</td>\n",
       "      <td>1</td>\n",
       "      <td>1</td>\n",
       "      <td>1</td>\n",
       "    </tr>\n",
       "    <tr>\n",
       "      <th>1188</th>\n",
       "      <td>3.730146</td>\n",
       "      <td>-3.667698</td>\n",
       "      <td>1.584377</td>\n",
       "      <td>1.510709</td>\n",
       "      <td>0</td>\n",
       "      <td>0</td>\n",
       "      <td>1</td>\n",
       "    </tr>\n",
       "    <tr>\n",
       "      <th>1189</th>\n",
       "      <td>-2.551159</td>\n",
       "      <td>2.597535</td>\n",
       "      <td>0.215551</td>\n",
       "      <td>0.353700</td>\n",
       "      <td>1</td>\n",
       "      <td>1</td>\n",
       "      <td>0</td>\n",
       "    </tr>\n",
       "    <tr>\n",
       "      <th>1191</th>\n",
       "      <td>-2.773020</td>\n",
       "      <td>2.397338</td>\n",
       "      <td>0.237195</td>\n",
       "      <td>1.429739</td>\n",
       "      <td>1</td>\n",
       "      <td>1</td>\n",
       "      <td>0</td>\n",
       "    </tr>\n",
       "  </tbody>\n",
       "</table>\n",
       "<p>1011 rows × 7 columns</p>\n",
       "</div>"
      ],
      "text/plain": [
       "      undermine_score  support_score  cp_distance  cop_distance  \\\n",
       "1            1.753973      -1.208653     0.316870      0.009572   \n",
       "3           -4.448653       5.763899     0.011224      0.063257   \n",
       "4           -6.965822       7.407260     0.027215      1.449525   \n",
       "5           -4.014788       4.372499     0.065640      0.297210   \n",
       "6           -4.471383       5.813182     0.049034      0.128769   \n",
       "...               ...            ...          ...           ...   \n",
       "1183         5.780373      -5.520971     1.726345      0.840028   \n",
       "1184        -4.564680       4.019595     0.126133      1.572594   \n",
       "1188         3.730146      -3.667698     1.584377      1.510709   \n",
       "1189        -2.551159       2.597535     0.215551      0.353700   \n",
       "1191        -2.773020       2.397338     0.237195      1.429739   \n",
       "\n",
       "      predict_label  distance_label  gold  \n",
       "1                 0               0     0  \n",
       "3                 1               1     1  \n",
       "4                 1               1     1  \n",
       "5                 1               1     0  \n",
       "6                 1               1     1  \n",
       "...             ...             ...   ...  \n",
       "1183              0               0     0  \n",
       "1184              1               1     1  \n",
       "1188              0               0     1  \n",
       "1189              1               1     0  \n",
       "1191              1               1     0  \n",
       "\n",
       "[1011 rows x 7 columns]"
      ]
     },
     "execution_count": 1749,
     "metadata": {},
     "output_type": "execute_result"
    }
   ],
   "source": [
    "df_consistency"
   ]
  },
  {
   "cell_type": "code",
   "execution_count": null,
   "metadata": {},
   "outputs": [],
   "source": []
  },
  {
   "cell_type": "code",
   "execution_count": 1750,
   "metadata": {},
   "outputs": [],
   "source": [
    "import flyingsquid\n",
    "from numpy.random import seed, rand\n",
    "import itertools\n",
    "import numpy as np"
   ]
  },
  {
   "cell_type": "code",
   "execution_count": 1751,
   "metadata": {},
   "outputs": [
    {
     "name": "stderr",
     "output_type": "stream",
     "text": [
      "C:\\Users\\arsen\\AppData\\Roaming\\Python\\Python37\\site-packages\\IPython\\core\\displayhook.py:276: UserWarning: Output cache limit (currently 1000 entries) hit.\n",
      "Flushing oldest 200 entries.\n",
      "  'Flushing oldest {cull_count} entries.'.format(sz=sz, cull_count=cull_count))\n"
     ]
    },
    {
     "data": {
      "text/html": [
       "<div>\n",
       "<style scoped>\n",
       "    .dataframe tbody tr th:only-of-type {\n",
       "        vertical-align: middle;\n",
       "    }\n",
       "\n",
       "    .dataframe tbody tr th {\n",
       "        vertical-align: top;\n",
       "    }\n",
       "\n",
       "    .dataframe thead th {\n",
       "        text-align: right;\n",
       "    }\n",
       "</style>\n",
       "<table border=\"1\" class=\"dataframe\">\n",
       "  <thead>\n",
       "    <tr style=\"text-align: right;\">\n",
       "      <th></th>\n",
       "      <th>undermine_score</th>\n",
       "      <th>support_score</th>\n",
       "      <th>cp_distance</th>\n",
       "      <th>cop_distance</th>\n",
       "      <th>predict_label</th>\n",
       "      <th>distance_label</th>\n",
       "      <th>gold</th>\n",
       "      <th>distance_to_logtis</th>\n",
       "      <th>distance_to_distance</th>\n",
       "    </tr>\n",
       "  </thead>\n",
       "  <tbody>\n",
       "    <tr>\n",
       "      <th>0</th>\n",
       "      <td>-2.286710</td>\n",
       "      <td>4.179139</td>\n",
       "      <td>0.337187</td>\n",
       "      <td>0.012638</td>\n",
       "      <td>1</td>\n",
       "      <td>0</td>\n",
       "      <td>1</td>\n",
       "      <td>0.335256</td>\n",
       "      <td>0.163035</td>\n",
       "    </tr>\n",
       "    <tr>\n",
       "      <th>1</th>\n",
       "      <td>1.753973</td>\n",
       "      <td>-1.208653</td>\n",
       "      <td>0.316870</td>\n",
       "      <td>0.009572</td>\n",
       "      <td>0</td>\n",
       "      <td>0</td>\n",
       "      <td>0</td>\n",
       "      <td>0.152491</td>\n",
       "      <td>0.154363</td>\n",
       "    </tr>\n",
       "    <tr>\n",
       "      <th>2</th>\n",
       "      <td>-2.058090</td>\n",
       "      <td>3.866679</td>\n",
       "      <td>0.321512</td>\n",
       "      <td>0.009185</td>\n",
       "      <td>1</td>\n",
       "      <td>0</td>\n",
       "      <td>0</td>\n",
       "      <td>0.307028</td>\n",
       "      <td>0.156891</td>\n",
       "    </tr>\n",
       "    <tr>\n",
       "      <th>3</th>\n",
       "      <td>-4.448653</td>\n",
       "      <td>5.763899</td>\n",
       "      <td>0.011224</td>\n",
       "      <td>0.063257</td>\n",
       "      <td>1</td>\n",
       "      <td>1</td>\n",
       "      <td>1</td>\n",
       "      <td>0.530724</td>\n",
       "      <td>0.026039</td>\n",
       "    </tr>\n",
       "    <tr>\n",
       "      <th>4</th>\n",
       "      <td>-6.965822</td>\n",
       "      <td>7.407260</td>\n",
       "      <td>0.027215</td>\n",
       "      <td>1.449525</td>\n",
       "      <td>1</td>\n",
       "      <td>1</td>\n",
       "      <td>1</td>\n",
       "      <td>0.747782</td>\n",
       "      <td>0.714890</td>\n",
       "    </tr>\n",
       "    <tr>\n",
       "      <th>...</th>\n",
       "      <td>...</td>\n",
       "      <td>...</td>\n",
       "      <td>...</td>\n",
       "      <td>...</td>\n",
       "      <td>...</td>\n",
       "      <td>...</td>\n",
       "      <td>...</td>\n",
       "      <td>...</td>\n",
       "      <td>...</td>\n",
       "    </tr>\n",
       "    <tr>\n",
       "      <th>1187</th>\n",
       "      <td>1.370541</td>\n",
       "      <td>-0.049608</td>\n",
       "      <td>1.202502</td>\n",
       "      <td>1.270629</td>\n",
       "      <td>0</td>\n",
       "      <td>1</td>\n",
       "      <td>0</td>\n",
       "      <td>0.072019</td>\n",
       "      <td>0.034129</td>\n",
       "    </tr>\n",
       "    <tr>\n",
       "      <th>1188</th>\n",
       "      <td>3.730146</td>\n",
       "      <td>-3.667698</td>\n",
       "      <td>1.584377</td>\n",
       "      <td>1.510709</td>\n",
       "      <td>0</td>\n",
       "      <td>0</td>\n",
       "      <td>1</td>\n",
       "      <td>0.383879</td>\n",
       "      <td>0.036915</td>\n",
       "    </tr>\n",
       "    <tr>\n",
       "      <th>1189</th>\n",
       "      <td>-2.551159</td>\n",
       "      <td>2.597535</td>\n",
       "      <td>0.215551</td>\n",
       "      <td>0.353700</td>\n",
       "      <td>1</td>\n",
       "      <td>1</td>\n",
       "      <td>0</td>\n",
       "      <td>0.266540</td>\n",
       "      <td>0.069330</td>\n",
       "    </tr>\n",
       "    <tr>\n",
       "      <th>1190</th>\n",
       "      <td>2.449668</td>\n",
       "      <td>-1.096902</td>\n",
       "      <td>1.351404</td>\n",
       "      <td>1.474139</td>\n",
       "      <td>0</td>\n",
       "      <td>1</td>\n",
       "      <td>0</td>\n",
       "      <td>0.182956</td>\n",
       "      <td>0.061581</td>\n",
       "    </tr>\n",
       "    <tr>\n",
       "      <th>1191</th>\n",
       "      <td>-2.773020</td>\n",
       "      <td>2.397338</td>\n",
       "      <td>0.237195</td>\n",
       "      <td>1.429739</td>\n",
       "      <td>1</td>\n",
       "      <td>1</td>\n",
       "      <td>0</td>\n",
       "      <td>0.267670</td>\n",
       "      <td>0.599385</td>\n",
       "    </tr>\n",
       "  </tbody>\n",
       "</table>\n",
       "<p>1192 rows × 9 columns</p>\n",
       "</div>"
      ],
      "text/plain": [
       "      undermine_score  support_score  cp_distance  cop_distance  \\\n",
       "0           -2.286710       4.179139     0.337187      0.012638   \n",
       "1            1.753973      -1.208653     0.316870      0.009572   \n",
       "2           -2.058090       3.866679     0.321512      0.009185   \n",
       "3           -4.448653       5.763899     0.011224      0.063257   \n",
       "4           -6.965822       7.407260     0.027215      1.449525   \n",
       "...               ...            ...          ...           ...   \n",
       "1187         1.370541      -0.049608     1.202502      1.270629   \n",
       "1188         3.730146      -3.667698     1.584377      1.510709   \n",
       "1189        -2.551159       2.597535     0.215551      0.353700   \n",
       "1190         2.449668      -1.096902     1.351404      1.474139   \n",
       "1191        -2.773020       2.397338     0.237195      1.429739   \n",
       "\n",
       "      predict_label  distance_label  gold  distance_to_logtis  \\\n",
       "0                 1               0     1            0.335256   \n",
       "1                 0               0     0            0.152491   \n",
       "2                 1               0     0            0.307028   \n",
       "3                 1               1     1            0.530724   \n",
       "4                 1               1     1            0.747782   \n",
       "...             ...             ...   ...                 ...   \n",
       "1187              0               1     0            0.072019   \n",
       "1188              0               0     1            0.383879   \n",
       "1189              1               1     0            0.266540   \n",
       "1190              0               1     0            0.182956   \n",
       "1191              1               1     0            0.267670   \n",
       "\n",
       "      distance_to_distance  \n",
       "0                 0.163035  \n",
       "1                 0.154363  \n",
       "2                 0.156891  \n",
       "3                 0.026039  \n",
       "4                 0.714890  \n",
       "...                    ...  \n",
       "1187              0.034129  \n",
       "1188              0.036915  \n",
       "1189              0.069330  \n",
       "1190              0.061581  \n",
       "1191              0.599385  \n",
       "\n",
       "[1192 rows x 9 columns]"
      ]
     },
     "execution_count": 1751,
     "metadata": {},
     "output_type": "execute_result"
    }
   ],
   "source": [
    "df_inconsistency"
   ]
  },
  {
   "cell_type": "code",
   "execution_count": 1752,
   "metadata": {},
   "outputs": [
    {
     "data": {
      "text/html": [
       "<div>\n",
       "<style scoped>\n",
       "    .dataframe tbody tr th:only-of-type {\n",
       "        vertical-align: middle;\n",
       "    }\n",
       "\n",
       "    .dataframe tbody tr th {\n",
       "        vertical-align: top;\n",
       "    }\n",
       "\n",
       "    .dataframe thead th {\n",
       "        text-align: right;\n",
       "    }\n",
       "</style>\n",
       "<table border=\"1\" class=\"dataframe\">\n",
       "  <thead>\n",
       "    <tr style=\"text-align: right;\">\n",
       "      <th></th>\n",
       "      <th>undermine_score</th>\n",
       "      <th>support_score</th>\n",
       "      <th>cp_distance</th>\n",
       "      <th>cop_distance</th>\n",
       "      <th>predict_label</th>\n",
       "      <th>distance_label</th>\n",
       "      <th>gold</th>\n",
       "      <th>distance_to_logtis</th>\n",
       "      <th>distance_to_distance</th>\n",
       "    </tr>\n",
       "  </thead>\n",
       "  <tbody>\n",
       "    <tr>\n",
       "      <th>0</th>\n",
       "      <td>-2.286710</td>\n",
       "      <td>4.179139</td>\n",
       "      <td>0.337187</td>\n",
       "      <td>0.012638</td>\n",
       "      <td>1</td>\n",
       "      <td>0</td>\n",
       "      <td>1</td>\n",
       "      <td>0.335256</td>\n",
       "      <td>0.163035</td>\n",
       "    </tr>\n",
       "    <tr>\n",
       "      <th>1</th>\n",
       "      <td>1.753973</td>\n",
       "      <td>-1.208653</td>\n",
       "      <td>0.316870</td>\n",
       "      <td>0.009572</td>\n",
       "      <td>0</td>\n",
       "      <td>0</td>\n",
       "      <td>0</td>\n",
       "      <td>0.152491</td>\n",
       "      <td>0.154363</td>\n",
       "    </tr>\n",
       "    <tr>\n",
       "      <th>2</th>\n",
       "      <td>-2.058090</td>\n",
       "      <td>3.866679</td>\n",
       "      <td>0.321512</td>\n",
       "      <td>0.009185</td>\n",
       "      <td>1</td>\n",
       "      <td>0</td>\n",
       "      <td>0</td>\n",
       "      <td>0.307028</td>\n",
       "      <td>0.156891</td>\n",
       "    </tr>\n",
       "    <tr>\n",
       "      <th>5</th>\n",
       "      <td>-4.014788</td>\n",
       "      <td>4.372499</td>\n",
       "      <td>0.065640</td>\n",
       "      <td>0.297210</td>\n",
       "      <td>1</td>\n",
       "      <td>1</td>\n",
       "      <td>0</td>\n",
       "      <td>0.435499</td>\n",
       "      <td>0.116294</td>\n",
       "    </tr>\n",
       "    <tr>\n",
       "      <th>7</th>\n",
       "      <td>-3.559464</td>\n",
       "      <td>4.967342</td>\n",
       "      <td>0.038006</td>\n",
       "      <td>0.057921</td>\n",
       "      <td>1</td>\n",
       "      <td>1</td>\n",
       "      <td>1</td>\n",
       "      <td>0.442778</td>\n",
       "      <td>0.009892</td>\n",
       "    </tr>\n",
       "    <tr>\n",
       "      <th>...</th>\n",
       "      <td>...</td>\n",
       "      <td>...</td>\n",
       "      <td>...</td>\n",
       "      <td>...</td>\n",
       "      <td>...</td>\n",
       "      <td>...</td>\n",
       "      <td>...</td>\n",
       "      <td>...</td>\n",
       "      <td>...</td>\n",
       "    </tr>\n",
       "    <tr>\n",
       "      <th>1187</th>\n",
       "      <td>1.370541</td>\n",
       "      <td>-0.049608</td>\n",
       "      <td>1.202502</td>\n",
       "      <td>1.270629</td>\n",
       "      <td>0</td>\n",
       "      <td>1</td>\n",
       "      <td>0</td>\n",
       "      <td>0.072019</td>\n",
       "      <td>0.034129</td>\n",
       "    </tr>\n",
       "    <tr>\n",
       "      <th>1188</th>\n",
       "      <td>3.730146</td>\n",
       "      <td>-3.667698</td>\n",
       "      <td>1.584377</td>\n",
       "      <td>1.510709</td>\n",
       "      <td>0</td>\n",
       "      <td>0</td>\n",
       "      <td>1</td>\n",
       "      <td>0.383879</td>\n",
       "      <td>0.036915</td>\n",
       "    </tr>\n",
       "    <tr>\n",
       "      <th>1189</th>\n",
       "      <td>-2.551159</td>\n",
       "      <td>2.597535</td>\n",
       "      <td>0.215551</td>\n",
       "      <td>0.353700</td>\n",
       "      <td>1</td>\n",
       "      <td>1</td>\n",
       "      <td>0</td>\n",
       "      <td>0.266540</td>\n",
       "      <td>0.069330</td>\n",
       "    </tr>\n",
       "    <tr>\n",
       "      <th>1190</th>\n",
       "      <td>2.449668</td>\n",
       "      <td>-1.096902</td>\n",
       "      <td>1.351404</td>\n",
       "      <td>1.474139</td>\n",
       "      <td>0</td>\n",
       "      <td>1</td>\n",
       "      <td>0</td>\n",
       "      <td>0.182956</td>\n",
       "      <td>0.061581</td>\n",
       "    </tr>\n",
       "    <tr>\n",
       "      <th>1191</th>\n",
       "      <td>-2.773020</td>\n",
       "      <td>2.397338</td>\n",
       "      <td>0.237195</td>\n",
       "      <td>1.429739</td>\n",
       "      <td>1</td>\n",
       "      <td>1</td>\n",
       "      <td>0</td>\n",
       "      <td>0.267670</td>\n",
       "      <td>0.599385</td>\n",
       "    </tr>\n",
       "  </tbody>\n",
       "</table>\n",
       "<p>865 rows × 9 columns</p>\n",
       "</div>"
      ],
      "text/plain": [
       "      undermine_score  support_score  cp_distance  cop_distance  \\\n",
       "0           -2.286710       4.179139     0.337187      0.012638   \n",
       "1            1.753973      -1.208653     0.316870      0.009572   \n",
       "2           -2.058090       3.866679     0.321512      0.009185   \n",
       "5           -4.014788       4.372499     0.065640      0.297210   \n",
       "7           -3.559464       4.967342     0.038006      0.057921   \n",
       "...               ...            ...          ...           ...   \n",
       "1187         1.370541      -0.049608     1.202502      1.270629   \n",
       "1188         3.730146      -3.667698     1.584377      1.510709   \n",
       "1189        -2.551159       2.597535     0.215551      0.353700   \n",
       "1190         2.449668      -1.096902     1.351404      1.474139   \n",
       "1191        -2.773020       2.397338     0.237195      1.429739   \n",
       "\n",
       "      predict_label  distance_label  gold  distance_to_logtis  \\\n",
       "0                 1               0     1            0.335256   \n",
       "1                 0               0     0            0.152491   \n",
       "2                 1               0     0            0.307028   \n",
       "5                 1               1     0            0.435499   \n",
       "7                 1               1     1            0.442778   \n",
       "...             ...             ...   ...                 ...   \n",
       "1187              0               1     0            0.072019   \n",
       "1188              0               0     1            0.383879   \n",
       "1189              1               1     0            0.266540   \n",
       "1190              0               1     0            0.182956   \n",
       "1191              1               1     0            0.267670   \n",
       "\n",
       "      distance_to_distance  \n",
       "0                 0.163035  \n",
       "1                 0.154363  \n",
       "2                 0.156891  \n",
       "5                 0.116294  \n",
       "7                 0.009892  \n",
       "...                    ...  \n",
       "1187              0.034129  \n",
       "1188              0.036915  \n",
       "1189              0.069330  \n",
       "1190              0.061581  \n",
       "1191              0.599385  \n",
       "\n",
       "[865 rows x 9 columns]"
      ]
     },
     "execution_count": 1752,
     "metadata": {},
     "output_type": "execute_result"
    }
   ],
   "source": [
    "df_inconsistency[abs(df_inconsistency.undermine_score-df_inconsistency.support_score)<9.7]"
   ]
  },
  {
   "cell_type": "code",
   "execution_count": 1753,
   "metadata": {},
   "outputs": [],
   "source": [
    "df_inconsistency[\"snorkel_logits_17\"]=df_inconsistency.predict_label\n",
    "df_inconsistency.snorkel_logits_17=df_inconsistency.apply(lambda x: -1 if x.snorkel_logits_17==0 else 1, axis=1)\n",
    "df_inconsistency.snorkel_logits_17=df_inconsistency.apply(lambda x: 0 if abs(x.undermine_score-x.support_score)<1.7  else x.snorkel_logits_17, axis=1)"
   ]
  },
  {
   "cell_type": "code",
   "execution_count": 1754,
   "metadata": {},
   "outputs": [],
   "source": [
    "df_inconsistency[\"snorkel_logits_37\"]=df_inconsistency.predict_label\n",
    "df_inconsistency.snorkel_logits_37=df_inconsistency.apply(lambda x: -1 if x.snorkel_logits_37==0 else 1, axis=1)\n",
    "df_inconsistency.snorkel_logits_37=df_inconsistency.apply(lambda x: 0 if abs(x.undermine_score-x.support_score)<3.7  else x.snorkel_logits_37, axis=1)"
   ]
  },
  {
   "cell_type": "code",
   "execution_count": 1755,
   "metadata": {},
   "outputs": [],
   "source": [
    "df_inconsistency[\"snorkel_logits_57\"]=df_inconsistency.predict_label\n",
    "df_inconsistency.snorkel_logits_57=df_inconsistency.apply(lambda x: -1 if x.snorkel_logits_57==0 else 1, axis=1)\n",
    "df_inconsistency.snorkel_logits_57=df_inconsistency.apply(lambda x: 0 if abs(x.undermine_score-x.support_score)<5.7  else x.snorkel_logits_57, axis=1)"
   ]
  },
  {
   "cell_type": "code",
   "execution_count": 1756,
   "metadata": {},
   "outputs": [],
   "source": [
    "df_inconsistency[\"snorkel_logits_77\"]=df_inconsistency.predict_label\n",
    "df_inconsistency.snorkel_logits_77=df_inconsistency.apply(lambda x: -1 if x.snorkel_logits_77==0 else 1, axis=1)\n",
    "df_inconsistency.snorkel_logits_77=df_inconsistency.apply(lambda x: 0 if abs(x.undermine_score-x.support_score)<7.7  else x.snorkel_logits_77, axis=1)"
   ]
  },
  {
   "cell_type": "code",
   "execution_count": 1757,
   "metadata": {},
   "outputs": [],
   "source": [
    "df_inconsistency[\"snorkel_logits_97\"]=df_inconsistency.predict_label\n",
    "df_inconsistency.snorkel_logits_97=df_inconsistency.apply(lambda x: -1 if x.snorkel_logits_97==0 else 1, axis=1)\n",
    "df_inconsistency.snorkel_logits_97=df_inconsistency.apply(lambda x: 0 if abs(x.undermine_score-x.support_score)<9.7  else x.snorkel_logits_97, axis=1)"
   ]
  },
  {
   "cell_type": "code",
   "execution_count": 1758,
   "metadata": {},
   "outputs": [],
   "source": [
    "df_inconsistency[\"snorkel_distance_01\"]=df_inconsistency.distance_label\n",
    "df_inconsistency.snorkel_distance_01=df_inconsistency.apply(lambda x: -1 if x.snorkel_distance_01==0 else 1, axis=1)\n",
    "df_inconsistency.snorkel_distance_01=df_inconsistency.apply(lambda x: 0 if abs(x.cp_distance-x.cop_distance)<0.03  else x.snorkel_distance_01, axis=1)"
   ]
  },
  {
   "cell_type": "code",
   "execution_count": 1759,
   "metadata": {},
   "outputs": [],
   "source": [
    "df_inconsistency[\"snorkel_distance_03\"]=df_inconsistency.distance_label\n",
    "df_inconsistency.snorkel_distance_03=df_inconsistency.apply(lambda x: -1 if x.snorkel_distance_03==0 else 1, axis=1)\n",
    "df_inconsistency.snorkel_distance_03=df_inconsistency.apply(lambda x: 0 if abs(x.cp_distance-x.cop_distance)<0.06  else x.snorkel_distance_03, axis=1)"
   ]
  },
  {
   "cell_type": "code",
   "execution_count": 1760,
   "metadata": {},
   "outputs": [],
   "source": [
    "df_inconsistency[\"snorkel_distance_05\"]=df_inconsistency.distance_label\n",
    "df_inconsistency.snorkel_distance_05=df_inconsistency.apply(lambda x: -1 if x.snorkel_distance_05==0 else 1, axis=1)\n",
    "df_inconsistency.snorkel_distance_05=df_inconsistency.apply(lambda x: 0 if abs(x.cp_distance-x.cop_distance)<0.12  else x.snorkel_distance_05, axis=1)"
   ]
  },
  {
   "cell_type": "code",
   "execution_count": 1761,
   "metadata": {},
   "outputs": [],
   "source": [
    "df_inconsistency[\"snorkel_distance_07\"]=df_inconsistency.distance_label\n",
    "df_inconsistency.snorkel_distance_07=df_inconsistency.apply(lambda x: -1 if x.snorkel_distance_07==0 else 1, axis=1)\n",
    "df_inconsistency.snorkel_distance_07=df_inconsistency.apply(lambda x: 0 if abs(x.cp_distance-x.cop_distance)<0.22  else x.snorkel_distance_07, axis=1)"
   ]
  },
  {
   "cell_type": "code",
   "execution_count": 1762,
   "metadata": {},
   "outputs": [],
   "source": [
    "df_inconsistency[\"snorkel_distance_09\"]=df_inconsistency.distance_label\n",
    "df_inconsistency.snorkel_distance_09=df_inconsistency.apply(lambda x: -1 if x.snorkel_distance_09==0 else 1, axis=1)\n",
    "df_inconsistency.snorkel_distance_09=df_inconsistency.apply(lambda x: 0 if abs(x.cp_distance-x.cop_distance)<0.7  else x.snorkel_distance_09, axis=1)"
   ]
  },
  {
   "cell_type": "code",
   "execution_count": 1763,
   "metadata": {},
   "outputs": [],
   "source": [
    "df_inconsistency[\"snorkel_label\"]=df_inconsistency.gold\n",
    "df_inconsistency.snorkel_label = df_inconsistency.apply(lambda x: -1 if x.snorkel_label==0 else 1, axis=1)"
   ]
  },
  {
   "cell_type": "code",
   "execution_count": 1764,
   "metadata": {},
   "outputs": [
    {
     "data": {
      "text/html": [
       "<div>\n",
       "<style scoped>\n",
       "    .dataframe tbody tr th:only-of-type {\n",
       "        vertical-align: middle;\n",
       "    }\n",
       "\n",
       "    .dataframe tbody tr th {\n",
       "        vertical-align: top;\n",
       "    }\n",
       "\n",
       "    .dataframe thead th {\n",
       "        text-align: right;\n",
       "    }\n",
       "</style>\n",
       "<table border=\"1\" class=\"dataframe\">\n",
       "  <thead>\n",
       "    <tr style=\"text-align: right;\">\n",
       "      <th></th>\n",
       "      <th>undermine_score</th>\n",
       "      <th>support_score</th>\n",
       "      <th>cp_distance</th>\n",
       "      <th>cop_distance</th>\n",
       "      <th>predict_label</th>\n",
       "      <th>distance_label</th>\n",
       "      <th>gold</th>\n",
       "      <th>distance_to_logtis</th>\n",
       "      <th>distance_to_distance</th>\n",
       "      <th>snorkel_logits_17</th>\n",
       "      <th>snorkel_logits_37</th>\n",
       "      <th>snorkel_logits_57</th>\n",
       "      <th>snorkel_logits_77</th>\n",
       "      <th>snorkel_logits_97</th>\n",
       "      <th>snorkel_distance_01</th>\n",
       "      <th>snorkel_distance_03</th>\n",
       "      <th>snorkel_distance_05</th>\n",
       "      <th>snorkel_distance_07</th>\n",
       "      <th>snorkel_distance_09</th>\n",
       "      <th>snorkel_label</th>\n",
       "    </tr>\n",
       "  </thead>\n",
       "  <tbody>\n",
       "    <tr>\n",
       "      <th>0</th>\n",
       "      <td>-2.286710</td>\n",
       "      <td>4.179139</td>\n",
       "      <td>0.337187</td>\n",
       "      <td>0.012638</td>\n",
       "      <td>1</td>\n",
       "      <td>0</td>\n",
       "      <td>1</td>\n",
       "      <td>0.335256</td>\n",
       "      <td>0.163035</td>\n",
       "      <td>1.0</td>\n",
       "      <td>1.0</td>\n",
       "      <td>1.0</td>\n",
       "      <td>0.0</td>\n",
       "      <td>0.0</td>\n",
       "      <td>-1.0</td>\n",
       "      <td>-1.0</td>\n",
       "      <td>-1.0</td>\n",
       "      <td>-1.0</td>\n",
       "      <td>0.0</td>\n",
       "      <td>1</td>\n",
       "    </tr>\n",
       "    <tr>\n",
       "      <th>1</th>\n",
       "      <td>1.753973</td>\n",
       "      <td>-1.208653</td>\n",
       "      <td>0.316870</td>\n",
       "      <td>0.009572</td>\n",
       "      <td>0</td>\n",
       "      <td>0</td>\n",
       "      <td>0</td>\n",
       "      <td>0.152491</td>\n",
       "      <td>0.154363</td>\n",
       "      <td>-1.0</td>\n",
       "      <td>0.0</td>\n",
       "      <td>0.0</td>\n",
       "      <td>0.0</td>\n",
       "      <td>0.0</td>\n",
       "      <td>-1.0</td>\n",
       "      <td>-1.0</td>\n",
       "      <td>-1.0</td>\n",
       "      <td>-1.0</td>\n",
       "      <td>0.0</td>\n",
       "      <td>-1</td>\n",
       "    </tr>\n",
       "    <tr>\n",
       "      <th>2</th>\n",
       "      <td>-2.058090</td>\n",
       "      <td>3.866679</td>\n",
       "      <td>0.321512</td>\n",
       "      <td>0.009185</td>\n",
       "      <td>1</td>\n",
       "      <td>0</td>\n",
       "      <td>0</td>\n",
       "      <td>0.307028</td>\n",
       "      <td>0.156891</td>\n",
       "      <td>1.0</td>\n",
       "      <td>1.0</td>\n",
       "      <td>1.0</td>\n",
       "      <td>0.0</td>\n",
       "      <td>0.0</td>\n",
       "      <td>-1.0</td>\n",
       "      <td>-1.0</td>\n",
       "      <td>-1.0</td>\n",
       "      <td>-1.0</td>\n",
       "      <td>0.0</td>\n",
       "      <td>-1</td>\n",
       "    </tr>\n",
       "    <tr>\n",
       "      <th>3</th>\n",
       "      <td>-4.448653</td>\n",
       "      <td>5.763899</td>\n",
       "      <td>0.011224</td>\n",
       "      <td>0.063257</td>\n",
       "      <td>1</td>\n",
       "      <td>1</td>\n",
       "      <td>1</td>\n",
       "      <td>0.530724</td>\n",
       "      <td>0.026039</td>\n",
       "      <td>1.0</td>\n",
       "      <td>1.0</td>\n",
       "      <td>1.0</td>\n",
       "      <td>1.0</td>\n",
       "      <td>1.0</td>\n",
       "      <td>1.0</td>\n",
       "      <td>0.0</td>\n",
       "      <td>0.0</td>\n",
       "      <td>0.0</td>\n",
       "      <td>0.0</td>\n",
       "      <td>1</td>\n",
       "    </tr>\n",
       "    <tr>\n",
       "      <th>4</th>\n",
       "      <td>-6.965822</td>\n",
       "      <td>7.407260</td>\n",
       "      <td>0.027215</td>\n",
       "      <td>1.449525</td>\n",
       "      <td>1</td>\n",
       "      <td>1</td>\n",
       "      <td>1</td>\n",
       "      <td>0.747782</td>\n",
       "      <td>0.714890</td>\n",
       "      <td>1.0</td>\n",
       "      <td>1.0</td>\n",
       "      <td>1.0</td>\n",
       "      <td>1.0</td>\n",
       "      <td>1.0</td>\n",
       "      <td>1.0</td>\n",
       "      <td>1.0</td>\n",
       "      <td>1.0</td>\n",
       "      <td>1.0</td>\n",
       "      <td>1.0</td>\n",
       "      <td>1</td>\n",
       "    </tr>\n",
       "    <tr>\n",
       "      <th>...</th>\n",
       "      <td>...</td>\n",
       "      <td>...</td>\n",
       "      <td>...</td>\n",
       "      <td>...</td>\n",
       "      <td>...</td>\n",
       "      <td>...</td>\n",
       "      <td>...</td>\n",
       "      <td>...</td>\n",
       "      <td>...</td>\n",
       "      <td>...</td>\n",
       "      <td>...</td>\n",
       "      <td>...</td>\n",
       "      <td>...</td>\n",
       "      <td>...</td>\n",
       "      <td>...</td>\n",
       "      <td>...</td>\n",
       "      <td>...</td>\n",
       "      <td>...</td>\n",
       "      <td>...</td>\n",
       "      <td>...</td>\n",
       "    </tr>\n",
       "    <tr>\n",
       "      <th>1187</th>\n",
       "      <td>1.370541</td>\n",
       "      <td>-0.049608</td>\n",
       "      <td>1.202502</td>\n",
       "      <td>1.270629</td>\n",
       "      <td>0</td>\n",
       "      <td>1</td>\n",
       "      <td>0</td>\n",
       "      <td>0.072019</td>\n",
       "      <td>0.034129</td>\n",
       "      <td>0.0</td>\n",
       "      <td>0.0</td>\n",
       "      <td>0.0</td>\n",
       "      <td>0.0</td>\n",
       "      <td>0.0</td>\n",
       "      <td>1.0</td>\n",
       "      <td>1.0</td>\n",
       "      <td>0.0</td>\n",
       "      <td>0.0</td>\n",
       "      <td>0.0</td>\n",
       "      <td>-1</td>\n",
       "    </tr>\n",
       "    <tr>\n",
       "      <th>1188</th>\n",
       "      <td>3.730146</td>\n",
       "      <td>-3.667698</td>\n",
       "      <td>1.584377</td>\n",
       "      <td>1.510709</td>\n",
       "      <td>0</td>\n",
       "      <td>0</td>\n",
       "      <td>1</td>\n",
       "      <td>0.383879</td>\n",
       "      <td>0.036915</td>\n",
       "      <td>-1.0</td>\n",
       "      <td>-1.0</td>\n",
       "      <td>-1.0</td>\n",
       "      <td>0.0</td>\n",
       "      <td>0.0</td>\n",
       "      <td>-1.0</td>\n",
       "      <td>-1.0</td>\n",
       "      <td>0.0</td>\n",
       "      <td>0.0</td>\n",
       "      <td>0.0</td>\n",
       "      <td>1</td>\n",
       "    </tr>\n",
       "    <tr>\n",
       "      <th>1189</th>\n",
       "      <td>-2.551159</td>\n",
       "      <td>2.597535</td>\n",
       "      <td>0.215551</td>\n",
       "      <td>0.353700</td>\n",
       "      <td>1</td>\n",
       "      <td>1</td>\n",
       "      <td>0</td>\n",
       "      <td>0.266540</td>\n",
       "      <td>0.069330</td>\n",
       "      <td>1.0</td>\n",
       "      <td>1.0</td>\n",
       "      <td>0.0</td>\n",
       "      <td>0.0</td>\n",
       "      <td>0.0</td>\n",
       "      <td>1.0</td>\n",
       "      <td>1.0</td>\n",
       "      <td>1.0</td>\n",
       "      <td>0.0</td>\n",
       "      <td>0.0</td>\n",
       "      <td>-1</td>\n",
       "    </tr>\n",
       "    <tr>\n",
       "      <th>1190</th>\n",
       "      <td>2.449668</td>\n",
       "      <td>-1.096902</td>\n",
       "      <td>1.351404</td>\n",
       "      <td>1.474139</td>\n",
       "      <td>0</td>\n",
       "      <td>1</td>\n",
       "      <td>0</td>\n",
       "      <td>0.182956</td>\n",
       "      <td>0.061581</td>\n",
       "      <td>-1.0</td>\n",
       "      <td>0.0</td>\n",
       "      <td>0.0</td>\n",
       "      <td>0.0</td>\n",
       "      <td>0.0</td>\n",
       "      <td>1.0</td>\n",
       "      <td>1.0</td>\n",
       "      <td>1.0</td>\n",
       "      <td>0.0</td>\n",
       "      <td>0.0</td>\n",
       "      <td>-1</td>\n",
       "    </tr>\n",
       "    <tr>\n",
       "      <th>1191</th>\n",
       "      <td>-2.773020</td>\n",
       "      <td>2.397338</td>\n",
       "      <td>0.237195</td>\n",
       "      <td>1.429739</td>\n",
       "      <td>1</td>\n",
       "      <td>1</td>\n",
       "      <td>0</td>\n",
       "      <td>0.267670</td>\n",
       "      <td>0.599385</td>\n",
       "      <td>1.0</td>\n",
       "      <td>1.0</td>\n",
       "      <td>0.0</td>\n",
       "      <td>0.0</td>\n",
       "      <td>0.0</td>\n",
       "      <td>1.0</td>\n",
       "      <td>1.0</td>\n",
       "      <td>1.0</td>\n",
       "      <td>1.0</td>\n",
       "      <td>1.0</td>\n",
       "      <td>-1</td>\n",
       "    </tr>\n",
       "  </tbody>\n",
       "</table>\n",
       "<p>1192 rows × 20 columns</p>\n",
       "</div>"
      ],
      "text/plain": [
       "      undermine_score  support_score  cp_distance  cop_distance  \\\n",
       "0           -2.286710       4.179139     0.337187      0.012638   \n",
       "1            1.753973      -1.208653     0.316870      0.009572   \n",
       "2           -2.058090       3.866679     0.321512      0.009185   \n",
       "3           -4.448653       5.763899     0.011224      0.063257   \n",
       "4           -6.965822       7.407260     0.027215      1.449525   \n",
       "...               ...            ...          ...           ...   \n",
       "1187         1.370541      -0.049608     1.202502      1.270629   \n",
       "1188         3.730146      -3.667698     1.584377      1.510709   \n",
       "1189        -2.551159       2.597535     0.215551      0.353700   \n",
       "1190         2.449668      -1.096902     1.351404      1.474139   \n",
       "1191        -2.773020       2.397338     0.237195      1.429739   \n",
       "\n",
       "      predict_label  distance_label  gold  distance_to_logtis  \\\n",
       "0                 1               0     1            0.335256   \n",
       "1                 0               0     0            0.152491   \n",
       "2                 1               0     0            0.307028   \n",
       "3                 1               1     1            0.530724   \n",
       "4                 1               1     1            0.747782   \n",
       "...             ...             ...   ...                 ...   \n",
       "1187              0               1     0            0.072019   \n",
       "1188              0               0     1            0.383879   \n",
       "1189              1               1     0            0.266540   \n",
       "1190              0               1     0            0.182956   \n",
       "1191              1               1     0            0.267670   \n",
       "\n",
       "      distance_to_distance  snorkel_logits_17  snorkel_logits_37  \\\n",
       "0                 0.163035                1.0                1.0   \n",
       "1                 0.154363               -1.0                0.0   \n",
       "2                 0.156891                1.0                1.0   \n",
       "3                 0.026039                1.0                1.0   \n",
       "4                 0.714890                1.0                1.0   \n",
       "...                    ...                ...                ...   \n",
       "1187              0.034129                0.0                0.0   \n",
       "1188              0.036915               -1.0               -1.0   \n",
       "1189              0.069330                1.0                1.0   \n",
       "1190              0.061581               -1.0                0.0   \n",
       "1191              0.599385                1.0                1.0   \n",
       "\n",
       "      snorkel_logits_57  snorkel_logits_77  snorkel_logits_97  \\\n",
       "0                   1.0                0.0                0.0   \n",
       "1                   0.0                0.0                0.0   \n",
       "2                   1.0                0.0                0.0   \n",
       "3                   1.0                1.0                1.0   \n",
       "4                   1.0                1.0                1.0   \n",
       "...                 ...                ...                ...   \n",
       "1187                0.0                0.0                0.0   \n",
       "1188               -1.0                0.0                0.0   \n",
       "1189                0.0                0.0                0.0   \n",
       "1190                0.0                0.0                0.0   \n",
       "1191                0.0                0.0                0.0   \n",
       "\n",
       "      snorkel_distance_01  snorkel_distance_03  snorkel_distance_05  \\\n",
       "0                    -1.0                 -1.0                 -1.0   \n",
       "1                    -1.0                 -1.0                 -1.0   \n",
       "2                    -1.0                 -1.0                 -1.0   \n",
       "3                     1.0                  0.0                  0.0   \n",
       "4                     1.0                  1.0                  1.0   \n",
       "...                   ...                  ...                  ...   \n",
       "1187                  1.0                  1.0                  0.0   \n",
       "1188                 -1.0                 -1.0                  0.0   \n",
       "1189                  1.0                  1.0                  1.0   \n",
       "1190                  1.0                  1.0                  1.0   \n",
       "1191                  1.0                  1.0                  1.0   \n",
       "\n",
       "      snorkel_distance_07  snorkel_distance_09  snorkel_label  \n",
       "0                    -1.0                  0.0              1  \n",
       "1                    -1.0                  0.0             -1  \n",
       "2                    -1.0                  0.0             -1  \n",
       "3                     0.0                  0.0              1  \n",
       "4                     1.0                  1.0              1  \n",
       "...                   ...                  ...            ...  \n",
       "1187                  0.0                  0.0             -1  \n",
       "1188                  0.0                  0.0              1  \n",
       "1189                  0.0                  0.0             -1  \n",
       "1190                  0.0                  0.0             -1  \n",
       "1191                  1.0                  1.0             -1  \n",
       "\n",
       "[1192 rows x 20 columns]"
      ]
     },
     "execution_count": 1764,
     "metadata": {},
     "output_type": "execute_result"
    }
   ],
   "source": [
    "df_inconsistency"
   ]
  },
  {
   "cell_type": "code",
   "execution_count": 1765,
   "metadata": {},
   "outputs": [],
   "source": [
    "df_inconsistency.to_csv(\"pers_imbcs_L_train_entiretest.csv\", index=False)"
   ]
  },
  {
   "cell_type": "code",
   "execution_count": null,
   "metadata": {},
   "outputs": [],
   "source": []
  },
  {
   "cell_type": "code",
   "execution_count": null,
   "metadata": {},
   "outputs": [],
   "source": []
  },
  {
   "cell_type": "code",
   "execution_count": 32,
   "metadata": {},
   "outputs": [
    {
     "data": {
      "text/plain": [
       "array([[ 0.,  0., -1.,  1.,  1.],\n",
       "       [ 0.,  0., -1.,  1.,  1.],\n",
       "       [ 0.,  0., -1., -1.,  0.],\n",
       "       ...,\n",
       "       [ 0.,  0., -1.,  0., -1.],\n",
       "       [ 0.,  0.,  0., -1., -1.],\n",
       "       [ 0.,  0.,  1.,  0.,  0.]])"
      ]
     },
     "execution_count": 32,
     "metadata": {},
     "output_type": "execute_result"
    }
   ],
   "source": [
    "L_dev"
   ]
  },
  {
   "cell_type": "code",
   "execution_count": 33,
   "metadata": {},
   "outputs": [
    {
     "data": {
      "text/plain": [
       "array([ 1., -1., -1., -1., -1.,  1., -1., -1., -1.,  1.,  1., -1.,  1.,\n",
       "       -1.,  1., -1., -1., -1.,  1., -1.,  1.,  1., -1.,  1., -1.,  1.,\n",
       "        1., -1., -1., -1., -1., -1.,  1.,  1., -1.,  1., -1., -1.,  1.,\n",
       "        1.,  1., -1.,  1.,  1., -1., -1., -1.,  1., -1., -1., -1., -1.,\n",
       "        1., -1.,  1.,  1., -1., -1., -1.,  1., -1.,  1.,  1.,  1., -1.,\n",
       "       -1., -1., -1., -1.,  1., -1., -1., -1.,  1., -1., -1., -1.,  1.,\n",
       "       -1., -1.,  1., -1., -1., -1.,  1., -1.,  1., -1.,  1.,  1., -1.,\n",
       "        1., -1., -1.,  1., -1., -1., -1., -1.,  1.,  1., -1., -1., -1.,\n",
       "        1., -1.,  1., -1., -1., -1., -1.,  1., -1., -1., -1., -1., -1.,\n",
       "       -1., -1., -1., -1.,  1.,  1.,  1., -1.,  1.,  1.,  1., -1.,  1.,\n",
       "        1., -1., -1.,  1.,  1., -1.,  1.,  1.,  1., -1.,  1.,  1.,  1.,\n",
       "        1., -1.,  1., -1., -1., -1., -1.,  1., -1., -1.,  1.,  1., -1.,\n",
       "       -1., -1., -1.,  1.,  1.,  1.,  1., -1., -1., -1.,  1., -1., -1.,\n",
       "       -1.,  1., -1.,  1.,  1., -1., -1., -1.,  1., -1.,  1., -1., -1.,\n",
       "        1., -1.,  1., -1.,  1.,  1.,  1.,  1., -1., -1., -1., -1.,  1.,\n",
       "       -1.,  1.,  1., -1.,  1.,  1.,  1., -1., -1., -1., -1., -1.,  1.,\n",
       "        1., -1.,  1.,  1.,  1.,  1., -1.,  1., -1., -1., -1., -1., -1.,\n",
       "       -1., -1.,  1., -1., -1., -1.,  1.,  1., -1., -1.,  1.,  1.,  1.,\n",
       "        1.,  1., -1.,  1.,  1.,  1., -1., -1.,  1.,  1.,  1., -1., -1.,\n",
       "       -1.,  1., -1.,  1.,  1.,  1., -1., -1., -1., -1.,  1., -1.,  1.,\n",
       "        1., -1.,  1., -1.,  1., -1.,  1., -1.,  1., -1.,  1.,  1.,  1.,\n",
       "        1., -1., -1., -1.,  1., -1., -1.,  1.,  1., -1., -1., -1., -1.,\n",
       "        1., -1., -1., -1., -1., -1.,  1.,  1., -1.,  1., -1., -1., -1.,\n",
       "       -1.,  1., -1.,  1., -1.,  1., -1., -1., -1., -1.,  1.,  1.,  1.,\n",
       "        1., -1.,  1.,  1.,  1.,  1., -1., -1., -1., -1.,  1.,  1.,  1.,\n",
       "        1.,  1.,  1., -1.,  1., -1.,  1.,  1.,  1.,  1.,  1., -1., -1.,\n",
       "        1., -1., -1., -1.,  1., -1., -1., -1., -1., -1.,  1.,  1.,  1.,\n",
       "        1., -1., -1.,  1., -1.,  1., -1., -1., -1.,  1., -1.,  1.,  1.,\n",
       "        1., -1., -1.,  1., -1., -1.,  1.,  1., -1., -1., -1.,  1.,  1.,\n",
       "        1.,  1., -1., -1.,  1.,  1., -1., -1., -1., -1.,  1., -1.,  1.,\n",
       "       -1., -1., -1., -1., -1., -1., -1., -1., -1.,  1.,  1.,  1.,  1.,\n",
       "       -1.,  1.,  1., -1.,  1.,  1., -1., -1.,  1., -1.,  1., -1., -1.,\n",
       "        1.,  1.,  1.,  1.,  1.,  1., -1.,  1., -1., -1., -1., -1., -1.,\n",
       "        1.,  1.,  1., -1.,  1., -1.,  1.,  1., -1., -1., -1.,  1., -1.,\n",
       "       -1.,  1.,  1.,  1., -1.,  1.,  1., -1.,  1.,  1., -1., -1.,  1.,\n",
       "       -1., -1.,  1., -1., -1., -1.,  1.,  1., -1.,  1.,  1.,  1., -1.,\n",
       "       -1., -1.,  1., -1., -1.,  1.,  1., -1.,  1., -1., -1., -1., -1.,\n",
       "        1.,  1.,  1.,  1.,  1., -1., -1.,  1.,  1., -1.,  1.,  1.,  1.,\n",
       "        1., -1.,  1., -1.,  1.,  1.])"
      ]
     },
     "execution_count": 33,
     "metadata": {},
     "output_type": "execute_result"
    }
   ],
   "source": [
    "Y_dev"
   ]
  },
  {
   "cell_type": "code",
   "execution_count": null,
   "metadata": {},
   "outputs": [],
   "source": []
  }
 ],
 "metadata": {
  "kernelspec": {
   "display_name": "TensorFlow-GPU",
   "language": "python",
   "name": "tf-gpu"
  },
  "language_info": {
   "codemirror_mode": {
    "name": "ipython",
    "version": 3
   },
   "file_extension": ".py",
   "mimetype": "text/x-python",
   "name": "python",
   "nbconvert_exporter": "python",
   "pygments_lexer": "ipython3",
   "version": "3.7.6"
  }
 },
 "nbformat": 4,
 "nbformat_minor": 2
}
