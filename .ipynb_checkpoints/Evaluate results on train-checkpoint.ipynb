{
 "cells": [
  {
   "cell_type": "code",
   "execution_count": 1,
   "metadata": {},
   "outputs": [],
   "source": [
    "import pandas as pd"
   ]
  },
  {
   "cell_type": "markdown",
   "metadata": {},
   "source": [
    "## Bert Related Eval Results"
   ]
  },
  {
   "cell_type": "code",
   "execution_count": 2,
   "metadata": {},
   "outputs": [],
   "source": [
    "df = pd.read_csv(\"../stance_code/Evaluation/bert_dummy_output/bert_base_bs32_lr2e_5_epoch4_raw_score.csv\")"
   ]
  },
  {
   "cell_type": "code",
   "execution_count": 3,
   "metadata": {},
   "outputs": [
    {
     "data": {
      "text/html": [
       "<div>\n",
       "<style scoped>\n",
       "    .dataframe tbody tr th:only-of-type {\n",
       "        vertical-align: middle;\n",
       "    }\n",
       "\n",
       "    .dataframe tbody tr th {\n",
       "        vertical-align: top;\n",
       "    }\n",
       "\n",
       "    .dataframe thead th {\n",
       "        text-align: right;\n",
       "    }\n",
       "</style>\n",
       "<table border=\"1\" class=\"dataframe\">\n",
       "  <thead>\n",
       "    <tr style=\"text-align: right;\">\n",
       "      <th></th>\n",
       "      <th>undermine_score</th>\n",
       "      <th>support_score</th>\n",
       "      <th>predict_label</th>\n",
       "      <th>gold</th>\n",
       "    </tr>\n",
       "  </thead>\n",
       "  <tbody>\n",
       "    <tr>\n",
       "      <th>0</th>\n",
       "      <td>-3.120266</td>\n",
       "      <td>3.146689</td>\n",
       "      <td>1</td>\n",
       "      <td>1</td>\n",
       "    </tr>\n",
       "    <tr>\n",
       "      <th>1</th>\n",
       "      <td>-1.417848</td>\n",
       "      <td>1.625434</td>\n",
       "      <td>1</td>\n",
       "      <td>0</td>\n",
       "    </tr>\n",
       "    <tr>\n",
       "      <th>2</th>\n",
       "      <td>-2.544775</td>\n",
       "      <td>2.716588</td>\n",
       "      <td>1</td>\n",
       "      <td>1</td>\n",
       "    </tr>\n",
       "    <tr>\n",
       "      <th>3</th>\n",
       "      <td>0.655416</td>\n",
       "      <td>-0.446708</td>\n",
       "      <td>0</td>\n",
       "      <td>1</td>\n",
       "    </tr>\n",
       "    <tr>\n",
       "      <th>4</th>\n",
       "      <td>0.865310</td>\n",
       "      <td>-0.591936</td>\n",
       "      <td>0</td>\n",
       "      <td>1</td>\n",
       "    </tr>\n",
       "    <tr>\n",
       "      <th>...</th>\n",
       "      <td>...</td>\n",
       "      <td>...</td>\n",
       "      <td>...</td>\n",
       "      <td>...</td>\n",
       "    </tr>\n",
       "    <tr>\n",
       "      <th>2768</th>\n",
       "      <td>-3.130517</td>\n",
       "      <td>2.797219</td>\n",
       "      <td>1</td>\n",
       "      <td>0</td>\n",
       "    </tr>\n",
       "    <tr>\n",
       "      <th>2769</th>\n",
       "      <td>0.344362</td>\n",
       "      <td>-0.042596</td>\n",
       "      <td>0</td>\n",
       "      <td>0</td>\n",
       "    </tr>\n",
       "    <tr>\n",
       "      <th>2770</th>\n",
       "      <td>1.233127</td>\n",
       "      <td>-1.583184</td>\n",
       "      <td>0</td>\n",
       "      <td>1</td>\n",
       "    </tr>\n",
       "    <tr>\n",
       "      <th>2771</th>\n",
       "      <td>2.553239</td>\n",
       "      <td>-2.488668</td>\n",
       "      <td>0</td>\n",
       "      <td>1</td>\n",
       "    </tr>\n",
       "    <tr>\n",
       "      <th>2772</th>\n",
       "      <td>0.110734</td>\n",
       "      <td>-0.186051</td>\n",
       "      <td>0</td>\n",
       "      <td>1</td>\n",
       "    </tr>\n",
       "  </tbody>\n",
       "</table>\n",
       "<p>2773 rows × 4 columns</p>\n",
       "</div>"
      ],
      "text/plain": [
       "      undermine_score  support_score  predict_label  gold\n",
       "0           -3.120266       3.146689              1     1\n",
       "1           -1.417848       1.625434              1     0\n",
       "2           -2.544775       2.716588              1     1\n",
       "3            0.655416      -0.446708              0     1\n",
       "4            0.865310      -0.591936              0     1\n",
       "...               ...            ...            ...   ...\n",
       "2768        -3.130517       2.797219              1     0\n",
       "2769         0.344362      -0.042596              0     0\n",
       "2770         1.233127      -1.583184              0     1\n",
       "2771         2.553239      -2.488668              0     1\n",
       "2772         0.110734      -0.186051              0     1\n",
       "\n",
       "[2773 rows x 4 columns]"
      ]
     },
     "execution_count": 3,
     "metadata": {},
     "output_type": "execute_result"
    }
   ],
   "source": [
    "df"
   ]
  },
  {
   "cell_type": "code",
   "execution_count": 4,
   "metadata": {},
   "outputs": [
    {
     "name": "stderr",
     "output_type": "stream",
     "text": [
      "C:\\Users\\arsen\\AppData\\Roaming\\Python\\Python37\\site-packages\\ipykernel_launcher.py:1: UserWarning: Boolean Series key will be reindexed to match DataFrame index.\n",
      "  \"\"\"Entry point for launching an IPython kernel.\n"
     ]
    },
    {
     "data": {
      "text/plain": [
       "0.7260367097212781"
      ]
     },
     "execution_count": 4,
     "metadata": {},
     "output_type": "execute_result"
    }
   ],
   "source": [
    "recall = len(df[df.gold==1][df.predict_label==1])/(len(df[df.gold==1]))\n",
    "recall"
   ]
  },
  {
   "cell_type": "code",
   "execution_count": 5,
   "metadata": {},
   "outputs": [
    {
     "name": "stderr",
     "output_type": "stream",
     "text": [
      "C:\\Users\\arsen\\AppData\\Roaming\\Python\\Python37\\site-packages\\ipykernel_launcher.py:1: UserWarning: Boolean Series key will be reindexed to match DataFrame index.\n",
      "  \"\"\"Entry point for launching an IPython kernel.\n"
     ]
    },
    {
     "data": {
      "text/plain": [
       "0.7027649769585254"
      ]
     },
     "execution_count": 5,
     "metadata": {},
     "output_type": "execute_result"
    }
   ],
   "source": [
    "len(df[df.gold==0][df.predict_label==0])/(len(df[df.gold==0]))"
   ]
  },
  {
   "cell_type": "code",
   "execution_count": 6,
   "metadata": {},
   "outputs": [
    {
     "name": "stderr",
     "output_type": "stream",
     "text": [
      "C:\\Users\\arsen\\AppData\\Roaming\\Python\\Python37\\site-packages\\ipykernel_launcher.py:1: UserWarning: Boolean Series key will be reindexed to match DataFrame index.\n",
      "  \"\"\"Entry point for launching an IPython kernel.\n"
     ]
    },
    {
     "data": {
      "text/plain": [
       "0.734020618556701"
      ]
     },
     "execution_count": 6,
     "metadata": {},
     "output_type": "execute_result"
    }
   ],
   "source": [
    "precision = len(df[df.gold==1][df.predict_label==1])/(len(df[df.predict_label==1]))\n",
    "precision"
   ]
  },
  {
   "cell_type": "code",
   "execution_count": 7,
   "metadata": {},
   "outputs": [
    {
     "data": {
      "text/plain": [
       "0.7300068352699932"
      ]
     },
     "execution_count": 7,
     "metadata": {},
     "output_type": "execute_result"
    }
   ],
   "source": [
    "2*(precision*recall)/(precision+recall)"
   ]
  },
  {
   "cell_type": "code",
   "execution_count": null,
   "metadata": {},
   "outputs": [],
   "source": []
  },
  {
   "cell_type": "code",
   "execution_count": 8,
   "metadata": {},
   "outputs": [],
   "source": [
    "df_qua_cons = pd.read_csv(\"../stance_code/Evaluation/bert_dummy_output/bert_sia_cos_bs24_lr2e_5_epoch25_raw_score.csv\")"
   ]
  },
  {
   "cell_type": "code",
   "execution_count": 9,
   "metadata": {},
   "outputs": [
    {
     "name": "stderr",
     "output_type": "stream",
     "text": [
      "C:\\Users\\arsen\\AppData\\Roaming\\Python\\Python37\\site-packages\\ipykernel_launcher.py:1: UserWarning: Boolean Series key will be reindexed to match DataFrame index.\n",
      "  \"\"\"Entry point for launching an IPython kernel.\n"
     ]
    },
    {
     "data": {
      "text/plain": [
       "0.8048946295037389"
      ]
     },
     "execution_count": 9,
     "metadata": {},
     "output_type": "execute_result"
    }
   ],
   "source": [
    "len(df_qua_cons[df_qua_cons.gold==1][df_qua_cons.predict_label==1])/(len(df_qua_cons[df_qua_cons.gold==1]))"
   ]
  },
  {
   "cell_type": "code",
   "execution_count": 10,
   "metadata": {},
   "outputs": [
    {
     "name": "stderr",
     "output_type": "stream",
     "text": [
      "C:\\Users\\arsen\\AppData\\Roaming\\Python\\Python37\\site-packages\\ipykernel_launcher.py:1: UserWarning: Boolean Series key will be reindexed to match DataFrame index.\n",
      "  \"\"\"Entry point for launching an IPython kernel.\n"
     ]
    },
    {
     "data": {
      "text/plain": [
       "0.7772657450076805"
      ]
     },
     "execution_count": 10,
     "metadata": {},
     "output_type": "execute_result"
    }
   ],
   "source": [
    "len(df_qua_cons[df_qua_cons.gold==0][df_qua_cons.predict_label==0])/(len(df_qua_cons[df_qua_cons.gold==0]))"
   ]
  },
  {
   "cell_type": "code",
   "execution_count": null,
   "metadata": {},
   "outputs": [],
   "source": []
  },
  {
   "cell_type": "code",
   "execution_count": 11,
   "metadata": {},
   "outputs": [],
   "source": [
    "df_stancy = pd.read_csv(\"../stance_code/Evaluation/bert_dummy_output/non_reverse_bert_cons_epoch5_raw_score.csv\")"
   ]
  },
  {
   "cell_type": "code",
   "execution_count": 12,
   "metadata": {},
   "outputs": [
    {
     "name": "stderr",
     "output_type": "stream",
     "text": [
      "C:\\Users\\arsen\\AppData\\Roaming\\Python\\Python37\\site-packages\\ipykernel_launcher.py:1: UserWarning: Boolean Series key will be reindexed to match DataFrame index.\n",
      "  \"\"\"Entry point for launching an IPython kernel.\n"
     ]
    },
    {
     "data": {
      "text/plain": [
       "0.7858599592114208"
      ]
     },
     "execution_count": 12,
     "metadata": {},
     "output_type": "execute_result"
    }
   ],
   "source": [
    "len(df_stancy[df_stancy.gold==1][df_stancy.predict_label==1])/(len(df_stancy[df_stancy.gold==1]))"
   ]
  },
  {
   "cell_type": "code",
   "execution_count": 13,
   "metadata": {},
   "outputs": [
    {
     "name": "stderr",
     "output_type": "stream",
     "text": [
      "C:\\Users\\arsen\\AppData\\Roaming\\Python\\Python37\\site-packages\\ipykernel_launcher.py:1: UserWarning: Boolean Series key will be reindexed to match DataFrame index.\n",
      "  \"\"\"Entry point for launching an IPython kernel.\n"
     ]
    },
    {
     "data": {
      "text/plain": [
       "0.7211981566820277"
      ]
     },
     "execution_count": 13,
     "metadata": {},
     "output_type": "execute_result"
    }
   ],
   "source": [
    "len(df_stancy[df_stancy.gold==0][df_stancy.predict_label==0])/(len(df_stancy[df_stancy.gold==0]))"
   ]
  },
  {
   "cell_type": "code",
   "execution_count": null,
   "metadata": {},
   "outputs": [],
   "source": []
  },
  {
   "cell_type": "code",
   "execution_count": 14,
   "metadata": {},
   "outputs": [],
   "source": [
    "df_ant = pd.read_csv(\"../stance_code/Evaluation/bert_dummy_output/fuse_cosloss_1033033033_2e5_neg_siamese_bert_epoch50_raw_score.csv\")"
   ]
  },
  {
   "cell_type": "code",
   "execution_count": 15,
   "metadata": {},
   "outputs": [
    {
     "name": "stderr",
     "output_type": "stream",
     "text": [
      "C:\\Users\\arsen\\AppData\\Roaming\\Python\\Python37\\site-packages\\ipykernel_launcher.py:1: UserWarning: Boolean Series key will be reindexed to match DataFrame index.\n",
      "  \"\"\"Entry point for launching an IPython kernel.\n"
     ]
    },
    {
     "data": {
      "text/plain": [
       "0.7766295707472178"
      ]
     },
     "execution_count": 15,
     "metadata": {},
     "output_type": "execute_result"
    }
   ],
   "source": [
    "len(df_ant[df_ant.gold==1][df_ant.predict_label==1])/(len(df_ant[df_ant.gold==1]))"
   ]
  },
  {
   "cell_type": "code",
   "execution_count": 16,
   "metadata": {},
   "outputs": [
    {
     "name": "stderr",
     "output_type": "stream",
     "text": [
      "C:\\Users\\arsen\\AppData\\Roaming\\Python\\Python37\\site-packages\\ipykernel_launcher.py:1: UserWarning: Boolean Series key will be reindexed to match DataFrame index.\n",
      "  \"\"\"Entry point for launching an IPython kernel.\n"
     ]
    },
    {
     "data": {
      "text/plain": [
       "0.7438811188811189"
      ]
     },
     "execution_count": 16,
     "metadata": {},
     "output_type": "execute_result"
    }
   ],
   "source": [
    "len(df_ant[df_ant.gold==0][df_ant.predict_label==0])/(len(df_ant[df_ant.gold==0]))"
   ]
  },
  {
   "cell_type": "code",
   "execution_count": null,
   "metadata": {},
   "outputs": [],
   "source": []
  },
  {
   "cell_type": "code",
   "execution_count": 17,
   "metadata": {},
   "outputs": [],
   "source": [
    "df_base_sub = pd.read_csv(\"../stance_code/Evaluation/bert_dummy_output/onnew_neg_bert_base_raw_score.csv\")"
   ]
  },
  {
   "cell_type": "code",
   "execution_count": 18,
   "metadata": {},
   "outputs": [
    {
     "name": "stderr",
     "output_type": "stream",
     "text": [
      "C:\\Users\\arsen\\AppData\\Roaming\\Python\\Python37\\site-packages\\ipykernel_launcher.py:1: UserWarning: Boolean Series key will be reindexed to match DataFrame index.\n",
      "  \"\"\"Entry point for launching an IPython kernel.\n"
     ]
    },
    {
     "data": {
      "text/plain": [
       "0.6836248012718601"
      ]
     },
     "execution_count": 18,
     "metadata": {},
     "output_type": "execute_result"
    }
   ],
   "source": [
    "len(df_base_sub[df_base_sub.gold==1][df_base_sub.predict_label==1])/(len(df_base_sub[df_base_sub.gold==1]))"
   ]
  },
  {
   "cell_type": "code",
   "execution_count": 19,
   "metadata": {},
   "outputs": [
    {
     "name": "stderr",
     "output_type": "stream",
     "text": [
      "C:\\Users\\arsen\\AppData\\Roaming\\Python\\Python37\\site-packages\\ipykernel_launcher.py:1: UserWarning: Boolean Series key will be reindexed to match DataFrame index.\n",
      "  \"\"\"Entry point for launching an IPython kernel.\n"
     ]
    },
    {
     "data": {
      "text/plain": [
       "0.7097902097902098"
      ]
     },
     "execution_count": 19,
     "metadata": {},
     "output_type": "execute_result"
    }
   ],
   "source": [
    "len(df_base_sub[df_base_sub.gold==0][df_base_sub.predict_label==0])/(len(df_base_sub[df_base_sub.gold==0]))"
   ]
  },
  {
   "cell_type": "code",
   "execution_count": null,
   "metadata": {},
   "outputs": [],
   "source": []
  },
  {
   "cell_type": "code",
   "execution_count": 20,
   "metadata": {},
   "outputs": [],
   "source": [
    "df_stancy_sub = pd.read_csv(\"../stance_code/Evaluation/bert_dummy_output/onnew_neg_bert_cons_epoch5_raw_score.csv\")"
   ]
  },
  {
   "cell_type": "code",
   "execution_count": 21,
   "metadata": {},
   "outputs": [
    {
     "name": "stderr",
     "output_type": "stream",
     "text": [
      "C:\\Users\\arsen\\AppData\\Roaming\\Python\\Python37\\site-packages\\ipykernel_launcher.py:1: UserWarning: Boolean Series key will be reindexed to match DataFrame index.\n",
      "  \"\"\"Entry point for launching an IPython kernel.\n"
     ]
    },
    {
     "data": {
      "text/plain": [
       "0.7488076311605724"
      ]
     },
     "execution_count": 21,
     "metadata": {},
     "output_type": "execute_result"
    }
   ],
   "source": [
    "len(df_stancy_sub[df_stancy_sub.gold==1][df_stancy_sub.predict_label==1])/(len(df_stancy_sub[df_stancy_sub.gold==1]))"
   ]
  },
  {
   "cell_type": "code",
   "execution_count": 22,
   "metadata": {},
   "outputs": [
    {
     "name": "stderr",
     "output_type": "stream",
     "text": [
      "C:\\Users\\arsen\\AppData\\Roaming\\Python\\Python37\\site-packages\\ipykernel_launcher.py:1: UserWarning: Boolean Series key will be reindexed to match DataFrame index.\n",
      "  \"\"\"Entry point for launching an IPython kernel.\n"
     ]
    },
    {
     "data": {
      "text/plain": [
       "0.7482517482517482"
      ]
     },
     "execution_count": 22,
     "metadata": {},
     "output_type": "execute_result"
    }
   ],
   "source": [
    "len(df_stancy_sub[df_stancy_sub.gold==0][df_stancy_sub.predict_label==0])/(len(df_stancy_sub[df_stancy_sub.gold==0]))"
   ]
  },
  {
   "cell_type": "code",
   "execution_count": null,
   "metadata": {},
   "outputs": [],
   "source": []
  },
  {
   "cell_type": "code",
   "execution_count": 23,
   "metadata": {},
   "outputs": [],
   "source": [
    "df_qua_sub = pd.read_csv(\"../stance_code/Evaluation/bert_dummy_output/new_neg_bert_sia_cos_bs24_lr2e_5_epoch30_raw_score.csv\")"
   ]
  },
  {
   "cell_type": "code",
   "execution_count": 24,
   "metadata": {},
   "outputs": [
    {
     "name": "stderr",
     "output_type": "stream",
     "text": [
      "C:\\Users\\arsen\\AppData\\Roaming\\Python\\Python37\\site-packages\\ipykernel_launcher.py:1: UserWarning: Boolean Series key will be reindexed to match DataFrame index.\n",
      "  \"\"\"Entry point for launching an IPython kernel.\n"
     ]
    },
    {
     "data": {
      "text/plain": [
       "0.7853736089030207"
      ]
     },
     "execution_count": 24,
     "metadata": {},
     "output_type": "execute_result"
    }
   ],
   "source": [
    "len(df_qua_sub[df_qua_sub.gold==1][df_qua_sub.predict_label==1])/(len(df_qua_sub[df_qua_sub.gold==1]))"
   ]
  },
  {
   "cell_type": "code",
   "execution_count": 25,
   "metadata": {},
   "outputs": [
    {
     "name": "stderr",
     "output_type": "stream",
     "text": [
      "C:\\Users\\arsen\\AppData\\Roaming\\Python\\Python37\\site-packages\\ipykernel_launcher.py:1: UserWarning: Boolean Series key will be reindexed to match DataFrame index.\n",
      "  \"\"\"Entry point for launching an IPython kernel.\n"
     ]
    },
    {
     "data": {
      "text/plain": [
       "0.7709790209790209"
      ]
     },
     "execution_count": 25,
     "metadata": {},
     "output_type": "execute_result"
    }
   ],
   "source": [
    "len(df_qua_sub[df_qua_sub.gold==0][df_qua_sub.predict_label==0])/(len(df_qua_sub[df_qua_sub.gold==0]))"
   ]
  },
  {
   "cell_type": "code",
   "execution_count": null,
   "metadata": {},
   "outputs": [],
   "source": []
  },
  {
   "cell_type": "markdown",
   "metadata": {},
   "source": [
    "## Triplet Bert Related Eval Results"
   ]
  },
  {
   "cell_type": "code",
   "execution_count": 26,
   "metadata": {},
   "outputs": [],
   "source": [
    "from sklearn.metrics import accuracy_score,f1_score,recall_score,precision_score"
   ]
  },
  {
   "cell_type": "code",
   "execution_count": 27,
   "metadata": {},
   "outputs": [],
   "source": [
    "# Triplet cos siamese bert"
   ]
  },
  {
   "cell_type": "code",
   "execution_count": 28,
   "metadata": {},
   "outputs": [],
   "source": [
    "df = pd.read_csv(\"../stance_code/Evaluation/bert_dummy_output/distance_concat_margin1_costriplet_cos_siamese_bs24_lr2e_5_epoch15_raw_score.csv\")"
   ]
  },
  {
   "cell_type": "code",
   "execution_count": 29,
   "metadata": {},
   "outputs": [
    {
     "data": {
      "text/html": [
       "<div>\n",
       "<style scoped>\n",
       "    .dataframe tbody tr th:only-of-type {\n",
       "        vertical-align: middle;\n",
       "    }\n",
       "\n",
       "    .dataframe tbody tr th {\n",
       "        vertical-align: top;\n",
       "    }\n",
       "\n",
       "    .dataframe thead th {\n",
       "        text-align: right;\n",
       "    }\n",
       "</style>\n",
       "<table border=\"1\" class=\"dataframe\">\n",
       "  <thead>\n",
       "    <tr style=\"text-align: right;\">\n",
       "      <th></th>\n",
       "      <th>undermine_score</th>\n",
       "      <th>support_score</th>\n",
       "      <th>cp_distance</th>\n",
       "      <th>cop_distance</th>\n",
       "      <th>predict_label</th>\n",
       "      <th>distance_label</th>\n",
       "      <th>gold</th>\n",
       "    </tr>\n",
       "  </thead>\n",
       "  <tbody>\n",
       "    <tr>\n",
       "      <th>0</th>\n",
       "      <td>-4.223587</td>\n",
       "      <td>3.430138</td>\n",
       "      <td>0.020014</td>\n",
       "      <td>0.012879</td>\n",
       "      <td>1</td>\n",
       "      <td>0</td>\n",
       "      <td>1</td>\n",
       "    </tr>\n",
       "    <tr>\n",
       "      <th>1</th>\n",
       "      <td>4.980137</td>\n",
       "      <td>-5.918371</td>\n",
       "      <td>1.923178</td>\n",
       "      <td>0.001339</td>\n",
       "      <td>0</td>\n",
       "      <td>0</td>\n",
       "      <td>0</td>\n",
       "    </tr>\n",
       "    <tr>\n",
       "      <th>2</th>\n",
       "      <td>-4.051531</td>\n",
       "      <td>3.098645</td>\n",
       "      <td>0.004558</td>\n",
       "      <td>0.010478</td>\n",
       "      <td>1</td>\n",
       "      <td>1</td>\n",
       "      <td>1</td>\n",
       "    </tr>\n",
       "    <tr>\n",
       "      <th>3</th>\n",
       "      <td>-1.659985</td>\n",
       "      <td>2.563246</td>\n",
       "      <td>0.277413</td>\n",
       "      <td>0.157976</td>\n",
       "      <td>1</td>\n",
       "      <td>0</td>\n",
       "      <td>1</td>\n",
       "    </tr>\n",
       "    <tr>\n",
       "      <th>4</th>\n",
       "      <td>-1.103358</td>\n",
       "      <td>5.317815</td>\n",
       "      <td>0.293655</td>\n",
       "      <td>1.842567</td>\n",
       "      <td>1</td>\n",
       "      <td>1</td>\n",
       "      <td>1</td>\n",
       "    </tr>\n",
       "    <tr>\n",
       "      <th>...</th>\n",
       "      <td>...</td>\n",
       "      <td>...</td>\n",
       "      <td>...</td>\n",
       "      <td>...</td>\n",
       "      <td>...</td>\n",
       "      <td>...</td>\n",
       "      <td>...</td>\n",
       "    </tr>\n",
       "    <tr>\n",
       "      <th>2522</th>\n",
       "      <td>2.155837</td>\n",
       "      <td>-1.537567</td>\n",
       "      <td>1.053408</td>\n",
       "      <td>0.922337</td>\n",
       "      <td>0</td>\n",
       "      <td>0</td>\n",
       "      <td>0</td>\n",
       "    </tr>\n",
       "    <tr>\n",
       "      <th>2523</th>\n",
       "      <td>6.712749</td>\n",
       "      <td>-5.522651</td>\n",
       "      <td>1.332932</td>\n",
       "      <td>0.112898</td>\n",
       "      <td>0</td>\n",
       "      <td>0</td>\n",
       "      <td>0</td>\n",
       "    </tr>\n",
       "    <tr>\n",
       "      <th>2524</th>\n",
       "      <td>-2.778294</td>\n",
       "      <td>2.587539</td>\n",
       "      <td>0.518143</td>\n",
       "      <td>1.368011</td>\n",
       "      <td>1</td>\n",
       "      <td>1</td>\n",
       "      <td>1</td>\n",
       "    </tr>\n",
       "    <tr>\n",
       "      <th>2525</th>\n",
       "      <td>-3.157147</td>\n",
       "      <td>3.050995</td>\n",
       "      <td>0.483791</td>\n",
       "      <td>1.372143</td>\n",
       "      <td>1</td>\n",
       "      <td>1</td>\n",
       "      <td>1</td>\n",
       "    </tr>\n",
       "    <tr>\n",
       "      <th>2526</th>\n",
       "      <td>0.692743</td>\n",
       "      <td>0.942525</td>\n",
       "      <td>0.609729</td>\n",
       "      <td>0.659963</td>\n",
       "      <td>1</td>\n",
       "      <td>1</td>\n",
       "      <td>1</td>\n",
       "    </tr>\n",
       "  </tbody>\n",
       "</table>\n",
       "<p>2527 rows × 7 columns</p>\n",
       "</div>"
      ],
      "text/plain": [
       "      undermine_score  support_score  cp_distance  cop_distance  \\\n",
       "0           -4.223587       3.430138     0.020014      0.012879   \n",
       "1            4.980137      -5.918371     1.923178      0.001339   \n",
       "2           -4.051531       3.098645     0.004558      0.010478   \n",
       "3           -1.659985       2.563246     0.277413      0.157976   \n",
       "4           -1.103358       5.317815     0.293655      1.842567   \n",
       "...               ...            ...          ...           ...   \n",
       "2522         2.155837      -1.537567     1.053408      0.922337   \n",
       "2523         6.712749      -5.522651     1.332932      0.112898   \n",
       "2524        -2.778294       2.587539     0.518143      1.368011   \n",
       "2525        -3.157147       3.050995     0.483791      1.372143   \n",
       "2526         0.692743       0.942525     0.609729      0.659963   \n",
       "\n",
       "      predict_label  distance_label  gold  \n",
       "0                 1               0     1  \n",
       "1                 0               0     0  \n",
       "2                 1               1     1  \n",
       "3                 1               0     1  \n",
       "4                 1               1     1  \n",
       "...             ...             ...   ...  \n",
       "2522              0               0     0  \n",
       "2523              0               0     0  \n",
       "2524              1               1     1  \n",
       "2525              1               1     1  \n",
       "2526              1               1     1  \n",
       "\n",
       "[2527 rows x 7 columns]"
      ]
     },
     "execution_count": 29,
     "metadata": {},
     "output_type": "execute_result"
    }
   ],
   "source": [
    "df"
   ]
  },
  {
   "cell_type": "code",
   "execution_count": 30,
   "metadata": {},
   "outputs": [],
   "source": [
    "#logits evaluation results"
   ]
  },
  {
   "cell_type": "code",
   "execution_count": 31,
   "metadata": {},
   "outputs": [
    {
     "data": {
      "text/plain": [
       "0.8033536585365854"
      ]
     },
     "execution_count": 31,
     "metadata": {},
     "output_type": "execute_result"
    }
   ],
   "source": [
    "f1_score(df.gold,df.predict_label)"
   ]
  },
  {
   "cell_type": "code",
   "execution_count": 32,
   "metadata": {},
   "outputs": [
    {
     "data": {
      "text/plain": [
       "0.8132716049382716"
      ]
     },
     "execution_count": 32,
     "metadata": {},
     "output_type": "execute_result"
    }
   ],
   "source": [
    "precision_score(df.gold,df.predict_label)"
   ]
  },
  {
   "cell_type": "code",
   "execution_count": 33,
   "metadata": {},
   "outputs": [
    {
     "data": {
      "text/plain": [
       "0.7936746987951807"
      ]
     },
     "execution_count": 33,
     "metadata": {},
     "output_type": "execute_result"
    }
   ],
   "source": [
    "recall_score(df.gold,df.predict_label)"
   ]
  },
  {
   "cell_type": "code",
   "execution_count": null,
   "metadata": {},
   "outputs": [],
   "source": []
  },
  {
   "cell_type": "code",
   "execution_count": 34,
   "metadata": {},
   "outputs": [],
   "source": [
    "#distance evaluation results"
   ]
  },
  {
   "cell_type": "code",
   "execution_count": 35,
   "metadata": {},
   "outputs": [
    {
     "data": {
      "text/plain": [
       "0.7849223946784921"
      ]
     },
     "execution_count": 35,
     "metadata": {},
     "output_type": "execute_result"
    }
   ],
   "source": [
    "f1_score(df.gold,df.distance_label)"
   ]
  },
  {
   "cell_type": "code",
   "execution_count": 36,
   "metadata": {},
   "outputs": [
    {
     "data": {
      "text/plain": [
       "0.7706821480406386"
      ]
     },
     "execution_count": 36,
     "metadata": {},
     "output_type": "execute_result"
    }
   ],
   "source": [
    "precision_score(df.gold,df.distance_label)"
   ]
  },
  {
   "cell_type": "code",
   "execution_count": 37,
   "metadata": {},
   "outputs": [
    {
     "data": {
      "text/plain": [
       "0.7996987951807228"
      ]
     },
     "execution_count": 37,
     "metadata": {},
     "output_type": "execute_result"
    }
   ],
   "source": [
    "recall_score(df.gold,df.distance_label)"
   ]
  },
  {
   "cell_type": "code",
   "execution_count": null,
   "metadata": {},
   "outputs": [],
   "source": []
  },
  {
   "cell_type": "code",
   "execution_count": 38,
   "metadata": {},
   "outputs": [],
   "source": [
    "#consistent cases (logtis prediction == distance prediction)"
   ]
  },
  {
   "cell_type": "code",
   "execution_count": 39,
   "metadata": {},
   "outputs": [],
   "source": [
    "df_consistency = df[df.predict_label==df.distance_label]"
   ]
  },
  {
   "cell_type": "code",
   "execution_count": 40,
   "metadata": {},
   "outputs": [
    {
     "data": {
      "text/html": [
       "<div>\n",
       "<style scoped>\n",
       "    .dataframe tbody tr th:only-of-type {\n",
       "        vertical-align: middle;\n",
       "    }\n",
       "\n",
       "    .dataframe tbody tr th {\n",
       "        vertical-align: top;\n",
       "    }\n",
       "\n",
       "    .dataframe thead th {\n",
       "        text-align: right;\n",
       "    }\n",
       "</style>\n",
       "<table border=\"1\" class=\"dataframe\">\n",
       "  <thead>\n",
       "    <tr style=\"text-align: right;\">\n",
       "      <th></th>\n",
       "      <th>undermine_score</th>\n",
       "      <th>support_score</th>\n",
       "      <th>cp_distance</th>\n",
       "      <th>cop_distance</th>\n",
       "      <th>predict_label</th>\n",
       "      <th>distance_label</th>\n",
       "      <th>gold</th>\n",
       "    </tr>\n",
       "  </thead>\n",
       "  <tbody>\n",
       "    <tr>\n",
       "      <th>1</th>\n",
       "      <td>4.980137</td>\n",
       "      <td>-5.918371</td>\n",
       "      <td>1.923178</td>\n",
       "      <td>0.001339</td>\n",
       "      <td>0</td>\n",
       "      <td>0</td>\n",
       "      <td>0</td>\n",
       "    </tr>\n",
       "    <tr>\n",
       "      <th>2</th>\n",
       "      <td>-4.051531</td>\n",
       "      <td>3.098645</td>\n",
       "      <td>0.004558</td>\n",
       "      <td>0.010478</td>\n",
       "      <td>1</td>\n",
       "      <td>1</td>\n",
       "      <td>1</td>\n",
       "    </tr>\n",
       "    <tr>\n",
       "      <th>4</th>\n",
       "      <td>-1.103358</td>\n",
       "      <td>5.317815</td>\n",
       "      <td>0.293655</td>\n",
       "      <td>1.842567</td>\n",
       "      <td>1</td>\n",
       "      <td>1</td>\n",
       "      <td>1</td>\n",
       "    </tr>\n",
       "    <tr>\n",
       "      <th>5</th>\n",
       "      <td>-2.957279</td>\n",
       "      <td>5.612340</td>\n",
       "      <td>0.010343</td>\n",
       "      <td>1.754936</td>\n",
       "      <td>1</td>\n",
       "      <td>1</td>\n",
       "      <td>1</td>\n",
       "    </tr>\n",
       "    <tr>\n",
       "      <th>6</th>\n",
       "      <td>-2.915035</td>\n",
       "      <td>5.855358</td>\n",
       "      <td>0.004241</td>\n",
       "      <td>1.868177</td>\n",
       "      <td>1</td>\n",
       "      <td>1</td>\n",
       "      <td>1</td>\n",
       "    </tr>\n",
       "    <tr>\n",
       "      <th>...</th>\n",
       "      <td>...</td>\n",
       "      <td>...</td>\n",
       "      <td>...</td>\n",
       "      <td>...</td>\n",
       "      <td>...</td>\n",
       "      <td>...</td>\n",
       "      <td>...</td>\n",
       "    </tr>\n",
       "    <tr>\n",
       "      <th>2522</th>\n",
       "      <td>2.155837</td>\n",
       "      <td>-1.537567</td>\n",
       "      <td>1.053408</td>\n",
       "      <td>0.922337</td>\n",
       "      <td>0</td>\n",
       "      <td>0</td>\n",
       "      <td>0</td>\n",
       "    </tr>\n",
       "    <tr>\n",
       "      <th>2523</th>\n",
       "      <td>6.712749</td>\n",
       "      <td>-5.522651</td>\n",
       "      <td>1.332932</td>\n",
       "      <td>0.112898</td>\n",
       "      <td>0</td>\n",
       "      <td>0</td>\n",
       "      <td>0</td>\n",
       "    </tr>\n",
       "    <tr>\n",
       "      <th>2524</th>\n",
       "      <td>-2.778294</td>\n",
       "      <td>2.587539</td>\n",
       "      <td>0.518143</td>\n",
       "      <td>1.368011</td>\n",
       "      <td>1</td>\n",
       "      <td>1</td>\n",
       "      <td>1</td>\n",
       "    </tr>\n",
       "    <tr>\n",
       "      <th>2525</th>\n",
       "      <td>-3.157147</td>\n",
       "      <td>3.050995</td>\n",
       "      <td>0.483791</td>\n",
       "      <td>1.372143</td>\n",
       "      <td>1</td>\n",
       "      <td>1</td>\n",
       "      <td>1</td>\n",
       "    </tr>\n",
       "    <tr>\n",
       "      <th>2526</th>\n",
       "      <td>0.692743</td>\n",
       "      <td>0.942525</td>\n",
       "      <td>0.609729</td>\n",
       "      <td>0.659963</td>\n",
       "      <td>1</td>\n",
       "      <td>1</td>\n",
       "      <td>1</td>\n",
       "    </tr>\n",
       "  </tbody>\n",
       "</table>\n",
       "<p>2189 rows × 7 columns</p>\n",
       "</div>"
      ],
      "text/plain": [
       "      undermine_score  support_score  cp_distance  cop_distance  \\\n",
       "1            4.980137      -5.918371     1.923178      0.001339   \n",
       "2           -4.051531       3.098645     0.004558      0.010478   \n",
       "4           -1.103358       5.317815     0.293655      1.842567   \n",
       "5           -2.957279       5.612340     0.010343      1.754936   \n",
       "6           -2.915035       5.855358     0.004241      1.868177   \n",
       "...               ...            ...          ...           ...   \n",
       "2522         2.155837      -1.537567     1.053408      0.922337   \n",
       "2523         6.712749      -5.522651     1.332932      0.112898   \n",
       "2524        -2.778294       2.587539     0.518143      1.368011   \n",
       "2525        -3.157147       3.050995     0.483791      1.372143   \n",
       "2526         0.692743       0.942525     0.609729      0.659963   \n",
       "\n",
       "      predict_label  distance_label  gold  \n",
       "1                 0               0     0  \n",
       "2                 1               1     1  \n",
       "4                 1               1     1  \n",
       "5                 1               1     1  \n",
       "6                 1               1     1  \n",
       "...             ...             ...   ...  \n",
       "2522              0               0     0  \n",
       "2523              0               0     0  \n",
       "2524              1               1     1  \n",
       "2525              1               1     1  \n",
       "2526              1               1     1  \n",
       "\n",
       "[2189 rows x 7 columns]"
      ]
     },
     "execution_count": 40,
     "metadata": {},
     "output_type": "execute_result"
    }
   ],
   "source": [
    "df_consistency"
   ]
  },
  {
   "cell_type": "code",
   "execution_count": 189,
   "metadata": {},
   "outputs": [
    {
     "data": {
      "text/plain": [
       "0.8353552859618716"
      ]
     },
     "execution_count": 189,
     "metadata": {},
     "output_type": "execute_result"
    }
   ],
   "source": [
    "f1_score(df_consistency.gold,df_consistency.distance_label)"
   ]
  },
  {
   "cell_type": "code",
   "execution_count": 190,
   "metadata": {},
   "outputs": [
    {
     "data": {
      "text/plain": [
       "0.8253424657534246"
      ]
     },
     "execution_count": 190,
     "metadata": {},
     "output_type": "execute_result"
    }
   ],
   "source": [
    "precision_score(df_consistency.gold,df_consistency.distance_label)"
   ]
  },
  {
   "cell_type": "code",
   "execution_count": 191,
   "metadata": {},
   "outputs": [
    {
     "data": {
      "text/plain": [
       "0.8456140350877193"
      ]
     },
     "execution_count": 191,
     "metadata": {},
     "output_type": "execute_result"
    }
   ],
   "source": [
    "recall_score(df_consistency.gold,df_consistency.distance_label)"
   ]
  },
  {
   "cell_type": "code",
   "execution_count": null,
   "metadata": {},
   "outputs": [],
   "source": []
  },
  {
   "cell_type": "code",
   "execution_count": 185,
   "metadata": {},
   "outputs": [
    {
     "data": {
      "text/html": [
       "<div>\n",
       "<style scoped>\n",
       "    .dataframe tbody tr th:only-of-type {\n",
       "        vertical-align: middle;\n",
       "    }\n",
       "\n",
       "    .dataframe tbody tr th {\n",
       "        vertical-align: top;\n",
       "    }\n",
       "\n",
       "    .dataframe thead th {\n",
       "        text-align: right;\n",
       "    }\n",
       "</style>\n",
       "<table border=\"1\" class=\"dataframe\">\n",
       "  <thead>\n",
       "    <tr style=\"text-align: right;\">\n",
       "      <th></th>\n",
       "      <th>undermine_score</th>\n",
       "      <th>support_score</th>\n",
       "      <th>cp_distance</th>\n",
       "      <th>cop_distance</th>\n",
       "      <th>predict_label</th>\n",
       "      <th>distance_label</th>\n",
       "      <th>gold</th>\n",
       "    </tr>\n",
       "  </thead>\n",
       "  <tbody>\n",
       "    <tr>\n",
       "      <th>1</th>\n",
       "      <td>4.980137</td>\n",
       "      <td>-5.918371</td>\n",
       "      <td>1.923178</td>\n",
       "      <td>0.001339</td>\n",
       "      <td>0</td>\n",
       "      <td>0</td>\n",
       "      <td>0</td>\n",
       "    </tr>\n",
       "    <tr>\n",
       "      <th>2</th>\n",
       "      <td>-4.051531</td>\n",
       "      <td>3.098645</td>\n",
       "      <td>0.004558</td>\n",
       "      <td>0.010478</td>\n",
       "      <td>1</td>\n",
       "      <td>1</td>\n",
       "      <td>1</td>\n",
       "    </tr>\n",
       "    <tr>\n",
       "      <th>4</th>\n",
       "      <td>-1.103358</td>\n",
       "      <td>5.317815</td>\n",
       "      <td>0.293655</td>\n",
       "      <td>1.842567</td>\n",
       "      <td>1</td>\n",
       "      <td>1</td>\n",
       "      <td>1</td>\n",
       "    </tr>\n",
       "    <tr>\n",
       "      <th>5</th>\n",
       "      <td>-2.957279</td>\n",
       "      <td>5.612340</td>\n",
       "      <td>0.010343</td>\n",
       "      <td>1.754936</td>\n",
       "      <td>1</td>\n",
       "      <td>1</td>\n",
       "      <td>1</td>\n",
       "    </tr>\n",
       "    <tr>\n",
       "      <th>6</th>\n",
       "      <td>-2.915035</td>\n",
       "      <td>5.855358</td>\n",
       "      <td>0.004241</td>\n",
       "      <td>1.868177</td>\n",
       "      <td>1</td>\n",
       "      <td>1</td>\n",
       "      <td>1</td>\n",
       "    </tr>\n",
       "    <tr>\n",
       "      <th>...</th>\n",
       "      <td>...</td>\n",
       "      <td>...</td>\n",
       "      <td>...</td>\n",
       "      <td>...</td>\n",
       "      <td>...</td>\n",
       "      <td>...</td>\n",
       "      <td>...</td>\n",
       "    </tr>\n",
       "    <tr>\n",
       "      <th>2518</th>\n",
       "      <td>6.778597</td>\n",
       "      <td>-5.306126</td>\n",
       "      <td>1.339745</td>\n",
       "      <td>0.412176</td>\n",
       "      <td>0</td>\n",
       "      <td>0</td>\n",
       "      <td>0</td>\n",
       "    </tr>\n",
       "    <tr>\n",
       "      <th>2519</th>\n",
       "      <td>6.098404</td>\n",
       "      <td>-4.817781</td>\n",
       "      <td>1.277633</td>\n",
       "      <td>0.138542</td>\n",
       "      <td>0</td>\n",
       "      <td>0</td>\n",
       "      <td>0</td>\n",
       "    </tr>\n",
       "    <tr>\n",
       "      <th>2520</th>\n",
       "      <td>7.552144</td>\n",
       "      <td>-6.467586</td>\n",
       "      <td>1.450673</td>\n",
       "      <td>0.491035</td>\n",
       "      <td>0</td>\n",
       "      <td>0</td>\n",
       "      <td>0</td>\n",
       "    </tr>\n",
       "    <tr>\n",
       "      <th>2523</th>\n",
       "      <td>6.712749</td>\n",
       "      <td>-5.522651</td>\n",
       "      <td>1.332932</td>\n",
       "      <td>0.112898</td>\n",
       "      <td>0</td>\n",
       "      <td>0</td>\n",
       "      <td>0</td>\n",
       "    </tr>\n",
       "    <tr>\n",
       "      <th>2525</th>\n",
       "      <td>-3.157147</td>\n",
       "      <td>3.050995</td>\n",
       "      <td>0.483791</td>\n",
       "      <td>1.372143</td>\n",
       "      <td>1</td>\n",
       "      <td>1</td>\n",
       "      <td>1</td>\n",
       "    </tr>\n",
       "  </tbody>\n",
       "</table>\n",
       "<p>1899 rows × 7 columns</p>\n",
       "</div>"
      ],
      "text/plain": [
       "      undermine_score  support_score  cp_distance  cop_distance  \\\n",
       "1            4.980137      -5.918371     1.923178      0.001339   \n",
       "2           -4.051531       3.098645     0.004558      0.010478   \n",
       "4           -1.103358       5.317815     0.293655      1.842567   \n",
       "5           -2.957279       5.612340     0.010343      1.754936   \n",
       "6           -2.915035       5.855358     0.004241      1.868177   \n",
       "...               ...            ...          ...           ...   \n",
       "2518         6.778597      -5.306126     1.339745      0.412176   \n",
       "2519         6.098404      -4.817781     1.277633      0.138542   \n",
       "2520         7.552144      -6.467586     1.450673      0.491035   \n",
       "2523         6.712749      -5.522651     1.332932      0.112898   \n",
       "2525        -3.157147       3.050995     0.483791      1.372143   \n",
       "\n",
       "      predict_label  distance_label  gold  \n",
       "1                 0               0     0  \n",
       "2                 1               1     1  \n",
       "4                 1               1     1  \n",
       "5                 1               1     1  \n",
       "6                 1               1     1  \n",
       "...             ...             ...   ...  \n",
       "2518              0               0     0  \n",
       "2519              0               0     0  \n",
       "2520              0               0     0  \n",
       "2523              0               0     0  \n",
       "2525              1               1     1  \n",
       "\n",
       "[1899 rows x 7 columns]"
      ]
     },
     "execution_count": 185,
     "metadata": {},
     "output_type": "execute_result"
    }
   ],
   "source": [
    "df_logits_diff = df_consistency[abs(df_consistency.undermine_score-df_consistency.support_score)>5.7]\n",
    "df_logits_diff"
   ]
  },
  {
   "cell_type": "code",
   "execution_count": 186,
   "metadata": {},
   "outputs": [
    {
     "data": {
      "text/plain": [
       "0.8616480162767038"
      ]
     },
     "execution_count": 186,
     "metadata": {},
     "output_type": "execute_result"
    }
   ],
   "source": [
    "f1_score(df_logits_diff.gold,df_logits_diff.distance_label)"
   ]
  },
  {
   "cell_type": "code",
   "execution_count": 187,
   "metadata": {},
   "outputs": [
    {
     "data": {
      "text/plain": [
       "0.8634046890927625"
      ]
     },
     "execution_count": 187,
     "metadata": {},
     "output_type": "execute_result"
    }
   ],
   "source": [
    "precision_score(df_logits_diff.gold,df_logits_diff.distance_label)"
   ]
  },
  {
   "cell_type": "code",
   "execution_count": 188,
   "metadata": {},
   "outputs": [
    {
     "data": {
      "text/plain": [
       "0.8598984771573605"
      ]
     },
     "execution_count": 188,
     "metadata": {},
     "output_type": "execute_result"
    }
   ],
   "source": [
    "recall_score(df_logits_diff.gold,df_logits_diff.distance_label)"
   ]
  },
  {
   "cell_type": "code",
   "execution_count": null,
   "metadata": {},
   "outputs": [],
   "source": []
  },
  {
   "cell_type": "code",
   "execution_count": 252,
   "metadata": {},
   "outputs": [
    {
     "data": {
      "text/html": [
       "<div>\n",
       "<style scoped>\n",
       "    .dataframe tbody tr th:only-of-type {\n",
       "        vertical-align: middle;\n",
       "    }\n",
       "\n",
       "    .dataframe tbody tr th {\n",
       "        vertical-align: top;\n",
       "    }\n",
       "\n",
       "    .dataframe thead th {\n",
       "        text-align: right;\n",
       "    }\n",
       "</style>\n",
       "<table border=\"1\" class=\"dataframe\">\n",
       "  <thead>\n",
       "    <tr style=\"text-align: right;\">\n",
       "      <th></th>\n",
       "      <th>undermine_score</th>\n",
       "      <th>support_score</th>\n",
       "      <th>cp_distance</th>\n",
       "      <th>cop_distance</th>\n",
       "      <th>predict_label</th>\n",
       "      <th>distance_label</th>\n",
       "      <th>gold</th>\n",
       "    </tr>\n",
       "  </thead>\n",
       "  <tbody>\n",
       "    <tr>\n",
       "      <th>1</th>\n",
       "      <td>4.980137</td>\n",
       "      <td>-5.918371</td>\n",
       "      <td>1.923178</td>\n",
       "      <td>0.001339</td>\n",
       "      <td>0</td>\n",
       "      <td>0</td>\n",
       "      <td>0</td>\n",
       "    </tr>\n",
       "    <tr>\n",
       "      <th>5</th>\n",
       "      <td>-2.957279</td>\n",
       "      <td>5.612340</td>\n",
       "      <td>0.010343</td>\n",
       "      <td>1.754936</td>\n",
       "      <td>1</td>\n",
       "      <td>1</td>\n",
       "      <td>1</td>\n",
       "    </tr>\n",
       "    <tr>\n",
       "      <th>6</th>\n",
       "      <td>-2.915035</td>\n",
       "      <td>5.855358</td>\n",
       "      <td>0.004241</td>\n",
       "      <td>1.868177</td>\n",
       "      <td>1</td>\n",
       "      <td>1</td>\n",
       "      <td>1</td>\n",
       "    </tr>\n",
       "    <tr>\n",
       "      <th>8</th>\n",
       "      <td>-2.915035</td>\n",
       "      <td>5.855358</td>\n",
       "      <td>0.004241</td>\n",
       "      <td>1.868177</td>\n",
       "      <td>1</td>\n",
       "      <td>1</td>\n",
       "      <td>1</td>\n",
       "    </tr>\n",
       "    <tr>\n",
       "      <th>14</th>\n",
       "      <td>4.973082</td>\n",
       "      <td>-5.446892</td>\n",
       "      <td>1.975014</td>\n",
       "      <td>0.038279</td>\n",
       "      <td>0</td>\n",
       "      <td>0</td>\n",
       "      <td>0</td>\n",
       "    </tr>\n",
       "    <tr>\n",
       "      <th>...</th>\n",
       "      <td>...</td>\n",
       "      <td>...</td>\n",
       "      <td>...</td>\n",
       "      <td>...</td>\n",
       "      <td>...</td>\n",
       "      <td>...</td>\n",
       "      <td>...</td>\n",
       "    </tr>\n",
       "    <tr>\n",
       "      <th>2491</th>\n",
       "      <td>-2.285798</td>\n",
       "      <td>5.668227</td>\n",
       "      <td>0.008553</td>\n",
       "      <td>1.960932</td>\n",
       "      <td>1</td>\n",
       "      <td>1</td>\n",
       "      <td>1</td>\n",
       "    </tr>\n",
       "    <tr>\n",
       "      <th>2492</th>\n",
       "      <td>-2.583144</td>\n",
       "      <td>6.087638</td>\n",
       "      <td>0.034917</td>\n",
       "      <td>1.913892</td>\n",
       "      <td>1</td>\n",
       "      <td>1</td>\n",
       "      <td>1</td>\n",
       "    </tr>\n",
       "    <tr>\n",
       "      <th>2493</th>\n",
       "      <td>-2.277760</td>\n",
       "      <td>5.606550</td>\n",
       "      <td>0.010047</td>\n",
       "      <td>1.973817</td>\n",
       "      <td>1</td>\n",
       "      <td>1</td>\n",
       "      <td>1</td>\n",
       "    </tr>\n",
       "    <tr>\n",
       "      <th>2496</th>\n",
       "      <td>-2.799630</td>\n",
       "      <td>5.131019</td>\n",
       "      <td>0.060273</td>\n",
       "      <td>1.893408</td>\n",
       "      <td>1</td>\n",
       "      <td>1</td>\n",
       "      <td>0</td>\n",
       "    </tr>\n",
       "    <tr>\n",
       "      <th>2507</th>\n",
       "      <td>10.904087</td>\n",
       "      <td>-9.416132</td>\n",
       "      <td>1.907659</td>\n",
       "      <td>0.099717</td>\n",
       "      <td>0</td>\n",
       "      <td>0</td>\n",
       "      <td>0</td>\n",
       "    </tr>\n",
       "  </tbody>\n",
       "</table>\n",
       "<p>904 rows × 7 columns</p>\n",
       "</div>"
      ],
      "text/plain": [
       "      undermine_score  support_score  cp_distance  cop_distance  \\\n",
       "1            4.980137      -5.918371     1.923178      0.001339   \n",
       "5           -2.957279       5.612340     0.010343      1.754936   \n",
       "6           -2.915035       5.855358     0.004241      1.868177   \n",
       "8           -2.915035       5.855358     0.004241      1.868177   \n",
       "14           4.973082      -5.446892     1.975014      0.038279   \n",
       "...               ...            ...          ...           ...   \n",
       "2491        -2.285798       5.668227     0.008553      1.960932   \n",
       "2492        -2.583144       6.087638     0.034917      1.913892   \n",
       "2493        -2.277760       5.606550     0.010047      1.973817   \n",
       "2496        -2.799630       5.131019     0.060273      1.893408   \n",
       "2507        10.904087      -9.416132     1.907659      0.099717   \n",
       "\n",
       "      predict_label  distance_label  gold  \n",
       "1                 0               0     0  \n",
       "5                 1               1     1  \n",
       "6                 1               1     1  \n",
       "8                 1               1     1  \n",
       "14                0               0     0  \n",
       "...             ...             ...   ...  \n",
       "2491              1               1     1  \n",
       "2492              1               1     1  \n",
       "2493              1               1     1  \n",
       "2496              1               1     0  \n",
       "2507              0               0     0  \n",
       "\n",
       "[904 rows x 7 columns]"
      ]
     },
     "execution_count": 252,
     "metadata": {},
     "output_type": "execute_result"
    }
   ],
   "source": [
    "df_distance_diff = df_consistency[abs(df_consistency.cp_distance-df_consistency.cop_distance)>1.7]\n",
    "df_distance_diff"
   ]
  },
  {
   "cell_type": "code",
   "execution_count": 253,
   "metadata": {},
   "outputs": [
    {
     "data": {
      "text/plain": [
       "0.9076773566569486"
      ]
     },
     "execution_count": 253,
     "metadata": {},
     "output_type": "execute_result"
    }
   ],
   "source": [
    "f1_score(df_distance_diff.gold,df_distance_diff.distance_label)"
   ]
  },
  {
   "cell_type": "code",
   "execution_count": 254,
   "metadata": {},
   "outputs": [
    {
     "data": {
      "text/plain": [
       "0.871268656716418"
      ]
     },
     "execution_count": 254,
     "metadata": {},
     "output_type": "execute_result"
    }
   ],
   "source": [
    "precision_score(df_distance_diff.gold,df_distance_diff.distance_label)"
   ]
  },
  {
   "cell_type": "code",
   "execution_count": 255,
   "metadata": {},
   "outputs": [
    {
     "data": {
      "text/plain": [
       "0.947261663286004"
      ]
     },
     "execution_count": 255,
     "metadata": {},
     "output_type": "execute_result"
    }
   ],
   "source": [
    "recall_score(df_distance_diff.gold,df_distance_diff.distance_label)"
   ]
  },
  {
   "cell_type": "code",
   "execution_count": null,
   "metadata": {},
   "outputs": [],
   "source": []
  },
  {
   "cell_type": "code",
   "execution_count": null,
   "metadata": {},
   "outputs": [],
   "source": []
  },
  {
   "cell_type": "code",
   "execution_count": null,
   "metadata": {},
   "outputs": [],
   "source": []
  },
  {
   "cell_type": "code",
   "execution_count": 44,
   "metadata": {},
   "outputs": [],
   "source": [
    "#inconsistent cases (logtis prediction != distance prediction)"
   ]
  },
  {
   "cell_type": "code",
   "execution_count": 45,
   "metadata": {},
   "outputs": [],
   "source": [
    "df_inconsistency = df[df.predict_label!=df.distance_label]"
   ]
  },
  {
   "cell_type": "code",
   "execution_count": 46,
   "metadata": {},
   "outputs": [],
   "source": [
    "df_consistency = df[df.predict_label==df.distance_label]"
   ]
  },
  {
   "cell_type": "code",
   "execution_count": 47,
   "metadata": {},
   "outputs": [
    {
     "data": {
      "text/html": [
       "<div>\n",
       "<style scoped>\n",
       "    .dataframe tbody tr th:only-of-type {\n",
       "        vertical-align: middle;\n",
       "    }\n",
       "\n",
       "    .dataframe tbody tr th {\n",
       "        vertical-align: top;\n",
       "    }\n",
       "\n",
       "    .dataframe thead th {\n",
       "        text-align: right;\n",
       "    }\n",
       "</style>\n",
       "<table border=\"1\" class=\"dataframe\">\n",
       "  <thead>\n",
       "    <tr style=\"text-align: right;\">\n",
       "      <th></th>\n",
       "      <th>undermine_score</th>\n",
       "      <th>support_score</th>\n",
       "      <th>cp_distance</th>\n",
       "      <th>cop_distance</th>\n",
       "      <th>predict_label</th>\n",
       "      <th>distance_label</th>\n",
       "      <th>gold</th>\n",
       "    </tr>\n",
       "  </thead>\n",
       "  <tbody>\n",
       "    <tr>\n",
       "      <th>0</th>\n",
       "      <td>-4.223587</td>\n",
       "      <td>3.430138</td>\n",
       "      <td>0.020014</td>\n",
       "      <td>0.012879</td>\n",
       "      <td>1</td>\n",
       "      <td>0</td>\n",
       "      <td>1</td>\n",
       "    </tr>\n",
       "    <tr>\n",
       "      <th>3</th>\n",
       "      <td>-1.659985</td>\n",
       "      <td>2.563246</td>\n",
       "      <td>0.277413</td>\n",
       "      <td>0.157976</td>\n",
       "      <td>1</td>\n",
       "      <td>0</td>\n",
       "      <td>1</td>\n",
       "    </tr>\n",
       "    <tr>\n",
       "      <th>59</th>\n",
       "      <td>6.975863</td>\n",
       "      <td>-2.372392</td>\n",
       "      <td>1.920776</td>\n",
       "      <td>1.928768</td>\n",
       "      <td>0</td>\n",
       "      <td>1</td>\n",
       "      <td>1</td>\n",
       "    </tr>\n",
       "    <tr>\n",
       "      <th>73</th>\n",
       "      <td>1.812300</td>\n",
       "      <td>-0.927047</td>\n",
       "      <td>1.096693</td>\n",
       "      <td>1.661179</td>\n",
       "      <td>0</td>\n",
       "      <td>1</td>\n",
       "      <td>1</td>\n",
       "    </tr>\n",
       "    <tr>\n",
       "      <th>78</th>\n",
       "      <td>2.363664</td>\n",
       "      <td>-1.478531</td>\n",
       "      <td>1.179334</td>\n",
       "      <td>1.422178</td>\n",
       "      <td>0</td>\n",
       "      <td>1</td>\n",
       "      <td>1</td>\n",
       "    </tr>\n",
       "    <tr>\n",
       "      <th>...</th>\n",
       "      <td>...</td>\n",
       "      <td>...</td>\n",
       "      <td>...</td>\n",
       "      <td>...</td>\n",
       "      <td>...</td>\n",
       "      <td>...</td>\n",
       "      <td>...</td>\n",
       "    </tr>\n",
       "    <tr>\n",
       "      <th>2480</th>\n",
       "      <td>-3.776413</td>\n",
       "      <td>2.909049</td>\n",
       "      <td>0.075312</td>\n",
       "      <td>0.017392</td>\n",
       "      <td>1</td>\n",
       "      <td>0</td>\n",
       "      <td>0</td>\n",
       "    </tr>\n",
       "    <tr>\n",
       "      <th>2503</th>\n",
       "      <td>0.627612</td>\n",
       "      <td>-0.557652</td>\n",
       "      <td>0.694943</td>\n",
       "      <td>1.455035</td>\n",
       "      <td>0</td>\n",
       "      <td>1</td>\n",
       "      <td>0</td>\n",
       "    </tr>\n",
       "    <tr>\n",
       "      <th>2506</th>\n",
       "      <td>2.762536</td>\n",
       "      <td>-1.856774</td>\n",
       "      <td>0.735328</td>\n",
       "      <td>0.786035</td>\n",
       "      <td>0</td>\n",
       "      <td>1</td>\n",
       "      <td>0</td>\n",
       "    </tr>\n",
       "    <tr>\n",
       "      <th>2513</th>\n",
       "      <td>0.033896</td>\n",
       "      <td>-0.449516</td>\n",
       "      <td>0.755636</td>\n",
       "      <td>1.142089</td>\n",
       "      <td>0</td>\n",
       "      <td>1</td>\n",
       "      <td>1</td>\n",
       "    </tr>\n",
       "    <tr>\n",
       "      <th>2521</th>\n",
       "      <td>3.317570</td>\n",
       "      <td>-3.755074</td>\n",
       "      <td>1.281456</td>\n",
       "      <td>1.372968</td>\n",
       "      <td>0</td>\n",
       "      <td>1</td>\n",
       "      <td>0</td>\n",
       "    </tr>\n",
       "  </tbody>\n",
       "</table>\n",
       "<p>338 rows × 7 columns</p>\n",
       "</div>"
      ],
      "text/plain": [
       "      undermine_score  support_score  cp_distance  cop_distance  \\\n",
       "0           -4.223587       3.430138     0.020014      0.012879   \n",
       "3           -1.659985       2.563246     0.277413      0.157976   \n",
       "59           6.975863      -2.372392     1.920776      1.928768   \n",
       "73           1.812300      -0.927047     1.096693      1.661179   \n",
       "78           2.363664      -1.478531     1.179334      1.422178   \n",
       "...               ...            ...          ...           ...   \n",
       "2480        -3.776413       2.909049     0.075312      0.017392   \n",
       "2503         0.627612      -0.557652     0.694943      1.455035   \n",
       "2506         2.762536      -1.856774     0.735328      0.786035   \n",
       "2513         0.033896      -0.449516     0.755636      1.142089   \n",
       "2521         3.317570      -3.755074     1.281456      1.372968   \n",
       "\n",
       "      predict_label  distance_label  gold  \n",
       "0                 1               0     1  \n",
       "3                 1               0     1  \n",
       "59                0               1     1  \n",
       "73                0               1     1  \n",
       "78                0               1     1  \n",
       "...             ...             ...   ...  \n",
       "2480              1               0     0  \n",
       "2503              0               1     0  \n",
       "2506              0               1     0  \n",
       "2513              0               1     1  \n",
       "2521              0               1     0  \n",
       "\n",
       "[338 rows x 7 columns]"
      ]
     },
     "execution_count": 47,
     "metadata": {},
     "output_type": "execute_result"
    }
   ],
   "source": [
    "df_inconsistency"
   ]
  },
  {
   "cell_type": "code",
   "execution_count": 48,
   "metadata": {},
   "outputs": [],
   "source": [
    "#triplet test set"
   ]
  },
  {
   "cell_type": "code",
   "execution_count": 49,
   "metadata": {},
   "outputs": [],
   "source": [
    "df_origin = pd.read_csv(\"../stance_code/Dataset/tri_test.tsv\", delimiter=\"\\t\")"
   ]
  },
  {
   "cell_type": "code",
   "execution_count": 50,
   "metadata": {},
   "outputs": [],
   "source": [
    "#combine triplet test set with eval results"
   ]
  },
  {
   "cell_type": "code",
   "execution_count": 51,
   "metadata": {},
   "outputs": [],
   "source": [
    "incons_out = df_inconsistency.join(df_origin).drop(\"x\",axis=1).drop(\"y\",axis=1)"
   ]
  },
  {
   "cell_type": "code",
   "execution_count": 52,
   "metadata": {},
   "outputs": [],
   "source": [
    "incons_out.to_csv(\"inconsistency_data.csv\",index=False)"
   ]
  },
  {
   "cell_type": "code",
   "execution_count": 53,
   "metadata": {},
   "outputs": [],
   "source": [
    "incons_out.to_excel(\"inconsistency_data.xlsx\")"
   ]
  },
  {
   "cell_type": "code",
   "execution_count": 54,
   "metadata": {},
   "outputs": [
    {
     "data": {
      "text/plain": [
       "0.5976331360946746"
      ]
     },
     "execution_count": 54,
     "metadata": {},
     "output_type": "execute_result"
    }
   ],
   "source": [
    "accuracy_score(df_inconsistency.gold,df_inconsistency.predict_label)"
   ]
  },
  {
   "cell_type": "code",
   "execution_count": null,
   "metadata": {},
   "outputs": [],
   "source": []
  },
  {
   "cell_type": "code",
   "execution_count": 55,
   "metadata": {},
   "outputs": [],
   "source": [
    "# distance_correct_logits_wrong"
   ]
  },
  {
   "cell_type": "code",
   "execution_count": 56,
   "metadata": {},
   "outputs": [],
   "source": [
    "df_distance_correct_logits_wrong = df[(df.distance_label==df.gold)&(df.predict_label!=df.gold)]"
   ]
  },
  {
   "cell_type": "code",
   "execution_count": 57,
   "metadata": {},
   "outputs": [
    {
     "data": {
      "text/html": [
       "<div>\n",
       "<style scoped>\n",
       "    .dataframe tbody tr th:only-of-type {\n",
       "        vertical-align: middle;\n",
       "    }\n",
       "\n",
       "    .dataframe tbody tr th {\n",
       "        vertical-align: top;\n",
       "    }\n",
       "\n",
       "    .dataframe thead th {\n",
       "        text-align: right;\n",
       "    }\n",
       "</style>\n",
       "<table border=\"1\" class=\"dataframe\">\n",
       "  <thead>\n",
       "    <tr style=\"text-align: right;\">\n",
       "      <th></th>\n",
       "      <th>undermine_score</th>\n",
       "      <th>support_score</th>\n",
       "      <th>cp_distance</th>\n",
       "      <th>cop_distance</th>\n",
       "      <th>predict_label</th>\n",
       "      <th>distance_label</th>\n",
       "      <th>gold</th>\n",
       "    </tr>\n",
       "  </thead>\n",
       "  <tbody>\n",
       "    <tr>\n",
       "      <th>59</th>\n",
       "      <td>6.975863</td>\n",
       "      <td>-2.372392</td>\n",
       "      <td>1.920776</td>\n",
       "      <td>1.928768</td>\n",
       "      <td>0</td>\n",
       "      <td>1</td>\n",
       "      <td>1</td>\n",
       "    </tr>\n",
       "    <tr>\n",
       "      <th>73</th>\n",
       "      <td>1.812300</td>\n",
       "      <td>-0.927047</td>\n",
       "      <td>1.096693</td>\n",
       "      <td>1.661179</td>\n",
       "      <td>0</td>\n",
       "      <td>1</td>\n",
       "      <td>1</td>\n",
       "    </tr>\n",
       "    <tr>\n",
       "      <th>78</th>\n",
       "      <td>2.363664</td>\n",
       "      <td>-1.478531</td>\n",
       "      <td>1.179334</td>\n",
       "      <td>1.422178</td>\n",
       "      <td>0</td>\n",
       "      <td>1</td>\n",
       "      <td>1</td>\n",
       "    </tr>\n",
       "    <tr>\n",
       "      <th>84</th>\n",
       "      <td>5.189340</td>\n",
       "      <td>-5.870834</td>\n",
       "      <td>1.708071</td>\n",
       "      <td>1.780854</td>\n",
       "      <td>0</td>\n",
       "      <td>1</td>\n",
       "      <td>1</td>\n",
       "    </tr>\n",
       "    <tr>\n",
       "      <th>110</th>\n",
       "      <td>-2.283030</td>\n",
       "      <td>2.307269</td>\n",
       "      <td>0.426038</td>\n",
       "      <td>0.200011</td>\n",
       "      <td>1</td>\n",
       "      <td>0</td>\n",
       "      <td>0</td>\n",
       "    </tr>\n",
       "    <tr>\n",
       "      <th>...</th>\n",
       "      <td>...</td>\n",
       "      <td>...</td>\n",
       "      <td>...</td>\n",
       "      <td>...</td>\n",
       "      <td>...</td>\n",
       "      <td>...</td>\n",
       "      <td>...</td>\n",
       "    </tr>\n",
       "    <tr>\n",
       "      <th>2434</th>\n",
       "      <td>-3.825589</td>\n",
       "      <td>5.084303</td>\n",
       "      <td>0.037229</td>\n",
       "      <td>0.004001</td>\n",
       "      <td>1</td>\n",
       "      <td>0</td>\n",
       "      <td>0</td>\n",
       "    </tr>\n",
       "    <tr>\n",
       "      <th>2465</th>\n",
       "      <td>4.006112</td>\n",
       "      <td>-1.870267</td>\n",
       "      <td>1.650200</td>\n",
       "      <td>1.766552</td>\n",
       "      <td>0</td>\n",
       "      <td>1</td>\n",
       "      <td>1</td>\n",
       "    </tr>\n",
       "    <tr>\n",
       "      <th>2473</th>\n",
       "      <td>1.276656</td>\n",
       "      <td>-1.107606</td>\n",
       "      <td>1.218479</td>\n",
       "      <td>1.468761</td>\n",
       "      <td>0</td>\n",
       "      <td>1</td>\n",
       "      <td>1</td>\n",
       "    </tr>\n",
       "    <tr>\n",
       "      <th>2480</th>\n",
       "      <td>-3.776413</td>\n",
       "      <td>2.909049</td>\n",
       "      <td>0.075312</td>\n",
       "      <td>0.017392</td>\n",
       "      <td>1</td>\n",
       "      <td>0</td>\n",
       "      <td>0</td>\n",
       "    </tr>\n",
       "    <tr>\n",
       "      <th>2513</th>\n",
       "      <td>0.033896</td>\n",
       "      <td>-0.449516</td>\n",
       "      <td>0.755636</td>\n",
       "      <td>1.142089</td>\n",
       "      <td>0</td>\n",
       "      <td>1</td>\n",
       "      <td>1</td>\n",
       "    </tr>\n",
       "  </tbody>\n",
       "</table>\n",
       "<p>136 rows × 7 columns</p>\n",
       "</div>"
      ],
      "text/plain": [
       "      undermine_score  support_score  cp_distance  cop_distance  \\\n",
       "59           6.975863      -2.372392     1.920776      1.928768   \n",
       "73           1.812300      -0.927047     1.096693      1.661179   \n",
       "78           2.363664      -1.478531     1.179334      1.422178   \n",
       "84           5.189340      -5.870834     1.708071      1.780854   \n",
       "110         -2.283030       2.307269     0.426038      0.200011   \n",
       "...               ...            ...          ...           ...   \n",
       "2434        -3.825589       5.084303     0.037229      0.004001   \n",
       "2465         4.006112      -1.870267     1.650200      1.766552   \n",
       "2473         1.276656      -1.107606     1.218479      1.468761   \n",
       "2480        -3.776413       2.909049     0.075312      0.017392   \n",
       "2513         0.033896      -0.449516     0.755636      1.142089   \n",
       "\n",
       "      predict_label  distance_label  gold  \n",
       "59                0               1     1  \n",
       "73                0               1     1  \n",
       "78                0               1     1  \n",
       "84                0               1     1  \n",
       "110               1               0     0  \n",
       "...             ...             ...   ...  \n",
       "2434              1               0     0  \n",
       "2465              0               1     1  \n",
       "2473              0               1     1  \n",
       "2480              1               0     0  \n",
       "2513              0               1     1  \n",
       "\n",
       "[136 rows x 7 columns]"
      ]
     },
     "execution_count": 57,
     "metadata": {},
     "output_type": "execute_result"
    }
   ],
   "source": [
    "df_distance_correct_logits_wrong"
   ]
  },
  {
   "cell_type": "code",
   "execution_count": 58,
   "metadata": {},
   "outputs": [],
   "source": [
    "# combine distance_correct_logits_wrong with test set"
   ]
  },
  {
   "cell_type": "code",
   "execution_count": 59,
   "metadata": {},
   "outputs": [],
   "source": [
    "dcorrect_lwrong_out = df_distance_correct_logits_wrong.join(df_origin).drop(\"x\",axis=1).drop(\"y\",axis=1)"
   ]
  },
  {
   "cell_type": "code",
   "execution_count": 60,
   "metadata": {},
   "outputs": [
    {
     "data": {
      "text/html": [
       "<div>\n",
       "<style scoped>\n",
       "    .dataframe tbody tr th:only-of-type {\n",
       "        vertical-align: middle;\n",
       "    }\n",
       "\n",
       "    .dataframe tbody tr th {\n",
       "        vertical-align: top;\n",
       "    }\n",
       "\n",
       "    .dataframe thead th {\n",
       "        text-align: right;\n",
       "    }\n",
       "</style>\n",
       "<table border=\"1\" class=\"dataframe\">\n",
       "  <thead>\n",
       "    <tr style=\"text-align: right;\">\n",
       "      <th></th>\n",
       "      <th>undermine_score</th>\n",
       "      <th>support_score</th>\n",
       "      <th>cp_distance</th>\n",
       "      <th>cop_distance</th>\n",
       "      <th>predict_label</th>\n",
       "      <th>distance_label</th>\n",
       "      <th>gold</th>\n",
       "      <th>Label</th>\n",
       "      <th>claim</th>\n",
       "      <th>perspective</th>\n",
       "      <th>opposite_perspective</th>\n",
       "    </tr>\n",
       "  </thead>\n",
       "  <tbody>\n",
       "    <tr>\n",
       "      <th>59</th>\n",
       "      <td>6.975863</td>\n",
       "      <td>-2.372392</td>\n",
       "      <td>1.920776</td>\n",
       "      <td>1.928768</td>\n",
       "      <td>0</td>\n",
       "      <td>1</td>\n",
       "      <td>1</td>\n",
       "      <td>1</td>\n",
       "      <td>Chess must be at the Olympics</td>\n",
       "      <td>Chess is currently not an Olympic sport, but i...</td>\n",
       "      <td>Chess is currently an Olympic sport, but it sh...</td>\n",
       "    </tr>\n",
       "    <tr>\n",
       "      <th>73</th>\n",
       "      <td>1.812300</td>\n",
       "      <td>-0.927047</td>\n",
       "      <td>1.096693</td>\n",
       "      <td>1.661179</td>\n",
       "      <td>0</td>\n",
       "      <td>1</td>\n",
       "      <td>1</td>\n",
       "      <td>1</td>\n",
       "      <td>Federal States are better than unitary nations</td>\n",
       "      <td>Citizens are better protected in federal states.</td>\n",
       "      <td>Citizens are not better protected in federal s...</td>\n",
       "    </tr>\n",
       "    <tr>\n",
       "      <th>78</th>\n",
       "      <td>2.363664</td>\n",
       "      <td>-1.478531</td>\n",
       "      <td>1.179334</td>\n",
       "      <td>1.422178</td>\n",
       "      <td>0</td>\n",
       "      <td>1</td>\n",
       "      <td>1</td>\n",
       "      <td>1</td>\n",
       "      <td>Federal States are better than unitary nations</td>\n",
       "      <td>Federal states are economically stronger</td>\n",
       "      <td>Federal states are not economically stronger</td>\n",
       "    </tr>\n",
       "    <tr>\n",
       "      <th>84</th>\n",
       "      <td>5.189340</td>\n",
       "      <td>-5.870834</td>\n",
       "      <td>1.708071</td>\n",
       "      <td>1.780854</td>\n",
       "      <td>0</td>\n",
       "      <td>1</td>\n",
       "      <td>1</td>\n",
       "      <td>1</td>\n",
       "      <td>The Catholic Church needs reform</td>\n",
       "      <td>If priests were not forced to be celibate, the...</td>\n",
       "      <td>If priests were forced to be celibate, the iss...</td>\n",
       "    </tr>\n",
       "    <tr>\n",
       "      <th>110</th>\n",
       "      <td>-2.283030</td>\n",
       "      <td>2.307269</td>\n",
       "      <td>0.426038</td>\n",
       "      <td>0.200011</td>\n",
       "      <td>1</td>\n",
       "      <td>0</td>\n",
       "      <td>0</td>\n",
       "      <td>0</td>\n",
       "      <td>College education is worth it</td>\n",
       "      <td>Many college graduates are employed in jobs th...</td>\n",
       "      <td>Many college graduates are employed in jobs th...</td>\n",
       "    </tr>\n",
       "    <tr>\n",
       "      <th>...</th>\n",
       "      <td>...</td>\n",
       "      <td>...</td>\n",
       "      <td>...</td>\n",
       "      <td>...</td>\n",
       "      <td>...</td>\n",
       "      <td>...</td>\n",
       "      <td>...</td>\n",
       "      <td>...</td>\n",
       "      <td>...</td>\n",
       "      <td>...</td>\n",
       "      <td>...</td>\n",
       "    </tr>\n",
       "    <tr>\n",
       "      <th>2434</th>\n",
       "      <td>-3.825589</td>\n",
       "      <td>5.084303</td>\n",
       "      <td>0.037229</td>\n",
       "      <td>0.004001</td>\n",
       "      <td>1</td>\n",
       "      <td>0</td>\n",
       "      <td>0</td>\n",
       "      <td>0</td>\n",
       "      <td>Democracies should ban the display of communis...</td>\n",
       "      <td>Extremist movements are harmful and should not...</td>\n",
       "      <td>Extremist movements are harmful and should be ...</td>\n",
       "    </tr>\n",
       "    <tr>\n",
       "      <th>2465</th>\n",
       "      <td>4.006112</td>\n",
       "      <td>-1.870267</td>\n",
       "      <td>1.650200</td>\n",
       "      <td>1.766552</td>\n",
       "      <td>0</td>\n",
       "      <td>1</td>\n",
       "      <td>1</td>\n",
       "      <td>1</td>\n",
       "      <td>The outcome of the Paris Climate Conference ne...</td>\n",
       "      <td>An international treaty will legalize non-comp...</td>\n",
       "      <td>An international treaty will not legalize non-...</td>\n",
       "    </tr>\n",
       "    <tr>\n",
       "      <th>2473</th>\n",
       "      <td>1.276656</td>\n",
       "      <td>-1.107606</td>\n",
       "      <td>1.218479</td>\n",
       "      <td>1.468761</td>\n",
       "      <td>0</td>\n",
       "      <td>1</td>\n",
       "      <td>1</td>\n",
       "      <td>1</td>\n",
       "      <td>The House of Lords should be reformed</td>\n",
       "      <td>The House of Lords is out of touch with the el...</td>\n",
       "      <td>The House of Lords is not out of touch with th...</td>\n",
       "    </tr>\n",
       "    <tr>\n",
       "      <th>2480</th>\n",
       "      <td>-3.776413</td>\n",
       "      <td>2.909049</td>\n",
       "      <td>0.075312</td>\n",
       "      <td>0.017392</td>\n",
       "      <td>1</td>\n",
       "      <td>0</td>\n",
       "      <td>0</td>\n",
       "      <td>0</td>\n",
       "      <td>NATO has succeeded in Afghanistan</td>\n",
       "      <td>the taliban is waiting and likley to regain co...</td>\n",
       "      <td>the taliban is not waiting and likley to regai...</td>\n",
       "    </tr>\n",
       "    <tr>\n",
       "      <th>2513</th>\n",
       "      <td>0.033896</td>\n",
       "      <td>-0.449516</td>\n",
       "      <td>0.755636</td>\n",
       "      <td>1.142089</td>\n",
       "      <td>0</td>\n",
       "      <td>1</td>\n",
       "      <td>1</td>\n",
       "      <td>1</td>\n",
       "      <td>Illegal downloaders should be cut off from the...</td>\n",
       "      <td>Internet access is an enabler of rights not a ...</td>\n",
       "      <td>Internet access is an enabler of rights a righ...</td>\n",
       "    </tr>\n",
       "  </tbody>\n",
       "</table>\n",
       "<p>136 rows × 11 columns</p>\n",
       "</div>"
      ],
      "text/plain": [
       "      undermine_score  support_score  cp_distance  cop_distance  \\\n",
       "59           6.975863      -2.372392     1.920776      1.928768   \n",
       "73           1.812300      -0.927047     1.096693      1.661179   \n",
       "78           2.363664      -1.478531     1.179334      1.422178   \n",
       "84           5.189340      -5.870834     1.708071      1.780854   \n",
       "110         -2.283030       2.307269     0.426038      0.200011   \n",
       "...               ...            ...          ...           ...   \n",
       "2434        -3.825589       5.084303     0.037229      0.004001   \n",
       "2465         4.006112      -1.870267     1.650200      1.766552   \n",
       "2473         1.276656      -1.107606     1.218479      1.468761   \n",
       "2480        -3.776413       2.909049     0.075312      0.017392   \n",
       "2513         0.033896      -0.449516     0.755636      1.142089   \n",
       "\n",
       "      predict_label  distance_label  gold  Label  \\\n",
       "59                0               1     1      1   \n",
       "73                0               1     1      1   \n",
       "78                0               1     1      1   \n",
       "84                0               1     1      1   \n",
       "110               1               0     0      0   \n",
       "...             ...             ...   ...    ...   \n",
       "2434              1               0     0      0   \n",
       "2465              0               1     1      1   \n",
       "2473              0               1     1      1   \n",
       "2480              1               0     0      0   \n",
       "2513              0               1     1      1   \n",
       "\n",
       "                                                  claim  \\\n",
       "59                        Chess must be at the Olympics   \n",
       "73       Federal States are better than unitary nations   \n",
       "78       Federal States are better than unitary nations   \n",
       "84                     The Catholic Church needs reform   \n",
       "110                       College education is worth it   \n",
       "...                                                 ...   \n",
       "2434  Democracies should ban the display of communis...   \n",
       "2465  The outcome of the Paris Climate Conference ne...   \n",
       "2473              The House of Lords should be reformed   \n",
       "2480                  NATO has succeeded in Afghanistan   \n",
       "2513  Illegal downloaders should be cut off from the...   \n",
       "\n",
       "                                            perspective  \\\n",
       "59    Chess is currently not an Olympic sport, but i...   \n",
       "73     Citizens are better protected in federal states.   \n",
       "78             Federal states are economically stronger   \n",
       "84    If priests were not forced to be celibate, the...   \n",
       "110   Many college graduates are employed in jobs th...   \n",
       "...                                                 ...   \n",
       "2434  Extremist movements are harmful and should not...   \n",
       "2465  An international treaty will legalize non-comp...   \n",
       "2473  The House of Lords is out of touch with the el...   \n",
       "2480  the taliban is waiting and likley to regain co...   \n",
       "2513  Internet access is an enabler of rights not a ...   \n",
       "\n",
       "                                   opposite_perspective  \n",
       "59    Chess is currently an Olympic sport, but it sh...  \n",
       "73    Citizens are not better protected in federal s...  \n",
       "78         Federal states are not economically stronger  \n",
       "84    If priests were forced to be celibate, the iss...  \n",
       "110   Many college graduates are employed in jobs th...  \n",
       "...                                                 ...  \n",
       "2434  Extremist movements are harmful and should be ...  \n",
       "2465  An international treaty will not legalize non-...  \n",
       "2473  The House of Lords is not out of touch with th...  \n",
       "2480  the taliban is not waiting and likley to regai...  \n",
       "2513  Internet access is an enabler of rights a righ...  \n",
       "\n",
       "[136 rows x 11 columns]"
      ]
     },
     "execution_count": 60,
     "metadata": {},
     "output_type": "execute_result"
    }
   ],
   "source": [
    "dcorrect_lwrong_out"
   ]
  },
  {
   "cell_type": "code",
   "execution_count": 61,
   "metadata": {},
   "outputs": [],
   "source": [
    "dcorrect_lwrong_out.to_csv(\"dcorrect_lwrong_data.csv\")"
   ]
  },
  {
   "cell_type": "code",
   "execution_count": 62,
   "metadata": {},
   "outputs": [],
   "source": [
    "dcorrect_lwrong_out.to_excel(\"dcorrect_lwrong_data.xlsx\")"
   ]
  },
  {
   "cell_type": "code",
   "execution_count": null,
   "metadata": {},
   "outputs": [],
   "source": []
  },
  {
   "cell_type": "code",
   "execution_count": 63,
   "metadata": {},
   "outputs": [],
   "source": [
    "#distance_wrong_logits_correct"
   ]
  },
  {
   "cell_type": "code",
   "execution_count": 64,
   "metadata": {},
   "outputs": [],
   "source": [
    "df_distance_wrong_logits_correct = df[(df.distance_label!=df.gold)&(df.predict_label==df.gold)]"
   ]
  },
  {
   "cell_type": "code",
   "execution_count": 65,
   "metadata": {},
   "outputs": [
    {
     "data": {
      "text/html": [
       "<div>\n",
       "<style scoped>\n",
       "    .dataframe tbody tr th:only-of-type {\n",
       "        vertical-align: middle;\n",
       "    }\n",
       "\n",
       "    .dataframe tbody tr th {\n",
       "        vertical-align: top;\n",
       "    }\n",
       "\n",
       "    .dataframe thead th {\n",
       "        text-align: right;\n",
       "    }\n",
       "</style>\n",
       "<table border=\"1\" class=\"dataframe\">\n",
       "  <thead>\n",
       "    <tr style=\"text-align: right;\">\n",
       "      <th></th>\n",
       "      <th>undermine_score</th>\n",
       "      <th>support_score</th>\n",
       "      <th>cp_distance</th>\n",
       "      <th>cop_distance</th>\n",
       "      <th>predict_label</th>\n",
       "      <th>distance_label</th>\n",
       "      <th>gold</th>\n",
       "    </tr>\n",
       "  </thead>\n",
       "  <tbody>\n",
       "    <tr>\n",
       "      <th>0</th>\n",
       "      <td>-4.223587</td>\n",
       "      <td>3.430138</td>\n",
       "      <td>0.020014</td>\n",
       "      <td>0.012879</td>\n",
       "      <td>1</td>\n",
       "      <td>0</td>\n",
       "      <td>1</td>\n",
       "    </tr>\n",
       "    <tr>\n",
       "      <th>3</th>\n",
       "      <td>-1.659985</td>\n",
       "      <td>2.563246</td>\n",
       "      <td>0.277413</td>\n",
       "      <td>0.157976</td>\n",
       "      <td>1</td>\n",
       "      <td>0</td>\n",
       "      <td>1</td>\n",
       "    </tr>\n",
       "    <tr>\n",
       "      <th>81</th>\n",
       "      <td>-0.142597</td>\n",
       "      <td>0.318115</td>\n",
       "      <td>0.313459</td>\n",
       "      <td>0.120503</td>\n",
       "      <td>1</td>\n",
       "      <td>0</td>\n",
       "      <td>1</td>\n",
       "    </tr>\n",
       "    <tr>\n",
       "      <th>88</th>\n",
       "      <td>4.976699</td>\n",
       "      <td>-0.766726</td>\n",
       "      <td>1.319132</td>\n",
       "      <td>1.789118</td>\n",
       "      <td>0</td>\n",
       "      <td>1</td>\n",
       "      <td>0</td>\n",
       "    </tr>\n",
       "    <tr>\n",
       "      <th>101</th>\n",
       "      <td>6.664764</td>\n",
       "      <td>-2.338005</td>\n",
       "      <td>1.957810</td>\n",
       "      <td>1.962720</td>\n",
       "      <td>0</td>\n",
       "      <td>1</td>\n",
       "      <td>0</td>\n",
       "    </tr>\n",
       "    <tr>\n",
       "      <th>...</th>\n",
       "      <td>...</td>\n",
       "      <td>...</td>\n",
       "      <td>...</td>\n",
       "      <td>...</td>\n",
       "      <td>...</td>\n",
       "      <td>...</td>\n",
       "      <td>...</td>\n",
       "    </tr>\n",
       "    <tr>\n",
       "      <th>2428</th>\n",
       "      <td>1.780620</td>\n",
       "      <td>0.518181</td>\n",
       "      <td>0.962062</td>\n",
       "      <td>1.407790</td>\n",
       "      <td>0</td>\n",
       "      <td>1</td>\n",
       "      <td>0</td>\n",
       "    </tr>\n",
       "    <tr>\n",
       "      <th>2479</th>\n",
       "      <td>1.438328</td>\n",
       "      <td>0.848351</td>\n",
       "      <td>1.115165</td>\n",
       "      <td>1.629890</td>\n",
       "      <td>0</td>\n",
       "      <td>1</td>\n",
       "      <td>0</td>\n",
       "    </tr>\n",
       "    <tr>\n",
       "      <th>2503</th>\n",
       "      <td>0.627612</td>\n",
       "      <td>-0.557652</td>\n",
       "      <td>0.694943</td>\n",
       "      <td>1.455035</td>\n",
       "      <td>0</td>\n",
       "      <td>1</td>\n",
       "      <td>0</td>\n",
       "    </tr>\n",
       "    <tr>\n",
       "      <th>2506</th>\n",
       "      <td>2.762536</td>\n",
       "      <td>-1.856774</td>\n",
       "      <td>0.735328</td>\n",
       "      <td>0.786035</td>\n",
       "      <td>0</td>\n",
       "      <td>1</td>\n",
       "      <td>0</td>\n",
       "    </tr>\n",
       "    <tr>\n",
       "      <th>2521</th>\n",
       "      <td>3.317570</td>\n",
       "      <td>-3.755074</td>\n",
       "      <td>1.281456</td>\n",
       "      <td>1.372968</td>\n",
       "      <td>0</td>\n",
       "      <td>1</td>\n",
       "      <td>0</td>\n",
       "    </tr>\n",
       "  </tbody>\n",
       "</table>\n",
       "<p>202 rows × 7 columns</p>\n",
       "</div>"
      ],
      "text/plain": [
       "      undermine_score  support_score  cp_distance  cop_distance  \\\n",
       "0           -4.223587       3.430138     0.020014      0.012879   \n",
       "3           -1.659985       2.563246     0.277413      0.157976   \n",
       "81          -0.142597       0.318115     0.313459      0.120503   \n",
       "88           4.976699      -0.766726     1.319132      1.789118   \n",
       "101          6.664764      -2.338005     1.957810      1.962720   \n",
       "...               ...            ...          ...           ...   \n",
       "2428         1.780620       0.518181     0.962062      1.407790   \n",
       "2479         1.438328       0.848351     1.115165      1.629890   \n",
       "2503         0.627612      -0.557652     0.694943      1.455035   \n",
       "2506         2.762536      -1.856774     0.735328      0.786035   \n",
       "2521         3.317570      -3.755074     1.281456      1.372968   \n",
       "\n",
       "      predict_label  distance_label  gold  \n",
       "0                 1               0     1  \n",
       "3                 1               0     1  \n",
       "81                1               0     1  \n",
       "88                0               1     0  \n",
       "101               0               1     0  \n",
       "...             ...             ...   ...  \n",
       "2428              0               1     0  \n",
       "2479              0               1     0  \n",
       "2503              0               1     0  \n",
       "2506              0               1     0  \n",
       "2521              0               1     0  \n",
       "\n",
       "[202 rows x 7 columns]"
      ]
     },
     "execution_count": 65,
     "metadata": {},
     "output_type": "execute_result"
    }
   ],
   "source": [
    "df_distance_wrong_logits_correct"
   ]
  },
  {
   "cell_type": "code",
   "execution_count": 66,
   "metadata": {},
   "outputs": [],
   "source": [
    "#combine distance_wrong_logits_correct with test set"
   ]
  },
  {
   "cell_type": "code",
   "execution_count": 67,
   "metadata": {},
   "outputs": [],
   "source": [
    "dwrong_lcorrect_out = df_distance_wrong_logits_correct.join(df_origin).drop(\"x\",axis=1).drop(\"y\",axis=1)"
   ]
  },
  {
   "cell_type": "code",
   "execution_count": 68,
   "metadata": {},
   "outputs": [
    {
     "data": {
      "text/html": [
       "<div>\n",
       "<style scoped>\n",
       "    .dataframe tbody tr th:only-of-type {\n",
       "        vertical-align: middle;\n",
       "    }\n",
       "\n",
       "    .dataframe tbody tr th {\n",
       "        vertical-align: top;\n",
       "    }\n",
       "\n",
       "    .dataframe thead th {\n",
       "        text-align: right;\n",
       "    }\n",
       "</style>\n",
       "<table border=\"1\" class=\"dataframe\">\n",
       "  <thead>\n",
       "    <tr style=\"text-align: right;\">\n",
       "      <th></th>\n",
       "      <th>undermine_score</th>\n",
       "      <th>support_score</th>\n",
       "      <th>cp_distance</th>\n",
       "      <th>cop_distance</th>\n",
       "      <th>predict_label</th>\n",
       "      <th>distance_label</th>\n",
       "      <th>gold</th>\n",
       "      <th>Label</th>\n",
       "      <th>claim</th>\n",
       "      <th>perspective</th>\n",
       "      <th>opposite_perspective</th>\n",
       "    </tr>\n",
       "  </thead>\n",
       "  <tbody>\n",
       "    <tr>\n",
       "      <th>0</th>\n",
       "      <td>-4.223587</td>\n",
       "      <td>3.430138</td>\n",
       "      <td>0.020014</td>\n",
       "      <td>0.012879</td>\n",
       "      <td>1</td>\n",
       "      <td>0</td>\n",
       "      <td>1</td>\n",
       "      <td>1</td>\n",
       "      <td>School Day Should Be Extended</td>\n",
       "      <td>Lessons would feel less broken.</td>\n",
       "      <td>Lessons would not feel less broken.</td>\n",
       "    </tr>\n",
       "    <tr>\n",
       "      <th>3</th>\n",
       "      <td>-1.659985</td>\n",
       "      <td>2.563246</td>\n",
       "      <td>0.277413</td>\n",
       "      <td>0.157976</td>\n",
       "      <td>1</td>\n",
       "      <td>0</td>\n",
       "      <td>1</td>\n",
       "      <td>1</td>\n",
       "      <td>School Day Should Be Extended</td>\n",
       "      <td>Less need for homework.</td>\n",
       "      <td>More need for homework.</td>\n",
       "    </tr>\n",
       "    <tr>\n",
       "      <th>81</th>\n",
       "      <td>-0.142597</td>\n",
       "      <td>0.318115</td>\n",
       "      <td>0.313459</td>\n",
       "      <td>0.120503</td>\n",
       "      <td>1</td>\n",
       "      <td>0</td>\n",
       "      <td>1</td>\n",
       "      <td>1</td>\n",
       "      <td>The Catholic Church needs reform</td>\n",
       "      <td>The Catholic Church wants loyalty to instituti...</td>\n",
       "      <td>The Catholic Church wants loyalty to instituti...</td>\n",
       "    </tr>\n",
       "    <tr>\n",
       "      <th>88</th>\n",
       "      <td>4.976699</td>\n",
       "      <td>-0.766726</td>\n",
       "      <td>1.319132</td>\n",
       "      <td>1.789118</td>\n",
       "      <td>0</td>\n",
       "      <td>1</td>\n",
       "      <td>0</td>\n",
       "      <td>0</td>\n",
       "      <td>Positive Discrimination Towards Women in Socie...</td>\n",
       "      <td>It is Men, Not Women, who are Disadvantaged in...</td>\n",
       "      <td>It is Men, Women, who are Disadvantaged in our...</td>\n",
       "    </tr>\n",
       "    <tr>\n",
       "      <th>101</th>\n",
       "      <td>6.664764</td>\n",
       "      <td>-2.338005</td>\n",
       "      <td>1.957810</td>\n",
       "      <td>1.962720</td>\n",
       "      <td>0</td>\n",
       "      <td>1</td>\n",
       "      <td>0</td>\n",
       "      <td>0</td>\n",
       "      <td>Positive Discrimination Towards Women in Socie...</td>\n",
       "      <td>Positive discrimination takes away voters' fre...</td>\n",
       "      <td>negative discrimination takes away voters' fr...</td>\n",
       "    </tr>\n",
       "    <tr>\n",
       "      <th>...</th>\n",
       "      <td>...</td>\n",
       "      <td>...</td>\n",
       "      <td>...</td>\n",
       "      <td>...</td>\n",
       "      <td>...</td>\n",
       "      <td>...</td>\n",
       "      <td>...</td>\n",
       "      <td>...</td>\n",
       "      <td>...</td>\n",
       "      <td>...</td>\n",
       "      <td>...</td>\n",
       "    </tr>\n",
       "    <tr>\n",
       "      <th>2428</th>\n",
       "      <td>1.780620</td>\n",
       "      <td>0.518181</td>\n",
       "      <td>0.962062</td>\n",
       "      <td>1.407790</td>\n",
       "      <td>0</td>\n",
       "      <td>1</td>\n",
       "      <td>0</td>\n",
       "      <td>0</td>\n",
       "      <td>Democracies should ban the display of communis...</td>\n",
       "      <td>Society is ready to live with Nazi and Soviet ...</td>\n",
       "      <td>Society is not ready to live with Nazi and Sov...</td>\n",
       "    </tr>\n",
       "    <tr>\n",
       "      <th>2479</th>\n",
       "      <td>1.438328</td>\n",
       "      <td>0.848351</td>\n",
       "      <td>1.115165</td>\n",
       "      <td>1.629890</td>\n",
       "      <td>0</td>\n",
       "      <td>1</td>\n",
       "      <td>0</td>\n",
       "      <td>0</td>\n",
       "      <td>NATO has succeeded in Afghanistan</td>\n",
       "      <td>the taliban will likely resume their control o...</td>\n",
       "      <td>the taliban will not likely resume their contr...</td>\n",
       "    </tr>\n",
       "    <tr>\n",
       "      <th>2503</th>\n",
       "      <td>0.627612</td>\n",
       "      <td>-0.557652</td>\n",
       "      <td>0.694943</td>\n",
       "      <td>1.455035</td>\n",
       "      <td>0</td>\n",
       "      <td>1</td>\n",
       "      <td>0</td>\n",
       "      <td>0</td>\n",
       "      <td>Illegal downloaders should be cut off from the...</td>\n",
       "      <td>File-sharing will still happen, despite these ...</td>\n",
       "      <td>File-sharing will not still happen, despite th...</td>\n",
       "    </tr>\n",
       "    <tr>\n",
       "      <th>2506</th>\n",
       "      <td>2.762536</td>\n",
       "      <td>-1.856774</td>\n",
       "      <td>0.735328</td>\n",
       "      <td>0.786035</td>\n",
       "      <td>0</td>\n",
       "      <td>1</td>\n",
       "      <td>0</td>\n",
       "      <td>0</td>\n",
       "      <td>Illegal downloaders should be cut off from the...</td>\n",
       "      <td>Will file-sharing stop if downloaders are bann...</td>\n",
       "      <td>will not file-sharing stop if downloaders are...</td>\n",
       "    </tr>\n",
       "    <tr>\n",
       "      <th>2521</th>\n",
       "      <td>3.317570</td>\n",
       "      <td>-3.755074</td>\n",
       "      <td>1.281456</td>\n",
       "      <td>1.372968</td>\n",
       "      <td>0</td>\n",
       "      <td>1</td>\n",
       "      <td>0</td>\n",
       "      <td>0</td>\n",
       "      <td>Illegal downloaders should be cut off from the...</td>\n",
       "      <td>Human rights are infringed if internet use is ...</td>\n",
       "      <td>Human rights are not infringed if internet use...</td>\n",
       "    </tr>\n",
       "  </tbody>\n",
       "</table>\n",
       "<p>202 rows × 11 columns</p>\n",
       "</div>"
      ],
      "text/plain": [
       "      undermine_score  support_score  cp_distance  cop_distance  \\\n",
       "0           -4.223587       3.430138     0.020014      0.012879   \n",
       "3           -1.659985       2.563246     0.277413      0.157976   \n",
       "81          -0.142597       0.318115     0.313459      0.120503   \n",
       "88           4.976699      -0.766726     1.319132      1.789118   \n",
       "101          6.664764      -2.338005     1.957810      1.962720   \n",
       "...               ...            ...          ...           ...   \n",
       "2428         1.780620       0.518181     0.962062      1.407790   \n",
       "2479         1.438328       0.848351     1.115165      1.629890   \n",
       "2503         0.627612      -0.557652     0.694943      1.455035   \n",
       "2506         2.762536      -1.856774     0.735328      0.786035   \n",
       "2521         3.317570      -3.755074     1.281456      1.372968   \n",
       "\n",
       "      predict_label  distance_label  gold  Label  \\\n",
       "0                 1               0     1      1   \n",
       "3                 1               0     1      1   \n",
       "81                1               0     1      1   \n",
       "88                0               1     0      0   \n",
       "101               0               1     0      0   \n",
       "...             ...             ...   ...    ...   \n",
       "2428              0               1     0      0   \n",
       "2479              0               1     0      0   \n",
       "2503              0               1     0      0   \n",
       "2506              0               1     0      0   \n",
       "2521              0               1     0      0   \n",
       "\n",
       "                                                  claim  \\\n",
       "0                         School Day Should Be Extended   \n",
       "3                         School Day Should Be Extended   \n",
       "81                     The Catholic Church needs reform   \n",
       "88    Positive Discrimination Towards Women in Socie...   \n",
       "101   Positive Discrimination Towards Women in Socie...   \n",
       "...                                                 ...   \n",
       "2428  Democracies should ban the display of communis...   \n",
       "2479                  NATO has succeeded in Afghanistan   \n",
       "2503  Illegal downloaders should be cut off from the...   \n",
       "2506  Illegal downloaders should be cut off from the...   \n",
       "2521  Illegal downloaders should be cut off from the...   \n",
       "\n",
       "                                            perspective  \\\n",
       "0                       Lessons would feel less broken.   \n",
       "3                               Less need for homework.   \n",
       "81    The Catholic Church wants loyalty to instituti...   \n",
       "88    It is Men, Not Women, who are Disadvantaged in...   \n",
       "101   Positive discrimination takes away voters' fre...   \n",
       "...                                                 ...   \n",
       "2428  Society is ready to live with Nazi and Soviet ...   \n",
       "2479  the taliban will likely resume their control o...   \n",
       "2503  File-sharing will still happen, despite these ...   \n",
       "2506  Will file-sharing stop if downloaders are bann...   \n",
       "2521  Human rights are infringed if internet use is ...   \n",
       "\n",
       "                                   opposite_perspective  \n",
       "0                   Lessons would not feel less broken.  \n",
       "3                               More need for homework.  \n",
       "81    The Catholic Church wants loyalty to instituti...  \n",
       "88    It is Men, Women, who are Disadvantaged in our...  \n",
       "101    negative discrimination takes away voters' fr...  \n",
       "...                                                 ...  \n",
       "2428  Society is not ready to live with Nazi and Sov...  \n",
       "2479  the taliban will not likely resume their contr...  \n",
       "2503  File-sharing will not still happen, despite th...  \n",
       "2506   will not file-sharing stop if downloaders are...  \n",
       "2521  Human rights are not infringed if internet use...  \n",
       "\n",
       "[202 rows x 11 columns]"
      ]
     },
     "execution_count": 68,
     "metadata": {},
     "output_type": "execute_result"
    }
   ],
   "source": [
    "dwrong_lcorrect_out"
   ]
  },
  {
   "cell_type": "code",
   "execution_count": 69,
   "metadata": {},
   "outputs": [],
   "source": [
    "dwrong_lcorrect_out.to_csv(\"dwrong_lcorrect_data.csv\")"
   ]
  },
  {
   "cell_type": "code",
   "execution_count": 70,
   "metadata": {},
   "outputs": [],
   "source": [
    "dwrong_lcorrect_out.to_excel(\"dwrong_lcorrect_data.xlsx\")"
   ]
  },
  {
   "cell_type": "code",
   "execution_count": null,
   "metadata": {},
   "outputs": [],
   "source": []
  },
  {
   "cell_type": "code",
   "execution_count": 71,
   "metadata": {},
   "outputs": [],
   "source": [
    "#stancy eval results"
   ]
  },
  {
   "cell_type": "code",
   "execution_count": 72,
   "metadata": {},
   "outputs": [],
   "source": [
    "df_stancy =  pd.read_table(\"../stancy/paper_bert_dual_loss_15/eval_details.txt\",header=None)"
   ]
  },
  {
   "cell_type": "code",
   "execution_count": 73,
   "metadata": {},
   "outputs": [
    {
     "data": {
      "text/html": [
       "<div>\n",
       "<style scoped>\n",
       "    .dataframe tbody tr th:only-of-type {\n",
       "        vertical-align: middle;\n",
       "    }\n",
       "\n",
       "    .dataframe tbody tr th {\n",
       "        vertical-align: top;\n",
       "    }\n",
       "\n",
       "    .dataframe thead th {\n",
       "        text-align: right;\n",
       "    }\n",
       "</style>\n",
       "<table border=\"1\" class=\"dataframe\">\n",
       "  <thead>\n",
       "    <tr style=\"text-align: right;\">\n",
       "      <th></th>\n",
       "      <th>0</th>\n",
       "      <th>1</th>\n",
       "      <th>2</th>\n",
       "    </tr>\n",
       "  </thead>\n",
       "  <tbody>\n",
       "    <tr>\n",
       "      <th>0</th>\n",
       "      <td>[0.9985860586166382, 0.001413914724253118]</td>\n",
       "      <td>0</td>\n",
       "      <td>0</td>\n",
       "    </tr>\n",
       "    <tr>\n",
       "      <th>1</th>\n",
       "      <td>[0.0006979649187996984, 0.9993020296096802]</td>\n",
       "      <td>1</td>\n",
       "      <td>1</td>\n",
       "    </tr>\n",
       "    <tr>\n",
       "      <th>2</th>\n",
       "      <td>[0.9987192153930664, 0.0012808680767193437]</td>\n",
       "      <td>0</td>\n",
       "      <td>0</td>\n",
       "    </tr>\n",
       "    <tr>\n",
       "      <th>3</th>\n",
       "      <td>[0.9983559250831604, 0.0016440259059891105]</td>\n",
       "      <td>0</td>\n",
       "      <td>0</td>\n",
       "    </tr>\n",
       "    <tr>\n",
       "      <th>4</th>\n",
       "      <td>[0.9973260164260864, 0.002673997776582837]</td>\n",
       "      <td>0</td>\n",
       "      <td>0</td>\n",
       "    </tr>\n",
       "    <tr>\n",
       "      <th>...</th>\n",
       "      <td>...</td>\n",
       "      <td>...</td>\n",
       "      <td>...</td>\n",
       "    </tr>\n",
       "    <tr>\n",
       "      <th>2768</th>\n",
       "      <td>[0.9971250891685486, 0.002874949248507619]</td>\n",
       "      <td>0</td>\n",
       "      <td>1</td>\n",
       "    </tr>\n",
       "    <tr>\n",
       "      <th>2769</th>\n",
       "      <td>[0.0006853992817923427, 0.9993146657943726]</td>\n",
       "      <td>1</td>\n",
       "      <td>1</td>\n",
       "    </tr>\n",
       "    <tr>\n",
       "      <th>2770</th>\n",
       "      <td>[0.03969154879450798, 0.9603084325790405]</td>\n",
       "      <td>1</td>\n",
       "      <td>0</td>\n",
       "    </tr>\n",
       "    <tr>\n",
       "      <th>2771</th>\n",
       "      <td>[0.0016762863378971815, 0.9983237385749817]</td>\n",
       "      <td>1</td>\n",
       "      <td>0</td>\n",
       "    </tr>\n",
       "    <tr>\n",
       "      <th>2772</th>\n",
       "      <td>[0.18177905678749084, 0.8182209134101868]</td>\n",
       "      <td>1</td>\n",
       "      <td>0</td>\n",
       "    </tr>\n",
       "  </tbody>\n",
       "</table>\n",
       "<p>2773 rows × 3 columns</p>\n",
       "</div>"
      ],
      "text/plain": [
       "                                                0  1  2\n",
       "0      [0.9985860586166382, 0.001413914724253118]  0  0\n",
       "1     [0.0006979649187996984, 0.9993020296096802]  1  1\n",
       "2     [0.9987192153930664, 0.0012808680767193437]  0  0\n",
       "3     [0.9983559250831604, 0.0016440259059891105]  0  0\n",
       "4      [0.9973260164260864, 0.002673997776582837]  0  0\n",
       "...                                           ... .. ..\n",
       "2768   [0.9971250891685486, 0.002874949248507619]  0  1\n",
       "2769  [0.0006853992817923427, 0.9993146657943726]  1  1\n",
       "2770    [0.03969154879450798, 0.9603084325790405]  1  0\n",
       "2771  [0.0016762863378971815, 0.9983237385749817]  1  0\n",
       "2772    [0.18177905678749084, 0.8182209134101868]  1  0\n",
       "\n",
       "[2773 rows x 3 columns]"
      ]
     },
     "execution_count": 73,
     "metadata": {},
     "output_type": "execute_result"
    }
   ],
   "source": [
    "df_stancy"
   ]
  },
  {
   "cell_type": "code",
   "execution_count": 74,
   "metadata": {},
   "outputs": [
    {
     "data": {
      "text/plain": [
       "0.7776"
      ]
     },
     "execution_count": 74,
     "metadata": {},
     "output_type": "execute_result"
    }
   ],
   "source": [
    "f1_score(df_stancy[1],df_stancy[2])"
   ]
  },
  {
   "cell_type": "code",
   "execution_count": 75,
   "metadata": {},
   "outputs": [
    {
     "data": {
      "text/plain": [
       "0.7465437788018433"
      ]
     },
     "execution_count": 75,
     "metadata": {},
     "output_type": "execute_result"
    }
   ],
   "source": [
    "precision_score(df_stancy[1],df_stancy[2])"
   ]
  },
  {
   "cell_type": "code",
   "execution_count": 76,
   "metadata": {},
   "outputs": [
    {
     "data": {
      "text/plain": [
       "0.8113522537562604"
      ]
     },
     "execution_count": 76,
     "metadata": {},
     "output_type": "execute_result"
    }
   ],
   "source": [
    "recall_score(df_stancy[1],df_stancy[2])"
   ]
  },
  {
   "cell_type": "code",
   "execution_count": 77,
   "metadata": {},
   "outputs": [
    {
     "data": {
      "text/html": [
       "<div>\n",
       "<style scoped>\n",
       "    .dataframe tbody tr th:only-of-type {\n",
       "        vertical-align: middle;\n",
       "    }\n",
       "\n",
       "    .dataframe tbody tr th {\n",
       "        vertical-align: top;\n",
       "    }\n",
       "\n",
       "    .dataframe thead th {\n",
       "        text-align: right;\n",
       "    }\n",
       "</style>\n",
       "<table border=\"1\" class=\"dataframe\">\n",
       "  <thead>\n",
       "    <tr style=\"text-align: right;\">\n",
       "      <th></th>\n",
       "      <th>0</th>\n",
       "      <th>1</th>\n",
       "      <th>2</th>\n",
       "    </tr>\n",
       "  </thead>\n",
       "  <tbody>\n",
       "    <tr>\n",
       "      <th>0</th>\n",
       "      <td>[0.9985860586166382, 0.001413914724253118]</td>\n",
       "      <td>0</td>\n",
       "      <td>0</td>\n",
       "    </tr>\n",
       "    <tr>\n",
       "      <th>1</th>\n",
       "      <td>[0.0006979649187996984, 0.9993020296096802]</td>\n",
       "      <td>1</td>\n",
       "      <td>1</td>\n",
       "    </tr>\n",
       "    <tr>\n",
       "      <th>2</th>\n",
       "      <td>[0.9987192153930664, 0.0012808680767193437]</td>\n",
       "      <td>0</td>\n",
       "      <td>0</td>\n",
       "    </tr>\n",
       "    <tr>\n",
       "      <th>3</th>\n",
       "      <td>[0.9983559250831604, 0.0016440259059891105]</td>\n",
       "      <td>0</td>\n",
       "      <td>0</td>\n",
       "    </tr>\n",
       "    <tr>\n",
       "      <th>4</th>\n",
       "      <td>[0.9973260164260864, 0.002673997776582837]</td>\n",
       "      <td>0</td>\n",
       "      <td>0</td>\n",
       "    </tr>\n",
       "    <tr>\n",
       "      <th>...</th>\n",
       "      <td>...</td>\n",
       "      <td>...</td>\n",
       "      <td>...</td>\n",
       "    </tr>\n",
       "    <tr>\n",
       "      <th>2763</th>\n",
       "      <td>[0.001166122849099338, 0.9988338351249695]</td>\n",
       "      <td>1</td>\n",
       "      <td>1</td>\n",
       "    </tr>\n",
       "    <tr>\n",
       "      <th>2764</th>\n",
       "      <td>[0.0010132481111213565, 0.9989867806434631]</td>\n",
       "      <td>1</td>\n",
       "      <td>1</td>\n",
       "    </tr>\n",
       "    <tr>\n",
       "      <th>2765</th>\n",
       "      <td>[0.0031348520424216986, 0.9968650937080383]</td>\n",
       "      <td>1</td>\n",
       "      <td>1</td>\n",
       "    </tr>\n",
       "    <tr>\n",
       "      <th>2766</th>\n",
       "      <td>[0.0007364643388427794, 0.9992635846138]</td>\n",
       "      <td>1</td>\n",
       "      <td>1</td>\n",
       "    </tr>\n",
       "    <tr>\n",
       "      <th>2769</th>\n",
       "      <td>[0.0006853992817923427, 0.9993146657943726]</td>\n",
       "      <td>1</td>\n",
       "      <td>1</td>\n",
       "    </tr>\n",
       "  </tbody>\n",
       "</table>\n",
       "<p>2217 rows × 3 columns</p>\n",
       "</div>"
      ],
      "text/plain": [
       "                                                0  1  2\n",
       "0      [0.9985860586166382, 0.001413914724253118]  0  0\n",
       "1     [0.0006979649187996984, 0.9993020296096802]  1  1\n",
       "2     [0.9987192153930664, 0.0012808680767193437]  0  0\n",
       "3     [0.9983559250831604, 0.0016440259059891105]  0  0\n",
       "4      [0.9973260164260864, 0.002673997776582837]  0  0\n",
       "...                                           ... .. ..\n",
       "2763   [0.001166122849099338, 0.9988338351249695]  1  1\n",
       "2764  [0.0010132481111213565, 0.9989867806434631]  1  1\n",
       "2765  [0.0031348520424216986, 0.9968650937080383]  1  1\n",
       "2766     [0.0007364643388427794, 0.9992635846138]  1  1\n",
       "2769  [0.0006853992817923427, 0.9993146657943726]  1  1\n",
       "\n",
       "[2217 rows x 3 columns]"
      ]
     },
     "execution_count": 77,
     "metadata": {},
     "output_type": "execute_result"
    }
   ],
   "source": [
    "df_stancy[df_stancy[1]==df_stancy[2]]"
   ]
  },
  {
   "cell_type": "code",
   "execution_count": null,
   "metadata": {},
   "outputs": [],
   "source": []
  },
  {
   "cell_type": "code",
   "execution_count": 78,
   "metadata": {},
   "outputs": [],
   "source": [
    "#dcorrect_lwrong_out cases"
   ]
  },
  {
   "cell_type": "code",
   "execution_count": 79,
   "metadata": {},
   "outputs": [
    {
     "data": {
      "text/html": [
       "<div>\n",
       "<style scoped>\n",
       "    .dataframe tbody tr th:only-of-type {\n",
       "        vertical-align: middle;\n",
       "    }\n",
       "\n",
       "    .dataframe tbody tr th {\n",
       "        vertical-align: top;\n",
       "    }\n",
       "\n",
       "    .dataframe thead th {\n",
       "        text-align: right;\n",
       "    }\n",
       "</style>\n",
       "<table border=\"1\" class=\"dataframe\">\n",
       "  <thead>\n",
       "    <tr style=\"text-align: right;\">\n",
       "      <th></th>\n",
       "      <th>undermine_score</th>\n",
       "      <th>support_score</th>\n",
       "      <th>cp_distance</th>\n",
       "      <th>cop_distance</th>\n",
       "      <th>predict_label</th>\n",
       "      <th>distance_label</th>\n",
       "      <th>gold</th>\n",
       "      <th>Label</th>\n",
       "      <th>claim</th>\n",
       "      <th>perspective</th>\n",
       "      <th>opposite_perspective</th>\n",
       "    </tr>\n",
       "  </thead>\n",
       "  <tbody>\n",
       "    <tr>\n",
       "      <th>59</th>\n",
       "      <td>6.975863</td>\n",
       "      <td>-2.372392</td>\n",
       "      <td>1.920776</td>\n",
       "      <td>1.928768</td>\n",
       "      <td>0</td>\n",
       "      <td>1</td>\n",
       "      <td>1</td>\n",
       "      <td>1</td>\n",
       "      <td>Chess must be at the Olympics</td>\n",
       "      <td>Chess is currently not an Olympic sport, but i...</td>\n",
       "      <td>Chess is currently an Olympic sport, but it sh...</td>\n",
       "    </tr>\n",
       "    <tr>\n",
       "      <th>73</th>\n",
       "      <td>1.812300</td>\n",
       "      <td>-0.927047</td>\n",
       "      <td>1.096693</td>\n",
       "      <td>1.661179</td>\n",
       "      <td>0</td>\n",
       "      <td>1</td>\n",
       "      <td>1</td>\n",
       "      <td>1</td>\n",
       "      <td>Federal States are better than unitary nations</td>\n",
       "      <td>Citizens are better protected in federal states.</td>\n",
       "      <td>Citizens are not better protected in federal s...</td>\n",
       "    </tr>\n",
       "    <tr>\n",
       "      <th>78</th>\n",
       "      <td>2.363664</td>\n",
       "      <td>-1.478531</td>\n",
       "      <td>1.179334</td>\n",
       "      <td>1.422178</td>\n",
       "      <td>0</td>\n",
       "      <td>1</td>\n",
       "      <td>1</td>\n",
       "      <td>1</td>\n",
       "      <td>Federal States are better than unitary nations</td>\n",
       "      <td>Federal states are economically stronger</td>\n",
       "      <td>Federal states are not economically stronger</td>\n",
       "    </tr>\n",
       "    <tr>\n",
       "      <th>84</th>\n",
       "      <td>5.189340</td>\n",
       "      <td>-5.870834</td>\n",
       "      <td>1.708071</td>\n",
       "      <td>1.780854</td>\n",
       "      <td>0</td>\n",
       "      <td>1</td>\n",
       "      <td>1</td>\n",
       "      <td>1</td>\n",
       "      <td>The Catholic Church needs reform</td>\n",
       "      <td>If priests were not forced to be celibate, the...</td>\n",
       "      <td>If priests were forced to be celibate, the iss...</td>\n",
       "    </tr>\n",
       "    <tr>\n",
       "      <th>110</th>\n",
       "      <td>-2.283030</td>\n",
       "      <td>2.307269</td>\n",
       "      <td>0.426038</td>\n",
       "      <td>0.200011</td>\n",
       "      <td>1</td>\n",
       "      <td>0</td>\n",
       "      <td>0</td>\n",
       "      <td>0</td>\n",
       "      <td>College education is worth it</td>\n",
       "      <td>Many college graduates are employed in jobs th...</td>\n",
       "      <td>Many college graduates are employed in jobs th...</td>\n",
       "    </tr>\n",
       "    <tr>\n",
       "      <th>...</th>\n",
       "      <td>...</td>\n",
       "      <td>...</td>\n",
       "      <td>...</td>\n",
       "      <td>...</td>\n",
       "      <td>...</td>\n",
       "      <td>...</td>\n",
       "      <td>...</td>\n",
       "      <td>...</td>\n",
       "      <td>...</td>\n",
       "      <td>...</td>\n",
       "      <td>...</td>\n",
       "    </tr>\n",
       "    <tr>\n",
       "      <th>2434</th>\n",
       "      <td>-3.825589</td>\n",
       "      <td>5.084303</td>\n",
       "      <td>0.037229</td>\n",
       "      <td>0.004001</td>\n",
       "      <td>1</td>\n",
       "      <td>0</td>\n",
       "      <td>0</td>\n",
       "      <td>0</td>\n",
       "      <td>Democracies should ban the display of communis...</td>\n",
       "      <td>Extremist movements are harmful and should not...</td>\n",
       "      <td>Extremist movements are harmful and should be ...</td>\n",
       "    </tr>\n",
       "    <tr>\n",
       "      <th>2465</th>\n",
       "      <td>4.006112</td>\n",
       "      <td>-1.870267</td>\n",
       "      <td>1.650200</td>\n",
       "      <td>1.766552</td>\n",
       "      <td>0</td>\n",
       "      <td>1</td>\n",
       "      <td>1</td>\n",
       "      <td>1</td>\n",
       "      <td>The outcome of the Paris Climate Conference ne...</td>\n",
       "      <td>An international treaty will legalize non-comp...</td>\n",
       "      <td>An international treaty will not legalize non-...</td>\n",
       "    </tr>\n",
       "    <tr>\n",
       "      <th>2473</th>\n",
       "      <td>1.276656</td>\n",
       "      <td>-1.107606</td>\n",
       "      <td>1.218479</td>\n",
       "      <td>1.468761</td>\n",
       "      <td>0</td>\n",
       "      <td>1</td>\n",
       "      <td>1</td>\n",
       "      <td>1</td>\n",
       "      <td>The House of Lords should be reformed</td>\n",
       "      <td>The House of Lords is out of touch with the el...</td>\n",
       "      <td>The House of Lords is not out of touch with th...</td>\n",
       "    </tr>\n",
       "    <tr>\n",
       "      <th>2480</th>\n",
       "      <td>-3.776413</td>\n",
       "      <td>2.909049</td>\n",
       "      <td>0.075312</td>\n",
       "      <td>0.017392</td>\n",
       "      <td>1</td>\n",
       "      <td>0</td>\n",
       "      <td>0</td>\n",
       "      <td>0</td>\n",
       "      <td>NATO has succeeded in Afghanistan</td>\n",
       "      <td>the taliban is waiting and likley to regain co...</td>\n",
       "      <td>the taliban is not waiting and likley to regai...</td>\n",
       "    </tr>\n",
       "    <tr>\n",
       "      <th>2513</th>\n",
       "      <td>0.033896</td>\n",
       "      <td>-0.449516</td>\n",
       "      <td>0.755636</td>\n",
       "      <td>1.142089</td>\n",
       "      <td>0</td>\n",
       "      <td>1</td>\n",
       "      <td>1</td>\n",
       "      <td>1</td>\n",
       "      <td>Illegal downloaders should be cut off from the...</td>\n",
       "      <td>Internet access is an enabler of rights not a ...</td>\n",
       "      <td>Internet access is an enabler of rights a righ...</td>\n",
       "    </tr>\n",
       "  </tbody>\n",
       "</table>\n",
       "<p>136 rows × 11 columns</p>\n",
       "</div>"
      ],
      "text/plain": [
       "      undermine_score  support_score  cp_distance  cop_distance  \\\n",
       "59           6.975863      -2.372392     1.920776      1.928768   \n",
       "73           1.812300      -0.927047     1.096693      1.661179   \n",
       "78           2.363664      -1.478531     1.179334      1.422178   \n",
       "84           5.189340      -5.870834     1.708071      1.780854   \n",
       "110         -2.283030       2.307269     0.426038      0.200011   \n",
       "...               ...            ...          ...           ...   \n",
       "2434        -3.825589       5.084303     0.037229      0.004001   \n",
       "2465         4.006112      -1.870267     1.650200      1.766552   \n",
       "2473         1.276656      -1.107606     1.218479      1.468761   \n",
       "2480        -3.776413       2.909049     0.075312      0.017392   \n",
       "2513         0.033896      -0.449516     0.755636      1.142089   \n",
       "\n",
       "      predict_label  distance_label  gold  Label  \\\n",
       "59                0               1     1      1   \n",
       "73                0               1     1      1   \n",
       "78                0               1     1      1   \n",
       "84                0               1     1      1   \n",
       "110               1               0     0      0   \n",
       "...             ...             ...   ...    ...   \n",
       "2434              1               0     0      0   \n",
       "2465              0               1     1      1   \n",
       "2473              0               1     1      1   \n",
       "2480              1               0     0      0   \n",
       "2513              0               1     1      1   \n",
       "\n",
       "                                                  claim  \\\n",
       "59                        Chess must be at the Olympics   \n",
       "73       Federal States are better than unitary nations   \n",
       "78       Federal States are better than unitary nations   \n",
       "84                     The Catholic Church needs reform   \n",
       "110                       College education is worth it   \n",
       "...                                                 ...   \n",
       "2434  Democracies should ban the display of communis...   \n",
       "2465  The outcome of the Paris Climate Conference ne...   \n",
       "2473              The House of Lords should be reformed   \n",
       "2480                  NATO has succeeded in Afghanistan   \n",
       "2513  Illegal downloaders should be cut off from the...   \n",
       "\n",
       "                                            perspective  \\\n",
       "59    Chess is currently not an Olympic sport, but i...   \n",
       "73     Citizens are better protected in federal states.   \n",
       "78             Federal states are economically stronger   \n",
       "84    If priests were not forced to be celibate, the...   \n",
       "110   Many college graduates are employed in jobs th...   \n",
       "...                                                 ...   \n",
       "2434  Extremist movements are harmful and should not...   \n",
       "2465  An international treaty will legalize non-comp...   \n",
       "2473  The House of Lords is out of touch with the el...   \n",
       "2480  the taliban is waiting and likley to regain co...   \n",
       "2513  Internet access is an enabler of rights not a ...   \n",
       "\n",
       "                                   opposite_perspective  \n",
       "59    Chess is currently an Olympic sport, but it sh...  \n",
       "73    Citizens are not better protected in federal s...  \n",
       "78         Federal states are not economically stronger  \n",
       "84    If priests were forced to be celibate, the iss...  \n",
       "110   Many college graduates are employed in jobs th...  \n",
       "...                                                 ...  \n",
       "2434  Extremist movements are harmful and should be ...  \n",
       "2465  An international treaty will not legalize non-...  \n",
       "2473  The House of Lords is not out of touch with th...  \n",
       "2480  the taliban is not waiting and likley to regai...  \n",
       "2513  Internet access is an enabler of rights a righ...  \n",
       "\n",
       "[136 rows x 11 columns]"
      ]
     },
     "execution_count": 79,
     "metadata": {},
     "output_type": "execute_result"
    }
   ],
   "source": [
    "dcorrect_lwrong_out"
   ]
  },
  {
   "cell_type": "code",
   "execution_count": 80,
   "metadata": {},
   "outputs": [
    {
     "data": {
      "text/plain": [
       "0.18335920000000006"
      ]
     },
     "execution_count": 80,
     "metadata": {},
     "output_type": "execute_result"
    }
   ],
   "source": [
    "abs(dcorrect_lwrong_out.cp_distance-dcorrect_lwrong_out.cop_distance).median()"
   ]
  },
  {
   "cell_type": "code",
   "execution_count": 81,
   "metadata": {},
   "outputs": [
    {
     "data": {
      "text/plain": [
       "0.24732256071492648"
      ]
     },
     "execution_count": 81,
     "metadata": {},
     "output_type": "execute_result"
    }
   ],
   "source": [
    "abs(dcorrect_lwrong_out.cp_distance-dcorrect_lwrong_out.cop_distance).mean()"
   ]
  },
  {
   "cell_type": "code",
   "execution_count": 82,
   "metadata": {},
   "outputs": [
    {
     "data": {
      "text/plain": [
       "1.0906459599999998"
      ]
     },
     "execution_count": 82,
     "metadata": {},
     "output_type": "execute_result"
    }
   ],
   "source": [
    "abs(dcorrect_lwrong_out.cp_distance-dcorrect_lwrong_out.cop_distance).max()"
   ]
  },
  {
   "cell_type": "code",
   "execution_count": 83,
   "metadata": {},
   "outputs": [
    {
     "data": {
      "text/plain": [
       "0.0007354019999999996"
      ]
     },
     "execution_count": 83,
     "metadata": {},
     "output_type": "execute_result"
    }
   ],
   "source": [
    "abs(dcorrect_lwrong_out.cp_distance-dcorrect_lwrong_out.cop_distance).min()"
   ]
  },
  {
   "cell_type": "code",
   "execution_count": null,
   "metadata": {},
   "outputs": [],
   "source": []
  },
  {
   "cell_type": "code",
   "execution_count": 84,
   "metadata": {},
   "outputs": [
    {
     "data": {
      "text/plain": [
       "4.69863785"
      ]
     },
     "execution_count": 84,
     "metadata": {},
     "output_type": "execute_result"
    }
   ],
   "source": [
    "abs(dcorrect_lwrong_out.undermine_score-dcorrect_lwrong_out.support_score).median()"
   ]
  },
  {
   "cell_type": "code",
   "execution_count": 85,
   "metadata": {},
   "outputs": [
    {
     "data": {
      "text/plain": [
       "4.6868113829088225"
      ]
     },
     "execution_count": 85,
     "metadata": {},
     "output_type": "execute_result"
    }
   ],
   "source": [
    "abs(dcorrect_lwrong_out.undermine_score-dcorrect_lwrong_out.support_score).mean()"
   ]
  },
  {
   "cell_type": "code",
   "execution_count": 86,
   "metadata": {},
   "outputs": [
    {
     "data": {
      "text/plain": [
       "12.956747499999999"
      ]
     },
     "execution_count": 86,
     "metadata": {},
     "output_type": "execute_result"
    }
   ],
   "source": [
    "abs(dcorrect_lwrong_out.undermine_score-dcorrect_lwrong_out.support_score).max()"
   ]
  },
  {
   "cell_type": "code",
   "execution_count": 87,
   "metadata": {},
   "outputs": [
    {
     "data": {
      "text/plain": [
       "0.009783112999999996"
      ]
     },
     "execution_count": 87,
     "metadata": {},
     "output_type": "execute_result"
    }
   ],
   "source": [
    "abs(dcorrect_lwrong_out.undermine_score-dcorrect_lwrong_out.support_score).min()"
   ]
  },
  {
   "cell_type": "code",
   "execution_count": null,
   "metadata": {},
   "outputs": [],
   "source": []
  },
  {
   "cell_type": "code",
   "execution_count": 88,
   "metadata": {},
   "outputs": [],
   "source": [
    "#dwrong_lcorrect_out cases"
   ]
  },
  {
   "cell_type": "code",
   "execution_count": 89,
   "metadata": {},
   "outputs": [
    {
     "data": {
      "text/html": [
       "<div>\n",
       "<style scoped>\n",
       "    .dataframe tbody tr th:only-of-type {\n",
       "        vertical-align: middle;\n",
       "    }\n",
       "\n",
       "    .dataframe tbody tr th {\n",
       "        vertical-align: top;\n",
       "    }\n",
       "\n",
       "    .dataframe thead th {\n",
       "        text-align: right;\n",
       "    }\n",
       "</style>\n",
       "<table border=\"1\" class=\"dataframe\">\n",
       "  <thead>\n",
       "    <tr style=\"text-align: right;\">\n",
       "      <th></th>\n",
       "      <th>undermine_score</th>\n",
       "      <th>support_score</th>\n",
       "      <th>cp_distance</th>\n",
       "      <th>cop_distance</th>\n",
       "      <th>predict_label</th>\n",
       "      <th>distance_label</th>\n",
       "      <th>gold</th>\n",
       "      <th>Label</th>\n",
       "      <th>claim</th>\n",
       "      <th>perspective</th>\n",
       "      <th>opposite_perspective</th>\n",
       "    </tr>\n",
       "  </thead>\n",
       "  <tbody>\n",
       "    <tr>\n",
       "      <th>0</th>\n",
       "      <td>-4.223587</td>\n",
       "      <td>3.430138</td>\n",
       "      <td>0.020014</td>\n",
       "      <td>0.012879</td>\n",
       "      <td>1</td>\n",
       "      <td>0</td>\n",
       "      <td>1</td>\n",
       "      <td>1</td>\n",
       "      <td>School Day Should Be Extended</td>\n",
       "      <td>Lessons would feel less broken.</td>\n",
       "      <td>Lessons would not feel less broken.</td>\n",
       "    </tr>\n",
       "    <tr>\n",
       "      <th>3</th>\n",
       "      <td>-1.659985</td>\n",
       "      <td>2.563246</td>\n",
       "      <td>0.277413</td>\n",
       "      <td>0.157976</td>\n",
       "      <td>1</td>\n",
       "      <td>0</td>\n",
       "      <td>1</td>\n",
       "      <td>1</td>\n",
       "      <td>School Day Should Be Extended</td>\n",
       "      <td>Less need for homework.</td>\n",
       "      <td>More need for homework.</td>\n",
       "    </tr>\n",
       "    <tr>\n",
       "      <th>81</th>\n",
       "      <td>-0.142597</td>\n",
       "      <td>0.318115</td>\n",
       "      <td>0.313459</td>\n",
       "      <td>0.120503</td>\n",
       "      <td>1</td>\n",
       "      <td>0</td>\n",
       "      <td>1</td>\n",
       "      <td>1</td>\n",
       "      <td>The Catholic Church needs reform</td>\n",
       "      <td>The Catholic Church wants loyalty to instituti...</td>\n",
       "      <td>The Catholic Church wants loyalty to instituti...</td>\n",
       "    </tr>\n",
       "    <tr>\n",
       "      <th>88</th>\n",
       "      <td>4.976699</td>\n",
       "      <td>-0.766726</td>\n",
       "      <td>1.319132</td>\n",
       "      <td>1.789118</td>\n",
       "      <td>0</td>\n",
       "      <td>1</td>\n",
       "      <td>0</td>\n",
       "      <td>0</td>\n",
       "      <td>Positive Discrimination Towards Women in Socie...</td>\n",
       "      <td>It is Men, Not Women, who are Disadvantaged in...</td>\n",
       "      <td>It is Men, Women, who are Disadvantaged in our...</td>\n",
       "    </tr>\n",
       "    <tr>\n",
       "      <th>101</th>\n",
       "      <td>6.664764</td>\n",
       "      <td>-2.338005</td>\n",
       "      <td>1.957810</td>\n",
       "      <td>1.962720</td>\n",
       "      <td>0</td>\n",
       "      <td>1</td>\n",
       "      <td>0</td>\n",
       "      <td>0</td>\n",
       "      <td>Positive Discrimination Towards Women in Socie...</td>\n",
       "      <td>Positive discrimination takes away voters' fre...</td>\n",
       "      <td>negative discrimination takes away voters' fr...</td>\n",
       "    </tr>\n",
       "    <tr>\n",
       "      <th>...</th>\n",
       "      <td>...</td>\n",
       "      <td>...</td>\n",
       "      <td>...</td>\n",
       "      <td>...</td>\n",
       "      <td>...</td>\n",
       "      <td>...</td>\n",
       "      <td>...</td>\n",
       "      <td>...</td>\n",
       "      <td>...</td>\n",
       "      <td>...</td>\n",
       "      <td>...</td>\n",
       "    </tr>\n",
       "    <tr>\n",
       "      <th>2428</th>\n",
       "      <td>1.780620</td>\n",
       "      <td>0.518181</td>\n",
       "      <td>0.962062</td>\n",
       "      <td>1.407790</td>\n",
       "      <td>0</td>\n",
       "      <td>1</td>\n",
       "      <td>0</td>\n",
       "      <td>0</td>\n",
       "      <td>Democracies should ban the display of communis...</td>\n",
       "      <td>Society is ready to live with Nazi and Soviet ...</td>\n",
       "      <td>Society is not ready to live with Nazi and Sov...</td>\n",
       "    </tr>\n",
       "    <tr>\n",
       "      <th>2479</th>\n",
       "      <td>1.438328</td>\n",
       "      <td>0.848351</td>\n",
       "      <td>1.115165</td>\n",
       "      <td>1.629890</td>\n",
       "      <td>0</td>\n",
       "      <td>1</td>\n",
       "      <td>0</td>\n",
       "      <td>0</td>\n",
       "      <td>NATO has succeeded in Afghanistan</td>\n",
       "      <td>the taliban will likely resume their control o...</td>\n",
       "      <td>the taliban will not likely resume their contr...</td>\n",
       "    </tr>\n",
       "    <tr>\n",
       "      <th>2503</th>\n",
       "      <td>0.627612</td>\n",
       "      <td>-0.557652</td>\n",
       "      <td>0.694943</td>\n",
       "      <td>1.455035</td>\n",
       "      <td>0</td>\n",
       "      <td>1</td>\n",
       "      <td>0</td>\n",
       "      <td>0</td>\n",
       "      <td>Illegal downloaders should be cut off from the...</td>\n",
       "      <td>File-sharing will still happen, despite these ...</td>\n",
       "      <td>File-sharing will not still happen, despite th...</td>\n",
       "    </tr>\n",
       "    <tr>\n",
       "      <th>2506</th>\n",
       "      <td>2.762536</td>\n",
       "      <td>-1.856774</td>\n",
       "      <td>0.735328</td>\n",
       "      <td>0.786035</td>\n",
       "      <td>0</td>\n",
       "      <td>1</td>\n",
       "      <td>0</td>\n",
       "      <td>0</td>\n",
       "      <td>Illegal downloaders should be cut off from the...</td>\n",
       "      <td>Will file-sharing stop if downloaders are bann...</td>\n",
       "      <td>will not file-sharing stop if downloaders are...</td>\n",
       "    </tr>\n",
       "    <tr>\n",
       "      <th>2521</th>\n",
       "      <td>3.317570</td>\n",
       "      <td>-3.755074</td>\n",
       "      <td>1.281456</td>\n",
       "      <td>1.372968</td>\n",
       "      <td>0</td>\n",
       "      <td>1</td>\n",
       "      <td>0</td>\n",
       "      <td>0</td>\n",
       "      <td>Illegal downloaders should be cut off from the...</td>\n",
       "      <td>Human rights are infringed if internet use is ...</td>\n",
       "      <td>Human rights are not infringed if internet use...</td>\n",
       "    </tr>\n",
       "  </tbody>\n",
       "</table>\n",
       "<p>202 rows × 11 columns</p>\n",
       "</div>"
      ],
      "text/plain": [
       "      undermine_score  support_score  cp_distance  cop_distance  \\\n",
       "0           -4.223587       3.430138     0.020014      0.012879   \n",
       "3           -1.659985       2.563246     0.277413      0.157976   \n",
       "81          -0.142597       0.318115     0.313459      0.120503   \n",
       "88           4.976699      -0.766726     1.319132      1.789118   \n",
       "101          6.664764      -2.338005     1.957810      1.962720   \n",
       "...               ...            ...          ...           ...   \n",
       "2428         1.780620       0.518181     0.962062      1.407790   \n",
       "2479         1.438328       0.848351     1.115165      1.629890   \n",
       "2503         0.627612      -0.557652     0.694943      1.455035   \n",
       "2506         2.762536      -1.856774     0.735328      0.786035   \n",
       "2521         3.317570      -3.755074     1.281456      1.372968   \n",
       "\n",
       "      predict_label  distance_label  gold  Label  \\\n",
       "0                 1               0     1      1   \n",
       "3                 1               0     1      1   \n",
       "81                1               0     1      1   \n",
       "88                0               1     0      0   \n",
       "101               0               1     0      0   \n",
       "...             ...             ...   ...    ...   \n",
       "2428              0               1     0      0   \n",
       "2479              0               1     0      0   \n",
       "2503              0               1     0      0   \n",
       "2506              0               1     0      0   \n",
       "2521              0               1     0      0   \n",
       "\n",
       "                                                  claim  \\\n",
       "0                         School Day Should Be Extended   \n",
       "3                         School Day Should Be Extended   \n",
       "81                     The Catholic Church needs reform   \n",
       "88    Positive Discrimination Towards Women in Socie...   \n",
       "101   Positive Discrimination Towards Women in Socie...   \n",
       "...                                                 ...   \n",
       "2428  Democracies should ban the display of communis...   \n",
       "2479                  NATO has succeeded in Afghanistan   \n",
       "2503  Illegal downloaders should be cut off from the...   \n",
       "2506  Illegal downloaders should be cut off from the...   \n",
       "2521  Illegal downloaders should be cut off from the...   \n",
       "\n",
       "                                            perspective  \\\n",
       "0                       Lessons would feel less broken.   \n",
       "3                               Less need for homework.   \n",
       "81    The Catholic Church wants loyalty to instituti...   \n",
       "88    It is Men, Not Women, who are Disadvantaged in...   \n",
       "101   Positive discrimination takes away voters' fre...   \n",
       "...                                                 ...   \n",
       "2428  Society is ready to live with Nazi and Soviet ...   \n",
       "2479  the taliban will likely resume their control o...   \n",
       "2503  File-sharing will still happen, despite these ...   \n",
       "2506  Will file-sharing stop if downloaders are bann...   \n",
       "2521  Human rights are infringed if internet use is ...   \n",
       "\n",
       "                                   opposite_perspective  \n",
       "0                   Lessons would not feel less broken.  \n",
       "3                               More need for homework.  \n",
       "81    The Catholic Church wants loyalty to instituti...  \n",
       "88    It is Men, Women, who are Disadvantaged in our...  \n",
       "101    negative discrimination takes away voters' fr...  \n",
       "...                                                 ...  \n",
       "2428  Society is not ready to live with Nazi and Sov...  \n",
       "2479  the taliban will not likely resume their contr...  \n",
       "2503  File-sharing will not still happen, despite th...  \n",
       "2506   will not file-sharing stop if downloaders are...  \n",
       "2521  Human rights are not infringed if internet use...  \n",
       "\n",
       "[202 rows x 11 columns]"
      ]
     },
     "execution_count": 89,
     "metadata": {},
     "output_type": "execute_result"
    }
   ],
   "source": [
    "dwrong_lcorrect_out"
   ]
  },
  {
   "cell_type": "code",
   "execution_count": 90,
   "metadata": {},
   "outputs": [
    {
     "data": {
      "text/plain": [
       "0.07489685000000001"
      ]
     },
     "execution_count": 90,
     "metadata": {},
     "output_type": "execute_result"
    }
   ],
   "source": [
    "abs(dwrong_lcorrect_out.cp_distance-dwrong_lcorrect_out.cop_distance).median()"
   ]
  },
  {
   "cell_type": "code",
   "execution_count": 91,
   "metadata": {},
   "outputs": [
    {
     "data": {
      "text/plain": [
       "0.16541975482742574"
      ]
     },
     "execution_count": 91,
     "metadata": {},
     "output_type": "execute_result"
    }
   ],
   "source": [
    "abs(dwrong_lcorrect_out.cp_distance-dwrong_lcorrect_out.cop_distance).mean()"
   ]
  },
  {
   "cell_type": "code",
   "execution_count": 92,
   "metadata": {},
   "outputs": [
    {
     "data": {
      "text/plain": [
       "1.0653685"
      ]
     },
     "execution_count": 92,
     "metadata": {},
     "output_type": "execute_result"
    }
   ],
   "source": [
    "abs(dwrong_lcorrect_out.cp_distance-dwrong_lcorrect_out.cop_distance).max()"
   ]
  },
  {
   "cell_type": "code",
   "execution_count": 93,
   "metadata": {},
   "outputs": [
    {
     "data": {
      "text/plain": [
       "8.82149999999974e-06"
      ]
     },
     "execution_count": 93,
     "metadata": {},
     "output_type": "execute_result"
    }
   ],
   "source": [
    "abs(dwrong_lcorrect_out.cp_distance-dwrong_lcorrect_out.cop_distance).min()"
   ]
  },
  {
   "cell_type": "code",
   "execution_count": null,
   "metadata": {},
   "outputs": [],
   "source": []
  },
  {
   "cell_type": "code",
   "execution_count": 94,
   "metadata": {},
   "outputs": [
    {
     "data": {
      "text/plain": [
       "6.6984394499999995"
      ]
     },
     "execution_count": 94,
     "metadata": {},
     "output_type": "execute_result"
    }
   ],
   "source": [
    "abs(dwrong_lcorrect_out.undermine_score-dwrong_lcorrect_out.support_score).median()"
   ]
  },
  {
   "cell_type": "code",
   "execution_count": 95,
   "metadata": {},
   "outputs": [
    {
     "data": {
      "text/plain": [
       "6.3061969292425735"
      ]
     },
     "execution_count": 95,
     "metadata": {},
     "output_type": "execute_result"
    }
   ],
   "source": [
    "abs(dwrong_lcorrect_out.undermine_score-dwrong_lcorrect_out.support_score).mean()"
   ]
  },
  {
   "cell_type": "code",
   "execution_count": 96,
   "metadata": {},
   "outputs": [
    {
     "data": {
      "text/plain": [
       "18.714413999999998"
      ]
     },
     "execution_count": 96,
     "metadata": {},
     "output_type": "execute_result"
    }
   ],
   "source": [
    "abs(dwrong_lcorrect_out.undermine_score-dwrong_lcorrect_out.support_score).max()"
   ]
  },
  {
   "cell_type": "code",
   "execution_count": 97,
   "metadata": {},
   "outputs": [
    {
     "data": {
      "text/plain": [
       "0.115963"
      ]
     },
     "execution_count": 97,
     "metadata": {},
     "output_type": "execute_result"
    }
   ],
   "source": [
    "abs(dwrong_lcorrect_out.undermine_score-dwrong_lcorrect_out.support_score).min()"
   ]
  },
  {
   "cell_type": "code",
   "execution_count": null,
   "metadata": {},
   "outputs": [],
   "source": []
  },
  {
   "cell_type": "code",
   "execution_count": null,
   "metadata": {},
   "outputs": [],
   "source": []
  },
  {
   "cell_type": "code",
   "execution_count": 98,
   "metadata": {},
   "outputs": [
    {
     "data": {
      "text/html": [
       "<div>\n",
       "<style scoped>\n",
       "    .dataframe tbody tr th:only-of-type {\n",
       "        vertical-align: middle;\n",
       "    }\n",
       "\n",
       "    .dataframe tbody tr th {\n",
       "        vertical-align: top;\n",
       "    }\n",
       "\n",
       "    .dataframe thead th {\n",
       "        text-align: right;\n",
       "    }\n",
       "</style>\n",
       "<table border=\"1\" class=\"dataframe\">\n",
       "  <thead>\n",
       "    <tr style=\"text-align: right;\">\n",
       "      <th></th>\n",
       "      <th>undermine_score</th>\n",
       "      <th>support_score</th>\n",
       "      <th>cp_distance</th>\n",
       "      <th>cop_distance</th>\n",
       "      <th>predict_label</th>\n",
       "      <th>distance_label</th>\n",
       "      <th>gold</th>\n",
       "    </tr>\n",
       "  </thead>\n",
       "  <tbody>\n",
       "    <tr>\n",
       "      <th>0</th>\n",
       "      <td>-4.223587</td>\n",
       "      <td>3.430138</td>\n",
       "      <td>0.020014</td>\n",
       "      <td>0.012879</td>\n",
       "      <td>1</td>\n",
       "      <td>0</td>\n",
       "      <td>1</td>\n",
       "    </tr>\n",
       "    <tr>\n",
       "      <th>59</th>\n",
       "      <td>6.975863</td>\n",
       "      <td>-2.372392</td>\n",
       "      <td>1.920776</td>\n",
       "      <td>1.928768</td>\n",
       "      <td>0</td>\n",
       "      <td>1</td>\n",
       "      <td>1</td>\n",
       "    </tr>\n",
       "    <tr>\n",
       "      <th>84</th>\n",
       "      <td>5.189340</td>\n",
       "      <td>-5.870834</td>\n",
       "      <td>1.708071</td>\n",
       "      <td>1.780854</td>\n",
       "      <td>0</td>\n",
       "      <td>1</td>\n",
       "      <td>1</td>\n",
       "    </tr>\n",
       "    <tr>\n",
       "      <th>101</th>\n",
       "      <td>6.664764</td>\n",
       "      <td>-2.338005</td>\n",
       "      <td>1.957810</td>\n",
       "      <td>1.962720</td>\n",
       "      <td>0</td>\n",
       "      <td>1</td>\n",
       "      <td>0</td>\n",
       "    </tr>\n",
       "    <tr>\n",
       "      <th>103</th>\n",
       "      <td>-3.912886</td>\n",
       "      <td>3.581488</td>\n",
       "      <td>0.214234</td>\n",
       "      <td>0.189936</td>\n",
       "      <td>1</td>\n",
       "      <td>0</td>\n",
       "      <td>1</td>\n",
       "    </tr>\n",
       "    <tr>\n",
       "      <th>...</th>\n",
       "      <td>...</td>\n",
       "      <td>...</td>\n",
       "      <td>...</td>\n",
       "      <td>...</td>\n",
       "      <td>...</td>\n",
       "      <td>...</td>\n",
       "      <td>...</td>\n",
       "    </tr>\n",
       "    <tr>\n",
       "      <th>2342</th>\n",
       "      <td>6.852671</td>\n",
       "      <td>-2.248606</td>\n",
       "      <td>1.902466</td>\n",
       "      <td>1.947599</td>\n",
       "      <td>0</td>\n",
       "      <td>1</td>\n",
       "      <td>0</td>\n",
       "    </tr>\n",
       "    <tr>\n",
       "      <th>2370</th>\n",
       "      <td>6.125291</td>\n",
       "      <td>-2.037305</td>\n",
       "      <td>1.804320</td>\n",
       "      <td>1.811636</td>\n",
       "      <td>0</td>\n",
       "      <td>1</td>\n",
       "      <td>1</td>\n",
       "    </tr>\n",
       "    <tr>\n",
       "      <th>2418</th>\n",
       "      <td>-4.415244</td>\n",
       "      <td>3.401687</td>\n",
       "      <td>0.081197</td>\n",
       "      <td>0.004982</td>\n",
       "      <td>1</td>\n",
       "      <td>0</td>\n",
       "      <td>0</td>\n",
       "    </tr>\n",
       "    <tr>\n",
       "      <th>2434</th>\n",
       "      <td>-3.825589</td>\n",
       "      <td>5.084303</td>\n",
       "      <td>0.037229</td>\n",
       "      <td>0.004001</td>\n",
       "      <td>1</td>\n",
       "      <td>0</td>\n",
       "      <td>0</td>\n",
       "    </tr>\n",
       "    <tr>\n",
       "      <th>2521</th>\n",
       "      <td>3.317570</td>\n",
       "      <td>-3.755074</td>\n",
       "      <td>1.281456</td>\n",
       "      <td>1.372968</td>\n",
       "      <td>0</td>\n",
       "      <td>1</td>\n",
       "      <td>0</td>\n",
       "    </tr>\n",
       "  </tbody>\n",
       "</table>\n",
       "<p>100 rows × 7 columns</p>\n",
       "</div>"
      ],
      "text/plain": [
       "      undermine_score  support_score  cp_distance  cop_distance  \\\n",
       "0           -4.223587       3.430138     0.020014      0.012879   \n",
       "59           6.975863      -2.372392     1.920776      1.928768   \n",
       "84           5.189340      -5.870834     1.708071      1.780854   \n",
       "101          6.664764      -2.338005     1.957810      1.962720   \n",
       "103         -3.912886       3.581488     0.214234      0.189936   \n",
       "...               ...            ...          ...           ...   \n",
       "2342         6.852671      -2.248606     1.902466      1.947599   \n",
       "2370         6.125291      -2.037305     1.804320      1.811636   \n",
       "2418        -4.415244       3.401687     0.081197      0.004982   \n",
       "2434        -3.825589       5.084303     0.037229      0.004001   \n",
       "2521         3.317570      -3.755074     1.281456      1.372968   \n",
       "\n",
       "      predict_label  distance_label  gold  \n",
       "0                 1               0     1  \n",
       "59                0               1     1  \n",
       "84                0               1     1  \n",
       "101               0               1     0  \n",
       "103               1               0     1  \n",
       "...             ...             ...   ...  \n",
       "2342              0               1     0  \n",
       "2370              0               1     1  \n",
       "2418              1               0     0  \n",
       "2434              1               0     0  \n",
       "2521              0               1     0  \n",
       "\n",
       "[100 rows x 7 columns]"
      ]
     },
     "execution_count": 98,
     "metadata": {},
     "output_type": "execute_result"
    }
   ],
   "source": [
    "df_inconsistency[(abs(df_inconsistency.undermine_score-df_inconsistency.support_score)>7)&(abs(df_inconsistency.cp_distance-df_inconsistency.cop_distance)<0.1)]"
   ]
  },
  {
   "cell_type": "code",
   "execution_count": 99,
   "metadata": {},
   "outputs": [
    {
     "data": {
      "text/html": [
       "<div>\n",
       "<style scoped>\n",
       "    .dataframe tbody tr th:only-of-type {\n",
       "        vertical-align: middle;\n",
       "    }\n",
       "\n",
       "    .dataframe tbody tr th {\n",
       "        vertical-align: top;\n",
       "    }\n",
       "\n",
       "    .dataframe thead th {\n",
       "        text-align: right;\n",
       "    }\n",
       "</style>\n",
       "<table border=\"1\" class=\"dataframe\">\n",
       "  <thead>\n",
       "    <tr style=\"text-align: right;\">\n",
       "      <th></th>\n",
       "      <th>undermine_score</th>\n",
       "      <th>support_score</th>\n",
       "      <th>cp_distance</th>\n",
       "      <th>cop_distance</th>\n",
       "      <th>predict_label</th>\n",
       "      <th>distance_label</th>\n",
       "      <th>gold</th>\n",
       "    </tr>\n",
       "  </thead>\n",
       "  <tbody>\n",
       "    <tr>\n",
       "      <th>0</th>\n",
       "      <td>-4.223587</td>\n",
       "      <td>3.430138</td>\n",
       "      <td>0.020014</td>\n",
       "      <td>0.012879</td>\n",
       "      <td>1</td>\n",
       "      <td>0</td>\n",
       "      <td>1</td>\n",
       "    </tr>\n",
       "    <tr>\n",
       "      <th>101</th>\n",
       "      <td>6.664764</td>\n",
       "      <td>-2.338005</td>\n",
       "      <td>1.957810</td>\n",
       "      <td>1.962720</td>\n",
       "      <td>0</td>\n",
       "      <td>1</td>\n",
       "      <td>0</td>\n",
       "    </tr>\n",
       "    <tr>\n",
       "      <th>103</th>\n",
       "      <td>-3.912886</td>\n",
       "      <td>3.581488</td>\n",
       "      <td>0.214234</td>\n",
       "      <td>0.189936</td>\n",
       "      <td>1</td>\n",
       "      <td>0</td>\n",
       "      <td>1</td>\n",
       "    </tr>\n",
       "    <tr>\n",
       "      <th>167</th>\n",
       "      <td>6.498967</td>\n",
       "      <td>-1.829042</td>\n",
       "      <td>1.894920</td>\n",
       "      <td>1.968252</td>\n",
       "      <td>0</td>\n",
       "      <td>1</td>\n",
       "      <td>0</td>\n",
       "    </tr>\n",
       "    <tr>\n",
       "      <th>174</th>\n",
       "      <td>-3.984031</td>\n",
       "      <td>4.041832</td>\n",
       "      <td>0.060304</td>\n",
       "      <td>0.051696</td>\n",
       "      <td>1</td>\n",
       "      <td>0</td>\n",
       "      <td>1</td>\n",
       "    </tr>\n",
       "    <tr>\n",
       "      <th>...</th>\n",
       "      <td>...</td>\n",
       "      <td>...</td>\n",
       "      <td>...</td>\n",
       "      <td>...</td>\n",
       "      <td>...</td>\n",
       "      <td>...</td>\n",
       "      <td>...</td>\n",
       "    </tr>\n",
       "    <tr>\n",
       "      <th>2285</th>\n",
       "      <td>6.448651</td>\n",
       "      <td>-2.341104</td>\n",
       "      <td>1.927012</td>\n",
       "      <td>1.955267</td>\n",
       "      <td>0</td>\n",
       "      <td>1</td>\n",
       "      <td>0</td>\n",
       "    </tr>\n",
       "    <tr>\n",
       "      <th>2313</th>\n",
       "      <td>-4.402775</td>\n",
       "      <td>4.329851</td>\n",
       "      <td>0.008114</td>\n",
       "      <td>0.006960</td>\n",
       "      <td>1</td>\n",
       "      <td>0</td>\n",
       "      <td>1</td>\n",
       "    </tr>\n",
       "    <tr>\n",
       "      <th>2315</th>\n",
       "      <td>-4.229798</td>\n",
       "      <td>4.237733</td>\n",
       "      <td>0.016681</td>\n",
       "      <td>0.012862</td>\n",
       "      <td>1</td>\n",
       "      <td>0</td>\n",
       "      <td>1</td>\n",
       "    </tr>\n",
       "    <tr>\n",
       "      <th>2342</th>\n",
       "      <td>6.852671</td>\n",
       "      <td>-2.248606</td>\n",
       "      <td>1.902466</td>\n",
       "      <td>1.947599</td>\n",
       "      <td>0</td>\n",
       "      <td>1</td>\n",
       "      <td>0</td>\n",
       "    </tr>\n",
       "    <tr>\n",
       "      <th>2521</th>\n",
       "      <td>3.317570</td>\n",
       "      <td>-3.755074</td>\n",
       "      <td>1.281456</td>\n",
       "      <td>1.372968</td>\n",
       "      <td>0</td>\n",
       "      <td>1</td>\n",
       "      <td>0</td>\n",
       "    </tr>\n",
       "  </tbody>\n",
       "</table>\n",
       "<p>80 rows × 7 columns</p>\n",
       "</div>"
      ],
      "text/plain": [
       "      undermine_score  support_score  cp_distance  cop_distance  \\\n",
       "0           -4.223587       3.430138     0.020014      0.012879   \n",
       "101          6.664764      -2.338005     1.957810      1.962720   \n",
       "103         -3.912886       3.581488     0.214234      0.189936   \n",
       "167          6.498967      -1.829042     1.894920      1.968252   \n",
       "174         -3.984031       4.041832     0.060304      0.051696   \n",
       "...               ...            ...          ...           ...   \n",
       "2285         6.448651      -2.341104     1.927012      1.955267   \n",
       "2313        -4.402775       4.329851     0.008114      0.006960   \n",
       "2315        -4.229798       4.237733     0.016681      0.012862   \n",
       "2342         6.852671      -2.248606     1.902466      1.947599   \n",
       "2521         3.317570      -3.755074     1.281456      1.372968   \n",
       "\n",
       "      predict_label  distance_label  gold  \n",
       "0                 1               0     1  \n",
       "101               0               1     0  \n",
       "103               1               0     1  \n",
       "167               0               1     0  \n",
       "174               1               0     1  \n",
       "...             ...             ...   ...  \n",
       "2285              0               1     0  \n",
       "2313              1               0     1  \n",
       "2315              1               0     1  \n",
       "2342              0               1     0  \n",
       "2521              0               1     0  \n",
       "\n",
       "[80 rows x 7 columns]"
      ]
     },
     "execution_count": 99,
     "metadata": {},
     "output_type": "execute_result"
    }
   ],
   "source": [
    "df_inconsistency[(abs(df_inconsistency.undermine_score-df_inconsistency.support_score)>7)&(abs(df_inconsistency.cp_distance-df_inconsistency.cop_distance)<0.1)&(df_inconsistency.predict_label==df_inconsistency.gold)]"
   ]
  },
  {
   "cell_type": "code",
   "execution_count": null,
   "metadata": {},
   "outputs": [],
   "source": []
  },
  {
   "cell_type": "code",
   "execution_count": 100,
   "metadata": {},
   "outputs": [
    {
     "data": {
      "text/plain": [
       "undermine_score    61\n",
       "support_score      61\n",
       "cp_distance        61\n",
       "cop_distance       61\n",
       "predict_label      61\n",
       "distance_label     61\n",
       "gold               61\n",
       "dtype: int64"
      ]
     },
     "execution_count": 100,
     "metadata": {},
     "output_type": "execute_result"
    }
   ],
   "source": [
    "df_inconsistency[(abs(df_inconsistency.undermine_score-df_inconsistency.support_score)<3)&(abs(df_inconsistency.cp_distance-df_inconsistency.cop_distance)>0.15)].count()"
   ]
  },
  {
   "cell_type": "code",
   "execution_count": 101,
   "metadata": {},
   "outputs": [
    {
     "data": {
      "text/plain": [
       "undermine_score    35\n",
       "support_score      35\n",
       "cp_distance        35\n",
       "cop_distance       35\n",
       "predict_label      35\n",
       "distance_label     35\n",
       "gold               35\n",
       "dtype: int64"
      ]
     },
     "execution_count": 101,
     "metadata": {},
     "output_type": "execute_result"
    }
   ],
   "source": [
    "df_inconsistency[(abs(df_inconsistency.undermine_score-df_inconsistency.support_score)<3)&(abs(df_inconsistency.cp_distance-df_inconsistency.cop_distance)>0.15)&(df_inconsistency.distance_label==df_inconsistency.gold)].count()"
   ]
  },
  {
   "cell_type": "code",
   "execution_count": null,
   "metadata": {},
   "outputs": [],
   "source": []
  },
  {
   "cell_type": "code",
   "execution_count": 102,
   "metadata": {},
   "outputs": [],
   "source": [
    "#consistent failed cases"
   ]
  },
  {
   "cell_type": "code",
   "execution_count": 103,
   "metadata": {},
   "outputs": [
    {
     "data": {
      "text/html": [
       "<div>\n",
       "<style scoped>\n",
       "    .dataframe tbody tr th:only-of-type {\n",
       "        vertical-align: middle;\n",
       "    }\n",
       "\n",
       "    .dataframe tbody tr th {\n",
       "        vertical-align: top;\n",
       "    }\n",
       "\n",
       "    .dataframe thead th {\n",
       "        text-align: right;\n",
       "    }\n",
       "</style>\n",
       "<table border=\"1\" class=\"dataframe\">\n",
       "  <thead>\n",
       "    <tr style=\"text-align: right;\">\n",
       "      <th></th>\n",
       "      <th>undermine_score</th>\n",
       "      <th>support_score</th>\n",
       "      <th>cp_distance</th>\n",
       "      <th>cop_distance</th>\n",
       "      <th>predict_label</th>\n",
       "      <th>distance_label</th>\n",
       "      <th>gold</th>\n",
       "    </tr>\n",
       "  </thead>\n",
       "  <tbody>\n",
       "    <tr>\n",
       "      <th>46</th>\n",
       "      <td>-2.267228</td>\n",
       "      <td>5.343608</td>\n",
       "      <td>0.012838</td>\n",
       "      <td>1.899688</td>\n",
       "      <td>1</td>\n",
       "      <td>1</td>\n",
       "      <td>0</td>\n",
       "    </tr>\n",
       "    <tr>\n",
       "      <th>51</th>\n",
       "      <td>5.155417</td>\n",
       "      <td>-4.237434</td>\n",
       "      <td>1.868408</td>\n",
       "      <td>0.744416</td>\n",
       "      <td>0</td>\n",
       "      <td>0</td>\n",
       "      <td>1</td>\n",
       "    </tr>\n",
       "    <tr>\n",
       "      <th>54</th>\n",
       "      <td>3.537244</td>\n",
       "      <td>-2.157459</td>\n",
       "      <td>1.688211</td>\n",
       "      <td>0.791399</td>\n",
       "      <td>0</td>\n",
       "      <td>0</td>\n",
       "      <td>1</td>\n",
       "    </tr>\n",
       "    <tr>\n",
       "      <th>63</th>\n",
       "      <td>-2.482541</td>\n",
       "      <td>5.729583</td>\n",
       "      <td>0.023178</td>\n",
       "      <td>1.951421</td>\n",
       "      <td>1</td>\n",
       "      <td>1</td>\n",
       "      <td>0</td>\n",
       "    </tr>\n",
       "    <tr>\n",
       "      <th>74</th>\n",
       "      <td>-3.022160</td>\n",
       "      <td>2.879174</td>\n",
       "      <td>0.396503</td>\n",
       "      <td>1.347344</td>\n",
       "      <td>1</td>\n",
       "      <td>1</td>\n",
       "      <td>0</td>\n",
       "    </tr>\n",
       "    <tr>\n",
       "      <th>...</th>\n",
       "      <td>...</td>\n",
       "      <td>...</td>\n",
       "      <td>...</td>\n",
       "      <td>...</td>\n",
       "      <td>...</td>\n",
       "      <td>...</td>\n",
       "      <td>...</td>\n",
       "    </tr>\n",
       "    <tr>\n",
       "      <th>2469</th>\n",
       "      <td>-2.194105</td>\n",
       "      <td>5.495428</td>\n",
       "      <td>0.036756</td>\n",
       "      <td>1.755904</td>\n",
       "      <td>1</td>\n",
       "      <td>1</td>\n",
       "      <td>0</td>\n",
       "    </tr>\n",
       "    <tr>\n",
       "      <th>2474</th>\n",
       "      <td>5.292336</td>\n",
       "      <td>-6.160551</td>\n",
       "      <td>1.813913</td>\n",
       "      <td>0.410568</td>\n",
       "      <td>0</td>\n",
       "      <td>0</td>\n",
       "      <td>1</td>\n",
       "    </tr>\n",
       "    <tr>\n",
       "      <th>2477</th>\n",
       "      <td>-0.591194</td>\n",
       "      <td>0.761670</td>\n",
       "      <td>0.984307</td>\n",
       "      <td>1.508494</td>\n",
       "      <td>1</td>\n",
       "      <td>1</td>\n",
       "      <td>0</td>\n",
       "    </tr>\n",
       "    <tr>\n",
       "      <th>2496</th>\n",
       "      <td>-2.799630</td>\n",
       "      <td>5.131019</td>\n",
       "      <td>0.060273</td>\n",
       "      <td>1.893408</td>\n",
       "      <td>1</td>\n",
       "      <td>1</td>\n",
       "      <td>0</td>\n",
       "    </tr>\n",
       "    <tr>\n",
       "      <th>2497</th>\n",
       "      <td>4.596515</td>\n",
       "      <td>-1.639086</td>\n",
       "      <td>1.612404</td>\n",
       "      <td>1.563472</td>\n",
       "      <td>0</td>\n",
       "      <td>0</td>\n",
       "      <td>1</td>\n",
       "    </tr>\n",
       "  </tbody>\n",
       "</table>\n",
       "<p>380 rows × 7 columns</p>\n",
       "</div>"
      ],
      "text/plain": [
       "      undermine_score  support_score  cp_distance  cop_distance  \\\n",
       "46          -2.267228       5.343608     0.012838      1.899688   \n",
       "51           5.155417      -4.237434     1.868408      0.744416   \n",
       "54           3.537244      -2.157459     1.688211      0.791399   \n",
       "63          -2.482541       5.729583     0.023178      1.951421   \n",
       "74          -3.022160       2.879174     0.396503      1.347344   \n",
       "...               ...            ...          ...           ...   \n",
       "2469        -2.194105       5.495428     0.036756      1.755904   \n",
       "2474         5.292336      -6.160551     1.813913      0.410568   \n",
       "2477        -0.591194       0.761670     0.984307      1.508494   \n",
       "2496        -2.799630       5.131019     0.060273      1.893408   \n",
       "2497         4.596515      -1.639086     1.612404      1.563472   \n",
       "\n",
       "      predict_label  distance_label  gold  \n",
       "46                1               1     0  \n",
       "51                0               0     1  \n",
       "54                0               0     1  \n",
       "63                1               1     0  \n",
       "74                1               1     0  \n",
       "...             ...             ...   ...  \n",
       "2469              1               1     0  \n",
       "2474              0               0     1  \n",
       "2477              1               1     0  \n",
       "2496              1               1     0  \n",
       "2497              0               0     1  \n",
       "\n",
       "[380 rows x 7 columns]"
      ]
     },
     "execution_count": 103,
     "metadata": {},
     "output_type": "execute_result"
    }
   ],
   "source": [
    "df_consistency[df_consistency.predict_label!=df_consistency.gold]"
   ]
  },
  {
   "cell_type": "code",
   "execution_count": 104,
   "metadata": {},
   "outputs": [],
   "source": [
    "df_consistency_failed = df_consistency[df_consistency.predict_label!=df_consistency.gold]"
   ]
  },
  {
   "cell_type": "code",
   "execution_count": 105,
   "metadata": {},
   "outputs": [],
   "source": [
    "cons_out_failed = df_consistency_failed.join(df_origin).drop(\"x\",axis=1).drop(\"y\",axis=1)"
   ]
  },
  {
   "cell_type": "code",
   "execution_count": 106,
   "metadata": {},
   "outputs": [
    {
     "data": {
      "text/html": [
       "<div>\n",
       "<style scoped>\n",
       "    .dataframe tbody tr th:only-of-type {\n",
       "        vertical-align: middle;\n",
       "    }\n",
       "\n",
       "    .dataframe tbody tr th {\n",
       "        vertical-align: top;\n",
       "    }\n",
       "\n",
       "    .dataframe thead th {\n",
       "        text-align: right;\n",
       "    }\n",
       "</style>\n",
       "<table border=\"1\" class=\"dataframe\">\n",
       "  <thead>\n",
       "    <tr style=\"text-align: right;\">\n",
       "      <th></th>\n",
       "      <th>undermine_score</th>\n",
       "      <th>support_score</th>\n",
       "      <th>cp_distance</th>\n",
       "      <th>cop_distance</th>\n",
       "      <th>predict_label</th>\n",
       "      <th>distance_label</th>\n",
       "      <th>gold</th>\n",
       "      <th>Label</th>\n",
       "      <th>claim</th>\n",
       "      <th>perspective</th>\n",
       "      <th>opposite_perspective</th>\n",
       "    </tr>\n",
       "  </thead>\n",
       "  <tbody>\n",
       "    <tr>\n",
       "      <th>46</th>\n",
       "      <td>-2.267228</td>\n",
       "      <td>5.343608</td>\n",
       "      <td>0.012838</td>\n",
       "      <td>1.899688</td>\n",
       "      <td>1</td>\n",
       "      <td>1</td>\n",
       "      <td>0</td>\n",
       "      <td>0</td>\n",
       "      <td>Make all museums free of charge</td>\n",
       "      <td>State funding should be used elsewhere</td>\n",
       "      <td>State funding should not be used elsewhere</td>\n",
       "    </tr>\n",
       "    <tr>\n",
       "      <th>51</th>\n",
       "      <td>5.155417</td>\n",
       "      <td>-4.237434</td>\n",
       "      <td>1.868408</td>\n",
       "      <td>0.744416</td>\n",
       "      <td>0</td>\n",
       "      <td>0</td>\n",
       "      <td>1</td>\n",
       "      <td>1</td>\n",
       "      <td>Make all museums free of charge</td>\n",
       "      <td>Museums are critical to the motivations as wel...</td>\n",
       "      <td>Museums are not critical to the motivations as...</td>\n",
       "    </tr>\n",
       "    <tr>\n",
       "      <th>54</th>\n",
       "      <td>3.537244</td>\n",
       "      <td>-2.157459</td>\n",
       "      <td>1.688211</td>\n",
       "      <td>0.791399</td>\n",
       "      <td>0</td>\n",
       "      <td>0</td>\n",
       "      <td>1</td>\n",
       "      <td>1</td>\n",
       "      <td>Make all museums free of charge</td>\n",
       "      <td>People are more likely to attend museums if th...</td>\n",
       "      <td>People are not more likely to attend museums i...</td>\n",
       "    </tr>\n",
       "    <tr>\n",
       "      <th>63</th>\n",
       "      <td>-2.482541</td>\n",
       "      <td>5.729583</td>\n",
       "      <td>0.023178</td>\n",
       "      <td>1.951421</td>\n",
       "      <td>1</td>\n",
       "      <td>1</td>\n",
       "      <td>0</td>\n",
       "      <td>0</td>\n",
       "      <td>Chess must be at the Olympics</td>\n",
       "      <td>Olympic sports are suppose to be physical</td>\n",
       "      <td>Olympic sports are not suppose to be physical</td>\n",
       "    </tr>\n",
       "    <tr>\n",
       "      <th>74</th>\n",
       "      <td>-3.022160</td>\n",
       "      <td>2.879174</td>\n",
       "      <td>0.396503</td>\n",
       "      <td>1.347344</td>\n",
       "      <td>1</td>\n",
       "      <td>1</td>\n",
       "      <td>0</td>\n",
       "      <td>0</td>\n",
       "      <td>Federal States are better than unitary nations</td>\n",
       "      <td>Federal States often have persistent losers.</td>\n",
       "      <td>Federal States often don't have persistent los...</td>\n",
       "    </tr>\n",
       "    <tr>\n",
       "      <th>...</th>\n",
       "      <td>...</td>\n",
       "      <td>...</td>\n",
       "      <td>...</td>\n",
       "      <td>...</td>\n",
       "      <td>...</td>\n",
       "      <td>...</td>\n",
       "      <td>...</td>\n",
       "      <td>...</td>\n",
       "      <td>...</td>\n",
       "      <td>...</td>\n",
       "      <td>...</td>\n",
       "    </tr>\n",
       "    <tr>\n",
       "      <th>2469</th>\n",
       "      <td>-2.194105</td>\n",
       "      <td>5.495428</td>\n",
       "      <td>0.036756</td>\n",
       "      <td>1.755904</td>\n",
       "      <td>1</td>\n",
       "      <td>1</td>\n",
       "      <td>0</td>\n",
       "      <td>0</td>\n",
       "      <td>The outcome of the Paris Climate Conference ne...</td>\n",
       "      <td>Allowing sovereign states to set and meet thei...</td>\n",
       "      <td>Allowing sovereign states not to set and meet ...</td>\n",
       "    </tr>\n",
       "    <tr>\n",
       "      <th>2474</th>\n",
       "      <td>5.292336</td>\n",
       "      <td>-6.160551</td>\n",
       "      <td>1.813913</td>\n",
       "      <td>0.410568</td>\n",
       "      <td>0</td>\n",
       "      <td>0</td>\n",
       "      <td>1</td>\n",
       "      <td>1</td>\n",
       "      <td>The House of Lords should be reformed</td>\n",
       "      <td>The House of Lords does not understand the nee...</td>\n",
       "      <td>The House of Lords does understand the needs o...</td>\n",
       "    </tr>\n",
       "    <tr>\n",
       "      <th>2477</th>\n",
       "      <td>-0.591194</td>\n",
       "      <td>0.761670</td>\n",
       "      <td>0.984307</td>\n",
       "      <td>1.508494</td>\n",
       "      <td>1</td>\n",
       "      <td>1</td>\n",
       "      <td>0</td>\n",
       "      <td>0</td>\n",
       "      <td>The House of Lords should be reformed</td>\n",
       "      <td>an apathetic public can be the cause of reform</td>\n",
       "      <td>an apathetic public can not be the cause of re...</td>\n",
       "    </tr>\n",
       "    <tr>\n",
       "      <th>2496</th>\n",
       "      <td>-2.799630</td>\n",
       "      <td>5.131019</td>\n",
       "      <td>0.060273</td>\n",
       "      <td>1.893408</td>\n",
       "      <td>1</td>\n",
       "      <td>1</td>\n",
       "      <td>0</td>\n",
       "      <td>0</td>\n",
       "      <td>Winning the Champions League Is Better Than Wi...</td>\n",
       "      <td>The Premiership is the most popular and succes...</td>\n",
       "      <td>The Premiership is not the most popular and su...</td>\n",
       "    </tr>\n",
       "    <tr>\n",
       "      <th>2497</th>\n",
       "      <td>4.596515</td>\n",
       "      <td>-1.639086</td>\n",
       "      <td>1.612404</td>\n",
       "      <td>1.563472</td>\n",
       "      <td>0</td>\n",
       "      <td>0</td>\n",
       "      <td>1</td>\n",
       "      <td>1</td>\n",
       "      <td>Winning the Champions League Is Better Than Wi...</td>\n",
       "      <td>Winning the Champions League relies more on lu...</td>\n",
       "      <td>Winning the Champions League relies less on lu...</td>\n",
       "    </tr>\n",
       "  </tbody>\n",
       "</table>\n",
       "<p>380 rows × 11 columns</p>\n",
       "</div>"
      ],
      "text/plain": [
       "      undermine_score  support_score  cp_distance  cop_distance  \\\n",
       "46          -2.267228       5.343608     0.012838      1.899688   \n",
       "51           5.155417      -4.237434     1.868408      0.744416   \n",
       "54           3.537244      -2.157459     1.688211      0.791399   \n",
       "63          -2.482541       5.729583     0.023178      1.951421   \n",
       "74          -3.022160       2.879174     0.396503      1.347344   \n",
       "...               ...            ...          ...           ...   \n",
       "2469        -2.194105       5.495428     0.036756      1.755904   \n",
       "2474         5.292336      -6.160551     1.813913      0.410568   \n",
       "2477        -0.591194       0.761670     0.984307      1.508494   \n",
       "2496        -2.799630       5.131019     0.060273      1.893408   \n",
       "2497         4.596515      -1.639086     1.612404      1.563472   \n",
       "\n",
       "      predict_label  distance_label  gold  Label  \\\n",
       "46                1               1     0      0   \n",
       "51                0               0     1      1   \n",
       "54                0               0     1      1   \n",
       "63                1               1     0      0   \n",
       "74                1               1     0      0   \n",
       "...             ...             ...   ...    ...   \n",
       "2469              1               1     0      0   \n",
       "2474              0               0     1      1   \n",
       "2477              1               1     0      0   \n",
       "2496              1               1     0      0   \n",
       "2497              0               0     1      1   \n",
       "\n",
       "                                                  claim  \\\n",
       "46                      Make all museums free of charge   \n",
       "51                      Make all museums free of charge   \n",
       "54                      Make all museums free of charge   \n",
       "63                        Chess must be at the Olympics   \n",
       "74       Federal States are better than unitary nations   \n",
       "...                                                 ...   \n",
       "2469  The outcome of the Paris Climate Conference ne...   \n",
       "2474              The House of Lords should be reformed   \n",
       "2477              The House of Lords should be reformed   \n",
       "2496  Winning the Champions League Is Better Than Wi...   \n",
       "2497  Winning the Champions League Is Better Than Wi...   \n",
       "\n",
       "                                            perspective  \\\n",
       "46               State funding should be used elsewhere   \n",
       "51    Museums are critical to the motivations as wel...   \n",
       "54    People are more likely to attend museums if th...   \n",
       "63            Olympic sports are suppose to be physical   \n",
       "74         Federal States often have persistent losers.   \n",
       "...                                                 ...   \n",
       "2469  Allowing sovereign states to set and meet thei...   \n",
       "2474  The House of Lords does not understand the nee...   \n",
       "2477     an apathetic public can be the cause of reform   \n",
       "2496  The Premiership is the most popular and succes...   \n",
       "2497  Winning the Champions League relies more on lu...   \n",
       "\n",
       "                                   opposite_perspective  \n",
       "46           State funding should not be used elsewhere  \n",
       "51    Museums are not critical to the motivations as...  \n",
       "54    People are not more likely to attend museums i...  \n",
       "63        Olympic sports are not suppose to be physical  \n",
       "74    Federal States often don't have persistent los...  \n",
       "...                                                 ...  \n",
       "2469  Allowing sovereign states not to set and meet ...  \n",
       "2474  The House of Lords does understand the needs o...  \n",
       "2477  an apathetic public can not be the cause of re...  \n",
       "2496  The Premiership is not the most popular and su...  \n",
       "2497  Winning the Champions League relies less on lu...  \n",
       "\n",
       "[380 rows x 11 columns]"
      ]
     },
     "execution_count": 106,
     "metadata": {},
     "output_type": "execute_result"
    }
   ],
   "source": [
    "cons_out_failed"
   ]
  },
  {
   "cell_type": "code",
   "execution_count": 107,
   "metadata": {},
   "outputs": [],
   "source": [
    "cons_out_failed.to_csv(\"consistency_failed_data.csv\")"
   ]
  },
  {
   "cell_type": "code",
   "execution_count": 108,
   "metadata": {},
   "outputs": [],
   "source": [
    "cons_out_failed.to_excel(\"consistency_failed_data.xlsx\")"
   ]
  },
  {
   "cell_type": "code",
   "execution_count": 109,
   "metadata": {},
   "outputs": [
    {
     "data": {
      "text/plain": [
       "1.278518385"
      ]
     },
     "execution_count": 109,
     "metadata": {},
     "output_type": "execute_result"
    }
   ],
   "source": [
    "abs(cons_out_failed.cp_distance-cons_out_failed.cop_distance).median()"
   ]
  },
  {
   "cell_type": "code",
   "execution_count": 110,
   "metadata": {},
   "outputs": [
    {
     "data": {
      "text/plain": [
       "1.102007355244737"
      ]
     },
     "execution_count": 110,
     "metadata": {},
     "output_type": "execute_result"
    }
   ],
   "source": [
    "abs(cons_out_failed.cp_distance-cons_out_failed.cop_distance).mean()"
   ]
  },
  {
   "cell_type": "code",
   "execution_count": 111,
   "metadata": {},
   "outputs": [
    {
     "data": {
      "text/plain": [
       "1.9830208523"
      ]
     },
     "execution_count": 111,
     "metadata": {},
     "output_type": "execute_result"
    }
   ],
   "source": [
    "abs(cons_out_failed.cp_distance-cons_out_failed.cop_distance).max()"
   ]
  },
  {
   "cell_type": "code",
   "execution_count": 112,
   "metadata": {},
   "outputs": [
    {
     "data": {
      "text/plain": [
       "0.0013897000000000492"
      ]
     },
     "execution_count": 112,
     "metadata": {},
     "output_type": "execute_result"
    }
   ],
   "source": [
    "abs(cons_out_failed.cp_distance-cons_out_failed.cop_distance).min()"
   ]
  },
  {
   "cell_type": "code",
   "execution_count": null,
   "metadata": {},
   "outputs": [],
   "source": []
  },
  {
   "cell_type": "code",
   "execution_count": 113,
   "metadata": {},
   "outputs": [
    {
     "data": {
      "text/plain": [
       "7.688840750000001"
      ]
     },
     "execution_count": 113,
     "metadata": {},
     "output_type": "execute_result"
    }
   ],
   "source": [
    "abs(cons_out_failed.undermine_score-cons_out_failed.support_score).median()"
   ]
  },
  {
   "cell_type": "code",
   "execution_count": 114,
   "metadata": {},
   "outputs": [
    {
     "data": {
      "text/plain": [
       "7.5094224646"
      ]
     },
     "execution_count": 114,
     "metadata": {},
     "output_type": "execute_result"
    }
   ],
   "source": [
    "abs(cons_out_failed.undermine_score-cons_out_failed.support_score).mean()"
   ]
  },
  {
   "cell_type": "code",
   "execution_count": 115,
   "metadata": {},
   "outputs": [
    {
     "data": {
      "text/plain": [
       "16.5979376"
      ]
     },
     "execution_count": 115,
     "metadata": {},
     "output_type": "execute_result"
    }
   ],
   "source": [
    "abs(cons_out_failed.undermine_score-cons_out_failed.support_score).max()"
   ]
  },
  {
   "cell_type": "code",
   "execution_count": 116,
   "metadata": {},
   "outputs": [
    {
     "data": {
      "text/plain": [
       "0.08601858999999998"
      ]
     },
     "execution_count": 116,
     "metadata": {},
     "output_type": "execute_result"
    }
   ],
   "source": [
    "abs(cons_out_failed.undermine_score-cons_out_failed.support_score).min()"
   ]
  },
  {
   "cell_type": "code",
   "execution_count": null,
   "metadata": {},
   "outputs": [],
   "source": []
  },
  {
   "cell_type": "code",
   "execution_count": null,
   "metadata": {},
   "outputs": [],
   "source": []
  },
  {
   "cell_type": "code",
   "execution_count": 117,
   "metadata": {},
   "outputs": [],
   "source": [
    "df_consistency_correct = df_consistency[df_consistency.predict_label==df_consistency.gold]"
   ]
  },
  {
   "cell_type": "code",
   "execution_count": 118,
   "metadata": {},
   "outputs": [
    {
     "data": {
      "text/plain": [
       "9.094334"
      ]
     },
     "execution_count": 118,
     "metadata": {},
     "output_type": "execute_result"
    }
   ],
   "source": [
    "abs(df_consistency_correct.undermine_score-df_consistency_correct.support_score).median()"
   ]
  },
  {
   "cell_type": "code",
   "execution_count": 119,
   "metadata": {},
   "outputs": [
    {
     "data": {
      "text/plain": [
       "9.707779702964732"
      ]
     },
     "execution_count": 119,
     "metadata": {},
     "output_type": "execute_result"
    }
   ],
   "source": [
    "abs(df_consistency_correct.undermine_score-df_consistency_correct.support_score).mean()"
   ]
  },
  {
   "cell_type": "code",
   "execution_count": 120,
   "metadata": {},
   "outputs": [
    {
     "data": {
      "text/plain": [
       "23.471"
      ]
     },
     "execution_count": 120,
     "metadata": {},
     "output_type": "execute_result"
    }
   ],
   "source": [
    "abs(df_consistency_correct.undermine_score-df_consistency_correct.support_score).max()"
   ]
  },
  {
   "cell_type": "code",
   "execution_count": 121,
   "metadata": {},
   "outputs": [
    {
     "data": {
      "text/plain": [
       "0.018043279999999995"
      ]
     },
     "execution_count": 121,
     "metadata": {},
     "output_type": "execute_result"
    }
   ],
   "source": [
    "abs(df_consistency_correct.undermine_score-df_consistency_correct.support_score).min()"
   ]
  },
  {
   "cell_type": "code",
   "execution_count": null,
   "metadata": {},
   "outputs": [],
   "source": []
  },
  {
   "cell_type": "code",
   "execution_count": 122,
   "metadata": {},
   "outputs": [
    {
     "data": {
      "text/plain": [
       "1.6273515704000001"
      ]
     },
     "execution_count": 122,
     "metadata": {},
     "output_type": "execute_result"
    }
   ],
   "source": [
    "abs(df_consistency_correct.cp_distance-df_consistency_correct.cop_distance).median()"
   ]
  },
  {
   "cell_type": "code",
   "execution_count": 123,
   "metadata": {},
   "outputs": [
    {
     "data": {
      "text/plain": [
       "1.3397642599435988"
      ]
     },
     "execution_count": 123,
     "metadata": {},
     "output_type": "execute_result"
    }
   ],
   "source": [
    "abs(df_consistency_correct.cp_distance-df_consistency_correct.cop_distance).mean()"
   ]
  },
  {
   "cell_type": "code",
   "execution_count": 124,
   "metadata": {},
   "outputs": [
    {
     "data": {
      "text/plain": [
       "1.9834033666000002"
      ]
     },
     "execution_count": 124,
     "metadata": {},
     "output_type": "execute_result"
    }
   ],
   "source": [
    "abs(df_consistency_correct.cp_distance-df_consistency_correct.cop_distance).max()"
   ]
  },
  {
   "cell_type": "code",
   "execution_count": 125,
   "metadata": {},
   "outputs": [
    {
     "data": {
      "text/plain": [
       "0.00021850000000001035"
      ]
     },
     "execution_count": 125,
     "metadata": {},
     "output_type": "execute_result"
    }
   ],
   "source": [
    "abs(df_consistency_correct.cp_distance-df_consistency_correct.cop_distance).min()"
   ]
  },
  {
   "cell_type": "code",
   "execution_count": null,
   "metadata": {},
   "outputs": [],
   "source": []
  },
  {
   "cell_type": "code",
   "execution_count": 126,
   "metadata": {},
   "outputs": [],
   "source": [
    "#consistent cases"
   ]
  },
  {
   "cell_type": "code",
   "execution_count": 127,
   "metadata": {},
   "outputs": [
    {
     "data": {
      "text/html": [
       "<div>\n",
       "<style scoped>\n",
       "    .dataframe tbody tr th:only-of-type {\n",
       "        vertical-align: middle;\n",
       "    }\n",
       "\n",
       "    .dataframe tbody tr th {\n",
       "        vertical-align: top;\n",
       "    }\n",
       "\n",
       "    .dataframe thead th {\n",
       "        text-align: right;\n",
       "    }\n",
       "</style>\n",
       "<table border=\"1\" class=\"dataframe\">\n",
       "  <thead>\n",
       "    <tr style=\"text-align: right;\">\n",
       "      <th></th>\n",
       "      <th>undermine_score</th>\n",
       "      <th>support_score</th>\n",
       "      <th>cp_distance</th>\n",
       "      <th>cop_distance</th>\n",
       "      <th>predict_label</th>\n",
       "      <th>distance_label</th>\n",
       "      <th>gold</th>\n",
       "    </tr>\n",
       "  </thead>\n",
       "  <tbody>\n",
       "    <tr>\n",
       "      <th>1</th>\n",
       "      <td>4.980137</td>\n",
       "      <td>-5.918371</td>\n",
       "      <td>1.923178</td>\n",
       "      <td>0.001339</td>\n",
       "      <td>0</td>\n",
       "      <td>0</td>\n",
       "      <td>0</td>\n",
       "    </tr>\n",
       "    <tr>\n",
       "      <th>2</th>\n",
       "      <td>-4.051531</td>\n",
       "      <td>3.098645</td>\n",
       "      <td>0.004558</td>\n",
       "      <td>0.010478</td>\n",
       "      <td>1</td>\n",
       "      <td>1</td>\n",
       "      <td>1</td>\n",
       "    </tr>\n",
       "    <tr>\n",
       "      <th>4</th>\n",
       "      <td>-1.103358</td>\n",
       "      <td>5.317815</td>\n",
       "      <td>0.293655</td>\n",
       "      <td>1.842567</td>\n",
       "      <td>1</td>\n",
       "      <td>1</td>\n",
       "      <td>1</td>\n",
       "    </tr>\n",
       "    <tr>\n",
       "      <th>5</th>\n",
       "      <td>-2.957279</td>\n",
       "      <td>5.612340</td>\n",
       "      <td>0.010343</td>\n",
       "      <td>1.754936</td>\n",
       "      <td>1</td>\n",
       "      <td>1</td>\n",
       "      <td>1</td>\n",
       "    </tr>\n",
       "    <tr>\n",
       "      <th>6</th>\n",
       "      <td>-2.915035</td>\n",
       "      <td>5.855358</td>\n",
       "      <td>0.004241</td>\n",
       "      <td>1.868177</td>\n",
       "      <td>1</td>\n",
       "      <td>1</td>\n",
       "      <td>1</td>\n",
       "    </tr>\n",
       "    <tr>\n",
       "      <th>...</th>\n",
       "      <td>...</td>\n",
       "      <td>...</td>\n",
       "      <td>...</td>\n",
       "      <td>...</td>\n",
       "      <td>...</td>\n",
       "      <td>...</td>\n",
       "      <td>...</td>\n",
       "    </tr>\n",
       "    <tr>\n",
       "      <th>2522</th>\n",
       "      <td>2.155837</td>\n",
       "      <td>-1.537567</td>\n",
       "      <td>1.053408</td>\n",
       "      <td>0.922337</td>\n",
       "      <td>0</td>\n",
       "      <td>0</td>\n",
       "      <td>0</td>\n",
       "    </tr>\n",
       "    <tr>\n",
       "      <th>2523</th>\n",
       "      <td>6.712749</td>\n",
       "      <td>-5.522651</td>\n",
       "      <td>1.332932</td>\n",
       "      <td>0.112898</td>\n",
       "      <td>0</td>\n",
       "      <td>0</td>\n",
       "      <td>0</td>\n",
       "    </tr>\n",
       "    <tr>\n",
       "      <th>2524</th>\n",
       "      <td>-2.778294</td>\n",
       "      <td>2.587539</td>\n",
       "      <td>0.518143</td>\n",
       "      <td>1.368011</td>\n",
       "      <td>1</td>\n",
       "      <td>1</td>\n",
       "      <td>1</td>\n",
       "    </tr>\n",
       "    <tr>\n",
       "      <th>2525</th>\n",
       "      <td>-3.157147</td>\n",
       "      <td>3.050995</td>\n",
       "      <td>0.483791</td>\n",
       "      <td>1.372143</td>\n",
       "      <td>1</td>\n",
       "      <td>1</td>\n",
       "      <td>1</td>\n",
       "    </tr>\n",
       "    <tr>\n",
       "      <th>2526</th>\n",
       "      <td>0.692743</td>\n",
       "      <td>0.942525</td>\n",
       "      <td>0.609729</td>\n",
       "      <td>0.659963</td>\n",
       "      <td>1</td>\n",
       "      <td>1</td>\n",
       "      <td>1</td>\n",
       "    </tr>\n",
       "  </tbody>\n",
       "</table>\n",
       "<p>2189 rows × 7 columns</p>\n",
       "</div>"
      ],
      "text/plain": [
       "      undermine_score  support_score  cp_distance  cop_distance  \\\n",
       "1            4.980137      -5.918371     1.923178      0.001339   \n",
       "2           -4.051531       3.098645     0.004558      0.010478   \n",
       "4           -1.103358       5.317815     0.293655      1.842567   \n",
       "5           -2.957279       5.612340     0.010343      1.754936   \n",
       "6           -2.915035       5.855358     0.004241      1.868177   \n",
       "...               ...            ...          ...           ...   \n",
       "2522         2.155837      -1.537567     1.053408      0.922337   \n",
       "2523         6.712749      -5.522651     1.332932      0.112898   \n",
       "2524        -2.778294       2.587539     0.518143      1.368011   \n",
       "2525        -3.157147       3.050995     0.483791      1.372143   \n",
       "2526         0.692743       0.942525     0.609729      0.659963   \n",
       "\n",
       "      predict_label  distance_label  gold  \n",
       "1                 0               0     0  \n",
       "2                 1               1     1  \n",
       "4                 1               1     1  \n",
       "5                 1               1     1  \n",
       "6                 1               1     1  \n",
       "...             ...             ...   ...  \n",
       "2522              0               0     0  \n",
       "2523              0               0     0  \n",
       "2524              1               1     1  \n",
       "2525              1               1     1  \n",
       "2526              1               1     1  \n",
       "\n",
       "[2189 rows x 7 columns]"
      ]
     },
     "execution_count": 127,
     "metadata": {},
     "output_type": "execute_result"
    }
   ],
   "source": [
    "df_consistency"
   ]
  },
  {
   "cell_type": "code",
   "execution_count": 128,
   "metadata": {},
   "outputs": [],
   "source": [
    "df_consistency.to_csv(\"consistency_data.csv\",index=False)"
   ]
  },
  {
   "cell_type": "code",
   "execution_count": 129,
   "metadata": {},
   "outputs": [],
   "source": [
    "df_consistency.to_excel(\"consistency_data.xlsx\",index=False)"
   ]
  },
  {
   "cell_type": "code",
   "execution_count": null,
   "metadata": {},
   "outputs": [],
   "source": []
  },
  {
   "cell_type": "code",
   "execution_count": 130,
   "metadata": {},
   "outputs": [],
   "source": [
    "#consistent cases analysis"
   ]
  },
  {
   "cell_type": "code",
   "execution_count": 131,
   "metadata": {},
   "outputs": [
    {
     "data": {
      "text/plain": [
       "8.884409999999999"
      ]
     },
     "execution_count": 131,
     "metadata": {},
     "output_type": "execute_result"
    }
   ],
   "source": [
    "abs(df_consistency.undermine_score-df_consistency.support_score).median()"
   ]
  },
  {
   "cell_type": "code",
   "execution_count": 132,
   "metadata": {},
   "outputs": [
    {
     "data": {
      "text/plain": [
       "9.326155330841113"
      ]
     },
     "execution_count": 132,
     "metadata": {},
     "output_type": "execute_result"
    }
   ],
   "source": [
    "abs(df_consistency.undermine_score-df_consistency.support_score).mean()"
   ]
  },
  {
   "cell_type": "code",
   "execution_count": 133,
   "metadata": {},
   "outputs": [
    {
     "data": {
      "text/plain": [
       "23.471"
      ]
     },
     "execution_count": 133,
     "metadata": {},
     "output_type": "execute_result"
    }
   ],
   "source": [
    "abs(df_consistency.undermine_score-df_consistency.support_score).max()"
   ]
  },
  {
   "cell_type": "code",
   "execution_count": 134,
   "metadata": {},
   "outputs": [
    {
     "data": {
      "text/plain": [
       "0.018043279999999995"
      ]
     },
     "execution_count": 134,
     "metadata": {},
     "output_type": "execute_result"
    }
   ],
   "source": [
    "abs(df_consistency.undermine_score-df_consistency.support_score).min()"
   ]
  },
  {
   "cell_type": "code",
   "execution_count": null,
   "metadata": {},
   "outputs": [],
   "source": []
  },
  {
   "cell_type": "code",
   "execution_count": 135,
   "metadata": {},
   "outputs": [
    {
     "data": {
      "text/plain": [
       "1.5762243029999998"
      ]
     },
     "execution_count": 135,
     "metadata": {},
     "output_type": "execute_result"
    }
   ],
   "source": [
    "abs(df_consistency.cp_distance-df_consistency.cop_distance).median()"
   ]
  },
  {
   "cell_type": "code",
   "execution_count": 136,
   "metadata": {},
   "outputs": [
    {
     "data": {
      "text/plain": [
       "1.298490790877556"
      ]
     },
     "execution_count": 136,
     "metadata": {},
     "output_type": "execute_result"
    }
   ],
   "source": [
    "abs(df_consistency.cp_distance-df_consistency.cop_distance).mean()"
   ]
  },
  {
   "cell_type": "code",
   "execution_count": 137,
   "metadata": {},
   "outputs": [
    {
     "data": {
      "text/plain": [
       "1.9834033666000002"
      ]
     },
     "execution_count": 137,
     "metadata": {},
     "output_type": "execute_result"
    }
   ],
   "source": [
    "abs(df_consistency.cp_distance-df_consistency.cop_distance).max()"
   ]
  },
  {
   "cell_type": "code",
   "execution_count": 138,
   "metadata": {},
   "outputs": [
    {
     "data": {
      "text/plain": [
       "0.00021850000000001035"
      ]
     },
     "execution_count": 138,
     "metadata": {},
     "output_type": "execute_result"
    }
   ],
   "source": [
    "abs(df_consistency.cp_distance-df_consistency.cop_distance).min()"
   ]
  },
  {
   "cell_type": "code",
   "execution_count": null,
   "metadata": {},
   "outputs": [],
   "source": []
  },
  {
   "cell_type": "code",
   "execution_count": 139,
   "metadata": {},
   "outputs": [],
   "source": [
    "#inconsistent cases analysis"
   ]
  },
  {
   "cell_type": "code",
   "execution_count": 140,
   "metadata": {},
   "outputs": [
    {
     "data": {
      "text/plain": [
       "5.739623600000001"
      ]
     },
     "execution_count": 140,
     "metadata": {},
     "output_type": "execute_result"
    }
   ],
   "source": [
    "abs(df_inconsistency.undermine_score-df_inconsistency.support_score).median()"
   ]
  },
  {
   "cell_type": "code",
   "execution_count": 141,
   "metadata": {},
   "outputs": [
    {
     "data": {
      "text/plain": [
       "5.6546098455106515"
      ]
     },
     "execution_count": 141,
     "metadata": {},
     "output_type": "execute_result"
    }
   ],
   "source": [
    "abs(df_inconsistency.undermine_score-df_inconsistency.support_score).mean()"
   ]
  },
  {
   "cell_type": "code",
   "execution_count": 142,
   "metadata": {},
   "outputs": [
    {
     "data": {
      "text/plain": [
       "18.714413999999998"
      ]
     },
     "execution_count": 142,
     "metadata": {},
     "output_type": "execute_result"
    }
   ],
   "source": [
    "abs(df_inconsistency.undermine_score-df_inconsistency.support_score).max()"
   ]
  },
  {
   "cell_type": "code",
   "execution_count": 143,
   "metadata": {},
   "outputs": [
    {
     "data": {
      "text/plain": [
       "5.6546098455106515"
      ]
     },
     "execution_count": 143,
     "metadata": {},
     "output_type": "execute_result"
    }
   ],
   "source": [
    "abs(df_inconsistency.undermine_score-df_inconsistency.support_score).mean()"
   ]
  },
  {
   "cell_type": "code",
   "execution_count": null,
   "metadata": {},
   "outputs": [],
   "source": []
  },
  {
   "cell_type": "code",
   "execution_count": 144,
   "metadata": {},
   "outputs": [
    {
     "data": {
      "text/plain": [
       "0.10940688000000004"
      ]
     },
     "execution_count": 144,
     "metadata": {},
     "output_type": "execute_result"
    }
   ],
   "source": [
    "abs(df_inconsistency.cp_distance-df_inconsistency.cop_distance).median()"
   ]
  },
  {
   "cell_type": "code",
   "execution_count": 145,
   "metadata": {},
   "outputs": [
    {
     "data": {
      "text/plain": [
       "0.19837472997742606"
      ]
     },
     "execution_count": 145,
     "metadata": {},
     "output_type": "execute_result"
    }
   ],
   "source": [
    "abs(df_inconsistency.cp_distance-df_inconsistency.cop_distance).mean()"
   ]
  },
  {
   "cell_type": "code",
   "execution_count": 146,
   "metadata": {},
   "outputs": [
    {
     "data": {
      "text/plain": [
       "1.0906459599999998"
      ]
     },
     "execution_count": 146,
     "metadata": {},
     "output_type": "execute_result"
    }
   ],
   "source": [
    "abs(df_inconsistency.cp_distance-df_inconsistency.cop_distance).max()"
   ]
  },
  {
   "cell_type": "code",
   "execution_count": 147,
   "metadata": {},
   "outputs": [
    {
     "data": {
      "text/plain": [
       "8.82149999999974e-06"
      ]
     },
     "execution_count": 147,
     "metadata": {},
     "output_type": "execute_result"
    }
   ],
   "source": [
    "abs(df_inconsistency.cp_distance-df_inconsistency.cop_distance).min()"
   ]
  },
  {
   "cell_type": "code",
   "execution_count": null,
   "metadata": {},
   "outputs": [],
   "source": []
  },
  {
   "cell_type": "code",
   "execution_count": 148,
   "metadata": {},
   "outputs": [],
   "source": [
    "# Use the \"distance to median\" to decide final prediction"
   ]
  },
  {
   "cell_type": "code",
   "execution_count": 149,
   "metadata": {
    "scrolled": true
   },
   "outputs": [
    {
     "data": {
      "text/html": [
       "<div>\n",
       "<style scoped>\n",
       "    .dataframe tbody tr th:only-of-type {\n",
       "        vertical-align: middle;\n",
       "    }\n",
       "\n",
       "    .dataframe tbody tr th {\n",
       "        vertical-align: top;\n",
       "    }\n",
       "\n",
       "    .dataframe thead th {\n",
       "        text-align: right;\n",
       "    }\n",
       "</style>\n",
       "<table border=\"1\" class=\"dataframe\">\n",
       "  <thead>\n",
       "    <tr style=\"text-align: right;\">\n",
       "      <th></th>\n",
       "      <th>undermine_score</th>\n",
       "      <th>support_score</th>\n",
       "      <th>cp_distance</th>\n",
       "      <th>cop_distance</th>\n",
       "      <th>predict_label</th>\n",
       "      <th>distance_label</th>\n",
       "      <th>gold</th>\n",
       "    </tr>\n",
       "  </thead>\n",
       "  <tbody>\n",
       "    <tr>\n",
       "      <th>0</th>\n",
       "      <td>-4.223587</td>\n",
       "      <td>3.430138</td>\n",
       "      <td>0.020014</td>\n",
       "      <td>0.012879</td>\n",
       "      <td>1</td>\n",
       "      <td>0</td>\n",
       "      <td>1</td>\n",
       "    </tr>\n",
       "    <tr>\n",
       "      <th>3</th>\n",
       "      <td>-1.659985</td>\n",
       "      <td>2.563246</td>\n",
       "      <td>0.277413</td>\n",
       "      <td>0.157976</td>\n",
       "      <td>1</td>\n",
       "      <td>0</td>\n",
       "      <td>1</td>\n",
       "    </tr>\n",
       "    <tr>\n",
       "      <th>59</th>\n",
       "      <td>6.975863</td>\n",
       "      <td>-2.372392</td>\n",
       "      <td>1.920776</td>\n",
       "      <td>1.928768</td>\n",
       "      <td>0</td>\n",
       "      <td>1</td>\n",
       "      <td>1</td>\n",
       "    </tr>\n",
       "    <tr>\n",
       "      <th>73</th>\n",
       "      <td>1.812300</td>\n",
       "      <td>-0.927047</td>\n",
       "      <td>1.096693</td>\n",
       "      <td>1.661179</td>\n",
       "      <td>0</td>\n",
       "      <td>1</td>\n",
       "      <td>1</td>\n",
       "    </tr>\n",
       "    <tr>\n",
       "      <th>78</th>\n",
       "      <td>2.363664</td>\n",
       "      <td>-1.478531</td>\n",
       "      <td>1.179334</td>\n",
       "      <td>1.422178</td>\n",
       "      <td>0</td>\n",
       "      <td>1</td>\n",
       "      <td>1</td>\n",
       "    </tr>\n",
       "    <tr>\n",
       "      <th>...</th>\n",
       "      <td>...</td>\n",
       "      <td>...</td>\n",
       "      <td>...</td>\n",
       "      <td>...</td>\n",
       "      <td>...</td>\n",
       "      <td>...</td>\n",
       "      <td>...</td>\n",
       "    </tr>\n",
       "    <tr>\n",
       "      <th>2480</th>\n",
       "      <td>-3.776413</td>\n",
       "      <td>2.909049</td>\n",
       "      <td>0.075312</td>\n",
       "      <td>0.017392</td>\n",
       "      <td>1</td>\n",
       "      <td>0</td>\n",
       "      <td>0</td>\n",
       "    </tr>\n",
       "    <tr>\n",
       "      <th>2503</th>\n",
       "      <td>0.627612</td>\n",
       "      <td>-0.557652</td>\n",
       "      <td>0.694943</td>\n",
       "      <td>1.455035</td>\n",
       "      <td>0</td>\n",
       "      <td>1</td>\n",
       "      <td>0</td>\n",
       "    </tr>\n",
       "    <tr>\n",
       "      <th>2506</th>\n",
       "      <td>2.762536</td>\n",
       "      <td>-1.856774</td>\n",
       "      <td>0.735328</td>\n",
       "      <td>0.786035</td>\n",
       "      <td>0</td>\n",
       "      <td>1</td>\n",
       "      <td>0</td>\n",
       "    </tr>\n",
       "    <tr>\n",
       "      <th>2513</th>\n",
       "      <td>0.033896</td>\n",
       "      <td>-0.449516</td>\n",
       "      <td>0.755636</td>\n",
       "      <td>1.142089</td>\n",
       "      <td>0</td>\n",
       "      <td>1</td>\n",
       "      <td>1</td>\n",
       "    </tr>\n",
       "    <tr>\n",
       "      <th>2521</th>\n",
       "      <td>3.317570</td>\n",
       "      <td>-3.755074</td>\n",
       "      <td>1.281456</td>\n",
       "      <td>1.372968</td>\n",
       "      <td>0</td>\n",
       "      <td>1</td>\n",
       "      <td>0</td>\n",
       "    </tr>\n",
       "  </tbody>\n",
       "</table>\n",
       "<p>338 rows × 7 columns</p>\n",
       "</div>"
      ],
      "text/plain": [
       "      undermine_score  support_score  cp_distance  cop_distance  \\\n",
       "0           -4.223587       3.430138     0.020014      0.012879   \n",
       "3           -1.659985       2.563246     0.277413      0.157976   \n",
       "59           6.975863      -2.372392     1.920776      1.928768   \n",
       "73           1.812300      -0.927047     1.096693      1.661179   \n",
       "78           2.363664      -1.478531     1.179334      1.422178   \n",
       "...               ...            ...          ...           ...   \n",
       "2480        -3.776413       2.909049     0.075312      0.017392   \n",
       "2503         0.627612      -0.557652     0.694943      1.455035   \n",
       "2506         2.762536      -1.856774     0.735328      0.786035   \n",
       "2513         0.033896      -0.449516     0.755636      1.142089   \n",
       "2521         3.317570      -3.755074     1.281456      1.372968   \n",
       "\n",
       "      predict_label  distance_label  gold  \n",
       "0                 1               0     1  \n",
       "3                 1               0     1  \n",
       "59                0               1     1  \n",
       "73                0               1     1  \n",
       "78                0               1     1  \n",
       "...             ...             ...   ...  \n",
       "2480              1               0     0  \n",
       "2503              0               1     0  \n",
       "2506              0               1     0  \n",
       "2513              0               1     1  \n",
       "2521              0               1     0  \n",
       "\n",
       "[338 rows x 7 columns]"
      ]
     },
     "execution_count": 149,
     "metadata": {},
     "output_type": "execute_result"
    }
   ],
   "source": [
    "df_inconsistency"
   ]
  },
  {
   "cell_type": "code",
   "execution_count": 150,
   "metadata": {},
   "outputs": [],
   "source": [
    "dwrong_lcorrect_logits_median = abs(dwrong_lcorrect_out.undermine_score-dwrong_lcorrect_out.support_score).median()\n",
    "dwrong_lcorrect_logits_mean = abs(dwrong_lcorrect_out.undermine_score-dwrong_lcorrect_out.support_score).mean()"
   ]
  },
  {
   "cell_type": "code",
   "execution_count": 151,
   "metadata": {},
   "outputs": [],
   "source": [
    "# dcorrect_lwrong_logits_median = abs(dcorrect_lwrong_out.undermine_score-dcorrect_lwrong_out.support_score).median()"
   ]
  },
  {
   "cell_type": "code",
   "execution_count": null,
   "metadata": {},
   "outputs": [],
   "source": []
  },
  {
   "cell_type": "code",
   "execution_count": 152,
   "metadata": {},
   "outputs": [],
   "source": [
    "# dwrong_lcorrect_distance_median = abs(dwrong_lcorrect_out.cp_distance-dwrong_lcorrect_out.cop_distance).median()"
   ]
  },
  {
   "cell_type": "code",
   "execution_count": 153,
   "metadata": {},
   "outputs": [],
   "source": [
    "dcorrect_lwrong_distance_median = abs(dcorrect_lwrong_out.cp_distance-dcorrect_lwrong_out.cop_distance).median()\n",
    "dcorrect_lwrong_distance_mean = abs(dcorrect_lwrong_out.cp_distance-dcorrect_lwrong_out.cop_distance).mean()"
   ]
  },
  {
   "cell_type": "code",
   "execution_count": null,
   "metadata": {},
   "outputs": [],
   "source": []
  },
  {
   "cell_type": "code",
   "execution_count": 154,
   "metadata": {},
   "outputs": [],
   "source": [
    "distance_to_logits_median = abs(abs(df_inconsistency.undermine_score-df_inconsistency.support_score)-dwrong_lcorrect_logits_median)\n",
    "distance_to_logits_mean = abs(abs(df_inconsistency.undermine_score-df_inconsistency.support_score)-dwrong_lcorrect_logits_mean)"
   ]
  },
  {
   "cell_type": "code",
   "execution_count": 155,
   "metadata": {},
   "outputs": [],
   "source": [
    "# df_inconsistency[\"distance_to_logtis\"] = (distance_to_logits_median-distance_to_logits_median.min())/(distance_to_logits_median.max()-distance_to_logits_median.min())"
   ]
  },
  {
   "cell_type": "code",
   "execution_count": 156,
   "metadata": {},
   "outputs": [
    {
     "name": "stderr",
     "output_type": "stream",
     "text": [
      "C:\\Users\\arsen\\AppData\\Roaming\\Python\\Python37\\site-packages\\ipykernel_launcher.py:1: SettingWithCopyWarning: \n",
      "A value is trying to be set on a copy of a slice from a DataFrame.\n",
      "Try using .loc[row_indexer,col_indexer] = value instead\n",
      "\n",
      "See the caveats in the documentation: https://pandas.pydata.org/pandas-docs/stable/user_guide/indexing.html#returning-a-view-versus-a-copy\n",
      "  \"\"\"Entry point for launching an IPython kernel.\n"
     ]
    }
   ],
   "source": [
    "df_inconsistency[\"distance_to_logtis\"] = (distance_to_logits_mean-distance_to_logits_mean.min())/(distance_to_logits_mean.max()-distance_to_logits_mean.min())"
   ]
  },
  {
   "cell_type": "code",
   "execution_count": null,
   "metadata": {},
   "outputs": [],
   "source": []
  },
  {
   "cell_type": "code",
   "execution_count": 157,
   "metadata": {},
   "outputs": [],
   "source": [
    "distance_to_distance_median = abs(abs(df_inconsistency.cp_distance-df_inconsistency.cop_distance)-dcorrect_lwrong_distance_median)\n",
    "distance_to_distance_mean = abs(abs(df_inconsistency.cp_distance-df_inconsistency.cop_distance)-dcorrect_lwrong_distance_mean)"
   ]
  },
  {
   "cell_type": "code",
   "execution_count": 158,
   "metadata": {},
   "outputs": [],
   "source": [
    "# df_inconsistency[\"distance_to_distance\"] = (distance_to_distance_median-distance_to_distance_median.min())/(distance_to_distance_median.max()-distance_to_distance_median.min())"
   ]
  },
  {
   "cell_type": "code",
   "execution_count": 159,
   "metadata": {},
   "outputs": [
    {
     "name": "stderr",
     "output_type": "stream",
     "text": [
      "C:\\Users\\arsen\\AppData\\Roaming\\Python\\Python37\\site-packages\\ipykernel_launcher.py:1: SettingWithCopyWarning: \n",
      "A value is trying to be set on a copy of a slice from a DataFrame.\n",
      "Try using .loc[row_indexer,col_indexer] = value instead\n",
      "\n",
      "See the caveats in the documentation: https://pandas.pydata.org/pandas-docs/stable/user_guide/indexing.html#returning-a-view-versus-a-copy\n",
      "  \"\"\"Entry point for launching an IPython kernel.\n"
     ]
    }
   ],
   "source": [
    "df_inconsistency[\"distance_to_distance\"] = (distance_to_distance_mean-distance_to_distance_mean.min())/(distance_to_distance_mean.max()-distance_to_distance_mean.min())"
   ]
  },
  {
   "cell_type": "code",
   "execution_count": 160,
   "metadata": {},
   "outputs": [
    {
     "data": {
      "text/html": [
       "<div>\n",
       "<style scoped>\n",
       "    .dataframe tbody tr th:only-of-type {\n",
       "        vertical-align: middle;\n",
       "    }\n",
       "\n",
       "    .dataframe tbody tr th {\n",
       "        vertical-align: top;\n",
       "    }\n",
       "\n",
       "    .dataframe thead th {\n",
       "        text-align: right;\n",
       "    }\n",
       "</style>\n",
       "<table border=\"1\" class=\"dataframe\">\n",
       "  <thead>\n",
       "    <tr style=\"text-align: right;\">\n",
       "      <th></th>\n",
       "      <th>undermine_score</th>\n",
       "      <th>support_score</th>\n",
       "      <th>cp_distance</th>\n",
       "      <th>cop_distance</th>\n",
       "      <th>predict_label</th>\n",
       "      <th>distance_label</th>\n",
       "      <th>gold</th>\n",
       "      <th>distance_to_logtis</th>\n",
       "      <th>distance_to_distance</th>\n",
       "    </tr>\n",
       "  </thead>\n",
       "  <tbody>\n",
       "    <tr>\n",
       "      <th>0</th>\n",
       "      <td>-4.223587</td>\n",
       "      <td>3.430138</td>\n",
       "      <td>0.020014</td>\n",
       "      <td>0.012879</td>\n",
       "      <td>1</td>\n",
       "      <td>0</td>\n",
       "      <td>1</td>\n",
       "      <td>0.108529</td>\n",
       "      <td>0.284723</td>\n",
       "    </tr>\n",
       "    <tr>\n",
       "      <th>3</th>\n",
       "      <td>-1.659985</td>\n",
       "      <td>2.563246</td>\n",
       "      <td>0.277413</td>\n",
       "      <td>0.157976</td>\n",
       "      <td>1</td>\n",
       "      <td>0</td>\n",
       "      <td>1</td>\n",
       "      <td>0.167804</td>\n",
       "      <td>0.151542</td>\n",
       "    </tr>\n",
       "    <tr>\n",
       "      <th>59</th>\n",
       "      <td>6.975863</td>\n",
       "      <td>-2.372392</td>\n",
       "      <td>1.920776</td>\n",
       "      <td>1.928768</td>\n",
       "      <td>0</td>\n",
       "      <td>1</td>\n",
       "      <td>1</td>\n",
       "      <td>0.245105</td>\n",
       "      <td>0.283707</td>\n",
       "    </tr>\n",
       "    <tr>\n",
       "      <th>73</th>\n",
       "      <td>1.812300</td>\n",
       "      <td>-0.927047</td>\n",
       "      <td>1.096693</td>\n",
       "      <td>1.661179</td>\n",
       "      <td>0</td>\n",
       "      <td>1</td>\n",
       "      <td>1</td>\n",
       "      <td>0.287402</td>\n",
       "      <td>0.376012</td>\n",
       "    </tr>\n",
       "    <tr>\n",
       "      <th>78</th>\n",
       "      <td>2.363664</td>\n",
       "      <td>-1.478531</td>\n",
       "      <td>1.179334</td>\n",
       "      <td>1.422178</td>\n",
       "      <td>0</td>\n",
       "      <td>1</td>\n",
       "      <td>1</td>\n",
       "      <td>0.198515</td>\n",
       "      <td>0.005190</td>\n",
       "    </tr>\n",
       "    <tr>\n",
       "      <th>...</th>\n",
       "      <td>...</td>\n",
       "      <td>...</td>\n",
       "      <td>...</td>\n",
       "      <td>...</td>\n",
       "      <td>...</td>\n",
       "      <td>...</td>\n",
       "      <td>...</td>\n",
       "      <td>...</td>\n",
       "      <td>...</td>\n",
       "    </tr>\n",
       "    <tr>\n",
       "      <th>2480</th>\n",
       "      <td>-3.776413</td>\n",
       "      <td>2.909049</td>\n",
       "      <td>0.075312</td>\n",
       "      <td>0.017392</td>\n",
       "      <td>1</td>\n",
       "      <td>0</td>\n",
       "      <td>0</td>\n",
       "      <td>0.030489</td>\n",
       "      <td>0.224496</td>\n",
       "    </tr>\n",
       "    <tr>\n",
       "      <th>2503</th>\n",
       "      <td>0.627612</td>\n",
       "      <td>-0.557652</td>\n",
       "      <td>0.694943</td>\n",
       "      <td>1.455035</td>\n",
       "      <td>0</td>\n",
       "      <td>1</td>\n",
       "      <td>0</td>\n",
       "      <td>0.412658</td>\n",
       "      <td>0.607985</td>\n",
       "    </tr>\n",
       "    <tr>\n",
       "      <th>2506</th>\n",
       "      <td>2.762536</td>\n",
       "      <td>-1.856774</td>\n",
       "      <td>0.735328</td>\n",
       "      <td>0.786035</td>\n",
       "      <td>0</td>\n",
       "      <td>1</td>\n",
       "      <td>0</td>\n",
       "      <td>0.135881</td>\n",
       "      <td>0.233051</td>\n",
       "    </tr>\n",
       "    <tr>\n",
       "      <th>2513</th>\n",
       "      <td>0.033896</td>\n",
       "      <td>-0.449516</td>\n",
       "      <td>0.755636</td>\n",
       "      <td>1.142089</td>\n",
       "      <td>0</td>\n",
       "      <td>1</td>\n",
       "      <td>1</td>\n",
       "      <td>0.469226</td>\n",
       "      <td>0.164878</td>\n",
       "    </tr>\n",
       "    <tr>\n",
       "      <th>2521</th>\n",
       "      <td>3.317570</td>\n",
       "      <td>-3.755074</td>\n",
       "      <td>1.281456</td>\n",
       "      <td>1.372968</td>\n",
       "      <td>0</td>\n",
       "      <td>1</td>\n",
       "      <td>0</td>\n",
       "      <td>0.061695</td>\n",
       "      <td>0.184659</td>\n",
       "    </tr>\n",
       "  </tbody>\n",
       "</table>\n",
       "<p>338 rows × 9 columns</p>\n",
       "</div>"
      ],
      "text/plain": [
       "      undermine_score  support_score  cp_distance  cop_distance  \\\n",
       "0           -4.223587       3.430138     0.020014      0.012879   \n",
       "3           -1.659985       2.563246     0.277413      0.157976   \n",
       "59           6.975863      -2.372392     1.920776      1.928768   \n",
       "73           1.812300      -0.927047     1.096693      1.661179   \n",
       "78           2.363664      -1.478531     1.179334      1.422178   \n",
       "...               ...            ...          ...           ...   \n",
       "2480        -3.776413       2.909049     0.075312      0.017392   \n",
       "2503         0.627612      -0.557652     0.694943      1.455035   \n",
       "2506         2.762536      -1.856774     0.735328      0.786035   \n",
       "2513         0.033896      -0.449516     0.755636      1.142089   \n",
       "2521         3.317570      -3.755074     1.281456      1.372968   \n",
       "\n",
       "      predict_label  distance_label  gold  distance_to_logtis  \\\n",
       "0                 1               0     1            0.108529   \n",
       "3                 1               0     1            0.167804   \n",
       "59                0               1     1            0.245105   \n",
       "73                0               1     1            0.287402   \n",
       "78                0               1     1            0.198515   \n",
       "...             ...             ...   ...                 ...   \n",
       "2480              1               0     0            0.030489   \n",
       "2503              0               1     0            0.412658   \n",
       "2506              0               1     0            0.135881   \n",
       "2513              0               1     1            0.469226   \n",
       "2521              0               1     0            0.061695   \n",
       "\n",
       "      distance_to_distance  \n",
       "0                 0.284723  \n",
       "3                 0.151542  \n",
       "59                0.283707  \n",
       "73                0.376012  \n",
       "78                0.005190  \n",
       "...                    ...  \n",
       "2480              0.224496  \n",
       "2503              0.607985  \n",
       "2506              0.233051  \n",
       "2513              0.164878  \n",
       "2521              0.184659  \n",
       "\n",
       "[338 rows x 9 columns]"
      ]
     },
     "execution_count": 160,
     "metadata": {},
     "output_type": "execute_result"
    }
   ],
   "source": [
    "df_inconsistency"
   ]
  },
  {
   "cell_type": "code",
   "execution_count": 161,
   "metadata": {},
   "outputs": [],
   "source": [
    "import numpy as np"
   ]
  },
  {
   "cell_type": "code",
   "execution_count": 162,
   "metadata": {},
   "outputs": [
    {
     "name": "stderr",
     "output_type": "stream",
     "text": [
      "C:\\Users\\arsen\\AppData\\Roaming\\Python\\Python37\\site-packages\\ipykernel_launcher.py:1: SettingWithCopyWarning: \n",
      "A value is trying to be set on a copy of a slice from a DataFrame.\n",
      "Try using .loc[row_indexer,col_indexer] = value instead\n",
      "\n",
      "See the caveats in the documentation: https://pandas.pydata.org/pandas-docs/stable/user_guide/indexing.html#returning-a-view-versus-a-copy\n",
      "  \"\"\"Entry point for launching an IPython kernel.\n"
     ]
    }
   ],
   "source": [
    "df_inconsistency[\"final_label\"]=df_inconsistency.apply(lambda x: x.distance_label if x.distance_to_distance<x.distance_to_logtis else x.predict_label, axis=1)"
   ]
  },
  {
   "cell_type": "code",
   "execution_count": 163,
   "metadata": {},
   "outputs": [],
   "source": [
    "# df_inconsistency[\"final_label\"]=df_inconsistency.apply(lambda x: x.distance_label if x.distance_to_distance+0.01<x.distance_to_logtis else x.predict_label, axis=1)"
   ]
  },
  {
   "cell_type": "code",
   "execution_count": 164,
   "metadata": {},
   "outputs": [
    {
     "data": {
      "text/html": [
       "<div>\n",
       "<style scoped>\n",
       "    .dataframe tbody tr th:only-of-type {\n",
       "        vertical-align: middle;\n",
       "    }\n",
       "\n",
       "    .dataframe tbody tr th {\n",
       "        vertical-align: top;\n",
       "    }\n",
       "\n",
       "    .dataframe thead th {\n",
       "        text-align: right;\n",
       "    }\n",
       "</style>\n",
       "<table border=\"1\" class=\"dataframe\">\n",
       "  <thead>\n",
       "    <tr style=\"text-align: right;\">\n",
       "      <th></th>\n",
       "      <th>undermine_score</th>\n",
       "      <th>support_score</th>\n",
       "      <th>cp_distance</th>\n",
       "      <th>cop_distance</th>\n",
       "      <th>predict_label</th>\n",
       "      <th>distance_label</th>\n",
       "      <th>gold</th>\n",
       "      <th>distance_to_logtis</th>\n",
       "      <th>distance_to_distance</th>\n",
       "      <th>final_label</th>\n",
       "    </tr>\n",
       "  </thead>\n",
       "  <tbody>\n",
       "    <tr>\n",
       "      <th>0</th>\n",
       "      <td>-4.223587</td>\n",
       "      <td>3.430138</td>\n",
       "      <td>0.020014</td>\n",
       "      <td>0.012879</td>\n",
       "      <td>1</td>\n",
       "      <td>0</td>\n",
       "      <td>1</td>\n",
       "      <td>0.108529</td>\n",
       "      <td>0.284723</td>\n",
       "      <td>1.0</td>\n",
       "    </tr>\n",
       "    <tr>\n",
       "      <th>3</th>\n",
       "      <td>-1.659985</td>\n",
       "      <td>2.563246</td>\n",
       "      <td>0.277413</td>\n",
       "      <td>0.157976</td>\n",
       "      <td>1</td>\n",
       "      <td>0</td>\n",
       "      <td>1</td>\n",
       "      <td>0.167804</td>\n",
       "      <td>0.151542</td>\n",
       "      <td>0.0</td>\n",
       "    </tr>\n",
       "    <tr>\n",
       "      <th>59</th>\n",
       "      <td>6.975863</td>\n",
       "      <td>-2.372392</td>\n",
       "      <td>1.920776</td>\n",
       "      <td>1.928768</td>\n",
       "      <td>0</td>\n",
       "      <td>1</td>\n",
       "      <td>1</td>\n",
       "      <td>0.245105</td>\n",
       "      <td>0.283707</td>\n",
       "      <td>0.0</td>\n",
       "    </tr>\n",
       "    <tr>\n",
       "      <th>73</th>\n",
       "      <td>1.812300</td>\n",
       "      <td>-0.927047</td>\n",
       "      <td>1.096693</td>\n",
       "      <td>1.661179</td>\n",
       "      <td>0</td>\n",
       "      <td>1</td>\n",
       "      <td>1</td>\n",
       "      <td>0.287402</td>\n",
       "      <td>0.376012</td>\n",
       "      <td>0.0</td>\n",
       "    </tr>\n",
       "    <tr>\n",
       "      <th>78</th>\n",
       "      <td>2.363664</td>\n",
       "      <td>-1.478531</td>\n",
       "      <td>1.179334</td>\n",
       "      <td>1.422178</td>\n",
       "      <td>0</td>\n",
       "      <td>1</td>\n",
       "      <td>1</td>\n",
       "      <td>0.198515</td>\n",
       "      <td>0.005190</td>\n",
       "      <td>1.0</td>\n",
       "    </tr>\n",
       "    <tr>\n",
       "      <th>...</th>\n",
       "      <td>...</td>\n",
       "      <td>...</td>\n",
       "      <td>...</td>\n",
       "      <td>...</td>\n",
       "      <td>...</td>\n",
       "      <td>...</td>\n",
       "      <td>...</td>\n",
       "      <td>...</td>\n",
       "      <td>...</td>\n",
       "      <td>...</td>\n",
       "    </tr>\n",
       "    <tr>\n",
       "      <th>2480</th>\n",
       "      <td>-3.776413</td>\n",
       "      <td>2.909049</td>\n",
       "      <td>0.075312</td>\n",
       "      <td>0.017392</td>\n",
       "      <td>1</td>\n",
       "      <td>0</td>\n",
       "      <td>0</td>\n",
       "      <td>0.030489</td>\n",
       "      <td>0.224496</td>\n",
       "      <td>1.0</td>\n",
       "    </tr>\n",
       "    <tr>\n",
       "      <th>2503</th>\n",
       "      <td>0.627612</td>\n",
       "      <td>-0.557652</td>\n",
       "      <td>0.694943</td>\n",
       "      <td>1.455035</td>\n",
       "      <td>0</td>\n",
       "      <td>1</td>\n",
       "      <td>0</td>\n",
       "      <td>0.412658</td>\n",
       "      <td>0.607985</td>\n",
       "      <td>0.0</td>\n",
       "    </tr>\n",
       "    <tr>\n",
       "      <th>2506</th>\n",
       "      <td>2.762536</td>\n",
       "      <td>-1.856774</td>\n",
       "      <td>0.735328</td>\n",
       "      <td>0.786035</td>\n",
       "      <td>0</td>\n",
       "      <td>1</td>\n",
       "      <td>0</td>\n",
       "      <td>0.135881</td>\n",
       "      <td>0.233051</td>\n",
       "      <td>0.0</td>\n",
       "    </tr>\n",
       "    <tr>\n",
       "      <th>2513</th>\n",
       "      <td>0.033896</td>\n",
       "      <td>-0.449516</td>\n",
       "      <td>0.755636</td>\n",
       "      <td>1.142089</td>\n",
       "      <td>0</td>\n",
       "      <td>1</td>\n",
       "      <td>1</td>\n",
       "      <td>0.469226</td>\n",
       "      <td>0.164878</td>\n",
       "      <td>1.0</td>\n",
       "    </tr>\n",
       "    <tr>\n",
       "      <th>2521</th>\n",
       "      <td>3.317570</td>\n",
       "      <td>-3.755074</td>\n",
       "      <td>1.281456</td>\n",
       "      <td>1.372968</td>\n",
       "      <td>0</td>\n",
       "      <td>1</td>\n",
       "      <td>0</td>\n",
       "      <td>0.061695</td>\n",
       "      <td>0.184659</td>\n",
       "      <td>0.0</td>\n",
       "    </tr>\n",
       "  </tbody>\n",
       "</table>\n",
       "<p>338 rows × 10 columns</p>\n",
       "</div>"
      ],
      "text/plain": [
       "      undermine_score  support_score  cp_distance  cop_distance  \\\n",
       "0           -4.223587       3.430138     0.020014      0.012879   \n",
       "3           -1.659985       2.563246     0.277413      0.157976   \n",
       "59           6.975863      -2.372392     1.920776      1.928768   \n",
       "73           1.812300      -0.927047     1.096693      1.661179   \n",
       "78           2.363664      -1.478531     1.179334      1.422178   \n",
       "...               ...            ...          ...           ...   \n",
       "2480        -3.776413       2.909049     0.075312      0.017392   \n",
       "2503         0.627612      -0.557652     0.694943      1.455035   \n",
       "2506         2.762536      -1.856774     0.735328      0.786035   \n",
       "2513         0.033896      -0.449516     0.755636      1.142089   \n",
       "2521         3.317570      -3.755074     1.281456      1.372968   \n",
       "\n",
       "      predict_label  distance_label  gold  distance_to_logtis  \\\n",
       "0                 1               0     1            0.108529   \n",
       "3                 1               0     1            0.167804   \n",
       "59                0               1     1            0.245105   \n",
       "73                0               1     1            0.287402   \n",
       "78                0               1     1            0.198515   \n",
       "...             ...             ...   ...                 ...   \n",
       "2480              1               0     0            0.030489   \n",
       "2503              0               1     0            0.412658   \n",
       "2506              0               1     0            0.135881   \n",
       "2513              0               1     1            0.469226   \n",
       "2521              0               1     0            0.061695   \n",
       "\n",
       "      distance_to_distance  final_label  \n",
       "0                 0.284723          1.0  \n",
       "3                 0.151542          0.0  \n",
       "59                0.283707          0.0  \n",
       "73                0.376012          0.0  \n",
       "78                0.005190          1.0  \n",
       "...                    ...          ...  \n",
       "2480              0.224496          1.0  \n",
       "2503              0.607985          0.0  \n",
       "2506              0.233051          0.0  \n",
       "2513              0.164878          1.0  \n",
       "2521              0.184659          0.0  \n",
       "\n",
       "[338 rows x 10 columns]"
      ]
     },
     "execution_count": 164,
     "metadata": {},
     "output_type": "execute_result"
    }
   ],
   "source": [
    "df_inconsistency"
   ]
  },
  {
   "cell_type": "code",
   "execution_count": 165,
   "metadata": {},
   "outputs": [
    {
     "data": {
      "text/plain": [
       "0.6287262872628726"
      ]
     },
     "execution_count": 165,
     "metadata": {},
     "output_type": "execute_result"
    }
   ],
   "source": [
    "f1_score(df_inconsistency.gold,df_inconsistency.final_label)"
   ]
  },
  {
   "cell_type": "code",
   "execution_count": 166,
   "metadata": {},
   "outputs": [
    {
     "data": {
      "text/plain": [
       "0.5696202531645569"
      ]
     },
     "execution_count": 166,
     "metadata": {},
     "output_type": "execute_result"
    }
   ],
   "source": [
    "f1_score(df_inconsistency.gold,df_inconsistency.predict_label)"
   ]
  },
  {
   "cell_type": "code",
   "execution_count": 167,
   "metadata": {},
   "outputs": [
    {
     "data": {
      "text/plain": [
       "0.49246231155778897"
      ]
     },
     "execution_count": 167,
     "metadata": {},
     "output_type": "execute_result"
    }
   ],
   "source": [
    "f1_score(df_inconsistency.gold,df_inconsistency.distance_label)"
   ]
  },
  {
   "cell_type": "code",
   "execution_count": null,
   "metadata": {},
   "outputs": [],
   "source": []
  }
 ],
 "metadata": {
  "kernelspec": {
   "display_name": "TensorFlow-GPU",
   "language": "python",
   "name": "tf-gpu"
  },
  "language_info": {
   "codemirror_mode": {
    "name": "ipython",
    "version": 3
   },
   "file_extension": ".py",
   "mimetype": "text/x-python",
   "name": "python",
   "nbconvert_exporter": "python",
   "pygments_lexer": "ipython3",
   "version": "3.7.6"
  }
 },
 "nbformat": 4,
 "nbformat_minor": 2
}
