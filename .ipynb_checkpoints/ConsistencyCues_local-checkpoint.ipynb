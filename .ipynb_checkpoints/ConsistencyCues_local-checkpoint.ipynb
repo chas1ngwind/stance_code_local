{
 "cells": [
  {
   "cell_type": "code",
   "execution_count": 9,
   "metadata": {},
   "outputs": [],
   "source": [
    "import torch\n",
    "import random\n",
    "import numpy as np\n",
    "import os\n",
    "\n",
    "from tqdm import tqdm, trange\n",
    "# torch.cuda.empty_cache()\n",
    "from torch.utils.data import TensorDataset, DataLoader, RandomSampler, SequentialSampler\n",
    "from pytorch_pretrained_bert.optimization import BertAdam\n",
    "# from pytorch_pretrained_bert.tokenization import BertTokenizer, WordpieceTokenizer"
   ]
  },
  {
   "cell_type": "code",
   "execution_count": 10,
   "metadata": {},
   "outputs": [],
   "source": [
    "from run_classifier import ColaProcessor, MrpcProcessor, logger, convert_examples_to_features,\\\n",
    "    set_optimizer_params_grad, copy_optimizer_params_to_model, accuracy, p_r_f1, tp_pcount_gcount, convert_claims_to_features"
   ]
  },
  {
   "cell_type": "code",
   "execution_count": 11,
   "metadata": {},
   "outputs": [
    {
     "name": "stdout",
     "output_type": "stream",
     "text": [
      "There are 1 GPU(s) available.\n",
      "We will use the GPU: GeForce GTX 1050 Ti\n"
     ]
    }
   ],
   "source": [
    "if torch.cuda.is_available():    \n",
    "\n",
    "    # Tell PyTorch to use the GPU.    \n",
    "#     device = torch.device(\"cuda\")\n",
    "    n_gpu = torch.cuda.device_count()\n",
    "    device = torch.device(\"cpu\")\n",
    "    print('There are %d GPU(s) available.' % n_gpu)\n",
    "\n",
    "    print('We will use the GPU:', torch.cuda.get_device_name(0))\n",
    "\n",
    "# If not...\n",
    "else:\n",
    "    print('No GPU available, using the CPU instead.')\n",
    "    device = torch.device(\"cpu\")"
   ]
  },
  {
   "cell_type": "code",
   "execution_count": 12,
   "metadata": {},
   "outputs": [
    {
     "name": "stderr",
     "output_type": "stream",
     "text": [
      "04/22/2020 19:04:05 - INFO - transformers.file_utils -   PyTorch version 1.4.0 available.\n",
      "04/22/2020 19:04:07 - INFO - transformers.file_utils -   TensorFlow version 2.1.0 available.\n"
     ]
    }
   ],
   "source": [
    "from transformers import BertTokenizer, AdamW, get_linear_schedule_with_warmup\n",
    "from pytorch_pretrained_bert.modeling import BertForSequenceClassification, BertPreTrainedModel, BertModel, BertConfig\n",
    "from torch.nn import BCEWithLogitsLoss, CosineEmbeddingLoss,CrossEntropyLoss, MSELoss"
   ]
  },
  {
   "cell_type": "code",
   "execution_count": 19,
   "metadata": {},
   "outputs": [],
   "source": [
    "# import logging\n",
    "# logging.basicConfig(level=logging.INFO)"
   ]
  },
  {
   "cell_type": "code",
   "execution_count": 20,
   "metadata": {},
   "outputs": [],
   "source": [
    "# def train_and_test(data_dir, bert_model=\"bert-base-uncased\", task_name=None,\n",
    "#                    output_dir=None, max_seq_length=128, do_train=False, do_eval=False, do_lower_case=False,\n",
    "#                    train_batch_size=32, eval_batch_size=8, learning_rate=5e-5, num_train_epochs=3,\n",
    "#                    warmup_proportion=0.1,no_cuda=False, local_rank=-1, seed=42, gradient_accumulation_steps=1,\n",
    "#                    optimize_on_cpu=False, fp16=False, loss_scale=128, saved_model=\"\"):"
   ]
  },
  {
   "cell_type": "code",
   "execution_count": null,
   "metadata": {},
   "outputs": [],
   "source": []
  },
  {
   "cell_type": "code",
   "execution_count": 16,
   "metadata": {},
   "outputs": [],
   "source": [
    "class BertForConsistencyCueClassification(BertPreTrainedModel):\n",
    "    def __init__(self, config, num_labels=2):\n",
    "        super(BertForConsistencyCueClassification, self).__init__(config)\n",
    "        self.num_labels = num_labels\n",
    "\n",
    "        self.bert = BertModel(config)\n",
    "        self.dropout = torch.nn.Dropout(config.hidden_dropout_prob)\n",
    "        self.classifier = torch.nn.Linear(config.hidden_size+1, num_labels)\n",
    "        self.classifier2 = torch.nn.Linear(config.hidden_size, num_labels)\n",
    "        self.apply(self.init_bert_weights)\n",
    "#         self.init_weights()\n",
    "\n",
    "#     @add_start_docstrings_to_callable(BERT_INPUTS_DOCSTRING)\n",
    "    def forward(\n",
    "        self,\n",
    "        input_ids=None,\n",
    "        attention_mask=None,\n",
    "        token_type_ids=None,\n",
    "        position_ids=None,\n",
    "        head_mask=None,\n",
    "        inputs_embeds=None,\n",
    "        labels=None,\n",
    "        input_ids2=None,\n",
    "        attention_mask2=None,\n",
    "        token_type_ids2=None,\n",
    "        position_ids2=None,\n",
    "        head_mask2=None,\n",
    "        inputs_embeds2=None,\n",
    "        labels2=None,\n",
    "    ):\n",
    "        r\"\"\"\n",
    "        labels (:obj:`torch.LongTensor` of shape :obj:`(batch_size,)`, `optional`, defaults to :obj:`None`):\n",
    "            Labels for computing the sequence classification/regression loss.\n",
    "            Indices should be in :obj:`[0, ..., config.num_labels - 1]`.\n",
    "            If :obj:`config.num_labels == 1` a regression loss is computed (Mean-Square loss),\n",
    "            If :obj:`config.num_labels > 1` a classification loss is computed (Cross-Entropy).\n",
    "\n",
    "    Returns:\n",
    "        :obj:`tuple(torch.FloatTensor)` comprising various elements depending on the configuration (:class:`~transformers.BertConfig`) and inputs:\n",
    "        loss (:obj:`torch.FloatTensor` of shape :obj:`(1,)`, `optional`, returned when :obj:`label` is provided):\n",
    "            Classification (or regression if config.num_labels==1) loss.\n",
    "        logits (:obj:`torch.FloatTensor` of shape :obj:`(batch_size, config.num_labels)`):\n",
    "            Classification (or regression if config.num_labels==1) scores (before SoftMax).\n",
    "        hidden_states (:obj:`tuple(torch.FloatTensor)`, `optional`, returned when ``config.output_hidden_states=True``):\n",
    "            Tuple of :obj:`torch.FloatTensor` (one for the output of the embeddings + one for the output of each layer)\n",
    "            of shape :obj:`(batch_size, sequence_length, hidden_size)`.\n",
    "\n",
    "            Hidden-states of the model at the output of each layer plus the initial embedding outputs.\n",
    "        attentions (:obj:`tuple(torch.FloatTensor)`, `optional`, returned when ``config.output_attentions=True``):\n",
    "            Tuple of :obj:`torch.FloatTensor` (one for each layer) of shape\n",
    "            :obj:`(batch_size, num_heads, sequence_length, sequence_length)`.\n",
    "\n",
    "            Attentions weights after the attention softmax, used to compute the weighted average in the self-attention\n",
    "            heads.\n",
    "\n",
    "    Examples::\n",
    "\n",
    "        from transformers import BertTokenizer, BertForSequenceClassification\n",
    "        import torch\n",
    "\n",
    "        tokenizer = BertTokenizer.from_pretrained('bert-base-uncased')\n",
    "        model = BertForSequenceClassification.from_pretrained('bert-base-uncased')\n",
    "\n",
    "        input_ids = torch.tensor(tokenizer.encode(\"Hello, my dog is cute\", add_special_tokens=True)).unsqueeze(0)  # Batch size 1\n",
    "        labels = torch.tensor([1]).unsqueeze(0)  # Batch size 1\n",
    "        outputs = model(input_ids, labels=labels)\n",
    "\n",
    "        loss, logits = outputs[:2]\n",
    "\n",
    "        \"\"\"\n",
    "\n",
    "        _, outputs = self.bert(\n",
    "            input_ids,\n",
    "            attention_mask=attention_mask,\n",
    "            token_type_ids=token_type_ids,\n",
    "#             position_ids=position_ids,\n",
    "#             head_mask=head_mask,\n",
    "#             inputs_embeds=inputs_embeds,\n",
    "        )\n",
    "\n",
    "        _, outputsC = self.bert(\n",
    "            input_ids2,\n",
    "            attention_mask=attention_mask2,\n",
    "            token_type_ids=token_type_ids2,\n",
    "#             position_ids=position_ids2,\n",
    "#             head_mask=head_mask2,\n",
    "#             inputs_embeds=inputs_embeds2,\n",
    "        )\n",
    "#         print(\"Careful, outputs:\")\n",
    "#         print(outputs)\n",
    "#         print(outputsC)\n",
    "        pooled_output = outputs\n",
    "        pooled_outputC = outputsC\n",
    "\n",
    "        pooled_output = self.dropout(pooled_output)\n",
    "        pooled_outputC = self.dropout(pooled_outputC)\n",
    "        \n",
    "        cos_pooled_outputs = torch.cosine_similarity(pooled_output, pooled_outputC, dim=1)\n",
    "        \n",
    "#         print('pooled_output size:')\n",
    "#         print(pooled_output.size())\n",
    "#         print(pooled_output)\n",
    "#         print('cos_pooled_outputs size:')\n",
    "#         print(cos_pooled_outputs.size())\n",
    "#         print(cos_pooled_outputs)\n",
    "        batch_size = list(pooled_output.size())[0]\n",
    "        hidden_size = list(pooled_output.size())[1]\n",
    "\n",
    "        logits_ce = self.classifier2(pooled_output)\n",
    "#         print('logits_ce:')\n",
    "#         print(logits_ce)\n",
    "        \n",
    "    \n",
    "        ## v2: concat\n",
    "        ## v3: multiply\n",
    "#         logits_cos = self.classifier(torch.cat((pooled_output, cos_pooled_outputs.unsqueeze(1)),1))\n",
    "        logits_cos = self.classifier2((pooled_output*cos_pooled_outputs.unsqueeze(1)))\n",
    "#         self.classifier = torch.nn.Linear(hidden_size+batch_size, 2).to(device)\n",
    "#         logits_cos = self.classifier(torch.cat((pooled_output, cos_pooled_outputs.repeat(batch_size,1)),1))\n",
    "#         print('logits_cos:')\n",
    "#         print(logits_cos)\n",
    "        \n",
    "#         logits = self.classifier(pooled_output)\n",
    "#         logitsC = self.classifier(pooled_outputC)\n",
    "\n",
    "#         outputs = (logits,) + outputs[2:]  # add hidden states and attention if they are here\n",
    "#         print(logits)\n",
    "#         print('xd')\n",
    "#         print(outputs[2:])\n",
    "#         outputs = (logits,) + outputs[2:]\n",
    "#         print(\"labels:\")\n",
    "#         print(labels)\n",
    "        if labels is not None:\n",
    "            if self.num_labels == 1:\n",
    "                #  We are doing regression\n",
    "                loss_fct = MSELoss()\n",
    "                loss = loss_fct(logits.view(-1), labels.view(-1))\n",
    "            else:\n",
    "#                 loss_fct_ce = CrossEntropyLoss()\n",
    "#                 loss_ce = loss_fct(logits.view(-1, self.num_labels), labels.view(-1))\n",
    "\n",
    "                loss_fct_ce = CrossEntropyLoss()\n",
    "#                 print('pooled_output size:')\n",
    "#                 print(pooled_output.size())\n",
    "                loss_ce = loss_fct_ce(logits_ce.view(-1, self.num_labels), labels.view(-1))\n",
    "#                 loss_ce = loss_fct_ce(pooled_output.view(-1), labels.view(-1))\n",
    "#                 print('loss_ce:')\n",
    "#                 print(loss_ce)\n",
    "\n",
    "                \n",
    "                loss_fct_cos = CosineEmbeddingLoss()\n",
    "#                 print(labels)\n",
    "#                 print(pooled_outputC)\n",
    "                labels2[labels2==0] = -1\n",
    "                loss_cos = loss_fct_cos(pooled_output, pooled_outputC, labels2)\n",
    "#                 loss_cos = loss_fct_cos(logits_ce, logits_cos, labels2)\n",
    "#                 loss_cos = loss_fct_ce(logits_cos.view(-1, self.num_labels), labels2.view(-1))\n",
    "#                 print('loss_cos:')\n",
    "#                 print(loss_cos)\n",
    "            \n",
    "                loss = loss_ce + loss_cos\n",
    "#                 print('final loss:')\n",
    "#                 print(loss)\n",
    "#                 logits = self.classifier(loss)\n",
    "#             outputs = (loss,) + outputs\n",
    "#             outputs = (loss,) + logits_cos \n",
    "                outputs = loss\n",
    "                return outputs\n",
    "        else:\n",
    "            return logits_cos\n",
    "        \n",
    "          # (loss), logits, (hidden_states), (attentions)\n"
   ]
  },
  {
   "cell_type": "code",
   "execution_count": null,
   "metadata": {},
   "outputs": [],
   "source": []
  },
  {
   "cell_type": "code",
   "execution_count": 22,
   "metadata": {},
   "outputs": [],
   "source": [
    "# labe = torch.ones(8)\n",
    "# print(labe )\n",
    "# labe[labe==1] = -1\n",
    "# labe"
   ]
  },
  {
   "cell_type": "code",
   "execution_count": 23,
   "metadata": {},
   "outputs": [],
   "source": [
    "# a = torch.tensor([[4.2,5,6,7,8],[9,10,11,12,13]])\n",
    "# b = torch.tensor([[3.4,5,6,7,8],[9,10,11,12,13]])\n",
    "\n",
    "# # a = torch.tensor([[4,5,6,7,8],[9,10,11,12,13]])\n",
    "# # b = torch.tensor([1,2])\n",
    "# c= torch.cosine_similarity(a,b,dim=1)\n",
    "# # b.unsqueeze(1)\n",
    "# # # a.size()\n",
    "# # torch.cat((a,c.unsqueeze(1)),1)\n",
    "# a*c.unsqueeze(1)"
   ]
  },
  {
   "cell_type": "code",
   "execution_count": 24,
   "metadata": {},
   "outputs": [],
   "source": [
    "# input1 = torch.randn(100, 128)\n",
    "# input2 = torch.randn(100, 128)\n",
    "# output = torch.cosine_similarity(input1, input2, dim=1)"
   ]
  },
  {
   "cell_type": "code",
   "execution_count": null,
   "metadata": {},
   "outputs": [],
   "source": []
  },
  {
   "cell_type": "code",
   "execution_count": 25,
   "metadata": {},
   "outputs": [
    {
     "name": "stderr",
     "output_type": "stream",
     "text": [
      "04/22/2020 15:36:52 - INFO - transformers.tokenization_utils -   loading file https://s3.amazonaws.com/models.huggingface.co/bert/bert-base-uncased-vocab.txt from cache at C:\\Users\\arsen\\.cache\\torch\\transformers\\26bc1ad6c0ac742e9b52263248f6d0f00068293b33709fae12320c0e35ccfbbb.542ce4285a40d23a559526243235df47c5f75c197f04f37d1a0c124c32c9a084\n"
     ]
    }
   ],
   "source": [
    "tokenizer = BertTokenizer.from_pretrained('bert-base-uncased')"
   ]
  },
  {
   "cell_type": "code",
   "execution_count": 26,
   "metadata": {},
   "outputs": [
    {
     "name": "stderr",
     "output_type": "stream",
     "text": [
      "04/22/2020 15:36:53 - INFO - pytorch_pretrained_bert.modeling -   loading archive file https://s3.amazonaws.com/models.huggingface.co/bert/bert-base-uncased.tar.gz from cache at C:\\Users\\arsen\\.pytorch_pretrained_bert\\9c41111e2de84547a463fd39217199738d1e3deb72d4fec4399e6e241983c6f0.ae3cef932725ca7a30cdcb93fc6e09150a55e2a130ec7af63975a16c153ae2ba\n",
      "04/22/2020 15:36:53 - INFO - pytorch_pretrained_bert.modeling -   extracting archive file C:\\Users\\arsen\\.pytorch_pretrained_bert\\9c41111e2de84547a463fd39217199738d1e3deb72d4fec4399e6e241983c6f0.ae3cef932725ca7a30cdcb93fc6e09150a55e2a130ec7af63975a16c153ae2ba to temp dir C:\\Users\\arsen\\AppData\\Local\\Temp\\tmp6io8fblt\n",
      "04/22/2020 15:36:58 - INFO - pytorch_pretrained_bert.modeling -   Model config {\n",
      "  \"attention_probs_dropout_prob\": 0.1,\n",
      "  \"hidden_act\": \"gelu\",\n",
      "  \"hidden_dropout_prob\": 0.1,\n",
      "  \"hidden_size\": 768,\n",
      "  \"initializer_range\": 0.02,\n",
      "  \"intermediate_size\": 3072,\n",
      "  \"max_position_embeddings\": 512,\n",
      "  \"num_attention_heads\": 12,\n",
      "  \"num_hidden_layers\": 12,\n",
      "  \"type_vocab_size\": 2,\n",
      "  \"vocab_size\": 30522\n",
      "}\n",
      "\n",
      "04/22/2020 15:37:00 - INFO - pytorch_pretrained_bert.modeling -   Weights of BertForConsistencyCueClassification not initialized from pretrained model: ['classifier.weight', 'classifier.bias', 'classifier2.weight', 'classifier2.bias']\n",
      "04/22/2020 15:37:00 - INFO - pytorch_pretrained_bert.modeling -   Weights from pretrained model not used in BertForConsistencyCueClassification: ['cls.predictions.bias', 'cls.predictions.transform.dense.weight', 'cls.predictions.transform.dense.bias', 'cls.predictions.decoder.weight', 'cls.seq_relationship.weight', 'cls.seq_relationship.bias', 'cls.predictions.transform.LayerNorm.weight', 'cls.predictions.transform.LayerNorm.bias']\n"
     ]
    },
    {
     "data": {
      "text/plain": [
       "BertForConsistencyCueClassification(\n",
       "  (bert): BertModel(\n",
       "    (embeddings): BertEmbeddings(\n",
       "      (word_embeddings): Embedding(30522, 768, padding_idx=0)\n",
       "      (position_embeddings): Embedding(512, 768)\n",
       "      (token_type_embeddings): Embedding(2, 768)\n",
       "      (LayerNorm): BertLayerNorm()\n",
       "      (dropout): Dropout(p=0.1, inplace=False)\n",
       "    )\n",
       "    (encoder): BertEncoder(\n",
       "      (layer): ModuleList(\n",
       "        (0): BertLayer(\n",
       "          (attention): BertAttention(\n",
       "            (self): BertSelfAttention(\n",
       "              (query): Linear(in_features=768, out_features=768, bias=True)\n",
       "              (key): Linear(in_features=768, out_features=768, bias=True)\n",
       "              (value): Linear(in_features=768, out_features=768, bias=True)\n",
       "              (dropout): Dropout(p=0.1, inplace=False)\n",
       "            )\n",
       "            (output): BertSelfOutput(\n",
       "              (dense): Linear(in_features=768, out_features=768, bias=True)\n",
       "              (LayerNorm): BertLayerNorm()\n",
       "              (dropout): Dropout(p=0.1, inplace=False)\n",
       "            )\n",
       "          )\n",
       "          (intermediate): BertIntermediate(\n",
       "            (dense): Linear(in_features=768, out_features=3072, bias=True)\n",
       "          )\n",
       "          (output): BertOutput(\n",
       "            (dense): Linear(in_features=3072, out_features=768, bias=True)\n",
       "            (LayerNorm): BertLayerNorm()\n",
       "            (dropout): Dropout(p=0.1, inplace=False)\n",
       "          )\n",
       "        )\n",
       "        (1): BertLayer(\n",
       "          (attention): BertAttention(\n",
       "            (self): BertSelfAttention(\n",
       "              (query): Linear(in_features=768, out_features=768, bias=True)\n",
       "              (key): Linear(in_features=768, out_features=768, bias=True)\n",
       "              (value): Linear(in_features=768, out_features=768, bias=True)\n",
       "              (dropout): Dropout(p=0.1, inplace=False)\n",
       "            )\n",
       "            (output): BertSelfOutput(\n",
       "              (dense): Linear(in_features=768, out_features=768, bias=True)\n",
       "              (LayerNorm): BertLayerNorm()\n",
       "              (dropout): Dropout(p=0.1, inplace=False)\n",
       "            )\n",
       "          )\n",
       "          (intermediate): BertIntermediate(\n",
       "            (dense): Linear(in_features=768, out_features=3072, bias=True)\n",
       "          )\n",
       "          (output): BertOutput(\n",
       "            (dense): Linear(in_features=3072, out_features=768, bias=True)\n",
       "            (LayerNorm): BertLayerNorm()\n",
       "            (dropout): Dropout(p=0.1, inplace=False)\n",
       "          )\n",
       "        )\n",
       "        (2): BertLayer(\n",
       "          (attention): BertAttention(\n",
       "            (self): BertSelfAttention(\n",
       "              (query): Linear(in_features=768, out_features=768, bias=True)\n",
       "              (key): Linear(in_features=768, out_features=768, bias=True)\n",
       "              (value): Linear(in_features=768, out_features=768, bias=True)\n",
       "              (dropout): Dropout(p=0.1, inplace=False)\n",
       "            )\n",
       "            (output): BertSelfOutput(\n",
       "              (dense): Linear(in_features=768, out_features=768, bias=True)\n",
       "              (LayerNorm): BertLayerNorm()\n",
       "              (dropout): Dropout(p=0.1, inplace=False)\n",
       "            )\n",
       "          )\n",
       "          (intermediate): BertIntermediate(\n",
       "            (dense): Linear(in_features=768, out_features=3072, bias=True)\n",
       "          )\n",
       "          (output): BertOutput(\n",
       "            (dense): Linear(in_features=3072, out_features=768, bias=True)\n",
       "            (LayerNorm): BertLayerNorm()\n",
       "            (dropout): Dropout(p=0.1, inplace=False)\n",
       "          )\n",
       "        )\n",
       "        (3): BertLayer(\n",
       "          (attention): BertAttention(\n",
       "            (self): BertSelfAttention(\n",
       "              (query): Linear(in_features=768, out_features=768, bias=True)\n",
       "              (key): Linear(in_features=768, out_features=768, bias=True)\n",
       "              (value): Linear(in_features=768, out_features=768, bias=True)\n",
       "              (dropout): Dropout(p=0.1, inplace=False)\n",
       "            )\n",
       "            (output): BertSelfOutput(\n",
       "              (dense): Linear(in_features=768, out_features=768, bias=True)\n",
       "              (LayerNorm): BertLayerNorm()\n",
       "              (dropout): Dropout(p=0.1, inplace=False)\n",
       "            )\n",
       "          )\n",
       "          (intermediate): BertIntermediate(\n",
       "            (dense): Linear(in_features=768, out_features=3072, bias=True)\n",
       "          )\n",
       "          (output): BertOutput(\n",
       "            (dense): Linear(in_features=3072, out_features=768, bias=True)\n",
       "            (LayerNorm): BertLayerNorm()\n",
       "            (dropout): Dropout(p=0.1, inplace=False)\n",
       "          )\n",
       "        )\n",
       "        (4): BertLayer(\n",
       "          (attention): BertAttention(\n",
       "            (self): BertSelfAttention(\n",
       "              (query): Linear(in_features=768, out_features=768, bias=True)\n",
       "              (key): Linear(in_features=768, out_features=768, bias=True)\n",
       "              (value): Linear(in_features=768, out_features=768, bias=True)\n",
       "              (dropout): Dropout(p=0.1, inplace=False)\n",
       "            )\n",
       "            (output): BertSelfOutput(\n",
       "              (dense): Linear(in_features=768, out_features=768, bias=True)\n",
       "              (LayerNorm): BertLayerNorm()\n",
       "              (dropout): Dropout(p=0.1, inplace=False)\n",
       "            )\n",
       "          )\n",
       "          (intermediate): BertIntermediate(\n",
       "            (dense): Linear(in_features=768, out_features=3072, bias=True)\n",
       "          )\n",
       "          (output): BertOutput(\n",
       "            (dense): Linear(in_features=3072, out_features=768, bias=True)\n",
       "            (LayerNorm): BertLayerNorm()\n",
       "            (dropout): Dropout(p=0.1, inplace=False)\n",
       "          )\n",
       "        )\n",
       "        (5): BertLayer(\n",
       "          (attention): BertAttention(\n",
       "            (self): BertSelfAttention(\n",
       "              (query): Linear(in_features=768, out_features=768, bias=True)\n",
       "              (key): Linear(in_features=768, out_features=768, bias=True)\n",
       "              (value): Linear(in_features=768, out_features=768, bias=True)\n",
       "              (dropout): Dropout(p=0.1, inplace=False)\n",
       "            )\n",
       "            (output): BertSelfOutput(\n",
       "              (dense): Linear(in_features=768, out_features=768, bias=True)\n",
       "              (LayerNorm): BertLayerNorm()\n",
       "              (dropout): Dropout(p=0.1, inplace=False)\n",
       "            )\n",
       "          )\n",
       "          (intermediate): BertIntermediate(\n",
       "            (dense): Linear(in_features=768, out_features=3072, bias=True)\n",
       "          )\n",
       "          (output): BertOutput(\n",
       "            (dense): Linear(in_features=3072, out_features=768, bias=True)\n",
       "            (LayerNorm): BertLayerNorm()\n",
       "            (dropout): Dropout(p=0.1, inplace=False)\n",
       "          )\n",
       "        )\n",
       "        (6): BertLayer(\n",
       "          (attention): BertAttention(\n",
       "            (self): BertSelfAttention(\n",
       "              (query): Linear(in_features=768, out_features=768, bias=True)\n",
       "              (key): Linear(in_features=768, out_features=768, bias=True)\n",
       "              (value): Linear(in_features=768, out_features=768, bias=True)\n",
       "              (dropout): Dropout(p=0.1, inplace=False)\n",
       "            )\n",
       "            (output): BertSelfOutput(\n",
       "              (dense): Linear(in_features=768, out_features=768, bias=True)\n",
       "              (LayerNorm): BertLayerNorm()\n",
       "              (dropout): Dropout(p=0.1, inplace=False)\n",
       "            )\n",
       "          )\n",
       "          (intermediate): BertIntermediate(\n",
       "            (dense): Linear(in_features=768, out_features=3072, bias=True)\n",
       "          )\n",
       "          (output): BertOutput(\n",
       "            (dense): Linear(in_features=3072, out_features=768, bias=True)\n",
       "            (LayerNorm): BertLayerNorm()\n",
       "            (dropout): Dropout(p=0.1, inplace=False)\n",
       "          )\n",
       "        )\n",
       "        (7): BertLayer(\n",
       "          (attention): BertAttention(\n",
       "            (self): BertSelfAttention(\n",
       "              (query): Linear(in_features=768, out_features=768, bias=True)\n",
       "              (key): Linear(in_features=768, out_features=768, bias=True)\n",
       "              (value): Linear(in_features=768, out_features=768, bias=True)\n",
       "              (dropout): Dropout(p=0.1, inplace=False)\n",
       "            )\n",
       "            (output): BertSelfOutput(\n",
       "              (dense): Linear(in_features=768, out_features=768, bias=True)\n",
       "              (LayerNorm): BertLayerNorm()\n",
       "              (dropout): Dropout(p=0.1, inplace=False)\n",
       "            )\n",
       "          )\n",
       "          (intermediate): BertIntermediate(\n",
       "            (dense): Linear(in_features=768, out_features=3072, bias=True)\n",
       "          )\n",
       "          (output): BertOutput(\n",
       "            (dense): Linear(in_features=3072, out_features=768, bias=True)\n",
       "            (LayerNorm): BertLayerNorm()\n",
       "            (dropout): Dropout(p=0.1, inplace=False)\n",
       "          )\n",
       "        )\n",
       "        (8): BertLayer(\n",
       "          (attention): BertAttention(\n",
       "            (self): BertSelfAttention(\n",
       "              (query): Linear(in_features=768, out_features=768, bias=True)\n",
       "              (key): Linear(in_features=768, out_features=768, bias=True)\n",
       "              (value): Linear(in_features=768, out_features=768, bias=True)\n",
       "              (dropout): Dropout(p=0.1, inplace=False)\n",
       "            )\n",
       "            (output): BertSelfOutput(\n",
       "              (dense): Linear(in_features=768, out_features=768, bias=True)\n",
       "              (LayerNorm): BertLayerNorm()\n",
       "              (dropout): Dropout(p=0.1, inplace=False)\n",
       "            )\n",
       "          )\n",
       "          (intermediate): BertIntermediate(\n",
       "            (dense): Linear(in_features=768, out_features=3072, bias=True)\n",
       "          )\n",
       "          (output): BertOutput(\n",
       "            (dense): Linear(in_features=3072, out_features=768, bias=True)\n",
       "            (LayerNorm): BertLayerNorm()\n",
       "            (dropout): Dropout(p=0.1, inplace=False)\n",
       "          )\n",
       "        )\n",
       "        (9): BertLayer(\n",
       "          (attention): BertAttention(\n",
       "            (self): BertSelfAttention(\n",
       "              (query): Linear(in_features=768, out_features=768, bias=True)\n",
       "              (key): Linear(in_features=768, out_features=768, bias=True)\n",
       "              (value): Linear(in_features=768, out_features=768, bias=True)\n",
       "              (dropout): Dropout(p=0.1, inplace=False)\n",
       "            )\n",
       "            (output): BertSelfOutput(\n",
       "              (dense): Linear(in_features=768, out_features=768, bias=True)\n",
       "              (LayerNorm): BertLayerNorm()\n",
       "              (dropout): Dropout(p=0.1, inplace=False)\n",
       "            )\n",
       "          )\n",
       "          (intermediate): BertIntermediate(\n",
       "            (dense): Linear(in_features=768, out_features=3072, bias=True)\n",
       "          )\n",
       "          (output): BertOutput(\n",
       "            (dense): Linear(in_features=3072, out_features=768, bias=True)\n",
       "            (LayerNorm): BertLayerNorm()\n",
       "            (dropout): Dropout(p=0.1, inplace=False)\n",
       "          )\n",
       "        )\n",
       "        (10): BertLayer(\n",
       "          (attention): BertAttention(\n",
       "            (self): BertSelfAttention(\n",
       "              (query): Linear(in_features=768, out_features=768, bias=True)\n",
       "              (key): Linear(in_features=768, out_features=768, bias=True)\n",
       "              (value): Linear(in_features=768, out_features=768, bias=True)\n",
       "              (dropout): Dropout(p=0.1, inplace=False)\n",
       "            )\n",
       "            (output): BertSelfOutput(\n",
       "              (dense): Linear(in_features=768, out_features=768, bias=True)\n",
       "              (LayerNorm): BertLayerNorm()\n",
       "              (dropout): Dropout(p=0.1, inplace=False)\n",
       "            )\n",
       "          )\n",
       "          (intermediate): BertIntermediate(\n",
       "            (dense): Linear(in_features=768, out_features=3072, bias=True)\n",
       "          )\n",
       "          (output): BertOutput(\n",
       "            (dense): Linear(in_features=3072, out_features=768, bias=True)\n",
       "            (LayerNorm): BertLayerNorm()\n",
       "            (dropout): Dropout(p=0.1, inplace=False)\n",
       "          )\n",
       "        )\n",
       "        (11): BertLayer(\n",
       "          (attention): BertAttention(\n",
       "            (self): BertSelfAttention(\n",
       "              (query): Linear(in_features=768, out_features=768, bias=True)\n",
       "              (key): Linear(in_features=768, out_features=768, bias=True)\n",
       "              (value): Linear(in_features=768, out_features=768, bias=True)\n",
       "              (dropout): Dropout(p=0.1, inplace=False)\n",
       "            )\n",
       "            (output): BertSelfOutput(\n",
       "              (dense): Linear(in_features=768, out_features=768, bias=True)\n",
       "              (LayerNorm): BertLayerNorm()\n",
       "              (dropout): Dropout(p=0.1, inplace=False)\n",
       "            )\n",
       "          )\n",
       "          (intermediate): BertIntermediate(\n",
       "            (dense): Linear(in_features=768, out_features=3072, bias=True)\n",
       "          )\n",
       "          (output): BertOutput(\n",
       "            (dense): Linear(in_features=3072, out_features=768, bias=True)\n",
       "            (LayerNorm): BertLayerNorm()\n",
       "            (dropout): Dropout(p=0.1, inplace=False)\n",
       "          )\n",
       "        )\n",
       "      )\n",
       "    )\n",
       "    (pooler): BertPooler(\n",
       "      (dense): Linear(in_features=768, out_features=768, bias=True)\n",
       "      (activation): Tanh()\n",
       "    )\n",
       "  )\n",
       "  (dropout): Dropout(p=0.1, inplace=False)\n",
       "  (classifier): Linear(in_features=769, out_features=2, bias=True)\n",
       "  (classifier2): Linear(in_features=768, out_features=2, bias=True)\n",
       ")"
      ]
     },
     "execution_count": 26,
     "metadata": {},
     "output_type": "execute_result"
    }
   ],
   "source": [
    "# Prepare model \n",
    "model = BertForConsistencyCueClassification.from_pretrained('bert-base-uncased', num_labels=2)\n",
    "model.to(device)\n",
    "\n",
    "# model = BertModel.from_pretrained('bert-base-uncased')"
   ]
  },
  {
   "cell_type": "code",
   "execution_count": 27,
   "metadata": {},
   "outputs": [
    {
     "name": "stdout",
     "output_type": "stream",
     "text": [
      "The BERT model has 203 different named parameters.\n",
      "\n",
      "==== Embedding Layer ====\n",
      "\n",
      "bert.embeddings.word_embeddings.weight                  (30522, 768)\n",
      "bert.embeddings.position_embeddings.weight                (512, 768)\n",
      "bert.embeddings.token_type_embeddings.weight                (2, 768)\n",
      "bert.embeddings.LayerNorm.weight                              (768,)\n",
      "bert.embeddings.LayerNorm.bias                                (768,)\n",
      "\n",
      "==== First Transformer ====\n",
      "\n",
      "bert.encoder.layer.0.attention.self.query.weight          (768, 768)\n",
      "bert.encoder.layer.0.attention.self.query.bias                (768,)\n",
      "bert.encoder.layer.0.attention.self.key.weight            (768, 768)\n",
      "bert.encoder.layer.0.attention.self.key.bias                  (768,)\n",
      "bert.encoder.layer.0.attention.self.value.weight          (768, 768)\n",
      "bert.encoder.layer.0.attention.self.value.bias                (768,)\n",
      "bert.encoder.layer.0.attention.output.dense.weight        (768, 768)\n",
      "bert.encoder.layer.0.attention.output.dense.bias              (768,)\n",
      "bert.encoder.layer.0.attention.output.LayerNorm.weight        (768,)\n",
      "bert.encoder.layer.0.attention.output.LayerNorm.bias          (768,)\n",
      "bert.encoder.layer.0.intermediate.dense.weight           (3072, 768)\n",
      "bert.encoder.layer.0.intermediate.dense.bias                 (3072,)\n",
      "bert.encoder.layer.0.output.dense.weight                 (768, 3072)\n",
      "bert.encoder.layer.0.output.dense.bias                        (768,)\n",
      "bert.encoder.layer.0.output.LayerNorm.weight                  (768,)\n",
      "bert.encoder.layer.0.output.LayerNorm.bias                    (768,)\n",
      "\n",
      "==== Output Layer ====\n",
      "\n",
      "classifier.weight                                           (2, 769)\n",
      "classifier.bias                                                 (2,)\n",
      "classifier2.weight                                          (2, 768)\n",
      "classifier2.bias                                                (2,)\n"
     ]
    }
   ],
   "source": [
    "# Get all of the model's parameters as a list of tuples.\n",
    "params = list(model.named_parameters())\n",
    "\n",
    "print('The BERT model has {:} different named parameters.\\n'.format(len(params)))\n",
    "\n",
    "print('==== Embedding Layer ====\\n')\n",
    "\n",
    "for p in params[0:5]:\n",
    "    print(\"{:<55} {:>12}\".format(p[0], str(tuple(p[1].size()))))\n",
    "\n",
    "print('\\n==== First Transformer ====\\n')\n",
    "\n",
    "for p in params[5:21]:\n",
    "    print(\"{:<55} {:>12}\".format(p[0], str(tuple(p[1].size()))))\n",
    "    \n",
    "print('\\n==== Output Layer ====\\n')\n",
    "\n",
    "for p in params[-4:]:\n",
    "    print(\"{:<55} {:>12}\".format(p[0], str(tuple(p[1].size()))))"
   ]
  },
  {
   "cell_type": "code",
   "execution_count": 28,
   "metadata": {},
   "outputs": [
    {
     "name": "stderr",
     "output_type": "stream",
     "text": [
      "04/22/2020 15:37:00 - INFO - run_classifier -   LOOKING AT D:/Jupyter/data/dataset/perspective_stances/train.tsv\n"
     ]
    }
   ],
   "source": [
    "data_dir = \"D:/Jupyter/data/dataset/perspective_stances/\"\n",
    "data_dir_output = \"D:/Projects/Stance/Models/Consistency_Cues/\"\n",
    "output_dir=data_dir_output\n",
    "max_seq_length=32\n",
    "max_grad_norm = 1.0\n",
    "num_training_steps = 1000\n",
    "num_warmup_steps = 100\n",
    "warmup_proportion = float(num_warmup_steps) / float(num_training_steps)  # 0.1\n",
    "# warmup_proportion = 0.1\n",
    "train_batch_size=32\n",
    "eval_batch_size=8\n",
    "learning_rate=5e-5\n",
    "num_train_epochs=3\n",
    "local_rank=-1\n",
    "seed=42\n",
    "gradient_accumulation_steps=1\n",
    "loss_scale=128\n",
    "train_batch_size = int(train_batch_size / gradient_accumulation_steps)\n",
    "\n",
    "processors = {\n",
    "        \"mrpc\": MrpcProcessor,\n",
    "    }\n",
    "\n",
    "random.seed(seed)\n",
    "np.random.seed(seed)\n",
    "torch.manual_seed(seed)\n",
    "torch.cuda.manual_seed_all(seed)\n",
    "    \n",
    "os.makedirs(output_dir, exist_ok=True)\n",
    "processor = processors['mrpc']()\n",
    "label_list = processor.get_labels()\n",
    "num_labels = len(label_list)\n",
    "# print('label list')\n",
    "# print(label_list)\n",
    "\n",
    "train_examples = processor.get_train_examples(data_dir)\n",
    "num_train_steps = int(\n",
    "    len(train_examples) / train_batch_size / gradient_accumulation_steps * num_train_epochs)\n",
    "\n",
    "##preprare optimizer\n",
    "param_optimizer = list(model.named_parameters())\n",
    "no_decay = ['bias', 'gamma', 'beta']\n",
    "optimizer_grouped_parameters = [\n",
    "    {'params': [p for n, p in param_optimizer if not any(nd in n for nd in no_decay)], 'weight_decay_rate': 0.01},\n",
    "    {'params': [p for n, p in param_optimizer if any(nd in n for nd in no_decay)], 'weight_decay_rate': 0.0}\n",
    "    ]\n",
    "t_total = num_train_steps\n",
    "optimizer = BertAdam(optimizer_grouped_parameters,\n",
    "                         lr=learning_rate,\n",
    "                         warmup=warmup_proportion,\n",
    "                         t_total=t_total)\n",
    "# optimizer = AdamW(optimizer_grouped_parameters,\n",
    "#                   lr = learning_rate, # args.learning_rate - default is 5e-5, our notebook had 2e-5\n",
    "#                   eps = 1e-8, # args.adam_epsilon  - default is 1e-8.\n",
    "#                   correct_bias=False\n",
    "#                 )\n",
    "\n",
    "# scheduler = get_linear_schedule_with_warmup(optimizer, num_warmup_steps=num_warmup_steps, num_training_steps=t_total)  # PyTorch scheduler"
   ]
  },
  {
   "cell_type": "code",
   "execution_count": 29,
   "metadata": {},
   "outputs": [
    {
     "name": "stderr",
     "output_type": "stream",
     "text": [
      "04/22/2020 15:37:00 - INFO - run_classifier -   *** Example ***\n",
      "04/22/2020 15:37:00 - INFO - run_classifier -   guid: train-1\n",
      "04/22/2020 15:37:00 - INFO - run_classifier -   tokens: [CLS] male infant ci ##rc ##um ##cision is tan ##tam ##ount to child abuse [SEP] parents have the right to use their best judgment , in the light of medical advice [SEP]\n",
      "04/22/2020 15:37:00 - INFO - run_classifier -   input_ids: 101 3287 10527 25022 11890 2819 28472 2003 9092 15464 21723 2000 2775 6905 102 3008 2031 1996 2157 2000 2224 2037 2190 8689 1010 1999 1996 2422 1997 2966 6040 102\n",
      "04/22/2020 15:37:00 - INFO - run_classifier -   input_mask: 1 1 1 1 1 1 1 1 1 1 1 1 1 1 1 1 1 1 1 1 1 1 1 1 1 1 1 1 1 1 1 1\n",
      "04/22/2020 15:37:00 - INFO - run_classifier -   segment_ids: 0 0 0 0 0 0 0 0 0 0 0 0 0 0 0 1 1 1 1 1 1 1 1 1 1 1 1 1 1 1 1 1\n",
      "04/22/2020 15:37:00 - INFO - run_classifier -   label: 0 (id = 0)\n",
      "04/22/2020 15:37:00 - INFO - run_classifier -   *** Example ***\n",
      "04/22/2020 15:37:00 - INFO - run_classifier -   guid: train-2\n",
      "04/22/2020 15:37:00 - INFO - run_classifier -   tokens: [CLS] male infant ci ##rc ##um ##cision is tan ##tam ##ount to child abuse [SEP] parents know what best for th ##ier child [SEP]\n",
      "04/22/2020 15:37:00 - INFO - run_classifier -   input_ids: 101 3287 10527 25022 11890 2819 28472 2003 9092 15464 21723 2000 2775 6905 102 3008 2113 2054 2190 2005 16215 3771 2775 102 0 0 0 0 0 0 0 0\n",
      "04/22/2020 15:37:00 - INFO - run_classifier -   input_mask: 1 1 1 1 1 1 1 1 1 1 1 1 1 1 1 1 1 1 1 1 1 1 1 1 0 0 0 0 0 0 0 0\n",
      "04/22/2020 15:37:00 - INFO - run_classifier -   segment_ids: 0 0 0 0 0 0 0 0 0 0 0 0 0 0 0 1 1 1 1 1 1 1 1 1 0 0 0 0 0 0 0 0\n",
      "04/22/2020 15:37:00 - INFO - run_classifier -   label: 0 (id = 0)\n",
      "04/22/2020 15:37:00 - INFO - run_classifier -   *** Example ***\n",
      "04/22/2020 15:37:00 - INFO - run_classifier -   guid: train-3\n",
      "04/22/2020 15:37:00 - INFO - run_classifier -   tokens: [CLS] male infant ci ##rc ##um ##cision is tan ##tam ##ount to child abuse [SEP] parents have the right to make the decisions for their child [SEP]\n",
      "04/22/2020 15:37:00 - INFO - run_classifier -   input_ids: 101 3287 10527 25022 11890 2819 28472 2003 9092 15464 21723 2000 2775 6905 102 3008 2031 1996 2157 2000 2191 1996 6567 2005 2037 2775 102 0 0 0 0 0\n",
      "04/22/2020 15:37:00 - INFO - run_classifier -   input_mask: 1 1 1 1 1 1 1 1 1 1 1 1 1 1 1 1 1 1 1 1 1 1 1 1 1 1 1 0 0 0 0 0\n",
      "04/22/2020 15:37:00 - INFO - run_classifier -   segment_ids: 0 0 0 0 0 0 0 0 0 0 0 0 0 0 0 1 1 1 1 1 1 1 1 1 1 1 1 0 0 0 0 0\n",
      "04/22/2020 15:37:00 - INFO - run_classifier -   label: 0 (id = 0)\n",
      "04/22/2020 15:37:00 - INFO - run_classifier -   *** Example ***\n",
      "04/22/2020 15:37:00 - INFO - run_classifier -   guid: train-4\n",
      "04/22/2020 15:37:00 - INFO - run_classifier -   tokens: [CLS] punishment should fit the criminal [SEP] it will cause less re - offenders . [SEP]\n",
      "04/22/2020 15:37:00 - INFO - run_classifier -   input_ids: 101 7750 2323 4906 1996 4735 102 2009 2097 3426 2625 2128 1011 19591 1012 102 0 0 0 0 0 0 0 0 0 0 0 0 0 0 0 0\n",
      "04/22/2020 15:37:00 - INFO - run_classifier -   input_mask: 1 1 1 1 1 1 1 1 1 1 1 1 1 1 1 1 0 0 0 0 0 0 0 0 0 0 0 0 0 0 0 0\n",
      "04/22/2020 15:37:00 - INFO - run_classifier -   segment_ids: 0 0 0 0 0 0 0 1 1 1 1 1 1 1 1 1 0 0 0 0 0 0 0 0 0 0 0 0 0 0 0 0\n",
      "04/22/2020 15:37:00 - INFO - run_classifier -   label: 1 (id = 1)\n",
      "04/22/2020 15:37:00 - INFO - run_classifier -   *** Example ***\n",
      "04/22/2020 15:37:00 - INFO - run_classifier -   guid: train-5\n",
      "04/22/2020 15:37:00 - INFO - run_classifier -   tokens: [CLS] punishment should fit the criminal [SEP] adequate punishment reduces future offenses . [SEP]\n",
      "04/22/2020 15:37:00 - INFO - run_classifier -   input_ids: 101 7750 2323 4906 1996 4735 102 11706 7750 13416 2925 25173 1012 102 0 0 0 0 0 0 0 0 0 0 0 0 0 0 0 0 0 0\n",
      "04/22/2020 15:37:00 - INFO - run_classifier -   input_mask: 1 1 1 1 1 1 1 1 1 1 1 1 1 1 0 0 0 0 0 0 0 0 0 0 0 0 0 0 0 0 0 0\n",
      "04/22/2020 15:37:00 - INFO - run_classifier -   segment_ids: 0 0 0 0 0 0 0 1 1 1 1 1 1 1 0 0 0 0 0 0 0 0 0 0 0 0 0 0 0 0 0 0\n",
      "04/22/2020 15:37:00 - INFO - run_classifier -   label: 1 (id = 1)\n",
      "04/22/2020 15:37:03 - INFO - run_classifier -   *** Claim Example ***\n",
      "04/22/2020 15:37:03 - INFO - run_classifier -   guid: train-1\n",
      "04/22/2020 15:37:03 - INFO - run_classifier -   tokens: [CLS] male infant ci ##rc ##um ##cision is tan ##tam ##ount to child abuse [SEP]\n",
      "04/22/2020 15:37:03 - INFO - run_classifier -   input_ids: 101 3287 10527 25022 11890 2819 28472 2003 9092 15464 21723 2000 2775 6905 102 0 0 0 0 0 0 0 0 0 0 0 0 0 0 0 0 0\n",
      "04/22/2020 15:37:03 - INFO - run_classifier -   input_mask: 1 1 1 1 1 1 1 1 1 1 1 1 1 1 1 0 0 0 0 0 0 0 0 0 0 0 0 0 0 0 0 0\n",
      "04/22/2020 15:37:03 - INFO - run_classifier -   segment_ids: 0 0 0 0 0 0 0 0 0 0 0 0 0 0 0 0 0 0 0 0 0 0 0 0 0 0 0 0 0 0 0 0\n",
      "04/22/2020 15:37:03 - INFO - run_classifier -   label: 0 (id = 0)\n",
      "04/22/2020 15:37:03 - INFO - run_classifier -   *** Claim Example ***\n",
      "04/22/2020 15:37:03 - INFO - run_classifier -   guid: train-2\n",
      "04/22/2020 15:37:03 - INFO - run_classifier -   tokens: [CLS] male infant ci ##rc ##um ##cision is tan ##tam ##ount to child abuse [SEP]\n",
      "04/22/2020 15:37:03 - INFO - run_classifier -   input_ids: 101 3287 10527 25022 11890 2819 28472 2003 9092 15464 21723 2000 2775 6905 102 0 0 0 0 0 0 0 0 0 0 0 0 0 0 0 0 0\n",
      "04/22/2020 15:37:03 - INFO - run_classifier -   input_mask: 1 1 1 1 1 1 1 1 1 1 1 1 1 1 1 0 0 0 0 0 0 0 0 0 0 0 0 0 0 0 0 0\n",
      "04/22/2020 15:37:03 - INFO - run_classifier -   segment_ids: 0 0 0 0 0 0 0 0 0 0 0 0 0 0 0 0 0 0 0 0 0 0 0 0 0 0 0 0 0 0 0 0\n",
      "04/22/2020 15:37:03 - INFO - run_classifier -   label: 0 (id = 0)\n",
      "04/22/2020 15:37:03 - INFO - run_classifier -   *** Claim Example ***\n",
      "04/22/2020 15:37:03 - INFO - run_classifier -   guid: train-3\n",
      "04/22/2020 15:37:03 - INFO - run_classifier -   tokens: [CLS] male infant ci ##rc ##um ##cision is tan ##tam ##ount to child abuse [SEP]\n",
      "04/22/2020 15:37:03 - INFO - run_classifier -   input_ids: 101 3287 10527 25022 11890 2819 28472 2003 9092 15464 21723 2000 2775 6905 102 0 0 0 0 0 0 0 0 0 0 0 0 0 0 0 0 0\n",
      "04/22/2020 15:37:03 - INFO - run_classifier -   input_mask: 1 1 1 1 1 1 1 1 1 1 1 1 1 1 1 0 0 0 0 0 0 0 0 0 0 0 0 0 0 0 0 0\n",
      "04/22/2020 15:37:03 - INFO - run_classifier -   segment_ids: 0 0 0 0 0 0 0 0 0 0 0 0 0 0 0 0 0 0 0 0 0 0 0 0 0 0 0 0 0 0 0 0\n",
      "04/22/2020 15:37:03 - INFO - run_classifier -   label: 0 (id = 0)\n",
      "04/22/2020 15:37:03 - INFO - run_classifier -   *** Claim Example ***\n",
      "04/22/2020 15:37:03 - INFO - run_classifier -   guid: train-4\n",
      "04/22/2020 15:37:03 - INFO - run_classifier -   tokens: [CLS] punishment should fit the criminal [SEP]\n",
      "04/22/2020 15:37:03 - INFO - run_classifier -   input_ids: 101 7750 2323 4906 1996 4735 102 0 0 0 0 0 0 0 0 0 0 0 0 0 0 0 0 0 0 0 0 0 0 0 0 0\n",
      "04/22/2020 15:37:03 - INFO - run_classifier -   input_mask: 1 1 1 1 1 1 1 0 0 0 0 0 0 0 0 0 0 0 0 0 0 0 0 0 0 0 0 0 0 0 0 0\n",
      "04/22/2020 15:37:03 - INFO - run_classifier -   segment_ids: 0 0 0 0 0 0 0 0 0 0 0 0 0 0 0 0 0 0 0 0 0 0 0 0 0 0 0 0 0 0 0 0\n",
      "04/22/2020 15:37:03 - INFO - run_classifier -   label: 1 (id = 1)\n",
      "04/22/2020 15:37:03 - INFO - run_classifier -   *** Claim Example ***\n",
      "04/22/2020 15:37:03 - INFO - run_classifier -   guid: train-5\n",
      "04/22/2020 15:37:03 - INFO - run_classifier -   tokens: [CLS] punishment should fit the criminal [SEP]\n",
      "04/22/2020 15:37:03 - INFO - run_classifier -   input_ids: 101 7750 2323 4906 1996 4735 102 0 0 0 0 0 0 0 0 0 0 0 0 0 0 0 0 0 0 0 0 0 0 0 0 0\n",
      "04/22/2020 15:37:03 - INFO - run_classifier -   input_mask: 1 1 1 1 1 1 1 0 0 0 0 0 0 0 0 0 0 0 0 0 0 0 0 0 0 0 0 0 0 0 0 0\n",
      "04/22/2020 15:37:03 - INFO - run_classifier -   segment_ids: 0 0 0 0 0 0 0 0 0 0 0 0 0 0 0 0 0 0 0 0 0 0 0 0 0 0 0 0 0 0 0 0\n",
      "04/22/2020 15:37:03 - INFO - run_classifier -   label: 1 (id = 1)\n",
      "04/22/2020 15:37:05 - INFO - run_classifier -   ***** Running training *****\n",
      "04/22/2020 15:37:05 - INFO - run_classifier -     Num examples = 7007\n",
      "04/22/2020 15:37:05 - INFO - run_classifier -     Batch size = 32\n",
      "04/22/2020 15:37:05 - INFO - run_classifier -     Num steps = 656\n"
     ]
    }
   ],
   "source": [
    "global_step = 0\n",
    "train_features = convert_examples_to_features(train_examples, label_list, max_seq_length, tokenizer)\n",
    "claim_features = convert_claims_to_features(train_examples, label_list, max_seq_length, tokenizer)\n",
    "logger.info(\"***** Running training *****\")\n",
    "logger.info(\"  Num examples = %d\", len(train_examples))\n",
    "logger.info(\"  Batch size = %d\", train_batch_size)\n",
    "logger.info(\"  Num steps = %d\", num_train_steps)\n",
    "\n",
    "\n",
    "all_input_ids = torch.tensor([f.input_ids for f in train_features], dtype=torch.long)\n",
    "all_input_mask = torch.tensor([f.input_mask for f in train_features], dtype=torch.long)\n",
    "all_segment_ids = torch.tensor([f.segment_ids for f in train_features], dtype=torch.long)\n",
    "all_label_ids = torch.tensor([f.label_id for f in train_features], dtype=torch.long)\n",
    "\n",
    "claims_input_ids = torch.tensor([f.input_ids for f in claim_features], dtype=torch.long)\n",
    "claims_input_mask = torch.tensor([f.input_mask for f in claim_features], dtype=torch.long)\n",
    "claims_segment_ids = torch.tensor([f.segment_ids for f in claim_features], dtype=torch.long)\n",
    "claims_label_ids = torch.tensor([f.label_id for f in claim_features], dtype=torch.long)\n",
    "\n",
    "train_data = TensorDataset(all_input_ids, all_input_mask, all_segment_ids, all_label_ids, claims_input_ids, claims_input_mask, claims_segment_ids, claims_label_ids)\n",
    "train_sampler = RandomSampler(train_data)\n",
    "train_dataloader = DataLoader(train_data, sampler=train_sampler, batch_size=train_batch_size)\n",
    "\n",
    "# claims_data = TensorDataset(claims_input_ids, claims_input_mask, claims_segment_ids, claims_label_ids)\n",
    "# claims_sampler = RandomSampler(claims_data)\n",
    "# claims_dataloader = DataLoader(claims_data, sampler=train_sampler, batch_size=train_batch_size)"
   ]
  },
  {
   "cell_type": "code",
   "execution_count": 30,
   "metadata": {
    "scrolled": true
   },
   "outputs": [
    {
     "name": "stderr",
     "output_type": "stream",
     "text": [
      "Epoch:   0%|                                                                                     | 0/3 [00:00<?, ?it/s]\n",
      "Iteration:   0%|                                                                               | 0/219 [00:00<?, ?it/s]\u001b[A"
     ]
    },
    {
     "name": "stdout",
     "output_type": "stream",
     "text": [
      "out_results:\n",
      "tensor(1.1502, grad_fn=<AddBackward0>)\n"
     ]
    },
    {
     "name": "stderr",
     "output_type": "stream",
     "text": [
      "\n",
      "Iteration:   0%|▎                                                                      | 1/219 [00:10<39:18, 10.82s/it]\u001b[A"
     ]
    },
    {
     "name": "stdout",
     "output_type": "stream",
     "text": [
      "out_results:\n",
      "tensor(1.1752, grad_fn=<AddBackward0>)\n"
     ]
    },
    {
     "name": "stderr",
     "output_type": "stream",
     "text": [
      "\n",
      "Iteration:   1%|▋                                                                      | 2/219 [00:20<37:34, 10.39s/it]\u001b[A"
     ]
    },
    {
     "name": "stdout",
     "output_type": "stream",
     "text": [
      "out_results:\n",
      "tensor(1.2615, grad_fn=<AddBackward0>)\n"
     ]
    },
    {
     "name": "stderr",
     "output_type": "stream",
     "text": [
      "\n",
      "Iteration:   1%|▉                                                                      | 3/219 [00:29<36:20, 10.10s/it]\u001b[A"
     ]
    },
    {
     "name": "stdout",
     "output_type": "stream",
     "text": [
      "out_results:\n",
      "tensor(1.2718, grad_fn=<AddBackward0>)\n"
     ]
    },
    {
     "name": "stderr",
     "output_type": "stream",
     "text": [
      "\n",
      "Iteration:   2%|█▎                                                                     | 4/219 [00:38<35:24,  9.88s/it]\u001b[A"
     ]
    },
    {
     "name": "stdout",
     "output_type": "stream",
     "text": [
      "out_results:\n",
      "tensor(1.1858, grad_fn=<AddBackward0>)\n"
     ]
    },
    {
     "name": "stderr",
     "output_type": "stream",
     "text": [
      "\n",
      "Iteration:   2%|█▌                                                                     | 5/219 [00:48<34:50,  9.77s/it]\u001b[A"
     ]
    },
    {
     "name": "stdout",
     "output_type": "stream",
     "text": [
      "out_results:\n",
      "tensor(1.2760, grad_fn=<AddBackward0>)\n"
     ]
    },
    {
     "name": "stderr",
     "output_type": "stream",
     "text": [
      "\n",
      "Iteration:   3%|█▉                                                                     | 6/219 [00:58<34:30,  9.72s/it]\u001b[A"
     ]
    },
    {
     "name": "stdout",
     "output_type": "stream",
     "text": [
      "out_results:\n",
      "tensor(1.1010, grad_fn=<AddBackward0>)\n"
     ]
    },
    {
     "name": "stderr",
     "output_type": "stream",
     "text": [
      "\n",
      "Iteration:   3%|██▎                                                                    | 7/219 [01:07<34:14,  9.69s/it]\u001b[A"
     ]
    },
    {
     "name": "stdout",
     "output_type": "stream",
     "text": [
      "out_results:\n",
      "tensor(1.1954, grad_fn=<AddBackward0>)\n"
     ]
    },
    {
     "name": "stderr",
     "output_type": "stream",
     "text": [
      "\n",
      "Iteration:   4%|██▌                                                                    | 8/219 [01:17<33:57,  9.65s/it]\u001b[A"
     ]
    },
    {
     "name": "stdout",
     "output_type": "stream",
     "text": [
      "out_results:\n",
      "tensor(1.1204, grad_fn=<AddBackward0>)\n"
     ]
    },
    {
     "name": "stderr",
     "output_type": "stream",
     "text": [
      "\n",
      "Iteration:   4%|██▉                                                                    | 9/219 [01:26<33:40,  9.62s/it]\u001b[A"
     ]
    },
    {
     "name": "stdout",
     "output_type": "stream",
     "text": [
      "out_results:\n",
      "tensor(1.2461, grad_fn=<AddBackward0>)\n"
     ]
    },
    {
     "name": "stderr",
     "output_type": "stream",
     "text": [
      "\n",
      "Iteration:   5%|███▏                                                                  | 10/219 [01:36<33:30,  9.62s/it]\u001b[A"
     ]
    },
    {
     "name": "stdout",
     "output_type": "stream",
     "text": [
      "out_results:\n",
      "tensor(1.2181, grad_fn=<AddBackward0>)\n"
     ]
    },
    {
     "name": "stderr",
     "output_type": "stream",
     "text": [
      "\n",
      "Iteration:   5%|███▌                                                                  | 11/219 [01:46<33:21,  9.62s/it]\u001b[A"
     ]
    },
    {
     "name": "stdout",
     "output_type": "stream",
     "text": [
      "out_results:\n",
      "tensor(1.2153, grad_fn=<AddBackward0>)\n"
     ]
    },
    {
     "name": "stderr",
     "output_type": "stream",
     "text": [
      "\n",
      "Iteration:   5%|███▊                                                                  | 12/219 [01:55<33:12,  9.63s/it]\u001b[A"
     ]
    },
    {
     "name": "stdout",
     "output_type": "stream",
     "text": [
      "out_results:\n",
      "tensor(1.2377, grad_fn=<AddBackward0>)\n"
     ]
    },
    {
     "name": "stderr",
     "output_type": "stream",
     "text": [
      "\n",
      "Iteration:   6%|████▏                                                                 | 13/219 [02:05<32:58,  9.60s/it]\u001b[A"
     ]
    },
    {
     "name": "stdout",
     "output_type": "stream",
     "text": [
      "out_results:\n",
      "tensor(1.1222, grad_fn=<AddBackward0>)\n"
     ]
    },
    {
     "name": "stderr",
     "output_type": "stream",
     "text": [
      "\n",
      "Iteration:   6%|████▍                                                                 | 14/219 [02:14<32:45,  9.59s/it]\u001b[A"
     ]
    },
    {
     "name": "stdout",
     "output_type": "stream",
     "text": [
      "out_results:\n",
      "tensor(1.2486, grad_fn=<AddBackward0>)\n"
     ]
    },
    {
     "name": "stderr",
     "output_type": "stream",
     "text": [
      "\n",
      "Iteration:   7%|████▊                                                                 | 15/219 [02:24<32:37,  9.59s/it]\u001b[A"
     ]
    },
    {
     "name": "stdout",
     "output_type": "stream",
     "text": [
      "out_results:\n",
      "tensor(1.1755, grad_fn=<AddBackward0>)\n"
     ]
    },
    {
     "name": "stderr",
     "output_type": "stream",
     "text": [
      "\n",
      "Iteration:   7%|█████                                                                 | 16/219 [02:34<32:28,  9.60s/it]\u001b[A"
     ]
    },
    {
     "name": "stdout",
     "output_type": "stream",
     "text": [
      "out_results:\n",
      "tensor(1.1981, grad_fn=<AddBackward0>)\n"
     ]
    },
    {
     "name": "stderr",
     "output_type": "stream",
     "text": [
      "\n",
      "Iteration:   8%|█████▍                                                                | 17/219 [02:43<32:18,  9.60s/it]\u001b[A"
     ]
    },
    {
     "name": "stdout",
     "output_type": "stream",
     "text": [
      "out_results:\n",
      "tensor(1.2902, grad_fn=<AddBackward0>)\n"
     ]
    },
    {
     "name": "stderr",
     "output_type": "stream",
     "text": [
      "\n",
      "Iteration:   8%|█████▊                                                                | 18/219 [02:53<32:06,  9.58s/it]\u001b[A"
     ]
    },
    {
     "name": "stdout",
     "output_type": "stream",
     "text": [
      "out_results:\n",
      "tensor(1.3029, grad_fn=<AddBackward0>)\n"
     ]
    },
    {
     "name": "stderr",
     "output_type": "stream",
     "text": [
      "\n",
      "Iteration:   9%|██████                                                                | 19/219 [03:02<31:58,  9.59s/it]\u001b[A"
     ]
    },
    {
     "name": "stdout",
     "output_type": "stream",
     "text": [
      "out_results:\n",
      "tensor(1.2595, grad_fn=<AddBackward0>)\n"
     ]
    },
    {
     "name": "stderr",
     "output_type": "stream",
     "text": [
      "\n",
      "Iteration:   9%|██████▍                                                               | 20/219 [03:12<31:49,  9.60s/it]\u001b[A"
     ]
    },
    {
     "name": "stdout",
     "output_type": "stream",
     "text": [
      "out_results:\n",
      "tensor(1.2412, grad_fn=<AddBackward0>)\n"
     ]
    },
    {
     "name": "stderr",
     "output_type": "stream",
     "text": [
      "\n",
      "Iteration:  10%|██████▋                                                               | 21/219 [03:21<31:38,  9.59s/it]\u001b[A"
     ]
    },
    {
     "name": "stdout",
     "output_type": "stream",
     "text": [
      "out_results:\n",
      "tensor(1.2174, grad_fn=<AddBackward0>)\n"
     ]
    },
    {
     "name": "stderr",
     "output_type": "stream",
     "text": [
      "\n",
      "Iteration:  10%|███████                                                               | 22/219 [03:31<31:27,  9.58s/it]\u001b[A"
     ]
    },
    {
     "name": "stdout",
     "output_type": "stream",
     "text": [
      "out_results:\n",
      "tensor(1.2080, grad_fn=<AddBackward0>)\n"
     ]
    },
    {
     "name": "stderr",
     "output_type": "stream",
     "text": [
      "\n",
      "Iteration:  11%|███████▎                                                              | 23/219 [03:41<31:19,  9.59s/it]\u001b[A"
     ]
    },
    {
     "name": "stdout",
     "output_type": "stream",
     "text": [
      "out_results:\n",
      "tensor(1.2637, grad_fn=<AddBackward0>)\n"
     ]
    },
    {
     "name": "stderr",
     "output_type": "stream",
     "text": [
      "\n",
      "Iteration:  11%|███████▋                                                              | 24/219 [03:50<31:08,  9.58s/it]\u001b[A"
     ]
    },
    {
     "name": "stdout",
     "output_type": "stream",
     "text": [
      "out_results:\n",
      "tensor(1.1413, grad_fn=<AddBackward0>)\n"
     ]
    },
    {
     "name": "stderr",
     "output_type": "stream",
     "text": [
      "\n",
      "Iteration:  11%|███████▉                                                              | 25/219 [04:00<31:14,  9.66s/it]\u001b[A"
     ]
    },
    {
     "name": "stdout",
     "output_type": "stream",
     "text": [
      "out_results:\n",
      "tensor(1.2022, grad_fn=<AddBackward0>)\n"
     ]
    },
    {
     "name": "stderr",
     "output_type": "stream",
     "text": [
      "\n",
      "Iteration:  12%|████████▎                                                             | 26/219 [04:10<31:23,  9.76s/it]\u001b[A"
     ]
    },
    {
     "name": "stdout",
     "output_type": "stream",
     "text": [
      "out_results:\n",
      "tensor(1.2854, grad_fn=<AddBackward0>)\n"
     ]
    },
    {
     "name": "stderr",
     "output_type": "stream",
     "text": [
      "\n",
      "Iteration:  12%|████████▋                                                             | 27/219 [04:20<31:22,  9.81s/it]\u001b[A"
     ]
    },
    {
     "name": "stdout",
     "output_type": "stream",
     "text": [
      "out_results:\n",
      "tensor(1.2313, grad_fn=<AddBackward0>)\n"
     ]
    },
    {
     "name": "stderr",
     "output_type": "stream",
     "text": [
      "\n",
      "Iteration:  13%|████████▉                                                             | 28/219 [04:30<31:21,  9.85s/it]\u001b[A"
     ]
    },
    {
     "name": "stdout",
     "output_type": "stream",
     "text": [
      "out_results:\n",
      "tensor(1.0671, grad_fn=<AddBackward0>)\n"
     ]
    },
    {
     "name": "stderr",
     "output_type": "stream",
     "text": [
      "\n",
      "Iteration:  13%|█████████▎                                                            | 29/219 [04:39<30:54,  9.76s/it]\u001b[A"
     ]
    },
    {
     "name": "stdout",
     "output_type": "stream",
     "text": [
      "out_results:\n",
      "tensor(1.1260, grad_fn=<AddBackward0>)\n"
     ]
    },
    {
     "name": "stderr",
     "output_type": "stream",
     "text": [
      "\n",
      "Iteration:  14%|█████████▌                                                            | 30/219 [04:49<30:26,  9.66s/it]\u001b[A"
     ]
    },
    {
     "name": "stdout",
     "output_type": "stream",
     "text": [
      "out_results:\n",
      "tensor(1.2145, grad_fn=<AddBackward0>)\n"
     ]
    },
    {
     "name": "stderr",
     "output_type": "stream",
     "text": [
      "\n",
      "Iteration:  14%|█████████▉                                                            | 31/219 [04:58<30:10,  9.63s/it]\u001b[A"
     ]
    },
    {
     "name": "stdout",
     "output_type": "stream",
     "text": [
      "out_results:\n",
      "tensor(1.0378, grad_fn=<AddBackward0>)\n"
     ]
    },
    {
     "name": "stderr",
     "output_type": "stream",
     "text": [
      "\n",
      "Iteration:  15%|██████████▏                                                           | 32/219 [05:08<30:00,  9.63s/it]\u001b[A"
     ]
    },
    {
     "name": "stdout",
     "output_type": "stream",
     "text": [
      "out_results:\n",
      "tensor(1.1912, grad_fn=<AddBackward0>)\n"
     ]
    },
    {
     "name": "stderr",
     "output_type": "stream",
     "text": [
      "\n",
      "Iteration:  15%|██████████▌                                                           | 33/219 [05:18<29:49,  9.62s/it]\u001b[A"
     ]
    },
    {
     "name": "stdout",
     "output_type": "stream",
     "text": [
      "out_results:\n",
      "tensor(1.2736, grad_fn=<AddBackward0>)\n"
     ]
    },
    {
     "name": "stderr",
     "output_type": "stream",
     "text": [
      "\n",
      "Iteration:  16%|██████████▊                                                           | 34/219 [05:27<29:38,  9.61s/it]\u001b[A"
     ]
    },
    {
     "name": "stdout",
     "output_type": "stream",
     "text": [
      "out_results:\n",
      "tensor(1.1828, grad_fn=<AddBackward0>)\n"
     ]
    },
    {
     "name": "stderr",
     "output_type": "stream",
     "text": [
      "\n",
      "Iteration:  16%|███████████▏                                                          | 35/219 [05:37<29:26,  9.60s/it]\u001b[A"
     ]
    },
    {
     "name": "stdout",
     "output_type": "stream",
     "text": [
      "out_results:\n",
      "tensor(1.2951, grad_fn=<AddBackward0>)\n"
     ]
    },
    {
     "name": "stderr",
     "output_type": "stream",
     "text": [
      "\n",
      "Iteration:  16%|███████████▌                                                          | 36/219 [05:46<29:13,  9.58s/it]\u001b[A"
     ]
    },
    {
     "name": "stdout",
     "output_type": "stream",
     "text": [
      "out_results:\n",
      "tensor(1.1916, grad_fn=<AddBackward0>)\n"
     ]
    },
    {
     "name": "stderr",
     "output_type": "stream",
     "text": [
      "\n",
      "Iteration:  17%|███████████▊                                                          | 37/219 [05:56<29:03,  9.58s/it]\u001b[A"
     ]
    },
    {
     "name": "stdout",
     "output_type": "stream",
     "text": [
      "out_results:\n",
      "tensor(1.1951, grad_fn=<AddBackward0>)\n"
     ]
    },
    {
     "name": "stderr",
     "output_type": "stream",
     "text": [
      "\n",
      "Iteration:  17%|████████████▏                                                         | 38/219 [06:06<28:54,  9.58s/it]\u001b[A"
     ]
    },
    {
     "name": "stdout",
     "output_type": "stream",
     "text": [
      "out_results:\n",
      "tensor(1.1912, grad_fn=<AddBackward0>)\n"
     ]
    },
    {
     "name": "stderr",
     "output_type": "stream",
     "text": [
      "\n",
      "Iteration:  18%|████████████▍                                                         | 39/219 [06:15<28:49,  9.61s/it]\u001b[A"
     ]
    },
    {
     "name": "stdout",
     "output_type": "stream",
     "text": [
      "out_results:\n",
      "tensor(1.1164, grad_fn=<AddBackward0>)\n"
     ]
    },
    {
     "name": "stderr",
     "output_type": "stream",
     "text": [
      "\n",
      "Iteration:  18%|████████████▊                                                         | 40/219 [06:25<28:35,  9.58s/it]\u001b[A"
     ]
    },
    {
     "name": "stdout",
     "output_type": "stream",
     "text": [
      "out_results:\n",
      "tensor(1.2027, grad_fn=<AddBackward0>)\n"
     ]
    },
    {
     "name": "stderr",
     "output_type": "stream",
     "text": [
      "\n",
      "Iteration:  19%|█████████████                                                         | 41/219 [06:34<28:27,  9.59s/it]\u001b[A"
     ]
    },
    {
     "name": "stdout",
     "output_type": "stream",
     "text": [
      "out_results:\n",
      "tensor(1.2244, grad_fn=<AddBackward0>)\n"
     ]
    },
    {
     "name": "stderr",
     "output_type": "stream",
     "text": [
      "\n",
      "Iteration:  19%|█████████████▍                                                        | 42/219 [06:44<28:18,  9.59s/it]\u001b[A"
     ]
    },
    {
     "name": "stdout",
     "output_type": "stream",
     "text": [
      "out_results:\n",
      "tensor(1.2836, grad_fn=<AddBackward0>)\n"
     ]
    },
    {
     "name": "stderr",
     "output_type": "stream",
     "text": [
      "\n",
      "Iteration:  20%|█████████████▋                                                        | 43/219 [06:54<28:08,  9.59s/it]\u001b[A"
     ]
    },
    {
     "name": "stdout",
     "output_type": "stream",
     "text": [
      "out_results:\n",
      "tensor(1.1782, grad_fn=<AddBackward0>)\n"
     ]
    },
    {
     "name": "stderr",
     "output_type": "stream",
     "text": [
      "\n",
      "Iteration:  20%|██████████████                                                        | 44/219 [07:03<27:57,  9.59s/it]\u001b[A"
     ]
    },
    {
     "name": "stdout",
     "output_type": "stream",
     "text": [
      "out_results:\n",
      "tensor(1.2368, grad_fn=<AddBackward0>)\n"
     ]
    },
    {
     "name": "stderr",
     "output_type": "stream",
     "text": [
      "\n",
      "Iteration:  21%|██████████████▍                                                       | 45/219 [07:13<27:47,  9.58s/it]\u001b[A"
     ]
    },
    {
     "name": "stdout",
     "output_type": "stream",
     "text": [
      "out_results:\n",
      "tensor(1.1871, grad_fn=<AddBackward0>)\n"
     ]
    },
    {
     "name": "stderr",
     "output_type": "stream",
     "text": [
      "\n",
      "Iteration:  21%|██████████████▋                                                       | 46/219 [07:22<27:37,  9.58s/it]\u001b[A"
     ]
    },
    {
     "name": "stdout",
     "output_type": "stream",
     "text": [
      "out_results:\n",
      "tensor(1.2239, grad_fn=<AddBackward0>)\n"
     ]
    },
    {
     "name": "stderr",
     "output_type": "stream",
     "text": [
      "\n",
      "Iteration:  21%|███████████████                                                       | 47/219 [07:32<27:26,  9.57s/it]\u001b[A"
     ]
    },
    {
     "name": "stdout",
     "output_type": "stream",
     "text": [
      "out_results:\n",
      "tensor(1.1508, grad_fn=<AddBackward0>)\n"
     ]
    },
    {
     "name": "stderr",
     "output_type": "stream",
     "text": [
      "\n",
      "Iteration:  22%|███████████████▎                                                      | 48/219 [07:41<27:17,  9.58s/it]\u001b[A"
     ]
    },
    {
     "name": "stdout",
     "output_type": "stream",
     "text": [
      "out_results:\n",
      "tensor(1.1108, grad_fn=<AddBackward0>)\n"
     ]
    },
    {
     "name": "stderr",
     "output_type": "stream",
     "text": [
      "\n",
      "Iteration:  22%|███████████████▋                                                      | 49/219 [07:51<27:07,  9.58s/it]\u001b[A"
     ]
    },
    {
     "name": "stdout",
     "output_type": "stream",
     "text": [
      "out_results:\n",
      "tensor(1.1457, grad_fn=<AddBackward0>)\n"
     ]
    },
    {
     "name": "stderr",
     "output_type": "stream",
     "text": [
      "\n",
      "Iteration:  23%|███████████████▉                                                      | 50/219 [08:01<26:57,  9.57s/it]\u001b[A"
     ]
    },
    {
     "name": "stdout",
     "output_type": "stream",
     "text": [
      "out_results:\n",
      "tensor(1.1051, grad_fn=<AddBackward0>)\n"
     ]
    },
    {
     "name": "stderr",
     "output_type": "stream",
     "text": [
      "\n",
      "Iteration:  23%|████████████████▎                                                     | 51/219 [08:10<26:47,  9.57s/it]\u001b[A"
     ]
    },
    {
     "name": "stdout",
     "output_type": "stream",
     "text": [
      "out_results:\n",
      "tensor(1.2853, grad_fn=<AddBackward0>)\n"
     ]
    },
    {
     "name": "stderr",
     "output_type": "stream",
     "text": [
      "\n",
      "Iteration:  24%|████████████████▌                                                     | 52/219 [08:20<26:50,  9.64s/it]\u001b[A"
     ]
    },
    {
     "name": "stdout",
     "output_type": "stream",
     "text": [
      "out_results:\n",
      "tensor(1.2184, grad_fn=<AddBackward0>)\n"
     ]
    },
    {
     "name": "stderr",
     "output_type": "stream",
     "text": [
      "\n",
      "Iteration:  24%|████████████████▉                                                     | 53/219 [08:30<26:53,  9.72s/it]\u001b[A"
     ]
    },
    {
     "name": "stdout",
     "output_type": "stream",
     "text": [
      "out_results:\n",
      "tensor(1.1237, grad_fn=<AddBackward0>)\n"
     ]
    },
    {
     "name": "stderr",
     "output_type": "stream",
     "text": [
      "\n",
      "Iteration:  25%|█████████████████▎                                                    | 54/219 [08:40<26:54,  9.78s/it]\u001b[A"
     ]
    },
    {
     "name": "stdout",
     "output_type": "stream",
     "text": [
      "out_results:\n",
      "tensor(1.0865, grad_fn=<AddBackward0>)\n"
     ]
    },
    {
     "name": "stderr",
     "output_type": "stream",
     "text": [
      "\n",
      "Iteration:  25%|█████████████████▌                                                    | 55/219 [08:49<26:30,  9.70s/it]\u001b[A"
     ]
    },
    {
     "name": "stdout",
     "output_type": "stream",
     "text": [
      "out_results:\n",
      "tensor(1.2306, grad_fn=<AddBackward0>)\n"
     ]
    },
    {
     "name": "stderr",
     "output_type": "stream",
     "text": [
      "\n",
      "Iteration:  26%|█████████████████▉                                                    | 56/219 [08:59<26:02,  9.59s/it]\u001b[A"
     ]
    },
    {
     "name": "stdout",
     "output_type": "stream",
     "text": [
      "out_results:\n",
      "tensor(1.1914, grad_fn=<AddBackward0>)\n"
     ]
    },
    {
     "name": "stderr",
     "output_type": "stream",
     "text": [
      "\n",
      "Iteration:  26%|██████████████████▏                                                   | 57/219 [09:08<25:45,  9.54s/it]\u001b[A"
     ]
    },
    {
     "name": "stdout",
     "output_type": "stream",
     "text": [
      "out_results:\n",
      "tensor(1.2445, grad_fn=<AddBackward0>)\n"
     ]
    },
    {
     "name": "stderr",
     "output_type": "stream",
     "text": [
      "\n",
      "Iteration:  26%|██████████████████▌                                                   | 58/219 [09:17<25:32,  9.52s/it]\u001b[A"
     ]
    },
    {
     "name": "stdout",
     "output_type": "stream",
     "text": [
      "out_results:\n",
      "tensor(1.1198, grad_fn=<AddBackward0>)\n"
     ]
    },
    {
     "name": "stderr",
     "output_type": "stream",
     "text": [
      "\n",
      "Iteration:  27%|██████████████████▊                                                   | 59/219 [09:27<25:25,  9.54s/it]\u001b[A"
     ]
    },
    {
     "name": "stdout",
     "output_type": "stream",
     "text": [
      "out_results:\n",
      "tensor(1.2007, grad_fn=<AddBackward0>)\n"
     ]
    },
    {
     "name": "stderr",
     "output_type": "stream",
     "text": [
      "\n",
      "Iteration:  27%|███████████████████▏                                                  | 60/219 [09:37<25:19,  9.55s/it]\u001b[A"
     ]
    },
    {
     "name": "stdout",
     "output_type": "stream",
     "text": [
      "out_results:\n",
      "tensor(1.2122, grad_fn=<AddBackward0>)\n"
     ]
    },
    {
     "name": "stderr",
     "output_type": "stream",
     "text": [
      "\n",
      "Iteration:  28%|███████████████████▍                                                  | 61/219 [09:46<25:13,  9.58s/it]\u001b[A"
     ]
    },
    {
     "name": "stdout",
     "output_type": "stream",
     "text": [
      "out_results:\n",
      "tensor(1.0586, grad_fn=<AddBackward0>)\n"
     ]
    },
    {
     "name": "stderr",
     "output_type": "stream",
     "text": [
      "\n",
      "Iteration:  28%|███████████████████▊                                                  | 62/219 [09:56<25:04,  9.58s/it]\u001b[A"
     ]
    },
    {
     "name": "stdout",
     "output_type": "stream",
     "text": [
      "out_results:\n",
      "tensor(1.1173, grad_fn=<AddBackward0>)\n"
     ]
    },
    {
     "name": "stderr",
     "output_type": "stream",
     "text": [
      "\n",
      "Iteration:  29%|████████████████████▏                                                 | 63/219 [10:05<24:53,  9.58s/it]\u001b[A"
     ]
    },
    {
     "name": "stdout",
     "output_type": "stream",
     "text": [
      "out_results:\n",
      "tensor(1.2970, grad_fn=<AddBackward0>)\n"
     ]
    },
    {
     "name": "stderr",
     "output_type": "stream",
     "text": [
      "\n",
      "Iteration:  29%|████████████████████▍                                                 | 64/219 [10:15<24:43,  9.57s/it]\u001b[A"
     ]
    },
    {
     "name": "stdout",
     "output_type": "stream",
     "text": [
      "out_results:\n",
      "tensor(1.3575, grad_fn=<AddBackward0>)\n"
     ]
    },
    {
     "name": "stderr",
     "output_type": "stream",
     "text": [
      "\n",
      "Iteration:  30%|████████████████████▊                                                 | 65/219 [10:25<24:35,  9.58s/it]\u001b[A"
     ]
    },
    {
     "name": "stdout",
     "output_type": "stream",
     "text": [
      "out_results:\n",
      "tensor(1.1315, grad_fn=<AddBackward0>)\n"
     ]
    },
    {
     "name": "stderr",
     "output_type": "stream",
     "text": [
      "\n",
      "Iteration:  30%|█████████████████████                                                 | 66/219 [10:34<24:27,  9.59s/it]\u001b[A"
     ]
    },
    {
     "name": "stdout",
     "output_type": "stream",
     "text": [
      "out_results:\n",
      "tensor(1.2842, grad_fn=<AddBackward0>)\n"
     ]
    },
    {
     "name": "stderr",
     "output_type": "stream",
     "text": [
      "\n",
      "Iteration:  31%|█████████████████████▍                                                | 67/219 [10:44<24:17,  9.59s/it]\u001b[A"
     ]
    },
    {
     "name": "stdout",
     "output_type": "stream",
     "text": [
      "out_results:\n",
      "tensor(1.1987, grad_fn=<AddBackward0>)\n"
     ]
    },
    {
     "name": "stderr",
     "output_type": "stream",
     "text": [
      "\n",
      "Iteration:  31%|█████████████████████▋                                                | 68/219 [10:53<24:07,  9.59s/it]\u001b[A"
     ]
    },
    {
     "name": "stdout",
     "output_type": "stream",
     "text": [
      "out_results:\n",
      "tensor(1.0461, grad_fn=<AddBackward0>)\n"
     ]
    },
    {
     "name": "stderr",
     "output_type": "stream",
     "text": [
      "\n",
      "Iteration:  32%|██████████████████████                                                | 69/219 [11:03<23:56,  9.58s/it]\u001b[A"
     ]
    },
    {
     "name": "stdout",
     "output_type": "stream",
     "text": [
      "out_results:\n",
      "tensor(1.1692, grad_fn=<AddBackward0>)\n"
     ]
    },
    {
     "name": "stderr",
     "output_type": "stream",
     "text": [
      "\n",
      "Iteration:  32%|██████████████████████▎                                               | 70/219 [11:13<23:46,  9.58s/it]\u001b[A"
     ]
    },
    {
     "name": "stdout",
     "output_type": "stream",
     "text": [
      "out_results:\n",
      "tensor(1.2842, grad_fn=<AddBackward0>)\n"
     ]
    },
    {
     "name": "stderr",
     "output_type": "stream",
     "text": [
      "\n",
      "Iteration:  32%|██████████████████████▋                                               | 71/219 [11:22<23:37,  9.58s/it]\u001b[A"
     ]
    },
    {
     "name": "stdout",
     "output_type": "stream",
     "text": [
      "out_results:\n",
      "tensor(1.1963, grad_fn=<AddBackward0>)\n"
     ]
    },
    {
     "name": "stderr",
     "output_type": "stream",
     "text": [
      "\n",
      "Iteration:  33%|███████████████████████                                               | 72/219 [11:32<23:29,  9.59s/it]\u001b[A"
     ]
    },
    {
     "name": "stdout",
     "output_type": "stream",
     "text": [
      "out_results:\n",
      "tensor(1.1507, grad_fn=<AddBackward0>)\n"
     ]
    },
    {
     "name": "stderr",
     "output_type": "stream",
     "text": [
      "\n",
      "Iteration:  33%|███████████████████████▎                                              | 73/219 [11:41<23:19,  9.58s/it]\u001b[A"
     ]
    },
    {
     "name": "stdout",
     "output_type": "stream",
     "text": [
      "out_results:\n",
      "tensor(1.1516, grad_fn=<AddBackward0>)\n"
     ]
    },
    {
     "name": "stderr",
     "output_type": "stream",
     "text": [
      "\n",
      "Iteration:  34%|███████████████████████▋                                              | 74/219 [11:51<23:07,  9.57s/it]\u001b[A"
     ]
    },
    {
     "name": "stdout",
     "output_type": "stream",
     "text": [
      "out_results:\n",
      "tensor(1.1756, grad_fn=<AddBackward0>)\n"
     ]
    },
    {
     "name": "stderr",
     "output_type": "stream",
     "text": [
      "\n",
      "Iteration:  34%|███████████████████████▉                                              | 75/219 [12:00<22:57,  9.57s/it]\u001b[A"
     ]
    },
    {
     "name": "stdout",
     "output_type": "stream",
     "text": [
      "out_results:\n",
      "tensor(1.1648, grad_fn=<AddBackward0>)\n"
     ]
    },
    {
     "name": "stderr",
     "output_type": "stream",
     "text": [
      "\n",
      "Iteration:  35%|████████████████████████▎                                             | 76/219 [12:10<22:47,  9.57s/it]\u001b[A"
     ]
    },
    {
     "name": "stdout",
     "output_type": "stream",
     "text": [
      "out_results:\n",
      "tensor(1.2187, grad_fn=<AddBackward0>)\n"
     ]
    },
    {
     "name": "stderr",
     "output_type": "stream",
     "text": [
      "\n",
      "Iteration:  35%|████████████████████████▌                                             | 77/219 [12:20<22:38,  9.57s/it]\u001b[A"
     ]
    },
    {
     "name": "stdout",
     "output_type": "stream",
     "text": [
      "out_results:\n",
      "tensor(1.0868, grad_fn=<AddBackward0>)\n"
     ]
    },
    {
     "name": "stderr",
     "output_type": "stream",
     "text": [
      "\n",
      "Iteration:  36%|████████████████████████▉                                             | 78/219 [12:29<22:30,  9.58s/it]\u001b[A"
     ]
    },
    {
     "name": "stdout",
     "output_type": "stream",
     "text": [
      "out_results:\n",
      "tensor(1.0827, grad_fn=<AddBackward0>)\n"
     ]
    },
    {
     "name": "stderr",
     "output_type": "stream",
     "text": [
      "\n",
      "Iteration:  36%|█████████████████████████▎                                            | 79/219 [12:39<22:21,  9.58s/it]\u001b[A"
     ]
    },
    {
     "name": "stdout",
     "output_type": "stream",
     "text": [
      "out_results:\n",
      "tensor(1.1602, grad_fn=<AddBackward0>)\n"
     ]
    },
    {
     "name": "stderr",
     "output_type": "stream",
     "text": [
      "\n",
      "Iteration:  37%|█████████████████████████▌                                            | 80/219 [12:48<22:14,  9.60s/it]\u001b[A"
     ]
    },
    {
     "name": "stdout",
     "output_type": "stream",
     "text": [
      "out_results:\n",
      "tensor(1.3259, grad_fn=<AddBackward0>)\n"
     ]
    },
    {
     "name": "stderr",
     "output_type": "stream",
     "text": [
      "\n",
      "Iteration:  37%|█████████████████████████▉                                            | 81/219 [12:58<22:02,  9.58s/it]\u001b[A"
     ]
    },
    {
     "name": "stdout",
     "output_type": "stream",
     "text": [
      "out_results:\n",
      "tensor(1.1180, grad_fn=<AddBackward0>)\n"
     ]
    },
    {
     "name": "stderr",
     "output_type": "stream",
     "text": [
      "\n",
      "Iteration:  37%|██████████████████████████▏                                           | 82/219 [13:07<21:51,  9.58s/it]\u001b[A"
     ]
    },
    {
     "name": "stdout",
     "output_type": "stream",
     "text": [
      "out_results:\n",
      "tensor(1.1919, grad_fn=<AddBackward0>)\n"
     ]
    },
    {
     "name": "stderr",
     "output_type": "stream",
     "text": [
      "\n",
      "Iteration:  38%|██████████████████████████▌                                           | 83/219 [13:17<21:40,  9.57s/it]\u001b[A"
     ]
    },
    {
     "name": "stdout",
     "output_type": "stream",
     "text": [
      "out_results:\n",
      "tensor(1.1523, grad_fn=<AddBackward0>)\n"
     ]
    },
    {
     "name": "stderr",
     "output_type": "stream",
     "text": [
      "\n",
      "Iteration:  38%|██████████████████████████▊                                           | 84/219 [13:27<21:31,  9.57s/it]\u001b[A"
     ]
    },
    {
     "name": "stdout",
     "output_type": "stream",
     "text": [
      "out_results:\n",
      "tensor(1.0603, grad_fn=<AddBackward0>)\n"
     ]
    },
    {
     "name": "stderr",
     "output_type": "stream",
     "text": [
      "\n",
      "Iteration:  39%|███████████████████████████▏                                          | 85/219 [13:36<21:32,  9.64s/it]\u001b[A"
     ]
    },
    {
     "name": "stdout",
     "output_type": "stream",
     "text": [
      "out_results:\n",
      "tensor(1.0532, grad_fn=<AddBackward0>)\n"
     ]
    },
    {
     "name": "stderr",
     "output_type": "stream",
     "text": [
      "\n",
      "Iteration:  39%|███████████████████████████▍                                          | 86/219 [13:46<21:20,  9.63s/it]\u001b[A"
     ]
    },
    {
     "name": "stdout",
     "output_type": "stream",
     "text": [
      "out_results:\n",
      "tensor(1.1570, grad_fn=<AddBackward0>)\n"
     ]
    },
    {
     "name": "stderr",
     "output_type": "stream",
     "text": [
      "\n",
      "Iteration:  40%|███████████████████████████▊                                          | 87/219 [13:56<21:07,  9.60s/it]\u001b[A"
     ]
    },
    {
     "name": "stdout",
     "output_type": "stream",
     "text": [
      "out_results:\n",
      "tensor(1.4214, grad_fn=<AddBackward0>)\n"
     ]
    },
    {
     "name": "stderr",
     "output_type": "stream",
     "text": [
      "\n",
      "Iteration:  40%|████████████████████████████▏                                         | 88/219 [14:05<20:57,  9.60s/it]\u001b[A"
     ]
    },
    {
     "name": "stdout",
     "output_type": "stream",
     "text": [
      "out_results:\n",
      "tensor(1.2819, grad_fn=<AddBackward0>)\n"
     ]
    },
    {
     "name": "stderr",
     "output_type": "stream",
     "text": [
      "\n",
      "Iteration:  41%|████████████████████████████▍                                         | 89/219 [14:15<20:47,  9.59s/it]\u001b[A"
     ]
    },
    {
     "name": "stdout",
     "output_type": "stream",
     "text": [
      "out_results:\n",
      "tensor(1.1018, grad_fn=<AddBackward0>)\n"
     ]
    },
    {
     "name": "stderr",
     "output_type": "stream",
     "text": [
      "\n",
      "Iteration:  41%|████████████████████████████▊                                         | 90/219 [14:24<20:36,  9.58s/it]\u001b[A"
     ]
    },
    {
     "name": "stdout",
     "output_type": "stream",
     "text": [
      "out_results:\n",
      "tensor(0.9611, grad_fn=<AddBackward0>)\n"
     ]
    },
    {
     "name": "stderr",
     "output_type": "stream",
     "text": [
      "\n",
      "Iteration:  42%|█████████████████████████████                                         | 91/219 [14:34<20:25,  9.57s/it]\u001b[A"
     ]
    },
    {
     "name": "stdout",
     "output_type": "stream",
     "text": [
      "out_results:\n",
      "tensor(1.2352, grad_fn=<AddBackward0>)\n"
     ]
    },
    {
     "name": "stderr",
     "output_type": "stream",
     "text": [
      "\n",
      "Iteration:  42%|█████████████████████████████▍                                        | 92/219 [14:43<20:14,  9.56s/it]\u001b[A"
     ]
    },
    {
     "name": "stdout",
     "output_type": "stream",
     "text": [
      "out_results:\n",
      "tensor(1.2496, grad_fn=<AddBackward0>)\n"
     ]
    },
    {
     "name": "stderr",
     "output_type": "stream",
     "text": [
      "\n",
      "Iteration:  42%|█████████████████████████████▋                                        | 93/219 [14:53<20:05,  9.57s/it]\u001b[A"
     ]
    },
    {
     "name": "stdout",
     "output_type": "stream",
     "text": [
      "out_results:\n",
      "tensor(1.1970, grad_fn=<AddBackward0>)\n"
     ]
    },
    {
     "name": "stderr",
     "output_type": "stream",
     "text": [
      "\n",
      "Iteration:  43%|██████████████████████████████                                        | 94/219 [15:02<19:54,  9.56s/it]\u001b[A"
     ]
    },
    {
     "name": "stdout",
     "output_type": "stream",
     "text": [
      "out_results:\n",
      "tensor(1.1909, grad_fn=<AddBackward0>)\n"
     ]
    },
    {
     "name": "stderr",
     "output_type": "stream",
     "text": [
      "\n",
      "Iteration:  43%|██████████████████████████████▎                                       | 95/219 [15:12<19:46,  9.57s/it]\u001b[A"
     ]
    },
    {
     "name": "stdout",
     "output_type": "stream",
     "text": [
      "out_results:\n",
      "tensor(1.1419, grad_fn=<AddBackward0>)\n"
     ]
    },
    {
     "name": "stderr",
     "output_type": "stream",
     "text": [
      "\n",
      "Iteration:  44%|██████████████████████████████▋                                       | 96/219 [15:22<19:38,  9.58s/it]\u001b[A"
     ]
    },
    {
     "name": "stdout",
     "output_type": "stream",
     "text": [
      "out_results:\n",
      "tensor(1.0501, grad_fn=<AddBackward0>)\n"
     ]
    },
    {
     "name": "stderr",
     "output_type": "stream",
     "text": [
      "\n",
      "Iteration:  44%|███████████████████████████████                                       | 97/219 [15:31<19:26,  9.57s/it]\u001b[A"
     ]
    },
    {
     "name": "stdout",
     "output_type": "stream",
     "text": [
      "out_results:\n",
      "tensor(1.1271, grad_fn=<AddBackward0>)\n"
     ]
    },
    {
     "name": "stderr",
     "output_type": "stream",
     "text": [
      "\n",
      "Iteration:  45%|███████████████████████████████▎                                      | 98/219 [15:41<19:18,  9.57s/it]\u001b[A"
     ]
    },
    {
     "name": "stdout",
     "output_type": "stream",
     "text": [
      "out_results:\n",
      "tensor(1.2877, grad_fn=<AddBackward0>)\n"
     ]
    },
    {
     "name": "stderr",
     "output_type": "stream",
     "text": [
      "\n",
      "Iteration:  45%|███████████████████████████████▋                                      | 99/219 [15:50<19:10,  9.59s/it]\u001b[A"
     ]
    },
    {
     "name": "stdout",
     "output_type": "stream",
     "text": [
      "out_results:\n",
      "tensor(1.0355, grad_fn=<AddBackward0>)\n"
     ]
    },
    {
     "name": "stderr",
     "output_type": "stream",
     "text": [
      "\n",
      "Iteration:  46%|███████████████████████████████▌                                     | 100/219 [16:00<18:59,  9.57s/it]\u001b[A"
     ]
    },
    {
     "name": "stdout",
     "output_type": "stream",
     "text": [
      "out_results:\n",
      "tensor(1.2286, grad_fn=<AddBackward0>)\n"
     ]
    },
    {
     "name": "stderr",
     "output_type": "stream",
     "text": [
      "\n",
      "Iteration:  46%|███████████████████████████████▊                                     | 101/219 [16:09<18:48,  9.56s/it]\u001b[A"
     ]
    },
    {
     "name": "stdout",
     "output_type": "stream",
     "text": [
      "out_results:\n",
      "tensor(1.0061, grad_fn=<AddBackward0>)\n"
     ]
    },
    {
     "name": "stderr",
     "output_type": "stream",
     "text": [
      "\n",
      "Iteration:  47%|████████████████████████████████▏                                    | 102/219 [16:19<18:39,  9.57s/it]\u001b[A"
     ]
    },
    {
     "name": "stdout",
     "output_type": "stream",
     "text": [
      "out_results:\n",
      "tensor(1.1604, grad_fn=<AddBackward0>)\n"
     ]
    },
    {
     "name": "stderr",
     "output_type": "stream",
     "text": [
      "\n",
      "Iteration:  47%|████████████████████████████████▍                                    | 103/219 [16:29<18:34,  9.60s/it]\u001b[A"
     ]
    },
    {
     "name": "stdout",
     "output_type": "stream",
     "text": [
      "out_results:\n",
      "tensor(1.1530, grad_fn=<AddBackward0>)\n"
     ]
    },
    {
     "name": "stderr",
     "output_type": "stream",
     "text": [
      "\n",
      "Iteration:  47%|████████████████████████████████▊                                    | 104/219 [16:39<18:29,  9.64s/it]\u001b[A"
     ]
    },
    {
     "name": "stdout",
     "output_type": "stream",
     "text": [
      "out_results:\n",
      "tensor(1.2019, grad_fn=<AddBackward0>)\n"
     ]
    },
    {
     "name": "stderr",
     "output_type": "stream",
     "text": [
      "\n",
      "Iteration:  48%|█████████████████████████████████                                    | 105/219 [16:48<18:18,  9.64s/it]\u001b[A"
     ]
    },
    {
     "name": "stdout",
     "output_type": "stream",
     "text": [
      "out_results:\n",
      "tensor(1.1445, grad_fn=<AddBackward0>)\n"
     ]
    },
    {
     "name": "stderr",
     "output_type": "stream",
     "text": [
      "\n",
      "Iteration:  48%|█████████████████████████████████▍                                   | 106/219 [16:58<18:08,  9.63s/it]\u001b[A"
     ]
    },
    {
     "name": "stdout",
     "output_type": "stream",
     "text": [
      "out_results:\n",
      "tensor(1.0429, grad_fn=<AddBackward0>)\n"
     ]
    },
    {
     "name": "stderr",
     "output_type": "stream",
     "text": [
      "\n",
      "Iteration:  49%|█████████████████████████████████▋                                   | 107/219 [17:07<17:56,  9.61s/it]\u001b[A"
     ]
    },
    {
     "name": "stdout",
     "output_type": "stream",
     "text": [
      "out_results:\n",
      "tensor(1.0902, grad_fn=<AddBackward0>)\n"
     ]
    },
    {
     "name": "stderr",
     "output_type": "stream",
     "text": [
      "\n",
      "Iteration:  49%|██████████████████████████████████                                   | 108/219 [17:17<17:44,  9.59s/it]\u001b[A"
     ]
    },
    {
     "name": "stdout",
     "output_type": "stream",
     "text": [
      "out_results:\n",
      "tensor(1.0937, grad_fn=<AddBackward0>)\n"
     ]
    },
    {
     "name": "stderr",
     "output_type": "stream",
     "text": [
      "\n",
      "Iteration:  50%|██████████████████████████████████▎                                  | 109/219 [17:26<17:34,  9.59s/it]\u001b[A"
     ]
    },
    {
     "name": "stdout",
     "output_type": "stream",
     "text": [
      "out_results:\n",
      "tensor(1.1337, grad_fn=<AddBackward0>)\n"
     ]
    },
    {
     "name": "stderr",
     "output_type": "stream",
     "text": [
      "\n",
      "Iteration:  50%|██████████████████████████████████▋                                  | 110/219 [17:36<17:24,  9.58s/it]\u001b[A"
     ]
    },
    {
     "name": "stdout",
     "output_type": "stream",
     "text": [
      "out_results:\n",
      "tensor(1.1277, grad_fn=<AddBackward0>)\n"
     ]
    },
    {
     "name": "stderr",
     "output_type": "stream",
     "text": [
      "\n",
      "Iteration:  51%|██████████████████████████████████▉                                  | 111/219 [17:46<17:14,  9.58s/it]\u001b[A"
     ]
    },
    {
     "name": "stdout",
     "output_type": "stream",
     "text": [
      "out_results:\n",
      "tensor(1.1327, grad_fn=<AddBackward0>)\n"
     ]
    },
    {
     "name": "stderr",
     "output_type": "stream",
     "text": [
      "\n",
      "Iteration:  51%|███████████████████████████████████▎                                 | 112/219 [17:55<17:04,  9.57s/it]\u001b[A"
     ]
    },
    {
     "name": "stdout",
     "output_type": "stream",
     "text": [
      "out_results:\n",
      "tensor(1.0422, grad_fn=<AddBackward0>)\n"
     ]
    },
    {
     "name": "stderr",
     "output_type": "stream",
     "text": [
      "\n",
      "Iteration:  52%|███████████████████████████████████▌                                 | 113/219 [18:05<16:53,  9.56s/it]\u001b[A"
     ]
    },
    {
     "name": "stdout",
     "output_type": "stream",
     "text": [
      "out_results:\n",
      "tensor(1.0971, grad_fn=<AddBackward0>)\n"
     ]
    },
    {
     "name": "stderr",
     "output_type": "stream",
     "text": [
      "\n",
      "Iteration:  52%|███████████████████████████████████▉                                 | 114/219 [18:14<16:44,  9.57s/it]\u001b[A"
     ]
    },
    {
     "name": "stdout",
     "output_type": "stream",
     "text": [
      "out_results:\n",
      "tensor(1.1830, grad_fn=<AddBackward0>)\n"
     ]
    },
    {
     "name": "stderr",
     "output_type": "stream",
     "text": [
      "\n",
      "Iteration:  53%|████████████████████████████████████▏                                | 115/219 [18:24<16:35,  9.57s/it]\u001b[A"
     ]
    },
    {
     "name": "stdout",
     "output_type": "stream",
     "text": [
      "out_results:\n",
      "tensor(1.0629, grad_fn=<AddBackward0>)\n"
     ]
    },
    {
     "name": "stderr",
     "output_type": "stream",
     "text": [
      "\n",
      "Iteration:  53%|████████████████████████████████████▌                                | 116/219 [18:33<16:26,  9.58s/it]\u001b[A"
     ]
    },
    {
     "name": "stdout",
     "output_type": "stream",
     "text": [
      "out_results:\n",
      "tensor(1.1409, grad_fn=<AddBackward0>)\n"
     ]
    },
    {
     "name": "stderr",
     "output_type": "stream",
     "text": [
      "\n",
      "Iteration:  53%|████████████████████████████████████▊                                | 117/219 [18:43<16:31,  9.72s/it]\u001b[A"
     ]
    },
    {
     "name": "stdout",
     "output_type": "stream",
     "text": [
      "out_results:\n",
      "tensor(1.3050, grad_fn=<AddBackward0>)\n"
     ]
    },
    {
     "name": "stderr",
     "output_type": "stream",
     "text": [
      "\n",
      "Iteration:  54%|█████████████████████████████████████▏                               | 118/219 [18:54<16:47,  9.97s/it]\u001b[A"
     ]
    },
    {
     "name": "stdout",
     "output_type": "stream",
     "text": [
      "out_results:\n",
      "tensor(1.1990, grad_fn=<AddBackward0>)\n"
     ]
    },
    {
     "name": "stderr",
     "output_type": "stream",
     "text": [
      "\n",
      "Iteration:  54%|█████████████████████████████████████▍                               | 119/219 [19:05<16:56, 10.16s/it]\u001b[A"
     ]
    },
    {
     "name": "stdout",
     "output_type": "stream",
     "text": [
      "out_results:\n",
      "tensor(1.1206, grad_fn=<AddBackward0>)\n"
     ]
    },
    {
     "name": "stderr",
     "output_type": "stream",
     "text": [
      "\n",
      "Iteration:  55%|█████████████████████████████████████▊                               | 120/219 [19:15<16:51, 10.22s/it]\u001b[A"
     ]
    },
    {
     "name": "stdout",
     "output_type": "stream",
     "text": [
      "out_results:\n",
      "tensor(1.1136, grad_fn=<AddBackward0>)\n"
     ]
    },
    {
     "name": "stderr",
     "output_type": "stream",
     "text": [
      "\n",
      "Iteration:  55%|██████████████████████████████████████                               | 121/219 [19:25<16:49, 10.31s/it]\u001b[A"
     ]
    },
    {
     "name": "stdout",
     "output_type": "stream",
     "text": [
      "out_results:\n",
      "tensor(1.0389, grad_fn=<AddBackward0>)\n"
     ]
    },
    {
     "name": "stderr",
     "output_type": "stream",
     "text": [
      "\n",
      "Iteration:  56%|██████████████████████████████████████▍                              | 122/219 [19:37<17:22, 10.75s/it]\u001b[A"
     ]
    },
    {
     "name": "stdout",
     "output_type": "stream",
     "text": [
      "out_results:\n",
      "tensor(0.9650, grad_fn=<AddBackward0>)\n"
     ]
    },
    {
     "name": "stderr",
     "output_type": "stream",
     "text": [
      "\n",
      "Iteration:  56%|██████████████████████████████████████▊                              | 123/219 [19:50<17:59, 11.24s/it]\u001b[A"
     ]
    },
    {
     "name": "stdout",
     "output_type": "stream",
     "text": [
      "out_results:\n",
      "tensor(1.0348, grad_fn=<AddBackward0>)\n"
     ]
    },
    {
     "name": "stderr",
     "output_type": "stream",
     "text": [
      "\n",
      "Iteration:  57%|███████████████████████████████████████                              | 124/219 [20:02<18:14, 11.52s/it]\u001b[A"
     ]
    },
    {
     "name": "stdout",
     "output_type": "stream",
     "text": [
      "out_results:\n",
      "tensor(1.0508, grad_fn=<AddBackward0>)\n"
     ]
    },
    {
     "name": "stderr",
     "output_type": "stream",
     "text": [
      "\n",
      "Iteration:  57%|███████████████████████████████████████▍                             | 125/219 [20:13<17:57, 11.46s/it]\u001b[A"
     ]
    },
    {
     "name": "stdout",
     "output_type": "stream",
     "text": [
      "out_results:\n",
      "tensor(1.0528, grad_fn=<AddBackward0>)\n"
     ]
    },
    {
     "name": "stderr",
     "output_type": "stream",
     "text": [
      "\n",
      "Iteration:  58%|███████████████████████████████████████▋                             | 126/219 [20:24<17:34, 11.34s/it]\u001b[A"
     ]
    },
    {
     "name": "stdout",
     "output_type": "stream",
     "text": [
      "out_results:\n",
      "tensor(1.2334, grad_fn=<AddBackward0>)\n"
     ]
    },
    {
     "name": "stderr",
     "output_type": "stream",
     "text": [
      "\n",
      "Iteration:  58%|████████████████████████████████████████                             | 127/219 [20:37<17:53, 11.66s/it]\u001b[A"
     ]
    },
    {
     "name": "stdout",
     "output_type": "stream",
     "text": [
      "out_results:\n",
      "tensor(1.3481, grad_fn=<AddBackward0>)\n"
     ]
    },
    {
     "name": "stderr",
     "output_type": "stream",
     "text": [
      "\n",
      "Iteration:  58%|████████████████████████████████████████▎                            | 128/219 [20:47<16:59, 11.20s/it]\u001b[A"
     ]
    },
    {
     "name": "stdout",
     "output_type": "stream",
     "text": [
      "out_results:\n",
      "tensor(1.1449, grad_fn=<AddBackward0>)\n"
     ]
    },
    {
     "name": "stderr",
     "output_type": "stream",
     "text": [
      "\n",
      "Iteration:  59%|████████████████████████████████████████▋                            | 129/219 [20:57<16:15, 10.84s/it]\u001b[A"
     ]
    },
    {
     "name": "stdout",
     "output_type": "stream",
     "text": [
      "out_results:\n",
      "tensor(0.9173, grad_fn=<AddBackward0>)\n"
     ]
    },
    {
     "name": "stderr",
     "output_type": "stream",
     "text": [
      "\n",
      "Iteration:  59%|████████████████████████████████████████▉                            | 130/219 [21:07<16:01, 10.81s/it]\u001b[A"
     ]
    },
    {
     "name": "stdout",
     "output_type": "stream",
     "text": [
      "out_results:\n",
      "tensor(1.0873, grad_fn=<AddBackward0>)\n"
     ]
    },
    {
     "name": "stderr",
     "output_type": "stream",
     "text": [
      "\n",
      "Iteration:  60%|█████████████████████████████████████████▎                           | 131/219 [21:21<16:50, 11.48s/it]\u001b[A"
     ]
    },
    {
     "name": "stdout",
     "output_type": "stream",
     "text": [
      "out_results:\n",
      "tensor(1.2770, grad_fn=<AddBackward0>)\n"
     ]
    },
    {
     "name": "stderr",
     "output_type": "stream",
     "text": [
      "\n",
      "Iteration:  60%|█████████████████████████████████████████▌                           | 132/219 [21:33<16:55, 11.68s/it]\u001b[A"
     ]
    },
    {
     "name": "stdout",
     "output_type": "stream",
     "text": [
      "out_results:\n",
      "tensor(1.3251, grad_fn=<AddBackward0>)\n"
     ]
    },
    {
     "name": "stderr",
     "output_type": "stream",
     "text": [
      "\n",
      "Iteration:  61%|█████████████████████████████████████████▉                           | 133/219 [21:44<16:25, 11.46s/it]\u001b[A"
     ]
    },
    {
     "name": "stdout",
     "output_type": "stream",
     "text": [
      "out_results:\n",
      "tensor(1.2400, grad_fn=<AddBackward0>)\n"
     ]
    },
    {
     "name": "stderr",
     "output_type": "stream",
     "text": [
      "\n",
      "Iteration:  61%|██████████████████████████████████████████▏                          | 134/219 [21:55<16:06, 11.37s/it]\u001b[A"
     ]
    },
    {
     "name": "stdout",
     "output_type": "stream",
     "text": [
      "out_results:\n",
      "tensor(1.3161, grad_fn=<AddBackward0>)\n"
     ]
    },
    {
     "name": "stderr",
     "output_type": "stream",
     "text": [
      "\n",
      "Iteration:  62%|██████████████████████████████████████████▌                          | 135/219 [22:06<15:41, 11.21s/it]\u001b[A"
     ]
    },
    {
     "name": "stdout",
     "output_type": "stream",
     "text": [
      "out_results:\n",
      "tensor(1.0297, grad_fn=<AddBackward0>)\n"
     ]
    },
    {
     "name": "stderr",
     "output_type": "stream",
     "text": [
      "\n",
      "Iteration:  62%|██████████████████████████████████████████▊                          | 136/219 [22:16<15:21, 11.11s/it]\u001b[A"
     ]
    },
    {
     "name": "stdout",
     "output_type": "stream",
     "text": [
      "out_results:\n",
      "tensor(1.2972, grad_fn=<AddBackward0>)\n"
     ]
    },
    {
     "name": "stderr",
     "output_type": "stream",
     "text": [
      "\n",
      "Iteration:  63%|███████████████████████████████████████████▏                         | 137/219 [22:28<15:12, 11.12s/it]\u001b[A"
     ]
    },
    {
     "name": "stdout",
     "output_type": "stream",
     "text": [
      "out_results:\n",
      "tensor(1.1005, grad_fn=<AddBackward0>)\n"
     ]
    },
    {
     "name": "stderr",
     "output_type": "stream",
     "text": [
      "\n",
      "Iteration:  63%|███████████████████████████████████████████▍                         | 138/219 [22:39<15:00, 11.12s/it]\u001b[A"
     ]
    },
    {
     "name": "stdout",
     "output_type": "stream",
     "text": [
      "out_results:\n",
      "tensor(1.1060, grad_fn=<AddBackward0>)\n"
     ]
    },
    {
     "name": "stderr",
     "output_type": "stream",
     "text": [
      "\n",
      "Iteration:  63%|███████████████████████████████████████████▊                         | 139/219 [22:50<14:44, 11.05s/it]\u001b[A"
     ]
    },
    {
     "name": "stdout",
     "output_type": "stream",
     "text": [
      "out_results:\n",
      "tensor(1.1864, grad_fn=<AddBackward0>)\n"
     ]
    },
    {
     "name": "stderr",
     "output_type": "stream",
     "text": [
      "\n",
      "Iteration:  64%|████████████████████████████████████████████                         | 140/219 [23:01<14:28, 11.00s/it]\u001b[A"
     ]
    },
    {
     "name": "stdout",
     "output_type": "stream",
     "text": [
      "out_results:\n",
      "tensor(1.1220, grad_fn=<AddBackward0>)\n"
     ]
    },
    {
     "name": "stderr",
     "output_type": "stream",
     "text": [
      "\n",
      "Iteration:  64%|████████████████████████████████████████████▍                        | 141/219 [23:12<14:32, 11.19s/it]\u001b[A"
     ]
    },
    {
     "name": "stdout",
     "output_type": "stream",
     "text": [
      "out_results:\n",
      "tensor(1.2010, grad_fn=<AddBackward0>)\n"
     ]
    },
    {
     "name": "stderr",
     "output_type": "stream",
     "text": [
      "\n",
      "Iteration:  65%|████████████████████████████████████████████▋                        | 142/219 [23:23<14:13, 11.09s/it]\u001b[A"
     ]
    },
    {
     "name": "stdout",
     "output_type": "stream",
     "text": [
      "out_results:\n",
      "tensor(1.2386, grad_fn=<AddBackward0>)\n"
     ]
    },
    {
     "name": "stderr",
     "output_type": "stream",
     "text": [
      "\n",
      "Iteration:  65%|█████████████████████████████████████████████                        | 143/219 [23:34<13:55, 10.99s/it]\u001b[A"
     ]
    },
    {
     "name": "stdout",
     "output_type": "stream",
     "text": [
      "out_results:\n",
      "tensor(1.0757, grad_fn=<AddBackward0>)\n"
     ]
    },
    {
     "name": "stderr",
     "output_type": "stream",
     "text": [
      "\n",
      "Iteration:  66%|█████████████████████████████████████████████▎                       | 144/219 [23:45<13:40, 10.94s/it]\u001b[A"
     ]
    },
    {
     "name": "stdout",
     "output_type": "stream",
     "text": [
      "out_results:\n",
      "tensor(1.1553, grad_fn=<AddBackward0>)\n"
     ]
    },
    {
     "name": "stderr",
     "output_type": "stream",
     "text": [
      "\n",
      "Iteration:  66%|█████████████████████████████████████████████▋                       | 145/219 [23:55<13:17, 10.78s/it]\u001b[A"
     ]
    },
    {
     "name": "stdout",
     "output_type": "stream",
     "text": [
      "out_results:\n",
      "tensor(1.0805, grad_fn=<AddBackward0>)\n"
     ]
    },
    {
     "name": "stderr",
     "output_type": "stream",
     "text": [
      "\n",
      "Iteration:  67%|██████████████████████████████████████████████                       | 146/219 [24:05<12:59, 10.68s/it]\u001b[A"
     ]
    },
    {
     "name": "stdout",
     "output_type": "stream",
     "text": [
      "out_results:\n",
      "tensor(1.1630, grad_fn=<AddBackward0>)\n"
     ]
    },
    {
     "name": "stderr",
     "output_type": "stream",
     "text": [
      "\n",
      "Iteration:  67%|██████████████████████████████████████████████▎                      | 147/219 [24:16<12:38, 10.54s/it]\u001b[A"
     ]
    },
    {
     "name": "stdout",
     "output_type": "stream",
     "text": [
      "out_results:\n",
      "tensor(1.1241, grad_fn=<AddBackward0>)\n"
     ]
    },
    {
     "name": "stderr",
     "output_type": "stream",
     "text": [
      "\n",
      "Iteration:  68%|██████████████████████████████████████████████▋                      | 148/219 [24:26<12:22, 10.46s/it]\u001b[A"
     ]
    },
    {
     "name": "stdout",
     "output_type": "stream",
     "text": [
      "out_results:\n",
      "tensor(1.3455, grad_fn=<AddBackward0>)\n"
     ]
    },
    {
     "name": "stderr",
     "output_type": "stream",
     "text": [
      "\n",
      "Iteration:  68%|██████████████████████████████████████████████▉                      | 149/219 [24:36<12:11, 10.45s/it]\u001b[A"
     ]
    },
    {
     "name": "stdout",
     "output_type": "stream",
     "text": [
      "out_results:\n",
      "tensor(1.0551, grad_fn=<AddBackward0>)\n"
     ]
    },
    {
     "name": "stderr",
     "output_type": "stream",
     "text": [
      "\n",
      "Iteration:  68%|███████████████████████████████████████████████▎                     | 150/219 [24:47<11:58, 10.42s/it]\u001b[A"
     ]
    },
    {
     "name": "stdout",
     "output_type": "stream",
     "text": [
      "out_results:\n",
      "tensor(1.2882, grad_fn=<AddBackward0>)\n"
     ]
    },
    {
     "name": "stderr",
     "output_type": "stream",
     "text": [
      "\n",
      "Iteration:  69%|███████████████████████████████████████████████▌                     | 151/219 [24:57<11:46, 10.39s/it]\u001b[A"
     ]
    },
    {
     "name": "stdout",
     "output_type": "stream",
     "text": [
      "out_results:\n",
      "tensor(1.0892, grad_fn=<AddBackward0>)\n"
     ]
    },
    {
     "name": "stderr",
     "output_type": "stream",
     "text": [
      "\n",
      "Iteration:  69%|███████████████████████████████████████████████▉                     | 152/219 [25:07<11:34, 10.37s/it]\u001b[A"
     ]
    },
    {
     "name": "stdout",
     "output_type": "stream",
     "text": [
      "out_results:\n",
      "tensor(1.1760, grad_fn=<AddBackward0>)\n"
     ]
    },
    {
     "name": "stderr",
     "output_type": "stream",
     "text": [
      "\n",
      "Iteration:  70%|████████████████████████████████████████████████▏                    | 153/219 [25:18<11:24, 10.38s/it]\u001b[A"
     ]
    },
    {
     "name": "stdout",
     "output_type": "stream",
     "text": [
      "out_results:\n",
      "tensor(1.1736, grad_fn=<AddBackward0>)\n"
     ]
    },
    {
     "name": "stderr",
     "output_type": "stream",
     "text": [
      "\n",
      "Iteration:  70%|████████████████████████████████████████████████▌                    | 154/219 [25:28<11:14, 10.37s/it]\u001b[A"
     ]
    },
    {
     "name": "stdout",
     "output_type": "stream",
     "text": [
      "out_results:\n",
      "tensor(1.1494, grad_fn=<AddBackward0>)\n"
     ]
    },
    {
     "name": "stderr",
     "output_type": "stream",
     "text": [
      "\n",
      "Iteration:  71%|████████████████████████████████████████████████▊                    | 155/219 [25:38<11:03, 10.36s/it]\u001b[A"
     ]
    },
    {
     "name": "stdout",
     "output_type": "stream",
     "text": [
      "out_results:\n",
      "tensor(1.1667, grad_fn=<AddBackward0>)\n"
     ]
    },
    {
     "name": "stderr",
     "output_type": "stream",
     "text": [
      "\n",
      "Iteration:  71%|█████████████████████████████████████████████████▏                   | 156/219 [25:49<10:52, 10.36s/it]\u001b[A"
     ]
    },
    {
     "name": "stdout",
     "output_type": "stream",
     "text": [
      "out_results:\n",
      "tensor(1.1513, grad_fn=<AddBackward0>)\n"
     ]
    },
    {
     "name": "stderr",
     "output_type": "stream",
     "text": [
      "\n",
      "Iteration:  72%|█████████████████████████████████████████████████▍                   | 157/219 [25:59<10:41, 10.35s/it]\u001b[A"
     ]
    },
    {
     "name": "stdout",
     "output_type": "stream",
     "text": [
      "out_results:\n",
      "tensor(1.0866, grad_fn=<AddBackward0>)\n"
     ]
    },
    {
     "name": "stderr",
     "output_type": "stream",
     "text": [
      "\n",
      "Iteration:  72%|█████████████████████████████████████████████████▊                   | 158/219 [26:09<10:31, 10.35s/it]\u001b[A"
     ]
    },
    {
     "name": "stdout",
     "output_type": "stream",
     "text": [
      "out_results:\n",
      "tensor(1.1761, grad_fn=<AddBackward0>)\n"
     ]
    },
    {
     "name": "stderr",
     "output_type": "stream",
     "text": [
      "\n",
      "Iteration:  73%|██████████████████████████████████████████████████                   | 159/219 [26:20<10:21, 10.35s/it]\u001b[A"
     ]
    },
    {
     "name": "stdout",
     "output_type": "stream",
     "text": [
      "out_results:\n",
      "tensor(1.2557, grad_fn=<AddBackward0>)\n"
     ]
    },
    {
     "name": "stderr",
     "output_type": "stream",
     "text": [
      "\n",
      "Iteration:  73%|██████████████████████████████████████████████████▍                  | 160/219 [26:30<10:10, 10.36s/it]\u001b[A"
     ]
    },
    {
     "name": "stdout",
     "output_type": "stream",
     "text": [
      "out_results:\n",
      "tensor(1.3566, grad_fn=<AddBackward0>)\n"
     ]
    },
    {
     "name": "stderr",
     "output_type": "stream",
     "text": [
      "\n",
      "Iteration:  74%|██████████████████████████████████████████████████▋                  | 161/219 [26:41<10:00, 10.35s/it]\u001b[A"
     ]
    },
    {
     "name": "stdout",
     "output_type": "stream",
     "text": [
      "out_results:\n",
      "tensor(1.0223, grad_fn=<AddBackward0>)\n"
     ]
    },
    {
     "name": "stderr",
     "output_type": "stream",
     "text": [
      "\n",
      "Iteration:  74%|███████████████████████████████████████████████████                  | 162/219 [26:51<09:50, 10.35s/it]\u001b[A"
     ]
    },
    {
     "name": "stdout",
     "output_type": "stream",
     "text": [
      "out_results:\n",
      "tensor(1.1113, grad_fn=<AddBackward0>)\n"
     ]
    },
    {
     "name": "stderr",
     "output_type": "stream",
     "text": [
      "\n",
      "Iteration:  74%|███████████████████████████████████████████████████▎                 | 163/219 [27:01<09:38, 10.33s/it]\u001b[A"
     ]
    },
    {
     "name": "stdout",
     "output_type": "stream",
     "text": [
      "out_results:\n",
      "tensor(1.1238, grad_fn=<AddBackward0>)\n"
     ]
    },
    {
     "name": "stderr",
     "output_type": "stream",
     "text": [
      "\n",
      "Iteration:  75%|███████████████████████████████████████████████████▋                 | 164/219 [27:11<09:27, 10.32s/it]\u001b[A"
     ]
    },
    {
     "name": "stdout",
     "output_type": "stream",
     "text": [
      "out_results:\n",
      "tensor(1.2011, grad_fn=<AddBackward0>)\n"
     ]
    },
    {
     "name": "stderr",
     "output_type": "stream",
     "text": [
      "\n",
      "Iteration:  75%|███████████████████████████████████████████████████▉                 | 165/219 [27:22<09:19, 10.36s/it]\u001b[A"
     ]
    },
    {
     "name": "stdout",
     "output_type": "stream",
     "text": [
      "out_results:\n",
      "tensor(1.2005, grad_fn=<AddBackward0>)\n"
     ]
    },
    {
     "name": "stderr",
     "output_type": "stream",
     "text": [
      "\n",
      "Iteration:  76%|████████████████████████████████████████████████████▎                | 166/219 [27:32<09:08, 10.35s/it]\u001b[A"
     ]
    },
    {
     "name": "stdout",
     "output_type": "stream",
     "text": [
      "out_results:\n",
      "tensor(1.2102, grad_fn=<AddBackward0>)\n"
     ]
    },
    {
     "name": "stderr",
     "output_type": "stream",
     "text": [
      "\n",
      "Iteration:  76%|████████████████████████████████████████████████████▌                | 167/219 [27:42<08:56, 10.31s/it]\u001b[A"
     ]
    },
    {
     "name": "stdout",
     "output_type": "stream",
     "text": [
      "out_results:\n",
      "tensor(1.1737, grad_fn=<AddBackward0>)\n"
     ]
    },
    {
     "name": "stderr",
     "output_type": "stream",
     "text": [
      "\n",
      "Iteration:  77%|████████████████████████████████████████████████████▉                | 168/219 [27:53<08:43, 10.27s/it]\u001b[A"
     ]
    },
    {
     "name": "stdout",
     "output_type": "stream",
     "text": [
      "out_results:\n",
      "tensor(1.1541, grad_fn=<AddBackward0>)\n"
     ]
    },
    {
     "name": "stderr",
     "output_type": "stream",
     "text": [
      "\n",
      "Iteration:  77%|█████████████████████████████████████████████████████▏               | 169/219 [28:03<08:35, 10.31s/it]\u001b[A"
     ]
    },
    {
     "name": "stdout",
     "output_type": "stream",
     "text": [
      "out_results:\n",
      "tensor(1.1631, grad_fn=<AddBackward0>)\n"
     ]
    },
    {
     "name": "stderr",
     "output_type": "stream",
     "text": [
      "\n",
      "Iteration:  78%|█████████████████████████████████████████████████████▌               | 170/219 [28:13<08:26, 10.33s/it]\u001b[A"
     ]
    },
    {
     "name": "stdout",
     "output_type": "stream",
     "text": [
      "out_results:\n",
      "tensor(1.1608, grad_fn=<AddBackward0>)\n"
     ]
    },
    {
     "name": "stderr",
     "output_type": "stream",
     "text": [
      "\n",
      "Iteration:  78%|█████████████████████████████████████████████████████▉               | 171/219 [28:24<08:13, 10.28s/it]\u001b[A"
     ]
    },
    {
     "name": "stdout",
     "output_type": "stream",
     "text": [
      "out_results:\n",
      "tensor(1.1925, grad_fn=<AddBackward0>)\n"
     ]
    },
    {
     "name": "stderr",
     "output_type": "stream",
     "text": [
      "\n",
      "Iteration:  79%|██████████████████████████████████████████████████████▏              | 172/219 [28:34<08:03, 10.28s/it]\u001b[A"
     ]
    },
    {
     "name": "stdout",
     "output_type": "stream",
     "text": [
      "out_results:\n",
      "tensor(1.3256, grad_fn=<AddBackward0>)\n"
     ]
    },
    {
     "name": "stderr",
     "output_type": "stream",
     "text": [
      "\n",
      "Iteration:  79%|██████████████████████████████████████████████████████▌              | 173/219 [28:44<07:56, 10.37s/it]\u001b[A"
     ]
    },
    {
     "name": "stdout",
     "output_type": "stream",
     "text": [
      "out_results:\n",
      "tensor(1.2627, grad_fn=<AddBackward0>)\n"
     ]
    },
    {
     "name": "stderr",
     "output_type": "stream",
     "text": [
      "\n",
      "Iteration:  79%|██████████████████████████████████████████████████████▊              | 174/219 [28:55<07:47, 10.38s/it]\u001b[A"
     ]
    },
    {
     "name": "stdout",
     "output_type": "stream",
     "text": [
      "out_results:\n",
      "tensor(1.2403, grad_fn=<AddBackward0>)\n"
     ]
    },
    {
     "name": "stderr",
     "output_type": "stream",
     "text": [
      "\n",
      "Iteration:  80%|███████████████████████████████████████████████████████▏             | 175/219 [29:05<07:34, 10.33s/it]\u001b[A"
     ]
    },
    {
     "name": "stdout",
     "output_type": "stream",
     "text": [
      "out_results:\n",
      "tensor(1.0890, grad_fn=<AddBackward0>)\n"
     ]
    },
    {
     "name": "stderr",
     "output_type": "stream",
     "text": [
      "\n",
      "Iteration:  80%|███████████████████████████████████████████████████████▍             | 176/219 [29:15<07:22, 10.28s/it]\u001b[A"
     ]
    },
    {
     "name": "stdout",
     "output_type": "stream",
     "text": [
      "out_results:\n",
      "tensor(1.1766, grad_fn=<AddBackward0>)\n"
     ]
    },
    {
     "name": "stderr",
     "output_type": "stream",
     "text": [
      "\n",
      "Iteration:  81%|███████████████████████████████████████████████████████▊             | 177/219 [29:26<07:12, 10.31s/it]\u001b[A"
     ]
    },
    {
     "name": "stdout",
     "output_type": "stream",
     "text": [
      "out_results:\n",
      "tensor(1.2403, grad_fn=<AddBackward0>)\n"
     ]
    },
    {
     "name": "stderr",
     "output_type": "stream",
     "text": [
      "\n",
      "Iteration:  81%|████████████████████████████████████████████████████████             | 178/219 [29:36<07:02, 10.31s/it]\u001b[A"
     ]
    },
    {
     "name": "stdout",
     "output_type": "stream",
     "text": [
      "out_results:\n",
      "tensor(1.2026, grad_fn=<AddBackward0>)\n"
     ]
    },
    {
     "name": "stderr",
     "output_type": "stream",
     "text": [
      "\n",
      "Iteration:  82%|████████████████████████████████████████████████████████▍            | 179/219 [29:46<06:52, 10.32s/it]\u001b[A"
     ]
    },
    {
     "name": "stdout",
     "output_type": "stream",
     "text": [
      "out_results:\n",
      "tensor(1.1865, grad_fn=<AddBackward0>)\n"
     ]
    },
    {
     "name": "stderr",
     "output_type": "stream",
     "text": [
      "\n",
      "Iteration:  82%|████████████████████████████████████████████████████████▋            | 180/219 [29:56<06:39, 10.23s/it]\u001b[A"
     ]
    },
    {
     "name": "stdout",
     "output_type": "stream",
     "text": [
      "out_results:\n",
      "tensor(1.2645, grad_fn=<AddBackward0>)\n"
     ]
    },
    {
     "name": "stderr",
     "output_type": "stream",
     "text": [
      "\n",
      "Iteration:  83%|█████████████████████████████████████████████████████████            | 181/219 [30:07<06:30, 10.26s/it]\u001b[A"
     ]
    },
    {
     "name": "stdout",
     "output_type": "stream",
     "text": [
      "out_results:\n",
      "tensor(1.1658, grad_fn=<AddBackward0>)\n"
     ]
    },
    {
     "name": "stderr",
     "output_type": "stream",
     "text": [
      "\n",
      "Iteration:  83%|█████████████████████████████████████████████████████████▎           | 182/219 [30:17<06:20, 10.28s/it]\u001b[A"
     ]
    },
    {
     "name": "stdout",
     "output_type": "stream",
     "text": [
      "out_results:\n",
      "tensor(1.1943, grad_fn=<AddBackward0>)\n"
     ]
    },
    {
     "name": "stderr",
     "output_type": "stream",
     "text": [
      "\n",
      "Iteration:  84%|█████████████████████████████████████████████████████████▋           | 183/219 [30:27<06:11, 10.32s/it]\u001b[A"
     ]
    },
    {
     "name": "stdout",
     "output_type": "stream",
     "text": [
      "out_results:\n",
      "tensor(1.2262, grad_fn=<AddBackward0>)\n"
     ]
    },
    {
     "name": "stderr",
     "output_type": "stream",
     "text": [
      "\n",
      "Iteration:  84%|█████████████████████████████████████████████████████████▉           | 184/219 [30:38<06:03, 10.37s/it]\u001b[A"
     ]
    },
    {
     "name": "stdout",
     "output_type": "stream",
     "text": [
      "out_results:\n",
      "tensor(1.1419, grad_fn=<AddBackward0>)\n"
     ]
    },
    {
     "name": "stderr",
     "output_type": "stream",
     "text": [
      "\n",
      "Iteration:  84%|██████████████████████████████████████████████████████████▎          | 185/219 [30:48<05:51, 10.35s/it]\u001b[A"
     ]
    },
    {
     "name": "stdout",
     "output_type": "stream",
     "text": [
      "out_results:\n",
      "tensor(1.1290, grad_fn=<AddBackward0>)\n"
     ]
    },
    {
     "name": "stderr",
     "output_type": "stream",
     "text": [
      "\n",
      "Iteration:  85%|██████████████████████████████████████████████████████████▌          | 186/219 [30:58<05:39, 10.29s/it]\u001b[A"
     ]
    },
    {
     "name": "stdout",
     "output_type": "stream",
     "text": [
      "out_results:\n",
      "tensor(1.1447, grad_fn=<AddBackward0>)\n"
     ]
    },
    {
     "name": "stderr",
     "output_type": "stream",
     "text": [
      "\n",
      "Iteration:  85%|██████████████████████████████████████████████████████████▉          | 187/219 [31:09<05:29, 10.31s/it]\u001b[A"
     ]
    },
    {
     "name": "stdout",
     "output_type": "stream",
     "text": [
      "out_results:\n",
      "tensor(1.2345, grad_fn=<AddBackward0>)\n"
     ]
    },
    {
     "name": "stderr",
     "output_type": "stream",
     "text": [
      "\n",
      "Iteration:  86%|███████████████████████████████████████████████████████████▏         | 188/219 [31:19<05:20, 10.33s/it]\u001b[A"
     ]
    },
    {
     "name": "stdout",
     "output_type": "stream",
     "text": [
      "out_results:\n",
      "tensor(1.2348, grad_fn=<AddBackward0>)\n"
     ]
    },
    {
     "name": "stderr",
     "output_type": "stream",
     "text": [
      "\n",
      "Iteration:  86%|███████████████████████████████████████████████████████████▌         | 189/219 [31:29<05:10, 10.33s/it]\u001b[A"
     ]
    },
    {
     "name": "stdout",
     "output_type": "stream",
     "text": [
      "out_results:\n",
      "tensor(1.1581, grad_fn=<AddBackward0>)\n"
     ]
    },
    {
     "name": "stderr",
     "output_type": "stream",
     "text": [
      "\n",
      "Iteration:  87%|███████████████████████████████████████████████████████████▊         | 190/219 [31:40<04:59, 10.32s/it]\u001b[A"
     ]
    },
    {
     "name": "stdout",
     "output_type": "stream",
     "text": [
      "out_results:\n",
      "tensor(1.1756, grad_fn=<AddBackward0>)\n"
     ]
    },
    {
     "name": "stderr",
     "output_type": "stream",
     "text": [
      "\n",
      "Iteration:  87%|████████████████████████████████████████████████████████████▏        | 191/219 [31:50<04:46, 10.24s/it]\u001b[A"
     ]
    },
    {
     "name": "stdout",
     "output_type": "stream",
     "text": [
      "out_results:\n",
      "tensor(1.1342, grad_fn=<AddBackward0>)\n"
     ]
    },
    {
     "name": "stderr",
     "output_type": "stream",
     "text": [
      "\n",
      "Iteration:  88%|████████████████████████████████████████████████████████████▍        | 192/219 [32:00<04:36, 10.26s/it]\u001b[A"
     ]
    },
    {
     "name": "stdout",
     "output_type": "stream",
     "text": [
      "out_results:\n",
      "tensor(1.1083, grad_fn=<AddBackward0>)\n"
     ]
    },
    {
     "name": "stderr",
     "output_type": "stream",
     "text": [
      "\n",
      "Iteration:  88%|████████████████████████████████████████████████████████████▊        | 193/219 [32:10<04:25, 10.21s/it]\u001b[A"
     ]
    },
    {
     "name": "stdout",
     "output_type": "stream",
     "text": [
      "out_results:\n",
      "tensor(1.2941, grad_fn=<AddBackward0>)\n"
     ]
    },
    {
     "name": "stderr",
     "output_type": "stream",
     "text": [
      "\n",
      "Iteration:  89%|█████████████████████████████████████████████████████████████        | 194/219 [32:20<04:14, 10.18s/it]\u001b[A"
     ]
    },
    {
     "name": "stdout",
     "output_type": "stream",
     "text": [
      "out_results:\n",
      "tensor(1.1345, grad_fn=<AddBackward0>)\n"
     ]
    },
    {
     "name": "stderr",
     "output_type": "stream",
     "text": [
      "\n",
      "Iteration:  89%|█████████████████████████████████████████████████████████████▍       | 195/219 [32:30<04:04, 10.20s/it]\u001b[A"
     ]
    },
    {
     "name": "stdout",
     "output_type": "stream",
     "text": [
      "out_results:\n",
      "tensor(1.1754, grad_fn=<AddBackward0>)\n"
     ]
    },
    {
     "name": "stderr",
     "output_type": "stream",
     "text": [
      "\n",
      "Iteration:  89%|█████████████████████████████████████████████████████████████▊       | 196/219 [32:41<03:55, 10.24s/it]\u001b[A"
     ]
    },
    {
     "name": "stdout",
     "output_type": "stream",
     "text": [
      "out_results:\n",
      "tensor(1.1883, grad_fn=<AddBackward0>)\n"
     ]
    },
    {
     "name": "stderr",
     "output_type": "stream",
     "text": [
      "\n",
      "Iteration:  90%|██████████████████████████████████████████████████████████████       | 197/219 [32:51<03:46, 10.30s/it]\u001b[A"
     ]
    },
    {
     "name": "stdout",
     "output_type": "stream",
     "text": [
      "out_results:\n",
      "tensor(1.3014, grad_fn=<AddBackward0>)\n"
     ]
    },
    {
     "name": "stderr",
     "output_type": "stream",
     "text": [
      "\n",
      "Iteration:  90%|██████████████████████████████████████████████████████████████▍      | 198/219 [33:02<03:36, 10.32s/it]\u001b[A"
     ]
    },
    {
     "name": "stdout",
     "output_type": "stream",
     "text": [
      "out_results:\n",
      "tensor(1.2056, grad_fn=<AddBackward0>)\n"
     ]
    },
    {
     "name": "stderr",
     "output_type": "stream",
     "text": [
      "\n",
      "Iteration:  91%|██████████████████████████████████████████████████████████████▋      | 199/219 [33:12<03:26, 10.32s/it]\u001b[A"
     ]
    },
    {
     "name": "stdout",
     "output_type": "stream",
     "text": [
      "out_results:\n",
      "tensor(1.2752, grad_fn=<AddBackward0>)\n"
     ]
    },
    {
     "name": "stderr",
     "output_type": "stream",
     "text": [
      "\n",
      "Iteration:  91%|███████████████████████████████████████████████████████████████      | 200/219 [33:22<03:16, 10.33s/it]\u001b[A"
     ]
    },
    {
     "name": "stdout",
     "output_type": "stream",
     "text": [
      "out_results:\n",
      "tensor(1.2111, grad_fn=<AddBackward0>)\n"
     ]
    },
    {
     "name": "stderr",
     "output_type": "stream",
     "text": [
      "\n",
      "Iteration:  92%|███████████████████████████████████████████████████████████████▎     | 201/219 [33:33<03:05, 10.33s/it]\u001b[A"
     ]
    },
    {
     "name": "stdout",
     "output_type": "stream",
     "text": [
      "out_results:\n",
      "tensor(1.1781, grad_fn=<AddBackward0>)\n"
     ]
    },
    {
     "name": "stderr",
     "output_type": "stream",
     "text": [
      "\n",
      "Iteration:  92%|███████████████████████████████████████████████████████████████▋     | 202/219 [33:43<02:55, 10.32s/it]\u001b[A"
     ]
    },
    {
     "name": "stdout",
     "output_type": "stream",
     "text": [
      "out_results:\n",
      "tensor(1.1263, grad_fn=<AddBackward0>)\n"
     ]
    },
    {
     "name": "stderr",
     "output_type": "stream",
     "text": [
      "\n",
      "Iteration:  93%|███████████████████████████████████████████████████████████████▉     | 203/219 [33:54<02:46, 10.43s/it]\u001b[A"
     ]
    },
    {
     "name": "stdout",
     "output_type": "stream",
     "text": [
      "out_results:\n",
      "tensor(1.1856, grad_fn=<AddBackward0>)\n"
     ]
    },
    {
     "name": "stderr",
     "output_type": "stream",
     "text": [
      "\n",
      "Iteration:  93%|████████████████████████████████████████████████████████████████▎    | 204/219 [34:04<02:35, 10.38s/it]\u001b[A"
     ]
    },
    {
     "name": "stdout",
     "output_type": "stream",
     "text": [
      "out_results:\n",
      "tensor(1.1910, grad_fn=<AddBackward0>)\n"
     ]
    },
    {
     "name": "stderr",
     "output_type": "stream",
     "text": [
      "\n",
      "Iteration:  94%|████████████████████████████████████████████████████████████████▌    | 205/219 [34:14<02:24, 10.35s/it]\u001b[A"
     ]
    },
    {
     "name": "stdout",
     "output_type": "stream",
     "text": [
      "out_results:\n",
      "tensor(1.0935, grad_fn=<AddBackward0>)\n"
     ]
    },
    {
     "name": "stderr",
     "output_type": "stream",
     "text": [
      "\n",
      "Iteration:  94%|████████████████████████████████████████████████████████████████▉    | 206/219 [34:24<02:13, 10.27s/it]\u001b[A"
     ]
    },
    {
     "name": "stdout",
     "output_type": "stream",
     "text": [
      "out_results:\n",
      "tensor(1.0620, grad_fn=<AddBackward0>)\n"
     ]
    },
    {
     "name": "stderr",
     "output_type": "stream",
     "text": [
      "\n",
      "Iteration:  95%|█████████████████████████████████████████████████████████████████▏   | 207/219 [34:34<02:03, 10.25s/it]\u001b[A"
     ]
    },
    {
     "name": "stdout",
     "output_type": "stream",
     "text": [
      "out_results:\n",
      "tensor(1.1095, grad_fn=<AddBackward0>)\n"
     ]
    },
    {
     "name": "stderr",
     "output_type": "stream",
     "text": [
      "\n",
      "Iteration:  95%|█████████████████████████████████████████████████████████████████▌   | 208/219 [34:45<01:52, 10.23s/it]\u001b[A"
     ]
    },
    {
     "name": "stdout",
     "output_type": "stream",
     "text": [
      "out_results:\n",
      "tensor(1.2163, grad_fn=<AddBackward0>)\n"
     ]
    },
    {
     "name": "stderr",
     "output_type": "stream",
     "text": [
      "\n",
      "Iteration:  95%|█████████████████████████████████████████████████████████████████▊   | 209/219 [34:55<01:42, 10.24s/it]\u001b[A"
     ]
    },
    {
     "name": "stdout",
     "output_type": "stream",
     "text": [
      "out_results:\n",
      "tensor(1.2045, grad_fn=<AddBackward0>)\n"
     ]
    },
    {
     "name": "stderr",
     "output_type": "stream",
     "text": [
      "\n",
      "Iteration:  96%|██████████████████████████████████████████████████████████████████▏  | 210/219 [35:05<01:31, 10.20s/it]\u001b[A"
     ]
    },
    {
     "name": "stdout",
     "output_type": "stream",
     "text": [
      "out_results:\n",
      "tensor(1.1796, grad_fn=<AddBackward0>)\n"
     ]
    },
    {
     "name": "stderr",
     "output_type": "stream",
     "text": [
      "\n",
      "Iteration:  96%|██████████████████████████████████████████████████████████████████▍  | 211/219 [35:15<01:21, 10.24s/it]\u001b[A"
     ]
    },
    {
     "name": "stdout",
     "output_type": "stream",
     "text": [
      "out_results:\n",
      "tensor(1.0941, grad_fn=<AddBackward0>)\n"
     ]
    },
    {
     "name": "stderr",
     "output_type": "stream",
     "text": [
      "\n",
      "Iteration:  97%|██████████████████████████████████████████████████████████████████▊  | 212/219 [35:26<01:12, 10.40s/it]\u001b[A"
     ]
    },
    {
     "name": "stdout",
     "output_type": "stream",
     "text": [
      "out_results:\n",
      "tensor(1.0752, grad_fn=<AddBackward0>)\n"
     ]
    },
    {
     "name": "stderr",
     "output_type": "stream",
     "text": [
      "\n",
      "Iteration:  97%|███████████████████████████████████████████████████████████████████  | 213/219 [35:36<01:02, 10.34s/it]\u001b[A"
     ]
    },
    {
     "name": "stdout",
     "output_type": "stream",
     "text": [
      "out_results:\n",
      "tensor(1.1766, grad_fn=<AddBackward0>)\n"
     ]
    },
    {
     "name": "stderr",
     "output_type": "stream",
     "text": [
      "\n",
      "Iteration:  98%|███████████████████████████████████████████████████████████████████▍ | 214/219 [35:46<00:51, 10.26s/it]\u001b[A"
     ]
    },
    {
     "name": "stdout",
     "output_type": "stream",
     "text": [
      "out_results:\n",
      "tensor(1.1339, grad_fn=<AddBackward0>)\n"
     ]
    },
    {
     "name": "stderr",
     "output_type": "stream",
     "text": [
      "\n",
      "Iteration:  98%|███████████████████████████████████████████████████████████████████▋ | 215/219 [35:57<00:40, 10.24s/it]\u001b[A"
     ]
    },
    {
     "name": "stdout",
     "output_type": "stream",
     "text": [
      "out_results:\n",
      "tensor(1.1371, grad_fn=<AddBackward0>)\n"
     ]
    },
    {
     "name": "stderr",
     "output_type": "stream",
     "text": [
      "\n",
      "Iteration:  99%|████████████████████████████████████████████████████████████████████ | 216/219 [36:07<00:30, 10.22s/it]\u001b[A"
     ]
    },
    {
     "name": "stdout",
     "output_type": "stream",
     "text": [
      "out_results:\n",
      "tensor(0.9536, grad_fn=<AddBackward0>)\n"
     ]
    },
    {
     "name": "stderr",
     "output_type": "stream",
     "text": [
      "\n",
      "Iteration:  99%|████████████████████████████████████████████████████████████████████▎| 217/219 [36:17<00:20, 10.26s/it]\u001b[A"
     ]
    },
    {
     "name": "stdout",
     "output_type": "stream",
     "text": [
      "out_results:\n",
      "tensor(1.3287, grad_fn=<AddBackward0>)\n"
     ]
    },
    {
     "name": "stderr",
     "output_type": "stream",
     "text": [
      "\n",
      "Iteration: 100%|████████████████████████████████████████████████████████████████████▋| 218/219 [36:27<00:10, 10.27s/it]\u001b[A"
     ]
    },
    {
     "name": "stdout",
     "output_type": "stream",
     "text": [
      "out_results:\n",
      "tensor(1.1888, grad_fn=<AddBackward0>)\n"
     ]
    },
    {
     "name": "stderr",
     "output_type": "stream",
     "text": [
      "\n",
      "Iteration: 100%|█████████████████████████████████████████████████████████████████████| 219/219 [36:37<00:00, 10.04s/it]\u001b[A\n",
      "Epoch:  33%|████████████████████████▎                                                | 1/3 [36:37<1:13:15, 2197.77s/it]\n",
      "Iteration:   0%|                                                                               | 0/219 [00:00<?, ?it/s]\u001b[A"
     ]
    },
    {
     "name": "stdout",
     "output_type": "stream",
     "text": [
      "out_results:\n",
      "tensor(1.1612, grad_fn=<AddBackward0>)\n"
     ]
    },
    {
     "name": "stderr",
     "output_type": "stream",
     "text": [
      "\n",
      "Iteration:   0%|▎                                                                      | 1/219 [00:10<37:59, 10.46s/it]\u001b[A"
     ]
    },
    {
     "name": "stdout",
     "output_type": "stream",
     "text": [
      "out_results:\n",
      "tensor(0.9838, grad_fn=<AddBackward0>)\n"
     ]
    },
    {
     "name": "stderr",
     "output_type": "stream",
     "text": [
      "\n",
      "Iteration:   1%|▋                                                                      | 2/219 [00:20<37:25, 10.35s/it]\u001b[A"
     ]
    },
    {
     "name": "stdout",
     "output_type": "stream",
     "text": [
      "out_results:\n",
      "tensor(1.1276, grad_fn=<AddBackward0>)\n"
     ]
    },
    {
     "name": "stderr",
     "output_type": "stream",
     "text": [
      "\n",
      "Iteration:   1%|▉                                                                      | 3/219 [00:31<37:31, 10.42s/it]\u001b[A"
     ]
    },
    {
     "name": "stdout",
     "output_type": "stream",
     "text": [
      "out_results:\n",
      "tensor(1.2684, grad_fn=<AddBackward0>)\n"
     ]
    },
    {
     "name": "stderr",
     "output_type": "stream",
     "text": [
      "\n",
      "Iteration:   2%|█▎                                                                     | 4/219 [00:41<37:22, 10.43s/it]\u001b[A"
     ]
    },
    {
     "name": "stdout",
     "output_type": "stream",
     "text": [
      "out_results:\n",
      "tensor(1.3103, grad_fn=<AddBackward0>)\n"
     ]
    },
    {
     "name": "stderr",
     "output_type": "stream",
     "text": [
      "\n",
      "Iteration:   2%|█▌                                                                     | 5/219 [00:52<37:10, 10.42s/it]\u001b[A"
     ]
    },
    {
     "name": "stdout",
     "output_type": "stream",
     "text": [
      "out_results:\n",
      "tensor(1.1719, grad_fn=<AddBackward0>)\n"
     ]
    },
    {
     "name": "stderr",
     "output_type": "stream",
     "text": [
      "\n",
      "Iteration:   3%|█▉                                                                     | 6/219 [01:02<36:50, 10.38s/it]\u001b[A"
     ]
    },
    {
     "name": "stdout",
     "output_type": "stream",
     "text": [
      "out_results:\n",
      "tensor(1.1959, grad_fn=<AddBackward0>)\n"
     ]
    },
    {
     "name": "stderr",
     "output_type": "stream",
     "text": [
      "\n",
      "Iteration:   3%|██▎                                                                    | 7/219 [01:12<36:21, 10.29s/it]\u001b[A"
     ]
    },
    {
     "name": "stdout",
     "output_type": "stream",
     "text": [
      "out_results:\n",
      "tensor(1.2753, grad_fn=<AddBackward0>)\n"
     ]
    },
    {
     "name": "stderr",
     "output_type": "stream",
     "text": [
      "\n",
      "Iteration:   4%|██▌                                                                    | 8/219 [01:22<36:13, 10.30s/it]\u001b[A"
     ]
    },
    {
     "name": "stdout",
     "output_type": "stream",
     "text": [
      "out_results:\n",
      "tensor(1.0571, grad_fn=<AddBackward0>)\n"
     ]
    },
    {
     "name": "stderr",
     "output_type": "stream",
     "text": [
      "\n",
      "Iteration:   4%|██▉                                                                    | 9/219 [01:32<36:03, 10.30s/it]\u001b[A"
     ]
    },
    {
     "name": "stdout",
     "output_type": "stream",
     "text": [
      "out_results:\n",
      "tensor(1.1979, grad_fn=<AddBackward0>)\n"
     ]
    },
    {
     "name": "stderr",
     "output_type": "stream",
     "text": [
      "\n",
      "Iteration:   5%|███▏                                                                  | 10/219 [01:43<36:00, 10.34s/it]\u001b[A"
     ]
    },
    {
     "name": "stdout",
     "output_type": "stream",
     "text": [
      "out_results:\n",
      "tensor(1.1892, grad_fn=<AddBackward0>)\n"
     ]
    },
    {
     "name": "stderr",
     "output_type": "stream",
     "text": [
      "\n",
      "Iteration:   5%|███▌                                                                  | 11/219 [01:53<35:49, 10.33s/it]\u001b[A"
     ]
    },
    {
     "name": "stdout",
     "output_type": "stream",
     "text": [
      "out_results:\n",
      "tensor(1.0918, grad_fn=<AddBackward0>)\n"
     ]
    },
    {
     "name": "stderr",
     "output_type": "stream",
     "text": [
      "\n",
      "Iteration:   5%|███▊                                                                  | 12/219 [02:04<35:40, 10.34s/it]\u001b[A"
     ]
    },
    {
     "name": "stdout",
     "output_type": "stream",
     "text": [
      "out_results:\n",
      "tensor(1.2555, grad_fn=<AddBackward0>)\n"
     ]
    },
    {
     "name": "stderr",
     "output_type": "stream",
     "text": [
      "\n",
      "Iteration:   6%|████▏                                                                 | 13/219 [02:14<35:28, 10.33s/it]\u001b[A"
     ]
    },
    {
     "name": "stdout",
     "output_type": "stream",
     "text": [
      "out_results:\n",
      "tensor(1.2240, grad_fn=<AddBackward0>)\n"
     ]
    },
    {
     "name": "stderr",
     "output_type": "stream",
     "text": [
      "\n",
      "Iteration:   6%|████▍                                                                 | 14/219 [02:24<35:20, 10.35s/it]\u001b[A"
     ]
    },
    {
     "name": "stdout",
     "output_type": "stream",
     "text": [
      "out_results:\n",
      "tensor(1.1668, grad_fn=<AddBackward0>)\n"
     ]
    },
    {
     "name": "stderr",
     "output_type": "stream",
     "text": [
      "\n",
      "Iteration:   7%|████▊                                                                 | 15/219 [02:35<35:12, 10.35s/it]\u001b[A"
     ]
    },
    {
     "name": "stdout",
     "output_type": "stream",
     "text": [
      "out_results:\n",
      "tensor(1.1715, grad_fn=<AddBackward0>)\n"
     ]
    },
    {
     "name": "stderr",
     "output_type": "stream",
     "text": [
      "\n",
      "Iteration:   7%|█████                                                                 | 16/219 [02:45<35:02, 10.36s/it]\u001b[A"
     ]
    },
    {
     "name": "stdout",
     "output_type": "stream",
     "text": [
      "out_results:\n",
      "tensor(1.2608, grad_fn=<AddBackward0>)\n"
     ]
    },
    {
     "name": "stderr",
     "output_type": "stream",
     "text": [
      "\n",
      "Iteration:   8%|█████▍                                                                | 17/219 [02:55<34:35, 10.27s/it]\u001b[A"
     ]
    },
    {
     "name": "stdout",
     "output_type": "stream",
     "text": [
      "out_results:\n",
      "tensor(1.2027, grad_fn=<AddBackward0>)\n"
     ]
    },
    {
     "name": "stderr",
     "output_type": "stream",
     "text": [
      "\n",
      "Iteration:   8%|█████▊                                                                | 18/219 [03:05<34:22, 10.26s/it]\u001b[A"
     ]
    },
    {
     "name": "stdout",
     "output_type": "stream",
     "text": [
      "out_results:\n",
      "tensor(1.2111, grad_fn=<AddBackward0>)\n"
     ]
    },
    {
     "name": "stderr",
     "output_type": "stream",
     "text": [
      "\n",
      "Iteration:   9%|██████                                                                | 19/219 [03:16<34:15, 10.28s/it]\u001b[A"
     ]
    },
    {
     "name": "stdout",
     "output_type": "stream",
     "text": [
      "out_results:\n",
      "tensor(1.2020, grad_fn=<AddBackward0>)\n"
     ]
    },
    {
     "name": "stderr",
     "output_type": "stream",
     "text": [
      "\n",
      "Iteration:   9%|██████▍                                                               | 20/219 [03:26<34:11, 10.31s/it]\u001b[A"
     ]
    },
    {
     "name": "stdout",
     "output_type": "stream",
     "text": [
      "out_results:\n",
      "tensor(1.1572, grad_fn=<AddBackward0>)\n"
     ]
    },
    {
     "name": "stderr",
     "output_type": "stream",
     "text": [
      "\n",
      "Iteration:  10%|██████▋                                                               | 21/219 [03:36<33:59, 10.30s/it]\u001b[A"
     ]
    },
    {
     "name": "stdout",
     "output_type": "stream",
     "text": [
      "out_results:\n",
      "tensor(1.2165, grad_fn=<AddBackward0>)\n"
     ]
    },
    {
     "name": "stderr",
     "output_type": "stream",
     "text": [
      "\n",
      "Iteration:  10%|███████                                                               | 22/219 [03:46<33:41, 10.26s/it]\u001b[A"
     ]
    },
    {
     "name": "stdout",
     "output_type": "stream",
     "text": [
      "out_results:\n",
      "tensor(1.2832, grad_fn=<AddBackward0>)\n"
     ]
    },
    {
     "name": "stderr",
     "output_type": "stream",
     "text": [
      "\n",
      "Iteration:  11%|███████▎                                                              | 23/219 [03:57<33:33, 10.27s/it]\u001b[A"
     ]
    },
    {
     "name": "stdout",
     "output_type": "stream",
     "text": [
      "out_results:\n",
      "tensor(1.0800, grad_fn=<AddBackward0>)\n"
     ]
    },
    {
     "name": "stderr",
     "output_type": "stream",
     "text": [
      "\n",
      "Iteration:  11%|███████▋                                                              | 24/219 [04:07<33:26, 10.29s/it]\u001b[A"
     ]
    },
    {
     "name": "stdout",
     "output_type": "stream",
     "text": [
      "out_results:\n",
      "tensor(1.2321, grad_fn=<AddBackward0>)\n"
     ]
    },
    {
     "name": "stderr",
     "output_type": "stream",
     "text": [
      "\n",
      "Iteration:  11%|███████▉                                                              | 25/219 [04:17<33:19, 10.31s/it]\u001b[A"
     ]
    },
    {
     "name": "stdout",
     "output_type": "stream",
     "text": [
      "out_results:\n",
      "tensor(1.1597, grad_fn=<AddBackward0>)\n"
     ]
    },
    {
     "name": "stderr",
     "output_type": "stream",
     "text": [
      "\n",
      "Iteration:  12%|████████▎                                                             | 26/219 [04:28<33:11, 10.32s/it]\u001b[A"
     ]
    },
    {
     "name": "stdout",
     "output_type": "stream",
     "text": [
      "out_results:\n",
      "tensor(1.2418, grad_fn=<AddBackward0>)\n"
     ]
    },
    {
     "name": "stderr",
     "output_type": "stream",
     "text": [
      "\n",
      "Iteration:  12%|████████▋                                                             | 27/219 [04:38<32:47, 10.25s/it]\u001b[A"
     ]
    },
    {
     "name": "stdout",
     "output_type": "stream",
     "text": [
      "out_results:\n",
      "tensor(1.1177, grad_fn=<AddBackward0>)\n"
     ]
    },
    {
     "name": "stderr",
     "output_type": "stream",
     "text": [
      "\n",
      "Iteration:  13%|████████▉                                                             | 28/219 [04:48<32:42, 10.27s/it]\u001b[A"
     ]
    },
    {
     "name": "stdout",
     "output_type": "stream",
     "text": [
      "out_results:\n",
      "tensor(1.1701, grad_fn=<AddBackward0>)\n"
     ]
    },
    {
     "name": "stderr",
     "output_type": "stream",
     "text": [
      "\n",
      "Iteration:  13%|█████████▎                                                            | 29/219 [04:59<32:36, 10.30s/it]\u001b[A"
     ]
    },
    {
     "name": "stdout",
     "output_type": "stream",
     "text": [
      "out_results:\n",
      "tensor(1.1541, grad_fn=<AddBackward0>)\n"
     ]
    },
    {
     "name": "stderr",
     "output_type": "stream",
     "text": [
      "\n",
      "Iteration:  14%|█████████▌                                                            | 30/219 [05:09<32:10, 10.21s/it]\u001b[A"
     ]
    },
    {
     "name": "stdout",
     "output_type": "stream",
     "text": [
      "out_results:\n",
      "tensor(1.3038, grad_fn=<AddBackward0>)\n"
     ]
    },
    {
     "name": "stderr",
     "output_type": "stream",
     "text": [
      "\n",
      "Iteration:  14%|█████████▉                                                            | 31/219 [05:18<31:31, 10.06s/it]\u001b[A"
     ]
    },
    {
     "name": "stdout",
     "output_type": "stream",
     "text": [
      "out_results:\n",
      "tensor(1.1702, grad_fn=<AddBackward0>)\n"
     ]
    },
    {
     "name": "stderr",
     "output_type": "stream",
     "text": [
      "\n",
      "Iteration:  15%|██████████▏                                                           | 32/219 [05:28<30:58,  9.94s/it]\u001b[A"
     ]
    },
    {
     "name": "stdout",
     "output_type": "stream",
     "text": [
      "out_results:\n",
      "tensor(1.1945, grad_fn=<AddBackward0>)\n"
     ]
    },
    {
     "name": "stderr",
     "output_type": "stream",
     "text": [
      "\n",
      "Iteration:  15%|██████████▌                                                           | 33/219 [05:38<30:34,  9.86s/it]\u001b[A"
     ]
    },
    {
     "name": "stdout",
     "output_type": "stream",
     "text": [
      "out_results:\n",
      "tensor(0.9540, grad_fn=<AddBackward0>)\n"
     ]
    },
    {
     "name": "stderr",
     "output_type": "stream",
     "text": [
      "\n",
      "Iteration:  16%|██████████▊                                                           | 34/219 [05:47<30:12,  9.80s/it]\u001b[A"
     ]
    },
    {
     "name": "stdout",
     "output_type": "stream",
     "text": [
      "out_results:\n",
      "tensor(1.2157, grad_fn=<AddBackward0>)\n"
     ]
    },
    {
     "name": "stderr",
     "output_type": "stream",
     "text": [
      "\n",
      "Iteration:  16%|███████████▏                                                          | 35/219 [05:57<29:58,  9.77s/it]\u001b[A"
     ]
    },
    {
     "name": "stdout",
     "output_type": "stream",
     "text": [
      "out_results:\n",
      "tensor(1.2197, grad_fn=<AddBackward0>)\n"
     ]
    },
    {
     "name": "stderr",
     "output_type": "stream",
     "text": [
      "\n",
      "Iteration:  16%|███████████▌                                                          | 36/219 [06:07<29:42,  9.74s/it]\u001b[A"
     ]
    },
    {
     "name": "stdout",
     "output_type": "stream",
     "text": [
      "out_results:\n",
      "tensor(1.1622, grad_fn=<AddBackward0>)\n"
     ]
    },
    {
     "name": "stderr",
     "output_type": "stream",
     "text": [
      "\n",
      "Iteration:  17%|███████████▊                                                          | 37/219 [06:16<29:27,  9.71s/it]\u001b[A"
     ]
    },
    {
     "name": "stdout",
     "output_type": "stream",
     "text": [
      "out_results:\n",
      "tensor(1.2737, grad_fn=<AddBackward0>)\n"
     ]
    },
    {
     "name": "stderr",
     "output_type": "stream",
     "text": [
      "\n",
      "Iteration:  17%|████████████▏                                                         | 38/219 [06:26<29:15,  9.70s/it]\u001b[A"
     ]
    },
    {
     "name": "stdout",
     "output_type": "stream",
     "text": [
      "out_results:\n",
      "tensor(1.2828, grad_fn=<AddBackward0>)\n"
     ]
    },
    {
     "name": "stderr",
     "output_type": "stream",
     "text": [
      "\n",
      "Iteration:  18%|████████████▍                                                         | 39/219 [06:36<29:03,  9.69s/it]\u001b[A"
     ]
    },
    {
     "name": "stdout",
     "output_type": "stream",
     "text": [
      "out_results:\n",
      "tensor(1.2341, grad_fn=<AddBackward0>)\n"
     ]
    },
    {
     "name": "stderr",
     "output_type": "stream",
     "text": [
      "\n",
      "Iteration:  18%|████████████▊                                                         | 40/219 [06:45<28:51,  9.67s/it]\u001b[A"
     ]
    },
    {
     "name": "stdout",
     "output_type": "stream",
     "text": [
      "out_results:\n",
      "tensor(1.1450, grad_fn=<AddBackward0>)\n"
     ]
    },
    {
     "name": "stderr",
     "output_type": "stream",
     "text": [
      "\n",
      "Iteration:  19%|█████████████                                                         | 41/219 [06:55<28:42,  9.68s/it]\u001b[A"
     ]
    },
    {
     "name": "stdout",
     "output_type": "stream",
     "text": [
      "out_results:\n",
      "tensor(1.2303, grad_fn=<AddBackward0>)\n"
     ]
    },
    {
     "name": "stderr",
     "output_type": "stream",
     "text": [
      "\n",
      "Iteration:  19%|█████████████▍                                                        | 42/219 [07:05<28:30,  9.67s/it]\u001b[A"
     ]
    },
    {
     "name": "stdout",
     "output_type": "stream",
     "text": [
      "out_results:\n",
      "tensor(1.2094, grad_fn=<AddBackward0>)\n"
     ]
    },
    {
     "name": "stderr",
     "output_type": "stream",
     "text": [
      "\n",
      "Iteration:  20%|█████████████▋                                                        | 43/219 [07:14<28:21,  9.66s/it]\u001b[A"
     ]
    },
    {
     "name": "stdout",
     "output_type": "stream",
     "text": [
      "out_results:\n",
      "tensor(1.2075, grad_fn=<AddBackward0>)\n"
     ]
    },
    {
     "name": "stderr",
     "output_type": "stream",
     "text": [
      "\n",
      "Iteration:  20%|██████████████                                                        | 44/219 [07:24<28:11,  9.67s/it]\u001b[A"
     ]
    },
    {
     "name": "stdout",
     "output_type": "stream",
     "text": [
      "out_results:\n",
      "tensor(1.1824, grad_fn=<AddBackward0>)\n"
     ]
    },
    {
     "name": "stderr",
     "output_type": "stream",
     "text": [
      "\n",
      "Iteration:  21%|██████████████▍                                                       | 45/219 [07:34<28:02,  9.67s/it]\u001b[A"
     ]
    },
    {
     "name": "stdout",
     "output_type": "stream",
     "text": [
      "out_results:\n",
      "tensor(1.2579, grad_fn=<AddBackward0>)\n"
     ]
    },
    {
     "name": "stderr",
     "output_type": "stream",
     "text": [
      "\n",
      "Iteration:  21%|██████████████▋                                                       | 46/219 [07:43<27:51,  9.66s/it]\u001b[A"
     ]
    },
    {
     "name": "stdout",
     "output_type": "stream",
     "text": [
      "out_results:\n",
      "tensor(1.1129, grad_fn=<AddBackward0>)\n"
     ]
    },
    {
     "name": "stderr",
     "output_type": "stream",
     "text": [
      "\n",
      "Iteration:  21%|███████████████                                                       | 47/219 [07:53<27:44,  9.68s/it]\u001b[A"
     ]
    },
    {
     "name": "stdout",
     "output_type": "stream",
     "text": [
      "out_results:\n",
      "tensor(1.1497, grad_fn=<AddBackward0>)\n"
     ]
    },
    {
     "name": "stderr",
     "output_type": "stream",
     "text": [
      "\n",
      "Iteration:  22%|███████████████▎                                                      | 48/219 [08:03<27:34,  9.67s/it]\u001b[A"
     ]
    },
    {
     "name": "stdout",
     "output_type": "stream",
     "text": [
      "out_results:\n",
      "tensor(1.2015, grad_fn=<AddBackward0>)\n"
     ]
    },
    {
     "name": "stderr",
     "output_type": "stream",
     "text": [
      "\n",
      "Iteration:  22%|███████████████▋                                                      | 49/219 [08:12<27:24,  9.67s/it]\u001b[A"
     ]
    },
    {
     "name": "stdout",
     "output_type": "stream",
     "text": [
      "out_results:\n",
      "tensor(1.2369, grad_fn=<AddBackward0>)\n"
     ]
    },
    {
     "name": "stderr",
     "output_type": "stream",
     "text": [
      "\n",
      "Iteration:  23%|███████████████▉                                                      | 50/219 [08:22<27:14,  9.67s/it]\u001b[A"
     ]
    },
    {
     "name": "stdout",
     "output_type": "stream",
     "text": [
      "out_results:\n",
      "tensor(0.9925, grad_fn=<AddBackward0>)\n"
     ]
    },
    {
     "name": "stderr",
     "output_type": "stream",
     "text": [
      "\n",
      "Iteration:  23%|████████████████▎                                                     | 51/219 [08:32<27:03,  9.67s/it]\u001b[A"
     ]
    },
    {
     "name": "stdout",
     "output_type": "stream",
     "text": [
      "out_results:\n",
      "tensor(1.1293, grad_fn=<AddBackward0>)\n"
     ]
    },
    {
     "name": "stderr",
     "output_type": "stream",
     "text": [
      "\n",
      "Iteration:  24%|████████████████▌                                                     | 52/219 [08:41<26:54,  9.67s/it]\u001b[A"
     ]
    },
    {
     "name": "stdout",
     "output_type": "stream",
     "text": [
      "out_results:\n",
      "tensor(1.1807, grad_fn=<AddBackward0>)\n"
     ]
    },
    {
     "name": "stderr",
     "output_type": "stream",
     "text": [
      "\n",
      "Iteration:  24%|████████████████▉                                                     | 53/219 [08:51<26:45,  9.67s/it]\u001b[A"
     ]
    },
    {
     "name": "stdout",
     "output_type": "stream",
     "text": [
      "out_results:\n",
      "tensor(1.2482, grad_fn=<AddBackward0>)\n"
     ]
    },
    {
     "name": "stderr",
     "output_type": "stream",
     "text": [
      "\n",
      "Iteration:  25%|█████████████████▎                                                    | 54/219 [09:01<26:36,  9.68s/it]\u001b[A"
     ]
    },
    {
     "name": "stdout",
     "output_type": "stream",
     "text": [
      "out_results:\n",
      "tensor(1.3115, grad_fn=<AddBackward0>)\n"
     ]
    },
    {
     "name": "stderr",
     "output_type": "stream",
     "text": [
      "\n",
      "Iteration:  25%|█████████████████▌                                                    | 55/219 [09:11<26:35,  9.73s/it]\u001b[A"
     ]
    },
    {
     "name": "stdout",
     "output_type": "stream",
     "text": [
      "out_results:\n",
      "tensor(1.2916, grad_fn=<AddBackward0>)\n"
     ]
    },
    {
     "name": "stderr",
     "output_type": "stream",
     "text": [
      "\n",
      "Iteration:  26%|█████████████████▉                                                    | 56/219 [09:20<26:22,  9.71s/it]\u001b[A"
     ]
    },
    {
     "name": "stdout",
     "output_type": "stream",
     "text": [
      "out_results:\n",
      "tensor(1.1398, grad_fn=<AddBackward0>)\n"
     ]
    },
    {
     "name": "stderr",
     "output_type": "stream",
     "text": [
      "\n",
      "Iteration:  26%|██████████████████▏                                                   | 57/219 [09:30<26:08,  9.68s/it]\u001b[A"
     ]
    },
    {
     "name": "stdout",
     "output_type": "stream",
     "text": [
      "out_results:\n",
      "tensor(1.2064, grad_fn=<AddBackward0>)\n"
     ]
    },
    {
     "name": "stderr",
     "output_type": "stream",
     "text": [
      "\n",
      "Iteration:  26%|██████████████████▌                                                   | 58/219 [09:39<25:57,  9.68s/it]\u001b[A"
     ]
    },
    {
     "name": "stdout",
     "output_type": "stream",
     "text": [
      "out_results:\n",
      "tensor(1.2157, grad_fn=<AddBackward0>)\n"
     ]
    },
    {
     "name": "stderr",
     "output_type": "stream",
     "text": [
      "\n",
      "Iteration:  27%|██████████████████▊                                                   | 59/219 [09:49<25:55,  9.72s/it]\u001b[A"
     ]
    },
    {
     "name": "stdout",
     "output_type": "stream",
     "text": [
      "out_results:\n",
      "tensor(1.2567, grad_fn=<AddBackward0>)\n"
     ]
    },
    {
     "name": "stderr",
     "output_type": "stream",
     "text": [
      "\n",
      "Iteration:  27%|███████████████████▏                                                  | 60/219 [09:59<25:44,  9.71s/it]\u001b[A"
     ]
    },
    {
     "name": "stdout",
     "output_type": "stream",
     "text": [
      "out_results:\n",
      "tensor(1.2254, grad_fn=<AddBackward0>)\n"
     ]
    },
    {
     "name": "stderr",
     "output_type": "stream",
     "text": [
      "\n",
      "Iteration:  28%|███████████████████▍                                                  | 61/219 [10:09<25:34,  9.71s/it]\u001b[A"
     ]
    },
    {
     "name": "stdout",
     "output_type": "stream",
     "text": [
      "out_results:\n",
      "tensor(1.1848, grad_fn=<AddBackward0>)\n"
     ]
    },
    {
     "name": "stderr",
     "output_type": "stream",
     "text": [
      "\n",
      "Iteration:  28%|███████████████████▊                                                  | 62/219 [10:18<25:22,  9.70s/it]\u001b[A"
     ]
    },
    {
     "name": "stdout",
     "output_type": "stream",
     "text": [
      "out_results:\n",
      "tensor(1.2410, grad_fn=<AddBackward0>)\n"
     ]
    },
    {
     "name": "stderr",
     "output_type": "stream",
     "text": [
      "\n",
      "Iteration:  29%|████████████████████▏                                                 | 63/219 [10:28<25:12,  9.69s/it]\u001b[A"
     ]
    },
    {
     "name": "stdout",
     "output_type": "stream",
     "text": [
      "out_results:\n",
      "tensor(1.1953, grad_fn=<AddBackward0>)\n"
     ]
    },
    {
     "name": "stderr",
     "output_type": "stream",
     "text": [
      "\n",
      "Iteration:  29%|████████████████████▍                                                 | 64/219 [10:38<25:00,  9.68s/it]\u001b[A"
     ]
    },
    {
     "name": "stdout",
     "output_type": "stream",
     "text": [
      "out_results:\n",
      "tensor(1.1237, grad_fn=<AddBackward0>)\n"
     ]
    },
    {
     "name": "stderr",
     "output_type": "stream",
     "text": [
      "\n",
      "Iteration:  30%|████████████████████▊                                                 | 65/219 [10:47<24:48,  9.67s/it]\u001b[A"
     ]
    },
    {
     "name": "stdout",
     "output_type": "stream",
     "text": [
      "out_results:\n",
      "tensor(1.1763, grad_fn=<AddBackward0>)\n"
     ]
    },
    {
     "name": "stderr",
     "output_type": "stream",
     "text": [
      "\n",
      "Iteration:  30%|█████████████████████                                                 | 66/219 [10:57<24:36,  9.65s/it]\u001b[A"
     ]
    },
    {
     "name": "stdout",
     "output_type": "stream",
     "text": [
      "out_results:\n",
      "tensor(1.1474, grad_fn=<AddBackward0>)\n"
     ]
    },
    {
     "name": "stderr",
     "output_type": "stream",
     "text": [
      "\n",
      "Iteration:  31%|█████████████████████▍                                                | 67/219 [11:07<24:26,  9.65s/it]\u001b[A"
     ]
    },
    {
     "name": "stdout",
     "output_type": "stream",
     "text": [
      "out_results:\n",
      "tensor(1.2220, grad_fn=<AddBackward0>)\n"
     ]
    },
    {
     "name": "stderr",
     "output_type": "stream",
     "text": [
      "\n",
      "Iteration:  31%|█████████████████████▋                                                | 68/219 [11:16<24:18,  9.66s/it]\u001b[A"
     ]
    },
    {
     "name": "stdout",
     "output_type": "stream",
     "text": [
      "out_results:\n",
      "tensor(1.1408, grad_fn=<AddBackward0>)\n"
     ]
    },
    {
     "name": "stderr",
     "output_type": "stream",
     "text": [
      "\n",
      "Iteration:  32%|██████████████████████                                                | 69/219 [11:26<24:08,  9.65s/it]\u001b[A"
     ]
    },
    {
     "name": "stdout",
     "output_type": "stream",
     "text": [
      "out_results:\n",
      "tensor(1.3226, grad_fn=<AddBackward0>)\n"
     ]
    },
    {
     "name": "stderr",
     "output_type": "stream",
     "text": [
      "\n",
      "Iteration:  32%|██████████████████████▎                                               | 70/219 [11:36<23:59,  9.66s/it]\u001b[A"
     ]
    },
    {
     "name": "stdout",
     "output_type": "stream",
     "text": [
      "out_results:\n",
      "tensor(1.2157, grad_fn=<AddBackward0>)\n"
     ]
    },
    {
     "name": "stderr",
     "output_type": "stream",
     "text": [
      "\n",
      "Iteration:  32%|██████████████████████▋                                               | 71/219 [11:45<23:49,  9.66s/it]\u001b[A"
     ]
    },
    {
     "name": "stdout",
     "output_type": "stream",
     "text": [
      "out_results:\n",
      "tensor(1.1423, grad_fn=<AddBackward0>)\n"
     ]
    },
    {
     "name": "stderr",
     "output_type": "stream",
     "text": [
      "\n",
      "Iteration:  33%|███████████████████████                                               | 72/219 [11:55<23:40,  9.67s/it]\u001b[A"
     ]
    },
    {
     "name": "stdout",
     "output_type": "stream",
     "text": [
      "out_results:\n",
      "tensor(1.1165, grad_fn=<AddBackward0>)\n"
     ]
    },
    {
     "name": "stderr",
     "output_type": "stream",
     "text": [
      "\n",
      "Iteration:  33%|███████████████████████▎                                              | 73/219 [12:05<23:30,  9.66s/it]\u001b[A"
     ]
    },
    {
     "name": "stdout",
     "output_type": "stream",
     "text": [
      "out_results:\n",
      "tensor(1.1315, grad_fn=<AddBackward0>)\n"
     ]
    },
    {
     "name": "stderr",
     "output_type": "stream",
     "text": [
      "\n",
      "Iteration:  34%|███████████████████████▋                                              | 74/219 [12:14<23:19,  9.65s/it]\u001b[A"
     ]
    },
    {
     "name": "stdout",
     "output_type": "stream",
     "text": [
      "out_results:\n",
      "tensor(1.1630, grad_fn=<AddBackward0>)\n"
     ]
    },
    {
     "name": "stderr",
     "output_type": "stream",
     "text": [
      "\n",
      "Iteration:  34%|███████████████████████▉                                              | 75/219 [12:24<23:11,  9.66s/it]\u001b[A"
     ]
    },
    {
     "name": "stdout",
     "output_type": "stream",
     "text": [
      "out_results:\n",
      "tensor(1.0868, grad_fn=<AddBackward0>)\n"
     ]
    },
    {
     "name": "stderr",
     "output_type": "stream",
     "text": [
      "\n",
      "Iteration:  35%|████████████████████████▎                                             | 76/219 [12:34<23:01,  9.66s/it]\u001b[A"
     ]
    },
    {
     "name": "stdout",
     "output_type": "stream",
     "text": [
      "out_results:\n",
      "tensor(1.1556, grad_fn=<AddBackward0>)\n"
     ]
    },
    {
     "name": "stderr",
     "output_type": "stream",
     "text": [
      "\n",
      "Iteration:  35%|████████████████████████▌                                             | 77/219 [12:43<22:51,  9.66s/it]\u001b[A"
     ]
    },
    {
     "name": "stdout",
     "output_type": "stream",
     "text": [
      "out_results:\n",
      "tensor(1.1766, grad_fn=<AddBackward0>)\n"
     ]
    },
    {
     "name": "stderr",
     "output_type": "stream",
     "text": [
      "\n",
      "Iteration:  36%|████████████████████████▉                                             | 78/219 [12:53<22:43,  9.67s/it]\u001b[A"
     ]
    },
    {
     "name": "stdout",
     "output_type": "stream",
     "text": [
      "out_results:\n",
      "tensor(1.0767, grad_fn=<AddBackward0>)\n"
     ]
    },
    {
     "name": "stderr",
     "output_type": "stream",
     "text": [
      "\n",
      "Iteration:  36%|█████████████████████████▎                                            | 79/219 [13:03<22:32,  9.66s/it]\u001b[A"
     ]
    },
    {
     "name": "stdout",
     "output_type": "stream",
     "text": [
      "out_results:\n",
      "tensor(1.0612, grad_fn=<AddBackward0>)\n"
     ]
    },
    {
     "name": "stderr",
     "output_type": "stream",
     "text": [
      "\n",
      "Iteration:  37%|█████████████████████████▌                                            | 80/219 [13:12<22:21,  9.65s/it]\u001b[A"
     ]
    },
    {
     "name": "stdout",
     "output_type": "stream",
     "text": [
      "out_results:\n",
      "tensor(1.1366, grad_fn=<AddBackward0>)\n"
     ]
    },
    {
     "name": "stderr",
     "output_type": "stream",
     "text": [
      "\n",
      "Iteration:  37%|█████████████████████████▉                                            | 81/219 [13:22<22:12,  9.65s/it]\u001b[A"
     ]
    },
    {
     "name": "stdout",
     "output_type": "stream",
     "text": [
      "out_results:\n",
      "tensor(1.2716, grad_fn=<AddBackward0>)\n"
     ]
    },
    {
     "name": "stderr",
     "output_type": "stream",
     "text": [
      "\n",
      "Iteration:  37%|██████████████████████████▏                                           | 82/219 [13:31<22:01,  9.64s/it]\u001b[A"
     ]
    },
    {
     "name": "stdout",
     "output_type": "stream",
     "text": [
      "out_results:\n",
      "tensor(1.1167, grad_fn=<AddBackward0>)\n"
     ]
    },
    {
     "name": "stderr",
     "output_type": "stream",
     "text": [
      "\n",
      "Iteration:  38%|██████████████████████████▌                                           | 83/219 [13:41<21:53,  9.66s/it]\u001b[A"
     ]
    },
    {
     "name": "stdout",
     "output_type": "stream",
     "text": [
      "out_results:\n",
      "tensor(1.0682, grad_fn=<AddBackward0>)\n"
     ]
    },
    {
     "name": "stderr",
     "output_type": "stream",
     "text": [
      "\n",
      "Iteration:  38%|██████████████████████████▊                                           | 84/219 [13:51<21:45,  9.67s/it]\u001b[A"
     ]
    },
    {
     "name": "stdout",
     "output_type": "stream",
     "text": [
      "out_results:\n",
      "tensor(1.0737, grad_fn=<AddBackward0>)\n"
     ]
    },
    {
     "name": "stderr",
     "output_type": "stream",
     "text": [
      "\n",
      "Iteration:  39%|███████████████████████████▏                                          | 85/219 [14:01<21:38,  9.69s/it]\u001b[A"
     ]
    },
    {
     "name": "stdout",
     "output_type": "stream",
     "text": [
      "out_results:\n",
      "tensor(1.0635, grad_fn=<AddBackward0>)\n"
     ]
    },
    {
     "name": "stderr",
     "output_type": "stream",
     "text": [
      "\n",
      "Iteration:  39%|███████████████████████████▍                                          | 86/219 [14:10<21:26,  9.67s/it]\u001b[A"
     ]
    },
    {
     "name": "stdout",
     "output_type": "stream",
     "text": [
      "out_results:\n",
      "tensor(1.1709, grad_fn=<AddBackward0>)\n"
     ]
    },
    {
     "name": "stderr",
     "output_type": "stream",
     "text": [
      "\n",
      "Iteration:  40%|███████████████████████████▊                                          | 87/219 [14:20<21:15,  9.66s/it]\u001b[A"
     ]
    },
    {
     "name": "stdout",
     "output_type": "stream",
     "text": [
      "out_results:\n",
      "tensor(1.3690, grad_fn=<AddBackward0>)\n"
     ]
    },
    {
     "name": "stderr",
     "output_type": "stream",
     "text": [
      "\n",
      "Iteration:  40%|████████████████████████████▏                                         | 88/219 [14:30<21:07,  9.67s/it]\u001b[A"
     ]
    },
    {
     "name": "stdout",
     "output_type": "stream",
     "text": [
      "out_results:\n",
      "tensor(1.2448, grad_fn=<AddBackward0>)\n"
     ]
    },
    {
     "name": "stderr",
     "output_type": "stream",
     "text": [
      "\n",
      "Iteration:  41%|████████████████████████████▍                                         | 89/219 [14:39<20:56,  9.66s/it]\u001b[A"
     ]
    },
    {
     "name": "stdout",
     "output_type": "stream",
     "text": [
      "out_results:\n",
      "tensor(1.1844, grad_fn=<AddBackward0>)\n"
     ]
    },
    {
     "name": "stderr",
     "output_type": "stream",
     "text": [
      "\n",
      "Iteration:  41%|████████████████████████████▊                                         | 90/219 [14:49<20:45,  9.65s/it]\u001b[A"
     ]
    },
    {
     "name": "stdout",
     "output_type": "stream",
     "text": [
      "out_results:\n",
      "tensor(1.3773, grad_fn=<AddBackward0>)\n"
     ]
    },
    {
     "name": "stderr",
     "output_type": "stream",
     "text": [
      "\n",
      "Iteration:  42%|█████████████████████████████                                         | 91/219 [14:58<20:34,  9.65s/it]\u001b[A"
     ]
    },
    {
     "name": "stdout",
     "output_type": "stream",
     "text": [
      "out_results:\n",
      "tensor(1.1075, grad_fn=<AddBackward0>)\n"
     ]
    },
    {
     "name": "stderr",
     "output_type": "stream",
     "text": [
      "\n",
      "Iteration:  42%|█████████████████████████████▍                                        | 92/219 [15:08<20:24,  9.65s/it]\u001b[A"
     ]
    },
    {
     "name": "stdout",
     "output_type": "stream",
     "text": [
      "out_results:\n",
      "tensor(1.2456, grad_fn=<AddBackward0>)\n"
     ]
    },
    {
     "name": "stderr",
     "output_type": "stream",
     "text": [
      "\n",
      "Iteration:  42%|█████████████████████████████▋                                        | 93/219 [15:18<20:27,  9.75s/it]\u001b[A"
     ]
    },
    {
     "name": "stdout",
     "output_type": "stream",
     "text": [
      "out_results:\n",
      "tensor(1.1628, grad_fn=<AddBackward0>)\n"
     ]
    },
    {
     "name": "stderr",
     "output_type": "stream",
     "text": [
      "\n",
      "Iteration:  43%|██████████████████████████████                                        | 94/219 [15:28<20:25,  9.81s/it]\u001b[A"
     ]
    },
    {
     "name": "stdout",
     "output_type": "stream",
     "text": [
      "out_results:\n",
      "tensor(1.2672, grad_fn=<AddBackward0>)\n"
     ]
    },
    {
     "name": "stderr",
     "output_type": "stream",
     "text": [
      "\n",
      "Iteration:  43%|██████████████████████████████▎                                       | 95/219 [15:38<20:11,  9.77s/it]\u001b[A"
     ]
    },
    {
     "name": "stdout",
     "output_type": "stream",
     "text": [
      "out_results:\n",
      "tensor(1.1972, grad_fn=<AddBackward0>)\n"
     ]
    },
    {
     "name": "stderr",
     "output_type": "stream",
     "text": [
      "\n",
      "Iteration:  44%|██████████████████████████████▋                                       | 96/219 [15:47<19:58,  9.74s/it]\u001b[A"
     ]
    },
    {
     "name": "stdout",
     "output_type": "stream",
     "text": [
      "out_results:\n",
      "tensor(1.0704, grad_fn=<AddBackward0>)\n"
     ]
    },
    {
     "name": "stderr",
     "output_type": "stream",
     "text": [
      "\n",
      "Iteration:  44%|███████████████████████████████                                       | 97/219 [15:57<19:48,  9.74s/it]\u001b[A"
     ]
    },
    {
     "name": "stdout",
     "output_type": "stream",
     "text": [
      "out_results:\n",
      "tensor(1.3339, grad_fn=<AddBackward0>)\n"
     ]
    },
    {
     "name": "stderr",
     "output_type": "stream",
     "text": [
      "\n",
      "Iteration:  45%|███████████████████████████████▎                                      | 98/219 [16:07<19:35,  9.72s/it]\u001b[A"
     ]
    },
    {
     "name": "stdout",
     "output_type": "stream",
     "text": [
      "out_results:\n",
      "tensor(1.2024, grad_fn=<AddBackward0>)\n"
     ]
    },
    {
     "name": "stderr",
     "output_type": "stream",
     "text": [
      "\n",
      "Iteration:  45%|███████████████████████████████▋                                      | 99/219 [16:16<19:24,  9.70s/it]\u001b[A"
     ]
    },
    {
     "name": "stdout",
     "output_type": "stream",
     "text": [
      "out_results:\n",
      "tensor(1.2213, grad_fn=<AddBackward0>)\n"
     ]
    },
    {
     "name": "stderr",
     "output_type": "stream",
     "text": [
      "\n",
      "Iteration:  46%|███████████████████████████████▌                                     | 100/219 [16:26<19:12,  9.68s/it]\u001b[A"
     ]
    },
    {
     "name": "stdout",
     "output_type": "stream",
     "text": [
      "out_results:\n",
      "tensor(1.1903, grad_fn=<AddBackward0>)\n"
     ]
    },
    {
     "name": "stderr",
     "output_type": "stream",
     "text": [
      "\n",
      "Iteration:  46%|███████████████████████████████▊                                     | 101/219 [16:36<19:01,  9.67s/it]\u001b[A"
     ]
    },
    {
     "name": "stdout",
     "output_type": "stream",
     "text": [
      "out_results:\n",
      "tensor(1.2386, grad_fn=<AddBackward0>)\n"
     ]
    },
    {
     "name": "stderr",
     "output_type": "stream",
     "text": [
      "\n",
      "Iteration:  47%|████████████████████████████████▏                                    | 102/219 [16:45<18:50,  9.66s/it]\u001b[A"
     ]
    },
    {
     "name": "stdout",
     "output_type": "stream",
     "text": [
      "out_results:\n",
      "tensor(1.2881, grad_fn=<AddBackward0>)\n"
     ]
    },
    {
     "name": "stderr",
     "output_type": "stream",
     "text": [
      "\n",
      "Iteration:  47%|████████████████████████████████▍                                    | 103/219 [16:55<18:41,  9.67s/it]\u001b[A"
     ]
    },
    {
     "name": "stdout",
     "output_type": "stream",
     "text": [
      "out_results:\n",
      "tensor(1.1489, grad_fn=<AddBackward0>)\n"
     ]
    },
    {
     "name": "stderr",
     "output_type": "stream",
     "text": [
      "\n",
      "Iteration:  47%|████████████████████████████████▊                                    | 104/219 [17:05<18:31,  9.66s/it]\u001b[A"
     ]
    },
    {
     "name": "stdout",
     "output_type": "stream",
     "text": [
      "out_results:\n",
      "tensor(1.1259, grad_fn=<AddBackward0>)\n"
     ]
    },
    {
     "name": "stderr",
     "output_type": "stream",
     "text": [
      "\n",
      "Iteration:  48%|█████████████████████████████████                                    | 105/219 [17:14<18:21,  9.66s/it]\u001b[A"
     ]
    },
    {
     "name": "stdout",
     "output_type": "stream",
     "text": [
      "out_results:\n",
      "tensor(1.2293, grad_fn=<AddBackward0>)\n"
     ]
    },
    {
     "name": "stderr",
     "output_type": "stream",
     "text": [
      "\n",
      "Iteration:  48%|█████████████████████████████████▍                                   | 106/219 [17:24<18:12,  9.67s/it]\u001b[A"
     ]
    },
    {
     "name": "stdout",
     "output_type": "stream",
     "text": [
      "out_results:\n",
      "tensor(1.1405, grad_fn=<AddBackward0>)\n"
     ]
    },
    {
     "name": "stderr",
     "output_type": "stream",
     "text": [
      "\n",
      "Iteration:  49%|█████████████████████████████████▋                                   | 107/219 [17:34<18:01,  9.66s/it]\u001b[A"
     ]
    },
    {
     "name": "stdout",
     "output_type": "stream",
     "text": [
      "out_results:\n",
      "tensor(1.2062, grad_fn=<AddBackward0>)\n"
     ]
    },
    {
     "name": "stderr",
     "output_type": "stream",
     "text": [
      "\n",
      "Iteration:  49%|██████████████████████████████████                                   | 108/219 [17:43<17:51,  9.65s/it]\u001b[A"
     ]
    },
    {
     "name": "stdout",
     "output_type": "stream",
     "text": [
      "out_results:\n",
      "tensor(1.2096, grad_fn=<AddBackward0>)\n"
     ]
    },
    {
     "name": "stderr",
     "output_type": "stream",
     "text": [
      "\n",
      "Iteration:  50%|██████████████████████████████████▎                                  | 109/219 [17:53<17:42,  9.66s/it]\u001b[A"
     ]
    },
    {
     "name": "stdout",
     "output_type": "stream",
     "text": [
      "out_results:\n",
      "tensor(1.2225, grad_fn=<AddBackward0>)\n"
     ]
    },
    {
     "name": "stderr",
     "output_type": "stream",
     "text": [
      "\n",
      "Iteration:  50%|██████████████████████████████████▋                                  | 110/219 [18:03<17:33,  9.66s/it]\u001b[A"
     ]
    },
    {
     "name": "stdout",
     "output_type": "stream",
     "text": [
      "out_results:\n",
      "tensor(1.1430, grad_fn=<AddBackward0>)\n"
     ]
    },
    {
     "name": "stderr",
     "output_type": "stream",
     "text": [
      "\n",
      "Iteration:  51%|██████████████████████████████████▉                                  | 111/219 [18:12<17:24,  9.67s/it]\u001b[A"
     ]
    },
    {
     "name": "stdout",
     "output_type": "stream",
     "text": [
      "out_results:\n",
      "tensor(1.3016, grad_fn=<AddBackward0>)\n"
     ]
    },
    {
     "name": "stderr",
     "output_type": "stream",
     "text": [
      "\n",
      "Iteration:  51%|███████████████████████████████████▎                                 | 112/219 [18:22<17:13,  9.66s/it]\u001b[A"
     ]
    },
    {
     "name": "stdout",
     "output_type": "stream",
     "text": [
      "out_results:\n",
      "tensor(1.1779, grad_fn=<AddBackward0>)\n"
     ]
    },
    {
     "name": "stderr",
     "output_type": "stream",
     "text": [
      "\n",
      "Iteration:  52%|███████████████████████████████████▌                                 | 113/219 [18:32<17:14,  9.76s/it]\u001b[A"
     ]
    },
    {
     "name": "stdout",
     "output_type": "stream",
     "text": [
      "out_results:\n",
      "tensor(1.2206, grad_fn=<AddBackward0>)\n"
     ]
    },
    {
     "name": "stderr",
     "output_type": "stream",
     "text": [
      "\n",
      "Iteration:  52%|███████████████████████████████████▉                                 | 114/219 [18:42<17:01,  9.73s/it]\u001b[A"
     ]
    },
    {
     "name": "stdout",
     "output_type": "stream",
     "text": [
      "out_results:\n",
      "tensor(1.1661, grad_fn=<AddBackward0>)\n"
     ]
    },
    {
     "name": "stderr",
     "output_type": "stream",
     "text": [
      "\n",
      "Iteration:  53%|████████████████████████████████████▏                                | 115/219 [18:51<16:49,  9.70s/it]\u001b[A"
     ]
    },
    {
     "name": "stdout",
     "output_type": "stream",
     "text": [
      "out_results:\n",
      "tensor(1.3580, grad_fn=<AddBackward0>)\n"
     ]
    },
    {
     "name": "stderr",
     "output_type": "stream",
     "text": [
      "\n",
      "Iteration:  53%|████████████████████████████████████▌                                | 116/219 [19:01<16:37,  9.68s/it]\u001b[A"
     ]
    },
    {
     "name": "stdout",
     "output_type": "stream",
     "text": [
      "out_results:\n",
      "tensor(1.0751, grad_fn=<AddBackward0>)\n"
     ]
    },
    {
     "name": "stderr",
     "output_type": "stream",
     "text": [
      "\n",
      "Iteration:  53%|████████████████████████████████████▊                                | 117/219 [19:11<16:25,  9.67s/it]\u001b[A"
     ]
    },
    {
     "name": "stdout",
     "output_type": "stream",
     "text": [
      "out_results:\n",
      "tensor(1.0529, grad_fn=<AddBackward0>)\n"
     ]
    },
    {
     "name": "stderr",
     "output_type": "stream",
     "text": [
      "\n",
      "Iteration:  54%|█████████████████████████████████████▏                               | 118/219 [19:20<16:15,  9.66s/it]\u001b[A"
     ]
    },
    {
     "name": "stdout",
     "output_type": "stream",
     "text": [
      "out_results:\n",
      "tensor(1.2980, grad_fn=<AddBackward0>)\n"
     ]
    },
    {
     "name": "stderr",
     "output_type": "stream",
     "text": [
      "\n",
      "Iteration:  54%|█████████████████████████████████████▍                               | 119/219 [19:30<16:05,  9.65s/it]\u001b[A"
     ]
    },
    {
     "name": "stdout",
     "output_type": "stream",
     "text": [
      "out_results:\n",
      "tensor(1.1341, grad_fn=<AddBackward0>)\n"
     ]
    },
    {
     "name": "stderr",
     "output_type": "stream",
     "text": [
      "\n",
      "Iteration:  55%|█████████████████████████████████████▊                               | 120/219 [19:40<16:06,  9.76s/it]\u001b[A"
     ]
    },
    {
     "name": "stdout",
     "output_type": "stream",
     "text": [
      "out_results:\n",
      "tensor(1.1943, grad_fn=<AddBackward0>)\n"
     ]
    },
    {
     "name": "stderr",
     "output_type": "stream",
     "text": [
      "\n",
      "Iteration:  55%|██████████████████████████████████████                               | 121/219 [19:50<16:11,  9.91s/it]\u001b[A"
     ]
    },
    {
     "name": "stdout",
     "output_type": "stream",
     "text": [
      "out_results:\n",
      "tensor(1.1992, grad_fn=<AddBackward0>)\n"
     ]
    },
    {
     "name": "stderr",
     "output_type": "stream",
     "text": [
      "\n",
      "Iteration:  56%|██████████████████████████████████████▍                              | 122/219 [20:02<16:56, 10.48s/it]\u001b[A"
     ]
    },
    {
     "name": "stdout",
     "output_type": "stream",
     "text": [
      "out_results:\n",
      "tensor(1.1429, grad_fn=<AddBackward0>)\n"
     ]
    },
    {
     "name": "stderr",
     "output_type": "stream",
     "text": [
      "\n",
      "Iteration:  56%|██████████████████████████████████████▊                              | 123/219 [20:13<16:50, 10.52s/it]\u001b[A"
     ]
    },
    {
     "name": "stdout",
     "output_type": "stream",
     "text": [
      "out_results:\n",
      "tensor(1.0037, grad_fn=<AddBackward0>)\n"
     ]
    },
    {
     "name": "stderr",
     "output_type": "stream",
     "text": [
      "\n",
      "Iteration:  57%|███████████████████████████████████████                              | 124/219 [20:22<16:14, 10.26s/it]\u001b[A"
     ]
    },
    {
     "name": "stdout",
     "output_type": "stream",
     "text": [
      "out_results:\n",
      "tensor(1.0745, grad_fn=<AddBackward0>)\n"
     ]
    },
    {
     "name": "stderr",
     "output_type": "stream",
     "text": [
      "\n",
      "Iteration:  57%|███████████████████████████████████████▍                             | 125/219 [20:32<15:47, 10.08s/it]\u001b[A"
     ]
    },
    {
     "name": "stdout",
     "output_type": "stream",
     "text": [
      "out_results:\n",
      "tensor(1.1030, grad_fn=<AddBackward0>)\n"
     ]
    },
    {
     "name": "stderr",
     "output_type": "stream",
     "text": [
      "\n",
      "Iteration:  58%|███████████████████████████████████████▋                             | 126/219 [20:42<15:26,  9.97s/it]\u001b[A"
     ]
    },
    {
     "name": "stdout",
     "output_type": "stream",
     "text": [
      "out_results:\n",
      "tensor(1.1404, grad_fn=<AddBackward0>)\n"
     ]
    },
    {
     "name": "stderr",
     "output_type": "stream",
     "text": [
      "\n",
      "Iteration:  58%|████████████████████████████████████████                             | 127/219 [20:51<15:07,  9.87s/it]\u001b[A"
     ]
    },
    {
     "name": "stdout",
     "output_type": "stream",
     "text": [
      "out_results:\n",
      "tensor(1.2630, grad_fn=<AddBackward0>)\n"
     ]
    },
    {
     "name": "stderr",
     "output_type": "stream",
     "text": [
      "\n",
      "Iteration:  58%|████████████████████████████████████████▎                            | 128/219 [21:01<15:07,  9.97s/it]\u001b[A"
     ]
    },
    {
     "name": "stdout",
     "output_type": "stream",
     "text": [
      "out_results:\n",
      "tensor(1.2663, grad_fn=<AddBackward0>)\n"
     ]
    },
    {
     "name": "stderr",
     "output_type": "stream",
     "text": [
      "\n",
      "Iteration:  59%|████████████████████████████████████████▋                            | 129/219 [21:12<15:06, 10.07s/it]\u001b[A"
     ]
    },
    {
     "name": "stdout",
     "output_type": "stream",
     "text": [
      "out_results:\n",
      "tensor(1.1893, grad_fn=<AddBackward0>)\n"
     ]
    },
    {
     "name": "stderr",
     "output_type": "stream",
     "text": [
      "\n",
      "Iteration:  59%|████████████████████████████████████████▉                            | 130/219 [21:22<15:00, 10.12s/it]\u001b[A"
     ]
    },
    {
     "name": "stdout",
     "output_type": "stream",
     "text": [
      "out_results:\n",
      "tensor(1.2743, grad_fn=<AddBackward0>)\n"
     ]
    },
    {
     "name": "stderr",
     "output_type": "stream",
     "text": [
      "\n",
      "Iteration:  60%|█████████████████████████████████████████▎                           | 131/219 [21:32<14:51, 10.13s/it]\u001b[A"
     ]
    },
    {
     "name": "stdout",
     "output_type": "stream",
     "text": [
      "out_results:\n",
      "tensor(1.1394, grad_fn=<AddBackward0>)\n"
     ]
    },
    {
     "name": "stderr",
     "output_type": "stream",
     "text": [
      "\n",
      "Iteration:  60%|█████████████████████████████████████████▌                           | 132/219 [21:42<14:42, 10.15s/it]\u001b[A"
     ]
    },
    {
     "name": "stdout",
     "output_type": "stream",
     "text": [
      "out_results:\n",
      "tensor(1.2297, grad_fn=<AddBackward0>)\n"
     ]
    },
    {
     "name": "stderr",
     "output_type": "stream",
     "text": [
      "\n",
      "Iteration:  61%|█████████████████████████████████████████▉                           | 133/219 [21:53<14:38, 10.22s/it]\u001b[A"
     ]
    },
    {
     "name": "stdout",
     "output_type": "stream",
     "text": [
      "out_results:\n",
      "tensor(1.1756, grad_fn=<AddBackward0>)\n"
     ]
    },
    {
     "name": "stderr",
     "output_type": "stream",
     "text": [
      "\n",
      "Iteration:  61%|██████████████████████████████████████████▏                          | 134/219 [22:03<14:21, 10.14s/it]\u001b[A"
     ]
    },
    {
     "name": "stdout",
     "output_type": "stream",
     "text": [
      "out_results:\n",
      "tensor(1.1811, grad_fn=<AddBackward0>)\n"
     ]
    },
    {
     "name": "stderr",
     "output_type": "stream",
     "text": [
      "\n",
      "Iteration:  62%|██████████████████████████████████████████▌                          | 135/219 [22:13<14:12, 10.15s/it]\u001b[A"
     ]
    },
    {
     "name": "stdout",
     "output_type": "stream",
     "text": [
      "out_results:\n",
      "tensor(1.1164, grad_fn=<AddBackward0>)\n"
     ]
    },
    {
     "name": "stderr",
     "output_type": "stream",
     "text": [
      "\n",
      "Iteration:  62%|██████████████████████████████████████████▊                          | 136/219 [22:23<14:05, 10.19s/it]\u001b[A"
     ]
    },
    {
     "name": "stdout",
     "output_type": "stream",
     "text": [
      "out_results:\n",
      "tensor(1.2354, grad_fn=<AddBackward0>)\n"
     ]
    },
    {
     "name": "stderr",
     "output_type": "stream",
     "text": [
      "\n",
      "Iteration:  63%|███████████████████████████████████████████▏                         | 137/219 [22:33<13:57, 10.21s/it]\u001b[A"
     ]
    },
    {
     "name": "stdout",
     "output_type": "stream",
     "text": [
      "out_results:\n",
      "tensor(1.3566, grad_fn=<AddBackward0>)\n"
     ]
    },
    {
     "name": "stderr",
     "output_type": "stream",
     "text": [
      "\n",
      "Iteration:  63%|███████████████████████████████████████████▍                         | 138/219 [22:44<13:48, 10.22s/it]\u001b[A"
     ]
    },
    {
     "name": "stdout",
     "output_type": "stream",
     "text": [
      "out_results:\n",
      "tensor(1.2059, grad_fn=<AddBackward0>)\n"
     ]
    },
    {
     "name": "stderr",
     "output_type": "stream",
     "text": [
      "\n",
      "Iteration:  63%|███████████████████████████████████████████▊                         | 139/219 [22:54<13:38, 10.23s/it]\u001b[A"
     ]
    },
    {
     "name": "stdout",
     "output_type": "stream",
     "text": [
      "out_results:\n",
      "tensor(1.1383, grad_fn=<AddBackward0>)\n"
     ]
    },
    {
     "name": "stderr",
     "output_type": "stream",
     "text": [
      "\n",
      "Iteration:  64%|████████████████████████████████████████████                         | 140/219 [23:04<13:30, 10.25s/it]\u001b[A"
     ]
    },
    {
     "name": "stdout",
     "output_type": "stream",
     "text": [
      "out_results:\n",
      "tensor(1.0532, grad_fn=<AddBackward0>)\n"
     ]
    },
    {
     "name": "stderr",
     "output_type": "stream",
     "text": [
      "\n",
      "Iteration:  64%|████████████████████████████████████████████▍                        | 141/219 [23:14<13:21, 10.28s/it]\u001b[A"
     ]
    },
    {
     "name": "stdout",
     "output_type": "stream",
     "text": [
      "out_results:\n",
      "tensor(1.1260, grad_fn=<AddBackward0>)\n"
     ]
    },
    {
     "name": "stderr",
     "output_type": "stream",
     "text": [
      "\n",
      "Iteration:  65%|████████████████████████████████████████████▋                        | 142/219 [23:25<13:06, 10.22s/it]\u001b[A"
     ]
    },
    {
     "name": "stdout",
     "output_type": "stream",
     "text": [
      "out_results:\n",
      "tensor(1.1699, grad_fn=<AddBackward0>)\n"
     ]
    },
    {
     "name": "stderr",
     "output_type": "stream",
     "text": [
      "\n",
      "Iteration:  65%|█████████████████████████████████████████████                        | 143/219 [23:35<12:58, 10.24s/it]\u001b[A"
     ]
    },
    {
     "name": "stdout",
     "output_type": "stream",
     "text": [
      "out_results:\n",
      "tensor(1.2863, grad_fn=<AddBackward0>)\n"
     ]
    },
    {
     "name": "stderr",
     "output_type": "stream",
     "text": [
      "\n",
      "Iteration:  66%|█████████████████████████████████████████████▎                       | 144/219 [23:45<12:52, 10.30s/it]\u001b[A"
     ]
    },
    {
     "name": "stdout",
     "output_type": "stream",
     "text": [
      "out_results:\n",
      "tensor(1.1685, grad_fn=<AddBackward0>)\n"
     ]
    },
    {
     "name": "stderr",
     "output_type": "stream",
     "text": [
      "\n",
      "Iteration:  66%|█████████████████████████████████████████████▋                       | 145/219 [23:55<12:38, 10.24s/it]\u001b[A"
     ]
    },
    {
     "name": "stdout",
     "output_type": "stream",
     "text": [
      "out_results:\n",
      "tensor(1.1479, grad_fn=<AddBackward0>)\n"
     ]
    },
    {
     "name": "stderr",
     "output_type": "stream",
     "text": [
      "\n",
      "Iteration:  67%|██████████████████████████████████████████████                       | 146/219 [24:06<12:27, 10.24s/it]\u001b[A"
     ]
    },
    {
     "name": "stdout",
     "output_type": "stream",
     "text": [
      "out_results:\n",
      "tensor(1.0854, grad_fn=<AddBackward0>)\n"
     ]
    },
    {
     "name": "stderr",
     "output_type": "stream",
     "text": [
      "\n",
      "Iteration:  67%|██████████████████████████████████████████████▎                      | 147/219 [24:16<12:16, 10.23s/it]\u001b[A"
     ]
    },
    {
     "name": "stdout",
     "output_type": "stream",
     "text": [
      "out_results:\n",
      "tensor(1.2527, grad_fn=<AddBackward0>)\n"
     ]
    },
    {
     "name": "stderr",
     "output_type": "stream",
     "text": [
      "\n",
      "Iteration:  68%|██████████████████████████████████████████████▋                      | 148/219 [24:26<12:08, 10.26s/it]\u001b[A"
     ]
    },
    {
     "name": "stdout",
     "output_type": "stream",
     "text": [
      "out_results:\n",
      "tensor(1.1416, grad_fn=<AddBackward0>)\n"
     ]
    },
    {
     "name": "stderr",
     "output_type": "stream",
     "text": [
      "\n",
      "Iteration:  68%|██████████████████████████████████████████████▉                      | 149/219 [24:36<11:58, 10.27s/it]\u001b[A"
     ]
    },
    {
     "name": "stdout",
     "output_type": "stream",
     "text": [
      "out_results:\n",
      "tensor(1.2222, grad_fn=<AddBackward0>)\n"
     ]
    },
    {
     "name": "stderr",
     "output_type": "stream",
     "text": [
      "\n",
      "Iteration:  68%|███████████████████████████████████████████████▎                     | 150/219 [24:47<11:50, 10.29s/it]\u001b[A"
     ]
    },
    {
     "name": "stdout",
     "output_type": "stream",
     "text": [
      "out_results:\n",
      "tensor(1.2517, grad_fn=<AddBackward0>)\n"
     ]
    },
    {
     "name": "stderr",
     "output_type": "stream",
     "text": [
      "\n",
      "Iteration:  69%|███████████████████████████████████████████████▌                     | 151/219 [24:57<11:40, 10.30s/it]\u001b[A"
     ]
    },
    {
     "name": "stdout",
     "output_type": "stream",
     "text": [
      "out_results:\n",
      "tensor(1.1680, grad_fn=<AddBackward0>)\n"
     ]
    },
    {
     "name": "stderr",
     "output_type": "stream",
     "text": [
      "\n",
      "Iteration:  69%|███████████████████████████████████████████████▉                     | 152/219 [25:07<11:30, 10.30s/it]\u001b[A"
     ]
    },
    {
     "name": "stdout",
     "output_type": "stream",
     "text": [
      "out_results:\n",
      "tensor(1.2387, grad_fn=<AddBackward0>)\n"
     ]
    },
    {
     "name": "stderr",
     "output_type": "stream",
     "text": [
      "\n",
      "Iteration:  70%|████████████████████████████████████████████████▏                    | 153/219 [25:18<11:16, 10.26s/it]\u001b[A"
     ]
    },
    {
     "name": "stdout",
     "output_type": "stream",
     "text": [
      "out_results:\n",
      "tensor(1.2492, grad_fn=<AddBackward0>)\n"
     ]
    },
    {
     "name": "stderr",
     "output_type": "stream",
     "text": [
      "\n",
      "Iteration:  70%|████████████████████████████████████████████████▌                    | 154/219 [25:28<11:06, 10.25s/it]\u001b[A"
     ]
    },
    {
     "name": "stdout",
     "output_type": "stream",
     "text": [
      "out_results:\n",
      "tensor(1.2475, grad_fn=<AddBackward0>)\n"
     ]
    },
    {
     "name": "stderr",
     "output_type": "stream",
     "text": [
      "\n",
      "Iteration:  71%|████████████████████████████████████████████████▊                    | 155/219 [25:38<10:57, 10.27s/it]\u001b[A"
     ]
    },
    {
     "name": "stdout",
     "output_type": "stream",
     "text": [
      "out_results:\n",
      "tensor(1.2207, grad_fn=<AddBackward0>)\n"
     ]
    },
    {
     "name": "stderr",
     "output_type": "stream",
     "text": [
      "\n",
      "Iteration:  71%|█████████████████████████████████████████████████▏                   | 156/219 [25:48<10:47, 10.28s/it]\u001b[A"
     ]
    },
    {
     "name": "stdout",
     "output_type": "stream",
     "text": [
      "out_results:\n",
      "tensor(1.0709, grad_fn=<AddBackward0>)\n"
     ]
    },
    {
     "name": "stderr",
     "output_type": "stream",
     "text": [
      "\n",
      "Iteration:  72%|█████████████████████████████████████████████████▍                   | 157/219 [25:59<10:39, 10.32s/it]\u001b[A"
     ]
    },
    {
     "name": "stdout",
     "output_type": "stream",
     "text": [
      "out_results:\n",
      "tensor(1.1953, grad_fn=<AddBackward0>)\n"
     ]
    },
    {
     "name": "stderr",
     "output_type": "stream",
     "text": [
      "\n",
      "Iteration:  72%|█████████████████████████████████████████████████▊                   | 158/219 [26:09<10:29, 10.32s/it]\u001b[A"
     ]
    },
    {
     "name": "stdout",
     "output_type": "stream",
     "text": [
      "out_results:\n",
      "tensor(1.2237, grad_fn=<AddBackward0>)\n"
     ]
    },
    {
     "name": "stderr",
     "output_type": "stream",
     "text": [
      "\n",
      "Iteration:  73%|██████████████████████████████████████████████████                   | 159/219 [26:19<10:19, 10.32s/it]\u001b[A"
     ]
    },
    {
     "name": "stdout",
     "output_type": "stream",
     "text": [
      "out_results:\n",
      "tensor(1.2507, grad_fn=<AddBackward0>)\n"
     ]
    },
    {
     "name": "stderr",
     "output_type": "stream",
     "text": [
      "\n",
      "Iteration:  73%|██████████████████████████████████████████████████▍                  | 160/219 [26:30<10:08, 10.31s/it]\u001b[A"
     ]
    },
    {
     "name": "stdout",
     "output_type": "stream",
     "text": [
      "out_results:\n",
      "tensor(1.1865, grad_fn=<AddBackward0>)\n"
     ]
    },
    {
     "name": "stderr",
     "output_type": "stream",
     "text": [
      "\n",
      "Iteration:  74%|██████████████████████████████████████████████████▋                  | 161/219 [26:40<09:55, 10.27s/it]\u001b[A"
     ]
    },
    {
     "name": "stdout",
     "output_type": "stream",
     "text": [
      "out_results:\n",
      "tensor(1.1433, grad_fn=<AddBackward0>)\n"
     ]
    },
    {
     "name": "stderr",
     "output_type": "stream",
     "text": [
      "\n",
      "Iteration:  74%|███████████████████████████████████████████████████                  | 162/219 [26:50<09:43, 10.23s/it]\u001b[A"
     ]
    },
    {
     "name": "stdout",
     "output_type": "stream",
     "text": [
      "out_results:\n",
      "tensor(1.2160, grad_fn=<AddBackward0>)\n"
     ]
    },
    {
     "name": "stderr",
     "output_type": "stream",
     "text": [
      "\n",
      "Iteration:  74%|███████████████████████████████████████████████████▎                 | 163/219 [27:00<09:34, 10.25s/it]\u001b[A"
     ]
    },
    {
     "name": "stdout",
     "output_type": "stream",
     "text": [
      "out_results:\n",
      "tensor(1.2067, grad_fn=<AddBackward0>)\n"
     ]
    },
    {
     "name": "stderr",
     "output_type": "stream",
     "text": [
      "\n",
      "Iteration:  75%|███████████████████████████████████████████████████▋                 | 164/219 [27:11<09:27, 10.32s/it]\u001b[A"
     ]
    },
    {
     "name": "stdout",
     "output_type": "stream",
     "text": [
      "out_results:\n",
      "tensor(1.2014, grad_fn=<AddBackward0>)\n"
     ]
    },
    {
     "name": "stderr",
     "output_type": "stream",
     "text": [
      "\n",
      "Iteration:  75%|███████████████████████████████████████████████████▉                 | 165/219 [27:21<09:17, 10.33s/it]\u001b[A"
     ]
    },
    {
     "name": "stdout",
     "output_type": "stream",
     "text": [
      "out_results:\n",
      "tensor(1.2142, grad_fn=<AddBackward0>)\n"
     ]
    },
    {
     "name": "stderr",
     "output_type": "stream",
     "text": [
      "\n",
      "Iteration:  76%|████████████████████████████████████████████████████▎                | 166/219 [27:32<09:07, 10.33s/it]\u001b[A"
     ]
    },
    {
     "name": "stdout",
     "output_type": "stream",
     "text": [
      "out_results:\n",
      "tensor(1.2085, grad_fn=<AddBackward0>)\n"
     ]
    },
    {
     "name": "stderr",
     "output_type": "stream",
     "text": [
      "\n",
      "Iteration:  76%|████████████████████████████████████████████████████▌                | 167/219 [27:42<08:57, 10.33s/it]\u001b[A"
     ]
    },
    {
     "name": "stdout",
     "output_type": "stream",
     "text": [
      "out_results:\n",
      "tensor(1.2331, grad_fn=<AddBackward0>)\n"
     ]
    },
    {
     "name": "stderr",
     "output_type": "stream",
     "text": [
      "\n",
      "Iteration:  77%|████████████████████████████████████████████████████▉                | 168/219 [27:52<08:47, 10.34s/it]\u001b[A"
     ]
    },
    {
     "name": "stdout",
     "output_type": "stream",
     "text": [
      "out_results:\n",
      "tensor(1.1598, grad_fn=<AddBackward0>)\n"
     ]
    },
    {
     "name": "stderr",
     "output_type": "stream",
     "text": [
      "\n",
      "Iteration:  77%|█████████████████████████████████████████████████████▏               | 169/219 [28:03<08:38, 10.36s/it]\u001b[A"
     ]
    },
    {
     "name": "stdout",
     "output_type": "stream",
     "text": [
      "out_results:\n",
      "tensor(1.1944, grad_fn=<AddBackward0>)\n"
     ]
    },
    {
     "name": "stderr",
     "output_type": "stream",
     "text": [
      "\n",
      "Iteration:  78%|█████████████████████████████████████████████████████▌               | 170/219 [28:13<08:30, 10.42s/it]\u001b[A"
     ]
    },
    {
     "name": "stdout",
     "output_type": "stream",
     "text": [
      "out_results:\n",
      "tensor(1.1726, grad_fn=<AddBackward0>)\n"
     ]
    },
    {
     "name": "stderr",
     "output_type": "stream",
     "text": [
      "\n",
      "Iteration:  78%|█████████████████████████████████████████████████████▉               | 171/219 [28:23<08:16, 10.34s/it]\u001b[A"
     ]
    },
    {
     "name": "stdout",
     "output_type": "stream",
     "text": [
      "out_results:\n",
      "tensor(1.3508, grad_fn=<AddBackward0>)\n"
     ]
    },
    {
     "name": "stderr",
     "output_type": "stream",
     "text": [
      "\n",
      "Iteration:  79%|██████████████████████████████████████████████████████▏              | 172/219 [28:33<08:02, 10.26s/it]\u001b[A"
     ]
    },
    {
     "name": "stdout",
     "output_type": "stream",
     "text": [
      "out_results:\n",
      "tensor(1.3329, grad_fn=<AddBackward0>)\n"
     ]
    },
    {
     "name": "stderr",
     "output_type": "stream",
     "text": [
      "\n",
      "Iteration:  79%|██████████████████████████████████████████████████████▌              | 173/219 [28:44<07:53, 10.29s/it]\u001b[A"
     ]
    },
    {
     "name": "stdout",
     "output_type": "stream",
     "text": [
      "out_results:\n",
      "tensor(1.2549, grad_fn=<AddBackward0>)\n"
     ]
    },
    {
     "name": "stderr",
     "output_type": "stream",
     "text": [
      "\n",
      "Iteration:  79%|██████████████████████████████████████████████████████▊              | 174/219 [28:54<07:40, 10.22s/it]\u001b[A"
     ]
    },
    {
     "name": "stdout",
     "output_type": "stream",
     "text": [
      "out_results:\n",
      "tensor(1.1960, grad_fn=<AddBackward0>)\n"
     ]
    },
    {
     "name": "stderr",
     "output_type": "stream",
     "text": [
      "\n",
      "Iteration:  80%|███████████████████████████████████████████████████████▏             | 175/219 [29:04<07:31, 10.26s/it]\u001b[A"
     ]
    },
    {
     "name": "stdout",
     "output_type": "stream",
     "text": [
      "out_results:\n",
      "tensor(1.0328, grad_fn=<AddBackward0>)\n"
     ]
    },
    {
     "name": "stderr",
     "output_type": "stream",
     "text": [
      "\n",
      "Iteration:  80%|███████████████████████████████████████████████████████▍             | 176/219 [29:14<07:21, 10.27s/it]\u001b[A"
     ]
    },
    {
     "name": "stdout",
     "output_type": "stream",
     "text": [
      "out_results:\n",
      "tensor(1.2403, grad_fn=<AddBackward0>)\n"
     ]
    },
    {
     "name": "stderr",
     "output_type": "stream",
     "text": [
      "\n",
      "Iteration:  81%|███████████████████████████████████████████████████████▊             | 177/219 [29:25<07:11, 10.26s/it]\u001b[A"
     ]
    },
    {
     "name": "stdout",
     "output_type": "stream",
     "text": [
      "out_results:\n",
      "tensor(1.0319, grad_fn=<AddBackward0>)\n"
     ]
    },
    {
     "name": "stderr",
     "output_type": "stream",
     "text": [
      "\n",
      "Iteration:  81%|████████████████████████████████████████████████████████             | 178/219 [29:35<07:00, 10.27s/it]\u001b[A"
     ]
    },
    {
     "name": "stdout",
     "output_type": "stream",
     "text": [
      "out_results:\n",
      "tensor(1.1215, grad_fn=<AddBackward0>)\n"
     ]
    },
    {
     "name": "stderr",
     "output_type": "stream",
     "text": [
      "\n",
      "Iteration:  82%|████████████████████████████████████████████████████████▍            | 179/219 [29:45<06:50, 10.27s/it]\u001b[A"
     ]
    },
    {
     "name": "stdout",
     "output_type": "stream",
     "text": [
      "out_results:\n",
      "tensor(1.1612, grad_fn=<AddBackward0>)\n"
     ]
    },
    {
     "name": "stderr",
     "output_type": "stream",
     "text": [
      "\n",
      "Iteration:  82%|████████████████████████████████████████████████████████▋            | 180/219 [29:56<06:41, 10.30s/it]\u001b[A"
     ]
    },
    {
     "name": "stdout",
     "output_type": "stream",
     "text": [
      "out_results:\n",
      "tensor(1.3168, grad_fn=<AddBackward0>)\n"
     ]
    },
    {
     "name": "stderr",
     "output_type": "stream",
     "text": [
      "\n",
      "Iteration:  83%|█████████████████████████████████████████████████████████            | 181/219 [30:06<06:31, 10.30s/it]\u001b[A"
     ]
    },
    {
     "name": "stdout",
     "output_type": "stream",
     "text": [
      "out_results:\n",
      "tensor(1.1722, grad_fn=<AddBackward0>)\n"
     ]
    },
    {
     "name": "stderr",
     "output_type": "stream",
     "text": [
      "\n",
      "Iteration:  83%|█████████████████████████████████████████████████████████▎           | 182/219 [30:16<06:21, 10.32s/it]\u001b[A"
     ]
    },
    {
     "name": "stdout",
     "output_type": "stream",
     "text": [
      "out_results:\n",
      "tensor(1.1238, grad_fn=<AddBackward0>)\n"
     ]
    },
    {
     "name": "stderr",
     "output_type": "stream",
     "text": [
      "\n",
      "Iteration:  84%|█████████████████████████████████████████████████████████▋           | 183/219 [30:27<06:11, 10.31s/it]\u001b[A"
     ]
    },
    {
     "name": "stdout",
     "output_type": "stream",
     "text": [
      "out_results:\n",
      "tensor(1.1227, grad_fn=<AddBackward0>)\n"
     ]
    },
    {
     "name": "stderr",
     "output_type": "stream",
     "text": [
      "\n",
      "Iteration:  84%|█████████████████████████████████████████████████████████▉           | 184/219 [30:37<06:00, 10.30s/it]\u001b[A"
     ]
    },
    {
     "name": "stdout",
     "output_type": "stream",
     "text": [
      "out_results:\n",
      "tensor(1.1913, grad_fn=<AddBackward0>)\n"
     ]
    },
    {
     "name": "stderr",
     "output_type": "stream",
     "text": [
      "\n",
      "Iteration:  84%|██████████████████████████████████████████████████████████▎          | 185/219 [30:47<05:49, 10.28s/it]\u001b[A"
     ]
    },
    {
     "name": "stdout",
     "output_type": "stream",
     "text": [
      "out_results:\n",
      "tensor(1.2939, grad_fn=<AddBackward0>)\n"
     ]
    },
    {
     "name": "stderr",
     "output_type": "stream",
     "text": [
      "\n",
      "Iteration:  85%|██████████████████████████████████████████████████████████▌          | 186/219 [30:57<05:39, 10.27s/it]\u001b[A"
     ]
    },
    {
     "name": "stdout",
     "output_type": "stream",
     "text": [
      "out_results:\n",
      "tensor(1.1787, grad_fn=<AddBackward0>)\n"
     ]
    },
    {
     "name": "stderr",
     "output_type": "stream",
     "text": [
      "\n",
      "Iteration:  85%|██████████████████████████████████████████████████████████▉          | 187/219 [31:08<05:30, 10.32s/it]\u001b[A"
     ]
    },
    {
     "name": "stdout",
     "output_type": "stream",
     "text": [
      "out_results:\n",
      "tensor(1.2264, grad_fn=<AddBackward0>)\n"
     ]
    },
    {
     "name": "stderr",
     "output_type": "stream",
     "text": [
      "\n",
      "Iteration:  86%|███████████████████████████████████████████████████████████▏         | 188/219 [31:18<05:19, 10.31s/it]\u001b[A"
     ]
    },
    {
     "name": "stdout",
     "output_type": "stream",
     "text": [
      "out_results:\n",
      "tensor(1.2724, grad_fn=<AddBackward0>)\n"
     ]
    },
    {
     "name": "stderr",
     "output_type": "stream",
     "text": [
      "\n",
      "Iteration:  86%|███████████████████████████████████████████████████████████▌         | 189/219 [31:28<05:09, 10.30s/it]\u001b[A"
     ]
    },
    {
     "name": "stdout",
     "output_type": "stream",
     "text": [
      "out_results:\n",
      "tensor(1.2159, grad_fn=<AddBackward0>)\n"
     ]
    },
    {
     "name": "stderr",
     "output_type": "stream",
     "text": [
      "\n",
      "Iteration:  87%|███████████████████████████████████████████████████████████▊         | 190/219 [31:39<04:58, 10.30s/it]\u001b[A"
     ]
    },
    {
     "name": "stdout",
     "output_type": "stream",
     "text": [
      "out_results:\n",
      "tensor(1.2124, grad_fn=<AddBackward0>)\n"
     ]
    },
    {
     "name": "stderr",
     "output_type": "stream",
     "text": [
      "\n",
      "Iteration:  87%|████████████████████████████████████████████████████████████▏        | 191/219 [31:49<04:47, 10.29s/it]\u001b[A"
     ]
    },
    {
     "name": "stdout",
     "output_type": "stream",
     "text": [
      "out_results:\n",
      "tensor(1.2078, grad_fn=<AddBackward0>)\n"
     ]
    },
    {
     "name": "stderr",
     "output_type": "stream",
     "text": [
      "\n",
      "Iteration:  88%|████████████████████████████████████████████████████████████▍        | 192/219 [31:59<04:36, 10.24s/it]\u001b[A"
     ]
    },
    {
     "name": "stdout",
     "output_type": "stream",
     "text": [
      "out_results:\n",
      "tensor(1.1225, grad_fn=<AddBackward0>)\n"
     ]
    },
    {
     "name": "stderr",
     "output_type": "stream",
     "text": [
      "\n",
      "Iteration:  88%|████████████████████████████████████████████████████████████▊        | 193/219 [32:09<04:22, 10.08s/it]\u001b[A"
     ]
    },
    {
     "name": "stdout",
     "output_type": "stream",
     "text": [
      "out_results:\n",
      "tensor(1.1003, grad_fn=<AddBackward0>)\n"
     ]
    },
    {
     "name": "stderr",
     "output_type": "stream",
     "text": [
      "\n",
      "Iteration:  89%|█████████████████████████████████████████████████████████████        | 194/219 [32:18<04:09,  9.96s/it]\u001b[A"
     ]
    },
    {
     "name": "stdout",
     "output_type": "stream",
     "text": [
      "out_results:\n",
      "tensor(1.1708, grad_fn=<AddBackward0>)\n"
     ]
    },
    {
     "name": "stderr",
     "output_type": "stream",
     "text": [
      "\n",
      "Iteration:  89%|█████████████████████████████████████████████████████████████▍       | 195/219 [32:28<03:57,  9.88s/it]\u001b[A"
     ]
    },
    {
     "name": "stdout",
     "output_type": "stream",
     "text": [
      "out_results:\n",
      "tensor(1.0942, grad_fn=<AddBackward0>)\n"
     ]
    },
    {
     "name": "stderr",
     "output_type": "stream",
     "text": [
      "\n",
      "Iteration:  89%|█████████████████████████████████████████████████████████████▊       | 196/219 [32:38<03:45,  9.81s/it]\u001b[A"
     ]
    },
    {
     "name": "stdout",
     "output_type": "stream",
     "text": [
      "out_results:\n",
      "tensor(1.1083, grad_fn=<AddBackward0>)\n"
     ]
    },
    {
     "name": "stderr",
     "output_type": "stream",
     "text": [
      "\n",
      "Iteration:  90%|██████████████████████████████████████████████████████████████       | 197/219 [32:48<03:35,  9.79s/it]\u001b[A"
     ]
    },
    {
     "name": "stdout",
     "output_type": "stream",
     "text": [
      "out_results:\n",
      "tensor(1.2162, grad_fn=<AddBackward0>)\n"
     ]
    },
    {
     "name": "stderr",
     "output_type": "stream",
     "text": [
      "\n",
      "Iteration:  90%|██████████████████████████████████████████████████████████████▍      | 198/219 [32:58<03:27,  9.86s/it]\u001b[A"
     ]
    },
    {
     "name": "stdout",
     "output_type": "stream",
     "text": [
      "out_results:\n",
      "tensor(1.2291, grad_fn=<AddBackward0>)\n"
     ]
    },
    {
     "name": "stderr",
     "output_type": "stream",
     "text": [
      "\n",
      "Iteration:  91%|██████████████████████████████████████████████████████████████▋      | 199/219 [33:08<03:19, 10.00s/it]\u001b[A"
     ]
    },
    {
     "name": "stdout",
     "output_type": "stream",
     "text": [
      "out_results:\n",
      "tensor(1.0934, grad_fn=<AddBackward0>)\n"
     ]
    },
    {
     "name": "stderr",
     "output_type": "stream",
     "text": [
      "\n",
      "Iteration:  91%|███████████████████████████████████████████████████████████████      | 200/219 [33:18<03:11, 10.09s/it]\u001b[A"
     ]
    },
    {
     "name": "stdout",
     "output_type": "stream",
     "text": [
      "out_results:\n",
      "tensor(1.3021, grad_fn=<AddBackward0>)\n"
     ]
    },
    {
     "name": "stderr",
     "output_type": "stream",
     "text": [
      "\n",
      "Iteration:  92%|███████████████████████████████████████████████████████████████▎     | 201/219 [33:28<03:02, 10.12s/it]\u001b[A"
     ]
    },
    {
     "name": "stdout",
     "output_type": "stream",
     "text": [
      "out_results:\n",
      "tensor(1.1416, grad_fn=<AddBackward0>)\n"
     ]
    },
    {
     "name": "stderr",
     "output_type": "stream",
     "text": [
      "\n",
      "Iteration:  92%|███████████████████████████████████████████████████████████████▋     | 202/219 [33:39<02:52, 10.13s/it]\u001b[A"
     ]
    },
    {
     "name": "stdout",
     "output_type": "stream",
     "text": [
      "out_results:\n",
      "tensor(1.2528, grad_fn=<AddBackward0>)\n"
     ]
    },
    {
     "name": "stderr",
     "output_type": "stream",
     "text": [
      "\n",
      "Iteration:  93%|███████████████████████████████████████████████████████████████▉     | 203/219 [33:49<02:44, 10.28s/it]\u001b[A"
     ]
    },
    {
     "name": "stdout",
     "output_type": "stream",
     "text": [
      "out_results:\n",
      "tensor(1.0045, grad_fn=<AddBackward0>)\n"
     ]
    },
    {
     "name": "stderr",
     "output_type": "stream",
     "text": [
      "\n",
      "Iteration:  93%|████████████████████████████████████████████████████████████████▎    | 204/219 [34:00<02:35, 10.37s/it]\u001b[A"
     ]
    },
    {
     "name": "stdout",
     "output_type": "stream",
     "text": [
      "out_results:\n",
      "tensor(1.2083, grad_fn=<AddBackward0>)\n"
     ]
    },
    {
     "name": "stderr",
     "output_type": "stream",
     "text": [
      "\n",
      "Iteration:  94%|████████████████████████████████████████████████████████████████▌    | 205/219 [34:10<02:25, 10.39s/it]\u001b[A"
     ]
    },
    {
     "name": "stdout",
     "output_type": "stream",
     "text": [
      "out_results:\n",
      "tensor(1.0806, grad_fn=<AddBackward0>)\n"
     ]
    },
    {
     "name": "stderr",
     "output_type": "stream",
     "text": [
      "\n",
      "Iteration:  94%|████████████████████████████████████████████████████████████████▉    | 206/219 [34:21<02:16, 10.50s/it]\u001b[A"
     ]
    },
    {
     "name": "stdout",
     "output_type": "stream",
     "text": [
      "out_results:\n",
      "tensor(1.1101, grad_fn=<AddBackward0>)\n"
     ]
    },
    {
     "name": "stderr",
     "output_type": "stream",
     "text": [
      "\n",
      "Iteration:  95%|█████████████████████████████████████████████████████████████████▏   | 207/219 [34:32<02:06, 10.57s/it]\u001b[A"
     ]
    },
    {
     "name": "stdout",
     "output_type": "stream",
     "text": [
      "out_results:\n",
      "tensor(1.1954, grad_fn=<AddBackward0>)\n"
     ]
    },
    {
     "name": "stderr",
     "output_type": "stream",
     "text": [
      "\n",
      "Iteration:  95%|█████████████████████████████████████████████████████████████████▌   | 208/219 [34:42<01:56, 10.61s/it]\u001b[A"
     ]
    },
    {
     "name": "stdout",
     "output_type": "stream",
     "text": [
      "out_results:\n",
      "tensor(1.2314, grad_fn=<AddBackward0>)\n"
     ]
    },
    {
     "name": "stderr",
     "output_type": "stream",
     "text": [
      "\n",
      "Iteration:  95%|█████████████████████████████████████████████████████████████████▊   | 209/219 [34:53<01:45, 10.58s/it]\u001b[A"
     ]
    },
    {
     "name": "stdout",
     "output_type": "stream",
     "text": [
      "out_results:\n",
      "tensor(1.2075, grad_fn=<AddBackward0>)\n"
     ]
    },
    {
     "name": "stderr",
     "output_type": "stream",
     "text": [
      "\n",
      "Iteration:  96%|██████████████████████████████████████████████████████████████████▏  | 210/219 [35:03<01:35, 10.57s/it]\u001b[A"
     ]
    },
    {
     "name": "stdout",
     "output_type": "stream",
     "text": [
      "out_results:\n",
      "tensor(1.2173, grad_fn=<AddBackward0>)\n"
     ]
    },
    {
     "name": "stderr",
     "output_type": "stream",
     "text": [
      "\n",
      "Iteration:  96%|██████████████████████████████████████████████████████████████████▍  | 211/219 [35:14<01:23, 10.47s/it]\u001b[A"
     ]
    },
    {
     "name": "stdout",
     "output_type": "stream",
     "text": [
      "out_results:\n",
      "tensor(1.2316, grad_fn=<AddBackward0>)\n"
     ]
    },
    {
     "name": "stderr",
     "output_type": "stream",
     "text": [
      "\n",
      "Iteration:  97%|██████████████████████████████████████████████████████████████████▊  | 212/219 [35:24<01:13, 10.43s/it]\u001b[A"
     ]
    },
    {
     "name": "stdout",
     "output_type": "stream",
     "text": [
      "out_results:\n",
      "tensor(1.2583, grad_fn=<AddBackward0>)\n"
     ]
    },
    {
     "name": "stderr",
     "output_type": "stream",
     "text": [
      "\n",
      "Iteration:  97%|███████████████████████████████████████████████████████████████████  | 213/219 [35:34<01:02, 10.43s/it]\u001b[A"
     ]
    },
    {
     "name": "stdout",
     "output_type": "stream",
     "text": [
      "out_results:\n",
      "tensor(1.1203, grad_fn=<AddBackward0>)\n"
     ]
    },
    {
     "name": "stderr",
     "output_type": "stream",
     "text": [
      "\n",
      "Iteration:  98%|███████████████████████████████████████████████████████████████████▍ | 214/219 [35:45<00:51, 10.39s/it]\u001b[A"
     ]
    },
    {
     "name": "stdout",
     "output_type": "stream",
     "text": [
      "out_results:\n",
      "tensor(1.1416, grad_fn=<AddBackward0>)\n"
     ]
    },
    {
     "name": "stderr",
     "output_type": "stream",
     "text": [
      "\n",
      "Iteration:  98%|███████████████████████████████████████████████████████████████████▋ | 215/219 [35:55<00:41, 10.36s/it]\u001b[A"
     ]
    },
    {
     "name": "stdout",
     "output_type": "stream",
     "text": [
      "out_results:\n",
      "tensor(1.1596, grad_fn=<AddBackward0>)\n"
     ]
    },
    {
     "name": "stderr",
     "output_type": "stream",
     "text": [
      "\n",
      "Iteration:  99%|████████████████████████████████████████████████████████████████████ | 216/219 [36:05<00:30, 10.29s/it]\u001b[A"
     ]
    },
    {
     "name": "stdout",
     "output_type": "stream",
     "text": [
      "out_results:\n",
      "tensor(1.2260, grad_fn=<AddBackward0>)\n"
     ]
    },
    {
     "name": "stderr",
     "output_type": "stream",
     "text": [
      "\n",
      "Iteration:  99%|████████████████████████████████████████████████████████████████████▎| 217/219 [36:15<00:20, 10.21s/it]\u001b[A"
     ]
    },
    {
     "name": "stdout",
     "output_type": "stream",
     "text": [
      "out_results:\n",
      "tensor(1.1040, grad_fn=<AddBackward0>)\n"
     ]
    },
    {
     "name": "stderr",
     "output_type": "stream",
     "text": [
      "\n",
      "Iteration: 100%|████████████████████████████████████████████████████████████████████▋| 218/219 [36:25<00:10, 10.17s/it]\u001b[A"
     ]
    },
    {
     "name": "stdout",
     "output_type": "stream",
     "text": [
      "out_results:\n",
      "tensor(1.1428, grad_fn=<AddBackward0>)\n"
     ]
    },
    {
     "name": "stderr",
     "output_type": "stream",
     "text": [
      "\n",
      "Iteration: 100%|█████████████████████████████████████████████████████████████████████| 219/219 [36:35<00:00, 10.03s/it]\u001b[A\n",
      "Epoch:  67%|████████████████████████████████████████████████▋                        | 2/3 [1:13:13<36:37, 2197.21s/it]\n",
      "Iteration:   0%|                                                                               | 0/219 [00:00<?, ?it/s]\u001b[A"
     ]
    },
    {
     "name": "stdout",
     "output_type": "stream",
     "text": [
      "out_results:\n",
      "tensor(1.1988, grad_fn=<AddBackward0>)\n"
     ]
    },
    {
     "name": "stderr",
     "output_type": "stream",
     "text": [
      "\n",
      "Iteration:   0%|▎                                                                      | 1/219 [00:10<37:30, 10.32s/it]\u001b[A"
     ]
    },
    {
     "name": "stdout",
     "output_type": "stream",
     "text": [
      "out_results:\n",
      "tensor(1.1972, grad_fn=<AddBackward0>)\n"
     ]
    },
    {
     "name": "stderr",
     "output_type": "stream",
     "text": [
      "\n",
      "Iteration:   1%|▋                                                                      | 2/219 [00:20<37:20, 10.32s/it]\u001b[A"
     ]
    },
    {
     "name": "stdout",
     "output_type": "stream",
     "text": [
      "out_results:\n",
      "tensor(1.0505, grad_fn=<AddBackward0>)\n"
     ]
    },
    {
     "name": "stderr",
     "output_type": "stream",
     "text": [
      "\n",
      "Iteration:   1%|▉                                                                      | 3/219 [00:30<37:10, 10.33s/it]\u001b[A"
     ]
    },
    {
     "name": "stdout",
     "output_type": "stream",
     "text": [
      "out_results:\n",
      "tensor(1.0259, grad_fn=<AddBackward0>)\n"
     ]
    },
    {
     "name": "stderr",
     "output_type": "stream",
     "text": [
      "\n",
      "Iteration:   2%|█▎                                                                     | 4/219 [00:41<36:57, 10.32s/it]\u001b[A"
     ]
    },
    {
     "name": "stdout",
     "output_type": "stream",
     "text": [
      "out_results:\n",
      "tensor(1.0895, grad_fn=<AddBackward0>)\n"
     ]
    },
    {
     "name": "stderr",
     "output_type": "stream",
     "text": [
      "\n",
      "Iteration:   2%|█▌                                                                     | 5/219 [00:51<36:43, 10.30s/it]\u001b[A"
     ]
    },
    {
     "name": "stdout",
     "output_type": "stream",
     "text": [
      "out_results:\n",
      "tensor(1.2343, grad_fn=<AddBackward0>)\n"
     ]
    },
    {
     "name": "stderr",
     "output_type": "stream",
     "text": [
      "\n",
      "Iteration:   3%|█▉                                                                     | 6/219 [01:01<36:25, 10.26s/it]\u001b[A"
     ]
    },
    {
     "name": "stdout",
     "output_type": "stream",
     "text": [
      "out_results:\n",
      "tensor(1.2873, grad_fn=<AddBackward0>)\n"
     ]
    },
    {
     "name": "stderr",
     "output_type": "stream",
     "text": [
      "\n",
      "Iteration:   3%|██▎                                                                    | 7/219 [01:11<36:07, 10.22s/it]\u001b[A"
     ]
    },
    {
     "name": "stdout",
     "output_type": "stream",
     "text": [
      "out_results:\n",
      "tensor(1.2861, grad_fn=<AddBackward0>)\n"
     ]
    },
    {
     "name": "stderr",
     "output_type": "stream",
     "text": [
      "\n",
      "Iteration:   4%|██▌                                                                    | 8/219 [01:22<36:01, 10.24s/it]\u001b[A"
     ]
    },
    {
     "name": "stdout",
     "output_type": "stream",
     "text": [
      "out_results:\n",
      "tensor(1.2415, grad_fn=<AddBackward0>)\n"
     ]
    },
    {
     "name": "stderr",
     "output_type": "stream",
     "text": [
      "\n",
      "Iteration:   4%|██▉                                                                    | 9/219 [01:32<35:53, 10.25s/it]\u001b[A"
     ]
    },
    {
     "name": "stdout",
     "output_type": "stream",
     "text": [
      "out_results:\n",
      "tensor(1.1502, grad_fn=<AddBackward0>)\n"
     ]
    },
    {
     "name": "stderr",
     "output_type": "stream",
     "text": [
      "\n",
      "Iteration:   5%|███▏                                                                  | 10/219 [01:42<35:47, 10.28s/it]\u001b[A"
     ]
    },
    {
     "name": "stdout",
     "output_type": "stream",
     "text": [
      "out_results:\n",
      "tensor(1.1910, grad_fn=<AddBackward0>)\n"
     ]
    },
    {
     "name": "stderr",
     "output_type": "stream",
     "text": [
      "\n",
      "Iteration:   5%|███▌                                                                  | 11/219 [01:53<35:36, 10.27s/it]\u001b[A"
     ]
    },
    {
     "name": "stdout",
     "output_type": "stream",
     "text": [
      "out_results:\n",
      "tensor(1.1622, grad_fn=<AddBackward0>)\n"
     ]
    },
    {
     "name": "stderr",
     "output_type": "stream",
     "text": [
      "\n",
      "Iteration:   5%|███▊                                                                  | 12/219 [02:03<35:34, 10.31s/it]\u001b[A"
     ]
    },
    {
     "name": "stdout",
     "output_type": "stream",
     "text": [
      "out_results:\n",
      "tensor(1.2072, grad_fn=<AddBackward0>)\n"
     ]
    },
    {
     "name": "stderr",
     "output_type": "stream",
     "text": [
      "\n",
      "Iteration:   6%|████▏                                                                 | 13/219 [02:13<35:26, 10.32s/it]\u001b[A"
     ]
    },
    {
     "name": "stdout",
     "output_type": "stream",
     "text": [
      "out_results:\n",
      "tensor(1.2789, grad_fn=<AddBackward0>)\n"
     ]
    },
    {
     "name": "stderr",
     "output_type": "stream",
     "text": [
      "\n",
      "Iteration:   6%|████▍                                                                 | 14/219 [02:24<35:13, 10.31s/it]\u001b[A"
     ]
    },
    {
     "name": "stdout",
     "output_type": "stream",
     "text": [
      "out_results:\n",
      "tensor(1.1563, grad_fn=<AddBackward0>)\n"
     ]
    },
    {
     "name": "stderr",
     "output_type": "stream",
     "text": [
      "\n",
      "Iteration:   7%|████▊                                                                 | 15/219 [02:34<34:51, 10.25s/it]\u001b[A"
     ]
    },
    {
     "name": "stdout",
     "output_type": "stream",
     "text": [
      "out_results:\n",
      "tensor(1.3633, grad_fn=<AddBackward0>)\n"
     ]
    },
    {
     "name": "stderr",
     "output_type": "stream",
     "text": [
      "\n",
      "Iteration:   7%|█████                                                                 | 16/219 [02:44<34:37, 10.24s/it]\u001b[A"
     ]
    },
    {
     "name": "stdout",
     "output_type": "stream",
     "text": [
      "out_results:\n",
      "tensor(1.3191, grad_fn=<AddBackward0>)\n"
     ]
    },
    {
     "name": "stderr",
     "output_type": "stream",
     "text": [
      "\n",
      "Iteration:   8%|█████▍                                                                | 17/219 [02:54<34:30, 10.25s/it]\u001b[A"
     ]
    },
    {
     "name": "stdout",
     "output_type": "stream",
     "text": [
      "out_results:\n",
      "tensor(1.2730, grad_fn=<AddBackward0>)\n"
     ]
    },
    {
     "name": "stderr",
     "output_type": "stream",
     "text": [
      "\n",
      "Iteration:   8%|█████▊                                                                | 18/219 [03:05<34:34, 10.32s/it]\u001b[A"
     ]
    },
    {
     "name": "stdout",
     "output_type": "stream",
     "text": [
      "out_results:\n",
      "tensor(1.1448, grad_fn=<AddBackward0>)\n"
     ]
    },
    {
     "name": "stderr",
     "output_type": "stream",
     "text": [
      "\n",
      "Iteration:   9%|██████                                                                | 19/219 [03:15<34:23, 10.32s/it]\u001b[A"
     ]
    },
    {
     "name": "stdout",
     "output_type": "stream",
     "text": [
      "out_results:\n",
      "tensor(1.2068, grad_fn=<AddBackward0>)\n"
     ]
    },
    {
     "name": "stderr",
     "output_type": "stream",
     "text": [
      "\n",
      "Iteration:   9%|██████▍                                                               | 20/219 [03:25<34:08, 10.29s/it]\u001b[A"
     ]
    },
    {
     "name": "stdout",
     "output_type": "stream",
     "text": [
      "out_results:\n",
      "tensor(1.0961, grad_fn=<AddBackward0>)\n"
     ]
    },
    {
     "name": "stderr",
     "output_type": "stream",
     "text": [
      "\n",
      "Iteration:  10%|██████▋                                                               | 21/219 [03:35<33:50, 10.26s/it]\u001b[A"
     ]
    },
    {
     "name": "stdout",
     "output_type": "stream",
     "text": [
      "out_results:\n",
      "tensor(1.1801, grad_fn=<AddBackward0>)\n"
     ]
    },
    {
     "name": "stderr",
     "output_type": "stream",
     "text": [
      "\n",
      "Iteration:  10%|███████                                                               | 22/219 [03:46<33:36, 10.24s/it]\u001b[A"
     ]
    },
    {
     "name": "stdout",
     "output_type": "stream",
     "text": [
      "out_results:\n",
      "tensor(1.1598, grad_fn=<AddBackward0>)\n"
     ]
    },
    {
     "name": "stderr",
     "output_type": "stream",
     "text": [
      "\n",
      "Iteration:  11%|███████▎                                                              | 23/219 [03:56<33:23, 10.22s/it]\u001b[A"
     ]
    },
    {
     "name": "stdout",
     "output_type": "stream",
     "text": [
      "out_results:\n",
      "tensor(1.0638, grad_fn=<AddBackward0>)\n"
     ]
    },
    {
     "name": "stderr",
     "output_type": "stream",
     "text": [
      "\n",
      "Iteration:  11%|███████▋                                                              | 24/219 [04:06<33:22, 10.27s/it]\u001b[A"
     ]
    },
    {
     "name": "stdout",
     "output_type": "stream",
     "text": [
      "out_results:\n",
      "tensor(1.1743, grad_fn=<AddBackward0>)\n"
     ]
    },
    {
     "name": "stderr",
     "output_type": "stream",
     "text": [
      "\n",
      "Iteration:  11%|███████▉                                                              | 25/219 [04:16<33:18, 10.30s/it]\u001b[A"
     ]
    },
    {
     "name": "stdout",
     "output_type": "stream",
     "text": [
      "out_results:\n",
      "tensor(1.1029, grad_fn=<AddBackward0>)\n"
     ]
    },
    {
     "name": "stderr",
     "output_type": "stream",
     "text": [
      "\n",
      "Iteration:  12%|████████▎                                                             | 26/219 [04:27<33:07, 10.30s/it]\u001b[A"
     ]
    },
    {
     "name": "stdout",
     "output_type": "stream",
     "text": [
      "out_results:\n",
      "tensor(1.1747, grad_fn=<AddBackward0>)\n"
     ]
    },
    {
     "name": "stderr",
     "output_type": "stream",
     "text": [
      "\n",
      "Iteration:  12%|████████▋                                                             | 27/219 [04:37<32:57, 10.30s/it]\u001b[A"
     ]
    },
    {
     "name": "stdout",
     "output_type": "stream",
     "text": [
      "out_results:\n",
      "tensor(1.0443, grad_fn=<AddBackward0>)\n"
     ]
    },
    {
     "name": "stderr",
     "output_type": "stream",
     "text": [
      "\n",
      "Iteration:  13%|████████▉                                                             | 28/219 [04:47<32:48, 10.31s/it]\u001b[A"
     ]
    },
    {
     "name": "stdout",
     "output_type": "stream",
     "text": [
      "out_results:\n",
      "tensor(1.1451, grad_fn=<AddBackward0>)\n"
     ]
    },
    {
     "name": "stderr",
     "output_type": "stream",
     "text": [
      "\n",
      "Iteration:  13%|█████████▎                                                            | 29/219 [04:58<32:37, 10.30s/it]\u001b[A"
     ]
    },
    {
     "name": "stdout",
     "output_type": "stream",
     "text": [
      "out_results:\n",
      "tensor(1.1130, grad_fn=<AddBackward0>)\n"
     ]
    },
    {
     "name": "stderr",
     "output_type": "stream",
     "text": [
      "\n",
      "Iteration:  14%|█████████▌                                                            | 30/219 [05:08<32:32, 10.33s/it]\u001b[A"
     ]
    },
    {
     "name": "stdout",
     "output_type": "stream",
     "text": [
      "out_results:\n",
      "tensor(1.0887, grad_fn=<AddBackward0>)\n"
     ]
    },
    {
     "name": "stderr",
     "output_type": "stream",
     "text": [
      "\n",
      "Iteration:  14%|█████████▉                                                            | 31/219 [05:18<32:20, 10.32s/it]\u001b[A"
     ]
    },
    {
     "name": "stdout",
     "output_type": "stream",
     "text": [
      "out_results:\n",
      "tensor(1.1750, grad_fn=<AddBackward0>)\n"
     ]
    },
    {
     "name": "stderr",
     "output_type": "stream",
     "text": [
      "\n",
      "Iteration:  15%|██████████▏                                                           | 32/219 [05:29<32:07, 10.31s/it]\u001b[A"
     ]
    },
    {
     "name": "stdout",
     "output_type": "stream",
     "text": [
      "out_results:\n",
      "tensor(1.0053, grad_fn=<AddBackward0>)\n"
     ]
    },
    {
     "name": "stderr",
     "output_type": "stream",
     "text": [
      "\n",
      "Iteration:  15%|██████████▌                                                           | 33/219 [05:39<31:55, 10.30s/it]\u001b[A"
     ]
    },
    {
     "name": "stdout",
     "output_type": "stream",
     "text": [
      "out_results:\n",
      "tensor(1.1374, grad_fn=<AddBackward0>)\n"
     ]
    },
    {
     "name": "stderr",
     "output_type": "stream",
     "text": [
      "\n",
      "Iteration:  16%|██████████▊                                                           | 34/219 [05:49<31:33, 10.23s/it]\u001b[A"
     ]
    },
    {
     "name": "stdout",
     "output_type": "stream",
     "text": [
      "out_results:\n",
      "tensor(1.2818, grad_fn=<AddBackward0>)\n"
     ]
    },
    {
     "name": "stderr",
     "output_type": "stream",
     "text": [
      "\n",
      "Iteration:  16%|███████████▏                                                          | 35/219 [05:59<31:23, 10.24s/it]\u001b[A"
     ]
    },
    {
     "name": "stdout",
     "output_type": "stream",
     "text": [
      "out_results:\n",
      "tensor(1.1841, grad_fn=<AddBackward0>)\n"
     ]
    },
    {
     "name": "stderr",
     "output_type": "stream",
     "text": [
      "\n",
      "Iteration:  16%|███████████▌                                                          | 36/219 [06:10<31:19, 10.27s/it]\u001b[A"
     ]
    },
    {
     "name": "stdout",
     "output_type": "stream",
     "text": [
      "out_results:\n",
      "tensor(1.0849, grad_fn=<AddBackward0>)\n"
     ]
    },
    {
     "name": "stderr",
     "output_type": "stream",
     "text": [
      "\n",
      "Iteration:  17%|███████████▊                                                          | 37/219 [06:20<31:13, 10.29s/it]\u001b[A"
     ]
    },
    {
     "name": "stdout",
     "output_type": "stream",
     "text": [
      "out_results:\n",
      "tensor(1.1882, grad_fn=<AddBackward0>)\n"
     ]
    },
    {
     "name": "stderr",
     "output_type": "stream",
     "text": [
      "\n",
      "Iteration:  17%|████████████▏                                                         | 38/219 [06:30<31:03, 10.30s/it]\u001b[A"
     ]
    },
    {
     "name": "stdout",
     "output_type": "stream",
     "text": [
      "out_results:\n",
      "tensor(1.1483, grad_fn=<AddBackward0>)\n"
     ]
    },
    {
     "name": "stderr",
     "output_type": "stream",
     "text": [
      "\n",
      "Iteration:  18%|████████████▍                                                         | 39/219 [06:41<31:01, 10.34s/it]\u001b[A"
     ]
    },
    {
     "name": "stdout",
     "output_type": "stream",
     "text": [
      "out_results:\n",
      "tensor(1.1627, grad_fn=<AddBackward0>)\n"
     ]
    },
    {
     "name": "stderr",
     "output_type": "stream",
     "text": [
      "\n",
      "Iteration:  18%|████████████▊                                                         | 40/219 [06:51<30:48, 10.33s/it]\u001b[A"
     ]
    },
    {
     "name": "stdout",
     "output_type": "stream",
     "text": [
      "out_results:\n",
      "tensor(1.1080, grad_fn=<AddBackward0>)\n"
     ]
    },
    {
     "name": "stderr",
     "output_type": "stream",
     "text": [
      "\n",
      "Iteration:  19%|█████████████                                                         | 41/219 [07:01<30:24, 10.25s/it]\u001b[A"
     ]
    },
    {
     "name": "stdout",
     "output_type": "stream",
     "text": [
      "out_results:\n",
      "tensor(1.1139, grad_fn=<AddBackward0>)\n"
     ]
    },
    {
     "name": "stderr",
     "output_type": "stream",
     "text": [
      "\n",
      "Iteration:  19%|█████████████▍                                                        | 42/219 [07:11<30:21, 10.29s/it]\u001b[A"
     ]
    },
    {
     "name": "stdout",
     "output_type": "stream",
     "text": [
      "out_results:\n",
      "tensor(1.3621, grad_fn=<AddBackward0>)\n"
     ]
    },
    {
     "name": "stderr",
     "output_type": "stream",
     "text": [
      "\n",
      "Iteration:  20%|█████████████▋                                                        | 43/219 [07:22<30:15, 10.31s/it]\u001b[A"
     ]
    },
    {
     "name": "stdout",
     "output_type": "stream",
     "text": [
      "out_results:\n",
      "tensor(1.0149, grad_fn=<AddBackward0>)\n"
     ]
    },
    {
     "name": "stderr",
     "output_type": "stream",
     "text": [
      "\n",
      "Iteration:  20%|██████████████                                                        | 44/219 [07:32<30:04, 10.31s/it]\u001b[A"
     ]
    },
    {
     "name": "stdout",
     "output_type": "stream",
     "text": [
      "out_results:\n",
      "tensor(1.2613, grad_fn=<AddBackward0>)\n"
     ]
    },
    {
     "name": "stderr",
     "output_type": "stream",
     "text": [
      "\n",
      "Iteration:  21%|██████████████▍                                                       | 45/219 [07:42<29:46, 10.27s/it]\u001b[A"
     ]
    },
    {
     "name": "stdout",
     "output_type": "stream",
     "text": [
      "out_results:\n",
      "tensor(1.2136, grad_fn=<AddBackward0>)\n"
     ]
    },
    {
     "name": "stderr",
     "output_type": "stream",
     "text": [
      "\n",
      "Iteration:  21%|██████████████▋                                                       | 46/219 [07:53<29:33, 10.25s/it]\u001b[A"
     ]
    },
    {
     "name": "stdout",
     "output_type": "stream",
     "text": [
      "out_results:\n",
      "tensor(1.2355, grad_fn=<AddBackward0>)\n"
     ]
    },
    {
     "name": "stderr",
     "output_type": "stream",
     "text": [
      "\n",
      "Iteration:  21%|███████████████                                                       | 47/219 [08:03<29:27, 10.28s/it]\u001b[A"
     ]
    },
    {
     "name": "stdout",
     "output_type": "stream",
     "text": [
      "out_results:\n",
      "tensor(1.0144, grad_fn=<AddBackward0>)\n"
     ]
    },
    {
     "name": "stderr",
     "output_type": "stream",
     "text": [
      "\n",
      "Iteration:  22%|███████████████▎                                                      | 48/219 [08:13<29:35, 10.38s/it]\u001b[A"
     ]
    },
    {
     "name": "stdout",
     "output_type": "stream",
     "text": [
      "out_results:\n",
      "tensor(1.2474, grad_fn=<AddBackward0>)\n"
     ]
    },
    {
     "name": "stderr",
     "output_type": "stream",
     "text": [
      "\n",
      "Iteration:  22%|███████████████▋                                                      | 49/219 [08:24<29:10, 10.30s/it]\u001b[A"
     ]
    },
    {
     "name": "stdout",
     "output_type": "stream",
     "text": [
      "out_results:\n",
      "tensor(1.2401, grad_fn=<AddBackward0>)\n"
     ]
    },
    {
     "name": "stderr",
     "output_type": "stream",
     "text": [
      "\n",
      "Iteration:  23%|███████████████▉                                                      | 50/219 [08:34<28:56, 10.27s/it]\u001b[A"
     ]
    },
    {
     "name": "stdout",
     "output_type": "stream",
     "text": [
      "out_results:\n",
      "tensor(1.0385, grad_fn=<AddBackward0>)\n"
     ]
    },
    {
     "name": "stderr",
     "output_type": "stream",
     "text": [
      "\n",
      "Iteration:  23%|████████████████▎                                                     | 51/219 [08:44<28:50, 10.30s/it]\u001b[A"
     ]
    },
    {
     "name": "stdout",
     "output_type": "stream",
     "text": [
      "out_results:\n",
      "tensor(1.2523, grad_fn=<AddBackward0>)\n"
     ]
    },
    {
     "name": "stderr",
     "output_type": "stream",
     "text": [
      "\n",
      "Iteration:  24%|████████████████▌                                                     | 52/219 [08:54<28:25, 10.21s/it]\u001b[A"
     ]
    },
    {
     "name": "stdout",
     "output_type": "stream",
     "text": [
      "out_results:\n",
      "tensor(1.0571, grad_fn=<AddBackward0>)\n"
     ]
    },
    {
     "name": "stderr",
     "output_type": "stream",
     "text": [
      "\n",
      "Iteration:  24%|████████████████▉                                                     | 53/219 [09:04<28:20, 10.24s/it]\u001b[A"
     ]
    },
    {
     "name": "stdout",
     "output_type": "stream",
     "text": [
      "out_results:\n",
      "tensor(1.0947, grad_fn=<AddBackward0>)\n"
     ]
    },
    {
     "name": "stderr",
     "output_type": "stream",
     "text": [
      "\n",
      "Iteration:  25%|█████████████████▎                                                    | 54/219 [09:15<28:13, 10.26s/it]\u001b[A"
     ]
    },
    {
     "name": "stdout",
     "output_type": "stream",
     "text": [
      "out_results:\n",
      "tensor(1.2776, grad_fn=<AddBackward0>)\n"
     ]
    },
    {
     "name": "stderr",
     "output_type": "stream",
     "text": [
      "\n",
      "Iteration:  25%|█████████████████▌                                                    | 55/219 [09:25<28:11, 10.32s/it]\u001b[A"
     ]
    },
    {
     "name": "stdout",
     "output_type": "stream",
     "text": [
      "out_results:\n",
      "tensor(1.1630, grad_fn=<AddBackward0>)\n"
     ]
    },
    {
     "name": "stderr",
     "output_type": "stream",
     "text": [
      "\n",
      "Iteration:  26%|█████████████████▉                                                    | 56/219 [09:36<28:01, 10.32s/it]\u001b[A"
     ]
    },
    {
     "name": "stdout",
     "output_type": "stream",
     "text": [
      "out_results:\n",
      "tensor(1.0814, grad_fn=<AddBackward0>)\n"
     ]
    },
    {
     "name": "stderr",
     "output_type": "stream",
     "text": [
      "\n",
      "Iteration:  26%|██████████████████▏                                                   | 57/219 [09:46<27:51, 10.32s/it]\u001b[A"
     ]
    },
    {
     "name": "stdout",
     "output_type": "stream",
     "text": [
      "out_results:\n",
      "tensor(1.1311, grad_fn=<AddBackward0>)\n"
     ]
    },
    {
     "name": "stderr",
     "output_type": "stream",
     "text": [
      "\n",
      "Iteration:  26%|██████████████████▌                                                   | 58/219 [09:56<27:41, 10.32s/it]\u001b[A"
     ]
    },
    {
     "name": "stdout",
     "output_type": "stream",
     "text": [
      "out_results:\n",
      "tensor(1.2585, grad_fn=<AddBackward0>)\n"
     ]
    },
    {
     "name": "stderr",
     "output_type": "stream",
     "text": [
      "\n",
      "Iteration:  27%|██████████████████▊                                                   | 59/219 [10:07<27:35, 10.35s/it]\u001b[A"
     ]
    },
    {
     "name": "stdout",
     "output_type": "stream",
     "text": [
      "out_results:\n",
      "tensor(1.3838, grad_fn=<AddBackward0>)\n"
     ]
    },
    {
     "name": "stderr",
     "output_type": "stream",
     "text": [
      "\n",
      "Iteration:  27%|███████████████████▏                                                  | 60/219 [10:17<27:26, 10.35s/it]\u001b[A"
     ]
    },
    {
     "name": "stdout",
     "output_type": "stream",
     "text": [
      "out_results:\n",
      "tensor(1.1677, grad_fn=<AddBackward0>)\n"
     ]
    },
    {
     "name": "stderr",
     "output_type": "stream",
     "text": [
      "\n",
      "Iteration:  28%|███████████████████▍                                                  | 61/219 [10:27<27:13, 10.34s/it]\u001b[A"
     ]
    },
    {
     "name": "stdout",
     "output_type": "stream",
     "text": [
      "out_results:\n",
      "tensor(1.1390, grad_fn=<AddBackward0>)\n"
     ]
    },
    {
     "name": "stderr",
     "output_type": "stream",
     "text": [
      "\n",
      "Iteration:  28%|███████████████████▊                                                  | 62/219 [10:38<26:58, 10.31s/it]\u001b[A"
     ]
    },
    {
     "name": "stdout",
     "output_type": "stream",
     "text": [
      "out_results:\n",
      "tensor(1.2715, grad_fn=<AddBackward0>)\n"
     ]
    },
    {
     "name": "stderr",
     "output_type": "stream",
     "text": [
      "\n",
      "Iteration:  29%|████████████████████▏                                                 | 63/219 [10:48<26:36, 10.23s/it]\u001b[A"
     ]
    },
    {
     "name": "stdout",
     "output_type": "stream",
     "text": [
      "out_results:\n",
      "tensor(1.1402, grad_fn=<AddBackward0>)\n"
     ]
    },
    {
     "name": "stderr",
     "output_type": "stream",
     "text": [
      "\n",
      "Iteration:  29%|████████████████████▍                                                 | 64/219 [10:58<26:29, 10.25s/it]\u001b[A"
     ]
    },
    {
     "name": "stdout",
     "output_type": "stream",
     "text": [
      "out_results:\n",
      "tensor(1.3728, grad_fn=<AddBackward0>)\n"
     ]
    },
    {
     "name": "stderr",
     "output_type": "stream",
     "text": [
      "\n",
      "Iteration:  30%|████████████████████▊                                                 | 65/219 [11:08<26:21, 10.27s/it]\u001b[A"
     ]
    },
    {
     "name": "stdout",
     "output_type": "stream",
     "text": [
      "out_results:\n",
      "tensor(1.0722, grad_fn=<AddBackward0>)\n"
     ]
    },
    {
     "name": "stderr",
     "output_type": "stream",
     "text": [
      "\n",
      "Iteration:  30%|█████████████████████                                                 | 66/219 [11:19<26:16, 10.31s/it]\u001b[A"
     ]
    },
    {
     "name": "stdout",
     "output_type": "stream",
     "text": [
      "out_results:\n",
      "tensor(1.2647, grad_fn=<AddBackward0>)\n"
     ]
    },
    {
     "name": "stderr",
     "output_type": "stream",
     "text": [
      "\n",
      "Iteration:  31%|█████████████████████▍                                                | 67/219 [11:29<25:55, 10.23s/it]\u001b[A"
     ]
    },
    {
     "name": "stdout",
     "output_type": "stream",
     "text": [
      "out_results:\n",
      "tensor(1.2281, grad_fn=<AddBackward0>)\n"
     ]
    },
    {
     "name": "stderr",
     "output_type": "stream",
     "text": [
      "\n",
      "Iteration:  31%|█████████████████████▋                                                | 68/219 [11:39<25:45, 10.24s/it]\u001b[A"
     ]
    },
    {
     "name": "stdout",
     "output_type": "stream",
     "text": [
      "out_results:\n",
      "tensor(1.3056, grad_fn=<AddBackward0>)\n"
     ]
    },
    {
     "name": "stderr",
     "output_type": "stream",
     "text": [
      "\n",
      "Iteration:  32%|██████████████████████                                                | 69/219 [11:49<25:28, 10.19s/it]\u001b[A"
     ]
    },
    {
     "name": "stdout",
     "output_type": "stream",
     "text": [
      "out_results:\n",
      "tensor(1.1055, grad_fn=<AddBackward0>)\n"
     ]
    },
    {
     "name": "stderr",
     "output_type": "stream",
     "text": [
      "\n",
      "Iteration:  32%|██████████████████████▎                                               | 70/219 [11:59<25:24, 10.23s/it]\u001b[A"
     ]
    },
    {
     "name": "stdout",
     "output_type": "stream",
     "text": [
      "out_results:\n",
      "tensor(1.1427, grad_fn=<AddBackward0>)\n"
     ]
    },
    {
     "name": "stderr",
     "output_type": "stream",
     "text": [
      "\n",
      "Iteration:  32%|██████████████████████▋                                               | 71/219 [12:10<25:17, 10.25s/it]\u001b[A"
     ]
    },
    {
     "name": "stdout",
     "output_type": "stream",
     "text": [
      "out_results:\n",
      "tensor(1.1738, grad_fn=<AddBackward0>)\n"
     ]
    },
    {
     "name": "stderr",
     "output_type": "stream",
     "text": [
      "\n",
      "Iteration:  33%|███████████████████████                                               | 72/219 [12:20<25:12, 10.29s/it]\u001b[A"
     ]
    },
    {
     "name": "stdout",
     "output_type": "stream",
     "text": [
      "out_results:\n",
      "tensor(1.1225, grad_fn=<AddBackward0>)\n"
     ]
    },
    {
     "name": "stderr",
     "output_type": "stream",
     "text": [
      "\n",
      "Iteration:  33%|███████████████████████▎                                              | 73/219 [12:30<25:03, 10.30s/it]\u001b[A"
     ]
    },
    {
     "name": "stdout",
     "output_type": "stream",
     "text": [
      "out_results:\n",
      "tensor(1.2094, grad_fn=<AddBackward0>)\n"
     ]
    },
    {
     "name": "stderr",
     "output_type": "stream",
     "text": [
      "\n",
      "Iteration:  34%|███████████████████████▋                                              | 74/219 [12:41<24:54, 10.30s/it]\u001b[A"
     ]
    },
    {
     "name": "stdout",
     "output_type": "stream",
     "text": [
      "out_results:\n",
      "tensor(1.1941, grad_fn=<AddBackward0>)\n"
     ]
    },
    {
     "name": "stderr",
     "output_type": "stream",
     "text": [
      "\n",
      "Iteration:  34%|███████████████████████▉                                              | 75/219 [12:51<24:43, 10.30s/it]\u001b[A"
     ]
    },
    {
     "name": "stdout",
     "output_type": "stream",
     "text": [
      "out_results:\n",
      "tensor(1.1997, grad_fn=<AddBackward0>)\n"
     ]
    },
    {
     "name": "stderr",
     "output_type": "stream",
     "text": [
      "\n",
      "Iteration:  35%|████████████████████████▎                                             | 76/219 [13:01<24:21, 10.22s/it]\u001b[A"
     ]
    },
    {
     "name": "stdout",
     "output_type": "stream",
     "text": [
      "out_results:\n",
      "tensor(1.2285, grad_fn=<AddBackward0>)\n"
     ]
    },
    {
     "name": "stderr",
     "output_type": "stream",
     "text": [
      "\n",
      "Iteration:  35%|████████████████████████▌                                             | 77/219 [13:11<24:14, 10.24s/it]\u001b[A"
     ]
    },
    {
     "name": "stdout",
     "output_type": "stream",
     "text": [
      "out_results:\n",
      "tensor(1.1218, grad_fn=<AddBackward0>)\n"
     ]
    },
    {
     "name": "stderr",
     "output_type": "stream",
     "text": [
      "\n",
      "Iteration:  36%|████████████████████████▉                                             | 78/219 [13:21<24:01, 10.22s/it]\u001b[A"
     ]
    },
    {
     "name": "stdout",
     "output_type": "stream",
     "text": [
      "out_results:\n",
      "tensor(1.2031, grad_fn=<AddBackward0>)\n"
     ]
    },
    {
     "name": "stderr",
     "output_type": "stream",
     "text": [
      "\n",
      "Iteration:  36%|█████████████████████████▎                                            | 79/219 [13:32<23:53, 10.24s/it]\u001b[A"
     ]
    },
    {
     "name": "stdout",
     "output_type": "stream",
     "text": [
      "out_results:\n",
      "tensor(1.2282, grad_fn=<AddBackward0>)\n"
     ]
    },
    {
     "name": "stderr",
     "output_type": "stream",
     "text": [
      "\n",
      "Iteration:  37%|█████████████████████████▌                                            | 80/219 [13:42<23:46, 10.27s/it]\u001b[A"
     ]
    },
    {
     "name": "stdout",
     "output_type": "stream",
     "text": [
      "out_results:\n",
      "tensor(1.1863, grad_fn=<AddBackward0>)\n"
     ]
    },
    {
     "name": "stderr",
     "output_type": "stream",
     "text": [
      "\n",
      "Iteration:  37%|█████████████████████████▉                                            | 81/219 [13:52<23:27, 10.20s/it]\u001b[A"
     ]
    },
    {
     "name": "stdout",
     "output_type": "stream",
     "text": [
      "out_results:\n",
      "tensor(1.2121, grad_fn=<AddBackward0>)\n"
     ]
    },
    {
     "name": "stderr",
     "output_type": "stream",
     "text": [
      "\n",
      "Iteration:  37%|██████████████████████████▏                                           | 82/219 [14:02<23:12, 10.17s/it]\u001b[A"
     ]
    },
    {
     "name": "stdout",
     "output_type": "stream",
     "text": [
      "out_results:\n",
      "tensor(1.1359, grad_fn=<AddBackward0>)\n"
     ]
    },
    {
     "name": "stderr",
     "output_type": "stream",
     "text": [
      "\n",
      "Iteration:  38%|██████████████████████████▌                                           | 83/219 [14:12<23:10, 10.23s/it]\u001b[A"
     ]
    },
    {
     "name": "stdout",
     "output_type": "stream",
     "text": [
      "out_results:\n",
      "tensor(1.2805, grad_fn=<AddBackward0>)\n"
     ]
    },
    {
     "name": "stderr",
     "output_type": "stream",
     "text": [
      "\n",
      "Iteration:  38%|██████████████████████████▊                                           | 84/219 [14:23<23:05, 10.26s/it]\u001b[A"
     ]
    },
    {
     "name": "stdout",
     "output_type": "stream",
     "text": [
      "out_results:\n",
      "tensor(1.1835, grad_fn=<AddBackward0>)\n"
     ]
    },
    {
     "name": "stderr",
     "output_type": "stream",
     "text": [
      "\n",
      "Iteration:  39%|███████████████████████████▏                                          | 85/219 [14:33<22:57, 10.28s/it]\u001b[A"
     ]
    },
    {
     "name": "stdout",
     "output_type": "stream",
     "text": [
      "out_results:\n",
      "tensor(1.2442, grad_fn=<AddBackward0>)\n"
     ]
    },
    {
     "name": "stderr",
     "output_type": "stream",
     "text": [
      "\n",
      "Iteration:  39%|███████████████████████████▍                                          | 86/219 [14:43<22:48, 10.29s/it]\u001b[A"
     ]
    },
    {
     "name": "stdout",
     "output_type": "stream",
     "text": [
      "out_results:\n",
      "tensor(1.1620, grad_fn=<AddBackward0>)\n"
     ]
    },
    {
     "name": "stderr",
     "output_type": "stream",
     "text": [
      "\n",
      "Iteration:  40%|███████████████████████████▊                                          | 87/219 [14:54<22:39, 10.30s/it]\u001b[A"
     ]
    },
    {
     "name": "stdout",
     "output_type": "stream",
     "text": [
      "out_results:\n",
      "tensor(1.2201, grad_fn=<AddBackward0>)\n"
     ]
    },
    {
     "name": "stderr",
     "output_type": "stream",
     "text": [
      "\n",
      "Iteration:  40%|████████████████████████████▏                                         | 88/219 [15:04<22:31, 10.31s/it]\u001b[A"
     ]
    },
    {
     "name": "stdout",
     "output_type": "stream",
     "text": [
      "out_results:\n",
      "tensor(1.2054, grad_fn=<AddBackward0>)\n"
     ]
    },
    {
     "name": "stderr",
     "output_type": "stream",
     "text": [
      "\n",
      "Iteration:  41%|████████████████████████████▍                                         | 89/219 [15:14<22:21, 10.32s/it]\u001b[A"
     ]
    },
    {
     "name": "stdout",
     "output_type": "stream",
     "text": [
      "out_results:\n",
      "tensor(1.2771, grad_fn=<AddBackward0>)\n"
     ]
    },
    {
     "name": "stderr",
     "output_type": "stream",
     "text": [
      "\n",
      "Iteration:  41%|████████████████████████████▊                                         | 90/219 [15:25<22:02, 10.25s/it]\u001b[A"
     ]
    },
    {
     "name": "stdout",
     "output_type": "stream",
     "text": [
      "out_results:\n",
      "tensor(1.1313, grad_fn=<AddBackward0>)\n"
     ]
    },
    {
     "name": "stderr",
     "output_type": "stream",
     "text": [
      "\n",
      "Iteration:  42%|█████████████████████████████                                         | 91/219 [15:35<21:53, 10.26s/it]\u001b[A"
     ]
    },
    {
     "name": "stdout",
     "output_type": "stream",
     "text": [
      "out_results:\n",
      "tensor(1.2542, grad_fn=<AddBackward0>)\n"
     ]
    },
    {
     "name": "stderr",
     "output_type": "stream",
     "text": [
      "\n",
      "Iteration:  42%|█████████████████████████████▍                                        | 92/219 [15:45<21:46, 10.29s/it]\u001b[A"
     ]
    },
    {
     "name": "stdout",
     "output_type": "stream",
     "text": [
      "out_results:\n",
      "tensor(1.2405, grad_fn=<AddBackward0>)\n"
     ]
    },
    {
     "name": "stderr",
     "output_type": "stream",
     "text": [
      "\n",
      "Iteration:  42%|█████████████████████████████▋                                        | 93/219 [15:56<21:38, 10.30s/it]\u001b[A"
     ]
    },
    {
     "name": "stdout",
     "output_type": "stream",
     "text": [
      "out_results:\n",
      "tensor(1.2208, grad_fn=<AddBackward0>)\n"
     ]
    },
    {
     "name": "stderr",
     "output_type": "stream",
     "text": [
      "\n",
      "Iteration:  43%|██████████████████████████████                                        | 94/219 [16:06<21:40, 10.40s/it]\u001b[A"
     ]
    },
    {
     "name": "stdout",
     "output_type": "stream",
     "text": [
      "out_results:\n",
      "tensor(1.1363, grad_fn=<AddBackward0>)\n"
     ]
    },
    {
     "name": "stderr",
     "output_type": "stream",
     "text": [
      "\n",
      "Iteration:  43%|██████████████████████████████▎                                       | 95/219 [16:16<21:24, 10.36s/it]\u001b[A"
     ]
    },
    {
     "name": "stdout",
     "output_type": "stream",
     "text": [
      "out_results:\n",
      "tensor(1.2119, grad_fn=<AddBackward0>)\n"
     ]
    },
    {
     "name": "stderr",
     "output_type": "stream",
     "text": [
      "\n",
      "Iteration:  44%|██████████████████████████████▋                                       | 96/219 [16:27<21:08, 10.31s/it]\u001b[A"
     ]
    },
    {
     "name": "stdout",
     "output_type": "stream",
     "text": [
      "out_results:\n",
      "tensor(1.2863, grad_fn=<AddBackward0>)\n"
     ]
    },
    {
     "name": "stderr",
     "output_type": "stream",
     "text": [
      "\n",
      "Iteration:  44%|███████████████████████████████                                       | 97/219 [16:37<20:52, 10.26s/it]\u001b[A"
     ]
    },
    {
     "name": "stdout",
     "output_type": "stream",
     "text": [
      "out_results:\n",
      "tensor(1.1373, grad_fn=<AddBackward0>)\n"
     ]
    },
    {
     "name": "stderr",
     "output_type": "stream",
     "text": [
      "\n",
      "Iteration:  45%|███████████████████████████████▎                                      | 98/219 [16:47<20:32, 10.19s/it]\u001b[A"
     ]
    },
    {
     "name": "stdout",
     "output_type": "stream",
     "text": [
      "out_results:\n",
      "tensor(1.2243, grad_fn=<AddBackward0>)\n"
     ]
    },
    {
     "name": "stderr",
     "output_type": "stream",
     "text": [
      "\n",
      "Iteration:  45%|███████████████████████████████▋                                      | 99/219 [16:57<20:23, 10.19s/it]\u001b[A"
     ]
    },
    {
     "name": "stdout",
     "output_type": "stream",
     "text": [
      "out_results:\n",
      "tensor(1.2128, grad_fn=<AddBackward0>)\n"
     ]
    },
    {
     "name": "stderr",
     "output_type": "stream",
     "text": [
      "\n",
      "Iteration:  46%|███████████████████████████████▌                                     | 100/219 [17:07<20:12, 10.19s/it]\u001b[A"
     ]
    },
    {
     "name": "stdout",
     "output_type": "stream",
     "text": [
      "out_results:\n",
      "tensor(1.1461, grad_fn=<AddBackward0>)\n"
     ]
    },
    {
     "name": "stderr",
     "output_type": "stream",
     "text": [
      "\n",
      "Iteration:  46%|███████████████████████████████▊                                     | 101/219 [17:17<20:02, 10.19s/it]\u001b[A"
     ]
    },
    {
     "name": "stdout",
     "output_type": "stream",
     "text": [
      "out_results:\n",
      "tensor(1.1017, grad_fn=<AddBackward0>)\n"
     ]
    },
    {
     "name": "stderr",
     "output_type": "stream",
     "text": [
      "\n",
      "Iteration:  47%|████████████████████████████████▏                                    | 102/219 [17:28<19:56, 10.22s/it]\u001b[A"
     ]
    },
    {
     "name": "stdout",
     "output_type": "stream",
     "text": [
      "out_results:\n",
      "tensor(1.1682, grad_fn=<AddBackward0>)\n"
     ]
    },
    {
     "name": "stderr",
     "output_type": "stream",
     "text": [
      "\n",
      "Iteration:  47%|████████████████████████████████▍                                    | 103/219 [17:38<19:49, 10.25s/it]\u001b[A"
     ]
    },
    {
     "name": "stdout",
     "output_type": "stream",
     "text": [
      "out_results:\n",
      "tensor(1.1799, grad_fn=<AddBackward0>)\n"
     ]
    },
    {
     "name": "stderr",
     "output_type": "stream",
     "text": [
      "\n",
      "Iteration:  47%|████████████████████████████████▊                                    | 104/219 [17:48<19:41, 10.27s/it]\u001b[A"
     ]
    },
    {
     "name": "stdout",
     "output_type": "stream",
     "text": [
      "out_results:\n",
      "tensor(1.0457, grad_fn=<AddBackward0>)\n"
     ]
    },
    {
     "name": "stderr",
     "output_type": "stream",
     "text": [
      "\n",
      "Iteration:  48%|█████████████████████████████████                                    | 105/219 [17:59<19:34, 10.30s/it]\u001b[A"
     ]
    },
    {
     "name": "stdout",
     "output_type": "stream",
     "text": [
      "out_results:\n",
      "tensor(1.2393, grad_fn=<AddBackward0>)\n"
     ]
    },
    {
     "name": "stderr",
     "output_type": "stream",
     "text": [
      "\n",
      "Iteration:  48%|█████████████████████████████████▍                                   | 106/219 [18:09<19:22, 10.29s/it]\u001b[A"
     ]
    },
    {
     "name": "stdout",
     "output_type": "stream",
     "text": [
      "out_results:\n",
      "tensor(1.0788, grad_fn=<AddBackward0>)\n"
     ]
    },
    {
     "name": "stderr",
     "output_type": "stream",
     "text": [
      "\n",
      "Iteration:  49%|█████████████████████████████████▋                                   | 107/219 [18:19<19:14, 10.31s/it]\u001b[A"
     ]
    },
    {
     "name": "stdout",
     "output_type": "stream",
     "text": [
      "out_results:\n",
      "tensor(1.2085, grad_fn=<AddBackward0>)\n"
     ]
    },
    {
     "name": "stderr",
     "output_type": "stream",
     "text": [
      "\n",
      "Iteration:  49%|██████████████████████████████████                                   | 108/219 [18:30<19:03, 10.30s/it]\u001b[A"
     ]
    },
    {
     "name": "stdout",
     "output_type": "stream",
     "text": [
      "out_results:\n",
      "tensor(1.1257, grad_fn=<AddBackward0>)\n"
     ]
    },
    {
     "name": "stderr",
     "output_type": "stream",
     "text": [
      "\n",
      "Iteration:  50%|██████████████████████████████████▎                                  | 109/219 [18:40<18:54, 10.31s/it]\u001b[A"
     ]
    },
    {
     "name": "stdout",
     "output_type": "stream",
     "text": [
      "out_results:\n",
      "tensor(1.1933, grad_fn=<AddBackward0>)\n"
     ]
    },
    {
     "name": "stderr",
     "output_type": "stream",
     "text": [
      "\n",
      "Iteration:  50%|██████████████████████████████████▋                                  | 110/219 [18:50<18:41, 10.29s/it]\u001b[A"
     ]
    },
    {
     "name": "stdout",
     "output_type": "stream",
     "text": [
      "out_results:\n",
      "tensor(1.1340, grad_fn=<AddBackward0>)\n"
     ]
    },
    {
     "name": "stderr",
     "output_type": "stream",
     "text": [
      "\n",
      "Iteration:  51%|██████████████████████████████████▉                                  | 111/219 [19:00<18:28, 10.26s/it]\u001b[A"
     ]
    },
    {
     "name": "stdout",
     "output_type": "stream",
     "text": [
      "out_results:\n",
      "tensor(1.2093, grad_fn=<AddBackward0>)\n"
     ]
    },
    {
     "name": "stderr",
     "output_type": "stream",
     "text": [
      "\n",
      "Iteration:  51%|███████████████████████████████████▎                                 | 112/219 [19:11<18:18, 10.27s/it]\u001b[A"
     ]
    },
    {
     "name": "stdout",
     "output_type": "stream",
     "text": [
      "out_results:\n",
      "tensor(1.2855, grad_fn=<AddBackward0>)\n"
     ]
    },
    {
     "name": "stderr",
     "output_type": "stream",
     "text": [
      "\n",
      "Iteration:  52%|███████████████████████████████████▌                                 | 113/219 [19:21<18:11, 10.30s/it]\u001b[A"
     ]
    },
    {
     "name": "stdout",
     "output_type": "stream",
     "text": [
      "out_results:\n",
      "tensor(1.0733, grad_fn=<AddBackward0>)\n"
     ]
    },
    {
     "name": "stderr",
     "output_type": "stream",
     "text": [
      "\n",
      "Iteration:  52%|███████████████████████████████████▉                                 | 114/219 [19:31<17:53, 10.22s/it]\u001b[A"
     ]
    },
    {
     "name": "stdout",
     "output_type": "stream",
     "text": [
      "out_results:\n",
      "tensor(1.2265, grad_fn=<AddBackward0>)\n"
     ]
    },
    {
     "name": "stderr",
     "output_type": "stream",
     "text": [
      "\n",
      "Iteration:  53%|████████████████████████████████████▏                                | 115/219 [19:41<17:49, 10.28s/it]\u001b[A"
     ]
    },
    {
     "name": "stdout",
     "output_type": "stream",
     "text": [
      "out_results:\n",
      "tensor(1.1962, grad_fn=<AddBackward0>)\n"
     ]
    },
    {
     "name": "stderr",
     "output_type": "stream",
     "text": [
      "\n",
      "Iteration:  53%|████████████████████████████████████▌                                | 116/219 [19:52<17:39, 10.29s/it]\u001b[A"
     ]
    },
    {
     "name": "stdout",
     "output_type": "stream",
     "text": [
      "out_results:\n",
      "tensor(1.2677, grad_fn=<AddBackward0>)\n"
     ]
    },
    {
     "name": "stderr",
     "output_type": "stream",
     "text": [
      "\n",
      "Iteration:  53%|████████████████████████████████████▊                                | 117/219 [20:02<17:29, 10.29s/it]\u001b[A"
     ]
    },
    {
     "name": "stdout",
     "output_type": "stream",
     "text": [
      "out_results:\n",
      "tensor(1.1491, grad_fn=<AddBackward0>)\n"
     ]
    },
    {
     "name": "stderr",
     "output_type": "stream",
     "text": [
      "\n",
      "Iteration:  54%|█████████████████████████████████████▏                               | 118/219 [20:12<17:18, 10.29s/it]\u001b[A"
     ]
    },
    {
     "name": "stdout",
     "output_type": "stream",
     "text": [
      "out_results:\n",
      "tensor(1.1946, grad_fn=<AddBackward0>)\n"
     ]
    },
    {
     "name": "stderr",
     "output_type": "stream",
     "text": [
      "\n",
      "Iteration:  54%|█████████████████████████████████████▍                               | 119/219 [20:23<17:11, 10.32s/it]\u001b[A"
     ]
    },
    {
     "name": "stdout",
     "output_type": "stream",
     "text": [
      "out_results:\n",
      "tensor(1.1133, grad_fn=<AddBackward0>)\n"
     ]
    },
    {
     "name": "stderr",
     "output_type": "stream",
     "text": [
      "\n",
      "Iteration:  55%|█████████████████████████████████████▊                               | 120/219 [20:33<17:01, 10.32s/it]\u001b[A"
     ]
    },
    {
     "name": "stdout",
     "output_type": "stream",
     "text": [
      "out_results:\n",
      "tensor(1.1031, grad_fn=<AddBackward0>)\n"
     ]
    },
    {
     "name": "stderr",
     "output_type": "stream",
     "text": [
      "\n",
      "Iteration:  55%|██████████████████████████████████████                               | 121/219 [20:44<16:55, 10.36s/it]\u001b[A"
     ]
    },
    {
     "name": "stdout",
     "output_type": "stream",
     "text": [
      "out_results:\n",
      "tensor(1.0854, grad_fn=<AddBackward0>)\n"
     ]
    },
    {
     "name": "stderr",
     "output_type": "stream",
     "text": [
      "\n",
      "Iteration:  56%|██████████████████████████████████████▍                              | 122/219 [20:54<16:42, 10.33s/it]\u001b[A"
     ]
    },
    {
     "name": "stdout",
     "output_type": "stream",
     "text": [
      "out_results:\n",
      "tensor(1.2063, grad_fn=<AddBackward0>)\n"
     ]
    },
    {
     "name": "stderr",
     "output_type": "stream",
     "text": [
      "\n",
      "Iteration:  56%|██████████████████████████████████████▊                              | 123/219 [21:04<16:23, 10.25s/it]\u001b[A"
     ]
    },
    {
     "name": "stdout",
     "output_type": "stream",
     "text": [
      "out_results:\n",
      "tensor(1.1145, grad_fn=<AddBackward0>)\n"
     ]
    },
    {
     "name": "stderr",
     "output_type": "stream",
     "text": [
      "\n",
      "Iteration:  57%|███████████████████████████████████████                              | 124/219 [21:14<16:17, 10.29s/it]\u001b[A"
     ]
    },
    {
     "name": "stdout",
     "output_type": "stream",
     "text": [
      "out_results:\n",
      "tensor(1.1986, grad_fn=<AddBackward0>)\n"
     ]
    },
    {
     "name": "stderr",
     "output_type": "stream",
     "text": [
      "\n",
      "Iteration:  57%|███████████████████████████████████████▍                             | 125/219 [21:25<16:09, 10.32s/it]\u001b[A"
     ]
    },
    {
     "name": "stdout",
     "output_type": "stream",
     "text": [
      "out_results:\n",
      "tensor(1.1497, grad_fn=<AddBackward0>)\n"
     ]
    },
    {
     "name": "stderr",
     "output_type": "stream",
     "text": [
      "\n",
      "Iteration:  58%|███████████████████████████████████████▋                             | 126/219 [21:35<15:53, 10.25s/it]\u001b[A"
     ]
    },
    {
     "name": "stdout",
     "output_type": "stream",
     "text": [
      "out_results:\n",
      "tensor(1.1767, grad_fn=<AddBackward0>)\n"
     ]
    },
    {
     "name": "stderr",
     "output_type": "stream",
     "text": [
      "\n",
      "Iteration:  58%|████████████████████████████████████████                             | 127/219 [21:45<15:40, 10.23s/it]\u001b[A"
     ]
    },
    {
     "name": "stdout",
     "output_type": "stream",
     "text": [
      "out_results:\n",
      "tensor(1.1824, grad_fn=<AddBackward0>)\n"
     ]
    },
    {
     "name": "stderr",
     "output_type": "stream",
     "text": [
      "\n",
      "Iteration:  58%|████████████████████████████████████████▎                            | 128/219 [21:55<15:35, 10.28s/it]\u001b[A"
     ]
    },
    {
     "name": "stdout",
     "output_type": "stream",
     "text": [
      "out_results:\n",
      "tensor(1.2029, grad_fn=<AddBackward0>)\n"
     ]
    },
    {
     "name": "stderr",
     "output_type": "stream",
     "text": [
      "\n",
      "Iteration:  59%|████████████████████████████████████████▋                            | 129/219 [22:05<15:22, 10.25s/it]\u001b[A"
     ]
    },
    {
     "name": "stdout",
     "output_type": "stream",
     "text": [
      "out_results:\n",
      "tensor(1.2306, grad_fn=<AddBackward0>)\n"
     ]
    },
    {
     "name": "stderr",
     "output_type": "stream",
     "text": [
      "\n",
      "Iteration:  59%|████████████████████████████████████████▉                            | 130/219 [22:16<15:08, 10.21s/it]\u001b[A"
     ]
    },
    {
     "name": "stdout",
     "output_type": "stream",
     "text": [
      "out_results:\n",
      "tensor(1.2088, grad_fn=<AddBackward0>)\n"
     ]
    },
    {
     "name": "stderr",
     "output_type": "stream",
     "text": [
      "\n",
      "Iteration:  60%|█████████████████████████████████████████▎                           | 131/219 [22:26<15:00, 10.24s/it]\u001b[A"
     ]
    },
    {
     "name": "stdout",
     "output_type": "stream",
     "text": [
      "out_results:\n",
      "tensor(1.2128, grad_fn=<AddBackward0>)\n"
     ]
    },
    {
     "name": "stderr",
     "output_type": "stream",
     "text": [
      "\n",
      "Iteration:  60%|█████████████████████████████████████████▌                           | 132/219 [22:36<14:46, 10.19s/it]\u001b[A"
     ]
    },
    {
     "name": "stdout",
     "output_type": "stream",
     "text": [
      "out_results:\n",
      "tensor(1.1391, grad_fn=<AddBackward0>)\n"
     ]
    },
    {
     "name": "stderr",
     "output_type": "stream",
     "text": [
      "\n",
      "Iteration:  61%|█████████████████████████████████████████▉                           | 133/219 [22:46<14:42, 10.26s/it]\u001b[A"
     ]
    },
    {
     "name": "stdout",
     "output_type": "stream",
     "text": [
      "out_results:\n",
      "tensor(1.2505, grad_fn=<AddBackward0>)\n"
     ]
    },
    {
     "name": "stderr",
     "output_type": "stream",
     "text": [
      "\n",
      "Iteration:  61%|██████████████████████████████████████████▏                          | 134/219 [22:57<14:33, 10.28s/it]\u001b[A"
     ]
    },
    {
     "name": "stdout",
     "output_type": "stream",
     "text": [
      "out_results:\n",
      "tensor(1.1676, grad_fn=<AddBackward0>)\n"
     ]
    },
    {
     "name": "stderr",
     "output_type": "stream",
     "text": [
      "\n",
      "Iteration:  62%|██████████████████████████████████████████▌                          | 135/219 [23:07<14:28, 10.34s/it]\u001b[A"
     ]
    },
    {
     "name": "stdout",
     "output_type": "stream",
     "text": [
      "out_results:\n",
      "tensor(1.1824, grad_fn=<AddBackward0>)\n"
     ]
    },
    {
     "name": "stderr",
     "output_type": "stream",
     "text": [
      "\n",
      "Iteration:  62%|██████████████████████████████████████████▊                          | 136/219 [23:18<14:18, 10.35s/it]\u001b[A"
     ]
    },
    {
     "name": "stdout",
     "output_type": "stream",
     "text": [
      "out_results:\n",
      "tensor(1.1970, grad_fn=<AddBackward0>)\n"
     ]
    },
    {
     "name": "stderr",
     "output_type": "stream",
     "text": [
      "\n",
      "Iteration:  63%|███████████████████████████████████████████▏                         | 137/219 [23:28<14:07, 10.33s/it]\u001b[A"
     ]
    },
    {
     "name": "stdout",
     "output_type": "stream",
     "text": [
      "out_results:\n",
      "tensor(1.0872, grad_fn=<AddBackward0>)\n"
     ]
    },
    {
     "name": "stderr",
     "output_type": "stream",
     "text": [
      "\n",
      "Iteration:  63%|███████████████████████████████████████████▍                         | 138/219 [23:38<13:58, 10.35s/it]\u001b[A"
     ]
    },
    {
     "name": "stdout",
     "output_type": "stream",
     "text": [
      "out_results:\n",
      "tensor(1.3123, grad_fn=<AddBackward0>)\n"
     ]
    },
    {
     "name": "stderr",
     "output_type": "stream",
     "text": [
      "\n",
      "Iteration:  63%|███████████████████████████████████████████▊                         | 139/219 [23:49<13:47, 10.34s/it]\u001b[A"
     ]
    },
    {
     "name": "stdout",
     "output_type": "stream",
     "text": [
      "out_results:\n",
      "tensor(1.2354, grad_fn=<AddBackward0>)\n"
     ]
    },
    {
     "name": "stderr",
     "output_type": "stream",
     "text": [
      "\n",
      "Iteration:  64%|████████████████████████████████████████████                         | 140/219 [23:59<13:35, 10.32s/it]\u001b[A"
     ]
    },
    {
     "name": "stdout",
     "output_type": "stream",
     "text": [
      "out_results:\n",
      "tensor(1.2383, grad_fn=<AddBackward0>)\n"
     ]
    },
    {
     "name": "stderr",
     "output_type": "stream",
     "text": [
      "\n",
      "Iteration:  64%|████████████████████████████████████████████▍                        | 141/219 [24:09<13:26, 10.33s/it]\u001b[A"
     ]
    },
    {
     "name": "stdout",
     "output_type": "stream",
     "text": [
      "out_results:\n",
      "tensor(1.0958, grad_fn=<AddBackward0>)\n"
     ]
    },
    {
     "name": "stderr",
     "output_type": "stream",
     "text": [
      "\n",
      "Iteration:  65%|████████████████████████████████████████████▋                        | 142/219 [24:19<13:14, 10.32s/it]\u001b[A"
     ]
    },
    {
     "name": "stdout",
     "output_type": "stream",
     "text": [
      "out_results:\n",
      "tensor(1.2155, grad_fn=<AddBackward0>)\n"
     ]
    },
    {
     "name": "stderr",
     "output_type": "stream",
     "text": [
      "\n",
      "Iteration:  65%|█████████████████████████████████████████████                        | 143/219 [24:30<13:05, 10.34s/it]\u001b[A"
     ]
    },
    {
     "name": "stdout",
     "output_type": "stream",
     "text": [
      "out_results:\n",
      "tensor(1.3525, grad_fn=<AddBackward0>)\n"
     ]
    },
    {
     "name": "stderr",
     "output_type": "stream",
     "text": [
      "\n",
      "Iteration:  66%|█████████████████████████████████████████████▎                       | 144/219 [24:40<12:54, 10.33s/it]\u001b[A"
     ]
    },
    {
     "name": "stdout",
     "output_type": "stream",
     "text": [
      "out_results:\n",
      "tensor(1.0783, grad_fn=<AddBackward0>)\n"
     ]
    },
    {
     "name": "stderr",
     "output_type": "stream",
     "text": [
      "\n",
      "Iteration:  66%|█████████████████████████████████████████████▋                       | 145/219 [24:50<12:38, 10.25s/it]\u001b[A"
     ]
    },
    {
     "name": "stdout",
     "output_type": "stream",
     "text": [
      "out_results:\n",
      "tensor(1.2190, grad_fn=<AddBackward0>)\n"
     ]
    },
    {
     "name": "stderr",
     "output_type": "stream",
     "text": [
      "\n",
      "Iteration:  67%|██████████████████████████████████████████████                       | 146/219 [25:00<12:27, 10.24s/it]\u001b[A"
     ]
    },
    {
     "name": "stdout",
     "output_type": "stream",
     "text": [
      "out_results:\n",
      "tensor(1.2691, grad_fn=<AddBackward0>)\n"
     ]
    },
    {
     "name": "stderr",
     "output_type": "stream",
     "text": [
      "\n",
      "Iteration:  67%|██████████████████████████████████████████████▎                      | 147/219 [25:11<12:19, 10.27s/it]\u001b[A"
     ]
    },
    {
     "name": "stdout",
     "output_type": "stream",
     "text": [
      "out_results:\n",
      "tensor(1.0491, grad_fn=<AddBackward0>)\n"
     ]
    },
    {
     "name": "stderr",
     "output_type": "stream",
     "text": [
      "\n",
      "Iteration:  68%|██████████████████████████████████████████████▋                      | 148/219 [25:21<12:09, 10.28s/it]\u001b[A"
     ]
    },
    {
     "name": "stdout",
     "output_type": "stream",
     "text": [
      "out_results:\n",
      "tensor(1.2676, grad_fn=<AddBackward0>)\n"
     ]
    },
    {
     "name": "stderr",
     "output_type": "stream",
     "text": [
      "\n",
      "Iteration:  68%|██████████████████████████████████████████████▉                      | 149/219 [25:31<11:56, 10.24s/it]\u001b[A"
     ]
    },
    {
     "name": "stdout",
     "output_type": "stream",
     "text": [
      "out_results:\n",
      "tensor(1.1414, grad_fn=<AddBackward0>)\n"
     ]
    },
    {
     "name": "stderr",
     "output_type": "stream",
     "text": [
      "\n",
      "Iteration:  68%|███████████████████████████████████████████████▎                     | 150/219 [25:42<11:50, 10.29s/it]\u001b[A"
     ]
    },
    {
     "name": "stdout",
     "output_type": "stream",
     "text": [
      "out_results:\n",
      "tensor(1.0371, grad_fn=<AddBackward0>)\n"
     ]
    },
    {
     "name": "stderr",
     "output_type": "stream",
     "text": [
      "\n",
      "Iteration:  69%|███████████████████████████████████████████████▌                     | 151/219 [25:52<11:39, 10.29s/it]\u001b[A"
     ]
    },
    {
     "name": "stdout",
     "output_type": "stream",
     "text": [
      "out_results:\n",
      "tensor(1.1866, grad_fn=<AddBackward0>)\n"
     ]
    },
    {
     "name": "stderr",
     "output_type": "stream",
     "text": [
      "\n",
      "Iteration:  69%|███████████████████████████████████████████████▉                     | 152/219 [26:02<11:26, 10.25s/it]\u001b[A"
     ]
    },
    {
     "name": "stdout",
     "output_type": "stream",
     "text": [
      "out_results:\n",
      "tensor(1.1878, grad_fn=<AddBackward0>)\n"
     ]
    },
    {
     "name": "stderr",
     "output_type": "stream",
     "text": [
      "\n",
      "Iteration:  70%|████████████████████████████████████████████████▏                    | 153/219 [26:12<11:13, 10.21s/it]\u001b[A"
     ]
    },
    {
     "name": "stdout",
     "output_type": "stream",
     "text": [
      "out_results:\n",
      "tensor(1.0923, grad_fn=<AddBackward0>)\n"
     ]
    },
    {
     "name": "stderr",
     "output_type": "stream",
     "text": [
      "\n",
      "Iteration:  70%|████████████████████████████████████████████████▌                    | 154/219 [26:23<11:07, 10.27s/it]\u001b[A"
     ]
    },
    {
     "name": "stdout",
     "output_type": "stream",
     "text": [
      "out_results:\n",
      "tensor(1.3200, grad_fn=<AddBackward0>)\n"
     ]
    },
    {
     "name": "stderr",
     "output_type": "stream",
     "text": [
      "\n",
      "Iteration:  71%|████████████████████████████████████████████████▊                    | 155/219 [26:33<10:58, 10.29s/it]\u001b[A"
     ]
    },
    {
     "name": "stdout",
     "output_type": "stream",
     "text": [
      "out_results:\n",
      "tensor(1.2130, grad_fn=<AddBackward0>)\n"
     ]
    },
    {
     "name": "stderr",
     "output_type": "stream",
     "text": [
      "\n",
      "Iteration:  71%|█████████████████████████████████████████████████▏                   | 156/219 [26:43<10:49, 10.30s/it]\u001b[A"
     ]
    },
    {
     "name": "stdout",
     "output_type": "stream",
     "text": [
      "out_results:\n",
      "tensor(1.2391, grad_fn=<AddBackward0>)\n"
     ]
    },
    {
     "name": "stderr",
     "output_type": "stream",
     "text": [
      "\n",
      "Iteration:  72%|█████████████████████████████████████████████████▍                   | 157/219 [26:54<10:39, 10.31s/it]\u001b[A"
     ]
    },
    {
     "name": "stdout",
     "output_type": "stream",
     "text": [
      "out_results:\n",
      "tensor(1.0567, grad_fn=<AddBackward0>)\n"
     ]
    },
    {
     "name": "stderr",
     "output_type": "stream",
     "text": [
      "\n",
      "Iteration:  72%|█████████████████████████████████████████████████▊                   | 158/219 [27:04<10:31, 10.35s/it]\u001b[A"
     ]
    },
    {
     "name": "stdout",
     "output_type": "stream",
     "text": [
      "out_results:\n",
      "tensor(1.1503, grad_fn=<AddBackward0>)\n"
     ]
    },
    {
     "name": "stderr",
     "output_type": "stream",
     "text": [
      "\n",
      "Iteration:  73%|██████████████████████████████████████████████████                   | 159/219 [27:14<10:21, 10.36s/it]\u001b[A"
     ]
    },
    {
     "name": "stdout",
     "output_type": "stream",
     "text": [
      "out_results:\n",
      "tensor(1.1962, grad_fn=<AddBackward0>)\n"
     ]
    },
    {
     "name": "stderr",
     "output_type": "stream",
     "text": [
      "\n",
      "Iteration:  73%|██████████████████████████████████████████████████▍                  | 160/219 [27:25<10:12, 10.38s/it]\u001b[A"
     ]
    },
    {
     "name": "stdout",
     "output_type": "stream",
     "text": [
      "out_results:\n",
      "tensor(1.2232, grad_fn=<AddBackward0>)\n"
     ]
    },
    {
     "name": "stderr",
     "output_type": "stream",
     "text": [
      "\n",
      "Iteration:  74%|██████████████████████████████████████████████████▋                  | 161/219 [27:35<10:01, 10.37s/it]\u001b[A"
     ]
    },
    {
     "name": "stdout",
     "output_type": "stream",
     "text": [
      "out_results:\n",
      "tensor(1.2992, grad_fn=<AddBackward0>)\n"
     ]
    },
    {
     "name": "stderr",
     "output_type": "stream",
     "text": [
      "\n",
      "Iteration:  74%|███████████████████████████████████████████████████                  | 162/219 [27:45<09:46, 10.30s/it]\u001b[A"
     ]
    },
    {
     "name": "stdout",
     "output_type": "stream",
     "text": [
      "out_results:\n",
      "tensor(1.2815, grad_fn=<AddBackward0>)\n"
     ]
    },
    {
     "name": "stderr",
     "output_type": "stream",
     "text": [
      "\n",
      "Iteration:  74%|███████████████████████████████████████████████████▎                 | 163/219 [27:56<09:37, 10.32s/it]\u001b[A"
     ]
    },
    {
     "name": "stdout",
     "output_type": "stream",
     "text": [
      "out_results:\n",
      "tensor(1.0828, grad_fn=<AddBackward0>)\n"
     ]
    },
    {
     "name": "stderr",
     "output_type": "stream",
     "text": [
      "\n",
      "Iteration:  75%|███████████████████████████████████████████████████▋                 | 164/219 [28:06<09:27, 10.32s/it]\u001b[A"
     ]
    },
    {
     "name": "stdout",
     "output_type": "stream",
     "text": [
      "out_results:\n",
      "tensor(1.1475, grad_fn=<AddBackward0>)\n"
     ]
    },
    {
     "name": "stderr",
     "output_type": "stream",
     "text": [
      "\n",
      "Iteration:  75%|███████████████████████████████████████████████████▉                 | 165/219 [28:16<09:19, 10.35s/it]\u001b[A"
     ]
    },
    {
     "name": "stdout",
     "output_type": "stream",
     "text": [
      "out_results:\n",
      "tensor(1.2442, grad_fn=<AddBackward0>)\n"
     ]
    },
    {
     "name": "stderr",
     "output_type": "stream",
     "text": [
      "\n",
      "Iteration:  76%|████████████████████████████████████████████████████▎                | 166/219 [28:27<09:09, 10.36s/it]\u001b[A"
     ]
    },
    {
     "name": "stdout",
     "output_type": "stream",
     "text": [
      "out_results:\n",
      "tensor(1.2705, grad_fn=<AddBackward0>)\n"
     ]
    },
    {
     "name": "stderr",
     "output_type": "stream",
     "text": [
      "\n",
      "Iteration:  76%|████████████████████████████████████████████████████▌                | 167/219 [28:37<08:58, 10.36s/it]\u001b[A"
     ]
    },
    {
     "name": "stdout",
     "output_type": "stream",
     "text": [
      "out_results:\n",
      "tensor(1.1914, grad_fn=<AddBackward0>)\n"
     ]
    },
    {
     "name": "stderr",
     "output_type": "stream",
     "text": [
      "\n",
      "Iteration:  77%|████████████████████████████████████████████████████▉                | 168/219 [28:48<08:50, 10.39s/it]\u001b[A"
     ]
    },
    {
     "name": "stdout",
     "output_type": "stream",
     "text": [
      "out_results:\n",
      "tensor(1.1793, grad_fn=<AddBackward0>)\n"
     ]
    },
    {
     "name": "stderr",
     "output_type": "stream",
     "text": [
      "\n",
      "Iteration:  77%|█████████████████████████████████████████████████████▏               | 169/219 [28:59<08:48, 10.58s/it]\u001b[A"
     ]
    },
    {
     "name": "stdout",
     "output_type": "stream",
     "text": [
      "out_results:\n",
      "tensor(1.1674, grad_fn=<AddBackward0>)\n"
     ]
    },
    {
     "name": "stderr",
     "output_type": "stream",
     "text": [
      "\n",
      "Iteration:  78%|█████████████████████████████████████████████████████▌               | 170/219 [29:09<08:32, 10.46s/it]\u001b[A"
     ]
    },
    {
     "name": "stdout",
     "output_type": "stream",
     "text": [
      "out_results:\n",
      "tensor(1.1978, grad_fn=<AddBackward0>)\n"
     ]
    },
    {
     "name": "stderr",
     "output_type": "stream",
     "text": [
      "\n",
      "Iteration:  78%|█████████████████████████████████████████████████████▉               | 171/219 [29:19<08:19, 10.42s/it]\u001b[A"
     ]
    },
    {
     "name": "stdout",
     "output_type": "stream",
     "text": [
      "out_results:\n",
      "tensor(1.1299, grad_fn=<AddBackward0>)\n"
     ]
    },
    {
     "name": "stderr",
     "output_type": "stream",
     "text": [
      "\n",
      "Iteration:  79%|██████████████████████████████████████████████████████▏              | 172/219 [29:29<08:07, 10.38s/it]\u001b[A"
     ]
    },
    {
     "name": "stdout",
     "output_type": "stream",
     "text": [
      "out_results:\n",
      "tensor(1.1842, grad_fn=<AddBackward0>)\n"
     ]
    },
    {
     "name": "stderr",
     "output_type": "stream",
     "text": [
      "\n",
      "Iteration:  79%|██████████████████████████████████████████████████████▌              | 173/219 [29:40<07:56, 10.35s/it]\u001b[A"
     ]
    },
    {
     "name": "stdout",
     "output_type": "stream",
     "text": [
      "out_results:\n",
      "tensor(1.1672, grad_fn=<AddBackward0>)\n"
     ]
    },
    {
     "name": "stderr",
     "output_type": "stream",
     "text": [
      "\n",
      "Iteration:  79%|██████████████████████████████████████████████████████▊              | 174/219 [29:50<07:44, 10.33s/it]\u001b[A"
     ]
    },
    {
     "name": "stdout",
     "output_type": "stream",
     "text": [
      "out_results:\n",
      "tensor(1.1879, grad_fn=<AddBackward0>)\n"
     ]
    },
    {
     "name": "stderr",
     "output_type": "stream",
     "text": [
      "\n",
      "Iteration:  80%|███████████████████████████████████████████████████████▏             | 175/219 [30:00<07:34, 10.34s/it]\u001b[A"
     ]
    },
    {
     "name": "stdout",
     "output_type": "stream",
     "text": [
      "out_results:\n",
      "tensor(1.2961, grad_fn=<AddBackward0>)\n"
     ]
    },
    {
     "name": "stderr",
     "output_type": "stream",
     "text": [
      "\n",
      "Iteration:  80%|███████████████████████████████████████████████████████▍             | 176/219 [30:11<07:24, 10.34s/it]\u001b[A"
     ]
    },
    {
     "name": "stdout",
     "output_type": "stream",
     "text": [
      "out_results:\n",
      "tensor(1.2296, grad_fn=<AddBackward0>)\n"
     ]
    },
    {
     "name": "stderr",
     "output_type": "stream",
     "text": [
      "\n",
      "Iteration:  81%|███████████████████████████████████████████████████████▊             | 177/219 [30:21<07:13, 10.33s/it]\u001b[A"
     ]
    },
    {
     "name": "stdout",
     "output_type": "stream",
     "text": [
      "out_results:\n",
      "tensor(1.1906, grad_fn=<AddBackward0>)\n"
     ]
    },
    {
     "name": "stderr",
     "output_type": "stream",
     "text": [
      "\n",
      "Iteration:  81%|████████████████████████████████████████████████████████             | 178/219 [30:31<07:01, 10.29s/it]\u001b[A"
     ]
    },
    {
     "name": "stdout",
     "output_type": "stream",
     "text": [
      "out_results:\n",
      "tensor(1.1167, grad_fn=<AddBackward0>)\n"
     ]
    },
    {
     "name": "stderr",
     "output_type": "stream",
     "text": [
      "\n",
      "Iteration:  82%|████████████████████████████████████████████████████████▍            | 179/219 [30:42<06:53, 10.33s/it]\u001b[A"
     ]
    },
    {
     "name": "stdout",
     "output_type": "stream",
     "text": [
      "out_results:\n",
      "tensor(1.1182, grad_fn=<AddBackward0>)\n"
     ]
    },
    {
     "name": "stderr",
     "output_type": "stream",
     "text": [
      "\n",
      "Iteration:  82%|████████████████████████████████████████████████████████▋            | 180/219 [30:52<06:43, 10.33s/it]\u001b[A"
     ]
    },
    {
     "name": "stdout",
     "output_type": "stream",
     "text": [
      "out_results:\n",
      "tensor(1.1181, grad_fn=<AddBackward0>)\n"
     ]
    },
    {
     "name": "stderr",
     "output_type": "stream",
     "text": [
      "\n",
      "Iteration:  83%|█████████████████████████████████████████████████████████            | 181/219 [31:02<06:33, 10.35s/it]\u001b[A"
     ]
    },
    {
     "name": "stdout",
     "output_type": "stream",
     "text": [
      "out_results:\n",
      "tensor(1.0760, grad_fn=<AddBackward0>)\n"
     ]
    },
    {
     "name": "stderr",
     "output_type": "stream",
     "text": [
      "\n",
      "Iteration:  83%|█████████████████████████████████████████████████████████▎           | 182/219 [31:13<06:23, 10.38s/it]\u001b[A"
     ]
    },
    {
     "name": "stdout",
     "output_type": "stream",
     "text": [
      "out_results:\n",
      "tensor(1.2230, grad_fn=<AddBackward0>)\n"
     ]
    },
    {
     "name": "stderr",
     "output_type": "stream",
     "text": [
      "\n",
      "Iteration:  84%|█████████████████████████████████████████████████████████▋           | 183/219 [31:23<06:13, 10.37s/it]\u001b[A"
     ]
    },
    {
     "name": "stdout",
     "output_type": "stream",
     "text": [
      "out_results:\n",
      "tensor(1.2166, grad_fn=<AddBackward0>)\n"
     ]
    },
    {
     "name": "stderr",
     "output_type": "stream",
     "text": [
      "\n",
      "Iteration:  84%|█████████████████████████████████████████████████████████▉           | 184/219 [31:34<06:02, 10.36s/it]\u001b[A"
     ]
    },
    {
     "name": "stdout",
     "output_type": "stream",
     "text": [
      "out_results:\n",
      "tensor(1.2447, grad_fn=<AddBackward0>)\n"
     ]
    },
    {
     "name": "stderr",
     "output_type": "stream",
     "text": [
      "\n",
      "Iteration:  84%|██████████████████████████████████████████████████████████▎          | 185/219 [31:44<05:52, 10.36s/it]\u001b[A"
     ]
    },
    {
     "name": "stdout",
     "output_type": "stream",
     "text": [
      "out_results:\n",
      "tensor(1.2033, grad_fn=<AddBackward0>)\n"
     ]
    },
    {
     "name": "stderr",
     "output_type": "stream",
     "text": [
      "\n",
      "Iteration:  85%|██████████████████████████████████████████████████████████▌          | 186/219 [31:54<05:40, 10.31s/it]\u001b[A"
     ]
    },
    {
     "name": "stdout",
     "output_type": "stream",
     "text": [
      "out_results:\n",
      "tensor(1.3177, grad_fn=<AddBackward0>)\n"
     ]
    },
    {
     "name": "stderr",
     "output_type": "stream",
     "text": [
      "\n",
      "Iteration:  85%|██████████████████████████████████████████████████████████▉          | 187/219 [32:04<05:30, 10.32s/it]\u001b[A"
     ]
    },
    {
     "name": "stdout",
     "output_type": "stream",
     "text": [
      "out_results:\n",
      "tensor(1.1416, grad_fn=<AddBackward0>)\n"
     ]
    },
    {
     "name": "stderr",
     "output_type": "stream",
     "text": [
      "\n",
      "Iteration:  86%|███████████████████████████████████████████████████████████▏         | 188/219 [32:15<05:20, 10.34s/it]\u001b[A"
     ]
    },
    {
     "name": "stdout",
     "output_type": "stream",
     "text": [
      "out_results:\n",
      "tensor(1.2151, grad_fn=<AddBackward0>)\n"
     ]
    },
    {
     "name": "stderr",
     "output_type": "stream",
     "text": [
      "\n",
      "Iteration:  86%|███████████████████████████████████████████████████████████▌         | 189/219 [32:25<05:10, 10.36s/it]\u001b[A"
     ]
    },
    {
     "name": "stdout",
     "output_type": "stream",
     "text": [
      "out_results:\n",
      "tensor(1.2268, grad_fn=<AddBackward0>)\n"
     ]
    },
    {
     "name": "stderr",
     "output_type": "stream",
     "text": [
      "\n",
      "Iteration:  87%|███████████████████████████████████████████████████████████▊         | 190/219 [32:36<04:59, 10.34s/it]\u001b[A"
     ]
    },
    {
     "name": "stdout",
     "output_type": "stream",
     "text": [
      "out_results:\n",
      "tensor(1.2441, grad_fn=<AddBackward0>)\n"
     ]
    },
    {
     "name": "stderr",
     "output_type": "stream",
     "text": [
      "\n",
      "Iteration:  87%|████████████████████████████████████████████████████████████▏        | 191/219 [32:46<04:48, 10.29s/it]\u001b[A"
     ]
    },
    {
     "name": "stdout",
     "output_type": "stream",
     "text": [
      "out_results:\n",
      "tensor(1.1158, grad_fn=<AddBackward0>)\n"
     ]
    },
    {
     "name": "stderr",
     "output_type": "stream",
     "text": [
      "\n",
      "Iteration:  88%|████████████████████████████████████████████████████████████▍        | 192/219 [32:56<04:38, 10.32s/it]\u001b[A"
     ]
    },
    {
     "name": "stdout",
     "output_type": "stream",
     "text": [
      "out_results:\n",
      "tensor(1.2629, grad_fn=<AddBackward0>)\n"
     ]
    },
    {
     "name": "stderr",
     "output_type": "stream",
     "text": [
      "\n",
      "Iteration:  88%|████████████████████████████████████████████████████████████▊        | 193/219 [33:06<04:27, 10.29s/it]\u001b[A"
     ]
    },
    {
     "name": "stdout",
     "output_type": "stream",
     "text": [
      "out_results:\n",
      "tensor(1.1593, grad_fn=<AddBackward0>)\n"
     ]
    },
    {
     "name": "stderr",
     "output_type": "stream",
     "text": [
      "\n",
      "Iteration:  89%|█████████████████████████████████████████████████████████████        | 194/219 [33:17<04:18, 10.32s/it]\u001b[A"
     ]
    },
    {
     "name": "stdout",
     "output_type": "stream",
     "text": [
      "out_results:\n",
      "tensor(1.0995, grad_fn=<AddBackward0>)\n"
     ]
    },
    {
     "name": "stderr",
     "output_type": "stream",
     "text": [
      "\n",
      "Iteration:  89%|█████████████████████████████████████████████████████████████▍       | 195/219 [33:27<04:06, 10.29s/it]\u001b[A"
     ]
    },
    {
     "name": "stdout",
     "output_type": "stream",
     "text": [
      "out_results:\n",
      "tensor(1.1901, grad_fn=<AddBackward0>)\n"
     ]
    },
    {
     "name": "stderr",
     "output_type": "stream",
     "text": [
      "\n",
      "Iteration:  89%|█████████████████████████████████████████████████████████████▊       | 196/219 [33:37<03:56, 10.30s/it]\u001b[A"
     ]
    },
    {
     "name": "stdout",
     "output_type": "stream",
     "text": [
      "out_results:\n",
      "tensor(1.2574, grad_fn=<AddBackward0>)\n"
     ]
    },
    {
     "name": "stderr",
     "output_type": "stream",
     "text": [
      "\n",
      "Iteration:  90%|██████████████████████████████████████████████████████████████       | 197/219 [33:48<03:48, 10.37s/it]\u001b[A"
     ]
    },
    {
     "name": "stdout",
     "output_type": "stream",
     "text": [
      "out_results:\n",
      "tensor(1.1197, grad_fn=<AddBackward0>)\n"
     ]
    },
    {
     "name": "stderr",
     "output_type": "stream",
     "text": [
      "\n",
      "Iteration:  90%|██████████████████████████████████████████████████████████████▍      | 198/219 [33:58<03:38, 10.39s/it]\u001b[A"
     ]
    },
    {
     "name": "stdout",
     "output_type": "stream",
     "text": [
      "out_results:\n",
      "tensor(1.1782, grad_fn=<AddBackward0>)\n"
     ]
    },
    {
     "name": "stderr",
     "output_type": "stream",
     "text": [
      "\n",
      "Iteration:  91%|██████████████████████████████████████████████████████████████▋      | 199/219 [34:09<03:27, 10.37s/it]\u001b[A"
     ]
    },
    {
     "name": "stdout",
     "output_type": "stream",
     "text": [
      "out_results:\n",
      "tensor(1.2522, grad_fn=<AddBackward0>)\n"
     ]
    },
    {
     "name": "stderr",
     "output_type": "stream",
     "text": [
      "\n",
      "Iteration:  91%|███████████████████████████████████████████████████████████████      | 200/219 [34:19<03:15, 10.29s/it]\u001b[A"
     ]
    },
    {
     "name": "stdout",
     "output_type": "stream",
     "text": [
      "out_results:\n",
      "tensor(1.2149, grad_fn=<AddBackward0>)\n"
     ]
    },
    {
     "name": "stderr",
     "output_type": "stream",
     "text": [
      "\n",
      "Iteration:  92%|███████████████████████████████████████████████████████████████▎     | 201/219 [34:29<03:04, 10.24s/it]\u001b[A"
     ]
    },
    {
     "name": "stdout",
     "output_type": "stream",
     "text": [
      "out_results:\n",
      "tensor(1.3063, grad_fn=<AddBackward0>)\n"
     ]
    },
    {
     "name": "stderr",
     "output_type": "stream",
     "text": [
      "\n",
      "Iteration:  92%|███████████████████████████████████████████████████████████████▋     | 202/219 [34:39<02:54, 10.26s/it]\u001b[A"
     ]
    },
    {
     "name": "stdout",
     "output_type": "stream",
     "text": [
      "out_results:\n",
      "tensor(1.1516, grad_fn=<AddBackward0>)\n"
     ]
    },
    {
     "name": "stderr",
     "output_type": "stream",
     "text": [
      "\n",
      "Iteration:  93%|███████████████████████████████████████████████████████████████▉     | 203/219 [34:49<02:44, 10.30s/it]\u001b[A"
     ]
    },
    {
     "name": "stdout",
     "output_type": "stream",
     "text": [
      "out_results:\n",
      "tensor(1.1123, grad_fn=<AddBackward0>)\n"
     ]
    },
    {
     "name": "stderr",
     "output_type": "stream",
     "text": [
      "\n",
      "Iteration:  93%|████████████████████████████████████████████████████████████████▎    | 204/219 [35:00<02:34, 10.31s/it]\u001b[A"
     ]
    },
    {
     "name": "stdout",
     "output_type": "stream",
     "text": [
      "out_results:\n",
      "tensor(1.1002, grad_fn=<AddBackward0>)\n"
     ]
    },
    {
     "name": "stderr",
     "output_type": "stream",
     "text": [
      "\n",
      "Iteration:  94%|████████████████████████████████████████████████████████████████▌    | 205/219 [35:10<02:24, 10.32s/it]\u001b[A"
     ]
    },
    {
     "name": "stdout",
     "output_type": "stream",
     "text": [
      "out_results:\n",
      "tensor(1.1914, grad_fn=<AddBackward0>)\n"
     ]
    },
    {
     "name": "stderr",
     "output_type": "stream",
     "text": [
      "\n",
      "Iteration:  94%|████████████████████████████████████████████████████████████████▉    | 206/219 [35:21<02:14, 10.35s/it]\u001b[A"
     ]
    },
    {
     "name": "stdout",
     "output_type": "stream",
     "text": [
      "out_results:\n",
      "tensor(1.2651, grad_fn=<AddBackward0>)\n"
     ]
    },
    {
     "name": "stderr",
     "output_type": "stream",
     "text": [
      "\n",
      "Iteration:  95%|█████████████████████████████████████████████████████████████████▏   | 207/219 [35:31<02:04, 10.40s/it]\u001b[A"
     ]
    },
    {
     "name": "stdout",
     "output_type": "stream",
     "text": [
      "out_results:\n",
      "tensor(1.1340, grad_fn=<AddBackward0>)\n"
     ]
    },
    {
     "name": "stderr",
     "output_type": "stream",
     "text": [
      "\n",
      "Iteration:  95%|█████████████████████████████████████████████████████████████████▌   | 208/219 [35:42<01:56, 10.56s/it]\u001b[A"
     ]
    },
    {
     "name": "stdout",
     "output_type": "stream",
     "text": [
      "out_results:\n",
      "tensor(1.1492, grad_fn=<AddBackward0>)\n"
     ]
    },
    {
     "name": "stderr",
     "output_type": "stream",
     "text": [
      "\n",
      "Iteration:  95%|█████████████████████████████████████████████████████████████████▊   | 209/219 [35:52<01:44, 10.46s/it]\u001b[A"
     ]
    },
    {
     "name": "stdout",
     "output_type": "stream",
     "text": [
      "out_results:\n",
      "tensor(1.1991, grad_fn=<AddBackward0>)\n"
     ]
    },
    {
     "name": "stderr",
     "output_type": "stream",
     "text": [
      "\n",
      "Iteration:  96%|██████████████████████████████████████████████████████████████████▏  | 210/219 [36:03<01:33, 10.41s/it]\u001b[A"
     ]
    },
    {
     "name": "stdout",
     "output_type": "stream",
     "text": [
      "out_results:\n",
      "tensor(1.2694, grad_fn=<AddBackward0>)\n"
     ]
    },
    {
     "name": "stderr",
     "output_type": "stream",
     "text": [
      "\n",
      "Iteration:  96%|██████████████████████████████████████████████████████████████████▍  | 211/219 [36:13<01:23, 10.38s/it]\u001b[A"
     ]
    },
    {
     "name": "stdout",
     "output_type": "stream",
     "text": [
      "out_results:\n",
      "tensor(1.1883, grad_fn=<AddBackward0>)\n"
     ]
    },
    {
     "name": "stderr",
     "output_type": "stream",
     "text": [
      "\n",
      "Iteration:  97%|██████████████████████████████████████████████████████████████████▊  | 212/219 [36:23<01:12, 10.37s/it]\u001b[A"
     ]
    },
    {
     "name": "stdout",
     "output_type": "stream",
     "text": [
      "out_results:\n",
      "tensor(1.1944, grad_fn=<AddBackward0>)\n"
     ]
    },
    {
     "name": "stderr",
     "output_type": "stream",
     "text": [
      "\n",
      "Iteration:  97%|███████████████████████████████████████████████████████████████████  | 213/219 [36:34<01:02, 10.36s/it]\u001b[A"
     ]
    },
    {
     "name": "stdout",
     "output_type": "stream",
     "text": [
      "out_results:\n",
      "tensor(1.1482, grad_fn=<AddBackward0>)\n"
     ]
    },
    {
     "name": "stderr",
     "output_type": "stream",
     "text": [
      "\n",
      "Iteration:  98%|███████████████████████████████████████████████████████████████████▍ | 214/219 [36:44<00:51, 10.38s/it]\u001b[A"
     ]
    },
    {
     "name": "stdout",
     "output_type": "stream",
     "text": [
      "out_results:\n",
      "tensor(1.1058, grad_fn=<AddBackward0>)\n"
     ]
    },
    {
     "name": "stderr",
     "output_type": "stream",
     "text": [
      "\n",
      "Iteration:  98%|███████████████████████████████████████████████████████████████████▋ | 215/219 [36:54<00:41, 10.36s/it]\u001b[A"
     ]
    },
    {
     "name": "stdout",
     "output_type": "stream",
     "text": [
      "out_results:\n",
      "tensor(1.2499, grad_fn=<AddBackward0>)\n"
     ]
    },
    {
     "name": "stderr",
     "output_type": "stream",
     "text": [
      "\n",
      "Iteration:  99%|████████████████████████████████████████████████████████████████████ | 216/219 [37:04<00:30, 10.28s/it]\u001b[A"
     ]
    },
    {
     "name": "stdout",
     "output_type": "stream",
     "text": [
      "out_results:\n",
      "tensor(1.0663, grad_fn=<AddBackward0>)\n"
     ]
    },
    {
     "name": "stderr",
     "output_type": "stream",
     "text": [
      "\n",
      "Iteration:  99%|████████████████████████████████████████████████████████████████████▎| 217/219 [37:15<00:20, 10.28s/it]\u001b[A"
     ]
    },
    {
     "name": "stdout",
     "output_type": "stream",
     "text": [
      "out_results:\n",
      "tensor(1.2004, grad_fn=<AddBackward0>)\n"
     ]
    },
    {
     "name": "stderr",
     "output_type": "stream",
     "text": [
      "\n",
      "Iteration: 100%|████████████████████████████████████████████████████████████████████▋| 218/219 [37:25<00:10, 10.30s/it]\u001b[A"
     ]
    },
    {
     "name": "stdout",
     "output_type": "stream",
     "text": [
      "out_results:\n",
      "tensor(1.3088, grad_fn=<AddBackward0>)\n"
     ]
    },
    {
     "name": "stderr",
     "output_type": "stream",
     "text": [
      "\n",
      "Iteration: 100%|█████████████████████████████████████████████████████████████████████| 219/219 [37:35<00:00, 10.30s/it]\u001b[A\n",
      "Epoch: 100%|█████████████████████████████████████████████████████████████████████████| 3/3 [1:50:49<00:00, 2216.34s/it]\n"
     ]
    }
   ],
   "source": [
    "model.train()\n",
    "for _ in trange(int(num_train_epochs), desc=\"Epoch\"):\n",
    "    tr_loss = 0\n",
    "    nb_tr_examples, nb_tr_steps = 0, 0\n",
    "    for step, batch in enumerate(tqdm(train_dataloader, desc=\"Iteration\")):\n",
    "        batch = tuple(t.to(device) for t in batch)\n",
    "        input_ids, input_mask, segment_ids, label_ids, claim_input_ids, claim_input_mask, claim_segment_ids, claim_label_ids = batch\n",
    "#         ce_loss = model(input_ids, segment_ids, input_mask, label_ids)\n",
    "#         cos_loss = model(claim_input_ids, claim_segment_ids, claim_input_mask, claim_label_ids)\n",
    "        \n",
    "#         print(\"start\")\n",
    "#         print(input_ids)\n",
    "#         print(input_mask)\n",
    "#         print(segment_ids)\n",
    "#         print(label_ids)\n",
    "#         print(claim_input_ids)\n",
    "#         print(claim_input_mask)\n",
    "#         print(claim_segment_ids)\n",
    "#         print(claim_label_ids)\n",
    "#         print(\"end\")\n",
    "    \n",
    "        out_results = model(input_ids=input_ids, token_type_ids=segment_ids, attention_mask=input_mask, labels=label_ids, input_ids2=claim_input_ids, token_type_ids2=claim_segment_ids, attention_mask2=claim_input_mask, labels2=claim_label_ids)\n",
    "#         loss = ce_loss + cos_loss\n",
    "        print(\"out_results:\")\n",
    "        print(out_results)\n",
    "        loss = out_results\n",
    "#         print(cos_loss)\n",
    "#         print(loss.item())\n",
    "        if n_gpu > 1:\n",
    "            loss = loss.mean() # mean() to average on multi-gpu.\n",
    "#         if fp16 and loss_scale != 1.0:\n",
    "#             # rescale loss for fp16 training\n",
    "#             # see https://docs.nvidia.com/deeplearning/sdk/mixed-precision-training/index.html\n",
    "#             loss = loss * loss_scale\n",
    "        if gradient_accumulation_steps > 1:\n",
    "            loss = loss / gradient_accumulation_steps\n",
    "        loss.backward()\n",
    "        \n",
    "        tr_loss += loss.item()\n",
    "        nb_tr_examples += input_ids.size(0)\n",
    "        nb_tr_steps += 1\n",
    "        if (step + 1) % gradient_accumulation_steps == 0:\n",
    "#             if fp16 or optimize_on_cpu:\n",
    "#                 if fp16 and loss_scale != 1.0:\n",
    "#                     # scale down gradients for fp16 training\n",
    "#                     for param in model.parameters():\n",
    "#                         if param.grad is not None:\n",
    "#                             param.grad.data = param.grad.data / loss_scale           \n",
    "#                 is_nan = set_optimizer_params_grad(param_optimizer, model.named_parameters(), test_nan=True)\n",
    "#                 if is_nan:\n",
    "#                     logger.info(\"FP16 TRAINING: Nan in gradients, reducing loss scaling\")\n",
    "#                     loss_scale = loss_scale / 2\n",
    "#                     model.zero_grad()\n",
    "#                     continue \n",
    "#                 optimizer.step()\n",
    "# #                 scheduler.step()\n",
    "#                 copy_optimizer_params_to_model(model.named_parameters(), param_optimizer)\n",
    "#             else:\n",
    "#                 torch.nn.utils.clip_grad_norm_(model.parameters(), max_grad_norm)\n",
    "            optimizer.step()\n",
    "#                 scheduler.step()\n",
    "            model.zero_grad()\n",
    "            global_step += 1\n",
    "\n",
    "        \n",
    "## v2: concat\n",
    "## v3: multiply\n",
    "model_to_save = model.module if hasattr(model, 'module') else model\n",
    "torch.save(model.state_dict(), output_dir + \"consistencycues_v2.pth\")\n",
    "torch.save(model_to_save.state_dict(), output_dir + \"finetuned_consistencycues_v2.bin\")"
   ]
  },
  {
   "cell_type": "code",
   "execution_count": null,
   "metadata": {},
   "outputs": [],
   "source": []
  },
  {
   "cell_type": "code",
   "execution_count": 17,
   "metadata": {},
   "outputs": [],
   "source": [
    "import csv\n",
    "from pytorch_pretrained_bert.file_utils import PYTORCH_PRETRAINED_BERT_CACHE\n",
    "def train_and_test(data_dir, bert_model=\"bert-base-uncased\", task_name=None,\n",
    "                   output_dir=None, max_seq_length=32, do_train=False, do_eval=False, do_lower_case=False,\n",
    "                   train_batch_size=32, eval_batch_size=8, learning_rate=5e-5, num_train_epochs=3,\n",
    "                   warmup_proportion=0.1,no_cuda=False, local_rank=-1, seed=42, gradient_accumulation_steps=1,\n",
    "                   optimize_on_cpu=False, fp16=False, loss_scale=128, saved_model=\"\"):\n",
    "\n",
    "\n",
    "    # ## Required parameters\n",
    "    # parser.add_argument(\"--data_dir\",\n",
    "    #                     default=None,\n",
    "    #                     type=str,\n",
    "    #                     required=True,\n",
    "    #                     help=\"The input data dir. Should contain the .tsv files (or other data files) for the task.\")\n",
    "    # parser.add_argument(\"--bert_model\", default=None, type=str, required=True,\n",
    "    #                     help=\"Bert pre-trained model selected in the list: bert-base-uncased, \"\n",
    "    #                          \"bert-large-uncased, bert-base-cased, bert-base-multilingual, bert-base-chinese.\")\n",
    "    # parser.add_argument(\"--task_name\",\n",
    "    #                     default=None,\n",
    "    #                     type=str,\n",
    "    #                     required=True,\n",
    "    #                     help=\"The name of the task to train.\")\n",
    "    # parser.add_argument(\"--output_dir\",\n",
    "    #                     default=None,\n",
    "    #                     type=str,\n",
    "    #                     required=True,\n",
    "    #                     help=\"The output directory where the model checkpoints will be written.\")\n",
    "\n",
    "    ## Other parameters\n",
    "    # parser.add_argument(\"--max_seq_length\",\n",
    "    #                     default=128,\n",
    "    #                     type=int,\n",
    "    #                     help=\"The maximum total input sequence length after WordPiece tokenization. \\n\"\n",
    "    #                          \"Sequences longer than this will be truncated, and sequences shorter \\n\"\n",
    "    #                          \"than this will be padded.\")\n",
    "    # parser.add_argument(\"--do_train\",\n",
    "    #                     default=False,\n",
    "    #                     action='store_true',\n",
    "    #                     help=\"Whether to run training.\")\n",
    "    # parser.add_argument(\"--do_eval\",\n",
    "    #                     default=False,\n",
    "    #                     action='store_true',\n",
    "    #                     help=\"Whether to run eval on the dev set.\")\n",
    "    # parser.add_argument(\"--do_lower_case\",\n",
    "    #                     default=False,\n",
    "    #                     action='store_true',\n",
    "    #                     help=\"Set this flag if you are using an uncased model.\")\n",
    "    # parser.add_argument(\"--train_batch_size\",\n",
    "    #                     default=32,\n",
    "    #                     type=int,\n",
    "    #                     help=\"Total batch size for training.\")\n",
    "    # parser.add_argument(\"--eval_batch_size\",\n",
    "    #                     default=8,\n",
    "    #                     type=int,\n",
    "    #                     help=\"Total batch size for eval.\")\n",
    "    # parser.add_argument(\"--learning_rate\",\n",
    "    #                     default=5e-5,\n",
    "    #                     type=float,\n",
    "    #                     help=\"The initial learning rate for Adam.\")\n",
    "    # parser.add_argument(\"--num_train_epochs\",\n",
    "    #                     default=3.0,\n",
    "    #                     type=float,\n",
    "    #                     help=\"Total number of training epochs to perform.\")\n",
    "    # parser.add_argument(\"--warmup_proportion\",\n",
    "    #                     default=0.1,\n",
    "    #                     type=float,\n",
    "    #                     help=\"Proportion of training to perform linear learning rate warmup for. \"\n",
    "    #                          \"E.g., 0.1 = 10%% of training.\")\n",
    "    # parser.add_argument(\"--no_cuda\",\n",
    "    #                     default=False,\n",
    "    #                     action='store_true',\n",
    "    #                     help=\"Whether not to use CUDA when available\")\n",
    "    # parser.add_argument(\"--local_rank\",\n",
    "    #                     type=int,\n",
    "    #                     default=-1,\n",
    "    #                     help=\"local_rank for distributed training on gpus\")\n",
    "    # parser.add_argument('--seed',\n",
    "    #                     type=int,\n",
    "    #                     default=42,\n",
    "    #                     help=\"random seed for initialization\")\n",
    "    # parser.add_argument('--gradient_accumulation_steps',\n",
    "    #                     type=int,\n",
    "    #                     default=1,\n",
    "    #                     help=\"Number of updates steps to accumulate before performing a backward/update pass.\")\n",
    "    # parser.add_argument('--optimize_on_cpu',\n",
    "    #                     default=False,\n",
    "    #                     action='store_true',\n",
    "    #                     help=\"Whether to perform optimization and keep the optimizer averages on CPU\")\n",
    "    # parser.add_argument('--fp16',\n",
    "    #                     default=False,\n",
    "    #                     action='store_true',\n",
    "    #                     help=\"Whether to use 16-bit float precision instead of 32-bit\")\n",
    "    # parser.add_argument('--loss_scale',\n",
    "    #                     type=float, default=128,\n",
    "    #                     help='Loss scaling, positive power of 2 values can improve fp16 convergence.')\n",
    "\n",
    "    # args = parser.parse_args()\n",
    "\n",
    "    processors = {\n",
    "#         \"cola\": ColaProcessor,\n",
    "#         \"mnli\": MnliProcessor,\n",
    "        \"mrpc\": MrpcProcessor,\n",
    "    }\n",
    "\n",
    "    if local_rank == -1 or no_cuda:\n",
    "        device = torch.device(\"cuda\" if torch.cuda.is_available() and not no_cuda else \"cpu\")\n",
    "        n_gpu = torch.cuda.device_count()\n",
    "    else:\n",
    "        device = torch.device(\"cuda\", local_rank)\n",
    "        n_gpu = 1\n",
    "        # Initializes the distributed backend which will take care of sychronizing nodes/GPUs\n",
    "        torch.distributed.init_process_group(backend='nccl')\n",
    "        if fp16:\n",
    "            logger.info(\"16-bits training currently not supported in distributed training\")\n",
    "            fp16 = False # (see https://github.com/pytorch/pytorch/pull/13496)\n",
    "    logger.info(\"device %s n_gpu %d distributed training %r\", device, n_gpu, bool(local_rank != -1))\n",
    "\n",
    "    if gradient_accumulation_steps < 1:\n",
    "        raise ValueError(\"Invalid gradient_accumulation_steps parameter: {}, should be >= 1\".format(\n",
    "                            gradient_accumulation_steps))\n",
    "\n",
    "    train_batch_size = int(train_batch_size / gradient_accumulation_steps)\n",
    "\n",
    "    random.seed(seed)\n",
    "    np.random.seed(seed)\n",
    "    torch.manual_seed(seed)\n",
    "    if n_gpu > 0:\n",
    "        torch.cuda.manual_seed_all(seed)\n",
    "\n",
    "    if not do_train and not do_eval:\n",
    "        raise ValueError(\"At least one of `do_train` or `do_eval` must be True.\")\n",
    "\n",
    "    if do_train:\n",
    "        if os.path.exists(output_dir) and os.listdir(output_dir):\n",
    "            raise ValueError(\"Output directory ({}) already exists and is not emp1ty.\".format(output_dir))\n",
    "        os.makedirs(output_dir, exist_ok=True)\n",
    "\n",
    "    task_name = task_name.lower()\n",
    "\n",
    "    if task_name not in processors:\n",
    "        raise ValueError(\"Task not found: %s\" % (task_name))\n",
    "\n",
    "    processor = processors[task_name]()\n",
    "    label_list = processor.get_labels()\n",
    "\n",
    "#     tokenizer = BertTokenizer.from_pretrained(bert_model, do_lower_case=do_lower_case)\n",
    "    tokenizer = BertTokenizer.from_pretrained('bert-base-uncased')\n",
    "\n",
    "    train_examples = None\n",
    "    num_train_steps = None\n",
    "    if do_train:\n",
    "        train_examples = processor.get_train_examples(data_dir)\n",
    "        num_train_steps = int(\n",
    "            len(train_examples) / train_batch_size / gradient_accumulation_steps * num_train_epochs)\n",
    "\n",
    "    # Prepare model\n",
    "#     model = BertForSequenceClassification.from_pretrained(bert_model,\n",
    "#                 cache_dir=PYTORCH_PRETRAINED_BERT_CACHE / 'distributed_{}'.format(local_rank), num_labels = 2)\n",
    "\n",
    "        model = BertForConsistencyCueClassification.from_pretrained('bert-base-uncased', num_labels=2)\n",
    "        model.to(device)\n",
    "        if fp16:\n",
    "            model.half()\n",
    "\n",
    "        if local_rank != -1:\n",
    "            model = torch.nn.parallel.DistributedDataParallel(model, device_ids=[local_rank],\n",
    "                                                              output_device=local_rank)\n",
    "        elif n_gpu > 1:\n",
    "            model = torch.nn.DataParallel(model)\n",
    "\n",
    "        # Prepare optimizer\n",
    "        if fp16:\n",
    "            param_optimizer = [(n, param.clone().detach().to('cpu').float().requires_grad_()) \\\n",
    "                                for n, param in model.named_parameters()]\n",
    "        elif optimize_on_cpu:\n",
    "            param_optimizer = [(n, param.clone().detach().to('cpu').requires_grad_()) \\\n",
    "                                for n, param in model.named_parameters()]\n",
    "        else:\n",
    "            param_optimizer = list(model.named_parameters())\n",
    "        no_decay = ['bias', 'gamma', 'beta']\n",
    "        optimizer_grouped_parameters = [\n",
    "            {'params': [p for n, p in param_optimizer if not any(nd in n for nd in no_decay)], 'weight_decay_rate': 0.01},\n",
    "            {'params': [p for n, p in param_optimizer if any(nd in n for nd in no_decay)], 'weight_decay_rate': 0.0}\n",
    "            ]\n",
    "        t_total = num_train_steps\n",
    "#     print(t_total)\n",
    "    if local_rank != -1:\n",
    "        t_total = t_total // torch.distributed.get_world_size()\n",
    "    if do_train:\n",
    "        optimizer = BertAdam(optimizer_grouped_parameters,\n",
    "                         lr=learning_rate,\n",
    "                         warmup=warmup_proportion,\n",
    "                         t_total=t_total)\n",
    "\n",
    "    global_step = 0\n",
    "    if do_train:\n",
    "        train_features = convert_examples_to_features(\n",
    "            train_examples, label_list, max_seq_length, tokenizer)\n",
    "        logger.info(\"***** Running training *****\")\n",
    "        logger.info(\"  Num examples = %d\", len(train_examples))\n",
    "        logger.info(\"  Batch size = %d\", train_batch_size)\n",
    "        logger.info(\"  Num steps = %d\", num_train_steps)\n",
    "        all_input_ids = torch.tensor([f.input_ids for f in train_features], dtype=torch.long)\n",
    "        all_input_mask = torch.tensor([f.input_mask for f in train_features], dtype=torch.long)\n",
    "        all_segment_ids = torch.tensor([f.segment_ids for f in train_features], dtype=torch.long)\n",
    "        all_label_ids = torch.tensor([f.label_id for f in train_features], dtype=torch.long)\n",
    "        train_data = TensorDataset(all_input_ids, all_input_mask, all_segment_ids, all_label_ids)\n",
    "        if local_rank == -1:\n",
    "            train_sampler = RandomSampler(train_data)\n",
    "        else:\n",
    "            train_sampler = DistributedSampler(train_data)\n",
    "        train_dataloader = DataLoader(train_data, sampler=train_sampler, batch_size=train_batch_size)\n",
    "\n",
    "        model.train()\n",
    "        for _ in trange(int(num_train_epochs), desc=\"Epoch\"):\n",
    "            tr_loss = 0\n",
    "            nb_tr_examples, nb_tr_steps = 0, 0\n",
    "            for step, batch in enumerate(tqdm(train_dataloader, desc=\"Iteration\")):\n",
    "                batch = tuple(t.to(device) for t in batch)\n",
    "                input_ids, input_mask, segment_ids, label_ids, = batch\n",
    "                loss = model(input_ids, segment_ids, input_mask, label_ids)\n",
    "                if n_gpu > 1:\n",
    "                    loss = loss.mean() # mean() to average on multi-gpu.\n",
    "                if fp16 and loss_scale != 1.0:\n",
    "                    # rescale loss for fp16 training\n",
    "                    # see https://docs.nvidia.com/deeplearning/sdk/mixed-precision-training/index.html\n",
    "                    loss = loss * loss_scale\n",
    "                if gradient_accumulation_steps > 1:\n",
    "                    loss = loss / gradient_accumulation_steps\n",
    "                loss.backward()\n",
    "                tr_loss += loss.item()\n",
    "                nb_tr_examples += input_ids.size(0)\n",
    "                nb_tr_steps += 1\n",
    "                if (step + 1) % gradient_accumulation_steps == 0:\n",
    "                    if fp16 or optimize_on_cpu:\n",
    "                        if fp16 and loss_scale != 1.0:\n",
    "                            # scale down gradients for fp16 training\n",
    "                            for param in model.parameters():\n",
    "                                if param.grad is not None:\n",
    "                                    param.grad.data = param.grad.data / loss_scale\n",
    "                        is_nan = set_optimizer_params_grad(param_optimizer, model.named_parameters(), test_nan=True)\n",
    "                        if is_nan:\n",
    "                            logger.info(\"FP16 TRAINING: Nan in gradients, reducing loss scaling\")\n",
    "                            loss_scale = loss_scale / 2\n",
    "                            model.zero_grad()\n",
    "                            continue\n",
    "                        optimizer.step()\n",
    "                        copy_optimizer_params_to_model(model.named_parameters(), param_optimizer)\n",
    "                    else:\n",
    "                        optimizer.step()\n",
    "                    model.zero_grad()\n",
    "                    global_step += 1\n",
    "\n",
    "        torch.save(model.state_dict(), output_dir + \"output.pth\")\n",
    "\n",
    "\n",
    "    if do_eval and (local_rank == -1 or torch.distributed.get_rank() == 0):\n",
    "        eval_examples = processor.get_test_examples(data_dir)\n",
    "#         eval_examples = processor.get_dev_examples(data_dir)\n",
    "        eval_features = convert_examples_to_features(\n",
    "            eval_examples, label_list, max_seq_length, tokenizer)\n",
    "        claim_features = convert_claims_to_features(eval_examples, label_list, max_seq_length, tokenizer)    \n",
    "    \n",
    "        logger.info(\"***** Running evaluation *****\")\n",
    "        logger.info(\"  Num examples = %d\", len(eval_examples))\n",
    "        logger.info(\"  Batch size = %d\", eval_batch_size)\n",
    "        all_input_ids = torch.tensor([f.input_ids for f in eval_features], dtype=torch.long)\n",
    "        all_input_mask = torch.tensor([f.input_mask for f in eval_features], dtype=torch.long)\n",
    "        all_segment_ids = torch.tensor([f.segment_ids for f in eval_features], dtype=torch.long)\n",
    "        all_label_ids = torch.tensor([f.label_id for f in eval_features], dtype=torch.long)\n",
    "        \n",
    "        claims_input_ids = torch.tensor([f.input_ids for f in claim_features], dtype=torch.long)\n",
    "        claims_input_mask = torch.tensor([f.input_mask for f in claim_features], dtype=torch.long)\n",
    "        claims_segment_ids = torch.tensor([f.segment_ids for f in claim_features], dtype=torch.long)\n",
    "        claims_label_ids = torch.tensor([f.label_id for f in claim_features], dtype=torch.long)\n",
    "        \n",
    "        eval_data = TensorDataset(all_input_ids, all_input_mask, all_segment_ids, all_label_ids, claims_input_ids, claims_input_mask, claims_segment_ids, claims_label_ids)\n",
    "        # Run prediction for full data\n",
    "#         eval_sampler = SequentialSampler(eval_data)\n",
    "        eval_sampler = SequentialSampler(eval_data)\n",
    "        eval_dataloader = DataLoader(eval_data, sampler=eval_sampler, batch_size=eval_batch_size)\n",
    "#         print('all_input_ids:')\n",
    "#         print(all_input_ids)\n",
    "        \n",
    "        \n",
    "\n",
    "#         model.load_state_dict(torch.load(saved_model))\n",
    "        model_state_dict = torch.load(saved_model)\n",
    "        model = BertForConsistencyCueClassification.from_pretrained('bert-base-uncased', num_labels=2, state_dict=model_state_dict)\n",
    "        model.to(device)\n",
    "        \n",
    "        model.eval()\n",
    "        # eval_loss, eval_accuracy = 0, 0\n",
    "\n",
    "        eval_tp, eval_pred_c, eval_gold_c = 0, 0, 0\n",
    "        eval_loss, eval_macro_p, eval_macro_r = 0, 0, 0\n",
    "\n",
    "        raw_score = []\n",
    "\n",
    "        nb_eval_steps, nb_eval_examples = 0, 0\n",
    "        for input_ids, input_mask, segment_ids, label_ids, claim_input_ids, claim_input_mask, claim_segment_ids, claim_label_ids in eval_dataloader:\n",
    "            input_ids = input_ids.to(device)\n",
    "            input_mask = input_mask.to(device)\n",
    "            segment_ids = segment_ids.to(device)\n",
    "            label_ids = label_ids.to(device)\n",
    "            claim_input_ids = claim_input_ids.to(device)\n",
    "            claim_input_mask = claim_input_mask.to(device)\n",
    "            claim_segment_ids = claim_segment_ids.to(device)\n",
    "            claim_label_ids = claim_label_ids.to(device)\n",
    "\n",
    "#             print(\"start\")\n",
    "#             print(input_ids)\n",
    "#             print(input_mask)\n",
    "#             print(segment_ids)\n",
    "#             print(label_ids)\n",
    "#             print(claim_input_ids)\n",
    "#             print(claim_input_mask)\n",
    "#             print(claim_segment_ids)\n",
    "#             print(claim_label_ids)\n",
    "#             print(\"end\")\n",
    "            with torch.no_grad():\n",
    "                tmp_eval_loss = model(input_ids=input_ids, token_type_ids=segment_ids, attention_mask=input_mask, labels=label_ids, input_ids2=claim_input_ids, token_type_ids2=claim_segment_ids, attention_mask2=claim_input_mask, labels2=claim_label_ids)\n",
    "                \n",
    "                logits = model(input_ids=input_ids, token_type_ids=segment_ids, attention_mask=input_mask, input_ids2=claim_input_ids, token_type_ids2=claim_segment_ids, attention_mask2=claim_input_mask)\n",
    "            \n",
    "#             print(logits)\n",
    "#             print(logits[0])\n",
    "            logits = logits.detach().cpu().numpy()\n",
    "            print(logits)\n",
    "            label_ids = label_ids.to('cpu').numpy()\n",
    "#             print(label_ids)\n",
    "\n",
    "            # Micro F1 (aggregated tp, fp, fn counts across all examples)\n",
    "            tmp_tp, tmp_pred_c, tmp_gold_c = tp_pcount_gcount(logits, label_ids)\n",
    "            eval_tp += tmp_tp\n",
    "            eval_pred_c += tmp_pred_c\n",
    "            eval_gold_c += tmp_gold_c\n",
    "            \n",
    "            pred_label = np.argmax(logits, axis=1)\n",
    "            raw_score += zip(logits, pred_label, label_ids)\n",
    "            \n",
    "            # Macro F1 (averaged P, R across mini batches)\n",
    "            tmp_eval_p, tmp_eval_r, tmp_eval_f1 = p_r_f1(logits, label_ids)\n",
    "\n",
    "            eval_macro_p += tmp_eval_p\n",
    "            eval_macro_r += tmp_eval_r\n",
    "\n",
    "            eval_loss += tmp_eval_loss.mean().item()\n",
    "            nb_eval_examples += input_ids.size(0)\n",
    "            nb_eval_steps += 1\n",
    "\n",
    "\n",
    "        # Micro F1 (aggregated tp, fp, fn counts across all examples)\n",
    "        eval_micro_p = eval_tp / eval_pred_c\n",
    "        eval_micro_r = eval_tp / eval_gold_c\n",
    "        eval_micro_f1 = 2 * eval_micro_p * eval_micro_r / (eval_micro_p + eval_micro_r)\n",
    "\n",
    "        # Macro F1 (averaged P, R across mini batches)\n",
    "        eval_macro_p = eval_macro_p / nb_eval_steps\n",
    "        eval_macro_r = eval_macro_r / nb_eval_steps\n",
    "        eval_macro_f1 = 2 * eval_macro_p * eval_macro_r / (eval_macro_p + eval_macro_r)\n",
    "\n",
    "        eval_loss = eval_loss / nb_eval_steps\n",
    "        result = {\n",
    "                  'eval_loss': eval_loss,\n",
    "                  'eval_micro_p': eval_micro_p,\n",
    "                  'eval_micro_r': eval_micro_r,\n",
    "                  'eval_micro_f1': eval_micro_f1,\n",
    "                  'eval_macro_p': eval_macro_p,\n",
    "                  'eval_macro_r': eval_macro_r,\n",
    "                  'eval_macro_f1': eval_macro_f1,\n",
    "#                   'global_step': global_step,\n",
    "#                   'loss': tr_loss/nb_tr_steps\n",
    "                  }\n",
    "\n",
    "        output_eval_file = os.path.join(output_dir, \"v2_cos_test_eval_results.txt\")\n",
    "        output_raw_score = os.path.join(output_dir, \"v2_cos_test_raw_score.csv\")\n",
    "        with open(output_eval_file, \"w\") as writer:\n",
    "            logger.info(\"***** Eval results *****\")\n",
    "            for key in sorted(result.keys()):\n",
    "                logger.info(\"  %s = %s\", key, str(result[key]))\n",
    "                writer.write(\"%s = %s\\n\" % (key, str(result[key])))\n",
    "\n",
    "        with open(output_raw_score, 'w') as fout:\n",
    "            fields = [\"undermine_score\", \"support_score\",\"predict_label\", \"gold\"]\n",
    "            writer = csv.DictWriter(fout, fieldnames=fields)\n",
    "            writer.writeheader()\n",
    "            for score, pred, gold in raw_score:\n",
    "                writer.writerow({\n",
    "                    \"undermine_score\": str(score[0]),\n",
    "                    \"support_score\": str(score[1]),\n",
    "                    \"predict_label\": str(pred),\n",
    "                    \"gold\": str(gold)\n",
    "                })"
   ]
  },
  {
   "cell_type": "code",
   "execution_count": null,
   "metadata": {},
   "outputs": [],
   "source": []
  },
  {
   "cell_type": "code",
   "execution_count": null,
   "metadata": {},
   "outputs": [],
   "source": [
    "def experiments():\n",
    "    data_dir = \"D:/Jupyter/data/dataset/perspective_stances/\"\n",
    "#     data_dir = \"/home/syg340/Dataset/\"\n",
    "\n",
    "    # data_dir_output = data_dir + \"output2/\"\n",
    "    data_dir_output = \"D:/Projects/Stance/Models/\"\n",
    "    train_and_test(data_dir=data_dir, do_train=True, do_eval=True, output_dir=data_dir_output,task_name=\"Mrpc\")\n"
   ]
  },
  {
   "cell_type": "code",
   "execution_count": 18,
   "metadata": {},
   "outputs": [],
   "source": [
    "def evaluation_with_pretrained():\n",
    "    bert_model = \"D:/Projects/Stance/Models/Consistency_Cues/consistencycues_v2.pth\"\n",
    "    data_dir = \"D:/Jupyter/data/dataset/perspective_stances/\"\n",
    "    # data_dir_output = data_dir + \"output2/\"\n",
    "    data_dir_output = \"D:/Projects/Stance/Evaluation/bert_dummy_output/consistencycues_v2/\"\n",
    "    train_and_test(data_dir=data_dir, do_train=False, do_eval=True, output_dir=data_dir_output,task_name=\"mrpc\",saved_model=bert_model)"
   ]
  },
  {
   "cell_type": "code",
   "execution_count": 19,
   "metadata": {
    "scrolled": true
   },
   "outputs": [
    {
     "name": "stderr",
     "output_type": "stream",
     "text": [
      "04/22/2020 19:39:24 - INFO - run_classifier -   device cuda n_gpu 1 distributed training False\n",
      "04/22/2020 19:39:34 - INFO - transformers.tokenization_utils -   loading file https://s3.amazonaws.com/models.huggingface.co/bert/bert-base-uncased-vocab.txt from cache at C:\\Users\\arsen\\.cache\\torch\\transformers\\26bc1ad6c0ac742e9b52263248f6d0f00068293b33709fae12320c0e35ccfbbb.542ce4285a40d23a559526243235df47c5f75c197f04f37d1a0c124c32c9a084\n",
      "04/22/2020 19:39:34 - INFO - run_classifier -   *** Example ***\n",
      "04/22/2020 19:39:34 - INFO - run_classifier -   guid: test-1\n",
      "04/22/2020 19:39:34 - INFO - run_classifier -   tokens: [CLS] school day should be extended [SEP] lessons would feel less broken . [SEP]\n",
      "04/22/2020 19:39:34 - INFO - run_classifier -   input_ids: 101 2082 2154 2323 2022 3668 102 8220 2052 2514 2625 3714 1012 102 0 0 0 0 0 0 0 0 0 0 0 0 0 0 0 0 0 0\n",
      "04/22/2020 19:39:34 - INFO - run_classifier -   input_mask: 1 1 1 1 1 1 1 1 1 1 1 1 1 1 0 0 0 0 0 0 0 0 0 0 0 0 0 0 0 0 0 0\n",
      "04/22/2020 19:39:34 - INFO - run_classifier -   segment_ids: 0 0 0 0 0 0 0 1 1 1 1 1 1 1 0 0 0 0 0 0 0 0 0 0 0 0 0 0 0 0 0 0\n",
      "04/22/2020 19:39:34 - INFO - run_classifier -   label: 1 (id = 1)\n",
      "04/22/2020 19:39:34 - INFO - run_classifier -   *** Example ***\n",
      "04/22/2020 19:39:34 - INFO - run_classifier -   guid: test-2\n",
      "04/22/2020 19:39:34 - INFO - run_classifier -   tokens: [CLS] school day should be extended [SEP] not enough fund ##ng . . . [SEP]\n",
      "04/22/2020 19:39:34 - INFO - run_classifier -   input_ids: 101 2082 2154 2323 2022 3668 102 2025 2438 4636 3070 1012 1012 1012 102 0 0 0 0 0 0 0 0 0 0 0 0 0 0 0 0 0\n",
      "04/22/2020 19:39:34 - INFO - run_classifier -   input_mask: 1 1 1 1 1 1 1 1 1 1 1 1 1 1 1 0 0 0 0 0 0 0 0 0 0 0 0 0 0 0 0 0\n",
      "04/22/2020 19:39:34 - INFO - run_classifier -   segment_ids: 0 0 0 0 0 0 0 1 1 1 1 1 1 1 1 0 0 0 0 0 0 0 0 0 0 0 0 0 0 0 0 0\n",
      "04/22/2020 19:39:34 - INFO - run_classifier -   label: 0 (id = 0)\n",
      "04/22/2020 19:39:34 - INFO - run_classifier -   *** Example ***\n",
      "04/22/2020 19:39:34 - INFO - run_classifier -   guid: test-3\n",
      "04/22/2020 19:39:34 - INFO - run_classifier -   tokens: [CLS] school day should be extended [SEP] so much easier for parents ! [SEP]\n",
      "04/22/2020 19:39:34 - INFO - run_classifier -   input_ids: 101 2082 2154 2323 2022 3668 102 2061 2172 6082 2005 3008 999 102 0 0 0 0 0 0 0 0 0 0 0 0 0 0 0 0 0 0\n",
      "04/22/2020 19:39:34 - INFO - run_classifier -   input_mask: 1 1 1 1 1 1 1 1 1 1 1 1 1 1 0 0 0 0 0 0 0 0 0 0 0 0 0 0 0 0 0 0\n",
      "04/22/2020 19:39:34 - INFO - run_classifier -   segment_ids: 0 0 0 0 0 0 0 1 1 1 1 1 1 1 0 0 0 0 0 0 0 0 0 0 0 0 0 0 0 0 0 0\n",
      "04/22/2020 19:39:34 - INFO - run_classifier -   label: 1 (id = 1)\n",
      "04/22/2020 19:39:34 - INFO - run_classifier -   *** Example ***\n",
      "04/22/2020 19:39:34 - INFO - run_classifier -   guid: test-4\n",
      "04/22/2020 19:39:34 - INFO - run_classifier -   tokens: [CLS] school day should be extended [SEP] less need for homework . [SEP]\n",
      "04/22/2020 19:39:34 - INFO - run_classifier -   input_ids: 101 2082 2154 2323 2022 3668 102 2625 2342 2005 19453 1012 102 0 0 0 0 0 0 0 0 0 0 0 0 0 0 0 0 0 0 0\n",
      "04/22/2020 19:39:34 - INFO - run_classifier -   input_mask: 1 1 1 1 1 1 1 1 1 1 1 1 1 0 0 0 0 0 0 0 0 0 0 0 0 0 0 0 0 0 0 0\n",
      "04/22/2020 19:39:34 - INFO - run_classifier -   segment_ids: 0 0 0 0 0 0 0 1 1 1 1 1 1 0 0 0 0 0 0 0 0 0 0 0 0 0 0 0 0 0 0 0\n",
      "04/22/2020 19:39:34 - INFO - run_classifier -   label: 1 (id = 1)\n",
      "04/22/2020 19:39:34 - INFO - run_classifier -   *** Example ***\n",
      "04/22/2020 19:39:34 - INFO - run_classifier -   guid: test-5\n",
      "04/22/2020 19:39:34 - INFO - run_classifier -   tokens: [CLS] school day should be extended [SEP] time to finish activities [SEP]\n",
      "04/22/2020 19:39:34 - INFO - run_classifier -   input_ids: 101 2082 2154 2323 2022 3668 102 2051 2000 3926 3450 102 0 0 0 0 0 0 0 0 0 0 0 0 0 0 0 0 0 0 0 0\n",
      "04/22/2020 19:39:34 - INFO - run_classifier -   input_mask: 1 1 1 1 1 1 1 1 1 1 1 1 0 0 0 0 0 0 0 0 0 0 0 0 0 0 0 0 0 0 0 0\n",
      "04/22/2020 19:39:34 - INFO - run_classifier -   segment_ids: 0 0 0 0 0 0 0 1 1 1 1 1 0 0 0 0 0 0 0 0 0 0 0 0 0 0 0 0 0 0 0 0\n",
      "04/22/2020 19:39:34 - INFO - run_classifier -   label: 1 (id = 1)\n",
      "04/22/2020 19:39:35 - INFO - run_classifier -   *** Claim Example ***\n",
      "04/22/2020 19:39:35 - INFO - run_classifier -   guid: test-1\n",
      "04/22/2020 19:39:35 - INFO - run_classifier -   tokens: [CLS] school day should be extended [SEP]\n",
      "04/22/2020 19:39:35 - INFO - run_classifier -   input_ids: 101 2082 2154 2323 2022 3668 102 0 0 0 0 0 0 0 0 0 0 0 0 0 0 0 0 0 0 0 0 0 0 0 0 0\n",
      "04/22/2020 19:39:35 - INFO - run_classifier -   input_mask: 1 1 1 1 1 1 1 0 0 0 0 0 0 0 0 0 0 0 0 0 0 0 0 0 0 0 0 0 0 0 0 0\n",
      "04/22/2020 19:39:35 - INFO - run_classifier -   segment_ids: 0 0 0 0 0 0 0 0 0 0 0 0 0 0 0 0 0 0 0 0 0 0 0 0 0 0 0 0 0 0 0 0\n",
      "04/22/2020 19:39:35 - INFO - run_classifier -   label: 1 (id = 1)\n",
      "04/22/2020 19:39:35 - INFO - run_classifier -   *** Claim Example ***\n",
      "04/22/2020 19:39:35 - INFO - run_classifier -   guid: test-2\n",
      "04/22/2020 19:39:35 - INFO - run_classifier -   tokens: [CLS] school day should be extended [SEP]\n",
      "04/22/2020 19:39:35 - INFO - run_classifier -   input_ids: 101 2082 2154 2323 2022 3668 102 0 0 0 0 0 0 0 0 0 0 0 0 0 0 0 0 0 0 0 0 0 0 0 0 0\n",
      "04/22/2020 19:39:35 - INFO - run_classifier -   input_mask: 1 1 1 1 1 1 1 0 0 0 0 0 0 0 0 0 0 0 0 0 0 0 0 0 0 0 0 0 0 0 0 0\n",
      "04/22/2020 19:39:35 - INFO - run_classifier -   segment_ids: 0 0 0 0 0 0 0 0 0 0 0 0 0 0 0 0 0 0 0 0 0 0 0 0 0 0 0 0 0 0 0 0\n",
      "04/22/2020 19:39:35 - INFO - run_classifier -   label: 0 (id = 0)\n",
      "04/22/2020 19:39:35 - INFO - run_classifier -   *** Claim Example ***\n",
      "04/22/2020 19:39:35 - INFO - run_classifier -   guid: test-3\n",
      "04/22/2020 19:39:35 - INFO - run_classifier -   tokens: [CLS] school day should be extended [SEP]\n",
      "04/22/2020 19:39:35 - INFO - run_classifier -   input_ids: 101 2082 2154 2323 2022 3668 102 0 0 0 0 0 0 0 0 0 0 0 0 0 0 0 0 0 0 0 0 0 0 0 0 0\n",
      "04/22/2020 19:39:35 - INFO - run_classifier -   input_mask: 1 1 1 1 1 1 1 0 0 0 0 0 0 0 0 0 0 0 0 0 0 0 0 0 0 0 0 0 0 0 0 0\n",
      "04/22/2020 19:39:35 - INFO - run_classifier -   segment_ids: 0 0 0 0 0 0 0 0 0 0 0 0 0 0 0 0 0 0 0 0 0 0 0 0 0 0 0 0 0 0 0 0\n",
      "04/22/2020 19:39:35 - INFO - run_classifier -   label: 1 (id = 1)\n",
      "04/22/2020 19:39:35 - INFO - run_classifier -   *** Claim Example ***\n",
      "04/22/2020 19:39:35 - INFO - run_classifier -   guid: test-4\n",
      "04/22/2020 19:39:35 - INFO - run_classifier -   tokens: [CLS] school day should be extended [SEP]\n",
      "04/22/2020 19:39:35 - INFO - run_classifier -   input_ids: 101 2082 2154 2323 2022 3668 102 0 0 0 0 0 0 0 0 0 0 0 0 0 0 0 0 0 0 0 0 0 0 0 0 0\n",
      "04/22/2020 19:39:35 - INFO - run_classifier -   input_mask: 1 1 1 1 1 1 1 0 0 0 0 0 0 0 0 0 0 0 0 0 0 0 0 0 0 0 0 0 0 0 0 0\n",
      "04/22/2020 19:39:35 - INFO - run_classifier -   segment_ids: 0 0 0 0 0 0 0 0 0 0 0 0 0 0 0 0 0 0 0 0 0 0 0 0 0 0 0 0 0 0 0 0\n",
      "04/22/2020 19:39:35 - INFO - run_classifier -   label: 1 (id = 1)\n",
      "04/22/2020 19:39:35 - INFO - run_classifier -   *** Claim Example ***\n",
      "04/22/2020 19:39:35 - INFO - run_classifier -   guid: test-5\n",
      "04/22/2020 19:39:35 - INFO - run_classifier -   tokens: [CLS] school day should be extended [SEP]\n",
      "04/22/2020 19:39:35 - INFO - run_classifier -   input_ids: 101 2082 2154 2323 2022 3668 102 0 0 0 0 0 0 0 0 0 0 0 0 0 0 0 0 0 0 0 0 0 0 0 0 0\n",
      "04/22/2020 19:39:35 - INFO - run_classifier -   input_mask: 1 1 1 1 1 1 1 0 0 0 0 0 0 0 0 0 0 0 0 0 0 0 0 0 0 0 0 0 0 0 0 0\n",
      "04/22/2020 19:39:35 - INFO - run_classifier -   segment_ids: 0 0 0 0 0 0 0 0 0 0 0 0 0 0 0 0 0 0 0 0 0 0 0 0 0 0 0 0 0 0 0 0\n",
      "04/22/2020 19:39:35 - INFO - run_classifier -   label: 1 (id = 1)\n",
      "04/22/2020 19:39:36 - INFO - run_classifier -   ***** Running evaluation *****\n",
      "04/22/2020 19:39:36 - INFO - run_classifier -     Num examples = 2773\n",
      "04/22/2020 19:39:36 - INFO - run_classifier -     Batch size = 8\n",
      "04/22/2020 19:39:46 - INFO - pytorch_pretrained_bert.modeling -   loading archive file https://s3.amazonaws.com/models.huggingface.co/bert/bert-base-uncased.tar.gz from cache at C:\\Users\\arsen\\.pytorch_pretrained_bert\\9c41111e2de84547a463fd39217199738d1e3deb72d4fec4399e6e241983c6f0.ae3cef932725ca7a30cdcb93fc6e09150a55e2a130ec7af63975a16c153ae2ba\n",
      "04/22/2020 19:39:46 - INFO - pytorch_pretrained_bert.modeling -   extracting archive file C:\\Users\\arsen\\.pytorch_pretrained_bert\\9c41111e2de84547a463fd39217199738d1e3deb72d4fec4399e6e241983c6f0.ae3cef932725ca7a30cdcb93fc6e09150a55e2a130ec7af63975a16c153ae2ba to temp dir C:\\Users\\arsen\\AppData\\Local\\Temp\\tmpe01pgjjl\n"
     ]
    },
    {
     "name": "stderr",
     "output_type": "stream",
     "text": [
      "04/22/2020 19:39:50 - INFO - pytorch_pretrained_bert.modeling -   Model config {\n",
      "  \"attention_probs_dropout_prob\": 0.1,\n",
      "  \"hidden_act\": \"gelu\",\n",
      "  \"hidden_dropout_prob\": 0.1,\n",
      "  \"hidden_size\": 768,\n",
      "  \"initializer_range\": 0.02,\n",
      "  \"intermediate_size\": 3072,\n",
      "  \"max_position_embeddings\": 512,\n",
      "  \"num_attention_heads\": 12,\n",
      "  \"num_hidden_layers\": 12,\n",
      "  \"type_vocab_size\": 2,\n",
      "  \"vocab_size\": 30522\n",
      "}\n",
      "\n"
     ]
    },
    {
     "name": "stdout",
     "output_type": "stream",
     "text": [
      "[[0.02757077 0.06134389]\n",
      " [0.02713868 0.06098773]\n",
      " [0.0278237  0.06155682]\n",
      " [0.02728152 0.06113363]\n",
      " [0.02786915 0.06158713]\n",
      " [0.02740592 0.06130283]\n",
      " [0.02737707 0.06128296]\n",
      " [0.02743793 0.06131595]]\n",
      "[[0.02737707 0.06128296]\n",
      " [0.02744833 0.06133892]\n",
      " [0.02765343 0.06144677]\n",
      " [0.02724222 0.06124343]\n",
      " [0.02738165 0.06131487]\n",
      " [0.02771493 0.0614736 ]\n",
      " [0.02740565 0.0612638 ]\n",
      " [0.02669338 0.06070651]]\n",
      "[[0.02627377 0.06028965]\n",
      " [0.02740565 0.0612638 ]\n",
      " [0.0267258  0.06077848]\n",
      " [0.02655144 0.06060684]\n",
      " [0.02678088 0.06081258]\n",
      " [0.02776755 0.0615287 ]\n",
      " [0.02689988 0.06084486]\n",
      " [0.02603649 0.06016422]]\n",
      "[[0.02699962 0.06095719]\n",
      " [0.02760423 0.06142547]\n",
      " [0.02691762 0.06088084]\n",
      " [0.02676786 0.06076279]\n",
      " [0.02771119 0.06156154]\n",
      " [0.02663966 0.06072383]\n",
      " [0.02757777 0.06142407]\n",
      " [0.02764289 0.06145168]]\n",
      "[[0.02780323 0.06156635]\n",
      " [0.02715397 0.06108315]\n",
      " [0.02766122 0.06144579]\n",
      " [0.02742015 0.06124038]\n",
      " [0.02728621 0.06115812]\n",
      " [0.02677694 0.06069202]\n",
      " [0.02716296 0.06093471]\n",
      " [0.02746912 0.061292  ]]\n",
      "[[0.0274245  0.06125706]\n",
      " [0.02775675 0.06149192]\n",
      " [0.02647322 0.06055136]\n",
      " [0.02783199 0.06152349]\n",
      " [0.02757321 0.06138659]\n",
      " [0.028462   0.06201172]\n",
      " [0.02828051 0.06191836]\n",
      " [0.02847889 0.06199797]]\n",
      "[[0.02827806 0.06184926]\n",
      " [0.02792845 0.06166099]\n",
      " [0.0282745  0.06188438]\n",
      " [0.02798857 0.06172878]\n",
      " [0.02752057 0.06137032]\n",
      " [0.02743949 0.06133047]\n",
      " [0.02833397 0.06191529]\n",
      " [0.0280113  0.06169906]]\n",
      "[[0.02798056 0.06167284]\n",
      " [0.02833324 0.0619005 ]\n",
      " [0.02754204 0.06134811]\n",
      " [0.02825305 0.06185702]\n",
      " [0.027943   0.06166787]\n",
      " [0.02791943 0.06158424]\n",
      " [0.02824559 0.0618534 ]\n",
      " [0.02801182 0.06168711]]\n",
      "[[0.0279909  0.06165529]\n",
      " [0.02823765 0.06184728]\n",
      " [0.02815152 0.0617823 ]\n",
      " [0.02778303 0.06157687]\n",
      " [0.02748713 0.06132523]\n",
      " [0.02788666 0.06161974]\n",
      " [0.02823858 0.06184938]\n",
      " [0.02806622 0.06171079]]\n",
      "[[0.02756457 0.06137877]\n",
      " [0.0277827  0.06154465]\n",
      " [0.02750216 0.06136295]\n",
      " [0.02655256 0.06051344]\n",
      " [0.02813083 0.06180898]\n",
      " [0.02785164 0.061612  ]\n",
      " [0.02781283 0.06152271]\n",
      " [0.02779358 0.06152825]]\n",
      "[[0.02827783 0.06185265]\n",
      " [0.02789913 0.06159944]\n",
      " [0.02871084 0.0621057 ]\n",
      " [0.02816765 0.06177953]\n",
      " [0.02792459 0.06163744]\n",
      " [0.02750064 0.06133878]\n",
      " [0.0275864  0.06138557]\n",
      " [0.02775888 0.06149673]]\n",
      "[[0.02840533 0.06193902]\n",
      " [0.02873334 0.06213052]\n",
      " [0.02821609 0.06176515]\n",
      " [0.02773717 0.06149464]\n",
      " [0.02803681 0.06182252]\n",
      " [0.02795789 0.06176797]\n",
      " [0.02786079 0.06168363]\n",
      " [0.02766736 0.0614974 ]]\n",
      "[[0.02790445 0.06174564]\n",
      " [0.02701988 0.06097376]\n",
      " [0.02728845 0.06120609]\n",
      " [0.02838385 0.06200836]\n",
      " [0.02834329 0.06198201]\n",
      " [0.02797634 0.06176845]\n",
      " [0.02674526 0.06084942]\n",
      " [0.02693442 0.06100119]]\n",
      "[[0.0271833  0.06117092]\n",
      " [0.02748642 0.06146106]\n",
      " [0.0281443  0.06181359]\n",
      " [0.02810248 0.06182194]\n",
      " [0.02765117 0.06146814]\n",
      " [0.02748316 0.0612399 ]\n",
      " [0.02784666 0.06165908]\n",
      " [0.02682759 0.06089912]]\n",
      "[[0.02750351 0.06137076]\n",
      " [0.02696523 0.06092869]\n",
      " [0.02872307 0.0621457 ]\n",
      " [0.02863907 0.06211554]\n",
      " [0.02768042 0.06146445]\n",
      " [0.02780342 0.06155381]\n",
      " [0.02730918 0.06121671]\n",
      " [0.02632093 0.06056826]]\n",
      "[[0.02697045 0.06098731]\n",
      " [0.02664332 0.06080611]\n",
      " [0.02732131 0.06122876]\n",
      " [0.027534   0.06134916]\n",
      " [0.02703555 0.06099396]\n",
      " [0.02747862 0.0613396 ]\n",
      " [0.02805218 0.06175873]\n",
      " [0.02710554 0.06104181]]\n",
      "[[0.02674859 0.06081878]\n",
      " [0.02743004 0.06131043]\n",
      " [0.02710479 0.06102503]\n",
      " [0.02669584 0.06073375]\n",
      " [0.0270043  0.0609858 ]\n",
      " [0.0272096  0.0610952 ]\n",
      " [0.02755592 0.06132508]\n",
      " [0.02726786 0.06113601]]\n",
      "[[0.02689862 0.06083879]\n",
      " [0.02696726 0.06102495]\n",
      " [0.02668033 0.06076857]\n",
      " [0.0269514  0.06103989]\n",
      " [0.02659335 0.0606789 ]\n",
      " [0.02633695 0.06046771]\n",
      " [0.02756208 0.06142077]\n",
      " [0.02649295 0.06064685]]\n",
      "[[0.02677623 0.06085999]\n",
      " [0.02657206 0.06062569]\n",
      " [0.02658992 0.06063094]\n",
      " [0.02681162 0.06083769]\n",
      " [0.02674397 0.06077375]\n",
      " [0.0269252  0.06091976]\n",
      " [0.02645927 0.06058274]\n",
      " [0.02695304 0.06094524]]\n",
      "[[0.02678365 0.06084336]\n",
      " [0.02691789 0.06090884]\n",
      " [0.0269787  0.06092051]\n",
      " [0.02674988 0.06084601]\n",
      " [0.02741998 0.06123994]\n",
      " [0.02710112 0.06097715]\n",
      " [0.02751355 0.06134716]\n",
      " [0.02675689 0.06079148]]\n",
      "[[0.02662303 0.06069525]\n",
      " [0.02674665 0.06085762]\n",
      " [0.02670523 0.06078489]\n",
      " [0.02755189 0.06136635]\n",
      " [0.02713638 0.06109993]\n",
      " [0.02742062 0.06125595]\n",
      " [0.02807689 0.06171464]\n",
      " [0.02686599 0.0608982 ]]\n",
      "[[0.02667314 0.06074192]\n",
      " [0.02617794 0.06036339]\n",
      " [0.02702868 0.06106422]\n",
      " [0.02690833 0.06091824]\n",
      " [0.02824117 0.06185241]\n",
      " [0.02660405 0.06073863]\n",
      " [0.02735231 0.0612007 ]\n",
      " [0.0274303  0.06130332]]\n",
      "[[0.02721133 0.06116926]\n",
      " [0.02724945 0.06118087]\n",
      " [0.02720867 0.06110803]\n",
      " [0.02771145 0.06150318]\n",
      " [0.02777644 0.06160444]\n",
      " [0.0279288  0.06167135]\n",
      " [0.02860088 0.06206123]\n",
      " [0.02757543 0.06129805]]\n",
      "[[0.02722464 0.06109519]\n",
      " [0.02834686 0.06190784]\n",
      " [0.02781044 0.06155007]\n",
      " [0.02822814 0.0618921 ]\n",
      " [0.02792814 0.06162399]\n",
      " [0.02865    0.06208785]\n",
      " [0.02823804 0.06180431]\n",
      " [0.02829128 0.06186958]]\n",
      "[[0.02841654 0.06192034]\n",
      " [0.02848694 0.06195806]\n",
      " [0.02809353 0.06175361]\n",
      " [0.02800066 0.06172717]\n",
      " [0.02813965 0.06177508]\n",
      " [0.02722033 0.06105837]\n",
      " [0.02747165 0.06126044]\n",
      " [0.02830714 0.06189515]]\n",
      "[[0.02861632 0.06206505]\n",
      " [0.02863153 0.0621017 ]\n",
      " [0.02695857 0.06090796]\n",
      " [0.02693197 0.06086044]\n",
      " [0.02737946 0.06119509]\n",
      " [0.02710235 0.06099662]\n",
      " [0.02784825 0.06157094]\n",
      " [0.02738946 0.06124428]]\n",
      "[[0.02700973 0.06088772]\n",
      " [0.02743044 0.06112419]\n",
      " [0.02712456 0.06090969]\n",
      " [0.02816676 0.06170346]\n",
      " [0.02835431 0.06183553]\n",
      " [0.02825006 0.06183071]\n",
      " [0.02840621 0.06186086]\n",
      " [0.02827879 0.06181302]]\n",
      "[[0.02872086 0.06211251]\n",
      " [0.02873393 0.0621347 ]\n",
      " [0.02809129 0.0617196 ]\n",
      " [0.02868949 0.06212734]\n",
      " [0.02828779 0.06186749]\n",
      " [0.02827955 0.06189023]\n",
      " [0.02786696 0.06162608]\n",
      " [0.02826351 0.06185298]]\n",
      "[[0.02811564 0.06174397]\n",
      " [0.02826823 0.0618037 ]\n",
      " [0.02839294 0.06191896]\n",
      " [0.02843226 0.06197353]\n",
      " [0.02837801 0.06194382]\n",
      " [0.02714854 0.06098938]\n",
      " [0.02855701 0.0620416 ]\n",
      " [0.02857386 0.06202378]]\n",
      "[[0.02846346 0.06198714]\n",
      " [0.02742544 0.06119322]\n",
      " [0.02766633 0.06137035]\n",
      " [0.02830916 0.06189013]\n",
      " [0.02703271 0.06089147]\n",
      " [0.02706997 0.06092757]\n",
      " [0.02834775 0.06189816]\n",
      " [0.02778079 0.06146643]]\n",
      "[[0.027654   0.06135811]\n",
      " [0.0278067  0.0614996 ]\n",
      " [0.02813865 0.06175197]\n",
      " [0.02762061 0.0613571 ]\n",
      " [0.0275701  0.06131199]\n",
      " [0.02796252 0.06161935]\n",
      " [0.02804966 0.06167922]\n",
      " [0.02804315 0.06166406]]\n",
      "[[0.02792647 0.06154854]\n",
      " [0.02791099 0.06158074]\n",
      " [0.02765417 0.06140605]\n",
      " [0.02819385 0.06176095]\n",
      " [0.02799343 0.06160899]\n",
      " [0.02712097 0.06100088]\n",
      " [0.02731455 0.06108189]\n",
      " [0.027489   0.06130033]]\n",
      "[[0.0277117  0.06140266]\n",
      " [0.02732999 0.06115958]\n",
      " [0.02696611 0.06087074]\n",
      " [0.02723803 0.06107294]\n",
      " [0.02741678 0.06119833]\n",
      " [0.02794934 0.06160767]\n",
      " [0.02757996 0.06132583]\n",
      " [0.02759189 0.06133736]]\n",
      "[[0.02776214 0.06143252]\n",
      " [0.02751838 0.06130273]\n",
      " [0.02749645 0.06126618]\n",
      " [0.02735568 0.0611931 ]\n",
      " [0.02726953 0.06109359]\n",
      " [0.02726712 0.06111778]\n",
      " [0.02742241 0.06120655]\n",
      " [0.02779927 0.06149427]]\n",
      "[[0.02769925 0.06140174]\n",
      " [0.02843625 0.06194354]\n",
      " [0.02811451 0.06181685]\n",
      " [0.02782575 0.06163378]\n",
      " [0.0276721  0.06153024]\n",
      " [0.02829896 0.06189702]\n",
      " [0.02812665 0.06182379]\n",
      " [0.02799417 0.06173844]]\n",
      "[[0.02820729 0.06184079]\n",
      " [0.02813049 0.06175182]\n",
      " [0.02776115 0.06153186]\n",
      " [0.02770132 0.06148027]\n",
      " [0.02741085 0.06121416]\n",
      " [0.02819433 0.061808  ]\n",
      " [0.02802728 0.06171755]\n",
      " [0.02762185 0.06147566]]\n",
      "[[0.02800133 0.06174631]\n",
      " [0.02780645 0.06152934]\n",
      " [0.02791438 0.0616359 ]\n",
      " [0.02809514 0.06173119]\n",
      " [0.02821288 0.06181714]\n",
      " [0.02806429 0.06172291]\n",
      " [0.0279466  0.06165887]\n",
      " [0.0278529  0.06155734]]\n",
      "[[0.02832293 0.06189195]\n",
      " [0.0281891  0.06177776]\n",
      " [0.02673015 0.06064291]\n",
      " [0.0267739  0.06068192]\n",
      " [0.0273515  0.0611239 ]\n",
      " [0.02812097 0.06177592]\n",
      " [0.0280145  0.06166908]\n",
      " [0.02672743 0.0607095 ]]\n",
      "[[0.02683447 0.06076171]\n",
      " [0.0282323  0.06183345]\n",
      " [0.02796495 0.061584  ]\n",
      " [0.02831667 0.06184175]\n",
      " [0.02842673 0.06196543]\n",
      " [0.02841263 0.06196467]\n",
      " [0.02754369 0.06132764]\n",
      " [0.02760657 0.06135174]]\n",
      "[[0.0276919  0.06145538]\n",
      " [0.02756782 0.06138021]\n",
      " [0.02706815 0.06095325]\n",
      " [0.02748447 0.06126615]\n",
      " [0.02792434 0.06161518]\n",
      " [0.02729234 0.06116545]\n",
      " [0.02697368 0.06087995]\n",
      " [0.02709012 0.06095103]]\n",
      "[[0.02759249 0.0613782 ]\n",
      " [0.02752314 0.06132936]\n",
      " [0.02732908 0.06115872]\n",
      " [0.02757471 0.06135523]\n",
      " [0.02757427 0.06139707]\n",
      " [0.0273937  0.06120275]\n",
      " [0.027611   0.06136819]\n"
     ]
    },
    {
     "name": "stdout",
     "output_type": "stream",
     "text": [
      " [0.02734802 0.06113138]]\n",
      "[[0.02735266 0.06115266]\n",
      " [0.02747591 0.06121114]\n",
      " [0.02743338 0.06130954]\n",
      " [0.02722416 0.06111963]\n",
      " [0.02757449 0.06134263]\n",
      " [0.02788743 0.06157908]\n",
      " [0.02760597 0.06135048]\n",
      " [0.02700377 0.06088993]]\n",
      "[[0.02750641 0.06126168]\n",
      " [0.02721461 0.06108706]\n",
      " [0.02755975 0.06132937]\n",
      " [0.02731386 0.06119527]\n",
      " [0.02773302 0.06147191]\n",
      " [0.02775267 0.0614167 ]\n",
      " [0.0274356  0.0612188 ]\n",
      " [0.02753618 0.0612939 ]]\n",
      "[[0.02782558 0.0615286 ]\n",
      " [0.02846155 0.06199042]\n",
      " [0.02778013 0.06153672]\n",
      " [0.02704265 0.0609156 ]\n",
      " [0.02784554 0.06156242]\n",
      " [0.02772525 0.06149649]\n",
      " [0.02795145 0.06160818]\n",
      " [0.02830652 0.06189219]]\n",
      "[[0.02778561 0.06150138]\n",
      " [0.02750823 0.06130397]\n",
      " [0.02761621 0.06140834]\n",
      " [0.02792357 0.06159457]\n",
      " [0.02756804 0.0613194 ]\n",
      " [0.02809251 0.06168104]\n",
      " [0.02805372 0.06165577]\n",
      " [0.0280677  0.0616478 ]]\n",
      "[[0.02777005 0.0614792 ]\n",
      " [0.02764548 0.06130407]\n",
      " [0.0282584  0.0618045 ]\n",
      " [0.02765109 0.06138132]\n",
      " [0.02775617 0.0614311 ]\n",
      " [0.02798808 0.06161184]\n",
      " [0.02811839 0.06169784]\n",
      " [0.02821405 0.06174086]]\n",
      "[[0.02797585 0.0615834 ]\n",
      " [0.02782357 0.06146034]\n",
      " [0.02772128 0.06142846]\n",
      " [0.02767862 0.06136233]\n",
      " [0.0278188  0.06144585]\n",
      " [0.02811796 0.061676  ]\n",
      " [0.02836056 0.06184778]\n",
      " [0.02848262 0.06193901]]\n",
      "[[0.02802086 0.06161289]\n",
      " [0.02804909 0.06165982]\n",
      " [0.02799794 0.0616052 ]\n",
      " [0.02782205 0.06148573]\n",
      " [0.02800794 0.06163359]\n",
      " [0.02823963 0.06178711]\n",
      " [0.02812191 0.06170836]\n",
      " [0.02837526 0.06190622]]\n",
      "[[0.02835873 0.06189038]\n",
      " [0.02858606 0.06208333]\n",
      " [0.02871869 0.0621546 ]\n",
      " [0.02821312 0.06183679]\n",
      " [0.02810951 0.06178732]\n",
      " [0.02780648 0.06160396]\n",
      " [0.02806454 0.06176404]\n",
      " [0.02854784 0.06207139]]\n",
      "[[0.02815096 0.06176348]\n",
      " [0.02798948 0.06164871]\n",
      " [0.0282221  0.06184596]\n",
      " [0.0284006  0.06193237]\n",
      " [0.02853299 0.0620002 ]\n",
      " [0.02860187 0.06206053]\n",
      " [0.02770484 0.06144588]\n",
      " [0.028416   0.06189759]]\n",
      "[[0.02848763 0.06193691]\n",
      " [0.02866254 0.06207865]\n",
      " [0.02857537 0.06200982]\n",
      " [0.02847751 0.06195631]\n",
      " [0.0285059  0.06197888]\n",
      " [0.02795351 0.06160082]\n",
      " [0.0283939  0.06191364]\n",
      " [0.02789799 0.06155558]]\n",
      "[[0.02698307 0.06084479]\n",
      " [0.02712246 0.06109371]\n",
      " [0.02784656 0.06160474]\n",
      " [0.02807311 0.06172549]\n",
      " [0.02779312 0.06152588]\n",
      " [0.02791314 0.06162669]\n",
      " [0.02796941 0.06166495]\n",
      " [0.02791639 0.061636  ]]\n",
      "[[0.02768144 0.06146893]\n",
      " [0.02815941 0.06179974]\n",
      " [0.02765452 0.06142997]\n",
      " [0.02742794 0.06126284]\n",
      " [0.02793903 0.06161978]\n",
      " [0.02814401 0.06176728]\n",
      " [0.0282842  0.06185472]\n",
      " [0.02819118 0.06178152]]\n",
      "[[0.02831187 0.06185079]\n",
      " [0.02803631 0.06168059]\n",
      " [0.02736037 0.06117752]\n",
      " [0.02781666 0.06151332]\n",
      " [0.0283295  0.06188771]\n",
      " [0.02822182 0.06183596]\n",
      " [0.02792689 0.06161928]\n",
      " [0.02763746 0.06143262]]\n",
      "[[0.02815442 0.06180271]\n",
      " [0.02804853 0.06170102]\n",
      " [0.02844629 0.06197882]\n",
      " [0.02781159 0.06156903]\n",
      " [0.02789347 0.0616312 ]\n",
      " [0.02823131 0.06184001]\n",
      " [0.0280307  0.06166777]\n",
      " [0.02774917 0.06147841]]\n",
      "[[0.02779682 0.06156025]\n",
      " [0.0282313  0.061837  ]\n",
      " [0.02834959 0.06191409]\n",
      " [0.02795045 0.06163542]\n",
      " [0.02810339 0.06174619]\n",
      " [0.0281456  0.06178076]\n",
      " [0.02839884 0.06195513]\n",
      " [0.02834503 0.06189544]]\n",
      "[[0.02819413 0.06179014]\n",
      " [0.02808954 0.06174679]\n",
      " [0.02817604 0.06178918]\n",
      " [0.02815497 0.06173808]\n",
      " [0.02780908 0.06155012]\n",
      " [0.02804266 0.0617005 ]\n",
      " [0.02820486 0.06175968]\n",
      " [0.02732389 0.06113506]]\n",
      "[[0.0281559  0.0617499 ]\n",
      " [0.02840831 0.0619226 ]\n",
      " [0.02823373 0.06178628]\n",
      " [0.02830738 0.06188023]\n",
      " [0.02776359 0.06156997]\n",
      " [0.02853211 0.06194725]\n",
      " [0.02787125 0.06156306]\n",
      " [0.0283091  0.06186466]]\n",
      "[[0.02769372 0.06142439]\n",
      " [0.02795893 0.06168042]\n",
      " [0.0281595  0.06176216]\n",
      " [0.02768071 0.0613946 ]\n",
      " [0.02833029 0.06185142]\n",
      " [0.02833344 0.06188782]\n",
      " [0.02760384 0.06134802]\n",
      " [0.0283442  0.06188094]]\n",
      "[[0.02808306 0.06166542]\n",
      " [0.02794168 0.06164026]\n",
      " [0.0276905  0.06141918]\n",
      " [0.02801282 0.06165307]\n",
      " [0.02798482 0.06161877]\n",
      " [0.02822673 0.06176496]\n",
      " [0.02811981 0.06167724]\n",
      " [0.02783249 0.06143383]]\n",
      "[[0.02753257 0.06121707]\n",
      " [0.02833615 0.06182334]\n",
      " [0.02830454 0.06178625]\n",
      " [0.02817795 0.06173557]\n",
      " [0.026659   0.06067515]\n",
      " [0.02775452 0.06146171]\n",
      " [0.026725   0.0607156 ]\n",
      " [0.02715671 0.06104283]]\n",
      "[[0.02731225 0.06119237]\n",
      " [0.02738531 0.06123661]\n",
      " [0.02774927 0.06148729]\n",
      " [0.02739697 0.06121771]\n",
      " [0.02762118 0.0613832 ]\n",
      " [0.02747787 0.06135407]\n",
      " [0.02810836 0.06169159]\n",
      " [0.02786977 0.06162002]]\n",
      "[[0.02776433 0.06159387]\n",
      " [0.02785305 0.06160313]\n",
      " [0.02714178 0.06112159]\n",
      " [0.02722918 0.0611558 ]\n",
      " [0.02708502 0.06102186]\n",
      " [0.02860702 0.06206542]\n",
      " [0.02850241 0.06201004]\n",
      " [0.02770834 0.06147692]]\n",
      "[[0.0275636  0.06135491]\n",
      " [0.02713177 0.0610629 ]\n",
      " [0.02667607 0.06081311]\n",
      " [0.027029   0.06100347]\n",
      " [0.02672448 0.06083339]\n",
      " [0.02735371 0.06123493]\n",
      " [0.02758193 0.06137536]\n",
      " [0.02724713 0.06111659]]\n",
      "[[0.02745907 0.06130454]\n",
      " [0.02795886 0.06167792]\n",
      " [0.02704518 0.06098083]\n",
      " [0.02697601 0.06098849]\n",
      " [0.02734488 0.06122645]\n",
      " [0.02724935 0.06112509]\n",
      " [0.02677017 0.06078318]\n",
      " [0.02698895 0.06094768]]\n",
      "[[0.02727347 0.06114296]\n",
      " [0.02741319 0.06118843]\n",
      " [0.02717393 0.06103835]\n",
      " [0.02721501 0.06107497]\n",
      " [0.02710383 0.0611128 ]\n",
      " [0.02685147 0.06089715]\n",
      " [0.02700454 0.06104956]\n",
      " [0.02693848 0.06092823]]\n",
      "[[0.02658501 0.06066236]\n",
      " [0.02736323 0.06124374]\n",
      " [0.02671855 0.06081941]\n",
      " [0.02696341 0.06099634]\n",
      " [0.02675877 0.06077495]\n",
      " [0.02686461 0.06085744]\n",
      " [0.02695645 0.06095437]\n",
      " [0.02690375 0.06090245]]\n",
      "[[0.02713019 0.06106381]\n",
      " [0.02686546 0.06088001]\n",
      " [0.02705369 0.06101647]\n",
      " [0.02708251 0.06105554]\n",
      " [0.02692611 0.06091418]\n",
      " [0.0270731  0.06100157]\n",
      " [0.02670976 0.06080135]\n",
      " [0.02742792 0.06124013]]\n",
      "[[0.02706928 0.06094452]\n",
      " [0.02742945 0.06126206]\n",
      " [0.0269478  0.06093305]\n",
      " [0.02675517 0.0607768 ]\n",
      " [0.02676648 0.0608454 ]\n",
      " [0.02700368 0.06098776]\n",
      " [0.02746928 0.06130027]\n",
      " [0.02727716 0.06118334]]\n",
      "[[0.02724513 0.06111234]\n",
      " [0.02786367 0.06155079]\n",
      " [0.02698201 0.06098145]\n",
      " [0.02680725 0.06083537]\n",
      " [0.02638907 0.0605201 ]\n",
      " [0.02716746 0.06115372]\n",
      " [0.02714029 0.06108831]\n",
      " [0.02824861 0.06184192]]\n",
      "[[0.02678901 0.06086266]\n",
      " [0.0273495  0.06116978]\n",
      " [0.02753833 0.06135646]\n",
      " [0.02705674 0.06104083]\n",
      " [0.02736467 0.06123476]\n",
      " [0.02723685 0.06109469]\n",
      " [0.02800656 0.06158964]\n",
      " [0.02815721 0.06170981]]\n",
      "[[0.0277378  0.06142081]\n",
      " [0.02788029 0.0614976 ]\n",
      " [0.02762027 0.0613374 ]\n",
      " [0.027705   0.06141042]\n",
      " [0.02816451 0.06170159]\n",
      " [0.02865027 0.0620377 ]\n",
      " [0.02850598 0.06196312]\n",
      " [0.02864109 0.06202981]]\n",
      "[[0.02853231 0.06195246]\n",
      " [0.02875024 0.06209593]\n",
      " [0.02866683 0.06205139]\n",
      " [0.02852444 0.06195704]\n",
      " [0.02862808 0.06205208]\n",
      " [0.02867953 0.06206934]\n",
      " [0.02862019 0.06201696]\n",
      " [0.02838216 0.0619171 ]]\n",
      "[[0.02867109 0.06205591]\n",
      " [0.02842418 0.06189472]\n",
      " [0.02867953 0.06206934]\n",
      " [0.02839794 0.0619279 ]\n",
      " [0.02828657 0.06184838]\n",
      " [0.02861726 0.06201825]\n",
      " [0.02857833 0.06198594]\n",
      " [0.0286108  0.06205436]]\n",
      "[[0.0284909  0.06198969]\n",
      " [0.02848938 0.0620003 ]\n",
      " [0.02810155 0.06174561]\n",
      " [0.02857402 0.0620497 ]\n",
      " [0.02870126 0.06207161]\n",
      " [0.02861104 0.06201353]\n",
      " [0.02865762 0.06205243]\n",
      " [0.02866889 0.0620504 ]]\n",
      "[[0.02860012 0.06201632]\n",
      " [0.02835945 0.06191011]\n",
      " [0.02865947 0.06205258]\n",
      " [0.02833791 0.06190992]\n",
      " [0.02871031 0.06208499]\n",
      " [0.02882174 0.06215544]\n",
      " [0.02848117 0.06196066]\n",
      " [0.02847754 0.06197169]]\n",
      "[[0.02865981 0.06207146]\n",
      " [0.02880761 0.06217752]\n",
      " [0.02872267 0.06210623]\n",
      " [0.02867815 0.06208247]\n",
      " [0.02854705 0.0620155 ]\n",
      " [0.02765635 0.06140479]\n",
      " [0.02822745 0.06186463]\n",
      " [0.0285147  0.06199417]]\n",
      "[[0.02735985 0.06114167]\n",
      " [0.02733219 0.06112215]\n",
      " [0.02746889 0.06124525]\n",
      " [0.02760785 0.06136309]\n",
      " [0.02805639 0.06167781]\n",
      " [0.02806951 0.0617491 ]\n",
      " [0.02799146 0.0616351 ]\n",
      " [0.02785563 0.06154519]]\n",
      "[[0.02786024 0.06155668]\n",
      " [0.02782886 0.06154816]\n",
      " [0.02722559 0.06104332]\n",
      " [0.02744348 0.06130717]\n",
      " [0.02765619 0.06146462]\n",
      " [0.02773033 0.06150755]\n",
      " [0.02761368 0.06141417]\n",
      " [0.02784229 0.06155787]]\n",
      "[[0.02782341 0.0615286 ]\n",
      " [0.02790557 0.06161708]\n",
      " [0.02792154 0.06162747]\n",
      " [0.02798672 0.06171458]\n",
      " [0.02802335 0.06172635]\n",
      " [0.02796116 0.06168054]\n",
      " [0.02807148 0.06176861]\n",
      " [0.0280898  0.06177648]]\n",
      "[[0.0277517  0.06154081]\n",
      " [0.027496   0.06133002]\n",
      " [0.02794622 0.06161862]\n",
      " [0.02754602 0.06133841]\n",
      " [0.02827719 0.06188831]\n",
      " [0.02795601 0.06165765]\n",
      " [0.02838578 0.06190574]\n",
      " [0.02793577 0.06158898]]\n",
      "[[0.02774445 0.06141444]\n",
      " [0.02757552 0.0613901 ]\n",
      " [0.02781874 0.06156265]\n",
      " [0.02815516 0.06178032]\n",
      " [0.02801253 0.06172498]\n",
      " [0.02824922 0.06182032]\n",
      " [0.02750114 0.06133163]\n",
      " [0.02716522 0.06113943]]\n"
     ]
    },
    {
     "name": "stdout",
     "output_type": "stream",
     "text": [
      "[[0.02760256 0.06142385]\n",
      " [0.02739399 0.06134122]\n",
      " [0.02766134 0.06146938]\n",
      " [0.02834474 0.06188496]\n",
      " [0.02745606 0.06126198]\n",
      " [0.0276675  0.06135019]\n",
      " [0.02847111 0.06196711]\n",
      " [0.02829512 0.06185592]]\n",
      "[[0.02825226 0.06175961]\n",
      " [0.0270682  0.06087207]\n",
      " [0.02714429 0.06096177]\n",
      " [0.02810035 0.06171915]\n",
      " [0.02827842 0.06180801]\n",
      " [0.02824984 0.06175746]\n",
      " [0.02838529 0.06189986]\n",
      " [0.02822164 0.06184695]]\n",
      "[[0.02762814 0.06147774]\n",
      " [0.02825758 0.06188793]\n",
      " [0.02847702 0.06200035]\n",
      " [0.0277258  0.06152778]\n",
      " [0.02831955 0.0619074 ]\n",
      " [0.02818811 0.06183261]\n",
      " [0.02794238 0.06163764]\n",
      " [0.02758548 0.06135415]]\n",
      "[[0.02821418 0.06182735]\n",
      " [0.02771606 0.06137418]\n",
      " [0.02702111 0.06085416]\n",
      " [0.02711471 0.06087895]\n",
      " [0.0275396  0.06121669]\n",
      " [0.02779773 0.06145268]\n",
      " [0.02765458 0.06135889]\n",
      " [0.02776657 0.06143701]]\n",
      "[[0.02728352 0.06100317]\n",
      " [0.02749658 0.06118781]\n",
      " [0.02775525 0.06138519]\n",
      " [0.02743817 0.06113779]\n",
      " [0.02796163 0.06153237]\n",
      " [0.02810175 0.06165088]\n",
      " [0.02755976 0.06128698]\n",
      " [0.02796862 0.06156423]]\n",
      "[[0.02835154 0.0618441 ]\n",
      " [0.02824159 0.06175166]\n",
      " [0.0282595  0.06180726]\n",
      " [0.02818415 0.0617674 ]\n",
      " [0.02800472 0.061647  ]\n",
      " [0.02759635 0.06121689]\n",
      " [0.02781848 0.06139373]\n",
      " [0.02796726 0.06155902]]\n",
      "[[0.02811153 0.06168532]\n",
      " [0.02730209 0.06104456]\n",
      " [0.02767785 0.06134747]\n",
      " [0.02754269 0.06128014]\n",
      " [0.02774921 0.06142866]\n",
      " [0.02771186 0.06137048]\n",
      " [0.02801477 0.06164485]\n",
      " [0.02834747 0.06184365]]\n",
      "[[0.02746906 0.06120378]\n",
      " [0.02757331 0.06130045]\n",
      " [0.02753139 0.06131684]\n",
      " [0.02693519 0.06081783]\n",
      " [0.02779434 0.06148108]\n",
      " [0.02717147 0.06102468]\n",
      " [0.02738067 0.06119171]\n",
      " [0.02770753 0.0614181 ]]\n",
      "[[0.02798225 0.06161466]\n",
      " [0.02763391 0.06141157]\n",
      " [0.02794549 0.06165877]\n",
      " [0.02799674 0.06167621]\n",
      " [0.02663587 0.06060787]\n",
      " [0.02769167 0.06148943]\n",
      " [0.02719924 0.06106974]\n",
      " [0.02737444 0.06120399]]\n",
      "[[0.0280464  0.06171501]\n",
      " [0.02825315 0.06185285]\n",
      " [0.0279758  0.06168288]\n",
      " [0.02809238 0.06175297]\n",
      " [0.02841419 0.06196564]\n",
      " [0.02826678 0.0618614 ]\n",
      " [0.02774288 0.06151783]\n",
      " [0.0285888  0.06207526]]\n",
      "[[0.02812785 0.06178953]\n",
      " [0.02701027 0.06089963]\n",
      " [0.02720185 0.06102905]\n",
      " [0.02747415 0.06120668]\n",
      " [0.02701223 0.06090081]\n",
      " [0.02718637 0.06102487]\n",
      " [0.02741455 0.06123615]\n",
      " [0.02759169 0.06134912]]\n",
      "[[0.02774216 0.06139725]\n",
      " [0.02769896 0.06139093]\n",
      " [0.02797913 0.06164365]\n",
      " [0.02816575 0.06182114]\n",
      " [0.02742732 0.06128997]\n",
      " [0.02758452 0.06139516]\n",
      " [0.02810723 0.06176745]\n",
      " [0.02804841 0.06176287]]\n",
      "[[0.0284417  0.06200233]\n",
      " [0.02706643 0.06103013]\n",
      " [0.02719579 0.06114688]\n",
      " [0.02768023 0.06143561]\n",
      " [0.02760345 0.06133781]\n",
      " [0.0285187  0.06198004]\n",
      " [0.02778495 0.06147071]\n",
      " [0.02803243 0.06163267]]\n",
      "[[0.02782666 0.06157554]\n",
      " [0.02826982 0.06182643]\n",
      " [0.02819132 0.06177346]\n",
      " [0.02735366 0.06112362]\n",
      " [0.02774347 0.06140567]\n",
      " [0.02783683 0.06149281]\n",
      " [0.02789776 0.06152663]\n",
      " [0.02793134 0.06152562]]\n",
      "[[0.02735282 0.06115017]\n",
      " [0.02763235 0.06139982]\n",
      " [0.02738272 0.06114382]\n",
      " [0.02820941 0.06183299]\n",
      " [0.02785014 0.06158261]\n",
      " [0.02804051 0.06175339]\n",
      " [0.02840007 0.06194862]\n",
      " [0.02821729 0.0618295 ]]\n",
      "[[0.02829571 0.06190387]\n",
      " [0.02800449 0.06171028]\n",
      " [0.02844437 0.0618846 ]\n",
      " [0.02741253 0.06123858]\n",
      " [0.02760861 0.06139605]\n",
      " [0.02817364 0.06174515]\n",
      " [0.02799008 0.06168595]\n",
      " [0.02791269 0.06163049]]\n",
      "[[0.02809798 0.06176688]\n",
      " [0.02787947 0.06161413]\n",
      " [0.02810479 0.06179794]\n",
      " [0.02715112 0.06113901]\n",
      " [0.02704285 0.06106195]\n",
      " [0.02785847 0.06155954]\n",
      " [0.02677    0.06086884]\n",
      " [0.02845778 0.06201414]]\n",
      "[[0.02842898 0.06193215]\n",
      " [0.02802716 0.06168305]\n",
      " [0.02834741 0.06186308]\n",
      " [0.02818605 0.06177799]\n",
      " [0.02819228 0.06179339]\n",
      " [0.02837654 0.06188278]\n",
      " [0.02812335 0.06170228]\n",
      " [0.02821997 0.06178083]]\n",
      "[[0.02772478 0.0614434 ]\n",
      " [0.02766283 0.06139518]\n",
      " [0.02867567 0.06207334]\n",
      " [0.02836316 0.06192249]\n",
      " [0.02823075 0.06180575]\n",
      " [0.02836301 0.06187083]\n",
      " [0.027933   0.06162001]\n",
      " [0.02865135 0.06206043]]\n",
      "[[0.02821145 0.06181667]\n",
      " [0.02842486 0.06192196]\n",
      " [0.02812751 0.06173197]\n",
      " [0.02833001 0.06187103]\n",
      " [0.02795237 0.06160959]\n",
      " [0.0279547  0.06160953]\n",
      " [0.02795186 0.06161316]\n",
      " [0.02833702 0.06189866]]\n",
      "[[0.02777705 0.06153135]\n",
      " [0.02790556 0.0616669 ]\n",
      " [0.02796166 0.06168561]\n",
      " [0.02803302 0.06174992]\n",
      " [0.02790526 0.06163697]\n",
      " [0.02859433 0.06207385]\n",
      " [0.02777215 0.06154219]\n",
      " [0.02810687 0.06174717]]\n",
      "[[0.02807399 0.06166231]\n",
      " [0.02685202 0.06077399]\n",
      " [0.02681662 0.06067611]\n",
      " [0.02787163 0.06152828]\n",
      " [0.02786558 0.06152784]\n",
      " [0.02814134 0.06179269]\n",
      " [0.02763068 0.06141523]\n",
      " [0.02723891 0.0610335 ]]\n",
      "[[0.0284793  0.0619696 ]\n",
      " [0.02757486 0.06132974]\n",
      " [0.02852106 0.06200315]\n",
      " [0.02843622 0.06194065]\n",
      " [0.02796473 0.06158682]\n",
      " [0.0287289  0.06212912]\n",
      " [0.02857228 0.06204454]\n",
      " [0.02816043 0.06175042]]\n",
      "[[0.02832561 0.06185341]\n",
      " [0.02852954 0.06199878]\n",
      " [0.02854593 0.0620054 ]\n",
      " [0.02845506 0.06194151]\n",
      " [0.02834382 0.06191576]\n",
      " [0.02827739 0.06186784]\n",
      " [0.02852688 0.06198983]\n",
      " [0.02848941 0.06195969]]\n",
      "[[0.02826848 0.06184539]\n",
      " [0.02773177 0.06143942]\n",
      " [0.02789798 0.0615463 ]\n",
      " [0.02847384 0.06197087]\n",
      " [0.02852416 0.06200474]\n",
      " [0.02857716 0.06205165]\n",
      " [0.028596   0.06205145]\n",
      " [0.02860604 0.06207431]]\n",
      "[[0.02872859 0.06213842]\n",
      " [0.02848496 0.06196722]\n",
      " [0.02850363 0.06199556]\n",
      " [0.02867601 0.06208989]\n",
      " [0.02853293 0.06198624]\n",
      " [0.02879069 0.06213496]\n",
      " [0.02835341 0.06189047]\n",
      " [0.02793626 0.06158345]]\n",
      "[[0.02759588 0.06129531]\n",
      " [0.0273303  0.06114758]\n",
      " [0.02815514 0.06182768]\n",
      " [0.02739283 0.06127108]\n",
      " [0.02727036 0.0611945 ]\n",
      " [0.02738122 0.06124756]\n",
      " [0.02713271 0.06106514]\n",
      " [0.02870396 0.06211652]]\n",
      "[[0.02785699 0.061526  ]\n",
      " [0.02798676 0.06169926]\n",
      " [0.02823698 0.06185677]\n",
      " [0.02852151 0.06199754]\n",
      " [0.0277269  0.06148536]\n",
      " [0.02803959 0.06167508]\n",
      " [0.02824249 0.06185975]\n",
      " [0.027923   0.06164405]]\n",
      "[[0.0285346  0.06199935]\n",
      " [0.02776659 0.06149179]\n",
      " [0.02781713 0.0615452 ]\n",
      " [0.02756139 0.06134649]\n",
      " [0.02769968 0.06149179]\n",
      " [0.02796498 0.06170985]\n",
      " [0.02729364 0.0612008 ]\n",
      " [0.02709828 0.06108301]]\n",
      "[[0.02813024 0.0617861 ]\n",
      " [0.02729755 0.0611992 ]\n",
      " [0.02793464 0.06161299]\n",
      " [0.02757281 0.06139226]\n",
      " [0.02800916 0.06168293]\n",
      " [0.02777656 0.06149102]\n",
      " [0.02839427 0.06192734]\n",
      " [0.02834195 0.06186942]]\n",
      "[[0.02812735 0.0617286 ]\n",
      " [0.02768708 0.06141132]\n",
      " [0.02775654 0.06146584]\n",
      " [0.0277603  0.06145115]\n",
      " [0.02722364 0.06105737]\n",
      " [0.02693443 0.06082666]\n",
      " [0.02797987 0.06158447]\n",
      " [0.02831919 0.06182599]]\n",
      "[[0.02843283 0.06193157]\n",
      " [0.02814898 0.06178389]\n",
      " [0.02782445 0.06154608]\n",
      " [0.02833751 0.06185417]\n",
      " [0.02820156 0.06172632]\n",
      " [0.02783142 0.06146376]\n",
      " [0.02844283 0.06189918]\n",
      " [0.02791687 0.0615233 ]]\n",
      "[[0.02727525 0.06105911]\n",
      " [0.02819523 0.06174188]\n",
      " [0.02733449 0.06110157]\n",
      " [0.02743599 0.06118641]\n",
      " [0.02743204 0.06118599]\n",
      " [0.02733447 0.06111629]\n",
      " [0.02716411 0.06098761]\n",
      " [0.02712105 0.0609505 ]]\n",
      "[[0.02722668 0.06100298]\n",
      " [0.02794534 0.06159591]\n",
      " [0.02783669 0.06150314]\n",
      " [0.02792199 0.06157564]\n",
      " [0.0280345  0.06166059]\n",
      " [0.02799315 0.06160841]\n",
      " [0.02773741 0.0614298 ]\n",
      " [0.027776   0.06147003]]\n",
      "[[0.02792242 0.0615783 ]\n",
      " [0.02752251 0.06127688]\n",
      " [0.02755935 0.06130962]\n",
      " [0.02772465 0.06147209]\n",
      " [0.02732124 0.0611549 ]\n",
      " [0.02801316 0.06162845]\n",
      " [0.02766887 0.06139132]\n",
      " [0.02746412 0.06126777]]\n",
      "[[0.02782955 0.06149318]\n",
      " [0.02715113 0.06096748]\n",
      " [0.02743666 0.0612024 ]\n",
      " [0.02770294 0.06142651]\n",
      " [0.02781138 0.06149737]\n",
      " [0.02760797 0.061357  ]\n",
      " [0.02767256 0.06140061]\n",
      " [0.02717644 0.06101402]]\n",
      "[[0.02774593 0.06146676]\n",
      " [0.0280371  0.06165564]\n",
      " [0.02794069 0.06158082]\n",
      " [0.02793409 0.06162945]\n",
      " [0.028323   0.06188103]\n",
      " [0.02789897 0.06160839]\n",
      " [0.0274174  0.06125401]\n",
      " [0.02826668 0.06185909]]\n",
      "[[0.0286346  0.06209898]\n",
      " [0.02761231 0.06134792]\n",
      " [0.02774597 0.06144542]\n",
      " [0.02808831 0.06168583]\n",
      " [0.0277127  0.06145729]\n",
      " [0.02804955 0.06168642]\n",
      " [0.0280623  0.0616168 ]\n",
      " [0.02804909 0.06167025]]\n",
      "[[0.02740287 0.06122492]\n",
      " [0.02768482 0.06144593]\n",
      " [0.02753175 0.06135837]\n",
      " [0.02746358 0.0612743 ]\n",
      " [0.02782688 0.06150426]\n",
      " [0.02791901 0.06154799]\n",
      " [0.02779359 0.06146694]\n",
      " [0.02740985 0.06123005]]\n",
      "[[0.02827242 0.06180197]\n",
      " [0.02746898 0.06114214]\n",
      " [0.02780649 0.06149568]\n",
      " [0.02846929 0.06192606]\n",
      " [0.0265719  0.0606779 ]\n",
      " [0.02765637 0.06146119]\n",
      " [0.02727951 0.06117431]\n",
      " [0.02733982 0.06125298]]\n",
      "[[0.02731498 0.06113835]\n",
      " [0.02701797 0.06090511]\n",
      " [0.02763251 0.06140863]\n",
      " [0.02642789 0.06054023]\n",
      " [0.02691039 0.06088012]\n",
      " [0.02714128 0.06104168]\n",
      " [0.0280563  0.06169656]\n",
      " [0.02748452 0.06130212]]\n"
     ]
    },
    {
     "name": "stdout",
     "output_type": "stream",
     "text": [
      "[[0.02747895 0.06128803]\n",
      " [0.02754622 0.06128114]\n",
      " [0.02740691 0.06123414]\n",
      " [0.02749898 0.06128734]\n",
      " [0.02853604 0.06203936]\n",
      " [0.0277777  0.06152035]\n",
      " [0.02717267 0.0610812 ]\n",
      " [0.02795074 0.06159118]]\n",
      "[[0.02737387 0.06117932]\n",
      " [0.02758332 0.06137228]\n",
      " [0.02780447 0.06156299]\n",
      " [0.0272819  0.06118266]\n",
      " [0.02823868 0.0618752 ]\n",
      " [0.02818495 0.06181806]\n",
      " [0.02813304 0.06175106]\n",
      " [0.02744254 0.06127758]]\n",
      "[[0.02769028 0.06144547]\n",
      " [0.02761592 0.0614173 ]\n",
      " [0.02742373 0.06128653]\n",
      " [0.02811495 0.06178456]\n",
      " [0.02820714 0.06182401]\n",
      " [0.02795932 0.06161256]\n",
      " [0.02823703 0.06182026]\n",
      " [0.0277993  0.06148303]]\n",
      "[[0.02838157 0.06191866]\n",
      " [0.02864891 0.06206452]\n",
      " [0.02851794 0.06200901]\n",
      " [0.02851269 0.06201241]\n",
      " [0.02775966 0.06142851]\n",
      " [0.02826566 0.06181248]\n",
      " [0.02823422 0.0617607 ]\n",
      " [0.02775124 0.06144433]]\n",
      "[[0.02786087 0.06149663]\n",
      " [0.02812089 0.06170358]\n",
      " [0.02825537 0.06178135]\n",
      " [0.02740112 0.06119528]\n",
      " [0.02805727 0.06167454]\n",
      " [0.02737756 0.06114883]\n",
      " [0.02732666 0.06109932]\n",
      " [0.02808063 0.06168354]]\n",
      "[[0.02812106 0.06169438]\n",
      " [0.02824141 0.06178854]\n",
      " [0.02757036 0.06131399]\n",
      " [0.02806735 0.06168038]\n",
      " [0.02818919 0.06173266]\n",
      " [0.02823197 0.06178751]\n",
      " [0.02775926 0.06144502]\n",
      " [0.02830749 0.06182999]]\n",
      "[[0.02842684 0.06190214]\n",
      " [0.02750066 0.06127937]\n",
      " [0.02748913 0.06127229]\n",
      " [0.02751975 0.06128633]\n",
      " [0.02806925 0.06165679]\n",
      " [0.02799866 0.06161807]\n",
      " [0.0281384  0.06170542]\n",
      " [0.02821654 0.06183781]]\n",
      "[[0.02754652 0.06138859]\n",
      " [0.02722123 0.0611782 ]\n",
      " [0.02841197 0.06199615]\n",
      " [0.02865544 0.06212838]\n",
      " [0.02857732 0.06201797]\n",
      " [0.02793412 0.06166798]\n",
      " [0.02798824 0.06165493]\n",
      " [0.02806873 0.06177689]]\n",
      "[[0.02760782 0.06141117]\n",
      " [0.02654548 0.0605778 ]\n",
      " [0.02738272 0.06125246]\n",
      " [0.02762556 0.06137183]\n",
      " [0.02803316 0.06171515]\n",
      " [0.02795732 0.06166736]\n",
      " [0.02754701 0.0613731 ]\n",
      " [0.02818586 0.06178751]]\n",
      "[[0.02820169 0.06179584]\n",
      " [0.02821722 0.06183608]\n",
      " [0.02825974 0.06183526]\n",
      " [0.02720806 0.06108628]\n",
      " [0.02669289 0.06066225]\n",
      " [0.02767    0.0615242 ]\n",
      " [0.02685362 0.06083965]\n",
      " [0.02619186 0.06036569]]\n",
      "[[0.02656734 0.06064492]\n",
      " [0.02831458 0.06192845]\n",
      " [0.02833041 0.06192937]\n",
      " [0.02637299 0.06046199]\n",
      " [0.02693512 0.06090922]\n",
      " [0.02730032 0.0611603 ]\n",
      " [0.02786197 0.06158094]\n",
      " [0.02792104 0.06160149]]\n",
      "[[0.02804671 0.06167871]\n",
      " [0.02792584 0.0615891 ]\n",
      " [0.02834669 0.0618977 ]\n",
      " [0.02676375 0.0608445 ]\n",
      " [0.02780836 0.06152123]\n",
      " [0.0274625  0.06126931]\n",
      " [0.02794561 0.06164874]\n",
      " [0.02800838 0.06170963]]\n",
      "[[0.02764289 0.06138431]\n",
      " [0.02764647 0.06142272]\n",
      " [0.02778134 0.06153347]\n",
      " [0.02764259 0.06136523]\n",
      " [0.02785489 0.06154742]\n",
      " [0.02865009 0.06207706]\n",
      " [0.02752817 0.06125722]\n",
      " [0.02768529 0.061407  ]]\n",
      "[[0.02877615 0.0621857 ]\n",
      " [0.0280696  0.06175552]\n",
      " [0.0279508  0.06163502]\n",
      " [0.02754044 0.06130687]\n",
      " [0.0279985  0.06163853]\n",
      " [0.02828842 0.06186895]\n",
      " [0.02738595 0.06129883]\n",
      " [0.02701452 0.06098241]]\n",
      "[[0.02717408 0.06111483]\n",
      " [0.02750729 0.06130112]\n",
      " [0.02775334 0.06147474]\n",
      " [0.02813787 0.06178077]\n",
      " [0.02727831 0.0611318 ]\n",
      " [0.02739041 0.06118228]\n",
      " [0.02728525 0.06110688]\n",
      " [0.02732547 0.06102838]]\n",
      "[[0.02822615 0.06181549]\n",
      " [0.02696734 0.06092432]\n",
      " [0.02728915 0.06121192]\n",
      " [0.02739435 0.06128686]\n",
      " [0.02797382 0.06164556]\n",
      " [0.02647044 0.06057385]\n",
      " [0.02765131 0.06146994]\n",
      " [0.02781997 0.06156842]]\n",
      "[[0.02764088 0.06149334]\n",
      " [0.02845721 0.06199067]\n",
      " [0.02745113 0.06120603]\n",
      " [0.02810961 0.06169778]\n",
      " [0.02816591 0.06174261]\n",
      " [0.02693292 0.06085891]\n",
      " [0.02715747 0.0610214 ]\n",
      " [0.0277936  0.06144578]]\n",
      "[[0.02822547 0.06180435]\n",
      " [0.02821482 0.06174531]\n",
      " [0.02680129 0.06072872]\n",
      " [0.02812409 0.06174858]\n",
      " [0.02824322 0.06181143]\n",
      " [0.028224   0.06184943]\n",
      " [0.0281433  0.06178639]\n",
      " [0.02771334 0.06140386]]\n",
      "[[0.02761653 0.06133563]\n",
      " [0.02817773 0.06189613]\n",
      " [0.02740278 0.06132892]\n",
      " [0.02829735 0.06198192]\n",
      " [0.02778026 0.06158992]\n",
      " [0.02768424 0.06152248]\n",
      " [0.02792411 0.06166525]\n",
      " [0.02832037 0.06192386]]\n",
      "[[0.02867172 0.06216224]\n",
      " [0.02818672 0.06181886]\n",
      " [0.02801414 0.06174949]\n",
      " [0.02797677 0.06169809]\n",
      " [0.02825296 0.06179155]\n",
      " [0.02831751 0.06187889]\n",
      " [0.02824648 0.06179924]\n",
      " [0.02815703 0.0617401 ]]\n",
      "[[0.02758243 0.06128596]\n",
      " [0.02767227 0.06135098]\n",
      " [0.02749712 0.06133899]\n",
      " [0.02801709 0.06166546]\n",
      " [0.02792518 0.06158027]\n",
      " [0.02860827 0.06208437]\n",
      " [0.0276006  0.06136338]\n",
      " [0.02850309 0.06197108]]\n",
      "[[0.02750072 0.06127083]\n",
      " [0.02813869 0.06175698]\n",
      " [0.02764032 0.06131081]\n",
      " [0.02765453 0.06134537]\n",
      " [0.02808842 0.06170354]\n",
      " [0.02771724 0.06140969]\n",
      " [0.02765033 0.06132777]\n",
      " [0.02758413 0.06137539]]\n",
      "[[0.02749713 0.06132   ]\n",
      " [0.02760411 0.06142584]\n",
      " [0.02769167 0.0614745 ]\n",
      " [0.02743287 0.06129788]\n",
      " [0.0281971  0.06179863]\n",
      " [0.02808614 0.06169031]\n",
      " [0.02772135 0.06140428]\n",
      " [0.02804946 0.06161654]]\n",
      "[[0.02807193 0.06167365]\n",
      " [0.02780138 0.06144375]\n",
      " [0.02821318 0.06176142]\n",
      " [0.02770532 0.06145756]\n",
      " [0.02790193 0.06159334]\n",
      " [0.02799071 0.06164944]\n",
      " [0.02659585 0.06059449]\n",
      " [0.0263108  0.06032925]]\n",
      "[[0.02623231 0.06027876]\n",
      " [0.02551625 0.05967963]\n",
      " [0.02591733 0.06003024]\n",
      " [0.02769648 0.06140408]\n",
      " [0.02810823 0.06166745]\n",
      " [0.02678828 0.06066097]\n",
      " [0.02666259 0.06051448]\n",
      " [0.02808993 0.06164501]]\n",
      "[[0.0283954  0.06192967]\n",
      " [0.02862324 0.06208395]\n",
      " [0.02875302 0.06217055]\n",
      " [0.02821479 0.06187822]\n",
      " [0.02866249 0.06212016]\n",
      " [0.02856484 0.0620757 ]\n",
      " [0.0286395  0.06208199]\n",
      " [0.02872995 0.06214227]]\n",
      "[[0.02839679 0.06197191]\n",
      " [0.02701581 0.0608239 ]\n",
      " [0.02815296 0.06173097]\n",
      " [0.02814714 0.06171032]\n",
      " [0.02777514 0.0615063 ]\n",
      " [0.02850322 0.06197662]\n",
      " [0.02830621 0.06186577]\n",
      " [0.0285239  0.06200802]]\n",
      "[[0.02840248 0.06190118]\n",
      " [0.02831631 0.06187737]\n",
      " [0.02803491 0.06167749]\n",
      " [0.02836006 0.06187123]\n",
      " [0.02794645 0.06161256]\n",
      " [0.02804349 0.06166743]\n",
      " [0.02766195 0.06142077]\n",
      " [0.02761837 0.06132012]]\n",
      "[[0.02829029 0.0618231 ]\n",
      " [0.02775409 0.0615078 ]\n",
      " [0.02850538 0.06199482]\n",
      " [0.02828571 0.06184505]\n",
      " [0.02828183 0.0618458 ]\n",
      " [0.02819905 0.06184141]\n",
      " [0.02822253 0.06184982]\n",
      " [0.02832303 0.06189483]]\n",
      "[[0.02832657 0.06189721]\n",
      " [0.02818871 0.06181375]\n",
      " [0.02806853 0.06172767]\n",
      " [0.02829812 0.06185646]\n",
      " [0.02838666 0.06191997]\n",
      " [0.02841564 0.06189939]\n",
      " [0.02826594 0.06181177]\n",
      " [0.02840244 0.06189052]]\n",
      "[[0.02852067 0.06199689]\n",
      " [0.02835263 0.06186811]\n",
      " [0.02828478 0.06183   ]\n",
      " [0.0282473  0.0618356 ]\n",
      " [0.02782898 0.06152217]\n",
      " [0.02840896 0.06191035]\n",
      " [0.02825486 0.06181865]\n",
      " [0.02823296 0.06180131]]\n",
      "[[0.02829474 0.06184307]\n",
      " [0.02786627 0.06156412]\n",
      " [0.02797969 0.06162713]\n",
      " [0.02803576 0.0616821 ]\n",
      " [0.02791921 0.06160442]\n",
      " [0.02791214 0.06158512]\n",
      " [0.02829326 0.06179987]\n",
      " [0.02839447 0.0618879 ]]\n",
      "[[0.02837946 0.0618959 ]\n",
      " [0.02869572 0.06208735]\n",
      " [0.02868449 0.06208572]\n",
      " [0.02800881 0.06162341]\n",
      " [0.02815927 0.06178555]\n",
      " [0.0283729  0.06192508]\n",
      " [0.02863775 0.06206387]\n",
      " [0.02816213 0.06175346]]\n",
      "[[0.02845494 0.06195455]\n",
      " [0.02788451 0.06155179]\n",
      " [0.02786409 0.06152957]\n",
      " [0.02800496 0.06167078]\n",
      " [0.02810426 0.06172286]\n",
      " [0.02787292 0.06157681]\n",
      " [0.02802901 0.06165464]\n",
      " [0.02799288 0.06163908]]\n",
      "[[0.02801752 0.0616541 ]\n",
      " [0.02782134 0.06152017]\n",
      " [0.02797438 0.06166179]\n",
      " [0.02802079 0.06165178]\n",
      " [0.02836871 0.06193148]\n",
      " [0.02788849 0.06157712]\n",
      " [0.02828682 0.06181844]\n",
      " [0.02848415 0.06196531]]\n",
      "[[0.02799439 0.06164248]\n",
      " [0.02817699 0.06178565]\n",
      " [0.02790373 0.06159243]\n",
      " [0.02808778 0.06174582]\n",
      " [0.02841486 0.06193454]\n",
      " [0.02803716 0.06168198]\n",
      " [0.02821078 0.06180186]\n",
      " [0.02820957 0.06179642]]\n",
      "[[0.02748559 0.06130099]\n",
      " [0.02799192 0.061653  ]\n",
      " [0.02783535 0.06153616]\n",
      " [0.02779615 0.06151567]\n",
      " [0.028187   0.06177249]\n",
      " [0.02804168 0.06170364]\n",
      " [0.02814421 0.06174473]\n",
      " [0.02789325 0.06154942]]\n",
      "[[0.02823307 0.06179919]\n",
      " [0.02825196 0.0618293 ]\n",
      " [0.02792763 0.06160606]\n",
      " [0.02790262 0.06157451]\n",
      " [0.02790339 0.06155504]\n",
      " [0.02792379 0.0615561 ]\n",
      " [0.02797084 0.06161983]\n",
      " [0.02864092 0.06204932]]\n",
      "[[0.02834238 0.06186344]\n",
      " [0.02864415 0.06204459]\n",
      " [0.02826489 0.06181977]\n",
      " [0.02825573 0.06182356]\n",
      " [0.02807951 0.06176297]\n",
      " [0.02796387 0.06167229]\n",
      " [0.02841515 0.06192653]\n",
      " [0.02701137 0.06097725]]\n",
      "[[0.02689662 0.06078922]\n",
      " [0.02724715 0.06110057]\n",
      " [0.0276399  0.06143495]\n",
      " [0.02703383 0.06097081]\n",
      " [0.02702894 0.06103797]\n",
      " [0.02717747 0.06109852]\n",
      " [0.02735874 0.06114784]\n",
      " [0.02778432 0.06152398]]\n",
      "[[0.02751905 0.0613419 ]\n",
      " [0.02724152 0.06108708]\n",
      " [0.02788546 0.06155813]\n",
      " [0.02771512 0.06139414]\n",
      " [0.02744971 0.06124232]\n",
      " [0.0278308  0.06158629]\n",
      " [0.02774056 0.06146263]\n",
      " [0.02751378 0.06133486]]\n"
     ]
    },
    {
     "name": "stdout",
     "output_type": "stream",
     "text": [
      "[[0.02772987 0.06147047]\n",
      " [0.02743626 0.06125131]\n",
      " [0.02737401 0.06122668]\n",
      " [0.02740482 0.06126489]\n",
      " [0.02817215 0.06176634]\n",
      " [0.02800253 0.06162379]\n",
      " [0.02802055 0.06165053]\n",
      " [0.02785477 0.06153946]]\n",
      "[[0.02794326 0.06160649]\n",
      " [0.02834732 0.06189355]\n",
      " [0.0283435  0.06191782]\n",
      " [0.02827849 0.06185051]\n",
      " [0.02772322 0.06149116]\n",
      " [0.02800947 0.0616903 ]\n",
      " [0.02816529 0.06179661]\n",
      " [0.0275033  0.06131471]]\n",
      "[[0.02819139 0.06179324]\n",
      " [0.02817683 0.06178012]\n",
      " [0.02799134 0.06168986]\n",
      " [0.02792382 0.06161204]\n",
      " [0.02762916 0.06141965]\n",
      " [0.02756618 0.06136678]\n",
      " [0.02785352 0.06162241]\n",
      " [0.02731737 0.06127729]]\n",
      "[[0.02709066 0.061124  ]\n",
      " [0.02812254 0.0617572 ]\n",
      " [0.02780895 0.06157152]\n",
      " [0.0271035  0.06109354]\n",
      " [0.0273406  0.06127361]\n",
      " [0.02687008 0.06093665]\n",
      " [0.02706787 0.06105564]\n",
      " [0.02822724 0.06182323]]\n",
      "[[0.02816584 0.06183315]\n",
      " [0.02820868 0.06186016]\n",
      " [0.02836122 0.0619664 ]\n",
      " [0.02778273 0.06157064]\n",
      " [0.02798731 0.06169171]\n",
      " [0.02825727 0.06188531]\n",
      " [0.02732311 0.06118917]\n",
      " [0.02702091 0.06100208]]\n",
      "[[0.0271444  0.06110663]\n",
      " [0.02850001 0.06199859]\n",
      " [0.02777367 0.06152771]\n",
      " [0.02740875 0.06131059]\n",
      " [0.02799581 0.06163017]\n",
      " [0.02841705 0.06192617]\n",
      " [0.02837983 0.06187645]\n",
      " [0.02816672 0.06176578]]\n",
      "[[0.02808047 0.06171966]\n",
      " [0.02770102 0.06139918]\n",
      " [0.02795853 0.06160694]\n",
      " [0.02783535 0.06153563]\n",
      " [0.02809109 0.06172335]\n",
      " [0.02765396 0.0614842 ]\n",
      " [0.02771194 0.06149583]\n",
      " [0.02796934 0.06161975]]\n",
      "[[0.02787642 0.0615978 ]\n",
      " [0.02850977 0.06198346]\n",
      " [0.02827624 0.06175383]\n",
      " [0.02830854 0.06184261]\n",
      " [0.02814693 0.06174581]\n",
      " [0.02817563 0.06178753]\n",
      " [0.02803392 0.06168483]\n",
      " [0.02800095 0.06167683]]\n",
      "[[0.02806868 0.06168104]\n",
      " [0.02754301 0.06130191]\n",
      " [0.02830598 0.06185046]\n",
      " [0.02802688 0.061644  ]\n",
      " [0.02805379 0.06170001]\n",
      " [0.02799469 0.06164873]\n",
      " [0.02820411 0.0618047 ]\n",
      " [0.02818236 0.06177196]]\n",
      "[[0.0280108  0.06166634]\n",
      " [0.02777207 0.06149884]\n",
      " [0.02751982 0.06140461]\n",
      " [0.02766397 0.06142641]\n",
      " [0.02757305 0.06137582]\n",
      " [0.02760265 0.06139331]\n",
      " [0.02806752 0.06168775]\n",
      " [0.02830562 0.06185605]]\n",
      "[[0.02737945 0.06114997]\n",
      " [0.02786571 0.06153153]\n",
      " [0.02843409 0.06189806]\n",
      " [0.02818475 0.06176244]\n",
      " [0.02819036 0.06173538]\n",
      " [0.028581   0.06205722]\n",
      " [0.02819046 0.06184204]\n",
      " [0.02809604 0.06173222]]\n",
      "[[0.02806448 0.06169894]\n",
      " [0.02813644 0.06177746]\n",
      " [0.02858337 0.06206165]\n",
      " [0.02725384 0.06101335]\n",
      " [0.02808284 0.06167375]\n",
      " [0.02818776 0.06176644]\n",
      " [0.02781152 0.06143037]\n",
      " [0.02828837 0.06182164]]\n",
      "[[0.02832422 0.06182138]\n",
      " [0.02836308 0.06182532]\n",
      " [0.02797875 0.06160633]\n",
      " [0.02820898 0.06175243]\n",
      " [0.02843371 0.06191034]\n",
      " [0.02805773 0.06169212]\n",
      " [0.02798346 0.06160158]\n",
      " [0.02839749 0.0618749 ]]\n",
      "[[0.02788286 0.06150946]\n",
      " [0.0278913  0.06153147]\n",
      " [0.02808661 0.06167906]\n",
      " [0.02816826 0.06175276]\n",
      " [0.02863062 0.06206123]\n",
      " [0.0272752  0.06109812]\n",
      " [0.02733165 0.06119774]\n",
      " [0.02713861 0.06102277]]\n",
      "[[0.02784845 0.06155723]\n",
      " [0.02753765 0.0613297 ]\n",
      " [0.02767136 0.06143313]\n",
      " [0.02708631 0.06097233]\n",
      " [0.02866878 0.0620976 ]\n",
      " [0.02850201 0.0619645 ]\n",
      " [0.02866865 0.0621159 ]\n",
      " [0.02878371 0.06216839]]\n",
      "[[0.02870973 0.06212562]\n",
      " [0.02868852 0.06211344]\n",
      " [0.02855818 0.06205199]\n",
      " [0.02812707 0.06171203]\n",
      " [0.0280245  0.06162714]\n",
      " [0.0286999  0.06211697]\n",
      " [0.0284658  0.06199174]\n",
      " [0.02812028 0.06173612]]\n",
      "[[0.02783785 0.0615017 ]\n",
      " [0.0280025  0.06163215]\n",
      " [0.02850847 0.06194891]\n",
      " [0.02811181 0.06167893]\n",
      " [0.02847281 0.06193404]\n",
      " [0.02814623 0.06171905]\n",
      " [0.02816835 0.06173638]\n",
      " [0.02777865 0.06146158]]\n",
      "[[0.02826986 0.06183776]\n",
      " [0.02824998 0.0617856 ]\n",
      " [0.0285999  0.06204263]\n",
      " [0.02848722 0.0619623 ]\n",
      " [0.02833368 0.06183159]\n",
      " [0.0282012  0.06174518]\n",
      " [0.02833566 0.06184081]\n",
      " [0.0283651  0.06187096]]\n",
      "[[0.0282352  0.06179433]\n",
      " [0.02832869 0.06185248]\n",
      " [0.02828621 0.06180502]\n",
      " [0.02792435 0.06159027]\n",
      " [0.02831881 0.06183154]\n",
      " [0.02827853 0.06179813]\n",
      " [0.02794881 0.0615935 ]\n",
      " [0.02824694 0.06177749]]\n",
      "[[0.02811274 0.0617228 ]\n",
      " [0.02828437 0.06183205]\n",
      " [0.02800285 0.06167348]\n",
      " [0.02794654 0.06163033]\n",
      " [0.02835406 0.06187566]\n",
      " [0.02851776 0.06198589]\n",
      " [0.0279295  0.06157608]\n",
      " [0.02785094 0.06156556]]\n",
      "[[0.02787221 0.06153693]\n",
      " [0.02818118 0.06177341]\n",
      " [0.02833479 0.06187279]\n",
      " [0.02813918 0.06169793]\n",
      " [0.02787221 0.06153693]\n",
      " [0.02819588 0.0617343 ]\n",
      " [0.02833189 0.06183719]\n",
      " [0.02859234 0.06206032]]\n",
      "[[0.02818282 0.06179966]\n",
      " [0.02807926 0.06172633]\n",
      " [0.02799616 0.06169511]\n",
      " [0.02818293 0.06183681]\n",
      " [0.02788841 0.06162582]\n",
      " [0.02803986 0.06177954]\n",
      " [0.02827102 0.06190956]\n",
      " [0.02836605 0.06195107]]\n",
      "[[0.02854472 0.06205558]\n",
      " [0.02807672 0.06174518]\n",
      " [0.02755425 0.06137208]\n",
      " [0.02646864 0.0604496 ]\n",
      " [0.02660188 0.06058341]\n",
      " [0.02622067 0.06029173]\n",
      " [0.02759176 0.06137321]\n",
      " [0.02741684 0.06118595]]\n",
      "[[0.02775821 0.06145361]\n",
      " [0.02770578 0.06142841]\n",
      " [0.02811635 0.0617603 ]\n",
      " [0.02772235 0.0614825 ]\n",
      " [0.02666387 0.06061105]\n",
      " [0.02668239 0.0606056 ]\n",
      " [0.02837517 0.06189762]\n",
      " [0.02807244 0.06172973]]\n",
      "[[0.02817105 0.06177009]\n",
      " [0.02854081 0.06201634]\n",
      " [0.02857997 0.06202212]\n",
      " [0.0283251  0.061918  ]\n",
      " [0.02847553 0.06199117]\n",
      " [0.02816742 0.06182697]\n",
      " [0.02862168 0.06209793]\n",
      " [0.02861642 0.06209395]]\n",
      "[[0.02798263 0.0616653 ]\n",
      " [0.02857897 0.0620568 ]\n",
      " [0.02861645 0.06203834]\n",
      " [0.02854462 0.0619779 ]\n",
      " [0.02863572 0.06205217]\n",
      " [0.02853559 0.06201747]\n",
      " [0.02797249 0.0616442 ]\n",
      " [0.0280521  0.06169727]]\n",
      "[[0.02842101 0.06196202]\n",
      " [0.02805933 0.06171875]\n",
      " [0.02821444 0.0618101 ]\n",
      " [0.02839933 0.06189426]\n",
      " [0.02812601 0.06171488]\n",
      " [0.02845709 0.06194813]\n",
      " [0.02862378 0.06204714]\n",
      " [0.02800872 0.06160025]]\n",
      "[[0.02857557 0.06200407]\n",
      " [0.02845908 0.06193235]\n",
      " [0.02845742 0.06195509]\n",
      " [0.02844826 0.06193081]\n",
      " [0.02828993 0.06186745]\n",
      " [0.02777762 0.06151612]\n",
      " [0.02808543 0.06175153]\n",
      " [0.02843392 0.06192182]]\n",
      "[[0.028586   0.06207486]\n",
      " [0.02853579 0.0620438 ]\n",
      " [0.02819801 0.06185546]\n",
      " [0.02781582 0.06158529]\n",
      " [0.02796486 0.06165754]\n",
      " [0.02790543 0.061597  ]\n",
      " [0.0279397  0.06165273]\n",
      " [0.0283066  0.0618958 ]]\n",
      "[[0.02833242 0.06190349]\n",
      " [0.02794933 0.06166749]\n",
      " [0.02817534 0.06182377]\n",
      " [0.02799828 0.06169626]\n",
      " [0.0282967  0.06190031]\n",
      " [0.02847869 0.06199056]\n",
      " [0.02792064 0.06164659]\n",
      " [0.02776383 0.06153136]]\n",
      "[[0.02839332 0.06197219]\n",
      " [0.0283541  0.06191317]\n",
      " [0.02784366 0.06160087]\n",
      " [0.02775625 0.06156644]\n",
      " [0.02790287 0.06166504]\n",
      " [0.02822542 0.06182576]\n",
      " [0.02839257 0.06195239]\n",
      " [0.02821041 0.06178734]]\n",
      "[[0.02864213 0.06206825]\n",
      " [0.0282703  0.06184182]\n",
      " [0.02866492 0.0620692 ]\n",
      " [0.02846101 0.06198783]\n",
      " [0.02819297 0.06184314]\n",
      " [0.02789216 0.06160402]\n",
      " [0.02786948 0.06160129]\n",
      " [0.02826143 0.06191875]]\n",
      "[[0.02778292 0.06152797]\n",
      " [0.02838127 0.06195183]\n",
      " [0.02808398 0.06174969]\n",
      " [0.02802077 0.06166693]\n",
      " [0.02811882 0.0617903 ]\n",
      " [0.02762919 0.06141816]\n",
      " [0.02790886 0.06158204]\n",
      " [0.02811485 0.06179598]]\n",
      "[[0.0276004  0.0614004 ]\n",
      " [0.02755148 0.06135406]\n",
      " [0.02808094 0.06174215]\n",
      " [0.02764835 0.06144818]\n",
      " [0.02781134 0.06157234]\n",
      " [0.02806776 0.06170275]\n",
      " [0.02817437 0.06173955]\n",
      " [0.02833741 0.06187362]]\n",
      "[[0.02779354 0.06154883]\n",
      " [0.0280938  0.06172558]\n",
      " [0.02778968 0.06147686]\n",
      " [0.02776689 0.06149083]\n",
      " [0.02798491 0.06162944]\n",
      " [0.02775588 0.06146992]\n",
      " [0.02781164 0.06151339]\n",
      " [0.02829749 0.06183074]]\n",
      "[[0.02795975 0.06162562]\n",
      " [0.02802085 0.06163098]\n",
      " [0.02788829 0.06156294]\n",
      " [0.02769655 0.0614103 ]\n",
      " [0.028095   0.06166135]\n",
      " [0.02843075 0.06190971]\n",
      " [0.0281011  0.06172493]\n",
      " [0.02772805 0.06141929]]\n",
      "[[0.02780335 0.06147872]\n",
      " [0.02691685 0.06080791]\n",
      " [0.02711899 0.06091164]\n",
      " [0.02743306 0.06115117]\n",
      " [0.02770652 0.0614568 ]\n",
      " [0.02765735 0.06141714]\n",
      " [0.02758505 0.06135963]\n",
      " [0.02794467 0.06166526]]\n",
      "[[0.02794796 0.06163029]\n",
      " [0.02792517 0.0616265 ]\n",
      " [0.02826914 0.06189024]\n",
      " [0.02850905 0.06202228]\n",
      " [0.02793445 0.06155261]\n",
      " [0.02842111 0.06194638]\n",
      " [0.0286948  0.06212395]\n",
      " [0.02858454 0.06205259]]\n",
      "[[0.0284199  0.06201971]\n",
      " [0.02776802 0.06154731]\n",
      " [0.02855966 0.06207167]\n",
      " [0.02835791 0.06187888]\n",
      " [0.0284854  0.06195039]\n",
      " [0.02846698 0.06192448]\n",
      " [0.02769427 0.06150554]\n",
      " [0.02734069 0.06125381]]\n",
      "[[0.02668258 0.06076588]\n",
      " [0.02686867 0.06090613]\n",
      " [0.0279188  0.0616837 ]\n",
      " [0.0276898  0.06149359]\n",
      " [0.02722182 0.06116036]\n",
      " [0.0281751  0.06187   ]\n",
      " [0.02773884 0.06155724]\n",
      " [0.02674339 0.06085531]]\n",
      "[[0.02752107 0.0613269 ]\n",
      " [0.02727165 0.06120872]\n",
      " [0.02732725 0.06126779]\n",
      " [0.02792372 0.06172072]\n",
      " [0.02742586 0.06133706]\n",
      " [0.02779569 0.06169624]\n",
      " [0.02749824 0.061419  ]\n",
      " [0.0274887  0.0613784 ]]\n",
      "[[0.02771199 0.06154253]\n",
      " [0.02794366 0.06161803]\n",
      " [0.02758182 0.06136374]\n",
      " [0.02681367 0.06074357]\n",
      " [0.02745824 0.06131536]\n",
      " [0.02690138 0.06083358]\n",
      " [0.0273713  0.06131421]\n",
      " [0.02767734 0.06154104]]\n"
     ]
    },
    {
     "name": "stdout",
     "output_type": "stream",
     "text": [
      "[[0.02735402 0.0613298 ]\n",
      " [0.02793602 0.06174469]\n",
      " [0.02749975 0.06139186]\n",
      " [0.02727384 0.06120887]\n",
      " [0.02723004 0.06116445]\n",
      " [0.02762802 0.06146903]\n",
      " [0.0278246  0.06161895]\n",
      " [0.02749627 0.0613559 ]]\n",
      "[[0.02834162 0.06199091]\n",
      " [0.02837289 0.06198822]\n",
      " [0.02847979 0.0620535 ]\n",
      " [0.02782625 0.06157361]\n",
      " [0.0285384  0.06210801]\n",
      " [0.02848467 0.06203857]\n",
      " [0.0284314  0.06203763]\n",
      " [0.02860703 0.06214925]]\n",
      "[[0.0285602  0.06210617]\n",
      " [0.02854205 0.06210703]\n",
      " [0.02862173 0.06209829]\n",
      " [0.02847981 0.06207997]\n",
      " [0.02850036 0.06208783]\n",
      " [0.02842798 0.06201804]\n",
      " [0.02858754 0.06203591]\n",
      " [0.02786138 0.06156982]]\n",
      "[[0.027596   0.06138119]\n",
      " [0.02764558 0.06141648]\n",
      " [0.02816195 0.06174799]\n",
      " [0.02758032 0.06130665]\n",
      " [0.02812776 0.06175952]\n",
      " [0.02785896 0.06158025]\n",
      " [0.02814187 0.06177159]\n",
      " [0.02803903 0.06175007]]\n",
      "[[0.02759832 0.06141866]\n",
      " [0.02825717 0.06187378]\n",
      " [0.02818562 0.06181063]\n",
      " [0.02866304 0.0621417 ]\n",
      " [0.02777593 0.06151799]\n",
      " [0.02855026 0.06202837]\n",
      " [0.02785418 0.06157336]\n",
      " [0.02792073 0.06166466]]\n",
      "[[0.02806136 0.0617616 ]\n",
      " [0.02780591 0.06158974]\n",
      " [0.02838406 0.06195827]\n",
      " [0.02831273 0.06188663]\n",
      " [0.02813563 0.06173119]\n",
      " [0.02829982 0.06181631]\n",
      " [0.02836519 0.06189287]\n",
      " [0.0279961  0.06160893]]\n",
      "[[0.02839528 0.06191309]\n",
      " [0.02788765 0.06154289]\n",
      " [0.02830159 0.0618334 ]\n",
      " [0.02852675 0.06199187]\n",
      " [0.0283203  0.06187394]\n",
      " [0.02851868 0.06202695]\n",
      " [0.02784035 0.06148923]\n",
      " [0.02817778 0.06181185]]\n",
      "[[0.0283432  0.06191474]\n",
      " [0.02793076 0.0615753 ]\n",
      " [0.02798657 0.06162662]\n",
      " [0.02835051 0.06193686]\n",
      " [0.02854444 0.06200162]\n",
      " [0.02797876 0.06160325]\n",
      " [0.02832871 0.06190449]\n",
      " [0.02800178 0.06164498]]\n",
      "[[0.02813405 0.06170328]\n",
      " [0.02788209 0.06161568]\n",
      " [0.02780486 0.06155425]\n",
      " [0.0284291  0.06193484]\n",
      " [0.02849265 0.06202474]\n",
      " [0.0284461  0.0619706 ]\n",
      " [0.0279447  0.06164768]\n",
      " [0.02817904 0.06181617]]\n",
      "[[0.02819962 0.06182127]\n",
      " [0.02793324 0.06160484]\n",
      " [0.02846814 0.06199869]\n",
      " [0.0272602  0.06101479]\n",
      " [0.0282513  0.06181976]\n",
      " [0.02820409 0.06176668]\n",
      " [0.02837646 0.06190928]\n",
      " [0.02831708 0.06184494]]\n",
      "[[0.02793385 0.06151353]\n",
      " [0.0281565  0.0617453 ]\n",
      " [0.02817325 0.06175659]\n",
      " [0.02792587 0.06158617]\n",
      " [0.02739197 0.06119799]\n",
      " [0.02819714 0.06180486]\n",
      " [0.0281844  0.06179326]\n",
      " [0.02779832 0.06148674]]\n",
      "[[0.02827406 0.06181146]\n",
      " [0.02828361 0.06183834]\n",
      " [0.02777301 0.0614829 ]\n",
      " [0.02843566 0.06193509]\n",
      " [0.02853421 0.06195278]\n",
      " [0.02820672 0.0617642 ]\n",
      " [0.0280642  0.06167091]\n",
      " [0.0277626  0.06151384]]\n",
      "[[0.02761227 0.06141407]\n",
      " [0.02773722 0.06151119]\n",
      " [0.02770997 0.06145804]\n",
      " [0.02711086 0.06098824]\n",
      " [0.02723872 0.06109   ]\n",
      " [0.0280176  0.06164403]\n",
      " [0.02812618 0.06177598]\n",
      " [0.02787631 0.06161422]]\n",
      "[[0.02747206 0.06129683]\n",
      " [0.02758633 0.06137693]\n",
      " [0.02758598 0.06134275]\n",
      " [0.02711535 0.06100261]\n",
      " [0.02709709 0.06097175]\n",
      " [0.02843519 0.06194539]\n",
      " [0.02830585 0.06186103]\n",
      " [0.02855441 0.06199989]]\n",
      "[[0.02836148 0.06187293]\n",
      " [0.02858208 0.06199987]\n",
      " [0.0284606  0.06192226]\n",
      " [0.02847365 0.06189449]\n",
      " [0.02828521 0.06179095]\n",
      " [0.02859503 0.06199395]\n",
      " [0.02840708 0.0619137 ]\n",
      " [0.02821809 0.06177008]]\n",
      "[[0.02863705 0.0620207 ]\n",
      " [0.02823882 0.06179126]\n",
      " [0.02877773 0.06218725]\n",
      " [0.02870141 0.0621422 ]\n",
      " [0.02853515 0.06202019]\n",
      " [0.02861723 0.06206827]\n",
      " [0.02876836 0.06217969]\n",
      " [0.02871293 0.06213958]]\n",
      "[[0.02822271 0.06180254]\n",
      " [0.02822665 0.06186263]\n",
      " [0.02851177 0.06202799]\n",
      " [0.0284549  0.06198531]\n",
      " [0.02864677 0.06212635]\n",
      " [0.02800648 0.06169919]\n",
      " [0.02812065 0.06175361]\n",
      " [0.02834475 0.06192948]]\n",
      "[[0.0287484  0.06215969]\n",
      " [0.02881096 0.06218528]\n",
      " [0.02878848 0.06218855]\n",
      " [0.02857493 0.06206205]\n",
      " [0.02877755 0.06217331]\n",
      " [0.02884817 0.06221919]\n",
      " [0.02852402 0.06202889]\n",
      " [0.02876067 0.06216266]]\n",
      "[[0.02878557 0.06219492]\n",
      " [0.02876025 0.06215075]\n",
      " [0.02838829 0.06196948]\n",
      " [0.02795685 0.06164748]\n",
      " [0.02818035 0.06177424]\n",
      " [0.02850087 0.06201259]\n",
      " [0.02807762 0.06172705]\n",
      " [0.02798804 0.06163977]]\n",
      "[[0.02816479 0.06178109]\n",
      " [0.02811315 0.06175749]\n",
      " [0.02837424 0.06190773]\n",
      " [0.02806238 0.06170607]\n",
      " [0.02828864 0.06188655]\n",
      " [0.02820301 0.06178496]\n",
      " [0.02792936 0.06160681]\n",
      " [0.02791977 0.0616155 ]]\n",
      "[[0.02805435 0.06165693]\n",
      " [0.0281338  0.06172523]\n",
      " [0.0279641  0.06164659]\n",
      " [0.02772802 0.06147335]\n",
      " [0.02725808 0.06116318]\n",
      " [0.02828918 0.0618318 ]\n",
      " [0.02809533 0.06165535]\n",
      " [0.02832896 0.06187037]]\n",
      "[[0.02793129 0.06161943]\n",
      " [0.02783421 0.06153661]\n",
      " [0.02837876 0.06189514]\n",
      " [0.02822889 0.06177844]\n",
      " [0.02812223 0.06170639]\n",
      " [0.02758178 0.06134872]\n",
      " [0.02777644 0.06148501]\n",
      " [0.02805813 0.06170003]]\n",
      "[[0.02772735 0.06145201]\n",
      " [0.0276957  0.06140911]\n",
      " [0.02804023 0.06170408]\n",
      " [0.02773205 0.06151074]\n",
      " [0.02814731 0.06177393]\n",
      " [0.02811998 0.06176961]\n",
      " [0.0276987  0.06147915]\n",
      " [0.02772971 0.06151275]]\n",
      "[[0.02855584 0.06201235]\n",
      " [0.0284758  0.06197342]\n",
      " [0.02794463 0.06164984]\n",
      " [0.02841194 0.06193815]\n",
      " [0.02790627 0.06160729]\n",
      " [0.02841708 0.06193294]\n",
      " [0.02844993 0.06195017]\n",
      " [0.02806036 0.06169052]]\n",
      "[[0.02798107 0.06163822]\n",
      " [0.02837922 0.06191624]\n",
      " [0.02807496 0.06171614]\n",
      " [0.02837542 0.061919  ]\n",
      " [0.02853376 0.06201539]\n",
      " [0.02775033 0.06152324]\n",
      " [0.02753474 0.06133972]\n",
      " [0.02752252 0.0613547 ]]\n",
      "[[0.02766849 0.06144511]\n",
      " [0.02689556 0.06089363]\n",
      " [0.02657153 0.06066031]\n",
      " [0.02663782 0.06070346]\n",
      " [0.02828068 0.06185975]\n",
      " [0.0281524  0.06178905]\n",
      " [0.02794081 0.061547  ]\n",
      " [0.02799436 0.06158128]]\n",
      "[[0.02820565 0.06180967]\n",
      " [0.02781965 0.06154047]\n",
      " [0.02785495 0.06156611]\n",
      " [0.02741986 0.06115222]\n",
      " [0.02735547 0.06118825]\n",
      " [0.02795791 0.06159642]\n",
      " [0.02746375 0.06123107]\n",
      " [0.02756974 0.06131407]]\n",
      "[[0.02810729 0.06171113]\n",
      " [0.02751036 0.06125815]\n",
      " [0.02745829 0.06124127]\n",
      " [0.02794771 0.06161831]\n",
      " [0.02772075 0.0614398 ]\n",
      " [0.02745837 0.06123761]\n",
      " [0.02811902 0.06173141]\n",
      " [0.0273695  0.06119067]]\n",
      "[[0.02713757 0.06101555]\n",
      " [0.0278443  0.06153579]\n",
      " [0.02796696 0.06165452]\n",
      " [0.02738959 0.06124137]\n",
      " [0.02700431 0.06096279]\n",
      " [0.02811707 0.06176664]\n",
      " [0.02757328 0.06136326]\n",
      " [0.02781783 0.06153939]]\n",
      "[[0.02795101 0.06159917]\n",
      " [0.02783483 0.06157463]\n",
      " [0.02706986 0.06091483]\n",
      " [0.02730292 0.06106608]\n",
      " [0.02763378 0.06135608]\n",
      " [0.0271556  0.0610784 ]\n",
      " [0.02698533 0.06091199]\n",
      " [0.0273467  0.06120994]]\n",
      "[[0.02710499 0.06092347]\n",
      " [0.02765339 0.06138875]\n",
      " [0.02718232 0.06103517]\n",
      " [0.02690667 0.06085655]\n",
      " [0.02754433 0.06130984]\n",
      " [0.02853538 0.06196371]\n",
      " [0.02781091 0.06143478]\n",
      " [0.02850334 0.06190594]]\n",
      "[[0.02837842 0.0618742 ]\n",
      " [0.02794682 0.0615762 ]\n",
      " [0.02766953 0.0613299 ]\n",
      " [0.0282045  0.06178176]\n",
      " [0.02812689 0.06173458]\n",
      " [0.02831917 0.06186621]\n",
      " [0.02846696 0.06196033]\n",
      " [0.02837842 0.06188376]]\n",
      "[[0.02798098 0.06161012]\n",
      " [0.0281506  0.0617281 ]\n",
      " [0.02811511 0.06166514]\n",
      " [0.02834421 0.0618904 ]\n",
      " [0.02843637 0.06195503]\n",
      " [0.02826515 0.06183346]\n",
      " [0.02863193 0.06205932]\n",
      " [0.02850367 0.06197281]]\n",
      "[[0.02846349 0.06196585]\n",
      " [0.02786093 0.06154781]\n",
      " [0.02793047 0.06160718]\n",
      " [0.02840381 0.06193163]\n",
      " [0.02830762 0.06189564]\n",
      " [0.02830368 0.06188802]\n",
      " [0.02820082 0.06181531]\n",
      " [0.02824392 0.06184085]]\n",
      "[[0.02817468 0.0618062 ]\n",
      " [0.02817452 0.06182839]\n",
      " [0.02774775 0.06152349]\n",
      " [0.02781719 0.06151119]\n",
      " [0.02820242 0.06184197]\n",
      " [0.02793746 0.06165167]\n",
      " [0.02806162 0.06171236]\n",
      " [0.02817982 0.06180458]]\n",
      "[[0.02767674 0.06143878]\n",
      " [0.02791286 0.06162593]\n",
      " [0.02773698 0.06149585]\n",
      " [0.0279465  0.06167526]\n",
      " [0.02847036 0.06196133]\n",
      " [0.02812873 0.06181649]\n",
      " [0.02799825 0.06171362]\n",
      " [0.02830474 0.06192377]]\n",
      "[[0.02792127 0.06167732]\n",
      " [0.02781377 0.06155415]\n",
      " [0.02843987 0.06195798]\n",
      " [0.02775307 0.06149215]\n",
      " [0.02766095 0.06150109]\n",
      " [0.02797654 0.06171815]\n",
      " [0.02772023 0.06153888]\n",
      " [0.0280893  0.0617086 ]]\n",
      "[[0.02856909 0.06203967]\n",
      " [0.02844429 0.06192762]\n",
      " [0.02866803 0.06203729]\n",
      " [0.02832594 0.06186173]\n",
      " [0.02851451 0.06196732]\n",
      " [0.02858039 0.06201309]\n",
      " [0.0270393  0.06092495]\n",
      " [0.02718772 0.06103541]]\n",
      "[[0.02855108 0.06199319]\n",
      " [0.02856128 0.06200669]\n",
      " [0.02868367 0.0621346 ]\n",
      " [0.02866672 0.06207681]\n",
      " [0.02865367 0.0620595 ]\n",
      " [0.02851864 0.06201676]\n",
      " [0.02857022 0.06202082]\n",
      " [0.02866245 0.0620596 ]]\n",
      "[[0.02853156 0.06198496]\n",
      " [0.02845212 0.06195945]\n",
      " [0.0284788  0.06198601]\n",
      " [0.02842583 0.06196979]\n",
      " [0.02866009 0.06205974]\n",
      " [0.02843235 0.06197305]\n",
      " [0.02854071 0.06204962]\n",
      " [0.02865225 0.06206367]]\n",
      "[[0.02864238 0.06205167]\n",
      " [0.02867349 0.06208646]\n",
      " [0.02860032 0.06206305]\n",
      " [0.02858325 0.06204073]\n",
      " [0.02798334 0.06170052]\n",
      " [0.02833845 0.06192553]\n",
      " [0.02862618 0.06203726]\n",
      " [0.0285555  0.06201616]]\n"
     ]
    },
    {
     "name": "stdout",
     "output_type": "stream",
     "text": [
      "[[0.02864787 0.06205176]\n",
      " [0.02866889 0.06208568]\n",
      " [0.02874346 0.06212786]\n",
      " [0.02860637 0.06203949]\n",
      " [0.02863287 0.06202974]\n",
      " [0.02862135 0.06204085]\n",
      " [0.02861682 0.06203927]\n",
      " [0.02870465 0.06210803]]\n",
      "[[0.02865825 0.06205952]\n",
      " [0.02853959 0.06200098]\n",
      " [0.02832561 0.06184807]\n",
      " [0.02846578 0.06194786]\n",
      " [0.02850405 0.0619693 ]\n",
      " [0.02848912 0.06197927]\n",
      " [0.02856066 0.06200535]\n",
      " [0.02852729 0.06196997]]\n",
      "[[0.02866102 0.06204948]\n",
      " [0.02843467 0.06198626]\n",
      " [0.02864781 0.06205533]\n",
      " [0.02846297 0.06195148]\n",
      " [0.028397   0.06194317]\n",
      " [0.02863548 0.0620395 ]\n",
      " [0.02840799 0.06190997]\n",
      " [0.02787667 0.06155305]]\n",
      "[[0.0274845  0.06124007]\n",
      " [0.02736905 0.0611687 ]\n",
      " [0.02817031 0.06174694]\n",
      " [0.02773419 0.06144791]\n",
      " [0.02751655 0.06123224]\n",
      " [0.02790457 0.06157173]\n",
      " [0.02822091 0.06177581]\n",
      " [0.02839567 0.06189001]]\n",
      "[[0.02782865 0.0614861 ]\n",
      " [0.02746008 0.06125766]\n",
      " [0.02815524 0.06175673]\n",
      " [0.02830887 0.06181156]\n",
      " [0.02754332 0.06134259]\n",
      " [0.02783341 0.06153507]\n",
      " [0.02806551 0.06165715]\n",
      " [0.02744768 0.06123005]]\n",
      "[[0.02782538 0.06148042]\n",
      " [0.02737733 0.06114154]\n",
      " [0.02751431 0.06126918]\n",
      " [0.02802626 0.06165846]\n",
      " [0.02720929 0.06100047]\n",
      " [0.02756413 0.06131351]\n",
      " [0.02742201 0.06119076]\n",
      " [0.02756419 0.06130792]]\n",
      "[[0.02827546 0.06186116]\n",
      " [0.02672204 0.06065248]\n",
      " [0.02738169 0.06117703]\n",
      " [0.02766952 0.06144601]\n",
      " [0.02776776 0.06150666]\n",
      " [0.02789352 0.06154913]\n",
      " [0.02727382 0.0611272 ]\n",
      " [0.02752816 0.06127382]]\n",
      "[[0.02756637 0.06134826]\n",
      " [0.02760285 0.06135813]\n",
      " [0.02783911 0.06154083]\n",
      " [0.02770684 0.06144173]\n",
      " [0.02684614 0.0606876 ]\n",
      " [0.02818493 0.06170254]\n",
      " [0.02754004 0.06132719]\n",
      " [0.0273071  0.06118153]]\n",
      "[[0.02766334 0.06141208]\n",
      " [0.02758108 0.06136528]\n",
      " [0.02739131 0.06121413]\n",
      " [0.02825392 0.06185507]\n",
      " [0.02810306 0.06170643]\n",
      " [0.02823764 0.06182373]\n",
      " [0.02806016 0.06168918]\n",
      " [0.02766775 0.06141414]]\n",
      "[[0.02754087 0.06131381]\n",
      " [0.02819981 0.06179254]\n",
      " [0.0283016  0.06185098]\n",
      " [0.02846583 0.06195756]\n",
      " [0.02795717 0.06162032]\n",
      " [0.02828189 0.06187566]\n",
      " [0.02765923 0.06148482]\n",
      " [0.02750276 0.0613587 ]]\n",
      "[[0.02798919 0.06164839]\n",
      " [0.02747082 0.06129104]\n",
      " [0.02764725 0.06139214]\n",
      " [0.02782042 0.06154186]\n",
      " [0.02797276 0.0616496 ]\n",
      " [0.0280005  0.0616679 ]\n",
      " [0.0279509  0.06163247]\n",
      " [0.0277177  0.06149208]]\n",
      "[[0.0278388  0.06157197]\n",
      " [0.02785068 0.06154601]\n",
      " [0.02790617 0.06158982]\n",
      " [0.02814586 0.0617419 ]\n",
      " [0.02804374 0.0617204 ]\n",
      " [0.02793702 0.06161168]\n",
      " [0.02770844 0.0614552 ]\n",
      " [0.02799994 0.06166998]]\n",
      "[[0.0277536  0.06146606]\n",
      " [0.0277576  0.06146348]\n",
      " [0.0280281  0.06163865]\n",
      " [0.02683861 0.06074732]\n",
      " [0.02745656 0.06126046]\n",
      " [0.02699902 0.06087534]\n",
      " [0.02703745 0.06092061]\n",
      " [0.02720759 0.06108681]]\n",
      "[[0.02753182 0.0613107 ]\n",
      " [0.02765842 0.06139431]\n",
      " [0.02704327 0.06095356]\n",
      " [0.02738835 0.06120111]\n",
      " [0.02806116 0.06168947]\n",
      " [0.02795344 0.06160247]\n",
      " [0.02773535 0.0614403 ]\n",
      " [0.0277526  0.06146959]]\n",
      "[[0.02745076 0.06127558]\n",
      " [0.02728057 0.06107463]\n",
      " [0.02814658 0.06179242]\n",
      " [0.02802121 0.0617208 ]\n",
      " [0.02764718 0.06149002]\n",
      " [0.02816604 0.06180438]\n",
      " [0.0273554  0.06125187]\n",
      " [0.02825968 0.0618278 ]]\n",
      "[[0.02796504 0.06168192]\n",
      " [0.02776479 0.06147679]\n",
      " [0.0280695  0.06170993]\n",
      " [0.02798301 0.06167993]\n",
      " [0.02800993 0.06161405]\n",
      " [0.02797054 0.06159609]\n",
      " [0.02799655 0.06160988]\n",
      " [0.02800615 0.06164095]]\n",
      "[[0.02840726 0.06189647]\n",
      " [0.02841533 0.06190838]\n",
      " [0.02845347 0.06194784]\n",
      " [0.02726676 0.0610892 ]\n",
      " [0.02844171 0.06193031]\n",
      " [0.02833804 0.06183746]\n",
      " [0.02852723 0.06200742]\n",
      " [0.02826198 0.06179245]]\n",
      "[[0.02840345 0.06187906]\n",
      " [0.0283725  0.06186325]\n",
      " [0.02744609 0.06118048]\n",
      " [0.02749378 0.06128289]\n",
      " [0.02843303 0.06191752]\n",
      " [0.02779264 0.06145867]\n",
      " [0.02789896 0.0615848 ]\n",
      " [0.02733938 0.06114513]]\n",
      "[[0.02718873 0.06100801]\n",
      " [0.02788274 0.06156462]\n",
      " [0.02770126 0.06143176]\n",
      " [0.02704419 0.06083574]\n",
      " [0.02831026 0.06183547]\n",
      " [0.02864161 0.06207694]\n",
      " [0.02798401 0.06163368]\n",
      " [0.02824778 0.06181419]]\n",
      "[[0.02811945 0.06172229]\n",
      " [0.02800344 0.06164518]\n",
      " [0.02837557 0.06187385]\n",
      " [0.02812928 0.06174698]\n",
      " [0.0276228  0.06139588]\n",
      " [0.02846379 0.06195069]\n",
      " [0.02855456 0.06204602]\n",
      " [0.02829409 0.06183619]]\n",
      "[[0.02825732 0.06181587]\n",
      " [0.02814098 0.06175068]\n",
      " [0.0282161  0.06179977]\n",
      " [0.02821923 0.06179427]\n",
      " [0.02770792 0.06149311]\n",
      " [0.02852487 0.0620131 ]\n",
      " [0.02788543 0.0616695 ]\n",
      " [0.0278688  0.06162984]]\n",
      "[[0.02798372 0.06160091]\n",
      " [0.0275193  0.06126541]\n",
      " [0.02758152 0.06132225]\n",
      " [0.027851   0.06150883]\n",
      " [0.02754618 0.06128746]\n",
      " [0.02811004 0.06166945]\n",
      " [0.02807725 0.06166491]\n",
      " [0.0279287  0.06155891]]\n",
      "[[0.0279835  0.06159667]\n",
      " [0.02774118 0.0614361 ]\n",
      " [0.0278258  0.06149584]\n",
      " [0.02769361 0.06139471]\n",
      " [0.02767577 0.0613708 ]\n",
      " [0.02828581 0.06178975]\n",
      " [0.02797853 0.06159465]\n",
      " [0.02801492 0.06157082]]\n",
      "[[0.02819589 0.06172111]\n",
      " [0.02860915 0.0620087 ]\n",
      " [0.02848555 0.06194968]\n",
      " [0.02811868 0.06171844]\n",
      " [0.02795309 0.06160517]\n",
      " [0.02815628 0.06185449]\n",
      " [0.0267738  0.0608091 ]\n",
      " [0.02832222 0.06187819]]\n",
      "[[0.02778557 0.06152226]\n",
      " [0.02779813 0.06153234]\n",
      " [0.02805737 0.06172313]\n",
      " [0.02801647 0.06167454]\n",
      " [0.02744915 0.06130485]\n",
      " [0.02835638 0.0618927 ]\n",
      " [0.02839116 0.06196586]\n",
      " [0.02830148 0.06188459]]\n",
      "[[0.02766888 0.06145275]\n",
      " [0.02720887 0.06112383]\n",
      " [0.02789364 0.06161424]\n",
      " [0.02758064 0.06137487]\n",
      " [0.02731733 0.06116763]\n",
      " [0.02765009 0.06137832]\n",
      " [0.02731549 0.06117213]\n",
      " [0.02788189 0.0616067 ]]\n",
      "[[0.02773261 0.06147875]\n",
      " [0.02766581 0.06142556]\n",
      " [0.02807707 0.06173464]\n",
      " [0.02826026 0.06178999]\n",
      " [0.02765345 0.06137965]\n",
      " [0.02835913 0.06191386]\n",
      " [0.02729212 0.06121249]\n",
      " [0.02838198 0.06193173]]\n",
      "[[0.02844517 0.06196132]\n",
      " [0.02766818 0.0614163 ]\n",
      " [0.02783599 0.06153345]\n",
      " [0.02723523 0.06106702]\n",
      " [0.02835567 0.06194388]\n",
      " [0.02737659 0.06122842]\n",
      " [0.02839736 0.06195551]\n",
      " [0.02838051 0.06193665]]\n",
      "[[0.02816181 0.06176565]\n",
      " [0.02783561 0.06156014]\n",
      " [0.02843755 0.06197469]\n",
      " [0.02825044 0.06186246]\n",
      " [0.02831723 0.06192494]\n",
      " [0.02863171 0.06207483]\n",
      " [0.02813822 0.06175506]\n",
      " [0.02880019 0.06220389]]\n",
      "[[0.02805498 0.06173743]\n",
      " [0.02867514 0.06213698]\n",
      " [0.02800713 0.0616555 ]\n",
      " [0.02871912 0.06214774]\n",
      " [0.02861949 0.06207009]\n",
      " [0.0283402  0.06187887]\n",
      " [0.02822882 0.06181796]\n",
      " [0.02843701 0.06195304]]\n",
      "[[0.02767464 0.06141752]\n",
      " [0.02849664 0.06198437]\n",
      " [0.02836831 0.06187496]\n",
      " [0.02838323 0.06188856]\n",
      " [0.02864944 0.06209563]\n",
      " [0.02848136 0.06201384]\n",
      " [0.02743639 0.06127442]\n",
      " [0.02793748 0.06158645]]\n",
      "[[0.02808309 0.06170453]\n",
      " [0.02777798 0.0615428 ]\n",
      " [0.02755763 0.0613524 ]\n",
      " [0.02816464 0.06174018]\n",
      " [0.0281198  0.0616956 ]\n",
      " [0.02788914 0.06156073]\n",
      " [0.02817118 0.06174148]\n",
      " [0.02708705 0.06095939]]\n",
      "[[0.0279304  0.06161425]\n",
      " [0.02792199 0.06159795]\n",
      " [0.02821577 0.06176804]\n",
      " [0.02800315 0.06167963]\n",
      " [0.02812788 0.06176562]\n",
      " [0.02787411 0.06158916]\n",
      " [0.02752133 0.06132004]\n",
      " [0.02771601 0.06145399]]\n",
      "[[0.02788379 0.06158647]\n",
      " [0.02810419 0.0617717 ]\n",
      " [0.02809251 0.06178283]\n",
      " [0.02835244 0.06190775]\n",
      " [0.02811782 0.06173936]\n",
      " [0.02854499 0.06198394]\n",
      " [0.02865272 0.06213775]\n",
      " [0.02803152 0.06178753]]\n",
      "[[0.0281416  0.06179461]\n",
      " [0.02829957 0.0618822 ]\n",
      " [0.02851355 0.06198065]\n",
      " [0.02885284 0.06219189]\n",
      " [0.02804485 0.06168812]\n",
      " [0.02837818 0.06193735]\n",
      " [0.02811769 0.06172775]\n",
      " [0.02738579 0.06118905]]\n",
      "[[0.02737014 0.06115774]\n",
      " [0.02808103 0.06170828]\n",
      " [0.02727051 0.06108606]\n",
      " [0.02845928 0.06194207]\n",
      " [0.02820769 0.06178008]\n",
      " [0.02798491 0.06163619]\n",
      " [0.02809027 0.06170658]\n",
      " [0.02830826 0.06183261]]\n",
      "[[0.02830254 0.06183565]\n",
      " [0.02818635 0.06177939]\n",
      " [0.02868135 0.06206305]\n",
      " [0.02756527 0.06141036]\n",
      " [0.02837764 0.06194853]\n",
      " [0.02824556 0.06182295]\n",
      " [0.02780544 0.06154392]\n",
      " [0.02774773 0.06149088]]\n",
      "[[0.02828994 0.06183719]\n",
      " [0.02769211 0.06150366]\n",
      " [0.02760847 0.06141926]\n",
      " [0.0282643  0.06185379]\n",
      " [0.02781622 0.06158475]\n",
      " [0.02796036 0.06166748]\n",
      " [0.02768474 0.06150714]\n",
      " [0.02802137 0.06168562]]\n",
      "[[0.02746799 0.06128441]\n",
      " [0.02740624 0.0612405 ]\n",
      " [0.02866864 0.06208383]\n",
      " [0.02774007 0.06145415]\n",
      " [0.02821068 0.06177004]\n",
      " [0.02779511 0.06144502]\n",
      " [0.02774367 0.06143741]\n",
      " [0.02831585 0.06187728]]\n",
      "[[0.02835286 0.0618773 ]\n",
      " [0.02858574 0.06202047]\n",
      " [0.02806807 0.06164662]\n",
      " [0.02842676 0.06193877]\n",
      " [0.02813901 0.06174833]\n",
      " [0.02756949 0.06133766]\n",
      " [0.02777339 0.06148409]\n",
      " [0.02844059 0.06196865]]\n",
      "[[0.02782356 0.06154056]\n",
      " [0.02809857 0.06172679]\n",
      " [0.02772881 0.06145649]\n",
      " [0.02775319 0.06146695]\n",
      " [0.02831122 0.06183151]\n",
      " [0.02741267 0.06129569]\n",
      " [0.02771896 0.06152627]\n",
      " [0.02712346 0.06103196]]\n"
     ]
    },
    {
     "name": "stdout",
     "output_type": "stream",
     "text": [
      "[[0.02780561 0.06154445]\n",
      " [0.02783868 0.06160479]\n",
      " [0.02761276 0.06134913]\n",
      " [0.02740985 0.0612636 ]\n",
      " [0.02755603 0.06130825]\n",
      " [0.02738316 0.06115357]\n",
      " [0.02679246 0.06078272]\n",
      " [0.02716687 0.0610912 ]]\n",
      "[[0.02793743 0.0616322 ]\n",
      " [0.02714444 0.0610466 ]\n",
      " [0.0272059  0.06107621]\n",
      " [0.02744746 0.06121702]\n",
      " [0.02818561 0.06181481]\n",
      " [0.02753035 0.06128025]\n",
      " [0.02785577 0.06155341]\n",
      " [0.02753754 0.06139635]]\n",
      "[[0.02829765 0.06191467]\n",
      " [0.02775133 0.06142434]\n",
      " [0.02784124 0.06146334]\n",
      " [0.02828196 0.06186629]\n",
      " [0.02831589 0.06188357]\n",
      " [0.02788765 0.06153265]\n",
      " [0.02818747 0.06177807]\n",
      " [0.02796606 0.06162542]]\n",
      "[[0.02740789 0.06127937]\n",
      " [0.02759885 0.06138565]\n",
      " [0.0281778  0.06181825]\n",
      " [0.02821462 0.06186364]\n",
      " [0.02796568 0.06159549]\n",
      " [0.02771961 0.06143923]\n",
      " [0.02807516 0.06169751]\n",
      " [0.02792953 0.06158319]]\n",
      "[[0.02755013 0.06128602]\n",
      " [0.02710143 0.06097358]\n",
      " [0.02800729 0.06162272]\n",
      " [0.02712837 0.06101381]\n",
      " [0.0270755  0.06102794]\n",
      " [0.02710062 0.06103832]\n",
      " [0.02824341 0.06185199]\n",
      " [0.02817221 0.06176617]]\n",
      "[[0.02815863 0.06174237]\n",
      " [0.02767761 0.06146698]\n",
      " [0.02740837 0.06122998]\n",
      " [0.02748658 0.06129947]\n",
      " [0.02826186 0.06179889]\n",
      " [0.02806008 0.06173477]\n",
      " [0.02754516 0.06129928]\n",
      " [0.02751681 0.0612702 ]]\n",
      "[[0.02795198 0.06161717]\n",
      " [0.02789338 0.06156835]\n",
      " [0.02783033 0.06152707]\n",
      " [0.02772715 0.06147419]\n",
      " [0.02788347 0.06157643]\n",
      " [0.0278173  0.0614922 ]\n",
      " [0.02794825 0.06159545]\n",
      " [0.02829674 0.06187144]]\n",
      "[[0.02861359 0.0620346 ]\n",
      " [0.0283023  0.06188012]\n",
      " [0.02869051 0.06207822]\n",
      " [0.02874402 0.06211426]\n",
      " [0.02846417 0.06196522]\n",
      " [0.02862261 0.06203004]\n",
      " [0.02848532 0.06197269]\n",
      " [0.02859343 0.06200023]]\n",
      "[[0.0284806  0.06192   ]\n",
      " [0.0286694  0.06204863]\n",
      " [0.02864501 0.06204489]\n",
      " [0.02851205 0.06195691]\n",
      " [0.02860151 0.0620444 ]\n",
      " [0.02858904 0.06202885]\n",
      " [0.02856158 0.06198839]\n",
      " [0.02839502 0.06194203]]\n",
      "[[0.02856737 0.06198861]\n",
      " [0.02840008 0.0619021 ]\n",
      " [0.02858904 0.06202885]\n",
      " [0.02832762 0.06189876]\n",
      " [0.02858675 0.06202398]\n",
      " [0.0285245  0.06196835]\n",
      " [0.02861204 0.06205516]\n",
      " [0.02844399 0.06197953]]\n",
      "[[0.02851358 0.06202699]\n",
      " [0.02803226 0.06170161]\n",
      " [0.02856532 0.06199987]\n",
      " [0.02862648 0.06204185]\n",
      " [0.02864836 0.06205001]\n",
      " [0.02853287 0.06198419]\n",
      " [0.02841047 0.06193471]\n",
      " [0.02856095 0.06201063]]\n",
      "[[0.02871439 0.062119  ]\n",
      " [0.0286465  0.06206966]\n",
      " [0.02863607 0.06207178]\n",
      " [0.02842818 0.061952  ]\n",
      " [0.0285222  0.06202868]\n",
      " [0.02867355 0.06206577]\n",
      " [0.02847992 0.06198223]\n",
      " [0.02890295 0.06222963]]\n",
      "[[0.02842588 0.06194665]\n",
      " [0.02857146 0.06205034]\n",
      " [0.02877232 0.06214273]\n",
      " [0.02880255 0.06216919]\n",
      " [0.02792634 0.06158881]\n",
      " [0.0275247  0.06129418]\n",
      " [0.02803079 0.06167061]\n",
      " [0.02782345 0.06149912]]\n",
      "[[0.02800981 0.06165908]\n",
      " [0.02805434 0.06168003]\n",
      " [0.02826581 0.06181122]\n",
      " [0.02808285 0.06170909]\n",
      " [0.0276101  0.06134957]\n",
      " [0.02761684 0.06133537]\n",
      " [0.02810155 0.06172027]\n",
      " [0.02762298 0.06133539]]\n",
      "[[0.02817487 0.06172379]\n",
      " [0.02758325 0.061333  ]\n",
      " [0.02815321 0.06176895]\n",
      " [0.02777141 0.06153116]\n",
      " [0.02752754 0.06132401]\n",
      " [0.02767939 0.06146368]\n",
      " [0.02830377 0.06189571]\n",
      " [0.0279532  0.06160012]]\n",
      "[[0.02780995 0.06152616]\n",
      " [0.02802242 0.06167834]\n",
      " [0.02831141 0.06187927]\n",
      " [0.02806548 0.0616878 ]\n",
      " [0.02767644 0.0614517 ]\n",
      " [0.02791791 0.0616809 ]\n",
      " [0.02748385 0.06134097]\n",
      " [0.02688003 0.0607782 ]]\n",
      "[[0.0268749  0.06085923]\n",
      " [0.02743118 0.06124988]\n",
      " [0.02709736 0.06099859]\n",
      " [0.02701889 0.06088185]\n",
      " [0.02709772 0.06099638]\n",
      " [0.02692242 0.06095845]\n",
      " [0.02854643 0.06200601]\n",
      " [0.02794449 0.06164214]]\n",
      "[[0.02692151 0.06091443]\n",
      " [0.02781143 0.06153194]\n",
      " [0.02698129 0.06090939]\n",
      " [0.02774886 0.06146683]\n",
      " [0.02753042 0.06130987]\n",
      " [0.02779316 0.06152349]\n",
      " [0.02744926 0.06127479]\n",
      " [0.02836605 0.0618542 ]]\n",
      "[[0.02695135 0.06088643]\n",
      " [0.02724392 0.06109614]\n",
      " [0.02826748 0.06180122]\n",
      " [0.02808634 0.06171563]\n",
      " [0.02724154 0.06105749]\n",
      " [0.02813002 0.06170917]\n",
      " [0.02826785 0.06183439]\n",
      " [0.02825377 0.06183706]]\n",
      "[[0.0274198  0.0612092 ]\n",
      " [0.02799276 0.06164499]\n",
      " [0.02814348 0.06176214]\n",
      " [0.02848759 0.06196143]\n",
      " [0.02816372 0.06177997]\n",
      " [0.02713742 0.06098013]\n",
      " [0.02709918 0.06094668]\n",
      " [0.02839034 0.06189577]]\n",
      "[[0.02808472 0.06167304]\n",
      " [0.02745377 0.06118058]\n",
      " [0.02789661 0.0615566 ]\n",
      " [0.02769356 0.06143565]\n",
      " [0.02843888 0.06193752]\n",
      " [0.02779027 0.06148534]\n",
      " [0.02819015 0.06177791]\n",
      " [0.02798509 0.0617918 ]]\n",
      "[[0.02789124 0.06170203]\n",
      " [0.02820657 0.06186537]\n",
      " [0.0277736  0.06160457]\n",
      " [0.02732674 0.06127569]\n",
      " [0.02738204 0.06130767]\n",
      " [0.02686748 0.06094006]\n",
      " [0.02811253 0.06175804]\n",
      " [0.02714059 0.0611617 ]]\n",
      "[[0.02784653 0.06162563]\n",
      " [0.02686271 0.06091027]\n",
      " [0.02658181 0.06067631]\n",
      " [0.02639555 0.0604551 ]\n",
      " [0.0271614  0.06105167]\n",
      " [0.0277321  0.06153957]\n",
      " [0.02779229 0.06151298]\n",
      " [0.02810281 0.06180847]]\n",
      "[[0.02821233 0.06185851]\n",
      " [0.02822808 0.06188059]\n",
      " [0.02761318 0.06148017]\n",
      " [0.02824147 0.06187982]\n",
      " [0.02817502 0.06184006]\n",
      " [0.0284136  0.06191244]\n",
      " [0.02782069 0.06156794]\n",
      " [0.02798017 0.06163564]]\n",
      "[[0.02834499 0.06189954]\n",
      " [0.02830665 0.06190654]\n",
      " [0.02828648 0.06184077]\n",
      " [0.02788061 0.06155148]\n",
      " [0.02798216 0.06162612]\n",
      " [0.02869084 0.06210818]\n",
      " [0.02787757 0.06157694]\n",
      " [0.02719912 0.06105772]]\n",
      "[[0.02845408 0.06196582]\n",
      " [0.02811195 0.06171298]\n",
      " [0.02849351 0.06197611]\n",
      " [0.02774072 0.06145075]\n",
      " [0.02824562 0.06183145]\n",
      " [0.02855356 0.06201345]\n",
      " [0.0285075  0.06198081]\n",
      " [0.0278177  0.0615271 ]]\n",
      "[[0.02807098 0.06171279]\n",
      " [0.02769206 0.06144274]\n",
      " [0.02802859 0.06170088]\n",
      " [0.02747303 0.06123983]\n",
      " [0.02853898 0.06201564]\n",
      " [0.02761481 0.06131076]\n",
      " [0.02784623 0.06147881]\n",
      " [0.02760259 0.06130113]]\n",
      "[[0.02829068 0.06181045]\n",
      " [0.02819418 0.06173014]\n",
      " [0.02717705 0.06097258]\n",
      " [0.02695164 0.06078225]\n",
      " [0.02691629 0.06074711]\n",
      " [0.02735103 0.06107156]\n",
      " [0.02831393 0.06187455]\n",
      " [0.02774701 0.06150128]]\n",
      "[[0.02749864 0.06130628]\n",
      " [0.02798988 0.06164806]\n",
      " [0.02731009 0.06118027]\n",
      " [0.0270532  0.06095951]\n",
      " [0.02833887 0.06186778]\n",
      " [0.02799511 0.06165881]\n",
      " [0.02819944 0.06184978]\n",
      " [0.02729907 0.06120345]]\n",
      "[[0.02700545 0.06091654]\n",
      " [0.02801754 0.06167669]\n",
      " [0.02750902 0.06127802]\n",
      " [0.02736067 0.06124109]\n",
      " [0.02808234 0.0617311 ]\n",
      " [0.02768169 0.06143345]\n",
      " [0.02817218 0.06175357]\n",
      " [0.02785989 0.06153271]]\n",
      "[[0.02749599 0.06126492]\n",
      " [0.02816528 0.06177736]\n",
      " [0.02708362 0.06095892]\n",
      " [0.02738441 0.06119467]\n",
      " [0.02774211 0.06145447]\n",
      " [0.02761738 0.06140449]\n",
      " [0.02818287 0.06177216]\n",
      " [0.02791407 0.06157766]]\n",
      "[[0.02714131 0.0609949 ]\n",
      " [0.02860044 0.0620366 ]\n",
      " [0.02855302 0.06198522]\n",
      " [0.02791884 0.06156934]\n",
      " [0.02864392 0.06207757]\n",
      " [0.02853495 0.06200822]\n",
      " [0.02799967 0.06163986]\n",
      " [0.0279783  0.06163047]]\n",
      "[[0.02694746 0.06095575]\n",
      " [0.02785511 0.06161136]\n",
      " [0.02768443 0.06141825]\n",
      " [0.0276341  0.06150365]\n",
      " [0.02811025 0.061795  ]\n",
      " [0.0279466  0.06165947]\n",
      " [0.02710911 0.06106268]\n",
      " [0.02788752 0.06161408]]\n",
      "[[0.02805832 0.06176995]\n",
      " [0.02774763 0.06153766]\n",
      " [0.02795016 0.06167623]\n",
      " [0.02806153 0.06171319]\n",
      " [0.02773746 0.06148943]\n",
      " [0.02781343 0.06150457]\n",
      " [0.02802521 0.06169799]\n",
      " [0.02656194 0.06068464]]\n",
      "[[0.02723824 0.06117163]\n",
      " [0.02792746 0.06166851]\n",
      " [0.02795112 0.06170756]\n",
      " [0.02797228 0.06165883]\n",
      " [0.02820754 0.06185395]\n",
      " [0.027534   0.06140268]\n",
      " [0.0276011  0.06143596]\n",
      " [0.02733703 0.06120921]]\n",
      "[[0.02797822 0.06169884]\n",
      " [0.02792742 0.06164554]\n",
      " [0.02810195 0.06174   ]\n",
      " [0.02793704 0.06165173]\n",
      " [0.02802658 0.06174713]\n",
      " [0.02759909 0.06143765]\n",
      " [0.02821677 0.06183917]\n",
      " [0.0273126  0.06125819]]\n",
      "[[0.02726573 0.06117824]\n",
      " [0.02866972 0.06209191]\n",
      " [0.02822243 0.0618235 ]\n",
      " [0.02867322 0.062116  ]\n",
      " [0.02865565 0.06209753]\n",
      " [0.02820257 0.06184002]\n",
      " [0.02843906 0.06201255]\n",
      " [0.02872333 0.06209718]]\n",
      "[[0.02866271 0.06208959]\n",
      " [0.0287279  0.06210891]\n",
      " [0.02879151 0.06218954]\n",
      " [0.02878338 0.0621542 ]\n",
      " [0.02872674 0.06210828]\n",
      " [0.02866252 0.06210721]\n",
      " [0.0286694  0.06208852]\n",
      " [0.02875123 0.06212524]]\n",
      "[[0.02865543 0.06207622]\n",
      " [0.02862386 0.06207438]\n",
      " [0.02864911 0.06210066]\n",
      " [0.02868903 0.06210591]\n",
      " [0.02875464 0.06213748]\n",
      " [0.02852586 0.06204897]\n",
      " [0.02868468 0.06215845]\n",
      " [0.02878379 0.06215869]]\n",
      "[[0.02875438 0.06214122]\n",
      " [0.02880451 0.06217858]\n",
      " [0.02876019 0.06213474]\n",
      " [0.02874706 0.06214024]\n",
      " [0.02871721 0.0621113 ]\n",
      " [0.02870652 0.06211006]\n",
      " [0.02868849 0.06209464]\n",
      " [0.02874028 0.06211884]]\n",
      "[[0.02872    0.06210802]\n",
      " [0.02847457 0.06197339]\n",
      " [0.02858329 0.06205859]\n",
      " [0.02866374 0.06208967]\n",
      " [0.02875513 0.06210941]\n",
      " [0.02865123 0.06206699]\n",
      " [0.0287441  0.06211178]\n",
      " [0.02859267 0.06204988]]\n"
     ]
    },
    {
     "name": "stdout",
     "output_type": "stream",
     "text": [
      "[[0.02864961 0.06208801]\n",
      " [0.0287795  0.06218992]\n",
      " [0.02870702 0.06215509]\n",
      " [0.02748733 0.06134666]\n",
      " [0.02784132 0.06157608]\n",
      " [0.02703211 0.0610583 ]\n",
      " [0.02847615 0.06203001]\n",
      " [0.02868203 0.06219327]]\n",
      "[[0.02804045 0.06175775]\n",
      " [0.02812191 0.06178864]\n",
      " [0.02809846 0.06176499]\n",
      " [0.02755173 0.06139081]\n",
      " [0.02772025 0.06152425]\n",
      " [0.02706204 0.06096367]\n",
      " [0.02647552 0.06047507]\n",
      " [0.02705925 0.06092947]]\n",
      "[[0.02687522 0.060724  ]\n",
      " [0.02654272 0.06054122]\n",
      " [0.02625353 0.06030313]\n",
      " [0.02626129 0.06029753]\n",
      " [0.02668356 0.06067817]\n",
      " [0.02626606 0.06035777]\n",
      " [0.02644587 0.0604574 ]\n",
      " [0.02603726 0.06017157]]\n",
      "[[0.02692657 0.06083774]\n",
      " [0.02692457 0.06081183]\n",
      " [0.02625438 0.06032877]\n",
      " [0.0265895  0.06057207]\n",
      " [0.02687806 0.06080416]\n",
      " [0.02811841 0.0617328 ]\n",
      " [0.02842477 0.06191733]\n",
      " [0.02781783 0.06151378]]\n",
      "[[0.02748245 0.06123627]\n",
      " [0.02808373 0.06169636]\n",
      " [0.02808689 0.06167917]\n",
      " [0.02765315 0.06136832]\n",
      " [0.02818754 0.06178562]\n",
      " [0.02791278 0.06154908]\n",
      " [0.02759223 0.06135536]\n",
      " [0.02789729 0.06155776]]\n",
      "[[0.02813662 0.06171957]\n",
      " [0.02762388 0.06135683]\n",
      " [0.02813443 0.06175344]\n",
      " [0.02795741 0.06157975]\n",
      " [0.02770896 0.0615511 ]\n",
      " [0.0284422  0.06205273]\n",
      " [0.02853305 0.06210186]\n",
      " [0.02790857 0.0616597 ]]\n",
      "[[0.02798201 0.06172984]\n",
      " [0.02846647 0.06202259]\n",
      " [0.02847202 0.0620309 ]\n",
      " [0.02774703 0.06155663]\n",
      " [0.02761674 0.06145849]\n",
      " [0.02771049 0.06155827]\n",
      " [0.02754194 0.06142877]\n",
      " [0.02764082 0.06151101]]\n",
      "[[0.02754441 0.06143887]\n",
      " [0.02849757 0.06208263]\n",
      " [0.02777077 0.06158857]\n",
      " [0.02847951 0.06205589]\n",
      " [0.02864526 0.0621494 ]\n",
      " [0.02852557 0.062099  ]\n",
      " [0.02852309 0.06204621]\n",
      " [0.02852897 0.0620475 ]]\n",
      "[[0.0278235  0.06158094]\n",
      " [0.02799591 0.06169688]\n",
      " [0.02848002 0.06204874]\n",
      " [0.02799824 0.0617346 ]\n",
      " [0.02835282 0.06197172]\n",
      " [0.02839917 0.06195882]\n",
      " [0.0283306  0.06194547]\n",
      " [0.02839752 0.06196623]]\n",
      "[[0.02854277 0.06209455]\n",
      " [0.02818681 0.0618295 ]\n",
      " [0.0282648  0.06189147]\n",
      " [0.02821149 0.06185518]\n",
      " [0.02828659 0.0618608 ]\n",
      " [0.02866958 0.06214455]\n",
      " [0.02842049 0.06200541]\n",
      " [0.02847782 0.06203602]]\n",
      "[[0.02830253 0.06190962]\n",
      " [0.02849228 0.06204572]\n",
      " [0.02831067 0.061933  ]\n",
      " [0.02766864 0.06139747]\n",
      " [0.02811881 0.06176284]\n",
      " [0.0282557  0.06187508]\n",
      " [0.02759014 0.06138938]\n",
      " [0.02839882 0.06196531]]\n",
      "[[0.0274005  0.06122406]\n",
      " [0.02797586 0.06164857]\n",
      " [0.0282836  0.06186112]\n",
      " [0.02833213 0.06188531]\n",
      " [0.02852911 0.06203244]\n",
      " [0.02810195 0.06176705]\n",
      " [0.02814883 0.06180059]\n",
      " [0.02800902 0.061662  ]]\n",
      "[[0.02809812 0.06180869]\n",
      " [0.02838406 0.06193687]\n",
      " [0.02804786 0.06172321]\n",
      " [0.02787324 0.06156199]\n",
      " [0.02785379 0.06155616]\n",
      " [0.02780133 0.0615202 ]\n",
      " [0.027961   0.06166588]\n",
      " [0.02784396 0.06160289]]\n",
      "[[0.02785337 0.06162854]\n",
      " [0.02739775 0.06131668]\n",
      " [0.0281972  0.06179895]\n",
      " [0.02749071 0.06124836]\n",
      " [0.0282107  0.06179438]\n",
      " [0.02824419 0.06182047]\n",
      " [0.02742878 0.06117   ]\n",
      " [0.02719073 0.06098919]]\n",
      "[[0.02792912 0.06152451]\n",
      " [0.02754213 0.06123374]\n",
      " [0.02777858 0.06140147]\n",
      " [0.02791123 0.06152785]\n",
      " [0.02818904 0.0617119 ]\n",
      " [0.0280511  0.06162229]\n",
      " [0.02811791 0.06167196]\n",
      " [0.02832306 0.06181357]]\n",
      "[[0.02794267 0.06153992]\n",
      " [0.02778215 0.06144653]\n",
      " [0.0274593  0.0612015 ]\n",
      " [0.02725851 0.06103586]\n",
      " [0.02792579 0.0615496 ]\n",
      " [0.02738335 0.06114726]\n",
      " [0.02737665 0.06111925]\n",
      " [0.02733866 0.06112329]]\n",
      "[[0.02764788 0.0613671 ]\n",
      " [0.02724208 0.06104622]\n",
      " [0.02763185 0.06131709]\n",
      " [0.02795029 0.0615844 ]\n",
      " [0.02705796 0.06090624]\n",
      " [0.02718528 0.06104845]\n",
      " [0.02730487 0.06109691]\n",
      " [0.02814816 0.06170853]]\n",
      "[[0.02785434 0.06151807]\n",
      " [0.02718163 0.0610064 ]\n",
      " [0.0272245  0.06101463]\n",
      " [0.02725216 0.06102737]\n",
      " [0.02820453 0.06170905]]\n"
     ]
    },
    {
     "name": "stderr",
     "output_type": "stream",
     "text": [
      "04/22/2020 19:41:01 - INFO - run_classifier -   ***** Eval results *****\n",
      "04/22/2020 19:41:01 - INFO - run_classifier -     eval_loss = 1.161708538401711\n",
      "04/22/2020 19:41:01 - INFO - run_classifier -     eval_macro_f1 = 0.6932781020523442\n",
      "04/22/2020 19:41:01 - INFO - run_classifier -     eval_macro_p = 0.5305475504322766\n",
      "04/22/2020 19:41:01 - INFO - run_classifier -     eval_macro_r = 1.0\n",
      "04/22/2020 19:41:01 - INFO - run_classifier -     eval_micro_f1 = 0.6932139491046184\n",
      "04/22/2020 19:41:01 - INFO - run_classifier -     eval_micro_p = 0.5304724125495853\n",
      "04/22/2020 19:41:01 - INFO - run_classifier -     eval_micro_r = 1.0\n"
     ]
    }
   ],
   "source": [
    "if __name__ == \"__main__\":\n",
    "#     experiments()\n",
    "    evaluation_with_pretrained()"
   ]
  },
  {
   "cell_type": "code",
   "execution_count": null,
   "metadata": {},
   "outputs": [],
   "source": []
  }
 ],
 "metadata": {
  "kernelspec": {
   "display_name": "TensorFlow-GPU",
   "language": "python",
   "name": "tf-gpu"
  },
  "language_info": {
   "codemirror_mode": {
    "name": "ipython",
    "version": 3
   },
   "file_extension": ".py",
   "mimetype": "text/x-python",
   "name": "python",
   "nbconvert_exporter": "python",
   "pygments_lexer": "ipython3",
   "version": "3.7.6"
  }
 },
 "nbformat": 4,
 "nbformat_minor": 2
}
