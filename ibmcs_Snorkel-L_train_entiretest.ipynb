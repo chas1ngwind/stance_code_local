{
 "cells": [
  {
   "cell_type": "code",
   "execution_count": 1766,
   "metadata": {},
   "outputs": [],
   "source": [
    "import pandas as pd"
   ]
  },
  {
   "cell_type": "markdown",
   "metadata": {},
   "source": [
    "## Triplet Bert Related Eval Results"
   ]
  },
  {
   "cell_type": "code",
   "execution_count": 1767,
   "metadata": {},
   "outputs": [],
   "source": [
    "from sklearn.metrics import accuracy_score,f1_score,recall_score,precision_score"
   ]
  },
  {
   "cell_type": "code",
   "execution_count": 1768,
   "metadata": {},
   "outputs": [],
   "source": [
    "# Triplet cos siamese bert"
   ]
  },
  {
   "cell_type": "code",
   "execution_count": 1769,
   "metadata": {},
   "outputs": [],
   "source": [
    "df = pd.read_csv(\"../stance_code/Evaluation/paper_output/train_on_ibmcs_eval_on_ibmcs_distance_concat_margin1_costriplet_cos_siamese_bs24_lr2e_5_epoch15_raw_score.csv\")\n",
    "# df = pd.read_csv(\"../stance_code/Evaluation/paper_output/train_on_per_eval_on_ibmcs_distance_concat_margin1_costriplet_cos_siamese_bs24_lr2e_5_epoch15_raw_score.csv\")\n",
    "# df = pd.read_csv(\"../stance_code/Evaluation/bert_dummy_output/dev_distance_concat_margin1_costriplet_cos_siamese_bs24_lr2e_5_epoch15_raw_score.csv\")"
   ]
  },
  {
   "cell_type": "code",
   "execution_count": 1770,
   "metadata": {},
   "outputs": [],
   "source": [
    "# df = pd.concat([df,df2])"
   ]
  },
  {
   "cell_type": "code",
   "execution_count": 1771,
   "metadata": {},
   "outputs": [
    {
     "data": {
      "text/html": [
       "<div>\n",
       "<style scoped>\n",
       "    .dataframe tbody tr th:only-of-type {\n",
       "        vertical-align: middle;\n",
       "    }\n",
       "\n",
       "    .dataframe tbody tr th {\n",
       "        vertical-align: top;\n",
       "    }\n",
       "\n",
       "    .dataframe thead th {\n",
       "        text-align: right;\n",
       "    }\n",
       "</style>\n",
       "<table border=\"1\" class=\"dataframe\">\n",
       "  <thead>\n",
       "    <tr style=\"text-align: right;\">\n",
       "      <th></th>\n",
       "      <th>undermine_score</th>\n",
       "      <th>support_score</th>\n",
       "      <th>cp_distance</th>\n",
       "      <th>cop_distance</th>\n",
       "      <th>predict_label</th>\n",
       "      <th>distance_label</th>\n",
       "      <th>gold</th>\n",
       "    </tr>\n",
       "  </thead>\n",
       "  <tbody>\n",
       "    <tr>\n",
       "      <th>0</th>\n",
       "      <td>-1.034109</td>\n",
       "      <td>-0.024011</td>\n",
       "      <td>0.342531</td>\n",
       "      <td>0.393281</td>\n",
       "      <td>1</td>\n",
       "      <td>1</td>\n",
       "      <td>1</td>\n",
       "    </tr>\n",
       "    <tr>\n",
       "      <th>1</th>\n",
       "      <td>-1.061421</td>\n",
       "      <td>-0.081111</td>\n",
       "      <td>0.335813</td>\n",
       "      <td>0.367947</td>\n",
       "      <td>1</td>\n",
       "      <td>1</td>\n",
       "      <td>0</td>\n",
       "    </tr>\n",
       "    <tr>\n",
       "      <th>2</th>\n",
       "      <td>-1.001755</td>\n",
       "      <td>0.076825</td>\n",
       "      <td>0.358336</td>\n",
       "      <td>0.369880</td>\n",
       "      <td>1</td>\n",
       "      <td>1</td>\n",
       "      <td>0</td>\n",
       "    </tr>\n",
       "    <tr>\n",
       "      <th>3</th>\n",
       "      <td>-1.156794</td>\n",
       "      <td>0.392040</td>\n",
       "      <td>0.325576</td>\n",
       "      <td>0.348283</td>\n",
       "      <td>1</td>\n",
       "      <td>1</td>\n",
       "      <td>1</td>\n",
       "    </tr>\n",
       "    <tr>\n",
       "      <th>4</th>\n",
       "      <td>-1.579876</td>\n",
       "      <td>0.949217</td>\n",
       "      <td>0.220279</td>\n",
       "      <td>0.254198</td>\n",
       "      <td>1</td>\n",
       "      <td>1</td>\n",
       "      <td>1</td>\n",
       "    </tr>\n",
       "    <tr>\n",
       "      <th>...</th>\n",
       "      <td>...</td>\n",
       "      <td>...</td>\n",
       "      <td>...</td>\n",
       "      <td>...</td>\n",
       "      <td>...</td>\n",
       "      <td>...</td>\n",
       "      <td>...</td>\n",
       "    </tr>\n",
       "    <tr>\n",
       "      <th>1187</th>\n",
       "      <td>-1.498376</td>\n",
       "      <td>1.778084</td>\n",
       "      <td>0.124150</td>\n",
       "      <td>0.469930</td>\n",
       "      <td>1</td>\n",
       "      <td>1</td>\n",
       "      <td>0</td>\n",
       "    </tr>\n",
       "    <tr>\n",
       "      <th>1188</th>\n",
       "      <td>-2.269197</td>\n",
       "      <td>1.305615</td>\n",
       "      <td>0.174636</td>\n",
       "      <td>0.182392</td>\n",
       "      <td>1</td>\n",
       "      <td>1</td>\n",
       "      <td>1</td>\n",
       "    </tr>\n",
       "    <tr>\n",
       "      <th>1189</th>\n",
       "      <td>-2.127807</td>\n",
       "      <td>1.159010</td>\n",
       "      <td>0.170799</td>\n",
       "      <td>0.187953</td>\n",
       "      <td>1</td>\n",
       "      <td>1</td>\n",
       "      <td>0</td>\n",
       "    </tr>\n",
       "    <tr>\n",
       "      <th>1190</th>\n",
       "      <td>0.573493</td>\n",
       "      <td>0.133073</td>\n",
       "      <td>0.949365</td>\n",
       "      <td>0.844510</td>\n",
       "      <td>0</td>\n",
       "      <td>0</td>\n",
       "      <td>0</td>\n",
       "    </tr>\n",
       "    <tr>\n",
       "      <th>1191</th>\n",
       "      <td>1.840301</td>\n",
       "      <td>-0.745482</td>\n",
       "      <td>0.908305</td>\n",
       "      <td>1.131616</td>\n",
       "      <td>0</td>\n",
       "      <td>1</td>\n",
       "      <td>0</td>\n",
       "    </tr>\n",
       "  </tbody>\n",
       "</table>\n",
       "<p>1192 rows × 7 columns</p>\n",
       "</div>"
      ],
      "text/plain": [
       "      undermine_score  support_score  cp_distance  cop_distance  \\\n",
       "0           -1.034109      -0.024011     0.342531      0.393281   \n",
       "1           -1.061421      -0.081111     0.335813      0.367947   \n",
       "2           -1.001755       0.076825     0.358336      0.369880   \n",
       "3           -1.156794       0.392040     0.325576      0.348283   \n",
       "4           -1.579876       0.949217     0.220279      0.254198   \n",
       "...               ...            ...          ...           ...   \n",
       "1187        -1.498376       1.778084     0.124150      0.469930   \n",
       "1188        -2.269197       1.305615     0.174636      0.182392   \n",
       "1189        -2.127807       1.159010     0.170799      0.187953   \n",
       "1190         0.573493       0.133073     0.949365      0.844510   \n",
       "1191         1.840301      -0.745482     0.908305      1.131616   \n",
       "\n",
       "      predict_label  distance_label  gold  \n",
       "0                 1               1     1  \n",
       "1                 1               1     0  \n",
       "2                 1               1     0  \n",
       "3                 1               1     1  \n",
       "4                 1               1     1  \n",
       "...             ...             ...   ...  \n",
       "1187              1               1     0  \n",
       "1188              1               1     1  \n",
       "1189              1               1     0  \n",
       "1190              0               0     0  \n",
       "1191              0               1     0  \n",
       "\n",
       "[1192 rows x 7 columns]"
      ]
     },
     "execution_count": 1771,
     "metadata": {},
     "output_type": "execute_result"
    }
   ],
   "source": [
    "df"
   ]
  },
  {
   "cell_type": "code",
   "execution_count": 1772,
   "metadata": {},
   "outputs": [],
   "source": [
    "#logits evaluation results"
   ]
  },
  {
   "cell_type": "code",
   "execution_count": 1773,
   "metadata": {},
   "outputs": [
    {
     "data": {
      "text/plain": [
       "0.5571076417419885"
      ]
     },
     "execution_count": 1773,
     "metadata": {},
     "output_type": "execute_result"
    }
   ],
   "source": [
    "f1_score(df.gold,df.predict_label)"
   ]
  },
  {
   "cell_type": "code",
   "execution_count": 1774,
   "metadata": {},
   "outputs": [
    {
     "data": {
      "text/plain": [
       "0.5697478991596638"
      ]
     },
     "execution_count": 1774,
     "metadata": {},
     "output_type": "execute_result"
    }
   ],
   "source": [
    "precision_score(df.gold,df.predict_label)"
   ]
  },
  {
   "cell_type": "code",
   "execution_count": 1775,
   "metadata": {},
   "outputs": [
    {
     "data": {
      "text/plain": [
       "0.545016077170418"
      ]
     },
     "execution_count": 1775,
     "metadata": {},
     "output_type": "execute_result"
    }
   ],
   "source": [
    "recall_score(df.gold,df.predict_label)"
   ]
  },
  {
   "cell_type": "code",
   "execution_count": null,
   "metadata": {},
   "outputs": [],
   "source": []
  },
  {
   "cell_type": "code",
   "execution_count": 1776,
   "metadata": {},
   "outputs": [],
   "source": [
    "#distance evaluation results"
   ]
  },
  {
   "cell_type": "code",
   "execution_count": 1777,
   "metadata": {},
   "outputs": [
    {
     "data": {
      "text/plain": [
       "0.564935064935065"
      ]
     },
     "execution_count": 1777,
     "metadata": {},
     "output_type": "execute_result"
    }
   ],
   "source": [
    "f1_score(df.gold,df.distance_label)"
   ]
  },
  {
   "cell_type": "code",
   "execution_count": 1778,
   "metadata": {},
   "outputs": [
    {
     "data": {
      "text/plain": [
       "0.5704918032786885"
      ]
     },
     "execution_count": 1778,
     "metadata": {},
     "output_type": "execute_result"
    }
   ],
   "source": [
    "precision_score(df.gold,df.distance_label)"
   ]
  },
  {
   "cell_type": "code",
   "execution_count": 1779,
   "metadata": {},
   "outputs": [
    {
     "data": {
      "text/plain": [
       "0.5594855305466238"
      ]
     },
     "execution_count": 1779,
     "metadata": {},
     "output_type": "execute_result"
    }
   ],
   "source": [
    "recall_score(df.gold,df.distance_label)"
   ]
  },
  {
   "cell_type": "code",
   "execution_count": null,
   "metadata": {},
   "outputs": [],
   "source": []
  },
  {
   "cell_type": "code",
   "execution_count": 1780,
   "metadata": {},
   "outputs": [],
   "source": [
    "#consistent cases (logtis prediction == distance prediction)"
   ]
  },
  {
   "cell_type": "code",
   "execution_count": 1781,
   "metadata": {},
   "outputs": [],
   "source": [
    "df_consistency = df[df.predict_label==df.distance_label]"
   ]
  },
  {
   "cell_type": "code",
   "execution_count": 1782,
   "metadata": {},
   "outputs": [
    {
     "data": {
      "text/html": [
       "<div>\n",
       "<style scoped>\n",
       "    .dataframe tbody tr th:only-of-type {\n",
       "        vertical-align: middle;\n",
       "    }\n",
       "\n",
       "    .dataframe tbody tr th {\n",
       "        vertical-align: top;\n",
       "    }\n",
       "\n",
       "    .dataframe thead th {\n",
       "        text-align: right;\n",
       "    }\n",
       "</style>\n",
       "<table border=\"1\" class=\"dataframe\">\n",
       "  <thead>\n",
       "    <tr style=\"text-align: right;\">\n",
       "      <th></th>\n",
       "      <th>undermine_score</th>\n",
       "      <th>support_score</th>\n",
       "      <th>cp_distance</th>\n",
       "      <th>cop_distance</th>\n",
       "      <th>predict_label</th>\n",
       "      <th>distance_label</th>\n",
       "      <th>gold</th>\n",
       "    </tr>\n",
       "  </thead>\n",
       "  <tbody>\n",
       "    <tr>\n",
       "      <th>0</th>\n",
       "      <td>-1.034109</td>\n",
       "      <td>-0.024011</td>\n",
       "      <td>0.342531</td>\n",
       "      <td>0.393281</td>\n",
       "      <td>1</td>\n",
       "      <td>1</td>\n",
       "      <td>1</td>\n",
       "    </tr>\n",
       "    <tr>\n",
       "      <th>1</th>\n",
       "      <td>-1.061421</td>\n",
       "      <td>-0.081111</td>\n",
       "      <td>0.335813</td>\n",
       "      <td>0.367947</td>\n",
       "      <td>1</td>\n",
       "      <td>1</td>\n",
       "      <td>0</td>\n",
       "    </tr>\n",
       "    <tr>\n",
       "      <th>2</th>\n",
       "      <td>-1.001755</td>\n",
       "      <td>0.076825</td>\n",
       "      <td>0.358336</td>\n",
       "      <td>0.369880</td>\n",
       "      <td>1</td>\n",
       "      <td>1</td>\n",
       "      <td>0</td>\n",
       "    </tr>\n",
       "    <tr>\n",
       "      <th>3</th>\n",
       "      <td>-1.156794</td>\n",
       "      <td>0.392040</td>\n",
       "      <td>0.325576</td>\n",
       "      <td>0.348283</td>\n",
       "      <td>1</td>\n",
       "      <td>1</td>\n",
       "      <td>1</td>\n",
       "    </tr>\n",
       "    <tr>\n",
       "      <th>4</th>\n",
       "      <td>-1.579876</td>\n",
       "      <td>0.949217</td>\n",
       "      <td>0.220279</td>\n",
       "      <td>0.254198</td>\n",
       "      <td>1</td>\n",
       "      <td>1</td>\n",
       "      <td>1</td>\n",
       "    </tr>\n",
       "    <tr>\n",
       "      <th>...</th>\n",
       "      <td>...</td>\n",
       "      <td>...</td>\n",
       "      <td>...</td>\n",
       "      <td>...</td>\n",
       "      <td>...</td>\n",
       "      <td>...</td>\n",
       "      <td>...</td>\n",
       "    </tr>\n",
       "    <tr>\n",
       "      <th>1186</th>\n",
       "      <td>-3.092961</td>\n",
       "      <td>2.499786</td>\n",
       "      <td>0.023136</td>\n",
       "      <td>0.034285</td>\n",
       "      <td>1</td>\n",
       "      <td>1</td>\n",
       "      <td>1</td>\n",
       "    </tr>\n",
       "    <tr>\n",
       "      <th>1187</th>\n",
       "      <td>-1.498376</td>\n",
       "      <td>1.778084</td>\n",
       "      <td>0.124150</td>\n",
       "      <td>0.469930</td>\n",
       "      <td>1</td>\n",
       "      <td>1</td>\n",
       "      <td>0</td>\n",
       "    </tr>\n",
       "    <tr>\n",
       "      <th>1188</th>\n",
       "      <td>-2.269197</td>\n",
       "      <td>1.305615</td>\n",
       "      <td>0.174636</td>\n",
       "      <td>0.182392</td>\n",
       "      <td>1</td>\n",
       "      <td>1</td>\n",
       "      <td>1</td>\n",
       "    </tr>\n",
       "    <tr>\n",
       "      <th>1189</th>\n",
       "      <td>-2.127807</td>\n",
       "      <td>1.159010</td>\n",
       "      <td>0.170799</td>\n",
       "      <td>0.187953</td>\n",
       "      <td>1</td>\n",
       "      <td>1</td>\n",
       "      <td>0</td>\n",
       "    </tr>\n",
       "    <tr>\n",
       "      <th>1190</th>\n",
       "      <td>0.573493</td>\n",
       "      <td>0.133073</td>\n",
       "      <td>0.949365</td>\n",
       "      <td>0.844510</td>\n",
       "      <td>0</td>\n",
       "      <td>0</td>\n",
       "      <td>0</td>\n",
       "    </tr>\n",
       "  </tbody>\n",
       "</table>\n",
       "<p>799 rows × 7 columns</p>\n",
       "</div>"
      ],
      "text/plain": [
       "      undermine_score  support_score  cp_distance  cop_distance  \\\n",
       "0           -1.034109      -0.024011     0.342531      0.393281   \n",
       "1           -1.061421      -0.081111     0.335813      0.367947   \n",
       "2           -1.001755       0.076825     0.358336      0.369880   \n",
       "3           -1.156794       0.392040     0.325576      0.348283   \n",
       "4           -1.579876       0.949217     0.220279      0.254198   \n",
       "...               ...            ...          ...           ...   \n",
       "1186        -3.092961       2.499786     0.023136      0.034285   \n",
       "1187        -1.498376       1.778084     0.124150      0.469930   \n",
       "1188        -2.269197       1.305615     0.174636      0.182392   \n",
       "1189        -2.127807       1.159010     0.170799      0.187953   \n",
       "1190         0.573493       0.133073     0.949365      0.844510   \n",
       "\n",
       "      predict_label  distance_label  gold  \n",
       "0                 1               1     1  \n",
       "1                 1               1     0  \n",
       "2                 1               1     0  \n",
       "3                 1               1     1  \n",
       "4                 1               1     1  \n",
       "...             ...             ...   ...  \n",
       "1186              1               1     1  \n",
       "1187              1               1     0  \n",
       "1188              1               1     1  \n",
       "1189              1               1     0  \n",
       "1190              0               0     0  \n",
       "\n",
       "[799 rows x 7 columns]"
      ]
     },
     "execution_count": 1782,
     "metadata": {},
     "output_type": "execute_result"
    }
   ],
   "source": [
    "df_consistency"
   ]
  },
  {
   "cell_type": "code",
   "execution_count": 1783,
   "metadata": {},
   "outputs": [
    {
     "data": {
      "text/plain": [
       "0.5906362545018007"
      ]
     },
     "execution_count": 1783,
     "metadata": {},
     "output_type": "execute_result"
    }
   ],
   "source": [
    "f1_score(df_consistency.gold,df_consistency.distance_label)"
   ]
  },
  {
   "cell_type": "code",
   "execution_count": 1784,
   "metadata": {},
   "outputs": [
    {
     "data": {
      "text/plain": [
       "0.6059113300492611"
      ]
     },
     "execution_count": 1784,
     "metadata": {},
     "output_type": "execute_result"
    }
   ],
   "source": [
    "precision_score(df_consistency.gold,df_consistency.distance_label)"
   ]
  },
  {
   "cell_type": "code",
   "execution_count": 1785,
   "metadata": {},
   "outputs": [
    {
     "data": {
      "text/plain": [
       "0.5761124121779859"
      ]
     },
     "execution_count": 1785,
     "metadata": {},
     "output_type": "execute_result"
    }
   ],
   "source": [
    "recall_score(df_consistency.gold,df_consistency.distance_label)"
   ]
  },
  {
   "cell_type": "code",
   "execution_count": null,
   "metadata": {},
   "outputs": [],
   "source": []
  },
  {
   "cell_type": "code",
   "execution_count": 1786,
   "metadata": {},
   "outputs": [
    {
     "data": {
      "text/html": [
       "<div>\n",
       "<style scoped>\n",
       "    .dataframe tbody tr th:only-of-type {\n",
       "        vertical-align: middle;\n",
       "    }\n",
       "\n",
       "    .dataframe tbody tr th {\n",
       "        vertical-align: top;\n",
       "    }\n",
       "\n",
       "    .dataframe thead th {\n",
       "        text-align: right;\n",
       "    }\n",
       "</style>\n",
       "<table border=\"1\" class=\"dataframe\">\n",
       "  <thead>\n",
       "    <tr style=\"text-align: right;\">\n",
       "      <th></th>\n",
       "      <th>undermine_score</th>\n",
       "      <th>support_score</th>\n",
       "      <th>cp_distance</th>\n",
       "      <th>cop_distance</th>\n",
       "      <th>predict_label</th>\n",
       "      <th>distance_label</th>\n",
       "      <th>gold</th>\n",
       "    </tr>\n",
       "  </thead>\n",
       "  <tbody>\n",
       "    <tr>\n",
       "      <th>0</th>\n",
       "      <td>-1.034109</td>\n",
       "      <td>-0.024011</td>\n",
       "      <td>0.342531</td>\n",
       "      <td>0.393281</td>\n",
       "      <td>1</td>\n",
       "      <td>1</td>\n",
       "      <td>1</td>\n",
       "    </tr>\n",
       "    <tr>\n",
       "      <th>1</th>\n",
       "      <td>-1.061421</td>\n",
       "      <td>-0.081111</td>\n",
       "      <td>0.335813</td>\n",
       "      <td>0.367947</td>\n",
       "      <td>1</td>\n",
       "      <td>1</td>\n",
       "      <td>0</td>\n",
       "    </tr>\n",
       "    <tr>\n",
       "      <th>2</th>\n",
       "      <td>-1.001755</td>\n",
       "      <td>0.076825</td>\n",
       "      <td>0.358336</td>\n",
       "      <td>0.369880</td>\n",
       "      <td>1</td>\n",
       "      <td>1</td>\n",
       "      <td>0</td>\n",
       "    </tr>\n",
       "    <tr>\n",
       "      <th>3</th>\n",
       "      <td>-1.156794</td>\n",
       "      <td>0.392040</td>\n",
       "      <td>0.325576</td>\n",
       "      <td>0.348283</td>\n",
       "      <td>1</td>\n",
       "      <td>1</td>\n",
       "      <td>1</td>\n",
       "    </tr>\n",
       "    <tr>\n",
       "      <th>4</th>\n",
       "      <td>-1.579876</td>\n",
       "      <td>0.949217</td>\n",
       "      <td>0.220279</td>\n",
       "      <td>0.254198</td>\n",
       "      <td>1</td>\n",
       "      <td>1</td>\n",
       "      <td>1</td>\n",
       "    </tr>\n",
       "    <tr>\n",
       "      <th>...</th>\n",
       "      <td>...</td>\n",
       "      <td>...</td>\n",
       "      <td>...</td>\n",
       "      <td>...</td>\n",
       "      <td>...</td>\n",
       "      <td>...</td>\n",
       "      <td>...</td>\n",
       "    </tr>\n",
       "    <tr>\n",
       "      <th>1185</th>\n",
       "      <td>-2.200005</td>\n",
       "      <td>1.428350</td>\n",
       "      <td>0.182642</td>\n",
       "      <td>0.213155</td>\n",
       "      <td>1</td>\n",
       "      <td>1</td>\n",
       "      <td>1</td>\n",
       "    </tr>\n",
       "    <tr>\n",
       "      <th>1186</th>\n",
       "      <td>-3.092961</td>\n",
       "      <td>2.499786</td>\n",
       "      <td>0.023136</td>\n",
       "      <td>0.034285</td>\n",
       "      <td>1</td>\n",
       "      <td>1</td>\n",
       "      <td>1</td>\n",
       "    </tr>\n",
       "    <tr>\n",
       "      <th>1187</th>\n",
       "      <td>-1.498376</td>\n",
       "      <td>1.778084</td>\n",
       "      <td>0.124150</td>\n",
       "      <td>0.469930</td>\n",
       "      <td>1</td>\n",
       "      <td>1</td>\n",
       "      <td>0</td>\n",
       "    </tr>\n",
       "    <tr>\n",
       "      <th>1188</th>\n",
       "      <td>-2.269197</td>\n",
       "      <td>1.305615</td>\n",
       "      <td>0.174636</td>\n",
       "      <td>0.182392</td>\n",
       "      <td>1</td>\n",
       "      <td>1</td>\n",
       "      <td>1</td>\n",
       "    </tr>\n",
       "    <tr>\n",
       "      <th>1189</th>\n",
       "      <td>-2.127807</td>\n",
       "      <td>1.159010</td>\n",
       "      <td>0.170799</td>\n",
       "      <td>0.187953</td>\n",
       "      <td>1</td>\n",
       "      <td>1</td>\n",
       "      <td>0</td>\n",
       "    </tr>\n",
       "  </tbody>\n",
       "</table>\n",
       "<p>769 rows × 7 columns</p>\n",
       "</div>"
      ],
      "text/plain": [
       "      undermine_score  support_score  cp_distance  cop_distance  \\\n",
       "0           -1.034109      -0.024011     0.342531      0.393281   \n",
       "1           -1.061421      -0.081111     0.335813      0.367947   \n",
       "2           -1.001755       0.076825     0.358336      0.369880   \n",
       "3           -1.156794       0.392040     0.325576      0.348283   \n",
       "4           -1.579876       0.949217     0.220279      0.254198   \n",
       "...               ...            ...          ...           ...   \n",
       "1185        -2.200005       1.428350     0.182642      0.213155   \n",
       "1186        -3.092961       2.499786     0.023136      0.034285   \n",
       "1187        -1.498376       1.778084     0.124150      0.469930   \n",
       "1188        -2.269197       1.305615     0.174636      0.182392   \n",
       "1189        -2.127807       1.159010     0.170799      0.187953   \n",
       "\n",
       "      predict_label  distance_label  gold  \n",
       "0                 1               1     1  \n",
       "1                 1               1     0  \n",
       "2                 1               1     0  \n",
       "3                 1               1     1  \n",
       "4                 1               1     1  \n",
       "...             ...             ...   ...  \n",
       "1185              1               1     1  \n",
       "1186              1               1     1  \n",
       "1187              1               1     0  \n",
       "1188              1               1     1  \n",
       "1189              1               1     0  \n",
       "\n",
       "[769 rows x 7 columns]"
      ]
     },
     "execution_count": 1786,
     "metadata": {},
     "output_type": "execute_result"
    }
   ],
   "source": [
    "df_logits_diff = df_consistency[abs(df_consistency.undermine_score-df_consistency.support_score)>0.7]\n",
    "df_logits_diff"
   ]
  },
  {
   "cell_type": "code",
   "execution_count": 1787,
   "metadata": {},
   "outputs": [
    {
     "data": {
      "text/plain": [
       "0.588679245283019"
      ]
     },
     "execution_count": 1787,
     "metadata": {},
     "output_type": "execute_result"
    }
   ],
   "source": [
    "f1_score(df_logits_diff.gold,df_logits_diff.distance_label)"
   ]
  },
  {
   "cell_type": "code",
   "execution_count": 1788,
   "metadata": {},
   "outputs": [
    {
     "data": {
      "text/plain": [
       "0.6062176165803109"
      ]
     },
     "execution_count": 1788,
     "metadata": {},
     "output_type": "execute_result"
    }
   ],
   "source": [
    "precision_score(df_logits_diff.gold,df_logits_diff.distance_label)"
   ]
  },
  {
   "cell_type": "code",
   "execution_count": 1789,
   "metadata": {},
   "outputs": [
    {
     "data": {
      "text/plain": [
       "0.5721271393643031"
      ]
     },
     "execution_count": 1789,
     "metadata": {},
     "output_type": "execute_result"
    }
   ],
   "source": [
    "recall_score(df_logits_diff.gold,df_logits_diff.distance_label)"
   ]
  },
  {
   "cell_type": "code",
   "execution_count": null,
   "metadata": {},
   "outputs": [],
   "source": []
  },
  {
   "cell_type": "code",
   "execution_count": 1790,
   "metadata": {},
   "outputs": [
    {
     "data": {
      "text/html": [
       "<div>\n",
       "<style scoped>\n",
       "    .dataframe tbody tr th:only-of-type {\n",
       "        vertical-align: middle;\n",
       "    }\n",
       "\n",
       "    .dataframe tbody tr th {\n",
       "        vertical-align: top;\n",
       "    }\n",
       "\n",
       "    .dataframe thead th {\n",
       "        text-align: right;\n",
       "    }\n",
       "</style>\n",
       "<table border=\"1\" class=\"dataframe\">\n",
       "  <thead>\n",
       "    <tr style=\"text-align: right;\">\n",
       "      <th></th>\n",
       "      <th>undermine_score</th>\n",
       "      <th>support_score</th>\n",
       "      <th>cp_distance</th>\n",
       "      <th>cop_distance</th>\n",
       "      <th>predict_label</th>\n",
       "      <th>distance_label</th>\n",
       "      <th>gold</th>\n",
       "    </tr>\n",
       "  </thead>\n",
       "  <tbody>\n",
       "    <tr>\n",
       "      <th>1122</th>\n",
       "      <td>4.52349</td>\n",
       "      <td>-3.390404</td>\n",
       "      <td>1.921584</td>\n",
       "      <td>0.005816</td>\n",
       "      <td>0</td>\n",
       "      <td>0</td>\n",
       "      <td>1</td>\n",
       "    </tr>\n",
       "  </tbody>\n",
       "</table>\n",
       "</div>"
      ],
      "text/plain": [
       "      undermine_score  support_score  cp_distance  cop_distance  \\\n",
       "1122          4.52349      -3.390404     1.921584      0.005816   \n",
       "\n",
       "      predict_label  distance_label  gold  \n",
       "1122              0               0     1  "
      ]
     },
     "execution_count": 1790,
     "metadata": {},
     "output_type": "execute_result"
    }
   ],
   "source": [
    "df_distance_diff = df_consistency[abs(df_consistency.cp_distance-df_consistency.cop_distance)>1.9]\n",
    "df_distance_diff"
   ]
  },
  {
   "cell_type": "code",
   "execution_count": 1791,
   "metadata": {},
   "outputs": [
    {
     "name": "stderr",
     "output_type": "stream",
     "text": [
      "C:\\Users\\arsen\\AppData\\Roaming\\Python\\Python37\\site-packages\\sklearn\\metrics\\classification.py:1437: UndefinedMetricWarning: F-score is ill-defined and being set to 0.0 due to no predicted samples.\n",
      "  'precision', 'predicted', average, warn_for)\n"
     ]
    },
    {
     "data": {
      "text/plain": [
       "0.0"
      ]
     },
     "execution_count": 1791,
     "metadata": {},
     "output_type": "execute_result"
    }
   ],
   "source": [
    "f1_score(df_distance_diff.gold,df_distance_diff.distance_label)"
   ]
  },
  {
   "cell_type": "code",
   "execution_count": 1792,
   "metadata": {},
   "outputs": [
    {
     "name": "stderr",
     "output_type": "stream",
     "text": [
      "C:\\Users\\arsen\\AppData\\Roaming\\Python\\Python37\\site-packages\\sklearn\\metrics\\classification.py:1437: UndefinedMetricWarning: Precision is ill-defined and being set to 0.0 due to no predicted samples.\n",
      "  'precision', 'predicted', average, warn_for)\n"
     ]
    },
    {
     "data": {
      "text/plain": [
       "0.0"
      ]
     },
     "execution_count": 1792,
     "metadata": {},
     "output_type": "execute_result"
    }
   ],
   "source": [
    "precision_score(df_distance_diff.gold,df_distance_diff.distance_label)"
   ]
  },
  {
   "cell_type": "code",
   "execution_count": 1793,
   "metadata": {},
   "outputs": [
    {
     "data": {
      "text/plain": [
       "0.0"
      ]
     },
     "execution_count": 1793,
     "metadata": {},
     "output_type": "execute_result"
    }
   ],
   "source": [
    "recall_score(df_distance_diff.gold,df_distance_diff.distance_label)"
   ]
  },
  {
   "cell_type": "code",
   "execution_count": null,
   "metadata": {},
   "outputs": [],
   "source": []
  },
  {
   "cell_type": "code",
   "execution_count": null,
   "metadata": {},
   "outputs": [],
   "source": []
  },
  {
   "cell_type": "code",
   "execution_count": null,
   "metadata": {},
   "outputs": [],
   "source": []
  },
  {
   "cell_type": "code",
   "execution_count": 1794,
   "metadata": {},
   "outputs": [],
   "source": [
    "#inconsistent cases (logtis prediction != distance prediction)"
   ]
  },
  {
   "cell_type": "code",
   "execution_count": 1795,
   "metadata": {},
   "outputs": [],
   "source": [
    "df_inconsistency = df"
   ]
  },
  {
   "cell_type": "code",
   "execution_count": 1796,
   "metadata": {},
   "outputs": [],
   "source": [
    "df_consistency = df[df.predict_label==df.distance_label]"
   ]
  },
  {
   "cell_type": "code",
   "execution_count": 1797,
   "metadata": {},
   "outputs": [
    {
     "data": {
      "text/html": [
       "<div>\n",
       "<style scoped>\n",
       "    .dataframe tbody tr th:only-of-type {\n",
       "        vertical-align: middle;\n",
       "    }\n",
       "\n",
       "    .dataframe tbody tr th {\n",
       "        vertical-align: top;\n",
       "    }\n",
       "\n",
       "    .dataframe thead th {\n",
       "        text-align: right;\n",
       "    }\n",
       "</style>\n",
       "<table border=\"1\" class=\"dataframe\">\n",
       "  <thead>\n",
       "    <tr style=\"text-align: right;\">\n",
       "      <th></th>\n",
       "      <th>undermine_score</th>\n",
       "      <th>support_score</th>\n",
       "      <th>cp_distance</th>\n",
       "      <th>cop_distance</th>\n",
       "      <th>predict_label</th>\n",
       "      <th>distance_label</th>\n",
       "      <th>gold</th>\n",
       "    </tr>\n",
       "  </thead>\n",
       "  <tbody>\n",
       "    <tr>\n",
       "      <th>0</th>\n",
       "      <td>-1.034109</td>\n",
       "      <td>-0.024011</td>\n",
       "      <td>0.342531</td>\n",
       "      <td>0.393281</td>\n",
       "      <td>1</td>\n",
       "      <td>1</td>\n",
       "      <td>1</td>\n",
       "    </tr>\n",
       "    <tr>\n",
       "      <th>1</th>\n",
       "      <td>-1.061421</td>\n",
       "      <td>-0.081111</td>\n",
       "      <td>0.335813</td>\n",
       "      <td>0.367947</td>\n",
       "      <td>1</td>\n",
       "      <td>1</td>\n",
       "      <td>0</td>\n",
       "    </tr>\n",
       "    <tr>\n",
       "      <th>2</th>\n",
       "      <td>-1.001755</td>\n",
       "      <td>0.076825</td>\n",
       "      <td>0.358336</td>\n",
       "      <td>0.369880</td>\n",
       "      <td>1</td>\n",
       "      <td>1</td>\n",
       "      <td>0</td>\n",
       "    </tr>\n",
       "    <tr>\n",
       "      <th>3</th>\n",
       "      <td>-1.156794</td>\n",
       "      <td>0.392040</td>\n",
       "      <td>0.325576</td>\n",
       "      <td>0.348283</td>\n",
       "      <td>1</td>\n",
       "      <td>1</td>\n",
       "      <td>1</td>\n",
       "    </tr>\n",
       "    <tr>\n",
       "      <th>4</th>\n",
       "      <td>-1.579876</td>\n",
       "      <td>0.949217</td>\n",
       "      <td>0.220279</td>\n",
       "      <td>0.254198</td>\n",
       "      <td>1</td>\n",
       "      <td>1</td>\n",
       "      <td>1</td>\n",
       "    </tr>\n",
       "    <tr>\n",
       "      <th>...</th>\n",
       "      <td>...</td>\n",
       "      <td>...</td>\n",
       "      <td>...</td>\n",
       "      <td>...</td>\n",
       "      <td>...</td>\n",
       "      <td>...</td>\n",
       "      <td>...</td>\n",
       "    </tr>\n",
       "    <tr>\n",
       "      <th>1187</th>\n",
       "      <td>-1.498376</td>\n",
       "      <td>1.778084</td>\n",
       "      <td>0.124150</td>\n",
       "      <td>0.469930</td>\n",
       "      <td>1</td>\n",
       "      <td>1</td>\n",
       "      <td>0</td>\n",
       "    </tr>\n",
       "    <tr>\n",
       "      <th>1188</th>\n",
       "      <td>-2.269197</td>\n",
       "      <td>1.305615</td>\n",
       "      <td>0.174636</td>\n",
       "      <td>0.182392</td>\n",
       "      <td>1</td>\n",
       "      <td>1</td>\n",
       "      <td>1</td>\n",
       "    </tr>\n",
       "    <tr>\n",
       "      <th>1189</th>\n",
       "      <td>-2.127807</td>\n",
       "      <td>1.159010</td>\n",
       "      <td>0.170799</td>\n",
       "      <td>0.187953</td>\n",
       "      <td>1</td>\n",
       "      <td>1</td>\n",
       "      <td>0</td>\n",
       "    </tr>\n",
       "    <tr>\n",
       "      <th>1190</th>\n",
       "      <td>0.573493</td>\n",
       "      <td>0.133073</td>\n",
       "      <td>0.949365</td>\n",
       "      <td>0.844510</td>\n",
       "      <td>0</td>\n",
       "      <td>0</td>\n",
       "      <td>0</td>\n",
       "    </tr>\n",
       "    <tr>\n",
       "      <th>1191</th>\n",
       "      <td>1.840301</td>\n",
       "      <td>-0.745482</td>\n",
       "      <td>0.908305</td>\n",
       "      <td>1.131616</td>\n",
       "      <td>0</td>\n",
       "      <td>1</td>\n",
       "      <td>0</td>\n",
       "    </tr>\n",
       "  </tbody>\n",
       "</table>\n",
       "<p>1192 rows × 7 columns</p>\n",
       "</div>"
      ],
      "text/plain": [
       "      undermine_score  support_score  cp_distance  cop_distance  \\\n",
       "0           -1.034109      -0.024011     0.342531      0.393281   \n",
       "1           -1.061421      -0.081111     0.335813      0.367947   \n",
       "2           -1.001755       0.076825     0.358336      0.369880   \n",
       "3           -1.156794       0.392040     0.325576      0.348283   \n",
       "4           -1.579876       0.949217     0.220279      0.254198   \n",
       "...               ...            ...          ...           ...   \n",
       "1187        -1.498376       1.778084     0.124150      0.469930   \n",
       "1188        -2.269197       1.305615     0.174636      0.182392   \n",
       "1189        -2.127807       1.159010     0.170799      0.187953   \n",
       "1190         0.573493       0.133073     0.949365      0.844510   \n",
       "1191         1.840301      -0.745482     0.908305      1.131616   \n",
       "\n",
       "      predict_label  distance_label  gold  \n",
       "0                 1               1     1  \n",
       "1                 1               1     0  \n",
       "2                 1               1     0  \n",
       "3                 1               1     1  \n",
       "4                 1               1     1  \n",
       "...             ...             ...   ...  \n",
       "1187              1               1     0  \n",
       "1188              1               1     1  \n",
       "1189              1               1     0  \n",
       "1190              0               0     0  \n",
       "1191              0               1     0  \n",
       "\n",
       "[1192 rows x 7 columns]"
      ]
     },
     "execution_count": 1797,
     "metadata": {},
     "output_type": "execute_result"
    }
   ],
   "source": [
    "df_inconsistency"
   ]
  },
  {
   "cell_type": "code",
   "execution_count": 1798,
   "metadata": {},
   "outputs": [
    {
     "data": {
      "text/html": [
       "<div>\n",
       "<style scoped>\n",
       "    .dataframe tbody tr th:only-of-type {\n",
       "        vertical-align: middle;\n",
       "    }\n",
       "\n",
       "    .dataframe tbody tr th {\n",
       "        vertical-align: top;\n",
       "    }\n",
       "\n",
       "    .dataframe thead th {\n",
       "        text-align: right;\n",
       "    }\n",
       "</style>\n",
       "<table border=\"1\" class=\"dataframe\">\n",
       "  <thead>\n",
       "    <tr style=\"text-align: right;\">\n",
       "      <th></th>\n",
       "      <th>undermine_score</th>\n",
       "      <th>support_score</th>\n",
       "      <th>cp_distance</th>\n",
       "      <th>cop_distance</th>\n",
       "      <th>predict_label</th>\n",
       "      <th>distance_label</th>\n",
       "      <th>gold</th>\n",
       "    </tr>\n",
       "  </thead>\n",
       "  <tbody>\n",
       "    <tr>\n",
       "      <th>11</th>\n",
       "      <td>-2.391874</td>\n",
       "      <td>1.324603</td>\n",
       "      <td>0.132577</td>\n",
       "      <td>0.094885</td>\n",
       "      <td>1</td>\n",
       "      <td>0</td>\n",
       "      <td>0</td>\n",
       "    </tr>\n",
       "    <tr>\n",
       "      <th>14</th>\n",
       "      <td>-1.811171</td>\n",
       "      <td>1.462656</td>\n",
       "      <td>0.133712</td>\n",
       "      <td>0.071008</td>\n",
       "      <td>1</td>\n",
       "      <td>0</td>\n",
       "      <td>0</td>\n",
       "    </tr>\n",
       "    <tr>\n",
       "      <th>16</th>\n",
       "      <td>-2.309215</td>\n",
       "      <td>1.283492</td>\n",
       "      <td>0.122039</td>\n",
       "      <td>0.142961</td>\n",
       "      <td>1</td>\n",
       "      <td>1</td>\n",
       "      <td>1</td>\n",
       "    </tr>\n",
       "    <tr>\n",
       "      <th>23</th>\n",
       "      <td>-2.654694</td>\n",
       "      <td>1.627971</td>\n",
       "      <td>0.098801</td>\n",
       "      <td>0.089669</td>\n",
       "      <td>1</td>\n",
       "      <td>0</td>\n",
       "      <td>0</td>\n",
       "    </tr>\n",
       "    <tr>\n",
       "      <th>27</th>\n",
       "      <td>-2.385397</td>\n",
       "      <td>1.772590</td>\n",
       "      <td>0.090536</td>\n",
       "      <td>0.212490</td>\n",
       "      <td>1</td>\n",
       "      <td>1</td>\n",
       "      <td>0</td>\n",
       "    </tr>\n",
       "    <tr>\n",
       "      <th>...</th>\n",
       "      <td>...</td>\n",
       "      <td>...</td>\n",
       "      <td>...</td>\n",
       "      <td>...</td>\n",
       "      <td>...</td>\n",
       "      <td>...</td>\n",
       "      <td>...</td>\n",
       "    </tr>\n",
       "    <tr>\n",
       "      <th>1185</th>\n",
       "      <td>-2.200005</td>\n",
       "      <td>1.428350</td>\n",
       "      <td>0.182642</td>\n",
       "      <td>0.213155</td>\n",
       "      <td>1</td>\n",
       "      <td>1</td>\n",
       "      <td>1</td>\n",
       "    </tr>\n",
       "    <tr>\n",
       "      <th>1186</th>\n",
       "      <td>-3.092961</td>\n",
       "      <td>2.499786</td>\n",
       "      <td>0.023136</td>\n",
       "      <td>0.034285</td>\n",
       "      <td>1</td>\n",
       "      <td>1</td>\n",
       "      <td>1</td>\n",
       "    </tr>\n",
       "    <tr>\n",
       "      <th>1187</th>\n",
       "      <td>-1.498376</td>\n",
       "      <td>1.778084</td>\n",
       "      <td>0.124150</td>\n",
       "      <td>0.469930</td>\n",
       "      <td>1</td>\n",
       "      <td>1</td>\n",
       "      <td>0</td>\n",
       "    </tr>\n",
       "    <tr>\n",
       "      <th>1188</th>\n",
       "      <td>-2.269197</td>\n",
       "      <td>1.305615</td>\n",
       "      <td>0.174636</td>\n",
       "      <td>0.182392</td>\n",
       "      <td>1</td>\n",
       "      <td>1</td>\n",
       "      <td>1</td>\n",
       "    </tr>\n",
       "    <tr>\n",
       "      <th>1189</th>\n",
       "      <td>-2.127807</td>\n",
       "      <td>1.159010</td>\n",
       "      <td>0.170799</td>\n",
       "      <td>0.187953</td>\n",
       "      <td>1</td>\n",
       "      <td>1</td>\n",
       "      <td>0</td>\n",
       "    </tr>\n",
       "  </tbody>\n",
       "</table>\n",
       "<p>885 rows × 7 columns</p>\n",
       "</div>"
      ],
      "text/plain": [
       "      undermine_score  support_score  cp_distance  cop_distance  \\\n",
       "11          -2.391874       1.324603     0.132577      0.094885   \n",
       "14          -1.811171       1.462656     0.133712      0.071008   \n",
       "16          -2.309215       1.283492     0.122039      0.142961   \n",
       "23          -2.654694       1.627971     0.098801      0.089669   \n",
       "27          -2.385397       1.772590     0.090536      0.212490   \n",
       "...               ...            ...          ...           ...   \n",
       "1185        -2.200005       1.428350     0.182642      0.213155   \n",
       "1186        -3.092961       2.499786     0.023136      0.034285   \n",
       "1187        -1.498376       1.778084     0.124150      0.469930   \n",
       "1188        -2.269197       1.305615     0.174636      0.182392   \n",
       "1189        -2.127807       1.159010     0.170799      0.187953   \n",
       "\n",
       "      predict_label  distance_label  gold  \n",
       "11                1               0     0  \n",
       "14                1               0     0  \n",
       "16                1               1     1  \n",
       "23                1               0     0  \n",
       "27                1               1     0  \n",
       "...             ...             ...   ...  \n",
       "1185              1               1     1  \n",
       "1186              1               1     1  \n",
       "1187              1               1     0  \n",
       "1188              1               1     1  \n",
       "1189              1               1     0  \n",
       "\n",
       "[885 rows x 7 columns]"
      ]
     },
     "execution_count": 1798,
     "metadata": {},
     "output_type": "execute_result"
    }
   ],
   "source": [
    "df[abs(df.undermine_score-df.support_score)>2.9]"
   ]
  },
  {
   "cell_type": "code",
   "execution_count": 1799,
   "metadata": {},
   "outputs": [
    {
     "data": {
      "text/html": [
       "<div>\n",
       "<style scoped>\n",
       "    .dataframe tbody tr th:only-of-type {\n",
       "        vertical-align: middle;\n",
       "    }\n",
       "\n",
       "    .dataframe tbody tr th {\n",
       "        vertical-align: top;\n",
       "    }\n",
       "\n",
       "    .dataframe thead th {\n",
       "        text-align: right;\n",
       "    }\n",
       "</style>\n",
       "<table border=\"1\" class=\"dataframe\">\n",
       "  <thead>\n",
       "    <tr style=\"text-align: right;\">\n",
       "      <th></th>\n",
       "      <th>undermine_score</th>\n",
       "      <th>support_score</th>\n",
       "      <th>cp_distance</th>\n",
       "      <th>cop_distance</th>\n",
       "      <th>predict_label</th>\n",
       "      <th>distance_label</th>\n",
       "      <th>gold</th>\n",
       "    </tr>\n",
       "  </thead>\n",
       "  <tbody>\n",
       "    <tr>\n",
       "      <th>0</th>\n",
       "      <td>-1.034109</td>\n",
       "      <td>-0.024011</td>\n",
       "      <td>0.342531</td>\n",
       "      <td>0.393281</td>\n",
       "      <td>1</td>\n",
       "      <td>1</td>\n",
       "      <td>1</td>\n",
       "    </tr>\n",
       "    <tr>\n",
       "      <th>1</th>\n",
       "      <td>-1.061421</td>\n",
       "      <td>-0.081111</td>\n",
       "      <td>0.335813</td>\n",
       "      <td>0.367947</td>\n",
       "      <td>1</td>\n",
       "      <td>1</td>\n",
       "      <td>0</td>\n",
       "    </tr>\n",
       "    <tr>\n",
       "      <th>4</th>\n",
       "      <td>-1.579876</td>\n",
       "      <td>0.949217</td>\n",
       "      <td>0.220279</td>\n",
       "      <td>0.254198</td>\n",
       "      <td>1</td>\n",
       "      <td>1</td>\n",
       "      <td>1</td>\n",
       "    </tr>\n",
       "    <tr>\n",
       "      <th>6</th>\n",
       "      <td>-1.200145</td>\n",
       "      <td>0.089586</td>\n",
       "      <td>0.276100</td>\n",
       "      <td>0.335244</td>\n",
       "      <td>1</td>\n",
       "      <td>1</td>\n",
       "      <td>1</td>\n",
       "    </tr>\n",
       "    <tr>\n",
       "      <th>7</th>\n",
       "      <td>-1.038454</td>\n",
       "      <td>1.297280</td>\n",
       "      <td>0.315945</td>\n",
       "      <td>0.777285</td>\n",
       "      <td>1</td>\n",
       "      <td>1</td>\n",
       "      <td>1</td>\n",
       "    </tr>\n",
       "    <tr>\n",
       "      <th>...</th>\n",
       "      <td>...</td>\n",
       "      <td>...</td>\n",
       "      <td>...</td>\n",
       "      <td>...</td>\n",
       "      <td>...</td>\n",
       "      <td>...</td>\n",
       "      <td>...</td>\n",
       "    </tr>\n",
       "    <tr>\n",
       "      <th>1183</th>\n",
       "      <td>2.599191</td>\n",
       "      <td>-0.801657</td>\n",
       "      <td>1.632240</td>\n",
       "      <td>0.522958</td>\n",
       "      <td>0</td>\n",
       "      <td>0</td>\n",
       "      <td>0</td>\n",
       "    </tr>\n",
       "    <tr>\n",
       "      <th>1185</th>\n",
       "      <td>-2.200005</td>\n",
       "      <td>1.428350</td>\n",
       "      <td>0.182642</td>\n",
       "      <td>0.213155</td>\n",
       "      <td>1</td>\n",
       "      <td>1</td>\n",
       "      <td>1</td>\n",
       "    </tr>\n",
       "    <tr>\n",
       "      <th>1187</th>\n",
       "      <td>-1.498376</td>\n",
       "      <td>1.778084</td>\n",
       "      <td>0.124150</td>\n",
       "      <td>0.469930</td>\n",
       "      <td>1</td>\n",
       "      <td>1</td>\n",
       "      <td>0</td>\n",
       "    </tr>\n",
       "    <tr>\n",
       "      <th>1190</th>\n",
       "      <td>0.573493</td>\n",
       "      <td>0.133073</td>\n",
       "      <td>0.949365</td>\n",
       "      <td>0.844510</td>\n",
       "      <td>0</td>\n",
       "      <td>0</td>\n",
       "      <td>0</td>\n",
       "    </tr>\n",
       "    <tr>\n",
       "      <th>1191</th>\n",
       "      <td>1.840301</td>\n",
       "      <td>-0.745482</td>\n",
       "      <td>0.908305</td>\n",
       "      <td>1.131616</td>\n",
       "      <td>0</td>\n",
       "      <td>1</td>\n",
       "      <td>0</td>\n",
       "    </tr>\n",
       "  </tbody>\n",
       "</table>\n",
       "<p>844 rows × 7 columns</p>\n",
       "</div>"
      ],
      "text/plain": [
       "      undermine_score  support_score  cp_distance  cop_distance  \\\n",
       "0           -1.034109      -0.024011     0.342531      0.393281   \n",
       "1           -1.061421      -0.081111     0.335813      0.367947   \n",
       "4           -1.579876       0.949217     0.220279      0.254198   \n",
       "6           -1.200145       0.089586     0.276100      0.335244   \n",
       "7           -1.038454       1.297280     0.315945      0.777285   \n",
       "...               ...            ...          ...           ...   \n",
       "1183         2.599191      -0.801657     1.632240      0.522958   \n",
       "1185        -2.200005       1.428350     0.182642      0.213155   \n",
       "1187        -1.498376       1.778084     0.124150      0.469930   \n",
       "1190         0.573493       0.133073     0.949365      0.844510   \n",
       "1191         1.840301      -0.745482     0.908305      1.131616   \n",
       "\n",
       "      predict_label  distance_label  gold  \n",
       "0                 1               1     1  \n",
       "1                 1               1     0  \n",
       "4                 1               1     1  \n",
       "6                 1               1     1  \n",
       "7                 1               1     1  \n",
       "...             ...             ...   ...  \n",
       "1183              0               0     0  \n",
       "1185              1               1     1  \n",
       "1187              1               1     0  \n",
       "1190              0               0     0  \n",
       "1191              0               1     0  \n",
       "\n",
       "[844 rows x 7 columns]"
      ]
     },
     "execution_count": 1799,
     "metadata": {},
     "output_type": "execute_result"
    }
   ],
   "source": [
    "df[abs(df.cp_distance-df.cop_distance)>0.03]"
   ]
  },
  {
   "cell_type": "code",
   "execution_count": 1800,
   "metadata": {},
   "outputs": [],
   "source": [
    "#triplet test set"
   ]
  },
  {
   "cell_type": "code",
   "execution_count": 1801,
   "metadata": {},
   "outputs": [],
   "source": [
    "df_origin = pd.read_csv(\"../stance_code/Dataset/ibmcs/tri_test.tsv\", delimiter=\"\\t\")"
   ]
  },
  {
   "cell_type": "code",
   "execution_count": 1802,
   "metadata": {},
   "outputs": [],
   "source": [
    "#combine triplet test set with eval results"
   ]
  },
  {
   "cell_type": "code",
   "execution_count": 1803,
   "metadata": {},
   "outputs": [],
   "source": [
    "incons_out = df_inconsistency.join(df_origin).drop(\"x\",axis=1).drop(\"y\",axis=1)"
   ]
  },
  {
   "cell_type": "code",
   "execution_count": 1804,
   "metadata": {},
   "outputs": [],
   "source": [
    "# incons_out.to_csv(\"inconsistency_data.csv\",index=False)"
   ]
  },
  {
   "cell_type": "code",
   "execution_count": 1805,
   "metadata": {},
   "outputs": [],
   "source": [
    "# incons_out.to_excel(\"inconsistency_data.xlsx\")"
   ]
  },
  {
   "cell_type": "code",
   "execution_count": 1806,
   "metadata": {},
   "outputs": [
    {
     "data": {
      "text/plain": [
       "0.5478187919463087"
      ]
     },
     "execution_count": 1806,
     "metadata": {},
     "output_type": "execute_result"
    }
   ],
   "source": [
    "accuracy_score(df_inconsistency.gold,df_inconsistency.predict_label)"
   ]
  },
  {
   "cell_type": "code",
   "execution_count": null,
   "metadata": {},
   "outputs": [],
   "source": []
  },
  {
   "cell_type": "code",
   "execution_count": 1807,
   "metadata": {},
   "outputs": [],
   "source": [
    "# distance_correct_logits_wrong"
   ]
  },
  {
   "cell_type": "code",
   "execution_count": 1808,
   "metadata": {},
   "outputs": [],
   "source": [
    "df_distance_correct_logits_wrong = df[(df.distance_label==df.gold)&(df.predict_label!=df.gold)]"
   ]
  },
  {
   "cell_type": "code",
   "execution_count": 1809,
   "metadata": {},
   "outputs": [
    {
     "data": {
      "text/html": [
       "<div>\n",
       "<style scoped>\n",
       "    .dataframe tbody tr th:only-of-type {\n",
       "        vertical-align: middle;\n",
       "    }\n",
       "\n",
       "    .dataframe tbody tr th {\n",
       "        vertical-align: top;\n",
       "    }\n",
       "\n",
       "    .dataframe thead th {\n",
       "        text-align: right;\n",
       "    }\n",
       "</style>\n",
       "<table border=\"1\" class=\"dataframe\">\n",
       "  <thead>\n",
       "    <tr style=\"text-align: right;\">\n",
       "      <th></th>\n",
       "      <th>undermine_score</th>\n",
       "      <th>support_score</th>\n",
       "      <th>cp_distance</th>\n",
       "      <th>cop_distance</th>\n",
       "      <th>predict_label</th>\n",
       "      <th>distance_label</th>\n",
       "      <th>gold</th>\n",
       "    </tr>\n",
       "  </thead>\n",
       "  <tbody>\n",
       "    <tr>\n",
       "      <th>11</th>\n",
       "      <td>-2.391874</td>\n",
       "      <td>1.324603</td>\n",
       "      <td>0.132577</td>\n",
       "      <td>0.094885</td>\n",
       "      <td>1</td>\n",
       "      <td>0</td>\n",
       "      <td>0</td>\n",
       "    </tr>\n",
       "    <tr>\n",
       "      <th>13</th>\n",
       "      <td>-1.497100</td>\n",
       "      <td>0.158506</td>\n",
       "      <td>0.161577</td>\n",
       "      <td>0.135295</td>\n",
       "      <td>1</td>\n",
       "      <td>0</td>\n",
       "      <td>0</td>\n",
       "    </tr>\n",
       "    <tr>\n",
       "      <th>14</th>\n",
       "      <td>-1.811171</td>\n",
       "      <td>1.462656</td>\n",
       "      <td>0.133712</td>\n",
       "      <td>0.071008</td>\n",
       "      <td>1</td>\n",
       "      <td>0</td>\n",
       "      <td>0</td>\n",
       "    </tr>\n",
       "    <tr>\n",
       "      <th>15</th>\n",
       "      <td>-1.314804</td>\n",
       "      <td>1.391240</td>\n",
       "      <td>0.351414</td>\n",
       "      <td>0.157195</td>\n",
       "      <td>1</td>\n",
       "      <td>0</td>\n",
       "      <td>0</td>\n",
       "    </tr>\n",
       "    <tr>\n",
       "      <th>19</th>\n",
       "      <td>-0.716636</td>\n",
       "      <td>-0.235580</td>\n",
       "      <td>0.397076</td>\n",
       "      <td>0.394823</td>\n",
       "      <td>1</td>\n",
       "      <td>0</td>\n",
       "      <td>0</td>\n",
       "    </tr>\n",
       "    <tr>\n",
       "      <th>...</th>\n",
       "      <td>...</td>\n",
       "      <td>...</td>\n",
       "      <td>...</td>\n",
       "      <td>...</td>\n",
       "      <td>...</td>\n",
       "      <td>...</td>\n",
       "      <td>...</td>\n",
       "    </tr>\n",
       "    <tr>\n",
       "      <th>1162</th>\n",
       "      <td>-2.054411</td>\n",
       "      <td>0.941750</td>\n",
       "      <td>0.063245</td>\n",
       "      <td>0.062937</td>\n",
       "      <td>1</td>\n",
       "      <td>0</td>\n",
       "      <td>0</td>\n",
       "    </tr>\n",
       "    <tr>\n",
       "      <th>1163</th>\n",
       "      <td>-1.671941</td>\n",
       "      <td>1.455081</td>\n",
       "      <td>0.203912</td>\n",
       "      <td>0.061625</td>\n",
       "      <td>1</td>\n",
       "      <td>0</td>\n",
       "      <td>0</td>\n",
       "    </tr>\n",
       "    <tr>\n",
       "      <th>1169</th>\n",
       "      <td>-2.380676</td>\n",
       "      <td>1.744312</td>\n",
       "      <td>0.110098</td>\n",
       "      <td>0.050115</td>\n",
       "      <td>1</td>\n",
       "      <td>0</td>\n",
       "      <td>0</td>\n",
       "    </tr>\n",
       "    <tr>\n",
       "      <th>1175</th>\n",
       "      <td>-1.937599</td>\n",
       "      <td>1.161631</td>\n",
       "      <td>0.200343</td>\n",
       "      <td>0.173427</td>\n",
       "      <td>1</td>\n",
       "      <td>0</td>\n",
       "      <td>0</td>\n",
       "    </tr>\n",
       "    <tr>\n",
       "      <th>1176</th>\n",
       "      <td>-2.889020</td>\n",
       "      <td>1.939467</td>\n",
       "      <td>0.069601</td>\n",
       "      <td>0.022877</td>\n",
       "      <td>1</td>\n",
       "      <td>0</td>\n",
       "      <td>0</td>\n",
       "    </tr>\n",
       "  </tbody>\n",
       "</table>\n",
       "<p>198 rows × 7 columns</p>\n",
       "</div>"
      ],
      "text/plain": [
       "      undermine_score  support_score  cp_distance  cop_distance  \\\n",
       "11          -2.391874       1.324603     0.132577      0.094885   \n",
       "13          -1.497100       0.158506     0.161577      0.135295   \n",
       "14          -1.811171       1.462656     0.133712      0.071008   \n",
       "15          -1.314804       1.391240     0.351414      0.157195   \n",
       "19          -0.716636      -0.235580     0.397076      0.394823   \n",
       "...               ...            ...          ...           ...   \n",
       "1162        -2.054411       0.941750     0.063245      0.062937   \n",
       "1163        -1.671941       1.455081     0.203912      0.061625   \n",
       "1169        -2.380676       1.744312     0.110098      0.050115   \n",
       "1175        -1.937599       1.161631     0.200343      0.173427   \n",
       "1176        -2.889020       1.939467     0.069601      0.022877   \n",
       "\n",
       "      predict_label  distance_label  gold  \n",
       "11                1               0     0  \n",
       "13                1               0     0  \n",
       "14                1               0     0  \n",
       "15                1               0     0  \n",
       "19                1               0     0  \n",
       "...             ...             ...   ...  \n",
       "1162              1               0     0  \n",
       "1163              1               0     0  \n",
       "1169              1               0     0  \n",
       "1175              1               0     0  \n",
       "1176              1               0     0  \n",
       "\n",
       "[198 rows x 7 columns]"
      ]
     },
     "execution_count": 1809,
     "metadata": {},
     "output_type": "execute_result"
    }
   ],
   "source": [
    "df_distance_correct_logits_wrong"
   ]
  },
  {
   "cell_type": "code",
   "execution_count": 1810,
   "metadata": {},
   "outputs": [],
   "source": [
    "# combine distance_correct_logits_wrong with test set"
   ]
  },
  {
   "cell_type": "code",
   "execution_count": 1811,
   "metadata": {},
   "outputs": [],
   "source": [
    "dcorrect_lwrong_out = df_distance_correct_logits_wrong.join(df_origin).drop(\"x\",axis=1).drop(\"y\",axis=1)"
   ]
  },
  {
   "cell_type": "code",
   "execution_count": 1812,
   "metadata": {},
   "outputs": [
    {
     "data": {
      "text/html": [
       "<div>\n",
       "<style scoped>\n",
       "    .dataframe tbody tr th:only-of-type {\n",
       "        vertical-align: middle;\n",
       "    }\n",
       "\n",
       "    .dataframe tbody tr th {\n",
       "        vertical-align: top;\n",
       "    }\n",
       "\n",
       "    .dataframe thead th {\n",
       "        text-align: right;\n",
       "    }\n",
       "</style>\n",
       "<table border=\"1\" class=\"dataframe\">\n",
       "  <thead>\n",
       "    <tr style=\"text-align: right;\">\n",
       "      <th></th>\n",
       "      <th>undermine_score</th>\n",
       "      <th>support_score</th>\n",
       "      <th>cp_distance</th>\n",
       "      <th>cop_distance</th>\n",
       "      <th>predict_label</th>\n",
       "      <th>distance_label</th>\n",
       "      <th>gold</th>\n",
       "      <th>Label</th>\n",
       "      <th>claim</th>\n",
       "      <th>perspective</th>\n",
       "      <th>opposite_perspective</th>\n",
       "    </tr>\n",
       "  </thead>\n",
       "  <tbody>\n",
       "    <tr>\n",
       "      <th>11</th>\n",
       "      <td>-2.391874</td>\n",
       "      <td>1.324603</td>\n",
       "      <td>0.132577</td>\n",
       "      <td>0.094885</td>\n",
       "      <td>1</td>\n",
       "      <td>0</td>\n",
       "      <td>0</td>\n",
       "      <td>0</td>\n",
       "      <td>This house believes that the sale of violent v...</td>\n",
       "      <td>aggressive children tend to select more violen...</td>\n",
       "      <td>aggressive children tend to select more violen...</td>\n",
       "    </tr>\n",
       "    <tr>\n",
       "      <th>13</th>\n",
       "      <td>-1.497100</td>\n",
       "      <td>0.158506</td>\n",
       "      <td>0.161577</td>\n",
       "      <td>0.135295</td>\n",
       "      <td>1</td>\n",
       "      <td>0</td>\n",
       "      <td>0</td>\n",
       "      <td>0</td>\n",
       "      <td>This house believes that the sale of violent v...</td>\n",
       "      <td>adolescents that don't play video games at all...</td>\n",
       "      <td>adolescents that do play video games at all ar...</td>\n",
       "    </tr>\n",
       "    <tr>\n",
       "      <th>14</th>\n",
       "      <td>-1.811171</td>\n",
       "      <td>1.462656</td>\n",
       "      <td>0.133712</td>\n",
       "      <td>0.071008</td>\n",
       "      <td>1</td>\n",
       "      <td>0</td>\n",
       "      <td>0</td>\n",
       "      <td>0</td>\n",
       "      <td>This house believes that the sale of violent v...</td>\n",
       "      <td>video game play is part of an adolescent boy's...</td>\n",
       "      <td>video game play is not part of an adolescent b...</td>\n",
       "    </tr>\n",
       "    <tr>\n",
       "      <th>15</th>\n",
       "      <td>-1.314804</td>\n",
       "      <td>1.391240</td>\n",
       "      <td>0.351414</td>\n",
       "      <td>0.157195</td>\n",
       "      <td>1</td>\n",
       "      <td>0</td>\n",
       "      <td>0</td>\n",
       "      <td>0</td>\n",
       "      <td>This house believes that the sale of violent v...</td>\n",
       "      <td>Biological theories of aggression and violence...</td>\n",
       "      <td>Biological theories of aggression and violence...</td>\n",
       "    </tr>\n",
       "    <tr>\n",
       "      <th>19</th>\n",
       "      <td>-0.716636</td>\n",
       "      <td>-0.235580</td>\n",
       "      <td>0.397076</td>\n",
       "      <td>0.394823</td>\n",
       "      <td>1</td>\n",
       "      <td>0</td>\n",
       "      <td>0</td>\n",
       "      <td>0</td>\n",
       "      <td>This house believes that the sale of violent v...</td>\n",
       "      <td>Media influences are too weak and distant to h...</td>\n",
       "      <td>Media influences are not too weak and distant ...</td>\n",
       "    </tr>\n",
       "    <tr>\n",
       "      <th>...</th>\n",
       "      <td>...</td>\n",
       "      <td>...</td>\n",
       "      <td>...</td>\n",
       "      <td>...</td>\n",
       "      <td>...</td>\n",
       "      <td>...</td>\n",
       "      <td>...</td>\n",
       "      <td>...</td>\n",
       "      <td>...</td>\n",
       "      <td>...</td>\n",
       "      <td>...</td>\n",
       "    </tr>\n",
       "    <tr>\n",
       "      <th>1162</th>\n",
       "      <td>-2.054411</td>\n",
       "      <td>0.941750</td>\n",
       "      <td>0.063245</td>\n",
       "      <td>0.062937</td>\n",
       "      <td>1</td>\n",
       "      <td>0</td>\n",
       "      <td>0</td>\n",
       "      <td>0</td>\n",
       "      <td>This house would only teach abstinence for sex...</td>\n",
       "      <td>such programs fail to provide adequate informa...</td>\n",
       "      <td>such programs fail not to provide adequate inf...</td>\n",
       "    </tr>\n",
       "    <tr>\n",
       "      <th>1163</th>\n",
       "      <td>-1.671941</td>\n",
       "      <td>1.455081</td>\n",
       "      <td>0.203912</td>\n",
       "      <td>0.061625</td>\n",
       "      <td>1</td>\n",
       "      <td>0</td>\n",
       "      <td>0</td>\n",
       "      <td>0</td>\n",
       "      <td>This house would only teach abstinence for sex...</td>\n",
       "      <td>Evidence has not supported the effective use o...</td>\n",
       "      <td>Evidence has supported the effective use of ab...</td>\n",
       "    </tr>\n",
       "    <tr>\n",
       "      <th>1169</th>\n",
       "      <td>-2.380676</td>\n",
       "      <td>1.744312</td>\n",
       "      <td>0.110098</td>\n",
       "      <td>0.050115</td>\n",
       "      <td>1</td>\n",
       "      <td>0</td>\n",
       "      <td>0</td>\n",
       "      <td>0</td>\n",
       "      <td>This house would only teach abstinence for sex...</td>\n",
       "      <td>abstinence only sex education is ineffective</td>\n",
       "      <td>abstinence only sex education is not ineffective</td>\n",
       "    </tr>\n",
       "    <tr>\n",
       "      <th>1175</th>\n",
       "      <td>-1.937599</td>\n",
       "      <td>1.161631</td>\n",
       "      <td>0.200343</td>\n",
       "      <td>0.173427</td>\n",
       "      <td>1</td>\n",
       "      <td>0</td>\n",
       "      <td>0</td>\n",
       "      <td>0</td>\n",
       "      <td>This house would only teach abstinence for sex...</td>\n",
       "      <td>Evidence does not support the use of abstinenc...</td>\n",
       "      <td>Evidence does support the use of abstinence on...</td>\n",
       "    </tr>\n",
       "    <tr>\n",
       "      <th>1176</th>\n",
       "      <td>-2.889020</td>\n",
       "      <td>1.939467</td>\n",
       "      <td>0.069601</td>\n",
       "      <td>0.022877</td>\n",
       "      <td>1</td>\n",
       "      <td>0</td>\n",
       "      <td>0</td>\n",
       "      <td>0</td>\n",
       "      <td>This house would only teach abstinence for sex...</td>\n",
       "      <td>Abstinence-only programs have no positive effects</td>\n",
       "      <td>Abstinence-only programs don't have no positiv...</td>\n",
       "    </tr>\n",
       "  </tbody>\n",
       "</table>\n",
       "<p>198 rows × 11 columns</p>\n",
       "</div>"
      ],
      "text/plain": [
       "      undermine_score  support_score  cp_distance  cop_distance  \\\n",
       "11          -2.391874       1.324603     0.132577      0.094885   \n",
       "13          -1.497100       0.158506     0.161577      0.135295   \n",
       "14          -1.811171       1.462656     0.133712      0.071008   \n",
       "15          -1.314804       1.391240     0.351414      0.157195   \n",
       "19          -0.716636      -0.235580     0.397076      0.394823   \n",
       "...               ...            ...          ...           ...   \n",
       "1162        -2.054411       0.941750     0.063245      0.062937   \n",
       "1163        -1.671941       1.455081     0.203912      0.061625   \n",
       "1169        -2.380676       1.744312     0.110098      0.050115   \n",
       "1175        -1.937599       1.161631     0.200343      0.173427   \n",
       "1176        -2.889020       1.939467     0.069601      0.022877   \n",
       "\n",
       "      predict_label  distance_label  gold  Label  \\\n",
       "11                1               0     0      0   \n",
       "13                1               0     0      0   \n",
       "14                1               0     0      0   \n",
       "15                1               0     0      0   \n",
       "19                1               0     0      0   \n",
       "...             ...             ...   ...    ...   \n",
       "1162              1               0     0      0   \n",
       "1163              1               0     0      0   \n",
       "1169              1               0     0      0   \n",
       "1175              1               0     0      0   \n",
       "1176              1               0     0      0   \n",
       "\n",
       "                                                  claim  \\\n",
       "11    This house believes that the sale of violent v...   \n",
       "13    This house believes that the sale of violent v...   \n",
       "14    This house believes that the sale of violent v...   \n",
       "15    This house believes that the sale of violent v...   \n",
       "19    This house believes that the sale of violent v...   \n",
       "...                                                 ...   \n",
       "1162  This house would only teach abstinence for sex...   \n",
       "1163  This house would only teach abstinence for sex...   \n",
       "1169  This house would only teach abstinence for sex...   \n",
       "1175  This house would only teach abstinence for sex...   \n",
       "1176  This house would only teach abstinence for sex...   \n",
       "\n",
       "                                            perspective  \\\n",
       "11    aggressive children tend to select more violen...   \n",
       "13    adolescents that don't play video games at all...   \n",
       "14    video game play is part of an adolescent boy's...   \n",
       "15    Biological theories of aggression and violence...   \n",
       "19    Media influences are too weak and distant to h...   \n",
       "...                                                 ...   \n",
       "1162  such programs fail to provide adequate informa...   \n",
       "1163  Evidence has not supported the effective use o...   \n",
       "1169       abstinence only sex education is ineffective   \n",
       "1175  Evidence does not support the use of abstinenc...   \n",
       "1176  Abstinence-only programs have no positive effects   \n",
       "\n",
       "                                   opposite_perspective  \n",
       "11    aggressive children tend to select more violen...  \n",
       "13    adolescents that do play video games at all ar...  \n",
       "14    video game play is not part of an adolescent b...  \n",
       "15    Biological theories of aggression and violence...  \n",
       "19    Media influences are not too weak and distant ...  \n",
       "...                                                 ...  \n",
       "1162  such programs fail not to provide adequate inf...  \n",
       "1163  Evidence has supported the effective use of ab...  \n",
       "1169   abstinence only sex education is not ineffective  \n",
       "1175  Evidence does support the use of abstinence on...  \n",
       "1176  Abstinence-only programs don't have no positiv...  \n",
       "\n",
       "[198 rows x 11 columns]"
      ]
     },
     "execution_count": 1812,
     "metadata": {},
     "output_type": "execute_result"
    }
   ],
   "source": [
    "dcorrect_lwrong_out"
   ]
  },
  {
   "cell_type": "code",
   "execution_count": 1813,
   "metadata": {},
   "outputs": [],
   "source": [
    "# dcorrect_lwrong_out.to_csv(\"dcorrect_lwrong_data.csv\")"
   ]
  },
  {
   "cell_type": "code",
   "execution_count": 1814,
   "metadata": {},
   "outputs": [],
   "source": [
    "# dcorrect_lwrong_out.to_excel(\"dcorrect_lwrong_data.xlsx\")"
   ]
  },
  {
   "cell_type": "code",
   "execution_count": null,
   "metadata": {},
   "outputs": [],
   "source": []
  },
  {
   "cell_type": "code",
   "execution_count": 1815,
   "metadata": {},
   "outputs": [],
   "source": [
    "#distance_wrong_logits_correct"
   ]
  },
  {
   "cell_type": "code",
   "execution_count": 1816,
   "metadata": {},
   "outputs": [],
   "source": [
    "df_distance_wrong_logits_correct = df[(df.distance_label!=df.gold)&(df.predict_label==df.gold)]"
   ]
  },
  {
   "cell_type": "code",
   "execution_count": 1817,
   "metadata": {},
   "outputs": [
    {
     "data": {
      "text/html": [
       "<div>\n",
       "<style scoped>\n",
       "    .dataframe tbody tr th:only-of-type {\n",
       "        vertical-align: middle;\n",
       "    }\n",
       "\n",
       "    .dataframe tbody tr th {\n",
       "        vertical-align: top;\n",
       "    }\n",
       "\n",
       "    .dataframe thead th {\n",
       "        text-align: right;\n",
       "    }\n",
       "</style>\n",
       "<table border=\"1\" class=\"dataframe\">\n",
       "  <thead>\n",
       "    <tr style=\"text-align: right;\">\n",
       "      <th></th>\n",
       "      <th>undermine_score</th>\n",
       "      <th>support_score</th>\n",
       "      <th>cp_distance</th>\n",
       "      <th>cop_distance</th>\n",
       "      <th>predict_label</th>\n",
       "      <th>distance_label</th>\n",
       "      <th>gold</th>\n",
       "    </tr>\n",
       "  </thead>\n",
       "  <tbody>\n",
       "    <tr>\n",
       "      <th>20</th>\n",
       "      <td>-1.240912</td>\n",
       "      <td>0.646532</td>\n",
       "      <td>0.312920</td>\n",
       "      <td>0.259030</td>\n",
       "      <td>1</td>\n",
       "      <td>0</td>\n",
       "      <td>1</td>\n",
       "    </tr>\n",
       "    <tr>\n",
       "      <th>30</th>\n",
       "      <td>-2.230269</td>\n",
       "      <td>1.889673</td>\n",
       "      <td>0.067117</td>\n",
       "      <td>0.057234</td>\n",
       "      <td>1</td>\n",
       "      <td>0</td>\n",
       "      <td>1</td>\n",
       "    </tr>\n",
       "    <tr>\n",
       "      <th>31</th>\n",
       "      <td>-2.340915</td>\n",
       "      <td>1.478833</td>\n",
       "      <td>0.121262</td>\n",
       "      <td>0.047995</td>\n",
       "      <td>1</td>\n",
       "      <td>0</td>\n",
       "      <td>1</td>\n",
       "    </tr>\n",
       "    <tr>\n",
       "      <th>32</th>\n",
       "      <td>-0.629489</td>\n",
       "      <td>-0.063758</td>\n",
       "      <td>0.449224</td>\n",
       "      <td>0.419599</td>\n",
       "      <td>1</td>\n",
       "      <td>0</td>\n",
       "      <td>1</td>\n",
       "    </tr>\n",
       "    <tr>\n",
       "      <th>33</th>\n",
       "      <td>-2.224514</td>\n",
       "      <td>1.431395</td>\n",
       "      <td>0.155916</td>\n",
       "      <td>0.152552</td>\n",
       "      <td>1</td>\n",
       "      <td>0</td>\n",
       "      <td>1</td>\n",
       "    </tr>\n",
       "    <tr>\n",
       "      <th>...</th>\n",
       "      <td>...</td>\n",
       "      <td>...</td>\n",
       "      <td>...</td>\n",
       "      <td>...</td>\n",
       "      <td>...</td>\n",
       "      <td>...</td>\n",
       "      <td>...</td>\n",
       "    </tr>\n",
       "    <tr>\n",
       "      <th>1151</th>\n",
       "      <td>-1.645177</td>\n",
       "      <td>0.698778</td>\n",
       "      <td>0.216456</td>\n",
       "      <td>0.213432</td>\n",
       "      <td>1</td>\n",
       "      <td>0</td>\n",
       "      <td>1</td>\n",
       "    </tr>\n",
       "    <tr>\n",
       "      <th>1161</th>\n",
       "      <td>-2.068355</td>\n",
       "      <td>1.676713</td>\n",
       "      <td>0.162004</td>\n",
       "      <td>0.035684</td>\n",
       "      <td>1</td>\n",
       "      <td>0</td>\n",
       "      <td>1</td>\n",
       "    </tr>\n",
       "    <tr>\n",
       "      <th>1170</th>\n",
       "      <td>-1.616833</td>\n",
       "      <td>0.580317</td>\n",
       "      <td>0.337614</td>\n",
       "      <td>0.080770</td>\n",
       "      <td>1</td>\n",
       "      <td>0</td>\n",
       "      <td>1</td>\n",
       "    </tr>\n",
       "    <tr>\n",
       "      <th>1182</th>\n",
       "      <td>0.260522</td>\n",
       "      <td>0.160030</td>\n",
       "      <td>0.485534</td>\n",
       "      <td>1.267662</td>\n",
       "      <td>0</td>\n",
       "      <td>1</td>\n",
       "      <td>0</td>\n",
       "    </tr>\n",
       "    <tr>\n",
       "      <th>1191</th>\n",
       "      <td>1.840301</td>\n",
       "      <td>-0.745482</td>\n",
       "      <td>0.908305</td>\n",
       "      <td>1.131616</td>\n",
       "      <td>0</td>\n",
       "      <td>1</td>\n",
       "      <td>0</td>\n",
       "    </tr>\n",
       "  </tbody>\n",
       "</table>\n",
       "<p>195 rows × 7 columns</p>\n",
       "</div>"
      ],
      "text/plain": [
       "      undermine_score  support_score  cp_distance  cop_distance  \\\n",
       "20          -1.240912       0.646532     0.312920      0.259030   \n",
       "30          -2.230269       1.889673     0.067117      0.057234   \n",
       "31          -2.340915       1.478833     0.121262      0.047995   \n",
       "32          -0.629489      -0.063758     0.449224      0.419599   \n",
       "33          -2.224514       1.431395     0.155916      0.152552   \n",
       "...               ...            ...          ...           ...   \n",
       "1151        -1.645177       0.698778     0.216456      0.213432   \n",
       "1161        -2.068355       1.676713     0.162004      0.035684   \n",
       "1170        -1.616833       0.580317     0.337614      0.080770   \n",
       "1182         0.260522       0.160030     0.485534      1.267662   \n",
       "1191         1.840301      -0.745482     0.908305      1.131616   \n",
       "\n",
       "      predict_label  distance_label  gold  \n",
       "20                1               0     1  \n",
       "30                1               0     1  \n",
       "31                1               0     1  \n",
       "32                1               0     1  \n",
       "33                1               0     1  \n",
       "...             ...             ...   ...  \n",
       "1151              1               0     1  \n",
       "1161              1               0     1  \n",
       "1170              1               0     1  \n",
       "1182              0               1     0  \n",
       "1191              0               1     0  \n",
       "\n",
       "[195 rows x 7 columns]"
      ]
     },
     "execution_count": 1817,
     "metadata": {},
     "output_type": "execute_result"
    }
   ],
   "source": [
    "df_distance_wrong_logits_correct"
   ]
  },
  {
   "cell_type": "code",
   "execution_count": 1818,
   "metadata": {},
   "outputs": [],
   "source": [
    "#combine distance_wrong_logits_correct with test set"
   ]
  },
  {
   "cell_type": "code",
   "execution_count": 1819,
   "metadata": {},
   "outputs": [],
   "source": [
    "dwrong_lcorrect_out = df_distance_wrong_logits_correct.join(df_origin).drop(\"x\",axis=1).drop(\"y\",axis=1)"
   ]
  },
  {
   "cell_type": "code",
   "execution_count": 1820,
   "metadata": {},
   "outputs": [
    {
     "data": {
      "text/html": [
       "<div>\n",
       "<style scoped>\n",
       "    .dataframe tbody tr th:only-of-type {\n",
       "        vertical-align: middle;\n",
       "    }\n",
       "\n",
       "    .dataframe tbody tr th {\n",
       "        vertical-align: top;\n",
       "    }\n",
       "\n",
       "    .dataframe thead th {\n",
       "        text-align: right;\n",
       "    }\n",
       "</style>\n",
       "<table border=\"1\" class=\"dataframe\">\n",
       "  <thead>\n",
       "    <tr style=\"text-align: right;\">\n",
       "      <th></th>\n",
       "      <th>undermine_score</th>\n",
       "      <th>support_score</th>\n",
       "      <th>cp_distance</th>\n",
       "      <th>cop_distance</th>\n",
       "      <th>predict_label</th>\n",
       "      <th>distance_label</th>\n",
       "      <th>gold</th>\n",
       "      <th>Label</th>\n",
       "      <th>claim</th>\n",
       "      <th>perspective</th>\n",
       "      <th>opposite_perspective</th>\n",
       "    </tr>\n",
       "  </thead>\n",
       "  <tbody>\n",
       "    <tr>\n",
       "      <th>20</th>\n",
       "      <td>-1.240912</td>\n",
       "      <td>0.646532</td>\n",
       "      <td>0.312920</td>\n",
       "      <td>0.259030</td>\n",
       "      <td>1</td>\n",
       "      <td>0</td>\n",
       "      <td>1</td>\n",
       "      <td>1</td>\n",
       "      <td>This house believes that the sale of violent v...</td>\n",
       "      <td>violent video games promote violent behavior, ...</td>\n",
       "      <td>violent video games promote violent behavior, ...</td>\n",
       "    </tr>\n",
       "    <tr>\n",
       "      <th>30</th>\n",
       "      <td>-2.230269</td>\n",
       "      <td>1.889673</td>\n",
       "      <td>0.067117</td>\n",
       "      <td>0.057234</td>\n",
       "      <td>1</td>\n",
       "      <td>0</td>\n",
       "      <td>1</td>\n",
       "      <td>1</td>\n",
       "      <td>This house believes that the sale of violent v...</td>\n",
       "      <td>Violent video games are influencing children's...</td>\n",
       "      <td>Violent video games are not influencing childr...</td>\n",
       "    </tr>\n",
       "    <tr>\n",
       "      <th>31</th>\n",
       "      <td>-2.340915</td>\n",
       "      <td>1.478833</td>\n",
       "      <td>0.121262</td>\n",
       "      <td>0.047995</td>\n",
       "      <td>1</td>\n",
       "      <td>0</td>\n",
       "      <td>1</td>\n",
       "      <td>1</td>\n",
       "      <td>This house believes that the sale of violent v...</td>\n",
       "      <td>Various games are accused of causing addiction...</td>\n",
       "      <td>Various games are not accused of causing addic...</td>\n",
       "    </tr>\n",
       "    <tr>\n",
       "      <th>32</th>\n",
       "      <td>-0.629489</td>\n",
       "      <td>-0.063758</td>\n",
       "      <td>0.449224</td>\n",
       "      <td>0.419599</td>\n",
       "      <td>1</td>\n",
       "      <td>0</td>\n",
       "      <td>1</td>\n",
       "      <td>1</td>\n",
       "      <td>This house believes that the sale of violent v...</td>\n",
       "      <td>exposure to graphic violence leads to desensit...</td>\n",
       "      <td>exposure not to graphic violence leads to dese...</td>\n",
       "    </tr>\n",
       "    <tr>\n",
       "      <th>33</th>\n",
       "      <td>-2.224514</td>\n",
       "      <td>1.431395</td>\n",
       "      <td>0.155916</td>\n",
       "      <td>0.152552</td>\n",
       "      <td>1</td>\n",
       "      <td>0</td>\n",
       "      <td>1</td>\n",
       "      <td>1</td>\n",
       "      <td>This house believes that the sale of violent v...</td>\n",
       "      <td>violence in games hardens children to unethica...</td>\n",
       "      <td>violence in games hardens children not to unet...</td>\n",
       "    </tr>\n",
       "    <tr>\n",
       "      <th>...</th>\n",
       "      <td>...</td>\n",
       "      <td>...</td>\n",
       "      <td>...</td>\n",
       "      <td>...</td>\n",
       "      <td>...</td>\n",
       "      <td>...</td>\n",
       "      <td>...</td>\n",
       "      <td>...</td>\n",
       "      <td>...</td>\n",
       "      <td>...</td>\n",
       "      <td>...</td>\n",
       "    </tr>\n",
       "    <tr>\n",
       "      <th>1151</th>\n",
       "      <td>-1.645177</td>\n",
       "      <td>0.698778</td>\n",
       "      <td>0.216456</td>\n",
       "      <td>0.213432</td>\n",
       "      <td>1</td>\n",
       "      <td>0</td>\n",
       "      <td>1</td>\n",
       "      <td>1</td>\n",
       "      <td>This house would only teach abstinence for sex...</td>\n",
       "      <td>sexual activity outside of the context of marr...</td>\n",
       "      <td>sexual activity outside of the context of marr...</td>\n",
       "    </tr>\n",
       "    <tr>\n",
       "      <th>1161</th>\n",
       "      <td>-2.068355</td>\n",
       "      <td>1.676713</td>\n",
       "      <td>0.162004</td>\n",
       "      <td>0.035684</td>\n",
       "      <td>1</td>\n",
       "      <td>0</td>\n",
       "      <td>1</td>\n",
       "      <td>1</td>\n",
       "      <td>This house would only teach abstinence for sex...</td>\n",
       "      <td>sex before marriage and at a young age has hea...</td>\n",
       "      <td>sex before marriage and at a young age doesn't...</td>\n",
       "    </tr>\n",
       "    <tr>\n",
       "      <th>1170</th>\n",
       "      <td>-1.616833</td>\n",
       "      <td>0.580317</td>\n",
       "      <td>0.337614</td>\n",
       "      <td>0.080770</td>\n",
       "      <td>1</td>\n",
       "      <td>0</td>\n",
       "      <td>1</td>\n",
       "      <td>1</td>\n",
       "      <td>This house would only teach abstinence for sex...</td>\n",
       "      <td>Abstinence until marriage is the most effectiv...</td>\n",
       "      <td>Abstinence until marriage is not the most effe...</td>\n",
       "    </tr>\n",
       "    <tr>\n",
       "      <th>1182</th>\n",
       "      <td>0.260522</td>\n",
       "      <td>0.160030</td>\n",
       "      <td>0.485534</td>\n",
       "      <td>1.267662</td>\n",
       "      <td>0</td>\n",
       "      <td>1</td>\n",
       "      <td>0</td>\n",
       "      <td>0</td>\n",
       "      <td>This house would only teach abstinence for sex...</td>\n",
       "      <td>abstinence-only programs did not reduce the li...</td>\n",
       "      <td>abstinence-only programs did reduce the likeli...</td>\n",
       "    </tr>\n",
       "    <tr>\n",
       "      <th>1191</th>\n",
       "      <td>1.840301</td>\n",
       "      <td>-0.745482</td>\n",
       "      <td>0.908305</td>\n",
       "      <td>1.131616</td>\n",
       "      <td>0</td>\n",
       "      <td>1</td>\n",
       "      <td>0</td>\n",
       "      <td>0</td>\n",
       "      <td>This house would only teach abstinence for sex...</td>\n",
       "      <td>Sex-abstinence programs do not stop risky sexu...</td>\n",
       "      <td>Sex-abstinence programs do stop risky sexual b...</td>\n",
       "    </tr>\n",
       "  </tbody>\n",
       "</table>\n",
       "<p>195 rows × 11 columns</p>\n",
       "</div>"
      ],
      "text/plain": [
       "      undermine_score  support_score  cp_distance  cop_distance  \\\n",
       "20          -1.240912       0.646532     0.312920      0.259030   \n",
       "30          -2.230269       1.889673     0.067117      0.057234   \n",
       "31          -2.340915       1.478833     0.121262      0.047995   \n",
       "32          -0.629489      -0.063758     0.449224      0.419599   \n",
       "33          -2.224514       1.431395     0.155916      0.152552   \n",
       "...               ...            ...          ...           ...   \n",
       "1151        -1.645177       0.698778     0.216456      0.213432   \n",
       "1161        -2.068355       1.676713     0.162004      0.035684   \n",
       "1170        -1.616833       0.580317     0.337614      0.080770   \n",
       "1182         0.260522       0.160030     0.485534      1.267662   \n",
       "1191         1.840301      -0.745482     0.908305      1.131616   \n",
       "\n",
       "      predict_label  distance_label  gold  Label  \\\n",
       "20                1               0     1      1   \n",
       "30                1               0     1      1   \n",
       "31                1               0     1      1   \n",
       "32                1               0     1      1   \n",
       "33                1               0     1      1   \n",
       "...             ...             ...   ...    ...   \n",
       "1151              1               0     1      1   \n",
       "1161              1               0     1      1   \n",
       "1170              1               0     1      1   \n",
       "1182              0               1     0      0   \n",
       "1191              0               1     0      0   \n",
       "\n",
       "                                                  claim  \\\n",
       "20    This house believes that the sale of violent v...   \n",
       "30    This house believes that the sale of violent v...   \n",
       "31    This house believes that the sale of violent v...   \n",
       "32    This house believes that the sale of violent v...   \n",
       "33    This house believes that the sale of violent v...   \n",
       "...                                                 ...   \n",
       "1151  This house would only teach abstinence for sex...   \n",
       "1161  This house would only teach abstinence for sex...   \n",
       "1170  This house would only teach abstinence for sex...   \n",
       "1182  This house would only teach abstinence for sex...   \n",
       "1191  This house would only teach abstinence for sex...   \n",
       "\n",
       "                                            perspective  \\\n",
       "20    violent video games promote violent behavior, ...   \n",
       "30    Violent video games are influencing children's...   \n",
       "31    Various games are accused of causing addiction...   \n",
       "32    exposure to graphic violence leads to desensit...   \n",
       "33    violence in games hardens children to unethica...   \n",
       "...                                                 ...   \n",
       "1151  sexual activity outside of the context of marr...   \n",
       "1161  sex before marriage and at a young age has hea...   \n",
       "1170  Abstinence until marriage is the most effectiv...   \n",
       "1182  abstinence-only programs did not reduce the li...   \n",
       "1191  Sex-abstinence programs do not stop risky sexu...   \n",
       "\n",
       "                                   opposite_perspective  \n",
       "20    violent video games promote violent behavior, ...  \n",
       "30    Violent video games are not influencing childr...  \n",
       "31    Various games are not accused of causing addic...  \n",
       "32    exposure not to graphic violence leads to dese...  \n",
       "33    violence in games hardens children not to unet...  \n",
       "...                                                 ...  \n",
       "1151  sexual activity outside of the context of marr...  \n",
       "1161  sex before marriage and at a young age doesn't...  \n",
       "1170  Abstinence until marriage is not the most effe...  \n",
       "1182  abstinence-only programs did reduce the likeli...  \n",
       "1191  Sex-abstinence programs do stop risky sexual b...  \n",
       "\n",
       "[195 rows x 11 columns]"
      ]
     },
     "execution_count": 1820,
     "metadata": {},
     "output_type": "execute_result"
    }
   ],
   "source": [
    "dwrong_lcorrect_out"
   ]
  },
  {
   "cell_type": "code",
   "execution_count": 1821,
   "metadata": {},
   "outputs": [],
   "source": [
    "# dwrong_lcorrect_out.to_csv(\"dwrong_lcorrect_data.csv\")"
   ]
  },
  {
   "cell_type": "code",
   "execution_count": 1822,
   "metadata": {},
   "outputs": [],
   "source": [
    "# dwrong_lcorrect_out.to_excel(\"dwrong_lcorrect_data.xlsx\")"
   ]
  },
  {
   "cell_type": "code",
   "execution_count": null,
   "metadata": {},
   "outputs": [],
   "source": []
  },
  {
   "cell_type": "code",
   "execution_count": 1823,
   "metadata": {},
   "outputs": [],
   "source": [
    "#dcorrect_lwrong_out cases"
   ]
  },
  {
   "cell_type": "code",
   "execution_count": 1824,
   "metadata": {},
   "outputs": [
    {
     "data": {
      "text/html": [
       "<div>\n",
       "<style scoped>\n",
       "    .dataframe tbody tr th:only-of-type {\n",
       "        vertical-align: middle;\n",
       "    }\n",
       "\n",
       "    .dataframe tbody tr th {\n",
       "        vertical-align: top;\n",
       "    }\n",
       "\n",
       "    .dataframe thead th {\n",
       "        text-align: right;\n",
       "    }\n",
       "</style>\n",
       "<table border=\"1\" class=\"dataframe\">\n",
       "  <thead>\n",
       "    <tr style=\"text-align: right;\">\n",
       "      <th></th>\n",
       "      <th>undermine_score</th>\n",
       "      <th>support_score</th>\n",
       "      <th>cp_distance</th>\n",
       "      <th>cop_distance</th>\n",
       "      <th>predict_label</th>\n",
       "      <th>distance_label</th>\n",
       "      <th>gold</th>\n",
       "      <th>Label</th>\n",
       "      <th>claim</th>\n",
       "      <th>perspective</th>\n",
       "      <th>opposite_perspective</th>\n",
       "    </tr>\n",
       "  </thead>\n",
       "  <tbody>\n",
       "    <tr>\n",
       "      <th>11</th>\n",
       "      <td>-2.391874</td>\n",
       "      <td>1.324603</td>\n",
       "      <td>0.132577</td>\n",
       "      <td>0.094885</td>\n",
       "      <td>1</td>\n",
       "      <td>0</td>\n",
       "      <td>0</td>\n",
       "      <td>0</td>\n",
       "      <td>This house believes that the sale of violent v...</td>\n",
       "      <td>aggressive children tend to select more violen...</td>\n",
       "      <td>aggressive children tend to select more violen...</td>\n",
       "    </tr>\n",
       "    <tr>\n",
       "      <th>13</th>\n",
       "      <td>-1.497100</td>\n",
       "      <td>0.158506</td>\n",
       "      <td>0.161577</td>\n",
       "      <td>0.135295</td>\n",
       "      <td>1</td>\n",
       "      <td>0</td>\n",
       "      <td>0</td>\n",
       "      <td>0</td>\n",
       "      <td>This house believes that the sale of violent v...</td>\n",
       "      <td>adolescents that don't play video games at all...</td>\n",
       "      <td>adolescents that do play video games at all ar...</td>\n",
       "    </tr>\n",
       "    <tr>\n",
       "      <th>14</th>\n",
       "      <td>-1.811171</td>\n",
       "      <td>1.462656</td>\n",
       "      <td>0.133712</td>\n",
       "      <td>0.071008</td>\n",
       "      <td>1</td>\n",
       "      <td>0</td>\n",
       "      <td>0</td>\n",
       "      <td>0</td>\n",
       "      <td>This house believes that the sale of violent v...</td>\n",
       "      <td>video game play is part of an adolescent boy's...</td>\n",
       "      <td>video game play is not part of an adolescent b...</td>\n",
       "    </tr>\n",
       "    <tr>\n",
       "      <th>15</th>\n",
       "      <td>-1.314804</td>\n",
       "      <td>1.391240</td>\n",
       "      <td>0.351414</td>\n",
       "      <td>0.157195</td>\n",
       "      <td>1</td>\n",
       "      <td>0</td>\n",
       "      <td>0</td>\n",
       "      <td>0</td>\n",
       "      <td>This house believes that the sale of violent v...</td>\n",
       "      <td>Biological theories of aggression and violence...</td>\n",
       "      <td>Biological theories of aggression and violence...</td>\n",
       "    </tr>\n",
       "    <tr>\n",
       "      <th>19</th>\n",
       "      <td>-0.716636</td>\n",
       "      <td>-0.235580</td>\n",
       "      <td>0.397076</td>\n",
       "      <td>0.394823</td>\n",
       "      <td>1</td>\n",
       "      <td>0</td>\n",
       "      <td>0</td>\n",
       "      <td>0</td>\n",
       "      <td>This house believes that the sale of violent v...</td>\n",
       "      <td>Media influences are too weak and distant to h...</td>\n",
       "      <td>Media influences are not too weak and distant ...</td>\n",
       "    </tr>\n",
       "    <tr>\n",
       "      <th>...</th>\n",
       "      <td>...</td>\n",
       "      <td>...</td>\n",
       "      <td>...</td>\n",
       "      <td>...</td>\n",
       "      <td>...</td>\n",
       "      <td>...</td>\n",
       "      <td>...</td>\n",
       "      <td>...</td>\n",
       "      <td>...</td>\n",
       "      <td>...</td>\n",
       "      <td>...</td>\n",
       "    </tr>\n",
       "    <tr>\n",
       "      <th>1162</th>\n",
       "      <td>-2.054411</td>\n",
       "      <td>0.941750</td>\n",
       "      <td>0.063245</td>\n",
       "      <td>0.062937</td>\n",
       "      <td>1</td>\n",
       "      <td>0</td>\n",
       "      <td>0</td>\n",
       "      <td>0</td>\n",
       "      <td>This house would only teach abstinence for sex...</td>\n",
       "      <td>such programs fail to provide adequate informa...</td>\n",
       "      <td>such programs fail not to provide adequate inf...</td>\n",
       "    </tr>\n",
       "    <tr>\n",
       "      <th>1163</th>\n",
       "      <td>-1.671941</td>\n",
       "      <td>1.455081</td>\n",
       "      <td>0.203912</td>\n",
       "      <td>0.061625</td>\n",
       "      <td>1</td>\n",
       "      <td>0</td>\n",
       "      <td>0</td>\n",
       "      <td>0</td>\n",
       "      <td>This house would only teach abstinence for sex...</td>\n",
       "      <td>Evidence has not supported the effective use o...</td>\n",
       "      <td>Evidence has supported the effective use of ab...</td>\n",
       "    </tr>\n",
       "    <tr>\n",
       "      <th>1169</th>\n",
       "      <td>-2.380676</td>\n",
       "      <td>1.744312</td>\n",
       "      <td>0.110098</td>\n",
       "      <td>0.050115</td>\n",
       "      <td>1</td>\n",
       "      <td>0</td>\n",
       "      <td>0</td>\n",
       "      <td>0</td>\n",
       "      <td>This house would only teach abstinence for sex...</td>\n",
       "      <td>abstinence only sex education is ineffective</td>\n",
       "      <td>abstinence only sex education is not ineffective</td>\n",
       "    </tr>\n",
       "    <tr>\n",
       "      <th>1175</th>\n",
       "      <td>-1.937599</td>\n",
       "      <td>1.161631</td>\n",
       "      <td>0.200343</td>\n",
       "      <td>0.173427</td>\n",
       "      <td>1</td>\n",
       "      <td>0</td>\n",
       "      <td>0</td>\n",
       "      <td>0</td>\n",
       "      <td>This house would only teach abstinence for sex...</td>\n",
       "      <td>Evidence does not support the use of abstinenc...</td>\n",
       "      <td>Evidence does support the use of abstinence on...</td>\n",
       "    </tr>\n",
       "    <tr>\n",
       "      <th>1176</th>\n",
       "      <td>-2.889020</td>\n",
       "      <td>1.939467</td>\n",
       "      <td>0.069601</td>\n",
       "      <td>0.022877</td>\n",
       "      <td>1</td>\n",
       "      <td>0</td>\n",
       "      <td>0</td>\n",
       "      <td>0</td>\n",
       "      <td>This house would only teach abstinence for sex...</td>\n",
       "      <td>Abstinence-only programs have no positive effects</td>\n",
       "      <td>Abstinence-only programs don't have no positiv...</td>\n",
       "    </tr>\n",
       "  </tbody>\n",
       "</table>\n",
       "<p>198 rows × 11 columns</p>\n",
       "</div>"
      ],
      "text/plain": [
       "      undermine_score  support_score  cp_distance  cop_distance  \\\n",
       "11          -2.391874       1.324603     0.132577      0.094885   \n",
       "13          -1.497100       0.158506     0.161577      0.135295   \n",
       "14          -1.811171       1.462656     0.133712      0.071008   \n",
       "15          -1.314804       1.391240     0.351414      0.157195   \n",
       "19          -0.716636      -0.235580     0.397076      0.394823   \n",
       "...               ...            ...          ...           ...   \n",
       "1162        -2.054411       0.941750     0.063245      0.062937   \n",
       "1163        -1.671941       1.455081     0.203912      0.061625   \n",
       "1169        -2.380676       1.744312     0.110098      0.050115   \n",
       "1175        -1.937599       1.161631     0.200343      0.173427   \n",
       "1176        -2.889020       1.939467     0.069601      0.022877   \n",
       "\n",
       "      predict_label  distance_label  gold  Label  \\\n",
       "11                1               0     0      0   \n",
       "13                1               0     0      0   \n",
       "14                1               0     0      0   \n",
       "15                1               0     0      0   \n",
       "19                1               0     0      0   \n",
       "...             ...             ...   ...    ...   \n",
       "1162              1               0     0      0   \n",
       "1163              1               0     0      0   \n",
       "1169              1               0     0      0   \n",
       "1175              1               0     0      0   \n",
       "1176              1               0     0      0   \n",
       "\n",
       "                                                  claim  \\\n",
       "11    This house believes that the sale of violent v...   \n",
       "13    This house believes that the sale of violent v...   \n",
       "14    This house believes that the sale of violent v...   \n",
       "15    This house believes that the sale of violent v...   \n",
       "19    This house believes that the sale of violent v...   \n",
       "...                                                 ...   \n",
       "1162  This house would only teach abstinence for sex...   \n",
       "1163  This house would only teach abstinence for sex...   \n",
       "1169  This house would only teach abstinence for sex...   \n",
       "1175  This house would only teach abstinence for sex...   \n",
       "1176  This house would only teach abstinence for sex...   \n",
       "\n",
       "                                            perspective  \\\n",
       "11    aggressive children tend to select more violen...   \n",
       "13    adolescents that don't play video games at all...   \n",
       "14    video game play is part of an adolescent boy's...   \n",
       "15    Biological theories of aggression and violence...   \n",
       "19    Media influences are too weak and distant to h...   \n",
       "...                                                 ...   \n",
       "1162  such programs fail to provide adequate informa...   \n",
       "1163  Evidence has not supported the effective use o...   \n",
       "1169       abstinence only sex education is ineffective   \n",
       "1175  Evidence does not support the use of abstinenc...   \n",
       "1176  Abstinence-only programs have no positive effects   \n",
       "\n",
       "                                   opposite_perspective  \n",
       "11    aggressive children tend to select more violen...  \n",
       "13    adolescents that do play video games at all ar...  \n",
       "14    video game play is not part of an adolescent b...  \n",
       "15    Biological theories of aggression and violence...  \n",
       "19    Media influences are not too weak and distant ...  \n",
       "...                                                 ...  \n",
       "1162  such programs fail not to provide adequate inf...  \n",
       "1163  Evidence has supported the effective use of ab...  \n",
       "1169   abstinence only sex education is not ineffective  \n",
       "1175  Evidence does support the use of abstinence on...  \n",
       "1176  Abstinence-only programs don't have no positiv...  \n",
       "\n",
       "[198 rows x 11 columns]"
      ]
     },
     "execution_count": 1824,
     "metadata": {},
     "output_type": "execute_result"
    }
   ],
   "source": [
    "dcorrect_lwrong_out"
   ]
  },
  {
   "cell_type": "code",
   "execution_count": 1825,
   "metadata": {},
   "outputs": [
    {
     "data": {
      "text/plain": [
       "0.0457879585"
      ]
     },
     "execution_count": 1825,
     "metadata": {},
     "output_type": "execute_result"
    }
   ],
   "source": [
    "abs(dcorrect_lwrong_out.cp_distance-dcorrect_lwrong_out.cop_distance).median()"
   ]
  },
  {
   "cell_type": "code",
   "execution_count": 1826,
   "metadata": {},
   "outputs": [
    {
     "data": {
      "text/plain": [
       "0.15959890310505054"
      ]
     },
     "execution_count": 1826,
     "metadata": {},
     "output_type": "execute_result"
    }
   ],
   "source": [
    "abs(dcorrect_lwrong_out.cp_distance-dcorrect_lwrong_out.cop_distance).mean()"
   ]
  },
  {
   "cell_type": "code",
   "execution_count": 1827,
   "metadata": {},
   "outputs": [
    {
     "data": {
      "text/plain": [
       "1.55464557"
      ]
     },
     "execution_count": 1827,
     "metadata": {},
     "output_type": "execute_result"
    }
   ],
   "source": [
    "abs(dcorrect_lwrong_out.cp_distance-dcorrect_lwrong_out.cop_distance).max()"
   ]
  },
  {
   "cell_type": "code",
   "execution_count": 1828,
   "metadata": {},
   "outputs": [
    {
     "data": {
      "text/plain": [
       "6.719999999993398e-05"
      ]
     },
     "execution_count": 1828,
     "metadata": {},
     "output_type": "execute_result"
    }
   ],
   "source": [
    "abs(dcorrect_lwrong_out.cp_distance-dcorrect_lwrong_out.cop_distance).min()"
   ]
  },
  {
   "cell_type": "code",
   "execution_count": null,
   "metadata": {},
   "outputs": [],
   "source": []
  },
  {
   "cell_type": "code",
   "execution_count": 1829,
   "metadata": {},
   "outputs": [
    {
     "data": {
      "text/plain": [
       "3.73788465"
      ]
     },
     "execution_count": 1829,
     "metadata": {},
     "output_type": "execute_result"
    }
   ],
   "source": [
    "abs(dcorrect_lwrong_out.undermine_score-dcorrect_lwrong_out.support_score).median()"
   ]
  },
  {
   "cell_type": "code",
   "execution_count": 1830,
   "metadata": {},
   "outputs": [
    {
     "data": {
      "text/plain": [
       "4.4668193959899"
      ]
     },
     "execution_count": 1830,
     "metadata": {},
     "output_type": "execute_result"
    }
   ],
   "source": [
    "abs(dcorrect_lwrong_out.undermine_score-dcorrect_lwrong_out.support_score).mean()"
   ]
  },
  {
   "cell_type": "code",
   "execution_count": 1831,
   "metadata": {},
   "outputs": [
    {
     "data": {
      "text/plain": [
       "10.9698745"
      ]
     },
     "execution_count": 1831,
     "metadata": {},
     "output_type": "execute_result"
    }
   ],
   "source": [
    "abs(dcorrect_lwrong_out.undermine_score-dcorrect_lwrong_out.support_score).max()"
   ]
  },
  {
   "cell_type": "code",
   "execution_count": 1832,
   "metadata": {},
   "outputs": [
    {
     "data": {
      "text/plain": [
       "0.03325861000000002"
      ]
     },
     "execution_count": 1832,
     "metadata": {},
     "output_type": "execute_result"
    }
   ],
   "source": [
    "abs(dcorrect_lwrong_out.undermine_score-dcorrect_lwrong_out.support_score).min()"
   ]
  },
  {
   "cell_type": "code",
   "execution_count": null,
   "metadata": {},
   "outputs": [],
   "source": []
  },
  {
   "cell_type": "code",
   "execution_count": 1833,
   "metadata": {},
   "outputs": [],
   "source": [
    "#dwrong_lcorrect_out cases"
   ]
  },
  {
   "cell_type": "code",
   "execution_count": 1834,
   "metadata": {},
   "outputs": [
    {
     "data": {
      "text/html": [
       "<div>\n",
       "<style scoped>\n",
       "    .dataframe tbody tr th:only-of-type {\n",
       "        vertical-align: middle;\n",
       "    }\n",
       "\n",
       "    .dataframe tbody tr th {\n",
       "        vertical-align: top;\n",
       "    }\n",
       "\n",
       "    .dataframe thead th {\n",
       "        text-align: right;\n",
       "    }\n",
       "</style>\n",
       "<table border=\"1\" class=\"dataframe\">\n",
       "  <thead>\n",
       "    <tr style=\"text-align: right;\">\n",
       "      <th></th>\n",
       "      <th>undermine_score</th>\n",
       "      <th>support_score</th>\n",
       "      <th>cp_distance</th>\n",
       "      <th>cop_distance</th>\n",
       "      <th>predict_label</th>\n",
       "      <th>distance_label</th>\n",
       "      <th>gold</th>\n",
       "      <th>Label</th>\n",
       "      <th>claim</th>\n",
       "      <th>perspective</th>\n",
       "      <th>opposite_perspective</th>\n",
       "    </tr>\n",
       "  </thead>\n",
       "  <tbody>\n",
       "    <tr>\n",
       "      <th>20</th>\n",
       "      <td>-1.240912</td>\n",
       "      <td>0.646532</td>\n",
       "      <td>0.312920</td>\n",
       "      <td>0.259030</td>\n",
       "      <td>1</td>\n",
       "      <td>0</td>\n",
       "      <td>1</td>\n",
       "      <td>1</td>\n",
       "      <td>This house believes that the sale of violent v...</td>\n",
       "      <td>violent video games promote violent behavior, ...</td>\n",
       "      <td>violent video games promote violent behavior, ...</td>\n",
       "    </tr>\n",
       "    <tr>\n",
       "      <th>30</th>\n",
       "      <td>-2.230269</td>\n",
       "      <td>1.889673</td>\n",
       "      <td>0.067117</td>\n",
       "      <td>0.057234</td>\n",
       "      <td>1</td>\n",
       "      <td>0</td>\n",
       "      <td>1</td>\n",
       "      <td>1</td>\n",
       "      <td>This house believes that the sale of violent v...</td>\n",
       "      <td>Violent video games are influencing children's...</td>\n",
       "      <td>Violent video games are not influencing childr...</td>\n",
       "    </tr>\n",
       "    <tr>\n",
       "      <th>31</th>\n",
       "      <td>-2.340915</td>\n",
       "      <td>1.478833</td>\n",
       "      <td>0.121262</td>\n",
       "      <td>0.047995</td>\n",
       "      <td>1</td>\n",
       "      <td>0</td>\n",
       "      <td>1</td>\n",
       "      <td>1</td>\n",
       "      <td>This house believes that the sale of violent v...</td>\n",
       "      <td>Various games are accused of causing addiction...</td>\n",
       "      <td>Various games are not accused of causing addic...</td>\n",
       "    </tr>\n",
       "    <tr>\n",
       "      <th>32</th>\n",
       "      <td>-0.629489</td>\n",
       "      <td>-0.063758</td>\n",
       "      <td>0.449224</td>\n",
       "      <td>0.419599</td>\n",
       "      <td>1</td>\n",
       "      <td>0</td>\n",
       "      <td>1</td>\n",
       "      <td>1</td>\n",
       "      <td>This house believes that the sale of violent v...</td>\n",
       "      <td>exposure to graphic violence leads to desensit...</td>\n",
       "      <td>exposure not to graphic violence leads to dese...</td>\n",
       "    </tr>\n",
       "    <tr>\n",
       "      <th>33</th>\n",
       "      <td>-2.224514</td>\n",
       "      <td>1.431395</td>\n",
       "      <td>0.155916</td>\n",
       "      <td>0.152552</td>\n",
       "      <td>1</td>\n",
       "      <td>0</td>\n",
       "      <td>1</td>\n",
       "      <td>1</td>\n",
       "      <td>This house believes that the sale of violent v...</td>\n",
       "      <td>violence in games hardens children to unethica...</td>\n",
       "      <td>violence in games hardens children not to unet...</td>\n",
       "    </tr>\n",
       "    <tr>\n",
       "      <th>...</th>\n",
       "      <td>...</td>\n",
       "      <td>...</td>\n",
       "      <td>...</td>\n",
       "      <td>...</td>\n",
       "      <td>...</td>\n",
       "      <td>...</td>\n",
       "      <td>...</td>\n",
       "      <td>...</td>\n",
       "      <td>...</td>\n",
       "      <td>...</td>\n",
       "      <td>...</td>\n",
       "    </tr>\n",
       "    <tr>\n",
       "      <th>1151</th>\n",
       "      <td>-1.645177</td>\n",
       "      <td>0.698778</td>\n",
       "      <td>0.216456</td>\n",
       "      <td>0.213432</td>\n",
       "      <td>1</td>\n",
       "      <td>0</td>\n",
       "      <td>1</td>\n",
       "      <td>1</td>\n",
       "      <td>This house would only teach abstinence for sex...</td>\n",
       "      <td>sexual activity outside of the context of marr...</td>\n",
       "      <td>sexual activity outside of the context of marr...</td>\n",
       "    </tr>\n",
       "    <tr>\n",
       "      <th>1161</th>\n",
       "      <td>-2.068355</td>\n",
       "      <td>1.676713</td>\n",
       "      <td>0.162004</td>\n",
       "      <td>0.035684</td>\n",
       "      <td>1</td>\n",
       "      <td>0</td>\n",
       "      <td>1</td>\n",
       "      <td>1</td>\n",
       "      <td>This house would only teach abstinence for sex...</td>\n",
       "      <td>sex before marriage and at a young age has hea...</td>\n",
       "      <td>sex before marriage and at a young age doesn't...</td>\n",
       "    </tr>\n",
       "    <tr>\n",
       "      <th>1170</th>\n",
       "      <td>-1.616833</td>\n",
       "      <td>0.580317</td>\n",
       "      <td>0.337614</td>\n",
       "      <td>0.080770</td>\n",
       "      <td>1</td>\n",
       "      <td>0</td>\n",
       "      <td>1</td>\n",
       "      <td>1</td>\n",
       "      <td>This house would only teach abstinence for sex...</td>\n",
       "      <td>Abstinence until marriage is the most effectiv...</td>\n",
       "      <td>Abstinence until marriage is not the most effe...</td>\n",
       "    </tr>\n",
       "    <tr>\n",
       "      <th>1182</th>\n",
       "      <td>0.260522</td>\n",
       "      <td>0.160030</td>\n",
       "      <td>0.485534</td>\n",
       "      <td>1.267662</td>\n",
       "      <td>0</td>\n",
       "      <td>1</td>\n",
       "      <td>0</td>\n",
       "      <td>0</td>\n",
       "      <td>This house would only teach abstinence for sex...</td>\n",
       "      <td>abstinence-only programs did not reduce the li...</td>\n",
       "      <td>abstinence-only programs did reduce the likeli...</td>\n",
       "    </tr>\n",
       "    <tr>\n",
       "      <th>1191</th>\n",
       "      <td>1.840301</td>\n",
       "      <td>-0.745482</td>\n",
       "      <td>0.908305</td>\n",
       "      <td>1.131616</td>\n",
       "      <td>0</td>\n",
       "      <td>1</td>\n",
       "      <td>0</td>\n",
       "      <td>0</td>\n",
       "      <td>This house would only teach abstinence for sex...</td>\n",
       "      <td>Sex-abstinence programs do not stop risky sexu...</td>\n",
       "      <td>Sex-abstinence programs do stop risky sexual b...</td>\n",
       "    </tr>\n",
       "  </tbody>\n",
       "</table>\n",
       "<p>195 rows × 11 columns</p>\n",
       "</div>"
      ],
      "text/plain": [
       "      undermine_score  support_score  cp_distance  cop_distance  \\\n",
       "20          -1.240912       0.646532     0.312920      0.259030   \n",
       "30          -2.230269       1.889673     0.067117      0.057234   \n",
       "31          -2.340915       1.478833     0.121262      0.047995   \n",
       "32          -0.629489      -0.063758     0.449224      0.419599   \n",
       "33          -2.224514       1.431395     0.155916      0.152552   \n",
       "...               ...            ...          ...           ...   \n",
       "1151        -1.645177       0.698778     0.216456      0.213432   \n",
       "1161        -2.068355       1.676713     0.162004      0.035684   \n",
       "1170        -1.616833       0.580317     0.337614      0.080770   \n",
       "1182         0.260522       0.160030     0.485534      1.267662   \n",
       "1191         1.840301      -0.745482     0.908305      1.131616   \n",
       "\n",
       "      predict_label  distance_label  gold  Label  \\\n",
       "20                1               0     1      1   \n",
       "30                1               0     1      1   \n",
       "31                1               0     1      1   \n",
       "32                1               0     1      1   \n",
       "33                1               0     1      1   \n",
       "...             ...             ...   ...    ...   \n",
       "1151              1               0     1      1   \n",
       "1161              1               0     1      1   \n",
       "1170              1               0     1      1   \n",
       "1182              0               1     0      0   \n",
       "1191              0               1     0      0   \n",
       "\n",
       "                                                  claim  \\\n",
       "20    This house believes that the sale of violent v...   \n",
       "30    This house believes that the sale of violent v...   \n",
       "31    This house believes that the sale of violent v...   \n",
       "32    This house believes that the sale of violent v...   \n",
       "33    This house believes that the sale of violent v...   \n",
       "...                                                 ...   \n",
       "1151  This house would only teach abstinence for sex...   \n",
       "1161  This house would only teach abstinence for sex...   \n",
       "1170  This house would only teach abstinence for sex...   \n",
       "1182  This house would only teach abstinence for sex...   \n",
       "1191  This house would only teach abstinence for sex...   \n",
       "\n",
       "                                            perspective  \\\n",
       "20    violent video games promote violent behavior, ...   \n",
       "30    Violent video games are influencing children's...   \n",
       "31    Various games are accused of causing addiction...   \n",
       "32    exposure to graphic violence leads to desensit...   \n",
       "33    violence in games hardens children to unethica...   \n",
       "...                                                 ...   \n",
       "1151  sexual activity outside of the context of marr...   \n",
       "1161  sex before marriage and at a young age has hea...   \n",
       "1170  Abstinence until marriage is the most effectiv...   \n",
       "1182  abstinence-only programs did not reduce the li...   \n",
       "1191  Sex-abstinence programs do not stop risky sexu...   \n",
       "\n",
       "                                   opposite_perspective  \n",
       "20    violent video games promote violent behavior, ...  \n",
       "30    Violent video games are not influencing childr...  \n",
       "31    Various games are not accused of causing addic...  \n",
       "32    exposure not to graphic violence leads to dese...  \n",
       "33    violence in games hardens children not to unet...  \n",
       "...                                                 ...  \n",
       "1151  sexual activity outside of the context of marr...  \n",
       "1161  sex before marriage and at a young age doesn't...  \n",
       "1170  Abstinence until marriage is not the most effe...  \n",
       "1182  abstinence-only programs did reduce the likeli...  \n",
       "1191  Sex-abstinence programs do stop risky sexual b...  \n",
       "\n",
       "[195 rows x 11 columns]"
      ]
     },
     "execution_count": 1834,
     "metadata": {},
     "output_type": "execute_result"
    }
   ],
   "source": [
    "dwrong_lcorrect_out"
   ]
  },
  {
   "cell_type": "code",
   "execution_count": 1835,
   "metadata": {},
   "outputs": [
    {
     "data": {
      "text/plain": [
       "0.053889929999999975"
      ]
     },
     "execution_count": 1835,
     "metadata": {},
     "output_type": "execute_result"
    }
   ],
   "source": [
    "abs(dwrong_lcorrect_out.cp_distance-dwrong_lcorrect_out.cop_distance).median()"
   ]
  },
  {
   "cell_type": "code",
   "execution_count": 1836,
   "metadata": {},
   "outputs": [
    {
     "data": {
      "text/plain": [
       "0.1347398732076923"
      ]
     },
     "execution_count": 1836,
     "metadata": {},
     "output_type": "execute_result"
    }
   ],
   "source": [
    "abs(dwrong_lcorrect_out.cp_distance-dwrong_lcorrect_out.cop_distance).mean()"
   ]
  },
  {
   "cell_type": "code",
   "execution_count": 1837,
   "metadata": {},
   "outputs": [
    {
     "data": {
      "text/plain": [
       "0.9588899999999998"
      ]
     },
     "execution_count": 1837,
     "metadata": {},
     "output_type": "execute_result"
    }
   ],
   "source": [
    "abs(dwrong_lcorrect_out.cp_distance-dwrong_lcorrect_out.cop_distance).max()"
   ]
  },
  {
   "cell_type": "code",
   "execution_count": 1838,
   "metadata": {},
   "outputs": [
    {
     "data": {
      "text/plain": [
       "3.0398299999999726e-05"
      ]
     },
     "execution_count": 1838,
     "metadata": {},
     "output_type": "execute_result"
    }
   ],
   "source": [
    "abs(dwrong_lcorrect_out.cp_distance-dwrong_lcorrect_out.cop_distance).min()"
   ]
  },
  {
   "cell_type": "code",
   "execution_count": null,
   "metadata": {},
   "outputs": [],
   "source": []
  },
  {
   "cell_type": "code",
   "execution_count": 1839,
   "metadata": {},
   "outputs": [
    {
     "data": {
      "text/plain": [
       "4.2079559"
      ]
     },
     "execution_count": 1839,
     "metadata": {},
     "output_type": "execute_result"
    }
   ],
   "source": [
    "abs(dwrong_lcorrect_out.undermine_score-dwrong_lcorrect_out.support_score).median()"
   ]
  },
  {
   "cell_type": "code",
   "execution_count": 1840,
   "metadata": {},
   "outputs": [
    {
     "data": {
      "text/plain": [
       "4.372356816982564"
      ]
     },
     "execution_count": 1840,
     "metadata": {},
     "output_type": "execute_result"
    }
   ],
   "source": [
    "abs(dwrong_lcorrect_out.undermine_score-dwrong_lcorrect_out.support_score).mean()"
   ]
  },
  {
   "cell_type": "code",
   "execution_count": 1841,
   "metadata": {},
   "outputs": [
    {
     "data": {
      "text/plain": [
       "11.3152787"
      ]
     },
     "execution_count": 1841,
     "metadata": {},
     "output_type": "execute_result"
    }
   ],
   "source": [
    "abs(dwrong_lcorrect_out.undermine_score-dwrong_lcorrect_out.support_score).max()"
   ]
  },
  {
   "cell_type": "code",
   "execution_count": 1842,
   "metadata": {},
   "outputs": [
    {
     "data": {
      "text/plain": [
       "0.10049165999999998"
      ]
     },
     "execution_count": 1842,
     "metadata": {},
     "output_type": "execute_result"
    }
   ],
   "source": [
    "abs(dwrong_lcorrect_out.undermine_score-dwrong_lcorrect_out.support_score).min()"
   ]
  },
  {
   "cell_type": "code",
   "execution_count": null,
   "metadata": {},
   "outputs": [],
   "source": []
  },
  {
   "cell_type": "code",
   "execution_count": null,
   "metadata": {},
   "outputs": [],
   "source": []
  },
  {
   "cell_type": "code",
   "execution_count": 1843,
   "metadata": {},
   "outputs": [
    {
     "data": {
      "text/html": [
       "<div>\n",
       "<style scoped>\n",
       "    .dataframe tbody tr th:only-of-type {\n",
       "        vertical-align: middle;\n",
       "    }\n",
       "\n",
       "    .dataframe tbody tr th {\n",
       "        vertical-align: top;\n",
       "    }\n",
       "\n",
       "    .dataframe thead th {\n",
       "        text-align: right;\n",
       "    }\n",
       "</style>\n",
       "<table border=\"1\" class=\"dataframe\">\n",
       "  <thead>\n",
       "    <tr style=\"text-align: right;\">\n",
       "      <th></th>\n",
       "      <th>undermine_score</th>\n",
       "      <th>support_score</th>\n",
       "      <th>cp_distance</th>\n",
       "      <th>cop_distance</th>\n",
       "      <th>predict_label</th>\n",
       "      <th>distance_label</th>\n",
       "      <th>gold</th>\n",
       "    </tr>\n",
       "  </thead>\n",
       "  <tbody>\n",
       "    <tr>\n",
       "      <th>76</th>\n",
       "      <td>-3.137733</td>\n",
       "      <td>3.884809</td>\n",
       "      <td>0.005693</td>\n",
       "      <td>0.010189</td>\n",
       "      <td>1</td>\n",
       "      <td>1</td>\n",
       "      <td>1</td>\n",
       "    </tr>\n",
       "    <tr>\n",
       "      <th>82</th>\n",
       "      <td>4.136258</td>\n",
       "      <td>-3.094060</td>\n",
       "      <td>1.719488</td>\n",
       "      <td>1.722952</td>\n",
       "      <td>0</td>\n",
       "      <td>1</td>\n",
       "      <td>0</td>\n",
       "    </tr>\n",
       "    <tr>\n",
       "      <th>89</th>\n",
       "      <td>-3.123372</td>\n",
       "      <td>4.028647</td>\n",
       "      <td>0.005264</td>\n",
       "      <td>0.006965</td>\n",
       "      <td>1</td>\n",
       "      <td>1</td>\n",
       "      <td>1</td>\n",
       "    </tr>\n",
       "    <tr>\n",
       "      <th>102</th>\n",
       "      <td>4.637919</td>\n",
       "      <td>-3.288716</td>\n",
       "      <td>1.848223</td>\n",
       "      <td>1.843045</td>\n",
       "      <td>0</td>\n",
       "      <td>0</td>\n",
       "      <td>1</td>\n",
       "    </tr>\n",
       "    <tr>\n",
       "      <th>105</th>\n",
       "      <td>5.460428</td>\n",
       "      <td>-4.118097</td>\n",
       "      <td>1.902293</td>\n",
       "      <td>1.890466</td>\n",
       "      <td>0</td>\n",
       "      <td>0</td>\n",
       "      <td>1</td>\n",
       "    </tr>\n",
       "    <tr>\n",
       "      <th>...</th>\n",
       "      <td>...</td>\n",
       "      <td>...</td>\n",
       "      <td>...</td>\n",
       "      <td>...</td>\n",
       "      <td>...</td>\n",
       "      <td>...</td>\n",
       "      <td>...</td>\n",
       "    </tr>\n",
       "    <tr>\n",
       "      <th>1096</th>\n",
       "      <td>5.044427</td>\n",
       "      <td>-3.794681</td>\n",
       "      <td>1.896180</td>\n",
       "      <td>1.897765</td>\n",
       "      <td>0</td>\n",
       "      <td>1</td>\n",
       "      <td>0</td>\n",
       "    </tr>\n",
       "    <tr>\n",
       "      <th>1101</th>\n",
       "      <td>4.946962</td>\n",
       "      <td>-3.401182</td>\n",
       "      <td>1.893060</td>\n",
       "      <td>1.885017</td>\n",
       "      <td>0</td>\n",
       "      <td>0</td>\n",
       "      <td>1</td>\n",
       "    </tr>\n",
       "    <tr>\n",
       "      <th>1107</th>\n",
       "      <td>5.055106</td>\n",
       "      <td>-3.534023</td>\n",
       "      <td>1.887468</td>\n",
       "      <td>1.890139</td>\n",
       "      <td>0</td>\n",
       "      <td>1</td>\n",
       "      <td>1</td>\n",
       "    </tr>\n",
       "    <tr>\n",
       "      <th>1112</th>\n",
       "      <td>5.380563</td>\n",
       "      <td>-3.915588</td>\n",
       "      <td>1.897127</td>\n",
       "      <td>1.903005</td>\n",
       "      <td>0</td>\n",
       "      <td>1</td>\n",
       "      <td>1</td>\n",
       "    </tr>\n",
       "    <tr>\n",
       "      <th>1118</th>\n",
       "      <td>4.277908</td>\n",
       "      <td>-3.161093</td>\n",
       "      <td>1.814995</td>\n",
       "      <td>1.823137</td>\n",
       "      <td>0</td>\n",
       "      <td>1</td>\n",
       "      <td>1</td>\n",
       "    </tr>\n",
       "  </tbody>\n",
       "</table>\n",
       "<p>193 rows × 7 columns</p>\n",
       "</div>"
      ],
      "text/plain": [
       "      undermine_score  support_score  cp_distance  cop_distance  \\\n",
       "76          -3.137733       3.884809     0.005693      0.010189   \n",
       "82           4.136258      -3.094060     1.719488      1.722952   \n",
       "89          -3.123372       4.028647     0.005264      0.006965   \n",
       "102          4.637919      -3.288716     1.848223      1.843045   \n",
       "105          5.460428      -4.118097     1.902293      1.890466   \n",
       "...               ...            ...          ...           ...   \n",
       "1096         5.044427      -3.794681     1.896180      1.897765   \n",
       "1101         4.946962      -3.401182     1.893060      1.885017   \n",
       "1107         5.055106      -3.534023     1.887468      1.890139   \n",
       "1112         5.380563      -3.915588     1.897127      1.903005   \n",
       "1118         4.277908      -3.161093     1.814995      1.823137   \n",
       "\n",
       "      predict_label  distance_label  gold  \n",
       "76                1               1     1  \n",
       "82                0               1     0  \n",
       "89                1               1     1  \n",
       "102               0               0     1  \n",
       "105               0               0     1  \n",
       "...             ...             ...   ...  \n",
       "1096              0               1     0  \n",
       "1101              0               0     1  \n",
       "1107              0               1     1  \n",
       "1112              0               1     1  \n",
       "1118              0               1     1  \n",
       "\n",
       "[193 rows x 7 columns]"
      ]
     },
     "execution_count": 1843,
     "metadata": {},
     "output_type": "execute_result"
    }
   ],
   "source": [
    "df_inconsistency[(abs(df_inconsistency.undermine_score-df_inconsistency.support_score)>7)&(abs(df_inconsistency.cp_distance-df_inconsistency.cop_distance)<0.1)]"
   ]
  },
  {
   "cell_type": "code",
   "execution_count": 1844,
   "metadata": {},
   "outputs": [
    {
     "data": {
      "text/html": [
       "<div>\n",
       "<style scoped>\n",
       "    .dataframe tbody tr th:only-of-type {\n",
       "        vertical-align: middle;\n",
       "    }\n",
       "\n",
       "    .dataframe tbody tr th {\n",
       "        vertical-align: top;\n",
       "    }\n",
       "\n",
       "    .dataframe thead th {\n",
       "        text-align: right;\n",
       "    }\n",
       "</style>\n",
       "<table border=\"1\" class=\"dataframe\">\n",
       "  <thead>\n",
       "    <tr style=\"text-align: right;\">\n",
       "      <th></th>\n",
       "      <th>undermine_score</th>\n",
       "      <th>support_score</th>\n",
       "      <th>cp_distance</th>\n",
       "      <th>cop_distance</th>\n",
       "      <th>predict_label</th>\n",
       "      <th>distance_label</th>\n",
       "      <th>gold</th>\n",
       "    </tr>\n",
       "  </thead>\n",
       "  <tbody>\n",
       "    <tr>\n",
       "      <th>76</th>\n",
       "      <td>-3.137733</td>\n",
       "      <td>3.884809</td>\n",
       "      <td>0.005693</td>\n",
       "      <td>0.010189</td>\n",
       "      <td>1</td>\n",
       "      <td>1</td>\n",
       "      <td>1</td>\n",
       "    </tr>\n",
       "    <tr>\n",
       "      <th>82</th>\n",
       "      <td>4.136258</td>\n",
       "      <td>-3.094060</td>\n",
       "      <td>1.719488</td>\n",
       "      <td>1.722952</td>\n",
       "      <td>0</td>\n",
       "      <td>1</td>\n",
       "      <td>0</td>\n",
       "    </tr>\n",
       "    <tr>\n",
       "      <th>89</th>\n",
       "      <td>-3.123372</td>\n",
       "      <td>4.028647</td>\n",
       "      <td>0.005264</td>\n",
       "      <td>0.006965</td>\n",
       "      <td>1</td>\n",
       "      <td>1</td>\n",
       "      <td>1</td>\n",
       "    </tr>\n",
       "    <tr>\n",
       "      <th>107</th>\n",
       "      <td>5.554788</td>\n",
       "      <td>-4.321465</td>\n",
       "      <td>1.915526</td>\n",
       "      <td>1.889767</td>\n",
       "      <td>0</td>\n",
       "      <td>0</td>\n",
       "      <td>0</td>\n",
       "    </tr>\n",
       "    <tr>\n",
       "      <th>128</th>\n",
       "      <td>-3.284622</td>\n",
       "      <td>4.140368</td>\n",
       "      <td>0.004835</td>\n",
       "      <td>0.032708</td>\n",
       "      <td>1</td>\n",
       "      <td>1</td>\n",
       "      <td>1</td>\n",
       "    </tr>\n",
       "    <tr>\n",
       "      <th>...</th>\n",
       "      <td>...</td>\n",
       "      <td>...</td>\n",
       "      <td>...</td>\n",
       "      <td>...</td>\n",
       "      <td>...</td>\n",
       "      <td>...</td>\n",
       "      <td>...</td>\n",
       "    </tr>\n",
       "    <tr>\n",
       "      <th>1031</th>\n",
       "      <td>5.128163</td>\n",
       "      <td>-3.721456</td>\n",
       "      <td>1.904139</td>\n",
       "      <td>1.897161</td>\n",
       "      <td>0</td>\n",
       "      <td>0</td>\n",
       "      <td>0</td>\n",
       "    </tr>\n",
       "    <tr>\n",
       "      <th>1040</th>\n",
       "      <td>5.352722</td>\n",
       "      <td>-4.410383</td>\n",
       "      <td>1.936975</td>\n",
       "      <td>1.900640</td>\n",
       "      <td>0</td>\n",
       "      <td>0</td>\n",
       "      <td>0</td>\n",
       "    </tr>\n",
       "    <tr>\n",
       "      <th>1041</th>\n",
       "      <td>4.828938</td>\n",
       "      <td>-3.994080</td>\n",
       "      <td>1.836668</td>\n",
       "      <td>1.898275</td>\n",
       "      <td>0</td>\n",
       "      <td>1</td>\n",
       "      <td>0</td>\n",
       "    </tr>\n",
       "    <tr>\n",
       "      <th>1069</th>\n",
       "      <td>4.818420</td>\n",
       "      <td>-3.505099</td>\n",
       "      <td>1.888362</td>\n",
       "      <td>1.899807</td>\n",
       "      <td>0</td>\n",
       "      <td>1</td>\n",
       "      <td>0</td>\n",
       "    </tr>\n",
       "    <tr>\n",
       "      <th>1096</th>\n",
       "      <td>5.044427</td>\n",
       "      <td>-3.794681</td>\n",
       "      <td>1.896180</td>\n",
       "      <td>1.897765</td>\n",
       "      <td>0</td>\n",
       "      <td>1</td>\n",
       "      <td>0</td>\n",
       "    </tr>\n",
       "  </tbody>\n",
       "</table>\n",
       "<p>95 rows × 7 columns</p>\n",
       "</div>"
      ],
      "text/plain": [
       "      undermine_score  support_score  cp_distance  cop_distance  \\\n",
       "76          -3.137733       3.884809     0.005693      0.010189   \n",
       "82           4.136258      -3.094060     1.719488      1.722952   \n",
       "89          -3.123372       4.028647     0.005264      0.006965   \n",
       "107          5.554788      -4.321465     1.915526      1.889767   \n",
       "128         -3.284622       4.140368     0.004835      0.032708   \n",
       "...               ...            ...          ...           ...   \n",
       "1031         5.128163      -3.721456     1.904139      1.897161   \n",
       "1040         5.352722      -4.410383     1.936975      1.900640   \n",
       "1041         4.828938      -3.994080     1.836668      1.898275   \n",
       "1069         4.818420      -3.505099     1.888362      1.899807   \n",
       "1096         5.044427      -3.794681     1.896180      1.897765   \n",
       "\n",
       "      predict_label  distance_label  gold  \n",
       "76                1               1     1  \n",
       "82                0               1     0  \n",
       "89                1               1     1  \n",
       "107               0               0     0  \n",
       "128               1               1     1  \n",
       "...             ...             ...   ...  \n",
       "1031              0               0     0  \n",
       "1040              0               0     0  \n",
       "1041              0               1     0  \n",
       "1069              0               1     0  \n",
       "1096              0               1     0  \n",
       "\n",
       "[95 rows x 7 columns]"
      ]
     },
     "execution_count": 1844,
     "metadata": {},
     "output_type": "execute_result"
    }
   ],
   "source": [
    "df_inconsistency[(abs(df_inconsistency.undermine_score-df_inconsistency.support_score)>7)&(abs(df_inconsistency.cp_distance-df_inconsistency.cop_distance)<0.1)&(df_inconsistency.predict_label==df_inconsistency.gold)]"
   ]
  },
  {
   "cell_type": "code",
   "execution_count": null,
   "metadata": {},
   "outputs": [],
   "source": []
  },
  {
   "cell_type": "code",
   "execution_count": 1845,
   "metadata": {},
   "outputs": [
    {
     "data": {
      "text/plain": [
       "undermine_score    208\n",
       "support_score      208\n",
       "cp_distance        208\n",
       "cop_distance       208\n",
       "predict_label      208\n",
       "distance_label     208\n",
       "gold               208\n",
       "dtype: int64"
      ]
     },
     "execution_count": 1845,
     "metadata": {},
     "output_type": "execute_result"
    }
   ],
   "source": [
    "df_inconsistency[(abs(df_inconsistency.undermine_score-df_inconsistency.support_score)<3)&(abs(df_inconsistency.cp_distance-df_inconsistency.cop_distance)>0.15)].count()"
   ]
  },
  {
   "cell_type": "code",
   "execution_count": 1846,
   "metadata": {},
   "outputs": [
    {
     "data": {
      "text/plain": [
       "undermine_score    122\n",
       "support_score      122\n",
       "cp_distance        122\n",
       "cop_distance       122\n",
       "predict_label      122\n",
       "distance_label     122\n",
       "gold               122\n",
       "dtype: int64"
      ]
     },
     "execution_count": 1846,
     "metadata": {},
     "output_type": "execute_result"
    }
   ],
   "source": [
    "df_inconsistency[(abs(df_inconsistency.undermine_score-df_inconsistency.support_score)<3)&(abs(df_inconsistency.cp_distance-df_inconsistency.cop_distance)>0.15)&(df_inconsistency.distance_label==df_inconsistency.gold)].count()"
   ]
  },
  {
   "cell_type": "code",
   "execution_count": null,
   "metadata": {},
   "outputs": [],
   "source": []
  },
  {
   "cell_type": "code",
   "execution_count": 1847,
   "metadata": {},
   "outputs": [],
   "source": [
    "#consistent failed cases"
   ]
  },
  {
   "cell_type": "code",
   "execution_count": 1848,
   "metadata": {},
   "outputs": [
    {
     "data": {
      "text/html": [
       "<div>\n",
       "<style scoped>\n",
       "    .dataframe tbody tr th:only-of-type {\n",
       "        vertical-align: middle;\n",
       "    }\n",
       "\n",
       "    .dataframe tbody tr th {\n",
       "        vertical-align: top;\n",
       "    }\n",
       "\n",
       "    .dataframe thead th {\n",
       "        text-align: right;\n",
       "    }\n",
       "</style>\n",
       "<table border=\"1\" class=\"dataframe\">\n",
       "  <thead>\n",
       "    <tr style=\"text-align: right;\">\n",
       "      <th></th>\n",
       "      <th>undermine_score</th>\n",
       "      <th>support_score</th>\n",
       "      <th>cp_distance</th>\n",
       "      <th>cop_distance</th>\n",
       "      <th>predict_label</th>\n",
       "      <th>distance_label</th>\n",
       "      <th>gold</th>\n",
       "    </tr>\n",
       "  </thead>\n",
       "  <tbody>\n",
       "    <tr>\n",
       "      <th>1</th>\n",
       "      <td>-1.061421</td>\n",
       "      <td>-0.081111</td>\n",
       "      <td>0.335813</td>\n",
       "      <td>0.367947</td>\n",
       "      <td>1</td>\n",
       "      <td>1</td>\n",
       "      <td>0</td>\n",
       "    </tr>\n",
       "    <tr>\n",
       "      <th>2</th>\n",
       "      <td>-1.001755</td>\n",
       "      <td>0.076825</td>\n",
       "      <td>0.358336</td>\n",
       "      <td>0.369880</td>\n",
       "      <td>1</td>\n",
       "      <td>1</td>\n",
       "      <td>0</td>\n",
       "    </tr>\n",
       "    <tr>\n",
       "      <th>5</th>\n",
       "      <td>-1.697014</td>\n",
       "      <td>0.367097</td>\n",
       "      <td>0.193464</td>\n",
       "      <td>0.195384</td>\n",
       "      <td>1</td>\n",
       "      <td>1</td>\n",
       "      <td>0</td>\n",
       "    </tr>\n",
       "    <tr>\n",
       "      <th>10</th>\n",
       "      <td>-1.453838</td>\n",
       "      <td>1.217009</td>\n",
       "      <td>0.117594</td>\n",
       "      <td>0.241018</td>\n",
       "      <td>1</td>\n",
       "      <td>1</td>\n",
       "      <td>0</td>\n",
       "    </tr>\n",
       "    <tr>\n",
       "      <th>12</th>\n",
       "      <td>-0.964269</td>\n",
       "      <td>-0.013323</td>\n",
       "      <td>0.334950</td>\n",
       "      <td>0.359334</td>\n",
       "      <td>1</td>\n",
       "      <td>1</td>\n",
       "      <td>0</td>\n",
       "    </tr>\n",
       "    <tr>\n",
       "      <th>...</th>\n",
       "      <td>...</td>\n",
       "      <td>...</td>\n",
       "      <td>...</td>\n",
       "      <td>...</td>\n",
       "      <td>...</td>\n",
       "      <td>...</td>\n",
       "      <td>...</td>\n",
       "    </tr>\n",
       "    <tr>\n",
       "      <th>1168</th>\n",
       "      <td>-2.285861</td>\n",
       "      <td>1.320289</td>\n",
       "      <td>0.083921</td>\n",
       "      <td>0.087906</td>\n",
       "      <td>1</td>\n",
       "      <td>1</td>\n",
       "      <td>0</td>\n",
       "    </tr>\n",
       "    <tr>\n",
       "      <th>1172</th>\n",
       "      <td>-2.120795</td>\n",
       "      <td>1.010658</td>\n",
       "      <td>0.044881</td>\n",
       "      <td>0.077476</td>\n",
       "      <td>1</td>\n",
       "      <td>1</td>\n",
       "      <td>0</td>\n",
       "    </tr>\n",
       "    <tr>\n",
       "      <th>1178</th>\n",
       "      <td>-2.420695</td>\n",
       "      <td>1.688711</td>\n",
       "      <td>0.046808</td>\n",
       "      <td>0.090984</td>\n",
       "      <td>1</td>\n",
       "      <td>1</td>\n",
       "      <td>0</td>\n",
       "    </tr>\n",
       "    <tr>\n",
       "      <th>1187</th>\n",
       "      <td>-1.498376</td>\n",
       "      <td>1.778084</td>\n",
       "      <td>0.124150</td>\n",
       "      <td>0.469930</td>\n",
       "      <td>1</td>\n",
       "      <td>1</td>\n",
       "      <td>0</td>\n",
       "    </tr>\n",
       "    <tr>\n",
       "      <th>1189</th>\n",
       "      <td>-2.127807</td>\n",
       "      <td>1.159010</td>\n",
       "      <td>0.170799</td>\n",
       "      <td>0.187953</td>\n",
       "      <td>1</td>\n",
       "      <td>1</td>\n",
       "      <td>0</td>\n",
       "    </tr>\n",
       "  </tbody>\n",
       "</table>\n",
       "<p>341 rows × 7 columns</p>\n",
       "</div>"
      ],
      "text/plain": [
       "      undermine_score  support_score  cp_distance  cop_distance  \\\n",
       "1           -1.061421      -0.081111     0.335813      0.367947   \n",
       "2           -1.001755       0.076825     0.358336      0.369880   \n",
       "5           -1.697014       0.367097     0.193464      0.195384   \n",
       "10          -1.453838       1.217009     0.117594      0.241018   \n",
       "12          -0.964269      -0.013323     0.334950      0.359334   \n",
       "...               ...            ...          ...           ...   \n",
       "1168        -2.285861       1.320289     0.083921      0.087906   \n",
       "1172        -2.120795       1.010658     0.044881      0.077476   \n",
       "1178        -2.420695       1.688711     0.046808      0.090984   \n",
       "1187        -1.498376       1.778084     0.124150      0.469930   \n",
       "1189        -2.127807       1.159010     0.170799      0.187953   \n",
       "\n",
       "      predict_label  distance_label  gold  \n",
       "1                 1               1     0  \n",
       "2                 1               1     0  \n",
       "5                 1               1     0  \n",
       "10                1               1     0  \n",
       "12                1               1     0  \n",
       "...             ...             ...   ...  \n",
       "1168              1               1     0  \n",
       "1172              1               1     0  \n",
       "1178              1               1     0  \n",
       "1187              1               1     0  \n",
       "1189              1               1     0  \n",
       "\n",
       "[341 rows x 7 columns]"
      ]
     },
     "execution_count": 1848,
     "metadata": {},
     "output_type": "execute_result"
    }
   ],
   "source": [
    "df_consistency[df_consistency.predict_label!=df_consistency.gold]"
   ]
  },
  {
   "cell_type": "code",
   "execution_count": 1849,
   "metadata": {},
   "outputs": [],
   "source": [
    "df_consistency_failed = df_consistency[df_consistency.predict_label!=df_consistency.gold]"
   ]
  },
  {
   "cell_type": "code",
   "execution_count": 1850,
   "metadata": {},
   "outputs": [],
   "source": [
    "cons_out_failed = df_consistency_failed.join(df_origin).drop(\"x\",axis=1).drop(\"y\",axis=1)"
   ]
  },
  {
   "cell_type": "code",
   "execution_count": 1851,
   "metadata": {},
   "outputs": [
    {
     "data": {
      "text/html": [
       "<div>\n",
       "<style scoped>\n",
       "    .dataframe tbody tr th:only-of-type {\n",
       "        vertical-align: middle;\n",
       "    }\n",
       "\n",
       "    .dataframe tbody tr th {\n",
       "        vertical-align: top;\n",
       "    }\n",
       "\n",
       "    .dataframe thead th {\n",
       "        text-align: right;\n",
       "    }\n",
       "</style>\n",
       "<table border=\"1\" class=\"dataframe\">\n",
       "  <thead>\n",
       "    <tr style=\"text-align: right;\">\n",
       "      <th></th>\n",
       "      <th>undermine_score</th>\n",
       "      <th>support_score</th>\n",
       "      <th>cp_distance</th>\n",
       "      <th>cop_distance</th>\n",
       "      <th>predict_label</th>\n",
       "      <th>distance_label</th>\n",
       "      <th>gold</th>\n",
       "      <th>Label</th>\n",
       "      <th>claim</th>\n",
       "      <th>perspective</th>\n",
       "      <th>opposite_perspective</th>\n",
       "    </tr>\n",
       "  </thead>\n",
       "  <tbody>\n",
       "    <tr>\n",
       "      <th>1</th>\n",
       "      <td>-1.061421</td>\n",
       "      <td>-0.081111</td>\n",
       "      <td>0.335813</td>\n",
       "      <td>0.367947</td>\n",
       "      <td>1</td>\n",
       "      <td>1</td>\n",
       "      <td>0</td>\n",
       "      <td>0</td>\n",
       "      <td>This house believes that the sale of violent v...</td>\n",
       "      <td>video game violence is not related to serious ...</td>\n",
       "      <td>video game violence is related to serious aggr...</td>\n",
       "    </tr>\n",
       "    <tr>\n",
       "      <th>2</th>\n",
       "      <td>-1.001755</td>\n",
       "      <td>0.076825</td>\n",
       "      <td>0.358336</td>\n",
       "      <td>0.369880</td>\n",
       "      <td>1</td>\n",
       "      <td>1</td>\n",
       "      <td>0</td>\n",
       "      <td>0</td>\n",
       "      <td>This house believes that the sale of violent v...</td>\n",
       "      <td>some violent video games may actually have a p...</td>\n",
       "      <td>some violent video games may not actually have...</td>\n",
       "    </tr>\n",
       "    <tr>\n",
       "      <th>5</th>\n",
       "      <td>-1.697014</td>\n",
       "      <td>0.367097</td>\n",
       "      <td>0.193464</td>\n",
       "      <td>0.195384</td>\n",
       "      <td>1</td>\n",
       "      <td>1</td>\n",
       "      <td>0</td>\n",
       "      <td>0</td>\n",
       "      <td>This house believes that the sale of violent v...</td>\n",
       "      <td>No conclusive link was found between video gam...</td>\n",
       "      <td>No conclusive link was not found between video...</td>\n",
       "    </tr>\n",
       "    <tr>\n",
       "      <th>10</th>\n",
       "      <td>-1.453838</td>\n",
       "      <td>1.217009</td>\n",
       "      <td>0.117594</td>\n",
       "      <td>0.241018</td>\n",
       "      <td>1</td>\n",
       "      <td>1</td>\n",
       "      <td>0</td>\n",
       "      <td>0</td>\n",
       "      <td>This house believes that the sale of violent v...</td>\n",
       "      <td>No long-term relationship was found between pl...</td>\n",
       "      <td>No long-term relationship was not found betwee...</td>\n",
       "    </tr>\n",
       "    <tr>\n",
       "      <th>12</th>\n",
       "      <td>-0.964269</td>\n",
       "      <td>-0.013323</td>\n",
       "      <td>0.334950</td>\n",
       "      <td>0.359334</td>\n",
       "      <td>1</td>\n",
       "      <td>1</td>\n",
       "      <td>0</td>\n",
       "      <td>0</td>\n",
       "      <td>This house believes that the sale of violent v...</td>\n",
       "      <td>No evidence has found that violent games are p...</td>\n",
       "      <td>No evidence doesn't have found that violent ga...</td>\n",
       "    </tr>\n",
       "    <tr>\n",
       "      <th>...</th>\n",
       "      <td>...</td>\n",
       "      <td>...</td>\n",
       "      <td>...</td>\n",
       "      <td>...</td>\n",
       "      <td>...</td>\n",
       "      <td>...</td>\n",
       "      <td>...</td>\n",
       "      <td>...</td>\n",
       "      <td>...</td>\n",
       "      <td>...</td>\n",
       "      <td>...</td>\n",
       "    </tr>\n",
       "    <tr>\n",
       "      <th>1168</th>\n",
       "      <td>-2.285861</td>\n",
       "      <td>1.320289</td>\n",
       "      <td>0.083921</td>\n",
       "      <td>0.087906</td>\n",
       "      <td>1</td>\n",
       "      <td>1</td>\n",
       "      <td>0</td>\n",
       "      <td>0</td>\n",
       "      <td>This house would only teach abstinence for sex...</td>\n",
       "      <td>all abstinence programs are ineffective</td>\n",
       "      <td>all abstinence programs are not ineffective</td>\n",
       "    </tr>\n",
       "    <tr>\n",
       "      <th>1172</th>\n",
       "      <td>-2.120795</td>\n",
       "      <td>1.010658</td>\n",
       "      <td>0.044881</td>\n",
       "      <td>0.077476</td>\n",
       "      <td>1</td>\n",
       "      <td>1</td>\n",
       "      <td>0</td>\n",
       "      <td>0</td>\n",
       "      <td>This house would only teach abstinence for sex...</td>\n",
       "      <td>The lack of education on safe sex, whether it’...</td>\n",
       "      <td>The glut of education on safe sex, whether it’...</td>\n",
       "    </tr>\n",
       "    <tr>\n",
       "      <th>1178</th>\n",
       "      <td>-2.420695</td>\n",
       "      <td>1.688711</td>\n",
       "      <td>0.046808</td>\n",
       "      <td>0.090984</td>\n",
       "      <td>1</td>\n",
       "      <td>1</td>\n",
       "      <td>0</td>\n",
       "      <td>0</td>\n",
       "      <td>This house would only teach abstinence for sex...</td>\n",
       "      <td>Countries with conservative attitudes towards ...</td>\n",
       "      <td>Countries with conservative attitudes towards ...</td>\n",
       "    </tr>\n",
       "    <tr>\n",
       "      <th>1187</th>\n",
       "      <td>-1.498376</td>\n",
       "      <td>1.778084</td>\n",
       "      <td>0.124150</td>\n",
       "      <td>0.469930</td>\n",
       "      <td>1</td>\n",
       "      <td>1</td>\n",
       "      <td>0</td>\n",
       "      <td>0</td>\n",
       "      <td>This house would only teach abstinence for sex...</td>\n",
       "      <td>Abstinence-only sex education programs show an...</td>\n",
       "      <td>Abstinence-only sex education programs show an...</td>\n",
       "    </tr>\n",
       "    <tr>\n",
       "      <th>1189</th>\n",
       "      <td>-2.127807</td>\n",
       "      <td>1.159010</td>\n",
       "      <td>0.170799</td>\n",
       "      <td>0.187953</td>\n",
       "      <td>1</td>\n",
       "      <td>1</td>\n",
       "      <td>0</td>\n",
       "      <td>0</td>\n",
       "      <td>This house would only teach abstinence for sex...</td>\n",
       "      <td>excessive repression of the sexual instinct le...</td>\n",
       "      <td>excessive repression of the sexual instinct le...</td>\n",
       "    </tr>\n",
       "  </tbody>\n",
       "</table>\n",
       "<p>341 rows × 11 columns</p>\n",
       "</div>"
      ],
      "text/plain": [
       "      undermine_score  support_score  cp_distance  cop_distance  \\\n",
       "1           -1.061421      -0.081111     0.335813      0.367947   \n",
       "2           -1.001755       0.076825     0.358336      0.369880   \n",
       "5           -1.697014       0.367097     0.193464      0.195384   \n",
       "10          -1.453838       1.217009     0.117594      0.241018   \n",
       "12          -0.964269      -0.013323     0.334950      0.359334   \n",
       "...               ...            ...          ...           ...   \n",
       "1168        -2.285861       1.320289     0.083921      0.087906   \n",
       "1172        -2.120795       1.010658     0.044881      0.077476   \n",
       "1178        -2.420695       1.688711     0.046808      0.090984   \n",
       "1187        -1.498376       1.778084     0.124150      0.469930   \n",
       "1189        -2.127807       1.159010     0.170799      0.187953   \n",
       "\n",
       "      predict_label  distance_label  gold  Label  \\\n",
       "1                 1               1     0      0   \n",
       "2                 1               1     0      0   \n",
       "5                 1               1     0      0   \n",
       "10                1               1     0      0   \n",
       "12                1               1     0      0   \n",
       "...             ...             ...   ...    ...   \n",
       "1168              1               1     0      0   \n",
       "1172              1               1     0      0   \n",
       "1178              1               1     0      0   \n",
       "1187              1               1     0      0   \n",
       "1189              1               1     0      0   \n",
       "\n",
       "                                                  claim  \\\n",
       "1     This house believes that the sale of violent v...   \n",
       "2     This house believes that the sale of violent v...   \n",
       "5     This house believes that the sale of violent v...   \n",
       "10    This house believes that the sale of violent v...   \n",
       "12    This house believes that the sale of violent v...   \n",
       "...                                                 ...   \n",
       "1168  This house would only teach abstinence for sex...   \n",
       "1172  This house would only teach abstinence for sex...   \n",
       "1178  This house would only teach abstinence for sex...   \n",
       "1187  This house would only teach abstinence for sex...   \n",
       "1189  This house would only teach abstinence for sex...   \n",
       "\n",
       "                                            perspective  \\\n",
       "1     video game violence is not related to serious ...   \n",
       "2     some violent video games may actually have a p...   \n",
       "5     No conclusive link was found between video gam...   \n",
       "10    No long-term relationship was found between pl...   \n",
       "12    No evidence has found that violent games are p...   \n",
       "...                                                 ...   \n",
       "1168            all abstinence programs are ineffective   \n",
       "1172  The lack of education on safe sex, whether it’...   \n",
       "1178  Countries with conservative attitudes towards ...   \n",
       "1187  Abstinence-only sex education programs show an...   \n",
       "1189  excessive repression of the sexual instinct le...   \n",
       "\n",
       "                                   opposite_perspective  \n",
       "1     video game violence is related to serious aggr...  \n",
       "2     some violent video games may not actually have...  \n",
       "5     No conclusive link was not found between video...  \n",
       "10    No long-term relationship was not found betwee...  \n",
       "12    No evidence doesn't have found that violent ga...  \n",
       "...                                                 ...  \n",
       "1168        all abstinence programs are not ineffective  \n",
       "1172  The glut of education on safe sex, whether it’...  \n",
       "1178  Countries with conservative attitudes towards ...  \n",
       "1187  Abstinence-only sex education programs show an...  \n",
       "1189  excessive repression of the sexual instinct le...  \n",
       "\n",
       "[341 rows x 11 columns]"
      ]
     },
     "execution_count": 1851,
     "metadata": {},
     "output_type": "execute_result"
    }
   ],
   "source": [
    "cons_out_failed"
   ]
  },
  {
   "cell_type": "code",
   "execution_count": 1852,
   "metadata": {},
   "outputs": [],
   "source": [
    "# cons_out_failed.to_csv(\"consistency_failed_data.csv\")"
   ]
  },
  {
   "cell_type": "code",
   "execution_count": 1853,
   "metadata": {},
   "outputs": [],
   "source": [
    "# cons_out_failed.to_excel(\"consistency_failed_data.xlsx\")"
   ]
  },
  {
   "cell_type": "code",
   "execution_count": 1854,
   "metadata": {},
   "outputs": [
    {
     "data": {
      "text/plain": [
       "0.1635958300000001"
      ]
     },
     "execution_count": 1854,
     "metadata": {},
     "output_type": "execute_result"
    }
   ],
   "source": [
    "abs(cons_out_failed.cp_distance-cons_out_failed.cop_distance).median()"
   ]
  },
  {
   "cell_type": "code",
   "execution_count": 1855,
   "metadata": {},
   "outputs": [
    {
     "data": {
      "text/plain": [
       "0.48755923778739013"
      ]
     },
     "execution_count": 1855,
     "metadata": {},
     "output_type": "execute_result"
    }
   ],
   "source": [
    "abs(cons_out_failed.cp_distance-cons_out_failed.cop_distance).mean()"
   ]
  },
  {
   "cell_type": "code",
   "execution_count": 1856,
   "metadata": {},
   "outputs": [
    {
     "data": {
      "text/plain": [
       "1.915768115"
      ]
     },
     "execution_count": 1856,
     "metadata": {},
     "output_type": "execute_result"
    }
   ],
   "source": [
    "abs(cons_out_failed.cp_distance-cons_out_failed.cop_distance).max()"
   ]
  },
  {
   "cell_type": "code",
   "execution_count": 1857,
   "metadata": {},
   "outputs": [
    {
     "data": {
      "text/plain": [
       "0.00018674139999999995"
      ]
     },
     "execution_count": 1857,
     "metadata": {},
     "output_type": "execute_result"
    }
   ],
   "source": [
    "abs(cons_out_failed.cp_distance-cons_out_failed.cop_distance).min()"
   ]
  },
  {
   "cell_type": "code",
   "execution_count": null,
   "metadata": {},
   "outputs": [],
   "source": []
  },
  {
   "cell_type": "code",
   "execution_count": 1858,
   "metadata": {},
   "outputs": [
    {
     "data": {
      "text/plain": [
       "5.0302927"
      ]
     },
     "execution_count": 1858,
     "metadata": {},
     "output_type": "execute_result"
    }
   ],
   "source": [
    "abs(cons_out_failed.undermine_score-cons_out_failed.support_score).median()"
   ]
  },
  {
   "cell_type": "code",
   "execution_count": 1859,
   "metadata": {},
   "outputs": [
    {
     "data": {
      "text/plain": [
       "5.001044261892082"
      ]
     },
     "execution_count": 1859,
     "metadata": {},
     "output_type": "execute_result"
    }
   ],
   "source": [
    "abs(cons_out_failed.undermine_score-cons_out_failed.support_score).mean()"
   ]
  },
  {
   "cell_type": "code",
   "execution_count": 1860,
   "metadata": {},
   "outputs": [
    {
     "data": {
      "text/plain": [
       "12.123686"
      ]
     },
     "execution_count": 1860,
     "metadata": {},
     "output_type": "execute_result"
    }
   ],
   "source": [
    "abs(cons_out_failed.undermine_score-cons_out_failed.support_score).max()"
   ]
  },
  {
   "cell_type": "code",
   "execution_count": 1861,
   "metadata": {},
   "outputs": [
    {
     "data": {
      "text/plain": [
       "0.06262265"
      ]
     },
     "execution_count": 1861,
     "metadata": {},
     "output_type": "execute_result"
    }
   ],
   "source": [
    "abs(cons_out_failed.undermine_score-cons_out_failed.support_score).min()"
   ]
  },
  {
   "cell_type": "code",
   "execution_count": null,
   "metadata": {},
   "outputs": [],
   "source": []
  },
  {
   "cell_type": "code",
   "execution_count": null,
   "metadata": {},
   "outputs": [],
   "source": []
  },
  {
   "cell_type": "code",
   "execution_count": 1862,
   "metadata": {},
   "outputs": [],
   "source": [
    "df_consistency_correct = df_consistency[df_consistency.predict_label==df_consistency.gold]"
   ]
  },
  {
   "cell_type": "code",
   "execution_count": 1863,
   "metadata": {},
   "outputs": [
    {
     "data": {
      "text/plain": [
       "5.17566695"
      ]
     },
     "execution_count": 1863,
     "metadata": {},
     "output_type": "execute_result"
    }
   ],
   "source": [
    "abs(df_consistency_correct.undermine_score-df_consistency_correct.support_score).median()"
   ]
  },
  {
   "cell_type": "code",
   "execution_count": 1864,
   "metadata": {},
   "outputs": [
    {
     "data": {
      "text/plain": [
       "5.017106690313754"
      ]
     },
     "execution_count": 1864,
     "metadata": {},
     "output_type": "execute_result"
    }
   ],
   "source": [
    "abs(df_consistency_correct.undermine_score-df_consistency_correct.support_score).mean()"
   ]
  },
  {
   "cell_type": "code",
   "execution_count": 1865,
   "metadata": {},
   "outputs": [
    {
     "data": {
      "text/plain": [
       "10.579643"
      ]
     },
     "execution_count": 1865,
     "metadata": {},
     "output_type": "execute_result"
    }
   ],
   "source": [
    "abs(df_consistency_correct.undermine_score-df_consistency_correct.support_score).max()"
   ]
  },
  {
   "cell_type": "code",
   "execution_count": 1866,
   "metadata": {},
   "outputs": [
    {
     "data": {
      "text/plain": [
       "0.03475661999999999"
      ]
     },
     "execution_count": 1866,
     "metadata": {},
     "output_type": "execute_result"
    }
   ],
   "source": [
    "abs(df_consistency_correct.undermine_score-df_consistency_correct.support_score).min()"
   ]
  },
  {
   "cell_type": "code",
   "execution_count": null,
   "metadata": {},
   "outputs": [],
   "source": []
  },
  {
   "cell_type": "code",
   "execution_count": 1867,
   "metadata": {},
   "outputs": [
    {
     "data": {
      "text/plain": [
       "0.26024150000000024"
      ]
     },
     "execution_count": 1867,
     "metadata": {},
     "output_type": "execute_result"
    }
   ],
   "source": [
    "abs(df_consistency_correct.cp_distance-df_consistency_correct.cop_distance).median()"
   ]
  },
  {
   "cell_type": "code",
   "execution_count": 1868,
   "metadata": {},
   "outputs": [
    {
     "data": {
      "text/plain": [
       "0.5911068080158297"
      ]
     },
     "execution_count": 1868,
     "metadata": {},
     "output_type": "execute_result"
    }
   ],
   "source": [
    "abs(df_consistency_correct.cp_distance-df_consistency_correct.cop_distance).mean()"
   ]
  },
  {
   "cell_type": "code",
   "execution_count": 1869,
   "metadata": {},
   "outputs": [
    {
     "data": {
      "text/plain": [
       "1.8966323200000001"
      ]
     },
     "execution_count": 1869,
     "metadata": {},
     "output_type": "execute_result"
    }
   ],
   "source": [
    "abs(df_consistency_correct.cp_distance-df_consistency_correct.cop_distance).max()"
   ]
  },
  {
   "cell_type": "code",
   "execution_count": 1870,
   "metadata": {},
   "outputs": [
    {
     "data": {
      "text/plain": [
       "9.536999999999567e-07"
      ]
     },
     "execution_count": 1870,
     "metadata": {},
     "output_type": "execute_result"
    }
   ],
   "source": [
    "abs(df_consistency_correct.cp_distance-df_consistency_correct.cop_distance).min()"
   ]
  },
  {
   "cell_type": "code",
   "execution_count": null,
   "metadata": {},
   "outputs": [],
   "source": []
  },
  {
   "cell_type": "code",
   "execution_count": 1871,
   "metadata": {},
   "outputs": [],
   "source": [
    "#consistent cases"
   ]
  },
  {
   "cell_type": "code",
   "execution_count": 1872,
   "metadata": {},
   "outputs": [
    {
     "data": {
      "text/html": [
       "<div>\n",
       "<style scoped>\n",
       "    .dataframe tbody tr th:only-of-type {\n",
       "        vertical-align: middle;\n",
       "    }\n",
       "\n",
       "    .dataframe tbody tr th {\n",
       "        vertical-align: top;\n",
       "    }\n",
       "\n",
       "    .dataframe thead th {\n",
       "        text-align: right;\n",
       "    }\n",
       "</style>\n",
       "<table border=\"1\" class=\"dataframe\">\n",
       "  <thead>\n",
       "    <tr style=\"text-align: right;\">\n",
       "      <th></th>\n",
       "      <th>undermine_score</th>\n",
       "      <th>support_score</th>\n",
       "      <th>cp_distance</th>\n",
       "      <th>cop_distance</th>\n",
       "      <th>predict_label</th>\n",
       "      <th>distance_label</th>\n",
       "      <th>gold</th>\n",
       "    </tr>\n",
       "  </thead>\n",
       "  <tbody>\n",
       "    <tr>\n",
       "      <th>0</th>\n",
       "      <td>-1.034109</td>\n",
       "      <td>-0.024011</td>\n",
       "      <td>0.342531</td>\n",
       "      <td>0.393281</td>\n",
       "      <td>1</td>\n",
       "      <td>1</td>\n",
       "      <td>1</td>\n",
       "    </tr>\n",
       "    <tr>\n",
       "      <th>1</th>\n",
       "      <td>-1.061421</td>\n",
       "      <td>-0.081111</td>\n",
       "      <td>0.335813</td>\n",
       "      <td>0.367947</td>\n",
       "      <td>1</td>\n",
       "      <td>1</td>\n",
       "      <td>0</td>\n",
       "    </tr>\n",
       "    <tr>\n",
       "      <th>2</th>\n",
       "      <td>-1.001755</td>\n",
       "      <td>0.076825</td>\n",
       "      <td>0.358336</td>\n",
       "      <td>0.369880</td>\n",
       "      <td>1</td>\n",
       "      <td>1</td>\n",
       "      <td>0</td>\n",
       "    </tr>\n",
       "    <tr>\n",
       "      <th>3</th>\n",
       "      <td>-1.156794</td>\n",
       "      <td>0.392040</td>\n",
       "      <td>0.325576</td>\n",
       "      <td>0.348283</td>\n",
       "      <td>1</td>\n",
       "      <td>1</td>\n",
       "      <td>1</td>\n",
       "    </tr>\n",
       "    <tr>\n",
       "      <th>4</th>\n",
       "      <td>-1.579876</td>\n",
       "      <td>0.949217</td>\n",
       "      <td>0.220279</td>\n",
       "      <td>0.254198</td>\n",
       "      <td>1</td>\n",
       "      <td>1</td>\n",
       "      <td>1</td>\n",
       "    </tr>\n",
       "    <tr>\n",
       "      <th>...</th>\n",
       "      <td>...</td>\n",
       "      <td>...</td>\n",
       "      <td>...</td>\n",
       "      <td>...</td>\n",
       "      <td>...</td>\n",
       "      <td>...</td>\n",
       "      <td>...</td>\n",
       "    </tr>\n",
       "    <tr>\n",
       "      <th>1186</th>\n",
       "      <td>-3.092961</td>\n",
       "      <td>2.499786</td>\n",
       "      <td>0.023136</td>\n",
       "      <td>0.034285</td>\n",
       "      <td>1</td>\n",
       "      <td>1</td>\n",
       "      <td>1</td>\n",
       "    </tr>\n",
       "    <tr>\n",
       "      <th>1187</th>\n",
       "      <td>-1.498376</td>\n",
       "      <td>1.778084</td>\n",
       "      <td>0.124150</td>\n",
       "      <td>0.469930</td>\n",
       "      <td>1</td>\n",
       "      <td>1</td>\n",
       "      <td>0</td>\n",
       "    </tr>\n",
       "    <tr>\n",
       "      <th>1188</th>\n",
       "      <td>-2.269197</td>\n",
       "      <td>1.305615</td>\n",
       "      <td>0.174636</td>\n",
       "      <td>0.182392</td>\n",
       "      <td>1</td>\n",
       "      <td>1</td>\n",
       "      <td>1</td>\n",
       "    </tr>\n",
       "    <tr>\n",
       "      <th>1189</th>\n",
       "      <td>-2.127807</td>\n",
       "      <td>1.159010</td>\n",
       "      <td>0.170799</td>\n",
       "      <td>0.187953</td>\n",
       "      <td>1</td>\n",
       "      <td>1</td>\n",
       "      <td>0</td>\n",
       "    </tr>\n",
       "    <tr>\n",
       "      <th>1190</th>\n",
       "      <td>0.573493</td>\n",
       "      <td>0.133073</td>\n",
       "      <td>0.949365</td>\n",
       "      <td>0.844510</td>\n",
       "      <td>0</td>\n",
       "      <td>0</td>\n",
       "      <td>0</td>\n",
       "    </tr>\n",
       "  </tbody>\n",
       "</table>\n",
       "<p>799 rows × 7 columns</p>\n",
       "</div>"
      ],
      "text/plain": [
       "      undermine_score  support_score  cp_distance  cop_distance  \\\n",
       "0           -1.034109      -0.024011     0.342531      0.393281   \n",
       "1           -1.061421      -0.081111     0.335813      0.367947   \n",
       "2           -1.001755       0.076825     0.358336      0.369880   \n",
       "3           -1.156794       0.392040     0.325576      0.348283   \n",
       "4           -1.579876       0.949217     0.220279      0.254198   \n",
       "...               ...            ...          ...           ...   \n",
       "1186        -3.092961       2.499786     0.023136      0.034285   \n",
       "1187        -1.498376       1.778084     0.124150      0.469930   \n",
       "1188        -2.269197       1.305615     0.174636      0.182392   \n",
       "1189        -2.127807       1.159010     0.170799      0.187953   \n",
       "1190         0.573493       0.133073     0.949365      0.844510   \n",
       "\n",
       "      predict_label  distance_label  gold  \n",
       "0                 1               1     1  \n",
       "1                 1               1     0  \n",
       "2                 1               1     0  \n",
       "3                 1               1     1  \n",
       "4                 1               1     1  \n",
       "...             ...             ...   ...  \n",
       "1186              1               1     1  \n",
       "1187              1               1     0  \n",
       "1188              1               1     1  \n",
       "1189              1               1     0  \n",
       "1190              0               0     0  \n",
       "\n",
       "[799 rows x 7 columns]"
      ]
     },
     "execution_count": 1872,
     "metadata": {},
     "output_type": "execute_result"
    }
   ],
   "source": [
    "df_consistency"
   ]
  },
  {
   "cell_type": "code",
   "execution_count": 1873,
   "metadata": {},
   "outputs": [],
   "source": [
    "# df_consistency.to_csv(\"consistency_data.csv\",index=False)"
   ]
  },
  {
   "cell_type": "code",
   "execution_count": 1874,
   "metadata": {},
   "outputs": [],
   "source": [
    "# df_consistency.to_excel(\"consistency_data.xlsx\",index=False)"
   ]
  },
  {
   "cell_type": "code",
   "execution_count": null,
   "metadata": {},
   "outputs": [],
   "source": []
  },
  {
   "cell_type": "code",
   "execution_count": 1875,
   "metadata": {},
   "outputs": [],
   "source": [
    "#consistent cases analysis"
   ]
  },
  {
   "cell_type": "code",
   "execution_count": 1876,
   "metadata": {},
   "outputs": [
    {
     "data": {
      "text/plain": [
       "5.1082828"
      ]
     },
     "execution_count": 1876,
     "metadata": {},
     "output_type": "execute_result"
    }
   ],
   "source": [
    "consistent_logits_median = abs(df_consistency.undermine_score-df_consistency.support_score).median()\n",
    "consistent_logits_median"
   ]
  },
  {
   "cell_type": "code",
   "execution_count": 1877,
   "metadata": {},
   "outputs": [
    {
     "data": {
      "text/plain": [
       "5.010251511225156"
      ]
     },
     "execution_count": 1877,
     "metadata": {},
     "output_type": "execute_result"
    }
   ],
   "source": [
    "consistent_logits_mean = abs(df_consistency.undermine_score-df_consistency.support_score).mean()\n",
    "consistent_logits_mean"
   ]
  },
  {
   "cell_type": "code",
   "execution_count": 1878,
   "metadata": {},
   "outputs": [
    {
     "data": {
      "text/plain": [
       "12.123686"
      ]
     },
     "execution_count": 1878,
     "metadata": {},
     "output_type": "execute_result"
    }
   ],
   "source": [
    "consistent_logits_max =abs(df_consistency.undermine_score-df_consistency.support_score).max()\n",
    "consistent_logits_max"
   ]
  },
  {
   "cell_type": "code",
   "execution_count": 1879,
   "metadata": {},
   "outputs": [
    {
     "data": {
      "text/plain": [
       "0.03475661999999999"
      ]
     },
     "execution_count": 1879,
     "metadata": {},
     "output_type": "execute_result"
    }
   ],
   "source": [
    "consistent_logits_min = abs(df_consistency.undermine_score-df_consistency.support_score).min()\n",
    "consistent_logits_min"
   ]
  },
  {
   "cell_type": "code",
   "execution_count": null,
   "metadata": {},
   "outputs": [],
   "source": []
  },
  {
   "cell_type": "code",
   "execution_count": 1880,
   "metadata": {},
   "outputs": [
    {
     "data": {
      "text/plain": [
       "0.21412093000000001"
      ]
     },
     "execution_count": 1880,
     "metadata": {},
     "output_type": "execute_result"
    }
   ],
   "source": [
    "consistent_distance_median = abs(df_consistency.cp_distance-df_consistency.cop_distance).median()\n",
    "consistent_distance_median"
   ]
  },
  {
   "cell_type": "code",
   "execution_count": 1881,
   "metadata": {},
   "outputs": [
    {
     "data": {
      "text/plain": [
       "0.546914415715582"
      ]
     },
     "execution_count": 1881,
     "metadata": {},
     "output_type": "execute_result"
    }
   ],
   "source": [
    "consistent_distance_mean = abs(df_consistency.cp_distance-df_consistency.cop_distance).mean()\n",
    "consistent_distance_mean "
   ]
  },
  {
   "cell_type": "code",
   "execution_count": 1882,
   "metadata": {},
   "outputs": [
    {
     "data": {
      "text/plain": [
       "1.915768115"
      ]
     },
     "execution_count": 1882,
     "metadata": {},
     "output_type": "execute_result"
    }
   ],
   "source": [
    "consistent_distance_max = abs(df_consistency.cp_distance-df_consistency.cop_distance).max()\n",
    "consistent_distance_max"
   ]
  },
  {
   "cell_type": "code",
   "execution_count": 1883,
   "metadata": {},
   "outputs": [
    {
     "data": {
      "text/plain": [
       "9.536999999999567e-07"
      ]
     },
     "execution_count": 1883,
     "metadata": {},
     "output_type": "execute_result"
    }
   ],
   "source": [
    "consistent_distance_min = abs(df_consistency.cp_distance-df_consistency.cop_distance).min()\n",
    "consistent_distance_min"
   ]
  },
  {
   "cell_type": "code",
   "execution_count": null,
   "metadata": {},
   "outputs": [],
   "source": []
  },
  {
   "cell_type": "code",
   "execution_count": 1884,
   "metadata": {},
   "outputs": [],
   "source": [
    "#inconsistent cases analysis"
   ]
  },
  {
   "cell_type": "code",
   "execution_count": 1885,
   "metadata": {},
   "outputs": [
    {
     "data": {
      "text/plain": [
       "4.716969000000001"
      ]
     },
     "execution_count": 1885,
     "metadata": {},
     "output_type": "execute_result"
    }
   ],
   "source": [
    "inconsistent_logits_median = abs(df_inconsistency.undermine_score-df_inconsistency.support_score).median()\n",
    "inconsistent_logits_median"
   ]
  },
  {
   "cell_type": "code",
   "execution_count": 1886,
   "metadata": {},
   "outputs": [
    {
     "data": {
      "text/plain": [
       "4.8156298466329694"
      ]
     },
     "execution_count": 1886,
     "metadata": {},
     "output_type": "execute_result"
    }
   ],
   "source": [
    "inconsistent_logits_mean = abs(df_inconsistency.undermine_score-df_inconsistency.support_score).mean()\n",
    "inconsistent_logits_mean"
   ]
  },
  {
   "cell_type": "code",
   "execution_count": 1887,
   "metadata": {},
   "outputs": [
    {
     "data": {
      "text/plain": [
       "12.123686"
      ]
     },
     "execution_count": 1887,
     "metadata": {},
     "output_type": "execute_result"
    }
   ],
   "source": [
    "inconsistent_logits_max = abs(df_inconsistency.undermine_score-df_inconsistency.support_score).max()\n",
    "inconsistent_logits_max"
   ]
  },
  {
   "cell_type": "code",
   "execution_count": 1888,
   "metadata": {},
   "outputs": [
    {
     "data": {
      "text/plain": [
       "0.03325861000000002"
      ]
     },
     "execution_count": 1888,
     "metadata": {},
     "output_type": "execute_result"
    }
   ],
   "source": [
    "inconsistent_logits_min = abs(df_inconsistency.undermine_score-df_inconsistency.support_score).min()\n",
    "inconsistent_logits_min"
   ]
  },
  {
   "cell_type": "code",
   "execution_count": null,
   "metadata": {},
   "outputs": [],
   "source": []
  },
  {
   "cell_type": "code",
   "execution_count": 1889,
   "metadata": {},
   "outputs": [
    {
     "data": {
      "text/plain": [
       "0.11174099999999998"
      ]
     },
     "execution_count": 1889,
     "metadata": {},
     "output_type": "execute_result"
    }
   ],
   "source": [
    "inconsistent_distance_median = abs(df_inconsistency.cp_distance-df_inconsistency.cop_distance).median()\n",
    "inconsistent_distance_median"
   ]
  },
  {
   "cell_type": "code",
   "execution_count": 1890,
   "metadata": {},
   "outputs": [
    {
     "data": {
      "text/plain": [
       "0.4151505673213507"
      ]
     },
     "execution_count": 1890,
     "metadata": {},
     "output_type": "execute_result"
    }
   ],
   "source": [
    "inconsistent_distance_mean = abs(df_inconsistency.cp_distance-df_inconsistency.cop_distance).mean()\n",
    "inconsistent_distance_mean"
   ]
  },
  {
   "cell_type": "code",
   "execution_count": 1891,
   "metadata": {},
   "outputs": [
    {
     "data": {
      "text/plain": [
       "1.915768115"
      ]
     },
     "execution_count": 1891,
     "metadata": {},
     "output_type": "execute_result"
    }
   ],
   "source": [
    "inconsistent_distance_max = abs(df_inconsistency.cp_distance-df_inconsistency.cop_distance).max()\n",
    "inconsistent_distance_max"
   ]
  },
  {
   "cell_type": "code",
   "execution_count": 1892,
   "metadata": {},
   "outputs": [
    {
     "data": {
      "text/plain": [
       "9.536999999999567e-07"
      ]
     },
     "execution_count": 1892,
     "metadata": {},
     "output_type": "execute_result"
    }
   ],
   "source": [
    "inconsistent_distance_min = abs(df_inconsistency.cp_distance-df_inconsistency.cop_distance).min()\n",
    "inconsistent_distance_min"
   ]
  },
  {
   "cell_type": "code",
   "execution_count": null,
   "metadata": {},
   "outputs": [],
   "source": []
  },
  {
   "cell_type": "code",
   "execution_count": 1893,
   "metadata": {},
   "outputs": [],
   "source": [
    "# Use the \"distance to median\" to decide final prediction"
   ]
  },
  {
   "cell_type": "code",
   "execution_count": 1894,
   "metadata": {
    "scrolled": true
   },
   "outputs": [
    {
     "data": {
      "text/html": [
       "<div>\n",
       "<style scoped>\n",
       "    .dataframe tbody tr th:only-of-type {\n",
       "        vertical-align: middle;\n",
       "    }\n",
       "\n",
       "    .dataframe tbody tr th {\n",
       "        vertical-align: top;\n",
       "    }\n",
       "\n",
       "    .dataframe thead th {\n",
       "        text-align: right;\n",
       "    }\n",
       "</style>\n",
       "<table border=\"1\" class=\"dataframe\">\n",
       "  <thead>\n",
       "    <tr style=\"text-align: right;\">\n",
       "      <th></th>\n",
       "      <th>undermine_score</th>\n",
       "      <th>support_score</th>\n",
       "      <th>cp_distance</th>\n",
       "      <th>cop_distance</th>\n",
       "      <th>predict_label</th>\n",
       "      <th>distance_label</th>\n",
       "      <th>gold</th>\n",
       "    </tr>\n",
       "  </thead>\n",
       "  <tbody>\n",
       "    <tr>\n",
       "      <th>0</th>\n",
       "      <td>-1.034109</td>\n",
       "      <td>-0.024011</td>\n",
       "      <td>0.342531</td>\n",
       "      <td>0.393281</td>\n",
       "      <td>1</td>\n",
       "      <td>1</td>\n",
       "      <td>1</td>\n",
       "    </tr>\n",
       "    <tr>\n",
       "      <th>1</th>\n",
       "      <td>-1.061421</td>\n",
       "      <td>-0.081111</td>\n",
       "      <td>0.335813</td>\n",
       "      <td>0.367947</td>\n",
       "      <td>1</td>\n",
       "      <td>1</td>\n",
       "      <td>0</td>\n",
       "    </tr>\n",
       "    <tr>\n",
       "      <th>2</th>\n",
       "      <td>-1.001755</td>\n",
       "      <td>0.076825</td>\n",
       "      <td>0.358336</td>\n",
       "      <td>0.369880</td>\n",
       "      <td>1</td>\n",
       "      <td>1</td>\n",
       "      <td>0</td>\n",
       "    </tr>\n",
       "    <tr>\n",
       "      <th>3</th>\n",
       "      <td>-1.156794</td>\n",
       "      <td>0.392040</td>\n",
       "      <td>0.325576</td>\n",
       "      <td>0.348283</td>\n",
       "      <td>1</td>\n",
       "      <td>1</td>\n",
       "      <td>1</td>\n",
       "    </tr>\n",
       "    <tr>\n",
       "      <th>4</th>\n",
       "      <td>-1.579876</td>\n",
       "      <td>0.949217</td>\n",
       "      <td>0.220279</td>\n",
       "      <td>0.254198</td>\n",
       "      <td>1</td>\n",
       "      <td>1</td>\n",
       "      <td>1</td>\n",
       "    </tr>\n",
       "    <tr>\n",
       "      <th>...</th>\n",
       "      <td>...</td>\n",
       "      <td>...</td>\n",
       "      <td>...</td>\n",
       "      <td>...</td>\n",
       "      <td>...</td>\n",
       "      <td>...</td>\n",
       "      <td>...</td>\n",
       "    </tr>\n",
       "    <tr>\n",
       "      <th>1187</th>\n",
       "      <td>-1.498376</td>\n",
       "      <td>1.778084</td>\n",
       "      <td>0.124150</td>\n",
       "      <td>0.469930</td>\n",
       "      <td>1</td>\n",
       "      <td>1</td>\n",
       "      <td>0</td>\n",
       "    </tr>\n",
       "    <tr>\n",
       "      <th>1188</th>\n",
       "      <td>-2.269197</td>\n",
       "      <td>1.305615</td>\n",
       "      <td>0.174636</td>\n",
       "      <td>0.182392</td>\n",
       "      <td>1</td>\n",
       "      <td>1</td>\n",
       "      <td>1</td>\n",
       "    </tr>\n",
       "    <tr>\n",
       "      <th>1189</th>\n",
       "      <td>-2.127807</td>\n",
       "      <td>1.159010</td>\n",
       "      <td>0.170799</td>\n",
       "      <td>0.187953</td>\n",
       "      <td>1</td>\n",
       "      <td>1</td>\n",
       "      <td>0</td>\n",
       "    </tr>\n",
       "    <tr>\n",
       "      <th>1190</th>\n",
       "      <td>0.573493</td>\n",
       "      <td>0.133073</td>\n",
       "      <td>0.949365</td>\n",
       "      <td>0.844510</td>\n",
       "      <td>0</td>\n",
       "      <td>0</td>\n",
       "      <td>0</td>\n",
       "    </tr>\n",
       "    <tr>\n",
       "      <th>1191</th>\n",
       "      <td>1.840301</td>\n",
       "      <td>-0.745482</td>\n",
       "      <td>0.908305</td>\n",
       "      <td>1.131616</td>\n",
       "      <td>0</td>\n",
       "      <td>1</td>\n",
       "      <td>0</td>\n",
       "    </tr>\n",
       "  </tbody>\n",
       "</table>\n",
       "<p>1192 rows × 7 columns</p>\n",
       "</div>"
      ],
      "text/plain": [
       "      undermine_score  support_score  cp_distance  cop_distance  \\\n",
       "0           -1.034109      -0.024011     0.342531      0.393281   \n",
       "1           -1.061421      -0.081111     0.335813      0.367947   \n",
       "2           -1.001755       0.076825     0.358336      0.369880   \n",
       "3           -1.156794       0.392040     0.325576      0.348283   \n",
       "4           -1.579876       0.949217     0.220279      0.254198   \n",
       "...               ...            ...          ...           ...   \n",
       "1187        -1.498376       1.778084     0.124150      0.469930   \n",
       "1188        -2.269197       1.305615     0.174636      0.182392   \n",
       "1189        -2.127807       1.159010     0.170799      0.187953   \n",
       "1190         0.573493       0.133073     0.949365      0.844510   \n",
       "1191         1.840301      -0.745482     0.908305      1.131616   \n",
       "\n",
       "      predict_label  distance_label  gold  \n",
       "0                 1               1     1  \n",
       "1                 1               1     0  \n",
       "2                 1               1     0  \n",
       "3                 1               1     1  \n",
       "4                 1               1     1  \n",
       "...             ...             ...   ...  \n",
       "1187              1               1     0  \n",
       "1188              1               1     1  \n",
       "1189              1               1     0  \n",
       "1190              0               0     0  \n",
       "1191              0               1     0  \n",
       "\n",
       "[1192 rows x 7 columns]"
      ]
     },
     "execution_count": 1894,
     "metadata": {},
     "output_type": "execute_result"
    }
   ],
   "source": [
    "df_inconsistency"
   ]
  },
  {
   "cell_type": "code",
   "execution_count": null,
   "metadata": {},
   "outputs": [],
   "source": []
  },
  {
   "cell_type": "code",
   "execution_count": 1895,
   "metadata": {},
   "outputs": [],
   "source": [
    "dwrong_lcorrect_logits_median = abs(dwrong_lcorrect_out.undermine_score-dwrong_lcorrect_out.support_score).median()\n",
    "dwrong_lcorrect_logits_mean = abs(dwrong_lcorrect_out.undermine_score-dwrong_lcorrect_out.support_score).mean()"
   ]
  },
  {
   "cell_type": "code",
   "execution_count": 1896,
   "metadata": {},
   "outputs": [],
   "source": [
    "# dcorrect_lwrong_logits_median = abs(dcorrect_lwrong_out.undermine_score-dcorrect_lwrong_out.support_score).median()"
   ]
  },
  {
   "cell_type": "code",
   "execution_count": null,
   "metadata": {},
   "outputs": [],
   "source": []
  },
  {
   "cell_type": "code",
   "execution_count": 1897,
   "metadata": {},
   "outputs": [],
   "source": [
    "# dwrong_lcorrect_distance_median = abs(dwrong_lcorrect_out.cp_distance-dwrong_lcorrect_out.cop_distance).median()"
   ]
  },
  {
   "cell_type": "code",
   "execution_count": 1898,
   "metadata": {},
   "outputs": [],
   "source": [
    "dcorrect_lwrong_distance_median = abs(dcorrect_lwrong_out.cp_distance-dcorrect_lwrong_out.cop_distance).median()\n",
    "dcorrect_lwrong_distance_mean = abs(dcorrect_lwrong_out.cp_distance-dcorrect_lwrong_out.cop_distance).mean()"
   ]
  },
  {
   "cell_type": "code",
   "execution_count": null,
   "metadata": {},
   "outputs": [],
   "source": []
  },
  {
   "cell_type": "code",
   "execution_count": 1899,
   "metadata": {},
   "outputs": [],
   "source": [
    "distance_to_logits_median = abs(df_inconsistency.undermine_score-df_inconsistency.support_score)-inconsistent_logits_median\n",
    "distance_to_logits_mean = abs(df_inconsistency.undermine_score-df_inconsistency.support_score)-inconsistent_logits_mean"
   ]
  },
  {
   "cell_type": "code",
   "execution_count": 1900,
   "metadata": {},
   "outputs": [],
   "source": [
    "df_inconsistency[\"distance_to_logtis\"] = (distance_to_logits_median-distance_to_logits_median.min())/(distance_to_logits_median.max()-distance_to_logits_median.min())"
   ]
  },
  {
   "cell_type": "code",
   "execution_count": 1901,
   "metadata": {},
   "outputs": [],
   "source": [
    "# df_inconsistency[\"distance_to_logtis\"] = (distance_to_logits_mean-distance_to_logits_mean.min())/(distance_to_logits_mean.max()-distance_to_logits_mean.min())"
   ]
  },
  {
   "cell_type": "code",
   "execution_count": 1902,
   "metadata": {},
   "outputs": [
    {
     "data": {
      "text/plain": [
       "7.406716999999999"
      ]
     },
     "execution_count": 1902,
     "metadata": {},
     "output_type": "execute_result"
    }
   ],
   "source": [
    "distance_to_logits_median.max()"
   ]
  },
  {
   "cell_type": "code",
   "execution_count": 1903,
   "metadata": {},
   "outputs": [
    {
     "data": {
      "text/plain": [
       "7.30805615336703"
      ]
     },
     "execution_count": 1903,
     "metadata": {},
     "output_type": "execute_result"
    }
   ],
   "source": [
    "distance_to_logits_mean.max()"
   ]
  },
  {
   "cell_type": "code",
   "execution_count": 1904,
   "metadata": {},
   "outputs": [],
   "source": [
    "distance_to_distance_median = abs(df_inconsistency.cp_distance-df_inconsistency.cop_distance)-inconsistent_distance_median\n",
    "distance_to_distance_mean = abs(df_inconsistency.cp_distance-df_inconsistency.cop_distance)-inconsistent_distance_mean"
   ]
  },
  {
   "cell_type": "code",
   "execution_count": 1905,
   "metadata": {},
   "outputs": [
    {
     "data": {
      "text/plain": [
       "0       0.026490\n",
       "1       0.016773\n",
       "2       0.006025\n",
       "3       0.011852\n",
       "4       0.017704\n",
       "          ...   \n",
       "1187    0.180491\n",
       "1188    0.004048\n",
       "1189    0.008953\n",
       "1190    0.054732\n",
       "1191    0.116564\n",
       "Length: 1192, dtype: float64"
      ]
     },
     "execution_count": 1905,
     "metadata": {},
     "output_type": "execute_result"
    }
   ],
   "source": [
    "(distance_to_distance_median-distance_to_distance_median.min())/(distance_to_distance_median.max()-distance_to_distance_median.min())"
   ]
  },
  {
   "cell_type": "code",
   "execution_count": 1906,
   "metadata": {},
   "outputs": [
    {
     "data": {
      "text/plain": [
       "1.9157671613000002"
      ]
     },
     "execution_count": 1906,
     "metadata": {},
     "output_type": "execute_result"
    }
   ],
   "source": [
    "(distance_to_distance_median.max()-distance_to_distance_median.min())"
   ]
  },
  {
   "cell_type": "code",
   "execution_count": 1907,
   "metadata": {},
   "outputs": [
    {
     "data": {
      "text/plain": [
       "0       0.026490\n",
       "1       0.016773\n",
       "2       0.006025\n",
       "3       0.011852\n",
       "4       0.017704\n",
       "          ...   \n",
       "1187    0.180491\n",
       "1188    0.004048\n",
       "1189    0.008953\n",
       "1190    0.054732\n",
       "1191    0.116564\n",
       "Length: 1192, dtype: float64"
      ]
     },
     "execution_count": 1907,
     "metadata": {},
     "output_type": "execute_result"
    }
   ],
   "source": [
    "(distance_to_distance_mean-distance_to_distance_mean.min())/(distance_to_distance_mean.max()-distance_to_distance_mean.min())"
   ]
  },
  {
   "cell_type": "code",
   "execution_count": 1908,
   "metadata": {},
   "outputs": [],
   "source": [
    "df_inconsistency[\"distance_to_distance\"] = (distance_to_distance_median-distance_to_distance_median.min())/(distance_to_distance_median.max()-distance_to_distance_median.min())"
   ]
  },
  {
   "cell_type": "code",
   "execution_count": 1909,
   "metadata": {},
   "outputs": [],
   "source": [
    "# df_inconsistency[\"distance_to_distance\"] = (distance_to_distance_mean-distance_to_distance_mean.min())/(distance_to_distance_mean.max()-distance_to_distance_mean.min())"
   ]
  },
  {
   "cell_type": "code",
   "execution_count": 1910,
   "metadata": {},
   "outputs": [
    {
     "data": {
      "text/html": [
       "<div>\n",
       "<style scoped>\n",
       "    .dataframe tbody tr th:only-of-type {\n",
       "        vertical-align: middle;\n",
       "    }\n",
       "\n",
       "    .dataframe tbody tr th {\n",
       "        vertical-align: top;\n",
       "    }\n",
       "\n",
       "    .dataframe thead th {\n",
       "        text-align: right;\n",
       "    }\n",
       "</style>\n",
       "<table border=\"1\" class=\"dataframe\">\n",
       "  <thead>\n",
       "    <tr style=\"text-align: right;\">\n",
       "      <th></th>\n",
       "      <th>undermine_score</th>\n",
       "      <th>support_score</th>\n",
       "      <th>cp_distance</th>\n",
       "      <th>cop_distance</th>\n",
       "      <th>predict_label</th>\n",
       "      <th>distance_label</th>\n",
       "      <th>gold</th>\n",
       "      <th>distance_to_logtis</th>\n",
       "      <th>distance_to_distance</th>\n",
       "    </tr>\n",
       "  </thead>\n",
       "  <tbody>\n",
       "    <tr>\n",
       "      <th>0</th>\n",
       "      <td>-1.034109</td>\n",
       "      <td>-0.024011</td>\n",
       "      <td>0.342531</td>\n",
       "      <td>0.393281</td>\n",
       "      <td>1</td>\n",
       "      <td>1</td>\n",
       "      <td>1</td>\n",
       "      <td>0.080794</td>\n",
       "      <td>0.026490</td>\n",
       "    </tr>\n",
       "    <tr>\n",
       "      <th>1</th>\n",
       "      <td>-1.061421</td>\n",
       "      <td>-0.081111</td>\n",
       "      <td>0.335813</td>\n",
       "      <td>0.367947</td>\n",
       "      <td>1</td>\n",
       "      <td>1</td>\n",
       "      <td>0</td>\n",
       "      <td>0.078331</td>\n",
       "      <td>0.016773</td>\n",
       "    </tr>\n",
       "    <tr>\n",
       "      <th>2</th>\n",
       "      <td>-1.001755</td>\n",
       "      <td>0.076825</td>\n",
       "      <td>0.358336</td>\n",
       "      <td>0.369880</td>\n",
       "      <td>1</td>\n",
       "      <td>1</td>\n",
       "      <td>0</td>\n",
       "      <td>0.086459</td>\n",
       "      <td>0.006025</td>\n",
       "    </tr>\n",
       "    <tr>\n",
       "      <th>3</th>\n",
       "      <td>-1.156794</td>\n",
       "      <td>0.392040</td>\n",
       "      <td>0.325576</td>\n",
       "      <td>0.348283</td>\n",
       "      <td>1</td>\n",
       "      <td>1</td>\n",
       "      <td>1</td>\n",
       "      <td>0.125353</td>\n",
       "      <td>0.011852</td>\n",
       "    </tr>\n",
       "    <tr>\n",
       "      <th>4</th>\n",
       "      <td>-1.579876</td>\n",
       "      <td>0.949217</td>\n",
       "      <td>0.220279</td>\n",
       "      <td>0.254198</td>\n",
       "      <td>1</td>\n",
       "      <td>1</td>\n",
       "      <td>1</td>\n",
       "      <td>0.206431</td>\n",
       "      <td>0.017704</td>\n",
       "    </tr>\n",
       "    <tr>\n",
       "      <th>...</th>\n",
       "      <td>...</td>\n",
       "      <td>...</td>\n",
       "      <td>...</td>\n",
       "      <td>...</td>\n",
       "      <td>...</td>\n",
       "      <td>...</td>\n",
       "      <td>...</td>\n",
       "      <td>...</td>\n",
       "      <td>...</td>\n",
       "    </tr>\n",
       "    <tr>\n",
       "      <th>1187</th>\n",
       "      <td>-1.498376</td>\n",
       "      <td>1.778084</td>\n",
       "      <td>0.124150</td>\n",
       "      <td>0.469930</td>\n",
       "      <td>1</td>\n",
       "      <td>1</td>\n",
       "      <td>0</td>\n",
       "      <td>0.268245</td>\n",
       "      <td>0.180491</td>\n",
       "    </tr>\n",
       "    <tr>\n",
       "      <th>1188</th>\n",
       "      <td>-2.269197</td>\n",
       "      <td>1.305615</td>\n",
       "      <td>0.174636</td>\n",
       "      <td>0.182392</td>\n",
       "      <td>1</td>\n",
       "      <td>1</td>\n",
       "      <td>1</td>\n",
       "      <td>0.292922</td>\n",
       "      <td>0.004048</td>\n",
       "    </tr>\n",
       "    <tr>\n",
       "      <th>1189</th>\n",
       "      <td>-2.127807</td>\n",
       "      <td>1.159010</td>\n",
       "      <td>0.170799</td>\n",
       "      <td>0.187953</td>\n",
       "      <td>1</td>\n",
       "      <td>1</td>\n",
       "      <td>0</td>\n",
       "      <td>0.269102</td>\n",
       "      <td>0.008953</td>\n",
       "    </tr>\n",
       "    <tr>\n",
       "      <th>1190</th>\n",
       "      <td>0.573493</td>\n",
       "      <td>0.133073</td>\n",
       "      <td>0.949365</td>\n",
       "      <td>0.844510</td>\n",
       "      <td>0</td>\n",
       "      <td>0</td>\n",
       "      <td>0</td>\n",
       "      <td>0.033676</td>\n",
       "      <td>0.054732</td>\n",
       "    </tr>\n",
       "    <tr>\n",
       "      <th>1191</th>\n",
       "      <td>1.840301</td>\n",
       "      <td>-0.745482</td>\n",
       "      <td>0.908305</td>\n",
       "      <td>1.131616</td>\n",
       "      <td>0</td>\n",
       "      <td>1</td>\n",
       "      <td>0</td>\n",
       "      <td>0.211119</td>\n",
       "      <td>0.116564</td>\n",
       "    </tr>\n",
       "  </tbody>\n",
       "</table>\n",
       "<p>1192 rows × 9 columns</p>\n",
       "</div>"
      ],
      "text/plain": [
       "      undermine_score  support_score  cp_distance  cop_distance  \\\n",
       "0           -1.034109      -0.024011     0.342531      0.393281   \n",
       "1           -1.061421      -0.081111     0.335813      0.367947   \n",
       "2           -1.001755       0.076825     0.358336      0.369880   \n",
       "3           -1.156794       0.392040     0.325576      0.348283   \n",
       "4           -1.579876       0.949217     0.220279      0.254198   \n",
       "...               ...            ...          ...           ...   \n",
       "1187        -1.498376       1.778084     0.124150      0.469930   \n",
       "1188        -2.269197       1.305615     0.174636      0.182392   \n",
       "1189        -2.127807       1.159010     0.170799      0.187953   \n",
       "1190         0.573493       0.133073     0.949365      0.844510   \n",
       "1191         1.840301      -0.745482     0.908305      1.131616   \n",
       "\n",
       "      predict_label  distance_label  gold  distance_to_logtis  \\\n",
       "0                 1               1     1            0.080794   \n",
       "1                 1               1     0            0.078331   \n",
       "2                 1               1     0            0.086459   \n",
       "3                 1               1     1            0.125353   \n",
       "4                 1               1     1            0.206431   \n",
       "...             ...             ...   ...                 ...   \n",
       "1187              1               1     0            0.268245   \n",
       "1188              1               1     1            0.292922   \n",
       "1189              1               1     0            0.269102   \n",
       "1190              0               0     0            0.033676   \n",
       "1191              0               1     0            0.211119   \n",
       "\n",
       "      distance_to_distance  \n",
       "0                 0.026490  \n",
       "1                 0.016773  \n",
       "2                 0.006025  \n",
       "3                 0.011852  \n",
       "4                 0.017704  \n",
       "...                    ...  \n",
       "1187              0.180491  \n",
       "1188              0.004048  \n",
       "1189              0.008953  \n",
       "1190              0.054732  \n",
       "1191              0.116564  \n",
       "\n",
       "[1192 rows x 9 columns]"
      ]
     },
     "execution_count": 1910,
     "metadata": {},
     "output_type": "execute_result"
    }
   ],
   "source": [
    "df_inconsistency"
   ]
  },
  {
   "cell_type": "code",
   "execution_count": 1911,
   "metadata": {},
   "outputs": [
    {
     "data": {
      "text/html": [
       "<div>\n",
       "<style scoped>\n",
       "    .dataframe tbody tr th:only-of-type {\n",
       "        vertical-align: middle;\n",
       "    }\n",
       "\n",
       "    .dataframe tbody tr th {\n",
       "        vertical-align: top;\n",
       "    }\n",
       "\n",
       "    .dataframe thead th {\n",
       "        text-align: right;\n",
       "    }\n",
       "</style>\n",
       "<table border=\"1\" class=\"dataframe\">\n",
       "  <thead>\n",
       "    <tr style=\"text-align: right;\">\n",
       "      <th></th>\n",
       "      <th>undermine_score</th>\n",
       "      <th>support_score</th>\n",
       "      <th>cp_distance</th>\n",
       "      <th>cop_distance</th>\n",
       "      <th>predict_label</th>\n",
       "      <th>distance_label</th>\n",
       "      <th>gold</th>\n",
       "    </tr>\n",
       "  </thead>\n",
       "  <tbody>\n",
       "    <tr>\n",
       "      <th>0</th>\n",
       "      <td>-1.034109</td>\n",
       "      <td>-0.024011</td>\n",
       "      <td>0.342531</td>\n",
       "      <td>0.393281</td>\n",
       "      <td>1</td>\n",
       "      <td>1</td>\n",
       "      <td>1</td>\n",
       "    </tr>\n",
       "    <tr>\n",
       "      <th>1</th>\n",
       "      <td>-1.061421</td>\n",
       "      <td>-0.081111</td>\n",
       "      <td>0.335813</td>\n",
       "      <td>0.367947</td>\n",
       "      <td>1</td>\n",
       "      <td>1</td>\n",
       "      <td>0</td>\n",
       "    </tr>\n",
       "    <tr>\n",
       "      <th>2</th>\n",
       "      <td>-1.001755</td>\n",
       "      <td>0.076825</td>\n",
       "      <td>0.358336</td>\n",
       "      <td>0.369880</td>\n",
       "      <td>1</td>\n",
       "      <td>1</td>\n",
       "      <td>0</td>\n",
       "    </tr>\n",
       "    <tr>\n",
       "      <th>3</th>\n",
       "      <td>-1.156794</td>\n",
       "      <td>0.392040</td>\n",
       "      <td>0.325576</td>\n",
       "      <td>0.348283</td>\n",
       "      <td>1</td>\n",
       "      <td>1</td>\n",
       "      <td>1</td>\n",
       "    </tr>\n",
       "    <tr>\n",
       "      <th>4</th>\n",
       "      <td>-1.579876</td>\n",
       "      <td>0.949217</td>\n",
       "      <td>0.220279</td>\n",
       "      <td>0.254198</td>\n",
       "      <td>1</td>\n",
       "      <td>1</td>\n",
       "      <td>1</td>\n",
       "    </tr>\n",
       "    <tr>\n",
       "      <th>...</th>\n",
       "      <td>...</td>\n",
       "      <td>...</td>\n",
       "      <td>...</td>\n",
       "      <td>...</td>\n",
       "      <td>...</td>\n",
       "      <td>...</td>\n",
       "      <td>...</td>\n",
       "    </tr>\n",
       "    <tr>\n",
       "      <th>1186</th>\n",
       "      <td>-3.092961</td>\n",
       "      <td>2.499786</td>\n",
       "      <td>0.023136</td>\n",
       "      <td>0.034285</td>\n",
       "      <td>1</td>\n",
       "      <td>1</td>\n",
       "      <td>1</td>\n",
       "    </tr>\n",
       "    <tr>\n",
       "      <th>1187</th>\n",
       "      <td>-1.498376</td>\n",
       "      <td>1.778084</td>\n",
       "      <td>0.124150</td>\n",
       "      <td>0.469930</td>\n",
       "      <td>1</td>\n",
       "      <td>1</td>\n",
       "      <td>0</td>\n",
       "    </tr>\n",
       "    <tr>\n",
       "      <th>1188</th>\n",
       "      <td>-2.269197</td>\n",
       "      <td>1.305615</td>\n",
       "      <td>0.174636</td>\n",
       "      <td>0.182392</td>\n",
       "      <td>1</td>\n",
       "      <td>1</td>\n",
       "      <td>1</td>\n",
       "    </tr>\n",
       "    <tr>\n",
       "      <th>1189</th>\n",
       "      <td>-2.127807</td>\n",
       "      <td>1.159010</td>\n",
       "      <td>0.170799</td>\n",
       "      <td>0.187953</td>\n",
       "      <td>1</td>\n",
       "      <td>1</td>\n",
       "      <td>0</td>\n",
       "    </tr>\n",
       "    <tr>\n",
       "      <th>1190</th>\n",
       "      <td>0.573493</td>\n",
       "      <td>0.133073</td>\n",
       "      <td>0.949365</td>\n",
       "      <td>0.844510</td>\n",
       "      <td>0</td>\n",
       "      <td>0</td>\n",
       "      <td>0</td>\n",
       "    </tr>\n",
       "  </tbody>\n",
       "</table>\n",
       "<p>799 rows × 7 columns</p>\n",
       "</div>"
      ],
      "text/plain": [
       "      undermine_score  support_score  cp_distance  cop_distance  \\\n",
       "0           -1.034109      -0.024011     0.342531      0.393281   \n",
       "1           -1.061421      -0.081111     0.335813      0.367947   \n",
       "2           -1.001755       0.076825     0.358336      0.369880   \n",
       "3           -1.156794       0.392040     0.325576      0.348283   \n",
       "4           -1.579876       0.949217     0.220279      0.254198   \n",
       "...               ...            ...          ...           ...   \n",
       "1186        -3.092961       2.499786     0.023136      0.034285   \n",
       "1187        -1.498376       1.778084     0.124150      0.469930   \n",
       "1188        -2.269197       1.305615     0.174636      0.182392   \n",
       "1189        -2.127807       1.159010     0.170799      0.187953   \n",
       "1190         0.573493       0.133073     0.949365      0.844510   \n",
       "\n",
       "      predict_label  distance_label  gold  \n",
       "0                 1               1     1  \n",
       "1                 1               1     0  \n",
       "2                 1               1     0  \n",
       "3                 1               1     1  \n",
       "4                 1               1     1  \n",
       "...             ...             ...   ...  \n",
       "1186              1               1     1  \n",
       "1187              1               1     0  \n",
       "1188              1               1     1  \n",
       "1189              1               1     0  \n",
       "1190              0               0     0  \n",
       "\n",
       "[799 rows x 7 columns]"
      ]
     },
     "execution_count": 1911,
     "metadata": {},
     "output_type": "execute_result"
    }
   ],
   "source": [
    "df_consistency"
   ]
  },
  {
   "cell_type": "code",
   "execution_count": null,
   "metadata": {},
   "outputs": [],
   "source": []
  },
  {
   "cell_type": "code",
   "execution_count": 1912,
   "metadata": {},
   "outputs": [],
   "source": [
    "import flyingsquid\n",
    "from numpy.random import seed, rand\n",
    "import itertools\n",
    "import numpy as np"
   ]
  },
  {
   "cell_type": "code",
   "execution_count": 1913,
   "metadata": {},
   "outputs": [
    {
     "data": {
      "text/html": [
       "<div>\n",
       "<style scoped>\n",
       "    .dataframe tbody tr th:only-of-type {\n",
       "        vertical-align: middle;\n",
       "    }\n",
       "\n",
       "    .dataframe tbody tr th {\n",
       "        vertical-align: top;\n",
       "    }\n",
       "\n",
       "    .dataframe thead th {\n",
       "        text-align: right;\n",
       "    }\n",
       "</style>\n",
       "<table border=\"1\" class=\"dataframe\">\n",
       "  <thead>\n",
       "    <tr style=\"text-align: right;\">\n",
       "      <th></th>\n",
       "      <th>undermine_score</th>\n",
       "      <th>support_score</th>\n",
       "      <th>cp_distance</th>\n",
       "      <th>cop_distance</th>\n",
       "      <th>predict_label</th>\n",
       "      <th>distance_label</th>\n",
       "      <th>gold</th>\n",
       "      <th>distance_to_logtis</th>\n",
       "      <th>distance_to_distance</th>\n",
       "    </tr>\n",
       "  </thead>\n",
       "  <tbody>\n",
       "    <tr>\n",
       "      <th>0</th>\n",
       "      <td>-1.034109</td>\n",
       "      <td>-0.024011</td>\n",
       "      <td>0.342531</td>\n",
       "      <td>0.393281</td>\n",
       "      <td>1</td>\n",
       "      <td>1</td>\n",
       "      <td>1</td>\n",
       "      <td>0.080794</td>\n",
       "      <td>0.026490</td>\n",
       "    </tr>\n",
       "    <tr>\n",
       "      <th>1</th>\n",
       "      <td>-1.061421</td>\n",
       "      <td>-0.081111</td>\n",
       "      <td>0.335813</td>\n",
       "      <td>0.367947</td>\n",
       "      <td>1</td>\n",
       "      <td>1</td>\n",
       "      <td>0</td>\n",
       "      <td>0.078331</td>\n",
       "      <td>0.016773</td>\n",
       "    </tr>\n",
       "    <tr>\n",
       "      <th>2</th>\n",
       "      <td>-1.001755</td>\n",
       "      <td>0.076825</td>\n",
       "      <td>0.358336</td>\n",
       "      <td>0.369880</td>\n",
       "      <td>1</td>\n",
       "      <td>1</td>\n",
       "      <td>0</td>\n",
       "      <td>0.086459</td>\n",
       "      <td>0.006025</td>\n",
       "    </tr>\n",
       "    <tr>\n",
       "      <th>3</th>\n",
       "      <td>-1.156794</td>\n",
       "      <td>0.392040</td>\n",
       "      <td>0.325576</td>\n",
       "      <td>0.348283</td>\n",
       "      <td>1</td>\n",
       "      <td>1</td>\n",
       "      <td>1</td>\n",
       "      <td>0.125353</td>\n",
       "      <td>0.011852</td>\n",
       "    </tr>\n",
       "    <tr>\n",
       "      <th>4</th>\n",
       "      <td>-1.579876</td>\n",
       "      <td>0.949217</td>\n",
       "      <td>0.220279</td>\n",
       "      <td>0.254198</td>\n",
       "      <td>1</td>\n",
       "      <td>1</td>\n",
       "      <td>1</td>\n",
       "      <td>0.206431</td>\n",
       "      <td>0.017704</td>\n",
       "    </tr>\n",
       "    <tr>\n",
       "      <th>...</th>\n",
       "      <td>...</td>\n",
       "      <td>...</td>\n",
       "      <td>...</td>\n",
       "      <td>...</td>\n",
       "      <td>...</td>\n",
       "      <td>...</td>\n",
       "      <td>...</td>\n",
       "      <td>...</td>\n",
       "      <td>...</td>\n",
       "    </tr>\n",
       "    <tr>\n",
       "      <th>1187</th>\n",
       "      <td>-1.498376</td>\n",
       "      <td>1.778084</td>\n",
       "      <td>0.124150</td>\n",
       "      <td>0.469930</td>\n",
       "      <td>1</td>\n",
       "      <td>1</td>\n",
       "      <td>0</td>\n",
       "      <td>0.268245</td>\n",
       "      <td>0.180491</td>\n",
       "    </tr>\n",
       "    <tr>\n",
       "      <th>1188</th>\n",
       "      <td>-2.269197</td>\n",
       "      <td>1.305615</td>\n",
       "      <td>0.174636</td>\n",
       "      <td>0.182392</td>\n",
       "      <td>1</td>\n",
       "      <td>1</td>\n",
       "      <td>1</td>\n",
       "      <td>0.292922</td>\n",
       "      <td>0.004048</td>\n",
       "    </tr>\n",
       "    <tr>\n",
       "      <th>1189</th>\n",
       "      <td>-2.127807</td>\n",
       "      <td>1.159010</td>\n",
       "      <td>0.170799</td>\n",
       "      <td>0.187953</td>\n",
       "      <td>1</td>\n",
       "      <td>1</td>\n",
       "      <td>0</td>\n",
       "      <td>0.269102</td>\n",
       "      <td>0.008953</td>\n",
       "    </tr>\n",
       "    <tr>\n",
       "      <th>1190</th>\n",
       "      <td>0.573493</td>\n",
       "      <td>0.133073</td>\n",
       "      <td>0.949365</td>\n",
       "      <td>0.844510</td>\n",
       "      <td>0</td>\n",
       "      <td>0</td>\n",
       "      <td>0</td>\n",
       "      <td>0.033676</td>\n",
       "      <td>0.054732</td>\n",
       "    </tr>\n",
       "    <tr>\n",
       "      <th>1191</th>\n",
       "      <td>1.840301</td>\n",
       "      <td>-0.745482</td>\n",
       "      <td>0.908305</td>\n",
       "      <td>1.131616</td>\n",
       "      <td>0</td>\n",
       "      <td>1</td>\n",
       "      <td>0</td>\n",
       "      <td>0.211119</td>\n",
       "      <td>0.116564</td>\n",
       "    </tr>\n",
       "  </tbody>\n",
       "</table>\n",
       "<p>1192 rows × 9 columns</p>\n",
       "</div>"
      ],
      "text/plain": [
       "      undermine_score  support_score  cp_distance  cop_distance  \\\n",
       "0           -1.034109      -0.024011     0.342531      0.393281   \n",
       "1           -1.061421      -0.081111     0.335813      0.367947   \n",
       "2           -1.001755       0.076825     0.358336      0.369880   \n",
       "3           -1.156794       0.392040     0.325576      0.348283   \n",
       "4           -1.579876       0.949217     0.220279      0.254198   \n",
       "...               ...            ...          ...           ...   \n",
       "1187        -1.498376       1.778084     0.124150      0.469930   \n",
       "1188        -2.269197       1.305615     0.174636      0.182392   \n",
       "1189        -2.127807       1.159010     0.170799      0.187953   \n",
       "1190         0.573493       0.133073     0.949365      0.844510   \n",
       "1191         1.840301      -0.745482     0.908305      1.131616   \n",
       "\n",
       "      predict_label  distance_label  gold  distance_to_logtis  \\\n",
       "0                 1               1     1            0.080794   \n",
       "1                 1               1     0            0.078331   \n",
       "2                 1               1     0            0.086459   \n",
       "3                 1               1     1            0.125353   \n",
       "4                 1               1     1            0.206431   \n",
       "...             ...             ...   ...                 ...   \n",
       "1187              1               1     0            0.268245   \n",
       "1188              1               1     1            0.292922   \n",
       "1189              1               1     0            0.269102   \n",
       "1190              0               0     0            0.033676   \n",
       "1191              0               1     0            0.211119   \n",
       "\n",
       "      distance_to_distance  \n",
       "0                 0.026490  \n",
       "1                 0.016773  \n",
       "2                 0.006025  \n",
       "3                 0.011852  \n",
       "4                 0.017704  \n",
       "...                    ...  \n",
       "1187              0.180491  \n",
       "1188              0.004048  \n",
       "1189              0.008953  \n",
       "1190              0.054732  \n",
       "1191              0.116564  \n",
       "\n",
       "[1192 rows x 9 columns]"
      ]
     },
     "execution_count": 1913,
     "metadata": {},
     "output_type": "execute_result"
    }
   ],
   "source": [
    "df_inconsistency"
   ]
  },
  {
   "cell_type": "code",
   "execution_count": 1914,
   "metadata": {},
   "outputs": [
    {
     "data": {
      "text/html": [
       "<div>\n",
       "<style scoped>\n",
       "    .dataframe tbody tr th:only-of-type {\n",
       "        vertical-align: middle;\n",
       "    }\n",
       "\n",
       "    .dataframe tbody tr th {\n",
       "        vertical-align: top;\n",
       "    }\n",
       "\n",
       "    .dataframe thead th {\n",
       "        text-align: right;\n",
       "    }\n",
       "</style>\n",
       "<table border=\"1\" class=\"dataframe\">\n",
       "  <thead>\n",
       "    <tr style=\"text-align: right;\">\n",
       "      <th></th>\n",
       "      <th>undermine_score</th>\n",
       "      <th>support_score</th>\n",
       "      <th>cp_distance</th>\n",
       "      <th>cop_distance</th>\n",
       "      <th>predict_label</th>\n",
       "      <th>distance_label</th>\n",
       "      <th>gold</th>\n",
       "      <th>distance_to_logtis</th>\n",
       "      <th>distance_to_distance</th>\n",
       "    </tr>\n",
       "  </thead>\n",
       "  <tbody>\n",
       "    <tr>\n",
       "      <th>0</th>\n",
       "      <td>-1.034109</td>\n",
       "      <td>-0.024011</td>\n",
       "      <td>0.342531</td>\n",
       "      <td>0.393281</td>\n",
       "      <td>1</td>\n",
       "      <td>1</td>\n",
       "      <td>1</td>\n",
       "      <td>0.080794</td>\n",
       "      <td>0.026490</td>\n",
       "    </tr>\n",
       "    <tr>\n",
       "      <th>1</th>\n",
       "      <td>-1.061421</td>\n",
       "      <td>-0.081111</td>\n",
       "      <td>0.335813</td>\n",
       "      <td>0.367947</td>\n",
       "      <td>1</td>\n",
       "      <td>1</td>\n",
       "      <td>0</td>\n",
       "      <td>0.078331</td>\n",
       "      <td>0.016773</td>\n",
       "    </tr>\n",
       "    <tr>\n",
       "      <th>2</th>\n",
       "      <td>-1.001755</td>\n",
       "      <td>0.076825</td>\n",
       "      <td>0.358336</td>\n",
       "      <td>0.369880</td>\n",
       "      <td>1</td>\n",
       "      <td>1</td>\n",
       "      <td>0</td>\n",
       "      <td>0.086459</td>\n",
       "      <td>0.006025</td>\n",
       "    </tr>\n",
       "    <tr>\n",
       "      <th>3</th>\n",
       "      <td>-1.156794</td>\n",
       "      <td>0.392040</td>\n",
       "      <td>0.325576</td>\n",
       "      <td>0.348283</td>\n",
       "      <td>1</td>\n",
       "      <td>1</td>\n",
       "      <td>1</td>\n",
       "      <td>0.125353</td>\n",
       "      <td>0.011852</td>\n",
       "    </tr>\n",
       "    <tr>\n",
       "      <th>4</th>\n",
       "      <td>-1.579876</td>\n",
       "      <td>0.949217</td>\n",
       "      <td>0.220279</td>\n",
       "      <td>0.254198</td>\n",
       "      <td>1</td>\n",
       "      <td>1</td>\n",
       "      <td>1</td>\n",
       "      <td>0.206431</td>\n",
       "      <td>0.017704</td>\n",
       "    </tr>\n",
       "    <tr>\n",
       "      <th>...</th>\n",
       "      <td>...</td>\n",
       "      <td>...</td>\n",
       "      <td>...</td>\n",
       "      <td>...</td>\n",
       "      <td>...</td>\n",
       "      <td>...</td>\n",
       "      <td>...</td>\n",
       "      <td>...</td>\n",
       "      <td>...</td>\n",
       "    </tr>\n",
       "    <tr>\n",
       "      <th>1187</th>\n",
       "      <td>-1.498376</td>\n",
       "      <td>1.778084</td>\n",
       "      <td>0.124150</td>\n",
       "      <td>0.469930</td>\n",
       "      <td>1</td>\n",
       "      <td>1</td>\n",
       "      <td>0</td>\n",
       "      <td>0.268245</td>\n",
       "      <td>0.180491</td>\n",
       "    </tr>\n",
       "    <tr>\n",
       "      <th>1188</th>\n",
       "      <td>-2.269197</td>\n",
       "      <td>1.305615</td>\n",
       "      <td>0.174636</td>\n",
       "      <td>0.182392</td>\n",
       "      <td>1</td>\n",
       "      <td>1</td>\n",
       "      <td>1</td>\n",
       "      <td>0.292922</td>\n",
       "      <td>0.004048</td>\n",
       "    </tr>\n",
       "    <tr>\n",
       "      <th>1189</th>\n",
       "      <td>-2.127807</td>\n",
       "      <td>1.159010</td>\n",
       "      <td>0.170799</td>\n",
       "      <td>0.187953</td>\n",
       "      <td>1</td>\n",
       "      <td>1</td>\n",
       "      <td>0</td>\n",
       "      <td>0.269102</td>\n",
       "      <td>0.008953</td>\n",
       "    </tr>\n",
       "    <tr>\n",
       "      <th>1190</th>\n",
       "      <td>0.573493</td>\n",
       "      <td>0.133073</td>\n",
       "      <td>0.949365</td>\n",
       "      <td>0.844510</td>\n",
       "      <td>0</td>\n",
       "      <td>0</td>\n",
       "      <td>0</td>\n",
       "      <td>0.033676</td>\n",
       "      <td>0.054732</td>\n",
       "    </tr>\n",
       "    <tr>\n",
       "      <th>1191</th>\n",
       "      <td>1.840301</td>\n",
       "      <td>-0.745482</td>\n",
       "      <td>0.908305</td>\n",
       "      <td>1.131616</td>\n",
       "      <td>0</td>\n",
       "      <td>1</td>\n",
       "      <td>0</td>\n",
       "      <td>0.211119</td>\n",
       "      <td>0.116564</td>\n",
       "    </tr>\n",
       "  </tbody>\n",
       "</table>\n",
       "<p>1163 rows × 9 columns</p>\n",
       "</div>"
      ],
      "text/plain": [
       "      undermine_score  support_score  cp_distance  cop_distance  \\\n",
       "0           -1.034109      -0.024011     0.342531      0.393281   \n",
       "1           -1.061421      -0.081111     0.335813      0.367947   \n",
       "2           -1.001755       0.076825     0.358336      0.369880   \n",
       "3           -1.156794       0.392040     0.325576      0.348283   \n",
       "4           -1.579876       0.949217     0.220279      0.254198   \n",
       "...               ...            ...          ...           ...   \n",
       "1187        -1.498376       1.778084     0.124150      0.469930   \n",
       "1188        -2.269197       1.305615     0.174636      0.182392   \n",
       "1189        -2.127807       1.159010     0.170799      0.187953   \n",
       "1190         0.573493       0.133073     0.949365      0.844510   \n",
       "1191         1.840301      -0.745482     0.908305      1.131616   \n",
       "\n",
       "      predict_label  distance_label  gold  distance_to_logtis  \\\n",
       "0                 1               1     1            0.080794   \n",
       "1                 1               1     0            0.078331   \n",
       "2                 1               1     0            0.086459   \n",
       "3                 1               1     1            0.125353   \n",
       "4                 1               1     1            0.206431   \n",
       "...             ...             ...   ...                 ...   \n",
       "1187              1               1     0            0.268245   \n",
       "1188              1               1     1            0.292922   \n",
       "1189              1               1     0            0.269102   \n",
       "1190              0               0     0            0.033676   \n",
       "1191              0               1     0            0.211119   \n",
       "\n",
       "      distance_to_distance  \n",
       "0                 0.026490  \n",
       "1                 0.016773  \n",
       "2                 0.006025  \n",
       "3                 0.011852  \n",
       "4                 0.017704  \n",
       "...                    ...  \n",
       "1187              0.180491  \n",
       "1188              0.004048  \n",
       "1189              0.008953  \n",
       "1190              0.054732  \n",
       "1191              0.116564  \n",
       "\n",
       "[1163 rows x 9 columns]"
      ]
     },
     "execution_count": 1914,
     "metadata": {},
     "output_type": "execute_result"
    }
   ],
   "source": [
    "df_inconsistency[abs(df_inconsistency.undermine_score-df_inconsistency.support_score)<9.7]"
   ]
  },
  {
   "cell_type": "code",
   "execution_count": 1915,
   "metadata": {},
   "outputs": [],
   "source": [
    "df_inconsistency[\"snorkel_logits_17\"]=df_inconsistency.predict_label\n",
    "df_inconsistency.snorkel_logits_17=df_inconsistency.apply(lambda x: -1 if x.snorkel_logits_17==0 else 1, axis=1)\n",
    "df_inconsistency.snorkel_logits_17=df_inconsistency.apply(lambda x: 0 if abs(x.undermine_score-x.support_score)<1.7  else x.snorkel_logits_17, axis=1)"
   ]
  },
  {
   "cell_type": "code",
   "execution_count": 1916,
   "metadata": {},
   "outputs": [],
   "source": [
    "df_inconsistency[\"snorkel_logits_37\"]=df_inconsistency.predict_label\n",
    "df_inconsistency.snorkel_logits_37=df_inconsistency.apply(lambda x: -1 if x.snorkel_logits_37==0 else 1, axis=1)\n",
    "df_inconsistency.snorkel_logits_37=df_inconsistency.apply(lambda x: 0 if abs(x.undermine_score-x.support_score)<3.7  else x.snorkel_logits_37, axis=1)"
   ]
  },
  {
   "cell_type": "code",
   "execution_count": 1917,
   "metadata": {},
   "outputs": [],
   "source": [
    "df_inconsistency[\"snorkel_logits_57\"]=df_inconsistency.predict_label\n",
    "df_inconsistency.snorkel_logits_57=df_inconsistency.apply(lambda x: -1 if x.snorkel_logits_57==0 else 1, axis=1)\n",
    "df_inconsistency.snorkel_logits_57=df_inconsistency.apply(lambda x: 0 if abs(x.undermine_score-x.support_score)<5.7  else x.snorkel_logits_57, axis=1)"
   ]
  },
  {
   "cell_type": "code",
   "execution_count": 1918,
   "metadata": {},
   "outputs": [],
   "source": [
    "df_inconsistency[\"snorkel_logits_77\"]=df_inconsistency.predict_label\n",
    "df_inconsistency.snorkel_logits_77=df_inconsistency.apply(lambda x: -1 if x.snorkel_logits_77==0 else 1, axis=1)\n",
    "df_inconsistency.snorkel_logits_77=df_inconsistency.apply(lambda x: 0 if abs(x.undermine_score-x.support_score)<7.7  else x.snorkel_logits_77, axis=1)"
   ]
  },
  {
   "cell_type": "code",
   "execution_count": 1919,
   "metadata": {},
   "outputs": [],
   "source": [
    "df_inconsistency[\"snorkel_logits_97\"]=df_inconsistency.predict_label\n",
    "df_inconsistency.snorkel_logits_97=df_inconsistency.apply(lambda x: -1 if x.snorkel_logits_97==0 else 1, axis=1)\n",
    "df_inconsistency.snorkel_logits_97=df_inconsistency.apply(lambda x: 0 if abs(x.undermine_score-x.support_score)<9.7  else x.snorkel_logits_97, axis=1)"
   ]
  },
  {
   "cell_type": "code",
   "execution_count": 1920,
   "metadata": {},
   "outputs": [],
   "source": [
    "df_inconsistency[\"snorkel_distance_01\"]=df_inconsistency.distance_label\n",
    "df_inconsistency.snorkel_distance_01=df_inconsistency.apply(lambda x: -1 if x.snorkel_distance_01==0 else 1, axis=1)\n",
    "df_inconsistency.snorkel_distance_01=df_inconsistency.apply(lambda x: 0 if abs(x.cp_distance-x.cop_distance)<0.03  else x.snorkel_distance_01, axis=1)"
   ]
  },
  {
   "cell_type": "code",
   "execution_count": 1921,
   "metadata": {},
   "outputs": [],
   "source": [
    "df_inconsistency[\"snorkel_distance_03\"]=df_inconsistency.distance_label\n",
    "df_inconsistency.snorkel_distance_03=df_inconsistency.apply(lambda x: -1 if x.snorkel_distance_03==0 else 1, axis=1)\n",
    "df_inconsistency.snorkel_distance_03=df_inconsistency.apply(lambda x: 0 if abs(x.cp_distance-x.cop_distance)<0.06  else x.snorkel_distance_03, axis=1)"
   ]
  },
  {
   "cell_type": "code",
   "execution_count": 1922,
   "metadata": {},
   "outputs": [],
   "source": [
    "df_inconsistency[\"snorkel_distance_05\"]=df_inconsistency.distance_label\n",
    "df_inconsistency.snorkel_distance_05=df_inconsistency.apply(lambda x: -1 if x.snorkel_distance_05==0 else 1, axis=1)\n",
    "df_inconsistency.snorkel_distance_05=df_inconsistency.apply(lambda x: 0 if abs(x.cp_distance-x.cop_distance)<0.12  else x.snorkel_distance_05, axis=1)"
   ]
  },
  {
   "cell_type": "code",
   "execution_count": 1923,
   "metadata": {},
   "outputs": [],
   "source": [
    "df_inconsistency[\"snorkel_distance_07\"]=df_inconsistency.distance_label\n",
    "df_inconsistency.snorkel_distance_07=df_inconsistency.apply(lambda x: -1 if x.snorkel_distance_07==0 else 1, axis=1)\n",
    "df_inconsistency.snorkel_distance_07=df_inconsistency.apply(lambda x: 0 if abs(x.cp_distance-x.cop_distance)<0.22  else x.snorkel_distance_07, axis=1)"
   ]
  },
  {
   "cell_type": "code",
   "execution_count": 1924,
   "metadata": {},
   "outputs": [],
   "source": [
    "df_inconsistency[\"snorkel_distance_09\"]=df_inconsistency.distance_label\n",
    "df_inconsistency.snorkel_distance_09=df_inconsistency.apply(lambda x: -1 if x.snorkel_distance_09==0 else 1, axis=1)\n",
    "df_inconsistency.snorkel_distance_09=df_inconsistency.apply(lambda x: 0 if abs(x.cp_distance-x.cop_distance)<0.7  else x.snorkel_distance_09, axis=1)"
   ]
  },
  {
   "cell_type": "code",
   "execution_count": 1925,
   "metadata": {},
   "outputs": [],
   "source": [
    "df_inconsistency[\"snorkel_label\"]=df_inconsistency.gold\n",
    "df_inconsistency.snorkel_label = df_inconsistency.apply(lambda x: -1 if x.snorkel_label==0 else 1, axis=1)"
   ]
  },
  {
   "cell_type": "code",
   "execution_count": 1926,
   "metadata": {},
   "outputs": [
    {
     "data": {
      "text/html": [
       "<div>\n",
       "<style scoped>\n",
       "    .dataframe tbody tr th:only-of-type {\n",
       "        vertical-align: middle;\n",
       "    }\n",
       "\n",
       "    .dataframe tbody tr th {\n",
       "        vertical-align: top;\n",
       "    }\n",
       "\n",
       "    .dataframe thead th {\n",
       "        text-align: right;\n",
       "    }\n",
       "</style>\n",
       "<table border=\"1\" class=\"dataframe\">\n",
       "  <thead>\n",
       "    <tr style=\"text-align: right;\">\n",
       "      <th></th>\n",
       "      <th>undermine_score</th>\n",
       "      <th>support_score</th>\n",
       "      <th>cp_distance</th>\n",
       "      <th>cop_distance</th>\n",
       "      <th>predict_label</th>\n",
       "      <th>distance_label</th>\n",
       "      <th>gold</th>\n",
       "      <th>distance_to_logtis</th>\n",
       "      <th>distance_to_distance</th>\n",
       "      <th>snorkel_logits_17</th>\n",
       "      <th>snorkel_logits_37</th>\n",
       "      <th>snorkel_logits_57</th>\n",
       "      <th>snorkel_logits_77</th>\n",
       "      <th>snorkel_logits_97</th>\n",
       "      <th>snorkel_distance_01</th>\n",
       "      <th>snorkel_distance_03</th>\n",
       "      <th>snorkel_distance_05</th>\n",
       "      <th>snorkel_distance_07</th>\n",
       "      <th>snorkel_distance_09</th>\n",
       "      <th>snorkel_label</th>\n",
       "    </tr>\n",
       "  </thead>\n",
       "  <tbody>\n",
       "    <tr>\n",
       "      <th>0</th>\n",
       "      <td>-1.034109</td>\n",
       "      <td>-0.024011</td>\n",
       "      <td>0.342531</td>\n",
       "      <td>0.393281</td>\n",
       "      <td>1</td>\n",
       "      <td>1</td>\n",
       "      <td>1</td>\n",
       "      <td>0.080794</td>\n",
       "      <td>0.026490</td>\n",
       "      <td>0.0</td>\n",
       "      <td>0.0</td>\n",
       "      <td>0.0</td>\n",
       "      <td>0.0</td>\n",
       "      <td>0.0</td>\n",
       "      <td>1.0</td>\n",
       "      <td>0.0</td>\n",
       "      <td>0.0</td>\n",
       "      <td>0.0</td>\n",
       "      <td>0.0</td>\n",
       "      <td>1</td>\n",
       "    </tr>\n",
       "    <tr>\n",
       "      <th>1</th>\n",
       "      <td>-1.061421</td>\n",
       "      <td>-0.081111</td>\n",
       "      <td>0.335813</td>\n",
       "      <td>0.367947</td>\n",
       "      <td>1</td>\n",
       "      <td>1</td>\n",
       "      <td>0</td>\n",
       "      <td>0.078331</td>\n",
       "      <td>0.016773</td>\n",
       "      <td>0.0</td>\n",
       "      <td>0.0</td>\n",
       "      <td>0.0</td>\n",
       "      <td>0.0</td>\n",
       "      <td>0.0</td>\n",
       "      <td>1.0</td>\n",
       "      <td>0.0</td>\n",
       "      <td>0.0</td>\n",
       "      <td>0.0</td>\n",
       "      <td>0.0</td>\n",
       "      <td>-1</td>\n",
       "    </tr>\n",
       "    <tr>\n",
       "      <th>2</th>\n",
       "      <td>-1.001755</td>\n",
       "      <td>0.076825</td>\n",
       "      <td>0.358336</td>\n",
       "      <td>0.369880</td>\n",
       "      <td>1</td>\n",
       "      <td>1</td>\n",
       "      <td>0</td>\n",
       "      <td>0.086459</td>\n",
       "      <td>0.006025</td>\n",
       "      <td>0.0</td>\n",
       "      <td>0.0</td>\n",
       "      <td>0.0</td>\n",
       "      <td>0.0</td>\n",
       "      <td>0.0</td>\n",
       "      <td>0.0</td>\n",
       "      <td>0.0</td>\n",
       "      <td>0.0</td>\n",
       "      <td>0.0</td>\n",
       "      <td>0.0</td>\n",
       "      <td>-1</td>\n",
       "    </tr>\n",
       "    <tr>\n",
       "      <th>3</th>\n",
       "      <td>-1.156794</td>\n",
       "      <td>0.392040</td>\n",
       "      <td>0.325576</td>\n",
       "      <td>0.348283</td>\n",
       "      <td>1</td>\n",
       "      <td>1</td>\n",
       "      <td>1</td>\n",
       "      <td>0.125353</td>\n",
       "      <td>0.011852</td>\n",
       "      <td>0.0</td>\n",
       "      <td>0.0</td>\n",
       "      <td>0.0</td>\n",
       "      <td>0.0</td>\n",
       "      <td>0.0</td>\n",
       "      <td>0.0</td>\n",
       "      <td>0.0</td>\n",
       "      <td>0.0</td>\n",
       "      <td>0.0</td>\n",
       "      <td>0.0</td>\n",
       "      <td>1</td>\n",
       "    </tr>\n",
       "    <tr>\n",
       "      <th>4</th>\n",
       "      <td>-1.579876</td>\n",
       "      <td>0.949217</td>\n",
       "      <td>0.220279</td>\n",
       "      <td>0.254198</td>\n",
       "      <td>1</td>\n",
       "      <td>1</td>\n",
       "      <td>1</td>\n",
       "      <td>0.206431</td>\n",
       "      <td>0.017704</td>\n",
       "      <td>1.0</td>\n",
       "      <td>0.0</td>\n",
       "      <td>0.0</td>\n",
       "      <td>0.0</td>\n",
       "      <td>0.0</td>\n",
       "      <td>1.0</td>\n",
       "      <td>0.0</td>\n",
       "      <td>0.0</td>\n",
       "      <td>0.0</td>\n",
       "      <td>0.0</td>\n",
       "      <td>1</td>\n",
       "    </tr>\n",
       "    <tr>\n",
       "      <th>...</th>\n",
       "      <td>...</td>\n",
       "      <td>...</td>\n",
       "      <td>...</td>\n",
       "      <td>...</td>\n",
       "      <td>...</td>\n",
       "      <td>...</td>\n",
       "      <td>...</td>\n",
       "      <td>...</td>\n",
       "      <td>...</td>\n",
       "      <td>...</td>\n",
       "      <td>...</td>\n",
       "      <td>...</td>\n",
       "      <td>...</td>\n",
       "      <td>...</td>\n",
       "      <td>...</td>\n",
       "      <td>...</td>\n",
       "      <td>...</td>\n",
       "      <td>...</td>\n",
       "      <td>...</td>\n",
       "      <td>...</td>\n",
       "    </tr>\n",
       "    <tr>\n",
       "      <th>1187</th>\n",
       "      <td>-1.498376</td>\n",
       "      <td>1.778084</td>\n",
       "      <td>0.124150</td>\n",
       "      <td>0.469930</td>\n",
       "      <td>1</td>\n",
       "      <td>1</td>\n",
       "      <td>0</td>\n",
       "      <td>0.268245</td>\n",
       "      <td>0.180491</td>\n",
       "      <td>1.0</td>\n",
       "      <td>0.0</td>\n",
       "      <td>0.0</td>\n",
       "      <td>0.0</td>\n",
       "      <td>0.0</td>\n",
       "      <td>1.0</td>\n",
       "      <td>1.0</td>\n",
       "      <td>1.0</td>\n",
       "      <td>1.0</td>\n",
       "      <td>0.0</td>\n",
       "      <td>-1</td>\n",
       "    </tr>\n",
       "    <tr>\n",
       "      <th>1188</th>\n",
       "      <td>-2.269197</td>\n",
       "      <td>1.305615</td>\n",
       "      <td>0.174636</td>\n",
       "      <td>0.182392</td>\n",
       "      <td>1</td>\n",
       "      <td>1</td>\n",
       "      <td>1</td>\n",
       "      <td>0.292922</td>\n",
       "      <td>0.004048</td>\n",
       "      <td>1.0</td>\n",
       "      <td>0.0</td>\n",
       "      <td>0.0</td>\n",
       "      <td>0.0</td>\n",
       "      <td>0.0</td>\n",
       "      <td>0.0</td>\n",
       "      <td>0.0</td>\n",
       "      <td>0.0</td>\n",
       "      <td>0.0</td>\n",
       "      <td>0.0</td>\n",
       "      <td>1</td>\n",
       "    </tr>\n",
       "    <tr>\n",
       "      <th>1189</th>\n",
       "      <td>-2.127807</td>\n",
       "      <td>1.159010</td>\n",
       "      <td>0.170799</td>\n",
       "      <td>0.187953</td>\n",
       "      <td>1</td>\n",
       "      <td>1</td>\n",
       "      <td>0</td>\n",
       "      <td>0.269102</td>\n",
       "      <td>0.008953</td>\n",
       "      <td>1.0</td>\n",
       "      <td>0.0</td>\n",
       "      <td>0.0</td>\n",
       "      <td>0.0</td>\n",
       "      <td>0.0</td>\n",
       "      <td>0.0</td>\n",
       "      <td>0.0</td>\n",
       "      <td>0.0</td>\n",
       "      <td>0.0</td>\n",
       "      <td>0.0</td>\n",
       "      <td>-1</td>\n",
       "    </tr>\n",
       "    <tr>\n",
       "      <th>1190</th>\n",
       "      <td>0.573493</td>\n",
       "      <td>0.133073</td>\n",
       "      <td>0.949365</td>\n",
       "      <td>0.844510</td>\n",
       "      <td>0</td>\n",
       "      <td>0</td>\n",
       "      <td>0</td>\n",
       "      <td>0.033676</td>\n",
       "      <td>0.054732</td>\n",
       "      <td>0.0</td>\n",
       "      <td>0.0</td>\n",
       "      <td>0.0</td>\n",
       "      <td>0.0</td>\n",
       "      <td>0.0</td>\n",
       "      <td>-1.0</td>\n",
       "      <td>-1.0</td>\n",
       "      <td>0.0</td>\n",
       "      <td>0.0</td>\n",
       "      <td>0.0</td>\n",
       "      <td>-1</td>\n",
       "    </tr>\n",
       "    <tr>\n",
       "      <th>1191</th>\n",
       "      <td>1.840301</td>\n",
       "      <td>-0.745482</td>\n",
       "      <td>0.908305</td>\n",
       "      <td>1.131616</td>\n",
       "      <td>0</td>\n",
       "      <td>1</td>\n",
       "      <td>0</td>\n",
       "      <td>0.211119</td>\n",
       "      <td>0.116564</td>\n",
       "      <td>-1.0</td>\n",
       "      <td>0.0</td>\n",
       "      <td>0.0</td>\n",
       "      <td>0.0</td>\n",
       "      <td>0.0</td>\n",
       "      <td>1.0</td>\n",
       "      <td>1.0</td>\n",
       "      <td>1.0</td>\n",
       "      <td>1.0</td>\n",
       "      <td>0.0</td>\n",
       "      <td>-1</td>\n",
       "    </tr>\n",
       "  </tbody>\n",
       "</table>\n",
       "<p>1192 rows × 20 columns</p>\n",
       "</div>"
      ],
      "text/plain": [
       "      undermine_score  support_score  cp_distance  cop_distance  \\\n",
       "0           -1.034109      -0.024011     0.342531      0.393281   \n",
       "1           -1.061421      -0.081111     0.335813      0.367947   \n",
       "2           -1.001755       0.076825     0.358336      0.369880   \n",
       "3           -1.156794       0.392040     0.325576      0.348283   \n",
       "4           -1.579876       0.949217     0.220279      0.254198   \n",
       "...               ...            ...          ...           ...   \n",
       "1187        -1.498376       1.778084     0.124150      0.469930   \n",
       "1188        -2.269197       1.305615     0.174636      0.182392   \n",
       "1189        -2.127807       1.159010     0.170799      0.187953   \n",
       "1190         0.573493       0.133073     0.949365      0.844510   \n",
       "1191         1.840301      -0.745482     0.908305      1.131616   \n",
       "\n",
       "      predict_label  distance_label  gold  distance_to_logtis  \\\n",
       "0                 1               1     1            0.080794   \n",
       "1                 1               1     0            0.078331   \n",
       "2                 1               1     0            0.086459   \n",
       "3                 1               1     1            0.125353   \n",
       "4                 1               1     1            0.206431   \n",
       "...             ...             ...   ...                 ...   \n",
       "1187              1               1     0            0.268245   \n",
       "1188              1               1     1            0.292922   \n",
       "1189              1               1     0            0.269102   \n",
       "1190              0               0     0            0.033676   \n",
       "1191              0               1     0            0.211119   \n",
       "\n",
       "      distance_to_distance  snorkel_logits_17  snorkel_logits_37  \\\n",
       "0                 0.026490                0.0                0.0   \n",
       "1                 0.016773                0.0                0.0   \n",
       "2                 0.006025                0.0                0.0   \n",
       "3                 0.011852                0.0                0.0   \n",
       "4                 0.017704                1.0                0.0   \n",
       "...                    ...                ...                ...   \n",
       "1187              0.180491                1.0                0.0   \n",
       "1188              0.004048                1.0                0.0   \n",
       "1189              0.008953                1.0                0.0   \n",
       "1190              0.054732                0.0                0.0   \n",
       "1191              0.116564               -1.0                0.0   \n",
       "\n",
       "      snorkel_logits_57  snorkel_logits_77  snorkel_logits_97  \\\n",
       "0                   0.0                0.0                0.0   \n",
       "1                   0.0                0.0                0.0   \n",
       "2                   0.0                0.0                0.0   \n",
       "3                   0.0                0.0                0.0   \n",
       "4                   0.0                0.0                0.0   \n",
       "...                 ...                ...                ...   \n",
       "1187                0.0                0.0                0.0   \n",
       "1188                0.0                0.0                0.0   \n",
       "1189                0.0                0.0                0.0   \n",
       "1190                0.0                0.0                0.0   \n",
       "1191                0.0                0.0                0.0   \n",
       "\n",
       "      snorkel_distance_01  snorkel_distance_03  snorkel_distance_05  \\\n",
       "0                     1.0                  0.0                  0.0   \n",
       "1                     1.0                  0.0                  0.0   \n",
       "2                     0.0                  0.0                  0.0   \n",
       "3                     0.0                  0.0                  0.0   \n",
       "4                     1.0                  0.0                  0.0   \n",
       "...                   ...                  ...                  ...   \n",
       "1187                  1.0                  1.0                  1.0   \n",
       "1188                  0.0                  0.0                  0.0   \n",
       "1189                  0.0                  0.0                  0.0   \n",
       "1190                 -1.0                 -1.0                  0.0   \n",
       "1191                  1.0                  1.0                  1.0   \n",
       "\n",
       "      snorkel_distance_07  snorkel_distance_09  snorkel_label  \n",
       "0                     0.0                  0.0              1  \n",
       "1                     0.0                  0.0             -1  \n",
       "2                     0.0                  0.0             -1  \n",
       "3                     0.0                  0.0              1  \n",
       "4                     0.0                  0.0              1  \n",
       "...                   ...                  ...            ...  \n",
       "1187                  1.0                  0.0             -1  \n",
       "1188                  0.0                  0.0              1  \n",
       "1189                  0.0                  0.0             -1  \n",
       "1190                  0.0                  0.0             -1  \n",
       "1191                  1.0                  0.0             -1  \n",
       "\n",
       "[1192 rows x 20 columns]"
      ]
     },
     "execution_count": 1926,
     "metadata": {},
     "output_type": "execute_result"
    }
   ],
   "source": [
    "df_inconsistency"
   ]
  },
  {
   "cell_type": "code",
   "execution_count": 1765,
   "metadata": {},
   "outputs": [],
   "source": [
    "df_inconsistency.to_csv(\"imbcs_L_train_entiretest.csv\", index=False)"
   ]
  },
  {
   "cell_type": "code",
   "execution_count": null,
   "metadata": {},
   "outputs": [],
   "source": []
  },
  {
   "cell_type": "code",
   "execution_count": null,
   "metadata": {},
   "outputs": [],
   "source": []
  },
  {
   "cell_type": "code",
   "execution_count": 32,
   "metadata": {},
   "outputs": [
    {
     "data": {
      "text/plain": [
       "array([[ 0.,  0., -1.,  1.,  1.],\n",
       "       [ 0.,  0., -1.,  1.,  1.],\n",
       "       [ 0.,  0., -1., -1.,  0.],\n",
       "       ...,\n",
       "       [ 0.,  0., -1.,  0., -1.],\n",
       "       [ 0.,  0.,  0., -1., -1.],\n",
       "       [ 0.,  0.,  1.,  0.,  0.]])"
      ]
     },
     "execution_count": 32,
     "metadata": {},
     "output_type": "execute_result"
    }
   ],
   "source": [
    "L_dev"
   ]
  },
  {
   "cell_type": "code",
   "execution_count": 33,
   "metadata": {},
   "outputs": [
    {
     "data": {
      "text/plain": [
       "array([ 1., -1., -1., -1., -1.,  1., -1., -1., -1.,  1.,  1., -1.,  1.,\n",
       "       -1.,  1., -1., -1., -1.,  1., -1.,  1.,  1., -1.,  1., -1.,  1.,\n",
       "        1., -1., -1., -1., -1., -1.,  1.,  1., -1.,  1., -1., -1.,  1.,\n",
       "        1.,  1., -1.,  1.,  1., -1., -1., -1.,  1., -1., -1., -1., -1.,\n",
       "        1., -1.,  1.,  1., -1., -1., -1.,  1., -1.,  1.,  1.,  1., -1.,\n",
       "       -1., -1., -1., -1.,  1., -1., -1., -1.,  1., -1., -1., -1.,  1.,\n",
       "       -1., -1.,  1., -1., -1., -1.,  1., -1.,  1., -1.,  1.,  1., -1.,\n",
       "        1., -1., -1.,  1., -1., -1., -1., -1.,  1.,  1., -1., -1., -1.,\n",
       "        1., -1.,  1., -1., -1., -1., -1.,  1., -1., -1., -1., -1., -1.,\n",
       "       -1., -1., -1., -1.,  1.,  1.,  1., -1.,  1.,  1.,  1., -1.,  1.,\n",
       "        1., -1., -1.,  1.,  1., -1.,  1.,  1.,  1., -1.,  1.,  1.,  1.,\n",
       "        1., -1.,  1., -1., -1., -1., -1.,  1., -1., -1.,  1.,  1., -1.,\n",
       "       -1., -1., -1.,  1.,  1.,  1.,  1., -1., -1., -1.,  1., -1., -1.,\n",
       "       -1.,  1., -1.,  1.,  1., -1., -1., -1.,  1., -1.,  1., -1., -1.,\n",
       "        1., -1.,  1., -1.,  1.,  1.,  1.,  1., -1., -1., -1., -1.,  1.,\n",
       "       -1.,  1.,  1., -1.,  1.,  1.,  1., -1., -1., -1., -1., -1.,  1.,\n",
       "        1., -1.,  1.,  1.,  1.,  1., -1.,  1., -1., -1., -1., -1., -1.,\n",
       "       -1., -1.,  1., -1., -1., -1.,  1.,  1., -1., -1.,  1.,  1.,  1.,\n",
       "        1.,  1., -1.,  1.,  1.,  1., -1., -1.,  1.,  1.,  1., -1., -1.,\n",
       "       -1.,  1., -1.,  1.,  1.,  1., -1., -1., -1., -1.,  1., -1.,  1.,\n",
       "        1., -1.,  1., -1.,  1., -1.,  1., -1.,  1., -1.,  1.,  1.,  1.,\n",
       "        1., -1., -1., -1.,  1., -1., -1.,  1.,  1., -1., -1., -1., -1.,\n",
       "        1., -1., -1., -1., -1., -1.,  1.,  1., -1.,  1., -1., -1., -1.,\n",
       "       -1.,  1., -1.,  1., -1.,  1., -1., -1., -1., -1.,  1.,  1.,  1.,\n",
       "        1., -1.,  1.,  1.,  1.,  1., -1., -1., -1., -1.,  1.,  1.,  1.,\n",
       "        1.,  1.,  1., -1.,  1., -1.,  1.,  1.,  1.,  1.,  1., -1., -1.,\n",
       "        1., -1., -1., -1.,  1., -1., -1., -1., -1., -1.,  1.,  1.,  1.,\n",
       "        1., -1., -1.,  1., -1.,  1., -1., -1., -1.,  1., -1.,  1.,  1.,\n",
       "        1., -1., -1.,  1., -1., -1.,  1.,  1., -1., -1., -1.,  1.,  1.,\n",
       "        1.,  1., -1., -1.,  1.,  1., -1., -1., -1., -1.,  1., -1.,  1.,\n",
       "       -1., -1., -1., -1., -1., -1., -1., -1., -1.,  1.,  1.,  1.,  1.,\n",
       "       -1.,  1.,  1., -1.,  1.,  1., -1., -1.,  1., -1.,  1., -1., -1.,\n",
       "        1.,  1.,  1.,  1.,  1.,  1., -1.,  1., -1., -1., -1., -1., -1.,\n",
       "        1.,  1.,  1., -1.,  1., -1.,  1.,  1., -1., -1., -1.,  1., -1.,\n",
       "       -1.,  1.,  1.,  1., -1.,  1.,  1., -1.,  1.,  1., -1., -1.,  1.,\n",
       "       -1., -1.,  1., -1., -1., -1.,  1.,  1., -1.,  1.,  1.,  1., -1.,\n",
       "       -1., -1.,  1., -1., -1.,  1.,  1., -1.,  1., -1., -1., -1., -1.,\n",
       "        1.,  1.,  1.,  1.,  1., -1., -1.,  1.,  1., -1.,  1.,  1.,  1.,\n",
       "        1., -1.,  1., -1.,  1.,  1.])"
      ]
     },
     "execution_count": 33,
     "metadata": {},
     "output_type": "execute_result"
    }
   ],
   "source": [
    "Y_dev"
   ]
  },
  {
   "cell_type": "code",
   "execution_count": null,
   "metadata": {},
   "outputs": [],
   "source": []
  }
 ],
 "metadata": {
  "kernelspec": {
   "display_name": "TensorFlow-GPU",
   "language": "python",
   "name": "tf-gpu"
  },
  "language_info": {
   "codemirror_mode": {
    "name": "ipython",
    "version": 3
   },
   "file_extension": ".py",
   "mimetype": "text/x-python",
   "name": "python",
   "nbconvert_exporter": "python",
   "pygments_lexer": "ipython3",
   "version": "3.7.6"
  }
 },
 "nbformat": 4,
 "nbformat_minor": 2
}
