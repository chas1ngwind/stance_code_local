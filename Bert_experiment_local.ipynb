{
 "cells": [
  {
   "cell_type": "code",
   "execution_count": 1,
   "metadata": {},
   "outputs": [],
   "source": [
    "import torch\n",
    "import random\n",
    "import numpy as np\n",
    "import os\n",
    "from tqdm import tqdm, trange\n",
    "# torch.cuda.empty_cache()\n",
    "from torch.utils.data import TensorDataset, DataLoader, RandomSampler, SequentialSampler\n",
    "from pytorch_pretrained_bert.optimization import BertAdam"
   ]
  },
  {
   "cell_type": "code",
   "execution_count": 2,
   "metadata": {},
   "outputs": [],
   "source": [
    "from run_classifier import ColaProcessor, MrpcProcessor, logger, convert_examples_to_features,\\\n",
    "    set_optimizer_params_grad, copy_optimizer_params_to_model, accuracy, p_r_f1, tp_pcount_gcount"
   ]
  },
  {
   "cell_type": "code",
   "execution_count": 3,
   "metadata": {},
   "outputs": [
    {
     "name": "stdout",
     "output_type": "stream",
     "text": [
      "There are 1 GPU(s) available.\n",
      "We will use the GPU: GeForce GTX 1050 Ti\n"
     ]
    }
   ],
   "source": [
    "if torch.cuda.is_available():    \n",
    "\n",
    "    # Tell PyTorch to use the GPU.    \n",
    "    device = torch.device(\"cuda\")\n",
    "    n_gpu = torch.cuda.device_count()\n",
    "    \n",
    "    print('There are %d GPU(s) available.' % n_gpu)\n",
    "\n",
    "    print('We will use the GPU:', torch.cuda.get_device_name(0))\n",
    "\n",
    "# If not...\n",
    "else:\n",
    "    print('No GPU available, using the CPU instead.')\n",
    "    device = torch.device(\"cpu\")"
   ]
  },
  {
   "cell_type": "code",
   "execution_count": 4,
   "metadata": {},
   "outputs": [
    {
     "name": "stderr",
     "output_type": "stream",
     "text": [
      "06/23/2020 19:11:49 - INFO - transformers.file_utils -   PyTorch version 1.4.0 available.\n",
      "06/23/2020 19:11:51 - INFO - transformers.file_utils -   TensorFlow version 2.1.0 available.\n"
     ]
    }
   ],
   "source": [
    "from transformers import BertTokenizer, BertModel, AdamW, get_linear_schedule_with_warmup\n",
    "from pytorch_pretrained_bert.modeling import BertForSequenceClassification\n"
   ]
  },
  {
   "cell_type": "code",
   "execution_count": 5,
   "metadata": {},
   "outputs": [],
   "source": [
    "# import logging\n",
    "# logging.basicConfig(level=logging.INFO)"
   ]
  },
  {
   "cell_type": "code",
   "execution_count": 6,
   "metadata": {},
   "outputs": [],
   "source": [
    "# def train_and_test(data_dir, bert_model=\"bert-base-uncased\", task_name=None,\n",
    "#                    output_dir=None, max_seq_length=128, do_train=False, do_eval=False, do_lower_case=False,\n",
    "#                    train_batch_size=32, eval_batch_size=8, learning_rate=5e-5, num_train_epochs=3,\n",
    "#                    warmup_proportion=0.1,no_cuda=False, local_rank=-1, seed=42, gradient_accumulation_steps=1,\n",
    "#                    optimize_on_cpu=False, fp16=False, loss_scale=128, saved_model=\"\"):"
   ]
  },
  {
   "cell_type": "code",
   "execution_count": 7,
   "metadata": {},
   "outputs": [
    {
     "name": "stderr",
     "output_type": "stream",
     "text": [
      "05/22/2020 15:44:36 - INFO - transformers.tokenization_utils -   loading file https://s3.amazonaws.com/models.huggingface.co/bert/bert-base-uncased-vocab.txt from cache at C:\\Users\\arsen\\.cache\\torch\\transformers\\26bc1ad6c0ac742e9b52263248f6d0f00068293b33709fae12320c0e35ccfbbb.542ce4285a40d23a559526243235df47c5f75c197f04f37d1a0c124c32c9a084\n"
     ]
    }
   ],
   "source": [
    "tokenizer = BertTokenizer.from_pretrained('bert-base-uncased')"
   ]
  },
  {
   "cell_type": "code",
   "execution_count": 8,
   "metadata": {},
   "outputs": [
    {
     "name": "stderr",
     "output_type": "stream",
     "text": [
      "05/21/2020 12:42:52 - INFO - pytorch_pretrained_bert.modeling -   loading archive file https://s3.amazonaws.com/models.huggingface.co/bert/bert-base-uncased.tar.gz from cache at C:\\Users\\arsen\\.pytorch_pretrained_bert\\9c41111e2de84547a463fd39217199738d1e3deb72d4fec4399e6e241983c6f0.ae3cef932725ca7a30cdcb93fc6e09150a55e2a130ec7af63975a16c153ae2ba\n",
      "05/21/2020 12:42:52 - INFO - pytorch_pretrained_bert.modeling -   extracting archive file C:\\Users\\arsen\\.pytorch_pretrained_bert\\9c41111e2de84547a463fd39217199738d1e3deb72d4fec4399e6e241983c6f0.ae3cef932725ca7a30cdcb93fc6e09150a55e2a130ec7af63975a16c153ae2ba to temp dir C:\\Users\\arsen\\AppData\\Local\\Temp\\tmpd0kymw7h\n",
      "05/21/2020 12:42:57 - INFO - pytorch_pretrained_bert.modeling -   Model config {\n",
      "  \"attention_probs_dropout_prob\": 0.1,\n",
      "  \"hidden_act\": \"gelu\",\n",
      "  \"hidden_dropout_prob\": 0.1,\n",
      "  \"hidden_size\": 768,\n",
      "  \"initializer_range\": 0.02,\n",
      "  \"intermediate_size\": 3072,\n",
      "  \"max_position_embeddings\": 512,\n",
      "  \"num_attention_heads\": 12,\n",
      "  \"num_hidden_layers\": 12,\n",
      "  \"type_vocab_size\": 2,\n",
      "  \"vocab_size\": 30522\n",
      "}\n",
      "\n",
      "05/21/2020 12:42:59 - INFO - pytorch_pretrained_bert.modeling -   Weights of BertForSequenceClassification not initialized from pretrained model: ['classifier.weight', 'classifier.bias']\n",
      "05/21/2020 12:42:59 - INFO - pytorch_pretrained_bert.modeling -   Weights from pretrained model not used in BertForSequenceClassification: ['cls.predictions.bias', 'cls.predictions.transform.dense.weight', 'cls.predictions.transform.dense.bias', 'cls.predictions.decoder.weight', 'cls.seq_relationship.weight', 'cls.seq_relationship.bias', 'cls.predictions.transform.LayerNorm.weight', 'cls.predictions.transform.LayerNorm.bias']\n"
     ]
    },
    {
     "data": {
      "text/plain": [
       "BertForSequenceClassification(\n",
       "  (bert): BertModel(\n",
       "    (embeddings): BertEmbeddings(\n",
       "      (word_embeddings): Embedding(30522, 768, padding_idx=0)\n",
       "      (position_embeddings): Embedding(512, 768)\n",
       "      (token_type_embeddings): Embedding(2, 768)\n",
       "      (LayerNorm): BertLayerNorm()\n",
       "      (dropout): Dropout(p=0.1, inplace=False)\n",
       "    )\n",
       "    (encoder): BertEncoder(\n",
       "      (layer): ModuleList(\n",
       "        (0): BertLayer(\n",
       "          (attention): BertAttention(\n",
       "            (self): BertSelfAttention(\n",
       "              (query): Linear(in_features=768, out_features=768, bias=True)\n",
       "              (key): Linear(in_features=768, out_features=768, bias=True)\n",
       "              (value): Linear(in_features=768, out_features=768, bias=True)\n",
       "              (dropout): Dropout(p=0.1, inplace=False)\n",
       "            )\n",
       "            (output): BertSelfOutput(\n",
       "              (dense): Linear(in_features=768, out_features=768, bias=True)\n",
       "              (LayerNorm): BertLayerNorm()\n",
       "              (dropout): Dropout(p=0.1, inplace=False)\n",
       "            )\n",
       "          )\n",
       "          (intermediate): BertIntermediate(\n",
       "            (dense): Linear(in_features=768, out_features=3072, bias=True)\n",
       "          )\n",
       "          (output): BertOutput(\n",
       "            (dense): Linear(in_features=3072, out_features=768, bias=True)\n",
       "            (LayerNorm): BertLayerNorm()\n",
       "            (dropout): Dropout(p=0.1, inplace=False)\n",
       "          )\n",
       "        )\n",
       "        (1): BertLayer(\n",
       "          (attention): BertAttention(\n",
       "            (self): BertSelfAttention(\n",
       "              (query): Linear(in_features=768, out_features=768, bias=True)\n",
       "              (key): Linear(in_features=768, out_features=768, bias=True)\n",
       "              (value): Linear(in_features=768, out_features=768, bias=True)\n",
       "              (dropout): Dropout(p=0.1, inplace=False)\n",
       "            )\n",
       "            (output): BertSelfOutput(\n",
       "              (dense): Linear(in_features=768, out_features=768, bias=True)\n",
       "              (LayerNorm): BertLayerNorm()\n",
       "              (dropout): Dropout(p=0.1, inplace=False)\n",
       "            )\n",
       "          )\n",
       "          (intermediate): BertIntermediate(\n",
       "            (dense): Linear(in_features=768, out_features=3072, bias=True)\n",
       "          )\n",
       "          (output): BertOutput(\n",
       "            (dense): Linear(in_features=3072, out_features=768, bias=True)\n",
       "            (LayerNorm): BertLayerNorm()\n",
       "            (dropout): Dropout(p=0.1, inplace=False)\n",
       "          )\n",
       "        )\n",
       "        (2): BertLayer(\n",
       "          (attention): BertAttention(\n",
       "            (self): BertSelfAttention(\n",
       "              (query): Linear(in_features=768, out_features=768, bias=True)\n",
       "              (key): Linear(in_features=768, out_features=768, bias=True)\n",
       "              (value): Linear(in_features=768, out_features=768, bias=True)\n",
       "              (dropout): Dropout(p=0.1, inplace=False)\n",
       "            )\n",
       "            (output): BertSelfOutput(\n",
       "              (dense): Linear(in_features=768, out_features=768, bias=True)\n",
       "              (LayerNorm): BertLayerNorm()\n",
       "              (dropout): Dropout(p=0.1, inplace=False)\n",
       "            )\n",
       "          )\n",
       "          (intermediate): BertIntermediate(\n",
       "            (dense): Linear(in_features=768, out_features=3072, bias=True)\n",
       "          )\n",
       "          (output): BertOutput(\n",
       "            (dense): Linear(in_features=3072, out_features=768, bias=True)\n",
       "            (LayerNorm): BertLayerNorm()\n",
       "            (dropout): Dropout(p=0.1, inplace=False)\n",
       "          )\n",
       "        )\n",
       "        (3): BertLayer(\n",
       "          (attention): BertAttention(\n",
       "            (self): BertSelfAttention(\n",
       "              (query): Linear(in_features=768, out_features=768, bias=True)\n",
       "              (key): Linear(in_features=768, out_features=768, bias=True)\n",
       "              (value): Linear(in_features=768, out_features=768, bias=True)\n",
       "              (dropout): Dropout(p=0.1, inplace=False)\n",
       "            )\n",
       "            (output): BertSelfOutput(\n",
       "              (dense): Linear(in_features=768, out_features=768, bias=True)\n",
       "              (LayerNorm): BertLayerNorm()\n",
       "              (dropout): Dropout(p=0.1, inplace=False)\n",
       "            )\n",
       "          )\n",
       "          (intermediate): BertIntermediate(\n",
       "            (dense): Linear(in_features=768, out_features=3072, bias=True)\n",
       "          )\n",
       "          (output): BertOutput(\n",
       "            (dense): Linear(in_features=3072, out_features=768, bias=True)\n",
       "            (LayerNorm): BertLayerNorm()\n",
       "            (dropout): Dropout(p=0.1, inplace=False)\n",
       "          )\n",
       "        )\n",
       "        (4): BertLayer(\n",
       "          (attention): BertAttention(\n",
       "            (self): BertSelfAttention(\n",
       "              (query): Linear(in_features=768, out_features=768, bias=True)\n",
       "              (key): Linear(in_features=768, out_features=768, bias=True)\n",
       "              (value): Linear(in_features=768, out_features=768, bias=True)\n",
       "              (dropout): Dropout(p=0.1, inplace=False)\n",
       "            )\n",
       "            (output): BertSelfOutput(\n",
       "              (dense): Linear(in_features=768, out_features=768, bias=True)\n",
       "              (LayerNorm): BertLayerNorm()\n",
       "              (dropout): Dropout(p=0.1, inplace=False)\n",
       "            )\n",
       "          )\n",
       "          (intermediate): BertIntermediate(\n",
       "            (dense): Linear(in_features=768, out_features=3072, bias=True)\n",
       "          )\n",
       "          (output): BertOutput(\n",
       "            (dense): Linear(in_features=3072, out_features=768, bias=True)\n",
       "            (LayerNorm): BertLayerNorm()\n",
       "            (dropout): Dropout(p=0.1, inplace=False)\n",
       "          )\n",
       "        )\n",
       "        (5): BertLayer(\n",
       "          (attention): BertAttention(\n",
       "            (self): BertSelfAttention(\n",
       "              (query): Linear(in_features=768, out_features=768, bias=True)\n",
       "              (key): Linear(in_features=768, out_features=768, bias=True)\n",
       "              (value): Linear(in_features=768, out_features=768, bias=True)\n",
       "              (dropout): Dropout(p=0.1, inplace=False)\n",
       "            )\n",
       "            (output): BertSelfOutput(\n",
       "              (dense): Linear(in_features=768, out_features=768, bias=True)\n",
       "              (LayerNorm): BertLayerNorm()\n",
       "              (dropout): Dropout(p=0.1, inplace=False)\n",
       "            )\n",
       "          )\n",
       "          (intermediate): BertIntermediate(\n",
       "            (dense): Linear(in_features=768, out_features=3072, bias=True)\n",
       "          )\n",
       "          (output): BertOutput(\n",
       "            (dense): Linear(in_features=3072, out_features=768, bias=True)\n",
       "            (LayerNorm): BertLayerNorm()\n",
       "            (dropout): Dropout(p=0.1, inplace=False)\n",
       "          )\n",
       "        )\n",
       "        (6): BertLayer(\n",
       "          (attention): BertAttention(\n",
       "            (self): BertSelfAttention(\n",
       "              (query): Linear(in_features=768, out_features=768, bias=True)\n",
       "              (key): Linear(in_features=768, out_features=768, bias=True)\n",
       "              (value): Linear(in_features=768, out_features=768, bias=True)\n",
       "              (dropout): Dropout(p=0.1, inplace=False)\n",
       "            )\n",
       "            (output): BertSelfOutput(\n",
       "              (dense): Linear(in_features=768, out_features=768, bias=True)\n",
       "              (LayerNorm): BertLayerNorm()\n",
       "              (dropout): Dropout(p=0.1, inplace=False)\n",
       "            )\n",
       "          )\n",
       "          (intermediate): BertIntermediate(\n",
       "            (dense): Linear(in_features=768, out_features=3072, bias=True)\n",
       "          )\n",
       "          (output): BertOutput(\n",
       "            (dense): Linear(in_features=3072, out_features=768, bias=True)\n",
       "            (LayerNorm): BertLayerNorm()\n",
       "            (dropout): Dropout(p=0.1, inplace=False)\n",
       "          )\n",
       "        )\n",
       "        (7): BertLayer(\n",
       "          (attention): BertAttention(\n",
       "            (self): BertSelfAttention(\n",
       "              (query): Linear(in_features=768, out_features=768, bias=True)\n",
       "              (key): Linear(in_features=768, out_features=768, bias=True)\n",
       "              (value): Linear(in_features=768, out_features=768, bias=True)\n",
       "              (dropout): Dropout(p=0.1, inplace=False)\n",
       "            )\n",
       "            (output): BertSelfOutput(\n",
       "              (dense): Linear(in_features=768, out_features=768, bias=True)\n",
       "              (LayerNorm): BertLayerNorm()\n",
       "              (dropout): Dropout(p=0.1, inplace=False)\n",
       "            )\n",
       "          )\n",
       "          (intermediate): BertIntermediate(\n",
       "            (dense): Linear(in_features=768, out_features=3072, bias=True)\n",
       "          )\n",
       "          (output): BertOutput(\n",
       "            (dense): Linear(in_features=3072, out_features=768, bias=True)\n",
       "            (LayerNorm): BertLayerNorm()\n",
       "            (dropout): Dropout(p=0.1, inplace=False)\n",
       "          )\n",
       "        )\n",
       "        (8): BertLayer(\n",
       "          (attention): BertAttention(\n",
       "            (self): BertSelfAttention(\n",
       "              (query): Linear(in_features=768, out_features=768, bias=True)\n",
       "              (key): Linear(in_features=768, out_features=768, bias=True)\n",
       "              (value): Linear(in_features=768, out_features=768, bias=True)\n",
       "              (dropout): Dropout(p=0.1, inplace=False)\n",
       "            )\n",
       "            (output): BertSelfOutput(\n",
       "              (dense): Linear(in_features=768, out_features=768, bias=True)\n",
       "              (LayerNorm): BertLayerNorm()\n",
       "              (dropout): Dropout(p=0.1, inplace=False)\n",
       "            )\n",
       "          )\n",
       "          (intermediate): BertIntermediate(\n",
       "            (dense): Linear(in_features=768, out_features=3072, bias=True)\n",
       "          )\n",
       "          (output): BertOutput(\n",
       "            (dense): Linear(in_features=3072, out_features=768, bias=True)\n",
       "            (LayerNorm): BertLayerNorm()\n",
       "            (dropout): Dropout(p=0.1, inplace=False)\n",
       "          )\n",
       "        )\n",
       "        (9): BertLayer(\n",
       "          (attention): BertAttention(\n",
       "            (self): BertSelfAttention(\n",
       "              (query): Linear(in_features=768, out_features=768, bias=True)\n",
       "              (key): Linear(in_features=768, out_features=768, bias=True)\n",
       "              (value): Linear(in_features=768, out_features=768, bias=True)\n",
       "              (dropout): Dropout(p=0.1, inplace=False)\n",
       "            )\n",
       "            (output): BertSelfOutput(\n",
       "              (dense): Linear(in_features=768, out_features=768, bias=True)\n",
       "              (LayerNorm): BertLayerNorm()\n",
       "              (dropout): Dropout(p=0.1, inplace=False)\n",
       "            )\n",
       "          )\n",
       "          (intermediate): BertIntermediate(\n",
       "            (dense): Linear(in_features=768, out_features=3072, bias=True)\n",
       "          )\n",
       "          (output): BertOutput(\n",
       "            (dense): Linear(in_features=3072, out_features=768, bias=True)\n",
       "            (LayerNorm): BertLayerNorm()\n",
       "            (dropout): Dropout(p=0.1, inplace=False)\n",
       "          )\n",
       "        )\n",
       "        (10): BertLayer(\n",
       "          (attention): BertAttention(\n",
       "            (self): BertSelfAttention(\n",
       "              (query): Linear(in_features=768, out_features=768, bias=True)\n",
       "              (key): Linear(in_features=768, out_features=768, bias=True)\n",
       "              (value): Linear(in_features=768, out_features=768, bias=True)\n",
       "              (dropout): Dropout(p=0.1, inplace=False)\n",
       "            )\n",
       "            (output): BertSelfOutput(\n",
       "              (dense): Linear(in_features=768, out_features=768, bias=True)\n",
       "              (LayerNorm): BertLayerNorm()\n",
       "              (dropout): Dropout(p=0.1, inplace=False)\n",
       "            )\n",
       "          )\n",
       "          (intermediate): BertIntermediate(\n",
       "            (dense): Linear(in_features=768, out_features=3072, bias=True)\n",
       "          )\n",
       "          (output): BertOutput(\n",
       "            (dense): Linear(in_features=3072, out_features=768, bias=True)\n",
       "            (LayerNorm): BertLayerNorm()\n",
       "            (dropout): Dropout(p=0.1, inplace=False)\n",
       "          )\n",
       "        )\n",
       "        (11): BertLayer(\n",
       "          (attention): BertAttention(\n",
       "            (self): BertSelfAttention(\n",
       "              (query): Linear(in_features=768, out_features=768, bias=True)\n",
       "              (key): Linear(in_features=768, out_features=768, bias=True)\n",
       "              (value): Linear(in_features=768, out_features=768, bias=True)\n",
       "              (dropout): Dropout(p=0.1, inplace=False)\n",
       "            )\n",
       "            (output): BertSelfOutput(\n",
       "              (dense): Linear(in_features=768, out_features=768, bias=True)\n",
       "              (LayerNorm): BertLayerNorm()\n",
       "              (dropout): Dropout(p=0.1, inplace=False)\n",
       "            )\n",
       "          )\n",
       "          (intermediate): BertIntermediate(\n",
       "            (dense): Linear(in_features=768, out_features=3072, bias=True)\n",
       "          )\n",
       "          (output): BertOutput(\n",
       "            (dense): Linear(in_features=3072, out_features=768, bias=True)\n",
       "            (LayerNorm): BertLayerNorm()\n",
       "            (dropout): Dropout(p=0.1, inplace=False)\n",
       "          )\n",
       "        )\n",
       "      )\n",
       "    )\n",
       "    (pooler): BertPooler(\n",
       "      (dense): Linear(in_features=768, out_features=768, bias=True)\n",
       "      (activation): Tanh()\n",
       "    )\n",
       "  )\n",
       "  (dropout): Dropout(p=0.1, inplace=False)\n",
       "  (classifier): Linear(in_features=768, out_features=2, bias=True)\n",
       ")"
      ]
     },
     "execution_count": 8,
     "metadata": {},
     "output_type": "execute_result"
    }
   ],
   "source": [
    "# Prepare model \n",
    "model = BertForSequenceClassification.from_pretrained('bert-base-uncased',num_labels = 2)\n",
    "model.to(device)\n",
    "\n",
    "# model = BertModel.from_pretrained('bert-base-uncased')"
   ]
  },
  {
   "cell_type": "code",
   "execution_count": 9,
   "metadata": {},
   "outputs": [
    {
     "name": "stdout",
     "output_type": "stream",
     "text": [
      "The BERT model has 201 different named parameters.\n",
      "\n",
      "==== Embedding Layer ====\n",
      "\n",
      "bert.embeddings.word_embeddings.weight                  (30522, 768)\n",
      "bert.embeddings.position_embeddings.weight                (512, 768)\n",
      "bert.embeddings.token_type_embeddings.weight                (2, 768)\n",
      "bert.embeddings.LayerNorm.weight                              (768,)\n",
      "bert.embeddings.LayerNorm.bias                                (768,)\n",
      "\n",
      "==== First Transformer ====\n",
      "\n",
      "bert.encoder.layer.0.attention.self.query.weight          (768, 768)\n",
      "bert.encoder.layer.0.attention.self.query.bias                (768,)\n",
      "bert.encoder.layer.0.attention.self.key.weight            (768, 768)\n",
      "bert.encoder.layer.0.attention.self.key.bias                  (768,)\n",
      "bert.encoder.layer.0.attention.self.value.weight          (768, 768)\n",
      "bert.encoder.layer.0.attention.self.value.bias                (768,)\n",
      "bert.encoder.layer.0.attention.output.dense.weight        (768, 768)\n",
      "bert.encoder.layer.0.attention.output.dense.bias              (768,)\n",
      "bert.encoder.layer.0.attention.output.LayerNorm.weight        (768,)\n",
      "bert.encoder.layer.0.attention.output.LayerNorm.bias          (768,)\n",
      "bert.encoder.layer.0.intermediate.dense.weight           (3072, 768)\n",
      "bert.encoder.layer.0.intermediate.dense.bias                 (3072,)\n",
      "bert.encoder.layer.0.output.dense.weight                 (768, 3072)\n",
      "bert.encoder.layer.0.output.dense.bias                        (768,)\n",
      "bert.encoder.layer.0.output.LayerNorm.weight                  (768,)\n",
      "bert.encoder.layer.0.output.LayerNorm.bias                    (768,)\n",
      "\n",
      "==== Output Layer ====\n",
      "\n",
      "bert.pooler.dense.weight                                  (768, 768)\n",
      "bert.pooler.dense.bias                                        (768,)\n",
      "classifier.weight                                           (2, 768)\n",
      "classifier.bias                                                 (2,)\n"
     ]
    }
   ],
   "source": [
    "# Get all of the model's parameters as a list of tuples.\n",
    "params = list(model.named_parameters())\n",
    "\n",
    "print('The BERT model has {:} different named parameters.\\n'.format(len(params)))\n",
    "\n",
    "print('==== Embedding Layer ====\\n')\n",
    "\n",
    "for p in params[0:5]:\n",
    "    print(\"{:<55} {:>12}\".format(p[0], str(tuple(p[1].size()))))\n",
    "\n",
    "print('\\n==== First Transformer ====\\n')\n",
    "\n",
    "for p in params[5:21]:\n",
    "    print(\"{:<55} {:>12}\".format(p[0], str(tuple(p[1].size()))))\n",
    "    \n",
    "print('\\n==== Output Layer ====\\n')\n",
    "\n",
    "for p in params[-4:]:\n",
    "    print(\"{:<55} {:>12}\".format(p[0], str(tuple(p[1].size()))))"
   ]
  },
  {
   "cell_type": "code",
   "execution_count": 14,
   "metadata": {},
   "outputs": [
    {
     "name": "stderr",
     "output_type": "stream",
     "text": [
      "05/21/2020 13:28:59 - INFO - run_classifier -   LOOKING AT D:/Projects/Stance/Dataset/BertForOppositeClassification/train.tsv\n"
     ]
    }
   ],
   "source": [
    "data_dir = \"D:/Projects/Stance/Dataset/BertForOppositeClassification/\"\n",
    "# data_dir = \"D:/Jupyter/data/dataset/perspective_stances/\"\n",
    "data_dir_output = \"D:/Projects/Stance/Models/dataExpantion/\"\n",
    "output_dir=data_dir_output\n",
    "max_seq_length=32\n",
    "max_grad_norm = 1.0\n",
    "num_training_steps = 1000\n",
    "num_warmup_steps = 100\n",
    "warmup_proportion = float(num_warmup_steps) / float(num_training_steps)  # 0.1\n",
    "# warmup_proportion = 0.1\n",
    "train_batch_size=32\n",
    "eval_batch_size=8\n",
    "learning_rate=5e-5\n",
    "num_train_epochs=3\n",
    "local_rank=-1\n",
    "seed=42\n",
    "gradient_accumulation_steps=1\n",
    "loss_scale=128\n",
    "train_batch_size = int(train_batch_size / gradient_accumulation_steps)\n",
    "\n",
    "processors = {\n",
    "        \"mrpc\": MrpcProcessor,\n",
    "    }\n",
    "\n",
    "random.seed(seed)\n",
    "np.random.seed(seed)\n",
    "torch.manual_seed(seed)\n",
    "torch.cuda.manual_seed_all(seed)\n",
    "    \n",
    "os.makedirs(output_dir, exist_ok=True)\n",
    "processor = processors['mrpc']()\n",
    "label_list = processor.get_labels()\n",
    "\n",
    "train_examples = processor.get_train_examples(data_dir)\n",
    "num_train_steps = int(\n",
    "    len(train_examples) / train_batch_size / gradient_accumulation_steps * num_train_epochs)\n",
    "\n",
    "##preprare optimizer\n",
    "param_optimizer = list(model.named_parameters())\n",
    "no_decay = ['bias', 'gamma', 'beta']\n",
    "optimizer_grouped_parameters = [\n",
    "    {'params': [p for n, p in param_optimizer if not any(nd in n for nd in no_decay)], 'weight_decay_rate': 0.01},\n",
    "    {'params': [p for n, p in param_optimizer if any(nd in n for nd in no_decay)], 'weight_decay_rate': 0.0}\n",
    "    ]\n",
    "t_total = num_train_steps\n",
    "optimizer = BertAdam(optimizer_grouped_parameters,\n",
    "                         lr=learning_rate,\n",
    "                         warmup=warmup_proportion,\n",
    "                         t_total=t_total)\n",
    "# optimizer = AdamW(optimizer_grouped_parameters,\n",
    "#                   lr = learning_rate, # args.learning_rate - default is 5e-5, our notebook had 2e-5\n",
    "#                   eps = 1e-8, # args.adam_epsilon  - default is 1e-8.\n",
    "#                   correct_bias=False\n",
    "#                 )\n",
    "\n",
    "# scheduler = get_linear_schedule_with_warmup(optimizer, num_warmup_steps=num_warmup_steps, num_training_steps=t_total)  # PyTorch scheduler"
   ]
  },
  {
   "cell_type": "code",
   "execution_count": 15,
   "metadata": {
    "scrolled": false
   },
   "outputs": [
    {
     "name": "stderr",
     "output_type": "stream",
     "text": [
      "05/21/2020 13:29:01 - INFO - run_classifier -   *** Example ***\n",
      "05/21/2020 13:29:01 - INFO - run_classifier -   guid: train-1\n",
      "05/21/2020 13:29:01 - INFO - run_classifier -   tokens: [CLS] male infant ci ##rc ##um ##cision is tan ##tam ##ount to child abuse [SEP] parents have the right to use their best judgment , in the light of medical advice [SEP]\n",
      "05/21/2020 13:29:01 - INFO - run_classifier -   input_ids: 101 3287 10527 25022 11890 2819 28472 2003 9092 15464 21723 2000 2775 6905 102 3008 2031 1996 2157 2000 2224 2037 2190 8689 1010 1999 1996 2422 1997 2966 6040 102\n",
      "05/21/2020 13:29:01 - INFO - run_classifier -   input_mask: 1 1 1 1 1 1 1 1 1 1 1 1 1 1 1 1 1 1 1 1 1 1 1 1 1 1 1 1 1 1 1 1\n",
      "05/21/2020 13:29:01 - INFO - run_classifier -   segment_ids: 0 0 0 0 0 0 0 0 0 0 0 0 0 0 0 1 1 1 1 1 1 1 1 1 1 1 1 1 1 1 1 1\n",
      "05/21/2020 13:29:01 - INFO - run_classifier -   label: 0 (id = 0)\n",
      "05/21/2020 13:29:01 - INFO - run_classifier -   *** Example ***\n",
      "05/21/2020 13:29:01 - INFO - run_classifier -   guid: train-2\n",
      "05/21/2020 13:29:01 - INFO - run_classifier -   tokens: [CLS] male infant ci ##rc ##um ##cision is tan ##tam ##ount to child abuse [SEP] parents know what best for th ##ier child [SEP]\n",
      "05/21/2020 13:29:01 - INFO - run_classifier -   input_ids: 101 3287 10527 25022 11890 2819 28472 2003 9092 15464 21723 2000 2775 6905 102 3008 2113 2054 2190 2005 16215 3771 2775 102 0 0 0 0 0 0 0 0\n",
      "05/21/2020 13:29:01 - INFO - run_classifier -   input_mask: 1 1 1 1 1 1 1 1 1 1 1 1 1 1 1 1 1 1 1 1 1 1 1 1 0 0 0 0 0 0 0 0\n",
      "05/21/2020 13:29:01 - INFO - run_classifier -   segment_ids: 0 0 0 0 0 0 0 0 0 0 0 0 0 0 0 1 1 1 1 1 1 1 1 1 0 0 0 0 0 0 0 0\n",
      "05/21/2020 13:29:01 - INFO - run_classifier -   label: 0 (id = 0)\n",
      "05/21/2020 13:29:01 - INFO - run_classifier -   *** Example ***\n",
      "05/21/2020 13:29:01 - INFO - run_classifier -   guid: train-3\n",
      "05/21/2020 13:29:01 - INFO - run_classifier -   tokens: [CLS] male infant ci ##rc ##um ##cision is tan ##tam ##ount to child abuse [SEP] parents have the right to make the decisions for their child [SEP]\n",
      "05/21/2020 13:29:01 - INFO - run_classifier -   input_ids: 101 3287 10527 25022 11890 2819 28472 2003 9092 15464 21723 2000 2775 6905 102 3008 2031 1996 2157 2000 2191 1996 6567 2005 2037 2775 102 0 0 0 0 0\n",
      "05/21/2020 13:29:01 - INFO - run_classifier -   input_mask: 1 1 1 1 1 1 1 1 1 1 1 1 1 1 1 1 1 1 1 1 1 1 1 1 1 1 1 0 0 0 0 0\n",
      "05/21/2020 13:29:01 - INFO - run_classifier -   segment_ids: 0 0 0 0 0 0 0 0 0 0 0 0 0 0 0 1 1 1 1 1 1 1 1 1 1 1 1 0 0 0 0 0\n",
      "05/21/2020 13:29:01 - INFO - run_classifier -   label: 0 (id = 0)\n",
      "05/21/2020 13:29:01 - INFO - run_classifier -   *** Example ***\n",
      "05/21/2020 13:29:01 - INFO - run_classifier -   guid: train-4\n",
      "05/21/2020 13:29:01 - INFO - run_classifier -   tokens: [CLS] punishment should fit the criminal [SEP] it will cause less re - offenders . [SEP]\n",
      "05/21/2020 13:29:01 - INFO - run_classifier -   input_ids: 101 7750 2323 4906 1996 4735 102 2009 2097 3426 2625 2128 1011 19591 1012 102 0 0 0 0 0 0 0 0 0 0 0 0 0 0 0 0\n",
      "05/21/2020 13:29:01 - INFO - run_classifier -   input_mask: 1 1 1 1 1 1 1 1 1 1 1 1 1 1 1 1 0 0 0 0 0 0 0 0 0 0 0 0 0 0 0 0\n",
      "05/21/2020 13:29:01 - INFO - run_classifier -   segment_ids: 0 0 0 0 0 0 0 1 1 1 1 1 1 1 1 1 0 0 0 0 0 0 0 0 0 0 0 0 0 0 0 0\n",
      "05/21/2020 13:29:01 - INFO - run_classifier -   label: 1 (id = 1)\n",
      "05/21/2020 13:29:01 - INFO - run_classifier -   *** Example ***\n",
      "05/21/2020 13:29:01 - INFO - run_classifier -   guid: train-5\n",
      "05/21/2020 13:29:01 - INFO - run_classifier -   tokens: [CLS] punishment should fit the criminal [SEP] adequate punishment reduces future offenses . [SEP]\n",
      "05/21/2020 13:29:01 - INFO - run_classifier -   input_ids: 101 7750 2323 4906 1996 4735 102 11706 7750 13416 2925 25173 1012 102 0 0 0 0 0 0 0 0 0 0 0 0 0 0 0 0 0 0\n",
      "05/21/2020 13:29:01 - INFO - run_classifier -   input_mask: 1 1 1 1 1 1 1 1 1 1 1 1 1 1 0 0 0 0 0 0 0 0 0 0 0 0 0 0 0 0 0 0\n",
      "05/21/2020 13:29:01 - INFO - run_classifier -   segment_ids: 0 0 0 0 0 0 0 1 1 1 1 1 1 1 0 0 0 0 0 0 0 0 0 0 0 0 0 0 0 0 0 0\n",
      "05/21/2020 13:29:01 - INFO - run_classifier -   label: 1 (id = 1)\n",
      "05/21/2020 13:29:08 - INFO - run_classifier -   ***** Running training *****\n",
      "05/21/2020 13:29:08 - INFO - run_classifier -     Num examples = 13277\n",
      "05/21/2020 13:29:08 - INFO - run_classifier -     Batch size = 32\n",
      "05/21/2020 13:29:08 - INFO - run_classifier -     Num steps = 1244\n"
     ]
    }
   ],
   "source": [
    "global_step = 0\n",
    "train_features = convert_examples_to_features(train_examples, label_list, max_seq_length, tokenizer)\n",
    "logger.info(\"***** Running training *****\")\n",
    "logger.info(\"  Num examples = %d\", len(train_examples))\n",
    "logger.info(\"  Batch size = %d\", train_batch_size)\n",
    "logger.info(\"  Num steps = %d\", num_train_steps)\n",
    "all_input_ids = torch.tensor([f.input_ids for f in train_features], dtype=torch.long)\n",
    "all_input_mask = torch.tensor([f.input_mask for f in train_features], dtype=torch.long)\n",
    "all_segment_ids = torch.tensor([f.segment_ids for f in train_features], dtype=torch.long)\n",
    "all_label_ids = torch.tensor([f.label_id for f in train_features], dtype=torch.long)\n",
    "\n",
    "train_data = TensorDataset(all_input_ids, all_input_mask, all_segment_ids, all_label_ids)\n",
    "train_sampler = RandomSampler(train_data)\n",
    "train_dataloader = DataLoader(train_data, sampler=train_sampler, batch_size=train_batch_size)"
   ]
  },
  {
   "cell_type": "code",
   "execution_count": 16,
   "metadata": {},
   "outputs": [
    {
     "name": "stderr",
     "output_type": "stream",
     "text": [
      "Epoch:   0%|                                                                                     | 0/3 [00:00<?, ?it/s]\n",
      "Iteration:   0%|                                                                               | 0/415 [00:00<?, ?it/s]\u001b[A"
     ]
    },
    {
     "name": "stdout",
     "output_type": "stream",
     "text": [
      "tensor(0.6337, device='cuda:0', grad_fn=<NllLossBackward>)\n",
      "0.6337074041366577\n"
     ]
    },
    {
     "name": "stderr",
     "output_type": "stream",
     "text": [
      "\n",
      "Iteration:   0%|▏                                                                      | 1/415 [00:00<05:00,  1.38it/s]\u001b[A"
     ]
    },
    {
     "name": "stdout",
     "output_type": "stream",
     "text": [
      "tensor(0.5101, device='cuda:0', grad_fn=<NllLossBackward>)\n",
      "0.510123074054718\n"
     ]
    },
    {
     "name": "stderr",
     "output_type": "stream",
     "text": [
      "\n",
      "Iteration:   0%|▎                                                                      | 2/415 [00:01<04:55,  1.40it/s]\u001b[A"
     ]
    },
    {
     "name": "stdout",
     "output_type": "stream",
     "text": [
      "tensor(0.5015, device='cuda:0', grad_fn=<NllLossBackward>)\n",
      "0.5014696717262268\n"
     ]
    },
    {
     "name": "stderr",
     "output_type": "stream",
     "text": [
      "\n",
      "Iteration:   1%|▌                                                                      | 3/415 [00:02<04:51,  1.41it/s]\u001b[A"
     ]
    },
    {
     "name": "stdout",
     "output_type": "stream",
     "text": [
      "tensor(0.4727, device='cuda:0', grad_fn=<NllLossBackward>)\n",
      "0.47266536951065063\n"
     ]
    },
    {
     "name": "stderr",
     "output_type": "stream",
     "text": [
      "\n",
      "Iteration:   1%|▋                                                                      | 4/415 [00:02<04:46,  1.43it/s]\u001b[A"
     ]
    },
    {
     "name": "stdout",
     "output_type": "stream",
     "text": [
      "tensor(0.6011, device='cuda:0', grad_fn=<NllLossBackward>)\n",
      "0.6011034846305847\n"
     ]
    },
    {
     "name": "stderr",
     "output_type": "stream",
     "text": [
      "\n",
      "Iteration:   1%|▊                                                                      | 5/415 [00:03<04:43,  1.45it/s]\u001b[A"
     ]
    },
    {
     "name": "stdout",
     "output_type": "stream",
     "text": [
      "tensor(0.7056, device='cuda:0', grad_fn=<NllLossBackward>)\n",
      "0.7056450247764587\n"
     ]
    },
    {
     "name": "stderr",
     "output_type": "stream",
     "text": [
      "\n",
      "Iteration:   1%|█                                                                      | 6/415 [00:04<04:40,  1.46it/s]\u001b[A"
     ]
    },
    {
     "name": "stdout",
     "output_type": "stream",
     "text": [
      "tensor(0.4018, device='cuda:0', grad_fn=<NllLossBackward>)\n",
      "0.40181851387023926\n"
     ]
    },
    {
     "name": "stderr",
     "output_type": "stream",
     "text": [
      "\n",
      "Iteration:   2%|█▏                                                                     | 7/415 [00:04<04:39,  1.46it/s]\u001b[A"
     ]
    },
    {
     "name": "stdout",
     "output_type": "stream",
     "text": [
      "tensor(0.6254, device='cuda:0', grad_fn=<NllLossBackward>)\n",
      "0.6253997087478638\n"
     ]
    },
    {
     "name": "stderr",
     "output_type": "stream",
     "text": [
      "\n",
      "Iteration:   2%|█▎                                                                     | 8/415 [00:05<04:38,  1.46it/s]\u001b[A"
     ]
    },
    {
     "name": "stdout",
     "output_type": "stream",
     "text": [
      "tensor(0.8554, device='cuda:0', grad_fn=<NllLossBackward>)\n",
      "0.8554226160049438\n"
     ]
    },
    {
     "name": "stderr",
     "output_type": "stream",
     "text": [
      "\n",
      "Iteration:   2%|█▌                                                                     | 9/415 [00:06<04:37,  1.46it/s]\u001b[A"
     ]
    },
    {
     "name": "stdout",
     "output_type": "stream",
     "text": [
      "tensor(0.7775, device='cuda:0', grad_fn=<NllLossBackward>)\n",
      "0.777462899684906\n"
     ]
    },
    {
     "name": "stderr",
     "output_type": "stream",
     "text": [
      "\n",
      "Iteration:   2%|█▋                                                                    | 10/415 [00:06<04:36,  1.46it/s]\u001b[A"
     ]
    },
    {
     "name": "stdout",
     "output_type": "stream",
     "text": [
      "tensor(0.6358, device='cuda:0', grad_fn=<NllLossBackward>)\n",
      "0.6358155608177185\n"
     ]
    },
    {
     "name": "stderr",
     "output_type": "stream",
     "text": [
      "\n",
      "Iteration:   3%|█▊                                                                    | 11/415 [00:07<04:35,  1.47it/s]\u001b[A"
     ]
    },
    {
     "name": "stdout",
     "output_type": "stream",
     "text": [
      "tensor(0.7916, device='cuda:0', grad_fn=<NllLossBackward>)\n",
      "0.7915506362915039\n"
     ]
    },
    {
     "name": "stderr",
     "output_type": "stream",
     "text": [
      "\n",
      "Iteration:   3%|██                                                                    | 12/415 [00:08<04:33,  1.47it/s]\u001b[A"
     ]
    },
    {
     "name": "stdout",
     "output_type": "stream",
     "text": [
      "tensor(0.4837, device='cuda:0', grad_fn=<NllLossBackward>)\n",
      "0.4836887717247009\n"
     ]
    },
    {
     "name": "stderr",
     "output_type": "stream",
     "text": [
      "\n",
      "Iteration:   3%|██▏                                                                   | 13/415 [00:08<04:32,  1.47it/s]\u001b[A"
     ]
    },
    {
     "name": "stdout",
     "output_type": "stream",
     "text": [
      "tensor(0.5440, device='cuda:0', grad_fn=<NllLossBackward>)\n",
      "0.5439602732658386\n"
     ]
    },
    {
     "name": "stderr",
     "output_type": "stream",
     "text": [
      "\n",
      "Iteration:   3%|██▎                                                                   | 14/415 [00:09<04:32,  1.47it/s]\u001b[A"
     ]
    },
    {
     "name": "stdout",
     "output_type": "stream",
     "text": [
      "tensor(0.6595, device='cuda:0', grad_fn=<NllLossBackward>)\n",
      "0.659456193447113\n"
     ]
    },
    {
     "name": "stderr",
     "output_type": "stream",
     "text": [
      "\n",
      "Iteration:   4%|██▌                                                                   | 15/415 [00:10<04:32,  1.47it/s]\u001b[A"
     ]
    },
    {
     "name": "stdout",
     "output_type": "stream",
     "text": [
      "tensor(0.5432, device='cuda:0', grad_fn=<NllLossBackward>)\n",
      "0.5431581139564514\n"
     ]
    },
    {
     "name": "stderr",
     "output_type": "stream",
     "text": [
      "\n",
      "Iteration:   4%|██▋                                                                   | 16/415 [00:10<04:30,  1.47it/s]\u001b[A"
     ]
    },
    {
     "name": "stdout",
     "output_type": "stream",
     "text": [
      "tensor(0.6099, device='cuda:0', grad_fn=<NllLossBackward>)\n",
      "0.6098856329917908\n"
     ]
    },
    {
     "name": "stderr",
     "output_type": "stream",
     "text": [
      "\n",
      "Iteration:   4%|██▊                                                                   | 17/415 [00:11<04:29,  1.48it/s]\u001b[A"
     ]
    },
    {
     "name": "stdout",
     "output_type": "stream",
     "text": [
      "tensor(0.6813, device='cuda:0', grad_fn=<NllLossBackward>)\n",
      "0.6813104748725891\n"
     ]
    },
    {
     "name": "stderr",
     "output_type": "stream",
     "text": [
      "\n",
      "Iteration:   4%|███                                                                   | 18/415 [00:12<04:29,  1.47it/s]\u001b[A"
     ]
    },
    {
     "name": "stdout",
     "output_type": "stream",
     "text": [
      "tensor(0.6437, device='cuda:0', grad_fn=<NllLossBackward>)\n",
      "0.6436854600906372\n"
     ]
    },
    {
     "name": "stderr",
     "output_type": "stream",
     "text": [
      "\n",
      "Iteration:   5%|███▏                                                                  | 19/415 [00:12<04:29,  1.47it/s]\u001b[A"
     ]
    },
    {
     "name": "stdout",
     "output_type": "stream",
     "text": [
      "tensor(0.6956, device='cuda:0', grad_fn=<NllLossBackward>)\n",
      "0.6956433653831482\n"
     ]
    },
    {
     "name": "stderr",
     "output_type": "stream",
     "text": [
      "\n",
      "Iteration:   5%|███▎                                                                  | 20/415 [00:13<04:27,  1.47it/s]\u001b[A"
     ]
    },
    {
     "name": "stdout",
     "output_type": "stream",
     "text": [
      "tensor(0.5016, device='cuda:0', grad_fn=<NllLossBackward>)\n",
      "0.5015546083450317\n"
     ]
    },
    {
     "name": "stderr",
     "output_type": "stream",
     "text": [
      "\n",
      "Iteration:   5%|███▌                                                                  | 21/415 [00:14<04:27,  1.48it/s]\u001b[A"
     ]
    },
    {
     "name": "stdout",
     "output_type": "stream",
     "text": [
      "tensor(0.7051, device='cuda:0', grad_fn=<NllLossBackward>)\n",
      "0.7050790190696716\n"
     ]
    },
    {
     "name": "stderr",
     "output_type": "stream",
     "text": [
      "\n",
      "Iteration:   5%|███▋                                                                  | 22/415 [00:15<04:26,  1.47it/s]\u001b[A"
     ]
    },
    {
     "name": "stdout",
     "output_type": "stream",
     "text": [
      "tensor(0.6706, device='cuda:0', grad_fn=<NllLossBackward>)\n",
      "0.6705963015556335\n"
     ]
    },
    {
     "name": "stderr",
     "output_type": "stream",
     "text": [
      "\n",
      "Iteration:   6%|███▉                                                                  | 23/415 [00:15<04:26,  1.47it/s]\u001b[A"
     ]
    },
    {
     "name": "stdout",
     "output_type": "stream",
     "text": [
      "tensor(0.8736, device='cuda:0', grad_fn=<NllLossBackward>)\n",
      "0.8735988140106201\n"
     ]
    },
    {
     "name": "stderr",
     "output_type": "stream",
     "text": [
      "\n",
      "Iteration:   6%|████                                                                  | 24/415 [00:16<04:25,  1.47it/s]\u001b[A"
     ]
    },
    {
     "name": "stdout",
     "output_type": "stream",
     "text": [
      "tensor(0.6557, device='cuda:0', grad_fn=<NllLossBackward>)\n",
      "0.6557289361953735\n"
     ]
    },
    {
     "name": "stderr",
     "output_type": "stream",
     "text": [
      "\n",
      "Iteration:   6%|████▏                                                                 | 25/415 [00:17<04:24,  1.47it/s]\u001b[A"
     ]
    },
    {
     "name": "stdout",
     "output_type": "stream",
     "text": [
      "tensor(0.7505, device='cuda:0', grad_fn=<NllLossBackward>)\n",
      "0.7505316734313965\n"
     ]
    },
    {
     "name": "stderr",
     "output_type": "stream",
     "text": [
      "\n",
      "Iteration:   6%|████▍                                                                 | 26/415 [00:17<04:25,  1.47it/s]\u001b[A"
     ]
    },
    {
     "name": "stdout",
     "output_type": "stream",
     "text": [
      "tensor(0.5298, device='cuda:0', grad_fn=<NllLossBackward>)\n",
      "0.529839813709259\n"
     ]
    },
    {
     "name": "stderr",
     "output_type": "stream",
     "text": [
      "\n",
      "Iteration:   7%|████▌                                                                 | 27/415 [00:18<04:24,  1.47it/s]\u001b[A"
     ]
    },
    {
     "name": "stdout",
     "output_type": "stream",
     "text": [
      "tensor(0.5750, device='cuda:0', grad_fn=<NllLossBackward>)\n",
      "0.5749586820602417\n"
     ]
    },
    {
     "name": "stderr",
     "output_type": "stream",
     "text": [
      "\n",
      "Iteration:   7%|████▋                                                                 | 28/415 [00:19<04:23,  1.47it/s]\u001b[A"
     ]
    },
    {
     "name": "stdout",
     "output_type": "stream",
     "text": [
      "tensor(0.6300, device='cuda:0', grad_fn=<NllLossBackward>)\n",
      "0.6299853920936584\n"
     ]
    },
    {
     "name": "stderr",
     "output_type": "stream",
     "text": [
      "\n",
      "Iteration:   7%|████▉                                                                 | 29/415 [00:19<04:25,  1.45it/s]\u001b[A"
     ]
    },
    {
     "name": "stdout",
     "output_type": "stream",
     "text": [
      "tensor(0.7330, device='cuda:0', grad_fn=<NllLossBackward>)\n",
      "0.7329940795898438\n"
     ]
    },
    {
     "name": "stderr",
     "output_type": "stream",
     "text": [
      "\n",
      "Iteration:   7%|█████                                                                 | 30/415 [00:20<04:24,  1.46it/s]\u001b[A"
     ]
    },
    {
     "name": "stdout",
     "output_type": "stream",
     "text": [
      "tensor(0.5764, device='cuda:0', grad_fn=<NllLossBackward>)\n",
      "0.5764061808586121\n"
     ]
    },
    {
     "name": "stderr",
     "output_type": "stream",
     "text": [
      "\n",
      "Iteration:   7%|█████▏                                                                | 31/415 [00:21<04:23,  1.46it/s]\u001b[A"
     ]
    },
    {
     "name": "stdout",
     "output_type": "stream",
     "text": [
      "tensor(0.6241, device='cuda:0', grad_fn=<NllLossBackward>)\n",
      "0.6240524649620056\n"
     ]
    },
    {
     "name": "stderr",
     "output_type": "stream",
     "text": [
      "\n",
      "Iteration:   8%|█████▍                                                                | 32/415 [00:21<04:22,  1.46it/s]\u001b[A"
     ]
    },
    {
     "name": "stdout",
     "output_type": "stream",
     "text": [
      "tensor(0.6070, device='cuda:0', grad_fn=<NllLossBackward>)\n",
      "0.6070200204849243\n"
     ]
    },
    {
     "name": "stderr",
     "output_type": "stream",
     "text": [
      "\n",
      "Iteration:   8%|█████▌                                                                | 33/415 [00:22<04:20,  1.46it/s]\u001b[A"
     ]
    },
    {
     "name": "stdout",
     "output_type": "stream",
     "text": [
      "tensor(0.5687, device='cuda:0', grad_fn=<NllLossBackward>)\n",
      "0.5686730742454529\n"
     ]
    },
    {
     "name": "stderr",
     "output_type": "stream",
     "text": [
      "\n",
      "Iteration:   8%|█████▋                                                                | 34/415 [00:23<04:20,  1.46it/s]\u001b[A"
     ]
    },
    {
     "name": "stdout",
     "output_type": "stream",
     "text": [
      "tensor(0.5919, device='cuda:0', grad_fn=<NllLossBackward>)\n",
      "0.5919309258460999\n"
     ]
    },
    {
     "name": "stderr",
     "output_type": "stream",
     "text": [
      "\n",
      "Iteration:   8%|█████▉                                                                | 35/415 [00:23<04:20,  1.46it/s]\u001b[A"
     ]
    },
    {
     "name": "stdout",
     "output_type": "stream",
     "text": [
      "tensor(0.5815, device='cuda:0', grad_fn=<NllLossBackward>)\n",
      "0.5814608931541443\n"
     ]
    },
    {
     "name": "stderr",
     "output_type": "stream",
     "text": [
      "\n",
      "Iteration:   9%|██████                                                                | 36/415 [00:24<04:20,  1.46it/s]\u001b[A"
     ]
    },
    {
     "name": "stdout",
     "output_type": "stream",
     "text": [
      "tensor(0.6256, device='cuda:0', grad_fn=<NllLossBackward>)\n",
      "0.6256245970726013\n"
     ]
    },
    {
     "name": "stderr",
     "output_type": "stream",
     "text": [
      "\n",
      "Iteration:   9%|██████▏                                                               | 37/415 [00:25<04:19,  1.45it/s]\u001b[A"
     ]
    },
    {
     "name": "stdout",
     "output_type": "stream",
     "text": [
      "tensor(0.5165, device='cuda:0', grad_fn=<NllLossBackward>)\n",
      "0.5165102481842041\n"
     ]
    },
    {
     "name": "stderr",
     "output_type": "stream",
     "text": [
      "\n",
      "Iteration:   9%|██████▍                                                               | 38/415 [00:25<04:19,  1.45it/s]\u001b[A"
     ]
    },
    {
     "name": "stdout",
     "output_type": "stream",
     "text": [
      "tensor(0.6375, device='cuda:0', grad_fn=<NllLossBackward>)\n",
      "0.6375222206115723\n"
     ]
    },
    {
     "name": "stderr",
     "output_type": "stream",
     "text": [
      "\n",
      "Iteration:   9%|██████▌                                                               | 39/415 [00:26<04:18,  1.45it/s]\u001b[A"
     ]
    },
    {
     "name": "stdout",
     "output_type": "stream",
     "text": [
      "tensor(0.6860, device='cuda:0', grad_fn=<NllLossBackward>)\n",
      "0.6860039234161377\n"
     ]
    },
    {
     "name": "stderr",
     "output_type": "stream",
     "text": [
      "\n",
      "Iteration:  10%|██████▋                                                               | 40/415 [00:27<04:18,  1.45it/s]\u001b[A"
     ]
    },
    {
     "name": "stdout",
     "output_type": "stream",
     "text": [
      "tensor(0.7428, device='cuda:0', grad_fn=<NllLossBackward>)\n",
      "0.7428112030029297\n"
     ]
    },
    {
     "name": "stderr",
     "output_type": "stream",
     "text": [
      "\n",
      "Iteration:  10%|██████▉                                                               | 41/415 [00:28<04:18,  1.45it/s]\u001b[A"
     ]
    },
    {
     "name": "stdout",
     "output_type": "stream",
     "text": [
      "tensor(0.6075, device='cuda:0', grad_fn=<NllLossBackward>)\n",
      "0.6074999570846558\n"
     ]
    },
    {
     "name": "stderr",
     "output_type": "stream",
     "text": [
      "\n",
      "Iteration:  10%|███████                                                               | 42/415 [00:28<04:17,  1.45it/s]\u001b[A"
     ]
    },
    {
     "name": "stdout",
     "output_type": "stream",
     "text": [
      "tensor(0.5765, device='cuda:0', grad_fn=<NllLossBackward>)\n",
      "0.5765144228935242\n"
     ]
    },
    {
     "name": "stderr",
     "output_type": "stream",
     "text": [
      "\n",
      "Iteration:  10%|███████▎                                                              | 43/415 [00:29<04:19,  1.43it/s]\u001b[A"
     ]
    },
    {
     "name": "stdout",
     "output_type": "stream",
     "text": [
      "tensor(0.6382, device='cuda:0', grad_fn=<NllLossBackward>)\n",
      "0.6381612420082092\n"
     ]
    },
    {
     "name": "stderr",
     "output_type": "stream",
     "text": [
      "\n",
      "Iteration:  11%|███████▍                                                              | 44/415 [00:30<04:17,  1.44it/s]\u001b[A"
     ]
    },
    {
     "name": "stdout",
     "output_type": "stream",
     "text": [
      "tensor(0.6434, device='cuda:0', grad_fn=<NllLossBackward>)\n",
      "0.6434146165847778\n"
     ]
    },
    {
     "name": "stderr",
     "output_type": "stream",
     "text": [
      "\n",
      "Iteration:  11%|███████▌                                                              | 45/415 [00:30<04:18,  1.43it/s]\u001b[A"
     ]
    },
    {
     "name": "stdout",
     "output_type": "stream",
     "text": [
      "tensor(0.5744, device='cuda:0', grad_fn=<NllLossBackward>)\n",
      "0.5743687152862549\n"
     ]
    },
    {
     "name": "stderr",
     "output_type": "stream",
     "text": [
      "\n",
      "Iteration:  11%|███████▊                                                              | 46/415 [00:31<04:18,  1.43it/s]\u001b[A"
     ]
    },
    {
     "name": "stdout",
     "output_type": "stream",
     "text": [
      "tensor(0.6411, device='cuda:0', grad_fn=<NllLossBackward>)\n",
      "0.6411269307136536\n"
     ]
    },
    {
     "name": "stderr",
     "output_type": "stream",
     "text": [
      "\n",
      "Iteration:  11%|███████▉                                                              | 47/415 [00:32<04:18,  1.42it/s]\u001b[A"
     ]
    },
    {
     "name": "stdout",
     "output_type": "stream",
     "text": [
      "tensor(0.4849, device='cuda:0', grad_fn=<NllLossBackward>)\n",
      "0.48491865396499634\n"
     ]
    },
    {
     "name": "stderr",
     "output_type": "stream",
     "text": [
      "\n",
      "Iteration:  12%|████████                                                              | 48/415 [00:32<04:18,  1.42it/s]\u001b[A"
     ]
    },
    {
     "name": "stdout",
     "output_type": "stream",
     "text": [
      "tensor(0.4369, device='cuda:0', grad_fn=<NllLossBackward>)\n",
      "0.4368695616722107\n"
     ]
    },
    {
     "name": "stderr",
     "output_type": "stream",
     "text": [
      "\n",
      "Iteration:  12%|████████▎                                                             | 49/415 [00:33<04:16,  1.42it/s]\u001b[A"
     ]
    },
    {
     "name": "stdout",
     "output_type": "stream",
     "text": [
      "tensor(0.6930, device='cuda:0', grad_fn=<NllLossBackward>)\n",
      "0.693020761013031\n"
     ]
    },
    {
     "name": "stderr",
     "output_type": "stream",
     "text": [
      "\n",
      "Iteration:  12%|████████▍                                                             | 50/415 [00:34<04:16,  1.42it/s]\u001b[A"
     ]
    },
    {
     "name": "stdout",
     "output_type": "stream",
     "text": [
      "tensor(0.4375, device='cuda:0', grad_fn=<NllLossBackward>)\n",
      "0.43748053908348083\n"
     ]
    },
    {
     "name": "stderr",
     "output_type": "stream",
     "text": [
      "\n",
      "Iteration:  12%|████████▌                                                             | 51/415 [00:35<04:16,  1.42it/s]\u001b[A"
     ]
    },
    {
     "name": "stdout",
     "output_type": "stream",
     "text": [
      "tensor(0.5043, device='cuda:0', grad_fn=<NllLossBackward>)\n",
      "0.504252016544342\n"
     ]
    },
    {
     "name": "stderr",
     "output_type": "stream",
     "text": [
      "\n",
      "Iteration:  13%|████████▊                                                             | 52/415 [00:35<04:16,  1.41it/s]\u001b[A"
     ]
    },
    {
     "name": "stdout",
     "output_type": "stream",
     "text": [
      "tensor(0.5870, device='cuda:0', grad_fn=<NllLossBackward>)\n",
      "0.5869505405426025\n"
     ]
    },
    {
     "name": "stderr",
     "output_type": "stream",
     "text": [
      "\n",
      "Iteration:  13%|████████▉                                                             | 53/415 [00:36<04:16,  1.41it/s]\u001b[A"
     ]
    },
    {
     "name": "stdout",
     "output_type": "stream",
     "text": [
      "tensor(0.5062, device='cuda:0', grad_fn=<NllLossBackward>)\n",
      "0.5062167048454285\n"
     ]
    },
    {
     "name": "stderr",
     "output_type": "stream",
     "text": [
      "\n",
      "Iteration:  13%|█████████                                                             | 54/415 [00:37<04:15,  1.41it/s]\u001b[A"
     ]
    },
    {
     "name": "stdout",
     "output_type": "stream",
     "text": [
      "tensor(0.6283, device='cuda:0', grad_fn=<NllLossBackward>)\n",
      "0.6282557845115662\n"
     ]
    },
    {
     "name": "stderr",
     "output_type": "stream",
     "text": [
      "\n",
      "Iteration:  13%|█████████▎                                                            | 55/415 [00:37<04:14,  1.42it/s]\u001b[A"
     ]
    },
    {
     "name": "stdout",
     "output_type": "stream",
     "text": [
      "tensor(0.5380, device='cuda:0', grad_fn=<NllLossBackward>)\n",
      "0.5380182266235352\n"
     ]
    },
    {
     "name": "stderr",
     "output_type": "stream",
     "text": [
      "\n",
      "Iteration:  13%|█████████▍                                                            | 56/415 [00:38<04:15,  1.41it/s]\u001b[A"
     ]
    },
    {
     "name": "stdout",
     "output_type": "stream",
     "text": [
      "tensor(0.6197, device='cuda:0', grad_fn=<NllLossBackward>)\n",
      "0.6197277307510376\n"
     ]
    },
    {
     "name": "stderr",
     "output_type": "stream",
     "text": [
      "\n",
      "Iteration:  14%|█████████▌                                                            | 57/415 [00:39<04:14,  1.41it/s]\u001b[A"
     ]
    },
    {
     "name": "stdout",
     "output_type": "stream",
     "text": [
      "tensor(0.6075, device='cuda:0', grad_fn=<NllLossBackward>)\n",
      "0.6075024008750916\n"
     ]
    },
    {
     "name": "stderr",
     "output_type": "stream",
     "text": [
      "\n",
      "Iteration:  14%|█████████▊                                                            | 58/415 [00:40<04:13,  1.41it/s]\u001b[A"
     ]
    },
    {
     "name": "stdout",
     "output_type": "stream",
     "text": [
      "tensor(0.5606, device='cuda:0', grad_fn=<NllLossBackward>)\n",
      "0.5606284737586975\n"
     ]
    },
    {
     "name": "stderr",
     "output_type": "stream",
     "text": [
      "\n",
      "Iteration:  14%|█████████▉                                                            | 59/415 [00:40<04:12,  1.41it/s]\u001b[A"
     ]
    },
    {
     "name": "stdout",
     "output_type": "stream",
     "text": [
      "tensor(0.5652, device='cuda:0', grad_fn=<NllLossBackward>)\n",
      "0.5651935338973999\n"
     ]
    },
    {
     "name": "stderr",
     "output_type": "stream",
     "text": [
      "\n",
      "Iteration:  14%|██████████                                                            | 60/415 [00:41<04:11,  1.41it/s]\u001b[A"
     ]
    },
    {
     "name": "stdout",
     "output_type": "stream",
     "text": [
      "tensor(0.6215, device='cuda:0', grad_fn=<NllLossBackward>)\n",
      "0.6214739680290222\n"
     ]
    },
    {
     "name": "stderr",
     "output_type": "stream",
     "text": [
      "\n",
      "Iteration:  15%|██████████▎                                                           | 61/415 [00:42<04:11,  1.41it/s]\u001b[A"
     ]
    },
    {
     "name": "stdout",
     "output_type": "stream",
     "text": [
      "tensor(0.5208, device='cuda:0', grad_fn=<NllLossBackward>)\n",
      "0.5207816362380981\n"
     ]
    },
    {
     "name": "stderr",
     "output_type": "stream",
     "text": [
      "\n",
      "Iteration:  15%|██████████▍                                                           | 62/415 [00:42<04:11,  1.41it/s]\u001b[A"
     ]
    },
    {
     "name": "stdout",
     "output_type": "stream",
     "text": [
      "tensor(0.7322, device='cuda:0', grad_fn=<NllLossBackward>)\n",
      "0.7322471737861633\n"
     ]
    },
    {
     "name": "stderr",
     "output_type": "stream",
     "text": [
      "\n",
      "Iteration:  15%|██████████▋                                                           | 63/415 [00:43<04:10,  1.40it/s]\u001b[A"
     ]
    },
    {
     "name": "stdout",
     "output_type": "stream",
     "text": [
      "tensor(0.4390, device='cuda:0', grad_fn=<NllLossBackward>)\n",
      "0.439040869474411\n"
     ]
    },
    {
     "name": "stderr",
     "output_type": "stream",
     "text": [
      "\n",
      "Iteration:  15%|██████████▊                                                           | 64/415 [00:44<04:10,  1.40it/s]\u001b[A"
     ]
    },
    {
     "name": "stdout",
     "output_type": "stream",
     "text": [
      "tensor(0.6748, device='cuda:0', grad_fn=<NllLossBackward>)\n",
      "0.6748287081718445\n"
     ]
    },
    {
     "name": "stderr",
     "output_type": "stream",
     "text": [
      "\n",
      "Iteration:  16%|██████████▉                                                           | 65/415 [00:45<04:09,  1.40it/s]\u001b[A"
     ]
    },
    {
     "name": "stdout",
     "output_type": "stream",
     "text": [
      "tensor(0.6639, device='cuda:0', grad_fn=<NllLossBackward>)\n",
      "0.6639488935470581\n"
     ]
    },
    {
     "name": "stderr",
     "output_type": "stream",
     "text": [
      "\n",
      "Iteration:  16%|███████████▏                                                          | 66/415 [00:45<04:10,  1.39it/s]\u001b[A"
     ]
    },
    {
     "name": "stdout",
     "output_type": "stream",
     "text": [
      "tensor(0.5669, device='cuda:0', grad_fn=<NllLossBackward>)\n",
      "0.5669047832489014\n"
     ]
    },
    {
     "name": "stderr",
     "output_type": "stream",
     "text": [
      "\n",
      "Iteration:  16%|███████████▎                                                          | 67/415 [00:46<04:08,  1.40it/s]\u001b[A"
     ]
    },
    {
     "name": "stdout",
     "output_type": "stream",
     "text": [
      "tensor(0.6380, device='cuda:0', grad_fn=<NllLossBackward>)\n",
      "0.6380437016487122\n"
     ]
    },
    {
     "name": "stderr",
     "output_type": "stream",
     "text": [
      "\n",
      "Iteration:  16%|███████████▍                                                          | 68/415 [00:47<04:09,  1.39it/s]\u001b[A"
     ]
    },
    {
     "name": "stdout",
     "output_type": "stream",
     "text": [
      "tensor(0.5948, device='cuda:0', grad_fn=<NllLossBackward>)\n",
      "0.5947794318199158\n"
     ]
    },
    {
     "name": "stderr",
     "output_type": "stream",
     "text": [
      "\n",
      "Iteration:  17%|███████████▋                                                          | 69/415 [00:47<04:08,  1.39it/s]\u001b[A"
     ]
    },
    {
     "name": "stdout",
     "output_type": "stream",
     "text": [
      "tensor(0.6610, device='cuda:0', grad_fn=<NllLossBackward>)\n",
      "0.6610258221626282\n"
     ]
    },
    {
     "name": "stderr",
     "output_type": "stream",
     "text": [
      "\n",
      "Iteration:  17%|███████████▊                                                          | 70/415 [00:48<04:08,  1.39it/s]\u001b[A"
     ]
    },
    {
     "name": "stdout",
     "output_type": "stream",
     "text": [
      "tensor(0.5221, device='cuda:0', grad_fn=<NllLossBackward>)\n",
      "0.5220550298690796\n"
     ]
    },
    {
     "name": "stderr",
     "output_type": "stream",
     "text": [
      "\n",
      "Iteration:  17%|███████████▉                                                          | 71/415 [00:49<04:07,  1.39it/s]\u001b[A"
     ]
    },
    {
     "name": "stdout",
     "output_type": "stream",
     "text": [
      "tensor(0.6407, device='cuda:0', grad_fn=<NllLossBackward>)\n",
      "0.6407228112220764\n"
     ]
    },
    {
     "name": "stderr",
     "output_type": "stream",
     "text": [
      "\n",
      "Iteration:  17%|████████████▏                                                         | 72/415 [00:50<04:06,  1.39it/s]\u001b[A"
     ]
    },
    {
     "name": "stdout",
     "output_type": "stream",
     "text": [
      "tensor(0.6464, device='cuda:0', grad_fn=<NllLossBackward>)\n",
      "0.6464292407035828\n"
     ]
    },
    {
     "name": "stderr",
     "output_type": "stream",
     "text": [
      "\n",
      "Iteration:  18%|████████████▎                                                         | 73/415 [00:50<04:06,  1.39it/s]\u001b[A"
     ]
    },
    {
     "name": "stdout",
     "output_type": "stream",
     "text": [
      "tensor(0.5666, device='cuda:0', grad_fn=<NllLossBackward>)\n",
      "0.5665736198425293\n"
     ]
    },
    {
     "name": "stderr",
     "output_type": "stream",
     "text": [
      "\n",
      "Iteration:  18%|████████████▍                                                         | 74/415 [00:51<04:05,  1.39it/s]\u001b[A"
     ]
    },
    {
     "name": "stdout",
     "output_type": "stream",
     "text": [
      "tensor(0.7608, device='cuda:0', grad_fn=<NllLossBackward>)\n",
      "0.7608274221420288\n"
     ]
    },
    {
     "name": "stderr",
     "output_type": "stream",
     "text": [
      "\n",
      "Iteration:  18%|████████████▋                                                         | 75/415 [00:52<04:05,  1.39it/s]\u001b[A"
     ]
    },
    {
     "name": "stdout",
     "output_type": "stream",
     "text": [
      "tensor(0.5441, device='cuda:0', grad_fn=<NllLossBackward>)\n",
      "0.5440833568572998\n"
     ]
    },
    {
     "name": "stderr",
     "output_type": "stream",
     "text": [
      "\n",
      "Iteration:  18%|████████████▊                                                         | 76/415 [00:52<04:05,  1.38it/s]\u001b[A"
     ]
    },
    {
     "name": "stdout",
     "output_type": "stream",
     "text": [
      "tensor(0.6841, device='cuda:0', grad_fn=<NllLossBackward>)\n",
      "0.6841050982475281\n"
     ]
    },
    {
     "name": "stderr",
     "output_type": "stream",
     "text": [
      "\n",
      "Iteration:  19%|████████████▉                                                         | 77/415 [00:53<04:03,  1.39it/s]\u001b[A"
     ]
    },
    {
     "name": "stdout",
     "output_type": "stream",
     "text": [
      "tensor(0.6657, device='cuda:0', grad_fn=<NllLossBackward>)\n",
      "0.6656519770622253\n"
     ]
    },
    {
     "name": "stderr",
     "output_type": "stream",
     "text": [
      "\n",
      "Iteration:  19%|█████████████▏                                                        | 78/415 [00:54<04:04,  1.38it/s]\u001b[A"
     ]
    },
    {
     "name": "stdout",
     "output_type": "stream",
     "text": [
      "tensor(0.6071, device='cuda:0', grad_fn=<NllLossBackward>)\n",
      "0.6071061491966248\n"
     ]
    },
    {
     "name": "stderr",
     "output_type": "stream",
     "text": [
      "\n",
      "Iteration:  19%|█████████████▎                                                        | 79/415 [00:55<04:02,  1.38it/s]\u001b[A"
     ]
    },
    {
     "name": "stdout",
     "output_type": "stream",
     "text": [
      "tensor(0.6666, device='cuda:0', grad_fn=<NllLossBackward>)\n",
      "0.6665903925895691\n"
     ]
    },
    {
     "name": "stderr",
     "output_type": "stream",
     "text": [
      "\n",
      "Iteration:  19%|█████████████▍                                                        | 80/415 [00:55<04:03,  1.38it/s]\u001b[A"
     ]
    },
    {
     "name": "stdout",
     "output_type": "stream",
     "text": [
      "tensor(0.5652, device='cuda:0', grad_fn=<NllLossBackward>)\n",
      "0.565199077129364\n"
     ]
    },
    {
     "name": "stderr",
     "output_type": "stream",
     "text": [
      "\n",
      "Iteration:  20%|█████████████▋                                                        | 81/415 [00:56<04:03,  1.37it/s]\u001b[A"
     ]
    },
    {
     "name": "stdout",
     "output_type": "stream",
     "text": [
      "tensor(0.7825, device='cuda:0', grad_fn=<NllLossBackward>)\n",
      "0.7825462818145752\n"
     ]
    },
    {
     "name": "stderr",
     "output_type": "stream",
     "text": [
      "\n",
      "Iteration:  20%|█████████████▊                                                        | 82/415 [00:57<04:02,  1.37it/s]\u001b[A"
     ]
    },
    {
     "name": "stdout",
     "output_type": "stream",
     "text": [
      "tensor(0.6643, device='cuda:0', grad_fn=<NllLossBackward>)\n",
      "0.664280891418457\n"
     ]
    },
    {
     "name": "stderr",
     "output_type": "stream",
     "text": [
      "\n",
      "Iteration:  20%|██████████████                                                        | 83/415 [00:58<04:02,  1.37it/s]\u001b[A"
     ]
    },
    {
     "name": "stdout",
     "output_type": "stream",
     "text": [
      "tensor(0.6993, device='cuda:0', grad_fn=<NllLossBackward>)\n",
      "0.6992642283439636\n"
     ]
    },
    {
     "name": "stderr",
     "output_type": "stream",
     "text": [
      "\n",
      "Iteration:  20%|██████████████▏                                                       | 84/415 [00:58<04:01,  1.37it/s]\u001b[A"
     ]
    },
    {
     "name": "stdout",
     "output_type": "stream",
     "text": [
      "tensor(0.5700, device='cuda:0', grad_fn=<NllLossBackward>)\n",
      "0.5699799060821533\n"
     ]
    },
    {
     "name": "stderr",
     "output_type": "stream",
     "text": [
      "\n",
      "Iteration:  20%|██████████████▎                                                       | 85/415 [00:59<04:01,  1.37it/s]\u001b[A"
     ]
    },
    {
     "name": "stdout",
     "output_type": "stream",
     "text": [
      "tensor(0.6327, device='cuda:0', grad_fn=<NllLossBackward>)\n",
      "0.6326504349708557\n"
     ]
    },
    {
     "name": "stderr",
     "output_type": "stream",
     "text": [
      "\n",
      "Iteration:  21%|██████████████▌                                                       | 86/415 [01:00<04:00,  1.37it/s]\u001b[A"
     ]
    },
    {
     "name": "stdout",
     "output_type": "stream",
     "text": [
      "tensor(0.5216, device='cuda:0', grad_fn=<NllLossBackward>)\n",
      "0.5216144323348999\n"
     ]
    },
    {
     "name": "stderr",
     "output_type": "stream",
     "text": [
      "\n",
      "Iteration:  21%|██████████████▋                                                       | 87/415 [01:01<04:01,  1.36it/s]\u001b[A"
     ]
    },
    {
     "name": "stdout",
     "output_type": "stream",
     "text": [
      "tensor(0.6472, device='cuda:0', grad_fn=<NllLossBackward>)\n",
      "0.6471977829933167\n"
     ]
    },
    {
     "name": "stderr",
     "output_type": "stream",
     "text": [
      "\n",
      "Iteration:  21%|██████████████▊                                                       | 88/415 [01:01<03:59,  1.36it/s]\u001b[A"
     ]
    },
    {
     "name": "stdout",
     "output_type": "stream",
     "text": [
      "tensor(0.5602, device='cuda:0', grad_fn=<NllLossBackward>)\n",
      "0.560196578502655\n"
     ]
    },
    {
     "name": "stderr",
     "output_type": "stream",
     "text": [
      "\n",
      "Iteration:  21%|███████████████                                                       | 89/415 [01:02<03:59,  1.36it/s]\u001b[A"
     ]
    },
    {
     "name": "stdout",
     "output_type": "stream",
     "text": [
      "tensor(0.9002, device='cuda:0', grad_fn=<NllLossBackward>)\n",
      "0.900231659412384\n"
     ]
    },
    {
     "name": "stderr",
     "output_type": "stream",
     "text": [
      "\n",
      "Iteration:  22%|███████████████▏                                                      | 90/415 [01:03<03:59,  1.35it/s]\u001b[A"
     ]
    },
    {
     "name": "stdout",
     "output_type": "stream",
     "text": [
      "tensor(0.5337, device='cuda:0', grad_fn=<NllLossBackward>)\n",
      "0.5337142944335938\n"
     ]
    },
    {
     "name": "stderr",
     "output_type": "stream",
     "text": [
      "\n",
      "Iteration:  22%|███████████████▎                                                      | 91/415 [01:03<03:57,  1.36it/s]\u001b[A"
     ]
    },
    {
     "name": "stdout",
     "output_type": "stream",
     "text": [
      "tensor(0.5498, device='cuda:0', grad_fn=<NllLossBackward>)\n",
      "0.5497826337814331\n"
     ]
    },
    {
     "name": "stderr",
     "output_type": "stream",
     "text": [
      "\n",
      "Iteration:  22%|███████████████▌                                                      | 92/415 [01:04<03:57,  1.36it/s]\u001b[A"
     ]
    },
    {
     "name": "stdout",
     "output_type": "stream",
     "text": [
      "tensor(0.5220, device='cuda:0', grad_fn=<NllLossBackward>)\n",
      "0.5219932794570923\n"
     ]
    },
    {
     "name": "stderr",
     "output_type": "stream",
     "text": [
      "\n",
      "Iteration:  22%|███████████████▋                                                      | 93/415 [01:05<03:57,  1.36it/s]\u001b[A"
     ]
    },
    {
     "name": "stdout",
     "output_type": "stream",
     "text": [
      "tensor(0.5714, device='cuda:0', grad_fn=<NllLossBackward>)\n",
      "0.5714299082756042\n"
     ]
    },
    {
     "name": "stderr",
     "output_type": "stream",
     "text": [
      "\n",
      "Iteration:  23%|███████████████▊                                                      | 94/415 [01:06<03:57,  1.35it/s]\u001b[A"
     ]
    },
    {
     "name": "stdout",
     "output_type": "stream",
     "text": [
      "tensor(0.5719, device='cuda:0', grad_fn=<NllLossBackward>)\n",
      "0.5719417333602905\n"
     ]
    },
    {
     "name": "stderr",
     "output_type": "stream",
     "text": [
      "\n",
      "Iteration:  23%|████████████████                                                      | 95/415 [01:06<03:55,  1.36it/s]\u001b[A"
     ]
    },
    {
     "name": "stdout",
     "output_type": "stream",
     "text": [
      "tensor(0.6607, device='cuda:0', grad_fn=<NllLossBackward>)\n",
      "0.6607035994529724\n"
     ]
    },
    {
     "name": "stderr",
     "output_type": "stream",
     "text": [
      "\n",
      "Iteration:  23%|████████████████▏                                                     | 96/415 [01:07<03:55,  1.35it/s]\u001b[A"
     ]
    },
    {
     "name": "stdout",
     "output_type": "stream",
     "text": [
      "tensor(0.6589, device='cuda:0', grad_fn=<NllLossBackward>)\n",
      "0.6588533520698547\n"
     ]
    },
    {
     "name": "stderr",
     "output_type": "stream",
     "text": [
      "\n",
      "Iteration:  23%|████████████████▎                                                     | 97/415 [01:08<03:55,  1.35it/s]\u001b[A"
     ]
    },
    {
     "name": "stdout",
     "output_type": "stream",
     "text": [
      "tensor(0.4412, device='cuda:0', grad_fn=<NllLossBackward>)\n",
      "0.44115495681762695\n"
     ]
    },
    {
     "name": "stderr",
     "output_type": "stream",
     "text": [
      "\n",
      "Iteration:  24%|████████████████▌                                                     | 98/415 [01:09<03:54,  1.35it/s]\u001b[A"
     ]
    },
    {
     "name": "stdout",
     "output_type": "stream",
     "text": [
      "tensor(0.4699, device='cuda:0', grad_fn=<NllLossBackward>)\n",
      "0.46992167830467224\n"
     ]
    },
    {
     "name": "stderr",
     "output_type": "stream",
     "text": [
      "\n",
      "Iteration:  24%|████████████████▋                                                     | 99/415 [01:09<03:53,  1.35it/s]\u001b[A"
     ]
    },
    {
     "name": "stdout",
     "output_type": "stream",
     "text": [
      "tensor(0.6287, device='cuda:0', grad_fn=<NllLossBackward>)\n",
      "0.6287389993667603\n"
     ]
    },
    {
     "name": "stderr",
     "output_type": "stream",
     "text": [
      "\n",
      "Iteration:  24%|████████████████▋                                                    | 100/415 [01:10<03:55,  1.34it/s]\u001b[A"
     ]
    },
    {
     "name": "stdout",
     "output_type": "stream",
     "text": [
      "tensor(0.5475, device='cuda:0', grad_fn=<NllLossBackward>)\n",
      "0.5474762320518494\n"
     ]
    },
    {
     "name": "stderr",
     "output_type": "stream",
     "text": [
      "\n",
      "Iteration:  24%|████████████████▊                                                    | 101/415 [01:11<03:54,  1.34it/s]\u001b[A"
     ]
    },
    {
     "name": "stdout",
     "output_type": "stream",
     "text": [
      "tensor(0.5914, device='cuda:0', grad_fn=<NllLossBackward>)\n",
      "0.5913994312286377\n"
     ]
    },
    {
     "name": "stderr",
     "output_type": "stream",
     "text": [
      "\n",
      "Iteration:  25%|████████████████▉                                                    | 102/415 [01:12<03:52,  1.34it/s]\u001b[A"
     ]
    },
    {
     "name": "stdout",
     "output_type": "stream",
     "text": [
      "tensor(0.5943, device='cuda:0', grad_fn=<NllLossBackward>)\n",
      "0.5942943096160889\n"
     ]
    },
    {
     "name": "stderr",
     "output_type": "stream",
     "text": [
      "\n",
      "Iteration:  25%|█████████████████▏                                                   | 103/415 [01:12<03:51,  1.35it/s]\u001b[A"
     ]
    },
    {
     "name": "stdout",
     "output_type": "stream",
     "text": [
      "tensor(0.6301, device='cuda:0', grad_fn=<NllLossBackward>)\n",
      "0.6301075220108032\n"
     ]
    },
    {
     "name": "stderr",
     "output_type": "stream",
     "text": [
      "\n",
      "Iteration:  25%|█████████████████▎                                                   | 104/415 [01:13<03:50,  1.35it/s]\u001b[A"
     ]
    },
    {
     "name": "stdout",
     "output_type": "stream",
     "text": [
      "tensor(0.5316, device='cuda:0', grad_fn=<NllLossBackward>)\n",
      "0.5315815210342407\n"
     ]
    },
    {
     "name": "stderr",
     "output_type": "stream",
     "text": [
      "\n",
      "Iteration:  25%|█████████████████▍                                                   | 105/415 [01:14<03:49,  1.35it/s]\u001b[A"
     ]
    },
    {
     "name": "stdout",
     "output_type": "stream",
     "text": [
      "tensor(0.6775, device='cuda:0', grad_fn=<NllLossBackward>)\n",
      "0.6775198578834534\n"
     ]
    },
    {
     "name": "stderr",
     "output_type": "stream",
     "text": [
      "\n",
      "Iteration:  26%|█████████████████▌                                                   | 106/415 [01:15<03:48,  1.35it/s]\u001b[A"
     ]
    },
    {
     "name": "stdout",
     "output_type": "stream",
     "text": [
      "tensor(0.5316, device='cuda:0', grad_fn=<NllLossBackward>)\n",
      "0.5315505266189575\n"
     ]
    },
    {
     "name": "stderr",
     "output_type": "stream",
     "text": [
      "\n",
      "Iteration:  26%|█████████████████▊                                                   | 107/415 [01:15<03:48,  1.35it/s]\u001b[A"
     ]
    },
    {
     "name": "stdout",
     "output_type": "stream",
     "text": [
      "tensor(0.7266, device='cuda:0', grad_fn=<NllLossBackward>)\n",
      "0.7266078591346741\n"
     ]
    },
    {
     "name": "stderr",
     "output_type": "stream",
     "text": [
      "\n",
      "Iteration:  26%|█████████████████▉                                                   | 108/415 [01:16<03:50,  1.33it/s]\u001b[A"
     ]
    },
    {
     "name": "stdout",
     "output_type": "stream",
     "text": [
      "tensor(0.6928, device='cuda:0', grad_fn=<NllLossBackward>)\n",
      "0.6927828788757324\n"
     ]
    },
    {
     "name": "stderr",
     "output_type": "stream",
     "text": [
      "\n",
      "Iteration:  26%|██████████████████                                                   | 109/415 [01:17<03:47,  1.34it/s]\u001b[A"
     ]
    },
    {
     "name": "stdout",
     "output_type": "stream",
     "text": [
      "tensor(0.6294, device='cuda:0', grad_fn=<NllLossBackward>)\n",
      "0.629368245601654\n"
     ]
    },
    {
     "name": "stderr",
     "output_type": "stream",
     "text": [
      "\n",
      "Iteration:  27%|██████████████████▎                                                  | 110/415 [01:18<03:46,  1.35it/s]\u001b[A"
     ]
    },
    {
     "name": "stdout",
     "output_type": "stream",
     "text": [
      "tensor(0.7138, device='cuda:0', grad_fn=<NllLossBackward>)\n",
      "0.7138065099716187\n"
     ]
    },
    {
     "name": "stderr",
     "output_type": "stream",
     "text": [
      "\n",
      "Iteration:  27%|██████████████████▍                                                  | 111/415 [01:18<03:45,  1.35it/s]\u001b[A"
     ]
    },
    {
     "name": "stdout",
     "output_type": "stream",
     "text": [
      "tensor(0.6510, device='cuda:0', grad_fn=<NllLossBackward>)\n",
      "0.6510012149810791\n"
     ]
    },
    {
     "name": "stderr",
     "output_type": "stream",
     "text": [
      "\n",
      "Iteration:  27%|██████████████████▌                                                  | 112/415 [01:19<03:45,  1.34it/s]\u001b[A"
     ]
    },
    {
     "name": "stdout",
     "output_type": "stream",
     "text": [
      "tensor(0.6174, device='cuda:0', grad_fn=<NllLossBackward>)\n",
      "0.6174163818359375\n"
     ]
    },
    {
     "name": "stderr",
     "output_type": "stream",
     "text": [
      "\n",
      "Iteration:  27%|██████████████████▊                                                  | 113/415 [01:20<03:44,  1.34it/s]\u001b[A"
     ]
    },
    {
     "name": "stdout",
     "output_type": "stream",
     "text": [
      "tensor(0.5456, device='cuda:0', grad_fn=<NllLossBackward>)\n",
      "0.5456075072288513\n"
     ]
    },
    {
     "name": "stderr",
     "output_type": "stream",
     "text": [
      "\n",
      "Iteration:  27%|██████████████████▉                                                  | 114/415 [01:21<03:45,  1.33it/s]\u001b[A"
     ]
    },
    {
     "name": "stdout",
     "output_type": "stream",
     "text": [
      "tensor(0.6970, device='cuda:0', grad_fn=<NllLossBackward>)\n",
      "0.6970421075820923\n"
     ]
    },
    {
     "name": "stderr",
     "output_type": "stream",
     "text": [
      "\n",
      "Iteration:  28%|███████████████████                                                  | 115/415 [01:21<03:45,  1.33it/s]\u001b[A"
     ]
    },
    {
     "name": "stdout",
     "output_type": "stream",
     "text": [
      "tensor(0.6454, device='cuda:0', grad_fn=<NllLossBackward>)\n",
      "0.6453638672828674\n"
     ]
    },
    {
     "name": "stderr",
     "output_type": "stream",
     "text": [
      "\n",
      "Iteration:  28%|███████████████████▎                                                 | 116/415 [01:22<03:43,  1.34it/s]\u001b[A"
     ]
    },
    {
     "name": "stdout",
     "output_type": "stream",
     "text": [
      "tensor(0.6991, device='cuda:0', grad_fn=<NllLossBackward>)\n",
      "0.6991096138954163\n"
     ]
    },
    {
     "name": "stderr",
     "output_type": "stream",
     "text": [
      "\n",
      "Iteration:  28%|███████████████████▍                                                 | 117/415 [01:23<03:44,  1.33it/s]\u001b[A"
     ]
    },
    {
     "name": "stdout",
     "output_type": "stream",
     "text": [
      "tensor(0.6552, device='cuda:0', grad_fn=<NllLossBackward>)\n",
      "0.6551586985588074\n"
     ]
    },
    {
     "name": "stderr",
     "output_type": "stream",
     "text": [
      "\n",
      "Iteration:  28%|███████████████████▌                                                 | 118/415 [01:24<03:44,  1.32it/s]\u001b[A"
     ]
    },
    {
     "name": "stdout",
     "output_type": "stream",
     "text": [
      "tensor(0.6954, device='cuda:0', grad_fn=<NllLossBackward>)\n",
      "0.6954017877578735\n"
     ]
    },
    {
     "name": "stderr",
     "output_type": "stream",
     "text": [
      "\n",
      "Iteration:  29%|███████████████████▊                                                 | 119/415 [01:24<03:42,  1.33it/s]\u001b[A"
     ]
    },
    {
     "name": "stdout",
     "output_type": "stream",
     "text": [
      "tensor(0.6090, device='cuda:0', grad_fn=<NllLossBackward>)\n",
      "0.6090148091316223\n"
     ]
    },
    {
     "name": "stderr",
     "output_type": "stream",
     "text": [
      "\n",
      "Iteration:  29%|███████████████████▉                                                 | 120/415 [01:25<03:43,  1.32it/s]\u001b[A"
     ]
    },
    {
     "name": "stdout",
     "output_type": "stream",
     "text": [
      "tensor(0.6243, device='cuda:0', grad_fn=<NllLossBackward>)\n",
      "0.6243338584899902\n"
     ]
    },
    {
     "name": "stderr",
     "output_type": "stream",
     "text": [
      "\n",
      "Iteration:  29%|████████████████████                                                 | 121/415 [01:26<03:40,  1.33it/s]\u001b[A"
     ]
    },
    {
     "name": "stdout",
     "output_type": "stream",
     "text": [
      "tensor(0.6393, device='cuda:0', grad_fn=<NllLossBackward>)\n",
      "0.6392866373062134\n"
     ]
    },
    {
     "name": "stderr",
     "output_type": "stream",
     "text": [
      "\n",
      "Iteration:  29%|████████████████████▎                                                | 122/415 [01:27<03:40,  1.33it/s]\u001b[A"
     ]
    },
    {
     "name": "stdout",
     "output_type": "stream",
     "text": [
      "tensor(0.6109, device='cuda:0', grad_fn=<NllLossBackward>)\n",
      "0.6109173893928528\n"
     ]
    },
    {
     "name": "stderr",
     "output_type": "stream",
     "text": [
      "\n",
      "Iteration:  30%|████████████████████▍                                                | 123/415 [01:27<03:39,  1.33it/s]\u001b[A"
     ]
    },
    {
     "name": "stdout",
     "output_type": "stream",
     "text": [
      "tensor(0.6487, device='cuda:0', grad_fn=<NllLossBackward>)\n",
      "0.6486791968345642\n"
     ]
    },
    {
     "name": "stderr",
     "output_type": "stream",
     "text": [
      "\n",
      "Iteration:  30%|████████████████████▌                                                | 124/415 [01:28<03:39,  1.33it/s]\u001b[A"
     ]
    },
    {
     "name": "stdout",
     "output_type": "stream",
     "text": [
      "tensor(0.6138, device='cuda:0', grad_fn=<NllLossBackward>)\n",
      "0.6138100028038025\n"
     ]
    },
    {
     "name": "stderr",
     "output_type": "stream",
     "text": [
      "\n",
      "Iteration:  30%|████████████████████▊                                                | 125/415 [01:29<03:39,  1.32it/s]\u001b[A"
     ]
    },
    {
     "name": "stdout",
     "output_type": "stream",
     "text": [
      "tensor(0.6325, device='cuda:0', grad_fn=<NllLossBackward>)\n",
      "0.6324594616889954\n"
     ]
    },
    {
     "name": "stderr",
     "output_type": "stream",
     "text": [
      "\n",
      "Iteration:  30%|████████████████████▉                                                | 126/415 [01:30<03:40,  1.31it/s]\u001b[A"
     ]
    },
    {
     "name": "stdout",
     "output_type": "stream",
     "text": [
      "tensor(0.6332, device='cuda:0', grad_fn=<NllLossBackward>)\n",
      "0.633206844329834\n"
     ]
    },
    {
     "name": "stderr",
     "output_type": "stream",
     "text": [
      "\n",
      "Iteration:  31%|█████████████████████                                                | 127/415 [01:30<03:40,  1.31it/s]\u001b[A"
     ]
    },
    {
     "name": "stdout",
     "output_type": "stream",
     "text": [
      "tensor(0.6137, device='cuda:0', grad_fn=<NllLossBackward>)\n",
      "0.6137104034423828\n"
     ]
    },
    {
     "name": "stderr",
     "output_type": "stream",
     "text": [
      "\n",
      "Iteration:  31%|█████████████████████▎                                               | 128/415 [01:31<03:39,  1.31it/s]\u001b[A"
     ]
    },
    {
     "name": "stdout",
     "output_type": "stream",
     "text": [
      "tensor(0.5743, device='cuda:0', grad_fn=<NllLossBackward>)\n",
      "0.574270486831665\n"
     ]
    },
    {
     "name": "stderr",
     "output_type": "stream",
     "text": [
      "\n",
      "Iteration:  31%|█████████████████████▍                                               | 129/415 [01:32<03:39,  1.30it/s]\u001b[A"
     ]
    },
    {
     "name": "stdout",
     "output_type": "stream",
     "text": [
      "tensor(0.6171, device='cuda:0', grad_fn=<NllLossBackward>)\n",
      "0.6170555949211121\n"
     ]
    },
    {
     "name": "stderr",
     "output_type": "stream",
     "text": [
      "\n",
      "Iteration:  31%|█████████████████████▌                                               | 130/415 [01:33<03:37,  1.31it/s]\u001b[A"
     ]
    },
    {
     "name": "stdout",
     "output_type": "stream",
     "text": [
      "tensor(0.5229, device='cuda:0', grad_fn=<NllLossBackward>)\n",
      "0.522920548915863\n"
     ]
    },
    {
     "name": "stderr",
     "output_type": "stream",
     "text": [
      "\n",
      "Iteration:  32%|█████████████████████▊                                               | 131/415 [01:33<03:36,  1.31it/s]\u001b[A"
     ]
    },
    {
     "name": "stdout",
     "output_type": "stream",
     "text": [
      "tensor(0.6454, device='cuda:0', grad_fn=<NllLossBackward>)\n",
      "0.6453837156295776\n"
     ]
    },
    {
     "name": "stderr",
     "output_type": "stream",
     "text": [
      "\n",
      "Iteration:  32%|█████████████████████▉                                               | 132/415 [01:34<03:34,  1.32it/s]\u001b[A"
     ]
    },
    {
     "name": "stdout",
     "output_type": "stream",
     "text": [
      "tensor(0.5498, device='cuda:0', grad_fn=<NllLossBackward>)\n",
      "0.5498349070549011\n"
     ]
    },
    {
     "name": "stderr",
     "output_type": "stream",
     "text": [
      "\n",
      "Iteration:  32%|██████████████████████                                               | 133/415 [01:35<03:32,  1.33it/s]\u001b[A"
     ]
    },
    {
     "name": "stdout",
     "output_type": "stream",
     "text": [
      "tensor(0.4850, device='cuda:0', grad_fn=<NllLossBackward>)\n",
      "0.48502811789512634\n"
     ]
    },
    {
     "name": "stderr",
     "output_type": "stream",
     "text": [
      "\n",
      "Iteration:  32%|██████████████████████▎                                              | 134/415 [01:36<03:32,  1.32it/s]\u001b[A"
     ]
    },
    {
     "name": "stdout",
     "output_type": "stream",
     "text": [
      "tensor(0.6706, device='cuda:0', grad_fn=<NllLossBackward>)\n",
      "0.6705590486526489\n"
     ]
    },
    {
     "name": "stderr",
     "output_type": "stream",
     "text": [
      "\n",
      "Iteration:  33%|██████████████████████▍                                              | 135/415 [01:36<03:32,  1.32it/s]\u001b[A"
     ]
    },
    {
     "name": "stdout",
     "output_type": "stream",
     "text": [
      "tensor(0.6172, device='cuda:0', grad_fn=<NllLossBackward>)\n",
      "0.6172212958335876\n"
     ]
    },
    {
     "name": "stderr",
     "output_type": "stream",
     "text": [
      "\n",
      "Iteration:  33%|██████████████████████▌                                              | 136/415 [01:37<03:31,  1.32it/s]\u001b[A"
     ]
    },
    {
     "name": "stdout",
     "output_type": "stream",
     "text": [
      "tensor(0.5619, device='cuda:0', grad_fn=<NllLossBackward>)\n",
      "0.5619010925292969\n"
     ]
    },
    {
     "name": "stderr",
     "output_type": "stream",
     "text": [
      "\n",
      "Iteration:  33%|██████████████████████▊                                              | 137/415 [01:38<03:31,  1.32it/s]\u001b[A"
     ]
    },
    {
     "name": "stdout",
     "output_type": "stream",
     "text": [
      "tensor(0.6900, device='cuda:0', grad_fn=<NllLossBackward>)\n",
      "0.690019965171814\n"
     ]
    },
    {
     "name": "stderr",
     "output_type": "stream",
     "text": [
      "\n",
      "Iteration:  33%|██████████████████████▉                                              | 138/415 [01:39<03:30,  1.32it/s]\u001b[A"
     ]
    },
    {
     "name": "stdout",
     "output_type": "stream",
     "text": [
      "tensor(0.6252, device='cuda:0', grad_fn=<NllLossBackward>)\n",
      "0.6251594424247742\n"
     ]
    },
    {
     "name": "stderr",
     "output_type": "stream",
     "text": [
      "\n",
      "Iteration:  33%|███████████████████████                                              | 139/415 [01:40<03:29,  1.32it/s]\u001b[A"
     ]
    },
    {
     "name": "stdout",
     "output_type": "stream",
     "text": [
      "tensor(0.5617, device='cuda:0', grad_fn=<NllLossBackward>)\n",
      "0.5616574287414551\n"
     ]
    },
    {
     "name": "stderr",
     "output_type": "stream",
     "text": [
      "\n",
      "Iteration:  34%|███████████████████████▎                                             | 140/415 [01:40<03:29,  1.31it/s]\u001b[A"
     ]
    },
    {
     "name": "stdout",
     "output_type": "stream",
     "text": [
      "tensor(0.7280, device='cuda:0', grad_fn=<NllLossBackward>)\n",
      "0.727978527545929\n"
     ]
    },
    {
     "name": "stderr",
     "output_type": "stream",
     "text": [
      "\n",
      "Iteration:  34%|███████████████████████▍                                             | 141/415 [01:41<03:31,  1.29it/s]\u001b[A"
     ]
    },
    {
     "name": "stdout",
     "output_type": "stream",
     "text": [
      "tensor(0.5495, device='cuda:0', grad_fn=<NllLossBackward>)\n",
      "0.5494831204414368\n"
     ]
    },
    {
     "name": "stderr",
     "output_type": "stream",
     "text": [
      "\n",
      "Iteration:  34%|███████████████████████▌                                             | 142/415 [01:42<03:31,  1.29it/s]\u001b[A"
     ]
    },
    {
     "name": "stdout",
     "output_type": "stream",
     "text": [
      "tensor(0.7759, device='cuda:0', grad_fn=<NllLossBackward>)\n",
      "0.7758695483207703\n"
     ]
    },
    {
     "name": "stderr",
     "output_type": "stream",
     "text": [
      "\n",
      "Iteration:  34%|███████████████████████▊                                             | 143/415 [01:43<03:28,  1.31it/s]\u001b[A"
     ]
    },
    {
     "name": "stdout",
     "output_type": "stream",
     "text": [
      "tensor(0.7006, device='cuda:0', grad_fn=<NllLossBackward>)\n",
      "0.7005705833435059\n"
     ]
    },
    {
     "name": "stderr",
     "output_type": "stream",
     "text": [
      "\n",
      "Iteration:  35%|███████████████████████▉                                             | 144/415 [01:43<03:27,  1.31it/s]\u001b[A"
     ]
    },
    {
     "name": "stdout",
     "output_type": "stream",
     "text": [
      "tensor(0.6266, device='cuda:0', grad_fn=<NllLossBackward>)\n",
      "0.6266205906867981\n"
     ]
    },
    {
     "name": "stderr",
     "output_type": "stream",
     "text": [
      "\n",
      "Iteration:  35%|████████████████████████                                             | 145/415 [01:44<03:27,  1.30it/s]\u001b[A"
     ]
    },
    {
     "name": "stdout",
     "output_type": "stream",
     "text": [
      "tensor(0.5268, device='cuda:0', grad_fn=<NllLossBackward>)\n",
      "0.5267689228057861\n"
     ]
    },
    {
     "name": "stderr",
     "output_type": "stream",
     "text": [
      "\n",
      "Iteration:  35%|████████████████████████▎                                            | 146/415 [01:45<03:28,  1.29it/s]\u001b[A"
     ]
    },
    {
     "name": "stdout",
     "output_type": "stream",
     "text": [
      "tensor(0.7252, device='cuda:0', grad_fn=<NllLossBackward>)\n",
      "0.7251625657081604\n"
     ]
    },
    {
     "name": "stderr",
     "output_type": "stream",
     "text": [
      "\n",
      "Iteration:  35%|████████████████████████▍                                            | 147/415 [01:46<03:25,  1.31it/s]\u001b[A"
     ]
    },
    {
     "name": "stdout",
     "output_type": "stream",
     "text": [
      "tensor(0.6080, device='cuda:0', grad_fn=<NllLossBackward>)\n",
      "0.6079938411712646\n"
     ]
    },
    {
     "name": "stderr",
     "output_type": "stream",
     "text": [
      "\n",
      "Iteration:  36%|████████████████████████▌                                            | 148/415 [01:46<03:25,  1.30it/s]\u001b[A"
     ]
    },
    {
     "name": "stdout",
     "output_type": "stream",
     "text": [
      "tensor(0.6428, device='cuda:0', grad_fn=<NllLossBackward>)\n",
      "0.6427654027938843\n"
     ]
    },
    {
     "name": "stderr",
     "output_type": "stream",
     "text": [
      "\n",
      "Iteration:  36%|████████████████████████▊                                            | 149/415 [01:47<03:28,  1.28it/s]\u001b[A"
     ]
    },
    {
     "name": "stdout",
     "output_type": "stream",
     "text": [
      "tensor(0.6658, device='cuda:0', grad_fn=<NllLossBackward>)\n",
      "0.6658035516738892\n"
     ]
    },
    {
     "name": "stderr",
     "output_type": "stream",
     "text": [
      "\n",
      "Iteration:  36%|████████████████████████▉                                            | 150/415 [01:48<03:26,  1.28it/s]\u001b[A"
     ]
    },
    {
     "name": "stdout",
     "output_type": "stream",
     "text": [
      "tensor(0.5794, device='cuda:0', grad_fn=<NllLossBackward>)\n",
      "0.5794121623039246\n"
     ]
    },
    {
     "name": "stderr",
     "output_type": "stream",
     "text": [
      "\n",
      "Iteration:  36%|█████████████████████████                                            | 151/415 [01:49<03:24,  1.29it/s]\u001b[A"
     ]
    },
    {
     "name": "stdout",
     "output_type": "stream",
     "text": [
      "tensor(0.7941, device='cuda:0', grad_fn=<NllLossBackward>)\n",
      "0.7941128611564636\n"
     ]
    },
    {
     "name": "stderr",
     "output_type": "stream",
     "text": [
      "\n",
      "Iteration:  37%|█████████████████████████▎                                           | 152/415 [01:50<03:21,  1.30it/s]\u001b[A"
     ]
    },
    {
     "name": "stdout",
     "output_type": "stream",
     "text": [
      "tensor(0.5907, device='cuda:0', grad_fn=<NllLossBackward>)\n",
      "0.5906844139099121\n"
     ]
    },
    {
     "name": "stderr",
     "output_type": "stream",
     "text": [
      "\n",
      "Iteration:  37%|█████████████████████████▍                                           | 153/415 [01:50<03:22,  1.30it/s]\u001b[A"
     ]
    },
    {
     "name": "stdout",
     "output_type": "stream",
     "text": [
      "tensor(0.6558, device='cuda:0', grad_fn=<NllLossBackward>)\n",
      "0.6558496952056885\n"
     ]
    },
    {
     "name": "stderr",
     "output_type": "stream",
     "text": [
      "\n",
      "Iteration:  37%|█████████████████████████▌                                           | 154/415 [01:51<03:22,  1.29it/s]\u001b[A"
     ]
    },
    {
     "name": "stdout",
     "output_type": "stream",
     "text": [
      "tensor(0.5974, device='cuda:0', grad_fn=<NllLossBackward>)\n",
      "0.5974425673484802\n"
     ]
    },
    {
     "name": "stderr",
     "output_type": "stream",
     "text": [
      "\n",
      "Iteration:  37%|█████████████████████████▊                                           | 155/415 [01:52<03:21,  1.29it/s]\u001b[A"
     ]
    },
    {
     "name": "stdout",
     "output_type": "stream",
     "text": [
      "tensor(0.6247, device='cuda:0', grad_fn=<NllLossBackward>)\n",
      "0.6246829032897949\n"
     ]
    },
    {
     "name": "stderr",
     "output_type": "stream",
     "text": [
      "\n",
      "Iteration:  38%|█████████████████████████▉                                           | 156/415 [01:53<03:21,  1.29it/s]\u001b[A"
     ]
    },
    {
     "name": "stdout",
     "output_type": "stream",
     "text": [
      "tensor(0.6186, device='cuda:0', grad_fn=<NllLossBackward>)\n",
      "0.618586540222168\n"
     ]
    },
    {
     "name": "stderr",
     "output_type": "stream",
     "text": [
      "\n",
      "Iteration:  38%|██████████████████████████                                           | 157/415 [01:53<03:20,  1.29it/s]\u001b[A"
     ]
    },
    {
     "name": "stdout",
     "output_type": "stream",
     "text": [
      "tensor(0.6504, device='cuda:0', grad_fn=<NllLossBackward>)\n",
      "0.6503832936286926\n"
     ]
    },
    {
     "name": "stderr",
     "output_type": "stream",
     "text": [
      "\n",
      "Iteration:  38%|██████████████████████████▎                                          | 158/415 [01:54<03:18,  1.29it/s]\u001b[A"
     ]
    },
    {
     "name": "stdout",
     "output_type": "stream",
     "text": [
      "tensor(0.5717, device='cuda:0', grad_fn=<NllLossBackward>)\n",
      "0.5716966986656189\n"
     ]
    },
    {
     "name": "stderr",
     "output_type": "stream",
     "text": [
      "\n",
      "Iteration:  38%|██████████████████████████▍                                          | 159/415 [01:55<03:18,  1.29it/s]\u001b[A"
     ]
    },
    {
     "name": "stdout",
     "output_type": "stream",
     "text": [
      "tensor(0.6851, device='cuda:0', grad_fn=<NllLossBackward>)\n",
      "0.6850849986076355\n"
     ]
    },
    {
     "name": "stderr",
     "output_type": "stream",
     "text": [
      "\n",
      "Iteration:  39%|██████████████████████████▌                                          | 160/415 [01:56<03:18,  1.29it/s]\u001b[A"
     ]
    },
    {
     "name": "stdout",
     "output_type": "stream",
     "text": [
      "tensor(0.6856, device='cuda:0', grad_fn=<NllLossBackward>)\n",
      "0.685563325881958\n"
     ]
    },
    {
     "name": "stderr",
     "output_type": "stream",
     "text": [
      "\n",
      "Iteration:  39%|██████████████████████████▊                                          | 161/415 [01:57<03:17,  1.28it/s]\u001b[A"
     ]
    },
    {
     "name": "stdout",
     "output_type": "stream",
     "text": [
      "tensor(0.5879, device='cuda:0', grad_fn=<NllLossBackward>)\n",
      "0.5878714323043823\n"
     ]
    },
    {
     "name": "stderr",
     "output_type": "stream",
     "text": [
      "\n",
      "Iteration:  39%|██████████████████████████▉                                          | 162/415 [01:57<03:14,  1.30it/s]\u001b[A"
     ]
    },
    {
     "name": "stdout",
     "output_type": "stream",
     "text": [
      "tensor(0.6335, device='cuda:0', grad_fn=<NllLossBackward>)\n",
      "0.6334707736968994\n"
     ]
    },
    {
     "name": "stderr",
     "output_type": "stream",
     "text": [
      "\n",
      "Iteration:  39%|███████████████████████████                                          | 163/415 [01:58<03:15,  1.29it/s]\u001b[A"
     ]
    },
    {
     "name": "stdout",
     "output_type": "stream",
     "text": [
      "tensor(0.6126, device='cuda:0', grad_fn=<NllLossBackward>)\n",
      "0.6126302480697632\n"
     ]
    },
    {
     "name": "stderr",
     "output_type": "stream",
     "text": [
      "\n",
      "Iteration:  40%|███████████████████████████▎                                         | 164/415 [01:59<03:14,  1.29it/s]\u001b[A"
     ]
    },
    {
     "name": "stdout",
     "output_type": "stream",
     "text": [
      "tensor(0.6604, device='cuda:0', grad_fn=<NllLossBackward>)\n",
      "0.6604409217834473\n"
     ]
    },
    {
     "name": "stderr",
     "output_type": "stream",
     "text": [
      "\n",
      "Iteration:  40%|███████████████████████████▍                                         | 165/415 [02:00<03:13,  1.29it/s]\u001b[A"
     ]
    },
    {
     "name": "stdout",
     "output_type": "stream",
     "text": [
      "tensor(0.6474, device='cuda:0', grad_fn=<NllLossBackward>)\n",
      "0.6474292278289795\n"
     ]
    },
    {
     "name": "stderr",
     "output_type": "stream",
     "text": [
      "\n",
      "Iteration:  40%|███████████████████████████▌                                         | 166/415 [02:00<03:12,  1.29it/s]\u001b[A"
     ]
    },
    {
     "name": "stdout",
     "output_type": "stream",
     "text": [
      "tensor(0.6590, device='cuda:0', grad_fn=<NllLossBackward>)\n",
      "0.6589656472206116\n"
     ]
    },
    {
     "name": "stderr",
     "output_type": "stream",
     "text": [
      "\n",
      "Iteration:  40%|███████████████████████████▊                                         | 167/415 [02:01<03:10,  1.30it/s]\u001b[A"
     ]
    },
    {
     "name": "stdout",
     "output_type": "stream",
     "text": [
      "tensor(0.7350, device='cuda:0', grad_fn=<NllLossBackward>)\n",
      "0.7350467443466187\n"
     ]
    },
    {
     "name": "stderr",
     "output_type": "stream",
     "text": [
      "\n",
      "Iteration:  40%|███████████████████████████▉                                         | 168/415 [02:02<03:14,  1.27it/s]\u001b[A"
     ]
    },
    {
     "name": "stdout",
     "output_type": "stream",
     "text": [
      "tensor(0.6571, device='cuda:0', grad_fn=<NllLossBackward>)\n",
      "0.657094419002533\n"
     ]
    },
    {
     "name": "stderr",
     "output_type": "stream",
     "text": [
      "\n",
      "Iteration:  41%|████████████████████████████                                         | 169/415 [02:03<03:12,  1.28it/s]\u001b[A"
     ]
    },
    {
     "name": "stdout",
     "output_type": "stream",
     "text": [
      "tensor(0.5896, device='cuda:0', grad_fn=<NllLossBackward>)\n",
      "0.5896182656288147\n"
     ]
    },
    {
     "name": "stderr",
     "output_type": "stream",
     "text": [
      "\n",
      "Iteration:  41%|████████████████████████████▎                                        | 170/415 [02:04<03:10,  1.28it/s]\u001b[A"
     ]
    },
    {
     "name": "stdout",
     "output_type": "stream",
     "text": [
      "tensor(0.5404, device='cuda:0', grad_fn=<NllLossBackward>)\n",
      "0.5403685569763184\n"
     ]
    },
    {
     "name": "stderr",
     "output_type": "stream",
     "text": [
      "\n",
      "Iteration:  41%|████████████████████████████▍                                        | 171/415 [02:04<03:07,  1.30it/s]\u001b[A"
     ]
    },
    {
     "name": "stdout",
     "output_type": "stream",
     "text": [
      "tensor(0.6689, device='cuda:0', grad_fn=<NllLossBackward>)\n",
      "0.6688883900642395\n"
     ]
    },
    {
     "name": "stderr",
     "output_type": "stream",
     "text": [
      "\n",
      "Iteration:  41%|████████████████████████████▌                                        | 172/415 [02:05<03:05,  1.31it/s]\u001b[A"
     ]
    },
    {
     "name": "stdout",
     "output_type": "stream",
     "text": [
      "tensor(0.7441, device='cuda:0', grad_fn=<NllLossBackward>)\n",
      "0.7441281676292419\n"
     ]
    },
    {
     "name": "stderr",
     "output_type": "stream",
     "text": [
      "\n",
      "Iteration:  42%|████████████████████████████▊                                        | 173/415 [02:06<03:13,  1.25it/s]\u001b[A"
     ]
    },
    {
     "name": "stdout",
     "output_type": "stream",
     "text": [
      "tensor(0.5091, device='cuda:0', grad_fn=<NllLossBackward>)\n",
      "0.5091468691825867\n"
     ]
    },
    {
     "name": "stderr",
     "output_type": "stream",
     "text": [
      "\n",
      "Iteration:  42%|████████████████████████████▉                                        | 174/415 [02:07<03:09,  1.27it/s]\u001b[A"
     ]
    },
    {
     "name": "stdout",
     "output_type": "stream",
     "text": [
      "tensor(0.5685, device='cuda:0', grad_fn=<NllLossBackward>)\n",
      "0.5684645771980286\n"
     ]
    },
    {
     "name": "stderr",
     "output_type": "stream",
     "text": [
      "\n",
      "Iteration:  42%|█████████████████████████████                                        | 175/415 [02:08<03:17,  1.22it/s]\u001b[A"
     ]
    },
    {
     "name": "stdout",
     "output_type": "stream",
     "text": [
      "tensor(0.6432, device='cuda:0', grad_fn=<NllLossBackward>)\n",
      "0.6432260870933533\n"
     ]
    },
    {
     "name": "stderr",
     "output_type": "stream",
     "text": [
      "\n",
      "Iteration:  42%|█████████████████████████████▎                                       | 176/415 [02:08<03:10,  1.25it/s]\u001b[A"
     ]
    },
    {
     "name": "stdout",
     "output_type": "stream",
     "text": [
      "tensor(0.6941, device='cuda:0', grad_fn=<NllLossBackward>)\n",
      "0.6940600275993347\n"
     ]
    },
    {
     "name": "stderr",
     "output_type": "stream",
     "text": [
      "\n",
      "Iteration:  43%|█████████████████████████████▍                                       | 177/415 [02:09<03:06,  1.27it/s]\u001b[A"
     ]
    },
    {
     "name": "stdout",
     "output_type": "stream",
     "text": [
      "tensor(0.6654, device='cuda:0', grad_fn=<NllLossBackward>)\n",
      "0.6654196977615356\n"
     ]
    },
    {
     "name": "stderr",
     "output_type": "stream",
     "text": [
      "\n",
      "Iteration:  43%|█████████████████████████████▌                                       | 178/415 [02:10<03:04,  1.29it/s]\u001b[A"
     ]
    },
    {
     "name": "stdout",
     "output_type": "stream",
     "text": [
      "tensor(0.6273, device='cuda:0', grad_fn=<NllLossBackward>)\n",
      "0.6272600889205933\n"
     ]
    },
    {
     "name": "stderr",
     "output_type": "stream",
     "text": [
      "\n",
      "Iteration:  43%|█████████████████████████████▊                                       | 179/415 [02:11<03:01,  1.30it/s]\u001b[A"
     ]
    },
    {
     "name": "stdout",
     "output_type": "stream",
     "text": [
      "tensor(0.6036, device='cuda:0', grad_fn=<NllLossBackward>)\n",
      "0.6035821437835693\n"
     ]
    },
    {
     "name": "stderr",
     "output_type": "stream",
     "text": [
      "\n",
      "Iteration:  43%|█████████████████████████████▉                                       | 180/415 [02:11<03:03,  1.28it/s]\u001b[A"
     ]
    },
    {
     "name": "stdout",
     "output_type": "stream",
     "text": [
      "tensor(0.5675, device='cuda:0', grad_fn=<NllLossBackward>)\n",
      "0.5675076246261597\n"
     ]
    },
    {
     "name": "stderr",
     "output_type": "stream",
     "text": [
      "\n",
      "Iteration:  44%|██████████████████████████████                                       | 181/415 [02:12<03:02,  1.29it/s]\u001b[A"
     ]
    },
    {
     "name": "stdout",
     "output_type": "stream",
     "text": [
      "tensor(0.6010, device='cuda:0', grad_fn=<NllLossBackward>)\n",
      "0.6010092496871948\n"
     ]
    },
    {
     "name": "stderr",
     "output_type": "stream",
     "text": [
      "\n",
      "Iteration:  44%|██████████████████████████████▎                                      | 182/415 [02:13<02:59,  1.30it/s]\u001b[A"
     ]
    },
    {
     "name": "stdout",
     "output_type": "stream",
     "text": [
      "tensor(0.5509, device='cuda:0', grad_fn=<NllLossBackward>)\n",
      "0.5509160161018372\n"
     ]
    },
    {
     "name": "stderr",
     "output_type": "stream",
     "text": [
      "\n",
      "Iteration:  44%|██████████████████████████████▍                                      | 183/415 [02:14<02:58,  1.30it/s]\u001b[A"
     ]
    },
    {
     "name": "stdout",
     "output_type": "stream",
     "text": [
      "tensor(0.6708, device='cuda:0', grad_fn=<NllLossBackward>)\n",
      "0.6707642674446106\n"
     ]
    },
    {
     "name": "stderr",
     "output_type": "stream",
     "text": [
      "\n",
      "Iteration:  44%|██████████████████████████████▌                                      | 184/415 [02:14<02:57,  1.30it/s]\u001b[A"
     ]
    },
    {
     "name": "stdout",
     "output_type": "stream",
     "text": [
      "tensor(0.6554, device='cuda:0', grad_fn=<NllLossBackward>)\n",
      "0.6553729772567749\n"
     ]
    },
    {
     "name": "stderr",
     "output_type": "stream",
     "text": [
      "\n",
      "Iteration:  45%|██████████████████████████████▊                                      | 185/415 [02:15<02:56,  1.30it/s]\u001b[A"
     ]
    },
    {
     "name": "stdout",
     "output_type": "stream",
     "text": [
      "tensor(0.6395, device='cuda:0', grad_fn=<NllLossBackward>)\n",
      "0.6395299434661865\n"
     ]
    },
    {
     "name": "stderr",
     "output_type": "stream",
     "text": [
      "\n",
      "Iteration:  45%|██████████████████████████████▉                                      | 186/415 [02:16<02:55,  1.30it/s]\u001b[A"
     ]
    },
    {
     "name": "stdout",
     "output_type": "stream",
     "text": [
      "tensor(0.5295, device='cuda:0', grad_fn=<NllLossBackward>)\n",
      "0.529492974281311\n"
     ]
    },
    {
     "name": "stderr",
     "output_type": "stream",
     "text": [
      "\n",
      "Iteration:  45%|███████████████████████████████                                      | 187/415 [02:17<02:53,  1.31it/s]\u001b[A"
     ]
    },
    {
     "name": "stdout",
     "output_type": "stream",
     "text": [
      "tensor(0.6805, device='cuda:0', grad_fn=<NllLossBackward>)\n",
      "0.6805354356765747\n"
     ]
    },
    {
     "name": "stderr",
     "output_type": "stream",
     "text": [
      "\n",
      "Iteration:  45%|███████████████████████████████▎                                     | 188/415 [02:18<02:56,  1.29it/s]\u001b[A"
     ]
    },
    {
     "name": "stdout",
     "output_type": "stream",
     "text": [
      "tensor(0.5416, device='cuda:0', grad_fn=<NllLossBackward>)\n",
      "0.5416362881660461\n"
     ]
    },
    {
     "name": "stderr",
     "output_type": "stream",
     "text": [
      "\n",
      "Iteration:  46%|███████████████████████████████▍                                     | 189/415 [02:18<02:56,  1.28it/s]\u001b[A"
     ]
    },
    {
     "name": "stdout",
     "output_type": "stream",
     "text": [
      "tensor(0.6863, device='cuda:0', grad_fn=<NllLossBackward>)\n",
      "0.6862668395042419\n"
     ]
    },
    {
     "name": "stderr",
     "output_type": "stream",
     "text": [
      "\n",
      "Iteration:  46%|███████████████████████████████▌                                     | 190/415 [02:19<02:53,  1.30it/s]\u001b[A"
     ]
    },
    {
     "name": "stdout",
     "output_type": "stream",
     "text": [
      "tensor(0.7878, device='cuda:0', grad_fn=<NllLossBackward>)\n",
      "0.7878302335739136\n"
     ]
    },
    {
     "name": "stderr",
     "output_type": "stream",
     "text": [
      "\n",
      "Iteration:  46%|███████████████████████████████▊                                     | 191/415 [02:20<02:51,  1.30it/s]\u001b[A"
     ]
    },
    {
     "name": "stdout",
     "output_type": "stream",
     "text": [
      "tensor(0.6008, device='cuda:0', grad_fn=<NllLossBackward>)\n",
      "0.6007820963859558\n"
     ]
    },
    {
     "name": "stderr",
     "output_type": "stream",
     "text": [
      "\n",
      "Iteration:  46%|███████████████████████████████▉                                     | 192/415 [02:21<02:52,  1.29it/s]\u001b[A"
     ]
    },
    {
     "name": "stdout",
     "output_type": "stream",
     "text": [
      "tensor(0.7416, device='cuda:0', grad_fn=<NllLossBackward>)\n",
      "0.7416141033172607\n"
     ]
    },
    {
     "name": "stderr",
     "output_type": "stream",
     "text": [
      "\n",
      "Iteration:  47%|████████████████████████████████                                     | 193/415 [02:21<02:53,  1.28it/s]\u001b[A"
     ]
    },
    {
     "name": "stdout",
     "output_type": "stream",
     "text": [
      "tensor(0.6942, device='cuda:0', grad_fn=<NllLossBackward>)\n",
      "0.6941852569580078\n"
     ]
    },
    {
     "name": "stderr",
     "output_type": "stream",
     "text": [
      "\n",
      "Iteration:  47%|████████████████████████████████▎                                    | 194/415 [02:22<02:52,  1.28it/s]\u001b[A"
     ]
    },
    {
     "name": "stdout",
     "output_type": "stream",
     "text": [
      "tensor(0.8919, device='cuda:0', grad_fn=<NllLossBackward>)\n",
      "0.8918898701667786\n"
     ]
    },
    {
     "name": "stderr",
     "output_type": "stream",
     "text": [
      "\n",
      "Iteration:  47%|████████████████████████████████▍                                    | 195/415 [02:23<02:49,  1.29it/s]\u001b[A"
     ]
    },
    {
     "name": "stdout",
     "output_type": "stream",
     "text": [
      "tensor(0.7821, device='cuda:0', grad_fn=<NllLossBackward>)\n",
      "0.7820528149604797\n"
     ]
    },
    {
     "name": "stderr",
     "output_type": "stream",
     "text": [
      "\n",
      "Iteration:  47%|████████████████████████████████▌                                    | 196/415 [02:24<02:47,  1.31it/s]\u001b[A"
     ]
    },
    {
     "name": "stdout",
     "output_type": "stream",
     "text": [
      "tensor(0.7071, device='cuda:0', grad_fn=<NllLossBackward>)\n",
      "0.7070528864860535\n"
     ]
    },
    {
     "name": "stderr",
     "output_type": "stream",
     "text": [
      "\n",
      "Iteration:  47%|████████████████████████████████▊                                    | 197/415 [02:25<02:47,  1.30it/s]\u001b[A"
     ]
    },
    {
     "name": "stdout",
     "output_type": "stream",
     "text": [
      "tensor(0.7021, device='cuda:0', grad_fn=<NllLossBackward>)\n",
      "0.7020620107650757\n"
     ]
    },
    {
     "name": "stderr",
     "output_type": "stream",
     "text": [
      "\n",
      "Iteration:  48%|████████████████████████████████▉                                    | 198/415 [02:25<02:48,  1.29it/s]\u001b[A"
     ]
    },
    {
     "name": "stdout",
     "output_type": "stream",
     "text": [
      "tensor(0.6631, device='cuda:0', grad_fn=<NllLossBackward>)\n",
      "0.6631147265434265\n"
     ]
    },
    {
     "name": "stderr",
     "output_type": "stream",
     "text": [
      "\n",
      "Iteration:  48%|█████████████████████████████████                                    | 199/415 [02:26<02:47,  1.29it/s]\u001b[A"
     ]
    },
    {
     "name": "stdout",
     "output_type": "stream",
     "text": [
      "tensor(0.6993, device='cuda:0', grad_fn=<NllLossBackward>)\n",
      "0.6993341445922852\n"
     ]
    },
    {
     "name": "stderr",
     "output_type": "stream",
     "text": [
      "\n",
      "Iteration:  48%|█████████████████████████████████▎                                   | 200/415 [02:27<02:45,  1.30it/s]\u001b[A"
     ]
    },
    {
     "name": "stdout",
     "output_type": "stream",
     "text": [
      "tensor(0.6789, device='cuda:0', grad_fn=<NllLossBackward>)\n",
      "0.6788933873176575\n"
     ]
    },
    {
     "name": "stderr",
     "output_type": "stream",
     "text": [
      "\n",
      "Iteration:  48%|█████████████████████████████████▍                                   | 201/415 [02:28<02:44,  1.30it/s]\u001b[A"
     ]
    },
    {
     "name": "stdout",
     "output_type": "stream",
     "text": [
      "tensor(0.7067, device='cuda:0', grad_fn=<NllLossBackward>)\n",
      "0.7067221999168396\n"
     ]
    },
    {
     "name": "stderr",
     "output_type": "stream",
     "text": [
      "\n",
      "Iteration:  49%|█████████████████████████████████▌                                   | 202/415 [02:28<02:44,  1.29it/s]\u001b[A"
     ]
    },
    {
     "name": "stdout",
     "output_type": "stream",
     "text": [
      "tensor(0.6790, device='cuda:0', grad_fn=<NllLossBackward>)\n",
      "0.6789524555206299\n"
     ]
    },
    {
     "name": "stderr",
     "output_type": "stream",
     "text": [
      "\n",
      "Iteration:  49%|█████████████████████████████████▊                                   | 203/415 [02:29<02:43,  1.30it/s]\u001b[A"
     ]
    },
    {
     "name": "stdout",
     "output_type": "stream",
     "text": [
      "tensor(0.6674, device='cuda:0', grad_fn=<NllLossBackward>)\n",
      "0.6673727035522461\n"
     ]
    },
    {
     "name": "stderr",
     "output_type": "stream",
     "text": [
      "\n",
      "Iteration:  49%|█████████████████████████████████▉                                   | 204/415 [02:30<02:41,  1.31it/s]\u001b[A"
     ]
    },
    {
     "name": "stdout",
     "output_type": "stream",
     "text": [
      "tensor(0.6912, device='cuda:0', grad_fn=<NllLossBackward>)\n",
      "0.69117671251297\n"
     ]
    },
    {
     "name": "stderr",
     "output_type": "stream",
     "text": [
      "\n",
      "Iteration:  49%|██████████████████████████████████                                   | 205/415 [02:31<02:42,  1.29it/s]\u001b[A"
     ]
    },
    {
     "name": "stdout",
     "output_type": "stream",
     "text": [
      "tensor(0.7013, device='cuda:0', grad_fn=<NllLossBackward>)\n",
      "0.7012903094291687\n"
     ]
    },
    {
     "name": "stderr",
     "output_type": "stream",
     "text": [
      "\n",
      "Iteration:  50%|██████████████████████████████████▎                                  | 206/415 [02:31<02:41,  1.30it/s]\u001b[A"
     ]
    },
    {
     "name": "stdout",
     "output_type": "stream",
     "text": [
      "tensor(0.7213, device='cuda:0', grad_fn=<NllLossBackward>)\n",
      "0.7212976813316345\n"
     ]
    },
    {
     "name": "stderr",
     "output_type": "stream",
     "text": [
      "\n",
      "Iteration:  50%|██████████████████████████████████▍                                  | 207/415 [02:32<02:41,  1.29it/s]\u001b[A"
     ]
    },
    {
     "name": "stdout",
     "output_type": "stream",
     "text": [
      "tensor(0.6475, device='cuda:0', grad_fn=<NllLossBackward>)\n",
      "0.6475226283073425\n"
     ]
    },
    {
     "name": "stderr",
     "output_type": "stream",
     "text": [
      "\n",
      "Iteration:  50%|██████████████████████████████████▌                                  | 208/415 [02:33<02:39,  1.30it/s]\u001b[A"
     ]
    },
    {
     "name": "stdout",
     "output_type": "stream",
     "text": [
      "tensor(0.6914, device='cuda:0', grad_fn=<NllLossBackward>)\n",
      "0.6914443373680115\n"
     ]
    },
    {
     "name": "stderr",
     "output_type": "stream",
     "text": [
      "\n",
      "Iteration:  50%|██████████████████████████████████▋                                  | 209/415 [02:34<02:39,  1.29it/s]\u001b[A"
     ]
    },
    {
     "name": "stdout",
     "output_type": "stream",
     "text": [
      "tensor(0.7873, device='cuda:0', grad_fn=<NllLossBackward>)\n",
      "0.7872668504714966\n"
     ]
    },
    {
     "name": "stderr",
     "output_type": "stream",
     "text": [
      "\n",
      "Iteration:  51%|██████████████████████████████████▉                                  | 210/415 [02:35<02:38,  1.29it/s]\u001b[A"
     ]
    },
    {
     "name": "stdout",
     "output_type": "stream",
     "text": [
      "tensor(0.6898, device='cuda:0', grad_fn=<NllLossBackward>)\n",
      "0.6898365020751953\n"
     ]
    },
    {
     "name": "stderr",
     "output_type": "stream",
     "text": [
      "\n",
      "Iteration:  51%|███████████████████████████████████                                  | 211/415 [02:35<02:38,  1.28it/s]\u001b[A"
     ]
    },
    {
     "name": "stdout",
     "output_type": "stream",
     "text": [
      "tensor(0.6802, device='cuda:0', grad_fn=<NllLossBackward>)\n",
      "0.6802243590354919\n"
     ]
    },
    {
     "name": "stderr",
     "output_type": "stream",
     "text": [
      "\n",
      "Iteration:  51%|███████████████████████████████████▏                                 | 212/415 [02:36<02:36,  1.29it/s]\u001b[A"
     ]
    },
    {
     "name": "stdout",
     "output_type": "stream",
     "text": [
      "tensor(0.6849, device='cuda:0', grad_fn=<NllLossBackward>)\n",
      "0.684893012046814\n"
     ]
    },
    {
     "name": "stderr",
     "output_type": "stream",
     "text": [
      "\n",
      "Iteration:  51%|███████████████████████████████████▍                                 | 213/415 [02:37<02:36,  1.29it/s]\u001b[A"
     ]
    },
    {
     "name": "stdout",
     "output_type": "stream",
     "text": [
      "tensor(0.8236, device='cuda:0', grad_fn=<NllLossBackward>)\n",
      "0.823560893535614\n"
     ]
    },
    {
     "name": "stderr",
     "output_type": "stream",
     "text": [
      "\n",
      "Iteration:  52%|███████████████████████████████████▌                                 | 214/415 [02:38<02:35,  1.30it/s]\u001b[A"
     ]
    },
    {
     "name": "stdout",
     "output_type": "stream",
     "text": [
      "tensor(0.7708, device='cuda:0', grad_fn=<NllLossBackward>)\n",
      "0.7708136439323425\n"
     ]
    },
    {
     "name": "stderr",
     "output_type": "stream",
     "text": [
      "\n",
      "Iteration:  52%|███████████████████████████████████▋                                 | 215/415 [02:38<02:34,  1.29it/s]\u001b[A"
     ]
    },
    {
     "name": "stdout",
     "output_type": "stream",
     "text": [
      "tensor(0.6365, device='cuda:0', grad_fn=<NllLossBackward>)\n",
      "0.6364603638648987\n"
     ]
    },
    {
     "name": "stderr",
     "output_type": "stream",
     "text": [
      "\n",
      "Iteration:  52%|███████████████████████████████████▉                                 | 216/415 [02:39<02:33,  1.30it/s]\u001b[A"
     ]
    },
    {
     "name": "stdout",
     "output_type": "stream",
     "text": [
      "tensor(0.6999, device='cuda:0', grad_fn=<NllLossBackward>)\n",
      "0.6998567581176758\n"
     ]
    },
    {
     "name": "stderr",
     "output_type": "stream",
     "text": [
      "\n",
      "Iteration:  52%|████████████████████████████████████                                 | 217/415 [02:40<02:32,  1.30it/s]\u001b[A"
     ]
    },
    {
     "name": "stdout",
     "output_type": "stream",
     "text": [
      "tensor(0.6871, device='cuda:0', grad_fn=<NllLossBackward>)\n",
      "0.6870827078819275\n"
     ]
    },
    {
     "name": "stderr",
     "output_type": "stream",
     "text": [
      "\n",
      "Iteration:  53%|████████████████████████████████████▏                                | 218/415 [02:41<02:31,  1.30it/s]\u001b[A"
     ]
    },
    {
     "name": "stdout",
     "output_type": "stream",
     "text": [
      "tensor(0.6570, device='cuda:0', grad_fn=<NllLossBackward>)\n",
      "0.6569822430610657\n"
     ]
    },
    {
     "name": "stderr",
     "output_type": "stream",
     "text": [
      "\n",
      "Iteration:  53%|████████████████████████████████████▍                                | 219/415 [02:42<02:31,  1.29it/s]\u001b[A"
     ]
    },
    {
     "name": "stdout",
     "output_type": "stream",
     "text": [
      "tensor(0.7452, device='cuda:0', grad_fn=<NllLossBackward>)\n",
      "0.7451972961425781\n"
     ]
    },
    {
     "name": "stderr",
     "output_type": "stream",
     "text": [
      "\n",
      "Iteration:  53%|████████████████████████████████████▌                                | 220/415 [02:42<02:31,  1.29it/s]\u001b[A"
     ]
    },
    {
     "name": "stdout",
     "output_type": "stream",
     "text": [
      "tensor(0.6227, device='cuda:0', grad_fn=<NllLossBackward>)\n",
      "0.622714102268219\n"
     ]
    },
    {
     "name": "stderr",
     "output_type": "stream",
     "text": [
      "\n",
      "Iteration:  53%|████████████████████████████████████▋                                | 221/415 [02:43<02:30,  1.29it/s]\u001b[A"
     ]
    },
    {
     "name": "stdout",
     "output_type": "stream",
     "text": [
      "tensor(0.6465, device='cuda:0', grad_fn=<NllLossBackward>)\n",
      "0.6465357542037964\n"
     ]
    },
    {
     "name": "stderr",
     "output_type": "stream",
     "text": [
      "\n",
      "Iteration:  53%|████████████████████████████████████▉                                | 222/415 [02:44<02:28,  1.30it/s]\u001b[A"
     ]
    },
    {
     "name": "stdout",
     "output_type": "stream",
     "text": [
      "tensor(0.7625, device='cuda:0', grad_fn=<NllLossBackward>)\n",
      "0.7625032067298889\n"
     ]
    },
    {
     "name": "stderr",
     "output_type": "stream",
     "text": [
      "\n",
      "Iteration:  54%|█████████████████████████████████████                                | 223/415 [02:45<02:29,  1.29it/s]\u001b[A"
     ]
    },
    {
     "name": "stdout",
     "output_type": "stream",
     "text": [
      "tensor(0.6729, device='cuda:0', grad_fn=<NllLossBackward>)\n",
      "0.6728993654251099\n"
     ]
    },
    {
     "name": "stderr",
     "output_type": "stream",
     "text": [
      "\n",
      "Iteration:  54%|█████████████████████████████████████▏                               | 224/415 [02:45<02:29,  1.28it/s]\u001b[A"
     ]
    },
    {
     "name": "stdout",
     "output_type": "stream",
     "text": [
      "tensor(0.7414, device='cuda:0', grad_fn=<NllLossBackward>)\n",
      "0.741418182849884\n"
     ]
    },
    {
     "name": "stderr",
     "output_type": "stream",
     "text": [
      "\n",
      "Iteration:  54%|█████████████████████████████████████▍                               | 225/415 [02:46<02:31,  1.26it/s]\u001b[A"
     ]
    },
    {
     "name": "stdout",
     "output_type": "stream",
     "text": [
      "tensor(0.7755, device='cuda:0', grad_fn=<NllLossBackward>)\n",
      "0.7754886746406555\n"
     ]
    },
    {
     "name": "stderr",
     "output_type": "stream",
     "text": [
      "\n",
      "Iteration:  54%|█████████████████████████████████████▌                               | 226/415 [02:47<02:28,  1.27it/s]\u001b[A"
     ]
    },
    {
     "name": "stdout",
     "output_type": "stream",
     "text": [
      "tensor(0.6979, device='cuda:0', grad_fn=<NllLossBackward>)\n",
      "0.6978744268417358\n"
     ]
    },
    {
     "name": "stderr",
     "output_type": "stream",
     "text": [
      "\n",
      "Iteration:  55%|█████████████████████████████████████▋                               | 227/415 [02:48<02:25,  1.29it/s]\u001b[A"
     ]
    },
    {
     "name": "stdout",
     "output_type": "stream",
     "text": [
      "tensor(0.6658, device='cuda:0', grad_fn=<NllLossBackward>)\n",
      "0.6657692790031433\n"
     ]
    },
    {
     "name": "stderr",
     "output_type": "stream",
     "text": [
      "\n",
      "Iteration:  55%|█████████████████████████████████████▉                               | 228/415 [02:49<02:25,  1.29it/s]\u001b[A"
     ]
    },
    {
     "name": "stdout",
     "output_type": "stream",
     "text": [
      "tensor(0.6812, device='cuda:0', grad_fn=<NllLossBackward>)\n",
      "0.6812082529067993\n"
     ]
    },
    {
     "name": "stderr",
     "output_type": "stream",
     "text": [
      "\n",
      "Iteration:  55%|██████████████████████████████████████                               | 229/415 [02:49<02:25,  1.28it/s]\u001b[A"
     ]
    },
    {
     "name": "stdout",
     "output_type": "stream",
     "text": [
      "tensor(0.6225, device='cuda:0', grad_fn=<NllLossBackward>)\n",
      "0.6224579811096191\n"
     ]
    },
    {
     "name": "stderr",
     "output_type": "stream",
     "text": [
      "\n",
      "Iteration:  55%|██████████████████████████████████████▏                              | 230/415 [02:50<02:23,  1.29it/s]\u001b[A"
     ]
    },
    {
     "name": "stdout",
     "output_type": "stream",
     "text": [
      "tensor(0.7761, device='cuda:0', grad_fn=<NllLossBackward>)\n",
      "0.7760635614395142\n"
     ]
    },
    {
     "name": "stderr",
     "output_type": "stream",
     "text": [
      "\n",
      "Iteration:  56%|██████████████████████████████████████▍                              | 231/415 [02:51<02:22,  1.29it/s]\u001b[A"
     ]
    },
    {
     "name": "stdout",
     "output_type": "stream",
     "text": [
      "tensor(0.7041, device='cuda:0', grad_fn=<NllLossBackward>)\n",
      "0.7040558457374573\n"
     ]
    },
    {
     "name": "stderr",
     "output_type": "stream",
     "text": [
      "\n",
      "Iteration:  56%|██████████████████████████████████████▌                              | 232/415 [02:52<02:21,  1.29it/s]\u001b[A"
     ]
    },
    {
     "name": "stdout",
     "output_type": "stream",
     "text": [
      "tensor(0.6960, device='cuda:0', grad_fn=<NllLossBackward>)\n",
      "0.6959534287452698\n"
     ]
    },
    {
     "name": "stderr",
     "output_type": "stream",
     "text": [
      "\n",
      "Iteration:  56%|██████████████████████████████████████▋                              | 233/415 [02:52<02:20,  1.29it/s]\u001b[A"
     ]
    },
    {
     "name": "stdout",
     "output_type": "stream",
     "text": [
      "tensor(0.6532, device='cuda:0', grad_fn=<NllLossBackward>)\n",
      "0.6531627178192139\n"
     ]
    },
    {
     "name": "stderr",
     "output_type": "stream",
     "text": [
      "\n",
      "Iteration:  56%|██████████████████████████████████████▉                              | 234/415 [02:53<02:21,  1.28it/s]\u001b[A"
     ]
    },
    {
     "name": "stdout",
     "output_type": "stream",
     "text": [
      "tensor(0.7089, device='cuda:0', grad_fn=<NllLossBackward>)\n",
      "0.7088636159896851\n"
     ]
    },
    {
     "name": "stderr",
     "output_type": "stream",
     "text": [
      "\n",
      "Iteration:  57%|███████████████████████████████████████                              | 235/415 [02:54<02:21,  1.27it/s]\u001b[A"
     ]
    },
    {
     "name": "stdout",
     "output_type": "stream",
     "text": [
      "tensor(0.6719, device='cuda:0', grad_fn=<NllLossBackward>)\n",
      "0.6719463467597961\n"
     ]
    },
    {
     "name": "stderr",
     "output_type": "stream",
     "text": [
      "\n",
      "Iteration:  57%|███████████████████████████████████████▏                             | 236/415 [02:55<02:21,  1.26it/s]\u001b[A"
     ]
    },
    {
     "name": "stdout",
     "output_type": "stream",
     "text": [
      "tensor(0.6216, device='cuda:0', grad_fn=<NllLossBackward>)\n",
      "0.6216381788253784\n"
     ]
    },
    {
     "name": "stderr",
     "output_type": "stream",
     "text": [
      "\n",
      "Iteration:  57%|███████████████████████████████████████▍                             | 237/415 [02:56<02:22,  1.25it/s]\u001b[A"
     ]
    },
    {
     "name": "stdout",
     "output_type": "stream",
     "text": [
      "tensor(0.6693, device='cuda:0', grad_fn=<NllLossBackward>)\n",
      "0.6692743897438049\n"
     ]
    },
    {
     "name": "stderr",
     "output_type": "stream",
     "text": [
      "\n",
      "Iteration:  57%|███████████████████████████████████████▌                             | 238/415 [02:56<02:19,  1.27it/s]\u001b[A"
     ]
    },
    {
     "name": "stdout",
     "output_type": "stream",
     "text": [
      "tensor(0.6592, device='cuda:0', grad_fn=<NllLossBackward>)\n",
      "0.6592056155204773\n"
     ]
    },
    {
     "name": "stderr",
     "output_type": "stream",
     "text": [
      "\n",
      "Iteration:  58%|███████████████████████████████████████▋                             | 239/415 [02:57<02:18,  1.27it/s]\u001b[A"
     ]
    },
    {
     "name": "stdout",
     "output_type": "stream",
     "text": [
      "tensor(0.6498, device='cuda:0', grad_fn=<NllLossBackward>)\n",
      "0.6498300433158875\n"
     ]
    },
    {
     "name": "stderr",
     "output_type": "stream",
     "text": [
      "\n",
      "Iteration:  58%|███████████████████████████████████████▉                             | 240/415 [02:58<02:16,  1.28it/s]\u001b[A"
     ]
    },
    {
     "name": "stdout",
     "output_type": "stream",
     "text": [
      "tensor(0.5916, device='cuda:0', grad_fn=<NllLossBackward>)\n",
      "0.5916428565979004\n"
     ]
    },
    {
     "name": "stderr",
     "output_type": "stream",
     "text": [
      "\n",
      "Iteration:  58%|████████████████████████████████████████                             | 241/415 [02:59<02:16,  1.27it/s]\u001b[A"
     ]
    },
    {
     "name": "stdout",
     "output_type": "stream",
     "text": [
      "tensor(0.6035, device='cuda:0', grad_fn=<NllLossBackward>)\n",
      "0.6035275459289551\n"
     ]
    },
    {
     "name": "stderr",
     "output_type": "stream",
     "text": [
      "\n",
      "Iteration:  58%|████████████████████████████████████████▏                            | 242/415 [03:00<02:15,  1.27it/s]\u001b[A"
     ]
    },
    {
     "name": "stdout",
     "output_type": "stream",
     "text": [
      "tensor(0.6865, device='cuda:0', grad_fn=<NllLossBackward>)\n",
      "0.6864571571350098\n"
     ]
    },
    {
     "name": "stderr",
     "output_type": "stream",
     "text": [
      "\n",
      "Iteration:  59%|████████████████████████████████████████▍                            | 243/415 [03:00<02:16,  1.26it/s]\u001b[A"
     ]
    },
    {
     "name": "stdout",
     "output_type": "stream",
     "text": [
      "tensor(0.6399, device='cuda:0', grad_fn=<NllLossBackward>)\n",
      "0.6399282813072205\n"
     ]
    },
    {
     "name": "stderr",
     "output_type": "stream",
     "text": [
      "\n",
      "Iteration:  59%|████████████████████████████████████████▌                            | 244/415 [03:01<02:15,  1.26it/s]\u001b[A"
     ]
    },
    {
     "name": "stdout",
     "output_type": "stream",
     "text": [
      "tensor(0.7880, device='cuda:0', grad_fn=<NllLossBackward>)\n",
      "0.7880235910415649\n"
     ]
    },
    {
     "name": "stderr",
     "output_type": "stream",
     "text": [
      "\n",
      "Iteration:  59%|████████████████████████████████████████▋                            | 245/415 [03:02<02:15,  1.25it/s]\u001b[A"
     ]
    },
    {
     "name": "stdout",
     "output_type": "stream",
     "text": [
      "tensor(0.7247, device='cuda:0', grad_fn=<NllLossBackward>)\n",
      "0.7246989011764526\n"
     ]
    },
    {
     "name": "stderr",
     "output_type": "stream",
     "text": [
      "\n",
      "Iteration:  59%|████████████████████████████████████████▉                            | 246/415 [03:03<02:14,  1.26it/s]\u001b[A"
     ]
    },
    {
     "name": "stdout",
     "output_type": "stream",
     "text": [
      "tensor(0.5375, device='cuda:0', grad_fn=<NllLossBackward>)\n",
      "0.5375244617462158\n"
     ]
    },
    {
     "name": "stderr",
     "output_type": "stream",
     "text": [
      "\n",
      "Iteration:  60%|█████████████████████████████████████████                            | 247/415 [03:04<02:17,  1.22it/s]\u001b[A"
     ]
    },
    {
     "name": "stdout",
     "output_type": "stream",
     "text": [
      "tensor(0.7133, device='cuda:0', grad_fn=<NllLossBackward>)\n",
      "0.7133315205574036\n"
     ]
    },
    {
     "name": "stderr",
     "output_type": "stream",
     "text": [
      "\n",
      "Iteration:  60%|█████████████████████████████████████████▏                           | 248/415 [03:04<02:14,  1.24it/s]\u001b[A"
     ]
    },
    {
     "name": "stdout",
     "output_type": "stream",
     "text": [
      "tensor(0.6023, device='cuda:0', grad_fn=<NllLossBackward>)\n",
      "0.6023271679878235\n"
     ]
    },
    {
     "name": "stderr",
     "output_type": "stream",
     "text": [
      "\n",
      "Iteration:  60%|█████████████████████████████████████████▍                           | 249/415 [03:05<02:12,  1.25it/s]\u001b[A"
     ]
    },
    {
     "name": "stdout",
     "output_type": "stream",
     "text": [
      "tensor(0.5037, device='cuda:0', grad_fn=<NllLossBackward>)\n",
      "0.503705620765686\n"
     ]
    },
    {
     "name": "stderr",
     "output_type": "stream",
     "text": [
      "\n",
      "Iteration:  60%|█████████████████████████████████████████▌                           | 250/415 [03:06<02:11,  1.26it/s]\u001b[A"
     ]
    },
    {
     "name": "stdout",
     "output_type": "stream",
     "text": [
      "tensor(0.6187, device='cuda:0', grad_fn=<NllLossBackward>)\n",
      "0.6186972260475159\n"
     ]
    },
    {
     "name": "stderr",
     "output_type": "stream",
     "text": [
      "\n",
      "Iteration:  60%|█████████████████████████████████████████▋                           | 251/415 [03:07<02:11,  1.25it/s]\u001b[A"
     ]
    },
    {
     "name": "stdout",
     "output_type": "stream",
     "text": [
      "tensor(0.7117, device='cuda:0', grad_fn=<NllLossBackward>)\n",
      "0.7117212414741516\n"
     ]
    },
    {
     "name": "stderr",
     "output_type": "stream",
     "text": [
      "\n",
      "Iteration:  61%|█████████████████████████████████████████▉                           | 252/415 [03:08<02:09,  1.25it/s]\u001b[A"
     ]
    },
    {
     "name": "stdout",
     "output_type": "stream",
     "text": [
      "tensor(0.5709, device='cuda:0', grad_fn=<NllLossBackward>)\n",
      "0.5708722472190857\n"
     ]
    },
    {
     "name": "stderr",
     "output_type": "stream",
     "text": [
      "\n",
      "Iteration:  61%|██████████████████████████████████████████                           | 253/415 [03:08<02:09,  1.25it/s]\u001b[A"
     ]
    },
    {
     "name": "stdout",
     "output_type": "stream",
     "text": [
      "tensor(0.6484, device='cuda:0', grad_fn=<NllLossBackward>)\n",
      "0.6483763456344604\n"
     ]
    },
    {
     "name": "stderr",
     "output_type": "stream",
     "text": [
      "\n",
      "Iteration:  61%|██████████████████████████████████████████▏                          | 254/415 [03:09<02:09,  1.24it/s]\u001b[A"
     ]
    },
    {
     "name": "stdout",
     "output_type": "stream",
     "text": [
      "tensor(0.5282, device='cuda:0', grad_fn=<NllLossBackward>)\n",
      "0.528240442276001\n"
     ]
    },
    {
     "name": "stderr",
     "output_type": "stream",
     "text": [
      "\n",
      "Iteration:  61%|██████████████████████████████████████████▍                          | 255/415 [03:10<02:08,  1.25it/s]\u001b[A"
     ]
    },
    {
     "name": "stdout",
     "output_type": "stream",
     "text": [
      "tensor(0.5848, device='cuda:0', grad_fn=<NllLossBackward>)\n",
      "0.5847558975219727\n"
     ]
    },
    {
     "name": "stderr",
     "output_type": "stream",
     "text": [
      "\n",
      "Iteration:  62%|██████████████████████████████████████████▌                          | 256/415 [03:11<02:06,  1.25it/s]\u001b[A"
     ]
    },
    {
     "name": "stdout",
     "output_type": "stream",
     "text": [
      "tensor(0.6712, device='cuda:0', grad_fn=<NllLossBackward>)\n",
      "0.6711634397506714\n"
     ]
    },
    {
     "name": "stderr",
     "output_type": "stream",
     "text": [
      "\n",
      "Iteration:  62%|██████████████████████████████████████████▋                          | 257/415 [03:12<02:05,  1.26it/s]\u001b[A"
     ]
    },
    {
     "name": "stdout",
     "output_type": "stream",
     "text": [
      "tensor(0.5965, device='cuda:0', grad_fn=<NllLossBackward>)\n",
      "0.596505343914032\n"
     ]
    },
    {
     "name": "stderr",
     "output_type": "stream",
     "text": [
      "\n",
      "Iteration:  62%|██████████████████████████████████████████▉                          | 258/415 [03:12<02:03,  1.27it/s]\u001b[A"
     ]
    },
    {
     "name": "stdout",
     "output_type": "stream",
     "text": [
      "tensor(0.5047, device='cuda:0', grad_fn=<NllLossBackward>)\n",
      "0.5047129392623901\n"
     ]
    },
    {
     "name": "stderr",
     "output_type": "stream",
     "text": [
      "\n",
      "Iteration:  62%|███████████████████████████████████████████                          | 259/415 [03:13<02:02,  1.27it/s]\u001b[A"
     ]
    },
    {
     "name": "stdout",
     "output_type": "stream",
     "text": [
      "tensor(0.7402, device='cuda:0', grad_fn=<NllLossBackward>)\n",
      "0.740177571773529\n"
     ]
    },
    {
     "name": "stderr",
     "output_type": "stream",
     "text": [
      "\n",
      "Iteration:  63%|███████████████████████████████████████████▏                         | 260/415 [03:14<02:01,  1.27it/s]\u001b[A"
     ]
    },
    {
     "name": "stdout",
     "output_type": "stream",
     "text": [
      "tensor(0.6153, device='cuda:0', grad_fn=<NllLossBackward>)\n",
      "0.6153445839881897\n"
     ]
    },
    {
     "name": "stderr",
     "output_type": "stream",
     "text": [
      "\n",
      "Iteration:  63%|███████████████████████████████████████████▍                         | 261/415 [03:15<02:01,  1.26it/s]\u001b[A"
     ]
    },
    {
     "name": "stdout",
     "output_type": "stream",
     "text": [
      "tensor(0.7123, device='cuda:0', grad_fn=<NllLossBackward>)\n",
      "0.7122832536697388\n"
     ]
    },
    {
     "name": "stderr",
     "output_type": "stream",
     "text": [
      "\n",
      "Iteration:  63%|███████████████████████████████████████████▌                         | 262/415 [03:15<02:01,  1.26it/s]\u001b[A"
     ]
    },
    {
     "name": "stdout",
     "output_type": "stream",
     "text": [
      "tensor(0.5167, device='cuda:0', grad_fn=<NllLossBackward>)\n",
      "0.5166721343994141\n"
     ]
    },
    {
     "name": "stderr",
     "output_type": "stream",
     "text": [
      "\n",
      "Iteration:  63%|███████████████████████████████████████████▋                         | 263/415 [03:16<02:00,  1.26it/s]\u001b[A"
     ]
    },
    {
     "name": "stdout",
     "output_type": "stream",
     "text": [
      "tensor(0.5164, device='cuda:0', grad_fn=<NllLossBackward>)\n",
      "0.516354501247406\n"
     ]
    },
    {
     "name": "stderr",
     "output_type": "stream",
     "text": [
      "\n",
      "Iteration:  64%|███████████████████████████████████████████▉                         | 264/415 [03:17<01:59,  1.26it/s]\u001b[A"
     ]
    },
    {
     "name": "stdout",
     "output_type": "stream",
     "text": [
      "tensor(0.6191, device='cuda:0', grad_fn=<NllLossBackward>)\n",
      "0.6191191673278809\n"
     ]
    },
    {
     "name": "stderr",
     "output_type": "stream",
     "text": [
      "\n",
      "Iteration:  64%|████████████████████████████████████████████                         | 265/415 [03:18<01:57,  1.28it/s]\u001b[A"
     ]
    },
    {
     "name": "stdout",
     "output_type": "stream",
     "text": [
      "tensor(0.7136, device='cuda:0', grad_fn=<NllLossBackward>)\n",
      "0.713591456413269\n"
     ]
    },
    {
     "name": "stderr",
     "output_type": "stream",
     "text": [
      "\n",
      "Iteration:  64%|████████████████████████████████████████████▏                        | 266/415 [03:19<01:56,  1.28it/s]\u001b[A"
     ]
    },
    {
     "name": "stdout",
     "output_type": "stream",
     "text": [
      "tensor(0.5686, device='cuda:0', grad_fn=<NllLossBackward>)\n",
      "0.5685718059539795\n"
     ]
    },
    {
     "name": "stderr",
     "output_type": "stream",
     "text": [
      "\n",
      "Iteration:  64%|████████████████████████████████████████████▍                        | 267/415 [03:19<01:58,  1.25it/s]\u001b[A"
     ]
    },
    {
     "name": "stdout",
     "output_type": "stream",
     "text": [
      "tensor(0.4999, device='cuda:0', grad_fn=<NllLossBackward>)\n",
      "0.49992457032203674\n"
     ]
    },
    {
     "name": "stderr",
     "output_type": "stream",
     "text": [
      "\n",
      "Iteration:  65%|████████████████████████████████████████████▌                        | 268/415 [03:20<01:58,  1.24it/s]\u001b[A"
     ]
    },
    {
     "name": "stdout",
     "output_type": "stream",
     "text": [
      "tensor(0.5942, device='cuda:0', grad_fn=<NllLossBackward>)\n",
      "0.5941767692565918\n"
     ]
    },
    {
     "name": "stderr",
     "output_type": "stream",
     "text": [
      "\n",
      "Iteration:  65%|████████████████████████████████████████████▋                        | 269/415 [03:21<01:58,  1.24it/s]\u001b[A"
     ]
    },
    {
     "name": "stdout",
     "output_type": "stream",
     "text": [
      "tensor(0.6198, device='cuda:0', grad_fn=<NllLossBackward>)\n",
      "0.6198249459266663\n"
     ]
    },
    {
     "name": "stderr",
     "output_type": "stream",
     "text": [
      "\n",
      "Iteration:  65%|████████████████████████████████████████████▉                        | 270/415 [03:22<01:59,  1.21it/s]\u001b[A"
     ]
    },
    {
     "name": "stdout",
     "output_type": "stream",
     "text": [
      "tensor(0.5048, device='cuda:0', grad_fn=<NllLossBackward>)\n",
      "0.5047534108161926\n"
     ]
    },
    {
     "name": "stderr",
     "output_type": "stream",
     "text": [
      "\n",
      "Iteration:  65%|█████████████████████████████████████████████                        | 271/415 [03:23<01:57,  1.23it/s]\u001b[A"
     ]
    },
    {
     "name": "stdout",
     "output_type": "stream",
     "text": [
      "tensor(0.7201, device='cuda:0', grad_fn=<NllLossBackward>)\n",
      "0.7201403379440308\n"
     ]
    },
    {
     "name": "stderr",
     "output_type": "stream",
     "text": [
      "\n",
      "Iteration:  66%|█████████████████████████████████████████████▏                       | 272/415 [03:24<01:54,  1.25it/s]\u001b[A"
     ]
    },
    {
     "name": "stdout",
     "output_type": "stream",
     "text": [
      "tensor(0.5181, device='cuda:0', grad_fn=<NllLossBackward>)\n",
      "0.5180529356002808\n"
     ]
    },
    {
     "name": "stderr",
     "output_type": "stream",
     "text": [
      "\n",
      "Iteration:  66%|█████████████████████████████████████████████▍                       | 273/415 [03:24<01:53,  1.25it/s]\u001b[A"
     ]
    },
    {
     "name": "stdout",
     "output_type": "stream",
     "text": [
      "tensor(0.5388, device='cuda:0', grad_fn=<NllLossBackward>)\n",
      "0.5388159155845642\n"
     ]
    },
    {
     "name": "stderr",
     "output_type": "stream",
     "text": [
      "\n",
      "Iteration:  66%|█████████████████████████████████████████████▌                       | 274/415 [03:25<01:52,  1.25it/s]\u001b[A"
     ]
    },
    {
     "name": "stdout",
     "output_type": "stream",
     "text": [
      "tensor(0.5908, device='cuda:0', grad_fn=<NllLossBackward>)\n",
      "0.5907692909240723\n"
     ]
    },
    {
     "name": "stderr",
     "output_type": "stream",
     "text": [
      "\n",
      "Iteration:  66%|█████████████████████████████████████████████▋                       | 275/415 [03:26<01:52,  1.25it/s]\u001b[A"
     ]
    },
    {
     "name": "stdout",
     "output_type": "stream",
     "text": [
      "tensor(0.6014, device='cuda:0', grad_fn=<NllLossBackward>)\n",
      "0.6013689637184143\n"
     ]
    },
    {
     "name": "stderr",
     "output_type": "stream",
     "text": [
      "\n",
      "Iteration:  67%|█████████████████████████████████████████████▉                       | 276/415 [03:27<01:51,  1.25it/s]\u001b[A"
     ]
    },
    {
     "name": "stdout",
     "output_type": "stream",
     "text": [
      "tensor(0.5013, device='cuda:0', grad_fn=<NllLossBackward>)\n",
      "0.5013450980186462\n"
     ]
    },
    {
     "name": "stderr",
     "output_type": "stream",
     "text": [
      "\n",
      "Iteration:  67%|██████████████████████████████████████████████                       | 277/415 [03:27<01:49,  1.26it/s]\u001b[A"
     ]
    },
    {
     "name": "stdout",
     "output_type": "stream",
     "text": [
      "tensor(0.5812, device='cuda:0', grad_fn=<NllLossBackward>)\n",
      "0.5811595916748047\n"
     ]
    },
    {
     "name": "stderr",
     "output_type": "stream",
     "text": [
      "\n",
      "Iteration:  67%|██████████████████████████████████████████████▏                      | 278/415 [03:28<01:48,  1.27it/s]\u001b[A"
     ]
    },
    {
     "name": "stdout",
     "output_type": "stream",
     "text": [
      "tensor(0.5275, device='cuda:0', grad_fn=<NllLossBackward>)\n",
      "0.5274989604949951\n"
     ]
    },
    {
     "name": "stderr",
     "output_type": "stream",
     "text": [
      "\n",
      "Iteration:  67%|██████████████████████████████████████████████▍                      | 279/415 [03:29<01:48,  1.26it/s]\u001b[A"
     ]
    },
    {
     "name": "stdout",
     "output_type": "stream",
     "text": [
      "tensor(0.4636, device='cuda:0', grad_fn=<NllLossBackward>)\n",
      "0.46361246705055237\n"
     ]
    },
    {
     "name": "stderr",
     "output_type": "stream",
     "text": [
      "\n",
      "Iteration:  67%|██████████████████████████████████████████████▌                      | 280/415 [03:30<01:46,  1.26it/s]\u001b[A"
     ]
    },
    {
     "name": "stdout",
     "output_type": "stream",
     "text": [
      "tensor(0.6345, device='cuda:0', grad_fn=<NllLossBackward>)\n",
      "0.6344841122627258\n"
     ]
    },
    {
     "name": "stderr",
     "output_type": "stream",
     "text": [
      "\n",
      "Iteration:  68%|██████████████████████████████████████████████▋                      | 281/415 [03:31<01:46,  1.26it/s]\u001b[A"
     ]
    },
    {
     "name": "stdout",
     "output_type": "stream",
     "text": [
      "tensor(0.6507, device='cuda:0', grad_fn=<NllLossBackward>)\n",
      "0.6507320404052734\n"
     ]
    },
    {
     "name": "stderr",
     "output_type": "stream",
     "text": [
      "\n",
      "Iteration:  68%|██████████████████████████████████████████████▉                      | 282/415 [03:31<01:46,  1.24it/s]\u001b[A"
     ]
    },
    {
     "name": "stdout",
     "output_type": "stream",
     "text": [
      "tensor(0.5278, device='cuda:0', grad_fn=<NllLossBackward>)\n",
      "0.5278266668319702\n"
     ]
    },
    {
     "name": "stderr",
     "output_type": "stream",
     "text": [
      "\n",
      "Iteration:  68%|███████████████████████████████████████████████                      | 283/415 [03:32<01:44,  1.26it/s]\u001b[A"
     ]
    },
    {
     "name": "stdout",
     "output_type": "stream",
     "text": [
      "tensor(0.5457, device='cuda:0', grad_fn=<NllLossBackward>)\n",
      "0.5457068085670471\n"
     ]
    },
    {
     "name": "stderr",
     "output_type": "stream",
     "text": [
      "\n",
      "Iteration:  68%|███████████████████████████████████████████████▏                     | 284/415 [03:33<01:43,  1.26it/s]\u001b[A"
     ]
    },
    {
     "name": "stdout",
     "output_type": "stream",
     "text": [
      "tensor(0.5394, device='cuda:0', grad_fn=<NllLossBackward>)\n",
      "0.539376437664032\n"
     ]
    },
    {
     "name": "stderr",
     "output_type": "stream",
     "text": [
      "\n",
      "Iteration:  69%|███████████████████████████████████████████████▍                     | 285/415 [03:34<01:47,  1.21it/s]\u001b[A"
     ]
    },
    {
     "name": "stdout",
     "output_type": "stream",
     "text": [
      "tensor(0.5515, device='cuda:0', grad_fn=<NllLossBackward>)\n",
      "0.5515282154083252\n"
     ]
    },
    {
     "name": "stderr",
     "output_type": "stream",
     "text": [
      "\n",
      "Iteration:  69%|███████████████████████████████████████████████▌                     | 286/415 [03:35<01:45,  1.23it/s]\u001b[A"
     ]
    },
    {
     "name": "stdout",
     "output_type": "stream",
     "text": [
      "tensor(0.6872, device='cuda:0', grad_fn=<NllLossBackward>)\n",
      "0.6871758103370667\n"
     ]
    },
    {
     "name": "stderr",
     "output_type": "stream",
     "text": [
      "\n",
      "Iteration:  69%|███████████████████████████████████████████████▋                     | 287/415 [03:36<01:43,  1.23it/s]\u001b[A"
     ]
    },
    {
     "name": "stdout",
     "output_type": "stream",
     "text": [
      "tensor(0.7532, device='cuda:0', grad_fn=<NllLossBackward>)\n",
      "0.7532311081886292\n"
     ]
    },
    {
     "name": "stderr",
     "output_type": "stream",
     "text": [
      "\n",
      "Iteration:  69%|███████████████████████████████████████████████▉                     | 288/415 [03:36<01:42,  1.24it/s]\u001b[A"
     ]
    },
    {
     "name": "stdout",
     "output_type": "stream",
     "text": [
      "tensor(0.4605, device='cuda:0', grad_fn=<NllLossBackward>)\n",
      "0.46046632528305054\n"
     ]
    },
    {
     "name": "stderr",
     "output_type": "stream",
     "text": [
      "\n",
      "Iteration:  70%|████████████████████████████████████████████████                     | 289/415 [03:37<01:40,  1.25it/s]\u001b[A"
     ]
    },
    {
     "name": "stdout",
     "output_type": "stream",
     "text": [
      "tensor(0.4500, device='cuda:0', grad_fn=<NllLossBackward>)\n",
      "0.45002761483192444\n"
     ]
    },
    {
     "name": "stderr",
     "output_type": "stream",
     "text": [
      "\n",
      "Iteration:  70%|████████████████████████████████████████████████▏                    | 290/415 [03:38<01:39,  1.26it/s]\u001b[A"
     ]
    },
    {
     "name": "stdout",
     "output_type": "stream",
     "text": [
      "tensor(0.6119, device='cuda:0', grad_fn=<NllLossBackward>)\n",
      "0.6118527054786682\n"
     ]
    },
    {
     "name": "stderr",
     "output_type": "stream",
     "text": [
      "\n",
      "Iteration:  70%|████████████████████████████████████████████████▍                    | 291/415 [03:39<01:38,  1.25it/s]\u001b[A"
     ]
    },
    {
     "name": "stdout",
     "output_type": "stream",
     "text": [
      "tensor(0.5543, device='cuda:0', grad_fn=<NllLossBackward>)\n",
      "0.5543127655982971\n"
     ]
    },
    {
     "name": "stderr",
     "output_type": "stream",
     "text": [
      "\n",
      "Iteration:  70%|████████████████████████████████████████████████▌                    | 292/415 [03:40<01:39,  1.24it/s]\u001b[A"
     ]
    },
    {
     "name": "stdout",
     "output_type": "stream",
     "text": [
      "tensor(0.6153, device='cuda:0', grad_fn=<NllLossBackward>)\n",
      "0.6153198480606079\n"
     ]
    },
    {
     "name": "stderr",
     "output_type": "stream",
     "text": [
      "\n",
      "Iteration:  71%|████████████████████████████████████████████████▋                    | 293/415 [03:40<01:37,  1.25it/s]\u001b[A"
     ]
    },
    {
     "name": "stdout",
     "output_type": "stream",
     "text": [
      "tensor(0.5854, device='cuda:0', grad_fn=<NllLossBackward>)\n",
      "0.5853691697120667\n"
     ]
    },
    {
     "name": "stderr",
     "output_type": "stream",
     "text": [
      "\n",
      "Iteration:  71%|████████████████████████████████████████████████▉                    | 294/415 [03:41<01:36,  1.25it/s]\u001b[A"
     ]
    },
    {
     "name": "stdout",
     "output_type": "stream",
     "text": [
      "tensor(0.5546, device='cuda:0', grad_fn=<NllLossBackward>)\n",
      "0.5545986294746399\n"
     ]
    },
    {
     "name": "stderr",
     "output_type": "stream",
     "text": [
      "\n",
      "Iteration:  71%|█████████████████████████████████████████████████                    | 295/415 [03:42<01:35,  1.26it/s]\u001b[A"
     ]
    },
    {
     "name": "stdout",
     "output_type": "stream",
     "text": [
      "tensor(0.6569, device='cuda:0', grad_fn=<NllLossBackward>)\n",
      "0.6569214463233948\n"
     ]
    },
    {
     "name": "stderr",
     "output_type": "stream",
     "text": [
      "\n",
      "Iteration:  71%|█████████████████████████████████████████████████▏                   | 296/415 [03:43<01:34,  1.25it/s]\u001b[A"
     ]
    },
    {
     "name": "stdout",
     "output_type": "stream",
     "text": [
      "tensor(0.6294, device='cuda:0', grad_fn=<NllLossBackward>)\n",
      "0.6294304132461548\n"
     ]
    },
    {
     "name": "stderr",
     "output_type": "stream",
     "text": [
      "\n",
      "Iteration:  72%|█████████████████████████████████████████████████▍                   | 297/415 [03:43<01:33,  1.26it/s]\u001b[A"
     ]
    },
    {
     "name": "stdout",
     "output_type": "stream",
     "text": [
      "tensor(0.6214, device='cuda:0', grad_fn=<NllLossBackward>)\n",
      "0.6214361786842346\n"
     ]
    },
    {
     "name": "stderr",
     "output_type": "stream",
     "text": [
      "\n",
      "Iteration:  72%|█████████████████████████████████████████████████▌                   | 298/415 [03:44<01:33,  1.26it/s]\u001b[A"
     ]
    },
    {
     "name": "stdout",
     "output_type": "stream",
     "text": [
      "tensor(0.6421, device='cuda:0', grad_fn=<NllLossBackward>)\n",
      "0.6421013474464417\n"
     ]
    },
    {
     "name": "stderr",
     "output_type": "stream",
     "text": [
      "\n",
      "Iteration:  72%|█████████████████████████████████████████████████▋                   | 299/415 [03:45<01:31,  1.26it/s]\u001b[A"
     ]
    },
    {
     "name": "stdout",
     "output_type": "stream",
     "text": [
      "tensor(0.6428, device='cuda:0', grad_fn=<NllLossBackward>)\n",
      "0.6427926421165466\n"
     ]
    },
    {
     "name": "stderr",
     "output_type": "stream",
     "text": [
      "\n",
      "Iteration:  72%|█████████████████████████████████████████████████▉                   | 300/415 [03:46<01:31,  1.25it/s]\u001b[A"
     ]
    },
    {
     "name": "stdout",
     "output_type": "stream",
     "text": [
      "tensor(0.7118, device='cuda:0', grad_fn=<NllLossBackward>)\n",
      "0.711772084236145\n"
     ]
    },
    {
     "name": "stderr",
     "output_type": "stream",
     "text": [
      "\n",
      "Iteration:  73%|██████████████████████████████████████████████████                   | 301/415 [03:47<01:30,  1.25it/s]\u001b[A"
     ]
    },
    {
     "name": "stdout",
     "output_type": "stream",
     "text": [
      "tensor(0.5810, device='cuda:0', grad_fn=<NllLossBackward>)\n",
      "0.5809599757194519\n"
     ]
    },
    {
     "name": "stderr",
     "output_type": "stream",
     "text": [
      "\n",
      "Iteration:  73%|██████████████████████████████████████████████████▏                  | 302/415 [03:47<01:29,  1.26it/s]\u001b[A"
     ]
    },
    {
     "name": "stdout",
     "output_type": "stream",
     "text": [
      "tensor(0.6426, device='cuda:0', grad_fn=<NllLossBackward>)\n",
      "0.642605185508728\n"
     ]
    },
    {
     "name": "stderr",
     "output_type": "stream",
     "text": [
      "\n",
      "Iteration:  73%|██████████████████████████████████████████████████▍                  | 303/415 [03:48<01:28,  1.26it/s]\u001b[A"
     ]
    },
    {
     "name": "stdout",
     "output_type": "stream",
     "text": [
      "tensor(0.6706, device='cuda:0', grad_fn=<NllLossBackward>)\n",
      "0.670625627040863\n"
     ]
    },
    {
     "name": "stderr",
     "output_type": "stream",
     "text": [
      "\n",
      "Iteration:  73%|██████████████████████████████████████████████████▌                  | 304/415 [03:49<01:28,  1.26it/s]\u001b[A"
     ]
    },
    {
     "name": "stdout",
     "output_type": "stream",
     "text": [
      "tensor(0.6522, device='cuda:0', grad_fn=<NllLossBackward>)\n",
      "0.6521903872489929\n"
     ]
    },
    {
     "name": "stderr",
     "output_type": "stream",
     "text": [
      "\n",
      "Iteration:  73%|██████████████████████████████████████████████████▋                  | 305/415 [03:50<01:26,  1.27it/s]\u001b[A"
     ]
    },
    {
     "name": "stdout",
     "output_type": "stream",
     "text": [
      "tensor(0.5467, device='cuda:0', grad_fn=<NllLossBackward>)\n",
      "0.5467011332511902\n"
     ]
    },
    {
     "name": "stderr",
     "output_type": "stream",
     "text": [
      "\n",
      "Iteration:  74%|██████████████████████████████████████████████████▉                  | 306/415 [03:51<01:25,  1.28it/s]\u001b[A"
     ]
    },
    {
     "name": "stdout",
     "output_type": "stream",
     "text": [
      "tensor(0.6319, device='cuda:0', grad_fn=<NllLossBackward>)\n",
      "0.6319196224212646\n"
     ]
    },
    {
     "name": "stderr",
     "output_type": "stream",
     "text": [
      "\n",
      "Iteration:  74%|███████████████████████████████████████████████████                  | 307/415 [03:51<01:24,  1.28it/s]\u001b[A"
     ]
    },
    {
     "name": "stdout",
     "output_type": "stream",
     "text": [
      "tensor(0.6719, device='cuda:0', grad_fn=<NllLossBackward>)\n",
      "0.6718549728393555\n"
     ]
    },
    {
     "name": "stderr",
     "output_type": "stream",
     "text": [
      "\n",
      "Iteration:  74%|███████████████████████████████████████████████████▏                 | 308/415 [03:52<01:23,  1.28it/s]\u001b[A"
     ]
    },
    {
     "name": "stdout",
     "output_type": "stream",
     "text": [
      "tensor(0.6640, device='cuda:0', grad_fn=<NllLossBackward>)\n",
      "0.6640291213989258\n"
     ]
    },
    {
     "name": "stderr",
     "output_type": "stream",
     "text": [
      "\n",
      "Iteration:  74%|███████████████████████████████████████████████████▍                 | 309/415 [03:53<01:23,  1.27it/s]\u001b[A"
     ]
    },
    {
     "name": "stdout",
     "output_type": "stream",
     "text": [
      "tensor(0.6351, device='cuda:0', grad_fn=<NllLossBackward>)\n",
      "0.6351032257080078\n"
     ]
    },
    {
     "name": "stderr",
     "output_type": "stream",
     "text": [
      "\n",
      "Iteration:  75%|███████████████████████████████████████████████████▌                 | 310/415 [03:54<01:23,  1.26it/s]\u001b[A"
     ]
    },
    {
     "name": "stdout",
     "output_type": "stream",
     "text": [
      "tensor(0.5899, device='cuda:0', grad_fn=<NllLossBackward>)\n",
      "0.5898791551589966\n"
     ]
    },
    {
     "name": "stderr",
     "output_type": "stream",
     "text": [
      "\n",
      "Iteration:  75%|███████████████████████████████████████████████████▋                 | 311/415 [03:55<01:22,  1.25it/s]\u001b[A"
     ]
    },
    {
     "name": "stdout",
     "output_type": "stream",
     "text": [
      "tensor(0.7441, device='cuda:0', grad_fn=<NllLossBackward>)\n",
      "0.7441427707672119\n"
     ]
    },
    {
     "name": "stderr",
     "output_type": "stream",
     "text": [
      "\n",
      "Iteration:  75%|███████████████████████████████████████████████████▊                 | 312/415 [03:55<01:21,  1.27it/s]\u001b[A"
     ]
    },
    {
     "name": "stdout",
     "output_type": "stream",
     "text": [
      "tensor(0.6008, device='cuda:0', grad_fn=<NllLossBackward>)\n",
      "0.6008371710777283\n"
     ]
    },
    {
     "name": "stderr",
     "output_type": "stream",
     "text": [
      "\n",
      "Iteration:  75%|████████████████████████████████████████████████████                 | 313/415 [03:56<01:21,  1.26it/s]\u001b[A"
     ]
    },
    {
     "name": "stdout",
     "output_type": "stream",
     "text": [
      "tensor(0.6240, device='cuda:0', grad_fn=<NllLossBackward>)\n",
      "0.6239625811576843\n"
     ]
    },
    {
     "name": "stderr",
     "output_type": "stream",
     "text": [
      "\n",
      "Iteration:  76%|████████████████████████████████████████████████████▏                | 314/415 [03:57<01:19,  1.26it/s]\u001b[A"
     ]
    },
    {
     "name": "stdout",
     "output_type": "stream",
     "text": [
      "tensor(0.5823, device='cuda:0', grad_fn=<NllLossBackward>)\n",
      "0.582331120967865\n"
     ]
    },
    {
     "name": "stderr",
     "output_type": "stream",
     "text": [
      "\n",
      "Iteration:  76%|████████████████████████████████████████████████████▎                | 315/415 [03:58<01:18,  1.27it/s]\u001b[A"
     ]
    },
    {
     "name": "stdout",
     "output_type": "stream",
     "text": [
      "tensor(0.5116, device='cuda:0', grad_fn=<NllLossBackward>)\n",
      "0.5116032958030701\n"
     ]
    },
    {
     "name": "stderr",
     "output_type": "stream",
     "text": [
      "\n",
      "Iteration:  76%|████████████████████████████████████████████████████▌                | 316/415 [03:58<01:17,  1.27it/s]\u001b[A"
     ]
    },
    {
     "name": "stdout",
     "output_type": "stream",
     "text": [
      "tensor(0.6425, device='cuda:0', grad_fn=<NllLossBackward>)\n",
      "0.6425086259841919\n"
     ]
    },
    {
     "name": "stderr",
     "output_type": "stream",
     "text": [
      "\n",
      "Iteration:  76%|████████████████████████████████████████████████████▋                | 317/415 [03:59<01:17,  1.26it/s]\u001b[A"
     ]
    },
    {
     "name": "stdout",
     "output_type": "stream",
     "text": [
      "tensor(0.5359, device='cuda:0', grad_fn=<NllLossBackward>)\n",
      "0.5358569622039795\n"
     ]
    },
    {
     "name": "stderr",
     "output_type": "stream",
     "text": [
      "\n",
      "Iteration:  77%|████████████████████████████████████████████████████▊                | 318/415 [04:00<01:16,  1.26it/s]\u001b[A"
     ]
    },
    {
     "name": "stdout",
     "output_type": "stream",
     "text": [
      "tensor(0.4930, device='cuda:0', grad_fn=<NllLossBackward>)\n",
      "0.4930199980735779\n"
     ]
    },
    {
     "name": "stderr",
     "output_type": "stream",
     "text": [
      "\n",
      "Iteration:  77%|█████████████████████████████████████████████████████                | 319/415 [04:01<01:16,  1.26it/s]\u001b[A"
     ]
    },
    {
     "name": "stdout",
     "output_type": "stream",
     "text": [
      "tensor(0.6510, device='cuda:0', grad_fn=<NllLossBackward>)\n",
      "0.6510103344917297\n"
     ]
    },
    {
     "name": "stderr",
     "output_type": "stream",
     "text": [
      "\n",
      "Iteration:  77%|█████████████████████████████████████████████████████▏               | 320/415 [04:02<01:18,  1.21it/s]\u001b[A"
     ]
    },
    {
     "name": "stdout",
     "output_type": "stream",
     "text": [
      "tensor(0.5002, device='cuda:0', grad_fn=<NllLossBackward>)\n",
      "0.5002279281616211\n"
     ]
    },
    {
     "name": "stderr",
     "output_type": "stream",
     "text": [
      "\n",
      "Iteration:  77%|█████████████████████████████████████████████████████▎               | 321/415 [04:03<01:16,  1.22it/s]\u001b[A"
     ]
    },
    {
     "name": "stdout",
     "output_type": "stream",
     "text": [
      "tensor(0.6163, device='cuda:0', grad_fn=<NllLossBackward>)\n",
      "0.6163409948348999\n"
     ]
    },
    {
     "name": "stderr",
     "output_type": "stream",
     "text": [
      "\n",
      "Iteration:  78%|█████████████████████████████████████████████████████▌               | 322/415 [04:03<01:15,  1.23it/s]\u001b[A"
     ]
    },
    {
     "name": "stdout",
     "output_type": "stream",
     "text": [
      "tensor(0.5639, device='cuda:0', grad_fn=<NllLossBackward>)\n",
      "0.563928484916687\n"
     ]
    },
    {
     "name": "stderr",
     "output_type": "stream",
     "text": [
      "\n",
      "Iteration:  78%|█████████████████████████████████████████████████████▋               | 323/415 [04:04<01:14,  1.24it/s]\u001b[A"
     ]
    },
    {
     "name": "stdout",
     "output_type": "stream",
     "text": [
      "tensor(0.4915, device='cuda:0', grad_fn=<NllLossBackward>)\n",
      "0.491455078125\n"
     ]
    },
    {
     "name": "stderr",
     "output_type": "stream",
     "text": [
      "\n",
      "Iteration:  78%|█████████████████████████████████████████████████████▊               | 324/415 [04:05<01:12,  1.25it/s]\u001b[A"
     ]
    },
    {
     "name": "stdout",
     "output_type": "stream",
     "text": [
      "tensor(0.5528, device='cuda:0', grad_fn=<NllLossBackward>)\n",
      "0.5528362989425659\n"
     ]
    },
    {
     "name": "stderr",
     "output_type": "stream",
     "text": [
      "\n",
      "Iteration:  78%|██████████████████████████████████████████████████████               | 325/415 [04:06<01:11,  1.25it/s]\u001b[A"
     ]
    },
    {
     "name": "stdout",
     "output_type": "stream",
     "text": [
      "tensor(0.4783, device='cuda:0', grad_fn=<NllLossBackward>)\n",
      "0.4783051013946533\n"
     ]
    },
    {
     "name": "stderr",
     "output_type": "stream",
     "text": [
      "\n",
      "Iteration:  79%|██████████████████████████████████████████████████████▏              | 326/415 [04:07<01:10,  1.26it/s]\u001b[A"
     ]
    },
    {
     "name": "stdout",
     "output_type": "stream",
     "text": [
      "tensor(0.5653, device='cuda:0', grad_fn=<NllLossBackward>)\n",
      "0.5652501583099365\n"
     ]
    },
    {
     "name": "stderr",
     "output_type": "stream",
     "text": [
      "\n",
      "Iteration:  79%|██████████████████████████████████████████████████████▎              | 327/415 [04:07<01:10,  1.24it/s]\u001b[A"
     ]
    },
    {
     "name": "stdout",
     "output_type": "stream",
     "text": [
      "tensor(0.8145, device='cuda:0', grad_fn=<NllLossBackward>)\n",
      "0.814483106136322\n"
     ]
    },
    {
     "name": "stderr",
     "output_type": "stream",
     "text": [
      "\n",
      "Iteration:  79%|██████████████████████████████████████████████████████▌              | 328/415 [04:08<01:09,  1.24it/s]\u001b[A"
     ]
    },
    {
     "name": "stdout",
     "output_type": "stream",
     "text": [
      "tensor(0.5105, device='cuda:0', grad_fn=<NllLossBackward>)\n",
      "0.5104966163635254\n"
     ]
    },
    {
     "name": "stderr",
     "output_type": "stream",
     "text": [
      "\n",
      "Iteration:  79%|██████████████████████████████████████████████████████▋              | 329/415 [04:09<01:09,  1.25it/s]\u001b[A"
     ]
    },
    {
     "name": "stdout",
     "output_type": "stream",
     "text": [
      "tensor(0.5962, device='cuda:0', grad_fn=<NllLossBackward>)\n",
      "0.5962395071983337\n"
     ]
    },
    {
     "name": "stderr",
     "output_type": "stream",
     "text": [
      "\n",
      "Iteration:  80%|██████████████████████████████████████████████████████▊              | 330/415 [04:10<01:08,  1.24it/s]\u001b[A"
     ]
    },
    {
     "name": "stdout",
     "output_type": "stream",
     "text": [
      "tensor(0.5475, device='cuda:0', grad_fn=<NllLossBackward>)\n",
      "0.5475099682807922\n"
     ]
    },
    {
     "name": "stderr",
     "output_type": "stream",
     "text": [
      "\n",
      "Iteration:  80%|███████████████████████████████████████████████████████              | 331/415 [04:11<01:07,  1.24it/s]\u001b[A"
     ]
    },
    {
     "name": "stdout",
     "output_type": "stream",
     "text": [
      "tensor(0.5167, device='cuda:0', grad_fn=<NllLossBackward>)\n",
      "0.5166879296302795\n"
     ]
    },
    {
     "name": "stderr",
     "output_type": "stream",
     "text": [
      "\n",
      "Iteration:  80%|███████████████████████████████████████████████████████▏             | 332/415 [04:11<01:06,  1.24it/s]\u001b[A"
     ]
    },
    {
     "name": "stdout",
     "output_type": "stream",
     "text": [
      "tensor(0.6879, device='cuda:0', grad_fn=<NllLossBackward>)\n",
      "0.687930166721344\n"
     ]
    },
    {
     "name": "stderr",
     "output_type": "stream",
     "text": [
      "\n",
      "Iteration:  80%|███████████████████████████████████████████████████████▎             | 333/415 [04:12<01:05,  1.26it/s]\u001b[A"
     ]
    },
    {
     "name": "stdout",
     "output_type": "stream",
     "text": [
      "tensor(0.6362, device='cuda:0', grad_fn=<NllLossBackward>)\n",
      "0.6362346410751343\n"
     ]
    },
    {
     "name": "stderr",
     "output_type": "stream",
     "text": [
      "\n",
      "Iteration:  80%|███████████████████████████████████████████████████████▌             | 334/415 [04:13<01:04,  1.26it/s]\u001b[A"
     ]
    },
    {
     "name": "stdout",
     "output_type": "stream",
     "text": [
      "tensor(0.4465, device='cuda:0', grad_fn=<NllLossBackward>)\n",
      "0.44649285078048706\n"
     ]
    },
    {
     "name": "stderr",
     "output_type": "stream",
     "text": [
      "\n",
      "Iteration:  81%|███████████████████████████████████████████████████████▋             | 335/415 [04:14<01:04,  1.24it/s]\u001b[A"
     ]
    },
    {
     "name": "stdout",
     "output_type": "stream",
     "text": [
      "tensor(0.5523, device='cuda:0', grad_fn=<NllLossBackward>)\n",
      "0.5522741079330444\n"
     ]
    },
    {
     "name": "stderr",
     "output_type": "stream",
     "text": [
      "\n",
      "Iteration:  81%|███████████████████████████████████████████████████████▊             | 336/415 [04:15<01:03,  1.24it/s]\u001b[A"
     ]
    },
    {
     "name": "stdout",
     "output_type": "stream",
     "text": [
      "tensor(0.5692, device='cuda:0', grad_fn=<NllLossBackward>)\n",
      "0.5692302584648132\n"
     ]
    },
    {
     "name": "stderr",
     "output_type": "stream",
     "text": [
      "\n",
      "Iteration:  81%|████████████████████████████████████████████████████████             | 337/415 [04:15<01:03,  1.23it/s]\u001b[A"
     ]
    },
    {
     "name": "stdout",
     "output_type": "stream",
     "text": [
      "tensor(0.5297, device='cuda:0', grad_fn=<NllLossBackward>)\n",
      "0.5296773910522461\n"
     ]
    },
    {
     "name": "stderr",
     "output_type": "stream",
     "text": [
      "\n",
      "Iteration:  81%|████████████████████████████████████████████████████████▏            | 338/415 [04:16<01:01,  1.24it/s]\u001b[A"
     ]
    },
    {
     "name": "stdout",
     "output_type": "stream",
     "text": [
      "tensor(0.4580, device='cuda:0', grad_fn=<NllLossBackward>)\n",
      "0.45803284645080566\n"
     ]
    },
    {
     "name": "stderr",
     "output_type": "stream",
     "text": [
      "\n",
      "Iteration:  82%|████████████████████████████████████████████████████████▎            | 339/415 [04:17<01:00,  1.25it/s]\u001b[A"
     ]
    },
    {
     "name": "stdout",
     "output_type": "stream",
     "text": [
      "tensor(0.8089, device='cuda:0', grad_fn=<NllLossBackward>)\n",
      "0.8088969588279724\n"
     ]
    },
    {
     "name": "stderr",
     "output_type": "stream",
     "text": [
      "\n",
      "Iteration:  82%|████████████████████████████████████████████████████████▌            | 340/415 [04:18<01:00,  1.25it/s]\u001b[A"
     ]
    },
    {
     "name": "stdout",
     "output_type": "stream",
     "text": [
      "tensor(0.5443, device='cuda:0', grad_fn=<NllLossBackward>)\n",
      "0.5442874431610107\n"
     ]
    },
    {
     "name": "stderr",
     "output_type": "stream",
     "text": [
      "\n",
      "Iteration:  82%|████████████████████████████████████████████████████████▋            | 341/415 [04:19<00:59,  1.25it/s]\u001b[A"
     ]
    },
    {
     "name": "stdout",
     "output_type": "stream",
     "text": [
      "tensor(0.4969, device='cuda:0', grad_fn=<NllLossBackward>)\n",
      "0.4969322681427002\n"
     ]
    },
    {
     "name": "stderr",
     "output_type": "stream",
     "text": [
      "\n",
      "Iteration:  82%|████████████████████████████████████████████████████████▊            | 342/415 [04:19<00:58,  1.24it/s]\u001b[A"
     ]
    },
    {
     "name": "stdout",
     "output_type": "stream",
     "text": [
      "tensor(0.6089, device='cuda:0', grad_fn=<NllLossBackward>)\n",
      "0.60893714427948\n"
     ]
    },
    {
     "name": "stderr",
     "output_type": "stream",
     "text": [
      "\n",
      "Iteration:  83%|█████████████████████████████████████████████████████████            | 343/415 [04:20<00:58,  1.24it/s]\u001b[A"
     ]
    },
    {
     "name": "stdout",
     "output_type": "stream",
     "text": [
      "tensor(0.3862, device='cuda:0', grad_fn=<NllLossBackward>)\n",
      "0.3861986994743347\n"
     ]
    },
    {
     "name": "stderr",
     "output_type": "stream",
     "text": [
      "\n",
      "Iteration:  83%|█████████████████████████████████████████████████████████▏           | 344/415 [04:21<00:58,  1.21it/s]\u001b[A"
     ]
    },
    {
     "name": "stdout",
     "output_type": "stream",
     "text": [
      "tensor(0.4754, device='cuda:0', grad_fn=<NllLossBackward>)\n",
      "0.4753637909889221\n"
     ]
    },
    {
     "name": "stderr",
     "output_type": "stream",
     "text": [
      "\n",
      "Iteration:  83%|█████████████████████████████████████████████████████████▎           | 345/415 [04:22<00:57,  1.23it/s]\u001b[A"
     ]
    },
    {
     "name": "stdout",
     "output_type": "stream",
     "text": [
      "tensor(0.5058, device='cuda:0', grad_fn=<NllLossBackward>)\n",
      "0.5058498978614807\n"
     ]
    },
    {
     "name": "stderr",
     "output_type": "stream",
     "text": [
      "\n",
      "Iteration:  83%|█████████████████████████████████████████████████████████▌           | 346/415 [04:23<00:56,  1.23it/s]\u001b[A"
     ]
    },
    {
     "name": "stdout",
     "output_type": "stream",
     "text": [
      "tensor(0.6442, device='cuda:0', grad_fn=<NllLossBackward>)\n",
      "0.6442268490791321\n"
     ]
    },
    {
     "name": "stderr",
     "output_type": "stream",
     "text": [
      "\n",
      "Iteration:  84%|█████████████████████████████████████████████████████████▋           | 347/415 [04:24<00:55,  1.23it/s]\u001b[A"
     ]
    },
    {
     "name": "stdout",
     "output_type": "stream",
     "text": [
      "tensor(0.4142, device='cuda:0', grad_fn=<NllLossBackward>)\n",
      "0.41418227553367615\n"
     ]
    },
    {
     "name": "stderr",
     "output_type": "stream",
     "text": [
      "\n",
      "Iteration:  84%|█████████████████████████████████████████████████████████▊           | 348/415 [04:24<00:54,  1.22it/s]\u001b[A"
     ]
    },
    {
     "name": "stdout",
     "output_type": "stream",
     "text": [
      "tensor(0.3495, device='cuda:0', grad_fn=<NllLossBackward>)\n",
      "0.3495293855667114\n"
     ]
    },
    {
     "name": "stderr",
     "output_type": "stream",
     "text": [
      "\n",
      "Iteration:  84%|██████████████████████████████████████████████████████████           | 349/415 [04:25<00:53,  1.23it/s]\u001b[A"
     ]
    },
    {
     "name": "stdout",
     "output_type": "stream",
     "text": [
      "tensor(0.4094, device='cuda:0', grad_fn=<NllLossBackward>)\n",
      "0.409372478723526\n"
     ]
    },
    {
     "name": "stderr",
     "output_type": "stream",
     "text": [
      "\n",
      "Iteration:  84%|██████████████████████████████████████████████████████████▏          | 350/415 [04:26<00:52,  1.23it/s]\u001b[A"
     ]
    },
    {
     "name": "stdout",
     "output_type": "stream",
     "text": [
      "tensor(0.6187, device='cuda:0', grad_fn=<NllLossBackward>)\n",
      "0.6187002062797546\n"
     ]
    },
    {
     "name": "stderr",
     "output_type": "stream",
     "text": [
      "\n",
      "Iteration:  85%|██████████████████████████████████████████████████████████▎          | 351/415 [04:27<00:51,  1.23it/s]\u001b[A"
     ]
    },
    {
     "name": "stdout",
     "output_type": "stream",
     "text": [
      "tensor(0.7620, device='cuda:0', grad_fn=<NllLossBackward>)\n",
      "0.762047529220581\n"
     ]
    },
    {
     "name": "stderr",
     "output_type": "stream",
     "text": [
      "\n",
      "Iteration:  85%|██████████████████████████████████████████████████████████▌          | 352/415 [04:28<00:51,  1.21it/s]\u001b[A"
     ]
    },
    {
     "name": "stdout",
     "output_type": "stream",
     "text": [
      "tensor(0.5910, device='cuda:0', grad_fn=<NllLossBackward>)\n",
      "0.5909921526908875\n"
     ]
    },
    {
     "name": "stderr",
     "output_type": "stream",
     "text": [
      "\n",
      "Iteration:  85%|██████████████████████████████████████████████████████████▋          | 353/415 [04:28<00:50,  1.22it/s]\u001b[A"
     ]
    },
    {
     "name": "stdout",
     "output_type": "stream",
     "text": [
      "tensor(0.4628, device='cuda:0', grad_fn=<NllLossBackward>)\n",
      "0.46281686425209045\n"
     ]
    },
    {
     "name": "stderr",
     "output_type": "stream",
     "text": [
      "\n",
      "Iteration:  85%|██████████████████████████████████████████████████████████▊          | 354/415 [04:29<00:50,  1.22it/s]\u001b[A"
     ]
    },
    {
     "name": "stdout",
     "output_type": "stream",
     "text": [
      "tensor(0.5774, device='cuda:0', grad_fn=<NllLossBackward>)\n",
      "0.5773854851722717\n"
     ]
    },
    {
     "name": "stderr",
     "output_type": "stream",
     "text": [
      "\n",
      "Iteration:  86%|███████████████████████████████████████████████████████████          | 355/415 [04:30<00:48,  1.23it/s]\u001b[A"
     ]
    },
    {
     "name": "stdout",
     "output_type": "stream",
     "text": [
      "tensor(0.4986, device='cuda:0', grad_fn=<NllLossBackward>)\n",
      "0.49864163994789124\n"
     ]
    },
    {
     "name": "stderr",
     "output_type": "stream",
     "text": [
      "\n",
      "Iteration:  86%|███████████████████████████████████████████████████████████▏         | 356/415 [04:31<00:48,  1.23it/s]\u001b[A"
     ]
    },
    {
     "name": "stdout",
     "output_type": "stream",
     "text": [
      "tensor(0.6295, device='cuda:0', grad_fn=<NllLossBackward>)\n",
      "0.6295377016067505\n"
     ]
    },
    {
     "name": "stderr",
     "output_type": "stream",
     "text": [
      "\n",
      "Iteration:  86%|███████████████████████████████████████████████████████████▎         | 357/415 [04:32<00:47,  1.21it/s]\u001b[A"
     ]
    },
    {
     "name": "stdout",
     "output_type": "stream",
     "text": [
      "tensor(0.6179, device='cuda:0', grad_fn=<NllLossBackward>)\n",
      "0.6178581714630127\n"
     ]
    },
    {
     "name": "stderr",
     "output_type": "stream",
     "text": [
      "\n",
      "Iteration:  86%|███████████████████████████████████████████████████████████▌         | 358/415 [04:33<00:47,  1.21it/s]\u001b[A"
     ]
    },
    {
     "name": "stdout",
     "output_type": "stream",
     "text": [
      "tensor(0.6989, device='cuda:0', grad_fn=<NllLossBackward>)\n",
      "0.6989302635192871\n"
     ]
    },
    {
     "name": "stderr",
     "output_type": "stream",
     "text": [
      "\n",
      "Iteration:  87%|███████████████████████████████████████████████████████████▋         | 359/415 [04:33<00:45,  1.22it/s]\u001b[A"
     ]
    },
    {
     "name": "stdout",
     "output_type": "stream",
     "text": [
      "tensor(0.4199, device='cuda:0', grad_fn=<NllLossBackward>)\n",
      "0.4199308454990387\n"
     ]
    },
    {
     "name": "stderr",
     "output_type": "stream",
     "text": [
      "\n",
      "Iteration:  87%|███████████████████████████████████████████████████████████▊         | 360/415 [04:34<00:44,  1.22it/s]\u001b[A"
     ]
    },
    {
     "name": "stdout",
     "output_type": "stream",
     "text": [
      "tensor(0.6763, device='cuda:0', grad_fn=<NllLossBackward>)\n",
      "0.6762544512748718\n"
     ]
    },
    {
     "name": "stderr",
     "output_type": "stream",
     "text": [
      "\n",
      "Iteration:  87%|████████████████████████████████████████████████████████████         | 361/415 [04:35<00:43,  1.23it/s]\u001b[A"
     ]
    },
    {
     "name": "stdout",
     "output_type": "stream",
     "text": [
      "tensor(0.5345, device='cuda:0', grad_fn=<NllLossBackward>)\n",
      "0.534493625164032\n"
     ]
    },
    {
     "name": "stderr",
     "output_type": "stream",
     "text": [
      "\n",
      "Iteration:  87%|████████████████████████████████████████████████████████████▏        | 362/415 [04:36<00:42,  1.23it/s]\u001b[A"
     ]
    },
    {
     "name": "stdout",
     "output_type": "stream",
     "text": [
      "tensor(0.5852, device='cuda:0', grad_fn=<NllLossBackward>)\n",
      "0.5852227807044983\n"
     ]
    },
    {
     "name": "stderr",
     "output_type": "stream",
     "text": [
      "\n",
      "Iteration:  87%|████████████████████████████████████████████████████████████▎        | 363/415 [04:37<00:42,  1.23it/s]\u001b[A"
     ]
    },
    {
     "name": "stdout",
     "output_type": "stream",
     "text": [
      "tensor(0.5559, device='cuda:0', grad_fn=<NllLossBackward>)\n",
      "0.5558909773826599\n"
     ]
    },
    {
     "name": "stderr",
     "output_type": "stream",
     "text": [
      "\n",
      "Iteration:  88%|████████████████████████████████████████████████████████████▌        | 364/415 [04:37<00:41,  1.23it/s]\u001b[A"
     ]
    },
    {
     "name": "stdout",
     "output_type": "stream",
     "text": [
      "tensor(0.6635, device='cuda:0', grad_fn=<NllLossBackward>)\n",
      "0.6634579300880432\n"
     ]
    },
    {
     "name": "stderr",
     "output_type": "stream",
     "text": [
      "\n",
      "Iteration:  88%|████████████████████████████████████████████████████████████▋        | 365/415 [04:38<00:40,  1.24it/s]\u001b[A"
     ]
    },
    {
     "name": "stdout",
     "output_type": "stream",
     "text": [
      "tensor(0.5902, device='cuda:0', grad_fn=<NllLossBackward>)\n",
      "0.5901721119880676\n"
     ]
    },
    {
     "name": "stderr",
     "output_type": "stream",
     "text": [
      "\n",
      "Iteration:  88%|████████████████████████████████████████████████████████████▊        | 366/415 [04:39<00:39,  1.26it/s]\u001b[A"
     ]
    },
    {
     "name": "stdout",
     "output_type": "stream",
     "text": [
      "tensor(0.6123, device='cuda:0', grad_fn=<NllLossBackward>)\n",
      "0.6122596859931946\n"
     ]
    },
    {
     "name": "stderr",
     "output_type": "stream",
     "text": [
      "\n",
      "Iteration:  88%|█████████████████████████████████████████████████████████████        | 367/415 [04:40<00:38,  1.26it/s]\u001b[A"
     ]
    },
    {
     "name": "stdout",
     "output_type": "stream",
     "text": [
      "tensor(0.5130, device='cuda:0', grad_fn=<NllLossBackward>)\n",
      "0.5129886865615845\n"
     ]
    },
    {
     "name": "stderr",
     "output_type": "stream",
     "text": [
      "\n",
      "Iteration:  89%|█████████████████████████████████████████████████████████████▏       | 368/415 [04:41<00:37,  1.26it/s]\u001b[A"
     ]
    },
    {
     "name": "stdout",
     "output_type": "stream",
     "text": [
      "tensor(0.5034, device='cuda:0', grad_fn=<NllLossBackward>)\n",
      "0.5033997297286987\n"
     ]
    },
    {
     "name": "stderr",
     "output_type": "stream",
     "text": [
      "\n",
      "Iteration:  89%|█████████████████████████████████████████████████████████████▎       | 369/415 [04:41<00:36,  1.25it/s]\u001b[A"
     ]
    },
    {
     "name": "stdout",
     "output_type": "stream",
     "text": [
      "tensor(0.5421, device='cuda:0', grad_fn=<NllLossBackward>)\n",
      "0.5421448945999146\n"
     ]
    },
    {
     "name": "stderr",
     "output_type": "stream",
     "text": [
      "\n",
      "Iteration:  89%|█████████████████████████████████████████████████████████████▌       | 370/415 [04:42<00:36,  1.24it/s]\u001b[A"
     ]
    },
    {
     "name": "stdout",
     "output_type": "stream",
     "text": [
      "tensor(0.6525, device='cuda:0', grad_fn=<NllLossBackward>)\n",
      "0.652463436126709\n"
     ]
    },
    {
     "name": "stderr",
     "output_type": "stream",
     "text": [
      "\n",
      "Iteration:  89%|█████████████████████████████████████████████████████████████▋       | 371/415 [04:43<00:35,  1.25it/s]\u001b[A"
     ]
    },
    {
     "name": "stdout",
     "output_type": "stream",
     "text": [
      "tensor(0.5010, device='cuda:0', grad_fn=<NllLossBackward>)\n",
      "0.5009690523147583\n"
     ]
    },
    {
     "name": "stderr",
     "output_type": "stream",
     "text": [
      "\n",
      "Iteration:  90%|█████████████████████████████████████████████████████████████▊       | 372/415 [04:44<00:35,  1.20it/s]\u001b[A"
     ]
    },
    {
     "name": "stdout",
     "output_type": "stream",
     "text": [
      "tensor(0.6001, device='cuda:0', grad_fn=<NllLossBackward>)\n",
      "0.6001258492469788\n"
     ]
    },
    {
     "name": "stderr",
     "output_type": "stream",
     "text": [
      "\n",
      "Iteration:  90%|██████████████████████████████████████████████████████████████       | 373/415 [04:45<00:34,  1.22it/s]\u001b[A"
     ]
    },
    {
     "name": "stdout",
     "output_type": "stream",
     "text": [
      "tensor(0.5089, device='cuda:0', grad_fn=<NllLossBackward>)\n",
      "0.5088844895362854\n"
     ]
    },
    {
     "name": "stderr",
     "output_type": "stream",
     "text": [
      "\n",
      "Iteration:  90%|██████████████████████████████████████████████████████████████▏      | 374/415 [04:45<00:33,  1.24it/s]\u001b[A"
     ]
    },
    {
     "name": "stdout",
     "output_type": "stream",
     "text": [
      "tensor(0.5289, device='cuda:0', grad_fn=<NllLossBackward>)\n",
      "0.5289093852043152\n"
     ]
    },
    {
     "name": "stderr",
     "output_type": "stream",
     "text": [
      "\n",
      "Iteration:  90%|██████████████████████████████████████████████████████████████▎      | 375/415 [04:46<00:32,  1.22it/s]\u001b[A"
     ]
    },
    {
     "name": "stdout",
     "output_type": "stream",
     "text": [
      "tensor(0.6352, device='cuda:0', grad_fn=<NllLossBackward>)\n",
      "0.6351513862609863\n"
     ]
    },
    {
     "name": "stderr",
     "output_type": "stream",
     "text": [
      "\n",
      "Iteration:  91%|██████████████████████████████████████████████████████████████▌      | 376/415 [04:47<00:31,  1.23it/s]\u001b[A"
     ]
    },
    {
     "name": "stdout",
     "output_type": "stream",
     "text": [
      "tensor(0.5961, device='cuda:0', grad_fn=<NllLossBackward>)\n",
      "0.5961228609085083\n"
     ]
    },
    {
     "name": "stderr",
     "output_type": "stream",
     "text": [
      "\n",
      "Iteration:  91%|██████████████████████████████████████████████████████████████▋      | 377/415 [04:48<00:30,  1.24it/s]\u001b[A"
     ]
    },
    {
     "name": "stdout",
     "output_type": "stream",
     "text": [
      "tensor(0.7141, device='cuda:0', grad_fn=<NllLossBackward>)\n",
      "0.714129626750946\n"
     ]
    },
    {
     "name": "stderr",
     "output_type": "stream",
     "text": [
      "\n",
      "Iteration:  91%|██████████████████████████████████████████████████████████████▊      | 378/415 [04:49<00:31,  1.18it/s]\u001b[A"
     ]
    },
    {
     "name": "stdout",
     "output_type": "stream",
     "text": [
      "tensor(0.4922, device='cuda:0', grad_fn=<NllLossBackward>)\n",
      "0.492213636636734\n"
     ]
    },
    {
     "name": "stderr",
     "output_type": "stream",
     "text": [
      "\n",
      "Iteration:  91%|███████████████████████████████████████████████████████████████      | 379/415 [04:50<00:30,  1.20it/s]\u001b[A"
     ]
    },
    {
     "name": "stdout",
     "output_type": "stream",
     "text": [
      "tensor(0.4953, device='cuda:0', grad_fn=<NllLossBackward>)\n",
      "0.4952968657016754\n"
     ]
    },
    {
     "name": "stderr",
     "output_type": "stream",
     "text": [
      "\n",
      "Iteration:  92%|███████████████████████████████████████████████████████████████▏     | 380/415 [04:50<00:28,  1.21it/s]\u001b[A"
     ]
    },
    {
     "name": "stdout",
     "output_type": "stream",
     "text": [
      "tensor(0.3289, device='cuda:0', grad_fn=<NllLossBackward>)\n",
      "0.3288861811161041\n"
     ]
    },
    {
     "name": "stderr",
     "output_type": "stream",
     "text": [
      "\n",
      "Iteration:  92%|███████████████████████████████████████████████████████████████▎     | 381/415 [04:51<00:27,  1.22it/s]\u001b[A"
     ]
    },
    {
     "name": "stdout",
     "output_type": "stream",
     "text": [
      "tensor(0.6215, device='cuda:0', grad_fn=<NllLossBackward>)\n",
      "0.6215073466300964\n"
     ]
    },
    {
     "name": "stderr",
     "output_type": "stream",
     "text": [
      "\n",
      "Iteration:  92%|███████████████████████████████████████████████████████████████▌     | 382/415 [04:52<00:26,  1.24it/s]\u001b[A"
     ]
    },
    {
     "name": "stdout",
     "output_type": "stream",
     "text": [
      "tensor(0.6617, device='cuda:0', grad_fn=<NllLossBackward>)\n",
      "0.6616847515106201\n"
     ]
    },
    {
     "name": "stderr",
     "output_type": "stream",
     "text": [
      "\n",
      "Iteration:  92%|███████████████████████████████████████████████████████████████▋     | 383/415 [04:53<00:26,  1.23it/s]\u001b[A"
     ]
    },
    {
     "name": "stdout",
     "output_type": "stream",
     "text": [
      "tensor(0.5430, device='cuda:0', grad_fn=<NllLossBackward>)\n",
      "0.5430331826210022\n"
     ]
    },
    {
     "name": "stderr",
     "output_type": "stream",
     "text": [
      "\n",
      "Iteration:  93%|███████████████████████████████████████████████████████████████▊     | 384/415 [04:54<00:25,  1.23it/s]\u001b[A"
     ]
    },
    {
     "name": "stdout",
     "output_type": "stream",
     "text": [
      "tensor(0.6059, device='cuda:0', grad_fn=<NllLossBackward>)\n",
      "0.605924129486084\n"
     ]
    },
    {
     "name": "stderr",
     "output_type": "stream",
     "text": [
      "\n",
      "Iteration:  93%|████████████████████████████████████████████████████████████████     | 385/415 [04:54<00:24,  1.23it/s]\u001b[A"
     ]
    },
    {
     "name": "stdout",
     "output_type": "stream",
     "text": [
      "tensor(0.5487, device='cuda:0', grad_fn=<NllLossBackward>)\n",
      "0.5486602783203125\n"
     ]
    },
    {
     "name": "stderr",
     "output_type": "stream",
     "text": [
      "\n",
      "Iteration:  93%|████████████████████████████████████████████████████████████████▏    | 386/415 [04:55<00:23,  1.23it/s]\u001b[A"
     ]
    },
    {
     "name": "stdout",
     "output_type": "stream",
     "text": [
      "tensor(0.6014, device='cuda:0', grad_fn=<NllLossBackward>)\n",
      "0.6013914346694946\n"
     ]
    },
    {
     "name": "stderr",
     "output_type": "stream",
     "text": [
      "\n",
      "Iteration:  93%|████████████████████████████████████████████████████████████████▎    | 387/415 [04:56<00:22,  1.22it/s]\u001b[A"
     ]
    },
    {
     "name": "stdout",
     "output_type": "stream",
     "text": [
      "tensor(0.6341, device='cuda:0', grad_fn=<NllLossBackward>)\n",
      "0.6340692639350891\n"
     ]
    },
    {
     "name": "stderr",
     "output_type": "stream",
     "text": [
      "\n",
      "Iteration:  93%|████████████████████████████████████████████████████████████████▌    | 388/415 [04:57<00:22,  1.22it/s]\u001b[A"
     ]
    },
    {
     "name": "stdout",
     "output_type": "stream",
     "text": [
      "tensor(0.5035, device='cuda:0', grad_fn=<NllLossBackward>)\n",
      "0.5035005807876587\n"
     ]
    },
    {
     "name": "stderr",
     "output_type": "stream",
     "text": [
      "\n",
      "Iteration:  94%|████████████████████████████████████████████████████████████████▋    | 389/415 [04:58<00:21,  1.23it/s]\u001b[A"
     ]
    },
    {
     "name": "stdout",
     "output_type": "stream",
     "text": [
      "tensor(0.5681, device='cuda:0', grad_fn=<NllLossBackward>)\n",
      "0.5681218504905701\n"
     ]
    },
    {
     "name": "stderr",
     "output_type": "stream",
     "text": [
      "\n",
      "Iteration:  94%|████████████████████████████████████████████████████████████████▊    | 390/415 [04:59<00:20,  1.22it/s]\u001b[A"
     ]
    },
    {
     "name": "stdout",
     "output_type": "stream",
     "text": [
      "tensor(0.3820, device='cuda:0', grad_fn=<NllLossBackward>)\n",
      "0.38203340768814087\n"
     ]
    },
    {
     "name": "stderr",
     "output_type": "stream",
     "text": [
      "\n",
      "Iteration:  94%|█████████████████████████████████████████████████████████████████    | 391/415 [04:59<00:19,  1.23it/s]\u001b[A"
     ]
    },
    {
     "name": "stdout",
     "output_type": "stream",
     "text": [
      "tensor(0.5088, device='cuda:0', grad_fn=<NllLossBackward>)\n",
      "0.5088497996330261\n"
     ]
    },
    {
     "name": "stderr",
     "output_type": "stream",
     "text": [
      "\n",
      "Iteration:  94%|█████████████████████████████████████████████████████████████████▏   | 392/415 [05:00<00:18,  1.22it/s]\u001b[A"
     ]
    },
    {
     "name": "stdout",
     "output_type": "stream",
     "text": [
      "tensor(0.4620, device='cuda:0', grad_fn=<NllLossBackward>)\n",
      "0.4619673788547516\n"
     ]
    },
    {
     "name": "stderr",
     "output_type": "stream",
     "text": [
      "\n",
      "Iteration:  95%|█████████████████████████████████████████████████████████████████▎   | 393/415 [05:01<00:17,  1.24it/s]\u001b[A"
     ]
    },
    {
     "name": "stdout",
     "output_type": "stream",
     "text": [
      "tensor(0.5498, device='cuda:0', grad_fn=<NllLossBackward>)\n",
      "0.5497567653656006\n"
     ]
    },
    {
     "name": "stderr",
     "output_type": "stream",
     "text": [
      "\n",
      "Iteration:  95%|█████████████████████████████████████████████████████████████████▌   | 394/415 [05:02<00:17,  1.23it/s]\u001b[A"
     ]
    },
    {
     "name": "stdout",
     "output_type": "stream",
     "text": [
      "tensor(0.5742, device='cuda:0', grad_fn=<NllLossBackward>)\n",
      "0.5742073059082031\n"
     ]
    },
    {
     "name": "stderr",
     "output_type": "stream",
     "text": [
      "\n",
      "Iteration:  95%|█████████████████████████████████████████████████████████████████▋   | 395/415 [05:03<00:17,  1.17it/s]\u001b[A"
     ]
    },
    {
     "name": "stdout",
     "output_type": "stream",
     "text": [
      "tensor(0.4552, device='cuda:0', grad_fn=<NllLossBackward>)\n",
      "0.45520728826522827\n"
     ]
    },
    {
     "name": "stderr",
     "output_type": "stream",
     "text": [
      "\n",
      "Iteration:  95%|█████████████████████████████████████████████████████████████████▊   | 396/415 [05:04<00:15,  1.20it/s]\u001b[A"
     ]
    },
    {
     "name": "stdout",
     "output_type": "stream",
     "text": [
      "tensor(0.4375, device='cuda:0', grad_fn=<NllLossBackward>)\n",
      "0.4375426173210144\n"
     ]
    },
    {
     "name": "stderr",
     "output_type": "stream",
     "text": [
      "\n",
      "Iteration:  96%|██████████████████████████████████████████████████████████████████   | 397/415 [05:04<00:15,  1.16it/s]\u001b[A"
     ]
    },
    {
     "name": "stdout",
     "output_type": "stream",
     "text": [
      "tensor(0.7123, device='cuda:0', grad_fn=<NllLossBackward>)\n",
      "0.7123208045959473\n"
     ]
    },
    {
     "name": "stderr",
     "output_type": "stream",
     "text": [
      "\n",
      "Iteration:  96%|██████████████████████████████████████████████████████████████████▏  | 398/415 [05:05<00:14,  1.14it/s]\u001b[A"
     ]
    },
    {
     "name": "stdout",
     "output_type": "stream",
     "text": [
      "tensor(0.4110, device='cuda:0', grad_fn=<NllLossBackward>)\n",
      "0.4110037088394165\n"
     ]
    },
    {
     "name": "stderr",
     "output_type": "stream",
     "text": [
      "\n",
      "Iteration:  96%|██████████████████████████████████████████████████████████████████▎  | 399/415 [05:06<00:13,  1.18it/s]\u001b[A"
     ]
    },
    {
     "name": "stdout",
     "output_type": "stream",
     "text": [
      "tensor(0.5414, device='cuda:0', grad_fn=<NllLossBackward>)\n",
      "0.5413681268692017\n"
     ]
    },
    {
     "name": "stderr",
     "output_type": "stream",
     "text": [
      "\n",
      "Iteration:  96%|██████████████████████████████████████████████████████████████████▌  | 400/415 [05:07<00:12,  1.20it/s]\u001b[A"
     ]
    },
    {
     "name": "stdout",
     "output_type": "stream",
     "text": [
      "tensor(0.5176, device='cuda:0', grad_fn=<NllLossBackward>)\n",
      "0.5176204442977905\n"
     ]
    },
    {
     "name": "stderr",
     "output_type": "stream",
     "text": [
      "\n",
      "Iteration:  97%|██████████████████████████████████████████████████████████████████▋  | 401/415 [05:08<00:11,  1.20it/s]\u001b[A"
     ]
    },
    {
     "name": "stdout",
     "output_type": "stream",
     "text": [
      "tensor(0.4374, device='cuda:0', grad_fn=<NllLossBackward>)\n",
      "0.43736374378204346\n"
     ]
    },
    {
     "name": "stderr",
     "output_type": "stream",
     "text": [
      "\n",
      "Iteration:  97%|██████████████████████████████████████████████████████████████████▊  | 402/415 [05:09<00:10,  1.22it/s]\u001b[A"
     ]
    },
    {
     "name": "stdout",
     "output_type": "stream",
     "text": [
      "tensor(0.7069, device='cuda:0', grad_fn=<NllLossBackward>)\n",
      "0.7068583369255066\n"
     ]
    },
    {
     "name": "stderr",
     "output_type": "stream",
     "text": [
      "\n",
      "Iteration:  97%|███████████████████████████████████████████████████████████████████  | 403/415 [05:09<00:09,  1.22it/s]\u001b[A"
     ]
    },
    {
     "name": "stdout",
     "output_type": "stream",
     "text": [
      "tensor(0.4700, device='cuda:0', grad_fn=<NllLossBackward>)\n",
      "0.47004154324531555\n"
     ]
    },
    {
     "name": "stderr",
     "output_type": "stream",
     "text": [
      "\n",
      "Iteration:  97%|███████████████████████████████████████████████████████████████████▏ | 404/415 [05:10<00:09,  1.21it/s]\u001b[A"
     ]
    },
    {
     "name": "stdout",
     "output_type": "stream",
     "text": [
      "tensor(0.5917, device='cuda:0', grad_fn=<NllLossBackward>)\n",
      "0.5917205810546875\n"
     ]
    },
    {
     "name": "stderr",
     "output_type": "stream",
     "text": [
      "\n",
      "Iteration:  98%|███████████████████████████████████████████████████████████████████▎ | 405/415 [05:11<00:08,  1.22it/s]\u001b[A"
     ]
    },
    {
     "name": "stdout",
     "output_type": "stream",
     "text": [
      "tensor(0.4802, device='cuda:0', grad_fn=<NllLossBackward>)\n",
      "0.48023486137390137\n"
     ]
    },
    {
     "name": "stderr",
     "output_type": "stream",
     "text": [
      "\n",
      "Iteration:  98%|███████████████████████████████████████████████████████████████████▌ | 406/415 [05:12<00:07,  1.22it/s]\u001b[A"
     ]
    },
    {
     "name": "stdout",
     "output_type": "stream",
     "text": [
      "tensor(0.6242, device='cuda:0', grad_fn=<NllLossBackward>)\n",
      "0.6242204904556274\n"
     ]
    },
    {
     "name": "stderr",
     "output_type": "stream",
     "text": [
      "\n",
      "Iteration:  98%|███████████████████████████████████████████████████████████████████▋ | 407/415 [05:13<00:06,  1.22it/s]\u001b[A"
     ]
    },
    {
     "name": "stdout",
     "output_type": "stream",
     "text": [
      "tensor(0.4860, device='cuda:0', grad_fn=<NllLossBackward>)\n",
      "0.48602116107940674\n"
     ]
    },
    {
     "name": "stderr",
     "output_type": "stream",
     "text": [
      "\n",
      "Iteration:  98%|███████████████████████████████████████████████████████████████████▊ | 408/415 [05:13<00:05,  1.23it/s]\u001b[A"
     ]
    },
    {
     "name": "stdout",
     "output_type": "stream",
     "text": [
      "tensor(0.6393, device='cuda:0', grad_fn=<NllLossBackward>)\n",
      "0.6393458843231201\n"
     ]
    },
    {
     "name": "stderr",
     "output_type": "stream",
     "text": [
      "\n",
      "Iteration:  99%|████████████████████████████████████████████████████████████████████ | 409/415 [05:14<00:04,  1.24it/s]\u001b[A"
     ]
    },
    {
     "name": "stdout",
     "output_type": "stream",
     "text": [
      "tensor(0.4484, device='cuda:0', grad_fn=<NllLossBackward>)\n",
      "0.4484022557735443\n"
     ]
    },
    {
     "name": "stderr",
     "output_type": "stream",
     "text": [
      "\n",
      "Iteration:  99%|████████████████████████████████████████████████████████████████████▏| 410/415 [05:15<00:04,  1.23it/s]\u001b[A"
     ]
    },
    {
     "name": "stdout",
     "output_type": "stream",
     "text": [
      "tensor(0.4924, device='cuda:0', grad_fn=<NllLossBackward>)\n",
      "0.4923780858516693\n"
     ]
    },
    {
     "name": "stderr",
     "output_type": "stream",
     "text": [
      "\n",
      "Iteration:  99%|████████████████████████████████████████████████████████████████████▎| 411/415 [05:16<00:03,  1.23it/s]\u001b[A"
     ]
    },
    {
     "name": "stdout",
     "output_type": "stream",
     "text": [
      "tensor(0.6606, device='cuda:0', grad_fn=<NllLossBackward>)\n",
      "0.6606042385101318\n"
     ]
    },
    {
     "name": "stderr",
     "output_type": "stream",
     "text": [
      "\n",
      "Iteration:  99%|████████████████████████████████████████████████████████████████████▌| 412/415 [05:17<00:02,  1.24it/s]\u001b[A"
     ]
    },
    {
     "name": "stdout",
     "output_type": "stream",
     "text": [
      "tensor(0.3648, device='cuda:0', grad_fn=<NllLossBackward>)\n",
      "0.3648446798324585\n"
     ]
    },
    {
     "name": "stderr",
     "output_type": "stream",
     "text": [
      "\n",
      "Iteration: 100%|████████████████████████████████████████████████████████████████████▋| 413/415 [05:18<00:01,  1.23it/s]\u001b[A"
     ]
    },
    {
     "name": "stdout",
     "output_type": "stream",
     "text": [
      "tensor(0.6278, device='cuda:0', grad_fn=<NllLossBackward>)\n",
      "0.6277946829795837\n"
     ]
    },
    {
     "name": "stderr",
     "output_type": "stream",
     "text": [
      "\n",
      "Iteration: 100%|████████████████████████████████████████████████████████████████████▊| 414/415 [05:18<00:00,  1.22it/s]\u001b[A"
     ]
    },
    {
     "name": "stdout",
     "output_type": "stream",
     "text": [
      "tensor(0.3916, device='cuda:0', grad_fn=<NllLossBackward>)\n",
      "0.39162248373031616\n"
     ]
    },
    {
     "name": "stderr",
     "output_type": "stream",
     "text": [
      "\n",
      "Iteration: 100%|█████████████████████████████████████████████████████████████████████| 415/415 [05:19<00:00,  1.30it/s]\u001b[A\n",
      "Epoch:  33%|█████████████████████████▎                                                  | 1/3 [05:19<10:39, 319.66s/it]\n",
      "Iteration:   0%|                                                                               | 0/415 [00:00<?, ?it/s]\u001b[A"
     ]
    },
    {
     "name": "stdout",
     "output_type": "stream",
     "text": [
      "tensor(0.4280, device='cuda:0', grad_fn=<NllLossBackward>)\n",
      "0.4279995858669281\n"
     ]
    },
    {
     "name": "stderr",
     "output_type": "stream",
     "text": [
      "\n",
      "Iteration:   0%|▏                                                                      | 1/415 [00:00<05:38,  1.22it/s]\u001b[A"
     ]
    },
    {
     "name": "stdout",
     "output_type": "stream",
     "text": [
      "tensor(0.3683, device='cuda:0', grad_fn=<NllLossBackward>)\n",
      "0.3683375120162964\n"
     ]
    },
    {
     "name": "stderr",
     "output_type": "stream",
     "text": [
      "\n",
      "Iteration:   0%|▎                                                                      | 2/415 [00:01<05:33,  1.24it/s]\u001b[A"
     ]
    },
    {
     "name": "stdout",
     "output_type": "stream",
     "text": [
      "tensor(0.4769, device='cuda:0', grad_fn=<NllLossBackward>)\n",
      "0.4768674969673157\n"
     ]
    },
    {
     "name": "stderr",
     "output_type": "stream",
     "text": [
      "\n",
      "Iteration:   1%|▌                                                                      | 3/415 [00:02<05:31,  1.24it/s]\u001b[A"
     ]
    },
    {
     "name": "stdout",
     "output_type": "stream",
     "text": [
      "tensor(0.4287, device='cuda:0', grad_fn=<NllLossBackward>)\n",
      "0.42867714166641235\n"
     ]
    },
    {
     "name": "stderr",
     "output_type": "stream",
     "text": [
      "\n",
      "Iteration:   1%|▋                                                                      | 4/415 [00:03<05:30,  1.24it/s]\u001b[A"
     ]
    },
    {
     "name": "stdout",
     "output_type": "stream",
     "text": [
      "tensor(0.3470, device='cuda:0', grad_fn=<NllLossBackward>)\n",
      "0.34703969955444336\n"
     ]
    },
    {
     "name": "stderr",
     "output_type": "stream",
     "text": [
      "\n",
      "Iteration:   1%|▊                                                                      | 5/415 [00:04<05:29,  1.25it/s]\u001b[A"
     ]
    },
    {
     "name": "stdout",
     "output_type": "stream",
     "text": [
      "tensor(0.5401, device='cuda:0', grad_fn=<NllLossBackward>)\n",
      "0.5400656461715698\n"
     ]
    },
    {
     "name": "stderr",
     "output_type": "stream",
     "text": [
      "\n",
      "Iteration:   1%|█                                                                      | 6/415 [00:04<05:31,  1.24it/s]\u001b[A"
     ]
    },
    {
     "name": "stdout",
     "output_type": "stream",
     "text": [
      "tensor(0.3856, device='cuda:0', grad_fn=<NllLossBackward>)\n",
      "0.3856147825717926\n"
     ]
    },
    {
     "name": "stderr",
     "output_type": "stream",
     "text": [
      "\n",
      "Iteration:   2%|█▏                                                                     | 7/415 [00:05<05:28,  1.24it/s]\u001b[A"
     ]
    },
    {
     "name": "stdout",
     "output_type": "stream",
     "text": [
      "tensor(0.7707, device='cuda:0', grad_fn=<NllLossBackward>)\n",
      "0.7706527709960938\n"
     ]
    },
    {
     "name": "stderr",
     "output_type": "stream",
     "text": [
      "\n",
      "Iteration:   2%|█▎                                                                     | 8/415 [00:06<05:30,  1.23it/s]\u001b[A"
     ]
    },
    {
     "name": "stdout",
     "output_type": "stream",
     "text": [
      "tensor(0.4683, device='cuda:0', grad_fn=<NllLossBackward>)\n",
      "0.4683014154434204\n"
     ]
    },
    {
     "name": "stderr",
     "output_type": "stream",
     "text": [
      "\n",
      "Iteration:   2%|█▌                                                                     | 9/415 [00:07<05:28,  1.23it/s]\u001b[A"
     ]
    },
    {
     "name": "stdout",
     "output_type": "stream",
     "text": [
      "tensor(0.7791, device='cuda:0', grad_fn=<NllLossBackward>)\n",
      "0.7790766358375549\n"
     ]
    },
    {
     "name": "stderr",
     "output_type": "stream",
     "text": [
      "\n",
      "Iteration:   2%|█▋                                                                    | 10/415 [00:08<05:34,  1.21it/s]\u001b[A"
     ]
    },
    {
     "name": "stdout",
     "output_type": "stream",
     "text": [
      "tensor(0.3254, device='cuda:0', grad_fn=<NllLossBackward>)\n",
      "0.3253612816333771\n"
     ]
    },
    {
     "name": "stderr",
     "output_type": "stream",
     "text": [
      "\n",
      "Iteration:   3%|█▊                                                                    | 11/415 [00:08<05:29,  1.23it/s]\u001b[A"
     ]
    },
    {
     "name": "stdout",
     "output_type": "stream",
     "text": [
      "tensor(0.5365, device='cuda:0', grad_fn=<NllLossBackward>)\n",
      "0.5364638566970825\n"
     ]
    },
    {
     "name": "stderr",
     "output_type": "stream",
     "text": [
      "\n",
      "Iteration:   3%|██                                                                    | 12/415 [00:09<05:33,  1.21it/s]\u001b[A"
     ]
    },
    {
     "name": "stdout",
     "output_type": "stream",
     "text": [
      "tensor(0.3881, device='cuda:0', grad_fn=<NllLossBackward>)\n",
      "0.3880704343318939\n"
     ]
    },
    {
     "name": "stderr",
     "output_type": "stream",
     "text": [
      "\n",
      "Iteration:   3%|██▏                                                                   | 13/415 [00:10<05:32,  1.21it/s]\u001b[A"
     ]
    },
    {
     "name": "stdout",
     "output_type": "stream",
     "text": [
      "tensor(0.7055, device='cuda:0', grad_fn=<NllLossBackward>)\n",
      "0.7055040597915649\n"
     ]
    },
    {
     "name": "stderr",
     "output_type": "stream",
     "text": [
      "\n",
      "Iteration:   3%|██▎                                                                   | 14/415 [00:11<05:28,  1.22it/s]\u001b[A"
     ]
    },
    {
     "name": "stdout",
     "output_type": "stream",
     "text": [
      "tensor(0.4659, device='cuda:0', grad_fn=<NllLossBackward>)\n",
      "0.46592044830322266\n"
     ]
    },
    {
     "name": "stderr",
     "output_type": "stream",
     "text": [
      "\n",
      "Iteration:   4%|██▌                                                                   | 15/415 [00:12<05:24,  1.23it/s]\u001b[A"
     ]
    },
    {
     "name": "stdout",
     "output_type": "stream",
     "text": [
      "tensor(0.3937, device='cuda:0', grad_fn=<NllLossBackward>)\n",
      "0.39373552799224854\n"
     ]
    },
    {
     "name": "stderr",
     "output_type": "stream",
     "text": [
      "\n",
      "Iteration:   4%|██▋                                                                   | 16/415 [00:13<05:24,  1.23it/s]\u001b[A"
     ]
    },
    {
     "name": "stdout",
     "output_type": "stream",
     "text": [
      "tensor(0.4059, device='cuda:0', grad_fn=<NllLossBackward>)\n",
      "0.40593400597572327\n"
     ]
    },
    {
     "name": "stderr",
     "output_type": "stream",
     "text": [
      "\n",
      "Iteration:   4%|██▊                                                                   | 17/415 [00:13<05:26,  1.22it/s]\u001b[A"
     ]
    },
    {
     "name": "stdout",
     "output_type": "stream",
     "text": [
      "tensor(0.3795, device='cuda:0', grad_fn=<NllLossBackward>)\n",
      "0.3794578015804291\n"
     ]
    },
    {
     "name": "stderr",
     "output_type": "stream",
     "text": [
      "\n",
      "Iteration:   4%|███                                                                   | 18/415 [00:14<05:20,  1.24it/s]\u001b[A"
     ]
    },
    {
     "name": "stdout",
     "output_type": "stream",
     "text": [
      "tensor(0.5251, device='cuda:0', grad_fn=<NllLossBackward>)\n",
      "0.5251287221908569\n"
     ]
    },
    {
     "name": "stderr",
     "output_type": "stream",
     "text": [
      "\n",
      "Iteration:   5%|███▏                                                                  | 19/415 [00:15<05:18,  1.24it/s]\u001b[A"
     ]
    },
    {
     "name": "stdout",
     "output_type": "stream",
     "text": [
      "tensor(0.4051, device='cuda:0', grad_fn=<NllLossBackward>)\n",
      "0.4051288366317749\n"
     ]
    },
    {
     "name": "stderr",
     "output_type": "stream",
     "text": [
      "\n",
      "Iteration:   5%|███▎                                                                  | 20/415 [00:16<05:20,  1.23it/s]\u001b[A"
     ]
    },
    {
     "name": "stdout",
     "output_type": "stream",
     "text": [
      "tensor(0.4413, device='cuda:0', grad_fn=<NllLossBackward>)\n",
      "0.4412630796432495\n"
     ]
    },
    {
     "name": "stderr",
     "output_type": "stream",
     "text": [
      "\n",
      "Iteration:   5%|███▌                                                                  | 21/415 [00:17<05:17,  1.24it/s]\u001b[A"
     ]
    },
    {
     "name": "stdout",
     "output_type": "stream",
     "text": [
      "tensor(0.4838, device='cuda:0', grad_fn=<NllLossBackward>)\n",
      "0.4838288128376007\n"
     ]
    },
    {
     "name": "stderr",
     "output_type": "stream",
     "text": [
      "\n",
      "Iteration:   5%|███▋                                                                  | 22/415 [00:17<05:20,  1.23it/s]\u001b[A"
     ]
    },
    {
     "name": "stdout",
     "output_type": "stream",
     "text": [
      "tensor(0.3871, device='cuda:0', grad_fn=<NllLossBackward>)\n",
      "0.38714492321014404\n"
     ]
    },
    {
     "name": "stderr",
     "output_type": "stream",
     "text": [
      "\n",
      "Iteration:   6%|███▉                                                                  | 23/415 [00:18<05:20,  1.22it/s]\u001b[A"
     ]
    },
    {
     "name": "stdout",
     "output_type": "stream",
     "text": [
      "tensor(0.4384, device='cuda:0', grad_fn=<NllLossBackward>)\n",
      "0.4383641481399536\n"
     ]
    },
    {
     "name": "stderr",
     "output_type": "stream",
     "text": [
      "\n",
      "Iteration:   6%|████                                                                  | 24/415 [00:19<05:18,  1.23it/s]\u001b[A"
     ]
    },
    {
     "name": "stdout",
     "output_type": "stream",
     "text": [
      "tensor(0.4957, device='cuda:0', grad_fn=<NllLossBackward>)\n",
      "0.4957202672958374\n"
     ]
    },
    {
     "name": "stderr",
     "output_type": "stream",
     "text": [
      "\n",
      "Iteration:   6%|████▏                                                                 | 25/415 [00:20<05:19,  1.22it/s]\u001b[A"
     ]
    },
    {
     "name": "stdout",
     "output_type": "stream",
     "text": [
      "tensor(0.2991, device='cuda:0', grad_fn=<NllLossBackward>)\n",
      "0.29908114671707153\n"
     ]
    },
    {
     "name": "stderr",
     "output_type": "stream",
     "text": [
      "\n",
      "Iteration:   6%|████▍                                                                 | 26/415 [00:21<05:18,  1.22it/s]\u001b[A"
     ]
    },
    {
     "name": "stdout",
     "output_type": "stream",
     "text": [
      "tensor(0.3269, device='cuda:0', grad_fn=<NllLossBackward>)\n",
      "0.3269127607345581\n"
     ]
    },
    {
     "name": "stderr",
     "output_type": "stream",
     "text": [
      "\n",
      "Iteration:   7%|████▌                                                                 | 27/415 [00:21<05:18,  1.22it/s]\u001b[A"
     ]
    },
    {
     "name": "stdout",
     "output_type": "stream",
     "text": [
      "tensor(0.3889, device='cuda:0', grad_fn=<NllLossBackward>)\n",
      "0.3889116644859314\n"
     ]
    },
    {
     "name": "stderr",
     "output_type": "stream",
     "text": [
      "\n",
      "Iteration:   7%|████▋                                                                 | 28/415 [00:22<05:17,  1.22it/s]\u001b[A"
     ]
    },
    {
     "name": "stdout",
     "output_type": "stream",
     "text": [
      "tensor(0.6544, device='cuda:0', grad_fn=<NllLossBackward>)\n",
      "0.6544485688209534\n"
     ]
    },
    {
     "name": "stderr",
     "output_type": "stream",
     "text": [
      "\n",
      "Iteration:   7%|████▉                                                                 | 29/415 [00:23<05:14,  1.23it/s]\u001b[A"
     ]
    },
    {
     "name": "stdout",
     "output_type": "stream",
     "text": [
      "tensor(0.7575, device='cuda:0', grad_fn=<NllLossBackward>)\n",
      "0.7575081586837769\n"
     ]
    },
    {
     "name": "stderr",
     "output_type": "stream",
     "text": [
      "\n",
      "Iteration:   7%|█████                                                                 | 30/415 [00:24<05:14,  1.22it/s]\u001b[A"
     ]
    },
    {
     "name": "stdout",
     "output_type": "stream",
     "text": [
      "tensor(0.3951, device='cuda:0', grad_fn=<NllLossBackward>)\n",
      "0.3951222002506256\n"
     ]
    },
    {
     "name": "stderr",
     "output_type": "stream",
     "text": [
      "\n",
      "Iteration:   7%|█████▏                                                                | 31/415 [00:25<05:16,  1.21it/s]\u001b[A"
     ]
    },
    {
     "name": "stdout",
     "output_type": "stream",
     "text": [
      "tensor(0.2890, device='cuda:0', grad_fn=<NllLossBackward>)\n",
      "0.2889884412288666\n"
     ]
    },
    {
     "name": "stderr",
     "output_type": "stream",
     "text": [
      "\n",
      "Iteration:   8%|█████▍                                                                | 32/415 [00:26<05:12,  1.23it/s]\u001b[A"
     ]
    },
    {
     "name": "stdout",
     "output_type": "stream",
     "text": [
      "tensor(0.3237, device='cuda:0', grad_fn=<NllLossBackward>)\n",
      "0.32367268204689026\n"
     ]
    },
    {
     "name": "stderr",
     "output_type": "stream",
     "text": [
      "\n",
      "Iteration:   8%|█████▌                                                                | 33/415 [00:26<05:14,  1.22it/s]\u001b[A"
     ]
    },
    {
     "name": "stdout",
     "output_type": "stream",
     "text": [
      "tensor(0.6322, device='cuda:0', grad_fn=<NllLossBackward>)\n",
      "0.6322319507598877\n"
     ]
    },
    {
     "name": "stderr",
     "output_type": "stream",
     "text": [
      "\n",
      "Iteration:   8%|█████▋                                                                | 34/415 [00:27<05:14,  1.21it/s]\u001b[A"
     ]
    },
    {
     "name": "stdout",
     "output_type": "stream",
     "text": [
      "tensor(0.2612, device='cuda:0', grad_fn=<NllLossBackward>)\n",
      "0.26118791103363037\n"
     ]
    },
    {
     "name": "stderr",
     "output_type": "stream",
     "text": [
      "\n",
      "Iteration:   8%|█████▉                                                                | 35/415 [00:28<05:22,  1.18it/s]\u001b[A"
     ]
    },
    {
     "name": "stdout",
     "output_type": "stream",
     "text": [
      "tensor(0.4639, device='cuda:0', grad_fn=<NllLossBackward>)\n",
      "0.46389591693878174\n"
     ]
    },
    {
     "name": "stderr",
     "output_type": "stream",
     "text": [
      "\n",
      "Iteration:   9%|██████                                                                | 36/415 [00:29<05:15,  1.20it/s]\u001b[A"
     ]
    },
    {
     "name": "stdout",
     "output_type": "stream",
     "text": [
      "tensor(0.3059, device='cuda:0', grad_fn=<NllLossBackward>)\n",
      "0.3059427738189697\n"
     ]
    },
    {
     "name": "stderr",
     "output_type": "stream",
     "text": [
      "\n",
      "Iteration:   9%|██████▏                                                               | 37/415 [00:30<05:10,  1.22it/s]\u001b[A"
     ]
    },
    {
     "name": "stdout",
     "output_type": "stream",
     "text": [
      "tensor(0.6199, device='cuda:0', grad_fn=<NllLossBackward>)\n",
      "0.6199324131011963\n"
     ]
    },
    {
     "name": "stderr",
     "output_type": "stream",
     "text": [
      "\n",
      "Iteration:   9%|██████▍                                                               | 38/415 [00:31<05:09,  1.22it/s]\u001b[A"
     ]
    },
    {
     "name": "stdout",
     "output_type": "stream",
     "text": [
      "tensor(0.4930, device='cuda:0', grad_fn=<NllLossBackward>)\n",
      "0.4930231273174286\n"
     ]
    },
    {
     "name": "stderr",
     "output_type": "stream",
     "text": [
      "\n",
      "Iteration:   9%|██████▌                                                               | 39/415 [00:31<05:05,  1.23it/s]\u001b[A"
     ]
    },
    {
     "name": "stdout",
     "output_type": "stream",
     "text": [
      "tensor(0.5540, device='cuda:0', grad_fn=<NllLossBackward>)\n",
      "0.5539705753326416\n"
     ]
    },
    {
     "name": "stderr",
     "output_type": "stream",
     "text": [
      "\n",
      "Iteration:  10%|██████▋                                                               | 40/415 [00:32<05:16,  1.18it/s]\u001b[A"
     ]
    },
    {
     "name": "stdout",
     "output_type": "stream",
     "text": [
      "tensor(0.3906, device='cuda:0', grad_fn=<NllLossBackward>)\n",
      "0.3905743658542633\n"
     ]
    },
    {
     "name": "stderr",
     "output_type": "stream",
     "text": [
      "\n",
      "Iteration:  10%|██████▉                                                               | 41/415 [00:33<05:08,  1.21it/s]\u001b[A"
     ]
    },
    {
     "name": "stdout",
     "output_type": "stream",
     "text": [
      "tensor(0.5185, device='cuda:0', grad_fn=<NllLossBackward>)\n",
      "0.5184903144836426\n"
     ]
    },
    {
     "name": "stderr",
     "output_type": "stream",
     "text": [
      "\n",
      "Iteration:  10%|███████                                                               | 42/415 [00:34<05:04,  1.23it/s]\u001b[A"
     ]
    },
    {
     "name": "stdout",
     "output_type": "stream",
     "text": [
      "tensor(0.5289, device='cuda:0', grad_fn=<NllLossBackward>)\n",
      "0.528943657875061\n"
     ]
    },
    {
     "name": "stderr",
     "output_type": "stream",
     "text": [
      "\n",
      "Iteration:  10%|███████▎                                                              | 43/415 [00:35<05:02,  1.23it/s]\u001b[A"
     ]
    },
    {
     "name": "stdout",
     "output_type": "stream",
     "text": [
      "tensor(0.5223, device='cuda:0', grad_fn=<NllLossBackward>)\n",
      "0.5222954750061035\n"
     ]
    },
    {
     "name": "stderr",
     "output_type": "stream",
     "text": [
      "\n",
      "Iteration:  11%|███████▍                                                              | 44/415 [00:35<05:01,  1.23it/s]\u001b[A"
     ]
    },
    {
     "name": "stdout",
     "output_type": "stream",
     "text": [
      "tensor(0.4699, device='cuda:0', grad_fn=<NllLossBackward>)\n",
      "0.46992653608322144\n"
     ]
    },
    {
     "name": "stderr",
     "output_type": "stream",
     "text": [
      "\n",
      "Iteration:  11%|███████▌                                                              | 45/415 [00:36<05:02,  1.22it/s]\u001b[A"
     ]
    },
    {
     "name": "stdout",
     "output_type": "stream",
     "text": [
      "tensor(0.4246, device='cuda:0', grad_fn=<NllLossBackward>)\n",
      "0.42460960149765015\n"
     ]
    },
    {
     "name": "stderr",
     "output_type": "stream",
     "text": [
      "\n",
      "Iteration:  11%|███████▊                                                              | 46/415 [00:37<04:58,  1.24it/s]\u001b[A"
     ]
    },
    {
     "name": "stdout",
     "output_type": "stream",
     "text": [
      "tensor(0.6711, device='cuda:0', grad_fn=<NllLossBackward>)\n",
      "0.6710929870605469\n"
     ]
    },
    {
     "name": "stderr",
     "output_type": "stream",
     "text": [
      "\n",
      "Iteration:  11%|███████▉                                                              | 47/415 [00:38<05:03,  1.21it/s]\u001b[A"
     ]
    },
    {
     "name": "stdout",
     "output_type": "stream",
     "text": [
      "tensor(0.4504, device='cuda:0', grad_fn=<NllLossBackward>)\n",
      "0.4504266083240509\n"
     ]
    },
    {
     "name": "stderr",
     "output_type": "stream",
     "text": [
      "\n",
      "Iteration:  12%|████████                                                              | 48/415 [00:39<05:00,  1.22it/s]\u001b[A"
     ]
    },
    {
     "name": "stdout",
     "output_type": "stream",
     "text": [
      "tensor(0.3963, device='cuda:0', grad_fn=<NllLossBackward>)\n",
      "0.39630961418151855\n"
     ]
    },
    {
     "name": "stderr",
     "output_type": "stream",
     "text": [
      "\n",
      "Iteration:  12%|████████▎                                                             | 49/415 [00:40<05:00,  1.22it/s]\u001b[A"
     ]
    },
    {
     "name": "stdout",
     "output_type": "stream",
     "text": [
      "tensor(0.3952, device='cuda:0', grad_fn=<NllLossBackward>)\n",
      "0.3952435553073883\n"
     ]
    },
    {
     "name": "stderr",
     "output_type": "stream",
     "text": [
      "\n",
      "Iteration:  12%|████████▍                                                             | 50/415 [00:40<04:58,  1.22it/s]\u001b[A"
     ]
    },
    {
     "name": "stdout",
     "output_type": "stream",
     "text": [
      "tensor(0.6176, device='cuda:0', grad_fn=<NllLossBackward>)\n",
      "0.6176076531410217\n"
     ]
    },
    {
     "name": "stderr",
     "output_type": "stream",
     "text": [
      "\n",
      "Iteration:  12%|████████▌                                                             | 51/415 [00:41<04:57,  1.22it/s]\u001b[A"
     ]
    },
    {
     "name": "stdout",
     "output_type": "stream",
     "text": [
      "tensor(0.5351, device='cuda:0', grad_fn=<NllLossBackward>)\n",
      "0.5350721478462219\n"
     ]
    },
    {
     "name": "stderr",
     "output_type": "stream",
     "text": [
      "\n",
      "Iteration:  13%|████████▊                                                             | 52/415 [00:42<04:57,  1.22it/s]\u001b[A"
     ]
    },
    {
     "name": "stdout",
     "output_type": "stream",
     "text": [
      "tensor(0.3092, device='cuda:0', grad_fn=<NllLossBackward>)\n",
      "0.30920684337615967\n"
     ]
    },
    {
     "name": "stderr",
     "output_type": "stream",
     "text": [
      "\n",
      "Iteration:  13%|████████▉                                                             | 53/415 [00:43<04:53,  1.23it/s]\u001b[A"
     ]
    },
    {
     "name": "stdout",
     "output_type": "stream",
     "text": [
      "tensor(0.2942, device='cuda:0', grad_fn=<NllLossBackward>)\n",
      "0.29417723417282104\n"
     ]
    },
    {
     "name": "stderr",
     "output_type": "stream",
     "text": [
      "\n",
      "Iteration:  13%|█████████                                                             | 54/415 [00:44<05:06,  1.18it/s]\u001b[A"
     ]
    },
    {
     "name": "stdout",
     "output_type": "stream",
     "text": [
      "tensor(0.5194, device='cuda:0', grad_fn=<NllLossBackward>)\n",
      "0.5193634033203125\n"
     ]
    },
    {
     "name": "stderr",
     "output_type": "stream",
     "text": [
      "\n",
      "Iteration:  13%|█████████▎                                                            | 55/415 [00:45<05:00,  1.20it/s]\u001b[A"
     ]
    },
    {
     "name": "stdout",
     "output_type": "stream",
     "text": [
      "tensor(0.4816, device='cuda:0', grad_fn=<NllLossBackward>)\n",
      "0.48163697123527527\n"
     ]
    },
    {
     "name": "stderr",
     "output_type": "stream",
     "text": [
      "\n",
      "Iteration:  13%|█████████▍                                                            | 56/415 [00:45<04:55,  1.21it/s]\u001b[A"
     ]
    },
    {
     "name": "stdout",
     "output_type": "stream",
     "text": [
      "tensor(0.3800, device='cuda:0', grad_fn=<NllLossBackward>)\n",
      "0.38004815578460693\n"
     ]
    },
    {
     "name": "stderr",
     "output_type": "stream",
     "text": [
      "\n",
      "Iteration:  14%|█████████▌                                                            | 57/415 [00:46<04:58,  1.20it/s]\u001b[A"
     ]
    },
    {
     "name": "stdout",
     "output_type": "stream",
     "text": [
      "tensor(0.3990, device='cuda:0', grad_fn=<NllLossBackward>)\n",
      "0.39899855852127075\n"
     ]
    },
    {
     "name": "stderr",
     "output_type": "stream",
     "text": [
      "\n",
      "Iteration:  14%|█████████▊                                                            | 58/415 [00:47<04:52,  1.22it/s]\u001b[A"
     ]
    },
    {
     "name": "stdout",
     "output_type": "stream",
     "text": [
      "tensor(0.2513, device='cuda:0', grad_fn=<NllLossBackward>)\n",
      "0.2513251006603241\n"
     ]
    },
    {
     "name": "stderr",
     "output_type": "stream",
     "text": [
      "\n",
      "Iteration:  14%|█████████▉                                                            | 59/415 [00:48<04:49,  1.23it/s]\u001b[A"
     ]
    },
    {
     "name": "stdout",
     "output_type": "stream",
     "text": [
      "tensor(0.3005, device='cuda:0', grad_fn=<NllLossBackward>)\n",
      "0.30046573281288147\n"
     ]
    },
    {
     "name": "stderr",
     "output_type": "stream",
     "text": [
      "\n",
      "Iteration:  14%|██████████                                                            | 60/415 [00:49<04:55,  1.20it/s]\u001b[A"
     ]
    },
    {
     "name": "stdout",
     "output_type": "stream",
     "text": [
      "tensor(0.4583, device='cuda:0', grad_fn=<NllLossBackward>)\n",
      "0.45825648307800293\n"
     ]
    },
    {
     "name": "stderr",
     "output_type": "stream",
     "text": [
      "\n",
      "Iteration:  15%|██████████▎                                                           | 61/415 [00:49<04:54,  1.20it/s]\u001b[A"
     ]
    },
    {
     "name": "stdout",
     "output_type": "stream",
     "text": [
      "tensor(0.4106, device='cuda:0', grad_fn=<NllLossBackward>)\n",
      "0.4105500876903534\n"
     ]
    },
    {
     "name": "stderr",
     "output_type": "stream",
     "text": [
      "\n",
      "Iteration:  15%|██████████▍                                                           | 62/415 [00:50<04:52,  1.21it/s]\u001b[A"
     ]
    },
    {
     "name": "stdout",
     "output_type": "stream",
     "text": [
      "tensor(0.3625, device='cuda:0', grad_fn=<NllLossBackward>)\n",
      "0.36247918009757996\n"
     ]
    },
    {
     "name": "stderr",
     "output_type": "stream",
     "text": [
      "\n",
      "Iteration:  15%|██████████▋                                                           | 63/415 [00:51<04:55,  1.19it/s]\u001b[A"
     ]
    },
    {
     "name": "stdout",
     "output_type": "stream",
     "text": [
      "tensor(0.2887, device='cuda:0', grad_fn=<NllLossBackward>)\n",
      "0.28874456882476807\n"
     ]
    },
    {
     "name": "stderr",
     "output_type": "stream",
     "text": [
      "\n",
      "Iteration:  15%|██████████▊                                                           | 64/415 [00:52<04:53,  1.20it/s]\u001b[A"
     ]
    },
    {
     "name": "stdout",
     "output_type": "stream",
     "text": [
      "tensor(0.5332, device='cuda:0', grad_fn=<NllLossBackward>)\n",
      "0.533198356628418\n"
     ]
    },
    {
     "name": "stderr",
     "output_type": "stream",
     "text": [
      "\n",
      "Iteration:  16%|██████████▉                                                           | 65/415 [00:53<05:06,  1.14it/s]\u001b[A"
     ]
    },
    {
     "name": "stdout",
     "output_type": "stream",
     "text": [
      "tensor(0.2912, device='cuda:0', grad_fn=<NllLossBackward>)\n",
      "0.29121139645576477\n"
     ]
    },
    {
     "name": "stderr",
     "output_type": "stream",
     "text": [
      "\n",
      "Iteration:  16%|███████████▏                                                          | 66/415 [00:54<04:56,  1.18it/s]\u001b[A"
     ]
    },
    {
     "name": "stdout",
     "output_type": "stream",
     "text": [
      "tensor(0.4265, device='cuda:0', grad_fn=<NllLossBackward>)\n",
      "0.4264897406101227\n"
     ]
    },
    {
     "name": "stderr",
     "output_type": "stream",
     "text": [
      "\n",
      "Iteration:  16%|███████████▎                                                          | 67/415 [00:55<04:52,  1.19it/s]\u001b[A"
     ]
    },
    {
     "name": "stdout",
     "output_type": "stream",
     "text": [
      "tensor(0.2027, device='cuda:0', grad_fn=<NllLossBackward>)\n",
      "0.20267412066459656\n"
     ]
    },
    {
     "name": "stderr",
     "output_type": "stream",
     "text": [
      "\n",
      "Iteration:  16%|███████████▍                                                          | 68/415 [00:55<04:45,  1.21it/s]\u001b[A"
     ]
    },
    {
     "name": "stdout",
     "output_type": "stream",
     "text": [
      "tensor(0.3933, device='cuda:0', grad_fn=<NllLossBackward>)\n",
      "0.39325737953186035\n"
     ]
    },
    {
     "name": "stderr",
     "output_type": "stream",
     "text": [
      "\n",
      "Iteration:  17%|███████████▋                                                          | 69/415 [00:56<04:43,  1.22it/s]\u001b[A"
     ]
    },
    {
     "name": "stdout",
     "output_type": "stream",
     "text": [
      "tensor(0.6043, device='cuda:0', grad_fn=<NllLossBackward>)\n",
      "0.6043056845664978\n"
     ]
    },
    {
     "name": "stderr",
     "output_type": "stream",
     "text": [
      "\n",
      "Iteration:  17%|███████████▊                                                          | 70/415 [00:57<04:40,  1.23it/s]\u001b[A"
     ]
    },
    {
     "name": "stdout",
     "output_type": "stream",
     "text": [
      "tensor(0.4313, device='cuda:0', grad_fn=<NllLossBackward>)\n",
      "0.43132680654525757\n"
     ]
    },
    {
     "name": "stderr",
     "output_type": "stream",
     "text": [
      "\n",
      "Iteration:  17%|███████████▉                                                          | 71/415 [00:58<04:39,  1.23it/s]\u001b[A"
     ]
    },
    {
     "name": "stdout",
     "output_type": "stream",
     "text": [
      "tensor(0.4479, device='cuda:0', grad_fn=<NllLossBackward>)\n",
      "0.44786393642425537\n"
     ]
    },
    {
     "name": "stderr",
     "output_type": "stream",
     "text": [
      "\n",
      "Iteration:  17%|████████████▏                                                         | 72/415 [00:59<04:39,  1.23it/s]\u001b[A"
     ]
    },
    {
     "name": "stdout",
     "output_type": "stream",
     "text": [
      "tensor(0.3411, device='cuda:0', grad_fn=<NllLossBackward>)\n",
      "0.3411007821559906\n"
     ]
    },
    {
     "name": "stderr",
     "output_type": "stream",
     "text": [
      "\n",
      "Iteration:  18%|████████████▎                                                         | 73/415 [00:59<04:38,  1.23it/s]\u001b[A"
     ]
    },
    {
     "name": "stdout",
     "output_type": "stream",
     "text": [
      "tensor(0.4641, device='cuda:0', grad_fn=<NllLossBackward>)\n",
      "0.464112788438797\n"
     ]
    },
    {
     "name": "stderr",
     "output_type": "stream",
     "text": [
      "\n",
      "Iteration:  18%|████████████▍                                                         | 74/415 [01:00<04:38,  1.22it/s]\u001b[A"
     ]
    },
    {
     "name": "stdout",
     "output_type": "stream",
     "text": [
      "tensor(0.4143, device='cuda:0', grad_fn=<NllLossBackward>)\n",
      "0.41431060433387756\n"
     ]
    },
    {
     "name": "stderr",
     "output_type": "stream",
     "text": [
      "\n",
      "Iteration:  18%|████████████▋                                                         | 75/415 [01:01<04:38,  1.22it/s]\u001b[A"
     ]
    },
    {
     "name": "stdout",
     "output_type": "stream",
     "text": [
      "tensor(0.3931, device='cuda:0', grad_fn=<NllLossBackward>)\n",
      "0.39314430952072144\n"
     ]
    },
    {
     "name": "stderr",
     "output_type": "stream",
     "text": [
      "\n",
      "Iteration:  18%|████████████▊                                                         | 76/415 [01:02<04:34,  1.23it/s]\u001b[A"
     ]
    },
    {
     "name": "stdout",
     "output_type": "stream",
     "text": [
      "tensor(0.3931, device='cuda:0', grad_fn=<NllLossBackward>)\n",
      "0.3931308388710022\n"
     ]
    },
    {
     "name": "stderr",
     "output_type": "stream",
     "text": [
      "\n",
      "Iteration:  19%|████████████▉                                                         | 77/415 [01:03<04:40,  1.20it/s]\u001b[A"
     ]
    },
    {
     "name": "stdout",
     "output_type": "stream",
     "text": [
      "tensor(0.4321, device='cuda:0', grad_fn=<NllLossBackward>)\n",
      "0.4321438670158386\n"
     ]
    },
    {
     "name": "stderr",
     "output_type": "stream",
     "text": [
      "\n",
      "Iteration:  19%|█████████████▏                                                        | 78/415 [01:04<04:39,  1.21it/s]\u001b[A"
     ]
    },
    {
     "name": "stdout",
     "output_type": "stream",
     "text": [
      "tensor(0.5459, device='cuda:0', grad_fn=<NllLossBackward>)\n",
      "0.5459222197532654\n"
     ]
    },
    {
     "name": "stderr",
     "output_type": "stream",
     "text": [
      "\n",
      "Iteration:  19%|█████████████▎                                                        | 79/415 [01:04<04:41,  1.19it/s]\u001b[A"
     ]
    },
    {
     "name": "stdout",
     "output_type": "stream",
     "text": [
      "tensor(0.7519, device='cuda:0', grad_fn=<NllLossBackward>)\n",
      "0.7519210577011108\n"
     ]
    },
    {
     "name": "stderr",
     "output_type": "stream",
     "text": [
      "\n",
      "Iteration:  19%|█████████████▍                                                        | 80/415 [01:05<04:40,  1.20it/s]\u001b[A"
     ]
    },
    {
     "name": "stdout",
     "output_type": "stream",
     "text": [
      "tensor(0.4258, device='cuda:0', grad_fn=<NllLossBackward>)\n",
      "0.42583993077278137\n"
     ]
    },
    {
     "name": "stderr",
     "output_type": "stream",
     "text": [
      "\n",
      "Iteration:  20%|█████████████▋                                                        | 81/415 [01:06<04:35,  1.21it/s]\u001b[A"
     ]
    },
    {
     "name": "stdout",
     "output_type": "stream",
     "text": [
      "tensor(0.2912, device='cuda:0', grad_fn=<NllLossBackward>)\n",
      "0.2912302017211914\n"
     ]
    },
    {
     "name": "stderr",
     "output_type": "stream",
     "text": [
      "\n",
      "Iteration:  20%|█████████████▊                                                        | 82/415 [01:07<04:32,  1.22it/s]\u001b[A"
     ]
    },
    {
     "name": "stdout",
     "output_type": "stream",
     "text": [
      "tensor(0.4895, device='cuda:0', grad_fn=<NllLossBackward>)\n",
      "0.4894558787345886\n"
     ]
    },
    {
     "name": "stderr",
     "output_type": "stream",
     "text": [
      "\n",
      "Iteration:  20%|██████████████                                                        | 83/415 [01:08<04:40,  1.18it/s]\u001b[A"
     ]
    },
    {
     "name": "stdout",
     "output_type": "stream",
     "text": [
      "tensor(0.4289, device='cuda:0', grad_fn=<NllLossBackward>)\n",
      "0.42894884943962097\n"
     ]
    },
    {
     "name": "stderr",
     "output_type": "stream",
     "text": [
      "\n",
      "Iteration:  20%|██████████████▏                                                       | 84/415 [01:09<04:52,  1.13it/s]\u001b[A"
     ]
    },
    {
     "name": "stdout",
     "output_type": "stream",
     "text": [
      "tensor(0.3250, device='cuda:0', grad_fn=<NllLossBackward>)\n",
      "0.3250005543231964\n"
     ]
    },
    {
     "name": "stderr",
     "output_type": "stream",
     "text": [
      "\n",
      "Iteration:  20%|██████████████▎                                                       | 85/415 [01:10<04:48,  1.14it/s]\u001b[A"
     ]
    },
    {
     "name": "stdout",
     "output_type": "stream",
     "text": [
      "tensor(0.4892, device='cuda:0', grad_fn=<NllLossBackward>)\n",
      "0.4891839027404785\n"
     ]
    },
    {
     "name": "stderr",
     "output_type": "stream",
     "text": [
      "\n",
      "Iteration:  21%|██████████████▌                                                       | 86/415 [01:10<04:44,  1.16it/s]\u001b[A"
     ]
    },
    {
     "name": "stdout",
     "output_type": "stream",
     "text": [
      "tensor(0.4237, device='cuda:0', grad_fn=<NllLossBackward>)\n",
      "0.42373186349868774\n"
     ]
    },
    {
     "name": "stderr",
     "output_type": "stream",
     "text": [
      "\n",
      "Iteration:  21%|██████████████▋                                                       | 87/415 [01:11<04:41,  1.16it/s]\u001b[A"
     ]
    },
    {
     "name": "stdout",
     "output_type": "stream",
     "text": [
      "tensor(0.4492, device='cuda:0', grad_fn=<NllLossBackward>)\n",
      "0.4491993188858032\n"
     ]
    },
    {
     "name": "stderr",
     "output_type": "stream",
     "text": [
      "\n",
      "Iteration:  21%|██████████████▊                                                       | 88/415 [01:12<04:36,  1.18it/s]\u001b[A"
     ]
    },
    {
     "name": "stdout",
     "output_type": "stream",
     "text": [
      "tensor(0.4146, device='cuda:0', grad_fn=<NllLossBackward>)\n",
      "0.41459739208221436\n"
     ]
    },
    {
     "name": "stderr",
     "output_type": "stream",
     "text": [
      "\n",
      "Iteration:  21%|███████████████                                                       | 89/415 [01:13<04:37,  1.18it/s]\u001b[A"
     ]
    },
    {
     "name": "stdout",
     "output_type": "stream",
     "text": [
      "tensor(0.3993, device='cuda:0', grad_fn=<NllLossBackward>)\n",
      "0.39934295415878296\n"
     ]
    },
    {
     "name": "stderr",
     "output_type": "stream",
     "text": [
      "\n",
      "Iteration:  22%|███████████████▏                                                      | 90/415 [01:14<04:31,  1.20it/s]\u001b[A"
     ]
    },
    {
     "name": "stdout",
     "output_type": "stream",
     "text": [
      "tensor(0.4303, device='cuda:0', grad_fn=<NllLossBackward>)\n",
      "0.43033015727996826\n"
     ]
    },
    {
     "name": "stderr",
     "output_type": "stream",
     "text": [
      "\n",
      "Iteration:  22%|███████████████▎                                                      | 91/415 [01:15<04:27,  1.21it/s]\u001b[A"
     ]
    },
    {
     "name": "stdout",
     "output_type": "stream",
     "text": [
      "tensor(0.3747, device='cuda:0', grad_fn=<NllLossBackward>)\n",
      "0.37473973631858826\n"
     ]
    },
    {
     "name": "stderr",
     "output_type": "stream",
     "text": [
      "\n",
      "Iteration:  22%|███████████████▌                                                      | 92/415 [01:15<04:30,  1.20it/s]\u001b[A"
     ]
    },
    {
     "name": "stdout",
     "output_type": "stream",
     "text": [
      "tensor(0.4225, device='cuda:0', grad_fn=<NllLossBackward>)\n",
      "0.4225230813026428\n"
     ]
    },
    {
     "name": "stderr",
     "output_type": "stream",
     "text": [
      "\n",
      "Iteration:  22%|███████████████▋                                                      | 93/415 [01:16<04:24,  1.22it/s]\u001b[A"
     ]
    },
    {
     "name": "stdout",
     "output_type": "stream",
     "text": [
      "tensor(0.5129, device='cuda:0', grad_fn=<NllLossBackward>)\n",
      "0.5128545761108398\n"
     ]
    },
    {
     "name": "stderr",
     "output_type": "stream",
     "text": [
      "\n",
      "Iteration:  23%|███████████████▊                                                      | 94/415 [01:17<04:23,  1.22it/s]\u001b[A"
     ]
    },
    {
     "name": "stdout",
     "output_type": "stream",
     "text": [
      "tensor(0.2972, device='cuda:0', grad_fn=<NllLossBackward>)\n",
      "0.29721781611442566\n"
     ]
    },
    {
     "name": "stderr",
     "output_type": "stream",
     "text": [
      "\n",
      "Iteration:  23%|████████████████                                                      | 95/415 [01:18<04:25,  1.20it/s]\u001b[A"
     ]
    },
    {
     "name": "stdout",
     "output_type": "stream",
     "text": [
      "tensor(0.4950, device='cuda:0', grad_fn=<NllLossBackward>)\n",
      "0.4950079023838043\n"
     ]
    },
    {
     "name": "stderr",
     "output_type": "stream",
     "text": [
      "\n",
      "Iteration:  23%|████████████████▏                                                     | 96/415 [01:19<04:24,  1.20it/s]\u001b[A"
     ]
    },
    {
     "name": "stdout",
     "output_type": "stream",
     "text": [
      "tensor(0.5708, device='cuda:0', grad_fn=<NllLossBackward>)\n",
      "0.5708329677581787\n"
     ]
    },
    {
     "name": "stderr",
     "output_type": "stream",
     "text": [
      "\n",
      "Iteration:  23%|████████████████▎                                                     | 97/415 [01:19<04:20,  1.22it/s]\u001b[A"
     ]
    },
    {
     "name": "stdout",
     "output_type": "stream",
     "text": [
      "tensor(0.4921, device='cuda:0', grad_fn=<NllLossBackward>)\n",
      "0.49207940697669983\n"
     ]
    },
    {
     "name": "stderr",
     "output_type": "stream",
     "text": [
      "\n",
      "Iteration:  24%|████████████████▌                                                     | 98/415 [01:20<04:19,  1.22it/s]\u001b[A"
     ]
    },
    {
     "name": "stdout",
     "output_type": "stream",
     "text": [
      "tensor(0.3905, device='cuda:0', grad_fn=<NllLossBackward>)\n",
      "0.39049065113067627\n"
     ]
    },
    {
     "name": "stderr",
     "output_type": "stream",
     "text": [
      "\n",
      "Iteration:  24%|████████████████▋                                                     | 99/415 [01:21<04:16,  1.23it/s]\u001b[A"
     ]
    },
    {
     "name": "stdout",
     "output_type": "stream",
     "text": [
      "tensor(0.4575, device='cuda:0', grad_fn=<NllLossBackward>)\n",
      "0.4575105309486389\n"
     ]
    },
    {
     "name": "stderr",
     "output_type": "stream",
     "text": [
      "\n",
      "Iteration:  24%|████████████████▋                                                    | 100/415 [01:22<04:16,  1.23it/s]\u001b[A"
     ]
    },
    {
     "name": "stdout",
     "output_type": "stream",
     "text": [
      "tensor(0.5271, device='cuda:0', grad_fn=<NllLossBackward>)\n",
      "0.5271397829055786\n"
     ]
    },
    {
     "name": "stderr",
     "output_type": "stream",
     "text": [
      "\n",
      "Iteration:  24%|████████████████▊                                                    | 101/415 [01:23<04:21,  1.20it/s]\u001b[A"
     ]
    },
    {
     "name": "stdout",
     "output_type": "stream",
     "text": [
      "tensor(0.3847, device='cuda:0', grad_fn=<NllLossBackward>)\n",
      "0.3847191631793976\n"
     ]
    },
    {
     "name": "stderr",
     "output_type": "stream",
     "text": [
      "\n",
      "Iteration:  25%|████████████████▉                                                    | 102/415 [01:24<04:18,  1.21it/s]\u001b[A"
     ]
    },
    {
     "name": "stdout",
     "output_type": "stream",
     "text": [
      "tensor(0.3448, device='cuda:0', grad_fn=<NllLossBackward>)\n",
      "0.34476837515830994\n"
     ]
    },
    {
     "name": "stderr",
     "output_type": "stream",
     "text": [
      "\n",
      "Iteration:  25%|█████████████████▏                                                   | 103/415 [01:24<04:14,  1.22it/s]\u001b[A"
     ]
    },
    {
     "name": "stdout",
     "output_type": "stream",
     "text": [
      "tensor(0.3181, device='cuda:0', grad_fn=<NllLossBackward>)\n",
      "0.3181404173374176\n"
     ]
    },
    {
     "name": "stderr",
     "output_type": "stream",
     "text": [
      "\n",
      "Iteration:  25%|█████████████████▎                                                   | 104/415 [01:25<04:11,  1.24it/s]\u001b[A"
     ]
    },
    {
     "name": "stdout",
     "output_type": "stream",
     "text": [
      "tensor(0.2579, device='cuda:0', grad_fn=<NllLossBackward>)\n",
      "0.2578526735305786\n"
     ]
    },
    {
     "name": "stderr",
     "output_type": "stream",
     "text": [
      "\n",
      "Iteration:  25%|█████████████████▍                                                   | 105/415 [01:26<04:19,  1.19it/s]\u001b[A"
     ]
    },
    {
     "name": "stdout",
     "output_type": "stream",
     "text": [
      "tensor(0.4328, device='cuda:0', grad_fn=<NllLossBackward>)\n",
      "0.43278107047080994\n"
     ]
    },
    {
     "name": "stderr",
     "output_type": "stream",
     "text": [
      "\n",
      "Iteration:  26%|█████████████████▌                                                   | 106/415 [01:27<04:17,  1.20it/s]\u001b[A"
     ]
    },
    {
     "name": "stdout",
     "output_type": "stream",
     "text": [
      "tensor(0.4901, device='cuda:0', grad_fn=<NllLossBackward>)\n",
      "0.4900915324687958\n"
     ]
    },
    {
     "name": "stderr",
     "output_type": "stream",
     "text": [
      "\n",
      "Iteration:  26%|█████████████████▊                                                   | 107/415 [01:28<04:15,  1.21it/s]\u001b[A"
     ]
    },
    {
     "name": "stdout",
     "output_type": "stream",
     "text": [
      "tensor(0.2500, device='cuda:0', grad_fn=<NllLossBackward>)\n",
      "0.24999822676181793\n"
     ]
    },
    {
     "name": "stderr",
     "output_type": "stream",
     "text": [
      "\n",
      "Iteration:  26%|█████████████████▉                                                   | 108/415 [01:29<04:22,  1.17it/s]\u001b[A"
     ]
    },
    {
     "name": "stdout",
     "output_type": "stream",
     "text": [
      "tensor(0.5092, device='cuda:0', grad_fn=<NllLossBackward>)\n",
      "0.5091849565505981\n"
     ]
    },
    {
     "name": "stderr",
     "output_type": "stream",
     "text": [
      "\n",
      "Iteration:  26%|██████████████████                                                   | 109/415 [01:29<04:20,  1.18it/s]\u001b[A"
     ]
    },
    {
     "name": "stdout",
     "output_type": "stream",
     "text": [
      "tensor(0.3271, device='cuda:0', grad_fn=<NllLossBackward>)\n",
      "0.32710543274879456\n"
     ]
    },
    {
     "name": "stderr",
     "output_type": "stream",
     "text": [
      "\n",
      "Iteration:  27%|██████████████████▎                                                  | 110/415 [01:30<04:16,  1.19it/s]\u001b[A"
     ]
    },
    {
     "name": "stdout",
     "output_type": "stream",
     "text": [
      "tensor(0.3712, device='cuda:0', grad_fn=<NllLossBackward>)\n",
      "0.371201753616333\n"
     ]
    },
    {
     "name": "stderr",
     "output_type": "stream",
     "text": [
      "\n",
      "Iteration:  27%|██████████████████▍                                                  | 111/415 [01:31<04:12,  1.20it/s]\u001b[A"
     ]
    },
    {
     "name": "stdout",
     "output_type": "stream",
     "text": [
      "tensor(0.3663, device='cuda:0', grad_fn=<NllLossBackward>)\n",
      "0.3663361966609955\n"
     ]
    },
    {
     "name": "stderr",
     "output_type": "stream",
     "text": [
      "\n",
      "Iteration:  27%|██████████████████▌                                                  | 112/415 [01:32<04:09,  1.21it/s]\u001b[A"
     ]
    },
    {
     "name": "stdout",
     "output_type": "stream",
     "text": [
      "tensor(0.4930, device='cuda:0', grad_fn=<NllLossBackward>)\n",
      "0.4929662346839905\n"
     ]
    },
    {
     "name": "stderr",
     "output_type": "stream",
     "text": [
      "\n",
      "Iteration:  27%|██████████████████▊                                                  | 113/415 [01:33<04:11,  1.20it/s]\u001b[A"
     ]
    },
    {
     "name": "stdout",
     "output_type": "stream",
     "text": [
      "tensor(0.3297, device='cuda:0', grad_fn=<NllLossBackward>)\n",
      "0.3296547532081604\n"
     ]
    },
    {
     "name": "stderr",
     "output_type": "stream",
     "text": [
      "\n",
      "Iteration:  27%|██████████████████▉                                                  | 114/415 [01:34<04:09,  1.21it/s]\u001b[A"
     ]
    },
    {
     "name": "stdout",
     "output_type": "stream",
     "text": [
      "tensor(0.3984, device='cuda:0', grad_fn=<NllLossBackward>)\n",
      "0.3983684778213501\n"
     ]
    },
    {
     "name": "stderr",
     "output_type": "stream",
     "text": [
      "\n",
      "Iteration:  28%|███████████████████                                                  | 115/415 [01:34<04:11,  1.19it/s]\u001b[A"
     ]
    },
    {
     "name": "stdout",
     "output_type": "stream",
     "text": [
      "tensor(0.7294, device='cuda:0', grad_fn=<NllLossBackward>)\n",
      "0.7293691635131836\n"
     ]
    },
    {
     "name": "stderr",
     "output_type": "stream",
     "text": [
      "\n",
      "Iteration:  28%|███████████████████▎                                                 | 116/415 [01:35<04:07,  1.21it/s]\u001b[A"
     ]
    },
    {
     "name": "stdout",
     "output_type": "stream",
     "text": [
      "tensor(0.5813, device='cuda:0', grad_fn=<NllLossBackward>)\n",
      "0.5812572836875916\n"
     ]
    },
    {
     "name": "stderr",
     "output_type": "stream",
     "text": [
      "\n",
      "Iteration:  28%|███████████████████▍                                                 | 117/415 [01:36<04:03,  1.22it/s]\u001b[A"
     ]
    },
    {
     "name": "stdout",
     "output_type": "stream",
     "text": [
      "tensor(0.2825, device='cuda:0', grad_fn=<NllLossBackward>)\n",
      "0.28249531984329224\n"
     ]
    },
    {
     "name": "stderr",
     "output_type": "stream",
     "text": [
      "\n",
      "Iteration:  28%|███████████████████▌                                                 | 118/415 [01:37<04:07,  1.20it/s]\u001b[A"
     ]
    },
    {
     "name": "stdout",
     "output_type": "stream",
     "text": [
      "tensor(0.3916, device='cuda:0', grad_fn=<NllLossBackward>)\n",
      "0.3915647268295288\n"
     ]
    },
    {
     "name": "stderr",
     "output_type": "stream",
     "text": [
      "\n",
      "Iteration:  29%|███████████████████▊                                                 | 119/415 [01:38<04:03,  1.22it/s]\u001b[A"
     ]
    },
    {
     "name": "stdout",
     "output_type": "stream",
     "text": [
      "tensor(0.4974, device='cuda:0', grad_fn=<NllLossBackward>)\n",
      "0.4973818361759186\n"
     ]
    },
    {
     "name": "stderr",
     "output_type": "stream",
     "text": [
      "\n",
      "Iteration:  29%|███████████████████▉                                                 | 120/415 [01:39<04:02,  1.22it/s]\u001b[A"
     ]
    },
    {
     "name": "stdout",
     "output_type": "stream",
     "text": [
      "tensor(0.2827, device='cuda:0', grad_fn=<NllLossBackward>)\n",
      "0.28265783190727234\n"
     ]
    },
    {
     "name": "stderr",
     "output_type": "stream",
     "text": [
      "\n",
      "Iteration:  29%|████████████████████                                                 | 121/415 [01:39<04:00,  1.22it/s]\u001b[A"
     ]
    },
    {
     "name": "stdout",
     "output_type": "stream",
     "text": [
      "tensor(0.5294, device='cuda:0', grad_fn=<NllLossBackward>)\n",
      "0.5294232964515686\n"
     ]
    },
    {
     "name": "stderr",
     "output_type": "stream",
     "text": [
      "\n",
      "Iteration:  29%|████████████████████▎                                                | 122/415 [01:40<03:59,  1.22it/s]\u001b[A"
     ]
    },
    {
     "name": "stdout",
     "output_type": "stream",
     "text": [
      "tensor(0.5922, device='cuda:0', grad_fn=<NllLossBackward>)\n",
      "0.5921816825866699\n"
     ]
    },
    {
     "name": "stderr",
     "output_type": "stream",
     "text": [
      "\n",
      "Iteration:  30%|████████████████████▍                                                | 123/415 [01:41<03:58,  1.22it/s]\u001b[A"
     ]
    },
    {
     "name": "stdout",
     "output_type": "stream",
     "text": [
      "tensor(0.5485, device='cuda:0', grad_fn=<NllLossBackward>)\n",
      "0.5485140681266785\n"
     ]
    },
    {
     "name": "stderr",
     "output_type": "stream",
     "text": [
      "\n",
      "Iteration:  30%|████████████████████▌                                                | 124/415 [01:42<04:02,  1.20it/s]\u001b[A"
     ]
    },
    {
     "name": "stdout",
     "output_type": "stream",
     "text": [
      "tensor(0.3061, device='cuda:0', grad_fn=<NllLossBackward>)\n",
      "0.3061051070690155\n"
     ]
    },
    {
     "name": "stderr",
     "output_type": "stream",
     "text": [
      "\n",
      "Iteration:  30%|████████████████████▊                                                | 125/415 [01:43<03:57,  1.22it/s]\u001b[A"
     ]
    },
    {
     "name": "stdout",
     "output_type": "stream",
     "text": [
      "tensor(0.5566, device='cuda:0', grad_fn=<NllLossBackward>)\n",
      "0.5565799474716187\n"
     ]
    },
    {
     "name": "stderr",
     "output_type": "stream",
     "text": [
      "\n",
      "Iteration:  30%|████████████████████▉                                                | 126/415 [01:44<04:00,  1.20it/s]\u001b[A"
     ]
    },
    {
     "name": "stdout",
     "output_type": "stream",
     "text": [
      "tensor(0.4213, device='cuda:0', grad_fn=<NllLossBackward>)\n",
      "0.42130401730537415\n"
     ]
    },
    {
     "name": "stderr",
     "output_type": "stream",
     "text": [
      "\n",
      "Iteration:  31%|█████████████████████                                                | 127/415 [01:44<04:01,  1.19it/s]\u001b[A"
     ]
    },
    {
     "name": "stdout",
     "output_type": "stream",
     "text": [
      "tensor(0.4779, device='cuda:0', grad_fn=<NllLossBackward>)\n",
      "0.4779103696346283\n"
     ]
    },
    {
     "name": "stderr",
     "output_type": "stream",
     "text": [
      "\n",
      "Iteration:  31%|█████████████████████▎                                               | 128/415 [01:45<03:58,  1.20it/s]\u001b[A"
     ]
    },
    {
     "name": "stdout",
     "output_type": "stream",
     "text": [
      "tensor(0.3120, device='cuda:0', grad_fn=<NllLossBackward>)\n",
      "0.31197771430015564\n"
     ]
    },
    {
     "name": "stderr",
     "output_type": "stream",
     "text": [
      "\n",
      "Iteration:  31%|█████████████████████▍                                               | 129/415 [01:46<04:00,  1.19it/s]\u001b[A"
     ]
    },
    {
     "name": "stdout",
     "output_type": "stream",
     "text": [
      "tensor(0.3799, device='cuda:0', grad_fn=<NllLossBackward>)\n",
      "0.37988603115081787\n"
     ]
    },
    {
     "name": "stderr",
     "output_type": "stream",
     "text": [
      "\n",
      "Iteration:  31%|█████████████████████▌                                               | 130/415 [01:47<04:01,  1.18it/s]\u001b[A"
     ]
    },
    {
     "name": "stdout",
     "output_type": "stream",
     "text": [
      "tensor(0.4305, device='cuda:0', grad_fn=<NllLossBackward>)\n",
      "0.4304647147655487\n"
     ]
    },
    {
     "name": "stderr",
     "output_type": "stream",
     "text": [
      "\n",
      "Iteration:  32%|█████████████████████▊                                               | 131/415 [01:48<03:56,  1.20it/s]\u001b[A"
     ]
    },
    {
     "name": "stdout",
     "output_type": "stream",
     "text": [
      "tensor(0.3694, device='cuda:0', grad_fn=<NllLossBackward>)\n",
      "0.3694137930870056\n"
     ]
    },
    {
     "name": "stderr",
     "output_type": "stream",
     "text": [
      "\n",
      "Iteration:  32%|█████████████████████▉                                               | 132/415 [01:49<03:56,  1.20it/s]\u001b[A"
     ]
    },
    {
     "name": "stdout",
     "output_type": "stream",
     "text": [
      "tensor(0.4157, device='cuda:0', grad_fn=<NllLossBackward>)\n",
      "0.4157028794288635\n"
     ]
    },
    {
     "name": "stderr",
     "output_type": "stream",
     "text": [
      "\n",
      "Iteration:  32%|██████████████████████                                               | 133/415 [01:49<03:52,  1.21it/s]\u001b[A"
     ]
    },
    {
     "name": "stdout",
     "output_type": "stream",
     "text": [
      "tensor(0.2909, device='cuda:0', grad_fn=<NllLossBackward>)\n",
      "0.29087698459625244\n"
     ]
    },
    {
     "name": "stderr",
     "output_type": "stream",
     "text": [
      "\n",
      "Iteration:  32%|██████████████████████▎                                              | 134/415 [01:50<03:54,  1.20it/s]\u001b[A"
     ]
    },
    {
     "name": "stdout",
     "output_type": "stream",
     "text": [
      "tensor(0.4601, device='cuda:0', grad_fn=<NllLossBackward>)\n",
      "0.4601457118988037\n"
     ]
    },
    {
     "name": "stderr",
     "output_type": "stream",
     "text": [
      "\n",
      "Iteration:  33%|██████████████████████▍                                              | 135/415 [01:51<03:56,  1.18it/s]\u001b[A"
     ]
    },
    {
     "name": "stdout",
     "output_type": "stream",
     "text": [
      "tensor(0.2911, device='cuda:0', grad_fn=<NllLossBackward>)\n",
      "0.29106831550598145\n"
     ]
    },
    {
     "name": "stderr",
     "output_type": "stream",
     "text": [
      "\n",
      "Iteration:  33%|██████████████████████▌                                              | 136/415 [01:52<03:52,  1.20it/s]\u001b[A"
     ]
    },
    {
     "name": "stdout",
     "output_type": "stream",
     "text": [
      "tensor(0.3615, device='cuda:0', grad_fn=<NllLossBackward>)\n",
      "0.3614838123321533\n"
     ]
    },
    {
     "name": "stderr",
     "output_type": "stream",
     "text": [
      "\n",
      "Iteration:  33%|██████████████████████▊                                              | 137/415 [01:53<03:52,  1.19it/s]\u001b[A"
     ]
    },
    {
     "name": "stdout",
     "output_type": "stream",
     "text": [
      "tensor(0.4232, device='cuda:0', grad_fn=<NllLossBackward>)\n",
      "0.4232063889503479\n"
     ]
    },
    {
     "name": "stderr",
     "output_type": "stream",
     "text": [
      "\n",
      "Iteration:  33%|██████████████████████▉                                              | 138/415 [01:54<03:50,  1.20it/s]\u001b[A"
     ]
    },
    {
     "name": "stdout",
     "output_type": "stream",
     "text": [
      "tensor(0.4324, device='cuda:0', grad_fn=<NllLossBackward>)\n",
      "0.4323793053627014\n"
     ]
    },
    {
     "name": "stderr",
     "output_type": "stream",
     "text": [
      "\n",
      "Iteration:  33%|███████████████████████                                              | 139/415 [01:54<03:48,  1.21it/s]\u001b[A"
     ]
    },
    {
     "name": "stdout",
     "output_type": "stream",
     "text": [
      "tensor(0.7494, device='cuda:0', grad_fn=<NllLossBackward>)\n",
      "0.7493845820426941\n"
     ]
    },
    {
     "name": "stderr",
     "output_type": "stream",
     "text": [
      "\n",
      "Iteration:  34%|███████████████████████▎                                             | 140/415 [01:55<03:49,  1.20it/s]\u001b[A"
     ]
    },
    {
     "name": "stdout",
     "output_type": "stream",
     "text": [
      "tensor(0.2657, device='cuda:0', grad_fn=<NllLossBackward>)\n",
      "0.2657186985015869\n"
     ]
    },
    {
     "name": "stderr",
     "output_type": "stream",
     "text": [
      "\n",
      "Iteration:  34%|███████████████████████▍                                             | 141/415 [01:56<03:47,  1.21it/s]\u001b[A"
     ]
    },
    {
     "name": "stdout",
     "output_type": "stream",
     "text": [
      "tensor(0.2616, device='cuda:0', grad_fn=<NllLossBackward>)\n",
      "0.26160338521003723\n"
     ]
    },
    {
     "name": "stderr",
     "output_type": "stream",
     "text": [
      "\n",
      "Iteration:  34%|███████████████████████▌                                             | 142/415 [01:57<03:49,  1.19it/s]\u001b[A"
     ]
    },
    {
     "name": "stdout",
     "output_type": "stream",
     "text": [
      "tensor(0.3981, device='cuda:0', grad_fn=<NllLossBackward>)\n",
      "0.39810389280319214\n"
     ]
    },
    {
     "name": "stderr",
     "output_type": "stream",
     "text": [
      "\n",
      "Iteration:  34%|███████████████████████▊                                             | 143/415 [01:58<03:49,  1.18it/s]\u001b[A"
     ]
    },
    {
     "name": "stdout",
     "output_type": "stream",
     "text": [
      "tensor(0.2622, device='cuda:0', grad_fn=<NllLossBackward>)\n",
      "0.2622391879558563\n"
     ]
    },
    {
     "name": "stderr",
     "output_type": "stream",
     "text": [
      "\n",
      "Iteration:  35%|███████████████████████▉                                             | 144/415 [01:59<03:45,  1.20it/s]\u001b[A"
     ]
    },
    {
     "name": "stdout",
     "output_type": "stream",
     "text": [
      "tensor(0.2598, device='cuda:0', grad_fn=<NllLossBackward>)\n",
      "0.2598089575767517\n"
     ]
    },
    {
     "name": "stderr",
     "output_type": "stream",
     "text": [
      "\n",
      "Iteration:  35%|████████████████████████                                             | 145/415 [01:59<03:45,  1.20it/s]\u001b[A"
     ]
    },
    {
     "name": "stdout",
     "output_type": "stream",
     "text": [
      "tensor(0.3649, device='cuda:0', grad_fn=<NllLossBackward>)\n",
      "0.3649267554283142\n"
     ]
    },
    {
     "name": "stderr",
     "output_type": "stream",
     "text": [
      "\n",
      "Iteration:  35%|████████████████████████▎                                            | 146/415 [02:00<03:43,  1.21it/s]\u001b[A"
     ]
    },
    {
     "name": "stdout",
     "output_type": "stream",
     "text": [
      "tensor(0.4987, device='cuda:0', grad_fn=<NllLossBackward>)\n",
      "0.49866998195648193\n"
     ]
    },
    {
     "name": "stderr",
     "output_type": "stream",
     "text": [
      "\n",
      "Iteration:  35%|████████████████████████▍                                            | 147/415 [02:01<03:49,  1.17it/s]\u001b[A"
     ]
    },
    {
     "name": "stdout",
     "output_type": "stream",
     "text": [
      "tensor(0.4009, device='cuda:0', grad_fn=<NllLossBackward>)\n",
      "0.4008883833885193\n"
     ]
    },
    {
     "name": "stderr",
     "output_type": "stream",
     "text": [
      "\n",
      "Iteration:  36%|████████████████████████▌                                            | 148/415 [02:02<03:44,  1.19it/s]\u001b[A"
     ]
    },
    {
     "name": "stdout",
     "output_type": "stream",
     "text": [
      "tensor(0.5368, device='cuda:0', grad_fn=<NllLossBackward>)\n",
      "0.5368329882621765\n"
     ]
    },
    {
     "name": "stderr",
     "output_type": "stream",
     "text": [
      "\n",
      "Iteration:  36%|████████████████████████▊                                            | 149/415 [02:03<03:41,  1.20it/s]\u001b[A"
     ]
    },
    {
     "name": "stdout",
     "output_type": "stream",
     "text": [
      "tensor(0.2787, device='cuda:0', grad_fn=<NllLossBackward>)\n",
      "0.2786639928817749\n"
     ]
    },
    {
     "name": "stderr",
     "output_type": "stream",
     "text": [
      "\n",
      "Iteration:  36%|████████████████████████▉                                            | 150/415 [02:04<04:00,  1.10it/s]\u001b[A"
     ]
    },
    {
     "name": "stdout",
     "output_type": "stream",
     "text": [
      "tensor(0.2218, device='cuda:0', grad_fn=<NllLossBackward>)\n",
      "0.22183434665203094\n"
     ]
    },
    {
     "name": "stderr",
     "output_type": "stream",
     "text": [
      "\n",
      "Iteration:  36%|█████████████████████████                                            | 151/415 [02:05<03:54,  1.13it/s]\u001b[A"
     ]
    },
    {
     "name": "stdout",
     "output_type": "stream",
     "text": [
      "tensor(0.4026, device='cuda:0', grad_fn=<NllLossBackward>)\n",
      "0.4026256501674652\n"
     ]
    },
    {
     "name": "stderr",
     "output_type": "stream",
     "text": [
      "\n",
      "Iteration:  37%|█████████████████████████▎                                           | 152/415 [02:06<03:50,  1.14it/s]\u001b[A"
     ]
    },
    {
     "name": "stdout",
     "output_type": "stream",
     "text": [
      "tensor(0.4348, device='cuda:0', grad_fn=<NllLossBackward>)\n",
      "0.4347521662712097\n"
     ]
    },
    {
     "name": "stderr",
     "output_type": "stream",
     "text": [
      "\n",
      "Iteration:  37%|█████████████████████████▍                                           | 153/415 [02:06<03:44,  1.17it/s]\u001b[A"
     ]
    },
    {
     "name": "stdout",
     "output_type": "stream",
     "text": [
      "tensor(0.3180, device='cuda:0', grad_fn=<NllLossBackward>)\n",
      "0.31795191764831543\n"
     ]
    },
    {
     "name": "stderr",
     "output_type": "stream",
     "text": [
      "\n",
      "Iteration:  37%|█████████████████████████▌                                           | 154/415 [02:07<03:44,  1.16it/s]\u001b[A"
     ]
    },
    {
     "name": "stdout",
     "output_type": "stream",
     "text": [
      "tensor(0.3330, device='cuda:0', grad_fn=<NllLossBackward>)\n",
      "0.3329772651195526\n"
     ]
    },
    {
     "name": "stderr",
     "output_type": "stream",
     "text": [
      "\n",
      "Iteration:  37%|█████████████████████████▊                                           | 155/415 [02:08<03:39,  1.18it/s]\u001b[A"
     ]
    },
    {
     "name": "stdout",
     "output_type": "stream",
     "text": [
      "tensor(0.6024, device='cuda:0', grad_fn=<NllLossBackward>)\n",
      "0.6024261116981506\n"
     ]
    },
    {
     "name": "stderr",
     "output_type": "stream",
     "text": [
      "\n",
      "Iteration:  38%|█████████████████████████▉                                           | 156/415 [02:09<03:36,  1.20it/s]\u001b[A"
     ]
    },
    {
     "name": "stdout",
     "output_type": "stream",
     "text": [
      "tensor(0.2835, device='cuda:0', grad_fn=<NllLossBackward>)\n",
      "0.28349098563194275\n"
     ]
    },
    {
     "name": "stderr",
     "output_type": "stream",
     "text": [
      "\n",
      "Iteration:  38%|██████████████████████████                                           | 157/415 [02:10<03:40,  1.17it/s]\u001b[A"
     ]
    },
    {
     "name": "stdout",
     "output_type": "stream",
     "text": [
      "tensor(0.2845, device='cuda:0', grad_fn=<NllLossBackward>)\n",
      "0.2845417261123657\n"
     ]
    },
    {
     "name": "stderr",
     "output_type": "stream",
     "text": [
      "\n",
      "Iteration:  38%|██████████████████████████▎                                          | 158/415 [02:11<03:37,  1.18it/s]\u001b[A"
     ]
    },
    {
     "name": "stdout",
     "output_type": "stream",
     "text": [
      "tensor(0.4605, device='cuda:0', grad_fn=<NllLossBackward>)\n",
      "0.4604960083961487\n"
     ]
    },
    {
     "name": "stderr",
     "output_type": "stream",
     "text": [
      "\n",
      "Iteration:  38%|██████████████████████████▍                                          | 159/415 [02:11<03:32,  1.20it/s]\u001b[A"
     ]
    },
    {
     "name": "stdout",
     "output_type": "stream",
     "text": [
      "tensor(0.7218, device='cuda:0', grad_fn=<NllLossBackward>)\n",
      "0.7217502593994141\n"
     ]
    },
    {
     "name": "stderr",
     "output_type": "stream",
     "text": [
      "\n",
      "Iteration:  39%|██████████████████████████▌                                          | 160/415 [02:12<03:31,  1.20it/s]\u001b[A"
     ]
    },
    {
     "name": "stdout",
     "output_type": "stream",
     "text": [
      "tensor(0.3318, device='cuda:0', grad_fn=<NllLossBackward>)\n",
      "0.3317897915840149\n"
     ]
    },
    {
     "name": "stderr",
     "output_type": "stream",
     "text": [
      "\n",
      "Iteration:  39%|██████████████████████████▊                                          | 161/415 [02:13<03:32,  1.19it/s]\u001b[A"
     ]
    },
    {
     "name": "stdout",
     "output_type": "stream",
     "text": [
      "tensor(0.3452, device='cuda:0', grad_fn=<NllLossBackward>)\n",
      "0.3451647162437439\n"
     ]
    },
    {
     "name": "stderr",
     "output_type": "stream",
     "text": [
      "\n",
      "Iteration:  39%|██████████████████████████▉                                          | 162/415 [02:14<03:32,  1.19it/s]\u001b[A"
     ]
    },
    {
     "name": "stdout",
     "output_type": "stream",
     "text": [
      "tensor(0.4394, device='cuda:0', grad_fn=<NllLossBackward>)\n",
      "0.43939515948295593\n"
     ]
    },
    {
     "name": "stderr",
     "output_type": "stream",
     "text": [
      "\n",
      "Iteration:  39%|███████████████████████████                                          | 163/415 [02:15<03:31,  1.19it/s]\u001b[A"
     ]
    },
    {
     "name": "stdout",
     "output_type": "stream",
     "text": [
      "tensor(0.3259, device='cuda:0', grad_fn=<NllLossBackward>)\n",
      "0.3258809745311737\n"
     ]
    },
    {
     "name": "stderr",
     "output_type": "stream",
     "text": [
      "\n",
      "Iteration:  40%|███████████████████████████▎                                         | 164/415 [02:16<03:30,  1.19it/s]\u001b[A"
     ]
    },
    {
     "name": "stdout",
     "output_type": "stream",
     "text": [
      "tensor(0.6759, device='cuda:0', grad_fn=<NllLossBackward>)\n",
      "0.6759074330329895\n"
     ]
    },
    {
     "name": "stderr",
     "output_type": "stream",
     "text": [
      "\n",
      "Iteration:  40%|███████████████████████████▍                                         | 165/415 [02:16<03:27,  1.21it/s]\u001b[A"
     ]
    },
    {
     "name": "stdout",
     "output_type": "stream",
     "text": [
      "tensor(0.3985, device='cuda:0', grad_fn=<NllLossBackward>)\n",
      "0.3985428512096405\n"
     ]
    },
    {
     "name": "stderr",
     "output_type": "stream",
     "text": [
      "\n",
      "Iteration:  40%|███████████████████████████▌                                         | 166/415 [02:17<03:31,  1.18it/s]\u001b[A"
     ]
    },
    {
     "name": "stdout",
     "output_type": "stream",
     "text": [
      "tensor(0.5784, device='cuda:0', grad_fn=<NllLossBackward>)\n",
      "0.5783615112304688\n"
     ]
    },
    {
     "name": "stderr",
     "output_type": "stream",
     "text": [
      "\n",
      "Iteration:  40%|███████████████████████████▊                                         | 167/415 [02:18<03:27,  1.20it/s]\u001b[A"
     ]
    },
    {
     "name": "stdout",
     "output_type": "stream",
     "text": [
      "tensor(0.5176, device='cuda:0', grad_fn=<NllLossBackward>)\n",
      "0.5175603032112122\n"
     ]
    },
    {
     "name": "stderr",
     "output_type": "stream",
     "text": [
      "\n",
      "Iteration:  40%|███████████████████████████▉                                         | 168/415 [02:19<03:25,  1.20it/s]\u001b[A"
     ]
    },
    {
     "name": "stdout",
     "output_type": "stream",
     "text": [
      "tensor(0.4158, device='cuda:0', grad_fn=<NllLossBackward>)\n",
      "0.41583380103111267\n"
     ]
    },
    {
     "name": "stderr",
     "output_type": "stream",
     "text": [
      "\n",
      "Iteration:  41%|████████████████████████████                                         | 169/415 [02:20<03:23,  1.21it/s]\u001b[A"
     ]
    },
    {
     "name": "stdout",
     "output_type": "stream",
     "text": [
      "tensor(0.5678, device='cuda:0', grad_fn=<NllLossBackward>)\n",
      "0.5677915811538696\n"
     ]
    },
    {
     "name": "stderr",
     "output_type": "stream",
     "text": [
      "\n",
      "Iteration:  41%|████████████████████████████▎                                        | 170/415 [02:21<03:24,  1.20it/s]\u001b[A"
     ]
    },
    {
     "name": "stdout",
     "output_type": "stream",
     "text": [
      "tensor(0.5014, device='cuda:0', grad_fn=<NllLossBackward>)\n",
      "0.50144362449646\n"
     ]
    },
    {
     "name": "stderr",
     "output_type": "stream",
     "text": [
      "\n",
      "Iteration:  41%|████████████████████████████▍                                        | 171/415 [02:21<03:24,  1.20it/s]\u001b[A"
     ]
    },
    {
     "name": "stdout",
     "output_type": "stream",
     "text": [
      "tensor(0.4878, device='cuda:0', grad_fn=<NllLossBackward>)\n",
      "0.4878324568271637\n"
     ]
    },
    {
     "name": "stderr",
     "output_type": "stream",
     "text": [
      "\n",
      "Iteration:  41%|████████████████████████████▌                                        | 172/415 [02:22<03:21,  1.21it/s]\u001b[A"
     ]
    },
    {
     "name": "stdout",
     "output_type": "stream",
     "text": [
      "tensor(0.6132, device='cuda:0', grad_fn=<NllLossBackward>)\n",
      "0.613226056098938\n"
     ]
    },
    {
     "name": "stderr",
     "output_type": "stream",
     "text": [
      "\n",
      "Iteration:  42%|████████████████████████████▊                                        | 173/415 [02:23<03:19,  1.21it/s]\u001b[A"
     ]
    },
    {
     "name": "stdout",
     "output_type": "stream",
     "text": [
      "tensor(0.6958, device='cuda:0', grad_fn=<NllLossBackward>)\n",
      "0.6958091855049133\n"
     ]
    },
    {
     "name": "stderr",
     "output_type": "stream",
     "text": [
      "\n",
      "Iteration:  42%|████████████████████████████▉                                        | 174/415 [02:24<03:29,  1.15it/s]\u001b[A"
     ]
    },
    {
     "name": "stdout",
     "output_type": "stream",
     "text": [
      "tensor(0.4588, device='cuda:0', grad_fn=<NllLossBackward>)\n",
      "0.458818256855011\n"
     ]
    },
    {
     "name": "stderr",
     "output_type": "stream",
     "text": [
      "\n",
      "Iteration:  42%|█████████████████████████████                                        | 175/415 [02:25<03:24,  1.17it/s]\u001b[A"
     ]
    },
    {
     "name": "stdout",
     "output_type": "stream",
     "text": [
      "tensor(0.3638, device='cuda:0', grad_fn=<NllLossBackward>)\n",
      "0.36377519369125366\n"
     ]
    },
    {
     "name": "stderr",
     "output_type": "stream",
     "text": [
      "\n",
      "Iteration:  42%|█████████████████████████████▎                                       | 176/415 [02:26<03:20,  1.19it/s]\u001b[A"
     ]
    },
    {
     "name": "stdout",
     "output_type": "stream",
     "text": [
      "tensor(0.3980, device='cuda:0', grad_fn=<NllLossBackward>)\n",
      "0.39803534746170044\n"
     ]
    },
    {
     "name": "stderr",
     "output_type": "stream",
     "text": [
      "\n",
      "Iteration:  43%|█████████████████████████████▍                                       | 177/415 [02:26<03:20,  1.19it/s]\u001b[A"
     ]
    },
    {
     "name": "stdout",
     "output_type": "stream",
     "text": [
      "tensor(0.3709, device='cuda:0', grad_fn=<NllLossBackward>)\n",
      "0.37087196111679077\n"
     ]
    },
    {
     "name": "stderr",
     "output_type": "stream",
     "text": [
      "\n",
      "Iteration:  43%|█████████████████████████████▌                                       | 178/415 [02:27<03:19,  1.19it/s]\u001b[A"
     ]
    },
    {
     "name": "stdout",
     "output_type": "stream",
     "text": [
      "tensor(0.4545, device='cuda:0', grad_fn=<NllLossBackward>)\n",
      "0.45448797941207886\n"
     ]
    },
    {
     "name": "stderr",
     "output_type": "stream",
     "text": [
      "\n",
      "Iteration:  43%|█████████████████████████████▊                                       | 179/415 [02:28<03:16,  1.20it/s]\u001b[A"
     ]
    },
    {
     "name": "stdout",
     "output_type": "stream",
     "text": [
      "tensor(0.3713, device='cuda:0', grad_fn=<NllLossBackward>)\n",
      "0.37131667137145996\n"
     ]
    },
    {
     "name": "stderr",
     "output_type": "stream",
     "text": [
      "\n",
      "Iteration:  43%|█████████████████████████████▉                                       | 180/415 [02:29<03:14,  1.21it/s]\u001b[A"
     ]
    },
    {
     "name": "stdout",
     "output_type": "stream",
     "text": [
      "tensor(0.2776, device='cuda:0', grad_fn=<NllLossBackward>)\n",
      "0.2776048183441162\n"
     ]
    },
    {
     "name": "stderr",
     "output_type": "stream",
     "text": [
      "\n",
      "Iteration:  44%|██████████████████████████████                                       | 181/415 [02:30<03:11,  1.22it/s]\u001b[A"
     ]
    },
    {
     "name": "stdout",
     "output_type": "stream",
     "text": [
      "tensor(0.4073, device='cuda:0', grad_fn=<NllLossBackward>)\n",
      "0.4072926342487335\n"
     ]
    },
    {
     "name": "stderr",
     "output_type": "stream",
     "text": [
      "\n",
      "Iteration:  44%|██████████████████████████████▎                                      | 182/415 [02:31<03:09,  1.23it/s]\u001b[A"
     ]
    },
    {
     "name": "stdout",
     "output_type": "stream",
     "text": [
      "tensor(0.4021, device='cuda:0', grad_fn=<NllLossBackward>)\n",
      "0.4020940959453583\n"
     ]
    },
    {
     "name": "stderr",
     "output_type": "stream",
     "text": [
      "\n",
      "Iteration:  44%|██████████████████████████████▍                                      | 183/415 [02:31<03:16,  1.18it/s]\u001b[A"
     ]
    },
    {
     "name": "stdout",
     "output_type": "stream",
     "text": [
      "tensor(0.3625, device='cuda:0', grad_fn=<NllLossBackward>)\n",
      "0.362455278635025\n"
     ]
    },
    {
     "name": "stderr",
     "output_type": "stream",
     "text": [
      "\n",
      "Iteration:  44%|██████████████████████████████▌                                      | 184/415 [02:32<03:15,  1.18it/s]\u001b[A"
     ]
    },
    {
     "name": "stdout",
     "output_type": "stream",
     "text": [
      "tensor(0.3574, device='cuda:0', grad_fn=<NllLossBackward>)\n",
      "0.3574138879776001\n"
     ]
    },
    {
     "name": "stderr",
     "output_type": "stream",
     "text": [
      "\n",
      "Iteration:  45%|██████████████████████████████▊                                      | 185/415 [02:33<03:15,  1.17it/s]\u001b[A"
     ]
    },
    {
     "name": "stdout",
     "output_type": "stream",
     "text": [
      "tensor(0.3043, device='cuda:0', grad_fn=<NllLossBackward>)\n",
      "0.3043443560600281\n"
     ]
    },
    {
     "name": "stderr",
     "output_type": "stream",
     "text": [
      "\n",
      "Iteration:  45%|██████████████████████████████▉                                      | 186/415 [02:34<03:13,  1.18it/s]\u001b[A"
     ]
    },
    {
     "name": "stdout",
     "output_type": "stream",
     "text": [
      "tensor(0.3090, device='cuda:0', grad_fn=<NllLossBackward>)\n",
      "0.30903810262680054\n"
     ]
    },
    {
     "name": "stderr",
     "output_type": "stream",
     "text": [
      "\n",
      "Iteration:  45%|███████████████████████████████                                      | 187/415 [02:35<03:10,  1.20it/s]\u001b[A"
     ]
    },
    {
     "name": "stdout",
     "output_type": "stream",
     "text": [
      "tensor(0.2515, device='cuda:0', grad_fn=<NllLossBackward>)\n",
      "0.25150924921035767\n"
     ]
    },
    {
     "name": "stderr",
     "output_type": "stream",
     "text": [
      "\n",
      "Iteration:  45%|███████████████████████████████▎                                     | 188/415 [02:36<03:08,  1.20it/s]\u001b[A"
     ]
    },
    {
     "name": "stdout",
     "output_type": "stream",
     "text": [
      "tensor(0.4952, device='cuda:0', grad_fn=<NllLossBackward>)\n",
      "0.49523505568504333\n"
     ]
    },
    {
     "name": "stderr",
     "output_type": "stream",
     "text": [
      "\n",
      "Iteration:  46%|███████████████████████████████▍                                     | 189/415 [02:36<03:07,  1.20it/s]\u001b[A"
     ]
    },
    {
     "name": "stdout",
     "output_type": "stream",
     "text": [
      "tensor(0.2357, device='cuda:0', grad_fn=<NllLossBackward>)\n",
      "0.23573428392410278\n"
     ]
    },
    {
     "name": "stderr",
     "output_type": "stream",
     "text": [
      "\n",
      "Iteration:  46%|███████████████████████████████▌                                     | 190/415 [02:37<03:12,  1.17it/s]\u001b[A"
     ]
    },
    {
     "name": "stdout",
     "output_type": "stream",
     "text": [
      "tensor(0.6111, device='cuda:0', grad_fn=<NllLossBackward>)\n",
      "0.6111029386520386\n"
     ]
    },
    {
     "name": "stderr",
     "output_type": "stream",
     "text": [
      "\n",
      "Iteration:  46%|███████████████████████████████▊                                     | 191/415 [02:38<03:07,  1.19it/s]\u001b[A"
     ]
    },
    {
     "name": "stdout",
     "output_type": "stream",
     "text": [
      "tensor(0.7829, device='cuda:0', grad_fn=<NllLossBackward>)\n",
      "0.7829331159591675\n"
     ]
    },
    {
     "name": "stderr",
     "output_type": "stream",
     "text": [
      "\n",
      "Iteration:  46%|███████████████████████████████▉                                     | 192/415 [02:39<03:15,  1.14it/s]\u001b[A"
     ]
    },
    {
     "name": "stdout",
     "output_type": "stream",
     "text": [
      "tensor(0.3466, device='cuda:0', grad_fn=<NllLossBackward>)\n",
      "0.3465796709060669\n"
     ]
    },
    {
     "name": "stderr",
     "output_type": "stream",
     "text": [
      "\n",
      "Iteration:  47%|████████████████████████████████                                     | 193/415 [02:40<03:10,  1.17it/s]\u001b[A"
     ]
    },
    {
     "name": "stdout",
     "output_type": "stream",
     "text": [
      "tensor(0.3652, device='cuda:0', grad_fn=<NllLossBackward>)\n",
      "0.3651818633079529\n"
     ]
    },
    {
     "name": "stderr",
     "output_type": "stream",
     "text": [
      "\n",
      "Iteration:  47%|████████████████████████████████▎                                    | 194/415 [02:41<03:10,  1.16it/s]\u001b[A"
     ]
    },
    {
     "name": "stdout",
     "output_type": "stream",
     "text": [
      "tensor(0.4077, device='cuda:0', grad_fn=<NllLossBackward>)\n",
      "0.4077034592628479\n"
     ]
    },
    {
     "name": "stderr",
     "output_type": "stream",
     "text": [
      "\n",
      "Iteration:  47%|████████████████████████████████▍                                    | 195/415 [02:42<03:06,  1.18it/s]\u001b[A"
     ]
    },
    {
     "name": "stdout",
     "output_type": "stream",
     "text": [
      "tensor(0.3376, device='cuda:0', grad_fn=<NllLossBackward>)\n",
      "0.3376079201698303\n"
     ]
    },
    {
     "name": "stderr",
     "output_type": "stream",
     "text": [
      "\n",
      "Iteration:  47%|████████████████████████████████▌                                    | 196/415 [02:43<03:09,  1.16it/s]\u001b[A"
     ]
    },
    {
     "name": "stdout",
     "output_type": "stream",
     "text": [
      "tensor(0.5774, device='cuda:0', grad_fn=<NllLossBackward>)\n",
      "0.5774309635162354\n"
     ]
    },
    {
     "name": "stderr",
     "output_type": "stream",
     "text": [
      "\n",
      "Iteration:  47%|████████████████████████████████▊                                    | 197/415 [02:43<03:08,  1.16it/s]\u001b[A"
     ]
    },
    {
     "name": "stdout",
     "output_type": "stream",
     "text": [
      "tensor(0.5203, device='cuda:0', grad_fn=<NllLossBackward>)\n",
      "0.5203242897987366\n"
     ]
    },
    {
     "name": "stderr",
     "output_type": "stream",
     "text": [
      "\n",
      "Iteration:  48%|████████████████████████████████▉                                    | 198/415 [02:44<03:05,  1.17it/s]\u001b[A"
     ]
    },
    {
     "name": "stdout",
     "output_type": "stream",
     "text": [
      "tensor(0.3784, device='cuda:0', grad_fn=<NllLossBackward>)\n",
      "0.37840670347213745\n"
     ]
    },
    {
     "name": "stderr",
     "output_type": "stream",
     "text": [
      "\n",
      "Iteration:  48%|█████████████████████████████████                                    | 199/415 [02:45<03:06,  1.16it/s]\u001b[A"
     ]
    },
    {
     "name": "stdout",
     "output_type": "stream",
     "text": [
      "tensor(0.3053, device='cuda:0', grad_fn=<NllLossBackward>)\n",
      "0.30533844232559204\n"
     ]
    },
    {
     "name": "stderr",
     "output_type": "stream",
     "text": [
      "\n",
      "Iteration:  48%|█████████████████████████████████▎                                   | 200/415 [02:46<03:01,  1.18it/s]\u001b[A"
     ]
    },
    {
     "name": "stdout",
     "output_type": "stream",
     "text": [
      "tensor(0.4265, device='cuda:0', grad_fn=<NllLossBackward>)\n",
      "0.4264920949935913\n"
     ]
    },
    {
     "name": "stderr",
     "output_type": "stream",
     "text": [
      "\n",
      "Iteration:  48%|█████████████████████████████████▍                                   | 201/415 [02:47<02:58,  1.20it/s]\u001b[A"
     ]
    },
    {
     "name": "stdout",
     "output_type": "stream",
     "text": [
      "tensor(0.2819, device='cuda:0', grad_fn=<NllLossBackward>)\n",
      "0.2819279134273529\n"
     ]
    },
    {
     "name": "stderr",
     "output_type": "stream",
     "text": [
      "\n",
      "Iteration:  49%|█████████████████████████████████▌                                   | 202/415 [02:48<02:57,  1.20it/s]\u001b[A"
     ]
    },
    {
     "name": "stdout",
     "output_type": "stream",
     "text": [
      "tensor(0.4238, device='cuda:0', grad_fn=<NllLossBackward>)\n",
      "0.42378461360931396\n"
     ]
    },
    {
     "name": "stderr",
     "output_type": "stream",
     "text": [
      "\n",
      "Iteration:  49%|█████████████████████████████████▊                                   | 203/415 [02:48<02:56,  1.20it/s]\u001b[A"
     ]
    },
    {
     "name": "stdout",
     "output_type": "stream",
     "text": [
      "tensor(0.3977, device='cuda:0', grad_fn=<NllLossBackward>)\n",
      "0.3976956009864807\n"
     ]
    },
    {
     "name": "stderr",
     "output_type": "stream",
     "text": [
      "\n",
      "Iteration:  49%|█████████████████████████████████▉                                   | 204/415 [02:49<02:55,  1.20it/s]\u001b[A"
     ]
    },
    {
     "name": "stdout",
     "output_type": "stream",
     "text": [
      "tensor(0.4808, device='cuda:0', grad_fn=<NllLossBackward>)\n",
      "0.48079848289489746\n"
     ]
    },
    {
     "name": "stderr",
     "output_type": "stream",
     "text": [
      "\n",
      "Iteration:  49%|██████████████████████████████████                                   | 205/415 [02:50<02:54,  1.21it/s]\u001b[A"
     ]
    },
    {
     "name": "stdout",
     "output_type": "stream",
     "text": [
      "tensor(0.3619, device='cuda:0', grad_fn=<NllLossBackward>)\n",
      "0.3618978261947632\n"
     ]
    },
    {
     "name": "stderr",
     "output_type": "stream",
     "text": [
      "\n",
      "Iteration:  50%|██████████████████████████████████▎                                  | 206/415 [02:51<02:52,  1.21it/s]\u001b[A"
     ]
    },
    {
     "name": "stdout",
     "output_type": "stream",
     "text": [
      "tensor(0.4823, device='cuda:0', grad_fn=<NllLossBackward>)\n",
      "0.4822882115840912\n"
     ]
    },
    {
     "name": "stderr",
     "output_type": "stream",
     "text": [
      "\n",
      "Iteration:  50%|██████████████████████████████████▍                                  | 207/415 [02:52<02:58,  1.16it/s]\u001b[A"
     ]
    },
    {
     "name": "stdout",
     "output_type": "stream",
     "text": [
      "tensor(0.3625, device='cuda:0', grad_fn=<NllLossBackward>)\n",
      "0.36251723766326904\n"
     ]
    },
    {
     "name": "stderr",
     "output_type": "stream",
     "text": [
      "\n",
      "Iteration:  50%|██████████████████████████████████▌                                  | 208/415 [02:53<02:56,  1.18it/s]\u001b[A"
     ]
    },
    {
     "name": "stdout",
     "output_type": "stream",
     "text": [
      "tensor(0.4394, device='cuda:0', grad_fn=<NllLossBackward>)\n",
      "0.4393690824508667\n"
     ]
    },
    {
     "name": "stderr",
     "output_type": "stream",
     "text": [
      "\n",
      "Iteration:  50%|██████████████████████████████████▋                                  | 209/415 [02:54<02:58,  1.15it/s]\u001b[A"
     ]
    },
    {
     "name": "stdout",
     "output_type": "stream",
     "text": [
      "tensor(0.4292, device='cuda:0', grad_fn=<NllLossBackward>)\n",
      "0.4292106628417969\n"
     ]
    },
    {
     "name": "stderr",
     "output_type": "stream",
     "text": [
      "\n",
      "Iteration:  51%|██████████████████████████████████▉                                  | 210/415 [02:54<02:55,  1.17it/s]\u001b[A"
     ]
    },
    {
     "name": "stdout",
     "output_type": "stream",
     "text": [
      "tensor(0.3834, device='cuda:0', grad_fn=<NllLossBackward>)\n",
      "0.38343346118927\n"
     ]
    },
    {
     "name": "stderr",
     "output_type": "stream",
     "text": [
      "\n",
      "Iteration:  51%|███████████████████████████████████                                  | 211/415 [02:55<02:52,  1.19it/s]\u001b[A"
     ]
    },
    {
     "name": "stdout",
     "output_type": "stream",
     "text": [
      "tensor(0.2951, device='cuda:0', grad_fn=<NllLossBackward>)\n",
      "0.29513663053512573\n"
     ]
    },
    {
     "name": "stderr",
     "output_type": "stream",
     "text": [
      "\n",
      "Iteration:  51%|███████████████████████████████████▏                                 | 212/415 [02:56<02:50,  1.19it/s]\u001b[A"
     ]
    },
    {
     "name": "stdout",
     "output_type": "stream",
     "text": [
      "tensor(0.4534, device='cuda:0', grad_fn=<NllLossBackward>)\n",
      "0.4533637464046478\n"
     ]
    },
    {
     "name": "stderr",
     "output_type": "stream",
     "text": [
      "\n",
      "Iteration:  51%|███████████████████████████████████▍                                 | 213/415 [02:57<02:47,  1.20it/s]\u001b[A"
     ]
    },
    {
     "name": "stdout",
     "output_type": "stream",
     "text": [
      "tensor(0.4105, device='cuda:0', grad_fn=<NllLossBackward>)\n",
      "0.41047176718711853\n"
     ]
    },
    {
     "name": "stderr",
     "output_type": "stream",
     "text": [
      "\n",
      "Iteration:  52%|███████████████████████████████████▌                                 | 214/415 [02:58<03:01,  1.11it/s]\u001b[A"
     ]
    },
    {
     "name": "stdout",
     "output_type": "stream",
     "text": [
      "tensor(0.3184, device='cuda:0', grad_fn=<NllLossBackward>)\n",
      "0.3183777332305908\n"
     ]
    },
    {
     "name": "stderr",
     "output_type": "stream",
     "text": [
      "\n",
      "Iteration:  52%|███████████████████████████████████▋                                 | 215/415 [02:59<02:56,  1.13it/s]\u001b[A"
     ]
    },
    {
     "name": "stdout",
     "output_type": "stream",
     "text": [
      "tensor(0.3018, device='cuda:0', grad_fn=<NllLossBackward>)\n",
      "0.30184295773506165\n"
     ]
    },
    {
     "name": "stderr",
     "output_type": "stream",
     "text": [
      "\n",
      "Iteration:  52%|███████████████████████████████████▉                                 | 216/415 [03:00<02:52,  1.15it/s]\u001b[A"
     ]
    },
    {
     "name": "stdout",
     "output_type": "stream",
     "text": [
      "tensor(0.5854, device='cuda:0', grad_fn=<NllLossBackward>)\n",
      "0.5854041576385498\n"
     ]
    },
    {
     "name": "stderr",
     "output_type": "stream",
     "text": [
      "\n",
      "Iteration:  52%|████████████████████████████████████                                 | 217/415 [03:00<02:49,  1.17it/s]\u001b[A"
     ]
    },
    {
     "name": "stdout",
     "output_type": "stream",
     "text": [
      "tensor(0.3134, device='cuda:0', grad_fn=<NllLossBackward>)\n",
      "0.3133509159088135\n"
     ]
    },
    {
     "name": "stderr",
     "output_type": "stream",
     "text": [
      "\n",
      "Iteration:  53%|████████████████████████████████████▏                                | 218/415 [03:01<02:49,  1.16it/s]\u001b[A"
     ]
    },
    {
     "name": "stdout",
     "output_type": "stream",
     "text": [
      "tensor(0.1890, device='cuda:0', grad_fn=<NllLossBackward>)\n",
      "0.18898436427116394\n"
     ]
    },
    {
     "name": "stderr",
     "output_type": "stream",
     "text": [
      "\n",
      "Iteration:  53%|████████████████████████████████████▍                                | 219/415 [03:02<02:44,  1.19it/s]\u001b[A"
     ]
    },
    {
     "name": "stdout",
     "output_type": "stream",
     "text": [
      "tensor(0.4823, device='cuda:0', grad_fn=<NllLossBackward>)\n",
      "0.482316792011261\n"
     ]
    },
    {
     "name": "stderr",
     "output_type": "stream",
     "text": [
      "\n",
      "Iteration:  53%|████████████████████████████████████▌                                | 220/415 [03:03<02:43,  1.19it/s]\u001b[A"
     ]
    },
    {
     "name": "stdout",
     "output_type": "stream",
     "text": [
      "tensor(0.3921, device='cuda:0', grad_fn=<NllLossBackward>)\n",
      "0.39208731055259705\n"
     ]
    },
    {
     "name": "stderr",
     "output_type": "stream",
     "text": [
      "\n",
      "Iteration:  53%|████████████████████████████████████▋                                | 221/415 [03:04<02:42,  1.19it/s]\u001b[A"
     ]
    },
    {
     "name": "stdout",
     "output_type": "stream",
     "text": [
      "tensor(0.4740, device='cuda:0', grad_fn=<NllLossBackward>)\n",
      "0.47395357489585876\n"
     ]
    },
    {
     "name": "stderr",
     "output_type": "stream",
     "text": [
      "\n",
      "Iteration:  53%|████████████████████████████████████▉                                | 222/415 [03:05<02:41,  1.20it/s]\u001b[A"
     ]
    },
    {
     "name": "stdout",
     "output_type": "stream",
     "text": [
      "tensor(0.4920, device='cuda:0', grad_fn=<NllLossBackward>)\n",
      "0.49199411273002625\n"
     ]
    },
    {
     "name": "stderr",
     "output_type": "stream",
     "text": [
      "\n",
      "Iteration:  54%|█████████████████████████████████████                                | 223/415 [03:05<02:38,  1.21it/s]\u001b[A"
     ]
    },
    {
     "name": "stdout",
     "output_type": "stream",
     "text": [
      "tensor(0.5075, device='cuda:0', grad_fn=<NllLossBackward>)\n",
      "0.5074628591537476\n"
     ]
    },
    {
     "name": "stderr",
     "output_type": "stream",
     "text": [
      "\n",
      "Iteration:  54%|█████████████████████████████████████▏                               | 224/415 [03:06<02:37,  1.21it/s]\u001b[A"
     ]
    },
    {
     "name": "stdout",
     "output_type": "stream",
     "text": [
      "tensor(0.2858, device='cuda:0', grad_fn=<NllLossBackward>)\n",
      "0.2857853174209595\n"
     ]
    },
    {
     "name": "stderr",
     "output_type": "stream",
     "text": [
      "\n",
      "Iteration:  54%|█████████████████████████████████████▍                               | 225/415 [03:07<02:36,  1.21it/s]\u001b[A"
     ]
    },
    {
     "name": "stdout",
     "output_type": "stream",
     "text": [
      "tensor(0.3065, device='cuda:0', grad_fn=<NllLossBackward>)\n",
      "0.30654847621917725\n"
     ]
    },
    {
     "name": "stderr",
     "output_type": "stream",
     "text": [
      "\n",
      "Iteration:  54%|█████████████████████████████████████▌                               | 226/415 [03:08<02:35,  1.22it/s]\u001b[A"
     ]
    },
    {
     "name": "stdout",
     "output_type": "stream",
     "text": [
      "tensor(0.2796, device='cuda:0', grad_fn=<NllLossBackward>)\n",
      "0.2795901596546173\n"
     ]
    },
    {
     "name": "stderr",
     "output_type": "stream",
     "text": [
      "\n",
      "Iteration:  55%|█████████████████████████████████████▋                               | 227/415 [03:09<02:35,  1.21it/s]\u001b[A"
     ]
    },
    {
     "name": "stdout",
     "output_type": "stream",
     "text": [
      "tensor(0.4244, device='cuda:0', grad_fn=<NllLossBackward>)\n",
      "0.4244157075881958\n"
     ]
    },
    {
     "name": "stderr",
     "output_type": "stream",
     "text": [
      "\n",
      "Iteration:  55%|█████████████████████████████████████▉                               | 228/415 [03:09<02:33,  1.22it/s]\u001b[A"
     ]
    },
    {
     "name": "stdout",
     "output_type": "stream",
     "text": [
      "tensor(0.5606, device='cuda:0', grad_fn=<NllLossBackward>)\n",
      "0.5606290698051453\n"
     ]
    },
    {
     "name": "stderr",
     "output_type": "stream",
     "text": [
      "\n",
      "Iteration:  55%|██████████████████████████████████████                               | 229/415 [03:10<02:32,  1.22it/s]\u001b[A"
     ]
    },
    {
     "name": "stdout",
     "output_type": "stream",
     "text": [
      "tensor(0.4387, device='cuda:0', grad_fn=<NllLossBackward>)\n",
      "0.4387202858924866\n"
     ]
    },
    {
     "name": "stderr",
     "output_type": "stream",
     "text": [
      "\n",
      "Iteration:  55%|██████████████████████████████████████▏                              | 230/415 [03:11<02:30,  1.23it/s]\u001b[A"
     ]
    },
    {
     "name": "stdout",
     "output_type": "stream",
     "text": [
      "tensor(0.3859, device='cuda:0', grad_fn=<NllLossBackward>)\n",
      "0.3859395980834961\n"
     ]
    },
    {
     "name": "stderr",
     "output_type": "stream",
     "text": [
      "\n",
      "Iteration:  56%|██████████████████████████████████████▍                              | 231/415 [03:12<02:32,  1.21it/s]\u001b[A"
     ]
    },
    {
     "name": "stdout",
     "output_type": "stream",
     "text": [
      "tensor(0.2676, device='cuda:0', grad_fn=<NllLossBackward>)\n",
      "0.26761212944984436\n"
     ]
    },
    {
     "name": "stderr",
     "output_type": "stream",
     "text": [
      "\n",
      "Iteration:  56%|██████████████████████████████████████▌                              | 232/415 [03:13<02:33,  1.20it/s]\u001b[A"
     ]
    },
    {
     "name": "stdout",
     "output_type": "stream",
     "text": [
      "tensor(0.3783, device='cuda:0', grad_fn=<NllLossBackward>)\n",
      "0.3782750368118286\n"
     ]
    },
    {
     "name": "stderr",
     "output_type": "stream",
     "text": [
      "\n",
      "Iteration:  56%|██████████████████████████████████████▋                              | 233/415 [03:14<02:30,  1.21it/s]\u001b[A"
     ]
    },
    {
     "name": "stdout",
     "output_type": "stream",
     "text": [
      "tensor(0.4071, device='cuda:0', grad_fn=<NllLossBackward>)\n",
      "0.407074898481369\n"
     ]
    },
    {
     "name": "stderr",
     "output_type": "stream",
     "text": [
      "\n",
      "Iteration:  56%|██████████████████████████████████████▉                              | 234/415 [03:15<02:36,  1.16it/s]\u001b[A"
     ]
    },
    {
     "name": "stdout",
     "output_type": "stream",
     "text": [
      "tensor(0.2822, device='cuda:0', grad_fn=<NllLossBackward>)\n",
      "0.2821846008300781\n"
     ]
    },
    {
     "name": "stderr",
     "output_type": "stream",
     "text": [
      "\n",
      "Iteration:  57%|███████████████████████████████████████                              | 235/415 [03:15<02:36,  1.15it/s]\u001b[A"
     ]
    },
    {
     "name": "stdout",
     "output_type": "stream",
     "text": [
      "tensor(0.4202, device='cuda:0', grad_fn=<NllLossBackward>)\n",
      "0.4201955795288086\n"
     ]
    },
    {
     "name": "stderr",
     "output_type": "stream",
     "text": [
      "\n",
      "Iteration:  57%|███████████████████████████████████████▏                             | 236/415 [03:16<02:36,  1.15it/s]\u001b[A"
     ]
    },
    {
     "name": "stdout",
     "output_type": "stream",
     "text": [
      "tensor(0.6181, device='cuda:0', grad_fn=<NllLossBackward>)\n",
      "0.6180548071861267\n"
     ]
    },
    {
     "name": "stderr",
     "output_type": "stream",
     "text": [
      "\n",
      "Iteration:  57%|███████████████████████████████████████▍                             | 237/415 [03:17<02:35,  1.15it/s]\u001b[A"
     ]
    },
    {
     "name": "stdout",
     "output_type": "stream",
     "text": [
      "tensor(0.5234, device='cuda:0', grad_fn=<NllLossBackward>)\n",
      "0.5234488844871521\n"
     ]
    },
    {
     "name": "stderr",
     "output_type": "stream",
     "text": [
      "\n",
      "Iteration:  57%|███████████████████████████████████████▌                             | 238/415 [03:18<02:32,  1.16it/s]\u001b[A"
     ]
    },
    {
     "name": "stdout",
     "output_type": "stream",
     "text": [
      "tensor(0.3139, device='cuda:0', grad_fn=<NllLossBackward>)\n",
      "0.31391558051109314\n"
     ]
    },
    {
     "name": "stderr",
     "output_type": "stream",
     "text": [
      "\n",
      "Iteration:  58%|███████████████████████████████████████▋                             | 239/415 [03:19<02:30,  1.17it/s]\u001b[A"
     ]
    },
    {
     "name": "stdout",
     "output_type": "stream",
     "text": [
      "tensor(0.3069, device='cuda:0', grad_fn=<NllLossBackward>)\n",
      "0.3069169819355011\n"
     ]
    },
    {
     "name": "stderr",
     "output_type": "stream",
     "text": [
      "\n",
      "Iteration:  58%|███████████████████████████████████████▉                             | 240/415 [03:20<02:32,  1.15it/s]\u001b[A"
     ]
    },
    {
     "name": "stdout",
     "output_type": "stream",
     "text": [
      "tensor(0.3034, device='cuda:0', grad_fn=<NllLossBackward>)\n",
      "0.30335545539855957\n"
     ]
    },
    {
     "name": "stderr",
     "output_type": "stream",
     "text": [
      "\n",
      "Iteration:  58%|████████████████████████████████████████                             | 241/415 [03:21<02:29,  1.16it/s]\u001b[A"
     ]
    },
    {
     "name": "stdout",
     "output_type": "stream",
     "text": [
      "tensor(0.4756, device='cuda:0', grad_fn=<NllLossBackward>)\n",
      "0.47564035654067993\n"
     ]
    },
    {
     "name": "stderr",
     "output_type": "stream",
     "text": [
      "\n",
      "Iteration:  58%|████████████████████████████████████████▏                            | 242/415 [03:21<02:28,  1.17it/s]\u001b[A"
     ]
    },
    {
     "name": "stdout",
     "output_type": "stream",
     "text": [
      "tensor(0.4009, device='cuda:0', grad_fn=<NllLossBackward>)\n",
      "0.4009309411048889\n"
     ]
    },
    {
     "name": "stderr",
     "output_type": "stream",
     "text": [
      "\n",
      "Iteration:  59%|████████████████████████████████████████▍                            | 243/415 [03:23<02:40,  1.07it/s]\u001b[A"
     ]
    },
    {
     "name": "stdout",
     "output_type": "stream",
     "text": [
      "tensor(0.3141, device='cuda:0', grad_fn=<NllLossBackward>)\n",
      "0.3140812814235687\n"
     ]
    },
    {
     "name": "stderr",
     "output_type": "stream",
     "text": [
      "\n",
      "Iteration:  59%|████████████████████████████████████████▌                            | 244/415 [03:23<02:32,  1.12it/s]\u001b[A"
     ]
    },
    {
     "name": "stdout",
     "output_type": "stream",
     "text": [
      "tensor(0.4427, device='cuda:0', grad_fn=<NllLossBackward>)\n",
      "0.44265949726104736\n"
     ]
    },
    {
     "name": "stderr",
     "output_type": "stream",
     "text": [
      "\n",
      "Iteration:  59%|████████████████████████████████████████▋                            | 245/415 [03:24<02:27,  1.15it/s]\u001b[A"
     ]
    },
    {
     "name": "stdout",
     "output_type": "stream",
     "text": [
      "tensor(0.3245, device='cuda:0', grad_fn=<NllLossBackward>)\n",
      "0.32450270652770996\n"
     ]
    },
    {
     "name": "stderr",
     "output_type": "stream",
     "text": [
      "\n",
      "Iteration:  59%|████████████████████████████████████████▉                            | 246/415 [03:25<02:31,  1.11it/s]\u001b[A"
     ]
    },
    {
     "name": "stdout",
     "output_type": "stream",
     "text": [
      "tensor(0.5537, device='cuda:0', grad_fn=<NllLossBackward>)\n",
      "0.5536962747573853\n"
     ]
    },
    {
     "name": "stderr",
     "output_type": "stream",
     "text": [
      "\n",
      "Iteration:  60%|█████████████████████████████████████████                            | 247/415 [03:26<02:38,  1.06it/s]\u001b[A"
     ]
    },
    {
     "name": "stdout",
     "output_type": "stream",
     "text": [
      "tensor(0.5477, device='cuda:0', grad_fn=<NllLossBackward>)\n",
      "0.5476783514022827\n"
     ]
    },
    {
     "name": "stderr",
     "output_type": "stream",
     "text": [
      "\n",
      "Iteration:  60%|█████████████████████████████████████████▏                           | 248/415 [03:27<02:32,  1.09it/s]\u001b[A"
     ]
    },
    {
     "name": "stdout",
     "output_type": "stream",
     "text": [
      "tensor(0.3720, device='cuda:0', grad_fn=<NllLossBackward>)\n",
      "0.3720109462738037\n"
     ]
    },
    {
     "name": "stderr",
     "output_type": "stream",
     "text": [
      "\n",
      "Iteration:  60%|█████████████████████████████████████████▍                           | 249/415 [03:28<02:30,  1.11it/s]\u001b[A"
     ]
    },
    {
     "name": "stdout",
     "output_type": "stream",
     "text": [
      "tensor(0.3246, device='cuda:0', grad_fn=<NllLossBackward>)\n",
      "0.3246017396450043\n"
     ]
    },
    {
     "name": "stderr",
     "output_type": "stream",
     "text": [
      "\n",
      "Iteration:  60%|█████████████████████████████████████████▌                           | 250/415 [03:29<02:24,  1.14it/s]\u001b[A"
     ]
    },
    {
     "name": "stdout",
     "output_type": "stream",
     "text": [
      "tensor(0.3331, device='cuda:0', grad_fn=<NllLossBackward>)\n",
      "0.33314263820648193\n"
     ]
    },
    {
     "name": "stderr",
     "output_type": "stream",
     "text": [
      "\n",
      "Iteration:  60%|█████████████████████████████████████████▋                           | 251/415 [03:30<02:20,  1.17it/s]\u001b[A"
     ]
    },
    {
     "name": "stdout",
     "output_type": "stream",
     "text": [
      "tensor(0.2892, device='cuda:0', grad_fn=<NllLossBackward>)\n",
      "0.2891989052295685\n"
     ]
    },
    {
     "name": "stderr",
     "output_type": "stream",
     "text": [
      "\n",
      "Iteration:  61%|█████████████████████████████████████████▉                           | 252/415 [03:30<02:18,  1.18it/s]\u001b[A"
     ]
    },
    {
     "name": "stdout",
     "output_type": "stream",
     "text": [
      "tensor(0.3843, device='cuda:0', grad_fn=<NllLossBackward>)\n",
      "0.3843234181404114\n"
     ]
    },
    {
     "name": "stderr",
     "output_type": "stream",
     "text": [
      "\n",
      "Iteration:  61%|██████████████████████████████████████████                           | 253/415 [03:31<02:15,  1.19it/s]\u001b[A"
     ]
    },
    {
     "name": "stdout",
     "output_type": "stream",
     "text": [
      "tensor(0.6093, device='cuda:0', grad_fn=<NllLossBackward>)\n",
      "0.6093063354492188\n"
     ]
    },
    {
     "name": "stderr",
     "output_type": "stream",
     "text": [
      "\n",
      "Iteration:  61%|██████████████████████████████████████████▏                          | 254/415 [03:32<02:15,  1.18it/s]\u001b[A"
     ]
    },
    {
     "name": "stdout",
     "output_type": "stream",
     "text": [
      "tensor(0.2544, device='cuda:0', grad_fn=<NllLossBackward>)\n",
      "0.2544494569301605\n"
     ]
    },
    {
     "name": "stderr",
     "output_type": "stream",
     "text": [
      "\n",
      "Iteration:  61%|██████████████████████████████████████████▍                          | 255/415 [03:33<02:14,  1.19it/s]\u001b[A"
     ]
    },
    {
     "name": "stdout",
     "output_type": "stream",
     "text": [
      "tensor(0.2346, device='cuda:0', grad_fn=<NllLossBackward>)\n",
      "0.23455749452114105\n"
     ]
    },
    {
     "name": "stderr",
     "output_type": "stream",
     "text": [
      "\n",
      "Iteration:  62%|██████████████████████████████████████████▌                          | 256/415 [03:34<02:13,  1.19it/s]\u001b[A"
     ]
    },
    {
     "name": "stdout",
     "output_type": "stream",
     "text": [
      "tensor(0.2842, device='cuda:0', grad_fn=<NllLossBackward>)\n",
      "0.28418490290641785\n"
     ]
    },
    {
     "name": "stderr",
     "output_type": "stream",
     "text": [
      "\n",
      "Iteration:  62%|██████████████████████████████████████████▋                          | 257/415 [03:35<02:15,  1.16it/s]\u001b[A"
     ]
    },
    {
     "name": "stdout",
     "output_type": "stream",
     "text": [
      "tensor(0.4265, device='cuda:0', grad_fn=<NllLossBackward>)\n",
      "0.4264891445636749\n"
     ]
    },
    {
     "name": "stderr",
     "output_type": "stream",
     "text": [
      "\n",
      "Iteration:  62%|██████████████████████████████████████████▉                          | 258/415 [03:35<02:13,  1.18it/s]\u001b[A"
     ]
    },
    {
     "name": "stdout",
     "output_type": "stream",
     "text": [
      "tensor(0.5257, device='cuda:0', grad_fn=<NllLossBackward>)\n",
      "0.5256670713424683\n"
     ]
    },
    {
     "name": "stderr",
     "output_type": "stream",
     "text": [
      "\n",
      "Iteration:  62%|███████████████████████████████████████████                          | 259/415 [03:36<02:14,  1.16it/s]\u001b[A"
     ]
    },
    {
     "name": "stdout",
     "output_type": "stream",
     "text": [
      "tensor(0.2971, device='cuda:0', grad_fn=<NllLossBackward>)\n",
      "0.2971484959125519\n"
     ]
    },
    {
     "name": "stderr",
     "output_type": "stream",
     "text": [
      "\n",
      "Iteration:  63%|███████████████████████████████████████████▏                         | 260/415 [03:37<02:16,  1.13it/s]\u001b[A"
     ]
    },
    {
     "name": "stdout",
     "output_type": "stream",
     "text": [
      "tensor(0.4628, device='cuda:0', grad_fn=<NllLossBackward>)\n",
      "0.46276167035102844\n"
     ]
    },
    {
     "name": "stderr",
     "output_type": "stream",
     "text": [
      "\n",
      "Iteration:  63%|███████████████████████████████████████████▍                         | 261/415 [03:38<02:14,  1.15it/s]\u001b[A"
     ]
    },
    {
     "name": "stdout",
     "output_type": "stream",
     "text": [
      "tensor(0.3263, device='cuda:0', grad_fn=<NllLossBackward>)\n",
      "0.32630467414855957\n"
     ]
    },
    {
     "name": "stderr",
     "output_type": "stream",
     "text": [
      "\n",
      "Iteration:  63%|███████████████████████████████████████████▌                         | 262/415 [03:39<02:11,  1.17it/s]\u001b[A"
     ]
    },
    {
     "name": "stdout",
     "output_type": "stream",
     "text": [
      "tensor(0.4714, device='cuda:0', grad_fn=<NllLossBackward>)\n",
      "0.4713519513607025\n"
     ]
    },
    {
     "name": "stderr",
     "output_type": "stream",
     "text": [
      "\n",
      "Iteration:  63%|███████████████████████████████████████████▋                         | 263/415 [03:40<02:09,  1.18it/s]\u001b[A"
     ]
    },
    {
     "name": "stdout",
     "output_type": "stream",
     "text": [
      "tensor(0.2837, device='cuda:0', grad_fn=<NllLossBackward>)\n",
      "0.2837403416633606\n"
     ]
    },
    {
     "name": "stderr",
     "output_type": "stream",
     "text": [
      "\n",
      "Iteration:  64%|███████████████████████████████████████████▉                         | 264/415 [03:41<02:06,  1.19it/s]\u001b[A"
     ]
    },
    {
     "name": "stdout",
     "output_type": "stream",
     "text": [
      "tensor(0.2463, device='cuda:0', grad_fn=<NllLossBackward>)\n",
      "0.24628767371177673\n"
     ]
    },
    {
     "name": "stderr",
     "output_type": "stream",
     "text": [
      "\n",
      "Iteration:  64%|████████████████████████████████████████████                         | 265/415 [03:41<02:06,  1.18it/s]\u001b[A"
     ]
    },
    {
     "name": "stdout",
     "output_type": "stream",
     "text": [
      "tensor(0.3165, device='cuda:0', grad_fn=<NllLossBackward>)\n",
      "0.3164905309677124\n"
     ]
    },
    {
     "name": "stderr",
     "output_type": "stream",
     "text": [
      "\n",
      "Iteration:  64%|████████████████████████████████████████████▏                        | 266/415 [03:42<02:06,  1.18it/s]\u001b[A"
     ]
    },
    {
     "name": "stdout",
     "output_type": "stream",
     "text": [
      "tensor(0.3443, device='cuda:0', grad_fn=<NllLossBackward>)\n",
      "0.34433290362358093\n"
     ]
    },
    {
     "name": "stderr",
     "output_type": "stream",
     "text": [
      "\n",
      "Iteration:  64%|████████████████████████████████████████████▍                        | 267/415 [03:43<02:04,  1.19it/s]\u001b[A"
     ]
    },
    {
     "name": "stdout",
     "output_type": "stream",
     "text": [
      "tensor(0.4237, device='cuda:0', grad_fn=<NllLossBackward>)\n",
      "0.4237082302570343\n"
     ]
    },
    {
     "name": "stderr",
     "output_type": "stream",
     "text": [
      "\n",
      "Iteration:  65%|████████████████████████████████████████████▌                        | 268/415 [03:44<02:04,  1.18it/s]\u001b[A"
     ]
    },
    {
     "name": "stdout",
     "output_type": "stream",
     "text": [
      "tensor(0.4702, device='cuda:0', grad_fn=<NllLossBackward>)\n",
      "0.47021159529685974\n"
     ]
    },
    {
     "name": "stderr",
     "output_type": "stream",
     "text": [
      "\n",
      "Iteration:  65%|████████████████████████████████████████████▋                        | 269/415 [03:45<02:10,  1.12it/s]\u001b[A"
     ]
    },
    {
     "name": "stdout",
     "output_type": "stream",
     "text": [
      "tensor(0.2445, device='cuda:0', grad_fn=<NllLossBackward>)\n",
      "0.24446949362754822\n"
     ]
    },
    {
     "name": "stderr",
     "output_type": "stream",
     "text": [
      "\n",
      "Iteration:  65%|████████████████████████████████████████████▉                        | 270/415 [03:46<02:05,  1.15it/s]\u001b[A"
     ]
    },
    {
     "name": "stdout",
     "output_type": "stream",
     "text": [
      "tensor(0.3692, device='cuda:0', grad_fn=<NllLossBackward>)\n",
      "0.36924582719802856\n"
     ]
    },
    {
     "name": "stderr",
     "output_type": "stream",
     "text": [
      "\n",
      "Iteration:  65%|█████████████████████████████████████████████                        | 271/415 [03:47<02:06,  1.14it/s]\u001b[A"
     ]
    },
    {
     "name": "stdout",
     "output_type": "stream",
     "text": [
      "tensor(0.2237, device='cuda:0', grad_fn=<NllLossBackward>)\n",
      "0.22373954951763153\n"
     ]
    },
    {
     "name": "stderr",
     "output_type": "stream",
     "text": [
      "\n",
      "Iteration:  66%|█████████████████████████████████████████████▏                       | 272/415 [03:48<02:03,  1.16it/s]\u001b[A"
     ]
    },
    {
     "name": "stdout",
     "output_type": "stream",
     "text": [
      "tensor(0.3598, device='cuda:0', grad_fn=<NllLossBackward>)\n",
      "0.3598160743713379\n"
     ]
    },
    {
     "name": "stderr",
     "output_type": "stream",
     "text": [
      "\n",
      "Iteration:  66%|█████████████████████████████████████████████▍                       | 273/415 [03:48<02:00,  1.18it/s]\u001b[A"
     ]
    },
    {
     "name": "stdout",
     "output_type": "stream",
     "text": [
      "tensor(0.2454, device='cuda:0', grad_fn=<NllLossBackward>)\n",
      "0.24535995721817017\n"
     ]
    },
    {
     "name": "stderr",
     "output_type": "stream",
     "text": [
      "\n",
      "Iteration:  66%|█████████████████████████████████████████████▌                       | 274/415 [03:49<02:00,  1.17it/s]\u001b[A"
     ]
    },
    {
     "name": "stdout",
     "output_type": "stream",
     "text": [
      "tensor(0.2824, device='cuda:0', grad_fn=<NllLossBackward>)\n",
      "0.2823847234249115\n"
     ]
    },
    {
     "name": "stderr",
     "output_type": "stream",
     "text": [
      "\n",
      "Iteration:  66%|█████████████████████████████████████████████▋                       | 275/415 [03:50<01:56,  1.20it/s]\u001b[A"
     ]
    },
    {
     "name": "stdout",
     "output_type": "stream",
     "text": [
      "tensor(0.2677, device='cuda:0', grad_fn=<NllLossBackward>)\n",
      "0.26774194836616516\n"
     ]
    },
    {
     "name": "stderr",
     "output_type": "stream",
     "text": [
      "\n",
      "Iteration:  67%|█████████████████████████████████████████████▉                       | 276/415 [03:51<01:55,  1.21it/s]\u001b[A"
     ]
    },
    {
     "name": "stdout",
     "output_type": "stream",
     "text": [
      "tensor(0.2859, device='cuda:0', grad_fn=<NllLossBackward>)\n",
      "0.2858509421348572\n"
     ]
    },
    {
     "name": "stderr",
     "output_type": "stream",
     "text": [
      "\n",
      "Iteration:  67%|██████████████████████████████████████████████                       | 277/415 [03:52<01:56,  1.19it/s]\u001b[A"
     ]
    },
    {
     "name": "stdout",
     "output_type": "stream",
     "text": [
      "tensor(0.3524, device='cuda:0', grad_fn=<NllLossBackward>)\n",
      "0.35240206122398376\n"
     ]
    },
    {
     "name": "stderr",
     "output_type": "stream",
     "text": [
      "\n",
      "Iteration:  67%|██████████████████████████████████████████████▏                      | 278/415 [03:53<01:55,  1.19it/s]\u001b[A"
     ]
    },
    {
     "name": "stdout",
     "output_type": "stream",
     "text": [
      "tensor(0.4035, device='cuda:0', grad_fn=<NllLossBackward>)\n",
      "0.4034988284111023\n"
     ]
    },
    {
     "name": "stderr",
     "output_type": "stream",
     "text": [
      "\n",
      "Iteration:  67%|██████████████████████████████████████████████▍                      | 279/415 [03:53<01:53,  1.20it/s]\u001b[A"
     ]
    },
    {
     "name": "stdout",
     "output_type": "stream",
     "text": [
      "tensor(0.5711, device='cuda:0', grad_fn=<NllLossBackward>)\n",
      "0.5711309909820557\n"
     ]
    },
    {
     "name": "stderr",
     "output_type": "stream",
     "text": [
      "\n",
      "Iteration:  67%|██████████████████████████████████████████████▌                      | 280/415 [03:54<01:57,  1.15it/s]\u001b[A"
     ]
    },
    {
     "name": "stdout",
     "output_type": "stream",
     "text": [
      "tensor(0.5067, device='cuda:0', grad_fn=<NllLossBackward>)\n",
      "0.506722092628479\n"
     ]
    },
    {
     "name": "stderr",
     "output_type": "stream",
     "text": [
      "\n",
      "Iteration:  68%|██████████████████████████████████████████████▋                      | 281/415 [03:55<01:54,  1.17it/s]\u001b[A"
     ]
    },
    {
     "name": "stdout",
     "output_type": "stream",
     "text": [
      "tensor(0.3454, device='cuda:0', grad_fn=<NllLossBackward>)\n",
      "0.3454150855541229\n"
     ]
    },
    {
     "name": "stderr",
     "output_type": "stream",
     "text": [
      "\n",
      "Iteration:  68%|██████████████████████████████████████████████▉                      | 282/415 [03:56<01:52,  1.18it/s]\u001b[A"
     ]
    },
    {
     "name": "stdout",
     "output_type": "stream",
     "text": [
      "tensor(0.5552, device='cuda:0', grad_fn=<NllLossBackward>)\n",
      "0.5552186965942383\n"
     ]
    },
    {
     "name": "stderr",
     "output_type": "stream",
     "text": [
      "\n",
      "Iteration:  68%|███████████████████████████████████████████████                      | 283/415 [03:57<01:51,  1.19it/s]\u001b[A"
     ]
    },
    {
     "name": "stdout",
     "output_type": "stream",
     "text": [
      "tensor(0.4002, device='cuda:0', grad_fn=<NllLossBackward>)\n",
      "0.40023767948150635\n"
     ]
    },
    {
     "name": "stderr",
     "output_type": "stream",
     "text": [
      "\n",
      "Iteration:  68%|███████████████████████████████████████████████▏                     | 284/415 [03:58<01:49,  1.19it/s]\u001b[A"
     ]
    },
    {
     "name": "stdout",
     "output_type": "stream",
     "text": [
      "tensor(0.3402, device='cuda:0', grad_fn=<NllLossBackward>)\n",
      "0.34019550681114197\n"
     ]
    },
    {
     "name": "stderr",
     "output_type": "stream",
     "text": [
      "\n",
      "Iteration:  69%|███████████████████████████████████████████████▍                     | 285/415 [03:58<01:48,  1.20it/s]\u001b[A"
     ]
    },
    {
     "name": "stdout",
     "output_type": "stream",
     "text": [
      "tensor(0.4371, device='cuda:0', grad_fn=<NllLossBackward>)\n",
      "0.4371284544467926\n"
     ]
    },
    {
     "name": "stderr",
     "output_type": "stream",
     "text": [
      "\n",
      "Iteration:  69%|███████████████████████████████████████████████▌                     | 286/415 [03:59<01:48,  1.19it/s]\u001b[A"
     ]
    },
    {
     "name": "stdout",
     "output_type": "stream",
     "text": [
      "tensor(0.2732, device='cuda:0', grad_fn=<NllLossBackward>)\n",
      "0.27320533990859985\n"
     ]
    },
    {
     "name": "stderr",
     "output_type": "stream",
     "text": [
      "\n",
      "Iteration:  69%|███████████████████████████████████████████████▋                     | 287/415 [04:00<01:45,  1.21it/s]\u001b[A"
     ]
    },
    {
     "name": "stdout",
     "output_type": "stream",
     "text": [
      "tensor(0.3268, device='cuda:0', grad_fn=<NllLossBackward>)\n",
      "0.32683879137039185\n"
     ]
    },
    {
     "name": "stderr",
     "output_type": "stream",
     "text": [
      "\n",
      "Iteration:  69%|███████████████████████████████████████████████▉                     | 288/415 [04:01<01:46,  1.19it/s]\u001b[A"
     ]
    },
    {
     "name": "stdout",
     "output_type": "stream",
     "text": [
      "tensor(0.3033, device='cuda:0', grad_fn=<NllLossBackward>)\n",
      "0.30331382155418396\n"
     ]
    },
    {
     "name": "stderr",
     "output_type": "stream",
     "text": [
      "\n",
      "Iteration:  70%|████████████████████████████████████████████████                     | 289/415 [04:02<01:46,  1.19it/s]\u001b[A"
     ]
    },
    {
     "name": "stdout",
     "output_type": "stream",
     "text": [
      "tensor(0.5050, device='cuda:0', grad_fn=<NllLossBackward>)\n",
      "0.504986584186554\n"
     ]
    },
    {
     "name": "stderr",
     "output_type": "stream",
     "text": [
      "\n",
      "Iteration:  70%|████████████████████████████████████████████████▏                    | 290/415 [04:03<01:46,  1.17it/s]\u001b[A"
     ]
    },
    {
     "name": "stdout",
     "output_type": "stream",
     "text": [
      "tensor(0.2755, device='cuda:0', grad_fn=<NllLossBackward>)\n",
      "0.2755358815193176\n"
     ]
    },
    {
     "name": "stderr",
     "output_type": "stream",
     "text": [
      "\n",
      "Iteration:  70%|████████████████████████████████████████████████▍                    | 291/415 [04:04<01:44,  1.18it/s]\u001b[A"
     ]
    },
    {
     "name": "stdout",
     "output_type": "stream",
     "text": [
      "tensor(0.4222, device='cuda:0', grad_fn=<NllLossBackward>)\n",
      "0.4222257435321808\n"
     ]
    },
    {
     "name": "stderr",
     "output_type": "stream",
     "text": [
      "\n",
      "Iteration:  70%|████████████████████████████████████████████████▌                    | 292/415 [04:04<01:46,  1.16it/s]\u001b[A"
     ]
    },
    {
     "name": "stdout",
     "output_type": "stream",
     "text": [
      "tensor(0.3065, device='cuda:0', grad_fn=<NllLossBackward>)\n",
      "0.3065052330493927\n"
     ]
    },
    {
     "name": "stderr",
     "output_type": "stream",
     "text": [
      "\n",
      "Iteration:  71%|████████████████████████████████████████████████▋                    | 293/415 [04:05<01:44,  1.17it/s]\u001b[A"
     ]
    },
    {
     "name": "stdout",
     "output_type": "stream",
     "text": [
      "tensor(0.3779, device='cuda:0', grad_fn=<NllLossBackward>)\n",
      "0.37786734104156494\n"
     ]
    },
    {
     "name": "stderr",
     "output_type": "stream",
     "text": [
      "\n",
      "Iteration:  71%|████████████████████████████████████████████████▉                    | 294/415 [04:06<01:42,  1.18it/s]\u001b[A"
     ]
    },
    {
     "name": "stdout",
     "output_type": "stream",
     "text": [
      "tensor(0.2702, device='cuda:0', grad_fn=<NllLossBackward>)\n",
      "0.27016523480415344\n"
     ]
    },
    {
     "name": "stderr",
     "output_type": "stream",
     "text": [
      "\n",
      "Iteration:  71%|█████████████████████████████████████████████████                    | 295/415 [04:07<01:42,  1.17it/s]\u001b[A"
     ]
    },
    {
     "name": "stdout",
     "output_type": "stream",
     "text": [
      "tensor(0.2368, device='cuda:0', grad_fn=<NllLossBackward>)\n",
      "0.23676520586013794\n"
     ]
    },
    {
     "name": "stderr",
     "output_type": "stream",
     "text": [
      "\n",
      "Iteration:  71%|█████████████████████████████████████████████████▏                   | 296/415 [04:08<01:42,  1.16it/s]\u001b[A"
     ]
    },
    {
     "name": "stdout",
     "output_type": "stream",
     "text": [
      "tensor(0.5036, device='cuda:0', grad_fn=<NllLossBackward>)\n",
      "0.5036329030990601\n"
     ]
    },
    {
     "name": "stderr",
     "output_type": "stream",
     "text": [
      "\n",
      "Iteration:  72%|█████████████████████████████████████████████████▍                   | 297/415 [04:09<01:39,  1.18it/s]\u001b[A"
     ]
    },
    {
     "name": "stdout",
     "output_type": "stream",
     "text": [
      "tensor(0.2920, device='cuda:0', grad_fn=<NllLossBackward>)\n",
      "0.2920457422733307\n"
     ]
    },
    {
     "name": "stderr",
     "output_type": "stream",
     "text": [
      "\n",
      "Iteration:  72%|█████████████████████████████████████████████████▌                   | 298/415 [04:09<01:38,  1.19it/s]\u001b[A"
     ]
    },
    {
     "name": "stdout",
     "output_type": "stream",
     "text": [
      "tensor(0.2951, device='cuda:0', grad_fn=<NllLossBackward>)\n",
      "0.2951348125934601\n"
     ]
    },
    {
     "name": "stderr",
     "output_type": "stream",
     "text": [
      "\n",
      "Iteration:  72%|█████████████████████████████████████████████████▋                   | 299/415 [04:10<01:38,  1.18it/s]\u001b[A"
     ]
    },
    {
     "name": "stdout",
     "output_type": "stream",
     "text": [
      "tensor(0.4710, device='cuda:0', grad_fn=<NllLossBackward>)\n",
      "0.4710391163825989\n"
     ]
    },
    {
     "name": "stderr",
     "output_type": "stream",
     "text": [
      "\n",
      "Iteration:  72%|█████████████████████████████████████████████████▉                   | 300/415 [04:11<01:37,  1.18it/s]\u001b[A"
     ]
    },
    {
     "name": "stdout",
     "output_type": "stream",
     "text": [
      "tensor(0.2835, device='cuda:0', grad_fn=<NllLossBackward>)\n",
      "0.283499538898468\n"
     ]
    },
    {
     "name": "stderr",
     "output_type": "stream",
     "text": [
      "\n",
      "Iteration:  73%|██████████████████████████████████████████████████                   | 301/415 [04:12<01:40,  1.13it/s]\u001b[A"
     ]
    },
    {
     "name": "stdout",
     "output_type": "stream",
     "text": [
      "tensor(0.3150, device='cuda:0', grad_fn=<NllLossBackward>)\n",
      "0.3150009512901306\n"
     ]
    },
    {
     "name": "stderr",
     "output_type": "stream",
     "text": [
      "\n",
      "Iteration:  73%|██████████████████████████████████████████████████▏                  | 302/415 [04:13<01:37,  1.16it/s]\u001b[A"
     ]
    },
    {
     "name": "stdout",
     "output_type": "stream",
     "text": [
      "tensor(0.2409, device='cuda:0', grad_fn=<NllLossBackward>)\n",
      "0.24085991084575653\n"
     ]
    },
    {
     "name": "stderr",
     "output_type": "stream",
     "text": [
      "\n",
      "Iteration:  73%|██████████████████████████████████████████████████▍                  | 303/415 [04:14<01:35,  1.17it/s]\u001b[A"
     ]
    },
    {
     "name": "stdout",
     "output_type": "stream",
     "text": [
      "tensor(0.3304, device='cuda:0', grad_fn=<NllLossBackward>)\n",
      "0.3304339349269867\n"
     ]
    },
    {
     "name": "stderr",
     "output_type": "stream",
     "text": [
      "\n",
      "Iteration:  73%|██████████████████████████████████████████████████▌                  | 304/415 [04:15<01:33,  1.18it/s]\u001b[A"
     ]
    },
    {
     "name": "stdout",
     "output_type": "stream",
     "text": [
      "tensor(0.2446, device='cuda:0', grad_fn=<NllLossBackward>)\n",
      "0.2446010410785675\n"
     ]
    },
    {
     "name": "stderr",
     "output_type": "stream",
     "text": [
      "\n",
      "Iteration:  73%|██████████████████████████████████████████████████▋                  | 305/415 [04:15<01:32,  1.19it/s]\u001b[A"
     ]
    },
    {
     "name": "stdout",
     "output_type": "stream",
     "text": [
      "tensor(0.4189, device='cuda:0', grad_fn=<NllLossBackward>)\n",
      "0.4189082086086273\n"
     ]
    },
    {
     "name": "stderr",
     "output_type": "stream",
     "text": [
      "\n",
      "Iteration:  74%|██████████████████████████████████████████████████▉                  | 306/415 [04:16<01:30,  1.20it/s]\u001b[A"
     ]
    },
    {
     "name": "stdout",
     "output_type": "stream",
     "text": [
      "tensor(0.1983, device='cuda:0', grad_fn=<NllLossBackward>)\n",
      "0.19832368195056915\n"
     ]
    },
    {
     "name": "stderr",
     "output_type": "stream",
     "text": [
      "\n",
      "Iteration:  74%|███████████████████████████████████████████████████                  | 307/415 [04:17<01:29,  1.20it/s]\u001b[A"
     ]
    },
    {
     "name": "stdout",
     "output_type": "stream",
     "text": [
      "tensor(0.3558, device='cuda:0', grad_fn=<NllLossBackward>)\n",
      "0.355759859085083\n"
     ]
    },
    {
     "name": "stderr",
     "output_type": "stream",
     "text": [
      "\n",
      "Iteration:  74%|███████████████████████████████████████████████████▏                 | 308/415 [04:18<01:28,  1.21it/s]\u001b[A"
     ]
    },
    {
     "name": "stdout",
     "output_type": "stream",
     "text": [
      "tensor(0.4589, device='cuda:0', grad_fn=<NllLossBackward>)\n",
      "0.4588809609413147\n"
     ]
    },
    {
     "name": "stderr",
     "output_type": "stream",
     "text": [
      "\n",
      "Iteration:  74%|███████████████████████████████████████████████████▍                 | 309/415 [04:19<01:27,  1.21it/s]\u001b[A"
     ]
    },
    {
     "name": "stdout",
     "output_type": "stream",
     "text": [
      "tensor(0.3597, device='cuda:0', grad_fn=<NllLossBackward>)\n",
      "0.35965627431869507\n"
     ]
    },
    {
     "name": "stderr",
     "output_type": "stream",
     "text": [
      "\n",
      "Iteration:  75%|███████████████████████████████████████████████████▌                 | 310/415 [04:20<01:26,  1.21it/s]\u001b[A"
     ]
    },
    {
     "name": "stdout",
     "output_type": "stream",
     "text": [
      "tensor(0.2057, device='cuda:0', grad_fn=<NllLossBackward>)\n",
      "0.205664724111557\n"
     ]
    },
    {
     "name": "stderr",
     "output_type": "stream",
     "text": [
      "\n",
      "Iteration:  75%|███████████████████████████████████████████████████▋                 | 311/415 [04:20<01:26,  1.20it/s]\u001b[A"
     ]
    },
    {
     "name": "stdout",
     "output_type": "stream",
     "text": [
      "tensor(0.3994, device='cuda:0', grad_fn=<NllLossBackward>)\n",
      "0.3993892967700958\n"
     ]
    },
    {
     "name": "stderr",
     "output_type": "stream",
     "text": [
      "\n",
      "Iteration:  75%|███████████████████████████████████████████████████▊                 | 312/415 [04:21<01:30,  1.14it/s]\u001b[A"
     ]
    },
    {
     "name": "stdout",
     "output_type": "stream",
     "text": [
      "tensor(0.1822, device='cuda:0', grad_fn=<NllLossBackward>)\n",
      "0.18217161297798157\n"
     ]
    },
    {
     "name": "stderr",
     "output_type": "stream",
     "text": [
      "\n",
      "Iteration:  75%|████████████████████████████████████████████████████                 | 313/415 [04:22<01:26,  1.17it/s]\u001b[A"
     ]
    },
    {
     "name": "stdout",
     "output_type": "stream",
     "text": [
      "tensor(0.2425, device='cuda:0', grad_fn=<NllLossBackward>)\n",
      "0.24251960217952728\n"
     ]
    },
    {
     "name": "stderr",
     "output_type": "stream",
     "text": [
      "\n",
      "Iteration:  76%|████████████████████████████████████████████████████▏                | 314/415 [04:23<01:25,  1.18it/s]\u001b[A"
     ]
    },
    {
     "name": "stdout",
     "output_type": "stream",
     "text": [
      "tensor(0.3639, device='cuda:0', grad_fn=<NllLossBackward>)\n",
      "0.3638947606086731\n"
     ]
    },
    {
     "name": "stderr",
     "output_type": "stream",
     "text": [
      "\n",
      "Iteration:  76%|████████████████████████████████████████████████████▎                | 315/415 [04:24<01:24,  1.18it/s]\u001b[A"
     ]
    },
    {
     "name": "stdout",
     "output_type": "stream",
     "text": [
      "tensor(0.6096, device='cuda:0', grad_fn=<NllLossBackward>)\n",
      "0.6096396446228027\n"
     ]
    },
    {
     "name": "stderr",
     "output_type": "stream",
     "text": [
      "\n",
      "Iteration:  76%|████████████████████████████████████████████████████▌                | 316/415 [04:25<01:23,  1.19it/s]\u001b[A"
     ]
    },
    {
     "name": "stdout",
     "output_type": "stream",
     "text": [
      "tensor(0.1911, device='cuda:0', grad_fn=<NllLossBackward>)\n",
      "0.19108109176158905\n"
     ]
    },
    {
     "name": "stderr",
     "output_type": "stream",
     "text": [
      "\n",
      "Iteration:  76%|████████████████████████████████████████████████████▋                | 317/415 [04:26<01:24,  1.16it/s]\u001b[A"
     ]
    },
    {
     "name": "stdout",
     "output_type": "stream",
     "text": [
      "tensor(0.3018, device='cuda:0', grad_fn=<NllLossBackward>)\n",
      "0.30180609226226807\n"
     ]
    },
    {
     "name": "stderr",
     "output_type": "stream",
     "text": [
      "\n",
      "Iteration:  77%|████████████████████████████████████████████████████▊                | 318/415 [04:26<01:22,  1.18it/s]\u001b[A"
     ]
    },
    {
     "name": "stdout",
     "output_type": "stream",
     "text": [
      "tensor(0.2776, device='cuda:0', grad_fn=<NllLossBackward>)\n",
      "0.27758628129959106\n"
     ]
    },
    {
     "name": "stderr",
     "output_type": "stream",
     "text": [
      "\n",
      "Iteration:  77%|█████████████████████████████████████████████████████                | 319/415 [04:27<01:22,  1.17it/s]\u001b[A"
     ]
    },
    {
     "name": "stdout",
     "output_type": "stream",
     "text": [
      "tensor(0.4256, device='cuda:0', grad_fn=<NllLossBackward>)\n",
      "0.4255582094192505\n"
     ]
    },
    {
     "name": "stderr",
     "output_type": "stream",
     "text": [
      "\n",
      "Iteration:  77%|█████████████████████████████████████████████████████▏               | 320/415 [04:28<01:22,  1.16it/s]\u001b[A"
     ]
    },
    {
     "name": "stdout",
     "output_type": "stream",
     "text": [
      "tensor(0.3064, device='cuda:0', grad_fn=<NllLossBackward>)\n",
      "0.3063701391220093\n"
     ]
    },
    {
     "name": "stderr",
     "output_type": "stream",
     "text": [
      "\n",
      "Iteration:  77%|█████████████████████████████████████████████████████▎               | 321/415 [04:29<01:21,  1.15it/s]\u001b[A"
     ]
    },
    {
     "name": "stdout",
     "output_type": "stream",
     "text": [
      "tensor(0.2994, device='cuda:0', grad_fn=<NllLossBackward>)\n",
      "0.2994471490383148\n"
     ]
    },
    {
     "name": "stderr",
     "output_type": "stream",
     "text": [
      "\n",
      "Iteration:  78%|█████████████████████████████████████████████████████▌               | 322/415 [04:30<01:19,  1.16it/s]\u001b[A"
     ]
    },
    {
     "name": "stdout",
     "output_type": "stream",
     "text": [
      "tensor(0.2693, device='cuda:0', grad_fn=<NllLossBackward>)\n",
      "0.2692650258541107\n"
     ]
    },
    {
     "name": "stderr",
     "output_type": "stream",
     "text": [
      "\n",
      "Iteration:  78%|█████████████████████████████████████████████████████▋               | 323/415 [04:31<01:20,  1.15it/s]\u001b[A"
     ]
    },
    {
     "name": "stdout",
     "output_type": "stream",
     "text": [
      "tensor(0.2094, device='cuda:0', grad_fn=<NllLossBackward>)\n",
      "0.2093539535999298\n"
     ]
    },
    {
     "name": "stderr",
     "output_type": "stream",
     "text": [
      "\n",
      "Iteration:  78%|█████████████████████████████████████████████████████▊               | 324/415 [04:32<01:18,  1.16it/s]\u001b[A"
     ]
    },
    {
     "name": "stdout",
     "output_type": "stream",
     "text": [
      "tensor(0.3562, device='cuda:0', grad_fn=<NllLossBackward>)\n",
      "0.35622090101242065\n"
     ]
    },
    {
     "name": "stderr",
     "output_type": "stream",
     "text": [
      "\n",
      "Iteration:  78%|██████████████████████████████████████████████████████               | 325/415 [04:32<01:17,  1.16it/s]\u001b[A"
     ]
    },
    {
     "name": "stdout",
     "output_type": "stream",
     "text": [
      "tensor(0.5156, device='cuda:0', grad_fn=<NllLossBackward>)\n",
      "0.5155884027481079\n"
     ]
    },
    {
     "name": "stderr",
     "output_type": "stream",
     "text": [
      "\n",
      "Iteration:  79%|██████████████████████████████████████████████████████▏              | 326/415 [04:33<01:15,  1.18it/s]\u001b[A"
     ]
    },
    {
     "name": "stdout",
     "output_type": "stream",
     "text": [
      "tensor(0.2770, device='cuda:0', grad_fn=<NllLossBackward>)\n",
      "0.27699118852615356\n"
     ]
    },
    {
     "name": "stderr",
     "output_type": "stream",
     "text": [
      "\n",
      "Iteration:  79%|██████████████████████████████████████████████████████▎              | 327/415 [04:34<01:14,  1.18it/s]\u001b[A"
     ]
    },
    {
     "name": "stdout",
     "output_type": "stream",
     "text": [
      "tensor(0.2643, device='cuda:0', grad_fn=<NllLossBackward>)\n",
      "0.26427820324897766\n"
     ]
    },
    {
     "name": "stderr",
     "output_type": "stream",
     "text": [
      "\n",
      "Iteration:  79%|██████████████████████████████████████████████████████▌              | 328/415 [04:35<01:12,  1.19it/s]\u001b[A"
     ]
    },
    {
     "name": "stdout",
     "output_type": "stream",
     "text": [
      "tensor(0.3064, device='cuda:0', grad_fn=<NllLossBackward>)\n",
      "0.3064310550689697\n"
     ]
    },
    {
     "name": "stderr",
     "output_type": "stream",
     "text": [
      "\n",
      "Iteration:  79%|██████████████████████████████████████████████████████▋              | 329/415 [04:36<01:12,  1.18it/s]\u001b[A"
     ]
    },
    {
     "name": "stdout",
     "output_type": "stream",
     "text": [
      "tensor(0.2948, device='cuda:0', grad_fn=<NllLossBackward>)\n",
      "0.29479971528053284\n"
     ]
    },
    {
     "name": "stderr",
     "output_type": "stream",
     "text": [
      "\n",
      "Iteration:  80%|██████████████████████████████████████████████████████▊              | 330/415 [04:37<01:12,  1.17it/s]\u001b[A"
     ]
    },
    {
     "name": "stdout",
     "output_type": "stream",
     "text": [
      "tensor(0.5677, device='cuda:0', grad_fn=<NllLossBackward>)\n",
      "0.5676760077476501\n"
     ]
    },
    {
     "name": "stderr",
     "output_type": "stream",
     "text": [
      "\n",
      "Iteration:  80%|███████████████████████████████████████████████████████              | 331/415 [04:38<01:10,  1.18it/s]\u001b[A"
     ]
    },
    {
     "name": "stdout",
     "output_type": "stream",
     "text": [
      "tensor(0.3702, device='cuda:0', grad_fn=<NllLossBackward>)\n",
      "0.37020769715309143\n"
     ]
    },
    {
     "name": "stderr",
     "output_type": "stream",
     "text": [
      "\n",
      "Iteration:  80%|███████████████████████████████████████████████████████▏             | 332/415 [04:38<01:09,  1.19it/s]\u001b[A"
     ]
    },
    {
     "name": "stdout",
     "output_type": "stream",
     "text": [
      "tensor(0.4047, device='cuda:0', grad_fn=<NllLossBackward>)\n",
      "0.404740571975708\n"
     ]
    },
    {
     "name": "stderr",
     "output_type": "stream",
     "text": [
      "\n",
      "Iteration:  80%|███████████████████████████████████████████████████████▎             | 333/415 [04:39<01:10,  1.16it/s]\u001b[A"
     ]
    },
    {
     "name": "stdout",
     "output_type": "stream",
     "text": [
      "tensor(0.1588, device='cuda:0', grad_fn=<NllLossBackward>)\n",
      "0.1587827503681183\n"
     ]
    },
    {
     "name": "stderr",
     "output_type": "stream",
     "text": [
      "\n",
      "Iteration:  80%|███████████████████████████████████████████████████████▌             | 334/415 [04:40<01:08,  1.18it/s]\u001b[A"
     ]
    },
    {
     "name": "stdout",
     "output_type": "stream",
     "text": [
      "tensor(0.3183, device='cuda:0', grad_fn=<NllLossBackward>)\n",
      "0.3182683289051056\n"
     ]
    },
    {
     "name": "stderr",
     "output_type": "stream",
     "text": [
      "\n",
      "Iteration:  81%|███████████████████████████████████████████████████████▋             | 335/415 [04:41<01:08,  1.16it/s]\u001b[A"
     ]
    },
    {
     "name": "stdout",
     "output_type": "stream",
     "text": [
      "tensor(0.3202, device='cuda:0', grad_fn=<NllLossBackward>)\n",
      "0.3202073276042938\n"
     ]
    },
    {
     "name": "stderr",
     "output_type": "stream",
     "text": [
      "\n",
      "Iteration:  81%|███████████████████████████████████████████████████████▊             | 336/415 [04:42<01:08,  1.16it/s]\u001b[A"
     ]
    },
    {
     "name": "stdout",
     "output_type": "stream",
     "text": [
      "tensor(0.2121, device='cuda:0', grad_fn=<NllLossBackward>)\n",
      "0.21205970644950867\n"
     ]
    },
    {
     "name": "stderr",
     "output_type": "stream",
     "text": [
      "\n",
      "Iteration:  81%|████████████████████████████████████████████████████████             | 337/415 [04:43<01:06,  1.18it/s]\u001b[A"
     ]
    },
    {
     "name": "stdout",
     "output_type": "stream",
     "text": [
      "tensor(0.5119, device='cuda:0', grad_fn=<NllLossBackward>)\n",
      "0.5119150280952454\n"
     ]
    },
    {
     "name": "stderr",
     "output_type": "stream",
     "text": [
      "\n",
      "Iteration:  81%|████████████████████████████████████████████████████████▏            | 338/415 [04:43<01:05,  1.18it/s]\u001b[A"
     ]
    },
    {
     "name": "stdout",
     "output_type": "stream",
     "text": [
      "tensor(0.3681, device='cuda:0', grad_fn=<NllLossBackward>)\n",
      "0.36814016103744507\n"
     ]
    },
    {
     "name": "stderr",
     "output_type": "stream",
     "text": [
      "\n",
      "Iteration:  82%|████████████████████████████████████████████████████████▎            | 339/415 [04:44<01:04,  1.18it/s]\u001b[A"
     ]
    },
    {
     "name": "stdout",
     "output_type": "stream",
     "text": [
      "tensor(0.3108, device='cuda:0', grad_fn=<NllLossBackward>)\n",
      "0.3108116388320923\n"
     ]
    },
    {
     "name": "stderr",
     "output_type": "stream",
     "text": [
      "\n",
      "Iteration:  82%|████████████████████████████████████████████████████████▌            | 340/415 [04:45<01:04,  1.16it/s]\u001b[A"
     ]
    },
    {
     "name": "stdout",
     "output_type": "stream",
     "text": [
      "tensor(0.1781, device='cuda:0', grad_fn=<NllLossBackward>)\n",
      "0.17807133495807648\n"
     ]
    },
    {
     "name": "stderr",
     "output_type": "stream",
     "text": [
      "\n",
      "Iteration:  82%|████████████████████████████████████████████████████████▋            | 341/415 [04:46<01:05,  1.14it/s]\u001b[A"
     ]
    },
    {
     "name": "stdout",
     "output_type": "stream",
     "text": [
      "tensor(0.2505, device='cuda:0', grad_fn=<NllLossBackward>)\n",
      "0.25048673152923584\n"
     ]
    },
    {
     "name": "stderr",
     "output_type": "stream",
     "text": [
      "\n",
      "Iteration:  82%|████████████████████████████████████████████████████████▊            | 342/415 [04:47<01:02,  1.16it/s]\u001b[A"
     ]
    },
    {
     "name": "stdout",
     "output_type": "stream",
     "text": [
      "tensor(0.2455, device='cuda:0', grad_fn=<NllLossBackward>)\n",
      "0.24546033143997192\n"
     ]
    },
    {
     "name": "stderr",
     "output_type": "stream",
     "text": [
      "\n",
      "Iteration:  83%|█████████████████████████████████████████████████████████            | 343/415 [04:48<01:02,  1.16it/s]\u001b[A"
     ]
    },
    {
     "name": "stdout",
     "output_type": "stream",
     "text": [
      "tensor(0.4883, device='cuda:0', grad_fn=<NllLossBackward>)\n",
      "0.48829764127731323\n"
     ]
    },
    {
     "name": "stderr",
     "output_type": "stream",
     "text": [
      "\n",
      "Iteration:  83%|█████████████████████████████████████████████████████████▏           | 344/415 [04:49<01:00,  1.18it/s]\u001b[A"
     ]
    },
    {
     "name": "stdout",
     "output_type": "stream",
     "text": [
      "tensor(0.4569, device='cuda:0', grad_fn=<NllLossBackward>)\n",
      "0.45693713426589966\n"
     ]
    },
    {
     "name": "stderr",
     "output_type": "stream",
     "text": [
      "\n",
      "Iteration:  83%|█████████████████████████████████████████████████████████▎           | 345/415 [04:50<00:59,  1.17it/s]\u001b[A"
     ]
    },
    {
     "name": "stdout",
     "output_type": "stream",
     "text": [
      "tensor(0.3145, device='cuda:0', grad_fn=<NllLossBackward>)\n",
      "0.3144921064376831\n"
     ]
    },
    {
     "name": "stderr",
     "output_type": "stream",
     "text": [
      "\n",
      "Iteration:  83%|█████████████████████████████████████████████████████████▌           | 346/415 [04:50<01:00,  1.15it/s]\u001b[A"
     ]
    },
    {
     "name": "stdout",
     "output_type": "stream",
     "text": [
      "tensor(0.3439, device='cuda:0', grad_fn=<NllLossBackward>)\n",
      "0.3438762128353119\n"
     ]
    },
    {
     "name": "stderr",
     "output_type": "stream",
     "text": [
      "\n",
      "Iteration:  84%|█████████████████████████████████████████████████████████▋           | 347/415 [04:51<00:58,  1.17it/s]\u001b[A"
     ]
    },
    {
     "name": "stdout",
     "output_type": "stream",
     "text": [
      "tensor(0.3999, device='cuda:0', grad_fn=<NllLossBackward>)\n",
      "0.39989370107650757\n"
     ]
    },
    {
     "name": "stderr",
     "output_type": "stream",
     "text": [
      "\n",
      "Iteration:  84%|█████████████████████████████████████████████████████████▊           | 348/415 [04:52<00:57,  1.17it/s]\u001b[A"
     ]
    },
    {
     "name": "stdout",
     "output_type": "stream",
     "text": [
      "tensor(0.2785, device='cuda:0', grad_fn=<NllLossBackward>)\n",
      "0.27851471304893494\n"
     ]
    },
    {
     "name": "stderr",
     "output_type": "stream",
     "text": [
      "\n",
      "Iteration:  84%|██████████████████████████████████████████████████████████           | 349/415 [04:53<00:56,  1.18it/s]\u001b[A"
     ]
    },
    {
     "name": "stdout",
     "output_type": "stream",
     "text": [
      "tensor(0.2224, device='cuda:0', grad_fn=<NllLossBackward>)\n",
      "0.22243961691856384\n"
     ]
    },
    {
     "name": "stderr",
     "output_type": "stream",
     "text": [
      "\n",
      "Iteration:  84%|██████████████████████████████████████████████████████████▏          | 350/415 [04:54<00:54,  1.19it/s]\u001b[A"
     ]
    },
    {
     "name": "stdout",
     "output_type": "stream",
     "text": [
      "tensor(0.4173, device='cuda:0', grad_fn=<NllLossBackward>)\n",
      "0.41730183362960815\n"
     ]
    },
    {
     "name": "stderr",
     "output_type": "stream",
     "text": [
      "\n",
      "Iteration:  85%|██████████████████████████████████████████████████████████▎          | 351/415 [04:55<00:53,  1.20it/s]\u001b[A"
     ]
    },
    {
     "name": "stdout",
     "output_type": "stream",
     "text": [
      "tensor(0.1718, device='cuda:0', grad_fn=<NllLossBackward>)\n",
      "0.17183905839920044\n"
     ]
    },
    {
     "name": "stderr",
     "output_type": "stream",
     "text": [
      "\n",
      "Iteration:  85%|██████████████████████████████████████████████████████████▌          | 352/415 [04:56<00:57,  1.09it/s]\u001b[A"
     ]
    },
    {
     "name": "stdout",
     "output_type": "stream",
     "text": [
      "tensor(0.3601, device='cuda:0', grad_fn=<NllLossBackward>)\n",
      "0.36009424924850464\n"
     ]
    },
    {
     "name": "stderr",
     "output_type": "stream",
     "text": [
      "\n",
      "Iteration:  85%|██████████████████████████████████████████████████████████▋          | 353/415 [04:57<00:55,  1.12it/s]\u001b[A"
     ]
    },
    {
     "name": "stdout",
     "output_type": "stream",
     "text": [
      "tensor(0.3972, device='cuda:0', grad_fn=<NllLossBackward>)\n",
      "0.39715635776519775\n"
     ]
    },
    {
     "name": "stderr",
     "output_type": "stream",
     "text": [
      "\n",
      "Iteration:  85%|██████████████████████████████████████████████████████████▊          | 354/415 [04:57<00:53,  1.13it/s]\u001b[A"
     ]
    },
    {
     "name": "stdout",
     "output_type": "stream",
     "text": [
      "tensor(0.2139, device='cuda:0', grad_fn=<NllLossBackward>)\n",
      "0.21392372250556946\n"
     ]
    },
    {
     "name": "stderr",
     "output_type": "stream",
     "text": [
      "\n",
      "Iteration:  86%|███████████████████████████████████████████████████████████          | 355/415 [04:58<00:52,  1.15it/s]\u001b[A"
     ]
    },
    {
     "name": "stdout",
     "output_type": "stream",
     "text": [
      "tensor(0.3275, device='cuda:0', grad_fn=<NllLossBackward>)\n",
      "0.3275488615036011\n"
     ]
    },
    {
     "name": "stderr",
     "output_type": "stream",
     "text": [
      "\n",
      "Iteration:  86%|███████████████████████████████████████████████████████████▏         | 356/415 [04:59<00:50,  1.17it/s]\u001b[A"
     ]
    },
    {
     "name": "stdout",
     "output_type": "stream",
     "text": [
      "tensor(0.2461, device='cuda:0', grad_fn=<NllLossBackward>)\n",
      "0.2460627406835556\n"
     ]
    },
    {
     "name": "stderr",
     "output_type": "stream",
     "text": [
      "\n",
      "Iteration:  86%|███████████████████████████████████████████████████████████▎         | 357/415 [05:00<00:48,  1.19it/s]\u001b[A"
     ]
    },
    {
     "name": "stdout",
     "output_type": "stream",
     "text": [
      "tensor(0.2259, device='cuda:0', grad_fn=<NllLossBackward>)\n",
      "0.22587206959724426\n"
     ]
    },
    {
     "name": "stderr",
     "output_type": "stream",
     "text": [
      "\n",
      "Iteration:  86%|███████████████████████████████████████████████████████████▌         | 358/415 [05:01<00:48,  1.19it/s]\u001b[A"
     ]
    },
    {
     "name": "stdout",
     "output_type": "stream",
     "text": [
      "tensor(0.5746, device='cuda:0', grad_fn=<NllLossBackward>)\n",
      "0.574635922908783\n"
     ]
    },
    {
     "name": "stderr",
     "output_type": "stream",
     "text": [
      "\n",
      "Iteration:  87%|███████████████████████████████████████████████████████████▋         | 359/415 [05:02<00:47,  1.19it/s]\u001b[A"
     ]
    },
    {
     "name": "stdout",
     "output_type": "stream",
     "text": [
      "tensor(0.3483, device='cuda:0', grad_fn=<NllLossBackward>)\n",
      "0.34833264350891113\n"
     ]
    },
    {
     "name": "stderr",
     "output_type": "stream",
     "text": [
      "\n",
      "Iteration:  87%|███████████████████████████████████████████████████████████▊         | 360/415 [05:02<00:46,  1.19it/s]\u001b[A"
     ]
    },
    {
     "name": "stdout",
     "output_type": "stream",
     "text": [
      "tensor(0.4111, device='cuda:0', grad_fn=<NllLossBackward>)\n",
      "0.41107413172721863\n"
     ]
    },
    {
     "name": "stderr",
     "output_type": "stream",
     "text": [
      "\n",
      "Iteration:  87%|████████████████████████████████████████████████████████████         | 361/415 [05:03<00:45,  1.20it/s]\u001b[A"
     ]
    },
    {
     "name": "stdout",
     "output_type": "stream",
     "text": [
      "tensor(0.4459, device='cuda:0', grad_fn=<NllLossBackward>)\n",
      "0.44588032364845276\n"
     ]
    },
    {
     "name": "stderr",
     "output_type": "stream",
     "text": [
      "\n",
      "Iteration:  87%|████████████████████████████████████████████████████████████▏        | 362/415 [05:04<00:48,  1.08it/s]\u001b[A"
     ]
    },
    {
     "name": "stdout",
     "output_type": "stream",
     "text": [
      "tensor(0.5444, device='cuda:0', grad_fn=<NllLossBackward>)\n",
      "0.5443649888038635\n"
     ]
    },
    {
     "name": "stderr",
     "output_type": "stream",
     "text": [
      "\n",
      "Iteration:  87%|████████████████████████████████████████████████████████████▎        | 363/415 [05:05<00:47,  1.08it/s]\u001b[A"
     ]
    },
    {
     "name": "stdout",
     "output_type": "stream",
     "text": [
      "tensor(0.3181, device='cuda:0', grad_fn=<NllLossBackward>)\n",
      "0.31811296939849854\n"
     ]
    },
    {
     "name": "stderr",
     "output_type": "stream",
     "text": [
      "\n",
      "Iteration:  88%|████████████████████████████████████████████████████████████▌        | 364/415 [05:06<00:45,  1.11it/s]\u001b[A"
     ]
    },
    {
     "name": "stdout",
     "output_type": "stream",
     "text": [
      "tensor(0.2792, device='cuda:0', grad_fn=<NllLossBackward>)\n",
      "0.2792462110519409\n"
     ]
    },
    {
     "name": "stderr",
     "output_type": "stream",
     "text": [
      "\n",
      "Iteration:  88%|████████████████████████████████████████████████████████████▋        | 365/415 [05:07<00:44,  1.11it/s]\u001b[A"
     ]
    },
    {
     "name": "stdout",
     "output_type": "stream",
     "text": [
      "tensor(0.3499, device='cuda:0', grad_fn=<NllLossBackward>)\n",
      "0.3498801290988922\n"
     ]
    },
    {
     "name": "stderr",
     "output_type": "stream",
     "text": [
      "\n",
      "Iteration:  88%|████████████████████████████████████████████████████████████▊        | 366/415 [05:08<00:43,  1.14it/s]\u001b[A"
     ]
    },
    {
     "name": "stdout",
     "output_type": "stream",
     "text": [
      "tensor(0.4098, device='cuda:0', grad_fn=<NllLossBackward>)\n",
      "0.4098123610019684\n"
     ]
    },
    {
     "name": "stderr",
     "output_type": "stream",
     "text": [
      "\n",
      "Iteration:  88%|█████████████████████████████████████████████████████████████        | 367/415 [05:09<00:42,  1.13it/s]\u001b[A"
     ]
    },
    {
     "name": "stdout",
     "output_type": "stream",
     "text": [
      "tensor(0.5989, device='cuda:0', grad_fn=<NllLossBackward>)\n",
      "0.5989323854446411\n"
     ]
    },
    {
     "name": "stderr",
     "output_type": "stream",
     "text": [
      "\n",
      "Iteration:  89%|█████████████████████████████████████████████████████████████▏       | 368/415 [05:10<00:41,  1.15it/s]\u001b[A"
     ]
    },
    {
     "name": "stdout",
     "output_type": "stream",
     "text": [
      "tensor(0.2708, device='cuda:0', grad_fn=<NllLossBackward>)\n",
      "0.2708394229412079\n"
     ]
    },
    {
     "name": "stderr",
     "output_type": "stream",
     "text": [
      "\n",
      "Iteration:  89%|█████████████████████████████████████████████████████████████▎       | 369/415 [05:11<00:41,  1.12it/s]\u001b[A"
     ]
    },
    {
     "name": "stdout",
     "output_type": "stream",
     "text": [
      "tensor(0.3636, device='cuda:0', grad_fn=<NllLossBackward>)\n",
      "0.3636029064655304\n"
     ]
    },
    {
     "name": "stderr",
     "output_type": "stream",
     "text": [
      "\n",
      "Iteration:  89%|█████████████████████████████████████████████████████████████▌       | 370/415 [05:11<00:39,  1.15it/s]\u001b[A"
     ]
    },
    {
     "name": "stdout",
     "output_type": "stream",
     "text": [
      "tensor(0.4387, device='cuda:0', grad_fn=<NllLossBackward>)\n",
      "0.4387419521808624\n"
     ]
    },
    {
     "name": "stderr",
     "output_type": "stream",
     "text": [
      "\n",
      "Iteration:  89%|█████████████████████████████████████████████████████████████▋       | 371/415 [05:12<00:37,  1.16it/s]\u001b[A"
     ]
    },
    {
     "name": "stdout",
     "output_type": "stream",
     "text": [
      "tensor(0.3871, device='cuda:0', grad_fn=<NllLossBackward>)\n",
      "0.38713136315345764\n"
     ]
    },
    {
     "name": "stderr",
     "output_type": "stream",
     "text": [
      "\n",
      "Iteration:  90%|█████████████████████████████████████████████████████████████▊       | 372/415 [05:13<00:37,  1.16it/s]\u001b[A"
     ]
    },
    {
     "name": "stdout",
     "output_type": "stream",
     "text": [
      "tensor(0.2953, device='cuda:0', grad_fn=<NllLossBackward>)\n",
      "0.29529428482055664\n"
     ]
    },
    {
     "name": "stderr",
     "output_type": "stream",
     "text": [
      "\n",
      "Iteration:  90%|██████████████████████████████████████████████████████████████       | 373/415 [05:14<00:36,  1.14it/s]\u001b[A"
     ]
    },
    {
     "name": "stdout",
     "output_type": "stream",
     "text": [
      "tensor(0.2631, device='cuda:0', grad_fn=<NllLossBackward>)\n",
      "0.26311951875686646\n"
     ]
    },
    {
     "name": "stderr",
     "output_type": "stream",
     "text": [
      "\n",
      "Iteration:  90%|██████████████████████████████████████████████████████████████▏      | 374/415 [05:15<00:38,  1.07it/s]\u001b[A"
     ]
    },
    {
     "name": "stdout",
     "output_type": "stream",
     "text": [
      "tensor(0.2241, device='cuda:0', grad_fn=<NllLossBackward>)\n",
      "0.22406379878520966\n"
     ]
    },
    {
     "name": "stderr",
     "output_type": "stream",
     "text": [
      "\n",
      "Iteration:  90%|██████████████████████████████████████████████████████████████▎      | 375/415 [05:16<00:36,  1.10it/s]\u001b[A"
     ]
    },
    {
     "name": "stdout",
     "output_type": "stream",
     "text": [
      "tensor(0.2155, device='cuda:0', grad_fn=<NllLossBackward>)\n",
      "0.215512216091156\n"
     ]
    },
    {
     "name": "stderr",
     "output_type": "stream",
     "text": [
      "\n",
      "Iteration:  91%|██████████████████████████████████████████████████████████████▌      | 376/415 [05:17<00:36,  1.08it/s]\u001b[A"
     ]
    },
    {
     "name": "stdout",
     "output_type": "stream",
     "text": [
      "tensor(0.4911, device='cuda:0', grad_fn=<NllLossBackward>)\n",
      "0.49110284447669983\n"
     ]
    },
    {
     "name": "stderr",
     "output_type": "stream",
     "text": [
      "\n",
      "Iteration:  91%|██████████████████████████████████████████████████████████████▋      | 377/415 [05:18<00:34,  1.10it/s]\u001b[A"
     ]
    },
    {
     "name": "stdout",
     "output_type": "stream",
     "text": [
      "tensor(0.5842, device='cuda:0', grad_fn=<NllLossBackward>)\n",
      "0.5841903686523438\n"
     ]
    },
    {
     "name": "stderr",
     "output_type": "stream",
     "text": [
      "\n",
      "Iteration:  91%|██████████████████████████████████████████████████████████████▊      | 378/415 [05:19<00:32,  1.14it/s]\u001b[A"
     ]
    },
    {
     "name": "stdout",
     "output_type": "stream",
     "text": [
      "tensor(0.5471, device='cuda:0', grad_fn=<NllLossBackward>)\n",
      "0.547135591506958\n"
     ]
    },
    {
     "name": "stderr",
     "output_type": "stream",
     "text": [
      "\n",
      "Iteration:  91%|███████████████████████████████████████████████████████████████      | 379/415 [05:19<00:31,  1.16it/s]\u001b[A"
     ]
    },
    {
     "name": "stdout",
     "output_type": "stream",
     "text": [
      "tensor(0.3171, device='cuda:0', grad_fn=<NllLossBackward>)\n",
      "0.31710612773895264\n"
     ]
    },
    {
     "name": "stderr",
     "output_type": "stream",
     "text": [
      "\n",
      "Iteration:  92%|███████████████████████████████████████████████████████████████▏     | 380/415 [05:20<00:29,  1.17it/s]\u001b[A"
     ]
    },
    {
     "name": "stdout",
     "output_type": "stream",
     "text": [
      "tensor(0.2726, device='cuda:0', grad_fn=<NllLossBackward>)\n",
      "0.2725604176521301\n"
     ]
    },
    {
     "name": "stderr",
     "output_type": "stream",
     "text": [
      "\n",
      "Iteration:  92%|███████████████████████████████████████████████████████████████▎     | 381/415 [05:21<00:28,  1.19it/s]\u001b[A"
     ]
    },
    {
     "name": "stdout",
     "output_type": "stream",
     "text": [
      "tensor(0.2926, device='cuda:0', grad_fn=<NllLossBackward>)\n",
      "0.29255855083465576\n"
     ]
    },
    {
     "name": "stderr",
     "output_type": "stream",
     "text": [
      "\n",
      "Iteration:  92%|███████████████████████████████████████████████████████████████▌     | 382/415 [05:22<00:28,  1.15it/s]\u001b[A"
     ]
    },
    {
     "name": "stdout",
     "output_type": "stream",
     "text": [
      "tensor(0.2405, device='cuda:0', grad_fn=<NllLossBackward>)\n",
      "0.24049581587314606\n"
     ]
    },
    {
     "name": "stderr",
     "output_type": "stream",
     "text": [
      "\n",
      "Iteration:  92%|███████████████████████████████████████████████████████████████▋     | 383/415 [05:23<00:27,  1.16it/s]\u001b[A"
     ]
    },
    {
     "name": "stdout",
     "output_type": "stream",
     "text": [
      "tensor(0.4171, device='cuda:0', grad_fn=<NllLossBackward>)\n",
      "0.4170544743537903\n"
     ]
    },
    {
     "name": "stderr",
     "output_type": "stream",
     "text": [
      "\n",
      "Iteration:  93%|███████████████████████████████████████████████████████████████▊     | 384/415 [05:24<00:27,  1.13it/s]\u001b[A"
     ]
    },
    {
     "name": "stdout",
     "output_type": "stream",
     "text": [
      "tensor(0.2691, device='cuda:0', grad_fn=<NllLossBackward>)\n",
      "0.2691006064414978\n"
     ]
    },
    {
     "name": "stderr",
     "output_type": "stream",
     "text": [
      "\n",
      "Iteration:  93%|████████████████████████████████████████████████████████████████     | 385/415 [05:25<00:26,  1.14it/s]\u001b[A"
     ]
    },
    {
     "name": "stdout",
     "output_type": "stream",
     "text": [
      "tensor(0.2622, device='cuda:0', grad_fn=<NllLossBackward>)\n",
      "0.26217448711395264\n"
     ]
    },
    {
     "name": "stderr",
     "output_type": "stream",
     "text": [
      "\n",
      "Iteration:  93%|████████████████████████████████████████████████████████████████▏    | 386/415 [05:25<00:25,  1.14it/s]\u001b[A"
     ]
    },
    {
     "name": "stdout",
     "output_type": "stream",
     "text": [
      "tensor(0.2776, device='cuda:0', grad_fn=<NllLossBackward>)\n",
      "0.27760517597198486\n"
     ]
    },
    {
     "name": "stderr",
     "output_type": "stream",
     "text": [
      "\n",
      "Iteration:  93%|████████████████████████████████████████████████████████████████▎    | 387/415 [05:26<00:24,  1.16it/s]\u001b[A"
     ]
    },
    {
     "name": "stdout",
     "output_type": "stream",
     "text": [
      "tensor(0.3163, device='cuda:0', grad_fn=<NllLossBackward>)\n",
      "0.31631556153297424\n"
     ]
    },
    {
     "name": "stderr",
     "output_type": "stream",
     "text": [
      "\n",
      "Iteration:  93%|████████████████████████████████████████████████████████████████▌    | 388/415 [05:27<00:23,  1.17it/s]\u001b[A"
     ]
    },
    {
     "name": "stdout",
     "output_type": "stream",
     "text": [
      "tensor(0.2643, device='cuda:0', grad_fn=<NllLossBackward>)\n",
      "0.2642804980278015\n"
     ]
    },
    {
     "name": "stderr",
     "output_type": "stream",
     "text": [
      "\n",
      "Iteration:  94%|████████████████████████████████████████████████████████████████▋    | 389/415 [05:28<00:21,  1.18it/s]\u001b[A"
     ]
    },
    {
     "name": "stdout",
     "output_type": "stream",
     "text": [
      "tensor(0.3221, device='cuda:0', grad_fn=<NllLossBackward>)\n",
      "0.32209116220474243\n"
     ]
    },
    {
     "name": "stderr",
     "output_type": "stream",
     "text": [
      "\n",
      "Iteration:  94%|████████████████████████████████████████████████████████████████▊    | 390/415 [05:29<00:21,  1.19it/s]\u001b[A"
     ]
    },
    {
     "name": "stdout",
     "output_type": "stream",
     "text": [
      "tensor(0.4963, device='cuda:0', grad_fn=<NllLossBackward>)\n",
      "0.49628961086273193\n"
     ]
    },
    {
     "name": "stderr",
     "output_type": "stream",
     "text": [
      "\n",
      "Iteration:  94%|█████████████████████████████████████████████████████████████████    | 391/415 [05:30<00:20,  1.19it/s]\u001b[A"
     ]
    },
    {
     "name": "stdout",
     "output_type": "stream",
     "text": [
      "tensor(0.2898, device='cuda:0', grad_fn=<NllLossBackward>)\n",
      "0.28975778818130493\n"
     ]
    },
    {
     "name": "stderr",
     "output_type": "stream",
     "text": [
      "\n",
      "Iteration:  94%|█████████████████████████████████████████████████████████████████▏   | 392/415 [05:31<00:19,  1.16it/s]\u001b[A"
     ]
    },
    {
     "name": "stdout",
     "output_type": "stream",
     "text": [
      "tensor(0.2946, device='cuda:0', grad_fn=<NllLossBackward>)\n",
      "0.2945680320262909\n"
     ]
    },
    {
     "name": "stderr",
     "output_type": "stream",
     "text": [
      "\n",
      "Iteration:  95%|█████████████████████████████████████████████████████████████████▎   | 393/415 [05:31<00:19,  1.15it/s]\u001b[A"
     ]
    },
    {
     "name": "stdout",
     "output_type": "stream",
     "text": [
      "tensor(0.3132, device='cuda:0', grad_fn=<NllLossBackward>)\n",
      "0.3131621479988098\n"
     ]
    },
    {
     "name": "stderr",
     "output_type": "stream",
     "text": [
      "\n",
      "Iteration:  95%|█████████████████████████████████████████████████████████████████▌   | 394/415 [05:32<00:18,  1.16it/s]\u001b[A"
     ]
    },
    {
     "name": "stdout",
     "output_type": "stream",
     "text": [
      "tensor(0.3343, device='cuda:0', grad_fn=<NllLossBackward>)\n",
      "0.3342563807964325\n"
     ]
    },
    {
     "name": "stderr",
     "output_type": "stream",
     "text": [
      "\n",
      "Iteration:  95%|█████████████████████████████████████████████████████████████████▋   | 395/415 [05:33<00:16,  1.18it/s]\u001b[A"
     ]
    },
    {
     "name": "stdout",
     "output_type": "stream",
     "text": [
      "tensor(0.5101, device='cuda:0', grad_fn=<NllLossBackward>)\n",
      "0.510106086730957\n"
     ]
    },
    {
     "name": "stderr",
     "output_type": "stream",
     "text": [
      "\n",
      "Iteration:  95%|█████████████████████████████████████████████████████████████████▊   | 396/415 [05:34<00:16,  1.18it/s]\u001b[A"
     ]
    },
    {
     "name": "stdout",
     "output_type": "stream",
     "text": [
      "tensor(0.2772, device='cuda:0', grad_fn=<NllLossBackward>)\n",
      "0.2771954834461212\n"
     ]
    },
    {
     "name": "stderr",
     "output_type": "stream",
     "text": [
      "\n",
      "Iteration:  96%|██████████████████████████████████████████████████████████████████   | 397/415 [05:35<00:15,  1.17it/s]\u001b[A"
     ]
    },
    {
     "name": "stdout",
     "output_type": "stream",
     "text": [
      "tensor(0.4014, device='cuda:0', grad_fn=<NllLossBackward>)\n",
      "0.40139099955558777\n"
     ]
    },
    {
     "name": "stderr",
     "output_type": "stream",
     "text": [
      "\n",
      "Iteration:  96%|██████████████████████████████████████████████████████████████████▏  | 398/415 [05:36<00:14,  1.16it/s]\u001b[A"
     ]
    },
    {
     "name": "stdout",
     "output_type": "stream",
     "text": [
      "tensor(0.2683, device='cuda:0', grad_fn=<NllLossBackward>)\n",
      "0.2682567834854126\n"
     ]
    },
    {
     "name": "stderr",
     "output_type": "stream",
     "text": [
      "\n",
      "Iteration:  96%|██████████████████████████████████████████████████████████████████▎  | 399/415 [05:36<00:13,  1.17it/s]\u001b[A"
     ]
    },
    {
     "name": "stdout",
     "output_type": "stream",
     "text": [
      "tensor(0.2863, device='cuda:0', grad_fn=<NllLossBackward>)\n",
      "0.2863255739212036\n"
     ]
    },
    {
     "name": "stderr",
     "output_type": "stream",
     "text": [
      "\n",
      "Iteration:  96%|██████████████████████████████████████████████████████████████████▌  | 400/415 [05:37<00:12,  1.18it/s]\u001b[A"
     ]
    },
    {
     "name": "stdout",
     "output_type": "stream",
     "text": [
      "tensor(0.3779, device='cuda:0', grad_fn=<NllLossBackward>)\n",
      "0.37791135907173157\n"
     ]
    },
    {
     "name": "stderr",
     "output_type": "stream",
     "text": [
      "\n",
      "Iteration:  97%|██████████████████████████████████████████████████████████████████▋  | 401/415 [05:38<00:11,  1.19it/s]\u001b[A"
     ]
    },
    {
     "name": "stdout",
     "output_type": "stream",
     "text": [
      "tensor(0.2953, device='cuda:0', grad_fn=<NllLossBackward>)\n",
      "0.29525521397590637\n"
     ]
    },
    {
     "name": "stderr",
     "output_type": "stream",
     "text": [
      "\n",
      "Iteration:  97%|██████████████████████████████████████████████████████████████████▊  | 402/415 [05:39<00:11,  1.15it/s]\u001b[A"
     ]
    },
    {
     "name": "stdout",
     "output_type": "stream",
     "text": [
      "tensor(0.3070, device='cuda:0', grad_fn=<NllLossBackward>)\n",
      "0.3069670796394348\n"
     ]
    },
    {
     "name": "stderr",
     "output_type": "stream",
     "text": [
      "\n",
      "Iteration:  97%|███████████████████████████████████████████████████████████████████  | 403/415 [05:40<00:10,  1.14it/s]\u001b[A"
     ]
    },
    {
     "name": "stdout",
     "output_type": "stream",
     "text": [
      "tensor(0.2551, device='cuda:0', grad_fn=<NllLossBackward>)\n",
      "0.2550501227378845\n"
     ]
    },
    {
     "name": "stderr",
     "output_type": "stream",
     "text": [
      "\n",
      "Iteration:  97%|███████████████████████████████████████████████████████████████████▏ | 404/415 [05:41<00:09,  1.16it/s]\u001b[A"
     ]
    },
    {
     "name": "stdout",
     "output_type": "stream",
     "text": [
      "tensor(0.2751, device='cuda:0', grad_fn=<NllLossBackward>)\n",
      "0.27509695291519165\n"
     ]
    },
    {
     "name": "stderr",
     "output_type": "stream",
     "text": [
      "\n",
      "Iteration:  98%|███████████████████████████████████████████████████████████████████▎ | 405/415 [05:42<00:08,  1.16it/s]\u001b[A"
     ]
    },
    {
     "name": "stdout",
     "output_type": "stream",
     "text": [
      "tensor(0.3897, device='cuda:0', grad_fn=<NllLossBackward>)\n",
      "0.3896794319152832\n"
     ]
    },
    {
     "name": "stderr",
     "output_type": "stream",
     "text": [
      "\n",
      "Iteration:  98%|███████████████████████████████████████████████████████████████████▌ | 406/415 [05:42<00:07,  1.18it/s]\u001b[A"
     ]
    },
    {
     "name": "stdout",
     "output_type": "stream",
     "text": [
      "tensor(0.2522, device='cuda:0', grad_fn=<NllLossBackward>)\n",
      "0.25217100977897644\n"
     ]
    },
    {
     "name": "stderr",
     "output_type": "stream",
     "text": [
      "\n",
      "Iteration:  98%|███████████████████████████████████████████████████████████████████▋ | 407/415 [05:43<00:06,  1.18it/s]\u001b[A"
     ]
    },
    {
     "name": "stdout",
     "output_type": "stream",
     "text": [
      "tensor(0.1678, device='cuda:0', grad_fn=<NllLossBackward>)\n",
      "0.16782914102077484\n"
     ]
    },
    {
     "name": "stderr",
     "output_type": "stream",
     "text": [
      "\n",
      "Iteration:  98%|███████████████████████████████████████████████████████████████████▊ | 408/415 [05:44<00:06,  1.16it/s]\u001b[A"
     ]
    },
    {
     "name": "stdout",
     "output_type": "stream",
     "text": [
      "tensor(0.2154, device='cuda:0', grad_fn=<NllLossBackward>)\n",
      "0.21539835631847382\n"
     ]
    },
    {
     "name": "stderr",
     "output_type": "stream",
     "text": [
      "\n",
      "Iteration:  99%|████████████████████████████████████████████████████████████████████ | 409/415 [05:45<00:05,  1.16it/s]\u001b[A"
     ]
    },
    {
     "name": "stdout",
     "output_type": "stream",
     "text": [
      "tensor(0.3150, device='cuda:0', grad_fn=<NllLossBackward>)\n",
      "0.314981073141098\n"
     ]
    },
    {
     "name": "stderr",
     "output_type": "stream",
     "text": [
      "\n",
      "Iteration:  99%|████████████████████████████████████████████████████████████████████▏| 410/415 [05:46<00:04,  1.18it/s]\u001b[A"
     ]
    },
    {
     "name": "stdout",
     "output_type": "stream",
     "text": [
      "tensor(0.2663, device='cuda:0', grad_fn=<NllLossBackward>)\n",
      "0.2663154602050781\n"
     ]
    },
    {
     "name": "stderr",
     "output_type": "stream",
     "text": [
      "\n",
      "Iteration:  99%|████████████████████████████████████████████████████████████████████▎| 411/415 [05:47<00:03,  1.18it/s]\u001b[A"
     ]
    },
    {
     "name": "stdout",
     "output_type": "stream",
     "text": [
      "tensor(0.2435, device='cuda:0', grad_fn=<NllLossBackward>)\n",
      "0.2435479462146759\n"
     ]
    },
    {
     "name": "stderr",
     "output_type": "stream",
     "text": [
      "\n",
      "Iteration:  99%|████████████████████████████████████████████████████████████████████▌| 412/415 [05:48<00:02,  1.19it/s]\u001b[A"
     ]
    },
    {
     "name": "stdout",
     "output_type": "stream",
     "text": [
      "tensor(0.2929, device='cuda:0', grad_fn=<NllLossBackward>)\n",
      "0.2929089069366455\n"
     ]
    },
    {
     "name": "stderr",
     "output_type": "stream",
     "text": [
      "\n",
      "Iteration: 100%|████████████████████████████████████████████████████████████████████▋| 413/415 [05:48<00:01,  1.19it/s]\u001b[A"
     ]
    },
    {
     "name": "stdout",
     "output_type": "stream",
     "text": [
      "tensor(0.3405, device='cuda:0', grad_fn=<NllLossBackward>)\n",
      "0.3404770791530609\n"
     ]
    },
    {
     "name": "stderr",
     "output_type": "stream",
     "text": [
      "\n",
      "Iteration: 100%|████████████████████████████████████████████████████████████████████▊| 414/415 [05:49<00:00,  1.18it/s]\u001b[A"
     ]
    },
    {
     "name": "stdout",
     "output_type": "stream",
     "text": [
      "tensor(0.1689, device='cuda:0', grad_fn=<NllLossBackward>)\n",
      "0.16893987357616425\n"
     ]
    },
    {
     "name": "stderr",
     "output_type": "stream",
     "text": [
      "\n",
      "Iteration: 100%|█████████████████████████████████████████████████████████████████████| 415/415 [05:50<00:00,  1.18it/s]\u001b[A\n",
      "Epoch:  67%|██████████████████████████████████████████████████▋                         | 2/3 [11:10<05:28, 328.94s/it]\n",
      "Iteration:   0%|                                                                               | 0/415 [00:00<?, ?it/s]\u001b[A"
     ]
    },
    {
     "name": "stdout",
     "output_type": "stream",
     "text": [
      "tensor(0.3329, device='cuda:0', grad_fn=<NllLossBackward>)\n",
      "0.33294591307640076\n"
     ]
    },
    {
     "name": "stderr",
     "output_type": "stream",
     "text": [
      "\n",
      "Iteration:   0%|▏                                                                      | 1/415 [00:00<05:44,  1.20it/s]\u001b[A"
     ]
    },
    {
     "name": "stdout",
     "output_type": "stream",
     "text": [
      "tensor(0.1566, device='cuda:0', grad_fn=<NllLossBackward>)\n",
      "0.156564861536026\n"
     ]
    },
    {
     "name": "stderr",
     "output_type": "stream",
     "text": [
      "\n",
      "Iteration:   0%|▎                                                                      | 2/415 [00:01<05:50,  1.18it/s]\u001b[A"
     ]
    },
    {
     "name": "stdout",
     "output_type": "stream",
     "text": [
      "tensor(0.2197, device='cuda:0', grad_fn=<NllLossBackward>)\n",
      "0.21966983377933502\n"
     ]
    },
    {
     "name": "stderr",
     "output_type": "stream",
     "text": [
      "\n",
      "Iteration:   1%|▌                                                                      | 3/415 [00:02<05:51,  1.17it/s]\u001b[A"
     ]
    },
    {
     "name": "stdout",
     "output_type": "stream",
     "text": [
      "tensor(0.1554, device='cuda:0', grad_fn=<NllLossBackward>)\n",
      "0.15535491704940796\n"
     ]
    },
    {
     "name": "stderr",
     "output_type": "stream",
     "text": [
      "\n",
      "Iteration:   1%|▋                                                                      | 4/415 [00:03<06:00,  1.14it/s]\u001b[A"
     ]
    },
    {
     "name": "stdout",
     "output_type": "stream",
     "text": [
      "tensor(0.2171, device='cuda:0', grad_fn=<NllLossBackward>)\n",
      "0.21709215641021729\n"
     ]
    },
    {
     "name": "stderr",
     "output_type": "stream",
     "text": [
      "\n",
      "Iteration:   1%|▊                                                                      | 5/415 [00:04<05:59,  1.14it/s]\u001b[A"
     ]
    },
    {
     "name": "stdout",
     "output_type": "stream",
     "text": [
      "tensor(0.2700, device='cuda:0', grad_fn=<NllLossBackward>)\n",
      "0.27003955841064453\n"
     ]
    },
    {
     "name": "stderr",
     "output_type": "stream",
     "text": [
      "\n",
      "Iteration:   1%|█                                                                      | 6/415 [00:05<06:14,  1.09it/s]\u001b[A"
     ]
    },
    {
     "name": "stdout",
     "output_type": "stream",
     "text": [
      "tensor(0.2547, device='cuda:0', grad_fn=<NllLossBackward>)\n",
      "0.25470465421676636\n"
     ]
    },
    {
     "name": "stderr",
     "output_type": "stream",
     "text": [
      "\n",
      "Iteration:   2%|█▏                                                                     | 7/415 [00:06<06:32,  1.04it/s]\u001b[A"
     ]
    },
    {
     "name": "stdout",
     "output_type": "stream",
     "text": [
      "tensor(0.2210, device='cuda:0', grad_fn=<NllLossBackward>)\n",
      "0.2210022211074829\n"
     ]
    },
    {
     "name": "stderr",
     "output_type": "stream",
     "text": [
      "\n",
      "Iteration:   2%|█▎                                                                     | 8/415 [00:07<06:26,  1.05it/s]\u001b[A"
     ]
    },
    {
     "name": "stdout",
     "output_type": "stream",
     "text": [
      "tensor(0.3927, device='cuda:0', grad_fn=<NllLossBackward>)\n",
      "0.3926973342895508\n"
     ]
    },
    {
     "name": "stderr",
     "output_type": "stream",
     "text": [
      "\n",
      "Iteration:   2%|█▌                                                                     | 9/415 [00:08<06:16,  1.08it/s]\u001b[A"
     ]
    },
    {
     "name": "stdout",
     "output_type": "stream",
     "text": [
      "tensor(0.2394, device='cuda:0', grad_fn=<NllLossBackward>)\n",
      "0.23935559391975403\n"
     ]
    },
    {
     "name": "stderr",
     "output_type": "stream",
     "text": [
      "\n",
      "Iteration:   2%|█▋                                                                    | 10/415 [00:09<06:09,  1.10it/s]\u001b[A"
     ]
    },
    {
     "name": "stdout",
     "output_type": "stream",
     "text": [
      "tensor(0.2257, device='cuda:0', grad_fn=<NllLossBackward>)\n",
      "0.22574374079704285\n"
     ]
    },
    {
     "name": "stderr",
     "output_type": "stream",
     "text": [
      "\n",
      "Iteration:   3%|█▊                                                                    | 11/415 [00:09<05:55,  1.14it/s]\u001b[A"
     ]
    },
    {
     "name": "stdout",
     "output_type": "stream",
     "text": [
      "tensor(0.1871, device='cuda:0', grad_fn=<NllLossBackward>)\n",
      "0.18712599575519562\n"
     ]
    },
    {
     "name": "stderr",
     "output_type": "stream",
     "text": [
      "\n",
      "Iteration:   3%|██                                                                    | 12/415 [00:10<05:48,  1.16it/s]\u001b[A"
     ]
    },
    {
     "name": "stdout",
     "output_type": "stream",
     "text": [
      "tensor(0.2425, device='cuda:0', grad_fn=<NllLossBackward>)\n",
      "0.24248886108398438\n"
     ]
    },
    {
     "name": "stderr",
     "output_type": "stream",
     "text": [
      "\n",
      "Iteration:   3%|██▏                                                                   | 13/415 [00:11<05:55,  1.13it/s]\u001b[A"
     ]
    },
    {
     "name": "stdout",
     "output_type": "stream",
     "text": [
      "tensor(0.1956, device='cuda:0', grad_fn=<NllLossBackward>)\n",
      "0.1955745965242386\n"
     ]
    },
    {
     "name": "stderr",
     "output_type": "stream",
     "text": [
      "\n",
      "Iteration:   3%|██▎                                                                   | 14/415 [00:12<05:52,  1.14it/s]\u001b[A"
     ]
    },
    {
     "name": "stdout",
     "output_type": "stream",
     "text": [
      "tensor(0.3457, device='cuda:0', grad_fn=<NllLossBackward>)\n",
      "0.3457479178905487\n"
     ]
    },
    {
     "name": "stderr",
     "output_type": "stream",
     "text": [
      "\n",
      "Iteration:   4%|██▌                                                                   | 15/415 [00:13<05:49,  1.14it/s]\u001b[A"
     ]
    },
    {
     "name": "stdout",
     "output_type": "stream",
     "text": [
      "tensor(0.2199, device='cuda:0', grad_fn=<NllLossBackward>)\n",
      "0.21989262104034424\n"
     ]
    },
    {
     "name": "stderr",
     "output_type": "stream",
     "text": [
      "\n",
      "Iteration:   4%|██▋                                                                   | 16/415 [00:14<05:55,  1.12it/s]\u001b[A"
     ]
    },
    {
     "name": "stdout",
     "output_type": "stream",
     "text": [
      "tensor(0.2056, device='cuda:0', grad_fn=<NllLossBackward>)\n",
      "0.2055608034133911\n"
     ]
    },
    {
     "name": "stderr",
     "output_type": "stream",
     "text": [
      "\n",
      "Iteration:   4%|██▊                                                                   | 17/415 [00:15<05:46,  1.15it/s]\u001b[A"
     ]
    },
    {
     "name": "stdout",
     "output_type": "stream",
     "text": [
      "tensor(0.1481, device='cuda:0', grad_fn=<NllLossBackward>)\n",
      "0.14809297025203705\n"
     ]
    },
    {
     "name": "stderr",
     "output_type": "stream",
     "text": [
      "\n",
      "Iteration:   4%|███                                                                   | 18/415 [00:16<05:44,  1.15it/s]\u001b[A"
     ]
    },
    {
     "name": "stdout",
     "output_type": "stream",
     "text": [
      "tensor(0.1930, device='cuda:0', grad_fn=<NllLossBackward>)\n",
      "0.19297797977924347\n"
     ]
    },
    {
     "name": "stderr",
     "output_type": "stream",
     "text": [
      "\n",
      "Iteration:   5%|███▏                                                                  | 19/415 [00:16<05:40,  1.16it/s]\u001b[A"
     ]
    },
    {
     "name": "stdout",
     "output_type": "stream",
     "text": [
      "tensor(0.2998, device='cuda:0', grad_fn=<NllLossBackward>)\n",
      "0.29976537823677063\n"
     ]
    },
    {
     "name": "stderr",
     "output_type": "stream",
     "text": [
      "\n",
      "Iteration:   5%|███▎                                                                  | 20/415 [00:17<05:37,  1.17it/s]\u001b[A"
     ]
    },
    {
     "name": "stdout",
     "output_type": "stream",
     "text": [
      "tensor(0.2367, device='cuda:0', grad_fn=<NllLossBackward>)\n",
      "0.23671913146972656\n"
     ]
    },
    {
     "name": "stderr",
     "output_type": "stream",
     "text": [
      "\n",
      "Iteration:   5%|███▌                                                                  | 21/415 [00:18<05:31,  1.19it/s]\u001b[A"
     ]
    },
    {
     "name": "stdout",
     "output_type": "stream",
     "text": [
      "tensor(0.1474, device='cuda:0', grad_fn=<NllLossBackward>)\n",
      "0.14743474125862122\n"
     ]
    },
    {
     "name": "stderr",
     "output_type": "stream",
     "text": [
      "\n",
      "Iteration:   5%|███▋                                                                  | 22/415 [00:19<05:30,  1.19it/s]\u001b[A"
     ]
    },
    {
     "name": "stdout",
     "output_type": "stream",
     "text": [
      "tensor(0.3198, device='cuda:0', grad_fn=<NllLossBackward>)\n",
      "0.3197553753852844\n"
     ]
    },
    {
     "name": "stderr",
     "output_type": "stream",
     "text": [
      "\n",
      "Iteration:   6%|███▉                                                                  | 23/415 [00:20<05:38,  1.16it/s]\u001b[A"
     ]
    },
    {
     "name": "stdout",
     "output_type": "stream",
     "text": [
      "tensor(0.3141, device='cuda:0', grad_fn=<NllLossBackward>)\n",
      "0.31409841775894165\n"
     ]
    },
    {
     "name": "stderr",
     "output_type": "stream",
     "text": [
      "\n",
      "Iteration:   6%|████                                                                  | 24/415 [00:21<05:34,  1.17it/s]\u001b[A"
     ]
    },
    {
     "name": "stdout",
     "output_type": "stream",
     "text": [
      "tensor(0.1434, device='cuda:0', grad_fn=<NllLossBackward>)\n",
      "0.14341703057289124\n"
     ]
    },
    {
     "name": "stderr",
     "output_type": "stream",
     "text": [
      "\n",
      "Iteration:   6%|████▏                                                                 | 25/415 [00:22<05:37,  1.15it/s]\u001b[A"
     ]
    },
    {
     "name": "stdout",
     "output_type": "stream",
     "text": [
      "tensor(0.1240, device='cuda:0', grad_fn=<NllLossBackward>)\n",
      "0.12402815371751785\n"
     ]
    },
    {
     "name": "stderr",
     "output_type": "stream",
     "text": [
      "\n",
      "Iteration:   6%|████▍                                                                 | 26/415 [00:22<05:32,  1.17it/s]\u001b[A"
     ]
    },
    {
     "name": "stdout",
     "output_type": "stream",
     "text": [
      "tensor(0.2636, device='cuda:0', grad_fn=<NllLossBackward>)\n",
      "0.2636430263519287\n"
     ]
    },
    {
     "name": "stderr",
     "output_type": "stream",
     "text": [
      "\n",
      "Iteration:   7%|████▌                                                                 | 27/415 [00:23<05:37,  1.15it/s]\u001b[A"
     ]
    },
    {
     "name": "stdout",
     "output_type": "stream",
     "text": [
      "tensor(0.2506, device='cuda:0', grad_fn=<NllLossBackward>)\n",
      "0.250591516494751\n"
     ]
    },
    {
     "name": "stderr",
     "output_type": "stream",
     "text": [
      "\n",
      "Iteration:   7%|████▋                                                                 | 28/415 [00:24<05:33,  1.16it/s]\u001b[A"
     ]
    },
    {
     "name": "stdout",
     "output_type": "stream",
     "text": [
      "tensor(0.1046, device='cuda:0', grad_fn=<NllLossBackward>)\n",
      "0.10464783012866974\n"
     ]
    },
    {
     "name": "stderr",
     "output_type": "stream",
     "text": [
      "\n",
      "Iteration:   7%|████▉                                                                 | 29/415 [00:25<05:28,  1.17it/s]\u001b[A"
     ]
    },
    {
     "name": "stdout",
     "output_type": "stream",
     "text": [
      "tensor(0.4281, device='cuda:0', grad_fn=<NllLossBackward>)\n",
      "0.42813119292259216\n"
     ]
    },
    {
     "name": "stderr",
     "output_type": "stream",
     "text": [
      "\n",
      "Iteration:   7%|█████                                                                 | 30/415 [00:26<05:30,  1.17it/s]\u001b[A"
     ]
    },
    {
     "name": "stdout",
     "output_type": "stream",
     "text": [
      "tensor(0.1927, device='cuda:0', grad_fn=<NllLossBackward>)\n",
      "0.19265799224376678\n"
     ]
    },
    {
     "name": "stderr",
     "output_type": "stream",
     "text": [
      "\n",
      "Iteration:   7%|█████▏                                                                | 31/415 [00:27<05:26,  1.17it/s]\u001b[A"
     ]
    },
    {
     "name": "stdout",
     "output_type": "stream",
     "text": [
      "tensor(0.0917, device='cuda:0', grad_fn=<NllLossBackward>)\n",
      "0.09173250198364258\n"
     ]
    },
    {
     "name": "stderr",
     "output_type": "stream",
     "text": [
      "\n",
      "Iteration:   8%|█████▍                                                                | 32/415 [00:27<05:24,  1.18it/s]\u001b[A"
     ]
    },
    {
     "name": "stdout",
     "output_type": "stream",
     "text": [
      "tensor(0.2201, device='cuda:0', grad_fn=<NllLossBackward>)\n",
      "0.22005632519721985\n"
     ]
    },
    {
     "name": "stderr",
     "output_type": "stream",
     "text": [
      "\n",
      "Iteration:   8%|█████▌                                                                | 33/415 [00:28<05:22,  1.19it/s]\u001b[A"
     ]
    },
    {
     "name": "stdout",
     "output_type": "stream",
     "text": [
      "tensor(0.1685, device='cuda:0', grad_fn=<NllLossBackward>)\n",
      "0.16854660212993622\n"
     ]
    },
    {
     "name": "stderr",
     "output_type": "stream",
     "text": [
      "\n",
      "Iteration:   8%|█████▋                                                                | 34/415 [00:29<05:20,  1.19it/s]\u001b[A"
     ]
    },
    {
     "name": "stdout",
     "output_type": "stream",
     "text": [
      "tensor(0.0838, device='cuda:0', grad_fn=<NllLossBackward>)\n",
      "0.08382651209831238\n"
     ]
    },
    {
     "name": "stderr",
     "output_type": "stream",
     "text": [
      "\n",
      "Iteration:   8%|█████▉                                                                | 35/415 [00:30<05:20,  1.19it/s]\u001b[A"
     ]
    },
    {
     "name": "stdout",
     "output_type": "stream",
     "text": [
      "tensor(0.2585, device='cuda:0', grad_fn=<NllLossBackward>)\n",
      "0.2585252821445465\n"
     ]
    },
    {
     "name": "stderr",
     "output_type": "stream",
     "text": [
      "\n",
      "Iteration:   9%|██████                                                                | 36/415 [00:31<05:17,  1.19it/s]\u001b[A"
     ]
    },
    {
     "name": "stdout",
     "output_type": "stream",
     "text": [
      "tensor(0.2213, device='cuda:0', grad_fn=<NllLossBackward>)\n",
      "0.2213335782289505\n"
     ]
    },
    {
     "name": "stderr",
     "output_type": "stream",
     "text": [
      "\n",
      "Iteration:   9%|██████▏                                                               | 37/415 [00:32<05:26,  1.16it/s]\u001b[A"
     ]
    },
    {
     "name": "stdout",
     "output_type": "stream",
     "text": [
      "tensor(0.3020, device='cuda:0', grad_fn=<NllLossBackward>)\n",
      "0.3019627034664154\n"
     ]
    },
    {
     "name": "stderr",
     "output_type": "stream",
     "text": [
      "\n",
      "Iteration:   9%|██████▍                                                               | 38/415 [00:33<05:30,  1.14it/s]\u001b[A"
     ]
    },
    {
     "name": "stdout",
     "output_type": "stream",
     "text": [
      "tensor(0.1807, device='cuda:0', grad_fn=<NllLossBackward>)\n",
      "0.1807018369436264\n"
     ]
    },
    {
     "name": "stderr",
     "output_type": "stream",
     "text": [
      "\n",
      "Iteration:   9%|██████▌                                                               | 39/415 [00:33<05:20,  1.17it/s]\u001b[A"
     ]
    },
    {
     "name": "stdout",
     "output_type": "stream",
     "text": [
      "tensor(0.1667, device='cuda:0', grad_fn=<NllLossBackward>)\n",
      "0.16673293709754944\n"
     ]
    },
    {
     "name": "stderr",
     "output_type": "stream",
     "text": [
      "\n",
      "Iteration:  10%|██████▋                                                               | 40/415 [00:34<05:19,  1.17it/s]\u001b[A"
     ]
    },
    {
     "name": "stdout",
     "output_type": "stream",
     "text": [
      "tensor(0.2152, device='cuda:0', grad_fn=<NllLossBackward>)\n",
      "0.21522004902362823\n"
     ]
    },
    {
     "name": "stderr",
     "output_type": "stream",
     "text": [
      "\n",
      "Iteration:  10%|██████▉                                                               | 41/415 [00:35<05:27,  1.14it/s]\u001b[A"
     ]
    },
    {
     "name": "stdout",
     "output_type": "stream",
     "text": [
      "tensor(0.4862, device='cuda:0', grad_fn=<NllLossBackward>)\n",
      "0.48616087436676025\n"
     ]
    },
    {
     "name": "stderr",
     "output_type": "stream",
     "text": [
      "\n",
      "Iteration:  10%|███████                                                               | 42/415 [00:36<05:39,  1.10it/s]\u001b[A"
     ]
    },
    {
     "name": "stdout",
     "output_type": "stream",
     "text": [
      "tensor(0.1990, device='cuda:0', grad_fn=<NllLossBackward>)\n",
      "0.1989685744047165\n"
     ]
    },
    {
     "name": "stderr",
     "output_type": "stream",
     "text": [
      "\n",
      "Iteration:  10%|███████▎                                                              | 43/415 [00:37<05:51,  1.06it/s]\u001b[A"
     ]
    },
    {
     "name": "stdout",
     "output_type": "stream",
     "text": [
      "tensor(0.2464, device='cuda:0', grad_fn=<NllLossBackward>)\n",
      "0.24642440676689148\n"
     ]
    },
    {
     "name": "stderr",
     "output_type": "stream",
     "text": [
      "\n",
      "Iteration:  11%|███████▍                                                              | 44/415 [00:38<05:41,  1.09it/s]\u001b[A"
     ]
    },
    {
     "name": "stdout",
     "output_type": "stream",
     "text": [
      "tensor(0.3453, device='cuda:0', grad_fn=<NllLossBackward>)\n",
      "0.3453190326690674\n"
     ]
    },
    {
     "name": "stderr",
     "output_type": "stream",
     "text": [
      "\n",
      "Iteration:  11%|███████▌                                                              | 45/415 [00:39<05:28,  1.12it/s]\u001b[A"
     ]
    },
    {
     "name": "stdout",
     "output_type": "stream",
     "text": [
      "tensor(0.2372, device='cuda:0', grad_fn=<NllLossBackward>)\n",
      "0.23720183968544006\n"
     ]
    },
    {
     "name": "stderr",
     "output_type": "stream",
     "text": [
      "\n",
      "Iteration:  11%|███████▊                                                              | 46/415 [00:40<05:44,  1.07it/s]\u001b[A"
     ]
    },
    {
     "name": "stdout",
     "output_type": "stream",
     "text": [
      "tensor(0.2409, device='cuda:0', grad_fn=<NllLossBackward>)\n",
      "0.24085965752601624\n"
     ]
    },
    {
     "name": "stderr",
     "output_type": "stream",
     "text": [
      "\n",
      "Iteration:  11%|███████▉                                                              | 47/415 [00:41<05:41,  1.08it/s]\u001b[A"
     ]
    },
    {
     "name": "stdout",
     "output_type": "stream",
     "text": [
      "tensor(0.2466, device='cuda:0', grad_fn=<NllLossBackward>)\n",
      "0.24662016332149506\n"
     ]
    },
    {
     "name": "stderr",
     "output_type": "stream",
     "text": [
      "\n",
      "Iteration:  12%|████████                                                              | 48/415 [00:42<05:29,  1.11it/s]\u001b[A"
     ]
    },
    {
     "name": "stdout",
     "output_type": "stream",
     "text": [
      "tensor(0.1391, device='cuda:0', grad_fn=<NllLossBackward>)\n",
      "0.1390610933303833\n"
     ]
    },
    {
     "name": "stderr",
     "output_type": "stream",
     "text": [
      "\n",
      "Iteration:  12%|████████▎                                                             | 49/415 [00:43<05:26,  1.12it/s]\u001b[A"
     ]
    },
    {
     "name": "stdout",
     "output_type": "stream",
     "text": [
      "tensor(0.1178, device='cuda:0', grad_fn=<NllLossBackward>)\n",
      "0.11784200370311737\n"
     ]
    },
    {
     "name": "stderr",
     "output_type": "stream",
     "text": [
      "\n",
      "Iteration:  12%|████████▍                                                             | 50/415 [00:43<05:23,  1.13it/s]\u001b[A"
     ]
    },
    {
     "name": "stdout",
     "output_type": "stream",
     "text": [
      "tensor(0.1641, device='cuda:0', grad_fn=<NllLossBackward>)\n",
      "0.16405647993087769\n"
     ]
    },
    {
     "name": "stderr",
     "output_type": "stream",
     "text": [
      "\n",
      "Iteration:  12%|████████▌                                                             | 51/415 [00:44<05:14,  1.16it/s]\u001b[A"
     ]
    },
    {
     "name": "stdout",
     "output_type": "stream",
     "text": [
      "tensor(0.1875, device='cuda:0', grad_fn=<NllLossBackward>)\n",
      "0.18747664988040924\n"
     ]
    },
    {
     "name": "stderr",
     "output_type": "stream",
     "text": [
      "\n",
      "Iteration:  13%|████████▊                                                             | 52/415 [00:45<05:21,  1.13it/s]\u001b[A"
     ]
    },
    {
     "name": "stdout",
     "output_type": "stream",
     "text": [
      "tensor(0.2062, device='cuda:0', grad_fn=<NllLossBackward>)\n",
      "0.20616617798805237\n"
     ]
    },
    {
     "name": "stderr",
     "output_type": "stream",
     "text": [
      "\n",
      "Iteration:  13%|████████▉                                                             | 53/415 [00:46<05:12,  1.16it/s]\u001b[A"
     ]
    },
    {
     "name": "stdout",
     "output_type": "stream",
     "text": [
      "tensor(0.0737, device='cuda:0', grad_fn=<NllLossBackward>)\n",
      "0.07368841767311096\n"
     ]
    },
    {
     "name": "stderr",
     "output_type": "stream",
     "text": [
      "\n",
      "Iteration:  13%|█████████                                                             | 54/415 [00:47<05:05,  1.18it/s]\u001b[A"
     ]
    },
    {
     "name": "stdout",
     "output_type": "stream",
     "text": [
      "tensor(0.1528, device='cuda:0', grad_fn=<NllLossBackward>)\n",
      "0.15276768803596497\n"
     ]
    },
    {
     "name": "stderr",
     "output_type": "stream",
     "text": [
      "\n",
      "Iteration:  13%|█████████▎                                                            | 55/415 [00:48<05:10,  1.16it/s]\u001b[A"
     ]
    },
    {
     "name": "stdout",
     "output_type": "stream",
     "text": [
      "tensor(0.3444, device='cuda:0', grad_fn=<NllLossBackward>)\n",
      "0.3443973660469055\n"
     ]
    },
    {
     "name": "stderr",
     "output_type": "stream",
     "text": [
      "\n",
      "Iteration:  13%|█████████▍                                                            | 56/415 [00:49<05:07,  1.17it/s]\u001b[A"
     ]
    },
    {
     "name": "stdout",
     "output_type": "stream",
     "text": [
      "tensor(0.3605, device='cuda:0', grad_fn=<NllLossBackward>)\n",
      "0.36047783493995667\n"
     ]
    },
    {
     "name": "stderr",
     "output_type": "stream",
     "text": [
      "\n",
      "Iteration:  14%|█████████▌                                                            | 57/415 [00:49<05:03,  1.18it/s]\u001b[A"
     ]
    },
    {
     "name": "stdout",
     "output_type": "stream",
     "text": [
      "tensor(0.0966, device='cuda:0', grad_fn=<NllLossBackward>)\n",
      "0.09664653241634369\n"
     ]
    },
    {
     "name": "stderr",
     "output_type": "stream",
     "text": [
      "\n",
      "Iteration:  14%|█████████▊                                                            | 58/415 [00:50<05:06,  1.16it/s]\u001b[A"
     ]
    },
    {
     "name": "stdout",
     "output_type": "stream",
     "text": [
      "tensor(0.2355, device='cuda:0', grad_fn=<NllLossBackward>)\n",
      "0.23547416925430298\n"
     ]
    },
    {
     "name": "stderr",
     "output_type": "stream",
     "text": [
      "\n",
      "Iteration:  14%|█████████▉                                                            | 59/415 [00:51<05:03,  1.17it/s]\u001b[A"
     ]
    },
    {
     "name": "stdout",
     "output_type": "stream",
     "text": [
      "tensor(0.2828, device='cuda:0', grad_fn=<NllLossBackward>)\n",
      "0.28283587098121643\n"
     ]
    },
    {
     "name": "stderr",
     "output_type": "stream",
     "text": [
      "\n",
      "Iteration:  14%|██████████                                                            | 60/415 [00:52<05:11,  1.14it/s]\u001b[A"
     ]
    },
    {
     "name": "stdout",
     "output_type": "stream",
     "text": [
      "tensor(0.2852, device='cuda:0', grad_fn=<NllLossBackward>)\n",
      "0.2851908802986145\n"
     ]
    },
    {
     "name": "stderr",
     "output_type": "stream",
     "text": [
      "\n",
      "Iteration:  15%|██████████▎                                                           | 61/415 [00:53<05:11,  1.14it/s]\u001b[A"
     ]
    },
    {
     "name": "stdout",
     "output_type": "stream",
     "text": [
      "tensor(0.0643, device='cuda:0', grad_fn=<NllLossBackward>)\n",
      "0.06426860392093658\n"
     ]
    },
    {
     "name": "stderr",
     "output_type": "stream",
     "text": [
      "\n",
      "Iteration:  15%|██████████▍                                                           | 62/415 [00:54<05:07,  1.15it/s]\u001b[A"
     ]
    },
    {
     "name": "stdout",
     "output_type": "stream",
     "text": [
      "tensor(0.1635, device='cuda:0', grad_fn=<NllLossBackward>)\n",
      "0.1634899377822876\n"
     ]
    },
    {
     "name": "stderr",
     "output_type": "stream",
     "text": [
      "\n",
      "Iteration:  15%|██████████▋                                                           | 63/415 [00:55<05:03,  1.16it/s]\u001b[A"
     ]
    },
    {
     "name": "stdout",
     "output_type": "stream",
     "text": [
      "tensor(0.3225, device='cuda:0', grad_fn=<NllLossBackward>)\n",
      "0.3224501311779022\n"
     ]
    },
    {
     "name": "stderr",
     "output_type": "stream",
     "text": [
      "\n",
      "Iteration:  15%|██████████▊                                                           | 64/415 [00:55<04:59,  1.17it/s]\u001b[A"
     ]
    },
    {
     "name": "stdout",
     "output_type": "stream",
     "text": [
      "tensor(0.1049, device='cuda:0', grad_fn=<NllLossBackward>)\n",
      "0.10488291084766388\n"
     ]
    },
    {
     "name": "stderr",
     "output_type": "stream",
     "text": [
      "\n",
      "Iteration:  16%|██████████▉                                                           | 65/415 [00:56<04:56,  1.18it/s]\u001b[A"
     ]
    },
    {
     "name": "stdout",
     "output_type": "stream",
     "text": [
      "tensor(0.2297, device='cuda:0', grad_fn=<NllLossBackward>)\n",
      "0.22967804968357086\n"
     ]
    },
    {
     "name": "stderr",
     "output_type": "stream",
     "text": [
      "\n",
      "Iteration:  16%|███████████▏                                                          | 66/415 [00:57<04:57,  1.17it/s]\u001b[A"
     ]
    },
    {
     "name": "stdout",
     "output_type": "stream",
     "text": [
      "tensor(0.2356, device='cuda:0', grad_fn=<NllLossBackward>)\n",
      "0.2355562299489975\n"
     ]
    },
    {
     "name": "stderr",
     "output_type": "stream",
     "text": [
      "\n",
      "Iteration:  16%|███████████▎                                                          | 67/415 [00:58<05:04,  1.14it/s]\u001b[A"
     ]
    },
    {
     "name": "stdout",
     "output_type": "stream",
     "text": [
      "tensor(0.3270, device='cuda:0', grad_fn=<NllLossBackward>)\n",
      "0.3270188868045807\n"
     ]
    },
    {
     "name": "stderr",
     "output_type": "stream",
     "text": [
      "\n",
      "Iteration:  16%|███████████▍                                                          | 68/415 [00:59<05:03,  1.14it/s]\u001b[A"
     ]
    },
    {
     "name": "stdout",
     "output_type": "stream",
     "text": [
      "tensor(0.3613, device='cuda:0', grad_fn=<NllLossBackward>)\n",
      "0.3613283038139343\n"
     ]
    },
    {
     "name": "stderr",
     "output_type": "stream",
     "text": [
      "\n",
      "Iteration:  17%|███████████▋                                                          | 69/415 [01:00<05:01,  1.15it/s]\u001b[A"
     ]
    },
    {
     "name": "stdout",
     "output_type": "stream",
     "text": [
      "tensor(0.3053, device='cuda:0', grad_fn=<NllLossBackward>)\n",
      "0.30526411533355713\n"
     ]
    },
    {
     "name": "stderr",
     "output_type": "stream",
     "text": [
      "\n",
      "Iteration:  17%|███████████▊                                                          | 70/415 [01:01<04:57,  1.16it/s]\u001b[A"
     ]
    },
    {
     "name": "stdout",
     "output_type": "stream",
     "text": [
      "tensor(0.4140, device='cuda:0', grad_fn=<NllLossBackward>)\n",
      "0.4139597415924072\n"
     ]
    },
    {
     "name": "stderr",
     "output_type": "stream",
     "text": [
      "\n",
      "Iteration:  17%|███████████▉                                                          | 71/415 [01:01<04:52,  1.18it/s]\u001b[A"
     ]
    },
    {
     "name": "stdout",
     "output_type": "stream",
     "text": [
      "tensor(0.1930, device='cuda:0', grad_fn=<NllLossBackward>)\n",
      "0.19297918677330017\n"
     ]
    },
    {
     "name": "stderr",
     "output_type": "stream",
     "text": [
      "\n",
      "Iteration:  17%|████████████▏                                                         | 72/415 [01:02<04:57,  1.15it/s]\u001b[A"
     ]
    },
    {
     "name": "stdout",
     "output_type": "stream",
     "text": [
      "tensor(0.2324, device='cuda:0', grad_fn=<NllLossBackward>)\n",
      "0.2324027270078659\n"
     ]
    },
    {
     "name": "stderr",
     "output_type": "stream",
     "text": [
      "\n",
      "Iteration:  18%|████████████▎                                                         | 73/415 [01:03<04:52,  1.17it/s]\u001b[A"
     ]
    },
    {
     "name": "stdout",
     "output_type": "stream",
     "text": [
      "tensor(0.2524, device='cuda:0', grad_fn=<NllLossBackward>)\n",
      "0.252422571182251\n"
     ]
    },
    {
     "name": "stderr",
     "output_type": "stream",
     "text": [
      "\n",
      "Iteration:  18%|████████████▍                                                         | 74/415 [01:04<04:58,  1.14it/s]\u001b[A"
     ]
    },
    {
     "name": "stdout",
     "output_type": "stream",
     "text": [
      "tensor(0.2184, device='cuda:0', grad_fn=<NllLossBackward>)\n",
      "0.21840175986289978\n"
     ]
    },
    {
     "name": "stderr",
     "output_type": "stream",
     "text": [
      "\n",
      "Iteration:  18%|████████████▋                                                         | 75/415 [01:05<04:52,  1.16it/s]\u001b[A"
     ]
    },
    {
     "name": "stdout",
     "output_type": "stream",
     "text": [
      "tensor(0.1840, device='cuda:0', grad_fn=<NllLossBackward>)\n",
      "0.18399061262607574\n"
     ]
    },
    {
     "name": "stderr",
     "output_type": "stream",
     "text": [
      "\n",
      "Iteration:  18%|████████████▊                                                         | 76/415 [01:06<04:53,  1.16it/s]\u001b[A"
     ]
    },
    {
     "name": "stdout",
     "output_type": "stream",
     "text": [
      "tensor(0.2910, device='cuda:0', grad_fn=<NllLossBackward>)\n",
      "0.29104170203208923\n"
     ]
    },
    {
     "name": "stderr",
     "output_type": "stream",
     "text": [
      "\n",
      "Iteration:  19%|████████████▉                                                         | 77/415 [01:07<04:52,  1.16it/s]\u001b[A"
     ]
    },
    {
     "name": "stdout",
     "output_type": "stream",
     "text": [
      "tensor(0.3554, device='cuda:0', grad_fn=<NllLossBackward>)\n",
      "0.3553791344165802\n"
     ]
    },
    {
     "name": "stderr",
     "output_type": "stream",
     "text": [
      "\n",
      "Iteration:  19%|█████████████▏                                                        | 78/415 [01:08<04:55,  1.14it/s]\u001b[A"
     ]
    },
    {
     "name": "stdout",
     "output_type": "stream",
     "text": [
      "tensor(0.2271, device='cuda:0', grad_fn=<NllLossBackward>)\n",
      "0.22713004052639008\n"
     ]
    },
    {
     "name": "stderr",
     "output_type": "stream",
     "text": [
      "\n",
      "Iteration:  19%|█████████████▎                                                        | 79/415 [01:08<04:49,  1.16it/s]\u001b[A"
     ]
    },
    {
     "name": "stdout",
     "output_type": "stream",
     "text": [
      "tensor(0.1899, device='cuda:0', grad_fn=<NllLossBackward>)\n",
      "0.18991927802562714\n"
     ]
    },
    {
     "name": "stderr",
     "output_type": "stream",
     "text": [
      "\n",
      "Iteration:  19%|█████████████▍                                                        | 80/415 [01:09<04:52,  1.14it/s]\u001b[A"
     ]
    },
    {
     "name": "stdout",
     "output_type": "stream",
     "text": [
      "tensor(0.2036, device='cuda:0', grad_fn=<NllLossBackward>)\n",
      "0.2036193609237671\n"
     ]
    },
    {
     "name": "stderr",
     "output_type": "stream",
     "text": [
      "\n",
      "Iteration:  20%|█████████████▋                                                        | 81/415 [01:10<04:45,  1.17it/s]\u001b[A"
     ]
    },
    {
     "name": "stdout",
     "output_type": "stream",
     "text": [
      "tensor(0.2391, device='cuda:0', grad_fn=<NllLossBackward>)\n",
      "0.23908549547195435\n"
     ]
    },
    {
     "name": "stderr",
     "output_type": "stream",
     "text": [
      "\n",
      "Iteration:  20%|█████████████▊                                                        | 82/415 [01:11<04:40,  1.19it/s]\u001b[A"
     ]
    },
    {
     "name": "stdout",
     "output_type": "stream",
     "text": [
      "tensor(0.1370, device='cuda:0', grad_fn=<NllLossBackward>)\n",
      "0.13697661459445953\n"
     ]
    },
    {
     "name": "stderr",
     "output_type": "stream",
     "text": [
      "\n",
      "Iteration:  20%|██████████████                                                        | 83/415 [01:12<04:53,  1.13it/s]\u001b[A"
     ]
    },
    {
     "name": "stdout",
     "output_type": "stream",
     "text": [
      "tensor(0.3205, device='cuda:0', grad_fn=<NllLossBackward>)\n",
      "0.3205186724662781\n"
     ]
    },
    {
     "name": "stderr",
     "output_type": "stream",
     "text": [
      "\n",
      "Iteration:  20%|██████████████▏                                                       | 84/415 [01:13<04:47,  1.15it/s]\u001b[A"
     ]
    },
    {
     "name": "stdout",
     "output_type": "stream",
     "text": [
      "tensor(0.1519, device='cuda:0', grad_fn=<NllLossBackward>)\n",
      "0.15194033086299896\n"
     ]
    },
    {
     "name": "stderr",
     "output_type": "stream",
     "text": [
      "\n",
      "Iteration:  20%|██████████████▎                                                       | 85/415 [01:14<04:41,  1.17it/s]\u001b[A"
     ]
    },
    {
     "name": "stdout",
     "output_type": "stream",
     "text": [
      "tensor(0.2149, device='cuda:0', grad_fn=<NllLossBackward>)\n",
      "0.21493732929229736\n"
     ]
    },
    {
     "name": "stderr",
     "output_type": "stream",
     "text": [
      "\n",
      "Iteration:  21%|██████████████▌                                                       | 86/415 [01:14<04:39,  1.18it/s]\u001b[A"
     ]
    },
    {
     "name": "stdout",
     "output_type": "stream",
     "text": [
      "tensor(0.2531, device='cuda:0', grad_fn=<NllLossBackward>)\n",
      "0.2531411349773407\n"
     ]
    },
    {
     "name": "stderr",
     "output_type": "stream",
     "text": [
      "\n",
      "Iteration:  21%|██████████████▋                                                       | 87/415 [01:15<04:36,  1.19it/s]\u001b[A"
     ]
    },
    {
     "name": "stdout",
     "output_type": "stream",
     "text": [
      "tensor(0.1057, device='cuda:0', grad_fn=<NllLossBackward>)\n",
      "0.10566097497940063\n"
     ]
    },
    {
     "name": "stderr",
     "output_type": "stream",
     "text": [
      "\n",
      "Iteration:  21%|██████████████▊                                                       | 88/415 [01:16<04:34,  1.19it/s]\u001b[A"
     ]
    },
    {
     "name": "stdout",
     "output_type": "stream",
     "text": [
      "tensor(0.1232, device='cuda:0', grad_fn=<NllLossBackward>)\n",
      "0.12321107089519501\n"
     ]
    },
    {
     "name": "stderr",
     "output_type": "stream",
     "text": [
      "\n",
      "Iteration:  21%|███████████████                                                       | 89/415 [01:17<04:46,  1.14it/s]\u001b[A"
     ]
    },
    {
     "name": "stdout",
     "output_type": "stream",
     "text": [
      "tensor(0.1842, device='cuda:0', grad_fn=<NllLossBackward>)\n",
      "0.1842420995235443\n"
     ]
    },
    {
     "name": "stderr",
     "output_type": "stream",
     "text": [
      "\n",
      "Iteration:  22%|███████████████▏                                                      | 90/415 [01:18<04:43,  1.15it/s]\u001b[A"
     ]
    },
    {
     "name": "stdout",
     "output_type": "stream",
     "text": [
      "tensor(0.2053, device='cuda:0', grad_fn=<NllLossBackward>)\n",
      "0.20527014136314392\n"
     ]
    },
    {
     "name": "stderr",
     "output_type": "stream",
     "text": [
      "\n",
      "Iteration:  22%|███████████████▎                                                      | 91/415 [01:19<04:38,  1.16it/s]\u001b[A"
     ]
    },
    {
     "name": "stdout",
     "output_type": "stream",
     "text": [
      "tensor(0.3357, device='cuda:0', grad_fn=<NllLossBackward>)\n",
      "0.335728257894516\n"
     ]
    },
    {
     "name": "stderr",
     "output_type": "stream",
     "text": [
      "\n",
      "Iteration:  22%|███████████████▌                                                      | 92/415 [01:20<04:48,  1.12it/s]\u001b[A"
     ]
    },
    {
     "name": "stdout",
     "output_type": "stream",
     "text": [
      "tensor(0.1186, device='cuda:0', grad_fn=<NllLossBackward>)\n",
      "0.11862564831972122\n"
     ]
    },
    {
     "name": "stderr",
     "output_type": "stream",
     "text": [
      "\n",
      "Iteration:  22%|███████████████▋                                                      | 93/415 [01:21<04:42,  1.14it/s]\u001b[A"
     ]
    },
    {
     "name": "stdout",
     "output_type": "stream",
     "text": [
      "tensor(0.2802, device='cuda:0', grad_fn=<NllLossBackward>)\n",
      "0.28020766377449036\n"
     ]
    },
    {
     "name": "stderr",
     "output_type": "stream",
     "text": [
      "\n",
      "Iteration:  23%|███████████████▊                                                      | 94/415 [01:21<04:36,  1.16it/s]\u001b[A"
     ]
    },
    {
     "name": "stdout",
     "output_type": "stream",
     "text": [
      "tensor(0.0976, device='cuda:0', grad_fn=<NllLossBackward>)\n",
      "0.097634457051754\n"
     ]
    },
    {
     "name": "stderr",
     "output_type": "stream",
     "text": [
      "\n",
      "Iteration:  23%|████████████████                                                      | 95/415 [01:22<04:38,  1.15it/s]\u001b[A"
     ]
    },
    {
     "name": "stdout",
     "output_type": "stream",
     "text": [
      "tensor(0.2329, device='cuda:0', grad_fn=<NllLossBackward>)\n",
      "0.23285122215747833\n"
     ]
    },
    {
     "name": "stderr",
     "output_type": "stream",
     "text": [
      "\n",
      "Iteration:  23%|████████████████▏                                                     | 96/415 [01:23<04:40,  1.14it/s]\u001b[A"
     ]
    },
    {
     "name": "stdout",
     "output_type": "stream",
     "text": [
      "tensor(0.1724, device='cuda:0', grad_fn=<NllLossBackward>)\n",
      "0.17240272462368011\n"
     ]
    },
    {
     "name": "stderr",
     "output_type": "stream",
     "text": [
      "\n",
      "Iteration:  23%|████████████████▎                                                     | 97/415 [01:24<04:46,  1.11it/s]\u001b[A"
     ]
    },
    {
     "name": "stdout",
     "output_type": "stream",
     "text": [
      "tensor(0.1015, device='cuda:0', grad_fn=<NllLossBackward>)\n",
      "0.10154534131288528\n"
     ]
    },
    {
     "name": "stderr",
     "output_type": "stream",
     "text": [
      "\n",
      "Iteration:  24%|████████████████▌                                                     | 98/415 [01:25<04:42,  1.12it/s]\u001b[A"
     ]
    },
    {
     "name": "stdout",
     "output_type": "stream",
     "text": [
      "tensor(0.2529, device='cuda:0', grad_fn=<NllLossBackward>)\n",
      "0.2528682351112366\n"
     ]
    },
    {
     "name": "stderr",
     "output_type": "stream",
     "text": [
      "\n",
      "Iteration:  24%|████████████████▋                                                     | 99/415 [01:26<04:39,  1.13it/s]\u001b[A"
     ]
    },
    {
     "name": "stdout",
     "output_type": "stream",
     "text": [
      "tensor(0.2133, device='cuda:0', grad_fn=<NllLossBackward>)\n",
      "0.21334585547447205\n"
     ]
    },
    {
     "name": "stderr",
     "output_type": "stream",
     "text": [
      "\n",
      "Iteration:  24%|████████████████▋                                                    | 100/415 [01:27<04:37,  1.14it/s]\u001b[A"
     ]
    },
    {
     "name": "stdout",
     "output_type": "stream",
     "text": [
      "tensor(0.3484, device='cuda:0', grad_fn=<NllLossBackward>)\n",
      "0.3483788073062897\n"
     ]
    },
    {
     "name": "stderr",
     "output_type": "stream",
     "text": [
      "\n",
      "Iteration:  24%|████████████████▊                                                    | 101/415 [01:28<04:33,  1.15it/s]\u001b[A"
     ]
    },
    {
     "name": "stdout",
     "output_type": "stream",
     "text": [
      "tensor(0.1511, device='cuda:0', grad_fn=<NllLossBackward>)\n",
      "0.15112601220607758\n"
     ]
    },
    {
     "name": "stderr",
     "output_type": "stream",
     "text": [
      "\n",
      "Iteration:  25%|████████████████▉                                                    | 102/415 [01:28<04:35,  1.13it/s]\u001b[A"
     ]
    },
    {
     "name": "stdout",
     "output_type": "stream",
     "text": [
      "tensor(0.2639, device='cuda:0', grad_fn=<NllLossBackward>)\n",
      "0.263948917388916\n"
     ]
    },
    {
     "name": "stderr",
     "output_type": "stream",
     "text": [
      "\n",
      "Iteration:  25%|█████████████████▏                                                   | 103/415 [01:29<04:29,  1.16it/s]\u001b[A"
     ]
    },
    {
     "name": "stdout",
     "output_type": "stream",
     "text": [
      "tensor(0.2775, device='cuda:0', grad_fn=<NllLossBackward>)\n",
      "0.277502179145813\n"
     ]
    },
    {
     "name": "stderr",
     "output_type": "stream",
     "text": [
      "\n",
      "Iteration:  25%|█████████████████▎                                                   | 104/415 [01:30<04:26,  1.17it/s]\u001b[A"
     ]
    },
    {
     "name": "stdout",
     "output_type": "stream",
     "text": [
      "tensor(0.1936, device='cuda:0', grad_fn=<NllLossBackward>)\n",
      "0.19363613426685333\n"
     ]
    },
    {
     "name": "stderr",
     "output_type": "stream",
     "text": [
      "\n",
      "Iteration:  25%|█████████████████▍                                                   | 105/415 [01:31<04:28,  1.16it/s]\u001b[A"
     ]
    },
    {
     "name": "stdout",
     "output_type": "stream",
     "text": [
      "tensor(0.3652, device='cuda:0', grad_fn=<NllLossBackward>)\n",
      "0.3652426600456238\n"
     ]
    },
    {
     "name": "stderr",
     "output_type": "stream",
     "text": [
      "\n",
      "Iteration:  26%|█████████████████▌                                                   | 106/415 [01:32<04:26,  1.16it/s]\u001b[A"
     ]
    },
    {
     "name": "stdout",
     "output_type": "stream",
     "text": [
      "tensor(0.3099, device='cuda:0', grad_fn=<NllLossBackward>)\n",
      "0.30986425280570984\n"
     ]
    },
    {
     "name": "stderr",
     "output_type": "stream",
     "text": [
      "\n",
      "Iteration:  26%|█████████████████▊                                                   | 107/415 [01:33<04:32,  1.13it/s]\u001b[A"
     ]
    },
    {
     "name": "stdout",
     "output_type": "stream",
     "text": [
      "tensor(0.1726, device='cuda:0', grad_fn=<NllLossBackward>)\n",
      "0.1725752055644989\n"
     ]
    },
    {
     "name": "stderr",
     "output_type": "stream",
     "text": [
      "\n",
      "Iteration:  26%|█████████████████▉                                                   | 108/415 [01:34<04:28,  1.15it/s]\u001b[A"
     ]
    },
    {
     "name": "stdout",
     "output_type": "stream",
     "text": [
      "tensor(0.1327, device='cuda:0', grad_fn=<NllLossBackward>)\n",
      "0.1326749324798584\n"
     ]
    },
    {
     "name": "stderr",
     "output_type": "stream",
     "text": [
      "\n",
      "Iteration:  26%|██████████████████                                                   | 109/415 [01:34<04:21,  1.17it/s]\u001b[A"
     ]
    },
    {
     "name": "stdout",
     "output_type": "stream",
     "text": [
      "tensor(0.1443, device='cuda:0', grad_fn=<NllLossBackward>)\n",
      "0.144348606467247\n"
     ]
    },
    {
     "name": "stderr",
     "output_type": "stream",
     "text": [
      "\n",
      "Iteration:  27%|██████████████████▎                                                  | 110/415 [01:35<04:19,  1.18it/s]\u001b[A"
     ]
    },
    {
     "name": "stdout",
     "output_type": "stream",
     "text": [
      "tensor(0.2844, device='cuda:0', grad_fn=<NllLossBackward>)\n",
      "0.28440889716148376\n"
     ]
    },
    {
     "name": "stderr",
     "output_type": "stream",
     "text": [
      "\n",
      "Iteration:  27%|██████████████████▍                                                  | 111/415 [01:36<04:20,  1.17it/s]\u001b[A"
     ]
    },
    {
     "name": "stdout",
     "output_type": "stream",
     "text": [
      "tensor(0.1520, device='cuda:0', grad_fn=<NllLossBackward>)\n",
      "0.15197373926639557\n"
     ]
    },
    {
     "name": "stderr",
     "output_type": "stream",
     "text": [
      "\n",
      "Iteration:  27%|██████████████████▌                                                  | 112/415 [01:37<04:23,  1.15it/s]\u001b[A"
     ]
    },
    {
     "name": "stdout",
     "output_type": "stream",
     "text": [
      "tensor(0.1616, device='cuda:0', grad_fn=<NllLossBackward>)\n",
      "0.16158926486968994\n"
     ]
    },
    {
     "name": "stderr",
     "output_type": "stream",
     "text": [
      "\n",
      "Iteration:  27%|██████████████████▊                                                  | 113/415 [01:38<04:29,  1.12it/s]\u001b[A"
     ]
    },
    {
     "name": "stdout",
     "output_type": "stream",
     "text": [
      "tensor(0.1750, device='cuda:0', grad_fn=<NllLossBackward>)\n",
      "0.1749788224697113\n"
     ]
    },
    {
     "name": "stderr",
     "output_type": "stream",
     "text": [
      "\n",
      "Iteration:  27%|██████████████████▉                                                  | 114/415 [01:39<04:28,  1.12it/s]\u001b[A"
     ]
    },
    {
     "name": "stdout",
     "output_type": "stream",
     "text": [
      "tensor(0.3138, device='cuda:0', grad_fn=<NllLossBackward>)\n",
      "0.3138372004032135\n"
     ]
    },
    {
     "name": "stderr",
     "output_type": "stream",
     "text": [
      "\n",
      "Iteration:  28%|███████████████████                                                  | 115/415 [01:40<04:22,  1.14it/s]\u001b[A"
     ]
    },
    {
     "name": "stdout",
     "output_type": "stream",
     "text": [
      "tensor(0.0923, device='cuda:0', grad_fn=<NllLossBackward>)\n",
      "0.09232637286186218\n"
     ]
    },
    {
     "name": "stderr",
     "output_type": "stream",
     "text": [
      "\n",
      "Iteration:  28%|███████████████████▎                                                 | 116/415 [01:41<04:25,  1.13it/s]\u001b[A"
     ]
    },
    {
     "name": "stdout",
     "output_type": "stream",
     "text": [
      "tensor(0.1731, device='cuda:0', grad_fn=<NllLossBackward>)\n",
      "0.17309674620628357\n"
     ]
    },
    {
     "name": "stderr",
     "output_type": "stream",
     "text": [
      "\n",
      "Iteration:  28%|███████████████████▍                                                 | 117/415 [01:42<04:20,  1.14it/s]\u001b[A"
     ]
    },
    {
     "name": "stdout",
     "output_type": "stream",
     "text": [
      "tensor(0.0973, device='cuda:0', grad_fn=<NllLossBackward>)\n",
      "0.09732094407081604\n"
     ]
    },
    {
     "name": "stderr",
     "output_type": "stream",
     "text": [
      "\n",
      "Iteration:  28%|███████████████████▌                                                 | 118/415 [01:42<04:23,  1.13it/s]\u001b[A"
     ]
    },
    {
     "name": "stdout",
     "output_type": "stream",
     "text": [
      "tensor(0.1844, device='cuda:0', grad_fn=<NllLossBackward>)\n",
      "0.1844046264886856\n"
     ]
    },
    {
     "name": "stderr",
     "output_type": "stream",
     "text": [
      "\n",
      "Iteration:  29%|███████████████████▊                                                 | 119/415 [01:43<04:20,  1.14it/s]\u001b[A"
     ]
    },
    {
     "name": "stdout",
     "output_type": "stream",
     "text": [
      "tensor(0.3273, device='cuda:0', grad_fn=<NllLossBackward>)\n",
      "0.3272660970687866\n"
     ]
    },
    {
     "name": "stderr",
     "output_type": "stream",
     "text": [
      "\n",
      "Iteration:  29%|███████████████████▉                                                 | 120/415 [01:44<04:14,  1.16it/s]\u001b[A"
     ]
    },
    {
     "name": "stdout",
     "output_type": "stream",
     "text": [
      "tensor(0.2505, device='cuda:0', grad_fn=<NllLossBackward>)\n",
      "0.2505198121070862\n"
     ]
    },
    {
     "name": "stderr",
     "output_type": "stream",
     "text": [
      "\n",
      "Iteration:  29%|████████████████████                                                 | 121/415 [01:45<04:23,  1.11it/s]\u001b[A"
     ]
    },
    {
     "name": "stdout",
     "output_type": "stream",
     "text": [
      "tensor(0.2077, device='cuda:0', grad_fn=<NllLossBackward>)\n",
      "0.2077467441558838\n"
     ]
    },
    {
     "name": "stderr",
     "output_type": "stream",
     "text": [
      "\n",
      "Iteration:  29%|████████████████████▎                                                | 122/415 [01:46<04:18,  1.13it/s]\u001b[A"
     ]
    },
    {
     "name": "stdout",
     "output_type": "stream",
     "text": [
      "tensor(0.2869, device='cuda:0', grad_fn=<NllLossBackward>)\n",
      "0.28689664602279663\n"
     ]
    },
    {
     "name": "stderr",
     "output_type": "stream",
     "text": [
      "\n",
      "Iteration:  30%|████████████████████▍                                                | 123/415 [01:47<04:23,  1.11it/s]\u001b[A"
     ]
    },
    {
     "name": "stdout",
     "output_type": "stream",
     "text": [
      "tensor(0.3014, device='cuda:0', grad_fn=<NllLossBackward>)\n",
      "0.30144327878952026\n"
     ]
    },
    {
     "name": "stderr",
     "output_type": "stream",
     "text": [
      "\n",
      "Iteration:  30%|████████████████████▌                                                | 124/415 [01:48<04:18,  1.12it/s]\u001b[A"
     ]
    },
    {
     "name": "stdout",
     "output_type": "stream",
     "text": [
      "tensor(0.1864, device='cuda:0', grad_fn=<NllLossBackward>)\n",
      "0.1863711178302765\n"
     ]
    },
    {
     "name": "stderr",
     "output_type": "stream",
     "text": [
      "\n",
      "Iteration:  30%|████████████████████▊                                                | 125/415 [01:49<04:14,  1.14it/s]\u001b[A"
     ]
    },
    {
     "name": "stdout",
     "output_type": "stream",
     "text": [
      "tensor(0.1902, device='cuda:0', grad_fn=<NllLossBackward>)\n",
      "0.1902208924293518\n"
     ]
    },
    {
     "name": "stderr",
     "output_type": "stream",
     "text": [
      "\n",
      "Iteration:  30%|████████████████████▉                                                | 126/415 [01:49<04:08,  1.16it/s]\u001b[A"
     ]
    },
    {
     "name": "stdout",
     "output_type": "stream",
     "text": [
      "tensor(0.0909, device='cuda:0', grad_fn=<NllLossBackward>)\n",
      "0.0909096971154213\n"
     ]
    },
    {
     "name": "stderr",
     "output_type": "stream",
     "text": [
      "\n",
      "Iteration:  31%|█████████████████████                                                | 127/415 [01:50<04:05,  1.17it/s]\u001b[A"
     ]
    },
    {
     "name": "stdout",
     "output_type": "stream",
     "text": [
      "tensor(0.1070, device='cuda:0', grad_fn=<NllLossBackward>)\n",
      "0.10699702054262161\n"
     ]
    },
    {
     "name": "stderr",
     "output_type": "stream",
     "text": [
      "\n",
      "Iteration:  31%|█████████████████████▎                                               | 128/415 [01:51<04:09,  1.15it/s]\u001b[A"
     ]
    },
    {
     "name": "stdout",
     "output_type": "stream",
     "text": [
      "tensor(0.4042, device='cuda:0', grad_fn=<NllLossBackward>)\n",
      "0.404202938079834\n"
     ]
    },
    {
     "name": "stderr",
     "output_type": "stream",
     "text": [
      "\n",
      "Iteration:  31%|█████████████████████▍                                               | 129/415 [01:52<04:08,  1.15it/s]\u001b[A"
     ]
    },
    {
     "name": "stdout",
     "output_type": "stream",
     "text": [
      "tensor(0.1938, device='cuda:0', grad_fn=<NllLossBackward>)\n",
      "0.19382306933403015\n"
     ]
    },
    {
     "name": "stderr",
     "output_type": "stream",
     "text": [
      "\n",
      "Iteration:  31%|█████████████████████▌                                               | 130/415 [01:53<04:05,  1.16it/s]\u001b[A"
     ]
    },
    {
     "name": "stdout",
     "output_type": "stream",
     "text": [
      "tensor(0.2932, device='cuda:0', grad_fn=<NllLossBackward>)\n",
      "0.2932122051715851\n"
     ]
    },
    {
     "name": "stderr",
     "output_type": "stream",
     "text": [
      "\n",
      "Iteration:  32%|█████████████████████▊                                               | 131/415 [01:54<04:04,  1.16it/s]\u001b[A"
     ]
    },
    {
     "name": "stdout",
     "output_type": "stream",
     "text": [
      "tensor(0.2595, device='cuda:0', grad_fn=<NllLossBackward>)\n",
      "0.25953540205955505\n"
     ]
    },
    {
     "name": "stderr",
     "output_type": "stream",
     "text": [
      "\n",
      "Iteration:  32%|█████████████████████▉                                               | 132/415 [01:55<04:01,  1.17it/s]\u001b[A"
     ]
    },
    {
     "name": "stdout",
     "output_type": "stream",
     "text": [
      "tensor(0.1903, device='cuda:0', grad_fn=<NllLossBackward>)\n",
      "0.19027960300445557\n"
     ]
    },
    {
     "name": "stderr",
     "output_type": "stream",
     "text": [
      "\n",
      "Iteration:  32%|██████████████████████                                               | 133/415 [01:55<04:01,  1.17it/s]\u001b[A"
     ]
    },
    {
     "name": "stdout",
     "output_type": "stream",
     "text": [
      "tensor(0.0473, device='cuda:0', grad_fn=<NllLossBackward>)\n",
      "0.0472615510225296\n"
     ]
    },
    {
     "name": "stderr",
     "output_type": "stream",
     "text": [
      "\n",
      "Iteration:  32%|██████████████████████▎                                              | 134/415 [01:56<03:57,  1.18it/s]\u001b[A"
     ]
    },
    {
     "name": "stdout",
     "output_type": "stream",
     "text": [
      "tensor(0.0993, device='cuda:0', grad_fn=<NllLossBackward>)\n",
      "0.09925176948308945\n"
     ]
    },
    {
     "name": "stderr",
     "output_type": "stream",
     "text": [
      "\n",
      "Iteration:  33%|██████████████████████▍                                              | 135/415 [01:57<03:57,  1.18it/s]\u001b[A"
     ]
    },
    {
     "name": "stdout",
     "output_type": "stream",
     "text": [
      "tensor(0.1764, device='cuda:0', grad_fn=<NllLossBackward>)\n",
      "0.17636215686798096\n"
     ]
    },
    {
     "name": "stderr",
     "output_type": "stream",
     "text": [
      "\n",
      "Iteration:  33%|██████████████████████▌                                              | 136/415 [01:58<03:57,  1.18it/s]\u001b[A"
     ]
    },
    {
     "name": "stdout",
     "output_type": "stream",
     "text": [
      "tensor(0.1916, device='cuda:0', grad_fn=<NllLossBackward>)\n",
      "0.19164541363716125\n"
     ]
    },
    {
     "name": "stderr",
     "output_type": "stream",
     "text": [
      "\n",
      "Iteration:  33%|██████████████████████▊                                              | 137/415 [01:59<03:56,  1.17it/s]\u001b[A"
     ]
    },
    {
     "name": "stdout",
     "output_type": "stream",
     "text": [
      "tensor(0.4443, device='cuda:0', grad_fn=<NllLossBackward>)\n",
      "0.44425150752067566\n"
     ]
    },
    {
     "name": "stderr",
     "output_type": "stream",
     "text": [
      "\n",
      "Iteration:  33%|██████████████████████▉                                              | 138/415 [02:00<03:56,  1.17it/s]\u001b[A"
     ]
    },
    {
     "name": "stdout",
     "output_type": "stream",
     "text": [
      "tensor(0.3316, device='cuda:0', grad_fn=<NllLossBackward>)\n",
      "0.3316328823566437\n"
     ]
    },
    {
     "name": "stderr",
     "output_type": "stream",
     "text": [
      "\n",
      "Iteration:  33%|███████████████████████                                              | 139/415 [02:01<04:01,  1.14it/s]\u001b[A"
     ]
    },
    {
     "name": "stdout",
     "output_type": "stream",
     "text": [
      "tensor(0.1527, device='cuda:0', grad_fn=<NllLossBackward>)\n",
      "0.15272143483161926\n"
     ]
    },
    {
     "name": "stderr",
     "output_type": "stream",
     "text": [
      "\n",
      "Iteration:  34%|███████████████████████▎                                             | 140/415 [02:02<04:01,  1.14it/s]\u001b[A"
     ]
    },
    {
     "name": "stdout",
     "output_type": "stream",
     "text": [
      "tensor(0.1171, device='cuda:0', grad_fn=<NllLossBackward>)\n",
      "0.11709269881248474\n"
     ]
    },
    {
     "name": "stderr",
     "output_type": "stream",
     "text": [
      "\n",
      "Iteration:  34%|███████████████████████▍                                             | 141/415 [02:02<04:02,  1.13it/s]\u001b[A"
     ]
    },
    {
     "name": "stdout",
     "output_type": "stream",
     "text": [
      "tensor(0.1399, device='cuda:0', grad_fn=<NllLossBackward>)\n",
      "0.13985544443130493\n"
     ]
    },
    {
     "name": "stderr",
     "output_type": "stream",
     "text": [
      "\n",
      "Iteration:  34%|███████████████████████▌                                             | 142/415 [02:03<04:03,  1.12it/s]\u001b[A"
     ]
    },
    {
     "name": "stdout",
     "output_type": "stream",
     "text": [
      "tensor(0.1699, device='cuda:0', grad_fn=<NllLossBackward>)\n",
      "0.16993185877799988\n"
     ]
    },
    {
     "name": "stderr",
     "output_type": "stream",
     "text": [
      "\n",
      "Iteration:  34%|███████████████████████▊                                             | 143/415 [02:04<03:59,  1.14it/s]\u001b[A"
     ]
    },
    {
     "name": "stdout",
     "output_type": "stream",
     "text": [
      "tensor(0.1423, device='cuda:0', grad_fn=<NllLossBackward>)\n",
      "0.14232981204986572\n"
     ]
    },
    {
     "name": "stderr",
     "output_type": "stream",
     "text": [
      "\n",
      "Iteration:  35%|███████████████████████▉                                             | 144/415 [02:05<04:07,  1.10it/s]\u001b[A"
     ]
    },
    {
     "name": "stdout",
     "output_type": "stream",
     "text": [
      "tensor(0.2796, device='cuda:0', grad_fn=<NllLossBackward>)\n",
      "0.2796492278575897\n"
     ]
    },
    {
     "name": "stderr",
     "output_type": "stream",
     "text": [
      "\n",
      "Iteration:  35%|████████████████████████                                             | 145/415 [02:06<04:10,  1.08it/s]\u001b[A"
     ]
    },
    {
     "name": "stdout",
     "output_type": "stream",
     "text": [
      "tensor(0.3197, device='cuda:0', grad_fn=<NllLossBackward>)\n",
      "0.3196732997894287\n"
     ]
    },
    {
     "name": "stderr",
     "output_type": "stream",
     "text": [
      "\n",
      "Iteration:  35%|████████████████████████▎                                            | 146/415 [02:07<04:13,  1.06it/s]\u001b[A"
     ]
    },
    {
     "name": "stdout",
     "output_type": "stream",
     "text": [
      "tensor(0.3332, device='cuda:0', grad_fn=<NllLossBackward>)\n",
      "0.3332313001155853\n"
     ]
    },
    {
     "name": "stderr",
     "output_type": "stream",
     "text": [
      "\n",
      "Iteration:  35%|████████████████████████▍                                            | 147/415 [02:08<04:10,  1.07it/s]\u001b[A"
     ]
    },
    {
     "name": "stdout",
     "output_type": "stream",
     "text": [
      "tensor(0.3039, device='cuda:0', grad_fn=<NllLossBackward>)\n",
      "0.30390429496765137\n"
     ]
    },
    {
     "name": "stderr",
     "output_type": "stream",
     "text": [
      "\n",
      "Iteration:  36%|████████████████████████▌                                            | 148/415 [02:09<04:11,  1.06it/s]\u001b[A"
     ]
    },
    {
     "name": "stdout",
     "output_type": "stream",
     "text": [
      "tensor(0.4930, device='cuda:0', grad_fn=<NllLossBackward>)\n",
      "0.4930039048194885\n"
     ]
    },
    {
     "name": "stderr",
     "output_type": "stream",
     "text": [
      "\n",
      "Iteration:  36%|████████████████████████▊                                            | 149/415 [02:10<04:10,  1.06it/s]\u001b[A"
     ]
    },
    {
     "name": "stdout",
     "output_type": "stream",
     "text": [
      "tensor(0.1340, device='cuda:0', grad_fn=<NllLossBackward>)\n",
      "0.13402505218982697\n"
     ]
    },
    {
     "name": "stderr",
     "output_type": "stream",
     "text": [
      "\n",
      "Iteration:  36%|████████████████████████▉                                            | 150/415 [02:11<04:04,  1.08it/s]\u001b[A"
     ]
    },
    {
     "name": "stdout",
     "output_type": "stream",
     "text": [
      "tensor(0.0784, device='cuda:0', grad_fn=<NllLossBackward>)\n",
      "0.07844580709934235\n"
     ]
    },
    {
     "name": "stderr",
     "output_type": "stream",
     "text": [
      "\n",
      "Iteration:  36%|█████████████████████████                                            | 151/415 [02:12<04:07,  1.07it/s]\u001b[A"
     ]
    },
    {
     "name": "stdout",
     "output_type": "stream",
     "text": [
      "tensor(0.4520, device='cuda:0', grad_fn=<NllLossBackward>)\n",
      "0.45199620723724365\n"
     ]
    },
    {
     "name": "stderr",
     "output_type": "stream",
     "text": [
      "\n",
      "Iteration:  37%|█████████████████████████▎                                           | 152/415 [02:13<03:58,  1.10it/s]\u001b[A"
     ]
    },
    {
     "name": "stdout",
     "output_type": "stream",
     "text": [
      "tensor(0.1969, device='cuda:0', grad_fn=<NllLossBackward>)\n",
      "0.19694016873836517\n"
     ]
    },
    {
     "name": "stderr",
     "output_type": "stream",
     "text": [
      "\n",
      "Iteration:  37%|█████████████████████████▍                                           | 153/415 [02:14<04:02,  1.08it/s]\u001b[A"
     ]
    },
    {
     "name": "stdout",
     "output_type": "stream",
     "text": [
      "tensor(0.1815, device='cuda:0', grad_fn=<NllLossBackward>)\n",
      "0.181515634059906\n"
     ]
    },
    {
     "name": "stderr",
     "output_type": "stream",
     "text": [
      "\n",
      "Iteration:  37%|█████████████████████████▌                                           | 154/415 [02:15<04:04,  1.07it/s]\u001b[A"
     ]
    },
    {
     "name": "stdout",
     "output_type": "stream",
     "text": [
      "tensor(0.1852, device='cuda:0', grad_fn=<NllLossBackward>)\n",
      "0.1852191537618637\n"
     ]
    },
    {
     "name": "stderr",
     "output_type": "stream",
     "text": [
      "\n",
      "Iteration:  37%|█████████████████████████▊                                           | 155/415 [02:15<04:05,  1.06it/s]\u001b[A"
     ]
    },
    {
     "name": "stdout",
     "output_type": "stream",
     "text": [
      "tensor(0.1847, device='cuda:0', grad_fn=<NllLossBackward>)\n",
      "0.18470272421836853\n"
     ]
    },
    {
     "name": "stderr",
     "output_type": "stream",
     "text": [
      "\n",
      "Iteration:  38%|█████████████████████████▉                                           | 156/415 [02:16<04:03,  1.06it/s]\u001b[A"
     ]
    },
    {
     "name": "stdout",
     "output_type": "stream",
     "text": [
      "tensor(0.1761, device='cuda:0', grad_fn=<NllLossBackward>)\n",
      "0.17610716819763184\n"
     ]
    },
    {
     "name": "stderr",
     "output_type": "stream",
     "text": [
      "\n",
      "Iteration:  38%|██████████████████████████                                           | 157/415 [02:17<03:54,  1.10it/s]\u001b[A"
     ]
    },
    {
     "name": "stdout",
     "output_type": "stream",
     "text": [
      "tensor(0.1441, device='cuda:0', grad_fn=<NllLossBackward>)\n",
      "0.14411455392837524\n"
     ]
    },
    {
     "name": "stderr",
     "output_type": "stream",
     "text": [
      "\n",
      "Iteration:  38%|██████████████████████████▎                                          | 158/415 [02:18<03:58,  1.08it/s]\u001b[A"
     ]
    },
    {
     "name": "stdout",
     "output_type": "stream",
     "text": [
      "tensor(0.2402, device='cuda:0', grad_fn=<NllLossBackward>)\n",
      "0.24022525548934937\n"
     ]
    },
    {
     "name": "stderr",
     "output_type": "stream",
     "text": [
      "\n",
      "Iteration:  38%|██████████████████████████▍                                          | 159/415 [02:19<03:52,  1.10it/s]\u001b[A"
     ]
    },
    {
     "name": "stdout",
     "output_type": "stream",
     "text": [
      "tensor(0.1792, device='cuda:0', grad_fn=<NllLossBackward>)\n",
      "0.17923784255981445\n"
     ]
    },
    {
     "name": "stderr",
     "output_type": "stream",
     "text": [
      "\n",
      "Iteration:  39%|██████████████████████████▌                                          | 160/415 [02:20<03:47,  1.12it/s]\u001b[A"
     ]
    },
    {
     "name": "stdout",
     "output_type": "stream",
     "text": [
      "tensor(0.1549, device='cuda:0', grad_fn=<NllLossBackward>)\n",
      "0.15491244196891785\n"
     ]
    },
    {
     "name": "stderr",
     "output_type": "stream",
     "text": [
      "\n",
      "Iteration:  39%|██████████████████████████▊                                          | 161/415 [02:21<03:42,  1.14it/s]\u001b[A"
     ]
    },
    {
     "name": "stdout",
     "output_type": "stream",
     "text": [
      "tensor(0.2439, device='cuda:0', grad_fn=<NllLossBackward>)\n",
      "0.24392780661582947\n"
     ]
    },
    {
     "name": "stderr",
     "output_type": "stream",
     "text": [
      "\n",
      "Iteration:  39%|██████████████████████████▉                                          | 162/415 [02:22<03:36,  1.17it/s]\u001b[A"
     ]
    },
    {
     "name": "stdout",
     "output_type": "stream",
     "text": [
      "tensor(0.1652, device='cuda:0', grad_fn=<NllLossBackward>)\n",
      "0.16518747806549072\n"
     ]
    },
    {
     "name": "stderr",
     "output_type": "stream",
     "text": [
      "\n",
      "Iteration:  39%|███████████████████████████                                          | 163/415 [02:22<03:36,  1.16it/s]\u001b[A"
     ]
    },
    {
     "name": "stdout",
     "output_type": "stream",
     "text": [
      "tensor(0.1513, device='cuda:0', grad_fn=<NllLossBackward>)\n",
      "0.1513153612613678\n"
     ]
    },
    {
     "name": "stderr",
     "output_type": "stream",
     "text": [
      "\n",
      "Iteration:  40%|███████████████████████████▎                                         | 164/415 [02:23<03:36,  1.16it/s]\u001b[A"
     ]
    },
    {
     "name": "stdout",
     "output_type": "stream",
     "text": [
      "tensor(0.1317, device='cuda:0', grad_fn=<NllLossBackward>)\n",
      "0.13169851899147034\n"
     ]
    },
    {
     "name": "stderr",
     "output_type": "stream",
     "text": [
      "\n",
      "Iteration:  40%|███████████████████████████▍                                         | 165/415 [02:24<03:55,  1.06it/s]\u001b[A"
     ]
    },
    {
     "name": "stdout",
     "output_type": "stream",
     "text": [
      "tensor(0.2700, device='cuda:0', grad_fn=<NllLossBackward>)\n",
      "0.2700314521789551\n"
     ]
    },
    {
     "name": "stderr",
     "output_type": "stream",
     "text": [
      "\n",
      "Iteration:  40%|███████████████████████████▌                                         | 166/415 [02:25<03:51,  1.08it/s]\u001b[A"
     ]
    },
    {
     "name": "stdout",
     "output_type": "stream",
     "text": [
      "tensor(0.3089, device='cuda:0', grad_fn=<NllLossBackward>)\n",
      "0.3089236319065094\n"
     ]
    },
    {
     "name": "stderr",
     "output_type": "stream",
     "text": [
      "\n",
      "Iteration:  40%|███████████████████████████▊                                         | 167/415 [02:26<03:51,  1.07it/s]\u001b[A"
     ]
    },
    {
     "name": "stdout",
     "output_type": "stream",
     "text": [
      "tensor(0.1110, device='cuda:0', grad_fn=<NllLossBackward>)\n",
      "0.11101770401000977\n"
     ]
    },
    {
     "name": "stderr",
     "output_type": "stream",
     "text": [
      "\n",
      "Iteration:  40%|███████████████████████████▉                                         | 168/415 [02:27<03:42,  1.11it/s]\u001b[A"
     ]
    },
    {
     "name": "stdout",
     "output_type": "stream",
     "text": [
      "tensor(0.2605, device='cuda:0', grad_fn=<NllLossBackward>)\n",
      "0.26054975390434265\n"
     ]
    },
    {
     "name": "stderr",
     "output_type": "stream",
     "text": [
      "\n",
      "Iteration:  41%|████████████████████████████                                         | 169/415 [02:28<03:35,  1.14it/s]\u001b[A"
     ]
    },
    {
     "name": "stdout",
     "output_type": "stream",
     "text": [
      "tensor(0.1578, device='cuda:0', grad_fn=<NllLossBackward>)\n",
      "0.15781043469905853\n"
     ]
    },
    {
     "name": "stderr",
     "output_type": "stream",
     "text": [
      "\n",
      "Iteration:  41%|████████████████████████████▎                                        | 170/415 [02:29<03:33,  1.15it/s]\u001b[A"
     ]
    },
    {
     "name": "stdout",
     "output_type": "stream",
     "text": [
      "tensor(0.2721, device='cuda:0', grad_fn=<NllLossBackward>)\n",
      "0.27211880683898926\n"
     ]
    },
    {
     "name": "stderr",
     "output_type": "stream",
     "text": [
      "\n",
      "Iteration:  41%|████████████████████████████▍                                        | 171/415 [02:30<03:31,  1.15it/s]\u001b[A"
     ]
    },
    {
     "name": "stdout",
     "output_type": "stream",
     "text": [
      "tensor(0.3967, device='cuda:0', grad_fn=<NllLossBackward>)\n",
      "0.3966801166534424\n"
     ]
    },
    {
     "name": "stderr",
     "output_type": "stream",
     "text": [
      "\n",
      "Iteration:  41%|████████████████████████████▌                                        | 172/415 [02:31<03:32,  1.15it/s]\u001b[A"
     ]
    },
    {
     "name": "stdout",
     "output_type": "stream",
     "text": [
      "tensor(0.3548, device='cuda:0', grad_fn=<NllLossBackward>)\n",
      "0.3548080325126648\n"
     ]
    },
    {
     "name": "stderr",
     "output_type": "stream",
     "text": [
      "\n",
      "Iteration:  42%|████████████████████████████▊                                        | 173/415 [02:31<03:30,  1.15it/s]\u001b[A"
     ]
    },
    {
     "name": "stdout",
     "output_type": "stream",
     "text": [
      "tensor(0.3076, device='cuda:0', grad_fn=<NllLossBackward>)\n",
      "0.3075542747974396\n"
     ]
    },
    {
     "name": "stderr",
     "output_type": "stream",
     "text": [
      "\n",
      "Iteration:  42%|████████████████████████████▉                                        | 174/415 [02:32<03:27,  1.16it/s]\u001b[A"
     ]
    },
    {
     "name": "stdout",
     "output_type": "stream",
     "text": [
      "tensor(0.3618, device='cuda:0', grad_fn=<NllLossBackward>)\n",
      "0.36178892850875854\n"
     ]
    },
    {
     "name": "stderr",
     "output_type": "stream",
     "text": [
      "\n",
      "Iteration:  42%|█████████████████████████████                                        | 175/415 [02:33<03:27,  1.15it/s]\u001b[A"
     ]
    },
    {
     "name": "stdout",
     "output_type": "stream",
     "text": [
      "tensor(0.2980, device='cuda:0', grad_fn=<NllLossBackward>)\n",
      "0.2979971170425415\n"
     ]
    },
    {
     "name": "stderr",
     "output_type": "stream",
     "text": [
      "\n",
      "Iteration:  42%|█████████████████████████████▎                                       | 176/415 [02:34<03:30,  1.14it/s]\u001b[A"
     ]
    },
    {
     "name": "stdout",
     "output_type": "stream",
     "text": [
      "tensor(0.5134, device='cuda:0', grad_fn=<NllLossBackward>)\n",
      "0.5133697986602783\n"
     ]
    },
    {
     "name": "stderr",
     "output_type": "stream",
     "text": [
      "\n",
      "Iteration:  43%|█████████████████████████████▍                                       | 177/415 [02:35<03:32,  1.12it/s]\u001b[A"
     ]
    },
    {
     "name": "stdout",
     "output_type": "stream",
     "text": [
      "tensor(0.2526, device='cuda:0', grad_fn=<NllLossBackward>)\n",
      "0.2525734007358551\n"
     ]
    },
    {
     "name": "stderr",
     "output_type": "stream",
     "text": [
      "\n",
      "Iteration:  43%|█████████████████████████████▌                                       | 178/415 [02:36<03:25,  1.15it/s]\u001b[A"
     ]
    },
    {
     "name": "stdout",
     "output_type": "stream",
     "text": [
      "tensor(0.1329, device='cuda:0', grad_fn=<NllLossBackward>)\n",
      "0.13294613361358643\n"
     ]
    },
    {
     "name": "stderr",
     "output_type": "stream",
     "text": [
      "\n",
      "Iteration:  43%|█████████████████████████████▊                                       | 179/415 [02:37<03:46,  1.04it/s]\u001b[A"
     ]
    },
    {
     "name": "stdout",
     "output_type": "stream",
     "text": [
      "tensor(0.3247, device='cuda:0', grad_fn=<NllLossBackward>)\n",
      "0.32471805810928345\n"
     ]
    },
    {
     "name": "stderr",
     "output_type": "stream",
     "text": [
      "\n",
      "Iteration:  43%|█████████████████████████████▉                                       | 180/415 [02:38<03:37,  1.08it/s]\u001b[A"
     ]
    },
    {
     "name": "stdout",
     "output_type": "stream",
     "text": [
      "tensor(0.2014, device='cuda:0', grad_fn=<NllLossBackward>)\n",
      "0.20143860578536987\n"
     ]
    },
    {
     "name": "stderr",
     "output_type": "stream",
     "text": [
      "\n",
      "Iteration:  44%|██████████████████████████████                                       | 181/415 [02:39<03:32,  1.10it/s]\u001b[A"
     ]
    },
    {
     "name": "stdout",
     "output_type": "stream",
     "text": [
      "tensor(0.1141, device='cuda:0', grad_fn=<NllLossBackward>)\n",
      "0.11412407457828522\n"
     ]
    },
    {
     "name": "stderr",
     "output_type": "stream",
     "text": [
      "\n",
      "Iteration:  44%|██████████████████████████████▎                                      | 182/415 [02:40<03:27,  1.13it/s]\u001b[A"
     ]
    },
    {
     "name": "stdout",
     "output_type": "stream",
     "text": [
      "tensor(0.0978, device='cuda:0', grad_fn=<NllLossBackward>)\n",
      "0.09781274199485779\n"
     ]
    },
    {
     "name": "stderr",
     "output_type": "stream",
     "text": [
      "\n",
      "Iteration:  44%|██████████████████████████████▍                                      | 183/415 [02:40<03:21,  1.15it/s]\u001b[A"
     ]
    },
    {
     "name": "stdout",
     "output_type": "stream",
     "text": [
      "tensor(0.1142, device='cuda:0', grad_fn=<NllLossBackward>)\n",
      "0.11416685581207275\n"
     ]
    },
    {
     "name": "stderr",
     "output_type": "stream",
     "text": [
      "\n",
      "Iteration:  44%|██████████████████████████████▌                                      | 184/415 [02:41<03:27,  1.11it/s]\u001b[A"
     ]
    },
    {
     "name": "stdout",
     "output_type": "stream",
     "text": [
      "tensor(0.1786, device='cuda:0', grad_fn=<NllLossBackward>)\n",
      "0.17863622307777405\n"
     ]
    },
    {
     "name": "stderr",
     "output_type": "stream",
     "text": [
      "\n",
      "Iteration:  45%|██████████████████████████████▊                                      | 185/415 [02:42<03:25,  1.12it/s]\u001b[A"
     ]
    },
    {
     "name": "stdout",
     "output_type": "stream",
     "text": [
      "tensor(0.1392, device='cuda:0', grad_fn=<NllLossBackward>)\n",
      "0.13921965658664703\n"
     ]
    },
    {
     "name": "stderr",
     "output_type": "stream",
     "text": [
      "\n",
      "Iteration:  45%|██████████████████████████████▉                                      | 186/415 [02:43<03:23,  1.12it/s]\u001b[A"
     ]
    },
    {
     "name": "stdout",
     "output_type": "stream",
     "text": [
      "tensor(0.0691, device='cuda:0', grad_fn=<NllLossBackward>)\n",
      "0.06909161806106567\n"
     ]
    },
    {
     "name": "stderr",
     "output_type": "stream",
     "text": [
      "\n",
      "Iteration:  45%|███████████████████████████████                                      | 187/415 [02:44<03:19,  1.14it/s]\u001b[A"
     ]
    },
    {
     "name": "stdout",
     "output_type": "stream",
     "text": [
      "tensor(0.1221, device='cuda:0', grad_fn=<NllLossBackward>)\n",
      "0.12212707847356796\n"
     ]
    },
    {
     "name": "stderr",
     "output_type": "stream",
     "text": [
      "\n",
      "Iteration:  45%|███████████████████████████████▎                                     | 188/415 [02:45<03:16,  1.15it/s]\u001b[A"
     ]
    },
    {
     "name": "stdout",
     "output_type": "stream",
     "text": [
      "tensor(0.0801, device='cuda:0', grad_fn=<NllLossBackward>)\n",
      "0.08006071299314499\n"
     ]
    },
    {
     "name": "stderr",
     "output_type": "stream",
     "text": [
      "\n",
      "Iteration:  46%|███████████████████████████████▍                                     | 189/415 [02:46<03:13,  1.17it/s]\u001b[A"
     ]
    },
    {
     "name": "stdout",
     "output_type": "stream",
     "text": [
      "tensor(0.2288, device='cuda:0', grad_fn=<NllLossBackward>)\n",
      "0.22878912091255188\n"
     ]
    },
    {
     "name": "stderr",
     "output_type": "stream",
     "text": [
      "\n",
      "Iteration:  46%|███████████████████████████████▌                                     | 190/415 [02:46<03:11,  1.17it/s]\u001b[A"
     ]
    },
    {
     "name": "stdout",
     "output_type": "stream",
     "text": [
      "tensor(0.4660, device='cuda:0', grad_fn=<NllLossBackward>)\n",
      "0.4659605324268341\n"
     ]
    },
    {
     "name": "stderr",
     "output_type": "stream",
     "text": [
      "\n",
      "Iteration:  46%|███████████████████████████████▊                                     | 191/415 [02:47<03:14,  1.15it/s]\u001b[A"
     ]
    },
    {
     "name": "stdout",
     "output_type": "stream",
     "text": [
      "tensor(0.2463, device='cuda:0', grad_fn=<NllLossBackward>)\n",
      "0.24628984928131104\n"
     ]
    },
    {
     "name": "stderr",
     "output_type": "stream",
     "text": [
      "\n",
      "Iteration:  46%|███████████████████████████████▉                                     | 192/415 [02:48<03:14,  1.14it/s]\u001b[A"
     ]
    },
    {
     "name": "stdout",
     "output_type": "stream",
     "text": [
      "tensor(0.2671, device='cuda:0', grad_fn=<NllLossBackward>)\n",
      "0.26709988713264465\n"
     ]
    },
    {
     "name": "stderr",
     "output_type": "stream",
     "text": [
      "\n",
      "Iteration:  47%|████████████████████████████████                                     | 193/415 [02:49<03:12,  1.16it/s]\u001b[A"
     ]
    },
    {
     "name": "stdout",
     "output_type": "stream",
     "text": [
      "tensor(0.2342, device='cuda:0', grad_fn=<NllLossBackward>)\n",
      "0.23424795269966125\n"
     ]
    },
    {
     "name": "stderr",
     "output_type": "stream",
     "text": [
      "\n",
      "Iteration:  47%|████████████████████████████████▎                                    | 194/415 [02:50<03:13,  1.14it/s]\u001b[A"
     ]
    },
    {
     "name": "stdout",
     "output_type": "stream",
     "text": [
      "tensor(0.1302, device='cuda:0', grad_fn=<NllLossBackward>)\n",
      "0.13024282455444336\n"
     ]
    },
    {
     "name": "stderr",
     "output_type": "stream",
     "text": [
      "\n",
      "Iteration:  47%|████████████████████████████████▍                                    | 195/415 [02:51<03:16,  1.12it/s]\u001b[A"
     ]
    },
    {
     "name": "stdout",
     "output_type": "stream",
     "text": [
      "tensor(0.2920, device='cuda:0', grad_fn=<NllLossBackward>)\n",
      "0.29204708337783813\n"
     ]
    },
    {
     "name": "stderr",
     "output_type": "stream",
     "text": [
      "\n",
      "Iteration:  47%|████████████████████████████████▌                                    | 196/415 [02:52<03:12,  1.14it/s]\u001b[A"
     ]
    },
    {
     "name": "stdout",
     "output_type": "stream",
     "text": [
      "tensor(0.1924, device='cuda:0', grad_fn=<NllLossBackward>)\n",
      "0.19242238998413086\n"
     ]
    },
    {
     "name": "stderr",
     "output_type": "stream",
     "text": [
      "\n",
      "Iteration:  47%|████████████████████████████████▊                                    | 197/415 [02:53<03:07,  1.16it/s]\u001b[A"
     ]
    },
    {
     "name": "stdout",
     "output_type": "stream",
     "text": [
      "tensor(0.2164, device='cuda:0', grad_fn=<NllLossBackward>)\n",
      "0.21640925109386444\n"
     ]
    },
    {
     "name": "stderr",
     "output_type": "stream",
     "text": [
      "\n",
      "Iteration:  48%|████████████████████████████████▉                                    | 198/415 [02:53<03:05,  1.17it/s]\u001b[A"
     ]
    },
    {
     "name": "stdout",
     "output_type": "stream",
     "text": [
      "tensor(0.0567, device='cuda:0', grad_fn=<NllLossBackward>)\n",
      "0.056666918098926544\n"
     ]
    },
    {
     "name": "stderr",
     "output_type": "stream",
     "text": [
      "\n",
      "Iteration:  48%|█████████████████████████████████                                    | 199/415 [02:54<03:02,  1.19it/s]\u001b[A"
     ]
    },
    {
     "name": "stdout",
     "output_type": "stream",
     "text": [
      "tensor(0.2027, device='cuda:0', grad_fn=<NllLossBackward>)\n",
      "0.2027183473110199\n"
     ]
    },
    {
     "name": "stderr",
     "output_type": "stream",
     "text": [
      "\n",
      "Iteration:  48%|█████████████████████████████████▎                                   | 200/415 [02:55<03:05,  1.16it/s]\u001b[A"
     ]
    },
    {
     "name": "stdout",
     "output_type": "stream",
     "text": [
      "tensor(0.1226, device='cuda:0', grad_fn=<NllLossBackward>)\n",
      "0.122621551156044\n"
     ]
    },
    {
     "name": "stderr",
     "output_type": "stream",
     "text": [
      "\n",
      "Iteration:  48%|█████████████████████████████████▍                                   | 201/415 [02:56<03:06,  1.15it/s]\u001b[A"
     ]
    },
    {
     "name": "stdout",
     "output_type": "stream",
     "text": [
      "tensor(0.1655, device='cuda:0', grad_fn=<NllLossBackward>)\n",
      "0.1655445098876953\n"
     ]
    },
    {
     "name": "stderr",
     "output_type": "stream",
     "text": [
      "\n",
      "Iteration:  49%|█████████████████████████████████▌                                   | 202/415 [02:57<03:04,  1.16it/s]\u001b[A"
     ]
    },
    {
     "name": "stdout",
     "output_type": "stream",
     "text": [
      "tensor(0.1524, device='cuda:0', grad_fn=<NllLossBackward>)\n",
      "0.15242499113082886\n"
     ]
    },
    {
     "name": "stderr",
     "output_type": "stream",
     "text": [
      "\n",
      "Iteration:  49%|█████████████████████████████████▊                                   | 203/415 [02:58<03:05,  1.14it/s]\u001b[A"
     ]
    },
    {
     "name": "stdout",
     "output_type": "stream",
     "text": [
      "tensor(0.2373, device='cuda:0', grad_fn=<NllLossBackward>)\n",
      "0.2372877597808838\n"
     ]
    },
    {
     "name": "stderr",
     "output_type": "stream",
     "text": [
      "\n",
      "Iteration:  49%|█████████████████████████████████▉                                   | 204/415 [02:59<03:03,  1.15it/s]\u001b[A"
     ]
    },
    {
     "name": "stdout",
     "output_type": "stream",
     "text": [
      "tensor(0.2382, device='cuda:0', grad_fn=<NllLossBackward>)\n",
      "0.23818394541740417\n"
     ]
    },
    {
     "name": "stderr",
     "output_type": "stream",
     "text": [
      "\n",
      "Iteration:  49%|██████████████████████████████████                                   | 205/415 [02:59<03:03,  1.15it/s]\u001b[A"
     ]
    },
    {
     "name": "stdout",
     "output_type": "stream",
     "text": [
      "tensor(0.2191, device='cuda:0', grad_fn=<NllLossBackward>)\n",
      "0.21914471685886383\n"
     ]
    },
    {
     "name": "stderr",
     "output_type": "stream",
     "text": [
      "\n",
      "Iteration:  50%|██████████████████████████████████▎                                  | 206/415 [03:00<03:06,  1.12it/s]\u001b[A"
     ]
    },
    {
     "name": "stdout",
     "output_type": "stream",
     "text": [
      "tensor(0.1985, device='cuda:0', grad_fn=<NllLossBackward>)\n",
      "0.1985412836074829\n"
     ]
    },
    {
     "name": "stderr",
     "output_type": "stream",
     "text": [
      "\n",
      "Iteration:  50%|██████████████████████████████████▍                                  | 207/415 [03:01<03:04,  1.13it/s]\u001b[A"
     ]
    },
    {
     "name": "stdout",
     "output_type": "stream",
     "text": [
      "tensor(0.1796, device='cuda:0', grad_fn=<NllLossBackward>)\n",
      "0.1796162873506546\n"
     ]
    },
    {
     "name": "stderr",
     "output_type": "stream",
     "text": [
      "\n",
      "Iteration:  50%|██████████████████████████████████▌                                  | 208/415 [03:02<02:58,  1.16it/s]\u001b[A"
     ]
    },
    {
     "name": "stdout",
     "output_type": "stream",
     "text": [
      "tensor(0.2330, device='cuda:0', grad_fn=<NllLossBackward>)\n",
      "0.23304450511932373\n"
     ]
    },
    {
     "name": "stderr",
     "output_type": "stream",
     "text": [
      "\n",
      "Iteration:  50%|██████████████████████████████████▋                                  | 209/415 [03:03<02:55,  1.17it/s]\u001b[A"
     ]
    },
    {
     "name": "stdout",
     "output_type": "stream",
     "text": [
      "tensor(0.2346, device='cuda:0', grad_fn=<NllLossBackward>)\n",
      "0.23460449278354645\n"
     ]
    },
    {
     "name": "stderr",
     "output_type": "stream",
     "text": [
      "\n",
      "Iteration:  51%|██████████████████████████████████▉                                  | 210/415 [03:04<02:54,  1.17it/s]\u001b[A"
     ]
    },
    {
     "name": "stdout",
     "output_type": "stream",
     "text": [
      "tensor(0.1248, device='cuda:0', grad_fn=<NllLossBackward>)\n",
      "0.12484678626060486\n"
     ]
    },
    {
     "name": "stderr",
     "output_type": "stream",
     "text": [
      "\n",
      "Iteration:  51%|███████████████████████████████████                                  | 211/415 [03:05<02:59,  1.14it/s]\u001b[A"
     ]
    },
    {
     "name": "stdout",
     "output_type": "stream",
     "text": [
      "tensor(0.2311, device='cuda:0', grad_fn=<NllLossBackward>)\n",
      "0.23110097646713257\n"
     ]
    },
    {
     "name": "stderr",
     "output_type": "stream",
     "text": [
      "\n",
      "Iteration:  51%|███████████████████████████████████▏                                 | 212/415 [03:06<02:57,  1.14it/s]\u001b[A"
     ]
    },
    {
     "name": "stdout",
     "output_type": "stream",
     "text": [
      "tensor(0.2959, device='cuda:0', grad_fn=<NllLossBackward>)\n",
      "0.29593825340270996\n"
     ]
    },
    {
     "name": "stderr",
     "output_type": "stream",
     "text": [
      "\n",
      "Iteration:  51%|███████████████████████████████████▍                                 | 213/415 [03:06<02:56,  1.14it/s]\u001b[A"
     ]
    },
    {
     "name": "stdout",
     "output_type": "stream",
     "text": [
      "tensor(0.0841, device='cuda:0', grad_fn=<NllLossBackward>)\n",
      "0.0840744897723198\n"
     ]
    },
    {
     "name": "stderr",
     "output_type": "stream",
     "text": [
      "\n",
      "Iteration:  52%|███████████████████████████████████▌                                 | 214/415 [03:07<02:52,  1.16it/s]\u001b[A"
     ]
    },
    {
     "name": "stdout",
     "output_type": "stream",
     "text": [
      "tensor(0.1628, device='cuda:0', grad_fn=<NllLossBackward>)\n",
      "0.1627843677997589\n"
     ]
    },
    {
     "name": "stderr",
     "output_type": "stream",
     "text": [
      "\n",
      "Iteration:  52%|███████████████████████████████████▋                                 | 215/415 [03:08<02:59,  1.11it/s]\u001b[A"
     ]
    },
    {
     "name": "stdout",
     "output_type": "stream",
     "text": [
      "tensor(0.1264, device='cuda:0', grad_fn=<NllLossBackward>)\n",
      "0.1264103353023529\n"
     ]
    },
    {
     "name": "stderr",
     "output_type": "stream",
     "text": [
      "\n",
      "Iteration:  52%|███████████████████████████████████▉                                 | 216/415 [03:09<02:59,  1.11it/s]\u001b[A"
     ]
    },
    {
     "name": "stdout",
     "output_type": "stream",
     "text": [
      "tensor(0.4676, device='cuda:0', grad_fn=<NllLossBackward>)\n",
      "0.46761149168014526\n"
     ]
    },
    {
     "name": "stderr",
     "output_type": "stream",
     "text": [
      "\n",
      "Iteration:  52%|████████████████████████████████████                                 | 217/415 [03:10<03:01,  1.09it/s]\u001b[A"
     ]
    },
    {
     "name": "stdout",
     "output_type": "stream",
     "text": [
      "tensor(0.1598, device='cuda:0', grad_fn=<NllLossBackward>)\n",
      "0.15982533991336823\n"
     ]
    },
    {
     "name": "stderr",
     "output_type": "stream",
     "text": [
      "\n",
      "Iteration:  53%|████████████████████████████████████▏                                | 218/415 [03:11<03:00,  1.09it/s]\u001b[A"
     ]
    },
    {
     "name": "stdout",
     "output_type": "stream",
     "text": [
      "tensor(0.2523, device='cuda:0', grad_fn=<NllLossBackward>)\n",
      "0.2523183822631836\n"
     ]
    },
    {
     "name": "stderr",
     "output_type": "stream",
     "text": [
      "\n",
      "Iteration:  53%|████████████████████████████████████▍                                | 219/415 [03:12<02:58,  1.10it/s]\u001b[A"
     ]
    },
    {
     "name": "stdout",
     "output_type": "stream",
     "text": [
      "tensor(0.2577, device='cuda:0', grad_fn=<NllLossBackward>)\n",
      "0.2576633095741272\n"
     ]
    },
    {
     "name": "stderr",
     "output_type": "stream",
     "text": [
      "\n",
      "Iteration:  53%|████████████████████████████████████▌                                | 220/415 [03:13<02:52,  1.13it/s]\u001b[A"
     ]
    },
    {
     "name": "stdout",
     "output_type": "stream",
     "text": [
      "tensor(0.1675, device='cuda:0', grad_fn=<NllLossBackward>)\n",
      "0.1674702763557434\n"
     ]
    },
    {
     "name": "stderr",
     "output_type": "stream",
     "text": [
      "\n",
      "Iteration:  53%|████████████████████████████████████▋                                | 221/415 [03:14<02:48,  1.15it/s]\u001b[A"
     ]
    },
    {
     "name": "stdout",
     "output_type": "stream",
     "text": [
      "tensor(0.1626, device='cuda:0', grad_fn=<NllLossBackward>)\n",
      "0.1626027226448059\n"
     ]
    },
    {
     "name": "stderr",
     "output_type": "stream",
     "text": [
      "\n",
      "Iteration:  53%|████████████████████████████████████▉                                | 222/415 [03:15<02:49,  1.14it/s]\u001b[A"
     ]
    },
    {
     "name": "stdout",
     "output_type": "stream",
     "text": [
      "tensor(0.1743, device='cuda:0', grad_fn=<NllLossBackward>)\n",
      "0.17433057725429535\n"
     ]
    },
    {
     "name": "stderr",
     "output_type": "stream",
     "text": [
      "\n",
      "Iteration:  54%|█████████████████████████████████████                                | 223/415 [03:15<02:50,  1.13it/s]\u001b[A"
     ]
    },
    {
     "name": "stdout",
     "output_type": "stream",
     "text": [
      "tensor(0.1894, device='cuda:0', grad_fn=<NllLossBackward>)\n",
      "0.18939673900604248\n"
     ]
    },
    {
     "name": "stderr",
     "output_type": "stream",
     "text": [
      "\n",
      "Iteration:  54%|█████████████████████████████████████▏                               | 224/415 [03:16<02:46,  1.14it/s]\u001b[A"
     ]
    },
    {
     "name": "stdout",
     "output_type": "stream",
     "text": [
      "tensor(0.1212, device='cuda:0', grad_fn=<NllLossBackward>)\n",
      "0.1212373599410057\n"
     ]
    },
    {
     "name": "stderr",
     "output_type": "stream",
     "text": [
      "\n",
      "Iteration:  54%|█████████████████████████████████████▍                               | 225/415 [03:17<02:42,  1.17it/s]\u001b[A"
     ]
    },
    {
     "name": "stdout",
     "output_type": "stream",
     "text": [
      "tensor(0.0632, device='cuda:0', grad_fn=<NllLossBackward>)\n",
      "0.06321173906326294\n"
     ]
    },
    {
     "name": "stderr",
     "output_type": "stream",
     "text": [
      "\n",
      "Iteration:  54%|█████████████████████████████████████▌                               | 226/415 [03:18<02:41,  1.17it/s]\u001b[A"
     ]
    },
    {
     "name": "stdout",
     "output_type": "stream",
     "text": [
      "tensor(0.2396, device='cuda:0', grad_fn=<NllLossBackward>)\n",
      "0.23956725001335144\n"
     ]
    },
    {
     "name": "stderr",
     "output_type": "stream",
     "text": [
      "\n",
      "Iteration:  55%|█████████████████████████████████████▋                               | 227/415 [03:19<02:47,  1.12it/s]\u001b[A"
     ]
    },
    {
     "name": "stdout",
     "output_type": "stream",
     "text": [
      "tensor(0.3113, device='cuda:0', grad_fn=<NllLossBackward>)\n",
      "0.31128692626953125\n"
     ]
    },
    {
     "name": "stderr",
     "output_type": "stream",
     "text": [
      "\n",
      "Iteration:  55%|█████████████████████████████████████▉                               | 228/415 [03:20<02:42,  1.15it/s]\u001b[A"
     ]
    },
    {
     "name": "stdout",
     "output_type": "stream",
     "text": [
      "tensor(0.1638, device='cuda:0', grad_fn=<NllLossBackward>)\n",
      "0.163782998919487\n"
     ]
    },
    {
     "name": "stderr",
     "output_type": "stream",
     "text": [
      "\n",
      "Iteration:  55%|██████████████████████████████████████                               | 229/415 [03:21<02:44,  1.13it/s]\u001b[A"
     ]
    },
    {
     "name": "stdout",
     "output_type": "stream",
     "text": [
      "tensor(0.1962, device='cuda:0', grad_fn=<NllLossBackward>)\n",
      "0.19621708989143372\n"
     ]
    },
    {
     "name": "stderr",
     "output_type": "stream",
     "text": [
      "\n",
      "Iteration:  55%|██████████████████████████████████████▏                              | 230/415 [03:22<02:47,  1.11it/s]\u001b[A"
     ]
    },
    {
     "name": "stdout",
     "output_type": "stream",
     "text": [
      "tensor(0.2209, device='cuda:0', grad_fn=<NllLossBackward>)\n",
      "0.22088772058486938\n"
     ]
    },
    {
     "name": "stderr",
     "output_type": "stream",
     "text": [
      "\n",
      "Iteration:  56%|██████████████████████████████████████▍                              | 231/415 [03:22<02:41,  1.14it/s]\u001b[A"
     ]
    },
    {
     "name": "stdout",
     "output_type": "stream",
     "text": [
      "tensor(0.1194, device='cuda:0', grad_fn=<NllLossBackward>)\n",
      "0.1193954199552536\n"
     ]
    },
    {
     "name": "stderr",
     "output_type": "stream",
     "text": [
      "\n",
      "Iteration:  56%|██████████████████████████████████████▌                              | 232/415 [03:23<02:46,  1.10it/s]\u001b[A"
     ]
    },
    {
     "name": "stdout",
     "output_type": "stream",
     "text": [
      "tensor(0.3317, device='cuda:0', grad_fn=<NllLossBackward>)\n",
      "0.331685870885849\n"
     ]
    },
    {
     "name": "stderr",
     "output_type": "stream",
     "text": [
      "\n",
      "Iteration:  56%|██████████████████████████████████████▋                              | 233/415 [03:24<02:43,  1.11it/s]\u001b[A"
     ]
    },
    {
     "name": "stdout",
     "output_type": "stream",
     "text": [
      "tensor(0.2121, device='cuda:0', grad_fn=<NllLossBackward>)\n",
      "0.21213193237781525\n"
     ]
    },
    {
     "name": "stderr",
     "output_type": "stream",
     "text": [
      "\n",
      "Iteration:  56%|██████████████████████████████████████▉                              | 234/415 [03:25<02:40,  1.12it/s]\u001b[A"
     ]
    },
    {
     "name": "stdout",
     "output_type": "stream",
     "text": [
      "tensor(0.1662, device='cuda:0', grad_fn=<NllLossBackward>)\n",
      "0.16618043184280396\n"
     ]
    },
    {
     "name": "stderr",
     "output_type": "stream",
     "text": [
      "\n",
      "Iteration:  57%|███████████████████████████████████████                              | 235/415 [03:26<02:41,  1.11it/s]\u001b[A"
     ]
    },
    {
     "name": "stdout",
     "output_type": "stream",
     "text": [
      "tensor(0.1254, device='cuda:0', grad_fn=<NllLossBackward>)\n",
      "0.12535032629966736\n"
     ]
    },
    {
     "name": "stderr",
     "output_type": "stream",
     "text": [
      "\n",
      "Iteration:  57%|███████████████████████████████████████▏                             | 236/415 [03:27<02:38,  1.13it/s]\u001b[A"
     ]
    },
    {
     "name": "stdout",
     "output_type": "stream",
     "text": [
      "tensor(0.1084, device='cuda:0', grad_fn=<NllLossBackward>)\n",
      "0.10837215185165405\n"
     ]
    },
    {
     "name": "stderr",
     "output_type": "stream",
     "text": [
      "\n",
      "Iteration:  57%|███████████████████████████████████████▍                             | 237/415 [03:28<02:35,  1.15it/s]\u001b[A"
     ]
    },
    {
     "name": "stdout",
     "output_type": "stream",
     "text": [
      "tensor(0.1991, device='cuda:0', grad_fn=<NllLossBackward>)\n",
      "0.19906550645828247\n"
     ]
    },
    {
     "name": "stderr",
     "output_type": "stream",
     "text": [
      "\n",
      "Iteration:  57%|███████████████████████████████████████▌                             | 238/415 [03:29<02:34,  1.14it/s]\u001b[A"
     ]
    },
    {
     "name": "stdout",
     "output_type": "stream",
     "text": [
      "tensor(0.2060, device='cuda:0', grad_fn=<NllLossBackward>)\n",
      "0.20601636171340942\n"
     ]
    },
    {
     "name": "stderr",
     "output_type": "stream",
     "text": [
      "\n",
      "Iteration:  58%|███████████████████████████████████████▋                             | 239/415 [03:30<02:33,  1.15it/s]\u001b[A"
     ]
    },
    {
     "name": "stdout",
     "output_type": "stream",
     "text": [
      "tensor(0.2136, device='cuda:0', grad_fn=<NllLossBackward>)\n",
      "0.21356159448623657\n"
     ]
    },
    {
     "name": "stderr",
     "output_type": "stream",
     "text": [
      "\n",
      "Iteration:  58%|███████████████████████████████████████▉                             | 240/415 [03:30<02:34,  1.13it/s]\u001b[A"
     ]
    },
    {
     "name": "stdout",
     "output_type": "stream",
     "text": [
      "tensor(0.1458, device='cuda:0', grad_fn=<NllLossBackward>)\n",
      "0.14584848284721375\n"
     ]
    },
    {
     "name": "stderr",
     "output_type": "stream",
     "text": [
      "\n",
      "Iteration:  58%|████████████████████████████████████████                             | 241/415 [03:31<02:32,  1.14it/s]\u001b[A"
     ]
    },
    {
     "name": "stdout",
     "output_type": "stream",
     "text": [
      "tensor(0.1261, device='cuda:0', grad_fn=<NllLossBackward>)\n",
      "0.1261468380689621\n"
     ]
    },
    {
     "name": "stderr",
     "output_type": "stream",
     "text": [
      "\n",
      "Iteration:  58%|████████████████████████████████████████▏                            | 242/415 [03:32<02:29,  1.15it/s]\u001b[A"
     ]
    },
    {
     "name": "stdout",
     "output_type": "stream",
     "text": [
      "tensor(0.2272, device='cuda:0', grad_fn=<NllLossBackward>)\n",
      "0.22720836102962494\n"
     ]
    },
    {
     "name": "stderr",
     "output_type": "stream",
     "text": [
      "\n",
      "Iteration:  59%|████████████████████████████████████████▍                            | 243/415 [03:33<02:31,  1.14it/s]\u001b[A"
     ]
    },
    {
     "name": "stdout",
     "output_type": "stream",
     "text": [
      "tensor(0.1969, device='cuda:0', grad_fn=<NllLossBackward>)\n",
      "0.19685959815979004\n"
     ]
    },
    {
     "name": "stderr",
     "output_type": "stream",
     "text": [
      "\n",
      "Iteration:  59%|████████████████████████████████████████▌                            | 244/415 [03:34<02:33,  1.12it/s]\u001b[A"
     ]
    },
    {
     "name": "stdout",
     "output_type": "stream",
     "text": [
      "tensor(0.4097, device='cuda:0', grad_fn=<NllLossBackward>)\n",
      "0.40974292159080505\n"
     ]
    },
    {
     "name": "stderr",
     "output_type": "stream",
     "text": [
      "\n",
      "Iteration:  59%|████████████████████████████████████████▋                            | 245/415 [03:35<02:30,  1.13it/s]\u001b[A"
     ]
    },
    {
     "name": "stdout",
     "output_type": "stream",
     "text": [
      "tensor(0.2982, device='cuda:0', grad_fn=<NllLossBackward>)\n",
      "0.29822003841400146\n"
     ]
    },
    {
     "name": "stderr",
     "output_type": "stream",
     "text": [
      "\n",
      "Iteration:  59%|████████████████████████████████████████▉                            | 246/415 [03:36<02:30,  1.12it/s]\u001b[A"
     ]
    },
    {
     "name": "stdout",
     "output_type": "stream",
     "text": [
      "tensor(0.2144, device='cuda:0', grad_fn=<NllLossBackward>)\n",
      "0.21437865495681763\n"
     ]
    },
    {
     "name": "stderr",
     "output_type": "stream",
     "text": [
      "\n",
      "Iteration:  60%|█████████████████████████████████████████                            | 247/415 [03:37<02:27,  1.14it/s]\u001b[A"
     ]
    },
    {
     "name": "stdout",
     "output_type": "stream",
     "text": [
      "tensor(0.2987, device='cuda:0', grad_fn=<NllLossBackward>)\n",
      "0.29867023229599\n"
     ]
    },
    {
     "name": "stderr",
     "output_type": "stream",
     "text": [
      "\n",
      "Iteration:  60%|█████████████████████████████████████████▏                           | 248/415 [03:37<02:28,  1.13it/s]\u001b[A"
     ]
    },
    {
     "name": "stdout",
     "output_type": "stream",
     "text": [
      "tensor(0.1995, device='cuda:0', grad_fn=<NllLossBackward>)\n",
      "0.199479877948761\n"
     ]
    },
    {
     "name": "stderr",
     "output_type": "stream",
     "text": [
      "\n",
      "Iteration:  60%|█████████████████████████████████████████▍                           | 249/415 [03:38<02:27,  1.13it/s]\u001b[A"
     ]
    },
    {
     "name": "stdout",
     "output_type": "stream",
     "text": [
      "tensor(0.2510, device='cuda:0', grad_fn=<NllLossBackward>)\n",
      "0.25096943974494934\n"
     ]
    },
    {
     "name": "stderr",
     "output_type": "stream",
     "text": [
      "\n",
      "Iteration:  60%|█████████████████████████████████████████▌                           | 250/415 [03:39<02:24,  1.15it/s]\u001b[A"
     ]
    },
    {
     "name": "stdout",
     "output_type": "stream",
     "text": [
      "tensor(0.3772, device='cuda:0', grad_fn=<NllLossBackward>)\n",
      "0.3771584928035736\n"
     ]
    },
    {
     "name": "stderr",
     "output_type": "stream",
     "text": [
      "\n",
      "Iteration:  60%|█████████████████████████████████████████▋                           | 251/415 [03:40<02:22,  1.15it/s]\u001b[A"
     ]
    },
    {
     "name": "stdout",
     "output_type": "stream",
     "text": [
      "tensor(0.3054, device='cuda:0', grad_fn=<NllLossBackward>)\n",
      "0.30536729097366333\n"
     ]
    },
    {
     "name": "stderr",
     "output_type": "stream",
     "text": [
      "\n",
      "Iteration:  61%|█████████████████████████████████████████▉                           | 252/415 [03:41<02:34,  1.06it/s]\u001b[A"
     ]
    },
    {
     "name": "stdout",
     "output_type": "stream",
     "text": [
      "tensor(0.1076, device='cuda:0', grad_fn=<NllLossBackward>)\n",
      "0.10759972035884857\n"
     ]
    },
    {
     "name": "stderr",
     "output_type": "stream",
     "text": [
      "\n",
      "Iteration:  61%|██████████████████████████████████████████                           | 253/415 [03:42<02:30,  1.08it/s]\u001b[A"
     ]
    },
    {
     "name": "stdout",
     "output_type": "stream",
     "text": [
      "tensor(0.3681, device='cuda:0', grad_fn=<NllLossBackward>)\n",
      "0.368097186088562\n"
     ]
    },
    {
     "name": "stderr",
     "output_type": "stream",
     "text": [
      "\n",
      "Iteration:  61%|██████████████████████████████████████████▏                          | 254/415 [03:43<02:24,  1.11it/s]\u001b[A"
     ]
    },
    {
     "name": "stdout",
     "output_type": "stream",
     "text": [
      "tensor(0.2331, device='cuda:0', grad_fn=<NllLossBackward>)\n",
      "0.2331339418888092\n"
     ]
    },
    {
     "name": "stderr",
     "output_type": "stream",
     "text": [
      "\n",
      "Iteration:  61%|██████████████████████████████████████████▍                          | 255/415 [03:44<02:20,  1.14it/s]\u001b[A"
     ]
    },
    {
     "name": "stdout",
     "output_type": "stream",
     "text": [
      "tensor(0.2790, device='cuda:0', grad_fn=<NllLossBackward>)\n",
      "0.27897804975509644\n"
     ]
    },
    {
     "name": "stderr",
     "output_type": "stream",
     "text": [
      "\n",
      "Iteration:  62%|██████████████████████████████████████████▌                          | 256/415 [03:45<02:21,  1.13it/s]\u001b[A"
     ]
    },
    {
     "name": "stdout",
     "output_type": "stream",
     "text": [
      "tensor(0.0888, device='cuda:0', grad_fn=<NllLossBackward>)\n",
      "0.08877212554216385\n"
     ]
    },
    {
     "name": "stderr",
     "output_type": "stream",
     "text": [
      "\n",
      "Iteration:  62%|██████████████████████████████████████████▋                          | 257/415 [03:46<02:21,  1.12it/s]\u001b[A"
     ]
    },
    {
     "name": "stdout",
     "output_type": "stream",
     "text": [
      "tensor(0.1619, device='cuda:0', grad_fn=<NllLossBackward>)\n",
      "0.16186006367206573\n"
     ]
    },
    {
     "name": "stderr",
     "output_type": "stream",
     "text": [
      "\n",
      "Iteration:  62%|██████████████████████████████████████████▉                          | 258/415 [03:46<02:16,  1.15it/s]\u001b[A"
     ]
    },
    {
     "name": "stdout",
     "output_type": "stream",
     "text": [
      "tensor(0.1860, device='cuda:0', grad_fn=<NllLossBackward>)\n",
      "0.18596750497817993\n"
     ]
    },
    {
     "name": "stderr",
     "output_type": "stream",
     "text": [
      "\n",
      "Iteration:  62%|███████████████████████████████████████████                          | 259/415 [03:47<02:18,  1.13it/s]\u001b[A"
     ]
    },
    {
     "name": "stdout",
     "output_type": "stream",
     "text": [
      "tensor(0.1010, device='cuda:0', grad_fn=<NllLossBackward>)\n",
      "0.100958451628685\n"
     ]
    },
    {
     "name": "stderr",
     "output_type": "stream",
     "text": [
      "\n",
      "Iteration:  63%|███████████████████████████████████████████▏                         | 260/415 [03:48<02:17,  1.13it/s]\u001b[A"
     ]
    },
    {
     "name": "stdout",
     "output_type": "stream",
     "text": [
      "tensor(0.3200, device='cuda:0', grad_fn=<NllLossBackward>)\n",
      "0.3199998438358307\n"
     ]
    },
    {
     "name": "stderr",
     "output_type": "stream",
     "text": [
      "\n",
      "Iteration:  63%|███████████████████████████████████████████▍                         | 261/415 [03:49<02:13,  1.15it/s]\u001b[A"
     ]
    },
    {
     "name": "stdout",
     "output_type": "stream",
     "text": [
      "tensor(0.1754, device='cuda:0', grad_fn=<NllLossBackward>)\n",
      "0.17543216049671173\n"
     ]
    },
    {
     "name": "stderr",
     "output_type": "stream",
     "text": [
      "\n",
      "Iteration:  63%|███████████████████████████████████████████▌                         | 262/415 [03:50<02:12,  1.15it/s]\u001b[A"
     ]
    },
    {
     "name": "stdout",
     "output_type": "stream",
     "text": [
      "tensor(0.2073, device='cuda:0', grad_fn=<NllLossBackward>)\n",
      "0.20733889937400818\n"
     ]
    },
    {
     "name": "stderr",
     "output_type": "stream",
     "text": [
      "\n",
      "Iteration:  63%|███████████████████████████████████████████▋                         | 263/415 [03:51<02:11,  1.16it/s]\u001b[A"
     ]
    },
    {
     "name": "stdout",
     "output_type": "stream",
     "text": [
      "tensor(0.2573, device='cuda:0', grad_fn=<NllLossBackward>)\n",
      "0.2573460638523102\n"
     ]
    },
    {
     "name": "stderr",
     "output_type": "stream",
     "text": [
      "\n",
      "Iteration:  64%|███████████████████████████████████████████▉                         | 264/415 [03:52<02:09,  1.17it/s]\u001b[A"
     ]
    },
    {
     "name": "stdout",
     "output_type": "stream",
     "text": [
      "tensor(0.1400, device='cuda:0', grad_fn=<NllLossBackward>)\n",
      "0.13995453715324402\n"
     ]
    },
    {
     "name": "stderr",
     "output_type": "stream",
     "text": [
      "\n",
      "Iteration:  64%|████████████████████████████████████████████                         | 265/415 [03:52<02:10,  1.15it/s]\u001b[A"
     ]
    },
    {
     "name": "stdout",
     "output_type": "stream",
     "text": [
      "tensor(0.2473, device='cuda:0', grad_fn=<NllLossBackward>)\n",
      "0.24731376767158508\n"
     ]
    },
    {
     "name": "stderr",
     "output_type": "stream",
     "text": [
      "\n",
      "Iteration:  64%|████████████████████████████████████████████▏                        | 266/415 [03:53<02:07,  1.17it/s]\u001b[A"
     ]
    },
    {
     "name": "stdout",
     "output_type": "stream",
     "text": [
      "tensor(0.2468, device='cuda:0', grad_fn=<NllLossBackward>)\n",
      "0.24677802622318268\n"
     ]
    },
    {
     "name": "stderr",
     "output_type": "stream",
     "text": [
      "\n",
      "Iteration:  64%|████████████████████████████████████████████▍                        | 267/415 [03:54<02:10,  1.13it/s]\u001b[A"
     ]
    },
    {
     "name": "stdout",
     "output_type": "stream",
     "text": [
      "tensor(0.2213, device='cuda:0', grad_fn=<NllLossBackward>)\n",
      "0.22129571437835693\n"
     ]
    },
    {
     "name": "stderr",
     "output_type": "stream",
     "text": [
      "\n",
      "Iteration:  65%|████████████████████████████████████████████▌                        | 268/415 [03:55<02:08,  1.14it/s]\u001b[A"
     ]
    },
    {
     "name": "stdout",
     "output_type": "stream",
     "text": [
      "tensor(0.1442, device='cuda:0', grad_fn=<NllLossBackward>)\n",
      "0.1442006528377533\n"
     ]
    },
    {
     "name": "stderr",
     "output_type": "stream",
     "text": [
      "\n",
      "Iteration:  65%|████████████████████████████████████████████▋                        | 269/415 [03:56<02:05,  1.16it/s]\u001b[A"
     ]
    },
    {
     "name": "stdout",
     "output_type": "stream",
     "text": [
      "tensor(0.1918, device='cuda:0', grad_fn=<NllLossBackward>)\n",
      "0.19177423417568207\n"
     ]
    },
    {
     "name": "stderr",
     "output_type": "stream",
     "text": [
      "\n",
      "Iteration:  65%|████████████████████████████████████████████▉                        | 270/415 [03:57<02:06,  1.15it/s]\u001b[A"
     ]
    },
    {
     "name": "stdout",
     "output_type": "stream",
     "text": [
      "tensor(0.1794, device='cuda:0', grad_fn=<NllLossBackward>)\n",
      "0.17943687736988068\n"
     ]
    },
    {
     "name": "stderr",
     "output_type": "stream",
     "text": [
      "\n",
      "Iteration:  65%|█████████████████████████████████████████████                        | 271/415 [03:58<02:02,  1.18it/s]\u001b[A"
     ]
    },
    {
     "name": "stdout",
     "output_type": "stream",
     "text": [
      "tensor(0.0653, device='cuda:0', grad_fn=<NllLossBackward>)\n",
      "0.06526098400354385\n"
     ]
    },
    {
     "name": "stderr",
     "output_type": "stream",
     "text": [
      "\n",
      "Iteration:  66%|█████████████████████████████████████████████▏                       | 272/415 [03:59<02:03,  1.15it/s]\u001b[A"
     ]
    },
    {
     "name": "stdout",
     "output_type": "stream",
     "text": [
      "tensor(0.2005, device='cuda:0', grad_fn=<NllLossBackward>)\n",
      "0.20053519308567047\n"
     ]
    },
    {
     "name": "stderr",
     "output_type": "stream",
     "text": [
      "\n",
      "Iteration:  66%|█████████████████████████████████████████████▍                       | 273/415 [03:59<02:06,  1.12it/s]\u001b[A"
     ]
    },
    {
     "name": "stdout",
     "output_type": "stream",
     "text": [
      "tensor(0.2304, device='cuda:0', grad_fn=<NllLossBackward>)\n",
      "0.23044367134571075\n"
     ]
    },
    {
     "name": "stderr",
     "output_type": "stream",
     "text": [
      "\n",
      "Iteration:  66%|█████████████████████████████████████████████▌                       | 274/415 [04:00<02:02,  1.15it/s]\u001b[A"
     ]
    },
    {
     "name": "stdout",
     "output_type": "stream",
     "text": [
      "tensor(0.1629, device='cuda:0', grad_fn=<NllLossBackward>)\n",
      "0.1628798246383667\n"
     ]
    },
    {
     "name": "stderr",
     "output_type": "stream",
     "text": [
      "\n",
      "Iteration:  66%|█████████████████████████████████████████████▋                       | 275/415 [04:01<02:01,  1.16it/s]\u001b[A"
     ]
    },
    {
     "name": "stdout",
     "output_type": "stream",
     "text": [
      "tensor(0.3547, device='cuda:0', grad_fn=<NllLossBackward>)\n",
      "0.3547397553920746\n"
     ]
    },
    {
     "name": "stderr",
     "output_type": "stream",
     "text": [
      "\n",
      "Iteration:  67%|█████████████████████████████████████████████▉                       | 276/415 [04:02<02:01,  1.14it/s]\u001b[A"
     ]
    },
    {
     "name": "stdout",
     "output_type": "stream",
     "text": [
      "tensor(0.3412, device='cuda:0', grad_fn=<NllLossBackward>)\n",
      "0.34121185541152954\n"
     ]
    },
    {
     "name": "stderr",
     "output_type": "stream",
     "text": [
      "\n",
      "Iteration:  67%|██████████████████████████████████████████████                       | 277/415 [04:03<02:04,  1.11it/s]\u001b[A"
     ]
    },
    {
     "name": "stdout",
     "output_type": "stream",
     "text": [
      "tensor(0.2821, device='cuda:0', grad_fn=<NllLossBackward>)\n",
      "0.2820679843425751\n"
     ]
    },
    {
     "name": "stderr",
     "output_type": "stream",
     "text": [
      "\n",
      "Iteration:  67%|██████████████████████████████████████████████▏                      | 278/415 [04:04<02:03,  1.11it/s]\u001b[A"
     ]
    },
    {
     "name": "stdout",
     "output_type": "stream",
     "text": [
      "tensor(0.2219, device='cuda:0', grad_fn=<NllLossBackward>)\n",
      "0.2219410240650177\n"
     ]
    },
    {
     "name": "stderr",
     "output_type": "stream",
     "text": [
      "\n",
      "Iteration:  67%|██████████████████████████████████████████████▍                      | 279/415 [04:05<02:02,  1.11it/s]\u001b[A"
     ]
    },
    {
     "name": "stdout",
     "output_type": "stream",
     "text": [
      "tensor(0.1837, device='cuda:0', grad_fn=<NllLossBackward>)\n",
      "0.18370211124420166\n"
     ]
    },
    {
     "name": "stderr",
     "output_type": "stream",
     "text": [
      "\n",
      "Iteration:  67%|██████████████████████████████████████████████▌                      | 280/415 [04:06<01:59,  1.13it/s]\u001b[A"
     ]
    },
    {
     "name": "stdout",
     "output_type": "stream",
     "text": [
      "tensor(0.1080, device='cuda:0', grad_fn=<NllLossBackward>)\n",
      "0.10797715187072754\n"
     ]
    },
    {
     "name": "stderr",
     "output_type": "stream",
     "text": [
      "\n",
      "Iteration:  68%|██████████████████████████████████████████████▋                      | 281/415 [04:07<01:56,  1.15it/s]\u001b[A"
     ]
    },
    {
     "name": "stdout",
     "output_type": "stream",
     "text": [
      "tensor(0.1016, device='cuda:0', grad_fn=<NllLossBackward>)\n",
      "0.10156846046447754\n"
     ]
    },
    {
     "name": "stderr",
     "output_type": "stream",
     "text": [
      "\n",
      "Iteration:  68%|██████████████████████████████████████████████▉                      | 282/415 [04:07<01:56,  1.15it/s]\u001b[A"
     ]
    },
    {
     "name": "stdout",
     "output_type": "stream",
     "text": [
      "tensor(0.3146, device='cuda:0', grad_fn=<NllLossBackward>)\n",
      "0.31457483768463135\n"
     ]
    },
    {
     "name": "stderr",
     "output_type": "stream",
     "text": [
      "\n",
      "Iteration:  68%|███████████████████████████████████████████████                      | 283/415 [04:08<01:56,  1.13it/s]\u001b[A"
     ]
    },
    {
     "name": "stdout",
     "output_type": "stream",
     "text": [
      "tensor(0.1284, device='cuda:0', grad_fn=<NllLossBackward>)\n",
      "0.12839338183403015\n"
     ]
    },
    {
     "name": "stderr",
     "output_type": "stream",
     "text": [
      "\n",
      "Iteration:  68%|███████████████████████████████████████████████▏                     | 284/415 [04:09<01:54,  1.14it/s]\u001b[A"
     ]
    },
    {
     "name": "stdout",
     "output_type": "stream",
     "text": [
      "tensor(0.1324, device='cuda:0', grad_fn=<NllLossBackward>)\n",
      "0.1324012726545334\n"
     ]
    },
    {
     "name": "stderr",
     "output_type": "stream",
     "text": [
      "\n",
      "Iteration:  69%|███████████████████████████████████████████████▍                     | 285/415 [04:10<01:51,  1.16it/s]\u001b[A"
     ]
    },
    {
     "name": "stdout",
     "output_type": "stream",
     "text": [
      "tensor(0.0741, device='cuda:0', grad_fn=<NllLossBackward>)\n",
      "0.0740608274936676\n"
     ]
    },
    {
     "name": "stderr",
     "output_type": "stream",
     "text": [
      "\n",
      "Iteration:  69%|███████████████████████████████████████████████▌                     | 286/415 [04:11<01:50,  1.17it/s]\u001b[A"
     ]
    },
    {
     "name": "stdout",
     "output_type": "stream",
     "text": [
      "tensor(0.2308, device='cuda:0', grad_fn=<NllLossBackward>)\n",
      "0.2308194935321808\n"
     ]
    },
    {
     "name": "stderr",
     "output_type": "stream",
     "text": [
      "\n",
      "Iteration:  69%|███████████████████████████████████████████████▋                     | 287/415 [04:12<01:52,  1.14it/s]\u001b[A"
     ]
    },
    {
     "name": "stdout",
     "output_type": "stream",
     "text": [
      "tensor(0.0883, device='cuda:0', grad_fn=<NllLossBackward>)\n",
      "0.08825737982988358\n"
     ]
    },
    {
     "name": "stderr",
     "output_type": "stream",
     "text": [
      "\n",
      "Iteration:  69%|███████████████████████████████████████████████▉                     | 288/415 [04:13<01:49,  1.16it/s]\u001b[A"
     ]
    },
    {
     "name": "stdout",
     "output_type": "stream",
     "text": [
      "tensor(0.2967, device='cuda:0', grad_fn=<NllLossBackward>)\n",
      "0.29666653275489807\n"
     ]
    },
    {
     "name": "stderr",
     "output_type": "stream",
     "text": [
      "\n",
      "Iteration:  70%|████████████████████████████████████████████████                     | 289/415 [04:13<01:48,  1.16it/s]\u001b[A"
     ]
    },
    {
     "name": "stdout",
     "output_type": "stream",
     "text": [
      "tensor(0.2480, device='cuda:0', grad_fn=<NllLossBackward>)\n",
      "0.24796812236309052\n"
     ]
    },
    {
     "name": "stderr",
     "output_type": "stream",
     "text": [
      "\n",
      "Iteration:  70%|████████████████████████████████████████████████▏                    | 290/415 [04:14<01:47,  1.16it/s]\u001b[A"
     ]
    },
    {
     "name": "stdout",
     "output_type": "stream",
     "text": [
      "tensor(0.1514, device='cuda:0', grad_fn=<NllLossBackward>)\n",
      "0.1513751894235611\n"
     ]
    },
    {
     "name": "stderr",
     "output_type": "stream",
     "text": [
      "\n",
      "Iteration:  70%|████████████████████████████████████████████████▍                    | 291/415 [04:15<01:49,  1.13it/s]\u001b[A"
     ]
    },
    {
     "name": "stdout",
     "output_type": "stream",
     "text": [
      "tensor(0.1714, device='cuda:0', grad_fn=<NllLossBackward>)\n",
      "0.17141251266002655\n"
     ]
    },
    {
     "name": "stderr",
     "output_type": "stream",
     "text": [
      "\n",
      "Iteration:  70%|████████████████████████████████████████████████▌                    | 292/415 [04:16<01:47,  1.14it/s]\u001b[A"
     ]
    },
    {
     "name": "stdout",
     "output_type": "stream",
     "text": [
      "tensor(0.1899, device='cuda:0', grad_fn=<NllLossBackward>)\n",
      "0.18987435102462769\n"
     ]
    },
    {
     "name": "stderr",
     "output_type": "stream",
     "text": [
      "\n",
      "Iteration:  71%|████████████████████████████████████████████████▋                    | 293/415 [04:17<01:50,  1.11it/s]\u001b[A"
     ]
    },
    {
     "name": "stdout",
     "output_type": "stream",
     "text": [
      "tensor(0.3554, device='cuda:0', grad_fn=<NllLossBackward>)\n",
      "0.3553624153137207\n"
     ]
    },
    {
     "name": "stderr",
     "output_type": "stream",
     "text": [
      "\n",
      "Iteration:  71%|████████████████████████████████████████████████▉                    | 294/415 [04:18<01:47,  1.12it/s]\u001b[A"
     ]
    },
    {
     "name": "stdout",
     "output_type": "stream",
     "text": [
      "tensor(0.3600, device='cuda:0', grad_fn=<NllLossBackward>)\n",
      "0.3599783778190613\n"
     ]
    },
    {
     "name": "stderr",
     "output_type": "stream",
     "text": [
      "\n",
      "Iteration:  71%|█████████████████████████████████████████████████                    | 295/415 [04:19<01:46,  1.13it/s]\u001b[A"
     ]
    },
    {
     "name": "stdout",
     "output_type": "stream",
     "text": [
      "tensor(0.1962, device='cuda:0', grad_fn=<NllLossBackward>)\n",
      "0.19615067541599274\n"
     ]
    },
    {
     "name": "stderr",
     "output_type": "stream",
     "text": [
      "\n",
      "Iteration:  71%|█████████████████████████████████████████████████▏                   | 296/415 [04:20<01:46,  1.12it/s]\u001b[A"
     ]
    },
    {
     "name": "stdout",
     "output_type": "stream",
     "text": [
      "tensor(0.3178, device='cuda:0', grad_fn=<NllLossBackward>)\n",
      "0.3178376257419586\n"
     ]
    },
    {
     "name": "stderr",
     "output_type": "stream",
     "text": [
      "\n",
      "Iteration:  72%|█████████████████████████████████████████████████▍                   | 297/415 [04:21<01:43,  1.14it/s]\u001b[A"
     ]
    },
    {
     "name": "stdout",
     "output_type": "stream",
     "text": [
      "tensor(0.3789, device='cuda:0', grad_fn=<NllLossBackward>)\n",
      "0.37891507148742676\n"
     ]
    },
    {
     "name": "stderr",
     "output_type": "stream",
     "text": [
      "\n",
      "Iteration:  72%|█████████████████████████████████████████████████▌                   | 298/415 [04:21<01:40,  1.16it/s]\u001b[A"
     ]
    },
    {
     "name": "stdout",
     "output_type": "stream",
     "text": [
      "tensor(0.5905, device='cuda:0', grad_fn=<NllLossBackward>)\n",
      "0.590549111366272\n"
     ]
    },
    {
     "name": "stderr",
     "output_type": "stream",
     "text": [
      "\n",
      "Iteration:  72%|█████████████████████████████████████████████████▋                   | 299/415 [04:22<01:40,  1.15it/s]\u001b[A"
     ]
    },
    {
     "name": "stdout",
     "output_type": "stream",
     "text": [
      "tensor(0.1917, device='cuda:0', grad_fn=<NllLossBackward>)\n",
      "0.19174014031887054\n"
     ]
    },
    {
     "name": "stderr",
     "output_type": "stream",
     "text": [
      "\n",
      "Iteration:  72%|█████████████████████████████████████████████████▉                   | 300/415 [04:23<01:41,  1.14it/s]\u001b[A"
     ]
    },
    {
     "name": "stdout",
     "output_type": "stream",
     "text": [
      "tensor(0.2361, device='cuda:0', grad_fn=<NllLossBackward>)\n",
      "0.23610961437225342\n"
     ]
    },
    {
     "name": "stderr",
     "output_type": "stream",
     "text": [
      "\n",
      "Iteration:  73%|██████████████████████████████████████████████████                   | 301/415 [04:24<01:44,  1.09it/s]\u001b[A"
     ]
    },
    {
     "name": "stdout",
     "output_type": "stream",
     "text": [
      "tensor(0.2017, device='cuda:0', grad_fn=<NllLossBackward>)\n",
      "0.20171263813972473\n"
     ]
    },
    {
     "name": "stderr",
     "output_type": "stream",
     "text": [
      "\n",
      "Iteration:  73%|██████████████████████████████████████████████████▏                  | 302/415 [04:25<01:41,  1.12it/s]\u001b[A"
     ]
    },
    {
     "name": "stdout",
     "output_type": "stream",
     "text": [
      "tensor(0.2938, device='cuda:0', grad_fn=<NllLossBackward>)\n",
      "0.2938435673713684\n"
     ]
    },
    {
     "name": "stderr",
     "output_type": "stream",
     "text": [
      "\n",
      "Iteration:  73%|██████████████████████████████████████████████████▍                  | 303/415 [04:26<01:39,  1.12it/s]\u001b[A"
     ]
    },
    {
     "name": "stdout",
     "output_type": "stream",
     "text": [
      "tensor(0.1914, device='cuda:0', grad_fn=<NllLossBackward>)\n",
      "0.19137226045131683\n"
     ]
    },
    {
     "name": "stderr",
     "output_type": "stream",
     "text": [
      "\n",
      "Iteration:  73%|██████████████████████████████████████████████████▌                  | 304/415 [04:27<01:37,  1.14it/s]\u001b[A"
     ]
    },
    {
     "name": "stdout",
     "output_type": "stream",
     "text": [
      "tensor(0.1047, device='cuda:0', grad_fn=<NllLossBackward>)\n",
      "0.10466036945581436\n"
     ]
    },
    {
     "name": "stderr",
     "output_type": "stream",
     "text": [
      "\n",
      "Iteration:  73%|██████████████████████████████████████████████████▋                  | 305/415 [04:28<01:35,  1.16it/s]\u001b[A"
     ]
    },
    {
     "name": "stdout",
     "output_type": "stream",
     "text": [
      "tensor(0.1776, device='cuda:0', grad_fn=<NllLossBackward>)\n",
      "0.1775818169116974\n"
     ]
    },
    {
     "name": "stderr",
     "output_type": "stream",
     "text": [
      "\n",
      "Iteration:  74%|██████████████████████████████████████████████████▉                  | 306/415 [04:29<01:38,  1.11it/s]\u001b[A"
     ]
    },
    {
     "name": "stdout",
     "output_type": "stream",
     "text": [
      "tensor(0.2643, device='cuda:0', grad_fn=<NllLossBackward>)\n",
      "0.2643001973628998\n"
     ]
    },
    {
     "name": "stderr",
     "output_type": "stream",
     "text": [
      "\n",
      "Iteration:  74%|███████████████████████████████████████████████████                  | 307/415 [04:29<01:34,  1.14it/s]\u001b[A"
     ]
    },
    {
     "name": "stdout",
     "output_type": "stream",
     "text": [
      "tensor(0.1868, device='cuda:0', grad_fn=<NllLossBackward>)\n",
      "0.18682506680488586\n"
     ]
    },
    {
     "name": "stderr",
     "output_type": "stream",
     "text": [
      "\n",
      "Iteration:  74%|███████████████████████████████████████████████████▏                 | 308/415 [04:30<01:32,  1.15it/s]\u001b[A"
     ]
    },
    {
     "name": "stdout",
     "output_type": "stream",
     "text": [
      "tensor(0.1481, device='cuda:0', grad_fn=<NllLossBackward>)\n",
      "0.14805608987808228\n"
     ]
    },
    {
     "name": "stderr",
     "output_type": "stream",
     "text": [
      "\n",
      "Iteration:  74%|███████████████████████████████████████████████████▍                 | 309/415 [04:31<01:33,  1.13it/s]\u001b[A"
     ]
    },
    {
     "name": "stdout",
     "output_type": "stream",
     "text": [
      "tensor(0.2727, device='cuda:0', grad_fn=<NllLossBackward>)\n",
      "0.272732675075531\n"
     ]
    },
    {
     "name": "stderr",
     "output_type": "stream",
     "text": [
      "\n",
      "Iteration:  75%|███████████████████████████████████████████████████▌                 | 310/415 [04:32<01:33,  1.12it/s]\u001b[A"
     ]
    },
    {
     "name": "stdout",
     "output_type": "stream",
     "text": [
      "tensor(0.1581, device='cuda:0', grad_fn=<NllLossBackward>)\n",
      "0.15813204646110535\n"
     ]
    },
    {
     "name": "stderr",
     "output_type": "stream",
     "text": [
      "\n",
      "Iteration:  75%|███████████████████████████████████████████████████▋                 | 311/415 [04:33<01:30,  1.14it/s]\u001b[A"
     ]
    },
    {
     "name": "stdout",
     "output_type": "stream",
     "text": [
      "tensor(0.2623, device='cuda:0', grad_fn=<NllLossBackward>)\n",
      "0.2622537314891815\n"
     ]
    },
    {
     "name": "stderr",
     "output_type": "stream",
     "text": [
      "\n",
      "Iteration:  75%|███████████████████████████████████████████████████▊                 | 312/415 [04:34<01:30,  1.13it/s]\u001b[A"
     ]
    },
    {
     "name": "stdout",
     "output_type": "stream",
     "text": [
      "tensor(0.1968, device='cuda:0', grad_fn=<NllLossBackward>)\n",
      "0.19683586061000824\n"
     ]
    },
    {
     "name": "stderr",
     "output_type": "stream",
     "text": [
      "\n",
      "Iteration:  75%|████████████████████████████████████████████████████                 | 313/415 [04:35<01:31,  1.12it/s]\u001b[A"
     ]
    },
    {
     "name": "stdout",
     "output_type": "stream",
     "text": [
      "tensor(0.3963, device='cuda:0', grad_fn=<NllLossBackward>)\n",
      "0.39629703760147095\n"
     ]
    },
    {
     "name": "stderr",
     "output_type": "stream",
     "text": [
      "\n",
      "Iteration:  76%|████████████████████████████████████████████████████▏                | 314/415 [04:36<01:27,  1.15it/s]\u001b[A"
     ]
    },
    {
     "name": "stdout",
     "output_type": "stream",
     "text": [
      "tensor(0.3126, device='cuda:0', grad_fn=<NllLossBackward>)\n",
      "0.31260353326797485\n"
     ]
    },
    {
     "name": "stderr",
     "output_type": "stream",
     "text": [
      "\n",
      "Iteration:  76%|████████████████████████████████████████████████████▎                | 315/415 [04:36<01:26,  1.15it/s]\u001b[A"
     ]
    },
    {
     "name": "stdout",
     "output_type": "stream",
     "text": [
      "tensor(0.1270, device='cuda:0', grad_fn=<NllLossBackward>)\n",
      "0.12701746821403503\n"
     ]
    },
    {
     "name": "stderr",
     "output_type": "stream",
     "text": [
      "\n",
      "Iteration:  76%|████████████████████████████████████████████████████▌                | 316/415 [04:37<01:28,  1.12it/s]\u001b[A"
     ]
    },
    {
     "name": "stdout",
     "output_type": "stream",
     "text": [
      "tensor(0.1635, device='cuda:0', grad_fn=<NllLossBackward>)\n",
      "0.16349884867668152\n"
     ]
    },
    {
     "name": "stderr",
     "output_type": "stream",
     "text": [
      "\n",
      "Iteration:  76%|████████████████████████████████████████████████████▋                | 317/415 [04:38<01:25,  1.15it/s]\u001b[A"
     ]
    },
    {
     "name": "stdout",
     "output_type": "stream",
     "text": [
      "tensor(0.2069, device='cuda:0', grad_fn=<NllLossBackward>)\n",
      "0.20691069960594177\n"
     ]
    },
    {
     "name": "stderr",
     "output_type": "stream",
     "text": [
      "\n",
      "Iteration:  77%|████████████████████████████████████████████████████▊                | 318/415 [04:39<01:23,  1.16it/s]\u001b[A"
     ]
    },
    {
     "name": "stdout",
     "output_type": "stream",
     "text": [
      "tensor(0.3617, device='cuda:0', grad_fn=<NllLossBackward>)\n",
      "0.3617492914199829\n"
     ]
    },
    {
     "name": "stderr",
     "output_type": "stream",
     "text": [
      "\n",
      "Iteration:  77%|█████████████████████████████████████████████████████                | 319/415 [04:40<01:24,  1.13it/s]\u001b[A"
     ]
    },
    {
     "name": "stdout",
     "output_type": "stream",
     "text": [
      "tensor(0.3035, device='cuda:0', grad_fn=<NllLossBackward>)\n",
      "0.3034572899341583\n"
     ]
    },
    {
     "name": "stderr",
     "output_type": "stream",
     "text": [
      "\n",
      "Iteration:  77%|█████████████████████████████████████████████████████▏               | 320/415 [04:41<01:26,  1.10it/s]\u001b[A"
     ]
    },
    {
     "name": "stdout",
     "output_type": "stream",
     "text": [
      "tensor(0.1984, device='cuda:0', grad_fn=<NllLossBackward>)\n",
      "0.1983594298362732\n"
     ]
    },
    {
     "name": "stderr",
     "output_type": "stream",
     "text": [
      "\n",
      "Iteration:  77%|█████████████████████████████████████████████████████▎               | 321/415 [04:42<01:24,  1.11it/s]\u001b[A"
     ]
    },
    {
     "name": "stdout",
     "output_type": "stream",
     "text": [
      "tensor(0.2971, device='cuda:0', grad_fn=<NllLossBackward>)\n",
      "0.2971038520336151\n"
     ]
    },
    {
     "name": "stderr",
     "output_type": "stream",
     "text": [
      "\n",
      "Iteration:  78%|█████████████████████████████████████████████████████▌               | 322/415 [04:43<01:24,  1.11it/s]\u001b[A"
     ]
    },
    {
     "name": "stdout",
     "output_type": "stream",
     "text": [
      "tensor(0.1920, device='cuda:0', grad_fn=<NllLossBackward>)\n",
      "0.191981241106987\n"
     ]
    },
    {
     "name": "stderr",
     "output_type": "stream",
     "text": [
      "\n",
      "Iteration:  78%|█████████████████████████████████████████████████████▋               | 323/415 [04:44<01:21,  1.13it/s]\u001b[A"
     ]
    },
    {
     "name": "stdout",
     "output_type": "stream",
     "text": [
      "tensor(0.2465, device='cuda:0', grad_fn=<NllLossBackward>)\n",
      "0.24651777744293213\n"
     ]
    },
    {
     "name": "stderr",
     "output_type": "stream",
     "text": [
      "\n",
      "Iteration:  78%|█████████████████████████████████████████████████████▊               | 324/415 [04:44<01:19,  1.15it/s]\u001b[A"
     ]
    },
    {
     "name": "stdout",
     "output_type": "stream",
     "text": [
      "tensor(0.1275, device='cuda:0', grad_fn=<NllLossBackward>)\n",
      "0.12749747931957245\n"
     ]
    },
    {
     "name": "stderr",
     "output_type": "stream",
     "text": [
      "\n",
      "Iteration:  78%|██████████████████████████████████████████████████████               | 325/415 [04:45<01:18,  1.15it/s]\u001b[A"
     ]
    },
    {
     "name": "stdout",
     "output_type": "stream",
     "text": [
      "tensor(0.2465, device='cuda:0', grad_fn=<NllLossBackward>)\n",
      "0.24651995301246643\n"
     ]
    },
    {
     "name": "stderr",
     "output_type": "stream",
     "text": [
      "\n",
      "Iteration:  79%|██████████████████████████████████████████████████████▏              | 326/415 [04:46<01:16,  1.16it/s]\u001b[A"
     ]
    },
    {
     "name": "stdout",
     "output_type": "stream",
     "text": [
      "tensor(0.1096, device='cuda:0', grad_fn=<NllLossBackward>)\n",
      "0.10962529480457306\n"
     ]
    },
    {
     "name": "stderr",
     "output_type": "stream",
     "text": [
      "\n",
      "Iteration:  79%|██████████████████████████████████████████████████████▎              | 327/415 [04:47<01:18,  1.12it/s]\u001b[A"
     ]
    },
    {
     "name": "stdout",
     "output_type": "stream",
     "text": [
      "tensor(0.1923, device='cuda:0', grad_fn=<NllLossBackward>)\n",
      "0.19234150648117065\n"
     ]
    },
    {
     "name": "stderr",
     "output_type": "stream",
     "text": [
      "\n",
      "Iteration:  79%|██████████████████████████████████████████████████████▌              | 328/415 [04:48<01:27,  1.01s/it]\u001b[A"
     ]
    },
    {
     "name": "stdout",
     "output_type": "stream",
     "text": [
      "tensor(0.1602, device='cuda:0', grad_fn=<NllLossBackward>)\n",
      "0.16024917364120483\n"
     ]
    },
    {
     "name": "stderr",
     "output_type": "stream",
     "text": [
      "\n",
      "Iteration:  79%|██████████████████████████████████████████████████████▋              | 329/415 [04:49<01:22,  1.04it/s]\u001b[A"
     ]
    },
    {
     "name": "stdout",
     "output_type": "stream",
     "text": [
      "tensor(0.1980, device='cuda:0', grad_fn=<NllLossBackward>)\n",
      "0.1979762315750122\n"
     ]
    },
    {
     "name": "stderr",
     "output_type": "stream",
     "text": [
      "\n",
      "Iteration:  80%|██████████████████████████████████████████████████████▊              | 330/415 [04:50<01:18,  1.09it/s]\u001b[A"
     ]
    },
    {
     "name": "stdout",
     "output_type": "stream",
     "text": [
      "tensor(0.2020, device='cuda:0', grad_fn=<NllLossBackward>)\n",
      "0.20204168558120728\n"
     ]
    },
    {
     "name": "stderr",
     "output_type": "stream",
     "text": [
      "\n",
      "Iteration:  80%|███████████████████████████████████████████████████████              | 331/415 [04:51<01:16,  1.09it/s]\u001b[A"
     ]
    },
    {
     "name": "stdout",
     "output_type": "stream",
     "text": [
      "tensor(0.3717, device='cuda:0', grad_fn=<NllLossBackward>)\n",
      "0.3717168867588043\n"
     ]
    },
    {
     "name": "stderr",
     "output_type": "stream",
     "text": [
      "\n",
      "Iteration:  80%|███████████████████████████████████████████████████████▏             | 332/415 [04:52<01:13,  1.13it/s]\u001b[A"
     ]
    },
    {
     "name": "stdout",
     "output_type": "stream",
     "text": [
      "tensor(0.2725, device='cuda:0', grad_fn=<NllLossBackward>)\n",
      "0.27254050970077515\n"
     ]
    },
    {
     "name": "stderr",
     "output_type": "stream",
     "text": [
      "\n",
      "Iteration:  80%|███████████████████████████████████████████████████████▎             | 333/415 [04:53<01:11,  1.15it/s]\u001b[A"
     ]
    },
    {
     "name": "stdout",
     "output_type": "stream",
     "text": [
      "tensor(0.2661, device='cuda:0', grad_fn=<NllLossBackward>)\n",
      "0.26611295342445374\n"
     ]
    },
    {
     "name": "stderr",
     "output_type": "stream",
     "text": [
      "\n",
      "Iteration:  80%|███████████████████████████████████████████████████████▌             | 334/415 [04:53<01:09,  1.16it/s]\u001b[A"
     ]
    },
    {
     "name": "stdout",
     "output_type": "stream",
     "text": [
      "tensor(0.1605, device='cuda:0', grad_fn=<NllLossBackward>)\n",
      "0.160519540309906\n"
     ]
    },
    {
     "name": "stderr",
     "output_type": "stream",
     "text": [
      "\n",
      "Iteration:  81%|███████████████████████████████████████████████████████▋             | 335/415 [04:54<01:08,  1.17it/s]\u001b[A"
     ]
    },
    {
     "name": "stdout",
     "output_type": "stream",
     "text": [
      "tensor(0.2401, device='cuda:0', grad_fn=<NllLossBackward>)\n",
      "0.2401314526796341\n"
     ]
    },
    {
     "name": "stderr",
     "output_type": "stream",
     "text": [
      "\n",
      "Iteration:  81%|███████████████████████████████████████████████████████▊             | 336/415 [04:55<01:14,  1.06it/s]\u001b[A"
     ]
    },
    {
     "name": "stdout",
     "output_type": "stream",
     "text": [
      "tensor(0.1624, device='cuda:0', grad_fn=<NllLossBackward>)\n",
      "0.16237908601760864\n"
     ]
    },
    {
     "name": "stderr",
     "output_type": "stream",
     "text": [
      "\n",
      "Iteration:  81%|████████████████████████████████████████████████████████             | 337/415 [04:56<01:10,  1.10it/s]\u001b[A"
     ]
    },
    {
     "name": "stdout",
     "output_type": "stream",
     "text": [
      "tensor(0.1605, device='cuda:0', grad_fn=<NllLossBackward>)\n",
      "0.16054143011569977\n"
     ]
    },
    {
     "name": "stderr",
     "output_type": "stream",
     "text": [
      "\n",
      "Iteration:  81%|████████████████████████████████████████████████████████▏            | 338/415 [04:57<01:08,  1.13it/s]\u001b[A"
     ]
    },
    {
     "name": "stdout",
     "output_type": "stream",
     "text": [
      "tensor(0.2123, device='cuda:0', grad_fn=<NllLossBackward>)\n",
      "0.21231722831726074\n"
     ]
    },
    {
     "name": "stderr",
     "output_type": "stream",
     "text": [
      "\n",
      "Iteration:  82%|████████████████████████████████████████████████████████▎            | 339/415 [04:58<01:05,  1.15it/s]\u001b[A"
     ]
    },
    {
     "name": "stdout",
     "output_type": "stream",
     "text": [
      "tensor(0.2321, device='cuda:0', grad_fn=<NllLossBackward>)\n",
      "0.23208852112293243\n"
     ]
    },
    {
     "name": "stderr",
     "output_type": "stream",
     "text": [
      "\n",
      "Iteration:  82%|████████████████████████████████████████████████████████▌            | 340/415 [04:59<01:03,  1.18it/s]\u001b[A"
     ]
    },
    {
     "name": "stdout",
     "output_type": "stream",
     "text": [
      "tensor(0.2710, device='cuda:0', grad_fn=<NllLossBackward>)\n",
      "0.2710130512714386\n"
     ]
    },
    {
     "name": "stderr",
     "output_type": "stream",
     "text": [
      "\n",
      "Iteration:  82%|████████████████████████████████████████████████████████▋            | 341/415 [05:00<01:03,  1.16it/s]\u001b[A"
     ]
    },
    {
     "name": "stdout",
     "output_type": "stream",
     "text": [
      "tensor(0.0792, device='cuda:0', grad_fn=<NllLossBackward>)\n",
      "0.07916257530450821\n"
     ]
    },
    {
     "name": "stderr",
     "output_type": "stream",
     "text": [
      "\n",
      "Iteration:  82%|████████████████████████████████████████████████████████▊            | 342/415 [05:00<01:04,  1.13it/s]\u001b[A"
     ]
    },
    {
     "name": "stdout",
     "output_type": "stream",
     "text": [
      "tensor(0.3423, device='cuda:0', grad_fn=<NllLossBackward>)\n",
      "0.34233805537223816\n"
     ]
    },
    {
     "name": "stderr",
     "output_type": "stream",
     "text": [
      "\n",
      "Iteration:  83%|█████████████████████████████████████████████████████████            | 343/415 [05:01<01:04,  1.12it/s]\u001b[A"
     ]
    },
    {
     "name": "stdout",
     "output_type": "stream",
     "text": [
      "tensor(0.2624, device='cuda:0', grad_fn=<NllLossBackward>)\n",
      "0.2623636722564697\n"
     ]
    },
    {
     "name": "stderr",
     "output_type": "stream",
     "text": [
      "\n",
      "Iteration:  83%|█████████████████████████████████████████████████████████▏           | 344/415 [05:02<01:03,  1.13it/s]\u001b[A"
     ]
    },
    {
     "name": "stdout",
     "output_type": "stream",
     "text": [
      "tensor(0.3516, device='cuda:0', grad_fn=<NllLossBackward>)\n",
      "0.35156506299972534\n"
     ]
    },
    {
     "name": "stderr",
     "output_type": "stream",
     "text": [
      "\n",
      "Iteration:  83%|█████████████████████████████████████████████████████████▎           | 345/415 [05:03<01:02,  1.13it/s]\u001b[A"
     ]
    },
    {
     "name": "stdout",
     "output_type": "stream",
     "text": [
      "tensor(0.1618, device='cuda:0', grad_fn=<NllLossBackward>)\n",
      "0.1618008315563202\n"
     ]
    },
    {
     "name": "stderr",
     "output_type": "stream",
     "text": [
      "\n",
      "Iteration:  83%|█████████████████████████████████████████████████████████▌           | 346/415 [05:04<00:59,  1.16it/s]\u001b[A"
     ]
    },
    {
     "name": "stdout",
     "output_type": "stream",
     "text": [
      "tensor(0.1417, device='cuda:0', grad_fn=<NllLossBackward>)\n",
      "0.1417330801486969\n"
     ]
    },
    {
     "name": "stderr",
     "output_type": "stream",
     "text": [
      "\n",
      "Iteration:  84%|█████████████████████████████████████████████████████████▋           | 347/415 [05:05<00:59,  1.14it/s]\u001b[A"
     ]
    },
    {
     "name": "stdout",
     "output_type": "stream",
     "text": [
      "tensor(0.1700, device='cuda:0', grad_fn=<NllLossBackward>)\n",
      "0.16995909810066223\n"
     ]
    },
    {
     "name": "stderr",
     "output_type": "stream",
     "text": [
      "\n",
      "Iteration:  84%|█████████████████████████████████████████████████████████▊           | 348/415 [05:06<00:58,  1.15it/s]\u001b[A"
     ]
    },
    {
     "name": "stdout",
     "output_type": "stream",
     "text": [
      "tensor(0.1277, device='cuda:0', grad_fn=<NllLossBackward>)\n",
      "0.1276804804801941\n"
     ]
    },
    {
     "name": "stderr",
     "output_type": "stream",
     "text": [
      "\n",
      "Iteration:  84%|██████████████████████████████████████████████████████████           | 349/415 [05:07<00:58,  1.13it/s]\u001b[A"
     ]
    },
    {
     "name": "stdout",
     "output_type": "stream",
     "text": [
      "tensor(0.1804, device='cuda:0', grad_fn=<NllLossBackward>)\n",
      "0.18041867017745972\n"
     ]
    },
    {
     "name": "stderr",
     "output_type": "stream",
     "text": [
      "\n",
      "Iteration:  84%|██████████████████████████████████████████████████████████▏          | 350/415 [05:08<00:56,  1.15it/s]\u001b[A"
     ]
    },
    {
     "name": "stdout",
     "output_type": "stream",
     "text": [
      "tensor(0.2447, device='cuda:0', grad_fn=<NllLossBackward>)\n",
      "0.2446604073047638\n"
     ]
    },
    {
     "name": "stderr",
     "output_type": "stream",
     "text": [
      "\n",
      "Iteration:  85%|██████████████████████████████████████████████████████████▎          | 351/415 [05:08<00:56,  1.13it/s]\u001b[A"
     ]
    },
    {
     "name": "stdout",
     "output_type": "stream",
     "text": [
      "tensor(0.3102, device='cuda:0', grad_fn=<NllLossBackward>)\n",
      "0.31017717719078064\n"
     ]
    },
    {
     "name": "stderr",
     "output_type": "stream",
     "text": [
      "\n",
      "Iteration:  85%|██████████████████████████████████████████████████████████▌          | 352/415 [05:09<00:57,  1.09it/s]\u001b[A"
     ]
    },
    {
     "name": "stdout",
     "output_type": "stream",
     "text": [
      "tensor(0.1820, device='cuda:0', grad_fn=<NllLossBackward>)\n",
      "0.1819998025894165\n"
     ]
    },
    {
     "name": "stderr",
     "output_type": "stream",
     "text": [
      "\n",
      "Iteration:  85%|██████████████████████████████████████████████████████████▋          | 353/415 [05:10<00:56,  1.11it/s]\u001b[A"
     ]
    },
    {
     "name": "stdout",
     "output_type": "stream",
     "text": [
      "tensor(0.3474, device='cuda:0', grad_fn=<NllLossBackward>)\n",
      "0.3474048376083374\n"
     ]
    },
    {
     "name": "stderr",
     "output_type": "stream",
     "text": [
      "\n",
      "Iteration:  85%|██████████████████████████████████████████████████████████▊          | 354/415 [05:11<00:54,  1.12it/s]\u001b[A"
     ]
    },
    {
     "name": "stdout",
     "output_type": "stream",
     "text": [
      "tensor(0.2337, device='cuda:0', grad_fn=<NllLossBackward>)\n",
      "0.23374390602111816\n"
     ]
    },
    {
     "name": "stderr",
     "output_type": "stream",
     "text": [
      "\n",
      "Iteration:  86%|███████████████████████████████████████████████████████████          | 355/415 [05:12<00:52,  1.14it/s]\u001b[A"
     ]
    },
    {
     "name": "stdout",
     "output_type": "stream",
     "text": [
      "tensor(0.1283, device='cuda:0', grad_fn=<NllLossBackward>)\n",
      "0.1283121109008789\n"
     ]
    },
    {
     "name": "stderr",
     "output_type": "stream",
     "text": [
      "\n",
      "Iteration:  86%|███████████████████████████████████████████████████████████▏         | 356/415 [05:13<00:51,  1.14it/s]\u001b[A"
     ]
    },
    {
     "name": "stdout",
     "output_type": "stream",
     "text": [
      "tensor(0.2512, device='cuda:0', grad_fn=<NllLossBackward>)\n",
      "0.2512197494506836\n"
     ]
    },
    {
     "name": "stderr",
     "output_type": "stream",
     "text": [
      "\n",
      "Iteration:  86%|███████████████████████████████████████████████████████████▎         | 357/415 [05:14<00:50,  1.15it/s]\u001b[A"
     ]
    },
    {
     "name": "stdout",
     "output_type": "stream",
     "text": [
      "tensor(0.2547, device='cuda:0', grad_fn=<NllLossBackward>)\n",
      "0.2546819746494293\n"
     ]
    },
    {
     "name": "stderr",
     "output_type": "stream",
     "text": [
      "\n",
      "Iteration:  86%|███████████████████████████████████████████████████████████▌         | 358/415 [05:15<00:49,  1.16it/s]\u001b[A"
     ]
    },
    {
     "name": "stdout",
     "output_type": "stream",
     "text": [
      "tensor(0.2049, device='cuda:0', grad_fn=<NllLossBackward>)\n",
      "0.20493322610855103\n"
     ]
    },
    {
     "name": "stderr",
     "output_type": "stream",
     "text": [
      "\n",
      "Iteration:  87%|███████████████████████████████████████████████████████████▋         | 359/415 [05:15<00:48,  1.15it/s]\u001b[A"
     ]
    },
    {
     "name": "stdout",
     "output_type": "stream",
     "text": [
      "tensor(0.2569, device='cuda:0', grad_fn=<NllLossBackward>)\n",
      "0.25694704055786133\n"
     ]
    },
    {
     "name": "stderr",
     "output_type": "stream",
     "text": [
      "\n",
      "Iteration:  87%|███████████████████████████████████████████████████████████▊         | 360/415 [05:16<00:47,  1.15it/s]\u001b[A"
     ]
    },
    {
     "name": "stdout",
     "output_type": "stream",
     "text": [
      "tensor(0.0887, device='cuda:0', grad_fn=<NllLossBackward>)\n",
      "0.0886533260345459\n"
     ]
    },
    {
     "name": "stderr",
     "output_type": "stream",
     "text": [
      "\n",
      "Iteration:  87%|████████████████████████████████████████████████████████████         | 361/415 [05:17<00:46,  1.17it/s]\u001b[A"
     ]
    },
    {
     "name": "stdout",
     "output_type": "stream",
     "text": [
      "tensor(0.3518, device='cuda:0', grad_fn=<NllLossBackward>)\n",
      "0.351777583360672\n"
     ]
    },
    {
     "name": "stderr",
     "output_type": "stream",
     "text": [
      "\n",
      "Iteration:  87%|████████████████████████████████████████████████████████████▏        | 362/415 [05:18<00:50,  1.05it/s]\u001b[A"
     ]
    },
    {
     "name": "stdout",
     "output_type": "stream",
     "text": [
      "tensor(0.4171, device='cuda:0', grad_fn=<NllLossBackward>)\n",
      "0.41706886887550354\n"
     ]
    },
    {
     "name": "stderr",
     "output_type": "stream",
     "text": [
      "\n",
      "Iteration:  87%|████████████████████████████████████████████████████████████▎        | 363/415 [05:19<00:47,  1.09it/s]\u001b[A"
     ]
    },
    {
     "name": "stdout",
     "output_type": "stream",
     "text": [
      "tensor(0.0785, device='cuda:0', grad_fn=<NllLossBackward>)\n",
      "0.07848338782787323\n"
     ]
    },
    {
     "name": "stderr",
     "output_type": "stream",
     "text": [
      "\n",
      "Iteration:  88%|████████████████████████████████████████████████████████████▌        | 364/415 [05:20<00:45,  1.11it/s]\u001b[A"
     ]
    },
    {
     "name": "stdout",
     "output_type": "stream",
     "text": [
      "tensor(0.2881, device='cuda:0', grad_fn=<NllLossBackward>)\n",
      "0.2880634665489197\n"
     ]
    },
    {
     "name": "stderr",
     "output_type": "stream",
     "text": [
      "\n",
      "Iteration:  88%|████████████████████████████████████████████████████████████▋        | 365/415 [05:21<00:43,  1.14it/s]\u001b[A"
     ]
    },
    {
     "name": "stdout",
     "output_type": "stream",
     "text": [
      "tensor(0.3628, device='cuda:0', grad_fn=<NllLossBackward>)\n",
      "0.3627932071685791\n"
     ]
    },
    {
     "name": "stderr",
     "output_type": "stream",
     "text": [
      "\n",
      "Iteration:  88%|████████████████████████████████████████████████████████████▊        | 366/415 [05:22<00:48,  1.01it/s]\u001b[A"
     ]
    },
    {
     "name": "stdout",
     "output_type": "stream",
     "text": [
      "tensor(0.2248, device='cuda:0', grad_fn=<NllLossBackward>)\n",
      "0.22482222318649292\n"
     ]
    },
    {
     "name": "stderr",
     "output_type": "stream",
     "text": [
      "\n",
      "Iteration:  88%|█████████████████████████████████████████████████████████████        | 367/415 [05:23<00:45,  1.06it/s]\u001b[A"
     ]
    },
    {
     "name": "stdout",
     "output_type": "stream",
     "text": [
      "tensor(0.2079, device='cuda:0', grad_fn=<NllLossBackward>)\n",
      "0.2079346626996994\n"
     ]
    },
    {
     "name": "stderr",
     "output_type": "stream",
     "text": [
      "\n",
      "Iteration:  89%|█████████████████████████████████████████████████████████████▏       | 368/415 [05:24<00:43,  1.09it/s]\u001b[A"
     ]
    },
    {
     "name": "stdout",
     "output_type": "stream",
     "text": [
      "tensor(0.2962, device='cuda:0', grad_fn=<NllLossBackward>)\n",
      "0.29623159766197205\n"
     ]
    },
    {
     "name": "stderr",
     "output_type": "stream",
     "text": [
      "\n",
      "Iteration:  89%|█████████████████████████████████████████████████████████████▎       | 369/415 [05:25<00:41,  1.11it/s]\u001b[A"
     ]
    },
    {
     "name": "stdout",
     "output_type": "stream",
     "text": [
      "tensor(0.4056, device='cuda:0', grad_fn=<NllLossBackward>)\n",
      "0.4056089222431183\n"
     ]
    },
    {
     "name": "stderr",
     "output_type": "stream",
     "text": [
      "\n",
      "Iteration:  89%|█████████████████████████████████████████████████████████████▌       | 370/415 [05:26<00:40,  1.12it/s]\u001b[A"
     ]
    },
    {
     "name": "stdout",
     "output_type": "stream",
     "text": [
      "tensor(0.1851, device='cuda:0', grad_fn=<NllLossBackward>)\n",
      "0.18513010442256927\n"
     ]
    },
    {
     "name": "stderr",
     "output_type": "stream",
     "text": [
      "\n",
      "Iteration:  89%|█████████████████████████████████████████████████████████████▋       | 371/415 [05:26<00:39,  1.11it/s]\u001b[A"
     ]
    },
    {
     "name": "stdout",
     "output_type": "stream",
     "text": [
      "tensor(0.2733, device='cuda:0', grad_fn=<NllLossBackward>)\n",
      "0.2732633352279663\n"
     ]
    },
    {
     "name": "stderr",
     "output_type": "stream",
     "text": [
      "\n",
      "Iteration:  90%|█████████████████████████████████████████████████████████████▊       | 372/415 [05:27<00:38,  1.11it/s]\u001b[A"
     ]
    },
    {
     "name": "stdout",
     "output_type": "stream",
     "text": [
      "tensor(0.2401, device='cuda:0', grad_fn=<NllLossBackward>)\n",
      "0.2400650978088379\n"
     ]
    },
    {
     "name": "stderr",
     "output_type": "stream",
     "text": [
      "\n",
      "Iteration:  90%|██████████████████████████████████████████████████████████████       | 373/415 [05:28<00:37,  1.13it/s]\u001b[A"
     ]
    },
    {
     "name": "stdout",
     "output_type": "stream",
     "text": [
      "tensor(0.2019, device='cuda:0', grad_fn=<NllLossBackward>)\n",
      "0.20187801122665405\n"
     ]
    },
    {
     "name": "stderr",
     "output_type": "stream",
     "text": [
      "\n",
      "Iteration:  90%|██████████████████████████████████████████████████████████████▏      | 374/415 [05:29<00:35,  1.14it/s]\u001b[A"
     ]
    },
    {
     "name": "stdout",
     "output_type": "stream",
     "text": [
      "tensor(0.0936, device='cuda:0', grad_fn=<NllLossBackward>)\n",
      "0.09357937425374985\n"
     ]
    },
    {
     "name": "stderr",
     "output_type": "stream",
     "text": [
      "\n",
      "Iteration:  90%|██████████████████████████████████████████████████████████████▎      | 375/415 [05:30<00:34,  1.15it/s]\u001b[A"
     ]
    },
    {
     "name": "stdout",
     "output_type": "stream",
     "text": [
      "tensor(0.2120, device='cuda:0', grad_fn=<NllLossBackward>)\n",
      "0.21198870241641998\n"
     ]
    },
    {
     "name": "stderr",
     "output_type": "stream",
     "text": [
      "\n",
      "Iteration:  91%|██████████████████████████████████████████████████████████████▌      | 376/415 [05:31<00:35,  1.11it/s]\u001b[A"
     ]
    },
    {
     "name": "stdout",
     "output_type": "stream",
     "text": [
      "tensor(0.1627, device='cuda:0', grad_fn=<NllLossBackward>)\n",
      "0.16270869970321655\n"
     ]
    },
    {
     "name": "stderr",
     "output_type": "stream",
     "text": [
      "\n",
      "Iteration:  91%|██████████████████████████████████████████████████████████████▋      | 377/415 [05:32<00:36,  1.05it/s]\u001b[A"
     ]
    },
    {
     "name": "stdout",
     "output_type": "stream",
     "text": [
      "tensor(0.1213, device='cuda:0', grad_fn=<NllLossBackward>)\n",
      "0.12128091603517532\n"
     ]
    },
    {
     "name": "stderr",
     "output_type": "stream",
     "text": [
      "\n",
      "Iteration:  91%|██████████████████████████████████████████████████████████████▊      | 378/415 [05:33<00:33,  1.10it/s]\u001b[A"
     ]
    },
    {
     "name": "stdout",
     "output_type": "stream",
     "text": [
      "tensor(0.1331, device='cuda:0', grad_fn=<NllLossBackward>)\n",
      "0.13308203220367432\n"
     ]
    },
    {
     "name": "stderr",
     "output_type": "stream",
     "text": [
      "\n",
      "Iteration:  91%|███████████████████████████████████████████████████████████████      | 379/415 [05:34<00:32,  1.11it/s]\u001b[A"
     ]
    },
    {
     "name": "stdout",
     "output_type": "stream",
     "text": [
      "tensor(0.2497, device='cuda:0', grad_fn=<NllLossBackward>)\n",
      "0.24974222481250763\n"
     ]
    },
    {
     "name": "stderr",
     "output_type": "stream",
     "text": [
      "\n",
      "Iteration:  92%|███████████████████████████████████████████████████████████████▏     | 380/415 [05:34<00:30,  1.13it/s]\u001b[A"
     ]
    },
    {
     "name": "stdout",
     "output_type": "stream",
     "text": [
      "tensor(0.1836, device='cuda:0', grad_fn=<NllLossBackward>)\n",
      "0.1835961490869522\n"
     ]
    },
    {
     "name": "stderr",
     "output_type": "stream",
     "text": [
      "\n",
      "Iteration:  92%|███████████████████████████████████████████████████████████████▎     | 381/415 [05:35<00:29,  1.16it/s]\u001b[A"
     ]
    },
    {
     "name": "stdout",
     "output_type": "stream",
     "text": [
      "tensor(0.1223, device='cuda:0', grad_fn=<NllLossBackward>)\n",
      "0.12230357527732849\n"
     ]
    },
    {
     "name": "stderr",
     "output_type": "stream",
     "text": [
      "\n",
      "Iteration:  92%|███████████████████████████████████████████████████████████████▌     | 382/415 [05:36<00:28,  1.17it/s]\u001b[A"
     ]
    },
    {
     "name": "stdout",
     "output_type": "stream",
     "text": [
      "tensor(0.2562, device='cuda:0', grad_fn=<NllLossBackward>)\n",
      "0.2562367916107178\n"
     ]
    },
    {
     "name": "stderr",
     "output_type": "stream",
     "text": [
      "\n",
      "Iteration:  92%|███████████████████████████████████████████████████████████████▋     | 383/415 [05:37<00:27,  1.18it/s]\u001b[A"
     ]
    },
    {
     "name": "stdout",
     "output_type": "stream",
     "text": [
      "tensor(0.2711, device='cuda:0', grad_fn=<NllLossBackward>)\n",
      "0.27106618881225586\n"
     ]
    },
    {
     "name": "stderr",
     "output_type": "stream",
     "text": [
      "\n",
      "Iteration:  93%|███████████████████████████████████████████████████████████████▊     | 384/415 [05:38<00:26,  1.18it/s]\u001b[A"
     ]
    },
    {
     "name": "stdout",
     "output_type": "stream",
     "text": [
      "tensor(0.2022, device='cuda:0', grad_fn=<NllLossBackward>)\n",
      "0.2021646946668625\n"
     ]
    },
    {
     "name": "stderr",
     "output_type": "stream",
     "text": [
      "\n",
      "Iteration:  93%|████████████████████████████████████████████████████████████████     | 385/415 [05:39<00:25,  1.18it/s]\u001b[A"
     ]
    },
    {
     "name": "stdout",
     "output_type": "stream",
     "text": [
      "tensor(0.0848, device='cuda:0', grad_fn=<NllLossBackward>)\n",
      "0.0848376452922821\n"
     ]
    },
    {
     "name": "stderr",
     "output_type": "stream",
     "text": [
      "\n",
      "Iteration:  93%|████████████████████████████████████████████████████████████████▏    | 386/415 [05:40<00:25,  1.13it/s]\u001b[A"
     ]
    },
    {
     "name": "stdout",
     "output_type": "stream",
     "text": [
      "tensor(0.3647, device='cuda:0', grad_fn=<NllLossBackward>)\n",
      "0.36467933654785156\n"
     ]
    },
    {
     "name": "stderr",
     "output_type": "stream",
     "text": [
      "\n",
      "Iteration:  93%|████████████████████████████████████████████████████████████████▎    | 387/415 [05:40<00:24,  1.15it/s]\u001b[A"
     ]
    },
    {
     "name": "stdout",
     "output_type": "stream",
     "text": [
      "tensor(0.1717, device='cuda:0', grad_fn=<NllLossBackward>)\n",
      "0.17170487344264984\n"
     ]
    },
    {
     "name": "stderr",
     "output_type": "stream",
     "text": [
      "\n",
      "Iteration:  93%|████████████████████████████████████████████████████████████████▌    | 388/415 [05:41<00:23,  1.14it/s]\u001b[A"
     ]
    },
    {
     "name": "stdout",
     "output_type": "stream",
     "text": [
      "tensor(0.1547, device='cuda:0', grad_fn=<NllLossBackward>)\n",
      "0.1546763777732849\n"
     ]
    },
    {
     "name": "stderr",
     "output_type": "stream",
     "text": [
      "\n",
      "Iteration:  94%|████████████████████████████████████████████████████████████████▋    | 389/415 [05:42<00:23,  1.13it/s]\u001b[A"
     ]
    },
    {
     "name": "stdout",
     "output_type": "stream",
     "text": [
      "tensor(0.1962, device='cuda:0', grad_fn=<NllLossBackward>)\n",
      "0.19615288078784943\n"
     ]
    },
    {
     "name": "stderr",
     "output_type": "stream",
     "text": [
      "\n",
      "Iteration:  94%|████████████████████████████████████████████████████████████████▊    | 390/415 [05:43<00:21,  1.14it/s]\u001b[A"
     ]
    },
    {
     "name": "stdout",
     "output_type": "stream",
     "text": [
      "tensor(0.2264, device='cuda:0', grad_fn=<NllLossBackward>)\n",
      "0.22642453014850616\n"
     ]
    },
    {
     "name": "stderr",
     "output_type": "stream",
     "text": [
      "\n",
      "Iteration:  94%|█████████████████████████████████████████████████████████████████    | 391/415 [05:44<00:20,  1.16it/s]\u001b[A"
     ]
    },
    {
     "name": "stdout",
     "output_type": "stream",
     "text": [
      "tensor(0.1436, device='cuda:0', grad_fn=<NllLossBackward>)\n",
      "0.1436375081539154\n"
     ]
    },
    {
     "name": "stderr",
     "output_type": "stream",
     "text": [
      "\n",
      "Iteration:  94%|█████████████████████████████████████████████████████████████████▏   | 392/415 [05:45<00:19,  1.17it/s]\u001b[A"
     ]
    },
    {
     "name": "stdout",
     "output_type": "stream",
     "text": [
      "tensor(0.3806, device='cuda:0', grad_fn=<NllLossBackward>)\n",
      "0.3805752694606781\n"
     ]
    },
    {
     "name": "stderr",
     "output_type": "stream",
     "text": [
      "\n",
      "Iteration:  95%|█████████████████████████████████████████████████████████████████▎   | 393/415 [05:46<00:18,  1.16it/s]\u001b[A"
     ]
    },
    {
     "name": "stdout",
     "output_type": "stream",
     "text": [
      "tensor(0.2167, device='cuda:0', grad_fn=<NllLossBackward>)\n",
      "0.2166663110256195\n"
     ]
    },
    {
     "name": "stderr",
     "output_type": "stream",
     "text": [
      "\n",
      "Iteration:  95%|█████████████████████████████████████████████████████████████████▌   | 394/415 [05:47<00:18,  1.12it/s]\u001b[A"
     ]
    },
    {
     "name": "stdout",
     "output_type": "stream",
     "text": [
      "tensor(0.1364, device='cuda:0', grad_fn=<NllLossBackward>)\n",
      "0.13643783330917358\n"
     ]
    },
    {
     "name": "stderr",
     "output_type": "stream",
     "text": [
      "\n",
      "Iteration:  95%|█████████████████████████████████████████████████████████████████▋   | 395/415 [05:47<00:17,  1.15it/s]\u001b[A"
     ]
    },
    {
     "name": "stdout",
     "output_type": "stream",
     "text": [
      "tensor(0.2347, device='cuda:0', grad_fn=<NllLossBackward>)\n",
      "0.2347002625465393\n"
     ]
    },
    {
     "name": "stderr",
     "output_type": "stream",
     "text": [
      "\n",
      "Iteration:  95%|█████████████████████████████████████████████████████████████████▊   | 396/415 [05:48<00:17,  1.11it/s]\u001b[A"
     ]
    },
    {
     "name": "stdout",
     "output_type": "stream",
     "text": [
      "tensor(0.1914, device='cuda:0', grad_fn=<NllLossBackward>)\n",
      "0.19144225120544434\n"
     ]
    },
    {
     "name": "stderr",
     "output_type": "stream",
     "text": [
      "\n",
      "Iteration:  96%|██████████████████████████████████████████████████████████████████   | 397/415 [05:49<00:15,  1.14it/s]\u001b[A"
     ]
    },
    {
     "name": "stdout",
     "output_type": "stream",
     "text": [
      "tensor(0.2501, device='cuda:0', grad_fn=<NllLossBackward>)\n",
      "0.25014305114746094\n"
     ]
    },
    {
     "name": "stderr",
     "output_type": "stream",
     "text": [
      "\n",
      "Iteration:  96%|██████████████████████████████████████████████████████████████████▏  | 398/415 [05:50<00:14,  1.14it/s]\u001b[A"
     ]
    },
    {
     "name": "stdout",
     "output_type": "stream",
     "text": [
      "tensor(0.2197, device='cuda:0', grad_fn=<NllLossBackward>)\n",
      "0.219719797372818\n"
     ]
    },
    {
     "name": "stderr",
     "output_type": "stream",
     "text": [
      "\n",
      "Iteration:  96%|██████████████████████████████████████████████████████████████████▎  | 399/415 [05:51<00:14,  1.14it/s]\u001b[A"
     ]
    },
    {
     "name": "stdout",
     "output_type": "stream",
     "text": [
      "tensor(0.1479, device='cuda:0', grad_fn=<NllLossBackward>)\n",
      "0.14787043631076813\n"
     ]
    },
    {
     "name": "stderr",
     "output_type": "stream",
     "text": [
      "\n",
      "Iteration:  96%|██████████████████████████████████████████████████████████████████▌  | 400/415 [05:52<00:13,  1.13it/s]\u001b[A"
     ]
    },
    {
     "name": "stdout",
     "output_type": "stream",
     "text": [
      "tensor(0.2088, device='cuda:0', grad_fn=<NllLossBackward>)\n",
      "0.20881740748882294\n"
     ]
    },
    {
     "name": "stderr",
     "output_type": "stream",
     "text": [
      "\n",
      "Iteration:  97%|██████████████████████████████████████████████████████████████████▋  | 401/415 [05:53<00:12,  1.14it/s]\u001b[A"
     ]
    },
    {
     "name": "stdout",
     "output_type": "stream",
     "text": [
      "tensor(0.2913, device='cuda:0', grad_fn=<NllLossBackward>)\n",
      "0.2912907898426056\n"
     ]
    },
    {
     "name": "stderr",
     "output_type": "stream",
     "text": [
      "\n",
      "Iteration:  97%|██████████████████████████████████████████████████████████████████▊  | 402/415 [05:54<00:11,  1.16it/s]\u001b[A"
     ]
    },
    {
     "name": "stdout",
     "output_type": "stream",
     "text": [
      "tensor(0.3479, device='cuda:0', grad_fn=<NllLossBackward>)\n",
      "0.3479193150997162\n"
     ]
    },
    {
     "name": "stderr",
     "output_type": "stream",
     "text": [
      "\n",
      "Iteration:  97%|███████████████████████████████████████████████████████████████████  | 403/415 [05:55<00:10,  1.10it/s]\u001b[A"
     ]
    },
    {
     "name": "stdout",
     "output_type": "stream",
     "text": [
      "tensor(0.1288, device='cuda:0', grad_fn=<NllLossBackward>)\n",
      "0.12881827354431152\n"
     ]
    },
    {
     "name": "stderr",
     "output_type": "stream",
     "text": [
      "\n",
      "Iteration:  97%|███████████████████████████████████████████████████████████████████▏ | 404/415 [05:56<00:10,  1.08it/s]\u001b[A"
     ]
    },
    {
     "name": "stdout",
     "output_type": "stream",
     "text": [
      "tensor(0.0984, device='cuda:0', grad_fn=<NllLossBackward>)\n",
      "0.09836570173501968\n"
     ]
    },
    {
     "name": "stderr",
     "output_type": "stream",
     "text": [
      "\n",
      "Iteration:  98%|███████████████████████████████████████████████████████████████████▎ | 405/415 [05:56<00:08,  1.12it/s]\u001b[A"
     ]
    },
    {
     "name": "stdout",
     "output_type": "stream",
     "text": [
      "tensor(0.2049, device='cuda:0', grad_fn=<NllLossBackward>)\n",
      "0.20486387610435486\n"
     ]
    },
    {
     "name": "stderr",
     "output_type": "stream",
     "text": [
      "\n",
      "Iteration:  98%|███████████████████████████████████████████████████████████████████▌ | 406/415 [05:57<00:07,  1.13it/s]\u001b[A"
     ]
    },
    {
     "name": "stdout",
     "output_type": "stream",
     "text": [
      "tensor(0.2941, device='cuda:0', grad_fn=<NllLossBackward>)\n",
      "0.2941439747810364\n"
     ]
    },
    {
     "name": "stderr",
     "output_type": "stream",
     "text": [
      "\n",
      "Iteration:  98%|███████████████████████████████████████████████████████████████████▋ | 407/415 [05:58<00:06,  1.15it/s]\u001b[A"
     ]
    },
    {
     "name": "stdout",
     "output_type": "stream",
     "text": [
      "tensor(0.2020, device='cuda:0', grad_fn=<NllLossBackward>)\n",
      "0.20199891924858093\n"
     ]
    },
    {
     "name": "stderr",
     "output_type": "stream",
     "text": [
      "\n",
      "Iteration:  98%|███████████████████████████████████████████████████████████████████▊ | 408/415 [05:59<00:06,  1.16it/s]\u001b[A"
     ]
    },
    {
     "name": "stdout",
     "output_type": "stream",
     "text": [
      "tensor(0.4298, device='cuda:0', grad_fn=<NllLossBackward>)\n",
      "0.4298105835914612\n"
     ]
    },
    {
     "name": "stderr",
     "output_type": "stream",
     "text": [
      "\n",
      "Iteration:  99%|████████████████████████████████████████████████████████████████████ | 409/415 [06:00<00:05,  1.16it/s]\u001b[A"
     ]
    },
    {
     "name": "stdout",
     "output_type": "stream",
     "text": [
      "tensor(0.1403, device='cuda:0', grad_fn=<NllLossBackward>)\n",
      "0.14030857384204865\n"
     ]
    },
    {
     "name": "stderr",
     "output_type": "stream",
     "text": [
      "\n",
      "Iteration:  99%|████████████████████████████████████████████████████████████████████▏| 410/415 [06:01<00:04,  1.14it/s]\u001b[A"
     ]
    },
    {
     "name": "stdout",
     "output_type": "stream",
     "text": [
      "tensor(0.1495, device='cuda:0', grad_fn=<NllLossBackward>)\n",
      "0.14950695633888245\n"
     ]
    },
    {
     "name": "stderr",
     "output_type": "stream",
     "text": [
      "\n",
      "Iteration:  99%|████████████████████████████████████████████████████████████████████▎| 411/415 [06:02<00:03,  1.14it/s]\u001b[A"
     ]
    },
    {
     "name": "stdout",
     "output_type": "stream",
     "text": [
      "tensor(0.0638, device='cuda:0', grad_fn=<NllLossBackward>)\n",
      "0.06377135962247849\n"
     ]
    },
    {
     "name": "stderr",
     "output_type": "stream",
     "text": [
      "\n",
      "Iteration:  99%|████████████████████████████████████████████████████████████████████▌| 412/415 [06:02<00:02,  1.14it/s]\u001b[A"
     ]
    },
    {
     "name": "stdout",
     "output_type": "stream",
     "text": [
      "tensor(0.1920, device='cuda:0', grad_fn=<NllLossBackward>)\n",
      "0.19201606512069702\n"
     ]
    },
    {
     "name": "stderr",
     "output_type": "stream",
     "text": [
      "\n",
      "Iteration: 100%|████████████████████████████████████████████████████████████████████▋| 413/415 [06:03<00:01,  1.13it/s]\u001b[A"
     ]
    },
    {
     "name": "stdout",
     "output_type": "stream",
     "text": [
      "tensor(0.5178, device='cuda:0', grad_fn=<NllLossBackward>)\n",
      "0.5178437829017639\n"
     ]
    },
    {
     "name": "stderr",
     "output_type": "stream",
     "text": [
      "\n",
      "Iteration: 100%|████████████████████████████████████████████████████████████████████▊| 414/415 [06:04<00:00,  1.15it/s]\u001b[A"
     ]
    },
    {
     "name": "stdout",
     "output_type": "stream",
     "text": [
      "tensor(0.1020, device='cuda:0', grad_fn=<NllLossBackward>)\n",
      "0.10197137296199799\n"
     ]
    },
    {
     "name": "stderr",
     "output_type": "stream",
     "text": [
      "\n",
      "Iteration: 100%|█████████████████████████████████████████████████████████████████████| 415/415 [06:05<00:00,  1.14it/s]\u001b[A\n",
      "Epoch: 100%|████████████████████████████████████████████████████████████████████████████| 3/3 [17:15<00:00, 345.26s/it]\n"
     ]
    }
   ],
   "source": [
    "model.train()\n",
    "for _ in trange(int(num_train_epochs), desc=\"Epoch\"):\n",
    "    tr_loss = 0\n",
    "    nb_tr_examples, nb_tr_steps = 0, 0\n",
    "    for step, batch in enumerate(tqdm(train_dataloader, desc=\"Iteration\")):\n",
    "        batch = tuple(t.to(device) for t in batch)\n",
    "        input_ids, input_mask, segment_ids, label_ids = batch\n",
    "        loss = model(input_ids, segment_ids, input_mask, label_ids)\n",
    "#         cos_loss = model()\n",
    "#         cos_loss = torch.nn.CosineEmbeddingLoss()\n",
    "        \n",
    "        print(loss)\n",
    "        print(loss.item())\n",
    "        if n_gpu > 1:\n",
    "            loss = loss.mean() # mean() to average on multi-gpu.\n",
    "#         if fp16 and loss_scale != 1.0:\n",
    "#             # rescale loss for fp16 training\n",
    "#             # see https://docs.nvidia.com/deeplearning/sdk/mixed-precision-training/index.html\n",
    "#             loss = loss * loss_scale\n",
    "        if gradient_accumulation_steps > 1:\n",
    "            loss = loss / gradient_accumulation_steps\n",
    "        loss.backward()\n",
    "        \n",
    "        tr_loss += loss.item()\n",
    "        nb_tr_examples += input_ids.size(0)\n",
    "        nb_tr_steps += 1\n",
    "        if (step + 1) % gradient_accumulation_steps == 0:\n",
    "#             if fp16 or optimize_on_cpu:\n",
    "#                 if fp16 and loss_scale != 1.0:\n",
    "#                     # scale down gradients for fp16 training\n",
    "#                     for param in model.parameters():\n",
    "#                         if param.grad is not None:\n",
    "#                             param.grad.data = param.grad.data / loss_scale           \n",
    "#                 is_nan = set_optimizer_params_grad(param_optimizer, model.named_parameters(), test_nan=True)\n",
    "#                 if is_nan:\n",
    "#                     logger.info(\"FP16 TRAINING: Nan in gradients, reducing loss scaling\")\n",
    "#                     loss_scale = loss_scale / 2\n",
    "#                     model.zero_grad()\n",
    "#                     continue \n",
    "#                 optimizer.step()\n",
    "# #                 scheduler.step()\n",
    "#                 copy_optimizer_params_to_model(model.named_parameters(), param_optimizer)\n",
    "#             else:\n",
    "#                 torch.nn.utils.clip_grad_norm_(model.parameters(), max_grad_norm)\n",
    "            optimizer.step()\n",
    "#                 scheduler.step()\n",
    "            model.zero_grad()\n",
    "            global_step += 1\n",
    "\n",
    "torch.save(model.state_dict(), output_dir + \"dataExpantion.pth\")"
   ]
  },
  {
   "cell_type": "code",
   "execution_count": null,
   "metadata": {},
   "outputs": [],
   "source": []
  },
  {
   "cell_type": "code",
   "execution_count": 5,
   "metadata": {},
   "outputs": [],
   "source": [
    "import csv\n",
    "from pytorch_pretrained_bert.file_utils import PYTORCH_PRETRAINED_BERT_CACHE\n",
    "def train_and_test(data_dir, bert_model=\"bert-base-uncased\", task_name=None,\n",
    "                   output_dir=None, max_seq_length=32, do_train=False, do_eval=False, do_lower_case=False,\n",
    "                   train_batch_size=32, eval_batch_size=8, learning_rate=5e-5, num_train_epochs=3,\n",
    "                   warmup_proportion=0.1,no_cuda=False, local_rank=-1, seed=42, gradient_accumulation_steps=1,\n",
    "                   optimize_on_cpu=False, fp16=False, loss_scale=128, saved_model=\"\"):\n",
    "\n",
    "\n",
    "    # ## Required parameters\n",
    "    # parser.add_argument(\"--data_dir\",\n",
    "    #                     default=None,\n",
    "    #                     type=str,\n",
    "    #                     required=True,\n",
    "    #                     help=\"The input data dir. Should contain the .tsv files (or other data files) for the task.\")\n",
    "    # parser.add_argument(\"--bert_model\", default=None, type=str, required=True,\n",
    "    #                     help=\"Bert pre-trained model selected in the list: bert-base-uncased, \"\n",
    "    #                          \"bert-large-uncased, bert-base-cased, bert-base-multilingual, bert-base-chinese.\")\n",
    "    # parser.add_argument(\"--task_name\",\n",
    "    #                     default=None,\n",
    "    #                     type=str,\n",
    "    #                     required=True,\n",
    "    #                     help=\"The name of the task to train.\")\n",
    "    # parser.add_argument(\"--output_dir\",\n",
    "    #                     default=None,\n",
    "    #                     type=str,\n",
    "    #                     required=True,\n",
    "    #                     help=\"The output directory where the model checkpoints will be written.\")\n",
    "\n",
    "    ## Other parameters\n",
    "    # parser.add_argument(\"--max_seq_length\",\n",
    "    #                     default=128,\n",
    "    #                     type=int,\n",
    "    #                     help=\"The maximum total input sequence length after WordPiece tokenization. \\n\"\n",
    "    #                          \"Sequences longer than this will be truncated, and sequences shorter \\n\"\n",
    "    #                          \"than this will be padded.\")\n",
    "    # parser.add_argument(\"--do_train\",\n",
    "    #                     default=False,\n",
    "    #                     action='store_true',\n",
    "    #                     help=\"Whether to run training.\")\n",
    "    # parser.add_argument(\"--do_eval\",\n",
    "    #                     default=False,\n",
    "    #                     action='store_true',\n",
    "    #                     help=\"Whether to run eval on the dev set.\")\n",
    "    # parser.add_argument(\"--do_lower_case\",\n",
    "    #                     default=False,\n",
    "    #                     action='store_true',\n",
    "    #                     help=\"Set this flag if you are using an uncased model.\")\n",
    "    # parser.add_argument(\"--train_batch_size\",\n",
    "    #                     default=32,\n",
    "    #                     type=int,\n",
    "    #                     help=\"Total batch size for training.\")\n",
    "    # parser.add_argument(\"--eval_batch_size\",\n",
    "    #                     default=8,\n",
    "    #                     type=int,\n",
    "    #                     help=\"Total batch size for eval.\")\n",
    "    # parser.add_argument(\"--learning_rate\",\n",
    "    #                     default=5e-5,\n",
    "    #                     type=float,\n",
    "    #                     help=\"The initial learning rate for Adam.\")\n",
    "    # parser.add_argument(\"--num_train_epochs\",\n",
    "    #                     default=3.0,\n",
    "    #                     type=float,\n",
    "    #                     help=\"Total number of training epochs to perform.\")\n",
    "    # parser.add_argument(\"--warmup_proportion\",\n",
    "    #                     default=0.1,\n",
    "    #                     type=float,\n",
    "    #                     help=\"Proportion of training to perform linear learning rate warmup for. \"\n",
    "    #                          \"E.g., 0.1 = 10%% of training.\")\n",
    "    # parser.add_argument(\"--no_cuda\",\n",
    "    #                     default=False,\n",
    "    #                     action='store_true',\n",
    "    #                     help=\"Whether not to use CUDA when available\")\n",
    "    # parser.add_argument(\"--local_rank\",\n",
    "    #                     type=int,\n",
    "    #                     default=-1,\n",
    "    #                     help=\"local_rank for distributed training on gpus\")\n",
    "    # parser.add_argument('--seed',\n",
    "    #                     type=int,\n",
    "    #                     default=42,\n",
    "    #                     help=\"random seed for initialization\")\n",
    "    # parser.add_argument('--gradient_accumulation_steps',\n",
    "    #                     type=int,\n",
    "    #                     default=1,\n",
    "    #                     help=\"Number of updates steps to accumulate before performing a backward/update pass.\")\n",
    "    # parser.add_argument('--optimize_on_cpu',\n",
    "    #                     default=False,\n",
    "    #                     action='store_true',\n",
    "    #                     help=\"Whether to perform optimization and keep the optimizer averages on CPU\")\n",
    "    # parser.add_argument('--fp16',\n",
    "    #                     default=False,\n",
    "    #                     action='store_true',\n",
    "    #                     help=\"Whether to use 16-bit float precision instead of 32-bit\")\n",
    "    # parser.add_argument('--loss_scale',\n",
    "    #                     type=float, default=128,\n",
    "    #                     help='Loss scaling, positive power of 2 values can improve fp16 convergence.')\n",
    "\n",
    "    # args = parser.parse_args()\n",
    "\n",
    "    processors = {\n",
    "#         \"cola\": ColaProcessor,\n",
    "#         \"mnli\": MnliProcessor,\n",
    "        \"mrpc\": MrpcProcessor,\n",
    "    }\n",
    "\n",
    "    if local_rank == -1 or no_cuda:\n",
    "        device = torch.device(\"cuda\" if torch.cuda.is_available() and not no_cuda else \"cpu\")\n",
    "        n_gpu = torch.cuda.device_count()\n",
    "    else:\n",
    "        device = torch.device(\"cuda\", local_rank)\n",
    "        n_gpu = 1\n",
    "        # Initializes the distributed backend which will take care of sychronizing nodes/GPUs\n",
    "        torch.distributed.init_process_group(backend='nccl')\n",
    "        if fp16:\n",
    "            logger.info(\"16-bits training currently not supported in distributed training\")\n",
    "            fp16 = False # (see https://github.com/pytorch/pytorch/pull/13496)\n",
    "    logger.info(\"device %s n_gpu %d distributed training %r\", device, n_gpu, bool(local_rank != -1))\n",
    "\n",
    "    if gradient_accumulation_steps < 1:\n",
    "        raise ValueError(\"Invalid gradient_accumulation_steps parameter: {}, should be >= 1\".format(\n",
    "                            gradient_accumulation_steps))\n",
    "\n",
    "    train_batch_size = int(train_batch_size / gradient_accumulation_steps)\n",
    "\n",
    "    random.seed(seed)\n",
    "    np.random.seed(seed)\n",
    "    torch.manual_seed(seed)\n",
    "    if n_gpu > 0:\n",
    "        torch.cuda.manual_seed_all(seed)\n",
    "\n",
    "    if not do_train and not do_eval:\n",
    "        raise ValueError(\"At least one of `do_train` or `do_eval` must be True.\")\n",
    "\n",
    "    if do_train:\n",
    "        if os.path.exists(output_dir) and os.listdir(output_dir):\n",
    "            raise ValueError(\"Output directory ({}) already exists and is not emp1ty.\".format(output_dir))\n",
    "        os.makedirs(output_dir, exist_ok=True)\n",
    "\n",
    "    task_name = task_name.lower()\n",
    "\n",
    "    if task_name not in processors:\n",
    "        raise ValueError(\"Task not found: %s\" % (task_name))\n",
    "\n",
    "    processor = processors[task_name]()\n",
    "    label_list = processor.get_labels()\n",
    "\n",
    "    tokenizer = BertTokenizer.from_pretrained(bert_model, do_lower_case=do_lower_case)\n",
    "\n",
    "    train_examples = None\n",
    "    num_train_steps = None\n",
    "    if do_train:\n",
    "        train_examples = processor.get_train_examples(data_dir)\n",
    "        num_train_steps = int(\n",
    "            len(train_examples) / train_batch_size / gradient_accumulation_steps * num_train_epochs)\n",
    "\n",
    "    # Prepare model\n",
    "    model = BertForSequenceClassification.from_pretrained(bert_model,\n",
    "                cache_dir=PYTORCH_PRETRAINED_BERT_CACHE / 'distributed_{}'.format(local_rank), num_labels = 2)\n",
    "    if fp16:\n",
    "        model.half()\n",
    "    model.to(device)\n",
    "    if local_rank != -1:\n",
    "        model = torch.nn.parallel.DistributedDataParallel(model, device_ids=[local_rank],\n",
    "                                                          output_device=local_rank)\n",
    "    elif n_gpu > 1:\n",
    "        model = torch.nn.DataParallel(model)\n",
    "\n",
    "    # Prepare optimizer\n",
    "    if fp16:\n",
    "        param_optimizer = [(n, param.clone().detach().to('cpu').float().requires_grad_()) \\\n",
    "                            for n, param in model.named_parameters()]\n",
    "    elif optimize_on_cpu:\n",
    "        param_optimizer = [(n, param.clone().detach().to('cpu').requires_grad_()) \\\n",
    "                            for n, param in model.named_parameters()]\n",
    "    else:\n",
    "        param_optimizer = list(model.named_parameters())\n",
    "    no_decay = ['bias', 'gamma', 'beta']\n",
    "    optimizer_grouped_parameters = [\n",
    "        {'params': [p for n, p in param_optimizer if not any(nd in n for nd in no_decay)], 'weight_decay_rate': 0.01},\n",
    "        {'params': [p for n, p in param_optimizer if any(nd in n for nd in no_decay)], 'weight_decay_rate': 0.0}\n",
    "        ]\n",
    "    t_total = num_train_steps\n",
    "#     print(t_total)\n",
    "    if local_rank != -1:\n",
    "        t_total = t_total // torch.distributed.get_world_size()\n",
    "    if do_train:\n",
    "        optimizer = BertAdam(optimizer_grouped_parameters,\n",
    "                         lr=learning_rate,\n",
    "                         warmup=warmup_proportion,\n",
    "                         t_total=t_total)\n",
    "\n",
    "    global_step = 0\n",
    "    if do_train:\n",
    "        train_features = convert_examples_to_features(\n",
    "            train_examples, label_list, max_seq_length, tokenizer)\n",
    "        logger.info(\"***** Running training *****\")\n",
    "        logger.info(\"  Num examples = %d\", len(train_examples))\n",
    "        logger.info(\"  Batch size = %d\", train_batch_size)\n",
    "        logger.info(\"  Num steps = %d\", num_train_steps)\n",
    "        all_input_ids = torch.tensor([f.input_ids for f in train_features], dtype=torch.long)\n",
    "        all_input_mask = torch.tensor([f.input_mask for f in train_features], dtype=torch.long)\n",
    "        all_segment_ids = torch.tensor([f.segment_ids for f in train_features], dtype=torch.long)\n",
    "        all_label_ids = torch.tensor([f.label_id for f in train_features], dtype=torch.long)\n",
    "        train_data = TensorDataset(all_input_ids, all_input_mask, all_segment_ids, all_label_ids)\n",
    "        if local_rank == -1:\n",
    "            train_sampler = RandomSampler(train_data)\n",
    "        else:\n",
    "            train_sampler = DistributedSampler(train_data)\n",
    "        train_dataloader = DataLoader(train_data, sampler=train_sampler, batch_size=train_batch_size)\n",
    "\n",
    "        model.train()\n",
    "        for _ in trange(int(num_train_epochs), desc=\"Epoch\"):\n",
    "            tr_loss = 0\n",
    "            nb_tr_examples, nb_tr_steps = 0, 0\n",
    "            for step, batch in enumerate(tqdm(train_dataloader, desc=\"Iteration\")):\n",
    "                batch = tuple(t.to(device) for t in batch)\n",
    "                input_ids, input_mask, segment_ids, label_ids = batch\n",
    "                loss = model(input_ids, segment_ids, input_mask, label_ids)\n",
    "                if n_gpu > 1:\n",
    "                    loss = loss.mean() # mean() to average on multi-gpu.\n",
    "                if fp16 and loss_scale != 1.0:\n",
    "                    # rescale loss for fp16 training\n",
    "                    # see https://docs.nvidia.com/deeplearning/sdk/mixed-precision-training/index.html\n",
    "                    loss = loss * loss_scale\n",
    "                if gradient_accumulation_steps > 1:\n",
    "                    loss = loss / gradient_accumulation_steps\n",
    "                loss.backward()\n",
    "                tr_loss += loss.item()\n",
    "                nb_tr_examples += input_ids.size(0)\n",
    "                nb_tr_steps += 1\n",
    "                if (step + 1) % gradient_accumulation_steps == 0:\n",
    "                    if fp16 or optimize_on_cpu:\n",
    "                        if fp16 and loss_scale != 1.0:\n",
    "                            # scale down gradients for fp16 training\n",
    "                            for param in model.parameters():\n",
    "                                if param.grad is not None:\n",
    "                                    param.grad.data = param.grad.data / loss_scale\n",
    "                        is_nan = set_optimizer_params_grad(param_optimizer, model.named_parameters(), test_nan=True)\n",
    "                        if is_nan:\n",
    "                            logger.info(\"FP16 TRAINING: Nan in gradients, reducing loss scaling\")\n",
    "                            loss_scale = loss_scale / 2\n",
    "                            model.zero_grad()\n",
    "                            continue\n",
    "                        optimizer.step()\n",
    "                        copy_optimizer_params_to_model(model.named_parameters(), param_optimizer)\n",
    "                    else:\n",
    "                        optimizer.step()\n",
    "                    model.zero_grad()\n",
    "                    global_step += 1\n",
    "\n",
    "        torch.save(model.state_dict(), output_dir + \"output.pth\")\n",
    "\n",
    "\n",
    "    if do_eval and (local_rank == -1 or torch.distributed.get_rank() == 0):\n",
    "        eval_examples = processor.get_test_examples(data_dir)\n",
    "#         eval_examples = processor.get_dev_examples(data_dir)\n",
    "        eval_features = convert_examples_to_features(\n",
    "            eval_examples, label_list, max_seq_length, tokenizer)\n",
    "        logger.info(\"***** Running evaluation *****\")\n",
    "        logger.info(\"  Num examples = %d\", len(eval_examples))\n",
    "        logger.info(\"  Batch size = %d\", eval_batch_size)\n",
    "        \n",
    "        all_input_ids = torch.tensor([f.input_ids for f in eval_features], dtype=torch.long)\n",
    "        all_input_mask = torch.tensor([f.input_mask for f in eval_features], dtype=torch.long)\n",
    "        all_segment_ids = torch.tensor([f.segment_ids for f in eval_features], dtype=torch.long)\n",
    "        all_label_ids = torch.tensor([f.label_id for f in eval_features], dtype=torch.long)\n",
    "        eval_data = TensorDataset(all_input_ids, all_input_mask, all_segment_ids, all_label_ids)\n",
    "        # Run prediction for full data\n",
    "        eval_sampler = SequentialSampler(eval_data)\n",
    "        eval_dataloader = DataLoader(eval_data, sampler=eval_sampler, batch_size=eval_batch_size)\n",
    "\n",
    "        model.load_state_dict(torch.load(saved_model))\n",
    "\n",
    "        model.eval()\n",
    "        # eval_loss, eval_accuracy = 0, 0\n",
    "\n",
    "        eval_tp, eval_pred_c, eval_gold_c = 0, 0, 0\n",
    "        eval_loss, eval_macro_p, eval_macro_r = 0, 0, 0\n",
    "\n",
    "        raw_score = []\n",
    "\n",
    "        nb_eval_steps, nb_eval_examples = 0, 0\n",
    "        for input_ids, input_mask, segment_ids, label_ids in eval_dataloader:\n",
    "            input_ids = input_ids.to(device)\n",
    "            input_mask = input_mask.to(device)\n",
    "            segment_ids = segment_ids.to(device)\n",
    "            label_ids = label_ids.to(device)\n",
    "\n",
    "            with torch.no_grad():\n",
    "                tmp_eval_loss = model(input_ids, segment_ids, input_mask, label_ids)\n",
    "                logits = model(input_ids, segment_ids, input_mask)\n",
    "#             print(logits)\n",
    "#             print(logits[0])\n",
    "            logits = logits.detach().cpu().numpy()\n",
    "            print(logits)\n",
    "            label_ids = label_ids.to('cpu').numpy()\n",
    "\n",
    "            # Micro F1 (aggregated tp, fp, fn counts across all examples)\n",
    "            tmp_tp, tmp_pred_c, tmp_gold_c = tp_pcount_gcount(logits, label_ids)\n",
    "            eval_tp += tmp_tp\n",
    "            eval_pred_c += tmp_pred_c\n",
    "            eval_gold_c += tmp_gold_c\n",
    "            \n",
    "            pred_label = np.argmax(logits, axis=1)\n",
    "            raw_score += zip(logits, pred_label, label_ids)\n",
    "            \n",
    "            # Macro F1 (averaged P, R across mini batches)\n",
    "            tmp_eval_p, tmp_eval_r, tmp_eval_f1 = p_r_f1(logits, label_ids)\n",
    "\n",
    "            eval_macro_p += tmp_eval_p\n",
    "            eval_macro_r += tmp_eval_r\n",
    "\n",
    "            eval_loss += tmp_eval_loss.mean().item()\n",
    "            nb_eval_examples += input_ids.size(0)\n",
    "            nb_eval_steps += 1\n",
    "\n",
    "\n",
    "        # Micro F1 (aggregated tp, fp, fn counts across all examples)\n",
    "        eval_micro_p = eval_tp / eval_pred_c\n",
    "        eval_micro_r = eval_tp / eval_gold_c\n",
    "        eval_micro_f1 = 2 * eval_micro_p * eval_micro_r / (eval_micro_p + eval_micro_r)\n",
    "\n",
    "        # Macro F1 (averaged P, R across mini batches)\n",
    "        eval_macro_p = eval_macro_p / nb_eval_steps\n",
    "        eval_macro_r = eval_macro_r / nb_eval_steps\n",
    "        eval_macro_f1 = 2 * eval_macro_p * eval_macro_r / (eval_macro_p + eval_macro_r)\n",
    "\n",
    "        eval_loss = eval_loss / nb_eval_steps\n",
    "        result = {'eval_loss': eval_loss,\n",
    "                  'eval_micro_p': eval_micro_p,\n",
    "                  'eval_micro_r': eval_micro_r,\n",
    "                  'eval_micro_f1': eval_micro_f1,\n",
    "                  'eval_macro_p': eval_macro_p,\n",
    "                  'eval_macro_r': eval_macro_r,\n",
    "                  'eval_macro_f1': eval_macro_f1,\n",
    "#                   'global_step': global_step,\n",
    "#                   'loss': tr_loss/nb_tr_steps\n",
    "                  }\n",
    "\n",
    "        output_eval_file = os.path.join(output_dir, \"ibmcs_test_test_results.txt\")\n",
    "        output_raw_score = os.path.join(output_dir, \"ibmcs_test_raw_score.csv\")\n",
    "        with open(output_eval_file, \"w\") as writer:\n",
    "            logger.info(\"***** Eval results *****\")\n",
    "            for key in sorted(result.keys()):\n",
    "                logger.info(\"  %s = %s\", key, str(result[key]))\n",
    "                writer.write(\"%s = %s\\n\" % (key, str(result[key])))\n",
    "\n",
    "        with open(output_raw_score, 'w') as fout:\n",
    "            fields = [\"undermine_score\", \"support_score\",\"predict_label\", \"gold\"]\n",
    "            writer = csv.DictWriter(fout, fieldnames=fields)\n",
    "            writer.writeheader()\n",
    "            for score, pred, gold in raw_score:\n",
    "                writer.writerow({\n",
    "                    \"undermine_score\": str(score[0]),\n",
    "                    \"support_score\": str(score[1]),\n",
    "                    \"predict_label\": str(pred),\n",
    "                    \"gold\": str(gold)\n",
    "                })"
   ]
  },
  {
   "cell_type": "code",
   "execution_count": null,
   "metadata": {},
   "outputs": [],
   "source": []
  },
  {
   "cell_type": "code",
   "execution_count": null,
   "metadata": {},
   "outputs": [],
   "source": [
    "def experiments():\n",
    "    data_dir = \"D:/Jupyter/data/dataset/perspective_stances/\"\n",
    "#     data_dir = \"/home/syg340/Dataset/\"\n",
    "\n",
    "    # data_dir_output = data_dir + \"output2/\"\n",
    "    data_dir_output = \"D:/Projects/Stance/Models/\"\n",
    "    train_and_test(data_dir=data_dir, do_train=True, do_eval=True, output_dir=data_dir_output,task_name=\"Mrpc\")\n"
   ]
  },
  {
   "cell_type": "code",
   "execution_count": 6,
   "metadata": {},
   "outputs": [],
   "source": [
    "def evaluation_with_pretrained():\n",
    "#     bert_model = \"D:/Projects/Stance/Models/dataExpantion/dataExpantion.pth\"\n",
    "    bert_model = \"D:/Projects/Stance/Models/output.pth\"\n",
    "#     data_dir = \"D:/Jupyter/data/dataset/perspective_stances/\"\n",
    "    data_dir = \"D:/Jupyter/data/dataset/ibmcs/\"\n",
    "#     data_dir = \"D:/Projects/Stance/Dataset/BertForOppositeClassification/\"\n",
    "#     data_dir = \"D:/Projects/Stance/Dataset/OnlyNew/\"\n",
    "    \n",
    "    # data_dir_output = data_dir + \"output2/\"\n",
    "    data_dir_output = \"D:/Projects/Stance/Evaluation/bert_dummy_output/bert_experiment_local/\"\n",
    "    train_and_test(data_dir=data_dir, do_train=False, do_eval=True, output_dir=data_dir_output,task_name=\"Mrpc\",saved_model=bert_model)"
   ]
  },
  {
   "cell_type": "code",
   "execution_count": 8,
   "metadata": {},
   "outputs": [
    {
     "name": "stderr",
     "output_type": "stream",
     "text": [
      "06/23/2020 19:17:41 - INFO - run_classifier -   device cuda n_gpu 1 distributed training False\n",
      "06/23/2020 19:17:47 - INFO - transformers.tokenization_utils -   loading file https://s3.amazonaws.com/models.huggingface.co/bert/bert-base-uncased-vocab.txt from cache at C:\\Users\\arsen\\.cache\\torch\\transformers\\26bc1ad6c0ac742e9b52263248f6d0f00068293b33709fae12320c0e35ccfbbb.542ce4285a40d23a559526243235df47c5f75c197f04f37d1a0c124c32c9a084\n",
      "06/23/2020 19:17:50 - INFO - pytorch_pretrained_bert.modeling -   loading archive file https://s3.amazonaws.com/models.huggingface.co/bert/bert-base-uncased.tar.gz from cache at C:\\Users\\arsen\\.pytorch_pretrained_bert\\distributed_-1\\9c41111e2de84547a463fd39217199738d1e3deb72d4fec4399e6e241983c6f0.ae3cef932725ca7a30cdcb93fc6e09150a55e2a130ec7af63975a16c153ae2ba\n",
      "06/23/2020 19:17:50 - INFO - pytorch_pretrained_bert.modeling -   extracting archive file C:\\Users\\arsen\\.pytorch_pretrained_bert\\distributed_-1\\9c41111e2de84547a463fd39217199738d1e3deb72d4fec4399e6e241983c6f0.ae3cef932725ca7a30cdcb93fc6e09150a55e2a130ec7af63975a16c153ae2ba to temp dir C:\\Users\\arsen\\AppData\\Local\\Temp\\tmpqozzl6h4\n",
      "06/23/2020 19:17:54 - INFO - pytorch_pretrained_bert.modeling -   Model config {\n",
      "  \"attention_probs_dropout_prob\": 0.1,\n",
      "  \"hidden_act\": \"gelu\",\n",
      "  \"hidden_dropout_prob\": 0.1,\n",
      "  \"hidden_size\": 768,\n",
      "  \"initializer_range\": 0.02,\n",
      "  \"intermediate_size\": 3072,\n",
      "  \"max_position_embeddings\": 512,\n",
      "  \"num_attention_heads\": 12,\n",
      "  \"num_hidden_layers\": 12,\n",
      "  \"type_vocab_size\": 2,\n",
      "  \"vocab_size\": 30522\n",
      "}\n",
      "\n",
      "06/23/2020 19:17:56 - INFO - pytorch_pretrained_bert.modeling -   Weights of BertForSequenceClassification not initialized from pretrained model: ['classifier.weight', 'classifier.bias']\n",
      "06/23/2020 19:17:56 - INFO - pytorch_pretrained_bert.modeling -   Weights from pretrained model not used in BertForSequenceClassification: ['cls.predictions.bias', 'cls.predictions.transform.dense.weight', 'cls.predictions.transform.dense.bias', 'cls.predictions.decoder.weight', 'cls.seq_relationship.weight', 'cls.seq_relationship.bias', 'cls.predictions.transform.LayerNorm.weight', 'cls.predictions.transform.LayerNorm.bias']\n",
      "06/23/2020 19:17:56 - INFO - run_classifier -   *** Example ***\n",
      "06/23/2020 19:17:56 - INFO - run_classifier -   guid: test-1\n",
      "06/23/2020 19:17:56 - INFO - run_classifier -   tokens: [CLS] [UNK] house believes that open primaries are the most effective method of selecting candidates for [SEP] [UNK] single election in which the party nominee is selected by non ##par ##ty [SEP]\n",
      "06/23/2020 19:17:56 - INFO - run_classifier -   input_ids: 101 100 2160 7164 2008 2330 27419 2024 1996 2087 4621 4118 1997 17739 5347 2005 102 100 2309 2602 1999 2029 1996 2283 9773 2003 3479 2011 2512 19362 3723 102\n",
      "06/23/2020 19:17:56 - INFO - run_classifier -   input_mask: 1 1 1 1 1 1 1 1 1 1 1 1 1 1 1 1 1 1 1 1 1 1 1 1 1 1 1 1 1 1 1 1\n",
      "06/23/2020 19:17:56 - INFO - run_classifier -   segment_ids: 0 0 0 0 0 0 0 0 0 0 0 0 0 0 0 0 0 1 1 1 1 1 1 1 1 1 1 1 1 1 1 1\n",
      "06/23/2020 19:17:56 - INFO - run_classifier -   label: 0 (id = 0)\n",
      "06/23/2020 19:17:56 - INFO - run_classifier -   *** Example ***\n",
      "06/23/2020 19:17:56 - INFO - run_classifier -   guid: test-2\n",
      "06/23/2020 19:17:56 - INFO - run_classifier -   tokens: [CLS] [UNK] house believes that open primaries are the most effective method of selecting candidates for elections [SEP] [UNK] party ' s basic function is to choose its own leaders [SEP]\n",
      "06/23/2020 19:17:56 - INFO - run_classifier -   input_ids: 101 100 2160 7164 2008 2330 27419 2024 1996 2087 4621 4118 1997 17739 5347 2005 3864 102 100 2283 1005 1055 3937 3853 2003 2000 5454 2049 2219 4177 102 0\n",
      "06/23/2020 19:17:56 - INFO - run_classifier -   input_mask: 1 1 1 1 1 1 1 1 1 1 1 1 1 1 1 1 1 1 1 1 1 1 1 1 1 1 1 1 1 1 1 0\n",
      "06/23/2020 19:17:56 - INFO - run_classifier -   segment_ids: 0 0 0 0 0 0 0 0 0 0 0 0 0 0 0 0 0 0 1 1 1 1 1 1 1 1 1 1 1 1 1 0\n",
      "06/23/2020 19:17:56 - INFO - run_classifier -   label: 0 (id = 0)\n",
      "06/23/2020 19:17:56 - INFO - run_classifier -   *** Example ***\n",
      "06/23/2020 19:17:56 - INFO - run_classifier -   guid: test-3\n",
      "06/23/2020 19:17:56 - INFO - run_classifier -   tokens: [CLS] [UNK] house believes that open primaries are the most effective method of selecting candidates for elections [SEP] [UNK] open primary can be seen as good for voter participation [SEP]\n",
      "06/23/2020 19:17:56 - INFO - run_classifier -   input_ids: 101 100 2160 7164 2008 2330 27419 2024 1996 2087 4621 4118 1997 17739 5347 2005 3864 102 100 2330 3078 2064 2022 2464 2004 2204 2005 14303 6577 102 0 0\n",
      "06/23/2020 19:17:56 - INFO - run_classifier -   input_mask: 1 1 1 1 1 1 1 1 1 1 1 1 1 1 1 1 1 1 1 1 1 1 1 1 1 1 1 1 1 1 0 0\n",
      "06/23/2020 19:17:56 - INFO - run_classifier -   segment_ids: 0 0 0 0 0 0 0 0 0 0 0 0 0 0 0 0 0 0 1 1 1 1 1 1 1 1 1 1 1 1 0 0\n",
      "06/23/2020 19:17:56 - INFO - run_classifier -   label: 1 (id = 1)\n",
      "06/23/2020 19:17:56 - INFO - run_classifier -   *** Example ***\n",
      "06/23/2020 19:17:56 - INFO - run_classifier -   guid: test-4\n",
      "06/23/2020 19:17:56 - INFO - run_classifier -   tokens: [CLS] [UNK] house believes that open primaries are the most effective method of selecting candidates for [SEP] the open primary allows non ##partisan or independent voters to participate in the no [SEP]\n",
      "06/23/2020 19:17:56 - INFO - run_classifier -   input_ids: 101 100 2160 7164 2008 2330 27419 2024 1996 2087 4621 4118 1997 17739 5347 2005 102 1996 2330 3078 4473 2512 26053 2030 2981 7206 2000 5589 1999 1996 2053 102\n",
      "06/23/2020 19:17:56 - INFO - run_classifier -   input_mask: 1 1 1 1 1 1 1 1 1 1 1 1 1 1 1 1 1 1 1 1 1 1 1 1 1 1 1 1 1 1 1 1\n",
      "06/23/2020 19:17:56 - INFO - run_classifier -   segment_ids: 0 0 0 0 0 0 0 0 0 0 0 0 0 0 0 0 0 1 1 1 1 1 1 1 1 1 1 1 1 1 1 1\n",
      "06/23/2020 19:17:56 - INFO - run_classifier -   label: 1 (id = 1)\n",
      "06/23/2020 19:17:56 - INFO - run_classifier -   *** Example ***\n",
      "06/23/2020 19:17:56 - INFO - run_classifier -   guid: test-5\n",
      "06/23/2020 19:17:56 - INFO - run_classifier -   tokens: [CLS] [UNK] house believes that open primaries are the most effective method of selecting candidates for [SEP] [UNK] non ##partisan or independent voters are allowed to help select the nominees then [SEP]\n",
      "06/23/2020 19:17:56 - INFO - run_classifier -   input_ids: 101 100 2160 7164 2008 2330 27419 2024 1996 2087 4621 4118 1997 17739 5347 2005 102 100 2512 26053 2030 2981 7206 2024 3039 2000 2393 7276 1996 17853 2059 102\n",
      "06/23/2020 19:17:56 - INFO - run_classifier -   input_mask: 1 1 1 1 1 1 1 1 1 1 1 1 1 1 1 1 1 1 1 1 1 1 1 1 1 1 1 1 1 1 1 1\n",
      "06/23/2020 19:17:56 - INFO - run_classifier -   segment_ids: 0 0 0 0 0 0 0 0 0 0 0 0 0 0 0 0 0 1 1 1 1 1 1 1 1 1 1 1 1 1 1 1\n",
      "06/23/2020 19:17:56 - INFO - run_classifier -   label: 1 (id = 1)\n",
      "06/23/2020 19:17:58 - INFO - run_classifier -   ***** Running evaluation *****\n",
      "06/23/2020 19:17:58 - INFO - run_classifier -     Num examples = 2394\n",
      "06/23/2020 19:17:58 - INFO - run_classifier -     Batch size = 8\n"
     ]
    },
    {
     "name": "stdout",
     "output_type": "stream",
     "text": [
      "[[ 0.22526492 -0.1359578 ]\n",
      " [-1.1638577   0.9447243 ]\n",
      " [-3.8214025   3.4761896 ]\n",
      " [-2.8672209   2.581253  ]\n",
      " [-3.5721085   3.3372922 ]\n",
      " [-1.0940547   1.0814598 ]\n",
      " [ 1.6747785  -1.7683944 ]\n",
      " [ 3.0573168  -3.1752877 ]]\n",
      "[[ 1.9513241  -2.0810244 ]\n",
      " [ 3.2504196  -3.4706068 ]\n",
      " [ 3.1359282  -3.3171177 ]\n",
      " [ 2.9123049  -3.1310844 ]\n",
      " [-0.20514917  0.04915991]\n",
      " [-1.5929928   1.0126593 ]\n",
      " [-1.3923291   0.96343154]\n",
      " [-2.8917625   2.3453178 ]]\n",
      "[[-2.7325084  2.3123937]\n",
      " [-1.6009648  0.9626405]\n",
      " [-2.3347592  1.7234968]\n",
      " [-2.1092277  1.6469979]\n",
      " [ 3.0571556 -3.2978592]\n",
      " [-2.899314   2.3698723]\n",
      " [-2.0240765  1.5631143]\n",
      " [-2.3300414  1.8470433]]\n",
      "[[-2.7489173   2.2737896 ]\n",
      " [-1.3752568   1.0973673 ]\n",
      " [ 1.756354   -1.970819  ]\n",
      " [ 1.0893006  -1.5607188 ]\n",
      " [-2.8941655   2.4198298 ]\n",
      " [-0.08625522 -0.33838677]\n",
      " [-3.052361    2.5377746 ]\n",
      " [ 0.2295401  -0.44196385]]\n",
      "[[-0.15706661 -0.05336304]\n",
      " [-0.25269383  0.24361613]\n",
      " [-1.6503954   1.2902805 ]\n",
      " [-1.444307    0.9549874 ]\n",
      " [ 0.10183146 -0.3054131 ]\n",
      " [-2.2485776   1.7724956 ]\n",
      " [ 2.8507109  -3.017844  ]\n",
      " [ 1.5788592  -1.8916507 ]]\n",
      "[[-1.5452918   1.133286  ]\n",
      " [-1.4597317   0.98312336]\n",
      " [-2.5664606   2.0799124 ]\n",
      " [ 0.22295097 -0.36444363]\n",
      " [-2.982448    2.6239986 ]\n",
      " [ 1.9510278  -2.0515413 ]\n",
      " [-1.139502    0.9469848 ]\n",
      " [ 1.685012   -1.6964138 ]]\n",
      "[[-1.798044    1.2191315 ]\n",
      " [ 1.9678665  -2.0595279 ]\n",
      " [-0.33771098  0.12522766]\n",
      " [-1.2991081   0.8236665 ]\n",
      " [ 2.3094287  -2.5042956 ]\n",
      " [-1.6159903   1.1057799 ]\n",
      " [ 2.413414   -2.6066213 ]\n",
      " [ 2.1611495  -2.3555064 ]]\n",
      "[[-1.798044    1.2191315 ]\n",
      " [-1.0654031   0.8272628 ]\n",
      " [-1.6458787   1.3651484 ]\n",
      " [-0.32713807  0.14739898]\n",
      " [ 1.0676849  -1.1274188 ]\n",
      " [-2.5376165   1.9657172 ]\n",
      " [ 1.2248514  -1.2567315 ]\n",
      " [-3.1199017   2.6850758 ]]\n",
      "[[ 2.413362  -2.5286129]\n",
      " [ 0.9247715 -1.1187973]\n",
      " [ 2.972536  -3.1192777]\n",
      " [-2.183417   2.0683122]\n",
      " [ 1.1793691 -1.2457209]\n",
      " [ 2.8560948 -3.0393453]\n",
      " [ 2.0612588 -2.217677 ]\n",
      " [-2.7027073  2.4797568]]\n",
      "[[ 2.876256   -3.006229  ]\n",
      " [ 1.854111   -1.9058828 ]\n",
      " [ 1.1679246  -1.2213182 ]\n",
      " [ 0.56345546 -0.6718219 ]\n",
      " [-2.6567514   2.1993747 ]\n",
      " [-0.89455247  0.4837345 ]\n",
      " [ 0.7624603  -0.84794766]\n",
      " [-1.7101274   1.3531475 ]]\n",
      "[[-1.9566047  1.7284167]\n",
      " [-2.555882   2.120166 ]\n",
      " [-1.881211   1.6006037]\n",
      " [ 1.2515597 -1.4294083]\n",
      " [-2.972321   2.628931 ]\n",
      " [-2.7895453  2.3709927]\n",
      " [ 3.2005205 -3.3764768]\n",
      " [ 3.14422   -3.299657 ]]\n",
      "[[ 0.13842589 -0.1976665 ]\n",
      " [ 1.3790928  -1.4963632 ]\n",
      " [-1.4815689   1.1157224 ]\n",
      " [ 0.98163337 -1.0074979 ]\n",
      " [ 1.5116447  -1.5812619 ]\n",
      " [-2.2209945   1.8701141 ]\n",
      " [-3.1278994   2.6368003 ]\n",
      " [-1.0989723   0.618247  ]]\n",
      "[[-1.9657514   1.4334247 ]\n",
      " [ 2.4579635  -2.5543437 ]\n",
      " [ 2.775086   -2.7439623 ]\n",
      " [-2.0376644   1.4365861 ]\n",
      " [-2.7396295   2.2450824 ]\n",
      " [-2.4255698   2.0233526 ]\n",
      " [-1.3887577   1.1058975 ]\n",
      " [ 0.31006563 -0.40540892]]\n",
      "[[-2.718926   2.1906073]\n",
      " [-2.542008   2.1294289]\n",
      " [-1.709342   1.4100146]\n",
      " [-2.752458   2.233543 ]\n",
      " [-2.2705772  1.7398194]\n",
      " [-2.8267171  2.2979026]\n",
      " [-1.4393079  1.1249735]\n",
      " [-1.1796143  0.5499198]]\n",
      "[[-2.0376644   1.4365861 ]\n",
      " [-1.9392011   1.5339055 ]\n",
      " [-2.056781    1.6073402 ]\n",
      " [ 1.5890813  -1.7808526 ]\n",
      " [-2.9380322   2.4561534 ]\n",
      " [ 2.3360262  -2.4243464 ]\n",
      " [-2.669438    2.1990519 ]\n",
      " [-0.37032196 -0.1543585 ]]\n",
      "[[-1.3101388   0.9754925 ]\n",
      " [-1.5586472   1.1424432 ]\n",
      " [ 1.5458124  -1.5571492 ]\n",
      " [-0.8528387   0.56235963]\n",
      " [ 0.36960727 -0.49318123]\n",
      " [-1.356106    0.89091784]\n",
      " [-0.10223881 -0.0820678 ]\n",
      " [-0.7633291   0.46988934]]\n",
      "[[-1.4828758   1.113061  ]\n",
      " [-1.9217911   1.5664611 ]\n",
      " [ 0.5402617  -0.6051661 ]\n",
      " [ 0.15376736 -0.39909944]\n",
      " [ 1.6593341  -1.7243319 ]\n",
      " [-0.88443476  0.66032034]\n",
      " [ 0.04459281 -0.07108658]\n",
      " [ 1.2543919  -1.3916005 ]]\n",
      "[[ 0.02633141 -0.27900308]\n",
      " [-1.4359412   1.046517  ]\n",
      " [-1.5575649   1.2012094 ]\n",
      " [ 0.5216282  -0.6422531 ]\n",
      " [-1.5610099   1.273156  ]\n",
      " [ 0.16456708 -0.18099996]\n",
      " [ 1.0643237  -1.208992  ]\n",
      " [-2.0314386   1.6305119 ]]\n",
      "[[-1.1213142   0.75703984]\n",
      " [-1.0525777   0.62795174]\n",
      " [-1.1152704   0.6766487 ]\n",
      " [-1.9519429   1.4350661 ]\n",
      " [-2.81433     2.2925262 ]\n",
      " [ 0.2397611  -0.31271774]\n",
      " [-1.6789831   1.3765221 ]\n",
      " [ 1.3047897  -1.5010355 ]]\n",
      "[[ 0.33104983 -0.59616137]\n",
      " [-0.78327423  0.45442784]\n",
      " [ 0.1826458  -0.37652263]\n",
      " [-2.0950775   1.5479889 ]\n",
      " [-0.9711879   0.7079771 ]\n",
      " [-0.06826036 -0.21077903]\n",
      " [-1.234449    0.975991  ]\n",
      " [-1.5877528   1.1121156 ]]\n",
      "[[ 1.221008   -1.2700515 ]\n",
      " [ 1.4089589  -1.5058717 ]\n",
      " [-0.75294757  0.4029181 ]\n",
      " [-0.0102674  -0.14445713]\n",
      " [-1.8072288   1.3987222 ]\n",
      " [ 1.009526   -0.9810559 ]\n",
      " [-0.90988886  0.6964595 ]\n",
      " [ 1.8712541  -1.9731028 ]]\n",
      "[[ 2.2417712  -2.1947448 ]\n",
      " [ 0.71936625 -0.7549624 ]\n",
      " [-1.3947217   1.1669637 ]\n",
      " [ 2.9072587  -3.0768175 ]\n",
      " [-1.6200281   1.2524321 ]\n",
      " [-0.8791068   0.56710154]\n",
      " [-1.2494675   0.8724707 ]\n",
      " [-1.891902    1.665784  ]]\n",
      "[[ 0.7488599  -0.971253  ]\n",
      " [-0.98136336  0.83977157]\n",
      " [-2.6982296   2.246922  ]\n",
      " [-0.10464586 -0.06951033]\n",
      " [-1.8270842   1.3569416 ]\n",
      " [-3.2762375   2.7580307 ]\n",
      " [-3.618307    3.2941592 ]\n",
      " [-1.1515632   1.0904608 ]]\n",
      "[[ 3.187671  -3.327639 ]\n",
      " [ 3.384553  -3.5164158]\n",
      " [-2.7983658  2.2864535]\n",
      " [-2.472588   1.9506652]\n",
      " [ 2.5189626 -2.6023903]\n",
      " [-3.1840181  2.6805131]\n",
      " [ 3.0602343 -3.18824  ]\n",
      " [-3.0828834  2.5306618]]\n",
      "[[-3.5162683  3.1246645]\n",
      " [-1.9823213  1.613323 ]\n",
      " [-3.5593712  3.0829687]\n",
      " [-3.5353656  3.1673098]\n",
      " [-3.303021   2.8742285]\n",
      " [-3.5803285  3.162481 ]\n",
      " [ 2.707908  -2.8322139]\n",
      " [ 3.3756337 -3.5046377]]\n",
      "[[-2.2202215   1.7881606 ]\n",
      " [-2.956458    2.4604955 ]\n",
      " [ 0.5576025  -0.787686  ]\n",
      " [-2.9378889   2.672001  ]\n",
      " [ 2.2939746  -2.3154626 ]\n",
      " [-0.3398471   0.04826538]\n",
      " [ 0.17422688 -0.25038195]\n",
      " [ 3.0363655  -3.1914308 ]]\n",
      "[[ 3.392736   -3.5543969 ]\n",
      " [-3.0359225   2.562167  ]\n",
      " [ 2.4771786  -2.5529199 ]\n",
      " [-2.925695    2.4489233 ]\n",
      " [-1.7999433   1.1861918 ]\n",
      " [-0.8942203   0.6346946 ]\n",
      " [-1.1172979   0.62527496]\n",
      " [ 2.42889    -2.493841  ]]\n",
      "[[-1.6734655   1.3066833 ]\n",
      " [-2.6428206   2.238215  ]\n",
      " [-2.8958435   2.3541093 ]\n",
      " [-0.8122278   0.20008886]\n",
      " [-0.06162795 -0.11146561]\n",
      " [ 2.5878851  -2.8724284 ]\n",
      " [-1.3338622   1.0858278 ]\n",
      " [-3.7197244   3.4783306 ]]\n",
      "[[ 2.4151435 -2.6251867]\n",
      " [ 1.6804972 -1.7806704]\n",
      " [ 1.9861343 -2.0555606]\n",
      " [ 1.0556347 -1.1741407]\n",
      " [ 2.5487463 -2.9069314]\n",
      " [-2.173693   1.837986 ]\n",
      " [-2.7582412  2.4485707]\n",
      " [-3.4533596  3.0082793]]\n",
      "[[ 1.5732576  -1.7034997 ]\n",
      " [ 2.10425    -2.2351768 ]\n",
      " [-3.126893    2.67884   ]\n",
      " [ 2.4269483  -2.652666  ]\n",
      " [ 0.4435691  -0.53539604]\n",
      " [-0.47799376  0.318359  ]\n",
      " [-3.6703749   3.3511672 ]\n",
      " [ 2.2260191  -2.4036622 ]]\n",
      "[[-2.92416    2.513607 ]\n",
      " [ 1.7378595 -1.9082191]\n",
      " [ 1.2366898 -1.3605263]\n",
      " [-1.3561692  1.0685891]\n",
      " [-2.8625114  2.4792838]\n",
      " [-3.1857805  2.8607974]\n",
      " [ 2.360877  -2.5352933]\n",
      " [ 2.7733767 -2.9226246]]\n",
      "[[ 0.23096322 -0.36853635]\n",
      " [ 3.0141597  -3.2832336 ]\n",
      " [-2.8265548   2.400537  ]\n",
      " [-3.1351614   3.0218148 ]\n",
      " [-3.1966121   2.9316401 ]\n",
      " [-2.7521682   2.303195  ]\n",
      " [ 2.470911   -2.8210292 ]\n",
      " [-2.368926    1.9534011 ]]\n",
      "[[ 0.21810557 -0.44972456]\n",
      " [ 1.5157541  -1.683594  ]\n",
      " [ 0.79093593 -0.9497657 ]\n",
      " [ 1.3724061  -1.4730632 ]\n",
      " [ 2.783949   -2.989711  ]\n",
      " [ 2.735149   -2.8885732 ]\n",
      " [-2.4310887   2.0329483 ]\n",
      " [-1.373358    1.1606421 ]]\n",
      "[[ 1.2220827 -1.2382594]\n",
      " [-1.5177636  1.1524405]\n",
      " [ 2.8328516 -3.0165875]\n",
      " [-3.487773   3.1933925]\n",
      " [-2.2113748  1.975209 ]\n",
      " [ 3.0245624 -3.2229617]\n",
      " [ 3.1162078 -3.1782653]\n",
      " [ 2.1716695 -2.4720745]]\n",
      "[[-3.2440507   2.832409  ]\n",
      " [ 1.5879246  -1.6668386 ]\n",
      " [ 1.0662305  -1.154334  ]\n",
      " [-1.3856066   0.9457321 ]\n",
      " [-1.280429    0.8515958 ]\n",
      " [ 2.0472512  -2.3447044 ]\n",
      " [-0.21964628  0.12142478]\n",
      " [-0.69936556  0.40389425]]\n",
      "[[-1.0939956   0.8918479 ]\n",
      " [-0.5066965   0.29707134]\n",
      " [ 1.8599349  -2.1835427 ]\n",
      " [ 1.0714003  -1.3353544 ]\n",
      " [ 2.41612    -2.4406242 ]\n",
      " [ 0.03996554 -0.24907297]\n",
      " [-0.57139134  0.321361  ]\n",
      " [ 1.9768806  -2.1936097 ]]\n",
      "[[ 2.6909456  -2.9809585 ]\n",
      " [-1.609442    1.5911828 ]\n",
      " [ 1.4052888  -1.6860331 ]\n",
      " [-1.9210421   1.6168296 ]\n",
      " [ 3.0086946  -3.2544618 ]\n",
      " [ 0.41413665 -0.42125508]\n",
      " [-2.9120035   2.4101636 ]\n",
      " [-0.06240903 -0.1987508 ]]\n",
      "[[ 2.2164526 -2.2678628]\n",
      " [ 2.3744445 -2.5449407]\n",
      " [ 1.9472525 -2.1226938]\n",
      " [-2.7621088  2.4664426]\n",
      " [ 2.3625772 -2.4704018]\n",
      " [ 0.9975685 -1.0965049]\n",
      " [ 2.4367266 -2.757136 ]\n",
      " [ 1.0799875 -1.4287791]]\n",
      "[[ 1.2843822 -1.4687437]\n",
      " [-1.9546559  1.5799208]\n",
      " [-3.0287828  2.74205  ]\n",
      " [ 0.9357899 -1.1388091]\n",
      " [ 0.6960417 -0.7983632]\n",
      " [ 0.5746189 -1.081663 ]\n",
      " [ 1.0951974 -1.2794893]\n",
      " [-2.736662   2.3200338]]\n",
      "[[-1.6667525  1.2874181]\n",
      " [ 2.1656346 -2.370263 ]\n",
      " [ 1.7216322 -1.9121009]\n",
      " [ 1.9445825 -2.083457 ]\n",
      " [-3.445775   3.1505976]\n",
      " [-1.5160888  1.2904818]\n",
      " [ 2.7526639 -2.8952847]\n",
      " [ 2.858377  -2.9618382]]\n",
      "[[ 1.6594163 -1.6560082]\n",
      " [ 1.8047493 -2.0157266]\n",
      " [ 2.0289452 -2.1282444]\n",
      " [ 1.7273457 -1.78298  ]\n",
      " [-2.9163618  2.5131836]\n",
      " [ 2.0377526 -2.2114944]\n",
      " [ 1.3300893 -1.6431054]\n",
      " [-0.4914251  0.3447669]]\n"
     ]
    },
    {
     "name": "stdout",
     "output_type": "stream",
     "text": [
      "[[-3.0038798e+00  2.5815125e+00]\n",
      " [-2.0265764e-01  1.6309285e-01]\n",
      " [ 2.0209904e+00 -2.0276432e+00]\n",
      " [ 6.7123741e-01 -6.2305397e-01]\n",
      " [-1.2212667e+00  9.6863860e-01]\n",
      " [ 2.8820693e+00 -2.8116155e+00]\n",
      " [ 2.9048662e+00 -2.9532094e+00]\n",
      " [-2.3760127e-04 -1.2839246e-01]]\n",
      "[[-3.4418588   3.1010642 ]\n",
      " [ 0.6803525  -0.80875975]\n",
      " [ 1.138728   -1.1660708 ]\n",
      " [ 3.1549273  -3.4085386 ]\n",
      " [ 1.0106814  -1.0356042 ]\n",
      " [ 1.9812071  -2.08339   ]\n",
      " [-3.3889656   3.0782342 ]\n",
      " [ 2.143598   -2.2038493 ]]\n",
      "[[ 2.109135   -2.3194427 ]\n",
      " [-3.3732486   3.1358616 ]\n",
      " [-0.5629128   0.36455184]\n",
      " [ 3.0978975  -3.1562462 ]\n",
      " [-3.7234054   3.4308927 ]\n",
      " [-2.9760115   2.6573582 ]\n",
      " [ 1.0058241  -1.102215  ]\n",
      " [-2.2257285   1.7769444 ]]\n",
      "[[ 2.4668472 -2.7182996]\n",
      " [-2.0896938  1.8403684]\n",
      " [-1.2423711  1.0450085]\n",
      " [-2.5408318  2.1448665]\n",
      " [ 1.9144485 -1.9703102]\n",
      " [ 2.150492  -2.2977839]\n",
      " [-3.7621512  3.4745069]\n",
      " [ 1.3488781 -1.4786894]]\n",
      "[[-2.9467473  2.5825734]\n",
      " [ 2.8694682 -3.0742064]\n",
      " [-0.845234   0.6130297]\n",
      " [-3.1966276  2.805417 ]\n",
      " [ 2.544958  -2.756095 ]\n",
      " [ 3.3024209 -3.4187164]\n",
      " [ 2.630776  -2.837421 ]\n",
      " [ 1.4347794 -1.4862068]]\n",
      "[[-3.0682056   2.7455137 ]\n",
      " [ 0.08998232 -0.15993097]\n",
      " [ 0.97277623 -1.0899321 ]\n",
      " [-0.3656872   0.16707337]\n",
      " [-1.00311     0.6924501 ]\n",
      " [ 1.1501973  -1.3209833 ]\n",
      " [-0.83348554  0.51939523]\n",
      " [-0.638883    0.34278727]]\n",
      "[[-0.46648425  0.23730946]\n",
      " [ 1.2565866  -1.2508652 ]\n",
      " [-0.37069076  0.13576476]\n",
      " [-1.6198229   1.261344  ]\n",
      " [-1.069871    0.75102204]\n",
      " [ 2.2456517  -2.281672  ]\n",
      " [ 0.55573523 -0.5281716 ]\n",
      " [-1.9941924   1.598783  ]]\n",
      "[[ 1.8049084  -1.8918126 ]\n",
      " [ 0.95438737 -0.96575004]\n",
      " [-1.536388    1.3361975 ]\n",
      " [-0.5332372  -0.0298723 ]\n",
      " [-1.9798545   1.4293804 ]\n",
      " [-1.4921772   1.2382247 ]\n",
      " [-2.2593741   1.6540537 ]\n",
      " [ 0.46460095 -0.695696  ]]\n",
      "[[ 1.9492384  -1.9759684 ]\n",
      " [ 0.6168889  -0.7338485 ]\n",
      " [ 1.9036819  -2.0736651 ]\n",
      " [ 2.0821433  -2.085606  ]\n",
      " [ 2.3490384  -2.485808  ]\n",
      " [-1.4009564   1.0142653 ]\n",
      " [-0.9416985   0.65561426]\n",
      " [-1.4306461   1.1052837 ]]\n",
      "[[-2.2925296   1.7990546 ]\n",
      " [ 0.7465829  -1.2479002 ]\n",
      " [ 0.66184884 -0.7109072 ]\n",
      " [ 0.60612386 -1.0208741 ]\n",
      " [-1.8173044   1.4172987 ]\n",
      " [-0.99605906  0.64331114]\n",
      " [-1.0993423   0.77332455]\n",
      " [-2.679027    2.2095032 ]]\n",
      "[[-1.3417486   0.78788203]\n",
      " [ 0.04758362 -0.62441033]\n",
      " [ 2.7374063  -2.8747783 ]\n",
      " [ 0.74001104 -1.0034885 ]\n",
      " [ 0.7983342  -0.8407241 ]\n",
      " [ 1.8864934  -1.949753  ]\n",
      " [-1.8134375   1.436965  ]\n",
      " [-0.65046626  0.2682936 ]]\n",
      "[[ 1.5218899  -1.6423419 ]\n",
      " [-1.8496428   1.3869152 ]\n",
      " [-0.06977641 -0.5538202 ]\n",
      " [-1.4973574   1.3067653 ]\n",
      " [-2.5768054   2.0756187 ]\n",
      " [-2.1157756   1.4977448 ]\n",
      " [-0.41161638  0.22607604]\n",
      " [ 1.0083582  -1.4546471 ]]\n",
      "[[-0.58700114  0.36859462]\n",
      " [-0.7920621   0.49412638]\n",
      " [-0.12985791 -0.19439688]\n",
      " [-2.3885016   1.990021  ]\n",
      " [-2.752377    2.3197029 ]\n",
      " [-1.006499    0.76508963]\n",
      " [-2.9470596   2.5330455 ]\n",
      " [ 2.3990993  -2.6033964 ]]\n",
      "[[-3.619475    3.2908368 ]\n",
      " [-2.0832224   1.8069692 ]\n",
      " [ 3.2192984  -3.472756  ]\n",
      " [-1.0404432   0.6678975 ]\n",
      " [-0.35518163  0.20386454]\n",
      " [-1.7108012   1.3838764 ]\n",
      " [ 1.0618246  -1.1378038 ]\n",
      " [-3.5867746   3.228421  ]]\n",
      "[[-3.315206    2.8451717 ]\n",
      " [ 2.312224   -2.3372548 ]\n",
      " [ 0.95907223 -1.1507615 ]\n",
      " [-3.5792851   3.2550316 ]\n",
      " [-3.2624278   2.7589478 ]\n",
      " [ 2.9300747  -3.3012424 ]\n",
      " [-3.265396    2.7924507 ]\n",
      " [-0.34502906  0.17277628]]\n",
      "[[ 1.4047527 -1.5497355]\n",
      " [-3.2289808  2.7445564]\n",
      " [-3.1542454  2.7021208]\n",
      " [ 3.0659642 -3.2696805]\n",
      " [-2.6000993  2.1822743]\n",
      " [ 2.78092   -2.9249086]\n",
      " [-3.3921247  2.9802074]\n",
      " [-3.308993   2.8971858]]\n",
      "[[-1.337065   1.0470405]\n",
      " [-3.567965   3.2374258]\n",
      " [-2.0157568  1.6114612]\n",
      " [-3.3509285  2.9883819]\n",
      " [ 0.8417054 -0.9858204]\n",
      " [-3.363642   3.001422 ]\n",
      " [-2.7569048  2.5367723]\n",
      " [-3.5674405  3.1050377]]\n",
      "[[-3.537046    3.2344527 ]\n",
      " [-2.2004743   1.7452468 ]\n",
      " [-3.7303252   3.3290324 ]\n",
      " [-3.4089866   2.796885  ]\n",
      " [ 2.6499395  -2.754034  ]\n",
      " [ 0.80127925 -0.94583964]\n",
      " [-2.676957    2.1566715 ]\n",
      " [-1.0480528   0.89571434]]\n",
      "[[-0.6405578   0.2966429 ]\n",
      " [-0.6219911   0.3629042 ]\n",
      " [ 1.4260223  -1.5540961 ]\n",
      " [ 0.8498373  -1.268727  ]\n",
      " [-1.3617659   0.9631421 ]\n",
      " [-0.97963935  0.40687943]\n",
      " [ 0.36461246 -0.7131904 ]\n",
      " [ 0.84334767 -1.2717346 ]]\n",
      "[[-2.6726236   2.135499  ]\n",
      " [-1.2884473   0.75478405]\n",
      " [-1.9873708   1.5803859 ]\n",
      " [-1.7680564   1.3770754 ]\n",
      " [-1.3540981   0.67288023]\n",
      " [-3.2932506   2.8880305 ]\n",
      " [ 1.3592911  -1.4032149 ]\n",
      " [ 1.9108267  -1.9720114 ]]\n",
      "[[-1.361618    1.0025184 ]\n",
      " [-0.5876105   0.43094245]\n",
      " [-3.1020203   2.8287766 ]\n",
      " [ 0.14348628 -0.5289167 ]\n",
      " [ 1.8542787  -2.149122  ]\n",
      " [-3.232874    2.780567  ]\n",
      " [ 0.11259928 -0.261033  ]\n",
      " [ 2.6463094  -2.7255776 ]]\n",
      "[[ 1.3175302  -1.551853  ]\n",
      " [ 0.9084367  -1.0623126 ]\n",
      " [ 1.2823911  -1.2912953 ]\n",
      " [-0.67037976  0.5468406 ]\n",
      " [ 1.4529762  -1.5718031 ]\n",
      " [-2.1453648   1.6018125 ]\n",
      " [ 1.5768142  -1.9339917 ]\n",
      " [-2.2823796   1.7449381 ]]\n",
      "[[-0.9335467   0.5718219 ]\n",
      " [-0.99395925  0.51510733]\n",
      " [-0.67511326  0.03000608]\n",
      " [ 2.398888   -2.6272666 ]\n",
      " [ 0.6141165  -1.0150993 ]\n",
      " [ 1.633177   -1.9435664 ]\n",
      " [-1.3156949   0.9761814 ]\n",
      " [ 1.9680455  -2.0430875 ]]\n",
      "[[ 1.0118965  -1.138217  ]\n",
      " [-2.0078402   1.4910228 ]\n",
      " [ 1.3187807  -1.555064  ]\n",
      " [ 0.84921634 -1.2146895 ]\n",
      " [-1.4501479   0.85948217]\n",
      " [-1.3506837   0.8137932 ]\n",
      " [ 1.4057133  -1.4159935 ]\n",
      " [-0.7497736   0.12125997]]\n",
      "[[ 2.6936283  -2.8268619 ]\n",
      " [-1.4310689   0.81492984]\n",
      " [ 0.38677034 -0.7065158 ]\n",
      " [-1.5214345   1.2229578 ]\n",
      " [ 1.5350087  -1.650029  ]\n",
      " [ 1.1442943  -1.2007881 ]\n",
      " [ 1.2488923  -1.2906334 ]\n",
      " [-3.0087743   2.6659706 ]]\n",
      "[[-3.123253    2.7705297 ]\n",
      " [-0.7569619   0.20027371]\n",
      " [ 0.63151616 -0.7332093 ]\n",
      " [-3.2306867   2.8300571 ]\n",
      " [-2.080874    1.6540314 ]\n",
      " [-3.017879    2.6435337 ]\n",
      " [ 1.0955033  -1.1244819 ]\n",
      " [-1.6857002   1.3577256 ]]\n",
      "[[ 2.5642257 -2.7439332]\n",
      " [ 0.2445878 -0.5311032]\n",
      " [-3.2622938  2.911048 ]\n",
      " [ 1.7677348 -1.7682561]\n",
      " [ 3.2913508 -3.384046 ]\n",
      " [ 3.3656695 -3.5484436]\n",
      " [ 1.9876432 -2.1160588]\n",
      " [-3.3810644  2.9042616]]\n",
      "[[ 2.543638  -2.5959527]\n",
      " [ 3.2012825 -3.4116945]\n",
      " [ 3.229661  -3.3187652]\n",
      " [ 1.2980022 -1.4286053]\n",
      " [-2.899336   2.3951292]\n",
      " [ 2.4609861 -2.63593  ]\n",
      " [-3.1476164  2.685093 ]\n",
      " [-2.720081   2.259467 ]]\n",
      "[[-2.9254029   2.5784016 ]\n",
      " [-0.03750923 -0.34441513]\n",
      " [ 1.3109949  -1.4841924 ]\n",
      " [ 1.2703856  -1.4366583 ]\n",
      " [ 1.0063227  -1.0619458 ]\n",
      " [-0.19305192  0.08642112]\n",
      " [-2.8053803   2.3596225 ]\n",
      " [ 0.7949144  -1.0178452 ]]\n",
      "[[ 2.8213    -3.1175442]\n",
      " [ 2.6494684 -2.9570656]\n",
      " [-1.1137009  0.649209 ]\n",
      " [-2.07888    1.6850268]\n",
      " [-3.1775644  2.5811334]\n",
      " [-1.6593206  1.3023019]\n",
      " [ 0.0692803 -0.2891275]\n",
      " [ 1.8921435 -2.0406926]]\n",
      "[[ 1.0522125  -1.14965   ]\n",
      " [ 2.074526   -2.267741  ]\n",
      " [ 2.3699584  -2.4915743 ]\n",
      " [ 1.3598634  -1.4865049 ]\n",
      " [ 2.778936   -2.9961426 ]\n",
      " [-1.616061    1.1658285 ]\n",
      " [-0.51377505  0.27842292]\n",
      " [-0.8429299   0.48415148]]\n",
      "[[-1.6595242   1.2550458 ]\n",
      " [ 2.2914658  -2.4336433 ]\n",
      " [-2.6997972   2.2415724 ]\n",
      " [-0.90195644  0.46614778]\n",
      " [-2.5196967   2.1017265 ]\n",
      " [ 3.0408258  -3.2759783 ]\n",
      " [ 1.5134926  -1.787093  ]\n",
      " [-0.8553649   0.47844392]]\n",
      "[[-2.6980166   2.128317  ]\n",
      " [-1.7324152   1.2733923 ]\n",
      " [ 1.7120324  -2.0545201 ]\n",
      " [-0.79547095  0.56365585]\n",
      " [-2.671772    2.2983532 ]\n",
      " [-0.7352429   0.35947734]\n",
      " [-2.766873    2.2526445 ]\n",
      " [ 0.85173696 -0.9183502 ]]\n",
      "[[-2.7985814   2.3337855 ]\n",
      " [ 1.2238994  -1.3575041 ]\n",
      " [-0.753845    0.36852503]\n",
      " [-3.223495    2.7192874 ]\n",
      " [-3.4551096   3.0719042 ]\n",
      " [-2.7516217   2.2611253 ]\n",
      " [-2.2297435   1.7790275 ]\n",
      " [-3.286377    2.8214831 ]]\n",
      "[[-2.719784   2.2932925]\n",
      " [-3.1366224  2.6998518]\n",
      " [-3.278084   2.934157 ]\n",
      " [-3.0835974  2.7351213]\n",
      " [-1.4305005  1.1921608]\n",
      " [-3.278701   2.7411838]\n",
      " [-3.3459792  2.933341 ]\n",
      " [ 1.9241722 -2.2591639]]\n",
      "[[ 0.72914267 -0.7831684 ]\n",
      " [-3.5699954   3.161555  ]\n",
      " [-3.0621452   2.5056198 ]\n",
      " [-3.6658342   3.231295  ]\n",
      " [-1.3535936   1.0502404 ]\n",
      " [ 1.7063272  -2.0454335 ]\n",
      " [-1.5208482   1.0992467 ]\n",
      " [ 1.8544261  -2.0564752 ]]\n",
      "[[-2.9719853   2.4851136 ]\n",
      " [ 1.8543731  -1.9365515 ]\n",
      " [-1.0676329   0.64726156]\n",
      " [ 2.2661152  -2.569762  ]\n",
      " [ 1.6955059  -1.8877684 ]\n",
      " [-2.4760852   1.9051787 ]\n",
      " [-2.0738084   1.5531166 ]\n",
      " [ 1.0888335  -1.1709191 ]]\n",
      "[[ 1.0379932  -1.1450841 ]\n",
      " [-2.3218427   1.7688699 ]\n",
      " [-1.7955635   1.3853645 ]\n",
      " [-1.8376828   1.3468575 ]\n",
      " [-1.035461    0.70518225]\n",
      " [-3.011274    2.4936059 ]\n",
      " [-0.7839072   0.5925156 ]\n",
      " [-1.2030796   1.0079856 ]]\n",
      "[[-2.6152816   2.441656  ]\n",
      " [-3.0235481   2.4753914 ]\n",
      " [-2.3717923   1.9344835 ]\n",
      " [ 0.6200172  -0.928544  ]\n",
      " [-1.3963943   0.9890341 ]\n",
      " [ 0.1931434  -0.47569472]\n",
      " [-2.7098389   2.2044363 ]\n",
      " [-1.2184443   0.9350407 ]]\n"
     ]
    },
    {
     "name": "stdout",
     "output_type": "stream",
     "text": [
      "[[-2.6021452  2.1363497]\n",
      " [ 2.192955  -2.3057375]\n",
      " [ 3.0981522 -3.2699122]\n",
      " [-3.657322   3.3979292]\n",
      " [-3.1474662  2.6682305]\n",
      " [-1.7768719  1.3795236]\n",
      " [ 1.9468364 -2.138032 ]\n",
      " [-2.4472294  2.0725799]]\n",
      "[[ 1.337096   -1.4561658 ]\n",
      " [-3.3347793   3.0699115 ]\n",
      " [-2.6448116   2.115899  ]\n",
      " [-3.147044    2.631565  ]\n",
      " [ 1.3283415  -1.4885819 ]\n",
      " [-0.19154401 -0.19537987]\n",
      " [ 1.7593483  -1.8309189 ]\n",
      " [-3.0888138   2.4566116 ]]\n",
      "[[-2.7730916   2.3416634 ]\n",
      " [ 0.2048395  -0.49110562]\n",
      " [ 2.5162392  -2.6896875 ]\n",
      " [-0.7683035   0.5814263 ]\n",
      " [-2.7659156   2.3405385 ]\n",
      " [-2.38061     1.8348904 ]\n",
      " [-3.1622934   2.7454567 ]\n",
      " [-0.8236678   0.47818628]]\n",
      "[[ 2.651247  -2.818678 ]\n",
      " [-1.9193285  1.5625787]\n",
      " [-2.3487315  1.9321551]\n",
      " [-1.3086078  0.971966 ]\n",
      " [-1.2350805  0.8484915]\n",
      " [-2.9248512  2.524723 ]\n",
      " [ 2.6446788 -3.0021472]\n",
      " [-2.6827517  2.0906477]]\n",
      "[[-1.5147614   1.1444787 ]\n",
      " [ 0.7268008  -1.1055642 ]\n",
      " [-2.330668    1.8596869 ]\n",
      " [-2.9830546   2.4788291 ]\n",
      " [-2.4153824   2.0264618 ]\n",
      " [ 2.7509072  -2.8418922 ]\n",
      " [ 0.92263556 -1.1354263 ]\n",
      " [-2.825012    2.386106  ]]\n",
      "[[ 1.7789334 -1.9443882]\n",
      " [-3.0012803  2.50386  ]\n",
      " [ 1.9473515 -2.1046567]\n",
      " [-1.6351352  1.1198007]\n",
      " [ 1.6101316 -1.8193582]\n",
      " [ 2.571747  -2.7844539]\n",
      " [ 2.532395  -2.826995 ]\n",
      " [ 2.2176938 -2.5437512]]\n",
      "[[-3.3531532   2.9733813 ]\n",
      " [-0.23300599 -0.06237884]\n",
      " [-1.1002285   0.81890106]\n",
      " [-2.7118046   2.1991696 ]\n",
      " [ 2.0455341  -2.192383  ]\n",
      " [ 1.6601766  -1.8290105 ]\n",
      " [-2.5610185   2.1038    ]\n",
      " [ 0.77747947 -0.886828  ]]\n",
      "[[-0.60521626  0.26759157]\n",
      " [-3.1464965   2.7687454 ]\n",
      " [-0.31079376  0.08960462]\n",
      " [ 0.91939765 -1.0442696 ]\n",
      " [-3.177899    2.7211695 ]\n",
      " [-3.0430489   2.5391402 ]\n",
      " [ 2.3738663  -2.399898  ]\n",
      " [-2.808338    2.2505023 ]]\n",
      "[[ 2.9282699  -3.162891  ]\n",
      " [-0.5597376   0.289162  ]\n",
      " [-0.5951068   0.29919595]\n",
      " [-2.7275696   2.2789688 ]\n",
      " [-2.415948    1.9232434 ]\n",
      " [-2.7519975   2.2214236 ]\n",
      " [-1.5875624   1.2244718 ]\n",
      " [ 0.73831457 -0.9951663 ]]\n",
      "[[-0.56460434  0.35185054]\n",
      " [ 1.9170787  -1.9710026 ]\n",
      " [-3.071984    2.6775465 ]\n",
      " [-1.5949405   1.1942722 ]\n",
      " [-2.704803    2.2333906 ]\n",
      " [-2.7553163   2.2268887 ]\n",
      " [ 2.7859094  -2.9843693 ]\n",
      " [ 1.993341   -2.1156287 ]]\n",
      "[[ 3.0479069  -3.1986322 ]\n",
      " [ 2.8944461  -3.1949427 ]\n",
      " [ 2.253533   -2.4547572 ]\n",
      " [-2.798727    2.257832  ]\n",
      " [ 0.27710274 -0.5979327 ]\n",
      " [-0.42859244  0.273387  ]\n",
      " [-1.5182772   1.0988762 ]\n",
      " [-0.75596255  0.48254856]]\n",
      "[[-1.4482391   0.9458259 ]\n",
      " [ 0.21865325 -0.4279754 ]\n",
      " [ 1.9845095  -2.0960057 ]\n",
      " [-3.1143994   2.646688  ]\n",
      " [ 2.4474006  -2.5114222 ]\n",
      " [ 2.918364   -2.8701203 ]\n",
      " [-0.9011062   0.56583947]\n",
      " [-2.6713405   2.2026417 ]]\n",
      "[[-2.6258829  2.1505513]\n",
      " [-2.741458   2.2748322]\n",
      " [-2.417447   1.9216197]\n",
      " [-2.5213628  2.1040874]\n",
      " [-1.8084384  1.5167456]\n",
      " [-2.5320525  2.0463853]\n",
      " [ 2.6368513 -2.680114 ]\n",
      " [-1.8894434  1.6602156]]\n",
      "[[-0.98165023  0.7863057 ]\n",
      " [-1.0621216   0.576598  ]\n",
      " [-0.40579006  0.00527945]\n",
      " [ 1.6130064  -1.931164  ]\n",
      " [-1.093322    0.9049143 ]\n",
      " [ 1.4649365  -1.6756873 ]\n",
      " [-2.0748172   1.695148  ]\n",
      " [-0.8110358   0.5137791 ]]\n",
      "[[-2.1978734   1.5953219 ]\n",
      " [-2.7902822   2.2964313 ]\n",
      " [-1.7248902   1.4327635 ]\n",
      " [-2.935233    2.4754035 ]\n",
      " [-2.962191    2.4430804 ]\n",
      " [-2.6170106   2.1561503 ]\n",
      " [-1.187027    0.80973846]\n",
      " [-2.223236    1.8288033 ]]\n",
      "[[-1.3317497   0.9902775 ]\n",
      " [-2.5893445   2.1715617 ]\n",
      " [ 0.48896846 -0.5501912 ]\n",
      " [-2.8541274   2.346261  ]\n",
      " [-1.322151    0.81832385]\n",
      " [-2.3982415   1.886486  ]\n",
      " [-0.01502975 -0.3213126 ]\n",
      " [-1.4747151   1.0630994 ]]\n",
      "[[-2.9194953   2.3591323 ]\n",
      " [-1.3308206   0.97905105]\n",
      " [-1.4905049   1.0545423 ]\n",
      " [-2.1861334   1.7453874 ]\n",
      " [ 2.317388   -2.4461455 ]\n",
      " [-2.568269    2.1069217 ]\n",
      " [-1.0596297   0.8709592 ]\n",
      " [-0.7182457   0.36914295]]\n",
      "[[-3.005423    2.4716728 ]\n",
      " [-0.5480413   0.30217382]\n",
      " [-2.3448694   1.980506  ]\n",
      " [-2.769971    2.3225026 ]\n",
      " [-2.873924    2.3716362 ]\n",
      " [-2.5728111   2.1002798 ]\n",
      " [-2.3432028   1.8499553 ]\n",
      " [-0.34867397  0.13042271]]\n",
      "[[-1.5941509   1.1132727 ]\n",
      " [-0.4892769   0.0455762 ]\n",
      " [ 2.7409678  -2.7727363 ]\n",
      " [-0.69428176  0.48856956]\n",
      " [-2.5156276   2.0272737 ]\n",
      " [ 1.4849237  -1.7029929 ]\n",
      " [-2.1589437   1.6844683 ]\n",
      " [-2.2490978   1.7067231 ]]\n",
      "[[-1.5377353   1.0645682 ]\n",
      " [ 0.21179177 -0.44632387]\n",
      " [ 1.5932525  -1.966022  ]\n",
      " [ 1.6924789  -1.9618075 ]\n",
      " [-1.5789497   0.9250361 ]\n",
      " [-1.7965766   1.3552189 ]\n",
      " [-1.5409573   1.2251405 ]\n",
      " [-0.3744423   0.03895129]]\n",
      "[[-0.73060274  0.5754028 ]\n",
      " [-0.99663204  0.5210736 ]\n",
      " [ 0.554223   -0.640132  ]\n",
      " [-0.9790009   0.7480902 ]\n",
      " [-2.9334946   2.5026808 ]\n",
      " [-2.798202    2.4477494 ]\n",
      " [-0.70458585  0.21388593]\n",
      " [-2.126237    1.7718952 ]]\n",
      "[[-1.7972453   1.2617965 ]\n",
      " [-0.57462966  0.18159315]\n",
      " [-0.7566705   0.42367828]\n",
      " [-1.942543    1.6953176 ]\n",
      " [-2.4385068   1.9855269 ]\n",
      " [-2.5880034   2.1509078 ]\n",
      " [-2.4961739   2.074109  ]\n",
      " [-0.41760695 -0.05844917]]\n",
      "[[ 0.5669259  -0.5907192 ]\n",
      " [-2.6596003   2.1380544 ]\n",
      " [ 0.12856288 -0.24350812]\n",
      " [-1.9428422   1.3616236 ]\n",
      " [-0.79760325  0.27468577]\n",
      " [-1.79887     1.4148928 ]\n",
      " [-2.3025339   1.8058543 ]\n",
      " [-0.24137819 -0.01467149]]\n",
      "[[ 0.33170488 -0.91997343]\n",
      " [-1.1268439   0.71061176]\n",
      " [-1.3203146   1.0564477 ]\n",
      " [ 0.45553344 -0.42497903]\n",
      " [ 1.712446   -1.723085  ]\n",
      " [-1.6022096   1.2486435 ]\n",
      " [-0.16534907 -0.06804475]\n",
      " [ 0.81955034 -0.9285671 ]]\n",
      "[[ 3.1473937  -3.2560463 ]\n",
      " [ 3.3814685  -3.5659735 ]\n",
      " [-0.60780454  0.28783336]\n",
      " [ 0.80581725 -1.00275   ]\n",
      " [ 1.6026651  -1.8062105 ]\n",
      " [-3.402993    3.2160296 ]\n",
      " [-2.7689      2.4475305 ]\n",
      " [-3.2814524   2.8164644 ]]\n",
      "[[ 2.8004155  -3.1585348 ]\n",
      " [-2.6081362   2.1505563 ]\n",
      " [ 3.1122432  -3.2285888 ]\n",
      " [ 1.4492362  -1.6286838 ]\n",
      " [ 0.08607908 -0.16025518]\n",
      " [-0.23950404  0.06139987]\n",
      " [ 0.09178286 -0.23192754]\n",
      " [ 3.0453796  -3.251605  ]]\n",
      "[[-1.971511    1.6597452 ]\n",
      " [ 1.7619612  -1.8288231 ]\n",
      " [-1.8960938   1.6620469 ]\n",
      " [-2.3137221   2.0281227 ]\n",
      " [-2.5418787   2.1339736 ]\n",
      " [ 2.4397554  -2.577511  ]\n",
      " [ 2.1699665  -2.3378882 ]\n",
      " [-0.15258288  0.0105891 ]]\n",
      "[[ 1.6053219  -1.7968297 ]\n",
      " [ 2.7977028  -2.7789059 ]\n",
      " [ 2.1324725  -2.3045259 ]\n",
      " [-1.0559199   0.61259395]\n",
      " [ 1.3195218  -1.3270476 ]\n",
      " [ 2.2421298  -2.2957864 ]\n",
      " [ 0.4008664  -0.48031098]\n",
      " [ 1.0308696  -1.1063293 ]]\n",
      "[[ 2.077405  -2.0568528]\n",
      " [ 2.709096  -2.859319 ]\n",
      " [-2.6548872  2.1265345]\n",
      " [ 1.8902932 -2.0156531]\n",
      " [ 2.873147  -3.084793 ]\n",
      " [-1.8942813  1.3514903]\n",
      " [-3.4715633  3.1593685]\n",
      " [-3.7526383  3.5506651]]\n",
      "[[ 3.13970709e+00 -3.43574548e+00]\n",
      " [ 3.34662056e+00 -3.42382574e+00]\n",
      " [ 1.16393514e-01 -1.67027578e-01]\n",
      " [-3.25557661e+00  2.98591328e+00]\n",
      " [-6.17513120e-01  4.13450152e-01]\n",
      " [-2.36217976e+00  1.91157269e+00]\n",
      " [ 9.08504613e-03 -2.53491430e-03]\n",
      " [-1.77684903e+00  1.47630405e+00]]\n",
      "[[-2.243342    1.8817    ]\n",
      " [ 0.9126888  -0.97938555]\n",
      " [ 2.576763   -2.831421  ]\n",
      " [ 2.731738   -3.0412598 ]\n",
      " [-2.1826205   1.7660255 ]\n",
      " [ 0.92054194 -1.038954  ]\n",
      " [ 2.86174    -3.0087736 ]\n",
      " [ 1.0310276  -1.2693932 ]]\n",
      "[[ 1.8150233  -2.0188575 ]\n",
      " [-0.56136996  0.16820812]\n",
      " [-3.2002697   3.0331788 ]\n",
      " [-3.5191588   3.0589423 ]\n",
      " [-3.4834614   3.0977435 ]\n",
      " [ 1.3789592  -1.612885  ]\n",
      " [-0.68636155  0.57053727]\n",
      " [-3.7099278   3.3376982 ]]\n",
      "[[-3.303698   3.051751 ]\n",
      " [-1.8839428  1.5890312]\n",
      " [-3.339893   3.0167842]\n",
      " [ 1.5532042 -1.6005642]\n",
      " [ 2.6408777 -2.7933385]\n",
      " [ 2.2975125 -2.3777947]\n",
      " [-3.3050675  2.8917456]\n",
      " [-2.3134499  1.8392427]]\n",
      "[[-1.5706356   1.2126637 ]\n",
      " [-2.6949706   2.1252933 ]\n",
      " [-3.5711486   3.229383  ]\n",
      " [-3.6395183   3.2800956 ]\n",
      " [ 3.0232162  -3.21      ]\n",
      " [-2.120336    1.7137945 ]\n",
      " [ 1.516335   -1.7970105 ]\n",
      " [ 0.82624286 -0.97956926]]\n",
      "[[ 3.119164   -3.3243232 ]\n",
      " [ 1.9683447  -2.2034779 ]\n",
      " [-1.7734244   1.3668936 ]\n",
      " [-3.3465276   2.9167094 ]\n",
      " [-0.28118917  0.06088961]\n",
      " [-3.2886639   2.9114027 ]\n",
      " [-3.4069276   2.9868474 ]\n",
      " [-3.5364337   3.1757355 ]]\n",
      "[[-3.5626366   3.2449737 ]\n",
      " [-3.4506388   3.137192  ]\n",
      " [ 3.0073829  -3.2640276 ]\n",
      " [-1.275989    0.90604526]\n",
      " [-3.4725664   3.0175743 ]\n",
      " [-3.0952253   2.6601238 ]\n",
      " [-3.420617    2.9438539 ]\n",
      " [-3.3151197   3.1145964 ]]\n",
      "[[-2.809896    2.4754503 ]\n",
      " [-3.5567093   3.1025314 ]\n",
      " [-3.0786607   2.696862  ]\n",
      " [-3.5795999   3.3150826 ]\n",
      " [-3.736292    3.3948755 ]\n",
      " [-0.4462517   0.13471481]\n",
      " [ 0.9982288  -1.2686684 ]\n",
      " [ 0.4953454  -0.5579358 ]]\n",
      "[[-3.232987   2.814229 ]\n",
      " [-2.8691     2.8616638]\n",
      " [ 2.180899  -2.2063942]\n",
      " [-0.6460423  0.5067974]\n",
      " [ 2.75162   -2.9876528]\n",
      " [-3.5061378  3.1966684]\n",
      " [ 1.9285114 -2.2603748]\n",
      " [-2.1978111  1.77472  ]]\n",
      "[[ 1.0985892 -1.1633964]\n",
      " [ 1.2375957 -1.2813892]\n",
      " [-2.62317    2.1407862]\n",
      " [-3.3830252  3.0265594]\n",
      " [-3.6478193  3.3408632]\n",
      " [-3.3387907  2.9585032]\n",
      " [-2.8560276  2.4320016]\n",
      " [-3.2252998  2.7719407]]\n",
      "[[ 2.3673239  -2.5996146 ]\n",
      " [-1.9723017   1.5839999 ]\n",
      " [ 0.34229982 -0.50707996]\n",
      " [-2.7706928   2.424789  ]\n",
      " [-1.7171785   1.3654375 ]\n",
      " [ 1.2429786  -1.4422781 ]\n",
      " [-2.4437907   2.0885186 ]\n",
      " [-3.13045     2.6746893 ]]\n"
     ]
    },
    {
     "name": "stdout",
     "output_type": "stream",
     "text": [
      "[[-3.6727977   3.3751264 ]\n",
      " [-3.008013    2.5483913 ]\n",
      " [-2.7144098   2.193995  ]\n",
      " [-3.734805    3.3654404 ]\n",
      " [ 2.976077   -3.2465582 ]\n",
      " [ 0.03351098 -0.0841948 ]\n",
      " [-2.3491771   1.7670085 ]\n",
      " [ 1.437438   -1.6915553 ]]\n",
      "[[-2.1136634   1.6305323 ]\n",
      " [ 0.02821856 -0.07946622]\n",
      " [ 1.1052607  -1.1417979 ]\n",
      " [-3.4965498   3.1772761 ]\n",
      " [ 1.1478446  -1.3244506 ]\n",
      " [-2.6183186   2.2792273 ]\n",
      " [-1.8362495   1.3341684 ]\n",
      " [-1.4695725   1.2870258 ]]\n",
      "[[-1.978976   1.5652394]\n",
      " [ 1.5651784 -1.8758566]\n",
      " [-2.5215225  1.9762611]\n",
      " [-2.4950397  2.0675611]\n",
      " [-2.7273984  2.3972476]\n",
      " [-1.2708967  0.8646224]\n",
      " [-3.4823847  3.062057 ]\n",
      " [ 2.7439299 -2.939228 ]]\n",
      "[[ 1.4784431  -1.6721692 ]\n",
      " [ 0.65115434 -0.82199246]\n",
      " [ 2.36449    -2.5287335 ]\n",
      " [-2.896564    2.3967965 ]\n",
      " [-1.4890599   1.1722393 ]\n",
      " [-3.5441084   3.1732054 ]\n",
      " [ 1.0557786  -1.1657113 ]\n",
      " [ 3.0309153  -3.396084  ]]\n",
      "[[-3.2506227   2.8661473 ]\n",
      " [ 2.3468533  -2.7367363 ]\n",
      " [-0.25846967  0.02233155]\n",
      " [ 2.8042119  -3.0236835 ]\n",
      " [-3.678971    3.349814  ]\n",
      " [ 2.538509   -2.8892379 ]\n",
      " [ 2.5574646  -2.76698   ]\n",
      " [ 2.107095   -2.2610216 ]]\n",
      "[[ 2.5961041 -2.839907 ]\n",
      " [ 1.4906906 -1.8550824]\n",
      " [ 2.2328885 -2.5315871]\n",
      " [ 2.2309313 -2.4747825]\n",
      " [ 3.1220577 -3.3225994]\n",
      " [-1.7397437  1.3454082]\n",
      " [ 1.5846419 -1.6859257]\n",
      " [-3.6838026  3.337572 ]]\n",
      "[[-3.4345143  2.9765704]\n",
      " [-3.3350265  2.9457734]\n",
      " [ 2.0524573 -2.3619888]\n",
      " [-2.0444403  1.5669539]\n",
      " [-3.5383968  3.2755394]\n",
      " [-3.2216916  2.7746296]\n",
      " [ 1.6370707 -1.7261721]\n",
      " [-2.2872891  2.0322342]]\n",
      "[[ 3.3616078  -3.5724707 ]\n",
      " [ 2.8891351  -3.2536056 ]\n",
      " [ 0.4264329  -0.70462805]\n",
      " [-2.717658    2.517899  ]\n",
      " [-3.48274     3.0736027 ]\n",
      " [ 0.91500217 -1.3345273 ]\n",
      " [-3.7727456   3.5181408 ]\n",
      " [-3.0644088   2.571617  ]]\n",
      "[[-3.4283924  2.9834173]\n",
      " [-3.8080902  3.4440856]\n",
      " [-2.7220857  2.287403 ]\n",
      " [-3.6522217  3.374503 ]\n",
      " [ 2.957349  -3.2836523]\n",
      " [ 1.462467  -1.5599018]\n",
      " [-2.306117   1.6885053]\n",
      " [ 2.369133  -2.7081277]]\n",
      "[[-2.640388    2.2514772 ]\n",
      " [ 3.0580263  -3.4061158 ]\n",
      " [ 1.3624597  -1.6805054 ]\n",
      " [ 1.6005492  -1.6811557 ]\n",
      " [ 2.0559397  -2.3426542 ]\n",
      " [ 2.078619   -2.3715124 ]\n",
      " [ 0.66747075 -0.7869526 ]\n",
      " [-1.8588774   1.6173615 ]]\n",
      "[[ 2.5063078  -2.4266279 ]\n",
      " [ 0.0836911  -0.24772339]\n",
      " [-2.5234232   2.162438  ]\n",
      " [-2.1763787   1.7645297 ]\n",
      " [-2.5641503   2.1939628 ]\n",
      " [-1.8951538   1.4700747 ]\n",
      " [-2.2670016   1.852752  ]\n",
      " [-2.773466    2.3330593 ]]\n",
      "[[-2.0708838   1.6220473 ]\n",
      " [-0.36500603  0.17853898]\n",
      " [ 2.8427167  -2.7954295 ]\n",
      " [-2.1948295   1.7263938 ]\n",
      " [-0.25287744  0.07013839]\n",
      " [ 1.1261945  -1.2167828 ]\n",
      " [-1.7377186   1.3616699 ]\n",
      " [-0.8747638   0.50044084]]\n",
      "[[ 0.57538027 -0.66029495]\n",
      " [-2.5225782   2.114719  ]\n",
      " [ 2.1164088  -2.225676  ]\n",
      " [-2.2771049   1.8779402 ]\n",
      " [-2.1935403   1.7507668 ]\n",
      " [ 0.7778247  -0.85375637]\n",
      " [ 1.847758   -1.893039  ]\n",
      " [-0.6958565   0.30356228]]\n",
      "[[-1.8845718   1.4008199 ]\n",
      " [-0.18402639 -0.01592608]\n",
      " [-0.8658626   0.55640537]\n",
      " [ 1.3828819  -1.3680389 ]\n",
      " [ 1.1465535  -1.4207492 ]\n",
      " [-1.3793495   1.0408312 ]\n",
      " [-2.0595152   1.5771909 ]\n",
      " [-2.2774944   1.862696  ]]\n",
      "[[-2.8281062  2.3328924]\n",
      " [-0.5225032  0.2772041]\n",
      " [ 1.5667951 -1.6145579]\n",
      " [ 1.6985863 -1.6527245]\n",
      " [ 1.7485063 -1.787849 ]\n",
      " [-1.8007729  1.3980165]\n",
      " [ 1.1287442 -1.3337643]\n",
      " [-2.10363    1.6358804]]\n",
      "[[-1.3628042   1.0446174 ]\n",
      " [ 2.4603777  -2.3891969 ]\n",
      " [-1.6914908   1.4169346 ]\n",
      " [-1.0312032   0.75420004]\n",
      " [-2.0461621   1.5709288 ]\n",
      " [-1.6288549   1.3375432 ]\n",
      " [ 1.5737591  -1.5944713 ]\n",
      " [-2.1393728   1.7500267 ]]\n",
      "[[ 1.7898676  -1.8249158 ]\n",
      " [ 1.726327   -1.836389  ]\n",
      " [-2.2652082   1.832687  ]\n",
      " [-1.5819548   1.093703  ]\n",
      " [-2.6046488   2.171904  ]\n",
      " [-2.3980253   1.9078572 ]\n",
      " [-2.0326004   1.5726569 ]\n",
      " [-0.6497628   0.25107384]]\n",
      "[[ 0.5206578  -0.75473434]\n",
      " [ 3.3155851  -3.3672352 ]\n",
      " [-2.276785    1.8190106 ]\n",
      " [ 1.8892889  -2.0556724 ]\n",
      " [ 2.655208   -2.7750864 ]\n",
      " [ 2.4622686  -2.3782012 ]\n",
      " [-2.055607    1.7232378 ]\n",
      " [ 1.5175617  -1.3403431 ]]\n",
      "[[ 2.4208283  -2.4197254 ]\n",
      " [-2.6210618   2.1378548 ]\n",
      " [-2.5807784   2.11344   ]\n",
      " [-2.4557257   2.0822463 ]\n",
      " [ 0.24631386 -0.6160961 ]\n",
      " [ 1.0122125  -1.180133  ]\n",
      " [-2.6505272   2.1852174 ]\n",
      " [ 3.1315894  -3.3512347 ]]\n",
      "[[ 2.5998974  -2.7229218 ]\n",
      " [-3.4409149   2.9787326 ]\n",
      " [-3.5007906   3.1074328 ]\n",
      " [-3.1469011   2.6688557 ]\n",
      " [ 0.6663068  -0.81258094]\n",
      " [-2.300043    1.8449948 ]\n",
      " [-0.34520638  0.256991  ]\n",
      " [ 0.6122927  -0.6518046 ]]\n",
      "[[-2.8566914  2.402078 ]\n",
      " [ 2.8474264 -3.1320047]\n",
      " [ 1.575921  -1.6488355]\n",
      " [ 1.8478959 -1.958885 ]\n",
      " [ 1.0283254 -1.2386615]\n",
      " [ 2.7457137 -3.005601 ]\n",
      " [ 1.8577724 -2.1410003]\n",
      " [ 2.7501345 -2.972264 ]]\n",
      "[[-1.7653553   1.2389449 ]\n",
      " [ 2.0266523  -2.0954006 ]\n",
      " [-1.1583844   0.94471717]\n",
      " [-3.2763662   2.8904545 ]\n",
      " [ 2.7035341  -2.951591  ]\n",
      " [-2.82791     2.3572829 ]\n",
      " [-2.6777668   2.2996895 ]\n",
      " [ 1.2778132  -1.5673695 ]]\n",
      "[[-2.0007067  1.6491733]\n",
      " [ 2.2353172 -2.384368 ]\n",
      " [ 3.1152802 -3.3802724]\n",
      " [ 3.1183906 -3.2435675]\n",
      " [-1.6630521  1.2955081]\n",
      " [ 1.6576965 -1.8836341]\n",
      " [-3.5286064  3.1125112]\n",
      " [ 2.518282  -2.68964  ]]\n",
      "[[-0.02049652 -0.11927649]\n",
      " [-3.0839798   2.643529  ]\n",
      " [ 0.08276884 -0.238734  ]\n",
      " [-0.8032033   0.5723985 ]\n",
      " [-2.6944551   2.1642652 ]\n",
      " [-2.681101    2.184594  ]\n",
      " [-2.8918946   2.3296251 ]\n",
      " [ 2.2699955  -2.4043152 ]]\n",
      "[[ 0.59256846 -0.7529772 ]\n",
      " [-2.3744752   1.8827976 ]\n",
      " [-1.1053736   0.78115606]\n",
      " [-1.2508851   1.2906775 ]\n",
      " [ 1.7401102  -2.033875  ]\n",
      " [ 1.9469569  -2.0868652 ]\n",
      " [ 2.9979005  -3.196258  ]\n",
      " [ 1.3985286  -1.5639293 ]]\n",
      "[[ 1.3788154  -1.4879572 ]\n",
      " [ 1.7962239  -1.9258211 ]\n",
      " [-2.3559098   1.9029619 ]\n",
      " [-2.568769    2.0725205 ]\n",
      " [-2.1097076   1.6999267 ]\n",
      " [ 0.37447244 -0.5675915 ]\n",
      " [ 0.52296823 -0.6141152 ]\n",
      " [-0.49332026  0.12759407]]\n",
      "[[ 0.4763849  -0.70493937]\n",
      " [ 0.34038115 -0.53118885]\n",
      " [-1.3780541   0.94394577]\n",
      " [ 2.8523889  -3.0488899 ]\n",
      " [ 2.4311779  -2.6132622 ]\n",
      " [-1.2694232   0.9724993 ]\n",
      " [-0.13757585 -0.05259142]\n",
      " [-2.1611612   1.6907587 ]]\n",
      "[[ 0.52263504 -0.6333756 ]\n",
      " [ 1.8051629  -1.9896216 ]\n",
      " [ 3.0434008  -3.3047557 ]\n",
      " [ 1.5157487  -1.6081779 ]\n",
      " [-0.07574462 -0.19094165]\n",
      " [ 3.041336   -3.2203743 ]\n",
      " [-2.7695553   2.4842646 ]\n",
      " [-1.5979975   1.191386  ]]\n",
      "[[ 0.7302999  -0.8230544 ]\n",
      " [ 1.6439762  -1.823371  ]\n",
      " [ 2.9318266  -3.1860948 ]\n",
      " [ 0.2821136  -0.57263666]\n",
      " [-2.5067873   2.087873  ]\n",
      " [ 2.4799833  -2.8495398 ]\n",
      " [ 2.239225   -2.3524113 ]\n",
      " [-1.095278    0.7460938 ]]\n",
      "[[-1.5460759  1.1470983]\n",
      " [ 1.6411989 -1.7832942]\n",
      " [-2.153028   1.7809932]\n",
      " [ 2.3655844 -2.595368 ]\n",
      " [ 2.674489  -2.8888159]\n",
      " [ 2.541102  -2.7928095]\n",
      " [ 1.588721  -1.8062835]\n",
      " [-2.59118    2.109428 ]]\n",
      "[[ 2.557632  -2.7673855]\n",
      " [ 1.9388493 -2.1674778]\n",
      " [-2.1252077  1.6507063]\n",
      " [-3.621561   3.2147799]\n",
      " [-3.656189   3.2268662]\n",
      " [-3.4889522  3.1216426]\n",
      " [-2.8727353  2.3058798]\n",
      " [-3.7341428  3.2823768]]\n",
      "[[-1.0496533   0.58429843]\n",
      " [-3.4197192   2.9779797 ]\n",
      " [-3.4481897   2.9664974 ]\n",
      " [-2.269386    1.8615979 ]\n",
      " [-2.6152568   2.0454462 ]\n",
      " [ 2.8648808  -3.1884031 ]\n",
      " [ 2.7416635  -3.045148  ]\n",
      " [-2.6429358   2.1009812 ]]\n",
      "[[-1.4766865   0.9980626 ]\n",
      " [-0.9626399   0.5181013 ]\n",
      " [-3.4963925   3.0737777 ]\n",
      " [-2.549365    2.1127913 ]\n",
      " [ 0.554408   -0.6143125 ]\n",
      " [ 0.27757475 -0.5498419 ]\n",
      " [-3.4023702   2.9608185 ]\n",
      " [-2.1490989   1.653415  ]]\n",
      "[[ 0.16912256 -0.22634041]\n",
      " [-1.4864249   0.94391096]\n",
      " [ 1.4188383  -1.4966486 ]\n",
      " [ 0.10249931 -0.30405667]\n",
      " [ 3.0205965  -3.219934  ]\n",
      " [-3.0758367   2.6158547 ]\n",
      " [ 2.7430096  -2.902717  ]\n",
      " [-3.3085055   2.8638618 ]]\n",
      "[[ 2.2500343  -2.3801384 ]\n",
      " [-2.8340673   2.26186   ]\n",
      " [-3.111895    2.7586267 ]\n",
      " [-2.6020136   2.1316266 ]\n",
      " [-2.629158    2.1596017 ]\n",
      " [-3.5328202   3.1586962 ]\n",
      " [ 0.8906662  -0.99174017]\n",
      " [ 1.9194517  -2.0910861 ]]\n",
      "[[ 1.7777292  -1.8824799 ]\n",
      " [ 2.0856287  -2.3081827 ]\n",
      " [ 2.0629196  -2.2994084 ]\n",
      " [ 1.8145587  -2.0457458 ]\n",
      " [ 1.451496   -1.7399392 ]\n",
      " [ 2.6511145  -2.8579857 ]\n",
      " [-0.7917282   0.4831143 ]\n",
      " [ 0.61964583 -0.71178013]]\n",
      "[[-0.30664074  0.15025097]\n",
      " [ 3.0856378  -3.3289394 ]\n",
      " [ 2.5627446  -2.858953  ]\n",
      " [-3.0088763   2.6860385 ]\n",
      " [ 2.5221992  -2.6111271 ]\n",
      " [ 0.48049378 -0.82745415]\n",
      " [ 1.1714402  -1.4261429 ]\n",
      " [-3.1147363   2.6750088 ]]\n",
      "[[-3.4955006   3.1332772 ]\n",
      " [-2.5832944   2.06666   ]\n",
      " [ 0.72748405 -0.9072541 ]\n",
      " [ 1.085666   -1.3795261 ]\n",
      " [-3.3260217   2.859457  ]\n",
      " [ 2.124135   -2.374789  ]\n",
      " [-1.7716272   1.6111952 ]\n",
      " [ 2.5112076  -2.758802  ]]\n",
      "[[-0.9602743   0.61610717]\n",
      " [ 3.1803677  -3.4133935 ]\n",
      " [-3.265466    2.9482737 ]\n",
      " [-3.2884927   2.8127673 ]\n",
      " [-0.40355784  0.300804  ]\n",
      " [ 2.1820753  -2.2299132 ]\n",
      " [-3.2058449   2.7010612 ]\n",
      " [-3.580047    3.2227545 ]]\n"
     ]
    },
    {
     "name": "stdout",
     "output_type": "stream",
     "text": [
      "[[-3.6521459   3.1953769 ]\n",
      " [ 0.8859053  -0.9687415 ]\n",
      " [-0.37053862  0.3346861 ]\n",
      " [-0.60577506  0.4264709 ]\n",
      " [ 2.537708   -2.5986156 ]\n",
      " [ 1.4639186  -1.514252  ]\n",
      " [-1.7308805   1.5126576 ]\n",
      " [-1.2759929   0.99871933]]\n",
      "[[-2.9131784  2.409051 ]\n",
      " [ 1.9404132 -2.1496475]\n",
      " [ 2.0316713 -2.1342635]\n",
      " [-2.8648639  2.4263353]\n",
      " [ 2.4325638 -2.694754 ]\n",
      " [-3.5204124  3.1303878]\n",
      " [ 1.0464636 -1.0464163]\n",
      " [-3.5542927  3.0850005]]\n",
      "[[ 1.5097653 -1.776742 ]\n",
      " [-2.5999603  2.236787 ]\n",
      " [ 1.7034118 -1.9319416]\n",
      " [-1.6449492  1.357893 ]\n",
      " [ 2.9117632 -3.1633854]\n",
      " [ 1.8917416 -2.1086164]\n",
      " [ 2.4261227 -2.704894 ]\n",
      " [-1.6641982  1.2922581]]\n",
      "[[ 2.805138  -3.050229 ]\n",
      " [-3.1523519  2.726867 ]\n",
      " [ 2.3476653 -2.5556202]\n",
      " [ 2.0244863 -2.2681103]\n",
      " [ 2.9131331 -3.2072058]\n",
      " [ 0.8948124 -0.937067 ]\n",
      " [ 3.1607265 -3.4048073]\n",
      " [ 2.8730564 -3.1838465]]\n",
      "[[ 0.9687564  -1.0886737 ]\n",
      " [ 2.563425   -2.687982  ]\n",
      " [-1.9086101   1.7628039 ]\n",
      " [ 1.9808308  -2.0383048 ]\n",
      " [ 0.4709853  -0.61391383]\n",
      " [-0.30691692  0.14379261]\n",
      " [ 0.33409977 -0.41571486]\n",
      " [ 1.4617293  -1.5186704 ]]\n",
      "[[-1.4216557   1.0342281 ]\n",
      " [-2.8986034   2.3861556 ]\n",
      " [ 2.9318614  -3.1246152 ]\n",
      " [-1.4351544   1.0583217 ]\n",
      " [-1.4013101   1.0289243 ]\n",
      " [-1.7214994   1.4105804 ]\n",
      " [ 0.04037891 -0.15014824]\n",
      " [-1.4445473   1.1420658 ]]\n",
      "[[-0.54985446  0.3285598 ]\n",
      " [ 1.3846934  -1.3576019 ]\n",
      " [-1.7223297   1.4153612 ]\n",
      " [-1.4320365   1.0665661 ]\n",
      " [-1.5447153   1.2417884 ]\n",
      " [-2.236361    1.7998652 ]\n",
      " [-1.5642774   1.3695717 ]\n",
      " [ 1.9553251  -1.9391987 ]]\n",
      "[[-2.6379185   2.1623816 ]\n",
      " [-3.0629034   2.6625495 ]\n",
      " [-2.9539807   2.5672035 ]\n",
      " [-0.925763    0.74553007]\n",
      " [-2.0121036   1.5885032 ]\n",
      " [-0.69898915  0.50051767]\n",
      " [-2.4592204   1.894371  ]\n",
      " [-0.1745503  -0.23177862]]\n",
      "[[-1.1877046   0.7277679 ]\n",
      " [-0.6202099   0.03440632]\n",
      " [ 1.1307123  -1.3461944 ]\n",
      " [-2.479613    2.0005057 ]\n",
      " [-2.7893825   2.3457205 ]\n",
      " [-2.2865634   1.7767822 ]\n",
      " [-1.8507972   1.419518  ]\n",
      " [-1.9549307   1.3760464 ]]\n",
      "[[-2.2522633   1.7486618 ]\n",
      " [-1.0712721   0.80374056]\n",
      " [-2.6852057   2.1283593 ]\n",
      " [ 0.12955572 -0.24013282]\n",
      " [ 1.2953997  -1.457825  ]\n",
      " [ 2.0773232  -2.2782545 ]\n",
      " [-1.6975541   1.2908003 ]\n",
      " [ 3.1374936  -3.432858  ]]\n",
      "[[ 3.086594  -3.4579296]\n",
      " [-3.4539936  3.0048256]\n",
      " [-2.6046028  1.9842325]\n",
      " [-3.1401296  2.6606843]\n",
      " [-2.5333295  1.9965158]\n",
      " [-2.7369766  2.1930256]\n",
      " [-2.9568486  2.444973 ]\n",
      " [-2.4459178  1.9048915]]\n",
      "[[ 2.3748925  -2.6959653 ]\n",
      " [-2.828435    2.4024749 ]\n",
      " [-2.1046743   1.5903541 ]\n",
      " [ 1.2547922  -1.4167836 ]\n",
      " [ 0.42453116 -0.5981392 ]\n",
      " [ 1.9879674  -2.0344658 ]\n",
      " [-3.0758197   2.5545955 ]\n",
      " [-2.3946981   1.944208  ]]\n",
      "[[ 0.7728142  -0.7949844 ]\n",
      " [ 1.528162   -1.6757673 ]\n",
      " [ 2.7722664  -3.020183  ]\n",
      " [-0.6791897   0.28835055]\n",
      " [ 2.4417744  -2.552317  ]\n",
      " [-2.784124    2.3750267 ]\n",
      " [-3.5641456   3.2414296 ]\n",
      " [-2.8666806   2.4731758 ]]\n",
      "[[-3.111565   2.5902865]\n",
      " [-3.4776769  3.0458405]\n",
      " [-3.5320117  3.1378207]\n",
      " [ 3.102451  -3.3337827]\n",
      " [-3.1156728  2.4825954]\n",
      " [-1.0991377  0.8776806]\n",
      " [-2.2564576  1.8019795]\n",
      " [-3.5231116  3.088399 ]]\n",
      "[[-3.5898354   3.187571  ]\n",
      " [-3.1918201   2.651831  ]\n",
      " [-1.1395144   1.145062  ]\n",
      " [ 1.0956419  -1.1914163 ]\n",
      " [-3.3107238   2.8004968 ]\n",
      " [ 1.8987832  -2.144105  ]\n",
      " [-0.709591    0.38593617]\n",
      " [ 2.1135879  -2.3578207 ]]\n",
      "[[ 2.687509   -2.965968  ]\n",
      " [-2.2464137   1.6610461 ]\n",
      " [-2.5777302   2.0774097 ]\n",
      " [-1.4790177   1.1867372 ]\n",
      " [-0.6903015   0.30475715]\n",
      " [ 0.6913897  -0.9393762 ]\n",
      " [ 1.6104641  -1.791575  ]\n",
      " [-0.04960609 -0.30530277]]\n",
      "[[ 2.090957   -2.390176  ]\n",
      " [ 1.7098017  -1.976321  ]\n",
      " [ 2.741917   -3.0144868 ]\n",
      " [-0.1443211  -0.11976708]\n",
      " [ 2.9758308  -3.2324188 ]\n",
      " [-2.5547414   2.0470386 ]\n",
      " [-2.752931    2.1737542 ]\n",
      " [-2.0810485   1.7078099 ]]\n",
      "[[-3.408633    2.9043374 ]\n",
      " [ 1.8440584  -1.9785113 ]\n",
      " [-2.8569937   2.5089605 ]\n",
      " [-2.1838014   1.6092291 ]\n",
      " [ 1.9961545  -2.2109098 ]\n",
      " [ 0.26711866 -0.49638373]\n",
      " [-0.23219661 -0.07150797]\n",
      " [ 0.6750625  -0.81504565]]\n",
      "[[-3.1135502   2.7227237 ]\n",
      " [ 0.80869555 -0.9154615 ]\n",
      " [ 1.0007651  -1.1680589 ]\n",
      " [ 2.31997    -2.485509  ]\n",
      " [-3.2928743   2.8444185 ]\n",
      " [-3.4559052   3.11977   ]\n",
      " [-3.4903018   3.0589929 ]\n",
      " [ 0.1995434  -0.3445462 ]]\n",
      "[[ 2.0393019  -2.1927419 ]\n",
      " [ 1.8181055  -2.0051298 ]\n",
      " [ 3.2840571  -3.4828074 ]\n",
      " [-1.3012854   1.0315601 ]\n",
      " [-3.1851325   2.6979523 ]\n",
      " [-3.0238523   2.5255783 ]\n",
      " [ 0.8634533  -1.2297611 ]\n",
      " [-0.6749564   0.45784086]]\n",
      "[[ 1.4046797  -1.5094278 ]\n",
      " [ 0.054737   -0.20553389]\n",
      " [-0.536418    0.17563386]\n",
      " [-0.7494181   0.5847408 ]\n",
      " [-1.4486561   1.1322105 ]\n",
      " [ 1.4297838  -1.5427058 ]\n",
      " [-1.1981865   0.8056019 ]\n",
      " [ 0.6092186  -1.0268097 ]]\n",
      "[[ 0.14733489 -0.38863853]\n",
      " [-2.7547956   2.2506745 ]\n",
      " [-0.6425887   0.18497784]\n",
      " [-1.3331511   1.0700305 ]\n",
      " [ 0.08757114 -0.51428586]\n",
      " [ 0.2923286  -0.5920586 ]\n",
      " [-2.4911468   1.8940786 ]\n",
      " [-0.6522057   0.44312578]]\n",
      "[[-0.1783542  -0.2535497 ]\n",
      " [ 0.8163006  -1.0848279 ]\n",
      " [-0.21685053  0.12739423]\n",
      " [-2.7046347   2.096141  ]\n",
      " [ 0.06213821 -0.10583097]\n",
      " [-1.9606519   1.3892392 ]\n",
      " [-2.129611    1.6600288 ]\n",
      " [-0.01852814 -0.28748202]]\n",
      "[[-1.5515144   1.0435077 ]\n",
      " [ 0.32072973 -0.76593024]\n",
      " [ 0.37296256 -0.6502591 ]\n",
      " [-1.5174497   1.0534989 ]\n",
      " [ 0.7626378  -0.9930845 ]\n",
      " [-2.825208    2.2638006 ]\n",
      " [-1.7685239   1.483479  ]\n",
      " [-2.749324    2.2357352 ]]\n",
      "[[-0.8943427   0.5202947 ]\n",
      " [-0.15099362 -0.20453374]\n",
      " [-0.9152184   0.78554946]\n",
      " [-2.4452138   1.8358741 ]\n",
      " [-1.7329733   1.1829875 ]\n",
      " [-2.5208075   1.9727739 ]\n",
      " [-2.560194    2.1061845 ]\n",
      " [-1.9336762   1.253979  ]]\n",
      "[[ 0.66147286 -0.86920637]\n",
      " [ 2.4015326  -2.3510652 ]\n",
      " [-0.1719249  -0.24803735]\n",
      " [-0.05709038 -0.48765948]\n",
      " [-0.3324723  -0.15850824]\n",
      " [-0.15033989 -0.16291094]\n",
      " [ 2.4862306  -2.7032008 ]\n",
      " [-3.1131003   2.608613  ]]\n",
      "[[-1.3225379   0.7770508 ]\n",
      " [ 0.99937063 -1.2107334 ]\n",
      " [-0.38362756  0.03566856]\n",
      " [-1.1151247   0.695832  ]\n",
      " [-1.6053457   1.206295  ]\n",
      " [-2.401235    1.8922215 ]\n",
      " [-2.1619508   1.715998  ]\n",
      " [-1.7167411   1.3193734 ]]\n",
      "[[-2.1469922   1.6372722 ]\n",
      " [-1.1202383   0.77798086]\n",
      " [-2.0453367   1.5532421 ]\n",
      " [-0.30830914  0.17148659]\n",
      " [-2.548606    2.0186422 ]\n",
      " [ 2.1138349  -2.237019  ]\n",
      " [ 0.7399644  -0.8175447 ]\n",
      " [ 1.0753045  -1.1238674 ]]\n",
      "[[ 2.2534692  -2.328662  ]\n",
      " [ 0.70535773 -0.9773213 ]\n",
      " [-1.4267957   1.3169937 ]\n",
      " [-1.1860526   0.97474205]\n",
      " [-0.23999856 -0.12604374]\n",
      " [-1.3960866   1.1368501 ]\n",
      " [-0.6178153   0.4100421 ]\n",
      " [-0.448741    0.39311925]]\n",
      "[[-1.4466207   1.1718392 ]\n",
      " [ 0.99324715 -1.0488753 ]\n",
      " [-1.2442245   1.0516913 ]\n",
      " [ 1.4055787  -1.4155045 ]\n",
      " [ 0.32643306 -0.47147772]\n",
      " [-1.5479504   1.213139  ]\n",
      " [ 0.56316745 -0.5026694 ]\n",
      " [-0.8865768   0.963661  ]]\n",
      "[[ 2.0794125  -2.0480847 ]\n",
      " [ 1.053834   -1.2276766 ]\n",
      " [-2.213297    1.7022932 ]\n",
      " [ 0.46945024 -0.89004   ]\n",
      " [-0.12021066 -0.06671757]\n",
      " [ 1.8919531  -2.0113025 ]\n",
      " [ 2.992856   -2.993504  ]\n",
      " [ 1.0299262  -1.0972619 ]]\n",
      "[[ 1.6724782  -1.8603697 ]\n",
      " [-2.0596516   1.6816735 ]\n",
      " [ 0.16842924 -0.2306152 ]\n",
      " [ 0.03789682 -0.16502556]\n",
      " [ 1.4364085  -1.5701585 ]\n",
      " [-1.7166265   1.2709851 ]\n",
      " [-1.5170256   0.99016327]\n",
      " [-1.3968383   0.81938404]]\n",
      "[[ 2.1262019  -2.3304322 ]\n",
      " [ 1.8474796  -2.0282104 ]\n",
      " [-0.5089796   0.08660983]\n",
      " [-0.62410384  0.04567258]\n",
      " [-0.79986125  0.5023636 ]\n",
      " [-2.9625502   2.44111   ]\n",
      " [ 1.8002107  -1.7854514 ]\n",
      " [ 1.3200247  -1.613428  ]]\n",
      "[[-2.7605643   2.2110624 ]\n",
      " [-1.2276175   0.661886  ]\n",
      " [ 1.1180036  -1.4841734 ]\n",
      " [-2.81819     2.185333  ]\n",
      " [-1.0095538   0.6897792 ]\n",
      " [-2.3553014   1.7436779 ]\n",
      " [ 0.2860284  -0.76705295]\n",
      " [-3.1830668   2.5778384 ]]\n",
      "[[-0.04302761 -0.1258252 ]\n",
      " [-1.8800793   1.3364882 ]\n",
      " [-2.066515    1.5968277 ]\n",
      " [-1.1338006   0.74776095]\n",
      " [ 0.05874264 -0.08559918]\n",
      " [-2.369082    1.7575365 ]\n",
      " [ 0.47597545 -0.8631603 ]\n",
      " [-0.81733996  0.5083816 ]]\n",
      "[[-2.046874    1.4200115 ]\n",
      " [-1.3027809   0.7211039 ]\n",
      " [-2.042193    1.6137891 ]\n",
      " [-0.89389026  0.38789433]\n",
      " [-2.045284    1.4443713 ]\n",
      " [-1.2256532   0.69397056]\n",
      " [ 1.4398072  -1.6306589 ]\n",
      " [-0.68668056  0.31617647]]\n",
      "[[-0.8154828   0.50788283]\n",
      " [-1.31123     0.89598936]\n",
      " [-2.3816657   1.6419039 ]\n",
      " [-1.246207    0.66053826]\n",
      " [-1.7249146   1.1819732 ]\n",
      " [-0.6927975   0.14820021]\n",
      " [-0.53201014  0.07337205]\n",
      " [ 0.2210915  -0.67503184]]\n",
      "[[-2.8578677e+00  2.2988982e+00]\n",
      " [ 5.9067839e-01 -1.0568221e+00]\n",
      " [-1.0306245e+00  5.6944019e-01]\n",
      " [ 3.4341049e-01 -8.2205147e-01]\n",
      " [-2.0166564e+00  1.5173008e+00]\n",
      " [ 1.1123657e-03 -4.6041268e-01]\n",
      " [-2.3540354e+00  1.7270722e+00]\n",
      " [-2.3264773e+00  1.8811804e+00]]\n",
      "[[-2.2697237   1.5988961 ]\n",
      " [ 1.1130933  -1.4072416 ]\n",
      " [ 1.1476798  -1.4470159 ]\n",
      " [-1.1390762   0.98159546]\n",
      " [ 0.29489374 -0.6922222 ]\n",
      " [-1.7018273   1.1477017 ]\n",
      " [-1.3551629   0.9620132 ]\n",
      " [-1.2291254   0.6736222 ]]\n"
     ]
    },
    {
     "name": "stdout",
     "output_type": "stream",
     "text": [
      "[[-3.0144958   2.6014872 ]\n",
      " [-1.1534065   0.6404877 ]\n",
      " [ 0.59858257 -0.83939254]\n",
      " [ 2.3691907  -2.284113  ]\n",
      " [-1.144493    0.6597936 ]\n",
      " [-2.5277476   2.014059  ]\n",
      " [-2.897297    2.4355981 ]\n",
      " [-2.8941174   2.354506  ]]\n",
      "[[-2.8912463  2.401785 ]\n",
      " [-2.3491588  1.8228292]\n",
      " [ 1.8918369 -1.9569497]\n",
      " [ 1.9809545 -2.053298 ]\n",
      " [ 2.7589495 -2.5925608]\n",
      " [-2.9736185  2.4789488]\n",
      " [-2.4344673  1.9696159]\n",
      " [ 1.9410937 -1.9932349]]\n",
      "[[-1.6885663  1.2823677]\n",
      " [ 2.483538  -2.420455 ]\n",
      " [ 1.080601  -1.1869977]\n",
      " [ 2.4713852 -2.4703174]\n",
      " [ 1.6545883 -1.7138495]\n",
      " [-2.8666337  2.3744183]\n",
      " [-2.1788511  1.5670842]\n",
      " [-1.1445582  0.7855641]]\n",
      "[[ 0.10964014 -0.20662984]\n",
      " [ 1.7338436  -1.782514  ]\n",
      " [-2.5699039   2.1134517 ]\n",
      " [-1.046286    0.76240855]\n",
      " [ 1.2235644  -1.4123101 ]\n",
      " [ 1.1291974  -1.3365971 ]\n",
      " [ 1.4669001  -1.68252   ]\n",
      " [-2.6241922   2.1198115 ]]\n",
      "[[ 1.9106227  -2.0462348 ]\n",
      " [ 1.4288806  -1.5944278 ]\n",
      " [ 0.06825354 -0.26360962]\n",
      " [-0.79878384  0.5055548 ]\n",
      " [ 0.49105775 -0.72613424]\n",
      " [ 0.2948447  -0.38193467]\n",
      " [ 0.38492614 -0.69457525]\n",
      " [-2.4633055   1.9609587 ]]\n",
      "[[-2.355842    1.956939  ]\n",
      " [ 1.707246   -1.7959214 ]\n",
      " [-0.40782169  0.16172443]\n",
      " [-1.2489223   0.98983765]\n",
      " [-2.3397672   1.9284525 ]\n",
      " [-1.2638267   0.9421047 ]\n",
      " [ 1.112469   -1.0686519 ]\n",
      " [ 1.427148   -1.5487628 ]]\n",
      "[[ 2.11649    -2.1557136 ]\n",
      " [ 2.775912   -2.863308  ]\n",
      " [-2.3188918   2.0025783 ]\n",
      " [-2.351672    1.8632169 ]\n",
      " [ 0.10824845 -0.5398551 ]\n",
      " [ 1.1289742  -1.2418705 ]\n",
      " [ 0.51453096 -0.6481182 ]\n",
      " [ 1.73476    -1.8385882 ]]\n",
      "[[-2.1016464   1.7680509 ]\n",
      " [-2.8605561   2.3350792 ]\n",
      " [-0.02992184 -0.28623253]\n",
      " [-2.9602122   2.3988264 ]\n",
      " [ 1.6225581  -1.7628938 ]\n",
      " [-0.22990258 -0.20083413]\n",
      " [-0.625205    0.40913907]\n",
      " [-0.42700073  0.32573625]]\n",
      "[[-2.4704492   1.8687909 ]\n",
      " [-1.4571965   1.1544366 ]\n",
      " [-1.0905155   0.93144447]\n",
      " [-2.8882706   2.3731637 ]\n",
      " [-1.877346    1.4305685 ]\n",
      " [-1.8167285   1.4067225 ]\n",
      " [-2.0993493   1.5024129 ]\n",
      " [ 2.240602   -2.518969  ]]\n",
      "[[-2.788794    2.4987407 ]\n",
      " [-0.3719233   0.14188269]\n",
      " [ 1.2262051  -1.3818617 ]\n",
      " [-0.9480218   0.6617357 ]\n",
      " [ 1.0881641  -1.1752056 ]\n",
      " [ 2.36968    -2.6456337 ]\n",
      " [-1.4887469   1.1800892 ]\n",
      " [-3.2681575   2.8308291 ]]\n",
      "[[ 0.9287444 -1.0053465]\n",
      " [-2.6402292  2.1813607]\n",
      " [-2.8777342  2.564323 ]\n",
      " [-3.3390265  3.034571 ]\n",
      " [-2.379305   1.9325964]\n",
      " [-2.7965782  2.510269 ]\n",
      " [-3.437046   3.0552773]\n",
      " [-1.6200342  1.2708235]]\n",
      "[[ 3.0207968 -3.2983322]\n",
      " [ 2.706478  -2.8837328]\n",
      " [ 2.2577357 -2.4744613]\n",
      " [-3.3248315  2.910737 ]\n",
      " [-1.0143696  0.6834124]\n",
      " [ 1.687417  -1.7616551]\n",
      " [-3.0104554  2.5521336]\n",
      " [-0.6164415  0.5056152]]\n",
      "[[ 3.0113585  -3.2480345 ]\n",
      " [ 3.3215628  -3.4802566 ]\n",
      " [ 2.418385   -2.6687875 ]\n",
      " [ 2.729385   -3.1009579 ]\n",
      " [-3.577858    3.2268941 ]\n",
      " [-0.8298586   0.62247807]\n",
      " [-2.725368    2.2374203 ]\n",
      " [ 2.3304634  -2.6273136 ]]\n",
      "[[ 0.51026326 -0.6609629 ]\n",
      " [-0.07110026 -0.05921053]\n",
      " [-2.2957656   1.8725642 ]\n",
      " [-1.8518586   1.5510288 ]\n",
      " [-2.5179305   1.9139576 ]\n",
      " [-3.5938158   3.3138525 ]\n",
      " [-3.3096943   2.9804966 ]\n",
      " [ 1.9836355  -2.2394242 ]]\n",
      "[[ 3.210508   -3.447385  ]\n",
      " [-3.5974293   3.216844  ]\n",
      " [-3.5974293   3.216844  ]\n",
      " [-3.50261     3.1059384 ]\n",
      " [-1.5593488   1.1880082 ]\n",
      " [-1.9902511   1.5393192 ]\n",
      " [ 0.57804567 -0.66995126]\n",
      " [-3.4135776   2.9579587 ]]\n",
      "[[-3.0890985  2.6163735]\n",
      " [-0.6210614  0.3813101]\n",
      " [ 1.6885734 -2.0608292]\n",
      " [-2.7048028  2.2399015]\n",
      " [-2.8884518  2.4407527]\n",
      " [ 1.7652617 -1.9010715]\n",
      " [ 2.2790947 -2.4051147]\n",
      " [-2.062513   1.5618238]]\n",
      "[[ 0.28799504 -0.40204543]\n",
      " [ 1.084696   -1.1881919 ]\n",
      " [ 2.3287401  -2.5441074 ]\n",
      " [ 1.9795189  -2.1542315 ]\n",
      " [ 1.0714588  -1.1826249 ]\n",
      " [-3.4235327   3.0266817 ]\n",
      " [ 0.5454783  -0.6863029 ]\n",
      " [-1.9522042   1.492413  ]]\n",
      "[[-0.6478382   0.08574544]\n",
      " [ 2.6235728  -2.929781  ]\n",
      " [-2.9791143   2.5478783 ]\n",
      " [-3.156153    2.7118433 ]\n",
      " [-2.8245065   2.5345538 ]\n",
      " [ 0.9129904  -0.8834882 ]\n",
      " [-2.1310368   1.6972815 ]\n",
      " [ 0.09010682 -0.20684308]]\n",
      "[[-2.2996972  1.8607149]\n",
      " [ 2.751577  -2.9984722]\n",
      " [ 1.3145219 -1.3906698]\n",
      " [ 1.9395629 -2.067589 ]\n",
      " [-2.1824982  1.8719833]\n",
      " [ 2.3537853 -2.5970578]\n",
      " [ 1.0848696 -1.2919573]\n",
      " [-2.1088135  1.6785722]]\n",
      "[[ 0.42554408 -0.57275254]\n",
      " [-1.091425    0.65510106]\n",
      " [-3.0276785   2.8127127 ]\n",
      " [ 2.1688638  -2.354529  ]\n",
      " [ 2.270616   -2.4228086 ]\n",
      " [-0.8408883   0.44995183]\n",
      " [-1.1805255   0.7921676 ]\n",
      " [ 2.5739217  -2.7686315 ]]\n",
      "[[ 0.7147116  -0.89571315]\n",
      " [-0.70238525  0.50228703]\n",
      " [-1.1049123   0.78389025]\n",
      " [-3.4869595   3.0828772 ]\n",
      " [ 1.4083099  -1.6163378 ]\n",
      " [ 1.8869596  -2.0020041 ]\n",
      " [ 2.0315728  -2.1683588 ]\n",
      " [ 0.78621566 -0.99910265]]\n",
      "[[ 1.9700338  -2.1022305 ]\n",
      " [ 0.748514   -0.7582295 ]\n",
      " [ 1.3150024  -1.463015  ]\n",
      " [ 2.2754784  -2.4082646 ]\n",
      " [-3.2451212   2.8676682 ]\n",
      " [-2.5085237   2.103116  ]\n",
      " [-1.2767959   0.79002315]\n",
      " [-0.40511537  0.21623793]]\n",
      "[[-1.1293955   0.8707255 ]\n",
      " [-1.2701721   1.0427816 ]\n",
      " [-2.0014532   1.7237517 ]\n",
      " [-0.65427727  0.45817763]\n",
      " [ 2.1786356  -2.2871647 ]\n",
      " [ 0.3381237  -0.40232223]\n",
      " [-0.69169635  0.499239  ]\n",
      " [-0.9531183   0.60225457]]\n",
      "[[-1.0235906   0.75768864]\n",
      " [-1.174866    0.8719256 ]\n",
      " [ 1.3545214  -1.4460318 ]\n",
      " [ 0.19899336 -0.5523997 ]\n",
      " [ 1.7146983  -1.9533112 ]\n",
      " [-3.485929    3.2013664 ]\n",
      " [-0.8055387   0.5208222 ]\n",
      " [-1.1507295   0.80291426]]\n",
      "[[-0.7342054   0.50861603]\n",
      " [ 0.40347254 -0.51973844]\n",
      " [ 1.9773588  -2.0493908 ]\n",
      " [ 0.3681053  -0.42689455]\n",
      " [-0.26050806  0.10718725]\n",
      " [-2.6088662   2.0472963 ]\n",
      " [-0.6598496   0.3955825 ]\n",
      " [-2.5918431   2.1073022 ]]\n",
      "[[ 1.5743116  -1.7175435 ]\n",
      " [-2.0111928   1.5361655 ]\n",
      " [-1.8631063   1.4183837 ]\n",
      " [-0.8785556   0.7663823 ]\n",
      " [-1.9068466   1.5455911 ]\n",
      " [-0.26615304 -0.09839106]\n",
      " [-1.8840086   1.3238662 ]\n",
      " [ 0.4715712  -0.673372  ]]\n",
      "[[ 1.9167695  -2.0173275 ]\n",
      " [ 0.8372738  -0.9373102 ]\n",
      " [ 1.3731107  -1.5225656 ]\n",
      " [ 3.2501752  -3.413762  ]\n",
      " [-2.4806757   2.0641568 ]\n",
      " [-0.13788724 -0.21463874]\n",
      " [ 1.345773   -1.5041063 ]\n",
      " [-2.2933142   1.9038172 ]]\n",
      "[[-2.9339888   2.514805  ]\n",
      " [-1.0089946   0.7655106 ]\n",
      " [ 1.6854365  -1.8350533 ]\n",
      " [-1.7115655   1.2091041 ]\n",
      " [-1.9022381   1.6072092 ]\n",
      " [ 0.882352   -0.9298412 ]\n",
      " [-0.38484114  0.12379298]\n",
      " [ 1.8434696  -2.0676587 ]]\n",
      "[[ 2.1839964  -2.2412126 ]\n",
      " [ 0.2841968  -0.3982278 ]\n",
      " [ 1.2406663  -1.5151417 ]\n",
      " [-0.9742784   0.6294005 ]\n",
      " [ 1.8747766  -2.096788  ]\n",
      " [ 1.5323567  -1.7872121 ]\n",
      " [ 0.6830558  -0.95795226]\n",
      " [ 1.6074705  -1.7767366 ]]\n",
      "[[ 2.524549   -2.7402077 ]\n",
      " [-1.0944021   0.68703306]\n",
      " [ 1.154309   -1.2657682 ]\n",
      " [-2.324824    2.0260842 ]\n",
      " [ 2.537847   -2.8900895 ]\n",
      " [ 1.510129   -1.5990995 ]\n",
      " [-1.7435127   1.384396  ]\n",
      " [ 1.5454971  -1.8638645 ]]\n",
      "[[ 0.28452718 -0.6925889 ]\n",
      " [-2.6673136   2.247561  ]\n",
      " [ 1.6064038  -1.9747902 ]\n",
      " [-2.8370204   2.4038239 ]\n",
      " [-2.3804054   1.8318609 ]\n",
      " [-2.4599361   1.9581218 ]\n",
      " [-2.055502    1.5263076 ]\n",
      " [ 1.4984016  -1.682383  ]]\n",
      "[[-0.20678607  0.07746506]\n",
      " [-1.4709979   0.9768191 ]\n",
      " [-3.074411    2.659079  ]\n",
      " [-0.8555715   0.36061388]\n",
      " [ 1.5981058  -1.7811928 ]\n",
      " [-1.2066014   0.8221831 ]\n",
      " [ 0.22454314 -0.42005217]\n",
      " [ 2.9479928  -3.2732997 ]]\n",
      "[[ 3.0655837  -3.2233276 ]\n",
      " [-1.5632737   1.4281058 ]\n",
      " [ 1.9300959  -2.0511749 ]\n",
      " [ 0.6759066  -0.70577776]\n",
      " [-1.5547097   1.3173165 ]\n",
      " [-1.0661806   0.8110288 ]\n",
      " [ 1.1705852  -1.275345  ]\n",
      " [ 0.50405926 -0.6597528 ]]\n",
      "[[-1.7772031   1.3409481 ]\n",
      " [-0.3628507   0.22995588]\n",
      " [ 1.2717834  -1.4655554 ]\n",
      " [ 2.6969376  -2.9123855 ]\n",
      " [ 1.9053798  -2.0664685 ]\n",
      " [-2.6952324   2.1519904 ]\n",
      " [ 3.2283478  -3.1929162 ]\n",
      " [ 3.066905   -3.2565181 ]]\n",
      "[[ 2.0707316  -2.3589709 ]\n",
      " [ 2.8641706  -2.9420142 ]\n",
      " [-0.05929863 -0.16985399]\n",
      " [ 2.2668035  -2.376945  ]\n",
      " [ 3.154983   -3.3922515 ]\n",
      " [ 3.069787   -3.0717528 ]\n",
      " [-3.716736    3.4378347 ]\n",
      " [ 2.769724   -2.8603191 ]]\n",
      "[[ 1.4877753 -1.6542724]\n",
      " [ 2.0162792 -2.1604266]\n",
      " [ 1.8517244 -2.0154583]\n",
      " [-1.9457717  1.4848726]\n",
      " [-3.1170144  2.6208255]\n",
      " [-2.7543092  2.278673 ]\n",
      " [-1.0746981  1.0544755]\n",
      " [-2.9499855  2.4654999]]\n",
      "[[-3.3690205   3.0510676 ]\n",
      " [ 1.9221733  -2.0125525 ]\n",
      " [ 0.08970132 -0.17004292]\n",
      " [-0.41122848  0.2280972 ]\n",
      " [-0.44586605  0.23363353]\n",
      " [-1.9640408   1.5897044 ]\n",
      " [ 3.4103532  -3.5090444 ]\n",
      " [ 0.8765947  -1.0148472 ]]\n",
      "[[ 2.7807612  -3.0545154 ]\n",
      " [-0.700834    0.33965844]\n",
      " [ 0.330317   -0.5348347 ]\n",
      " [ 2.3543353  -2.5280676 ]\n",
      " [ 2.4881887  -2.6206708 ]\n",
      " [-0.33033514  0.20590489]\n",
      " [ 2.3081305  -2.4666815 ]\n",
      " [-0.8569941   0.73196584]]\n",
      "[[ 1.1421845 -1.2563223]\n",
      " [ 2.595933  -2.765672 ]\n",
      " [ 1.9623585 -2.0707147]\n",
      " [-3.5769846  3.289977 ]\n",
      " [-2.7235694  2.1593769]\n",
      " [ 2.204783  -2.3377159]\n",
      " [-2.8616238  2.3501923]\n",
      " [ 3.3878746 -3.653622 ]]\n",
      "[[ 3.2751648  -3.470971  ]\n",
      " [-0.00956328  0.00765693]\n",
      " [-1.535036    1.1413612 ]\n",
      " [-1.8365633   1.4760993 ]\n",
      " [-3.3128052   2.8330648 ]\n",
      " [-3.1627517   2.5712905 ]\n",
      " [-1.6329312   1.0626155 ]\n",
      " [-2.8370116   2.3352358 ]]\n",
      "[[ 0.51610357 -0.7398727 ]\n",
      " [ 2.3869686  -2.4459772 ]\n",
      " [-3.2539682   2.7498105 ]\n",
      " [ 2.8370965  -2.912548  ]\n",
      " [ 1.2911236  -1.323588  ]\n",
      " [ 0.9223204  -1.0216554 ]\n",
      " [ 2.3778508  -2.3889937 ]\n",
      " [ 2.4671307  -2.433782  ]]\n"
     ]
    },
    {
     "name": "stdout",
     "output_type": "stream",
     "text": [
      "[[-2.794053    2.254346  ]\n",
      " [ 2.228303   -2.2937975 ]\n",
      " [ 2.6370747  -2.5395076 ]\n",
      " [-1.5893207   1.2103354 ]\n",
      " [ 2.5043201  -2.5367813 ]\n",
      " [-0.38307393 -0.08202669]\n",
      " [-2.2488284   1.6373938 ]\n",
      " [ 2.1701517  -2.2240243 ]]\n",
      "[[ 2.6362529 -2.6023736]\n",
      " [ 2.7155797 -2.609128 ]\n",
      " [ 2.8937836 -2.6463504]\n",
      " [-2.3331318  1.8414435]\n",
      " [ 2.8047938 -2.5696125]\n",
      " [ 2.7855237 -2.6283884]\n",
      " [ 1.2700343 -1.45032  ]\n",
      " [ 1.8605478 -1.9116422]]\n",
      "[[ 2.7630358  -2.616259  ]\n",
      " [ 0.8820211  -1.1678579 ]\n",
      " [-2.6668925   2.1424463 ]\n",
      " [ 2.315366   -2.2702758 ]\n",
      " [ 0.65360904 -1.0247266 ]\n",
      " [-2.901956    2.3897843 ]\n",
      " [-2.4127939   1.9415917 ]\n",
      " [ 1.5119832  -1.7080619 ]]\n",
      "[[-2.9630938   2.4558783 ]\n",
      " [-1.9668639   1.565142  ]\n",
      " [-2.6227098   2.1624765 ]\n",
      " [-1.1420932   0.64570636]\n",
      " [-2.4578223   1.8956611 ]\n",
      " [-2.316202    1.7873386 ]\n",
      " [ 1.0294336  -1.2293042 ]\n",
      " [-1.0441421   0.7715073 ]]\n",
      "[[ 2.8931987  -2.7423773 ]\n",
      " [ 0.71139616 -0.93358284]\n",
      " [-2.5961227   2.0652316 ]\n",
      " [-0.86839974  0.4731833 ]\n",
      " [-1.9609817   1.4073756 ]\n",
      " [-0.28354526 -0.18679076]\n",
      " [-3.0564265   2.5145025 ]\n",
      " [ 0.5667564  -0.9241512 ]]\n",
      "[[-2.434106    1.9826097 ]\n",
      " [ 0.35110345 -0.48976207]\n",
      " [-2.6756096   2.2229602 ]\n",
      " [-2.722496    2.1596828 ]\n",
      " [ 2.94931    -2.7664003 ]\n",
      " [-2.5959535   2.0699086 ]\n",
      " [-2.4021373   1.9881006 ]\n",
      " [-2.8274074   2.2927728 ]]\n",
      "[[-2.7541747  2.2636142]\n",
      " [-1.8577611  1.4327357]\n",
      " [-2.7851644  2.2906084]\n",
      " [-2.7168694  2.258306 ]\n",
      " [ 2.843071  -2.7189505]\n",
      " [-2.6013021  2.140299 ]\n",
      " [ 2.705981  -2.6329591]\n",
      " [-0.7644618  0.503892 ]]\n",
      "[[-0.01412621 -0.11955042]\n",
      " [ 1.5912179  -1.7544507 ]\n",
      " [-2.5513048   2.0409513 ]\n",
      " [-0.18923584 -0.22679538]\n",
      " [-2.980401    2.4844472 ]\n",
      " [ 2.3738089  -2.2935116 ]\n",
      " [ 2.697135   -2.6395612 ]\n",
      " [ 2.6749904  -2.6547618 ]]\n",
      "[[-3.71632     3.3643634 ]\n",
      " [ 1.2382293  -1.3905554 ]\n",
      " [ 3.1096964  -3.3436294 ]\n",
      " [-2.1086202   1.6917839 ]\n",
      " [-1.842722    1.45753   ]\n",
      " [ 0.81927    -0.99810517]\n",
      " [ 2.963903   -3.0361128 ]\n",
      " [-2.5652595   2.108933  ]]\n",
      "[[ 2.1937976  -2.3485556 ]\n",
      " [-3.3747964   2.9614975 ]\n",
      " [-2.376496    1.8764102 ]\n",
      " [-0.11355924 -0.05026391]\n",
      " [-2.9178154   2.6637676 ]\n",
      " [-0.6387158   0.54610234]\n",
      " [-3.0777159   2.6743412 ]\n",
      " [ 0.36512065 -0.3530906 ]]\n",
      "[[-1.9606853   1.6818748 ]\n",
      " [ 3.1358156  -3.3675938 ]\n",
      " [ 3.230577   -3.4840622 ]\n",
      " [ 2.4021502  -2.6067164 ]\n",
      " [ 3.1195896  -3.3279266 ]\n",
      " [-3.0059147   2.6069174 ]\n",
      " [ 0.66624296 -0.678749  ]\n",
      " [ 1.4096688  -1.4521314 ]]\n",
      "[[ 1.6518235  -1.7400718 ]\n",
      " [ 2.4670277  -2.7891355 ]\n",
      " [-2.538488    2.1061368 ]\n",
      " [-1.5786783   1.2606359 ]\n",
      " [-3.515838    3.1718974 ]\n",
      " [-3.410174    2.9229026 ]\n",
      " [-0.5165742   0.39807308]\n",
      " [ 1.8742132  -2.030378  ]]\n",
      "[[ 3.067001  -3.3603535]\n",
      " [-3.5000672  3.1181898]\n",
      " [-2.951683   2.582698 ]\n",
      " [-2.8258877  2.3462243]\n",
      " [-3.3991804  2.9507427]\n",
      " [-2.699698   2.4555225]\n",
      " [-2.9963205  2.612542 ]\n",
      " [-1.1892846  0.9123979]]\n",
      "[[-2.400446   1.9591017]\n",
      " [ 3.0923162 -3.369547 ]\n",
      " [-2.8442686  2.4290438]\n",
      " [ 1.9787    -2.1048176]\n",
      " [-3.5381017  3.1524189]\n",
      " [-1.3083665  1.0235722]\n",
      " [ 1.1279256 -1.2836851]\n",
      " [-1.7809751  1.5186268]]\n",
      "[[-2.0599546   1.6345763 ]\n",
      " [-0.29625463  0.16885136]\n",
      " [-1.6694329   1.2843714 ]\n",
      " [-3.0019445   2.6890266 ]\n",
      " [ 0.4057558  -0.53301316]\n",
      " [-1.8879653   1.8359187 ]\n",
      " [-1.9159231   1.5440899 ]\n",
      " [-1.7305976   1.2767503 ]]\n",
      "[[ 0.91714174 -1.0952885 ]\n",
      " [-3.2296004   2.78424   ]\n",
      " [ 2.155671   -2.4051657 ]\n",
      " [-3.1542933   2.6783442 ]\n",
      " [ 2.7405953  -2.9516685 ]\n",
      " [-3.0441873   2.480319  ]\n",
      " [ 2.9784517  -3.1823025 ]\n",
      " [-3.342864    2.8935835 ]]\n",
      "[[-3.0109277   2.8214414 ]\n",
      " [-3.630341    3.3050036 ]\n",
      " [-2.1709998   1.7231637 ]\n",
      " [-3.5024638   3.078929  ]\n",
      " [-1.3578314   1.0409915 ]\n",
      " [-2.1750274   1.728368  ]\n",
      " [-3.420884    2.9102147 ]\n",
      " [ 0.64005023 -0.71335727]]\n",
      "[[-2.4241285   1.8228619 ]\n",
      " [-0.28287363  0.05724094]\n",
      " [ 1.8515344  -1.9854304 ]\n",
      " [-2.391233    1.849164  ]\n",
      " [ 0.3430955  -0.44630778]\n",
      " [ 1.2662864  -1.5728602 ]\n",
      " [-3.2604828   2.7981653 ]\n",
      " [-2.7218041   2.2705474 ]]\n",
      "[[ 0.05913413 -0.2882221 ]\n",
      " [ 0.59193414 -0.7478619 ]\n",
      " [ 1.8229313  -1.9830337 ]\n",
      " [-2.0997944   1.6666901 ]\n",
      " [-0.0249756  -0.0995185 ]\n",
      " [ 0.6016169  -0.69110304]\n",
      " [-2.8497007   2.3420773 ]\n",
      " [ 1.0961196  -1.4218926 ]]\n",
      "[[-1.7461737   1.3287778 ]\n",
      " [-1.5530636   1.2040622 ]\n",
      " [-2.9219408   2.3519735 ]\n",
      " [-3.532674    3.0851786 ]\n",
      " [-1.0259471   0.8054756 ]\n",
      " [-0.81013066  0.5720512 ]\n",
      " [-3.7102227   3.4171453 ]\n",
      " [-2.842626    2.4149816 ]]\n",
      "[[-3.252751   2.8694   ]\n",
      " [-3.550426   3.2720718]\n",
      " [-3.5229707  3.0675635]\n",
      " [-3.0047143  2.569543 ]\n",
      " [-3.1466594  2.7856975]\n",
      " [-3.445057   2.972938 ]\n",
      " [-2.0124917  1.6504794]\n",
      " [ 1.2393534 -1.4652503]]\n",
      "[[-1.1059821   0.90403914]\n",
      " [ 1.2127287  -1.5086714 ]\n",
      " [-1.6980376   1.3250673 ]\n",
      " [-2.6147442   2.1491404 ]\n",
      " [-0.06854635 -0.2868756 ]\n",
      " [-2.7569895   2.2136467 ]\n",
      " [-2.780268    2.2726789 ]\n",
      " [-3.7382154   3.4030085 ]]\n",
      "[[-3.177871    2.7137759 ]\n",
      " [-3.2511392   2.7246544 ]\n",
      " [-1.8031876   1.3398526 ]\n",
      " [-3.2967494   2.8689122 ]\n",
      " [-3.3008056   2.8140006 ]\n",
      " [-2.5149426   1.872608  ]\n",
      " [ 1.363709   -1.5959399 ]\n",
      " [ 0.5392138  -0.89701235]]\n",
      "[[-2.1429262  1.7407086]\n",
      " [ 1.1185524 -1.0666934]\n",
      " [ 2.6687384 -2.644742 ]\n",
      " [-2.5310023  2.092749 ]\n",
      " [-2.4070933  2.0251472]\n",
      " [ 1.1359301 -1.4354005]\n",
      " [-2.2840772  1.8361669]\n",
      " [-2.3661895  1.8760862]]\n",
      "[[-1.2123785   0.94972867]\n",
      " [-1.5166018   1.2309136 ]\n",
      " [-2.6315103   2.1164136 ]\n",
      " [-0.68020684  0.17191488]\n",
      " [ 2.0953     -2.2382271 ]\n",
      " [-2.2579002   1.8077354 ]\n",
      " [ 1.1900642  -1.4351573 ]\n",
      " [-1.3193007   0.8885128 ]]\n",
      "[[-2.336791    1.9014198 ]\n",
      " [-2.1605706   1.8467135 ]\n",
      " [-1.1511225   0.82867485]\n",
      " [-1.5998724   1.2652849 ]\n",
      " [-1.9501822   1.4490676 ]\n",
      " [-0.21297207 -0.09554106]\n",
      " [ 2.1113796  -2.2483582 ]\n",
      " [-0.6224465   0.17114636]]\n",
      "[[-0.2915749   0.12230018]\n",
      " [ 1.4930949  -1.6771364 ]\n",
      " [-0.52275634  0.24530017]\n",
      " [-2.8425074   2.3393736 ]\n",
      " [-0.2410335   0.09325384]\n",
      " [-1.5855701   1.0685236 ]\n",
      " [-1.319839    1.0437953 ]\n",
      " [-0.8776657   0.9688852 ]]\n",
      "[[-0.9779339   0.46799928]\n",
      " [ 1.198972   -1.5812175 ]\n",
      " [ 0.94370526 -0.9944222 ]\n",
      " [ 1.14626    -1.3287554 ]\n",
      " [-0.5786626   0.4140522 ]\n",
      " [ 0.92668205 -1.0684233 ]\n",
      " [-0.28693914 -0.10955356]\n",
      " [ 2.4310374  -2.5239265 ]]\n",
      "[[ 1.0423415  -1.3655124 ]\n",
      " [-0.45733458  0.08759628]\n",
      " [-0.41034985  0.29444265]\n",
      " [-1.1825163   0.86794335]\n",
      " [ 0.4200777  -0.54825896]\n",
      " [ 0.5947573  -0.76074517]\n",
      " [ 2.8204184  -2.7922235 ]\n",
      " [ 1.0700401  -1.3059881 ]]\n",
      "[[ 2.1880724  -2.2721379 ]\n",
      " [ 0.4234872  -0.8994993 ]\n",
      " [ 2.4095516  -2.410715  ]\n",
      " [ 1.7780849  -2.0865953 ]\n",
      " [ 0.34692264 -0.43044695]\n",
      " [-1.5401947   1.1354227 ]\n",
      " [-1.2946689   0.8265313 ]\n",
      " [ 0.86713916 -0.97744906]]\n",
      "[[-1.3483703   0.84680086]\n",
      " [-2.2773213   1.8462527 ]\n",
      " [-1.306571    0.7437919 ]\n",
      " [-0.01590691 -0.02446577]\n",
      " [-2.3628485   1.8946686 ]\n",
      " [ 1.9194186  -2.0827267 ]\n",
      " [-0.9869228   0.7456903 ]\n",
      " [-1.065448    0.5322656 ]]\n",
      "[[ 2.0549474  -2.1910024 ]\n",
      " [ 0.38456538 -0.77759534]\n",
      " [ 1.9279971  -2.1142704 ]\n",
      " [-1.9263142   1.4222713 ]\n",
      " [ 1.7392349  -1.8740047 ]\n",
      " [-0.06944772 -0.05885268]\n",
      " [-1.0866385   0.5677871 ]\n",
      " [ 1.7956446  -1.7780299 ]]\n",
      "[[ 2.5120883  -2.7782671 ]\n",
      " [-2.7025104   2.279673  ]\n",
      " [-0.7853796   0.48183143]\n",
      " [-2.5704536   2.0519547 ]\n",
      " [ 3.1096697  -3.3171644 ]\n",
      " [ 3.170363   -3.4072387 ]\n",
      " [ 0.0177709  -0.1984899 ]\n",
      " [-3.0479836   2.520366  ]]\n",
      "[[ 1.6413136 -1.8521626]\n",
      " [ 2.6289914 -2.8306966]\n",
      " [ 0.188068  -0.4845911]\n",
      " [-3.3257446  2.84407  ]\n",
      " [ 1.8760642 -1.98671  ]\n",
      " [ 1.5302224 -1.8365009]\n",
      " [ 2.7630937 -3.0297265]\n",
      " [ 1.7250549 -1.8483522]]\n",
      "[[ 2.3307972  -2.5326338 ]\n",
      " [-2.357011    1.8985603 ]\n",
      " [ 1.3911757  -1.4595664 ]\n",
      " [ 2.5211341  -2.7939076 ]\n",
      " [ 2.242188   -2.3477278 ]\n",
      " [ 2.1666641  -2.3731236 ]\n",
      " [ 0.05891782 -0.25584835]\n",
      " [ 1.8299116  -1.9458466 ]]\n",
      "[[ 1.741576  -1.9363081]\n",
      " [-2.3691611  1.8795501]\n",
      " [ 2.7114315 -2.9099896]\n",
      " [ 1.5497015 -1.647403 ]\n",
      " [ 2.8853135 -2.9767222]\n",
      " [-2.962151   2.5138764]\n",
      " [ 2.8993115 -3.071034 ]\n",
      " [-1.4159881  0.8930633]]\n",
      "[[ 2.1176887 -2.4576492]\n",
      " [-2.8918915  2.325745 ]\n",
      " [ 1.9801533 -2.2942562]\n",
      " [-1.3645594  1.0079684]\n",
      " [-2.188165   1.6335416]\n",
      " [ 2.8197265 -3.1243033]\n",
      " [ 2.787648  -3.0377545]\n",
      " [ 2.048807  -2.1959136]]\n",
      "[[-0.6812285   0.29928946]\n",
      " [-1.3387032   0.8518418 ]\n",
      " [-2.7090456   2.2383533 ]\n",
      " [-3.0414824   2.5960712 ]\n",
      " [ 3.2411737  -3.5233493 ]\n",
      " [ 2.4698734  -2.6936753 ]\n",
      " [ 2.3086922  -2.4996634 ]\n",
      " [ 3.0016108  -3.2593818 ]]\n",
      "[[-3.6636968   3.320643  ]\n",
      " [ 2.728651   -2.9957602 ]\n",
      " [ 3.218366   -3.4272158 ]\n",
      " [-2.893998    2.417707  ]\n",
      " [-3.3417013   3.0392013 ]\n",
      " [ 2.8786662  -3.1171293 ]\n",
      " [-1.3406088   1.1275256 ]\n",
      " [-0.5048927   0.17419258]]\n"
     ]
    },
    {
     "name": "stdout",
     "output_type": "stream",
     "text": [
      "[[-2.115293   1.7066073]\n",
      " [ 2.895578  -3.09723  ]\n",
      " [-1.5194936  1.1034063]\n",
      " [ 2.508599  -2.6050148]\n",
      " [-1.5523536  1.3552691]\n",
      " [ 1.1328039 -1.178375 ]\n",
      " [-1.7295115  1.5070066]\n",
      " [-2.2797978  1.8597124]]\n",
      "[[ 2.7481163 -2.9320707]\n",
      " [ 1.0463929 -1.1084664]\n",
      " [ 3.107009  -3.2314882]\n",
      " [-2.8840034  2.5227363]\n",
      " [ 0.9212108 -1.0009491]\n",
      " [-2.5239363  2.186771 ]\n",
      " [-2.2839913  1.9474859]\n",
      " [ 3.0294926 -3.2270658]]\n",
      "[[ 2.4636915  -2.7291803 ]\n",
      " [ 1.0609486  -1.1487142 ]\n",
      " [ 1.7249284  -1.8478599 ]\n",
      " [ 0.94607717 -0.9888816 ]\n",
      " [ 1.622206   -1.7625326 ]\n",
      " [-1.7109392   1.4088782 ]\n",
      " [ 1.6306235  -1.6671729 ]\n",
      " [ 1.8505027  -1.9349663 ]]\n",
      "[[ 0.3195206  -0.6311251 ]\n",
      " [ 2.586194   -2.679429  ]\n",
      " [ 1.6273661  -1.8360634 ]\n",
      " [-0.5885386   0.52403694]\n",
      " [-1.6833096   1.593674  ]\n",
      " [ 1.7325991  -1.8568959 ]\n",
      " [ 0.76444924 -0.88536537]\n",
      " [-0.01055528 -0.18859668]]\n",
      "[[-0.08280133  0.01133446]\n",
      " [-3.1858072   2.9204574 ]\n",
      " [-3.1401076   2.8457572 ]\n",
      " [-0.40811762  0.32997748]\n",
      " [ 2.6799014  -2.8597736 ]\n",
      " [-2.6520271   2.296145  ]\n",
      " [-2.7295308   2.477779  ]\n",
      " [-1.8852078   1.5951798 ]]\n",
      "[[ 2.6317296  -2.8406978 ]\n",
      " [ 2.6078987  -2.7119389 ]\n",
      " [ 1.0583968  -1.222719  ]\n",
      " [-2.4601688   2.106571  ]\n",
      " [ 1.7184585  -1.9547237 ]\n",
      " [ 0.4553375  -0.76672816]\n",
      " [ 1.508057   -1.5217577 ]\n",
      " [-0.27958524  0.26539862]]\n",
      "[[ 0.62493616 -0.6535328 ]\n",
      " [ 2.0991583  -2.123177  ]\n",
      " [ 0.77764755 -0.81818765]\n",
      " [ 1.4679112  -1.5252745 ]\n",
      " [-1.9462208   1.5627865 ]\n",
      " [ 0.3893934  -0.56582373]\n",
      " [ 2.9410467  -3.1119328 ]\n",
      " [ 2.6751628  -2.8905797 ]]\n",
      "[[ 2.2108805  -2.4179137 ]\n",
      " [ 1.044961   -1.1071649 ]\n",
      " [-0.27584743  0.17892091]\n",
      " [-2.6924746   2.3029606 ]\n",
      " [-1.6309359   1.3726357 ]\n",
      " [-2.2135227   1.8345368 ]\n",
      " [ 2.4673915  -2.6637583 ]\n",
      " [ 1.2868483  -1.4430087 ]]\n",
      "[[-0.7476795   0.5409306 ]\n",
      " [-0.11287651 -0.10439625]\n",
      " [ 2.6229706  -2.8865657 ]\n",
      " [ 2.7651794  -2.9046264 ]\n",
      " [-2.02544     1.6290257 ]\n",
      " [-0.2517239   0.23727596]\n",
      " [ 2.1798046  -2.2640505 ]\n",
      " [ 2.6517487  -2.8305817 ]]\n",
      "[[ 1.4492083 -1.4736497]\n",
      " [ 1.3698001 -1.4622823]\n",
      " [ 2.300275  -2.4713368]\n",
      " [ 0.5309445 -0.619614 ]\n",
      " [ 2.922646  -3.0780244]\n",
      " [ 2.6240807 -2.8037024]\n",
      " [-2.5427837  2.0922012]\n",
      " [-2.0732422  1.7241123]]\n",
      "[[ 2.790574   -2.9704366 ]\n",
      " [-0.02158007 -0.16649237]\n",
      " [-0.46162614  0.21003896]\n",
      " [-2.8136845   2.2754679 ]\n",
      " [ 3.1357222  -3.3209631 ]\n",
      " [-1.603365    1.1782385 ]\n",
      " [ 1.8785648  -1.9628174 ]\n",
      " [ 3.064922   -3.3262482 ]]\n",
      "[[ 2.950911  -3.2124057]\n",
      " [ 1.139317  -1.2039523]\n",
      " [-2.90196    2.5098205]\n",
      " [ 2.601469  -2.8421183]\n",
      " [ 3.1205344 -3.4158034]\n",
      " [-2.0597224  1.6292293]\n",
      " [ 2.9277563 -3.1621168]\n",
      " [-3.0676854  2.6279387]]\n",
      "[[ 1.0931015  -1.2205856 ]\n",
      " [ 3.0481353  -3.277101  ]\n",
      " [-3.4148688   2.9543338 ]\n",
      " [-2.7012997   2.1951716 ]\n",
      " [ 1.7405562  -1.8599869 ]\n",
      " [-0.6203373   0.27784723]\n",
      " [ 0.36108625 -0.55053824]\n",
      " [-2.4605832   1.9944199 ]]\n",
      "[[ 2.168815  -2.2391844]\n",
      " [ 1.6517789 -1.8052359]\n",
      " [-1.6061447  1.2683785]\n",
      " [ 3.2511427 -3.3542876]\n",
      " [-2.1363027  1.7409339]\n",
      " [-2.4500308  1.8970895]\n",
      " [ 2.4439805 -2.6690044]\n",
      " [ 2.3213105 -2.463705 ]]\n",
      "[[ 2.5041962 -2.6734545]\n",
      " [-3.1015067  2.6285121]\n",
      " [ 2.3476415 -2.4422855]\n",
      " [ 1.6931633 -1.7586998]\n",
      " [ 1.3261355 -1.4261539]\n",
      " [-2.3189507  1.8319126]\n",
      " [-3.3776307  2.8740158]\n",
      " [ 2.5765224 -2.8850002]]\n",
      "[[ 1.256633   -1.3897266 ]\n",
      " [ 0.9121129  -1.0816561 ]\n",
      " [-0.20054443 -0.10070655]\n",
      " [ 0.7987705  -0.8728672 ]\n",
      " [-3.2597103   2.7954555 ]\n",
      " [-3.0499675   2.5898056 ]\n",
      " [ 1.69659    -1.8098829 ]\n",
      " [ 2.9457297  -3.0334005 ]]\n",
      "[[ 0.11603788 -0.21784878]\n",
      " [ 2.744001   -2.9195447 ]\n",
      " [ 0.78595954 -0.930104  ]\n",
      " [ 2.2887635  -2.5311627 ]\n",
      " [ 2.4822135  -2.5866218 ]\n",
      " [ 3.0114007  -3.200157  ]\n",
      " [ 3.0936246  -3.2297606 ]\n",
      " [ 2.067619   -2.2065978 ]]\n",
      "[[-0.36897507  0.20334014]\n",
      " [ 2.0697985  -2.3171778 ]\n",
      " [ 0.33622053 -0.528089  ]\n",
      " [-2.1015074   1.6893687 ]\n",
      " [ 2.2137375  -2.4424772 ]\n",
      " [ 2.7967544  -2.9317956 ]\n",
      " [-2.0286746   1.636581  ]\n",
      " [-3.049559    2.6522503 ]]\n",
      "[[ 1.3816297  -1.4727733 ]\n",
      " [-3.4363189   3.074868  ]\n",
      " [ 0.8847951  -0.9843265 ]\n",
      " [ 2.6020656  -2.6463847 ]\n",
      " [-1.0677544   0.75941676]\n",
      " [ 1.5500879  -1.6152304 ]\n",
      " [-1.7336535   1.3626577 ]\n",
      " [ 1.2325919  -1.3751085 ]]\n",
      "[[-2.4424949   1.9522469 ]\n",
      " [-2.3349743   1.8568456 ]\n",
      " [-0.6461199   0.35336035]\n",
      " [ 1.8448706  -1.8999908 ]\n",
      " [-0.22280115 -0.04051078]\n",
      " [-2.158396    1.6135353 ]\n",
      " [ 1.5692527  -1.8636849 ]\n",
      " [-3.3173175   2.791054  ]]\n",
      "[[ 1.0175835 -1.1345165]\n",
      " [-2.709473   2.3372226]\n",
      " [-2.1849751  1.7275851]\n",
      " [ 2.3852465 -2.5421147]\n",
      " [-2.8906991  2.353826 ]\n",
      " [-3.088617   2.6362526]\n",
      " [-2.713506   2.2338862]\n",
      " [-1.0682964  0.8731945]]\n"
     ]
    },
    {
     "name": "stderr",
     "output_type": "stream",
     "text": [
      "06/23/2020 19:18:25 - INFO - run_classifier -   ***** Eval results *****\n",
      "06/23/2020 19:18:25 - INFO - run_classifier -     eval_loss = 1.049898855909705\n",
      "06/23/2020 19:18:25 - INFO - run_classifier -     eval_macro_f1 = 0.7015565327013262\n",
      "06/23/2020 19:18:25 - INFO - run_classifier -     eval_macro_p = 0.6751785714285713\n",
      "06/23/2020 19:18:25 - INFO - run_classifier -     eval_macro_r = 0.7300793650793651\n",
      "06/23/2020 19:18:25 - INFO - run_classifier -     eval_micro_f1 = 0.7103578154425612\n",
      "06/23/2020 19:18:25 - INFO - run_classifier -     eval_micro_p = 0.7090225563909774\n",
      "06/23/2020 19:18:25 - INFO - run_classifier -     eval_micro_r = 0.7116981132075472\n"
     ]
    },
    {
     "name": "stdout",
     "output_type": "stream",
     "text": [
      "[[-1.9387293  1.4911381]\n",
      " [ 1.3352097 -1.4424179]]\n"
     ]
    }
   ],
   "source": [
    "if __name__ == \"__main__\":\n",
    "#     experiments()\n",
    "    evaluation_with_pretrained()"
   ]
  },
  {
   "cell_type": "code",
   "execution_count": null,
   "metadata": {},
   "outputs": [],
   "source": []
  }
 ],
 "metadata": {
  "kernelspec": {
   "display_name": "TensorFlow-GPU",
   "language": "python",
   "name": "tf-gpu"
  },
  "language_info": {
   "codemirror_mode": {
    "name": "ipython",
    "version": 3
   },
   "file_extension": ".py",
   "mimetype": "text/x-python",
   "name": "python",
   "nbconvert_exporter": "python",
   "pygments_lexer": "ipython3",
   "version": "3.7.6"
  }
 },
 "nbformat": 4,
 "nbformat_minor": 2
}
