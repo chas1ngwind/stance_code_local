{
 "cells": [
  {
   "cell_type": "code",
   "execution_count": 1,
   "metadata": {},
   "outputs": [],
   "source": [
    "import torch\n",
    "import random\n",
    "import numpy as np\n",
    "import os\n",
    "from tqdm import tqdm, trange\n",
    "# torch.cuda.empty_cache()\n",
    "from torch.utils.data import TensorDataset, DataLoader, RandomSampler, SequentialSampler\n",
    "from pytorch_pretrained_bert.optimization import BertAdam"
   ]
  },
  {
   "cell_type": "code",
   "execution_count": 2,
   "metadata": {},
   "outputs": [],
   "source": [
    "from run_classifier import ColaProcessor, MrpcProcessor, logger, convert_examples_to_features,\\\n",
    "    set_optimizer_params_grad, copy_optimizer_params_to_model, accuracy, p_r_f1, tp_pcount_gcount"
   ]
  },
  {
   "cell_type": "code",
   "execution_count": 3,
   "metadata": {},
   "outputs": [
    {
     "name": "stdout",
     "output_type": "stream",
     "text": [
      "There are 1 GPU(s) available.\n",
      "We will use the GPU: GeForce GTX 1050 Ti\n"
     ]
    }
   ],
   "source": [
    "if torch.cuda.is_available():    \n",
    "\n",
    "    # Tell PyTorch to use the GPU.    \n",
    "    device = torch.device(\"cuda\")\n",
    "    n_gpu = torch.cuda.device_count()\n",
    "    \n",
    "    print('There are %d GPU(s) available.' % n_gpu)\n",
    "\n",
    "    print('We will use the GPU:', torch.cuda.get_device_name(0))\n",
    "\n",
    "# If not...\n",
    "else:\n",
    "    print('No GPU available, using the CPU instead.')\n",
    "    device = torch.device(\"cpu\")"
   ]
  },
  {
   "cell_type": "code",
   "execution_count": 4,
   "metadata": {},
   "outputs": [
    {
     "name": "stderr",
     "output_type": "stream",
     "text": [
      "05/22/2020 15:44:32 - INFO - transformers.file_utils -   PyTorch version 1.4.0 available.\n",
      "05/22/2020 15:44:35 - INFO - transformers.file_utils -   TensorFlow version 2.1.0 available.\n"
     ]
    }
   ],
   "source": [
    "from transformers import BertTokenizer, BertModel, AdamW, get_linear_schedule_with_warmup\n",
    "from pytorch_pretrained_bert.modeling import BertForSequenceClassification\n"
   ]
  },
  {
   "cell_type": "code",
   "execution_count": 5,
   "metadata": {},
   "outputs": [],
   "source": [
    "# import logging\n",
    "# logging.basicConfig(level=logging.INFO)"
   ]
  },
  {
   "cell_type": "code",
   "execution_count": 6,
   "metadata": {},
   "outputs": [],
   "source": [
    "# def train_and_test(data_dir, bert_model=\"bert-base-uncased\", task_name=None,\n",
    "#                    output_dir=None, max_seq_length=128, do_train=False, do_eval=False, do_lower_case=False,\n",
    "#                    train_batch_size=32, eval_batch_size=8, learning_rate=5e-5, num_train_epochs=3,\n",
    "#                    warmup_proportion=0.1,no_cuda=False, local_rank=-1, seed=42, gradient_accumulation_steps=1,\n",
    "#                    optimize_on_cpu=False, fp16=False, loss_scale=128, saved_model=\"\"):"
   ]
  },
  {
   "cell_type": "code",
   "execution_count": 7,
   "metadata": {},
   "outputs": [
    {
     "name": "stderr",
     "output_type": "stream",
     "text": [
      "05/22/2020 15:44:36 - INFO - transformers.tokenization_utils -   loading file https://s3.amazonaws.com/models.huggingface.co/bert/bert-base-uncased-vocab.txt from cache at C:\\Users\\arsen\\.cache\\torch\\transformers\\26bc1ad6c0ac742e9b52263248f6d0f00068293b33709fae12320c0e35ccfbbb.542ce4285a40d23a559526243235df47c5f75c197f04f37d1a0c124c32c9a084\n"
     ]
    }
   ],
   "source": [
    "tokenizer = BertTokenizer.from_pretrained('bert-base-uncased')"
   ]
  },
  {
   "cell_type": "code",
   "execution_count": 8,
   "metadata": {},
   "outputs": [
    {
     "name": "stderr",
     "output_type": "stream",
     "text": [
      "05/21/2020 12:42:52 - INFO - pytorch_pretrained_bert.modeling -   loading archive file https://s3.amazonaws.com/models.huggingface.co/bert/bert-base-uncased.tar.gz from cache at C:\\Users\\arsen\\.pytorch_pretrained_bert\\9c41111e2de84547a463fd39217199738d1e3deb72d4fec4399e6e241983c6f0.ae3cef932725ca7a30cdcb93fc6e09150a55e2a130ec7af63975a16c153ae2ba\n",
      "05/21/2020 12:42:52 - INFO - pytorch_pretrained_bert.modeling -   extracting archive file C:\\Users\\arsen\\.pytorch_pretrained_bert\\9c41111e2de84547a463fd39217199738d1e3deb72d4fec4399e6e241983c6f0.ae3cef932725ca7a30cdcb93fc6e09150a55e2a130ec7af63975a16c153ae2ba to temp dir C:\\Users\\arsen\\AppData\\Local\\Temp\\tmpd0kymw7h\n",
      "05/21/2020 12:42:57 - INFO - pytorch_pretrained_bert.modeling -   Model config {\n",
      "  \"attention_probs_dropout_prob\": 0.1,\n",
      "  \"hidden_act\": \"gelu\",\n",
      "  \"hidden_dropout_prob\": 0.1,\n",
      "  \"hidden_size\": 768,\n",
      "  \"initializer_range\": 0.02,\n",
      "  \"intermediate_size\": 3072,\n",
      "  \"max_position_embeddings\": 512,\n",
      "  \"num_attention_heads\": 12,\n",
      "  \"num_hidden_layers\": 12,\n",
      "  \"type_vocab_size\": 2,\n",
      "  \"vocab_size\": 30522\n",
      "}\n",
      "\n",
      "05/21/2020 12:42:59 - INFO - pytorch_pretrained_bert.modeling -   Weights of BertForSequenceClassification not initialized from pretrained model: ['classifier.weight', 'classifier.bias']\n",
      "05/21/2020 12:42:59 - INFO - pytorch_pretrained_bert.modeling -   Weights from pretrained model not used in BertForSequenceClassification: ['cls.predictions.bias', 'cls.predictions.transform.dense.weight', 'cls.predictions.transform.dense.bias', 'cls.predictions.decoder.weight', 'cls.seq_relationship.weight', 'cls.seq_relationship.bias', 'cls.predictions.transform.LayerNorm.weight', 'cls.predictions.transform.LayerNorm.bias']\n"
     ]
    },
    {
     "data": {
      "text/plain": [
       "BertForSequenceClassification(\n",
       "  (bert): BertModel(\n",
       "    (embeddings): BertEmbeddings(\n",
       "      (word_embeddings): Embedding(30522, 768, padding_idx=0)\n",
       "      (position_embeddings): Embedding(512, 768)\n",
       "      (token_type_embeddings): Embedding(2, 768)\n",
       "      (LayerNorm): BertLayerNorm()\n",
       "      (dropout): Dropout(p=0.1, inplace=False)\n",
       "    )\n",
       "    (encoder): BertEncoder(\n",
       "      (layer): ModuleList(\n",
       "        (0): BertLayer(\n",
       "          (attention): BertAttention(\n",
       "            (self): BertSelfAttention(\n",
       "              (query): Linear(in_features=768, out_features=768, bias=True)\n",
       "              (key): Linear(in_features=768, out_features=768, bias=True)\n",
       "              (value): Linear(in_features=768, out_features=768, bias=True)\n",
       "              (dropout): Dropout(p=0.1, inplace=False)\n",
       "            )\n",
       "            (output): BertSelfOutput(\n",
       "              (dense): Linear(in_features=768, out_features=768, bias=True)\n",
       "              (LayerNorm): BertLayerNorm()\n",
       "              (dropout): Dropout(p=0.1, inplace=False)\n",
       "            )\n",
       "          )\n",
       "          (intermediate): BertIntermediate(\n",
       "            (dense): Linear(in_features=768, out_features=3072, bias=True)\n",
       "          )\n",
       "          (output): BertOutput(\n",
       "            (dense): Linear(in_features=3072, out_features=768, bias=True)\n",
       "            (LayerNorm): BertLayerNorm()\n",
       "            (dropout): Dropout(p=0.1, inplace=False)\n",
       "          )\n",
       "        )\n",
       "        (1): BertLayer(\n",
       "          (attention): BertAttention(\n",
       "            (self): BertSelfAttention(\n",
       "              (query): Linear(in_features=768, out_features=768, bias=True)\n",
       "              (key): Linear(in_features=768, out_features=768, bias=True)\n",
       "              (value): Linear(in_features=768, out_features=768, bias=True)\n",
       "              (dropout): Dropout(p=0.1, inplace=False)\n",
       "            )\n",
       "            (output): BertSelfOutput(\n",
       "              (dense): Linear(in_features=768, out_features=768, bias=True)\n",
       "              (LayerNorm): BertLayerNorm()\n",
       "              (dropout): Dropout(p=0.1, inplace=False)\n",
       "            )\n",
       "          )\n",
       "          (intermediate): BertIntermediate(\n",
       "            (dense): Linear(in_features=768, out_features=3072, bias=True)\n",
       "          )\n",
       "          (output): BertOutput(\n",
       "            (dense): Linear(in_features=3072, out_features=768, bias=True)\n",
       "            (LayerNorm): BertLayerNorm()\n",
       "            (dropout): Dropout(p=0.1, inplace=False)\n",
       "          )\n",
       "        )\n",
       "        (2): BertLayer(\n",
       "          (attention): BertAttention(\n",
       "            (self): BertSelfAttention(\n",
       "              (query): Linear(in_features=768, out_features=768, bias=True)\n",
       "              (key): Linear(in_features=768, out_features=768, bias=True)\n",
       "              (value): Linear(in_features=768, out_features=768, bias=True)\n",
       "              (dropout): Dropout(p=0.1, inplace=False)\n",
       "            )\n",
       "            (output): BertSelfOutput(\n",
       "              (dense): Linear(in_features=768, out_features=768, bias=True)\n",
       "              (LayerNorm): BertLayerNorm()\n",
       "              (dropout): Dropout(p=0.1, inplace=False)\n",
       "            )\n",
       "          )\n",
       "          (intermediate): BertIntermediate(\n",
       "            (dense): Linear(in_features=768, out_features=3072, bias=True)\n",
       "          )\n",
       "          (output): BertOutput(\n",
       "            (dense): Linear(in_features=3072, out_features=768, bias=True)\n",
       "            (LayerNorm): BertLayerNorm()\n",
       "            (dropout): Dropout(p=0.1, inplace=False)\n",
       "          )\n",
       "        )\n",
       "        (3): BertLayer(\n",
       "          (attention): BertAttention(\n",
       "            (self): BertSelfAttention(\n",
       "              (query): Linear(in_features=768, out_features=768, bias=True)\n",
       "              (key): Linear(in_features=768, out_features=768, bias=True)\n",
       "              (value): Linear(in_features=768, out_features=768, bias=True)\n",
       "              (dropout): Dropout(p=0.1, inplace=False)\n",
       "            )\n",
       "            (output): BertSelfOutput(\n",
       "              (dense): Linear(in_features=768, out_features=768, bias=True)\n",
       "              (LayerNorm): BertLayerNorm()\n",
       "              (dropout): Dropout(p=0.1, inplace=False)\n",
       "            )\n",
       "          )\n",
       "          (intermediate): BertIntermediate(\n",
       "            (dense): Linear(in_features=768, out_features=3072, bias=True)\n",
       "          )\n",
       "          (output): BertOutput(\n",
       "            (dense): Linear(in_features=3072, out_features=768, bias=True)\n",
       "            (LayerNorm): BertLayerNorm()\n",
       "            (dropout): Dropout(p=0.1, inplace=False)\n",
       "          )\n",
       "        )\n",
       "        (4): BertLayer(\n",
       "          (attention): BertAttention(\n",
       "            (self): BertSelfAttention(\n",
       "              (query): Linear(in_features=768, out_features=768, bias=True)\n",
       "              (key): Linear(in_features=768, out_features=768, bias=True)\n",
       "              (value): Linear(in_features=768, out_features=768, bias=True)\n",
       "              (dropout): Dropout(p=0.1, inplace=False)\n",
       "            )\n",
       "            (output): BertSelfOutput(\n",
       "              (dense): Linear(in_features=768, out_features=768, bias=True)\n",
       "              (LayerNorm): BertLayerNorm()\n",
       "              (dropout): Dropout(p=0.1, inplace=False)\n",
       "            )\n",
       "          )\n",
       "          (intermediate): BertIntermediate(\n",
       "            (dense): Linear(in_features=768, out_features=3072, bias=True)\n",
       "          )\n",
       "          (output): BertOutput(\n",
       "            (dense): Linear(in_features=3072, out_features=768, bias=True)\n",
       "            (LayerNorm): BertLayerNorm()\n",
       "            (dropout): Dropout(p=0.1, inplace=False)\n",
       "          )\n",
       "        )\n",
       "        (5): BertLayer(\n",
       "          (attention): BertAttention(\n",
       "            (self): BertSelfAttention(\n",
       "              (query): Linear(in_features=768, out_features=768, bias=True)\n",
       "              (key): Linear(in_features=768, out_features=768, bias=True)\n",
       "              (value): Linear(in_features=768, out_features=768, bias=True)\n",
       "              (dropout): Dropout(p=0.1, inplace=False)\n",
       "            )\n",
       "            (output): BertSelfOutput(\n",
       "              (dense): Linear(in_features=768, out_features=768, bias=True)\n",
       "              (LayerNorm): BertLayerNorm()\n",
       "              (dropout): Dropout(p=0.1, inplace=False)\n",
       "            )\n",
       "          )\n",
       "          (intermediate): BertIntermediate(\n",
       "            (dense): Linear(in_features=768, out_features=3072, bias=True)\n",
       "          )\n",
       "          (output): BertOutput(\n",
       "            (dense): Linear(in_features=3072, out_features=768, bias=True)\n",
       "            (LayerNorm): BertLayerNorm()\n",
       "            (dropout): Dropout(p=0.1, inplace=False)\n",
       "          )\n",
       "        )\n",
       "        (6): BertLayer(\n",
       "          (attention): BertAttention(\n",
       "            (self): BertSelfAttention(\n",
       "              (query): Linear(in_features=768, out_features=768, bias=True)\n",
       "              (key): Linear(in_features=768, out_features=768, bias=True)\n",
       "              (value): Linear(in_features=768, out_features=768, bias=True)\n",
       "              (dropout): Dropout(p=0.1, inplace=False)\n",
       "            )\n",
       "            (output): BertSelfOutput(\n",
       "              (dense): Linear(in_features=768, out_features=768, bias=True)\n",
       "              (LayerNorm): BertLayerNorm()\n",
       "              (dropout): Dropout(p=0.1, inplace=False)\n",
       "            )\n",
       "          )\n",
       "          (intermediate): BertIntermediate(\n",
       "            (dense): Linear(in_features=768, out_features=3072, bias=True)\n",
       "          )\n",
       "          (output): BertOutput(\n",
       "            (dense): Linear(in_features=3072, out_features=768, bias=True)\n",
       "            (LayerNorm): BertLayerNorm()\n",
       "            (dropout): Dropout(p=0.1, inplace=False)\n",
       "          )\n",
       "        )\n",
       "        (7): BertLayer(\n",
       "          (attention): BertAttention(\n",
       "            (self): BertSelfAttention(\n",
       "              (query): Linear(in_features=768, out_features=768, bias=True)\n",
       "              (key): Linear(in_features=768, out_features=768, bias=True)\n",
       "              (value): Linear(in_features=768, out_features=768, bias=True)\n",
       "              (dropout): Dropout(p=0.1, inplace=False)\n",
       "            )\n",
       "            (output): BertSelfOutput(\n",
       "              (dense): Linear(in_features=768, out_features=768, bias=True)\n",
       "              (LayerNorm): BertLayerNorm()\n",
       "              (dropout): Dropout(p=0.1, inplace=False)\n",
       "            )\n",
       "          )\n",
       "          (intermediate): BertIntermediate(\n",
       "            (dense): Linear(in_features=768, out_features=3072, bias=True)\n",
       "          )\n",
       "          (output): BertOutput(\n",
       "            (dense): Linear(in_features=3072, out_features=768, bias=True)\n",
       "            (LayerNorm): BertLayerNorm()\n",
       "            (dropout): Dropout(p=0.1, inplace=False)\n",
       "          )\n",
       "        )\n",
       "        (8): BertLayer(\n",
       "          (attention): BertAttention(\n",
       "            (self): BertSelfAttention(\n",
       "              (query): Linear(in_features=768, out_features=768, bias=True)\n",
       "              (key): Linear(in_features=768, out_features=768, bias=True)\n",
       "              (value): Linear(in_features=768, out_features=768, bias=True)\n",
       "              (dropout): Dropout(p=0.1, inplace=False)\n",
       "            )\n",
       "            (output): BertSelfOutput(\n",
       "              (dense): Linear(in_features=768, out_features=768, bias=True)\n",
       "              (LayerNorm): BertLayerNorm()\n",
       "              (dropout): Dropout(p=0.1, inplace=False)\n",
       "            )\n",
       "          )\n",
       "          (intermediate): BertIntermediate(\n",
       "            (dense): Linear(in_features=768, out_features=3072, bias=True)\n",
       "          )\n",
       "          (output): BertOutput(\n",
       "            (dense): Linear(in_features=3072, out_features=768, bias=True)\n",
       "            (LayerNorm): BertLayerNorm()\n",
       "            (dropout): Dropout(p=0.1, inplace=False)\n",
       "          )\n",
       "        )\n",
       "        (9): BertLayer(\n",
       "          (attention): BertAttention(\n",
       "            (self): BertSelfAttention(\n",
       "              (query): Linear(in_features=768, out_features=768, bias=True)\n",
       "              (key): Linear(in_features=768, out_features=768, bias=True)\n",
       "              (value): Linear(in_features=768, out_features=768, bias=True)\n",
       "              (dropout): Dropout(p=0.1, inplace=False)\n",
       "            )\n",
       "            (output): BertSelfOutput(\n",
       "              (dense): Linear(in_features=768, out_features=768, bias=True)\n",
       "              (LayerNorm): BertLayerNorm()\n",
       "              (dropout): Dropout(p=0.1, inplace=False)\n",
       "            )\n",
       "          )\n",
       "          (intermediate): BertIntermediate(\n",
       "            (dense): Linear(in_features=768, out_features=3072, bias=True)\n",
       "          )\n",
       "          (output): BertOutput(\n",
       "            (dense): Linear(in_features=3072, out_features=768, bias=True)\n",
       "            (LayerNorm): BertLayerNorm()\n",
       "            (dropout): Dropout(p=0.1, inplace=False)\n",
       "          )\n",
       "        )\n",
       "        (10): BertLayer(\n",
       "          (attention): BertAttention(\n",
       "            (self): BertSelfAttention(\n",
       "              (query): Linear(in_features=768, out_features=768, bias=True)\n",
       "              (key): Linear(in_features=768, out_features=768, bias=True)\n",
       "              (value): Linear(in_features=768, out_features=768, bias=True)\n",
       "              (dropout): Dropout(p=0.1, inplace=False)\n",
       "            )\n",
       "            (output): BertSelfOutput(\n",
       "              (dense): Linear(in_features=768, out_features=768, bias=True)\n",
       "              (LayerNorm): BertLayerNorm()\n",
       "              (dropout): Dropout(p=0.1, inplace=False)\n",
       "            )\n",
       "          )\n",
       "          (intermediate): BertIntermediate(\n",
       "            (dense): Linear(in_features=768, out_features=3072, bias=True)\n",
       "          )\n",
       "          (output): BertOutput(\n",
       "            (dense): Linear(in_features=3072, out_features=768, bias=True)\n",
       "            (LayerNorm): BertLayerNorm()\n",
       "            (dropout): Dropout(p=0.1, inplace=False)\n",
       "          )\n",
       "        )\n",
       "        (11): BertLayer(\n",
       "          (attention): BertAttention(\n",
       "            (self): BertSelfAttention(\n",
       "              (query): Linear(in_features=768, out_features=768, bias=True)\n",
       "              (key): Linear(in_features=768, out_features=768, bias=True)\n",
       "              (value): Linear(in_features=768, out_features=768, bias=True)\n",
       "              (dropout): Dropout(p=0.1, inplace=False)\n",
       "            )\n",
       "            (output): BertSelfOutput(\n",
       "              (dense): Linear(in_features=768, out_features=768, bias=True)\n",
       "              (LayerNorm): BertLayerNorm()\n",
       "              (dropout): Dropout(p=0.1, inplace=False)\n",
       "            )\n",
       "          )\n",
       "          (intermediate): BertIntermediate(\n",
       "            (dense): Linear(in_features=768, out_features=3072, bias=True)\n",
       "          )\n",
       "          (output): BertOutput(\n",
       "            (dense): Linear(in_features=3072, out_features=768, bias=True)\n",
       "            (LayerNorm): BertLayerNorm()\n",
       "            (dropout): Dropout(p=0.1, inplace=False)\n",
       "          )\n",
       "        )\n",
       "      )\n",
       "    )\n",
       "    (pooler): BertPooler(\n",
       "      (dense): Linear(in_features=768, out_features=768, bias=True)\n",
       "      (activation): Tanh()\n",
       "    )\n",
       "  )\n",
       "  (dropout): Dropout(p=0.1, inplace=False)\n",
       "  (classifier): Linear(in_features=768, out_features=2, bias=True)\n",
       ")"
      ]
     },
     "execution_count": 8,
     "metadata": {},
     "output_type": "execute_result"
    }
   ],
   "source": [
    "# Prepare model \n",
    "model = BertForSequenceClassification.from_pretrained('bert-base-uncased',num_labels = 2)\n",
    "model.to(device)\n",
    "\n",
    "# model = BertModel.from_pretrained('bert-base-uncased')"
   ]
  },
  {
   "cell_type": "code",
   "execution_count": 9,
   "metadata": {},
   "outputs": [
    {
     "name": "stdout",
     "output_type": "stream",
     "text": [
      "The BERT model has 201 different named parameters.\n",
      "\n",
      "==== Embedding Layer ====\n",
      "\n",
      "bert.embeddings.word_embeddings.weight                  (30522, 768)\n",
      "bert.embeddings.position_embeddings.weight                (512, 768)\n",
      "bert.embeddings.token_type_embeddings.weight                (2, 768)\n",
      "bert.embeddings.LayerNorm.weight                              (768,)\n",
      "bert.embeddings.LayerNorm.bias                                (768,)\n",
      "\n",
      "==== First Transformer ====\n",
      "\n",
      "bert.encoder.layer.0.attention.self.query.weight          (768, 768)\n",
      "bert.encoder.layer.0.attention.self.query.bias                (768,)\n",
      "bert.encoder.layer.0.attention.self.key.weight            (768, 768)\n",
      "bert.encoder.layer.0.attention.self.key.bias                  (768,)\n",
      "bert.encoder.layer.0.attention.self.value.weight          (768, 768)\n",
      "bert.encoder.layer.0.attention.self.value.bias                (768,)\n",
      "bert.encoder.layer.0.attention.output.dense.weight        (768, 768)\n",
      "bert.encoder.layer.0.attention.output.dense.bias              (768,)\n",
      "bert.encoder.layer.0.attention.output.LayerNorm.weight        (768,)\n",
      "bert.encoder.layer.0.attention.output.LayerNorm.bias          (768,)\n",
      "bert.encoder.layer.0.intermediate.dense.weight           (3072, 768)\n",
      "bert.encoder.layer.0.intermediate.dense.bias                 (3072,)\n",
      "bert.encoder.layer.0.output.dense.weight                 (768, 3072)\n",
      "bert.encoder.layer.0.output.dense.bias                        (768,)\n",
      "bert.encoder.layer.0.output.LayerNorm.weight                  (768,)\n",
      "bert.encoder.layer.0.output.LayerNorm.bias                    (768,)\n",
      "\n",
      "==== Output Layer ====\n",
      "\n",
      "bert.pooler.dense.weight                                  (768, 768)\n",
      "bert.pooler.dense.bias                                        (768,)\n",
      "classifier.weight                                           (2, 768)\n",
      "classifier.bias                                                 (2,)\n"
     ]
    }
   ],
   "source": [
    "# Get all of the model's parameters as a list of tuples.\n",
    "params = list(model.named_parameters())\n",
    "\n",
    "print('The BERT model has {:} different named parameters.\\n'.format(len(params)))\n",
    "\n",
    "print('==== Embedding Layer ====\\n')\n",
    "\n",
    "for p in params[0:5]:\n",
    "    print(\"{:<55} {:>12}\".format(p[0], str(tuple(p[1].size()))))\n",
    "\n",
    "print('\\n==== First Transformer ====\\n')\n",
    "\n",
    "for p in params[5:21]:\n",
    "    print(\"{:<55} {:>12}\".format(p[0], str(tuple(p[1].size()))))\n",
    "    \n",
    "print('\\n==== Output Layer ====\\n')\n",
    "\n",
    "for p in params[-4:]:\n",
    "    print(\"{:<55} {:>12}\".format(p[0], str(tuple(p[1].size()))))"
   ]
  },
  {
   "cell_type": "code",
   "execution_count": 14,
   "metadata": {},
   "outputs": [
    {
     "name": "stderr",
     "output_type": "stream",
     "text": [
      "05/21/2020 13:28:59 - INFO - run_classifier -   LOOKING AT D:/Projects/Stance/Dataset/BertForOppositeClassification/train.tsv\n"
     ]
    }
   ],
   "source": [
    "data_dir = \"D:/Projects/Stance/Dataset/BertForOppositeClassification/\"\n",
    "# data_dir = \"D:/Jupyter/data/dataset/perspective_stances/\"\n",
    "data_dir_output = \"D:/Projects/Stance/Models/dataExpantion/\"\n",
    "output_dir=data_dir_output\n",
    "max_seq_length=32\n",
    "max_grad_norm = 1.0\n",
    "num_training_steps = 1000\n",
    "num_warmup_steps = 100\n",
    "warmup_proportion = float(num_warmup_steps) / float(num_training_steps)  # 0.1\n",
    "# warmup_proportion = 0.1\n",
    "train_batch_size=32\n",
    "eval_batch_size=8\n",
    "learning_rate=5e-5\n",
    "num_train_epochs=3\n",
    "local_rank=-1\n",
    "seed=42\n",
    "gradient_accumulation_steps=1\n",
    "loss_scale=128\n",
    "train_batch_size = int(train_batch_size / gradient_accumulation_steps)\n",
    "\n",
    "processors = {\n",
    "        \"mrpc\": MrpcProcessor,\n",
    "    }\n",
    "\n",
    "random.seed(seed)\n",
    "np.random.seed(seed)\n",
    "torch.manual_seed(seed)\n",
    "torch.cuda.manual_seed_all(seed)\n",
    "    \n",
    "os.makedirs(output_dir, exist_ok=True)\n",
    "processor = processors['mrpc']()\n",
    "label_list = processor.get_labels()\n",
    "\n",
    "train_examples = processor.get_train_examples(data_dir)\n",
    "num_train_steps = int(\n",
    "    len(train_examples) / train_batch_size / gradient_accumulation_steps * num_train_epochs)\n",
    "\n",
    "##preprare optimizer\n",
    "param_optimizer = list(model.named_parameters())\n",
    "no_decay = ['bias', 'gamma', 'beta']\n",
    "optimizer_grouped_parameters = [\n",
    "    {'params': [p for n, p in param_optimizer if not any(nd in n for nd in no_decay)], 'weight_decay_rate': 0.01},\n",
    "    {'params': [p for n, p in param_optimizer if any(nd in n for nd in no_decay)], 'weight_decay_rate': 0.0}\n",
    "    ]\n",
    "t_total = num_train_steps\n",
    "optimizer = BertAdam(optimizer_grouped_parameters,\n",
    "                         lr=learning_rate,\n",
    "                         warmup=warmup_proportion,\n",
    "                         t_total=t_total)\n",
    "# optimizer = AdamW(optimizer_grouped_parameters,\n",
    "#                   lr = learning_rate, # args.learning_rate - default is 5e-5, our notebook had 2e-5\n",
    "#                   eps = 1e-8, # args.adam_epsilon  - default is 1e-8.\n",
    "#                   correct_bias=False\n",
    "#                 )\n",
    "\n",
    "# scheduler = get_linear_schedule_with_warmup(optimizer, num_warmup_steps=num_warmup_steps, num_training_steps=t_total)  # PyTorch scheduler"
   ]
  },
  {
   "cell_type": "code",
   "execution_count": 15,
   "metadata": {
    "scrolled": false
   },
   "outputs": [
    {
     "name": "stderr",
     "output_type": "stream",
     "text": [
      "05/21/2020 13:29:01 - INFO - run_classifier -   *** Example ***\n",
      "05/21/2020 13:29:01 - INFO - run_classifier -   guid: train-1\n",
      "05/21/2020 13:29:01 - INFO - run_classifier -   tokens: [CLS] male infant ci ##rc ##um ##cision is tan ##tam ##ount to child abuse [SEP] parents have the right to use their best judgment , in the light of medical advice [SEP]\n",
      "05/21/2020 13:29:01 - INFO - run_classifier -   input_ids: 101 3287 10527 25022 11890 2819 28472 2003 9092 15464 21723 2000 2775 6905 102 3008 2031 1996 2157 2000 2224 2037 2190 8689 1010 1999 1996 2422 1997 2966 6040 102\n",
      "05/21/2020 13:29:01 - INFO - run_classifier -   input_mask: 1 1 1 1 1 1 1 1 1 1 1 1 1 1 1 1 1 1 1 1 1 1 1 1 1 1 1 1 1 1 1 1\n",
      "05/21/2020 13:29:01 - INFO - run_classifier -   segment_ids: 0 0 0 0 0 0 0 0 0 0 0 0 0 0 0 1 1 1 1 1 1 1 1 1 1 1 1 1 1 1 1 1\n",
      "05/21/2020 13:29:01 - INFO - run_classifier -   label: 0 (id = 0)\n",
      "05/21/2020 13:29:01 - INFO - run_classifier -   *** Example ***\n",
      "05/21/2020 13:29:01 - INFO - run_classifier -   guid: train-2\n",
      "05/21/2020 13:29:01 - INFO - run_classifier -   tokens: [CLS] male infant ci ##rc ##um ##cision is tan ##tam ##ount to child abuse [SEP] parents know what best for th ##ier child [SEP]\n",
      "05/21/2020 13:29:01 - INFO - run_classifier -   input_ids: 101 3287 10527 25022 11890 2819 28472 2003 9092 15464 21723 2000 2775 6905 102 3008 2113 2054 2190 2005 16215 3771 2775 102 0 0 0 0 0 0 0 0\n",
      "05/21/2020 13:29:01 - INFO - run_classifier -   input_mask: 1 1 1 1 1 1 1 1 1 1 1 1 1 1 1 1 1 1 1 1 1 1 1 1 0 0 0 0 0 0 0 0\n",
      "05/21/2020 13:29:01 - INFO - run_classifier -   segment_ids: 0 0 0 0 0 0 0 0 0 0 0 0 0 0 0 1 1 1 1 1 1 1 1 1 0 0 0 0 0 0 0 0\n",
      "05/21/2020 13:29:01 - INFO - run_classifier -   label: 0 (id = 0)\n",
      "05/21/2020 13:29:01 - INFO - run_classifier -   *** Example ***\n",
      "05/21/2020 13:29:01 - INFO - run_classifier -   guid: train-3\n",
      "05/21/2020 13:29:01 - INFO - run_classifier -   tokens: [CLS] male infant ci ##rc ##um ##cision is tan ##tam ##ount to child abuse [SEP] parents have the right to make the decisions for their child [SEP]\n",
      "05/21/2020 13:29:01 - INFO - run_classifier -   input_ids: 101 3287 10527 25022 11890 2819 28472 2003 9092 15464 21723 2000 2775 6905 102 3008 2031 1996 2157 2000 2191 1996 6567 2005 2037 2775 102 0 0 0 0 0\n",
      "05/21/2020 13:29:01 - INFO - run_classifier -   input_mask: 1 1 1 1 1 1 1 1 1 1 1 1 1 1 1 1 1 1 1 1 1 1 1 1 1 1 1 0 0 0 0 0\n",
      "05/21/2020 13:29:01 - INFO - run_classifier -   segment_ids: 0 0 0 0 0 0 0 0 0 0 0 0 0 0 0 1 1 1 1 1 1 1 1 1 1 1 1 0 0 0 0 0\n",
      "05/21/2020 13:29:01 - INFO - run_classifier -   label: 0 (id = 0)\n",
      "05/21/2020 13:29:01 - INFO - run_classifier -   *** Example ***\n",
      "05/21/2020 13:29:01 - INFO - run_classifier -   guid: train-4\n",
      "05/21/2020 13:29:01 - INFO - run_classifier -   tokens: [CLS] punishment should fit the criminal [SEP] it will cause less re - offenders . [SEP]\n",
      "05/21/2020 13:29:01 - INFO - run_classifier -   input_ids: 101 7750 2323 4906 1996 4735 102 2009 2097 3426 2625 2128 1011 19591 1012 102 0 0 0 0 0 0 0 0 0 0 0 0 0 0 0 0\n",
      "05/21/2020 13:29:01 - INFO - run_classifier -   input_mask: 1 1 1 1 1 1 1 1 1 1 1 1 1 1 1 1 0 0 0 0 0 0 0 0 0 0 0 0 0 0 0 0\n",
      "05/21/2020 13:29:01 - INFO - run_classifier -   segment_ids: 0 0 0 0 0 0 0 1 1 1 1 1 1 1 1 1 0 0 0 0 0 0 0 0 0 0 0 0 0 0 0 0\n",
      "05/21/2020 13:29:01 - INFO - run_classifier -   label: 1 (id = 1)\n",
      "05/21/2020 13:29:01 - INFO - run_classifier -   *** Example ***\n",
      "05/21/2020 13:29:01 - INFO - run_classifier -   guid: train-5\n",
      "05/21/2020 13:29:01 - INFO - run_classifier -   tokens: [CLS] punishment should fit the criminal [SEP] adequate punishment reduces future offenses . [SEP]\n",
      "05/21/2020 13:29:01 - INFO - run_classifier -   input_ids: 101 7750 2323 4906 1996 4735 102 11706 7750 13416 2925 25173 1012 102 0 0 0 0 0 0 0 0 0 0 0 0 0 0 0 0 0 0\n",
      "05/21/2020 13:29:01 - INFO - run_classifier -   input_mask: 1 1 1 1 1 1 1 1 1 1 1 1 1 1 0 0 0 0 0 0 0 0 0 0 0 0 0 0 0 0 0 0\n",
      "05/21/2020 13:29:01 - INFO - run_classifier -   segment_ids: 0 0 0 0 0 0 0 1 1 1 1 1 1 1 0 0 0 0 0 0 0 0 0 0 0 0 0 0 0 0 0 0\n",
      "05/21/2020 13:29:01 - INFO - run_classifier -   label: 1 (id = 1)\n",
      "05/21/2020 13:29:08 - INFO - run_classifier -   ***** Running training *****\n",
      "05/21/2020 13:29:08 - INFO - run_classifier -     Num examples = 13277\n",
      "05/21/2020 13:29:08 - INFO - run_classifier -     Batch size = 32\n",
      "05/21/2020 13:29:08 - INFO - run_classifier -     Num steps = 1244\n"
     ]
    }
   ],
   "source": [
    "global_step = 0\n",
    "train_features = convert_examples_to_features(train_examples, label_list, max_seq_length, tokenizer)\n",
    "logger.info(\"***** Running training *****\")\n",
    "logger.info(\"  Num examples = %d\", len(train_examples))\n",
    "logger.info(\"  Batch size = %d\", train_batch_size)\n",
    "logger.info(\"  Num steps = %d\", num_train_steps)\n",
    "all_input_ids = torch.tensor([f.input_ids for f in train_features], dtype=torch.long)\n",
    "all_input_mask = torch.tensor([f.input_mask for f in train_features], dtype=torch.long)\n",
    "all_segment_ids = torch.tensor([f.segment_ids for f in train_features], dtype=torch.long)\n",
    "all_label_ids = torch.tensor([f.label_id for f in train_features], dtype=torch.long)\n",
    "\n",
    "train_data = TensorDataset(all_input_ids, all_input_mask, all_segment_ids, all_label_ids)\n",
    "train_sampler = RandomSampler(train_data)\n",
    "train_dataloader = DataLoader(train_data, sampler=train_sampler, batch_size=train_batch_size)"
   ]
  },
  {
   "cell_type": "code",
   "execution_count": 16,
   "metadata": {},
   "outputs": [
    {
     "name": "stderr",
     "output_type": "stream",
     "text": [
      "Epoch:   0%|                                                                                     | 0/3 [00:00<?, ?it/s]\n",
      "Iteration:   0%|                                                                               | 0/415 [00:00<?, ?it/s]\u001b[A"
     ]
    },
    {
     "name": "stdout",
     "output_type": "stream",
     "text": [
      "tensor(0.6337, device='cuda:0', grad_fn=<NllLossBackward>)\n",
      "0.6337074041366577\n"
     ]
    },
    {
     "name": "stderr",
     "output_type": "stream",
     "text": [
      "\n",
      "Iteration:   0%|▏                                                                      | 1/415 [00:00<05:00,  1.38it/s]\u001b[A"
     ]
    },
    {
     "name": "stdout",
     "output_type": "stream",
     "text": [
      "tensor(0.5101, device='cuda:0', grad_fn=<NllLossBackward>)\n",
      "0.510123074054718\n"
     ]
    },
    {
     "name": "stderr",
     "output_type": "stream",
     "text": [
      "\n",
      "Iteration:   0%|▎                                                                      | 2/415 [00:01<04:55,  1.40it/s]\u001b[A"
     ]
    },
    {
     "name": "stdout",
     "output_type": "stream",
     "text": [
      "tensor(0.5015, device='cuda:0', grad_fn=<NllLossBackward>)\n",
      "0.5014696717262268\n"
     ]
    },
    {
     "name": "stderr",
     "output_type": "stream",
     "text": [
      "\n",
      "Iteration:   1%|▌                                                                      | 3/415 [00:02<04:51,  1.41it/s]\u001b[A"
     ]
    },
    {
     "name": "stdout",
     "output_type": "stream",
     "text": [
      "tensor(0.4727, device='cuda:0', grad_fn=<NllLossBackward>)\n",
      "0.47266536951065063\n"
     ]
    },
    {
     "name": "stderr",
     "output_type": "stream",
     "text": [
      "\n",
      "Iteration:   1%|▋                                                                      | 4/415 [00:02<04:46,  1.43it/s]\u001b[A"
     ]
    },
    {
     "name": "stdout",
     "output_type": "stream",
     "text": [
      "tensor(0.6011, device='cuda:0', grad_fn=<NllLossBackward>)\n",
      "0.6011034846305847\n"
     ]
    },
    {
     "name": "stderr",
     "output_type": "stream",
     "text": [
      "\n",
      "Iteration:   1%|▊                                                                      | 5/415 [00:03<04:43,  1.45it/s]\u001b[A"
     ]
    },
    {
     "name": "stdout",
     "output_type": "stream",
     "text": [
      "tensor(0.7056, device='cuda:0', grad_fn=<NllLossBackward>)\n",
      "0.7056450247764587\n"
     ]
    },
    {
     "name": "stderr",
     "output_type": "stream",
     "text": [
      "\n",
      "Iteration:   1%|█                                                                      | 6/415 [00:04<04:40,  1.46it/s]\u001b[A"
     ]
    },
    {
     "name": "stdout",
     "output_type": "stream",
     "text": [
      "tensor(0.4018, device='cuda:0', grad_fn=<NllLossBackward>)\n",
      "0.40181851387023926\n"
     ]
    },
    {
     "name": "stderr",
     "output_type": "stream",
     "text": [
      "\n",
      "Iteration:   2%|█▏                                                                     | 7/415 [00:04<04:39,  1.46it/s]\u001b[A"
     ]
    },
    {
     "name": "stdout",
     "output_type": "stream",
     "text": [
      "tensor(0.6254, device='cuda:0', grad_fn=<NllLossBackward>)\n",
      "0.6253997087478638\n"
     ]
    },
    {
     "name": "stderr",
     "output_type": "stream",
     "text": [
      "\n",
      "Iteration:   2%|█▎                                                                     | 8/415 [00:05<04:38,  1.46it/s]\u001b[A"
     ]
    },
    {
     "name": "stdout",
     "output_type": "stream",
     "text": [
      "tensor(0.8554, device='cuda:0', grad_fn=<NllLossBackward>)\n",
      "0.8554226160049438\n"
     ]
    },
    {
     "name": "stderr",
     "output_type": "stream",
     "text": [
      "\n",
      "Iteration:   2%|█▌                                                                     | 9/415 [00:06<04:37,  1.46it/s]\u001b[A"
     ]
    },
    {
     "name": "stdout",
     "output_type": "stream",
     "text": [
      "tensor(0.7775, device='cuda:0', grad_fn=<NllLossBackward>)\n",
      "0.777462899684906\n"
     ]
    },
    {
     "name": "stderr",
     "output_type": "stream",
     "text": [
      "\n",
      "Iteration:   2%|█▋                                                                    | 10/415 [00:06<04:36,  1.46it/s]\u001b[A"
     ]
    },
    {
     "name": "stdout",
     "output_type": "stream",
     "text": [
      "tensor(0.6358, device='cuda:0', grad_fn=<NllLossBackward>)\n",
      "0.6358155608177185\n"
     ]
    },
    {
     "name": "stderr",
     "output_type": "stream",
     "text": [
      "\n",
      "Iteration:   3%|█▊                                                                    | 11/415 [00:07<04:35,  1.47it/s]\u001b[A"
     ]
    },
    {
     "name": "stdout",
     "output_type": "stream",
     "text": [
      "tensor(0.7916, device='cuda:0', grad_fn=<NllLossBackward>)\n",
      "0.7915506362915039\n"
     ]
    },
    {
     "name": "stderr",
     "output_type": "stream",
     "text": [
      "\n",
      "Iteration:   3%|██                                                                    | 12/415 [00:08<04:33,  1.47it/s]\u001b[A"
     ]
    },
    {
     "name": "stdout",
     "output_type": "stream",
     "text": [
      "tensor(0.4837, device='cuda:0', grad_fn=<NllLossBackward>)\n",
      "0.4836887717247009\n"
     ]
    },
    {
     "name": "stderr",
     "output_type": "stream",
     "text": [
      "\n",
      "Iteration:   3%|██▏                                                                   | 13/415 [00:08<04:32,  1.47it/s]\u001b[A"
     ]
    },
    {
     "name": "stdout",
     "output_type": "stream",
     "text": [
      "tensor(0.5440, device='cuda:0', grad_fn=<NllLossBackward>)\n",
      "0.5439602732658386\n"
     ]
    },
    {
     "name": "stderr",
     "output_type": "stream",
     "text": [
      "\n",
      "Iteration:   3%|██▎                                                                   | 14/415 [00:09<04:32,  1.47it/s]\u001b[A"
     ]
    },
    {
     "name": "stdout",
     "output_type": "stream",
     "text": [
      "tensor(0.6595, device='cuda:0', grad_fn=<NllLossBackward>)\n",
      "0.659456193447113\n"
     ]
    },
    {
     "name": "stderr",
     "output_type": "stream",
     "text": [
      "\n",
      "Iteration:   4%|██▌                                                                   | 15/415 [00:10<04:32,  1.47it/s]\u001b[A"
     ]
    },
    {
     "name": "stdout",
     "output_type": "stream",
     "text": [
      "tensor(0.5432, device='cuda:0', grad_fn=<NllLossBackward>)\n",
      "0.5431581139564514\n"
     ]
    },
    {
     "name": "stderr",
     "output_type": "stream",
     "text": [
      "\n",
      "Iteration:   4%|██▋                                                                   | 16/415 [00:10<04:30,  1.47it/s]\u001b[A"
     ]
    },
    {
     "name": "stdout",
     "output_type": "stream",
     "text": [
      "tensor(0.6099, device='cuda:0', grad_fn=<NllLossBackward>)\n",
      "0.6098856329917908\n"
     ]
    },
    {
     "name": "stderr",
     "output_type": "stream",
     "text": [
      "\n",
      "Iteration:   4%|██▊                                                                   | 17/415 [00:11<04:29,  1.48it/s]\u001b[A"
     ]
    },
    {
     "name": "stdout",
     "output_type": "stream",
     "text": [
      "tensor(0.6813, device='cuda:0', grad_fn=<NllLossBackward>)\n",
      "0.6813104748725891\n"
     ]
    },
    {
     "name": "stderr",
     "output_type": "stream",
     "text": [
      "\n",
      "Iteration:   4%|███                                                                   | 18/415 [00:12<04:29,  1.47it/s]\u001b[A"
     ]
    },
    {
     "name": "stdout",
     "output_type": "stream",
     "text": [
      "tensor(0.6437, device='cuda:0', grad_fn=<NllLossBackward>)\n",
      "0.6436854600906372\n"
     ]
    },
    {
     "name": "stderr",
     "output_type": "stream",
     "text": [
      "\n",
      "Iteration:   5%|███▏                                                                  | 19/415 [00:12<04:29,  1.47it/s]\u001b[A"
     ]
    },
    {
     "name": "stdout",
     "output_type": "stream",
     "text": [
      "tensor(0.6956, device='cuda:0', grad_fn=<NllLossBackward>)\n",
      "0.6956433653831482\n"
     ]
    },
    {
     "name": "stderr",
     "output_type": "stream",
     "text": [
      "\n",
      "Iteration:   5%|███▎                                                                  | 20/415 [00:13<04:27,  1.47it/s]\u001b[A"
     ]
    },
    {
     "name": "stdout",
     "output_type": "stream",
     "text": [
      "tensor(0.5016, device='cuda:0', grad_fn=<NllLossBackward>)\n",
      "0.5015546083450317\n"
     ]
    },
    {
     "name": "stderr",
     "output_type": "stream",
     "text": [
      "\n",
      "Iteration:   5%|███▌                                                                  | 21/415 [00:14<04:27,  1.48it/s]\u001b[A"
     ]
    },
    {
     "name": "stdout",
     "output_type": "stream",
     "text": [
      "tensor(0.7051, device='cuda:0', grad_fn=<NllLossBackward>)\n",
      "0.7050790190696716\n"
     ]
    },
    {
     "name": "stderr",
     "output_type": "stream",
     "text": [
      "\n",
      "Iteration:   5%|███▋                                                                  | 22/415 [00:15<04:26,  1.47it/s]\u001b[A"
     ]
    },
    {
     "name": "stdout",
     "output_type": "stream",
     "text": [
      "tensor(0.6706, device='cuda:0', grad_fn=<NllLossBackward>)\n",
      "0.6705963015556335\n"
     ]
    },
    {
     "name": "stderr",
     "output_type": "stream",
     "text": [
      "\n",
      "Iteration:   6%|███▉                                                                  | 23/415 [00:15<04:26,  1.47it/s]\u001b[A"
     ]
    },
    {
     "name": "stdout",
     "output_type": "stream",
     "text": [
      "tensor(0.8736, device='cuda:0', grad_fn=<NllLossBackward>)\n",
      "0.8735988140106201\n"
     ]
    },
    {
     "name": "stderr",
     "output_type": "stream",
     "text": [
      "\n",
      "Iteration:   6%|████                                                                  | 24/415 [00:16<04:25,  1.47it/s]\u001b[A"
     ]
    },
    {
     "name": "stdout",
     "output_type": "stream",
     "text": [
      "tensor(0.6557, device='cuda:0', grad_fn=<NllLossBackward>)\n",
      "0.6557289361953735\n"
     ]
    },
    {
     "name": "stderr",
     "output_type": "stream",
     "text": [
      "\n",
      "Iteration:   6%|████▏                                                                 | 25/415 [00:17<04:24,  1.47it/s]\u001b[A"
     ]
    },
    {
     "name": "stdout",
     "output_type": "stream",
     "text": [
      "tensor(0.7505, device='cuda:0', grad_fn=<NllLossBackward>)\n",
      "0.7505316734313965\n"
     ]
    },
    {
     "name": "stderr",
     "output_type": "stream",
     "text": [
      "\n",
      "Iteration:   6%|████▍                                                                 | 26/415 [00:17<04:25,  1.47it/s]\u001b[A"
     ]
    },
    {
     "name": "stdout",
     "output_type": "stream",
     "text": [
      "tensor(0.5298, device='cuda:0', grad_fn=<NllLossBackward>)\n",
      "0.529839813709259\n"
     ]
    },
    {
     "name": "stderr",
     "output_type": "stream",
     "text": [
      "\n",
      "Iteration:   7%|████▌                                                                 | 27/415 [00:18<04:24,  1.47it/s]\u001b[A"
     ]
    },
    {
     "name": "stdout",
     "output_type": "stream",
     "text": [
      "tensor(0.5750, device='cuda:0', grad_fn=<NllLossBackward>)\n",
      "0.5749586820602417\n"
     ]
    },
    {
     "name": "stderr",
     "output_type": "stream",
     "text": [
      "\n",
      "Iteration:   7%|████▋                                                                 | 28/415 [00:19<04:23,  1.47it/s]\u001b[A"
     ]
    },
    {
     "name": "stdout",
     "output_type": "stream",
     "text": [
      "tensor(0.6300, device='cuda:0', grad_fn=<NllLossBackward>)\n",
      "0.6299853920936584\n"
     ]
    },
    {
     "name": "stderr",
     "output_type": "stream",
     "text": [
      "\n",
      "Iteration:   7%|████▉                                                                 | 29/415 [00:19<04:25,  1.45it/s]\u001b[A"
     ]
    },
    {
     "name": "stdout",
     "output_type": "stream",
     "text": [
      "tensor(0.7330, device='cuda:0', grad_fn=<NllLossBackward>)\n",
      "0.7329940795898438\n"
     ]
    },
    {
     "name": "stderr",
     "output_type": "stream",
     "text": [
      "\n",
      "Iteration:   7%|█████                                                                 | 30/415 [00:20<04:24,  1.46it/s]\u001b[A"
     ]
    },
    {
     "name": "stdout",
     "output_type": "stream",
     "text": [
      "tensor(0.5764, device='cuda:0', grad_fn=<NllLossBackward>)\n",
      "0.5764061808586121\n"
     ]
    },
    {
     "name": "stderr",
     "output_type": "stream",
     "text": [
      "\n",
      "Iteration:   7%|█████▏                                                                | 31/415 [00:21<04:23,  1.46it/s]\u001b[A"
     ]
    },
    {
     "name": "stdout",
     "output_type": "stream",
     "text": [
      "tensor(0.6241, device='cuda:0', grad_fn=<NllLossBackward>)\n",
      "0.6240524649620056\n"
     ]
    },
    {
     "name": "stderr",
     "output_type": "stream",
     "text": [
      "\n",
      "Iteration:   8%|█████▍                                                                | 32/415 [00:21<04:22,  1.46it/s]\u001b[A"
     ]
    },
    {
     "name": "stdout",
     "output_type": "stream",
     "text": [
      "tensor(0.6070, device='cuda:0', grad_fn=<NllLossBackward>)\n",
      "0.6070200204849243\n"
     ]
    },
    {
     "name": "stderr",
     "output_type": "stream",
     "text": [
      "\n",
      "Iteration:   8%|█████▌                                                                | 33/415 [00:22<04:20,  1.46it/s]\u001b[A"
     ]
    },
    {
     "name": "stdout",
     "output_type": "stream",
     "text": [
      "tensor(0.5687, device='cuda:0', grad_fn=<NllLossBackward>)\n",
      "0.5686730742454529\n"
     ]
    },
    {
     "name": "stderr",
     "output_type": "stream",
     "text": [
      "\n",
      "Iteration:   8%|█████▋                                                                | 34/415 [00:23<04:20,  1.46it/s]\u001b[A"
     ]
    },
    {
     "name": "stdout",
     "output_type": "stream",
     "text": [
      "tensor(0.5919, device='cuda:0', grad_fn=<NllLossBackward>)\n",
      "0.5919309258460999\n"
     ]
    },
    {
     "name": "stderr",
     "output_type": "stream",
     "text": [
      "\n",
      "Iteration:   8%|█████▉                                                                | 35/415 [00:23<04:20,  1.46it/s]\u001b[A"
     ]
    },
    {
     "name": "stdout",
     "output_type": "stream",
     "text": [
      "tensor(0.5815, device='cuda:0', grad_fn=<NllLossBackward>)\n",
      "0.5814608931541443\n"
     ]
    },
    {
     "name": "stderr",
     "output_type": "stream",
     "text": [
      "\n",
      "Iteration:   9%|██████                                                                | 36/415 [00:24<04:20,  1.46it/s]\u001b[A"
     ]
    },
    {
     "name": "stdout",
     "output_type": "stream",
     "text": [
      "tensor(0.6256, device='cuda:0', grad_fn=<NllLossBackward>)\n",
      "0.6256245970726013\n"
     ]
    },
    {
     "name": "stderr",
     "output_type": "stream",
     "text": [
      "\n",
      "Iteration:   9%|██████▏                                                               | 37/415 [00:25<04:19,  1.45it/s]\u001b[A"
     ]
    },
    {
     "name": "stdout",
     "output_type": "stream",
     "text": [
      "tensor(0.5165, device='cuda:0', grad_fn=<NllLossBackward>)\n",
      "0.5165102481842041\n"
     ]
    },
    {
     "name": "stderr",
     "output_type": "stream",
     "text": [
      "\n",
      "Iteration:   9%|██████▍                                                               | 38/415 [00:25<04:19,  1.45it/s]\u001b[A"
     ]
    },
    {
     "name": "stdout",
     "output_type": "stream",
     "text": [
      "tensor(0.6375, device='cuda:0', grad_fn=<NllLossBackward>)\n",
      "0.6375222206115723\n"
     ]
    },
    {
     "name": "stderr",
     "output_type": "stream",
     "text": [
      "\n",
      "Iteration:   9%|██████▌                                                               | 39/415 [00:26<04:18,  1.45it/s]\u001b[A"
     ]
    },
    {
     "name": "stdout",
     "output_type": "stream",
     "text": [
      "tensor(0.6860, device='cuda:0', grad_fn=<NllLossBackward>)\n",
      "0.6860039234161377\n"
     ]
    },
    {
     "name": "stderr",
     "output_type": "stream",
     "text": [
      "\n",
      "Iteration:  10%|██████▋                                                               | 40/415 [00:27<04:18,  1.45it/s]\u001b[A"
     ]
    },
    {
     "name": "stdout",
     "output_type": "stream",
     "text": [
      "tensor(0.7428, device='cuda:0', grad_fn=<NllLossBackward>)\n",
      "0.7428112030029297\n"
     ]
    },
    {
     "name": "stderr",
     "output_type": "stream",
     "text": [
      "\n",
      "Iteration:  10%|██████▉                                                               | 41/415 [00:28<04:18,  1.45it/s]\u001b[A"
     ]
    },
    {
     "name": "stdout",
     "output_type": "stream",
     "text": [
      "tensor(0.6075, device='cuda:0', grad_fn=<NllLossBackward>)\n",
      "0.6074999570846558\n"
     ]
    },
    {
     "name": "stderr",
     "output_type": "stream",
     "text": [
      "\n",
      "Iteration:  10%|███████                                                               | 42/415 [00:28<04:17,  1.45it/s]\u001b[A"
     ]
    },
    {
     "name": "stdout",
     "output_type": "stream",
     "text": [
      "tensor(0.5765, device='cuda:0', grad_fn=<NllLossBackward>)\n",
      "0.5765144228935242\n"
     ]
    },
    {
     "name": "stderr",
     "output_type": "stream",
     "text": [
      "\n",
      "Iteration:  10%|███████▎                                                              | 43/415 [00:29<04:19,  1.43it/s]\u001b[A"
     ]
    },
    {
     "name": "stdout",
     "output_type": "stream",
     "text": [
      "tensor(0.6382, device='cuda:0', grad_fn=<NllLossBackward>)\n",
      "0.6381612420082092\n"
     ]
    },
    {
     "name": "stderr",
     "output_type": "stream",
     "text": [
      "\n",
      "Iteration:  11%|███████▍                                                              | 44/415 [00:30<04:17,  1.44it/s]\u001b[A"
     ]
    },
    {
     "name": "stdout",
     "output_type": "stream",
     "text": [
      "tensor(0.6434, device='cuda:0', grad_fn=<NllLossBackward>)\n",
      "0.6434146165847778\n"
     ]
    },
    {
     "name": "stderr",
     "output_type": "stream",
     "text": [
      "\n",
      "Iteration:  11%|███████▌                                                              | 45/415 [00:30<04:18,  1.43it/s]\u001b[A"
     ]
    },
    {
     "name": "stdout",
     "output_type": "stream",
     "text": [
      "tensor(0.5744, device='cuda:0', grad_fn=<NllLossBackward>)\n",
      "0.5743687152862549\n"
     ]
    },
    {
     "name": "stderr",
     "output_type": "stream",
     "text": [
      "\n",
      "Iteration:  11%|███████▊                                                              | 46/415 [00:31<04:18,  1.43it/s]\u001b[A"
     ]
    },
    {
     "name": "stdout",
     "output_type": "stream",
     "text": [
      "tensor(0.6411, device='cuda:0', grad_fn=<NllLossBackward>)\n",
      "0.6411269307136536\n"
     ]
    },
    {
     "name": "stderr",
     "output_type": "stream",
     "text": [
      "\n",
      "Iteration:  11%|███████▉                                                              | 47/415 [00:32<04:18,  1.42it/s]\u001b[A"
     ]
    },
    {
     "name": "stdout",
     "output_type": "stream",
     "text": [
      "tensor(0.4849, device='cuda:0', grad_fn=<NllLossBackward>)\n",
      "0.48491865396499634\n"
     ]
    },
    {
     "name": "stderr",
     "output_type": "stream",
     "text": [
      "\n",
      "Iteration:  12%|████████                                                              | 48/415 [00:32<04:18,  1.42it/s]\u001b[A"
     ]
    },
    {
     "name": "stdout",
     "output_type": "stream",
     "text": [
      "tensor(0.4369, device='cuda:0', grad_fn=<NllLossBackward>)\n",
      "0.4368695616722107\n"
     ]
    },
    {
     "name": "stderr",
     "output_type": "stream",
     "text": [
      "\n",
      "Iteration:  12%|████████▎                                                             | 49/415 [00:33<04:16,  1.42it/s]\u001b[A"
     ]
    },
    {
     "name": "stdout",
     "output_type": "stream",
     "text": [
      "tensor(0.6930, device='cuda:0', grad_fn=<NllLossBackward>)\n",
      "0.693020761013031\n"
     ]
    },
    {
     "name": "stderr",
     "output_type": "stream",
     "text": [
      "\n",
      "Iteration:  12%|████████▍                                                             | 50/415 [00:34<04:16,  1.42it/s]\u001b[A"
     ]
    },
    {
     "name": "stdout",
     "output_type": "stream",
     "text": [
      "tensor(0.4375, device='cuda:0', grad_fn=<NllLossBackward>)\n",
      "0.43748053908348083\n"
     ]
    },
    {
     "name": "stderr",
     "output_type": "stream",
     "text": [
      "\n",
      "Iteration:  12%|████████▌                                                             | 51/415 [00:35<04:16,  1.42it/s]\u001b[A"
     ]
    },
    {
     "name": "stdout",
     "output_type": "stream",
     "text": [
      "tensor(0.5043, device='cuda:0', grad_fn=<NllLossBackward>)\n",
      "0.504252016544342\n"
     ]
    },
    {
     "name": "stderr",
     "output_type": "stream",
     "text": [
      "\n",
      "Iteration:  13%|████████▊                                                             | 52/415 [00:35<04:16,  1.41it/s]\u001b[A"
     ]
    },
    {
     "name": "stdout",
     "output_type": "stream",
     "text": [
      "tensor(0.5870, device='cuda:0', grad_fn=<NllLossBackward>)\n",
      "0.5869505405426025\n"
     ]
    },
    {
     "name": "stderr",
     "output_type": "stream",
     "text": [
      "\n",
      "Iteration:  13%|████████▉                                                             | 53/415 [00:36<04:16,  1.41it/s]\u001b[A"
     ]
    },
    {
     "name": "stdout",
     "output_type": "stream",
     "text": [
      "tensor(0.5062, device='cuda:0', grad_fn=<NllLossBackward>)\n",
      "0.5062167048454285\n"
     ]
    },
    {
     "name": "stderr",
     "output_type": "stream",
     "text": [
      "\n",
      "Iteration:  13%|█████████                                                             | 54/415 [00:37<04:15,  1.41it/s]\u001b[A"
     ]
    },
    {
     "name": "stdout",
     "output_type": "stream",
     "text": [
      "tensor(0.6283, device='cuda:0', grad_fn=<NllLossBackward>)\n",
      "0.6282557845115662\n"
     ]
    },
    {
     "name": "stderr",
     "output_type": "stream",
     "text": [
      "\n",
      "Iteration:  13%|█████████▎                                                            | 55/415 [00:37<04:14,  1.42it/s]\u001b[A"
     ]
    },
    {
     "name": "stdout",
     "output_type": "stream",
     "text": [
      "tensor(0.5380, device='cuda:0', grad_fn=<NllLossBackward>)\n",
      "0.5380182266235352\n"
     ]
    },
    {
     "name": "stderr",
     "output_type": "stream",
     "text": [
      "\n",
      "Iteration:  13%|█████████▍                                                            | 56/415 [00:38<04:15,  1.41it/s]\u001b[A"
     ]
    },
    {
     "name": "stdout",
     "output_type": "stream",
     "text": [
      "tensor(0.6197, device='cuda:0', grad_fn=<NllLossBackward>)\n",
      "0.6197277307510376\n"
     ]
    },
    {
     "name": "stderr",
     "output_type": "stream",
     "text": [
      "\n",
      "Iteration:  14%|█████████▌                                                            | 57/415 [00:39<04:14,  1.41it/s]\u001b[A"
     ]
    },
    {
     "name": "stdout",
     "output_type": "stream",
     "text": [
      "tensor(0.6075, device='cuda:0', grad_fn=<NllLossBackward>)\n",
      "0.6075024008750916\n"
     ]
    },
    {
     "name": "stderr",
     "output_type": "stream",
     "text": [
      "\n",
      "Iteration:  14%|█████████▊                                                            | 58/415 [00:40<04:13,  1.41it/s]\u001b[A"
     ]
    },
    {
     "name": "stdout",
     "output_type": "stream",
     "text": [
      "tensor(0.5606, device='cuda:0', grad_fn=<NllLossBackward>)\n",
      "0.5606284737586975\n"
     ]
    },
    {
     "name": "stderr",
     "output_type": "stream",
     "text": [
      "\n",
      "Iteration:  14%|█████████▉                                                            | 59/415 [00:40<04:12,  1.41it/s]\u001b[A"
     ]
    },
    {
     "name": "stdout",
     "output_type": "stream",
     "text": [
      "tensor(0.5652, device='cuda:0', grad_fn=<NllLossBackward>)\n",
      "0.5651935338973999\n"
     ]
    },
    {
     "name": "stderr",
     "output_type": "stream",
     "text": [
      "\n",
      "Iteration:  14%|██████████                                                            | 60/415 [00:41<04:11,  1.41it/s]\u001b[A"
     ]
    },
    {
     "name": "stdout",
     "output_type": "stream",
     "text": [
      "tensor(0.6215, device='cuda:0', grad_fn=<NllLossBackward>)\n",
      "0.6214739680290222\n"
     ]
    },
    {
     "name": "stderr",
     "output_type": "stream",
     "text": [
      "\n",
      "Iteration:  15%|██████████▎                                                           | 61/415 [00:42<04:11,  1.41it/s]\u001b[A"
     ]
    },
    {
     "name": "stdout",
     "output_type": "stream",
     "text": [
      "tensor(0.5208, device='cuda:0', grad_fn=<NllLossBackward>)\n",
      "0.5207816362380981\n"
     ]
    },
    {
     "name": "stderr",
     "output_type": "stream",
     "text": [
      "\n",
      "Iteration:  15%|██████████▍                                                           | 62/415 [00:42<04:11,  1.41it/s]\u001b[A"
     ]
    },
    {
     "name": "stdout",
     "output_type": "stream",
     "text": [
      "tensor(0.7322, device='cuda:0', grad_fn=<NllLossBackward>)\n",
      "0.7322471737861633\n"
     ]
    },
    {
     "name": "stderr",
     "output_type": "stream",
     "text": [
      "\n",
      "Iteration:  15%|██████████▋                                                           | 63/415 [00:43<04:10,  1.40it/s]\u001b[A"
     ]
    },
    {
     "name": "stdout",
     "output_type": "stream",
     "text": [
      "tensor(0.4390, device='cuda:0', grad_fn=<NllLossBackward>)\n",
      "0.439040869474411\n"
     ]
    },
    {
     "name": "stderr",
     "output_type": "stream",
     "text": [
      "\n",
      "Iteration:  15%|██████████▊                                                           | 64/415 [00:44<04:10,  1.40it/s]\u001b[A"
     ]
    },
    {
     "name": "stdout",
     "output_type": "stream",
     "text": [
      "tensor(0.6748, device='cuda:0', grad_fn=<NllLossBackward>)\n",
      "0.6748287081718445\n"
     ]
    },
    {
     "name": "stderr",
     "output_type": "stream",
     "text": [
      "\n",
      "Iteration:  16%|██████████▉                                                           | 65/415 [00:45<04:09,  1.40it/s]\u001b[A"
     ]
    },
    {
     "name": "stdout",
     "output_type": "stream",
     "text": [
      "tensor(0.6639, device='cuda:0', grad_fn=<NllLossBackward>)\n",
      "0.6639488935470581\n"
     ]
    },
    {
     "name": "stderr",
     "output_type": "stream",
     "text": [
      "\n",
      "Iteration:  16%|███████████▏                                                          | 66/415 [00:45<04:10,  1.39it/s]\u001b[A"
     ]
    },
    {
     "name": "stdout",
     "output_type": "stream",
     "text": [
      "tensor(0.5669, device='cuda:0', grad_fn=<NllLossBackward>)\n",
      "0.5669047832489014\n"
     ]
    },
    {
     "name": "stderr",
     "output_type": "stream",
     "text": [
      "\n",
      "Iteration:  16%|███████████▎                                                          | 67/415 [00:46<04:08,  1.40it/s]\u001b[A"
     ]
    },
    {
     "name": "stdout",
     "output_type": "stream",
     "text": [
      "tensor(0.6380, device='cuda:0', grad_fn=<NllLossBackward>)\n",
      "0.6380437016487122\n"
     ]
    },
    {
     "name": "stderr",
     "output_type": "stream",
     "text": [
      "\n",
      "Iteration:  16%|███████████▍                                                          | 68/415 [00:47<04:09,  1.39it/s]\u001b[A"
     ]
    },
    {
     "name": "stdout",
     "output_type": "stream",
     "text": [
      "tensor(0.5948, device='cuda:0', grad_fn=<NllLossBackward>)\n",
      "0.5947794318199158\n"
     ]
    },
    {
     "name": "stderr",
     "output_type": "stream",
     "text": [
      "\n",
      "Iteration:  17%|███████████▋                                                          | 69/415 [00:47<04:08,  1.39it/s]\u001b[A"
     ]
    },
    {
     "name": "stdout",
     "output_type": "stream",
     "text": [
      "tensor(0.6610, device='cuda:0', grad_fn=<NllLossBackward>)\n",
      "0.6610258221626282\n"
     ]
    },
    {
     "name": "stderr",
     "output_type": "stream",
     "text": [
      "\n",
      "Iteration:  17%|███████████▊                                                          | 70/415 [00:48<04:08,  1.39it/s]\u001b[A"
     ]
    },
    {
     "name": "stdout",
     "output_type": "stream",
     "text": [
      "tensor(0.5221, device='cuda:0', grad_fn=<NllLossBackward>)\n",
      "0.5220550298690796\n"
     ]
    },
    {
     "name": "stderr",
     "output_type": "stream",
     "text": [
      "\n",
      "Iteration:  17%|███████████▉                                                          | 71/415 [00:49<04:07,  1.39it/s]\u001b[A"
     ]
    },
    {
     "name": "stdout",
     "output_type": "stream",
     "text": [
      "tensor(0.6407, device='cuda:0', grad_fn=<NllLossBackward>)\n",
      "0.6407228112220764\n"
     ]
    },
    {
     "name": "stderr",
     "output_type": "stream",
     "text": [
      "\n",
      "Iteration:  17%|████████████▏                                                         | 72/415 [00:50<04:06,  1.39it/s]\u001b[A"
     ]
    },
    {
     "name": "stdout",
     "output_type": "stream",
     "text": [
      "tensor(0.6464, device='cuda:0', grad_fn=<NllLossBackward>)\n",
      "0.6464292407035828\n"
     ]
    },
    {
     "name": "stderr",
     "output_type": "stream",
     "text": [
      "\n",
      "Iteration:  18%|████████████▎                                                         | 73/415 [00:50<04:06,  1.39it/s]\u001b[A"
     ]
    },
    {
     "name": "stdout",
     "output_type": "stream",
     "text": [
      "tensor(0.5666, device='cuda:0', grad_fn=<NllLossBackward>)\n",
      "0.5665736198425293\n"
     ]
    },
    {
     "name": "stderr",
     "output_type": "stream",
     "text": [
      "\n",
      "Iteration:  18%|████████████▍                                                         | 74/415 [00:51<04:05,  1.39it/s]\u001b[A"
     ]
    },
    {
     "name": "stdout",
     "output_type": "stream",
     "text": [
      "tensor(0.7608, device='cuda:0', grad_fn=<NllLossBackward>)\n",
      "0.7608274221420288\n"
     ]
    },
    {
     "name": "stderr",
     "output_type": "stream",
     "text": [
      "\n",
      "Iteration:  18%|████████████▋                                                         | 75/415 [00:52<04:05,  1.39it/s]\u001b[A"
     ]
    },
    {
     "name": "stdout",
     "output_type": "stream",
     "text": [
      "tensor(0.5441, device='cuda:0', grad_fn=<NllLossBackward>)\n",
      "0.5440833568572998\n"
     ]
    },
    {
     "name": "stderr",
     "output_type": "stream",
     "text": [
      "\n",
      "Iteration:  18%|████████████▊                                                         | 76/415 [00:52<04:05,  1.38it/s]\u001b[A"
     ]
    },
    {
     "name": "stdout",
     "output_type": "stream",
     "text": [
      "tensor(0.6841, device='cuda:0', grad_fn=<NllLossBackward>)\n",
      "0.6841050982475281\n"
     ]
    },
    {
     "name": "stderr",
     "output_type": "stream",
     "text": [
      "\n",
      "Iteration:  19%|████████████▉                                                         | 77/415 [00:53<04:03,  1.39it/s]\u001b[A"
     ]
    },
    {
     "name": "stdout",
     "output_type": "stream",
     "text": [
      "tensor(0.6657, device='cuda:0', grad_fn=<NllLossBackward>)\n",
      "0.6656519770622253\n"
     ]
    },
    {
     "name": "stderr",
     "output_type": "stream",
     "text": [
      "\n",
      "Iteration:  19%|█████████████▏                                                        | 78/415 [00:54<04:04,  1.38it/s]\u001b[A"
     ]
    },
    {
     "name": "stdout",
     "output_type": "stream",
     "text": [
      "tensor(0.6071, device='cuda:0', grad_fn=<NllLossBackward>)\n",
      "0.6071061491966248\n"
     ]
    },
    {
     "name": "stderr",
     "output_type": "stream",
     "text": [
      "\n",
      "Iteration:  19%|█████████████▎                                                        | 79/415 [00:55<04:02,  1.38it/s]\u001b[A"
     ]
    },
    {
     "name": "stdout",
     "output_type": "stream",
     "text": [
      "tensor(0.6666, device='cuda:0', grad_fn=<NllLossBackward>)\n",
      "0.6665903925895691\n"
     ]
    },
    {
     "name": "stderr",
     "output_type": "stream",
     "text": [
      "\n",
      "Iteration:  19%|█████████████▍                                                        | 80/415 [00:55<04:03,  1.38it/s]\u001b[A"
     ]
    },
    {
     "name": "stdout",
     "output_type": "stream",
     "text": [
      "tensor(0.5652, device='cuda:0', grad_fn=<NllLossBackward>)\n",
      "0.565199077129364\n"
     ]
    },
    {
     "name": "stderr",
     "output_type": "stream",
     "text": [
      "\n",
      "Iteration:  20%|█████████████▋                                                        | 81/415 [00:56<04:03,  1.37it/s]\u001b[A"
     ]
    },
    {
     "name": "stdout",
     "output_type": "stream",
     "text": [
      "tensor(0.7825, device='cuda:0', grad_fn=<NllLossBackward>)\n",
      "0.7825462818145752\n"
     ]
    },
    {
     "name": "stderr",
     "output_type": "stream",
     "text": [
      "\n",
      "Iteration:  20%|█████████████▊                                                        | 82/415 [00:57<04:02,  1.37it/s]\u001b[A"
     ]
    },
    {
     "name": "stdout",
     "output_type": "stream",
     "text": [
      "tensor(0.6643, device='cuda:0', grad_fn=<NllLossBackward>)\n",
      "0.664280891418457\n"
     ]
    },
    {
     "name": "stderr",
     "output_type": "stream",
     "text": [
      "\n",
      "Iteration:  20%|██████████████                                                        | 83/415 [00:58<04:02,  1.37it/s]\u001b[A"
     ]
    },
    {
     "name": "stdout",
     "output_type": "stream",
     "text": [
      "tensor(0.6993, device='cuda:0', grad_fn=<NllLossBackward>)\n",
      "0.6992642283439636\n"
     ]
    },
    {
     "name": "stderr",
     "output_type": "stream",
     "text": [
      "\n",
      "Iteration:  20%|██████████████▏                                                       | 84/415 [00:58<04:01,  1.37it/s]\u001b[A"
     ]
    },
    {
     "name": "stdout",
     "output_type": "stream",
     "text": [
      "tensor(0.5700, device='cuda:0', grad_fn=<NllLossBackward>)\n",
      "0.5699799060821533\n"
     ]
    },
    {
     "name": "stderr",
     "output_type": "stream",
     "text": [
      "\n",
      "Iteration:  20%|██████████████▎                                                       | 85/415 [00:59<04:01,  1.37it/s]\u001b[A"
     ]
    },
    {
     "name": "stdout",
     "output_type": "stream",
     "text": [
      "tensor(0.6327, device='cuda:0', grad_fn=<NllLossBackward>)\n",
      "0.6326504349708557\n"
     ]
    },
    {
     "name": "stderr",
     "output_type": "stream",
     "text": [
      "\n",
      "Iteration:  21%|██████████████▌                                                       | 86/415 [01:00<04:00,  1.37it/s]\u001b[A"
     ]
    },
    {
     "name": "stdout",
     "output_type": "stream",
     "text": [
      "tensor(0.5216, device='cuda:0', grad_fn=<NllLossBackward>)\n",
      "0.5216144323348999\n"
     ]
    },
    {
     "name": "stderr",
     "output_type": "stream",
     "text": [
      "\n",
      "Iteration:  21%|██████████████▋                                                       | 87/415 [01:01<04:01,  1.36it/s]\u001b[A"
     ]
    },
    {
     "name": "stdout",
     "output_type": "stream",
     "text": [
      "tensor(0.6472, device='cuda:0', grad_fn=<NllLossBackward>)\n",
      "0.6471977829933167\n"
     ]
    },
    {
     "name": "stderr",
     "output_type": "stream",
     "text": [
      "\n",
      "Iteration:  21%|██████████████▊                                                       | 88/415 [01:01<03:59,  1.36it/s]\u001b[A"
     ]
    },
    {
     "name": "stdout",
     "output_type": "stream",
     "text": [
      "tensor(0.5602, device='cuda:0', grad_fn=<NllLossBackward>)\n",
      "0.560196578502655\n"
     ]
    },
    {
     "name": "stderr",
     "output_type": "stream",
     "text": [
      "\n",
      "Iteration:  21%|███████████████                                                       | 89/415 [01:02<03:59,  1.36it/s]\u001b[A"
     ]
    },
    {
     "name": "stdout",
     "output_type": "stream",
     "text": [
      "tensor(0.9002, device='cuda:0', grad_fn=<NllLossBackward>)\n",
      "0.900231659412384\n"
     ]
    },
    {
     "name": "stderr",
     "output_type": "stream",
     "text": [
      "\n",
      "Iteration:  22%|███████████████▏                                                      | 90/415 [01:03<03:59,  1.35it/s]\u001b[A"
     ]
    },
    {
     "name": "stdout",
     "output_type": "stream",
     "text": [
      "tensor(0.5337, device='cuda:0', grad_fn=<NllLossBackward>)\n",
      "0.5337142944335938\n"
     ]
    },
    {
     "name": "stderr",
     "output_type": "stream",
     "text": [
      "\n",
      "Iteration:  22%|███████████████▎                                                      | 91/415 [01:03<03:57,  1.36it/s]\u001b[A"
     ]
    },
    {
     "name": "stdout",
     "output_type": "stream",
     "text": [
      "tensor(0.5498, device='cuda:0', grad_fn=<NllLossBackward>)\n",
      "0.5497826337814331\n"
     ]
    },
    {
     "name": "stderr",
     "output_type": "stream",
     "text": [
      "\n",
      "Iteration:  22%|███████████████▌                                                      | 92/415 [01:04<03:57,  1.36it/s]\u001b[A"
     ]
    },
    {
     "name": "stdout",
     "output_type": "stream",
     "text": [
      "tensor(0.5220, device='cuda:0', grad_fn=<NllLossBackward>)\n",
      "0.5219932794570923\n"
     ]
    },
    {
     "name": "stderr",
     "output_type": "stream",
     "text": [
      "\n",
      "Iteration:  22%|███████████████▋                                                      | 93/415 [01:05<03:57,  1.36it/s]\u001b[A"
     ]
    },
    {
     "name": "stdout",
     "output_type": "stream",
     "text": [
      "tensor(0.5714, device='cuda:0', grad_fn=<NllLossBackward>)\n",
      "0.5714299082756042\n"
     ]
    },
    {
     "name": "stderr",
     "output_type": "stream",
     "text": [
      "\n",
      "Iteration:  23%|███████████████▊                                                      | 94/415 [01:06<03:57,  1.35it/s]\u001b[A"
     ]
    },
    {
     "name": "stdout",
     "output_type": "stream",
     "text": [
      "tensor(0.5719, device='cuda:0', grad_fn=<NllLossBackward>)\n",
      "0.5719417333602905\n"
     ]
    },
    {
     "name": "stderr",
     "output_type": "stream",
     "text": [
      "\n",
      "Iteration:  23%|████████████████                                                      | 95/415 [01:06<03:55,  1.36it/s]\u001b[A"
     ]
    },
    {
     "name": "stdout",
     "output_type": "stream",
     "text": [
      "tensor(0.6607, device='cuda:0', grad_fn=<NllLossBackward>)\n",
      "0.6607035994529724\n"
     ]
    },
    {
     "name": "stderr",
     "output_type": "stream",
     "text": [
      "\n",
      "Iteration:  23%|████████████████▏                                                     | 96/415 [01:07<03:55,  1.35it/s]\u001b[A"
     ]
    },
    {
     "name": "stdout",
     "output_type": "stream",
     "text": [
      "tensor(0.6589, device='cuda:0', grad_fn=<NllLossBackward>)\n",
      "0.6588533520698547\n"
     ]
    },
    {
     "name": "stderr",
     "output_type": "stream",
     "text": [
      "\n",
      "Iteration:  23%|████████████████▎                                                     | 97/415 [01:08<03:55,  1.35it/s]\u001b[A"
     ]
    },
    {
     "name": "stdout",
     "output_type": "stream",
     "text": [
      "tensor(0.4412, device='cuda:0', grad_fn=<NllLossBackward>)\n",
      "0.44115495681762695\n"
     ]
    },
    {
     "name": "stderr",
     "output_type": "stream",
     "text": [
      "\n",
      "Iteration:  24%|████████████████▌                                                     | 98/415 [01:09<03:54,  1.35it/s]\u001b[A"
     ]
    },
    {
     "name": "stdout",
     "output_type": "stream",
     "text": [
      "tensor(0.4699, device='cuda:0', grad_fn=<NllLossBackward>)\n",
      "0.46992167830467224\n"
     ]
    },
    {
     "name": "stderr",
     "output_type": "stream",
     "text": [
      "\n",
      "Iteration:  24%|████████████████▋                                                     | 99/415 [01:09<03:53,  1.35it/s]\u001b[A"
     ]
    },
    {
     "name": "stdout",
     "output_type": "stream",
     "text": [
      "tensor(0.6287, device='cuda:0', grad_fn=<NllLossBackward>)\n",
      "0.6287389993667603\n"
     ]
    },
    {
     "name": "stderr",
     "output_type": "stream",
     "text": [
      "\n",
      "Iteration:  24%|████████████████▋                                                    | 100/415 [01:10<03:55,  1.34it/s]\u001b[A"
     ]
    },
    {
     "name": "stdout",
     "output_type": "stream",
     "text": [
      "tensor(0.5475, device='cuda:0', grad_fn=<NllLossBackward>)\n",
      "0.5474762320518494\n"
     ]
    },
    {
     "name": "stderr",
     "output_type": "stream",
     "text": [
      "\n",
      "Iteration:  24%|████████████████▊                                                    | 101/415 [01:11<03:54,  1.34it/s]\u001b[A"
     ]
    },
    {
     "name": "stdout",
     "output_type": "stream",
     "text": [
      "tensor(0.5914, device='cuda:0', grad_fn=<NllLossBackward>)\n",
      "0.5913994312286377\n"
     ]
    },
    {
     "name": "stderr",
     "output_type": "stream",
     "text": [
      "\n",
      "Iteration:  25%|████████████████▉                                                    | 102/415 [01:12<03:52,  1.34it/s]\u001b[A"
     ]
    },
    {
     "name": "stdout",
     "output_type": "stream",
     "text": [
      "tensor(0.5943, device='cuda:0', grad_fn=<NllLossBackward>)\n",
      "0.5942943096160889\n"
     ]
    },
    {
     "name": "stderr",
     "output_type": "stream",
     "text": [
      "\n",
      "Iteration:  25%|█████████████████▏                                                   | 103/415 [01:12<03:51,  1.35it/s]\u001b[A"
     ]
    },
    {
     "name": "stdout",
     "output_type": "stream",
     "text": [
      "tensor(0.6301, device='cuda:0', grad_fn=<NllLossBackward>)\n",
      "0.6301075220108032\n"
     ]
    },
    {
     "name": "stderr",
     "output_type": "stream",
     "text": [
      "\n",
      "Iteration:  25%|█████████████████▎                                                   | 104/415 [01:13<03:50,  1.35it/s]\u001b[A"
     ]
    },
    {
     "name": "stdout",
     "output_type": "stream",
     "text": [
      "tensor(0.5316, device='cuda:0', grad_fn=<NllLossBackward>)\n",
      "0.5315815210342407\n"
     ]
    },
    {
     "name": "stderr",
     "output_type": "stream",
     "text": [
      "\n",
      "Iteration:  25%|█████████████████▍                                                   | 105/415 [01:14<03:49,  1.35it/s]\u001b[A"
     ]
    },
    {
     "name": "stdout",
     "output_type": "stream",
     "text": [
      "tensor(0.6775, device='cuda:0', grad_fn=<NllLossBackward>)\n",
      "0.6775198578834534\n"
     ]
    },
    {
     "name": "stderr",
     "output_type": "stream",
     "text": [
      "\n",
      "Iteration:  26%|█████████████████▌                                                   | 106/415 [01:15<03:48,  1.35it/s]\u001b[A"
     ]
    },
    {
     "name": "stdout",
     "output_type": "stream",
     "text": [
      "tensor(0.5316, device='cuda:0', grad_fn=<NllLossBackward>)\n",
      "0.5315505266189575\n"
     ]
    },
    {
     "name": "stderr",
     "output_type": "stream",
     "text": [
      "\n",
      "Iteration:  26%|█████████████████▊                                                   | 107/415 [01:15<03:48,  1.35it/s]\u001b[A"
     ]
    },
    {
     "name": "stdout",
     "output_type": "stream",
     "text": [
      "tensor(0.7266, device='cuda:0', grad_fn=<NllLossBackward>)\n",
      "0.7266078591346741\n"
     ]
    },
    {
     "name": "stderr",
     "output_type": "stream",
     "text": [
      "\n",
      "Iteration:  26%|█████████████████▉                                                   | 108/415 [01:16<03:50,  1.33it/s]\u001b[A"
     ]
    },
    {
     "name": "stdout",
     "output_type": "stream",
     "text": [
      "tensor(0.6928, device='cuda:0', grad_fn=<NllLossBackward>)\n",
      "0.6927828788757324\n"
     ]
    },
    {
     "name": "stderr",
     "output_type": "stream",
     "text": [
      "\n",
      "Iteration:  26%|██████████████████                                                   | 109/415 [01:17<03:47,  1.34it/s]\u001b[A"
     ]
    },
    {
     "name": "stdout",
     "output_type": "stream",
     "text": [
      "tensor(0.6294, device='cuda:0', grad_fn=<NllLossBackward>)\n",
      "0.629368245601654\n"
     ]
    },
    {
     "name": "stderr",
     "output_type": "stream",
     "text": [
      "\n",
      "Iteration:  27%|██████████████████▎                                                  | 110/415 [01:18<03:46,  1.35it/s]\u001b[A"
     ]
    },
    {
     "name": "stdout",
     "output_type": "stream",
     "text": [
      "tensor(0.7138, device='cuda:0', grad_fn=<NllLossBackward>)\n",
      "0.7138065099716187\n"
     ]
    },
    {
     "name": "stderr",
     "output_type": "stream",
     "text": [
      "\n",
      "Iteration:  27%|██████████████████▍                                                  | 111/415 [01:18<03:45,  1.35it/s]\u001b[A"
     ]
    },
    {
     "name": "stdout",
     "output_type": "stream",
     "text": [
      "tensor(0.6510, device='cuda:0', grad_fn=<NllLossBackward>)\n",
      "0.6510012149810791\n"
     ]
    },
    {
     "name": "stderr",
     "output_type": "stream",
     "text": [
      "\n",
      "Iteration:  27%|██████████████████▌                                                  | 112/415 [01:19<03:45,  1.34it/s]\u001b[A"
     ]
    },
    {
     "name": "stdout",
     "output_type": "stream",
     "text": [
      "tensor(0.6174, device='cuda:0', grad_fn=<NllLossBackward>)\n",
      "0.6174163818359375\n"
     ]
    },
    {
     "name": "stderr",
     "output_type": "stream",
     "text": [
      "\n",
      "Iteration:  27%|██████████████████▊                                                  | 113/415 [01:20<03:44,  1.34it/s]\u001b[A"
     ]
    },
    {
     "name": "stdout",
     "output_type": "stream",
     "text": [
      "tensor(0.5456, device='cuda:0', grad_fn=<NllLossBackward>)\n",
      "0.5456075072288513\n"
     ]
    },
    {
     "name": "stderr",
     "output_type": "stream",
     "text": [
      "\n",
      "Iteration:  27%|██████████████████▉                                                  | 114/415 [01:21<03:45,  1.33it/s]\u001b[A"
     ]
    },
    {
     "name": "stdout",
     "output_type": "stream",
     "text": [
      "tensor(0.6970, device='cuda:0', grad_fn=<NllLossBackward>)\n",
      "0.6970421075820923\n"
     ]
    },
    {
     "name": "stderr",
     "output_type": "stream",
     "text": [
      "\n",
      "Iteration:  28%|███████████████████                                                  | 115/415 [01:21<03:45,  1.33it/s]\u001b[A"
     ]
    },
    {
     "name": "stdout",
     "output_type": "stream",
     "text": [
      "tensor(0.6454, device='cuda:0', grad_fn=<NllLossBackward>)\n",
      "0.6453638672828674\n"
     ]
    },
    {
     "name": "stderr",
     "output_type": "stream",
     "text": [
      "\n",
      "Iteration:  28%|███████████████████▎                                                 | 116/415 [01:22<03:43,  1.34it/s]\u001b[A"
     ]
    },
    {
     "name": "stdout",
     "output_type": "stream",
     "text": [
      "tensor(0.6991, device='cuda:0', grad_fn=<NllLossBackward>)\n",
      "0.6991096138954163\n"
     ]
    },
    {
     "name": "stderr",
     "output_type": "stream",
     "text": [
      "\n",
      "Iteration:  28%|███████████████████▍                                                 | 117/415 [01:23<03:44,  1.33it/s]\u001b[A"
     ]
    },
    {
     "name": "stdout",
     "output_type": "stream",
     "text": [
      "tensor(0.6552, device='cuda:0', grad_fn=<NllLossBackward>)\n",
      "0.6551586985588074\n"
     ]
    },
    {
     "name": "stderr",
     "output_type": "stream",
     "text": [
      "\n",
      "Iteration:  28%|███████████████████▌                                                 | 118/415 [01:24<03:44,  1.32it/s]\u001b[A"
     ]
    },
    {
     "name": "stdout",
     "output_type": "stream",
     "text": [
      "tensor(0.6954, device='cuda:0', grad_fn=<NllLossBackward>)\n",
      "0.6954017877578735\n"
     ]
    },
    {
     "name": "stderr",
     "output_type": "stream",
     "text": [
      "\n",
      "Iteration:  29%|███████████████████▊                                                 | 119/415 [01:24<03:42,  1.33it/s]\u001b[A"
     ]
    },
    {
     "name": "stdout",
     "output_type": "stream",
     "text": [
      "tensor(0.6090, device='cuda:0', grad_fn=<NllLossBackward>)\n",
      "0.6090148091316223\n"
     ]
    },
    {
     "name": "stderr",
     "output_type": "stream",
     "text": [
      "\n",
      "Iteration:  29%|███████████████████▉                                                 | 120/415 [01:25<03:43,  1.32it/s]\u001b[A"
     ]
    },
    {
     "name": "stdout",
     "output_type": "stream",
     "text": [
      "tensor(0.6243, device='cuda:0', grad_fn=<NllLossBackward>)\n",
      "0.6243338584899902\n"
     ]
    },
    {
     "name": "stderr",
     "output_type": "stream",
     "text": [
      "\n",
      "Iteration:  29%|████████████████████                                                 | 121/415 [01:26<03:40,  1.33it/s]\u001b[A"
     ]
    },
    {
     "name": "stdout",
     "output_type": "stream",
     "text": [
      "tensor(0.6393, device='cuda:0', grad_fn=<NllLossBackward>)\n",
      "0.6392866373062134\n"
     ]
    },
    {
     "name": "stderr",
     "output_type": "stream",
     "text": [
      "\n",
      "Iteration:  29%|████████████████████▎                                                | 122/415 [01:27<03:40,  1.33it/s]\u001b[A"
     ]
    },
    {
     "name": "stdout",
     "output_type": "stream",
     "text": [
      "tensor(0.6109, device='cuda:0', grad_fn=<NllLossBackward>)\n",
      "0.6109173893928528\n"
     ]
    },
    {
     "name": "stderr",
     "output_type": "stream",
     "text": [
      "\n",
      "Iteration:  30%|████████████████████▍                                                | 123/415 [01:27<03:39,  1.33it/s]\u001b[A"
     ]
    },
    {
     "name": "stdout",
     "output_type": "stream",
     "text": [
      "tensor(0.6487, device='cuda:0', grad_fn=<NllLossBackward>)\n",
      "0.6486791968345642\n"
     ]
    },
    {
     "name": "stderr",
     "output_type": "stream",
     "text": [
      "\n",
      "Iteration:  30%|████████████████████▌                                                | 124/415 [01:28<03:39,  1.33it/s]\u001b[A"
     ]
    },
    {
     "name": "stdout",
     "output_type": "stream",
     "text": [
      "tensor(0.6138, device='cuda:0', grad_fn=<NllLossBackward>)\n",
      "0.6138100028038025\n"
     ]
    },
    {
     "name": "stderr",
     "output_type": "stream",
     "text": [
      "\n",
      "Iteration:  30%|████████████████████▊                                                | 125/415 [01:29<03:39,  1.32it/s]\u001b[A"
     ]
    },
    {
     "name": "stdout",
     "output_type": "stream",
     "text": [
      "tensor(0.6325, device='cuda:0', grad_fn=<NllLossBackward>)\n",
      "0.6324594616889954\n"
     ]
    },
    {
     "name": "stderr",
     "output_type": "stream",
     "text": [
      "\n",
      "Iteration:  30%|████████████████████▉                                                | 126/415 [01:30<03:40,  1.31it/s]\u001b[A"
     ]
    },
    {
     "name": "stdout",
     "output_type": "stream",
     "text": [
      "tensor(0.6332, device='cuda:0', grad_fn=<NllLossBackward>)\n",
      "0.633206844329834\n"
     ]
    },
    {
     "name": "stderr",
     "output_type": "stream",
     "text": [
      "\n",
      "Iteration:  31%|█████████████████████                                                | 127/415 [01:30<03:40,  1.31it/s]\u001b[A"
     ]
    },
    {
     "name": "stdout",
     "output_type": "stream",
     "text": [
      "tensor(0.6137, device='cuda:0', grad_fn=<NllLossBackward>)\n",
      "0.6137104034423828\n"
     ]
    },
    {
     "name": "stderr",
     "output_type": "stream",
     "text": [
      "\n",
      "Iteration:  31%|█████████████████████▎                                               | 128/415 [01:31<03:39,  1.31it/s]\u001b[A"
     ]
    },
    {
     "name": "stdout",
     "output_type": "stream",
     "text": [
      "tensor(0.5743, device='cuda:0', grad_fn=<NllLossBackward>)\n",
      "0.574270486831665\n"
     ]
    },
    {
     "name": "stderr",
     "output_type": "stream",
     "text": [
      "\n",
      "Iteration:  31%|█████████████████████▍                                               | 129/415 [01:32<03:39,  1.30it/s]\u001b[A"
     ]
    },
    {
     "name": "stdout",
     "output_type": "stream",
     "text": [
      "tensor(0.6171, device='cuda:0', grad_fn=<NllLossBackward>)\n",
      "0.6170555949211121\n"
     ]
    },
    {
     "name": "stderr",
     "output_type": "stream",
     "text": [
      "\n",
      "Iteration:  31%|█████████████████████▌                                               | 130/415 [01:33<03:37,  1.31it/s]\u001b[A"
     ]
    },
    {
     "name": "stdout",
     "output_type": "stream",
     "text": [
      "tensor(0.5229, device='cuda:0', grad_fn=<NllLossBackward>)\n",
      "0.522920548915863\n"
     ]
    },
    {
     "name": "stderr",
     "output_type": "stream",
     "text": [
      "\n",
      "Iteration:  32%|█████████████████████▊                                               | 131/415 [01:33<03:36,  1.31it/s]\u001b[A"
     ]
    },
    {
     "name": "stdout",
     "output_type": "stream",
     "text": [
      "tensor(0.6454, device='cuda:0', grad_fn=<NllLossBackward>)\n",
      "0.6453837156295776\n"
     ]
    },
    {
     "name": "stderr",
     "output_type": "stream",
     "text": [
      "\n",
      "Iteration:  32%|█████████████████████▉                                               | 132/415 [01:34<03:34,  1.32it/s]\u001b[A"
     ]
    },
    {
     "name": "stdout",
     "output_type": "stream",
     "text": [
      "tensor(0.5498, device='cuda:0', grad_fn=<NllLossBackward>)\n",
      "0.5498349070549011\n"
     ]
    },
    {
     "name": "stderr",
     "output_type": "stream",
     "text": [
      "\n",
      "Iteration:  32%|██████████████████████                                               | 133/415 [01:35<03:32,  1.33it/s]\u001b[A"
     ]
    },
    {
     "name": "stdout",
     "output_type": "stream",
     "text": [
      "tensor(0.4850, device='cuda:0', grad_fn=<NllLossBackward>)\n",
      "0.48502811789512634\n"
     ]
    },
    {
     "name": "stderr",
     "output_type": "stream",
     "text": [
      "\n",
      "Iteration:  32%|██████████████████████▎                                              | 134/415 [01:36<03:32,  1.32it/s]\u001b[A"
     ]
    },
    {
     "name": "stdout",
     "output_type": "stream",
     "text": [
      "tensor(0.6706, device='cuda:0', grad_fn=<NllLossBackward>)\n",
      "0.6705590486526489\n"
     ]
    },
    {
     "name": "stderr",
     "output_type": "stream",
     "text": [
      "\n",
      "Iteration:  33%|██████████████████████▍                                              | 135/415 [01:36<03:32,  1.32it/s]\u001b[A"
     ]
    },
    {
     "name": "stdout",
     "output_type": "stream",
     "text": [
      "tensor(0.6172, device='cuda:0', grad_fn=<NllLossBackward>)\n",
      "0.6172212958335876\n"
     ]
    },
    {
     "name": "stderr",
     "output_type": "stream",
     "text": [
      "\n",
      "Iteration:  33%|██████████████████████▌                                              | 136/415 [01:37<03:31,  1.32it/s]\u001b[A"
     ]
    },
    {
     "name": "stdout",
     "output_type": "stream",
     "text": [
      "tensor(0.5619, device='cuda:0', grad_fn=<NllLossBackward>)\n",
      "0.5619010925292969\n"
     ]
    },
    {
     "name": "stderr",
     "output_type": "stream",
     "text": [
      "\n",
      "Iteration:  33%|██████████████████████▊                                              | 137/415 [01:38<03:31,  1.32it/s]\u001b[A"
     ]
    },
    {
     "name": "stdout",
     "output_type": "stream",
     "text": [
      "tensor(0.6900, device='cuda:0', grad_fn=<NllLossBackward>)\n",
      "0.690019965171814\n"
     ]
    },
    {
     "name": "stderr",
     "output_type": "stream",
     "text": [
      "\n",
      "Iteration:  33%|██████████████████████▉                                              | 138/415 [01:39<03:30,  1.32it/s]\u001b[A"
     ]
    },
    {
     "name": "stdout",
     "output_type": "stream",
     "text": [
      "tensor(0.6252, device='cuda:0', grad_fn=<NllLossBackward>)\n",
      "0.6251594424247742\n"
     ]
    },
    {
     "name": "stderr",
     "output_type": "stream",
     "text": [
      "\n",
      "Iteration:  33%|███████████████████████                                              | 139/415 [01:40<03:29,  1.32it/s]\u001b[A"
     ]
    },
    {
     "name": "stdout",
     "output_type": "stream",
     "text": [
      "tensor(0.5617, device='cuda:0', grad_fn=<NllLossBackward>)\n",
      "0.5616574287414551\n"
     ]
    },
    {
     "name": "stderr",
     "output_type": "stream",
     "text": [
      "\n",
      "Iteration:  34%|███████████████████████▎                                             | 140/415 [01:40<03:29,  1.31it/s]\u001b[A"
     ]
    },
    {
     "name": "stdout",
     "output_type": "stream",
     "text": [
      "tensor(0.7280, device='cuda:0', grad_fn=<NllLossBackward>)\n",
      "0.727978527545929\n"
     ]
    },
    {
     "name": "stderr",
     "output_type": "stream",
     "text": [
      "\n",
      "Iteration:  34%|███████████████████████▍                                             | 141/415 [01:41<03:31,  1.29it/s]\u001b[A"
     ]
    },
    {
     "name": "stdout",
     "output_type": "stream",
     "text": [
      "tensor(0.5495, device='cuda:0', grad_fn=<NllLossBackward>)\n",
      "0.5494831204414368\n"
     ]
    },
    {
     "name": "stderr",
     "output_type": "stream",
     "text": [
      "\n",
      "Iteration:  34%|███████████████████████▌                                             | 142/415 [01:42<03:31,  1.29it/s]\u001b[A"
     ]
    },
    {
     "name": "stdout",
     "output_type": "stream",
     "text": [
      "tensor(0.7759, device='cuda:0', grad_fn=<NllLossBackward>)\n",
      "0.7758695483207703\n"
     ]
    },
    {
     "name": "stderr",
     "output_type": "stream",
     "text": [
      "\n",
      "Iteration:  34%|███████████████████████▊                                             | 143/415 [01:43<03:28,  1.31it/s]\u001b[A"
     ]
    },
    {
     "name": "stdout",
     "output_type": "stream",
     "text": [
      "tensor(0.7006, device='cuda:0', grad_fn=<NllLossBackward>)\n",
      "0.7005705833435059\n"
     ]
    },
    {
     "name": "stderr",
     "output_type": "stream",
     "text": [
      "\n",
      "Iteration:  35%|███████████████████████▉                                             | 144/415 [01:43<03:27,  1.31it/s]\u001b[A"
     ]
    },
    {
     "name": "stdout",
     "output_type": "stream",
     "text": [
      "tensor(0.6266, device='cuda:0', grad_fn=<NllLossBackward>)\n",
      "0.6266205906867981\n"
     ]
    },
    {
     "name": "stderr",
     "output_type": "stream",
     "text": [
      "\n",
      "Iteration:  35%|████████████████████████                                             | 145/415 [01:44<03:27,  1.30it/s]\u001b[A"
     ]
    },
    {
     "name": "stdout",
     "output_type": "stream",
     "text": [
      "tensor(0.5268, device='cuda:0', grad_fn=<NllLossBackward>)\n",
      "0.5267689228057861\n"
     ]
    },
    {
     "name": "stderr",
     "output_type": "stream",
     "text": [
      "\n",
      "Iteration:  35%|████████████████████████▎                                            | 146/415 [01:45<03:28,  1.29it/s]\u001b[A"
     ]
    },
    {
     "name": "stdout",
     "output_type": "stream",
     "text": [
      "tensor(0.7252, device='cuda:0', grad_fn=<NllLossBackward>)\n",
      "0.7251625657081604\n"
     ]
    },
    {
     "name": "stderr",
     "output_type": "stream",
     "text": [
      "\n",
      "Iteration:  35%|████████████████████████▍                                            | 147/415 [01:46<03:25,  1.31it/s]\u001b[A"
     ]
    },
    {
     "name": "stdout",
     "output_type": "stream",
     "text": [
      "tensor(0.6080, device='cuda:0', grad_fn=<NllLossBackward>)\n",
      "0.6079938411712646\n"
     ]
    },
    {
     "name": "stderr",
     "output_type": "stream",
     "text": [
      "\n",
      "Iteration:  36%|████████████████████████▌                                            | 148/415 [01:46<03:25,  1.30it/s]\u001b[A"
     ]
    },
    {
     "name": "stdout",
     "output_type": "stream",
     "text": [
      "tensor(0.6428, device='cuda:0', grad_fn=<NllLossBackward>)\n",
      "0.6427654027938843\n"
     ]
    },
    {
     "name": "stderr",
     "output_type": "stream",
     "text": [
      "\n",
      "Iteration:  36%|████████████████████████▊                                            | 149/415 [01:47<03:28,  1.28it/s]\u001b[A"
     ]
    },
    {
     "name": "stdout",
     "output_type": "stream",
     "text": [
      "tensor(0.6658, device='cuda:0', grad_fn=<NllLossBackward>)\n",
      "0.6658035516738892\n"
     ]
    },
    {
     "name": "stderr",
     "output_type": "stream",
     "text": [
      "\n",
      "Iteration:  36%|████████████████████████▉                                            | 150/415 [01:48<03:26,  1.28it/s]\u001b[A"
     ]
    },
    {
     "name": "stdout",
     "output_type": "stream",
     "text": [
      "tensor(0.5794, device='cuda:0', grad_fn=<NllLossBackward>)\n",
      "0.5794121623039246\n"
     ]
    },
    {
     "name": "stderr",
     "output_type": "stream",
     "text": [
      "\n",
      "Iteration:  36%|█████████████████████████                                            | 151/415 [01:49<03:24,  1.29it/s]\u001b[A"
     ]
    },
    {
     "name": "stdout",
     "output_type": "stream",
     "text": [
      "tensor(0.7941, device='cuda:0', grad_fn=<NllLossBackward>)\n",
      "0.7941128611564636\n"
     ]
    },
    {
     "name": "stderr",
     "output_type": "stream",
     "text": [
      "\n",
      "Iteration:  37%|█████████████████████████▎                                           | 152/415 [01:50<03:21,  1.30it/s]\u001b[A"
     ]
    },
    {
     "name": "stdout",
     "output_type": "stream",
     "text": [
      "tensor(0.5907, device='cuda:0', grad_fn=<NllLossBackward>)\n",
      "0.5906844139099121\n"
     ]
    },
    {
     "name": "stderr",
     "output_type": "stream",
     "text": [
      "\n",
      "Iteration:  37%|█████████████████████████▍                                           | 153/415 [01:50<03:22,  1.30it/s]\u001b[A"
     ]
    },
    {
     "name": "stdout",
     "output_type": "stream",
     "text": [
      "tensor(0.6558, device='cuda:0', grad_fn=<NllLossBackward>)\n",
      "0.6558496952056885\n"
     ]
    },
    {
     "name": "stderr",
     "output_type": "stream",
     "text": [
      "\n",
      "Iteration:  37%|█████████████████████████▌                                           | 154/415 [01:51<03:22,  1.29it/s]\u001b[A"
     ]
    },
    {
     "name": "stdout",
     "output_type": "stream",
     "text": [
      "tensor(0.5974, device='cuda:0', grad_fn=<NllLossBackward>)\n",
      "0.5974425673484802\n"
     ]
    },
    {
     "name": "stderr",
     "output_type": "stream",
     "text": [
      "\n",
      "Iteration:  37%|█████████████████████████▊                                           | 155/415 [01:52<03:21,  1.29it/s]\u001b[A"
     ]
    },
    {
     "name": "stdout",
     "output_type": "stream",
     "text": [
      "tensor(0.6247, device='cuda:0', grad_fn=<NllLossBackward>)\n",
      "0.6246829032897949\n"
     ]
    },
    {
     "name": "stderr",
     "output_type": "stream",
     "text": [
      "\n",
      "Iteration:  38%|█████████████████████████▉                                           | 156/415 [01:53<03:21,  1.29it/s]\u001b[A"
     ]
    },
    {
     "name": "stdout",
     "output_type": "stream",
     "text": [
      "tensor(0.6186, device='cuda:0', grad_fn=<NllLossBackward>)\n",
      "0.618586540222168\n"
     ]
    },
    {
     "name": "stderr",
     "output_type": "stream",
     "text": [
      "\n",
      "Iteration:  38%|██████████████████████████                                           | 157/415 [01:53<03:20,  1.29it/s]\u001b[A"
     ]
    },
    {
     "name": "stdout",
     "output_type": "stream",
     "text": [
      "tensor(0.6504, device='cuda:0', grad_fn=<NllLossBackward>)\n",
      "0.6503832936286926\n"
     ]
    },
    {
     "name": "stderr",
     "output_type": "stream",
     "text": [
      "\n",
      "Iteration:  38%|██████████████████████████▎                                          | 158/415 [01:54<03:18,  1.29it/s]\u001b[A"
     ]
    },
    {
     "name": "stdout",
     "output_type": "stream",
     "text": [
      "tensor(0.5717, device='cuda:0', grad_fn=<NllLossBackward>)\n",
      "0.5716966986656189\n"
     ]
    },
    {
     "name": "stderr",
     "output_type": "stream",
     "text": [
      "\n",
      "Iteration:  38%|██████████████████████████▍                                          | 159/415 [01:55<03:18,  1.29it/s]\u001b[A"
     ]
    },
    {
     "name": "stdout",
     "output_type": "stream",
     "text": [
      "tensor(0.6851, device='cuda:0', grad_fn=<NllLossBackward>)\n",
      "0.6850849986076355\n"
     ]
    },
    {
     "name": "stderr",
     "output_type": "stream",
     "text": [
      "\n",
      "Iteration:  39%|██████████████████████████▌                                          | 160/415 [01:56<03:18,  1.29it/s]\u001b[A"
     ]
    },
    {
     "name": "stdout",
     "output_type": "stream",
     "text": [
      "tensor(0.6856, device='cuda:0', grad_fn=<NllLossBackward>)\n",
      "0.685563325881958\n"
     ]
    },
    {
     "name": "stderr",
     "output_type": "stream",
     "text": [
      "\n",
      "Iteration:  39%|██████████████████████████▊                                          | 161/415 [01:57<03:17,  1.28it/s]\u001b[A"
     ]
    },
    {
     "name": "stdout",
     "output_type": "stream",
     "text": [
      "tensor(0.5879, device='cuda:0', grad_fn=<NllLossBackward>)\n",
      "0.5878714323043823\n"
     ]
    },
    {
     "name": "stderr",
     "output_type": "stream",
     "text": [
      "\n",
      "Iteration:  39%|██████████████████████████▉                                          | 162/415 [01:57<03:14,  1.30it/s]\u001b[A"
     ]
    },
    {
     "name": "stdout",
     "output_type": "stream",
     "text": [
      "tensor(0.6335, device='cuda:0', grad_fn=<NllLossBackward>)\n",
      "0.6334707736968994\n"
     ]
    },
    {
     "name": "stderr",
     "output_type": "stream",
     "text": [
      "\n",
      "Iteration:  39%|███████████████████████████                                          | 163/415 [01:58<03:15,  1.29it/s]\u001b[A"
     ]
    },
    {
     "name": "stdout",
     "output_type": "stream",
     "text": [
      "tensor(0.6126, device='cuda:0', grad_fn=<NllLossBackward>)\n",
      "0.6126302480697632\n"
     ]
    },
    {
     "name": "stderr",
     "output_type": "stream",
     "text": [
      "\n",
      "Iteration:  40%|███████████████████████████▎                                         | 164/415 [01:59<03:14,  1.29it/s]\u001b[A"
     ]
    },
    {
     "name": "stdout",
     "output_type": "stream",
     "text": [
      "tensor(0.6604, device='cuda:0', grad_fn=<NllLossBackward>)\n",
      "0.6604409217834473\n"
     ]
    },
    {
     "name": "stderr",
     "output_type": "stream",
     "text": [
      "\n",
      "Iteration:  40%|███████████████████████████▍                                         | 165/415 [02:00<03:13,  1.29it/s]\u001b[A"
     ]
    },
    {
     "name": "stdout",
     "output_type": "stream",
     "text": [
      "tensor(0.6474, device='cuda:0', grad_fn=<NllLossBackward>)\n",
      "0.6474292278289795\n"
     ]
    },
    {
     "name": "stderr",
     "output_type": "stream",
     "text": [
      "\n",
      "Iteration:  40%|███████████████████████████▌                                         | 166/415 [02:00<03:12,  1.29it/s]\u001b[A"
     ]
    },
    {
     "name": "stdout",
     "output_type": "stream",
     "text": [
      "tensor(0.6590, device='cuda:0', grad_fn=<NllLossBackward>)\n",
      "0.6589656472206116\n"
     ]
    },
    {
     "name": "stderr",
     "output_type": "stream",
     "text": [
      "\n",
      "Iteration:  40%|███████████████████████████▊                                         | 167/415 [02:01<03:10,  1.30it/s]\u001b[A"
     ]
    },
    {
     "name": "stdout",
     "output_type": "stream",
     "text": [
      "tensor(0.7350, device='cuda:0', grad_fn=<NllLossBackward>)\n",
      "0.7350467443466187\n"
     ]
    },
    {
     "name": "stderr",
     "output_type": "stream",
     "text": [
      "\n",
      "Iteration:  40%|███████████████████████████▉                                         | 168/415 [02:02<03:14,  1.27it/s]\u001b[A"
     ]
    },
    {
     "name": "stdout",
     "output_type": "stream",
     "text": [
      "tensor(0.6571, device='cuda:0', grad_fn=<NllLossBackward>)\n",
      "0.657094419002533\n"
     ]
    },
    {
     "name": "stderr",
     "output_type": "stream",
     "text": [
      "\n",
      "Iteration:  41%|████████████████████████████                                         | 169/415 [02:03<03:12,  1.28it/s]\u001b[A"
     ]
    },
    {
     "name": "stdout",
     "output_type": "stream",
     "text": [
      "tensor(0.5896, device='cuda:0', grad_fn=<NllLossBackward>)\n",
      "0.5896182656288147\n"
     ]
    },
    {
     "name": "stderr",
     "output_type": "stream",
     "text": [
      "\n",
      "Iteration:  41%|████████████████████████████▎                                        | 170/415 [02:04<03:10,  1.28it/s]\u001b[A"
     ]
    },
    {
     "name": "stdout",
     "output_type": "stream",
     "text": [
      "tensor(0.5404, device='cuda:0', grad_fn=<NllLossBackward>)\n",
      "0.5403685569763184\n"
     ]
    },
    {
     "name": "stderr",
     "output_type": "stream",
     "text": [
      "\n",
      "Iteration:  41%|████████████████████████████▍                                        | 171/415 [02:04<03:07,  1.30it/s]\u001b[A"
     ]
    },
    {
     "name": "stdout",
     "output_type": "stream",
     "text": [
      "tensor(0.6689, device='cuda:0', grad_fn=<NllLossBackward>)\n",
      "0.6688883900642395\n"
     ]
    },
    {
     "name": "stderr",
     "output_type": "stream",
     "text": [
      "\n",
      "Iteration:  41%|████████████████████████████▌                                        | 172/415 [02:05<03:05,  1.31it/s]\u001b[A"
     ]
    },
    {
     "name": "stdout",
     "output_type": "stream",
     "text": [
      "tensor(0.7441, device='cuda:0', grad_fn=<NllLossBackward>)\n",
      "0.7441281676292419\n"
     ]
    },
    {
     "name": "stderr",
     "output_type": "stream",
     "text": [
      "\n",
      "Iteration:  42%|████████████████████████████▊                                        | 173/415 [02:06<03:13,  1.25it/s]\u001b[A"
     ]
    },
    {
     "name": "stdout",
     "output_type": "stream",
     "text": [
      "tensor(0.5091, device='cuda:0', grad_fn=<NllLossBackward>)\n",
      "0.5091468691825867\n"
     ]
    },
    {
     "name": "stderr",
     "output_type": "stream",
     "text": [
      "\n",
      "Iteration:  42%|████████████████████████████▉                                        | 174/415 [02:07<03:09,  1.27it/s]\u001b[A"
     ]
    },
    {
     "name": "stdout",
     "output_type": "stream",
     "text": [
      "tensor(0.5685, device='cuda:0', grad_fn=<NllLossBackward>)\n",
      "0.5684645771980286\n"
     ]
    },
    {
     "name": "stderr",
     "output_type": "stream",
     "text": [
      "\n",
      "Iteration:  42%|█████████████████████████████                                        | 175/415 [02:08<03:17,  1.22it/s]\u001b[A"
     ]
    },
    {
     "name": "stdout",
     "output_type": "stream",
     "text": [
      "tensor(0.6432, device='cuda:0', grad_fn=<NllLossBackward>)\n",
      "0.6432260870933533\n"
     ]
    },
    {
     "name": "stderr",
     "output_type": "stream",
     "text": [
      "\n",
      "Iteration:  42%|█████████████████████████████▎                                       | 176/415 [02:08<03:10,  1.25it/s]\u001b[A"
     ]
    },
    {
     "name": "stdout",
     "output_type": "stream",
     "text": [
      "tensor(0.6941, device='cuda:0', grad_fn=<NllLossBackward>)\n",
      "0.6940600275993347\n"
     ]
    },
    {
     "name": "stderr",
     "output_type": "stream",
     "text": [
      "\n",
      "Iteration:  43%|█████████████████████████████▍                                       | 177/415 [02:09<03:06,  1.27it/s]\u001b[A"
     ]
    },
    {
     "name": "stdout",
     "output_type": "stream",
     "text": [
      "tensor(0.6654, device='cuda:0', grad_fn=<NllLossBackward>)\n",
      "0.6654196977615356\n"
     ]
    },
    {
     "name": "stderr",
     "output_type": "stream",
     "text": [
      "\n",
      "Iteration:  43%|█████████████████████████████▌                                       | 178/415 [02:10<03:04,  1.29it/s]\u001b[A"
     ]
    },
    {
     "name": "stdout",
     "output_type": "stream",
     "text": [
      "tensor(0.6273, device='cuda:0', grad_fn=<NllLossBackward>)\n",
      "0.6272600889205933\n"
     ]
    },
    {
     "name": "stderr",
     "output_type": "stream",
     "text": [
      "\n",
      "Iteration:  43%|█████████████████████████████▊                                       | 179/415 [02:11<03:01,  1.30it/s]\u001b[A"
     ]
    },
    {
     "name": "stdout",
     "output_type": "stream",
     "text": [
      "tensor(0.6036, device='cuda:0', grad_fn=<NllLossBackward>)\n",
      "0.6035821437835693\n"
     ]
    },
    {
     "name": "stderr",
     "output_type": "stream",
     "text": [
      "\n",
      "Iteration:  43%|█████████████████████████████▉                                       | 180/415 [02:11<03:03,  1.28it/s]\u001b[A"
     ]
    },
    {
     "name": "stdout",
     "output_type": "stream",
     "text": [
      "tensor(0.5675, device='cuda:0', grad_fn=<NllLossBackward>)\n",
      "0.5675076246261597\n"
     ]
    },
    {
     "name": "stderr",
     "output_type": "stream",
     "text": [
      "\n",
      "Iteration:  44%|██████████████████████████████                                       | 181/415 [02:12<03:02,  1.29it/s]\u001b[A"
     ]
    },
    {
     "name": "stdout",
     "output_type": "stream",
     "text": [
      "tensor(0.6010, device='cuda:0', grad_fn=<NllLossBackward>)\n",
      "0.6010092496871948\n"
     ]
    },
    {
     "name": "stderr",
     "output_type": "stream",
     "text": [
      "\n",
      "Iteration:  44%|██████████████████████████████▎                                      | 182/415 [02:13<02:59,  1.30it/s]\u001b[A"
     ]
    },
    {
     "name": "stdout",
     "output_type": "stream",
     "text": [
      "tensor(0.5509, device='cuda:0', grad_fn=<NllLossBackward>)\n",
      "0.5509160161018372\n"
     ]
    },
    {
     "name": "stderr",
     "output_type": "stream",
     "text": [
      "\n",
      "Iteration:  44%|██████████████████████████████▍                                      | 183/415 [02:14<02:58,  1.30it/s]\u001b[A"
     ]
    },
    {
     "name": "stdout",
     "output_type": "stream",
     "text": [
      "tensor(0.6708, device='cuda:0', grad_fn=<NllLossBackward>)\n",
      "0.6707642674446106\n"
     ]
    },
    {
     "name": "stderr",
     "output_type": "stream",
     "text": [
      "\n",
      "Iteration:  44%|██████████████████████████████▌                                      | 184/415 [02:14<02:57,  1.30it/s]\u001b[A"
     ]
    },
    {
     "name": "stdout",
     "output_type": "stream",
     "text": [
      "tensor(0.6554, device='cuda:0', grad_fn=<NllLossBackward>)\n",
      "0.6553729772567749\n"
     ]
    },
    {
     "name": "stderr",
     "output_type": "stream",
     "text": [
      "\n",
      "Iteration:  45%|██████████████████████████████▊                                      | 185/415 [02:15<02:56,  1.30it/s]\u001b[A"
     ]
    },
    {
     "name": "stdout",
     "output_type": "stream",
     "text": [
      "tensor(0.6395, device='cuda:0', grad_fn=<NllLossBackward>)\n",
      "0.6395299434661865\n"
     ]
    },
    {
     "name": "stderr",
     "output_type": "stream",
     "text": [
      "\n",
      "Iteration:  45%|██████████████████████████████▉                                      | 186/415 [02:16<02:55,  1.30it/s]\u001b[A"
     ]
    },
    {
     "name": "stdout",
     "output_type": "stream",
     "text": [
      "tensor(0.5295, device='cuda:0', grad_fn=<NllLossBackward>)\n",
      "0.529492974281311\n"
     ]
    },
    {
     "name": "stderr",
     "output_type": "stream",
     "text": [
      "\n",
      "Iteration:  45%|███████████████████████████████                                      | 187/415 [02:17<02:53,  1.31it/s]\u001b[A"
     ]
    },
    {
     "name": "stdout",
     "output_type": "stream",
     "text": [
      "tensor(0.6805, device='cuda:0', grad_fn=<NllLossBackward>)\n",
      "0.6805354356765747\n"
     ]
    },
    {
     "name": "stderr",
     "output_type": "stream",
     "text": [
      "\n",
      "Iteration:  45%|███████████████████████████████▎                                     | 188/415 [02:18<02:56,  1.29it/s]\u001b[A"
     ]
    },
    {
     "name": "stdout",
     "output_type": "stream",
     "text": [
      "tensor(0.5416, device='cuda:0', grad_fn=<NllLossBackward>)\n",
      "0.5416362881660461\n"
     ]
    },
    {
     "name": "stderr",
     "output_type": "stream",
     "text": [
      "\n",
      "Iteration:  46%|███████████████████████████████▍                                     | 189/415 [02:18<02:56,  1.28it/s]\u001b[A"
     ]
    },
    {
     "name": "stdout",
     "output_type": "stream",
     "text": [
      "tensor(0.6863, device='cuda:0', grad_fn=<NllLossBackward>)\n",
      "0.6862668395042419\n"
     ]
    },
    {
     "name": "stderr",
     "output_type": "stream",
     "text": [
      "\n",
      "Iteration:  46%|███████████████████████████████▌                                     | 190/415 [02:19<02:53,  1.30it/s]\u001b[A"
     ]
    },
    {
     "name": "stdout",
     "output_type": "stream",
     "text": [
      "tensor(0.7878, device='cuda:0', grad_fn=<NllLossBackward>)\n",
      "0.7878302335739136\n"
     ]
    },
    {
     "name": "stderr",
     "output_type": "stream",
     "text": [
      "\n",
      "Iteration:  46%|███████████████████████████████▊                                     | 191/415 [02:20<02:51,  1.30it/s]\u001b[A"
     ]
    },
    {
     "name": "stdout",
     "output_type": "stream",
     "text": [
      "tensor(0.6008, device='cuda:0', grad_fn=<NllLossBackward>)\n",
      "0.6007820963859558\n"
     ]
    },
    {
     "name": "stderr",
     "output_type": "stream",
     "text": [
      "\n",
      "Iteration:  46%|███████████████████████████████▉                                     | 192/415 [02:21<02:52,  1.29it/s]\u001b[A"
     ]
    },
    {
     "name": "stdout",
     "output_type": "stream",
     "text": [
      "tensor(0.7416, device='cuda:0', grad_fn=<NllLossBackward>)\n",
      "0.7416141033172607\n"
     ]
    },
    {
     "name": "stderr",
     "output_type": "stream",
     "text": [
      "\n",
      "Iteration:  47%|████████████████████████████████                                     | 193/415 [02:21<02:53,  1.28it/s]\u001b[A"
     ]
    },
    {
     "name": "stdout",
     "output_type": "stream",
     "text": [
      "tensor(0.6942, device='cuda:0', grad_fn=<NllLossBackward>)\n",
      "0.6941852569580078\n"
     ]
    },
    {
     "name": "stderr",
     "output_type": "stream",
     "text": [
      "\n",
      "Iteration:  47%|████████████████████████████████▎                                    | 194/415 [02:22<02:52,  1.28it/s]\u001b[A"
     ]
    },
    {
     "name": "stdout",
     "output_type": "stream",
     "text": [
      "tensor(0.8919, device='cuda:0', grad_fn=<NllLossBackward>)\n",
      "0.8918898701667786\n"
     ]
    },
    {
     "name": "stderr",
     "output_type": "stream",
     "text": [
      "\n",
      "Iteration:  47%|████████████████████████████████▍                                    | 195/415 [02:23<02:49,  1.29it/s]\u001b[A"
     ]
    },
    {
     "name": "stdout",
     "output_type": "stream",
     "text": [
      "tensor(0.7821, device='cuda:0', grad_fn=<NllLossBackward>)\n",
      "0.7820528149604797\n"
     ]
    },
    {
     "name": "stderr",
     "output_type": "stream",
     "text": [
      "\n",
      "Iteration:  47%|████████████████████████████████▌                                    | 196/415 [02:24<02:47,  1.31it/s]\u001b[A"
     ]
    },
    {
     "name": "stdout",
     "output_type": "stream",
     "text": [
      "tensor(0.7071, device='cuda:0', grad_fn=<NllLossBackward>)\n",
      "0.7070528864860535\n"
     ]
    },
    {
     "name": "stderr",
     "output_type": "stream",
     "text": [
      "\n",
      "Iteration:  47%|████████████████████████████████▊                                    | 197/415 [02:25<02:47,  1.30it/s]\u001b[A"
     ]
    },
    {
     "name": "stdout",
     "output_type": "stream",
     "text": [
      "tensor(0.7021, device='cuda:0', grad_fn=<NllLossBackward>)\n",
      "0.7020620107650757\n"
     ]
    },
    {
     "name": "stderr",
     "output_type": "stream",
     "text": [
      "\n",
      "Iteration:  48%|████████████████████████████████▉                                    | 198/415 [02:25<02:48,  1.29it/s]\u001b[A"
     ]
    },
    {
     "name": "stdout",
     "output_type": "stream",
     "text": [
      "tensor(0.6631, device='cuda:0', grad_fn=<NllLossBackward>)\n",
      "0.6631147265434265\n"
     ]
    },
    {
     "name": "stderr",
     "output_type": "stream",
     "text": [
      "\n",
      "Iteration:  48%|█████████████████████████████████                                    | 199/415 [02:26<02:47,  1.29it/s]\u001b[A"
     ]
    },
    {
     "name": "stdout",
     "output_type": "stream",
     "text": [
      "tensor(0.6993, device='cuda:0', grad_fn=<NllLossBackward>)\n",
      "0.6993341445922852\n"
     ]
    },
    {
     "name": "stderr",
     "output_type": "stream",
     "text": [
      "\n",
      "Iteration:  48%|█████████████████████████████████▎                                   | 200/415 [02:27<02:45,  1.30it/s]\u001b[A"
     ]
    },
    {
     "name": "stdout",
     "output_type": "stream",
     "text": [
      "tensor(0.6789, device='cuda:0', grad_fn=<NllLossBackward>)\n",
      "0.6788933873176575\n"
     ]
    },
    {
     "name": "stderr",
     "output_type": "stream",
     "text": [
      "\n",
      "Iteration:  48%|█████████████████████████████████▍                                   | 201/415 [02:28<02:44,  1.30it/s]\u001b[A"
     ]
    },
    {
     "name": "stdout",
     "output_type": "stream",
     "text": [
      "tensor(0.7067, device='cuda:0', grad_fn=<NllLossBackward>)\n",
      "0.7067221999168396\n"
     ]
    },
    {
     "name": "stderr",
     "output_type": "stream",
     "text": [
      "\n",
      "Iteration:  49%|█████████████████████████████████▌                                   | 202/415 [02:28<02:44,  1.29it/s]\u001b[A"
     ]
    },
    {
     "name": "stdout",
     "output_type": "stream",
     "text": [
      "tensor(0.6790, device='cuda:0', grad_fn=<NllLossBackward>)\n",
      "0.6789524555206299\n"
     ]
    },
    {
     "name": "stderr",
     "output_type": "stream",
     "text": [
      "\n",
      "Iteration:  49%|█████████████████████████████████▊                                   | 203/415 [02:29<02:43,  1.30it/s]\u001b[A"
     ]
    },
    {
     "name": "stdout",
     "output_type": "stream",
     "text": [
      "tensor(0.6674, device='cuda:0', grad_fn=<NllLossBackward>)\n",
      "0.6673727035522461\n"
     ]
    },
    {
     "name": "stderr",
     "output_type": "stream",
     "text": [
      "\n",
      "Iteration:  49%|█████████████████████████████████▉                                   | 204/415 [02:30<02:41,  1.31it/s]\u001b[A"
     ]
    },
    {
     "name": "stdout",
     "output_type": "stream",
     "text": [
      "tensor(0.6912, device='cuda:0', grad_fn=<NllLossBackward>)\n",
      "0.69117671251297\n"
     ]
    },
    {
     "name": "stderr",
     "output_type": "stream",
     "text": [
      "\n",
      "Iteration:  49%|██████████████████████████████████                                   | 205/415 [02:31<02:42,  1.29it/s]\u001b[A"
     ]
    },
    {
     "name": "stdout",
     "output_type": "stream",
     "text": [
      "tensor(0.7013, device='cuda:0', grad_fn=<NllLossBackward>)\n",
      "0.7012903094291687\n"
     ]
    },
    {
     "name": "stderr",
     "output_type": "stream",
     "text": [
      "\n",
      "Iteration:  50%|██████████████████████████████████▎                                  | 206/415 [02:31<02:41,  1.30it/s]\u001b[A"
     ]
    },
    {
     "name": "stdout",
     "output_type": "stream",
     "text": [
      "tensor(0.7213, device='cuda:0', grad_fn=<NllLossBackward>)\n",
      "0.7212976813316345\n"
     ]
    },
    {
     "name": "stderr",
     "output_type": "stream",
     "text": [
      "\n",
      "Iteration:  50%|██████████████████████████████████▍                                  | 207/415 [02:32<02:41,  1.29it/s]\u001b[A"
     ]
    },
    {
     "name": "stdout",
     "output_type": "stream",
     "text": [
      "tensor(0.6475, device='cuda:0', grad_fn=<NllLossBackward>)\n",
      "0.6475226283073425\n"
     ]
    },
    {
     "name": "stderr",
     "output_type": "stream",
     "text": [
      "\n",
      "Iteration:  50%|██████████████████████████████████▌                                  | 208/415 [02:33<02:39,  1.30it/s]\u001b[A"
     ]
    },
    {
     "name": "stdout",
     "output_type": "stream",
     "text": [
      "tensor(0.6914, device='cuda:0', grad_fn=<NllLossBackward>)\n",
      "0.6914443373680115\n"
     ]
    },
    {
     "name": "stderr",
     "output_type": "stream",
     "text": [
      "\n",
      "Iteration:  50%|██████████████████████████████████▋                                  | 209/415 [02:34<02:39,  1.29it/s]\u001b[A"
     ]
    },
    {
     "name": "stdout",
     "output_type": "stream",
     "text": [
      "tensor(0.7873, device='cuda:0', grad_fn=<NllLossBackward>)\n",
      "0.7872668504714966\n"
     ]
    },
    {
     "name": "stderr",
     "output_type": "stream",
     "text": [
      "\n",
      "Iteration:  51%|██████████████████████████████████▉                                  | 210/415 [02:35<02:38,  1.29it/s]\u001b[A"
     ]
    },
    {
     "name": "stdout",
     "output_type": "stream",
     "text": [
      "tensor(0.6898, device='cuda:0', grad_fn=<NllLossBackward>)\n",
      "0.6898365020751953\n"
     ]
    },
    {
     "name": "stderr",
     "output_type": "stream",
     "text": [
      "\n",
      "Iteration:  51%|███████████████████████████████████                                  | 211/415 [02:35<02:38,  1.28it/s]\u001b[A"
     ]
    },
    {
     "name": "stdout",
     "output_type": "stream",
     "text": [
      "tensor(0.6802, device='cuda:0', grad_fn=<NllLossBackward>)\n",
      "0.6802243590354919\n"
     ]
    },
    {
     "name": "stderr",
     "output_type": "stream",
     "text": [
      "\n",
      "Iteration:  51%|███████████████████████████████████▏                                 | 212/415 [02:36<02:36,  1.29it/s]\u001b[A"
     ]
    },
    {
     "name": "stdout",
     "output_type": "stream",
     "text": [
      "tensor(0.6849, device='cuda:0', grad_fn=<NllLossBackward>)\n",
      "0.684893012046814\n"
     ]
    },
    {
     "name": "stderr",
     "output_type": "stream",
     "text": [
      "\n",
      "Iteration:  51%|███████████████████████████████████▍                                 | 213/415 [02:37<02:36,  1.29it/s]\u001b[A"
     ]
    },
    {
     "name": "stdout",
     "output_type": "stream",
     "text": [
      "tensor(0.8236, device='cuda:0', grad_fn=<NllLossBackward>)\n",
      "0.823560893535614\n"
     ]
    },
    {
     "name": "stderr",
     "output_type": "stream",
     "text": [
      "\n",
      "Iteration:  52%|███████████████████████████████████▌                                 | 214/415 [02:38<02:35,  1.30it/s]\u001b[A"
     ]
    },
    {
     "name": "stdout",
     "output_type": "stream",
     "text": [
      "tensor(0.7708, device='cuda:0', grad_fn=<NllLossBackward>)\n",
      "0.7708136439323425\n"
     ]
    },
    {
     "name": "stderr",
     "output_type": "stream",
     "text": [
      "\n",
      "Iteration:  52%|███████████████████████████████████▋                                 | 215/415 [02:38<02:34,  1.29it/s]\u001b[A"
     ]
    },
    {
     "name": "stdout",
     "output_type": "stream",
     "text": [
      "tensor(0.6365, device='cuda:0', grad_fn=<NllLossBackward>)\n",
      "0.6364603638648987\n"
     ]
    },
    {
     "name": "stderr",
     "output_type": "stream",
     "text": [
      "\n",
      "Iteration:  52%|███████████████████████████████████▉                                 | 216/415 [02:39<02:33,  1.30it/s]\u001b[A"
     ]
    },
    {
     "name": "stdout",
     "output_type": "stream",
     "text": [
      "tensor(0.6999, device='cuda:0', grad_fn=<NllLossBackward>)\n",
      "0.6998567581176758\n"
     ]
    },
    {
     "name": "stderr",
     "output_type": "stream",
     "text": [
      "\n",
      "Iteration:  52%|████████████████████████████████████                                 | 217/415 [02:40<02:32,  1.30it/s]\u001b[A"
     ]
    },
    {
     "name": "stdout",
     "output_type": "stream",
     "text": [
      "tensor(0.6871, device='cuda:0', grad_fn=<NllLossBackward>)\n",
      "0.6870827078819275\n"
     ]
    },
    {
     "name": "stderr",
     "output_type": "stream",
     "text": [
      "\n",
      "Iteration:  53%|████████████████████████████████████▏                                | 218/415 [02:41<02:31,  1.30it/s]\u001b[A"
     ]
    },
    {
     "name": "stdout",
     "output_type": "stream",
     "text": [
      "tensor(0.6570, device='cuda:0', grad_fn=<NllLossBackward>)\n",
      "0.6569822430610657\n"
     ]
    },
    {
     "name": "stderr",
     "output_type": "stream",
     "text": [
      "\n",
      "Iteration:  53%|████████████████████████████████████▍                                | 219/415 [02:42<02:31,  1.29it/s]\u001b[A"
     ]
    },
    {
     "name": "stdout",
     "output_type": "stream",
     "text": [
      "tensor(0.7452, device='cuda:0', grad_fn=<NllLossBackward>)\n",
      "0.7451972961425781\n"
     ]
    },
    {
     "name": "stderr",
     "output_type": "stream",
     "text": [
      "\n",
      "Iteration:  53%|████████████████████████████████████▌                                | 220/415 [02:42<02:31,  1.29it/s]\u001b[A"
     ]
    },
    {
     "name": "stdout",
     "output_type": "stream",
     "text": [
      "tensor(0.6227, device='cuda:0', grad_fn=<NllLossBackward>)\n",
      "0.622714102268219\n"
     ]
    },
    {
     "name": "stderr",
     "output_type": "stream",
     "text": [
      "\n",
      "Iteration:  53%|████████████████████████████████████▋                                | 221/415 [02:43<02:30,  1.29it/s]\u001b[A"
     ]
    },
    {
     "name": "stdout",
     "output_type": "stream",
     "text": [
      "tensor(0.6465, device='cuda:0', grad_fn=<NllLossBackward>)\n",
      "0.6465357542037964\n"
     ]
    },
    {
     "name": "stderr",
     "output_type": "stream",
     "text": [
      "\n",
      "Iteration:  53%|████████████████████████████████████▉                                | 222/415 [02:44<02:28,  1.30it/s]\u001b[A"
     ]
    },
    {
     "name": "stdout",
     "output_type": "stream",
     "text": [
      "tensor(0.7625, device='cuda:0', grad_fn=<NllLossBackward>)\n",
      "0.7625032067298889\n"
     ]
    },
    {
     "name": "stderr",
     "output_type": "stream",
     "text": [
      "\n",
      "Iteration:  54%|█████████████████████████████████████                                | 223/415 [02:45<02:29,  1.29it/s]\u001b[A"
     ]
    },
    {
     "name": "stdout",
     "output_type": "stream",
     "text": [
      "tensor(0.6729, device='cuda:0', grad_fn=<NllLossBackward>)\n",
      "0.6728993654251099\n"
     ]
    },
    {
     "name": "stderr",
     "output_type": "stream",
     "text": [
      "\n",
      "Iteration:  54%|█████████████████████████████████████▏                               | 224/415 [02:45<02:29,  1.28it/s]\u001b[A"
     ]
    },
    {
     "name": "stdout",
     "output_type": "stream",
     "text": [
      "tensor(0.7414, device='cuda:0', grad_fn=<NllLossBackward>)\n",
      "0.741418182849884\n"
     ]
    },
    {
     "name": "stderr",
     "output_type": "stream",
     "text": [
      "\n",
      "Iteration:  54%|█████████████████████████████████████▍                               | 225/415 [02:46<02:31,  1.26it/s]\u001b[A"
     ]
    },
    {
     "name": "stdout",
     "output_type": "stream",
     "text": [
      "tensor(0.7755, device='cuda:0', grad_fn=<NllLossBackward>)\n",
      "0.7754886746406555\n"
     ]
    },
    {
     "name": "stderr",
     "output_type": "stream",
     "text": [
      "\n",
      "Iteration:  54%|█████████████████████████████████████▌                               | 226/415 [02:47<02:28,  1.27it/s]\u001b[A"
     ]
    },
    {
     "name": "stdout",
     "output_type": "stream",
     "text": [
      "tensor(0.6979, device='cuda:0', grad_fn=<NllLossBackward>)\n",
      "0.6978744268417358\n"
     ]
    },
    {
     "name": "stderr",
     "output_type": "stream",
     "text": [
      "\n",
      "Iteration:  55%|█████████████████████████████████████▋                               | 227/415 [02:48<02:25,  1.29it/s]\u001b[A"
     ]
    },
    {
     "name": "stdout",
     "output_type": "stream",
     "text": [
      "tensor(0.6658, device='cuda:0', grad_fn=<NllLossBackward>)\n",
      "0.6657692790031433\n"
     ]
    },
    {
     "name": "stderr",
     "output_type": "stream",
     "text": [
      "\n",
      "Iteration:  55%|█████████████████████████████████████▉                               | 228/415 [02:49<02:25,  1.29it/s]\u001b[A"
     ]
    },
    {
     "name": "stdout",
     "output_type": "stream",
     "text": [
      "tensor(0.6812, device='cuda:0', grad_fn=<NllLossBackward>)\n",
      "0.6812082529067993\n"
     ]
    },
    {
     "name": "stderr",
     "output_type": "stream",
     "text": [
      "\n",
      "Iteration:  55%|██████████████████████████████████████                               | 229/415 [02:49<02:25,  1.28it/s]\u001b[A"
     ]
    },
    {
     "name": "stdout",
     "output_type": "stream",
     "text": [
      "tensor(0.6225, device='cuda:0', grad_fn=<NllLossBackward>)\n",
      "0.6224579811096191\n"
     ]
    },
    {
     "name": "stderr",
     "output_type": "stream",
     "text": [
      "\n",
      "Iteration:  55%|██████████████████████████████████████▏                              | 230/415 [02:50<02:23,  1.29it/s]\u001b[A"
     ]
    },
    {
     "name": "stdout",
     "output_type": "stream",
     "text": [
      "tensor(0.7761, device='cuda:0', grad_fn=<NllLossBackward>)\n",
      "0.7760635614395142\n"
     ]
    },
    {
     "name": "stderr",
     "output_type": "stream",
     "text": [
      "\n",
      "Iteration:  56%|██████████████████████████████████████▍                              | 231/415 [02:51<02:22,  1.29it/s]\u001b[A"
     ]
    },
    {
     "name": "stdout",
     "output_type": "stream",
     "text": [
      "tensor(0.7041, device='cuda:0', grad_fn=<NllLossBackward>)\n",
      "0.7040558457374573\n"
     ]
    },
    {
     "name": "stderr",
     "output_type": "stream",
     "text": [
      "\n",
      "Iteration:  56%|██████████████████████████████████████▌                              | 232/415 [02:52<02:21,  1.29it/s]\u001b[A"
     ]
    },
    {
     "name": "stdout",
     "output_type": "stream",
     "text": [
      "tensor(0.6960, device='cuda:0', grad_fn=<NllLossBackward>)\n",
      "0.6959534287452698\n"
     ]
    },
    {
     "name": "stderr",
     "output_type": "stream",
     "text": [
      "\n",
      "Iteration:  56%|██████████████████████████████████████▋                              | 233/415 [02:52<02:20,  1.29it/s]\u001b[A"
     ]
    },
    {
     "name": "stdout",
     "output_type": "stream",
     "text": [
      "tensor(0.6532, device='cuda:0', grad_fn=<NllLossBackward>)\n",
      "0.6531627178192139\n"
     ]
    },
    {
     "name": "stderr",
     "output_type": "stream",
     "text": [
      "\n",
      "Iteration:  56%|██████████████████████████████████████▉                              | 234/415 [02:53<02:21,  1.28it/s]\u001b[A"
     ]
    },
    {
     "name": "stdout",
     "output_type": "stream",
     "text": [
      "tensor(0.7089, device='cuda:0', grad_fn=<NllLossBackward>)\n",
      "0.7088636159896851\n"
     ]
    },
    {
     "name": "stderr",
     "output_type": "stream",
     "text": [
      "\n",
      "Iteration:  57%|███████████████████████████████████████                              | 235/415 [02:54<02:21,  1.27it/s]\u001b[A"
     ]
    },
    {
     "name": "stdout",
     "output_type": "stream",
     "text": [
      "tensor(0.6719, device='cuda:0', grad_fn=<NllLossBackward>)\n",
      "0.6719463467597961\n"
     ]
    },
    {
     "name": "stderr",
     "output_type": "stream",
     "text": [
      "\n",
      "Iteration:  57%|███████████████████████████████████████▏                             | 236/415 [02:55<02:21,  1.26it/s]\u001b[A"
     ]
    },
    {
     "name": "stdout",
     "output_type": "stream",
     "text": [
      "tensor(0.6216, device='cuda:0', grad_fn=<NllLossBackward>)\n",
      "0.6216381788253784\n"
     ]
    },
    {
     "name": "stderr",
     "output_type": "stream",
     "text": [
      "\n",
      "Iteration:  57%|███████████████████████████████████████▍                             | 237/415 [02:56<02:22,  1.25it/s]\u001b[A"
     ]
    },
    {
     "name": "stdout",
     "output_type": "stream",
     "text": [
      "tensor(0.6693, device='cuda:0', grad_fn=<NllLossBackward>)\n",
      "0.6692743897438049\n"
     ]
    },
    {
     "name": "stderr",
     "output_type": "stream",
     "text": [
      "\n",
      "Iteration:  57%|███████████████████████████████████████▌                             | 238/415 [02:56<02:19,  1.27it/s]\u001b[A"
     ]
    },
    {
     "name": "stdout",
     "output_type": "stream",
     "text": [
      "tensor(0.6592, device='cuda:0', grad_fn=<NllLossBackward>)\n",
      "0.6592056155204773\n"
     ]
    },
    {
     "name": "stderr",
     "output_type": "stream",
     "text": [
      "\n",
      "Iteration:  58%|███████████████████████████████████████▋                             | 239/415 [02:57<02:18,  1.27it/s]\u001b[A"
     ]
    },
    {
     "name": "stdout",
     "output_type": "stream",
     "text": [
      "tensor(0.6498, device='cuda:0', grad_fn=<NllLossBackward>)\n",
      "0.6498300433158875\n"
     ]
    },
    {
     "name": "stderr",
     "output_type": "stream",
     "text": [
      "\n",
      "Iteration:  58%|███████████████████████████████████████▉                             | 240/415 [02:58<02:16,  1.28it/s]\u001b[A"
     ]
    },
    {
     "name": "stdout",
     "output_type": "stream",
     "text": [
      "tensor(0.5916, device='cuda:0', grad_fn=<NllLossBackward>)\n",
      "0.5916428565979004\n"
     ]
    },
    {
     "name": "stderr",
     "output_type": "stream",
     "text": [
      "\n",
      "Iteration:  58%|████████████████████████████████████████                             | 241/415 [02:59<02:16,  1.27it/s]\u001b[A"
     ]
    },
    {
     "name": "stdout",
     "output_type": "stream",
     "text": [
      "tensor(0.6035, device='cuda:0', grad_fn=<NllLossBackward>)\n",
      "0.6035275459289551\n"
     ]
    },
    {
     "name": "stderr",
     "output_type": "stream",
     "text": [
      "\n",
      "Iteration:  58%|████████████████████████████████████████▏                            | 242/415 [03:00<02:15,  1.27it/s]\u001b[A"
     ]
    },
    {
     "name": "stdout",
     "output_type": "stream",
     "text": [
      "tensor(0.6865, device='cuda:0', grad_fn=<NllLossBackward>)\n",
      "0.6864571571350098\n"
     ]
    },
    {
     "name": "stderr",
     "output_type": "stream",
     "text": [
      "\n",
      "Iteration:  59%|████████████████████████████████████████▍                            | 243/415 [03:00<02:16,  1.26it/s]\u001b[A"
     ]
    },
    {
     "name": "stdout",
     "output_type": "stream",
     "text": [
      "tensor(0.6399, device='cuda:0', grad_fn=<NllLossBackward>)\n",
      "0.6399282813072205\n"
     ]
    },
    {
     "name": "stderr",
     "output_type": "stream",
     "text": [
      "\n",
      "Iteration:  59%|████████████████████████████████████████▌                            | 244/415 [03:01<02:15,  1.26it/s]\u001b[A"
     ]
    },
    {
     "name": "stdout",
     "output_type": "stream",
     "text": [
      "tensor(0.7880, device='cuda:0', grad_fn=<NllLossBackward>)\n",
      "0.7880235910415649\n"
     ]
    },
    {
     "name": "stderr",
     "output_type": "stream",
     "text": [
      "\n",
      "Iteration:  59%|████████████████████████████████████████▋                            | 245/415 [03:02<02:15,  1.25it/s]\u001b[A"
     ]
    },
    {
     "name": "stdout",
     "output_type": "stream",
     "text": [
      "tensor(0.7247, device='cuda:0', grad_fn=<NllLossBackward>)\n",
      "0.7246989011764526\n"
     ]
    },
    {
     "name": "stderr",
     "output_type": "stream",
     "text": [
      "\n",
      "Iteration:  59%|████████████████████████████████████████▉                            | 246/415 [03:03<02:14,  1.26it/s]\u001b[A"
     ]
    },
    {
     "name": "stdout",
     "output_type": "stream",
     "text": [
      "tensor(0.5375, device='cuda:0', grad_fn=<NllLossBackward>)\n",
      "0.5375244617462158\n"
     ]
    },
    {
     "name": "stderr",
     "output_type": "stream",
     "text": [
      "\n",
      "Iteration:  60%|█████████████████████████████████████████                            | 247/415 [03:04<02:17,  1.22it/s]\u001b[A"
     ]
    },
    {
     "name": "stdout",
     "output_type": "stream",
     "text": [
      "tensor(0.7133, device='cuda:0', grad_fn=<NllLossBackward>)\n",
      "0.7133315205574036\n"
     ]
    },
    {
     "name": "stderr",
     "output_type": "stream",
     "text": [
      "\n",
      "Iteration:  60%|█████████████████████████████████████████▏                           | 248/415 [03:04<02:14,  1.24it/s]\u001b[A"
     ]
    },
    {
     "name": "stdout",
     "output_type": "stream",
     "text": [
      "tensor(0.6023, device='cuda:0', grad_fn=<NllLossBackward>)\n",
      "0.6023271679878235\n"
     ]
    },
    {
     "name": "stderr",
     "output_type": "stream",
     "text": [
      "\n",
      "Iteration:  60%|█████████████████████████████████████████▍                           | 249/415 [03:05<02:12,  1.25it/s]\u001b[A"
     ]
    },
    {
     "name": "stdout",
     "output_type": "stream",
     "text": [
      "tensor(0.5037, device='cuda:0', grad_fn=<NllLossBackward>)\n",
      "0.503705620765686\n"
     ]
    },
    {
     "name": "stderr",
     "output_type": "stream",
     "text": [
      "\n",
      "Iteration:  60%|█████████████████████████████████████████▌                           | 250/415 [03:06<02:11,  1.26it/s]\u001b[A"
     ]
    },
    {
     "name": "stdout",
     "output_type": "stream",
     "text": [
      "tensor(0.6187, device='cuda:0', grad_fn=<NllLossBackward>)\n",
      "0.6186972260475159\n"
     ]
    },
    {
     "name": "stderr",
     "output_type": "stream",
     "text": [
      "\n",
      "Iteration:  60%|█████████████████████████████████████████▋                           | 251/415 [03:07<02:11,  1.25it/s]\u001b[A"
     ]
    },
    {
     "name": "stdout",
     "output_type": "stream",
     "text": [
      "tensor(0.7117, device='cuda:0', grad_fn=<NllLossBackward>)\n",
      "0.7117212414741516\n"
     ]
    },
    {
     "name": "stderr",
     "output_type": "stream",
     "text": [
      "\n",
      "Iteration:  61%|█████████████████████████████████████████▉                           | 252/415 [03:08<02:09,  1.25it/s]\u001b[A"
     ]
    },
    {
     "name": "stdout",
     "output_type": "stream",
     "text": [
      "tensor(0.5709, device='cuda:0', grad_fn=<NllLossBackward>)\n",
      "0.5708722472190857\n"
     ]
    },
    {
     "name": "stderr",
     "output_type": "stream",
     "text": [
      "\n",
      "Iteration:  61%|██████████████████████████████████████████                           | 253/415 [03:08<02:09,  1.25it/s]\u001b[A"
     ]
    },
    {
     "name": "stdout",
     "output_type": "stream",
     "text": [
      "tensor(0.6484, device='cuda:0', grad_fn=<NllLossBackward>)\n",
      "0.6483763456344604\n"
     ]
    },
    {
     "name": "stderr",
     "output_type": "stream",
     "text": [
      "\n",
      "Iteration:  61%|██████████████████████████████████████████▏                          | 254/415 [03:09<02:09,  1.24it/s]\u001b[A"
     ]
    },
    {
     "name": "stdout",
     "output_type": "stream",
     "text": [
      "tensor(0.5282, device='cuda:0', grad_fn=<NllLossBackward>)\n",
      "0.528240442276001\n"
     ]
    },
    {
     "name": "stderr",
     "output_type": "stream",
     "text": [
      "\n",
      "Iteration:  61%|██████████████████████████████████████████▍                          | 255/415 [03:10<02:08,  1.25it/s]\u001b[A"
     ]
    },
    {
     "name": "stdout",
     "output_type": "stream",
     "text": [
      "tensor(0.5848, device='cuda:0', grad_fn=<NllLossBackward>)\n",
      "0.5847558975219727\n"
     ]
    },
    {
     "name": "stderr",
     "output_type": "stream",
     "text": [
      "\n",
      "Iteration:  62%|██████████████████████████████████████████▌                          | 256/415 [03:11<02:06,  1.25it/s]\u001b[A"
     ]
    },
    {
     "name": "stdout",
     "output_type": "stream",
     "text": [
      "tensor(0.6712, device='cuda:0', grad_fn=<NllLossBackward>)\n",
      "0.6711634397506714\n"
     ]
    },
    {
     "name": "stderr",
     "output_type": "stream",
     "text": [
      "\n",
      "Iteration:  62%|██████████████████████████████████████████▋                          | 257/415 [03:12<02:05,  1.26it/s]\u001b[A"
     ]
    },
    {
     "name": "stdout",
     "output_type": "stream",
     "text": [
      "tensor(0.5965, device='cuda:0', grad_fn=<NllLossBackward>)\n",
      "0.596505343914032\n"
     ]
    },
    {
     "name": "stderr",
     "output_type": "stream",
     "text": [
      "\n",
      "Iteration:  62%|██████████████████████████████████████████▉                          | 258/415 [03:12<02:03,  1.27it/s]\u001b[A"
     ]
    },
    {
     "name": "stdout",
     "output_type": "stream",
     "text": [
      "tensor(0.5047, device='cuda:0', grad_fn=<NllLossBackward>)\n",
      "0.5047129392623901\n"
     ]
    },
    {
     "name": "stderr",
     "output_type": "stream",
     "text": [
      "\n",
      "Iteration:  62%|███████████████████████████████████████████                          | 259/415 [03:13<02:02,  1.27it/s]\u001b[A"
     ]
    },
    {
     "name": "stdout",
     "output_type": "stream",
     "text": [
      "tensor(0.7402, device='cuda:0', grad_fn=<NllLossBackward>)\n",
      "0.740177571773529\n"
     ]
    },
    {
     "name": "stderr",
     "output_type": "stream",
     "text": [
      "\n",
      "Iteration:  63%|███████████████████████████████████████████▏                         | 260/415 [03:14<02:01,  1.27it/s]\u001b[A"
     ]
    },
    {
     "name": "stdout",
     "output_type": "stream",
     "text": [
      "tensor(0.6153, device='cuda:0', grad_fn=<NllLossBackward>)\n",
      "0.6153445839881897\n"
     ]
    },
    {
     "name": "stderr",
     "output_type": "stream",
     "text": [
      "\n",
      "Iteration:  63%|███████████████████████████████████████████▍                         | 261/415 [03:15<02:01,  1.26it/s]\u001b[A"
     ]
    },
    {
     "name": "stdout",
     "output_type": "stream",
     "text": [
      "tensor(0.7123, device='cuda:0', grad_fn=<NllLossBackward>)\n",
      "0.7122832536697388\n"
     ]
    },
    {
     "name": "stderr",
     "output_type": "stream",
     "text": [
      "\n",
      "Iteration:  63%|███████████████████████████████████████████▌                         | 262/415 [03:15<02:01,  1.26it/s]\u001b[A"
     ]
    },
    {
     "name": "stdout",
     "output_type": "stream",
     "text": [
      "tensor(0.5167, device='cuda:0', grad_fn=<NllLossBackward>)\n",
      "0.5166721343994141\n"
     ]
    },
    {
     "name": "stderr",
     "output_type": "stream",
     "text": [
      "\n",
      "Iteration:  63%|███████████████████████████████████████████▋                         | 263/415 [03:16<02:00,  1.26it/s]\u001b[A"
     ]
    },
    {
     "name": "stdout",
     "output_type": "stream",
     "text": [
      "tensor(0.5164, device='cuda:0', grad_fn=<NllLossBackward>)\n",
      "0.516354501247406\n"
     ]
    },
    {
     "name": "stderr",
     "output_type": "stream",
     "text": [
      "\n",
      "Iteration:  64%|███████████████████████████████████████████▉                         | 264/415 [03:17<01:59,  1.26it/s]\u001b[A"
     ]
    },
    {
     "name": "stdout",
     "output_type": "stream",
     "text": [
      "tensor(0.6191, device='cuda:0', grad_fn=<NllLossBackward>)\n",
      "0.6191191673278809\n"
     ]
    },
    {
     "name": "stderr",
     "output_type": "stream",
     "text": [
      "\n",
      "Iteration:  64%|████████████████████████████████████████████                         | 265/415 [03:18<01:57,  1.28it/s]\u001b[A"
     ]
    },
    {
     "name": "stdout",
     "output_type": "stream",
     "text": [
      "tensor(0.7136, device='cuda:0', grad_fn=<NllLossBackward>)\n",
      "0.713591456413269\n"
     ]
    },
    {
     "name": "stderr",
     "output_type": "stream",
     "text": [
      "\n",
      "Iteration:  64%|████████████████████████████████████████████▏                        | 266/415 [03:19<01:56,  1.28it/s]\u001b[A"
     ]
    },
    {
     "name": "stdout",
     "output_type": "stream",
     "text": [
      "tensor(0.5686, device='cuda:0', grad_fn=<NllLossBackward>)\n",
      "0.5685718059539795\n"
     ]
    },
    {
     "name": "stderr",
     "output_type": "stream",
     "text": [
      "\n",
      "Iteration:  64%|████████████████████████████████████████████▍                        | 267/415 [03:19<01:58,  1.25it/s]\u001b[A"
     ]
    },
    {
     "name": "stdout",
     "output_type": "stream",
     "text": [
      "tensor(0.4999, device='cuda:0', grad_fn=<NllLossBackward>)\n",
      "0.49992457032203674\n"
     ]
    },
    {
     "name": "stderr",
     "output_type": "stream",
     "text": [
      "\n",
      "Iteration:  65%|████████████████████████████████████████████▌                        | 268/415 [03:20<01:58,  1.24it/s]\u001b[A"
     ]
    },
    {
     "name": "stdout",
     "output_type": "stream",
     "text": [
      "tensor(0.5942, device='cuda:0', grad_fn=<NllLossBackward>)\n",
      "0.5941767692565918\n"
     ]
    },
    {
     "name": "stderr",
     "output_type": "stream",
     "text": [
      "\n",
      "Iteration:  65%|████████████████████████████████████████████▋                        | 269/415 [03:21<01:58,  1.24it/s]\u001b[A"
     ]
    },
    {
     "name": "stdout",
     "output_type": "stream",
     "text": [
      "tensor(0.6198, device='cuda:0', grad_fn=<NllLossBackward>)\n",
      "0.6198249459266663\n"
     ]
    },
    {
     "name": "stderr",
     "output_type": "stream",
     "text": [
      "\n",
      "Iteration:  65%|████████████████████████████████████████████▉                        | 270/415 [03:22<01:59,  1.21it/s]\u001b[A"
     ]
    },
    {
     "name": "stdout",
     "output_type": "stream",
     "text": [
      "tensor(0.5048, device='cuda:0', grad_fn=<NllLossBackward>)\n",
      "0.5047534108161926\n"
     ]
    },
    {
     "name": "stderr",
     "output_type": "stream",
     "text": [
      "\n",
      "Iteration:  65%|█████████████████████████████████████████████                        | 271/415 [03:23<01:57,  1.23it/s]\u001b[A"
     ]
    },
    {
     "name": "stdout",
     "output_type": "stream",
     "text": [
      "tensor(0.7201, device='cuda:0', grad_fn=<NllLossBackward>)\n",
      "0.7201403379440308\n"
     ]
    },
    {
     "name": "stderr",
     "output_type": "stream",
     "text": [
      "\n",
      "Iteration:  66%|█████████████████████████████████████████████▏                       | 272/415 [03:24<01:54,  1.25it/s]\u001b[A"
     ]
    },
    {
     "name": "stdout",
     "output_type": "stream",
     "text": [
      "tensor(0.5181, device='cuda:0', grad_fn=<NllLossBackward>)\n",
      "0.5180529356002808\n"
     ]
    },
    {
     "name": "stderr",
     "output_type": "stream",
     "text": [
      "\n",
      "Iteration:  66%|█████████████████████████████████████████████▍                       | 273/415 [03:24<01:53,  1.25it/s]\u001b[A"
     ]
    },
    {
     "name": "stdout",
     "output_type": "stream",
     "text": [
      "tensor(0.5388, device='cuda:0', grad_fn=<NllLossBackward>)\n",
      "0.5388159155845642\n"
     ]
    },
    {
     "name": "stderr",
     "output_type": "stream",
     "text": [
      "\n",
      "Iteration:  66%|█████████████████████████████████████████████▌                       | 274/415 [03:25<01:52,  1.25it/s]\u001b[A"
     ]
    },
    {
     "name": "stdout",
     "output_type": "stream",
     "text": [
      "tensor(0.5908, device='cuda:0', grad_fn=<NllLossBackward>)\n",
      "0.5907692909240723\n"
     ]
    },
    {
     "name": "stderr",
     "output_type": "stream",
     "text": [
      "\n",
      "Iteration:  66%|█████████████████████████████████████████████▋                       | 275/415 [03:26<01:52,  1.25it/s]\u001b[A"
     ]
    },
    {
     "name": "stdout",
     "output_type": "stream",
     "text": [
      "tensor(0.6014, device='cuda:0', grad_fn=<NllLossBackward>)\n",
      "0.6013689637184143\n"
     ]
    },
    {
     "name": "stderr",
     "output_type": "stream",
     "text": [
      "\n",
      "Iteration:  67%|█████████████████████████████████████████████▉                       | 276/415 [03:27<01:51,  1.25it/s]\u001b[A"
     ]
    },
    {
     "name": "stdout",
     "output_type": "stream",
     "text": [
      "tensor(0.5013, device='cuda:0', grad_fn=<NllLossBackward>)\n",
      "0.5013450980186462\n"
     ]
    },
    {
     "name": "stderr",
     "output_type": "stream",
     "text": [
      "\n",
      "Iteration:  67%|██████████████████████████████████████████████                       | 277/415 [03:27<01:49,  1.26it/s]\u001b[A"
     ]
    },
    {
     "name": "stdout",
     "output_type": "stream",
     "text": [
      "tensor(0.5812, device='cuda:0', grad_fn=<NllLossBackward>)\n",
      "0.5811595916748047\n"
     ]
    },
    {
     "name": "stderr",
     "output_type": "stream",
     "text": [
      "\n",
      "Iteration:  67%|██████████████████████████████████████████████▏                      | 278/415 [03:28<01:48,  1.27it/s]\u001b[A"
     ]
    },
    {
     "name": "stdout",
     "output_type": "stream",
     "text": [
      "tensor(0.5275, device='cuda:0', grad_fn=<NllLossBackward>)\n",
      "0.5274989604949951\n"
     ]
    },
    {
     "name": "stderr",
     "output_type": "stream",
     "text": [
      "\n",
      "Iteration:  67%|██████████████████████████████████████████████▍                      | 279/415 [03:29<01:48,  1.26it/s]\u001b[A"
     ]
    },
    {
     "name": "stdout",
     "output_type": "stream",
     "text": [
      "tensor(0.4636, device='cuda:0', grad_fn=<NllLossBackward>)\n",
      "0.46361246705055237\n"
     ]
    },
    {
     "name": "stderr",
     "output_type": "stream",
     "text": [
      "\n",
      "Iteration:  67%|██████████████████████████████████████████████▌                      | 280/415 [03:30<01:46,  1.26it/s]\u001b[A"
     ]
    },
    {
     "name": "stdout",
     "output_type": "stream",
     "text": [
      "tensor(0.6345, device='cuda:0', grad_fn=<NllLossBackward>)\n",
      "0.6344841122627258\n"
     ]
    },
    {
     "name": "stderr",
     "output_type": "stream",
     "text": [
      "\n",
      "Iteration:  68%|██████████████████████████████████████████████▋                      | 281/415 [03:31<01:46,  1.26it/s]\u001b[A"
     ]
    },
    {
     "name": "stdout",
     "output_type": "stream",
     "text": [
      "tensor(0.6507, device='cuda:0', grad_fn=<NllLossBackward>)\n",
      "0.6507320404052734\n"
     ]
    },
    {
     "name": "stderr",
     "output_type": "stream",
     "text": [
      "\n",
      "Iteration:  68%|██████████████████████████████████████████████▉                      | 282/415 [03:31<01:46,  1.24it/s]\u001b[A"
     ]
    },
    {
     "name": "stdout",
     "output_type": "stream",
     "text": [
      "tensor(0.5278, device='cuda:0', grad_fn=<NllLossBackward>)\n",
      "0.5278266668319702\n"
     ]
    },
    {
     "name": "stderr",
     "output_type": "stream",
     "text": [
      "\n",
      "Iteration:  68%|███████████████████████████████████████████████                      | 283/415 [03:32<01:44,  1.26it/s]\u001b[A"
     ]
    },
    {
     "name": "stdout",
     "output_type": "stream",
     "text": [
      "tensor(0.5457, device='cuda:0', grad_fn=<NllLossBackward>)\n",
      "0.5457068085670471\n"
     ]
    },
    {
     "name": "stderr",
     "output_type": "stream",
     "text": [
      "\n",
      "Iteration:  68%|███████████████████████████████████████████████▏                     | 284/415 [03:33<01:43,  1.26it/s]\u001b[A"
     ]
    },
    {
     "name": "stdout",
     "output_type": "stream",
     "text": [
      "tensor(0.5394, device='cuda:0', grad_fn=<NllLossBackward>)\n",
      "0.539376437664032\n"
     ]
    },
    {
     "name": "stderr",
     "output_type": "stream",
     "text": [
      "\n",
      "Iteration:  69%|███████████████████████████████████████████████▍                     | 285/415 [03:34<01:47,  1.21it/s]\u001b[A"
     ]
    },
    {
     "name": "stdout",
     "output_type": "stream",
     "text": [
      "tensor(0.5515, device='cuda:0', grad_fn=<NllLossBackward>)\n",
      "0.5515282154083252\n"
     ]
    },
    {
     "name": "stderr",
     "output_type": "stream",
     "text": [
      "\n",
      "Iteration:  69%|███████████████████████████████████████████████▌                     | 286/415 [03:35<01:45,  1.23it/s]\u001b[A"
     ]
    },
    {
     "name": "stdout",
     "output_type": "stream",
     "text": [
      "tensor(0.6872, device='cuda:0', grad_fn=<NllLossBackward>)\n",
      "0.6871758103370667\n"
     ]
    },
    {
     "name": "stderr",
     "output_type": "stream",
     "text": [
      "\n",
      "Iteration:  69%|███████████████████████████████████████████████▋                     | 287/415 [03:36<01:43,  1.23it/s]\u001b[A"
     ]
    },
    {
     "name": "stdout",
     "output_type": "stream",
     "text": [
      "tensor(0.7532, device='cuda:0', grad_fn=<NllLossBackward>)\n",
      "0.7532311081886292\n"
     ]
    },
    {
     "name": "stderr",
     "output_type": "stream",
     "text": [
      "\n",
      "Iteration:  69%|███████████████████████████████████████████████▉                     | 288/415 [03:36<01:42,  1.24it/s]\u001b[A"
     ]
    },
    {
     "name": "stdout",
     "output_type": "stream",
     "text": [
      "tensor(0.4605, device='cuda:0', grad_fn=<NllLossBackward>)\n",
      "0.46046632528305054\n"
     ]
    },
    {
     "name": "stderr",
     "output_type": "stream",
     "text": [
      "\n",
      "Iteration:  70%|████████████████████████████████████████████████                     | 289/415 [03:37<01:40,  1.25it/s]\u001b[A"
     ]
    },
    {
     "name": "stdout",
     "output_type": "stream",
     "text": [
      "tensor(0.4500, device='cuda:0', grad_fn=<NllLossBackward>)\n",
      "0.45002761483192444\n"
     ]
    },
    {
     "name": "stderr",
     "output_type": "stream",
     "text": [
      "\n",
      "Iteration:  70%|████████████████████████████████████████████████▏                    | 290/415 [03:38<01:39,  1.26it/s]\u001b[A"
     ]
    },
    {
     "name": "stdout",
     "output_type": "stream",
     "text": [
      "tensor(0.6119, device='cuda:0', grad_fn=<NllLossBackward>)\n",
      "0.6118527054786682\n"
     ]
    },
    {
     "name": "stderr",
     "output_type": "stream",
     "text": [
      "\n",
      "Iteration:  70%|████████████████████████████████████████████████▍                    | 291/415 [03:39<01:38,  1.25it/s]\u001b[A"
     ]
    },
    {
     "name": "stdout",
     "output_type": "stream",
     "text": [
      "tensor(0.5543, device='cuda:0', grad_fn=<NllLossBackward>)\n",
      "0.5543127655982971\n"
     ]
    },
    {
     "name": "stderr",
     "output_type": "stream",
     "text": [
      "\n",
      "Iteration:  70%|████████████████████████████████████████████████▌                    | 292/415 [03:40<01:39,  1.24it/s]\u001b[A"
     ]
    },
    {
     "name": "stdout",
     "output_type": "stream",
     "text": [
      "tensor(0.6153, device='cuda:0', grad_fn=<NllLossBackward>)\n",
      "0.6153198480606079\n"
     ]
    },
    {
     "name": "stderr",
     "output_type": "stream",
     "text": [
      "\n",
      "Iteration:  71%|████████████████████████████████████████████████▋                    | 293/415 [03:40<01:37,  1.25it/s]\u001b[A"
     ]
    },
    {
     "name": "stdout",
     "output_type": "stream",
     "text": [
      "tensor(0.5854, device='cuda:0', grad_fn=<NllLossBackward>)\n",
      "0.5853691697120667\n"
     ]
    },
    {
     "name": "stderr",
     "output_type": "stream",
     "text": [
      "\n",
      "Iteration:  71%|████████████████████████████████████████████████▉                    | 294/415 [03:41<01:36,  1.25it/s]\u001b[A"
     ]
    },
    {
     "name": "stdout",
     "output_type": "stream",
     "text": [
      "tensor(0.5546, device='cuda:0', grad_fn=<NllLossBackward>)\n",
      "0.5545986294746399\n"
     ]
    },
    {
     "name": "stderr",
     "output_type": "stream",
     "text": [
      "\n",
      "Iteration:  71%|█████████████████████████████████████████████████                    | 295/415 [03:42<01:35,  1.26it/s]\u001b[A"
     ]
    },
    {
     "name": "stdout",
     "output_type": "stream",
     "text": [
      "tensor(0.6569, device='cuda:0', grad_fn=<NllLossBackward>)\n",
      "0.6569214463233948\n"
     ]
    },
    {
     "name": "stderr",
     "output_type": "stream",
     "text": [
      "\n",
      "Iteration:  71%|█████████████████████████████████████████████████▏                   | 296/415 [03:43<01:34,  1.25it/s]\u001b[A"
     ]
    },
    {
     "name": "stdout",
     "output_type": "stream",
     "text": [
      "tensor(0.6294, device='cuda:0', grad_fn=<NllLossBackward>)\n",
      "0.6294304132461548\n"
     ]
    },
    {
     "name": "stderr",
     "output_type": "stream",
     "text": [
      "\n",
      "Iteration:  72%|█████████████████████████████████████████████████▍                   | 297/415 [03:43<01:33,  1.26it/s]\u001b[A"
     ]
    },
    {
     "name": "stdout",
     "output_type": "stream",
     "text": [
      "tensor(0.6214, device='cuda:0', grad_fn=<NllLossBackward>)\n",
      "0.6214361786842346\n"
     ]
    },
    {
     "name": "stderr",
     "output_type": "stream",
     "text": [
      "\n",
      "Iteration:  72%|█████████████████████████████████████████████████▌                   | 298/415 [03:44<01:33,  1.26it/s]\u001b[A"
     ]
    },
    {
     "name": "stdout",
     "output_type": "stream",
     "text": [
      "tensor(0.6421, device='cuda:0', grad_fn=<NllLossBackward>)\n",
      "0.6421013474464417\n"
     ]
    },
    {
     "name": "stderr",
     "output_type": "stream",
     "text": [
      "\n",
      "Iteration:  72%|█████████████████████████████████████████████████▋                   | 299/415 [03:45<01:31,  1.26it/s]\u001b[A"
     ]
    },
    {
     "name": "stdout",
     "output_type": "stream",
     "text": [
      "tensor(0.6428, device='cuda:0', grad_fn=<NllLossBackward>)\n",
      "0.6427926421165466\n"
     ]
    },
    {
     "name": "stderr",
     "output_type": "stream",
     "text": [
      "\n",
      "Iteration:  72%|█████████████████████████████████████████████████▉                   | 300/415 [03:46<01:31,  1.25it/s]\u001b[A"
     ]
    },
    {
     "name": "stdout",
     "output_type": "stream",
     "text": [
      "tensor(0.7118, device='cuda:0', grad_fn=<NllLossBackward>)\n",
      "0.711772084236145\n"
     ]
    },
    {
     "name": "stderr",
     "output_type": "stream",
     "text": [
      "\n",
      "Iteration:  73%|██████████████████████████████████████████████████                   | 301/415 [03:47<01:30,  1.25it/s]\u001b[A"
     ]
    },
    {
     "name": "stdout",
     "output_type": "stream",
     "text": [
      "tensor(0.5810, device='cuda:0', grad_fn=<NllLossBackward>)\n",
      "0.5809599757194519\n"
     ]
    },
    {
     "name": "stderr",
     "output_type": "stream",
     "text": [
      "\n",
      "Iteration:  73%|██████████████████████████████████████████████████▏                  | 302/415 [03:47<01:29,  1.26it/s]\u001b[A"
     ]
    },
    {
     "name": "stdout",
     "output_type": "stream",
     "text": [
      "tensor(0.6426, device='cuda:0', grad_fn=<NllLossBackward>)\n",
      "0.642605185508728\n"
     ]
    },
    {
     "name": "stderr",
     "output_type": "stream",
     "text": [
      "\n",
      "Iteration:  73%|██████████████████████████████████████████████████▍                  | 303/415 [03:48<01:28,  1.26it/s]\u001b[A"
     ]
    },
    {
     "name": "stdout",
     "output_type": "stream",
     "text": [
      "tensor(0.6706, device='cuda:0', grad_fn=<NllLossBackward>)\n",
      "0.670625627040863\n"
     ]
    },
    {
     "name": "stderr",
     "output_type": "stream",
     "text": [
      "\n",
      "Iteration:  73%|██████████████████████████████████████████████████▌                  | 304/415 [03:49<01:28,  1.26it/s]\u001b[A"
     ]
    },
    {
     "name": "stdout",
     "output_type": "stream",
     "text": [
      "tensor(0.6522, device='cuda:0', grad_fn=<NllLossBackward>)\n",
      "0.6521903872489929\n"
     ]
    },
    {
     "name": "stderr",
     "output_type": "stream",
     "text": [
      "\n",
      "Iteration:  73%|██████████████████████████████████████████████████▋                  | 305/415 [03:50<01:26,  1.27it/s]\u001b[A"
     ]
    },
    {
     "name": "stdout",
     "output_type": "stream",
     "text": [
      "tensor(0.5467, device='cuda:0', grad_fn=<NllLossBackward>)\n",
      "0.5467011332511902\n"
     ]
    },
    {
     "name": "stderr",
     "output_type": "stream",
     "text": [
      "\n",
      "Iteration:  74%|██████████████████████████████████████████████████▉                  | 306/415 [03:51<01:25,  1.28it/s]\u001b[A"
     ]
    },
    {
     "name": "stdout",
     "output_type": "stream",
     "text": [
      "tensor(0.6319, device='cuda:0', grad_fn=<NllLossBackward>)\n",
      "0.6319196224212646\n"
     ]
    },
    {
     "name": "stderr",
     "output_type": "stream",
     "text": [
      "\n",
      "Iteration:  74%|███████████████████████████████████████████████████                  | 307/415 [03:51<01:24,  1.28it/s]\u001b[A"
     ]
    },
    {
     "name": "stdout",
     "output_type": "stream",
     "text": [
      "tensor(0.6719, device='cuda:0', grad_fn=<NllLossBackward>)\n",
      "0.6718549728393555\n"
     ]
    },
    {
     "name": "stderr",
     "output_type": "stream",
     "text": [
      "\n",
      "Iteration:  74%|███████████████████████████████████████████████████▏                 | 308/415 [03:52<01:23,  1.28it/s]\u001b[A"
     ]
    },
    {
     "name": "stdout",
     "output_type": "stream",
     "text": [
      "tensor(0.6640, device='cuda:0', grad_fn=<NllLossBackward>)\n",
      "0.6640291213989258\n"
     ]
    },
    {
     "name": "stderr",
     "output_type": "stream",
     "text": [
      "\n",
      "Iteration:  74%|███████████████████████████████████████████████████▍                 | 309/415 [03:53<01:23,  1.27it/s]\u001b[A"
     ]
    },
    {
     "name": "stdout",
     "output_type": "stream",
     "text": [
      "tensor(0.6351, device='cuda:0', grad_fn=<NllLossBackward>)\n",
      "0.6351032257080078\n"
     ]
    },
    {
     "name": "stderr",
     "output_type": "stream",
     "text": [
      "\n",
      "Iteration:  75%|███████████████████████████████████████████████████▌                 | 310/415 [03:54<01:23,  1.26it/s]\u001b[A"
     ]
    },
    {
     "name": "stdout",
     "output_type": "stream",
     "text": [
      "tensor(0.5899, device='cuda:0', grad_fn=<NllLossBackward>)\n",
      "0.5898791551589966\n"
     ]
    },
    {
     "name": "stderr",
     "output_type": "stream",
     "text": [
      "\n",
      "Iteration:  75%|███████████████████████████████████████████████████▋                 | 311/415 [03:55<01:22,  1.25it/s]\u001b[A"
     ]
    },
    {
     "name": "stdout",
     "output_type": "stream",
     "text": [
      "tensor(0.7441, device='cuda:0', grad_fn=<NllLossBackward>)\n",
      "0.7441427707672119\n"
     ]
    },
    {
     "name": "stderr",
     "output_type": "stream",
     "text": [
      "\n",
      "Iteration:  75%|███████████████████████████████████████████████████▊                 | 312/415 [03:55<01:21,  1.27it/s]\u001b[A"
     ]
    },
    {
     "name": "stdout",
     "output_type": "stream",
     "text": [
      "tensor(0.6008, device='cuda:0', grad_fn=<NllLossBackward>)\n",
      "0.6008371710777283\n"
     ]
    },
    {
     "name": "stderr",
     "output_type": "stream",
     "text": [
      "\n",
      "Iteration:  75%|████████████████████████████████████████████████████                 | 313/415 [03:56<01:21,  1.26it/s]\u001b[A"
     ]
    },
    {
     "name": "stdout",
     "output_type": "stream",
     "text": [
      "tensor(0.6240, device='cuda:0', grad_fn=<NllLossBackward>)\n",
      "0.6239625811576843\n"
     ]
    },
    {
     "name": "stderr",
     "output_type": "stream",
     "text": [
      "\n",
      "Iteration:  76%|████████████████████████████████████████████████████▏                | 314/415 [03:57<01:19,  1.26it/s]\u001b[A"
     ]
    },
    {
     "name": "stdout",
     "output_type": "stream",
     "text": [
      "tensor(0.5823, device='cuda:0', grad_fn=<NllLossBackward>)\n",
      "0.582331120967865\n"
     ]
    },
    {
     "name": "stderr",
     "output_type": "stream",
     "text": [
      "\n",
      "Iteration:  76%|████████████████████████████████████████████████████▎                | 315/415 [03:58<01:18,  1.27it/s]\u001b[A"
     ]
    },
    {
     "name": "stdout",
     "output_type": "stream",
     "text": [
      "tensor(0.5116, device='cuda:0', grad_fn=<NllLossBackward>)\n",
      "0.5116032958030701\n"
     ]
    },
    {
     "name": "stderr",
     "output_type": "stream",
     "text": [
      "\n",
      "Iteration:  76%|████████████████████████████████████████████████████▌                | 316/415 [03:58<01:17,  1.27it/s]\u001b[A"
     ]
    },
    {
     "name": "stdout",
     "output_type": "stream",
     "text": [
      "tensor(0.6425, device='cuda:0', grad_fn=<NllLossBackward>)\n",
      "0.6425086259841919\n"
     ]
    },
    {
     "name": "stderr",
     "output_type": "stream",
     "text": [
      "\n",
      "Iteration:  76%|████████████████████████████████████████████████████▋                | 317/415 [03:59<01:17,  1.26it/s]\u001b[A"
     ]
    },
    {
     "name": "stdout",
     "output_type": "stream",
     "text": [
      "tensor(0.5359, device='cuda:0', grad_fn=<NllLossBackward>)\n",
      "0.5358569622039795\n"
     ]
    },
    {
     "name": "stderr",
     "output_type": "stream",
     "text": [
      "\n",
      "Iteration:  77%|████████████████████████████████████████████████████▊                | 318/415 [04:00<01:16,  1.26it/s]\u001b[A"
     ]
    },
    {
     "name": "stdout",
     "output_type": "stream",
     "text": [
      "tensor(0.4930, device='cuda:0', grad_fn=<NllLossBackward>)\n",
      "0.4930199980735779\n"
     ]
    },
    {
     "name": "stderr",
     "output_type": "stream",
     "text": [
      "\n",
      "Iteration:  77%|█████████████████████████████████████████████████████                | 319/415 [04:01<01:16,  1.26it/s]\u001b[A"
     ]
    },
    {
     "name": "stdout",
     "output_type": "stream",
     "text": [
      "tensor(0.6510, device='cuda:0', grad_fn=<NllLossBackward>)\n",
      "0.6510103344917297\n"
     ]
    },
    {
     "name": "stderr",
     "output_type": "stream",
     "text": [
      "\n",
      "Iteration:  77%|█████████████████████████████████████████████████████▏               | 320/415 [04:02<01:18,  1.21it/s]\u001b[A"
     ]
    },
    {
     "name": "stdout",
     "output_type": "stream",
     "text": [
      "tensor(0.5002, device='cuda:0', grad_fn=<NllLossBackward>)\n",
      "0.5002279281616211\n"
     ]
    },
    {
     "name": "stderr",
     "output_type": "stream",
     "text": [
      "\n",
      "Iteration:  77%|█████████████████████████████████████████████████████▎               | 321/415 [04:03<01:16,  1.22it/s]\u001b[A"
     ]
    },
    {
     "name": "stdout",
     "output_type": "stream",
     "text": [
      "tensor(0.6163, device='cuda:0', grad_fn=<NllLossBackward>)\n",
      "0.6163409948348999\n"
     ]
    },
    {
     "name": "stderr",
     "output_type": "stream",
     "text": [
      "\n",
      "Iteration:  78%|█████████████████████████████████████████████████████▌               | 322/415 [04:03<01:15,  1.23it/s]\u001b[A"
     ]
    },
    {
     "name": "stdout",
     "output_type": "stream",
     "text": [
      "tensor(0.5639, device='cuda:0', grad_fn=<NllLossBackward>)\n",
      "0.563928484916687\n"
     ]
    },
    {
     "name": "stderr",
     "output_type": "stream",
     "text": [
      "\n",
      "Iteration:  78%|█████████████████████████████████████████████████████▋               | 323/415 [04:04<01:14,  1.24it/s]\u001b[A"
     ]
    },
    {
     "name": "stdout",
     "output_type": "stream",
     "text": [
      "tensor(0.4915, device='cuda:0', grad_fn=<NllLossBackward>)\n",
      "0.491455078125\n"
     ]
    },
    {
     "name": "stderr",
     "output_type": "stream",
     "text": [
      "\n",
      "Iteration:  78%|█████████████████████████████████████████████████████▊               | 324/415 [04:05<01:12,  1.25it/s]\u001b[A"
     ]
    },
    {
     "name": "stdout",
     "output_type": "stream",
     "text": [
      "tensor(0.5528, device='cuda:0', grad_fn=<NllLossBackward>)\n",
      "0.5528362989425659\n"
     ]
    },
    {
     "name": "stderr",
     "output_type": "stream",
     "text": [
      "\n",
      "Iteration:  78%|██████████████████████████████████████████████████████               | 325/415 [04:06<01:11,  1.25it/s]\u001b[A"
     ]
    },
    {
     "name": "stdout",
     "output_type": "stream",
     "text": [
      "tensor(0.4783, device='cuda:0', grad_fn=<NllLossBackward>)\n",
      "0.4783051013946533\n"
     ]
    },
    {
     "name": "stderr",
     "output_type": "stream",
     "text": [
      "\n",
      "Iteration:  79%|██████████████████████████████████████████████████████▏              | 326/415 [04:07<01:10,  1.26it/s]\u001b[A"
     ]
    },
    {
     "name": "stdout",
     "output_type": "stream",
     "text": [
      "tensor(0.5653, device='cuda:0', grad_fn=<NllLossBackward>)\n",
      "0.5652501583099365\n"
     ]
    },
    {
     "name": "stderr",
     "output_type": "stream",
     "text": [
      "\n",
      "Iteration:  79%|██████████████████████████████████████████████████████▎              | 327/415 [04:07<01:10,  1.24it/s]\u001b[A"
     ]
    },
    {
     "name": "stdout",
     "output_type": "stream",
     "text": [
      "tensor(0.8145, device='cuda:0', grad_fn=<NllLossBackward>)\n",
      "0.814483106136322\n"
     ]
    },
    {
     "name": "stderr",
     "output_type": "stream",
     "text": [
      "\n",
      "Iteration:  79%|██████████████████████████████████████████████████████▌              | 328/415 [04:08<01:09,  1.24it/s]\u001b[A"
     ]
    },
    {
     "name": "stdout",
     "output_type": "stream",
     "text": [
      "tensor(0.5105, device='cuda:0', grad_fn=<NllLossBackward>)\n",
      "0.5104966163635254\n"
     ]
    },
    {
     "name": "stderr",
     "output_type": "stream",
     "text": [
      "\n",
      "Iteration:  79%|██████████████████████████████████████████████████████▋              | 329/415 [04:09<01:09,  1.25it/s]\u001b[A"
     ]
    },
    {
     "name": "stdout",
     "output_type": "stream",
     "text": [
      "tensor(0.5962, device='cuda:0', grad_fn=<NllLossBackward>)\n",
      "0.5962395071983337\n"
     ]
    },
    {
     "name": "stderr",
     "output_type": "stream",
     "text": [
      "\n",
      "Iteration:  80%|██████████████████████████████████████████████████████▊              | 330/415 [04:10<01:08,  1.24it/s]\u001b[A"
     ]
    },
    {
     "name": "stdout",
     "output_type": "stream",
     "text": [
      "tensor(0.5475, device='cuda:0', grad_fn=<NllLossBackward>)\n",
      "0.5475099682807922\n"
     ]
    },
    {
     "name": "stderr",
     "output_type": "stream",
     "text": [
      "\n",
      "Iteration:  80%|███████████████████████████████████████████████████████              | 331/415 [04:11<01:07,  1.24it/s]\u001b[A"
     ]
    },
    {
     "name": "stdout",
     "output_type": "stream",
     "text": [
      "tensor(0.5167, device='cuda:0', grad_fn=<NllLossBackward>)\n",
      "0.5166879296302795\n"
     ]
    },
    {
     "name": "stderr",
     "output_type": "stream",
     "text": [
      "\n",
      "Iteration:  80%|███████████████████████████████████████████████████████▏             | 332/415 [04:11<01:06,  1.24it/s]\u001b[A"
     ]
    },
    {
     "name": "stdout",
     "output_type": "stream",
     "text": [
      "tensor(0.6879, device='cuda:0', grad_fn=<NllLossBackward>)\n",
      "0.687930166721344\n"
     ]
    },
    {
     "name": "stderr",
     "output_type": "stream",
     "text": [
      "\n",
      "Iteration:  80%|███████████████████████████████████████████████████████▎             | 333/415 [04:12<01:05,  1.26it/s]\u001b[A"
     ]
    },
    {
     "name": "stdout",
     "output_type": "stream",
     "text": [
      "tensor(0.6362, device='cuda:0', grad_fn=<NllLossBackward>)\n",
      "0.6362346410751343\n"
     ]
    },
    {
     "name": "stderr",
     "output_type": "stream",
     "text": [
      "\n",
      "Iteration:  80%|███████████████████████████████████████████████████████▌             | 334/415 [04:13<01:04,  1.26it/s]\u001b[A"
     ]
    },
    {
     "name": "stdout",
     "output_type": "stream",
     "text": [
      "tensor(0.4465, device='cuda:0', grad_fn=<NllLossBackward>)\n",
      "0.44649285078048706\n"
     ]
    },
    {
     "name": "stderr",
     "output_type": "stream",
     "text": [
      "\n",
      "Iteration:  81%|███████████████████████████████████████████████████████▋             | 335/415 [04:14<01:04,  1.24it/s]\u001b[A"
     ]
    },
    {
     "name": "stdout",
     "output_type": "stream",
     "text": [
      "tensor(0.5523, device='cuda:0', grad_fn=<NllLossBackward>)\n",
      "0.5522741079330444\n"
     ]
    },
    {
     "name": "stderr",
     "output_type": "stream",
     "text": [
      "\n",
      "Iteration:  81%|███████████████████████████████████████████████████████▊             | 336/415 [04:15<01:03,  1.24it/s]\u001b[A"
     ]
    },
    {
     "name": "stdout",
     "output_type": "stream",
     "text": [
      "tensor(0.5692, device='cuda:0', grad_fn=<NllLossBackward>)\n",
      "0.5692302584648132\n"
     ]
    },
    {
     "name": "stderr",
     "output_type": "stream",
     "text": [
      "\n",
      "Iteration:  81%|████████████████████████████████████████████████████████             | 337/415 [04:15<01:03,  1.23it/s]\u001b[A"
     ]
    },
    {
     "name": "stdout",
     "output_type": "stream",
     "text": [
      "tensor(0.5297, device='cuda:0', grad_fn=<NllLossBackward>)\n",
      "0.5296773910522461\n"
     ]
    },
    {
     "name": "stderr",
     "output_type": "stream",
     "text": [
      "\n",
      "Iteration:  81%|████████████████████████████████████████████████████████▏            | 338/415 [04:16<01:01,  1.24it/s]\u001b[A"
     ]
    },
    {
     "name": "stdout",
     "output_type": "stream",
     "text": [
      "tensor(0.4580, device='cuda:0', grad_fn=<NllLossBackward>)\n",
      "0.45803284645080566\n"
     ]
    },
    {
     "name": "stderr",
     "output_type": "stream",
     "text": [
      "\n",
      "Iteration:  82%|████████████████████████████████████████████████████████▎            | 339/415 [04:17<01:00,  1.25it/s]\u001b[A"
     ]
    },
    {
     "name": "stdout",
     "output_type": "stream",
     "text": [
      "tensor(0.8089, device='cuda:0', grad_fn=<NllLossBackward>)\n",
      "0.8088969588279724\n"
     ]
    },
    {
     "name": "stderr",
     "output_type": "stream",
     "text": [
      "\n",
      "Iteration:  82%|████████████████████████████████████████████████████████▌            | 340/415 [04:18<01:00,  1.25it/s]\u001b[A"
     ]
    },
    {
     "name": "stdout",
     "output_type": "stream",
     "text": [
      "tensor(0.5443, device='cuda:0', grad_fn=<NllLossBackward>)\n",
      "0.5442874431610107\n"
     ]
    },
    {
     "name": "stderr",
     "output_type": "stream",
     "text": [
      "\n",
      "Iteration:  82%|████████████████████████████████████████████████████████▋            | 341/415 [04:19<00:59,  1.25it/s]\u001b[A"
     ]
    },
    {
     "name": "stdout",
     "output_type": "stream",
     "text": [
      "tensor(0.4969, device='cuda:0', grad_fn=<NllLossBackward>)\n",
      "0.4969322681427002\n"
     ]
    },
    {
     "name": "stderr",
     "output_type": "stream",
     "text": [
      "\n",
      "Iteration:  82%|████████████████████████████████████████████████████████▊            | 342/415 [04:19<00:58,  1.24it/s]\u001b[A"
     ]
    },
    {
     "name": "stdout",
     "output_type": "stream",
     "text": [
      "tensor(0.6089, device='cuda:0', grad_fn=<NllLossBackward>)\n",
      "0.60893714427948\n"
     ]
    },
    {
     "name": "stderr",
     "output_type": "stream",
     "text": [
      "\n",
      "Iteration:  83%|█████████████████████████████████████████████████████████            | 343/415 [04:20<00:58,  1.24it/s]\u001b[A"
     ]
    },
    {
     "name": "stdout",
     "output_type": "stream",
     "text": [
      "tensor(0.3862, device='cuda:0', grad_fn=<NllLossBackward>)\n",
      "0.3861986994743347\n"
     ]
    },
    {
     "name": "stderr",
     "output_type": "stream",
     "text": [
      "\n",
      "Iteration:  83%|█████████████████████████████████████████████████████████▏           | 344/415 [04:21<00:58,  1.21it/s]\u001b[A"
     ]
    },
    {
     "name": "stdout",
     "output_type": "stream",
     "text": [
      "tensor(0.4754, device='cuda:0', grad_fn=<NllLossBackward>)\n",
      "0.4753637909889221\n"
     ]
    },
    {
     "name": "stderr",
     "output_type": "stream",
     "text": [
      "\n",
      "Iteration:  83%|█████████████████████████████████████████████████████████▎           | 345/415 [04:22<00:57,  1.23it/s]\u001b[A"
     ]
    },
    {
     "name": "stdout",
     "output_type": "stream",
     "text": [
      "tensor(0.5058, device='cuda:0', grad_fn=<NllLossBackward>)\n",
      "0.5058498978614807\n"
     ]
    },
    {
     "name": "stderr",
     "output_type": "stream",
     "text": [
      "\n",
      "Iteration:  83%|█████████████████████████████████████████████████████████▌           | 346/415 [04:23<00:56,  1.23it/s]\u001b[A"
     ]
    },
    {
     "name": "stdout",
     "output_type": "stream",
     "text": [
      "tensor(0.6442, device='cuda:0', grad_fn=<NllLossBackward>)\n",
      "0.6442268490791321\n"
     ]
    },
    {
     "name": "stderr",
     "output_type": "stream",
     "text": [
      "\n",
      "Iteration:  84%|█████████████████████████████████████████████████████████▋           | 347/415 [04:24<00:55,  1.23it/s]\u001b[A"
     ]
    },
    {
     "name": "stdout",
     "output_type": "stream",
     "text": [
      "tensor(0.4142, device='cuda:0', grad_fn=<NllLossBackward>)\n",
      "0.41418227553367615\n"
     ]
    },
    {
     "name": "stderr",
     "output_type": "stream",
     "text": [
      "\n",
      "Iteration:  84%|█████████████████████████████████████████████████████████▊           | 348/415 [04:24<00:54,  1.22it/s]\u001b[A"
     ]
    },
    {
     "name": "stdout",
     "output_type": "stream",
     "text": [
      "tensor(0.3495, device='cuda:0', grad_fn=<NllLossBackward>)\n",
      "0.3495293855667114\n"
     ]
    },
    {
     "name": "stderr",
     "output_type": "stream",
     "text": [
      "\n",
      "Iteration:  84%|██████████████████████████████████████████████████████████           | 349/415 [04:25<00:53,  1.23it/s]\u001b[A"
     ]
    },
    {
     "name": "stdout",
     "output_type": "stream",
     "text": [
      "tensor(0.4094, device='cuda:0', grad_fn=<NllLossBackward>)\n",
      "0.409372478723526\n"
     ]
    },
    {
     "name": "stderr",
     "output_type": "stream",
     "text": [
      "\n",
      "Iteration:  84%|██████████████████████████████████████████████████████████▏          | 350/415 [04:26<00:52,  1.23it/s]\u001b[A"
     ]
    },
    {
     "name": "stdout",
     "output_type": "stream",
     "text": [
      "tensor(0.6187, device='cuda:0', grad_fn=<NllLossBackward>)\n",
      "0.6187002062797546\n"
     ]
    },
    {
     "name": "stderr",
     "output_type": "stream",
     "text": [
      "\n",
      "Iteration:  85%|██████████████████████████████████████████████████████████▎          | 351/415 [04:27<00:51,  1.23it/s]\u001b[A"
     ]
    },
    {
     "name": "stdout",
     "output_type": "stream",
     "text": [
      "tensor(0.7620, device='cuda:0', grad_fn=<NllLossBackward>)\n",
      "0.762047529220581\n"
     ]
    },
    {
     "name": "stderr",
     "output_type": "stream",
     "text": [
      "\n",
      "Iteration:  85%|██████████████████████████████████████████████████████████▌          | 352/415 [04:28<00:51,  1.21it/s]\u001b[A"
     ]
    },
    {
     "name": "stdout",
     "output_type": "stream",
     "text": [
      "tensor(0.5910, device='cuda:0', grad_fn=<NllLossBackward>)\n",
      "0.5909921526908875\n"
     ]
    },
    {
     "name": "stderr",
     "output_type": "stream",
     "text": [
      "\n",
      "Iteration:  85%|██████████████████████████████████████████████████████████▋          | 353/415 [04:28<00:50,  1.22it/s]\u001b[A"
     ]
    },
    {
     "name": "stdout",
     "output_type": "stream",
     "text": [
      "tensor(0.4628, device='cuda:0', grad_fn=<NllLossBackward>)\n",
      "0.46281686425209045\n"
     ]
    },
    {
     "name": "stderr",
     "output_type": "stream",
     "text": [
      "\n",
      "Iteration:  85%|██████████████████████████████████████████████████████████▊          | 354/415 [04:29<00:50,  1.22it/s]\u001b[A"
     ]
    },
    {
     "name": "stdout",
     "output_type": "stream",
     "text": [
      "tensor(0.5774, device='cuda:0', grad_fn=<NllLossBackward>)\n",
      "0.5773854851722717\n"
     ]
    },
    {
     "name": "stderr",
     "output_type": "stream",
     "text": [
      "\n",
      "Iteration:  86%|███████████████████████████████████████████████████████████          | 355/415 [04:30<00:48,  1.23it/s]\u001b[A"
     ]
    },
    {
     "name": "stdout",
     "output_type": "stream",
     "text": [
      "tensor(0.4986, device='cuda:0', grad_fn=<NllLossBackward>)\n",
      "0.49864163994789124\n"
     ]
    },
    {
     "name": "stderr",
     "output_type": "stream",
     "text": [
      "\n",
      "Iteration:  86%|███████████████████████████████████████████████████████████▏         | 356/415 [04:31<00:48,  1.23it/s]\u001b[A"
     ]
    },
    {
     "name": "stdout",
     "output_type": "stream",
     "text": [
      "tensor(0.6295, device='cuda:0', grad_fn=<NllLossBackward>)\n",
      "0.6295377016067505\n"
     ]
    },
    {
     "name": "stderr",
     "output_type": "stream",
     "text": [
      "\n",
      "Iteration:  86%|███████████████████████████████████████████████████████████▎         | 357/415 [04:32<00:47,  1.21it/s]\u001b[A"
     ]
    },
    {
     "name": "stdout",
     "output_type": "stream",
     "text": [
      "tensor(0.6179, device='cuda:0', grad_fn=<NllLossBackward>)\n",
      "0.6178581714630127\n"
     ]
    },
    {
     "name": "stderr",
     "output_type": "stream",
     "text": [
      "\n",
      "Iteration:  86%|███████████████████████████████████████████████████████████▌         | 358/415 [04:33<00:47,  1.21it/s]\u001b[A"
     ]
    },
    {
     "name": "stdout",
     "output_type": "stream",
     "text": [
      "tensor(0.6989, device='cuda:0', grad_fn=<NllLossBackward>)\n",
      "0.6989302635192871\n"
     ]
    },
    {
     "name": "stderr",
     "output_type": "stream",
     "text": [
      "\n",
      "Iteration:  87%|███████████████████████████████████████████████████████████▋         | 359/415 [04:33<00:45,  1.22it/s]\u001b[A"
     ]
    },
    {
     "name": "stdout",
     "output_type": "stream",
     "text": [
      "tensor(0.4199, device='cuda:0', grad_fn=<NllLossBackward>)\n",
      "0.4199308454990387\n"
     ]
    },
    {
     "name": "stderr",
     "output_type": "stream",
     "text": [
      "\n",
      "Iteration:  87%|███████████████████████████████████████████████████████████▊         | 360/415 [04:34<00:44,  1.22it/s]\u001b[A"
     ]
    },
    {
     "name": "stdout",
     "output_type": "stream",
     "text": [
      "tensor(0.6763, device='cuda:0', grad_fn=<NllLossBackward>)\n",
      "0.6762544512748718\n"
     ]
    },
    {
     "name": "stderr",
     "output_type": "stream",
     "text": [
      "\n",
      "Iteration:  87%|████████████████████████████████████████████████████████████         | 361/415 [04:35<00:43,  1.23it/s]\u001b[A"
     ]
    },
    {
     "name": "stdout",
     "output_type": "stream",
     "text": [
      "tensor(0.5345, device='cuda:0', grad_fn=<NllLossBackward>)\n",
      "0.534493625164032\n"
     ]
    },
    {
     "name": "stderr",
     "output_type": "stream",
     "text": [
      "\n",
      "Iteration:  87%|████████████████████████████████████████████████████████████▏        | 362/415 [04:36<00:42,  1.23it/s]\u001b[A"
     ]
    },
    {
     "name": "stdout",
     "output_type": "stream",
     "text": [
      "tensor(0.5852, device='cuda:0', grad_fn=<NllLossBackward>)\n",
      "0.5852227807044983\n"
     ]
    },
    {
     "name": "stderr",
     "output_type": "stream",
     "text": [
      "\n",
      "Iteration:  87%|████████████████████████████████████████████████████████████▎        | 363/415 [04:37<00:42,  1.23it/s]\u001b[A"
     ]
    },
    {
     "name": "stdout",
     "output_type": "stream",
     "text": [
      "tensor(0.5559, device='cuda:0', grad_fn=<NllLossBackward>)\n",
      "0.5558909773826599\n"
     ]
    },
    {
     "name": "stderr",
     "output_type": "stream",
     "text": [
      "\n",
      "Iteration:  88%|████████████████████████████████████████████████████████████▌        | 364/415 [04:37<00:41,  1.23it/s]\u001b[A"
     ]
    },
    {
     "name": "stdout",
     "output_type": "stream",
     "text": [
      "tensor(0.6635, device='cuda:0', grad_fn=<NllLossBackward>)\n",
      "0.6634579300880432\n"
     ]
    },
    {
     "name": "stderr",
     "output_type": "stream",
     "text": [
      "\n",
      "Iteration:  88%|████████████████████████████████████████████████████████████▋        | 365/415 [04:38<00:40,  1.24it/s]\u001b[A"
     ]
    },
    {
     "name": "stdout",
     "output_type": "stream",
     "text": [
      "tensor(0.5902, device='cuda:0', grad_fn=<NllLossBackward>)\n",
      "0.5901721119880676\n"
     ]
    },
    {
     "name": "stderr",
     "output_type": "stream",
     "text": [
      "\n",
      "Iteration:  88%|████████████████████████████████████████████████████████████▊        | 366/415 [04:39<00:39,  1.26it/s]\u001b[A"
     ]
    },
    {
     "name": "stdout",
     "output_type": "stream",
     "text": [
      "tensor(0.6123, device='cuda:0', grad_fn=<NllLossBackward>)\n",
      "0.6122596859931946\n"
     ]
    },
    {
     "name": "stderr",
     "output_type": "stream",
     "text": [
      "\n",
      "Iteration:  88%|█████████████████████████████████████████████████████████████        | 367/415 [04:40<00:38,  1.26it/s]\u001b[A"
     ]
    },
    {
     "name": "stdout",
     "output_type": "stream",
     "text": [
      "tensor(0.5130, device='cuda:0', grad_fn=<NllLossBackward>)\n",
      "0.5129886865615845\n"
     ]
    },
    {
     "name": "stderr",
     "output_type": "stream",
     "text": [
      "\n",
      "Iteration:  89%|█████████████████████████████████████████████████████████████▏       | 368/415 [04:41<00:37,  1.26it/s]\u001b[A"
     ]
    },
    {
     "name": "stdout",
     "output_type": "stream",
     "text": [
      "tensor(0.5034, device='cuda:0', grad_fn=<NllLossBackward>)\n",
      "0.5033997297286987\n"
     ]
    },
    {
     "name": "stderr",
     "output_type": "stream",
     "text": [
      "\n",
      "Iteration:  89%|█████████████████████████████████████████████████████████████▎       | 369/415 [04:41<00:36,  1.25it/s]\u001b[A"
     ]
    },
    {
     "name": "stdout",
     "output_type": "stream",
     "text": [
      "tensor(0.5421, device='cuda:0', grad_fn=<NllLossBackward>)\n",
      "0.5421448945999146\n"
     ]
    },
    {
     "name": "stderr",
     "output_type": "stream",
     "text": [
      "\n",
      "Iteration:  89%|█████████████████████████████████████████████████████████████▌       | 370/415 [04:42<00:36,  1.24it/s]\u001b[A"
     ]
    },
    {
     "name": "stdout",
     "output_type": "stream",
     "text": [
      "tensor(0.6525, device='cuda:0', grad_fn=<NllLossBackward>)\n",
      "0.652463436126709\n"
     ]
    },
    {
     "name": "stderr",
     "output_type": "stream",
     "text": [
      "\n",
      "Iteration:  89%|█████████████████████████████████████████████████████████████▋       | 371/415 [04:43<00:35,  1.25it/s]\u001b[A"
     ]
    },
    {
     "name": "stdout",
     "output_type": "stream",
     "text": [
      "tensor(0.5010, device='cuda:0', grad_fn=<NllLossBackward>)\n",
      "0.5009690523147583\n"
     ]
    },
    {
     "name": "stderr",
     "output_type": "stream",
     "text": [
      "\n",
      "Iteration:  90%|█████████████████████████████████████████████████████████████▊       | 372/415 [04:44<00:35,  1.20it/s]\u001b[A"
     ]
    },
    {
     "name": "stdout",
     "output_type": "stream",
     "text": [
      "tensor(0.6001, device='cuda:0', grad_fn=<NllLossBackward>)\n",
      "0.6001258492469788\n"
     ]
    },
    {
     "name": "stderr",
     "output_type": "stream",
     "text": [
      "\n",
      "Iteration:  90%|██████████████████████████████████████████████████████████████       | 373/415 [04:45<00:34,  1.22it/s]\u001b[A"
     ]
    },
    {
     "name": "stdout",
     "output_type": "stream",
     "text": [
      "tensor(0.5089, device='cuda:0', grad_fn=<NllLossBackward>)\n",
      "0.5088844895362854\n"
     ]
    },
    {
     "name": "stderr",
     "output_type": "stream",
     "text": [
      "\n",
      "Iteration:  90%|██████████████████████████████████████████████████████████████▏      | 374/415 [04:45<00:33,  1.24it/s]\u001b[A"
     ]
    },
    {
     "name": "stdout",
     "output_type": "stream",
     "text": [
      "tensor(0.5289, device='cuda:0', grad_fn=<NllLossBackward>)\n",
      "0.5289093852043152\n"
     ]
    },
    {
     "name": "stderr",
     "output_type": "stream",
     "text": [
      "\n",
      "Iteration:  90%|██████████████████████████████████████████████████████████████▎      | 375/415 [04:46<00:32,  1.22it/s]\u001b[A"
     ]
    },
    {
     "name": "stdout",
     "output_type": "stream",
     "text": [
      "tensor(0.6352, device='cuda:0', grad_fn=<NllLossBackward>)\n",
      "0.6351513862609863\n"
     ]
    },
    {
     "name": "stderr",
     "output_type": "stream",
     "text": [
      "\n",
      "Iteration:  91%|██████████████████████████████████████████████████████████████▌      | 376/415 [04:47<00:31,  1.23it/s]\u001b[A"
     ]
    },
    {
     "name": "stdout",
     "output_type": "stream",
     "text": [
      "tensor(0.5961, device='cuda:0', grad_fn=<NllLossBackward>)\n",
      "0.5961228609085083\n"
     ]
    },
    {
     "name": "stderr",
     "output_type": "stream",
     "text": [
      "\n",
      "Iteration:  91%|██████████████████████████████████████████████████████████████▋      | 377/415 [04:48<00:30,  1.24it/s]\u001b[A"
     ]
    },
    {
     "name": "stdout",
     "output_type": "stream",
     "text": [
      "tensor(0.7141, device='cuda:0', grad_fn=<NllLossBackward>)\n",
      "0.714129626750946\n"
     ]
    },
    {
     "name": "stderr",
     "output_type": "stream",
     "text": [
      "\n",
      "Iteration:  91%|██████████████████████████████████████████████████████████████▊      | 378/415 [04:49<00:31,  1.18it/s]\u001b[A"
     ]
    },
    {
     "name": "stdout",
     "output_type": "stream",
     "text": [
      "tensor(0.4922, device='cuda:0', grad_fn=<NllLossBackward>)\n",
      "0.492213636636734\n"
     ]
    },
    {
     "name": "stderr",
     "output_type": "stream",
     "text": [
      "\n",
      "Iteration:  91%|███████████████████████████████████████████████████████████████      | 379/415 [04:50<00:30,  1.20it/s]\u001b[A"
     ]
    },
    {
     "name": "stdout",
     "output_type": "stream",
     "text": [
      "tensor(0.4953, device='cuda:0', grad_fn=<NllLossBackward>)\n",
      "0.4952968657016754\n"
     ]
    },
    {
     "name": "stderr",
     "output_type": "stream",
     "text": [
      "\n",
      "Iteration:  92%|███████████████████████████████████████████████████████████████▏     | 380/415 [04:50<00:28,  1.21it/s]\u001b[A"
     ]
    },
    {
     "name": "stdout",
     "output_type": "stream",
     "text": [
      "tensor(0.3289, device='cuda:0', grad_fn=<NllLossBackward>)\n",
      "0.3288861811161041\n"
     ]
    },
    {
     "name": "stderr",
     "output_type": "stream",
     "text": [
      "\n",
      "Iteration:  92%|███████████████████████████████████████████████████████████████▎     | 381/415 [04:51<00:27,  1.22it/s]\u001b[A"
     ]
    },
    {
     "name": "stdout",
     "output_type": "stream",
     "text": [
      "tensor(0.6215, device='cuda:0', grad_fn=<NllLossBackward>)\n",
      "0.6215073466300964\n"
     ]
    },
    {
     "name": "stderr",
     "output_type": "stream",
     "text": [
      "\n",
      "Iteration:  92%|███████████████████████████████████████████████████████████████▌     | 382/415 [04:52<00:26,  1.24it/s]\u001b[A"
     ]
    },
    {
     "name": "stdout",
     "output_type": "stream",
     "text": [
      "tensor(0.6617, device='cuda:0', grad_fn=<NllLossBackward>)\n",
      "0.6616847515106201\n"
     ]
    },
    {
     "name": "stderr",
     "output_type": "stream",
     "text": [
      "\n",
      "Iteration:  92%|███████████████████████████████████████████████████████████████▋     | 383/415 [04:53<00:26,  1.23it/s]\u001b[A"
     ]
    },
    {
     "name": "stdout",
     "output_type": "stream",
     "text": [
      "tensor(0.5430, device='cuda:0', grad_fn=<NllLossBackward>)\n",
      "0.5430331826210022\n"
     ]
    },
    {
     "name": "stderr",
     "output_type": "stream",
     "text": [
      "\n",
      "Iteration:  93%|███████████████████████████████████████████████████████████████▊     | 384/415 [04:54<00:25,  1.23it/s]\u001b[A"
     ]
    },
    {
     "name": "stdout",
     "output_type": "stream",
     "text": [
      "tensor(0.6059, device='cuda:0', grad_fn=<NllLossBackward>)\n",
      "0.605924129486084\n"
     ]
    },
    {
     "name": "stderr",
     "output_type": "stream",
     "text": [
      "\n",
      "Iteration:  93%|████████████████████████████████████████████████████████████████     | 385/415 [04:54<00:24,  1.23it/s]\u001b[A"
     ]
    },
    {
     "name": "stdout",
     "output_type": "stream",
     "text": [
      "tensor(0.5487, device='cuda:0', grad_fn=<NllLossBackward>)\n",
      "0.5486602783203125\n"
     ]
    },
    {
     "name": "stderr",
     "output_type": "stream",
     "text": [
      "\n",
      "Iteration:  93%|████████████████████████████████████████████████████████████████▏    | 386/415 [04:55<00:23,  1.23it/s]\u001b[A"
     ]
    },
    {
     "name": "stdout",
     "output_type": "stream",
     "text": [
      "tensor(0.6014, device='cuda:0', grad_fn=<NllLossBackward>)\n",
      "0.6013914346694946\n"
     ]
    },
    {
     "name": "stderr",
     "output_type": "stream",
     "text": [
      "\n",
      "Iteration:  93%|████████████████████████████████████████████████████████████████▎    | 387/415 [04:56<00:22,  1.22it/s]\u001b[A"
     ]
    },
    {
     "name": "stdout",
     "output_type": "stream",
     "text": [
      "tensor(0.6341, device='cuda:0', grad_fn=<NllLossBackward>)\n",
      "0.6340692639350891\n"
     ]
    },
    {
     "name": "stderr",
     "output_type": "stream",
     "text": [
      "\n",
      "Iteration:  93%|████████████████████████████████████████████████████████████████▌    | 388/415 [04:57<00:22,  1.22it/s]\u001b[A"
     ]
    },
    {
     "name": "stdout",
     "output_type": "stream",
     "text": [
      "tensor(0.5035, device='cuda:0', grad_fn=<NllLossBackward>)\n",
      "0.5035005807876587\n"
     ]
    },
    {
     "name": "stderr",
     "output_type": "stream",
     "text": [
      "\n",
      "Iteration:  94%|████████████████████████████████████████████████████████████████▋    | 389/415 [04:58<00:21,  1.23it/s]\u001b[A"
     ]
    },
    {
     "name": "stdout",
     "output_type": "stream",
     "text": [
      "tensor(0.5681, device='cuda:0', grad_fn=<NllLossBackward>)\n",
      "0.5681218504905701\n"
     ]
    },
    {
     "name": "stderr",
     "output_type": "stream",
     "text": [
      "\n",
      "Iteration:  94%|████████████████████████████████████████████████████████████████▊    | 390/415 [04:59<00:20,  1.22it/s]\u001b[A"
     ]
    },
    {
     "name": "stdout",
     "output_type": "stream",
     "text": [
      "tensor(0.3820, device='cuda:0', grad_fn=<NllLossBackward>)\n",
      "0.38203340768814087\n"
     ]
    },
    {
     "name": "stderr",
     "output_type": "stream",
     "text": [
      "\n",
      "Iteration:  94%|█████████████████████████████████████████████████████████████████    | 391/415 [04:59<00:19,  1.23it/s]\u001b[A"
     ]
    },
    {
     "name": "stdout",
     "output_type": "stream",
     "text": [
      "tensor(0.5088, device='cuda:0', grad_fn=<NllLossBackward>)\n",
      "0.5088497996330261\n"
     ]
    },
    {
     "name": "stderr",
     "output_type": "stream",
     "text": [
      "\n",
      "Iteration:  94%|█████████████████████████████████████████████████████████████████▏   | 392/415 [05:00<00:18,  1.22it/s]\u001b[A"
     ]
    },
    {
     "name": "stdout",
     "output_type": "stream",
     "text": [
      "tensor(0.4620, device='cuda:0', grad_fn=<NllLossBackward>)\n",
      "0.4619673788547516\n"
     ]
    },
    {
     "name": "stderr",
     "output_type": "stream",
     "text": [
      "\n",
      "Iteration:  95%|█████████████████████████████████████████████████████████████████▎   | 393/415 [05:01<00:17,  1.24it/s]\u001b[A"
     ]
    },
    {
     "name": "stdout",
     "output_type": "stream",
     "text": [
      "tensor(0.5498, device='cuda:0', grad_fn=<NllLossBackward>)\n",
      "0.5497567653656006\n"
     ]
    },
    {
     "name": "stderr",
     "output_type": "stream",
     "text": [
      "\n",
      "Iteration:  95%|█████████████████████████████████████████████████████████████████▌   | 394/415 [05:02<00:17,  1.23it/s]\u001b[A"
     ]
    },
    {
     "name": "stdout",
     "output_type": "stream",
     "text": [
      "tensor(0.5742, device='cuda:0', grad_fn=<NllLossBackward>)\n",
      "0.5742073059082031\n"
     ]
    },
    {
     "name": "stderr",
     "output_type": "stream",
     "text": [
      "\n",
      "Iteration:  95%|█████████████████████████████████████████████████████████████████▋   | 395/415 [05:03<00:17,  1.17it/s]\u001b[A"
     ]
    },
    {
     "name": "stdout",
     "output_type": "stream",
     "text": [
      "tensor(0.4552, device='cuda:0', grad_fn=<NllLossBackward>)\n",
      "0.45520728826522827\n"
     ]
    },
    {
     "name": "stderr",
     "output_type": "stream",
     "text": [
      "\n",
      "Iteration:  95%|█████████████████████████████████████████████████████████████████▊   | 396/415 [05:04<00:15,  1.20it/s]\u001b[A"
     ]
    },
    {
     "name": "stdout",
     "output_type": "stream",
     "text": [
      "tensor(0.4375, device='cuda:0', grad_fn=<NllLossBackward>)\n",
      "0.4375426173210144\n"
     ]
    },
    {
     "name": "stderr",
     "output_type": "stream",
     "text": [
      "\n",
      "Iteration:  96%|██████████████████████████████████████████████████████████████████   | 397/415 [05:04<00:15,  1.16it/s]\u001b[A"
     ]
    },
    {
     "name": "stdout",
     "output_type": "stream",
     "text": [
      "tensor(0.7123, device='cuda:0', grad_fn=<NllLossBackward>)\n",
      "0.7123208045959473\n"
     ]
    },
    {
     "name": "stderr",
     "output_type": "stream",
     "text": [
      "\n",
      "Iteration:  96%|██████████████████████████████████████████████████████████████████▏  | 398/415 [05:05<00:14,  1.14it/s]\u001b[A"
     ]
    },
    {
     "name": "stdout",
     "output_type": "stream",
     "text": [
      "tensor(0.4110, device='cuda:0', grad_fn=<NllLossBackward>)\n",
      "0.4110037088394165\n"
     ]
    },
    {
     "name": "stderr",
     "output_type": "stream",
     "text": [
      "\n",
      "Iteration:  96%|██████████████████████████████████████████████████████████████████▎  | 399/415 [05:06<00:13,  1.18it/s]\u001b[A"
     ]
    },
    {
     "name": "stdout",
     "output_type": "stream",
     "text": [
      "tensor(0.5414, device='cuda:0', grad_fn=<NllLossBackward>)\n",
      "0.5413681268692017\n"
     ]
    },
    {
     "name": "stderr",
     "output_type": "stream",
     "text": [
      "\n",
      "Iteration:  96%|██████████████████████████████████████████████████████████████████▌  | 400/415 [05:07<00:12,  1.20it/s]\u001b[A"
     ]
    },
    {
     "name": "stdout",
     "output_type": "stream",
     "text": [
      "tensor(0.5176, device='cuda:0', grad_fn=<NllLossBackward>)\n",
      "0.5176204442977905\n"
     ]
    },
    {
     "name": "stderr",
     "output_type": "stream",
     "text": [
      "\n",
      "Iteration:  97%|██████████████████████████████████████████████████████████████████▋  | 401/415 [05:08<00:11,  1.20it/s]\u001b[A"
     ]
    },
    {
     "name": "stdout",
     "output_type": "stream",
     "text": [
      "tensor(0.4374, device='cuda:0', grad_fn=<NllLossBackward>)\n",
      "0.43736374378204346\n"
     ]
    },
    {
     "name": "stderr",
     "output_type": "stream",
     "text": [
      "\n",
      "Iteration:  97%|██████████████████████████████████████████████████████████████████▊  | 402/415 [05:09<00:10,  1.22it/s]\u001b[A"
     ]
    },
    {
     "name": "stdout",
     "output_type": "stream",
     "text": [
      "tensor(0.7069, device='cuda:0', grad_fn=<NllLossBackward>)\n",
      "0.7068583369255066\n"
     ]
    },
    {
     "name": "stderr",
     "output_type": "stream",
     "text": [
      "\n",
      "Iteration:  97%|███████████████████████████████████████████████████████████████████  | 403/415 [05:09<00:09,  1.22it/s]\u001b[A"
     ]
    },
    {
     "name": "stdout",
     "output_type": "stream",
     "text": [
      "tensor(0.4700, device='cuda:0', grad_fn=<NllLossBackward>)\n",
      "0.47004154324531555\n"
     ]
    },
    {
     "name": "stderr",
     "output_type": "stream",
     "text": [
      "\n",
      "Iteration:  97%|███████████████████████████████████████████████████████████████████▏ | 404/415 [05:10<00:09,  1.21it/s]\u001b[A"
     ]
    },
    {
     "name": "stdout",
     "output_type": "stream",
     "text": [
      "tensor(0.5917, device='cuda:0', grad_fn=<NllLossBackward>)\n",
      "0.5917205810546875\n"
     ]
    },
    {
     "name": "stderr",
     "output_type": "stream",
     "text": [
      "\n",
      "Iteration:  98%|███████████████████████████████████████████████████████████████████▎ | 405/415 [05:11<00:08,  1.22it/s]\u001b[A"
     ]
    },
    {
     "name": "stdout",
     "output_type": "stream",
     "text": [
      "tensor(0.4802, device='cuda:0', grad_fn=<NllLossBackward>)\n",
      "0.48023486137390137\n"
     ]
    },
    {
     "name": "stderr",
     "output_type": "stream",
     "text": [
      "\n",
      "Iteration:  98%|███████████████████████████████████████████████████████████████████▌ | 406/415 [05:12<00:07,  1.22it/s]\u001b[A"
     ]
    },
    {
     "name": "stdout",
     "output_type": "stream",
     "text": [
      "tensor(0.6242, device='cuda:0', grad_fn=<NllLossBackward>)\n",
      "0.6242204904556274\n"
     ]
    },
    {
     "name": "stderr",
     "output_type": "stream",
     "text": [
      "\n",
      "Iteration:  98%|███████████████████████████████████████████████████████████████████▋ | 407/415 [05:13<00:06,  1.22it/s]\u001b[A"
     ]
    },
    {
     "name": "stdout",
     "output_type": "stream",
     "text": [
      "tensor(0.4860, device='cuda:0', grad_fn=<NllLossBackward>)\n",
      "0.48602116107940674\n"
     ]
    },
    {
     "name": "stderr",
     "output_type": "stream",
     "text": [
      "\n",
      "Iteration:  98%|███████████████████████████████████████████████████████████████████▊ | 408/415 [05:13<00:05,  1.23it/s]\u001b[A"
     ]
    },
    {
     "name": "stdout",
     "output_type": "stream",
     "text": [
      "tensor(0.6393, device='cuda:0', grad_fn=<NllLossBackward>)\n",
      "0.6393458843231201\n"
     ]
    },
    {
     "name": "stderr",
     "output_type": "stream",
     "text": [
      "\n",
      "Iteration:  99%|████████████████████████████████████████████████████████████████████ | 409/415 [05:14<00:04,  1.24it/s]\u001b[A"
     ]
    },
    {
     "name": "stdout",
     "output_type": "stream",
     "text": [
      "tensor(0.4484, device='cuda:0', grad_fn=<NllLossBackward>)\n",
      "0.4484022557735443\n"
     ]
    },
    {
     "name": "stderr",
     "output_type": "stream",
     "text": [
      "\n",
      "Iteration:  99%|████████████████████████████████████████████████████████████████████▏| 410/415 [05:15<00:04,  1.23it/s]\u001b[A"
     ]
    },
    {
     "name": "stdout",
     "output_type": "stream",
     "text": [
      "tensor(0.4924, device='cuda:0', grad_fn=<NllLossBackward>)\n",
      "0.4923780858516693\n"
     ]
    },
    {
     "name": "stderr",
     "output_type": "stream",
     "text": [
      "\n",
      "Iteration:  99%|████████████████████████████████████████████████████████████████████▎| 411/415 [05:16<00:03,  1.23it/s]\u001b[A"
     ]
    },
    {
     "name": "stdout",
     "output_type": "stream",
     "text": [
      "tensor(0.6606, device='cuda:0', grad_fn=<NllLossBackward>)\n",
      "0.6606042385101318\n"
     ]
    },
    {
     "name": "stderr",
     "output_type": "stream",
     "text": [
      "\n",
      "Iteration:  99%|████████████████████████████████████████████████████████████████████▌| 412/415 [05:17<00:02,  1.24it/s]\u001b[A"
     ]
    },
    {
     "name": "stdout",
     "output_type": "stream",
     "text": [
      "tensor(0.3648, device='cuda:0', grad_fn=<NllLossBackward>)\n",
      "0.3648446798324585\n"
     ]
    },
    {
     "name": "stderr",
     "output_type": "stream",
     "text": [
      "\n",
      "Iteration: 100%|████████████████████████████████████████████████████████████████████▋| 413/415 [05:18<00:01,  1.23it/s]\u001b[A"
     ]
    },
    {
     "name": "stdout",
     "output_type": "stream",
     "text": [
      "tensor(0.6278, device='cuda:0', grad_fn=<NllLossBackward>)\n",
      "0.6277946829795837\n"
     ]
    },
    {
     "name": "stderr",
     "output_type": "stream",
     "text": [
      "\n",
      "Iteration: 100%|████████████████████████████████████████████████████████████████████▊| 414/415 [05:18<00:00,  1.22it/s]\u001b[A"
     ]
    },
    {
     "name": "stdout",
     "output_type": "stream",
     "text": [
      "tensor(0.3916, device='cuda:0', grad_fn=<NllLossBackward>)\n",
      "0.39162248373031616\n"
     ]
    },
    {
     "name": "stderr",
     "output_type": "stream",
     "text": [
      "\n",
      "Iteration: 100%|█████████████████████████████████████████████████████████████████████| 415/415 [05:19<00:00,  1.30it/s]\u001b[A\n",
      "Epoch:  33%|█████████████████████████▎                                                  | 1/3 [05:19<10:39, 319.66s/it]\n",
      "Iteration:   0%|                                                                               | 0/415 [00:00<?, ?it/s]\u001b[A"
     ]
    },
    {
     "name": "stdout",
     "output_type": "stream",
     "text": [
      "tensor(0.4280, device='cuda:0', grad_fn=<NllLossBackward>)\n",
      "0.4279995858669281\n"
     ]
    },
    {
     "name": "stderr",
     "output_type": "stream",
     "text": [
      "\n",
      "Iteration:   0%|▏                                                                      | 1/415 [00:00<05:38,  1.22it/s]\u001b[A"
     ]
    },
    {
     "name": "stdout",
     "output_type": "stream",
     "text": [
      "tensor(0.3683, device='cuda:0', grad_fn=<NllLossBackward>)\n",
      "0.3683375120162964\n"
     ]
    },
    {
     "name": "stderr",
     "output_type": "stream",
     "text": [
      "\n",
      "Iteration:   0%|▎                                                                      | 2/415 [00:01<05:33,  1.24it/s]\u001b[A"
     ]
    },
    {
     "name": "stdout",
     "output_type": "stream",
     "text": [
      "tensor(0.4769, device='cuda:0', grad_fn=<NllLossBackward>)\n",
      "0.4768674969673157\n"
     ]
    },
    {
     "name": "stderr",
     "output_type": "stream",
     "text": [
      "\n",
      "Iteration:   1%|▌                                                                      | 3/415 [00:02<05:31,  1.24it/s]\u001b[A"
     ]
    },
    {
     "name": "stdout",
     "output_type": "stream",
     "text": [
      "tensor(0.4287, device='cuda:0', grad_fn=<NllLossBackward>)\n",
      "0.42867714166641235\n"
     ]
    },
    {
     "name": "stderr",
     "output_type": "stream",
     "text": [
      "\n",
      "Iteration:   1%|▋                                                                      | 4/415 [00:03<05:30,  1.24it/s]\u001b[A"
     ]
    },
    {
     "name": "stdout",
     "output_type": "stream",
     "text": [
      "tensor(0.3470, device='cuda:0', grad_fn=<NllLossBackward>)\n",
      "0.34703969955444336\n"
     ]
    },
    {
     "name": "stderr",
     "output_type": "stream",
     "text": [
      "\n",
      "Iteration:   1%|▊                                                                      | 5/415 [00:04<05:29,  1.25it/s]\u001b[A"
     ]
    },
    {
     "name": "stdout",
     "output_type": "stream",
     "text": [
      "tensor(0.5401, device='cuda:0', grad_fn=<NllLossBackward>)\n",
      "0.5400656461715698\n"
     ]
    },
    {
     "name": "stderr",
     "output_type": "stream",
     "text": [
      "\n",
      "Iteration:   1%|█                                                                      | 6/415 [00:04<05:31,  1.24it/s]\u001b[A"
     ]
    },
    {
     "name": "stdout",
     "output_type": "stream",
     "text": [
      "tensor(0.3856, device='cuda:0', grad_fn=<NllLossBackward>)\n",
      "0.3856147825717926\n"
     ]
    },
    {
     "name": "stderr",
     "output_type": "stream",
     "text": [
      "\n",
      "Iteration:   2%|█▏                                                                     | 7/415 [00:05<05:28,  1.24it/s]\u001b[A"
     ]
    },
    {
     "name": "stdout",
     "output_type": "stream",
     "text": [
      "tensor(0.7707, device='cuda:0', grad_fn=<NllLossBackward>)\n",
      "0.7706527709960938\n"
     ]
    },
    {
     "name": "stderr",
     "output_type": "stream",
     "text": [
      "\n",
      "Iteration:   2%|█▎                                                                     | 8/415 [00:06<05:30,  1.23it/s]\u001b[A"
     ]
    },
    {
     "name": "stdout",
     "output_type": "stream",
     "text": [
      "tensor(0.4683, device='cuda:0', grad_fn=<NllLossBackward>)\n",
      "0.4683014154434204\n"
     ]
    },
    {
     "name": "stderr",
     "output_type": "stream",
     "text": [
      "\n",
      "Iteration:   2%|█▌                                                                     | 9/415 [00:07<05:28,  1.23it/s]\u001b[A"
     ]
    },
    {
     "name": "stdout",
     "output_type": "stream",
     "text": [
      "tensor(0.7791, device='cuda:0', grad_fn=<NllLossBackward>)\n",
      "0.7790766358375549\n"
     ]
    },
    {
     "name": "stderr",
     "output_type": "stream",
     "text": [
      "\n",
      "Iteration:   2%|█▋                                                                    | 10/415 [00:08<05:34,  1.21it/s]\u001b[A"
     ]
    },
    {
     "name": "stdout",
     "output_type": "stream",
     "text": [
      "tensor(0.3254, device='cuda:0', grad_fn=<NllLossBackward>)\n",
      "0.3253612816333771\n"
     ]
    },
    {
     "name": "stderr",
     "output_type": "stream",
     "text": [
      "\n",
      "Iteration:   3%|█▊                                                                    | 11/415 [00:08<05:29,  1.23it/s]\u001b[A"
     ]
    },
    {
     "name": "stdout",
     "output_type": "stream",
     "text": [
      "tensor(0.5365, device='cuda:0', grad_fn=<NllLossBackward>)\n",
      "0.5364638566970825\n"
     ]
    },
    {
     "name": "stderr",
     "output_type": "stream",
     "text": [
      "\n",
      "Iteration:   3%|██                                                                    | 12/415 [00:09<05:33,  1.21it/s]\u001b[A"
     ]
    },
    {
     "name": "stdout",
     "output_type": "stream",
     "text": [
      "tensor(0.3881, device='cuda:0', grad_fn=<NllLossBackward>)\n",
      "0.3880704343318939\n"
     ]
    },
    {
     "name": "stderr",
     "output_type": "stream",
     "text": [
      "\n",
      "Iteration:   3%|██▏                                                                   | 13/415 [00:10<05:32,  1.21it/s]\u001b[A"
     ]
    },
    {
     "name": "stdout",
     "output_type": "stream",
     "text": [
      "tensor(0.7055, device='cuda:0', grad_fn=<NllLossBackward>)\n",
      "0.7055040597915649\n"
     ]
    },
    {
     "name": "stderr",
     "output_type": "stream",
     "text": [
      "\n",
      "Iteration:   3%|██▎                                                                   | 14/415 [00:11<05:28,  1.22it/s]\u001b[A"
     ]
    },
    {
     "name": "stdout",
     "output_type": "stream",
     "text": [
      "tensor(0.4659, device='cuda:0', grad_fn=<NllLossBackward>)\n",
      "0.46592044830322266\n"
     ]
    },
    {
     "name": "stderr",
     "output_type": "stream",
     "text": [
      "\n",
      "Iteration:   4%|██▌                                                                   | 15/415 [00:12<05:24,  1.23it/s]\u001b[A"
     ]
    },
    {
     "name": "stdout",
     "output_type": "stream",
     "text": [
      "tensor(0.3937, device='cuda:0', grad_fn=<NllLossBackward>)\n",
      "0.39373552799224854\n"
     ]
    },
    {
     "name": "stderr",
     "output_type": "stream",
     "text": [
      "\n",
      "Iteration:   4%|██▋                                                                   | 16/415 [00:13<05:24,  1.23it/s]\u001b[A"
     ]
    },
    {
     "name": "stdout",
     "output_type": "stream",
     "text": [
      "tensor(0.4059, device='cuda:0', grad_fn=<NllLossBackward>)\n",
      "0.40593400597572327\n"
     ]
    },
    {
     "name": "stderr",
     "output_type": "stream",
     "text": [
      "\n",
      "Iteration:   4%|██▊                                                                   | 17/415 [00:13<05:26,  1.22it/s]\u001b[A"
     ]
    },
    {
     "name": "stdout",
     "output_type": "stream",
     "text": [
      "tensor(0.3795, device='cuda:0', grad_fn=<NllLossBackward>)\n",
      "0.3794578015804291\n"
     ]
    },
    {
     "name": "stderr",
     "output_type": "stream",
     "text": [
      "\n",
      "Iteration:   4%|███                                                                   | 18/415 [00:14<05:20,  1.24it/s]\u001b[A"
     ]
    },
    {
     "name": "stdout",
     "output_type": "stream",
     "text": [
      "tensor(0.5251, device='cuda:0', grad_fn=<NllLossBackward>)\n",
      "0.5251287221908569\n"
     ]
    },
    {
     "name": "stderr",
     "output_type": "stream",
     "text": [
      "\n",
      "Iteration:   5%|███▏                                                                  | 19/415 [00:15<05:18,  1.24it/s]\u001b[A"
     ]
    },
    {
     "name": "stdout",
     "output_type": "stream",
     "text": [
      "tensor(0.4051, device='cuda:0', grad_fn=<NllLossBackward>)\n",
      "0.4051288366317749\n"
     ]
    },
    {
     "name": "stderr",
     "output_type": "stream",
     "text": [
      "\n",
      "Iteration:   5%|███▎                                                                  | 20/415 [00:16<05:20,  1.23it/s]\u001b[A"
     ]
    },
    {
     "name": "stdout",
     "output_type": "stream",
     "text": [
      "tensor(0.4413, device='cuda:0', grad_fn=<NllLossBackward>)\n",
      "0.4412630796432495\n"
     ]
    },
    {
     "name": "stderr",
     "output_type": "stream",
     "text": [
      "\n",
      "Iteration:   5%|███▌                                                                  | 21/415 [00:17<05:17,  1.24it/s]\u001b[A"
     ]
    },
    {
     "name": "stdout",
     "output_type": "stream",
     "text": [
      "tensor(0.4838, device='cuda:0', grad_fn=<NllLossBackward>)\n",
      "0.4838288128376007\n"
     ]
    },
    {
     "name": "stderr",
     "output_type": "stream",
     "text": [
      "\n",
      "Iteration:   5%|███▋                                                                  | 22/415 [00:17<05:20,  1.23it/s]\u001b[A"
     ]
    },
    {
     "name": "stdout",
     "output_type": "stream",
     "text": [
      "tensor(0.3871, device='cuda:0', grad_fn=<NllLossBackward>)\n",
      "0.38714492321014404\n"
     ]
    },
    {
     "name": "stderr",
     "output_type": "stream",
     "text": [
      "\n",
      "Iteration:   6%|███▉                                                                  | 23/415 [00:18<05:20,  1.22it/s]\u001b[A"
     ]
    },
    {
     "name": "stdout",
     "output_type": "stream",
     "text": [
      "tensor(0.4384, device='cuda:0', grad_fn=<NllLossBackward>)\n",
      "0.4383641481399536\n"
     ]
    },
    {
     "name": "stderr",
     "output_type": "stream",
     "text": [
      "\n",
      "Iteration:   6%|████                                                                  | 24/415 [00:19<05:18,  1.23it/s]\u001b[A"
     ]
    },
    {
     "name": "stdout",
     "output_type": "stream",
     "text": [
      "tensor(0.4957, device='cuda:0', grad_fn=<NllLossBackward>)\n",
      "0.4957202672958374\n"
     ]
    },
    {
     "name": "stderr",
     "output_type": "stream",
     "text": [
      "\n",
      "Iteration:   6%|████▏                                                                 | 25/415 [00:20<05:19,  1.22it/s]\u001b[A"
     ]
    },
    {
     "name": "stdout",
     "output_type": "stream",
     "text": [
      "tensor(0.2991, device='cuda:0', grad_fn=<NllLossBackward>)\n",
      "0.29908114671707153\n"
     ]
    },
    {
     "name": "stderr",
     "output_type": "stream",
     "text": [
      "\n",
      "Iteration:   6%|████▍                                                                 | 26/415 [00:21<05:18,  1.22it/s]\u001b[A"
     ]
    },
    {
     "name": "stdout",
     "output_type": "stream",
     "text": [
      "tensor(0.3269, device='cuda:0', grad_fn=<NllLossBackward>)\n",
      "0.3269127607345581\n"
     ]
    },
    {
     "name": "stderr",
     "output_type": "stream",
     "text": [
      "\n",
      "Iteration:   7%|████▌                                                                 | 27/415 [00:21<05:18,  1.22it/s]\u001b[A"
     ]
    },
    {
     "name": "stdout",
     "output_type": "stream",
     "text": [
      "tensor(0.3889, device='cuda:0', grad_fn=<NllLossBackward>)\n",
      "0.3889116644859314\n"
     ]
    },
    {
     "name": "stderr",
     "output_type": "stream",
     "text": [
      "\n",
      "Iteration:   7%|████▋                                                                 | 28/415 [00:22<05:17,  1.22it/s]\u001b[A"
     ]
    },
    {
     "name": "stdout",
     "output_type": "stream",
     "text": [
      "tensor(0.6544, device='cuda:0', grad_fn=<NllLossBackward>)\n",
      "0.6544485688209534\n"
     ]
    },
    {
     "name": "stderr",
     "output_type": "stream",
     "text": [
      "\n",
      "Iteration:   7%|████▉                                                                 | 29/415 [00:23<05:14,  1.23it/s]\u001b[A"
     ]
    },
    {
     "name": "stdout",
     "output_type": "stream",
     "text": [
      "tensor(0.7575, device='cuda:0', grad_fn=<NllLossBackward>)\n",
      "0.7575081586837769\n"
     ]
    },
    {
     "name": "stderr",
     "output_type": "stream",
     "text": [
      "\n",
      "Iteration:   7%|█████                                                                 | 30/415 [00:24<05:14,  1.22it/s]\u001b[A"
     ]
    },
    {
     "name": "stdout",
     "output_type": "stream",
     "text": [
      "tensor(0.3951, device='cuda:0', grad_fn=<NllLossBackward>)\n",
      "0.3951222002506256\n"
     ]
    },
    {
     "name": "stderr",
     "output_type": "stream",
     "text": [
      "\n",
      "Iteration:   7%|█████▏                                                                | 31/415 [00:25<05:16,  1.21it/s]\u001b[A"
     ]
    },
    {
     "name": "stdout",
     "output_type": "stream",
     "text": [
      "tensor(0.2890, device='cuda:0', grad_fn=<NllLossBackward>)\n",
      "0.2889884412288666\n"
     ]
    },
    {
     "name": "stderr",
     "output_type": "stream",
     "text": [
      "\n",
      "Iteration:   8%|█████▍                                                                | 32/415 [00:26<05:12,  1.23it/s]\u001b[A"
     ]
    },
    {
     "name": "stdout",
     "output_type": "stream",
     "text": [
      "tensor(0.3237, device='cuda:0', grad_fn=<NllLossBackward>)\n",
      "0.32367268204689026\n"
     ]
    },
    {
     "name": "stderr",
     "output_type": "stream",
     "text": [
      "\n",
      "Iteration:   8%|█████▌                                                                | 33/415 [00:26<05:14,  1.22it/s]\u001b[A"
     ]
    },
    {
     "name": "stdout",
     "output_type": "stream",
     "text": [
      "tensor(0.6322, device='cuda:0', grad_fn=<NllLossBackward>)\n",
      "0.6322319507598877\n"
     ]
    },
    {
     "name": "stderr",
     "output_type": "stream",
     "text": [
      "\n",
      "Iteration:   8%|█████▋                                                                | 34/415 [00:27<05:14,  1.21it/s]\u001b[A"
     ]
    },
    {
     "name": "stdout",
     "output_type": "stream",
     "text": [
      "tensor(0.2612, device='cuda:0', grad_fn=<NllLossBackward>)\n",
      "0.26118791103363037\n"
     ]
    },
    {
     "name": "stderr",
     "output_type": "stream",
     "text": [
      "\n",
      "Iteration:   8%|█████▉                                                                | 35/415 [00:28<05:22,  1.18it/s]\u001b[A"
     ]
    },
    {
     "name": "stdout",
     "output_type": "stream",
     "text": [
      "tensor(0.4639, device='cuda:0', grad_fn=<NllLossBackward>)\n",
      "0.46389591693878174\n"
     ]
    },
    {
     "name": "stderr",
     "output_type": "stream",
     "text": [
      "\n",
      "Iteration:   9%|██████                                                                | 36/415 [00:29<05:15,  1.20it/s]\u001b[A"
     ]
    },
    {
     "name": "stdout",
     "output_type": "stream",
     "text": [
      "tensor(0.3059, device='cuda:0', grad_fn=<NllLossBackward>)\n",
      "0.3059427738189697\n"
     ]
    },
    {
     "name": "stderr",
     "output_type": "stream",
     "text": [
      "\n",
      "Iteration:   9%|██████▏                                                               | 37/415 [00:30<05:10,  1.22it/s]\u001b[A"
     ]
    },
    {
     "name": "stdout",
     "output_type": "stream",
     "text": [
      "tensor(0.6199, device='cuda:0', grad_fn=<NllLossBackward>)\n",
      "0.6199324131011963\n"
     ]
    },
    {
     "name": "stderr",
     "output_type": "stream",
     "text": [
      "\n",
      "Iteration:   9%|██████▍                                                               | 38/415 [00:31<05:09,  1.22it/s]\u001b[A"
     ]
    },
    {
     "name": "stdout",
     "output_type": "stream",
     "text": [
      "tensor(0.4930, device='cuda:0', grad_fn=<NllLossBackward>)\n",
      "0.4930231273174286\n"
     ]
    },
    {
     "name": "stderr",
     "output_type": "stream",
     "text": [
      "\n",
      "Iteration:   9%|██████▌                                                               | 39/415 [00:31<05:05,  1.23it/s]\u001b[A"
     ]
    },
    {
     "name": "stdout",
     "output_type": "stream",
     "text": [
      "tensor(0.5540, device='cuda:0', grad_fn=<NllLossBackward>)\n",
      "0.5539705753326416\n"
     ]
    },
    {
     "name": "stderr",
     "output_type": "stream",
     "text": [
      "\n",
      "Iteration:  10%|██████▋                                                               | 40/415 [00:32<05:16,  1.18it/s]\u001b[A"
     ]
    },
    {
     "name": "stdout",
     "output_type": "stream",
     "text": [
      "tensor(0.3906, device='cuda:0', grad_fn=<NllLossBackward>)\n",
      "0.3905743658542633\n"
     ]
    },
    {
     "name": "stderr",
     "output_type": "stream",
     "text": [
      "\n",
      "Iteration:  10%|██████▉                                                               | 41/415 [00:33<05:08,  1.21it/s]\u001b[A"
     ]
    },
    {
     "name": "stdout",
     "output_type": "stream",
     "text": [
      "tensor(0.5185, device='cuda:0', grad_fn=<NllLossBackward>)\n",
      "0.5184903144836426\n"
     ]
    },
    {
     "name": "stderr",
     "output_type": "stream",
     "text": [
      "\n",
      "Iteration:  10%|███████                                                               | 42/415 [00:34<05:04,  1.23it/s]\u001b[A"
     ]
    },
    {
     "name": "stdout",
     "output_type": "stream",
     "text": [
      "tensor(0.5289, device='cuda:0', grad_fn=<NllLossBackward>)\n",
      "0.528943657875061\n"
     ]
    },
    {
     "name": "stderr",
     "output_type": "stream",
     "text": [
      "\n",
      "Iteration:  10%|███████▎                                                              | 43/415 [00:35<05:02,  1.23it/s]\u001b[A"
     ]
    },
    {
     "name": "stdout",
     "output_type": "stream",
     "text": [
      "tensor(0.5223, device='cuda:0', grad_fn=<NllLossBackward>)\n",
      "0.5222954750061035\n"
     ]
    },
    {
     "name": "stderr",
     "output_type": "stream",
     "text": [
      "\n",
      "Iteration:  11%|███████▍                                                              | 44/415 [00:35<05:01,  1.23it/s]\u001b[A"
     ]
    },
    {
     "name": "stdout",
     "output_type": "stream",
     "text": [
      "tensor(0.4699, device='cuda:0', grad_fn=<NllLossBackward>)\n",
      "0.46992653608322144\n"
     ]
    },
    {
     "name": "stderr",
     "output_type": "stream",
     "text": [
      "\n",
      "Iteration:  11%|███████▌                                                              | 45/415 [00:36<05:02,  1.22it/s]\u001b[A"
     ]
    },
    {
     "name": "stdout",
     "output_type": "stream",
     "text": [
      "tensor(0.4246, device='cuda:0', grad_fn=<NllLossBackward>)\n",
      "0.42460960149765015\n"
     ]
    },
    {
     "name": "stderr",
     "output_type": "stream",
     "text": [
      "\n",
      "Iteration:  11%|███████▊                                                              | 46/415 [00:37<04:58,  1.24it/s]\u001b[A"
     ]
    },
    {
     "name": "stdout",
     "output_type": "stream",
     "text": [
      "tensor(0.6711, device='cuda:0', grad_fn=<NllLossBackward>)\n",
      "0.6710929870605469\n"
     ]
    },
    {
     "name": "stderr",
     "output_type": "stream",
     "text": [
      "\n",
      "Iteration:  11%|███████▉                                                              | 47/415 [00:38<05:03,  1.21it/s]\u001b[A"
     ]
    },
    {
     "name": "stdout",
     "output_type": "stream",
     "text": [
      "tensor(0.4504, device='cuda:0', grad_fn=<NllLossBackward>)\n",
      "0.4504266083240509\n"
     ]
    },
    {
     "name": "stderr",
     "output_type": "stream",
     "text": [
      "\n",
      "Iteration:  12%|████████                                                              | 48/415 [00:39<05:00,  1.22it/s]\u001b[A"
     ]
    },
    {
     "name": "stdout",
     "output_type": "stream",
     "text": [
      "tensor(0.3963, device='cuda:0', grad_fn=<NllLossBackward>)\n",
      "0.39630961418151855\n"
     ]
    },
    {
     "name": "stderr",
     "output_type": "stream",
     "text": [
      "\n",
      "Iteration:  12%|████████▎                                                             | 49/415 [00:40<05:00,  1.22it/s]\u001b[A"
     ]
    },
    {
     "name": "stdout",
     "output_type": "stream",
     "text": [
      "tensor(0.3952, device='cuda:0', grad_fn=<NllLossBackward>)\n",
      "0.3952435553073883\n"
     ]
    },
    {
     "name": "stderr",
     "output_type": "stream",
     "text": [
      "\n",
      "Iteration:  12%|████████▍                                                             | 50/415 [00:40<04:58,  1.22it/s]\u001b[A"
     ]
    },
    {
     "name": "stdout",
     "output_type": "stream",
     "text": [
      "tensor(0.6176, device='cuda:0', grad_fn=<NllLossBackward>)\n",
      "0.6176076531410217\n"
     ]
    },
    {
     "name": "stderr",
     "output_type": "stream",
     "text": [
      "\n",
      "Iteration:  12%|████████▌                                                             | 51/415 [00:41<04:57,  1.22it/s]\u001b[A"
     ]
    },
    {
     "name": "stdout",
     "output_type": "stream",
     "text": [
      "tensor(0.5351, device='cuda:0', grad_fn=<NllLossBackward>)\n",
      "0.5350721478462219\n"
     ]
    },
    {
     "name": "stderr",
     "output_type": "stream",
     "text": [
      "\n",
      "Iteration:  13%|████████▊                                                             | 52/415 [00:42<04:57,  1.22it/s]\u001b[A"
     ]
    },
    {
     "name": "stdout",
     "output_type": "stream",
     "text": [
      "tensor(0.3092, device='cuda:0', grad_fn=<NllLossBackward>)\n",
      "0.30920684337615967\n"
     ]
    },
    {
     "name": "stderr",
     "output_type": "stream",
     "text": [
      "\n",
      "Iteration:  13%|████████▉                                                             | 53/415 [00:43<04:53,  1.23it/s]\u001b[A"
     ]
    },
    {
     "name": "stdout",
     "output_type": "stream",
     "text": [
      "tensor(0.2942, device='cuda:0', grad_fn=<NllLossBackward>)\n",
      "0.29417723417282104\n"
     ]
    },
    {
     "name": "stderr",
     "output_type": "stream",
     "text": [
      "\n",
      "Iteration:  13%|█████████                                                             | 54/415 [00:44<05:06,  1.18it/s]\u001b[A"
     ]
    },
    {
     "name": "stdout",
     "output_type": "stream",
     "text": [
      "tensor(0.5194, device='cuda:0', grad_fn=<NllLossBackward>)\n",
      "0.5193634033203125\n"
     ]
    },
    {
     "name": "stderr",
     "output_type": "stream",
     "text": [
      "\n",
      "Iteration:  13%|█████████▎                                                            | 55/415 [00:45<05:00,  1.20it/s]\u001b[A"
     ]
    },
    {
     "name": "stdout",
     "output_type": "stream",
     "text": [
      "tensor(0.4816, device='cuda:0', grad_fn=<NllLossBackward>)\n",
      "0.48163697123527527\n"
     ]
    },
    {
     "name": "stderr",
     "output_type": "stream",
     "text": [
      "\n",
      "Iteration:  13%|█████████▍                                                            | 56/415 [00:45<04:55,  1.21it/s]\u001b[A"
     ]
    },
    {
     "name": "stdout",
     "output_type": "stream",
     "text": [
      "tensor(0.3800, device='cuda:0', grad_fn=<NllLossBackward>)\n",
      "0.38004815578460693\n"
     ]
    },
    {
     "name": "stderr",
     "output_type": "stream",
     "text": [
      "\n",
      "Iteration:  14%|█████████▌                                                            | 57/415 [00:46<04:58,  1.20it/s]\u001b[A"
     ]
    },
    {
     "name": "stdout",
     "output_type": "stream",
     "text": [
      "tensor(0.3990, device='cuda:0', grad_fn=<NllLossBackward>)\n",
      "0.39899855852127075\n"
     ]
    },
    {
     "name": "stderr",
     "output_type": "stream",
     "text": [
      "\n",
      "Iteration:  14%|█████████▊                                                            | 58/415 [00:47<04:52,  1.22it/s]\u001b[A"
     ]
    },
    {
     "name": "stdout",
     "output_type": "stream",
     "text": [
      "tensor(0.2513, device='cuda:0', grad_fn=<NllLossBackward>)\n",
      "0.2513251006603241\n"
     ]
    },
    {
     "name": "stderr",
     "output_type": "stream",
     "text": [
      "\n",
      "Iteration:  14%|█████████▉                                                            | 59/415 [00:48<04:49,  1.23it/s]\u001b[A"
     ]
    },
    {
     "name": "stdout",
     "output_type": "stream",
     "text": [
      "tensor(0.3005, device='cuda:0', grad_fn=<NllLossBackward>)\n",
      "0.30046573281288147\n"
     ]
    },
    {
     "name": "stderr",
     "output_type": "stream",
     "text": [
      "\n",
      "Iteration:  14%|██████████                                                            | 60/415 [00:49<04:55,  1.20it/s]\u001b[A"
     ]
    },
    {
     "name": "stdout",
     "output_type": "stream",
     "text": [
      "tensor(0.4583, device='cuda:0', grad_fn=<NllLossBackward>)\n",
      "0.45825648307800293\n"
     ]
    },
    {
     "name": "stderr",
     "output_type": "stream",
     "text": [
      "\n",
      "Iteration:  15%|██████████▎                                                           | 61/415 [00:49<04:54,  1.20it/s]\u001b[A"
     ]
    },
    {
     "name": "stdout",
     "output_type": "stream",
     "text": [
      "tensor(0.4106, device='cuda:0', grad_fn=<NllLossBackward>)\n",
      "0.4105500876903534\n"
     ]
    },
    {
     "name": "stderr",
     "output_type": "stream",
     "text": [
      "\n",
      "Iteration:  15%|██████████▍                                                           | 62/415 [00:50<04:52,  1.21it/s]\u001b[A"
     ]
    },
    {
     "name": "stdout",
     "output_type": "stream",
     "text": [
      "tensor(0.3625, device='cuda:0', grad_fn=<NllLossBackward>)\n",
      "0.36247918009757996\n"
     ]
    },
    {
     "name": "stderr",
     "output_type": "stream",
     "text": [
      "\n",
      "Iteration:  15%|██████████▋                                                           | 63/415 [00:51<04:55,  1.19it/s]\u001b[A"
     ]
    },
    {
     "name": "stdout",
     "output_type": "stream",
     "text": [
      "tensor(0.2887, device='cuda:0', grad_fn=<NllLossBackward>)\n",
      "0.28874456882476807\n"
     ]
    },
    {
     "name": "stderr",
     "output_type": "stream",
     "text": [
      "\n",
      "Iteration:  15%|██████████▊                                                           | 64/415 [00:52<04:53,  1.20it/s]\u001b[A"
     ]
    },
    {
     "name": "stdout",
     "output_type": "stream",
     "text": [
      "tensor(0.5332, device='cuda:0', grad_fn=<NllLossBackward>)\n",
      "0.533198356628418\n"
     ]
    },
    {
     "name": "stderr",
     "output_type": "stream",
     "text": [
      "\n",
      "Iteration:  16%|██████████▉                                                           | 65/415 [00:53<05:06,  1.14it/s]\u001b[A"
     ]
    },
    {
     "name": "stdout",
     "output_type": "stream",
     "text": [
      "tensor(0.2912, device='cuda:0', grad_fn=<NllLossBackward>)\n",
      "0.29121139645576477\n"
     ]
    },
    {
     "name": "stderr",
     "output_type": "stream",
     "text": [
      "\n",
      "Iteration:  16%|███████████▏                                                          | 66/415 [00:54<04:56,  1.18it/s]\u001b[A"
     ]
    },
    {
     "name": "stdout",
     "output_type": "stream",
     "text": [
      "tensor(0.4265, device='cuda:0', grad_fn=<NllLossBackward>)\n",
      "0.4264897406101227\n"
     ]
    },
    {
     "name": "stderr",
     "output_type": "stream",
     "text": [
      "\n",
      "Iteration:  16%|███████████▎                                                          | 67/415 [00:55<04:52,  1.19it/s]\u001b[A"
     ]
    },
    {
     "name": "stdout",
     "output_type": "stream",
     "text": [
      "tensor(0.2027, device='cuda:0', grad_fn=<NllLossBackward>)\n",
      "0.20267412066459656\n"
     ]
    },
    {
     "name": "stderr",
     "output_type": "stream",
     "text": [
      "\n",
      "Iteration:  16%|███████████▍                                                          | 68/415 [00:55<04:45,  1.21it/s]\u001b[A"
     ]
    },
    {
     "name": "stdout",
     "output_type": "stream",
     "text": [
      "tensor(0.3933, device='cuda:0', grad_fn=<NllLossBackward>)\n",
      "0.39325737953186035\n"
     ]
    },
    {
     "name": "stderr",
     "output_type": "stream",
     "text": [
      "\n",
      "Iteration:  17%|███████████▋                                                          | 69/415 [00:56<04:43,  1.22it/s]\u001b[A"
     ]
    },
    {
     "name": "stdout",
     "output_type": "stream",
     "text": [
      "tensor(0.6043, device='cuda:0', grad_fn=<NllLossBackward>)\n",
      "0.6043056845664978\n"
     ]
    },
    {
     "name": "stderr",
     "output_type": "stream",
     "text": [
      "\n",
      "Iteration:  17%|███████████▊                                                          | 70/415 [00:57<04:40,  1.23it/s]\u001b[A"
     ]
    },
    {
     "name": "stdout",
     "output_type": "stream",
     "text": [
      "tensor(0.4313, device='cuda:0', grad_fn=<NllLossBackward>)\n",
      "0.43132680654525757\n"
     ]
    },
    {
     "name": "stderr",
     "output_type": "stream",
     "text": [
      "\n",
      "Iteration:  17%|███████████▉                                                          | 71/415 [00:58<04:39,  1.23it/s]\u001b[A"
     ]
    },
    {
     "name": "stdout",
     "output_type": "stream",
     "text": [
      "tensor(0.4479, device='cuda:0', grad_fn=<NllLossBackward>)\n",
      "0.44786393642425537\n"
     ]
    },
    {
     "name": "stderr",
     "output_type": "stream",
     "text": [
      "\n",
      "Iteration:  17%|████████████▏                                                         | 72/415 [00:59<04:39,  1.23it/s]\u001b[A"
     ]
    },
    {
     "name": "stdout",
     "output_type": "stream",
     "text": [
      "tensor(0.3411, device='cuda:0', grad_fn=<NllLossBackward>)\n",
      "0.3411007821559906\n"
     ]
    },
    {
     "name": "stderr",
     "output_type": "stream",
     "text": [
      "\n",
      "Iteration:  18%|████████████▎                                                         | 73/415 [00:59<04:38,  1.23it/s]\u001b[A"
     ]
    },
    {
     "name": "stdout",
     "output_type": "stream",
     "text": [
      "tensor(0.4641, device='cuda:0', grad_fn=<NllLossBackward>)\n",
      "0.464112788438797\n"
     ]
    },
    {
     "name": "stderr",
     "output_type": "stream",
     "text": [
      "\n",
      "Iteration:  18%|████████████▍                                                         | 74/415 [01:00<04:38,  1.22it/s]\u001b[A"
     ]
    },
    {
     "name": "stdout",
     "output_type": "stream",
     "text": [
      "tensor(0.4143, device='cuda:0', grad_fn=<NllLossBackward>)\n",
      "0.41431060433387756\n"
     ]
    },
    {
     "name": "stderr",
     "output_type": "stream",
     "text": [
      "\n",
      "Iteration:  18%|████████████▋                                                         | 75/415 [01:01<04:38,  1.22it/s]\u001b[A"
     ]
    },
    {
     "name": "stdout",
     "output_type": "stream",
     "text": [
      "tensor(0.3931, device='cuda:0', grad_fn=<NllLossBackward>)\n",
      "0.39314430952072144\n"
     ]
    },
    {
     "name": "stderr",
     "output_type": "stream",
     "text": [
      "\n",
      "Iteration:  18%|████████████▊                                                         | 76/415 [01:02<04:34,  1.23it/s]\u001b[A"
     ]
    },
    {
     "name": "stdout",
     "output_type": "stream",
     "text": [
      "tensor(0.3931, device='cuda:0', grad_fn=<NllLossBackward>)\n",
      "0.3931308388710022\n"
     ]
    },
    {
     "name": "stderr",
     "output_type": "stream",
     "text": [
      "\n",
      "Iteration:  19%|████████████▉                                                         | 77/415 [01:03<04:40,  1.20it/s]\u001b[A"
     ]
    },
    {
     "name": "stdout",
     "output_type": "stream",
     "text": [
      "tensor(0.4321, device='cuda:0', grad_fn=<NllLossBackward>)\n",
      "0.4321438670158386\n"
     ]
    },
    {
     "name": "stderr",
     "output_type": "stream",
     "text": [
      "\n",
      "Iteration:  19%|█████████████▏                                                        | 78/415 [01:04<04:39,  1.21it/s]\u001b[A"
     ]
    },
    {
     "name": "stdout",
     "output_type": "stream",
     "text": [
      "tensor(0.5459, device='cuda:0', grad_fn=<NllLossBackward>)\n",
      "0.5459222197532654\n"
     ]
    },
    {
     "name": "stderr",
     "output_type": "stream",
     "text": [
      "\n",
      "Iteration:  19%|█████████████▎                                                        | 79/415 [01:04<04:41,  1.19it/s]\u001b[A"
     ]
    },
    {
     "name": "stdout",
     "output_type": "stream",
     "text": [
      "tensor(0.7519, device='cuda:0', grad_fn=<NllLossBackward>)\n",
      "0.7519210577011108\n"
     ]
    },
    {
     "name": "stderr",
     "output_type": "stream",
     "text": [
      "\n",
      "Iteration:  19%|█████████████▍                                                        | 80/415 [01:05<04:40,  1.20it/s]\u001b[A"
     ]
    },
    {
     "name": "stdout",
     "output_type": "stream",
     "text": [
      "tensor(0.4258, device='cuda:0', grad_fn=<NllLossBackward>)\n",
      "0.42583993077278137\n"
     ]
    },
    {
     "name": "stderr",
     "output_type": "stream",
     "text": [
      "\n",
      "Iteration:  20%|█████████████▋                                                        | 81/415 [01:06<04:35,  1.21it/s]\u001b[A"
     ]
    },
    {
     "name": "stdout",
     "output_type": "stream",
     "text": [
      "tensor(0.2912, device='cuda:0', grad_fn=<NllLossBackward>)\n",
      "0.2912302017211914\n"
     ]
    },
    {
     "name": "stderr",
     "output_type": "stream",
     "text": [
      "\n",
      "Iteration:  20%|█████████████▊                                                        | 82/415 [01:07<04:32,  1.22it/s]\u001b[A"
     ]
    },
    {
     "name": "stdout",
     "output_type": "stream",
     "text": [
      "tensor(0.4895, device='cuda:0', grad_fn=<NllLossBackward>)\n",
      "0.4894558787345886\n"
     ]
    },
    {
     "name": "stderr",
     "output_type": "stream",
     "text": [
      "\n",
      "Iteration:  20%|██████████████                                                        | 83/415 [01:08<04:40,  1.18it/s]\u001b[A"
     ]
    },
    {
     "name": "stdout",
     "output_type": "stream",
     "text": [
      "tensor(0.4289, device='cuda:0', grad_fn=<NllLossBackward>)\n",
      "0.42894884943962097\n"
     ]
    },
    {
     "name": "stderr",
     "output_type": "stream",
     "text": [
      "\n",
      "Iteration:  20%|██████████████▏                                                       | 84/415 [01:09<04:52,  1.13it/s]\u001b[A"
     ]
    },
    {
     "name": "stdout",
     "output_type": "stream",
     "text": [
      "tensor(0.3250, device='cuda:0', grad_fn=<NllLossBackward>)\n",
      "0.3250005543231964\n"
     ]
    },
    {
     "name": "stderr",
     "output_type": "stream",
     "text": [
      "\n",
      "Iteration:  20%|██████████████▎                                                       | 85/415 [01:10<04:48,  1.14it/s]\u001b[A"
     ]
    },
    {
     "name": "stdout",
     "output_type": "stream",
     "text": [
      "tensor(0.4892, device='cuda:0', grad_fn=<NllLossBackward>)\n",
      "0.4891839027404785\n"
     ]
    },
    {
     "name": "stderr",
     "output_type": "stream",
     "text": [
      "\n",
      "Iteration:  21%|██████████████▌                                                       | 86/415 [01:10<04:44,  1.16it/s]\u001b[A"
     ]
    },
    {
     "name": "stdout",
     "output_type": "stream",
     "text": [
      "tensor(0.4237, device='cuda:0', grad_fn=<NllLossBackward>)\n",
      "0.42373186349868774\n"
     ]
    },
    {
     "name": "stderr",
     "output_type": "stream",
     "text": [
      "\n",
      "Iteration:  21%|██████████████▋                                                       | 87/415 [01:11<04:41,  1.16it/s]\u001b[A"
     ]
    },
    {
     "name": "stdout",
     "output_type": "stream",
     "text": [
      "tensor(0.4492, device='cuda:0', grad_fn=<NllLossBackward>)\n",
      "0.4491993188858032\n"
     ]
    },
    {
     "name": "stderr",
     "output_type": "stream",
     "text": [
      "\n",
      "Iteration:  21%|██████████████▊                                                       | 88/415 [01:12<04:36,  1.18it/s]\u001b[A"
     ]
    },
    {
     "name": "stdout",
     "output_type": "stream",
     "text": [
      "tensor(0.4146, device='cuda:0', grad_fn=<NllLossBackward>)\n",
      "0.41459739208221436\n"
     ]
    },
    {
     "name": "stderr",
     "output_type": "stream",
     "text": [
      "\n",
      "Iteration:  21%|███████████████                                                       | 89/415 [01:13<04:37,  1.18it/s]\u001b[A"
     ]
    },
    {
     "name": "stdout",
     "output_type": "stream",
     "text": [
      "tensor(0.3993, device='cuda:0', grad_fn=<NllLossBackward>)\n",
      "0.39934295415878296\n"
     ]
    },
    {
     "name": "stderr",
     "output_type": "stream",
     "text": [
      "\n",
      "Iteration:  22%|███████████████▏                                                      | 90/415 [01:14<04:31,  1.20it/s]\u001b[A"
     ]
    },
    {
     "name": "stdout",
     "output_type": "stream",
     "text": [
      "tensor(0.4303, device='cuda:0', grad_fn=<NllLossBackward>)\n",
      "0.43033015727996826\n"
     ]
    },
    {
     "name": "stderr",
     "output_type": "stream",
     "text": [
      "\n",
      "Iteration:  22%|███████████████▎                                                      | 91/415 [01:15<04:27,  1.21it/s]\u001b[A"
     ]
    },
    {
     "name": "stdout",
     "output_type": "stream",
     "text": [
      "tensor(0.3747, device='cuda:0', grad_fn=<NllLossBackward>)\n",
      "0.37473973631858826\n"
     ]
    },
    {
     "name": "stderr",
     "output_type": "stream",
     "text": [
      "\n",
      "Iteration:  22%|███████████████▌                                                      | 92/415 [01:15<04:30,  1.20it/s]\u001b[A"
     ]
    },
    {
     "name": "stdout",
     "output_type": "stream",
     "text": [
      "tensor(0.4225, device='cuda:0', grad_fn=<NllLossBackward>)\n",
      "0.4225230813026428\n"
     ]
    },
    {
     "name": "stderr",
     "output_type": "stream",
     "text": [
      "\n",
      "Iteration:  22%|███████████████▋                                                      | 93/415 [01:16<04:24,  1.22it/s]\u001b[A"
     ]
    },
    {
     "name": "stdout",
     "output_type": "stream",
     "text": [
      "tensor(0.5129, device='cuda:0', grad_fn=<NllLossBackward>)\n",
      "0.5128545761108398\n"
     ]
    },
    {
     "name": "stderr",
     "output_type": "stream",
     "text": [
      "\n",
      "Iteration:  23%|███████████████▊                                                      | 94/415 [01:17<04:23,  1.22it/s]\u001b[A"
     ]
    },
    {
     "name": "stdout",
     "output_type": "stream",
     "text": [
      "tensor(0.2972, device='cuda:0', grad_fn=<NllLossBackward>)\n",
      "0.29721781611442566\n"
     ]
    },
    {
     "name": "stderr",
     "output_type": "stream",
     "text": [
      "\n",
      "Iteration:  23%|████████████████                                                      | 95/415 [01:18<04:25,  1.20it/s]\u001b[A"
     ]
    },
    {
     "name": "stdout",
     "output_type": "stream",
     "text": [
      "tensor(0.4950, device='cuda:0', grad_fn=<NllLossBackward>)\n",
      "0.4950079023838043\n"
     ]
    },
    {
     "name": "stderr",
     "output_type": "stream",
     "text": [
      "\n",
      "Iteration:  23%|████████████████▏                                                     | 96/415 [01:19<04:24,  1.20it/s]\u001b[A"
     ]
    },
    {
     "name": "stdout",
     "output_type": "stream",
     "text": [
      "tensor(0.5708, device='cuda:0', grad_fn=<NllLossBackward>)\n",
      "0.5708329677581787\n"
     ]
    },
    {
     "name": "stderr",
     "output_type": "stream",
     "text": [
      "\n",
      "Iteration:  23%|████████████████▎                                                     | 97/415 [01:19<04:20,  1.22it/s]\u001b[A"
     ]
    },
    {
     "name": "stdout",
     "output_type": "stream",
     "text": [
      "tensor(0.4921, device='cuda:0', grad_fn=<NllLossBackward>)\n",
      "0.49207940697669983\n"
     ]
    },
    {
     "name": "stderr",
     "output_type": "stream",
     "text": [
      "\n",
      "Iteration:  24%|████████████████▌                                                     | 98/415 [01:20<04:19,  1.22it/s]\u001b[A"
     ]
    },
    {
     "name": "stdout",
     "output_type": "stream",
     "text": [
      "tensor(0.3905, device='cuda:0', grad_fn=<NllLossBackward>)\n",
      "0.39049065113067627\n"
     ]
    },
    {
     "name": "stderr",
     "output_type": "stream",
     "text": [
      "\n",
      "Iteration:  24%|████████████████▋                                                     | 99/415 [01:21<04:16,  1.23it/s]\u001b[A"
     ]
    },
    {
     "name": "stdout",
     "output_type": "stream",
     "text": [
      "tensor(0.4575, device='cuda:0', grad_fn=<NllLossBackward>)\n",
      "0.4575105309486389\n"
     ]
    },
    {
     "name": "stderr",
     "output_type": "stream",
     "text": [
      "\n",
      "Iteration:  24%|████████████████▋                                                    | 100/415 [01:22<04:16,  1.23it/s]\u001b[A"
     ]
    },
    {
     "name": "stdout",
     "output_type": "stream",
     "text": [
      "tensor(0.5271, device='cuda:0', grad_fn=<NllLossBackward>)\n",
      "0.5271397829055786\n"
     ]
    },
    {
     "name": "stderr",
     "output_type": "stream",
     "text": [
      "\n",
      "Iteration:  24%|████████████████▊                                                    | 101/415 [01:23<04:21,  1.20it/s]\u001b[A"
     ]
    },
    {
     "name": "stdout",
     "output_type": "stream",
     "text": [
      "tensor(0.3847, device='cuda:0', grad_fn=<NllLossBackward>)\n",
      "0.3847191631793976\n"
     ]
    },
    {
     "name": "stderr",
     "output_type": "stream",
     "text": [
      "\n",
      "Iteration:  25%|████████████████▉                                                    | 102/415 [01:24<04:18,  1.21it/s]\u001b[A"
     ]
    },
    {
     "name": "stdout",
     "output_type": "stream",
     "text": [
      "tensor(0.3448, device='cuda:0', grad_fn=<NllLossBackward>)\n",
      "0.34476837515830994\n"
     ]
    },
    {
     "name": "stderr",
     "output_type": "stream",
     "text": [
      "\n",
      "Iteration:  25%|█████████████████▏                                                   | 103/415 [01:24<04:14,  1.22it/s]\u001b[A"
     ]
    },
    {
     "name": "stdout",
     "output_type": "stream",
     "text": [
      "tensor(0.3181, device='cuda:0', grad_fn=<NllLossBackward>)\n",
      "0.3181404173374176\n"
     ]
    },
    {
     "name": "stderr",
     "output_type": "stream",
     "text": [
      "\n",
      "Iteration:  25%|█████████████████▎                                                   | 104/415 [01:25<04:11,  1.24it/s]\u001b[A"
     ]
    },
    {
     "name": "stdout",
     "output_type": "stream",
     "text": [
      "tensor(0.2579, device='cuda:0', grad_fn=<NllLossBackward>)\n",
      "0.2578526735305786\n"
     ]
    },
    {
     "name": "stderr",
     "output_type": "stream",
     "text": [
      "\n",
      "Iteration:  25%|█████████████████▍                                                   | 105/415 [01:26<04:19,  1.19it/s]\u001b[A"
     ]
    },
    {
     "name": "stdout",
     "output_type": "stream",
     "text": [
      "tensor(0.4328, device='cuda:0', grad_fn=<NllLossBackward>)\n",
      "0.43278107047080994\n"
     ]
    },
    {
     "name": "stderr",
     "output_type": "stream",
     "text": [
      "\n",
      "Iteration:  26%|█████████████████▌                                                   | 106/415 [01:27<04:17,  1.20it/s]\u001b[A"
     ]
    },
    {
     "name": "stdout",
     "output_type": "stream",
     "text": [
      "tensor(0.4901, device='cuda:0', grad_fn=<NllLossBackward>)\n",
      "0.4900915324687958\n"
     ]
    },
    {
     "name": "stderr",
     "output_type": "stream",
     "text": [
      "\n",
      "Iteration:  26%|█████████████████▊                                                   | 107/415 [01:28<04:15,  1.21it/s]\u001b[A"
     ]
    },
    {
     "name": "stdout",
     "output_type": "stream",
     "text": [
      "tensor(0.2500, device='cuda:0', grad_fn=<NllLossBackward>)\n",
      "0.24999822676181793\n"
     ]
    },
    {
     "name": "stderr",
     "output_type": "stream",
     "text": [
      "\n",
      "Iteration:  26%|█████████████████▉                                                   | 108/415 [01:29<04:22,  1.17it/s]\u001b[A"
     ]
    },
    {
     "name": "stdout",
     "output_type": "stream",
     "text": [
      "tensor(0.5092, device='cuda:0', grad_fn=<NllLossBackward>)\n",
      "0.5091849565505981\n"
     ]
    },
    {
     "name": "stderr",
     "output_type": "stream",
     "text": [
      "\n",
      "Iteration:  26%|██████████████████                                                   | 109/415 [01:29<04:20,  1.18it/s]\u001b[A"
     ]
    },
    {
     "name": "stdout",
     "output_type": "stream",
     "text": [
      "tensor(0.3271, device='cuda:0', grad_fn=<NllLossBackward>)\n",
      "0.32710543274879456\n"
     ]
    },
    {
     "name": "stderr",
     "output_type": "stream",
     "text": [
      "\n",
      "Iteration:  27%|██████████████████▎                                                  | 110/415 [01:30<04:16,  1.19it/s]\u001b[A"
     ]
    },
    {
     "name": "stdout",
     "output_type": "stream",
     "text": [
      "tensor(0.3712, device='cuda:0', grad_fn=<NllLossBackward>)\n",
      "0.371201753616333\n"
     ]
    },
    {
     "name": "stderr",
     "output_type": "stream",
     "text": [
      "\n",
      "Iteration:  27%|██████████████████▍                                                  | 111/415 [01:31<04:12,  1.20it/s]\u001b[A"
     ]
    },
    {
     "name": "stdout",
     "output_type": "stream",
     "text": [
      "tensor(0.3663, device='cuda:0', grad_fn=<NllLossBackward>)\n",
      "0.3663361966609955\n"
     ]
    },
    {
     "name": "stderr",
     "output_type": "stream",
     "text": [
      "\n",
      "Iteration:  27%|██████████████████▌                                                  | 112/415 [01:32<04:09,  1.21it/s]\u001b[A"
     ]
    },
    {
     "name": "stdout",
     "output_type": "stream",
     "text": [
      "tensor(0.4930, device='cuda:0', grad_fn=<NllLossBackward>)\n",
      "0.4929662346839905\n"
     ]
    },
    {
     "name": "stderr",
     "output_type": "stream",
     "text": [
      "\n",
      "Iteration:  27%|██████████████████▊                                                  | 113/415 [01:33<04:11,  1.20it/s]\u001b[A"
     ]
    },
    {
     "name": "stdout",
     "output_type": "stream",
     "text": [
      "tensor(0.3297, device='cuda:0', grad_fn=<NllLossBackward>)\n",
      "0.3296547532081604\n"
     ]
    },
    {
     "name": "stderr",
     "output_type": "stream",
     "text": [
      "\n",
      "Iteration:  27%|██████████████████▉                                                  | 114/415 [01:34<04:09,  1.21it/s]\u001b[A"
     ]
    },
    {
     "name": "stdout",
     "output_type": "stream",
     "text": [
      "tensor(0.3984, device='cuda:0', grad_fn=<NllLossBackward>)\n",
      "0.3983684778213501\n"
     ]
    },
    {
     "name": "stderr",
     "output_type": "stream",
     "text": [
      "\n",
      "Iteration:  28%|███████████████████                                                  | 115/415 [01:34<04:11,  1.19it/s]\u001b[A"
     ]
    },
    {
     "name": "stdout",
     "output_type": "stream",
     "text": [
      "tensor(0.7294, device='cuda:0', grad_fn=<NllLossBackward>)\n",
      "0.7293691635131836\n"
     ]
    },
    {
     "name": "stderr",
     "output_type": "stream",
     "text": [
      "\n",
      "Iteration:  28%|███████████████████▎                                                 | 116/415 [01:35<04:07,  1.21it/s]\u001b[A"
     ]
    },
    {
     "name": "stdout",
     "output_type": "stream",
     "text": [
      "tensor(0.5813, device='cuda:0', grad_fn=<NllLossBackward>)\n",
      "0.5812572836875916\n"
     ]
    },
    {
     "name": "stderr",
     "output_type": "stream",
     "text": [
      "\n",
      "Iteration:  28%|███████████████████▍                                                 | 117/415 [01:36<04:03,  1.22it/s]\u001b[A"
     ]
    },
    {
     "name": "stdout",
     "output_type": "stream",
     "text": [
      "tensor(0.2825, device='cuda:0', grad_fn=<NllLossBackward>)\n",
      "0.28249531984329224\n"
     ]
    },
    {
     "name": "stderr",
     "output_type": "stream",
     "text": [
      "\n",
      "Iteration:  28%|███████████████████▌                                                 | 118/415 [01:37<04:07,  1.20it/s]\u001b[A"
     ]
    },
    {
     "name": "stdout",
     "output_type": "stream",
     "text": [
      "tensor(0.3916, device='cuda:0', grad_fn=<NllLossBackward>)\n",
      "0.3915647268295288\n"
     ]
    },
    {
     "name": "stderr",
     "output_type": "stream",
     "text": [
      "\n",
      "Iteration:  29%|███████████████████▊                                                 | 119/415 [01:38<04:03,  1.22it/s]\u001b[A"
     ]
    },
    {
     "name": "stdout",
     "output_type": "stream",
     "text": [
      "tensor(0.4974, device='cuda:0', grad_fn=<NllLossBackward>)\n",
      "0.4973818361759186\n"
     ]
    },
    {
     "name": "stderr",
     "output_type": "stream",
     "text": [
      "\n",
      "Iteration:  29%|███████████████████▉                                                 | 120/415 [01:39<04:02,  1.22it/s]\u001b[A"
     ]
    },
    {
     "name": "stdout",
     "output_type": "stream",
     "text": [
      "tensor(0.2827, device='cuda:0', grad_fn=<NllLossBackward>)\n",
      "0.28265783190727234\n"
     ]
    },
    {
     "name": "stderr",
     "output_type": "stream",
     "text": [
      "\n",
      "Iteration:  29%|████████████████████                                                 | 121/415 [01:39<04:00,  1.22it/s]\u001b[A"
     ]
    },
    {
     "name": "stdout",
     "output_type": "stream",
     "text": [
      "tensor(0.5294, device='cuda:0', grad_fn=<NllLossBackward>)\n",
      "0.5294232964515686\n"
     ]
    },
    {
     "name": "stderr",
     "output_type": "stream",
     "text": [
      "\n",
      "Iteration:  29%|████████████████████▎                                                | 122/415 [01:40<03:59,  1.22it/s]\u001b[A"
     ]
    },
    {
     "name": "stdout",
     "output_type": "stream",
     "text": [
      "tensor(0.5922, device='cuda:0', grad_fn=<NllLossBackward>)\n",
      "0.5921816825866699\n"
     ]
    },
    {
     "name": "stderr",
     "output_type": "stream",
     "text": [
      "\n",
      "Iteration:  30%|████████████████████▍                                                | 123/415 [01:41<03:58,  1.22it/s]\u001b[A"
     ]
    },
    {
     "name": "stdout",
     "output_type": "stream",
     "text": [
      "tensor(0.5485, device='cuda:0', grad_fn=<NllLossBackward>)\n",
      "0.5485140681266785\n"
     ]
    },
    {
     "name": "stderr",
     "output_type": "stream",
     "text": [
      "\n",
      "Iteration:  30%|████████████████████▌                                                | 124/415 [01:42<04:02,  1.20it/s]\u001b[A"
     ]
    },
    {
     "name": "stdout",
     "output_type": "stream",
     "text": [
      "tensor(0.3061, device='cuda:0', grad_fn=<NllLossBackward>)\n",
      "0.3061051070690155\n"
     ]
    },
    {
     "name": "stderr",
     "output_type": "stream",
     "text": [
      "\n",
      "Iteration:  30%|████████████████████▊                                                | 125/415 [01:43<03:57,  1.22it/s]\u001b[A"
     ]
    },
    {
     "name": "stdout",
     "output_type": "stream",
     "text": [
      "tensor(0.5566, device='cuda:0', grad_fn=<NllLossBackward>)\n",
      "0.5565799474716187\n"
     ]
    },
    {
     "name": "stderr",
     "output_type": "stream",
     "text": [
      "\n",
      "Iteration:  30%|████████████████████▉                                                | 126/415 [01:44<04:00,  1.20it/s]\u001b[A"
     ]
    },
    {
     "name": "stdout",
     "output_type": "stream",
     "text": [
      "tensor(0.4213, device='cuda:0', grad_fn=<NllLossBackward>)\n",
      "0.42130401730537415\n"
     ]
    },
    {
     "name": "stderr",
     "output_type": "stream",
     "text": [
      "\n",
      "Iteration:  31%|█████████████████████                                                | 127/415 [01:44<04:01,  1.19it/s]\u001b[A"
     ]
    },
    {
     "name": "stdout",
     "output_type": "stream",
     "text": [
      "tensor(0.4779, device='cuda:0', grad_fn=<NllLossBackward>)\n",
      "0.4779103696346283\n"
     ]
    },
    {
     "name": "stderr",
     "output_type": "stream",
     "text": [
      "\n",
      "Iteration:  31%|█████████████████████▎                                               | 128/415 [01:45<03:58,  1.20it/s]\u001b[A"
     ]
    },
    {
     "name": "stdout",
     "output_type": "stream",
     "text": [
      "tensor(0.3120, device='cuda:0', grad_fn=<NllLossBackward>)\n",
      "0.31197771430015564\n"
     ]
    },
    {
     "name": "stderr",
     "output_type": "stream",
     "text": [
      "\n",
      "Iteration:  31%|█████████████████████▍                                               | 129/415 [01:46<04:00,  1.19it/s]\u001b[A"
     ]
    },
    {
     "name": "stdout",
     "output_type": "stream",
     "text": [
      "tensor(0.3799, device='cuda:0', grad_fn=<NllLossBackward>)\n",
      "0.37988603115081787\n"
     ]
    },
    {
     "name": "stderr",
     "output_type": "stream",
     "text": [
      "\n",
      "Iteration:  31%|█████████████████████▌                                               | 130/415 [01:47<04:01,  1.18it/s]\u001b[A"
     ]
    },
    {
     "name": "stdout",
     "output_type": "stream",
     "text": [
      "tensor(0.4305, device='cuda:0', grad_fn=<NllLossBackward>)\n",
      "0.4304647147655487\n"
     ]
    },
    {
     "name": "stderr",
     "output_type": "stream",
     "text": [
      "\n",
      "Iteration:  32%|█████████████████████▊                                               | 131/415 [01:48<03:56,  1.20it/s]\u001b[A"
     ]
    },
    {
     "name": "stdout",
     "output_type": "stream",
     "text": [
      "tensor(0.3694, device='cuda:0', grad_fn=<NllLossBackward>)\n",
      "0.3694137930870056\n"
     ]
    },
    {
     "name": "stderr",
     "output_type": "stream",
     "text": [
      "\n",
      "Iteration:  32%|█████████████████████▉                                               | 132/415 [01:49<03:56,  1.20it/s]\u001b[A"
     ]
    },
    {
     "name": "stdout",
     "output_type": "stream",
     "text": [
      "tensor(0.4157, device='cuda:0', grad_fn=<NllLossBackward>)\n",
      "0.4157028794288635\n"
     ]
    },
    {
     "name": "stderr",
     "output_type": "stream",
     "text": [
      "\n",
      "Iteration:  32%|██████████████████████                                               | 133/415 [01:49<03:52,  1.21it/s]\u001b[A"
     ]
    },
    {
     "name": "stdout",
     "output_type": "stream",
     "text": [
      "tensor(0.2909, device='cuda:0', grad_fn=<NllLossBackward>)\n",
      "0.29087698459625244\n"
     ]
    },
    {
     "name": "stderr",
     "output_type": "stream",
     "text": [
      "\n",
      "Iteration:  32%|██████████████████████▎                                              | 134/415 [01:50<03:54,  1.20it/s]\u001b[A"
     ]
    },
    {
     "name": "stdout",
     "output_type": "stream",
     "text": [
      "tensor(0.4601, device='cuda:0', grad_fn=<NllLossBackward>)\n",
      "0.4601457118988037\n"
     ]
    },
    {
     "name": "stderr",
     "output_type": "stream",
     "text": [
      "\n",
      "Iteration:  33%|██████████████████████▍                                              | 135/415 [01:51<03:56,  1.18it/s]\u001b[A"
     ]
    },
    {
     "name": "stdout",
     "output_type": "stream",
     "text": [
      "tensor(0.2911, device='cuda:0', grad_fn=<NllLossBackward>)\n",
      "0.29106831550598145\n"
     ]
    },
    {
     "name": "stderr",
     "output_type": "stream",
     "text": [
      "\n",
      "Iteration:  33%|██████████████████████▌                                              | 136/415 [01:52<03:52,  1.20it/s]\u001b[A"
     ]
    },
    {
     "name": "stdout",
     "output_type": "stream",
     "text": [
      "tensor(0.3615, device='cuda:0', grad_fn=<NllLossBackward>)\n",
      "0.3614838123321533\n"
     ]
    },
    {
     "name": "stderr",
     "output_type": "stream",
     "text": [
      "\n",
      "Iteration:  33%|██████████████████████▊                                              | 137/415 [01:53<03:52,  1.19it/s]\u001b[A"
     ]
    },
    {
     "name": "stdout",
     "output_type": "stream",
     "text": [
      "tensor(0.4232, device='cuda:0', grad_fn=<NllLossBackward>)\n",
      "0.4232063889503479\n"
     ]
    },
    {
     "name": "stderr",
     "output_type": "stream",
     "text": [
      "\n",
      "Iteration:  33%|██████████████████████▉                                              | 138/415 [01:54<03:50,  1.20it/s]\u001b[A"
     ]
    },
    {
     "name": "stdout",
     "output_type": "stream",
     "text": [
      "tensor(0.4324, device='cuda:0', grad_fn=<NllLossBackward>)\n",
      "0.4323793053627014\n"
     ]
    },
    {
     "name": "stderr",
     "output_type": "stream",
     "text": [
      "\n",
      "Iteration:  33%|███████████████████████                                              | 139/415 [01:54<03:48,  1.21it/s]\u001b[A"
     ]
    },
    {
     "name": "stdout",
     "output_type": "stream",
     "text": [
      "tensor(0.7494, device='cuda:0', grad_fn=<NllLossBackward>)\n",
      "0.7493845820426941\n"
     ]
    },
    {
     "name": "stderr",
     "output_type": "stream",
     "text": [
      "\n",
      "Iteration:  34%|███████████████████████▎                                             | 140/415 [01:55<03:49,  1.20it/s]\u001b[A"
     ]
    },
    {
     "name": "stdout",
     "output_type": "stream",
     "text": [
      "tensor(0.2657, device='cuda:0', grad_fn=<NllLossBackward>)\n",
      "0.2657186985015869\n"
     ]
    },
    {
     "name": "stderr",
     "output_type": "stream",
     "text": [
      "\n",
      "Iteration:  34%|███████████████████████▍                                             | 141/415 [01:56<03:47,  1.21it/s]\u001b[A"
     ]
    },
    {
     "name": "stdout",
     "output_type": "stream",
     "text": [
      "tensor(0.2616, device='cuda:0', grad_fn=<NllLossBackward>)\n",
      "0.26160338521003723\n"
     ]
    },
    {
     "name": "stderr",
     "output_type": "stream",
     "text": [
      "\n",
      "Iteration:  34%|███████████████████████▌                                             | 142/415 [01:57<03:49,  1.19it/s]\u001b[A"
     ]
    },
    {
     "name": "stdout",
     "output_type": "stream",
     "text": [
      "tensor(0.3981, device='cuda:0', grad_fn=<NllLossBackward>)\n",
      "0.39810389280319214\n"
     ]
    },
    {
     "name": "stderr",
     "output_type": "stream",
     "text": [
      "\n",
      "Iteration:  34%|███████████████████████▊                                             | 143/415 [01:58<03:49,  1.18it/s]\u001b[A"
     ]
    },
    {
     "name": "stdout",
     "output_type": "stream",
     "text": [
      "tensor(0.2622, device='cuda:0', grad_fn=<NllLossBackward>)\n",
      "0.2622391879558563\n"
     ]
    },
    {
     "name": "stderr",
     "output_type": "stream",
     "text": [
      "\n",
      "Iteration:  35%|███████████████████████▉                                             | 144/415 [01:59<03:45,  1.20it/s]\u001b[A"
     ]
    },
    {
     "name": "stdout",
     "output_type": "stream",
     "text": [
      "tensor(0.2598, device='cuda:0', grad_fn=<NllLossBackward>)\n",
      "0.2598089575767517\n"
     ]
    },
    {
     "name": "stderr",
     "output_type": "stream",
     "text": [
      "\n",
      "Iteration:  35%|████████████████████████                                             | 145/415 [01:59<03:45,  1.20it/s]\u001b[A"
     ]
    },
    {
     "name": "stdout",
     "output_type": "stream",
     "text": [
      "tensor(0.3649, device='cuda:0', grad_fn=<NllLossBackward>)\n",
      "0.3649267554283142\n"
     ]
    },
    {
     "name": "stderr",
     "output_type": "stream",
     "text": [
      "\n",
      "Iteration:  35%|████████████████████████▎                                            | 146/415 [02:00<03:43,  1.21it/s]\u001b[A"
     ]
    },
    {
     "name": "stdout",
     "output_type": "stream",
     "text": [
      "tensor(0.4987, device='cuda:0', grad_fn=<NllLossBackward>)\n",
      "0.49866998195648193\n"
     ]
    },
    {
     "name": "stderr",
     "output_type": "stream",
     "text": [
      "\n",
      "Iteration:  35%|████████████████████████▍                                            | 147/415 [02:01<03:49,  1.17it/s]\u001b[A"
     ]
    },
    {
     "name": "stdout",
     "output_type": "stream",
     "text": [
      "tensor(0.4009, device='cuda:0', grad_fn=<NllLossBackward>)\n",
      "0.4008883833885193\n"
     ]
    },
    {
     "name": "stderr",
     "output_type": "stream",
     "text": [
      "\n",
      "Iteration:  36%|████████████████████████▌                                            | 148/415 [02:02<03:44,  1.19it/s]\u001b[A"
     ]
    },
    {
     "name": "stdout",
     "output_type": "stream",
     "text": [
      "tensor(0.5368, device='cuda:0', grad_fn=<NllLossBackward>)\n",
      "0.5368329882621765\n"
     ]
    },
    {
     "name": "stderr",
     "output_type": "stream",
     "text": [
      "\n",
      "Iteration:  36%|████████████████████████▊                                            | 149/415 [02:03<03:41,  1.20it/s]\u001b[A"
     ]
    },
    {
     "name": "stdout",
     "output_type": "stream",
     "text": [
      "tensor(0.2787, device='cuda:0', grad_fn=<NllLossBackward>)\n",
      "0.2786639928817749\n"
     ]
    },
    {
     "name": "stderr",
     "output_type": "stream",
     "text": [
      "\n",
      "Iteration:  36%|████████████████████████▉                                            | 150/415 [02:04<04:00,  1.10it/s]\u001b[A"
     ]
    },
    {
     "name": "stdout",
     "output_type": "stream",
     "text": [
      "tensor(0.2218, device='cuda:0', grad_fn=<NllLossBackward>)\n",
      "0.22183434665203094\n"
     ]
    },
    {
     "name": "stderr",
     "output_type": "stream",
     "text": [
      "\n",
      "Iteration:  36%|█████████████████████████                                            | 151/415 [02:05<03:54,  1.13it/s]\u001b[A"
     ]
    },
    {
     "name": "stdout",
     "output_type": "stream",
     "text": [
      "tensor(0.4026, device='cuda:0', grad_fn=<NllLossBackward>)\n",
      "0.4026256501674652\n"
     ]
    },
    {
     "name": "stderr",
     "output_type": "stream",
     "text": [
      "\n",
      "Iteration:  37%|█████████████████████████▎                                           | 152/415 [02:06<03:50,  1.14it/s]\u001b[A"
     ]
    },
    {
     "name": "stdout",
     "output_type": "stream",
     "text": [
      "tensor(0.4348, device='cuda:0', grad_fn=<NllLossBackward>)\n",
      "0.4347521662712097\n"
     ]
    },
    {
     "name": "stderr",
     "output_type": "stream",
     "text": [
      "\n",
      "Iteration:  37%|█████████████████████████▍                                           | 153/415 [02:06<03:44,  1.17it/s]\u001b[A"
     ]
    },
    {
     "name": "stdout",
     "output_type": "stream",
     "text": [
      "tensor(0.3180, device='cuda:0', grad_fn=<NllLossBackward>)\n",
      "0.31795191764831543\n"
     ]
    },
    {
     "name": "stderr",
     "output_type": "stream",
     "text": [
      "\n",
      "Iteration:  37%|█████████████████████████▌                                           | 154/415 [02:07<03:44,  1.16it/s]\u001b[A"
     ]
    },
    {
     "name": "stdout",
     "output_type": "stream",
     "text": [
      "tensor(0.3330, device='cuda:0', grad_fn=<NllLossBackward>)\n",
      "0.3329772651195526\n"
     ]
    },
    {
     "name": "stderr",
     "output_type": "stream",
     "text": [
      "\n",
      "Iteration:  37%|█████████████████████████▊                                           | 155/415 [02:08<03:39,  1.18it/s]\u001b[A"
     ]
    },
    {
     "name": "stdout",
     "output_type": "stream",
     "text": [
      "tensor(0.6024, device='cuda:0', grad_fn=<NllLossBackward>)\n",
      "0.6024261116981506\n"
     ]
    },
    {
     "name": "stderr",
     "output_type": "stream",
     "text": [
      "\n",
      "Iteration:  38%|█████████████████████████▉                                           | 156/415 [02:09<03:36,  1.20it/s]\u001b[A"
     ]
    },
    {
     "name": "stdout",
     "output_type": "stream",
     "text": [
      "tensor(0.2835, device='cuda:0', grad_fn=<NllLossBackward>)\n",
      "0.28349098563194275\n"
     ]
    },
    {
     "name": "stderr",
     "output_type": "stream",
     "text": [
      "\n",
      "Iteration:  38%|██████████████████████████                                           | 157/415 [02:10<03:40,  1.17it/s]\u001b[A"
     ]
    },
    {
     "name": "stdout",
     "output_type": "stream",
     "text": [
      "tensor(0.2845, device='cuda:0', grad_fn=<NllLossBackward>)\n",
      "0.2845417261123657\n"
     ]
    },
    {
     "name": "stderr",
     "output_type": "stream",
     "text": [
      "\n",
      "Iteration:  38%|██████████████████████████▎                                          | 158/415 [02:11<03:37,  1.18it/s]\u001b[A"
     ]
    },
    {
     "name": "stdout",
     "output_type": "stream",
     "text": [
      "tensor(0.4605, device='cuda:0', grad_fn=<NllLossBackward>)\n",
      "0.4604960083961487\n"
     ]
    },
    {
     "name": "stderr",
     "output_type": "stream",
     "text": [
      "\n",
      "Iteration:  38%|██████████████████████████▍                                          | 159/415 [02:11<03:32,  1.20it/s]\u001b[A"
     ]
    },
    {
     "name": "stdout",
     "output_type": "stream",
     "text": [
      "tensor(0.7218, device='cuda:0', grad_fn=<NllLossBackward>)\n",
      "0.7217502593994141\n"
     ]
    },
    {
     "name": "stderr",
     "output_type": "stream",
     "text": [
      "\n",
      "Iteration:  39%|██████████████████████████▌                                          | 160/415 [02:12<03:31,  1.20it/s]\u001b[A"
     ]
    },
    {
     "name": "stdout",
     "output_type": "stream",
     "text": [
      "tensor(0.3318, device='cuda:0', grad_fn=<NllLossBackward>)\n",
      "0.3317897915840149\n"
     ]
    },
    {
     "name": "stderr",
     "output_type": "stream",
     "text": [
      "\n",
      "Iteration:  39%|██████████████████████████▊                                          | 161/415 [02:13<03:32,  1.19it/s]\u001b[A"
     ]
    },
    {
     "name": "stdout",
     "output_type": "stream",
     "text": [
      "tensor(0.3452, device='cuda:0', grad_fn=<NllLossBackward>)\n",
      "0.3451647162437439\n"
     ]
    },
    {
     "name": "stderr",
     "output_type": "stream",
     "text": [
      "\n",
      "Iteration:  39%|██████████████████████████▉                                          | 162/415 [02:14<03:32,  1.19it/s]\u001b[A"
     ]
    },
    {
     "name": "stdout",
     "output_type": "stream",
     "text": [
      "tensor(0.4394, device='cuda:0', grad_fn=<NllLossBackward>)\n",
      "0.43939515948295593\n"
     ]
    },
    {
     "name": "stderr",
     "output_type": "stream",
     "text": [
      "\n",
      "Iteration:  39%|███████████████████████████                                          | 163/415 [02:15<03:31,  1.19it/s]\u001b[A"
     ]
    },
    {
     "name": "stdout",
     "output_type": "stream",
     "text": [
      "tensor(0.3259, device='cuda:0', grad_fn=<NllLossBackward>)\n",
      "0.3258809745311737\n"
     ]
    },
    {
     "name": "stderr",
     "output_type": "stream",
     "text": [
      "\n",
      "Iteration:  40%|███████████████████████████▎                                         | 164/415 [02:16<03:30,  1.19it/s]\u001b[A"
     ]
    },
    {
     "name": "stdout",
     "output_type": "stream",
     "text": [
      "tensor(0.6759, device='cuda:0', grad_fn=<NllLossBackward>)\n",
      "0.6759074330329895\n"
     ]
    },
    {
     "name": "stderr",
     "output_type": "stream",
     "text": [
      "\n",
      "Iteration:  40%|███████████████████████████▍                                         | 165/415 [02:16<03:27,  1.21it/s]\u001b[A"
     ]
    },
    {
     "name": "stdout",
     "output_type": "stream",
     "text": [
      "tensor(0.3985, device='cuda:0', grad_fn=<NllLossBackward>)\n",
      "0.3985428512096405\n"
     ]
    },
    {
     "name": "stderr",
     "output_type": "stream",
     "text": [
      "\n",
      "Iteration:  40%|███████████████████████████▌                                         | 166/415 [02:17<03:31,  1.18it/s]\u001b[A"
     ]
    },
    {
     "name": "stdout",
     "output_type": "stream",
     "text": [
      "tensor(0.5784, device='cuda:0', grad_fn=<NllLossBackward>)\n",
      "0.5783615112304688\n"
     ]
    },
    {
     "name": "stderr",
     "output_type": "stream",
     "text": [
      "\n",
      "Iteration:  40%|███████████████████████████▊                                         | 167/415 [02:18<03:27,  1.20it/s]\u001b[A"
     ]
    },
    {
     "name": "stdout",
     "output_type": "stream",
     "text": [
      "tensor(0.5176, device='cuda:0', grad_fn=<NllLossBackward>)\n",
      "0.5175603032112122\n"
     ]
    },
    {
     "name": "stderr",
     "output_type": "stream",
     "text": [
      "\n",
      "Iteration:  40%|███████████████████████████▉                                         | 168/415 [02:19<03:25,  1.20it/s]\u001b[A"
     ]
    },
    {
     "name": "stdout",
     "output_type": "stream",
     "text": [
      "tensor(0.4158, device='cuda:0', grad_fn=<NllLossBackward>)\n",
      "0.41583380103111267\n"
     ]
    },
    {
     "name": "stderr",
     "output_type": "stream",
     "text": [
      "\n",
      "Iteration:  41%|████████████████████████████                                         | 169/415 [02:20<03:23,  1.21it/s]\u001b[A"
     ]
    },
    {
     "name": "stdout",
     "output_type": "stream",
     "text": [
      "tensor(0.5678, device='cuda:0', grad_fn=<NllLossBackward>)\n",
      "0.5677915811538696\n"
     ]
    },
    {
     "name": "stderr",
     "output_type": "stream",
     "text": [
      "\n",
      "Iteration:  41%|████████████████████████████▎                                        | 170/415 [02:21<03:24,  1.20it/s]\u001b[A"
     ]
    },
    {
     "name": "stdout",
     "output_type": "stream",
     "text": [
      "tensor(0.5014, device='cuda:0', grad_fn=<NllLossBackward>)\n",
      "0.50144362449646\n"
     ]
    },
    {
     "name": "stderr",
     "output_type": "stream",
     "text": [
      "\n",
      "Iteration:  41%|████████████████████████████▍                                        | 171/415 [02:21<03:24,  1.20it/s]\u001b[A"
     ]
    },
    {
     "name": "stdout",
     "output_type": "stream",
     "text": [
      "tensor(0.4878, device='cuda:0', grad_fn=<NllLossBackward>)\n",
      "0.4878324568271637\n"
     ]
    },
    {
     "name": "stderr",
     "output_type": "stream",
     "text": [
      "\n",
      "Iteration:  41%|████████████████████████████▌                                        | 172/415 [02:22<03:21,  1.21it/s]\u001b[A"
     ]
    },
    {
     "name": "stdout",
     "output_type": "stream",
     "text": [
      "tensor(0.6132, device='cuda:0', grad_fn=<NllLossBackward>)\n",
      "0.613226056098938\n"
     ]
    },
    {
     "name": "stderr",
     "output_type": "stream",
     "text": [
      "\n",
      "Iteration:  42%|████████████████████████████▊                                        | 173/415 [02:23<03:19,  1.21it/s]\u001b[A"
     ]
    },
    {
     "name": "stdout",
     "output_type": "stream",
     "text": [
      "tensor(0.6958, device='cuda:0', grad_fn=<NllLossBackward>)\n",
      "0.6958091855049133\n"
     ]
    },
    {
     "name": "stderr",
     "output_type": "stream",
     "text": [
      "\n",
      "Iteration:  42%|████████████████████████████▉                                        | 174/415 [02:24<03:29,  1.15it/s]\u001b[A"
     ]
    },
    {
     "name": "stdout",
     "output_type": "stream",
     "text": [
      "tensor(0.4588, device='cuda:0', grad_fn=<NllLossBackward>)\n",
      "0.458818256855011\n"
     ]
    },
    {
     "name": "stderr",
     "output_type": "stream",
     "text": [
      "\n",
      "Iteration:  42%|█████████████████████████████                                        | 175/415 [02:25<03:24,  1.17it/s]\u001b[A"
     ]
    },
    {
     "name": "stdout",
     "output_type": "stream",
     "text": [
      "tensor(0.3638, device='cuda:0', grad_fn=<NllLossBackward>)\n",
      "0.36377519369125366\n"
     ]
    },
    {
     "name": "stderr",
     "output_type": "stream",
     "text": [
      "\n",
      "Iteration:  42%|█████████████████████████████▎                                       | 176/415 [02:26<03:20,  1.19it/s]\u001b[A"
     ]
    },
    {
     "name": "stdout",
     "output_type": "stream",
     "text": [
      "tensor(0.3980, device='cuda:0', grad_fn=<NllLossBackward>)\n",
      "0.39803534746170044\n"
     ]
    },
    {
     "name": "stderr",
     "output_type": "stream",
     "text": [
      "\n",
      "Iteration:  43%|█████████████████████████████▍                                       | 177/415 [02:26<03:20,  1.19it/s]\u001b[A"
     ]
    },
    {
     "name": "stdout",
     "output_type": "stream",
     "text": [
      "tensor(0.3709, device='cuda:0', grad_fn=<NllLossBackward>)\n",
      "0.37087196111679077\n"
     ]
    },
    {
     "name": "stderr",
     "output_type": "stream",
     "text": [
      "\n",
      "Iteration:  43%|█████████████████████████████▌                                       | 178/415 [02:27<03:19,  1.19it/s]\u001b[A"
     ]
    },
    {
     "name": "stdout",
     "output_type": "stream",
     "text": [
      "tensor(0.4545, device='cuda:0', grad_fn=<NllLossBackward>)\n",
      "0.45448797941207886\n"
     ]
    },
    {
     "name": "stderr",
     "output_type": "stream",
     "text": [
      "\n",
      "Iteration:  43%|█████████████████████████████▊                                       | 179/415 [02:28<03:16,  1.20it/s]\u001b[A"
     ]
    },
    {
     "name": "stdout",
     "output_type": "stream",
     "text": [
      "tensor(0.3713, device='cuda:0', grad_fn=<NllLossBackward>)\n",
      "0.37131667137145996\n"
     ]
    },
    {
     "name": "stderr",
     "output_type": "stream",
     "text": [
      "\n",
      "Iteration:  43%|█████████████████████████████▉                                       | 180/415 [02:29<03:14,  1.21it/s]\u001b[A"
     ]
    },
    {
     "name": "stdout",
     "output_type": "stream",
     "text": [
      "tensor(0.2776, device='cuda:0', grad_fn=<NllLossBackward>)\n",
      "0.2776048183441162\n"
     ]
    },
    {
     "name": "stderr",
     "output_type": "stream",
     "text": [
      "\n",
      "Iteration:  44%|██████████████████████████████                                       | 181/415 [02:30<03:11,  1.22it/s]\u001b[A"
     ]
    },
    {
     "name": "stdout",
     "output_type": "stream",
     "text": [
      "tensor(0.4073, device='cuda:0', grad_fn=<NllLossBackward>)\n",
      "0.4072926342487335\n"
     ]
    },
    {
     "name": "stderr",
     "output_type": "stream",
     "text": [
      "\n",
      "Iteration:  44%|██████████████████████████████▎                                      | 182/415 [02:31<03:09,  1.23it/s]\u001b[A"
     ]
    },
    {
     "name": "stdout",
     "output_type": "stream",
     "text": [
      "tensor(0.4021, device='cuda:0', grad_fn=<NllLossBackward>)\n",
      "0.4020940959453583\n"
     ]
    },
    {
     "name": "stderr",
     "output_type": "stream",
     "text": [
      "\n",
      "Iteration:  44%|██████████████████████████████▍                                      | 183/415 [02:31<03:16,  1.18it/s]\u001b[A"
     ]
    },
    {
     "name": "stdout",
     "output_type": "stream",
     "text": [
      "tensor(0.3625, device='cuda:0', grad_fn=<NllLossBackward>)\n",
      "0.362455278635025\n"
     ]
    },
    {
     "name": "stderr",
     "output_type": "stream",
     "text": [
      "\n",
      "Iteration:  44%|██████████████████████████████▌                                      | 184/415 [02:32<03:15,  1.18it/s]\u001b[A"
     ]
    },
    {
     "name": "stdout",
     "output_type": "stream",
     "text": [
      "tensor(0.3574, device='cuda:0', grad_fn=<NllLossBackward>)\n",
      "0.3574138879776001\n"
     ]
    },
    {
     "name": "stderr",
     "output_type": "stream",
     "text": [
      "\n",
      "Iteration:  45%|██████████████████████████████▊                                      | 185/415 [02:33<03:15,  1.17it/s]\u001b[A"
     ]
    },
    {
     "name": "stdout",
     "output_type": "stream",
     "text": [
      "tensor(0.3043, device='cuda:0', grad_fn=<NllLossBackward>)\n",
      "0.3043443560600281\n"
     ]
    },
    {
     "name": "stderr",
     "output_type": "stream",
     "text": [
      "\n",
      "Iteration:  45%|██████████████████████████████▉                                      | 186/415 [02:34<03:13,  1.18it/s]\u001b[A"
     ]
    },
    {
     "name": "stdout",
     "output_type": "stream",
     "text": [
      "tensor(0.3090, device='cuda:0', grad_fn=<NllLossBackward>)\n",
      "0.30903810262680054\n"
     ]
    },
    {
     "name": "stderr",
     "output_type": "stream",
     "text": [
      "\n",
      "Iteration:  45%|███████████████████████████████                                      | 187/415 [02:35<03:10,  1.20it/s]\u001b[A"
     ]
    },
    {
     "name": "stdout",
     "output_type": "stream",
     "text": [
      "tensor(0.2515, device='cuda:0', grad_fn=<NllLossBackward>)\n",
      "0.25150924921035767\n"
     ]
    },
    {
     "name": "stderr",
     "output_type": "stream",
     "text": [
      "\n",
      "Iteration:  45%|███████████████████████████████▎                                     | 188/415 [02:36<03:08,  1.20it/s]\u001b[A"
     ]
    },
    {
     "name": "stdout",
     "output_type": "stream",
     "text": [
      "tensor(0.4952, device='cuda:0', grad_fn=<NllLossBackward>)\n",
      "0.49523505568504333\n"
     ]
    },
    {
     "name": "stderr",
     "output_type": "stream",
     "text": [
      "\n",
      "Iteration:  46%|███████████████████████████████▍                                     | 189/415 [02:36<03:07,  1.20it/s]\u001b[A"
     ]
    },
    {
     "name": "stdout",
     "output_type": "stream",
     "text": [
      "tensor(0.2357, device='cuda:0', grad_fn=<NllLossBackward>)\n",
      "0.23573428392410278\n"
     ]
    },
    {
     "name": "stderr",
     "output_type": "stream",
     "text": [
      "\n",
      "Iteration:  46%|███████████████████████████████▌                                     | 190/415 [02:37<03:12,  1.17it/s]\u001b[A"
     ]
    },
    {
     "name": "stdout",
     "output_type": "stream",
     "text": [
      "tensor(0.6111, device='cuda:0', grad_fn=<NllLossBackward>)\n",
      "0.6111029386520386\n"
     ]
    },
    {
     "name": "stderr",
     "output_type": "stream",
     "text": [
      "\n",
      "Iteration:  46%|███████████████████████████████▊                                     | 191/415 [02:38<03:07,  1.19it/s]\u001b[A"
     ]
    },
    {
     "name": "stdout",
     "output_type": "stream",
     "text": [
      "tensor(0.7829, device='cuda:0', grad_fn=<NllLossBackward>)\n",
      "0.7829331159591675\n"
     ]
    },
    {
     "name": "stderr",
     "output_type": "stream",
     "text": [
      "\n",
      "Iteration:  46%|███████████████████████████████▉                                     | 192/415 [02:39<03:15,  1.14it/s]\u001b[A"
     ]
    },
    {
     "name": "stdout",
     "output_type": "stream",
     "text": [
      "tensor(0.3466, device='cuda:0', grad_fn=<NllLossBackward>)\n",
      "0.3465796709060669\n"
     ]
    },
    {
     "name": "stderr",
     "output_type": "stream",
     "text": [
      "\n",
      "Iteration:  47%|████████████████████████████████                                     | 193/415 [02:40<03:10,  1.17it/s]\u001b[A"
     ]
    },
    {
     "name": "stdout",
     "output_type": "stream",
     "text": [
      "tensor(0.3652, device='cuda:0', grad_fn=<NllLossBackward>)\n",
      "0.3651818633079529\n"
     ]
    },
    {
     "name": "stderr",
     "output_type": "stream",
     "text": [
      "\n",
      "Iteration:  47%|████████████████████████████████▎                                    | 194/415 [02:41<03:10,  1.16it/s]\u001b[A"
     ]
    },
    {
     "name": "stdout",
     "output_type": "stream",
     "text": [
      "tensor(0.4077, device='cuda:0', grad_fn=<NllLossBackward>)\n",
      "0.4077034592628479\n"
     ]
    },
    {
     "name": "stderr",
     "output_type": "stream",
     "text": [
      "\n",
      "Iteration:  47%|████████████████████████████████▍                                    | 195/415 [02:42<03:06,  1.18it/s]\u001b[A"
     ]
    },
    {
     "name": "stdout",
     "output_type": "stream",
     "text": [
      "tensor(0.3376, device='cuda:0', grad_fn=<NllLossBackward>)\n",
      "0.3376079201698303\n"
     ]
    },
    {
     "name": "stderr",
     "output_type": "stream",
     "text": [
      "\n",
      "Iteration:  47%|████████████████████████████████▌                                    | 196/415 [02:43<03:09,  1.16it/s]\u001b[A"
     ]
    },
    {
     "name": "stdout",
     "output_type": "stream",
     "text": [
      "tensor(0.5774, device='cuda:0', grad_fn=<NllLossBackward>)\n",
      "0.5774309635162354\n"
     ]
    },
    {
     "name": "stderr",
     "output_type": "stream",
     "text": [
      "\n",
      "Iteration:  47%|████████████████████████████████▊                                    | 197/415 [02:43<03:08,  1.16it/s]\u001b[A"
     ]
    },
    {
     "name": "stdout",
     "output_type": "stream",
     "text": [
      "tensor(0.5203, device='cuda:0', grad_fn=<NllLossBackward>)\n",
      "0.5203242897987366\n"
     ]
    },
    {
     "name": "stderr",
     "output_type": "stream",
     "text": [
      "\n",
      "Iteration:  48%|████████████████████████████████▉                                    | 198/415 [02:44<03:05,  1.17it/s]\u001b[A"
     ]
    },
    {
     "name": "stdout",
     "output_type": "stream",
     "text": [
      "tensor(0.3784, device='cuda:0', grad_fn=<NllLossBackward>)\n",
      "0.37840670347213745\n"
     ]
    },
    {
     "name": "stderr",
     "output_type": "stream",
     "text": [
      "\n",
      "Iteration:  48%|█████████████████████████████████                                    | 199/415 [02:45<03:06,  1.16it/s]\u001b[A"
     ]
    },
    {
     "name": "stdout",
     "output_type": "stream",
     "text": [
      "tensor(0.3053, device='cuda:0', grad_fn=<NllLossBackward>)\n",
      "0.30533844232559204\n"
     ]
    },
    {
     "name": "stderr",
     "output_type": "stream",
     "text": [
      "\n",
      "Iteration:  48%|█████████████████████████████████▎                                   | 200/415 [02:46<03:01,  1.18it/s]\u001b[A"
     ]
    },
    {
     "name": "stdout",
     "output_type": "stream",
     "text": [
      "tensor(0.4265, device='cuda:0', grad_fn=<NllLossBackward>)\n",
      "0.4264920949935913\n"
     ]
    },
    {
     "name": "stderr",
     "output_type": "stream",
     "text": [
      "\n",
      "Iteration:  48%|█████████████████████████████████▍                                   | 201/415 [02:47<02:58,  1.20it/s]\u001b[A"
     ]
    },
    {
     "name": "stdout",
     "output_type": "stream",
     "text": [
      "tensor(0.2819, device='cuda:0', grad_fn=<NllLossBackward>)\n",
      "0.2819279134273529\n"
     ]
    },
    {
     "name": "stderr",
     "output_type": "stream",
     "text": [
      "\n",
      "Iteration:  49%|█████████████████████████████████▌                                   | 202/415 [02:48<02:57,  1.20it/s]\u001b[A"
     ]
    },
    {
     "name": "stdout",
     "output_type": "stream",
     "text": [
      "tensor(0.4238, device='cuda:0', grad_fn=<NllLossBackward>)\n",
      "0.42378461360931396\n"
     ]
    },
    {
     "name": "stderr",
     "output_type": "stream",
     "text": [
      "\n",
      "Iteration:  49%|█████████████████████████████████▊                                   | 203/415 [02:48<02:56,  1.20it/s]\u001b[A"
     ]
    },
    {
     "name": "stdout",
     "output_type": "stream",
     "text": [
      "tensor(0.3977, device='cuda:0', grad_fn=<NllLossBackward>)\n",
      "0.3976956009864807\n"
     ]
    },
    {
     "name": "stderr",
     "output_type": "stream",
     "text": [
      "\n",
      "Iteration:  49%|█████████████████████████████████▉                                   | 204/415 [02:49<02:55,  1.20it/s]\u001b[A"
     ]
    },
    {
     "name": "stdout",
     "output_type": "stream",
     "text": [
      "tensor(0.4808, device='cuda:0', grad_fn=<NllLossBackward>)\n",
      "0.48079848289489746\n"
     ]
    },
    {
     "name": "stderr",
     "output_type": "stream",
     "text": [
      "\n",
      "Iteration:  49%|██████████████████████████████████                                   | 205/415 [02:50<02:54,  1.21it/s]\u001b[A"
     ]
    },
    {
     "name": "stdout",
     "output_type": "stream",
     "text": [
      "tensor(0.3619, device='cuda:0', grad_fn=<NllLossBackward>)\n",
      "0.3618978261947632\n"
     ]
    },
    {
     "name": "stderr",
     "output_type": "stream",
     "text": [
      "\n",
      "Iteration:  50%|██████████████████████████████████▎                                  | 206/415 [02:51<02:52,  1.21it/s]\u001b[A"
     ]
    },
    {
     "name": "stdout",
     "output_type": "stream",
     "text": [
      "tensor(0.4823, device='cuda:0', grad_fn=<NllLossBackward>)\n",
      "0.4822882115840912\n"
     ]
    },
    {
     "name": "stderr",
     "output_type": "stream",
     "text": [
      "\n",
      "Iteration:  50%|██████████████████████████████████▍                                  | 207/415 [02:52<02:58,  1.16it/s]\u001b[A"
     ]
    },
    {
     "name": "stdout",
     "output_type": "stream",
     "text": [
      "tensor(0.3625, device='cuda:0', grad_fn=<NllLossBackward>)\n",
      "0.36251723766326904\n"
     ]
    },
    {
     "name": "stderr",
     "output_type": "stream",
     "text": [
      "\n",
      "Iteration:  50%|██████████████████████████████████▌                                  | 208/415 [02:53<02:56,  1.18it/s]\u001b[A"
     ]
    },
    {
     "name": "stdout",
     "output_type": "stream",
     "text": [
      "tensor(0.4394, device='cuda:0', grad_fn=<NllLossBackward>)\n",
      "0.4393690824508667\n"
     ]
    },
    {
     "name": "stderr",
     "output_type": "stream",
     "text": [
      "\n",
      "Iteration:  50%|██████████████████████████████████▋                                  | 209/415 [02:54<02:58,  1.15it/s]\u001b[A"
     ]
    },
    {
     "name": "stdout",
     "output_type": "stream",
     "text": [
      "tensor(0.4292, device='cuda:0', grad_fn=<NllLossBackward>)\n",
      "0.4292106628417969\n"
     ]
    },
    {
     "name": "stderr",
     "output_type": "stream",
     "text": [
      "\n",
      "Iteration:  51%|██████████████████████████████████▉                                  | 210/415 [02:54<02:55,  1.17it/s]\u001b[A"
     ]
    },
    {
     "name": "stdout",
     "output_type": "stream",
     "text": [
      "tensor(0.3834, device='cuda:0', grad_fn=<NllLossBackward>)\n",
      "0.38343346118927\n"
     ]
    },
    {
     "name": "stderr",
     "output_type": "stream",
     "text": [
      "\n",
      "Iteration:  51%|███████████████████████████████████                                  | 211/415 [02:55<02:52,  1.19it/s]\u001b[A"
     ]
    },
    {
     "name": "stdout",
     "output_type": "stream",
     "text": [
      "tensor(0.2951, device='cuda:0', grad_fn=<NllLossBackward>)\n",
      "0.29513663053512573\n"
     ]
    },
    {
     "name": "stderr",
     "output_type": "stream",
     "text": [
      "\n",
      "Iteration:  51%|███████████████████████████████████▏                                 | 212/415 [02:56<02:50,  1.19it/s]\u001b[A"
     ]
    },
    {
     "name": "stdout",
     "output_type": "stream",
     "text": [
      "tensor(0.4534, device='cuda:0', grad_fn=<NllLossBackward>)\n",
      "0.4533637464046478\n"
     ]
    },
    {
     "name": "stderr",
     "output_type": "stream",
     "text": [
      "\n",
      "Iteration:  51%|███████████████████████████████████▍                                 | 213/415 [02:57<02:47,  1.20it/s]\u001b[A"
     ]
    },
    {
     "name": "stdout",
     "output_type": "stream",
     "text": [
      "tensor(0.4105, device='cuda:0', grad_fn=<NllLossBackward>)\n",
      "0.41047176718711853\n"
     ]
    },
    {
     "name": "stderr",
     "output_type": "stream",
     "text": [
      "\n",
      "Iteration:  52%|███████████████████████████████████▌                                 | 214/415 [02:58<03:01,  1.11it/s]\u001b[A"
     ]
    },
    {
     "name": "stdout",
     "output_type": "stream",
     "text": [
      "tensor(0.3184, device='cuda:0', grad_fn=<NllLossBackward>)\n",
      "0.3183777332305908\n"
     ]
    },
    {
     "name": "stderr",
     "output_type": "stream",
     "text": [
      "\n",
      "Iteration:  52%|███████████████████████████████████▋                                 | 215/415 [02:59<02:56,  1.13it/s]\u001b[A"
     ]
    },
    {
     "name": "stdout",
     "output_type": "stream",
     "text": [
      "tensor(0.3018, device='cuda:0', grad_fn=<NllLossBackward>)\n",
      "0.30184295773506165\n"
     ]
    },
    {
     "name": "stderr",
     "output_type": "stream",
     "text": [
      "\n",
      "Iteration:  52%|███████████████████████████████████▉                                 | 216/415 [03:00<02:52,  1.15it/s]\u001b[A"
     ]
    },
    {
     "name": "stdout",
     "output_type": "stream",
     "text": [
      "tensor(0.5854, device='cuda:0', grad_fn=<NllLossBackward>)\n",
      "0.5854041576385498\n"
     ]
    },
    {
     "name": "stderr",
     "output_type": "stream",
     "text": [
      "\n",
      "Iteration:  52%|████████████████████████████████████                                 | 217/415 [03:00<02:49,  1.17it/s]\u001b[A"
     ]
    },
    {
     "name": "stdout",
     "output_type": "stream",
     "text": [
      "tensor(0.3134, device='cuda:0', grad_fn=<NllLossBackward>)\n",
      "0.3133509159088135\n"
     ]
    },
    {
     "name": "stderr",
     "output_type": "stream",
     "text": [
      "\n",
      "Iteration:  53%|████████████████████████████████████▏                                | 218/415 [03:01<02:49,  1.16it/s]\u001b[A"
     ]
    },
    {
     "name": "stdout",
     "output_type": "stream",
     "text": [
      "tensor(0.1890, device='cuda:0', grad_fn=<NllLossBackward>)\n",
      "0.18898436427116394\n"
     ]
    },
    {
     "name": "stderr",
     "output_type": "stream",
     "text": [
      "\n",
      "Iteration:  53%|████████████████████████████████████▍                                | 219/415 [03:02<02:44,  1.19it/s]\u001b[A"
     ]
    },
    {
     "name": "stdout",
     "output_type": "stream",
     "text": [
      "tensor(0.4823, device='cuda:0', grad_fn=<NllLossBackward>)\n",
      "0.482316792011261\n"
     ]
    },
    {
     "name": "stderr",
     "output_type": "stream",
     "text": [
      "\n",
      "Iteration:  53%|████████████████████████████████████▌                                | 220/415 [03:03<02:43,  1.19it/s]\u001b[A"
     ]
    },
    {
     "name": "stdout",
     "output_type": "stream",
     "text": [
      "tensor(0.3921, device='cuda:0', grad_fn=<NllLossBackward>)\n",
      "0.39208731055259705\n"
     ]
    },
    {
     "name": "stderr",
     "output_type": "stream",
     "text": [
      "\n",
      "Iteration:  53%|████████████████████████████████████▋                                | 221/415 [03:04<02:42,  1.19it/s]\u001b[A"
     ]
    },
    {
     "name": "stdout",
     "output_type": "stream",
     "text": [
      "tensor(0.4740, device='cuda:0', grad_fn=<NllLossBackward>)\n",
      "0.47395357489585876\n"
     ]
    },
    {
     "name": "stderr",
     "output_type": "stream",
     "text": [
      "\n",
      "Iteration:  53%|████████████████████████████████████▉                                | 222/415 [03:05<02:41,  1.20it/s]\u001b[A"
     ]
    },
    {
     "name": "stdout",
     "output_type": "stream",
     "text": [
      "tensor(0.4920, device='cuda:0', grad_fn=<NllLossBackward>)\n",
      "0.49199411273002625\n"
     ]
    },
    {
     "name": "stderr",
     "output_type": "stream",
     "text": [
      "\n",
      "Iteration:  54%|█████████████████████████████████████                                | 223/415 [03:05<02:38,  1.21it/s]\u001b[A"
     ]
    },
    {
     "name": "stdout",
     "output_type": "stream",
     "text": [
      "tensor(0.5075, device='cuda:0', grad_fn=<NllLossBackward>)\n",
      "0.5074628591537476\n"
     ]
    },
    {
     "name": "stderr",
     "output_type": "stream",
     "text": [
      "\n",
      "Iteration:  54%|█████████████████████████████████████▏                               | 224/415 [03:06<02:37,  1.21it/s]\u001b[A"
     ]
    },
    {
     "name": "stdout",
     "output_type": "stream",
     "text": [
      "tensor(0.2858, device='cuda:0', grad_fn=<NllLossBackward>)\n",
      "0.2857853174209595\n"
     ]
    },
    {
     "name": "stderr",
     "output_type": "stream",
     "text": [
      "\n",
      "Iteration:  54%|█████████████████████████████████████▍                               | 225/415 [03:07<02:36,  1.21it/s]\u001b[A"
     ]
    },
    {
     "name": "stdout",
     "output_type": "stream",
     "text": [
      "tensor(0.3065, device='cuda:0', grad_fn=<NllLossBackward>)\n",
      "0.30654847621917725\n"
     ]
    },
    {
     "name": "stderr",
     "output_type": "stream",
     "text": [
      "\n",
      "Iteration:  54%|█████████████████████████████████████▌                               | 226/415 [03:08<02:35,  1.22it/s]\u001b[A"
     ]
    },
    {
     "name": "stdout",
     "output_type": "stream",
     "text": [
      "tensor(0.2796, device='cuda:0', grad_fn=<NllLossBackward>)\n",
      "0.2795901596546173\n"
     ]
    },
    {
     "name": "stderr",
     "output_type": "stream",
     "text": [
      "\n",
      "Iteration:  55%|█████████████████████████████████████▋                               | 227/415 [03:09<02:35,  1.21it/s]\u001b[A"
     ]
    },
    {
     "name": "stdout",
     "output_type": "stream",
     "text": [
      "tensor(0.4244, device='cuda:0', grad_fn=<NllLossBackward>)\n",
      "0.4244157075881958\n"
     ]
    },
    {
     "name": "stderr",
     "output_type": "stream",
     "text": [
      "\n",
      "Iteration:  55%|█████████████████████████████████████▉                               | 228/415 [03:09<02:33,  1.22it/s]\u001b[A"
     ]
    },
    {
     "name": "stdout",
     "output_type": "stream",
     "text": [
      "tensor(0.5606, device='cuda:0', grad_fn=<NllLossBackward>)\n",
      "0.5606290698051453\n"
     ]
    },
    {
     "name": "stderr",
     "output_type": "stream",
     "text": [
      "\n",
      "Iteration:  55%|██████████████████████████████████████                               | 229/415 [03:10<02:32,  1.22it/s]\u001b[A"
     ]
    },
    {
     "name": "stdout",
     "output_type": "stream",
     "text": [
      "tensor(0.4387, device='cuda:0', grad_fn=<NllLossBackward>)\n",
      "0.4387202858924866\n"
     ]
    },
    {
     "name": "stderr",
     "output_type": "stream",
     "text": [
      "\n",
      "Iteration:  55%|██████████████████████████████████████▏                              | 230/415 [03:11<02:30,  1.23it/s]\u001b[A"
     ]
    },
    {
     "name": "stdout",
     "output_type": "stream",
     "text": [
      "tensor(0.3859, device='cuda:0', grad_fn=<NllLossBackward>)\n",
      "0.3859395980834961\n"
     ]
    },
    {
     "name": "stderr",
     "output_type": "stream",
     "text": [
      "\n",
      "Iteration:  56%|██████████████████████████████████████▍                              | 231/415 [03:12<02:32,  1.21it/s]\u001b[A"
     ]
    },
    {
     "name": "stdout",
     "output_type": "stream",
     "text": [
      "tensor(0.2676, device='cuda:0', grad_fn=<NllLossBackward>)\n",
      "0.26761212944984436\n"
     ]
    },
    {
     "name": "stderr",
     "output_type": "stream",
     "text": [
      "\n",
      "Iteration:  56%|██████████████████████████████████████▌                              | 232/415 [03:13<02:33,  1.20it/s]\u001b[A"
     ]
    },
    {
     "name": "stdout",
     "output_type": "stream",
     "text": [
      "tensor(0.3783, device='cuda:0', grad_fn=<NllLossBackward>)\n",
      "0.3782750368118286\n"
     ]
    },
    {
     "name": "stderr",
     "output_type": "stream",
     "text": [
      "\n",
      "Iteration:  56%|██████████████████████████████████████▋                              | 233/415 [03:14<02:30,  1.21it/s]\u001b[A"
     ]
    },
    {
     "name": "stdout",
     "output_type": "stream",
     "text": [
      "tensor(0.4071, device='cuda:0', grad_fn=<NllLossBackward>)\n",
      "0.407074898481369\n"
     ]
    },
    {
     "name": "stderr",
     "output_type": "stream",
     "text": [
      "\n",
      "Iteration:  56%|██████████████████████████████████████▉                              | 234/415 [03:15<02:36,  1.16it/s]\u001b[A"
     ]
    },
    {
     "name": "stdout",
     "output_type": "stream",
     "text": [
      "tensor(0.2822, device='cuda:0', grad_fn=<NllLossBackward>)\n",
      "0.2821846008300781\n"
     ]
    },
    {
     "name": "stderr",
     "output_type": "stream",
     "text": [
      "\n",
      "Iteration:  57%|███████████████████████████████████████                              | 235/415 [03:15<02:36,  1.15it/s]\u001b[A"
     ]
    },
    {
     "name": "stdout",
     "output_type": "stream",
     "text": [
      "tensor(0.4202, device='cuda:0', grad_fn=<NllLossBackward>)\n",
      "0.4201955795288086\n"
     ]
    },
    {
     "name": "stderr",
     "output_type": "stream",
     "text": [
      "\n",
      "Iteration:  57%|███████████████████████████████████████▏                             | 236/415 [03:16<02:36,  1.15it/s]\u001b[A"
     ]
    },
    {
     "name": "stdout",
     "output_type": "stream",
     "text": [
      "tensor(0.6181, device='cuda:0', grad_fn=<NllLossBackward>)\n",
      "0.6180548071861267\n"
     ]
    },
    {
     "name": "stderr",
     "output_type": "stream",
     "text": [
      "\n",
      "Iteration:  57%|███████████████████████████████████████▍                             | 237/415 [03:17<02:35,  1.15it/s]\u001b[A"
     ]
    },
    {
     "name": "stdout",
     "output_type": "stream",
     "text": [
      "tensor(0.5234, device='cuda:0', grad_fn=<NllLossBackward>)\n",
      "0.5234488844871521\n"
     ]
    },
    {
     "name": "stderr",
     "output_type": "stream",
     "text": [
      "\n",
      "Iteration:  57%|███████████████████████████████████████▌                             | 238/415 [03:18<02:32,  1.16it/s]\u001b[A"
     ]
    },
    {
     "name": "stdout",
     "output_type": "stream",
     "text": [
      "tensor(0.3139, device='cuda:0', grad_fn=<NllLossBackward>)\n",
      "0.31391558051109314\n"
     ]
    },
    {
     "name": "stderr",
     "output_type": "stream",
     "text": [
      "\n",
      "Iteration:  58%|███████████████████████████████████████▋                             | 239/415 [03:19<02:30,  1.17it/s]\u001b[A"
     ]
    },
    {
     "name": "stdout",
     "output_type": "stream",
     "text": [
      "tensor(0.3069, device='cuda:0', grad_fn=<NllLossBackward>)\n",
      "0.3069169819355011\n"
     ]
    },
    {
     "name": "stderr",
     "output_type": "stream",
     "text": [
      "\n",
      "Iteration:  58%|███████████████████████████████████████▉                             | 240/415 [03:20<02:32,  1.15it/s]\u001b[A"
     ]
    },
    {
     "name": "stdout",
     "output_type": "stream",
     "text": [
      "tensor(0.3034, device='cuda:0', grad_fn=<NllLossBackward>)\n",
      "0.30335545539855957\n"
     ]
    },
    {
     "name": "stderr",
     "output_type": "stream",
     "text": [
      "\n",
      "Iteration:  58%|████████████████████████████████████████                             | 241/415 [03:21<02:29,  1.16it/s]\u001b[A"
     ]
    },
    {
     "name": "stdout",
     "output_type": "stream",
     "text": [
      "tensor(0.4756, device='cuda:0', grad_fn=<NllLossBackward>)\n",
      "0.47564035654067993\n"
     ]
    },
    {
     "name": "stderr",
     "output_type": "stream",
     "text": [
      "\n",
      "Iteration:  58%|████████████████████████████████████████▏                            | 242/415 [03:21<02:28,  1.17it/s]\u001b[A"
     ]
    },
    {
     "name": "stdout",
     "output_type": "stream",
     "text": [
      "tensor(0.4009, device='cuda:0', grad_fn=<NllLossBackward>)\n",
      "0.4009309411048889\n"
     ]
    },
    {
     "name": "stderr",
     "output_type": "stream",
     "text": [
      "\n",
      "Iteration:  59%|████████████████████████████████████████▍                            | 243/415 [03:23<02:40,  1.07it/s]\u001b[A"
     ]
    },
    {
     "name": "stdout",
     "output_type": "stream",
     "text": [
      "tensor(0.3141, device='cuda:0', grad_fn=<NllLossBackward>)\n",
      "0.3140812814235687\n"
     ]
    },
    {
     "name": "stderr",
     "output_type": "stream",
     "text": [
      "\n",
      "Iteration:  59%|████████████████████████████████████████▌                            | 244/415 [03:23<02:32,  1.12it/s]\u001b[A"
     ]
    },
    {
     "name": "stdout",
     "output_type": "stream",
     "text": [
      "tensor(0.4427, device='cuda:0', grad_fn=<NllLossBackward>)\n",
      "0.44265949726104736\n"
     ]
    },
    {
     "name": "stderr",
     "output_type": "stream",
     "text": [
      "\n",
      "Iteration:  59%|████████████████████████████████████████▋                            | 245/415 [03:24<02:27,  1.15it/s]\u001b[A"
     ]
    },
    {
     "name": "stdout",
     "output_type": "stream",
     "text": [
      "tensor(0.3245, device='cuda:0', grad_fn=<NllLossBackward>)\n",
      "0.32450270652770996\n"
     ]
    },
    {
     "name": "stderr",
     "output_type": "stream",
     "text": [
      "\n",
      "Iteration:  59%|████████████████████████████████████████▉                            | 246/415 [03:25<02:31,  1.11it/s]\u001b[A"
     ]
    },
    {
     "name": "stdout",
     "output_type": "stream",
     "text": [
      "tensor(0.5537, device='cuda:0', grad_fn=<NllLossBackward>)\n",
      "0.5536962747573853\n"
     ]
    },
    {
     "name": "stderr",
     "output_type": "stream",
     "text": [
      "\n",
      "Iteration:  60%|█████████████████████████████████████████                            | 247/415 [03:26<02:38,  1.06it/s]\u001b[A"
     ]
    },
    {
     "name": "stdout",
     "output_type": "stream",
     "text": [
      "tensor(0.5477, device='cuda:0', grad_fn=<NllLossBackward>)\n",
      "0.5476783514022827\n"
     ]
    },
    {
     "name": "stderr",
     "output_type": "stream",
     "text": [
      "\n",
      "Iteration:  60%|█████████████████████████████████████████▏                           | 248/415 [03:27<02:32,  1.09it/s]\u001b[A"
     ]
    },
    {
     "name": "stdout",
     "output_type": "stream",
     "text": [
      "tensor(0.3720, device='cuda:0', grad_fn=<NllLossBackward>)\n",
      "0.3720109462738037\n"
     ]
    },
    {
     "name": "stderr",
     "output_type": "stream",
     "text": [
      "\n",
      "Iteration:  60%|█████████████████████████████████████████▍                           | 249/415 [03:28<02:30,  1.11it/s]\u001b[A"
     ]
    },
    {
     "name": "stdout",
     "output_type": "stream",
     "text": [
      "tensor(0.3246, device='cuda:0', grad_fn=<NllLossBackward>)\n",
      "0.3246017396450043\n"
     ]
    },
    {
     "name": "stderr",
     "output_type": "stream",
     "text": [
      "\n",
      "Iteration:  60%|█████████████████████████████████████████▌                           | 250/415 [03:29<02:24,  1.14it/s]\u001b[A"
     ]
    },
    {
     "name": "stdout",
     "output_type": "stream",
     "text": [
      "tensor(0.3331, device='cuda:0', grad_fn=<NllLossBackward>)\n",
      "0.33314263820648193\n"
     ]
    },
    {
     "name": "stderr",
     "output_type": "stream",
     "text": [
      "\n",
      "Iteration:  60%|█████████████████████████████████████████▋                           | 251/415 [03:30<02:20,  1.17it/s]\u001b[A"
     ]
    },
    {
     "name": "stdout",
     "output_type": "stream",
     "text": [
      "tensor(0.2892, device='cuda:0', grad_fn=<NllLossBackward>)\n",
      "0.2891989052295685\n"
     ]
    },
    {
     "name": "stderr",
     "output_type": "stream",
     "text": [
      "\n",
      "Iteration:  61%|█████████████████████████████████████████▉                           | 252/415 [03:30<02:18,  1.18it/s]\u001b[A"
     ]
    },
    {
     "name": "stdout",
     "output_type": "stream",
     "text": [
      "tensor(0.3843, device='cuda:0', grad_fn=<NllLossBackward>)\n",
      "0.3843234181404114\n"
     ]
    },
    {
     "name": "stderr",
     "output_type": "stream",
     "text": [
      "\n",
      "Iteration:  61%|██████████████████████████████████████████                           | 253/415 [03:31<02:15,  1.19it/s]\u001b[A"
     ]
    },
    {
     "name": "stdout",
     "output_type": "stream",
     "text": [
      "tensor(0.6093, device='cuda:0', grad_fn=<NllLossBackward>)\n",
      "0.6093063354492188\n"
     ]
    },
    {
     "name": "stderr",
     "output_type": "stream",
     "text": [
      "\n",
      "Iteration:  61%|██████████████████████████████████████████▏                          | 254/415 [03:32<02:15,  1.18it/s]\u001b[A"
     ]
    },
    {
     "name": "stdout",
     "output_type": "stream",
     "text": [
      "tensor(0.2544, device='cuda:0', grad_fn=<NllLossBackward>)\n",
      "0.2544494569301605\n"
     ]
    },
    {
     "name": "stderr",
     "output_type": "stream",
     "text": [
      "\n",
      "Iteration:  61%|██████████████████████████████████████████▍                          | 255/415 [03:33<02:14,  1.19it/s]\u001b[A"
     ]
    },
    {
     "name": "stdout",
     "output_type": "stream",
     "text": [
      "tensor(0.2346, device='cuda:0', grad_fn=<NllLossBackward>)\n",
      "0.23455749452114105\n"
     ]
    },
    {
     "name": "stderr",
     "output_type": "stream",
     "text": [
      "\n",
      "Iteration:  62%|██████████████████████████████████████████▌                          | 256/415 [03:34<02:13,  1.19it/s]\u001b[A"
     ]
    },
    {
     "name": "stdout",
     "output_type": "stream",
     "text": [
      "tensor(0.2842, device='cuda:0', grad_fn=<NllLossBackward>)\n",
      "0.28418490290641785\n"
     ]
    },
    {
     "name": "stderr",
     "output_type": "stream",
     "text": [
      "\n",
      "Iteration:  62%|██████████████████████████████████████████▋                          | 257/415 [03:35<02:15,  1.16it/s]\u001b[A"
     ]
    },
    {
     "name": "stdout",
     "output_type": "stream",
     "text": [
      "tensor(0.4265, device='cuda:0', grad_fn=<NllLossBackward>)\n",
      "0.4264891445636749\n"
     ]
    },
    {
     "name": "stderr",
     "output_type": "stream",
     "text": [
      "\n",
      "Iteration:  62%|██████████████████████████████████████████▉                          | 258/415 [03:35<02:13,  1.18it/s]\u001b[A"
     ]
    },
    {
     "name": "stdout",
     "output_type": "stream",
     "text": [
      "tensor(0.5257, device='cuda:0', grad_fn=<NllLossBackward>)\n",
      "0.5256670713424683\n"
     ]
    },
    {
     "name": "stderr",
     "output_type": "stream",
     "text": [
      "\n",
      "Iteration:  62%|███████████████████████████████████████████                          | 259/415 [03:36<02:14,  1.16it/s]\u001b[A"
     ]
    },
    {
     "name": "stdout",
     "output_type": "stream",
     "text": [
      "tensor(0.2971, device='cuda:0', grad_fn=<NllLossBackward>)\n",
      "0.2971484959125519\n"
     ]
    },
    {
     "name": "stderr",
     "output_type": "stream",
     "text": [
      "\n",
      "Iteration:  63%|███████████████████████████████████████████▏                         | 260/415 [03:37<02:16,  1.13it/s]\u001b[A"
     ]
    },
    {
     "name": "stdout",
     "output_type": "stream",
     "text": [
      "tensor(0.4628, device='cuda:0', grad_fn=<NllLossBackward>)\n",
      "0.46276167035102844\n"
     ]
    },
    {
     "name": "stderr",
     "output_type": "stream",
     "text": [
      "\n",
      "Iteration:  63%|███████████████████████████████████████████▍                         | 261/415 [03:38<02:14,  1.15it/s]\u001b[A"
     ]
    },
    {
     "name": "stdout",
     "output_type": "stream",
     "text": [
      "tensor(0.3263, device='cuda:0', grad_fn=<NllLossBackward>)\n",
      "0.32630467414855957\n"
     ]
    },
    {
     "name": "stderr",
     "output_type": "stream",
     "text": [
      "\n",
      "Iteration:  63%|███████████████████████████████████████████▌                         | 262/415 [03:39<02:11,  1.17it/s]\u001b[A"
     ]
    },
    {
     "name": "stdout",
     "output_type": "stream",
     "text": [
      "tensor(0.4714, device='cuda:0', grad_fn=<NllLossBackward>)\n",
      "0.4713519513607025\n"
     ]
    },
    {
     "name": "stderr",
     "output_type": "stream",
     "text": [
      "\n",
      "Iteration:  63%|███████████████████████████████████████████▋                         | 263/415 [03:40<02:09,  1.18it/s]\u001b[A"
     ]
    },
    {
     "name": "stdout",
     "output_type": "stream",
     "text": [
      "tensor(0.2837, device='cuda:0', grad_fn=<NllLossBackward>)\n",
      "0.2837403416633606\n"
     ]
    },
    {
     "name": "stderr",
     "output_type": "stream",
     "text": [
      "\n",
      "Iteration:  64%|███████████████████████████████████████████▉                         | 264/415 [03:41<02:06,  1.19it/s]\u001b[A"
     ]
    },
    {
     "name": "stdout",
     "output_type": "stream",
     "text": [
      "tensor(0.2463, device='cuda:0', grad_fn=<NllLossBackward>)\n",
      "0.24628767371177673\n"
     ]
    },
    {
     "name": "stderr",
     "output_type": "stream",
     "text": [
      "\n",
      "Iteration:  64%|████████████████████████████████████████████                         | 265/415 [03:41<02:06,  1.18it/s]\u001b[A"
     ]
    },
    {
     "name": "stdout",
     "output_type": "stream",
     "text": [
      "tensor(0.3165, device='cuda:0', grad_fn=<NllLossBackward>)\n",
      "0.3164905309677124\n"
     ]
    },
    {
     "name": "stderr",
     "output_type": "stream",
     "text": [
      "\n",
      "Iteration:  64%|████████████████████████████████████████████▏                        | 266/415 [03:42<02:06,  1.18it/s]\u001b[A"
     ]
    },
    {
     "name": "stdout",
     "output_type": "stream",
     "text": [
      "tensor(0.3443, device='cuda:0', grad_fn=<NllLossBackward>)\n",
      "0.34433290362358093\n"
     ]
    },
    {
     "name": "stderr",
     "output_type": "stream",
     "text": [
      "\n",
      "Iteration:  64%|████████████████████████████████████████████▍                        | 267/415 [03:43<02:04,  1.19it/s]\u001b[A"
     ]
    },
    {
     "name": "stdout",
     "output_type": "stream",
     "text": [
      "tensor(0.4237, device='cuda:0', grad_fn=<NllLossBackward>)\n",
      "0.4237082302570343\n"
     ]
    },
    {
     "name": "stderr",
     "output_type": "stream",
     "text": [
      "\n",
      "Iteration:  65%|████████████████████████████████████████████▌                        | 268/415 [03:44<02:04,  1.18it/s]\u001b[A"
     ]
    },
    {
     "name": "stdout",
     "output_type": "stream",
     "text": [
      "tensor(0.4702, device='cuda:0', grad_fn=<NllLossBackward>)\n",
      "0.47021159529685974\n"
     ]
    },
    {
     "name": "stderr",
     "output_type": "stream",
     "text": [
      "\n",
      "Iteration:  65%|████████████████████████████████████████████▋                        | 269/415 [03:45<02:10,  1.12it/s]\u001b[A"
     ]
    },
    {
     "name": "stdout",
     "output_type": "stream",
     "text": [
      "tensor(0.2445, device='cuda:0', grad_fn=<NllLossBackward>)\n",
      "0.24446949362754822\n"
     ]
    },
    {
     "name": "stderr",
     "output_type": "stream",
     "text": [
      "\n",
      "Iteration:  65%|████████████████████████████████████████████▉                        | 270/415 [03:46<02:05,  1.15it/s]\u001b[A"
     ]
    },
    {
     "name": "stdout",
     "output_type": "stream",
     "text": [
      "tensor(0.3692, device='cuda:0', grad_fn=<NllLossBackward>)\n",
      "0.36924582719802856\n"
     ]
    },
    {
     "name": "stderr",
     "output_type": "stream",
     "text": [
      "\n",
      "Iteration:  65%|█████████████████████████████████████████████                        | 271/415 [03:47<02:06,  1.14it/s]\u001b[A"
     ]
    },
    {
     "name": "stdout",
     "output_type": "stream",
     "text": [
      "tensor(0.2237, device='cuda:0', grad_fn=<NllLossBackward>)\n",
      "0.22373954951763153\n"
     ]
    },
    {
     "name": "stderr",
     "output_type": "stream",
     "text": [
      "\n",
      "Iteration:  66%|█████████████████████████████████████████████▏                       | 272/415 [03:48<02:03,  1.16it/s]\u001b[A"
     ]
    },
    {
     "name": "stdout",
     "output_type": "stream",
     "text": [
      "tensor(0.3598, device='cuda:0', grad_fn=<NllLossBackward>)\n",
      "0.3598160743713379\n"
     ]
    },
    {
     "name": "stderr",
     "output_type": "stream",
     "text": [
      "\n",
      "Iteration:  66%|█████████████████████████████████████████████▍                       | 273/415 [03:48<02:00,  1.18it/s]\u001b[A"
     ]
    },
    {
     "name": "stdout",
     "output_type": "stream",
     "text": [
      "tensor(0.2454, device='cuda:0', grad_fn=<NllLossBackward>)\n",
      "0.24535995721817017\n"
     ]
    },
    {
     "name": "stderr",
     "output_type": "stream",
     "text": [
      "\n",
      "Iteration:  66%|█████████████████████████████████████████████▌                       | 274/415 [03:49<02:00,  1.17it/s]\u001b[A"
     ]
    },
    {
     "name": "stdout",
     "output_type": "stream",
     "text": [
      "tensor(0.2824, device='cuda:0', grad_fn=<NllLossBackward>)\n",
      "0.2823847234249115\n"
     ]
    },
    {
     "name": "stderr",
     "output_type": "stream",
     "text": [
      "\n",
      "Iteration:  66%|█████████████████████████████████████████████▋                       | 275/415 [03:50<01:56,  1.20it/s]\u001b[A"
     ]
    },
    {
     "name": "stdout",
     "output_type": "stream",
     "text": [
      "tensor(0.2677, device='cuda:0', grad_fn=<NllLossBackward>)\n",
      "0.26774194836616516\n"
     ]
    },
    {
     "name": "stderr",
     "output_type": "stream",
     "text": [
      "\n",
      "Iteration:  67%|█████████████████████████████████████████████▉                       | 276/415 [03:51<01:55,  1.21it/s]\u001b[A"
     ]
    },
    {
     "name": "stdout",
     "output_type": "stream",
     "text": [
      "tensor(0.2859, device='cuda:0', grad_fn=<NllLossBackward>)\n",
      "0.2858509421348572\n"
     ]
    },
    {
     "name": "stderr",
     "output_type": "stream",
     "text": [
      "\n",
      "Iteration:  67%|██████████████████████████████████████████████                       | 277/415 [03:52<01:56,  1.19it/s]\u001b[A"
     ]
    },
    {
     "name": "stdout",
     "output_type": "stream",
     "text": [
      "tensor(0.3524, device='cuda:0', grad_fn=<NllLossBackward>)\n",
      "0.35240206122398376\n"
     ]
    },
    {
     "name": "stderr",
     "output_type": "stream",
     "text": [
      "\n",
      "Iteration:  67%|██████████████████████████████████████████████▏                      | 278/415 [03:53<01:55,  1.19it/s]\u001b[A"
     ]
    },
    {
     "name": "stdout",
     "output_type": "stream",
     "text": [
      "tensor(0.4035, device='cuda:0', grad_fn=<NllLossBackward>)\n",
      "0.4034988284111023\n"
     ]
    },
    {
     "name": "stderr",
     "output_type": "stream",
     "text": [
      "\n",
      "Iteration:  67%|██████████████████████████████████████████████▍                      | 279/415 [03:53<01:53,  1.20it/s]\u001b[A"
     ]
    },
    {
     "name": "stdout",
     "output_type": "stream",
     "text": [
      "tensor(0.5711, device='cuda:0', grad_fn=<NllLossBackward>)\n",
      "0.5711309909820557\n"
     ]
    },
    {
     "name": "stderr",
     "output_type": "stream",
     "text": [
      "\n",
      "Iteration:  67%|██████████████████████████████████████████████▌                      | 280/415 [03:54<01:57,  1.15it/s]\u001b[A"
     ]
    },
    {
     "name": "stdout",
     "output_type": "stream",
     "text": [
      "tensor(0.5067, device='cuda:0', grad_fn=<NllLossBackward>)\n",
      "0.506722092628479\n"
     ]
    },
    {
     "name": "stderr",
     "output_type": "stream",
     "text": [
      "\n",
      "Iteration:  68%|██████████████████████████████████████████████▋                      | 281/415 [03:55<01:54,  1.17it/s]\u001b[A"
     ]
    },
    {
     "name": "stdout",
     "output_type": "stream",
     "text": [
      "tensor(0.3454, device='cuda:0', grad_fn=<NllLossBackward>)\n",
      "0.3454150855541229\n"
     ]
    },
    {
     "name": "stderr",
     "output_type": "stream",
     "text": [
      "\n",
      "Iteration:  68%|██████████████████████████████████████████████▉                      | 282/415 [03:56<01:52,  1.18it/s]\u001b[A"
     ]
    },
    {
     "name": "stdout",
     "output_type": "stream",
     "text": [
      "tensor(0.5552, device='cuda:0', grad_fn=<NllLossBackward>)\n",
      "0.5552186965942383\n"
     ]
    },
    {
     "name": "stderr",
     "output_type": "stream",
     "text": [
      "\n",
      "Iteration:  68%|███████████████████████████████████████████████                      | 283/415 [03:57<01:51,  1.19it/s]\u001b[A"
     ]
    },
    {
     "name": "stdout",
     "output_type": "stream",
     "text": [
      "tensor(0.4002, device='cuda:0', grad_fn=<NllLossBackward>)\n",
      "0.40023767948150635\n"
     ]
    },
    {
     "name": "stderr",
     "output_type": "stream",
     "text": [
      "\n",
      "Iteration:  68%|███████████████████████████████████████████████▏                     | 284/415 [03:58<01:49,  1.19it/s]\u001b[A"
     ]
    },
    {
     "name": "stdout",
     "output_type": "stream",
     "text": [
      "tensor(0.3402, device='cuda:0', grad_fn=<NllLossBackward>)\n",
      "0.34019550681114197\n"
     ]
    },
    {
     "name": "stderr",
     "output_type": "stream",
     "text": [
      "\n",
      "Iteration:  69%|███████████████████████████████████████████████▍                     | 285/415 [03:58<01:48,  1.20it/s]\u001b[A"
     ]
    },
    {
     "name": "stdout",
     "output_type": "stream",
     "text": [
      "tensor(0.4371, device='cuda:0', grad_fn=<NllLossBackward>)\n",
      "0.4371284544467926\n"
     ]
    },
    {
     "name": "stderr",
     "output_type": "stream",
     "text": [
      "\n",
      "Iteration:  69%|███████████████████████████████████████████████▌                     | 286/415 [03:59<01:48,  1.19it/s]\u001b[A"
     ]
    },
    {
     "name": "stdout",
     "output_type": "stream",
     "text": [
      "tensor(0.2732, device='cuda:0', grad_fn=<NllLossBackward>)\n",
      "0.27320533990859985\n"
     ]
    },
    {
     "name": "stderr",
     "output_type": "stream",
     "text": [
      "\n",
      "Iteration:  69%|███████████████████████████████████████████████▋                     | 287/415 [04:00<01:45,  1.21it/s]\u001b[A"
     ]
    },
    {
     "name": "stdout",
     "output_type": "stream",
     "text": [
      "tensor(0.3268, device='cuda:0', grad_fn=<NllLossBackward>)\n",
      "0.32683879137039185\n"
     ]
    },
    {
     "name": "stderr",
     "output_type": "stream",
     "text": [
      "\n",
      "Iteration:  69%|███████████████████████████████████████████████▉                     | 288/415 [04:01<01:46,  1.19it/s]\u001b[A"
     ]
    },
    {
     "name": "stdout",
     "output_type": "stream",
     "text": [
      "tensor(0.3033, device='cuda:0', grad_fn=<NllLossBackward>)\n",
      "0.30331382155418396\n"
     ]
    },
    {
     "name": "stderr",
     "output_type": "stream",
     "text": [
      "\n",
      "Iteration:  70%|████████████████████████████████████████████████                     | 289/415 [04:02<01:46,  1.19it/s]\u001b[A"
     ]
    },
    {
     "name": "stdout",
     "output_type": "stream",
     "text": [
      "tensor(0.5050, device='cuda:0', grad_fn=<NllLossBackward>)\n",
      "0.504986584186554\n"
     ]
    },
    {
     "name": "stderr",
     "output_type": "stream",
     "text": [
      "\n",
      "Iteration:  70%|████████████████████████████████████████████████▏                    | 290/415 [04:03<01:46,  1.17it/s]\u001b[A"
     ]
    },
    {
     "name": "stdout",
     "output_type": "stream",
     "text": [
      "tensor(0.2755, device='cuda:0', grad_fn=<NllLossBackward>)\n",
      "0.2755358815193176\n"
     ]
    },
    {
     "name": "stderr",
     "output_type": "stream",
     "text": [
      "\n",
      "Iteration:  70%|████████████████████████████████████████████████▍                    | 291/415 [04:04<01:44,  1.18it/s]\u001b[A"
     ]
    },
    {
     "name": "stdout",
     "output_type": "stream",
     "text": [
      "tensor(0.4222, device='cuda:0', grad_fn=<NllLossBackward>)\n",
      "0.4222257435321808\n"
     ]
    },
    {
     "name": "stderr",
     "output_type": "stream",
     "text": [
      "\n",
      "Iteration:  70%|████████████████████████████████████████████████▌                    | 292/415 [04:04<01:46,  1.16it/s]\u001b[A"
     ]
    },
    {
     "name": "stdout",
     "output_type": "stream",
     "text": [
      "tensor(0.3065, device='cuda:0', grad_fn=<NllLossBackward>)\n",
      "0.3065052330493927\n"
     ]
    },
    {
     "name": "stderr",
     "output_type": "stream",
     "text": [
      "\n",
      "Iteration:  71%|████████████████████████████████████████████████▋                    | 293/415 [04:05<01:44,  1.17it/s]\u001b[A"
     ]
    },
    {
     "name": "stdout",
     "output_type": "stream",
     "text": [
      "tensor(0.3779, device='cuda:0', grad_fn=<NllLossBackward>)\n",
      "0.37786734104156494\n"
     ]
    },
    {
     "name": "stderr",
     "output_type": "stream",
     "text": [
      "\n",
      "Iteration:  71%|████████████████████████████████████████████████▉                    | 294/415 [04:06<01:42,  1.18it/s]\u001b[A"
     ]
    },
    {
     "name": "stdout",
     "output_type": "stream",
     "text": [
      "tensor(0.2702, device='cuda:0', grad_fn=<NllLossBackward>)\n",
      "0.27016523480415344\n"
     ]
    },
    {
     "name": "stderr",
     "output_type": "stream",
     "text": [
      "\n",
      "Iteration:  71%|█████████████████████████████████████████████████                    | 295/415 [04:07<01:42,  1.17it/s]\u001b[A"
     ]
    },
    {
     "name": "stdout",
     "output_type": "stream",
     "text": [
      "tensor(0.2368, device='cuda:0', grad_fn=<NllLossBackward>)\n",
      "0.23676520586013794\n"
     ]
    },
    {
     "name": "stderr",
     "output_type": "stream",
     "text": [
      "\n",
      "Iteration:  71%|█████████████████████████████████████████████████▏                   | 296/415 [04:08<01:42,  1.16it/s]\u001b[A"
     ]
    },
    {
     "name": "stdout",
     "output_type": "stream",
     "text": [
      "tensor(0.5036, device='cuda:0', grad_fn=<NllLossBackward>)\n",
      "0.5036329030990601\n"
     ]
    },
    {
     "name": "stderr",
     "output_type": "stream",
     "text": [
      "\n",
      "Iteration:  72%|█████████████████████████████████████████████████▍                   | 297/415 [04:09<01:39,  1.18it/s]\u001b[A"
     ]
    },
    {
     "name": "stdout",
     "output_type": "stream",
     "text": [
      "tensor(0.2920, device='cuda:0', grad_fn=<NllLossBackward>)\n",
      "0.2920457422733307\n"
     ]
    },
    {
     "name": "stderr",
     "output_type": "stream",
     "text": [
      "\n",
      "Iteration:  72%|█████████████████████████████████████████████████▌                   | 298/415 [04:09<01:38,  1.19it/s]\u001b[A"
     ]
    },
    {
     "name": "stdout",
     "output_type": "stream",
     "text": [
      "tensor(0.2951, device='cuda:0', grad_fn=<NllLossBackward>)\n",
      "0.2951348125934601\n"
     ]
    },
    {
     "name": "stderr",
     "output_type": "stream",
     "text": [
      "\n",
      "Iteration:  72%|█████████████████████████████████████████████████▋                   | 299/415 [04:10<01:38,  1.18it/s]\u001b[A"
     ]
    },
    {
     "name": "stdout",
     "output_type": "stream",
     "text": [
      "tensor(0.4710, device='cuda:0', grad_fn=<NllLossBackward>)\n",
      "0.4710391163825989\n"
     ]
    },
    {
     "name": "stderr",
     "output_type": "stream",
     "text": [
      "\n",
      "Iteration:  72%|█████████████████████████████████████████████████▉                   | 300/415 [04:11<01:37,  1.18it/s]\u001b[A"
     ]
    },
    {
     "name": "stdout",
     "output_type": "stream",
     "text": [
      "tensor(0.2835, device='cuda:0', grad_fn=<NllLossBackward>)\n",
      "0.283499538898468\n"
     ]
    },
    {
     "name": "stderr",
     "output_type": "stream",
     "text": [
      "\n",
      "Iteration:  73%|██████████████████████████████████████████████████                   | 301/415 [04:12<01:40,  1.13it/s]\u001b[A"
     ]
    },
    {
     "name": "stdout",
     "output_type": "stream",
     "text": [
      "tensor(0.3150, device='cuda:0', grad_fn=<NllLossBackward>)\n",
      "0.3150009512901306\n"
     ]
    },
    {
     "name": "stderr",
     "output_type": "stream",
     "text": [
      "\n",
      "Iteration:  73%|██████████████████████████████████████████████████▏                  | 302/415 [04:13<01:37,  1.16it/s]\u001b[A"
     ]
    },
    {
     "name": "stdout",
     "output_type": "stream",
     "text": [
      "tensor(0.2409, device='cuda:0', grad_fn=<NllLossBackward>)\n",
      "0.24085991084575653\n"
     ]
    },
    {
     "name": "stderr",
     "output_type": "stream",
     "text": [
      "\n",
      "Iteration:  73%|██████████████████████████████████████████████████▍                  | 303/415 [04:14<01:35,  1.17it/s]\u001b[A"
     ]
    },
    {
     "name": "stdout",
     "output_type": "stream",
     "text": [
      "tensor(0.3304, device='cuda:0', grad_fn=<NllLossBackward>)\n",
      "0.3304339349269867\n"
     ]
    },
    {
     "name": "stderr",
     "output_type": "stream",
     "text": [
      "\n",
      "Iteration:  73%|██████████████████████████████████████████████████▌                  | 304/415 [04:15<01:33,  1.18it/s]\u001b[A"
     ]
    },
    {
     "name": "stdout",
     "output_type": "stream",
     "text": [
      "tensor(0.2446, device='cuda:0', grad_fn=<NllLossBackward>)\n",
      "0.2446010410785675\n"
     ]
    },
    {
     "name": "stderr",
     "output_type": "stream",
     "text": [
      "\n",
      "Iteration:  73%|██████████████████████████████████████████████████▋                  | 305/415 [04:15<01:32,  1.19it/s]\u001b[A"
     ]
    },
    {
     "name": "stdout",
     "output_type": "stream",
     "text": [
      "tensor(0.4189, device='cuda:0', grad_fn=<NllLossBackward>)\n",
      "0.4189082086086273\n"
     ]
    },
    {
     "name": "stderr",
     "output_type": "stream",
     "text": [
      "\n",
      "Iteration:  74%|██████████████████████████████████████████████████▉                  | 306/415 [04:16<01:30,  1.20it/s]\u001b[A"
     ]
    },
    {
     "name": "stdout",
     "output_type": "stream",
     "text": [
      "tensor(0.1983, device='cuda:0', grad_fn=<NllLossBackward>)\n",
      "0.19832368195056915\n"
     ]
    },
    {
     "name": "stderr",
     "output_type": "stream",
     "text": [
      "\n",
      "Iteration:  74%|███████████████████████████████████████████████████                  | 307/415 [04:17<01:29,  1.20it/s]\u001b[A"
     ]
    },
    {
     "name": "stdout",
     "output_type": "stream",
     "text": [
      "tensor(0.3558, device='cuda:0', grad_fn=<NllLossBackward>)\n",
      "0.355759859085083\n"
     ]
    },
    {
     "name": "stderr",
     "output_type": "stream",
     "text": [
      "\n",
      "Iteration:  74%|███████████████████████████████████████████████████▏                 | 308/415 [04:18<01:28,  1.21it/s]\u001b[A"
     ]
    },
    {
     "name": "stdout",
     "output_type": "stream",
     "text": [
      "tensor(0.4589, device='cuda:0', grad_fn=<NllLossBackward>)\n",
      "0.4588809609413147\n"
     ]
    },
    {
     "name": "stderr",
     "output_type": "stream",
     "text": [
      "\n",
      "Iteration:  74%|███████████████████████████████████████████████████▍                 | 309/415 [04:19<01:27,  1.21it/s]\u001b[A"
     ]
    },
    {
     "name": "stdout",
     "output_type": "stream",
     "text": [
      "tensor(0.3597, device='cuda:0', grad_fn=<NllLossBackward>)\n",
      "0.35965627431869507\n"
     ]
    },
    {
     "name": "stderr",
     "output_type": "stream",
     "text": [
      "\n",
      "Iteration:  75%|███████████████████████████████████████████████████▌                 | 310/415 [04:20<01:26,  1.21it/s]\u001b[A"
     ]
    },
    {
     "name": "stdout",
     "output_type": "stream",
     "text": [
      "tensor(0.2057, device='cuda:0', grad_fn=<NllLossBackward>)\n",
      "0.205664724111557\n"
     ]
    },
    {
     "name": "stderr",
     "output_type": "stream",
     "text": [
      "\n",
      "Iteration:  75%|███████████████████████████████████████████████████▋                 | 311/415 [04:20<01:26,  1.20it/s]\u001b[A"
     ]
    },
    {
     "name": "stdout",
     "output_type": "stream",
     "text": [
      "tensor(0.3994, device='cuda:0', grad_fn=<NllLossBackward>)\n",
      "0.3993892967700958\n"
     ]
    },
    {
     "name": "stderr",
     "output_type": "stream",
     "text": [
      "\n",
      "Iteration:  75%|███████████████████████████████████████████████████▊                 | 312/415 [04:21<01:30,  1.14it/s]\u001b[A"
     ]
    },
    {
     "name": "stdout",
     "output_type": "stream",
     "text": [
      "tensor(0.1822, device='cuda:0', grad_fn=<NllLossBackward>)\n",
      "0.18217161297798157\n"
     ]
    },
    {
     "name": "stderr",
     "output_type": "stream",
     "text": [
      "\n",
      "Iteration:  75%|████████████████████████████████████████████████████                 | 313/415 [04:22<01:26,  1.17it/s]\u001b[A"
     ]
    },
    {
     "name": "stdout",
     "output_type": "stream",
     "text": [
      "tensor(0.2425, device='cuda:0', grad_fn=<NllLossBackward>)\n",
      "0.24251960217952728\n"
     ]
    },
    {
     "name": "stderr",
     "output_type": "stream",
     "text": [
      "\n",
      "Iteration:  76%|████████████████████████████████████████████████████▏                | 314/415 [04:23<01:25,  1.18it/s]\u001b[A"
     ]
    },
    {
     "name": "stdout",
     "output_type": "stream",
     "text": [
      "tensor(0.3639, device='cuda:0', grad_fn=<NllLossBackward>)\n",
      "0.3638947606086731\n"
     ]
    },
    {
     "name": "stderr",
     "output_type": "stream",
     "text": [
      "\n",
      "Iteration:  76%|████████████████████████████████████████████████████▎                | 315/415 [04:24<01:24,  1.18it/s]\u001b[A"
     ]
    },
    {
     "name": "stdout",
     "output_type": "stream",
     "text": [
      "tensor(0.6096, device='cuda:0', grad_fn=<NllLossBackward>)\n",
      "0.6096396446228027\n"
     ]
    },
    {
     "name": "stderr",
     "output_type": "stream",
     "text": [
      "\n",
      "Iteration:  76%|████████████████████████████████████████████████████▌                | 316/415 [04:25<01:23,  1.19it/s]\u001b[A"
     ]
    },
    {
     "name": "stdout",
     "output_type": "stream",
     "text": [
      "tensor(0.1911, device='cuda:0', grad_fn=<NllLossBackward>)\n",
      "0.19108109176158905\n"
     ]
    },
    {
     "name": "stderr",
     "output_type": "stream",
     "text": [
      "\n",
      "Iteration:  76%|████████████████████████████████████████████████████▋                | 317/415 [04:26<01:24,  1.16it/s]\u001b[A"
     ]
    },
    {
     "name": "stdout",
     "output_type": "stream",
     "text": [
      "tensor(0.3018, device='cuda:0', grad_fn=<NllLossBackward>)\n",
      "0.30180609226226807\n"
     ]
    },
    {
     "name": "stderr",
     "output_type": "stream",
     "text": [
      "\n",
      "Iteration:  77%|████████████████████████████████████████████████████▊                | 318/415 [04:26<01:22,  1.18it/s]\u001b[A"
     ]
    },
    {
     "name": "stdout",
     "output_type": "stream",
     "text": [
      "tensor(0.2776, device='cuda:0', grad_fn=<NllLossBackward>)\n",
      "0.27758628129959106\n"
     ]
    },
    {
     "name": "stderr",
     "output_type": "stream",
     "text": [
      "\n",
      "Iteration:  77%|█████████████████████████████████████████████████████                | 319/415 [04:27<01:22,  1.17it/s]\u001b[A"
     ]
    },
    {
     "name": "stdout",
     "output_type": "stream",
     "text": [
      "tensor(0.4256, device='cuda:0', grad_fn=<NllLossBackward>)\n",
      "0.4255582094192505\n"
     ]
    },
    {
     "name": "stderr",
     "output_type": "stream",
     "text": [
      "\n",
      "Iteration:  77%|█████████████████████████████████████████████████████▏               | 320/415 [04:28<01:22,  1.16it/s]\u001b[A"
     ]
    },
    {
     "name": "stdout",
     "output_type": "stream",
     "text": [
      "tensor(0.3064, device='cuda:0', grad_fn=<NllLossBackward>)\n",
      "0.3063701391220093\n"
     ]
    },
    {
     "name": "stderr",
     "output_type": "stream",
     "text": [
      "\n",
      "Iteration:  77%|█████████████████████████████████████████████████████▎               | 321/415 [04:29<01:21,  1.15it/s]\u001b[A"
     ]
    },
    {
     "name": "stdout",
     "output_type": "stream",
     "text": [
      "tensor(0.2994, device='cuda:0', grad_fn=<NllLossBackward>)\n",
      "0.2994471490383148\n"
     ]
    },
    {
     "name": "stderr",
     "output_type": "stream",
     "text": [
      "\n",
      "Iteration:  78%|█████████████████████████████████████████████████████▌               | 322/415 [04:30<01:19,  1.16it/s]\u001b[A"
     ]
    },
    {
     "name": "stdout",
     "output_type": "stream",
     "text": [
      "tensor(0.2693, device='cuda:0', grad_fn=<NllLossBackward>)\n",
      "0.2692650258541107\n"
     ]
    },
    {
     "name": "stderr",
     "output_type": "stream",
     "text": [
      "\n",
      "Iteration:  78%|█████████████████████████████████████████████████████▋               | 323/415 [04:31<01:20,  1.15it/s]\u001b[A"
     ]
    },
    {
     "name": "stdout",
     "output_type": "stream",
     "text": [
      "tensor(0.2094, device='cuda:0', grad_fn=<NllLossBackward>)\n",
      "0.2093539535999298\n"
     ]
    },
    {
     "name": "stderr",
     "output_type": "stream",
     "text": [
      "\n",
      "Iteration:  78%|█████████████████████████████████████████████████████▊               | 324/415 [04:32<01:18,  1.16it/s]\u001b[A"
     ]
    },
    {
     "name": "stdout",
     "output_type": "stream",
     "text": [
      "tensor(0.3562, device='cuda:0', grad_fn=<NllLossBackward>)\n",
      "0.35622090101242065\n"
     ]
    },
    {
     "name": "stderr",
     "output_type": "stream",
     "text": [
      "\n",
      "Iteration:  78%|██████████████████████████████████████████████████████               | 325/415 [04:32<01:17,  1.16it/s]\u001b[A"
     ]
    },
    {
     "name": "stdout",
     "output_type": "stream",
     "text": [
      "tensor(0.5156, device='cuda:0', grad_fn=<NllLossBackward>)\n",
      "0.5155884027481079\n"
     ]
    },
    {
     "name": "stderr",
     "output_type": "stream",
     "text": [
      "\n",
      "Iteration:  79%|██████████████████████████████████████████████████████▏              | 326/415 [04:33<01:15,  1.18it/s]\u001b[A"
     ]
    },
    {
     "name": "stdout",
     "output_type": "stream",
     "text": [
      "tensor(0.2770, device='cuda:0', grad_fn=<NllLossBackward>)\n",
      "0.27699118852615356\n"
     ]
    },
    {
     "name": "stderr",
     "output_type": "stream",
     "text": [
      "\n",
      "Iteration:  79%|██████████████████████████████████████████████████████▎              | 327/415 [04:34<01:14,  1.18it/s]\u001b[A"
     ]
    },
    {
     "name": "stdout",
     "output_type": "stream",
     "text": [
      "tensor(0.2643, device='cuda:0', grad_fn=<NllLossBackward>)\n",
      "0.26427820324897766\n"
     ]
    },
    {
     "name": "stderr",
     "output_type": "stream",
     "text": [
      "\n",
      "Iteration:  79%|██████████████████████████████████████████████████████▌              | 328/415 [04:35<01:12,  1.19it/s]\u001b[A"
     ]
    },
    {
     "name": "stdout",
     "output_type": "stream",
     "text": [
      "tensor(0.3064, device='cuda:0', grad_fn=<NllLossBackward>)\n",
      "0.3064310550689697\n"
     ]
    },
    {
     "name": "stderr",
     "output_type": "stream",
     "text": [
      "\n",
      "Iteration:  79%|██████████████████████████████████████████████████████▋              | 329/415 [04:36<01:12,  1.18it/s]\u001b[A"
     ]
    },
    {
     "name": "stdout",
     "output_type": "stream",
     "text": [
      "tensor(0.2948, device='cuda:0', grad_fn=<NllLossBackward>)\n",
      "0.29479971528053284\n"
     ]
    },
    {
     "name": "stderr",
     "output_type": "stream",
     "text": [
      "\n",
      "Iteration:  80%|██████████████████████████████████████████████████████▊              | 330/415 [04:37<01:12,  1.17it/s]\u001b[A"
     ]
    },
    {
     "name": "stdout",
     "output_type": "stream",
     "text": [
      "tensor(0.5677, device='cuda:0', grad_fn=<NllLossBackward>)\n",
      "0.5676760077476501\n"
     ]
    },
    {
     "name": "stderr",
     "output_type": "stream",
     "text": [
      "\n",
      "Iteration:  80%|███████████████████████████████████████████████████████              | 331/415 [04:38<01:10,  1.18it/s]\u001b[A"
     ]
    },
    {
     "name": "stdout",
     "output_type": "stream",
     "text": [
      "tensor(0.3702, device='cuda:0', grad_fn=<NllLossBackward>)\n",
      "0.37020769715309143\n"
     ]
    },
    {
     "name": "stderr",
     "output_type": "stream",
     "text": [
      "\n",
      "Iteration:  80%|███████████████████████████████████████████████████████▏             | 332/415 [04:38<01:09,  1.19it/s]\u001b[A"
     ]
    },
    {
     "name": "stdout",
     "output_type": "stream",
     "text": [
      "tensor(0.4047, device='cuda:0', grad_fn=<NllLossBackward>)\n",
      "0.404740571975708\n"
     ]
    },
    {
     "name": "stderr",
     "output_type": "stream",
     "text": [
      "\n",
      "Iteration:  80%|███████████████████████████████████████████████████████▎             | 333/415 [04:39<01:10,  1.16it/s]\u001b[A"
     ]
    },
    {
     "name": "stdout",
     "output_type": "stream",
     "text": [
      "tensor(0.1588, device='cuda:0', grad_fn=<NllLossBackward>)\n",
      "0.1587827503681183\n"
     ]
    },
    {
     "name": "stderr",
     "output_type": "stream",
     "text": [
      "\n",
      "Iteration:  80%|███████████████████████████████████████████████████████▌             | 334/415 [04:40<01:08,  1.18it/s]\u001b[A"
     ]
    },
    {
     "name": "stdout",
     "output_type": "stream",
     "text": [
      "tensor(0.3183, device='cuda:0', grad_fn=<NllLossBackward>)\n",
      "0.3182683289051056\n"
     ]
    },
    {
     "name": "stderr",
     "output_type": "stream",
     "text": [
      "\n",
      "Iteration:  81%|███████████████████████████████████████████████████████▋             | 335/415 [04:41<01:08,  1.16it/s]\u001b[A"
     ]
    },
    {
     "name": "stdout",
     "output_type": "stream",
     "text": [
      "tensor(0.3202, device='cuda:0', grad_fn=<NllLossBackward>)\n",
      "0.3202073276042938\n"
     ]
    },
    {
     "name": "stderr",
     "output_type": "stream",
     "text": [
      "\n",
      "Iteration:  81%|███████████████████████████████████████████████████████▊             | 336/415 [04:42<01:08,  1.16it/s]\u001b[A"
     ]
    },
    {
     "name": "stdout",
     "output_type": "stream",
     "text": [
      "tensor(0.2121, device='cuda:0', grad_fn=<NllLossBackward>)\n",
      "0.21205970644950867\n"
     ]
    },
    {
     "name": "stderr",
     "output_type": "stream",
     "text": [
      "\n",
      "Iteration:  81%|████████████████████████████████████████████████████████             | 337/415 [04:43<01:06,  1.18it/s]\u001b[A"
     ]
    },
    {
     "name": "stdout",
     "output_type": "stream",
     "text": [
      "tensor(0.5119, device='cuda:0', grad_fn=<NllLossBackward>)\n",
      "0.5119150280952454\n"
     ]
    },
    {
     "name": "stderr",
     "output_type": "stream",
     "text": [
      "\n",
      "Iteration:  81%|████████████████████████████████████████████████████████▏            | 338/415 [04:43<01:05,  1.18it/s]\u001b[A"
     ]
    },
    {
     "name": "stdout",
     "output_type": "stream",
     "text": [
      "tensor(0.3681, device='cuda:0', grad_fn=<NllLossBackward>)\n",
      "0.36814016103744507\n"
     ]
    },
    {
     "name": "stderr",
     "output_type": "stream",
     "text": [
      "\n",
      "Iteration:  82%|████████████████████████████████████████████████████████▎            | 339/415 [04:44<01:04,  1.18it/s]\u001b[A"
     ]
    },
    {
     "name": "stdout",
     "output_type": "stream",
     "text": [
      "tensor(0.3108, device='cuda:0', grad_fn=<NllLossBackward>)\n",
      "0.3108116388320923\n"
     ]
    },
    {
     "name": "stderr",
     "output_type": "stream",
     "text": [
      "\n",
      "Iteration:  82%|████████████████████████████████████████████████████████▌            | 340/415 [04:45<01:04,  1.16it/s]\u001b[A"
     ]
    },
    {
     "name": "stdout",
     "output_type": "stream",
     "text": [
      "tensor(0.1781, device='cuda:0', grad_fn=<NllLossBackward>)\n",
      "0.17807133495807648\n"
     ]
    },
    {
     "name": "stderr",
     "output_type": "stream",
     "text": [
      "\n",
      "Iteration:  82%|████████████████████████████████████████████████████████▋            | 341/415 [04:46<01:05,  1.14it/s]\u001b[A"
     ]
    },
    {
     "name": "stdout",
     "output_type": "stream",
     "text": [
      "tensor(0.2505, device='cuda:0', grad_fn=<NllLossBackward>)\n",
      "0.25048673152923584\n"
     ]
    },
    {
     "name": "stderr",
     "output_type": "stream",
     "text": [
      "\n",
      "Iteration:  82%|████████████████████████████████████████████████████████▊            | 342/415 [04:47<01:02,  1.16it/s]\u001b[A"
     ]
    },
    {
     "name": "stdout",
     "output_type": "stream",
     "text": [
      "tensor(0.2455, device='cuda:0', grad_fn=<NllLossBackward>)\n",
      "0.24546033143997192\n"
     ]
    },
    {
     "name": "stderr",
     "output_type": "stream",
     "text": [
      "\n",
      "Iteration:  83%|█████████████████████████████████████████████████████████            | 343/415 [04:48<01:02,  1.16it/s]\u001b[A"
     ]
    },
    {
     "name": "stdout",
     "output_type": "stream",
     "text": [
      "tensor(0.4883, device='cuda:0', grad_fn=<NllLossBackward>)\n",
      "0.48829764127731323\n"
     ]
    },
    {
     "name": "stderr",
     "output_type": "stream",
     "text": [
      "\n",
      "Iteration:  83%|█████████████████████████████████████████████████████████▏           | 344/415 [04:49<01:00,  1.18it/s]\u001b[A"
     ]
    },
    {
     "name": "stdout",
     "output_type": "stream",
     "text": [
      "tensor(0.4569, device='cuda:0', grad_fn=<NllLossBackward>)\n",
      "0.45693713426589966\n"
     ]
    },
    {
     "name": "stderr",
     "output_type": "stream",
     "text": [
      "\n",
      "Iteration:  83%|█████████████████████████████████████████████████████████▎           | 345/415 [04:50<00:59,  1.17it/s]\u001b[A"
     ]
    },
    {
     "name": "stdout",
     "output_type": "stream",
     "text": [
      "tensor(0.3145, device='cuda:0', grad_fn=<NllLossBackward>)\n",
      "0.3144921064376831\n"
     ]
    },
    {
     "name": "stderr",
     "output_type": "stream",
     "text": [
      "\n",
      "Iteration:  83%|█████████████████████████████████████████████████████████▌           | 346/415 [04:50<01:00,  1.15it/s]\u001b[A"
     ]
    },
    {
     "name": "stdout",
     "output_type": "stream",
     "text": [
      "tensor(0.3439, device='cuda:0', grad_fn=<NllLossBackward>)\n",
      "0.3438762128353119\n"
     ]
    },
    {
     "name": "stderr",
     "output_type": "stream",
     "text": [
      "\n",
      "Iteration:  84%|█████████████████████████████████████████████████████████▋           | 347/415 [04:51<00:58,  1.17it/s]\u001b[A"
     ]
    },
    {
     "name": "stdout",
     "output_type": "stream",
     "text": [
      "tensor(0.3999, device='cuda:0', grad_fn=<NllLossBackward>)\n",
      "0.39989370107650757\n"
     ]
    },
    {
     "name": "stderr",
     "output_type": "stream",
     "text": [
      "\n",
      "Iteration:  84%|█████████████████████████████████████████████████████████▊           | 348/415 [04:52<00:57,  1.17it/s]\u001b[A"
     ]
    },
    {
     "name": "stdout",
     "output_type": "stream",
     "text": [
      "tensor(0.2785, device='cuda:0', grad_fn=<NllLossBackward>)\n",
      "0.27851471304893494\n"
     ]
    },
    {
     "name": "stderr",
     "output_type": "stream",
     "text": [
      "\n",
      "Iteration:  84%|██████████████████████████████████████████████████████████           | 349/415 [04:53<00:56,  1.18it/s]\u001b[A"
     ]
    },
    {
     "name": "stdout",
     "output_type": "stream",
     "text": [
      "tensor(0.2224, device='cuda:0', grad_fn=<NllLossBackward>)\n",
      "0.22243961691856384\n"
     ]
    },
    {
     "name": "stderr",
     "output_type": "stream",
     "text": [
      "\n",
      "Iteration:  84%|██████████████████████████████████████████████████████████▏          | 350/415 [04:54<00:54,  1.19it/s]\u001b[A"
     ]
    },
    {
     "name": "stdout",
     "output_type": "stream",
     "text": [
      "tensor(0.4173, device='cuda:0', grad_fn=<NllLossBackward>)\n",
      "0.41730183362960815\n"
     ]
    },
    {
     "name": "stderr",
     "output_type": "stream",
     "text": [
      "\n",
      "Iteration:  85%|██████████████████████████████████████████████████████████▎          | 351/415 [04:55<00:53,  1.20it/s]\u001b[A"
     ]
    },
    {
     "name": "stdout",
     "output_type": "stream",
     "text": [
      "tensor(0.1718, device='cuda:0', grad_fn=<NllLossBackward>)\n",
      "0.17183905839920044\n"
     ]
    },
    {
     "name": "stderr",
     "output_type": "stream",
     "text": [
      "\n",
      "Iteration:  85%|██████████████████████████████████████████████████████████▌          | 352/415 [04:56<00:57,  1.09it/s]\u001b[A"
     ]
    },
    {
     "name": "stdout",
     "output_type": "stream",
     "text": [
      "tensor(0.3601, device='cuda:0', grad_fn=<NllLossBackward>)\n",
      "0.36009424924850464\n"
     ]
    },
    {
     "name": "stderr",
     "output_type": "stream",
     "text": [
      "\n",
      "Iteration:  85%|██████████████████████████████████████████████████████████▋          | 353/415 [04:57<00:55,  1.12it/s]\u001b[A"
     ]
    },
    {
     "name": "stdout",
     "output_type": "stream",
     "text": [
      "tensor(0.3972, device='cuda:0', grad_fn=<NllLossBackward>)\n",
      "0.39715635776519775\n"
     ]
    },
    {
     "name": "stderr",
     "output_type": "stream",
     "text": [
      "\n",
      "Iteration:  85%|██████████████████████████████████████████████████████████▊          | 354/415 [04:57<00:53,  1.13it/s]\u001b[A"
     ]
    },
    {
     "name": "stdout",
     "output_type": "stream",
     "text": [
      "tensor(0.2139, device='cuda:0', grad_fn=<NllLossBackward>)\n",
      "0.21392372250556946\n"
     ]
    },
    {
     "name": "stderr",
     "output_type": "stream",
     "text": [
      "\n",
      "Iteration:  86%|███████████████████████████████████████████████████████████          | 355/415 [04:58<00:52,  1.15it/s]\u001b[A"
     ]
    },
    {
     "name": "stdout",
     "output_type": "stream",
     "text": [
      "tensor(0.3275, device='cuda:0', grad_fn=<NllLossBackward>)\n",
      "0.3275488615036011\n"
     ]
    },
    {
     "name": "stderr",
     "output_type": "stream",
     "text": [
      "\n",
      "Iteration:  86%|███████████████████████████████████████████████████████████▏         | 356/415 [04:59<00:50,  1.17it/s]\u001b[A"
     ]
    },
    {
     "name": "stdout",
     "output_type": "stream",
     "text": [
      "tensor(0.2461, device='cuda:0', grad_fn=<NllLossBackward>)\n",
      "0.2460627406835556\n"
     ]
    },
    {
     "name": "stderr",
     "output_type": "stream",
     "text": [
      "\n",
      "Iteration:  86%|███████████████████████████████████████████████████████████▎         | 357/415 [05:00<00:48,  1.19it/s]\u001b[A"
     ]
    },
    {
     "name": "stdout",
     "output_type": "stream",
     "text": [
      "tensor(0.2259, device='cuda:0', grad_fn=<NllLossBackward>)\n",
      "0.22587206959724426\n"
     ]
    },
    {
     "name": "stderr",
     "output_type": "stream",
     "text": [
      "\n",
      "Iteration:  86%|███████████████████████████████████████████████████████████▌         | 358/415 [05:01<00:48,  1.19it/s]\u001b[A"
     ]
    },
    {
     "name": "stdout",
     "output_type": "stream",
     "text": [
      "tensor(0.5746, device='cuda:0', grad_fn=<NllLossBackward>)\n",
      "0.574635922908783\n"
     ]
    },
    {
     "name": "stderr",
     "output_type": "stream",
     "text": [
      "\n",
      "Iteration:  87%|███████████████████████████████████████████████████████████▋         | 359/415 [05:02<00:47,  1.19it/s]\u001b[A"
     ]
    },
    {
     "name": "stdout",
     "output_type": "stream",
     "text": [
      "tensor(0.3483, device='cuda:0', grad_fn=<NllLossBackward>)\n",
      "0.34833264350891113\n"
     ]
    },
    {
     "name": "stderr",
     "output_type": "stream",
     "text": [
      "\n",
      "Iteration:  87%|███████████████████████████████████████████████████████████▊         | 360/415 [05:02<00:46,  1.19it/s]\u001b[A"
     ]
    },
    {
     "name": "stdout",
     "output_type": "stream",
     "text": [
      "tensor(0.4111, device='cuda:0', grad_fn=<NllLossBackward>)\n",
      "0.41107413172721863\n"
     ]
    },
    {
     "name": "stderr",
     "output_type": "stream",
     "text": [
      "\n",
      "Iteration:  87%|████████████████████████████████████████████████████████████         | 361/415 [05:03<00:45,  1.20it/s]\u001b[A"
     ]
    },
    {
     "name": "stdout",
     "output_type": "stream",
     "text": [
      "tensor(0.4459, device='cuda:0', grad_fn=<NllLossBackward>)\n",
      "0.44588032364845276\n"
     ]
    },
    {
     "name": "stderr",
     "output_type": "stream",
     "text": [
      "\n",
      "Iteration:  87%|████████████████████████████████████████████████████████████▏        | 362/415 [05:04<00:48,  1.08it/s]\u001b[A"
     ]
    },
    {
     "name": "stdout",
     "output_type": "stream",
     "text": [
      "tensor(0.5444, device='cuda:0', grad_fn=<NllLossBackward>)\n",
      "0.5443649888038635\n"
     ]
    },
    {
     "name": "stderr",
     "output_type": "stream",
     "text": [
      "\n",
      "Iteration:  87%|████████████████████████████████████████████████████████████▎        | 363/415 [05:05<00:47,  1.08it/s]\u001b[A"
     ]
    },
    {
     "name": "stdout",
     "output_type": "stream",
     "text": [
      "tensor(0.3181, device='cuda:0', grad_fn=<NllLossBackward>)\n",
      "0.31811296939849854\n"
     ]
    },
    {
     "name": "stderr",
     "output_type": "stream",
     "text": [
      "\n",
      "Iteration:  88%|████████████████████████████████████████████████████████████▌        | 364/415 [05:06<00:45,  1.11it/s]\u001b[A"
     ]
    },
    {
     "name": "stdout",
     "output_type": "stream",
     "text": [
      "tensor(0.2792, device='cuda:0', grad_fn=<NllLossBackward>)\n",
      "0.2792462110519409\n"
     ]
    },
    {
     "name": "stderr",
     "output_type": "stream",
     "text": [
      "\n",
      "Iteration:  88%|████████████████████████████████████████████████████████████▋        | 365/415 [05:07<00:44,  1.11it/s]\u001b[A"
     ]
    },
    {
     "name": "stdout",
     "output_type": "stream",
     "text": [
      "tensor(0.3499, device='cuda:0', grad_fn=<NllLossBackward>)\n",
      "0.3498801290988922\n"
     ]
    },
    {
     "name": "stderr",
     "output_type": "stream",
     "text": [
      "\n",
      "Iteration:  88%|████████████████████████████████████████████████████████████▊        | 366/415 [05:08<00:43,  1.14it/s]\u001b[A"
     ]
    },
    {
     "name": "stdout",
     "output_type": "stream",
     "text": [
      "tensor(0.4098, device='cuda:0', grad_fn=<NllLossBackward>)\n",
      "0.4098123610019684\n"
     ]
    },
    {
     "name": "stderr",
     "output_type": "stream",
     "text": [
      "\n",
      "Iteration:  88%|█████████████████████████████████████████████████████████████        | 367/415 [05:09<00:42,  1.13it/s]\u001b[A"
     ]
    },
    {
     "name": "stdout",
     "output_type": "stream",
     "text": [
      "tensor(0.5989, device='cuda:0', grad_fn=<NllLossBackward>)\n",
      "0.5989323854446411\n"
     ]
    },
    {
     "name": "stderr",
     "output_type": "stream",
     "text": [
      "\n",
      "Iteration:  89%|█████████████████████████████████████████████████████████████▏       | 368/415 [05:10<00:41,  1.15it/s]\u001b[A"
     ]
    },
    {
     "name": "stdout",
     "output_type": "stream",
     "text": [
      "tensor(0.2708, device='cuda:0', grad_fn=<NllLossBackward>)\n",
      "0.2708394229412079\n"
     ]
    },
    {
     "name": "stderr",
     "output_type": "stream",
     "text": [
      "\n",
      "Iteration:  89%|█████████████████████████████████████████████████████████████▎       | 369/415 [05:11<00:41,  1.12it/s]\u001b[A"
     ]
    },
    {
     "name": "stdout",
     "output_type": "stream",
     "text": [
      "tensor(0.3636, device='cuda:0', grad_fn=<NllLossBackward>)\n",
      "0.3636029064655304\n"
     ]
    },
    {
     "name": "stderr",
     "output_type": "stream",
     "text": [
      "\n",
      "Iteration:  89%|█████████████████████████████████████████████████████████████▌       | 370/415 [05:11<00:39,  1.15it/s]\u001b[A"
     ]
    },
    {
     "name": "stdout",
     "output_type": "stream",
     "text": [
      "tensor(0.4387, device='cuda:0', grad_fn=<NllLossBackward>)\n",
      "0.4387419521808624\n"
     ]
    },
    {
     "name": "stderr",
     "output_type": "stream",
     "text": [
      "\n",
      "Iteration:  89%|█████████████████████████████████████████████████████████████▋       | 371/415 [05:12<00:37,  1.16it/s]\u001b[A"
     ]
    },
    {
     "name": "stdout",
     "output_type": "stream",
     "text": [
      "tensor(0.3871, device='cuda:0', grad_fn=<NllLossBackward>)\n",
      "0.38713136315345764\n"
     ]
    },
    {
     "name": "stderr",
     "output_type": "stream",
     "text": [
      "\n",
      "Iteration:  90%|█████████████████████████████████████████████████████████████▊       | 372/415 [05:13<00:37,  1.16it/s]\u001b[A"
     ]
    },
    {
     "name": "stdout",
     "output_type": "stream",
     "text": [
      "tensor(0.2953, device='cuda:0', grad_fn=<NllLossBackward>)\n",
      "0.29529428482055664\n"
     ]
    },
    {
     "name": "stderr",
     "output_type": "stream",
     "text": [
      "\n",
      "Iteration:  90%|██████████████████████████████████████████████████████████████       | 373/415 [05:14<00:36,  1.14it/s]\u001b[A"
     ]
    },
    {
     "name": "stdout",
     "output_type": "stream",
     "text": [
      "tensor(0.2631, device='cuda:0', grad_fn=<NllLossBackward>)\n",
      "0.26311951875686646\n"
     ]
    },
    {
     "name": "stderr",
     "output_type": "stream",
     "text": [
      "\n",
      "Iteration:  90%|██████████████████████████████████████████████████████████████▏      | 374/415 [05:15<00:38,  1.07it/s]\u001b[A"
     ]
    },
    {
     "name": "stdout",
     "output_type": "stream",
     "text": [
      "tensor(0.2241, device='cuda:0', grad_fn=<NllLossBackward>)\n",
      "0.22406379878520966\n"
     ]
    },
    {
     "name": "stderr",
     "output_type": "stream",
     "text": [
      "\n",
      "Iteration:  90%|██████████████████████████████████████████████████████████████▎      | 375/415 [05:16<00:36,  1.10it/s]\u001b[A"
     ]
    },
    {
     "name": "stdout",
     "output_type": "stream",
     "text": [
      "tensor(0.2155, device='cuda:0', grad_fn=<NllLossBackward>)\n",
      "0.215512216091156\n"
     ]
    },
    {
     "name": "stderr",
     "output_type": "stream",
     "text": [
      "\n",
      "Iteration:  91%|██████████████████████████████████████████████████████████████▌      | 376/415 [05:17<00:36,  1.08it/s]\u001b[A"
     ]
    },
    {
     "name": "stdout",
     "output_type": "stream",
     "text": [
      "tensor(0.4911, device='cuda:0', grad_fn=<NllLossBackward>)\n",
      "0.49110284447669983\n"
     ]
    },
    {
     "name": "stderr",
     "output_type": "stream",
     "text": [
      "\n",
      "Iteration:  91%|██████████████████████████████████████████████████████████████▋      | 377/415 [05:18<00:34,  1.10it/s]\u001b[A"
     ]
    },
    {
     "name": "stdout",
     "output_type": "stream",
     "text": [
      "tensor(0.5842, device='cuda:0', grad_fn=<NllLossBackward>)\n",
      "0.5841903686523438\n"
     ]
    },
    {
     "name": "stderr",
     "output_type": "stream",
     "text": [
      "\n",
      "Iteration:  91%|██████████████████████████████████████████████████████████████▊      | 378/415 [05:19<00:32,  1.14it/s]\u001b[A"
     ]
    },
    {
     "name": "stdout",
     "output_type": "stream",
     "text": [
      "tensor(0.5471, device='cuda:0', grad_fn=<NllLossBackward>)\n",
      "0.547135591506958\n"
     ]
    },
    {
     "name": "stderr",
     "output_type": "stream",
     "text": [
      "\n",
      "Iteration:  91%|███████████████████████████████████████████████████████████████      | 379/415 [05:19<00:31,  1.16it/s]\u001b[A"
     ]
    },
    {
     "name": "stdout",
     "output_type": "stream",
     "text": [
      "tensor(0.3171, device='cuda:0', grad_fn=<NllLossBackward>)\n",
      "0.31710612773895264\n"
     ]
    },
    {
     "name": "stderr",
     "output_type": "stream",
     "text": [
      "\n",
      "Iteration:  92%|███████████████████████████████████████████████████████████████▏     | 380/415 [05:20<00:29,  1.17it/s]\u001b[A"
     ]
    },
    {
     "name": "stdout",
     "output_type": "stream",
     "text": [
      "tensor(0.2726, device='cuda:0', grad_fn=<NllLossBackward>)\n",
      "0.2725604176521301\n"
     ]
    },
    {
     "name": "stderr",
     "output_type": "stream",
     "text": [
      "\n",
      "Iteration:  92%|███████████████████████████████████████████████████████████████▎     | 381/415 [05:21<00:28,  1.19it/s]\u001b[A"
     ]
    },
    {
     "name": "stdout",
     "output_type": "stream",
     "text": [
      "tensor(0.2926, device='cuda:0', grad_fn=<NllLossBackward>)\n",
      "0.29255855083465576\n"
     ]
    },
    {
     "name": "stderr",
     "output_type": "stream",
     "text": [
      "\n",
      "Iteration:  92%|███████████████████████████████████████████████████████████████▌     | 382/415 [05:22<00:28,  1.15it/s]\u001b[A"
     ]
    },
    {
     "name": "stdout",
     "output_type": "stream",
     "text": [
      "tensor(0.2405, device='cuda:0', grad_fn=<NllLossBackward>)\n",
      "0.24049581587314606\n"
     ]
    },
    {
     "name": "stderr",
     "output_type": "stream",
     "text": [
      "\n",
      "Iteration:  92%|███████████████████████████████████████████████████████████████▋     | 383/415 [05:23<00:27,  1.16it/s]\u001b[A"
     ]
    },
    {
     "name": "stdout",
     "output_type": "stream",
     "text": [
      "tensor(0.4171, device='cuda:0', grad_fn=<NllLossBackward>)\n",
      "0.4170544743537903\n"
     ]
    },
    {
     "name": "stderr",
     "output_type": "stream",
     "text": [
      "\n",
      "Iteration:  93%|███████████████████████████████████████████████████████████████▊     | 384/415 [05:24<00:27,  1.13it/s]\u001b[A"
     ]
    },
    {
     "name": "stdout",
     "output_type": "stream",
     "text": [
      "tensor(0.2691, device='cuda:0', grad_fn=<NllLossBackward>)\n",
      "0.2691006064414978\n"
     ]
    },
    {
     "name": "stderr",
     "output_type": "stream",
     "text": [
      "\n",
      "Iteration:  93%|████████████████████████████████████████████████████████████████     | 385/415 [05:25<00:26,  1.14it/s]\u001b[A"
     ]
    },
    {
     "name": "stdout",
     "output_type": "stream",
     "text": [
      "tensor(0.2622, device='cuda:0', grad_fn=<NllLossBackward>)\n",
      "0.26217448711395264\n"
     ]
    },
    {
     "name": "stderr",
     "output_type": "stream",
     "text": [
      "\n",
      "Iteration:  93%|████████████████████████████████████████████████████████████████▏    | 386/415 [05:25<00:25,  1.14it/s]\u001b[A"
     ]
    },
    {
     "name": "stdout",
     "output_type": "stream",
     "text": [
      "tensor(0.2776, device='cuda:0', grad_fn=<NllLossBackward>)\n",
      "0.27760517597198486\n"
     ]
    },
    {
     "name": "stderr",
     "output_type": "stream",
     "text": [
      "\n",
      "Iteration:  93%|████████████████████████████████████████████████████████████████▎    | 387/415 [05:26<00:24,  1.16it/s]\u001b[A"
     ]
    },
    {
     "name": "stdout",
     "output_type": "stream",
     "text": [
      "tensor(0.3163, device='cuda:0', grad_fn=<NllLossBackward>)\n",
      "0.31631556153297424\n"
     ]
    },
    {
     "name": "stderr",
     "output_type": "stream",
     "text": [
      "\n",
      "Iteration:  93%|████████████████████████████████████████████████████████████████▌    | 388/415 [05:27<00:23,  1.17it/s]\u001b[A"
     ]
    },
    {
     "name": "stdout",
     "output_type": "stream",
     "text": [
      "tensor(0.2643, device='cuda:0', grad_fn=<NllLossBackward>)\n",
      "0.2642804980278015\n"
     ]
    },
    {
     "name": "stderr",
     "output_type": "stream",
     "text": [
      "\n",
      "Iteration:  94%|████████████████████████████████████████████████████████████████▋    | 389/415 [05:28<00:21,  1.18it/s]\u001b[A"
     ]
    },
    {
     "name": "stdout",
     "output_type": "stream",
     "text": [
      "tensor(0.3221, device='cuda:0', grad_fn=<NllLossBackward>)\n",
      "0.32209116220474243\n"
     ]
    },
    {
     "name": "stderr",
     "output_type": "stream",
     "text": [
      "\n",
      "Iteration:  94%|████████████████████████████████████████████████████████████████▊    | 390/415 [05:29<00:21,  1.19it/s]\u001b[A"
     ]
    },
    {
     "name": "stdout",
     "output_type": "stream",
     "text": [
      "tensor(0.4963, device='cuda:0', grad_fn=<NllLossBackward>)\n",
      "0.49628961086273193\n"
     ]
    },
    {
     "name": "stderr",
     "output_type": "stream",
     "text": [
      "\n",
      "Iteration:  94%|█████████████████████████████████████████████████████████████████    | 391/415 [05:30<00:20,  1.19it/s]\u001b[A"
     ]
    },
    {
     "name": "stdout",
     "output_type": "stream",
     "text": [
      "tensor(0.2898, device='cuda:0', grad_fn=<NllLossBackward>)\n",
      "0.28975778818130493\n"
     ]
    },
    {
     "name": "stderr",
     "output_type": "stream",
     "text": [
      "\n",
      "Iteration:  94%|█████████████████████████████████████████████████████████████████▏   | 392/415 [05:31<00:19,  1.16it/s]\u001b[A"
     ]
    },
    {
     "name": "stdout",
     "output_type": "stream",
     "text": [
      "tensor(0.2946, device='cuda:0', grad_fn=<NllLossBackward>)\n",
      "0.2945680320262909\n"
     ]
    },
    {
     "name": "stderr",
     "output_type": "stream",
     "text": [
      "\n",
      "Iteration:  95%|█████████████████████████████████████████████████████████████████▎   | 393/415 [05:31<00:19,  1.15it/s]\u001b[A"
     ]
    },
    {
     "name": "stdout",
     "output_type": "stream",
     "text": [
      "tensor(0.3132, device='cuda:0', grad_fn=<NllLossBackward>)\n",
      "0.3131621479988098\n"
     ]
    },
    {
     "name": "stderr",
     "output_type": "stream",
     "text": [
      "\n",
      "Iteration:  95%|█████████████████████████████████████████████████████████████████▌   | 394/415 [05:32<00:18,  1.16it/s]\u001b[A"
     ]
    },
    {
     "name": "stdout",
     "output_type": "stream",
     "text": [
      "tensor(0.3343, device='cuda:0', grad_fn=<NllLossBackward>)\n",
      "0.3342563807964325\n"
     ]
    },
    {
     "name": "stderr",
     "output_type": "stream",
     "text": [
      "\n",
      "Iteration:  95%|█████████████████████████████████████████████████████████████████▋   | 395/415 [05:33<00:16,  1.18it/s]\u001b[A"
     ]
    },
    {
     "name": "stdout",
     "output_type": "stream",
     "text": [
      "tensor(0.5101, device='cuda:0', grad_fn=<NllLossBackward>)\n",
      "0.510106086730957\n"
     ]
    },
    {
     "name": "stderr",
     "output_type": "stream",
     "text": [
      "\n",
      "Iteration:  95%|█████████████████████████████████████████████████████████████████▊   | 396/415 [05:34<00:16,  1.18it/s]\u001b[A"
     ]
    },
    {
     "name": "stdout",
     "output_type": "stream",
     "text": [
      "tensor(0.2772, device='cuda:0', grad_fn=<NllLossBackward>)\n",
      "0.2771954834461212\n"
     ]
    },
    {
     "name": "stderr",
     "output_type": "stream",
     "text": [
      "\n",
      "Iteration:  96%|██████████████████████████████████████████████████████████████████   | 397/415 [05:35<00:15,  1.17it/s]\u001b[A"
     ]
    },
    {
     "name": "stdout",
     "output_type": "stream",
     "text": [
      "tensor(0.4014, device='cuda:0', grad_fn=<NllLossBackward>)\n",
      "0.40139099955558777\n"
     ]
    },
    {
     "name": "stderr",
     "output_type": "stream",
     "text": [
      "\n",
      "Iteration:  96%|██████████████████████████████████████████████████████████████████▏  | 398/415 [05:36<00:14,  1.16it/s]\u001b[A"
     ]
    },
    {
     "name": "stdout",
     "output_type": "stream",
     "text": [
      "tensor(0.2683, device='cuda:0', grad_fn=<NllLossBackward>)\n",
      "0.2682567834854126\n"
     ]
    },
    {
     "name": "stderr",
     "output_type": "stream",
     "text": [
      "\n",
      "Iteration:  96%|██████████████████████████████████████████████████████████████████▎  | 399/415 [05:36<00:13,  1.17it/s]\u001b[A"
     ]
    },
    {
     "name": "stdout",
     "output_type": "stream",
     "text": [
      "tensor(0.2863, device='cuda:0', grad_fn=<NllLossBackward>)\n",
      "0.2863255739212036\n"
     ]
    },
    {
     "name": "stderr",
     "output_type": "stream",
     "text": [
      "\n",
      "Iteration:  96%|██████████████████████████████████████████████████████████████████▌  | 400/415 [05:37<00:12,  1.18it/s]\u001b[A"
     ]
    },
    {
     "name": "stdout",
     "output_type": "stream",
     "text": [
      "tensor(0.3779, device='cuda:0', grad_fn=<NllLossBackward>)\n",
      "0.37791135907173157\n"
     ]
    },
    {
     "name": "stderr",
     "output_type": "stream",
     "text": [
      "\n",
      "Iteration:  97%|██████████████████████████████████████████████████████████████████▋  | 401/415 [05:38<00:11,  1.19it/s]\u001b[A"
     ]
    },
    {
     "name": "stdout",
     "output_type": "stream",
     "text": [
      "tensor(0.2953, device='cuda:0', grad_fn=<NllLossBackward>)\n",
      "0.29525521397590637\n"
     ]
    },
    {
     "name": "stderr",
     "output_type": "stream",
     "text": [
      "\n",
      "Iteration:  97%|██████████████████████████████████████████████████████████████████▊  | 402/415 [05:39<00:11,  1.15it/s]\u001b[A"
     ]
    },
    {
     "name": "stdout",
     "output_type": "stream",
     "text": [
      "tensor(0.3070, device='cuda:0', grad_fn=<NllLossBackward>)\n",
      "0.3069670796394348\n"
     ]
    },
    {
     "name": "stderr",
     "output_type": "stream",
     "text": [
      "\n",
      "Iteration:  97%|███████████████████████████████████████████████████████████████████  | 403/415 [05:40<00:10,  1.14it/s]\u001b[A"
     ]
    },
    {
     "name": "stdout",
     "output_type": "stream",
     "text": [
      "tensor(0.2551, device='cuda:0', grad_fn=<NllLossBackward>)\n",
      "0.2550501227378845\n"
     ]
    },
    {
     "name": "stderr",
     "output_type": "stream",
     "text": [
      "\n",
      "Iteration:  97%|███████████████████████████████████████████████████████████████████▏ | 404/415 [05:41<00:09,  1.16it/s]\u001b[A"
     ]
    },
    {
     "name": "stdout",
     "output_type": "stream",
     "text": [
      "tensor(0.2751, device='cuda:0', grad_fn=<NllLossBackward>)\n",
      "0.27509695291519165\n"
     ]
    },
    {
     "name": "stderr",
     "output_type": "stream",
     "text": [
      "\n",
      "Iteration:  98%|███████████████████████████████████████████████████████████████████▎ | 405/415 [05:42<00:08,  1.16it/s]\u001b[A"
     ]
    },
    {
     "name": "stdout",
     "output_type": "stream",
     "text": [
      "tensor(0.3897, device='cuda:0', grad_fn=<NllLossBackward>)\n",
      "0.3896794319152832\n"
     ]
    },
    {
     "name": "stderr",
     "output_type": "stream",
     "text": [
      "\n",
      "Iteration:  98%|███████████████████████████████████████████████████████████████████▌ | 406/415 [05:42<00:07,  1.18it/s]\u001b[A"
     ]
    },
    {
     "name": "stdout",
     "output_type": "stream",
     "text": [
      "tensor(0.2522, device='cuda:0', grad_fn=<NllLossBackward>)\n",
      "0.25217100977897644\n"
     ]
    },
    {
     "name": "stderr",
     "output_type": "stream",
     "text": [
      "\n",
      "Iteration:  98%|███████████████████████████████████████████████████████████████████▋ | 407/415 [05:43<00:06,  1.18it/s]\u001b[A"
     ]
    },
    {
     "name": "stdout",
     "output_type": "stream",
     "text": [
      "tensor(0.1678, device='cuda:0', grad_fn=<NllLossBackward>)\n",
      "0.16782914102077484\n"
     ]
    },
    {
     "name": "stderr",
     "output_type": "stream",
     "text": [
      "\n",
      "Iteration:  98%|███████████████████████████████████████████████████████████████████▊ | 408/415 [05:44<00:06,  1.16it/s]\u001b[A"
     ]
    },
    {
     "name": "stdout",
     "output_type": "stream",
     "text": [
      "tensor(0.2154, device='cuda:0', grad_fn=<NllLossBackward>)\n",
      "0.21539835631847382\n"
     ]
    },
    {
     "name": "stderr",
     "output_type": "stream",
     "text": [
      "\n",
      "Iteration:  99%|████████████████████████████████████████████████████████████████████ | 409/415 [05:45<00:05,  1.16it/s]\u001b[A"
     ]
    },
    {
     "name": "stdout",
     "output_type": "stream",
     "text": [
      "tensor(0.3150, device='cuda:0', grad_fn=<NllLossBackward>)\n",
      "0.314981073141098\n"
     ]
    },
    {
     "name": "stderr",
     "output_type": "stream",
     "text": [
      "\n",
      "Iteration:  99%|████████████████████████████████████████████████████████████████████▏| 410/415 [05:46<00:04,  1.18it/s]\u001b[A"
     ]
    },
    {
     "name": "stdout",
     "output_type": "stream",
     "text": [
      "tensor(0.2663, device='cuda:0', grad_fn=<NllLossBackward>)\n",
      "0.2663154602050781\n"
     ]
    },
    {
     "name": "stderr",
     "output_type": "stream",
     "text": [
      "\n",
      "Iteration:  99%|████████████████████████████████████████████████████████████████████▎| 411/415 [05:47<00:03,  1.18it/s]\u001b[A"
     ]
    },
    {
     "name": "stdout",
     "output_type": "stream",
     "text": [
      "tensor(0.2435, device='cuda:0', grad_fn=<NllLossBackward>)\n",
      "0.2435479462146759\n"
     ]
    },
    {
     "name": "stderr",
     "output_type": "stream",
     "text": [
      "\n",
      "Iteration:  99%|████████████████████████████████████████████████████████████████████▌| 412/415 [05:48<00:02,  1.19it/s]\u001b[A"
     ]
    },
    {
     "name": "stdout",
     "output_type": "stream",
     "text": [
      "tensor(0.2929, device='cuda:0', grad_fn=<NllLossBackward>)\n",
      "0.2929089069366455\n"
     ]
    },
    {
     "name": "stderr",
     "output_type": "stream",
     "text": [
      "\n",
      "Iteration: 100%|████████████████████████████████████████████████████████████████████▋| 413/415 [05:48<00:01,  1.19it/s]\u001b[A"
     ]
    },
    {
     "name": "stdout",
     "output_type": "stream",
     "text": [
      "tensor(0.3405, device='cuda:0', grad_fn=<NllLossBackward>)\n",
      "0.3404770791530609\n"
     ]
    },
    {
     "name": "stderr",
     "output_type": "stream",
     "text": [
      "\n",
      "Iteration: 100%|████████████████████████████████████████████████████████████████████▊| 414/415 [05:49<00:00,  1.18it/s]\u001b[A"
     ]
    },
    {
     "name": "stdout",
     "output_type": "stream",
     "text": [
      "tensor(0.1689, device='cuda:0', grad_fn=<NllLossBackward>)\n",
      "0.16893987357616425\n"
     ]
    },
    {
     "name": "stderr",
     "output_type": "stream",
     "text": [
      "\n",
      "Iteration: 100%|█████████████████████████████████████████████████████████████████████| 415/415 [05:50<00:00,  1.18it/s]\u001b[A\n",
      "Epoch:  67%|██████████████████████████████████████████████████▋                         | 2/3 [11:10<05:28, 328.94s/it]\n",
      "Iteration:   0%|                                                                               | 0/415 [00:00<?, ?it/s]\u001b[A"
     ]
    },
    {
     "name": "stdout",
     "output_type": "stream",
     "text": [
      "tensor(0.3329, device='cuda:0', grad_fn=<NllLossBackward>)\n",
      "0.33294591307640076\n"
     ]
    },
    {
     "name": "stderr",
     "output_type": "stream",
     "text": [
      "\n",
      "Iteration:   0%|▏                                                                      | 1/415 [00:00<05:44,  1.20it/s]\u001b[A"
     ]
    },
    {
     "name": "stdout",
     "output_type": "stream",
     "text": [
      "tensor(0.1566, device='cuda:0', grad_fn=<NllLossBackward>)\n",
      "0.156564861536026\n"
     ]
    },
    {
     "name": "stderr",
     "output_type": "stream",
     "text": [
      "\n",
      "Iteration:   0%|▎                                                                      | 2/415 [00:01<05:50,  1.18it/s]\u001b[A"
     ]
    },
    {
     "name": "stdout",
     "output_type": "stream",
     "text": [
      "tensor(0.2197, device='cuda:0', grad_fn=<NllLossBackward>)\n",
      "0.21966983377933502\n"
     ]
    },
    {
     "name": "stderr",
     "output_type": "stream",
     "text": [
      "\n",
      "Iteration:   1%|▌                                                                      | 3/415 [00:02<05:51,  1.17it/s]\u001b[A"
     ]
    },
    {
     "name": "stdout",
     "output_type": "stream",
     "text": [
      "tensor(0.1554, device='cuda:0', grad_fn=<NllLossBackward>)\n",
      "0.15535491704940796\n"
     ]
    },
    {
     "name": "stderr",
     "output_type": "stream",
     "text": [
      "\n",
      "Iteration:   1%|▋                                                                      | 4/415 [00:03<06:00,  1.14it/s]\u001b[A"
     ]
    },
    {
     "name": "stdout",
     "output_type": "stream",
     "text": [
      "tensor(0.2171, device='cuda:0', grad_fn=<NllLossBackward>)\n",
      "0.21709215641021729\n"
     ]
    },
    {
     "name": "stderr",
     "output_type": "stream",
     "text": [
      "\n",
      "Iteration:   1%|▊                                                                      | 5/415 [00:04<05:59,  1.14it/s]\u001b[A"
     ]
    },
    {
     "name": "stdout",
     "output_type": "stream",
     "text": [
      "tensor(0.2700, device='cuda:0', grad_fn=<NllLossBackward>)\n",
      "0.27003955841064453\n"
     ]
    },
    {
     "name": "stderr",
     "output_type": "stream",
     "text": [
      "\n",
      "Iteration:   1%|█                                                                      | 6/415 [00:05<06:14,  1.09it/s]\u001b[A"
     ]
    },
    {
     "name": "stdout",
     "output_type": "stream",
     "text": [
      "tensor(0.2547, device='cuda:0', grad_fn=<NllLossBackward>)\n",
      "0.25470465421676636\n"
     ]
    },
    {
     "name": "stderr",
     "output_type": "stream",
     "text": [
      "\n",
      "Iteration:   2%|█▏                                                                     | 7/415 [00:06<06:32,  1.04it/s]\u001b[A"
     ]
    },
    {
     "name": "stdout",
     "output_type": "stream",
     "text": [
      "tensor(0.2210, device='cuda:0', grad_fn=<NllLossBackward>)\n",
      "0.2210022211074829\n"
     ]
    },
    {
     "name": "stderr",
     "output_type": "stream",
     "text": [
      "\n",
      "Iteration:   2%|█▎                                                                     | 8/415 [00:07<06:26,  1.05it/s]\u001b[A"
     ]
    },
    {
     "name": "stdout",
     "output_type": "stream",
     "text": [
      "tensor(0.3927, device='cuda:0', grad_fn=<NllLossBackward>)\n",
      "0.3926973342895508\n"
     ]
    },
    {
     "name": "stderr",
     "output_type": "stream",
     "text": [
      "\n",
      "Iteration:   2%|█▌                                                                     | 9/415 [00:08<06:16,  1.08it/s]\u001b[A"
     ]
    },
    {
     "name": "stdout",
     "output_type": "stream",
     "text": [
      "tensor(0.2394, device='cuda:0', grad_fn=<NllLossBackward>)\n",
      "0.23935559391975403\n"
     ]
    },
    {
     "name": "stderr",
     "output_type": "stream",
     "text": [
      "\n",
      "Iteration:   2%|█▋                                                                    | 10/415 [00:09<06:09,  1.10it/s]\u001b[A"
     ]
    },
    {
     "name": "stdout",
     "output_type": "stream",
     "text": [
      "tensor(0.2257, device='cuda:0', grad_fn=<NllLossBackward>)\n",
      "0.22574374079704285\n"
     ]
    },
    {
     "name": "stderr",
     "output_type": "stream",
     "text": [
      "\n",
      "Iteration:   3%|█▊                                                                    | 11/415 [00:09<05:55,  1.14it/s]\u001b[A"
     ]
    },
    {
     "name": "stdout",
     "output_type": "stream",
     "text": [
      "tensor(0.1871, device='cuda:0', grad_fn=<NllLossBackward>)\n",
      "0.18712599575519562\n"
     ]
    },
    {
     "name": "stderr",
     "output_type": "stream",
     "text": [
      "\n",
      "Iteration:   3%|██                                                                    | 12/415 [00:10<05:48,  1.16it/s]\u001b[A"
     ]
    },
    {
     "name": "stdout",
     "output_type": "stream",
     "text": [
      "tensor(0.2425, device='cuda:0', grad_fn=<NllLossBackward>)\n",
      "0.24248886108398438\n"
     ]
    },
    {
     "name": "stderr",
     "output_type": "stream",
     "text": [
      "\n",
      "Iteration:   3%|██▏                                                                   | 13/415 [00:11<05:55,  1.13it/s]\u001b[A"
     ]
    },
    {
     "name": "stdout",
     "output_type": "stream",
     "text": [
      "tensor(0.1956, device='cuda:0', grad_fn=<NllLossBackward>)\n",
      "0.1955745965242386\n"
     ]
    },
    {
     "name": "stderr",
     "output_type": "stream",
     "text": [
      "\n",
      "Iteration:   3%|██▎                                                                   | 14/415 [00:12<05:52,  1.14it/s]\u001b[A"
     ]
    },
    {
     "name": "stdout",
     "output_type": "stream",
     "text": [
      "tensor(0.3457, device='cuda:0', grad_fn=<NllLossBackward>)\n",
      "0.3457479178905487\n"
     ]
    },
    {
     "name": "stderr",
     "output_type": "stream",
     "text": [
      "\n",
      "Iteration:   4%|██▌                                                                   | 15/415 [00:13<05:49,  1.14it/s]\u001b[A"
     ]
    },
    {
     "name": "stdout",
     "output_type": "stream",
     "text": [
      "tensor(0.2199, device='cuda:0', grad_fn=<NllLossBackward>)\n",
      "0.21989262104034424\n"
     ]
    },
    {
     "name": "stderr",
     "output_type": "stream",
     "text": [
      "\n",
      "Iteration:   4%|██▋                                                                   | 16/415 [00:14<05:55,  1.12it/s]\u001b[A"
     ]
    },
    {
     "name": "stdout",
     "output_type": "stream",
     "text": [
      "tensor(0.2056, device='cuda:0', grad_fn=<NllLossBackward>)\n",
      "0.2055608034133911\n"
     ]
    },
    {
     "name": "stderr",
     "output_type": "stream",
     "text": [
      "\n",
      "Iteration:   4%|██▊                                                                   | 17/415 [00:15<05:46,  1.15it/s]\u001b[A"
     ]
    },
    {
     "name": "stdout",
     "output_type": "stream",
     "text": [
      "tensor(0.1481, device='cuda:0', grad_fn=<NllLossBackward>)\n",
      "0.14809297025203705\n"
     ]
    },
    {
     "name": "stderr",
     "output_type": "stream",
     "text": [
      "\n",
      "Iteration:   4%|███                                                                   | 18/415 [00:16<05:44,  1.15it/s]\u001b[A"
     ]
    },
    {
     "name": "stdout",
     "output_type": "stream",
     "text": [
      "tensor(0.1930, device='cuda:0', grad_fn=<NllLossBackward>)\n",
      "0.19297797977924347\n"
     ]
    },
    {
     "name": "stderr",
     "output_type": "stream",
     "text": [
      "\n",
      "Iteration:   5%|███▏                                                                  | 19/415 [00:16<05:40,  1.16it/s]\u001b[A"
     ]
    },
    {
     "name": "stdout",
     "output_type": "stream",
     "text": [
      "tensor(0.2998, device='cuda:0', grad_fn=<NllLossBackward>)\n",
      "0.29976537823677063\n"
     ]
    },
    {
     "name": "stderr",
     "output_type": "stream",
     "text": [
      "\n",
      "Iteration:   5%|███▎                                                                  | 20/415 [00:17<05:37,  1.17it/s]\u001b[A"
     ]
    },
    {
     "name": "stdout",
     "output_type": "stream",
     "text": [
      "tensor(0.2367, device='cuda:0', grad_fn=<NllLossBackward>)\n",
      "0.23671913146972656\n"
     ]
    },
    {
     "name": "stderr",
     "output_type": "stream",
     "text": [
      "\n",
      "Iteration:   5%|███▌                                                                  | 21/415 [00:18<05:31,  1.19it/s]\u001b[A"
     ]
    },
    {
     "name": "stdout",
     "output_type": "stream",
     "text": [
      "tensor(0.1474, device='cuda:0', grad_fn=<NllLossBackward>)\n",
      "0.14743474125862122\n"
     ]
    },
    {
     "name": "stderr",
     "output_type": "stream",
     "text": [
      "\n",
      "Iteration:   5%|███▋                                                                  | 22/415 [00:19<05:30,  1.19it/s]\u001b[A"
     ]
    },
    {
     "name": "stdout",
     "output_type": "stream",
     "text": [
      "tensor(0.3198, device='cuda:0', grad_fn=<NllLossBackward>)\n",
      "0.3197553753852844\n"
     ]
    },
    {
     "name": "stderr",
     "output_type": "stream",
     "text": [
      "\n",
      "Iteration:   6%|███▉                                                                  | 23/415 [00:20<05:38,  1.16it/s]\u001b[A"
     ]
    },
    {
     "name": "stdout",
     "output_type": "stream",
     "text": [
      "tensor(0.3141, device='cuda:0', grad_fn=<NllLossBackward>)\n",
      "0.31409841775894165\n"
     ]
    },
    {
     "name": "stderr",
     "output_type": "stream",
     "text": [
      "\n",
      "Iteration:   6%|████                                                                  | 24/415 [00:21<05:34,  1.17it/s]\u001b[A"
     ]
    },
    {
     "name": "stdout",
     "output_type": "stream",
     "text": [
      "tensor(0.1434, device='cuda:0', grad_fn=<NllLossBackward>)\n",
      "0.14341703057289124\n"
     ]
    },
    {
     "name": "stderr",
     "output_type": "stream",
     "text": [
      "\n",
      "Iteration:   6%|████▏                                                                 | 25/415 [00:22<05:37,  1.15it/s]\u001b[A"
     ]
    },
    {
     "name": "stdout",
     "output_type": "stream",
     "text": [
      "tensor(0.1240, device='cuda:0', grad_fn=<NllLossBackward>)\n",
      "0.12402815371751785\n"
     ]
    },
    {
     "name": "stderr",
     "output_type": "stream",
     "text": [
      "\n",
      "Iteration:   6%|████▍                                                                 | 26/415 [00:22<05:32,  1.17it/s]\u001b[A"
     ]
    },
    {
     "name": "stdout",
     "output_type": "stream",
     "text": [
      "tensor(0.2636, device='cuda:0', grad_fn=<NllLossBackward>)\n",
      "0.2636430263519287\n"
     ]
    },
    {
     "name": "stderr",
     "output_type": "stream",
     "text": [
      "\n",
      "Iteration:   7%|████▌                                                                 | 27/415 [00:23<05:37,  1.15it/s]\u001b[A"
     ]
    },
    {
     "name": "stdout",
     "output_type": "stream",
     "text": [
      "tensor(0.2506, device='cuda:0', grad_fn=<NllLossBackward>)\n",
      "0.250591516494751\n"
     ]
    },
    {
     "name": "stderr",
     "output_type": "stream",
     "text": [
      "\n",
      "Iteration:   7%|████▋                                                                 | 28/415 [00:24<05:33,  1.16it/s]\u001b[A"
     ]
    },
    {
     "name": "stdout",
     "output_type": "stream",
     "text": [
      "tensor(0.1046, device='cuda:0', grad_fn=<NllLossBackward>)\n",
      "0.10464783012866974\n"
     ]
    },
    {
     "name": "stderr",
     "output_type": "stream",
     "text": [
      "\n",
      "Iteration:   7%|████▉                                                                 | 29/415 [00:25<05:28,  1.17it/s]\u001b[A"
     ]
    },
    {
     "name": "stdout",
     "output_type": "stream",
     "text": [
      "tensor(0.4281, device='cuda:0', grad_fn=<NllLossBackward>)\n",
      "0.42813119292259216\n"
     ]
    },
    {
     "name": "stderr",
     "output_type": "stream",
     "text": [
      "\n",
      "Iteration:   7%|█████                                                                 | 30/415 [00:26<05:30,  1.17it/s]\u001b[A"
     ]
    },
    {
     "name": "stdout",
     "output_type": "stream",
     "text": [
      "tensor(0.1927, device='cuda:0', grad_fn=<NllLossBackward>)\n",
      "0.19265799224376678\n"
     ]
    },
    {
     "name": "stderr",
     "output_type": "stream",
     "text": [
      "\n",
      "Iteration:   7%|█████▏                                                                | 31/415 [00:27<05:26,  1.17it/s]\u001b[A"
     ]
    },
    {
     "name": "stdout",
     "output_type": "stream",
     "text": [
      "tensor(0.0917, device='cuda:0', grad_fn=<NllLossBackward>)\n",
      "0.09173250198364258\n"
     ]
    },
    {
     "name": "stderr",
     "output_type": "stream",
     "text": [
      "\n",
      "Iteration:   8%|█████▍                                                                | 32/415 [00:27<05:24,  1.18it/s]\u001b[A"
     ]
    },
    {
     "name": "stdout",
     "output_type": "stream",
     "text": [
      "tensor(0.2201, device='cuda:0', grad_fn=<NllLossBackward>)\n",
      "0.22005632519721985\n"
     ]
    },
    {
     "name": "stderr",
     "output_type": "stream",
     "text": [
      "\n",
      "Iteration:   8%|█████▌                                                                | 33/415 [00:28<05:22,  1.19it/s]\u001b[A"
     ]
    },
    {
     "name": "stdout",
     "output_type": "stream",
     "text": [
      "tensor(0.1685, device='cuda:0', grad_fn=<NllLossBackward>)\n",
      "0.16854660212993622\n"
     ]
    },
    {
     "name": "stderr",
     "output_type": "stream",
     "text": [
      "\n",
      "Iteration:   8%|█████▋                                                                | 34/415 [00:29<05:20,  1.19it/s]\u001b[A"
     ]
    },
    {
     "name": "stdout",
     "output_type": "stream",
     "text": [
      "tensor(0.0838, device='cuda:0', grad_fn=<NllLossBackward>)\n",
      "0.08382651209831238\n"
     ]
    },
    {
     "name": "stderr",
     "output_type": "stream",
     "text": [
      "\n",
      "Iteration:   8%|█████▉                                                                | 35/415 [00:30<05:20,  1.19it/s]\u001b[A"
     ]
    },
    {
     "name": "stdout",
     "output_type": "stream",
     "text": [
      "tensor(0.2585, device='cuda:0', grad_fn=<NllLossBackward>)\n",
      "0.2585252821445465\n"
     ]
    },
    {
     "name": "stderr",
     "output_type": "stream",
     "text": [
      "\n",
      "Iteration:   9%|██████                                                                | 36/415 [00:31<05:17,  1.19it/s]\u001b[A"
     ]
    },
    {
     "name": "stdout",
     "output_type": "stream",
     "text": [
      "tensor(0.2213, device='cuda:0', grad_fn=<NllLossBackward>)\n",
      "0.2213335782289505\n"
     ]
    },
    {
     "name": "stderr",
     "output_type": "stream",
     "text": [
      "\n",
      "Iteration:   9%|██████▏                                                               | 37/415 [00:32<05:26,  1.16it/s]\u001b[A"
     ]
    },
    {
     "name": "stdout",
     "output_type": "stream",
     "text": [
      "tensor(0.3020, device='cuda:0', grad_fn=<NllLossBackward>)\n",
      "0.3019627034664154\n"
     ]
    },
    {
     "name": "stderr",
     "output_type": "stream",
     "text": [
      "\n",
      "Iteration:   9%|██████▍                                                               | 38/415 [00:33<05:30,  1.14it/s]\u001b[A"
     ]
    },
    {
     "name": "stdout",
     "output_type": "stream",
     "text": [
      "tensor(0.1807, device='cuda:0', grad_fn=<NllLossBackward>)\n",
      "0.1807018369436264\n"
     ]
    },
    {
     "name": "stderr",
     "output_type": "stream",
     "text": [
      "\n",
      "Iteration:   9%|██████▌                                                               | 39/415 [00:33<05:20,  1.17it/s]\u001b[A"
     ]
    },
    {
     "name": "stdout",
     "output_type": "stream",
     "text": [
      "tensor(0.1667, device='cuda:0', grad_fn=<NllLossBackward>)\n",
      "0.16673293709754944\n"
     ]
    },
    {
     "name": "stderr",
     "output_type": "stream",
     "text": [
      "\n",
      "Iteration:  10%|██████▋                                                               | 40/415 [00:34<05:19,  1.17it/s]\u001b[A"
     ]
    },
    {
     "name": "stdout",
     "output_type": "stream",
     "text": [
      "tensor(0.2152, device='cuda:0', grad_fn=<NllLossBackward>)\n",
      "0.21522004902362823\n"
     ]
    },
    {
     "name": "stderr",
     "output_type": "stream",
     "text": [
      "\n",
      "Iteration:  10%|██████▉                                                               | 41/415 [00:35<05:27,  1.14it/s]\u001b[A"
     ]
    },
    {
     "name": "stdout",
     "output_type": "stream",
     "text": [
      "tensor(0.4862, device='cuda:0', grad_fn=<NllLossBackward>)\n",
      "0.48616087436676025\n"
     ]
    },
    {
     "name": "stderr",
     "output_type": "stream",
     "text": [
      "\n",
      "Iteration:  10%|███████                                                               | 42/415 [00:36<05:39,  1.10it/s]\u001b[A"
     ]
    },
    {
     "name": "stdout",
     "output_type": "stream",
     "text": [
      "tensor(0.1990, device='cuda:0', grad_fn=<NllLossBackward>)\n",
      "0.1989685744047165\n"
     ]
    },
    {
     "name": "stderr",
     "output_type": "stream",
     "text": [
      "\n",
      "Iteration:  10%|███████▎                                                              | 43/415 [00:37<05:51,  1.06it/s]\u001b[A"
     ]
    },
    {
     "name": "stdout",
     "output_type": "stream",
     "text": [
      "tensor(0.2464, device='cuda:0', grad_fn=<NllLossBackward>)\n",
      "0.24642440676689148\n"
     ]
    },
    {
     "name": "stderr",
     "output_type": "stream",
     "text": [
      "\n",
      "Iteration:  11%|███████▍                                                              | 44/415 [00:38<05:41,  1.09it/s]\u001b[A"
     ]
    },
    {
     "name": "stdout",
     "output_type": "stream",
     "text": [
      "tensor(0.3453, device='cuda:0', grad_fn=<NllLossBackward>)\n",
      "0.3453190326690674\n"
     ]
    },
    {
     "name": "stderr",
     "output_type": "stream",
     "text": [
      "\n",
      "Iteration:  11%|███████▌                                                              | 45/415 [00:39<05:28,  1.12it/s]\u001b[A"
     ]
    },
    {
     "name": "stdout",
     "output_type": "stream",
     "text": [
      "tensor(0.2372, device='cuda:0', grad_fn=<NllLossBackward>)\n",
      "0.23720183968544006\n"
     ]
    },
    {
     "name": "stderr",
     "output_type": "stream",
     "text": [
      "\n",
      "Iteration:  11%|███████▊                                                              | 46/415 [00:40<05:44,  1.07it/s]\u001b[A"
     ]
    },
    {
     "name": "stdout",
     "output_type": "stream",
     "text": [
      "tensor(0.2409, device='cuda:0', grad_fn=<NllLossBackward>)\n",
      "0.24085965752601624\n"
     ]
    },
    {
     "name": "stderr",
     "output_type": "stream",
     "text": [
      "\n",
      "Iteration:  11%|███████▉                                                              | 47/415 [00:41<05:41,  1.08it/s]\u001b[A"
     ]
    },
    {
     "name": "stdout",
     "output_type": "stream",
     "text": [
      "tensor(0.2466, device='cuda:0', grad_fn=<NllLossBackward>)\n",
      "0.24662016332149506\n"
     ]
    },
    {
     "name": "stderr",
     "output_type": "stream",
     "text": [
      "\n",
      "Iteration:  12%|████████                                                              | 48/415 [00:42<05:29,  1.11it/s]\u001b[A"
     ]
    },
    {
     "name": "stdout",
     "output_type": "stream",
     "text": [
      "tensor(0.1391, device='cuda:0', grad_fn=<NllLossBackward>)\n",
      "0.1390610933303833\n"
     ]
    },
    {
     "name": "stderr",
     "output_type": "stream",
     "text": [
      "\n",
      "Iteration:  12%|████████▎                                                             | 49/415 [00:43<05:26,  1.12it/s]\u001b[A"
     ]
    },
    {
     "name": "stdout",
     "output_type": "stream",
     "text": [
      "tensor(0.1178, device='cuda:0', grad_fn=<NllLossBackward>)\n",
      "0.11784200370311737\n"
     ]
    },
    {
     "name": "stderr",
     "output_type": "stream",
     "text": [
      "\n",
      "Iteration:  12%|████████▍                                                             | 50/415 [00:43<05:23,  1.13it/s]\u001b[A"
     ]
    },
    {
     "name": "stdout",
     "output_type": "stream",
     "text": [
      "tensor(0.1641, device='cuda:0', grad_fn=<NllLossBackward>)\n",
      "0.16405647993087769\n"
     ]
    },
    {
     "name": "stderr",
     "output_type": "stream",
     "text": [
      "\n",
      "Iteration:  12%|████████▌                                                             | 51/415 [00:44<05:14,  1.16it/s]\u001b[A"
     ]
    },
    {
     "name": "stdout",
     "output_type": "stream",
     "text": [
      "tensor(0.1875, device='cuda:0', grad_fn=<NllLossBackward>)\n",
      "0.18747664988040924\n"
     ]
    },
    {
     "name": "stderr",
     "output_type": "stream",
     "text": [
      "\n",
      "Iteration:  13%|████████▊                                                             | 52/415 [00:45<05:21,  1.13it/s]\u001b[A"
     ]
    },
    {
     "name": "stdout",
     "output_type": "stream",
     "text": [
      "tensor(0.2062, device='cuda:0', grad_fn=<NllLossBackward>)\n",
      "0.20616617798805237\n"
     ]
    },
    {
     "name": "stderr",
     "output_type": "stream",
     "text": [
      "\n",
      "Iteration:  13%|████████▉                                                             | 53/415 [00:46<05:12,  1.16it/s]\u001b[A"
     ]
    },
    {
     "name": "stdout",
     "output_type": "stream",
     "text": [
      "tensor(0.0737, device='cuda:0', grad_fn=<NllLossBackward>)\n",
      "0.07368841767311096\n"
     ]
    },
    {
     "name": "stderr",
     "output_type": "stream",
     "text": [
      "\n",
      "Iteration:  13%|█████████                                                             | 54/415 [00:47<05:05,  1.18it/s]\u001b[A"
     ]
    },
    {
     "name": "stdout",
     "output_type": "stream",
     "text": [
      "tensor(0.1528, device='cuda:0', grad_fn=<NllLossBackward>)\n",
      "0.15276768803596497\n"
     ]
    },
    {
     "name": "stderr",
     "output_type": "stream",
     "text": [
      "\n",
      "Iteration:  13%|█████████▎                                                            | 55/415 [00:48<05:10,  1.16it/s]\u001b[A"
     ]
    },
    {
     "name": "stdout",
     "output_type": "stream",
     "text": [
      "tensor(0.3444, device='cuda:0', grad_fn=<NllLossBackward>)\n",
      "0.3443973660469055\n"
     ]
    },
    {
     "name": "stderr",
     "output_type": "stream",
     "text": [
      "\n",
      "Iteration:  13%|█████████▍                                                            | 56/415 [00:49<05:07,  1.17it/s]\u001b[A"
     ]
    },
    {
     "name": "stdout",
     "output_type": "stream",
     "text": [
      "tensor(0.3605, device='cuda:0', grad_fn=<NllLossBackward>)\n",
      "0.36047783493995667\n"
     ]
    },
    {
     "name": "stderr",
     "output_type": "stream",
     "text": [
      "\n",
      "Iteration:  14%|█████████▌                                                            | 57/415 [00:49<05:03,  1.18it/s]\u001b[A"
     ]
    },
    {
     "name": "stdout",
     "output_type": "stream",
     "text": [
      "tensor(0.0966, device='cuda:0', grad_fn=<NllLossBackward>)\n",
      "0.09664653241634369\n"
     ]
    },
    {
     "name": "stderr",
     "output_type": "stream",
     "text": [
      "\n",
      "Iteration:  14%|█████████▊                                                            | 58/415 [00:50<05:06,  1.16it/s]\u001b[A"
     ]
    },
    {
     "name": "stdout",
     "output_type": "stream",
     "text": [
      "tensor(0.2355, device='cuda:0', grad_fn=<NllLossBackward>)\n",
      "0.23547416925430298\n"
     ]
    },
    {
     "name": "stderr",
     "output_type": "stream",
     "text": [
      "\n",
      "Iteration:  14%|█████████▉                                                            | 59/415 [00:51<05:03,  1.17it/s]\u001b[A"
     ]
    },
    {
     "name": "stdout",
     "output_type": "stream",
     "text": [
      "tensor(0.2828, device='cuda:0', grad_fn=<NllLossBackward>)\n",
      "0.28283587098121643\n"
     ]
    },
    {
     "name": "stderr",
     "output_type": "stream",
     "text": [
      "\n",
      "Iteration:  14%|██████████                                                            | 60/415 [00:52<05:11,  1.14it/s]\u001b[A"
     ]
    },
    {
     "name": "stdout",
     "output_type": "stream",
     "text": [
      "tensor(0.2852, device='cuda:0', grad_fn=<NllLossBackward>)\n",
      "0.2851908802986145\n"
     ]
    },
    {
     "name": "stderr",
     "output_type": "stream",
     "text": [
      "\n",
      "Iteration:  15%|██████████▎                                                           | 61/415 [00:53<05:11,  1.14it/s]\u001b[A"
     ]
    },
    {
     "name": "stdout",
     "output_type": "stream",
     "text": [
      "tensor(0.0643, device='cuda:0', grad_fn=<NllLossBackward>)\n",
      "0.06426860392093658\n"
     ]
    },
    {
     "name": "stderr",
     "output_type": "stream",
     "text": [
      "\n",
      "Iteration:  15%|██████████▍                                                           | 62/415 [00:54<05:07,  1.15it/s]\u001b[A"
     ]
    },
    {
     "name": "stdout",
     "output_type": "stream",
     "text": [
      "tensor(0.1635, device='cuda:0', grad_fn=<NllLossBackward>)\n",
      "0.1634899377822876\n"
     ]
    },
    {
     "name": "stderr",
     "output_type": "stream",
     "text": [
      "\n",
      "Iteration:  15%|██████████▋                                                           | 63/415 [00:55<05:03,  1.16it/s]\u001b[A"
     ]
    },
    {
     "name": "stdout",
     "output_type": "stream",
     "text": [
      "tensor(0.3225, device='cuda:0', grad_fn=<NllLossBackward>)\n",
      "0.3224501311779022\n"
     ]
    },
    {
     "name": "stderr",
     "output_type": "stream",
     "text": [
      "\n",
      "Iteration:  15%|██████████▊                                                           | 64/415 [00:55<04:59,  1.17it/s]\u001b[A"
     ]
    },
    {
     "name": "stdout",
     "output_type": "stream",
     "text": [
      "tensor(0.1049, device='cuda:0', grad_fn=<NllLossBackward>)\n",
      "0.10488291084766388\n"
     ]
    },
    {
     "name": "stderr",
     "output_type": "stream",
     "text": [
      "\n",
      "Iteration:  16%|██████████▉                                                           | 65/415 [00:56<04:56,  1.18it/s]\u001b[A"
     ]
    },
    {
     "name": "stdout",
     "output_type": "stream",
     "text": [
      "tensor(0.2297, device='cuda:0', grad_fn=<NllLossBackward>)\n",
      "0.22967804968357086\n"
     ]
    },
    {
     "name": "stderr",
     "output_type": "stream",
     "text": [
      "\n",
      "Iteration:  16%|███████████▏                                                          | 66/415 [00:57<04:57,  1.17it/s]\u001b[A"
     ]
    },
    {
     "name": "stdout",
     "output_type": "stream",
     "text": [
      "tensor(0.2356, device='cuda:0', grad_fn=<NllLossBackward>)\n",
      "0.2355562299489975\n"
     ]
    },
    {
     "name": "stderr",
     "output_type": "stream",
     "text": [
      "\n",
      "Iteration:  16%|███████████▎                                                          | 67/415 [00:58<05:04,  1.14it/s]\u001b[A"
     ]
    },
    {
     "name": "stdout",
     "output_type": "stream",
     "text": [
      "tensor(0.3270, device='cuda:0', grad_fn=<NllLossBackward>)\n",
      "0.3270188868045807\n"
     ]
    },
    {
     "name": "stderr",
     "output_type": "stream",
     "text": [
      "\n",
      "Iteration:  16%|███████████▍                                                          | 68/415 [00:59<05:03,  1.14it/s]\u001b[A"
     ]
    },
    {
     "name": "stdout",
     "output_type": "stream",
     "text": [
      "tensor(0.3613, device='cuda:0', grad_fn=<NllLossBackward>)\n",
      "0.3613283038139343\n"
     ]
    },
    {
     "name": "stderr",
     "output_type": "stream",
     "text": [
      "\n",
      "Iteration:  17%|███████████▋                                                          | 69/415 [01:00<05:01,  1.15it/s]\u001b[A"
     ]
    },
    {
     "name": "stdout",
     "output_type": "stream",
     "text": [
      "tensor(0.3053, device='cuda:0', grad_fn=<NllLossBackward>)\n",
      "0.30526411533355713\n"
     ]
    },
    {
     "name": "stderr",
     "output_type": "stream",
     "text": [
      "\n",
      "Iteration:  17%|███████████▊                                                          | 70/415 [01:01<04:57,  1.16it/s]\u001b[A"
     ]
    },
    {
     "name": "stdout",
     "output_type": "stream",
     "text": [
      "tensor(0.4140, device='cuda:0', grad_fn=<NllLossBackward>)\n",
      "0.4139597415924072\n"
     ]
    },
    {
     "name": "stderr",
     "output_type": "stream",
     "text": [
      "\n",
      "Iteration:  17%|███████████▉                                                          | 71/415 [01:01<04:52,  1.18it/s]\u001b[A"
     ]
    },
    {
     "name": "stdout",
     "output_type": "stream",
     "text": [
      "tensor(0.1930, device='cuda:0', grad_fn=<NllLossBackward>)\n",
      "0.19297918677330017\n"
     ]
    },
    {
     "name": "stderr",
     "output_type": "stream",
     "text": [
      "\n",
      "Iteration:  17%|████████████▏                                                         | 72/415 [01:02<04:57,  1.15it/s]\u001b[A"
     ]
    },
    {
     "name": "stdout",
     "output_type": "stream",
     "text": [
      "tensor(0.2324, device='cuda:0', grad_fn=<NllLossBackward>)\n",
      "0.2324027270078659\n"
     ]
    },
    {
     "name": "stderr",
     "output_type": "stream",
     "text": [
      "\n",
      "Iteration:  18%|████████████▎                                                         | 73/415 [01:03<04:52,  1.17it/s]\u001b[A"
     ]
    },
    {
     "name": "stdout",
     "output_type": "stream",
     "text": [
      "tensor(0.2524, device='cuda:0', grad_fn=<NllLossBackward>)\n",
      "0.252422571182251\n"
     ]
    },
    {
     "name": "stderr",
     "output_type": "stream",
     "text": [
      "\n",
      "Iteration:  18%|████████████▍                                                         | 74/415 [01:04<04:58,  1.14it/s]\u001b[A"
     ]
    },
    {
     "name": "stdout",
     "output_type": "stream",
     "text": [
      "tensor(0.2184, device='cuda:0', grad_fn=<NllLossBackward>)\n",
      "0.21840175986289978\n"
     ]
    },
    {
     "name": "stderr",
     "output_type": "stream",
     "text": [
      "\n",
      "Iteration:  18%|████████████▋                                                         | 75/415 [01:05<04:52,  1.16it/s]\u001b[A"
     ]
    },
    {
     "name": "stdout",
     "output_type": "stream",
     "text": [
      "tensor(0.1840, device='cuda:0', grad_fn=<NllLossBackward>)\n",
      "0.18399061262607574\n"
     ]
    },
    {
     "name": "stderr",
     "output_type": "stream",
     "text": [
      "\n",
      "Iteration:  18%|████████████▊                                                         | 76/415 [01:06<04:53,  1.16it/s]\u001b[A"
     ]
    },
    {
     "name": "stdout",
     "output_type": "stream",
     "text": [
      "tensor(0.2910, device='cuda:0', grad_fn=<NllLossBackward>)\n",
      "0.29104170203208923\n"
     ]
    },
    {
     "name": "stderr",
     "output_type": "stream",
     "text": [
      "\n",
      "Iteration:  19%|████████████▉                                                         | 77/415 [01:07<04:52,  1.16it/s]\u001b[A"
     ]
    },
    {
     "name": "stdout",
     "output_type": "stream",
     "text": [
      "tensor(0.3554, device='cuda:0', grad_fn=<NllLossBackward>)\n",
      "0.3553791344165802\n"
     ]
    },
    {
     "name": "stderr",
     "output_type": "stream",
     "text": [
      "\n",
      "Iteration:  19%|█████████████▏                                                        | 78/415 [01:08<04:55,  1.14it/s]\u001b[A"
     ]
    },
    {
     "name": "stdout",
     "output_type": "stream",
     "text": [
      "tensor(0.2271, device='cuda:0', grad_fn=<NllLossBackward>)\n",
      "0.22713004052639008\n"
     ]
    },
    {
     "name": "stderr",
     "output_type": "stream",
     "text": [
      "\n",
      "Iteration:  19%|█████████████▎                                                        | 79/415 [01:08<04:49,  1.16it/s]\u001b[A"
     ]
    },
    {
     "name": "stdout",
     "output_type": "stream",
     "text": [
      "tensor(0.1899, device='cuda:0', grad_fn=<NllLossBackward>)\n",
      "0.18991927802562714\n"
     ]
    },
    {
     "name": "stderr",
     "output_type": "stream",
     "text": [
      "\n",
      "Iteration:  19%|█████████████▍                                                        | 80/415 [01:09<04:52,  1.14it/s]\u001b[A"
     ]
    },
    {
     "name": "stdout",
     "output_type": "stream",
     "text": [
      "tensor(0.2036, device='cuda:0', grad_fn=<NllLossBackward>)\n",
      "0.2036193609237671\n"
     ]
    },
    {
     "name": "stderr",
     "output_type": "stream",
     "text": [
      "\n",
      "Iteration:  20%|█████████████▋                                                        | 81/415 [01:10<04:45,  1.17it/s]\u001b[A"
     ]
    },
    {
     "name": "stdout",
     "output_type": "stream",
     "text": [
      "tensor(0.2391, device='cuda:0', grad_fn=<NllLossBackward>)\n",
      "0.23908549547195435\n"
     ]
    },
    {
     "name": "stderr",
     "output_type": "stream",
     "text": [
      "\n",
      "Iteration:  20%|█████████████▊                                                        | 82/415 [01:11<04:40,  1.19it/s]\u001b[A"
     ]
    },
    {
     "name": "stdout",
     "output_type": "stream",
     "text": [
      "tensor(0.1370, device='cuda:0', grad_fn=<NllLossBackward>)\n",
      "0.13697661459445953\n"
     ]
    },
    {
     "name": "stderr",
     "output_type": "stream",
     "text": [
      "\n",
      "Iteration:  20%|██████████████                                                        | 83/415 [01:12<04:53,  1.13it/s]\u001b[A"
     ]
    },
    {
     "name": "stdout",
     "output_type": "stream",
     "text": [
      "tensor(0.3205, device='cuda:0', grad_fn=<NllLossBackward>)\n",
      "0.3205186724662781\n"
     ]
    },
    {
     "name": "stderr",
     "output_type": "stream",
     "text": [
      "\n",
      "Iteration:  20%|██████████████▏                                                       | 84/415 [01:13<04:47,  1.15it/s]\u001b[A"
     ]
    },
    {
     "name": "stdout",
     "output_type": "stream",
     "text": [
      "tensor(0.1519, device='cuda:0', grad_fn=<NllLossBackward>)\n",
      "0.15194033086299896\n"
     ]
    },
    {
     "name": "stderr",
     "output_type": "stream",
     "text": [
      "\n",
      "Iteration:  20%|██████████████▎                                                       | 85/415 [01:14<04:41,  1.17it/s]\u001b[A"
     ]
    },
    {
     "name": "stdout",
     "output_type": "stream",
     "text": [
      "tensor(0.2149, device='cuda:0', grad_fn=<NllLossBackward>)\n",
      "0.21493732929229736\n"
     ]
    },
    {
     "name": "stderr",
     "output_type": "stream",
     "text": [
      "\n",
      "Iteration:  21%|██████████████▌                                                       | 86/415 [01:14<04:39,  1.18it/s]\u001b[A"
     ]
    },
    {
     "name": "stdout",
     "output_type": "stream",
     "text": [
      "tensor(0.2531, device='cuda:0', grad_fn=<NllLossBackward>)\n",
      "0.2531411349773407\n"
     ]
    },
    {
     "name": "stderr",
     "output_type": "stream",
     "text": [
      "\n",
      "Iteration:  21%|██████████████▋                                                       | 87/415 [01:15<04:36,  1.19it/s]\u001b[A"
     ]
    },
    {
     "name": "stdout",
     "output_type": "stream",
     "text": [
      "tensor(0.1057, device='cuda:0', grad_fn=<NllLossBackward>)\n",
      "0.10566097497940063\n"
     ]
    },
    {
     "name": "stderr",
     "output_type": "stream",
     "text": [
      "\n",
      "Iteration:  21%|██████████████▊                                                       | 88/415 [01:16<04:34,  1.19it/s]\u001b[A"
     ]
    },
    {
     "name": "stdout",
     "output_type": "stream",
     "text": [
      "tensor(0.1232, device='cuda:0', grad_fn=<NllLossBackward>)\n",
      "0.12321107089519501\n"
     ]
    },
    {
     "name": "stderr",
     "output_type": "stream",
     "text": [
      "\n",
      "Iteration:  21%|███████████████                                                       | 89/415 [01:17<04:46,  1.14it/s]\u001b[A"
     ]
    },
    {
     "name": "stdout",
     "output_type": "stream",
     "text": [
      "tensor(0.1842, device='cuda:0', grad_fn=<NllLossBackward>)\n",
      "0.1842420995235443\n"
     ]
    },
    {
     "name": "stderr",
     "output_type": "stream",
     "text": [
      "\n",
      "Iteration:  22%|███████████████▏                                                      | 90/415 [01:18<04:43,  1.15it/s]\u001b[A"
     ]
    },
    {
     "name": "stdout",
     "output_type": "stream",
     "text": [
      "tensor(0.2053, device='cuda:0', grad_fn=<NllLossBackward>)\n",
      "0.20527014136314392\n"
     ]
    },
    {
     "name": "stderr",
     "output_type": "stream",
     "text": [
      "\n",
      "Iteration:  22%|███████████████▎                                                      | 91/415 [01:19<04:38,  1.16it/s]\u001b[A"
     ]
    },
    {
     "name": "stdout",
     "output_type": "stream",
     "text": [
      "tensor(0.3357, device='cuda:0', grad_fn=<NllLossBackward>)\n",
      "0.335728257894516\n"
     ]
    },
    {
     "name": "stderr",
     "output_type": "stream",
     "text": [
      "\n",
      "Iteration:  22%|███████████████▌                                                      | 92/415 [01:20<04:48,  1.12it/s]\u001b[A"
     ]
    },
    {
     "name": "stdout",
     "output_type": "stream",
     "text": [
      "tensor(0.1186, device='cuda:0', grad_fn=<NllLossBackward>)\n",
      "0.11862564831972122\n"
     ]
    },
    {
     "name": "stderr",
     "output_type": "stream",
     "text": [
      "\n",
      "Iteration:  22%|███████████████▋                                                      | 93/415 [01:21<04:42,  1.14it/s]\u001b[A"
     ]
    },
    {
     "name": "stdout",
     "output_type": "stream",
     "text": [
      "tensor(0.2802, device='cuda:0', grad_fn=<NllLossBackward>)\n",
      "0.28020766377449036\n"
     ]
    },
    {
     "name": "stderr",
     "output_type": "stream",
     "text": [
      "\n",
      "Iteration:  23%|███████████████▊                                                      | 94/415 [01:21<04:36,  1.16it/s]\u001b[A"
     ]
    },
    {
     "name": "stdout",
     "output_type": "stream",
     "text": [
      "tensor(0.0976, device='cuda:0', grad_fn=<NllLossBackward>)\n",
      "0.097634457051754\n"
     ]
    },
    {
     "name": "stderr",
     "output_type": "stream",
     "text": [
      "\n",
      "Iteration:  23%|████████████████                                                      | 95/415 [01:22<04:38,  1.15it/s]\u001b[A"
     ]
    },
    {
     "name": "stdout",
     "output_type": "stream",
     "text": [
      "tensor(0.2329, device='cuda:0', grad_fn=<NllLossBackward>)\n",
      "0.23285122215747833\n"
     ]
    },
    {
     "name": "stderr",
     "output_type": "stream",
     "text": [
      "\n",
      "Iteration:  23%|████████████████▏                                                     | 96/415 [01:23<04:40,  1.14it/s]\u001b[A"
     ]
    },
    {
     "name": "stdout",
     "output_type": "stream",
     "text": [
      "tensor(0.1724, device='cuda:0', grad_fn=<NllLossBackward>)\n",
      "0.17240272462368011\n"
     ]
    },
    {
     "name": "stderr",
     "output_type": "stream",
     "text": [
      "\n",
      "Iteration:  23%|████████████████▎                                                     | 97/415 [01:24<04:46,  1.11it/s]\u001b[A"
     ]
    },
    {
     "name": "stdout",
     "output_type": "stream",
     "text": [
      "tensor(0.1015, device='cuda:0', grad_fn=<NllLossBackward>)\n",
      "0.10154534131288528\n"
     ]
    },
    {
     "name": "stderr",
     "output_type": "stream",
     "text": [
      "\n",
      "Iteration:  24%|████████████████▌                                                     | 98/415 [01:25<04:42,  1.12it/s]\u001b[A"
     ]
    },
    {
     "name": "stdout",
     "output_type": "stream",
     "text": [
      "tensor(0.2529, device='cuda:0', grad_fn=<NllLossBackward>)\n",
      "0.2528682351112366\n"
     ]
    },
    {
     "name": "stderr",
     "output_type": "stream",
     "text": [
      "\n",
      "Iteration:  24%|████████████████▋                                                     | 99/415 [01:26<04:39,  1.13it/s]\u001b[A"
     ]
    },
    {
     "name": "stdout",
     "output_type": "stream",
     "text": [
      "tensor(0.2133, device='cuda:0', grad_fn=<NllLossBackward>)\n",
      "0.21334585547447205\n"
     ]
    },
    {
     "name": "stderr",
     "output_type": "stream",
     "text": [
      "\n",
      "Iteration:  24%|████████████████▋                                                    | 100/415 [01:27<04:37,  1.14it/s]\u001b[A"
     ]
    },
    {
     "name": "stdout",
     "output_type": "stream",
     "text": [
      "tensor(0.3484, device='cuda:0', grad_fn=<NllLossBackward>)\n",
      "0.3483788073062897\n"
     ]
    },
    {
     "name": "stderr",
     "output_type": "stream",
     "text": [
      "\n",
      "Iteration:  24%|████████████████▊                                                    | 101/415 [01:28<04:33,  1.15it/s]\u001b[A"
     ]
    },
    {
     "name": "stdout",
     "output_type": "stream",
     "text": [
      "tensor(0.1511, device='cuda:0', grad_fn=<NllLossBackward>)\n",
      "0.15112601220607758\n"
     ]
    },
    {
     "name": "stderr",
     "output_type": "stream",
     "text": [
      "\n",
      "Iteration:  25%|████████████████▉                                                    | 102/415 [01:28<04:35,  1.13it/s]\u001b[A"
     ]
    },
    {
     "name": "stdout",
     "output_type": "stream",
     "text": [
      "tensor(0.2639, device='cuda:0', grad_fn=<NllLossBackward>)\n",
      "0.263948917388916\n"
     ]
    },
    {
     "name": "stderr",
     "output_type": "stream",
     "text": [
      "\n",
      "Iteration:  25%|█████████████████▏                                                   | 103/415 [01:29<04:29,  1.16it/s]\u001b[A"
     ]
    },
    {
     "name": "stdout",
     "output_type": "stream",
     "text": [
      "tensor(0.2775, device='cuda:0', grad_fn=<NllLossBackward>)\n",
      "0.277502179145813\n"
     ]
    },
    {
     "name": "stderr",
     "output_type": "stream",
     "text": [
      "\n",
      "Iteration:  25%|█████████████████▎                                                   | 104/415 [01:30<04:26,  1.17it/s]\u001b[A"
     ]
    },
    {
     "name": "stdout",
     "output_type": "stream",
     "text": [
      "tensor(0.1936, device='cuda:0', grad_fn=<NllLossBackward>)\n",
      "0.19363613426685333\n"
     ]
    },
    {
     "name": "stderr",
     "output_type": "stream",
     "text": [
      "\n",
      "Iteration:  25%|█████████████████▍                                                   | 105/415 [01:31<04:28,  1.16it/s]\u001b[A"
     ]
    },
    {
     "name": "stdout",
     "output_type": "stream",
     "text": [
      "tensor(0.3652, device='cuda:0', grad_fn=<NllLossBackward>)\n",
      "0.3652426600456238\n"
     ]
    },
    {
     "name": "stderr",
     "output_type": "stream",
     "text": [
      "\n",
      "Iteration:  26%|█████████████████▌                                                   | 106/415 [01:32<04:26,  1.16it/s]\u001b[A"
     ]
    },
    {
     "name": "stdout",
     "output_type": "stream",
     "text": [
      "tensor(0.3099, device='cuda:0', grad_fn=<NllLossBackward>)\n",
      "0.30986425280570984\n"
     ]
    },
    {
     "name": "stderr",
     "output_type": "stream",
     "text": [
      "\n",
      "Iteration:  26%|█████████████████▊                                                   | 107/415 [01:33<04:32,  1.13it/s]\u001b[A"
     ]
    },
    {
     "name": "stdout",
     "output_type": "stream",
     "text": [
      "tensor(0.1726, device='cuda:0', grad_fn=<NllLossBackward>)\n",
      "0.1725752055644989\n"
     ]
    },
    {
     "name": "stderr",
     "output_type": "stream",
     "text": [
      "\n",
      "Iteration:  26%|█████████████████▉                                                   | 108/415 [01:34<04:28,  1.15it/s]\u001b[A"
     ]
    },
    {
     "name": "stdout",
     "output_type": "stream",
     "text": [
      "tensor(0.1327, device='cuda:0', grad_fn=<NllLossBackward>)\n",
      "0.1326749324798584\n"
     ]
    },
    {
     "name": "stderr",
     "output_type": "stream",
     "text": [
      "\n",
      "Iteration:  26%|██████████████████                                                   | 109/415 [01:34<04:21,  1.17it/s]\u001b[A"
     ]
    },
    {
     "name": "stdout",
     "output_type": "stream",
     "text": [
      "tensor(0.1443, device='cuda:0', grad_fn=<NllLossBackward>)\n",
      "0.144348606467247\n"
     ]
    },
    {
     "name": "stderr",
     "output_type": "stream",
     "text": [
      "\n",
      "Iteration:  27%|██████████████████▎                                                  | 110/415 [01:35<04:19,  1.18it/s]\u001b[A"
     ]
    },
    {
     "name": "stdout",
     "output_type": "stream",
     "text": [
      "tensor(0.2844, device='cuda:0', grad_fn=<NllLossBackward>)\n",
      "0.28440889716148376\n"
     ]
    },
    {
     "name": "stderr",
     "output_type": "stream",
     "text": [
      "\n",
      "Iteration:  27%|██████████████████▍                                                  | 111/415 [01:36<04:20,  1.17it/s]\u001b[A"
     ]
    },
    {
     "name": "stdout",
     "output_type": "stream",
     "text": [
      "tensor(0.1520, device='cuda:0', grad_fn=<NllLossBackward>)\n",
      "0.15197373926639557\n"
     ]
    },
    {
     "name": "stderr",
     "output_type": "stream",
     "text": [
      "\n",
      "Iteration:  27%|██████████████████▌                                                  | 112/415 [01:37<04:23,  1.15it/s]\u001b[A"
     ]
    },
    {
     "name": "stdout",
     "output_type": "stream",
     "text": [
      "tensor(0.1616, device='cuda:0', grad_fn=<NllLossBackward>)\n",
      "0.16158926486968994\n"
     ]
    },
    {
     "name": "stderr",
     "output_type": "stream",
     "text": [
      "\n",
      "Iteration:  27%|██████████████████▊                                                  | 113/415 [01:38<04:29,  1.12it/s]\u001b[A"
     ]
    },
    {
     "name": "stdout",
     "output_type": "stream",
     "text": [
      "tensor(0.1750, device='cuda:0', grad_fn=<NllLossBackward>)\n",
      "0.1749788224697113\n"
     ]
    },
    {
     "name": "stderr",
     "output_type": "stream",
     "text": [
      "\n",
      "Iteration:  27%|██████████████████▉                                                  | 114/415 [01:39<04:28,  1.12it/s]\u001b[A"
     ]
    },
    {
     "name": "stdout",
     "output_type": "stream",
     "text": [
      "tensor(0.3138, device='cuda:0', grad_fn=<NllLossBackward>)\n",
      "0.3138372004032135\n"
     ]
    },
    {
     "name": "stderr",
     "output_type": "stream",
     "text": [
      "\n",
      "Iteration:  28%|███████████████████                                                  | 115/415 [01:40<04:22,  1.14it/s]\u001b[A"
     ]
    },
    {
     "name": "stdout",
     "output_type": "stream",
     "text": [
      "tensor(0.0923, device='cuda:0', grad_fn=<NllLossBackward>)\n",
      "0.09232637286186218\n"
     ]
    },
    {
     "name": "stderr",
     "output_type": "stream",
     "text": [
      "\n",
      "Iteration:  28%|███████████████████▎                                                 | 116/415 [01:41<04:25,  1.13it/s]\u001b[A"
     ]
    },
    {
     "name": "stdout",
     "output_type": "stream",
     "text": [
      "tensor(0.1731, device='cuda:0', grad_fn=<NllLossBackward>)\n",
      "0.17309674620628357\n"
     ]
    },
    {
     "name": "stderr",
     "output_type": "stream",
     "text": [
      "\n",
      "Iteration:  28%|███████████████████▍                                                 | 117/415 [01:42<04:20,  1.14it/s]\u001b[A"
     ]
    },
    {
     "name": "stdout",
     "output_type": "stream",
     "text": [
      "tensor(0.0973, device='cuda:0', grad_fn=<NllLossBackward>)\n",
      "0.09732094407081604\n"
     ]
    },
    {
     "name": "stderr",
     "output_type": "stream",
     "text": [
      "\n",
      "Iteration:  28%|███████████████████▌                                                 | 118/415 [01:42<04:23,  1.13it/s]\u001b[A"
     ]
    },
    {
     "name": "stdout",
     "output_type": "stream",
     "text": [
      "tensor(0.1844, device='cuda:0', grad_fn=<NllLossBackward>)\n",
      "0.1844046264886856\n"
     ]
    },
    {
     "name": "stderr",
     "output_type": "stream",
     "text": [
      "\n",
      "Iteration:  29%|███████████████████▊                                                 | 119/415 [01:43<04:20,  1.14it/s]\u001b[A"
     ]
    },
    {
     "name": "stdout",
     "output_type": "stream",
     "text": [
      "tensor(0.3273, device='cuda:0', grad_fn=<NllLossBackward>)\n",
      "0.3272660970687866\n"
     ]
    },
    {
     "name": "stderr",
     "output_type": "stream",
     "text": [
      "\n",
      "Iteration:  29%|███████████████████▉                                                 | 120/415 [01:44<04:14,  1.16it/s]\u001b[A"
     ]
    },
    {
     "name": "stdout",
     "output_type": "stream",
     "text": [
      "tensor(0.2505, device='cuda:0', grad_fn=<NllLossBackward>)\n",
      "0.2505198121070862\n"
     ]
    },
    {
     "name": "stderr",
     "output_type": "stream",
     "text": [
      "\n",
      "Iteration:  29%|████████████████████                                                 | 121/415 [01:45<04:23,  1.11it/s]\u001b[A"
     ]
    },
    {
     "name": "stdout",
     "output_type": "stream",
     "text": [
      "tensor(0.2077, device='cuda:0', grad_fn=<NllLossBackward>)\n",
      "0.2077467441558838\n"
     ]
    },
    {
     "name": "stderr",
     "output_type": "stream",
     "text": [
      "\n",
      "Iteration:  29%|████████████████████▎                                                | 122/415 [01:46<04:18,  1.13it/s]\u001b[A"
     ]
    },
    {
     "name": "stdout",
     "output_type": "stream",
     "text": [
      "tensor(0.2869, device='cuda:0', grad_fn=<NllLossBackward>)\n",
      "0.28689664602279663\n"
     ]
    },
    {
     "name": "stderr",
     "output_type": "stream",
     "text": [
      "\n",
      "Iteration:  30%|████████████████████▍                                                | 123/415 [01:47<04:23,  1.11it/s]\u001b[A"
     ]
    },
    {
     "name": "stdout",
     "output_type": "stream",
     "text": [
      "tensor(0.3014, device='cuda:0', grad_fn=<NllLossBackward>)\n",
      "0.30144327878952026\n"
     ]
    },
    {
     "name": "stderr",
     "output_type": "stream",
     "text": [
      "\n",
      "Iteration:  30%|████████████████████▌                                                | 124/415 [01:48<04:18,  1.12it/s]\u001b[A"
     ]
    },
    {
     "name": "stdout",
     "output_type": "stream",
     "text": [
      "tensor(0.1864, device='cuda:0', grad_fn=<NllLossBackward>)\n",
      "0.1863711178302765\n"
     ]
    },
    {
     "name": "stderr",
     "output_type": "stream",
     "text": [
      "\n",
      "Iteration:  30%|████████████████████▊                                                | 125/415 [01:49<04:14,  1.14it/s]\u001b[A"
     ]
    },
    {
     "name": "stdout",
     "output_type": "stream",
     "text": [
      "tensor(0.1902, device='cuda:0', grad_fn=<NllLossBackward>)\n",
      "0.1902208924293518\n"
     ]
    },
    {
     "name": "stderr",
     "output_type": "stream",
     "text": [
      "\n",
      "Iteration:  30%|████████████████████▉                                                | 126/415 [01:49<04:08,  1.16it/s]\u001b[A"
     ]
    },
    {
     "name": "stdout",
     "output_type": "stream",
     "text": [
      "tensor(0.0909, device='cuda:0', grad_fn=<NllLossBackward>)\n",
      "0.0909096971154213\n"
     ]
    },
    {
     "name": "stderr",
     "output_type": "stream",
     "text": [
      "\n",
      "Iteration:  31%|█████████████████████                                                | 127/415 [01:50<04:05,  1.17it/s]\u001b[A"
     ]
    },
    {
     "name": "stdout",
     "output_type": "stream",
     "text": [
      "tensor(0.1070, device='cuda:0', grad_fn=<NllLossBackward>)\n",
      "0.10699702054262161\n"
     ]
    },
    {
     "name": "stderr",
     "output_type": "stream",
     "text": [
      "\n",
      "Iteration:  31%|█████████████████████▎                                               | 128/415 [01:51<04:09,  1.15it/s]\u001b[A"
     ]
    },
    {
     "name": "stdout",
     "output_type": "stream",
     "text": [
      "tensor(0.4042, device='cuda:0', grad_fn=<NllLossBackward>)\n",
      "0.404202938079834\n"
     ]
    },
    {
     "name": "stderr",
     "output_type": "stream",
     "text": [
      "\n",
      "Iteration:  31%|█████████████████████▍                                               | 129/415 [01:52<04:08,  1.15it/s]\u001b[A"
     ]
    },
    {
     "name": "stdout",
     "output_type": "stream",
     "text": [
      "tensor(0.1938, device='cuda:0', grad_fn=<NllLossBackward>)\n",
      "0.19382306933403015\n"
     ]
    },
    {
     "name": "stderr",
     "output_type": "stream",
     "text": [
      "\n",
      "Iteration:  31%|█████████████████████▌                                               | 130/415 [01:53<04:05,  1.16it/s]\u001b[A"
     ]
    },
    {
     "name": "stdout",
     "output_type": "stream",
     "text": [
      "tensor(0.2932, device='cuda:0', grad_fn=<NllLossBackward>)\n",
      "0.2932122051715851\n"
     ]
    },
    {
     "name": "stderr",
     "output_type": "stream",
     "text": [
      "\n",
      "Iteration:  32%|█████████████████████▊                                               | 131/415 [01:54<04:04,  1.16it/s]\u001b[A"
     ]
    },
    {
     "name": "stdout",
     "output_type": "stream",
     "text": [
      "tensor(0.2595, device='cuda:0', grad_fn=<NllLossBackward>)\n",
      "0.25953540205955505\n"
     ]
    },
    {
     "name": "stderr",
     "output_type": "stream",
     "text": [
      "\n",
      "Iteration:  32%|█████████████████████▉                                               | 132/415 [01:55<04:01,  1.17it/s]\u001b[A"
     ]
    },
    {
     "name": "stdout",
     "output_type": "stream",
     "text": [
      "tensor(0.1903, device='cuda:0', grad_fn=<NllLossBackward>)\n",
      "0.19027960300445557\n"
     ]
    },
    {
     "name": "stderr",
     "output_type": "stream",
     "text": [
      "\n",
      "Iteration:  32%|██████████████████████                                               | 133/415 [01:55<04:01,  1.17it/s]\u001b[A"
     ]
    },
    {
     "name": "stdout",
     "output_type": "stream",
     "text": [
      "tensor(0.0473, device='cuda:0', grad_fn=<NllLossBackward>)\n",
      "0.0472615510225296\n"
     ]
    },
    {
     "name": "stderr",
     "output_type": "stream",
     "text": [
      "\n",
      "Iteration:  32%|██████████████████████▎                                              | 134/415 [01:56<03:57,  1.18it/s]\u001b[A"
     ]
    },
    {
     "name": "stdout",
     "output_type": "stream",
     "text": [
      "tensor(0.0993, device='cuda:0', grad_fn=<NllLossBackward>)\n",
      "0.09925176948308945\n"
     ]
    },
    {
     "name": "stderr",
     "output_type": "stream",
     "text": [
      "\n",
      "Iteration:  33%|██████████████████████▍                                              | 135/415 [01:57<03:57,  1.18it/s]\u001b[A"
     ]
    },
    {
     "name": "stdout",
     "output_type": "stream",
     "text": [
      "tensor(0.1764, device='cuda:0', grad_fn=<NllLossBackward>)\n",
      "0.17636215686798096\n"
     ]
    },
    {
     "name": "stderr",
     "output_type": "stream",
     "text": [
      "\n",
      "Iteration:  33%|██████████████████████▌                                              | 136/415 [01:58<03:57,  1.18it/s]\u001b[A"
     ]
    },
    {
     "name": "stdout",
     "output_type": "stream",
     "text": [
      "tensor(0.1916, device='cuda:0', grad_fn=<NllLossBackward>)\n",
      "0.19164541363716125\n"
     ]
    },
    {
     "name": "stderr",
     "output_type": "stream",
     "text": [
      "\n",
      "Iteration:  33%|██████████████████████▊                                              | 137/415 [01:59<03:56,  1.17it/s]\u001b[A"
     ]
    },
    {
     "name": "stdout",
     "output_type": "stream",
     "text": [
      "tensor(0.4443, device='cuda:0', grad_fn=<NllLossBackward>)\n",
      "0.44425150752067566\n"
     ]
    },
    {
     "name": "stderr",
     "output_type": "stream",
     "text": [
      "\n",
      "Iteration:  33%|██████████████████████▉                                              | 138/415 [02:00<03:56,  1.17it/s]\u001b[A"
     ]
    },
    {
     "name": "stdout",
     "output_type": "stream",
     "text": [
      "tensor(0.3316, device='cuda:0', grad_fn=<NllLossBackward>)\n",
      "0.3316328823566437\n"
     ]
    },
    {
     "name": "stderr",
     "output_type": "stream",
     "text": [
      "\n",
      "Iteration:  33%|███████████████████████                                              | 139/415 [02:01<04:01,  1.14it/s]\u001b[A"
     ]
    },
    {
     "name": "stdout",
     "output_type": "stream",
     "text": [
      "tensor(0.1527, device='cuda:0', grad_fn=<NllLossBackward>)\n",
      "0.15272143483161926\n"
     ]
    },
    {
     "name": "stderr",
     "output_type": "stream",
     "text": [
      "\n",
      "Iteration:  34%|███████████████████████▎                                             | 140/415 [02:02<04:01,  1.14it/s]\u001b[A"
     ]
    },
    {
     "name": "stdout",
     "output_type": "stream",
     "text": [
      "tensor(0.1171, device='cuda:0', grad_fn=<NllLossBackward>)\n",
      "0.11709269881248474\n"
     ]
    },
    {
     "name": "stderr",
     "output_type": "stream",
     "text": [
      "\n",
      "Iteration:  34%|███████████████████████▍                                             | 141/415 [02:02<04:02,  1.13it/s]\u001b[A"
     ]
    },
    {
     "name": "stdout",
     "output_type": "stream",
     "text": [
      "tensor(0.1399, device='cuda:0', grad_fn=<NllLossBackward>)\n",
      "0.13985544443130493\n"
     ]
    },
    {
     "name": "stderr",
     "output_type": "stream",
     "text": [
      "\n",
      "Iteration:  34%|███████████████████████▌                                             | 142/415 [02:03<04:03,  1.12it/s]\u001b[A"
     ]
    },
    {
     "name": "stdout",
     "output_type": "stream",
     "text": [
      "tensor(0.1699, device='cuda:0', grad_fn=<NllLossBackward>)\n",
      "0.16993185877799988\n"
     ]
    },
    {
     "name": "stderr",
     "output_type": "stream",
     "text": [
      "\n",
      "Iteration:  34%|███████████████████████▊                                             | 143/415 [02:04<03:59,  1.14it/s]\u001b[A"
     ]
    },
    {
     "name": "stdout",
     "output_type": "stream",
     "text": [
      "tensor(0.1423, device='cuda:0', grad_fn=<NllLossBackward>)\n",
      "0.14232981204986572\n"
     ]
    },
    {
     "name": "stderr",
     "output_type": "stream",
     "text": [
      "\n",
      "Iteration:  35%|███████████████████████▉                                             | 144/415 [02:05<04:07,  1.10it/s]\u001b[A"
     ]
    },
    {
     "name": "stdout",
     "output_type": "stream",
     "text": [
      "tensor(0.2796, device='cuda:0', grad_fn=<NllLossBackward>)\n",
      "0.2796492278575897\n"
     ]
    },
    {
     "name": "stderr",
     "output_type": "stream",
     "text": [
      "\n",
      "Iteration:  35%|████████████████████████                                             | 145/415 [02:06<04:10,  1.08it/s]\u001b[A"
     ]
    },
    {
     "name": "stdout",
     "output_type": "stream",
     "text": [
      "tensor(0.3197, device='cuda:0', grad_fn=<NllLossBackward>)\n",
      "0.3196732997894287\n"
     ]
    },
    {
     "name": "stderr",
     "output_type": "stream",
     "text": [
      "\n",
      "Iteration:  35%|████████████████████████▎                                            | 146/415 [02:07<04:13,  1.06it/s]\u001b[A"
     ]
    },
    {
     "name": "stdout",
     "output_type": "stream",
     "text": [
      "tensor(0.3332, device='cuda:0', grad_fn=<NllLossBackward>)\n",
      "0.3332313001155853\n"
     ]
    },
    {
     "name": "stderr",
     "output_type": "stream",
     "text": [
      "\n",
      "Iteration:  35%|████████████████████████▍                                            | 147/415 [02:08<04:10,  1.07it/s]\u001b[A"
     ]
    },
    {
     "name": "stdout",
     "output_type": "stream",
     "text": [
      "tensor(0.3039, device='cuda:0', grad_fn=<NllLossBackward>)\n",
      "0.30390429496765137\n"
     ]
    },
    {
     "name": "stderr",
     "output_type": "stream",
     "text": [
      "\n",
      "Iteration:  36%|████████████████████████▌                                            | 148/415 [02:09<04:11,  1.06it/s]\u001b[A"
     ]
    },
    {
     "name": "stdout",
     "output_type": "stream",
     "text": [
      "tensor(0.4930, device='cuda:0', grad_fn=<NllLossBackward>)\n",
      "0.4930039048194885\n"
     ]
    },
    {
     "name": "stderr",
     "output_type": "stream",
     "text": [
      "\n",
      "Iteration:  36%|████████████████████████▊                                            | 149/415 [02:10<04:10,  1.06it/s]\u001b[A"
     ]
    },
    {
     "name": "stdout",
     "output_type": "stream",
     "text": [
      "tensor(0.1340, device='cuda:0', grad_fn=<NllLossBackward>)\n",
      "0.13402505218982697\n"
     ]
    },
    {
     "name": "stderr",
     "output_type": "stream",
     "text": [
      "\n",
      "Iteration:  36%|████████████████████████▉                                            | 150/415 [02:11<04:04,  1.08it/s]\u001b[A"
     ]
    },
    {
     "name": "stdout",
     "output_type": "stream",
     "text": [
      "tensor(0.0784, device='cuda:0', grad_fn=<NllLossBackward>)\n",
      "0.07844580709934235\n"
     ]
    },
    {
     "name": "stderr",
     "output_type": "stream",
     "text": [
      "\n",
      "Iteration:  36%|█████████████████████████                                            | 151/415 [02:12<04:07,  1.07it/s]\u001b[A"
     ]
    },
    {
     "name": "stdout",
     "output_type": "stream",
     "text": [
      "tensor(0.4520, device='cuda:0', grad_fn=<NllLossBackward>)\n",
      "0.45199620723724365\n"
     ]
    },
    {
     "name": "stderr",
     "output_type": "stream",
     "text": [
      "\n",
      "Iteration:  37%|█████████████████████████▎                                           | 152/415 [02:13<03:58,  1.10it/s]\u001b[A"
     ]
    },
    {
     "name": "stdout",
     "output_type": "stream",
     "text": [
      "tensor(0.1969, device='cuda:0', grad_fn=<NllLossBackward>)\n",
      "0.19694016873836517\n"
     ]
    },
    {
     "name": "stderr",
     "output_type": "stream",
     "text": [
      "\n",
      "Iteration:  37%|█████████████████████████▍                                           | 153/415 [02:14<04:02,  1.08it/s]\u001b[A"
     ]
    },
    {
     "name": "stdout",
     "output_type": "stream",
     "text": [
      "tensor(0.1815, device='cuda:0', grad_fn=<NllLossBackward>)\n",
      "0.181515634059906\n"
     ]
    },
    {
     "name": "stderr",
     "output_type": "stream",
     "text": [
      "\n",
      "Iteration:  37%|█████████████████████████▌                                           | 154/415 [02:15<04:04,  1.07it/s]\u001b[A"
     ]
    },
    {
     "name": "stdout",
     "output_type": "stream",
     "text": [
      "tensor(0.1852, device='cuda:0', grad_fn=<NllLossBackward>)\n",
      "0.1852191537618637\n"
     ]
    },
    {
     "name": "stderr",
     "output_type": "stream",
     "text": [
      "\n",
      "Iteration:  37%|█████████████████████████▊                                           | 155/415 [02:15<04:05,  1.06it/s]\u001b[A"
     ]
    },
    {
     "name": "stdout",
     "output_type": "stream",
     "text": [
      "tensor(0.1847, device='cuda:0', grad_fn=<NllLossBackward>)\n",
      "0.18470272421836853\n"
     ]
    },
    {
     "name": "stderr",
     "output_type": "stream",
     "text": [
      "\n",
      "Iteration:  38%|█████████████████████████▉                                           | 156/415 [02:16<04:03,  1.06it/s]\u001b[A"
     ]
    },
    {
     "name": "stdout",
     "output_type": "stream",
     "text": [
      "tensor(0.1761, device='cuda:0', grad_fn=<NllLossBackward>)\n",
      "0.17610716819763184\n"
     ]
    },
    {
     "name": "stderr",
     "output_type": "stream",
     "text": [
      "\n",
      "Iteration:  38%|██████████████████████████                                           | 157/415 [02:17<03:54,  1.10it/s]\u001b[A"
     ]
    },
    {
     "name": "stdout",
     "output_type": "stream",
     "text": [
      "tensor(0.1441, device='cuda:0', grad_fn=<NllLossBackward>)\n",
      "0.14411455392837524\n"
     ]
    },
    {
     "name": "stderr",
     "output_type": "stream",
     "text": [
      "\n",
      "Iteration:  38%|██████████████████████████▎                                          | 158/415 [02:18<03:58,  1.08it/s]\u001b[A"
     ]
    },
    {
     "name": "stdout",
     "output_type": "stream",
     "text": [
      "tensor(0.2402, device='cuda:0', grad_fn=<NllLossBackward>)\n",
      "0.24022525548934937\n"
     ]
    },
    {
     "name": "stderr",
     "output_type": "stream",
     "text": [
      "\n",
      "Iteration:  38%|██████████████████████████▍                                          | 159/415 [02:19<03:52,  1.10it/s]\u001b[A"
     ]
    },
    {
     "name": "stdout",
     "output_type": "stream",
     "text": [
      "tensor(0.1792, device='cuda:0', grad_fn=<NllLossBackward>)\n",
      "0.17923784255981445\n"
     ]
    },
    {
     "name": "stderr",
     "output_type": "stream",
     "text": [
      "\n",
      "Iteration:  39%|██████████████████████████▌                                          | 160/415 [02:20<03:47,  1.12it/s]\u001b[A"
     ]
    },
    {
     "name": "stdout",
     "output_type": "stream",
     "text": [
      "tensor(0.1549, device='cuda:0', grad_fn=<NllLossBackward>)\n",
      "0.15491244196891785\n"
     ]
    },
    {
     "name": "stderr",
     "output_type": "stream",
     "text": [
      "\n",
      "Iteration:  39%|██████████████████████████▊                                          | 161/415 [02:21<03:42,  1.14it/s]\u001b[A"
     ]
    },
    {
     "name": "stdout",
     "output_type": "stream",
     "text": [
      "tensor(0.2439, device='cuda:0', grad_fn=<NllLossBackward>)\n",
      "0.24392780661582947\n"
     ]
    },
    {
     "name": "stderr",
     "output_type": "stream",
     "text": [
      "\n",
      "Iteration:  39%|██████████████████████████▉                                          | 162/415 [02:22<03:36,  1.17it/s]\u001b[A"
     ]
    },
    {
     "name": "stdout",
     "output_type": "stream",
     "text": [
      "tensor(0.1652, device='cuda:0', grad_fn=<NllLossBackward>)\n",
      "0.16518747806549072\n"
     ]
    },
    {
     "name": "stderr",
     "output_type": "stream",
     "text": [
      "\n",
      "Iteration:  39%|███████████████████████████                                          | 163/415 [02:22<03:36,  1.16it/s]\u001b[A"
     ]
    },
    {
     "name": "stdout",
     "output_type": "stream",
     "text": [
      "tensor(0.1513, device='cuda:0', grad_fn=<NllLossBackward>)\n",
      "0.1513153612613678\n"
     ]
    },
    {
     "name": "stderr",
     "output_type": "stream",
     "text": [
      "\n",
      "Iteration:  40%|███████████████████████████▎                                         | 164/415 [02:23<03:36,  1.16it/s]\u001b[A"
     ]
    },
    {
     "name": "stdout",
     "output_type": "stream",
     "text": [
      "tensor(0.1317, device='cuda:0', grad_fn=<NllLossBackward>)\n",
      "0.13169851899147034\n"
     ]
    },
    {
     "name": "stderr",
     "output_type": "stream",
     "text": [
      "\n",
      "Iteration:  40%|███████████████████████████▍                                         | 165/415 [02:24<03:55,  1.06it/s]\u001b[A"
     ]
    },
    {
     "name": "stdout",
     "output_type": "stream",
     "text": [
      "tensor(0.2700, device='cuda:0', grad_fn=<NllLossBackward>)\n",
      "0.2700314521789551\n"
     ]
    },
    {
     "name": "stderr",
     "output_type": "stream",
     "text": [
      "\n",
      "Iteration:  40%|███████████████████████████▌                                         | 166/415 [02:25<03:51,  1.08it/s]\u001b[A"
     ]
    },
    {
     "name": "stdout",
     "output_type": "stream",
     "text": [
      "tensor(0.3089, device='cuda:0', grad_fn=<NllLossBackward>)\n",
      "0.3089236319065094\n"
     ]
    },
    {
     "name": "stderr",
     "output_type": "stream",
     "text": [
      "\n",
      "Iteration:  40%|███████████████████████████▊                                         | 167/415 [02:26<03:51,  1.07it/s]\u001b[A"
     ]
    },
    {
     "name": "stdout",
     "output_type": "stream",
     "text": [
      "tensor(0.1110, device='cuda:0', grad_fn=<NllLossBackward>)\n",
      "0.11101770401000977\n"
     ]
    },
    {
     "name": "stderr",
     "output_type": "stream",
     "text": [
      "\n",
      "Iteration:  40%|███████████████████████████▉                                         | 168/415 [02:27<03:42,  1.11it/s]\u001b[A"
     ]
    },
    {
     "name": "stdout",
     "output_type": "stream",
     "text": [
      "tensor(0.2605, device='cuda:0', grad_fn=<NllLossBackward>)\n",
      "0.26054975390434265\n"
     ]
    },
    {
     "name": "stderr",
     "output_type": "stream",
     "text": [
      "\n",
      "Iteration:  41%|████████████████████████████                                         | 169/415 [02:28<03:35,  1.14it/s]\u001b[A"
     ]
    },
    {
     "name": "stdout",
     "output_type": "stream",
     "text": [
      "tensor(0.1578, device='cuda:0', grad_fn=<NllLossBackward>)\n",
      "0.15781043469905853\n"
     ]
    },
    {
     "name": "stderr",
     "output_type": "stream",
     "text": [
      "\n",
      "Iteration:  41%|████████████████████████████▎                                        | 170/415 [02:29<03:33,  1.15it/s]\u001b[A"
     ]
    },
    {
     "name": "stdout",
     "output_type": "stream",
     "text": [
      "tensor(0.2721, device='cuda:0', grad_fn=<NllLossBackward>)\n",
      "0.27211880683898926\n"
     ]
    },
    {
     "name": "stderr",
     "output_type": "stream",
     "text": [
      "\n",
      "Iteration:  41%|████████████████████████████▍                                        | 171/415 [02:30<03:31,  1.15it/s]\u001b[A"
     ]
    },
    {
     "name": "stdout",
     "output_type": "stream",
     "text": [
      "tensor(0.3967, device='cuda:0', grad_fn=<NllLossBackward>)\n",
      "0.3966801166534424\n"
     ]
    },
    {
     "name": "stderr",
     "output_type": "stream",
     "text": [
      "\n",
      "Iteration:  41%|████████████████████████████▌                                        | 172/415 [02:31<03:32,  1.15it/s]\u001b[A"
     ]
    },
    {
     "name": "stdout",
     "output_type": "stream",
     "text": [
      "tensor(0.3548, device='cuda:0', grad_fn=<NllLossBackward>)\n",
      "0.3548080325126648\n"
     ]
    },
    {
     "name": "stderr",
     "output_type": "stream",
     "text": [
      "\n",
      "Iteration:  42%|████████████████████████████▊                                        | 173/415 [02:31<03:30,  1.15it/s]\u001b[A"
     ]
    },
    {
     "name": "stdout",
     "output_type": "stream",
     "text": [
      "tensor(0.3076, device='cuda:0', grad_fn=<NllLossBackward>)\n",
      "0.3075542747974396\n"
     ]
    },
    {
     "name": "stderr",
     "output_type": "stream",
     "text": [
      "\n",
      "Iteration:  42%|████████████████████████████▉                                        | 174/415 [02:32<03:27,  1.16it/s]\u001b[A"
     ]
    },
    {
     "name": "stdout",
     "output_type": "stream",
     "text": [
      "tensor(0.3618, device='cuda:0', grad_fn=<NllLossBackward>)\n",
      "0.36178892850875854\n"
     ]
    },
    {
     "name": "stderr",
     "output_type": "stream",
     "text": [
      "\n",
      "Iteration:  42%|█████████████████████████████                                        | 175/415 [02:33<03:27,  1.15it/s]\u001b[A"
     ]
    },
    {
     "name": "stdout",
     "output_type": "stream",
     "text": [
      "tensor(0.2980, device='cuda:0', grad_fn=<NllLossBackward>)\n",
      "0.2979971170425415\n"
     ]
    },
    {
     "name": "stderr",
     "output_type": "stream",
     "text": [
      "\n",
      "Iteration:  42%|█████████████████████████████▎                                       | 176/415 [02:34<03:30,  1.14it/s]\u001b[A"
     ]
    },
    {
     "name": "stdout",
     "output_type": "stream",
     "text": [
      "tensor(0.5134, device='cuda:0', grad_fn=<NllLossBackward>)\n",
      "0.5133697986602783\n"
     ]
    },
    {
     "name": "stderr",
     "output_type": "stream",
     "text": [
      "\n",
      "Iteration:  43%|█████████████████████████████▍                                       | 177/415 [02:35<03:32,  1.12it/s]\u001b[A"
     ]
    },
    {
     "name": "stdout",
     "output_type": "stream",
     "text": [
      "tensor(0.2526, device='cuda:0', grad_fn=<NllLossBackward>)\n",
      "0.2525734007358551\n"
     ]
    },
    {
     "name": "stderr",
     "output_type": "stream",
     "text": [
      "\n",
      "Iteration:  43%|█████████████████████████████▌                                       | 178/415 [02:36<03:25,  1.15it/s]\u001b[A"
     ]
    },
    {
     "name": "stdout",
     "output_type": "stream",
     "text": [
      "tensor(0.1329, device='cuda:0', grad_fn=<NllLossBackward>)\n",
      "0.13294613361358643\n"
     ]
    },
    {
     "name": "stderr",
     "output_type": "stream",
     "text": [
      "\n",
      "Iteration:  43%|█████████████████████████████▊                                       | 179/415 [02:37<03:46,  1.04it/s]\u001b[A"
     ]
    },
    {
     "name": "stdout",
     "output_type": "stream",
     "text": [
      "tensor(0.3247, device='cuda:0', grad_fn=<NllLossBackward>)\n",
      "0.32471805810928345\n"
     ]
    },
    {
     "name": "stderr",
     "output_type": "stream",
     "text": [
      "\n",
      "Iteration:  43%|█████████████████████████████▉                                       | 180/415 [02:38<03:37,  1.08it/s]\u001b[A"
     ]
    },
    {
     "name": "stdout",
     "output_type": "stream",
     "text": [
      "tensor(0.2014, device='cuda:0', grad_fn=<NllLossBackward>)\n",
      "0.20143860578536987\n"
     ]
    },
    {
     "name": "stderr",
     "output_type": "stream",
     "text": [
      "\n",
      "Iteration:  44%|██████████████████████████████                                       | 181/415 [02:39<03:32,  1.10it/s]\u001b[A"
     ]
    },
    {
     "name": "stdout",
     "output_type": "stream",
     "text": [
      "tensor(0.1141, device='cuda:0', grad_fn=<NllLossBackward>)\n",
      "0.11412407457828522\n"
     ]
    },
    {
     "name": "stderr",
     "output_type": "stream",
     "text": [
      "\n",
      "Iteration:  44%|██████████████████████████████▎                                      | 182/415 [02:40<03:27,  1.13it/s]\u001b[A"
     ]
    },
    {
     "name": "stdout",
     "output_type": "stream",
     "text": [
      "tensor(0.0978, device='cuda:0', grad_fn=<NllLossBackward>)\n",
      "0.09781274199485779\n"
     ]
    },
    {
     "name": "stderr",
     "output_type": "stream",
     "text": [
      "\n",
      "Iteration:  44%|██████████████████████████████▍                                      | 183/415 [02:40<03:21,  1.15it/s]\u001b[A"
     ]
    },
    {
     "name": "stdout",
     "output_type": "stream",
     "text": [
      "tensor(0.1142, device='cuda:0', grad_fn=<NllLossBackward>)\n",
      "0.11416685581207275\n"
     ]
    },
    {
     "name": "stderr",
     "output_type": "stream",
     "text": [
      "\n",
      "Iteration:  44%|██████████████████████████████▌                                      | 184/415 [02:41<03:27,  1.11it/s]\u001b[A"
     ]
    },
    {
     "name": "stdout",
     "output_type": "stream",
     "text": [
      "tensor(0.1786, device='cuda:0', grad_fn=<NllLossBackward>)\n",
      "0.17863622307777405\n"
     ]
    },
    {
     "name": "stderr",
     "output_type": "stream",
     "text": [
      "\n",
      "Iteration:  45%|██████████████████████████████▊                                      | 185/415 [02:42<03:25,  1.12it/s]\u001b[A"
     ]
    },
    {
     "name": "stdout",
     "output_type": "stream",
     "text": [
      "tensor(0.1392, device='cuda:0', grad_fn=<NllLossBackward>)\n",
      "0.13921965658664703\n"
     ]
    },
    {
     "name": "stderr",
     "output_type": "stream",
     "text": [
      "\n",
      "Iteration:  45%|██████████████████████████████▉                                      | 186/415 [02:43<03:23,  1.12it/s]\u001b[A"
     ]
    },
    {
     "name": "stdout",
     "output_type": "stream",
     "text": [
      "tensor(0.0691, device='cuda:0', grad_fn=<NllLossBackward>)\n",
      "0.06909161806106567\n"
     ]
    },
    {
     "name": "stderr",
     "output_type": "stream",
     "text": [
      "\n",
      "Iteration:  45%|███████████████████████████████                                      | 187/415 [02:44<03:19,  1.14it/s]\u001b[A"
     ]
    },
    {
     "name": "stdout",
     "output_type": "stream",
     "text": [
      "tensor(0.1221, device='cuda:0', grad_fn=<NllLossBackward>)\n",
      "0.12212707847356796\n"
     ]
    },
    {
     "name": "stderr",
     "output_type": "stream",
     "text": [
      "\n",
      "Iteration:  45%|███████████████████████████████▎                                     | 188/415 [02:45<03:16,  1.15it/s]\u001b[A"
     ]
    },
    {
     "name": "stdout",
     "output_type": "stream",
     "text": [
      "tensor(0.0801, device='cuda:0', grad_fn=<NllLossBackward>)\n",
      "0.08006071299314499\n"
     ]
    },
    {
     "name": "stderr",
     "output_type": "stream",
     "text": [
      "\n",
      "Iteration:  46%|███████████████████████████████▍                                     | 189/415 [02:46<03:13,  1.17it/s]\u001b[A"
     ]
    },
    {
     "name": "stdout",
     "output_type": "stream",
     "text": [
      "tensor(0.2288, device='cuda:0', grad_fn=<NllLossBackward>)\n",
      "0.22878912091255188\n"
     ]
    },
    {
     "name": "stderr",
     "output_type": "stream",
     "text": [
      "\n",
      "Iteration:  46%|███████████████████████████████▌                                     | 190/415 [02:46<03:11,  1.17it/s]\u001b[A"
     ]
    },
    {
     "name": "stdout",
     "output_type": "stream",
     "text": [
      "tensor(0.4660, device='cuda:0', grad_fn=<NllLossBackward>)\n",
      "0.4659605324268341\n"
     ]
    },
    {
     "name": "stderr",
     "output_type": "stream",
     "text": [
      "\n",
      "Iteration:  46%|███████████████████████████████▊                                     | 191/415 [02:47<03:14,  1.15it/s]\u001b[A"
     ]
    },
    {
     "name": "stdout",
     "output_type": "stream",
     "text": [
      "tensor(0.2463, device='cuda:0', grad_fn=<NllLossBackward>)\n",
      "0.24628984928131104\n"
     ]
    },
    {
     "name": "stderr",
     "output_type": "stream",
     "text": [
      "\n",
      "Iteration:  46%|███████████████████████████████▉                                     | 192/415 [02:48<03:14,  1.14it/s]\u001b[A"
     ]
    },
    {
     "name": "stdout",
     "output_type": "stream",
     "text": [
      "tensor(0.2671, device='cuda:0', grad_fn=<NllLossBackward>)\n",
      "0.26709988713264465\n"
     ]
    },
    {
     "name": "stderr",
     "output_type": "stream",
     "text": [
      "\n",
      "Iteration:  47%|████████████████████████████████                                     | 193/415 [02:49<03:12,  1.16it/s]\u001b[A"
     ]
    },
    {
     "name": "stdout",
     "output_type": "stream",
     "text": [
      "tensor(0.2342, device='cuda:0', grad_fn=<NllLossBackward>)\n",
      "0.23424795269966125\n"
     ]
    },
    {
     "name": "stderr",
     "output_type": "stream",
     "text": [
      "\n",
      "Iteration:  47%|████████████████████████████████▎                                    | 194/415 [02:50<03:13,  1.14it/s]\u001b[A"
     ]
    },
    {
     "name": "stdout",
     "output_type": "stream",
     "text": [
      "tensor(0.1302, device='cuda:0', grad_fn=<NllLossBackward>)\n",
      "0.13024282455444336\n"
     ]
    },
    {
     "name": "stderr",
     "output_type": "stream",
     "text": [
      "\n",
      "Iteration:  47%|████████████████████████████████▍                                    | 195/415 [02:51<03:16,  1.12it/s]\u001b[A"
     ]
    },
    {
     "name": "stdout",
     "output_type": "stream",
     "text": [
      "tensor(0.2920, device='cuda:0', grad_fn=<NllLossBackward>)\n",
      "0.29204708337783813\n"
     ]
    },
    {
     "name": "stderr",
     "output_type": "stream",
     "text": [
      "\n",
      "Iteration:  47%|████████████████████████████████▌                                    | 196/415 [02:52<03:12,  1.14it/s]\u001b[A"
     ]
    },
    {
     "name": "stdout",
     "output_type": "stream",
     "text": [
      "tensor(0.1924, device='cuda:0', grad_fn=<NllLossBackward>)\n",
      "0.19242238998413086\n"
     ]
    },
    {
     "name": "stderr",
     "output_type": "stream",
     "text": [
      "\n",
      "Iteration:  47%|████████████████████████████████▊                                    | 197/415 [02:53<03:07,  1.16it/s]\u001b[A"
     ]
    },
    {
     "name": "stdout",
     "output_type": "stream",
     "text": [
      "tensor(0.2164, device='cuda:0', grad_fn=<NllLossBackward>)\n",
      "0.21640925109386444\n"
     ]
    },
    {
     "name": "stderr",
     "output_type": "stream",
     "text": [
      "\n",
      "Iteration:  48%|████████████████████████████████▉                                    | 198/415 [02:53<03:05,  1.17it/s]\u001b[A"
     ]
    },
    {
     "name": "stdout",
     "output_type": "stream",
     "text": [
      "tensor(0.0567, device='cuda:0', grad_fn=<NllLossBackward>)\n",
      "0.056666918098926544\n"
     ]
    },
    {
     "name": "stderr",
     "output_type": "stream",
     "text": [
      "\n",
      "Iteration:  48%|█████████████████████████████████                                    | 199/415 [02:54<03:02,  1.19it/s]\u001b[A"
     ]
    },
    {
     "name": "stdout",
     "output_type": "stream",
     "text": [
      "tensor(0.2027, device='cuda:0', grad_fn=<NllLossBackward>)\n",
      "0.2027183473110199\n"
     ]
    },
    {
     "name": "stderr",
     "output_type": "stream",
     "text": [
      "\n",
      "Iteration:  48%|█████████████████████████████████▎                                   | 200/415 [02:55<03:05,  1.16it/s]\u001b[A"
     ]
    },
    {
     "name": "stdout",
     "output_type": "stream",
     "text": [
      "tensor(0.1226, device='cuda:0', grad_fn=<NllLossBackward>)\n",
      "0.122621551156044\n"
     ]
    },
    {
     "name": "stderr",
     "output_type": "stream",
     "text": [
      "\n",
      "Iteration:  48%|█████████████████████████████████▍                                   | 201/415 [02:56<03:06,  1.15it/s]\u001b[A"
     ]
    },
    {
     "name": "stdout",
     "output_type": "stream",
     "text": [
      "tensor(0.1655, device='cuda:0', grad_fn=<NllLossBackward>)\n",
      "0.1655445098876953\n"
     ]
    },
    {
     "name": "stderr",
     "output_type": "stream",
     "text": [
      "\n",
      "Iteration:  49%|█████████████████████████████████▌                                   | 202/415 [02:57<03:04,  1.16it/s]\u001b[A"
     ]
    },
    {
     "name": "stdout",
     "output_type": "stream",
     "text": [
      "tensor(0.1524, device='cuda:0', grad_fn=<NllLossBackward>)\n",
      "0.15242499113082886\n"
     ]
    },
    {
     "name": "stderr",
     "output_type": "stream",
     "text": [
      "\n",
      "Iteration:  49%|█████████████████████████████████▊                                   | 203/415 [02:58<03:05,  1.14it/s]\u001b[A"
     ]
    },
    {
     "name": "stdout",
     "output_type": "stream",
     "text": [
      "tensor(0.2373, device='cuda:0', grad_fn=<NllLossBackward>)\n",
      "0.2372877597808838\n"
     ]
    },
    {
     "name": "stderr",
     "output_type": "stream",
     "text": [
      "\n",
      "Iteration:  49%|█████████████████████████████████▉                                   | 204/415 [02:59<03:03,  1.15it/s]\u001b[A"
     ]
    },
    {
     "name": "stdout",
     "output_type": "stream",
     "text": [
      "tensor(0.2382, device='cuda:0', grad_fn=<NllLossBackward>)\n",
      "0.23818394541740417\n"
     ]
    },
    {
     "name": "stderr",
     "output_type": "stream",
     "text": [
      "\n",
      "Iteration:  49%|██████████████████████████████████                                   | 205/415 [02:59<03:03,  1.15it/s]\u001b[A"
     ]
    },
    {
     "name": "stdout",
     "output_type": "stream",
     "text": [
      "tensor(0.2191, device='cuda:0', grad_fn=<NllLossBackward>)\n",
      "0.21914471685886383\n"
     ]
    },
    {
     "name": "stderr",
     "output_type": "stream",
     "text": [
      "\n",
      "Iteration:  50%|██████████████████████████████████▎                                  | 206/415 [03:00<03:06,  1.12it/s]\u001b[A"
     ]
    },
    {
     "name": "stdout",
     "output_type": "stream",
     "text": [
      "tensor(0.1985, device='cuda:0', grad_fn=<NllLossBackward>)\n",
      "0.1985412836074829\n"
     ]
    },
    {
     "name": "stderr",
     "output_type": "stream",
     "text": [
      "\n",
      "Iteration:  50%|██████████████████████████████████▍                                  | 207/415 [03:01<03:04,  1.13it/s]\u001b[A"
     ]
    },
    {
     "name": "stdout",
     "output_type": "stream",
     "text": [
      "tensor(0.1796, device='cuda:0', grad_fn=<NllLossBackward>)\n",
      "0.1796162873506546\n"
     ]
    },
    {
     "name": "stderr",
     "output_type": "stream",
     "text": [
      "\n",
      "Iteration:  50%|██████████████████████████████████▌                                  | 208/415 [03:02<02:58,  1.16it/s]\u001b[A"
     ]
    },
    {
     "name": "stdout",
     "output_type": "stream",
     "text": [
      "tensor(0.2330, device='cuda:0', grad_fn=<NllLossBackward>)\n",
      "0.23304450511932373\n"
     ]
    },
    {
     "name": "stderr",
     "output_type": "stream",
     "text": [
      "\n",
      "Iteration:  50%|██████████████████████████████████▋                                  | 209/415 [03:03<02:55,  1.17it/s]\u001b[A"
     ]
    },
    {
     "name": "stdout",
     "output_type": "stream",
     "text": [
      "tensor(0.2346, device='cuda:0', grad_fn=<NllLossBackward>)\n",
      "0.23460449278354645\n"
     ]
    },
    {
     "name": "stderr",
     "output_type": "stream",
     "text": [
      "\n",
      "Iteration:  51%|██████████████████████████████████▉                                  | 210/415 [03:04<02:54,  1.17it/s]\u001b[A"
     ]
    },
    {
     "name": "stdout",
     "output_type": "stream",
     "text": [
      "tensor(0.1248, device='cuda:0', grad_fn=<NllLossBackward>)\n",
      "0.12484678626060486\n"
     ]
    },
    {
     "name": "stderr",
     "output_type": "stream",
     "text": [
      "\n",
      "Iteration:  51%|███████████████████████████████████                                  | 211/415 [03:05<02:59,  1.14it/s]\u001b[A"
     ]
    },
    {
     "name": "stdout",
     "output_type": "stream",
     "text": [
      "tensor(0.2311, device='cuda:0', grad_fn=<NllLossBackward>)\n",
      "0.23110097646713257\n"
     ]
    },
    {
     "name": "stderr",
     "output_type": "stream",
     "text": [
      "\n",
      "Iteration:  51%|███████████████████████████████████▏                                 | 212/415 [03:06<02:57,  1.14it/s]\u001b[A"
     ]
    },
    {
     "name": "stdout",
     "output_type": "stream",
     "text": [
      "tensor(0.2959, device='cuda:0', grad_fn=<NllLossBackward>)\n",
      "0.29593825340270996\n"
     ]
    },
    {
     "name": "stderr",
     "output_type": "stream",
     "text": [
      "\n",
      "Iteration:  51%|███████████████████████████████████▍                                 | 213/415 [03:06<02:56,  1.14it/s]\u001b[A"
     ]
    },
    {
     "name": "stdout",
     "output_type": "stream",
     "text": [
      "tensor(0.0841, device='cuda:0', grad_fn=<NllLossBackward>)\n",
      "0.0840744897723198\n"
     ]
    },
    {
     "name": "stderr",
     "output_type": "stream",
     "text": [
      "\n",
      "Iteration:  52%|███████████████████████████████████▌                                 | 214/415 [03:07<02:52,  1.16it/s]\u001b[A"
     ]
    },
    {
     "name": "stdout",
     "output_type": "stream",
     "text": [
      "tensor(0.1628, device='cuda:0', grad_fn=<NllLossBackward>)\n",
      "0.1627843677997589\n"
     ]
    },
    {
     "name": "stderr",
     "output_type": "stream",
     "text": [
      "\n",
      "Iteration:  52%|███████████████████████████████████▋                                 | 215/415 [03:08<02:59,  1.11it/s]\u001b[A"
     ]
    },
    {
     "name": "stdout",
     "output_type": "stream",
     "text": [
      "tensor(0.1264, device='cuda:0', grad_fn=<NllLossBackward>)\n",
      "0.1264103353023529\n"
     ]
    },
    {
     "name": "stderr",
     "output_type": "stream",
     "text": [
      "\n",
      "Iteration:  52%|███████████████████████████████████▉                                 | 216/415 [03:09<02:59,  1.11it/s]\u001b[A"
     ]
    },
    {
     "name": "stdout",
     "output_type": "stream",
     "text": [
      "tensor(0.4676, device='cuda:0', grad_fn=<NllLossBackward>)\n",
      "0.46761149168014526\n"
     ]
    },
    {
     "name": "stderr",
     "output_type": "stream",
     "text": [
      "\n",
      "Iteration:  52%|████████████████████████████████████                                 | 217/415 [03:10<03:01,  1.09it/s]\u001b[A"
     ]
    },
    {
     "name": "stdout",
     "output_type": "stream",
     "text": [
      "tensor(0.1598, device='cuda:0', grad_fn=<NllLossBackward>)\n",
      "0.15982533991336823\n"
     ]
    },
    {
     "name": "stderr",
     "output_type": "stream",
     "text": [
      "\n",
      "Iteration:  53%|████████████████████████████████████▏                                | 218/415 [03:11<03:00,  1.09it/s]\u001b[A"
     ]
    },
    {
     "name": "stdout",
     "output_type": "stream",
     "text": [
      "tensor(0.2523, device='cuda:0', grad_fn=<NllLossBackward>)\n",
      "0.2523183822631836\n"
     ]
    },
    {
     "name": "stderr",
     "output_type": "stream",
     "text": [
      "\n",
      "Iteration:  53%|████████████████████████████████████▍                                | 219/415 [03:12<02:58,  1.10it/s]\u001b[A"
     ]
    },
    {
     "name": "stdout",
     "output_type": "stream",
     "text": [
      "tensor(0.2577, device='cuda:0', grad_fn=<NllLossBackward>)\n",
      "0.2576633095741272\n"
     ]
    },
    {
     "name": "stderr",
     "output_type": "stream",
     "text": [
      "\n",
      "Iteration:  53%|████████████████████████████████████▌                                | 220/415 [03:13<02:52,  1.13it/s]\u001b[A"
     ]
    },
    {
     "name": "stdout",
     "output_type": "stream",
     "text": [
      "tensor(0.1675, device='cuda:0', grad_fn=<NllLossBackward>)\n",
      "0.1674702763557434\n"
     ]
    },
    {
     "name": "stderr",
     "output_type": "stream",
     "text": [
      "\n",
      "Iteration:  53%|████████████████████████████████████▋                                | 221/415 [03:14<02:48,  1.15it/s]\u001b[A"
     ]
    },
    {
     "name": "stdout",
     "output_type": "stream",
     "text": [
      "tensor(0.1626, device='cuda:0', grad_fn=<NllLossBackward>)\n",
      "0.1626027226448059\n"
     ]
    },
    {
     "name": "stderr",
     "output_type": "stream",
     "text": [
      "\n",
      "Iteration:  53%|████████████████████████████████████▉                                | 222/415 [03:15<02:49,  1.14it/s]\u001b[A"
     ]
    },
    {
     "name": "stdout",
     "output_type": "stream",
     "text": [
      "tensor(0.1743, device='cuda:0', grad_fn=<NllLossBackward>)\n",
      "0.17433057725429535\n"
     ]
    },
    {
     "name": "stderr",
     "output_type": "stream",
     "text": [
      "\n",
      "Iteration:  54%|█████████████████████████████████████                                | 223/415 [03:15<02:50,  1.13it/s]\u001b[A"
     ]
    },
    {
     "name": "stdout",
     "output_type": "stream",
     "text": [
      "tensor(0.1894, device='cuda:0', grad_fn=<NllLossBackward>)\n",
      "0.18939673900604248\n"
     ]
    },
    {
     "name": "stderr",
     "output_type": "stream",
     "text": [
      "\n",
      "Iteration:  54%|█████████████████████████████████████▏                               | 224/415 [03:16<02:46,  1.14it/s]\u001b[A"
     ]
    },
    {
     "name": "stdout",
     "output_type": "stream",
     "text": [
      "tensor(0.1212, device='cuda:0', grad_fn=<NllLossBackward>)\n",
      "0.1212373599410057\n"
     ]
    },
    {
     "name": "stderr",
     "output_type": "stream",
     "text": [
      "\n",
      "Iteration:  54%|█████████████████████████████████████▍                               | 225/415 [03:17<02:42,  1.17it/s]\u001b[A"
     ]
    },
    {
     "name": "stdout",
     "output_type": "stream",
     "text": [
      "tensor(0.0632, device='cuda:0', grad_fn=<NllLossBackward>)\n",
      "0.06321173906326294\n"
     ]
    },
    {
     "name": "stderr",
     "output_type": "stream",
     "text": [
      "\n",
      "Iteration:  54%|█████████████████████████████████████▌                               | 226/415 [03:18<02:41,  1.17it/s]\u001b[A"
     ]
    },
    {
     "name": "stdout",
     "output_type": "stream",
     "text": [
      "tensor(0.2396, device='cuda:0', grad_fn=<NllLossBackward>)\n",
      "0.23956725001335144\n"
     ]
    },
    {
     "name": "stderr",
     "output_type": "stream",
     "text": [
      "\n",
      "Iteration:  55%|█████████████████████████████████████▋                               | 227/415 [03:19<02:47,  1.12it/s]\u001b[A"
     ]
    },
    {
     "name": "stdout",
     "output_type": "stream",
     "text": [
      "tensor(0.3113, device='cuda:0', grad_fn=<NllLossBackward>)\n",
      "0.31128692626953125\n"
     ]
    },
    {
     "name": "stderr",
     "output_type": "stream",
     "text": [
      "\n",
      "Iteration:  55%|█████████████████████████████████████▉                               | 228/415 [03:20<02:42,  1.15it/s]\u001b[A"
     ]
    },
    {
     "name": "stdout",
     "output_type": "stream",
     "text": [
      "tensor(0.1638, device='cuda:0', grad_fn=<NllLossBackward>)\n",
      "0.163782998919487\n"
     ]
    },
    {
     "name": "stderr",
     "output_type": "stream",
     "text": [
      "\n",
      "Iteration:  55%|██████████████████████████████████████                               | 229/415 [03:21<02:44,  1.13it/s]\u001b[A"
     ]
    },
    {
     "name": "stdout",
     "output_type": "stream",
     "text": [
      "tensor(0.1962, device='cuda:0', grad_fn=<NllLossBackward>)\n",
      "0.19621708989143372\n"
     ]
    },
    {
     "name": "stderr",
     "output_type": "stream",
     "text": [
      "\n",
      "Iteration:  55%|██████████████████████████████████████▏                              | 230/415 [03:22<02:47,  1.11it/s]\u001b[A"
     ]
    },
    {
     "name": "stdout",
     "output_type": "stream",
     "text": [
      "tensor(0.2209, device='cuda:0', grad_fn=<NllLossBackward>)\n",
      "0.22088772058486938\n"
     ]
    },
    {
     "name": "stderr",
     "output_type": "stream",
     "text": [
      "\n",
      "Iteration:  56%|██████████████████████████████████████▍                              | 231/415 [03:22<02:41,  1.14it/s]\u001b[A"
     ]
    },
    {
     "name": "stdout",
     "output_type": "stream",
     "text": [
      "tensor(0.1194, device='cuda:0', grad_fn=<NllLossBackward>)\n",
      "0.1193954199552536\n"
     ]
    },
    {
     "name": "stderr",
     "output_type": "stream",
     "text": [
      "\n",
      "Iteration:  56%|██████████████████████████████████████▌                              | 232/415 [03:23<02:46,  1.10it/s]\u001b[A"
     ]
    },
    {
     "name": "stdout",
     "output_type": "stream",
     "text": [
      "tensor(0.3317, device='cuda:0', grad_fn=<NllLossBackward>)\n",
      "0.331685870885849\n"
     ]
    },
    {
     "name": "stderr",
     "output_type": "stream",
     "text": [
      "\n",
      "Iteration:  56%|██████████████████████████████████████▋                              | 233/415 [03:24<02:43,  1.11it/s]\u001b[A"
     ]
    },
    {
     "name": "stdout",
     "output_type": "stream",
     "text": [
      "tensor(0.2121, device='cuda:0', grad_fn=<NllLossBackward>)\n",
      "0.21213193237781525\n"
     ]
    },
    {
     "name": "stderr",
     "output_type": "stream",
     "text": [
      "\n",
      "Iteration:  56%|██████████████████████████████████████▉                              | 234/415 [03:25<02:40,  1.12it/s]\u001b[A"
     ]
    },
    {
     "name": "stdout",
     "output_type": "stream",
     "text": [
      "tensor(0.1662, device='cuda:0', grad_fn=<NllLossBackward>)\n",
      "0.16618043184280396\n"
     ]
    },
    {
     "name": "stderr",
     "output_type": "stream",
     "text": [
      "\n",
      "Iteration:  57%|███████████████████████████████████████                              | 235/415 [03:26<02:41,  1.11it/s]\u001b[A"
     ]
    },
    {
     "name": "stdout",
     "output_type": "stream",
     "text": [
      "tensor(0.1254, device='cuda:0', grad_fn=<NllLossBackward>)\n",
      "0.12535032629966736\n"
     ]
    },
    {
     "name": "stderr",
     "output_type": "stream",
     "text": [
      "\n",
      "Iteration:  57%|███████████████████████████████████████▏                             | 236/415 [03:27<02:38,  1.13it/s]\u001b[A"
     ]
    },
    {
     "name": "stdout",
     "output_type": "stream",
     "text": [
      "tensor(0.1084, device='cuda:0', grad_fn=<NllLossBackward>)\n",
      "0.10837215185165405\n"
     ]
    },
    {
     "name": "stderr",
     "output_type": "stream",
     "text": [
      "\n",
      "Iteration:  57%|███████████████████████████████████████▍                             | 237/415 [03:28<02:35,  1.15it/s]\u001b[A"
     ]
    },
    {
     "name": "stdout",
     "output_type": "stream",
     "text": [
      "tensor(0.1991, device='cuda:0', grad_fn=<NllLossBackward>)\n",
      "0.19906550645828247\n"
     ]
    },
    {
     "name": "stderr",
     "output_type": "stream",
     "text": [
      "\n",
      "Iteration:  57%|███████████████████████████████████████▌                             | 238/415 [03:29<02:34,  1.14it/s]\u001b[A"
     ]
    },
    {
     "name": "stdout",
     "output_type": "stream",
     "text": [
      "tensor(0.2060, device='cuda:0', grad_fn=<NllLossBackward>)\n",
      "0.20601636171340942\n"
     ]
    },
    {
     "name": "stderr",
     "output_type": "stream",
     "text": [
      "\n",
      "Iteration:  58%|███████████████████████████████████████▋                             | 239/415 [03:30<02:33,  1.15it/s]\u001b[A"
     ]
    },
    {
     "name": "stdout",
     "output_type": "stream",
     "text": [
      "tensor(0.2136, device='cuda:0', grad_fn=<NllLossBackward>)\n",
      "0.21356159448623657\n"
     ]
    },
    {
     "name": "stderr",
     "output_type": "stream",
     "text": [
      "\n",
      "Iteration:  58%|███████████████████████████████████████▉                             | 240/415 [03:30<02:34,  1.13it/s]\u001b[A"
     ]
    },
    {
     "name": "stdout",
     "output_type": "stream",
     "text": [
      "tensor(0.1458, device='cuda:0', grad_fn=<NllLossBackward>)\n",
      "0.14584848284721375\n"
     ]
    },
    {
     "name": "stderr",
     "output_type": "stream",
     "text": [
      "\n",
      "Iteration:  58%|████████████████████████████████████████                             | 241/415 [03:31<02:32,  1.14it/s]\u001b[A"
     ]
    },
    {
     "name": "stdout",
     "output_type": "stream",
     "text": [
      "tensor(0.1261, device='cuda:0', grad_fn=<NllLossBackward>)\n",
      "0.1261468380689621\n"
     ]
    },
    {
     "name": "stderr",
     "output_type": "stream",
     "text": [
      "\n",
      "Iteration:  58%|████████████████████████████████████████▏                            | 242/415 [03:32<02:29,  1.15it/s]\u001b[A"
     ]
    },
    {
     "name": "stdout",
     "output_type": "stream",
     "text": [
      "tensor(0.2272, device='cuda:0', grad_fn=<NllLossBackward>)\n",
      "0.22720836102962494\n"
     ]
    },
    {
     "name": "stderr",
     "output_type": "stream",
     "text": [
      "\n",
      "Iteration:  59%|████████████████████████████████████████▍                            | 243/415 [03:33<02:31,  1.14it/s]\u001b[A"
     ]
    },
    {
     "name": "stdout",
     "output_type": "stream",
     "text": [
      "tensor(0.1969, device='cuda:0', grad_fn=<NllLossBackward>)\n",
      "0.19685959815979004\n"
     ]
    },
    {
     "name": "stderr",
     "output_type": "stream",
     "text": [
      "\n",
      "Iteration:  59%|████████████████████████████████████████▌                            | 244/415 [03:34<02:33,  1.12it/s]\u001b[A"
     ]
    },
    {
     "name": "stdout",
     "output_type": "stream",
     "text": [
      "tensor(0.4097, device='cuda:0', grad_fn=<NllLossBackward>)\n",
      "0.40974292159080505\n"
     ]
    },
    {
     "name": "stderr",
     "output_type": "stream",
     "text": [
      "\n",
      "Iteration:  59%|████████████████████████████████████████▋                            | 245/415 [03:35<02:30,  1.13it/s]\u001b[A"
     ]
    },
    {
     "name": "stdout",
     "output_type": "stream",
     "text": [
      "tensor(0.2982, device='cuda:0', grad_fn=<NllLossBackward>)\n",
      "0.29822003841400146\n"
     ]
    },
    {
     "name": "stderr",
     "output_type": "stream",
     "text": [
      "\n",
      "Iteration:  59%|████████████████████████████████████████▉                            | 246/415 [03:36<02:30,  1.12it/s]\u001b[A"
     ]
    },
    {
     "name": "stdout",
     "output_type": "stream",
     "text": [
      "tensor(0.2144, device='cuda:0', grad_fn=<NllLossBackward>)\n",
      "0.21437865495681763\n"
     ]
    },
    {
     "name": "stderr",
     "output_type": "stream",
     "text": [
      "\n",
      "Iteration:  60%|█████████████████████████████████████████                            | 247/415 [03:37<02:27,  1.14it/s]\u001b[A"
     ]
    },
    {
     "name": "stdout",
     "output_type": "stream",
     "text": [
      "tensor(0.2987, device='cuda:0', grad_fn=<NllLossBackward>)\n",
      "0.29867023229599\n"
     ]
    },
    {
     "name": "stderr",
     "output_type": "stream",
     "text": [
      "\n",
      "Iteration:  60%|█████████████████████████████████████████▏                           | 248/415 [03:37<02:28,  1.13it/s]\u001b[A"
     ]
    },
    {
     "name": "stdout",
     "output_type": "stream",
     "text": [
      "tensor(0.1995, device='cuda:0', grad_fn=<NllLossBackward>)\n",
      "0.199479877948761\n"
     ]
    },
    {
     "name": "stderr",
     "output_type": "stream",
     "text": [
      "\n",
      "Iteration:  60%|█████████████████████████████████████████▍                           | 249/415 [03:38<02:27,  1.13it/s]\u001b[A"
     ]
    },
    {
     "name": "stdout",
     "output_type": "stream",
     "text": [
      "tensor(0.2510, device='cuda:0', grad_fn=<NllLossBackward>)\n",
      "0.25096943974494934\n"
     ]
    },
    {
     "name": "stderr",
     "output_type": "stream",
     "text": [
      "\n",
      "Iteration:  60%|█████████████████████████████████████████▌                           | 250/415 [03:39<02:24,  1.15it/s]\u001b[A"
     ]
    },
    {
     "name": "stdout",
     "output_type": "stream",
     "text": [
      "tensor(0.3772, device='cuda:0', grad_fn=<NllLossBackward>)\n",
      "0.3771584928035736\n"
     ]
    },
    {
     "name": "stderr",
     "output_type": "stream",
     "text": [
      "\n",
      "Iteration:  60%|█████████████████████████████████████████▋                           | 251/415 [03:40<02:22,  1.15it/s]\u001b[A"
     ]
    },
    {
     "name": "stdout",
     "output_type": "stream",
     "text": [
      "tensor(0.3054, device='cuda:0', grad_fn=<NllLossBackward>)\n",
      "0.30536729097366333\n"
     ]
    },
    {
     "name": "stderr",
     "output_type": "stream",
     "text": [
      "\n",
      "Iteration:  61%|█████████████████████████████████████████▉                           | 252/415 [03:41<02:34,  1.06it/s]\u001b[A"
     ]
    },
    {
     "name": "stdout",
     "output_type": "stream",
     "text": [
      "tensor(0.1076, device='cuda:0', grad_fn=<NllLossBackward>)\n",
      "0.10759972035884857\n"
     ]
    },
    {
     "name": "stderr",
     "output_type": "stream",
     "text": [
      "\n",
      "Iteration:  61%|██████████████████████████████████████████                           | 253/415 [03:42<02:30,  1.08it/s]\u001b[A"
     ]
    },
    {
     "name": "stdout",
     "output_type": "stream",
     "text": [
      "tensor(0.3681, device='cuda:0', grad_fn=<NllLossBackward>)\n",
      "0.368097186088562\n"
     ]
    },
    {
     "name": "stderr",
     "output_type": "stream",
     "text": [
      "\n",
      "Iteration:  61%|██████████████████████████████████████████▏                          | 254/415 [03:43<02:24,  1.11it/s]\u001b[A"
     ]
    },
    {
     "name": "stdout",
     "output_type": "stream",
     "text": [
      "tensor(0.2331, device='cuda:0', grad_fn=<NllLossBackward>)\n",
      "0.2331339418888092\n"
     ]
    },
    {
     "name": "stderr",
     "output_type": "stream",
     "text": [
      "\n",
      "Iteration:  61%|██████████████████████████████████████████▍                          | 255/415 [03:44<02:20,  1.14it/s]\u001b[A"
     ]
    },
    {
     "name": "stdout",
     "output_type": "stream",
     "text": [
      "tensor(0.2790, device='cuda:0', grad_fn=<NllLossBackward>)\n",
      "0.27897804975509644\n"
     ]
    },
    {
     "name": "stderr",
     "output_type": "stream",
     "text": [
      "\n",
      "Iteration:  62%|██████████████████████████████████████████▌                          | 256/415 [03:45<02:21,  1.13it/s]\u001b[A"
     ]
    },
    {
     "name": "stdout",
     "output_type": "stream",
     "text": [
      "tensor(0.0888, device='cuda:0', grad_fn=<NllLossBackward>)\n",
      "0.08877212554216385\n"
     ]
    },
    {
     "name": "stderr",
     "output_type": "stream",
     "text": [
      "\n",
      "Iteration:  62%|██████████████████████████████████████████▋                          | 257/415 [03:46<02:21,  1.12it/s]\u001b[A"
     ]
    },
    {
     "name": "stdout",
     "output_type": "stream",
     "text": [
      "tensor(0.1619, device='cuda:0', grad_fn=<NllLossBackward>)\n",
      "0.16186006367206573\n"
     ]
    },
    {
     "name": "stderr",
     "output_type": "stream",
     "text": [
      "\n",
      "Iteration:  62%|██████████████████████████████████████████▉                          | 258/415 [03:46<02:16,  1.15it/s]\u001b[A"
     ]
    },
    {
     "name": "stdout",
     "output_type": "stream",
     "text": [
      "tensor(0.1860, device='cuda:0', grad_fn=<NllLossBackward>)\n",
      "0.18596750497817993\n"
     ]
    },
    {
     "name": "stderr",
     "output_type": "stream",
     "text": [
      "\n",
      "Iteration:  62%|███████████████████████████████████████████                          | 259/415 [03:47<02:18,  1.13it/s]\u001b[A"
     ]
    },
    {
     "name": "stdout",
     "output_type": "stream",
     "text": [
      "tensor(0.1010, device='cuda:0', grad_fn=<NllLossBackward>)\n",
      "0.100958451628685\n"
     ]
    },
    {
     "name": "stderr",
     "output_type": "stream",
     "text": [
      "\n",
      "Iteration:  63%|███████████████████████████████████████████▏                         | 260/415 [03:48<02:17,  1.13it/s]\u001b[A"
     ]
    },
    {
     "name": "stdout",
     "output_type": "stream",
     "text": [
      "tensor(0.3200, device='cuda:0', grad_fn=<NllLossBackward>)\n",
      "0.3199998438358307\n"
     ]
    },
    {
     "name": "stderr",
     "output_type": "stream",
     "text": [
      "\n",
      "Iteration:  63%|███████████████████████████████████████████▍                         | 261/415 [03:49<02:13,  1.15it/s]\u001b[A"
     ]
    },
    {
     "name": "stdout",
     "output_type": "stream",
     "text": [
      "tensor(0.1754, device='cuda:0', grad_fn=<NllLossBackward>)\n",
      "0.17543216049671173\n"
     ]
    },
    {
     "name": "stderr",
     "output_type": "stream",
     "text": [
      "\n",
      "Iteration:  63%|███████████████████████████████████████████▌                         | 262/415 [03:50<02:12,  1.15it/s]\u001b[A"
     ]
    },
    {
     "name": "stdout",
     "output_type": "stream",
     "text": [
      "tensor(0.2073, device='cuda:0', grad_fn=<NllLossBackward>)\n",
      "0.20733889937400818\n"
     ]
    },
    {
     "name": "stderr",
     "output_type": "stream",
     "text": [
      "\n",
      "Iteration:  63%|███████████████████████████████████████████▋                         | 263/415 [03:51<02:11,  1.16it/s]\u001b[A"
     ]
    },
    {
     "name": "stdout",
     "output_type": "stream",
     "text": [
      "tensor(0.2573, device='cuda:0', grad_fn=<NllLossBackward>)\n",
      "0.2573460638523102\n"
     ]
    },
    {
     "name": "stderr",
     "output_type": "stream",
     "text": [
      "\n",
      "Iteration:  64%|███████████████████████████████████████████▉                         | 264/415 [03:52<02:09,  1.17it/s]\u001b[A"
     ]
    },
    {
     "name": "stdout",
     "output_type": "stream",
     "text": [
      "tensor(0.1400, device='cuda:0', grad_fn=<NllLossBackward>)\n",
      "0.13995453715324402\n"
     ]
    },
    {
     "name": "stderr",
     "output_type": "stream",
     "text": [
      "\n",
      "Iteration:  64%|████████████████████████████████████████████                         | 265/415 [03:52<02:10,  1.15it/s]\u001b[A"
     ]
    },
    {
     "name": "stdout",
     "output_type": "stream",
     "text": [
      "tensor(0.2473, device='cuda:0', grad_fn=<NllLossBackward>)\n",
      "0.24731376767158508\n"
     ]
    },
    {
     "name": "stderr",
     "output_type": "stream",
     "text": [
      "\n",
      "Iteration:  64%|████████████████████████████████████████████▏                        | 266/415 [03:53<02:07,  1.17it/s]\u001b[A"
     ]
    },
    {
     "name": "stdout",
     "output_type": "stream",
     "text": [
      "tensor(0.2468, device='cuda:0', grad_fn=<NllLossBackward>)\n",
      "0.24677802622318268\n"
     ]
    },
    {
     "name": "stderr",
     "output_type": "stream",
     "text": [
      "\n",
      "Iteration:  64%|████████████████████████████████████████████▍                        | 267/415 [03:54<02:10,  1.13it/s]\u001b[A"
     ]
    },
    {
     "name": "stdout",
     "output_type": "stream",
     "text": [
      "tensor(0.2213, device='cuda:0', grad_fn=<NllLossBackward>)\n",
      "0.22129571437835693\n"
     ]
    },
    {
     "name": "stderr",
     "output_type": "stream",
     "text": [
      "\n",
      "Iteration:  65%|████████████████████████████████████████████▌                        | 268/415 [03:55<02:08,  1.14it/s]\u001b[A"
     ]
    },
    {
     "name": "stdout",
     "output_type": "stream",
     "text": [
      "tensor(0.1442, device='cuda:0', grad_fn=<NllLossBackward>)\n",
      "0.1442006528377533\n"
     ]
    },
    {
     "name": "stderr",
     "output_type": "stream",
     "text": [
      "\n",
      "Iteration:  65%|████████████████████████████████████████████▋                        | 269/415 [03:56<02:05,  1.16it/s]\u001b[A"
     ]
    },
    {
     "name": "stdout",
     "output_type": "stream",
     "text": [
      "tensor(0.1918, device='cuda:0', grad_fn=<NllLossBackward>)\n",
      "0.19177423417568207\n"
     ]
    },
    {
     "name": "stderr",
     "output_type": "stream",
     "text": [
      "\n",
      "Iteration:  65%|████████████████████████████████████████████▉                        | 270/415 [03:57<02:06,  1.15it/s]\u001b[A"
     ]
    },
    {
     "name": "stdout",
     "output_type": "stream",
     "text": [
      "tensor(0.1794, device='cuda:0', grad_fn=<NllLossBackward>)\n",
      "0.17943687736988068\n"
     ]
    },
    {
     "name": "stderr",
     "output_type": "stream",
     "text": [
      "\n",
      "Iteration:  65%|█████████████████████████████████████████████                        | 271/415 [03:58<02:02,  1.18it/s]\u001b[A"
     ]
    },
    {
     "name": "stdout",
     "output_type": "stream",
     "text": [
      "tensor(0.0653, device='cuda:0', grad_fn=<NllLossBackward>)\n",
      "0.06526098400354385\n"
     ]
    },
    {
     "name": "stderr",
     "output_type": "stream",
     "text": [
      "\n",
      "Iteration:  66%|█████████████████████████████████████████████▏                       | 272/415 [03:59<02:03,  1.15it/s]\u001b[A"
     ]
    },
    {
     "name": "stdout",
     "output_type": "stream",
     "text": [
      "tensor(0.2005, device='cuda:0', grad_fn=<NllLossBackward>)\n",
      "0.20053519308567047\n"
     ]
    },
    {
     "name": "stderr",
     "output_type": "stream",
     "text": [
      "\n",
      "Iteration:  66%|█████████████████████████████████████████████▍                       | 273/415 [03:59<02:06,  1.12it/s]\u001b[A"
     ]
    },
    {
     "name": "stdout",
     "output_type": "stream",
     "text": [
      "tensor(0.2304, device='cuda:0', grad_fn=<NllLossBackward>)\n",
      "0.23044367134571075\n"
     ]
    },
    {
     "name": "stderr",
     "output_type": "stream",
     "text": [
      "\n",
      "Iteration:  66%|█████████████████████████████████████████████▌                       | 274/415 [04:00<02:02,  1.15it/s]\u001b[A"
     ]
    },
    {
     "name": "stdout",
     "output_type": "stream",
     "text": [
      "tensor(0.1629, device='cuda:0', grad_fn=<NllLossBackward>)\n",
      "0.1628798246383667\n"
     ]
    },
    {
     "name": "stderr",
     "output_type": "stream",
     "text": [
      "\n",
      "Iteration:  66%|█████████████████████████████████████████████▋                       | 275/415 [04:01<02:01,  1.16it/s]\u001b[A"
     ]
    },
    {
     "name": "stdout",
     "output_type": "stream",
     "text": [
      "tensor(0.3547, device='cuda:0', grad_fn=<NllLossBackward>)\n",
      "0.3547397553920746\n"
     ]
    },
    {
     "name": "stderr",
     "output_type": "stream",
     "text": [
      "\n",
      "Iteration:  67%|█████████████████████████████████████████████▉                       | 276/415 [04:02<02:01,  1.14it/s]\u001b[A"
     ]
    },
    {
     "name": "stdout",
     "output_type": "stream",
     "text": [
      "tensor(0.3412, device='cuda:0', grad_fn=<NllLossBackward>)\n",
      "0.34121185541152954\n"
     ]
    },
    {
     "name": "stderr",
     "output_type": "stream",
     "text": [
      "\n",
      "Iteration:  67%|██████████████████████████████████████████████                       | 277/415 [04:03<02:04,  1.11it/s]\u001b[A"
     ]
    },
    {
     "name": "stdout",
     "output_type": "stream",
     "text": [
      "tensor(0.2821, device='cuda:0', grad_fn=<NllLossBackward>)\n",
      "0.2820679843425751\n"
     ]
    },
    {
     "name": "stderr",
     "output_type": "stream",
     "text": [
      "\n",
      "Iteration:  67%|██████████████████████████████████████████████▏                      | 278/415 [04:04<02:03,  1.11it/s]\u001b[A"
     ]
    },
    {
     "name": "stdout",
     "output_type": "stream",
     "text": [
      "tensor(0.2219, device='cuda:0', grad_fn=<NllLossBackward>)\n",
      "0.2219410240650177\n"
     ]
    },
    {
     "name": "stderr",
     "output_type": "stream",
     "text": [
      "\n",
      "Iteration:  67%|██████████████████████████████████████████████▍                      | 279/415 [04:05<02:02,  1.11it/s]\u001b[A"
     ]
    },
    {
     "name": "stdout",
     "output_type": "stream",
     "text": [
      "tensor(0.1837, device='cuda:0', grad_fn=<NllLossBackward>)\n",
      "0.18370211124420166\n"
     ]
    },
    {
     "name": "stderr",
     "output_type": "stream",
     "text": [
      "\n",
      "Iteration:  67%|██████████████████████████████████████████████▌                      | 280/415 [04:06<01:59,  1.13it/s]\u001b[A"
     ]
    },
    {
     "name": "stdout",
     "output_type": "stream",
     "text": [
      "tensor(0.1080, device='cuda:0', grad_fn=<NllLossBackward>)\n",
      "0.10797715187072754\n"
     ]
    },
    {
     "name": "stderr",
     "output_type": "stream",
     "text": [
      "\n",
      "Iteration:  68%|██████████████████████████████████████████████▋                      | 281/415 [04:07<01:56,  1.15it/s]\u001b[A"
     ]
    },
    {
     "name": "stdout",
     "output_type": "stream",
     "text": [
      "tensor(0.1016, device='cuda:0', grad_fn=<NllLossBackward>)\n",
      "0.10156846046447754\n"
     ]
    },
    {
     "name": "stderr",
     "output_type": "stream",
     "text": [
      "\n",
      "Iteration:  68%|██████████████████████████████████████████████▉                      | 282/415 [04:07<01:56,  1.15it/s]\u001b[A"
     ]
    },
    {
     "name": "stdout",
     "output_type": "stream",
     "text": [
      "tensor(0.3146, device='cuda:0', grad_fn=<NllLossBackward>)\n",
      "0.31457483768463135\n"
     ]
    },
    {
     "name": "stderr",
     "output_type": "stream",
     "text": [
      "\n",
      "Iteration:  68%|███████████████████████████████████████████████                      | 283/415 [04:08<01:56,  1.13it/s]\u001b[A"
     ]
    },
    {
     "name": "stdout",
     "output_type": "stream",
     "text": [
      "tensor(0.1284, device='cuda:0', grad_fn=<NllLossBackward>)\n",
      "0.12839338183403015\n"
     ]
    },
    {
     "name": "stderr",
     "output_type": "stream",
     "text": [
      "\n",
      "Iteration:  68%|███████████████████████████████████████████████▏                     | 284/415 [04:09<01:54,  1.14it/s]\u001b[A"
     ]
    },
    {
     "name": "stdout",
     "output_type": "stream",
     "text": [
      "tensor(0.1324, device='cuda:0', grad_fn=<NllLossBackward>)\n",
      "0.1324012726545334\n"
     ]
    },
    {
     "name": "stderr",
     "output_type": "stream",
     "text": [
      "\n",
      "Iteration:  69%|███████████████████████████████████████████████▍                     | 285/415 [04:10<01:51,  1.16it/s]\u001b[A"
     ]
    },
    {
     "name": "stdout",
     "output_type": "stream",
     "text": [
      "tensor(0.0741, device='cuda:0', grad_fn=<NllLossBackward>)\n",
      "0.0740608274936676\n"
     ]
    },
    {
     "name": "stderr",
     "output_type": "stream",
     "text": [
      "\n",
      "Iteration:  69%|███████████████████████████████████████████████▌                     | 286/415 [04:11<01:50,  1.17it/s]\u001b[A"
     ]
    },
    {
     "name": "stdout",
     "output_type": "stream",
     "text": [
      "tensor(0.2308, device='cuda:0', grad_fn=<NllLossBackward>)\n",
      "0.2308194935321808\n"
     ]
    },
    {
     "name": "stderr",
     "output_type": "stream",
     "text": [
      "\n",
      "Iteration:  69%|███████████████████████████████████████████████▋                     | 287/415 [04:12<01:52,  1.14it/s]\u001b[A"
     ]
    },
    {
     "name": "stdout",
     "output_type": "stream",
     "text": [
      "tensor(0.0883, device='cuda:0', grad_fn=<NllLossBackward>)\n",
      "0.08825737982988358\n"
     ]
    },
    {
     "name": "stderr",
     "output_type": "stream",
     "text": [
      "\n",
      "Iteration:  69%|███████████████████████████████████████████████▉                     | 288/415 [04:13<01:49,  1.16it/s]\u001b[A"
     ]
    },
    {
     "name": "stdout",
     "output_type": "stream",
     "text": [
      "tensor(0.2967, device='cuda:0', grad_fn=<NllLossBackward>)\n",
      "0.29666653275489807\n"
     ]
    },
    {
     "name": "stderr",
     "output_type": "stream",
     "text": [
      "\n",
      "Iteration:  70%|████████████████████████████████████████████████                     | 289/415 [04:13<01:48,  1.16it/s]\u001b[A"
     ]
    },
    {
     "name": "stdout",
     "output_type": "stream",
     "text": [
      "tensor(0.2480, device='cuda:0', grad_fn=<NllLossBackward>)\n",
      "0.24796812236309052\n"
     ]
    },
    {
     "name": "stderr",
     "output_type": "stream",
     "text": [
      "\n",
      "Iteration:  70%|████████████████████████████████████████████████▏                    | 290/415 [04:14<01:47,  1.16it/s]\u001b[A"
     ]
    },
    {
     "name": "stdout",
     "output_type": "stream",
     "text": [
      "tensor(0.1514, device='cuda:0', grad_fn=<NllLossBackward>)\n",
      "0.1513751894235611\n"
     ]
    },
    {
     "name": "stderr",
     "output_type": "stream",
     "text": [
      "\n",
      "Iteration:  70%|████████████████████████████████████████████████▍                    | 291/415 [04:15<01:49,  1.13it/s]\u001b[A"
     ]
    },
    {
     "name": "stdout",
     "output_type": "stream",
     "text": [
      "tensor(0.1714, device='cuda:0', grad_fn=<NllLossBackward>)\n",
      "0.17141251266002655\n"
     ]
    },
    {
     "name": "stderr",
     "output_type": "stream",
     "text": [
      "\n",
      "Iteration:  70%|████████████████████████████████████████████████▌                    | 292/415 [04:16<01:47,  1.14it/s]\u001b[A"
     ]
    },
    {
     "name": "stdout",
     "output_type": "stream",
     "text": [
      "tensor(0.1899, device='cuda:0', grad_fn=<NllLossBackward>)\n",
      "0.18987435102462769\n"
     ]
    },
    {
     "name": "stderr",
     "output_type": "stream",
     "text": [
      "\n",
      "Iteration:  71%|████████████████████████████████████████████████▋                    | 293/415 [04:17<01:50,  1.11it/s]\u001b[A"
     ]
    },
    {
     "name": "stdout",
     "output_type": "stream",
     "text": [
      "tensor(0.3554, device='cuda:0', grad_fn=<NllLossBackward>)\n",
      "0.3553624153137207\n"
     ]
    },
    {
     "name": "stderr",
     "output_type": "stream",
     "text": [
      "\n",
      "Iteration:  71%|████████████████████████████████████████████████▉                    | 294/415 [04:18<01:47,  1.12it/s]\u001b[A"
     ]
    },
    {
     "name": "stdout",
     "output_type": "stream",
     "text": [
      "tensor(0.3600, device='cuda:0', grad_fn=<NllLossBackward>)\n",
      "0.3599783778190613\n"
     ]
    },
    {
     "name": "stderr",
     "output_type": "stream",
     "text": [
      "\n",
      "Iteration:  71%|█████████████████████████████████████████████████                    | 295/415 [04:19<01:46,  1.13it/s]\u001b[A"
     ]
    },
    {
     "name": "stdout",
     "output_type": "stream",
     "text": [
      "tensor(0.1962, device='cuda:0', grad_fn=<NllLossBackward>)\n",
      "0.19615067541599274\n"
     ]
    },
    {
     "name": "stderr",
     "output_type": "stream",
     "text": [
      "\n",
      "Iteration:  71%|█████████████████████████████████████████████████▏                   | 296/415 [04:20<01:46,  1.12it/s]\u001b[A"
     ]
    },
    {
     "name": "stdout",
     "output_type": "stream",
     "text": [
      "tensor(0.3178, device='cuda:0', grad_fn=<NllLossBackward>)\n",
      "0.3178376257419586\n"
     ]
    },
    {
     "name": "stderr",
     "output_type": "stream",
     "text": [
      "\n",
      "Iteration:  72%|█████████████████████████████████████████████████▍                   | 297/415 [04:21<01:43,  1.14it/s]\u001b[A"
     ]
    },
    {
     "name": "stdout",
     "output_type": "stream",
     "text": [
      "tensor(0.3789, device='cuda:0', grad_fn=<NllLossBackward>)\n",
      "0.37891507148742676\n"
     ]
    },
    {
     "name": "stderr",
     "output_type": "stream",
     "text": [
      "\n",
      "Iteration:  72%|█████████████████████████████████████████████████▌                   | 298/415 [04:21<01:40,  1.16it/s]\u001b[A"
     ]
    },
    {
     "name": "stdout",
     "output_type": "stream",
     "text": [
      "tensor(0.5905, device='cuda:0', grad_fn=<NllLossBackward>)\n",
      "0.590549111366272\n"
     ]
    },
    {
     "name": "stderr",
     "output_type": "stream",
     "text": [
      "\n",
      "Iteration:  72%|█████████████████████████████████████████████████▋                   | 299/415 [04:22<01:40,  1.15it/s]\u001b[A"
     ]
    },
    {
     "name": "stdout",
     "output_type": "stream",
     "text": [
      "tensor(0.1917, device='cuda:0', grad_fn=<NllLossBackward>)\n",
      "0.19174014031887054\n"
     ]
    },
    {
     "name": "stderr",
     "output_type": "stream",
     "text": [
      "\n",
      "Iteration:  72%|█████████████████████████████████████████████████▉                   | 300/415 [04:23<01:41,  1.14it/s]\u001b[A"
     ]
    },
    {
     "name": "stdout",
     "output_type": "stream",
     "text": [
      "tensor(0.2361, device='cuda:0', grad_fn=<NllLossBackward>)\n",
      "0.23610961437225342\n"
     ]
    },
    {
     "name": "stderr",
     "output_type": "stream",
     "text": [
      "\n",
      "Iteration:  73%|██████████████████████████████████████████████████                   | 301/415 [04:24<01:44,  1.09it/s]\u001b[A"
     ]
    },
    {
     "name": "stdout",
     "output_type": "stream",
     "text": [
      "tensor(0.2017, device='cuda:0', grad_fn=<NllLossBackward>)\n",
      "0.20171263813972473\n"
     ]
    },
    {
     "name": "stderr",
     "output_type": "stream",
     "text": [
      "\n",
      "Iteration:  73%|██████████████████████████████████████████████████▏                  | 302/415 [04:25<01:41,  1.12it/s]\u001b[A"
     ]
    },
    {
     "name": "stdout",
     "output_type": "stream",
     "text": [
      "tensor(0.2938, device='cuda:0', grad_fn=<NllLossBackward>)\n",
      "0.2938435673713684\n"
     ]
    },
    {
     "name": "stderr",
     "output_type": "stream",
     "text": [
      "\n",
      "Iteration:  73%|██████████████████████████████████████████████████▍                  | 303/415 [04:26<01:39,  1.12it/s]\u001b[A"
     ]
    },
    {
     "name": "stdout",
     "output_type": "stream",
     "text": [
      "tensor(0.1914, device='cuda:0', grad_fn=<NllLossBackward>)\n",
      "0.19137226045131683\n"
     ]
    },
    {
     "name": "stderr",
     "output_type": "stream",
     "text": [
      "\n",
      "Iteration:  73%|██████████████████████████████████████████████████▌                  | 304/415 [04:27<01:37,  1.14it/s]\u001b[A"
     ]
    },
    {
     "name": "stdout",
     "output_type": "stream",
     "text": [
      "tensor(0.1047, device='cuda:0', grad_fn=<NllLossBackward>)\n",
      "0.10466036945581436\n"
     ]
    },
    {
     "name": "stderr",
     "output_type": "stream",
     "text": [
      "\n",
      "Iteration:  73%|██████████████████████████████████████████████████▋                  | 305/415 [04:28<01:35,  1.16it/s]\u001b[A"
     ]
    },
    {
     "name": "stdout",
     "output_type": "stream",
     "text": [
      "tensor(0.1776, device='cuda:0', grad_fn=<NllLossBackward>)\n",
      "0.1775818169116974\n"
     ]
    },
    {
     "name": "stderr",
     "output_type": "stream",
     "text": [
      "\n",
      "Iteration:  74%|██████████████████████████████████████████████████▉                  | 306/415 [04:29<01:38,  1.11it/s]\u001b[A"
     ]
    },
    {
     "name": "stdout",
     "output_type": "stream",
     "text": [
      "tensor(0.2643, device='cuda:0', grad_fn=<NllLossBackward>)\n",
      "0.2643001973628998\n"
     ]
    },
    {
     "name": "stderr",
     "output_type": "stream",
     "text": [
      "\n",
      "Iteration:  74%|███████████████████████████████████████████████████                  | 307/415 [04:29<01:34,  1.14it/s]\u001b[A"
     ]
    },
    {
     "name": "stdout",
     "output_type": "stream",
     "text": [
      "tensor(0.1868, device='cuda:0', grad_fn=<NllLossBackward>)\n",
      "0.18682506680488586\n"
     ]
    },
    {
     "name": "stderr",
     "output_type": "stream",
     "text": [
      "\n",
      "Iteration:  74%|███████████████████████████████████████████████████▏                 | 308/415 [04:30<01:32,  1.15it/s]\u001b[A"
     ]
    },
    {
     "name": "stdout",
     "output_type": "stream",
     "text": [
      "tensor(0.1481, device='cuda:0', grad_fn=<NllLossBackward>)\n",
      "0.14805608987808228\n"
     ]
    },
    {
     "name": "stderr",
     "output_type": "stream",
     "text": [
      "\n",
      "Iteration:  74%|███████████████████████████████████████████████████▍                 | 309/415 [04:31<01:33,  1.13it/s]\u001b[A"
     ]
    },
    {
     "name": "stdout",
     "output_type": "stream",
     "text": [
      "tensor(0.2727, device='cuda:0', grad_fn=<NllLossBackward>)\n",
      "0.272732675075531\n"
     ]
    },
    {
     "name": "stderr",
     "output_type": "stream",
     "text": [
      "\n",
      "Iteration:  75%|███████████████████████████████████████████████████▌                 | 310/415 [04:32<01:33,  1.12it/s]\u001b[A"
     ]
    },
    {
     "name": "stdout",
     "output_type": "stream",
     "text": [
      "tensor(0.1581, device='cuda:0', grad_fn=<NllLossBackward>)\n",
      "0.15813204646110535\n"
     ]
    },
    {
     "name": "stderr",
     "output_type": "stream",
     "text": [
      "\n",
      "Iteration:  75%|███████████████████████████████████████████████████▋                 | 311/415 [04:33<01:30,  1.14it/s]\u001b[A"
     ]
    },
    {
     "name": "stdout",
     "output_type": "stream",
     "text": [
      "tensor(0.2623, device='cuda:0', grad_fn=<NllLossBackward>)\n",
      "0.2622537314891815\n"
     ]
    },
    {
     "name": "stderr",
     "output_type": "stream",
     "text": [
      "\n",
      "Iteration:  75%|███████████████████████████████████████████████████▊                 | 312/415 [04:34<01:30,  1.13it/s]\u001b[A"
     ]
    },
    {
     "name": "stdout",
     "output_type": "stream",
     "text": [
      "tensor(0.1968, device='cuda:0', grad_fn=<NllLossBackward>)\n",
      "0.19683586061000824\n"
     ]
    },
    {
     "name": "stderr",
     "output_type": "stream",
     "text": [
      "\n",
      "Iteration:  75%|████████████████████████████████████████████████████                 | 313/415 [04:35<01:31,  1.12it/s]\u001b[A"
     ]
    },
    {
     "name": "stdout",
     "output_type": "stream",
     "text": [
      "tensor(0.3963, device='cuda:0', grad_fn=<NllLossBackward>)\n",
      "0.39629703760147095\n"
     ]
    },
    {
     "name": "stderr",
     "output_type": "stream",
     "text": [
      "\n",
      "Iteration:  76%|████████████████████████████████████████████████████▏                | 314/415 [04:36<01:27,  1.15it/s]\u001b[A"
     ]
    },
    {
     "name": "stdout",
     "output_type": "stream",
     "text": [
      "tensor(0.3126, device='cuda:0', grad_fn=<NllLossBackward>)\n",
      "0.31260353326797485\n"
     ]
    },
    {
     "name": "stderr",
     "output_type": "stream",
     "text": [
      "\n",
      "Iteration:  76%|████████████████████████████████████████████████████▎                | 315/415 [04:36<01:26,  1.15it/s]\u001b[A"
     ]
    },
    {
     "name": "stdout",
     "output_type": "stream",
     "text": [
      "tensor(0.1270, device='cuda:0', grad_fn=<NllLossBackward>)\n",
      "0.12701746821403503\n"
     ]
    },
    {
     "name": "stderr",
     "output_type": "stream",
     "text": [
      "\n",
      "Iteration:  76%|████████████████████████████████████████████████████▌                | 316/415 [04:37<01:28,  1.12it/s]\u001b[A"
     ]
    },
    {
     "name": "stdout",
     "output_type": "stream",
     "text": [
      "tensor(0.1635, device='cuda:0', grad_fn=<NllLossBackward>)\n",
      "0.16349884867668152\n"
     ]
    },
    {
     "name": "stderr",
     "output_type": "stream",
     "text": [
      "\n",
      "Iteration:  76%|████████████████████████████████████████████████████▋                | 317/415 [04:38<01:25,  1.15it/s]\u001b[A"
     ]
    },
    {
     "name": "stdout",
     "output_type": "stream",
     "text": [
      "tensor(0.2069, device='cuda:0', grad_fn=<NllLossBackward>)\n",
      "0.20691069960594177\n"
     ]
    },
    {
     "name": "stderr",
     "output_type": "stream",
     "text": [
      "\n",
      "Iteration:  77%|████████████████████████████████████████████████████▊                | 318/415 [04:39<01:23,  1.16it/s]\u001b[A"
     ]
    },
    {
     "name": "stdout",
     "output_type": "stream",
     "text": [
      "tensor(0.3617, device='cuda:0', grad_fn=<NllLossBackward>)\n",
      "0.3617492914199829\n"
     ]
    },
    {
     "name": "stderr",
     "output_type": "stream",
     "text": [
      "\n",
      "Iteration:  77%|█████████████████████████████████████████████████████                | 319/415 [04:40<01:24,  1.13it/s]\u001b[A"
     ]
    },
    {
     "name": "stdout",
     "output_type": "stream",
     "text": [
      "tensor(0.3035, device='cuda:0', grad_fn=<NllLossBackward>)\n",
      "0.3034572899341583\n"
     ]
    },
    {
     "name": "stderr",
     "output_type": "stream",
     "text": [
      "\n",
      "Iteration:  77%|█████████████████████████████████████████████████████▏               | 320/415 [04:41<01:26,  1.10it/s]\u001b[A"
     ]
    },
    {
     "name": "stdout",
     "output_type": "stream",
     "text": [
      "tensor(0.1984, device='cuda:0', grad_fn=<NllLossBackward>)\n",
      "0.1983594298362732\n"
     ]
    },
    {
     "name": "stderr",
     "output_type": "stream",
     "text": [
      "\n",
      "Iteration:  77%|█████████████████████████████████████████████████████▎               | 321/415 [04:42<01:24,  1.11it/s]\u001b[A"
     ]
    },
    {
     "name": "stdout",
     "output_type": "stream",
     "text": [
      "tensor(0.2971, device='cuda:0', grad_fn=<NllLossBackward>)\n",
      "0.2971038520336151\n"
     ]
    },
    {
     "name": "stderr",
     "output_type": "stream",
     "text": [
      "\n",
      "Iteration:  78%|█████████████████████████████████████████████████████▌               | 322/415 [04:43<01:24,  1.11it/s]\u001b[A"
     ]
    },
    {
     "name": "stdout",
     "output_type": "stream",
     "text": [
      "tensor(0.1920, device='cuda:0', grad_fn=<NllLossBackward>)\n",
      "0.191981241106987\n"
     ]
    },
    {
     "name": "stderr",
     "output_type": "stream",
     "text": [
      "\n",
      "Iteration:  78%|█████████████████████████████████████████████████████▋               | 323/415 [04:44<01:21,  1.13it/s]\u001b[A"
     ]
    },
    {
     "name": "stdout",
     "output_type": "stream",
     "text": [
      "tensor(0.2465, device='cuda:0', grad_fn=<NllLossBackward>)\n",
      "0.24651777744293213\n"
     ]
    },
    {
     "name": "stderr",
     "output_type": "stream",
     "text": [
      "\n",
      "Iteration:  78%|█████████████████████████████████████████████████████▊               | 324/415 [04:44<01:19,  1.15it/s]\u001b[A"
     ]
    },
    {
     "name": "stdout",
     "output_type": "stream",
     "text": [
      "tensor(0.1275, device='cuda:0', grad_fn=<NllLossBackward>)\n",
      "0.12749747931957245\n"
     ]
    },
    {
     "name": "stderr",
     "output_type": "stream",
     "text": [
      "\n",
      "Iteration:  78%|██████████████████████████████████████████████████████               | 325/415 [04:45<01:18,  1.15it/s]\u001b[A"
     ]
    },
    {
     "name": "stdout",
     "output_type": "stream",
     "text": [
      "tensor(0.2465, device='cuda:0', grad_fn=<NllLossBackward>)\n",
      "0.24651995301246643\n"
     ]
    },
    {
     "name": "stderr",
     "output_type": "stream",
     "text": [
      "\n",
      "Iteration:  79%|██████████████████████████████████████████████████████▏              | 326/415 [04:46<01:16,  1.16it/s]\u001b[A"
     ]
    },
    {
     "name": "stdout",
     "output_type": "stream",
     "text": [
      "tensor(0.1096, device='cuda:0', grad_fn=<NllLossBackward>)\n",
      "0.10962529480457306\n"
     ]
    },
    {
     "name": "stderr",
     "output_type": "stream",
     "text": [
      "\n",
      "Iteration:  79%|██████████████████████████████████████████████████████▎              | 327/415 [04:47<01:18,  1.12it/s]\u001b[A"
     ]
    },
    {
     "name": "stdout",
     "output_type": "stream",
     "text": [
      "tensor(0.1923, device='cuda:0', grad_fn=<NllLossBackward>)\n",
      "0.19234150648117065\n"
     ]
    },
    {
     "name": "stderr",
     "output_type": "stream",
     "text": [
      "\n",
      "Iteration:  79%|██████████████████████████████████████████████████████▌              | 328/415 [04:48<01:27,  1.01s/it]\u001b[A"
     ]
    },
    {
     "name": "stdout",
     "output_type": "stream",
     "text": [
      "tensor(0.1602, device='cuda:0', grad_fn=<NllLossBackward>)\n",
      "0.16024917364120483\n"
     ]
    },
    {
     "name": "stderr",
     "output_type": "stream",
     "text": [
      "\n",
      "Iteration:  79%|██████████████████████████████████████████████████████▋              | 329/415 [04:49<01:22,  1.04it/s]\u001b[A"
     ]
    },
    {
     "name": "stdout",
     "output_type": "stream",
     "text": [
      "tensor(0.1980, device='cuda:0', grad_fn=<NllLossBackward>)\n",
      "0.1979762315750122\n"
     ]
    },
    {
     "name": "stderr",
     "output_type": "stream",
     "text": [
      "\n",
      "Iteration:  80%|██████████████████████████████████████████████████████▊              | 330/415 [04:50<01:18,  1.09it/s]\u001b[A"
     ]
    },
    {
     "name": "stdout",
     "output_type": "stream",
     "text": [
      "tensor(0.2020, device='cuda:0', grad_fn=<NllLossBackward>)\n",
      "0.20204168558120728\n"
     ]
    },
    {
     "name": "stderr",
     "output_type": "stream",
     "text": [
      "\n",
      "Iteration:  80%|███████████████████████████████████████████████████████              | 331/415 [04:51<01:16,  1.09it/s]\u001b[A"
     ]
    },
    {
     "name": "stdout",
     "output_type": "stream",
     "text": [
      "tensor(0.3717, device='cuda:0', grad_fn=<NllLossBackward>)\n",
      "0.3717168867588043\n"
     ]
    },
    {
     "name": "stderr",
     "output_type": "stream",
     "text": [
      "\n",
      "Iteration:  80%|███████████████████████████████████████████████████████▏             | 332/415 [04:52<01:13,  1.13it/s]\u001b[A"
     ]
    },
    {
     "name": "stdout",
     "output_type": "stream",
     "text": [
      "tensor(0.2725, device='cuda:0', grad_fn=<NllLossBackward>)\n",
      "0.27254050970077515\n"
     ]
    },
    {
     "name": "stderr",
     "output_type": "stream",
     "text": [
      "\n",
      "Iteration:  80%|███████████████████████████████████████████████████████▎             | 333/415 [04:53<01:11,  1.15it/s]\u001b[A"
     ]
    },
    {
     "name": "stdout",
     "output_type": "stream",
     "text": [
      "tensor(0.2661, device='cuda:0', grad_fn=<NllLossBackward>)\n",
      "0.26611295342445374\n"
     ]
    },
    {
     "name": "stderr",
     "output_type": "stream",
     "text": [
      "\n",
      "Iteration:  80%|███████████████████████████████████████████████████████▌             | 334/415 [04:53<01:09,  1.16it/s]\u001b[A"
     ]
    },
    {
     "name": "stdout",
     "output_type": "stream",
     "text": [
      "tensor(0.1605, device='cuda:0', grad_fn=<NllLossBackward>)\n",
      "0.160519540309906\n"
     ]
    },
    {
     "name": "stderr",
     "output_type": "stream",
     "text": [
      "\n",
      "Iteration:  81%|███████████████████████████████████████████████████████▋             | 335/415 [04:54<01:08,  1.17it/s]\u001b[A"
     ]
    },
    {
     "name": "stdout",
     "output_type": "stream",
     "text": [
      "tensor(0.2401, device='cuda:0', grad_fn=<NllLossBackward>)\n",
      "0.2401314526796341\n"
     ]
    },
    {
     "name": "stderr",
     "output_type": "stream",
     "text": [
      "\n",
      "Iteration:  81%|███████████████████████████████████████████████████████▊             | 336/415 [04:55<01:14,  1.06it/s]\u001b[A"
     ]
    },
    {
     "name": "stdout",
     "output_type": "stream",
     "text": [
      "tensor(0.1624, device='cuda:0', grad_fn=<NllLossBackward>)\n",
      "0.16237908601760864\n"
     ]
    },
    {
     "name": "stderr",
     "output_type": "stream",
     "text": [
      "\n",
      "Iteration:  81%|████████████████████████████████████████████████████████             | 337/415 [04:56<01:10,  1.10it/s]\u001b[A"
     ]
    },
    {
     "name": "stdout",
     "output_type": "stream",
     "text": [
      "tensor(0.1605, device='cuda:0', grad_fn=<NllLossBackward>)\n",
      "0.16054143011569977\n"
     ]
    },
    {
     "name": "stderr",
     "output_type": "stream",
     "text": [
      "\n",
      "Iteration:  81%|████████████████████████████████████████████████████████▏            | 338/415 [04:57<01:08,  1.13it/s]\u001b[A"
     ]
    },
    {
     "name": "stdout",
     "output_type": "stream",
     "text": [
      "tensor(0.2123, device='cuda:0', grad_fn=<NllLossBackward>)\n",
      "0.21231722831726074\n"
     ]
    },
    {
     "name": "stderr",
     "output_type": "stream",
     "text": [
      "\n",
      "Iteration:  82%|████████████████████████████████████████████████████████▎            | 339/415 [04:58<01:05,  1.15it/s]\u001b[A"
     ]
    },
    {
     "name": "stdout",
     "output_type": "stream",
     "text": [
      "tensor(0.2321, device='cuda:0', grad_fn=<NllLossBackward>)\n",
      "0.23208852112293243\n"
     ]
    },
    {
     "name": "stderr",
     "output_type": "stream",
     "text": [
      "\n",
      "Iteration:  82%|████████████████████████████████████████████████████████▌            | 340/415 [04:59<01:03,  1.18it/s]\u001b[A"
     ]
    },
    {
     "name": "stdout",
     "output_type": "stream",
     "text": [
      "tensor(0.2710, device='cuda:0', grad_fn=<NllLossBackward>)\n",
      "0.2710130512714386\n"
     ]
    },
    {
     "name": "stderr",
     "output_type": "stream",
     "text": [
      "\n",
      "Iteration:  82%|████████████████████████████████████████████████████████▋            | 341/415 [05:00<01:03,  1.16it/s]\u001b[A"
     ]
    },
    {
     "name": "stdout",
     "output_type": "stream",
     "text": [
      "tensor(0.0792, device='cuda:0', grad_fn=<NllLossBackward>)\n",
      "0.07916257530450821\n"
     ]
    },
    {
     "name": "stderr",
     "output_type": "stream",
     "text": [
      "\n",
      "Iteration:  82%|████████████████████████████████████████████████████████▊            | 342/415 [05:00<01:04,  1.13it/s]\u001b[A"
     ]
    },
    {
     "name": "stdout",
     "output_type": "stream",
     "text": [
      "tensor(0.3423, device='cuda:0', grad_fn=<NllLossBackward>)\n",
      "0.34233805537223816\n"
     ]
    },
    {
     "name": "stderr",
     "output_type": "stream",
     "text": [
      "\n",
      "Iteration:  83%|█████████████████████████████████████████████████████████            | 343/415 [05:01<01:04,  1.12it/s]\u001b[A"
     ]
    },
    {
     "name": "stdout",
     "output_type": "stream",
     "text": [
      "tensor(0.2624, device='cuda:0', grad_fn=<NllLossBackward>)\n",
      "0.2623636722564697\n"
     ]
    },
    {
     "name": "stderr",
     "output_type": "stream",
     "text": [
      "\n",
      "Iteration:  83%|█████████████████████████████████████████████████████████▏           | 344/415 [05:02<01:03,  1.13it/s]\u001b[A"
     ]
    },
    {
     "name": "stdout",
     "output_type": "stream",
     "text": [
      "tensor(0.3516, device='cuda:0', grad_fn=<NllLossBackward>)\n",
      "0.35156506299972534\n"
     ]
    },
    {
     "name": "stderr",
     "output_type": "stream",
     "text": [
      "\n",
      "Iteration:  83%|█████████████████████████████████████████████████████████▎           | 345/415 [05:03<01:02,  1.13it/s]\u001b[A"
     ]
    },
    {
     "name": "stdout",
     "output_type": "stream",
     "text": [
      "tensor(0.1618, device='cuda:0', grad_fn=<NllLossBackward>)\n",
      "0.1618008315563202\n"
     ]
    },
    {
     "name": "stderr",
     "output_type": "stream",
     "text": [
      "\n",
      "Iteration:  83%|█████████████████████████████████████████████████████████▌           | 346/415 [05:04<00:59,  1.16it/s]\u001b[A"
     ]
    },
    {
     "name": "stdout",
     "output_type": "stream",
     "text": [
      "tensor(0.1417, device='cuda:0', grad_fn=<NllLossBackward>)\n",
      "0.1417330801486969\n"
     ]
    },
    {
     "name": "stderr",
     "output_type": "stream",
     "text": [
      "\n",
      "Iteration:  84%|█████████████████████████████████████████████████████████▋           | 347/415 [05:05<00:59,  1.14it/s]\u001b[A"
     ]
    },
    {
     "name": "stdout",
     "output_type": "stream",
     "text": [
      "tensor(0.1700, device='cuda:0', grad_fn=<NllLossBackward>)\n",
      "0.16995909810066223\n"
     ]
    },
    {
     "name": "stderr",
     "output_type": "stream",
     "text": [
      "\n",
      "Iteration:  84%|█████████████████████████████████████████████████████████▊           | 348/415 [05:06<00:58,  1.15it/s]\u001b[A"
     ]
    },
    {
     "name": "stdout",
     "output_type": "stream",
     "text": [
      "tensor(0.1277, device='cuda:0', grad_fn=<NllLossBackward>)\n",
      "0.1276804804801941\n"
     ]
    },
    {
     "name": "stderr",
     "output_type": "stream",
     "text": [
      "\n",
      "Iteration:  84%|██████████████████████████████████████████████████████████           | 349/415 [05:07<00:58,  1.13it/s]\u001b[A"
     ]
    },
    {
     "name": "stdout",
     "output_type": "stream",
     "text": [
      "tensor(0.1804, device='cuda:0', grad_fn=<NllLossBackward>)\n",
      "0.18041867017745972\n"
     ]
    },
    {
     "name": "stderr",
     "output_type": "stream",
     "text": [
      "\n",
      "Iteration:  84%|██████████████████████████████████████████████████████████▏          | 350/415 [05:08<00:56,  1.15it/s]\u001b[A"
     ]
    },
    {
     "name": "stdout",
     "output_type": "stream",
     "text": [
      "tensor(0.2447, device='cuda:0', grad_fn=<NllLossBackward>)\n",
      "0.2446604073047638\n"
     ]
    },
    {
     "name": "stderr",
     "output_type": "stream",
     "text": [
      "\n",
      "Iteration:  85%|██████████████████████████████████████████████████████████▎          | 351/415 [05:08<00:56,  1.13it/s]\u001b[A"
     ]
    },
    {
     "name": "stdout",
     "output_type": "stream",
     "text": [
      "tensor(0.3102, device='cuda:0', grad_fn=<NllLossBackward>)\n",
      "0.31017717719078064\n"
     ]
    },
    {
     "name": "stderr",
     "output_type": "stream",
     "text": [
      "\n",
      "Iteration:  85%|██████████████████████████████████████████████████████████▌          | 352/415 [05:09<00:57,  1.09it/s]\u001b[A"
     ]
    },
    {
     "name": "stdout",
     "output_type": "stream",
     "text": [
      "tensor(0.1820, device='cuda:0', grad_fn=<NllLossBackward>)\n",
      "0.1819998025894165\n"
     ]
    },
    {
     "name": "stderr",
     "output_type": "stream",
     "text": [
      "\n",
      "Iteration:  85%|██████████████████████████████████████████████████████████▋          | 353/415 [05:10<00:56,  1.11it/s]\u001b[A"
     ]
    },
    {
     "name": "stdout",
     "output_type": "stream",
     "text": [
      "tensor(0.3474, device='cuda:0', grad_fn=<NllLossBackward>)\n",
      "0.3474048376083374\n"
     ]
    },
    {
     "name": "stderr",
     "output_type": "stream",
     "text": [
      "\n",
      "Iteration:  85%|██████████████████████████████████████████████████████████▊          | 354/415 [05:11<00:54,  1.12it/s]\u001b[A"
     ]
    },
    {
     "name": "stdout",
     "output_type": "stream",
     "text": [
      "tensor(0.2337, device='cuda:0', grad_fn=<NllLossBackward>)\n",
      "0.23374390602111816\n"
     ]
    },
    {
     "name": "stderr",
     "output_type": "stream",
     "text": [
      "\n",
      "Iteration:  86%|███████████████████████████████████████████████████████████          | 355/415 [05:12<00:52,  1.14it/s]\u001b[A"
     ]
    },
    {
     "name": "stdout",
     "output_type": "stream",
     "text": [
      "tensor(0.1283, device='cuda:0', grad_fn=<NllLossBackward>)\n",
      "0.1283121109008789\n"
     ]
    },
    {
     "name": "stderr",
     "output_type": "stream",
     "text": [
      "\n",
      "Iteration:  86%|███████████████████████████████████████████████████████████▏         | 356/415 [05:13<00:51,  1.14it/s]\u001b[A"
     ]
    },
    {
     "name": "stdout",
     "output_type": "stream",
     "text": [
      "tensor(0.2512, device='cuda:0', grad_fn=<NllLossBackward>)\n",
      "0.2512197494506836\n"
     ]
    },
    {
     "name": "stderr",
     "output_type": "stream",
     "text": [
      "\n",
      "Iteration:  86%|███████████████████████████████████████████████████████████▎         | 357/415 [05:14<00:50,  1.15it/s]\u001b[A"
     ]
    },
    {
     "name": "stdout",
     "output_type": "stream",
     "text": [
      "tensor(0.2547, device='cuda:0', grad_fn=<NllLossBackward>)\n",
      "0.2546819746494293\n"
     ]
    },
    {
     "name": "stderr",
     "output_type": "stream",
     "text": [
      "\n",
      "Iteration:  86%|███████████████████████████████████████████████████████████▌         | 358/415 [05:15<00:49,  1.16it/s]\u001b[A"
     ]
    },
    {
     "name": "stdout",
     "output_type": "stream",
     "text": [
      "tensor(0.2049, device='cuda:0', grad_fn=<NllLossBackward>)\n",
      "0.20493322610855103\n"
     ]
    },
    {
     "name": "stderr",
     "output_type": "stream",
     "text": [
      "\n",
      "Iteration:  87%|███████████████████████████████████████████████████████████▋         | 359/415 [05:15<00:48,  1.15it/s]\u001b[A"
     ]
    },
    {
     "name": "stdout",
     "output_type": "stream",
     "text": [
      "tensor(0.2569, device='cuda:0', grad_fn=<NllLossBackward>)\n",
      "0.25694704055786133\n"
     ]
    },
    {
     "name": "stderr",
     "output_type": "stream",
     "text": [
      "\n",
      "Iteration:  87%|███████████████████████████████████████████████████████████▊         | 360/415 [05:16<00:47,  1.15it/s]\u001b[A"
     ]
    },
    {
     "name": "stdout",
     "output_type": "stream",
     "text": [
      "tensor(0.0887, device='cuda:0', grad_fn=<NllLossBackward>)\n",
      "0.0886533260345459\n"
     ]
    },
    {
     "name": "stderr",
     "output_type": "stream",
     "text": [
      "\n",
      "Iteration:  87%|████████████████████████████████████████████████████████████         | 361/415 [05:17<00:46,  1.17it/s]\u001b[A"
     ]
    },
    {
     "name": "stdout",
     "output_type": "stream",
     "text": [
      "tensor(0.3518, device='cuda:0', grad_fn=<NllLossBackward>)\n",
      "0.351777583360672\n"
     ]
    },
    {
     "name": "stderr",
     "output_type": "stream",
     "text": [
      "\n",
      "Iteration:  87%|████████████████████████████████████████████████████████████▏        | 362/415 [05:18<00:50,  1.05it/s]\u001b[A"
     ]
    },
    {
     "name": "stdout",
     "output_type": "stream",
     "text": [
      "tensor(0.4171, device='cuda:0', grad_fn=<NllLossBackward>)\n",
      "0.41706886887550354\n"
     ]
    },
    {
     "name": "stderr",
     "output_type": "stream",
     "text": [
      "\n",
      "Iteration:  87%|████████████████████████████████████████████████████████████▎        | 363/415 [05:19<00:47,  1.09it/s]\u001b[A"
     ]
    },
    {
     "name": "stdout",
     "output_type": "stream",
     "text": [
      "tensor(0.0785, device='cuda:0', grad_fn=<NllLossBackward>)\n",
      "0.07848338782787323\n"
     ]
    },
    {
     "name": "stderr",
     "output_type": "stream",
     "text": [
      "\n",
      "Iteration:  88%|████████████████████████████████████████████████████████████▌        | 364/415 [05:20<00:45,  1.11it/s]\u001b[A"
     ]
    },
    {
     "name": "stdout",
     "output_type": "stream",
     "text": [
      "tensor(0.2881, device='cuda:0', grad_fn=<NllLossBackward>)\n",
      "0.2880634665489197\n"
     ]
    },
    {
     "name": "stderr",
     "output_type": "stream",
     "text": [
      "\n",
      "Iteration:  88%|████████████████████████████████████████████████████████████▋        | 365/415 [05:21<00:43,  1.14it/s]\u001b[A"
     ]
    },
    {
     "name": "stdout",
     "output_type": "stream",
     "text": [
      "tensor(0.3628, device='cuda:0', grad_fn=<NllLossBackward>)\n",
      "0.3627932071685791\n"
     ]
    },
    {
     "name": "stderr",
     "output_type": "stream",
     "text": [
      "\n",
      "Iteration:  88%|████████████████████████████████████████████████████████████▊        | 366/415 [05:22<00:48,  1.01it/s]\u001b[A"
     ]
    },
    {
     "name": "stdout",
     "output_type": "stream",
     "text": [
      "tensor(0.2248, device='cuda:0', grad_fn=<NllLossBackward>)\n",
      "0.22482222318649292\n"
     ]
    },
    {
     "name": "stderr",
     "output_type": "stream",
     "text": [
      "\n",
      "Iteration:  88%|█████████████████████████████████████████████████████████████        | 367/415 [05:23<00:45,  1.06it/s]\u001b[A"
     ]
    },
    {
     "name": "stdout",
     "output_type": "stream",
     "text": [
      "tensor(0.2079, device='cuda:0', grad_fn=<NllLossBackward>)\n",
      "0.2079346626996994\n"
     ]
    },
    {
     "name": "stderr",
     "output_type": "stream",
     "text": [
      "\n",
      "Iteration:  89%|█████████████████████████████████████████████████████████████▏       | 368/415 [05:24<00:43,  1.09it/s]\u001b[A"
     ]
    },
    {
     "name": "stdout",
     "output_type": "stream",
     "text": [
      "tensor(0.2962, device='cuda:0', grad_fn=<NllLossBackward>)\n",
      "0.29623159766197205\n"
     ]
    },
    {
     "name": "stderr",
     "output_type": "stream",
     "text": [
      "\n",
      "Iteration:  89%|█████████████████████████████████████████████████████████████▎       | 369/415 [05:25<00:41,  1.11it/s]\u001b[A"
     ]
    },
    {
     "name": "stdout",
     "output_type": "stream",
     "text": [
      "tensor(0.4056, device='cuda:0', grad_fn=<NllLossBackward>)\n",
      "0.4056089222431183\n"
     ]
    },
    {
     "name": "stderr",
     "output_type": "stream",
     "text": [
      "\n",
      "Iteration:  89%|█████████████████████████████████████████████████████████████▌       | 370/415 [05:26<00:40,  1.12it/s]\u001b[A"
     ]
    },
    {
     "name": "stdout",
     "output_type": "stream",
     "text": [
      "tensor(0.1851, device='cuda:0', grad_fn=<NllLossBackward>)\n",
      "0.18513010442256927\n"
     ]
    },
    {
     "name": "stderr",
     "output_type": "stream",
     "text": [
      "\n",
      "Iteration:  89%|█████████████████████████████████████████████████████████████▋       | 371/415 [05:26<00:39,  1.11it/s]\u001b[A"
     ]
    },
    {
     "name": "stdout",
     "output_type": "stream",
     "text": [
      "tensor(0.2733, device='cuda:0', grad_fn=<NllLossBackward>)\n",
      "0.2732633352279663\n"
     ]
    },
    {
     "name": "stderr",
     "output_type": "stream",
     "text": [
      "\n",
      "Iteration:  90%|█████████████████████████████████████████████████████████████▊       | 372/415 [05:27<00:38,  1.11it/s]\u001b[A"
     ]
    },
    {
     "name": "stdout",
     "output_type": "stream",
     "text": [
      "tensor(0.2401, device='cuda:0', grad_fn=<NllLossBackward>)\n",
      "0.2400650978088379\n"
     ]
    },
    {
     "name": "stderr",
     "output_type": "stream",
     "text": [
      "\n",
      "Iteration:  90%|██████████████████████████████████████████████████████████████       | 373/415 [05:28<00:37,  1.13it/s]\u001b[A"
     ]
    },
    {
     "name": "stdout",
     "output_type": "stream",
     "text": [
      "tensor(0.2019, device='cuda:0', grad_fn=<NllLossBackward>)\n",
      "0.20187801122665405\n"
     ]
    },
    {
     "name": "stderr",
     "output_type": "stream",
     "text": [
      "\n",
      "Iteration:  90%|██████████████████████████████████████████████████████████████▏      | 374/415 [05:29<00:35,  1.14it/s]\u001b[A"
     ]
    },
    {
     "name": "stdout",
     "output_type": "stream",
     "text": [
      "tensor(0.0936, device='cuda:0', grad_fn=<NllLossBackward>)\n",
      "0.09357937425374985\n"
     ]
    },
    {
     "name": "stderr",
     "output_type": "stream",
     "text": [
      "\n",
      "Iteration:  90%|██████████████████████████████████████████████████████████████▎      | 375/415 [05:30<00:34,  1.15it/s]\u001b[A"
     ]
    },
    {
     "name": "stdout",
     "output_type": "stream",
     "text": [
      "tensor(0.2120, device='cuda:0', grad_fn=<NllLossBackward>)\n",
      "0.21198870241641998\n"
     ]
    },
    {
     "name": "stderr",
     "output_type": "stream",
     "text": [
      "\n",
      "Iteration:  91%|██████████████████████████████████████████████████████████████▌      | 376/415 [05:31<00:35,  1.11it/s]\u001b[A"
     ]
    },
    {
     "name": "stdout",
     "output_type": "stream",
     "text": [
      "tensor(0.1627, device='cuda:0', grad_fn=<NllLossBackward>)\n",
      "0.16270869970321655\n"
     ]
    },
    {
     "name": "stderr",
     "output_type": "stream",
     "text": [
      "\n",
      "Iteration:  91%|██████████████████████████████████████████████████████████████▋      | 377/415 [05:32<00:36,  1.05it/s]\u001b[A"
     ]
    },
    {
     "name": "stdout",
     "output_type": "stream",
     "text": [
      "tensor(0.1213, device='cuda:0', grad_fn=<NllLossBackward>)\n",
      "0.12128091603517532\n"
     ]
    },
    {
     "name": "stderr",
     "output_type": "stream",
     "text": [
      "\n",
      "Iteration:  91%|██████████████████████████████████████████████████████████████▊      | 378/415 [05:33<00:33,  1.10it/s]\u001b[A"
     ]
    },
    {
     "name": "stdout",
     "output_type": "stream",
     "text": [
      "tensor(0.1331, device='cuda:0', grad_fn=<NllLossBackward>)\n",
      "0.13308203220367432\n"
     ]
    },
    {
     "name": "stderr",
     "output_type": "stream",
     "text": [
      "\n",
      "Iteration:  91%|███████████████████████████████████████████████████████████████      | 379/415 [05:34<00:32,  1.11it/s]\u001b[A"
     ]
    },
    {
     "name": "stdout",
     "output_type": "stream",
     "text": [
      "tensor(0.2497, device='cuda:0', grad_fn=<NllLossBackward>)\n",
      "0.24974222481250763\n"
     ]
    },
    {
     "name": "stderr",
     "output_type": "stream",
     "text": [
      "\n",
      "Iteration:  92%|███████████████████████████████████████████████████████████████▏     | 380/415 [05:34<00:30,  1.13it/s]\u001b[A"
     ]
    },
    {
     "name": "stdout",
     "output_type": "stream",
     "text": [
      "tensor(0.1836, device='cuda:0', grad_fn=<NllLossBackward>)\n",
      "0.1835961490869522\n"
     ]
    },
    {
     "name": "stderr",
     "output_type": "stream",
     "text": [
      "\n",
      "Iteration:  92%|███████████████████████████████████████████████████████████████▎     | 381/415 [05:35<00:29,  1.16it/s]\u001b[A"
     ]
    },
    {
     "name": "stdout",
     "output_type": "stream",
     "text": [
      "tensor(0.1223, device='cuda:0', grad_fn=<NllLossBackward>)\n",
      "0.12230357527732849\n"
     ]
    },
    {
     "name": "stderr",
     "output_type": "stream",
     "text": [
      "\n",
      "Iteration:  92%|███████████████████████████████████████████████████████████████▌     | 382/415 [05:36<00:28,  1.17it/s]\u001b[A"
     ]
    },
    {
     "name": "stdout",
     "output_type": "stream",
     "text": [
      "tensor(0.2562, device='cuda:0', grad_fn=<NllLossBackward>)\n",
      "0.2562367916107178\n"
     ]
    },
    {
     "name": "stderr",
     "output_type": "stream",
     "text": [
      "\n",
      "Iteration:  92%|███████████████████████████████████████████████████████████████▋     | 383/415 [05:37<00:27,  1.18it/s]\u001b[A"
     ]
    },
    {
     "name": "stdout",
     "output_type": "stream",
     "text": [
      "tensor(0.2711, device='cuda:0', grad_fn=<NllLossBackward>)\n",
      "0.27106618881225586\n"
     ]
    },
    {
     "name": "stderr",
     "output_type": "stream",
     "text": [
      "\n",
      "Iteration:  93%|███████████████████████████████████████████████████████████████▊     | 384/415 [05:38<00:26,  1.18it/s]\u001b[A"
     ]
    },
    {
     "name": "stdout",
     "output_type": "stream",
     "text": [
      "tensor(0.2022, device='cuda:0', grad_fn=<NllLossBackward>)\n",
      "0.2021646946668625\n"
     ]
    },
    {
     "name": "stderr",
     "output_type": "stream",
     "text": [
      "\n",
      "Iteration:  93%|████████████████████████████████████████████████████████████████     | 385/415 [05:39<00:25,  1.18it/s]\u001b[A"
     ]
    },
    {
     "name": "stdout",
     "output_type": "stream",
     "text": [
      "tensor(0.0848, device='cuda:0', grad_fn=<NllLossBackward>)\n",
      "0.0848376452922821\n"
     ]
    },
    {
     "name": "stderr",
     "output_type": "stream",
     "text": [
      "\n",
      "Iteration:  93%|████████████████████████████████████████████████████████████████▏    | 386/415 [05:40<00:25,  1.13it/s]\u001b[A"
     ]
    },
    {
     "name": "stdout",
     "output_type": "stream",
     "text": [
      "tensor(0.3647, device='cuda:0', grad_fn=<NllLossBackward>)\n",
      "0.36467933654785156\n"
     ]
    },
    {
     "name": "stderr",
     "output_type": "stream",
     "text": [
      "\n",
      "Iteration:  93%|████████████████████████████████████████████████████████████████▎    | 387/415 [05:40<00:24,  1.15it/s]\u001b[A"
     ]
    },
    {
     "name": "stdout",
     "output_type": "stream",
     "text": [
      "tensor(0.1717, device='cuda:0', grad_fn=<NllLossBackward>)\n",
      "0.17170487344264984\n"
     ]
    },
    {
     "name": "stderr",
     "output_type": "stream",
     "text": [
      "\n",
      "Iteration:  93%|████████████████████████████████████████████████████████████████▌    | 388/415 [05:41<00:23,  1.14it/s]\u001b[A"
     ]
    },
    {
     "name": "stdout",
     "output_type": "stream",
     "text": [
      "tensor(0.1547, device='cuda:0', grad_fn=<NllLossBackward>)\n",
      "0.1546763777732849\n"
     ]
    },
    {
     "name": "stderr",
     "output_type": "stream",
     "text": [
      "\n",
      "Iteration:  94%|████████████████████████████████████████████████████████████████▋    | 389/415 [05:42<00:23,  1.13it/s]\u001b[A"
     ]
    },
    {
     "name": "stdout",
     "output_type": "stream",
     "text": [
      "tensor(0.1962, device='cuda:0', grad_fn=<NllLossBackward>)\n",
      "0.19615288078784943\n"
     ]
    },
    {
     "name": "stderr",
     "output_type": "stream",
     "text": [
      "\n",
      "Iteration:  94%|████████████████████████████████████████████████████████████████▊    | 390/415 [05:43<00:21,  1.14it/s]\u001b[A"
     ]
    },
    {
     "name": "stdout",
     "output_type": "stream",
     "text": [
      "tensor(0.2264, device='cuda:0', grad_fn=<NllLossBackward>)\n",
      "0.22642453014850616\n"
     ]
    },
    {
     "name": "stderr",
     "output_type": "stream",
     "text": [
      "\n",
      "Iteration:  94%|█████████████████████████████████████████████████████████████████    | 391/415 [05:44<00:20,  1.16it/s]\u001b[A"
     ]
    },
    {
     "name": "stdout",
     "output_type": "stream",
     "text": [
      "tensor(0.1436, device='cuda:0', grad_fn=<NllLossBackward>)\n",
      "0.1436375081539154\n"
     ]
    },
    {
     "name": "stderr",
     "output_type": "stream",
     "text": [
      "\n",
      "Iteration:  94%|█████████████████████████████████████████████████████████████████▏   | 392/415 [05:45<00:19,  1.17it/s]\u001b[A"
     ]
    },
    {
     "name": "stdout",
     "output_type": "stream",
     "text": [
      "tensor(0.3806, device='cuda:0', grad_fn=<NllLossBackward>)\n",
      "0.3805752694606781\n"
     ]
    },
    {
     "name": "stderr",
     "output_type": "stream",
     "text": [
      "\n",
      "Iteration:  95%|█████████████████████████████████████████████████████████████████▎   | 393/415 [05:46<00:18,  1.16it/s]\u001b[A"
     ]
    },
    {
     "name": "stdout",
     "output_type": "stream",
     "text": [
      "tensor(0.2167, device='cuda:0', grad_fn=<NllLossBackward>)\n",
      "0.2166663110256195\n"
     ]
    },
    {
     "name": "stderr",
     "output_type": "stream",
     "text": [
      "\n",
      "Iteration:  95%|█████████████████████████████████████████████████████████████████▌   | 394/415 [05:47<00:18,  1.12it/s]\u001b[A"
     ]
    },
    {
     "name": "stdout",
     "output_type": "stream",
     "text": [
      "tensor(0.1364, device='cuda:0', grad_fn=<NllLossBackward>)\n",
      "0.13643783330917358\n"
     ]
    },
    {
     "name": "stderr",
     "output_type": "stream",
     "text": [
      "\n",
      "Iteration:  95%|█████████████████████████████████████████████████████████████████▋   | 395/415 [05:47<00:17,  1.15it/s]\u001b[A"
     ]
    },
    {
     "name": "stdout",
     "output_type": "stream",
     "text": [
      "tensor(0.2347, device='cuda:0', grad_fn=<NllLossBackward>)\n",
      "0.2347002625465393\n"
     ]
    },
    {
     "name": "stderr",
     "output_type": "stream",
     "text": [
      "\n",
      "Iteration:  95%|█████████████████████████████████████████████████████████████████▊   | 396/415 [05:48<00:17,  1.11it/s]\u001b[A"
     ]
    },
    {
     "name": "stdout",
     "output_type": "stream",
     "text": [
      "tensor(0.1914, device='cuda:0', grad_fn=<NllLossBackward>)\n",
      "0.19144225120544434\n"
     ]
    },
    {
     "name": "stderr",
     "output_type": "stream",
     "text": [
      "\n",
      "Iteration:  96%|██████████████████████████████████████████████████████████████████   | 397/415 [05:49<00:15,  1.14it/s]\u001b[A"
     ]
    },
    {
     "name": "stdout",
     "output_type": "stream",
     "text": [
      "tensor(0.2501, device='cuda:0', grad_fn=<NllLossBackward>)\n",
      "0.25014305114746094\n"
     ]
    },
    {
     "name": "stderr",
     "output_type": "stream",
     "text": [
      "\n",
      "Iteration:  96%|██████████████████████████████████████████████████████████████████▏  | 398/415 [05:50<00:14,  1.14it/s]\u001b[A"
     ]
    },
    {
     "name": "stdout",
     "output_type": "stream",
     "text": [
      "tensor(0.2197, device='cuda:0', grad_fn=<NllLossBackward>)\n",
      "0.219719797372818\n"
     ]
    },
    {
     "name": "stderr",
     "output_type": "stream",
     "text": [
      "\n",
      "Iteration:  96%|██████████████████████████████████████████████████████████████████▎  | 399/415 [05:51<00:14,  1.14it/s]\u001b[A"
     ]
    },
    {
     "name": "stdout",
     "output_type": "stream",
     "text": [
      "tensor(0.1479, device='cuda:0', grad_fn=<NllLossBackward>)\n",
      "0.14787043631076813\n"
     ]
    },
    {
     "name": "stderr",
     "output_type": "stream",
     "text": [
      "\n",
      "Iteration:  96%|██████████████████████████████████████████████████████████████████▌  | 400/415 [05:52<00:13,  1.13it/s]\u001b[A"
     ]
    },
    {
     "name": "stdout",
     "output_type": "stream",
     "text": [
      "tensor(0.2088, device='cuda:0', grad_fn=<NllLossBackward>)\n",
      "0.20881740748882294\n"
     ]
    },
    {
     "name": "stderr",
     "output_type": "stream",
     "text": [
      "\n",
      "Iteration:  97%|██████████████████████████████████████████████████████████████████▋  | 401/415 [05:53<00:12,  1.14it/s]\u001b[A"
     ]
    },
    {
     "name": "stdout",
     "output_type": "stream",
     "text": [
      "tensor(0.2913, device='cuda:0', grad_fn=<NllLossBackward>)\n",
      "0.2912907898426056\n"
     ]
    },
    {
     "name": "stderr",
     "output_type": "stream",
     "text": [
      "\n",
      "Iteration:  97%|██████████████████████████████████████████████████████████████████▊  | 402/415 [05:54<00:11,  1.16it/s]\u001b[A"
     ]
    },
    {
     "name": "stdout",
     "output_type": "stream",
     "text": [
      "tensor(0.3479, device='cuda:0', grad_fn=<NllLossBackward>)\n",
      "0.3479193150997162\n"
     ]
    },
    {
     "name": "stderr",
     "output_type": "stream",
     "text": [
      "\n",
      "Iteration:  97%|███████████████████████████████████████████████████████████████████  | 403/415 [05:55<00:10,  1.10it/s]\u001b[A"
     ]
    },
    {
     "name": "stdout",
     "output_type": "stream",
     "text": [
      "tensor(0.1288, device='cuda:0', grad_fn=<NllLossBackward>)\n",
      "0.12881827354431152\n"
     ]
    },
    {
     "name": "stderr",
     "output_type": "stream",
     "text": [
      "\n",
      "Iteration:  97%|███████████████████████████████████████████████████████████████████▏ | 404/415 [05:56<00:10,  1.08it/s]\u001b[A"
     ]
    },
    {
     "name": "stdout",
     "output_type": "stream",
     "text": [
      "tensor(0.0984, device='cuda:0', grad_fn=<NllLossBackward>)\n",
      "0.09836570173501968\n"
     ]
    },
    {
     "name": "stderr",
     "output_type": "stream",
     "text": [
      "\n",
      "Iteration:  98%|███████████████████████████████████████████████████████████████████▎ | 405/415 [05:56<00:08,  1.12it/s]\u001b[A"
     ]
    },
    {
     "name": "stdout",
     "output_type": "stream",
     "text": [
      "tensor(0.2049, device='cuda:0', grad_fn=<NllLossBackward>)\n",
      "0.20486387610435486\n"
     ]
    },
    {
     "name": "stderr",
     "output_type": "stream",
     "text": [
      "\n",
      "Iteration:  98%|███████████████████████████████████████████████████████████████████▌ | 406/415 [05:57<00:07,  1.13it/s]\u001b[A"
     ]
    },
    {
     "name": "stdout",
     "output_type": "stream",
     "text": [
      "tensor(0.2941, device='cuda:0', grad_fn=<NllLossBackward>)\n",
      "0.2941439747810364\n"
     ]
    },
    {
     "name": "stderr",
     "output_type": "stream",
     "text": [
      "\n",
      "Iteration:  98%|███████████████████████████████████████████████████████████████████▋ | 407/415 [05:58<00:06,  1.15it/s]\u001b[A"
     ]
    },
    {
     "name": "stdout",
     "output_type": "stream",
     "text": [
      "tensor(0.2020, device='cuda:0', grad_fn=<NllLossBackward>)\n",
      "0.20199891924858093\n"
     ]
    },
    {
     "name": "stderr",
     "output_type": "stream",
     "text": [
      "\n",
      "Iteration:  98%|███████████████████████████████████████████████████████████████████▊ | 408/415 [05:59<00:06,  1.16it/s]\u001b[A"
     ]
    },
    {
     "name": "stdout",
     "output_type": "stream",
     "text": [
      "tensor(0.4298, device='cuda:0', grad_fn=<NllLossBackward>)\n",
      "0.4298105835914612\n"
     ]
    },
    {
     "name": "stderr",
     "output_type": "stream",
     "text": [
      "\n",
      "Iteration:  99%|████████████████████████████████████████████████████████████████████ | 409/415 [06:00<00:05,  1.16it/s]\u001b[A"
     ]
    },
    {
     "name": "stdout",
     "output_type": "stream",
     "text": [
      "tensor(0.1403, device='cuda:0', grad_fn=<NllLossBackward>)\n",
      "0.14030857384204865\n"
     ]
    },
    {
     "name": "stderr",
     "output_type": "stream",
     "text": [
      "\n",
      "Iteration:  99%|████████████████████████████████████████████████████████████████████▏| 410/415 [06:01<00:04,  1.14it/s]\u001b[A"
     ]
    },
    {
     "name": "stdout",
     "output_type": "stream",
     "text": [
      "tensor(0.1495, device='cuda:0', grad_fn=<NllLossBackward>)\n",
      "0.14950695633888245\n"
     ]
    },
    {
     "name": "stderr",
     "output_type": "stream",
     "text": [
      "\n",
      "Iteration:  99%|████████████████████████████████████████████████████████████████████▎| 411/415 [06:02<00:03,  1.14it/s]\u001b[A"
     ]
    },
    {
     "name": "stdout",
     "output_type": "stream",
     "text": [
      "tensor(0.0638, device='cuda:0', grad_fn=<NllLossBackward>)\n",
      "0.06377135962247849\n"
     ]
    },
    {
     "name": "stderr",
     "output_type": "stream",
     "text": [
      "\n",
      "Iteration:  99%|████████████████████████████████████████████████████████████████████▌| 412/415 [06:02<00:02,  1.14it/s]\u001b[A"
     ]
    },
    {
     "name": "stdout",
     "output_type": "stream",
     "text": [
      "tensor(0.1920, device='cuda:0', grad_fn=<NllLossBackward>)\n",
      "0.19201606512069702\n"
     ]
    },
    {
     "name": "stderr",
     "output_type": "stream",
     "text": [
      "\n",
      "Iteration: 100%|████████████████████████████████████████████████████████████████████▋| 413/415 [06:03<00:01,  1.13it/s]\u001b[A"
     ]
    },
    {
     "name": "stdout",
     "output_type": "stream",
     "text": [
      "tensor(0.5178, device='cuda:0', grad_fn=<NllLossBackward>)\n",
      "0.5178437829017639\n"
     ]
    },
    {
     "name": "stderr",
     "output_type": "stream",
     "text": [
      "\n",
      "Iteration: 100%|████████████████████████████████████████████████████████████████████▊| 414/415 [06:04<00:00,  1.15it/s]\u001b[A"
     ]
    },
    {
     "name": "stdout",
     "output_type": "stream",
     "text": [
      "tensor(0.1020, device='cuda:0', grad_fn=<NllLossBackward>)\n",
      "0.10197137296199799\n"
     ]
    },
    {
     "name": "stderr",
     "output_type": "stream",
     "text": [
      "\n",
      "Iteration: 100%|█████████████████████████████████████████████████████████████████████| 415/415 [06:05<00:00,  1.14it/s]\u001b[A\n",
      "Epoch: 100%|████████████████████████████████████████████████████████████████████████████| 3/3 [17:15<00:00, 345.26s/it]\n"
     ]
    }
   ],
   "source": [
    "model.train()\n",
    "for _ in trange(int(num_train_epochs), desc=\"Epoch\"):\n",
    "    tr_loss = 0\n",
    "    nb_tr_examples, nb_tr_steps = 0, 0\n",
    "    for step, batch in enumerate(tqdm(train_dataloader, desc=\"Iteration\")):\n",
    "        batch = tuple(t.to(device) for t in batch)\n",
    "        input_ids, input_mask, segment_ids, label_ids = batch\n",
    "        loss = model(input_ids, segment_ids, input_mask, label_ids)\n",
    "#         cos_loss = model()\n",
    "#         cos_loss = torch.nn.CosineEmbeddingLoss()\n",
    "        \n",
    "        print(loss)\n",
    "        print(loss.item())\n",
    "        if n_gpu > 1:\n",
    "            loss = loss.mean() # mean() to average on multi-gpu.\n",
    "#         if fp16 and loss_scale != 1.0:\n",
    "#             # rescale loss for fp16 training\n",
    "#             # see https://docs.nvidia.com/deeplearning/sdk/mixed-precision-training/index.html\n",
    "#             loss = loss * loss_scale\n",
    "        if gradient_accumulation_steps > 1:\n",
    "            loss = loss / gradient_accumulation_steps\n",
    "        loss.backward()\n",
    "        \n",
    "        tr_loss += loss.item()\n",
    "        nb_tr_examples += input_ids.size(0)\n",
    "        nb_tr_steps += 1\n",
    "        if (step + 1) % gradient_accumulation_steps == 0:\n",
    "#             if fp16 or optimize_on_cpu:\n",
    "#                 if fp16 and loss_scale != 1.0:\n",
    "#                     # scale down gradients for fp16 training\n",
    "#                     for param in model.parameters():\n",
    "#                         if param.grad is not None:\n",
    "#                             param.grad.data = param.grad.data / loss_scale           \n",
    "#                 is_nan = set_optimizer_params_grad(param_optimizer, model.named_parameters(), test_nan=True)\n",
    "#                 if is_nan:\n",
    "#                     logger.info(\"FP16 TRAINING: Nan in gradients, reducing loss scaling\")\n",
    "#                     loss_scale = loss_scale / 2\n",
    "#                     model.zero_grad()\n",
    "#                     continue \n",
    "#                 optimizer.step()\n",
    "# #                 scheduler.step()\n",
    "#                 copy_optimizer_params_to_model(model.named_parameters(), param_optimizer)\n",
    "#             else:\n",
    "#                 torch.nn.utils.clip_grad_norm_(model.parameters(), max_grad_norm)\n",
    "            optimizer.step()\n",
    "#                 scheduler.step()\n",
    "            model.zero_grad()\n",
    "            global_step += 1\n",
    "\n",
    "torch.save(model.state_dict(), output_dir + \"dataExpantion.pth\")"
   ]
  },
  {
   "cell_type": "code",
   "execution_count": null,
   "metadata": {},
   "outputs": [],
   "source": []
  },
  {
   "cell_type": "code",
   "execution_count": 12,
   "metadata": {},
   "outputs": [],
   "source": [
    "import csv\n",
    "from pytorch_pretrained_bert.file_utils import PYTORCH_PRETRAINED_BERT_CACHE\n",
    "def train_and_test(data_dir, bert_model=\"bert-base-uncased\", task_name=None,\n",
    "                   output_dir=None, max_seq_length=32, do_train=False, do_eval=False, do_lower_case=False,\n",
    "                   train_batch_size=32, eval_batch_size=8, learning_rate=5e-5, num_train_epochs=3,\n",
    "                   warmup_proportion=0.1,no_cuda=False, local_rank=-1, seed=42, gradient_accumulation_steps=1,\n",
    "                   optimize_on_cpu=False, fp16=False, loss_scale=128, saved_model=\"\"):\n",
    "\n",
    "\n",
    "    # ## Required parameters\n",
    "    # parser.add_argument(\"--data_dir\",\n",
    "    #                     default=None,\n",
    "    #                     type=str,\n",
    "    #                     required=True,\n",
    "    #                     help=\"The input data dir. Should contain the .tsv files (or other data files) for the task.\")\n",
    "    # parser.add_argument(\"--bert_model\", default=None, type=str, required=True,\n",
    "    #                     help=\"Bert pre-trained model selected in the list: bert-base-uncased, \"\n",
    "    #                          \"bert-large-uncased, bert-base-cased, bert-base-multilingual, bert-base-chinese.\")\n",
    "    # parser.add_argument(\"--task_name\",\n",
    "    #                     default=None,\n",
    "    #                     type=str,\n",
    "    #                     required=True,\n",
    "    #                     help=\"The name of the task to train.\")\n",
    "    # parser.add_argument(\"--output_dir\",\n",
    "    #                     default=None,\n",
    "    #                     type=str,\n",
    "    #                     required=True,\n",
    "    #                     help=\"The output directory where the model checkpoints will be written.\")\n",
    "\n",
    "    ## Other parameters\n",
    "    # parser.add_argument(\"--max_seq_length\",\n",
    "    #                     default=128,\n",
    "    #                     type=int,\n",
    "    #                     help=\"The maximum total input sequence length after WordPiece tokenization. \\n\"\n",
    "    #                          \"Sequences longer than this will be truncated, and sequences shorter \\n\"\n",
    "    #                          \"than this will be padded.\")\n",
    "    # parser.add_argument(\"--do_train\",\n",
    "    #                     default=False,\n",
    "    #                     action='store_true',\n",
    "    #                     help=\"Whether to run training.\")\n",
    "    # parser.add_argument(\"--do_eval\",\n",
    "    #                     default=False,\n",
    "    #                     action='store_true',\n",
    "    #                     help=\"Whether to run eval on the dev set.\")\n",
    "    # parser.add_argument(\"--do_lower_case\",\n",
    "    #                     default=False,\n",
    "    #                     action='store_true',\n",
    "    #                     help=\"Set this flag if you are using an uncased model.\")\n",
    "    # parser.add_argument(\"--train_batch_size\",\n",
    "    #                     default=32,\n",
    "    #                     type=int,\n",
    "    #                     help=\"Total batch size for training.\")\n",
    "    # parser.add_argument(\"--eval_batch_size\",\n",
    "    #                     default=8,\n",
    "    #                     type=int,\n",
    "    #                     help=\"Total batch size for eval.\")\n",
    "    # parser.add_argument(\"--learning_rate\",\n",
    "    #                     default=5e-5,\n",
    "    #                     type=float,\n",
    "    #                     help=\"The initial learning rate for Adam.\")\n",
    "    # parser.add_argument(\"--num_train_epochs\",\n",
    "    #                     default=3.0,\n",
    "    #                     type=float,\n",
    "    #                     help=\"Total number of training epochs to perform.\")\n",
    "    # parser.add_argument(\"--warmup_proportion\",\n",
    "    #                     default=0.1,\n",
    "    #                     type=float,\n",
    "    #                     help=\"Proportion of training to perform linear learning rate warmup for. \"\n",
    "    #                          \"E.g., 0.1 = 10%% of training.\")\n",
    "    # parser.add_argument(\"--no_cuda\",\n",
    "    #                     default=False,\n",
    "    #                     action='store_true',\n",
    "    #                     help=\"Whether not to use CUDA when available\")\n",
    "    # parser.add_argument(\"--local_rank\",\n",
    "    #                     type=int,\n",
    "    #                     default=-1,\n",
    "    #                     help=\"local_rank for distributed training on gpus\")\n",
    "    # parser.add_argument('--seed',\n",
    "    #                     type=int,\n",
    "    #                     default=42,\n",
    "    #                     help=\"random seed for initialization\")\n",
    "    # parser.add_argument('--gradient_accumulation_steps',\n",
    "    #                     type=int,\n",
    "    #                     default=1,\n",
    "    #                     help=\"Number of updates steps to accumulate before performing a backward/update pass.\")\n",
    "    # parser.add_argument('--optimize_on_cpu',\n",
    "    #                     default=False,\n",
    "    #                     action='store_true',\n",
    "    #                     help=\"Whether to perform optimization and keep the optimizer averages on CPU\")\n",
    "    # parser.add_argument('--fp16',\n",
    "    #                     default=False,\n",
    "    #                     action='store_true',\n",
    "    #                     help=\"Whether to use 16-bit float precision instead of 32-bit\")\n",
    "    # parser.add_argument('--loss_scale',\n",
    "    #                     type=float, default=128,\n",
    "    #                     help='Loss scaling, positive power of 2 values can improve fp16 convergence.')\n",
    "\n",
    "    # args = parser.parse_args()\n",
    "\n",
    "    processors = {\n",
    "#         \"cola\": ColaProcessor,\n",
    "#         \"mnli\": MnliProcessor,\n",
    "        \"mrpc\": MrpcProcessor,\n",
    "    }\n",
    "\n",
    "    if local_rank == -1 or no_cuda:\n",
    "        device = torch.device(\"cuda\" if torch.cuda.is_available() and not no_cuda else \"cpu\")\n",
    "        n_gpu = torch.cuda.device_count()\n",
    "    else:\n",
    "        device = torch.device(\"cuda\", local_rank)\n",
    "        n_gpu = 1\n",
    "        # Initializes the distributed backend which will take care of sychronizing nodes/GPUs\n",
    "        torch.distributed.init_process_group(backend='nccl')\n",
    "        if fp16:\n",
    "            logger.info(\"16-bits training currently not supported in distributed training\")\n",
    "            fp16 = False # (see https://github.com/pytorch/pytorch/pull/13496)\n",
    "    logger.info(\"device %s n_gpu %d distributed training %r\", device, n_gpu, bool(local_rank != -1))\n",
    "\n",
    "    if gradient_accumulation_steps < 1:\n",
    "        raise ValueError(\"Invalid gradient_accumulation_steps parameter: {}, should be >= 1\".format(\n",
    "                            gradient_accumulation_steps))\n",
    "\n",
    "    train_batch_size = int(train_batch_size / gradient_accumulation_steps)\n",
    "\n",
    "    random.seed(seed)\n",
    "    np.random.seed(seed)\n",
    "    torch.manual_seed(seed)\n",
    "    if n_gpu > 0:\n",
    "        torch.cuda.manual_seed_all(seed)\n",
    "\n",
    "    if not do_train and not do_eval:\n",
    "        raise ValueError(\"At least one of `do_train` or `do_eval` must be True.\")\n",
    "\n",
    "    if do_train:\n",
    "        if os.path.exists(output_dir) and os.listdir(output_dir):\n",
    "            raise ValueError(\"Output directory ({}) already exists and is not emp1ty.\".format(output_dir))\n",
    "        os.makedirs(output_dir, exist_ok=True)\n",
    "\n",
    "    task_name = task_name.lower()\n",
    "\n",
    "    if task_name not in processors:\n",
    "        raise ValueError(\"Task not found: %s\" % (task_name))\n",
    "\n",
    "    processor = processors[task_name]()\n",
    "    label_list = processor.get_labels()\n",
    "\n",
    "    tokenizer = BertTokenizer.from_pretrained(bert_model, do_lower_case=do_lower_case)\n",
    "\n",
    "    train_examples = None\n",
    "    num_train_steps = None\n",
    "    if do_train:\n",
    "        train_examples = processor.get_train_examples(data_dir)\n",
    "        num_train_steps = int(\n",
    "            len(train_examples) / train_batch_size / gradient_accumulation_steps * num_train_epochs)\n",
    "\n",
    "    # Prepare model\n",
    "    model = BertForSequenceClassification.from_pretrained(bert_model,\n",
    "                cache_dir=PYTORCH_PRETRAINED_BERT_CACHE / 'distributed_{}'.format(local_rank), num_labels = 2)\n",
    "    if fp16:\n",
    "        model.half()\n",
    "    model.to(device)\n",
    "    if local_rank != -1:\n",
    "        model = torch.nn.parallel.DistributedDataParallel(model, device_ids=[local_rank],\n",
    "                                                          output_device=local_rank)\n",
    "    elif n_gpu > 1:\n",
    "        model = torch.nn.DataParallel(model)\n",
    "\n",
    "    # Prepare optimizer\n",
    "    if fp16:\n",
    "        param_optimizer = [(n, param.clone().detach().to('cpu').float().requires_grad_()) \\\n",
    "                            for n, param in model.named_parameters()]\n",
    "    elif optimize_on_cpu:\n",
    "        param_optimizer = [(n, param.clone().detach().to('cpu').requires_grad_()) \\\n",
    "                            for n, param in model.named_parameters()]\n",
    "    else:\n",
    "        param_optimizer = list(model.named_parameters())\n",
    "    no_decay = ['bias', 'gamma', 'beta']\n",
    "    optimizer_grouped_parameters = [\n",
    "        {'params': [p for n, p in param_optimizer if not any(nd in n for nd in no_decay)], 'weight_decay_rate': 0.01},\n",
    "        {'params': [p for n, p in param_optimizer if any(nd in n for nd in no_decay)], 'weight_decay_rate': 0.0}\n",
    "        ]\n",
    "    t_total = num_train_steps\n",
    "#     print(t_total)\n",
    "    if local_rank != -1:\n",
    "        t_total = t_total // torch.distributed.get_world_size()\n",
    "    if do_train:\n",
    "        optimizer = BertAdam(optimizer_grouped_parameters,\n",
    "                         lr=learning_rate,\n",
    "                         warmup=warmup_proportion,\n",
    "                         t_total=t_total)\n",
    "\n",
    "    global_step = 0\n",
    "    if do_train:\n",
    "        train_features = convert_examples_to_features(\n",
    "            train_examples, label_list, max_seq_length, tokenizer)\n",
    "        logger.info(\"***** Running training *****\")\n",
    "        logger.info(\"  Num examples = %d\", len(train_examples))\n",
    "        logger.info(\"  Batch size = %d\", train_batch_size)\n",
    "        logger.info(\"  Num steps = %d\", num_train_steps)\n",
    "        all_input_ids = torch.tensor([f.input_ids for f in train_features], dtype=torch.long)\n",
    "        all_input_mask = torch.tensor([f.input_mask for f in train_features], dtype=torch.long)\n",
    "        all_segment_ids = torch.tensor([f.segment_ids for f in train_features], dtype=torch.long)\n",
    "        all_label_ids = torch.tensor([f.label_id for f in train_features], dtype=torch.long)\n",
    "        train_data = TensorDataset(all_input_ids, all_input_mask, all_segment_ids, all_label_ids)\n",
    "        if local_rank == -1:\n",
    "            train_sampler = RandomSampler(train_data)\n",
    "        else:\n",
    "            train_sampler = DistributedSampler(train_data)\n",
    "        train_dataloader = DataLoader(train_data, sampler=train_sampler, batch_size=train_batch_size)\n",
    "\n",
    "        model.train()\n",
    "        for _ in trange(int(num_train_epochs), desc=\"Epoch\"):\n",
    "            tr_loss = 0\n",
    "            nb_tr_examples, nb_tr_steps = 0, 0\n",
    "            for step, batch in enumerate(tqdm(train_dataloader, desc=\"Iteration\")):\n",
    "                batch = tuple(t.to(device) for t in batch)\n",
    "                input_ids, input_mask, segment_ids, label_ids = batch\n",
    "                loss = model(input_ids, segment_ids, input_mask, label_ids)\n",
    "                if n_gpu > 1:\n",
    "                    loss = loss.mean() # mean() to average on multi-gpu.\n",
    "                if fp16 and loss_scale != 1.0:\n",
    "                    # rescale loss for fp16 training\n",
    "                    # see https://docs.nvidia.com/deeplearning/sdk/mixed-precision-training/index.html\n",
    "                    loss = loss * loss_scale\n",
    "                if gradient_accumulation_steps > 1:\n",
    "                    loss = loss / gradient_accumulation_steps\n",
    "                loss.backward()\n",
    "                tr_loss += loss.item()\n",
    "                nb_tr_examples += input_ids.size(0)\n",
    "                nb_tr_steps += 1\n",
    "                if (step + 1) % gradient_accumulation_steps == 0:\n",
    "                    if fp16 or optimize_on_cpu:\n",
    "                        if fp16 and loss_scale != 1.0:\n",
    "                            # scale down gradients for fp16 training\n",
    "                            for param in model.parameters():\n",
    "                                if param.grad is not None:\n",
    "                                    param.grad.data = param.grad.data / loss_scale\n",
    "                        is_nan = set_optimizer_params_grad(param_optimizer, model.named_parameters(), test_nan=True)\n",
    "                        if is_nan:\n",
    "                            logger.info(\"FP16 TRAINING: Nan in gradients, reducing loss scaling\")\n",
    "                            loss_scale = loss_scale / 2\n",
    "                            model.zero_grad()\n",
    "                            continue\n",
    "                        optimizer.step()\n",
    "                        copy_optimizer_params_to_model(model.named_parameters(), param_optimizer)\n",
    "                    else:\n",
    "                        optimizer.step()\n",
    "                    model.zero_grad()\n",
    "                    global_step += 1\n",
    "\n",
    "        torch.save(model.state_dict(), output_dir + \"output.pth\")\n",
    "\n",
    "\n",
    "    if do_eval and (local_rank == -1 or torch.distributed.get_rank() == 0):\n",
    "        eval_examples = processor.get_test_examples(data_dir)\n",
    "#         eval_examples = processor.get_dev_examples(data_dir)\n",
    "        eval_features = convert_examples_to_features(\n",
    "            eval_examples, label_list, max_seq_length, tokenizer)\n",
    "        logger.info(\"***** Running evaluation *****\")\n",
    "        logger.info(\"  Num examples = %d\", len(eval_examples))\n",
    "        logger.info(\"  Batch size = %d\", eval_batch_size)\n",
    "        \n",
    "        all_input_ids = torch.tensor([f.input_ids for f in eval_features], dtype=torch.long)\n",
    "        all_input_mask = torch.tensor([f.input_mask for f in eval_features], dtype=torch.long)\n",
    "        all_segment_ids = torch.tensor([f.segment_ids for f in eval_features], dtype=torch.long)\n",
    "        all_label_ids = torch.tensor([f.label_id for f in eval_features], dtype=torch.long)\n",
    "        eval_data = TensorDataset(all_input_ids, all_input_mask, all_segment_ids, all_label_ids)\n",
    "        # Run prediction for full data\n",
    "        eval_sampler = SequentialSampler(eval_data)\n",
    "        eval_dataloader = DataLoader(eval_data, sampler=eval_sampler, batch_size=eval_batch_size)\n",
    "\n",
    "        model.load_state_dict(torch.load(saved_model))\n",
    "\n",
    "        model.eval()\n",
    "        # eval_loss, eval_accuracy = 0, 0\n",
    "\n",
    "        eval_tp, eval_pred_c, eval_gold_c = 0, 0, 0\n",
    "        eval_loss, eval_macro_p, eval_macro_r = 0, 0, 0\n",
    "\n",
    "        raw_score = []\n",
    "\n",
    "        nb_eval_steps, nb_eval_examples = 0, 0\n",
    "        for input_ids, input_mask, segment_ids, label_ids in eval_dataloader:\n",
    "            input_ids = input_ids.to(device)\n",
    "            input_mask = input_mask.to(device)\n",
    "            segment_ids = segment_ids.to(device)\n",
    "            label_ids = label_ids.to(device)\n",
    "\n",
    "            with torch.no_grad():\n",
    "                tmp_eval_loss = model(input_ids, segment_ids, input_mask, label_ids)\n",
    "                logits = model(input_ids, segment_ids, input_mask)\n",
    "#             print(logits)\n",
    "#             print(logits[0])\n",
    "            logits = logits.detach().cpu().numpy()\n",
    "            print(logits)\n",
    "            label_ids = label_ids.to('cpu').numpy()\n",
    "\n",
    "            # Micro F1 (aggregated tp, fp, fn counts across all examples)\n",
    "            tmp_tp, tmp_pred_c, tmp_gold_c = tp_pcount_gcount(logits, label_ids)\n",
    "            eval_tp += tmp_tp\n",
    "            eval_pred_c += tmp_pred_c\n",
    "            eval_gold_c += tmp_gold_c\n",
    "            \n",
    "            pred_label = np.argmax(logits, axis=1)\n",
    "            raw_score += zip(logits, pred_label, label_ids)\n",
    "            \n",
    "            # Macro F1 (averaged P, R across mini batches)\n",
    "            tmp_eval_p, tmp_eval_r, tmp_eval_f1 = p_r_f1(logits, label_ids)\n",
    "\n",
    "            eval_macro_p += tmp_eval_p\n",
    "            eval_macro_r += tmp_eval_r\n",
    "\n",
    "            eval_loss += tmp_eval_loss.mean().item()\n",
    "            nb_eval_examples += input_ids.size(0)\n",
    "            nb_eval_steps += 1\n",
    "\n",
    "\n",
    "        # Micro F1 (aggregated tp, fp, fn counts across all examples)\n",
    "        eval_micro_p = eval_tp / eval_pred_c\n",
    "        eval_micro_r = eval_tp / eval_gold_c\n",
    "        eval_micro_f1 = 2 * eval_micro_p * eval_micro_r / (eval_micro_p + eval_micro_r)\n",
    "\n",
    "        # Macro F1 (averaged P, R across mini batches)\n",
    "        eval_macro_p = eval_macro_p / nb_eval_steps\n",
    "        eval_macro_r = eval_macro_r / nb_eval_steps\n",
    "        eval_macro_f1 = 2 * eval_macro_p * eval_macro_r / (eval_macro_p + eval_macro_r)\n",
    "\n",
    "        eval_loss = eval_loss / nb_eval_steps\n",
    "        result = {'eval_loss': eval_loss,\n",
    "                  'eval_micro_p': eval_micro_p,\n",
    "                  'eval_micro_r': eval_micro_r,\n",
    "                  'eval_micro_f1': eval_micro_f1,\n",
    "                  'eval_macro_p': eval_macro_p,\n",
    "                  'eval_macro_r': eval_macro_r,\n",
    "                  'eval_macro_f1': eval_macro_f1,\n",
    "#                   'global_step': global_step,\n",
    "#                   'loss': tr_loss/nb_tr_steps\n",
    "                  }\n",
    "\n",
    "        output_eval_file = os.path.join(output_dir, \"expansion_onlynewtest_eval_results.txt\")\n",
    "        output_raw_score = os.path.join(output_dir, \"expansion_onlynewtest_raw_score.csv\")\n",
    "        with open(output_eval_file, \"w\") as writer:\n",
    "            logger.info(\"***** Eval results *****\")\n",
    "            for key in sorted(result.keys()):\n",
    "                logger.info(\"  %s = %s\", key, str(result[key]))\n",
    "                writer.write(\"%s = %s\\n\" % (key, str(result[key])))\n",
    "\n",
    "        with open(output_raw_score, 'w') as fout:\n",
    "            fields = [\"undermine_score\", \"support_score\",\"predict_label\", \"gold\"]\n",
    "            writer = csv.DictWriter(fout, fieldnames=fields)\n",
    "            writer.writeheader()\n",
    "            for score, pred, gold in raw_score:\n",
    "                writer.writerow({\n",
    "                    \"undermine_score\": str(score[0]),\n",
    "                    \"support_score\": str(score[1]),\n",
    "                    \"predict_label\": str(pred),\n",
    "                    \"gold\": str(gold)\n",
    "                })"
   ]
  },
  {
   "cell_type": "code",
   "execution_count": null,
   "metadata": {},
   "outputs": [],
   "source": []
  },
  {
   "cell_type": "code",
   "execution_count": null,
   "metadata": {},
   "outputs": [],
   "source": [
    "def experiments():\n",
    "    data_dir = \"D:/Jupyter/data/dataset/perspective_stances/\"\n",
    "#     data_dir = \"/home/syg340/Dataset/\"\n",
    "\n",
    "    # data_dir_output = data_dir + \"output2/\"\n",
    "    data_dir_output = \"D:/Projects/Stance/Models/\"\n",
    "    train_and_test(data_dir=data_dir, do_train=True, do_eval=True, output_dir=data_dir_output,task_name=\"Mrpc\")\n"
   ]
  },
  {
   "cell_type": "code",
   "execution_count": 13,
   "metadata": {},
   "outputs": [],
   "source": [
    "def evaluation_with_pretrained():\n",
    "    bert_model = \"D:/Projects/Stance/Models/dataExpantion/dataExpantion.pth\"\n",
    "#     bert_model = \"D:/Projects/Stance/Models/output.pth\"\n",
    "    data_dir = \"D:/Jupyter/data/dataset/perspective_stances/\"\n",
    "#     data_dir = \"D:/Projects/Stance/Dataset/BertForOppositeClassification/\"\n",
    "#     data_dir = \"D:/Projects/Stance/Dataset/OnlyNew/\"\n",
    "    \n",
    "    # data_dir_output = data_dir + \"output2/\"\n",
    "    data_dir_output = \"D:/Projects/Stance/Evaluation/bert_dummy_output/bert_experiment_local/dataExpansion/\"\n",
    "    train_and_test(data_dir=data_dir, do_train=False, do_eval=True, output_dir=data_dir_output,task_name=\"Mrpc\",saved_model=bert_model)"
   ]
  },
  {
   "cell_type": "code",
   "execution_count": 14,
   "metadata": {},
   "outputs": [
    {
     "name": "stderr",
     "output_type": "stream",
     "text": [
      "05/22/2020 15:52:53 - INFO - run_classifier -   device cuda n_gpu 1 distributed training False\n",
      "05/22/2020 15:52:56 - INFO - transformers.tokenization_utils -   loading file https://s3.amazonaws.com/models.huggingface.co/bert/bert-base-uncased-vocab.txt from cache at C:\\Users\\arsen\\.cache\\torch\\transformers\\26bc1ad6c0ac742e9b52263248f6d0f00068293b33709fae12320c0e35ccfbbb.542ce4285a40d23a559526243235df47c5f75c197f04f37d1a0c124c32c9a084\n",
      "05/22/2020 15:52:57 - INFO - pytorch_pretrained_bert.modeling -   loading archive file https://s3.amazonaws.com/models.huggingface.co/bert/bert-base-uncased.tar.gz from cache at C:\\Users\\arsen\\.pytorch_pretrained_bert\\distributed_-1\\9c41111e2de84547a463fd39217199738d1e3deb72d4fec4399e6e241983c6f0.ae3cef932725ca7a30cdcb93fc6e09150a55e2a130ec7af63975a16c153ae2ba\n",
      "05/22/2020 15:52:57 - INFO - pytorch_pretrained_bert.modeling -   extracting archive file C:\\Users\\arsen\\.pytorch_pretrained_bert\\distributed_-1\\9c41111e2de84547a463fd39217199738d1e3deb72d4fec4399e6e241983c6f0.ae3cef932725ca7a30cdcb93fc6e09150a55e2a130ec7af63975a16c153ae2ba to temp dir C:\\Users\\arsen\\AppData\\Local\\Temp\\tmpqwm4bt68\n",
      "05/22/2020 15:53:00 - INFO - pytorch_pretrained_bert.modeling -   Model config {\n",
      "  \"attention_probs_dropout_prob\": 0.1,\n",
      "  \"hidden_act\": \"gelu\",\n",
      "  \"hidden_dropout_prob\": 0.1,\n",
      "  \"hidden_size\": 768,\n",
      "  \"initializer_range\": 0.02,\n",
      "  \"intermediate_size\": 3072,\n",
      "  \"max_position_embeddings\": 512,\n",
      "  \"num_attention_heads\": 12,\n",
      "  \"num_hidden_layers\": 12,\n",
      "  \"type_vocab_size\": 2,\n",
      "  \"vocab_size\": 30522\n",
      "}\n",
      "\n",
      "05/22/2020 15:53:03 - INFO - pytorch_pretrained_bert.modeling -   Weights of BertForSequenceClassification not initialized from pretrained model: ['classifier.weight', 'classifier.bias']\n",
      "05/22/2020 15:53:03 - INFO - pytorch_pretrained_bert.modeling -   Weights from pretrained model not used in BertForSequenceClassification: ['cls.predictions.bias', 'cls.predictions.transform.dense.weight', 'cls.predictions.transform.dense.bias', 'cls.predictions.decoder.weight', 'cls.seq_relationship.weight', 'cls.seq_relationship.bias', 'cls.predictions.transform.LayerNorm.weight', 'cls.predictions.transform.LayerNorm.bias']\n",
      "05/22/2020 15:53:03 - INFO - run_classifier -   *** Example ***\n",
      "05/22/2020 15:53:03 - INFO - run_classifier -   guid: test-1\n",
      "05/22/2020 15:53:03 - INFO - run_classifier -   tokens: [CLS] [UNK] [UNK] [UNK] [UNK] [UNK] [SEP] [UNK] would not feel less broken . [SEP]\n",
      "05/22/2020 15:53:03 - INFO - run_classifier -   input_ids: 101 100 100 100 100 100 102 100 2052 2025 2514 2625 3714 1012 102 0 0 0 0 0 0 0 0 0 0 0 0 0 0 0 0 0\n",
      "05/22/2020 15:53:03 - INFO - run_classifier -   input_mask: 1 1 1 1 1 1 1 1 1 1 1 1 1 1 1 0 0 0 0 0 0 0 0 0 0 0 0 0 0 0 0 0\n",
      "05/22/2020 15:53:03 - INFO - run_classifier -   segment_ids: 0 0 0 0 0 0 0 1 1 1 1 1 1 1 1 0 0 0 0 0 0 0 0 0 0 0 0 0 0 0 0 0\n",
      "05/22/2020 15:53:03 - INFO - run_classifier -   label: 0 (id = 0)\n",
      "05/22/2020 15:53:03 - INFO - run_classifier -   *** Example ***\n",
      "05/22/2020 15:53:03 - INFO - run_classifier -   guid: test-2\n",
      "05/22/2020 15:53:03 - INFO - run_classifier -   tokens: [CLS] [UNK] [UNK] [UNK] [UNK] [UNK] [SEP] enough funding . . . [SEP]\n",
      "05/22/2020 15:53:03 - INFO - run_classifier -   input_ids: 101 100 100 100 100 100 102 2438 4804 1012 1012 1012 102 0 0 0 0 0 0 0 0 0 0 0 0 0 0 0 0 0 0 0\n",
      "05/22/2020 15:53:03 - INFO - run_classifier -   input_mask: 1 1 1 1 1 1 1 1 1 1 1 1 1 0 0 0 0 0 0 0 0 0 0 0 0 0 0 0 0 0 0 0\n",
      "05/22/2020 15:53:03 - INFO - run_classifier -   segment_ids: 0 0 0 0 0 0 0 1 1 1 1 1 1 0 0 0 0 0 0 0 0 0 0 0 0 0 0 0 0 0 0 0\n",
      "05/22/2020 15:53:03 - INFO - run_classifier -   label: 1 (id = 1)\n",
      "05/22/2020 15:53:03 - INFO - run_classifier -   *** Example ***\n",
      "05/22/2020 15:53:03 - INFO - run_classifier -   guid: test-3\n",
      "05/22/2020 15:53:03 - INFO - run_classifier -   tokens: [CLS] [UNK] [UNK] [UNK] [UNK] [UNK] [SEP] [UNK] little easier for parents ! [SEP]\n",
      "05/22/2020 15:53:03 - INFO - run_classifier -   input_ids: 101 100 100 100 100 100 102 100 2210 6082 2005 3008 999 102 0 0 0 0 0 0 0 0 0 0 0 0 0 0 0 0 0 0\n",
      "05/22/2020 15:53:03 - INFO - run_classifier -   input_mask: 1 1 1 1 1 1 1 1 1 1 1 1 1 1 0 0 0 0 0 0 0 0 0 0 0 0 0 0 0 0 0 0\n",
      "05/22/2020 15:53:03 - INFO - run_classifier -   segment_ids: 0 0 0 0 0 0 0 1 1 1 1 1 1 1 0 0 0 0 0 0 0 0 0 0 0 0 0 0 0 0 0 0\n",
      "05/22/2020 15:53:03 - INFO - run_classifier -   label: 0 (id = 0)\n",
      "05/22/2020 15:53:03 - INFO - run_classifier -   *** Example ***\n",
      "05/22/2020 15:53:03 - INFO - run_classifier -   guid: test-4\n",
      "05/22/2020 15:53:03 - INFO - run_classifier -   tokens: [CLS] [UNK] [UNK] [UNK] [UNK] [UNK] [SEP] [UNK] need for homework . [SEP]\n",
      "05/22/2020 15:53:03 - INFO - run_classifier -   input_ids: 101 100 100 100 100 100 102 100 2342 2005 19453 1012 102 0 0 0 0 0 0 0 0 0 0 0 0 0 0 0 0 0 0 0\n",
      "05/22/2020 15:53:03 - INFO - run_classifier -   input_mask: 1 1 1 1 1 1 1 1 1 1 1 1 1 0 0 0 0 0 0 0 0 0 0 0 0 0 0 0 0 0 0 0\n",
      "05/22/2020 15:53:03 - INFO - run_classifier -   segment_ids: 0 0 0 0 0 0 0 1 1 1 1 1 1 0 0 0 0 0 0 0 0 0 0 0 0 0 0 0 0 0 0 0\n",
      "05/22/2020 15:53:03 - INFO - run_classifier -   label: 0 (id = 0)\n",
      "05/22/2020 15:53:03 - INFO - run_classifier -   *** Example ***\n",
      "05/22/2020 15:53:03 - INFO - run_classifier -   guid: test-5\n",
      "05/22/2020 15:53:03 - INFO - run_classifier -   tokens: [CLS] [UNK] [UNK] [UNK] [UNK] [UNK] [SEP] [UNK] not to finish activities [SEP]\n",
      "05/22/2020 15:53:03 - INFO - run_classifier -   input_ids: 101 100 100 100 100 100 102 100 2025 2000 3926 3450 102 0 0 0 0 0 0 0 0 0 0 0 0 0 0 0 0 0 0 0\n",
      "05/22/2020 15:53:03 - INFO - run_classifier -   input_mask: 1 1 1 1 1 1 1 1 1 1 1 1 1 0 0 0 0 0 0 0 0 0 0 0 0 0 0 0 0 0 0 0\n",
      "05/22/2020 15:53:03 - INFO - run_classifier -   segment_ids: 0 0 0 0 0 0 0 1 1 1 1 1 1 0 0 0 0 0 0 0 0 0 0 0 0 0 0 0 0 0 0 0\n",
      "05/22/2020 15:53:03 - INFO - run_classifier -   label: 0 (id = 0)\n",
      "05/22/2020 15:53:04 - INFO - run_classifier -   ***** Running evaluation *****\n",
      "05/22/2020 15:53:04 - INFO - run_classifier -     Num examples = 2527\n",
      "05/22/2020 15:53:04 - INFO - run_classifier -     Batch size = 8\n"
     ]
    },
    {
     "name": "stdout",
     "output_type": "stream",
     "text": [
      "[[-0.22424129  0.10162512]\n",
      " [-0.63414747  0.9347689 ]\n",
      " [-0.9173301   1.3150159 ]\n",
      " [-0.53266555  0.7466488 ]\n",
      " [ 1.9179766  -1.9474862 ]\n",
      " [ 1.2523519  -1.2493237 ]\n",
      " [ 0.71249723 -0.6718124 ]\n",
      " [ 1.879803   -1.8280873 ]]\n",
      "[[-2.5877125  2.8026059]\n",
      " [ 2.7025592 -2.5672638]\n",
      " [ 2.1051702 -2.1064832]\n",
      " [ 1.6868566 -1.5764197]\n",
      " [ 1.6450745 -1.5481588]\n",
      " [-2.2022514  2.5274713]\n",
      " [-1.4873993  1.8768169]\n",
      " [-2.6063151  2.821257 ]]\n",
      "[[ 0.25668103 -0.43897614]\n",
      " [ 0.75658774 -0.71593857]\n",
      " [-2.616342    2.8069928 ]\n",
      " [-1.7179569   2.1325543 ]\n",
      " [-2.6064243   2.8129995 ]\n",
      " [ 1.949306   -1.7896918 ]\n",
      " [ 2.2538867  -2.1380858 ]\n",
      " [ 1.1394111  -1.0747354 ]]\n",
      "[[ 1.8458898  -1.7002851 ]\n",
      " [ 1.697508   -1.6008514 ]\n",
      " [ 2.7798154  -2.697494  ]\n",
      " [ 2.7856112  -2.6971374 ]\n",
      " [ 2.337947   -2.3747084 ]\n",
      " [ 2.7477462  -2.6304083 ]\n",
      " [ 1.3358226  -1.2748033 ]\n",
      " [ 0.1178925  -0.25342506]]\n",
      "[[-0.8597616   1.3621484 ]\n",
      " [ 0.47353226 -0.5871066 ]\n",
      " [-1.5139889   1.8995125 ]\n",
      " [-2.1154528   2.4660985 ]\n",
      " [-0.21039183  0.13271984]\n",
      " [-2.3731036   2.6403997 ]\n",
      " [-0.94152725  1.3093455 ]\n",
      " [-1.2487346   1.7212658 ]]\n",
      "[[-2.6268733   2.8184557 ]\n",
      " [-2.6305115   2.8228824 ]\n",
      " [-0.62590575  0.9493398 ]\n",
      " [ 1.8051318  -1.7707186 ]\n",
      " [-0.20790827  0.12001596]\n",
      " [-0.53756464  0.80280584]\n",
      " [ 1.2312509  -1.2428426 ]\n",
      " [ 2.5137846  -2.5111449 ]]\n",
      "[[-1.2340747   1.6383033 ]\n",
      " [ 1.8599244  -1.882503  ]\n",
      " [ 2.4148772  -2.4553735 ]\n",
      " [ 2.742615   -2.650716  ]\n",
      " [ 0.36975378 -0.48770607]\n",
      " [ 0.1446226  -0.23313928]\n",
      " [ 1.0501543  -1.0975891 ]\n",
      " [ 1.8722032  -1.8467225 ]]\n",
      "[[-0.06424103 -0.04782769]\n",
      " [ 2.2454677  -2.2835286 ]\n",
      " [ 2.784426   -2.6902978 ]\n",
      " [-0.54498124  0.74051815]\n",
      " [ 2.3311934  -2.342564  ]\n",
      " [-0.8929432   1.3888729 ]\n",
      " [-0.60909206  0.8217015 ]\n",
      " [ 0.33169007 -0.4531113 ]]\n",
      "[[ 1.2333871 -1.2780229]\n",
      " [ 1.9041606 -1.8814517]\n",
      " [ 2.7134767 -2.6443987]\n",
      " [ 2.662023  -2.6208246]\n",
      " [-0.8767017  1.2646369]\n",
      " [ 1.5288907 -1.5335082]\n",
      " [-0.5123717  0.7911864]\n",
      " [ 2.5707655 -2.5691006]]\n",
      "[[ 2.5794802  -2.5891187 ]\n",
      " [ 2.2879186  -2.3017652 ]\n",
      " [-1.5315346   1.9885038 ]\n",
      " [ 1.3604211  -1.312493  ]\n",
      " [ 2.5811462  -2.5800312 ]\n",
      " [ 0.20146178 -0.31500506]\n",
      " [ 2.6409945  -2.643771  ]\n",
      " [-1.0054436   1.4183515 ]]\n",
      "[[-2.5921898   2.8117    ]\n",
      " [-0.81498027  1.2492359 ]\n",
      " [-1.2786897   1.7712467 ]\n",
      " [ 0.3323877  -0.4515428 ]\n",
      " [-2.5349507   2.769447  ]\n",
      " [-0.13750066 -0.01244038]\n",
      " [-0.30171758  0.36400333]\n",
      " [ 0.05787189 -0.05082852]]\n",
      "[[-0.4723631   0.6517057 ]\n",
      " [-0.08410326 -0.03457251]\n",
      " [-2.543839    2.775175  ]\n",
      " [-0.20684299  0.19933182]\n",
      " [ 2.3559039  -2.3915365 ]\n",
      " [ 0.8972686  -0.99835604]\n",
      " [ 2.3699255  -2.3253734 ]\n",
      " [ 2.8280394  -2.7262332 ]]\n",
      "[[ 2.816554   -2.753891  ]\n",
      " [ 2.5882962  -2.58345   ]\n",
      " [ 2.6856093  -2.5926588 ]\n",
      " [ 2.71881    -2.6523025 ]\n",
      " [-0.1287438   0.08678143]\n",
      " [ 0.26672328 -0.29899204]\n",
      " [ 1.6612369  -1.659504  ]\n",
      " [-0.14655662  0.03836823]]\n",
      "[[-1.2079471   1.7005213 ]\n",
      " [ 2.772532   -2.666035  ]\n",
      " [ 1.3827248  -1.3529159 ]\n",
      " [-2.09402     2.407626  ]\n",
      " [-0.13904962  0.10678863]\n",
      " [-1.6804944   2.0962327 ]\n",
      " [-2.2140088   2.5145085 ]\n",
      " [-2.4168625   2.6724722 ]]\n",
      "[[-0.79231286  1.1621563 ]\n",
      " [ 2.692209   -2.6358135 ]\n",
      " [-0.0382208   0.12256275]\n",
      " [ 2.7128718  -2.647263  ]\n",
      " [ 2.2832823  -2.2742136 ]\n",
      " [ 1.9018975  -1.8821573 ]\n",
      " [-0.15620938  0.20386124]\n",
      " [-0.3132936   0.30099034]]\n",
      "[[-0.82254153  1.294542  ]\n",
      " [ 1.3416978  -1.3694767 ]\n",
      " [ 2.7310119  -2.685291  ]\n",
      " [-0.17380069  0.00404671]\n",
      " [ 2.3760426  -2.3935912 ]\n",
      " [-0.736606    1.02575   ]\n",
      " [ 1.5608546  -1.5585979 ]\n",
      " [-0.24091975  0.38625908]]\n",
      "[[-2.4801445   2.7390447 ]\n",
      " [-0.2348717   0.20475203]\n",
      " [ 1.3477148  -1.3550229 ]\n",
      " [ 2.4844334  -2.4639895 ]\n",
      " [ 1.6884061  -1.6450151 ]\n",
      " [ 1.4454548  -1.3728315 ]\n",
      " [ 2.7914493  -2.7230003 ]\n",
      " [ 2.5732741  -2.5335815 ]]\n",
      "[[ 2.7282486 -2.703774 ]\n",
      " [ 1.9704236 -1.9823653]\n",
      " [ 2.202432  -2.203146 ]\n",
      " [ 1.2396742 -1.2354366]\n",
      " [ 2.2946143 -2.3168747]\n",
      " [ 2.019453  -1.878571 ]\n",
      " [ 2.1103468 -2.1803207]\n",
      " [ 2.7440891 -2.6441975]]\n",
      "[[ 2.6555512 -2.6146934]\n",
      " [ 2.7653935 -2.6961405]\n",
      " [ 1.0655893 -1.154858 ]\n",
      " [ 1.4215726 -1.4592491]\n",
      " [ 2.4241247 -2.4231422]\n",
      " [ 0.7019543 -0.7725766]\n",
      " [ 0.9549011 -0.9895986]\n",
      " [ 0.5624577 -0.6373247]]\n",
      "[[ 2.7262373  -2.6371906 ]\n",
      " [ 2.7699587  -2.6455963 ]\n",
      " [-1.5581728   1.9947757 ]\n",
      " [-1.3085293   1.7878263 ]\n",
      " [-1.1199409   1.6067036 ]\n",
      " [-0.08574695 -0.01187056]\n",
      " [ 0.75703883 -0.8180866 ]\n",
      " [ 2.6962373  -2.6636055 ]]\n",
      "[[-0.01405228 -0.16751647]\n",
      " [ 2.1616714  -2.1801326 ]\n",
      " [ 1.6943473  -1.7260894 ]\n",
      " [ 2.5451112  -2.540868  ]\n",
      " [ 1.4484402  -1.3793713 ]\n",
      " [ 1.6455659  -1.5745021 ]\n",
      " [ 1.5032169  -1.465476  ]\n",
      " [ 2.3711019  -2.3580678 ]]\n",
      "[[-0.53638554  0.85831004]\n",
      " [-1.4665049   1.8665763 ]\n",
      " [-2.484881    2.7311413 ]\n",
      " [ 2.6901631  -2.6323879 ]\n",
      " [ 2.7398243  -2.67858   ]\n",
      " [-0.21887124  0.34411943]\n",
      " [-0.00514879 -0.19300108]\n",
      " [-0.36341304  0.50894165]]\n",
      "[[-1.1172217   1.6236116 ]\n",
      " [ 1.8780689  -1.9176348 ]\n",
      " [-0.33912635  0.42526564]\n",
      " [-0.37665373  0.43312064]\n",
      " [ 2.3120975  -2.320009  ]\n",
      " [-0.49170277  0.7595073 ]\n",
      " [-0.36369532  0.4139669 ]\n",
      " [ 1.4641404  -1.4817125 ]]\n",
      "[[ 0.43294245 -0.52422166]\n",
      " [-1.2812059   1.7847244 ]\n",
      " [ 0.29596865 -0.37312663]\n",
      " [-0.59747744  0.9874921 ]\n",
      " [-0.32161707  0.29356986]\n",
      " [ 2.430211   -2.4282732 ]\n",
      " [ 1.1113808  -1.1463832 ]\n",
      " [ 1.8721148  -1.8870329 ]]\n",
      "[[-1.0074588   1.5058353 ]\n",
      " [ 0.2610153  -0.4024015 ]\n",
      " [-0.1695048   0.00242541]\n",
      " [ 1.3336848  -1.3881663 ]\n",
      " [ 0.7863724  -0.827902  ]\n",
      " [-0.25312766  0.17642829]\n",
      " [-1.0202155   1.5288396 ]\n",
      " [-0.02524777 -0.13752158]]\n",
      "[[ 0.93038964 -0.82154197]\n",
      " [-1.0156038   1.5207374 ]\n",
      " [ 2.7734385  -2.6900556 ]\n",
      " [ 1.6289927  -1.6428231 ]\n",
      " [-0.18097156  0.13814488]\n",
      " [-0.51758075  0.80667233]\n",
      " [-0.16823037 -0.02274876]\n",
      " [-2.6102214   2.817662  ]]\n",
      "[[-0.39950433  0.4986679 ]\n",
      " [ 2.7479506  -2.7222717 ]\n",
      " [ 2.798226   -2.7058957 ]\n",
      " [ 0.06521636 -0.22090183]\n",
      " [-0.9295166   1.4238607 ]\n",
      " [-0.11826956 -0.01908379]\n",
      " [-0.6071914   0.95309985]\n",
      " [-0.03560916 -0.1453385 ]]\n",
      "[[-0.30907643  0.2849698 ]\n",
      " [-0.54020894  0.71336937]\n",
      " [-0.0399942  -0.19974074]\n",
      " [-0.09881727 -0.15170312]\n",
      " [-0.8051633   1.2811838 ]\n",
      " [-0.11814891 -0.12917094]\n",
      " [-0.57221174  0.7852277 ]\n",
      " [-1.1946433   1.6966242 ]]\n",
      "[[ 0.9272123  -1.0719947 ]\n",
      " [ 1.9591771  -1.997362  ]\n",
      " [ 1.4458098  -1.5329107 ]\n",
      " [-1.1428949   1.6376704 ]\n",
      " [-0.55456996  0.89216596]\n",
      " [-2.3337514   2.6291776 ]\n",
      " [ 0.39896995 -0.39074698]\n",
      " [-0.317854    0.3417171 ]]\n",
      "[[-0.77624047  1.2266988 ]\n",
      " [ 2.3163652  -2.3376265 ]\n",
      " [ 1.4055935  -1.2937162 ]\n",
      " [ 2.1667054  -2.1892192 ]\n",
      " [-0.6086411   0.8680305 ]\n",
      " [-0.4618026   0.6661562 ]\n",
      " [-0.7239745   1.092329  ]\n",
      " [ 2.0516953  -1.9109186 ]]\n",
      "[[ 0.8969879  -0.9510115 ]\n",
      " [ 1.2532063  -1.1577942 ]\n",
      " [ 2.7160983  -2.651913  ]\n",
      " [-0.38121545  0.45479426]\n",
      " [ 2.2755408  -2.3164997 ]\n",
      " [ 1.8443261  -1.8545903 ]\n",
      " [ 1.1329715  -1.1706768 ]\n",
      " [-0.2501256   0.4049106 ]]\n",
      "[[ 2.1866953 -2.183721 ]\n",
      " [ 2.0457437 -2.078058 ]\n",
      " [ 2.12313   -2.175371 ]\n",
      " [ 2.6576705 -2.6322076]\n",
      " [ 2.3983805 -2.4170043]\n",
      " [-2.6132746  2.827796 ]\n",
      " [ 2.7625813 -2.681358 ]\n",
      " [ 2.3577166 -2.2194607]]\n",
      "[[ 0.03416323 -0.20622905]\n",
      " [ 1.7936383  -1.7531933 ]\n",
      " [ 2.8011298  -2.702439  ]\n",
      " [-1.0896343   1.5646453 ]\n",
      " [ 2.8075147  -2.6736858 ]\n",
      " [ 2.777522   -2.6549692 ]\n",
      " [ 2.5164964  -2.5293522 ]\n",
      " [ 2.6548753  -2.5361722 ]]\n",
      "[[ 2.794536   -2.7061253 ]\n",
      " [ 1.7460252  -1.6783618 ]\n",
      " [ 1.7935399  -1.7191507 ]\n",
      " [ 2.5587707  -2.5597298 ]\n",
      " [ 2.4122126  -2.4258196 ]\n",
      " [ 1.0245792  -1.1119452 ]\n",
      " [-0.70294464  1.0770386 ]\n",
      " [-2.6058555   2.826726  ]]\n",
      "[[-2.6072602   2.7882988 ]\n",
      " [-2.6088285   2.8023949 ]\n",
      " [-2.6191087   2.7843955 ]\n",
      " [-0.8962074   1.3088452 ]\n",
      " [ 0.64623404 -0.68947124]\n",
      " [-2.6176617   2.8203385 ]\n",
      " [ 1.5753284  -1.6022357 ]\n",
      " [-0.10239493 -0.04002946]]\n",
      "[[ 2.7817688  -2.6881607 ]\n",
      " [ 1.3474834  -1.3958211 ]\n",
      " [-0.224028    0.33969128]\n",
      " [ 2.6880755  -2.6421158 ]\n",
      " [ 0.09773897 -0.07369097]\n",
      " [-0.12963533 -0.03787805]\n",
      " [ 2.278904   -2.2507594 ]\n",
      " [ 1.9738334  -1.9682556 ]]\n",
      "[[-0.16834368  0.02334807]\n",
      " [-0.661981    1.0203375 ]\n",
      " [-0.10996395 -0.09510849]\n",
      " [-0.04413816 -0.15575749]\n",
      " [ 0.10371348 -0.24050519]\n",
      " [ 0.3415848  -0.5015618 ]\n",
      " [ 2.3248856  -2.3782997 ]\n",
      " [-0.5703299   0.8863442 ]]\n",
      "[[ 0.20830044 -0.18095013]\n",
      " [-2.3200364   2.6152852 ]\n",
      " [-0.51435125  0.8416656 ]\n",
      " [-1.1161557   1.5134671 ]\n",
      " [ 0.2994253  -0.438334  ]\n",
      " [ 1.8083135  -1.8191115 ]\n",
      " [-0.11073933 -0.12242278]\n",
      " [-0.16735697  0.1296525 ]]\n",
      "[[ 0.55638295 -0.6663809 ]\n",
      " [ 2.3475933  -2.3637626 ]\n",
      " [ 0.13345413 -0.29816818]\n",
      " [-0.11599655 -0.07580785]\n",
      " [-0.16951443  0.06554727]\n",
      " [ 1.6973656  -1.7129743 ]\n",
      " [-2.1759388   2.4983604 ]\n",
      " [ 2.1434474  -2.156305  ]]\n",
      "[[-0.5474508   0.9430181 ]\n",
      " [ 0.00297297 -0.2198577 ]\n",
      " [-1.0608608   1.4939761 ]\n",
      " [ 0.68219984 -0.62571275]\n",
      " [ 0.09106969 -0.26915053]\n",
      " [ 0.03271588 -0.18609594]\n",
      " [ 0.44466582 -0.5824428 ]\n",
      " [-0.49379945  0.7599617 ]]\n"
     ]
    },
    {
     "name": "stdout",
     "output_type": "stream",
     "text": [
      "[[-0.60222745  0.9852265 ]\n",
      " [ 0.25420064 -0.23562816]\n",
      " [-0.32781187  0.34887084]\n",
      " [-0.21107028  0.27455118]\n",
      " [ 0.09191899 -0.14667574]\n",
      " [-0.2366064   0.18756096]\n",
      " [ 0.5415966  -0.6262095 ]\n",
      " [ 2.250825   -2.2494624 ]]\n",
      "[[-1.0079331   1.5067424 ]\n",
      " [-0.14248966 -0.00316283]\n",
      " [-1.2851335   1.7237002 ]\n",
      " [-0.24833256  0.37430167]\n",
      " [-0.1748576   0.04302571]\n",
      " [-0.14373262 -0.03817334]\n",
      " [ 1.0857991  -0.96756196]\n",
      " [-0.6421005   0.88342595]]\n",
      "[[-2.6145794  2.806565 ]\n",
      " [ 1.8272303 -1.7364866]\n",
      " [ 2.7531998 -2.619768 ]\n",
      " [ 1.1176478 -1.1756757]\n",
      " [ 2.1840174 -2.1470451]\n",
      " [ 2.764947  -2.6989038]\n",
      " [ 1.4767504 -1.5511991]\n",
      " [ 1.8961945 -1.8098711]]\n",
      "[[ 2.0500875  -1.9864239 ]\n",
      " [-1.2990136   1.8117799 ]\n",
      " [-2.6133158   2.8276422 ]\n",
      " [ 1.1458136  -1.2487797 ]\n",
      " [ 1.6914159  -1.7464465 ]\n",
      " [ 0.3497873  -0.48251343]\n",
      " [ 1.3234836  -1.3471137 ]\n",
      " [-0.5805137   0.95515144]]\n",
      "[[ 1.1220909  -1.1586965 ]\n",
      " [-0.90717864  1.3464853 ]\n",
      " [ 0.371742   -0.4331396 ]\n",
      " [-0.50696963  0.67969996]\n",
      " [-1.312719    1.814805  ]\n",
      " [-0.39234832  0.46272495]\n",
      " [ 0.46466616 -0.5928699 ]\n",
      " [-0.87321615  1.2825428 ]]\n",
      "[[-2.053699    2.4017208 ]\n",
      " [-1.6476585   2.0085618 ]\n",
      " [ 2.584117   -2.615445  ]\n",
      " [ 1.3638166  -1.3643982 ]\n",
      " [ 1.1031853  -1.1216726 ]\n",
      " [ 0.02009224 -0.11003362]\n",
      " [ 0.22991309 -0.29006875]\n",
      " [ 2.0424838  -2.0635965 ]]\n",
      "[[ 0.6234739  -0.71284807]\n",
      " [-0.17288661 -0.06438451]\n",
      " [-0.28909853  0.26306093]\n",
      " [-0.21251445  0.07936931]\n",
      " [ 0.5195507  -0.4637375 ]\n",
      " [-0.80884767  1.2459598 ]\n",
      " [-0.10268126 -0.09656996]\n",
      " [-1.991012    2.3728995 ]]\n",
      "[[ 1.1685311  -1.2111945 ]\n",
      " [-0.16159737  0.01323975]\n",
      " [ 0.4765787  -0.6223491 ]\n",
      " [ 2.3931403  -2.3806026 ]\n",
      " [ 2.6123714  -2.5962908 ]\n",
      " [ 2.0987053  -2.086696  ]\n",
      " [-1.0484188   1.5475756 ]\n",
      " [-1.5010496   1.8894162 ]]\n",
      "[[ 2.2698562  -2.2604258 ]\n",
      " [-2.6176152   2.7790883 ]\n",
      " [ 2.6770368  -2.5451317 ]\n",
      " [ 1.2751509  -1.3978444 ]\n",
      " [-0.3041364   0.32493067]\n",
      " [ 0.5149719  -0.6986756 ]\n",
      " [-0.45477894  0.58056307]\n",
      " [ 0.71651447 -0.83397377]]\n",
      "[[-2.5414665   2.7859004 ]\n",
      " [ 1.8106524  -1.7124665 ]\n",
      " [-0.13722298  0.00886783]\n",
      " [-0.1992658   0.15864643]\n",
      " [ 1.421455   -1.3969725 ]\n",
      " [-0.88627374  1.3805919 ]\n",
      " [ 1.0435013  -1.0035967 ]\n",
      " [ 0.7113659  -0.6130258 ]]\n",
      "[[-0.241601    0.13810304]\n",
      " [-2.1721134   2.5194874 ]\n",
      " [-2.6056075   2.8153918 ]\n",
      " [-0.15876476  0.03636298]\n",
      " [ 1.0081903  -0.91586214]\n",
      " [ 0.44876015 -0.5744078 ]\n",
      " [ 1.7832849  -1.810176  ]\n",
      " [ 1.5015886  -1.5079807 ]]\n",
      "[[-1.3045331   1.8061168 ]\n",
      " [ 0.6053331  -0.5854526 ]\n",
      " [ 1.786      -1.7947387 ]\n",
      " [ 2.685346   -2.569232  ]\n",
      " [ 0.03182284 -0.19278952]\n",
      " [ 0.22029431 -0.2827333 ]\n",
      " [-2.5218306   2.7777603 ]\n",
      " [ 0.21060656 -0.27267092]]\n",
      "[[-0.9383385   1.457493  ]\n",
      " [-0.5201342   0.77114064]\n",
      " [ 2.570715   -2.583945  ]\n",
      " [ 0.28304887 -0.41305155]\n",
      " [ 2.7958803  -2.711786  ]\n",
      " [-0.14079097  0.0659569 ]\n",
      " [-1.0259192   1.4895016 ]\n",
      " [ 2.7490227  -2.642323  ]]\n",
      "[[-0.35991797  0.65757644]\n",
      " [-2.6232457   2.8245776 ]\n",
      " [-0.14467846 -0.04128575]\n",
      " [-0.8161557   1.1963731 ]\n",
      " [ 1.0739764  -1.1451235 ]\n",
      " [ 2.2301762  -2.2754462 ]\n",
      " [ 2.406205   -2.401535  ]\n",
      " [ 1.3354472  -1.357592  ]]\n",
      "[[ 2.6995246 -2.6086116]\n",
      " [ 2.734098  -2.6654108]\n",
      " [ 2.7653337 -2.658727 ]\n",
      " [ 2.6293857 -2.5945144]\n",
      " [ 2.555709  -2.537697 ]\n",
      " [ 1.8669361 -1.9227797]\n",
      " [-2.5897174  2.8206294]\n",
      " [ 2.0326638 -2.0145676]]\n",
      "[[-2.37110806e+00  2.65216351e+00]\n",
      " [ 2.75126914e-03 -2.39868537e-01]\n",
      " [ 1.58325970e-01 -3.78792614e-01]\n",
      " [-7.29524568e-02 -1.64689690e-01]\n",
      " [ 1.17547825e-01 -3.42004299e-01]\n",
      " [-1.63873851e-01 -1.00057639e-01]\n",
      " [-2.50448847e+00  2.75918794e+00]\n",
      " [-2.21460506e-01  8.38929787e-02]]\n",
      "[[-0.57844496  0.8855902 ]\n",
      " [ 0.97929066 -1.0570533 ]\n",
      " [ 0.7643262  -0.6920087 ]\n",
      " [ 0.96844923 -0.8357376 ]\n",
      " [-2.1998527   2.512722  ]\n",
      " [ 1.895751   -1.9416064 ]\n",
      " [ 0.68593895 -0.7216203 ]\n",
      " [ 0.65581125 -0.61522347]]\n",
      "[[ 0.20248675 -0.27334648]\n",
      " [ 1.6318339  -1.5210086 ]\n",
      " [-2.1596649   2.4922094 ]\n",
      " [ 0.25209773 -0.33251363]\n",
      " [ 2.3286178  -2.304673  ]\n",
      " [ 2.3119967  -2.3023396 ]\n",
      " [ 2.7653465  -2.6679885 ]\n",
      " [-0.70154846  1.0933369 ]]\n",
      "[[ 1.3496238  -1.4267128 ]\n",
      " [-0.15430894 -0.05902019]\n",
      " [-0.03107947 -0.08994202]\n",
      " [-0.552357    0.7936437 ]\n",
      " [ 0.65976185 -0.76432776]\n",
      " [ 0.33021662 -0.44202083]\n",
      " [-0.2295561   0.09251253]\n",
      " [ 0.47282675 -0.55493975]]\n",
      "[[ 0.21891107 -0.35849264]\n",
      " [ 0.00792277 -0.18020354]\n",
      " [ 0.3034821  -0.42014456]\n",
      " [-0.55679065  0.79110885]\n",
      " [-0.03011037 -0.03428951]\n",
      " [ 1.0872642  -1.1610576 ]\n",
      " [-0.18949     0.01849107]\n",
      " [-0.21414328  0.03996724]]\n",
      "[[-0.0367004  -0.10273292]\n",
      " [-0.6495447   1.05522   ]\n",
      " [-0.80148184  1.2674619 ]\n",
      " [-0.24453008  0.10368431]\n",
      " [ 2.1012006  -2.090925  ]\n",
      " [-0.12015773 -0.12856266]\n",
      " [ 1.4076458  -1.4936547 ]\n",
      " [ 0.22314636 -0.34929836]]\n",
      "[[-0.3188937   0.30241722]\n",
      " [ 0.18962847 -0.29822898]\n",
      " [-1.3140901   1.781969  ]\n",
      " [-0.03198053 -0.20071968]\n",
      " [-0.16222401 -0.07859381]\n",
      " [-0.17889763 -0.02648484]\n",
      " [ 0.451981   -0.55026686]\n",
      " [ 0.5316869  -0.6077975 ]]\n",
      "[[-0.45585212  0.54605013]\n",
      " [-0.41765928  0.42044705]\n",
      " [-0.23718609  0.13225612]\n",
      " [-0.4978837   0.67152685]\n",
      " [ 2.1126685  -2.1418493 ]\n",
      " [ 0.25302598 -0.34268445]\n",
      " [ 2.0203595  -2.0784085 ]\n",
      " [-0.5290274   0.8614182 ]]\n",
      "[[-0.21189822  0.06903619]\n",
      " [ 1.0655047  -1.1726576 ]\n",
      " [ 1.0463074  -1.1167876 ]\n",
      " [ 1.2003559  -1.2432536 ]\n",
      " [ 0.47782788 -0.6365719 ]\n",
      " [-0.16972813 -0.01452854]\n",
      " [ 0.04778636 -0.23566979]\n",
      " [-0.08397981 -0.15076028]]\n",
      "[[-0.0318642  -0.17841356]\n",
      " [-0.14184842 -0.09955057]\n",
      " [ 1.0536758  -1.1168503 ]\n",
      " [-0.57530427  0.8774519 ]\n",
      " [-1.2387319   1.7356533 ]\n",
      " [-0.8660144   1.3581649 ]\n",
      " [-0.63211286  0.99343586]\n",
      " [-0.16038384 -0.07070201]]\n",
      "[[-0.47282198  0.58605856]\n",
      " [ 2.053316   -2.0858366 ]\n",
      " [-0.31223598  0.28946468]\n",
      " [ 1.4519018  -1.5045837 ]\n",
      " [-0.31116793  0.2898085 ]\n",
      " [-0.30636376  0.28809944]\n",
      " [ 0.88280004 -0.94126296]\n",
      " [ 0.57171273 -0.68176305]]\n",
      "[[ 0.15429823 -0.31269014]\n",
      " [ 2.2725925  -2.2660596 ]\n",
      " [-0.57338285  0.84052145]\n",
      " [-0.19123049 -0.02596288]\n",
      " [-0.6032676   0.95011413]\n",
      " [-0.7747906   1.1689447 ]\n",
      " [-0.13870658  0.03739337]\n",
      " [-2.6107771   2.8291228 ]]\n",
      "[[ 1.117752   -1.1901352 ]\n",
      " [ 0.3643325  -0.49331644]\n",
      " [ 2.7714791  -2.706384  ]\n",
      " [ 0.75401944 -0.81993234]\n",
      " [-0.12483325  0.07171785]\n",
      " [ 0.95668674 -1.0266587 ]\n",
      " [ 1.0197091  -1.0393748 ]\n",
      " [-0.16757762  0.12432798]]\n",
      "[[-0.32742232  0.3574586 ]\n",
      " [-0.01900566 -0.2081179 ]\n",
      " [ 0.42858276 -0.47883314]\n",
      " [ 1.9402236  -1.7864648 ]\n",
      " [ 2.146942   -2.0357602 ]\n",
      " [ 0.05404392  0.07829014]\n",
      " [ 2.6733677  -2.6078894 ]\n",
      " [-0.6412972   1.046609  ]]\n",
      "[[-2.5237367   2.7743251 ]\n",
      " [ 2.146942   -2.0357602 ]\n",
      " [ 0.13181219 -0.28817406]\n",
      " [ 2.794828   -2.621144  ]\n",
      " [ 0.02815297 -0.11887632]\n",
      " [-0.04326887 -0.07450611]\n",
      " [ 0.20796637 -0.25904182]\n",
      " [ 1.2733191  -1.2962795 ]]\n",
      "[[ 2.0405586  -1.9415663 ]\n",
      " [ 2.297598   -2.2350447 ]\n",
      " [ 0.5680961  -0.6861841 ]\n",
      " [-1.2659343   1.7381494 ]\n",
      " [ 0.13483617 -0.24879867]\n",
      " [ 1.798035   -1.7177752 ]\n",
      " [ 1.7837232  -1.7296292 ]\n",
      " [ 0.02317853 -0.17101306]]\n",
      "[[ 1.2168986  -1.229241  ]\n",
      " [ 0.9588219  -1.0120285 ]\n",
      " [ 0.3169148  -0.44474104]\n",
      " [-0.10567389 -0.0850702 ]\n",
      " [-1.3369993   1.7500261 ]\n",
      " [ 0.35625106 -0.4959114 ]\n",
      " [-0.15539214  0.01910496]\n",
      " [-0.9216178   1.4221995 ]]\n",
      "[[ 2.323597   -2.3019135 ]\n",
      " [ 2.636342   -2.6040769 ]\n",
      " [-0.2178523   0.17342165]\n",
      " [ 2.3463218  -2.3191648 ]\n",
      " [ 2.6650434  -2.6077387 ]\n",
      " [ 1.6061624  -1.5577071 ]\n",
      " [ 1.6169461  -1.5194044 ]\n",
      " [-1.0609639   1.5699066 ]]\n",
      "[[ 2.5316591  -2.54512   ]\n",
      " [ 1.7238312  -1.7234951 ]\n",
      " [ 2.7829714  -2.7149277 ]\n",
      " [ 2.2888513  -2.2959664 ]\n",
      " [ 2.3899548  -2.4606843 ]\n",
      " [-0.2620094   0.23243818]\n",
      " [ 1.9588785  -1.9758998 ]\n",
      " [-0.4264986   0.5550353 ]]\n",
      "[[-2.2281795   2.5450451 ]\n",
      " [ 2.774847   -2.69928   ]\n",
      " [ 2.7661548  -2.7025645 ]\n",
      " [ 1.7895225  -1.6804626 ]\n",
      " [-0.19196281  0.25481805]\n",
      " [-2.6080825   2.8156874 ]\n",
      " [ 2.3967676  -2.2597325 ]\n",
      " [-1.6973598   2.1189294 ]]\n",
      "[[ 1.8888208 -1.7086517]\n",
      " [ 2.7431922 -2.6859756]\n",
      " [ 2.8029575 -2.7018485]\n",
      " [ 2.7717266 -2.628153 ]\n",
      " [ 1.2525115 -1.2029995]\n",
      " [ 1.9747379 -1.9498763]\n",
      " [ 2.4971337 -2.4641101]\n",
      " [-2.4817843  2.7388477]]\n",
      "[[-2.553585    2.7799926 ]\n",
      " [-1.03081     1.4576596 ]\n",
      " [ 2.0454497  -1.9241114 ]\n",
      " [ 1.02753    -0.9910754 ]\n",
      " [-1.7673489   2.1979253 ]\n",
      " [ 2.5882168  -2.4154246 ]\n",
      " [-0.24836572  0.26779455]\n",
      " [ 2.352504   -2.358927  ]]\n",
      "[[-2.278216   2.5566738]\n",
      " [ 2.743925  -2.584051 ]\n",
      " [ 2.5076995 -2.3962624]\n",
      " [ 1.3303697 -1.2620125]\n",
      " [ 2.764143  -2.6716778]\n",
      " [ 2.25386   -2.2561657]\n",
      " [ 1.9833539 -2.0246122]\n",
      " [-0.7184411  1.1518021]]\n",
      "[[ 0.1243158  -0.23521467]\n",
      " [-0.13623737  0.1043926 ]\n",
      " [-0.45710576  0.58108985]\n",
      " [-1.6205413   2.0724432 ]\n",
      " [ 0.15557422 -0.31348237]\n",
      " [-0.58807445  0.9641151 ]\n",
      " [-1.3305411   1.819783  ]\n",
      " [-0.10838123 -0.08001783]]\n"
     ]
    },
    {
     "name": "stdout",
     "output_type": "stream",
     "text": [
      "[[-0.14965819  0.05382324]\n",
      " [-0.87400335  1.3750246 ]\n",
      " [ 2.5182989  -2.4162552 ]\n",
      " [ 1.3028628  -1.3371687 ]\n",
      " [-0.04772272  0.05302495]\n",
      " [ 1.3665863  -1.3110169 ]\n",
      " [ 2.6849656  -2.7020578 ]\n",
      " [ 2.22515    -2.1937313 ]]\n",
      "[[-1.1807104   1.6901032 ]\n",
      " [-2.162942    2.4961488 ]\n",
      " [-1.8262702   2.2225966 ]\n",
      " [-0.58829916  1.0102009 ]\n",
      " [ 0.9295751  -0.8637059 ]\n",
      " [ 2.4840112  -2.5300193 ]\n",
      " [ 1.954222   -1.9622369 ]\n",
      " [-0.30450907  0.48471335]]\n",
      "[[ 1.2874092  -1.1605753 ]\n",
      " [ 2.7801924  -2.6874602 ]\n",
      " [-1.802578    2.2141283 ]\n",
      " [ 0.16543847 -0.24055484]\n",
      " [ 2.4356556  -2.4238927 ]\n",
      " [ 2.7283225  -2.6198804 ]\n",
      " [ 2.578879   -2.4691622 ]\n",
      " [ 2.5662353  -2.4490695 ]]\n",
      "[[ 1.106568   -1.2051528 ]\n",
      " [-0.45807934  0.63718176]\n",
      " [ 0.9152659  -0.96764493]\n",
      " [-1.4170383   1.8318436 ]\n",
      " [-1.1195778   1.5322638 ]\n",
      " [-1.3701783   1.8320696 ]\n",
      " [-2.4731765   2.7311342 ]\n",
      " [-1.1729233   1.6406184 ]]\n",
      "[[-0.7784308   1.2400303 ]\n",
      " [-0.09647511  0.11587998]\n",
      " [-0.57743394  0.9352416 ]\n",
      " [-0.2140495   0.20060143]\n",
      " [-0.6298504   1.0774516 ]\n",
      " [-0.15967038 -0.03837081]\n",
      " [-1.1292647   1.616556  ]\n",
      " [-1.0423248   1.5244526 ]]\n",
      "[[ 1.1061232  -1.2535659 ]\n",
      " [-0.893055    1.383921  ]\n",
      " [ 2.4060469  -2.424119  ]\n",
      " [ 0.60567594 -0.72510123]\n",
      " [-0.01436052  0.1230488 ]\n",
      " [-2.6029024   2.79836   ]\n",
      " [-2.6055057   2.7984095 ]\n",
      " [-0.9943936   1.5056813 ]]\n",
      "[[-2.1047802   2.4277072 ]\n",
      " [-2.602376    2.7979696 ]\n",
      " [-2.60015     2.8105938 ]\n",
      " [-1.8732541   2.212926  ]\n",
      " [-0.83621866  1.2269241 ]\n",
      " [-0.98721904  1.4007705 ]\n",
      " [-1.2748307   1.6738532 ]\n",
      " [ 0.19159292 -0.3249337 ]]\n",
      "[[-2.54315     2.773976  ]\n",
      " [-1.5737944   2.003712  ]\n",
      " [-0.89281785  1.3844088 ]\n",
      " [-1.9796503   2.34969   ]\n",
      " [ 0.28409004 -0.3845963 ]\n",
      " [-1.357151    1.825419  ]\n",
      " [ 2.3884068  -2.397657  ]\n",
      " [-0.13820343 -0.03254076]]\n",
      "[[-2.629622    2.8243072 ]\n",
      " [ 1.3486367  -1.3250128 ]\n",
      " [-0.6171273   1.063597  ]\n",
      " [-2.6087053   2.7825894 ]\n",
      " [-0.26702458  0.2445842 ]\n",
      " [ 2.6973357  -2.6548972 ]\n",
      " [ 2.410236   -2.4109085 ]\n",
      " [ 2.4334242  -2.4438834 ]]\n",
      "[[-0.13814037 -0.06910568]\n",
      " [ 2.1756678  -2.1681187 ]\n",
      " [ 2.7567801  -2.7142963 ]\n",
      " [ 2.751941   -2.6410604 ]\n",
      " [ 1.0492471  -1.0973077 ]\n",
      " [ 1.4129072  -1.4408709 ]\n",
      " [-0.26286843  0.26373124]\n",
      " [-0.07967838 -0.14649037]]\n",
      "[[ 0.15404478 -0.36607215]\n",
      " [-1.2174586   1.7160178 ]\n",
      " [-0.54251117  0.874947  ]\n",
      " [-0.86621785  1.2851452 ]\n",
      " [-2.6324294   2.821672  ]\n",
      " [ 2.7872372  -2.6837044 ]\n",
      " [ 2.0321898  -2.0315435 ]\n",
      " [ 2.5688689  -2.579137  ]]\n",
      "[[-1.2057087   1.709645  ]\n",
      " [-0.21011016  0.13901821]\n",
      " [-0.9666665   1.4520507 ]\n",
      " [ 1.1093787  -1.0815271 ]\n",
      " [-0.63095796  1.067517  ]\n",
      " [-0.48070562  0.71555763]\n",
      " [ 1.506238   -1.5212027 ]\n",
      " [ 1.0685318  -1.1436278 ]]\n",
      "[[ 1.0195369  -0.99678373]\n",
      " [-0.18012823  0.11817896]\n",
      " [-0.48377612  0.66792715]\n",
      " [-2.595303    2.8252761 ]\n",
      " [-1.6786383   2.1182342 ]\n",
      " [ 0.5464412  -0.5318811 ]\n",
      " [-0.00748442 -0.19582981]\n",
      " [ 2.1176188  -2.151998  ]]\n",
      "[[-0.4702592   0.6775259 ]\n",
      " [ 0.57453585 -0.51587975]\n",
      " [ 1.3722242  -1.2614881 ]\n",
      " [-0.3475042   0.45455438]\n",
      " [ 0.88980937 -0.8512019 ]\n",
      " [-2.6036856   2.821967  ]\n",
      " [ 2.168614   -2.14208   ]\n",
      " [ 2.2911074  -2.3251987 ]]\n",
      "[[ 1.538845   -1.5817779 ]\n",
      " [ 0.1220082  -0.2313616 ]\n",
      " [ 0.11616298 -0.26583594]\n",
      " [ 2.6315005  -2.6341927 ]\n",
      " [-0.7732904   1.268437  ]\n",
      " [ 0.05786819 -0.23155236]\n",
      " [ 2.4313247  -2.4586835 ]\n",
      " [ 0.88886154 -0.9844711 ]]\n",
      "[[-0.75892365  1.1785027 ]\n",
      " [-2.6043286   2.8274257 ]\n",
      " [-1.9869951   2.348779  ]\n",
      " [-0.27262503  0.27558205]\n",
      " [-2.527203    2.7733765 ]\n",
      " [-2.5443347   2.7835069 ]\n",
      " [-0.6753888   1.140478  ]\n",
      " [ 1.2065979  -1.1470194 ]]\n",
      "[[ 2.6948771  -2.6560209 ]\n",
      " [-0.69569147  1.1703727 ]\n",
      " [-0.31355852  0.3134315 ]\n",
      " [-0.548437    0.81884336]\n",
      " [ 2.445107   -2.3020086 ]\n",
      " [-1.7323331   2.158638  ]\n",
      " [-0.5045039   0.79006517]\n",
      " [-0.07815222 -0.13760506]]\n",
      "[[ 2.6887186  -2.674185  ]\n",
      " [ 2.7606654  -2.7018883 ]\n",
      " [ 2.8203433  -2.740135  ]\n",
      " [ 2.1646814  -2.1621816 ]\n",
      " [ 2.6899748  -2.672828  ]\n",
      " [ 2.6907117  -2.6680553 ]\n",
      " [ 0.32699236 -0.3144037 ]\n",
      " [ 2.0980575  -2.1185262 ]]\n",
      "[[-1.4090542   1.8098506 ]\n",
      " [-0.10673597 -0.12548013]\n",
      " [-0.48092672  0.58088773]\n",
      " [ 1.046296   -1.1254328 ]\n",
      " [ 0.47019732 -0.56548345]\n",
      " [-0.49887937  0.67770267]\n",
      " [-0.17996643  0.31913123]\n",
      " [ 2.0451782  -1.9144901 ]]\n",
      "[[-0.63754416  0.860975  ]\n",
      " [ 0.25073054 -0.35971832]\n",
      " [-2.5787933   2.8028238 ]\n",
      " [-2.3525195   2.626635  ]\n",
      " [ 0.47174364 -0.57348955]\n",
      " [ 0.22769389 -0.34299055]\n",
      " [ 0.9473294  -0.9783838 ]\n",
      " [ 2.3539157  -2.3596904 ]]\n",
      "[[ 2.5765502  -2.564741  ]\n",
      " [ 0.51699793 -0.6393363 ]\n",
      " [ 1.793159   -1.8131418 ]\n",
      " [ 1.3235983  -1.3065736 ]\n",
      " [ 2.681888   -2.650615  ]\n",
      " [-0.4008123   0.5668973 ]\n",
      " [ 1.6182288  -1.5994873 ]\n",
      " [-0.11101139  0.02631966]]\n",
      "[[ 1.3741599  -1.315625  ]\n",
      " [-1.1971651   1.6856239 ]\n",
      " [ 2.517799   -2.5402248 ]\n",
      " [ 2.7574651  -2.7211719 ]\n",
      " [-0.9691626   1.4800078 ]\n",
      " [-0.79438746  1.2740599 ]\n",
      " [ 1.1309775  -1.2073457 ]\n",
      " [-0.960257    1.4840976 ]]\n",
      "[[ 0.38954937 -0.5158522 ]\n",
      " [-0.6159136   0.93801665]\n",
      " [ 0.36507645 -0.5306679 ]\n",
      " [ 2.0422812  -2.053644  ]\n",
      " [ 2.5622234  -2.5988238 ]\n",
      " [ 2.3797235  -2.210226  ]\n",
      " [ 1.9202356  -1.9164836 ]\n",
      " [ 2.2901661  -2.267812  ]]\n",
      "[[ 0.07357072 -0.25534272]\n",
      " [ 2.8062782  -2.7033842 ]\n",
      " [ 2.7390065  -2.671928  ]\n",
      " [-0.9140878   1.4198114 ]\n",
      " [-1.9446392   2.288284  ]\n",
      " [-2.4083943   2.6903162 ]\n",
      " [-2.6189141   2.8309355 ]\n",
      " [-2.5227926   2.7619128 ]]\n",
      "[[-0.58171666  0.92353034]\n",
      " [-2.6163526   2.800045  ]\n",
      " [ 0.05404217 -0.23519176]\n",
      " [ 2.514999   -2.3863752 ]\n",
      " [ 2.41356    -2.2260973 ]\n",
      " [-2.6134632   2.8271458 ]\n",
      " [ 0.05716138 -0.18677412]\n",
      " [-1.693661    2.1190922 ]]\n",
      "[[ 2.7145646 -2.6889813]\n",
      " [ 2.7518468 -2.6585157]\n",
      " [ 2.7266526 -2.682527 ]\n",
      " [ 2.6840785 -2.6231523]\n",
      " [-2.191648   2.5106208]\n",
      " [-2.569664   2.8025265]\n",
      " [-1.9605793  2.3154461]\n",
      " [-2.305593   2.6098347]]\n",
      "[[ 0.7406462  -0.84761864]\n",
      " [ 0.11688625 -0.3000809 ]\n",
      " [-1.9815116   2.3410928 ]\n",
      " [-1.1113334   1.5911303 ]\n",
      " [-1.3683618   1.8187858 ]\n",
      " [-1.7604262   2.1593277 ]\n",
      " [-2.43768     2.6910055 ]\n",
      " [-1.4647176   1.915704  ]]\n",
      "[[-2.5069423  2.755957 ]\n",
      " [-2.1896615  2.4933536]\n",
      " [-2.4577394  2.7099426]\n",
      " [-0.7935933  1.2169952]\n",
      " [-1.7419559  2.0874069]\n",
      " [-2.1733627  2.480244 ]\n",
      " [-1.9750019  2.3237028]\n",
      " [-2.560954   2.801615 ]]\n",
      "[[-2.5811052   2.8148353 ]\n",
      " [-2.593196    2.8177083 ]\n",
      " [-1.3665781   1.8389174 ]\n",
      " [-2.5996985   2.770513  ]\n",
      " [ 2.106031   -2.0542934 ]\n",
      " [-0.01207001  0.02801172]\n",
      " [-1.7652119   2.1729565 ]\n",
      " [-0.9912483   1.493147  ]]\n",
      "[[-1.5067501   1.9366417 ]\n",
      " [-0.59372306  0.957676  ]\n",
      " [-0.16000815 -0.0656484 ]\n",
      " [ 0.77216053 -0.82015   ]\n",
      " [ 0.12612937 -0.16295306]\n",
      " [-1.0358225   1.5248309 ]\n",
      " [-2.009264    2.3909667 ]\n",
      " [ 2.7061138  -2.6893198 ]]\n",
      "[[-1.6128218   2.0377843 ]\n",
      " [-2.5846217   2.8211658 ]\n",
      " [-2.2298923   2.5609448 ]\n",
      " [-2.1540427   2.4988763 ]\n",
      " [-1.874668    2.264408  ]\n",
      " [-1.8618038   2.266041  ]\n",
      " [-0.9795426   1.3891271 ]\n",
      " [ 0.81981087 -0.9174031 ]]\n",
      "[[-1.9725682   2.347878  ]\n",
      " [-0.6911863   0.93841815]\n",
      " [-2.571724    2.8020322 ]\n",
      " [-2.5641923   2.7946336 ]\n",
      " [-2.6153274   2.8201797 ]\n",
      " [-2.6075354   2.7859504 ]\n",
      " [-2.6155052   2.8294194 ]\n",
      " [ 2.822504   -2.6953423 ]]\n",
      "[[-2.5915442   2.8152523 ]\n",
      " [ 2.2934422  -2.3197913 ]\n",
      " [ 2.7075896  -2.6765947 ]\n",
      " [ 2.6456609  -2.6369169 ]\n",
      " [-1.6392546   2.087853  ]\n",
      " [ 0.15612368 -0.30540136]\n",
      " [ 0.02278356 -0.04900048]\n",
      " [-0.12682833  0.03886691]]\n",
      "[[ 1.3505157  -1.388536  ]\n",
      " [ 2.1958804  -2.221163  ]\n",
      " [ 1.9874741  -1.9631199 ]\n",
      " [-2.6271567   2.8246496 ]\n",
      " [-2.5757642   2.8079236 ]\n",
      " [-2.5986414   2.8205369 ]\n",
      " [-0.06666885 -0.16081306]\n",
      " [-1.2876016   1.6745341 ]]\n",
      "[[ 1.6860744  -1.5639312 ]\n",
      " [ 0.4738344  -0.5942732 ]\n",
      " [-0.8696219   1.270203  ]\n",
      " [-0.9145942   1.3574098 ]\n",
      " [-0.3486278   0.4297364 ]\n",
      " [-0.34634298  0.23148176]\n",
      " [-0.17535122 -0.05475899]\n",
      " [-0.2684005   0.17566209]]\n",
      "[[-0.2590358   0.19817117]\n",
      " [ 0.20380387 -0.29990244]\n",
      " [ 0.8552042  -0.9123948 ]\n",
      " [ 0.81963754 -0.86308837]\n",
      " [-0.6282254   0.99669003]\n",
      " [-0.8400767   1.3034285 ]\n",
      " [-1.7616025   2.1675293 ]\n",
      " [-1.5013376   1.9547333 ]]\n",
      "[[ 2.556819   -2.4895873 ]\n",
      " [-0.41318664  0.43924654]\n",
      " [ 1.3421445  -1.4128543 ]\n",
      " [-1.1127526   1.603635  ]\n",
      " [-0.32706603  0.28977856]\n",
      " [-0.42883098  0.48934716]\n",
      " [ 0.8250649  -0.8420801 ]\n",
      " [-0.99841565  1.5044897 ]]\n",
      "[[ 0.61052716 -0.7188864 ]\n",
      " [-0.3939584   0.40937388]\n",
      " [-0.2579446   0.1770804 ]\n",
      " [-0.16590694 -0.04214152]\n",
      " [-0.6088834   0.9749077 ]\n",
      " [ 1.0564674  -1.0656155 ]\n",
      " [ 2.353327   -2.3016627 ]\n",
      " [-0.1971081   0.03880021]]\n"
     ]
    },
    {
     "name": "stdout",
     "output_type": "stream",
     "text": [
      "[[-1.1312293   1.6404485 ]\n",
      " [ 0.8567079  -0.9170586 ]\n",
      " [ 0.07685117 -0.24563713]\n",
      " [-0.22843231  0.23438402]\n",
      " [-0.9073647   1.4061092 ]\n",
      " [-0.12382492  0.21938434]\n",
      " [-0.5978534   1.0196587 ]\n",
      " [-0.22393447  0.18263304]]\n",
      "[[ 0.35107672 -0.286372  ]\n",
      " [ 1.3521252  -1.2387241 ]\n",
      " [ 2.2401557  -2.1053507 ]\n",
      " [ 2.139825   -2.010629  ]\n",
      " [ 2.57338    -2.5620763 ]\n",
      " [ 2.7056675  -2.6488094 ]\n",
      " [-1.2333589   1.7337481 ]\n",
      " [-0.70710075  0.9535734 ]]\n",
      "[[-0.10934324 -0.05614555]\n",
      " [-0.26942804  0.22817439]\n",
      " [-0.03211065 -0.15484227]\n",
      " [-0.30489072  0.24773268]\n",
      " [-1.8782746   2.2728436 ]\n",
      " [-1.0323515   1.5366849 ]\n",
      " [ 2.3097143  -2.1908457 ]\n",
      " [ 2.548666   -2.3887427 ]]\n",
      "[[ 1.0979818 -1.1824043]\n",
      " [ 1.32798   -1.3739725]\n",
      " [-0.5380288  0.8027994]\n",
      " [ 2.779252  -2.6593125]\n",
      " [ 2.7556734 -2.658808 ]\n",
      " [ 2.6009276 -2.6089456]\n",
      " [ 2.3147154 -2.3304613]\n",
      " [ 2.62759   -2.5956478]]\n",
      "[[ 0.83742    -0.88180614]\n",
      " [ 2.0764685  -2.0080018 ]\n",
      " [ 2.0615828  -2.023898  ]\n",
      " [ 2.4657936  -2.3177843 ]\n",
      " [ 0.3246013  -0.40054438]\n",
      " [-2.2187648   2.5249803 ]\n",
      " [ 2.6350012  -2.6116905 ]\n",
      " [ 2.6418037  -2.641248  ]]\n",
      "[[-1.0977992   1.5384537 ]\n",
      " [ 2.6274033  -2.6249282 ]\n",
      " [ 2.775074   -2.7083352 ]\n",
      " [-0.18488313  0.2896918 ]\n",
      " [ 2.7472253  -2.7143466 ]\n",
      " [-2.6217966   2.817428  ]\n",
      " [-0.92127633  1.4182075 ]\n",
      " [-0.2574456   0.23839505]]\n",
      "[[ 2.751183   -2.7064657 ]\n",
      " [ 2.2620292  -2.2750947 ]\n",
      " [-2.6173139   2.8116033 ]\n",
      " [ 2.8182974  -2.716944  ]\n",
      " [ 0.8937123  -0.78354216]\n",
      " [ 1.9995339  -1.9496194 ]\n",
      " [ 2.739881   -2.6361291 ]\n",
      " [ 2.7859516  -2.6083126 ]]\n",
      "[[ 2.7293167 -2.694101 ]\n",
      " [ 2.730436  -2.611009 ]\n",
      " [ 2.7522206 -2.6511962]\n",
      " [-2.398654   2.6659577]\n",
      " [ 2.4093032 -2.4077346]\n",
      " [ 1.4346368 -1.4065782]\n",
      " [-2.6196513  2.8269422]\n",
      " [-2.5835361  2.818742 ]]\n",
      "[[-2.580899    2.816065  ]\n",
      " [-0.8900485   1.3422666 ]\n",
      " [-0.9236596   1.3214501 ]\n",
      " [-0.94008917  1.3438138 ]\n",
      " [-1.6017021   1.9791064 ]\n",
      " [ 0.22690971 -0.02947279]\n",
      " [-1.9026902   2.2483108 ]\n",
      " [-1.0320534   1.4523683 ]]\n",
      "[[-2.1965365   2.5008304 ]\n",
      " [-1.0189812   1.4033065 ]\n",
      " [-0.26816645  0.2978232 ]\n",
      " [ 1.375605   -1.2507538 ]\n",
      " [ 0.4521716  -0.35036114]\n",
      " [ 0.81242216 -0.7655569 ]\n",
      " [ 1.0514567  -0.9706444 ]\n",
      " [-2.6140788   2.819277  ]]\n",
      "[[-0.24995402  0.40549982]\n",
      " [-0.7775737   1.2452445 ]\n",
      " [-0.41787875  0.5782709 ]\n",
      " [ 1.0156265  -1.0699699 ]\n",
      " [-0.9082105   1.4124016 ]\n",
      " [ 0.02391264 -0.22293192]\n",
      " [-2.5073261   2.7678092 ]\n",
      " [-0.3241309   0.45923394]]\n",
      "[[-2.5597992   2.7973812 ]\n",
      " [ 0.27105457 -0.30227584]\n",
      " [ 0.6613257  -0.7513431 ]\n",
      " [-1.0216097   1.5272766 ]\n",
      " [ 0.25325    -0.3817673 ]\n",
      " [ 0.7577758  -0.85183525]\n",
      " [-0.03317542 -0.19235383]\n",
      " [-0.12842926 -0.02780839]]\n",
      "[[-0.48381498  0.69711596]\n",
      " [-2.6155248   2.8042378 ]\n",
      " [-2.5883863   2.81401   ]\n",
      " [ 0.81453806 -0.87547874]\n",
      " [-0.4183849   0.55342627]\n",
      " [-0.04558137 -0.15671712]\n",
      " [ 0.42429495 -0.3860743 ]\n",
      " [-0.13624227 -0.09685054]]\n",
      "[[ 2.6864533  -2.6279883 ]\n",
      " [ 2.2464836  -2.2620742 ]\n",
      " [-0.60975486  0.89565045]\n",
      " [ 0.2738111  -0.23807271]\n",
      " [ 0.72961694 -0.8042487 ]\n",
      " [ 2.4376755  -2.4613776 ]\n",
      " [ 0.23989138 -0.27477783]\n",
      " [-0.32456112  0.55865544]]\n",
      "[[ 1.5411164  -1.555888  ]\n",
      " [ 0.28151482 -0.43971258]\n",
      " [ 0.2711516  -0.4282048 ]\n",
      " [ 0.5530431  -0.66911143]\n",
      " [ 1.7100569  -1.5934321 ]\n",
      " [ 2.419829   -2.4204547 ]\n",
      " [ 2.470961   -2.4781163 ]\n",
      " [ 2.737893   -2.6489723 ]]\n",
      "[[ 2.1044571  -2.0684025 ]\n",
      " [-2.6013098   2.8216724 ]\n",
      " [ 1.8251156  -1.7447618 ]\n",
      " [ 0.90106905 -0.9273111 ]\n",
      " [-2.4629436   2.7268138 ]\n",
      " [ 1.5201982  -1.5098855 ]\n",
      " [-0.06323691 -0.11208484]\n",
      " [ 2.5098228  -2.5190098 ]]\n",
      "[[ 2.617083   -2.6023488 ]\n",
      " [ 2.6907578  -2.629444  ]\n",
      " [-1.1125957   1.6063603 ]\n",
      " [-1.4383098   1.9250436 ]\n",
      " [ 2.5461545  -2.4159596 ]\n",
      " [ 2.6663017  -2.5986044 ]\n",
      " [ 0.8375741  -0.68135923]\n",
      " [-1.698773    2.0949423 ]]\n",
      "[[ 2.697321  -2.5854867]\n",
      " [ 1.7332331 -1.7246604]\n",
      " [ 2.4555135 -2.3190775]\n",
      " [ 2.7810378 -2.689798 ]\n",
      " [ 2.5399556 -2.4112933]\n",
      " [ 1.4223658 -1.4584711]\n",
      " [-1.120541   1.6162   ]\n",
      " [-0.7287387  1.1984185]]\n",
      "[[-0.6249708   1.0270613 ]\n",
      " [ 2.762772   -2.6517575 ]\n",
      " [-2.4618561   2.7204049 ]\n",
      " [-0.01627731  0.09910997]\n",
      " [ 2.4136596  -2.2591953 ]\n",
      " [ 0.76320654 -0.7478714 ]\n",
      " [ 0.20214753 -0.32265675]\n",
      " [-0.5189845   0.6159657 ]]\n",
      "[[ 2.3530540e+00 -2.3917820e+00]\n",
      " [-2.6237907e+00  2.8173935e+00]\n",
      " [-2.4781499e+00  2.7290711e+00]\n",
      " [-2.2103424e+00  2.5327475e+00]\n",
      " [-2.6114233e+00  2.8253469e+00]\n",
      " [-1.6050830e-01 -1.0541822e-02]\n",
      " [-1.4764230e-01  3.0305615e-02]\n",
      " [ 3.8141827e-04 -1.9320783e-01]]\n",
      "[[-0.19367847  0.08665732]\n",
      " [-0.48639828  0.62756115]\n",
      " [-0.13910462 -0.04724118]\n",
      " [ 0.47733405 -0.5906857 ]\n",
      " [-1.0819063   1.5696381 ]\n",
      " [-0.82167685  1.3022888 ]\n",
      " [-0.65086126  1.0336931 ]\n",
      " [ 1.7144063  -1.7439693 ]]\n",
      "[[-1.1725336   1.6564717 ]\n",
      " [ 2.1941876  -2.1473808 ]\n",
      " [ 2.69567    -2.6846116 ]\n",
      " [ 1.203919   -1.2254063 ]\n",
      " [ 1.0925686  -1.1195964 ]\n",
      " [-0.3769798   0.48672196]\n",
      " [ 0.40599757 -0.5192208 ]\n",
      " [-0.01618451 -0.20420416]]\n",
      "[[ 0.38148278 -0.55965626]\n",
      " [-0.25278127  0.20664093]\n",
      " [ 0.05697501 -0.25533405]\n",
      " [-0.39494053  0.48013306]\n",
      " [-0.17596062  0.05344274]\n",
      " [ 0.7230395  -0.8218528 ]\n",
      " [-0.1370222  -0.09144431]\n",
      " [ 1.6805243  -1.6721537 ]]\n",
      "[[ 1.6860399  -1.7329726 ]\n",
      " [-0.13543901 -0.10898661]\n",
      " [-0.17672853  0.06333215]\n",
      " [-1.135868    1.6307514 ]\n",
      " [ 2.7631738  -2.6608286 ]\n",
      " [-2.2133532   2.5312126 ]\n",
      " [ 0.18428057 -0.3328253 ]\n",
      " [ 2.7014718  -2.6625717 ]]\n",
      "[[ 2.6184611  -2.6202924 ]\n",
      " [ 0.54507005 -0.658464  ]\n",
      " [ 1.3451622  -1.4319367 ]\n",
      " [ 1.5380707  -1.5524074 ]\n",
      " [ 2.5955153  -2.6141195 ]\n",
      " [ 0.75128233 -0.78192556]\n",
      " [ 2.4554615  -2.4910858 ]\n",
      " [ 2.6568918  -2.661939  ]]\n",
      "[[ 0.68640196 -0.73086286]\n",
      " [ 2.7071068  -2.716304  ]\n",
      " [ 2.1140003  -2.1269543 ]\n",
      " [ 0.8818457  -0.9967596 ]\n",
      " [-0.4667284   0.64376813]\n",
      " [-0.6113105   0.9377644 ]\n",
      " [-1.0991613   1.5487468 ]\n",
      " [ 2.3089004  -2.1328578 ]]\n",
      "[[-0.08831749 -0.13894866]\n",
      " [ 2.5195727  -2.5105104 ]\n",
      " [ 0.8493563  -0.83401   ]\n",
      " [ 1.3451622  -1.4319367 ]\n",
      " [-0.00295591 -0.12684634]\n",
      " [ 0.02531235 -0.19222029]\n",
      " [ 2.7368045  -2.6751883 ]\n",
      " [ 2.7517529  -2.6788492 ]]\n",
      "[[ 2.5588775  -2.5548031 ]\n",
      " [ 2.6005006  -2.6044166 ]\n",
      " [ 1.1545416  -1.2867913 ]\n",
      " [ 2.0870733  -2.059253  ]\n",
      " [ 1.8797568  -1.9215299 ]\n",
      " [ 0.755467   -0.83863235]\n",
      " [ 2.3278272  -2.3195388 ]\n",
      " [-0.3872913   0.5295495 ]]\n",
      "[[-1.0503134   1.546468  ]\n",
      " [-2.4398022   2.6946633 ]\n",
      " [-0.08902493 -0.1336388 ]\n",
      " [-2.61504     2.8282356 ]\n",
      " [-1.7569717   2.166063  ]\n",
      " [-1.3092607   1.7826648 ]\n",
      " [-0.08852064 -0.09378877]\n",
      " [-2.5568123   2.8003676 ]]\n",
      "[[-2.5389607   2.7757814 ]\n",
      " [-1.2947444   1.8002084 ]\n",
      " [-2.2722147   2.559294  ]\n",
      " [-1.1903876   1.6961619 ]\n",
      " [ 0.00765492  0.13892291]\n",
      " [-2.3625107   2.657019  ]\n",
      " [-2.1430912   2.4579303 ]\n",
      " [-2.3511634   2.6512177 ]]\n",
      "[[-2.349944    2.6418974 ]\n",
      " [-0.56315744  0.89813423]\n",
      " [-1.1274546   1.6349882 ]\n",
      " [-2.0868812   2.4360902 ]\n",
      " [-1.0169375   1.5231203 ]\n",
      " [-2.0247161   2.3944113 ]\n",
      " [-2.5885038   2.8214872 ]\n",
      " [ 1.4276466  -1.3990557 ]]\n",
      "[[ 2.0906186  -2.017594  ]\n",
      " [ 2.0979304  -2.1025803 ]\n",
      " [ 2.3365679  -2.3598764 ]\n",
      " [-0.1468263  -0.03704512]\n",
      " [ 0.47232473 -0.60414505]\n",
      " [ 1.7179987  -1.7719065 ]\n",
      " [ 2.7847366  -2.6860783 ]\n",
      " [-2.391779    2.6713417 ]]\n",
      "[[-2.1248124   2.4623713 ]\n",
      " [-0.4054525   0.50265825]\n",
      " [-0.12687835 -0.01688724]\n",
      " [-2.461527    2.729265  ]\n",
      " [ 2.7671394  -2.7128649 ]\n",
      " [-0.8992615   1.2883071 ]\n",
      " [-2.4570727   2.7189147 ]\n",
      " [-0.47678527  0.62676996]]\n",
      "[[-1.002231    1.4991714 ]\n",
      " [-1.334742    1.8028067 ]\n",
      " [-0.13688545 -0.05872842]\n",
      " [-2.6125746   2.796488  ]\n",
      " [-1.9690275   2.328777  ]\n",
      " [-2.6053152   2.8168142 ]\n",
      " [-1.0233024   1.4725128 ]\n",
      " [-0.39381284  0.50204414]]\n",
      "[[-2.6108189  2.7744315]\n",
      " [ 2.370184  -2.376758 ]\n",
      " [-2.5674553  2.8073614]\n",
      " [-1.7398282  2.119065 ]\n",
      " [-2.4183707  2.6855397]\n",
      " [-2.6062398  2.8160546]\n",
      " [ 2.3920321 -2.3808463]\n",
      " [ 1.648927  -1.6800015]]\n",
      "[[-2.6120338   2.8166692 ]\n",
      " [ 0.0459981  -0.22882919]\n",
      " [-0.26957637  0.23769346]\n",
      " [ 2.8342261  -2.7253895 ]\n",
      " [ 2.3645902  -2.3705225 ]\n",
      " [ 2.8167996  -2.7340639 ]\n",
      " [-2.6007662   2.8177292 ]\n",
      " [ 0.5556123  -0.62588036]]\n",
      "[[-2.5192235   2.7646568 ]\n",
      " [-1.9040202   2.286503  ]\n",
      " [-2.5939178   2.8231013 ]\n",
      " [ 2.7790055  -2.6617067 ]\n",
      " [ 0.5779804  -0.68313277]\n",
      " [ 2.7724457  -2.6458404 ]\n",
      " [ 2.5921485  -2.564366  ]\n",
      " [-0.16181535  0.0946007 ]]\n",
      "[[ 2.436162  -2.4336197]\n",
      " [ 2.2945998 -2.2661197]\n",
      " [ 1.5647479 -1.5701761]\n",
      " [ 1.6875308 -1.5838238]\n",
      " [ 2.4874148 -2.3630712]\n",
      " [ 2.754483  -2.707566 ]\n",
      " [-1.5858396  2.0687156]\n",
      " [-2.609106   2.8297822]]\n"
     ]
    },
    {
     "name": "stdout",
     "output_type": "stream",
     "text": [
      "[[ 0.03964977 -0.20832257]\n",
      " [-0.976658    1.4811414 ]\n",
      " [-1.1002764   1.6001741 ]\n",
      " [-2.631133    2.8240168 ]\n",
      " [ 2.5960426  -2.4676728 ]\n",
      " [ 2.0721307  -1.9454415 ]\n",
      " [ 0.40671825 -0.54879177]\n",
      " [-0.04715103 -0.15125294]]\n",
      "[[-1.2367059  1.6812913]\n",
      " [ 2.70192   -2.612829 ]\n",
      " [ 2.8188882 -2.7191236]\n",
      " [ 2.7959447 -2.7277162]\n",
      " [-2.5679317  2.7995553]\n",
      " [ 1.1576645 -1.058833 ]\n",
      " [-0.4644922  0.7521411]\n",
      " [ 1.6806548 -1.5496967]]\n",
      "[[-2.0043433   2.389941  ]\n",
      " [-0.04308934 -0.15196483]\n",
      " [-2.611462    2.7904718 ]\n",
      " [-0.54390717  0.9076592 ]\n",
      " [-1.1436857   1.6647809 ]\n",
      " [ 2.8305788  -2.7175422 ]\n",
      " [-2.3369918   2.6335812 ]\n",
      " [-0.8380333   1.2443537 ]]\n",
      "[[ 1.1895748 -1.2093278]\n",
      " [-2.6270864  2.8005278]\n",
      " [-0.8608936  1.3562068]\n",
      " [-1.0910041  1.5837601]\n",
      " [ 2.8020039 -2.6834881]\n",
      " [ 2.5177493 -2.385009 ]\n",
      " [ 2.7895126 -2.704231 ]\n",
      " [ 2.758112  -2.650351 ]]\n",
      "[[ 2.3483107  -2.350848  ]\n",
      " [-0.5131872   0.74316686]\n",
      " [-0.91300786  1.4123375 ]\n",
      " [-0.31775394  0.3703431 ]\n",
      " [ 2.5769691  -2.563993  ]\n",
      " [ 1.2162517  -1.1756908 ]\n",
      " [ 1.068499   -1.0034703 ]\n",
      " [ 2.6464252  -2.5964043 ]]\n",
      "[[ 0.7271775  -0.749563  ]\n",
      " [-0.01691212 -0.18250778]\n",
      " [ 2.2805805  -2.3052747 ]\n",
      " [-0.8546083   1.288504  ]\n",
      " [-2.4035473   2.6826792 ]\n",
      " [ 0.4371732  -0.5902694 ]\n",
      " [-0.34901962  0.3484384 ]\n",
      " [-0.14747994  0.03263492]]\n",
      "[[-0.9317616   1.3725128 ]\n",
      " [-0.15383907  0.05411959]\n",
      " [-2.3528333   2.647876  ]\n",
      " [ 2.2447782  -2.241387  ]\n",
      " [ 2.2629237  -2.288318  ]\n",
      " [ 1.5165669  -1.5375106 ]\n",
      " [-0.14458197  0.10513995]\n",
      " [ 0.01859839 -0.20569232]]\n",
      "[[ 2.5198584  -2.5455317 ]\n",
      " [-0.16869311  0.03152642]\n",
      " [-0.32242334  0.2816252 ]\n",
      " [-0.2674086   0.11955797]\n",
      " [-0.09694124  0.13092038]\n",
      " [ 0.8882425  -0.9726155 ]\n",
      " [ 2.5968204  -2.585724  ]\n",
      " [ 2.786675   -2.6800094 ]]\n",
      "[[ 2.789633   -2.7085383 ]\n",
      " [ 2.7858098  -2.7160065 ]\n",
      " [ 2.799314   -2.696069  ]\n",
      " [-0.22541222  0.1811797 ]\n",
      " [-0.15892896 -0.01083532]\n",
      " [-0.5579493   0.9011047 ]\n",
      " [-1.9949841   2.3604677 ]\n",
      " [-0.97164047  1.4443512 ]]\n",
      "[[-0.58478737  0.9461432 ]\n",
      " [-0.12950605 -0.05593931]\n",
      " [-0.11190464 -0.12998822]\n",
      " [-0.11929613 -0.12423275]\n",
      " [-2.568574    2.8018296 ]\n",
      " [ 0.51341087 -0.53865355]\n",
      " [-0.43264     0.5638759 ]\n",
      " [-1.7136871   2.1362102 ]]\n",
      "[[ 0.9745541  -0.9233507 ]\n",
      " [-0.01449967 -0.15332529]\n",
      " [-0.72369754  1.1963476 ]\n",
      " [-0.03260991 -0.16232663]\n",
      " [-1.8934649   2.2943203 ]\n",
      " [-0.44412994  0.60542095]\n",
      " [-0.5589914   0.85488546]\n",
      " [ 0.86441016 -0.9695199 ]]\n",
      "[[-1.0839769   1.5218352 ]\n",
      " [-0.46067607  0.60713565]\n",
      " [ 2.6888223  -2.6448474 ]\n",
      " [ 2.522643   -2.5252833 ]\n",
      " [ 1.97583    -1.9919142 ]\n",
      " [-0.09590179 -0.13311845]\n",
      " [-0.15006088 -0.02436709]\n",
      " [ 2.5579333  -2.46604   ]]\n",
      "[[-2.3602746   2.6570504 ]\n",
      " [-2.5839634   2.8163102 ]\n",
      " [-0.9956914   1.5089871 ]\n",
      " [-2.4794323   2.7440908 ]\n",
      " [ 0.09561131 -0.28284332]\n",
      " [-0.13766454  0.01375497]\n",
      " [ 0.07176074 -0.24482906]\n",
      " [ 0.01232603 -0.19383559]]\n",
      "[[ 2.4841194  -2.4743521 ]\n",
      " [ 2.5295951  -2.5302966 ]\n",
      " [ 2.3042307  -2.3481798 ]\n",
      " [ 2.750966   -2.68293   ]\n",
      " [-0.14981295 -0.03248855]\n",
      " [-2.6152854   2.8275344 ]\n",
      " [-0.07643083 -0.14781432]\n",
      " [-0.1618421   0.02573783]]\n",
      "[[-1.3734932   1.8830682 ]\n",
      " [-2.6152854   2.8275344 ]\n",
      " [-2.5463643   2.7897122 ]\n",
      " [-1.7534605   2.1713464 ]\n",
      " [ 1.4136364  -1.3351895 ]\n",
      " [-1.0530142   1.4912729 ]\n",
      " [ 0.06269317 -0.21152943]\n",
      " [ 2.5503526  -2.5566814 ]]\n",
      "[[ 2.6651797  -2.6086166 ]\n",
      " [ 2.7562833  -2.6583679 ]\n",
      " [-0.6064104   0.943889  ]\n",
      " [-1.7568713   2.2036226 ]\n",
      " [-2.593967    2.8228776 ]\n",
      " [ 0.46477053 -0.43936667]\n",
      " [ 1.5044264  -1.5516137 ]\n",
      " [ 2.789994   -2.6623685 ]]\n",
      "[[ 1.0947     -1.2391126 ]\n",
      " [-0.77493286  1.2759601 ]\n",
      " [ 1.2115804  -1.2032055 ]\n",
      " [-2.608423    2.8275263 ]\n",
      " [ 2.0804982  -2.0944183 ]\n",
      " [ 1.9379841  -1.9440004 ]\n",
      " [ 2.0156157  -2.005357  ]\n",
      " [-2.3181875   2.6250956 ]]\n",
      "[[-2.6192098  2.817765 ]\n",
      " [ 1.1999215 -1.1853732]\n",
      " [ 1.0699085 -1.1031011]\n",
      " [ 2.5753632 -2.5460625]\n",
      " [ 1.1471437 -1.1577603]\n",
      " [ 2.145416  -2.1776655]\n",
      " [ 2.77823   -2.693805 ]\n",
      " [ 2.4912062 -2.515404 ]]\n",
      "[[ 1.6900054  -1.6708626 ]\n",
      " [ 2.2736683  -2.284228  ]\n",
      " [-0.06690484 -0.04866793]\n",
      " [ 2.2955413  -2.1943367 ]\n",
      " [ 1.9261737  -1.8705715 ]\n",
      " [ 0.17473888 -0.10026622]\n",
      " [-1.965968    2.3157613 ]\n",
      " [-2.5111642   2.760055  ]]\n",
      "[[-0.10078622  0.13406423]\n",
      " [-2.3639803   2.6448128 ]\n",
      " [-2.4560127   2.712142  ]\n",
      " [ 1.296839   -1.2820747 ]\n",
      " [-1.4555482   1.912392  ]\n",
      " [-2.0469108   2.403914  ]\n",
      " [ 2.1420047  -2.1364768 ]\n",
      " [ 1.4034846  -1.4406604 ]]\n",
      "[[ 2.2383685 -2.2632337]\n",
      " [ 2.5124443 -2.4699144]\n",
      " [ 2.450951  -2.4379313]\n",
      " [ 0.4196902 -0.5683534]\n",
      " [-2.4536073  2.7127416]\n",
      " [-2.0459838  2.329911 ]\n",
      " [ 1.9362818 -1.9669453]\n",
      " [-1.8310564  2.2368267]]\n",
      "[[ 1.6299164 -1.6382145]\n",
      " [ 2.811736  -2.7417784]\n",
      " [ 2.7994685 -2.7338393]\n",
      " [-2.3257523  2.618509 ]\n",
      " [ 1.6628975 -1.6696362]\n",
      " [-2.6107337  2.784055 ]\n",
      " [-2.625156   2.8263843]\n",
      " [-2.297237   2.6053746]]\n",
      "[[-2.6324432   2.8240063 ]\n",
      " [-2.5210195   2.7634096 ]\n",
      " [-1.3205527   1.7312726 ]\n",
      " [-2.5441706   2.7781022 ]\n",
      " [-0.13103235 -0.02852889]\n",
      " [-2.4482322   2.7022698 ]\n",
      " [ 1.1403469  -1.0022393 ]\n",
      " [ 2.7496533  -2.6258485 ]]\n",
      "[[ 2.8015933  -2.6768546 ]\n",
      " [ 2.7576728  -2.649074  ]\n",
      " [-0.259694    0.3121178 ]\n",
      " [-0.09524559  0.06118135]\n",
      " [ 1.799043   -1.8476018 ]\n",
      " [-2.6128535   2.829068  ]\n",
      " [-0.05162308 -0.14586568]\n",
      " [ 0.14940529 -0.22526878]]\n",
      "[[ 0.05346474 -0.22190538]\n",
      " [-0.6015188   1.0083914 ]\n",
      " [ 1.5973012  -1.5114014 ]\n",
      " [ 0.7840933  -0.91249144]\n",
      " [-0.06827453 -0.0895753 ]\n",
      " [-2.076108    2.404268  ]\n",
      " [-0.70037353  1.1740484 ]\n",
      " [ 1.046221   -1.087313  ]]\n",
      "[[ 2.818407   -2.7078686 ]\n",
      " [ 0.01351795  0.00708087]\n",
      " [ 0.07944117 -0.11081193]\n",
      " [ 2.6795096  -2.5487218 ]\n",
      " [ 2.7823787  -2.6826384 ]\n",
      " [ 0.12127545 -0.05938968]\n",
      " [ 0.19880377 -0.2760731 ]\n",
      " [ 1.4972292  -1.5422533 ]]\n",
      "[[ 0.9567697  -1.0491469 ]\n",
      " [ 0.23935185 -0.32726592]\n",
      " [ 0.82476366 -0.82349247]\n",
      " [ 2.1122627  -2.1307883 ]\n",
      " [-0.07014212 -0.1378265 ]\n",
      " [-0.4959007   0.6187385 ]\n",
      " [-0.17339799  0.00363893]\n",
      " [ 0.8887714  -0.9549583 ]]\n",
      "[[-1.784138    2.2118654 ]\n",
      " [-0.20426516  0.1342232 ]\n",
      " [-0.9273649   1.425044  ]\n",
      " [-0.4639842   0.60030276]\n",
      " [ 0.34213954 -0.45962903]\n",
      " [-0.40578753  0.5308573 ]\n",
      " [-0.40965396  0.5540982 ]\n",
      " [ 0.9058393  -1.0574836 ]]\n",
      "[[ 0.40876138 -0.5671127 ]\n",
      " [ 0.3877904  -0.38297218]\n",
      " [ 2.4967966  -2.523229  ]\n",
      " [-0.57239413  0.88874805]\n",
      " [-0.6047194   1.0498191 ]\n",
      " [-1.6342822   2.056385  ]\n",
      " [ 0.4120919  -0.34746444]\n",
      " [-0.4646417   0.58696485]]\n",
      "[[-0.33562142  0.38438317]\n",
      " [ 2.71273    -2.688669  ]\n",
      " [-2.5192385   2.7625763 ]\n",
      " [-0.05213281 -0.12689775]\n",
      " [-0.9082438   1.4166124 ]\n",
      " [-2.4852834   2.7290733 ]\n",
      " [ 2.4474149  -2.2804053 ]\n",
      " [-0.43796706  0.5819053 ]]\n",
      "[[ 2.6412964  -2.5657125 ]\n",
      " [ 2.7671142  -2.6445208 ]\n",
      " [-1.7228626   2.1307492 ]\n",
      " [-0.7819686   1.2607852 ]\n",
      " [-0.21252123  0.14298385]\n",
      " [-1.3650635   1.8369268 ]\n",
      " [ 1.5344623  -1.539972  ]\n",
      " [-2.6002607   2.8121402 ]]\n",
      "[[-0.16956751  0.06879485]\n",
      " [-0.4772553   0.66011345]\n",
      " [-0.22056903  0.11828414]\n",
      " [-2.6177282   2.8000638 ]\n",
      " [ 0.8476175  -0.8843366 ]\n",
      " [ 1.3544933  -1.4159814 ]\n",
      " [ 1.3840984  -1.3008442 ]\n",
      " [ 1.7482586  -1.7533023 ]]\n",
      "[[ 1.10011    -1.0802928 ]\n",
      " [ 2.5804744  -2.5644104 ]\n",
      " [ 0.59774953 -0.69472533]\n",
      " [ 0.8311713  -0.8647056 ]\n",
      " [-1.0547079   1.4538945 ]\n",
      " [ 1.7127682  -1.7267708 ]\n",
      " [ 0.47944254 -0.60610074]\n",
      " [-0.66890955  0.8867818 ]]\n",
      "[[ 0.5795595 -0.6994804]\n",
      " [ 1.3311887 -1.3941203]\n",
      " [ 1.9840137 -1.8707018]\n",
      " [-2.260881   2.553258 ]\n",
      " [-0.9903718  1.4905472]\n",
      " [ 1.8223487 -1.8250848]\n",
      " [ 1.3513825 -1.3405555]\n",
      " [ 1.3758932 -1.384228 ]]\n",
      "[[ 2.5199432  -2.5091312 ]\n",
      " [-0.16684699  0.05897233]\n",
      " [ 2.7151756  -2.6615489 ]\n",
      " [ 2.7776961  -2.7294598 ]\n",
      " [-0.35060835  0.42782462]\n",
      " [ 2.6347768  -2.6085365 ]\n",
      " [ 0.30287665 -0.28852648]\n",
      " [ 1.2575375  -1.3294396 ]]\n",
      "[[ 2.5814762  -2.5675595 ]\n",
      " [ 2.5098171  -2.5182147 ]\n",
      " [-0.7864523   1.1885194 ]\n",
      " [-1.4529777   1.877897  ]\n",
      " [-2.2113085   2.5159738 ]\n",
      " [ 2.5812736  -2.5702767 ]\n",
      " [-0.04199754 -0.17660213]\n",
      " [ 2.3143616  -2.326872  ]]\n",
      "[[-1.0048431   1.5198778 ]\n",
      " [-1.5718776   1.9369425 ]\n",
      " [-0.1578393  -0.05015099]\n",
      " [ 0.16027144 -0.35096487]\n",
      " [ 0.12319531 -0.3423599 ]\n",
      " [ 1.7090874  -1.8004029 ]\n",
      " [-0.14421174 -0.1155056 ]\n",
      " [-0.41539913  0.54278654]]\n",
      "[[-1.5797874   2.0181503 ]\n",
      " [ 2.66298    -2.560601  ]\n",
      " [ 2.787299   -2.6835945 ]\n",
      " [ 0.58642375 -0.4962325 ]\n",
      " [-1.7756909   2.173701  ]\n",
      " [ 2.792314   -2.6724932 ]\n",
      " [ 0.70730996 -0.8284834 ]\n",
      " [ 2.5729547  -2.4401045 ]]\n",
      "[[ 0.611266   -0.57469356]\n",
      " [ 2.6870213  -2.5809557 ]\n",
      " [ 0.9456662  -0.92246246]\n",
      " [ 0.9556483  -0.9633683 ]\n",
      " [-0.42116237  0.50408447]\n",
      " [ 2.796828   -2.7271464 ]\n",
      " [-2.627541    2.7910542 ]\n",
      " [-2.5514085   2.7937357 ]]\n",
      "[[-2.6274753  2.826096 ]\n",
      " [-2.6185412  2.8158655]\n",
      " [ 2.5803106 -2.4476547]\n",
      " [-2.635169   2.813065 ]\n",
      " [-2.634986   2.818763 ]\n",
      " [-2.629655   2.8219962]\n",
      " [-2.6320176  2.8206077]\n",
      " [ 2.795226  -2.6632636]]\n"
     ]
    },
    {
     "name": "stdout",
     "output_type": "stream",
     "text": [
      "[[ 0.5296017 -0.5001264]\n",
      " [-2.6281285  2.827555 ]\n",
      " [-2.4078865  2.6905446]\n",
      " [ 2.7239084 -2.5952554]\n",
      " [ 2.6615071 -2.6366153]\n",
      " [ 1.9345223 -1.9462645]\n",
      " [-1.4309267  1.8894862]\n",
      " [-1.1336027  1.6299686]]\n",
      "[[-0.5962833   0.9744457 ]\n",
      " [ 2.5369449  -2.4046948 ]\n",
      " [-2.5202875   2.7683957 ]\n",
      " [ 2.2108607  -2.239489  ]\n",
      " [ 2.7018893  -2.674497  ]\n",
      " [ 2.7345126  -2.6658175 ]\n",
      " [-0.13234887 -0.06261697]\n",
      " [-0.14989616  0.14382562]]\n",
      "[[-0.3060601   0.32722756]\n",
      " [-1.1644796   1.6173093 ]\n",
      " [-0.13638055  0.1217073 ]\n",
      " [-2.2745023   2.5745814 ]\n",
      " [-1.1065856   1.6092328 ]\n",
      " [-0.37203407  0.42911723]\n",
      " [-2.430645    2.6939213 ]\n",
      " [ 0.5278018  -0.4533093 ]]\n",
      "[[-0.372267    0.4463883 ]\n",
      " [-0.23052037  0.27762598]\n",
      " [ 0.62179124 -0.6953621 ]\n",
      " [-0.16523452  0.02186853]\n",
      " [ 1.5101191  -1.55276   ]\n",
      " [ 1.224708   -1.2910718 ]\n",
      " [-0.30074638  0.30214736]\n",
      " [-0.4638757   0.5967005 ]]\n",
      "[[-0.55646336  0.94698656]\n",
      " [ 1.9896837  -1.8679479 ]\n",
      " [ 1.6843851  -1.6512595 ]\n",
      " [-0.4579136   0.60786927]\n",
      " [ 0.09365416 -0.23283085]\n",
      " [ 2.02981    -2.0822675 ]\n",
      " [ 2.682416   -2.6606982 ]\n",
      " [ 1.9011298  -1.9391912 ]]\n",
      "[[-0.55668616  0.69269305]\n",
      " [-1.1041929   1.6168936 ]\n",
      " [-0.9417001   1.457612  ]\n",
      " [-0.6163612   1.018442  ]\n",
      " [ 2.3017216  -2.3064766 ]\n",
      " [-1.2103939   1.7201837 ]\n",
      " [ 0.3277638  -0.47403958]\n",
      " [-1.3019856   1.8063562 ]]\n",
      "[[-2.5671103   2.8082113 ]\n",
      " [ 0.02645317 -0.20065184]\n",
      " [-0.70623505  1.1764735 ]\n",
      " [-0.6226116   1.0464158 ]\n",
      " [ 0.06213868 -0.21414678]\n",
      " [-0.28697646  0.27880472]\n",
      " [-0.49651647  0.68682384]\n",
      " [ 0.22692572 -0.30157757]]\n",
      "[[-1.9594789   2.3353431 ]\n",
      " [-0.24825217  0.3650532 ]\n",
      " [-0.11966647 -0.07670223]\n",
      " [-1.511746    1.9688987 ]\n",
      " [-0.06948353 -0.13430661]\n",
      " [-0.75448394  1.2549735 ]\n",
      " [ 1.9669203  -1.9913341 ]\n",
      " [ 2.0421386  -2.0399854 ]]\n",
      "[[ 1.3810157  -1.2855456 ]\n",
      " [-1.0689745   1.5012959 ]\n",
      " [-0.15371849  0.01507581]\n",
      " [ 1.8667711  -1.8289534 ]\n",
      " [ 2.0596995  -2.0565803 ]\n",
      " [ 0.7631309  -0.8164298 ]\n",
      " [ 1.5728338  -1.5993128 ]\n",
      " [-0.18572183  0.08530759]]\n",
      "[[-1.1472789   1.6072056 ]\n",
      " [-0.5977331   1.0111486 ]\n",
      " [ 0.40846068 -0.32603866]\n",
      " [-1.7475327   2.151695  ]\n",
      " [-0.0088764  -0.17069751]\n",
      " [-1.0318536   1.551845  ]\n",
      " [ 1.5191046  -1.5475022 ]\n",
      " [ 0.14535251 -0.32294077]]\n",
      "[[-1.0831539e-01 -5.7229739e-02]\n",
      " [-2.2294973e-01  1.7628996e-01]\n",
      " [-2.1096757e-01  1.6673741e-01]\n",
      " [ 1.6925733e+00 -1.6724209e+00]\n",
      " [-9.1827142e-01  1.3714086e+00]\n",
      " [ 4.2130169e-02 -2.5000232e-01]\n",
      " [-1.2766619e-01  1.8036852e-04]\n",
      " [ 1.1694819e+00 -1.1063659e+00]]\n",
      "[[-1.1256261   1.6216445 ]\n",
      " [-0.1378372   0.16745135]\n",
      " [-0.17955661  0.11187347]\n",
      " [ 0.02298281 -0.20924088]\n",
      " [-1.6306198   2.056501  ]\n",
      " [-0.5084994   0.84602726]\n",
      " [ 0.346075   -0.29695168]\n",
      " [-2.6093264   2.7949219 ]]\n",
      "[[ 2.153058  -2.1540298]\n",
      " [ 2.3855643 -2.3930838]\n",
      " [ 2.7996488 -2.71264  ]\n",
      " [-1.012061   1.506635 ]\n",
      " [-1.8323361  2.2295966]\n",
      " [ 2.8068686 -2.6985219]\n",
      " [-2.6078386  2.813341 ]\n",
      " [ 1.9993435 -1.9272168]]\n",
      "[[ 1.2607464 -1.1156524]\n",
      " [-2.5026557  2.7439194]\n",
      " [-2.632813   2.8092115]\n",
      " [-2.5800643  2.8085434]\n",
      " [-2.6327515  2.8175626]\n",
      " [-2.0581079  2.4201968]\n",
      " [-2.6303182  2.793813 ]\n",
      " [-2.6312985  2.8211377]]\n",
      "[[-2.6360447  2.820168 ]\n",
      " [-1.6395488  2.075224 ]\n",
      " [ 2.7751474 -2.647635 ]\n",
      " [-1.0372834  1.5388571]\n",
      " [ 2.3640444 -2.3860395]\n",
      " [ 2.802547  -2.7139819]\n",
      " [-0.9838051  1.4870353]\n",
      " [-1.1037716  1.5946306]]\n",
      "[[-0.5267892   0.8860081 ]\n",
      " [ 0.03687781 -0.19330078]\n",
      " [-1.8577596   2.2525656 ]\n",
      " [ 0.9525323  -0.9933455 ]\n",
      " [ 0.7345609  -0.78097254]\n",
      " [-0.0669895  -0.13206367]\n",
      " [ 0.7264771  -0.82458675]\n",
      " [-2.601375    2.8218076 ]]\n",
      "[[-1.5147727   1.9462897 ]\n",
      " [ 0.5169909  -0.5091862 ]\n",
      " [ 0.9183156  -0.83481777]\n",
      " [-1.2263538   1.7147552 ]\n",
      " [ 0.17022915 -0.30698076]\n",
      " [ 2.5019946  -2.3531907 ]\n",
      " [ 2.4390364  -2.288195  ]\n",
      " [ 2.5658894  -2.439432  ]]\n",
      "[[ 2.7559752  -2.5961108 ]\n",
      " [ 2.5379283  -2.4450133 ]\n",
      " [ 1.052634   -1.0408294 ]\n",
      " [ 1.1994367  -1.2491332 ]\n",
      " [ 2.792499   -2.7144227 ]\n",
      " [ 2.566033   -2.5151632 ]\n",
      " [ 0.23351939 -0.3745572 ]\n",
      " [-2.6024365   2.8317974 ]]\n",
      "[[ 1.9012564  -1.8799964 ]\n",
      " [ 0.12170773 -0.27769208]\n",
      " [-1.4539963   1.9211167 ]\n",
      " [-0.9673092   1.4790138 ]\n",
      " [-0.55934453  0.84877014]\n",
      " [ 0.8528401  -0.91857266]\n",
      " [-0.38887233  0.42722967]\n",
      " [-1.1177411   1.6050129 ]]\n",
      "[[ 0.05817454 -0.2606069 ]\n",
      " [-1.2594123   1.7395366 ]\n",
      " [-0.06799546 -0.13131353]\n",
      " [ 0.6735457  -0.7945007 ]\n",
      " [ 0.30353722 -0.30094954]\n",
      " [ 0.04857265 -0.14133196]\n",
      " [ 1.5080098  -1.4823613 ]\n",
      " [ 0.25661832 -0.3746146 ]]\n",
      "[[ 1.9429224  -1.9343413 ]\n",
      " [ 1.3623184  -1.3829855 ]\n",
      " [-0.5738708   0.90927553]\n",
      " [-0.10723498 -0.08944563]\n",
      " [-0.07076621 -0.16200146]\n",
      " [ 0.63753927 -0.75299865]\n",
      " [ 1.7407085  -1.7768106 ]\n",
      " [ 0.01303285 -0.21733038]]\n",
      "[[-2.4903927   2.7422674 ]\n",
      " [-0.11414579 -0.01785221]\n",
      " [-2.1177166   2.4791532 ]\n",
      " [ 2.4676752  -2.3486617 ]\n",
      " [ 2.4921045  -2.3793604 ]\n",
      " [ 2.5657582  -2.5508575 ]\n",
      " [ 2.3461614  -2.4410388 ]\n",
      " [-1.2620384   1.75158   ]]\n",
      "[[ 2.277309  -2.361119 ]\n",
      " [ 2.117437  -1.9650482]\n",
      " [ 2.5205853 -2.5043788]\n",
      " [ 2.7115579 -2.6416967]\n",
      " [ 2.6927865 -2.6496701]\n",
      " [ 1.9667108 -1.8624765]\n",
      " [-2.2501419  2.5634925]\n",
      " [-1.6969393  2.1257641]]\n",
      "[[-1.4991894   1.9577849 ]\n",
      " [-2.6375575   2.8128507 ]\n",
      " [-0.8098336   1.202332  ]\n",
      " [-2.6061544   2.7977612 ]\n",
      " [ 0.44544777 -0.5300794 ]\n",
      " [-0.5300124   0.7648368 ]\n",
      " [ 2.6671977  -2.6168187 ]\n",
      " [-2.6195471   2.7767742 ]]\n",
      "[[-2.6340148   2.8109827 ]\n",
      " [-0.5515352   0.92475414]\n",
      " [-2.6290898   2.800402  ]\n",
      " [-0.16922158  0.321219  ]\n",
      " [ 1.2901781  -1.2975006 ]\n",
      " [-2.5693665   2.7939603 ]\n",
      " [-2.612834    2.7982328 ]\n",
      " [ 2.0771108  -2.1151888 ]]\n",
      "[[ 2.7449174  -2.6118224 ]\n",
      " [-2.6332755   2.8016548 ]\n",
      " [-0.46920395  0.6731178 ]\n",
      " [-2.6290448   2.7957938 ]\n",
      " [ 2.6612234  -2.6413684 ]\n",
      " [ 2.7466457  -2.6348786 ]\n",
      " [ 2.6386611  -2.629815  ]\n",
      " [ 2.7344265  -2.6974614 ]]\n",
      "[[ 2.5147698  -2.4573276 ]\n",
      " [ 2.6614966  -2.5435526 ]\n",
      " [ 2.799706   -2.693401  ]\n",
      " [ 2.8048139  -2.7012312 ]\n",
      " [ 2.5054984  -2.364972  ]\n",
      " [ 0.11717842 -0.28762192]\n",
      " [-2.6331406   2.8090467 ]\n",
      " [-1.3322762   1.7366992 ]]\n",
      "[[ 2.8025832  -2.7030387 ]\n",
      " [ 2.795848   -2.7005122 ]\n",
      " [ 1.5427266  -1.4800484 ]\n",
      " [-2.6333668   2.8173282 ]\n",
      " [ 0.04154512 -0.21754892]\n",
      " [ 2.714596   -2.6636941 ]\n",
      " [ 0.7990972  -0.89777887]\n",
      " [ 0.5670271  -0.6948164 ]]\n",
      "[[-2.6125913   2.8262827 ]\n",
      " [ 2.0643835  -2.1002254 ]\n",
      " [ 1.3420459  -1.3675896 ]\n",
      " [-0.7760947   1.1988728 ]\n",
      " [-1.1023706   1.6094192 ]\n",
      " [-0.5019157   0.71733713]\n",
      " [-2.445196    2.7190197 ]\n",
      " [ 0.5549274  -0.59432316]]\n",
      "[[-1.5744709   2.0373352 ]\n",
      " [ 2.5383358  -2.5252888 ]\n",
      " [ 0.61532223 -0.7358915 ]\n",
      " [ 2.2767594  -2.286208  ]\n",
      " [ 0.7271606  -0.8168876 ]\n",
      " [ 1.2881984  -1.3336738 ]\n",
      " [-0.67491335  1.0384198 ]\n",
      " [ 0.8025671  -0.89401615]]\n",
      "[[-1.4056942e-04 -9.2572942e-02]\n",
      " [-2.3746915e+00  2.6572688e+00]\n",
      " [ 2.0260658e+00 -1.9761053e+00]\n",
      " [-5.1320314e-01  7.9189837e-01]\n",
      " [-2.4797814e+00  2.7383640e+00]\n",
      " [-8.2085681e-01  1.3120052e+00]\n",
      " [-8.0927885e-01  1.2513062e+00]\n",
      " [-5.5046797e-01  8.4198743e-01]]\n",
      "[[-0.5172677   0.8542402 ]\n",
      " [ 1.6925126  -1.6510984 ]\n",
      " [ 1.0449203  -1.1056007 ]\n",
      " [ 1.5087358  -1.5259336 ]\n",
      " [-0.21554904  0.14141956]\n",
      " [ 2.1379504  -2.130552  ]\n",
      " [ 1.5483996  -1.5832411 ]\n",
      " [ 2.709777   -2.6557598 ]]\n",
      "[[ 1.1724192 -1.2280564]\n",
      " [-1.3050762  1.7739829]\n",
      " [-2.1456046  2.4887195]\n",
      " [-2.5038056  2.7589343]\n",
      " [-2.1814713  2.5247042]\n",
      " [-2.3787117  2.6655667]\n",
      " [-1.9107372  2.3056786]\n",
      " [-1.164976   1.669851 ]]\n",
      "[[ 1.8559754  -1.8342049 ]\n",
      " [ 0.5326015  -0.56113786]\n",
      " [ 2.1032634  -2.121187  ]\n",
      " [ 2.4489534  -2.4753757 ]\n",
      " [ 1.2871064  -1.3110105 ]\n",
      " [ 2.4824224  -2.485269  ]\n",
      " [-0.1687029  -0.03751558]\n",
      " [-0.21839362 -0.02947202]]\n",
      "[[-0.14888124 -0.11957415]\n",
      " [-0.22007328  0.04493872]\n",
      " [-0.12714519 -0.0897669 ]\n",
      " [-0.21892266  0.13916911]\n",
      " [-0.19241263  0.00651572]\n",
      " [-0.10862311 -0.14972675]\n",
      " [-0.23650679  0.11124749]\n",
      " [-0.29763678  0.23394279]]\n",
      "[[-0.1910804  -0.04126197]\n",
      " [-0.03690204 -0.19564134]\n",
      " [-0.30060992  0.24284658]\n",
      " [ 2.0175502  -2.009763  ]\n",
      " [ 1.9952526  -1.9807571 ]\n",
      " [ 1.5177472  -1.584598  ]\n",
      " [-0.03545079  0.11299811]\n",
      " [ 2.6125686  -2.6186993 ]]\n",
      "[[ 0.02778038  0.04357264]\n",
      " [-0.949609    1.4641457 ]\n",
      " [-2.362146    2.6557634 ]\n",
      " [-2.6118946   2.8220866 ]\n",
      " [-0.2725899   0.30500582]\n",
      " [ 1.8046312  -1.8507134 ]\n",
      " [ 2.47316    -2.5103376 ]\n",
      " [ 1.4685222  -1.3312966 ]]\n",
      "[[ 2.6314878  -2.6147559 ]\n",
      " [ 2.6872458  -2.6646447 ]\n",
      " [ 2.1129067  -2.1272693 ]\n",
      " [ 0.5914758  -0.7156893 ]\n",
      " [ 2.6232882  -2.6180222 ]\n",
      " [ 1.9230086  -1.8959191 ]\n",
      " [ 0.18269832 -0.19662541]\n",
      " [-0.40334582  0.4726327 ]]\n",
      "[[ 2.6292043  -2.5849626 ]\n",
      " [ 0.00593597 -0.19089884]\n",
      " [ 2.670731   -2.6273706 ]\n",
      " [-0.7720931   1.1062251 ]\n",
      " [-2.4395366   2.7088454 ]\n",
      " [-0.15087198  0.01918179]\n",
      " [-1.8657697   2.2659934 ]\n",
      " [ 0.51963145 -0.6044289 ]]\n",
      "[[-0.9846585  1.503343 ]\n",
      " [ 1.0595964 -1.1080675]\n",
      " [ 2.3152752 -2.317086 ]\n",
      " [ 2.7013197 -2.6733124]\n",
      " [-1.2153405  1.7038463]\n",
      " [ 2.8190308 -2.7158687]\n",
      " [ 2.8074782 -2.7160044]\n",
      " [ 2.7916436 -2.6805377]]\n"
     ]
    },
    {
     "name": "stdout",
     "output_type": "stream",
     "text": [
      "[[ 2.6167386 -2.6370828]\n",
      " [ 0.4689712 -0.4440969]\n",
      " [ 1.6575078 -1.7450393]\n",
      " [-1.7100297  2.0871694]\n",
      " [-2.6131988  2.817035 ]\n",
      " [-1.2645391  1.7158691]\n",
      " [-2.5576074  2.7909403]\n",
      " [-2.2618613  2.5510771]]\n",
      "[[-0.8058958   1.2942268 ]\n",
      " [ 2.4184427  -2.4046924 ]\n",
      " [ 0.14168821 -0.07419144]\n",
      " [-0.30093074  0.3862619 ]\n",
      " [ 2.6304862  -2.51123   ]\n",
      " [-2.6278102   2.8287842 ]\n",
      " [ 2.7164402  -2.6728058 ]\n",
      " [ 2.110867   -2.1544814 ]]\n",
      "[[ 0.53589946 -0.65777314]\n",
      " [-0.20244737  0.1255797 ]\n",
      " [-0.5236147   0.7832836 ]\n",
      " [-0.11720203  0.2240141 ]\n",
      " [-0.26242426  0.3599154 ]\n",
      " [-0.08866268 -0.10992839]\n",
      " [-0.11989795 -0.11496025]\n",
      " [-0.20919456  0.13911197]]\n",
      "[[ 2.6875625  -2.6360936 ]\n",
      " [ 1.270084   -1.2083094 ]\n",
      " [-0.3139098   0.41585603]\n",
      " [ 1.5637456  -1.6088883 ]\n",
      " [ 2.635386   -2.5922325 ]\n",
      " [ 2.7952502  -2.6779854 ]\n",
      " [ 1.8089933  -1.7969072 ]\n",
      " [ 2.7393413  -2.6946726 ]]\n",
      "[[-0.6376534   1.0632695 ]\n",
      " [-0.80957806  1.3010832 ]\n",
      " [ 0.00310548 -0.1730939 ]\n",
      " [ 1.3151563  -1.3241783 ]\n",
      " [ 2.1714973  -2.1703985 ]\n",
      " [ 2.6530533  -2.5954974 ]\n",
      " [ 2.6011906  -2.558565  ]\n",
      " [ 2.3571424  -2.341708  ]]\n",
      "[[ 0.59678245 -0.5823047 ]\n",
      " [ 1.1580619  -1.2011278 ]\n",
      " [-0.05833646 -0.07187098]\n",
      " [ 0.980619   -1.0325729 ]\n",
      " [-0.21276493  0.32200673]\n",
      " [-0.37832242  0.5448119 ]\n",
      " [-0.5882844   0.94170094]\n",
      " [-0.35471314  0.56478184]]\n",
      "[[-0.9232883  1.4175533]\n",
      " [ 1.2279769 -1.1470932]\n",
      " [ 1.3780639 -1.2545245]\n",
      " [-2.3727233  2.656925 ]\n",
      " [ 2.6716487 -2.5412602]\n",
      " [ 2.1482222 -2.166252 ]\n",
      " [ 2.415188  -2.4500072]\n",
      " [ 0.7932703 -0.8550334]]\n",
      "[[-2.5426311   2.7857502 ]\n",
      " [ 0.0136566  -0.17051007]\n",
      " [ 2.1412454  -2.1284945 ]\n",
      " [ 2.3711529  -2.4240072 ]\n",
      " [-0.2621095   0.2609309 ]\n",
      " [-1.0861139   1.5610095 ]\n",
      " [ 2.6293201  -2.652552  ]\n",
      " [-2.621461    2.7916257 ]]\n",
      "[[-2.6275513   2.799692  ]\n",
      " [ 0.425282   -0.49923605]\n",
      " [-2.3770666   2.6625457 ]\n",
      " [ 1.7479877  -1.7606976 ]\n",
      " [ 2.2250729  -2.246956  ]\n",
      " [ 1.6800519  -1.6742132 ]\n",
      " [ 1.3023374  -1.2946063 ]\n",
      " [ 2.3788621  -2.3849957 ]]\n",
      "[[-2.6296325  2.80925  ]\n",
      " [-2.6336067  2.820957 ]\n",
      " [-2.632145   2.8162396]\n",
      " [-2.5654726  2.8024886]\n",
      " [ 2.6392555 -2.6054485]\n",
      " [ 1.397998  -1.4245985]\n",
      " [ 2.8371563 -2.756756 ]\n",
      " [ 2.754137  -2.7089412]]\n",
      "[[ 2.6043096  -2.6234534 ]\n",
      " [-2.6237326   2.8270395 ]\n",
      " [-2.6260436   2.817251  ]\n",
      " [-0.46930686  0.7554405 ]\n",
      " [-2.6225154   2.8247712 ]\n",
      " [-2.625762    2.8257697 ]\n",
      " [-2.6166062   2.82541   ]\n",
      " [-2.2661738   2.5833232 ]]\n",
      "[[-0.18925507  0.178594  ]\n",
      " [ 0.3305413  -0.46365595]\n",
      " [-1.2302506   1.7209226 ]\n",
      " [-2.5379775   2.7821863 ]\n",
      " [-2.1129541   2.4628956 ]\n",
      " [-1.6338223   2.0691664 ]\n",
      " [-1.696261    2.116521  ]\n",
      " [ 2.1246378  -1.9930122 ]]\n",
      "[[-2.5365143   2.7877543 ]\n",
      " [-1.975448    2.3499453 ]\n",
      " [-1.8601058   2.2556956 ]\n",
      " [-2.617421    2.811939  ]\n",
      " [-0.10893433  0.29474115]\n",
      " [-2.4615188   2.7215977 ]\n",
      " [ 1.5751888  -1.6110857 ]\n",
      " [ 0.29064816 -0.43526837]]\n",
      "[[ 2.2175794  -2.2504745 ]\n",
      " [ 1.8230051  -1.8273313 ]\n",
      " [ 0.71005785 -0.6451544 ]\n",
      " [ 1.8345057  -1.8331964 ]\n",
      " [ 0.4486149  -0.43662277]\n",
      " [ 0.06333635 -0.23663503]\n",
      " [-0.4110228   0.48669398]\n",
      " [-0.10290562  0.01909344]]\n",
      "[[ 1.0282847  -1.0553147 ]\n",
      " [ 1.1211708  -1.1962374 ]\n",
      " [-0.6452242   1.0768121 ]\n",
      " [-1.0618423   1.5700868 ]\n",
      " [-0.34128416  0.39178222]\n",
      " [ 2.4194746  -2.4464343 ]\n",
      " [-0.13548453 -0.09501819]\n",
      " [-0.12130381 -0.11622914]]\n",
      "[[ 1.7947868  -1.8212072 ]\n",
      " [ 2.0220747  -2.0444767 ]\n",
      " [-1.1928986   1.710899  ]\n",
      " [-0.0845196   0.07856268]\n",
      " [ 0.97995293 -1.0885398 ]\n",
      " [ 1.2936407  -1.2102276 ]\n",
      " [-0.58939016  0.81080455]\n",
      " [-0.52314633  0.68193674]]\n",
      "[[-0.63360935  0.97520244]\n",
      " [-0.84853077  1.2398996 ]\n",
      " [-0.60358804  0.80183274]\n",
      " [-1.0302745   1.4503247 ]\n",
      " [-0.24992537  0.23921405]\n",
      " [ 2.1536922  -2.17227   ]\n",
      " [-2.5179477   2.7694094 ]\n",
      " [ 0.9919865  -1.0846063 ]]\n",
      "[[ 1.3540642 -1.3657975]\n",
      " [ 2.6411319 -2.616125 ]\n",
      " [ 1.2907585 -1.2736659]\n",
      " [ 2.4618087 -2.475235 ]\n",
      " [-2.5979977  2.8244278]\n",
      " [-2.6235313  2.8166282]\n",
      " [-2.5947304  2.816577 ]\n",
      " [-0.6758884  1.1316074]]\n",
      "[[ 0.88158536 -0.95601124]\n",
      " [-2.3468063   2.633404  ]\n",
      " [ 0.9859371  -1.0728585 ]\n",
      " [ 0.4173347  -0.43357414]\n",
      " [-1.5493859   2.0037634 ]\n",
      " [-1.3700532   1.8592014 ]\n",
      " [-0.00998958 -0.17258888]\n",
      " [ 0.35451567 -0.44558263]]\n",
      "[[ 2.766496  -2.6979864]\n",
      " [ 1.4900546 -1.5452396]\n",
      " [ 2.7990234 -2.7144096]\n",
      " [ 2.681198  -2.668022 ]\n",
      " [-1.0177568  1.528918 ]\n",
      " [-0.4339402  0.5682211]\n",
      " [ 1.4723226 -1.4604237]\n",
      " [ 2.060299  -2.0445168]]\n",
      "[[ 1.3679584  -1.4139184 ]\n",
      " [-0.19954067  0.1193834 ]\n",
      " [ 0.11972426 -0.25616592]\n",
      " [-1.087973    1.5173678 ]\n",
      " [ 1.341412   -1.3572456 ]\n",
      " [ 0.7172073  -0.76598835]\n",
      " [-2.61718     2.829821  ]\n",
      " [-0.81732976  1.3054296 ]]\n",
      "[[ 0.08173835 -0.14025696]\n",
      " [-0.12022027 -0.04356032]\n",
      " [ 0.09855988 -0.05098401]\n",
      " [ 0.37282485 -0.46644792]\n",
      " [ 1.6065881  -1.6332198 ]\n",
      " [ 2.2573304  -2.2820473 ]\n",
      " [ 2.7648435  -2.7190564 ]\n",
      " [ 2.7849457  -2.6713748 ]]\n",
      "[[ 2.3034291  -2.3185754 ]\n",
      " [ 1.9966947  -1.9809377 ]\n",
      " [ 0.06969935 -0.07566348]\n",
      " [ 2.4484985  -2.4640286 ]\n",
      " [-0.8972709   1.3859229 ]\n",
      " [-1.0305274   1.5318488 ]\n",
      " [-0.24320011  0.16214234]\n",
      " [-2.5161228   2.7758758 ]]\n",
      "[[ 0.9037275  -0.98930323]\n",
      " [-0.09459691 -0.03781105]\n",
      " [ 2.7570853  -2.6849158 ]\n",
      " [ 2.7017922  -2.652303  ]\n",
      " [ 2.76866    -2.6763096 ]\n",
      " [ 2.55859    -2.5446868 ]\n",
      " [-2.4033394   2.6561368 ]\n",
      " [-2.2808185   2.585969  ]]\n",
      "[[-2.5282369   2.7782476 ]\n",
      " [-0.3640674   0.43872082]\n",
      " [ 1.8213049  -1.765492  ]\n",
      " [-0.0041704  -0.16216698]\n",
      " [-2.3278265   2.61456   ]\n",
      " [-2.62742     2.8223248 ]\n",
      " [-2.6223402   2.824111  ]\n",
      " [-1.8423887   2.2446148 ]]\n",
      "[[-0.2007832   0.19246797]\n",
      " [ 2.393425   -2.3952982 ]\n",
      " [ 2.1457481  -2.1476202 ]\n",
      " [-0.19636665  0.32253146]\n",
      " [-0.43000185  0.5033653 ]\n",
      " [ 0.22520155 -0.43697238]\n",
      " [-0.6796962   1.1233379 ]\n",
      " [-2.609972    2.823464  ]]\n",
      "[[-1.4757541   1.9202428 ]\n",
      " [-0.09988843 -0.1184553 ]\n",
      " [-2.0969603   2.4531658 ]\n",
      " [-0.84033597  1.3385136 ]\n",
      " [-0.8423337   1.2283072 ]\n",
      " [ 2.6799793  -2.5021875 ]\n",
      " [ 2.7163415  -2.6801364 ]\n",
      " [ 2.7424054  -2.669685  ]]\n",
      "[[ 2.7241964  -2.6616926 ]\n",
      " [ 1.2384261  -1.2918895 ]\n",
      " [ 2.7100961  -2.7026455 ]\n",
      " [ 1.9105185  -1.7978688 ]\n",
      " [ 2.509215   -2.3802314 ]\n",
      " [ 2.7476594  -2.6161363 ]\n",
      " [ 0.22934175 -0.24808197]\n",
      " [ 2.5131578  -2.5442827 ]]\n",
      "[[ 2.648489   -2.6433942 ]\n",
      " [-0.04258101 -0.05435337]\n",
      " [ 2.2581954  -2.2942064 ]\n",
      " [ 2.6639462  -2.6604044 ]\n",
      " [-0.9676394   1.4612447 ]\n",
      " [-0.7256098   1.1919678 ]\n",
      " [-2.0474377   2.4171546 ]\n",
      " [-0.58152235  0.8712848 ]]\n",
      "[[-2.506602    2.7606852 ]\n",
      " [ 0.34814417 -0.39610106]\n",
      " [-0.38446343  0.43103954]\n",
      " [-2.1415918   2.47792   ]\n",
      " [-2.577586    2.8104706 ]\n",
      " [ 0.99383223 -1.0713788 ]\n",
      " [-1.9494447   2.3307118 ]\n",
      " [-0.0510006  -0.1588143 ]]\n",
      "[[-1.9055094   2.2808983 ]\n",
      " [ 2.067863   -2.078758  ]\n",
      " [-0.22466177  0.16588722]\n",
      " [-0.07794643 -0.01528508]\n",
      " [-0.3616162   0.47481266]\n",
      " [-0.72203064  1.0890633 ]\n",
      " [ 0.6298157  -0.7374383 ]\n",
      " [ 0.10735037 -0.20905896]]\n",
      "[[-0.12630637  0.10665803]\n",
      " [ 2.7042513  -2.6699045 ]\n",
      " [ 2.5609465  -2.5522704 ]\n",
      " [-0.17634806  0.07769895]\n",
      " [ 0.3400877  -0.4810462 ]\n",
      " [ 2.3281276  -2.3331563 ]\n",
      " [-0.13813236 -0.08833452]\n",
      " [-0.15939368  0.16891012]]\n",
      "[[-1.3655416   1.8310792 ]\n",
      " [-0.74622905  1.233121  ]\n",
      " [-1.2669634   1.733874  ]\n",
      " [ 0.7316908  -0.7539295 ]\n",
      " [ 2.1245563  -2.1144989 ]\n",
      " [ 0.09580757 -0.14515446]\n",
      " [ 0.24792825 -0.4101918 ]\n",
      " [ 0.61075145 -0.74526143]]\n",
      "[[-0.35576797  0.39345467]\n",
      " [-0.14407402  0.02230999]\n",
      " [-0.7660298   1.1607674 ]\n",
      " [ 1.6254004  -1.4974774 ]\n",
      " [-0.1596635   0.0383572 ]\n",
      " [ 0.83777106 -0.9350488 ]\n",
      " [-0.47057498  0.60646963]\n",
      " [ 0.3272771  -0.28768003]]\n",
      "[[-1.102558    1.606555  ]\n",
      " [-0.15633582  0.0612453 ]\n",
      " [-0.07215398  0.15648592]\n",
      " [-0.20469236  0.15101   ]\n",
      " [ 2.2019086  -2.1700428 ]\n",
      " [ 0.34036523 -0.4275215 ]\n",
      " [ 0.9654559  -0.99936235]\n",
      " [ 0.31856823 -0.43853474]]\n",
      "[[ 0.02406009 -0.19200596]\n",
      " [-0.4120078   0.87175053]\n",
      " [ 2.6463423  -2.6415722 ]\n",
      " [ 0.07390864 -0.1182411 ]\n",
      " [ 2.3656023  -2.3999674 ]\n",
      " [ 1.4305568  -1.4031215 ]\n",
      " [-0.02168179 -0.00366783]\n",
      " [-0.45021236  0.6311729 ]]\n",
      "[[-0.22646844  0.15340689]\n",
      " [ 1.2235754  -1.1736989 ]\n",
      " [ 1.5278856  -1.3769889 ]\n",
      " [ 2.3148289  -2.2005475 ]\n",
      " [-0.75371134  1.1883885 ]\n",
      " [ 2.8005466  -2.72854   ]\n",
      " [-0.79441357  1.2473962 ]\n",
      " [-2.5169566   2.7715561 ]]\n",
      "[[ 2.3148289  -2.2005475 ]\n",
      " [ 2.7350264  -2.572995  ]\n",
      " [ 0.22645588 -0.31818983]\n",
      " [ 0.10453177 -0.14306569]\n",
      " [ 1.8920945  -1.7848697 ]\n",
      " [ 2.6646194  -2.650365  ]\n",
      " [ 1.977914   -1.9033399 ]\n",
      " [ 2.4810529  -2.4172778 ]]\n",
      "[[ 0.0036818  -0.14296354]\n",
      " [-1.0488333   1.5137119 ]\n",
      " [ 2.026323   -1.956338  ]\n",
      " [ 0.9748365  -0.9633309 ]\n",
      " [-0.506222    0.78317547]\n",
      " [-0.7194194   1.1996796 ]\n",
      " [ 2.4795356  -2.4597542 ]\n",
      " [ 2.7099562  -2.6630926 ]]\n",
      "[[-0.42758447  0.5386469 ]\n",
      " [ 1.1996859  -1.2019788 ]\n",
      " [ 1.5758954  -1.5711377 ]\n",
      " [-2.1976404   2.5124981 ]\n",
      " [-0.17255117  0.29973862]\n",
      " [ 0.38461488 -0.32403225]\n",
      " [ 2.7746758  -2.717335  ]\n",
      " [-2.5144134   2.7567036 ]]\n"
     ]
    },
    {
     "name": "stdout",
     "output_type": "stream",
     "text": [
      "[[ 1.2081372  -1.1935798 ]\n",
      " [ 2.6120625  -2.5645697 ]\n",
      " [-0.03339179 -0.17309412]\n",
      " [-1.0519526   1.5569062 ]\n",
      " [-1.0139943   1.5153133 ]\n",
      " [ 2.5185342  -2.5402167 ]\n",
      " [-0.07316402 -0.14315768]\n",
      " [-0.13144352 -0.07731066]]\n",
      "[[ 1.2683872  -1.3555409 ]\n",
      " [-0.11615612 -0.08922743]\n",
      " [-1.4499948   1.9181865 ]\n",
      " [-0.9001533   1.4070094 ]\n",
      " [-0.11813142 -0.06752846]\n",
      " [-0.2733043   0.22310263]\n",
      " [ 0.6279304  -0.6450463 ]\n",
      " [-0.780439    1.2446653 ]]\n",
      "[[-1.5536035   1.9888906 ]\n",
      " [-1.9476358   2.31417   ]\n",
      " [-1.2483817   1.7104644 ]\n",
      " [ 1.6425759  -1.6224072 ]\n",
      " [ 1.4962469  -1.5026985 ]\n",
      " [-0.19030555  0.11303044]\n",
      " [ 0.9703158  -1.0285873 ]\n",
      " [-0.09577045 -0.07031759]]\n",
      "[[ 2.3747013  -2.4045672 ]\n",
      " [ 2.6082423  -2.5181277 ]\n",
      " [ 2.7457867  -2.634752  ]\n",
      " [ 1.590803   -1.5712126 ]\n",
      " [-2.6111531   2.830408  ]\n",
      " [-0.74348724  1.206251  ]\n",
      " [ 0.9974244  -0.95079356]\n",
      " [ 2.8226552  -2.736623  ]]\n",
      "[[ 2.1658134  -2.1767576 ]\n",
      " [-2.3365452   2.6259408 ]\n",
      " [-2.6281676   2.8119948 ]\n",
      " [-2.6336641   2.8215492 ]\n",
      " [-1.1934706   1.5938903 ]\n",
      " [-2.6182268   2.8290691 ]\n",
      " [-0.43478057  0.5603363 ]\n",
      " [-0.05634463 -0.0843552 ]]\n",
      "[[-1.5622933   1.9971834 ]\n",
      " [ 1.7904073  -1.7915329 ]\n",
      " [ 1.773234   -1.7667359 ]\n",
      " [ 0.16244842 -0.30816793]\n",
      " [ 2.5833905  -2.5926816 ]\n",
      " [ 0.7957037  -0.85905516]\n",
      " [ 2.7151423  -2.6689699 ]\n",
      " [-2.470645    2.7301867 ]]\n",
      "[[ 2.3304229  -2.3650525 ]\n",
      " [ 1.2362907  -1.2604719 ]\n",
      " [ 1.0414762  -1.1076216 ]\n",
      " [ 0.791081   -0.874743  ]\n",
      " [ 2.3301933  -2.3231325 ]\n",
      " [ 1.2278093  -1.2655727 ]\n",
      " [-0.8427593   1.3276696 ]\n",
      " [-0.612147    0.99648213]]\n",
      "[[-0.31099638  0.27872807]\n",
      " [-0.34375796  0.34315172]\n",
      " [-0.07018448 -0.08305862]\n",
      " [-2.3562546   2.6411278 ]\n",
      " [-0.50461984  0.7265823 ]\n",
      " [ 2.7638714  -2.6837876 ]\n",
      " [ 2.7798014  -2.705094  ]\n",
      " [ 1.7371777  -1.6417375 ]]\n",
      "[[ 2.454173  -2.4267592]\n",
      " [ 2.7277915 -2.6568193]\n",
      " [-1.1832433  1.6849178]\n",
      " [ 1.3998014 -1.3613597]\n",
      " [ 1.1506613 -1.1156965]\n",
      " [ 2.1677864 -2.1067274]\n",
      " [ 1.1889762 -1.2760047]\n",
      " [-0.6597241  1.1226163]]\n",
      "[[ 2.8142433  -2.7283719 ]\n",
      " [-2.6110373   2.8218987 ]\n",
      " [ 2.6747904  -2.6502264 ]\n",
      " [ 2.7429638  -2.6894271 ]\n",
      " [ 0.15144588 -0.06259874]\n",
      " [ 2.81597    -2.7252367 ]\n",
      " [ 0.00315298 -0.1456266 ]\n",
      " [ 0.6737822  -0.737556  ]]\n",
      "[[-0.6442327  1.0879174]\n",
      " [ 2.455117  -2.3122635]\n",
      " [-1.9944323  2.3727477]\n",
      " [-2.527345   2.7731931]\n",
      " [-2.6317098  2.8164022]\n",
      " [-2.6339474  2.812427 ]\n",
      " [-1.4909772  1.9426314]\n",
      " [-0.5492335  0.814403 ]]\n",
      "[[-0.76204604  1.2401739 ]\n",
      " [ 2.3966408  -2.4204986 ]\n",
      " [-0.4362453   0.5359647 ]\n",
      " [-1.3671384   1.8515488 ]\n",
      " [-2.0123746   2.3661706 ]\n",
      " [-1.2067837   1.6937221 ]\n",
      " [-2.096395    2.414825  ]\n",
      " [ 0.1489868  -0.2533203 ]]\n",
      "[[-0.23854709  0.20973283]\n",
      " [ 0.17539652 -0.31132787]\n",
      " [ 2.6336172  -2.6443949 ]\n",
      " [ 0.68578887 -0.7492635 ]\n",
      " [ 2.7705717  -2.649655  ]\n",
      " [-0.5731056   0.96039844]\n",
      " [-1.7275976   2.156606  ]\n",
      " [ 0.879313   -0.833178  ]]\n",
      "[[-0.93955064  1.4120481 ]\n",
      " [-0.07558521 -0.15944426]\n",
      " [-1.2528661   1.7304956 ]\n",
      " [-0.27314672  0.27296758]\n",
      " [-0.15045227 -0.05589199]\n",
      " [-0.08390027 -0.13149905]\n",
      " [-0.42857403  0.5693508 ]\n",
      " [-0.03251704 -0.1659372 ]]\n",
      "[[-0.15269198 -0.00385585]\n",
      " [-0.06213835 -0.1509547 ]\n",
      " [ 0.6526467  -0.7569797 ]\n",
      " [ 0.6258813  -0.7088487 ]\n",
      " [-2.2450297   2.5483284 ]\n",
      " [-2.360251    2.625858  ]\n",
      " [-1.3950334   1.8590027 ]\n",
      " [-2.35719     2.636638  ]]\n",
      "[[ 2.8204694 -2.7034123]\n",
      " [ 2.7536926 -2.6812885]\n",
      " [ 2.6928492 -2.5549495]\n",
      " [ 1.7263871 -1.7078019]\n",
      " [-1.306555   1.7824249]\n",
      " [ 1.8074584 -1.6343793]\n",
      " [ 1.7689773 -1.808127 ]\n",
      " [-1.9166268  2.2752695]]\n",
      "[[-2.599751    2.8203218 ]\n",
      " [-0.61179966  0.9210979 ]\n",
      " [-2.5266795   2.768726  ]\n",
      " [-2.610196    2.8257346 ]\n",
      " [-0.40191036  0.49650252]\n",
      " [-2.5573769   2.8090289 ]\n",
      " [-1.1542803   1.5743123 ]\n",
      " [ 0.07711547 -0.27070907]]\n",
      "[[ 2.3211932  -2.3356245 ]\n",
      " [ 1.2305735  -1.2862576 ]\n",
      " [-1.8886871   2.2470837 ]\n",
      " [ 2.7265015  -2.6499817 ]\n",
      " [ 2.6719894  -2.6404293 ]\n",
      " [ 1.7905461  -1.7582866 ]\n",
      " [-0.5066235   0.8230395 ]\n",
      " [-0.46255663  0.5857162 ]]\n",
      "[[ 1.6016603 -1.563971 ]\n",
      " [ 2.3485055 -2.224384 ]\n",
      " [ 2.8023648 -2.6944778]\n",
      " [ 1.9256772 -1.9355618]\n",
      " [ 2.8149197 -2.715371 ]\n",
      " [ 2.6010814 -2.5792263]\n",
      " [-2.5794744  2.8092628]\n",
      " [ 2.7633529 -2.696689 ]]\n",
      "[[ 2.7606893  -2.6881552 ]\n",
      " [-2.6343884   2.8179522 ]\n",
      " [-2.6326466   2.8130462 ]\n",
      " [-2.1522012   2.4743574 ]\n",
      " [ 1.5107247  -1.4013005 ]\n",
      " [-0.04583327 -0.1499002 ]\n",
      " [ 2.476821   -2.4632332 ]\n",
      " [ 1.9441401  -1.9196827 ]]\n",
      "[[ 2.7847452  -2.7129233 ]\n",
      " [ 2.0288987  -1.8795364 ]\n",
      " [ 2.7912054  -2.7428503 ]\n",
      " [-0.6833401   1.1051553 ]\n",
      " [-0.23300536  0.21208772]\n",
      " [ 2.062518   -2.0174766 ]\n",
      " [ 1.2508452  -1.2894319 ]\n",
      " [-1.336896    1.814763  ]]\n",
      "[[-1.1426228   1.6307307 ]\n",
      " [-1.2801338   1.7114155 ]\n",
      " [-1.0611264   1.4924765 ]\n",
      " [-1.3338627   1.7335953 ]\n",
      " [-1.2986997   1.7904807 ]\n",
      " [-0.11640876 -0.08346557]\n",
      " [-1.160749    1.6626523 ]\n",
      " [ 0.21570028 -0.32353282]]\n",
      "[[-1.3767436   1.8570565 ]\n",
      " [ 2.6545556  -2.6057901 ]\n",
      " [-0.07698504 -0.12525222]\n",
      " [ 1.5613183  -1.5931661 ]\n",
      " [ 2.4690013  -2.4813867 ]\n",
      " [ 0.75130004 -0.870865  ]\n",
      " [-1.0846566   1.5480299 ]\n",
      " [-0.38539606  0.4245755 ]]\n",
      "[[ 0.0733395  -0.12708397]\n",
      " [-2.1323752   2.4731827 ]\n",
      " [-0.3860471   0.4768517 ]\n",
      " [-0.24443252  0.1620411 ]\n",
      " [ 0.5970825  -0.71756554]\n",
      " [ 1.3891977  -1.4116592 ]\n",
      " [ 2.2069314  -2.201924  ]\n",
      " [ 0.89985454 -1.0014435 ]]\n",
      "[[-1.1591743   1.6201401 ]\n",
      " [-2.502333    2.7545044 ]\n",
      " [-2.5122461   2.7690728 ]\n",
      " [-1.2219576   1.7063949 ]\n",
      " [-1.6061708   2.0578568 ]\n",
      " [-1.1870791   1.6808294 ]\n",
      " [-1.6490169   2.0435631 ]\n",
      " [ 0.6667449  -0.74513376]]\n",
      "[[ 2.6676702  -2.6166217 ]\n",
      " [ 0.2301474  -0.27201605]\n",
      " [ 2.616853   -2.5977185 ]\n",
      " [-0.13337953 -0.01056838]\n",
      " [ 2.5769324  -2.5413046 ]\n",
      " [-2.3055346   2.6095512 ]\n",
      " [-1.3246294   1.8009806 ]\n",
      " [-1.0186051   1.4295965 ]]\n",
      "[[ 2.1215358  -2.1368618 ]\n",
      " [-0.8716792   1.3678266 ]\n",
      " [-1.0219842   1.5243608 ]\n",
      " [ 0.27325082 -0.4036687 ]\n",
      " [-2.6041014   2.8277993 ]\n",
      " [-0.2888595   0.27733076]\n",
      " [-0.77796584  1.2499073 ]\n",
      " [ 0.9138716  -0.9012042 ]]\n",
      "[[ 0.71643037 -0.69450754]\n",
      " [-2.4328547   2.7072108 ]\n",
      " [-2.6113577   2.814918  ]\n",
      " [-2.6229715   2.8250935 ]\n",
      " [ 2.740394   -2.685328  ]\n",
      " [ 2.5820508  -2.606949  ]\n",
      " [-1.6332967   2.0706608 ]\n",
      " [ 1.2951521  -1.3135233 ]]\n",
      "[[ 1.0077834  -1.0691044 ]\n",
      " [-0.09152493 -0.12108987]\n",
      " [-0.533742    0.80848557]\n",
      " [-2.613136    2.827075  ]\n",
      " [ 1.5896268  -1.5981365 ]\n",
      " [ 1.7763292  -1.7472795 ]\n",
      " [-0.2140886   0.14667511]\n",
      " [-1.360597    1.8492419 ]]\n",
      "[[-0.17961119  0.21904095]\n",
      " [-0.2427828   0.23726943]\n",
      " [-1.4722561   1.9074475 ]\n",
      " [-0.6130409   0.9088285 ]\n",
      " [ 2.1755877  -2.1802237 ]\n",
      " [ 2.6984363  -2.646507  ]\n",
      " [ 1.9756677  -1.9774016 ]\n",
      " [ 2.1827097  -2.1855772 ]]\n",
      "[[-1.3050268  1.7864451]\n",
      " [ 1.9858907 -1.9985067]\n",
      " [-2.6118345  2.8134992]\n",
      " [-2.5101109  2.751354 ]\n",
      " [-2.5554857  2.7955346]\n",
      " [ 2.692028  -2.582795 ]\n",
      " [ 2.7050643 -2.6831448]\n",
      " [ 2.8150392 -2.7416227]]\n",
      "[[ 2.0311818  -2.0012622 ]\n",
      " [ 2.752715   -2.7134879 ]\n",
      " [ 2.3465643  -2.337347  ]\n",
      " [ 1.2653735  -1.2222778 ]\n",
      " [ 2.6262264  -2.5973656 ]\n",
      " [ 0.0926721  -0.21482599]\n",
      " [ 0.9745867  -0.9456176 ]\n",
      " [-0.29473674  0.24511777]]\n",
      "[[ 2.7544293  -2.6905231 ]\n",
      " [ 2.5215786  -2.494308  ]\n",
      " [ 2.7294784  -2.6856067 ]\n",
      " [-0.13763846 -0.0173788 ]\n",
      " [-1.8013612   2.2032077 ]\n",
      " [-0.05091753 -0.08203585]\n",
      " [-0.11281213  0.00684536]\n",
      " [ 0.5336086  -0.5876812 ]]\n",
      "[[ 1.2182809  -1.2502203 ]\n",
      " [ 0.8898072  -0.93797183]\n",
      " [-1.174839    1.6602416 ]\n",
      " [ 1.1495813  -1.1680049 ]\n",
      " [ 1.7730324  -1.7435778 ]\n",
      " [ 2.2675757  -2.2399027 ]\n",
      " [ 0.42118856 -0.54165924]\n",
      " [ 2.8309488  -2.7210932 ]]\n",
      "[[ 1.645243   -1.6709856 ]\n",
      " [ 1.5956671  -1.6262032 ]\n",
      " [-2.6009755   2.764884  ]\n",
      " [-1.5634962   2.0173569 ]\n",
      " [ 2.0184755  -2.0537238 ]\n",
      " [ 1.594159   -1.610263  ]\n",
      " [ 0.77984345 -0.85255176]\n",
      " [-0.68337923  1.1330354 ]]\n",
      "[[-0.26934704  0.2356905 ]\n",
      " [ 0.294646   -0.43637744]\n",
      " [ 1.4450871  -1.4483167 ]\n",
      " [ 1.5002745  -1.5480818 ]\n",
      " [-1.127185    1.6207983 ]\n",
      " [-2.4468434   2.710025  ]\n",
      " [-2.6162622   2.827394  ]\n",
      " [-1.0825596   1.58639   ]]\n",
      "[[-0.9364683   1.442019  ]\n",
      " [-0.608627    1.0201241 ]\n",
      " [ 0.7871026  -0.91238326]\n",
      " [ 1.5956     -1.6050819 ]\n",
      " [ 2.7245846  -2.585775  ]\n",
      " [ 0.39989865 -0.53807837]\n",
      " [ 2.620945   -2.5801003 ]\n",
      " [ 1.2893559  -1.3236184 ]]\n",
      "[[ 1.466653   -1.5215005 ]\n",
      " [-0.17362581  0.1151307 ]\n",
      " [-0.8216523   1.303207  ]\n",
      " [-1.861353    2.2490878 ]\n",
      " [ 1.177333   -1.2267083 ]\n",
      " [ 1.8296081  -1.8515716 ]\n",
      " [-0.52662206  0.7738132 ]\n",
      " [-1.5871469   2.0447614 ]]\n",
      "[[-1.2052351   1.6430327 ]\n",
      " [-0.02737328 -0.00971321]\n",
      " [-0.7515272   1.2217709 ]\n",
      " [ 1.2604052  -1.1874781 ]\n",
      " [-0.22572549  0.32121345]\n",
      " [-0.95405227  1.4537743 ]\n",
      " [-0.3230993   0.37463108]\n",
      " [-0.07012226 -0.14398456]]\n",
      "[[-1.9167316  2.3103313]\n",
      " [-2.4129066  2.6812124]\n",
      " [-2.5968146  2.820618 ]\n",
      " [-2.1643455  2.5007856]\n",
      " [ 2.824434  -2.7449164]\n",
      " [-1.2736462  1.7087288]\n",
      " [ 1.8536692 -1.8496355]\n",
      " [ 2.2722673 -2.301996 ]]\n"
     ]
    },
    {
     "name": "stderr",
     "output_type": "stream",
     "text": [
      "05/22/2020 15:53:34 - INFO - run_classifier -   ***** Eval results *****\n",
      "05/22/2020 15:53:34 - INFO - run_classifier -     eval_loss = 1.0616123614997803\n",
      "05/22/2020 15:53:34 - INFO - run_classifier -     eval_macro_f1 = 0.6231499554089043\n",
      "05/22/2020 15:53:34 - INFO - run_classifier -     eval_macro_p = 0.6235721820373717\n",
      "05/22/2020 15:53:34 - INFO - run_classifier -     eval_macro_r = 0.6227283001808318\n",
      "05/22/2020 15:53:34 - INFO - run_classifier -     eval_micro_f1 = 0.6041228439209086\n",
      "05/22/2020 15:53:34 - INFO - run_classifier -     eval_micro_p = 0.6095076400679117\n",
      "05/22/2020 15:53:34 - INFO - run_classifier -     eval_micro_r = 0.5988323603002502\n"
     ]
    },
    {
     "name": "stdout",
     "output_type": "stream",
     "text": [
      "[[ 2.729869   -2.6967318 ]\n",
      " [-0.47437024  0.7146379 ]\n",
      " [-0.00900108 -0.19315624]\n",
      " [ 1.2588012  -1.2651626 ]\n",
      " [-2.0932956   2.4212952 ]\n",
      " [-2.586116    2.8185408 ]\n",
      " [-0.56801933  0.9624652 ]]\n"
     ]
    }
   ],
   "source": [
    "if __name__ == \"__main__\":\n",
    "#     experiments()\n",
    "    evaluation_with_pretrained()"
   ]
  },
  {
   "cell_type": "code",
   "execution_count": null,
   "metadata": {},
   "outputs": [],
   "source": []
  }
 ],
 "metadata": {
  "kernelspec": {
   "display_name": "TensorFlow-GPU",
   "language": "python",
   "name": "tf-gpu"
  },
  "language_info": {
   "codemirror_mode": {
    "name": "ipython",
    "version": 3
   },
   "file_extension": ".py",
   "mimetype": "text/x-python",
   "name": "python",
   "nbconvert_exporter": "python",
   "pygments_lexer": "ipython3",
   "version": "3.7.6"
  }
 },
 "nbformat": 4,
 "nbformat_minor": 2
}
