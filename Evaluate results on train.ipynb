{
 "cells": [
  {
   "cell_type": "code",
   "execution_count": 1,
   "metadata": {},
   "outputs": [],
   "source": [
    "import pandas as pd"
   ]
  },
  {
   "cell_type": "markdown",
   "metadata": {},
   "source": [
    "## Bert Related Eval Results"
   ]
  },
  {
   "cell_type": "code",
   "execution_count": 2,
   "metadata": {},
   "outputs": [],
   "source": [
    "df = pd.read_csv(\"../stance_code/Evaluation/bert_dummy_output/bert_base_bs32_lr2e_5_epoch4_raw_score.csv\")"
   ]
  },
  {
   "cell_type": "code",
   "execution_count": 3,
   "metadata": {},
   "outputs": [
    {
     "data": {
      "text/html": [
       "<div>\n",
       "<style scoped>\n",
       "    .dataframe tbody tr th:only-of-type {\n",
       "        vertical-align: middle;\n",
       "    }\n",
       "\n",
       "    .dataframe tbody tr th {\n",
       "        vertical-align: top;\n",
       "    }\n",
       "\n",
       "    .dataframe thead th {\n",
       "        text-align: right;\n",
       "    }\n",
       "</style>\n",
       "<table border=\"1\" class=\"dataframe\">\n",
       "  <thead>\n",
       "    <tr style=\"text-align: right;\">\n",
       "      <th></th>\n",
       "      <th>undermine_score</th>\n",
       "      <th>support_score</th>\n",
       "      <th>predict_label</th>\n",
       "      <th>gold</th>\n",
       "    </tr>\n",
       "  </thead>\n",
       "  <tbody>\n",
       "    <tr>\n",
       "      <th>0</th>\n",
       "      <td>-3.120266</td>\n",
       "      <td>3.146689</td>\n",
       "      <td>1</td>\n",
       "      <td>1</td>\n",
       "    </tr>\n",
       "    <tr>\n",
       "      <th>1</th>\n",
       "      <td>-1.417848</td>\n",
       "      <td>1.625434</td>\n",
       "      <td>1</td>\n",
       "      <td>0</td>\n",
       "    </tr>\n",
       "    <tr>\n",
       "      <th>2</th>\n",
       "      <td>-2.544775</td>\n",
       "      <td>2.716588</td>\n",
       "      <td>1</td>\n",
       "      <td>1</td>\n",
       "    </tr>\n",
       "    <tr>\n",
       "      <th>3</th>\n",
       "      <td>0.655416</td>\n",
       "      <td>-0.446708</td>\n",
       "      <td>0</td>\n",
       "      <td>1</td>\n",
       "    </tr>\n",
       "    <tr>\n",
       "      <th>4</th>\n",
       "      <td>0.865310</td>\n",
       "      <td>-0.591936</td>\n",
       "      <td>0</td>\n",
       "      <td>1</td>\n",
       "    </tr>\n",
       "    <tr>\n",
       "      <th>...</th>\n",
       "      <td>...</td>\n",
       "      <td>...</td>\n",
       "      <td>...</td>\n",
       "      <td>...</td>\n",
       "    </tr>\n",
       "    <tr>\n",
       "      <th>2768</th>\n",
       "      <td>-3.130517</td>\n",
       "      <td>2.797219</td>\n",
       "      <td>1</td>\n",
       "      <td>0</td>\n",
       "    </tr>\n",
       "    <tr>\n",
       "      <th>2769</th>\n",
       "      <td>0.344362</td>\n",
       "      <td>-0.042596</td>\n",
       "      <td>0</td>\n",
       "      <td>0</td>\n",
       "    </tr>\n",
       "    <tr>\n",
       "      <th>2770</th>\n",
       "      <td>1.233127</td>\n",
       "      <td>-1.583184</td>\n",
       "      <td>0</td>\n",
       "      <td>1</td>\n",
       "    </tr>\n",
       "    <tr>\n",
       "      <th>2771</th>\n",
       "      <td>2.553239</td>\n",
       "      <td>-2.488668</td>\n",
       "      <td>0</td>\n",
       "      <td>1</td>\n",
       "    </tr>\n",
       "    <tr>\n",
       "      <th>2772</th>\n",
       "      <td>0.110734</td>\n",
       "      <td>-0.186051</td>\n",
       "      <td>0</td>\n",
       "      <td>1</td>\n",
       "    </tr>\n",
       "  </tbody>\n",
       "</table>\n",
       "<p>2773 rows × 4 columns</p>\n",
       "</div>"
      ],
      "text/plain": [
       "      undermine_score  support_score  predict_label  gold\n",
       "0           -3.120266       3.146689              1     1\n",
       "1           -1.417848       1.625434              1     0\n",
       "2           -2.544775       2.716588              1     1\n",
       "3            0.655416      -0.446708              0     1\n",
       "4            0.865310      -0.591936              0     1\n",
       "...               ...            ...            ...   ...\n",
       "2768        -3.130517       2.797219              1     0\n",
       "2769         0.344362      -0.042596              0     0\n",
       "2770         1.233127      -1.583184              0     1\n",
       "2771         2.553239      -2.488668              0     1\n",
       "2772         0.110734      -0.186051              0     1\n",
       "\n",
       "[2773 rows x 4 columns]"
      ]
     },
     "execution_count": 3,
     "metadata": {},
     "output_type": "execute_result"
    }
   ],
   "source": [
    "df"
   ]
  },
  {
   "cell_type": "code",
   "execution_count": 4,
   "metadata": {},
   "outputs": [
    {
     "name": "stderr",
     "output_type": "stream",
     "text": [
      "C:\\Users\\arsen\\AppData\\Roaming\\Python\\Python37\\site-packages\\ipykernel_launcher.py:1: UserWarning: Boolean Series key will be reindexed to match DataFrame index.\n",
      "  \"\"\"Entry point for launching an IPython kernel.\n"
     ]
    },
    {
     "data": {
      "text/plain": [
       "0.7260367097212781"
      ]
     },
     "execution_count": 4,
     "metadata": {},
     "output_type": "execute_result"
    }
   ],
   "source": [
    "recall = len(df[df.gold==1][df.predict_label==1])/(len(df[df.gold==1]))\n",
    "recall"
   ]
  },
  {
   "cell_type": "code",
   "execution_count": 5,
   "metadata": {},
   "outputs": [
    {
     "name": "stderr",
     "output_type": "stream",
     "text": [
      "C:\\Users\\arsen\\AppData\\Roaming\\Python\\Python37\\site-packages\\ipykernel_launcher.py:1: UserWarning: Boolean Series key will be reindexed to match DataFrame index.\n",
      "  \"\"\"Entry point for launching an IPython kernel.\n"
     ]
    },
    {
     "data": {
      "text/plain": [
       "0.7027649769585254"
      ]
     },
     "execution_count": 5,
     "metadata": {},
     "output_type": "execute_result"
    }
   ],
   "source": [
    "len(df[df.gold==0][df.predict_label==0])/(len(df[df.gold==0]))"
   ]
  },
  {
   "cell_type": "code",
   "execution_count": 6,
   "metadata": {},
   "outputs": [
    {
     "name": "stderr",
     "output_type": "stream",
     "text": [
      "C:\\Users\\arsen\\AppData\\Roaming\\Python\\Python37\\site-packages\\ipykernel_launcher.py:1: UserWarning: Boolean Series key will be reindexed to match DataFrame index.\n",
      "  \"\"\"Entry point for launching an IPython kernel.\n"
     ]
    },
    {
     "data": {
      "text/plain": [
       "0.734020618556701"
      ]
     },
     "execution_count": 6,
     "metadata": {},
     "output_type": "execute_result"
    }
   ],
   "source": [
    "precision = len(df[df.gold==1][df.predict_label==1])/(len(df[df.predict_label==1]))\n",
    "precision"
   ]
  },
  {
   "cell_type": "code",
   "execution_count": 7,
   "metadata": {},
   "outputs": [
    {
     "data": {
      "text/plain": [
       "0.7300068352699932"
      ]
     },
     "execution_count": 7,
     "metadata": {},
     "output_type": "execute_result"
    }
   ],
   "source": [
    "2*(precision*recall)/(precision+recall)"
   ]
  },
  {
   "cell_type": "code",
   "execution_count": null,
   "metadata": {},
   "outputs": [],
   "source": []
  },
  {
   "cell_type": "code",
   "execution_count": 8,
   "metadata": {},
   "outputs": [],
   "source": [
    "df_qua_cons = pd.read_csv(\"../stance_code/Evaluation/bert_dummy_output/bert_sia_cos_bs24_lr2e_5_epoch25_raw_score.csv\")"
   ]
  },
  {
   "cell_type": "code",
   "execution_count": 9,
   "metadata": {},
   "outputs": [
    {
     "name": "stderr",
     "output_type": "stream",
     "text": [
      "C:\\Users\\arsen\\AppData\\Roaming\\Python\\Python37\\site-packages\\ipykernel_launcher.py:1: UserWarning: Boolean Series key will be reindexed to match DataFrame index.\n",
      "  \"\"\"Entry point for launching an IPython kernel.\n"
     ]
    },
    {
     "data": {
      "text/plain": [
       "0.8048946295037389"
      ]
     },
     "execution_count": 9,
     "metadata": {},
     "output_type": "execute_result"
    }
   ],
   "source": [
    "len(df_qua_cons[df_qua_cons.gold==1][df_qua_cons.predict_label==1])/(len(df_qua_cons[df_qua_cons.gold==1]))"
   ]
  },
  {
   "cell_type": "code",
   "execution_count": 10,
   "metadata": {},
   "outputs": [
    {
     "name": "stderr",
     "output_type": "stream",
     "text": [
      "C:\\Users\\arsen\\AppData\\Roaming\\Python\\Python37\\site-packages\\ipykernel_launcher.py:1: UserWarning: Boolean Series key will be reindexed to match DataFrame index.\n",
      "  \"\"\"Entry point for launching an IPython kernel.\n"
     ]
    },
    {
     "data": {
      "text/plain": [
       "0.7772657450076805"
      ]
     },
     "execution_count": 10,
     "metadata": {},
     "output_type": "execute_result"
    }
   ],
   "source": [
    "len(df_qua_cons[df_qua_cons.gold==0][df_qua_cons.predict_label==0])/(len(df_qua_cons[df_qua_cons.gold==0]))"
   ]
  },
  {
   "cell_type": "code",
   "execution_count": null,
   "metadata": {},
   "outputs": [],
   "source": []
  },
  {
   "cell_type": "code",
   "execution_count": 11,
   "metadata": {},
   "outputs": [],
   "source": [
    "df_stancy = pd.read_csv(\"../stance_code/Evaluation/bert_dummy_output/non_reverse_bert_cons_epoch5_raw_score.csv\")"
   ]
  },
  {
   "cell_type": "code",
   "execution_count": 12,
   "metadata": {},
   "outputs": [
    {
     "name": "stderr",
     "output_type": "stream",
     "text": [
      "C:\\Users\\arsen\\AppData\\Roaming\\Python\\Python37\\site-packages\\ipykernel_launcher.py:1: UserWarning: Boolean Series key will be reindexed to match DataFrame index.\n",
      "  \"\"\"Entry point for launching an IPython kernel.\n"
     ]
    },
    {
     "data": {
      "text/plain": [
       "0.7858599592114208"
      ]
     },
     "execution_count": 12,
     "metadata": {},
     "output_type": "execute_result"
    }
   ],
   "source": [
    "len(df_stancy[df_stancy.gold==1][df_stancy.predict_label==1])/(len(df_stancy[df_stancy.gold==1]))"
   ]
  },
  {
   "cell_type": "code",
   "execution_count": 13,
   "metadata": {},
   "outputs": [
    {
     "name": "stderr",
     "output_type": "stream",
     "text": [
      "C:\\Users\\arsen\\AppData\\Roaming\\Python\\Python37\\site-packages\\ipykernel_launcher.py:1: UserWarning: Boolean Series key will be reindexed to match DataFrame index.\n",
      "  \"\"\"Entry point for launching an IPython kernel.\n"
     ]
    },
    {
     "data": {
      "text/plain": [
       "0.7211981566820277"
      ]
     },
     "execution_count": 13,
     "metadata": {},
     "output_type": "execute_result"
    }
   ],
   "source": [
    "len(df_stancy[df_stancy.gold==0][df_stancy.predict_label==0])/(len(df_stancy[df_stancy.gold==0]))"
   ]
  },
  {
   "cell_type": "code",
   "execution_count": null,
   "metadata": {},
   "outputs": [],
   "source": []
  },
  {
   "cell_type": "code",
   "execution_count": 14,
   "metadata": {},
   "outputs": [],
   "source": [
    "df_ant = pd.read_csv(\"../stance_code/Evaluation/bert_dummy_output/fuse_cosloss_1033033033_2e5_neg_siamese_bert_epoch50_raw_score.csv\")"
   ]
  },
  {
   "cell_type": "code",
   "execution_count": 15,
   "metadata": {},
   "outputs": [
    {
     "name": "stderr",
     "output_type": "stream",
     "text": [
      "C:\\Users\\arsen\\AppData\\Roaming\\Python\\Python37\\site-packages\\ipykernel_launcher.py:1: UserWarning: Boolean Series key will be reindexed to match DataFrame index.\n",
      "  \"\"\"Entry point for launching an IPython kernel.\n"
     ]
    },
    {
     "data": {
      "text/plain": [
       "0.7766295707472178"
      ]
     },
     "execution_count": 15,
     "metadata": {},
     "output_type": "execute_result"
    }
   ],
   "source": [
    "len(df_ant[df_ant.gold==1][df_ant.predict_label==1])/(len(df_ant[df_ant.gold==1]))"
   ]
  },
  {
   "cell_type": "code",
   "execution_count": 16,
   "metadata": {},
   "outputs": [
    {
     "name": "stderr",
     "output_type": "stream",
     "text": [
      "C:\\Users\\arsen\\AppData\\Roaming\\Python\\Python37\\site-packages\\ipykernel_launcher.py:1: UserWarning: Boolean Series key will be reindexed to match DataFrame index.\n",
      "  \"\"\"Entry point for launching an IPython kernel.\n"
     ]
    },
    {
     "data": {
      "text/plain": [
       "0.7438811188811189"
      ]
     },
     "execution_count": 16,
     "metadata": {},
     "output_type": "execute_result"
    }
   ],
   "source": [
    "len(df_ant[df_ant.gold==0][df_ant.predict_label==0])/(len(df_ant[df_ant.gold==0]))"
   ]
  },
  {
   "cell_type": "code",
   "execution_count": null,
   "metadata": {},
   "outputs": [],
   "source": []
  },
  {
   "cell_type": "code",
   "execution_count": 17,
   "metadata": {},
   "outputs": [],
   "source": [
    "df_base_sub = pd.read_csv(\"../stance_code/Evaluation/bert_dummy_output/onnew_neg_bert_base_raw_score.csv\")"
   ]
  },
  {
   "cell_type": "code",
   "execution_count": 18,
   "metadata": {},
   "outputs": [
    {
     "name": "stderr",
     "output_type": "stream",
     "text": [
      "C:\\Users\\arsen\\AppData\\Roaming\\Python\\Python37\\site-packages\\ipykernel_launcher.py:1: UserWarning: Boolean Series key will be reindexed to match DataFrame index.\n",
      "  \"\"\"Entry point for launching an IPython kernel.\n"
     ]
    },
    {
     "data": {
      "text/plain": [
       "0.6836248012718601"
      ]
     },
     "execution_count": 18,
     "metadata": {},
     "output_type": "execute_result"
    }
   ],
   "source": [
    "len(df_base_sub[df_base_sub.gold==1][df_base_sub.predict_label==1])/(len(df_base_sub[df_base_sub.gold==1]))"
   ]
  },
  {
   "cell_type": "code",
   "execution_count": 19,
   "metadata": {},
   "outputs": [
    {
     "name": "stderr",
     "output_type": "stream",
     "text": [
      "C:\\Users\\arsen\\AppData\\Roaming\\Python\\Python37\\site-packages\\ipykernel_launcher.py:1: UserWarning: Boolean Series key will be reindexed to match DataFrame index.\n",
      "  \"\"\"Entry point for launching an IPython kernel.\n"
     ]
    },
    {
     "data": {
      "text/plain": [
       "0.7097902097902098"
      ]
     },
     "execution_count": 19,
     "metadata": {},
     "output_type": "execute_result"
    }
   ],
   "source": [
    "len(df_base_sub[df_base_sub.gold==0][df_base_sub.predict_label==0])/(len(df_base_sub[df_base_sub.gold==0]))"
   ]
  },
  {
   "cell_type": "code",
   "execution_count": null,
   "metadata": {},
   "outputs": [],
   "source": []
  },
  {
   "cell_type": "code",
   "execution_count": 20,
   "metadata": {},
   "outputs": [],
   "source": [
    "df_stancy_sub = pd.read_csv(\"../stance_code/Evaluation/bert_dummy_output/onnew_neg_bert_cons_epoch5_raw_score.csv\")"
   ]
  },
  {
   "cell_type": "code",
   "execution_count": 21,
   "metadata": {},
   "outputs": [
    {
     "name": "stderr",
     "output_type": "stream",
     "text": [
      "C:\\Users\\arsen\\AppData\\Roaming\\Python\\Python37\\site-packages\\ipykernel_launcher.py:1: UserWarning: Boolean Series key will be reindexed to match DataFrame index.\n",
      "  \"\"\"Entry point for launching an IPython kernel.\n"
     ]
    },
    {
     "data": {
      "text/plain": [
       "0.7488076311605724"
      ]
     },
     "execution_count": 21,
     "metadata": {},
     "output_type": "execute_result"
    }
   ],
   "source": [
    "len(df_stancy_sub[df_stancy_sub.gold==1][df_stancy_sub.predict_label==1])/(len(df_stancy_sub[df_stancy_sub.gold==1]))"
   ]
  },
  {
   "cell_type": "code",
   "execution_count": 22,
   "metadata": {},
   "outputs": [
    {
     "name": "stderr",
     "output_type": "stream",
     "text": [
      "C:\\Users\\arsen\\AppData\\Roaming\\Python\\Python37\\site-packages\\ipykernel_launcher.py:1: UserWarning: Boolean Series key will be reindexed to match DataFrame index.\n",
      "  \"\"\"Entry point for launching an IPython kernel.\n"
     ]
    },
    {
     "data": {
      "text/plain": [
       "0.7482517482517482"
      ]
     },
     "execution_count": 22,
     "metadata": {},
     "output_type": "execute_result"
    }
   ],
   "source": [
    "len(df_stancy_sub[df_stancy_sub.gold==0][df_stancy_sub.predict_label==0])/(len(df_stancy_sub[df_stancy_sub.gold==0]))"
   ]
  },
  {
   "cell_type": "code",
   "execution_count": null,
   "metadata": {},
   "outputs": [],
   "source": []
  },
  {
   "cell_type": "code",
   "execution_count": 23,
   "metadata": {},
   "outputs": [],
   "source": [
    "df_qua_sub = pd.read_csv(\"../stance_code/Evaluation/bert_dummy_output/new_neg_bert_sia_cos_bs24_lr2e_5_epoch30_raw_score.csv\")"
   ]
  },
  {
   "cell_type": "code",
   "execution_count": 24,
   "metadata": {},
   "outputs": [
    {
     "name": "stderr",
     "output_type": "stream",
     "text": [
      "C:\\Users\\arsen\\AppData\\Roaming\\Python\\Python37\\site-packages\\ipykernel_launcher.py:1: UserWarning: Boolean Series key will be reindexed to match DataFrame index.\n",
      "  \"\"\"Entry point for launching an IPython kernel.\n"
     ]
    },
    {
     "data": {
      "text/plain": [
       "0.7853736089030207"
      ]
     },
     "execution_count": 24,
     "metadata": {},
     "output_type": "execute_result"
    }
   ],
   "source": [
    "len(df_qua_sub[df_qua_sub.gold==1][df_qua_sub.predict_label==1])/(len(df_qua_sub[df_qua_sub.gold==1]))"
   ]
  },
  {
   "cell_type": "code",
   "execution_count": 25,
   "metadata": {},
   "outputs": [
    {
     "name": "stderr",
     "output_type": "stream",
     "text": [
      "C:\\Users\\arsen\\AppData\\Roaming\\Python\\Python37\\site-packages\\ipykernel_launcher.py:1: UserWarning: Boolean Series key will be reindexed to match DataFrame index.\n",
      "  \"\"\"Entry point for launching an IPython kernel.\n"
     ]
    },
    {
     "data": {
      "text/plain": [
       "0.7709790209790209"
      ]
     },
     "execution_count": 25,
     "metadata": {},
     "output_type": "execute_result"
    }
   ],
   "source": [
    "len(df_qua_sub[df_qua_sub.gold==0][df_qua_sub.predict_label==0])/(len(df_qua_sub[df_qua_sub.gold==0]))"
   ]
  },
  {
   "cell_type": "code",
   "execution_count": null,
   "metadata": {},
   "outputs": [],
   "source": []
  },
  {
   "cell_type": "markdown",
   "metadata": {},
   "source": [
    "## Triplet Bert Related Eval Results"
   ]
  },
  {
   "cell_type": "code",
   "execution_count": 4,
   "metadata": {},
   "outputs": [],
   "source": [
    "import pandas as pd\n",
    "from sklearn.metrics import accuracy_score,f1_score,recall_score,precision_score"
   ]
  },
  {
   "cell_type": "code",
   "execution_count": 5,
   "metadata": {},
   "outputs": [],
   "source": [
    "# Triplet cos siamese bert"
   ]
  },
  {
   "cell_type": "code",
   "execution_count": 6,
   "metadata": {},
   "outputs": [],
   "source": [
    "df = pd.read_csv(\"../stance_code/Evaluation/bert_dummy_output/train_distance_concat_margin1_costriplet_cos_siamese_bs24_lr2e_5_epoch15_raw_score.csv\")"
   ]
  },
  {
   "cell_type": "code",
   "execution_count": 7,
   "metadata": {},
   "outputs": [
    {
     "data": {
      "text/html": [
       "<div>\n",
       "<style scoped>\n",
       "    .dataframe tbody tr th:only-of-type {\n",
       "        vertical-align: middle;\n",
       "    }\n",
       "\n",
       "    .dataframe tbody tr th {\n",
       "        vertical-align: top;\n",
       "    }\n",
       "\n",
       "    .dataframe thead th {\n",
       "        text-align: right;\n",
       "    }\n",
       "</style>\n",
       "<table border=\"1\" class=\"dataframe\">\n",
       "  <thead>\n",
       "    <tr style=\"text-align: right;\">\n",
       "      <th></th>\n",
       "      <th>undermine_score</th>\n",
       "      <th>support_score</th>\n",
       "      <th>cp_distance</th>\n",
       "      <th>cop_distance</th>\n",
       "      <th>predict_label</th>\n",
       "      <th>distance_label</th>\n",
       "      <th>gold</th>\n",
       "    </tr>\n",
       "  </thead>\n",
       "  <tbody>\n",
       "    <tr>\n",
       "      <th>0</th>\n",
       "      <td>6.570068</td>\n",
       "      <td>-5.162881</td>\n",
       "      <td>1.871948</td>\n",
       "      <td>0.072585</td>\n",
       "      <td>0</td>\n",
       "      <td>0</td>\n",
       "      <td>0</td>\n",
       "    </tr>\n",
       "    <tr>\n",
       "      <th>1</th>\n",
       "      <td>7.038213</td>\n",
       "      <td>-5.479890</td>\n",
       "      <td>1.892146</td>\n",
       "      <td>0.094106</td>\n",
       "      <td>0</td>\n",
       "      <td>0</td>\n",
       "      <td>0</td>\n",
       "    </tr>\n",
       "    <tr>\n",
       "      <th>2</th>\n",
       "      <td>-4.758564</td>\n",
       "      <td>4.019589</td>\n",
       "      <td>0.002869</td>\n",
       "      <td>0.007389</td>\n",
       "      <td>1</td>\n",
       "      <td>1</td>\n",
       "      <td>1</td>\n",
       "    </tr>\n",
       "    <tr>\n",
       "      <th>3</th>\n",
       "      <td>-3.960488</td>\n",
       "      <td>2.541158</td>\n",
       "      <td>0.038679</td>\n",
       "      <td>0.029619</td>\n",
       "      <td>1</td>\n",
       "      <td>0</td>\n",
       "      <td>1</td>\n",
       "    </tr>\n",
       "    <tr>\n",
       "      <th>4</th>\n",
       "      <td>-4.402532</td>\n",
       "      <td>3.949514</td>\n",
       "      <td>0.005121</td>\n",
       "      <td>0.887486</td>\n",
       "      <td>1</td>\n",
       "      <td>1</td>\n",
       "      <td>1</td>\n",
       "    </tr>\n",
       "    <tr>\n",
       "      <th>...</th>\n",
       "      <td>...</td>\n",
       "      <td>...</td>\n",
       "      <td>...</td>\n",
       "      <td>...</td>\n",
       "      <td>...</td>\n",
       "      <td>...</td>\n",
       "      <td>...</td>\n",
       "    </tr>\n",
       "    <tr>\n",
       "      <th>6265</th>\n",
       "      <td>6.472634</td>\n",
       "      <td>-3.488140</td>\n",
       "      <td>1.985474</td>\n",
       "      <td>1.345437</td>\n",
       "      <td>0</td>\n",
       "      <td>0</td>\n",
       "      <td>0</td>\n",
       "    </tr>\n",
       "    <tr>\n",
       "      <th>6266</th>\n",
       "      <td>5.334882</td>\n",
       "      <td>-5.611214</td>\n",
       "      <td>1.971242</td>\n",
       "      <td>0.216501</td>\n",
       "      <td>0</td>\n",
       "      <td>0</td>\n",
       "      <td>0</td>\n",
       "    </tr>\n",
       "    <tr>\n",
       "      <th>6267</th>\n",
       "      <td>5.198120</td>\n",
       "      <td>-4.836023</td>\n",
       "      <td>1.971259</td>\n",
       "      <td>0.216393</td>\n",
       "      <td>0</td>\n",
       "      <td>0</td>\n",
       "      <td>0</td>\n",
       "    </tr>\n",
       "    <tr>\n",
       "      <th>6268</th>\n",
       "      <td>5.662388</td>\n",
       "      <td>-4.044949</td>\n",
       "      <td>1.881880</td>\n",
       "      <td>0.962322</td>\n",
       "      <td>0</td>\n",
       "      <td>0</td>\n",
       "      <td>0</td>\n",
       "    </tr>\n",
       "    <tr>\n",
       "      <th>6269</th>\n",
       "      <td>5.912449</td>\n",
       "      <td>-5.164750</td>\n",
       "      <td>1.987603</td>\n",
       "      <td>0.156738</td>\n",
       "      <td>0</td>\n",
       "      <td>0</td>\n",
       "      <td>0</td>\n",
       "    </tr>\n",
       "  </tbody>\n",
       "</table>\n",
       "<p>6270 rows × 7 columns</p>\n",
       "</div>"
      ],
      "text/plain": [
       "      undermine_score  support_score  cp_distance  cop_distance  \\\n",
       "0            6.570068      -5.162881     1.871948      0.072585   \n",
       "1            7.038213      -5.479890     1.892146      0.094106   \n",
       "2           -4.758564       4.019589     0.002869      0.007389   \n",
       "3           -3.960488       2.541158     0.038679      0.029619   \n",
       "4           -4.402532       3.949514     0.005121      0.887486   \n",
       "...               ...            ...          ...           ...   \n",
       "6265         6.472634      -3.488140     1.985474      1.345437   \n",
       "6266         5.334882      -5.611214     1.971242      0.216501   \n",
       "6267         5.198120      -4.836023     1.971259      0.216393   \n",
       "6268         5.662388      -4.044949     1.881880      0.962322   \n",
       "6269         5.912449      -5.164750     1.987603      0.156738   \n",
       "\n",
       "      predict_label  distance_label  gold  \n",
       "0                 0               0     0  \n",
       "1                 0               0     0  \n",
       "2                 1               1     1  \n",
       "3                 1               0     1  \n",
       "4                 1               1     1  \n",
       "...             ...             ...   ...  \n",
       "6265              0               0     0  \n",
       "6266              0               0     0  \n",
       "6267              0               0     0  \n",
       "6268              0               0     0  \n",
       "6269              0               0     0  \n",
       "\n",
       "[6270 rows x 7 columns]"
      ]
     },
     "execution_count": 7,
     "metadata": {},
     "output_type": "execute_result"
    }
   ],
   "source": [
    "df"
   ]
  },
  {
   "cell_type": "code",
   "execution_count": 30,
   "metadata": {},
   "outputs": [],
   "source": [
    "#logits evaluation results"
   ]
  },
  {
   "cell_type": "code",
   "execution_count": 8,
   "metadata": {},
   "outputs": [
    {
     "data": {
      "text/plain": [
       "1.0"
      ]
     },
     "execution_count": 8,
     "metadata": {},
     "output_type": "execute_result"
    }
   ],
   "source": [
    "f1_score(df.gold,df.predict_label)"
   ]
  },
  {
   "cell_type": "code",
   "execution_count": 9,
   "metadata": {},
   "outputs": [
    {
     "data": {
      "text/plain": [
       "1.0"
      ]
     },
     "execution_count": 9,
     "metadata": {},
     "output_type": "execute_result"
    }
   ],
   "source": [
    "precision_score(df.gold,df.predict_label)"
   ]
  },
  {
   "cell_type": "code",
   "execution_count": 10,
   "metadata": {},
   "outputs": [
    {
     "data": {
      "text/plain": [
       "1.0"
      ]
     },
     "execution_count": 10,
     "metadata": {},
     "output_type": "execute_result"
    }
   ],
   "source": [
    "recall_score(df.gold,df.predict_label)"
   ]
  },
  {
   "cell_type": "code",
   "execution_count": null,
   "metadata": {},
   "outputs": [],
   "source": []
  },
  {
   "cell_type": "code",
   "execution_count": 34,
   "metadata": {},
   "outputs": [],
   "source": [
    "#distance evaluation results"
   ]
  },
  {
   "cell_type": "code",
   "execution_count": 11,
   "metadata": {},
   "outputs": [
    {
     "data": {
      "text/plain": [
       "0.9327286470143613"
      ]
     },
     "execution_count": 11,
     "metadata": {},
     "output_type": "execute_result"
    }
   ],
   "source": [
    "f1_score(df.gold,df.distance_label)"
   ]
  },
  {
   "cell_type": "code",
   "execution_count": 12,
   "metadata": {},
   "outputs": [
    {
     "data": {
      "text/plain": [
       "0.9076198882024125"
      ]
     },
     "execution_count": 12,
     "metadata": {},
     "output_type": "execute_result"
    }
   ],
   "source": [
    "precision_score(df.gold,df.distance_label)"
   ]
  },
  {
   "cell_type": "code",
   "execution_count": 13,
   "metadata": {},
   "outputs": [
    {
     "data": {
      "text/plain": [
       "0.9592661691542289"
      ]
     },
     "execution_count": 13,
     "metadata": {},
     "output_type": "execute_result"
    }
   ],
   "source": [
    "recall_score(df.gold,df.distance_label)"
   ]
  },
  {
   "cell_type": "code",
   "execution_count": null,
   "metadata": {},
   "outputs": [],
   "source": []
  },
  {
   "cell_type": "code",
   "execution_count": 38,
   "metadata": {},
   "outputs": [],
   "source": [
    "#consistent cases (logtis prediction == distance prediction)"
   ]
  },
  {
   "cell_type": "code",
   "execution_count": 14,
   "metadata": {},
   "outputs": [],
   "source": [
    "df_consistency = df[df.predict_label==df.distance_label]"
   ]
  },
  {
   "cell_type": "code",
   "execution_count": 15,
   "metadata": {},
   "outputs": [
    {
     "data": {
      "text/html": [
       "<div>\n",
       "<style scoped>\n",
       "    .dataframe tbody tr th:only-of-type {\n",
       "        vertical-align: middle;\n",
       "    }\n",
       "\n",
       "    .dataframe tbody tr th {\n",
       "        vertical-align: top;\n",
       "    }\n",
       "\n",
       "    .dataframe thead th {\n",
       "        text-align: right;\n",
       "    }\n",
       "</style>\n",
       "<table border=\"1\" class=\"dataframe\">\n",
       "  <thead>\n",
       "    <tr style=\"text-align: right;\">\n",
       "      <th></th>\n",
       "      <th>undermine_score</th>\n",
       "      <th>support_score</th>\n",
       "      <th>cp_distance</th>\n",
       "      <th>cop_distance</th>\n",
       "      <th>predict_label</th>\n",
       "      <th>distance_label</th>\n",
       "      <th>gold</th>\n",
       "    </tr>\n",
       "  </thead>\n",
       "  <tbody>\n",
       "    <tr>\n",
       "      <th>0</th>\n",
       "      <td>6.570068</td>\n",
       "      <td>-5.162881</td>\n",
       "      <td>1.871948</td>\n",
       "      <td>0.072585</td>\n",
       "      <td>0</td>\n",
       "      <td>0</td>\n",
       "      <td>0</td>\n",
       "    </tr>\n",
       "    <tr>\n",
       "      <th>1</th>\n",
       "      <td>7.038213</td>\n",
       "      <td>-5.479890</td>\n",
       "      <td>1.892146</td>\n",
       "      <td>0.094106</td>\n",
       "      <td>0</td>\n",
       "      <td>0</td>\n",
       "      <td>0</td>\n",
       "    </tr>\n",
       "    <tr>\n",
       "      <th>2</th>\n",
       "      <td>-4.758564</td>\n",
       "      <td>4.019589</td>\n",
       "      <td>0.002869</td>\n",
       "      <td>0.007389</td>\n",
       "      <td>1</td>\n",
       "      <td>1</td>\n",
       "      <td>1</td>\n",
       "    </tr>\n",
       "    <tr>\n",
       "      <th>4</th>\n",
       "      <td>-4.402532</td>\n",
       "      <td>3.949514</td>\n",
       "      <td>0.005121</td>\n",
       "      <td>0.887486</td>\n",
       "      <td>1</td>\n",
       "      <td>1</td>\n",
       "      <td>1</td>\n",
       "    </tr>\n",
       "    <tr>\n",
       "      <th>5</th>\n",
       "      <td>5.949302</td>\n",
       "      <td>-6.822432</td>\n",
       "      <td>1.937907</td>\n",
       "      <td>0.014158</td>\n",
       "      <td>0</td>\n",
       "      <td>0</td>\n",
       "      <td>0</td>\n",
       "    </tr>\n",
       "    <tr>\n",
       "      <th>...</th>\n",
       "      <td>...</td>\n",
       "      <td>...</td>\n",
       "      <td>...</td>\n",
       "      <td>...</td>\n",
       "      <td>...</td>\n",
       "      <td>...</td>\n",
       "      <td>...</td>\n",
       "    </tr>\n",
       "    <tr>\n",
       "      <th>6265</th>\n",
       "      <td>6.472634</td>\n",
       "      <td>-3.488140</td>\n",
       "      <td>1.985474</td>\n",
       "      <td>1.345437</td>\n",
       "      <td>0</td>\n",
       "      <td>0</td>\n",
       "      <td>0</td>\n",
       "    </tr>\n",
       "    <tr>\n",
       "      <th>6266</th>\n",
       "      <td>5.334882</td>\n",
       "      <td>-5.611214</td>\n",
       "      <td>1.971242</td>\n",
       "      <td>0.216501</td>\n",
       "      <td>0</td>\n",
       "      <td>0</td>\n",
       "      <td>0</td>\n",
       "    </tr>\n",
       "    <tr>\n",
       "      <th>6267</th>\n",
       "      <td>5.198120</td>\n",
       "      <td>-4.836023</td>\n",
       "      <td>1.971259</td>\n",
       "      <td>0.216393</td>\n",
       "      <td>0</td>\n",
       "      <td>0</td>\n",
       "      <td>0</td>\n",
       "    </tr>\n",
       "    <tr>\n",
       "      <th>6268</th>\n",
       "      <td>5.662388</td>\n",
       "      <td>-4.044949</td>\n",
       "      <td>1.881880</td>\n",
       "      <td>0.962322</td>\n",
       "      <td>0</td>\n",
       "      <td>0</td>\n",
       "      <td>0</td>\n",
       "    </tr>\n",
       "    <tr>\n",
       "      <th>6269</th>\n",
       "      <td>5.912449</td>\n",
       "      <td>-5.164750</td>\n",
       "      <td>1.987603</td>\n",
       "      <td>0.156738</td>\n",
       "      <td>0</td>\n",
       "      <td>0</td>\n",
       "      <td>0</td>\n",
       "    </tr>\n",
       "  </tbody>\n",
       "</table>\n",
       "<p>5825 rows × 7 columns</p>\n",
       "</div>"
      ],
      "text/plain": [
       "      undermine_score  support_score  cp_distance  cop_distance  \\\n",
       "0            6.570068      -5.162881     1.871948      0.072585   \n",
       "1            7.038213      -5.479890     1.892146      0.094106   \n",
       "2           -4.758564       4.019589     0.002869      0.007389   \n",
       "4           -4.402532       3.949514     0.005121      0.887486   \n",
       "5            5.949302      -6.822432     1.937907      0.014158   \n",
       "...               ...            ...          ...           ...   \n",
       "6265         6.472634      -3.488140     1.985474      1.345437   \n",
       "6266         5.334882      -5.611214     1.971242      0.216501   \n",
       "6267         5.198120      -4.836023     1.971259      0.216393   \n",
       "6268         5.662388      -4.044949     1.881880      0.962322   \n",
       "6269         5.912449      -5.164750     1.987603      0.156738   \n",
       "\n",
       "      predict_label  distance_label  gold  \n",
       "0                 0               0     0  \n",
       "1                 0               0     0  \n",
       "2                 1               1     1  \n",
       "4                 1               1     1  \n",
       "5                 0               0     0  \n",
       "...             ...             ...   ...  \n",
       "6265              0               0     0  \n",
       "6266              0               0     0  \n",
       "6267              0               0     0  \n",
       "6268              0               0     0  \n",
       "6269              0               0     0  \n",
       "\n",
       "[5825 rows x 7 columns]"
      ]
     },
     "execution_count": 15,
     "metadata": {},
     "output_type": "execute_result"
    }
   ],
   "source": [
    "df_consistency"
   ]
  },
  {
   "cell_type": "code",
   "execution_count": 16,
   "metadata": {},
   "outputs": [
    {
     "data": {
      "text/plain": [
       "1.0"
      ]
     },
     "execution_count": 16,
     "metadata": {},
     "output_type": "execute_result"
    }
   ],
   "source": [
    "f1_score(df_consistency.gold,df_consistency.distance_label)"
   ]
  },
  {
   "cell_type": "code",
   "execution_count": 17,
   "metadata": {},
   "outputs": [
    {
     "data": {
      "text/plain": [
       "1.0"
      ]
     },
     "execution_count": 17,
     "metadata": {},
     "output_type": "execute_result"
    }
   ],
   "source": [
    "precision_score(df_consistency.gold,df_consistency.distance_label)"
   ]
  },
  {
   "cell_type": "code",
   "execution_count": 18,
   "metadata": {},
   "outputs": [
    {
     "data": {
      "text/plain": [
       "1.0"
      ]
     },
     "execution_count": 18,
     "metadata": {},
     "output_type": "execute_result"
    }
   ],
   "source": [
    "recall_score(df_consistency.gold,df_consistency.distance_label)"
   ]
  },
  {
   "cell_type": "code",
   "execution_count": null,
   "metadata": {},
   "outputs": [],
   "source": []
  },
  {
   "cell_type": "code",
   "execution_count": 19,
   "metadata": {},
   "outputs": [
    {
     "data": {
      "text/html": [
       "<div>\n",
       "<style scoped>\n",
       "    .dataframe tbody tr th:only-of-type {\n",
       "        vertical-align: middle;\n",
       "    }\n",
       "\n",
       "    .dataframe tbody tr th {\n",
       "        vertical-align: top;\n",
       "    }\n",
       "\n",
       "    .dataframe thead th {\n",
       "        text-align: right;\n",
       "    }\n",
       "</style>\n",
       "<table border=\"1\" class=\"dataframe\">\n",
       "  <thead>\n",
       "    <tr style=\"text-align: right;\">\n",
       "      <th></th>\n",
       "      <th>undermine_score</th>\n",
       "      <th>support_score</th>\n",
       "      <th>cp_distance</th>\n",
       "      <th>cop_distance</th>\n",
       "      <th>predict_label</th>\n",
       "      <th>distance_label</th>\n",
       "      <th>gold</th>\n",
       "    </tr>\n",
       "  </thead>\n",
       "  <tbody>\n",
       "    <tr>\n",
       "      <th>0</th>\n",
       "      <td>6.570068</td>\n",
       "      <td>-5.162881</td>\n",
       "      <td>1.871948</td>\n",
       "      <td>0.072585</td>\n",
       "      <td>0</td>\n",
       "      <td>0</td>\n",
       "      <td>0</td>\n",
       "    </tr>\n",
       "    <tr>\n",
       "      <th>1</th>\n",
       "      <td>7.038213</td>\n",
       "      <td>-5.479890</td>\n",
       "      <td>1.892146</td>\n",
       "      <td>0.094106</td>\n",
       "      <td>0</td>\n",
       "      <td>0</td>\n",
       "      <td>0</td>\n",
       "    </tr>\n",
       "    <tr>\n",
       "      <th>2</th>\n",
       "      <td>-4.758564</td>\n",
       "      <td>4.019589</td>\n",
       "      <td>0.002869</td>\n",
       "      <td>0.007389</td>\n",
       "      <td>1</td>\n",
       "      <td>1</td>\n",
       "      <td>1</td>\n",
       "    </tr>\n",
       "    <tr>\n",
       "      <th>4</th>\n",
       "      <td>-4.402532</td>\n",
       "      <td>3.949514</td>\n",
       "      <td>0.005121</td>\n",
       "      <td>0.887486</td>\n",
       "      <td>1</td>\n",
       "      <td>1</td>\n",
       "      <td>1</td>\n",
       "    </tr>\n",
       "    <tr>\n",
       "      <th>5</th>\n",
       "      <td>5.949302</td>\n",
       "      <td>-6.822432</td>\n",
       "      <td>1.937907</td>\n",
       "      <td>0.014158</td>\n",
       "      <td>0</td>\n",
       "      <td>0</td>\n",
       "      <td>0</td>\n",
       "    </tr>\n",
       "    <tr>\n",
       "      <th>...</th>\n",
       "      <td>...</td>\n",
       "      <td>...</td>\n",
       "      <td>...</td>\n",
       "      <td>...</td>\n",
       "      <td>...</td>\n",
       "      <td>...</td>\n",
       "      <td>...</td>\n",
       "    </tr>\n",
       "    <tr>\n",
       "      <th>6265</th>\n",
       "      <td>6.472634</td>\n",
       "      <td>-3.488140</td>\n",
       "      <td>1.985474</td>\n",
       "      <td>1.345437</td>\n",
       "      <td>0</td>\n",
       "      <td>0</td>\n",
       "      <td>0</td>\n",
       "    </tr>\n",
       "    <tr>\n",
       "      <th>6266</th>\n",
       "      <td>5.334882</td>\n",
       "      <td>-5.611214</td>\n",
       "      <td>1.971242</td>\n",
       "      <td>0.216501</td>\n",
       "      <td>0</td>\n",
       "      <td>0</td>\n",
       "      <td>0</td>\n",
       "    </tr>\n",
       "    <tr>\n",
       "      <th>6267</th>\n",
       "      <td>5.198120</td>\n",
       "      <td>-4.836023</td>\n",
       "      <td>1.971259</td>\n",
       "      <td>0.216393</td>\n",
       "      <td>0</td>\n",
       "      <td>0</td>\n",
       "      <td>0</td>\n",
       "    </tr>\n",
       "    <tr>\n",
       "      <th>6268</th>\n",
       "      <td>5.662388</td>\n",
       "      <td>-4.044949</td>\n",
       "      <td>1.881880</td>\n",
       "      <td>0.962322</td>\n",
       "      <td>0</td>\n",
       "      <td>0</td>\n",
       "      <td>0</td>\n",
       "    </tr>\n",
       "    <tr>\n",
       "      <th>6269</th>\n",
       "      <td>5.912449</td>\n",
       "      <td>-5.164750</td>\n",
       "      <td>1.987603</td>\n",
       "      <td>0.156738</td>\n",
       "      <td>0</td>\n",
       "      <td>0</td>\n",
       "      <td>0</td>\n",
       "    </tr>\n",
       "  </tbody>\n",
       "</table>\n",
       "<p>5802 rows × 7 columns</p>\n",
       "</div>"
      ],
      "text/plain": [
       "      undermine_score  support_score  cp_distance  cop_distance  \\\n",
       "0            6.570068      -5.162881     1.871948      0.072585   \n",
       "1            7.038213      -5.479890     1.892146      0.094106   \n",
       "2           -4.758564       4.019589     0.002869      0.007389   \n",
       "4           -4.402532       3.949514     0.005121      0.887486   \n",
       "5            5.949302      -6.822432     1.937907      0.014158   \n",
       "...               ...            ...          ...           ...   \n",
       "6265         6.472634      -3.488140     1.985474      1.345437   \n",
       "6266         5.334882      -5.611214     1.971242      0.216501   \n",
       "6267         5.198120      -4.836023     1.971259      0.216393   \n",
       "6268         5.662388      -4.044949     1.881880      0.962322   \n",
       "6269         5.912449      -5.164750     1.987603      0.156738   \n",
       "\n",
       "      predict_label  distance_label  gold  \n",
       "0                 0               0     0  \n",
       "1                 0               0     0  \n",
       "2                 1               1     1  \n",
       "4                 1               1     1  \n",
       "5                 0               0     0  \n",
       "...             ...             ...   ...  \n",
       "6265              0               0     0  \n",
       "6266              0               0     0  \n",
       "6267              0               0     0  \n",
       "6268              0               0     0  \n",
       "6269              0               0     0  \n",
       "\n",
       "[5802 rows x 7 columns]"
      ]
     },
     "execution_count": 19,
     "metadata": {},
     "output_type": "execute_result"
    }
   ],
   "source": [
    "df_logits_diff = df_consistency[abs(df_consistency.undermine_score-df_consistency.support_score)>5.7]\n",
    "df_logits_diff"
   ]
  },
  {
   "cell_type": "code",
   "execution_count": 20,
   "metadata": {},
   "outputs": [
    {
     "data": {
      "text/plain": [
       "1.0"
      ]
     },
     "execution_count": 20,
     "metadata": {},
     "output_type": "execute_result"
    }
   ],
   "source": [
    "f1_score(df_logits_diff.gold,df_logits_diff.distance_label)"
   ]
  },
  {
   "cell_type": "code",
   "execution_count": 21,
   "metadata": {},
   "outputs": [
    {
     "data": {
      "text/plain": [
       "1.0"
      ]
     },
     "execution_count": 21,
     "metadata": {},
     "output_type": "execute_result"
    }
   ],
   "source": [
    "precision_score(df_logits_diff.gold,df_logits_diff.distance_label)"
   ]
  },
  {
   "cell_type": "code",
   "execution_count": 22,
   "metadata": {},
   "outputs": [
    {
     "data": {
      "text/plain": [
       "1.0"
      ]
     },
     "execution_count": 22,
     "metadata": {},
     "output_type": "execute_result"
    }
   ],
   "source": [
    "recall_score(df_logits_diff.gold,df_logits_diff.distance_label)"
   ]
  },
  {
   "cell_type": "code",
   "execution_count": null,
   "metadata": {},
   "outputs": [],
   "source": []
  },
  {
   "cell_type": "code",
   "execution_count": 23,
   "metadata": {},
   "outputs": [
    {
     "data": {
      "text/html": [
       "<div>\n",
       "<style scoped>\n",
       "    .dataframe tbody tr th:only-of-type {\n",
       "        vertical-align: middle;\n",
       "    }\n",
       "\n",
       "    .dataframe tbody tr th {\n",
       "        vertical-align: top;\n",
       "    }\n",
       "\n",
       "    .dataframe thead th {\n",
       "        text-align: right;\n",
       "    }\n",
       "</style>\n",
       "<table border=\"1\" class=\"dataframe\">\n",
       "  <thead>\n",
       "    <tr style=\"text-align: right;\">\n",
       "      <th></th>\n",
       "      <th>undermine_score</th>\n",
       "      <th>support_score</th>\n",
       "      <th>cp_distance</th>\n",
       "      <th>cop_distance</th>\n",
       "      <th>predict_label</th>\n",
       "      <th>distance_label</th>\n",
       "      <th>gold</th>\n",
       "    </tr>\n",
       "  </thead>\n",
       "  <tbody>\n",
       "    <tr>\n",
       "      <th>0</th>\n",
       "      <td>6.570068</td>\n",
       "      <td>-5.162881</td>\n",
       "      <td>1.871948</td>\n",
       "      <td>0.072585</td>\n",
       "      <td>0</td>\n",
       "      <td>0</td>\n",
       "      <td>0</td>\n",
       "    </tr>\n",
       "    <tr>\n",
       "      <th>1</th>\n",
       "      <td>7.038213</td>\n",
       "      <td>-5.479890</td>\n",
       "      <td>1.892146</td>\n",
       "      <td>0.094106</td>\n",
       "      <td>0</td>\n",
       "      <td>0</td>\n",
       "      <td>0</td>\n",
       "    </tr>\n",
       "    <tr>\n",
       "      <th>5</th>\n",
       "      <td>5.949302</td>\n",
       "      <td>-6.822432</td>\n",
       "      <td>1.937907</td>\n",
       "      <td>0.014158</td>\n",
       "      <td>0</td>\n",
       "      <td>0</td>\n",
       "      <td>0</td>\n",
       "    </tr>\n",
       "    <tr>\n",
       "      <th>6</th>\n",
       "      <td>5.922384</td>\n",
       "      <td>-6.310124</td>\n",
       "      <td>1.848173</td>\n",
       "      <td>0.020410</td>\n",
       "      <td>0</td>\n",
       "      <td>0</td>\n",
       "      <td>0</td>\n",
       "    </tr>\n",
       "    <tr>\n",
       "      <th>7</th>\n",
       "      <td>6.055602</td>\n",
       "      <td>-7.097076</td>\n",
       "      <td>1.716517</td>\n",
       "      <td>0.006941</td>\n",
       "      <td>0</td>\n",
       "      <td>0</td>\n",
       "      <td>0</td>\n",
       "    </tr>\n",
       "    <tr>\n",
       "      <th>...</th>\n",
       "      <td>...</td>\n",
       "      <td>...</td>\n",
       "      <td>...</td>\n",
       "      <td>...</td>\n",
       "      <td>...</td>\n",
       "      <td>...</td>\n",
       "      <td>...</td>\n",
       "    </tr>\n",
       "    <tr>\n",
       "      <th>6258</th>\n",
       "      <td>6.199489</td>\n",
       "      <td>-5.927532</td>\n",
       "      <td>1.988294</td>\n",
       "      <td>0.005238</td>\n",
       "      <td>0</td>\n",
       "      <td>0</td>\n",
       "      <td>0</td>\n",
       "    </tr>\n",
       "    <tr>\n",
       "      <th>6259</th>\n",
       "      <td>6.184624</td>\n",
       "      <td>-5.941381</td>\n",
       "      <td>1.982448</td>\n",
       "      <td>0.004746</td>\n",
       "      <td>0</td>\n",
       "      <td>0</td>\n",
       "      <td>0</td>\n",
       "    </tr>\n",
       "    <tr>\n",
       "      <th>6266</th>\n",
       "      <td>5.334882</td>\n",
       "      <td>-5.611214</td>\n",
       "      <td>1.971242</td>\n",
       "      <td>0.216501</td>\n",
       "      <td>0</td>\n",
       "      <td>0</td>\n",
       "      <td>0</td>\n",
       "    </tr>\n",
       "    <tr>\n",
       "      <th>6267</th>\n",
       "      <td>5.198120</td>\n",
       "      <td>-4.836023</td>\n",
       "      <td>1.971259</td>\n",
       "      <td>0.216393</td>\n",
       "      <td>0</td>\n",
       "      <td>0</td>\n",
       "      <td>0</td>\n",
       "    </tr>\n",
       "    <tr>\n",
       "      <th>6269</th>\n",
       "      <td>5.912449</td>\n",
       "      <td>-5.164750</td>\n",
       "      <td>1.987603</td>\n",
       "      <td>0.156738</td>\n",
       "      <td>0</td>\n",
       "      <td>0</td>\n",
       "      <td>0</td>\n",
       "    </tr>\n",
       "  </tbody>\n",
       "</table>\n",
       "<p>2737 rows × 7 columns</p>\n",
       "</div>"
      ],
      "text/plain": [
       "      undermine_score  support_score  cp_distance  cop_distance  \\\n",
       "0            6.570068      -5.162881     1.871948      0.072585   \n",
       "1            7.038213      -5.479890     1.892146      0.094106   \n",
       "5            5.949302      -6.822432     1.937907      0.014158   \n",
       "6            5.922384      -6.310124     1.848173      0.020410   \n",
       "7            6.055602      -7.097076     1.716517      0.006941   \n",
       "...               ...            ...          ...           ...   \n",
       "6258         6.199489      -5.927532     1.988294      0.005238   \n",
       "6259         6.184624      -5.941381     1.982448      0.004746   \n",
       "6266         5.334882      -5.611214     1.971242      0.216501   \n",
       "6267         5.198120      -4.836023     1.971259      0.216393   \n",
       "6269         5.912449      -5.164750     1.987603      0.156738   \n",
       "\n",
       "      predict_label  distance_label  gold  \n",
       "0                 0               0     0  \n",
       "1                 0               0     0  \n",
       "5                 0               0     0  \n",
       "6                 0               0     0  \n",
       "7                 0               0     0  \n",
       "...             ...             ...   ...  \n",
       "6258              0               0     0  \n",
       "6259              0               0     0  \n",
       "6266              0               0     0  \n",
       "6267              0               0     0  \n",
       "6269              0               0     0  \n",
       "\n",
       "[2737 rows x 7 columns]"
      ]
     },
     "execution_count": 23,
     "metadata": {},
     "output_type": "execute_result"
    }
   ],
   "source": [
    "df_distance_diff = df_consistency[abs(df_consistency.cp_distance-df_consistency.cop_distance)>1.7]\n",
    "df_distance_diff"
   ]
  },
  {
   "cell_type": "code",
   "execution_count": 24,
   "metadata": {},
   "outputs": [
    {
     "data": {
      "text/plain": [
       "1.0"
      ]
     },
     "execution_count": 24,
     "metadata": {},
     "output_type": "execute_result"
    }
   ],
   "source": [
    "f1_score(df_distance_diff.gold,df_distance_diff.distance_label)"
   ]
  },
  {
   "cell_type": "code",
   "execution_count": 25,
   "metadata": {},
   "outputs": [
    {
     "data": {
      "text/plain": [
       "1.0"
      ]
     },
     "execution_count": 25,
     "metadata": {},
     "output_type": "execute_result"
    }
   ],
   "source": [
    "precision_score(df_distance_diff.gold,df_distance_diff.distance_label)"
   ]
  },
  {
   "cell_type": "code",
   "execution_count": 26,
   "metadata": {},
   "outputs": [
    {
     "data": {
      "text/plain": [
       "1.0"
      ]
     },
     "execution_count": 26,
     "metadata": {},
     "output_type": "execute_result"
    }
   ],
   "source": [
    "recall_score(df_distance_diff.gold,df_distance_diff.distance_label)"
   ]
  },
  {
   "cell_type": "code",
   "execution_count": null,
   "metadata": {},
   "outputs": [],
   "source": []
  },
  {
   "cell_type": "code",
   "execution_count": null,
   "metadata": {},
   "outputs": [],
   "source": []
  },
  {
   "cell_type": "code",
   "execution_count": null,
   "metadata": {},
   "outputs": [],
   "source": []
  },
  {
   "cell_type": "code",
   "execution_count": 44,
   "metadata": {},
   "outputs": [],
   "source": [
    "#inconsistent cases (logtis prediction != distance prediction)"
   ]
  },
  {
   "cell_type": "code",
   "execution_count": 27,
   "metadata": {},
   "outputs": [],
   "source": [
    "df_inconsistency = df[df.predict_label!=df.distance_label]"
   ]
  },
  {
   "cell_type": "code",
   "execution_count": 28,
   "metadata": {},
   "outputs": [],
   "source": [
    "df_consistency = df[df.predict_label==df.distance_label]"
   ]
  },
  {
   "cell_type": "code",
   "execution_count": 29,
   "metadata": {},
   "outputs": [
    {
     "data": {
      "text/html": [
       "<div>\n",
       "<style scoped>\n",
       "    .dataframe tbody tr th:only-of-type {\n",
       "        vertical-align: middle;\n",
       "    }\n",
       "\n",
       "    .dataframe tbody tr th {\n",
       "        vertical-align: top;\n",
       "    }\n",
       "\n",
       "    .dataframe thead th {\n",
       "        text-align: right;\n",
       "    }\n",
       "</style>\n",
       "<table border=\"1\" class=\"dataframe\">\n",
       "  <thead>\n",
       "    <tr style=\"text-align: right;\">\n",
       "      <th></th>\n",
       "      <th>undermine_score</th>\n",
       "      <th>support_score</th>\n",
       "      <th>cp_distance</th>\n",
       "      <th>cop_distance</th>\n",
       "      <th>predict_label</th>\n",
       "      <th>distance_label</th>\n",
       "      <th>gold</th>\n",
       "    </tr>\n",
       "  </thead>\n",
       "  <tbody>\n",
       "    <tr>\n",
       "      <th>3</th>\n",
       "      <td>-3.960488</td>\n",
       "      <td>2.541158</td>\n",
       "      <td>0.038679</td>\n",
       "      <td>0.029619</td>\n",
       "      <td>1</td>\n",
       "      <td>0</td>\n",
       "      <td>1</td>\n",
       "    </tr>\n",
       "    <tr>\n",
       "      <th>15</th>\n",
       "      <td>6.596234</td>\n",
       "      <td>-6.021047</td>\n",
       "      <td>1.631476</td>\n",
       "      <td>1.681539</td>\n",
       "      <td>0</td>\n",
       "      <td>1</td>\n",
       "      <td>0</td>\n",
       "    </tr>\n",
       "    <tr>\n",
       "      <th>40</th>\n",
       "      <td>-4.326472</td>\n",
       "      <td>2.961641</td>\n",
       "      <td>0.002360</td>\n",
       "      <td>0.002133</td>\n",
       "      <td>1</td>\n",
       "      <td>0</td>\n",
       "      <td>1</td>\n",
       "    </tr>\n",
       "    <tr>\n",
       "      <th>52</th>\n",
       "      <td>7.047978</td>\n",
       "      <td>-2.799699</td>\n",
       "      <td>1.988701</td>\n",
       "      <td>1.989593</td>\n",
       "      <td>0</td>\n",
       "      <td>1</td>\n",
       "      <td>0</td>\n",
       "    </tr>\n",
       "    <tr>\n",
       "      <th>53</th>\n",
       "      <td>7.174447</td>\n",
       "      <td>-2.904366</td>\n",
       "      <td>1.987049</td>\n",
       "      <td>1.988421</td>\n",
       "      <td>0</td>\n",
       "      <td>1</td>\n",
       "      <td>0</td>\n",
       "    </tr>\n",
       "    <tr>\n",
       "      <th>...</th>\n",
       "      <td>...</td>\n",
       "      <td>...</td>\n",
       "      <td>...</td>\n",
       "      <td>...</td>\n",
       "      <td>...</td>\n",
       "      <td>...</td>\n",
       "      <td>...</td>\n",
       "    </tr>\n",
       "    <tr>\n",
       "      <th>6207</th>\n",
       "      <td>7.312033</td>\n",
       "      <td>-3.552069</td>\n",
       "      <td>1.885135</td>\n",
       "      <td>1.940654</td>\n",
       "      <td>0</td>\n",
       "      <td>1</td>\n",
       "      <td>0</td>\n",
       "    </tr>\n",
       "    <tr>\n",
       "      <th>6212</th>\n",
       "      <td>5.902318</td>\n",
       "      <td>-2.111966</td>\n",
       "      <td>1.844290</td>\n",
       "      <td>1.885755</td>\n",
       "      <td>0</td>\n",
       "      <td>1</td>\n",
       "      <td>0</td>\n",
       "    </tr>\n",
       "    <tr>\n",
       "      <th>6244</th>\n",
       "      <td>2.341580</td>\n",
       "      <td>-2.219413</td>\n",
       "      <td>1.252155</td>\n",
       "      <td>1.891777</td>\n",
       "      <td>0</td>\n",
       "      <td>1</td>\n",
       "      <td>0</td>\n",
       "    </tr>\n",
       "    <tr>\n",
       "      <th>6246</th>\n",
       "      <td>4.068810</td>\n",
       "      <td>-2.959476</td>\n",
       "      <td>1.347318</td>\n",
       "      <td>1.382702</td>\n",
       "      <td>0</td>\n",
       "      <td>1</td>\n",
       "      <td>0</td>\n",
       "    </tr>\n",
       "    <tr>\n",
       "      <th>6253</th>\n",
       "      <td>-3.621270</td>\n",
       "      <td>2.144143</td>\n",
       "      <td>0.026642</td>\n",
       "      <td>0.006161</td>\n",
       "      <td>1</td>\n",
       "      <td>0</td>\n",
       "      <td>1</td>\n",
       "    </tr>\n",
       "  </tbody>\n",
       "</table>\n",
       "<p>445 rows × 7 columns</p>\n",
       "</div>"
      ],
      "text/plain": [
       "      undermine_score  support_score  cp_distance  cop_distance  \\\n",
       "3           -3.960488       2.541158     0.038679      0.029619   \n",
       "15           6.596234      -6.021047     1.631476      1.681539   \n",
       "40          -4.326472       2.961641     0.002360      0.002133   \n",
       "52           7.047978      -2.799699     1.988701      1.989593   \n",
       "53           7.174447      -2.904366     1.987049      1.988421   \n",
       "...               ...            ...          ...           ...   \n",
       "6207         7.312033      -3.552069     1.885135      1.940654   \n",
       "6212         5.902318      -2.111966     1.844290      1.885755   \n",
       "6244         2.341580      -2.219413     1.252155      1.891777   \n",
       "6246         4.068810      -2.959476     1.347318      1.382702   \n",
       "6253        -3.621270       2.144143     0.026642      0.006161   \n",
       "\n",
       "      predict_label  distance_label  gold  \n",
       "3                 1               0     1  \n",
       "15                0               1     0  \n",
       "40                1               0     1  \n",
       "52                0               1     0  \n",
       "53                0               1     0  \n",
       "...             ...             ...   ...  \n",
       "6207              0               1     0  \n",
       "6212              0               1     0  \n",
       "6244              0               1     0  \n",
       "6246              0               1     0  \n",
       "6253              1               0     1  \n",
       "\n",
       "[445 rows x 7 columns]"
      ]
     },
     "execution_count": 29,
     "metadata": {},
     "output_type": "execute_result"
    }
   ],
   "source": [
    "df_inconsistency"
   ]
  },
  {
   "cell_type": "code",
   "execution_count": 30,
   "metadata": {},
   "outputs": [],
   "source": [
    "#triplet test set"
   ]
  },
  {
   "cell_type": "code",
   "execution_count": 47,
   "metadata": {},
   "outputs": [],
   "source": [
    "df_origin = pd.read_csv(\"../stance_code/Dataset/tri_train/tri_test.tsv\", delimiter=\"\\t\")"
   ]
  },
  {
   "cell_type": "code",
   "execution_count": 48,
   "metadata": {},
   "outputs": [],
   "source": [
    "#combine triplet test set with eval results"
   ]
  },
  {
   "cell_type": "code",
   "execution_count": 49,
   "metadata": {},
   "outputs": [],
   "source": [
    "incons_out = df_inconsistency.join(df_origin).drop(\"x\",axis=1).drop(\"y\",axis=1)"
   ]
  },
  {
   "cell_type": "code",
   "execution_count": 50,
   "metadata": {},
   "outputs": [],
   "source": [
    "# incons_out.to_csv(\"inconsistency_data.csv\",index=False)"
   ]
  },
  {
   "cell_type": "code",
   "execution_count": 51,
   "metadata": {},
   "outputs": [],
   "source": [
    "# incons_out.to_excel(\"inconsistency_data.xlsx\")"
   ]
  },
  {
   "cell_type": "code",
   "execution_count": 52,
   "metadata": {},
   "outputs": [
    {
     "data": {
      "text/plain": [
       "1.0"
      ]
     },
     "execution_count": 52,
     "metadata": {},
     "output_type": "execute_result"
    }
   ],
   "source": [
    "accuracy_score(df_inconsistency.gold,df_inconsistency.predict_label)"
   ]
  },
  {
   "cell_type": "code",
   "execution_count": null,
   "metadata": {},
   "outputs": [],
   "source": []
  },
  {
   "cell_type": "code",
   "execution_count": 53,
   "metadata": {},
   "outputs": [],
   "source": [
    "# distance_correct_logits_wrong"
   ]
  },
  {
   "cell_type": "code",
   "execution_count": 54,
   "metadata": {},
   "outputs": [],
   "source": [
    "df_distance_correct_logits_wrong = df[(df.distance_label==df.gold)&(df.predict_label!=df.gold)]"
   ]
  },
  {
   "cell_type": "code",
   "execution_count": 55,
   "metadata": {},
   "outputs": [
    {
     "data": {
      "text/html": [
       "<div>\n",
       "<style scoped>\n",
       "    .dataframe tbody tr th:only-of-type {\n",
       "        vertical-align: middle;\n",
       "    }\n",
       "\n",
       "    .dataframe tbody tr th {\n",
       "        vertical-align: top;\n",
       "    }\n",
       "\n",
       "    .dataframe thead th {\n",
       "        text-align: right;\n",
       "    }\n",
       "</style>\n",
       "<table border=\"1\" class=\"dataframe\">\n",
       "  <thead>\n",
       "    <tr style=\"text-align: right;\">\n",
       "      <th></th>\n",
       "      <th>undermine_score</th>\n",
       "      <th>support_score</th>\n",
       "      <th>cp_distance</th>\n",
       "      <th>cop_distance</th>\n",
       "      <th>predict_label</th>\n",
       "      <th>distance_label</th>\n",
       "      <th>gold</th>\n",
       "    </tr>\n",
       "  </thead>\n",
       "  <tbody>\n",
       "  </tbody>\n",
       "</table>\n",
       "</div>"
      ],
      "text/plain": [
       "Empty DataFrame\n",
       "Columns: [undermine_score, support_score, cp_distance, cop_distance, predict_label, distance_label, gold]\n",
       "Index: []"
      ]
     },
     "execution_count": 55,
     "metadata": {},
     "output_type": "execute_result"
    }
   ],
   "source": [
    "df_distance_correct_logits_wrong"
   ]
  },
  {
   "cell_type": "code",
   "execution_count": 56,
   "metadata": {},
   "outputs": [],
   "source": [
    "# combine distance_correct_logits_wrong with test set"
   ]
  },
  {
   "cell_type": "code",
   "execution_count": 57,
   "metadata": {},
   "outputs": [],
   "source": [
    "dcorrect_lwrong_out = df_distance_correct_logits_wrong.join(df_origin).drop(\"x\",axis=1).drop(\"y\",axis=1)"
   ]
  },
  {
   "cell_type": "code",
   "execution_count": 58,
   "metadata": {},
   "outputs": [
    {
     "data": {
      "text/html": [
       "<div>\n",
       "<style scoped>\n",
       "    .dataframe tbody tr th:only-of-type {\n",
       "        vertical-align: middle;\n",
       "    }\n",
       "\n",
       "    .dataframe tbody tr th {\n",
       "        vertical-align: top;\n",
       "    }\n",
       "\n",
       "    .dataframe thead th {\n",
       "        text-align: right;\n",
       "    }\n",
       "</style>\n",
       "<table border=\"1\" class=\"dataframe\">\n",
       "  <thead>\n",
       "    <tr style=\"text-align: right;\">\n",
       "      <th></th>\n",
       "      <th>undermine_score</th>\n",
       "      <th>support_score</th>\n",
       "      <th>cp_distance</th>\n",
       "      <th>cop_distance</th>\n",
       "      <th>predict_label</th>\n",
       "      <th>distance_label</th>\n",
       "      <th>gold</th>\n",
       "      <th>Label</th>\n",
       "      <th>claim</th>\n",
       "      <th>perspective</th>\n",
       "      <th>opposite_perspective</th>\n",
       "    </tr>\n",
       "  </thead>\n",
       "  <tbody>\n",
       "  </tbody>\n",
       "</table>\n",
       "</div>"
      ],
      "text/plain": [
       "Empty DataFrame\n",
       "Columns: [undermine_score, support_score, cp_distance, cop_distance, predict_label, distance_label, gold, Label, claim, perspective, opposite_perspective]\n",
       "Index: []"
      ]
     },
     "execution_count": 58,
     "metadata": {},
     "output_type": "execute_result"
    }
   ],
   "source": [
    "dcorrect_lwrong_out"
   ]
  },
  {
   "cell_type": "code",
   "execution_count": 59,
   "metadata": {},
   "outputs": [],
   "source": [
    "# dcorrect_lwrong_out.to_csv(\"dcorrect_lwrong_data.csv\")"
   ]
  },
  {
   "cell_type": "code",
   "execution_count": 60,
   "metadata": {},
   "outputs": [],
   "source": [
    "# dcorrect_lwrong_out.to_excel(\"dcorrect_lwrong_data.xlsx\")"
   ]
  },
  {
   "cell_type": "code",
   "execution_count": null,
   "metadata": {},
   "outputs": [],
   "source": []
  },
  {
   "cell_type": "code",
   "execution_count": 61,
   "metadata": {},
   "outputs": [],
   "source": [
    "#distance_wrong_logits_correct"
   ]
  },
  {
   "cell_type": "code",
   "execution_count": 62,
   "metadata": {},
   "outputs": [],
   "source": [
    "df_distance_wrong_logits_correct = df[(df.distance_label!=df.gold)&(df.predict_label==df.gold)]"
   ]
  },
  {
   "cell_type": "code",
   "execution_count": 63,
   "metadata": {},
   "outputs": [
    {
     "data": {
      "text/html": [
       "<div>\n",
       "<style scoped>\n",
       "    .dataframe tbody tr th:only-of-type {\n",
       "        vertical-align: middle;\n",
       "    }\n",
       "\n",
       "    .dataframe tbody tr th {\n",
       "        vertical-align: top;\n",
       "    }\n",
       "\n",
       "    .dataframe thead th {\n",
       "        text-align: right;\n",
       "    }\n",
       "</style>\n",
       "<table border=\"1\" class=\"dataframe\">\n",
       "  <thead>\n",
       "    <tr style=\"text-align: right;\">\n",
       "      <th></th>\n",
       "      <th>undermine_score</th>\n",
       "      <th>support_score</th>\n",
       "      <th>cp_distance</th>\n",
       "      <th>cop_distance</th>\n",
       "      <th>predict_label</th>\n",
       "      <th>distance_label</th>\n",
       "      <th>gold</th>\n",
       "    </tr>\n",
       "  </thead>\n",
       "  <tbody>\n",
       "    <tr>\n",
       "      <th>3</th>\n",
       "      <td>-3.960488</td>\n",
       "      <td>2.541158</td>\n",
       "      <td>0.038679</td>\n",
       "      <td>0.029619</td>\n",
       "      <td>1</td>\n",
       "      <td>0</td>\n",
       "      <td>1</td>\n",
       "    </tr>\n",
       "    <tr>\n",
       "      <th>15</th>\n",
       "      <td>6.596234</td>\n",
       "      <td>-6.021047</td>\n",
       "      <td>1.631476</td>\n",
       "      <td>1.681539</td>\n",
       "      <td>0</td>\n",
       "      <td>1</td>\n",
       "      <td>0</td>\n",
       "    </tr>\n",
       "    <tr>\n",
       "      <th>40</th>\n",
       "      <td>-4.326472</td>\n",
       "      <td>2.961641</td>\n",
       "      <td>0.002360</td>\n",
       "      <td>0.002133</td>\n",
       "      <td>1</td>\n",
       "      <td>0</td>\n",
       "      <td>1</td>\n",
       "    </tr>\n",
       "    <tr>\n",
       "      <th>52</th>\n",
       "      <td>7.047978</td>\n",
       "      <td>-2.799699</td>\n",
       "      <td>1.988701</td>\n",
       "      <td>1.989593</td>\n",
       "      <td>0</td>\n",
       "      <td>1</td>\n",
       "      <td>0</td>\n",
       "    </tr>\n",
       "    <tr>\n",
       "      <th>53</th>\n",
       "      <td>7.174447</td>\n",
       "      <td>-2.904366</td>\n",
       "      <td>1.987049</td>\n",
       "      <td>1.988421</td>\n",
       "      <td>0</td>\n",
       "      <td>1</td>\n",
       "      <td>0</td>\n",
       "    </tr>\n",
       "    <tr>\n",
       "      <th>...</th>\n",
       "      <td>...</td>\n",
       "      <td>...</td>\n",
       "      <td>...</td>\n",
       "      <td>...</td>\n",
       "      <td>...</td>\n",
       "      <td>...</td>\n",
       "      <td>...</td>\n",
       "    </tr>\n",
       "    <tr>\n",
       "      <th>6207</th>\n",
       "      <td>7.312033</td>\n",
       "      <td>-3.552069</td>\n",
       "      <td>1.885135</td>\n",
       "      <td>1.940654</td>\n",
       "      <td>0</td>\n",
       "      <td>1</td>\n",
       "      <td>0</td>\n",
       "    </tr>\n",
       "    <tr>\n",
       "      <th>6212</th>\n",
       "      <td>5.902318</td>\n",
       "      <td>-2.111966</td>\n",
       "      <td>1.844290</td>\n",
       "      <td>1.885755</td>\n",
       "      <td>0</td>\n",
       "      <td>1</td>\n",
       "      <td>0</td>\n",
       "    </tr>\n",
       "    <tr>\n",
       "      <th>6244</th>\n",
       "      <td>2.341580</td>\n",
       "      <td>-2.219413</td>\n",
       "      <td>1.252155</td>\n",
       "      <td>1.891777</td>\n",
       "      <td>0</td>\n",
       "      <td>1</td>\n",
       "      <td>0</td>\n",
       "    </tr>\n",
       "    <tr>\n",
       "      <th>6246</th>\n",
       "      <td>4.068810</td>\n",
       "      <td>-2.959476</td>\n",
       "      <td>1.347318</td>\n",
       "      <td>1.382702</td>\n",
       "      <td>0</td>\n",
       "      <td>1</td>\n",
       "      <td>0</td>\n",
       "    </tr>\n",
       "    <tr>\n",
       "      <th>6253</th>\n",
       "      <td>-3.621270</td>\n",
       "      <td>2.144143</td>\n",
       "      <td>0.026642</td>\n",
       "      <td>0.006161</td>\n",
       "      <td>1</td>\n",
       "      <td>0</td>\n",
       "      <td>1</td>\n",
       "    </tr>\n",
       "  </tbody>\n",
       "</table>\n",
       "<p>445 rows × 7 columns</p>\n",
       "</div>"
      ],
      "text/plain": [
       "      undermine_score  support_score  cp_distance  cop_distance  \\\n",
       "3           -3.960488       2.541158     0.038679      0.029619   \n",
       "15           6.596234      -6.021047     1.631476      1.681539   \n",
       "40          -4.326472       2.961641     0.002360      0.002133   \n",
       "52           7.047978      -2.799699     1.988701      1.989593   \n",
       "53           7.174447      -2.904366     1.987049      1.988421   \n",
       "...               ...            ...          ...           ...   \n",
       "6207         7.312033      -3.552069     1.885135      1.940654   \n",
       "6212         5.902318      -2.111966     1.844290      1.885755   \n",
       "6244         2.341580      -2.219413     1.252155      1.891777   \n",
       "6246         4.068810      -2.959476     1.347318      1.382702   \n",
       "6253        -3.621270       2.144143     0.026642      0.006161   \n",
       "\n",
       "      predict_label  distance_label  gold  \n",
       "3                 1               0     1  \n",
       "15                0               1     0  \n",
       "40                1               0     1  \n",
       "52                0               1     0  \n",
       "53                0               1     0  \n",
       "...             ...             ...   ...  \n",
       "6207              0               1     0  \n",
       "6212              0               1     0  \n",
       "6244              0               1     0  \n",
       "6246              0               1     0  \n",
       "6253              1               0     1  \n",
       "\n",
       "[445 rows x 7 columns]"
      ]
     },
     "execution_count": 63,
     "metadata": {},
     "output_type": "execute_result"
    }
   ],
   "source": [
    "df_distance_wrong_logits_correct"
   ]
  },
  {
   "cell_type": "code",
   "execution_count": 64,
   "metadata": {},
   "outputs": [],
   "source": [
    "#combine distance_wrong_logits_correct with test set"
   ]
  },
  {
   "cell_type": "code",
   "execution_count": 65,
   "metadata": {},
   "outputs": [],
   "source": [
    "dwrong_lcorrect_out = df_distance_wrong_logits_correct.join(df_origin).drop(\"x\",axis=1).drop(\"y\",axis=1)"
   ]
  },
  {
   "cell_type": "code",
   "execution_count": 66,
   "metadata": {},
   "outputs": [
    {
     "data": {
      "text/html": [
       "<div>\n",
       "<style scoped>\n",
       "    .dataframe tbody tr th:only-of-type {\n",
       "        vertical-align: middle;\n",
       "    }\n",
       "\n",
       "    .dataframe tbody tr th {\n",
       "        vertical-align: top;\n",
       "    }\n",
       "\n",
       "    .dataframe thead th {\n",
       "        text-align: right;\n",
       "    }\n",
       "</style>\n",
       "<table border=\"1\" class=\"dataframe\">\n",
       "  <thead>\n",
       "    <tr style=\"text-align: right;\">\n",
       "      <th></th>\n",
       "      <th>undermine_score</th>\n",
       "      <th>support_score</th>\n",
       "      <th>cp_distance</th>\n",
       "      <th>cop_distance</th>\n",
       "      <th>predict_label</th>\n",
       "      <th>distance_label</th>\n",
       "      <th>gold</th>\n",
       "      <th>Label</th>\n",
       "      <th>claim</th>\n",
       "      <th>perspective</th>\n",
       "      <th>opposite_perspective</th>\n",
       "    </tr>\n",
       "  </thead>\n",
       "  <tbody>\n",
       "    <tr>\n",
       "      <th>3</th>\n",
       "      <td>-3.960488</td>\n",
       "      <td>2.541158</td>\n",
       "      <td>0.038679</td>\n",
       "      <td>0.029619</td>\n",
       "      <td>1</td>\n",
       "      <td>0</td>\n",
       "      <td>1</td>\n",
       "      <td>1</td>\n",
       "      <td>punishment should fit the criminal</td>\n",
       "      <td>Adequate punishment reduces future offenses.</td>\n",
       "      <td>Adequate punishment increase future offenses.</td>\n",
       "    </tr>\n",
       "    <tr>\n",
       "      <th>15</th>\n",
       "      <td>6.596234</td>\n",
       "      <td>-6.021047</td>\n",
       "      <td>1.631476</td>\n",
       "      <td>1.681539</td>\n",
       "      <td>0</td>\n",
       "      <td>1</td>\n",
       "      <td>0</td>\n",
       "      <td>0</td>\n",
       "      <td>Islamic State/Daesh is the most significant th...</td>\n",
       "      <td>More significant threats than the Islamic Stat...</td>\n",
       "      <td>Less significant threats than the Islamic Stat...</td>\n",
       "    </tr>\n",
       "    <tr>\n",
       "      <th>40</th>\n",
       "      <td>-4.326472</td>\n",
       "      <td>2.961641</td>\n",
       "      <td>0.002360</td>\n",
       "      <td>0.002133</td>\n",
       "      <td>1</td>\n",
       "      <td>0</td>\n",
       "      <td>1</td>\n",
       "      <td>1</td>\n",
       "      <td>All countries should have the right to pursue ...</td>\n",
       "      <td>all countries are entitled to self defense wit...</td>\n",
       "      <td>all countries are entitled to self defense wit...</td>\n",
       "    </tr>\n",
       "    <tr>\n",
       "      <th>52</th>\n",
       "      <td>7.047978</td>\n",
       "      <td>-2.799699</td>\n",
       "      <td>1.988701</td>\n",
       "      <td>1.989593</td>\n",
       "      <td>0</td>\n",
       "      <td>1</td>\n",
       "      <td>0</td>\n",
       "      <td>0</td>\n",
       "      <td>All countries should have the right to pursue ...</td>\n",
       "      <td>[Iran specific] Others, particularly Israel, w...</td>\n",
       "      <td>[Iran specific] Others, particularly Israel, w...</td>\n",
       "    </tr>\n",
       "    <tr>\n",
       "      <th>53</th>\n",
       "      <td>7.174447</td>\n",
       "      <td>-2.904366</td>\n",
       "      <td>1.987049</td>\n",
       "      <td>1.988421</td>\n",
       "      <td>0</td>\n",
       "      <td>1</td>\n",
       "      <td>0</td>\n",
       "      <td>0</td>\n",
       "      <td>All countries should have the right to pursue ...</td>\n",
       "      <td>If the US does not act on Iran, Israel will</td>\n",
       "      <td>If the US does act on Iran, Israel will</td>\n",
       "    </tr>\n",
       "    <tr>\n",
       "      <th>...</th>\n",
       "      <td>...</td>\n",
       "      <td>...</td>\n",
       "      <td>...</td>\n",
       "      <td>...</td>\n",
       "      <td>...</td>\n",
       "      <td>...</td>\n",
       "      <td>...</td>\n",
       "      <td>...</td>\n",
       "      <td>...</td>\n",
       "      <td>...</td>\n",
       "      <td>...</td>\n",
       "    </tr>\n",
       "    <tr>\n",
       "      <th>6207</th>\n",
       "      <td>7.312033</td>\n",
       "      <td>-3.552069</td>\n",
       "      <td>1.885135</td>\n",
       "      <td>1.940654</td>\n",
       "      <td>0</td>\n",
       "      <td>1</td>\n",
       "      <td>0</td>\n",
       "      <td>0</td>\n",
       "      <td>Social Security should be privatized</td>\n",
       "      <td>The accusation that Social Security has been \"...</td>\n",
       "      <td>The accusation that Social Security has been \"...</td>\n",
       "    </tr>\n",
       "    <tr>\n",
       "      <th>6212</th>\n",
       "      <td>5.902318</td>\n",
       "      <td>-2.111966</td>\n",
       "      <td>1.844290</td>\n",
       "      <td>1.885755</td>\n",
       "      <td>0</td>\n",
       "      <td>1</td>\n",
       "      <td>0</td>\n",
       "      <td>0</td>\n",
       "      <td>Social Security should be privatized</td>\n",
       "      <td>Social Security is an equalizer, leveling the ...</td>\n",
       "      <td>Social Security is not an equalizer, leveling ...</td>\n",
       "    </tr>\n",
       "    <tr>\n",
       "      <th>6244</th>\n",
       "      <td>2.341580</td>\n",
       "      <td>-2.219413</td>\n",
       "      <td>1.252155</td>\n",
       "      <td>1.891777</td>\n",
       "      <td>0</td>\n",
       "      <td>1</td>\n",
       "      <td>0</td>\n",
       "      <td>0</td>\n",
       "      <td>It is important to use a graduated response to...</td>\n",
       "      <td>File-sharing will still happen, despite these ...</td>\n",
       "      <td>File-sharing will not still happen, despite th...</td>\n",
       "    </tr>\n",
       "    <tr>\n",
       "      <th>6246</th>\n",
       "      <td>4.068810</td>\n",
       "      <td>-2.959476</td>\n",
       "      <td>1.347318</td>\n",
       "      <td>1.382702</td>\n",
       "      <td>0</td>\n",
       "      <td>1</td>\n",
       "      <td>0</td>\n",
       "      <td>0</td>\n",
       "      <td>It is important to use a graduated response to...</td>\n",
       "      <td>Will file-sharing stop if downloaders are bann...</td>\n",
       "      <td>will not file-sharing stop if downloaders are...</td>\n",
       "    </tr>\n",
       "    <tr>\n",
       "      <th>6253</th>\n",
       "      <td>-3.621270</td>\n",
       "      <td>2.144143</td>\n",
       "      <td>0.026642</td>\n",
       "      <td>0.006161</td>\n",
       "      <td>1</td>\n",
       "      <td>0</td>\n",
       "      <td>1</td>\n",
       "      <td>1</td>\n",
       "      <td>Internet access is a human right</td>\n",
       "      <td>Human rights are infringed if internet use is ...</td>\n",
       "      <td>Human rights are not infringed if internet use...</td>\n",
       "    </tr>\n",
       "  </tbody>\n",
       "</table>\n",
       "<p>445 rows × 11 columns</p>\n",
       "</div>"
      ],
      "text/plain": [
       "      undermine_score  support_score  cp_distance  cop_distance  \\\n",
       "3           -3.960488       2.541158     0.038679      0.029619   \n",
       "15           6.596234      -6.021047     1.631476      1.681539   \n",
       "40          -4.326472       2.961641     0.002360      0.002133   \n",
       "52           7.047978      -2.799699     1.988701      1.989593   \n",
       "53           7.174447      -2.904366     1.987049      1.988421   \n",
       "...               ...            ...          ...           ...   \n",
       "6207         7.312033      -3.552069     1.885135      1.940654   \n",
       "6212         5.902318      -2.111966     1.844290      1.885755   \n",
       "6244         2.341580      -2.219413     1.252155      1.891777   \n",
       "6246         4.068810      -2.959476     1.347318      1.382702   \n",
       "6253        -3.621270       2.144143     0.026642      0.006161   \n",
       "\n",
       "      predict_label  distance_label  gold  Label  \\\n",
       "3                 1               0     1      1   \n",
       "15                0               1     0      0   \n",
       "40                1               0     1      1   \n",
       "52                0               1     0      0   \n",
       "53                0               1     0      0   \n",
       "...             ...             ...   ...    ...   \n",
       "6207              0               1     0      0   \n",
       "6212              0               1     0      0   \n",
       "6244              0               1     0      0   \n",
       "6246              0               1     0      0   \n",
       "6253              1               0     1      1   \n",
       "\n",
       "                                                  claim  \\\n",
       "3                    punishment should fit the criminal   \n",
       "15    Islamic State/Daesh is the most significant th...   \n",
       "40    All countries should have the right to pursue ...   \n",
       "52    All countries should have the right to pursue ...   \n",
       "53    All countries should have the right to pursue ...   \n",
       "...                                                 ...   \n",
       "6207              Social Security should be privatized    \n",
       "6212              Social Security should be privatized    \n",
       "6244  It is important to use a graduated response to...   \n",
       "6246  It is important to use a graduated response to...   \n",
       "6253                   Internet access is a human right   \n",
       "\n",
       "                                            perspective  \\\n",
       "3          Adequate punishment reduces future offenses.   \n",
       "15    More significant threats than the Islamic Stat...   \n",
       "40    all countries are entitled to self defense wit...   \n",
       "52    [Iran specific] Others, particularly Israel, w...   \n",
       "53          If the US does not act on Iran, Israel will   \n",
       "...                                                 ...   \n",
       "6207  The accusation that Social Security has been \"...   \n",
       "6212  Social Security is an equalizer, leveling the ...   \n",
       "6244  File-sharing will still happen, despite these ...   \n",
       "6246  Will file-sharing stop if downloaders are bann...   \n",
       "6253  Human rights are infringed if internet use is ...   \n",
       "\n",
       "                                   opposite_perspective  \n",
       "3         Adequate punishment increase future offenses.  \n",
       "15    Less significant threats than the Islamic Stat...  \n",
       "40    all countries are entitled to self defense wit...  \n",
       "52    [Iran specific] Others, particularly Israel, w...  \n",
       "53              If the US does act on Iran, Israel will  \n",
       "...                                                 ...  \n",
       "6207  The accusation that Social Security has been \"...  \n",
       "6212  Social Security is not an equalizer, leveling ...  \n",
       "6244  File-sharing will not still happen, despite th...  \n",
       "6246   will not file-sharing stop if downloaders are...  \n",
       "6253  Human rights are not infringed if internet use...  \n",
       "\n",
       "[445 rows x 11 columns]"
      ]
     },
     "execution_count": 66,
     "metadata": {},
     "output_type": "execute_result"
    }
   ],
   "source": [
    "dwrong_lcorrect_out"
   ]
  },
  {
   "cell_type": "code",
   "execution_count": 67,
   "metadata": {},
   "outputs": [],
   "source": [
    "# dwrong_lcorrect_out.to_csv(\"dwrong_lcorrect_data.csv\")"
   ]
  },
  {
   "cell_type": "code",
   "execution_count": 68,
   "metadata": {},
   "outputs": [],
   "source": [
    "# dwrong_lcorrect_out.to_excel(\"dwrong_lcorrect_data.xlsx\")"
   ]
  },
  {
   "cell_type": "code",
   "execution_count": null,
   "metadata": {},
   "outputs": [],
   "source": []
  },
  {
   "cell_type": "code",
   "execution_count": 71,
   "metadata": {},
   "outputs": [],
   "source": [
    "#stancy eval results"
   ]
  },
  {
   "cell_type": "code",
   "execution_count": 72,
   "metadata": {},
   "outputs": [],
   "source": [
    "df_stancy =  pd.read_table(\"../stancy/paper_bert_dual_loss_15/eval_details.txt\",header=None)"
   ]
  },
  {
   "cell_type": "code",
   "execution_count": 73,
   "metadata": {},
   "outputs": [
    {
     "data": {
      "text/html": [
       "<div>\n",
       "<style scoped>\n",
       "    .dataframe tbody tr th:only-of-type {\n",
       "        vertical-align: middle;\n",
       "    }\n",
       "\n",
       "    .dataframe tbody tr th {\n",
       "        vertical-align: top;\n",
       "    }\n",
       "\n",
       "    .dataframe thead th {\n",
       "        text-align: right;\n",
       "    }\n",
       "</style>\n",
       "<table border=\"1\" class=\"dataframe\">\n",
       "  <thead>\n",
       "    <tr style=\"text-align: right;\">\n",
       "      <th></th>\n",
       "      <th>0</th>\n",
       "      <th>1</th>\n",
       "      <th>2</th>\n",
       "    </tr>\n",
       "  </thead>\n",
       "  <tbody>\n",
       "    <tr>\n",
       "      <th>0</th>\n",
       "      <td>[0.9985860586166382, 0.001413914724253118]</td>\n",
       "      <td>0</td>\n",
       "      <td>0</td>\n",
       "    </tr>\n",
       "    <tr>\n",
       "      <th>1</th>\n",
       "      <td>[0.0006979649187996984, 0.9993020296096802]</td>\n",
       "      <td>1</td>\n",
       "      <td>1</td>\n",
       "    </tr>\n",
       "    <tr>\n",
       "      <th>2</th>\n",
       "      <td>[0.9987192153930664, 0.0012808680767193437]</td>\n",
       "      <td>0</td>\n",
       "      <td>0</td>\n",
       "    </tr>\n",
       "    <tr>\n",
       "      <th>3</th>\n",
       "      <td>[0.9983559250831604, 0.0016440259059891105]</td>\n",
       "      <td>0</td>\n",
       "      <td>0</td>\n",
       "    </tr>\n",
       "    <tr>\n",
       "      <th>4</th>\n",
       "      <td>[0.9973260164260864, 0.002673997776582837]</td>\n",
       "      <td>0</td>\n",
       "      <td>0</td>\n",
       "    </tr>\n",
       "    <tr>\n",
       "      <th>...</th>\n",
       "      <td>...</td>\n",
       "      <td>...</td>\n",
       "      <td>...</td>\n",
       "    </tr>\n",
       "    <tr>\n",
       "      <th>2768</th>\n",
       "      <td>[0.9971250891685486, 0.002874949248507619]</td>\n",
       "      <td>0</td>\n",
       "      <td>1</td>\n",
       "    </tr>\n",
       "    <tr>\n",
       "      <th>2769</th>\n",
       "      <td>[0.0006853992817923427, 0.9993146657943726]</td>\n",
       "      <td>1</td>\n",
       "      <td>1</td>\n",
       "    </tr>\n",
       "    <tr>\n",
       "      <th>2770</th>\n",
       "      <td>[0.03969154879450798, 0.9603084325790405]</td>\n",
       "      <td>1</td>\n",
       "      <td>0</td>\n",
       "    </tr>\n",
       "    <tr>\n",
       "      <th>2771</th>\n",
       "      <td>[0.0016762863378971815, 0.9983237385749817]</td>\n",
       "      <td>1</td>\n",
       "      <td>0</td>\n",
       "    </tr>\n",
       "    <tr>\n",
       "      <th>2772</th>\n",
       "      <td>[0.18177905678749084, 0.8182209134101868]</td>\n",
       "      <td>1</td>\n",
       "      <td>0</td>\n",
       "    </tr>\n",
       "  </tbody>\n",
       "</table>\n",
       "<p>2773 rows × 3 columns</p>\n",
       "</div>"
      ],
      "text/plain": [
       "                                                0  1  2\n",
       "0      [0.9985860586166382, 0.001413914724253118]  0  0\n",
       "1     [0.0006979649187996984, 0.9993020296096802]  1  1\n",
       "2     [0.9987192153930664, 0.0012808680767193437]  0  0\n",
       "3     [0.9983559250831604, 0.0016440259059891105]  0  0\n",
       "4      [0.9973260164260864, 0.002673997776582837]  0  0\n",
       "...                                           ... .. ..\n",
       "2768   [0.9971250891685486, 0.002874949248507619]  0  1\n",
       "2769  [0.0006853992817923427, 0.9993146657943726]  1  1\n",
       "2770    [0.03969154879450798, 0.9603084325790405]  1  0\n",
       "2771  [0.0016762863378971815, 0.9983237385749817]  1  0\n",
       "2772    [0.18177905678749084, 0.8182209134101868]  1  0\n",
       "\n",
       "[2773 rows x 3 columns]"
      ]
     },
     "execution_count": 73,
     "metadata": {},
     "output_type": "execute_result"
    }
   ],
   "source": [
    "df_stancy"
   ]
  },
  {
   "cell_type": "code",
   "execution_count": 74,
   "metadata": {},
   "outputs": [
    {
     "data": {
      "text/plain": [
       "0.7776"
      ]
     },
     "execution_count": 74,
     "metadata": {},
     "output_type": "execute_result"
    }
   ],
   "source": [
    "f1_score(df_stancy[1],df_stancy[2])"
   ]
  },
  {
   "cell_type": "code",
   "execution_count": 75,
   "metadata": {},
   "outputs": [
    {
     "data": {
      "text/plain": [
       "0.7465437788018433"
      ]
     },
     "execution_count": 75,
     "metadata": {},
     "output_type": "execute_result"
    }
   ],
   "source": [
    "precision_score(df_stancy[1],df_stancy[2])"
   ]
  },
  {
   "cell_type": "code",
   "execution_count": 76,
   "metadata": {},
   "outputs": [
    {
     "data": {
      "text/plain": [
       "0.8113522537562604"
      ]
     },
     "execution_count": 76,
     "metadata": {},
     "output_type": "execute_result"
    }
   ],
   "source": [
    "recall_score(df_stancy[1],df_stancy[2])"
   ]
  },
  {
   "cell_type": "code",
   "execution_count": 77,
   "metadata": {},
   "outputs": [
    {
     "data": {
      "text/html": [
       "<div>\n",
       "<style scoped>\n",
       "    .dataframe tbody tr th:only-of-type {\n",
       "        vertical-align: middle;\n",
       "    }\n",
       "\n",
       "    .dataframe tbody tr th {\n",
       "        vertical-align: top;\n",
       "    }\n",
       "\n",
       "    .dataframe thead th {\n",
       "        text-align: right;\n",
       "    }\n",
       "</style>\n",
       "<table border=\"1\" class=\"dataframe\">\n",
       "  <thead>\n",
       "    <tr style=\"text-align: right;\">\n",
       "      <th></th>\n",
       "      <th>0</th>\n",
       "      <th>1</th>\n",
       "      <th>2</th>\n",
       "    </tr>\n",
       "  </thead>\n",
       "  <tbody>\n",
       "    <tr>\n",
       "      <th>0</th>\n",
       "      <td>[0.9985860586166382, 0.001413914724253118]</td>\n",
       "      <td>0</td>\n",
       "      <td>0</td>\n",
       "    </tr>\n",
       "    <tr>\n",
       "      <th>1</th>\n",
       "      <td>[0.0006979649187996984, 0.9993020296096802]</td>\n",
       "      <td>1</td>\n",
       "      <td>1</td>\n",
       "    </tr>\n",
       "    <tr>\n",
       "      <th>2</th>\n",
       "      <td>[0.9987192153930664, 0.0012808680767193437]</td>\n",
       "      <td>0</td>\n",
       "      <td>0</td>\n",
       "    </tr>\n",
       "    <tr>\n",
       "      <th>3</th>\n",
       "      <td>[0.9983559250831604, 0.0016440259059891105]</td>\n",
       "      <td>0</td>\n",
       "      <td>0</td>\n",
       "    </tr>\n",
       "    <tr>\n",
       "      <th>4</th>\n",
       "      <td>[0.9973260164260864, 0.002673997776582837]</td>\n",
       "      <td>0</td>\n",
       "      <td>0</td>\n",
       "    </tr>\n",
       "    <tr>\n",
       "      <th>...</th>\n",
       "      <td>...</td>\n",
       "      <td>...</td>\n",
       "      <td>...</td>\n",
       "    </tr>\n",
       "    <tr>\n",
       "      <th>2763</th>\n",
       "      <td>[0.001166122849099338, 0.9988338351249695]</td>\n",
       "      <td>1</td>\n",
       "      <td>1</td>\n",
       "    </tr>\n",
       "    <tr>\n",
       "      <th>2764</th>\n",
       "      <td>[0.0010132481111213565, 0.9989867806434631]</td>\n",
       "      <td>1</td>\n",
       "      <td>1</td>\n",
       "    </tr>\n",
       "    <tr>\n",
       "      <th>2765</th>\n",
       "      <td>[0.0031348520424216986, 0.9968650937080383]</td>\n",
       "      <td>1</td>\n",
       "      <td>1</td>\n",
       "    </tr>\n",
       "    <tr>\n",
       "      <th>2766</th>\n",
       "      <td>[0.0007364643388427794, 0.9992635846138]</td>\n",
       "      <td>1</td>\n",
       "      <td>1</td>\n",
       "    </tr>\n",
       "    <tr>\n",
       "      <th>2769</th>\n",
       "      <td>[0.0006853992817923427, 0.9993146657943726]</td>\n",
       "      <td>1</td>\n",
       "      <td>1</td>\n",
       "    </tr>\n",
       "  </tbody>\n",
       "</table>\n",
       "<p>2217 rows × 3 columns</p>\n",
       "</div>"
      ],
      "text/plain": [
       "                                                0  1  2\n",
       "0      [0.9985860586166382, 0.001413914724253118]  0  0\n",
       "1     [0.0006979649187996984, 0.9993020296096802]  1  1\n",
       "2     [0.9987192153930664, 0.0012808680767193437]  0  0\n",
       "3     [0.9983559250831604, 0.0016440259059891105]  0  0\n",
       "4      [0.9973260164260864, 0.002673997776582837]  0  0\n",
       "...                                           ... .. ..\n",
       "2763   [0.001166122849099338, 0.9988338351249695]  1  1\n",
       "2764  [0.0010132481111213565, 0.9989867806434631]  1  1\n",
       "2765  [0.0031348520424216986, 0.9968650937080383]  1  1\n",
       "2766     [0.0007364643388427794, 0.9992635846138]  1  1\n",
       "2769  [0.0006853992817923427, 0.9993146657943726]  1  1\n",
       "\n",
       "[2217 rows x 3 columns]"
      ]
     },
     "execution_count": 77,
     "metadata": {},
     "output_type": "execute_result"
    }
   ],
   "source": [
    "df_stancy[df_stancy[1]==df_stancy[2]]"
   ]
  },
  {
   "cell_type": "code",
   "execution_count": null,
   "metadata": {},
   "outputs": [],
   "source": []
  },
  {
   "cell_type": "markdown",
   "metadata": {},
   "source": [
    "## MEDIAN & MEAN\n"
   ]
  },
  {
   "cell_type": "code",
   "execution_count": 78,
   "metadata": {},
   "outputs": [],
   "source": [
    "#dcorrect_lwrong_out cases"
   ]
  },
  {
   "cell_type": "code",
   "execution_count": 69,
   "metadata": {},
   "outputs": [
    {
     "data": {
      "text/html": [
       "<div>\n",
       "<style scoped>\n",
       "    .dataframe tbody tr th:only-of-type {\n",
       "        vertical-align: middle;\n",
       "    }\n",
       "\n",
       "    .dataframe tbody tr th {\n",
       "        vertical-align: top;\n",
       "    }\n",
       "\n",
       "    .dataframe thead th {\n",
       "        text-align: right;\n",
       "    }\n",
       "</style>\n",
       "<table border=\"1\" class=\"dataframe\">\n",
       "  <thead>\n",
       "    <tr style=\"text-align: right;\">\n",
       "      <th></th>\n",
       "      <th>undermine_score</th>\n",
       "      <th>support_score</th>\n",
       "      <th>cp_distance</th>\n",
       "      <th>cop_distance</th>\n",
       "      <th>predict_label</th>\n",
       "      <th>distance_label</th>\n",
       "      <th>gold</th>\n",
       "      <th>Label</th>\n",
       "      <th>claim</th>\n",
       "      <th>perspective</th>\n",
       "      <th>opposite_perspective</th>\n",
       "    </tr>\n",
       "  </thead>\n",
       "  <tbody>\n",
       "  </tbody>\n",
       "</table>\n",
       "</div>"
      ],
      "text/plain": [
       "Empty DataFrame\n",
       "Columns: [undermine_score, support_score, cp_distance, cop_distance, predict_label, distance_label, gold, Label, claim, perspective, opposite_perspective]\n",
       "Index: []"
      ]
     },
     "execution_count": 69,
     "metadata": {},
     "output_type": "execute_result"
    }
   ],
   "source": [
    "dcorrect_lwrong_out"
   ]
  },
  {
   "cell_type": "code",
   "execution_count": 70,
   "metadata": {},
   "outputs": [
    {
     "data": {
      "text/plain": [
       "nan"
      ]
     },
     "execution_count": 70,
     "metadata": {},
     "output_type": "execute_result"
    }
   ],
   "source": [
    "abs(dcorrect_lwrong_out.cp_distance-dcorrect_lwrong_out.cop_distance).median()"
   ]
  },
  {
   "cell_type": "code",
   "execution_count": 71,
   "metadata": {},
   "outputs": [
    {
     "data": {
      "text/plain": [
       "nan"
      ]
     },
     "execution_count": 71,
     "metadata": {},
     "output_type": "execute_result"
    }
   ],
   "source": [
    "abs(dcorrect_lwrong_out.cp_distance-dcorrect_lwrong_out.cop_distance).mean()"
   ]
  },
  {
   "cell_type": "code",
   "execution_count": 72,
   "metadata": {},
   "outputs": [
    {
     "data": {
      "text/plain": [
       "nan"
      ]
     },
     "execution_count": 72,
     "metadata": {},
     "output_type": "execute_result"
    }
   ],
   "source": [
    "abs(dcorrect_lwrong_out.cp_distance-dcorrect_lwrong_out.cop_distance).max()"
   ]
  },
  {
   "cell_type": "code",
   "execution_count": 73,
   "metadata": {},
   "outputs": [
    {
     "data": {
      "text/plain": [
       "nan"
      ]
     },
     "execution_count": 73,
     "metadata": {},
     "output_type": "execute_result"
    }
   ],
   "source": [
    "abs(dcorrect_lwrong_out.cp_distance-dcorrect_lwrong_out.cop_distance).min()"
   ]
  },
  {
   "cell_type": "code",
   "execution_count": null,
   "metadata": {},
   "outputs": [],
   "source": []
  },
  {
   "cell_type": "code",
   "execution_count": 74,
   "metadata": {},
   "outputs": [
    {
     "data": {
      "text/plain": [
       "nan"
      ]
     },
     "execution_count": 74,
     "metadata": {},
     "output_type": "execute_result"
    }
   ],
   "source": [
    "abs(dcorrect_lwrong_out.undermine_score-dcorrect_lwrong_out.support_score).median()"
   ]
  },
  {
   "cell_type": "code",
   "execution_count": 75,
   "metadata": {},
   "outputs": [
    {
     "data": {
      "text/plain": [
       "nan"
      ]
     },
     "execution_count": 75,
     "metadata": {},
     "output_type": "execute_result"
    }
   ],
   "source": [
    "abs(dcorrect_lwrong_out.undermine_score-dcorrect_lwrong_out.support_score).mean()"
   ]
  },
  {
   "cell_type": "code",
   "execution_count": 76,
   "metadata": {},
   "outputs": [
    {
     "data": {
      "text/plain": [
       "nan"
      ]
     },
     "execution_count": 76,
     "metadata": {},
     "output_type": "execute_result"
    }
   ],
   "source": [
    "abs(dcorrect_lwrong_out.undermine_score-dcorrect_lwrong_out.support_score).max()"
   ]
  },
  {
   "cell_type": "code",
   "execution_count": 77,
   "metadata": {},
   "outputs": [
    {
     "data": {
      "text/plain": [
       "nan"
      ]
     },
     "execution_count": 77,
     "metadata": {},
     "output_type": "execute_result"
    }
   ],
   "source": [
    "abs(dcorrect_lwrong_out.undermine_score-dcorrect_lwrong_out.support_score).min()"
   ]
  },
  {
   "cell_type": "code",
   "execution_count": null,
   "metadata": {},
   "outputs": [],
   "source": []
  },
  {
   "cell_type": "code",
   "execution_count": 78,
   "metadata": {},
   "outputs": [],
   "source": [
    "#dwrong_lcorrect_out cases"
   ]
  },
  {
   "cell_type": "code",
   "execution_count": 89,
   "metadata": {},
   "outputs": [
    {
     "data": {
      "text/html": [
       "<div>\n",
       "<style scoped>\n",
       "    .dataframe tbody tr th:only-of-type {\n",
       "        vertical-align: middle;\n",
       "    }\n",
       "\n",
       "    .dataframe tbody tr th {\n",
       "        vertical-align: top;\n",
       "    }\n",
       "\n",
       "    .dataframe thead th {\n",
       "        text-align: right;\n",
       "    }\n",
       "</style>\n",
       "<table border=\"1\" class=\"dataframe\">\n",
       "  <thead>\n",
       "    <tr style=\"text-align: right;\">\n",
       "      <th></th>\n",
       "      <th>undermine_score</th>\n",
       "      <th>support_score</th>\n",
       "      <th>cp_distance</th>\n",
       "      <th>cop_distance</th>\n",
       "      <th>predict_label</th>\n",
       "      <th>distance_label</th>\n",
       "      <th>gold</th>\n",
       "      <th>Label</th>\n",
       "      <th>claim</th>\n",
       "      <th>perspective</th>\n",
       "      <th>opposite_perspective</th>\n",
       "    </tr>\n",
       "  </thead>\n",
       "  <tbody>\n",
       "    <tr>\n",
       "      <th>3</th>\n",
       "      <td>-3.960488</td>\n",
       "      <td>2.541158</td>\n",
       "      <td>0.038679</td>\n",
       "      <td>0.029619</td>\n",
       "      <td>1</td>\n",
       "      <td>0</td>\n",
       "      <td>1</td>\n",
       "      <td>1</td>\n",
       "      <td>punishment should fit the criminal</td>\n",
       "      <td>Adequate punishment reduces future offenses.</td>\n",
       "      <td>Adequate punishment increase future offenses.</td>\n",
       "    </tr>\n",
       "    <tr>\n",
       "      <th>15</th>\n",
       "      <td>6.596234</td>\n",
       "      <td>-6.021047</td>\n",
       "      <td>1.631476</td>\n",
       "      <td>1.681539</td>\n",
       "      <td>0</td>\n",
       "      <td>1</td>\n",
       "      <td>0</td>\n",
       "      <td>0</td>\n",
       "      <td>Islamic State/Daesh is the most significant th...</td>\n",
       "      <td>More significant threats than the Islamic Stat...</td>\n",
       "      <td>Less significant threats than the Islamic Stat...</td>\n",
       "    </tr>\n",
       "    <tr>\n",
       "      <th>40</th>\n",
       "      <td>-4.326472</td>\n",
       "      <td>2.961641</td>\n",
       "      <td>0.002360</td>\n",
       "      <td>0.002133</td>\n",
       "      <td>1</td>\n",
       "      <td>0</td>\n",
       "      <td>1</td>\n",
       "      <td>1</td>\n",
       "      <td>All countries should have the right to pursue ...</td>\n",
       "      <td>all countries are entitled to self defense wit...</td>\n",
       "      <td>all countries are entitled to self defense wit...</td>\n",
       "    </tr>\n",
       "    <tr>\n",
       "      <th>52</th>\n",
       "      <td>7.047978</td>\n",
       "      <td>-2.799699</td>\n",
       "      <td>1.988701</td>\n",
       "      <td>1.989593</td>\n",
       "      <td>0</td>\n",
       "      <td>1</td>\n",
       "      <td>0</td>\n",
       "      <td>0</td>\n",
       "      <td>All countries should have the right to pursue ...</td>\n",
       "      <td>[Iran specific] Others, particularly Israel, w...</td>\n",
       "      <td>[Iran specific] Others, particularly Israel, w...</td>\n",
       "    </tr>\n",
       "    <tr>\n",
       "      <th>53</th>\n",
       "      <td>7.174447</td>\n",
       "      <td>-2.904366</td>\n",
       "      <td>1.987049</td>\n",
       "      <td>1.988421</td>\n",
       "      <td>0</td>\n",
       "      <td>1</td>\n",
       "      <td>0</td>\n",
       "      <td>0</td>\n",
       "      <td>All countries should have the right to pursue ...</td>\n",
       "      <td>If the US does not act on Iran, Israel will</td>\n",
       "      <td>If the US does act on Iran, Israel will</td>\n",
       "    </tr>\n",
       "    <tr>\n",
       "      <th>...</th>\n",
       "      <td>...</td>\n",
       "      <td>...</td>\n",
       "      <td>...</td>\n",
       "      <td>...</td>\n",
       "      <td>...</td>\n",
       "      <td>...</td>\n",
       "      <td>...</td>\n",
       "      <td>...</td>\n",
       "      <td>...</td>\n",
       "      <td>...</td>\n",
       "      <td>...</td>\n",
       "    </tr>\n",
       "    <tr>\n",
       "      <th>6207</th>\n",
       "      <td>7.312033</td>\n",
       "      <td>-3.552069</td>\n",
       "      <td>1.885135</td>\n",
       "      <td>1.940654</td>\n",
       "      <td>0</td>\n",
       "      <td>1</td>\n",
       "      <td>0</td>\n",
       "      <td>0</td>\n",
       "      <td>Social Security should be privatized</td>\n",
       "      <td>The accusation that Social Security has been \"...</td>\n",
       "      <td>The accusation that Social Security has been \"...</td>\n",
       "    </tr>\n",
       "    <tr>\n",
       "      <th>6212</th>\n",
       "      <td>5.902318</td>\n",
       "      <td>-2.111966</td>\n",
       "      <td>1.844290</td>\n",
       "      <td>1.885755</td>\n",
       "      <td>0</td>\n",
       "      <td>1</td>\n",
       "      <td>0</td>\n",
       "      <td>0</td>\n",
       "      <td>Social Security should be privatized</td>\n",
       "      <td>Social Security is an equalizer, leveling the ...</td>\n",
       "      <td>Social Security is not an equalizer, leveling ...</td>\n",
       "    </tr>\n",
       "    <tr>\n",
       "      <th>6244</th>\n",
       "      <td>2.341580</td>\n",
       "      <td>-2.219413</td>\n",
       "      <td>1.252155</td>\n",
       "      <td>1.891777</td>\n",
       "      <td>0</td>\n",
       "      <td>1</td>\n",
       "      <td>0</td>\n",
       "      <td>0</td>\n",
       "      <td>It is important to use a graduated response to...</td>\n",
       "      <td>File-sharing will still happen, despite these ...</td>\n",
       "      <td>File-sharing will not still happen, despite th...</td>\n",
       "    </tr>\n",
       "    <tr>\n",
       "      <th>6246</th>\n",
       "      <td>4.068810</td>\n",
       "      <td>-2.959476</td>\n",
       "      <td>1.347318</td>\n",
       "      <td>1.382702</td>\n",
       "      <td>0</td>\n",
       "      <td>1</td>\n",
       "      <td>0</td>\n",
       "      <td>0</td>\n",
       "      <td>It is important to use a graduated response to...</td>\n",
       "      <td>Will file-sharing stop if downloaders are bann...</td>\n",
       "      <td>will not file-sharing stop if downloaders are...</td>\n",
       "    </tr>\n",
       "    <tr>\n",
       "      <th>6253</th>\n",
       "      <td>-3.621270</td>\n",
       "      <td>2.144143</td>\n",
       "      <td>0.026642</td>\n",
       "      <td>0.006161</td>\n",
       "      <td>1</td>\n",
       "      <td>0</td>\n",
       "      <td>1</td>\n",
       "      <td>1</td>\n",
       "      <td>Internet access is a human right</td>\n",
       "      <td>Human rights are infringed if internet use is ...</td>\n",
       "      <td>Human rights are not infringed if internet use...</td>\n",
       "    </tr>\n",
       "  </tbody>\n",
       "</table>\n",
       "<p>445 rows × 11 columns</p>\n",
       "</div>"
      ],
      "text/plain": [
       "      undermine_score  support_score  cp_distance  cop_distance  \\\n",
       "3           -3.960488       2.541158     0.038679      0.029619   \n",
       "15           6.596234      -6.021047     1.631476      1.681539   \n",
       "40          -4.326472       2.961641     0.002360      0.002133   \n",
       "52           7.047978      -2.799699     1.988701      1.989593   \n",
       "53           7.174447      -2.904366     1.987049      1.988421   \n",
       "...               ...            ...          ...           ...   \n",
       "6207         7.312033      -3.552069     1.885135      1.940654   \n",
       "6212         5.902318      -2.111966     1.844290      1.885755   \n",
       "6244         2.341580      -2.219413     1.252155      1.891777   \n",
       "6246         4.068810      -2.959476     1.347318      1.382702   \n",
       "6253        -3.621270       2.144143     0.026642      0.006161   \n",
       "\n",
       "      predict_label  distance_label  gold  Label  \\\n",
       "3                 1               0     1      1   \n",
       "15                0               1     0      0   \n",
       "40                1               0     1      1   \n",
       "52                0               1     0      0   \n",
       "53                0               1     0      0   \n",
       "...             ...             ...   ...    ...   \n",
       "6207              0               1     0      0   \n",
       "6212              0               1     0      0   \n",
       "6244              0               1     0      0   \n",
       "6246              0               1     0      0   \n",
       "6253              1               0     1      1   \n",
       "\n",
       "                                                  claim  \\\n",
       "3                    punishment should fit the criminal   \n",
       "15    Islamic State/Daesh is the most significant th...   \n",
       "40    All countries should have the right to pursue ...   \n",
       "52    All countries should have the right to pursue ...   \n",
       "53    All countries should have the right to pursue ...   \n",
       "...                                                 ...   \n",
       "6207              Social Security should be privatized    \n",
       "6212              Social Security should be privatized    \n",
       "6244  It is important to use a graduated response to...   \n",
       "6246  It is important to use a graduated response to...   \n",
       "6253                   Internet access is a human right   \n",
       "\n",
       "                                            perspective  \\\n",
       "3          Adequate punishment reduces future offenses.   \n",
       "15    More significant threats than the Islamic Stat...   \n",
       "40    all countries are entitled to self defense wit...   \n",
       "52    [Iran specific] Others, particularly Israel, w...   \n",
       "53          If the US does not act on Iran, Israel will   \n",
       "...                                                 ...   \n",
       "6207  The accusation that Social Security has been \"...   \n",
       "6212  Social Security is an equalizer, leveling the ...   \n",
       "6244  File-sharing will still happen, despite these ...   \n",
       "6246  Will file-sharing stop if downloaders are bann...   \n",
       "6253  Human rights are infringed if internet use is ...   \n",
       "\n",
       "                                   opposite_perspective  \n",
       "3         Adequate punishment increase future offenses.  \n",
       "15    Less significant threats than the Islamic Stat...  \n",
       "40    all countries are entitled to self defense wit...  \n",
       "52    [Iran specific] Others, particularly Israel, w...  \n",
       "53              If the US does act on Iran, Israel will  \n",
       "...                                                 ...  \n",
       "6207  The accusation that Social Security has been \"...  \n",
       "6212  Social Security is not an equalizer, leveling ...  \n",
       "6244  File-sharing will not still happen, despite th...  \n",
       "6246   will not file-sharing stop if downloaders are...  \n",
       "6253  Human rights are not infringed if internet use...  \n",
       "\n",
       "[445 rows x 11 columns]"
      ]
     },
     "execution_count": 89,
     "metadata": {},
     "output_type": "execute_result"
    }
   ],
   "source": [
    "dwrong_lcorrect_out"
   ]
  },
  {
   "cell_type": "code",
   "execution_count": 90,
   "metadata": {},
   "outputs": [
    {
     "data": {
      "text/plain": [
       "0.022386968"
      ]
     },
     "execution_count": 90,
     "metadata": {},
     "output_type": "execute_result"
    }
   ],
   "source": [
    "abs(dwrong_lcorrect_out.cp_distance-dwrong_lcorrect_out.cop_distance).median()"
   ]
  },
  {
   "cell_type": "code",
   "execution_count": 91,
   "metadata": {},
   "outputs": [
    {
     "data": {
      "text/plain": [
       "0.09721777781930338"
      ]
     },
     "execution_count": 91,
     "metadata": {},
     "output_type": "execute_result"
    }
   ],
   "source": [
    "abs(dwrong_lcorrect_out.cp_distance-dwrong_lcorrect_out.cop_distance).mean()"
   ]
  },
  {
   "cell_type": "code",
   "execution_count": 92,
   "metadata": {},
   "outputs": [
    {
     "data": {
      "text/plain": [
       "0.9277638000000001"
      ]
     },
     "execution_count": 92,
     "metadata": {},
     "output_type": "execute_result"
    }
   ],
   "source": [
    "abs(dwrong_lcorrect_out.cp_distance-dwrong_lcorrect_out.cop_distance).max()"
   ]
  },
  {
   "cell_type": "code",
   "execution_count": 93,
   "metadata": {},
   "outputs": [
    {
     "data": {
      "text/plain": [
       "5.364400000000026e-06"
      ]
     },
     "execution_count": 93,
     "metadata": {},
     "output_type": "execute_result"
    }
   ],
   "source": [
    "abs(dwrong_lcorrect_out.cp_distance-dwrong_lcorrect_out.cop_distance).min()"
   ]
  },
  {
   "cell_type": "code",
   "execution_count": null,
   "metadata": {},
   "outputs": [],
   "source": []
  },
  {
   "cell_type": "code",
   "execution_count": 94,
   "metadata": {},
   "outputs": [
    {
     "data": {
      "text/plain": [
       "8.7446527"
      ]
     },
     "execution_count": 94,
     "metadata": {},
     "output_type": "execute_result"
    }
   ],
   "source": [
    "abs(dwrong_lcorrect_out.undermine_score-dwrong_lcorrect_out.support_score).median()"
   ]
  },
  {
   "cell_type": "code",
   "execution_count": 95,
   "metadata": {},
   "outputs": [
    {
     "data": {
      "text/plain": [
       "9.144079554561797"
      ]
     },
     "execution_count": 95,
     "metadata": {},
     "output_type": "execute_result"
    }
   ],
   "source": [
    "abs(dwrong_lcorrect_out.undermine_score-dwrong_lcorrect_out.support_score).mean()"
   ]
  },
  {
   "cell_type": "code",
   "execution_count": 96,
   "metadata": {},
   "outputs": [
    {
     "data": {
      "text/plain": [
       "18.485424000000002"
      ]
     },
     "execution_count": 96,
     "metadata": {},
     "output_type": "execute_result"
    }
   ],
   "source": [
    "abs(dwrong_lcorrect_out.undermine_score-dwrong_lcorrect_out.support_score).max()"
   ]
  },
  {
   "cell_type": "code",
   "execution_count": 97,
   "metadata": {},
   "outputs": [
    {
     "data": {
      "text/plain": [
       "1.54931746"
      ]
     },
     "execution_count": 97,
     "metadata": {},
     "output_type": "execute_result"
    }
   ],
   "source": [
    "abs(dwrong_lcorrect_out.undermine_score-dwrong_lcorrect_out.support_score).min()"
   ]
  },
  {
   "cell_type": "code",
   "execution_count": null,
   "metadata": {},
   "outputs": [],
   "source": []
  },
  {
   "cell_type": "code",
   "execution_count": null,
   "metadata": {},
   "outputs": [],
   "source": []
  },
  {
   "cell_type": "code",
   "execution_count": 98,
   "metadata": {},
   "outputs": [
    {
     "data": {
      "text/html": [
       "<div>\n",
       "<style scoped>\n",
       "    .dataframe tbody tr th:only-of-type {\n",
       "        vertical-align: middle;\n",
       "    }\n",
       "\n",
       "    .dataframe tbody tr th {\n",
       "        vertical-align: top;\n",
       "    }\n",
       "\n",
       "    .dataframe thead th {\n",
       "        text-align: right;\n",
       "    }\n",
       "</style>\n",
       "<table border=\"1\" class=\"dataframe\">\n",
       "  <thead>\n",
       "    <tr style=\"text-align: right;\">\n",
       "      <th></th>\n",
       "      <th>undermine_score</th>\n",
       "      <th>support_score</th>\n",
       "      <th>cp_distance</th>\n",
       "      <th>cop_distance</th>\n",
       "      <th>predict_label</th>\n",
       "      <th>distance_label</th>\n",
       "      <th>gold</th>\n",
       "    </tr>\n",
       "  </thead>\n",
       "  <tbody>\n",
       "    <tr>\n",
       "      <th>15</th>\n",
       "      <td>6.596234</td>\n",
       "      <td>-6.021047</td>\n",
       "      <td>1.631476</td>\n",
       "      <td>1.681539</td>\n",
       "      <td>0</td>\n",
       "      <td>1</td>\n",
       "      <td>0</td>\n",
       "    </tr>\n",
       "    <tr>\n",
       "      <th>40</th>\n",
       "      <td>-4.326472</td>\n",
       "      <td>2.961641</td>\n",
       "      <td>0.002360</td>\n",
       "      <td>0.002133</td>\n",
       "      <td>1</td>\n",
       "      <td>0</td>\n",
       "      <td>1</td>\n",
       "    </tr>\n",
       "    <tr>\n",
       "      <th>52</th>\n",
       "      <td>7.047978</td>\n",
       "      <td>-2.799699</td>\n",
       "      <td>1.988701</td>\n",
       "      <td>1.989593</td>\n",
       "      <td>0</td>\n",
       "      <td>1</td>\n",
       "      <td>0</td>\n",
       "    </tr>\n",
       "    <tr>\n",
       "      <th>53</th>\n",
       "      <td>7.174447</td>\n",
       "      <td>-2.904366</td>\n",
       "      <td>1.987049</td>\n",
       "      <td>1.988421</td>\n",
       "      <td>0</td>\n",
       "      <td>1</td>\n",
       "      <td>0</td>\n",
       "    </tr>\n",
       "    <tr>\n",
       "      <th>114</th>\n",
       "      <td>6.323477</td>\n",
       "      <td>-2.008886</td>\n",
       "      <td>1.880848</td>\n",
       "      <td>1.886515</td>\n",
       "      <td>0</td>\n",
       "      <td>1</td>\n",
       "      <td>0</td>\n",
       "    </tr>\n",
       "    <tr>\n",
       "      <th>...</th>\n",
       "      <td>...</td>\n",
       "      <td>...</td>\n",
       "      <td>...</td>\n",
       "      <td>...</td>\n",
       "      <td>...</td>\n",
       "      <td>...</td>\n",
       "      <td>...</td>\n",
       "    </tr>\n",
       "    <tr>\n",
       "      <th>6176</th>\n",
       "      <td>6.916588</td>\n",
       "      <td>-2.358370</td>\n",
       "      <td>1.935052</td>\n",
       "      <td>1.984906</td>\n",
       "      <td>0</td>\n",
       "      <td>1</td>\n",
       "      <td>0</td>\n",
       "    </tr>\n",
       "    <tr>\n",
       "      <th>6188</th>\n",
       "      <td>5.434276</td>\n",
       "      <td>-2.205930</td>\n",
       "      <td>1.795167</td>\n",
       "      <td>1.804801</td>\n",
       "      <td>0</td>\n",
       "      <td>1</td>\n",
       "      <td>0</td>\n",
       "    </tr>\n",
       "    <tr>\n",
       "      <th>6207</th>\n",
       "      <td>7.312033</td>\n",
       "      <td>-3.552069</td>\n",
       "      <td>1.885135</td>\n",
       "      <td>1.940654</td>\n",
       "      <td>0</td>\n",
       "      <td>1</td>\n",
       "      <td>0</td>\n",
       "    </tr>\n",
       "    <tr>\n",
       "      <th>6212</th>\n",
       "      <td>5.902318</td>\n",
       "      <td>-2.111966</td>\n",
       "      <td>1.844290</td>\n",
       "      <td>1.885755</td>\n",
       "      <td>0</td>\n",
       "      <td>1</td>\n",
       "      <td>0</td>\n",
       "    </tr>\n",
       "    <tr>\n",
       "      <th>6246</th>\n",
       "      <td>4.068810</td>\n",
       "      <td>-2.959476</td>\n",
       "      <td>1.347318</td>\n",
       "      <td>1.382702</td>\n",
       "      <td>0</td>\n",
       "      <td>1</td>\n",
       "      <td>0</td>\n",
       "    </tr>\n",
       "  </tbody>\n",
       "</table>\n",
       "<p>310 rows × 7 columns</p>\n",
       "</div>"
      ],
      "text/plain": [
       "      undermine_score  support_score  cp_distance  cop_distance  \\\n",
       "15           6.596234      -6.021047     1.631476      1.681539   \n",
       "40          -4.326472       2.961641     0.002360      0.002133   \n",
       "52           7.047978      -2.799699     1.988701      1.989593   \n",
       "53           7.174447      -2.904366     1.987049      1.988421   \n",
       "114          6.323477      -2.008886     1.880848      1.886515   \n",
       "...               ...            ...          ...           ...   \n",
       "6176         6.916588      -2.358370     1.935052      1.984906   \n",
       "6188         5.434276      -2.205930     1.795167      1.804801   \n",
       "6207         7.312033      -3.552069     1.885135      1.940654   \n",
       "6212         5.902318      -2.111966     1.844290      1.885755   \n",
       "6246         4.068810      -2.959476     1.347318      1.382702   \n",
       "\n",
       "      predict_label  distance_label  gold  \n",
       "15                0               1     0  \n",
       "40                1               0     1  \n",
       "52                0               1     0  \n",
       "53                0               1     0  \n",
       "114               0               1     0  \n",
       "...             ...             ...   ...  \n",
       "6176              0               1     0  \n",
       "6188              0               1     0  \n",
       "6207              0               1     0  \n",
       "6212              0               1     0  \n",
       "6246              0               1     0  \n",
       "\n",
       "[310 rows x 7 columns]"
      ]
     },
     "execution_count": 98,
     "metadata": {},
     "output_type": "execute_result"
    }
   ],
   "source": [
    "df_inconsistency[(abs(df_inconsistency.undermine_score-df_inconsistency.support_score)>7)&(abs(df_inconsistency.cp_distance-df_inconsistency.cop_distance)<0.1)]"
   ]
  },
  {
   "cell_type": "code",
   "execution_count": 99,
   "metadata": {},
   "outputs": [
    {
     "data": {
      "text/html": [
       "<div>\n",
       "<style scoped>\n",
       "    .dataframe tbody tr th:only-of-type {\n",
       "        vertical-align: middle;\n",
       "    }\n",
       "\n",
       "    .dataframe tbody tr th {\n",
       "        vertical-align: top;\n",
       "    }\n",
       "\n",
       "    .dataframe thead th {\n",
       "        text-align: right;\n",
       "    }\n",
       "</style>\n",
       "<table border=\"1\" class=\"dataframe\">\n",
       "  <thead>\n",
       "    <tr style=\"text-align: right;\">\n",
       "      <th></th>\n",
       "      <th>undermine_score</th>\n",
       "      <th>support_score</th>\n",
       "      <th>cp_distance</th>\n",
       "      <th>cop_distance</th>\n",
       "      <th>predict_label</th>\n",
       "      <th>distance_label</th>\n",
       "      <th>gold</th>\n",
       "    </tr>\n",
       "  </thead>\n",
       "  <tbody>\n",
       "    <tr>\n",
       "      <th>15</th>\n",
       "      <td>6.596234</td>\n",
       "      <td>-6.021047</td>\n",
       "      <td>1.631476</td>\n",
       "      <td>1.681539</td>\n",
       "      <td>0</td>\n",
       "      <td>1</td>\n",
       "      <td>0</td>\n",
       "    </tr>\n",
       "    <tr>\n",
       "      <th>40</th>\n",
       "      <td>-4.326472</td>\n",
       "      <td>2.961641</td>\n",
       "      <td>0.002360</td>\n",
       "      <td>0.002133</td>\n",
       "      <td>1</td>\n",
       "      <td>0</td>\n",
       "      <td>1</td>\n",
       "    </tr>\n",
       "    <tr>\n",
       "      <th>52</th>\n",
       "      <td>7.047978</td>\n",
       "      <td>-2.799699</td>\n",
       "      <td>1.988701</td>\n",
       "      <td>1.989593</td>\n",
       "      <td>0</td>\n",
       "      <td>1</td>\n",
       "      <td>0</td>\n",
       "    </tr>\n",
       "    <tr>\n",
       "      <th>53</th>\n",
       "      <td>7.174447</td>\n",
       "      <td>-2.904366</td>\n",
       "      <td>1.987049</td>\n",
       "      <td>1.988421</td>\n",
       "      <td>0</td>\n",
       "      <td>1</td>\n",
       "      <td>0</td>\n",
       "    </tr>\n",
       "    <tr>\n",
       "      <th>114</th>\n",
       "      <td>6.323477</td>\n",
       "      <td>-2.008886</td>\n",
       "      <td>1.880848</td>\n",
       "      <td>1.886515</td>\n",
       "      <td>0</td>\n",
       "      <td>1</td>\n",
       "      <td>0</td>\n",
       "    </tr>\n",
       "    <tr>\n",
       "      <th>...</th>\n",
       "      <td>...</td>\n",
       "      <td>...</td>\n",
       "      <td>...</td>\n",
       "      <td>...</td>\n",
       "      <td>...</td>\n",
       "      <td>...</td>\n",
       "      <td>...</td>\n",
       "    </tr>\n",
       "    <tr>\n",
       "      <th>6176</th>\n",
       "      <td>6.916588</td>\n",
       "      <td>-2.358370</td>\n",
       "      <td>1.935052</td>\n",
       "      <td>1.984906</td>\n",
       "      <td>0</td>\n",
       "      <td>1</td>\n",
       "      <td>0</td>\n",
       "    </tr>\n",
       "    <tr>\n",
       "      <th>6188</th>\n",
       "      <td>5.434276</td>\n",
       "      <td>-2.205930</td>\n",
       "      <td>1.795167</td>\n",
       "      <td>1.804801</td>\n",
       "      <td>0</td>\n",
       "      <td>1</td>\n",
       "      <td>0</td>\n",
       "    </tr>\n",
       "    <tr>\n",
       "      <th>6207</th>\n",
       "      <td>7.312033</td>\n",
       "      <td>-3.552069</td>\n",
       "      <td>1.885135</td>\n",
       "      <td>1.940654</td>\n",
       "      <td>0</td>\n",
       "      <td>1</td>\n",
       "      <td>0</td>\n",
       "    </tr>\n",
       "    <tr>\n",
       "      <th>6212</th>\n",
       "      <td>5.902318</td>\n",
       "      <td>-2.111966</td>\n",
       "      <td>1.844290</td>\n",
       "      <td>1.885755</td>\n",
       "      <td>0</td>\n",
       "      <td>1</td>\n",
       "      <td>0</td>\n",
       "    </tr>\n",
       "    <tr>\n",
       "      <th>6246</th>\n",
       "      <td>4.068810</td>\n",
       "      <td>-2.959476</td>\n",
       "      <td>1.347318</td>\n",
       "      <td>1.382702</td>\n",
       "      <td>0</td>\n",
       "      <td>1</td>\n",
       "      <td>0</td>\n",
       "    </tr>\n",
       "  </tbody>\n",
       "</table>\n",
       "<p>310 rows × 7 columns</p>\n",
       "</div>"
      ],
      "text/plain": [
       "      undermine_score  support_score  cp_distance  cop_distance  \\\n",
       "15           6.596234      -6.021047     1.631476      1.681539   \n",
       "40          -4.326472       2.961641     0.002360      0.002133   \n",
       "52           7.047978      -2.799699     1.988701      1.989593   \n",
       "53           7.174447      -2.904366     1.987049      1.988421   \n",
       "114          6.323477      -2.008886     1.880848      1.886515   \n",
       "...               ...            ...          ...           ...   \n",
       "6176         6.916588      -2.358370     1.935052      1.984906   \n",
       "6188         5.434276      -2.205930     1.795167      1.804801   \n",
       "6207         7.312033      -3.552069     1.885135      1.940654   \n",
       "6212         5.902318      -2.111966     1.844290      1.885755   \n",
       "6246         4.068810      -2.959476     1.347318      1.382702   \n",
       "\n",
       "      predict_label  distance_label  gold  \n",
       "15                0               1     0  \n",
       "40                1               0     1  \n",
       "52                0               1     0  \n",
       "53                0               1     0  \n",
       "114               0               1     0  \n",
       "...             ...             ...   ...  \n",
       "6176              0               1     0  \n",
       "6188              0               1     0  \n",
       "6207              0               1     0  \n",
       "6212              0               1     0  \n",
       "6246              0               1     0  \n",
       "\n",
       "[310 rows x 7 columns]"
      ]
     },
     "execution_count": 99,
     "metadata": {},
     "output_type": "execute_result"
    }
   ],
   "source": [
    "df_inconsistency[(abs(df_inconsistency.undermine_score-df_inconsistency.support_score)>7)&(abs(df_inconsistency.cp_distance-df_inconsistency.cop_distance)<0.1)&(df_inconsistency.predict_label==df_inconsistency.gold)]"
   ]
  },
  {
   "cell_type": "code",
   "execution_count": null,
   "metadata": {},
   "outputs": [],
   "source": []
  },
  {
   "cell_type": "code",
   "execution_count": 100,
   "metadata": {},
   "outputs": [
    {
     "data": {
      "text/plain": [
       "undermine_score    1\n",
       "support_score      1\n",
       "cp_distance        1\n",
       "cop_distance       1\n",
       "predict_label      1\n",
       "distance_label     1\n",
       "gold               1\n",
       "dtype: int64"
      ]
     },
     "execution_count": 100,
     "metadata": {},
     "output_type": "execute_result"
    }
   ],
   "source": [
    "df_inconsistency[(abs(df_inconsistency.undermine_score-df_inconsistency.support_score)<3)&(abs(df_inconsistency.cp_distance-df_inconsistency.cop_distance)>0.15)].count()"
   ]
  },
  {
   "cell_type": "code",
   "execution_count": 101,
   "metadata": {},
   "outputs": [
    {
     "data": {
      "text/plain": [
       "undermine_score    0\n",
       "support_score      0\n",
       "cp_distance        0\n",
       "cop_distance       0\n",
       "predict_label      0\n",
       "distance_label     0\n",
       "gold               0\n",
       "dtype: int64"
      ]
     },
     "execution_count": 101,
     "metadata": {},
     "output_type": "execute_result"
    }
   ],
   "source": [
    "df_inconsistency[(abs(df_inconsistency.undermine_score-df_inconsistency.support_score)<3)&(abs(df_inconsistency.cp_distance-df_inconsistency.cop_distance)>0.15)&(df_inconsistency.distance_label==df_inconsistency.gold)].count()"
   ]
  },
  {
   "cell_type": "code",
   "execution_count": null,
   "metadata": {},
   "outputs": [],
   "source": []
  },
  {
   "cell_type": "code",
   "execution_count": 102,
   "metadata": {},
   "outputs": [],
   "source": [
    "#consistent failed cases"
   ]
  },
  {
   "cell_type": "code",
   "execution_count": 103,
   "metadata": {},
   "outputs": [
    {
     "data": {
      "text/html": [
       "<div>\n",
       "<style scoped>\n",
       "    .dataframe tbody tr th:only-of-type {\n",
       "        vertical-align: middle;\n",
       "    }\n",
       "\n",
       "    .dataframe tbody tr th {\n",
       "        vertical-align: top;\n",
       "    }\n",
       "\n",
       "    .dataframe thead th {\n",
       "        text-align: right;\n",
       "    }\n",
       "</style>\n",
       "<table border=\"1\" class=\"dataframe\">\n",
       "  <thead>\n",
       "    <tr style=\"text-align: right;\">\n",
       "      <th></th>\n",
       "      <th>undermine_score</th>\n",
       "      <th>support_score</th>\n",
       "      <th>cp_distance</th>\n",
       "      <th>cop_distance</th>\n",
       "      <th>predict_label</th>\n",
       "      <th>distance_label</th>\n",
       "      <th>gold</th>\n",
       "    </tr>\n",
       "  </thead>\n",
       "  <tbody>\n",
       "  </tbody>\n",
       "</table>\n",
       "</div>"
      ],
      "text/plain": [
       "Empty DataFrame\n",
       "Columns: [undermine_score, support_score, cp_distance, cop_distance, predict_label, distance_label, gold]\n",
       "Index: []"
      ]
     },
     "execution_count": 103,
     "metadata": {},
     "output_type": "execute_result"
    }
   ],
   "source": [
    "df_consistency[df_consistency.predict_label!=df_consistency.gold]"
   ]
  },
  {
   "cell_type": "code",
   "execution_count": 104,
   "metadata": {},
   "outputs": [],
   "source": [
    "df_consistency_failed = df_consistency[df_consistency.predict_label!=df_consistency.gold]"
   ]
  },
  {
   "cell_type": "code",
   "execution_count": 105,
   "metadata": {},
   "outputs": [],
   "source": [
    "cons_out_failed = df_consistency_failed.join(df_origin).drop(\"x\",axis=1).drop(\"y\",axis=1)"
   ]
  },
  {
   "cell_type": "code",
   "execution_count": 106,
   "metadata": {},
   "outputs": [
    {
     "data": {
      "text/html": [
       "<div>\n",
       "<style scoped>\n",
       "    .dataframe tbody tr th:only-of-type {\n",
       "        vertical-align: middle;\n",
       "    }\n",
       "\n",
       "    .dataframe tbody tr th {\n",
       "        vertical-align: top;\n",
       "    }\n",
       "\n",
       "    .dataframe thead th {\n",
       "        text-align: right;\n",
       "    }\n",
       "</style>\n",
       "<table border=\"1\" class=\"dataframe\">\n",
       "  <thead>\n",
       "    <tr style=\"text-align: right;\">\n",
       "      <th></th>\n",
       "      <th>undermine_score</th>\n",
       "      <th>support_score</th>\n",
       "      <th>cp_distance</th>\n",
       "      <th>cop_distance</th>\n",
       "      <th>predict_label</th>\n",
       "      <th>distance_label</th>\n",
       "      <th>gold</th>\n",
       "      <th>Label</th>\n",
       "      <th>claim</th>\n",
       "      <th>perspective</th>\n",
       "      <th>opposite_perspective</th>\n",
       "    </tr>\n",
       "  </thead>\n",
       "  <tbody>\n",
       "  </tbody>\n",
       "</table>\n",
       "</div>"
      ],
      "text/plain": [
       "Empty DataFrame\n",
       "Columns: [undermine_score, support_score, cp_distance, cop_distance, predict_label, distance_label, gold, Label, claim, perspective, opposite_perspective]\n",
       "Index: []"
      ]
     },
     "execution_count": 106,
     "metadata": {},
     "output_type": "execute_result"
    }
   ],
   "source": [
    "cons_out_failed"
   ]
  },
  {
   "cell_type": "code",
   "execution_count": 107,
   "metadata": {},
   "outputs": [],
   "source": [
    "# cons_out_failed.to_csv(\"consistency_failed_data.csv\")"
   ]
  },
  {
   "cell_type": "code",
   "execution_count": 108,
   "metadata": {},
   "outputs": [],
   "source": [
    "# cons_out_failed.to_excel(\"consistency_failed_data.xlsx\")"
   ]
  },
  {
   "cell_type": "code",
   "execution_count": 109,
   "metadata": {},
   "outputs": [
    {
     "data": {
      "text/plain": [
       "nan"
      ]
     },
     "execution_count": 109,
     "metadata": {},
     "output_type": "execute_result"
    }
   ],
   "source": [
    "abs(cons_out_failed.cp_distance-cons_out_failed.cop_distance).median()"
   ]
  },
  {
   "cell_type": "code",
   "execution_count": 110,
   "metadata": {},
   "outputs": [
    {
     "data": {
      "text/plain": [
       "nan"
      ]
     },
     "execution_count": 110,
     "metadata": {},
     "output_type": "execute_result"
    }
   ],
   "source": [
    "abs(cons_out_failed.cp_distance-cons_out_failed.cop_distance).mean()"
   ]
  },
  {
   "cell_type": "code",
   "execution_count": 111,
   "metadata": {},
   "outputs": [
    {
     "data": {
      "text/plain": [
       "nan"
      ]
     },
     "execution_count": 111,
     "metadata": {},
     "output_type": "execute_result"
    }
   ],
   "source": [
    "abs(cons_out_failed.cp_distance-cons_out_failed.cop_distance).max()"
   ]
  },
  {
   "cell_type": "code",
   "execution_count": 112,
   "metadata": {},
   "outputs": [
    {
     "data": {
      "text/plain": [
       "nan"
      ]
     },
     "execution_count": 112,
     "metadata": {},
     "output_type": "execute_result"
    }
   ],
   "source": [
    "abs(cons_out_failed.cp_distance-cons_out_failed.cop_distance).min()"
   ]
  },
  {
   "cell_type": "code",
   "execution_count": null,
   "metadata": {},
   "outputs": [],
   "source": []
  },
  {
   "cell_type": "code",
   "execution_count": 113,
   "metadata": {},
   "outputs": [
    {
     "data": {
      "text/plain": [
       "nan"
      ]
     },
     "execution_count": 113,
     "metadata": {},
     "output_type": "execute_result"
    }
   ],
   "source": [
    "abs(cons_out_failed.undermine_score-cons_out_failed.support_score).median()"
   ]
  },
  {
   "cell_type": "code",
   "execution_count": 114,
   "metadata": {},
   "outputs": [
    {
     "data": {
      "text/plain": [
       "nan"
      ]
     },
     "execution_count": 114,
     "metadata": {},
     "output_type": "execute_result"
    }
   ],
   "source": [
    "abs(cons_out_failed.undermine_score-cons_out_failed.support_score).mean()"
   ]
  },
  {
   "cell_type": "code",
   "execution_count": 115,
   "metadata": {},
   "outputs": [
    {
     "data": {
      "text/plain": [
       "nan"
      ]
     },
     "execution_count": 115,
     "metadata": {},
     "output_type": "execute_result"
    }
   ],
   "source": [
    "abs(cons_out_failed.undermine_score-cons_out_failed.support_score).max()"
   ]
  },
  {
   "cell_type": "code",
   "execution_count": 116,
   "metadata": {},
   "outputs": [
    {
     "data": {
      "text/plain": [
       "nan"
      ]
     },
     "execution_count": 116,
     "metadata": {},
     "output_type": "execute_result"
    }
   ],
   "source": [
    "abs(cons_out_failed.undermine_score-cons_out_failed.support_score).min()"
   ]
  },
  {
   "cell_type": "code",
   "execution_count": null,
   "metadata": {},
   "outputs": [],
   "source": []
  },
  {
   "cell_type": "code",
   "execution_count": null,
   "metadata": {},
   "outputs": [],
   "source": []
  },
  {
   "cell_type": "code",
   "execution_count": 117,
   "metadata": {},
   "outputs": [],
   "source": [
    "df_consistency_correct = df_consistency[df_consistency.predict_label==df_consistency.gold]"
   ]
  },
  {
   "cell_type": "code",
   "execution_count": 118,
   "metadata": {},
   "outputs": [
    {
     "data": {
      "text/plain": [
       "9.988975400000001"
      ]
     },
     "execution_count": 118,
     "metadata": {},
     "output_type": "execute_result"
    }
   ],
   "source": [
    "abs(df_consistency_correct.undermine_score-df_consistency_correct.support_score).median()"
   ]
  },
  {
   "cell_type": "code",
   "execution_count": 119,
   "metadata": {},
   "outputs": [
    {
     "data": {
      "text/plain": [
       "10.963616400590558"
      ]
     },
     "execution_count": 119,
     "metadata": {},
     "output_type": "execute_result"
    }
   ],
   "source": [
    "abs(df_consistency_correct.undermine_score-df_consistency_correct.support_score).mean()"
   ]
  },
  {
   "cell_type": "code",
   "execution_count": 120,
   "metadata": {},
   "outputs": [
    {
     "data": {
      "text/plain": [
       "23.437598"
      ]
     },
     "execution_count": 120,
     "metadata": {},
     "output_type": "execute_result"
    }
   ],
   "source": [
    "abs(df_consistency_correct.undermine_score-df_consistency_correct.support_score).max()"
   ]
  },
  {
   "cell_type": "code",
   "execution_count": 121,
   "metadata": {},
   "outputs": [
    {
     "data": {
      "text/plain": [
       "1.0602871600000001"
      ]
     },
     "execution_count": 121,
     "metadata": {},
     "output_type": "execute_result"
    }
   ],
   "source": [
    "abs(df_consistency_correct.undermine_score-df_consistency_correct.support_score).min()"
   ]
  },
  {
   "cell_type": "code",
   "execution_count": null,
   "metadata": {},
   "outputs": [],
   "source": []
  },
  {
   "cell_type": "code",
   "execution_count": 122,
   "metadata": {},
   "outputs": [
    {
     "data": {
      "text/plain": [
       "1.6510171687"
      ]
     },
     "execution_count": 122,
     "metadata": {},
     "output_type": "execute_result"
    }
   ],
   "source": [
    "abs(df_consistency_correct.cp_distance-df_consistency_correct.cop_distance).median()"
   ]
  },
  {
   "cell_type": "code",
   "execution_count": 123,
   "metadata": {},
   "outputs": [
    {
     "data": {
      "text/plain": [
       "1.2958445892189665"
      ]
     },
     "execution_count": 123,
     "metadata": {},
     "output_type": "execute_result"
    }
   ],
   "source": [
    "abs(df_consistency_correct.cp_distance-df_consistency_correct.cop_distance).mean()"
   ]
  },
  {
   "cell_type": "code",
   "execution_count": 124,
   "metadata": {},
   "outputs": [
    {
     "data": {
      "text/plain": [
       "1.9921689441000001"
      ]
     },
     "execution_count": 124,
     "metadata": {},
     "output_type": "execute_result"
    }
   ],
   "source": [
    "abs(df_consistency_correct.cp_distance-df_consistency_correct.cop_distance).max()"
   ]
  },
  {
   "cell_type": "code",
   "execution_count": 125,
   "metadata": {},
   "outputs": [
    {
     "data": {
      "text/plain": [
       "5.543300000000317e-06"
      ]
     },
     "execution_count": 125,
     "metadata": {},
     "output_type": "execute_result"
    }
   ],
   "source": [
    "abs(df_consistency_correct.cp_distance-df_consistency_correct.cop_distance).min()"
   ]
  },
  {
   "cell_type": "code",
   "execution_count": null,
   "metadata": {},
   "outputs": [],
   "source": []
  },
  {
   "cell_type": "code",
   "execution_count": 126,
   "metadata": {},
   "outputs": [],
   "source": [
    "#consistent cases"
   ]
  },
  {
   "cell_type": "code",
   "execution_count": 127,
   "metadata": {},
   "outputs": [
    {
     "data": {
      "text/html": [
       "<div>\n",
       "<style scoped>\n",
       "    .dataframe tbody tr th:only-of-type {\n",
       "        vertical-align: middle;\n",
       "    }\n",
       "\n",
       "    .dataframe tbody tr th {\n",
       "        vertical-align: top;\n",
       "    }\n",
       "\n",
       "    .dataframe thead th {\n",
       "        text-align: right;\n",
       "    }\n",
       "</style>\n",
       "<table border=\"1\" class=\"dataframe\">\n",
       "  <thead>\n",
       "    <tr style=\"text-align: right;\">\n",
       "      <th></th>\n",
       "      <th>undermine_score</th>\n",
       "      <th>support_score</th>\n",
       "      <th>cp_distance</th>\n",
       "      <th>cop_distance</th>\n",
       "      <th>predict_label</th>\n",
       "      <th>distance_label</th>\n",
       "      <th>gold</th>\n",
       "    </tr>\n",
       "  </thead>\n",
       "  <tbody>\n",
       "    <tr>\n",
       "      <th>0</th>\n",
       "      <td>6.570068</td>\n",
       "      <td>-5.162881</td>\n",
       "      <td>1.871948</td>\n",
       "      <td>0.072585</td>\n",
       "      <td>0</td>\n",
       "      <td>0</td>\n",
       "      <td>0</td>\n",
       "    </tr>\n",
       "    <tr>\n",
       "      <th>1</th>\n",
       "      <td>7.038213</td>\n",
       "      <td>-5.479890</td>\n",
       "      <td>1.892146</td>\n",
       "      <td>0.094106</td>\n",
       "      <td>0</td>\n",
       "      <td>0</td>\n",
       "      <td>0</td>\n",
       "    </tr>\n",
       "    <tr>\n",
       "      <th>2</th>\n",
       "      <td>-4.758564</td>\n",
       "      <td>4.019589</td>\n",
       "      <td>0.002869</td>\n",
       "      <td>0.007389</td>\n",
       "      <td>1</td>\n",
       "      <td>1</td>\n",
       "      <td>1</td>\n",
       "    </tr>\n",
       "    <tr>\n",
       "      <th>4</th>\n",
       "      <td>-4.402532</td>\n",
       "      <td>3.949514</td>\n",
       "      <td>0.005121</td>\n",
       "      <td>0.887486</td>\n",
       "      <td>1</td>\n",
       "      <td>1</td>\n",
       "      <td>1</td>\n",
       "    </tr>\n",
       "    <tr>\n",
       "      <th>5</th>\n",
       "      <td>5.949302</td>\n",
       "      <td>-6.822432</td>\n",
       "      <td>1.937907</td>\n",
       "      <td>0.014158</td>\n",
       "      <td>0</td>\n",
       "      <td>0</td>\n",
       "      <td>0</td>\n",
       "    </tr>\n",
       "    <tr>\n",
       "      <th>...</th>\n",
       "      <td>...</td>\n",
       "      <td>...</td>\n",
       "      <td>...</td>\n",
       "      <td>...</td>\n",
       "      <td>...</td>\n",
       "      <td>...</td>\n",
       "      <td>...</td>\n",
       "    </tr>\n",
       "    <tr>\n",
       "      <th>6265</th>\n",
       "      <td>6.472634</td>\n",
       "      <td>-3.488140</td>\n",
       "      <td>1.985474</td>\n",
       "      <td>1.345437</td>\n",
       "      <td>0</td>\n",
       "      <td>0</td>\n",
       "      <td>0</td>\n",
       "    </tr>\n",
       "    <tr>\n",
       "      <th>6266</th>\n",
       "      <td>5.334882</td>\n",
       "      <td>-5.611214</td>\n",
       "      <td>1.971242</td>\n",
       "      <td>0.216501</td>\n",
       "      <td>0</td>\n",
       "      <td>0</td>\n",
       "      <td>0</td>\n",
       "    </tr>\n",
       "    <tr>\n",
       "      <th>6267</th>\n",
       "      <td>5.198120</td>\n",
       "      <td>-4.836023</td>\n",
       "      <td>1.971259</td>\n",
       "      <td>0.216393</td>\n",
       "      <td>0</td>\n",
       "      <td>0</td>\n",
       "      <td>0</td>\n",
       "    </tr>\n",
       "    <tr>\n",
       "      <th>6268</th>\n",
       "      <td>5.662388</td>\n",
       "      <td>-4.044949</td>\n",
       "      <td>1.881880</td>\n",
       "      <td>0.962322</td>\n",
       "      <td>0</td>\n",
       "      <td>0</td>\n",
       "      <td>0</td>\n",
       "    </tr>\n",
       "    <tr>\n",
       "      <th>6269</th>\n",
       "      <td>5.912449</td>\n",
       "      <td>-5.164750</td>\n",
       "      <td>1.987603</td>\n",
       "      <td>0.156738</td>\n",
       "      <td>0</td>\n",
       "      <td>0</td>\n",
       "      <td>0</td>\n",
       "    </tr>\n",
       "  </tbody>\n",
       "</table>\n",
       "<p>5825 rows × 7 columns</p>\n",
       "</div>"
      ],
      "text/plain": [
       "      undermine_score  support_score  cp_distance  cop_distance  \\\n",
       "0            6.570068      -5.162881     1.871948      0.072585   \n",
       "1            7.038213      -5.479890     1.892146      0.094106   \n",
       "2           -4.758564       4.019589     0.002869      0.007389   \n",
       "4           -4.402532       3.949514     0.005121      0.887486   \n",
       "5            5.949302      -6.822432     1.937907      0.014158   \n",
       "...               ...            ...          ...           ...   \n",
       "6265         6.472634      -3.488140     1.985474      1.345437   \n",
       "6266         5.334882      -5.611214     1.971242      0.216501   \n",
       "6267         5.198120      -4.836023     1.971259      0.216393   \n",
       "6268         5.662388      -4.044949     1.881880      0.962322   \n",
       "6269         5.912449      -5.164750     1.987603      0.156738   \n",
       "\n",
       "      predict_label  distance_label  gold  \n",
       "0                 0               0     0  \n",
       "1                 0               0     0  \n",
       "2                 1               1     1  \n",
       "4                 1               1     1  \n",
       "5                 0               0     0  \n",
       "...             ...             ...   ...  \n",
       "6265              0               0     0  \n",
       "6266              0               0     0  \n",
       "6267              0               0     0  \n",
       "6268              0               0     0  \n",
       "6269              0               0     0  \n",
       "\n",
       "[5825 rows x 7 columns]"
      ]
     },
     "execution_count": 127,
     "metadata": {},
     "output_type": "execute_result"
    }
   ],
   "source": [
    "df_consistency"
   ]
  },
  {
   "cell_type": "code",
   "execution_count": 128,
   "metadata": {},
   "outputs": [],
   "source": [
    "# df_consistency.to_csv(\"consistency_data.csv\",index=False)"
   ]
  },
  {
   "cell_type": "code",
   "execution_count": 129,
   "metadata": {},
   "outputs": [],
   "source": [
    "# df_consistency.to_excel(\"consistency_data.xlsx\",index=False)"
   ]
  },
  {
   "cell_type": "code",
   "execution_count": null,
   "metadata": {},
   "outputs": [],
   "source": []
  },
  {
   "cell_type": "code",
   "execution_count": 130,
   "metadata": {},
   "outputs": [],
   "source": [
    "#consistent cases analysis"
   ]
  },
  {
   "cell_type": "code",
   "execution_count": 130,
   "metadata": {},
   "outputs": [
    {
     "data": {
      "text/plain": [
       "9.988975400000001"
      ]
     },
     "execution_count": 130,
     "metadata": {},
     "output_type": "execute_result"
    }
   ],
   "source": [
    "abs(df_consistency.undermine_score-df_consistency.support_score).median()"
   ]
  },
  {
   "cell_type": "code",
   "execution_count": 131,
   "metadata": {},
   "outputs": [
    {
     "data": {
      "text/plain": [
       "10.963616400590558"
      ]
     },
     "execution_count": 131,
     "metadata": {},
     "output_type": "execute_result"
    }
   ],
   "source": [
    "abs(df_consistency.undermine_score-df_consistency.support_score).mean()"
   ]
  },
  {
   "cell_type": "code",
   "execution_count": 132,
   "metadata": {},
   "outputs": [
    {
     "data": {
      "text/plain": [
       "23.437598"
      ]
     },
     "execution_count": 132,
     "metadata": {},
     "output_type": "execute_result"
    }
   ],
   "source": [
    "abs(df_consistency.undermine_score-df_consistency.support_score).max()"
   ]
  },
  {
   "cell_type": "code",
   "execution_count": 133,
   "metadata": {},
   "outputs": [
    {
     "data": {
      "text/plain": [
       "1.0602871600000001"
      ]
     },
     "execution_count": 133,
     "metadata": {},
     "output_type": "execute_result"
    }
   ],
   "source": [
    "abs(df_consistency.undermine_score-df_consistency.support_score).min()"
   ]
  },
  {
   "cell_type": "code",
   "execution_count": null,
   "metadata": {},
   "outputs": [],
   "source": []
  },
  {
   "cell_type": "code",
   "execution_count": 134,
   "metadata": {},
   "outputs": [
    {
     "data": {
      "text/plain": [
       "1.6510171687"
      ]
     },
     "execution_count": 134,
     "metadata": {},
     "output_type": "execute_result"
    }
   ],
   "source": [
    "abs(df_consistency.cp_distance-df_consistency.cop_distance).median()"
   ]
  },
  {
   "cell_type": "code",
   "execution_count": 135,
   "metadata": {},
   "outputs": [
    {
     "data": {
      "text/plain": [
       "1.2958445892189665"
      ]
     },
     "execution_count": 135,
     "metadata": {},
     "output_type": "execute_result"
    }
   ],
   "source": [
    "abs(df_consistency.cp_distance-df_consistency.cop_distance).mean()"
   ]
  },
  {
   "cell_type": "code",
   "execution_count": 136,
   "metadata": {},
   "outputs": [
    {
     "data": {
      "text/plain": [
       "1.9921689441000001"
      ]
     },
     "execution_count": 136,
     "metadata": {},
     "output_type": "execute_result"
    }
   ],
   "source": [
    "abs(df_consistency.cp_distance-df_consistency.cop_distance).max()"
   ]
  },
  {
   "cell_type": "code",
   "execution_count": 137,
   "metadata": {},
   "outputs": [
    {
     "data": {
      "text/plain": [
       "5.543300000000317e-06"
      ]
     },
     "execution_count": 137,
     "metadata": {},
     "output_type": "execute_result"
    }
   ],
   "source": [
    "abs(df_consistency.cp_distance-df_consistency.cop_distance).min()"
   ]
  },
  {
   "cell_type": "code",
   "execution_count": null,
   "metadata": {},
   "outputs": [],
   "source": []
  },
  {
   "cell_type": "code",
   "execution_count": 138,
   "metadata": {},
   "outputs": [],
   "source": [
    "#inconsistent cases analysis"
   ]
  },
  {
   "cell_type": "code",
   "execution_count": 139,
   "metadata": {},
   "outputs": [
    {
     "data": {
      "text/plain": [
       "8.7446527"
      ]
     },
     "execution_count": 139,
     "metadata": {},
     "output_type": "execute_result"
    }
   ],
   "source": [
    "abs(df_inconsistency.undermine_score-df_inconsistency.support_score).median()"
   ]
  },
  {
   "cell_type": "code",
   "execution_count": 140,
   "metadata": {},
   "outputs": [
    {
     "data": {
      "text/plain": [
       "9.144079554561797"
      ]
     },
     "execution_count": 140,
     "metadata": {},
     "output_type": "execute_result"
    }
   ],
   "source": [
    "abs(df_inconsistency.undermine_score-df_inconsistency.support_score).mean()"
   ]
  },
  {
   "cell_type": "code",
   "execution_count": 141,
   "metadata": {},
   "outputs": [
    {
     "data": {
      "text/plain": [
       "18.485424000000002"
      ]
     },
     "execution_count": 141,
     "metadata": {},
     "output_type": "execute_result"
    }
   ],
   "source": [
    "abs(df_inconsistency.undermine_score-df_inconsistency.support_score).max()"
   ]
  },
  {
   "cell_type": "code",
   "execution_count": 142,
   "metadata": {},
   "outputs": [
    {
     "data": {
      "text/plain": [
       "9.144079554561797"
      ]
     },
     "execution_count": 142,
     "metadata": {},
     "output_type": "execute_result"
    }
   ],
   "source": [
    "abs(df_inconsistency.undermine_score-df_inconsistency.support_score).mean()"
   ]
  },
  {
   "cell_type": "code",
   "execution_count": null,
   "metadata": {},
   "outputs": [],
   "source": []
  },
  {
   "cell_type": "code",
   "execution_count": 143,
   "metadata": {},
   "outputs": [
    {
     "data": {
      "text/plain": [
       "0.022386968"
      ]
     },
     "execution_count": 143,
     "metadata": {},
     "output_type": "execute_result"
    }
   ],
   "source": [
    "abs(df_inconsistency.cp_distance-df_inconsistency.cop_distance).median()"
   ]
  },
  {
   "cell_type": "code",
   "execution_count": 144,
   "metadata": {},
   "outputs": [
    {
     "data": {
      "text/plain": [
       "0.09721777781930338"
      ]
     },
     "execution_count": 144,
     "metadata": {},
     "output_type": "execute_result"
    }
   ],
   "source": [
    "abs(df_inconsistency.cp_distance-df_inconsistency.cop_distance).mean()"
   ]
  },
  {
   "cell_type": "code",
   "execution_count": 145,
   "metadata": {},
   "outputs": [
    {
     "data": {
      "text/plain": [
       "0.9277638000000001"
      ]
     },
     "execution_count": 145,
     "metadata": {},
     "output_type": "execute_result"
    }
   ],
   "source": [
    "abs(df_inconsistency.cp_distance-df_inconsistency.cop_distance).max()"
   ]
  },
  {
   "cell_type": "code",
   "execution_count": 146,
   "metadata": {},
   "outputs": [
    {
     "data": {
      "text/plain": [
       "5.364400000000026e-06"
      ]
     },
     "execution_count": 146,
     "metadata": {},
     "output_type": "execute_result"
    }
   ],
   "source": [
    "abs(df_inconsistency.cp_distance-df_inconsistency.cop_distance).min()"
   ]
  },
  {
   "cell_type": "code",
   "execution_count": null,
   "metadata": {},
   "outputs": [],
   "source": []
  },
  {
   "cell_type": "code",
   "execution_count": 148,
   "metadata": {},
   "outputs": [],
   "source": [
    "# Use the \"distance to median\" to decide final prediction"
   ]
  },
  {
   "cell_type": "code",
   "execution_count": 149,
   "metadata": {
    "scrolled": true
   },
   "outputs": [
    {
     "data": {
      "text/html": [
       "<div>\n",
       "<style scoped>\n",
       "    .dataframe tbody tr th:only-of-type {\n",
       "        vertical-align: middle;\n",
       "    }\n",
       "\n",
       "    .dataframe tbody tr th {\n",
       "        vertical-align: top;\n",
       "    }\n",
       "\n",
       "    .dataframe thead th {\n",
       "        text-align: right;\n",
       "    }\n",
       "</style>\n",
       "<table border=\"1\" class=\"dataframe\">\n",
       "  <thead>\n",
       "    <tr style=\"text-align: right;\">\n",
       "      <th></th>\n",
       "      <th>undermine_score</th>\n",
       "      <th>support_score</th>\n",
       "      <th>cp_distance</th>\n",
       "      <th>cop_distance</th>\n",
       "      <th>predict_label</th>\n",
       "      <th>distance_label</th>\n",
       "      <th>gold</th>\n",
       "    </tr>\n",
       "  </thead>\n",
       "  <tbody>\n",
       "    <tr>\n",
       "      <th>0</th>\n",
       "      <td>-4.223587</td>\n",
       "      <td>3.430138</td>\n",
       "      <td>0.020014</td>\n",
       "      <td>0.012879</td>\n",
       "      <td>1</td>\n",
       "      <td>0</td>\n",
       "      <td>1</td>\n",
       "    </tr>\n",
       "    <tr>\n",
       "      <th>3</th>\n",
       "      <td>-1.659985</td>\n",
       "      <td>2.563246</td>\n",
       "      <td>0.277413</td>\n",
       "      <td>0.157976</td>\n",
       "      <td>1</td>\n",
       "      <td>0</td>\n",
       "      <td>1</td>\n",
       "    </tr>\n",
       "    <tr>\n",
       "      <th>59</th>\n",
       "      <td>6.975863</td>\n",
       "      <td>-2.372392</td>\n",
       "      <td>1.920776</td>\n",
       "      <td>1.928768</td>\n",
       "      <td>0</td>\n",
       "      <td>1</td>\n",
       "      <td>1</td>\n",
       "    </tr>\n",
       "    <tr>\n",
       "      <th>73</th>\n",
       "      <td>1.812300</td>\n",
       "      <td>-0.927047</td>\n",
       "      <td>1.096693</td>\n",
       "      <td>1.661179</td>\n",
       "      <td>0</td>\n",
       "      <td>1</td>\n",
       "      <td>1</td>\n",
       "    </tr>\n",
       "    <tr>\n",
       "      <th>78</th>\n",
       "      <td>2.363664</td>\n",
       "      <td>-1.478531</td>\n",
       "      <td>1.179334</td>\n",
       "      <td>1.422178</td>\n",
       "      <td>0</td>\n",
       "      <td>1</td>\n",
       "      <td>1</td>\n",
       "    </tr>\n",
       "    <tr>\n",
       "      <th>...</th>\n",
       "      <td>...</td>\n",
       "      <td>...</td>\n",
       "      <td>...</td>\n",
       "      <td>...</td>\n",
       "      <td>...</td>\n",
       "      <td>...</td>\n",
       "      <td>...</td>\n",
       "    </tr>\n",
       "    <tr>\n",
       "      <th>2480</th>\n",
       "      <td>-3.776413</td>\n",
       "      <td>2.909049</td>\n",
       "      <td>0.075312</td>\n",
       "      <td>0.017392</td>\n",
       "      <td>1</td>\n",
       "      <td>0</td>\n",
       "      <td>0</td>\n",
       "    </tr>\n",
       "    <tr>\n",
       "      <th>2503</th>\n",
       "      <td>0.627612</td>\n",
       "      <td>-0.557652</td>\n",
       "      <td>0.694943</td>\n",
       "      <td>1.455035</td>\n",
       "      <td>0</td>\n",
       "      <td>1</td>\n",
       "      <td>0</td>\n",
       "    </tr>\n",
       "    <tr>\n",
       "      <th>2506</th>\n",
       "      <td>2.762536</td>\n",
       "      <td>-1.856774</td>\n",
       "      <td>0.735328</td>\n",
       "      <td>0.786035</td>\n",
       "      <td>0</td>\n",
       "      <td>1</td>\n",
       "      <td>0</td>\n",
       "    </tr>\n",
       "    <tr>\n",
       "      <th>2513</th>\n",
       "      <td>0.033896</td>\n",
       "      <td>-0.449516</td>\n",
       "      <td>0.755636</td>\n",
       "      <td>1.142089</td>\n",
       "      <td>0</td>\n",
       "      <td>1</td>\n",
       "      <td>1</td>\n",
       "    </tr>\n",
       "    <tr>\n",
       "      <th>2521</th>\n",
       "      <td>3.317570</td>\n",
       "      <td>-3.755074</td>\n",
       "      <td>1.281456</td>\n",
       "      <td>1.372968</td>\n",
       "      <td>0</td>\n",
       "      <td>1</td>\n",
       "      <td>0</td>\n",
       "    </tr>\n",
       "  </tbody>\n",
       "</table>\n",
       "<p>338 rows × 7 columns</p>\n",
       "</div>"
      ],
      "text/plain": [
       "      undermine_score  support_score  cp_distance  cop_distance  \\\n",
       "0           -4.223587       3.430138     0.020014      0.012879   \n",
       "3           -1.659985       2.563246     0.277413      0.157976   \n",
       "59           6.975863      -2.372392     1.920776      1.928768   \n",
       "73           1.812300      -0.927047     1.096693      1.661179   \n",
       "78           2.363664      -1.478531     1.179334      1.422178   \n",
       "...               ...            ...          ...           ...   \n",
       "2480        -3.776413       2.909049     0.075312      0.017392   \n",
       "2503         0.627612      -0.557652     0.694943      1.455035   \n",
       "2506         2.762536      -1.856774     0.735328      0.786035   \n",
       "2513         0.033896      -0.449516     0.755636      1.142089   \n",
       "2521         3.317570      -3.755074     1.281456      1.372968   \n",
       "\n",
       "      predict_label  distance_label  gold  \n",
       "0                 1               0     1  \n",
       "3                 1               0     1  \n",
       "59                0               1     1  \n",
       "73                0               1     1  \n",
       "78                0               1     1  \n",
       "...             ...             ...   ...  \n",
       "2480              1               0     0  \n",
       "2503              0               1     0  \n",
       "2506              0               1     0  \n",
       "2513              0               1     1  \n",
       "2521              0               1     0  \n",
       "\n",
       "[338 rows x 7 columns]"
      ]
     },
     "execution_count": 149,
     "metadata": {},
     "output_type": "execute_result"
    }
   ],
   "source": [
    "df_inconsistency"
   ]
  },
  {
   "cell_type": "code",
   "execution_count": 150,
   "metadata": {},
   "outputs": [],
   "source": [
    "dwrong_lcorrect_logits_median = abs(dwrong_lcorrect_out.undermine_score-dwrong_lcorrect_out.support_score).median()\n",
    "dwrong_lcorrect_logits_mean = abs(dwrong_lcorrect_out.undermine_score-dwrong_lcorrect_out.support_score).mean()"
   ]
  },
  {
   "cell_type": "code",
   "execution_count": 151,
   "metadata": {},
   "outputs": [],
   "source": [
    "# dcorrect_lwrong_logits_median = abs(dcorrect_lwrong_out.undermine_score-dcorrect_lwrong_out.support_score).median()"
   ]
  },
  {
   "cell_type": "code",
   "execution_count": null,
   "metadata": {},
   "outputs": [],
   "source": []
  },
  {
   "cell_type": "code",
   "execution_count": 152,
   "metadata": {},
   "outputs": [],
   "source": [
    "# dwrong_lcorrect_distance_median = abs(dwrong_lcorrect_out.cp_distance-dwrong_lcorrect_out.cop_distance).median()"
   ]
  },
  {
   "cell_type": "code",
   "execution_count": 153,
   "metadata": {},
   "outputs": [],
   "source": [
    "dcorrect_lwrong_distance_median = abs(dcorrect_lwrong_out.cp_distance-dcorrect_lwrong_out.cop_distance).median()\n",
    "dcorrect_lwrong_distance_mean = abs(dcorrect_lwrong_out.cp_distance-dcorrect_lwrong_out.cop_distance).mean()"
   ]
  },
  {
   "cell_type": "code",
   "execution_count": null,
   "metadata": {},
   "outputs": [],
   "source": []
  },
  {
   "cell_type": "code",
   "execution_count": 154,
   "metadata": {},
   "outputs": [],
   "source": [
    "distance_to_logits_median = abs(abs(df_inconsistency.undermine_score-df_inconsistency.support_score)-dwrong_lcorrect_logits_median)\n",
    "distance_to_logits_mean = abs(abs(df_inconsistency.undermine_score-df_inconsistency.support_score)-dwrong_lcorrect_logits_mean)"
   ]
  },
  {
   "cell_type": "code",
   "execution_count": 155,
   "metadata": {},
   "outputs": [],
   "source": [
    "# df_inconsistency[\"distance_to_logtis\"] = (distance_to_logits_median-distance_to_logits_median.min())/(distance_to_logits_median.max()-distance_to_logits_median.min())"
   ]
  },
  {
   "cell_type": "code",
   "execution_count": 156,
   "metadata": {},
   "outputs": [
    {
     "name": "stderr",
     "output_type": "stream",
     "text": [
      "C:\\Users\\arsen\\AppData\\Roaming\\Python\\Python37\\site-packages\\ipykernel_launcher.py:1: SettingWithCopyWarning: \n",
      "A value is trying to be set on a copy of a slice from a DataFrame.\n",
      "Try using .loc[row_indexer,col_indexer] = value instead\n",
      "\n",
      "See the caveats in the documentation: https://pandas.pydata.org/pandas-docs/stable/user_guide/indexing.html#returning-a-view-versus-a-copy\n",
      "  \"\"\"Entry point for launching an IPython kernel.\n"
     ]
    }
   ],
   "source": [
    "df_inconsistency[\"distance_to_logtis\"] = (distance_to_logits_mean-distance_to_logits_mean.min())/(distance_to_logits_mean.max()-distance_to_logits_mean.min())"
   ]
  },
  {
   "cell_type": "code",
   "execution_count": null,
   "metadata": {},
   "outputs": [],
   "source": []
  },
  {
   "cell_type": "code",
   "execution_count": 157,
   "metadata": {},
   "outputs": [],
   "source": [
    "distance_to_distance_median = abs(abs(df_inconsistency.cp_distance-df_inconsistency.cop_distance)-dcorrect_lwrong_distance_median)\n",
    "distance_to_distance_mean = abs(abs(df_inconsistency.cp_distance-df_inconsistency.cop_distance)-dcorrect_lwrong_distance_mean)"
   ]
  },
  {
   "cell_type": "code",
   "execution_count": 158,
   "metadata": {},
   "outputs": [],
   "source": [
    "# df_inconsistency[\"distance_to_distance\"] = (distance_to_distance_median-distance_to_distance_median.min())/(distance_to_distance_median.max()-distance_to_distance_median.min())"
   ]
  },
  {
   "cell_type": "code",
   "execution_count": 159,
   "metadata": {},
   "outputs": [
    {
     "name": "stderr",
     "output_type": "stream",
     "text": [
      "C:\\Users\\arsen\\AppData\\Roaming\\Python\\Python37\\site-packages\\ipykernel_launcher.py:1: SettingWithCopyWarning: \n",
      "A value is trying to be set on a copy of a slice from a DataFrame.\n",
      "Try using .loc[row_indexer,col_indexer] = value instead\n",
      "\n",
      "See the caveats in the documentation: https://pandas.pydata.org/pandas-docs/stable/user_guide/indexing.html#returning-a-view-versus-a-copy\n",
      "  \"\"\"Entry point for launching an IPython kernel.\n"
     ]
    }
   ],
   "source": [
    "df_inconsistency[\"distance_to_distance\"] = (distance_to_distance_mean-distance_to_distance_mean.min())/(distance_to_distance_mean.max()-distance_to_distance_mean.min())"
   ]
  },
  {
   "cell_type": "code",
   "execution_count": 160,
   "metadata": {},
   "outputs": [
    {
     "data": {
      "text/html": [
       "<div>\n",
       "<style scoped>\n",
       "    .dataframe tbody tr th:only-of-type {\n",
       "        vertical-align: middle;\n",
       "    }\n",
       "\n",
       "    .dataframe tbody tr th {\n",
       "        vertical-align: top;\n",
       "    }\n",
       "\n",
       "    .dataframe thead th {\n",
       "        text-align: right;\n",
       "    }\n",
       "</style>\n",
       "<table border=\"1\" class=\"dataframe\">\n",
       "  <thead>\n",
       "    <tr style=\"text-align: right;\">\n",
       "      <th></th>\n",
       "      <th>undermine_score</th>\n",
       "      <th>support_score</th>\n",
       "      <th>cp_distance</th>\n",
       "      <th>cop_distance</th>\n",
       "      <th>predict_label</th>\n",
       "      <th>distance_label</th>\n",
       "      <th>gold</th>\n",
       "      <th>distance_to_logtis</th>\n",
       "      <th>distance_to_distance</th>\n",
       "    </tr>\n",
       "  </thead>\n",
       "  <tbody>\n",
       "    <tr>\n",
       "      <th>0</th>\n",
       "      <td>-4.223587</td>\n",
       "      <td>3.430138</td>\n",
       "      <td>0.020014</td>\n",
       "      <td>0.012879</td>\n",
       "      <td>1</td>\n",
       "      <td>0</td>\n",
       "      <td>1</td>\n",
       "      <td>0.108529</td>\n",
       "      <td>0.284723</td>\n",
       "    </tr>\n",
       "    <tr>\n",
       "      <th>3</th>\n",
       "      <td>-1.659985</td>\n",
       "      <td>2.563246</td>\n",
       "      <td>0.277413</td>\n",
       "      <td>0.157976</td>\n",
       "      <td>1</td>\n",
       "      <td>0</td>\n",
       "      <td>1</td>\n",
       "      <td>0.167804</td>\n",
       "      <td>0.151542</td>\n",
       "    </tr>\n",
       "    <tr>\n",
       "      <th>59</th>\n",
       "      <td>6.975863</td>\n",
       "      <td>-2.372392</td>\n",
       "      <td>1.920776</td>\n",
       "      <td>1.928768</td>\n",
       "      <td>0</td>\n",
       "      <td>1</td>\n",
       "      <td>1</td>\n",
       "      <td>0.245105</td>\n",
       "      <td>0.283707</td>\n",
       "    </tr>\n",
       "    <tr>\n",
       "      <th>73</th>\n",
       "      <td>1.812300</td>\n",
       "      <td>-0.927047</td>\n",
       "      <td>1.096693</td>\n",
       "      <td>1.661179</td>\n",
       "      <td>0</td>\n",
       "      <td>1</td>\n",
       "      <td>1</td>\n",
       "      <td>0.287402</td>\n",
       "      <td>0.376012</td>\n",
       "    </tr>\n",
       "    <tr>\n",
       "      <th>78</th>\n",
       "      <td>2.363664</td>\n",
       "      <td>-1.478531</td>\n",
       "      <td>1.179334</td>\n",
       "      <td>1.422178</td>\n",
       "      <td>0</td>\n",
       "      <td>1</td>\n",
       "      <td>1</td>\n",
       "      <td>0.198515</td>\n",
       "      <td>0.005190</td>\n",
       "    </tr>\n",
       "    <tr>\n",
       "      <th>...</th>\n",
       "      <td>...</td>\n",
       "      <td>...</td>\n",
       "      <td>...</td>\n",
       "      <td>...</td>\n",
       "      <td>...</td>\n",
       "      <td>...</td>\n",
       "      <td>...</td>\n",
       "      <td>...</td>\n",
       "      <td>...</td>\n",
       "    </tr>\n",
       "    <tr>\n",
       "      <th>2480</th>\n",
       "      <td>-3.776413</td>\n",
       "      <td>2.909049</td>\n",
       "      <td>0.075312</td>\n",
       "      <td>0.017392</td>\n",
       "      <td>1</td>\n",
       "      <td>0</td>\n",
       "      <td>0</td>\n",
       "      <td>0.030489</td>\n",
       "      <td>0.224496</td>\n",
       "    </tr>\n",
       "    <tr>\n",
       "      <th>2503</th>\n",
       "      <td>0.627612</td>\n",
       "      <td>-0.557652</td>\n",
       "      <td>0.694943</td>\n",
       "      <td>1.455035</td>\n",
       "      <td>0</td>\n",
       "      <td>1</td>\n",
       "      <td>0</td>\n",
       "      <td>0.412658</td>\n",
       "      <td>0.607985</td>\n",
       "    </tr>\n",
       "    <tr>\n",
       "      <th>2506</th>\n",
       "      <td>2.762536</td>\n",
       "      <td>-1.856774</td>\n",
       "      <td>0.735328</td>\n",
       "      <td>0.786035</td>\n",
       "      <td>0</td>\n",
       "      <td>1</td>\n",
       "      <td>0</td>\n",
       "      <td>0.135881</td>\n",
       "      <td>0.233051</td>\n",
       "    </tr>\n",
       "    <tr>\n",
       "      <th>2513</th>\n",
       "      <td>0.033896</td>\n",
       "      <td>-0.449516</td>\n",
       "      <td>0.755636</td>\n",
       "      <td>1.142089</td>\n",
       "      <td>0</td>\n",
       "      <td>1</td>\n",
       "      <td>1</td>\n",
       "      <td>0.469226</td>\n",
       "      <td>0.164878</td>\n",
       "    </tr>\n",
       "    <tr>\n",
       "      <th>2521</th>\n",
       "      <td>3.317570</td>\n",
       "      <td>-3.755074</td>\n",
       "      <td>1.281456</td>\n",
       "      <td>1.372968</td>\n",
       "      <td>0</td>\n",
       "      <td>1</td>\n",
       "      <td>0</td>\n",
       "      <td>0.061695</td>\n",
       "      <td>0.184659</td>\n",
       "    </tr>\n",
       "  </tbody>\n",
       "</table>\n",
       "<p>338 rows × 9 columns</p>\n",
       "</div>"
      ],
      "text/plain": [
       "      undermine_score  support_score  cp_distance  cop_distance  \\\n",
       "0           -4.223587       3.430138     0.020014      0.012879   \n",
       "3           -1.659985       2.563246     0.277413      0.157976   \n",
       "59           6.975863      -2.372392     1.920776      1.928768   \n",
       "73           1.812300      -0.927047     1.096693      1.661179   \n",
       "78           2.363664      -1.478531     1.179334      1.422178   \n",
       "...               ...            ...          ...           ...   \n",
       "2480        -3.776413       2.909049     0.075312      0.017392   \n",
       "2503         0.627612      -0.557652     0.694943      1.455035   \n",
       "2506         2.762536      -1.856774     0.735328      0.786035   \n",
       "2513         0.033896      -0.449516     0.755636      1.142089   \n",
       "2521         3.317570      -3.755074     1.281456      1.372968   \n",
       "\n",
       "      predict_label  distance_label  gold  distance_to_logtis  \\\n",
       "0                 1               0     1            0.108529   \n",
       "3                 1               0     1            0.167804   \n",
       "59                0               1     1            0.245105   \n",
       "73                0               1     1            0.287402   \n",
       "78                0               1     1            0.198515   \n",
       "...             ...             ...   ...                 ...   \n",
       "2480              1               0     0            0.030489   \n",
       "2503              0               1     0            0.412658   \n",
       "2506              0               1     0            0.135881   \n",
       "2513              0               1     1            0.469226   \n",
       "2521              0               1     0            0.061695   \n",
       "\n",
       "      distance_to_distance  \n",
       "0                 0.284723  \n",
       "3                 0.151542  \n",
       "59                0.283707  \n",
       "73                0.376012  \n",
       "78                0.005190  \n",
       "...                    ...  \n",
       "2480              0.224496  \n",
       "2503              0.607985  \n",
       "2506              0.233051  \n",
       "2513              0.164878  \n",
       "2521              0.184659  \n",
       "\n",
       "[338 rows x 9 columns]"
      ]
     },
     "execution_count": 160,
     "metadata": {},
     "output_type": "execute_result"
    }
   ],
   "source": [
    "df_inconsistency"
   ]
  },
  {
   "cell_type": "code",
   "execution_count": 161,
   "metadata": {},
   "outputs": [],
   "source": [
    "import numpy as np"
   ]
  },
  {
   "cell_type": "code",
   "execution_count": 162,
   "metadata": {},
   "outputs": [
    {
     "name": "stderr",
     "output_type": "stream",
     "text": [
      "C:\\Users\\arsen\\AppData\\Roaming\\Python\\Python37\\site-packages\\ipykernel_launcher.py:1: SettingWithCopyWarning: \n",
      "A value is trying to be set on a copy of a slice from a DataFrame.\n",
      "Try using .loc[row_indexer,col_indexer] = value instead\n",
      "\n",
      "See the caveats in the documentation: https://pandas.pydata.org/pandas-docs/stable/user_guide/indexing.html#returning-a-view-versus-a-copy\n",
      "  \"\"\"Entry point for launching an IPython kernel.\n"
     ]
    }
   ],
   "source": [
    "df_inconsistency[\"final_label\"]=df_inconsistency.apply(lambda x: x.distance_label if x.distance_to_distance<x.distance_to_logtis else x.predict_label, axis=1)"
   ]
  },
  {
   "cell_type": "code",
   "execution_count": 163,
   "metadata": {},
   "outputs": [],
   "source": [
    "# df_inconsistency[\"final_label\"]=df_inconsistency.apply(lambda x: x.distance_label if x.distance_to_distance+0.01<x.distance_to_logtis else x.predict_label, axis=1)"
   ]
  },
  {
   "cell_type": "code",
   "execution_count": 164,
   "metadata": {},
   "outputs": [
    {
     "data": {
      "text/html": [
       "<div>\n",
       "<style scoped>\n",
       "    .dataframe tbody tr th:only-of-type {\n",
       "        vertical-align: middle;\n",
       "    }\n",
       "\n",
       "    .dataframe tbody tr th {\n",
       "        vertical-align: top;\n",
       "    }\n",
       "\n",
       "    .dataframe thead th {\n",
       "        text-align: right;\n",
       "    }\n",
       "</style>\n",
       "<table border=\"1\" class=\"dataframe\">\n",
       "  <thead>\n",
       "    <tr style=\"text-align: right;\">\n",
       "      <th></th>\n",
       "      <th>undermine_score</th>\n",
       "      <th>support_score</th>\n",
       "      <th>cp_distance</th>\n",
       "      <th>cop_distance</th>\n",
       "      <th>predict_label</th>\n",
       "      <th>distance_label</th>\n",
       "      <th>gold</th>\n",
       "      <th>distance_to_logtis</th>\n",
       "      <th>distance_to_distance</th>\n",
       "      <th>final_label</th>\n",
       "    </tr>\n",
       "  </thead>\n",
       "  <tbody>\n",
       "    <tr>\n",
       "      <th>0</th>\n",
       "      <td>-4.223587</td>\n",
       "      <td>3.430138</td>\n",
       "      <td>0.020014</td>\n",
       "      <td>0.012879</td>\n",
       "      <td>1</td>\n",
       "      <td>0</td>\n",
       "      <td>1</td>\n",
       "      <td>0.108529</td>\n",
       "      <td>0.284723</td>\n",
       "      <td>1.0</td>\n",
       "    </tr>\n",
       "    <tr>\n",
       "      <th>3</th>\n",
       "      <td>-1.659985</td>\n",
       "      <td>2.563246</td>\n",
       "      <td>0.277413</td>\n",
       "      <td>0.157976</td>\n",
       "      <td>1</td>\n",
       "      <td>0</td>\n",
       "      <td>1</td>\n",
       "      <td>0.167804</td>\n",
       "      <td>0.151542</td>\n",
       "      <td>0.0</td>\n",
       "    </tr>\n",
       "    <tr>\n",
       "      <th>59</th>\n",
       "      <td>6.975863</td>\n",
       "      <td>-2.372392</td>\n",
       "      <td>1.920776</td>\n",
       "      <td>1.928768</td>\n",
       "      <td>0</td>\n",
       "      <td>1</td>\n",
       "      <td>1</td>\n",
       "      <td>0.245105</td>\n",
       "      <td>0.283707</td>\n",
       "      <td>0.0</td>\n",
       "    </tr>\n",
       "    <tr>\n",
       "      <th>73</th>\n",
       "      <td>1.812300</td>\n",
       "      <td>-0.927047</td>\n",
       "      <td>1.096693</td>\n",
       "      <td>1.661179</td>\n",
       "      <td>0</td>\n",
       "      <td>1</td>\n",
       "      <td>1</td>\n",
       "      <td>0.287402</td>\n",
       "      <td>0.376012</td>\n",
       "      <td>0.0</td>\n",
       "    </tr>\n",
       "    <tr>\n",
       "      <th>78</th>\n",
       "      <td>2.363664</td>\n",
       "      <td>-1.478531</td>\n",
       "      <td>1.179334</td>\n",
       "      <td>1.422178</td>\n",
       "      <td>0</td>\n",
       "      <td>1</td>\n",
       "      <td>1</td>\n",
       "      <td>0.198515</td>\n",
       "      <td>0.005190</td>\n",
       "      <td>1.0</td>\n",
       "    </tr>\n",
       "    <tr>\n",
       "      <th>...</th>\n",
       "      <td>...</td>\n",
       "      <td>...</td>\n",
       "      <td>...</td>\n",
       "      <td>...</td>\n",
       "      <td>...</td>\n",
       "      <td>...</td>\n",
       "      <td>...</td>\n",
       "      <td>...</td>\n",
       "      <td>...</td>\n",
       "      <td>...</td>\n",
       "    </tr>\n",
       "    <tr>\n",
       "      <th>2480</th>\n",
       "      <td>-3.776413</td>\n",
       "      <td>2.909049</td>\n",
       "      <td>0.075312</td>\n",
       "      <td>0.017392</td>\n",
       "      <td>1</td>\n",
       "      <td>0</td>\n",
       "      <td>0</td>\n",
       "      <td>0.030489</td>\n",
       "      <td>0.224496</td>\n",
       "      <td>1.0</td>\n",
       "    </tr>\n",
       "    <tr>\n",
       "      <th>2503</th>\n",
       "      <td>0.627612</td>\n",
       "      <td>-0.557652</td>\n",
       "      <td>0.694943</td>\n",
       "      <td>1.455035</td>\n",
       "      <td>0</td>\n",
       "      <td>1</td>\n",
       "      <td>0</td>\n",
       "      <td>0.412658</td>\n",
       "      <td>0.607985</td>\n",
       "      <td>0.0</td>\n",
       "    </tr>\n",
       "    <tr>\n",
       "      <th>2506</th>\n",
       "      <td>2.762536</td>\n",
       "      <td>-1.856774</td>\n",
       "      <td>0.735328</td>\n",
       "      <td>0.786035</td>\n",
       "      <td>0</td>\n",
       "      <td>1</td>\n",
       "      <td>0</td>\n",
       "      <td>0.135881</td>\n",
       "      <td>0.233051</td>\n",
       "      <td>0.0</td>\n",
       "    </tr>\n",
       "    <tr>\n",
       "      <th>2513</th>\n",
       "      <td>0.033896</td>\n",
       "      <td>-0.449516</td>\n",
       "      <td>0.755636</td>\n",
       "      <td>1.142089</td>\n",
       "      <td>0</td>\n",
       "      <td>1</td>\n",
       "      <td>1</td>\n",
       "      <td>0.469226</td>\n",
       "      <td>0.164878</td>\n",
       "      <td>1.0</td>\n",
       "    </tr>\n",
       "    <tr>\n",
       "      <th>2521</th>\n",
       "      <td>3.317570</td>\n",
       "      <td>-3.755074</td>\n",
       "      <td>1.281456</td>\n",
       "      <td>1.372968</td>\n",
       "      <td>0</td>\n",
       "      <td>1</td>\n",
       "      <td>0</td>\n",
       "      <td>0.061695</td>\n",
       "      <td>0.184659</td>\n",
       "      <td>0.0</td>\n",
       "    </tr>\n",
       "  </tbody>\n",
       "</table>\n",
       "<p>338 rows × 10 columns</p>\n",
       "</div>"
      ],
      "text/plain": [
       "      undermine_score  support_score  cp_distance  cop_distance  \\\n",
       "0           -4.223587       3.430138     0.020014      0.012879   \n",
       "3           -1.659985       2.563246     0.277413      0.157976   \n",
       "59           6.975863      -2.372392     1.920776      1.928768   \n",
       "73           1.812300      -0.927047     1.096693      1.661179   \n",
       "78           2.363664      -1.478531     1.179334      1.422178   \n",
       "...               ...            ...          ...           ...   \n",
       "2480        -3.776413       2.909049     0.075312      0.017392   \n",
       "2503         0.627612      -0.557652     0.694943      1.455035   \n",
       "2506         2.762536      -1.856774     0.735328      0.786035   \n",
       "2513         0.033896      -0.449516     0.755636      1.142089   \n",
       "2521         3.317570      -3.755074     1.281456      1.372968   \n",
       "\n",
       "      predict_label  distance_label  gold  distance_to_logtis  \\\n",
       "0                 1               0     1            0.108529   \n",
       "3                 1               0     1            0.167804   \n",
       "59                0               1     1            0.245105   \n",
       "73                0               1     1            0.287402   \n",
       "78                0               1     1            0.198515   \n",
       "...             ...             ...   ...                 ...   \n",
       "2480              1               0     0            0.030489   \n",
       "2503              0               1     0            0.412658   \n",
       "2506              0               1     0            0.135881   \n",
       "2513              0               1     1            0.469226   \n",
       "2521              0               1     0            0.061695   \n",
       "\n",
       "      distance_to_distance  final_label  \n",
       "0                 0.284723          1.0  \n",
       "3                 0.151542          0.0  \n",
       "59                0.283707          0.0  \n",
       "73                0.376012          0.0  \n",
       "78                0.005190          1.0  \n",
       "...                    ...          ...  \n",
       "2480              0.224496          1.0  \n",
       "2503              0.607985          0.0  \n",
       "2506              0.233051          0.0  \n",
       "2513              0.164878          1.0  \n",
       "2521              0.184659          0.0  \n",
       "\n",
       "[338 rows x 10 columns]"
      ]
     },
     "execution_count": 164,
     "metadata": {},
     "output_type": "execute_result"
    }
   ],
   "source": [
    "df_inconsistency"
   ]
  },
  {
   "cell_type": "code",
   "execution_count": 165,
   "metadata": {},
   "outputs": [
    {
     "data": {
      "text/plain": [
       "0.6287262872628726"
      ]
     },
     "execution_count": 165,
     "metadata": {},
     "output_type": "execute_result"
    }
   ],
   "source": [
    "f1_score(df_inconsistency.gold,df_inconsistency.final_label)"
   ]
  },
  {
   "cell_type": "code",
   "execution_count": 166,
   "metadata": {},
   "outputs": [
    {
     "data": {
      "text/plain": [
       "0.5696202531645569"
      ]
     },
     "execution_count": 166,
     "metadata": {},
     "output_type": "execute_result"
    }
   ],
   "source": [
    "f1_score(df_inconsistency.gold,df_inconsistency.predict_label)"
   ]
  },
  {
   "cell_type": "code",
   "execution_count": 167,
   "metadata": {},
   "outputs": [
    {
     "data": {
      "text/plain": [
       "0.49246231155778897"
      ]
     },
     "execution_count": 167,
     "metadata": {},
     "output_type": "execute_result"
    }
   ],
   "source": [
    "f1_score(df_inconsistency.gold,df_inconsistency.distance_label)"
   ]
  },
  {
   "cell_type": "code",
   "execution_count": null,
   "metadata": {},
   "outputs": [],
   "source": []
  }
 ],
 "metadata": {
  "kernelspec": {
   "display_name": "TensorFlow-GPU",
   "language": "python",
   "name": "tf-gpu"
  },
  "language_info": {
   "codemirror_mode": {
    "name": "ipython",
    "version": 3
   },
   "file_extension": ".py",
   "mimetype": "text/x-python",
   "name": "python",
   "nbconvert_exporter": "python",
   "pygments_lexer": "ipython3",
   "version": "3.7.6"
  }
 },
 "nbformat": 4,
 "nbformat_minor": 2
}
