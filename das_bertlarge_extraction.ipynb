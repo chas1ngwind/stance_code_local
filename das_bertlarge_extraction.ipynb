{
 "cells": [
  {
   "cell_type": "code",
   "execution_count": 5,
   "metadata": {},
   "outputs": [],
   "source": [
    "import pandas as pd\n",
    "import numpy as np"
   ]
  },
  {
   "cell_type": "code",
   "execution_count": 16,
   "metadata": {},
   "outputs": [
    {
     "data": {
      "text/html": [
       "<div>\n",
       "<style scoped>\n",
       "    .dataframe tbody tr th:only-of-type {\n",
       "        vertical-align: middle;\n",
       "    }\n",
       "\n",
       "    .dataframe tbody tr th {\n",
       "        vertical-align: top;\n",
       "    }\n",
       "\n",
       "    .dataframe thead th {\n",
       "        text-align: right;\n",
       "    }\n",
       "</style>\n",
       "<table border=\"1\" class=\"dataframe\">\n",
       "  <thead>\n",
       "    <tr style=\"text-align: right;\">\n",
       "      <th></th>\n",
       "      <th>undermine_score</th>\n",
       "      <th>support_score</th>\n",
       "      <th>gold</th>\n",
       "      <th>prediction</th>\n",
       "    </tr>\n",
       "  </thead>\n",
       "  <tbody>\n",
       "    <tr>\n",
       "      <th>0</th>\n",
       "      <td>-0.357119</td>\n",
       "      <td>-0.280110</td>\n",
       "      <td>0</td>\n",
       "      <td>1</td>\n",
       "    </tr>\n",
       "    <tr>\n",
       "      <th>1</th>\n",
       "      <td>-0.357118</td>\n",
       "      <td>-0.280107</td>\n",
       "      <td>1</td>\n",
       "      <td>1</td>\n",
       "    </tr>\n",
       "    <tr>\n",
       "      <th>2</th>\n",
       "      <td>-0.357119</td>\n",
       "      <td>-0.280110</td>\n",
       "      <td>1</td>\n",
       "      <td>1</td>\n",
       "    </tr>\n",
       "    <tr>\n",
       "      <th>3</th>\n",
       "      <td>-0.357119</td>\n",
       "      <td>-0.280110</td>\n",
       "      <td>1</td>\n",
       "      <td>1</td>\n",
       "    </tr>\n",
       "    <tr>\n",
       "      <th>4</th>\n",
       "      <td>-0.357116</td>\n",
       "      <td>-0.280102</td>\n",
       "      <td>1</td>\n",
       "      <td>1</td>\n",
       "    </tr>\n",
       "    <tr>\n",
       "      <th>...</th>\n",
       "      <td>...</td>\n",
       "      <td>...</td>\n",
       "      <td>...</td>\n",
       "      <td>...</td>\n",
       "    </tr>\n",
       "    <tr>\n",
       "      <th>2767</th>\n",
       "      <td>-0.357109</td>\n",
       "      <td>-0.280075</td>\n",
       "      <td>0</td>\n",
       "      <td>1</td>\n",
       "    </tr>\n",
       "    <tr>\n",
       "      <th>2768</th>\n",
       "      <td>-0.357109</td>\n",
       "      <td>-0.280077</td>\n",
       "      <td>0</td>\n",
       "      <td>1</td>\n",
       "    </tr>\n",
       "    <tr>\n",
       "      <th>2769</th>\n",
       "      <td>-0.357109</td>\n",
       "      <td>-0.280076</td>\n",
       "      <td>1</td>\n",
       "      <td>1</td>\n",
       "    </tr>\n",
       "    <tr>\n",
       "      <th>2770</th>\n",
       "      <td>-0.357109</td>\n",
       "      <td>-0.280077</td>\n",
       "      <td>1</td>\n",
       "      <td>1</td>\n",
       "    </tr>\n",
       "    <tr>\n",
       "      <th>2771</th>\n",
       "      <td>-0.357111</td>\n",
       "      <td>-0.280082</td>\n",
       "      <td>1</td>\n",
       "      <td>1</td>\n",
       "    </tr>\n",
       "  </tbody>\n",
       "</table>\n",
       "<p>2772 rows × 4 columns</p>\n",
       "</div>"
      ],
      "text/plain": [
       "      undermine_score  support_score  gold  prediction\n",
       "0           -0.357119      -0.280110     0           1\n",
       "1           -0.357118      -0.280107     1           1\n",
       "2           -0.357119      -0.280110     1           1\n",
       "3           -0.357119      -0.280110     1           1\n",
       "4           -0.357116      -0.280102     1           1\n",
       "...               ...            ...   ...         ...\n",
       "2767        -0.357109      -0.280075     0           1\n",
       "2768        -0.357109      -0.280077     0           1\n",
       "2769        -0.357109      -0.280076     1           1\n",
       "2770        -0.357109      -0.280077     1           1\n",
       "2771        -0.357111      -0.280082     1           1\n",
       "\n",
       "[2772 rows x 4 columns]"
      ]
     },
     "execution_count": 16,
     "metadata": {},
     "output_type": "execute_result"
    }
   ],
   "source": [
    "# raw_score = pd.read_csv('D:/Projects/Stance/Evaluation/bert_dummy_output/test_raw_score.csv')\n",
    "raw_score = pd.read_csv('D:/Jupyter/stance_code/Evaluation/bert_dummy_output/test_raw_score.csv')\n",
    "# raw_score['prediction'] = [1 if raw_score.undermine_score < raw_score.support_score]\n",
    "f = lambda x: 1 if x.undermine_score < x.support_score else 0\n",
    "raw_score['prediction'] = raw_score.apply(f, axis=1)\n",
    "raw_score[raw_score.prediction == 1]"
   ]
  },
  {
   "cell_type": "code",
   "execution_count": 57,
   "metadata": {},
   "outputs": [],
   "source": [
    "gold = pd.read_csv('D:/Projects/Stance/Dataset/test.tsv', sep='\\t',header=None)\n",
    "gold.columns=['original_label','x','y', 'claims','perpectives']\n",
    "gold.drop([0],axis=0, inplace=True)\n",
    "gold = gold.reset_index(drop=True)"
   ]
  },
  {
   "cell_type": "code",
   "execution_count": 72,
   "metadata": {},
   "outputs": [],
   "source": [
    "result = pd.concat([gold,raw_score], axis=1)\n",
    "result.drop(['x','y','original_label'],axis=1,inplace=True)\n",
    "result = result.rename(columns={'gold':'gold_label'})"
   ]
  },
  {
   "cell_type": "code",
   "execution_count": 74,
   "metadata": {},
   "outputs": [],
   "source": [
    "failed_result = result[result['predict_label']!=result['gold_label']]\n",
    "failed_result_gold_1 = failed_result[failed_result['gold_label'] == 1]\n",
    "failed_result_gold_0 = failed_result[failed_result['gold_label'] == 0]"
   ]
  },
  {
   "cell_type": "code",
   "execution_count": 83,
   "metadata": {},
   "outputs": [],
   "source": [
    "# failed_result.to_csv('D:/Projects/Stance/Evaluation/Examples/failed.csv')\n",
    "failed_result.to_excel('D:/Projects/Stance/Evaluation/Examples/failed.xlsx')"
   ]
  },
  {
   "cell_type": "code",
   "execution_count": 86,
   "metadata": {},
   "outputs": [],
   "source": [
    "# failed_result_gold_1.to_csv('D:/Projects/Stance/Evaluation/Examples/failed_gold_1.csv')\n",
    "failed_result_gold_1.to_excel('D:/Projects/Stance/Evaluation/Examples/failed_gold_1.xlsx')"
   ]
  },
  {
   "cell_type": "code",
   "execution_count": 89,
   "metadata": {},
   "outputs": [],
   "source": [
    "# failed_result_gold_0.to_csv('D:/Projects/Stance/Evaluation/Examples/failed_gold_0.csv')\n",
    "failed_result_gold_0.to_excel('D:/Projects/Stance/Evaluation/Examples/failed_gold_0.xlsx')"
   ]
  },
  {
   "cell_type": "code",
   "execution_count": null,
   "metadata": {},
   "outputs": [],
   "source": []
  }
 ],
 "metadata": {
  "kernelspec": {
   "display_name": "TensorFlow-GPU",
   "language": "python",
   "name": "tf-gpu"
  },
  "language_info": {
   "codemirror_mode": {
    "name": "ipython",
    "version": 3
   },
   "file_extension": ".py",
   "mimetype": "text/x-python",
   "name": "python",
   "nbconvert_exporter": "python",
   "pygments_lexer": "ipython3",
   "version": "3.7.6"
  }
 },
 "nbformat": 4,
 "nbformat_minor": 2
}
